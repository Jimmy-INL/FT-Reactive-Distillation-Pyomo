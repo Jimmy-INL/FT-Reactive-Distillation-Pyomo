{
 "cells": [
  {
   "cell_type": "markdown",
   "metadata": {
    "slideshow": {
     "slide_type": "slide"
    }
   },
   "source": [
    "# 2nd Level Model Structure: Reboiler"
   ]
  },
  {
   "cell_type": "code",
   "execution_count": 1,
   "metadata": {},
   "outputs": [],
   "source": [
    "import sys\n",
    "import os\n",
    "import pickle\n",
    "sys.path.append(os.path.abspath('..'))\n",
    "import numpy as np\n",
    "from matplotlib import pyplot as plt"
   ]
  },
  {
   "cell_type": "code",
   "execution_count": 2,
   "metadata": {
    "slideshow": {
     "slide_type": "fragment"
    }
   },
   "outputs": [],
   "source": [
    "from pyomo import environ as pe\n",
    "from global_sets.component import m\n",
    "from utility.display_utility import trans_product_mole, trans_product_mass\n",
    "from utility.model_utility import add_dual, update_dual, check_DOF\n",
    "\n",
    "# stage construction rules\n",
    "from physics.energy_reboiler import energy_block_rule\n",
    "from physics.VLE_reboiler_MPCC_P import VLE_block_rule\n",
    "from physics.MPCC_P import P_NCP_block_rule, P_Reg_block_rule, P_pf_block_rule\n",
    "\n",
    "model = pe.ConcreteModel()"
   ]
  },
  {
   "cell_type": "markdown",
   "metadata": {
    "slideshow": {
     "slide_type": "subslide"
    }
   },
   "source": [
    "# Global Sets (Inlet / Outlet)"
   ]
  },
  {
   "cell_type": "code",
   "execution_count": 3,
   "metadata": {
    "slideshow": {
     "slide_type": "fragment"
    }
   },
   "outputs": [],
   "source": [
    "model.inlet = pe.Set(initialize=['in'])\n",
    "model.outlet = pe.Set(initialize=['out','P'])\n",
    "model.stream = model.inlet | model.outlet"
   ]
  },
  {
   "cell_type": "markdown",
   "metadata": {
    "slideshow": {
     "slide_type": "subslide"
    }
   },
   "source": [
    "# Global Variables"
   ]
  },
  {
   "cell_type": "code",
   "execution_count": 4,
   "metadata": {
    "slideshow": {
     "slide_type": "fragment"
    }
   },
   "outputs": [],
   "source": [
    "# Tray Inlet/Outlet Variable\n",
    "model.x_ = pe.Var(model.inlet,m.COMP_TOTAL,within=pe.NonNegativeReals)\n",
    "model.y_ = pe.Var(model.inlet,m.COMP_TOTAL,within=pe.NonNegativeReals)\n",
    "model.x = pe.Var(m.COMP_TOTAL,within=pe.NonNegativeReals)\n",
    "model.y = pe.Var(m.COMP_TOTAL,within=pe.NonNegativeReals)\n",
    "model.z = pe.Var(m.COMP_FEED,within=pe.NonNegativeReals)\n",
    "\n",
    "model.L = pe.Var(model.stream,within=pe.NonNegativeReals)\n",
    "model.V = pe.Var(model.stream,within=pe.NonNegativeReals)\n",
    "model.F = pe.Var(within=pe.NonNegativeReals)\n",
    "\n",
    "model.H_L_ = pe.Var(model.inlet,within=pe.Reals)\n",
    "model.H_V_ = pe.Var(model.inlet,within=pe.Reals)\n",
    "model.H_L = pe.Var(within=pe.Reals)\n",
    "model.H_V = pe.Var(within=pe.Reals)\n",
    "model.H_F = pe.Var(within=pe.Reals)\n",
    "\n",
    "# State Variable\n",
    "model.T = pe.Var(within=pe.NonNegativeReals,bounds=(200+273.15,350+273.15)) # K\n",
    "model.T_F = pe.Var(within=pe.NonNegativeReals) # K\n",
    "model.P = pe.Var(within=pe.NonNegativeReals,bounds=(10,30)) # Bar\n",
    "\n",
    "model.f_V = pe.Var(m.COMP_TOTAL,within=pe.NonNegativeReals,initialize=1e-20)\n",
    "model.f_L = pe.Var(m.COMP_TOTAL,within=pe.NonNegativeReals,initialize=1e-20)\n",
    "\n",
    "model.Q_main = pe.Var(within=pe.Reals) # MW"
   ]
  },
  {
   "cell_type": "markdown",
   "metadata": {
    "slideshow": {
     "slide_type": "slide"
    }
   },
   "source": [
    "# Construct Individual Blocks"
   ]
  },
  {
   "cell_type": "code",
   "execution_count": 5,
   "metadata": {
    "slideshow": {
     "slide_type": "subslide"
    }
   },
   "outputs": [
    {
     "name": "stdout",
     "output_type": "stream",
     "text": [
      "> Importing Energy Blocks......\n",
      "> Adding the following local variable:\n",
      "--------------------------------------------------\n",
      "| energy_block.dH_F\n",
      "| energy_block.dH_V\n",
      "| energy_block.dH_L\n",
      "| energy_block.dH_vap\n",
      "--------------------------------------------------\n",
      "\n"
     ]
    }
   ],
   "source": [
    "model.energy_block = pe.Block(rule=energy_block_rule)"
   ]
  },
  {
   "cell_type": "code",
   "execution_count": 6,
   "metadata": {
    "scrolled": false,
    "slideshow": {
     "slide_type": "subslide"
    }
   },
   "outputs": [
    {
     "name": "stdout",
     "output_type": "stream",
     "text": [
      "> Importing VLE Blocks......\n",
      "> Adding the following local variable:\n",
      "--------------------------------------------------\n",
      "| VLE_block.P_VLE\n",
      "| VLE_block.n_ave\n",
      "| VLE_block.n_ave_cal\n",
      "| VLE_block.Hen\n",
      "| VLE_block.Hen0\n",
      "| VLE_block.gamma\n",
      "| VLE_block.P_sat\n",
      "| VLE_block.P_sat_Y\n",
      "| VLE_block.P_sat_dY_inf\n",
      "| VLE_block.P_sat_dY0\n",
      "| VLE_block.Hen_ref\n",
      "| VLE_block.Hen0_ref\n",
      "| VLE_block.gamma_ref\n",
      "| VLE_block.V_L\n",
      "| VLE_block.V_L_dY_inf\n",
      "| VLE_block.V_L_dY0\n",
      "| VLE_block.poynting\n",
      "--------------------------------------------------\n",
      "\n"
     ]
    }
   ],
   "source": [
    "model.VLE_block = pe.Block(rule=VLE_block_rule)"
   ]
  },
  {
   "cell_type": "markdown",
   "metadata": {
    "slideshow": {
     "slide_type": "slide"
    }
   },
   "source": [
    "# Standard MESH Equations"
   ]
  },
  {
   "cell_type": "markdown",
   "metadata": {
    "slideshow": {
     "slide_type": "subslide"
    }
   },
   "source": [
    "## Mass Balance"
   ]
  },
  {
   "cell_type": "markdown",
   "metadata": {
    "slideshow": {
     "slide_type": "fragment"
    }
   },
   "source": [
    "\\begin{equation}\n",
    "Fz_{i}+\\sum_{s\\in{inlet}}L_{s}x'_{i,s}+\\sum_{s\\in{inlet}}V_{s}y'_{i,s}-\\sum_{s\\in{outlet}}L_{s}x_{i,s}+\\sum_{s\\in{ouelet}}V_{s}y_{i,s}+R_{i} = 0 \\\\\n",
    "i = 1,...NC\n",
    "\\end{equation}"
   ]
  },
  {
   "cell_type": "code",
   "execution_count": 7,
   "metadata": {
    "slideshow": {
     "slide_type": "fragment"
    }
   },
   "outputs": [],
   "source": [
    "def mass_balance_main_rule(model,i):\n",
    "    if i in m.COMP_FEED:\n",
    "        return model.F*model.z[i] + sum(model.L[s]*model.x_[s,i] + model.V[s]*model.y_[s,i] for s in model.inlet)\\\n",
    "        - sum(model.L[s]*model.x[i] + model.V[s]*model.y[i] for s in model.outlet) == 0\n",
    "    else:\n",
    "        return sum(model.L[s]*model.x_[s,i] + model.V[s]*model.y_[s,i] for s in model.inlet)\\\n",
    "        - sum(model.L[s]*model.x[i] + model.V[s]*model.y[i] for s in model.outlet) == 0\n",
    "model.mass_balance_main_con = pe.Constraint(m.COMP_TOTAL,rule=mass_balance_main_rule)"
   ]
  },
  {
   "cell_type": "markdown",
   "metadata": {
    "slideshow": {
     "slide_type": "subslide"
    }
   },
   "source": [
    "## Equilibrium"
   ]
  },
  {
   "cell_type": "markdown",
   "metadata": {
    "slideshow": {
     "slide_type": "fragment"
    }
   },
   "source": [
    "\\begin{align}\n",
    "&f_{i,V} = f_{i,L} \\\\\n",
    "&i = 1,...NC\n",
    "\\end{align}"
   ]
  },
  {
   "cell_type": "code",
   "execution_count": 8,
   "metadata": {
    "slideshow": {
     "slide_type": "fragment"
    }
   },
   "outputs": [],
   "source": [
    "def VL_equil_rule(model,i):\n",
    "    return model.f_V[i] == model.f_L[i]\n",
    "model.VL_equil_con = pe.Constraint(m.COMP_TOTAL,rule=VL_equil_rule)"
   ]
  },
  {
   "cell_type": "markdown",
   "metadata": {},
   "source": [
    "# MPCC - P-Pspec"
   ]
  },
  {
   "cell_type": "code",
   "execution_count": 9,
   "metadata": {},
   "outputs": [
    {
     "name": "stdout",
     "output_type": "stream",
     "text": [
      "> Importing MPCC_P_Reg Blocks......\n",
      "> Adding the following local variable:\n",
      "--------------------------------------------------\n",
      "| MPCC.s_L\n",
      "| MPCC.s_V\n",
      "| MPCC.pf\n",
      "| MPCC.rho\n",
      "--------------------------------------------------\n",
      "> Spliting pressure used in VLE\n",
      "\n"
     ]
    }
   ],
   "source": [
    "model.MPCC = pe.Block(rule = P_pf_block_rule)"
   ]
  },
  {
   "cell_type": "markdown",
   "metadata": {
    "slideshow": {
     "slide_type": "subslide"
    }
   },
   "source": [
    "## Summation"
   ]
  },
  {
   "cell_type": "markdown",
   "metadata": {
    "slideshow": {
     "slide_type": "fragment"
    }
   },
   "source": [
    "\\begin{equation}\n",
    "\\sum_ix_{i} = \\sum_iy_{i} \\\\\n",
    "F + L_{in} + V_{in} + R = L_{out} + V_{out}\n",
    "\\end{equation}"
   ]
  },
  {
   "cell_type": "code",
   "execution_count": 10,
   "metadata": {
    "slideshow": {
     "slide_type": "fragment"
    }
   },
   "outputs": [],
   "source": [
    "def summation_x_y_rule(model):\n",
    "    return sum(model.x[i] for i in m.COMP_TOTAL) == sum(model.y[i] for i in m.COMP_TOTAL)\n",
    "model.summation_x_y_con = pe.Constraint(rule=summation_x_y_rule)\n",
    "\n",
    "def summation_total_mass_rule(model):\n",
    "    return model.F + sum(model.L[s] + model.V[s] for s in model.inlet)\\\n",
    "            - sum(model.L[s] + model.V[s] for s in model.outlet) == 0\n",
    "model.summation_total_mass_con = pe.Constraint(rule=summation_total_mass_rule)"
   ]
  },
  {
   "cell_type": "markdown",
   "metadata": {
    "slideshow": {
     "slide_type": "subslide"
    }
   },
   "source": [
    "## Energy Balance"
   ]
  },
  {
   "cell_type": "markdown",
   "metadata": {
    "slideshow": {
     "slide_type": "fragment"
    }
   },
   "source": [
    "\\begin{equation}\n",
    "F H_f+\\sum_{s\\in{inlet}}L_{s}H_{l,s}+\\sum_{s\\in{inlet}}V_{s}H_{v,s}-\\sum_{s\\in{outlet}}L_{s}H_{l,s}-\\sum_{s\\in{outlet}}V_{s}H_{v,s}+Q = 0\n",
    "\\end{equation}"
   ]
  },
  {
   "cell_type": "code",
   "execution_count": 11,
   "metadata": {
    "slideshow": {
     "slide_type": "fragment"
    }
   },
   "outputs": [],
   "source": [
    "def heat_balance_main_rule(model):\n",
    "    return model.F*model.H_F + sum(model.L[s]*model.H_L_[s] + model.V[s]*model.H_V_[s] for s in model.inlet) \\\n",
    "            + model.Q_main - sum(model.L[s]*model.H_L + model.V[s]*model.H_V for s in model.outlet) == 0\n",
    "model.heat_balance_main_con = pe.Constraint(rule=heat_balance_main_rule)"
   ]
  },
  {
   "cell_type": "markdown",
   "metadata": {
    "slideshow": {
     "slide_type": "slide"
    }
   },
   "source": [
    "# Testing"
   ]
  },
  {
   "cell_type": "code",
   "execution_count": 12,
   "metadata": {
    "slideshow": {
     "slide_type": "fragment"
    }
   },
   "outputs": [
    {
     "name": "stdout",
     "output_type": "stream",
     "text": [
      "Created the follow pyomo suffixes:\n",
      "ipopt_zL_out, ipopt_zU_out, ipopt_zL_in, ipopt_zU_in, dual\n"
     ]
    }
   ],
   "source": [
    "add_dual(pe,model)"
   ]
  },
  {
   "cell_type": "markdown",
   "metadata": {},
   "source": [
    "# Load a flash liquid composition as feed"
   ]
  },
  {
   "cell_type": "code",
   "execution_count": 13,
   "metadata": {},
   "outputs": [],
   "source": [
    "with open('../saved_solutions/reactive_flash_MPCC_P_pf_200C.pickle', 'rb') as f:\n",
    "    C200 = pickle.load(f)"
   ]
  },
  {
   "cell_type": "markdown",
   "metadata": {
    "slideshow": {
     "slide_type": "fragment"
    }
   },
   "source": [
    "## Fixing In/Product Redundent Flow"
   ]
  },
  {
   "cell_type": "code",
   "execution_count": 14,
   "metadata": {
    "slideshow": {
     "slide_type": "fragment"
    }
   },
   "outputs": [],
   "source": [
    "model.y_.fix(0)\n",
    "for i in m.COMP_TOTAL:\n",
    "    model.x_['in',i].fix(C200.Solution.Variable['x[{}]'.format(i)]['Value'])\n",
    "model.L['in'].fix(1)\n",
    "model.L['P'].fix(0)\n",
    "model.V['in'].fix(0)\n",
    "model.V['P'].fix(0)\n",
    "model.H_V_.fix(0)\n",
    "model.H_L_.fix(C200.Solution.Variable['H_L']['Value'])"
   ]
  },
  {
   "cell_type": "markdown",
   "metadata": {
    "slideshow": {
     "slide_type": "subslide"
    }
   },
   "source": [
    "## Fixing Model Parameters"
   ]
  },
  {
   "cell_type": "code",
   "execution_count": 15,
   "metadata": {
    "slideshow": {
     "slide_type": "fragment"
    }
   },
   "outputs": [],
   "source": [
    "model.P.fix(20)\n",
    "model.T_F.fix(200+273.15)\n",
    "model.F.fix(0)\n",
    "model.z.fix(0)\n",
    "model.VLE_block.n_ave.fix(20)\n",
    "model.Q_main.fix(0)"
   ]
  },
  {
   "cell_type": "code",
   "execution_count": 16,
   "metadata": {
    "scrolled": true,
    "slideshow": {
     "slide_type": "fragment"
    }
   },
   "outputs": [
    {
     "name": "stdout",
     "output_type": "stream",
     "text": [
      "Active Equality Constraints:\t 957\n",
      "Active Inequality Constraints:\t 1\n",
      "Active Variables:\t\t 1132\n",
      "Fixed Variables:\t\t 172\n",
      "DOF:\t\t\t\t 3\n"
     ]
    }
   ],
   "source": [
    "check_DOF(pe,model)"
   ]
  },
  {
   "cell_type": "markdown",
   "metadata": {
    "slideshow": {
     "slide_type": "subslide"
    }
   },
   "source": [
    "## Fix T or to fix Q? we have found that Maximize against an upper bound is most reliable"
   ]
  },
  {
   "cell_type": "code",
   "execution_count": 17,
   "metadata": {
    "slideshow": {
     "slide_type": "fragment"
    }
   },
   "outputs": [],
   "source": [
    "model.T.setub(300+273.15)"
   ]
  },
  {
   "cell_type": "code",
   "execution_count": 18,
   "metadata": {
    "slideshow": {
     "slide_type": "fragment"
    }
   },
   "outputs": [],
   "source": [
    "# model.obj = pe.Objective(expr = model.T ,sense=pe.maximize)\n",
    "# model.obj = pe.Objective(expr = model.MPCC.pf,sense=pe.minimize)\n",
    "model.obj = pe.Objective(expr = - model.MPCC.pf ,sense=pe.maximize)"
   ]
  },
  {
   "cell_type": "code",
   "execution_count": 19,
   "metadata": {
    "scrolled": false,
    "slideshow": {
     "slide_type": "fragment"
    }
   },
   "outputs": [
    {
     "name": "stdout",
     "output_type": "stream",
     "text": [
      "Ipopt 3.12.8: print_user_options=yes\n",
      "linear_solver=ma86\n",
      "linear_system_scaling =mc19\n",
      "linear_scaling_on_demand =no\n",
      "max_iter=7000\n",
      "\n",
      "\n",
      "List of user-set options:\n",
      "\n",
      "                                    Name   Value                used\n",
      "                linear_scaling_on_demand = no                    yes\n",
      "                           linear_solver = ma86                  yes\n",
      "                   linear_system_scaling = mc19                  yes\n",
      "                                max_iter = 7000                  yes\n",
      "                      print_user_options = yes                   yes\n",
      "\n",
      "******************************************************************************\n",
      "This program contains Ipopt, a library for large-scale nonlinear optimization.\n",
      " Ipopt is released as open source code under the Eclipse Public License (EPL).\n",
      "         For more information visit http://projects.coin-or.org/Ipopt\n",
      "******************************************************************************\n",
      "\n",
      "This is Ipopt version 3.12.8, running with linear solver ma86.\n",
      "\n",
      "Number of nonzeros in equality constraint Jacobian...:     3223\n",
      "Number of nonzeros in inequality constraint Jacobian.:        5\n",
      "Number of nonzeros in Lagrangian Hessian.............:     4317\n",
      "\n",
      "Total number of variables............................:      960\n",
      "                     variables with only lower bounds:      325\n",
      "                variables with lower and upper bounds:      628\n",
      "                     variables with only upper bounds:        0\n",
      "Total number of equality constraints.................:      957\n",
      "Total number of inequality constraints...............:        1\n",
      "        inequality constraints with only lower bounds:        0\n",
      "   inequality constraints with lower and upper bounds:        0\n",
      "        inequality constraints with only upper bounds:        1\n",
      "\n",
      "iter    objective    inf_pr   inf_du lg(mu)  ||d||  lg(rg) alpha_du alpha_pr  ls\n",
      "   0  9.9999900e-03 1.38e+04 1.00e+00  -1.0 0.00e+00    -  0.00e+00 0.00e+00   0\n",
      "   1  1.0001368e-02 1.38e+04 4.32e+02  -1.0 4.25e+05    -  6.89e-07 1.36e-05h  1\n",
      "   2r 1.0001368e-02 1.38e+04 9.99e+02   4.1 0.00e+00    -  0.00e+00 6.57e-08R  2\n",
      "   3r 1.0216064e-02 1.38e+04 1.02e+04   4.1 5.60e+05    -  1.99e-03 3.43e-08f  1\n",
      "   4r 1.1877385e-02 3.84e+03 1.00e+04   2.0 4.24e+05    -  4.20e-04 1.78e-02f  1\n",
      "   5  1.1884996e-02 3.84e+03 2.83e+02  -1.0 4.59e+04    -  9.23e-05 8.73e-05h  1\n",
      "   6r 1.1884996e-02 3.84e+03 9.99e+02   3.5 0.00e+00    -  0.00e+00 4.42e-07R  2\n",
      "   7r 1.7010933e-02 3.84e+03 9.99e+02   3.5 8.50e+05    -  8.04e-05 2.64e-06f  1\n",
      "   8r 9.3256523e-02 2.93e+03 1.01e+03   2.8 8.94e+05    -  7.87e-03 8.24e-04f  1\n",
      "   9  9.3377573e-02 2.93e+03 2.35e+02  -1.0 3.91e+04    -  2.96e-04 8.28e-04h  1\n",
      "iter    objective    inf_pr   inf_du lg(mu)  ||d||  lg(rg) alpha_du alpha_pr  ls\n",
      "  10r 9.3377573e-02 2.93e+03 9.99e+02   3.4 0.00e+00    -  0.00e+00 3.55e-07R  5\n",
      "  11r 9.6506131e-02 2.93e+03 2.27e+03   3.4 8.93e+05    -  3.46e-03 4.90e-06f  1\n",
      "  12r 1.2737414e-01 5.13e+02 2.31e+03   2.7 6.15e+05    -  4.45e-03 3.87e-03f  1\n",
      "  13  1.2926180e-01 5.13e+02 8.09e+02  -1.0 9.44e+04    -  1.04e-03 5.95e-04h  1\n",
      "  14r 1.2926180e-01 5.13e+02 9.99e+02   2.7 0.00e+00    -  0.00e+00 2.64e-07R  5\n",
      "  15r 1.4966516e-01 5.13e+02 9.99e+02   2.7 5.80e+04    -  3.58e-03 9.52e-05f  1\n",
      "  16r 2.0816957e-01 5.13e+02 9.94e+02   2.0 5.30e+04    -  1.25e-03 5.07e-03f  1\n",
      "  17r 2.1734843e-01 5.13e+02 9.93e+02   2.0 2.61e+05    -  2.50e-03 7.03e-04f  1\n",
      "  18r 3.1306771e-01 5.12e+02 9.86e+02   2.0 3.25e+04    -  5.66e-03 7.38e-03f  1\n",
      "  19r 3.8015451e-01 5.11e+02 9.81e+02   2.0 1.51e+04    -  8.84e-03 4.63e-03f  1\n",
      "iter    objective    inf_pr   inf_du lg(mu)  ||d||  lg(rg) alpha_du alpha_pr  ls\n",
      "  20r 6.5030266e-01 5.09e+02 9.82e+02   2.0 1.01e+03   0.0 2.13e-02 2.97e-02f  1\n",
      "  21r 1.0062915e+00 5.05e+02 9.85e+02   2.0 3.20e+03  -0.5 4.82e-02 4.18e-02f  1\n",
      "  22r 1.2299202e+00 5.03e+02 5.39e+03   2.0 9.25e+03  -1.0 9.14e-02 2.62e-02f  1\n",
      "  23r 1.2750663e+00 5.02e+02 1.81e+04   2.0 7.33e+02    -  2.79e-01 8.57e-03f  1\n",
      "  24r 3.4642335e+00 4.82e+02 1.33e+04   2.0 5.76e+02    -  3.13e-02 2.18e-01f  1\n",
      "  25r 1.7658250e+00 4.74e+02 1.11e+04   1.3 4.84e+01   0.4 1.61e-01 1.58e-01f  1\n",
      "  26r 1.8005859e+00 4.72e+02 1.17e+04   1.3 1.20e+03    -  5.49e-04 1.17e-02f  1\n",
      "  27r 1.5899094e+00 4.71e+02 1.18e+04   1.3 2.19e+02  -0.1 5.73e-04 6.15e-03f  1\n",
      "  28r 1.6445801e+00 4.71e+02 1.51e+04   1.3 5.25e+02   0.3 2.76e-02 9.70e-04f  1\n",
      "  29r 4.5350555e+00 4.29e+02 6.03e+03   1.3 2.50e+02    -  4.87e-01 2.23e-01f  1\n",
      "iter    objective    inf_pr   inf_du lg(mu)  ||d||  lg(rg) alpha_du alpha_pr  ls\n",
      "  30  4.5291497e+00 4.28e+02 5.33e+01  -1.0 5.31e+03    -  8.71e-02 2.02e-03h  1\n",
      "  31  3.6454327e+00 2.67e+02 2.31e+04  -1.0 6.18e+03    -  1.05e-01 3.76e-01h  1\n",
      "  32  3.6181177e+00 2.63e+02 2.28e+04  -1.0 5.35e+03    -  3.00e-02 1.61e-02h  1\n",
      "  33  3.6178332e+00 2.63e+02 2.28e+04  -1.0 5.33e+03    -  4.57e-01 1.69e-04h  1\n",
      "  34  3.6200744e+00 2.63e+02 1.64e+06  -1.0 2.32e+03    -  1.01e-02 1.31e-04h  1\n",
      "  35  3.6257461e+00 2.63e+02 2.16e+08  -1.0 2.29e+03    -  1.06e-02 8.11e-05h  1\n",
      "  36r 3.6257461e+00 2.63e+02 1.00e+03   2.4 0.00e+00    -  0.00e+00 3.07e-07R  3\n",
      "  37r 3.6792276e+00 2.46e+02 1.85e+04   2.4 1.47e+04    -  6.63e-02 1.12e-03f  1\n",
      "  38r 3.7527129e+00 3.96e+01 1.79e+04   1.7 1.20e+04    -  3.98e-02 2.04e-02f  1\n",
      "  39  3.7501960e+00 3.95e+01 4.14e+02  -1.0 4.83e+03    -  8.06e-02 3.46e-03h  1\n",
      "iter    objective    inf_pr   inf_du lg(mu)  ||d||  lg(rg) alpha_du alpha_pr  ls\n",
      "  40  3.7162008e+00 3.88e+01 1.01e+02  -1.0 5.38e+03    -  1.03e-01 2.07e-02h  1\n",
      "  41  3.7158448e+00 3.88e+01 5.54e+04  -1.0 5.35e+03    -  2.20e-01 2.21e-04h  1\n",
      "  42  3.7164687e+00 3.88e+01 3.10e+07  -1.0 2.54e+03    -  1.75e-02 3.09e-05h  1\n",
      "  43r 3.7164687e+00 3.88e+01 1.00e+03   1.5 0.00e+00    -  0.00e+00 2.88e-07R  5\n",
      "  44r 3.7303310e+00 7.77e+00 1.97e+03   1.5 3.17e+04    -  7.95e-02 9.98e-04f  1\n",
      "  45  3.7294985e+00 7.76e+00 6.08e+02  -1.0 5.46e+03    -  1.13e-01 4.34e-04h  1\n",
      "  46r 3.7294985e+00 7.76e+00 9.99e+02   0.9 0.00e+00    -  0.00e+00 2.63e-07R  6\n",
      "  47r 3.7361104e+00 6.82e+00 9.97e+02   0.9 1.30e+04    -  5.07e-03 1.23e-03f  1\n",
      "  48  3.7357568e+00 6.82e+00 1.60e+03  -1.0 5.38e+03    -  1.52e-01 2.30e-04h  1\n",
      "  49  3.7358977e+00 6.82e+00 3.21e+06  -1.0 2.79e+03    -  3.43e-02 1.71e-05h  1\n",
      "iter    objective    inf_pr   inf_du lg(mu)  ||d||  lg(rg) alpha_du alpha_pr  ls\n",
      "  50  3.7382966e+00 6.82e+00 8.62e+08  -1.0 2.39e+03    -  1.05e-02 3.88e-05h  1\n",
      "  51r 3.7382966e+00 6.82e+00 1.00e+03   0.8 0.00e+00    -  0.00e+00 1.95e-07R  2\n",
      "  52r 3.7740068e+00 3.09e+00 9.95e+02   0.8 1.27e+04    -  5.95e-03 3.89e-03f  1\n",
      "  53  3.7732408e+00 3.08e+00 1.69e+03  -1.0 5.74e+03    -  2.63e-01 3.71e-04h  1\n",
      "  54r 3.7732408e+00 3.08e+00 9.99e+02   0.5 0.00e+00    -  0.00e+00 4.67e-07R  5\n",
      "  55r 3.7810950e+00 1.76e+00 9.96e+02   0.5 5.93e+03    -  5.55e-03 2.30e-03f  1\n",
      "  56  3.7809024e+00 1.76e+00 5.49e+03  -1.0 5.71e+03    -  2.47e-01 1.14e-04h  1\n",
      "  57  3.7810485e+00 1.76e+00 1.29e+07  -1.0 2.97e+03    -  3.43e-02 1.45e-05h  1\n",
      "  58  3.7823027e+00 1.76e+00 7.71e+09  -1.0 2.74e+03    -  1.23e-02 2.03e-05h  1\n",
      "  59r 3.7823027e+00 1.76e+00 1.00e+03   0.2 0.00e+00    -  0.00e+00 1.06e-07R  2\n",
      "iter    objective    inf_pr   inf_du lg(mu)  ||d||  lg(rg) alpha_du alpha_pr  ls\n",
      "  60r 3.8299680e+00 1.67e+00 9.94e+02   0.2 2.30e+03    -  1.30e-02 4.96e-03f  1\n",
      "  61r 3.9846760e+00 1.44e+01 9.76e+02   0.2 1.88e+03    -  4.63e-02 1.82e-02f  1\n",
      "  62r 4.0804654e+00 2.34e+01 9.45e+02   0.2 1.66e+03    -  1.18e-01 3.12e-02f  1\n",
      "  63r 3.9685794e+00 2.82e+01 8.99e+02   0.2 1.73e+03    -  1.59e-01 4.92e-02f  1\n",
      "  64r 3.9642859e+00 2.80e+01 1.21e+03   0.2 1.07e+03    -  3.13e-01 8.19e-03f  1\n",
      "  65r 4.0982641e+00 4.42e+01 8.24e+02   0.2 9.90e+02    -  6.52e-03 1.64e-01f  1\n",
      "  66r 4.3716376e+00 4.09e+01 9.63e+02   0.2 6.97e+02    -  4.68e-01 2.51e-01f  1\n",
      "  67r 4.4110638e+00 3.94e+01 1.39e+03   0.2 7.10e+02    -  8.19e-01 3.66e-02f  1\n",
      "  68r 5.0022268e+00 1.97e+01 7.70e+02   0.2 2.92e+02    -  9.79e-01 5.29e-01f  1\n",
      "  69r 5.5316258e+00 3.73e-01 9.69e+01   0.2 1.53e+02    -  1.00e+00 1.00e+00f  1\n",
      "iter    objective    inf_pr   inf_du lg(mu)  ||d||  lg(rg) alpha_du alpha_pr  ls\n",
      "  70  5.5245452e+00 3.79e-01 1.90e+01  -1.0 7.04e+03    -  1.06e-01 2.93e-03h  5\n",
      "  71  5.5162049e+00 3.90e-01 5.03e+01  -1.0 6.97e+03    -  1.45e-01 3.95e-03h  4\n",
      "  72  5.5150710e+00 3.94e-01 1.16e+02  -1.0 7.01e+03    -  9.91e-02 2.53e-03h  5\n",
      "  73  5.5174664e+00 4.00e-01 5.78e+02  -1.0 7.08e+03    -  4.07e-01 2.98e-03h  6\n",
      "  74  5.5096108e+00 4.07e-01 6.65e+02  -1.0 7.11e+03    -  4.94e-01 3.15e-03h  8\n",
      "  75  5.4984475e+00 4.13e-01 7.17e+02  -1.0 7.09e+03    -  6.17e-01 3.15e-03h  8\n",
      "  76  5.4835493e+00 4.20e-01 8.43e+02  -1.0 7.08e+03    -  2.39e-01 3.15e-03h  8\n",
      "  77  5.4679796e+00 4.27e-01 1.08e+03  -1.0 7.06e+03    -  4.07e-01 3.16e-03h  8\n",
      "  78  5.4543379e+00 4.30e-01 1.20e+03  -1.0 7.11e+03    -  2.63e-01 2.36e-03h  8\n",
      "  79  5.4380540e+00 4.37e-01 1.63e+03  -1.0 7.10e+03    -  7.72e-01 3.14e-03h  8\n",
      "iter    objective    inf_pr   inf_du lg(mu)  ||d||  lg(rg) alpha_du alpha_pr  ls\n",
      "  80  3.4697422e+00 1.29e+02 7.95e+02  -1.0 7.06e+03    -  1.02e-01 4.03e-01w  1\n",
      "  81  3.2158975e+00 1.25e+02 7.38e+02  -1.0 3.54e+03    -  2.22e-03 3.49e-02w  1\n"
     ]
    },
    {
     "name": "stdout",
     "output_type": "stream",
     "text": [
      "  82  3.2062398e+00 1.24e+02 1.70e+04  -1.0 4.36e+03    -  1.00e-01 3.81e-03w  1\n",
      "  83  5.4226766e+00 4.44e-01 1.68e+03  -1.0 2.52e+03    -  1.02e-01 3.15e-03h  7\n",
      "  84  5.4076243e+00 4.50e-01 1.84e+03  -1.0 7.06e+03    -  2.98e-01 3.15e-03h  8\n",
      "  85  5.3923604e+00 4.57e-01 1.91e+03  -1.0 7.03e+03    -  1.24e-01 3.16e-03h  8\n",
      "  86  5.3772072e+00 4.63e-01 2.82e+03  -1.0 7.01e+03    -  8.95e-01 3.16e-03h  8\n",
      "  87  5.3616442e+00 4.70e-01 3.43e+03  -1.0 6.97e+03    -  1.55e-01 3.18e-03h  8\n",
      "  88  5.3462639e+00 4.76e-01 8.31e+03  -1.0 6.96e+03    -  1.00e+00 3.18e-03h  8\n",
      "  89  5.3306029e+00 4.83e-01 1.08e+04  -1.0 6.92e+03    -  2.15e-01 3.19e-03h  8\n",
      "iter    objective    inf_pr   inf_du lg(mu)  ||d||  lg(rg) alpha_du alpha_pr  ls\n",
      "  90  5.3150365e+00 4.89e-01 2.58e+04  -1.0 6.90e+03    -  1.00e+00 3.19e-03h  8\n",
      "  91  5.2992402e+00 4.95e-01 3.93e+04  -1.0 6.86e+03    -  3.79e-01 3.20e-03h  8\n",
      "  92  5.2834174e+00 5.02e-01 7.21e+04  -1.0 6.84e+03    -  6.07e-01 3.21e-03h  8\n",
      "  93  3.2367375e+00 1.27e+02 1.01e+05  -1.0 6.81e+03    -  1.00e+00 4.12e-01w  1\n",
      "  94  3.1276228e+00 1.23e+02 6.56e+04  -1.0 4.02e+03    -  5.36e-03 2.96e-02w  1\n",
      "  95  3.1263149e+00 1.23e+02 3.90e+06  -1.0 3.98e+03    -  5.42e-02 4.14e-04w  1\n",
      "  96  5.2674277e+00 5.08e-01 1.71e+05  -1.0 4.09e+03    -  1.00e+00 3.22e-03h  7\n",
      "  97  5.2512024e+00 5.14e-01 2.19e+05  -1.0 6.77e+03    -  2.07e-01 3.23e-03h  8\n",
      "  98  5.2385403e+00 5.18e-01 5.17e+05  -1.0 6.75e+03    -  1.00e+00 2.52e-03h  8\n",
      "  99  5.2231928e+00 5.23e-01 6.59e+05  -1.0 6.72e+03    -  2.08e-01 3.03e-03h  7\n",
      "iter    objective    inf_pr   inf_du lg(mu)  ||d||  lg(rg) alpha_du alpha_pr  ls\n",
      " 100  5.2082369e+00 5.28e-01 1.55e+06  -1.0 6.70e+03    -  1.00e+00 2.97e-03h  7\n",
      " 101  5.1934536e+00 5.33e-01 1.99e+06  -1.0 6.68e+03    -  2.14e-01 2.95e-03h  7\n",
      " 102  5.1770985e+00 5.39e-01 4.66e+06  -1.0 6.67e+03    -  1.00e+00 3.28e-03h  7\n",
      " 103  5.1572025e+00 5.48e-01 6.02e+06  -1.0 6.65e+03    -  2.25e-01 4.02e-03h  7\n",
      " 104  5.1462273e+00 5.51e-01 1.41e+07  -1.0 6.63e+03    -  1.00e+00 2.23e-03h  8\n",
      " 105  5.1339320e+00 5.54e-01 1.85e+07  -1.0 6.62e+03    -  2.35e-01 2.51e-03h  8\n",
      " 106  3.4754098e+00 8.25e+01 2.88e+07  -1.0 6.61e+03    -  1.00e+00 3.40e-01w  1\n",
      " 107  2.4849304e+00 9.49e+01 8.23e+06  -1.0 4.55e+03    -  1.74e-02 3.14e-01w  1\n",
      " 108  2.4576024e+00 9.38e+01 3.68e+07  -1.0 3.17e+03    -  2.54e-02 1.26e-02w  1\n",
      " 109  5.1209748e+00 5.58e-01 4.35e+07  -1.0 3.11e+03    -  1.00e+00 2.66e-03h  7\n",
      "iter    objective    inf_pr   inf_du lg(mu)  ||d||  lg(rg) alpha_du alpha_pr  ls\n",
      " 110  5.1071592e+00 5.62e-01 5.76e+07  -1.0 6.59e+03    -  2.42e-01 2.84e-03h  8\n",
      " 111  5.0929084e+00 5.66e-01 1.36e+08  -1.0 6.58e+03    -  1.00e+00 2.94e-03h  8\n",
      " 112  5.0782655e+00 5.71e-01 1.81e+08  -1.0 6.56e+03    -  2.50e-01 3.04e-03h  8\n",
      " 113  5.0633051e+00 5.76e-01 4.28e+08  -1.0 6.54e+03    -  1.00e+00 3.11e-03h  8\n",
      " 114  5.0481938e+00 5.81e-01 5.74e+08  -1.0 6.53e+03    -  2.57e-01 3.15e-03h  8\n",
      " 115  5.0328302e+00 5.87e-01 1.35e+09  -1.0 6.51e+03    -  1.00e+00 3.22e-03h  8\n",
      " 116  5.0174476e+00 5.92e-01 1.82e+09  -1.0 6.49e+03    -  2.65e-01 3.23e-03h  8\n",
      " 117  5.0018524e+00 5.98e-01 4.26e+09  -1.0 6.47e+03    -  1.00e+00 3.29e-03h  8\n",
      " 118  4.9863147e+00 6.03e-01 5.79e+09  -1.0 6.45e+03    -  2.73e-01 3.29e-03h  8\n",
      " 119  2.9830320e+00 1.23e+02 7.79e+09  -1.0 6.43e+03    -  1.00e+00 4.25e-01w  1\n",
      "iter    objective    inf_pr   inf_du lg(mu)  ||d||  lg(rg) alpha_du alpha_pr  ls\n",
      " 120  2.8957360e+00 1.19e+02 4.74e+09  -1.0 3.83e+03    -  1.93e-03 3.28e-02w  1\n",
      " 121  2.8947872e+00 1.19e+02 1.78e+12  -1.0 3.74e+03    -  4.66e-02 3.68e-04w  1\n",
      " 122  4.9706641e+00 6.09e-01 1.35e+10  -1.0 2.05e+03    -  1.00e+00 3.32e-03h  7\n",
      " 123  4.9550443e+00 6.15e-01 1.85e+10  -1.0 6.41e+03    -  2.82e-01 3.33e-03h  8\n",
      " 124  4.9394527e+00 6.20e-01 4.30e+10  -1.0 6.39e+03    -  1.00e+00 3.33e-03h  8\n",
      " 125  4.9238894e+00 6.26e-01 5.92e+10  -1.0 6.38e+03    -  2.90e-01 3.34e-03h  8\n",
      " 126  4.9083560e+00 6.31e-01 1.37e+11  -1.0 6.36e+03    -  1.00e+00 3.35e-03h  8\n",
      " 127  4.8928507e+00 6.37e-01 1.87e+11  -1.0 6.34e+03    -  2.98e-01 3.35e-03h  8\n",
      " 128  4.8773757e+00 6.42e-01 2.41e+11  -1.0 6.32e+03    -  1.00e+00 3.36e-03h  8\n",
      " 129  4.8619723e+00 6.47e-01 2.41e+11  -1.0 6.30e+03    -  3.11e-01 3.36e-03h  8\n",
      "iter    objective    inf_pr   inf_du lg(mu)  ||d||  lg(rg) alpha_du alpha_pr  ls\n",
      " 130  4.8465983e+00 6.53e-01 2.99e+11  -1.0 6.28e+03    -  1.00e+00 3.37e-03h  8\n",
      " 131  4.8312598e+00 6.58e-01 2.99e+11  -1.0 6.27e+03    -  3.20e-01 3.37e-03h  8\n",
      " 132  2.8715573e+00 1.21e+02 3.68e+11  -1.0 6.25e+03    -  1.00e+00 4.32e-01w  1\n",
      " 133  2.7844454e+00 1.17e+02 2.95e+11  -1.0 3.69e+03    -  5.67e-03 3.39e-02w  1\n",
      " 134  2.7832816e+00 1.17e+02 6.16e+13  -1.0 3.39e+03    -  5.18e-02 4.26e-04w  1\n",
      " 135  4.8159496e+00 6.63e-01 2.99e+11  -1.0 2.23e+03    -  1.00e+00 3.38e-03h  7\n",
      " 136  4.8006697e+00 6.68e-01 2.99e+11  -1.0 6.23e+03    -  3.30e-01 3.38e-03h  8\n",
      " 137  4.7854182e+00 6.74e-01 3.56e+11  -1.0 6.21e+03    -  1.00e+00 3.39e-03h  8\n",
      " 138  4.7701988e+00 6.79e-01 3.56e+11  -1.0 6.19e+03    -  3.39e-01 3.39e-03h  8\n",
      " 139  4.7550125e+00 6.84e-01 3.56e+11  -1.0 6.17e+03    -  1.00e+00 3.40e-03h  8\n",
      "iter    objective    inf_pr   inf_du lg(mu)  ||d||  lg(rg) alpha_du alpha_pr  ls\n",
      " 140  4.7398843e+00 6.89e-01 3.56e+11  -1.0 6.16e+03    -  3.52e-01 3.40e-03h  8\n",
      " 141  4.7248223e+00 6.94e-01 3.56e+11  -1.0 6.14e+03    -  6.10e-01 3.41e-03h  8\n",
      " 142  4.7103713e+00 6.99e-01 3.56e+11  -1.0 6.17e+03    -  8.39e-02 3.39e-03h  8\n",
      " 143  4.6959849e+00 7.04e-01 3.56e+11  -1.0 6.15e+03    -  8.38e-02 3.40e-03h  8\n",
      " 144  4.6816317e+00 7.09e-01 3.56e+11  -1.0 6.14e+03    -  8.74e-02 3.40e-03h  8\n",
      " 145  2.8484884e+00 1.19e+02 1.84e+11  -1.0 6.12e+03    -  1.01e-01 4.36e-01w  1\n",
      " 146  2.7235204e+00 1.15e+02 1.58e+11  -1.0 3.39e+03    -  8.83e-03 3.82e-02w  1\n",
      " 147  2.7074256e+00 1.15e+02 4.42e+12  -1.0 1.95e+03    -  2.97e-02 1.75e-03w  1\n",
      " 148  4.6673102e+00 7.14e-01 3.56e+11  -1.0 1.50e+03    -  1.01e-01 3.41e-03h  7\n",
      " 149  4.6530204e+00 7.19e-01 4.01e+11  -1.0 6.10e+03    -  1.00e+00 3.41e-03h  8\n",
      "iter    objective    inf_pr   inf_du lg(mu)  ||d||  lg(rg) alpha_du alpha_pr  ls\n",
      " 150  4.6388884e+00 7.24e-01 4.04e+11  -1.0 6.08e+03    -  1.03e-01 3.42e-03h  8\n",
      " 151  4.6247735e+00 7.29e-01 4.58e+11  -1.0 6.06e+03    -  1.00e+00 3.42e-03h  8\n",
      " 152  4.6106807e+00 7.34e-01 4.63e+11  -1.0 6.04e+03    -  1.12e-01 3.43e-03h  8\n",
      " 153  4.5966110e+00 7.38e-01 5.25e+11  -1.0 6.02e+03    -  1.00e+00 3.44e-03h  8\n",
      " 154  4.5826319e+00 7.43e-01 5.29e+11  -1.0 6.01e+03    -  1.13e-01 3.44e-03h  8\n",
      " 155  4.5686728e+00 7.48e-01 5.81e+11  -1.0 5.99e+03    -  1.00e+00 3.45e-03h  8\n",
      " 156  4.5547425e+00 7.53e-01 5.86e+11  -1.0 5.97e+03    -  1.23e-01 3.45e-03h  8\n",
      " 157  4.5408335e+00 7.57e-01 6.35e+11  -1.0 5.95e+03    -  7.80e-01 3.46e-03h  8\n",
      " 158  2.7684539e+00 1.17e+02 3.65e+11  -1.0 5.93e+03    -  1.33e-01 4.43e-01w  1\n",
      " 159  2.6463462e+00 1.13e+02 3.17e+11  -1.0 3.26e+03    -  1.14e-02 3.89e-02w  1\n",
      "iter    objective    inf_pr   inf_du lg(mu)  ||d||  lg(rg) alpha_du alpha_pr  ls\n",
      " 160  2.6256776e+00 1.13e+02 3.49e+12  -1.0 1.88e+03    -  3.18e-02 2.07e-03w  1\n",
      " 161  4.5269868e+00 7.62e-01 6.40e+11  -1.0 1.53e+03    -  1.33e-01 3.46e-03h  7\n",
      " 162  4.5131632e+00 7.67e-01 6.98e+11  -1.0 5.91e+03    -  1.00e+00 3.47e-03h  8\n",
      " 163  4.4993816e+00 7.71e-01 7.03e+11  -1.0 5.89e+03    -  1.36e-01 3.48e-03h  8\n",
      " 164  4.4856189e+00 7.76e-01 7.59e+11  -1.0 5.87e+03    -  8.80e-01 3.48e-03h  8\n",
      " 165  4.4719054e+00 7.80e-01 7.66e+11  -1.0 5.86e+03    -  1.47e-01 3.49e-03h  8\n",
      " 166  4.4582161e+00 7.84e-01 8.29e+11  -1.0 5.84e+03    -  1.00e+00 3.49e-03h  8\n",
      " 167  4.4445798e+00 7.89e-01 8.35e+11  -1.0 5.82e+03    -  1.50e-01 3.50e-03h  8\n",
      " 168  4.4309653e+00 7.93e-01 8.95e+11  -1.0 5.80e+03    -  9.93e-01 3.50e-03h  8\n",
      " 169  4.4173890e+00 7.98e-01 9.02e+11  -1.0 5.78e+03    -  1.59e-01 3.51e-03h  8\n",
      "iter    objective    inf_pr   inf_du lg(mu)  ||d||  lg(rg) alpha_du alpha_pr  ls\n",
      " 170  4.4038354e+00 8.02e-01 9.67e+11  -1.0 5.76e+03    -  1.00e+00 3.52e-03h  8\n",
      " 171  2.6772113e+00 1.14e+02 5.65e+11  -1.0 5.74e+03    -  1.63e-01 4.51e-01w  1\n",
      " 172  2.5570721e+00 1.10e+02 4.99e+11  -1.0 3.13e+03    -  1.39e-02 4.06e-02w  1\n",
      " 173  2.5387706e+00 1.10e+02 5.11e+12  -1.0 1.88e+03    -  3.62e-02 1.90e-03w  1\n",
      " 174  4.3903462e+00 8.06e-01 9.72e+11  -1.0 1.51e+03    -  1.63e-01 3.52e-03h  7\n",
      " 175  4.3768785e+00 8.10e-01 1.02e+12  -1.0 5.73e+03    -  1.00e+00 3.53e-03h  8\n"
     ]
    },
    {
     "name": "stdout",
     "output_type": "stream",
     "text": [
      " 176  4.3634481e+00 8.15e-01 1.03e+12  -1.0 5.71e+03    -  1.72e-01 3.53e-03h  8\n",
      " 177  4.3500374e+00 8.19e-01 1.09e+12  -1.0 5.69e+03    -  1.00e+00 3.54e-03h  8\n",
      " 178  4.3366583e+00 8.23e-01 1.10e+12  -1.0 5.67e+03    -  1.82e-01 3.54e-03h  8\n",
      " 179  4.3233012e+00 8.27e-01 1.16e+12  -1.0 5.65e+03    -  1.00e+00 3.55e-03h  8\n",
      "iter    objective    inf_pr   inf_du lg(mu)  ||d||  lg(rg) alpha_du alpha_pr  ls\n",
      " 180  4.3100019e+00 8.31e-01 1.16e+12  -1.0 5.63e+03    -  1.87e-01 3.56e-03h  8\n",
      " 181  4.2967239e+00 8.35e-01 1.22e+12  -1.0 5.61e+03    -  1.00e+00 3.56e-03h  8\n",
      " 182  4.2834828e+00 8.39e-01 1.22e+12  -1.0 5.60e+03    -  1.96e-01 3.57e-03h  8\n",
      " 183  4.2702612e+00 8.43e-01 1.28e+12  -1.0 5.58e+03    -  1.00e+00 3.57e-03h  8\n",
      " 184  2.5816698e+00 1.12e+02 7.39e+11  -1.0 5.56e+03    -  2.07e-01 4.58e-01w  1\n",
      " 185  2.4604432e+00 1.07e+02 6.56e+11  -1.0 2.99e+03    -  1.68e-02 4.27e-02w  1\n",
      " 186  2.4415496e+00 1.07e+02 6.09e+12  -1.0 1.83e+03    -  3.95e-02 2.03e-03w  1\n",
      " 187  4.2570691e+00 8.47e-01 1.28e+12  -1.0 1.49e+03    -  2.07e-01 3.58e-03h  7\n",
      " 188  4.2438955e+00 8.51e-01 1.35e+12  -1.0 5.54e+03    -  1.00e+00 3.59e-03h  8\n",
      " 189  4.2307649e+00 8.55e-01 1.35e+12  -1.0 5.52e+03    -  2.15e-01 3.59e-03h  8\n",
      "iter    objective    inf_pr   inf_du lg(mu)  ||d||  lg(rg) alpha_du alpha_pr  ls\n",
      " 190  4.2176574e+00 8.58e-01 1.41e+12  -1.0 5.50e+03    -  1.00e+00 3.60e-03h  8\n",
      " 191  4.2045949e+00 8.62e-01 1.41e+12  -1.0 5.48e+03    -  2.22e-01 3.60e-03h  8\n",
      " 192  4.1915527e+00 8.66e-01 1.46e+12  -1.0 5.47e+03    -  1.00e+00 3.61e-03h  8\n",
      " 193  4.1785485e+00 8.70e-01 1.47e+12  -1.0 5.45e+03    -  2.31e-01 3.61e-03h  8\n",
      " 194  4.1655637e+00 8.73e-01 1.51e+12  -1.0 5.43e+03    -  1.00e+00 3.62e-03h  8\n",
      " 195  4.1526097e+00 8.77e-01 1.52e+12  -1.0 5.41e+03    -  2.42e-01 3.63e-03h  8\n",
      " 196  4.1396744e+00 8.80e-01 1.57e+12  -1.0 5.39e+03    -  1.00e+00 3.63e-03h  8\n",
      " 197  2.4886786e+00 1.09e+02 9.09e+11  -1.0 5.37e+03    -  2.51e-01 4.66e-01w  1\n",
      " 198  2.3658873e+00 1.05e+02 8.08e+11  -1.0 2.84e+03    -  2.01e-02 4.52e-02w  1\n",
      " 199  2.3459818e+00 1.04e+02 6.99e+12  -1.0 1.76e+03    -  4.30e-02 2.23e-03w  1\n",
      "iter    objective    inf_pr   inf_du lg(mu)  ||d||  lg(rg) alpha_du alpha_pr  ls\n",
      " 200  4.1267760e+00 8.84e-01 1.58e+12  -1.0 1.46e+03    -  2.51e-01 3.64e-03h  7\n",
      " 201  4.1138978e+00 8.88e-01 1.63e+12  -1.0 5.36e+03    -  1.00e+00 3.65e-03h  8\n",
      " 202  4.1010685e+00 8.91e-01 1.63e+12  -1.0 5.34e+03    -  2.57e-01 3.65e-03h  8\n",
      " 203  4.0882593e+00 8.94e-01 1.67e+12  -1.0 5.32e+03    -  1.00e+00 3.66e-03h  8\n",
      " 204  4.0754858e+00 8.98e-01 1.67e+12  -1.0 5.30e+03    -  2.67e-01 3.66e-03h  8\n",
      " 205  4.0627317e+00 9.01e-01 1.70e+12  -1.0 5.28e+03    -  1.00e+00 3.67e-03h  8\n",
      " 206  4.0500114e+00 9.05e-01 1.70e+12  -1.0 5.26e+03    -  2.77e-01 3.68e-03h  8\n",
      " 207  4.0373102e+00 9.08e-01 1.73e+12  -1.0 5.25e+03    -  1.00e+00 3.68e-03h  8\n",
      " 208  4.0246419e+00 9.11e-01 1.73e+12  -1.0 5.23e+03    -  2.88e-01 3.69e-03h  8\n",
      " 209  4.0119916e+00 9.14e-01 1.76e+12  -1.0 5.21e+03    -  1.00e+00 3.70e-03h  8\n",
      "iter    objective    inf_pr   inf_du lg(mu)  ||d||  lg(rg) alpha_du alpha_pr  ls\n",
      " 210  2.3954162e+00 1.07e+02 1.01e+12  -1.0 5.19e+03    -  3.02e-01 4.74e-01w  1\n",
      " 211  2.2695772e+00 1.02e+02 8.96e+11  -1.0 2.70e+03    -  2.43e-02 4.81e-02w  1\n",
      " 212  2.2483366e+00 1.02e+02 7.85e+12  -1.0 1.69e+03    -  4.66e-02 2.50e-03w  1\n",
      " 213  3.9993621e+00 9.18e-01 1.77e+12  -1.0 1.43e+03    -  3.02e-01 3.70e-03h  7\n",
      " 214  3.9867530e+00 9.21e-01 1.79e+12  -1.0 5.17e+03    -  6.14e-01 3.71e-03h  8\n",
      " 215  3.9741718e+00 9.24e-01 1.80e+12  -1.0 5.16e+03    -  3.91e-01 3.72e-03h  8\n",
      " 216  3.9616161e+00 9.27e-01 1.81e+12  -1.0 5.14e+03    -  3.42e-01 3.72e-03h  8\n",
      " 217  3.9490852e+00 9.30e-01 1.84e+12  -1.0 5.12e+03    -  8.53e-01 3.73e-03h  8\n",
      " 218  3.9365940e+00 9.33e-01 1.84e+12  -1.0 5.10e+03    -  2.20e-01 3.73e-03h  8\n",
      " 219  3.9241210e+00 9.36e-01 1.87e+12  -1.0 5.08e+03    -  1.00e+00 3.74e-03h  8\n",
      "iter    objective    inf_pr   inf_du lg(mu)  ||d||  lg(rg) alpha_du alpha_pr  ls\n",
      " 220  3.9116848e+00 9.39e-01 1.87e+12  -1.0 5.07e+03    -  2.01e-01 3.75e-03h  8\n",
      " 221  3.8992655e+00 9.42e-01 1.89e+12  -1.0 5.05e+03    -  1.00e+00 3.75e-03h  8\n",
      " 222  3.8868794e+00 9.45e-01 1.89e+12  -1.0 5.03e+03    -  1.89e-01 3.76e-03h  8\n",
      " 223  2.3035418e+00 1.04e+02 1.08e+12  -1.0 5.01e+03    -  1.00e+00 4.82e-01w  1\n",
      " 224  2.1448549e+00 9.86e+01 9.16e+11  -1.0 2.50e+03    -  3.03e-02 5.40e-02w  1\n",
      " 225  2.1148115e+00 9.83e+01 9.10e+12  -1.0 1.57e+03    -  4.65e-02 3.66e-03w  1\n",
      " 226  3.8745095e+00 9.48e-01 1.91e+12  -1.0 1.40e+03    -  1.00e+00 3.77e-03h  7\n",
      " 227  3.8621693e+00 9.51e-01 1.91e+12  -1.0 4.99e+03    -  1.76e-01 3.77e-03h  8\n",
      " 228  3.8498438e+00 9.53e-01 1.93e+12  -1.0 4.98e+03    -  1.00e+00 3.78e-03h  8\n",
      " 229  3.8375436e+00 9.56e-01 1.93e+12  -1.0 4.96e+03    -  1.64e-01 3.79e-03h  8\n",
      "iter    objective    inf_pr   inf_du lg(mu)  ||d||  lg(rg) alpha_du alpha_pr  ls\n",
      " 230  3.8252586e+00 9.59e-01 1.97e+12  -1.0 4.94e+03    -  1.00e+00 3.80e-03h  8\n",
      " 231  3.8130013e+00 9.62e-01 1.97e+12  -1.0 4.92e+03    -  1.51e-01 3.80e-03h  8\n",
      " 232  3.8007590e+00 9.64e-01 2.01e+12  -1.0 4.90e+03    -  1.00e+00 3.81e-03h  8\n",
      " 233  3.7885491e+00 9.67e-01 2.01e+12  -1.0 4.89e+03    -  1.37e-01 3.82e-03h  8\n",
      " 234  3.7763543e+00 9.69e-01 2.05e+12  -1.0 4.87e+03    -  1.00e+00 3.82e-03h  8\n",
      " 235  3.7641891e+00 9.72e-01 2.04e+12  -1.0 4.85e+03    -  1.23e-01 3.83e-03h  8\n",
      " 236  2.2088603e+00 1.01e+02 1.16e+12  -1.0 4.83e+03    -  1.00e+00 4.91e-01w  1\n",
      " 237  2.0558688e+00 9.57e+01 1.01e+12  -1.0 2.39e+03    -  3.86e-02 5.69e-02w  1\n",
      " 238  2.0263294e+00 9.54e+01 1.10e+13  -1.0 1.53e+03    -  5.21e-02 3.89e-03w  1\n",
      " 239  3.7520381e+00 9.75e-01 2.09e+12  -1.0 1.37e+03    -  1.00e+00 3.84e-03h  7\n",
      "iter    objective    inf_pr   inf_du lg(mu)  ||d||  lg(rg) alpha_du alpha_pr  ls\n",
      " 240  3.7399188e+00 9.77e-01 2.09e+12  -1.0 4.81e+03    -  1.09e-01 3.84e-03h  8\n",
      " 241  3.7278137e+00 9.79e-01 2.13e+12  -1.0 4.80e+03    -  1.00e+00 3.85e-03h  8\n",
      " 242  3.7157253e+00 9.82e-01 2.13e+12  -1.0 4.78e+03    -  9.44e-02 3.86e-03h  8\n",
      " 243  3.7036513e+00 9.84e-01 2.17e+12  -1.0 4.76e+03    -  1.00e+00 3.87e-03h  8\n",
      " 244  3.6915775e+00 9.87e-01 2.17e+12  -1.0 4.74e+03    -  7.94e-02 3.87e-03h  8\n",
      " 245  3.6795206e+00 9.89e-01 2.17e+12  -1.0 4.72e+03    -  1.00e+00 3.88e-03h  8\n",
      " 246  3.6674348e+00 9.91e-01 2.17e+12  -1.0 4.70e+03    -  6.40e-02 3.89e-03h  8\n",
      " 247  3.6553718e+00 9.93e-01 2.17e+12  -1.0 4.68e+03    -  8.99e-01 3.90e-03h  8\n",
      " 248  3.6493289e+00 9.93e-01 2.17e+12  -1.0 4.66e+03    -  4.85e-02 1.95e-03h  9\n",
      " 249  2.1042725e+00 9.83e+01 1.25e+12  -1.0 4.65e+03    -  1.00e+00 5.01e-01w  1\n",
      "iter    objective    inf_pr   inf_du lg(mu)  ||d||  lg(rg) alpha_du alpha_pr  ls\n",
      " 250  1.9641504e+00 9.29e+01 1.26e+12  -1.0 2.29e+03    -  8.84e-02 5.93e-02w  1\n",
      " 251  1.9298180e+00 9.25e+01 1.50e+13  -1.0 1.46e+03    -  5.66e-02 4.85e-03w  1\n",
      " 252  3.6432935e+00 9.93e-01 2.18e+12  -1.0 1.33e+03    -  1.00e+00 1.96e-03h  8\n",
      " 253  3.6372360e+00 9.92e-01 2.18e+12  -1.0 4.64e+03    -  4.04e-02 1.96e-03h  9\n",
      " 254  3.6311897e+00 9.92e-01 2.18e+12  -1.0 4.63e+03    -  6.52e-01 1.96e-03h  9\n",
      " 255  3.6251353e+00 9.91e-01 2.18e+12  -1.0 4.62e+03    -  3.33e-02 1.96e-03h  9\n",
      " 256  3.6221176e+00 9.91e-01 2.18e+12  -1.0 4.61e+03    -  3.53e-01 9.83e-04h 10\n",
      " 257  3.6190980e+00 9.90e-01 2.18e+12  -1.0 4.60e+03    -  2.84e-02 9.84e-04h 10\n",
      " 258  3.6161365e+00 9.89e-01 2.18e+12  -1.0 4.60e+03    -  1.00e+00 9.68e-04h 10\n",
      " 259  3.6134805e+00 9.89e-01 2.18e+12  -1.0 4.59e+03    -  2.31e-02 8.64e-04h 10\n",
      "iter    objective    inf_pr   inf_du lg(mu)  ||d||  lg(rg) alpha_du alpha_pr  ls\n",
      " 260  3.6111040e+00 9.88e-01 2.18e+12  -1.0 4.58e+03    -  2.59e-01 7.76e-04h 10\n",
      " 261  3.6089592e+00 9.88e-01 2.18e+12  -1.0 4.58e+03    -  2.26e-02 7.01e-04h 10\n",
      " 262  2.6142943e+00 4.11e+01 1.63e+12  -1.0 4.57e+03    -  1.00e+00 3.26e-01w  1\n",
      " 263  2.2928203e+00 3.92e+01 1.27e+12  -1.0 3.12e+03    -  3.42e-02 1.39e-01w  1\n",
      " 264  1.2213938e+00 6.18e+01 8.38e+11  -1.0 2.70e+03    -  1.00e+00 5.37e-01w  1\n",
      " 265  3.6070165e+00 9.87e-01 2.18e+12  -1.0 1.25e+03    -  1.00e+00 6.37e-04h  9\n",
      " 266  3.6052255e+00 9.87e-01 2.18e+12  -1.0 4.56e+03    -  1.80e-02 5.83e-04h 10\n",
      " 267  3.6035839e+00 9.87e-01 2.18e+12  -1.0 4.56e+03    -  2.53e-01 5.36e-04h 10\n",
      " 268  3.6020664e+00 9.86e-01 2.18e+12  -1.0 4.55e+03    -  1.86e-02 4.96e-04h 10\n",
      " 269  3.6006594e+00 9.86e-01 2.18e+12  -1.0 4.55e+03    -  1.00e+00 4.61e-04h 10\n",
      "iter    objective    inf_pr   inf_du lg(mu)  ||d||  lg(rg) alpha_du alpha_pr  ls\n",
      " 270  3.5993311e+00 9.85e-01 2.18e+12  -1.0 4.54e+03    -  1.51e-02 4.31e-04h 10\n",
      " 271  3.5980858e+00 9.85e-01 2.18e+12  -1.0 4.53e+03    -  2.49e-01 4.05e-04h 10\n",
      " 272  3.5969093e+00 9.85e-01 2.18e+12  -1.0 4.53e+03    -  1.65e-02 3.82e-04h 10\n",
      " 273  3.5957946e+00 9.84e-01 2.18e+12  -1.0 4.52e+03    -  1.00e+00 3.62e-04h 10\n",
      " 274  3.5947237e+00 9.84e-01 2.18e+12  -1.0 4.51e+03    -  1.36e-02 3.45e-04h 10\n",
      " 275  3.0701110e+00 1.15e+01 1.85e+12  -1.0 4.51e+03    -  2.46e-01 1.69e-01w  1\n",
      " 276  2.9934878e+00 1.14e+01 1.91e+12  -1.0 3.80e+03    -  1.70e-01 2.87e-02w  1\n",
      " 277  2.9925164e+00 1.14e+01 2.45e+12  -1.0 3.70e+03    -  1.00e+00 3.74e-04w  1\n",
      " 278  3.5936991e+00 9.84e-01 2.18e+12  -1.0 2.85e+03    -  2.46e-01 3.31e-04h  9\n",
      " 279  3.5927133e+00 9.84e-01 2.18e+12  -1.0 4.50e+03    -  1.57e-02 3.18e-04h 10\n"
     ]
    },
    {
     "name": "stdout",
     "output_type": "stream",
     "text": [
      "iter    objective    inf_pr   inf_du lg(mu)  ||d||  lg(rg) alpha_du alpha_pr  ls\n",
      " 280  3.5917617e+00 9.83e-01 2.18e+12  -1.0 4.50e+03    -  1.00e+00 3.06e-04h 10\n",
      " 281  3.5899145e+00 9.83e-01 2.18e+12  -1.0 4.50e+03    -  1.29e-02 5.93e-04h  9\n",
      " 282  3.5881604e+00 9.82e-01 2.18e+12  -1.0 4.49e+03    -  2.44e-01 5.62e-04h  9\n",
      " 283  3.5611690e+00 1.00e+00 2.17e+12  -1.0 4.48e+03    -  1.59e-02 8.63e-03h  5\n",
      " 284  3.5455581e+00 1.01e+00 2.19e+12  -1.0 4.45e+03    -  1.00e+00 4.92e-03h  6\n",
      " 285  3.5410800e+00 1.00e+00 2.19e+12  -1.0 4.45e+03    -  3.76e-02 1.46e-03h  8\n",
      " 286  3.5364089e+00 1.00e+00 2.19e+12  -1.0 4.45e+03    -  2.23e-01 1.52e-03h  8\n",
      " 287  3.5315491e+00 1.00e+00 2.19e+12  -1.0 4.45e+03    -  5.74e-02 1.59e-03h  8\n",
      " 288  2.8841722e+00 1.71e+01 2.15e+12  -1.0 4.44e+03    -  1.00e+00 2.12e-01w  1\n",
      " 289  2.7779344e+00 1.69e+01 2.05e+12  -1.0 3.56e+03    -  2.59e-02 4.36e-02w  1\n",
      "iter    objective    inf_pr   inf_du lg(mu)  ||d||  lg(rg) alpha_du alpha_pr  ls\n",
      " 290  2.7764042e+00 1.68e+01 2.53e+12  -1.0 3.41e+03    -  1.00e+00 6.54e-04w  1\n",
      " 291  3.5264915e+00 1.00e+00 2.19e+12  -1.0 2.72e+03    -  1.00e+00 1.66e-03h  7\n",
      " 292  3.5212420e+00 1.00e+00 2.20e+12  -1.0 4.44e+03    -  5.33e-02 1.73e-03h  8\n",
      " 293  3.5157904e+00 1.00e+00 2.20e+12  -1.0 4.43e+03    -  2.38e-01 1.80e-03h  8\n",
      " 294  3.5101361e+00 1.00e+00 2.20e+12  -1.0 4.43e+03    -  8.15e-02 1.87e-03h  8\n",
      " 295  3.5042786e+00 1.00e+00 2.20e+12  -1.0 4.42e+03    -  1.00e+00 1.94e-03h  8\n",
      " 296  3.4982094e+00 1.00e+00 2.20e+12  -1.0 4.41e+03    -  7.22e-02 2.01e-03h  8\n",
      " 297  3.4919364e+00 9.99e-01 2.20e+12  -1.0 4.41e+03    -  2.62e-01 2.08e-03h  8\n",
      " 298  3.4854577e+00 9.99e-01 2.20e+12  -1.0 4.40e+03    -  1.12e-01 2.16e-03h  8\n",
      " 299  3.4787761e+00 9.98e-01 2.20e+12  -1.0 4.39e+03    -  1.00e+00 2.23e-03h  8\n",
      "iter    objective    inf_pr   inf_du lg(mu)  ||d||  lg(rg) alpha_du alpha_pr  ls\n",
      " 300  3.4718808e+00 9.98e-01 2.20e+12  -1.0 4.38e+03    -  9.44e-02 2.30e-03h  8\n",
      " 301  2.5632560e+00 3.32e+01 1.57e+12  -1.0 4.37e+03    -  3.96e-01 3.04e-01w  1\n",
      " 302  2.3037140e+00 3.21e+01 1.57e+12  -1.0 3.11e+03    -  1.00e+00 1.23e-01w  1\n",
      " 303  1.3030035e+00 6.25e+01 8.50e+11  -1.0 2.75e+03    -  5.81e-02 5.57e-01w  1\n",
      " 304  3.4647822e+00 9.98e-01 2.21e+12  -1.0 1.21e+03    -  3.96e-01 2.37e-03h  7\n",
      " 305  3.4574649e+00 9.97e-01 2.21e+12  -1.0 4.36e+03    -  1.31e-01 2.45e-03h  8\n",
      " 306  3.4499459e+00 9.97e-01 2.21e+12  -1.0 4.35e+03    -  1.00e+00 2.52e-03h  8\n",
      " 307  3.4421855e+00 9.97e-01 2.21e+12  -1.0 4.34e+03    -  1.20e-01 2.59e-03h  8\n",
      " 308  3.4342382e+00 9.97e-01 2.43e+12  -1.0 4.33e+03    -  1.00e+00 2.67e-03h  8\n",
      " 309  3.4261196e+00 9.96e-01 2.49e+12  -1.0 4.32e+03    -  1.35e-01 2.74e-03h  8\n",
      "iter    objective    inf_pr   inf_du lg(mu)  ||d||  lg(rg) alpha_du alpha_pr  ls\n",
      " 310  3.4178167e+00 9.96e-01 2.87e+12  -1.0 4.31e+03    -  1.00e+00 2.81e-03h  8\n",
      " 311  3.4093231e+00 9.96e-01 2.87e+12  -1.0 4.30e+03    -  1.50e-01 2.88e-03h  8\n",
      " 312  3.4006426e+00 9.96e-01 2.87e+12  -1.0 4.29e+03    -  7.38e-01 2.95e-03h  8\n",
      " 313  3.3917535e+00 9.97e-01 2.87e+12  -1.0 4.28e+03    -  1.77e-01 3.02e-03h  8\n",
      " 314  2.2308676e+00 5.33e+01 1.61e+12  -1.0 4.27e+03    -  2.69e-01 3.96e-01w  1\n",
      " 315  1.3405515e+00 6.33e+01 8.11e+11  -1.0 2.65e+03    -  6.88e-01 4.98e-01w  1\n",
      " 316  1.2761377e+00 5.97e+01 7.78e+11  -1.0 1.33e+03    -  1.06e-01 6.02e-02w  1\n",
      " 317  3.3826841e+00 9.97e-01 2.87e+12  -1.0 1.04e+03    -  2.69e-01 3.09e-03h  7\n",
      " 318  3.3734350e+00 9.97e-01 2.87e+12  -1.0 4.25e+03    -  3.67e-01 3.16e-03h  8\n",
      " 319  3.3639984e+00 9.97e-01 2.87e+12  -1.0 4.24e+03    -  1.33e-01 3.23e-03h  8\n",
      "iter    objective    inf_pr   inf_du lg(mu)  ||d||  lg(rg) alpha_du alpha_pr  ls\n",
      " 320  3.3543871e+00 9.98e-01 2.87e+12  -1.0 4.23e+03    -  1.00e+00 3.30e-03h  8\n",
      " 321  3.3445676e+00 9.98e-01 2.87e+12  -1.0 4.21e+03    -  9.63e-02 3.38e-03h  8\n",
      " 322  3.3345815e+00 9.99e-01 2.87e+12  -1.0 4.20e+03    -  6.60e-01 3.44e-03h  8\n",
      " 323  3.3244158e+00 9.99e-01 2.87e+12  -1.0 4.19e+03    -  8.76e-02 3.51e-03h  8\n",
      " 324  3.3140900e+00 1.00e+00 2.88e+12  -1.0 4.17e+03    -  1.00e+00 3.58e-03h  8\n",
      " 325  3.3035864e+00 1.00e+00 2.88e+12  -1.0 4.16e+03    -  6.89e-02 3.65e-03h  8\n",
      " 326  3.2929295e+00 1.00e+00 2.88e+12  -1.0 4.14e+03    -  3.54e-01 3.72e-03h  8\n",
      " 327  1.9089214e+00 7.49e+01 1.09e+12  -1.0 4.13e+03    -  6.08e-02 4.85e-01w  1\n",
      " 328  1.3663190e+00 6.19e+01 6.68e+11  -1.0 2.20e+03    -  1.44e-01 3.62e-01w  1\n",
      " 329  1.3433365e+00 6.07e+01 5.23e+12  -1.0 1.39e+03    -  2.54e-01 2.03e-02w  1\n",
      "iter    objective    inf_pr   inf_du lg(mu)  ||d||  lg(rg) alpha_du alpha_pr  ls\n",
      " 330  3.2821169e+00 1.00e+00 2.88e+12  -1.0 1.06e+03    -  6.08e-02 3.79e-03h  7\n",
      " 331  3.2766373e+00 1.00e+00 2.88e+12  -1.0 4.11e+03    -  1.00e+00 1.93e-03h  9\n",
      " 332  3.2711124e+00 1.00e+00 2.88e+12  -1.0 4.10e+03    -  4.22e-02 1.95e-03h  9\n",
      " 333  3.2655518e+00 1.00e+00 2.88e+12  -1.0 4.09e+03    -  3.39e-01 1.96e-03h  9\n",
      " 334  3.2599539e+00 9.99e-01 2.88e+12  -1.0 4.08e+03    -  3.80e-02 1.98e-03h  9\n",
      " 335  3.2571379e+00 9.98e-01 2.88e+12  -1.0 4.07e+03    -  1.00e+00 1.00e-03h 10\n",
      " 336  3.2543089e+00 9.98e-01 2.88e+12  -1.0 4.07e+03    -  2.87e-02 1.00e-03h 10\n",
      " 337  3.2515780e+00 9.97e-01 2.88e+12  -1.0 4.06e+03    -  3.37e-01 9.71e-04h 10\n",
      " 338  3.2491231e+00 9.96e-01 2.88e+12  -1.0 4.06e+03    -  2.73e-02 8.74e-04h 10\n",
      " 339  3.2469044e+00 9.96e-01 2.88e+12  -1.0 4.05e+03    -  1.00e+00 7.91e-04h 10\n",
      "iter    objective    inf_pr   inf_du lg(mu)  ||d||  lg(rg) alpha_du alpha_pr  ls\n",
      " 340  2.2127817e+00 4.22e+01 1.54e+12  -1.0 4.05e+03    -  2.22e-02 3.69e-01w  1\n",
      " 341  1.8132254e+00 4.01e+01 1.39e+12  -1.0 2.64e+03    -  1.00e+00 2.22e-01w  1\n",
      " 342  9.9813589e-01 4.79e+01 5.46e+11  -1.0 2.06e+03    -  2.86e-03 5.79e-01w  1\n",
      " 343  3.2448846e+00 9.95e-01 2.88e+12  -1.0 8.72e+02    -  2.22e-02 7.20e-04h  9\n",
      " 344  3.2430391e+00 9.95e-01 2.88e+12  -1.0 4.04e+03    -  3.40e-01 6.59e-04h 10\n",
      " 345  3.2413442e+00 9.94e-01 2.88e+12  -1.0 4.04e+03    -  2.17e-02 6.06e-04h 10\n",
      " 346  3.2397792e+00 9.94e-01 2.88e+12  -1.0 4.03e+03    -  1.00e+00 5.60e-04h 10\n",
      " 347  3.2383271e+00 9.93e-01 2.88e+12  -1.0 4.03e+03    -  1.82e-02 5.21e-04h 10\n",
      " 348  3.2369729e+00 9.93e-01 2.88e+12  -1.0 4.02e+03    -  3.44e-01 4.86e-04h 10\n",
      " 349  3.2357045e+00 9.92e-01 2.89e+12  -1.0 4.02e+03    -  1.84e-02 4.56e-04h 10\n",
      "iter    objective    inf_pr   inf_du lg(mu)  ||d||  lg(rg) alpha_du alpha_pr  ls\n",
      " 350  3.2345103e+00 9.92e-01 2.89e+12  -1.0 4.02e+03    -  1.00e+00 4.30e-04h 10\n",
      " 351  3.2333821e+00 9.92e-01 2.89e+12  -1.0 4.01e+03    -  1.60e-02 4.07e-04h 10\n",
      " 352  3.2323104e+00 9.91e-01 2.89e+12  -1.0 4.01e+03    -  3.48e-01 3.86e-04h 10\n",
      " 353  2.7089222e+00 1.16e+01 2.24e+12  -1.0 4.01e+03    -  1.67e-02 1.89e-01w  1\n",
      " 354  2.6337292e+00 1.14e+01 2.57e+12  -1.0 3.33e+03    -  1.00e+00 3.31e-02w  1\n",
      " 355  2.6327510e+00 1.14e+01 2.94e+12  -1.0 3.22e+03    -  1.00e+00 4.47e-04w  1\n",
      " 356  3.2312881e+00 9.91e-01 2.89e+12  -1.0 2.71e+03    -  1.67e-02 3.69e-04h  9\n",
      " 357  3.2303089e+00 9.91e-01 2.89e+12  -1.0 4.00e+03    -  1.00e+00 3.53e-04h 10\n",
      " 358  3.2293669e+00 9.90e-01 2.89e+12  -1.0 4.00e+03    -  1.48e-02 3.40e-04h 10\n",
      " 359  3.2275482e+00 9.90e-01 2.89e+12  -1.0 4.00e+03    -  3.52e-01 6.56e-04h  9\n",
      "iter    objective    inf_pr   inf_du lg(mu)  ||d||  lg(rg) alpha_du alpha_pr  ls\n",
      " 360  3.2258359e+00 9.89e-01 2.89e+12  -1.0 3.99e+03    -  1.58e-02 6.17e-04h  9\n",
      " 361  3.2242029e+00 9.89e-01 2.89e+12  -1.0 3.98e+03    -  1.00e+00 5.88e-04h  9\n",
      " 362  3.1990126e+00 1.00e+00 2.86e+12  -1.0 3.98e+03    -  1.45e-02 9.08e-03h  5\n",
      " 363  3.1848242e+00 1.01e+00 2.89e+12  -1.0 3.95e+03    -  3.82e-01 5.12e-03h  6\n",
      " 364  3.1806857e+00 1.01e+00 2.89e+12  -1.0 3.94e+03    -  4.72e-02 1.51e-03h  8\n",
      " 365  3.1763757e+00 1.01e+00 2.89e+12  -1.0 3.94e+03    -  1.00e+00 1.57e-03h  8\n",
      " 366  2.6035883e+00 1.37e+01 2.17e+12  -1.0 3.94e+03    -  4.80e-02 2.10e-01w  1\n",
      " 367  2.5143274e+00 1.35e+01 2.40e+12  -1.0 3.19e+03    -  1.00e+00 4.13e-02w  1\n",
      " 368  2.5130430e+00 1.34e+01 3.00e+12  -1.0 3.05e+03    -  1.00e+00 6.08e-04w  1\n",
      " 369  3.1719008e+00 1.00e+00 2.90e+12  -1.0 2.39e+03    -  4.80e-02 1.64e-03h  7\n",
      "iter    objective    inf_pr   inf_du lg(mu)  ||d||  lg(rg) alpha_du alpha_pr  ls\n",
      " 370  3.1672497e+00 1.00e+00 2.92e+12  -1.0 3.93e+03    -  4.50e-01 1.71e-03h  8\n",
      " 371  3.1624248e+00 1.00e+00 2.95e+12  -1.0 3.93e+03    -  6.20e-02 1.77e-03h  8\n",
      " 372  3.1574215e+00 1.00e+00 3.05e+12  -1.0 3.93e+03    -  1.00e+00 1.84e-03h  8\n",
      " 373  3.1522481e+00 1.00e+00 3.05e+12  -1.0 3.92e+03    -  6.56e-02 1.91e-03h  8\n",
      " 374  3.1468957e+00 1.00e+00 3.05e+12  -1.0 3.92e+03    -  4.98e-01 1.98e-03h  8\n",
      " 375  3.1413679e+00 1.00e+00 3.05e+12  -1.0 3.91e+03    -  8.34e-02 2.05e-03h  8\n",
      " 376  3.1356620e+00 9.99e-01 3.10e+12  -1.0 3.90e+03    -  1.00e+00 2.12e-03h  8\n"
     ]
    },
    {
     "name": "stdout",
     "output_type": "stream",
     "text": [
      " 377  3.1297888e+00 9.98e-01 3.13e+12  -1.0 3.90e+03    -  8.66e-02 2.20e-03h  8\n",
      " 378  3.1237400e+00 9.97e-01 3.38e+12  -1.0 3.89e+03    -  5.70e-01 2.27e-03h  8\n",
      " 379  2.3280716e+00 2.63e+01 2.26e+12  -1.0 3.88e+03    -  1.08e-01 2.99e-01w  1\n",
      "iter    objective    inf_pr   inf_du lg(mu)  ||d||  lg(rg) alpha_du alpha_pr  ls\n",
      " 380  2.1216595e+00 2.53e+01 2.16e+12  -1.0 2.79e+03    -  1.00e+00 1.10e-01w  1\n",
      " 381  2.0633439e+00 2.46e+01 3.33e+12  -1.0 2.46e+03    -  1.00e+00 3.17e-02w  1\n",
      " 382  3.1175239e+00 9.97e-01 3.38e+12  -1.0 2.44e+03    -  1.08e-01 2.34e-03h  7\n",
      " 383  3.1047421e+00 9.98e-01 3.38e+12  -1.0 3.88e+03    -  1.00e+00 4.82e-03h  7\n",
      " 384  3.0912854e+00 1.00e+00 3.39e+12  -1.0 3.86e+03    -  1.17e-01 5.10e-03h  7\n",
      " 385  3.0771727e+00 1.00e+00 3.39e+12  -1.0 3.84e+03    -  7.05e-01 5.38e-03h  7\n",
      " 386  3.0624325e+00 1.01e+00 3.39e+12  -1.0 3.83e+03    -  1.56e-01 5.66e-03h  7\n",
      " 387  3.0470662e+00 1.01e+00 3.39e+12  -1.0 3.81e+03    -  1.00e+00 5.93e-03h  7\n",
      " 388  3.0311118e+00 1.01e+00 3.39e+12  -1.0 3.79e+03    -  1.78e-01 6.21e-03h  7\n",
      " 389  3.0145657e+00 1.02e+00 3.39e+12  -1.0 3.77e+03    -  1.00e+00 6.48e-03h  7\n",
      "iter    objective    inf_pr   inf_du lg(mu)  ||d||  lg(rg) alpha_du alpha_pr  ls\n",
      " 390  2.9974668e+00 1.03e+00 3.40e+12  -1.0 3.74e+03    -  2.14e-01 6.75e-03h  7\n",
      " 391  2.9798140e+00 1.03e+00 3.40e+12  -1.0 3.72e+03    -  1.00e+00 7.02e-03h  7\n",
      " 392  1.8170353e+00 5.71e+01 1.74e+12  -1.0 3.70e+03    -  2.52e-01 4.66e-01w  1\n",
      " 393  1.1337864e+00 5.20e+01 9.55e+11  -1.0 2.04e+03    -  1.74e-01 5.12e-01w  1\n",
      " 394  1.0721264e+00 4.77e+01 1.08e+12  -1.0 9.98e+02    -  2.69e-01 8.56e-02w  1\n",
      " 395  2.9616456e+00 1.04e+00 3.40e+12  -1.0 8.38e+02    -  2.52e-01 7.28e-03h  6\n",
      " 396  2.9429625e+00 1.04e+00 3.40e+12  -1.0 3.67e+03    -  1.00e+00 7.54e-03h  7\n",
      " 397  2.9238023e+00 1.05e+00 3.41e+12  -1.0 3.65e+03    -  2.95e-01 7.80e-03h  7\n",
      " 398  2.9041668e+00 1.06e+00 3.41e+12  -1.0 3.62e+03    -  1.00e+00 8.06e-03h  7\n",
      " 399  2.8840925e+00 1.07e+00 3.41e+12  -1.0 3.59e+03    -  3.41e-01 8.31e-03h  7\n",
      "iter    objective    inf_pr   inf_du lg(mu)  ||d||  lg(rg) alpha_du alpha_pr  ls\n",
      " 400  2.8635821e+00 1.08e+00 3.42e+12  -1.0 3.57e+03    -  1.00e+00 8.56e-03h  7\n",
      " 401  2.8426669e+00 1.09e+00 3.42e+12  -1.0 3.54e+03    -  3.90e-01 8.81e-03h  7\n",
      " 402  2.8215955e+00 1.10e+00 3.43e+12  -1.0 3.51e+03    -  1.00e+00 8.96e-03h  7\n",
      " 403  2.8006378e+00 1.11e+00 3.43e+12  -1.0 3.48e+03    -  4.43e-01 8.99e-03h  7\n",
      " 404  2.7797841e+00 1.11e+00 3.44e+12  -1.0 3.45e+03    -  1.00e+00 9.02e-03h  7\n",
      " 405  1.4521651e+00 7.63e+01 1.43e+12  -1.0 3.42e+03    -  4.98e-01 5.80e-01w  1\n",
      " 406  1.3454354e+00 6.90e+01 3.47e+12  -1.0 1.48e+03    -  6.63e-01 1.04e-01w  1\n",
      " 407  1.3223308e+00 6.84e+01 1.00e+14  -1.0 1.08e+03    -  1.80e-01 8.29e-03w  1\n",
      " 408  2.7590400e+00 1.12e+00 3.45e+12  -1.0 1.02e+03    -  4.98e-01 9.06e-03h  6\n",
      " 409  2.7383976e+00 1.13e+00 3.45e+12  -1.0 3.39e+03    -  1.00e+00 9.09e-03h  7\n",
      "iter    objective    inf_pr   inf_du lg(mu)  ||d||  lg(rg) alpha_du alpha_pr  ls\n",
      " 410  2.7178604e+00 1.14e+00 3.46e+12  -1.0 3.36e+03    -  5.55e-01 9.13e-03h  7\n",
      " 411  2.6974229e+00 1.15e+00 3.47e+12  -1.0 3.33e+03    -  1.00e+00 9.17e-03h  7\n",
      " 412  2.6770893e+00 1.16e+00 3.47e+12  -1.0 3.30e+03    -  6.12e-01 9.20e-03h  7\n",
      " 413  2.6568549e+00 1.16e+00 3.48e+12  -1.0 3.27e+03    -  1.00e+00 9.24e-03h  7\n",
      " 414  2.6367212e+00 1.17e+00 3.49e+12  -1.0 3.24e+03    -  6.71e-01 9.27e-03h  7\n",
      " 415  2.6166855e+00 1.18e+00 3.50e+12  -1.0 3.21e+03    -  1.00e+00 9.31e-03h  7\n",
      " 416  2.5967486e+00 1.18e+00 3.51e+12  -1.0 3.18e+03    -  7.31e-01 9.35e-03h  7\n",
      " 417  2.5769087e+00 1.19e+00 3.52e+12  -1.0 3.16e+03    -  1.00e+00 9.38e-03h  7\n",
      " 418  1.3134047e+00 7.03e+01 1.41e+12  -1.0 3.13e+03    -  7.93e-01 6.03e-01w  1\n",
      " 419  1.1911890e+00 6.16e+01 5.29e+12  -1.0 1.27e+03    -  1.00e+00 1.34e-01w  1\n",
      "iter    objective    inf_pr   inf_du lg(mu)  ||d||  lg(rg) alpha_du alpha_pr  ls\n",
      " 420  1.1549106e+00 6.05e+01 1.03e+14  -1.0 9.47e+02    -  2.84e-01 1.82e-02w  1\n",
      " 421  2.5571665e+00 1.20e+00 3.53e+12  -1.0 9.15e+02    -  7.93e-01 9.42e-03h  6\n",
      " 422  2.5375207e+00 1.20e+00 3.54e+12  -1.0 3.10e+03    -  1.00e+00 9.46e-03h  7\n",
      " 423  2.5179718e+00 1.21e+00 3.55e+12  -1.0 3.07e+03    -  8.57e-01 9.50e-03h  7\n",
      " 424  2.4985118e+00 1.21e+00 3.56e+12  -1.0 3.04e+03    -  1.00e+00 9.54e-03h  7\n",
      " 425  2.4791382e+00 1.22e+00 3.57e+12  -1.0 3.01e+03    -  9.22e-01 9.57e-03h  7\n",
      " 426  2.4598551e+00 1.22e+00 3.58e+12  -1.0 2.99e+03    -  1.00e+00 9.61e-03h  7\n",
      " 427  2.4406693e+00 1.23e+00 3.59e+12  -1.0 2.96e+03    -  9.89e-01 9.65e-03h  7\n",
      " 428  2.4215847e+00 1.23e+00 3.60e+12  -1.0 2.93e+03    -  1.00e+00 9.69e-03h  7\n",
      " 429  2.4025998e+00 1.24e+00 3.62e+12  -1.0 2.90e+03    -  1.00e+00 9.73e-03h  7\n",
      "iter    objective    inf_pr   inf_du lg(mu)  ||d||  lg(rg) alpha_du alpha_pr  ls\n",
      " 430  2.3837183e+00 1.24e+00 3.63e+12  -1.0 2.88e+03    -  1.00e+00 9.77e-03h  7\n",
      " 431  1.1820478e+00 6.43e+01 1.38e+12  -1.0 2.85e+03    -  1.00e+00 6.28e-01w  1\n",
      " 432  1.0352111e+00 5.34e+01 4.23e+12  -1.0 1.08e+03    -  1.00e+00 1.85e-01w  1\n",
      " 433  9.9264141e-01 5.14e+01 1.07e+14  -1.0 8.23e+02    -  7.11e-01 3.78e-02w  1\n",
      " 434  2.3649422e+00 1.24e+00 3.64e+12  -1.0 7.96e+02    -  1.00e+00 9.81e-03h  6\n",
      " 435  2.3462726e+00 1.25e+00 3.66e+12  -1.0 2.82e+03    -  1.00e+00 9.85e-03h  7\n",
      " 436  2.3277103e+00 1.25e+00 3.67e+12  -1.0 2.79e+03    -  1.00e+00 9.89e-03h  7\n",
      " 437  2.3092557e+00 1.25e+00 3.69e+12  -1.0 2.77e+03    -  1.00e+00 9.93e-03h  7\n",
      " 438  2.2909093e+00 1.26e+00 3.70e+12  -1.0 2.74e+03    -  1.00e+00 9.97e-03h  7\n",
      " 439  2.2726711e+00 1.26e+00 3.72e+12  -1.0 2.71e+03    -  1.00e+00 1.00e-02h  7\n",
      "iter    objective    inf_pr   inf_du lg(mu)  ||d||  lg(rg) alpha_du alpha_pr  ls\n",
      " 440  2.2545406e+00 1.26e+00 3.74e+12  -1.0 2.69e+03    -  1.00e+00 1.00e-02h  7\n",
      " 441  2.2365162e+00 1.26e+00 3.75e+12  -1.0 2.66e+03    -  1.00e+00 1.01e-02h  7\n",
      " 442  2.2185958e+00 1.26e+00 3.77e+12  -1.0 2.64e+03    -  1.00e+00 1.01e-02h  7\n",
      " 443  2.2007778e+00 1.27e+00 3.79e+12  -1.0 2.61e+03    -  1.00e+00 1.02e-02h  7\n",
      " 444  1.0669160e+00 5.83e+01 1.30e+12  -1.0 2.58e+03    -  1.00e+00 6.54e-01w  1\n",
      " 445  8.7266297e-01 4.32e+01 2.39e+12  -1.0 9.13e+02    -  1.00e+00 2.89e-01w  1\n",
      " 446  6.0914874e-01 1.44e+01 3.71e+13  -1.0 6.73e+02    -  9.21e-02 8.76e-01w  1\n",
      " 447  2.1830612e+00 1.27e+00 3.81e+12  -1.0 2.24e+02    -  1.00e+00 1.02e-02h  6\n",
      " 448  2.1654452e+00 1.27e+00 3.82e+12  -1.0 2.56e+03    -  1.00e+00 1.03e-02h  7\n",
      " 449  2.1479291e+00 1.27e+00 3.84e+12  -1.0 2.53e+03    -  1.00e+00 1.03e-02h  7\n",
      "iter    objective    inf_pr   inf_du lg(mu)  ||d||  lg(rg) alpha_du alpha_pr  ls\n",
      " 450  2.1305121e+00 1.27e+00 3.86e+12  -1.0 2.51e+03    -  1.00e+00 1.03e-02h  7\n",
      " 451  2.1131935e+00 1.27e+00 3.88e+12  -1.0 2.48e+03    -  1.00e+00 1.04e-02h  7\n",
      " 452  2.0959726e+00 1.27e+00 3.90e+12  -1.0 2.46e+03    -  1.00e+00 1.04e-02h  7\n",
      " 453  2.0788487e+00 1.27e+00 3.93e+12  -1.0 2.43e+03    -  1.00e+00 1.05e-02h  7\n",
      " 454  2.0618216e+00 1.27e+00 3.95e+12  -1.0 2.41e+03    -  1.00e+00 1.05e-02h  7\n",
      " 455  2.0448932e+00 1.27e+00 3.97e+12  -1.0 2.38e+03    -  1.00e+00 1.06e-02h  7\n",
      " 456  2.0280638e+00 1.27e+00 3.99e+12  -1.0 2.36e+03    -  1.00e+00 1.06e-02h  7\n",
      " 457  9.5732091e-01 5.24e+01 1.22e+12  -1.0 2.33e+03    -  1.00e+00 6.81e-01w  1\n",
      " 458  6.1151009e-01 2.58e+01 4.35e+11  -1.0 7.57e+02    -  1.00e+00 6.17e-01w  1\n",
      " 459  8.5744330e-01 1.68e+01 6.88e+13  -1.0 3.99e+02    -  1.18e-02 3.70e-01w  1\n",
      "iter    objective    inf_pr   inf_du lg(mu)  ||d||  lg(rg) alpha_du alpha_pr  ls\n",
      " 460  2.0113334e+00 1.27e+00 4.02e+12  -1.0 2.19e+02    -  1.00e+00 1.06e-02h  6\n",
      " 461  1.9947043e+00 1.27e+00 4.04e+12  -1.0 2.31e+03    -  1.00e+00 1.07e-02h  7\n",
      " 462  1.9781770e+00 1.27e+00 4.06e+12  -1.0 2.28e+03    -  1.00e+00 1.07e-02h  7\n",
      " 463  1.9617521e+00 1.27e+00 4.08e+12  -1.0 2.26e+03    -  1.00e+00 1.08e-02h  7\n",
      " 464  1.9454288e+00 1.27e+00 4.09e+12  -1.0 2.23e+03    -  1.00e+00 1.08e-02h  7\n",
      " 465  1.9292068e+00 1.26e+00 4.09e+12  -1.0 2.21e+03    -  1.00e+00 1.09e-02h  7\n",
      " 466  1.8969650e+00 1.28e+00 4.04e+12  -1.0 2.19e+03    -  1.00e+00 2.18e-02h  6\n",
      " 467  1.8651306e+00 1.30e+00 3.97e+12  -1.0 2.14e+03    -  1.00e+00 2.20e-02h  6\n",
      " 468  1.8337091e+00 1.32e+00 3.89e+12  -1.0 2.09e+03    -  1.00e+00 2.22e-02h  6\n",
      " 469  1.8027075e+00 1.33e+00 3.78e+12  -1.0 2.05e+03    -  1.00e+00 2.24e-02h  6\n",
      "iter    objective    inf_pr   inf_du lg(mu)  ||d||  lg(rg) alpha_du alpha_pr  ls\n",
      " 470  8.2414566e-01 4.44e+01 9.39e+11  -1.0 2.00e+03    -  1.00e+00 7.22e-01w  1\n",
      " 471  4.4748826e-01 1.04e+01 1.25e+12  -1.0 5.69e+02    -  5.17e-01 9.37e-01w  1\n",
      " 472  4.8079929e-01 5.91e+00 1.04e+12  -1.0 4.79e+01    -  3.34e-01 4.33e-01w  1\n",
      " 473  1.7721275e+00 1.35e+00 3.64e+12  -1.0 2.27e+01    -  1.00e+00 2.26e-02h  5\n",
      " 474  1.7419674e+00 1.36e+00 3.49e+12  -1.0 1.96e+03    -  1.00e+00 2.28e-02h  6\n",
      " 475  1.7122273e+00 1.37e+00 3.31e+12  -1.0 1.91e+03    -  1.00e+00 2.30e-02h  6\n",
      " 476  4.9372303e-01 1.78e+00 8.88e+10  -1.0 1.87e+03    -  1.00e+00 9.78e-01H  1\n",
      " 477  4.8138821e-01 1.06e+00 2.63e+12  -1.0 4.18e+01    -  1.00e+00 4.05e-01h  1\n",
      " 478  4.8123796e-01 1.06e+00 3.54e+12  -1.0 2.45e+01    -  1.00e+00 6.91e-03h  1\n",
      " 479  4.8123615e-01 1.06e+00 3.66e+12  -1.0 2.39e+01    -  1.00e+00 7.08e-05h  1\n",
      "iter    objective    inf_pr   inf_du lg(mu)  ||d||  lg(rg) alpha_du alpha_pr  ls\n",
      " 480  4.7974708e-01 1.05e+00 3.64e+12  -1.0 1.90e+01    -  7.28e-01 5.70e-03h  1\n",
      " 481  3.0485712e-01 2.95e-01 4.68e+11  -1.0 1.90e+01    -  7.82e-01 7.19e-01h  1\n",
      " 482  2.8322545e-01 1.26e-01 1.40e+10  -1.0 1.48e+01    -  9.53e-01 9.92e-01h  1\n",
      " 483  3.2135957e-01 5.42e-03 7.46e+09  -1.0 2.69e+00    -  9.90e-01 1.00e+00h  1\n"
     ]
    },
    {
     "name": "stdout",
     "output_type": "stream",
     "text": [
      " 484  3.5857146e-01 2.71e-03 5.84e+09  -1.0 8.58e-02    -  9.90e-01 5.00e-01f  2\n",
      " 485  4.0058274e-01 2.59e-07 1.85e+06  -1.0 4.47e-02    -  9.91e-01 1.00e+00f  1\n",
      " 486  4.0055119e-01 2.33e-07 1.73e+05  -1.0 3.97e-03    -  1.00e+00 1.03e-01f  2\n",
      " 487  3.9994700e-01 4.77e-11 5.76e+00  -1.0 6.04e-04    -  1.00e+00 1.00e+00f  1\n",
      " 488  3.5136864e-05 4.09e-11 4.07e+02  -5.7 4.00e-01    -  1.00e+00 1.00e+00f  1\n",
      " 489  6.9947627e-06 2.69e-10 2.98e-05  -5.7 3.21e-05    -  1.00e+00 1.00e+00f  1\n",
      "iter    objective    inf_pr   inf_du lg(mu)  ||d||  lg(rg) alpha_du alpha_pr  ls\n",
      " 490  5.5696546e-06 2.70e-10 7.37e-05  -5.7 2.34e-04    -  1.00e+00 1.00e+00h  1\n",
      " 491  5.5464793e-06 1.20e-10 4.27e-07  -5.7 6.12e-05    -  1.00e+00 1.00e+00h  1\n",
      " 492  2.1605125e-08 1.21e-10 1.73e+00  -8.6 5.58e-06    -  9.99e-01 9.89e-01h  1\n",
      " 493 -8.4482047e-09 7.28e-12 2.06e-08  -8.6 1.10e-06    -  1.00e+00 1.00e+00f  1\n",
      " 494 -9.2759200e-09 1.35e-10 1.69e-07  -9.0 1.70e-06    -  1.00e+00 1.00e+00h  1\n",
      " 495 -8.8950885e-09 1.35e-10 1.77e-08  -9.0 1.86e-06    -  1.00e+00 1.00e+00h  1\n",
      " 496 -8.9105497e-09 1.35e-10 1.74e-11  -9.0 4.60e-08    -  1.00e+00 1.00e+00h  1\n",
      "\n",
      "Number of Iterations....: 496\n",
      "\n",
      "                                   (scaled)                 (unscaled)\n",
      "Objective...............:  -8.9105497390790610e-09   -8.9105497390790610e-09\n",
      "Dual infeasibility......:   1.7412154183771289e-11    1.7412154183771289e-11\n",
      "Constraint violation....:   1.3452527416676907e-10    1.3452527416676907e-10\n",
      "Complementarity.........:   9.0946955477023440e-10    9.0946955477023440e-10\n",
      "Overall NLP error.......:   9.0946955477023440e-10    9.0946955477023440e-10\n",
      "\n",
      "\n",
      "Number of objective function evaluations             = 3580\n",
      "Number of objective gradient evaluations             = 470\n",
      "Number of equality constraint evaluations            = 3580\n",
      "Number of inequality constraint evaluations          = 3580\n",
      "Number of equality constraint Jacobian evaluations   = 507\n",
      "Number of inequality constraint Jacobian evaluations = 507\n",
      "Number of Lagrangian Hessian evaluations             = 496\n",
      "Total CPU secs in IPOPT (w/o function evaluations)   =     24.749\n",
      "Total CPU secs in NLP function evaluations           =      2.263\n",
      "\n",
      "EXIT: Optimal Solution Found.\n"
     ]
    }
   ],
   "source": [
    "opt = pe.SolverFactory('ipopt')\n",
    "\n",
    "opt.options['print_user_options'] = 'yes'\n",
    "opt.options['linear_solver'] = 'ma86'\n",
    "\n",
    "opt.options['linear_system_scaling '] = 'mc19'\n",
    "opt.options['linear_scaling_on_demand '] = 'no'\n",
    "# opt.options['recalc_y'] = 'yes'\n",
    "# opt.options['bound_relax_factor'] = 0\n",
    "# opt.options['halt_on_ampl_error'] = 'yes'\n",
    "\n",
    "opt.options['max_iter'] = 7000\n",
    "results = opt.solve(model,tee=True)\n",
    "update_dual(pe,model)"
   ]
  },
  {
   "cell_type": "code",
   "execution_count": 20,
   "metadata": {
    "scrolled": true,
    "slideshow": {
     "slide_type": "skip"
    }
   },
   "outputs": [
    {
     "data": {
      "text/plain": [
       "0"
      ]
     },
     "execution_count": 20,
     "metadata": {},
     "output_type": "execute_result"
    }
   ],
   "source": [
    "model.Q_main.value"
   ]
  },
  {
   "cell_type": "code",
   "execution_count": 21,
   "metadata": {
    "slideshow": {
     "slide_type": "skip"
    }
   },
   "outputs": [
    {
     "data": {
      "text/plain": [
       "473.15"
      ]
     },
     "execution_count": 21,
     "metadata": {},
     "output_type": "execute_result"
    }
   ],
   "source": [
    "model.T.value"
   ]
  },
  {
   "cell_type": "code",
   "execution_count": 24,
   "metadata": {},
   "outputs": [],
   "source": [
    "# model.solutions.store_to(results)\n",
    "# with open('../saved_solutions/reboiler_MPCC_P_pf_200C.pickle','wb') as f:\n",
    "#     pickle.dump(results,f)"
   ]
  },
  {
   "cell_type": "code",
   "execution_count": 23,
   "metadata": {
    "scrolled": false,
    "slideshow": {
     "slide_type": "slide"
    }
   },
   "outputs": [
    {
     "name": "stdout",
     "output_type": "stream",
     "text": [
      "Component\t\tLiquid: 1.0000\t\t\tVapor: 0.0000\t\t\tlog K\n",
      "------------------------------------------------------------------------------------------------------------\n",
      "H2         \t\t 0.8837%\t\t\t25.2934%\t\t\t1.4567\n",
      "CO         \t\t 1.3401%\t\t\t28.6944%\t\t\t1.3307\n",
      "CO2        \t\t 3.7245%\t\t\t31.8624%\t\t\t0.9322\n",
      "H2O        \t\t 3.6023%\t\t\t12.4034%\t\t\t0.5370\n",
      "C2H4       \t\t 0.0174%\t\t\t 0.1174%\t\t\t0.8302\n",
      "C3H6       \t\t 0.0444%\t\t\t 0.1351%\t\t\t0.4830\n",
      "C4H8       \t\t 0.0456%\t\t\t 0.1204%\t\t\t0.4221\n",
      "C5H10      \t\t 0.0722%\t\t\t 0.0931%\t\t\t0.1104\n",
      "C6H12      \t\t 0.1262%\t\t\t 0.0865%\t\t\t-0.1641\n",
      "C7H14      \t\t 0.2078%\t\t\t 0.0799%\t\t\t-0.4151\n",
      "C8H16      \t\t 0.3264%\t\t\t 0.0731%\t\t\t-0.6499\n",
      "C9H18      \t\t 0.4920%\t\t\t 0.0659%\t\t\t-0.8729\n",
      "C10H20     \t\t 0.7120%\t\t\t 0.0583%\t\t\t-1.0869\n",
      "C11H22     \t\t 0.6286%\t\t\t 0.0320%\t\t\t-1.2938\n",
      "C12H24     \t\t 0.8302%\t\t\t 0.0265%\t\t\t-1.4952\n",
      "C13H26     \t\t 1.0411%\t\t\t 0.0212%\t\t\t-1.6918\n",
      "C14H28     \t\t 1.2375%\t\t\t 0.0161%\t\t\t-1.8847\n",
      "C15H30     \t\t 1.3970%\t\t\t 0.0118%\t\t\t-2.0743\n",
      "C16H32     \t\t 1.5062%\t\t\t 0.0083%\t\t\t-2.2611\n",
      "C17H34     \t\t 1.5634%\t\t\t 0.0056%\t\t\t-2.4456\n",
      "C18H36     \t\t 1.5753%\t\t\t 0.0037%\t\t\t-2.6280\n",
      "C19H38     \t\t 1.5530%\t\t\t 0.0024%\t\t\t-2.8086\n",
      "C20H40     \t\t 1.5073%\t\t\t 0.0016%\t\t\t-2.9876\n",
      "C1H4       \t\t 0.0164%\t\t\t 0.1925%\t\t\t1.0694\n",
      "C2H6       \t\t 0.0107%\t\t\t 0.0631%\t\t\t0.7702\n",
      "C3H8       \t\t 0.0114%\t\t\t 0.0338%\t\t\t0.4726\n",
      "C4H10      \t\t 0.0162%\t\t\t 0.0380%\t\t\t0.3694\n",
      "C5H12      \t\t 0.0471%\t\t\t 0.0547%\t\t\t0.0647\n",
      "C6H14      \t\t 0.0815%\t\t\t 0.0508%\t\t\t-0.2056\n",
      "C7H16      \t\t 0.1332%\t\t\t 0.0468%\t\t\t-0.4538\n",
      "C8H18      \t\t 0.2078%\t\t\t 0.0428%\t\t\t-0.6866\n",
      "C9H20      \t\t 0.3113%\t\t\t 0.0385%\t\t\t-0.9080\n",
      "C10H22     \t\t 0.4475%\t\t\t 0.0339%\t\t\t-1.1208\n",
      "C11H24     \t\t 0.9951%\t\t\t 0.0469%\t\t\t-1.3269\n",
      "C12H26     \t\t 1.3036%\t\t\t 0.0387%\t\t\t-1.5274\n",
      "C13H28     \t\t 1.6207%\t\t\t 0.0306%\t\t\t-1.7235\n",
      "C14H30     \t\t 1.9099%\t\t\t 0.0232%\t\t\t-1.9158\n",
      "C15H32     \t\t 2.1391%\t\t\t 0.0168%\t\t\t-2.1049\n",
      "C16H34     \t\t 2.2908%\t\t\t 0.0117%\t\t\t-2.2914\n",
      "C17H36     \t\t 2.3649%\t\t\t 0.0079%\t\t\t-2.4755\n",
      "C18H38     \t\t 2.3734%\t\t\t 0.0052%\t\t\t-2.6576\n",
      "C19H40     \t\t 2.3329%\t\t\t 0.0034%\t\t\t-2.8380\n",
      "C20H42     \t\t 2.2595%\t\t\t 0.0022%\t\t\t-3.0168\n",
      "C21H44     \t\t 3.6174%\t\t\t 0.0023%\t\t\t-3.1942\n",
      "C22H46     \t\t 3.4437%\t\t\t 0.0015%\t\t\t-3.3703\n",
      "C23H48     \t\t 3.2630%\t\t\t 0.0009%\t\t\t-3.5454\n",
      "C24H50     \t\t 3.0819%\t\t\t 0.0006%\t\t\t-3.7195\n",
      "C25H52     \t\t 2.9046%\t\t\t 0.0004%\t\t\t-3.8926\n",
      "C26H54     \t\t 2.7336%\t\t\t 0.0002%\t\t\t-4.0650\n",
      "C27H56     \t\t 2.5703%\t\t\t 0.0001%\t\t\t-4.2366\n",
      "C28H58     \t\t 2.4152%\t\t\t 0.0001%\t\t\t-4.4075\n",
      "C29H60     \t\t 2.2684%\t\t\t 0.0001%\t\t\t-4.5779\n",
      "C30H62     \t\t 2.1300%\t\t\t 0.0000%\t\t\t-4.7476\n",
      "C31H64     \t\t 1.9996%\t\t\t 0.0000%\t\t\t-4.9168\n",
      "C32H66     \t\t 1.8769%\t\t\t 0.0000%\t\t\t-5.0856\n",
      "C33H68     \t\t 1.7616%\t\t\t 0.0000%\t\t\t-5.2538\n",
      "C34H70     \t\t 1.6533%\t\t\t 0.0000%\t\t\t-5.4217\n",
      "C35H72     \t\t 1.5516%\t\t\t 0.0000%\t\t\t-5.5892\n",
      "C36H74     \t\t 1.4562%\t\t\t 0.0000%\t\t\t-5.7563\n",
      "C37H76     \t\t 1.3665%\t\t\t 0.0000%\t\t\t-5.9232\n",
      "C38H78     \t\t 1.2824%\t\t\t 0.0000%\t\t\t-6.0896\n",
      "C39H80     \t\t 1.2034%\t\t\t 0.0000%\t\t\t-6.2558\n",
      "C40H82     \t\t 1.1293%\t\t\t 0.0000%\t\t\t-6.4218\n",
      "C41H84     \t\t 1.0598%\t\t\t 0.0000%\t\t\t-6.5874\n",
      "C42H86     \t\t 0.9945%\t\t\t 0.0000%\t\t\t-6.7529\n",
      "C43H88     \t\t 0.9332%\t\t\t 0.0000%\t\t\t-6.9181\n",
      "C44H90     \t\t 0.8758%\t\t\t 0.0000%\t\t\t-7.0831\n",
      "C45H92     \t\t 0.8218%\t\t\t 0.0000%\t\t\t-7.2479\n",
      "C46H94     \t\t 0.7712%\t\t\t 0.0000%\t\t\t-7.4125\n",
      "C47H96     \t\t 0.7237%\t\t\t 0.0000%\t\t\t-7.5769\n",
      "C48H98     \t\t 0.6791%\t\t\t 0.0000%\t\t\t-7.7412\n",
      "C49H100    \t\t 0.6373%\t\t\t 0.0000%\t\t\t-7.9053\n",
      "C50H102    \t\t 0.5980%\t\t\t 0.0000%\t\t\t-8.0693\n",
      "C51H104    \t\t 0.5612%\t\t\t 0.0000%\t\t\t-8.2331\n",
      "C52H106    \t\t 0.5266%\t\t\t 0.0000%\t\t\t-8.3968\n",
      "C53H108    \t\t 0.4942%\t\t\t 0.0000%\t\t\t-8.5603\n",
      "C54H110    \t\t 0.4638%\t\t\t 0.0000%\t\t\t-8.7238\n",
      "C55H112    \t\t 0.4352%\t\t\t 0.0000%\t\t\t-8.8871\n",
      "C56H114    \t\t 0.4084%\t\t\t 0.0000%\t\t\t-9.0503\n"
     ]
    }
   ],
   "source": [
    "print('Component\\t\\tLiquid: {:.4f}\\t\\t\\tVapor: {:.4f}\\t\\t\\tlog K'.format(model.L['out'].value,model.V['out'].value))\n",
    "print('-'*108)\n",
    "for i in model.x:\n",
    "    print('{:10s}'.format(i),'\\t\\t{:8.4%}\\t\\t\\t{:8.4%}\\t\\t\\t{:.4f}'.format(model.x[i].value,model.y[i].value,np.log10(model.y[i].value/model.x[i].value)))"
   ]
  },
  {
   "cell_type": "markdown",
   "metadata": {
    "slideshow": {
     "slide_type": "slide"
    }
   },
   "source": [
    "# Iterative Solve for Data Analysis"
   ]
  },
  {
   "cell_type": "code",
   "execution_count": null,
   "metadata": {},
   "outputs": [],
   "source": [
    "update_dual(pe,model)"
   ]
  },
  {
   "cell_type": "code",
   "execution_count": null,
   "metadata": {},
   "outputs": [],
   "source": [
    "opt.options['warm_start_init_point'] = 'yes'\n",
    "opt.options['warm_start_bound_push'] = 1e-20\n",
    "opt.options['warm_start_mult_bound_push'] = 1e-20\n",
    "opt.options['mu_init'] = 1e-6"
   ]
  },
  {
   "cell_type": "code",
   "execution_count": null,
   "metadata": {
    "scrolled": false,
    "slideshow": {
     "slide_type": "fragment"
    }
   },
   "outputs": [],
   "source": [
    "rf_data = {}\n",
    "rf_data['T'] = []; rf_data['Q'] = []; rf_data['V'] = []; rf_data['L'] = []; \n",
    "rf_data['y_CO'] = []; rf_data['y_H2'] = []; rf_data['y_CO2'] = []; rf_data['y_H2O'] = [];\n",
    "rf_data['f_V_CO'] = []; rf_data['f_V_H2'] = [];\n",
    "    \n",
    "Trange = np.arange(350+273.15,199+273.15,-5)\n",
    "\n",
    "for Tub in Trange:\n",
    "    model.T.setub(Tub)\n",
    "    results = opt.solve(model,tee=False)\n",
    "    update_dual(pe,model)\n",
    "    # print('-'*72)\n",
    "    print('Solved, Solution T = {:.2f} K\\t|\\tV = {:.5f}\\t|\\tL = {:.5f}\\t|'.format(model.T.value,model.V['out'].value,model.L['out'].value))\n",
    "    # print('-'*72)\n",
    "    rf_data['T'].append(model.T.value)\n",
    "    rf_data['Q'].append(model.Q_main.value)\n",
    "    rf_data['V'].append(model.V['out'].value)\n",
    "    rf_data['L'].append(model.L['out'].value)    \n",
    "    \n",
    "    \n",
    "    rf_data['y_H2O'].append(model.y['H2O'].value)\n",
    "    rf_data['y_CO'].append(model.y['CO'].value)\n",
    "    rf_data['y_H2'].append(model.y['H2'].value)\n",
    "    rf_data['y_CO2'].append(model.y['CO2'].value)\n",
    "    \n",
    "    rf_data['f_V_CO'].append(model.f_V['CO'].value)\n",
    "    rf_data['f_V_H2'].append(model.f_V['H2'].value)"
   ]
  },
  {
   "cell_type": "markdown",
   "metadata": {},
   "source": [
    "# VLE Validation using AspenPlus"
   ]
  },
  {
   "cell_type": "markdown",
   "metadata": {},
   "source": [
    "### Feed (Reactor Effluent)"
   ]
  },
  {
   "cell_type": "code",
   "execution_count": null,
   "metadata": {},
   "outputs": [],
   "source": [
    "print('Temperature (C): \\t{:.2f}\\t\\t'.format(model.T.value-273.15))\n",
    "print('Total FLow (kmol/s): \\t{:.2f}\\t\\t'.format(model.L['out'].value+model.V['out'].value))\n",
    "print('-'*72)\n",
    "for i in model.x:\n",
    "    print('{:10s}'.format(i),'\\t\\t{:.4%}'.format((model.x[i].value*model.L['out'].value\\\n",
    "        +model.y[i].value*model.V['out'].value)/(model.L['out'].value+model.V['out'].value)))"
   ]
  },
  {
   "cell_type": "markdown",
   "metadata": {},
   "source": [
    "### Phase Separation"
   ]
  },
  {
   "cell_type": "code",
   "execution_count": null,
   "metadata": {
    "scrolled": false
   },
   "outputs": [],
   "source": [
    "print('Component\\t\\tLiquid: {:.4f}\\t\\t\\tVapor: {:.4f}\\t\\t\\tlog K'.format(model.L['out'].value,model.V['out'].value))\n",
    "print('-'*108)\n",
    "for i in model.x:\n",
    "    print('{:10s}'.format(i),'\\t\\t{:8.4%}\\t\\t\\t{:8.4%}\\t\\t\\t{:.4f}'.format(model.x[i].value,model.y[i].value,np.log10(model.y[i].value/model.x[i].value)))"
   ]
  },
  {
   "cell_type": "code",
   "execution_count": null,
   "metadata": {},
   "outputs": [],
   "source": [
    "list(zip(rf_data['T'],rf_data['Q']))"
   ]
  },
  {
   "cell_type": "code",
   "execution_count": null,
   "metadata": {},
   "outputs": [],
   "source": []
  }
 ],
 "metadata": {
  "kernelspec": {
   "display_name": "Python 3",
   "language": "python",
   "name": "python3"
  },
  "language_info": {
   "codemirror_mode": {
    "name": "ipython",
    "version": 3
   },
   "file_extension": ".py",
   "mimetype": "text/x-python",
   "name": "python",
   "nbconvert_exporter": "python",
   "pygments_lexer": "ipython3",
   "version": "3.6.3"
  }
 },
 "nbformat": 4,
 "nbformat_minor": 2
}
