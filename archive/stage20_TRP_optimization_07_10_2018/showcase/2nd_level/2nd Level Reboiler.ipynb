{
 "cells": [
  {
   "cell_type": "markdown",
   "metadata": {
    "slideshow": {
     "slide_type": "slide"
    }
   },
   "source": [
    "# 2nd Level Model Structure: Reboiler"
   ]
  },
  {
   "cell_type": "code",
   "execution_count": 1,
   "metadata": {},
   "outputs": [],
   "source": [
    "import sys\n",
    "import os\n",
    "import pickle\n",
    "sys.path.append(os.path.abspath('..'))\n",
    "sys.path.append(os.path.abspath('../..'))\n",
    "import numpy as np\n",
    "from matplotlib import pyplot as plt"
   ]
  },
  {
   "cell_type": "code",
   "execution_count": 2,
   "metadata": {
    "slideshow": {
     "slide_type": "fragment"
    }
   },
   "outputs": [],
   "source": [
    "from pyomo import environ as pe\n",
    "from global_sets.component import m\n",
    "from utility.display_utility import trans_product_mole, trans_product_mass\n",
    "from utility.model_utility import add_dual, update_dual, check_DOF\n",
    "\n",
    "# stage construction rules\n",
    "from physics.energy.energy_reboiler import energy_block_rule\n",
    "from physics.VLE.VLE_reboiler_MPCC_P import VLE_block_rule\n",
    "from physics.MPCC.MPCC_P import P_NCP_block_rule, P_Reg_block_rule, P_pf_block_rule\n",
    "\n",
    "model = pe.ConcreteModel()"
   ]
  },
  {
   "cell_type": "markdown",
   "metadata": {
    "slideshow": {
     "slide_type": "subslide"
    }
   },
   "source": [
    "# Global Sets (Inlet / Outlet)"
   ]
  },
  {
   "cell_type": "code",
   "execution_count": 3,
   "metadata": {
    "slideshow": {
     "slide_type": "fragment"
    }
   },
   "outputs": [],
   "source": [
    "model.inlet = pe.Set(initialize=['in'])\n",
    "model.outlet = pe.Set(initialize=['out','P'])\n",
    "model.stream = model.inlet | model.outlet"
   ]
  },
  {
   "cell_type": "markdown",
   "metadata": {
    "slideshow": {
     "slide_type": "subslide"
    }
   },
   "source": [
    "# Global Variables"
   ]
  },
  {
   "cell_type": "code",
   "execution_count": 4,
   "metadata": {
    "slideshow": {
     "slide_type": "fragment"
    }
   },
   "outputs": [],
   "source": [
    "# Tray Inlet/Outlet Variable\n",
    "model.x_ = pe.Var(model.inlet,m.COMP_TOTAL,within=pe.NonNegativeReals)\n",
    "model.y_ = pe.Var(model.inlet,m.COMP_TOTAL,within=pe.NonNegativeReals)\n",
    "model.x = pe.Var(m.COMP_TOTAL,within=pe.NonNegativeReals)\n",
    "model.y = pe.Var(m.COMP_TOTAL,within=pe.NonNegativeReals)\n",
    "model.z = pe.Var(m.COMP_FEED,within=pe.NonNegativeReals)\n",
    "\n",
    "model.L = pe.Var(model.stream,within=pe.NonNegativeReals)\n",
    "model.V = pe.Var(model.stream,within=pe.NonNegativeReals)\n",
    "model.F = pe.Var(within=pe.NonNegativeReals)\n",
    "\n",
    "model.H_L_ = pe.Var(model.inlet,within=pe.Reals)\n",
    "model.H_V_ = pe.Var(model.inlet,within=pe.Reals)\n",
    "model.H_L = pe.Var(within=pe.Reals)\n",
    "model.H_V = pe.Var(within=pe.Reals)\n",
    "model.H_F = pe.Var(within=pe.Reals)\n",
    "\n",
    "# State Variable\n",
    "model.T = pe.Var(within=pe.NonNegativeReals,bounds=(200+273.15,350+273.15)) # K\n",
    "model.T_F = pe.Var(within=pe.NonNegativeReals) # K\n",
    "model.P = pe.Var(within=pe.NonNegativeReals,bounds=(10,30)) # Bar\n",
    "\n",
    "model.f_V = pe.Var(m.COMP_TOTAL,within=pe.NonNegativeReals,initialize=1e-20)\n",
    "model.f_L = pe.Var(m.COMP_TOTAL,within=pe.NonNegativeReals,initialize=1e-20)\n",
    "\n",
    "model.Q_main = pe.Var(within=pe.Reals) # MW"
   ]
  },
  {
   "cell_type": "markdown",
   "metadata": {
    "slideshow": {
     "slide_type": "slide"
    }
   },
   "source": [
    "# Construct Individual Blocks"
   ]
  },
  {
   "cell_type": "code",
   "execution_count": 5,
   "metadata": {
    "slideshow": {
     "slide_type": "subslide"
    }
   },
   "outputs": [
    {
     "name": "stdout",
     "output_type": "stream",
     "text": [
      "> Importing Energy Blocks......\n",
      "> Adding the following local variable:\n",
      "--------------------------------------------------\n",
      "| energy_block.dH_F\n",
      "| energy_block.dH_V\n",
      "| energy_block.dH_L\n",
      "| energy_block.dH_vap\n",
      "--------------------------------------------------\n",
      "\n"
     ]
    }
   ],
   "source": [
    "model.energy_block = pe.Block(rule=energy_block_rule)"
   ]
  },
  {
   "cell_type": "code",
   "execution_count": 6,
   "metadata": {
    "scrolled": false,
    "slideshow": {
     "slide_type": "subslide"
    }
   },
   "outputs": [
    {
     "name": "stdout",
     "output_type": "stream",
     "text": [
      "> Importing VLE Blocks......\n",
      "> Adding the following local variable:\n",
      "--------------------------------------------------\n",
      "| VLE_block.P_VLE\n",
      "| VLE_block.n_ave\n",
      "| VLE_block.n_ave_cal\n",
      "| VLE_block.Hen\n",
      "| VLE_block.Hen0\n",
      "| VLE_block.gamma\n",
      "| VLE_block.P_sat\n",
      "| VLE_block.P_sat_Y\n",
      "| VLE_block.P_sat_dY_inf\n",
      "| VLE_block.P_sat_dY0\n",
      "| VLE_block.Hen_ref\n",
      "| VLE_block.Hen0_ref\n",
      "| VLE_block.gamma_ref\n",
      "| VLE_block.V_L\n",
      "| VLE_block.V_L_dY_inf\n",
      "| VLE_block.V_L_dY0\n",
      "| VLE_block.poynting\n",
      "--------------------------------------------------\n",
      "\n"
     ]
    }
   ],
   "source": [
    "model.VLE_block = pe.Block(rule=VLE_block_rule)"
   ]
  },
  {
   "cell_type": "markdown",
   "metadata": {
    "slideshow": {
     "slide_type": "slide"
    }
   },
   "source": [
    "# Standard MESH Equations"
   ]
  },
  {
   "cell_type": "markdown",
   "metadata": {
    "slideshow": {
     "slide_type": "subslide"
    }
   },
   "source": [
    "## Mass Balance"
   ]
  },
  {
   "cell_type": "markdown",
   "metadata": {
    "slideshow": {
     "slide_type": "fragment"
    }
   },
   "source": [
    "\\begin{equation}\n",
    "Fz_{i}+\\sum_{s\\in{inlet}}L_{s}x'_{i,s}+\\sum_{s\\in{inlet}}V_{s}y'_{i,s}-\\sum_{s\\in{outlet}}L_{s}x_{i,s}+\\sum_{s\\in{ouelet}}V_{s}y_{i,s}+R_{i} = 0 \\\\\n",
    "i = 1,...NC\n",
    "\\end{equation}"
   ]
  },
  {
   "cell_type": "code",
   "execution_count": 7,
   "metadata": {
    "slideshow": {
     "slide_type": "fragment"
    }
   },
   "outputs": [],
   "source": [
    "def mass_balance_main_rule(model,i):\n",
    "    if i in m.COMP_FEED:\n",
    "        return model.F*model.z[i] + sum(model.L[s]*model.x_[s,i] + model.V[s]*model.y_[s,i] for s in model.inlet)\\\n",
    "        - sum(model.L[s]*model.x[i] + model.V[s]*model.y[i] for s in model.outlet) == 0\n",
    "    else:\n",
    "        return sum(model.L[s]*model.x_[s,i] + model.V[s]*model.y_[s,i] for s in model.inlet)\\\n",
    "        - sum(model.L[s]*model.x[i] + model.V[s]*model.y[i] for s in model.outlet) == 0\n",
    "model.mass_balance_main_con = pe.Constraint(m.COMP_TOTAL,rule=mass_balance_main_rule)"
   ]
  },
  {
   "cell_type": "markdown",
   "metadata": {
    "slideshow": {
     "slide_type": "subslide"
    }
   },
   "source": [
    "## Equilibrium"
   ]
  },
  {
   "cell_type": "markdown",
   "metadata": {
    "slideshow": {
     "slide_type": "fragment"
    }
   },
   "source": [
    "\\begin{align}\n",
    "&f_{i,V} = f_{i,L} \\\\\n",
    "&i = 1,...NC\n",
    "\\end{align}"
   ]
  },
  {
   "cell_type": "code",
   "execution_count": 8,
   "metadata": {
    "slideshow": {
     "slide_type": "fragment"
    }
   },
   "outputs": [],
   "source": [
    "def VL_equil_rule(model,i):\n",
    "    return model.f_V[i] == model.f_L[i]\n",
    "model.VL_equil_con = pe.Constraint(m.COMP_TOTAL,rule=VL_equil_rule)"
   ]
  },
  {
   "cell_type": "markdown",
   "metadata": {},
   "source": [
    "# MPCC - P-Pspec"
   ]
  },
  {
   "cell_type": "code",
   "execution_count": 9,
   "metadata": {},
   "outputs": [
    {
     "name": "stdout",
     "output_type": "stream",
     "text": [
      "> Importing MPCC_P_Reg Blocks......\n",
      "> Adding the following local variable:\n",
      "--------------------------------------------------\n",
      "| MPCC.s_L\n",
      "| MPCC.s_V\n",
      "| MPCC.pf\n",
      "| MPCC.rho\n",
      "--------------------------------------------------\n",
      "> Spliting pressure used in VLE\n",
      "\n"
     ]
    }
   ],
   "source": [
    "model.MPCC = pe.Block(rule = P_pf_block_rule)"
   ]
  },
  {
   "cell_type": "markdown",
   "metadata": {
    "slideshow": {
     "slide_type": "subslide"
    }
   },
   "source": [
    "## Summation"
   ]
  },
  {
   "cell_type": "markdown",
   "metadata": {
    "slideshow": {
     "slide_type": "fragment"
    }
   },
   "source": [
    "\\begin{equation}\n",
    "\\sum_ix_{i} = \\sum_iy_{i} \\\\\n",
    "F + L_{in} + V_{in} + R = L_{out} + V_{out}\n",
    "\\end{equation}"
   ]
  },
  {
   "cell_type": "code",
   "execution_count": 10,
   "metadata": {
    "slideshow": {
     "slide_type": "fragment"
    }
   },
   "outputs": [],
   "source": [
    "def summation_x_y_rule(model):\n",
    "    return sum(model.x[i] for i in m.COMP_TOTAL) == sum(model.y[i] for i in m.COMP_TOTAL)\n",
    "model.summation_x_y_con = pe.Constraint(rule=summation_x_y_rule)\n",
    "\n",
    "def summation_total_mass_rule(model):\n",
    "    return model.F + sum(model.L[s] + model.V[s] for s in model.inlet)\\\n",
    "            - sum(model.L[s] + model.V[s] for s in model.outlet) == 0\n",
    "model.summation_total_mass_con = pe.Constraint(rule=summation_total_mass_rule)"
   ]
  },
  {
   "cell_type": "markdown",
   "metadata": {
    "slideshow": {
     "slide_type": "subslide"
    }
   },
   "source": [
    "## Energy Balance"
   ]
  },
  {
   "cell_type": "markdown",
   "metadata": {
    "slideshow": {
     "slide_type": "fragment"
    }
   },
   "source": [
    "\\begin{equation}\n",
    "F H_f+\\sum_{s\\in{inlet}}L_{s}H_{l,s}+\\sum_{s\\in{inlet}}V_{s}H_{v,s}-\\sum_{s\\in{outlet}}L_{s}H_{l,s}-\\sum_{s\\in{outlet}}V_{s}H_{v,s}+Q = 0\n",
    "\\end{equation}"
   ]
  },
  {
   "cell_type": "code",
   "execution_count": 11,
   "metadata": {
    "slideshow": {
     "slide_type": "fragment"
    }
   },
   "outputs": [],
   "source": [
    "def heat_balance_main_rule(model):\n",
    "    return model.F*model.H_F + sum(model.L[s]*model.H_L_[s] + model.V[s]*model.H_V_[s] for s in model.inlet) \\\n",
    "            + model.Q_main - sum(model.L[s]*model.H_L + model.V[s]*model.H_V for s in model.outlet) == 0\n",
    "model.heat_balance_main_con = pe.Constraint(rule=heat_balance_main_rule)"
   ]
  },
  {
   "cell_type": "markdown",
   "metadata": {
    "slideshow": {
     "slide_type": "slide"
    }
   },
   "source": [
    "# Testing"
   ]
  },
  {
   "cell_type": "code",
   "execution_count": 12,
   "metadata": {
    "slideshow": {
     "slide_type": "fragment"
    }
   },
   "outputs": [
    {
     "name": "stdout",
     "output_type": "stream",
     "text": [
      "Created the follow pyomo suffixes:\n",
      "ipopt_zL_out, ipopt_zU_out, ipopt_zL_in, ipopt_zU_in, dual\n"
     ]
    }
   ],
   "source": [
    "add_dual(pe,model)"
   ]
  },
  {
   "cell_type": "markdown",
   "metadata": {},
   "source": [
    "# Load a flash liquid composition as feed"
   ]
  },
  {
   "cell_type": "code",
   "execution_count": 13,
   "metadata": {},
   "outputs": [],
   "source": [
    "with open('../../saved_solutions/reactive_flash_MPCC_P_pf_200C.pickle', 'rb') as f:\n",
    "    C200 = pickle.load(f)"
   ]
  },
  {
   "cell_type": "markdown",
   "metadata": {
    "slideshow": {
     "slide_type": "fragment"
    }
   },
   "source": [
    "## Fixing In/Product Redundent Flow"
   ]
  },
  {
   "cell_type": "code",
   "execution_count": 14,
   "metadata": {
    "slideshow": {
     "slide_type": "fragment"
    }
   },
   "outputs": [],
   "source": [
    "model.y_.fix(0)\n",
    "for i in m.COMP_TOTAL:\n",
    "    model.x_['in',i].fix(C200.Solution.Variable['x[{}]'.format(i)]['Value'])\n",
    "\n",
    "model.L['in'].fix(1)\n",
    "# model.L['in'].setlb(1)\n",
    "# model.L['in'].setub(1e-8)\n",
    "\n",
    "model.L['P'].fix(0)\n",
    "model.V['in'].fix(0)\n",
    "model.V['P'].fix(0)\n",
    "model.H_V_.fix(0)\n",
    "model.H_L_.fix(C200.Solution.Variable['H_L']['Value'])"
   ]
  },
  {
   "cell_type": "markdown",
   "metadata": {
    "slideshow": {
     "slide_type": "subslide"
    }
   },
   "source": [
    "## Fixing Model Parameters"
   ]
  },
  {
   "cell_type": "code",
   "execution_count": 15,
   "metadata": {
    "slideshow": {
     "slide_type": "fragment"
    }
   },
   "outputs": [],
   "source": [
    "model.P.fix(20)\n",
    "model.T_F.fix(200+273.15)\n",
    "model.F.fix(0)\n",
    "model.z.fix(0)\n",
    "model.VLE_block.n_ave.fix(20)\n",
    "# model.Q_main.fix(0)"
   ]
  },
  {
   "cell_type": "markdown",
   "metadata": {},
   "source": [
    "# kappa"
   ]
  },
  {
   "cell_type": "code",
   "execution_count": 16,
   "metadata": {
    "scrolled": false
   },
   "outputs": [
    {
     "name": "stdout",
     "output_type": "stream",
     "text": [
      "mass_balance_main_con\n",
      "VL_equil_con\n",
      "summation_x_y_con\n",
      "summation_total_mass_con\n",
      "heat_balance_main_con\n",
      "energy_block.dH_V_con\n",
      "energy_block.H_V_con\n",
      "energy_block.dH_vap_con\n",
      "energy_block.dH_L_con\n",
      "energy_block.H_L_con\n",
      "energy_block.dH_F_con\n",
      "energy_block.H_F_con\n",
      "VLE_block.f_L_HENRY_con\n",
      "VLE_block.Hen_con\n",
      "VLE_block.Hen0_con\n",
      "VLE_block.Hen_ref_con\n",
      "VLE_block.Hen0_ref_con\n",
      "VLE_block.f_L_NONHENRY_con\n",
      "VLE_block.gamma_con\n",
      "VLE_block.gamma_ref_con\n",
      "VLE_block.n_ave_con\n",
      "VLE_block.P_sat_con\n",
      "VLE_block.P_sat_con2\n",
      "VLE_block.P_sat_dY_inf_con\n",
      "VLE_block.P_sat_dY0_con\n",
      "VLE_block.f_V_con\n",
      "VLE_block.V_L_nonHen_con\n",
      "VLE_block.V_L_dY_inf_con\n",
      "VLE_block.V_L_dY0_con\n",
      "VLE_block.V_L_Hen_con\n",
      "VLE_block.V_L_H2O_con\n",
      "VLE_block.poynting_con\n",
      "MPCC.penalty_con\n",
      "MPCC.pressure_equal_con\n"
     ]
    }
   ],
   "source": [
    "for i in model.component_objects(pe.Constraint, active=True):\n",
    "    print(i.name)"
   ]
  },
  {
   "cell_type": "code",
   "execution_count": 17,
   "metadata": {},
   "outputs": [],
   "source": [
    "model.magic = pe.Var(within=pe.NonNegativeReals,initialize=1)"
   ]
  },
  {
   "cell_type": "code",
   "execution_count": 18,
   "metadata": {},
   "outputs": [],
   "source": [
    "all_expression = []\n",
    "for i in model.component_data_objects(pe.Constraint, active=True):\n",
    "    if i.name.startswith('summation_x_y_con') or i.name.startswith('mass_balance_main_con'):\n",
    "        all_expression.append(i.body)\n",
    "        i.deactivate()"
   ]
  },
  {
   "cell_type": "code",
   "execution_count": 19,
   "metadata": {},
   "outputs": [],
   "source": [
    "model.replaced_constraint_list = pe.ConstraintList()\n",
    "for i in all_expression:\n",
    "    model.replaced_constraint_list.add(expr = i*model.magic==0);"
   ]
  },
  {
   "cell_type": "code",
   "execution_count": 20,
   "metadata": {},
   "outputs": [],
   "source": [
    "# model.complementarity_con = pe.Constraint(expr = 2*model.big_beta == \\\n",
    "#                             model.L['in'] - model.big_epi + ((model.big_epi - model.L['in'])**2+1e-10)**0.5)\n",
    "model.complementarity_con = pe.Constraint(expr = model.magic == model.L['in'])"
   ]
  },
  {
   "cell_type": "markdown",
   "metadata": {
    "slideshow": {
     "slide_type": "subslide"
    }
   },
   "source": [
    "## Fix T or to fix Q? we have found that Maximize against an upper bound is most reliable"
   ]
  },
  {
   "cell_type": "code",
   "execution_count": 21,
   "metadata": {
    "slideshow": {
     "slide_type": "fragment"
    }
   },
   "outputs": [],
   "source": [
    "model.T.fix(200+273.15)"
   ]
  },
  {
   "cell_type": "code",
   "execution_count": 22,
   "metadata": {},
   "outputs": [
    {
     "name": "stdout",
     "output_type": "stream",
     "text": [
      "Active Equality Constraints:\t 958\n",
      "Active Inequality Constraints:\t 1\n",
      "Active Variables:\t\t 1133\n",
      "Fixed Variables:\t\t 172\n",
      "DOF:\t\t\t\t 3\n"
     ]
    }
   ],
   "source": [
    "check_DOF(pe,model)"
   ]
  },
  {
   "cell_type": "code",
   "execution_count": 23,
   "metadata": {
    "slideshow": {
     "slide_type": "fragment"
    }
   },
   "outputs": [],
   "source": [
    "model.obj = pe.Objective(expr = model.T - model.MPCC.pf ,sense=pe.maximize)\n",
    "# model.obj = pe.Objective(expr = - model.L['in'] - model.MPCC.pf ,sense=pe.maximize)\n",
    "# model.obj = pe.Objective(expr = - model.L['in'] ,sense=pe.maximize)"
   ]
  },
  {
   "cell_type": "code",
   "execution_count": 24,
   "metadata": {
    "scrolled": false,
    "slideshow": {
     "slide_type": "fragment"
    }
   },
   "outputs": [
    {
     "name": "stdout",
     "output_type": "stream",
     "text": [
      "Ipopt 3.12.8: print_user_options=yes\n",
      "linear_solver=ma86\n",
      "linear_system_scaling =mc19\n",
      "linear_scaling_on_demand =no\n",
      "max_iter=7000\n",
      "\n",
      "\n",
      "List of user-set options:\n",
      "\n",
      "                                    Name   Value                used\n",
      "                linear_scaling_on_demand = no                    yes\n",
      "                           linear_solver = ma86                  yes\n",
      "                   linear_system_scaling = mc19                  yes\n",
      "                                max_iter = 7000                  yes\n",
      "                      print_user_options = yes                   yes\n",
      "\n",
      "******************************************************************************\n",
      "This program contains Ipopt, a library for large-scale nonlinear optimization.\n",
      " Ipopt is released as open source code under the Eclipse Public License (EPL).\n",
      "         For more information visit http://projects.coin-or.org/Ipopt\n",
      "******************************************************************************\n",
      "\n",
      "This is Ipopt version 3.12.8, running with linear solver ma86.\n",
      "\n",
      "Number of nonzeros in equality constraint Jacobian...:     3049\n",
      "Number of nonzeros in inequality constraint Jacobian.:        5\n",
      "Number of nonzeros in Lagrangian Hessian.............:     4397\n",
      "\n",
      "Total number of variables............................:      961\n",
      "                     variables with only lower bounds:      326\n",
      "                variables with lower and upper bounds:      627\n",
      "                     variables with only upper bounds:        0\n",
      "Total number of equality constraints.................:      958\n",
      "Total number of inequality constraints...............:        1\n",
      "        inequality constraints with only lower bounds:        0\n",
      "   inequality constraints with lower and upper bounds:        0\n",
      "        inequality constraints with only upper bounds:        1\n",
      "\n",
      "iter    objective    inf_pr   inf_du lg(mu)  ||d||  lg(rg) alpha_du alpha_pr  ls\n",
      "   0 -4.7314000e+02 9.36e+03 1.00e+00  -1.0 0.00e+00    -  0.00e+00 0.00e+00   0\n",
      "   1 -4.7313999e+02 9.36e+03 2.42e+01  -1.0 1.22e+04    -  9.52e-04 8.22e-05h  1\n",
      "   2 -4.7313992e+02 9.36e+03 1.42e+02  -1.0 1.32e+04    -  3.82e-04 3.83e-04h  1\n",
      "   3r-4.7313992e+02 9.36e+03 9.99e+02   4.0 0.00e+00    -  0.00e+00 4.82e-07R  4\n",
      "   4r-4.7313654e+02 9.36e+03 9.99e+02   4.0 2.22e+05    -  5.62e-05 6.19e-07f  1\n",
      "   5r-4.7310292e+02 8.84e+03 9.97e+02   2.6 2.53e+05    -  7.72e-03 2.07e-03f  1\n",
      "   6r-4.7307575e+02 7.09e+03 9.95e+02   2.6 9.78e+05    -  2.78e-03 1.79e-03f  1\n",
      "   7 -4.7307493e+02 7.06e+03 2.24e+01  -1.0 7.09e+03    -  1.98e-04 4.69e-03h  1\n",
      "   8 -4.7307489e+02 7.06e+03 1.07e+02  -1.0 7.06e+03    -  5.36e-03 5.11e-05h  1\n",
      "   9r-4.7307489e+02 7.06e+03 9.99e+02   3.8 0.00e+00    -  0.00e+00 2.56e-07R  2\n",
      "iter    objective    inf_pr   inf_du lg(mu)  ||d||  lg(rg) alpha_du alpha_pr  ls\n",
      "  10r-4.7307426e+02 7.06e+03 9.99e+02   3.8 1.84e+05    -  4.56e-04 4.56e-07f  1\n",
      "  11r-4.7295511e+02 3.02e+03 9.84e+02   2.5 2.61e+05    -  4.91e-03 1.55e-02f  1\n",
      "  12 -4.7294213e+02 3.01e+03 8.94e+01  -1.0 3.02e+03    -  3.47e-03 2.96e-03h  1\n",
      "  13 -4.7294196e+02 3.01e+03 3.87e+03  -1.0 3.01e+03    -  7.26e-03 3.13e-05h  1\n",
      "  14r-4.7294196e+02 3.01e+03 9.99e+02   3.5 0.00e+00    -  0.00e+00 1.56e-07R  2\n",
      "  15r-4.7294148e+02 3.01e+03 5.18e+03   3.5 2.64e+05    -  7.49e-03 1.20e-06f  2\n",
      "  16r-4.7285072e+02 5.08e+02 6.35e+03   2.8 2.86e+05    -  1.92e-02 1.04e-02f  1\n",
      "  17 -4.7284546e+02 5.08e+02 1.04e+01  -1.0 6.61e+02    -  8.30e-03 7.28e-04h  1\n",
      "  18r-4.7284546e+02 5.08e+02 9.99e+02   2.7 0.00e+00    -  0.00e+00 4.62e-07R  5\n",
      "  19r-4.7284352e+02 5.08e+02 9.99e+02   2.7 1.28e+04    -  5.47e-03 1.60e-05f  1\n",
      "iter    objective    inf_pr   inf_du lg(mu)  ||d||  lg(rg) alpha_du alpha_pr  ls\n",
      "  20r-4.7225969e+02 5.05e+02 9.88e+02   2.7 7.32e+03    -  4.10e-03 1.07e-02f  1\n",
      "  21r-4.7214767e+02 5.04e+02 9.86e+02   2.7 2.28e+03    -  8.63e-03 2.78e-03f  1\n",
      "  22r-4.7116898e+02 4.97e+02 9.60e+02   2.7 2.67e+03    -  1.90e-02 2.64e-02f  1\n",
      "  23r-4.7083752e+02 4.95e+02 9.69e+02   2.7 1.14e+03   0.0 2.40e-02 1.43e-02f  1\n",
      "  24r-4.6927875e+02 4.92e+02 1.44e+03   2.7 4.51e+01   1.3 1.35e-01 1.50e-01f  1\n",
      "  25r-4.6920328e+02 4.91e+02 1.29e+03   2.0 2.17e+00   2.7 6.30e-01 4.71e-01f  1\n",
      "  26r-4.6909913e+02 4.90e+02 1.22e+03   1.3 6.46e+00   2.2 3.48e-01 2.77e-01f  1\n",
      "  27r-4.6886395e+02 4.89e+02 1.57e+03   1.3 1.92e+01   1.7 3.85e-01 1.94e-01f  1\n",
      "  28r-4.6850059e+02 4.87e+02 1.22e+03   1.3 7.39e+00   2.1 2.36e-01 3.04e-01f  1\n",
      "  29r-4.6791960e+02 4.85e+02 5.78e+03   1.3 2.17e+01   1.7 7.59e-01 2.11e-01f  1\n",
      "iter    objective    inf_pr   inf_du lg(mu)  ||d||  lg(rg) alpha_du alpha_pr  ls\n",
      "  30r-4.6705364e+02 4.81e+02 9.76e+03   1.3 6.47e+01   1.2 2.37e-01 1.18e-01f  1\n",
      "  31r-4.6639665e+02 4.79e+02 1.48e+04   1.3 2.45e+01   1.6 8.85e-01 2.21e-01f  1\n",
      "  32r-4.6622975e+02 4.69e+02 2.47e+04   1.3 7.40e+01   1.1 7.42e-01 2.73e-01f  1\n",
      "  33r-4.6652118e+02 4.65e+02 3.83e+04   1.3 2.25e+02   0.6 6.19e-01 4.07e-02f  1\n",
      "  34r-4.6784180e+02 4.50e+02 3.58e+04   1.3 7.16e+02   0.2 1.54e-02 5.67e-02f  1\n",
      "  35 -4.6783556e+02 4.50e+02 9.15e+00  -1.0 5.44e+04    -  6.53e-05 2.00e-05f  3\n",
      "  36 -4.6780860e+02 4.50e+02 9.15e+00  -1.0 9.11e+04    -  5.62e-05 2.73e-05h  2\n",
      "  37 -4.6767999e+02 4.50e+02 9.15e+00  -1.0 1.59e+05    -  2.57e-05 3.83e-05h  1\n",
      "  38 -4.6761810e+02 4.50e+02 3.43e+01  -1.0 1.85e+05    -  9.94e-05 1.49e-05h  1\n",
      "  39 -4.6701234e+02 4.50e+02 6.01e+01  -1.0 1.69e+05    -  1.22e-04 1.53e-04h  1\n",
      "iter    objective    inf_pr   inf_du lg(mu)  ||d||  lg(rg) alpha_du alpha_pr  ls\n",
      "  40 -4.6699353e+02 4.50e+02 5.62e+01  -1.0 8.77e+04    -  1.07e-05 9.24e-06h  1\n",
      "  41 -4.6694488e+02 4.50e+02 7.28e+01  -1.0 8.61e+04    -  4.95e-06 2.45e-05h  1\n",
      "  42r-4.6694488e+02 4.50e+02 9.99e+02   2.7 0.00e+00    -  0.00e+00 1.45e-07R  2\n",
      "  43r-4.6694488e+02 4.50e+02 9.99e+02   2.7 2.58e+05    -  1.83e-06 1.42e-07f  2\n",
      "  44r-4.6694439e+02 4.50e+02 9.99e+02   2.7 6.52e+04    -  6.07e-04 6.93e-06f  1\n",
      "  45r-4.6689217e+02 4.48e+02 1.61e+03   2.7 6.27e+04    -  4.53e-03 6.30e-04f  1\n",
      "  46r-4.6650765e+02 4.35e+02 3.15e+03   2.7 5.46e+04    -  8.84e-03 4.16e-03f  1\n",
      "  47r-4.6573977e+02 3.91e+02 1.70e+04   2.7 2.98e+03    -  6.38e-02 1.50e-02f  1\n",
      "  48 -4.6791440e+02 3.89e+02 4.70e+01  -1.0 3.76e+03    -  1.03e-02 4.08e-03f  1\n",
      "  49 -4.6791186e+02 3.89e+02 4.69e+01  -1.0 3.47e+03    -  4.01e-03 2.08e-04h  1\n",
      "iter    objective    inf_pr   inf_du lg(mu)  ||d||  lg(rg) alpha_du alpha_pr  ls\n",
      "  50 -4.6763034e+02 3.88e+02 8.99e+01  -1.0 3.42e+03    -  4.32e-02 2.91e-03h  3\n",
      "  51 -4.6680242e+02 3.86e+02 9.05e+01  -1.0 3.07e+03    -  7.75e-03 3.81e-03h  3\n",
      "  52 -4.6553542e+02 3.85e+02 1.11e+02  -1.0 2.62e+03    -  2.28e-02 4.69e-03h  3\n",
      "  53 -4.6167961e+02 3.80e+02 2.03e+02  -1.0 2.21e+03    -  3.04e-02 1.19e-02h  2\n",
      "  54 -4.4994862e+02 3.68e+02 6.48e+02  -1.0 1.51e+03    -  1.47e-01 3.21e-02h  1\n",
      "  55 -4.4812308e+02 3.65e+02 7.75e+03  -1.0 6.47e+02    -  1.03e-01 6.49e-03h  1\n",
      "  56 -4.4162828e+02 3.57e+02 5.20e+03  -1.0 5.67e+02    -  1.73e-02 2.37e-02h  1\n",
      "  57 -4.4154715e+02 3.57e+02 5.32e+05  -1.0 3.57e+02    -  2.08e-01 4.88e-04h  1\n",
      "  58 -4.4154972e+02 3.57e+02 1.46e+10  -1.0 3.57e+02    -  3.08e-01 1.09e-05h  1\n",
      "  59r-4.4154972e+02 3.57e+02 1.00e+03   2.6 0.00e+00    -  0.00e+00 1.58e-07R  2\n",
      "iter    objective    inf_pr   inf_du lg(mu)  ||d||  lg(rg) alpha_du alpha_pr  ls\n",
      "  60r-4.4155070e+02 3.54e+02 1.15e+04   2.6 8.14e+03    -  3.13e-02 3.70e-04f  1\n",
      "  61r-4.4144746e+02 6.77e+01 1.98e+04   1.9 8.01e+03    -  4.11e-01 3.57e-02f  1\n",
      "  62 -4.4139425e+02 6.71e+01 4.60e+01  -1.0 3.86e+02    -  1.65e-01 9.41e-03h  1\n",
      "  63 -4.4157819e+02 6.70e+01 4.07e+03  -1.0 4.53e+02    -  4.73e-02 7.08e-04h  1\n",
      "  64 -4.4484994e+02 6.40e+01 1.28e+03  -1.0 4.67e+02    -  1.51e-03 4.50e-02f  1\n",
      "  65 -4.4485780e+02 6.40e+01 1.42e+04  -1.0 3.05e+02    -  3.23e-01 5.67e-04h  1\n",
      "  66 -4.4485813e+02 6.40e+01 2.28e+08  -1.0 2.47e+02    -  3.63e-01 2.25e-05h  1\n",
      "  67r-4.4485813e+02 6.40e+01 1.00e+03   1.8 0.00e+00    -  0.00e+00 4.55e-07R  5\n",
      "  68r-4.4473495e+02 2.73e+01 2.30e+03   1.8 2.99e+04    -  4.44e-02 2.12e-03f  1\n",
      "  69 -4.4476581e+02 2.73e+01 2.35e+02  -1.0 2.58e+02    -  2.19e-01 2.84e-03h  1\n",
      "iter    objective    inf_pr   inf_du lg(mu)  ||d||  lg(rg) alpha_du alpha_pr  ls\n",
      "  70 -4.4503618e+02 2.71e+01 7.44e+03  -1.0 2.98e+02    -  1.28e-01 4.36e-03h  1\n",
      "  71 -4.4503702e+02 2.71e+01 1.37e+07  -1.0 2.77e+02    -  1.82e-01 6.40e-05h  1\n"
     ]
    },
    {
     "name": "stdout",
     "output_type": "stream",
     "text": [
      "  72 -4.4503734e+02 2.71e+01 4.74e+10  -1.0 2.50e+02    -  7.78e-02 2.23e-05h  1\n",
      "  73r-4.4503734e+02 2.71e+01 1.00e+03   0.6 0.00e+00    -  0.00e+00 1.68e-07R  2\n",
      "  74r-4.4433751e+02 1.45e+01 9.98e+02   0.6 4.02e+03    -  4.86e-03 1.00e-03f  1\n",
      "  75 -4.4434461e+02 1.45e+01 6.30e+03  -1.0 3.41e+02    -  2.12e-01 1.91e-04h  1\n",
      "  76 -4.4434496e+02 1.45e+01 2.10e+07  -1.0 3.04e+02    -  1.04e-01 2.97e-05h  1\n",
      "  77r-4.4434496e+02 1.45e+01 1.00e+03   0.5 0.00e+00    -  0.00e+00 2.95e-07R  2\n",
      "  78r-4.4428450e+02 2.90e+00 9.96e+02   0.5 1.81e+03    -  7.63e-03 2.54e-03f  1\n",
      "  79r-4.4399008e+02 6.24e+00 9.85e+02   0.5 1.37e+03    -  1.47e-02 1.16e-02f  1\n",
      "iter    objective    inf_pr   inf_du lg(mu)  ||d||  lg(rg) alpha_du alpha_pr  ls\n",
      "  80r-4.4423075e+02 1.17e+01 9.74e+02   0.5 1.19e+03    -  1.80e-02 1.09e-02f  1\n",
      "  81r-4.4572522e+02 3.70e+00 9.41e+02   0.5 8.21e+02    -  2.58e-02 3.39e-02f  1\n",
      "  82r-4.4599850e+02 5.71e+00 1.03e+03   0.5 4.95e+02    -  1.43e-02 3.16e-02f  1\n",
      "  83r-4.4687955e+02 7.50e+00 1.23e+03   0.5 2.96e+02    -  1.57e-01 4.21e-02f  1\n",
      "  84r-4.4692783e+02 9.91e+00 1.23e+03   0.5 2.54e+02    -  2.32e-01 6.00e-02f  1\n",
      "  85r-4.4622259e+02 1.50e+01 1.78e+03   0.5 1.94e+02    -  4.63e-01 1.24e-01f  1\n",
      "  86r-4.4514001e+02 2.18e+01 1.66e+03   0.5 1.82e+02    -  7.08e-01 2.94e-01f  1\n",
      "  87r-4.4437403e+02 1.76e+01 1.24e+03   0.5 1.49e+02    -  9.82e-01 1.90e-01f  1\n",
      "  88r-4.4114396e+02 7.44e-02 3.82e+02   0.5 2.18e+01    -  1.00e+00 1.00e+00f  1\n",
      "  89 -4.4306171e+02 1.26e-01 2.10e+01  -1.0 2.12e+02    -  1.13e-01 1.21e-01h  3\n",
      "iter    objective    inf_pr   inf_du lg(mu)  ||d||  lg(rg) alpha_du alpha_pr  ls\n",
      "  90 -4.4525515e+02 1.80e-01 1.04e+02  -1.0 1.86e+02    -  5.96e-01 1.40e-01h  3\n",
      "  91 -4.4826642e+02 2.20e-01 4.86e+02  -1.0 1.61e+02    -  7.30e-01 1.51e-01h  3\n",
      "  92 -4.6573867e+02 4.53e-01 2.37e+02  -1.0 1.37e+02    -  9.81e-01 8.02e-01H  1\n",
      "  93 -4.7199042e+02 2.42e-02 2.41e+02  -1.0 2.52e+01    -  9.91e-01 9.51e-01h  1\n",
      "  94 -4.7131566e+02 8.31e-02 2.38e+04  -1.0 9.68e+00    -  5.81e-01 8.80e-01H  1\n",
      "  95 -4.7086713e+02 4.50e-02 1.09e+05  -1.0 4.75e+00    -  8.13e-01 9.91e-01H  1\n",
      "  96 -4.7084517e+02 6.21e-04 1.53e+03  -1.0 3.97e-01    -  1.00e+00 1.00e+00h  1\n",
      "  97 -4.7087491e+02 5.04e-05 7.80e+04  -1.0 5.17e-01    -  1.00e+00 1.00e+00H  1\n",
      "  98 -4.7101997e+02 1.53e-04 2.44e+06  -1.0 2.57e+00    -  1.00e+00 1.00e+00F  1\n",
      "  99 -4.7116853e+02 8.08e-05 1.92e+06  -1.0 2.14e+00    -  1.00e+00 1.00e+00F  1\n",
      "iter    objective    inf_pr   inf_du lg(mu)  ||d||  lg(rg) alpha_du alpha_pr  ls\n",
      " 100 -4.7118252e+02 7.19e-07 4.34e+04  -1.0 1.75e-01    -  1.00e+00 1.00e+00H  1\n",
      " 101 -4.7118279e+02 6.73e-08 2.34e+01  -1.0 3.37e-03    -  1.00e+00 1.00e+00h  1\n",
      " 102 -4.7158260e+02 3.24e-02 6.76e+06  -3.8 2.44e+00    -  7.06e-01 9.56e-01f  1\n",
      " 103 -4.7193281e+02 7.05e-02 2.63e+06  -3.8 3.84e+00    -  6.16e-01 1.00e+00f  1\n",
      " 104 -4.7250071e+02 1.50e-01 6.16e+06  -3.8 5.70e+00  -2.0 7.16e-01 1.00e+00f  1\n",
      " 105 -4.7297730e+02 2.64e-01 6.23e+06  -3.8 1.47e+01    -  8.43e-01 1.00e+00h  1\n",
      " 106 -4.7314997e+02 2.69e-01 3.70e+06  -3.8 4.57e+01    -  4.94e-01 2.69e-01h  1\n",
      " 107 -4.7314056e+02 9.57e-02 8.81e+05  -3.8 1.40e+01    -  1.00e+00 1.00e+00h  1\n",
      " 108 -4.7315000e+02 3.68e-02 1.00e+05  -3.8 6.81e+00    -  1.00e+00 8.12e-01h  1\n",
      " 109 -4.7314980e+02 9.24e-03 5.61e+03  -3.8 3.93e+00    -  1.00e+00 1.00e+00h  1\n",
      "iter    objective    inf_pr   inf_du lg(mu)  ||d||  lg(rg) alpha_du alpha_pr  ls\n",
      " 110 -4.7314978e+02 2.39e-03 1.58e+02  -3.8 2.00e+00    -  1.00e+00 1.00e+00h  1\n",
      " 111 -4.7314965e+02 5.78e-06 1.86e-01  -3.8 9.46e-02    -  1.00e+00 1.00e+00h  1\n",
      " 112 -4.7314935e+02 1.26e-05 4.89e-02  -3.8 1.45e-01    -  1.00e+00 1.00e+00h  1\n",
      " 113 -4.7314934e+02 1.39e-06 5.43e-03  -3.8 4.82e-02    -  1.00e+00 1.00e+00h  1\n",
      " 114 -4.7315000e+02 2.41e-04 4.62e+02  -5.7 6.56e-01    -  9.98e-01 9.67e-01h  1\n",
      " 115 -4.7314999e+02 3.88e-05 1.22e+00  -5.7 2.55e-01    -  1.00e+00 1.00e+00h  1\n",
      " 116 -4.7314999e+02 8.13e-06 1.38e-03  -5.7 1.17e-01    -  1.00e+00 1.00e+00h  1\n",
      " 117 -4.7314999e+02 9.59e-07 4.60e-05  -5.7 4.01e-02    -  1.00e+00 1.00e+00h  1\n",
      " 118 -4.7314999e+02 2.57e-08 1.21e-06  -5.7 6.56e-03    -  1.00e+00 1.00e+00h  1\n",
      " 119 -4.7315000e+02 1.99e-06 7.57e-01  -8.6 5.79e-02    -  1.00e+00 9.96e-01h  1\n",
      "iter    objective    inf_pr   inf_du lg(mu)  ||d||  lg(rg) alpha_du alpha_pr  ls\n",
      " 120 -4.7315000e+02 4.58e-07 2.16e-04  -8.6 2.77e-02    -  1.00e+00 1.00e+00h  1\n",
      " 121 -4.7315000e+02 1.08e-07 1.32e-04  -8.6 1.35e-02    -  1.00e+00 1.00e+00h  1\n",
      " 122 -4.7315000e+02 2.40e-08 1.28e-04  -8.6 6.35e-03    -  1.00e+00 1.00e+00h  1\n",
      " 123 -4.7315000e+02 4.88e-09 6.14e-05  -8.6 2.86e-03    -  1.00e+00 1.00e+00h  1\n",
      " 124 -4.7315000e+02 5.95e-10 6.82e-06  -8.6 9.99e-04    -  1.00e+00 1.00e+00h  1\n",
      " 125 -4.7315000e+02 7.79e-12 4.35e-09  -8.6 1.14e-04    -  1.00e+00 1.00e+00h  1\n",
      "\n",
      "Number of Iterations....: 125\n",
      "\n",
      "                                   (scaled)                 (unscaled)\n",
      "Objective...............:  -4.7315000000498213e+02   -4.7315000000498213e+02\n",
      "Dual infeasibility......:   4.3548649728648511e-09    4.3548649728648511e-09\n",
      "Constraint violation....:   7.7875483839306980e-12    7.7875483839306980e-12\n",
      "Complementarity.........:   2.5065799529111036e-09    2.5065799529111036e-09\n",
      "Overall NLP error.......:   4.3548649728648511e-09    4.3548649728648511e-09\n",
      "\n",
      "\n",
      "Number of objective function evaluations             = 199\n",
      "Number of objective gradient evaluations             = 92\n",
      "Number of equality constraint evaluations            = 199\n",
      "Number of inequality constraint evaluations          = 199\n",
      "Number of equality constraint Jacobian evaluations   = 135\n",
      "Number of inequality constraint Jacobian evaluations = 135\n",
      "Number of Lagrangian Hessian evaluations             = 125\n",
      "Total CPU secs in IPOPT (w/o function evaluations)   =      6.301\n",
      "Total CPU secs in NLP function evaluations           =      0.359\n",
      "\n",
      "EXIT: Optimal Solution Found.\n"
     ]
    }
   ],
   "source": [
    "opt = pe.SolverFactory('ipopt')\n",
    "\n",
    "opt.options['print_user_options'] = 'yes'\n",
    "opt.options['linear_solver'] = 'ma86'\n",
    "\n",
    "opt.options['linear_system_scaling '] = 'mc19'\n",
    "opt.options['linear_scaling_on_demand '] = 'no'\n",
    "# opt.options['recalc_y'] = 'yes'\n",
    "# opt.options['bound_relax_factor'] = 0\n",
    "# opt.options['halt_on_ampl_error'] = 'yes'\n",
    "\n",
    "opt.options['max_iter'] = 7000\n",
    "results = opt.solve(model,tee=True)\n",
    "update_dual(pe,model)"
   ]
  },
  {
   "cell_type": "code",
   "execution_count": 25,
   "metadata": {
    "scrolled": true,
    "slideshow": {
     "slide_type": "skip"
    }
   },
   "outputs": [
    {
     "data": {
      "text/plain": [
       "1.8335655212661955e-05"
      ]
     },
     "execution_count": 25,
     "metadata": {},
     "output_type": "execute_result"
    }
   ],
   "source": [
    "model.Q_main.value"
   ]
  },
  {
   "cell_type": "code",
   "execution_count": 26,
   "metadata": {},
   "outputs": [
    {
     "data": {
      "text/plain": [
       "1.0"
      ]
     },
     "execution_count": 26,
     "metadata": {},
     "output_type": "execute_result"
    }
   ],
   "source": [
    "model.magic.value"
   ]
  },
  {
   "cell_type": "code",
   "execution_count": 27,
   "metadata": {},
   "outputs": [
    {
     "data": {
      "text/plain": [
       "1"
      ]
     },
     "execution_count": 27,
     "metadata": {},
     "output_type": "execute_result"
    }
   ],
   "source": [
    "model.L['in'].value"
   ]
  },
  {
   "cell_type": "code",
   "execution_count": 28,
   "metadata": {
    "slideshow": {
     "slide_type": "skip"
    }
   },
   "outputs": [
    {
     "data": {
      "text/plain": [
       "473.15"
      ]
     },
     "execution_count": 28,
     "metadata": {},
     "output_type": "execute_result"
    }
   ],
   "source": [
    "model.T.value"
   ]
  },
  {
   "cell_type": "code",
   "execution_count": 29,
   "metadata": {},
   "outputs": [],
   "source": [
    "# model.solutions.store_to(results)\n",
    "# with open('../saved_solutions/reboiler_MPCC_P_pf_200C.pickle','wb') as f:\n",
    "#     pickle.dump(results,f)"
   ]
  },
  {
   "cell_type": "code",
   "execution_count": 30,
   "metadata": {
    "scrolled": false,
    "slideshow": {
     "slide_type": "slide"
    }
   },
   "outputs": [
    {
     "name": "stdout",
     "output_type": "stream",
     "text": [
      "Component\t\tLiquid: 1.0000\t\t\tVapor: 0.0000\t\t\tlog K\n",
      "------------------------------------------------------------------------------------------------------------\n",
      "H2         \t\t 0.8837%\t\t\t25.2923%\t\t\t1.4567\n",
      "CO         \t\t 1.3400%\t\t\t28.6939%\t\t\t1.3307\n",
      "CO2        \t\t 3.7244%\t\t\t31.8633%\t\t\t0.9322\n",
      "H2O        \t\t 3.6023%\t\t\t12.4040%\t\t\t0.5370\n",
      "C2H4       \t\t 0.0174%\t\t\t 0.1174%\t\t\t0.8302\n",
      "C3H6       \t\t 0.0444%\t\t\t 0.1351%\t\t\t0.4830\n",
      "C4H8       \t\t 0.0456%\t\t\t 0.1204%\t\t\t0.4221\n",
      "C5H10      \t\t 0.0722%\t\t\t 0.0931%\t\t\t0.1104\n",
      "C6H12      \t\t 0.1262%\t\t\t 0.0865%\t\t\t-0.1641\n",
      "C7H14      \t\t 0.2078%\t\t\t 0.0799%\t\t\t-0.4151\n",
      "C8H16      \t\t 0.3264%\t\t\t 0.0731%\t\t\t-0.6499\n",
      "C9H18      \t\t 0.4920%\t\t\t 0.0659%\t\t\t-0.8729\n",
      "C10H20     \t\t 0.7120%\t\t\t 0.0583%\t\t\t-1.0869\n",
      "C11H22     \t\t 0.6286%\t\t\t 0.0320%\t\t\t-1.2938\n",
      "C12H24     \t\t 0.8302%\t\t\t 0.0266%\t\t\t-1.4951\n",
      "C13H26     \t\t 1.0411%\t\t\t 0.0212%\t\t\t-1.6918\n",
      "C14H28     \t\t 1.2375%\t\t\t 0.0161%\t\t\t-1.8847\n",
      "C15H30     \t\t 1.3970%\t\t\t 0.0118%\t\t\t-2.0743\n",
      "C16H32     \t\t 1.5062%\t\t\t 0.0083%\t\t\t-2.2611\n",
      "C17H34     \t\t 1.5634%\t\t\t 0.0056%\t\t\t-2.4456\n",
      "C18H36     \t\t 1.5753%\t\t\t 0.0037%\t\t\t-2.6280\n",
      "C19H38     \t\t 1.5530%\t\t\t 0.0024%\t\t\t-2.8086\n",
      "C20H40     \t\t 1.5073%\t\t\t 0.0016%\t\t\t-2.9876\n",
      "C1H4       \t\t 0.0164%\t\t\t 0.1925%\t\t\t1.0694\n",
      "C2H6       \t\t 0.0107%\t\t\t 0.0631%\t\t\t0.7702\n",
      "C3H8       \t\t 0.0114%\t\t\t 0.0338%\t\t\t0.4726\n",
      "C4H10      \t\t 0.0162%\t\t\t 0.0380%\t\t\t0.3694\n",
      "C5H12      \t\t 0.0471%\t\t\t 0.0547%\t\t\t0.0647\n",
      "C6H14      \t\t 0.0815%\t\t\t 0.0508%\t\t\t-0.2056\n",
      "C7H16      \t\t 0.1332%\t\t\t 0.0468%\t\t\t-0.4538\n",
      "C8H18      \t\t 0.2078%\t\t\t 0.0428%\t\t\t-0.6865\n",
      "C9H20      \t\t 0.3113%\t\t\t 0.0385%\t\t\t-0.9080\n",
      "C10H22     \t\t 0.4475%\t\t\t 0.0339%\t\t\t-1.1208\n",
      "C11H24     \t\t 0.9951%\t\t\t 0.0469%\t\t\t-1.3268\n",
      "C12H26     \t\t 1.3036%\t\t\t 0.0387%\t\t\t-1.5274\n",
      "C13H28     \t\t 1.6207%\t\t\t 0.0306%\t\t\t-1.7234\n",
      "C14H30     \t\t 1.9099%\t\t\t 0.0232%\t\t\t-1.9158\n",
      "C15H32     \t\t 2.1391%\t\t\t 0.0168%\t\t\t-2.1049\n",
      "C16H34     \t\t 2.2908%\t\t\t 0.0117%\t\t\t-2.2914\n",
      "C17H36     \t\t 2.3649%\t\t\t 0.0079%\t\t\t-2.4755\n",
      "C18H38     \t\t 2.3734%\t\t\t 0.0052%\t\t\t-2.6576\n",
      "C19H40     \t\t 2.3329%\t\t\t 0.0034%\t\t\t-2.8380\n",
      "C20H42     \t\t 2.2595%\t\t\t 0.0022%\t\t\t-3.0168\n",
      "C21H44     \t\t 3.6174%\t\t\t 0.0023%\t\t\t-3.1942\n",
      "C22H46     \t\t 3.4437%\t\t\t 0.0015%\t\t\t-3.3703\n",
      "C23H48     \t\t 3.2630%\t\t\t 0.0009%\t\t\t-3.5454\n",
      "C24H50     \t\t 3.0819%\t\t\t 0.0006%\t\t\t-3.7195\n",
      "C25H52     \t\t 2.9046%\t\t\t 0.0004%\t\t\t-3.8926\n",
      "C26H54     \t\t 2.7337%\t\t\t 0.0002%\t\t\t-4.0650\n",
      "C27H56     \t\t 2.5703%\t\t\t 0.0001%\t\t\t-4.2366\n",
      "C28H58     \t\t 2.4152%\t\t\t 0.0001%\t\t\t-4.4075\n",
      "C29H60     \t\t 2.2684%\t\t\t 0.0001%\t\t\t-4.5778\n",
      "C30H62     \t\t 2.1300%\t\t\t 0.0000%\t\t\t-4.7476\n",
      "C31H64     \t\t 1.9996%\t\t\t 0.0000%\t\t\t-4.9168\n",
      "C32H66     \t\t 1.8769%\t\t\t 0.0000%\t\t\t-5.0855\n",
      "C33H68     \t\t 1.7617%\t\t\t 0.0000%\t\t\t-5.2538\n",
      "C34H70     \t\t 1.6534%\t\t\t 0.0000%\t\t\t-5.4217\n",
      "C35H72     \t\t 1.5516%\t\t\t 0.0000%\t\t\t-5.5892\n",
      "C36H74     \t\t 1.4562%\t\t\t 0.0000%\t\t\t-5.7563\n",
      "C37H76     \t\t 1.3665%\t\t\t 0.0000%\t\t\t-5.9231\n",
      "C38H78     \t\t 1.2824%\t\t\t 0.0000%\t\t\t-6.0896\n",
      "C39H80     \t\t 1.2034%\t\t\t 0.0000%\t\t\t-6.2558\n",
      "C40H82     \t\t 1.1293%\t\t\t 0.0000%\t\t\t-6.4218\n",
      "C41H84     \t\t 1.0598%\t\t\t 0.0000%\t\t\t-6.5874\n",
      "C42H86     \t\t 0.9945%\t\t\t 0.0000%\t\t\t-6.7529\n",
      "C43H88     \t\t 0.9332%\t\t\t 0.0000%\t\t\t-6.9181\n",
      "C44H90     \t\t 0.8758%\t\t\t 0.0000%\t\t\t-7.0831\n",
      "C45H92     \t\t 0.8218%\t\t\t 0.0000%\t\t\t-7.2479\n",
      "C46H94     \t\t 0.7712%\t\t\t 0.0000%\t\t\t-7.4125\n",
      "C47H96     \t\t 0.7237%\t\t\t 0.0000%\t\t\t-7.5769\n",
      "C48H98     \t\t 0.6791%\t\t\t 0.0000%\t\t\t-7.7412\n",
      "C49H100    \t\t 0.6373%\t\t\t 0.0000%\t\t\t-7.9053\n",
      "C50H102    \t\t 0.5981%\t\t\t 0.0000%\t\t\t-8.0693\n",
      "C51H104    \t\t 0.5612%\t\t\t 0.0000%\t\t\t-8.2331\n",
      "C52H106    \t\t 0.5266%\t\t\t 0.0000%\t\t\t-8.3968\n",
      "C53H108    \t\t 0.4942%\t\t\t 0.0000%\t\t\t-8.5603\n",
      "C54H110    \t\t 0.4638%\t\t\t 0.0000%\t\t\t-8.7237\n",
      "C55H112    \t\t 0.4352%\t\t\t 0.0000%\t\t\t-8.8871\n",
      "C56H114    \t\t 0.4084%\t\t\t 0.0000%\t\t\t-9.0503\n"
     ]
    }
   ],
   "source": [
    "print('Component\\t\\tLiquid: {:.4f}\\t\\t\\tVapor: {:.4f}\\t\\t\\tlog K'.format(model.L['out'].value,model.V['out'].value))\n",
    "print('-'*108)\n",
    "for i in model.x:\n",
    "    print('{:10s}'.format(i),'\\t\\t{:8.4%}\\t\\t\\t{:8.4%}\\t\\t\\t{:.4f}'.format(model.x[i].value,model.y[i].value,np.log10(model.y[i].value/model.x[i].value)))"
   ]
  },
  {
   "cell_type": "markdown",
   "metadata": {
    "slideshow": {
     "slide_type": "slide"
    }
   },
   "source": [
    "# Iterative Solve for Data Analysis"
   ]
  },
  {
   "cell_type": "code",
   "execution_count": 31,
   "metadata": {},
   "outputs": [],
   "source": [
    "update_dual(pe,model)"
   ]
  },
  {
   "cell_type": "code",
   "execution_count": 32,
   "metadata": {},
   "outputs": [],
   "source": [
    "opt.options['warm_start_init_point'] = 'yes'\n",
    "opt.options['warm_start_bound_push'] = 1e-20\n",
    "opt.options['warm_start_mult_bound_push'] = 1e-20\n",
    "opt.options['mu_init'] = 1e-6"
   ]
  },
  {
   "cell_type": "code",
   "execution_count": 33,
   "metadata": {
    "scrolled": false,
    "slideshow": {
     "slide_type": "fragment"
    }
   },
   "outputs": [
    {
     "name": "stdout",
     "output_type": "stream",
     "text": [
      "Solved, Solution T = 473.15 K\t|\tV = 0.00000\t|\tL = 1.00000\t|\n",
      "Solved, Solution T = 473.15 K\t|\tV = 0.00000\t|\tL = 1.00000\t|\n",
      "Solved, Solution T = 473.15 K\t|\tV = 0.00000\t|\tL = 1.00000\t|\n",
      "Solved, Solution T = 473.15 K\t|\tV = 0.00000\t|\tL = 1.00000\t|\n",
      "Solved, Solution T = 473.15 K\t|\tV = 0.00000\t|\tL = 1.00000\t|\n",
      "Solved, Solution T = 473.15 K\t|\tV = 0.00000\t|\tL = 1.00000\t|\n",
      "Solved, Solution T = 473.15 K\t|\tV = 0.00000\t|\tL = 1.00000\t|\n",
      "Solved, Solution T = 473.15 K\t|\tV = 0.00000\t|\tL = 1.00000\t|\n",
      "Solved, Solution T = 473.15 K\t|\tV = 0.00000\t|\tL = 1.00000\t|\n",
      "Solved, Solution T = 473.15 K\t|\tV = 0.00000\t|\tL = 1.00000\t|\n",
      "Solved, Solution T = 473.15 K\t|\tV = 0.00000\t|\tL = 1.00000\t|\n",
      "Solved, Solution T = 473.15 K\t|\tV = 0.00000\t|\tL = 1.00000\t|\n",
      "Solved, Solution T = 473.15 K\t|\tV = 0.00000\t|\tL = 1.00000\t|\n",
      "Solved, Solution T = 473.15 K\t|\tV = 0.00000\t|\tL = 1.00000\t|\n",
      "Solved, Solution T = 473.15 K\t|\tV = 0.00000\t|\tL = 1.00000\t|\n",
      "Solved, Solution T = 473.15 K\t|\tV = 0.00000\t|\tL = 1.00000\t|\n",
      "Solved, Solution T = 473.15 K\t|\tV = 0.00000\t|\tL = 1.00000\t|\n",
      "Solved, Solution T = 473.15 K\t|\tV = 0.00000\t|\tL = 1.00000\t|\n",
      "Solved, Solution T = 473.15 K\t|\tV = 0.00000\t|\tL = 1.00000\t|\n",
      "Solved, Solution T = 473.15 K\t|\tV = 0.00000\t|\tL = 1.00000\t|\n",
      "Solved, Solution T = 473.15 K\t|\tV = 0.00000\t|\tL = 1.00000\t|\n",
      "Solved, Solution T = 473.15 K\t|\tV = 0.00000\t|\tL = 1.00000\t|\n",
      "Solved, Solution T = 473.15 K\t|\tV = 0.00000\t|\tL = 1.00000\t|\n",
      "Solved, Solution T = 473.15 K\t|\tV = 0.00000\t|\tL = 1.00000\t|\n",
      "Solved, Solution T = 473.15 K\t|\tV = 0.00000\t|\tL = 1.00000\t|\n",
      "Solved, Solution T = 473.15 K\t|\tV = 0.00000\t|\tL = 1.00000\t|\n",
      "Solved, Solution T = 473.15 K\t|\tV = 0.00000\t|\tL = 1.00000\t|\n",
      "Solved, Solution T = 473.15 K\t|\tV = 0.00000\t|\tL = 1.00000\t|\n",
      "Solved, Solution T = 473.15 K\t|\tV = 0.00000\t|\tL = 1.00000\t|\n",
      "Solved, Solution T = 473.15 K\t|\tV = 0.00000\t|\tL = 1.00000\t|\n",
      "Solved, Solution T = 473.15 K\t|\tV = 0.00000\t|\tL = 1.00000\t|\n"
     ]
    }
   ],
   "source": [
    "rf_data = {}\n",
    "rf_data['T'] = []; rf_data['Q'] = []; rf_data['V'] = []; rf_data['L'] = []; \n",
    "rf_data['y_CO'] = []; rf_data['y_H2'] = []; rf_data['y_CO2'] = []; rf_data['y_H2O'] = [];\n",
    "rf_data['f_V_CO'] = []; rf_data['f_V_H2'] = [];\n",
    "    \n",
    "Trange = np.arange(350+273.15,199+273.15,-5)\n",
    "\n",
    "for Tub in Trange:\n",
    "    model.T.setub(Tub)\n",
    "    results = opt.solve(model,tee=False)\n",
    "    update_dual(pe,model)\n",
    "    # print('-'*72)\n",
    "    print('Solved, Solution T = {:.2f} K\\t|\\tV = {:.5f}\\t|\\tL = {:.5f}\\t|'.format(model.T.value,model.V['out'].value,model.L['out'].value))\n",
    "    # print('-'*72)\n",
    "    rf_data['T'].append(model.T.value)\n",
    "    rf_data['Q'].append(model.Q_main.value)\n",
    "    rf_data['V'].append(model.V['out'].value)\n",
    "    rf_data['L'].append(model.L['out'].value)    \n",
    "    \n",
    "    \n",
    "    rf_data['y_H2O'].append(model.y['H2O'].value)\n",
    "    rf_data['y_CO'].append(model.y['CO'].value)\n",
    "    rf_data['y_H2'].append(model.y['H2'].value)\n",
    "    rf_data['y_CO2'].append(model.y['CO2'].value)\n",
    "    \n",
    "    rf_data['f_V_CO'].append(model.f_V['CO'].value)\n",
    "    rf_data['f_V_H2'].append(model.f_V['H2'].value)"
   ]
  },
  {
   "cell_type": "markdown",
   "metadata": {},
   "source": [
    "# VLE Validation using AspenPlus"
   ]
  },
  {
   "cell_type": "markdown",
   "metadata": {},
   "source": [
    "### Feed (Reactor Effluent)"
   ]
  },
  {
   "cell_type": "code",
   "execution_count": 34,
   "metadata": {},
   "outputs": [
    {
     "name": "stdout",
     "output_type": "stream",
     "text": [
      "Temperature (C): \t200.00\t\t\n",
      "Total FLow (kmol/s): \t1.00\t\t\n",
      "------------------------------------------------------------------------\n",
      "H2         \t\t0.8838%\n",
      "CO         \t\t1.3401%\n",
      "CO2        \t\t3.7245%\n",
      "H2O        \t\t3.6023%\n",
      "C2H4       \t\t0.0174%\n",
      "C3H6       \t\t0.0444%\n",
      "C4H8       \t\t0.0456%\n",
      "C5H10      \t\t0.0722%\n",
      "C6H12      \t\t0.1262%\n",
      "C7H14      \t\t0.2078%\n",
      "C8H16      \t\t0.3264%\n",
      "C9H18      \t\t0.4920%\n",
      "C10H20     \t\t0.7120%\n",
      "C11H22     \t\t0.6286%\n",
      "C12H24     \t\t0.8302%\n",
      "C13H26     \t\t1.0411%\n",
      "C14H28     \t\t1.2375%\n",
      "C15H30     \t\t1.3970%\n",
      "C16H32     \t\t1.5062%\n",
      "C17H34     \t\t1.5634%\n",
      "C18H36     \t\t1.5753%\n",
      "C19H38     \t\t1.5530%\n",
      "C20H40     \t\t1.5073%\n",
      "C1H4       \t\t0.0164%\n",
      "C2H6       \t\t0.0107%\n",
      "C3H8       \t\t0.0114%\n",
      "C4H10      \t\t0.0162%\n",
      "C5H12      \t\t0.0471%\n",
      "C6H14      \t\t0.0815%\n",
      "C7H16      \t\t0.1332%\n",
      "C8H18      \t\t0.2078%\n",
      "C9H20      \t\t0.3113%\n",
      "C10H22     \t\t0.4475%\n",
      "C11H24     \t\t0.9951%\n",
      "C12H26     \t\t1.3036%\n",
      "C13H28     \t\t1.6207%\n",
      "C14H30     \t\t1.9099%\n",
      "C15H32     \t\t2.1391%\n",
      "C16H34     \t\t2.2908%\n",
      "C17H36     \t\t2.3649%\n",
      "C18H38     \t\t2.3734%\n",
      "C19H40     \t\t2.3329%\n",
      "C20H42     \t\t2.2595%\n",
      "C21H44     \t\t3.6174%\n",
      "C22H46     \t\t3.4437%\n",
      "C23H48     \t\t3.2630%\n",
      "C24H50     \t\t3.0819%\n",
      "C25H52     \t\t2.9046%\n",
      "C26H54     \t\t2.7336%\n",
      "C27H56     \t\t2.5703%\n",
      "C28H58     \t\t2.4152%\n",
      "C29H60     \t\t2.2684%\n",
      "C30H62     \t\t2.1300%\n",
      "C31H64     \t\t1.9996%\n",
      "C32H66     \t\t1.8769%\n",
      "C33H68     \t\t1.7616%\n",
      "C34H70     \t\t1.6533%\n",
      "C35H72     \t\t1.5516%\n",
      "C36H74     \t\t1.4562%\n",
      "C37H76     \t\t1.3665%\n",
      "C38H78     \t\t1.2824%\n",
      "C39H80     \t\t1.2034%\n",
      "C40H82     \t\t1.1293%\n",
      "C41H84     \t\t1.0598%\n",
      "C42H86     \t\t0.9945%\n",
      "C43H88     \t\t0.9332%\n",
      "C44H90     \t\t0.8758%\n",
      "C45H92     \t\t0.8218%\n",
      "C46H94     \t\t0.7712%\n",
      "C47H96     \t\t0.7237%\n",
      "C48H98     \t\t0.6791%\n",
      "C49H100    \t\t0.6373%\n",
      "C50H102    \t\t0.5980%\n",
      "C51H104    \t\t0.5612%\n",
      "C52H106    \t\t0.5266%\n",
      "C53H108    \t\t0.4942%\n",
      "C54H110    \t\t0.4638%\n",
      "C55H112    \t\t0.4352%\n",
      "C56H114    \t\t0.4084%\n"
     ]
    }
   ],
   "source": [
    "print('Temperature (C): \\t{:.2f}\\t\\t'.format(model.T.value-273.15))\n",
    "print('Total FLow (kmol/s): \\t{:.2f}\\t\\t'.format(model.L['out'].value+model.V['out'].value))\n",
    "print('-'*72)\n",
    "for i in model.x:\n",
    "    print('{:10s}'.format(i),'\\t\\t{:.4%}'.format((model.x[i].value*model.L['out'].value\\\n",
    "        +model.y[i].value*model.V['out'].value)/(model.L['out'].value+model.V['out'].value)))"
   ]
  },
  {
   "cell_type": "markdown",
   "metadata": {},
   "source": [
    "### Phase Separation"
   ]
  },
  {
   "cell_type": "code",
   "execution_count": 35,
   "metadata": {
    "scrolled": false
   },
   "outputs": [
    {
     "name": "stdout",
     "output_type": "stream",
     "text": [
      "Component\t\tLiquid: 1.0000\t\t\tVapor: 0.0000\t\t\tlog K\n",
      "------------------------------------------------------------------------------------------------------------\n",
      "H2         \t\t 0.8837%\t\t\t25.2925%\t\t\t1.4567\n",
      "CO         \t\t 1.3400%\t\t\t28.6940%\t\t\t1.3307\n",
      "CO2        \t\t 3.7244%\t\t\t31.8632%\t\t\t0.9322\n",
      "H2O        \t\t 3.6023%\t\t\t12.4039%\t\t\t0.5370\n",
      "C2H4       \t\t 0.0174%\t\t\t 0.1174%\t\t\t0.8302\n",
      "C3H6       \t\t 0.0444%\t\t\t 0.1351%\t\t\t0.4830\n",
      "C4H8       \t\t 0.0456%\t\t\t 0.1204%\t\t\t0.4221\n",
      "C5H10      \t\t 0.0722%\t\t\t 0.0931%\t\t\t0.1104\n",
      "C6H12      \t\t 0.1262%\t\t\t 0.0865%\t\t\t-0.1641\n",
      "C7H14      \t\t 0.2078%\t\t\t 0.0799%\t\t\t-0.4151\n",
      "C8H16      \t\t 0.3264%\t\t\t 0.0731%\t\t\t-0.6499\n",
      "C9H18      \t\t 0.4920%\t\t\t 0.0659%\t\t\t-0.8729\n",
      "C10H20     \t\t 0.7120%\t\t\t 0.0583%\t\t\t-1.0869\n",
      "C11H22     \t\t 0.6286%\t\t\t 0.0320%\t\t\t-1.2938\n",
      "C12H24     \t\t 0.8302%\t\t\t 0.0266%\t\t\t-1.4951\n",
      "C13H26     \t\t 1.0411%\t\t\t 0.0212%\t\t\t-1.6918\n",
      "C14H28     \t\t 1.2375%\t\t\t 0.0161%\t\t\t-1.8847\n",
      "C15H30     \t\t 1.3970%\t\t\t 0.0118%\t\t\t-2.0743\n",
      "C16H32     \t\t 1.5062%\t\t\t 0.0083%\t\t\t-2.2611\n",
      "C17H34     \t\t 1.5634%\t\t\t 0.0056%\t\t\t-2.4456\n",
      "C18H36     \t\t 1.5753%\t\t\t 0.0037%\t\t\t-2.6280\n",
      "C19H38     \t\t 1.5530%\t\t\t 0.0024%\t\t\t-2.8086\n",
      "C20H40     \t\t 1.5073%\t\t\t 0.0016%\t\t\t-2.9876\n",
      "C1H4       \t\t 0.0164%\t\t\t 0.1925%\t\t\t1.0694\n",
      "C2H6       \t\t 0.0107%\t\t\t 0.0631%\t\t\t0.7702\n",
      "C3H8       \t\t 0.0114%\t\t\t 0.0338%\t\t\t0.4726\n",
      "C4H10      \t\t 0.0162%\t\t\t 0.0380%\t\t\t0.3694\n",
      "C5H12      \t\t 0.0471%\t\t\t 0.0547%\t\t\t0.0647\n",
      "C6H14      \t\t 0.0815%\t\t\t 0.0508%\t\t\t-0.2056\n",
      "C7H16      \t\t 0.1332%\t\t\t 0.0468%\t\t\t-0.4538\n",
      "C8H18      \t\t 0.2078%\t\t\t 0.0428%\t\t\t-0.6865\n",
      "C9H20      \t\t 0.3113%\t\t\t 0.0385%\t\t\t-0.9080\n",
      "C10H22     \t\t 0.4475%\t\t\t 0.0339%\t\t\t-1.1208\n",
      "C11H24     \t\t 0.9951%\t\t\t 0.0469%\t\t\t-1.3268\n",
      "C12H26     \t\t 1.3036%\t\t\t 0.0387%\t\t\t-1.5274\n",
      "C13H28     \t\t 1.6207%\t\t\t 0.0306%\t\t\t-1.7234\n",
      "C14H30     \t\t 1.9099%\t\t\t 0.0232%\t\t\t-1.9158\n",
      "C15H32     \t\t 2.1391%\t\t\t 0.0168%\t\t\t-2.1049\n",
      "C16H34     \t\t 2.2908%\t\t\t 0.0117%\t\t\t-2.2914\n",
      "C17H36     \t\t 2.3649%\t\t\t 0.0079%\t\t\t-2.4755\n",
      "C18H38     \t\t 2.3734%\t\t\t 0.0052%\t\t\t-2.6576\n",
      "C19H40     \t\t 2.3329%\t\t\t 0.0034%\t\t\t-2.8380\n",
      "C20H42     \t\t 2.2595%\t\t\t 0.0022%\t\t\t-3.0168\n",
      "C21H44     \t\t 3.6174%\t\t\t 0.0023%\t\t\t-3.1942\n",
      "C22H46     \t\t 3.4437%\t\t\t 0.0015%\t\t\t-3.3703\n",
      "C23H48     \t\t 3.2630%\t\t\t 0.0009%\t\t\t-3.5454\n",
      "C24H50     \t\t 3.0819%\t\t\t 0.0006%\t\t\t-3.7195\n",
      "C25H52     \t\t 2.9046%\t\t\t 0.0004%\t\t\t-3.8926\n",
      "C26H54     \t\t 2.7337%\t\t\t 0.0002%\t\t\t-4.0650\n",
      "C27H56     \t\t 2.5703%\t\t\t 0.0001%\t\t\t-4.2366\n",
      "C28H58     \t\t 2.4152%\t\t\t 0.0001%\t\t\t-4.4075\n",
      "C29H60     \t\t 2.2684%\t\t\t 0.0001%\t\t\t-4.5778\n",
      "C30H62     \t\t 2.1300%\t\t\t 0.0000%\t\t\t-4.7476\n",
      "C31H64     \t\t 1.9996%\t\t\t 0.0000%\t\t\t-4.9168\n",
      "C32H66     \t\t 1.8769%\t\t\t 0.0000%\t\t\t-5.0855\n",
      "C33H68     \t\t 1.7616%\t\t\t 0.0000%\t\t\t-5.2538\n",
      "C34H70     \t\t 1.6534%\t\t\t 0.0000%\t\t\t-5.4217\n",
      "C35H72     \t\t 1.5516%\t\t\t 0.0000%\t\t\t-5.5892\n",
      "C36H74     \t\t 1.4562%\t\t\t 0.0000%\t\t\t-5.7563\n",
      "C37H76     \t\t 1.3665%\t\t\t 0.0000%\t\t\t-5.9231\n",
      "C38H78     \t\t 1.2824%\t\t\t 0.0000%\t\t\t-6.0896\n",
      "C39H80     \t\t 1.2034%\t\t\t 0.0000%\t\t\t-6.2558\n",
      "C40H82     \t\t 1.1293%\t\t\t 0.0000%\t\t\t-6.4218\n",
      "C41H84     \t\t 1.0598%\t\t\t 0.0000%\t\t\t-6.5874\n",
      "C42H86     \t\t 0.9945%\t\t\t 0.0000%\t\t\t-6.7529\n",
      "C43H88     \t\t 0.9332%\t\t\t 0.0000%\t\t\t-6.9181\n",
      "C44H90     \t\t 0.8758%\t\t\t 0.0000%\t\t\t-7.0831\n",
      "C45H92     \t\t 0.8218%\t\t\t 0.0000%\t\t\t-7.2479\n",
      "C46H94     \t\t 0.7712%\t\t\t 0.0000%\t\t\t-7.4125\n",
      "C47H96     \t\t 0.7237%\t\t\t 0.0000%\t\t\t-7.5769\n",
      "C48H98     \t\t 0.6791%\t\t\t 0.0000%\t\t\t-7.7412\n",
      "C49H100    \t\t 0.6373%\t\t\t 0.0000%\t\t\t-7.9053\n",
      "C50H102    \t\t 0.5980%\t\t\t 0.0000%\t\t\t-8.0693\n",
      "C51H104    \t\t 0.5612%\t\t\t 0.0000%\t\t\t-8.2331\n",
      "C52H106    \t\t 0.5266%\t\t\t 0.0000%\t\t\t-8.3968\n",
      "C53H108    \t\t 0.4942%\t\t\t 0.0000%\t\t\t-8.5603\n",
      "C54H110    \t\t 0.4638%\t\t\t 0.0000%\t\t\t-8.7237\n",
      "C55H112    \t\t 0.4352%\t\t\t 0.0000%\t\t\t-8.8871\n",
      "C56H114    \t\t 0.4084%\t\t\t 0.0000%\t\t\t-9.0503\n"
     ]
    }
   ],
   "source": [
    "print('Component\\t\\tLiquid: {:.4f}\\t\\t\\tVapor: {:.4f}\\t\\t\\tlog K'.format(model.L['out'].value,model.V['out'].value))\n",
    "print('-'*108)\n",
    "for i in model.x:\n",
    "    print('{:10s}'.format(i),'\\t\\t{:8.4%}\\t\\t\\t{:8.4%}\\t\\t\\t{:.4f}'.format(model.x[i].value,model.y[i].value,np.log10(model.y[i].value/model.x[i].value)))"
   ]
  },
  {
   "cell_type": "code",
   "execution_count": 36,
   "metadata": {},
   "outputs": [
    {
     "data": {
      "text/plain": [
       "[(473.15, 1.594178724552811e-05),\n",
       " (473.15, 1.5941787355834047e-05),\n",
       " (473.15, 1.5941787324330808e-05),\n",
       " (473.15, 1.5941787343017994e-05),\n",
       " (473.15, 1.5941787363995778e-05),\n",
       " (473.15, 1.5941787332515304e-05),\n",
       " (473.15, 1.594178736404812e-05),\n",
       " (473.15, 1.5941787329198e-05),\n",
       " (473.15, 1.5941787348172613e-05),\n",
       " (473.15, 1.59417873212391e-05),\n",
       " (473.15, 1.5941787343771186e-05),\n",
       " (473.15, 1.5941787365943964e-05),\n",
       " (473.15, 1.5941787325461715e-05),\n",
       " (473.15, 1.594178735486535e-05),\n",
       " (473.15, 1.594178732292609e-05),\n",
       " (473.15, 1.5941787345429704e-05),\n",
       " (473.15, 1.594178737158882e-05),\n",
       " (473.15, 1.5941787341831948e-05),\n",
       " (473.15, 1.5941787366431327e-05),\n",
       " (473.15, 1.5941787333076907e-05),\n",
       " (473.15, 1.59417873565255e-05),\n",
       " (473.15, 1.594178733257215e-05),\n",
       " (473.15, 1.594178735122284e-05),\n",
       " (473.15, 1.5941787373987047e-05),\n",
       " (473.15, 1.5941787340727316e-05),\n",
       " (473.15, 1.5941787364309648e-05),\n",
       " (473.15, 1.594178733339271e-05),\n",
       " (473.15, 1.594178736298906e-05),\n",
       " (473.15, 1.5941787339613867e-05),\n",
       " (473.15, 1.5941787369590617e-05),\n",
       " (473.15, 1.5941787330882072e-05)]"
      ]
     },
     "execution_count": 36,
     "metadata": {},
     "output_type": "execute_result"
    }
   ],
   "source": [
    "list(zip(rf_data['T'],rf_data['Q']))"
   ]
  },
  {
   "cell_type": "code",
   "execution_count": null,
   "metadata": {},
   "outputs": [],
   "source": []
  }
 ],
 "metadata": {
  "kernelspec": {
   "display_name": "Python 3",
   "language": "python",
   "name": "python3"
  },
  "language_info": {
   "codemirror_mode": {
    "name": "ipython",
    "version": 3
   },
   "file_extension": ".py",
   "mimetype": "text/x-python",
   "name": "python",
   "nbconvert_exporter": "python",
   "pygments_lexer": "ipython3",
   "version": "3.6.3"
  }
 },
 "nbformat": 4,
 "nbformat_minor": 2
}
