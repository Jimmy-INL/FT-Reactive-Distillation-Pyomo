{
 "cells": [
  {
   "cell_type": "markdown",
   "metadata": {
    "slideshow": {
     "slide_type": "slide"
    }
   },
   "source": [
    "# 2nd Level Model Structure: Reboiler"
   ]
  },
  {
   "cell_type": "code",
   "execution_count": 1,
   "metadata": {},
   "outputs": [],
   "source": [
    "import sys\n",
    "import os\n",
    "import pickle\n",
    "sys.path.append(os.path.abspath('..'))\n",
    "import numpy as np\n",
    "from matplotlib import pyplot as plt"
   ]
  },
  {
   "cell_type": "code",
   "execution_count": 2,
   "metadata": {
    "slideshow": {
     "slide_type": "fragment"
    }
   },
   "outputs": [],
   "source": [
    "from pyomo import environ as pe\n",
    "from global_sets.component import m\n",
    "from utility.display_utility import trans_product_mole, trans_product_mass\n",
    "from utility.model_utility import add_dual, update_dual, check_DOF\n",
    "\n",
    "# stage construction rules\n",
    "from physics.energy_reboiler import energy_block_rule\n",
    "from physics.VLE_reboiler_MPCC_P import VLE_block_rule\n",
    "from physics.MPCC_P import P_NCP_block_rule, P_Reg_block_rule, P_pf_block_rule\n",
    "\n",
    "model = pe.ConcreteModel()"
   ]
  },
  {
   "cell_type": "markdown",
   "metadata": {
    "slideshow": {
     "slide_type": "subslide"
    }
   },
   "source": [
    "# Global Sets (Inlet / Outlet)"
   ]
  },
  {
   "cell_type": "code",
   "execution_count": 3,
   "metadata": {
    "slideshow": {
     "slide_type": "fragment"
    }
   },
   "outputs": [],
   "source": [
    "model.inlet = pe.Set(initialize=['in'])\n",
    "model.outlet = pe.Set(initialize=['out','P'])\n",
    "model.stream = model.inlet | model.outlet"
   ]
  },
  {
   "cell_type": "markdown",
   "metadata": {
    "slideshow": {
     "slide_type": "subslide"
    }
   },
   "source": [
    "# Global Variables"
   ]
  },
  {
   "cell_type": "code",
   "execution_count": 4,
   "metadata": {
    "slideshow": {
     "slide_type": "fragment"
    }
   },
   "outputs": [],
   "source": [
    "# Tray Inlet/Outlet Variable\n",
    "model.x_ = pe.Var(model.inlet,m.COMP_TOTAL,within=pe.NonNegativeReals)\n",
    "model.y_ = pe.Var(model.inlet,m.COMP_TOTAL,within=pe.NonNegativeReals)\n",
    "model.x = pe.Var(m.COMP_TOTAL,within=pe.NonNegativeReals)\n",
    "model.y = pe.Var(m.COMP_TOTAL,within=pe.NonNegativeReals)\n",
    "model.z = pe.Var(m.COMP_FEED,within=pe.NonNegativeReals)\n",
    "\n",
    "model.L = pe.Var(model.stream,within=pe.NonNegativeReals)\n",
    "model.V = pe.Var(model.stream,within=pe.NonNegativeReals)\n",
    "model.F = pe.Var(within=pe.NonNegativeReals)\n",
    "\n",
    "model.H_L_ = pe.Var(model.inlet,within=pe.Reals)\n",
    "model.H_V_ = pe.Var(model.inlet,within=pe.Reals)\n",
    "model.H_L = pe.Var(within=pe.Reals)\n",
    "model.H_V = pe.Var(within=pe.Reals)\n",
    "model.H_F = pe.Var(within=pe.Reals)\n",
    "\n",
    "# State Variable\n",
    "model.T = pe.Var(within=pe.NonNegativeReals,bounds=(200+273.15,300+273.15)) # K\n",
    "model.T_F = pe.Var(within=pe.NonNegativeReals) # K\n",
    "model.P = pe.Var(within=pe.NonNegativeReals,bounds=(10,30)) # Bar\n",
    "\n",
    "model.f_V = pe.Var(m.COMP_TOTAL,within=pe.NonNegativeReals,initialize=1e-20)\n",
    "model.f_L = pe.Var(m.COMP_TOTAL,within=pe.NonNegativeReals,initialize=1e-20)\n",
    "\n",
    "model.Q_main = pe.Var(within=pe.Reals) # MW"
   ]
  },
  {
   "cell_type": "markdown",
   "metadata": {
    "slideshow": {
     "slide_type": "slide"
    }
   },
   "source": [
    "# Construct Individual Blocks"
   ]
  },
  {
   "cell_type": "code",
   "execution_count": 5,
   "metadata": {
    "slideshow": {
     "slide_type": "subslide"
    }
   },
   "outputs": [
    {
     "name": "stdout",
     "output_type": "stream",
     "text": [
      "> Importing Energy Blocks......\n",
      "> Adding the following local variable:\n",
      "--------------------------------------------------\n",
      "| energy_block.dH_F\n",
      "| energy_block.dH_V\n",
      "| energy_block.dH_L\n",
      "| energy_block.dH_vap\n",
      "--------------------------------------------------\n",
      "\n"
     ]
    }
   ],
   "source": [
    "model.energy_block = pe.Block(rule=energy_block_rule)"
   ]
  },
  {
   "cell_type": "code",
   "execution_count": 6,
   "metadata": {
    "scrolled": false,
    "slideshow": {
     "slide_type": "subslide"
    }
   },
   "outputs": [
    {
     "name": "stdout",
     "output_type": "stream",
     "text": [
      "> Importing VLE Blocks......\n",
      "> Adding the following local variable:\n",
      "--------------------------------------------------\n",
      "| VLE_block.P_VLE\n",
      "| VLE_block.n_ave\n",
      "| VLE_block.n_ave_cal\n",
      "| VLE_block.Hen\n",
      "| VLE_block.Hen0\n",
      "| VLE_block.gamma\n",
      "| VLE_block.P_sat\n",
      "| VLE_block.P_sat_Y\n",
      "| VLE_block.P_sat_dY_inf\n",
      "| VLE_block.P_sat_dY0\n",
      "| VLE_block.Hen_ref\n",
      "| VLE_block.Hen0_ref\n",
      "| VLE_block.gamma_ref\n",
      "| VLE_block.V_L\n",
      "| VLE_block.V_L_dY_inf\n",
      "| VLE_block.V_L_dY0\n",
      "| VLE_block.poynting\n",
      "--------------------------------------------------\n",
      "\n"
     ]
    }
   ],
   "source": [
    "model.VLE_block = pe.Block(rule=VLE_block_rule)"
   ]
  },
  {
   "cell_type": "markdown",
   "metadata": {
    "slideshow": {
     "slide_type": "slide"
    }
   },
   "source": [
    "# Standard MESH Equations"
   ]
  },
  {
   "cell_type": "markdown",
   "metadata": {
    "slideshow": {
     "slide_type": "subslide"
    }
   },
   "source": [
    "## Mass Balance"
   ]
  },
  {
   "cell_type": "markdown",
   "metadata": {
    "slideshow": {
     "slide_type": "fragment"
    }
   },
   "source": [
    "\\begin{equation}\n",
    "Fz_{i}+\\sum_{s\\in{inlet}}L_{s}x'_{i,s}+\\sum_{s\\in{inlet}}V_{s}y'_{i,s}-\\sum_{s\\in{outlet}}L_{s}x_{i,s}+\\sum_{s\\in{ouelet}}V_{s}y_{i,s}+R_{i} = 0 \\\\\n",
    "i = 1,...NC\n",
    "\\end{equation}"
   ]
  },
  {
   "cell_type": "code",
   "execution_count": 7,
   "metadata": {
    "slideshow": {
     "slide_type": "fragment"
    }
   },
   "outputs": [],
   "source": [
    "def mass_balance_main_rule(model,i):\n",
    "    if i in m.COMP_FEED:\n",
    "        return model.F*model.z[i] + sum(model.L[s]*model.x_[s,i] + model.V[s]*model.y_[s,i] for s in model.inlet)\\\n",
    "        - sum(model.L[s]*model.x[i] + model.V[s]*model.y[i] for s in model.outlet) == 0\n",
    "    else:\n",
    "        return sum(model.L[s]*model.x_[s,i] + model.V[s]*model.y_[s,i] for s in model.inlet)\\\n",
    "        - sum(model.L[s]*model.x[i] + model.V[s]*model.y[i] for s in model.outlet) == 0\n",
    "model.mass_balance_main_con = pe.Constraint(m.COMP_TOTAL,rule=mass_balance_main_rule)"
   ]
  },
  {
   "cell_type": "markdown",
   "metadata": {
    "slideshow": {
     "slide_type": "subslide"
    }
   },
   "source": [
    "## Equilibrium"
   ]
  },
  {
   "cell_type": "markdown",
   "metadata": {
    "slideshow": {
     "slide_type": "fragment"
    }
   },
   "source": [
    "\\begin{align}\n",
    "&f_{i,V} = f_{i,L} \\\\\n",
    "&i = 1,...NC\n",
    "\\end{align}"
   ]
  },
  {
   "cell_type": "code",
   "execution_count": 8,
   "metadata": {
    "slideshow": {
     "slide_type": "fragment"
    }
   },
   "outputs": [],
   "source": [
    "def VL_equil_rule(model,i):\n",
    "    return model.f_V[i] == model.f_L[i]\n",
    "model.VL_equil_con = pe.Constraint(m.COMP_TOTAL,rule=VL_equil_rule)"
   ]
  },
  {
   "cell_type": "markdown",
   "metadata": {},
   "source": [
    "# MPCC - P-Pspec"
   ]
  },
  {
   "cell_type": "code",
   "execution_count": 9,
   "metadata": {},
   "outputs": [
    {
     "name": "stdout",
     "output_type": "stream",
     "text": [
      "> Importing MPCC_P_Reg Blocks......\n",
      "> Adding the following local variable:\n",
      "--------------------------------------------------\n",
      "| MPCC.s_L\n",
      "| MPCC.s_V\n",
      "| MPCC.pf\n",
      "| MPCC.rho\n",
      "--------------------------------------------------\n",
      "> Spliting pressure used in VLE\n",
      "\n"
     ]
    }
   ],
   "source": [
    "model.MPCC = pe.Block(rule = P_pf_block_rule)"
   ]
  },
  {
   "cell_type": "markdown",
   "metadata": {
    "slideshow": {
     "slide_type": "subslide"
    }
   },
   "source": [
    "## Summation"
   ]
  },
  {
   "cell_type": "markdown",
   "metadata": {
    "slideshow": {
     "slide_type": "fragment"
    }
   },
   "source": [
    "\\begin{equation}\n",
    "\\sum_ix_{i} = \\sum_iy_{i} \\\\\n",
    "F + L_{in} + V_{in} + R = L_{out} + V_{out}\n",
    "\\end{equation}"
   ]
  },
  {
   "cell_type": "code",
   "execution_count": 10,
   "metadata": {
    "slideshow": {
     "slide_type": "fragment"
    }
   },
   "outputs": [],
   "source": [
    "def summation_x_y_rule(model):\n",
    "    return sum(model.x[i] for i in m.COMP_TOTAL) == sum(model.y[i] for i in m.COMP_TOTAL)\n",
    "model.summation_x_y_con = pe.Constraint(rule=summation_x_y_rule)\n",
    "\n",
    "def summation_total_mass_rule(model):\n",
    "    return model.F + sum(model.L[s] + model.V[s] for s in model.inlet)\\\n",
    "            - sum(model.L[s] + model.V[s] for s in model.outlet) == 0\n",
    "model.summation_total_mass_con = pe.Constraint(rule=summation_total_mass_rule)"
   ]
  },
  {
   "cell_type": "markdown",
   "metadata": {
    "slideshow": {
     "slide_type": "subslide"
    }
   },
   "source": [
    "## Energy Balance"
   ]
  },
  {
   "cell_type": "markdown",
   "metadata": {
    "slideshow": {
     "slide_type": "fragment"
    }
   },
   "source": [
    "\\begin{equation}\n",
    "F H_f+\\sum_{s\\in{inlet}}L_{s}H_{l,s}+\\sum_{s\\in{inlet}}V_{s}H_{v,s}-\\sum_{s\\in{outlet}}L_{s}H_{l,s}-\\sum_{s\\in{outlet}}V_{s}H_{v,s}+Q = 0\n",
    "\\end{equation}"
   ]
  },
  {
   "cell_type": "code",
   "execution_count": 11,
   "metadata": {
    "slideshow": {
     "slide_type": "fragment"
    }
   },
   "outputs": [],
   "source": [
    "def heat_balance_main_rule(model):\n",
    "    return model.F*model.H_F + sum(model.L[s]*model.H_L_[s] + model.V[s]*model.H_V_[s] for s in model.inlet) \\\n",
    "            + model.Q_main - sum(model.L[s]*model.H_L + model.V[s]*model.H_V for s in model.outlet) == 0\n",
    "model.heat_balance_main_con = pe.Constraint(rule=heat_balance_main_rule)"
   ]
  },
  {
   "cell_type": "markdown",
   "metadata": {
    "slideshow": {
     "slide_type": "slide"
    }
   },
   "source": [
    "# Testing"
   ]
  },
  {
   "cell_type": "code",
   "execution_count": 12,
   "metadata": {
    "slideshow": {
     "slide_type": "fragment"
    }
   },
   "outputs": [
    {
     "name": "stdout",
     "output_type": "stream",
     "text": [
      "Created the follow pyomo suffixes:\n",
      "ipopt_zL_out, ipopt_zU_out, ipopt_zL_in, ipopt_zU_in, dual\n"
     ]
    }
   ],
   "source": [
    "add_dual(pe,model)"
   ]
  },
  {
   "cell_type": "markdown",
   "metadata": {},
   "source": [
    "# Load a flash liquid composition as feed"
   ]
  },
  {
   "cell_type": "code",
   "execution_count": 13,
   "metadata": {},
   "outputs": [],
   "source": [
    "with open('../saved_solutions/reactive_flash_MPCC_P_pf_200C.pickle', 'rb') as f:\n",
    "    C200 = pickle.load(f)"
   ]
  },
  {
   "cell_type": "markdown",
   "metadata": {
    "slideshow": {
     "slide_type": "fragment"
    }
   },
   "source": [
    "## Fixing In/Product Redundent Flow"
   ]
  },
  {
   "cell_type": "code",
   "execution_count": 14,
   "metadata": {
    "slideshow": {
     "slide_type": "fragment"
    }
   },
   "outputs": [],
   "source": [
    "model.y_.fix(0)\n",
    "for i in m.COMP_TOTAL:\n",
    "    model.x_['in',i].fix(C200.Solution.Variable['x[{}]'.format(i)]['Value'])\n",
    "model.L['in'].fix(1)\n",
    "model.L['P'].fix(0)\n",
    "model.V['in'].fix(0)\n",
    "model.V['P'].fix(0)\n",
    "model.H_V_.fix(0)\n",
    "model.H_L_.fix(C200.Solution.Variable['H_V']['Value'])"
   ]
  },
  {
   "cell_type": "markdown",
   "metadata": {
    "slideshow": {
     "slide_type": "subslide"
    }
   },
   "source": [
    "## Fixing Model Parameters"
   ]
  },
  {
   "cell_type": "code",
   "execution_count": 15,
   "metadata": {
    "slideshow": {
     "slide_type": "fragment"
    }
   },
   "outputs": [],
   "source": [
    "model.P.fix(20)\n",
    "model.T_F.fix(200+273.15)\n",
    "model.F.fix(0)\n",
    "model.z['CO'].fix(0.3333)\n",
    "model.z['H2'].fix(0.6666)\n",
    "model.z['C30H62'].fix(0.0001)\n",
    "model.VLE_block.n_ave.fix(20)"
   ]
  },
  {
   "cell_type": "code",
   "execution_count": 16,
   "metadata": {
    "scrolled": true,
    "slideshow": {
     "slide_type": "fragment"
    }
   },
   "outputs": [
    {
     "name": "stdout",
     "output_type": "stream",
     "text": [
      "Active Equality Constraints:\t 957\n",
      "Active Inequality Constraints:\t 1\n",
      "Active Variables:\t\t 1132\n",
      "Fixed Variables:\t\t 171\n",
      "DOF:\t\t\t\t 4\n"
     ]
    }
   ],
   "source": [
    "check_DOF(pe,model)"
   ]
  },
  {
   "cell_type": "markdown",
   "metadata": {
    "slideshow": {
     "slide_type": "subslide"
    }
   },
   "source": [
    "## Fix T or to fix Q? we have found that Maximize against an upper bound is most reliable"
   ]
  },
  {
   "cell_type": "code",
   "execution_count": 17,
   "metadata": {
    "slideshow": {
     "slide_type": "fragment"
    }
   },
   "outputs": [],
   "source": [
    "model.T.setub(350+273.15)"
   ]
  },
  {
   "cell_type": "code",
   "execution_count": 18,
   "metadata": {
    "slideshow": {
     "slide_type": "fragment"
    }
   },
   "outputs": [],
   "source": [
    "# model.obj = pe.Objective(expr = model.L['out'],sense=pe.maximize)\n",
    "# model.obj = pe.Objective(expr = model.Q_main,sense=pe.maximize)\n",
    "model.obj = pe.Objective(expr = model.T - model.MPCC.pf ,sense=pe.maximize)"
   ]
  },
  {
   "cell_type": "code",
   "execution_count": 19,
   "metadata": {
    "scrolled": false,
    "slideshow": {
     "slide_type": "fragment"
    }
   },
   "outputs": [
    {
     "name": "stdout",
     "output_type": "stream",
     "text": [
      "Ipopt 3.12.8: print_user_options=yes\n",
      "linear_solver=ma86\n",
      "linear_system_scaling =mc19\n",
      "linear_scaling_on_demand =no\n",
      "max_iter=7000\n",
      "\n",
      "\n",
      "List of user-set options:\n",
      "\n",
      "                                    Name   Value                used\n",
      "                linear_scaling_on_demand = no                    yes\n",
      "                           linear_solver = ma86                  yes\n",
      "                   linear_system_scaling = mc19                  yes\n",
      "                                max_iter = 7000                  yes\n",
      "                      print_user_options = yes                   yes\n",
      "\n",
      "******************************************************************************\n",
      "This program contains Ipopt, a library for large-scale nonlinear optimization.\n",
      " Ipopt is released as open source code under the Eclipse Public License (EPL).\n",
      "         For more information visit http://projects.coin-or.org/Ipopt\n",
      "******************************************************************************\n",
      "\n",
      "This is Ipopt version 3.12.8, running with linear solver ma86.\n",
      "\n",
      "Number of nonzeros in equality constraint Jacobian...:     3227\n",
      "Number of nonzeros in inequality constraint Jacobian.:        5\n",
      "Number of nonzeros in Lagrangian Hessian.............:     4317\n",
      "\n",
      "Total number of variables............................:      961\n",
      "                     variables with only lower bounds:      325\n",
      "                variables with lower and upper bounds:      391\n",
      "                     variables with only upper bounds:        0\n",
      "Total number of equality constraints.................:      957\n",
      "Total number of inequality constraints...............:        1\n",
      "        inequality constraints with only lower bounds:        0\n",
      "   inequality constraints with lower and upper bounds:        0\n",
      "        inequality constraints with only upper bounds:        1\n",
      "\n",
      "iter    objective    inf_pr   inf_du lg(mu)  ||d||  lg(rg) alpha_du alpha_pr  ls\n",
      "   0 -4.7464000e+02 1.37e+04 1.00e+00  -1.0 0.00e+00    -  0.00e+00 0.00e+00   0\n",
      "   1 -4.7465056e+02 1.37e+04 1.14e+01  -1.0 1.15e+04    -  9.63e-04 5.78e-04h  1\n",
      "   2r-4.7465056e+02 1.37e+04 9.99e+02   4.1 0.00e+00    -  0.00e+00 3.14e-07R  5\n",
      "   3r-4.7464878e+02 1.37e+04 1.17e+04   4.1 5.71e+05    -  2.35e-03 9.39e-07f  1\n",
      "   4r-5.3236106e+02 1.10e+03 1.15e+04   2.0 4.66e+05    -  5.20e-04 2.00e-02f  1\n",
      "   5 -5.3224687e+02 1.10e+03 1.13e+00  -1.0 1.34e+04    -  1.54e-03 1.56e-03h  1\n",
      "   6 -5.3206927e+02 1.10e+03 2.15e+00  -1.0 1.34e+04    -  3.95e-03 2.42e-03h  1\n",
      "   7 -5.3206826e+02 1.10e+03 6.07e+01  -1.0 9.88e+03    -  7.38e-04 4.32e-05h  1\n",
      "   8 -5.3209871e+02 1.10e+03 3.12e+01  -1.0 6.03e+03    -  5.87e-04 7.23e-04h  1\n",
      "   9 -5.3213404e+02 1.10e+03 1.87e+02  -1.0 6.04e+03    -  1.54e-03 8.39e-04h  1\n",
      "iter    objective    inf_pr   inf_du lg(mu)  ||d||  lg(rg) alpha_du alpha_pr  ls\n",
      "  10r-5.3213404e+02 1.10e+03 9.99e+02   3.0 0.00e+00    -  0.00e+00 2.68e-07R  6\n",
      "  11r-5.3215429e+02 1.09e+03 9.99e+02   3.0 6.76e+05    -  5.00e-05 5.92e-06f  1\n",
      "  12r-5.3243263e+02 1.03e+03 1.29e+03   3.0 6.64e+05    -  5.67e-03 8.00e-05f  1\n",
      "  13r-5.3839340e+02 5.10e+02 1.27e+03   2.3 1.58e+05    -  3.12e-03 5.30e-03f  1\n",
      "  14 -5.3835296e+02 5.10e+02 1.05e+02  -1.0 1.10e+04    -  1.24e-02 6.26e-04h  1\n",
      "  15 -5.3837818e+02 5.09e+02 1.24e+03  -1.0 6.26e+03    -  7.97e-03 7.27e-04h  1\n",
      "  16 -5.3843290e+02 5.09e+02 6.83e+03  -1.0 6.40e+03    -  1.05e-02 1.55e-03h  1\n",
      "  17 -5.3843346e+02 5.09e+02 1.25e+06  -1.0 6.38e+03    -  1.50e-02 1.60e-05h  1\n",
      "  18r-5.3843346e+02 5.09e+02 9.99e+02   2.7 0.00e+00    -  0.00e+00 9.87e-08R  2\n",
      "  19r-5.3844066e+02 5.09e+02 1.00e+03   2.7 8.05e+04    -  4.58e-04 4.03e-05f  1\n",
      "iter    objective    inf_pr   inf_du lg(mu)  ||d||  lg(rg) alpha_du alpha_pr  ls\n",
      "  20r-5.3860747e+02 5.08e+02 1.53e+03   2.7 6.84e+04    -  1.03e-02 7.10e-04f  1\n",
      "  21r-5.4073290e+02 5.06e+02 1.04e+03   2.7 3.77e+04    -  4.72e-03 1.17e-02f  1\n",
      "  22r-5.4231661e+02 5.02e+02 1.02e+03   2.7 2.92e+04    -  1.26e-02 1.29e-02f  1\n",
      "  23r-5.4257456e+02 5.01e+02 1.90e+04   2.7 1.21e+04    -  1.38e-01 6.08e-03f  1\n",
      "  24r-5.4436770e+02 4.74e+02 1.16e+04   2.0 3.50e+03    -  6.89e-02 1.17e-01f  1\n",
      "  25r-5.4428786e+02 4.45e+02 2.20e+04   2.0 9.20e+02    -  1.92e-01 5.69e-02f  1\n",
      "  26 -5.4383448e+02 4.43e+02 2.54e+00  -1.0 1.01e+04    -  4.74e-03 5.67e-03h  1\n",
      "  27 -5.4235601e+02 4.36e+02 3.94e+02  -1.0 9.93e+03    -  3.08e-03 1.61e-02h  1\n",
      "  28 -5.4233813e+02 4.35e+02 4.10e+02  -1.0 4.93e+03    -  4.35e-02 2.77e-04h  1\n",
      "  29 -5.4177809e+02 4.24e+02 2.19e+02  -1.0 3.44e+03    -  2.41e-02 2.56e-02h  1\n",
      "iter    objective    inf_pr   inf_du lg(mu)  ||d||  lg(rg) alpha_du alpha_pr  ls\n",
      "  30 -5.3807510e+02 3.20e+02 3.44e+03  -1.0 3.21e+03    -  2.12e-02 2.45e-01f  1\n",
      "  31 -5.4356593e+02 1.82e+02 5.99e+03  -1.0 1.03e+03    -  3.78e-03 4.32e-01f  1\n",
      "  32 -5.4351610e+02 1.78e+02 5.86e+03  -1.0 1.84e+03  -2.0 2.04e-03 2.17e-02h  1\n",
      "  33 -5.4953311e+02 8.73e+01 4.70e+03  -1.0 1.78e+02  -2.5 3.27e-03 5.10e-01h  1\n",
      "  34 -5.4746711e+02 3.25e+01 2.46e+03  -1.0 8.59e+02    -  1.81e-01 6.28e-01h  1\n",
      "  35 -5.4701041e+02 1.55e+01 1.09e+03  -1.0 2.27e+02    -  6.83e-01 5.23e-01h  1\n",
      "  36 -5.4853091e+02 1.71e+00 1.07e+04  -1.0 2.32e+02    -  3.91e-01 8.89e-01h  1\n",
      "  37 -5.5129438e+02 5.22e+00 9.08e+05  -1.0 7.36e+02    -  9.35e-01 8.31e-01h  1\n",
      "  38 -5.5890065e+02 3.09e+01 1.74e+06  -1.0 5.69e+03    -  4.83e-02 2.50e-01f  3\n",
      "  39 -5.7394359e+02 9.83e+01 2.93e+05  -1.0 5.61e+03    -  3.12e-01 4.80e-01F  1\n",
      "iter    objective    inf_pr   inf_du lg(mu)  ||d||  lg(rg) alpha_du alpha_pr  ls\n",
      "  40 -5.6425264e+02 4.72e+01 6.13e+07  -1.0 1.95e+03    -  2.83e-02 1.00e+00h  1\n",
      "  41 -5.9021155e+02 2.43e+02 2.69e+08  -1.0 1.04e+04    -  2.02e-01 4.94e-01F  1\n",
      "  42 -5.8818072e+02 6.01e-01 4.82e+07  -1.0 2.85e+01  -0.2 4.86e-01 1.00e+00f  1\n",
      "  43 -5.8928036e+02 7.23e-01 2.55e+07  -1.0 4.14e+02    -  7.84e-01 4.82e-01f  1\n",
      "  44 -5.9060042e+02 1.70e+00 1.54e+07  -1.0 7.94e+02    -  6.05e-01 4.48e-01f  1\n",
      "  45 -5.9050629e+02 2.46e-03 3.64e+05  -1.0 1.68e+00  -0.7 9.97e-01 1.00e+00f  1\n",
      "  46 -6.1271870e+02 2.59e+02 8.53e+04  -1.0 4.99e+03    -  6.01e-01 1.00e+00f  1\n",
      "  47 -6.2236145e+02 7.42e+01 2.65e+04  -1.0 2.83e+03    -  1.00e+00 8.95e-01h  1\n",
      "  48 -6.2195066e+02 4.59e-02 2.17e+03  -1.0 2.02e+00  -1.2 1.00e+00 1.00e+00h  1\n",
      "  49 -6.2110537e+02 1.52e-01 2.21e+03  -1.0 1.00e+02    -  5.61e-01 1.00e+00f  1\n",
      "iter    objective    inf_pr   inf_du lg(mu)  ||d||  lg(rg) alpha_du alpha_pr  ls\n",
      "  50 -6.1956026e+02 1.13e+00 3.46e+02  -1.0 3.68e+02    -  6.58e-01 1.00e+00f  1\n",
      "  51 -6.1857305e+02 5.02e-01 2.49e+01  -1.0 2.43e+02    -  1.00e+00 1.00e+00h  1\n",
      "  52 -6.1837784e+02 2.13e-02 5.15e-02  -1.0 4.96e+01    -  1.00e+00 1.00e+00h  1\n",
      "  53 -6.2228002e+02 6.18e+00 5.74e+03  -2.5 1.07e+03    -  6.95e-01 7.94e-01f  1\n",
      "  54 -6.2233876e+02 5.77e+00 3.55e+03  -2.5 4.35e+01    -  7.79e-01 6.55e-02h  1\n",
      "  55 -6.2314513e+02 2.18e+00 3.22e+02  -2.5 9.26e+00    -  9.99e-01 6.22e-01h  1\n",
      "  56 -6.2312454e+02 6.71e-02 1.07e+03  -2.5 5.24e+00    -  1.00e+00 1.00e+00h  1\n",
      "  57 -6.2313714e+02 6.90e-03 1.37e+02  -2.5 1.25e+00    -  1.00e+00 1.00e+00h  1\n",
      "  58 -6.2313576e+02 2.70e-04 4.85e-01  -2.5 3.12e-01    -  1.00e+00 1.00e+00h  1\n",
      "  59 -6.2313297e+02 5.55e-05 3.41e-03  -2.5 1.16e-01    -  1.00e+00 1.00e+00h  1\n",
      "iter    objective    inf_pr   inf_du lg(mu)  ||d||  lg(rg) alpha_du alpha_pr  ls\n",
      "  60 -6.2314763e+02 5.77e-04 2.40e+02  -3.8 8.11e-01    -  1.00e+00 7.44e-01h  1\n",
      "  61 -6.2314923e+02 9.07e-07 1.96e-01  -3.8 1.49e-01    -  1.00e+00 1.00e+00h  1\n",
      "  62 -6.2314925e+02 9.27e-09 1.20e-05  -3.8 1.50e-03    -  1.00e+00 1.00e+00h  1\n",
      "  63 -6.2314999e+02 5.88e-07 8.08e-01  -5.7 3.88e-02    -  1.00e+00 9.85e-01f  1\n",
      "  64 -6.2315000e+02 4.83e-10 6.29e-06  -5.7 4.10e-04    -  1.00e+00 1.00e+00f  1\n",
      "  65 -6.2315001e+02 1.62e-10 5.11e-06  -8.6 4.77e-04    -  1.00e+00 1.00e+00h  1\n",
      "  66 -6.2315001e+02 1.61e-10 4.94e-08  -8.6 1.14e-07    -  1.00e+00 1.00e+00h  1\n",
      "  67 -6.2315001e+02 3.64e-12 1.78e-10  -8.6 1.64e-09    -  1.00e+00 1.00e+00h  1\n",
      "\n",
      "Number of Iterations....: 67\n",
      "\n",
      "                                   (scaled)                 (unscaled)\n",
      "Objective...............:  -6.2315000623372100e+02   -6.2315000623372100e+02\n",
      "Dual infeasibility......:   1.7767945660509135e-10    1.7767945660509135e-10\n",
      "Constraint violation....:   2.9897460212784098e-12    3.6379788070917130e-12\n",
      "Complementarity.........:   2.7681588569785416e-09    2.7681588569785416e-09\n",
      "Overall NLP error.......:   2.7681588569785416e-09    2.7681588569785416e-09\n",
      "\n",
      "\n",
      "Number of objective function evaluations             = 87\n",
      "Number of objective gradient evaluations             = 59\n",
      "Number of equality constraint evaluations            = 87\n",
      "Number of inequality constraint evaluations          = 87\n",
      "Number of equality constraint Jacobian evaluations   = 71\n",
      "Number of inequality constraint Jacobian evaluations = 71\n",
      "Number of Lagrangian Hessian evaluations             = 67\n",
      "Total CPU secs in IPOPT (w/o function evaluations)   =      2.203\n",
      "Total CPU secs in NLP function evaluations           =      0.133\n",
      "\n",
      "EXIT: Optimal Solution Found.\n"
     ]
    }
   ],
   "source": [
    "opt = pe.SolverFactory('ipopt')\n",
    "\n",
    "opt.options['print_user_options'] = 'yes'\n",
    "opt.options['linear_solver'] = 'ma86'\n",
    "\n",
    "opt.options['linear_system_scaling '] = 'mc19'\n",
    "opt.options['linear_scaling_on_demand '] = 'no'\n",
    "# opt.options['recalc_y'] = 'yes'\n",
    "# opt.options['bound_relax_factor'] = 0\n",
    "# opt.options['halt_on_ampl_error'] = 'yes'\n",
    "\n",
    "opt.options['max_iter'] = 7000\n",
    "results = opt.solve(model,tee=True)\n",
    "update_dual(pe,model)"
   ]
  },
  {
   "cell_type": "code",
   "execution_count": 20,
   "metadata": {
    "scrolled": true,
    "slideshow": {
     "slide_type": "skip"
    }
   },
   "outputs": [
    {
     "data": {
      "text/plain": [
       "-172.38441649497872"
      ]
     },
     "execution_count": 20,
     "metadata": {},
     "output_type": "execute_result"
    }
   ],
   "source": [
    "model.Q_main.value"
   ]
  },
  {
   "cell_type": "code",
   "execution_count": 21,
   "metadata": {
    "slideshow": {
     "slide_type": "skip"
    }
   },
   "outputs": [
    {
     "data": {
      "text/plain": [
       "623.15"
      ]
     },
     "execution_count": 21,
     "metadata": {},
     "output_type": "execute_result"
    }
   ],
   "source": [
    "model.T.value"
   ]
  },
  {
   "cell_type": "code",
   "execution_count": 22,
   "metadata": {},
   "outputs": [],
   "source": [
    "# model.solutions.store_to(results)\n",
    "# with open('../saved_solutions/reboiler_350C.pickle','wb') as f:\n",
    "#     pickle.dump(results,f)"
   ]
  },
  {
   "cell_type": "code",
   "execution_count": 23,
   "metadata": {
    "scrolled": false,
    "slideshow": {
     "slide_type": "slide"
    }
   },
   "outputs": [
    {
     "name": "stdout",
     "output_type": "stream",
     "text": [
      "Component\t\tLiquid: 0.9830\t\t\tVapor: 0.0170\t\t\tlog K\n",
      "------------------------------------------------------------------------------------------------------------\n",
      "H2         \t\t 0.6880%\t\t\t12.2326%\t\t\t1.2499\n",
      "CO         \t\t 1.0670%\t\t\t17.1752%\t\t\t1.2067\n",
      "CO2        \t\t 3.2077%\t\t\t33.6888%\t\t\t1.0213\n",
      "H2O        \t\t 3.2148%\t\t\t26.0693%\t\t\t0.9090\n",
      "C2H4       \t\t 0.0153%\t\t\t 0.1337%\t\t\t0.9403\n",
      "C3H6       \t\t 0.0414%\t\t\t 0.2180%\t\t\t0.7210\n",
      "C4H8       \t\t 0.0418%\t\t\t 0.2644%\t\t\t0.8011\n",
      "C5H10      \t\t 0.0692%\t\t\t 0.2418%\t\t\t0.5431\n",
      "C6H12      \t\t 0.1238%\t\t\t 0.2688%\t\t\t0.3368\n",
      "C7H14      \t\t 0.2062%\t\t\t 0.3003%\t\t\t0.1633\n",
      "C8H16      \t\t 0.3263%\t\t\t 0.3357%\t\t\t0.0124\n",
      "C9H18      \t\t 0.4941%\t\t\t 0.3730%\t\t\t-0.1221\n",
      "C10H20     \t\t 0.7173%\t\t\t 0.4089%\t\t\t-0.2441\n",
      "C11H22     \t\t 0.6346%\t\t\t 0.2794%\t\t\t-0.3562\n",
      "C12H24     \t\t 0.8395%\t\t\t 0.2908%\t\t\t-0.4605\n",
      "C13H26     \t\t 1.0541%\t\t\t 0.2914%\t\t\t-0.5584\n",
      "C14H28     \t\t 1.2540%\t\t\t 0.2802%\t\t\t-0.6509\n",
      "C15H30     \t\t 1.4166%\t\t\t 0.2585%\t\t\t-0.7389\n",
      "C16H32     \t\t 1.5282%\t\t\t 0.2297%\t\t\t-0.8230\n",
      "C17H34     \t\t 1.5869%\t\t\t 0.1980%\t\t\t-0.9038\n",
      "C18H36     \t\t 1.5996%\t\t\t 0.1668%\t\t\t-0.9818\n",
      "C19H38     \t\t 1.5774%\t\t\t 0.1383%\t\t\t-1.0573\n",
      "C20H40     \t\t 1.5313%\t\t\t 0.1134%\t\t\t-1.1305\n",
      "C1H4       \t\t 0.0140%\t\t\t 0.1530%\t\t\t1.0371\n",
      "C2H6       \t\t 0.0095%\t\t\t 0.0799%\t\t\t0.9243\n",
      "C3H8       \t\t 0.0105%\t\t\t 0.0620%\t\t\t0.7709\n",
      "C4H10      \t\t 0.0150%\t\t\t 0.0850%\t\t\t0.7526\n",
      "C5H12      \t\t 0.0454%\t\t\t 0.1450%\t\t\t0.5041\n",
      "C6H14      \t\t 0.0801%\t\t\t 0.1612%\t\t\t0.3036\n",
      "C7H16      \t\t 0.1324%\t\t\t 0.1802%\t\t\t0.1340\n",
      "C8H18      \t\t 0.2079%\t\t\t 0.2012%\t\t\t-0.0142\n",
      "C9H20      \t\t 0.3128%\t\t\t 0.2232%\t\t\t-0.1466\n",
      "C10H22     \t\t 0.4510%\t\t\t 0.2439%\t\t\t-0.2669\n",
      "C11H24     \t\t 1.0050%\t\t\t 0.4211%\t\t\t-0.3777\n",
      "C12H26     \t\t 1.3186%\t\t\t 0.4356%\t\t\t-0.4810\n",
      "C13H28     \t\t 1.6412%\t\t\t 0.4337%\t\t\t-0.5780\n",
      "C14H30     \t\t 1.9357%\t\t\t 0.4141%\t\t\t-0.6697\n",
      "C15H32     \t\t 2.1694%\t\t\t 0.3795%\t\t\t-0.7571\n",
      "C16H34     \t\t 2.3245%\t\t\t 0.3354%\t\t\t-0.8407\n",
      "C17H36     \t\t 2.4007%\t\t\t 0.2879%\t\t\t-0.9211\n",
      "C18H38     \t\t 2.4101%\t\t\t 0.2418%\t\t\t-0.9987\n",
      "C19H40     \t\t 2.3697%\t\t\t 0.2000%\t\t\t-1.0738\n",
      "C20H42     \t\t 2.2956%\t\t\t 0.1638%\t\t\t-1.1467\n",
      "C21H44     \t\t 3.6759%\t\t\t 0.2227%\t\t\t-1.2177\n",
      "C22H46     \t\t 3.5000%\t\t\t 0.1808%\t\t\t-1.2870\n",
      "C23H48     \t\t 3.3167%\t\t\t 0.1466%\t\t\t-1.3547\n",
      "C24H50     \t\t 3.1330%\t\t\t 0.1188%\t\t\t-1.4210\n",
      "C25H52     \t\t 2.9530%\t\t\t 0.0964%\t\t\t-1.4861\n",
      "C26H54     \t\t 2.7794%\t\t\t 0.0783%\t\t\t-1.5501\n",
      "C27H56     \t\t 2.6135%\t\t\t 0.0637%\t\t\t-1.6130\n",
      "C28H58     \t\t 2.4559%\t\t\t 0.0519%\t\t\t-1.6750\n",
      "C29H60     \t\t 2.3068%\t\t\t 0.0423%\t\t\t-1.7362\n",
      "C30H62     \t\t 2.1661%\t\t\t 0.0346%\t\t\t-1.7965\n",
      "C31H64     \t\t 2.0336%\t\t\t 0.0283%\t\t\t-1.8561\n",
      "C32H66     \t\t 1.9089%\t\t\t 0.0232%\t\t\t-1.9150\n",
      "C33H68     \t\t 1.7917%\t\t\t 0.0191%\t\t\t-1.9733\n",
      "C34H70     \t\t 1.6816%\t\t\t 0.0157%\t\t\t-2.0311\n",
      "C35H72     \t\t 1.5782%\t\t\t 0.0129%\t\t\t-2.0883\n",
      "C36H74     \t\t 1.4811%\t\t\t 0.0106%\t\t\t-2.1450\n",
      "C37H76     \t\t 1.3899%\t\t\t 0.0087%\t\t\t-2.2012\n",
      "C38H78     \t\t 1.3044%\t\t\t 0.0072%\t\t\t-2.2570\n",
      "C39H80     \t\t 1.2241%\t\t\t 0.0060%\t\t\t-2.3124\n",
      "C40H82     \t\t 1.1487%\t\t\t 0.0049%\t\t\t-2.3674\n",
      "C41H84     \t\t 1.0780%\t\t\t 0.0041%\t\t\t-2.4221\n",
      "C42H86     \t\t 1.0116%\t\t\t 0.0034%\t\t\t-2.4764\n",
      "C43H88     \t\t 0.9493%\t\t\t 0.0028%\t\t\t-2.5305\n",
      "C44H90     \t\t 0.8908%\t\t\t 0.0023%\t\t\t-2.5842\n",
      "C45H92     \t\t 0.8360%\t\t\t 0.0019%\t\t\t-2.6376\n",
      "C46H94     \t\t 0.7845%\t\t\t 0.0016%\t\t\t-2.6908\n",
      "C47H96     \t\t 0.7362%\t\t\t 0.0013%\t\t\t-2.7438\n",
      "C48H98     \t\t 0.6908%\t\t\t 0.0011%\t\t\t-2.7965\n",
      "C49H100    \t\t 0.6483%\t\t\t 0.0009%\t\t\t-2.8490\n",
      "C50H102    \t\t 0.6083%\t\t\t 0.0008%\t\t\t-2.9012\n",
      "C51H104    \t\t 0.5709%\t\t\t 0.0006%\t\t\t-2.9533\n",
      "C52H106    \t\t 0.5357%\t\t\t 0.0005%\t\t\t-3.0052\n",
      "C53H108    \t\t 0.5027%\t\t\t 0.0004%\t\t\t-3.0569\n",
      "C54H110    \t\t 0.4718%\t\t\t 0.0004%\t\t\t-3.1085\n",
      "C55H112    \t\t 0.4427%\t\t\t 0.0003%\t\t\t-3.1598\n",
      "C56H114    \t\t 0.4154%\t\t\t 0.0003%\t\t\t-3.2111\n"
     ]
    }
   ],
   "source": [
    "print('Component\\t\\tLiquid: {:.4f}\\t\\t\\tVapor: {:.4f}\\t\\t\\tlog K'.format(model.L['out'].value,model.V['out'].value))\n",
    "print('-'*108)\n",
    "for i in model.x:\n",
    "    print('{:10s}'.format(i),'\\t\\t{:8.4%}\\t\\t\\t{:8.4%}\\t\\t\\t{:.4f}'.format(model.x[i].value,model.y[i].value,np.log10(model.y[i].value/model.x[i].value)))"
   ]
  },
  {
   "cell_type": "markdown",
   "metadata": {
    "slideshow": {
     "slide_type": "slide"
    }
   },
   "source": [
    "# Iterative Solve for Data Analysis"
   ]
  },
  {
   "cell_type": "code",
   "execution_count": 24,
   "metadata": {},
   "outputs": [],
   "source": [
    "update_dual(pe,model)"
   ]
  },
  {
   "cell_type": "code",
   "execution_count": 25,
   "metadata": {},
   "outputs": [],
   "source": [
    "opt.options['warm_start_init_point'] = 'yes'\n",
    "opt.options['warm_start_bound_push'] = 1e-20\n",
    "opt.options['warm_start_mult_bound_push'] = 1e-20\n",
    "opt.options['mu_init'] = 1e-6"
   ]
  },
  {
   "cell_type": "code",
   "execution_count": 29,
   "metadata": {
    "scrolled": false,
    "slideshow": {
     "slide_type": "fragment"
    }
   },
   "outputs": [
    {
     "name": "stdout",
     "output_type": "stream",
     "text": [
      "Solved, Solution T = 623.15 K\t|\tV = 0.01695\t|\tL = 0.98305\t|\tP_VLE = 20.00\n",
      "Solved, Solution T = 618.15 K\t|\tV = 0.01587\t|\tL = 0.98413\t|\tP_VLE = 20.00\n",
      "Solved, Solution T = 613.15 K\t|\tV = 0.01486\t|\tL = 0.98514\t|\tP_VLE = 20.00\n",
      "Solved, Solution T = 608.15 K\t|\tV = 0.01390\t|\tL = 0.98610\t|\tP_VLE = 20.00\n",
      "Solved, Solution T = 603.15 K\t|\tV = 0.01299\t|\tL = 0.98701\t|\tP_VLE = 20.00\n",
      "Solved, Solution T = 598.15 K\t|\tV = 0.01212\t|\tL = 0.98788\t|\tP_VLE = 20.00\n",
      "Solved, Solution T = 593.15 K\t|\tV = 0.01131\t|\tL = 0.98869\t|\tP_VLE = 20.00\n",
      "Solved, Solution T = 588.15 K\t|\tV = 0.01053\t|\tL = 0.98947\t|\tP_VLE = 20.00\n",
      "Solved, Solution T = 583.15 K\t|\tV = 0.00979\t|\tL = 0.99021\t|\tP_VLE = 20.00\n",
      "Solved, Solution T = 578.15 K\t|\tV = 0.00908\t|\tL = 0.99092\t|\tP_VLE = 20.00\n",
      "Solved, Solution T = 573.15 K\t|\tV = 0.00841\t|\tL = 0.99159\t|\tP_VLE = 20.00\n",
      "Solved, Solution T = 568.15 K\t|\tV = 0.00777\t|\tL = 0.99223\t|\tP_VLE = 20.00\n",
      "Solved, Solution T = 563.15 K\t|\tV = 0.00715\t|\tL = 0.99285\t|\tP_VLE = 20.00\n",
      "Solved, Solution T = 558.15 K\t|\tV = 0.00657\t|\tL = 0.99343\t|\tP_VLE = 20.00\n",
      "Solved, Solution T = 553.15 K\t|\tV = 0.00601\t|\tL = 0.99399\t|\tP_VLE = 20.00\n",
      "Solved, Solution T = 548.15 K\t|\tV = 0.00548\t|\tL = 0.99452\t|\tP_VLE = 20.00\n",
      "Solved, Solution T = 543.15 K\t|\tV = 0.00497\t|\tL = 0.99503\t|\tP_VLE = 20.00\n",
      "Solved, Solution T = 538.15 K\t|\tV = 0.00448\t|\tL = 0.99552\t|\tP_VLE = 20.00\n",
      "Solved, Solution T = 533.15 K\t|\tV = 0.00402\t|\tL = 0.99598\t|\tP_VLE = 20.00\n",
      "Solved, Solution T = 528.15 K\t|\tV = 0.00358\t|\tL = 0.99642\t|\tP_VLE = 20.00\n",
      "Solved, Solution T = 523.15 K\t|\tV = 0.00316\t|\tL = 0.99684\t|\tP_VLE = 20.00\n",
      "Solved, Solution T = 518.15 K\t|\tV = 0.00276\t|\tL = 0.99724\t|\tP_VLE = 20.00\n",
      "Solved, Solution T = 513.15 K\t|\tV = 0.00238\t|\tL = 0.99762\t|\tP_VLE = 20.00\n",
      "Solved, Solution T = 508.15 K\t|\tV = 0.00202\t|\tL = 0.99798\t|\tP_VLE = 20.00\n",
      "Solved, Solution T = 503.15 K\t|\tV = 0.00168\t|\tL = 0.99832\t|\tP_VLE = 20.00\n",
      "Solved, Solution T = 498.15 K\t|\tV = 0.00135\t|\tL = 0.99865\t|\tP_VLE = 20.00\n",
      "Solved, Solution T = 493.15 K\t|\tV = 0.00105\t|\tL = 0.99895\t|\tP_VLE = 20.00\n",
      "Solved, Solution T = 488.15 K\t|\tV = 0.00076\t|\tL = 0.99924\t|\tP_VLE = 20.00\n",
      "Solved, Solution T = 483.15 K\t|\tV = 0.00049\t|\tL = 0.99951\t|\tP_VLE = 20.00\n",
      "Solved, Solution T = 478.15 K\t|\tV = 0.00024\t|\tL = 0.99976\t|\tP_VLE = 20.00\n",
      "Solved, Solution T = 473.15 K\t|\tV = 0.00000\t|\tL = 1.00000\t|\tP_VLE = 20.00\n"
     ]
    }
   ],
   "source": [
    "rf_data = {}\n",
    "rf_data['T'] = []; rf_data['Q'] = []; rf_data['V'] = []; rf_data['L'] = []; \n",
    "rf_data['y_CO'] = []; rf_data['y_H2'] = []; rf_data['y_CO2'] = []; rf_data['y_H2O'] = [];\n",
    "rf_data['f_V_CO'] = []; rf_data['f_V_H2'] = []; rf_data['P_VLE'] = []; \n",
    "    \n",
    "Trange = np.arange(350+273.15,199+273.15,-5)\n",
    "\n",
    "for Tub in Trange:\n",
    "    model.T.setub(Tub)\n",
    "    results = opt.solve(model,tee=False)\n",
    "    update_dual(pe,model)\n",
    "    # print('-'*72)\n",
    "    print('Solved, Solution T = {:.2f} K\\t|\\tV = {:.5f}\\t|\\tL = {:.5f}\\t|\\tP_VLE = {:.2f}'.format(model.T.value,model.V['out'].value,model.L['out'].value,model.VLE_block.P_VLE.value))\n",
    "    # print('-'*72)\n",
    "    rf_data['T'].append(model.T.value)\n",
    "    rf_data['Q'].append(model.Q_main.value)\n",
    "    rf_data['V'].append(model.V['out'].value)\n",
    "    rf_data['L'].append(model.L['out'].value)    \n",
    "    rf_data['P_VLE'].append(model.VLE_block.P_VLE.value)\n",
    "    \n",
    "    \n",
    "    rf_data['y_H2O'].append(model.y['H2O'].value)\n",
    "    rf_data['y_CO'].append(model.y['CO'].value)\n",
    "    rf_data['y_H2'].append(model.y['H2'].value)\n",
    "    rf_data['y_CO2'].append(model.y['CO2'].value)\n",
    "    \n",
    "    rf_data['f_V_CO'].append(model.f_V['CO'].value)\n",
    "    rf_data['f_V_H2'].append(model.f_V['H2'].value)"
   ]
  },
  {
   "cell_type": "markdown",
   "metadata": {},
   "source": [
    "# VLE Validation using AspenPlus"
   ]
  },
  {
   "cell_type": "markdown",
   "metadata": {},
   "source": [
    "### Feed (Reactor Effluent)"
   ]
  },
  {
   "cell_type": "code",
   "execution_count": 27,
   "metadata": {},
   "outputs": [
    {
     "name": "stdout",
     "output_type": "stream",
     "text": [
      "Temperature (C): \t200.00\t\t\n",
      "Total FLow (kmol/s): \t1.00\t\t\n",
      "------------------------------------------------------------------------\n",
      "H2         \t\t0.8838%\n",
      "CO         \t\t1.3401%\n",
      "CO2        \t\t3.7245%\n",
      "H2O        \t\t3.6023%\n",
      "C2H4       \t\t0.0174%\n",
      "C3H6       \t\t0.0444%\n",
      "C4H8       \t\t0.0456%\n",
      "C5H10      \t\t0.0722%\n",
      "C6H12      \t\t0.1262%\n",
      "C7H14      \t\t0.2078%\n",
      "C8H16      \t\t0.3264%\n",
      "C9H18      \t\t0.4920%\n",
      "C10H20     \t\t0.7120%\n",
      "C11H22     \t\t0.6286%\n",
      "C12H24     \t\t0.8302%\n",
      "C13H26     \t\t1.0411%\n",
      "C14H28     \t\t1.2375%\n",
      "C15H30     \t\t1.3970%\n",
      "C16H32     \t\t1.5062%\n",
      "C17H34     \t\t1.5634%\n",
      "C18H36     \t\t1.5753%\n",
      "C19H38     \t\t1.5530%\n",
      "C20H40     \t\t1.5073%\n",
      "C1H4       \t\t0.0164%\n",
      "C2H6       \t\t0.0107%\n",
      "C3H8       \t\t0.0114%\n",
      "C4H10      \t\t0.0162%\n",
      "C5H12      \t\t0.0471%\n",
      "C6H14      \t\t0.0815%\n",
      "C7H16      \t\t0.1332%\n",
      "C8H18      \t\t0.2078%\n",
      "C9H20      \t\t0.3113%\n",
      "C10H22     \t\t0.4475%\n",
      "C11H24     \t\t0.9951%\n",
      "C12H26     \t\t1.3036%\n",
      "C13H28     \t\t1.6207%\n",
      "C14H30     \t\t1.9099%\n",
      "C15H32     \t\t2.1391%\n",
      "C16H34     \t\t2.2908%\n",
      "C17H36     \t\t2.3649%\n",
      "C18H38     \t\t2.3734%\n",
      "C19H40     \t\t2.3329%\n",
      "C20H42     \t\t2.2595%\n",
      "C21H44     \t\t3.6174%\n",
      "C22H46     \t\t3.4437%\n",
      "C23H48     \t\t3.2630%\n",
      "C24H50     \t\t3.0819%\n",
      "C25H52     \t\t2.9046%\n",
      "C26H54     \t\t2.7336%\n",
      "C27H56     \t\t2.5703%\n",
      "C28H58     \t\t2.4152%\n",
      "C29H60     \t\t2.2684%\n",
      "C30H62     \t\t2.1300%\n",
      "C31H64     \t\t1.9996%\n",
      "C32H66     \t\t1.8769%\n",
      "C33H68     \t\t1.7616%\n",
      "C34H70     \t\t1.6533%\n",
      "C35H72     \t\t1.5516%\n",
      "C36H74     \t\t1.4562%\n",
      "C37H76     \t\t1.3665%\n",
      "C38H78     \t\t1.2824%\n",
      "C39H80     \t\t1.2034%\n",
      "C40H82     \t\t1.1293%\n",
      "C41H84     \t\t1.0598%\n",
      "C42H86     \t\t0.9945%\n",
      "C43H88     \t\t0.9332%\n",
      "C44H90     \t\t0.8758%\n",
      "C45H92     \t\t0.8218%\n",
      "C46H94     \t\t0.7712%\n",
      "C47H96     \t\t0.7237%\n",
      "C48H98     \t\t0.6791%\n",
      "C49H100    \t\t0.6373%\n",
      "C50H102    \t\t0.5980%\n",
      "C51H104    \t\t0.5612%\n",
      "C52H106    \t\t0.5266%\n",
      "C53H108    \t\t0.4942%\n",
      "C54H110    \t\t0.4638%\n",
      "C55H112    \t\t0.4352%\n",
      "C56H114    \t\t0.4084%\n"
     ]
    }
   ],
   "source": [
    "print('Temperature (C): \\t{:.2f}\\t\\t'.format(model.T.value-273.15))\n",
    "print('Total FLow (kmol/s): \\t{:.2f}\\t\\t'.format(model.L['out'].value+model.V['out'].value))\n",
    "print('-'*72)\n",
    "for i in model.x:\n",
    "    print('{:10s}'.format(i),'\\t\\t{:.4%}'.format((model.x[i].value*model.L['out'].value\\\n",
    "        +model.y[i].value*model.V['out'].value)/(model.L['out'].value+model.V['out'].value)))"
   ]
  },
  {
   "cell_type": "markdown",
   "metadata": {},
   "source": [
    "### Phase Separation"
   ]
  },
  {
   "cell_type": "code",
   "execution_count": 28,
   "metadata": {
    "scrolled": false
   },
   "outputs": [
    {
     "name": "stdout",
     "output_type": "stream",
     "text": [
      "Component\t\tLiquid: 1.0000\t\t\tVapor: 0.0000\t\t\tlog K\n",
      "------------------------------------------------------------------------------------------------------------\n",
      "H2         \t\t 0.8837%\t\t\t25.2925%\t\t\t1.4567\n",
      "CO         \t\t 1.3400%\t\t\t28.6940%\t\t\t1.3307\n",
      "CO2        \t\t 3.7244%\t\t\t31.8632%\t\t\t0.9322\n",
      "H2O        \t\t 3.6023%\t\t\t12.4039%\t\t\t0.5370\n",
      "C2H4       \t\t 0.0174%\t\t\t 0.1174%\t\t\t0.8302\n",
      "C3H6       \t\t 0.0444%\t\t\t 0.1351%\t\t\t0.4830\n",
      "C4H8       \t\t 0.0456%\t\t\t 0.1204%\t\t\t0.4221\n",
      "C5H10      \t\t 0.0722%\t\t\t 0.0931%\t\t\t0.1104\n",
      "C6H12      \t\t 0.1262%\t\t\t 0.0865%\t\t\t-0.1641\n",
      "C7H14      \t\t 0.2078%\t\t\t 0.0799%\t\t\t-0.4151\n",
      "C8H16      \t\t 0.3264%\t\t\t 0.0731%\t\t\t-0.6499\n",
      "C9H18      \t\t 0.4920%\t\t\t 0.0659%\t\t\t-0.8729\n",
      "C10H20     \t\t 0.7120%\t\t\t 0.0583%\t\t\t-1.0869\n",
      "C11H22     \t\t 0.6286%\t\t\t 0.0320%\t\t\t-1.2938\n",
      "C12H24     \t\t 0.8302%\t\t\t 0.0266%\t\t\t-1.4951\n",
      "C13H26     \t\t 1.0411%\t\t\t 0.0212%\t\t\t-1.6918\n",
      "C14H28     \t\t 1.2375%\t\t\t 0.0161%\t\t\t-1.8847\n",
      "C15H30     \t\t 1.3970%\t\t\t 0.0118%\t\t\t-2.0743\n",
      "C16H32     \t\t 1.5062%\t\t\t 0.0083%\t\t\t-2.2611\n",
      "C17H34     \t\t 1.5634%\t\t\t 0.0056%\t\t\t-2.4456\n",
      "C18H36     \t\t 1.5753%\t\t\t 0.0037%\t\t\t-2.6280\n",
      "C19H38     \t\t 1.5530%\t\t\t 0.0024%\t\t\t-2.8086\n",
      "C20H40     \t\t 1.5073%\t\t\t 0.0016%\t\t\t-2.9876\n",
      "C1H4       \t\t 0.0164%\t\t\t 0.1925%\t\t\t1.0694\n",
      "C2H6       \t\t 0.0107%\t\t\t 0.0631%\t\t\t0.7702\n",
      "C3H8       \t\t 0.0114%\t\t\t 0.0338%\t\t\t0.4726\n",
      "C4H10      \t\t 0.0162%\t\t\t 0.0380%\t\t\t0.3694\n",
      "C5H12      \t\t 0.0471%\t\t\t 0.0547%\t\t\t0.0647\n",
      "C6H14      \t\t 0.0815%\t\t\t 0.0508%\t\t\t-0.2056\n",
      "C7H16      \t\t 0.1332%\t\t\t 0.0468%\t\t\t-0.4538\n",
      "C8H18      \t\t 0.2078%\t\t\t 0.0428%\t\t\t-0.6865\n",
      "C9H20      \t\t 0.3113%\t\t\t 0.0385%\t\t\t-0.9080\n",
      "C10H22     \t\t 0.4475%\t\t\t 0.0339%\t\t\t-1.1208\n",
      "C11H24     \t\t 0.9951%\t\t\t 0.0469%\t\t\t-1.3268\n",
      "C12H26     \t\t 1.3036%\t\t\t 0.0387%\t\t\t-1.5274\n",
      "C13H28     \t\t 1.6207%\t\t\t 0.0306%\t\t\t-1.7234\n",
      "C14H30     \t\t 1.9099%\t\t\t 0.0232%\t\t\t-1.9158\n",
      "C15H32     \t\t 2.1391%\t\t\t 0.0168%\t\t\t-2.1049\n",
      "C16H34     \t\t 2.2908%\t\t\t 0.0117%\t\t\t-2.2914\n",
      "C17H36     \t\t 2.3649%\t\t\t 0.0079%\t\t\t-2.4755\n",
      "C18H38     \t\t 2.3734%\t\t\t 0.0052%\t\t\t-2.6576\n",
      "C19H40     \t\t 2.3329%\t\t\t 0.0034%\t\t\t-2.8380\n",
      "C20H42     \t\t 2.2595%\t\t\t 0.0022%\t\t\t-3.0168\n",
      "C21H44     \t\t 3.6174%\t\t\t 0.0023%\t\t\t-3.1942\n",
      "C22H46     \t\t 3.4437%\t\t\t 0.0015%\t\t\t-3.3703\n",
      "C23H48     \t\t 3.2630%\t\t\t 0.0009%\t\t\t-3.5454\n",
      "C24H50     \t\t 3.0819%\t\t\t 0.0006%\t\t\t-3.7195\n",
      "C25H52     \t\t 2.9046%\t\t\t 0.0004%\t\t\t-3.8926\n",
      "C26H54     \t\t 2.7337%\t\t\t 0.0002%\t\t\t-4.0650\n",
      "C27H56     \t\t 2.5703%\t\t\t 0.0001%\t\t\t-4.2366\n",
      "C28H58     \t\t 2.4152%\t\t\t 0.0001%\t\t\t-4.4075\n",
      "C29H60     \t\t 2.2684%\t\t\t 0.0001%\t\t\t-4.5778\n",
      "C30H62     \t\t 2.1300%\t\t\t 0.0000%\t\t\t-4.7476\n",
      "C31H64     \t\t 1.9996%\t\t\t 0.0000%\t\t\t-4.9168\n",
      "C32H66     \t\t 1.8769%\t\t\t 0.0000%\t\t\t-5.0855\n",
      "C33H68     \t\t 1.7616%\t\t\t 0.0000%\t\t\t-5.2538\n",
      "C34H70     \t\t 1.6534%\t\t\t 0.0000%\t\t\t-5.4217\n",
      "C35H72     \t\t 1.5516%\t\t\t 0.0000%\t\t\t-5.5892\n",
      "C36H74     \t\t 1.4562%\t\t\t 0.0000%\t\t\t-5.7563\n",
      "C37H76     \t\t 1.3665%\t\t\t 0.0000%\t\t\t-5.9231\n",
      "C38H78     \t\t 1.2824%\t\t\t 0.0000%\t\t\t-6.0896\n",
      "C39H80     \t\t 1.2034%\t\t\t 0.0000%\t\t\t-6.2558\n",
      "C40H82     \t\t 1.1293%\t\t\t 0.0000%\t\t\t-6.4218\n",
      "C41H84     \t\t 1.0598%\t\t\t 0.0000%\t\t\t-6.5874\n",
      "C42H86     \t\t 0.9945%\t\t\t 0.0000%\t\t\t-6.7529\n",
      "C43H88     \t\t 0.9332%\t\t\t 0.0000%\t\t\t-6.9181\n",
      "C44H90     \t\t 0.8758%\t\t\t 0.0000%\t\t\t-7.0831\n",
      "C45H92     \t\t 0.8218%\t\t\t 0.0000%\t\t\t-7.2479\n",
      "C46H94     \t\t 0.7712%\t\t\t 0.0000%\t\t\t-7.4125\n",
      "C47H96     \t\t 0.7237%\t\t\t 0.0000%\t\t\t-7.5769\n",
      "C48H98     \t\t 0.6791%\t\t\t 0.0000%\t\t\t-7.7412\n",
      "C49H100    \t\t 0.6373%\t\t\t 0.0000%\t\t\t-7.9053\n",
      "C50H102    \t\t 0.5980%\t\t\t 0.0000%\t\t\t-8.0693\n",
      "C51H104    \t\t 0.5612%\t\t\t 0.0000%\t\t\t-8.2331\n",
      "C52H106    \t\t 0.5266%\t\t\t 0.0000%\t\t\t-8.3968\n",
      "C53H108    \t\t 0.4942%\t\t\t 0.0000%\t\t\t-8.5603\n",
      "C54H110    \t\t 0.4638%\t\t\t 0.0000%\t\t\t-8.7237\n",
      "C55H112    \t\t 0.4352%\t\t\t 0.0000%\t\t\t-8.8871\n",
      "C56H114    \t\t 0.4084%\t\t\t 0.0000%\t\t\t-9.0503\n"
     ]
    }
   ],
   "source": [
    "print('Component\\t\\tLiquid: {:.4f}\\t\\t\\tVapor: {:.4f}\\t\\t\\tlog K'.format(model.L['out'].value,model.V['out'].value))\n",
    "print('-'*108)\n",
    "for i in model.x:\n",
    "    print('{:10s}'.format(i),'\\t\\t{:8.4%}\\t\\t\\t{:8.4%}\\t\\t\\t{:.4f}'.format(model.x[i].value,model.y[i].value,np.log10(model.y[i].value/model.x[i].value)))"
   ]
  },
  {
   "cell_type": "code",
   "execution_count": null,
   "metadata": {},
   "outputs": [],
   "source": []
  }
 ],
 "metadata": {
  "kernelspec": {
   "display_name": "Python 3",
   "language": "python",
   "name": "python3"
  },
  "language_info": {
   "codemirror_mode": {
    "name": "ipython",
    "version": 3
   },
   "file_extension": ".py",
   "mimetype": "text/x-python",
   "name": "python",
   "nbconvert_exporter": "python",
   "pygments_lexer": "ipython3",
   "version": "3.6.3"
  }
 },
 "nbformat": 4,
 "nbformat_minor": 2
}
