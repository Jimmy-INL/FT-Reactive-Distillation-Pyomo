{
 "cells": [
  {
   "cell_type": "code",
   "execution_count": 1,
   "metadata": {},
   "outputs": [],
   "source": [
    "import sys\n",
    "import os\n",
    "import dill\n",
    "sys.path.append(os.path.abspath('..'))\n",
    "sys.path.append(os.path.abspath('../..'))\n",
    "import numpy as np\n",
    "from matplotlib import pyplot as plt"
   ]
  },
  {
   "cell_type": "code",
   "execution_count": 2,
   "metadata": {},
   "outputs": [],
   "source": [
    "from pyomo import environ as pe\n",
    "from global_sets.component import m\n",
    "from utility.display_utility import trans_product_mole, trans_product_mass\n",
    "from utility.model_utility import add_dual, update_dual, check_DOF, augmented_objective, add_solver,\\\n",
    "                                    select_MPCC, which_MPCC\n",
    "\n",
    "# stage construction rules\n",
    "from physics.kinetics.kinetics_reactive import kinetic_block_rule\n",
    "from physics.energy.energy_reactive import energy_block_rule\n",
    "from physics.VLE.VLE_reactive_MPCC_P import VLE_block_rule\n",
    "from physics.MPCC.MPCC_P import P_NCP_block_rule, P_Reg_block_rule, P_pf_block_rule"
   ]
  },
  {
   "cell_type": "code",
   "execution_count": 3,
   "metadata": {},
   "outputs": [],
   "source": [
    "with open('test_model.pickle','rb') as f:\n",
    "    model = dill.load(f)"
   ]
  },
  {
   "cell_type": "code",
   "execution_count": 4,
   "metadata": {},
   "outputs": [
    {
     "data": {
      "text/plain": [
       "'MPCC_P_pf'"
      ]
     },
     "execution_count": 4,
     "metadata": {},
     "output_type": "execute_result"
    }
   ],
   "source": [
    "which_MPCC(model).name"
   ]
  },
  {
   "cell_type": "code",
   "execution_count": 5,
   "metadata": {},
   "outputs": [
    {
     "name": "stdout",
     "output_type": "stream",
     "text": [
      "> Selected MPCC: MPCC_P_NCP\n",
      "s_L:  2.2078542120446305e-07\n",
      "s_V:  0.0\n",
      "\n"
     ]
    }
   ],
   "source": [
    "select_MPCC(model,'NCP')"
   ]
  },
  {
   "cell_type": "code",
   "execution_count": 6,
   "metadata": {},
   "outputs": [
    {
     "name": "stdout",
     "output_type": "stream",
     "text": [
      "------------------------------\n",
      "> Obj = maximize\n",
      "> T\n",
      "------------------------------\n"
     ]
    }
   ],
   "source": [
    "model.del_component(model.obj)\n",
    "model.obj = augmented_objective(pe,model,expr = model.T, sense = pe.maximize)"
   ]
  },
  {
   "cell_type": "code",
   "execution_count": 7,
   "metadata": {},
   "outputs": [],
   "source": [
    "opt = add_solver(pe, max_iter=500, warm_start= True, output= True)"
   ]
  },
  {
   "cell_type": "code",
   "execution_count": 8,
   "metadata": {},
   "outputs": [
    {
     "name": "stdout",
     "output_type": "stream",
     "text": [
      "Ipopt 3.12.8: print_user_options=yes\n",
      "linear_scaling_on_demand =no\n",
      "max_iter=500\n",
      "output_file=./tmp/ipopt_output_tmp.output\n",
      "linear_solver=ma86\n",
      "linear_system_scaling =mc19\n",
      "warm_start_init_point=yes\n",
      "warm_start_bound_push=1e-20\n",
      "warm_start_mult_bound_push=1e-20\n",
      "mu_init=1e-06\n",
      "\n",
      "\n",
      "List of user-set options:\n",
      "\n",
      "                                    Name   Value                used\n",
      "                linear_scaling_on_demand = no                    yes\n",
      "                           linear_solver = ma86                  yes\n",
      "                   linear_system_scaling = mc19                  yes\n",
      "                                max_iter = 500                   yes\n",
      "                                 mu_init = 1e-06                 yes\n",
      "                             output_file = ./tmp/ipopt_output_tmp.output  yes\n",
      "                      print_user_options = yes                   yes\n",
      "                   warm_start_bound_push = 1e-20                 yes\n",
      "                   warm_start_init_point = yes                   yes\n",
      "              warm_start_mult_bound_push = 1e-20                 yes\n",
      "\n",
      "******************************************************************************\n",
      "This program contains Ipopt, a library for large-scale nonlinear optimization.\n",
      " Ipopt is released as open source code under the Eclipse Public License (EPL).\n",
      "         For more information visit http://projects.coin-or.org/Ipopt\n",
      "******************************************************************************\n",
      "\n",
      "This is Ipopt version 3.12.8, running with linear solver ma86.\n",
      "\n",
      "Number of nonzeros in equality constraint Jacobian...:     4016\n",
      "Number of nonzeros in inequality constraint Jacobian.:        0\n",
      "Number of nonzeros in Lagrangian Hessian.............:     4399\n",
      "\n",
      "Total number of variables............................:     1185\n",
      "                     variables with only lower bounds:      382\n",
      "                variables with lower and upper bounds:      633\n",
      "                     variables with only upper bounds:        0\n",
      "Total number of equality constraints.................:     1184\n",
      "Total number of inequality constraints...............:        0\n",
      "        inequality constraints with only lower bounds:        0\n",
      "   inequality constraints with lower and upper bounds:        0\n",
      "        inequality constraints with only upper bounds:        0\n",
      "\n",
      "iter    objective    inf_pr   inf_du lg(mu)  ||d||  lg(rg) alpha_du alpha_pr  ls\n",
      "   0 -4.7315000e+02 4.97e-03 1.15e-07  -6.0 0.00e+00    -  0.00e+00 0.00e+00   0\n",
      "   1 -4.7315000e+02 2.83e-04 5.29e-01  -6.0 1.52e-02    -  1.00e+00 1.00e+00h  1\n",
      "   2 -4.7315000e+02 1.55e-06 6.07e+00  -6.0 1.00e-03    -  9.39e-01 1.00e+00h  1\n",
      "   3 -4.7315000e+02 1.35e-10 1.47e-05  -6.0 5.54e-06    -  1.00e+00 1.00e+00h  1\n",
      "   4 -4.7315000e+02 1.35e-10 1.00e-11  -6.0 1.71e-10    -  1.00e+00 1.00e+00h  1\n",
      "   5 -4.7315000e+02 2.68e-10 3.49e-07  -9.0 1.22e-04    -  1.00e+00 1.00e+00h  1\n",
      "   6 -4.7315000e+02 1.35e-10 1.00e-14  -9.0 2.13e-09    -  1.00e+00 1.00e+00h  1\n",
      "\n",
      "Number of Iterations....: 6\n",
      "\n",
      "                                   (scaled)                 (unscaled)\n",
      "Objective...............:  -4.7315000473049997e+02   -4.7315000473049997e+02\n",
      "Dual infeasibility......:   1.0005885009434223e-14    1.0005885009434223e-14\n",
      "Constraint violation....:   1.3452540969204063e-10    1.3452540969204063e-10\n",
      "Complementarity.........:   1.0000000000000801e-09    1.0000000000000801e-09\n",
      "Overall NLP error.......:   1.0000000000000801e-09    1.0000000000000801e-09\n",
      "\n",
      "\n",
      "Number of objective function evaluations             = 7\n",
      "Number of objective gradient evaluations             = 7\n",
      "Number of equality constraint evaluations            = 7\n",
      "Number of inequality constraint evaluations          = 0\n",
      "Number of equality constraint Jacobian evaluations   = 7\n",
      "Number of inequality constraint Jacobian evaluations = 0\n",
      "Number of Lagrangian Hessian evaluations             = 6\n",
      "Total CPU secs in IPOPT (w/o function evaluations)   =      0.310\n",
      "Total CPU secs in NLP function evaluations           =      0.014\n",
      "\n",
      "EXIT: Optimal Solution Found.\n"
     ]
    }
   ],
   "source": [
    "results = opt.solve(model,tee=True)\n",
    "update_dual(pe,model)"
   ]
  },
  {
   "cell_type": "code",
   "execution_count": null,
   "metadata": {},
   "outputs": [],
   "source": []
  }
 ],
 "metadata": {
  "kernelspec": {
   "display_name": "Python 3",
   "language": "python",
   "name": "python3"
  },
  "language_info": {
   "codemirror_mode": {
    "name": "ipython",
    "version": 3
   },
   "file_extension": ".py",
   "mimetype": "text/x-python",
   "name": "python",
   "nbconvert_exporter": "python",
   "pygments_lexer": "ipython3",
   "version": "3.6.3"
  }
 },
 "nbformat": 4,
 "nbformat_minor": 2
}
