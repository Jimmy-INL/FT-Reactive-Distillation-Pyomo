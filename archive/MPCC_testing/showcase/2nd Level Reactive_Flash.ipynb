{
 "cells": [
  {
   "cell_type": "markdown",
   "metadata": {
    "slideshow": {
     "slide_type": "slide"
    }
   },
   "source": [
    "# 2nd Level Model Structure: Reactive Stage"
   ]
  },
  {
   "cell_type": "code",
   "execution_count": 1,
   "metadata": {},
   "outputs": [],
   "source": [
    "import sys\n",
    "import os\n",
    "import pickle\n",
    "sys.path.append(os.path.abspath('..'))\n",
    "import numpy as np\n",
    "from matplotlib import pyplot as plt"
   ]
  },
  {
   "cell_type": "code",
   "execution_count": 2,
   "metadata": {
    "slideshow": {
     "slide_type": "fragment"
    }
   },
   "outputs": [],
   "source": [
    "from pyomo import environ as pe\n",
    "from global_sets.component import m\n",
    "from utility.display_utility import trans_product_mole, trans_product_mass\n",
    "from utility.model_utility import add_dual, update_dual, check_DOF\n",
    "\n",
    "# stage construction rules\n",
    "from physics.kinetics_bounded import kinetic_block_rule\n",
    "from physics.energy_bounded import energy_block_rule\n",
    "from physics.VLE_bounded import VLE_block_rule\n",
    "\n",
    "model = pe.ConcreteModel()"
   ]
  },
  {
   "cell_type": "markdown",
   "metadata": {
    "slideshow": {
     "slide_type": "subslide"
    }
   },
   "source": [
    "# Global Sets (Inlet / Outlet)"
   ]
  },
  {
   "cell_type": "code",
   "execution_count": 3,
   "metadata": {
    "slideshow": {
     "slide_type": "fragment"
    }
   },
   "outputs": [],
   "source": [
    "model.inlet = pe.Set(initialize=['in'])\n",
    "model.outlet = pe.Set(initialize=['out','P'])\n",
    "model.stream = model.inlet | model.outlet"
   ]
  },
  {
   "cell_type": "markdown",
   "metadata": {
    "slideshow": {
     "slide_type": "subslide"
    }
   },
   "source": [
    "# Global Variables"
   ]
  },
  {
   "cell_type": "code",
   "execution_count": 4,
   "metadata": {
    "slideshow": {
     "slide_type": "fragment"
    }
   },
   "outputs": [],
   "source": [
    "# Tray Inlet/Outlet Variable\n",
    "model.x_ = pe.Var(model.inlet,m.COMP_TOTAL,within=pe.NonNegativeReals)\n",
    "model.y_ = pe.Var(model.inlet,m.COMP_TOTAL,within=pe.NonNegativeReals)\n",
    "model.x = pe.Var(m.COMP_TOTAL,within=pe.NonNegativeReals)\n",
    "model.y = pe.Var(m.COMP_TOTAL,within=pe.NonNegativeReals)\n",
    "model.z = pe.Var(m.COMP_FEED,within=pe.NonNegativeReals)\n",
    "\n",
    "model.L = pe.Var(model.stream,within=pe.NonNegativeReals)\n",
    "model.V = pe.Var(model.stream,within=pe.NonNegativeReals)\n",
    "model.F = pe.Var(within=pe.NonNegativeReals)\n",
    "\n",
    "model.H_L_ = pe.Var(model.inlet,within=pe.Reals)\n",
    "model.H_V_ = pe.Var(model.inlet,within=pe.Reals)\n",
    "model.H_L = pe.Var(within=pe.Reals)\n",
    "model.H_V = pe.Var(within=pe.Reals)\n",
    "model.H_F = pe.Var(within=pe.Reals)\n",
    "\n",
    "# State Variable\n",
    "model.T = pe.Var(within=pe.NonNegativeReals,bounds=(200+273.15,300+273.15)) # K\n",
    "model.T_F = pe.Var(within=pe.NonNegativeReals) # K\n",
    "model.P = pe.Var(within=pe.NonNegativeReals,bounds=(10,30)) # Bar\n",
    "\n",
    "model.f_V = pe.Var(m.COMP_TOTAL,within=pe.NonNegativeReals,initialize=1e-20)\n",
    "model.f_L = pe.Var(m.COMP_TOTAL,within=pe.NonNegativeReals,initialize=1e-20)\n",
    "\n",
    "model.cat = pe.Var(within=pe.NonNegativeReals) # kg\n",
    "model.Q_main = pe.Var(within=pe.Reals) # MW\n",
    "model.r_total_comp = pe.Var(m.COMP_TOTAL,within=pe.Reals) # kmol/s"
   ]
  },
  {
   "cell_type": "markdown",
   "metadata": {
    "slideshow": {
     "slide_type": "slide"
    }
   },
   "source": [
    "# Construct Individual Blocks"
   ]
  },
  {
   "cell_type": "code",
   "execution_count": 5,
   "metadata": {
    "slideshow": {
     "slide_type": "subslide"
    }
   },
   "outputs": [
    {
     "name": "stdout",
     "output_type": "stream",
     "text": [
      "> Importing Kinetics Blocks......\n",
      "> Adding the following local variable:\n",
      "--------------------------------------------------\n",
      "| kinetics_block.k_FT\n",
      "| kinetics_block.r_FT_total\n",
      "| kinetics_block.g0_FT\n",
      "| kinetics_block.alpha\n",
      "| kinetics_block.r_FT_cnum\n",
      "| kinetics_block.r_FT_comp\n",
      "| kinetics_block.k_WGS\n",
      "| kinetics_block.Ke_WGS\n",
      "| kinetics_block.r_WGS\n",
      "| kinetics_block.r_WGS_comp\n",
      "--------------------------------------------------\n",
      "\n"
     ]
    }
   ],
   "source": [
    "model.kinetics_block = pe.Block(rule=kinetic_block_rule)"
   ]
  },
  {
   "cell_type": "code",
   "execution_count": 6,
   "metadata": {
    "slideshow": {
     "slide_type": "subslide"
    }
   },
   "outputs": [
    {
     "name": "stdout",
     "output_type": "stream",
     "text": [
      "> Importing Energy Blocks......\n",
      "> Adding the following local variable:\n",
      "--------------------------------------------------\n",
      "| energy_block.dH_F\n",
      "| energy_block.dH_V\n",
      "| energy_block.dH_L\n",
      "| energy_block.dH_vap\n",
      "--------------------------------------------------\n",
      "\n"
     ]
    }
   ],
   "source": [
    "model.energy_block = pe.Block(rule=energy_block_rule)"
   ]
  },
  {
   "cell_type": "code",
   "execution_count": 7,
   "metadata": {
    "scrolled": false,
    "slideshow": {
     "slide_type": "subslide"
    }
   },
   "outputs": [
    {
     "name": "stdout",
     "output_type": "stream",
     "text": [
      "> Importing VLE Blocks......\n",
      "> Adding the following local variable:\n",
      "--------------------------------------------------\n",
      "| VLE_block.n_ave\n",
      "| VLE_block.n_ave_cal\n",
      "| VLE_block.Hen\n",
      "| VLE_block.Hen0\n",
      "| VLE_block.gamma\n",
      "| VLE_block.P_sat\n",
      "| VLE_block.P_sat_Y\n",
      "| VLE_block.P_sat_dY_inf\n",
      "| VLE_block.P_sat_dY0\n",
      "| VLE_block.Hen_ref\n",
      "| VLE_block.Hen0_ref\n",
      "| VLE_block.gamma_ref\n",
      "| VLE_block.V_L\n",
      "| VLE_block.V_L_dY_inf\n",
      "| VLE_block.V_L_dY0\n",
      "| VLE_block.poynting\n",
      "--------------------------------------------------\n",
      "\n"
     ]
    }
   ],
   "source": [
    "model.VLE_block = pe.Block(rule=VLE_block_rule)"
   ]
  },
  {
   "cell_type": "markdown",
   "metadata": {
    "slideshow": {
     "slide_type": "slide"
    }
   },
   "source": [
    "# Standard MESH Equations"
   ]
  },
  {
   "cell_type": "markdown",
   "metadata": {
    "slideshow": {
     "slide_type": "subslide"
    }
   },
   "source": [
    "## Mass Balance"
   ]
  },
  {
   "cell_type": "markdown",
   "metadata": {
    "slideshow": {
     "slide_type": "fragment"
    }
   },
   "source": [
    "\\begin{equation}\n",
    "Fz_{i}+\\sum_{s\\in{inlet}}L_{s}x'_{i,s}+\\sum_{s\\in{inlet}}V_{s}y'_{i,s}-\\sum_{s\\in{outlet}}L_{s}x_{i,s}+\\sum_{s\\in{ouelet}}V_{s}y_{i,s}+R_{i} = 0 \\\\\n",
    "i = 1,...NC\n",
    "\\end{equation}"
   ]
  },
  {
   "cell_type": "code",
   "execution_count": 8,
   "metadata": {
    "slideshow": {
     "slide_type": "fragment"
    }
   },
   "outputs": [],
   "source": [
    "def mass_balance_main_rule(model,i):\n",
    "    if i in m.COMP_FEED:\n",
    "        return model.F*model.z[i] + sum(model.L[s]*model.x_[s,i] + model.V[s]*model.y_[s,i] for s in model.inlet)\\\n",
    "        + model.r_total_comp[i] - sum(model.L[s]*model.x[i] + model.V[s]*model.y[i] for s in model.outlet) == 0\n",
    "    else:\n",
    "        return sum(model.L[s]*model.x_[s,i] + model.V[s]*model.y_[s,i] for s in model.inlet)\\\n",
    "        + model.r_total_comp[i] - sum(model.L[s]*model.x[i] + model.V[s]*model.y[i] for s in model.outlet) == 0\n",
    "model.mass_balance_main_con = pe.Constraint(m.COMP_TOTAL,rule=mass_balance_main_rule)"
   ]
  },
  {
   "cell_type": "markdown",
   "metadata": {
    "slideshow": {
     "slide_type": "subslide"
    }
   },
   "source": [
    "## Equilibrium"
   ]
  },
  {
   "cell_type": "markdown",
   "metadata": {
    "slideshow": {
     "slide_type": "fragment"
    }
   },
   "source": [
    "\\begin{align}\n",
    "&f_{i,V} = f_{i,L} \\\\\n",
    "&i = 1,...NC\n",
    "\\end{align}"
   ]
  },
  {
   "cell_type": "code",
   "execution_count": 9,
   "metadata": {
    "slideshow": {
     "slide_type": "fragment"
    }
   },
   "outputs": [],
   "source": [
    "def VL_equil_rule(model,i):\n",
    "    return model.f_V[i] == model.f_L[i]\n",
    "model.VL_equil_con = pe.Constraint(m.COMP_TOTAL,rule=VL_equil_rule)"
   ]
  },
  {
   "cell_type": "markdown",
   "metadata": {
    "slideshow": {
     "slide_type": "subslide"
    }
   },
   "source": [
    "## Summation"
   ]
  },
  {
   "cell_type": "markdown",
   "metadata": {
    "slideshow": {
     "slide_type": "fragment"
    }
   },
   "source": [
    "\\begin{equation}\n",
    "\\sum_ix_{i} = \\sum_iy_{i} \\\\\n",
    "F + L_{in} + V_{in} + R = L_{out} + V_{out}\n",
    "\\end{equation}"
   ]
  },
  {
   "cell_type": "code",
   "execution_count": 10,
   "metadata": {
    "slideshow": {
     "slide_type": "fragment"
    }
   },
   "outputs": [],
   "source": [
    "def summation_x_y_rule(model):\n",
    "    return sum(model.x[i] for i in m.COMP_TOTAL) == sum(model.y[i] for i in m.COMP_TOTAL)\n",
    "model.summation_x_y_con = pe.Constraint(rule=summation_x_y_rule)\n",
    "\n",
    "def summation_total_mass_rule(model):\n",
    "    return model.F + sum(model.L[s] + model.V[s] for s in model.inlet) + sum(model.r_total_comp[i] for i in m.COMP_TOTAL)\\\n",
    "            - sum(model.L[s] + model.V[s] for s in model.outlet) == 0\n",
    "model.summation_total_mass_con = pe.Constraint(rule=summation_total_mass_rule)"
   ]
  },
  {
   "cell_type": "markdown",
   "metadata": {
    "slideshow": {
     "slide_type": "subslide"
    }
   },
   "source": [
    "## Energy Balance"
   ]
  },
  {
   "cell_type": "markdown",
   "metadata": {
    "slideshow": {
     "slide_type": "fragment"
    }
   },
   "source": [
    "\\begin{equation}\n",
    "F H_f+\\sum_{s\\in{inlet}}L_{s}H_{l,s}+\\sum_{s\\in{inlet}}V_{s}H_{v,s}-\\sum_{s\\in{outlet}}L_{s}H_{l,s}-\\sum_{s\\in{outlet}}V_{s}H_{v,s}+Q = 0\n",
    "\\end{equation}"
   ]
  },
  {
   "cell_type": "code",
   "execution_count": 11,
   "metadata": {
    "slideshow": {
     "slide_type": "fragment"
    }
   },
   "outputs": [],
   "source": [
    "def heat_balance_main_rule(model):\n",
    "    return model.F*model.H_F + sum(model.L[s]*model.H_L_[s] + model.V[s]*model.H_V_[s] for s in model.inlet) \\\n",
    "            + model.Q_main - sum(model.L[s]*model.H_L + model.V[s]*model.H_V for s in model.outlet) == 0\n",
    "model.heat_balance_main_con = pe.Constraint(rule=heat_balance_main_rule)"
   ]
  },
  {
   "cell_type": "markdown",
   "metadata": {
    "slideshow": {
     "slide_type": "slide"
    }
   },
   "source": [
    "# Testing"
   ]
  },
  {
   "cell_type": "code",
   "execution_count": 12,
   "metadata": {
    "slideshow": {
     "slide_type": "fragment"
    }
   },
   "outputs": [
    {
     "name": "stdout",
     "output_type": "stream",
     "text": [
      "Created the follow pyomo suffixes:\n",
      "ipopt_zL_out, ipopt_zU_out, ipopt_zL_in, ipopt_zU_in, dual\n"
     ]
    }
   ],
   "source": [
    "add_dual(pe,model)"
   ]
  },
  {
   "cell_type": "markdown",
   "metadata": {
    "slideshow": {
     "slide_type": "fragment"
    }
   },
   "source": [
    "## Fixing In/Product Redundent Flow"
   ]
  },
  {
   "cell_type": "code",
   "execution_count": 13,
   "metadata": {
    "slideshow": {
     "slide_type": "fragment"
    }
   },
   "outputs": [],
   "source": [
    "model.x_.fix(0)\n",
    "model.y_.fix(0)\n",
    "model.L['in'].fix(0)\n",
    "model.L['P'].fix(0)\n",
    "model.V['in'].fix(0)\n",
    "model.V['P'].fix(0)\n",
    "model.H_L_.fix(0)\n",
    "model.H_V_.fix(0)"
   ]
  },
  {
   "cell_type": "markdown",
   "metadata": {
    "slideshow": {
     "slide_type": "subslide"
    }
   },
   "source": [
    "## Fixing Model Parameters"
   ]
  },
  {
   "cell_type": "code",
   "execution_count": 14,
   "metadata": {
    "slideshow": {
     "slide_type": "fragment"
    }
   },
   "outputs": [],
   "source": [
    "model.cat.fix(300)\n",
    "model.P.fix(20)\n",
    "model.T_F.fix(200+273.15)\n",
    "model.F.fix(1)\n",
    "model.z['CO'].fix(1/(1+0.8)-0/2)\n",
    "model.z['H2'].fix(0.8/(1+0.8)-0/2)\n",
    "model.z['C30H62'].fix(0)\n",
    "model.VLE_block.n_ave.fix(20)"
   ]
  },
  {
   "cell_type": "code",
   "execution_count": 15,
   "metadata": {
    "scrolled": true,
    "slideshow": {
     "slide_type": "fragment"
    }
   },
   "outputs": [
    {
     "name": "stdout",
     "output_type": "stream",
     "text": [
      "Active Equality Constraints:\t 1181\n",
      "Active Inequality Constraints:\t 0\n",
      "Active Variables:\t\t 1354\n",
      "Fixed Variables:\t\t 172\n",
      "DOF:\t\t\t\t 1\n"
     ]
    }
   ],
   "source": [
    "check_DOF(pe,model)"
   ]
  },
  {
   "cell_type": "markdown",
   "metadata": {
    "slideshow": {
     "slide_type": "subslide"
    }
   },
   "source": [
    "## Fix T or to fix Q? we have found that Maximize against an upper bound is most reliable"
   ]
  },
  {
   "cell_type": "code",
   "execution_count": 16,
   "metadata": {
    "slideshow": {
     "slide_type": "fragment"
    }
   },
   "outputs": [],
   "source": [
    "model.T.setub(300+273.15)"
   ]
  },
  {
   "cell_type": "code",
   "execution_count": 17,
   "metadata": {
    "slideshow": {
     "slide_type": "fragment"
    }
   },
   "outputs": [],
   "source": [
    "# model.obj = pe.Objective(expr = model.L['out'],sense=pe.maximize)\n",
    "# model.obj = pe.Objective(expr = model.Q_main,sense=pe.maximize)\n",
    "model.obj = pe.Objective(expr = model.T,sense=pe.maximize)"
   ]
  },
  {
   "cell_type": "code",
   "execution_count": 18,
   "metadata": {
    "scrolled": false,
    "slideshow": {
     "slide_type": "fragment"
    }
   },
   "outputs": [
    {
     "name": "stdout",
     "output_type": "stream",
     "text": [
      "Ipopt 3.12.8: print_user_options=yes\n",
      "linear_solver=ma86\n",
      "max_iter=7000\n",
      "\n",
      "\n",
      "List of user-set options:\n",
      "\n",
      "                                    Name   Value                used\n",
      "                           linear_solver = ma86                  yes\n",
      "                                max_iter = 7000                  yes\n",
      "                      print_user_options = yes                   yes\n",
      "\n",
      "******************************************************************************\n",
      "This program contains Ipopt, a library for large-scale nonlinear optimization.\n",
      " Ipopt is released as open source code under the Eclipse Public License (EPL).\n",
      "         For more information visit http://projects.coin-or.org/Ipopt\n",
      "******************************************************************************\n",
      "\n",
      "This is Ipopt version 3.12.8, running with linear solver ma86.\n",
      "\n",
      "Number of nonzeros in equality constraint Jacobian...:     3930\n",
      "Number of nonzeros in inequality constraint Jacobian.:        0\n",
      "Number of nonzeros in Lagrangian Hessian.............:     4314\n",
      "\n",
      "Total number of variables............................:     1182\n",
      "                     variables with only lower bounds:      379\n",
      "                variables with lower and upper bounds:      633\n",
      "                     variables with only upper bounds:        0\n",
      "Total number of equality constraints.................:     1181\n",
      "Total number of inequality constraints...............:        0\n",
      "        inequality constraints with only lower bounds:        0\n",
      "   inequality constraints with lower and upper bounds:        0\n",
      "        inequality constraints with only upper bounds:        0\n",
      "\n",
      "iter    objective    inf_pr   inf_du lg(mu)  ||d||  lg(rg) alpha_du alpha_pr  ls\n",
      "   0 -4.7415000e+02 7.97e+03 1.00e+00  -1.0 0.00e+00    -  0.00e+00 0.00e+00   0\n",
      "   1 -4.7415164e+02 7.97e+03 9.47e+00  -1.0 9.48e+03    -  2.67e-05 3.47e-05h  1\n",
      "   2 -4.7415269e+02 7.97e+03 3.27e+01  -1.0 8.68e+03    -  3.44e-05 2.17e-05h  1\n",
      "   3 -4.7415365e+02 7.97e+03 5.36e+01  -1.0 1.59e+04    -  4.07e-05 1.93e-05h  1\n",
      "   4r-4.7415365e+02 7.97e+03 9.99e+02   3.8 0.00e+00    -  0.00e+00 2.26e-07R  2\n",
      "   5r-4.7415436e+02 7.97e+03 5.24e+03   3.8 5.77e+05    -  1.71e-03 1.66e-07f  1\n",
      "   6r-4.9944024e+02 2.88e+03 5.21e+03   1.7 4.83e+05    -  3.26e-04 8.25e-03f  1\n",
      "   7 -4.9944180e+02 2.88e+03 6.06e+00  -1.0 9.52e+03    -  1.00e-04 4.04e-05h  1\n",
      "   8 -4.9945319e+02 2.88e+03 2.97e+01  -1.0 2.13e+04    -  6.39e-05 2.72e-04f  1\n",
      "   9r-4.9945319e+02 2.88e+03 9.99e+02   3.4 0.00e+00    -  0.00e+00 3.35e-07R  5\n",
      "iter    objective    inf_pr   inf_du lg(mu)  ||d||  lg(rg) alpha_du alpha_pr  ls\n",
      "  10r-4.9945362e+02 2.88e+03 9.99e+02   3.4 6.02e+05    -  1.22e-04 1.18e-07f  1\n",
      "  11r-5.0191821e+02 2.37e+03 1.07e+03   2.7 6.42e+05    -  9.42e-06 6.58e-04f  1\n",
      "  12 -5.0192981e+02 2.36e+03 2.32e+01  -1.0 2.35e+04    -  8.77e-04 2.86e-04h  1\n",
      "  13 -5.0193098e+02 2.36e+03 3.32e+01  -1.0 3.18e+03    -  1.01e-03 3.11e-05h  1\n",
      "  14 -5.0197827e+02 2.36e+03 3.46e+01  -1.0 3.17e+03    -  1.40e-03 1.27e-03h  1\n",
      "  15 -5.0197877e+02 2.36e+03 2.18e+03  -1.0 3.10e+03    -  3.86e-03 1.33e-05h  1\n",
      "  16r-5.0197877e+02 2.36e+03 1.00e+03   3.3 0.00e+00    -  0.00e+00 2.25e-07R  2\n",
      "  17r-5.0198117e+02 2.36e+03 1.47e+03   3.3 4.95e+05    -  3.15e-03 9.60e-07f  2\n",
      "  18r-5.0549155e+02 1.44e+03 1.45e+03   1.9 4.26e+05    -  5.77e-03 1.76e-03f  1\n",
      "  19r-5.0549155e+02 1.44e+03 9.99e+02   3.1 0.00e+00    -  0.00e+00 2.77e-07R  6\n",
      "iter    objective    inf_pr   inf_du lg(mu)  ||d||  lg(rg) alpha_du alpha_pr  ls\n",
      "  20r-5.0549160e+02 1.44e+03 1.00e+03   3.1 5.31e+05    -  3.45e-03 2.03e-08f  2\n",
      "  21r-5.0798720e+02 7.94e+02 1.07e+03   2.4 3.09e+05    -  7.44e-03 1.72e-03f  1\n",
      "  22 -5.0799054e+02 7.94e+02 3.11e+01  -1.0 4.41e+03    -  2.98e-03 9.53e-05h  1\n",
      "  23 -5.0799465e+02 7.94e+02 8.64e+02  -1.0 8.58e+03    -  2.88e-03 1.08e-04h  1\n",
      "  24 -5.0799796e+02 7.93e+02 5.48e+04  -1.0 9.54e+03    -  5.11e-03 8.68e-05h  1\n",
      "  25r-5.0799796e+02 7.93e+02 1.00e+03   2.8 0.00e+00    -  0.00e+00 4.02e-07R  5\n",
      "  26r-5.0800062e+02 7.90e+02 9.99e+02   2.8 3.26e+05    -  1.03e-03 8.24e-06f  1\n",
      "  27r-5.0862149e+02 5.12e+02 9.97e+02   2.1 2.74e+05    -  1.58e-03 2.52e-03f  1\n",
      "  28 -5.0862236e+02 5.12e+02 1.64e+02  -1.0 5.14e+03    -  4.12e-03 2.51e-05h  1\n",
      "  29 -5.0862349e+02 5.12e+02 2.20e+04  -1.0 5.61e+03    -  4.03e-03 3.00e-05h  1\n",
      "iter    objective    inf_pr   inf_du lg(mu)  ||d||  lg(rg) alpha_du alpha_pr  ls\n",
      "  30r-5.0862349e+02 5.12e+02 1.00e+03   2.7 0.00e+00    -  0.00e+00 2.58e-07R  4\n",
      "  31r-5.0862528e+02 5.12e+02 1.66e+03   2.7 3.38e+04    -  7.34e-03 7.86e-06f  1\n",
      "  32r-5.1072452e+02 5.11e+02 1.29e+03   2.0 2.29e+04    -  3.57e-03 1.36e-02f  1\n",
      "  33r-5.1238832e+02 5.09e+02 9.83e+02   2.0 1.42e+04    -  4.69e-03 1.75e-02f  1\n",
      "  34r-5.1336730e+02 5.05e+02 1.69e+03   2.0 5.97e+03    -  1.44e-02 2.47e-02f  1\n",
      "  35r-5.1456674e+02 4.99e+02 2.88e+03   2.0 4.02e+03    -  8.17e-02 4.52e-02f  1\n",
      "  36r-5.1521823e+02 4.88e+02 4.68e+03   1.3 1.26e+03    -  9.90e-02 7.88e-02f  1\n",
      "  37r-5.1535827e+02 4.72e+02 1.06e+04   1.3 4.28e+02    -  1.11e-01 5.02e-02f  1\n",
      "  38r-5.1573530e+02 3.82e+02 6.72e+03   1.3 3.02e+02    -  2.15e-01 2.97e-01f  1\n",
      "  39 -5.0831464e+02 2.84e+02 4.96e+05  -1.0 4.48e+03    -  1.88e-03 2.56e-01f  1\n",
      "iter    objective    inf_pr   inf_du lg(mu)  ||d||  lg(rg) alpha_du alpha_pr  ls\n",
      "  40 -5.0809700e+02 2.62e+02 4.67e+05  -1.0 4.40e+02    -  5.80e-03 7.66e-02h  1\n",
      "  41 -5.0805553e+02 2.61e+02 4.65e+05  -1.0 1.37e+03    -  4.70e-02 4.43e-03h  1\n",
      "  42 -5.0810376e+02 2.59e+02 4.62e+05  -1.0 1.05e+03    -  8.65e-02 6.94e-03h  1\n",
      "  43 -5.0865189e+02 2.38e+02 4.17e+05  -1.0 1.01e+03    -  2.54e-01 8.19e-02h  1\n",
      "  44 -5.0871540e+02 2.33e+02 4.07e+05  -1.0 4.43e+02    -  2.68e-01 2.23e-02h  1\n",
      "  45 -5.0963013e+02 1.31e+02 9.14e+06  -1.0 3.31e+02    -  5.15e-04 4.38e-01h  1\n",
      "  46 -5.0803073e+02 7.75e+01 7.57e+06  -1.0 5.75e+02    -  7.61e-03 4.08e-01h  1\n",
      "  47 -5.0806516e+02 8.88e-01 3.83e+07  -1.0 2.47e+02    -  1.51e-01 9.89e-01h  1\n",
      "  48 -5.0823560e+02 7.27e-01 2.84e+06  -1.0 3.54e+01    -  9.89e-01 9.24e-01h  1\n",
      "  49 -5.0894851e+02 5.20e-01 2.02e+06  -1.0 3.62e+02    -  1.27e-01 2.92e-01f  2\n",
      "iter    objective    inf_pr   inf_du lg(mu)  ||d||  lg(rg) alpha_du alpha_pr  ls\n",
      "  50 -5.1089593e+02 1.66e+00 2.42e+06  -1.0 2.62e+02    -  4.06e-01 2.17e-01H  1\n",
      "  51 -5.1103475e+02 1.61e+00 1.70e+06  -1.0 6.08e+02    -  7.24e-02 3.44e-02h  1\n",
      "  52 -5.1110146e+02 1.52e+00 3.47e+06  -1.0 5.86e+02    -  2.36e-03 1.23e-02H  1\n",
      "  53 -5.1110144e+02 1.51e+00 3.46e+06  -1.0 1.00e-02  10.0 4.78e-04 1.90e-03f  2\n",
      "  54 -5.1243571e+02 3.29e-01 6.07e+09  -1.0 5.79e+02    -  3.88e-04 2.58e-01F  1\n",
      "  55 -5.1243571e+02 3.29e-01 6.07e+09  -1.0 6.34e-03  11.3 1.34e-05 9.17e-05f  1\n",
      "  56 -5.1243571e+02 3.29e-01 6.07e+09  -1.0 2.28e-03  11.8 1.52e-04 7.18e-05f  2\n",
      "  57 -5.1243571e+02 3.29e-01 6.07e+09  -1.0 2.73e-03  12.2 4.73e-05 3.13e-04f  1\n",
      "  58 -5.1243571e+02 3.29e-01 6.06e+09  -1.0 8.81e-04  12.6 9.08e-04 6.66e-04f  2\n",
      "  59 -5.1243555e+02 2.86e-01 7.45e+18  -1.0 1.10e+01  12.1 5.88e-03 1.31e-01f  2\n",
      "WARNING: Problem in step computation; switching to emergency mode.\n",
      "iter    objective    inf_pr   inf_du lg(mu)  ||d||  lg(rg) alpha_du alpha_pr  ls\n",
      "  60r-5.1243555e+02 2.86e-01 1.00e+03  -0.6 0.00e+00  20.0 0.00e+00 0.00e+00R  1\n",
      "  61r-5.1244693e+02 9.06e-02 1.16e+03  -0.6 2.00e+03    -  1.86e-03 9.94e-04f  1\n",
      "  62 -5.1252440e+02 6.83e-02 2.90e+05  -1.0 4.78e+01    -  9.83e-01 2.46e-01h  1\n",
      "  63 -5.1252876e+02 6.62e-02 4.70e+05  -1.0 2.13e+01    -  4.12e-01 3.10e-02f  6\n",
      "  64 -5.1293339e+02 7.69e-02 5.32e+05  -1.0 1.24e+02    -  9.85e-01 4.96e-01h  2\n",
      "  65 -5.1307677e+02 7.81e-02 1.30e+06  -1.0 2.31e+02    -  1.00e+00 9.46e-02h  4\n",
      "  66 -5.1325909e+02 8.20e-02 1.92e+06  -1.0 2.23e+02    -  1.00e+00 1.24e-01h  4\n",
      "  67 -5.1345191e+02 8.70e-02 2.46e+06  -1.0 2.36e+02    -  1.00e+00 1.25e-01h  4\n",
      "  68 -5.1365530e+02 9.32e-02 2.92e+06  -1.0 2.49e+02    -  1.00e+00 1.25e-01h  4\n",
      "  69 -5.1376190e+02 9.20e-02 3.53e+06  -1.0 2.61e+02    -  1.00e+00 6.24e-02h  5\n",
      "iter    objective    inf_pr   inf_du lg(mu)  ||d||  lg(rg) alpha_du alpha_pr  ls\n",
      "  70 -5.1387065e+02 9.11e-02 4.01e+06  -1.0 2.66e+02    -  1.00e+00 6.25e-02h  5\n",
      "  71 -5.1398144e+02 9.05e-02 4.40e+06  -1.0 2.71e+02    -  1.00e+00 6.25e-02h  5\n",
      "  72 -5.1409419e+02 9.00e-02 4.73e+06  -1.0 2.76e+02    -  1.00e+00 6.25e-02h  5\n",
      "  73 -5.1592700e+02 1.38e+00 3.08e+06  -1.0 2.81e+02    -  1.00e+00 1.00e+00w  1\n",
      "  74 -5.1616401e+02 1.32e+00 3.55e+06  -1.0 6.11e+02    -  1.01e-01 6.01e-02w  1\n"
     ]
    },
    {
     "name": "stdout",
     "output_type": "stream",
     "text": [
      "WARNING: Problem in step computation; switching to emergency mode.\n",
      "  75 -5.1420874e+02 8.98e-02 4.96e+06  -1.0 6.11e+02    -  1.00e+00 6.25e-02h  5\n",
      "  76 -5.1432177e+02 8.96e-02 5.11e+06  -1.0 2.85e+02    -  1.00e+00 6.08e-02h  5\n",
      "  77 -5.1443072e+02 8.93e-02 5.20e+06  -1.0 2.89e+02    -  1.00e+00 5.78e-02h  5\n",
      "  78 -5.1453602e+02 8.89e-02 5.23e+06  -1.0 2.92e+02    -  1.00e+00 5.54e-02h  5\n",
      "  79 -5.1463803e+02 8.85e-02 5.20e+06  -1.0 2.94e+02    -  1.00e+00 5.33e-02h  5\n",
      "iter    objective    inf_pr   inf_du lg(mu)  ||d||  lg(rg) alpha_du alpha_pr  ls\n",
      "  80 -5.1473709e+02 8.80e-02 5.12e+06  -1.0 2.95e+02    -  1.00e+00 5.16e-02h  5\n",
      "  81 -5.1483357e+02 8.74e-02 4.98e+06  -1.0 2.94e+02    -  1.00e+00 5.05e-02h  5\n",
      "  82 -5.1492791e+02 8.67e-02 4.83e+06  -1.0 2.89e+02    -  1.00e+00 5.02e-02h  5\n",
      "  83 -5.1502070e+02 8.58e-02 4.70e+06  -1.0 2.80e+02    -  1.00e+00 5.10e-02h  5\n",
      "  84 -5.1511232e+02 8.47e-02 4.54e+06  -1.0 2.68e+02    -  1.00e+00 5.27e-02h  5\n",
      "  85 -5.1655718e+02 8.74e-01 1.38e+06  -1.0 2.57e+02    -  1.00e+00 8.65e-01w  1\n",
      "  86 -5.1662740e+02 8.56e-01 1.05e+06  -1.0 4.74e+02    -  5.65e-02 2.30e-02w  1\n",
      "  87 -5.1838415e+02 1.28e+00 1.20e+08  -1.0 2.74e+02    -  3.39e-02 1.00e+00w  1\n",
      "  88 -5.1858183e+02 1.63e-02 9.87e+06  -1.0 3.23e+01    -  1.00e+00 1.00e+00h  1\n",
      "  89 -5.1859863e+02 1.18e-04 2.40e+05  -1.0 2.65e+00    -  1.00e+00 1.00e+00h  1\n",
      "iter    objective    inf_pr   inf_du lg(mu)  ||d||  lg(rg) alpha_du alpha_pr  ls\n",
      "  90 -5.1859682e+02 1.37e-06 4.16e+02  -1.0 2.84e-01    -  1.00e+00 1.00e+00h  1\n",
      "  91 -5.1867662e+02 2.66e-03 6.86e+05  -2.5 1.25e+01    -  9.11e-01 1.00e+00f  1\n",
      "  92 -5.1869312e+02 1.14e-04 1.94e+04  -2.5 2.59e+00    -  1.00e+00 1.00e+00h  1\n",
      "  93 -5.1869190e+02 6.28e-07 9.80e+00  -2.5 1.92e-01    -  1.00e+00 1.00e+00h  1\n",
      "  94 -5.1869460e+02 3.06e-06 1.52e+02  -3.8 4.25e-01    -  1.00e+00 1.00e+00f  1\n",
      "  95 -5.1869459e+02 2.92e-10 5.13e-03  -3.8 1.58e-03    -  1.00e+00 1.00e+00h  1\n",
      "  96 -5.1869474e+02 9.44e-09 1.37e+00  -8.6 2.36e-02    -  1.00e+00 1.00e+00f  1\n",
      "  97 -5.1869474e+02 1.43e-10 1.28e-07  -8.6 2.55e-06    -  1.00e+00 1.00e+00h  1\n",
      "\n",
      "Number of Iterations....: 97\n",
      "\n",
      "                                   (scaled)                 (unscaled)\n",
      "Objective...............:  -5.1869474467655812e+02   -5.1869474467655812e+02\n",
      "Dual infeasibility......:   1.2759119272232056e-07    1.2759119272232056e-07\n",
      "Constraint violation....:   1.4300738674852265e-10    1.4300738674852265e-10\n",
      "Complementarity.........:   2.5059303993872432e-09    2.5059303993872432e-09\n",
      "Overall NLP error.......:   1.4300738674852265e-10    1.2759119272232056e-07\n",
      "\n",
      "\n",
      "Number of objective function evaluations             = 272\n",
      "Number of objective gradient evaluations             = 85\n",
      "Number of equality constraint evaluations            = 273\n",
      "Number of inequality constraint evaluations          = 0\n",
      "Number of equality constraint Jacobian evaluations   = 105\n",
      "Number of inequality constraint Jacobian evaluations = 0\n",
      "Number of Lagrangian Hessian evaluations             = 97\n",
      "Total CPU secs in IPOPT (w/o function evaluations)   =      3.119\n",
      "Total CPU secs in NLP function evaluations           =      0.097\n",
      "\n",
      "EXIT: Optimal Solution Found.\n"
     ]
    }
   ],
   "source": [
    "opt = pe.SolverFactory('ipopt')\n",
    "\n",
    "opt.options['print_user_options'] = 'yes'\n",
    "opt.options['linear_solver'] = 'ma86'\n",
    "# opt.options['nlp_scaling_method'] = None\n",
    "# opt.options['bound_relax_factor'] = 0\n",
    "# opt.options['halt_on_ampl_error'] = 'yes'\n",
    "\n",
    "opt.options['max_iter'] = 7000\n",
    "results = opt.solve(model,tee=True)\n",
    "update_dual(pe,model)"
   ]
  },
  {
   "cell_type": "code",
   "execution_count": 19,
   "metadata": {
    "scrolled": true,
    "slideshow": {
     "slide_type": "skip"
    }
   },
   "outputs": [
    {
     "data": {
      "text/plain": [
       "-29.150502199957092"
      ]
     },
     "execution_count": 19,
     "metadata": {},
     "output_type": "execute_result"
    }
   ],
   "source": [
    "model.Q_main.value"
   ]
  },
  {
   "cell_type": "code",
   "execution_count": 20,
   "metadata": {
    "slideshow": {
     "slide_type": "skip"
    }
   },
   "outputs": [
    {
     "data": {
      "text/plain": [
       "518.6947446765581"
      ]
     },
     "execution_count": 20,
     "metadata": {},
     "output_type": "execute_result"
    }
   ],
   "source": [
    "model.T.value"
   ]
  },
  {
   "cell_type": "code",
   "execution_count": 21,
   "metadata": {},
   "outputs": [],
   "source": [
    "# model.solutions.store_to(results)\n",
    "# with open('../saved_solutions/reactive_flash_300C_n58.pickle','wb') as f:\n",
    "#     pickle.dump(results,f)"
   ]
  },
  {
   "cell_type": "code",
   "execution_count": 22,
   "metadata": {
    "scrolled": false,
    "slideshow": {
     "slide_type": "slide"
    }
   },
   "outputs": [
    {
     "name": "stdout",
     "output_type": "stream",
     "text": [
      "Component\t\tLiquid: 0.0000\t\t\tVapor: 0.6977\t\t\tlog K\n",
      "------------------------------------------------------------------------------------------------------------\n",
      "H2         \t\t 1.4510%\t\t\t35.8280%\t\t\t1.3926\n",
      "CO         \t\t 1.7945%\t\t\t35.5618%\t\t\t1.2970\n",
      "CO2        \t\t 2.2485%\t\t\t21.0042%\t\t\t0.9704\n",
      "H2O        \t\t 0.4244%\t\t\t 2.0542%\t\t\t0.6849\n",
      "C2H4       \t\t 0.0876%\t\t\t 0.6600%\t\t\t0.8771\n",
      "C3H6       \t\t 0.1627%\t\t\t 0.6164%\t\t\t0.5785\n",
      "C4H8       \t\t 0.1199%\t\t\t 0.4447%\t\t\t0.5691\n",
      "C5H10      \t\t 0.1463%\t\t\t 0.2796%\t\t\t0.2813\n",
      "C6H12      \t\t 0.1959%\t\t\t 0.2123%\t\t\t0.0349\n",
      "C7H14      \t\t 0.2470%\t\t\t 0.1612%\t\t\t-0.1853\n",
      "C8H16      \t\t 0.2986%\t\t\t 0.1224%\t\t\t-0.3873\n",
      "C9H18      \t\t 0.3502%\t\t\t 0.0929%\t\t\t-0.5762\n",
      "C10H20     \t\t 0.4013%\t\t\t 0.0705%\t\t\t-0.7550\n",
      "C11H22     \t\t 0.2878%\t\t\t 0.0341%\t\t\t-0.9260\n",
      "C12H24     \t\t 0.3193%\t\t\t 0.0259%\t\t\t-1.0907\n",
      "C13H26     \t\t 0.3500%\t\t\t 0.0197%\t\t\t-1.2502\n",
      "C14H28     \t\t 0.3799%\t\t\t 0.0149%\t\t\t-1.4055\n",
      "C15H30     \t\t 0.4090%\t\t\t 0.0113%\t\t\t-1.5571\n",
      "C16H32     \t\t 0.4371%\t\t\t 0.0086%\t\t\t-1.7056\n",
      "C17H34     \t\t 0.4644%\t\t\t 0.0065%\t\t\t-1.8515\n",
      "C18H36     \t\t 0.4907%\t\t\t 0.0050%\t\t\t-1.9951\n",
      "C19H38     \t\t 0.5162%\t\t\t 0.0038%\t\t\t-2.1367\n",
      "C20H40     \t\t 0.5407%\t\t\t 0.0029%\t\t\t-2.2765\n",
      "C1H4       \t\t 0.1137%\t\t\t 1.3367%\t\t\t1.0703\n",
      "C2H6       \t\t 0.0519%\t\t\t 0.3548%\t\t\t0.8346\n",
      "C3H8       \t\t 0.0402%\t\t\t 0.1541%\t\t\t0.5834\n",
      "C4H10      \t\t 0.0425%\t\t\t 0.1403%\t\t\t0.5190\n",
      "C5H12      \t\t 0.0949%\t\t\t 0.1645%\t\t\t0.2388\n",
      "C6H14      \t\t 0.1257%\t\t\t 0.1249%\t\t\t-0.0029\n",
      "C7H16      \t\t 0.1573%\t\t\t 0.0948%\t\t\t-0.2199\n",
      "C8H18      \t\t 0.1892%\t\t\t 0.0720%\t\t\t-0.4197\n",
      "C9H20      \t\t 0.2211%\t\t\t 0.0547%\t\t\t-0.6068\n",
      "C10H22     \t\t 0.2526%\t\t\t 0.0415%\t\t\t-0.7844\n",
      "C11H24     \t\t 0.4585%\t\t\t 0.0509%\t\t\t-0.9543\n",
      "C12H26     \t\t 0.5076%\t\t\t 0.0387%\t\t\t-1.1181\n",
      "C13H28     \t\t 0.5556%\t\t\t 0.0294%\t\t\t-1.2770\n",
      "C14H30     \t\t 0.6023%\t\t\t 0.0223%\t\t\t-1.4316\n",
      "C15H32     \t\t 0.6475%\t\t\t 0.0169%\t\t\t-1.5827\n",
      "C16H34     \t\t 0.6914%\t\t\t 0.0129%\t\t\t-1.7308\n",
      "C17H36     \t\t 0.7339%\t\t\t 0.0098%\t\t\t-1.8764\n",
      "C18H38     \t\t 0.7750%\t\t\t 0.0074%\t\t\t-2.0196\n",
      "C19H40     \t\t 0.8146%\t\t\t 0.0056%\t\t\t-2.1609\n",
      "C20H42     \t\t 0.8528%\t\t\t 0.0043%\t\t\t-2.3005\n",
      "C21H44     \t\t 1.4858%\t\t\t 0.0054%\t\t\t-2.4385\n",
      "C22H46     \t\t 1.5451%\t\t\t 0.0041%\t\t\t-2.5751\n",
      "C23H48     \t\t 1.6022%\t\t\t 0.0031%\t\t\t-2.7105\n",
      "C24H50     \t\t 1.6572%\t\t\t 0.0024%\t\t\t-2.8448\n",
      "C25H52     \t\t 1.7102%\t\t\t 0.0018%\t\t\t-2.9780\n",
      "C26H54     \t\t 1.7611%\t\t\t 0.0014%\t\t\t-3.1104\n",
      "C27H56     \t\t 1.8101%\t\t\t 0.0010%\t\t\t-3.2419\n",
      "C28H58     \t\t 1.8572%\t\t\t 0.0008%\t\t\t-3.3727\n",
      "C29H60     \t\t 1.9025%\t\t\t 0.0006%\t\t\t-3.5028\n",
      "C30H62     \t\t 1.9461%\t\t\t 0.0005%\t\t\t-3.6323\n",
      "C31H64     \t\t 1.9880%\t\t\t 0.0003%\t\t\t-3.7612\n",
      "C32H66     \t\t 2.0283%\t\t\t 0.0003%\t\t\t-3.8895\n",
      "C33H68     \t\t 2.0671%\t\t\t 0.0002%\t\t\t-4.0173\n",
      "C34H70     \t\t 2.1044%\t\t\t 0.0002%\t\t\t-4.1447\n",
      "C35H72     \t\t 2.1403%\t\t\t 0.0001%\t\t\t-4.2716\n",
      "C36H74     \t\t 2.1749%\t\t\t 0.0001%\t\t\t-4.3982\n",
      "C37H76     \t\t 2.2082%\t\t\t 0.0001%\t\t\t-4.5244\n",
      "C38H78     \t\t 2.2403%\t\t\t 0.0001%\t\t\t-4.6502\n",
      "C39H80     \t\t 2.2714%\t\t\t 0.0000%\t\t\t-4.7757\n",
      "C40H82     \t\t 2.3014%\t\t\t 0.0000%\t\t\t-4.9009\n",
      "C41H84     \t\t 2.3304%\t\t\t 0.0000%\t\t\t-5.0258\n",
      "C42H86     \t\t 2.3587%\t\t\t 0.0000%\t\t\t-5.1505\n",
      "C43H88     \t\t 2.3864%\t\t\t 0.0000%\t\t\t-5.2749\n",
      "C44H90     \t\t 2.4136%\t\t\t 0.0000%\t\t\t-5.3990\n",
      "C45H92     \t\t 2.4406%\t\t\t 0.0000%\t\t\t-5.5230\n",
      "C46H94     \t\t 2.4677%\t\t\t 0.0000%\t\t\t-5.6467\n",
      "C47H96     \t\t 2.4953%\t\t\t 0.0000%\t\t\t-5.7702\n",
      "C48H98     \t\t 2.5238%\t\t\t 0.0000%\t\t\t-5.8936\n",
      "C49H100    \t\t 2.5540%\t\t\t 0.0000%\t\t\t-6.0167\n",
      "C50H102    \t\t 2.5867%\t\t\t 0.0000%\t\t\t-6.1397\n",
      "C51H104    \t\t 2.6232%\t\t\t 0.0000%\t\t\t-6.2626\n",
      "C52H106    \t\t 2.6652%\t\t\t 0.0000%\t\t\t-6.3853\n",
      "C53H108    \t\t 2.7152%\t\t\t 0.0000%\t\t\t-6.5078\n",
      "C54H110    \t\t 2.7764%\t\t\t 0.0000%\t\t\t-6.6302\n",
      "C55H112    \t\t 2.8539%\t\t\t 0.0000%\t\t\t-6.7525\n",
      "C56H114    \t\t 2.9553%\t\t\t 0.0000%\t\t\t-6.8747\n"
     ]
    }
   ],
   "source": [
    "print('Component\\t\\tLiquid: {:.4f}\\t\\t\\tVapor: {:.4f}\\t\\t\\tlog K'.format(model.L['out'].value,model.V['out'].value))\n",
    "print('-'*108)\n",
    "for i in model.x:\n",
    "    print('{:10s}'.format(i),'\\t\\t{:8.4%}\\t\\t\\t{:8.4%}\\t\\t\\t{:.4f}'.format(model.x[i].value,model.y[i].value,np.log10(model.y[i].value/model.x[i].value)))"
   ]
  },
  {
   "cell_type": "markdown",
   "metadata": {
    "slideshow": {
     "slide_type": "slide"
    }
   },
   "source": [
    "# Iterative Solve for Data Analysis"
   ]
  },
  {
   "cell_type": "code",
   "execution_count": null,
   "metadata": {},
   "outputs": [],
   "source": [
    "update_dual(pe,model)"
   ]
  },
  {
   "cell_type": "code",
   "execution_count": null,
   "metadata": {},
   "outputs": [],
   "source": [
    "opt.options['warm_start_init_point'] = 'yes'\n",
    "opt.options['warm_start_bound_push'] = 1e-20\n",
    "opt.options['warm_start_mult_bound_push'] = 1e-20\n",
    "opt.options['mu_init'] = 1e-6"
   ]
  },
  {
   "cell_type": "code",
   "execution_count": null,
   "metadata": {
    "scrolled": false,
    "slideshow": {
     "slide_type": "fragment"
    }
   },
   "outputs": [],
   "source": [
    "rf_data = {}\n",
    "rf_data['r'] = {}; rf_data['T'] = []; rf_data['Q'] = []; rf_data['V'] = []; rf_data['L'] = []; \n",
    "rf_data['y_CO'] = []; rf_data['y_H2'] = []; rf_data['y_CO2'] = []; rf_data['y_H2O'] = []; rf_data['r_WGS'] = []; rf_data['r_FT'] = []\n",
    "rf_data['f_V_CO'] = []; rf_data['f_V_H2'] = [];\n",
    "\n",
    "for i in model.r_total_comp:\n",
    "    rf_data['r'][i] = []\n",
    "    \n",
    "Trange = np.arange(300+273.15,199+273.15,-2)\n",
    "\n",
    "for Tub in Trange:\n",
    "    model.T.setub(Tub)\n",
    "    results = opt.solve(model,tee=False)\n",
    "    update_dual(pe,model)\n",
    "    # print('-'*72)\n",
    "    print('Solved, Solution T = {:.2f} K\\t|\\tV = {:.5f}\\t|\\tL = {:.5f}\\t|'.format(model.T.value,model.V['out'].value,model.L['out'].value))\n",
    "    # print('-'*72)\n",
    "    rf_data['T'].append(model.T.value)\n",
    "    rf_data['Q'].append(model.Q_main.value)\n",
    "    rf_data['V'].append(model.V['out'].value)\n",
    "    rf_data['L'].append(model.L['out'].value)    \n",
    "\n",
    "    for i in model.r_total_comp:\n",
    "        rf_data['r'][i].append(model.r_total_comp[i].value)\n",
    "    \n",
    "    \n",
    "    rf_data['y_H2O'].append(model.y['H2O'].value)\n",
    "    rf_data['y_CO'].append(model.y['CO'].value)\n",
    "    rf_data['y_H2'].append(model.y['H2'].value)\n",
    "    rf_data['y_CO2'].append(model.y['CO2'].value)\n",
    "    rf_data['r_WGS'].append(model.kinetics_block.r_WGS.value)\n",
    "    rf_data['r_FT'].append(model.kinetics_block.r_FT_total.value)\n",
    "    \n",
    "    rf_data['f_V_CO'].append(model.f_V['CO'].value)\n",
    "    rf_data['f_V_H2'].append(model.f_V['H2'].value)"
   ]
  },
  {
   "cell_type": "markdown",
   "metadata": {
    "slideshow": {
     "slide_type": "slide"
    }
   },
   "source": [
    "## Some Observations\n",
    "\n",
    "* This system has multiple solution under same Q.\n",
    "* The reaction rate peaks at ~530K, due to decreasing $\\alpha$, increasing light component, uses up more feed.\n",
    "* Note that when 'fully' utilizing catalyst, the system seems to always require cooling."
   ]
  },
  {
   "cell_type": "code",
   "execution_count": null,
   "metadata": {
    "slideshow": {
     "slide_type": "fragment"
    }
   },
   "outputs": [],
   "source": [
    "fig, ax1 = plt.subplots(figsize=(16,9))\n",
    "line1 = ax1.plot(rf_data['T'],rf_data['Q'], 'b-')\n",
    "ax1.set_xlabel('Temperature (k)', color='K',fontsize=18)\n",
    "ax1.set_ylabel('Q (MW)', color='b',fontsize=18)\n",
    "ax1.tick_params('y', colors='b',labelsize=18)\n",
    "ax1.tick_params('x', colors='k',labelsize=18)\n",
    "ax1.grid()\n",
    "\n",
    "ax2 = ax1.twinx()\n",
    "line2 = ax2.plot(rf_data['T'],rf_data['r_FT'], 'r')\n",
    "line3 = ax2.plot(rf_data['T'],rf_data['r_WGS'], 'r--')\n",
    "line4 = ax2.plot(rf_data['T'],rf_data['V'], 'k')\n",
    "line5 = ax2.plot(rf_data['T'],rf_data['L'], 'k--')\n",
    "ax2.set_ylabel('$r_{FT}$: (kmol/s Carbon Number)', color='r',fontsize=18)\n",
    "ax2.tick_params('y', colors='r',labelsize=18)\n",
    "\n",
    "ax1.legend(line1+line2+line3+line4+line5,['Q','$r_{FT}$','$r_{WGS}$','V','L'],fontsize=18,loc=1)\n",
    "ax1.set_title('Heat Removal Rate and Reaction Rate vs T',fontsize=18)\n",
    "plt.show()"
   ]
  },
  {
   "cell_type": "code",
   "execution_count": null,
   "metadata": {
    "scrolled": false,
    "slideshow": {
     "slide_type": "fragment"
    }
   },
   "outputs": [],
   "source": [
    "fig, ax = plt.subplots(figsize=(16,9))\n",
    "ax.plot(rf_data['T'],rf_data['y_CO'])\n",
    "ax.plot(rf_data['T'],rf_data['y_H2'])\n",
    "ax.plot(rf_data['T'],rf_data['y_CO2'])\n",
    "ax.plot(rf_data['T'],rf_data['y_H2O'])\n",
    "\n",
    "ax.legend(['$y_{CO}$','$y_{H2}$','$y_{CO2}$','$y_{H2O}$'],fontsize=18)\n",
    "ax.set_title('Gas Phase Inorganic Composition vs T',fontsize=18)\n",
    "\n",
    "ax.set_ylabel('Mole Fraction (%)', color='K',fontsize=18)\n",
    "ax.set_xlabel('Temperature (k)', color='K',fontsize=18)\n",
    "ax.tick_params('y', colors='k',labelsize=18)\n",
    "ax.tick_params('x', colors='k',labelsize=18)\n",
    "ax.grid()\n",
    "plt.show()"
   ]
  },
  {
   "cell_type": "code",
   "execution_count": null,
   "metadata": {
    "slideshow": {
     "slide_type": "fragment"
    }
   },
   "outputs": [],
   "source": [
    "fig, ax = plt.subplots(figsize=(16,9))\n",
    "ax.plot(rf_data['T'],rf_data['r']['CO'])\n",
    "ax.plot(rf_data['T'],rf_data['r']['H2'])\n",
    "ax.plot(rf_data['T'],rf_data['r']['CO2'])\n",
    "ax.plot(rf_data['T'],rf_data['r']['H2O'])\n",
    "\n",
    "ax.legend(['$r_{CO}$','$r_{H2}$','$r_{CO2}$','$r_{H2O}$'],fontsize=18)\n",
    "ax.set_title('Inorganic Reaction Rate vs T',fontsize=18)\n",
    "\n",
    "ax.set_ylabel('Reaction Rate (kmol/s)', color='K',fontsize=18)\n",
    "ax.set_xlabel('Temperature (k)', color='K',fontsize=18)\n",
    "ax.tick_params('y', colors='k',labelsize=18)\n",
    "ax.tick_params('x', colors='k',labelsize=18)\n",
    "ax.grid()\n",
    "plt.show()"
   ]
  },
  {
   "cell_type": "markdown",
   "metadata": {
    "slideshow": {
     "slide_type": "subslide"
    }
   },
   "source": [
    "## Product Distribution (mole)"
   ]
  },
  {
   "cell_type": "code",
   "execution_count": null,
   "metadata": {
    "slideshow": {
     "slide_type": "fragment"
    }
   },
   "outputs": [],
   "source": [
    "reaction_data = trans_product_mole(rf_data['r'])['unscaled']\n",
    "reaction_data_scaled = trans_product_mole(rf_data['r'])['scaled']"
   ]
  },
  {
   "cell_type": "code",
   "execution_count": null,
   "metadata": {
    "slideshow": {
     "slide_type": "fragment"
    }
   },
   "outputs": [],
   "source": [
    "fig, ax = plt.subplots(figsize=(16,9))\n",
    "ax.stackplot(rf_data['T'], reaction_data_scaled['c1'], reaction_data_scaled['c2'],reaction_data_scaled['c3'],reaction_data_scaled['c4'],\\\n",
    "            reaction_data_scaled['napha'],reaction_data_scaled['gasoline'],reaction_data_scaled['diesel'],reaction_data_scaled['heavy'])\n",
    "plt.legend(['C1','C2','C3','C4','Napha','gasoline','diesel','heavy'])\n",
    "ax.set_title('Product Composition (Mole) vs T',fontsize=18)\n",
    "ax.set_ylabel('Mole Fraction (%)', color='K',fontsize=18)\n",
    "ax.set_xlabel('Temperature (k)', color='K',fontsize=18)\n",
    "plt.show()"
   ]
  },
  {
   "cell_type": "code",
   "execution_count": null,
   "metadata": {
    "slideshow": {
     "slide_type": "fragment"
    }
   },
   "outputs": [],
   "source": [
    "fig, ax = plt.subplots(figsize=(16,9))\n",
    "ax.stackplot(rf_data['T'], reaction_data['c1'], reaction_data['c2'],reaction_data['c3'],reaction_data['c4'],\\\n",
    "            reaction_data['napha'],reaction_data['gasoline'],reaction_data['diesel'],reaction_data['heavy'])\n",
    "plt.legend(['C1','C2','C3','C4','Napha','gasoline','diesel','heavy'])\n",
    "ax.set_title('Total Production Rate (Mole) vs T',fontsize=18)\n",
    "ax.set_ylabel('Reaction Rate (kmol/s)', color='K',fontsize=18)\n",
    "ax.set_xlabel('Temperature (k)', color='K',fontsize=18)\n",
    "plt.show()"
   ]
  },
  {
   "cell_type": "markdown",
   "metadata": {
    "slideshow": {
     "slide_type": "subslide"
    }
   },
   "source": [
    "## Product Distribution (mass)"
   ]
  },
  {
   "cell_type": "code",
   "execution_count": null,
   "metadata": {
    "slideshow": {
     "slide_type": "fragment"
    }
   },
   "outputs": [],
   "source": [
    "mass_reaction_data = trans_product_mass(rf_data['r'])['unscaled']\n",
    "mass_reaction_scaled = trans_product_mass(rf_data['r'])['scaled']"
   ]
  },
  {
   "cell_type": "code",
   "execution_count": null,
   "metadata": {
    "slideshow": {
     "slide_type": "fragment"
    }
   },
   "outputs": [],
   "source": [
    "fig, ax = plt.subplots(figsize=(16,9))\n",
    "ax.stackplot(rf_data['T'], mass_reaction_scaled['c1'], mass_reaction_scaled['c2'],mass_reaction_scaled['c3'],mass_reaction_scaled['c4'],\\\n",
    "            mass_reaction_scaled['napha'],mass_reaction_scaled['gasoline'],mass_reaction_scaled['diesel'],mass_reaction_scaled['heavy'])\n",
    "plt.legend(['C1','C2','C3','C4','Napha','gasoline','diesel','heavy'])\n",
    "ax.set_title('Product Composition (Mass) vs T',fontsize=18)\n",
    "ax.set_ylabel('Mass Fraction (%)', color='K',fontsize=18)\n",
    "ax.set_xlabel('Temperature (k)', color='K',fontsize=18)\n",
    "plt.show()"
   ]
  },
  {
   "cell_type": "code",
   "execution_count": null,
   "metadata": {
    "slideshow": {
     "slide_type": "fragment"
    }
   },
   "outputs": [],
   "source": [
    "fig, ax = plt.subplots(figsize=(16,9))\n",
    "ax.stackplot(rf_data['T'], mass_reaction_data['c1'], mass_reaction_data['c2'],mass_reaction_data['c3'],mass_reaction_data['c4'],\\\n",
    "            mass_reaction_data['napha'],mass_reaction_data['gasoline'],mass_reaction_data['diesel'],mass_reaction_data['heavy'])\n",
    "plt.legend(['C1','C2','C3','C4','Napha','gasoline','diesel','heavy'])\n",
    "ax.set_title('Total Production Rate (mass) vs T',fontsize=18)\n",
    "ax.set_ylabel('Reaction Rate (kg/s)', color='K',fontsize=18)\n",
    "ax.set_xlabel('Temperature (k)', color='K',fontsize=18)\n",
    "plt.show()"
   ]
  }
 ],
 "metadata": {
  "kernelspec": {
   "display_name": "Python 3",
   "language": "python",
   "name": "python3"
  },
  "language_info": {
   "codemirror_mode": {
    "name": "ipython",
    "version": 3
   },
   "file_extension": ".py",
   "mimetype": "text/x-python",
   "name": "python",
   "nbconvert_exporter": "python",
   "pygments_lexer": "ipython3",
   "version": "3.6.3"
  }
 },
 "nbformat": 4,
 "nbformat_minor": 2
}
