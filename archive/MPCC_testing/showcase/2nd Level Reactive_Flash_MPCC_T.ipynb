{
 "cells": [
  {
   "cell_type": "markdown",
   "metadata": {
    "slideshow": {
     "slide_type": "slide"
    }
   },
   "source": [
    "# 2nd Level Model Structure: Reactive Stage"
   ]
  },
  {
   "cell_type": "code",
   "execution_count": 1,
   "metadata": {},
   "outputs": [],
   "source": [
    "import sys\n",
    "import os\n",
    "import pickle\n",
    "sys.path.append(os.path.abspath('..'))\n",
    "import numpy as np\n",
    "from matplotlib import pyplot as plt"
   ]
  },
  {
   "cell_type": "code",
   "execution_count": 2,
   "metadata": {
    "slideshow": {
     "slide_type": "fragment"
    }
   },
   "outputs": [],
   "source": [
    "from pyomo import environ as pe\n",
    "from global_sets.component import m\n",
    "from utility.display_utility import trans_product_mole, trans_product_mass\n",
    "from utility.model_utility import add_dual, update_dual, check_DOF\n",
    "\n",
    "# stage construction rules\n",
    "from physics.kinetics_bounded import kinetic_block_rule\n",
    "from physics.energy_bounded import energy_block_rule\n",
    "from physics.VLE_bounded_MPCC_T import VLE_block_rule\n",
    "from physics.MPCC_T import dew_block_rule\n",
    "\n",
    "model = pe.ConcreteModel()"
   ]
  },
  {
   "cell_type": "markdown",
   "metadata": {
    "slideshow": {
     "slide_type": "subslide"
    }
   },
   "source": [
    "# Global Sets (Inlet / Outlet)"
   ]
  },
  {
   "cell_type": "code",
   "execution_count": 3,
   "metadata": {
    "slideshow": {
     "slide_type": "fragment"
    }
   },
   "outputs": [],
   "source": [
    "model.inlet = pe.Set(initialize=['in'])\n",
    "model.outlet = pe.Set(initialize=['out','P'])\n",
    "model.stream = model.inlet | model.outlet"
   ]
  },
  {
   "cell_type": "markdown",
   "metadata": {
    "slideshow": {
     "slide_type": "subslide"
    }
   },
   "source": [
    "# Global Variables"
   ]
  },
  {
   "cell_type": "code",
   "execution_count": 4,
   "metadata": {
    "slideshow": {
     "slide_type": "fragment"
    }
   },
   "outputs": [],
   "source": [
    "# Tray Inlet/Outlet Variable\n",
    "model.x_ = pe.Var(model.inlet,m.COMP_TOTAL,within=pe.NonNegativeReals)\n",
    "model.y_ = pe.Var(model.inlet,m.COMP_TOTAL,within=pe.NonNegativeReals)\n",
    "model.x = pe.Var(m.COMP_TOTAL,within=pe.NonNegativeReals)\n",
    "model.y = pe.Var(m.COMP_TOTAL,within=pe.NonNegativeReals)\n",
    "model.z = pe.Var(m.COMP_FEED,within=pe.NonNegativeReals)\n",
    "\n",
    "model.L = pe.Var(model.stream,within=pe.NonNegativeReals)\n",
    "model.V = pe.Var(model.stream,within=pe.NonNegativeReals)\n",
    "model.F = pe.Var(within=pe.NonNegativeReals)\n",
    "\n",
    "model.H_L_ = pe.Var(model.inlet,within=pe.Reals)\n",
    "model.H_V_ = pe.Var(model.inlet,within=pe.Reals)\n",
    "model.H_L = pe.Var(within=pe.Reals)\n",
    "model.H_V = pe.Var(within=pe.Reals)\n",
    "model.H_F = pe.Var(within=pe.Reals)\n",
    "\n",
    "# State Variable\n",
    "model.T = pe.Var(within=pe.NonNegativeReals,bounds=(170,300+273.15)) # K\n",
    "model.T_F = pe.Var(within=pe.NonNegativeReals) # K\n",
    "model.P = pe.Var(within=pe.NonNegativeReals,bounds=(10,30)) # Bar\n",
    "\n",
    "model.f_V = pe.Var(m.COMP_TOTAL,within=pe.NonNegativeReals,initialize=1e-20)\n",
    "model.f_L = pe.Var(m.COMP_TOTAL,within=pe.NonNegativeReals,initialize=1e-20)\n",
    "\n",
    "model.cat = pe.Var(within=pe.NonNegativeReals,initialize=3000) # kg\n",
    "model.Q_main = pe.Var(within=pe.Reals) # MW\n",
    "model.r_total_comp = pe.Var(m.COMP_TOTAL,within=pe.Reals) # kmol/s"
   ]
  },
  {
   "cell_type": "markdown",
   "metadata": {
    "slideshow": {
     "slide_type": "slide"
    }
   },
   "source": [
    "# Construct Individual Blocks"
   ]
  },
  {
   "cell_type": "code",
   "execution_count": 5,
   "metadata": {
    "slideshow": {
     "slide_type": "subslide"
    }
   },
   "outputs": [
    {
     "name": "stdout",
     "output_type": "stream",
     "text": [
      "> Importing Kinetics Blocks......\n",
      "> Adding the following local variable:\n",
      "--------------------------------------------------\n",
      "| kinetics_block.k_FT\n",
      "| kinetics_block.r_FT_total\n",
      "| kinetics_block.g0_FT\n",
      "| kinetics_block.alpha\n",
      "| kinetics_block.r_FT_cnum\n",
      "| kinetics_block.r_FT_comp\n",
      "| kinetics_block.k_WGS\n",
      "| kinetics_block.Ke_WGS\n",
      "| kinetics_block.r_WGS\n",
      "| kinetics_block.r_WGS_comp\n",
      "--------------------------------------------------\n",
      "\n"
     ]
    }
   ],
   "source": [
    "model.kinetics_block = pe.Block(rule=kinetic_block_rule)"
   ]
  },
  {
   "cell_type": "code",
   "execution_count": 6,
   "metadata": {
    "slideshow": {
     "slide_type": "subslide"
    }
   },
   "outputs": [
    {
     "name": "stdout",
     "output_type": "stream",
     "text": [
      "> Importing Energy Blocks......\n",
      "> Adding the following local variable:\n",
      "--------------------------------------------------\n",
      "| energy_block.dH_F\n",
      "| energy_block.dH_V\n",
      "| energy_block.dH_L\n",
      "| energy_block.dH_vap\n",
      "--------------------------------------------------\n",
      "\n"
     ]
    }
   ],
   "source": [
    "model.energy_block = pe.Block(rule=energy_block_rule)"
   ]
  },
  {
   "cell_type": "code",
   "execution_count": 7,
   "metadata": {
    "scrolled": false,
    "slideshow": {
     "slide_type": "subslide"
    }
   },
   "outputs": [
    {
     "name": "stdout",
     "output_type": "stream",
     "text": [
      "> Importing VLE Blocks......\n",
      "> Adding the following local variable:\n",
      "--------------------------------------------------\n",
      "| VLE_block.T_VLE\n",
      "| VLE_block.n_ave\n",
      "| VLE_block.n_ave_cal\n",
      "| VLE_block.Hen\n",
      "| VLE_block.Hen0\n",
      "| VLE_block.gamma\n",
      "| VLE_block.P_sat\n",
      "| VLE_block.P_sat_Y\n",
      "| VLE_block.P_sat_dY_inf\n",
      "| VLE_block.P_sat_dY0\n",
      "| VLE_block.Hen_ref\n",
      "| VLE_block.Hen0_ref\n",
      "| VLE_block.gamma_ref\n",
      "| VLE_block.V_L\n",
      "| VLE_block.V_L_dY_inf\n",
      "| VLE_block.V_L_dY0\n",
      "| VLE_block.poynting\n",
      "--------------------------------------------------\n",
      "\n"
     ]
    }
   ],
   "source": [
    "model.VLE_block = pe.Block(rule=VLE_block_rule)"
   ]
  },
  {
   "cell_type": "markdown",
   "metadata": {
    "slideshow": {
     "slide_type": "slide"
    }
   },
   "source": [
    "# Standard MESH Equations"
   ]
  },
  {
   "cell_type": "markdown",
   "metadata": {
    "slideshow": {
     "slide_type": "subslide"
    }
   },
   "source": [
    "## Mass Balance"
   ]
  },
  {
   "cell_type": "markdown",
   "metadata": {
    "slideshow": {
     "slide_type": "fragment"
    }
   },
   "source": [
    "\\begin{equation}\n",
    "Fz_{i}+\\sum_{s\\in{inlet}}L_{s}x'_{i,s}+\\sum_{s\\in{inlet}}V_{s}y'_{i,s}-\\sum_{s\\in{outlet}}L_{s}x_{i,s}-\\sum_{s\\in{ouelet}}V_{s}y_{i,s}+R_{i} = 0 \\\\\n",
    "i = 1,...NC\n",
    "\\end{equation}"
   ]
  },
  {
   "cell_type": "code",
   "execution_count": 8,
   "metadata": {
    "slideshow": {
     "slide_type": "fragment"
    }
   },
   "outputs": [],
   "source": [
    "def mass_balance_main_rule(model,i):\n",
    "    if i in m.COMP_FEED:\n",
    "        return model.F*model.z[i] + sum(model.L[s]*model.x_[s,i] + model.V[s]*model.y_[s,i] for s in model.inlet)\\\n",
    "        + model.r_total_comp[i] - sum(model.L[s]*model.x[i] + model.V[s]*model.y[i] for s in model.outlet) == 0\n",
    "    else:\n",
    "        return sum(model.L[s]*model.x_[s,i] + model.V[s]*model.y_[s,i] for s in model.inlet)\\\n",
    "        + model.r_total_comp[i] - sum(model.L[s]*model.x[i] + model.V[s]*model.y[i] for s in model.outlet) == 0\n",
    "model.mass_balance_main_con = pe.Constraint(m.COMP_TOTAL,rule=mass_balance_main_rule)"
   ]
  },
  {
   "cell_type": "markdown",
   "metadata": {
    "slideshow": {
     "slide_type": "subslide"
    }
   },
   "source": [
    "## Equilibrium"
   ]
  },
  {
   "cell_type": "markdown",
   "metadata": {
    "slideshow": {
     "slide_type": "fragment"
    }
   },
   "source": [
    "\\begin{align}\n",
    "&f_{i,V} = f_{i,L} \\\\\n",
    "&i = 1,...NC\n",
    "\\end{align}"
   ]
  },
  {
   "cell_type": "code",
   "execution_count": 9,
   "metadata": {
    "slideshow": {
     "slide_type": "fragment"
    }
   },
   "outputs": [],
   "source": [
    "def VL_equil_rule(model,i):\n",
    "    return model.f_V[i] == model.f_L[i]\n",
    "model.VL_equil_con = pe.Constraint(m.COMP_TOTAL,rule=VL_equil_rule)"
   ]
  },
  {
   "cell_type": "markdown",
   "metadata": {},
   "source": [
    "## MPCC: T"
   ]
  },
  {
   "cell_type": "code",
   "execution_count": 10,
   "metadata": {
    "scrolled": false
   },
   "outputs": [
    {
     "name": "stdout",
     "output_type": "stream",
     "text": [
      "> Importing dew Blocks......\n",
      "> Adding the following local variable:\n",
      "------------------------------------\n",
      "| MPCC.x\n",
      "| MPCC.y\n",
      "| MPCC.T\n",
      "| MPCC.P\n",
      "| MPCC.f_V\n",
      "| MPCC.f_L\n",
      "| MPCC.beta\n",
      "| MPCC.s_L\n",
      "| MPCC.s_V\n",
      "| MPCC.epi\n",
      "------------------------------------\n",
      "\n",
      "> Importing VLE Blocks......\n",
      "> Adding the following local variable:\n",
      "--------------------------------------------------\n",
      "| MPCC.VLE_block.n_ave\n",
      "| MPCC.VLE_block.n_ave_cal\n",
      "| MPCC.VLE_block.Hen\n",
      "| MPCC.VLE_block.Hen0\n",
      "| MPCC.VLE_block.gamma\n",
      "| MPCC.VLE_block.P_sat\n",
      "| MPCC.VLE_block.P_sat_Y\n",
      "| MPCC.VLE_block.P_sat_dY_inf\n",
      "| MPCC.VLE_block.P_sat_dY0\n",
      "| MPCC.VLE_block.Hen_ref\n",
      "| MPCC.VLE_block.Hen0_ref\n",
      "| MPCC.VLE_block.gamma_ref\n",
      "| MPCC.VLE_block.V_L\n",
      "| MPCC.VLE_block.V_L_dY_inf\n",
      "| MPCC.VLE_block.V_L_dY0\n",
      "| MPCC.VLE_block.poynting\n",
      "--------------------------------------------------\n",
      "\n"
     ]
    }
   ],
   "source": [
    "model.MPCC = pe.Block(rule=dew_block_rule)"
   ]
  },
  {
   "cell_type": "markdown",
   "metadata": {
    "slideshow": {
     "slide_type": "subslide"
    }
   },
   "source": [
    "## Summation"
   ]
  },
  {
   "cell_type": "markdown",
   "metadata": {
    "slideshow": {
     "slide_type": "fragment"
    }
   },
   "source": [
    "\\begin{equation}\n",
    "\\sum_ix_{i} = \\sum_iy_{i} \\\\\n",
    "F + L_{in} + V_{in} + R = L_{out} + V_{out}\n",
    "\\end{equation}"
   ]
  },
  {
   "cell_type": "code",
   "execution_count": 11,
   "metadata": {
    "slideshow": {
     "slide_type": "fragment"
    }
   },
   "outputs": [],
   "source": [
    "def summation_x_y_rule(model):\n",
    "    return sum(model.x[i] for i in m.COMP_TOTAL) == sum(model.y[i] for i in m.COMP_TOTAL)\n",
    "model.summation_x_y_con = pe.Constraint(rule=summation_x_y_rule)\n",
    "\n",
    "def summation_total_mass_rule(model):\n",
    "    return model.F + sum(model.L[s] + model.V[s] for s in model.inlet) + sum(model.r_total_comp[i] for i in m.COMP_TOTAL)\\\n",
    "            - sum(model.L[s] + model.V[s] for s in model.outlet) == 0\n",
    "model.summation_total_mass_con = pe.Constraint(rule=summation_total_mass_rule)"
   ]
  },
  {
   "cell_type": "markdown",
   "metadata": {
    "slideshow": {
     "slide_type": "subslide"
    }
   },
   "source": [
    "## Energy Balance"
   ]
  },
  {
   "cell_type": "markdown",
   "metadata": {
    "slideshow": {
     "slide_type": "fragment"
    }
   },
   "source": [
    "\\begin{equation}\n",
    "F H_f+\\sum_{s\\in{inlet}}L_{s}H_{l,s}+\\sum_{s\\in{inlet}}V_{s}H_{v,s}-\\sum_{s\\in{outlet}}L_{s}H_{l,s}-\\sum_{s\\in{outlet}}V_{s}H_{v,s}+Q = 0\n",
    "\\end{equation}"
   ]
  },
  {
   "cell_type": "code",
   "execution_count": 12,
   "metadata": {
    "slideshow": {
     "slide_type": "fragment"
    }
   },
   "outputs": [],
   "source": [
    "def heat_balance_main_rule(model):\n",
    "    return model.F*model.H_F + sum(model.L[s]*model.H_L_[s] + model.V[s]*model.H_V_[s] for s in model.inlet) \\\n",
    "            + model.Q_main - sum(model.L[s]*model.H_L + model.V[s]*model.H_V for s in model.outlet) == 0\n",
    "model.heat_balance_main_con = pe.Constraint(rule=heat_balance_main_rule)"
   ]
  },
  {
   "cell_type": "markdown",
   "metadata": {
    "slideshow": {
     "slide_type": "slide"
    }
   },
   "source": [
    "# Testing"
   ]
  },
  {
   "cell_type": "code",
   "execution_count": 13,
   "metadata": {
    "slideshow": {
     "slide_type": "fragment"
    }
   },
   "outputs": [
    {
     "name": "stdout",
     "output_type": "stream",
     "text": [
      "Created the follow pyomo suffixes:\n",
      "ipopt_zL_out, ipopt_zU_out, ipopt_zL_in, ipopt_zU_in, dual\n"
     ]
    }
   ],
   "source": [
    "add_dual(pe,model)"
   ]
  },
  {
   "cell_type": "markdown",
   "metadata": {
    "slideshow": {
     "slide_type": "fragment"
    }
   },
   "source": [
    "## Fixing In/Product Redundent Flow"
   ]
  },
  {
   "cell_type": "code",
   "execution_count": 14,
   "metadata": {
    "slideshow": {
     "slide_type": "fragment"
    }
   },
   "outputs": [],
   "source": [
    "model.x_.fix(0)\n",
    "model.y_.fix(0)\n",
    "model.L['in'].fix(0)\n",
    "model.L['P'].fix(0)\n",
    "model.V['in'].fix(0)\n",
    "model.V['P'].fix(0)\n",
    "model.H_L_.fix(0)\n",
    "model.H_V_.fix(0)"
   ]
  },
  {
   "cell_type": "markdown",
   "metadata": {
    "slideshow": {
     "slide_type": "subslide"
    }
   },
   "source": [
    "## Fixing Model Parameters"
   ]
  },
  {
   "cell_type": "code",
   "execution_count": 15,
   "metadata": {
    "slideshow": {
     "slide_type": "fragment"
    }
   },
   "outputs": [],
   "source": [
    "model.cat.fix(3000)\n",
    "model.P.fix(20)\n",
    "model.T_F.fix(200+273.15)\n",
    "model.F.fix(1)\n",
    "model.z['CO'].fix(1/(1+0.8)-0/2)\n",
    "model.z['H2'].fix(0.8/(1+0.8)-0/2)\n",
    "model.z['C30H62'].fix(0)\n",
    "model.VLE_block.n_ave.fix(20)"
   ]
  },
  {
   "cell_type": "code",
   "execution_count": 16,
   "metadata": {
    "scrolled": true,
    "slideshow": {
     "slide_type": "fragment"
    }
   },
   "outputs": [
    {
     "name": "stdout",
     "output_type": "stream",
     "text": [
      "Active Equality Constraints:\t 1895\n",
      "Active Inequality Constraints:\t 1\n",
      "Active Variables:\t\t 2071\n",
      "Fixed Variables:\t\t 173\n",
      "DOF:\t\t\t\t 3\n"
     ]
    }
   ],
   "source": [
    "check_DOF(pe,model)"
   ]
  },
  {
   "cell_type": "markdown",
   "metadata": {
    "slideshow": {
     "slide_type": "subslide"
    }
   },
   "source": [
    "## Fix T or to fix Q? we have found that Maximize against an upper bound is most reliable"
   ]
  },
  {
   "cell_type": "code",
   "execution_count": 17,
   "metadata": {
    "slideshow": {
     "slide_type": "fragment"
    }
   },
   "outputs": [],
   "source": [
    "model.T.setub(200+273.15)\n",
    "# model.T.setlb(270+273.15)\n",
    "# model.T.fix(524)"
   ]
  },
  {
   "cell_type": "code",
   "execution_count": 18,
   "metadata": {
    "slideshow": {
     "slide_type": "fragment"
    }
   },
   "outputs": [],
   "source": [
    "# model.obj = pe.Objective(expr = model.L['out'],sense=pe.maximize)\n",
    "# model.obj = pe.Objective(expr = model.cat,sense=pe.minimize)\n",
    "# model.obj = pe.Objective(expr = model.T - model.MPCC.pf ,sense=pe.maximize)\n",
    "model.obj = pe.Objective(expr = model.T ,sense=pe.maximize)"
   ]
  },
  {
   "cell_type": "code",
   "execution_count": 19,
   "metadata": {
    "scrolled": false,
    "slideshow": {
     "slide_type": "fragment"
    }
   },
   "outputs": [
    {
     "name": "stdout",
     "output_type": "stream",
     "text": [
      "Ipopt 3.12.8: print_user_options=yes\n",
      "linear_solver=ma86\n",
      "linear_system_scaling =mc19\n",
      "linear_scaling_on_demand =no\n",
      "max_iter=7000\n",
      "\n",
      "\n",
      "List of user-set options:\n",
      "\n",
      "                                    Name   Value                used\n",
      "                linear_scaling_on_demand = no                    yes\n",
      "                           linear_solver = ma86                  yes\n",
      "                   linear_system_scaling = mc19                  yes\n",
      "                                max_iter = 7000                  yes\n",
      "                      print_user_options = yes                   yes\n",
      "\n",
      "******************************************************************************\n",
      "This program contains Ipopt, a library for large-scale nonlinear optimization.\n",
      " Ipopt is released as open source code under the Eclipse Public License (EPL).\n",
      "         For more information visit http://projects.coin-or.org/Ipopt\n",
      "******************************************************************************\n",
      "\n",
      "This is Ipopt version 3.12.8, running with linear solver ma86.\n",
      "\n",
      "Number of nonzeros in equality constraint Jacobian...:     6433\n",
      "Number of nonzeros in inequality constraint Jacobian.:        2\n",
      "Number of nonzeros in Lagrangian Hessian.............:     8632\n",
      "\n",
      "Total number of variables............................:     1897\n",
      "                     variables with only lower bounds:      998\n",
      "                variables with lower and upper bounds:      246\n",
      "                     variables with only upper bounds:        0\n",
      "Total number of equality constraints.................:     1895\n",
      "Total number of inequality constraints...............:        1\n",
      "        inequality constraints with only lower bounds:        0\n",
      "   inequality constraints with lower and upper bounds:        0\n",
      "        inequality constraints with only upper bounds:        1\n",
      "\n",
      "iter    objective    inf_pr   inf_du lg(mu)  ||d||  lg(rg) alpha_du alpha_pr  ls\n",
      "   0 -1.7170000e+02 1.57e+04 1.00e+00  -1.0 0.00e+00    -  0.00e+00 0.00e+00   0\n",
      "   1 -1.7171367e+02 1.57e+04 2.32e+03  -1.0 1.36e+04    -  5.46e-04 1.86e-04h  1\n",
      "   2 -1.7171367e+02 1.57e+04 2.32e+03  -1.0 3.96e+06    -  5.86e-09 1.54e-09f  5\n",
      "   3r-1.7171367e+02 1.57e+04 9.99e+02   4.2 0.00e+00    -  0.00e+00 1.12e-08R  2\n",
      "   4r-1.7171490e+02 1.57e+04 5.24e+03   4.2 1.04e+06    -  8.20e-04 3.58e-07f  1\n",
      "   5r-1.8267314e+02 1.48e+04 5.20e+03   2.1 8.80e+05    -  6.82e-04 4.68e-03f  1\n",
      "   6r-1.9851133e+02 8.54e+03 5.17e+03   2.1 1.24e+06    -  4.36e-03 5.10e-03f  1\n",
      "   7r-1.9851133e+02 8.54e+03 9.99e+02   3.9 0.00e+00    -  0.00e+00 3.33e-07R  3\n",
      "   8r-1.9851765e+02 8.54e+03 7.10e+03   3.9 2.32e+05    -  1.53e-03 1.30e-06f  1\n",
      "   9r-2.3059247e+02 6.87e+03 7.04e+03   1.8 2.11e+05    -  7.11e-03 7.89e-03f  1\n",
      "iter    objective    inf_pr   inf_du lg(mu)  ||d||  lg(rg) alpha_du alpha_pr  ls\n",
      "  10r-2.3059247e+02 6.87e+03 9.99e+02   3.8 0.00e+00    -  0.00e+00 4.62e-07R  4\n",
      "  11r-2.3059267e+02 6.87e+03 8.25e+03   3.8 2.92e+05    -  1.94e-03 2.90e-08f  1\n",
      "  12r-2.6257748e+02 5.32e+03 8.20e+03   1.7 2.62e+05    -  1.07e-02 5.73e-03f  1\n",
      "  13r-2.6257748e+02 5.32e+03 9.99e+02   3.7 0.00e+00    -  0.00e+00 4.69e-07R  5\n",
      "  14r-2.6257776e+02 5.32e+03 6.75e+03   3.7 3.57e+05    -  2.07e-03 3.71e-08f  1\n",
      "  15r-3.1635918e+02 2.33e+03 6.70e+03   1.6 3.40e+05    -  1.31e-02 7.73e-03f  1\n",
      "  16r-3.1635918e+02 2.33e+03 9.99e+02   3.4 0.00e+00    -  0.00e+00 3.55e-07R  7\n",
      "  17r-3.1636041e+02 2.33e+03 3.01e+03   3.4 8.26e+05    -  2.08e-03 8.51e-08f  1\n",
      "  18r-3.5616489e+02 7.35e+02 3.01e+03   1.3 6.59e+05    -  9.35e-03 3.50e-03f  1\n",
      "  19r-3.5616489e+02 7.35e+02 9.99e+02   2.7 0.00e+00    -  0.00e+00 3.57e-07R  8\n",
      "iter    objective    inf_pr   inf_du lg(mu)  ||d||  lg(rg) alpha_du alpha_pr  ls\n",
      "  20r-3.5616805e+02 7.35e+02 1.02e+03   2.7 1.53e+05    -  2.05e-03 3.84e-07f  1\n",
      "  21r-3.7348255e+02 5.71e+02 1.01e+03   1.3 1.09e+05    -  4.19e-03 3.32e-03f  1\n",
      "  22r-3.8535303e+02 5.13e+02 1.01e+03   1.3 3.99e+05    -  2.17e-03 1.95e-03f  1\n",
      "  23r-3.9737899e+02 5.12e+02 1.01e+03   1.3 2.78e+05    -  2.28e-03 3.06e-03f  1\n",
      "  24r-4.1199431e+02 5.11e+02 1.00e+03   1.3 1.97e+05    -  3.58e-03 5.69e-03f  1\n",
      "  25r-4.2244803e+02 5.09e+02 9.94e+02   1.3 1.59e+05    -  6.01e-03 9.03e-03f  1\n",
      "  26r-4.2574825e+02 5.06e+02 9.90e+02   1.3 1.64e+05    -  6.19e-03 1.07e-02f  1\n",
      "  27r-4.2580212e+02 5.06e+02 1.89e+03   1.3 1.25e+01   2.0 6.72e-02 1.25e-02f  1\n",
      "  28r-4.2714897e+02 5.06e+02 9.87e+02   1.3 3.68e+01   1.5 1.34e-02 4.95e-02f  1\n",
      "  29r-4.2717558e+02 5.06e+02 1.39e+04   1.3 3.77e+00   2.9 5.81e-01 4.48e-02f  1\n",
      "iter    objective    inf_pr   inf_du lg(mu)  ||d||  lg(rg) alpha_du alpha_pr  ls\n",
      "  30r-4.2777450e+02 5.05e+02 1.19e+04   1.3 5.28e+00   2.4 2.77e-01 1.67e-01f  1\n",
      "  31r-4.2785977e+02 5.05e+02 1.44e+04   1.3 3.16e+00   2.8 5.39e-01 1.04e-01f  1\n",
      "  32r-4.2781799e+02 5.05e+02 8.94e+03   1.3 2.21e+00   3.2 2.43e-01 3.24e-01f  1\n",
      "  33r-4.2769986e+02 5.05e+02 4.62e+03   1.3 1.18e+00   3.7 4.46e-01 4.59e-01f  1\n",
      "  34r-4.2777498e+02 5.05e+02 8.96e+03   1.3 1.17e+00   3.2 7.52e-01 2.80e-01f  1\n",
      "  35r-4.2777770e+02 5.05e+02 5.92e+03   1.3 6.26e-01   3.6 1.00e+00 5.67e-01f  1\n",
      "  36r-4.2782905e+02 5.05e+02 8.47e+04   1.3 9.02e-01   3.1 7.14e-01 1.09e-01f  1\n",
      "  37r-4.2815453e+02 5.05e+02 9.77e+04   1.3 2.95e+00   2.6 4.19e-01 2.26e-01f  1\n",
      "  38r-4.2843981e+02 5.04e+02 9.19e+04   1.3 9.86e+00   2.2 1.02e-01 7.93e-02f  1\n",
      "  39r-4.2902695e+02 5.04e+02 9.53e+04   1.3 2.73e+01   1.7 1.24e-01 6.35e-02f  1\n",
      "iter    objective    inf_pr   inf_du lg(mu)  ||d||  lg(rg) alpha_du alpha_pr  ls\n",
      "  40r-4.2926619e+02 5.03e+02 6.73e+04   1.3 9.75e+00   2.1 3.20e-01 7.63e-02f  1\n",
      "  41r-4.2995316e+02 5.03e+02 6.53e+04   1.3 2.57e+01   1.6 4.94e-02 8.39e-02f  1\n",
      "  42r-4.2996176e+02 5.03e+02 6.01e+04   1.3 1.20e+00   3.0 3.40e-01 2.29e-02f  1\n",
      "  43r-4.3015303e+02 5.02e+02 1.66e+05   1.3 3.38e+00   2.5 9.61e-01 1.75e-01f  1\n",
      "  44r-4.3057667e+02 5.02e+02 1.03e+05   1.3 8.73e+00   2.0 2.99e-01 1.40e-01f  1\n",
      "  45r-4.3076170e+02 5.01e+02 3.10e+04   1.3 3.04e+00   2.4 6.87e-01 1.74e-01f  1\n",
      "  46r-4.3118743e+02 5.01e+02 3.15e+04   1.3 7.01e+00   2.0 3.04e-01 1.50e-01f  1\n",
      "  47r-4.3181545e+02 4.99e+02 2.65e+04   1.3 1.59e+01   1.5 1.98e-01 8.92e-02f  1\n",
      "  48r-4.3262124e+02 4.97e+02 2.54e+04   1.3 7.27e+01   1.0 3.03e-02 5.23e-02f  1\n",
      "  49r-4.3332786e+02 4.96e+02 2.55e+04   1.3 1.31e+02   0.5 1.47e-01 2.35e-02f  1\n",
      "iter    objective    inf_pr   inf_du lg(mu)  ||d||  lg(rg) alpha_du alpha_pr  ls\n",
      "  50r-4.3526034e+02 4.91e+02 2.60e+04   1.3 3.37e+02   0.1 1.01e-01 3.66e-02f  1\n",
      "  51r-4.3529839e+02 4.91e+02 2.60e+04   1.3 1.33e+06    -  2.93e-03 2.02e-04f  1\n",
      "  52r-4.3550356e+02 4.89e+02 2.70e+04   1.3 1.92e+01   1.4 2.52e-01 7.73e-02f  1\n",
      "  53r-4.3658383e+02 4.87e+02 2.67e+04   1.3 3.45e+04    -  1.33e-02 1.21e-02f  1\n",
      "  54r-4.3661986e+02 4.87e+02 3.49e+04   1.3 7.09e+00   1.8 1.00e+00 4.06e-02f  1\n",
      "  55r-4.3716927e+02 4.81e+02 3.38e+04   1.3 2.81e+04    -  1.86e-02 3.01e-02f  1\n",
      "  56r-4.3721795e+02 4.80e+02 3.39e+04   1.3 2.25e+04    -  6.65e-02 2.96e-03f  1\n",
      "  57r-4.3823739e+02 4.76e+02 3.31e+04   1.3 1.87e+04    -  8.01e-03 2.36e-02f  1\n",
      "  58r-4.3840035e+02 4.70e+02 3.21e+04   1.3 1.82e+04    -  6.19e-02 3.14e-02f  1\n",
      "  59r-4.3905632e+02 4.67e+02 3.17e+04   1.3 1.63e+04    -  1.14e-02 1.47e-02f  1\n",
      "iter    objective    inf_pr   inf_du lg(mu)  ||d||  lg(rg) alpha_du alpha_pr  ls\n",
      "  60r-4.3915391e+02 4.64e+02 3.11e+04   1.3 1.56e+04    -  6.62e-02 2.19e-02f  1\n",
      "  61r-4.3998093e+02 4.61e+02 3.07e+04   1.3 1.53e+04    -  6.69e-03 1.34e-02f  1\n",
      "  62 -4.4000839e+02 4.61e+02 2.34e+01  -1.0 4.16e+04    -  7.32e-04 1.09e-03f  1\n",
      "  63 -4.4005941e+02 4.60e+02 7.78e+01  -1.0 3.95e+04    -  3.45e-03 2.07e-03f  1\n",
      "  64 -4.4009747e+02 4.60e+02 7.78e+01  -1.0 3.12e+04    -  4.53e-03 5.16e-04h  1\n",
      "  65 -4.4021759e+02 4.59e+02 8.39e+01  -1.0 3.02e+04    -  5.48e-03 1.59e-03f  1\n",
      "  66 -4.4021886e+02 4.59e+02 1.70e+04  -1.0 2.76e+04    -  9.04e-03 1.68e-05h  1\n",
      "  67r-4.4021886e+02 4.59e+02 1.00e+03   2.7 0.00e+00    -  0.00e+00 3.73e-07R  2\n",
      "  68r-4.4023009e+02 4.59e+02 1.42e+04   2.7 8.27e+03    -  7.79e-03 7.68e-06f  1\n",
      "  69r-4.4112151e+02 4.21e+02 1.32e+04   2.0 4.10e+03    -  1.17e-02 1.50e-02f  1\n",
      "iter    objective    inf_pr   inf_du lg(mu)  ||d||  lg(rg) alpha_du alpha_pr  ls\n",
      "  70r-4.4335706e+02 3.11e+02 1.22e+04   2.0 5.63e+03    -  1.49e-02 1.95e-02f  1\n",
      "  71 -4.4341794e+02 3.10e+02 3.34e+03  -1.0 2.43e+04    -  1.80e-02 9.11e-04h  1\n",
      "  72 -4.4341574e+02 3.10e+02 1.11e+05  -1.0 1.87e+04    -  4.95e-04 1.54e-05h  1\n",
      "  73 -4.4338786e+02 3.10e+02 1.26e+06  -1.0 1.57e+04    -  4.20e-04 3.78e-05h  1\n",
      "  74r-4.4338786e+02 3.10e+02 1.00e+03   2.5 0.00e+00    -  0.00e+00 3.10e-07R  6\n",
      "  75r-4.4344013e+02 3.10e+02 1.77e+04   2.5 1.11e+04    -  1.83e-02 6.96e-05f  1\n",
      "  76r-4.4612595e+02 6.12e+01 1.81e+04   1.8 1.09e+04    -  3.04e-02 2.28e-02f  1\n",
      "  77 -4.4614471e+02 6.12e+01 7.37e+00  -1.0 2.20e+04    -  3.43e-03 4.78e-04h  1\n"
     ]
    },
    {
     "name": "stdout",
     "output_type": "stream",
     "text": [
      "  78r-4.4614471e+02 6.12e+01 9.99e+02   1.8 0.00e+00    -  0.00e+00 3.08e-07R  5\n",
      "  79r-4.4614749e+02 6.09e+01 9.98e+02   1.8 2.97e+04    -  1.95e-03 1.14e-05f  1\n",
      "iter    objective    inf_pr   inf_du lg(mu)  ||d||  lg(rg) alpha_du alpha_pr  ls\n",
      "  80r-4.4667240e+02 1.77e+01 1.80e+03   1.1 2.03e+04    -  4.01e-02 2.97e-03f  1\n",
      "  81 -4.4670874e+02 1.77e+01 7.29e+00  -1.0 2.15e+04    -  7.93e-03 1.10e-03h  1\n",
      "  82 -4.4677402e+02 1.77e+01 2.56e+01  -1.0 2.09e+04    -  5.94e-03 1.11e-03h  1\n",
      "  83 -4.4677473e+02 1.77e+01 6.10e+03  -1.0 1.93e+04    -  2.48e-03 1.21e-05h  1\n",
      "  84 -4.4677563e+02 1.77e+01 1.98e+05  -1.0 2.43e+03    -  5.70e-04 1.75e-05h  1\n",
      "  85r-4.4677563e+02 1.77e+01 1.00e+03   1.2 0.00e+00    -  0.00e+00 3.17e-07R  4\n",
      "  86r-4.4684003e+02 1.77e+01 1.60e+03   1.2 1.20e+03    -  2.93e-02 2.39e-04f  1\n",
      "  87r-4.5476044e+02 1.77e+01 1.14e+03   1.2 6.47e+02    -  2.10e-02 2.80e-02f  1\n",
      "  88r-4.5680139e+02 1.77e+01 9.86e+02   1.2 4.57e+02    -  5.11e-03 1.18e-02f  1\n",
      "  89r-4.6003267e+02 1.77e+01 9.73e+02   1.2 4.80e+02    -  1.30e-02 1.24e-02f  1\n",
      "iter    objective    inf_pr   inf_du lg(mu)  ||d||  lg(rg) alpha_du alpha_pr  ls\n",
      "  90r-4.6191534e+02 1.77e+01 1.00e+03   1.2 3.41e+02    -  1.75e-03 1.30e-02f  1\n",
      "  91r-4.6294922e+02 1.77e+01 1.12e+04   1.2 4.08e+01   0.0 2.29e-01 7.55e-02f  1\n",
      "  92r-4.6397795e+02 1.77e+01 1.24e+04   1.2 1.24e+02  -0.5 2.82e-02 1.55e-02f  1\n",
      "  93r-4.6510735e+02 1.77e+01 1.23e+04   1.2 1.17e+04  -0.1 3.79e-05 1.80e-04f  1\n",
      "  94r-4.6575965e+02 1.76e+01 6.37e+03   1.2 8.87e+02    -  8.22e-02 1.80e-01f  1\n",
      "  95r-4.6610862e+02 1.76e+01 9.56e+03   1.2 4.64e+02    -  1.39e-01 4.02e-02f  1\n",
      "  96r-4.7054745e+02 1.76e+01 5.62e+04   1.2 4.41e+02    -  1.09e-02 2.92e-01f  1\n",
      "  97r-4.7101265e+02 1.76e+01 4.44e+04   1.2 2.59e+02    -  2.30e-01 2.19e-01f  1\n",
      "  98r-4.7223009e+02 1.76e+01 6.27e+04   1.2 2.05e+02    -  7.85e-01 3.74e-01f  1\n",
      "  99r-4.7238684e+02 1.75e+01 1.19e+05   1.2 1.32e+02    -  3.94e-01 1.00e+00f  1\n",
      "iter    objective    inf_pr   inf_du lg(mu)  ||d||  lg(rg) alpha_du alpha_pr  ls\n",
      " 100r-4.7300043e+02 1.75e+01 7.54e+04   1.2 9.19e+00    -  2.25e-01 1.00e+00f  1\n",
      " 101r-4.7275022e+02 1.75e+01 1.54e+04   1.2 4.72e-01    -  7.77e-01 1.00e+00f  1\n",
      " 102r-4.7306035e+02 1.75e+01 3.40e+00   1.2 5.86e-01    -  1.00e+00 1.00e+00f  1\n",
      " 103r-4.7305545e+02 1.75e+01 1.25e+05  -1.5 4.90e+01    -  6.39e-01 4.20e-01f  1\n",
      " 104r-4.7305269e+02 1.75e+01 1.63e+05  -1.5 9.31e+01  -0.5 2.08e-01 1.32e-01f  1\n",
      " 105r-4.7305373e+02 1.75e+01 1.22e+05  -1.5 1.75e+01  -0.1 4.00e-01 2.44e-01f  1\n",
      " 106r-4.7305392e+02 1.75e+01 9.80e+04  -1.5 2.82e+01  -0.6 2.42e-01 1.90e-01f  1\n",
      " 107r-4.7305331e+02 1.75e+01 7.42e+04  -1.5 3.54e+01  -1.1 7.16e-02 1.39e-01f  1\n",
      " 108r-4.7305331e+02 1.75e+01 7.38e+04  -1.5 1.09e+01   0.3 1.69e-01 4.13e-04f  1\n",
      " 109r-4.7305328e+02 1.75e+01 4.91e+04  -1.5 6.35e+00   0.7 2.49e-01 3.04e-01f  1\n",
      "iter    objective    inf_pr   inf_du lg(mu)  ||d||  lg(rg) alpha_du alpha_pr  ls\n",
      " 110r-4.7305327e+02 1.75e+01 3.70e+04  -1.5 2.27e+00   1.1 2.80e-01 2.40e-01f  1\n",
      " 111r-4.7305321e+02 1.75e+01 1.86e+04  -1.5 4.93e+00   0.6 3.96e-01 3.58e-01f  1\n",
      " 112r-4.7305315e+02 1.75e+01 1.78e+04  -1.5 1.11e+01   0.2 1.25e-01 4.08e-02f  1\n",
      " 113r-4.7305233e+02 1.75e+01 1.32e+04  -1.5 2.43e+01  -0.3 9.59e-02 1.49e-01f  1\n",
      " 114r-4.7305233e+02 1.75e+01 1.27e+04  -1.5 2.06e+00   1.0 3.65e-02 2.81e-02f  1\n",
      " 115r-4.7305233e+02 1.75e+01 1.26e+04  -1.5 5.21e+00   0.5 1.02e-01 5.63e-03f  1\n",
      " 116r-4.7305228e+02 1.75e+01 3.38e+03  -1.5 2.28e+00   1.0 2.89e-02 2.63e-01f  1\n",
      " 117r-4.7305227e+02 1.75e+01 3.34e+03  -1.5 5.51e+00   0.5 4.92e-03 1.19e-02f  1\n",
      " 118r-4.7305204e+02 1.75e+01 3.01e+03  -1.5 1.17e+01   0.0 1.10e-01 9.97e-02f  1\n",
      " 119r-4.7305192e+02 1.75e+01 2.96e+03  -1.5 1.95e+01  -0.5 1.43e-03 1.45e-02f  1\n",
      "iter    objective    inf_pr   inf_du lg(mu)  ||d||  lg(rg) alpha_du alpha_pr  ls\n",
      " 120r-4.7305163e+02 1.75e+01 2.90e+03  -1.5 4.40e+01  -0.9 1.10e-02 1.08e-02f  1\n",
      " 121r-4.7305073e+02 1.75e+01 2.84e+03  -1.5 9.80e+01  -1.4 3.79e-02 8.94e-03f  1\n",
      " 122r-4.7304811e+02 1.75e+01 2.23e+03  -1.5 1.48e+02  -1.9 3.43e-02 1.41e-02f  1\n",
      " 123r-4.7304811e+02 1.75e+01 4.40e+03  -1.5 7.89e-02   4.0 1.39e-02 9.25e-02f  1\n",
      " 124r-4.7304811e+02 1.75e+01 4.21e+03  -1.5 7.39e-02   3.5 2.29e-02 2.17e-03f  1\n",
      " 125r-4.7304811e+02 1.75e+01 4.82e+03  -1.5 8.98e-02   3.0 1.76e-02 1.01e-01f  1\n",
      " 126r-4.7304811e+02 1.75e+01 4.81e+03  -1.5 1.36e-01   2.5 8.63e-03 1.33e-03f  1\n",
      " 127r-4.7304810e+02 1.75e+01 4.51e+03  -1.5 2.50e-01   2.0 4.58e-02 6.05e-02f  1\n",
      " 128r-4.7304810e+02 1.75e+01 4.50e+03  -1.5 6.26e-01   1.6 8.70e-02 7.96e-04f  1\n",
      " 129r-4.7304806e+02 1.75e+01 3.71e+03  -1.5 1.49e+00   1.1 4.31e-03 1.75e-01f  1\n",
      "iter    objective    inf_pr   inf_du lg(mu)  ||d||  lg(rg) alpha_du alpha_pr  ls\n",
      " 130r-4.7304801e+02 1.75e+01 3.48e+03  -1.5 3.61e+00   0.6 3.46e-01 6.11e-02f  1\n",
      " 131r-4.7304794e+02 1.75e+01 3.38e+03  -1.5 7.30e+00   0.1 9.75e-02 3.00e-02f  1\n",
      " 132r-4.7304703e+02 1.75e+01 2.94e+03  -1.5 1.27e+01  -0.3 2.67e-02 1.30e-01f  1\n",
      " 133r-4.7304619e+02 1.75e+01 2.81e+03  -1.5 2.14e+01  -0.8 3.98e-03 4.35e-02f  1\n",
      " 134r-4.7304612e+02 1.75e+01 2.81e+03  -1.5 3.87e+01  -1.3 7.03e-02 1.51e-03f  1\n",
      " 135r-4.7304117e+02 1.75e+01 2.64e+03  -1.5 6.23e+01  -1.8 1.49e-03 5.63e-02f  1\n",
      " 136r-4.7304076e+02 1.75e+01 3.57e+03  -1.5 1.30e+02  -2.2 2.14e-01 3.95e-03f  1\n",
      " 137r-4.7303984e+02 1.75e+01 3.39e+03  -1.5 2.19e+01  -0.9 1.02e-02 3.59e-02f  1\n",
      " 138r-4.7303962e+02 1.75e+01 3.33e+03  -1.5 1.37e+02  -1.4 1.95e-02 1.56e-02f  1\n",
      " 139r-4.7303680e+02 1.74e+01 2.97e+03  -1.5 3.22e+01  -1.0 1.65e-02 1.08e-01f  1\n",
      "iter    objective    inf_pr   inf_du lg(mu)  ||d||  lg(rg) alpha_du alpha_pr  ls\n",
      " 140r-4.7303587e+02 1.74e+01 2.94e+03  -1.5 2.40e+01  -1.4 2.64e-02 1.33e-02f  1\n",
      " 141r-4.7303069e+02 1.74e+01 2.80e+03  -1.5 5.96e+01  -1.9 7.05e-03 4.51e-02f  1\n",
      " 142r-4.7302579e+02 1.74e+01 2.71e+03  -1.5 1.93e+02  -2.4 3.20e-02 3.27e-02f  1\n",
      " 143r-4.7302159e+02 1.74e+01 2.64e+03  -1.5 7.58e+02  -2.9 2.84e-02 2.42e-02f  1\n",
      " 144r-4.7301879e+02 2.80e+02 2.60e+03  -1.5 5.22e+04  -3.4 2.63e-02 1.51e-02f  1\n",
      " 145r-4.7301725e+02 2.76e+02 2.57e+03  -1.5 1.72e+02  -2.0 1.49e-02 1.24e-02f  1\n",
      " 146r-4.7301698e+02 2.76e+02 2.57e+03  -1.5 3.56e+02  -2.5 1.76e-02 1.62e-03f  1\n",
      " 147r-4.7301334e+02 2.70e+02 2.51e+03  -1.5 2.49e+03  -3.0 1.27e-02 2.05e-02f  1\n",
      " 148r-4.7301002e+02 2.65e+02 2.47e+03  -1.5 4.52e+02  -2.6 1.78e-02 1.96e-02f  1\n",
      " 149r-4.7300488e+02 2.58e+02 2.40e+03  -1.5 6.57e+03  -3.0 1.75e-02 2.69e-02f  1\n",
      "iter    objective    inf_pr   inf_du lg(mu)  ||d||  lg(rg) alpha_du alpha_pr  ls\n",
      " 150r-4.7300239e+02 2.54e+02 2.37e+03  -1.5 8.19e+02  -2.6 2.00e-02 1.39e-02f  1\n",
      " 151r-4.7300212e+02 2.53e+02 2.36e+03  -1.5 2.06e+02  -2.2 4.13e-03 3.86e-03f  1\n",
      " 152r-4.7299859e+02 2.48e+02 2.31e+03  -1.5 1.08e+03  -2.7 1.42e-02 2.00e-02f  1\n",
      " 153r-4.7299779e+02 2.46e+02 2.29e+03  -1.5 2.48e+02  -2.2 1.53e-02 6.35e-03f  1\n",
      " 154r-4.7299781e+02 2.46e+02 2.29e+03  -1.5 1.62e+02  -0.9 6.00e-04 1.23e-03f  1\n",
      " 155r-4.7299710e+02 2.43e+02 2.26e+03  -1.5 1.64e+02  -1.4 2.05e-02 1.22e-02f  1\n",
      " 156r-4.7299709e+02 2.42e+02 2.26e+03  -1.5 1.52e+02  -0.1 1.61e-02 2.71e-03f  1\n",
      " 157r-4.7299697e+02 2.40e+02 2.23e+03  -1.5 6.17e+01  -0.5 1.29e-03 1.12e-02f  1\n",
      " 158r-4.7299658e+02 2.37e+02 2.20e+03  -1.5 2.28e+01  -1.0 1.93e-02 1.34e-02f  1\n",
      " 159r-4.7299657e+02 2.36e+02 2.20e+03  -1.5 5.36e+01  -0.6 2.24e-03 2.40e-03f  1\n",
      "iter    objective    inf_pr   inf_du lg(mu)  ||d||  lg(rg) alpha_du alpha_pr  ls\n",
      " 160r-4.7299613e+02 2.33e+02 2.17e+03  -1.5 2.29e+01  -1.1 2.00e-02 1.38e-02f  1\n",
      " 161r-4.7299599e+02 2.17e+02 2.02e+03  -1.5 7.42e+00   0.3 5.63e-02 6.66e-02f  1\n",
      " 162r-4.7299591e+02 2.14e+02 1.99e+03  -1.5 1.17e+01  -0.2 3.07e-02 1.47e-02f  1\n",
      " 163r-4.7299577e+02 2.02e+02 1.88e+03  -1.5 8.39e+00   0.2 2.86e-02 5.88e-02f  1\n",
      " 164r-4.7299572e+02 2.00e+02 1.86e+03  -1.5 1.22e+01  -0.3 3.25e-02 9.04e-03f  1\n",
      " 165r-4.7299558e+02 1.90e+02 1.76e+03  -1.5 9.45e+00   0.2 1.58e-02 5.19e-02f  1\n",
      " 166r-4.7299554e+02 1.88e+02 1.75e+03  -1.5 1.28e+01  -0.3 3.41e-02 5.80e-03f  1\n",
      " 167r-4.7299541e+02 1.80e+02 1.67e+03  -1.5 1.05e+01   0.1 1.01e-02 4.60e-02f  1\n",
      " 168r-4.7299538e+02 1.79e+02 1.66e+03  -1.5 1.35e+01  -0.4 3.54e-02 4.01e-03f  1\n",
      " 169r-4.7299525e+02 1.72e+02 1.60e+03  -1.5 1.16e+01   0.1 7.10e-03 4.14e-02f  1\n",
      "iter    objective    inf_pr   inf_du lg(mu)  ||d||  lg(rg) alpha_du alpha_pr  ls\n",
      " 170r-4.7299523e+02 1.71e+02 1.59e+03  -1.5 1.43e+01  -0.4 3.67e-02 2.94e-03f  1\n",
      " 171r-4.7299510e+02 1.65e+02 1.53e+03  -1.5 1.26e+01   0.0 5.33e-03 3.79e-02f  1\n",
      " 172r-4.7299507e+02 1.64e+02 1.53e+03  -1.5 1.51e+01  -0.5 3.80e-02 2.27e-03f  1\n",
      " 173r-4.7299494e+02 1.59e+02 1.47e+03  -1.5 1.37e+01  -0.0 4.17e-03 3.51e-02f  1\n",
      " 174r-4.7299492e+02 1.58e+02 1.47e+03  -1.5 1.60e+01  -0.5 3.94e-02 1.82e-03f  1\n",
      " 175r-4.7299478e+02 1.53e+02 1.42e+03  -1.5 1.47e+01  -0.1 3.37e-03 3.30e-02f  1\n",
      " 176r-4.7299476e+02 1.53e+02 1.42e+03  -1.5 1.69e+01  -0.6 4.10e-02 1.51e-03f  1\n",
      " 177r-4.7299462e+02 1.48e+02 1.38e+03  -1.5 1.57e+01  -0.1 2.78e-03 3.14e-02f  1\n",
      " 178r-4.7299460e+02 1.48e+02 1.40e+03  -1.5 1.78e+01  -0.6 4.27e-02 1.28e-03f  1\n",
      " 179r-4.7299445e+02 1.43e+02 1.33e+03  -1.5 1.66e+01  -0.2 2.33e-03 3.03e-02f  1\n",
      "iter    objective    inf_pr   inf_du lg(mu)  ||d||  lg(rg) alpha_du alpha_pr  ls\n",
      " 180r-4.7299444e+02 1.43e+02 1.71e+03  -1.5 1.87e+01  -0.7 4.46e-02 1.12e-03f  1\n",
      " 181r-4.7299428e+02 1.39e+02 1.40e+03  -1.5 1.75e+01  -0.2 1.99e-03 2.96e-02f  1\n",
      " 182r-4.7299426e+02 1.39e+02 2.09e+03  -1.5 1.96e+01  -0.7 4.66e-02 1.00e-03f  1\n",
      " 183r-4.7299409e+02 1.35e+02 1.68e+03  -1.5 1.82e+01  -0.3 1.72e-03 2.94e-02f  1\n",
      " 184r-4.7299408e+02 1.35e+02 2.55e+03  -1.5 2.05e+01  -0.8 4.89e-02 9.08e-04f  1\n",
      " 185r-4.7299390e+02 1.31e+02 2.02e+03  -1.5 1.88e+01  -0.3 1.52e-03 2.97e-02f  1\n",
      " 186r-4.7299389e+02 1.31e+02 2.85e+03  -1.5 2.10e+01  -0.8 3.81e-02 8.42e-04f  1\n",
      " 187r-4.7299125e+02 1.23e+02 1.37e+03  -1.5 3.09e+01  -1.3 1.44e-02 6.12e-02f  1\n",
      " 188r-4.7299123e+02 1.23e+02 1.45e+03  -1.5 7.80e+01  -0.9 2.73e-03 5.60e-04f  1\n",
      " 189r-4.7299024e+02 1.12e+02 1.04e+03  -1.5 1.31e+01  -0.4 5.01e-02 8.82e-02f  1\n",
      "iter    objective    inf_pr   inf_du lg(mu)  ||d||  lg(rg) alpha_du alpha_pr  ls\n",
      " 190r-4.7299023e+02 1.03e+02 9.64e+02  -1.5 2.03e-01   2.7 4.70e-02 8.15e-02f  1\n",
      " 191r-4.7299023e+02 1.02e+02 9.50e+02  -1.5 3.44e-01   2.2 3.65e-02 3.47e-03f  1\n",
      " 192r-4.7299023e+02 9.68e+01 8.99e+02  -1.5 7.64e-01   1.7 3.40e-02 5.39e-02f  1\n",
      " 193r-4.7299023e+02 9.67e+01 2.29e+03  -1.5 8.52e-01   1.3 9.25e-02 1.40e-03f  1\n",
      " 194r-4.7299021e+02 9.30e+01 4.17e+03  -1.5 2.28e+00   0.8 8.68e-02 3.82e-02f  1\n",
      " 195r-4.7299019e+02 9.24e+01 4.56e+03  -1.5 5.23e+00   0.3 4.55e-02 6.35e-03f  1\n",
      " 196r-4.7298993e+02 8.83e+01 3.98e+03  -1.5 8.34e+00  -0.2 3.03e-02 4.46e-02f  1\n",
      " 197r-4.7298978e+02 8.75e+01 4.00e+03  -1.5 1.50e+01  -0.6 6.66e-04 8.97e-03f  1\n",
      " 198r-4.7298935e+02 8.66e+01 4.15e+03  -1.5 2.18e+01  -1.1 2.77e-02 1.01e-02f  1\n",
      " 199r-4.7298935e+02 8.63e+01 4.13e+03  -1.5 3.67e+00   1.1 3.38e-03 3.58e-03f  1\n",
      "iter    objective    inf_pr   inf_du lg(mu)  ||d||  lg(rg) alpha_du alpha_pr  ls\n",
      " 200r-4.7298912e+02 6.49e+01 5.75e+03  -1.5 2.91e+00   0.6 1.56e-03 2.50e-01f  1\n",
      " 201r-4.7298912e+02 6.48e+01 5.41e+03  -1.5 1.03e+00   1.1 4.85e-02 3.01e-03f  1\n",
      " 202r-4.7298876e+02 4.40e+01 1.46e+04  -1.5 3.88e+00   0.6 1.76e-02 3.24e-01f  1\n",
      " 203r-4.7298876e+02 4.27e+01 1.41e+04  -1.5 6.44e-02   2.8 8.40e-02 2.79e-02f  1\n",
      " 204r-4.7298875e+02 3.98e+01 1.32e+04  -1.5 3.03e-01   2.3 1.20e-02 6.83e-02f  1\n",
      " 205r-4.7298875e+02 3.98e+01 1.32e+04  -1.5 1.85e-01   1.9 3.72e-02 9.97e-04f  1\n",
      " 206r-4.7298875e+02 3.89e+01 1.29e+04  -1.5 5.49e-01   1.4 1.15e-02 2.17e-02f  1\n",
      " 207r-4.7298872e+02 3.67e+01 1.22e+04  -1.5 1.63e+00   0.9 1.51e-01 5.64e-02f  1\n",
      " 208r-4.7298864e+02 3.47e+01 1.15e+04  -1.5 4.17e+00   0.4 4.04e-02 5.51e-02f  1\n",
      " 209r-4.7298864e+02 3.38e+01 1.12e+04  -1.5 5.23e-01   1.8 4.01e-02 2.69e-02f  1\n",
      "iter    objective    inf_pr   inf_du lg(mu)  ||d||  lg(rg) alpha_du alpha_pr  ls\n",
      " 210r-4.7298863e+02 3.23e+01 1.07e+04  -1.5 7.04e-01   1.3 4.94e-02 4.26e-02f  1\n",
      " 211r-4.7298859e+02 3.03e+01 1.00e+04  -1.5 2.09e+00   0.8 1.23e-01 6.37e-02f  1\n",
      " 212r-4.7298856e+02 2.99e+01 9.88e+03  -1.5 5.10e+00   0.3 3.56e-02 1.42e-02f  1\n",
      " 213r-4.7298845e+02 2.93e+01 9.69e+03  -1.5 8.85e+00  -0.2 1.74e-02 1.90e-02f  1\n",
      " 214r-4.7298829e+02 2.90e+01 9.59e+03  -1.5 1.60e+01  -0.6 4.03e-03 1.04e-02f  1\n",
      " 215r-4.7298819e+02 2.89e+01 9.57e+03  -1.5 2.14e+01  -1.1 3.45e-03 2.21e-03f  1\n",
      " 216r-4.7298816e+02 2.89e+01 9.55e+03  -1.5 6.57e+01  -0.7 9.44e-04 1.46e-03f  1\n",
      " 217r-4.7298807e+02 2.85e+01 9.44e+03  -1.5 1.65e+01  -0.3 1.10e-02 1.20e-02f  1\n",
      " 218r-4.7298807e+02 2.85e+01 9.42e+03  -1.5 9.84e+00   0.2 1.53e-02 2.30e-03f  1\n",
      " 219r-4.7298796e+02 2.81e+01 9.29e+03  -1.5 1.02e+01  -0.3 2.12e-02 1.34e-02f  1\n",
      "iter    objective    inf_pr   inf_du lg(mu)  ||d||  lg(rg) alpha_du alpha_pr  ls\n",
      " 220r-4.7298788e+02 2.74e+01 9.05e+03  -1.5 8.77e+00   0.1 1.51e-02 2.58e-02f  1\n",
      " 221r-4.7298786e+02 2.73e+01 9.02e+03  -1.5 1.11e+01  -0.4 1.35e-02 2.71e-03f  1\n",
      " 222r-4.7298777e+02 2.66e+01 8.79e+03  -1.5 9.82e+00   0.1 7.81e-03 2.63e-02f  1\n",
      " 223r-4.7298775e+02 2.65e+01 8.77e+03  -1.5 1.45e+01  -0.4 1.45e-02 1.64e-03f  1\n",
      " 224r-4.7298766e+02 2.59e+01 8.55e+03  -1.5 1.08e+01   0.0 5.46e-03 2.51e-02f  1\n",
      " 225r-4.7298764e+02 2.58e+01 8.54e+03  -1.5 1.21e+01  -0.5 1.43e-02 1.65e-03f  1\n",
      " 226r-4.7298755e+02 2.53e+01 8.36e+03  -1.5 1.21e+01  -0.0 4.04e-03 2.05e-02f  1\n",
      " 227r-4.7298753e+02 2.53e+01 8.35e+03  -1.5 1.27e+01  -0.5 1.39e-02 1.21e-03f  1\n",
      " 228r-4.7298745e+02 2.48e+01 8.21e+03  -1.5 1.36e+01  -0.1 2.88e-03 1.75e-02f  1\n",
      " 229r-4.7298744e+02 2.48e+01 8.20e+03  -1.5 1.32e+01  -0.6 1.44e-02 9.42e-04f  1\n",
      "iter    objective    inf_pr   inf_du lg(mu)  ||d||  lg(rg) alpha_du alpha_pr  ls\n",
      " 230r-4.7298736e+02 2.44e+01 8.08e+03  -1.5 1.51e+01  -0.1 2.13e-03 1.50e-02f  1\n",
      " 231r-4.7298735e+02 2.44e+01 8.07e+03  -1.5 1.37e+01  -0.6 1.49e-02 7.78e-04f  1\n",
      " 232r-4.7298727e+02 2.41e+01 7.97e+03  -1.5 1.67e+01  -0.2 1.61e-03 1.28e-02f  1\n",
      " 233r-4.7298726e+02 2.41e+01 7.96e+03  -1.5 1.42e+01  -0.7 1.29e-02 6.66e-04f  1\n",
      " 234r-4.7298659e+02 2.36e+01 7.82e+03  -1.5 2.31e+01  -1.1 2.08e-03 1.83e-02f  1\n",
      " 235r-4.7298657e+02 2.36e+01 7.81e+03  -1.5 6.53e+01  -1.6 1.13e-02 3.86e-04f  1\n",
      " 236r-4.7298652e+02 2.35e+01 7.76e+03  -1.5 2.91e+01  -0.3 6.47e-04 6.54e-03f  1\n",
      " 237r-4.7298651e+02 2.35e+01 7.76e+03  -1.5 1.55e+01  -0.8 1.49e-02 4.60e-04f  1\n",
      " 238r-4.7298646e+02 2.33e+01 7.72e+03  -1.5 3.58e+01  -0.3 4.91e-04 5.47e-03f  1\n",
      " 239r-4.7298645e+02 2.33e+01 7.72e+03  -1.5 1.59e+01  -0.8 1.57e-02 4.28e-04f  1\n",
      "iter    objective    inf_pr   inf_du lg(mu)  ||d||  lg(rg) alpha_du alpha_pr  ls\n",
      " 240r-4.7298641e+02 2.32e+01 7.68e+03  -1.5 4.41e+01  -0.4 3.71e-04 4.57e-03f  1\n",
      " 241r-4.7298640e+02 2.32e+01 7.68e+03  -1.5 1.63e+01  -0.9 1.64e-02 4.02e-04f  1\n",
      " 242r-4.7298636e+02 2.31e+01 7.65e+03  -1.5 5.47e+01  -0.4 2.80e-04 3.82e-03f  1\n",
      " 243r-4.7298632e+02 2.12e+01 7.03e+03  -1.5 1.56e+00   0.9 9.03e-03 8.13e-02f  1\n",
      " 244r-4.7298631e+02 2.11e+01 7.00e+03  -1.5 4.48e+00   0.4 5.87e-02 3.94e-03f  1\n",
      " 245r-4.7298628e+02 2.10e+01 6.96e+03  -1.5 1.28e+01  -0.1 2.94e-02 5.43e-03f  1\n",
      " 246r-4.7298626e+02 2.10e+01 6.95e+03  -1.5 1.20e+01  -0.5 2.03e-02 1.93e-03f  1\n",
      " 247r-4.7298615e+02 2.05e+01 6.79e+03  -1.5 1.32e+01  -0.1 1.47e-03 2.25e-02f  1\n",
      " 248r-4.7298613e+02 2.05e+01 6.79e+03  -1.5 1.35e+01  -0.6 2.08e-02 8.45e-04f  1\n",
      " 249r-4.7298603e+02 2.01e+01 6.66e+03  -1.5 1.47e+01  -0.2 1.33e-03 1.87e-02f  1\n",
      "iter    objective    inf_pr   inf_du lg(mu)  ||d||  lg(rg) alpha_du alpha_pr  ls\n",
      " 250r-4.7298602e+02 2.01e+01 6.66e+03  -1.5 1.45e+01  -0.7 2.00e-02 5.44e-04f  1\n",
      " 251r-4.7298587e+02 2.00e+01 6.63e+03  -1.5 6.00e+01  -1.1 2.38e-04 4.08e-03f  1\n",
      " 252r-4.7298586e+02 2.00e+01 6.63e+03  -1.5 6.29e+01  -1.6 6.84e-03 3.17e-04f  1\n",
      " 253r-4.7298732e+02 1.94e+01 6.41e+03  -1.5 1.69e+02  -2.1 1.24e-02 3.28e-02f  1\n",
      " 254r-4.7298721e+02 1.85e+01 6.12e+03  -1.5 8.04e+00   0.2 1.55e-02 4.42e-02f  1\n",
      " 255r-4.7298720e+02 1.85e+01 6.12e+03  -1.5 1.16e+01  -0.3 2.62e-02 5.36e-04f  1\n",
      " 256r-4.7298705e+02 1.76e+01 5.81e+03  -1.5 8.42e+00   0.1 3.02e-03 5.15e-02f  1\n",
      " 257r-4.7298704e+02 1.76e+01 5.81e+03  -1.5 1.32e+01  -0.4 2.71e-02 4.26e-04f  1\n",
      " 258r-4.7298689e+02 1.73e+01 5.54e+03  -1.5 9.08e+00   0.0 2.42e-03 4.69e-02f  1\n",
      " 259r-4.7298688e+02 1.73e+01 5.54e+03  -1.5 1.37e+01  -0.4 2.73e-02 4.17e-04f  1\n",
      "iter    objective    inf_pr   inf_du lg(mu)  ||d||  lg(rg) alpha_du alpha_pr  ls\n",
      " 260r-4.7298688e+02 1.73e+01 5.47e+03  -1.5 1.36e+00   0.9 5.03e-02 1.16e-02f  1\n",
      " 261r-4.7298688e+02 1.73e+01 5.47e+03  -1.5 5.22e-02   3.1 3.40e-03 4.03e-04h  1\n",
      " 262r-4.7298687e+02 1.73e+01 6.21e+03  -1.5 4.20e-02   2.7 2.24e-04 1.53e-01f  1\n",
      " 263r-4.7298687e+02 1.73e+01 6.21e+03  -1.5 7.53e-02   2.2 2.44e-01 1.85e-03f  1\n",
      " 264r-4.7298687e+02 1.73e+01 5.99e+03  -1.5 2.19e-01   1.7 2.60e-03 3.56e-02f  1\n",
      " 265r-4.7298687e+02 1.73e+01 5.23e+03  -1.5 8.17e-02   2.1 2.82e-02 1.27e-01f  1\n",
      " 266r-4.7298687e+02 1.73e+01 5.22e+03  -1.5 2.67e-01   1.7 6.89e-02 1.76e-03f  1\n",
      " 267r-4.7298686e+02 1.73e+01 4.60e+03  -1.5 9.28e-02   2.1 8.16e-03 1.20e-01f  1\n",
      " 268r-4.7298686e+02 1.73e+01 4.42e+03  -1.5 3.55e-02   2.5 4.13e-02 3.91e-02f  1\n"
     ]
    },
    {
     "name": "stdout",
     "output_type": "stream",
     "text": [
      " 269r-4.7298686e+02 1.73e+01 4.41e+03  -1.5 1.52e-01   2.0 1.29e-02 8.19e-04h  1\n",
      "iter    objective    inf_pr   inf_du lg(mu)  ||d||  lg(rg) alpha_du alpha_pr  ls\n",
      " 270r-4.7298686e+02 1.73e+01 3.70e+03  -1.5 3.98e-02   2.5 4.23e-02 1.61e-01f  1\n",
      " 271r-4.7298686e+02 1.73e+01 3.69e+03  -1.5 1.25e-01   2.0 6.45e-02 2.41e-03f  1\n",
      " 272r-4.7298685e+02 1.73e+01 3.42e+03  -1.5 3.38e-01   1.5 2.22e-01 7.44e-02f  1\n",
      " 273r-4.7298679e+02 1.73e+01 2.85e+03  -1.5 9.79e-01   1.0 1.55e-01 1.65e-01f  1\n",
      " 274r-4.7298657e+02 1.73e+01 2.28e+03  -1.5 2.78e+00   0.5 3.25e-02 2.02e-01f  1\n",
      " 275r-4.7298642e+02 1.73e+01 2.18e+03  -1.5 7.21e+00   0.1 1.07e-01 4.50e-02f  1\n",
      " 276r-4.7298639e+02 1.73e+01 1.75e+03  -1.5 4.24e-01   1.4 3.85e-02 1.97e-01f  1\n",
      " 277r-4.7298638e+02 1.73e+01 1.72e+03  -1.5 1.25e+00   0.9 5.99e-02 1.25e-02f  1\n",
      " 278r-4.7298636e+02 1.73e+01 1.50e+03  -1.5 4.55e-01   1.3 2.95e-01 1.29e-01f  1\n",
      " 279r-4.7298635e+02 1.73e+01 1.46e+03  -1.5 1.22e+00   0.9 1.71e-01 2.79e-02f  1\n",
      "iter    objective    inf_pr   inf_du lg(mu)  ||d||  lg(rg) alpha_du alpha_pr  ls\n",
      " 280r-4.7298624e+02 1.73e+01 2.09e+03  -1.5 3.07e+00   0.4 9.36e-01 6.95e-02f  1\n",
      " 281r-4.7298589e+02 1.73e+01 2.19e+03  -1.5 6.41e+00  -0.1 6.37e-01 7.79e-02f  1\n",
      " 282r-4.7298587e+02 1.73e+01 1.88e+03  -1.5 3.45e-01   1.2 1.48e-01 8.28e-02f  1\n",
      " 283r-4.7298570e+02 1.73e+01 2.03e+03  -1.5 1.03e+00   0.8 1.63e-02 2.62e-01f  1\n",
      " 284r-4.7298441e+02 1.73e+01 7.21e+03  -1.5 3.00e+00   0.3 7.75e-02 6.66e-01f  1\n",
      " 285r-4.7298261e+02 1.73e+01 4.89e+03  -1.5 8.04e+00  -0.2 7.57e-02 3.18e-01f  1\n",
      " 286r-4.7298243e+02 1.73e+01 4.84e+03  -1.5 2.02e+01  -0.7 6.05e-02 1.33e-02f  1\n",
      " 287r-4.7298244e+02 1.73e+01 4.86e+03  -1.5 4.10e+01  -1.1 9.01e-02 1.29e-02f  1\n",
      " 288r-4.7299318e+02 1.73e+01 4.70e+03  -1.5 1.05e+02  -1.6 1.02e-02 2.47e-02f  1\n",
      " 289r-4.7302092e+02 1.73e+01 4.68e+03  -1.5 4.83e+02  -2.1 1.28e-02 7.20e-03f  1\n",
      "iter    objective    inf_pr   inf_du lg(mu)  ||d||  lg(rg) alpha_du alpha_pr  ls\n",
      " 290r-4.7302689e+02 1.73e+01 4.65e+03  -1.5 1.60e+02  -1.7 1.10e-02 9.12e-03f  1\n",
      " 291r-4.7302938e+02 1.73e+01 2.04e+04  -1.5 3.44e+02  -2.2 8.49e-03 1.17e-03f  1\n",
      " 292r-4.7302401e+02 1.73e+01 1.20e+04  -1.5 1.07e+03  -2.6 7.76e-03 1.04e-02f  1\n",
      " 293r-4.7302230e+02 1.73e+01 2.37e+04  -1.5 1.54e+03    -  7.46e-03 3.17e-03f  1\n",
      " 294r-4.7301724e+02 1.73e+01 1.95e+04  -1.5 1.42e+03    -  7.51e-03 8.99e-03f  1\n",
      " 295r-4.7301404e+02 1.73e+01 3.76e+04  -1.5 1.44e+03    -  1.24e-02 5.36e-03f  1\n",
      " 296r-4.7300946e+02 1.73e+01 3.20e+04  -1.5 1.51e+03    -  5.17e-03 7.42e-03f  1\n",
      " 297r-4.7300559e+02 1.73e+01 3.37e+04  -1.5 1.27e+03    -  6.67e-03 5.86e-03f  1\n",
      " 298r-4.7300155e+02 1.73e+01 3.49e+04  -1.5 1.52e+03    -  6.51e-03 5.90e-03f  1\n",
      " 299r-4.7299761e+02 1.73e+01 3.75e+04  -1.5 1.22e+03    -  7.06e-03 5.71e-03f  1\n",
      "iter    objective    inf_pr   inf_du lg(mu)  ||d||  lg(rg) alpha_du alpha_pr  ls\n",
      " 300r-4.7299318e+02 1.73e+01 3.31e+04  -1.5 1.57e+03    -  3.97e-03 6.24e-03f  1\n",
      " 301r-4.7299066e+02 1.73e+01 4.47e+04  -1.5 1.18e+03    -  9.20e-03 3.27e-03f  1\n",
      " 302r-4.7298505e+02 1.73e+01 3.60e+04  -1.5 1.62e+03    -  1.85e-03 7.02e-03f  1\n",
      " 303r-4.7298363e+02 1.73e+01 5.23e+04  -1.5 1.15e+03    -  1.22e-02 1.80e-03f  1\n",
      " 304r-4.7297747e+02 1.73e+01 4.42e+04  -1.5 1.60e+03    -  1.14e-03 7.91e-03f  1\n",
      " 305r-4.7297647e+02 1.73e+01 6.09e+04  -1.5 1.15e+03    -  1.37e-02 1.18e-03f  1\n",
      " 306r-4.7295544e+02 1.73e+01 3.29e+04  -1.5 1.25e+03    -  2.53e-03 2.09e-02f  1\n",
      " 307r-4.7295410e+02 1.73e+01 3.56e+04  -1.5 1.57e+03    -  1.29e-02 2.19e-03f  1\n",
      " 308r-4.7294433e+02 1.73e+01 3.30e+04  -1.5 1.12e+03    -  6.70e-03 8.49e-03f  1\n",
      " 309r-4.7292466e+02 1.73e+01 2.13e+04  -1.5 1.15e+03    -  7.13e-03 1.68e-02f  1\n",
      "iter    objective    inf_pr   inf_du lg(mu)  ||d||  lg(rg) alpha_du alpha_pr  ls\n",
      " 310r-4.7292290e+02 1.73e+01 2.14e+04  -1.5 1.90e+03    -  2.39e-03 3.08e-03f  1\n",
      " 311r-4.7292135e+02 1.73e+01 2.19e+04  -1.5 1.44e+03    -  1.32e-02 2.53e-03f  1\n",
      " 312r-4.7289692e+02 1.73e+01 7.36e+03  -1.5 1.10e+03    -  5.78e-03 1.84e-02f  1\n",
      " 313r-4.7288234e+02 1.73e+01 3.96e+03  -1.5 1.17e+03    -  6.55e-03 1.12e-02f  1\n",
      " 314r-4.7288089e+02 1.73e+01 3.94e+03  -1.5 2.20e+03    -  1.91e-03 2.81e-03f  1\n",
      " 315r-4.7287953e+02 1.73e+01 3.94e+03  -1.5 1.23e+03    -  1.81e-02 2.28e-03f  1\n",
      " 316r-4.7286117e+02 1.73e+01 4.92e+03  -1.5 1.00e+03    -  4.44e-03 1.37e-02f  1\n",
      " 317r-4.7285769e+02 1.73e+01 5.04e+03  -1.5 7.00e+02    -  3.90e-03 4.62e-03f  1\n",
      " 318r-4.7285711e+02 1.73e+01 3.85e+03  -1.5 1.31e+03    -  1.24e-03 3.28e-03f  1\n",
      " 319r-4.7285632e+02 1.73e+01 6.42e+03  -1.5 5.66e+02    -  2.99e-02 1.95e-03f  1\n",
      "iter    objective    inf_pr   inf_du lg(mu)  ||d||  lg(rg) alpha_du alpha_pr  ls\n",
      " 320r-4.7285243e+02 1.73e+01 3.79e+03  -1.5 1.93e+02    -  4.74e-04 1.30e-02f  1\n",
      " 321r-4.7285201e+02 1.73e+01 1.93e+04  -1.5 6.31e+01    -  5.85e-02 1.21e-03f  1\n",
      " 322r-4.7284265e+02 1.73e+01 1.28e+04  -1.5 4.81e+01    -  6.33e-04 2.51e-02f  1\n",
      " 323r-4.7284186e+02 1.73e+01 1.83e+04  -1.5 1.71e+02    -  5.02e-02 1.89e-03f  1\n",
      " 324r-4.7282840e+02 1.73e+01 1.02e+04  -1.5 7.15e+01    -  7.02e-04 3.44e-02f  1\n",
      " 325r-4.7282793e+02 1.73e+01 1.98e+04  -1.5 1.38e+02    -  6.77e-02 1.14e-03f  1\n",
      " 326r-4.7280625e+02 1.73e+01 9.15e+03  -1.5 1.08e+02    -  8.35e-04 5.31e-02f  1\n",
      " 327r-4.7280582e+02 1.73e+01 2.28e+04  -1.5 1.41e+02    -  9.08e-02 1.07e-03f  1\n",
      " 328r-4.7279770e+02 1.73e+01 2.06e+04  -1.5 2.19e+02    -  1.42e-03 1.86e-02f  1\n",
      " 329r-4.7279259e+02 1.73e+01 2.21e+04  -1.5 2.71e+02    -  5.42e-02 1.14e-02f  1\n",
      "iter    objective    inf_pr   inf_du lg(mu)  ||d||  lg(rg) alpha_du alpha_pr  ls\n",
      " 330r-4.7273666e+02 1.73e+01 6.88e+03  -1.5 1.27e+02    -  2.39e-02 1.41e-01f  1\n",
      " 331r-4.7273642e+02 1.73e+01 2.77e+03  -1.5 8.39e+01  -1.3 1.93e-03 1.30e-02f  1\n",
      " 332r-4.7273609e+02 1.73e+01 1.32e+04  -1.5 7.47e+01    -  8.46e-02 1.05e-03f  1\n",
      " 333r-4.7273038e+02 1.73e+01 1.01e+04  -1.5 7.38e+01    -  1.21e-03 1.83e-02f  1\n",
      " 334r-4.7272753e+02 1.73e+01 1.75e+04  -1.5 1.10e+02    -  8.67e-02 9.14e-03f  1\n",
      " 335r-4.7270846e+02 1.72e+01 3.14e+03  -1.5 5.45e+01    -  9.35e-04 6.57e-02f  1\n",
      " 336r-4.7270820e+02 1.72e+01 2.86e+04  -1.5 5.56e+01    -  1.14e-01 9.52e-04f  1\n",
      " 337r-4.7270007e+02 1.72e+01 2.34e+04  -1.5 9.32e+01    -  1.66e-03 3.03e-02f  1\n",
      " 338r-4.7269636e+02 1.72e+01 3.26e+04  -1.5 1.11e+02    -  1.17e-01 1.44e-02f  1\n",
      " 339r-4.7266982e+02 1.72e+01 9.17e+03  -1.5 9.79e+01    -  1.33e-03 1.06e-01f  1\n",
      "iter    objective    inf_pr   inf_du lg(mu)  ||d||  lg(rg) alpha_du alpha_pr  ls\n",
      " 340r-4.7266930e+02 1.72e+01 3.21e+04  -1.5 2.21e+02    -  1.29e-01 1.87e-03f  1\n",
      " 341r-4.7264996e+02 1.72e+01 5.83e+03  -1.5 4.67e+02    -  5.43e-01 5.48e-02f  1\n",
      " 342r-4.7264766e+02 1.72e+01 1.68e+04  -1.5 5.96e+02    -  1.87e-01 8.05e-03f  1\n",
      " 343r-4.7251895e+02 1.71e+01 3.70e+04  -1.5 7.68e+02    -  1.82e-01 4.19e-01f  1\n",
      " 344r-4.7250375e+02 1.71e+01 6.07e+04  -1.5 2.38e+02    -  7.53e-03 2.98e-01f  1\n",
      " 345r-4.7250359e+02 1.71e+01 1.79e+04  -1.5 2.17e+02    -  2.68e-01 4.77e-03f  1\n",
      " 346r-4.7250177e+02 1.71e+01 2.25e+04  -1.5 1.91e+02    -  1.30e-02 6.46e-02f  1\n",
      " 347r-4.7250127e+02 1.71e+01 8.33e+03  -1.5 4.98e+02    -  5.14e-02 1.23e-02f  1\n",
      " 348r-4.7249470e+02 1.70e+01 2.71e+04  -1.5 1.55e+02    -  2.54e-02 2.77e-01f  1\n",
      " 349r-4.7249460e+02 1.70e+01 7.02e+03  -1.5 1.95e+02    -  1.37e-01 5.26e-03h  1\n",
      "iter    objective    inf_pr   inf_du lg(mu)  ||d||  lg(rg) alpha_du alpha_pr  ls\n",
      " 350r-4.7249364e+02 1.70e+01 4.03e+04  -1.5 1.29e+02    -  6.57e-01 6.06e-02f  1\n",
      " 351r-4.7248979e+02 1.70e+01 2.05e+04  -1.5 1.31e+02    -  7.97e-02 2.84e-01f  1\n",
      " 352r-4.7248966e+02 1.70e+01 2.61e+04  -1.5 1.85e+02    -  5.95e-02 1.13e-02h  1\n",
      " 353r-4.7248907e+02 1.70e+01 3.21e+04  -1.5 9.63e+01    -  2.79e-01 6.26e-02f  1\n",
      " 354r-4.7248633e+02 1.70e+01 1.70e+04  -1.5 8.56e+01    -  9.90e-02 3.19e-01f  1\n",
      " 355r-4.7248606e+02 1.70e+01 1.77e+04  -1.5 9.27e+01    -  6.95e-02 4.30e-02h  1\n",
      " 356r-4.7248439e+02 1.70e+01 1.54e+04  -1.5 4.86e+01    -  6.07e-01 3.07e-01f  1\n",
      " 357r-4.7248284e+02 1.70e+01 3.80e+03  -1.5 4.80e+01    -  1.02e-01 4.00e-01f  1\n",
      " 358r-4.7248168e+02 1.70e+01 1.45e+03  -1.5 2.06e+01    -  1.80e-01 5.28e-01f  1\n",
      " 359r-4.7248067e+02 1.70e+01 2.66e+03  -1.5 6.80e+00    -  3.57e-01 1.00e+00f  1\n",
      "iter    objective    inf_pr   inf_du lg(mu)  ||d||  lg(rg) alpha_du alpha_pr  ls\n",
      " 360r-4.7248069e+02 1.70e+01 2.77e-02  -1.5 8.65e-01    -  1.00e+00 1.00e+00h  1\n",
      " 361r-4.7238793e+02 1.70e+01 1.62e+03  -3.5 1.59e+01    -  6.66e-01 6.18e-01f  1\n",
      " 362r-4.7238851e+02 1.66e+01 3.72e+05  -3.5 3.02e+03    -  1.93e-01 8.27e-02f  1\n",
      " 363r-4.7238866e+02 1.65e+01 3.32e+05  -3.5 3.11e+03    -  2.96e-03 1.75e-02f  1\n",
      " 364r-4.7238882e+02 1.65e+01 3.27e+05  -3.5 2.99e+03    -  1.74e-02 1.72e-02f  1\n",
      " 365r-4.7238923e+02 1.63e+01 3.47e+05  -3.5 2.89e+03    -  5.47e-02 4.10e-02f  1\n",
      " 366r-4.7238879e+02 1.61e+01 3.06e+05  -3.5 3.40e+03    -  3.67e-04 3.34e-02f  1\n",
      " 367r-4.7238845e+02 1.60e+01 3.07e+05  -3.5 3.32e+03    -  3.95e-02 2.86e-02f  1\n",
      " 368r-4.7238846e+02 1.60e+01 3.84e+05  -3.5 2.81e+03    -  3.93e-02 1.73e-03f  1\n",
      " 369r-4.7238864e+02 1.59e+01 3.38e+05  -3.5 2.80e+03    -  1.04e-02 2.81e-02f  1\n",
      "iter    objective    inf_pr   inf_du lg(mu)  ||d||  lg(rg) alpha_du alpha_pr  ls\n",
      " 370r-4.7238894e+02 1.57e+01 5.08e+05  -3.5 2.76e+03    -  1.46e-01 4.63e-02f  1\n",
      " 371 -4.7238859e+02 1.57e+01 4.11e+01  -1.0 4.66e+04    -  8.27e-06 9.71e-06f  1\n"
     ]
    },
    {
     "name": "stdout",
     "output_type": "stream",
     "text": [
      " 372r-4.7238859e+02 1.57e+01 9.99e+02   1.2 0.00e+00    -  0.00e+00 4.08e-08R  2\n",
      " 373r-4.7238864e+02 1.57e+01 1.50e+04   1.2 1.39e+04    -  5.46e-06 2.89e-07f  1\n",
      " 374r-4.7239126e+02 1.57e+01 1.34e+04   1.2 9.58e+03    -  7.85e-06 1.59e-05f  1\n",
      " 375r-4.7239939e+02 1.57e+01 1.08e+04   1.2 5.73e+03    -  3.68e-05 6.16e-05f  1\n",
      " 376r-4.7241526e+02 1.57e+01 1.06e+04   1.2 3.48e+03    -  1.81e-04 1.84e-04f  1\n",
      " 377r-4.7241526e+02 1.57e+01 1.41e+06   1.2 1.82e+00   4.0 2.62e-02 8.53e-04f  1\n",
      " 378r-4.7242277e+02 1.57e+01 9.19e+05   1.2 2.05e+03    -  1.01e-01 2.72e-03f  1\n",
      " 379r-4.7294038e+02 1.57e+01 8.55e+05   1.2 8.42e+01    -  6.76e-02 7.08e-02f  1\n",
      "iter    objective    inf_pr   inf_du lg(mu)  ||d||  lg(rg) alpha_du alpha_pr  ls\n",
      " 380r-4.7301463e+02 1.57e+01 2.51e+05   1.2 7.64e+01    -  2.42e-01 1.05e-01f  1\n",
      " 381r-4.7300894e+02 1.57e+01 2.24e+06   1.2 6.98e+01    -  6.80e-01 1.81e-01f  1\n",
      " 382r-4.7300555e+02 1.56e+01 1.09e+06   1.2 6.14e+01    -  5.11e-01 3.84e-01f  1\n",
      " 383r-4.7300239e+02 1.55e+01 1.07e+05   1.2 5.29e+01    -  4.13e-01 1.00e+00f  1\n",
      " 384r-4.7300385e+02 1.55e+01 1.32e+04   1.2 2.89e+01    -  1.00e+00 1.00e+00f  1\n",
      " 385r-4.7300373e+02 1.55e+01 5.79e+03   1.2 2.36e+00    -  9.19e-01 1.00e+00f  1\n",
      " 386r-4.7300374e+02 1.55e+01 1.49e+01   1.2 2.44e-01    -  1.00e+00 1.00e+00h  1\n",
      " 387r-4.7301128e+02 3.23e+01 5.50e+04  -1.6 3.45e+02    -  5.25e-01 4.28e-01f  1\n",
      " 388r-4.7301129e+02 2.96e+01 5.22e+05  -1.6 1.95e-01   3.5 5.61e-01 8.63e-02f  1\n",
      " 389r-4.7301131e+02 1.70e+01 3.04e+05  -1.6 2.44e-01   3.0 3.89e-01 4.00e-01f  1\n",
      "iter    objective    inf_pr   inf_du lg(mu)  ||d||  lg(rg) alpha_du alpha_pr  ls\n",
      " 390r-4.7301131e+02 1.55e+01 2.78e+05  -1.6 1.22e-01   3.5 4.51e-01 3.12e-01f  1\n",
      " 391r-4.7301131e+02 1.55e+01 1.73e+05  -1.6 2.42e-01   3.0 2.59e-01 3.31e-01f  1\n",
      " 392r-4.7301129e+02 1.55e+01 8.17e+04  -1.6 6.72e-01   2.5 3.34e-01 4.64e-01f  1\n",
      " 393r-4.7301129e+02 1.55e+01 7.89e+04  -1.6 1.88e+00   2.0 3.26e-01 1.44e-01f  1\n",
      " 394r-4.7301132e+02 1.55e+01 7.79e+04  -1.6 4.99e+00   1.6 1.84e-01 7.41e-02f  1\n",
      " 395r-4.7301136e+02 1.55e+01 7.91e+04  -1.6 8.89e+00   1.1 3.17e-02 9.17e-03f  1\n",
      " 396r-4.7301143e+02 1.55e+01 7.44e+04  -1.6 4.17e+00   1.5 1.75e-01 1.03e-01f  1\n",
      " 397r-4.7301149e+02 1.55e+01 8.61e+04  -1.6 4.09e+00   1.0 2.33e-01 2.70e-02f  1\n",
      " 398r-4.7301172e+02 1.55e+01 8.58e+04  -1.6 4.07e+00   0.6 1.16e-01 4.23e-02f  1\n",
      " 399r-4.7301206e+02 1.55e+01 9.21e+04  -1.6 1.94e+01   0.1 1.06e-01 1.38e-02f  1\n",
      "iter    objective    inf_pr   inf_du lg(mu)  ||d||  lg(rg) alpha_du alpha_pr  ls\n",
      " 400r-4.7301312e+02 1.55e+01 7.31e+04  -1.6 3.01e+00   0.5 2.80e-01 2.27e-01f  1\n",
      " 401r-4.7301317e+02 1.55e+01 7.37e+04  -1.6 1.23e+01   0.0 1.67e-01 3.50e-03f  1\n",
      " 402r-4.7301673e+02 1.55e+01 7.26e+04  -1.6 2.83e+02  -0.4 9.77e-03 1.67e-02f  1\n",
      " 403r-4.7301675e+02 1.55e+01 7.25e+04  -1.6 9.06e+00  -0.0 1.63e-01 3.16e-03f  1\n",
      " 404r-4.7301827e+02 1.55e+01 6.64e+04  -1.6 2.52e+01  -0.5 4.32e-02 8.26e-02f  1\n",
      " 405r-4.7301910e+02 1.55e+01 6.20e+04  -1.6 7.19e+01  -1.0 1.84e-01 2.23e-02f  1\n",
      " 406r-4.7302432e+02 1.55e+01 5.94e+04  -1.6 2.47e+03  -1.5 3.65e-03 3.17e-03f  1\n",
      " 407r-4.7302967e+02 1.55e+01 5.42e+04  -1.6 3.68e+02  -1.9 1.68e-02 1.16e-02f  1\n",
      " 408r-4.7303129e+02 1.55e+01 2.72e+05  -1.6 1.61e+02  -2.4 1.50e-01 1.49e-02f  1\n",
      " 409r-4.7303494e+02 1.53e+01 2.41e+05  -1.6 2.18e+02  -2.9 1.58e-02 2.97e-02f  1\n",
      "iter    objective    inf_pr   inf_du lg(mu)  ||d||  lg(rg) alpha_du alpha_pr  ls\n",
      " 410r-4.7304187e+02 1.50e+01 2.75e+05  -1.6 3.08e+02  -3.4 1.59e-01 8.15e-02f  1\n",
      " 411r-4.7304335e+02 1.47e+01 2.72e+05  -1.6 1.14e+03  -3.8 3.35e-01 5.18e-02f  1\n",
      " 412r-4.7304257e+02 1.46e+01 5.67e+05  -1.6 9.24e+03  -4.3 8.73e-04 1.04e-02f  1\n",
      " 413r-4.7304230e+02 1.46e+01 5.68e+05  -1.6 1.69e+04    -  1.83e-02 1.30e-03f  1\n",
      " 414r-4.7304230e+02 1.46e+01 2.75e+06  -1.6 5.76e-02   3.5 2.95e-02 1.57e-01f  1\n",
      " 415r-4.7304230e+02 1.46e+01 2.79e+06  -1.6 8.57e-02   3.1 2.30e-01 1.83e-03f  1\n",
      " 416r-4.7304230e+02 1.46e+01 5.07e+07  -1.6 9.44e-01   2.6 4.55e-02 3.20e-03f  1\n",
      " 417r-4.7304230e+02 1.46e+01 3.74e+07  -1.6 9.02e-01   3.0 5.68e-04 4.80e-03f  1\n",
      " 418r-4.7304230e+02 1.46e+01 1.63e+08  -1.6 4.04e+00   2.5 8.53e-03 3.00e-04f  1\n",
      " 419r-4.7304230e+02 1.46e+01 2.50e+08  -1.6 4.45e+00   2.9 5.69e-03 3.06e-03f  1\n",
      "iter    objective    inf_pr   inf_du lg(mu)  ||d||  lg(rg) alpha_du alpha_pr  ls\n",
      " 420r-4.7304230e+02 1.46e+01 3.14e+08  -1.6 5.42e+00   2.5 4.55e-03 5.99e-02f  1\n",
      " 421r-4.7304230e+02 1.46e+01 4.54e+08  -1.6 4.37e+00   2.9 1.05e-02 1.80e-02f  1\n",
      " 422r-4.7304229e+02 1.46e+01 8.03e+08  -1.6 2.83e+00   2.4 5.82e-03 1.27e-01f  1\n",
      " 423r-4.7304229e+02 1.46e+01 6.46e+08  -1.6 1.15e+00   2.8 6.93e-02 3.06e-01h  1\n",
      " 424r-4.7304229e+02 1.46e+01 5.82e+08  -1.6 7.72e-01   2.4 3.05e-01 1.13e-01h  1\n",
      " 425r-4.7304230e+02 1.46e+01 4.53e+08  -1.6 1.11e+00   1.9 3.50e-02 1.71e-01f  1\n",
      " 426r-4.7304230e+02 1.46e+01 6.77e+08  -1.6 3.33e+00   1.4 3.60e-01 1.56e-02f  1\n",
      " 427r-4.7304231e+02 1.46e+01 2.99e+08  -1.6 1.18e+00   1.8 5.03e-01 6.02e-01f  1\n",
      " 428r-4.7304235e+02 1.46e+01 2.39e+08  -1.6 3.38e+00   1.4 5.29e-01 4.11e-01f  1\n",
      " 429r-4.7304236e+02 1.46e+01 2.52e+08  -1.6 1.17e+01   0.9 2.40e-02 1.16e-02f  1\n",
      "iter    objective    inf_pr   inf_du lg(mu)  ||d||  lg(rg) alpha_du alpha_pr  ls\n",
      " 430r-4.7304238e+02 1.46e+01 2.45e+08  -1.6 3.72e+00   1.3 3.39e-01 1.98e-01f  1\n",
      " 431r-4.7304241e+02 1.46e+01 2.58e+08  -1.6 1.26e+01   0.8 4.11e-02 2.64e-02f  1\n",
      " 432r-4.7304243e+02 1.46e+01 2.66e+08  -1.6 1.37e+02   0.4 1.76e-03 1.15e-03f  1\n",
      " 433r-4.7304246e+02 1.46e+01 8.61e+07  -1.6 1.64e+00   1.7 1.00e+00 7.03e-01f  1\n",
      " 434r-4.7304248e+02 1.46e+01 2.03e+07  -1.6 9.14e+00   1.2 2.94e-02 9.38e-02f  1\n",
      " 435r-4.7304248e+02 1.46e+01 1.70e+07  -1.6 3.94e-02   4.3 6.06e-01 8.42e-02f  1\n",
      " 436r-4.7304248e+02 1.46e+01 4.40e+04  -1.6 1.03e-02   3.9 9.84e-01 2.79e-01f  1\n",
      " 437r-4.7304248e+02 1.46e+01 1.43e+06  -1.6 2.97e-02   3.4 3.66e-01 8.71e-01f  1\n",
      " 438r-4.7304248e+02 1.46e+01 9.64e+04  -1.6 9.01e-02   2.9 1.00e+00 1.00e+00f  1\n",
      " 439r-4.7304249e+02 1.46e+01 3.30e+04  -1.6 2.41e-01   2.4 3.00e-01 3.04e-01f  1\n",
      "iter    objective    inf_pr   inf_du lg(mu)  ||d||  lg(rg) alpha_du alpha_pr  ls\n",
      " 440r-4.7304250e+02 1.46e+01 2.67e+05  -1.6 1.65e-01   2.0 3.66e-01 1.00e+00f  1\n",
      " 441r-4.7304252e+02 1.46e+01 1.57e+05  -1.6 4.95e-01   1.5 4.15e-01 5.53e-01f  1\n",
      " 442r-4.7304252e+02 1.46e+01 1.39e+05  -1.6 1.48e+00   1.0 2.81e-01 5.43e-02f  1\n",
      " 443r-4.7304264e+02 1.46e+01 8.40e+04  -1.6 4.35e+00   0.5 3.97e-01 3.87e-01f  1\n",
      " 444r-4.7304294e+02 1.46e+01 5.67e+04  -1.6 1.28e+01   0.1 3.99e-01 2.72e-01f  1\n",
      " 445r-4.7304295e+02 1.46e+01 5.00e+04  -1.6 1.08e+01  -0.4 3.91e-01 3.23e-03f  1\n",
      " 446r-4.7305034e+02 1.45e+01 5.62e+04  -1.6 2.47e+01  -0.9 4.77e-02 5.42e-01f  1\n",
      " 447r-4.7305047e+02 1.45e+01 2.66e+04  -1.6 5.10e+01  -1.4 2.59e-01 3.36e-03f  1\n",
      " 448r-4.7305173e+02 1.45e+01 2.07e+04  -1.6 7.38e+00  -1.0 2.96e-01 2.49e-01f  1\n",
      " 449r-4.7305387e+02 1.45e+01 6.97e+03  -1.6 4.63e+01  -1.4 4.83e-01 2.03e-01f  1\n",
      "iter    objective    inf_pr   inf_du lg(mu)  ||d||  lg(rg) alpha_du alpha_pr  ls\n",
      " 450r-4.7305429e+02 1.45e+01 6.97e+03  -1.6 1.17e+01  -1.0 1.31e-01 5.95e-02f  1\n",
      " 451r-4.7305714e+02 1.44e+01 4.34e+02  -1.6 2.68e+00  -0.6 1.00e+00 1.00e+00f  1\n",
      " 452r-4.7305919e+02 1.44e+01 6.91e+03  -1.6 9.88e+00  -1.1 6.03e-01 3.22e-01f  1\n",
      " 453r-4.7305914e+02 1.44e+01 7.08e+03  -1.6 6.69e+03  -1.5 3.14e-04 1.27e-04f  1\n",
      " 454r-4.7305964e+02 1.44e+01 6.87e+03  -1.6 1.15e+01  -1.1 8.05e-02 6.99e-02f  1\n",
      " 455r-4.7305975e+02 1.44e+01 7.14e+03  -1.6 4.62e+01  -1.6 1.05e-02 6.65e-03f  1\n",
      " 456r-4.7305991e+02 1.43e+01 8.30e+03  -1.6 1.29e+01  -1.2 6.63e-02 2.10e-02f  1\n",
      " 457r-4.7306007e+02 1.43e+01 8.49e+03  -1.6 4.23e+01  -1.6 1.41e-02 1.10e-02f  1\n",
      " 458r-4.7306008e+02 1.43e+01 8.20e+03  -1.6 3.20e+02  -2.1 8.66e-04 1.85e-03f  1\n",
      " 459r-4.7306025e+02 1.43e+01 1.56e+04  -1.6 8.32e+03    -  2.01e-02 4.83e-03f  1\n",
      "iter    objective    inf_pr   inf_du lg(mu)  ||d||  lg(rg) alpha_du alpha_pr  ls\n",
      " 460r-4.7306056e+02 1.43e+01 1.42e+04  -1.6 6.74e+03    -  4.99e-03 8.02e-03f  1\n",
      " 461r-4.7306144e+02 1.41e+01 6.58e+03  -1.6 7.61e+03    -  6.21e-03 2.35e-02f  1\n",
      " 462 -4.7306155e+02 1.41e+01 8.51e+02  -1.0 4.30e+05    -  8.50e-07 4.61e-07f  2\n",
      " 463 -4.7306155e+02 1.41e+01 7.96e+02  -1.0 1.69e+06    -  3.60e-08 5.31e-08f  2\n",
      " 464 -4.7306158e+02 1.41e+01 7.62e+02  -1.0 8.90e+05    -  1.45e-06 1.25e-07f  2\n",
      " 465 -4.7306247e+02 1.41e+01 5.89e+03  -1.0 6.82e+05    -  2.95e-06 4.03e-06f  1\n",
      " 466 -4.7306276e+02 1.41e+01 1.62e+04  -1.0 4.13e+06    -  9.67e-07 2.34e-06f  1\n"
     ]
    },
    {
     "name": "stdout",
     "output_type": "stream",
     "text": [
      " 467r-4.7306276e+02 1.41e+01 9.99e+02   1.1 0.00e+00    -  0.00e+00 4.90e-07R  5\n",
      " 468r-4.7306275e+02 1.41e+01 7.78e+04   1.1 6.73e+03    -  3.24e-04 6.95e-06f  1\n",
      " 469r-4.7306070e+02 1.41e+01 8.02e+04   1.1 1.20e+03    -  1.04e-03 6.92e-04f  1\n",
      "iter    objective    inf_pr   inf_du lg(mu)  ||d||  lg(rg) alpha_du alpha_pr  ls\n",
      " 470r-4.7305434e+02 1.41e+01 8.95e+04   1.1 9.52e+02    -  3.82e-03 2.35e-03f  1\n",
      " 471r-4.7303760e+02 1.41e+01 1.90e+05   1.1 4.92e+02    -  2.66e-02 9.29e-03f  1\n",
      " 472r-4.7302682e+02 1.41e+01 1.14e+06   1.1 3.07e+02    -  8.32e-03 2.60e-02f  1\n",
      " 473r-4.7301725e+02 1.41e+01 1.03e+06   1.1 2.43e+02    -  8.14e-02 5.11e-02f  1\n",
      " 474r-4.7301136e+02 1.40e+01 7.46e+05   1.1 1.54e+02    -  7.85e-02 1.88e-01f  1\n",
      " 475r-4.7301136e+02 1.40e+01 1.76e+04   1.1 1.62e-02   6.0 1.00e+00 1.00e+00f  1\n",
      " 476r-4.7301135e+02 1.40e+01 1.63e+04   1.1 3.48e-03   5.5 1.00e+00 1.00e+00f  1\n",
      " 477r-4.7301134e+02 1.40e+01 7.64e+04   1.1 7.32e-03   5.0 1.00e+00 1.00e+00f  1\n",
      " 478r-4.7301132e+02 1.40e+01 1.13e+05   1.1 1.61e-02   4.6 1.00e+00 1.00e+00f  1\n",
      " 479r-4.7301130e+02 1.40e+01 7.45e+05   1.1 3.27e-02   4.1 1.00e+00 1.00e+00f  1\n",
      "iter    objective    inf_pr   inf_du lg(mu)  ||d||  lg(rg) alpha_du alpha_pr  ls\n",
      " 480r-4.7300840e+02 1.38e+01 3.13e+07   1.1 5.73e+01    -  3.32e-01 4.98e-01f  1\n",
      " 481r-4.7300458e+02 1.36e+01 2.00e+08   1.1 3.72e+01    -  2.42e-01 1.00e+00f  1\n",
      " 482r-4.7300458e+02 1.36e+01 5.13e+07   1.1 1.34e-01   3.6 1.00e+00 6.31e-01h  1\n",
      " 483r-4.7300458e+02 1.36e+01 7.90e+07   1.1 1.28e-01   3.1 9.67e-01 6.19e-01f  1\n",
      " 484r-4.7300457e+02 1.36e+01 1.01e+07   1.1 1.26e-01   2.7 1.00e+00 1.00e+00f  1\n",
      " 485r-4.7300392e+02 1.36e+01 3.47e+07   1.1 1.16e+01    -  2.36e-01 8.31e-01F  1\n",
      " 486r-4.7300389e+02 1.36e+01 1.91e+07   1.1 8.45e+00    -  9.59e-01 1.00e+00f  1\n",
      " 487r-4.7300391e+02 1.36e+01 8.05e+06   1.1 4.87e+00    -  1.00e+00 1.00e+00f  1\n",
      " 488r-4.7300398e+02 1.36e+01 6.53e+05   1.1 2.04e+00    -  1.00e+00 1.00e+00f  1\n",
      " 489r-4.7300399e+02 1.36e+01 4.77e+05   1.1 3.25e+00    -  1.00e+00 6.25e-02f  5\n",
      "iter    objective    inf_pr   inf_du lg(mu)  ||d||  lg(rg) alpha_du alpha_pr  ls\n",
      " 490r-4.7300409e+02 1.36e+01 6.07e+04   1.1 1.98e+00    -  1.00e+00 1.00e+00F  1\n",
      " 491r-4.7300409e+02 1.36e+01 3.34e+05   1.1 2.84e-01   2.2 4.56e-01 2.34e-01f  3\n",
      " 492r-4.7300409e+02 1.36e+01 1.26e+06   1.1 2.30e-02   4.4 1.00e+00 1.00e+00f  1\n",
      " 493r-4.7300409e+02 1.36e+01 4.41e+05   1.1 1.60e-02   3.9 1.00e+00 1.00e+00h  1\n",
      " 494r-4.7300409e+02 1.36e+01 6.51e+05   1.1 4.87e-03   4.4 4.76e-01 1.00e+00f  1\n",
      " 495r-4.7300409e+02 1.36e+01 3.18e+04   1.1 1.02e-03   3.9 1.00e+00 1.00e+00f  1\n",
      " 496r-4.7300409e+02 1.36e+01 9.12e+04   1.1 1.51e-02   5.2 5.46e-01 1.00e+00f  1\n",
      " 497r-4.7300409e+02 1.36e+01 7.59e+04   1.1 6.80e-03   4.7 1.00e+00 1.00e+00h  1\n",
      " 498r-4.7300409e+02 1.36e+01 5.12e+04   1.1 3.46e-03   4.3 1.00e+00 1.00e+00f  1\n",
      " 499r-4.7300409e+02 1.36e+01 4.47e+04   1.1 3.57e-03   3.8 1.00e+00 1.00e+00f  1\n",
      "iter    objective    inf_pr   inf_du lg(mu)  ||d||  lg(rg) alpha_du alpha_pr  ls\n",
      " 500r-4.7300409e+02 1.36e+01 1.20e+03   1.1 1.29e-03   3.3 1.00e+00 1.00e+00f  1\n",
      " 501r-4.7300897e+02 6.90e+01 1.72e+05   0.5 2.13e+02    -  2.31e-01 2.88e-01f  1\n",
      " 502r-4.7300966e+02 6.40e+01 1.59e+05   0.5 4.37e+02    -  3.87e-02 7.64e-02f  1\n",
      " 503r-4.7301234e+02 4.65e+01 1.64e+05   0.5 4.09e+02    -  6.38e-01 3.00e-01f  1\n",
      " 504r-4.7301237e+02 1.72e+01 5.78e+05   0.5 2.41e-01   2.8 2.84e-01 7.29e-01f  1\n",
      " 505r-4.7301237e+02 1.34e+01 1.10e+05   0.5 4.64e-01   2.4 7.72e-01 7.49e-01f  1\n",
      " 506r-4.7301239e+02 1.34e+01 8.88e+04   0.5 7.63e-01   1.9 9.99e-01 3.00e-01f  1\n",
      " 507r-4.7301282e+02 1.34e+01 3.25e+05   0.5 6.01e+02    -  8.28e-02 1.89e-02f  1\n",
      " 508r-4.7301373e+02 1.33e+01 8.87e+04   0.5 2.84e+02    -  4.63e-01 1.17e-01f  1\n",
      " 509r-4.7301783e+02 1.31e+01 4.46e+05   0.5 2.59e+02    -  1.00e+00 6.42e-01f  1\n",
      "iter    objective    inf_pr   inf_du lg(mu)  ||d||  lg(rg) alpha_du alpha_pr  ls\n",
      " 510r-4.7301787e+02 1.29e+01 4.01e+05   0.5 1.05e+02    -  1.00e+00 1.00e+00f  1\n",
      " 511r-4.7301779e+02 1.29e+01 1.25e+05   0.5 1.06e+01    -  1.00e+00 1.00e+00f  1\n",
      " 512r-4.7301785e+02 1.29e+01 2.39e+03   0.5 1.49e+00    -  7.69e-01 1.00e+00f  1\n",
      " 513r-4.7301785e+02 1.29e+01 1.36e+05   0.5 2.04e-02   4.1 1.00e+00 6.40e-01h  1\n",
      " 514r-4.7301785e+02 1.29e+01 7.04e+05   0.5 5.71e-02   3.6 9.41e-03 3.19e-01h  1\n",
      " 515r-4.7301785e+02 1.29e+01 8.13e+05   0.5 1.30e+00   3.2 2.05e-02 4.25e-02h  1\n",
      " 516r-4.7301785e+02 1.29e+01 1.31e+05   0.5 1.15e-03   7.2 1.00e+00 1.00e+00f  1\n",
      " 517r-4.7301785e+02 1.29e+01 1.82e+04   0.5 5.17e-04   6.7 1.00e+00 1.00e+00f  1\n",
      " 518r-4.7301785e+02 1.29e+01 1.10e+03   0.5 6.33e-04   6.2 1.00e+00 1.00e+00f  1\n",
      " 519r-4.7301785e+02 1.29e+01 7.01e+02   0.5 1.01e-03   5.8 1.00e+00 1.00e+00f  1\n",
      "iter    objective    inf_pr   inf_du lg(mu)  ||d||  lg(rg) alpha_du alpha_pr  ls\n",
      " 520r-4.7301785e+02 1.29e+01 8.17e+03   0.5 1.23e-02   5.3 3.44e-01 1.00e+00F  1\n",
      " 521r-4.7301785e+02 1.29e+01 1.87e+03   0.5 1.79e-03   4.8 1.00e+00 1.00e+00f  1\n",
      " 522r-4.7301785e+02 1.29e+01 4.99e+02   0.5 2.69e-03   4.3 1.00e+00 1.00e+00f  1\n",
      " 523r-4.7301784e+02 1.29e+01 3.33e+00   0.5 4.64e-01    -  1.00e+00 1.00e+00f  1\n",
      " 524r-4.7301964e+02 1.29e+01 2.94e+03  -1.6 1.94e+02    -  4.97e-01 5.04e-01f  1\n",
      " 525r-4.7301921e+02 5.88e+01 1.87e+03  -1.6 1.18e+04    -  9.20e-02 7.84e-02f  1\n",
      " 526r-4.7301917e+02 5.78e+01 2.40e+03  -1.6 3.14e+03    -  1.33e-01 3.35e-02f  1\n",
      " 527r-4.7301912e+02 5.60e+01 2.77e+03  -1.6 2.38e+03    -  1.19e-01 6.48e-02f  1\n",
      " 528r-4.7301903e+02 5.26e+01 3.15e+03  -1.6 1.55e+03    -  1.22e-01 9.11e-02f  1\n",
      " 529r-4.7301903e+02 4.90e+01 5.17e+03  -1.6 1.31e+00   3.9 1.53e-02 6.85e-02f  1\n",
      "iter    objective    inf_pr   inf_du lg(mu)  ||d||  lg(rg) alpha_du alpha_pr  ls\n",
      " 530r-4.7301903e+02 4.34e+01 7.04e+03  -1.6 1.22e+00   3.4 5.43e-02 1.14e-01f  1\n",
      " 531r-4.7301903e+02 4.32e+01 5.89e+03  -1.6 1.08e+00   2.9 3.34e-02 4.10e-03f  1\n",
      " 532r-4.7301903e+02 4.26e+01 6.26e+03  -1.6 1.08e+00   2.4 1.62e-03 1.39e-02f  1\n",
      " 533r-4.7301903e+02 4.08e+01 6.73e+03  -1.6 1.06e+00   1.9 2.26e-02 4.30e-02f  1\n",
      " 534r-4.7301901e+02 4.06e+01 1.35e+04  -1.6 4.78e+02    -  1.09e-02 3.55e-03f  1\n",
      " 535r-4.7301894e+02 4.04e+01 7.44e+04  -1.6 8.87e+02    -  2.54e-02 4.54e-03f  1\n",
      " 536r-4.7301895e+02 3.15e+01 8.27e+04  -1.6 1.01e+00   1.5 1.70e-02 2.20e-01f  1\n",
      " 537r-4.7301896e+02 2.86e+01 7.94e+04  -1.6 8.58e-01   1.0 5.22e-02 9.38e-02f  1\n",
      " 538r-4.7301897e+02 2.85e+01 7.18e+04  -1.6 9.84e-01   0.5 1.01e-01 3.06e-03f  1\n",
      " 539r-4.7301900e+02 2.75e+01 6.94e+04  -1.6 1.87e+00   0.0 2.24e-02 3.58e-02f  1\n",
      "iter    objective    inf_pr   inf_du lg(mu)  ||d||  lg(rg) alpha_du alpha_pr  ls\n",
      " 540r-4.7301910e+02 2.63e+01 6.75e+04  -1.6 6.64e+00  -0.4 5.77e-02 4.35e-02f  1\n",
      " 541r-4.7301917e+02 2.58e+01 8.82e+04  -1.6 2.07e+01  -0.9 8.89e-02 1.90e-02f  1\n",
      " 542r-4.7301970e+02 2.28e+01 2.29e+04  -1.6 5.14e+01  -1.4 3.81e-02 1.17e-01f  1\n",
      " 543r-4.7301975e+02 2.21e+01 5.77e+05  -1.6 4.73e+02    -  3.13e-01 2.87e-02f  1\n",
      " 544r-4.7302025e+02 1.98e+01 5.16e+05  -1.6 4.59e+02    -  1.06e-01 1.06e-01f  1\n",
      " 545r-4.7302091e+02 1.71e+01 4.78e+05  -1.6 4.11e+02    -  8.21e-02 1.34e-01f  1\n",
      " 546r-4.7302124e+02 1.60e+01 3.03e+05  -1.6 3.56e+02    -  4.45e-01 6.54e-02f  1\n",
      " 547r-4.7302230e+02 1.30e+01 2.16e+05  -1.6 3.33e+02    -  2.64e-01 1.88e-01f  1\n",
      " 548r-4.7302460e+02 8.65e+00 1.01e+05  -1.6 2.70e+02    -  4.75e-01 3.47e-01f  1\n",
      " 549 -4.7300252e+02 8.65e+00 4.99e+03  -1.0 5.10e+03    -  2.17e-03 7.06e-04h  1\n",
      "iter    objective    inf_pr   inf_du lg(mu)  ||d||  lg(rg) alpha_du alpha_pr  ls\n",
      " 550r-4.7300252e+02 8.65e+00 9.99e+02   0.9 0.00e+00    -  0.00e+00 2.60e-07R  7\n",
      " 551r-4.7300309e+02 5.79e+00 4.73e+06   0.9 8.62e+03    -  3.14e-02 5.04e-04f  1\n",
      " 552 -4.7299561e+02 5.79e+00 2.97e+02  -1.0 1.57e+03    -  5.42e-05 2.55e-04h  1\n",
      " 553r-4.7299561e+02 5.79e+00 9.99e+02   0.7 0.00e+00    -  0.00e+00 4.78e-07R  5\n",
      " 554r-4.7299573e+02 4.79e+00 3.05e+05   0.7 3.86e+03    -  5.19e-02 2.54e-04f  1\n",
      " 555r-4.7300454e+02 4.68e+00 6.44e+05   0.7 2.05e+02    -  1.65e-01 3.99e-02f  1\n",
      " 556r-4.7301305e+02 5.67e+00 7.03e+05   0.7 1.66e+02    -  3.91e-01 1.89e-01f  1\n",
      " 557r-4.7301399e+02 2.94e+01 2.16e+05   0.7 1.58e+02    -  9.56e-01 5.45e-01f  1\n",
      " 558r-4.7301354e+02 1.98e+01 6.82e+03   0.7 9.55e+01    -  1.00e+00 1.00e+00f  1\n",
      " 559r-4.7301362e+02 1.82e+00 1.43e+04   0.7 6.36e+00    -  1.00e+00 1.00e+00f  1\n",
      "iter    objective    inf_pr   inf_du lg(mu)  ||d||  lg(rg) alpha_du alpha_pr  ls\n",
      " 560 -4.7276929e+02 1.75e+00 1.37e+03  -1.0 3.80e+02    -  2.22e-02 4.14e-02h  1\n",
      " 561 -4.7276674e+02 1.75e+00 2.09e+03  -1.0 6.93e+02    -  1.12e-01 4.30e-04h  1\n",
      " 562 -4.7276756e+02 1.75e+00 4.58e+03  -1.0 3.76e+04    -  5.86e-03 1.22e-04f  4\n",
      " 563 -4.7276775e+02 1.75e+00 1.23e+04  -1.0 3.79e+04    -  1.19e-02 2.80e-05f  9\n",
      " 564 -4.7276795e+02 1.75e+00 2.41e+04  -1.0 3.81e+04    -  2.10e-02 2.87e-05f 10\n"
     ]
    },
    {
     "name": "stdout",
     "output_type": "stream",
     "text": [
      " 565 -4.7276815e+02 1.75e+00 3.73e+04  -1.0 3.82e+04    -  2.73e-02 2.86e-05f 10\n",
      " 566 -4.7276835e+02 1.75e+00 5.23e+04  -1.0 3.82e+04    -  3.21e-02 2.86e-05f 10\n",
      " 567 -4.7287008e+02 2.75e+01 2.74e+05  -1.0 3.82e+04    -  1.76e-02 1.47e-02f  1\n",
      " 568 -4.7287352e+02 2.76e+01 2.74e+05  -1.0 4.43e+04    -  2.94e-02 9.70e-04h  2\n",
      " 569 -4.7287544e+02 2.77e+01 2.74e+05  -1.0 4.47e+04    -  4.86e-02 5.88e-04h  2\n",
      "iter    objective    inf_pr   inf_du lg(mu)  ||d||  lg(rg) alpha_du alpha_pr  ls\n",
      " 570 -4.7287591e+02 2.77e+01 6.63e+05  -1.0 4.42e+04    -  3.31e-03 1.70e-04h  3\n",
      " 571 -4.7287606e+02 2.77e+01 2.91e+07  -1.0 4.35e+04    -  2.68e-02 6.75e-05h  4\n",
      " 572r-4.7287606e+02 2.77e+01 1.00e+03   1.4 0.00e+00    -  0.00e+00 4.74e-07R 11\n",
      " 573r-4.7288856e+02 1.82e+01 3.55e+05   1.4 2.73e+04    -  4.79e-02 5.22e-04f  1\n",
      " 574 -4.7288810e+02 1.82e+01 3.31e+01  -1.0 1.20e+03    -  1.32e-03 7.94e-05h  1\n",
      " 575 -4.7288837e+02 1.82e+01 1.03e+03  -1.0 4.42e+04    -  1.18e-03 1.01e-04h  1\n",
      " 576 -4.7288822e+02 1.82e+01 1.22e+03  -1.0 3.87e+04    -  3.81e-04 1.40e-04h  1\n",
      " 577 -4.7288890e+02 1.82e+01 3.00e+03  -1.0 4.63e+04    -  2.01e-03 1.84e-04f  2\n",
      " 578 -4.7288925e+02 1.82e+01 1.59e+04  -1.0 4.63e+04    -  1.04e-02 9.65e-05h  2\n",
      " 579 -4.7288960e+02 1.82e+01 5.27e+04  -1.0 4.63e+04    -  1.15e-03 9.95e-05h  1\n",
      "iter    objective    inf_pr   inf_du lg(mu)  ||d||  lg(rg) alpha_du alpha_pr  ls\n",
      " 580r-4.7288960e+02 1.82e+01 1.00e+03   1.1 0.00e+00    -  0.00e+00 3.54e-07R  3\n",
      " 581r-4.7289290e+02 9.17e+00 2.01e+05   1.1 1.34e+04    -  5.69e-02 5.60e-04f  1\n",
      " 582 -4.7289267e+02 9.17e+00 3.10e+01  -1.0 2.05e+03    -  8.37e-04 4.06e-05h  1\n",
      " 583 -4.7289290e+02 9.17e+00 1.74e+03  -1.0 4.84e+04    -  1.61e-03 6.92e-05h  1\n",
      " 584r-4.7289290e+02 9.17e+00 1.00e+03   0.8 0.00e+00    -  0.00e+00 3.95e-07R  2\n",
      " 585r-4.7289573e+02 3.19e+00 1.03e+05   0.8 6.01e+03    -  6.57e-02 9.93e-04f  1\n",
      " 586 -4.7289555e+02 3.19e+00 1.23e+03  -1.0 2.68e+03    -  2.70e-02 3.39e-05h  1\n",
      " 587 -4.7289566e+02 3.19e+00 1.62e+03  -1.0 3.91e+04    -  6.68e-04 1.24e-04f  3\n",
      " 588 -4.7289583e+02 3.19e+00 1.54e+04  -1.0 4.15e+04    -  1.83e-02 6.67e-05h  5\n",
      " 589 -4.7289613e+02 3.19e+00 2.80e+04  -1.0 4.28e+04    -  2.15e-02 9.31e-05h  6\n",
      "iter    objective    inf_pr   inf_du lg(mu)  ||d||  lg(rg) alpha_du alpha_pr  ls\n",
      " 590 -4.7289643e+02 3.19e+00 4.19e+04  -1.0 4.29e+04    -  2.74e-02 9.14e-05h  6\n",
      " 591 -4.7289673e+02 3.19e+00 6.99e+04  -1.0 4.29e+04    -  3.19e-02 8.99e-05h  6\n",
      " 592 -4.7290583e+02 3.29e+00 1.87e+05  -1.0 4.30e+04    -  2.18e-02 2.83e-03f  1\n",
      " 593 -4.7290581e+02 3.29e+00 6.81e+05  -1.0 3.90e+04    -  2.87e-04 1.48e-05h  3\n",
      " 594r-4.7290581e+02 3.29e+00 1.00e+03   0.2 0.00e+00    -  0.00e+00 4.48e-07R  8\n",
      " 595r-4.7290665e+02 2.82e+00 4.06e+04   0.2 2.74e+03    -  9.12e-02 1.26e-03f  1\n",
      " 596r-4.7294160e+02 1.51e+00 8.55e+04   0.2 5.68e+02    -  2.13e-01 7.52e-02f  1\n",
      " 597 -4.7293624e+02 1.51e+00 1.30e+02  -1.0 5.37e+02    -  6.19e-03 6.80e-04h  1\n",
      " 598 -4.7293619e+02 1.51e+00 1.37e+03  -1.0 3.33e+04    -  2.47e-03 2.93e-05h  1\n",
      " 599 -4.7293617e+02 1.51e+00 2.59e+03  -1.0 4.15e+04    -  1.82e-03 2.86e-05f  5\n",
      "iter    objective    inf_pr   inf_du lg(mu)  ||d||  lg(rg) alpha_du alpha_pr  ls\n",
      " 600 -4.7293618e+02 1.51e+00 1.55e+04  -1.0 4.33e+04    -  1.87e-02 2.87e-05f  7\n",
      " 601 -4.7293619e+02 1.51e+00 2.52e+04  -1.0 4.37e+04    -  1.70e-02 2.81e-05h  7\n",
      " 602 -4.7293621e+02 1.51e+00 5.00e+04  -1.0 4.38e+04    -  2.64e-02 2.78e-05h  7\n",
      " 603 -4.7293623e+02 1.51e+00 7.84e+04  -1.0 4.37e+04    -  3.47e-03 5.50e-05h  6\n",
      " 604 -4.7293658e+02 1.51e+00 1.85e+05  -1.0 4.36e+04    -  5.28e-03 8.62e-04f  2\n",
      " 605 -4.7293661e+02 1.51e+00 1.74e+06  -1.0 4.42e+04    -  1.06e-02 2.50e-04h  3\n",
      " 606r-4.7293661e+02 1.51e+00 1.00e+03   0.2 0.00e+00    -  0.00e+00 3.84e-07R 12\n",
      " 607r-4.7293717e+02 1.20e+00 1.16e+04   0.2 1.51e+03    -  3.07e-02 9.91e-04f  1\n",
      " 608r-4.7293717e+02 1.20e+00 9.99e+02   0.1 0.00e+00    -  0.00e+00 2.89e-07R  6\n",
      " 609r-4.7293941e+02 1.16e+00 9.94e+02   0.1 7.39e+02    -  6.34e-03 5.42e-03f  1\n",
      "iter    objective    inf_pr   inf_du lg(mu)  ||d||  lg(rg) alpha_du alpha_pr  ls\n",
      " 610r-4.7294440e+02 1.06e+00 7.44e+03   0.1 7.22e+02    -  3.86e-02 1.29e-02f  1\n",
      " 611 -4.7254887e+02 1.01e+00 7.18e+03  -1.0 4.56e+02    -  2.31e-02 4.55e-02h  1\n",
      " 612 -4.7254474e+02 1.01e+00 2.75e+03  -1.0 7.97e+02    -  1.37e-01 4.70e-04h  1\n",
      " 613 -4.7254447e+02 1.01e+00 9.13e+03  -1.0 3.57e+04    -  2.15e-02 1.33e-04h  5\n",
      " 614 -4.7254434e+02 1.01e+00 1.78e+04  -1.0 3.59e+04    -  2.89e-02 6.30e-05h  9\n",
      " 615 -4.7254428e+02 1.01e+00 2.63e+04  -1.0 3.59e+04    -  3.73e-02 3.13e-05h 10\n",
      " 616 -4.7254422e+02 1.01e+00 3.46e+04  -1.0 3.59e+04    -  4.35e-02 3.13e-05h 10\n",
      " 617 -4.7254415e+02 1.01e+00 4.52e+04  -1.0 3.60e+04    -  6.07e-02 3.12e-05h 10\n",
      " 618 -4.7252797e+02 6.58e+00 1.59e+05  -1.0 3.60e+04    -  7.86e-02 7.98e-03f  2\n",
      " 619 -4.7251773e+02 8.49e+00 4.51e+05  -1.0 4.16e+04    -  3.62e-02 3.84e-03f  2\n",
      "iter    objective    inf_pr   inf_du lg(mu)  ||d||  lg(rg) alpha_du alpha_pr  ls\n",
      " 620 -4.7251701e+02 8.50e+00 6.81e+05  -1.0 4.46e+04    -  5.91e-03 2.39e-04h  5\n",
      " 621 -4.7251366e+02 9.18e+00 2.23e+06  -1.0 5.34e+04    -  2.38e-05 1.81e-03f  2\n",
      " 622 -4.7265532e+02 1.06e+02 5.18e+07  -1.0 2.43e+07    -  6.75e-07 4.59e-05f  1\n",
      " 623 -4.7267508e+02 1.55e+02 3.19e+07  -1.0 1.66e+05    -  1.62e-03 5.28e-03f  1\n",
      " 624 -4.7269964e+02 1.91e+02 2.96e+07  -1.0 2.86e+05    -  3.59e-03 2.80e-03f  1\n",
      " 625 -4.7273936e+02 3.50e+02 2.89e+07  -1.0 2.58e+05    -  4.98e-03 6.74e-03f  1\n",
      " 626 -4.7277224e+02 5.11e+02 2.39e+07  -1.0 1.76e+05    -  1.66e-03 1.12e-02f  1\n",
      " 627 -4.7280946e+02 7.27e+02 1.93e+07  -1.0 1.23e+05    -  1.16e-02 2.09e-02f  1\n",
      " 628 -4.7285218e+02 9.83e+02 1.63e+07  -1.0 7.25e+04    -  2.38e-02 4.49e-02f  1\n",
      " 629 -4.7283735e+02 1.18e+03 4.58e+07  -1.0 4.19e+04    -  5.32e-02 8.81e-02h  1\n",
      "iter    objective    inf_pr   inf_du lg(mu)  ||d||  lg(rg) alpha_du alpha_pr  ls\n",
      " 630 -4.7260878e+02 1.36e+03 9.77e+07  -1.0 2.47e+04    -  1.42e-01 2.05e-01h  1\n",
      " 631 -4.7231981e+02 1.28e+03 8.95e+07  -1.0 1.26e+04    -  2.59e-02 6.67e-02h  1\n",
      " 632 -4.7231730e+02 1.28e+03 8.94e+07  -1.0 1.11e+04    -  1.75e-01 4.46e-04h  1\n",
      " 633r-4.7231730e+02 1.28e+03 1.00e+03   2.9 0.00e+00    -  0.00e+00 3.12e-07R  5\n",
      " 634r-4.7218071e+02 1.03e+03 1.09e+04   2.9 8.23e+05    -  2.37e-04 2.00e-04f  1\n",
      " 635 -4.7218392e+02 1.01e+03 3.89e+03  -1.0 5.67e+03    -  5.38e-01 1.56e-02h  1\n",
      " 636 -4.7218415e+02 1.01e+03 6.14e+03  -1.0 8.52e+03    -  4.95e-03 2.97e-04h  1\n",
      " 637 -4.7253452e+02 9.24e+02 1.86e+05  -1.0 1.27e+04    -  1.21e-03 1.05e-01h  1\n",
      " 638 -4.7314385e+02 7.83e+02 6.88e+04  -1.0 1.12e+04    -  1.43e-01 2.38e-01h  1\n",
      " 639 -4.7314994e+02 7.56e+02 6.35e+04  -1.0 8.07e+03    -  6.72e-01 3.47e-02h  1\n",
      "iter    objective    inf_pr   inf_du lg(mu)  ||d||  lg(rg) alpha_du alpha_pr  ls\n",
      " 640 -4.7314922e+02 6.82e+02 1.39e+05  -1.0 7.86e+03    -  1.76e-02 1.06e-01h  1\n",
      " 641 -4.7275086e+02 4.83e+02 4.12e+05  -1.0 7.12e+03    -  1.24e-03 4.11e-01h  2\n",
      " 642 -4.7218662e+02 4.62e+02 3.81e+05  -1.0 1.81e+03  -4.0 1.84e-01 4.38e-02h  1\n",
      " 643 -4.7218246e+02 4.61e+02 3.81e+05  -1.0 4.95e+03    -  2.62e-02 8.06e-04h  1\n",
      " 644 -4.7219695e+02 4.32e+02 3.50e+05  -1.0 9.17e+03    -  1.32e-02 7.38e-02h  1\n",
      " 645 -4.7224599e+02 3.67e+02 2.32e+05  -1.0 8.69e+03    -  8.97e-02 2.60e-01h  1\n",
      " 646 -4.7314096e+02 3.43e+02 7.82e+05  -1.0 1.14e+04    -  4.03e-04 1.00e-01f  1\n",
      " 647 -4.7248192e+02 3.37e+02 5.01e+05  -1.0 7.56e+03  -3.6 2.60e-04 1.78e-02h  1\n",
      " 648 -4.7209027e+02 3.30e+02 3.20e+05  -1.0 2.67e+03  -3.1 2.73e-01 1.88e-02h  1\n",
      " 649 -4.7209143e+02 3.25e+02 3.18e+05  -1.0 6.44e+03    -  1.84e-01 1.78e-02h  5\n",
      "iter    objective    inf_pr   inf_du lg(mu)  ||d||  lg(rg) alpha_du alpha_pr  ls\n",
      " 650 -4.7208926e+02 3.25e+02 2.91e+05  -1.0 2.16e+03  -3.6 6.67e-02 1.30e-04h  2\n",
      " 651 -4.7208930e+02 3.24e+02 3.01e+05  -1.0 6.35e+03    -  3.08e-01 9.75e-04h  9\n",
      " 652 -4.7208952e+02 3.24e+02 3.01e+05  -1.0 6.54e+03    -  1.35e-02 4.25e-04h 12\n",
      " 653 -4.7209119e+02 3.24e+02 3.07e+05  -1.0 6.73e+03    -  1.06e-01 1.70e-03h 10\n",
      " 654 -4.7212755e+02 2.55e+02 2.47e+05  -1.0 6.37e+03    -  7.41e-02 3.24e-01h  1\n",
      " 655 -4.7284631e+02 1.84e+02 8.59e+05  -1.0 5.05e+03    -  4.04e-03 7.98e-01h  1\n",
      " 656 -4.7215434e+02 1.42e+02 6.56e+06  -1.0 1.39e+03  -2.3 2.78e-01 2.30e-01h  1\n",
      " 657 -4.7264005e+02 1.04e+01 6.62e+05  -1.0 1.20e+03  -2.8 3.51e-01 9.89e-01h  1\n"
     ]
    },
    {
     "name": "stdout",
     "output_type": "stream",
     "text": [
      " 658 -4.7230905e+02 8.52e+00 7.99e+08  -1.0 6.49e+02  -1.4 1.54e-01 1.94e-01h  1\n",
      " 659 -4.7242752e+02 1.56e-01 1.16e+09  -1.0 7.91e+01    -  8.56e-02 9.93e-01h  1\n",
      "iter    objective    inf_pr   inf_du lg(mu)  ||d||  lg(rg) alpha_du alpha_pr  ls\n",
      " 660 -4.7257515e+02 7.74e-03 6.27e+07  -1.0 1.97e+01  -1.9 1.00e+00 1.00e+00h  1\n",
      " 661 -4.7298126e+02 5.87e-02 4.31e+06  -1.0 4.93e+01    -  3.73e-01 1.00e+00f  1\n",
      " 662 -4.7314832e+02 6.68e-02 3.61e+06  -1.0 6.48e+02    -  1.64e-01 3.14e-02f  1\n",
      " 663 -4.7307688e+02 1.82e-03 5.86e+02  -1.0 8.63e+00    -  1.00e+00 1.00e+00f  1\n",
      " 664 -4.7309948e+02 1.82e-04 6.30e+02  -1.7 2.75e+00    -  1.00e+00 1.00e+00h  1\n",
      " 665 -4.7313892e+02 5.54e-04 1.22e+00  -1.7 4.80e+00    -  1.00e+00 1.00e+00f  1\n",
      " 666 -4.7314509e+02 1.35e-05 4.26e+01  -3.8 7.51e-01    -  1.00e+00 1.00e+00h  1\n",
      " 667 -4.7314986e+02 8.11e-06 1.23e-02  -3.8 5.80e-01    -  1.00e+00 1.00e+00h  1\n",
      " 668 -4.7314986e+02 4.71e-11 4.41e-09  -3.8 4.06e-04    -  1.00e+00 1.00e+00h  1\n",
      " 669 -4.7315000e+02 7.68e-09 7.63e-03  -5.7 1.79e-02    -  1.00e+00 1.00e+00f  1\n",
      "iter    objective    inf_pr   inf_du lg(mu)  ||d||  lg(rg) alpha_du alpha_pr  ls\n",
      " 670 -4.7315000e+02 3.22e-11 3.87e-10  -5.7 1.04e-04    -  1.00e+00 1.00e+00h  1\n",
      " 671 -4.7315000e+02 1.33e-10 1.19e-06  -8.6 2.24e-04    -  1.00e+00 1.00e+00h  1\n",
      " 672 -4.7315000e+02 2.69e-10 2.51e-14  -8.6 1.61e-08    -  1.00e+00 1.00e+00h  1\n",
      "\n",
      "Number of Iterations....: 672\n",
      "\n",
      "                                   (scaled)                 (unscaled)\n",
      "Objective...............:  -4.7315000472899408e+02   -4.7315000472899408e+02\n",
      "Dual infeasibility......:   2.5091040356528538e-14    2.5091040356528538e-14\n",
      "Constraint violation....:   2.6905084030918319e-10    2.6905084030918319e-10\n",
      "Complementarity.........:   2.5059035597005093e-09    2.5059035597005093e-09\n",
      "Overall NLP error.......:   2.5059035597005093e-09    2.5059035597005093e-09\n",
      "\n",
      "\n",
      "Number of objective function evaluations             = 1032\n",
      "Number of objective gradient evaluations             = 163\n",
      "Number of equality constraint evaluations            = 1032\n",
      "Number of inequality constraint evaluations          = 1032\n",
      "Number of equality constraint Jacobian evaluations   = 694\n",
      "Number of inequality constraint Jacobian evaluations = 694\n",
      "Number of Lagrangian Hessian evaluations             = 672\n",
      "Total CPU secs in IPOPT (w/o function evaluations)   =     74.913\n",
      "Total CPU secs in NLP function evaluations           =      2.600\n",
      "\n",
      "EXIT: Optimal Solution Found.\n"
     ]
    }
   ],
   "source": [
    "opt = pe.SolverFactory('ipopt')\n",
    "\n",
    "opt.options['print_user_options'] = 'yes'\n",
    "opt.options['linear_solver'] = 'ma86'\n",
    "\n",
    "opt.options['linear_system_scaling '] = 'mc19'\n",
    "opt.options['linear_scaling_on_demand '] = 'no'\n",
    "# opt.options['recalc_y'] = 'yes'\n",
    "# opt.options['bound_relax_factor'] = 0\n",
    "# opt.options['halt_on_ampl_error'] = 'yes'\n",
    "\n",
    "opt.options['max_iter'] = 7000\n",
    "results = opt.solve(model,tee=True)\n",
    "update_dual(pe,model)"
   ]
  },
  {
   "cell_type": "code",
   "execution_count": 20,
   "metadata": {
    "scrolled": true,
    "slideshow": {
     "slide_type": "skip"
    }
   },
   "outputs": [
    {
     "data": {
      "text/plain": [
       "473.15"
      ]
     },
     "execution_count": 20,
     "metadata": {},
     "output_type": "execute_result"
    }
   ],
   "source": [
    "model.T.value"
   ]
  },
  {
   "cell_type": "code",
   "execution_count": 21,
   "metadata": {},
   "outputs": [
    {
     "data": {
      "text/plain": [
       "632.719399137874"
      ]
     },
     "execution_count": 21,
     "metadata": {},
     "output_type": "execute_result"
    }
   ],
   "source": [
    "model.MPCC.T.value"
   ]
  },
  {
   "cell_type": "code",
   "execution_count": 22,
   "metadata": {},
   "outputs": [
    {
     "data": {
      "text/plain": [
       "473.14984805749987"
      ]
     },
     "execution_count": 22,
     "metadata": {},
     "output_type": "execute_result"
    }
   ],
   "source": [
    "model.VLE_block.T_VLE.value"
   ]
  },
  {
   "cell_type": "code",
   "execution_count": 23,
   "metadata": {
    "scrolled": true
   },
   "outputs": [
    {
     "data": {
      "text/plain": [
       "0.00756622997004425"
      ]
     },
     "execution_count": 23,
     "metadata": {},
     "output_type": "execute_result"
    }
   ],
   "source": [
    "model.L['out'].value"
   ]
  },
  {
   "cell_type": "code",
   "execution_count": 24,
   "metadata": {},
   "outputs": [
    {
     "data": {
      "text/plain": [
       "1.0000000000000002"
      ]
     },
     "execution_count": 24,
     "metadata": {},
     "output_type": "execute_result"
    }
   ],
   "source": [
    "sum(model.MPCC.y[i].value for i in m.COMP_TOTAL)"
   ]
  },
  {
   "cell_type": "code",
   "execution_count": 25,
   "metadata": {
    "scrolled": false,
    "slideshow": {
     "slide_type": "slide"
    }
   },
   "outputs": [
    {
     "name": "stdout",
     "output_type": "stream",
     "text": [
      "Component\t\tLiquid: 0.0076\t\t\tVapor: 0.5291\n",
      "------------------------------------------------------------------------------------------------------------\n",
      "H2         \t\t 0.8838%\t\t\t25.2935%\n",
      "CO         \t\t 1.3401%\t\t\t28.6944%\n",
      "CO2        \t\t 3.7245%\t\t\t31.8623%\n",
      "H2O        \t\t 3.6023%\t\t\t12.4033%\n",
      "C2H4       \t\t 0.0174%\t\t\t 0.1174%\n",
      "C3H6       \t\t 0.0444%\t\t\t 0.1351%\n",
      "C4H8       \t\t 0.0456%\t\t\t 0.1204%\n",
      "C5H10      \t\t 0.0722%\t\t\t 0.0931%\n",
      "C6H12      \t\t 0.1262%\t\t\t 0.0865%\n",
      "C7H14      \t\t 0.2078%\t\t\t 0.0799%\n",
      "C8H16      \t\t 0.3264%\t\t\t 0.0731%\n",
      "C9H18      \t\t 0.4920%\t\t\t 0.0659%\n",
      "C10H20     \t\t 0.7120%\t\t\t 0.0583%\n",
      "C11H22     \t\t 0.6286%\t\t\t 0.0320%\n",
      "C12H24     \t\t 0.8302%\t\t\t 0.0265%\n",
      "C13H26     \t\t 1.0411%\t\t\t 0.0212%\n",
      "C14H28     \t\t 1.2375%\t\t\t 0.0161%\n",
      "C15H30     \t\t 1.3970%\t\t\t 0.0118%\n",
      "C16H32     \t\t 1.5062%\t\t\t 0.0083%\n",
      "C17H34     \t\t 1.5634%\t\t\t 0.0056%\n",
      "C18H36     \t\t 1.5753%\t\t\t 0.0037%\n",
      "C19H38     \t\t 1.5530%\t\t\t 0.0024%\n",
      "C20H40     \t\t 1.5073%\t\t\t 0.0016%\n",
      "C1H4       \t\t 0.0164%\t\t\t 0.1925%\n",
      "C2H6       \t\t 0.0107%\t\t\t 0.0631%\n",
      "C3H8       \t\t 0.0114%\t\t\t 0.0338%\n",
      "C4H10      \t\t 0.0162%\t\t\t 0.0380%\n",
      "C5H12      \t\t 0.0471%\t\t\t 0.0547%\n",
      "C6H14      \t\t 0.0815%\t\t\t 0.0508%\n",
      "C7H16      \t\t 0.1332%\t\t\t 0.0468%\n",
      "C8H18      \t\t 0.2078%\t\t\t 0.0428%\n",
      "C9H20      \t\t 0.3113%\t\t\t 0.0385%\n",
      "C10H22     \t\t 0.4475%\t\t\t 0.0339%\n",
      "C11H24     \t\t 0.9951%\t\t\t 0.0469%\n",
      "C12H26     \t\t 1.3036%\t\t\t 0.0387%\n",
      "C13H28     \t\t 1.6207%\t\t\t 0.0306%\n",
      "C14H30     \t\t 1.9099%\t\t\t 0.0232%\n",
      "C15H32     \t\t 2.1391%\t\t\t 0.0168%\n",
      "C16H34     \t\t 2.2908%\t\t\t 0.0117%\n",
      "C17H36     \t\t 2.3649%\t\t\t 0.0079%\n",
      "C18H38     \t\t 2.3734%\t\t\t 0.0052%\n",
      "C19H40     \t\t 2.3329%\t\t\t 0.0034%\n",
      "C20H42     \t\t 2.2595%\t\t\t 0.0022%\n",
      "C21H44     \t\t 3.6174%\t\t\t 0.0023%\n",
      "C22H46     \t\t 3.4437%\t\t\t 0.0015%\n",
      "C23H48     \t\t 3.2630%\t\t\t 0.0009%\n",
      "C24H50     \t\t 3.0819%\t\t\t 0.0006%\n",
      "C25H52     \t\t 2.9046%\t\t\t 0.0004%\n",
      "C26H54     \t\t 2.7336%\t\t\t 0.0002%\n",
      "C27H56     \t\t 2.5703%\t\t\t 0.0001%\n",
      "C28H58     \t\t 2.4152%\t\t\t 0.0001%\n",
      "C29H60     \t\t 2.2684%\t\t\t 0.0001%\n",
      "C30H62     \t\t 2.1300%\t\t\t 0.0000%\n",
      "C31H64     \t\t 1.9996%\t\t\t 0.0000%\n",
      "C32H66     \t\t 1.8769%\t\t\t 0.0000%\n",
      "C33H68     \t\t 1.7616%\t\t\t 0.0000%\n",
      "C34H70     \t\t 1.6533%\t\t\t 0.0000%\n",
      "C35H72     \t\t 1.5516%\t\t\t 0.0000%\n",
      "C36H74     \t\t 1.4562%\t\t\t 0.0000%\n",
      "C37H76     \t\t 1.3665%\t\t\t 0.0000%\n",
      "C38H78     \t\t 1.2824%\t\t\t 0.0000%\n",
      "C39H80     \t\t 1.2034%\t\t\t 0.0000%\n",
      "C40H82     \t\t 1.1293%\t\t\t 0.0000%\n",
      "C41H84     \t\t 1.0598%\t\t\t 0.0000%\n",
      "C42H86     \t\t 0.9945%\t\t\t 0.0000%\n",
      "C43H88     \t\t 0.9332%\t\t\t 0.0000%\n",
      "C44H90     \t\t 0.8758%\t\t\t 0.0000%\n",
      "C45H92     \t\t 0.8218%\t\t\t 0.0000%\n",
      "C46H94     \t\t 0.7712%\t\t\t 0.0000%\n",
      "C47H96     \t\t 0.7237%\t\t\t 0.0000%\n",
      "C48H98     \t\t 0.6791%\t\t\t 0.0000%\n",
      "C49H100    \t\t 0.6373%\t\t\t 0.0000%\n",
      "C50H102    \t\t 0.5980%\t\t\t 0.0000%\n",
      "C51H104    \t\t 0.5612%\t\t\t 0.0000%\n",
      "C52H106    \t\t 0.5266%\t\t\t 0.0000%\n",
      "C53H108    \t\t 0.4942%\t\t\t 0.0000%\n",
      "C54H110    \t\t 0.4638%\t\t\t 0.0000%\n",
      "C55H112    \t\t 0.4352%\t\t\t 0.0000%\n",
      "C56H114    \t\t 0.4084%\t\t\t 0.0000%\n"
     ]
    }
   ],
   "source": [
    "print('Component\\t\\tLiquid: {:.4f}\\t\\t\\tVapor: {:.4f}'.format(model.L['out'].value,model.V['out'].value))\n",
    "print('-'*108)\n",
    "for i in model.x:\n",
    "    print('{:10s}'.format(i),'\\t\\t{:8.4%}\\t\\t\\t{:8.4%}'.format(model.x[i].value,model.y[i].value))"
   ]
  },
  {
   "cell_type": "markdown",
   "metadata": {
    "slideshow": {
     "slide_type": "slide"
    }
   },
   "source": [
    "# Iterative Solve for Data Analysis"
   ]
  },
  {
   "cell_type": "code",
   "execution_count": 26,
   "metadata": {},
   "outputs": [],
   "source": [
    "results_anchor = results\n",
    "update_dual(pe,model)\n",
    "model.solutions.store_to(results_anchor)"
   ]
  },
  {
   "cell_type": "code",
   "execution_count": 27,
   "metadata": {},
   "outputs": [],
   "source": [
    "opt.options['warm_start_init_point'] = 'yes'\n",
    "opt.options['warm_start_bound_push'] = 1e-20\n",
    "opt.options['warm_start_mult_bound_push'] = 1e-20\n",
    "opt.options['mu_init'] = 1e-6"
   ]
  },
  {
   "cell_type": "code",
   "execution_count": 28,
   "metadata": {},
   "outputs": [],
   "source": [
    "catrange = [3000,1000,500,300,100,50,25,10]\n",
    "Trange = np.linspace(200+273.15,300+273.15,41)"
   ]
  },
  {
   "cell_type": "code",
   "execution_count": 29,
   "metadata": {
    "scrolled": false,
    "slideshow": {
     "slide_type": "fragment"
    }
   },
   "outputs": [
    {
     "name": "stdout",
     "output_type": "stream",
     "text": [
      "\n",
      "Working on Cat = 3000.0 kg\n",
      "------------------------------------------------------------------------------------------------------------\n",
      "Solved\t|T = 473.15 K\t|V = 0.5291 kmol/s\t|L = 0.0076 kmol/s\t|T_dew = 632.72\t|T_VLE = 473.15\n",
      "Solved\t|T = 475.65 K\t|V = 0.5029 kmol/s\t|L = 0.0081 kmol/s\t|T_dew = 632.58\t|T_VLE = 475.65\n",
      "Solved\t|T = 478.15 K\t|V = 0.4799 kmol/s\t|L = 0.0085 kmol/s\t|T_dew = 631.92\t|T_VLE = 478.15\n",
      "Solved\t|T = 480.65 K\t|V = 0.4604 kmol/s\t|L = 0.0088 kmol/s\t|T_dew = 630.67\t|T_VLE = 480.65\n",
      "Solved\t|T = 483.15 K\t|V = 0.4444 kmol/s\t|L = 0.0089 kmol/s\t|T_dew = 628.80\t|T_VLE = 483.15\n",
      "Solved\t|T = 485.65 K\t|V = 0.4316 kmol/s\t|L = 0.0089 kmol/s\t|T_dew = 626.28\t|T_VLE = 485.65\n",
      "Solved\t|T = 488.15 K\t|V = 0.4216 kmol/s\t|L = 0.0088 kmol/s\t|T_dew = 623.12\t|T_VLE = 488.15\n",
      "Solved\t|T = 490.65 K\t|V = 0.4141 kmol/s\t|L = 0.0085 kmol/s\t|T_dew = 619.32\t|T_VLE = 490.65\n",
      "Solved\t|T = 493.15 K\t|V = 0.4087 kmol/s\t|L = 0.0080 kmol/s\t|T_dew = 614.90\t|T_VLE = 493.15\n",
      "Solved\t|T = 495.65 K\t|V = 0.4051 kmol/s\t|L = 0.0073 kmol/s\t|T_dew = 609.88\t|T_VLE = 495.65\n",
      "Solved\t|T = 498.15 K\t|V = 0.4028 kmol/s\t|L = 0.0065 kmol/s\t|T_dew = 604.29\t|T_VLE = 498.15\n",
      "Solved\t|T = 500.65 K\t|V = 0.4017 kmol/s\t|L = 0.0057 kmol/s\t|T_dew = 598.16\t|T_VLE = 500.65\n",
      "Solved\t|T = 503.15 K\t|V = 0.4015 kmol/s\t|L = 0.0047 kmol/s\t|T_dew = 591.54\t|T_VLE = 503.15\n",
      "Solved\t|T = 505.65 K\t|V = 0.4021 kmol/s\t|L = 0.0038 kmol/s\t|T_dew = 584.47\t|T_VLE = 505.65\n",
      "Solved\t|T = 508.15 K\t|V = 0.4032 kmol/s\t|L = 0.0028 kmol/s\t|T_dew = 577.00\t|T_VLE = 508.15\n",
      "Solved\t|T = 510.65 K\t|V = 0.4047 kmol/s\t|L = 0.0019 kmol/s\t|T_dew = 569.19\t|T_VLE = 510.65\n",
      "Solved\t|T = 513.15 K\t|V = 0.4065 kmol/s\t|L = 0.0012 kmol/s\t|T_dew = 561.08\t|T_VLE = 513.15\n",
      "Solved\t|T = 515.65 K\t|V = 0.4084 kmol/s\t|L = 0.0006 kmol/s\t|T_dew = 552.73\t|T_VLE = 515.65\n",
      "Solved\t|T = 518.15 K\t|V = 0.4103 kmol/s\t|L = 0.0002 kmol/s\t|T_dew = 544.20\t|T_VLE = 518.15\n",
      "Solved\t|T = 520.65 K\t|V = 0.4123 kmol/s\t|L = 0.0001 kmol/s\t|T_dew = 535.53\t|T_VLE = 520.65\n",
      "Solved\t|T = 523.15 K\t|V = 0.4144 kmol/s\t|L = 0.0000 kmol/s\t|T_dew = 526.77\t|T_VLE = 523.14\n",
      "Solved\t|T = 525.65 K\t|V = 0.4165 kmol/s\t|L = 0.0000 kmol/s\t|T_dew = 517.98\t|T_VLE = 517.98\n",
      "Solved\t|T = 528.15 K\t|V = 0.4187 kmol/s\t|L = 0.0000 kmol/s\t|T_dew = 509.20\t|T_VLE = 509.20\n",
      "Solved\t|T = 530.65 K\t|V = 0.4210 kmol/s\t|L = 0.0000 kmol/s\t|T_dew = 500.46\t|T_VLE = 500.45\n",
      "Solved\t|T = 533.15 K\t|V = 0.4233 kmol/s\t|L = 0.0000 kmol/s\t|T_dew = 491.79\t|T_VLE = 491.79\n",
      "Solved\t|T = 535.65 K\t|V = 0.4257 kmol/s\t|L = 0.0000 kmol/s\t|T_dew = 483.23\t|T_VLE = 483.23\n",
      "Solved\t|T = 538.15 K\t|V = 0.4281 kmol/s\t|L = 0.0000 kmol/s\t|T_dew = 474.80\t|T_VLE = 474.80\n",
      "Solved\t|T = 540.65 K\t|V = 0.4304 kmol/s\t|L = 0.0000 kmol/s\t|T_dew = 466.53\t|T_VLE = 466.53\n",
      "Solved\t|T = 543.15 K\t|V = 0.4328 kmol/s\t|L = 0.0000 kmol/s\t|T_dew = 458.42\t|T_VLE = 458.42\n",
      "Solved\t|T = 545.65 K\t|V = 0.4352 kmol/s\t|L = 0.0000 kmol/s\t|T_dew = 450.49\t|T_VLE = 450.49\n",
      "Solved\t|T = 548.15 K\t|V = 0.4375 kmol/s\t|L = 0.0000 kmol/s\t|T_dew = 442.76\t|T_VLE = 442.76\n",
      "Solved\t|T = 550.65 K\t|V = 0.4398 kmol/s\t|L = 0.0000 kmol/s\t|T_dew = 435.23\t|T_VLE = 435.23\n",
      "Solved\t|T = 553.15 K\t|V = 0.4420 kmol/s\t|L = 0.0000 kmol/s\t|T_dew = 427.90\t|T_VLE = 427.90\n",
      "Solved\t|T = 555.65 K\t|V = 0.4442 kmol/s\t|L = 0.0000 kmol/s\t|T_dew = 420.78\t|T_VLE = 420.78\n",
      "Solved\t|T = 558.15 K\t|V = 0.4463 kmol/s\t|L = 0.0000 kmol/s\t|T_dew = 413.86\t|T_VLE = 413.86\n",
      "Solved\t|T = 560.65 K\t|V = 0.4484 kmol/s\t|L = 0.0000 kmol/s\t|T_dew = 407.16\t|T_VLE = 407.16\n",
      "Solved\t|T = 563.15 K\t|V = 0.4504 kmol/s\t|L = 0.0000 kmol/s\t|T_dew = 400.66\t|T_VLE = 400.66\n",
      "Solved\t|T = 565.65 K\t|V = 0.4524 kmol/s\t|L = 0.0000 kmol/s\t|T_dew = 394.37\t|T_VLE = 394.37\n",
      "Solved\t|T = 568.15 K\t|V = 0.4542 kmol/s\t|L = 0.0000 kmol/s\t|T_dew = 388.28\t|T_VLE = 388.28\n",
      "Solved\t|T = 570.65 K\t|V = 0.4560 kmol/s\t|L = 0.0000 kmol/s\t|T_dew = 382.39\t|T_VLE = 382.39\n",
      "Solved\t|T = 573.15 K\t|V = 0.4578 kmol/s\t|L = 0.0000 kmol/s\t|T_dew = 376.69\t|T_VLE = 376.69\n",
      "\n",
      "Working on Cat = 1000.0 kg\n",
      "------------------------------------------------------------------------------------------------------------\n",
      "Solved\t|T = 473.15 K\t|V = 0.8042 kmol/s\t|L = 0.0024 kmol/s\t|T_dew = 607.95\t|T_VLE = 473.15\n",
      "Solved\t|T = 475.65 K\t|V = 0.7842 kmol/s\t|L = 0.0026 kmol/s\t|T_dew = 607.75\t|T_VLE = 475.65\n",
      "Solved\t|T = 478.15 K\t|V = 0.7629 kmol/s\t|L = 0.0028 kmol/s\t|T_dew = 607.25\t|T_VLE = 478.15\n",
      "Solved\t|T = 480.65 K\t|V = 0.7402 kmol/s\t|L = 0.0029 kmol/s\t|T_dew = 606.44\t|T_VLE = 480.65\n",
      "Solved\t|T = 483.15 K\t|V = 0.7164 kmol/s\t|L = 0.0031 kmol/s\t|T_dew = 605.29\t|T_VLE = 483.15\n",
      "Solved\t|T = 485.65 K\t|V = 0.6917 kmol/s\t|L = 0.0032 kmol/s\t|T_dew = 603.75\t|T_VLE = 485.65\n",
      "Solved\t|T = 488.15 K\t|V = 0.6664 kmol/s\t|L = 0.0033 kmol/s\t|T_dew = 601.80\t|T_VLE = 488.15\n",
      "Solved\t|T = 490.65 K\t|V = 0.6409 kmol/s\t|L = 0.0033 kmol/s\t|T_dew = 599.40\t|T_VLE = 490.65\n",
      "Solved\t|T = 493.15 K\t|V = 0.6157 kmol/s\t|L = 0.0033 kmol/s\t|T_dew = 596.53\t|T_VLE = 493.15\n",
      "Solved\t|T = 495.65 K\t|V = 0.5913 kmol/s\t|L = 0.0031 kmol/s\t|T_dew = 593.14\t|T_VLE = 495.65\n",
      "Solved\t|T = 498.15 K\t|V = 0.5684 kmol/s\t|L = 0.0029 kmol/s\t|T_dew = 589.21\t|T_VLE = 498.15\n",
      "Solved\t|T = 500.65 K\t|V = 0.5473 kmol/s\t|L = 0.0026 kmol/s\t|T_dew = 584.72\t|T_VLE = 500.65\n",
      "Solved\t|T = 503.15 K\t|V = 0.5286 kmol/s\t|L = 0.0023 kmol/s\t|T_dew = 579.67\t|T_VLE = 503.15\n",
      "Solved\t|T = 505.65 K\t|V = 0.5122 kmol/s\t|L = 0.0019 kmol/s\t|T_dew = 574.06\t|T_VLE = 505.65\n",
      "Solved\t|T = 508.15 K\t|V = 0.4983 kmol/s\t|L = 0.0014 kmol/s\t|T_dew = 567.93\t|T_VLE = 508.15\n",
      "Solved\t|T = 510.65 K\t|V = 0.4866 kmol/s\t|L = 0.0010 kmol/s\t|T_dew = 561.31\t|T_VLE = 510.65\n",
      "Solved\t|T = 513.15 K\t|V = 0.4770 kmol/s\t|L = 0.0006 kmol/s\t|T_dew = 554.26\t|T_VLE = 513.15\n",
      "Solved\t|T = 515.65 K\t|V = 0.4692 kmol/s\t|L = 0.0003 kmol/s\t|T_dew = 546.84\t|T_VLE = 515.65\n",
      "Solved\t|T = 518.15 K\t|V = 0.4628 kmol/s\t|L = 0.0001 kmol/s\t|T_dew = 539.11\t|T_VLE = 518.15\n",
      "Solved\t|T = 520.65 K\t|V = 0.4578 kmol/s\t|L = 0.0000 kmol/s\t|T_dew = 531.15\t|T_VLE = 520.65\n",
      "Solved\t|T = 523.15 K\t|V = 0.4538 kmol/s\t|L = 0.0000 kmol/s\t|T_dew = 523.00\t|T_VLE = 522.90\n",
      "Solved\t|T = 525.65 K\t|V = 0.4508 kmol/s\t|L = 0.0000 kmol/s\t|T_dew = 514.73\t|T_VLE = 514.73\n",
      "Solved\t|T = 528.15 K\t|V = 0.4487 kmol/s\t|L = 0.0000 kmol/s\t|T_dew = 506.39\t|T_VLE = 506.39\n",
      "Solved\t|T = 530.65 K\t|V = 0.4472 kmol/s\t|L = 0.0000 kmol/s\t|T_dew = 498.03\t|T_VLE = 498.03\n",
      "Solved\t|T = 533.15 K\t|V = 0.4464 kmol/s\t|L = 0.0000 kmol/s\t|T_dew = 489.69\t|T_VLE = 489.69\n",
      "Solved\t|T = 535.65 K\t|V = 0.4460 kmol/s\t|L = 0.0000 kmol/s\t|T_dew = 481.41\t|T_VLE = 481.41\n",
      "Solved\t|T = 538.15 K\t|V = 0.4459 kmol/s\t|L = 0.0000 kmol/s\t|T_dew = 473.22\t|T_VLE = 473.22\n",
      "Solved\t|T = 540.65 K\t|V = 0.4463 kmol/s\t|L = 0.0000 kmol/s\t|T_dew = 465.15\t|T_VLE = 465.15\n",
      "Solved\t|T = 543.15 K\t|V = 0.4468 kmol/s\t|L = 0.0000 kmol/s\t|T_dew = 457.22\t|T_VLE = 457.22\n",
      "Solved\t|T = 545.65 K\t|V = 0.4476 kmol/s\t|L = 0.0000 kmol/s\t|T_dew = 449.44\t|T_VLE = 449.44\n",
      "Solved\t|T = 548.15 K\t|V = 0.4486 kmol/s\t|L = 0.0000 kmol/s\t|T_dew = 441.84\t|T_VLE = 441.84\n",
      "Solved\t|T = 550.65 K\t|V = 0.4496 kmol/s\t|L = 0.0000 kmol/s\t|T_dew = 434.41\t|T_VLE = 434.41\n",
      "Solved\t|T = 553.15 K\t|V = 0.4508 kmol/s\t|L = 0.0000 kmol/s\t|T_dew = 427.18\t|T_VLE = 427.18\n",
      "Solved\t|T = 555.65 K\t|V = 0.4521 kmol/s\t|L = 0.0000 kmol/s\t|T_dew = 420.14\t|T_VLE = 420.14\n",
      "Solved\t|T = 558.15 K\t|V = 0.4534 kmol/s\t|L = 0.0000 kmol/s\t|T_dew = 413.30\t|T_VLE = 413.30\n",
      "Solved\t|T = 560.65 K\t|V = 0.4547 kmol/s\t|L = 0.0000 kmol/s\t|T_dew = 406.66\t|T_VLE = 406.66\n",
      "Solved\t|T = 563.15 K\t|V = 0.4561 kmol/s\t|L = 0.0000 kmol/s\t|T_dew = 400.21\t|T_VLE = 400.21\n",
      "Solved\t|T = 565.65 K\t|V = 0.4575 kmol/s\t|L = 0.0000 kmol/s\t|T_dew = 393.97\t|T_VLE = 393.97\n",
      "Solved\t|T = 568.15 K\t|V = 0.4589 kmol/s\t|L = 0.0000 kmol/s\t|T_dew = 387.92\t|T_VLE = 387.92\n",
      "Solved\t|T = 570.65 K\t|V = 0.4602 kmol/s\t|L = 0.0000 kmol/s\t|T_dew = 382.06\t|T_VLE = 382.06\n",
      "Solved\t|T = 573.15 K\t|V = 0.4616 kmol/s\t|L = 0.0000 kmol/s\t|T_dew = 376.40\t|T_VLE = 376.40\n",
      "\n",
      "Working on Cat = 500.0 kg\n",
      "------------------------------------------------------------------------------------------------------------\n",
      "Solved\t|T = 473.15 K\t|V = 0.8993 kmol/s\t|L = 0.0010 kmol/s\t|T_dew = 594.71\t|T_VLE = 473.15\n",
      "Solved\t|T = 475.65 K\t|V = 0.8885 kmol/s\t|L = 0.0011 kmol/s\t|T_dew = 594.21\t|T_VLE = 475.65\n",
      "Solved\t|T = 478.15 K\t|V = 0.8767 kmol/s\t|L = 0.0012 kmol/s\t|T_dew = 593.42\t|T_VLE = 478.15\n",
      "Solved\t|T = 480.65 K\t|V = 0.8640 kmol/s\t|L = 0.0012 kmol/s\t|T_dew = 592.30\t|T_VLE = 480.65\n"
     ]
    },
    {
     "name": "stdout",
     "output_type": "stream",
     "text": [
      "Solved\t|T = 483.15 K\t|V = 0.8503 kmol/s\t|L = 0.0013 kmol/s\t|T_dew = 590.83\t|T_VLE = 483.15\n",
      "Solved\t|T = 485.65 K\t|V = 0.8355 kmol/s\t|L = 0.0013 kmol/s\t|T_dew = 588.99\t|T_VLE = 485.65\n",
      "Solved\t|T = 488.15 K\t|V = 0.8196 kmol/s\t|L = 0.0013 kmol/s\t|T_dew = 586.77\t|T_VLE = 488.15\n",
      "Solved\t|T = 490.65 K\t|V = 0.8027 kmol/s\t|L = 0.0012 kmol/s\t|T_dew = 584.13\t|T_VLE = 490.65\n",
      "Solved\t|T = 493.15 K\t|V = 0.7848 kmol/s\t|L = 0.0012 kmol/s\t|T_dew = 581.09\t|T_VLE = 493.15\n",
      "Solved\t|T = 495.65 K\t|V = 0.7658 kmol/s\t|L = 0.0011 kmol/s\t|T_dew = 577.64\t|T_VLE = 495.65\n",
      "Solved\t|T = 498.15 K\t|V = 0.7459 kmol/s\t|L = 0.0010 kmol/s\t|T_dew = 573.77\t|T_VLE = 498.15\n",
      "Solved\t|T = 500.65 K\t|V = 0.7251 kmol/s\t|L = 0.0008 kmol/s\t|T_dew = 569.50\t|T_VLE = 500.65\n",
      "Solved\t|T = 503.15 K\t|V = 0.7036 kmol/s\t|L = 0.0007 kmol/s\t|T_dew = 564.85\t|T_VLE = 503.15\n",
      "Solved\t|T = 505.65 K\t|V = 0.6817 kmol/s\t|L = 0.0005 kmol/s\t|T_dew = 559.82\t|T_VLE = 505.65\n",
      "Solved\t|T = 508.15 K\t|V = 0.6596 kmol/s\t|L = 0.0004 kmol/s\t|T_dew = 554.42\t|T_VLE = 508.15\n",
      "Solved\t|T = 510.65 K\t|V = 0.6377 kmol/s\t|L = 0.0002 kmol/s\t|T_dew = 548.69\t|T_VLE = 510.65\n",
      "Solved\t|T = 513.15 K\t|V = 0.6163 kmol/s\t|L = 0.0001 kmol/s\t|T_dew = 542.62\t|T_VLE = 513.15\n",
      "Solved\t|T = 515.65 K\t|V = 0.5958 kmol/s\t|L = 0.0000 kmol/s\t|T_dew = 536.25\t|T_VLE = 515.65\n",
      "Solved\t|T = 518.15 K\t|V = 0.5767 kmol/s\t|L = 0.0000 kmol/s\t|T_dew = 529.59\t|T_VLE = 518.15\n",
      "Solved\t|T = 520.65 K\t|V = 0.5591 kmol/s\t|L = 0.0000 kmol/s\t|T_dew = 522.67\t|T_VLE = 520.64\n",
      "Solved\t|T = 523.15 K\t|V = 0.5434 kmol/s\t|L = 0.0000 kmol/s\t|T_dew = 515.51\t|T_VLE = 515.51\n",
      "Solved\t|T = 525.65 K\t|V = 0.5296 kmol/s\t|L = 0.0000 kmol/s\t|T_dew = 508.16\t|T_VLE = 508.16\n",
      "Solved\t|T = 528.15 K\t|V = 0.5176 kmol/s\t|L = 0.0000 kmol/s\t|T_dew = 500.66\t|T_VLE = 500.66\n",
      "Solved\t|T = 530.65 K\t|V = 0.5074 kmol/s\t|L = 0.0000 kmol/s\t|T_dew = 493.04\t|T_VLE = 493.04\n",
      "Solved\t|T = 533.15 K\t|V = 0.4989 kmol/s\t|L = 0.0000 kmol/s\t|T_dew = 485.36\t|T_VLE = 485.36\n",
      "Solved\t|T = 535.65 K\t|V = 0.4918 kmol/s\t|L = 0.0000 kmol/s\t|T_dew = 477.66\t|T_VLE = 477.66\n",
      "Solved\t|T = 538.15 K\t|V = 0.4860 kmol/s\t|L = 0.0000 kmol/s\t|T_dew = 469.97\t|T_VLE = 469.97\n",
      "Solved\t|T = 540.65 K\t|V = 0.4812 kmol/s\t|L = 0.0000 kmol/s\t|T_dew = 462.33\t|T_VLE = 462.33\n",
      "Solved\t|T = 543.15 K\t|V = 0.4774 kmol/s\t|L = 0.0000 kmol/s\t|T_dew = 454.77\t|T_VLE = 454.77\n",
      "Solved\t|T = 545.65 K\t|V = 0.4744 kmol/s\t|L = 0.0000 kmol/s\t|T_dew = 447.31\t|T_VLE = 447.31\n",
      "Solved\t|T = 548.15 K\t|V = 0.4721 kmol/s\t|L = 0.0000 kmol/s\t|T_dew = 439.98\t|T_VLE = 439.98\n",
      "Solved\t|T = 550.65 K\t|V = 0.4704 kmol/s\t|L = 0.0000 kmol/s\t|T_dew = 432.79\t|T_VLE = 432.79\n",
      "Solved\t|T = 553.15 K\t|V = 0.4691 kmol/s\t|L = 0.0000 kmol/s\t|T_dew = 425.76\t|T_VLE = 425.76\n",
      "Solved\t|T = 555.65 K\t|V = 0.4682 kmol/s\t|L = 0.0000 kmol/s\t|T_dew = 418.90\t|T_VLE = 418.89\n",
      "Solved\t|T = 558.15 K\t|V = 0.4677 kmol/s\t|L = 0.0000 kmol/s\t|T_dew = 412.20\t|T_VLE = 412.20\n",
      "Solved\t|T = 560.65 K\t|V = 0.4674 kmol/s\t|L = 0.0000 kmol/s\t|T_dew = 405.69\t|T_VLE = 405.69\n",
      "Solved\t|T = 563.15 K\t|V = 0.4674 kmol/s\t|L = 0.0000 kmol/s\t|T_dew = 399.36\t|T_VLE = 399.36\n",
      "Solved\t|T = 565.65 K\t|V = 0.4676 kmol/s\t|L = 0.0000 kmol/s\t|T_dew = 393.21\t|T_VLE = 393.21\n",
      "Solved\t|T = 568.15 K\t|V = 0.4679 kmol/s\t|L = 0.0000 kmol/s\t|T_dew = 387.24\t|T_VLE = 387.24\n",
      "Solved\t|T = 570.65 K\t|V = 0.4683 kmol/s\t|L = 0.0000 kmol/s\t|T_dew = 381.46\t|T_VLE = 381.46\n",
      "Solved\t|T = 573.15 K\t|V = 0.4688 kmol/s\t|L = 0.0000 kmol/s\t|T_dew = 375.85\t|T_VLE = 375.85\n",
      "\n",
      "Working on Cat = 300.0 kg\n",
      "------------------------------------------------------------------------------------------------------------\n",
      "Solved\t|T = 473.15 K\t|V = 0.9390 kmol/s\t|L = 0.0006 kmol/s\t|T_dew = 585.96\t|T_VLE = 473.15\n",
      "Solved\t|T = 475.65 K\t|V = 0.9324 kmol/s\t|L = 0.0006 kmol/s\t|T_dew = 585.34\t|T_VLE = 475.65\n",
      "Solved\t|T = 478.15 K\t|V = 0.9252 kmol/s\t|L = 0.0006 kmol/s\t|T_dew = 584.42\t|T_VLE = 478.15\n",
      "Solved\t|T = 480.65 K\t|V = 0.9173 kmol/s\t|L = 0.0006 kmol/s\t|T_dew = 583.17\t|T_VLE = 480.65\n",
      "Solved\t|T = 483.15 K\t|V = 0.9087 kmol/s\t|L = 0.0006 kmol/s\t|T_dew = 581.56\t|T_VLE = 483.15\n",
      "Solved\t|T = 485.65 K\t|V = 0.8995 kmol/s\t|L = 0.0006 kmol/s\t|T_dew = 579.59\t|T_VLE = 485.65\n",
      "Solved\t|T = 488.15 K\t|V = 0.8895 kmol/s\t|L = 0.0006 kmol/s\t|T_dew = 577.22\t|T_VLE = 488.15\n",
      "Solved\t|T = 490.65 K\t|V = 0.8787 kmol/s\t|L = 0.0006 kmol/s\t|T_dew = 574.44\t|T_VLE = 490.65\n",
      "Solved\t|T = 493.15 K\t|V = 0.8670 kmol/s\t|L = 0.0005 kmol/s\t|T_dew = 571.26\t|T_VLE = 493.15\n",
      "Solved\t|T = 495.65 K\t|V = 0.8545 kmol/s\t|L = 0.0005 kmol/s\t|T_dew = 567.68\t|T_VLE = 495.65\n",
      "Solved\t|T = 498.15 K\t|V = 0.8411 kmol/s\t|L = 0.0004 kmol/s\t|T_dew = 563.69\t|T_VLE = 498.15\n",
      "Solved\t|T = 500.65 K\t|V = 0.8268 kmol/s\t|L = 0.0003 kmol/s\t|T_dew = 559.31\t|T_VLE = 500.65\n",
      "Solved\t|T = 503.15 K\t|V = 0.8115 kmol/s\t|L = 0.0002 kmol/s\t|T_dew = 554.57\t|T_VLE = 503.15\n",
      "Solved\t|T = 505.65 K\t|V = 0.7953 kmol/s\t|L = 0.0002 kmol/s\t|T_dew = 549.48\t|T_VLE = 505.65\n",
      "Solved\t|T = 508.15 K\t|V = 0.7782 kmol/s\t|L = 0.0001 kmol/s\t|T_dew = 544.08\t|T_VLE = 508.15\n",
      "Solved\t|T = 510.65 K\t|V = 0.7603 kmol/s\t|L = 0.0000 kmol/s\t|T_dew = 538.39\t|T_VLE = 510.65\n",
      "Solved\t|T = 513.15 K\t|V = 0.7415 kmol/s\t|L = 0.0000 kmol/s\t|T_dew = 532.44\t|T_VLE = 513.15\n",
      "Solved\t|T = 515.65 K\t|V = 0.7220 kmol/s\t|L = 0.0000 kmol/s\t|T_dew = 526.27\t|T_VLE = 515.65\n",
      "Solved\t|T = 518.15 K\t|V = 0.7021 kmol/s\t|L = 0.0000 kmol/s\t|T_dew = 519.90\t|T_VLE = 518.14\n",
      "Solved\t|T = 520.65 K\t|V = 0.6819 kmol/s\t|L = 0.0000 kmol/s\t|T_dew = 513.36\t|T_VLE = 513.36\n",
      "Solved\t|T = 523.15 K\t|V = 0.6617 kmol/s\t|L = 0.0000 kmol/s\t|T_dew = 506.69\t|T_VLE = 506.68\n",
      "Solved\t|T = 525.65 K\t|V = 0.6417 kmol/s\t|L = 0.0000 kmol/s\t|T_dew = 499.89\t|T_VLE = 499.89\n",
      "Solved\t|T = 528.15 K\t|V = 0.6223 kmol/s\t|L = 0.0000 kmol/s\t|T_dew = 493.01\t|T_VLE = 493.01\n",
      "Solved\t|T = 530.65 K\t|V = 0.6039 kmol/s\t|L = 0.0000 kmol/s\t|T_dew = 486.05\t|T_VLE = 486.05\n",
      "Solved\t|T = 533.15 K\t|V = 0.5866 kmol/s\t|L = 0.0000 kmol/s\t|T_dew = 479.04\t|T_VLE = 479.04\n",
      "Solved\t|T = 535.65 K\t|V = 0.5707 kmol/s\t|L = 0.0000 kmol/s\t|T_dew = 471.99\t|T_VLE = 471.98\n",
      "Solved\t|T = 538.15 K\t|V = 0.5564 kmol/s\t|L = 0.0000 kmol/s\t|T_dew = 464.92\t|T_VLE = 464.92\n",
      "Solved\t|T = 540.65 K\t|V = 0.5437 kmol/s\t|L = 0.0000 kmol/s\t|T_dew = 457.86\t|T_VLE = 457.86\n",
      "Solved\t|T = 543.15 K\t|V = 0.5326 kmol/s\t|L = 0.0000 kmol/s\t|T_dew = 450.83\t|T_VLE = 450.83\n",
      "Solved\t|T = 545.65 K\t|V = 0.5230 kmol/s\t|L = 0.0000 kmol/s\t|T_dew = 443.85\t|T_VLE = 443.85\n",
      "Solved\t|T = 548.15 K\t|V = 0.5148 kmol/s\t|L = 0.0000 kmol/s\t|T_dew = 436.94\t|T_VLE = 436.94\n",
      "Solved\t|T = 550.65 K\t|V = 0.5079 kmol/s\t|L = 0.0000 kmol/s\t|T_dew = 430.13\t|T_VLE = 430.13\n",
      "Solved\t|T = 553.15 K\t|V = 0.5020 kmol/s\t|L = 0.0000 kmol/s\t|T_dew = 423.42\t|T_VLE = 423.42\n",
      "Solved\t|T = 555.65 K\t|V = 0.4972 kmol/s\t|L = 0.0000 kmol/s\t|T_dew = 416.84\t|T_VLE = 416.84\n",
      "Solved\t|T = 558.15 K\t|V = 0.4931 kmol/s\t|L = 0.0000 kmol/s\t|T_dew = 410.39\t|T_VLE = 410.39\n",
      "Solved\t|T = 560.65 K\t|V = 0.4899 kmol/s\t|L = 0.0000 kmol/s\t|T_dew = 404.09\t|T_VLE = 404.09\n",
      "Solved\t|T = 563.15 K\t|V = 0.4872 kmol/s\t|L = 0.0000 kmol/s\t|T_dew = 397.95\t|T_VLE = 397.95\n",
      "Solved\t|T = 565.65 K\t|V = 0.4851 kmol/s\t|L = 0.0000 kmol/s\t|T_dew = 391.96\t|T_VLE = 391.96\n",
      "Solved\t|T = 568.15 K\t|V = 0.4834 kmol/s\t|L = 0.0000 kmol/s\t|T_dew = 386.13\t|T_VLE = 386.13\n",
      "Solved\t|T = 570.65 K\t|V = 0.4821 kmol/s\t|L = 0.0000 kmol/s\t|T_dew = 380.47\t|T_VLE = 380.47\n",
      "Solved\t|T = 573.15 K\t|V = 0.4811 kmol/s\t|L = 0.0000 kmol/s\t|T_dew = 374.98\t|T_VLE = 374.98\n",
      "\n",
      "Working on Cat = 100.0 kg\n",
      "------------------------------------------------------------------------------------------------------------\n",
      "Solved\t|T = 473.15 K\t|V = 0.9795 kmol/s\t|L = 0.0001 kmol/s\t|T_dew = 568.98\t|T_VLE = 473.15\n",
      "Solved\t|T = 475.65 K\t|V = 0.9773 kmol/s\t|L = 0.0002 kmol/s\t|T_dew = 568.23\t|T_VLE = 475.65\n",
      "Solved\t|T = 478.15 K\t|V = 0.9748 kmol/s\t|L = 0.0002 kmol/s\t|T_dew = 567.18\t|T_VLE = 478.15\n",
      "Solved\t|T = 480.65 K\t|V = 0.9721 kmol/s\t|L = 0.0002 kmol/s\t|T_dew = 565.81\t|T_VLE = 480.65\n",
      "Solved\t|T = 483.15 K\t|V = 0.9692 kmol/s\t|L = 0.0001 kmol/s\t|T_dew = 564.09\t|T_VLE = 483.15\n",
      "Solved\t|T = 485.65 K\t|V = 0.9660 kmol/s\t|L = 0.0001 kmol/s\t|T_dew = 562.00\t|T_VLE = 485.65\n",
      "Solved\t|T = 488.15 K\t|V = 0.9625 kmol/s\t|L = 0.0001 kmol/s\t|T_dew = 559.53\t|T_VLE = 488.15\n",
      "Solved\t|T = 490.65 K\t|V = 0.9588 kmol/s\t|L = 0.0001 kmol/s\t|T_dew = 556.67\t|T_VLE = 490.65\n",
      "Solved\t|T = 493.15 K\t|V = 0.9547 kmol/s\t|L = 0.0001 kmol/s\t|T_dew = 553.41\t|T_VLE = 493.15\n",
      "Solved\t|T = 495.65 K\t|V = 0.9502 kmol/s\t|L = 0.0001 kmol/s\t|T_dew = 549.75\t|T_VLE = 495.65\n"
     ]
    },
    {
     "name": "stdout",
     "output_type": "stream",
     "text": [
      "Solved\t|T = 498.15 K\t|V = 0.9454 kmol/s\t|L = 0.0001 kmol/s\t|T_dew = 545.71\t|T_VLE = 498.15\n",
      "Solved\t|T = 500.65 K\t|V = 0.9402 kmol/s\t|L = 0.0000 kmol/s\t|T_dew = 541.29\t|T_VLE = 500.65\n",
      "Solved\t|T = 503.15 K\t|V = 0.9346 kmol/s\t|L = 0.0000 kmol/s\t|T_dew = 536.52\t|T_VLE = 503.15\n",
      "Solved\t|T = 505.65 K\t|V = 0.9285 kmol/s\t|L = 0.0000 kmol/s\t|T_dew = 531.42\t|T_VLE = 505.65\n",
      "Solved\t|T = 508.15 K\t|V = 0.9219 kmol/s\t|L = 0.0000 kmol/s\t|T_dew = 526.02\t|T_VLE = 508.15\n",
      "Solved\t|T = 510.65 K\t|V = 0.9148 kmol/s\t|L = 0.0000 kmol/s\t|T_dew = 520.35\t|T_VLE = 510.65\n",
      "Solved\t|T = 513.15 K\t|V = 0.9072 kmol/s\t|L = 0.0000 kmol/s\t|T_dew = 514.44\t|T_VLE = 513.13\n",
      "Solved\t|T = 515.65 K\t|V = 0.8990 kmol/s\t|L = 0.0000 kmol/s\t|T_dew = 508.32\t|T_VLE = 508.32\n",
      "Solved\t|T = 518.15 K\t|V = 0.8902 kmol/s\t|L = 0.0000 kmol/s\t|T_dew = 502.04\t|T_VLE = 502.03\n",
      "Solved\t|T = 520.65 K\t|V = 0.8808 kmol/s\t|L = 0.0000 kmol/s\t|T_dew = 495.61\t|T_VLE = 495.61\n",
      "Solved\t|T = 523.15 K\t|V = 0.8707 kmol/s\t|L = 0.0000 kmol/s\t|T_dew = 489.08\t|T_VLE = 489.08\n",
      "Solved\t|T = 525.65 K\t|V = 0.8600 kmol/s\t|L = 0.0000 kmol/s\t|T_dew = 482.48\t|T_VLE = 482.48\n",
      "Solved\t|T = 528.15 K\t|V = 0.8487 kmol/s\t|L = 0.0000 kmol/s\t|T_dew = 475.84\t|T_VLE = 475.84\n",
      "Solved\t|T = 530.65 K\t|V = 0.8366 kmol/s\t|L = 0.0000 kmol/s\t|T_dew = 469.18\t|T_VLE = 469.18\n",
      "Solved\t|T = 533.15 K\t|V = 0.8238 kmol/s\t|L = 0.0000 kmol/s\t|T_dew = 462.54\t|T_VLE = 462.54\n",
      "Solved\t|T = 535.65 K\t|V = 0.8103 kmol/s\t|L = 0.0000 kmol/s\t|T_dew = 455.92\t|T_VLE = 455.92\n",
      "Solved\t|T = 538.15 K\t|V = 0.7962 kmol/s\t|L = 0.0000 kmol/s\t|T_dew = 449.37\t|T_VLE = 449.37\n",
      "Solved\t|T = 540.65 K\t|V = 0.7814 kmol/s\t|L = 0.0000 kmol/s\t|T_dew = 442.88\t|T_VLE = 442.88\n",
      "Solved\t|T = 543.15 K\t|V = 0.7660 kmol/s\t|L = 0.0000 kmol/s\t|T_dew = 436.49\t|T_VLE = 436.49\n",
      "Solved\t|T = 545.65 K\t|V = 0.7501 kmol/s\t|L = 0.0000 kmol/s\t|T_dew = 430.19\t|T_VLE = 430.19\n",
      "Solved\t|T = 548.15 K\t|V = 0.7337 kmol/s\t|L = 0.0000 kmol/s\t|T_dew = 424.01\t|T_VLE = 424.01\n",
      "Solved\t|T = 550.65 K\t|V = 0.7170 kmol/s\t|L = 0.0000 kmol/s\t|T_dew = 417.95\t|T_VLE = 417.94\n",
      "Solved\t|T = 553.15 K\t|V = 0.7002 kmol/s\t|L = 0.0000 kmol/s\t|T_dew = 412.01\t|T_VLE = 412.01\n",
      "Solved\t|T = 555.65 K\t|V = 0.6833 kmol/s\t|L = 0.0000 kmol/s\t|T_dew = 406.20\t|T_VLE = 406.20\n",
      "Solved\t|T = 558.15 K\t|V = 0.6666 kmol/s\t|L = 0.0000 kmol/s\t|T_dew = 400.52\t|T_VLE = 400.52\n",
      "Solved\t|T = 560.65 K\t|V = 0.6502 kmol/s\t|L = 0.0000 kmol/s\t|T_dew = 394.97\t|T_VLE = 394.97\n",
      "Solved\t|T = 563.15 K\t|V = 0.6344 kmol/s\t|L = 0.0000 kmol/s\t|T_dew = 389.56\t|T_VLE = 389.56\n",
      "Solved\t|T = 565.65 K\t|V = 0.6193 kmol/s\t|L = 0.0000 kmol/s\t|T_dew = 384.27\t|T_VLE = 384.27\n",
      "Solved\t|T = 568.15 K\t|V = 0.6051 kmol/s\t|L = 0.0000 kmol/s\t|T_dew = 379.11\t|T_VLE = 379.11\n",
      "Solved\t|T = 570.65 K\t|V = 0.5920 kmol/s\t|L = 0.0000 kmol/s\t|T_dew = 374.07\t|T_VLE = 374.07\n",
      "Solved\t|T = 573.15 K\t|V = 0.5799 kmol/s\t|L = 0.0000 kmol/s\t|T_dew = 369.16\t|T_VLE = 369.16\n",
      "\n",
      "Working on Cat = 50.0 kg\n",
      "------------------------------------------------------------------------------------------------------------\n",
      "Solved\t|T = 473.15 K\t|V = 0.9898 kmol/s\t|L = 0.0001 kmol/s\t|T_dew = 559.18\t|T_VLE = 473.15\n",
      "Solved\t|T = 475.65 K\t|V = 0.9886 kmol/s\t|L = 0.0001 kmol/s\t|T_dew = 558.40\t|T_VLE = 475.65\n",
      "Solved\t|T = 478.15 K\t|V = 0.9874 kmol/s\t|L = 0.0001 kmol/s\t|T_dew = 557.32\t|T_VLE = 478.15\n",
      "Solved\t|T = 480.65 K\t|V = 0.9860 kmol/s\t|L = 0.0001 kmol/s\t|T_dew = 555.93\t|T_VLE = 480.65\n",
      "Solved\t|T = 483.15 K\t|V = 0.9846 kmol/s\t|L = 0.0001 kmol/s\t|T_dew = 554.19\t|T_VLE = 483.15\n",
      "Solved\t|T = 485.65 K\t|V = 0.9830 kmol/s\t|L = 0.0001 kmol/s\t|T_dew = 552.10\t|T_VLE = 485.65\n",
      "Solved\t|T = 488.15 K\t|V = 0.9812 kmol/s\t|L = 0.0000 kmol/s\t|T_dew = 549.64\t|T_VLE = 488.15\n",
      "Solved\t|T = 490.65 K\t|V = 0.9793 kmol/s\t|L = 0.0000 kmol/s\t|T_dew = 546.79\t|T_VLE = 490.65\n",
      "Solved\t|T = 493.15 K\t|V = 0.9772 kmol/s\t|L = 0.0000 kmol/s\t|T_dew = 543.56\t|T_VLE = 493.15\n",
      "Solved\t|T = 495.65 K\t|V = 0.9750 kmol/s\t|L = 0.0000 kmol/s\t|T_dew = 539.94\t|T_VLE = 495.65\n",
      "Solved\t|T = 498.15 K\t|V = 0.9725 kmol/s\t|L = 0.0000 kmol/s\t|T_dew = 535.95\t|T_VLE = 498.15\n",
      "Solved\t|T = 500.65 K\t|V = 0.9699 kmol/s\t|L = 0.0000 kmol/s\t|T_dew = 531.60\t|T_VLE = 500.65\n",
      "Solved\t|T = 503.15 K\t|V = 0.9670 kmol/s\t|L = 0.0000 kmol/s\t|T_dew = 526.90\t|T_VLE = 503.15\n",
      "Solved\t|T = 505.65 K\t|V = 0.9639 kmol/s\t|L = 0.0000 kmol/s\t|T_dew = 521.89\t|T_VLE = 505.65\n",
      "Solved\t|T = 508.15 K\t|V = 0.9605 kmol/s\t|L = 0.0000 kmol/s\t|T_dew = 516.58\t|T_VLE = 508.15\n",
      "Solved\t|T = 510.65 K\t|V = 0.9569 kmol/s\t|L = 0.0000 kmol/s\t|T_dew = 511.01\t|T_VLE = 510.59\n",
      "Solved\t|T = 513.15 K\t|V = 0.9529 kmol/s\t|L = 0.0000 kmol/s\t|T_dew = 505.21\t|T_VLE = 505.21\n",
      "Solved\t|T = 515.65 K\t|V = 0.9487 kmol/s\t|L = 0.0000 kmol/s\t|T_dew = 499.21\t|T_VLE = 499.21\n",
      "Solved\t|T = 518.15 K\t|V = 0.9441 kmol/s\t|L = 0.0000 kmol/s\t|T_dew = 493.04\t|T_VLE = 493.04\n",
      "Solved\t|T = 520.65 K\t|V = 0.9392 kmol/s\t|L = 0.0000 kmol/s\t|T_dew = 486.73\t|T_VLE = 486.73\n",
      "Solved\t|T = 523.15 K\t|V = 0.9339 kmol/s\t|L = 0.0000 kmol/s\t|T_dew = 480.33\t|T_VLE = 480.32\n",
      "Solved\t|T = 525.65 K\t|V = 0.9282 kmol/s\t|L = 0.0000 kmol/s\t|T_dew = 473.84\t|T_VLE = 473.84\n",
      "Solved\t|T = 528.15 K\t|V = 0.9221 kmol/s\t|L = 0.0000 kmol/s\t|T_dew = 467.32\t|T_VLE = 467.32\n",
      "Solved\t|T = 530.65 K\t|V = 0.9156 kmol/s\t|L = 0.0000 kmol/s\t|T_dew = 460.77\t|T_VLE = 460.77\n",
      "Solved\t|T = 533.15 K\t|V = 0.9086 kmol/s\t|L = 0.0000 kmol/s\t|T_dew = 454.23\t|T_VLE = 454.23\n",
      "Solved\t|T = 535.65 K\t|V = 0.9011 kmol/s\t|L = 0.0000 kmol/s\t|T_dew = 447.72\t|T_VLE = 447.72\n",
      "Solved\t|T = 538.15 K\t|V = 0.8931 kmol/s\t|L = 0.0000 kmol/s\t|T_dew = 441.26\t|T_VLE = 441.26\n",
      "Solved\t|T = 540.65 K\t|V = 0.8846 kmol/s\t|L = 0.0000 kmol/s\t|T_dew = 434.86\t|T_VLE = 434.86\n",
      "Solved\t|T = 543.15 K\t|V = 0.8756 kmol/s\t|L = 0.0000 kmol/s\t|T_dew = 428.55\t|T_VLE = 428.55\n",
      "Solved\t|T = 545.65 K\t|V = 0.8659 kmol/s\t|L = 0.0000 kmol/s\t|T_dew = 422.32\t|T_VLE = 422.32\n",
      "Solved\t|T = 548.15 K\t|V = 0.8557 kmol/s\t|L = 0.0000 kmol/s\t|T_dew = 416.21\t|T_VLE = 416.21\n",
      "Solved\t|T = 550.65 K\t|V = 0.8450 kmol/s\t|L = 0.0000 kmol/s\t|T_dew = 410.21\t|T_VLE = 410.21\n",
      "Solved\t|T = 553.15 K\t|V = 0.8336 kmol/s\t|L = 0.0000 kmol/s\t|T_dew = 404.33\t|T_VLE = 404.33\n",
      "Solved\t|T = 555.65 K\t|V = 0.8216 kmol/s\t|L = 0.0000 kmol/s\t|T_dew = 398.59\t|T_VLE = 398.59\n",
      "Solved\t|T = 558.15 K\t|V = 0.8091 kmol/s\t|L = 0.0000 kmol/s\t|T_dew = 392.98\t|T_VLE = 392.98\n",
      "Solved\t|T = 560.65 K\t|V = 0.7960 kmol/s\t|L = 0.0000 kmol/s\t|T_dew = 387.51\t|T_VLE = 387.51\n",
      "Solved\t|T = 563.15 K\t|V = 0.7824 kmol/s\t|L = 0.0000 kmol/s\t|T_dew = 382.18\t|T_VLE = 382.18\n",
      "Solved\t|T = 565.65 K\t|V = 0.7683 kmol/s\t|L = 0.0000 kmol/s\t|T_dew = 376.99\t|T_VLE = 376.99\n",
      "Solved\t|T = 568.15 K\t|V = 0.7538 kmol/s\t|L = 0.0000 kmol/s\t|T_dew = 371.95\t|T_VLE = 371.95\n",
      "Solved\t|T = 570.65 K\t|V = 0.7390 kmol/s\t|L = 0.0000 kmol/s\t|T_dew = 367.06\t|T_VLE = 367.06\n",
      "Solved\t|T = 573.15 K\t|V = 0.7239 kmol/s\t|L = 0.0000 kmol/s\t|T_dew = 362.31\t|T_VLE = 362.31\n",
      "\n",
      "Working on Cat = 25.0 kg\n",
      "------------------------------------------------------------------------------------------------------------\n",
      "Solved\t|T = 473.15 K\t|V = 0.9949 kmol/s\t|L = 0.0000 kmol/s\t|T_dew = 549.91\t|T_VLE = 473.15\n",
      "Solved\t|T = 475.65 K\t|V = 0.9943 kmol/s\t|L = 0.0000 kmol/s\t|T_dew = 549.11\t|T_VLE = 475.65\n",
      "Solved\t|T = 478.15 K\t|V = 0.9937 kmol/s\t|L = 0.0000 kmol/s\t|T_dew = 548.03\t|T_VLE = 478.15\n",
      "Solved\t|T = 480.65 K\t|V = 0.9930 kmol/s\t|L = 0.0000 kmol/s\t|T_dew = 546.63\t|T_VLE = 480.65\n",
      "Solved\t|T = 483.15 K\t|V = 0.9923 kmol/s\t|L = 0.0000 kmol/s\t|T_dew = 544.91\t|T_VLE = 483.15\n",
      "Solved\t|T = 485.65 K\t|V = 0.9915 kmol/s\t|L = 0.0000 kmol/s\t|T_dew = 542.84\t|T_VLE = 485.65\n",
      "Solved\t|T = 488.15 K\t|V = 0.9906 kmol/s\t|L = 0.0000 kmol/s\t|T_dew = 540.40\t|T_VLE = 488.15\n",
      "Solved\t|T = 490.65 K\t|V = 0.9896 kmol/s\t|L = 0.0000 kmol/s\t|T_dew = 537.60\t|T_VLE = 490.65\n",
      "Solved\t|T = 493.15 K\t|V = 0.9886 kmol/s\t|L = 0.0000 kmol/s\t|T_dew = 534.42\t|T_VLE = 493.15\n",
      "Solved\t|T = 495.65 K\t|V = 0.9875 kmol/s\t|L = 0.0000 kmol/s\t|T_dew = 530.87\t|T_VLE = 495.65\n",
      "Solved\t|T = 498.15 K\t|V = 0.9862 kmol/s\t|L = 0.0000 kmol/s\t|T_dew = 526.96\t|T_VLE = 498.15\n",
      "Solved\t|T = 500.65 K\t|V = 0.9849 kmol/s\t|L = 0.0000 kmol/s\t|T_dew = 522.70\t|T_VLE = 500.65\n",
      "Solved\t|T = 503.15 K\t|V = 0.9834 kmol/s\t|L = 0.0000 kmol/s\t|T_dew = 518.11\t|T_VLE = 503.15\n",
      "Solved\t|T = 505.65 K\t|V = 0.9819 kmol/s\t|L = 0.0000 kmol/s\t|T_dew = 513.21\t|T_VLE = 505.65\n",
      "Solved\t|T = 508.15 K\t|V = 0.9802 kmol/s\t|L = 0.0000 kmol/s\t|T_dew = 508.03\t|T_VLE = 507.92\n",
      "Solved\t|T = 510.65 K\t|V = 0.9783 kmol/s\t|L = 0.0000 kmol/s\t|T_dew = 502.59\t|T_VLE = 502.59\n"
     ]
    },
    {
     "name": "stdout",
     "output_type": "stream",
     "text": [
      "Solved\t|T = 513.15 K\t|V = 0.9763 kmol/s\t|L = 0.0000 kmol/s\t|T_dew = 496.93\t|T_VLE = 496.93\n",
      "Solved\t|T = 515.65 K\t|V = 0.9742 kmol/s\t|L = 0.0000 kmol/s\t|T_dew = 491.08\t|T_VLE = 491.07\n",
      "Solved\t|T = 518.15 K\t|V = 0.9718 kmol/s\t|L = 0.0000 kmol/s\t|T_dew = 485.06\t|T_VLE = 485.05\n",
      "Solved\t|T = 520.65 K\t|V = 0.9693 kmol/s\t|L = 0.0000 kmol/s\t|T_dew = 478.90\t|T_VLE = 478.90\n",
      "Solved\t|T = 523.15 K\t|V = 0.9666 kmol/s\t|L = 0.0000 kmol/s\t|T_dew = 472.65\t|T_VLE = 472.65\n",
      "Solved\t|T = 525.65 K\t|V = 0.9637 kmol/s\t|L = 0.0000 kmol/s\t|T_dew = 466.32\t|T_VLE = 466.32\n",
      "Solved\t|T = 528.15 K\t|V = 0.9606 kmol/s\t|L = 0.0000 kmol/s\t|T_dew = 459.94\t|T_VLE = 459.94\n",
      "Solved\t|T = 530.65 K\t|V = 0.9572 kmol/s\t|L = 0.0000 kmol/s\t|T_dew = 453.54\t|T_VLE = 453.54\n",
      "Solved\t|T = 533.15 K\t|V = 0.9536 kmol/s\t|L = 0.0000 kmol/s\t|T_dew = 447.15\t|T_VLE = 447.15\n",
      "Solved\t|T = 535.65 K\t|V = 0.9497 kmol/s\t|L = 0.0000 kmol/s\t|T_dew = 440.77\t|T_VLE = 440.77\n",
      "Solved\t|T = 538.15 K\t|V = 0.9455 kmol/s\t|L = 0.0000 kmol/s\t|T_dew = 434.44\t|T_VLE = 434.44\n",
      "Solved\t|T = 540.65 K\t|V = 0.9411 kmol/s\t|L = 0.0000 kmol/s\t|T_dew = 428.16\t|T_VLE = 428.16\n",
      "Solved\t|T = 543.15 K\t|V = 0.9363 kmol/s\t|L = 0.0000 kmol/s\t|T_dew = 421.96\t|T_VLE = 421.96\n",
      "Solved\t|T = 545.65 K\t|V = 0.9311 kmol/s\t|L = 0.0000 kmol/s\t|T_dew = 415.84\t|T_VLE = 415.84\n",
      "Solved\t|T = 548.15 K\t|V = 0.9256 kmol/s\t|L = 0.0000 kmol/s\t|T_dew = 409.82\t|T_VLE = 409.82\n",
      "Solved\t|T = 550.65 K\t|V = 0.9198 kmol/s\t|L = 0.0000 kmol/s\t|T_dew = 403.91\t|T_VLE = 403.91\n",
      "Solved\t|T = 553.15 K\t|V = 0.9135 kmol/s\t|L = 0.0000 kmol/s\t|T_dew = 398.11\t|T_VLE = 398.11\n",
      "Solved\t|T = 555.65 K\t|V = 0.9069 kmol/s\t|L = 0.0000 kmol/s\t|T_dew = 392.42\t|T_VLE = 392.42\n",
      "Solved\t|T = 558.15 K\t|V = 0.8998 kmol/s\t|L = 0.0000 kmol/s\t|T_dew = 386.86\t|T_VLE = 386.86\n",
      "Solved\t|T = 560.65 K\t|V = 0.8923 kmol/s\t|L = 0.0000 kmol/s\t|T_dew = 381.43\t|T_VLE = 381.43\n",
      "Solved\t|T = 563.15 K\t|V = 0.8843 kmol/s\t|L = 0.0000 kmol/s\t|T_dew = 376.13\t|T_VLE = 376.13\n",
      "Solved\t|T = 565.65 K\t|V = 0.8758 kmol/s\t|L = 0.0000 kmol/s\t|T_dew = 370.97\t|T_VLE = 370.97\n",
      "Solved\t|T = 568.15 K\t|V = 0.8669 kmol/s\t|L = 0.0000 kmol/s\t|T_dew = 365.93\t|T_VLE = 365.93\n",
      "Solved\t|T = 570.65 K\t|V = 0.8575 kmol/s\t|L = 0.0000 kmol/s\t|T_dew = 361.04\t|T_VLE = 361.04\n",
      "Solved\t|T = 573.15 K\t|V = 0.8476 kmol/s\t|L = 0.0000 kmol/s\t|T_dew = 356.28\t|T_VLE = 356.28\n",
      "\n",
      "Working on Cat = 10.0 kg\n",
      "------------------------------------------------------------------------------------------------------------\n",
      "Solved\t|T = 473.15 K\t|V = 0.9980 kmol/s\t|L = 0.0000 kmol/s\t|T_dew = 538.34\t|T_VLE = 473.15\n",
      "Solved\t|T = 475.65 K\t|V = 0.9977 kmol/s\t|L = 0.0000 kmol/s\t|T_dew = 537.54\t|T_VLE = 475.65\n",
      "Solved\t|T = 478.15 K\t|V = 0.9975 kmol/s\t|L = 0.0000 kmol/s\t|T_dew = 536.46\t|T_VLE = 478.15\n",
      "Solved\t|T = 480.65 K\t|V = 0.9972 kmol/s\t|L = 0.0000 kmol/s\t|T_dew = 535.08\t|T_VLE = 480.65\n",
      "Solved\t|T = 483.15 K\t|V = 0.9969 kmol/s\t|L = 0.0000 kmol/s\t|T_dew = 533.39\t|T_VLE = 483.15\n",
      "Solved\t|T = 485.65 K\t|V = 0.9966 kmol/s\t|L = 0.0000 kmol/s\t|T_dew = 531.37\t|T_VLE = 485.65\n",
      "Solved\t|T = 488.15 K\t|V = 0.9962 kmol/s\t|L = 0.0000 kmol/s\t|T_dew = 529.00\t|T_VLE = 488.15\n",
      "Solved\t|T = 490.65 K\t|V = 0.9959 kmol/s\t|L = 0.0000 kmol/s\t|T_dew = 526.27\t|T_VLE = 490.65\n",
      "Solved\t|T = 493.15 K\t|V = 0.9954 kmol/s\t|L = 0.0000 kmol/s\t|T_dew = 523.18\t|T_VLE = 493.15\n",
      "Solved\t|T = 495.65 K\t|V = 0.9950 kmol/s\t|L = 0.0000 kmol/s\t|T_dew = 519.75\t|T_VLE = 495.65\n",
      "Solved\t|T = 498.15 K\t|V = 0.9945 kmol/s\t|L = 0.0000 kmol/s\t|T_dew = 515.96\t|T_VLE = 498.15\n",
      "Solved\t|T = 500.65 K\t|V = 0.9939 kmol/s\t|L = 0.0000 kmol/s\t|T_dew = 511.84\t|T_VLE = 500.65\n",
      "Solved\t|T = 503.15 K\t|V = 0.9934 kmol/s\t|L = 0.0000 kmol/s\t|T_dew = 507.41\t|T_VLE = 503.14\n",
      "Solved\t|T = 505.65 K\t|V = 0.9927 kmol/s\t|L = 0.0000 kmol/s\t|T_dew = 502.68\t|T_VLE = 502.67\n",
      "Solved\t|T = 508.15 K\t|V = 0.9920 kmol/s\t|L = 0.0000 kmol/s\t|T_dew = 497.68\t|T_VLE = 497.68\n",
      "Solved\t|T = 510.65 K\t|V = 0.9913 kmol/s\t|L = 0.0000 kmol/s\t|T_dew = 492.44\t|T_VLE = 492.43\n",
      "Solved\t|T = 513.15 K\t|V = 0.9905 kmol/s\t|L = 0.0000 kmol/s\t|T_dew = 486.98\t|T_VLE = 486.97\n",
      "Solved\t|T = 515.65 K\t|V = 0.9896 kmol/s\t|L = 0.0000 kmol/s\t|T_dew = 481.33\t|T_VLE = 481.33\n",
      "Solved\t|T = 518.15 K\t|V = 0.9887 kmol/s\t|L = 0.0000 kmol/s\t|T_dew = 475.52\t|T_VLE = 475.52\n",
      "Solved\t|T = 520.65 K\t|V = 0.9877 kmol/s\t|L = 0.0000 kmol/s\t|T_dew = 469.59\t|T_VLE = 469.59\n",
      "Solved\t|T = 523.15 K\t|V = 0.9866 kmol/s\t|L = 0.0000 kmol/s\t|T_dew = 463.55\t|T_VLE = 463.55\n",
      "Solved\t|T = 525.65 K\t|V = 0.9854 kmol/s\t|L = 0.0000 kmol/s\t|T_dew = 457.44\t|T_VLE = 457.44\n",
      "Solved\t|T = 528.15 K\t|V = 0.9841 kmol/s\t|L = 0.0000 kmol/s\t|T_dew = 451.28\t|T_VLE = 451.28\n",
      "Solved\t|T = 530.65 K\t|V = 0.9828 kmol/s\t|L = 0.0000 kmol/s\t|T_dew = 445.10\t|T_VLE = 445.10\n",
      "Solved\t|T = 533.15 K\t|V = 0.9813 kmol/s\t|L = 0.0000 kmol/s\t|T_dew = 438.91\t|T_VLE = 438.91\n",
      "Solved\t|T = 535.65 K\t|V = 0.9797 kmol/s\t|L = 0.0000 kmol/s\t|T_dew = 432.74\t|T_VLE = 432.74\n",
      "Solved\t|T = 538.15 K\t|V = 0.9780 kmol/s\t|L = 0.0000 kmol/s\t|T_dew = 426.60\t|T_VLE = 426.60\n",
      "Solved\t|T = 540.65 K\t|V = 0.9761 kmol/s\t|L = 0.0000 kmol/s\t|T_dew = 420.52\t|T_VLE = 420.52\n",
      "Solved\t|T = 543.15 K\t|V = 0.9742 kmol/s\t|L = 0.0000 kmol/s\t|T_dew = 414.49\t|T_VLE = 414.49\n",
      "Solved\t|T = 545.65 K\t|V = 0.9721 kmol/s\t|L = 0.0000 kmol/s\t|T_dew = 408.55\t|T_VLE = 408.55\n",
      "Solved\t|T = 548.15 K\t|V = 0.9698 kmol/s\t|L = 0.0000 kmol/s\t|T_dew = 402.68\t|T_VLE = 402.68\n",
      "Solved\t|T = 550.65 K\t|V = 0.9673 kmol/s\t|L = 0.0000 kmol/s\t|T_dew = 396.92\t|T_VLE = 396.92\n",
      "Solved\t|T = 553.15 K\t|V = 0.9647 kmol/s\t|L = 0.0000 kmol/s\t|T_dew = 391.26\t|T_VLE = 391.26\n",
      "Solved\t|T = 555.65 K\t|V = 0.9619 kmol/s\t|L = 0.0000 kmol/s\t|T_dew = 385.70\t|T_VLE = 385.70\n",
      "Solved\t|T = 558.15 K\t|V = 0.9589 kmol/s\t|L = 0.0000 kmol/s\t|T_dew = 380.26\t|T_VLE = 380.26\n",
      "Solved\t|T = 560.65 K\t|V = 0.9558 kmol/s\t|L = 0.0000 kmol/s\t|T_dew = 374.93\t|T_VLE = 374.93\n",
      "Solved\t|T = 563.15 K\t|V = 0.9523 kmol/s\t|L = 0.0000 kmol/s\t|T_dew = 369.72\t|T_VLE = 369.72\n",
      "Solved\t|T = 565.65 K\t|V = 0.9487 kmol/s\t|L = 0.0000 kmol/s\t|T_dew = 364.63\t|T_VLE = 364.63\n",
      "Solved\t|T = 568.15 K\t|V = 0.9448 kmol/s\t|L = 0.0000 kmol/s\t|T_dew = 359.67\t|T_VLE = 359.67\n",
      "Solved\t|T = 570.65 K\t|V = 0.9407 kmol/s\t|L = 0.0000 kmol/s\t|T_dew = 354.82\t|T_VLE = 354.82\n",
      "Solved\t|T = 573.15 K\t|V = 0.9363 kmol/s\t|L = 0.0000 kmol/s\t|T_dew = 350.10\t|T_VLE = 350.10\n"
     ]
    }
   ],
   "source": [
    "rf_data_master = {}\n",
    "\n",
    "for c in catrange:\n",
    "    model.del_component(model.obj)\n",
    "    model.obj = pe.Objective(expr = model.cat ,sense=pe.minimize)\n",
    "\n",
    "    model.solutions.load_from(results_anchor)\n",
    "    update_dual(pe,model) \n",
    "       \n",
    "    model.T.fix(200+273.15)\n",
    "    model.cat.fixed = False\n",
    "    model.cat.setlb(c)\n",
    "    \n",
    "    results_anchor = opt.solve(model,tee=False)\n",
    "    model.solutions.store_to(results_anchor)\n",
    "    update_dual(pe,model)\n",
    "    \n",
    "    model.del_component(model.obj)\n",
    "    model.obj = pe.Objective(expr = model.T ,sense=pe.maximize)\n",
    "    model.T.fixed = False\n",
    "    model.cat.fixed = True\n",
    "    \n",
    "    \n",
    "    print('\\nWorking on Cat = {} kg'.format(model.cat.value))\n",
    "    print('-'*108)\n",
    "    \n",
    "    rf_data = {}\n",
    "    rf_data['x'] = {};rf_data['y'] = {};\n",
    "    rf_data['T'] = []; rf_data['Q'] = []; rf_data['V'] = []; rf_data['L'] = []; \n",
    "    rf_data['T_VLE'] = []; rf_data['T_dew'] = [];\n",
    "    for i in m.COMP_TOTAL:\n",
    "        rf_data['x'][i] = []\n",
    "        rf_data['y'][i] = []       \n",
    "\n",
    "    for t in Trange:\n",
    "        model.T.setub(t)\n",
    "        results = opt.solve(model,tee=False)\n",
    "        update_dual(pe,model)\n",
    "        model.T.setub(300+273.15)\n",
    "        print('Solved\\t|T = {:.2f} K\\t|V = {:.4f} kmol/s\\t|L = {:.4f} kmol/s\\t|T_dew = {:.2f}\\t|T_VLE = {:.2f}'.\\\n",
    "              format(model.T.value,model.V['out'].value,model.L['out'].value,model.MPCC.T.value,model.VLE_block.T_VLE.value))\n",
    "    \n",
    "        rf_data['T'].append(model.T.value)\n",
    "        rf_data['Q'].append(model.Q_main.value)\n",
    "        rf_data['V'].append(model.V['out'].value)\n",
    "        rf_data['L'].append(model.L['out'].value)\n",
    "        rf_data['T_VLE'].append(model.VLE_block.T_VLE.value)\n",
    "        rf_data['T_dew'].append(model.MPCC.T.value)\n",
    "\n",
    "        for i in m.COMP_TOTAL:\n",
    "            rf_data['x'][i].append(model.x[i].value)\n",
    "            rf_data['y'][i].append(model.y[i].value)\n",
    "        \n",
    "    rf_data_master[c] = rf_data"
   ]
  },
  {
   "cell_type": "markdown",
   "metadata": {},
   "source": [
    "# Optimization results across disappearing phases"
   ]
  },
  {
   "cell_type": "code",
   "execution_count": null,
   "metadata": {},
   "outputs": [],
   "source": [
    "fig, (ax1,ax2) = plt.subplots(1,2,figsize=(16,9))\n",
    "for c in catrange:\n",
    "    ax1.plot(Trange,rf_data_master[c]['V'])\n",
    "ax1.set_ylabel('Vapor Flow Rate (kmol/s)',fontsize=14)\n",
    "ax1.set_xlabel('Temperature (K)',fontsize=14)\n",
    "ax1.tick_params(labelsize=14)\n",
    "ax1.grid()\n",
    "\n",
    "for c in catrange:\n",
    "    ax2.plot(Trange,rf_data_master[c]['L'])\n",
    "ax2.set_ylabel('Liquid Flow Rate (kmol/s)',fontsize=14)\n",
    "ax2.set_xlabel('Temperature (K)',fontsize=14)\n",
    "ax2.tick_params(labelsize=14)\n",
    "ax2.grid()\n",
    "\n",
    "ax2.legend(catrange,fontsize=14)\n",
    "fig.suptitle('Vapor and Liquid Flow Rate',fontsize=18)\n",
    "\n",
    "plt.show()"
   ]
  },
  {
   "cell_type": "code",
   "execution_count": null,
   "metadata": {},
   "outputs": [],
   "source": [
    "fig, ax1 = plt.subplots(figsize=(16,9))\n",
    "for c in catrange:\n",
    "    ax1.plot(Trange,np.divide(rf_data_master[c]['V'],np.add(rf_data_master[c]['V'],rf_data_master[c]['L'])))\n",
    "ax1.set_ylabel('Vapor Fraction',fontsize=14)\n",
    "ax1.set_xlabel('Temperature (K)',fontsize=14)\n",
    "ax1.tick_params(labelsize=14)\n",
    "ax1.legend(catrange,fontsize=14)\n",
    "ax1.set_title('Vapor Fraction',fontsize=18)\n",
    "ax1.grid()\n",
    "plt.show()"
   ]
  },
  {
   "cell_type": "code",
   "execution_count": null,
   "metadata": {},
   "outputs": [],
   "source": [
    "fig, (ax1,ax2) = plt.subplots(1,2,figsize=(16,9))\n",
    "for c in catrange:\n",
    "    ax1.plot(Trange,rf_data_master[c]['T_dew'])\n",
    "ax1.plot(Trange,rf_data_master[c]['T'],'k--',linewidth=4,alpha=0.4)\n",
    "ax1.set_ylabel('Temperature (K)',fontsize=14)\n",
    "ax1.set_xlabel('Temperature (K)',fontsize=14)\n",
    "ax1.set_ylim(350,650)\n",
    "ax1.tick_params(labelsize=14)\n",
    "ax1.grid()\n",
    "\n",
    "for c in catrange:\n",
    "    ax2.plot(Trange,rf_data_master[c]['T_VLE'])\n",
    "# ax2.set_ylabel('Liquid Flow Rate (kmol/s)',fontsize=14)\n",
    "ax2.set_xlabel('Temperature (K)',fontsize=14)\n",
    "ax2.set_ylim(350,650)\n",
    "ax2.tick_params(labelsize=14)\n",
    "ax2.grid()\n",
    "\n",
    "ax2.legend(catrange,fontsize=14)\n",
    "ax2.plot(Trange,rf_data_master[c]['T'],'k--',linewidth=4,alpha=0.4)\n",
    "ax1.set_title('T_dew',fontsize=18)\n",
    "ax2.set_title('T_VLE',fontsize=18)\n",
    "\n",
    "plt.show()"
   ]
  },
  {
   "cell_type": "code",
   "execution_count": null,
   "metadata": {},
   "outputs": [],
   "source": []
  }
 ],
 "metadata": {
  "kernelspec": {
   "display_name": "Python 3",
   "language": "python",
   "name": "python3"
  },
  "language_info": {
   "codemirror_mode": {
    "name": "ipython",
    "version": 3
   },
   "file_extension": ".py",
   "mimetype": "text/x-python",
   "name": "python",
   "nbconvert_exporter": "python",
   "pygments_lexer": "ipython3",
   "version": "3.6.3"
  }
 },
 "nbformat": 4,
 "nbformat_minor": 2
}
