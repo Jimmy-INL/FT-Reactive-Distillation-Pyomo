{
 "cells": [
  {
   "cell_type": "markdown",
   "metadata": {
    "slideshow": {
     "slide_type": "slide"
    }
   },
   "source": [
    "# 2nd Level Model Structure: Reactive Stage"
   ]
  },
  {
   "cell_type": "code",
   "execution_count": 1,
   "metadata": {},
   "outputs": [],
   "source": [
    "import sys\n",
    "import os\n",
    "import dill\n",
    "import pickle\n",
    "sys.path.append(os.path.abspath('..'))\n",
    "sys.path.append(os.path.abspath('../..'))\n",
    "import numpy as np\n",
    "from matplotlib import pyplot as plt"
   ]
  },
  {
   "cell_type": "code",
   "execution_count": 2,
   "metadata": {
    "slideshow": {
     "slide_type": "fragment"
    }
   },
   "outputs": [],
   "source": [
    "from pyomo import environ as pe\n",
    "from global_sets.component import m\n",
    "from utility.display_utility import trans_product_mole, trans_product_mass\n",
    "from utility.model_utility import add_dual, update_dual, check_DOF, augmented_objective, add_solver,\\\n",
    "                                    select_MPCC, which_MPCC, disable_restoration\n",
    "\n",
    "# stage construction rules\n",
    "from physics.kinetics.kinetics_reactive import kinetic_block_rule\n",
    "from physics.energy.energy_reactive import energy_block_rule\n",
    "from physics.VLE.VLE_reactive_MPCC_P import VLE_block_rule\n",
    "from physics.MPCC.MPCC_P import P_NCP_block_rule, P_Reg_block_rule, P_pf_block_rule"
   ]
  },
  {
   "cell_type": "code",
   "execution_count": 3,
   "metadata": {},
   "outputs": [],
   "source": [
    "model = pe.ConcreteModel()"
   ]
  },
  {
   "cell_type": "markdown",
   "metadata": {
    "slideshow": {
     "slide_type": "subslide"
    }
   },
   "source": [
    "# Global Sets (Inlet / Outlet)"
   ]
  },
  {
   "cell_type": "code",
   "execution_count": 4,
   "metadata": {
    "slideshow": {
     "slide_type": "fragment"
    }
   },
   "outputs": [],
   "source": [
    "model.inlet = pe.Set(initialize=['in','R'])\n",
    "model.outlet = pe.Set(initialize=['out','P'])\n",
    "model.stream = model.inlet | model.outlet"
   ]
  },
  {
   "cell_type": "markdown",
   "metadata": {
    "slideshow": {
     "slide_type": "subslide"
    }
   },
   "source": [
    "# Global Variables"
   ]
  },
  {
   "cell_type": "code",
   "execution_count": 5,
   "metadata": {
    "slideshow": {
     "slide_type": "fragment"
    }
   },
   "outputs": [],
   "source": [
    "# Tray Inlet/Outlet Variable\n",
    "model.x_ = pe.Var(model.inlet,m.COMP_TOTAL,within=pe.NonNegativeReals)\n",
    "model.y_ = pe.Var(model.inlet,m.COMP_TOTAL,within=pe.NonNegativeReals)\n",
    "model.x = pe.Var(m.COMP_TOTAL,within=pe.NonNegativeReals)\n",
    "model.y = pe.Var(m.COMP_TOTAL,within=pe.NonNegativeReals)\n",
    "model.z = pe.Var(m.COMP_FEED,within=pe.NonNegativeReals)\n",
    "\n",
    "model.L = pe.Var(model.stream,within=pe.NonNegativeReals)\n",
    "model.V = pe.Var(model.stream,within=pe.NonNegativeReals)\n",
    "model.F = pe.Var(within=pe.NonNegativeReals)\n",
    "\n",
    "model.H_L_ = pe.Var(model.inlet,within=pe.Reals)\n",
    "model.H_V_ = pe.Var(model.inlet,within=pe.Reals)\n",
    "model.H_L = pe.Var(within=pe.Reals)\n",
    "model.H_V = pe.Var(within=pe.Reals)\n",
    "model.H_F = pe.Var(within=pe.Reals)\n",
    "\n",
    "# State Variable\n",
    "model.T = pe.Var(within=pe.NonNegativeReals,bounds=(200+273.15,300+273.15)) # K\n",
    "model.T_F = pe.Var(within=pe.NonNegativeReals) # K\n",
    "model.P = pe.Var(within=pe.NonNegativeReals,bounds=(10,30)) # Bar\n",
    "\n",
    "model.f_V = pe.Var(m.COMP_TOTAL,within=pe.NonNegativeReals,initialize=1e-20)\n",
    "model.f_L = pe.Var(m.COMP_TOTAL,within=pe.NonNegativeReals,initialize=1e-20)\n",
    "\n",
    "model.cat = pe.Var(within=pe.NonNegativeReals,initialize=30000) # kg\n",
    "model.Q_main = pe.Var(within=pe.Reals) # MW\n",
    "model.r_total_comp = pe.Var(m.COMP_TOTAL,within=pe.Reals) # kmol/s"
   ]
  },
  {
   "cell_type": "markdown",
   "metadata": {
    "slideshow": {
     "slide_type": "slide"
    }
   },
   "source": [
    "# Construct Individual Blocks"
   ]
  },
  {
   "cell_type": "code",
   "execution_count": 6,
   "metadata": {},
   "outputs": [],
   "source": [
    "if model.find_component('kinetics_block'):\n",
    "    print('haha')"
   ]
  },
  {
   "cell_type": "code",
   "execution_count": 7,
   "metadata": {
    "slideshow": {
     "slide_type": "subslide"
    }
   },
   "outputs": [
    {
     "name": "stdout",
     "output_type": "stream",
     "text": [
      "> Importing Kinetics Blocks......\n",
      "> Adding the following local variable:\n",
      "--------------------------------------------------\n",
      "| kinetics_block.k_FT\n",
      "| kinetics_block.r_FT_total\n",
      "| kinetics_block.g0_FT\n",
      "| kinetics_block.alpha\n",
      "| kinetics_block.r_FT_cnum\n",
      "| kinetics_block.r_FT_comp\n",
      "| kinetics_block.k_WGS\n",
      "| kinetics_block.Ke_WGS\n",
      "| kinetics_block.r_WGS\n",
      "| kinetics_block.r_WGS_comp\n",
      "--------------------------------------------------\n",
      "\n"
     ]
    }
   ],
   "source": [
    "model.kinetics_block = pe.Block(rule=kinetic_block_rule)"
   ]
  },
  {
   "cell_type": "code",
   "execution_count": 8,
   "metadata": {
    "slideshow": {
     "slide_type": "subslide"
    }
   },
   "outputs": [
    {
     "name": "stdout",
     "output_type": "stream",
     "text": [
      "> Importing Energy Blocks......\n",
      "> Adding the following local variable:\n",
      "--------------------------------------------------\n",
      "| energy_block.dH_F\n",
      "| energy_block.dH_V\n",
      "| energy_block.dH_L\n",
      "| energy_block.dH_vap\n",
      "--------------------------------------------------\n",
      "\n"
     ]
    }
   ],
   "source": [
    "model.energy_block = pe.Block(rule=energy_block_rule)"
   ]
  },
  {
   "cell_type": "code",
   "execution_count": 9,
   "metadata": {
    "scrolled": false,
    "slideshow": {
     "slide_type": "subslide"
    }
   },
   "outputs": [
    {
     "name": "stdout",
     "output_type": "stream",
     "text": [
      "> Importing VLE Blocks......\n",
      "> Adding the following local variable:\n",
      "--------------------------------------------------\n",
      "| VLE_block.P_VLE\n",
      "| VLE_block.n_ave\n",
      "| VLE_block.n_ave_cal\n",
      "| VLE_block.Hen\n",
      "| VLE_block.Hen0\n",
      "| VLE_block.gamma\n",
      "| VLE_block.P_sat\n",
      "| VLE_block.P_sat_Y\n",
      "| VLE_block.P_sat_dY_inf\n",
      "| VLE_block.P_sat_dY0\n",
      "| VLE_block.Hen_ref\n",
      "| VLE_block.Hen0_ref\n",
      "| VLE_block.gamma_ref\n",
      "| VLE_block.V_L\n",
      "| VLE_block.V_L_dY_inf\n",
      "| VLE_block.V_L_dY0\n",
      "| VLE_block.poynting\n",
      "--------------------------------------------------\n",
      "\n"
     ]
    }
   ],
   "source": [
    "model.VLE_block = pe.Block(rule=VLE_block_rule)"
   ]
  },
  {
   "cell_type": "markdown",
   "metadata": {
    "slideshow": {
     "slide_type": "slide"
    }
   },
   "source": [
    "# Standard MESH Equations"
   ]
  },
  {
   "cell_type": "markdown",
   "metadata": {
    "slideshow": {
     "slide_type": "subslide"
    }
   },
   "source": [
    "## Mass Balance"
   ]
  },
  {
   "cell_type": "markdown",
   "metadata": {
    "slideshow": {
     "slide_type": "fragment"
    }
   },
   "source": [
    "\\begin{equation}\n",
    "Fz_{i}+\\sum_{s\\in{inlet}}L_{s}x'_{i,s}+\\sum_{s\\in{inlet}}V_{s}y'_{i,s}-\\sum_{s\\in{outlet}}L_{s}x_{i,s}+\\sum_{s\\in{ouelet}}V_{s}y_{i,s}+R_{i} = 0 \\\\\n",
    "i = 1,...NC\n",
    "\\end{equation}"
   ]
  },
  {
   "cell_type": "code",
   "execution_count": 10,
   "metadata": {
    "slideshow": {
     "slide_type": "fragment"
    }
   },
   "outputs": [],
   "source": [
    "def mass_balance_main_rule(model,i):\n",
    "    if i in m.COMP_FEED:\n",
    "        return model.F*model.z[i] + sum(model.L[s]*model.x_[s,i] + model.V[s]*model.y_[s,i] for s in model.inlet)\\\n",
    "        + model.r_total_comp[i] - sum(model.L[s]*model.x[i] + model.V[s]*model.y[i] for s in model.outlet) == 0\n",
    "    else:\n",
    "        return sum(model.L[s]*model.x_[s,i] + model.V[s]*model.y_[s,i] for s in model.inlet)\\\n",
    "        + model.r_total_comp[i] - sum(model.L[s]*model.x[i] + model.V[s]*model.y[i] for s in model.outlet) == 0\n",
    "model.mass_balance_main_con = pe.Constraint(m.COMP_TOTAL,rule=mass_balance_main_rule)"
   ]
  },
  {
   "cell_type": "markdown",
   "metadata": {
    "slideshow": {
     "slide_type": "subslide"
    }
   },
   "source": [
    "## Equilibrium"
   ]
  },
  {
   "cell_type": "markdown",
   "metadata": {
    "slideshow": {
     "slide_type": "fragment"
    }
   },
   "source": [
    "\\begin{align}\n",
    "&f_{i,V} = f_{i,L} \\\\\n",
    "&i = 1,...NC\n",
    "\\end{align}"
   ]
  },
  {
   "cell_type": "code",
   "execution_count": 11,
   "metadata": {
    "slideshow": {
     "slide_type": "fragment"
    }
   },
   "outputs": [],
   "source": [
    "def VL_equil_rule(model,i):\n",
    "    return model.f_V[i] == model.f_L[i]\n",
    "model.VL_equil_con = pe.Constraint(m.COMP_TOTAL,rule=VL_equil_rule)"
   ]
  },
  {
   "cell_type": "markdown",
   "metadata": {},
   "source": [
    "## MPCC: Add all three"
   ]
  },
  {
   "cell_type": "code",
   "execution_count": 12,
   "metadata": {
    "scrolled": false
   },
   "outputs": [
    {
     "name": "stdout",
     "output_type": "stream",
     "text": [
      "> Importing MPCC_P_pf Blocks......\n",
      "> Adding the following local variable:\n",
      "--------------------------------------------------\n",
      "| MPCC_P_pf.s_L\n",
      "| MPCC_P_pf.s_V\n",
      "| MPCC_P_pf.pf\n",
      "| MPCC_P_pf.epi\n",
      "| MPCC_P_pf.rho\n",
      "--------------------------------------------------\n",
      "> Spliting pressure used in VLE\n",
      "Deleted original P_equal constraint\n",
      "\n",
      "> Deleted kinetics rates constraints\n",
      "> Added f_V_MPCC, updated rates constraints\n",
      "\n",
      "> Importing MPCC_P_NCP Blocks......\n",
      "> Adding the following local variable:\n",
      "--------------------------------------------------\n",
      "| MPCC_P_NCP.s_L\n",
      "| MPCC_P_NCP.s_V\n",
      "| MPCC_P_NCP.epi\n",
      "--------------------------------------------------\n",
      "> Adding complementarity constraint, spliting pressure used in VLE\n",
      "> No constraint to delete\n",
      "\n",
      "> Already replaced f_V_MPCC\n",
      "\n",
      "> Importing MPCC_P_Reg Blocks......\n",
      "> Adding the following local variable:\n",
      "--------------------------------------------------\n",
      "| MPCC_P_Reg.s_L\n",
      "| MPCC_P_Reg.s_V\n",
      "| MPCC_P_Reg.epi\n",
      "--------------------------------------------------\n",
      "> Adding complementarity constraint, spliting pressure used in VLE\n",
      "No constraint to delete\n",
      "\n",
      "> Already replaced f_V_MPCC\n",
      "\n"
     ]
    }
   ],
   "source": [
    "model.MPCC_P_pf = pe.Block(rule = P_pf_block_rule)\n",
    "model.MPCC_P_NCP = pe.Block(rule = P_NCP_block_rule)\n",
    "model.MPCC_P_Reg = pe.Block(rule = P_Reg_block_rule)"
   ]
  },
  {
   "cell_type": "code",
   "execution_count": 13,
   "metadata": {},
   "outputs": [
    {
     "name": "stdout",
     "output_type": "stream",
     "text": [
      "> Selected MPCC: MPCC_P_pf\n",
      "s_L:  0\n",
      "s_V:  0\n",
      "\n"
     ]
    }
   ],
   "source": [
    "select_MPCC(model,'pf')"
   ]
  },
  {
   "cell_type": "markdown",
   "metadata": {
    "slideshow": {
     "slide_type": "subslide"
    }
   },
   "source": [
    "## Summation"
   ]
  },
  {
   "cell_type": "markdown",
   "metadata": {
    "slideshow": {
     "slide_type": "fragment"
    }
   },
   "source": [
    "\\begin{equation}\n",
    "\\sum_ix_{i} = \\sum_iy_{i} \\\\\n",
    "F + L_{in} + V_{in} + R = L_{out} + V_{out}\n",
    "\\end{equation}"
   ]
  },
  {
   "cell_type": "code",
   "execution_count": 14,
   "metadata": {
    "slideshow": {
     "slide_type": "fragment"
    }
   },
   "outputs": [],
   "source": [
    "def summation_x_y_rule(model):\n",
    "    return sum(model.x[i] for i in m.COMP_TOTAL) == sum(model.y[i] for i in m.COMP_TOTAL)\n",
    "model.summation_x_y_con = pe.Constraint(rule=summation_x_y_rule)\n",
    "\n",
    "def summation_total_mass_rule(model):\n",
    "    return model.F + sum(model.L[s] + model.V[s] for s in model.inlet) + sum(model.r_total_comp[i] for i in m.COMP_TOTAL)\\\n",
    "            - sum(model.L[s] + model.V[s] for s in model.outlet) == 0\n",
    "model.summation_total_mass_con = pe.Constraint(rule=summation_total_mass_rule)"
   ]
  },
  {
   "cell_type": "markdown",
   "metadata": {
    "slideshow": {
     "slide_type": "subslide"
    }
   },
   "source": [
    "## Energy Balance"
   ]
  },
  {
   "cell_type": "markdown",
   "metadata": {
    "slideshow": {
     "slide_type": "fragment"
    }
   },
   "source": [
    "\\begin{equation}\n",
    "F H_f+\\sum_{s\\in{inlet}}L_{s}H_{l,s}+\\sum_{s\\in{inlet}}V_{s}H_{v,s}-\\sum_{s\\in{outlet}}L_{s}H_{l,s}-\\sum_{s\\in{outlet}}V_{s}H_{v,s}+Q = 0\n",
    "\\end{equation}"
   ]
  },
  {
   "cell_type": "code",
   "execution_count": 15,
   "metadata": {
    "slideshow": {
     "slide_type": "fragment"
    }
   },
   "outputs": [],
   "source": [
    "def heat_balance_main_rule(model):\n",
    "    return model.F*model.H_F + sum(model.L[s]*model.H_L_[s] + model.V[s]*model.H_V_[s] for s in model.inlet) \\\n",
    "            + model.Q_main - sum(model.L[s]*model.H_L + model.V[s]*model.H_V for s in model.outlet) == 0\n",
    "model.heat_balance_main_con = pe.Constraint(rule=heat_balance_main_rule)"
   ]
  },
  {
   "cell_type": "markdown",
   "metadata": {
    "slideshow": {
     "slide_type": "slide"
    }
   },
   "source": [
    "# Testing"
   ]
  },
  {
   "cell_type": "code",
   "execution_count": 16,
   "metadata": {
    "slideshow": {
     "slide_type": "fragment"
    }
   },
   "outputs": [
    {
     "name": "stdout",
     "output_type": "stream",
     "text": [
      "Created the follow pyomo suffixes:\n",
      "ipopt_zL_out, ipopt_zU_out, ipopt_zL_in, ipopt_zU_in, dual\n"
     ]
    }
   ],
   "source": [
    "add_dual(pe,model)"
   ]
  },
  {
   "cell_type": "markdown",
   "metadata": {
    "slideshow": {
     "slide_type": "fragment"
    }
   },
   "source": [
    "## Fixing In/Product Redundent Flow"
   ]
  },
  {
   "cell_type": "code",
   "execution_count": 17,
   "metadata": {
    "slideshow": {
     "slide_type": "fragment"
    }
   },
   "outputs": [],
   "source": [
    "model.x_.fix(0)\n",
    "model.y_.fix(0)\n",
    "model.L['in'].fix(0)\n",
    "model.L['R'].fix(0)\n",
    "model.L['P'].fix(0)\n",
    "\n",
    "model.V['in'].fix(0)\n",
    "model.V['R'].fix(0)\n",
    "model.V['P'].fix(0)\n",
    "model.H_L_.fix(0)\n",
    "model.H_V_.fix(0)"
   ]
  },
  {
   "cell_type": "markdown",
   "metadata": {
    "slideshow": {
     "slide_type": "subslide"
    }
   },
   "source": [
    "## Fixing Model Parameters"
   ]
  },
  {
   "cell_type": "code",
   "execution_count": 18,
   "metadata": {
    "slideshow": {
     "slide_type": "fragment"
    }
   },
   "outputs": [],
   "source": [
    "model.cat.fix(30000)\n",
    "model.P.fix(20)\n",
    "model.T_F.fix(200+273.15)\n",
    "model.F.fix(10)\n",
    "model.z['CO'].fix(1/(1+2)-0/2)\n",
    "model.z['H2'].fix(2/(1+2)-0/2)\n",
    "model.z['C30H62'].fix(0)\n",
    "model.VLE_block.n_ave.fix(20)"
   ]
  },
  {
   "cell_type": "markdown",
   "metadata": {
    "slideshow": {
     "slide_type": "subslide"
    }
   },
   "source": [
    "## Fix T or to fix Q? we have found that Maximize against an upper bound is most reliable"
   ]
  },
  {
   "cell_type": "code",
   "execution_count": 19,
   "metadata": {
    "slideshow": {
     "slide_type": "fragment"
    }
   },
   "outputs": [],
   "source": [
    "model.T.setub(300+273.15)"
   ]
  },
  {
   "cell_type": "code",
   "execution_count": 20,
   "metadata": {
    "slideshow": {
     "slide_type": "fragment"
    }
   },
   "outputs": [
    {
     "name": "stdout",
     "output_type": "stream",
     "text": [
      "------------------------------------------------------------------------------------------------------------\n",
      "> Obj = maximize\n",
      "> T - MPCC_P_pf.pf\n",
      "------------------------------------------------------------------------------------------------------------\n"
     ]
    }
   ],
   "source": [
    "model.obj = augmented_objective(pe, model, expr = model.T, sense=pe.maximize)"
   ]
  },
  {
   "cell_type": "code",
   "execution_count": 21,
   "metadata": {
    "scrolled": false,
    "slideshow": {
     "slide_type": "fragment"
    }
   },
   "outputs": [],
   "source": [
    "opt = add_solver(pe, max_iter = 5000, warm_start = False, output = False)\n",
    "disable_restoration(mode = 'enable')"
   ]
  },
  {
   "cell_type": "code",
   "execution_count": 22,
   "metadata": {
    "scrolled": false
   },
   "outputs": [
    {
     "name": "stdout",
     "output_type": "stream",
     "text": [
      "Ipopt 3.12.10: print_user_options=yes\n",
      "tol=1e-08\n",
      "option_file_name=./ipopt.opt\n",
      "max_iter=5000\n",
      "\n",
      "Using option file \"./ipopt.opt\".\n",
      "\n",
      "\n",
      "List of user-set options:\n",
      "\n",
      "                                    Name   Value                used\n",
      "                           compl_inf_tol = 1                     yes\n",
      "                         constr_viol_tol = 1                     yes\n",
      "                            dual_inf_tol = 1000                  yes\n",
      "                           linear_solver = ma97                  yes\n",
      "                              ma86_small = 1e-30                  no\n",
      "                                  ma86_u = 0.0001                 no\n",
      "                              ma97_order = best                  yes\n",
      "                              ma97_small = 1e-30                 yes\n",
      "                            ma97_switch1 = at_start              yes\n",
      "                            ma97_switch2 = od_hd_reuse           yes\n",
      "                                  ma97_u = 1e-06                 yes\n",
      "                               ma97_umax = 0.5                   yes\n",
      "                                max_iter = 5000                  yes\n",
      "                    max_refinement_steps = 20                    yes\n",
      "                    min_refinement_steps = 5                     yes\n",
      "           mu_superlinear_decrease_power = 1.25                  yes\n",
      "                   nlp_scaling_min_value = 1e-08                 yes\n",
      "                        option_file_name = ./ipopt.opt           yes\n",
      "                      print_user_options = yes                   yes\n",
      "                                     tol = 1e-08                 yes\n",
      "                   warm_start_bound_frac = 1e-20                 yes\n",
      "                warm_start_mult_init_max = 1e+40                 yes\n",
      "             warm_start_slack_bound_frac = 1e-20                 yes\n",
      "             warm_start_slack_bound_push = 1e-20                 yes\n",
      "\n",
      "******************************************************************************\n",
      "This program contains Ipopt, a library for large-scale nonlinear optimization.\n",
      " Ipopt is released as open source code under the Eclipse Public License (EPL).\n",
      "         For more information visit http://projects.coin-or.org/Ipopt\n",
      "******************************************************************************\n",
      "\n",
      "This is Ipopt version 3.12.10, running with linear solver ma97.\n",
      "\n",
      "Number of nonzeros in equality constraint Jacobian...:     4020\n",
      "Number of nonzeros in inequality constraint Jacobian.:        5\n",
      "Number of nonzeros in Lagrangian Hessian.............:     1545\n",
      "\n",
      "Total number of variables............................:     1190\n",
      "                     variables with only lower bounds:      387\n",
      "                variables with lower and upper bounds:      633\n",
      "                     variables with only upper bounds:        0\n",
      "Total number of equality constraints.................:     1186\n",
      "Total number of inequality constraints...............:        1\n",
      "        inequality constraints with only lower bounds:        0\n",
      "   inequality constraints with lower and upper bounds:        0\n",
      "        inequality constraints with only upper bounds:        1\n",
      "\n",
      "iter    objective    inf_pr   inf_du lg(mu)  ||d||  lg(rg) alpha_du alpha_pr  ls\n",
      "   0 -4.7414000e+02 9.24e+03 1.00e+00  -1.0 0.00e+00    -  0.00e+00 0.00e+00   0\n",
      "   1 -4.7414162e+02 9.24e+03 4.99e+01  -1.0 3.17e+05    -  2.33e-06 1.78e-05h  1\n",
      "   2r-4.7414162e+02 9.24e+03 9.99e+02   3.9 0.00e+00    -  0.00e+00 4.31e-07R  2\n",
      "   3r-4.7414161e+02 9.24e+03 7.21e+03   3.9 5.41e+05    -  2.04e-03 5.53e-08f  1\n",
      "   4r-5.1832003e+02 5.14e+02 7.11e+03   2.5 4.55e+05    -  3.67e-04 1.61e-02f  1\n",
      "   5 -5.1832097e+02 5.14e+02 1.35e+02  -1.0 1.09e+05    -  4.12e-05 1.65e-05h  1\n",
      "   6 -5.1832389e+02 5.14e+02 1.35e+02  -1.0 1.08e+05    -  5.04e-05 5.09e-05h  1\n",
      "   7 -5.1832513e+02 5.14e+02 1.35e+02  -1.0 8.77e+04    -  1.55e-04 2.18e-05h  1\n",
      "   8 -5.1832516e+02 5.14e+02 1.35e+02  -1.0 8.23e+03   2.0 5.01e-09 6.40e-07f  2\n",
      "   9 -5.1832516e+02 5.14e+02 1.35e+02  -1.0 6.74e+04   2.4 2.04e-08 9.73e-08f  2\n",
      "iter    objective    inf_pr   inf_du lg(mu)  ||d||  lg(rg) alpha_du alpha_pr  ls\n",
      "  10r-5.1832516e+02 5.14e+02 9.99e+02   2.7 0.00e+00   3.8 0.00e+00 3.02e-08R  2\n",
      "  11r-5.1829025e+02 5.14e+02 9.99e+02   2.7 2.16e+05    -  6.45e-05 2.38e-05f  1\n",
      "  12r-5.1827586e+02 5.14e+02 9.99e+02   2.7 2.04e+02   2.0 3.17e-04 1.32e-04f  1\n",
      "  13r-5.1767213e+02 5.14e+02 9.98e+02   2.7 2.03e+05    -  3.16e-04 5.77e-04f  1\n",
      "  14r-5.1765716e+02 5.14e+02 9.98e+02   2.7 2.03e+02   1.5 7.13e-04 3.18e-04f  1\n",
      "  15r-5.1660141e+02 5.14e+02 1.18e+03   2.7 1.19e+05    -  2.95e-03 1.96e-03f  1\n",
      "  16r-5.1654671e+02 5.14e+02 1.95e+04   2.7 6.70e+00   2.9 1.30e-01 1.66e-02f  1\n",
      "  17r-5.1716907e+02 5.13e+02 2.03e+04   2.0 1.62e+04    -  1.23e-02 6.01e-03f  1\n",
      "  18r-5.1626708e+02 5.13e+02 2.06e+04   2.0 3.62e+04    -  8.00e-03 3.87e-03f  1\n",
      "  19r-5.1588794e+02 5.13e+02 2.08e+04   2.0 6.07e+04    -  4.67e-03 9.67e-04f  1\n",
      "iter    objective    inf_pr   inf_du lg(mu)  ||d||  lg(rg) alpha_du alpha_pr  ls\n",
      "  20r-5.0893880e+02 5.11e+02 1.95e+04   2.0 5.72e+04    -  4.10e-03 1.88e-02f  1\n",
      "  21r-5.0414184e+02 5.09e+02 1.90e+04   2.0 4.11e+04    -  1.41e-02 1.74e-02f  1\n",
      "  22r-5.0412055e+02 5.09e+02 2.19e+05   2.0 5.19e+00   2.4 3.51e-01 4.38e-02f  1\n",
      "  23r-5.0398310e+02 5.08e+02 1.58e+05   2.0 1.35e+01   1.9 1.98e-01 2.25e-01f  1\n",
      "  24r-5.0390166e+02 5.06e+02 1.40e+05   2.0 3.48e+01   1.4 1.52e-01 1.30e-01f  1\n",
      "  25r-5.0385027e+02 5.03e+02 1.24e+05   2.0 6.64e+01   0.9 1.38e-01 7.96e-02f  1\n",
      "  26r-5.0379244e+02 4.99e+02 1.00e+05   2.0 1.21e+02   0.5 1.35e-01 7.23e-02f  1\n",
      "  27r-5.0373021e+02 4.95e+02 3.24e+04   2.0 7.08e+01  -0.0 3.30e-01 6.57e-02f  1\n",
      "  28r-5.0348122e+02 4.81e+02 2.64e+04   2.0 1.15e+02  -0.5 9.02e-02 1.81e-01f  1\n",
      "  29r-5.0347417e+02 4.80e+02 2.55e+04   1.3 2.00e+02  -0.1 2.69e-02 2.58e-02f  1\n",
      "iter    objective    inf_pr   inf_du lg(mu)  ||d||  lg(rg) alpha_du alpha_pr  ls\n",
      "  30r-5.0346648e+02 4.79e+02 2.53e+04   1.3 4.84e+01   1.3 1.63e-02 1.79e-02f  1\n",
      "  31r-5.0343128e+02 4.79e+02 1.78e+06   1.3 1.06e+01   1.7 6.13e-01 9.76e-02f  1\n",
      "  32r-5.0298934e+02 4.66e+02 1.48e+05   1.3 2.41e+01   1.2 3.19e-01 5.63e-01f  1\n",
      "  33r-5.0290993e+02 4.63e+02 3.59e+06   1.3 5.06e+01   0.7 6.25e-01 5.97e-02f  1\n",
      "  34r-5.0140133e+02 4.13e+02 2.20e+05   1.3 9.50e+01   0.3 4.33e-01 5.34e-01f  1\n",
      "  35 -5.0139615e+02 4.13e+02 1.35e+02  -1.0 1.40e+04    -  4.84e-04 5.49e-05h  2\n",
      "  36 -5.0139334e+02 4.13e+02 1.86e+02  -1.0 8.08e+03    -  2.12e-04 4.88e-05h  1\n",
      "  37 -5.0139253e+02 4.13e+02 1.35e+02  -1.0 2.50e+03    -  1.74e-04 1.03e-04h  1\n",
      "  38 -5.0139027e+02 4.13e+02 1.29e+03  -1.0 4.75e+03    -  7.65e-04 5.87e-05h  1\n",
      "  39 -5.0122655e+02 4.11e+02 8.69e+02  -1.0 5.00e+03    -  3.48e-03 4.94e-03f  1\n",
      "iter    objective    inf_pr   inf_du lg(mu)  ||d||  lg(rg) alpha_du alpha_pr  ls\n",
      "  40 -5.0122595e+02 4.11e+02 2.63e+03  -1.0 2.74e+03    -  7.34e-03 9.96e-05h  1\n",
      "  41 -5.0129760e+02 4.09e+02 1.75e+03  -1.0 3.21e+03    -  3.24e-03 3.89e-03f  1\n",
      "  42 -5.0143273e+02 4.06e+02 5.31e+03  -1.0 2.79e+03    -  1.69e-02 6.67e-03h  1\n",
      "  43 -5.0143549e+02 4.06e+02 4.67e+03  -1.0 2.12e+03    -  4.52e-02 1.52e-04h  1\n",
      "  44 -5.0147209e+02 4.06e+02 4.43e+03  -1.0 1.99e+05    -  2.00e-06 2.23e-06f  2\n",
      "  45 -5.0147466e+02 4.06e+02 3.65e+03  -1.0 1.47e+05    -  4.00e-07 1.44e-06f  2\n",
      "  46 -5.0147600e+02 4.06e+02 3.65e+03  -1.0 1.52e+05    -  1.26e-06 1.27e-06f  2\n",
      "  47 -5.0184165e+02 4.06e+02 4.88e+03  -1.0 1.74e+05    -  1.25e-06 3.05e-04f  1\n",
      "  48 -5.0232265e+02 4.06e+02 4.87e+03  -1.0 1.73e+05    -  3.63e-04 4.04e-04h  1\n",
      "  49r-5.0232265e+02 4.06e+02 1.00e+03   2.6 0.00e+00    -  0.00e+00 2.80e-07R  5\n",
      "iter    objective    inf_pr   inf_du lg(mu)  ||d||  lg(rg) alpha_du alpha_pr  ls\n",
      "  50r-5.0232259e+02 4.06e+02 5.72e+05   2.6 3.25e+04    -  1.72e-03 4.10e-07f  1\n",
      "  51r-5.0220004e+02 4.00e+02 1.24e+07   2.6 1.01e+04    -  3.76e-02 1.05e-03f  1\n",
      "  52r-5.0035482e+02 1.75e+02 1.29e+07   2.6 5.25e+03    -  2.56e-02 4.30e-02f  1\n",
      "  53 -5.0035894e+02 1.75e+02 4.25e+01  -1.0 1.39e+04    -  2.33e-03 4.12e-05h  2\n",
      "  54 -5.0040648e+02 1.75e+02 1.64e+02  -1.0 4.81e+04    -  9.48e-04 1.42e-04h  1\n",
      "  55 -5.0040759e+02 1.75e+02 7.65e+01  -1.0 1.08e+04    -  3.54e-05 1.47e-05h  1\n",
      "  56 -5.0040762e+02 1.75e+02 7.51e+01  -1.0 4.20e+04    -  2.83e-06 1.27e-07h  6\n",
      "  57r-5.0040762e+02 1.75e+02 9.99e+02   2.2 0.00e+00    -  0.00e+00 2.92e-07R  5\n",
      "  58r-5.0040737e+02 1.75e+02 1.72e+05   2.2 3.62e+04    -  4.18e-03 3.20e-06f  1\n",
      "  59r-5.0015554e+02 9.51e+01 1.62e+05   2.2 2.09e+04    -  4.23e-03 3.81e-03f  1\n",
      "iter    objective    inf_pr   inf_du lg(mu)  ||d||  lg(rg) alpha_du alpha_pr  ls\n",
      "  60 -5.0016011e+02 9.51e+01 4.00e+01  -1.0 2.33e+03    -  2.24e-03 2.24e-04h  1\n",
      "  61 -5.0019441e+02 9.50e+01 2.18e+02  -1.0 6.43e+03    -  1.03e-02 7.07e-04h  1\n",
      "  62 -5.0021832e+02 9.50e+01 1.27e+03  -1.0 9.31e+04    -  8.37e-04 3.72e-05h  1\n",
      "  63 -5.0027337e+02 9.50e+01 2.28e+03  -1.0 1.19e+05    -  2.52e-04 6.73e-05h  1\n",
      "  64r-5.0027337e+02 9.50e+01 1.00e+03   2.0 0.00e+00    -  0.00e+00 4.14e-07R  2\n",
      "  65r-5.0027287e+02 9.46e+01 1.86e+03   2.0 2.96e+04    -  1.11e-04 1.27e-05f  1\n",
      "  66r-5.0025157e+02 8.11e+01 4.76e+05   2.0 2.92e+04    -  2.46e-02 4.61e-04f  1\n",
      "  67 -5.0025781e+02 8.11e+01 9.12e+02  -1.0 3.19e+04    -  7.83e-05 2.84e-05h  1\n",
      "  68r-5.0025781e+02 8.11e+01 9.99e+02   1.9 0.00e+00    -  0.00e+00 4.53e-07R  5\n",
      "  69r-5.0025765e+02 8.11e+01 2.09e+03   1.9 3.02e+04    -  4.53e-05 2.12e-06f  2\n",
      "iter    objective    inf_pr   inf_du lg(mu)  ||d||  lg(rg) alpha_du alpha_pr  ls\n",
      "  70r-5.0025039e+02 7.66e+01 6.50e+04   1.9 3.00e+04    -  3.12e-03 1.50e-04f  1\n",
      "  71r-5.0009425e+02 5.16e+01 1.79e+05   1.9 2.02e+04    -  1.05e-02 3.75e-03f  1\n",
      "  72 -5.0009610e+02 5.16e+01 3.25e+01  -1.0 2.39e+03    -  1.85e-03 2.11e-04h  1\n"
     ]
    },
    {
     "name": "stdout",
     "output_type": "stream",
     "text": [
      "  73r-5.0009610e+02 5.16e+01 9.99e+02   1.0 0.00e+00    -  0.00e+00 3.54e-07R  5\n",
      "  74r-5.0009512e+02 5.03e+01 3.11e+03   1.0 9.53e+03    -  1.64e-03 6.81e-05f  1\n",
      "  75r-5.0006596e+02 2.84e+01 8.01e+03   1.0 3.42e+03    -  4.53e-03 2.03e-03f  1\n",
      "  76 -5.0006438e+02 2.84e+01 1.39e+00  -1.0 3.51e+03    -  9.60e-05 8.16e-05h  1\n",
      "  77 -5.0006301e+02 2.84e+01 1.13e+00  -1.0 2.82e+03    -  1.61e-04 2.03e-04f  1\n",
      "  78r-5.0006301e+02 2.84e+01 9.99e+02   0.8 0.00e+00    -  0.00e+00 3.32e-07R  4\n",
      "  79r-5.0006280e+02 2.83e+01 9.99e+02   0.8 7.34e+02    -  6.28e-04 2.01e-05f  1\n",
      "iter    objective    inf_pr   inf_du lg(mu)  ||d||  lg(rg) alpha_du alpha_pr  ls\n",
      "  80r-5.0005139e+02 2.02e+01 3.57e+03   0.8 6.83e+02    -  3.56e-03 1.16e-03f  1\n",
      "  81r-5.0002738e+02 1.41e+01 2.90e+03   0.8 3.91e+02    -  1.78e-03 2.30e-03f  1\n",
      "  82r-4.9999652e+02 9.77e+00 1.54e+04   0.8 5.00e+02    -  1.37e-02 2.90e-03f  1\n",
      "  83r-4.9983925e+02 5.60e+00 6.12e+04   0.8 7.30e+02    -  5.49e-02 1.33e-02f  1\n",
      "  84r-4.9894882e+02 5.24e+00 6.81e+04   0.8 8.83e+02    -  8.36e-02 6.83e-02f  1\n",
      "  85r-4.9868141e+02 5.08e+00 1.71e+05   0.8 2.40e+01   0.0 2.58e-01 1.25e-01f  1\n",
      "  86 -4.9867120e+02 5.08e+00 1.28e+03  -1.0 2.33e+03    -  6.94e-02 9.66e-04h  1\n",
      "  87 -4.9852357e+02 6.87e+00 1.20e+05  -1.0 1.03e+03    -  4.67e-03 7.97e-02f  1\n",
      "  88 -4.9843063e+02 7.28e+00 1.14e+05  -1.0 8.20e+02    -  6.89e-02 3.65e-02f  2\n",
      "  89 -4.9833274e+02 8.64e+00 1.01e+05  -1.0 7.59e+02    -  1.84e-01 6.65e-02h  2\n",
      "iter    objective    inf_pr   inf_du lg(mu)  ||d||  lg(rg) alpha_du alpha_pr  ls\n",
      "  90 -4.9831248e+02 9.14e+00 9.06e+04  -1.0 6.65e+02    -  2.94e-01 5.66e-02h  3\n",
      "  91 -4.9831066e+02 9.57e+00 7.97e+04  -1.0 6.00e+02    -  3.69e-01 6.46e-02h  3\n",
      "  92 -4.9831683e+02 1.10e+01 1.16e+05  -1.0 5.36e+02    -  3.10e-01 1.15e-01h  2\n",
      "  93 -4.9874671e+02 1.23e+01 7.31e+04  -1.0 4.89e+02    -  1.26e-01 1.55e-01h  1\n",
      "  94 -4.9875203e+02 1.23e+01 2.21e+05  -1.0 3.84e+02    -  2.47e-01 2.25e-03h  1\n",
      "  95 -4.9872890e+02 1.22e+01 4.61e+06  -1.0 6.40e+04    -  6.47e-03 4.81e-05h  1\n",
      "  96 -4.9854195e+02 1.22e+01 2.02e+07  -1.0 1.20e+05    -  2.09e-03 1.79e-04h  2\n",
      "  97 -4.9831790e+02 1.22e+01 4.23e+07  -1.0 1.20e+05    -  3.71e-04 9.04e-05h  2\n",
      "  98 -4.9751806e+02 1.22e+01 1.74e+08  -1.0 1.20e+05    -  4.77e-04 9.27e-05h  1\n",
      "  99r-4.9751806e+02 1.22e+01 1.00e+03   1.1 0.00e+00    -  0.00e+00 3.01e-07R  9\n",
      "iter    objective    inf_pr   inf_du lg(mu)  ||d||  lg(rg) alpha_du alpha_pr  ls\n",
      " 100r-4.9751200e+02 8.26e+00 4.43e+05   1.1 1.20e+04    -  3.89e-02 3.31e-04f  1\n",
      " 101 -4.9750923e+02 8.26e+00 4.94e+01  -1.0 2.34e+04    -  3.67e-05 1.74e-05f  1\n",
      " 102 -4.9750972e+02 8.26e+00 1.36e+05  -1.0 3.19e+02    -  2.21e-01 1.71e-04h  1\n",
      " 103 -4.9751079e+02 8.25e+00 4.43e+05  -1.0 3.44e+02    -  5.80e-02 7.78e-04h  1\n",
      " 104r-4.9751079e+02 8.25e+00 1.00e+03   0.9 0.00e+00    -  0.00e+00 3.82e-07R  3\n",
      " 105r-4.9750704e+02 6.93e+00 3.68e+05   0.9 8.21e+03    -  1.47e-02 1.61e-04f  1\n",
      " 106 -4.9750777e+02 6.93e+00 4.18e+03  -1.0 2.06e+03    -  3.30e-02 4.07e-05h  1\n",
      " 107 -4.9750799e+02 6.93e+00 4.10e+06  -1.0 3.95e+02    -  4.51e-01 2.79e-04h  1\n",
      " 108 -4.9749121e+02 6.93e+00 9.02e+06  -1.0 1.09e+05    -  4.14e-05 1.87e-05h  1\n",
      " 109 -4.9741974e+02 6.93e+00 6.35e+06  -1.0 1.25e+05    -  3.15e-07 2.57e-06f  3\n",
      "iter    objective    inf_pr   inf_du lg(mu)  ||d||  lg(rg) alpha_du alpha_pr  ls\n",
      " 110r-4.9741974e+02 6.93e+00 1.00e+03   0.8 0.00e+00    -  0.00e+00 2.55e-07R  6\n",
      " 111r-4.9741561e+02 5.80e+00 7.03e+05   0.8 6.92e+03    -  2.84e-02 1.63e-04f  1\n",
      " 112 -4.9741776e+02 5.80e+00 5.60e+03  -1.0 6.60e+03    -  2.10e-02 4.41e-05h  1\n",
      " 113 -4.9741784e+02 5.80e+00 2.62e+06  -1.0 3.71e+02    -  2.94e-01 2.19e-04h  1\n",
      " 114r-4.9741784e+02 5.80e+00 1.00e+03   0.8 0.00e+00    -  0.00e+00 3.54e-07R  5\n",
      " 115r-4.9741288e+02 4.37e+00 5.01e+05   0.8 5.81e+03    -  3.04e-02 2.45e-04f  1\n",
      " 116 -4.9741348e+02 4.37e+00 3.91e+03  -1.0 1.50e+03    -  3.88e-02 4.21e-05h  1\n",
      " 117 -4.9741388e+02 4.37e+00 1.58e+06  -1.0 3.41e+02    -  1.63e-01 2.90e-04h  1\n",
      " 118r-4.9741388e+02 4.37e+00 1.00e+03   0.6 0.00e+00    -  0.00e+00 2.83e-07R  6\n",
      " 119r-4.9740808e+02 2.92e+00 4.67e+05   0.6 4.39e+03    -  3.81e-02 3.29e-04f  1\n",
      "iter    objective    inf_pr   inf_du lg(mu)  ||d||  lg(rg) alpha_du alpha_pr  ls\n",
      " 120 -4.9740832e+02 2.92e+00 5.20e+03  -1.0 2.24e+02    -  5.39e-02 4.18e-05h  1\n",
      " 121 -4.9740872e+02 2.92e+00 6.00e+06  -1.0 3.70e+02    -  4.53e-01 2.92e-04h  1\n",
      " 122 -4.9739612e+02 2.92e+00 5.61e+06  -1.0 1.09e+05    -  1.13e-05 1.21e-05h  1\n",
      " 123 -4.9735234e+02 2.92e+00 3.43e+06  -1.0 1.33e+05    -  1.25e-07 7.96e-07f  3\n",
      " 124r-4.9735234e+02 2.92e+00 1.00e+03   0.5 0.00e+00    -  0.00e+00 3.56e-07R  4\n",
      " 125r-4.9734460e+02 2.58e+00 1.95e+05   0.5 2.95e+03    -  1.98e-02 3.97e-04f  1\n",
      " 126 -4.9734513e+02 2.58e+00 4.72e+03  -1.0 1.18e+03    -  5.15e-02 4.38e-05h  1\n",
      " 127 -4.9734556e+02 2.58e+00 2.47e+06  -1.0 3.35e+02    -  1.18e-01 2.20e-04h  1\n",
      " 128r-4.9734556e+02 2.58e+00 1.00e+03   0.4 0.00e+00    -  0.00e+00 3.89e-07R  4\n",
      " 129r-4.9733680e+02 2.52e+00 1.10e+05   0.4 1.21e+03    -  1.68e-02 6.02e-04f  1\n",
      "iter    objective    inf_pr   inf_du lg(mu)  ||d||  lg(rg) alpha_du alpha_pr  ls\n",
      " 130r-4.9714231e+02 1.24e+01 2.39e+05   0.4 1.16e+03    -  7.44e-02 1.72e-02f  1\n",
      " 131r-4.9695493e+02 1.30e+01 3.07e+05   0.4 1.31e+03    -  3.75e-02 1.43e-02f  1\n",
      " 132r-4.9661461e+02 1.30e+01 2.89e+05   0.4 1.28e+03    -  2.47e-02 2.68e-02f  1\n",
      " 133r-4.9641275e+02 1.28e+01 4.50e+05   0.4 1.25e+03    -  7.83e-02 1.66e-02f  1\n",
      " 134r-4.9545637e+02 1.20e+01 6.57e+05   0.4 1.13e+03    -  1.89e-01 8.42e-02f  1\n",
      " 135r-4.9439908e+02 1.05e+01 1.36e+06   0.4 7.88e+02    -  5.25e-01 1.22e-01f  1\n",
      " 136r-4.9153976e+02 6.41e+00 8.99e+05   0.4 6.77e+02    -  5.75e-01 3.80e-01f  1\n",
      " 137r-4.9151182e+02 6.28e+00 1.26e+06   0.4 3.39e+01    -  9.89e-01 2.01e-02f  1\n",
      " 138r-4.9129545e+02 7.51e-01 1.06e+05   0.4 1.96e+02    -  1.00e+00 1.00e+00f  1\n",
      " 139 -4.9130837e+02 7.50e-01 2.02e+04  -1.0 2.90e+02    -  1.71e-01 1.58e-03h  1\n",
      "iter    objective    inf_pr   inf_du lg(mu)  ||d||  lg(rg) alpha_du alpha_pr  ls\n",
      " 140 -4.9234082e+02 6.57e-01 2.10e+04  -1.0 2.86e+02    -  1.92e-02 1.26e-01h  1\n",
      " 141 -4.9564167e+02 3.43e-01 4.42e+05  -1.0 2.65e+02    -  9.70e-03 4.79e-01h  1\n",
      " 142 -4.9565047e+02 3.42e-01 4.42e+05  -1.0 1.80e+02    -  7.58e-01 2.44e-03f  6\n",
      " 143 -4.9884031e+02 5.83e-01 1.58e+05  -1.0 2.34e+02    -  1.53e-01 6.59e-01h  1\n",
      " 144 -5.0156766e+02 3.68e-01 1.47e+05  -1.0 2.77e+02    -  9.44e-01 8.58e-01H  1\n",
      " 145 -5.0163657e+02 3.68e-01 6.21e+05  -1.0 1.65e+03    -  9.17e-01 5.81e-03h  7\n",
      " 146 -5.0148210e+02 3.58e-01 6.07e+05  -1.0 4.16e+02    -  1.55e-01 6.20e-02h  5\n",
      " 147 -5.0155699e+02 3.56e-01 6.28e+05  -1.0 9.01e+02    -  1.12e-01 1.13e-02h  7\n",
      " 148 -5.0162749e+02 3.55e-01 6.50e+05  -1.0 1.60e+03    -  1.02e-01 6.14e-03h  7\n",
      " 149 -5.0169556e+02 3.55e-01 7.16e+05  -1.0 1.29e+03    -  2.92e-01 7.30e-03h  7\n",
      "iter    objective    inf_pr   inf_du lg(mu)  ||d||  lg(rg) alpha_du alpha_pr  ls\n",
      " 150 -5.0182815e+02 3.53e-01 7.23e+05  -1.0 8.73e+02    -  1.33e-01 2.06e-02h  6\n",
      " 151 -5.0195064e+02 3.51e-01 8.60e+05  -1.0 7.93e+02    -  8.99e-01 2.09e-02h  6\n",
      " 152 -5.0484122e+02 1.29e-01 2.12e+05  -1.0 3.52e+02    -  2.92e-01 9.92e-01H  1\n",
      " 153 -5.0484127e+02 5.28e-02 9.63e+11  -1.0 7.53e+00   3.3 6.04e-01 5.90e-01h  1\n",
      " 154 -5.0484127e+02 5.26e-02 9.59e+11  -1.0 6.00e+00   2.8 1.00e+00 3.80e-03h  1\n",
      " 155 -5.0484126e+02 5.26e-02 2.53e+12  -1.0 2.27e+01   2.3 1.00e+00 5.84e-04h  1\n",
      " 156 -5.0482404e+02 1.78e-02 1.15e+13  -1.0 2.46e+01   1.8 1.00e+00 1.00e+00h  1\n",
      " 157 -5.0353029e+02 3.79e-02 1.84e+13  -1.0 2.91e+02    -  2.16e-01 1.00e+00F  1\n",
      " 158 -5.0349748e+02 2.28e-06 2.59e+10  -1.0 2.45e-01   1.4 9.71e-01 1.00e+00h  1\n",
      " 159 -5.0347716e+02 8.68e-09 4.28e+07  -1.0 2.03e-02   0.9 1.00e+00 1.00e+00f  1\n",
      "iter    objective    inf_pr   inf_du lg(mu)  ||d||  lg(rg) alpha_du alpha_pr  ls\n",
      " 160 -5.0371041e+02 1.23e-01 1.98e+08  -1.0 3.42e+02    -  1.00e+00 9.94e-02f  3\n",
      " 161 -5.0395897e+02 6.00e-02 2.12e+08  -1.0 2.75e+02    -  7.50e-01 1.33e-01f  2\n",
      " 162 -5.0393620e+02 1.25e-06 1.55e+06  -1.0 6.09e-02   0.4 1.00e+00 1.00e+00h  1\n",
      " 163 -5.0495488e+02 1.30e-02 3.19e+09  -1.0 1.44e+02    -  8.98e-01 1.00e+00F  1\n",
      " 164 -5.0559201e+02 1.70e-01 2.97e+09  -1.0 1.77e+03    -  1.04e-01 5.28e-02f  3\n",
      " 165 -5.0586578e+02 2.00e-01 2.87e+09  -1.0 1.60e+03    -  2.89e-01 2.70e-02f  4\n",
      " 166 -5.0610900e+02 2.23e-01 2.86e+09  -1.0 3.59e+04    -  2.04e-02 9.91e-04f  5\n",
      " 167 -5.0631221e+02 2.40e-01 2.85e+09  -1.0 3.00e+04    -  3.24e-02 9.99e-04f  5\n"
     ]
    },
    {
     "name": "stdout",
     "output_type": "stream",
     "text": [
      " 168 -5.0892456e+02 3.21e+00 1.14e+09  -1.0 2.13e+03    -  1.00e+00 1.89e-01f  1\n",
      " 169 -5.1118988e+02 2.58e+00 1.24e+08  -1.0 4.27e+02    -  8.11e-01 7.09e-01f  1\n",
      "iter    objective    inf_pr   inf_du lg(mu)  ||d||  lg(rg) alpha_du alpha_pr  ls\n",
      " 170 -5.1359225e+02 2.48e+00 6.77e+08  -1.0 3.74e+02    -  9.69e-01 1.00e+00f  1\n",
      " 171 -5.1464392e+02 4.58e-01 2.28e+07  -1.0 1.64e+02    -  1.00e+00 1.00e+00h  1\n",
      " 172 -5.1466026e+02 1.06e-04 1.05e+06  -1.0 2.92e+00    -  1.00e+00 1.00e+00h  1\n",
      " 173 -5.1466107e+02 3.20e-07 2.51e+02  -1.0 1.26e-01    -  1.00e+00 1.00e+00h  1\n",
      " 174 -5.1740738e+02 4.04e+00 3.31e+08  -3.9 6.16e+02    -  6.88e-01 6.39e-01f  1\n",
      " 175 -5.1864269e+02 4.97e+00 3.52e+08  -3.9 2.45e+03    -  4.22e-01 7.86e-02f  1\n",
      " 176 -5.2181441e+02 4.78e+00 1.95e+09  -3.9 6.10e+02    -  8.26e-01 8.20e-01f  1\n",
      " 177 -5.2209281e+02 4.48e+00 1.76e+09  -3.9 6.43e+02    -  6.30e-03 6.96e-02h  1\n",
      " 178 -5.2605176e+02 6.64e+00 3.07e+09  -3.9 6.37e+02    -  9.77e-01 1.00e+00f  1\n",
      " 179 -5.2660459e+02 5.93e+00 3.55e+09  -3.9 7.17e+02    -  1.00e+00 1.27e-01h  1\n",
      "iter    objective    inf_pr   inf_du lg(mu)  ||d||  lg(rg) alpha_du alpha_pr  ls\n",
      " 180 -5.2954040e+02 5.52e+00 3.12e+10  -3.9 6.99e+02    -  1.00e+00 6.93e-01f  1\n",
      " 181 -5.3334318e+02 6.66e+00 1.34e+11  -3.9 6.85e+02    -  1.00e+00 9.30e-01f  1\n",
      " 182 -5.3755523e+02 7.79e+00 7.51e+11  -3.9 7.20e+02    -  7.68e-02 1.00e+00f  1\n",
      " 183 -5.3770922e+02 7.74e+00 7.43e+11  -3.9 3.15e+03    -  1.64e-02 8.49e-03h  1\n",
      " 184 -5.3822073e+02 7.00e+00 6.46e+11  -3.9 8.12e+02    -  1.00e+00 1.10e-01h  1\n",
      " 185 -5.3941246e+02 5.82e+00 4.16e+11  -3.9 8.08e+02    -  1.00e+00 2.58e-01h  1\n",
      " 186 -5.3941311e+02 5.82e+00 4.16e+11  -3.9 8.16e+02    -  5.59e-03 1.41e-04h  1\n",
      " 187 -5.3983154e+02 5.37e+00 3.88e+11  -3.9 8.11e+02    -  1.00e+00 9.08e-02f  1\n",
      " 188 -5.3983169e+02 5.37e+00 3.88e+11  -3.9 7.88e+02    -  1.33e-04 3.25e-05h  1\n",
      " 189 -5.4086156e+02 4.57e+00 4.78e+12  -3.9 7.69e+02    -  2.56e-02 2.36e-01f  1\n",
      "iter    objective    inf_pr   inf_du lg(mu)  ||d||  lg(rg) alpha_du alpha_pr  ls\n",
      " 190 -5.4086719e+02 4.57e+00 4.78e+12  -3.9 7.61e+02    -  6.22e-03 1.31e-03h  1\n",
      " 191 -5.4133292e+02 4.17e+00 3.94e+12  -3.9 7.61e+02    -  1.80e-01 1.08e-01f  1\n",
      " 192 -5.4246112e+02 3.64e+00 1.35e+12  -3.9 7.60e+02    -  1.19e-01 2.64e-01f  1\n",
      " 193 -5.4246145e+02 3.64e+00 1.35e+12  -3.9 7.67e+02    -  3.03e-03 7.76e-05h  1\n",
      " 194 -5.4390057e+02 3.34e+00 7.02e+11  -3.9 7.60e+02    -  4.96e-01 3.38e-01f  1\n",
      " 195 -5.4390101e+02 3.34e+00 7.02e+11  -3.9 7.88e+02    -  3.64e-03 1.00e-04h  1\n",
      " 196 -5.4524360e+02 3.12e+00 1.21e+12  -3.9 7.77e+02    -  1.81e-01 3.10e-01f  1\n",
      " 197 -5.4524391e+02 3.12e+00 1.21e+12  -3.9 8.23e+02    -  9.25e-03 6.81e-05h  1\n",
      " 198 -5.4650718e+02 2.96e+00 1.23e+12  -3.9 8.01e+02    -  1.70e-01 2.85e-01f  1\n",
      " 199 -5.4650743e+02 2.96e+00 1.23e+12  -3.9 8.67e+02    -  1.32e-02 5.34e-05h  1\n",
      "iter    objective    inf_pr   inf_du lg(mu)  ||d||  lg(rg) alpha_du alpha_pr  ls\n",
      " 200 -5.4772244e+02 2.84e+00 1.09e+12  -3.9 8.32e+02    -  1.58e-01 2.66e-01f  1\n",
      " 201 -5.4772268e+02 2.84e+00 1.09e+12  -3.9 9.16e+02    -  1.64e-02 4.75e-05h  1\n",
      " 202 -5.4890872e+02 2.77e+00 9.34e+11  -3.9 8.68e+02    -  1.47e-01 2.50e-01f  1\n",
      " 203 -5.4890895e+02 2.77e+00 9.34e+11  -3.9 9.71e+02    -  2.09e-02 4.33e-05h  1\n",
      " 204 -5.5008189e+02 2.75e+00 7.81e+11  -3.9 9.08e+02    -  1.40e-01 2.38e-01f  1\n",
      " 205 -5.5008211e+02 2.75e+00 7.81e+11  -3.9 1.03e+03    -  2.61e-02 4.01e-05h  1\n",
      " 206 -5.5125457e+02 2.75e+00 6.47e+11  -3.9 9.53e+02    -  1.34e-01 2.28e-01f  1\n",
      " 207 -5.5125479e+02 2.75e+00 6.47e+11  -3.9 1.10e+03    -  3.12e-02 3.77e-05h  1\n",
      " 208 -5.5243686e+02 2.79e+00 5.34e+11  -3.9 1.00e+03    -  1.29e-01 2.20e-01f  1\n",
      " 209 -5.5243708e+02 2.79e+00 5.34e+11  -3.9 1.17e+03    -  3.64e-02 3.58e-05h  1\n",
      "iter    objective    inf_pr   inf_du lg(mu)  ||d||  lg(rg) alpha_du alpha_pr  ls\n",
      " 210 -5.5363720e+02 2.87e+00 4.40e+11  -3.9 1.05e+03    -  1.25e-01 2.13e-01f  1\n",
      " 211 -5.5363742e+02 2.87e+00 4.40e+11  -3.9 1.25e+03    -  4.20e-02 3.43e-05h  1\n",
      " 212 -5.5486299e+02 2.97e+00 3.62e+11  -3.9 1.11e+03    -  1.22e-01 2.08e-01f  1\n",
      " 213 -5.5486323e+02 2.97e+00 3.62e+11  -3.9 1.34e+03    -  4.78e-02 3.31e-05h  1\n",
      " 214 -5.5612110e+02 3.10e+00 2.97e+11  -3.9 1.17e+03    -  1.20e-01 2.04e-01f  1\n",
      " 215 -5.5612134e+02 3.10e+00 2.97e+11  -3.9 1.42e+03    -  5.39e-02 3.22e-05h  1\n",
      " 216 -5.5741815e+02 3.26e+00 2.44e+11  -3.9 1.23e+03    -  1.19e-01 2.02e-01f  1\n",
      " 217 -5.5741840e+02 3.26e+00 2.44e+11  -3.9 1.52e+03    -  6.02e-02 3.15e-05h  1\n",
      " 218 -5.5876083e+02 3.46e+00 2.00e+11  -3.9 1.29e+03    -  1.18e-01 2.00e-01f  1\n",
      " 219 -5.5876109e+02 3.46e+00 2.00e+11  -3.9 1.61e+03    -  6.68e-02 3.10e-05h  1\n",
      "iter    objective    inf_pr   inf_du lg(mu)  ||d||  lg(rg) alpha_du alpha_pr  ls\n",
      " 220 -5.6015616e+02 3.69e+00 1.63e+11  -3.9 1.35e+03    -  1.18e-01 1.99e-01f  1\n",
      " 221 -5.6015643e+02 3.69e+00 1.63e+11  -3.9 1.71e+03    -  7.36e-02 3.08e-05h  1\n",
      " 222 -5.6161172e+02 3.95e+00 1.33e+11  -3.9 1.41e+03    -  1.18e-01 2.00e-01f  1\n",
      " 223 -5.6161200e+02 3.95e+00 1.33e+11  -3.9 1.81e+03    -  8.07e-02 3.08e-05h  1\n",
      " 224 -5.6313585e+02 4.26e+00 1.08e+11  -3.9 1.48e+03    -  3.62e-04 2.02e-01f  1\n",
      " 225 -5.6313615e+02 4.26e+00 1.08e+11  -3.9 1.91e+03    -  1.29e-01 3.09e-05h  1\n",
      " 226 -5.6473797e+02 4.62e+00 8.74e+10  -3.9 1.55e+03    -  2.38e-01 2.04e-01f  1\n",
      " 227 -5.6473829e+02 4.62e+00 8.73e+10  -3.9 2.02e+03    -  8.25e-02 3.13e-05h  1\n",
      " 228 -5.6642872e+02 5.03e+00 7.01e+10  -3.9 1.61e+03    -  6.23e-05 2.08e-01f  1\n",
      " 229 -5.6642906e+02 5.03e+00 7.01e+10  -3.9 2.13e+03    -  1.46e-01 3.20e-05h  1\n",
      "iter    objective    inf_pr   inf_du lg(mu)  ||d||  lg(rg) alpha_du alpha_pr  ls\n",
      " 230 -5.6822037e+02 5.50e+00 5.57e+10  -3.9 1.68e+03    -  8.29e-05 2.14e-01f  1\n",
      " 231 -5.6822073e+02 5.50e+00 5.57e+10  -3.9 2.24e+03    -  1.82e-01 3.29e-05h  1\n",
      " 232 -5.6914058e+02 5.33e+00 4.99e+10  -3.9 1.75e+03    -  7.03e-05 1.06e-01f  1\n",
      " 233 -5.6914095e+02 5.33e+00 4.99e+10  -3.9 1.97e+03    -  4.42e-01 3.80e-05h  1\n",
      " 234r-5.6914095e+02 5.33e+00 1.00e+03   0.6 0.00e+00    -  0.00e+00 3.66e-07R  3\n",
      " 235r-5.6913817e+02 4.99e+00 1.21e+05   0.6 4.38e+03    -  1.81e-04 6.39e-05f  1\n",
      " 236r-5.6911917e+02 3.20e+00 3.95e+04   0.6 3.96e+03    -  3.63e-04 4.24e-04f  1\n",
      " 237 -5.6912092e+02 3.19e+00 3.86e+01  -3.9 1.31e+02    -  1.00e-03 2.77e-03h  1\n",
      " 238 -5.6912114e+02 3.18e+00 3.81e+04  -3.9 4.18e+01    -  6.71e-01 1.11e-03f  1\n",
      " 239 -5.6925827e+02 1.04e+00 1.96e+04  -3.9 4.38e+01    -  4.51e-03 6.76e-01h  1\n",
      "iter    objective    inf_pr   inf_du lg(mu)  ||d||  lg(rg) alpha_du alpha_pr  ls\n",
      " 240 -5.6927976e+02 5.20e-01 1.98e+05  -3.9 9.61e+00    -  7.96e-02 5.00e-01h  2\n",
      " 241 -5.6930729e+02 2.45e-01 5.46e+04  -3.9 1.10e+01    -  9.95e-01 5.31e-01h  1\n",
      " 242 -5.6932152e+02 2.70e-04 5.83e+05  -3.9 3.09e+00    -  6.06e-02 1.00e+00h  1\n",
      " 243 -5.7073616e+02 9.73e-01 4.73e+06  -3.9 4.75e+03    -  5.38e-01 6.04e-02f  1\n",
      " 244 -5.7143216e+02 1.04e+00 6.63e+06  -3.9 8.16e+02    -  9.57e-01 1.74e-01f  1\n",
      " 245 -5.7314964e+02 2.13e+00 1.54e+07  -3.9 1.05e+03    -  9.69e-01 3.35e-01f  1\n",
      " 246 -5.7314987e+02 2.13e+00 1.54e+07  -3.9 1.44e+03    -  1.99e-04 3.32e-05h  1\n",
      " 247 -5.7314969e+02 1.49e-05 6.80e+04  -3.9 2.10e+00    -  2.62e-05 1.00e+00h  1\n",
      " 248 -5.7314975e+02 2.25e-09 3.69e+03  -3.9 1.40e-02    -  1.00e+00 1.00e+00h  1\n",
      " 249 -5.7314974e+02 1.64e-10 2.36e+02  -3.9 3.75e-03    -  1.00e+00 1.00e+00h  1\n",
      "iter    objective    inf_pr   inf_du lg(mu)  ||d||  lg(rg) alpha_du alpha_pr  ls\n",
      " 250 -5.7314974e+02 1.53e-10 1.76e-06  -3.9 2.15e-07    -  1.00e+00 1.00e+00h  1\n",
      " 251 -5.7315000e+02 8.82e-09 5.78e+03  -6.0 2.77e-02    -  1.00e+00 1.00e+00f  1\n",
      " 252 -5.7315000e+02 1.53e-10 1.03e-04  -6.0 4.72e-05    -  1.00e+00 1.00e+00h  1\n",
      " 253 -5.7315001e+02 3.05e-10 2.42e-01  -7.6 1.79e-04    -  1.00e+00 1.00e+00h  1\n",
      " 254 -5.7315001e+02 1.53e-10 7.84e-10  -7.6 1.99e-09    -  1.00e+00 1.00e+00h  1\n",
      " 255 -5.7315001e+02 1.92e-10 2.28e-04  -9.0 5.49e-06    -  1.00e+00 1.00e+00h  1\n",
      " 256 -5.7315001e+02 1.09e-11 7.78e-12  -9.0 1.92e-10    -  1.00e+00 1.00e+00h  1\n",
      "\n",
      "Number of Iterations....: 256\n",
      "\n",
      "                                   (scaled)                 (unscaled)\n",
      "Objective...............:  -5.7315000573968177e+02   -5.7315000573968177e+02\n",
      "Dual infeasibility......:   7.7802486675437876e-12    7.7802486675437876e-12\n"
     ]
    },
    {
     "name": "stdout",
     "output_type": "stream",
     "text": [
      "Constraint violation....:   8.9692380638352294e-12    1.0913936421275139e-11\n",
      "Complementarity.........:   9.0909090909091551e-10    9.0909090909091551e-10\n",
      "Overall NLP error.......:   9.0909090909091551e-10    9.0909090909091551e-10\n",
      "\n",
      "\n",
      "Number of objective function evaluations             = 475\n",
      "Number of objective gradient evaluations             = 210\n",
      "Number of equality constraint evaluations            = 475\n",
      "Number of inequality constraint evaluations          = 475\n",
      "Number of equality constraint Jacobian evaluations   = 273\n",
      "Number of inequality constraint Jacobian evaluations = 273\n",
      "Number of Lagrangian Hessian evaluations             = 256\n",
      "Total CPU secs in IPOPT (w/o function evaluations)   =      1.139\n",
      "Total CPU secs in NLP function evaluations           =      0.076\n",
      "\n",
      "EXIT: Optimal Solution Found.\n"
     ]
    }
   ],
   "source": [
    "results = opt.solve(model,tee=True)\n",
    "update_dual(pe,model)"
   ]
  },
  {
   "cell_type": "code",
   "execution_count": 23,
   "metadata": {
    "scrolled": false,
    "slideshow": {
     "slide_type": "slide"
    }
   },
   "outputs": [
    {
     "name": "stdout",
     "output_type": "stream",
     "text": [
      "Component\t\tLiquid: 0.0000\t\t\tVapor: 9.9351\n",
      "------------------------------------------------------------------------------------------------------------\n",
      "H2         \t\t62.6756%\t\t\t66.5550%\n",
      "CO         \t\t36.0167%\t\t\t32.8969%\n",
      "CO2        \t\t 0.5778%\t\t\t 0.2965%\n",
      "H2O        \t\t 0.1824%\t\t\t 0.0612%\n",
      "C2H4       \t\t 0.0732%\t\t\t 0.0308%\n",
      "C3H6       \t\t 0.0754%\t\t\t 0.0177%\n",
      "C4H8       \t\t 0.0305%\t\t\t 0.0079%\n",
      "C5H10      \t\t 0.0219%\t\t\t 0.0030%\n",
      "C6H12      \t\t 0.0171%\t\t\t 0.0014%\n",
      "C7H14      \t\t 0.0124%\t\t\t 0.0007%\n",
      "C8H16      \t\t 0.0087%\t\t\t 0.0003%\n",
      "C9H18      \t\t 0.0058%\t\t\t 0.0001%\n",
      "C10H20     \t\t 0.0038%\t\t\t 0.0001%\n",
      "C11H22     \t\t 0.0016%\t\t\t 0.0000%\n",
      "C12H24     \t\t 0.0010%\t\t\t 0.0000%\n",
      "C13H26     \t\t 0.0006%\t\t\t 0.0000%\n",
      "C14H28     \t\t 0.0004%\t\t\t 0.0000%\n",
      "C15H30     \t\t 0.0002%\t\t\t 0.0000%\n",
      "C16H32     \t\t 0.0001%\t\t\t 0.0000%\n",
      "C17H34     \t\t 0.0001%\t\t\t 0.0000%\n",
      "C18H36     \t\t 0.0000%\t\t\t 0.0000%\n",
      "C19H38     \t\t 0.0000%\t\t\t 0.0000%\n",
      "C20H40     \t\t 0.0000%\t\t\t 0.0000%\n",
      "C1H4       \t\t 0.1735%\t\t\t 0.1014%\n",
      "C2H6       \t\t 0.0419%\t\t\t 0.0166%\n",
      "C3H8       \t\t 0.0177%\t\t\t 0.0044%\n",
      "C4H10      \t\t 0.0108%\t\t\t 0.0025%\n",
      "C5H12      \t\t 0.0141%\t\t\t 0.0018%\n",
      "C6H14      \t\t 0.0109%\t\t\t 0.0008%\n",
      "C7H16      \t\t 0.0079%\t\t\t 0.0004%\n",
      "C8H18      \t\t 0.0054%\t\t\t 0.0002%\n",
      "C9H20      \t\t 0.0036%\t\t\t 0.0001%\n",
      "C10H22     \t\t 0.0024%\t\t\t 0.0000%\n",
      "C11H24     \t\t 0.0025%\t\t\t 0.0000%\n",
      "C12H26     \t\t 0.0015%\t\t\t 0.0000%\n",
      "C13H28     \t\t 0.0010%\t\t\t 0.0000%\n",
      "C14H30     \t\t 0.0006%\t\t\t 0.0000%\n",
      "C15H32     \t\t 0.0004%\t\t\t 0.0000%\n",
      "C16H34     \t\t 0.0002%\t\t\t 0.0000%\n",
      "C17H36     \t\t 0.0001%\t\t\t 0.0000%\n",
      "C18H38     \t\t 0.0001%\t\t\t 0.0000%\n",
      "C19H40     \t\t 0.0000%\t\t\t 0.0000%\n",
      "C20H42     \t\t 0.0000%\t\t\t 0.0000%\n",
      "C21H44     \t\t 0.0000%\t\t\t 0.0000%\n",
      "C22H46     \t\t 0.0000%\t\t\t 0.0000%\n",
      "C23H48     \t\t 0.0000%\t\t\t 0.0000%\n",
      "C24H50     \t\t 0.0000%\t\t\t 0.0000%\n",
      "C25H52     \t\t 0.0000%\t\t\t 0.0000%\n",
      "C26H54     \t\t 0.0000%\t\t\t 0.0000%\n",
      "C27H56     \t\t 0.0000%\t\t\t 0.0000%\n",
      "C28H58     \t\t 0.0000%\t\t\t 0.0000%\n",
      "C29H60     \t\t 0.0000%\t\t\t 0.0000%\n",
      "C30H62     \t\t 0.0000%\t\t\t 0.0000%\n",
      "C31H64     \t\t 0.0000%\t\t\t 0.0000%\n",
      "C32H66     \t\t 0.0000%\t\t\t 0.0000%\n",
      "C33H68     \t\t 0.0000%\t\t\t 0.0000%\n",
      "C34H70     \t\t 0.0000%\t\t\t 0.0000%\n",
      "C35H72     \t\t 0.0000%\t\t\t 0.0000%\n",
      "C36H74     \t\t 0.0000%\t\t\t 0.0000%\n",
      "C37H76     \t\t 0.0000%\t\t\t 0.0000%\n",
      "C38H78     \t\t 0.0000%\t\t\t 0.0000%\n",
      "C39H80     \t\t 0.0000%\t\t\t 0.0000%\n",
      "C40H82     \t\t 0.0000%\t\t\t 0.0000%\n",
      "C41H84     \t\t 0.0000%\t\t\t 0.0000%\n",
      "C42H86     \t\t 0.0000%\t\t\t 0.0000%\n",
      "C43H88     \t\t 0.0000%\t\t\t 0.0000%\n",
      "C44H90     \t\t 0.0000%\t\t\t 0.0000%\n",
      "C45H92     \t\t 0.0000%\t\t\t 0.0000%\n",
      "C46H94     \t\t 0.0000%\t\t\t 0.0000%\n",
      "C47H96     \t\t 0.0000%\t\t\t 0.0000%\n",
      "C48H98     \t\t 0.0000%\t\t\t 0.0000%\n",
      "C49H100    \t\t 0.0000%\t\t\t 0.0000%\n",
      "C50H102    \t\t 0.0000%\t\t\t 0.0000%\n",
      "C51H104    \t\t 0.0000%\t\t\t 0.0000%\n",
      "C52H106    \t\t 0.0000%\t\t\t 0.0000%\n",
      "C53H108    \t\t 0.0000%\t\t\t 0.0000%\n",
      "C54H110    \t\t 0.0000%\t\t\t 0.0000%\n",
      "C55H112    \t\t 0.0000%\t\t\t 0.0000%\n",
      "C56H114    \t\t 0.0000%\t\t\t 0.0000%\n"
     ]
    }
   ],
   "source": [
    "print('Component\\t\\tLiquid: {:.4f}\\t\\t\\tVapor: {:.4f}'.format(model.L['out'].value,model.V['out'].value))\n",
    "print('-'*108)\n",
    "for i in model.x:\n",
    "    print('{:10s}'.format(i),'\\t\\t{:8.4%}\\t\\t\\t{:8.4%}'.format(model.x[i].value,model.y[i].value))"
   ]
  },
  {
   "cell_type": "code",
   "execution_count": 24,
   "metadata": {},
   "outputs": [],
   "source": [
    "# model.solutions.store_to(results)\n",
    "# with open('../../saved_solutions/reactive_flash_MPCC_P_200C.pickle','wb') as f:\n",
    "#     pickle.dump(results,f)"
   ]
  },
  {
   "cell_type": "code",
   "execution_count": 25,
   "metadata": {},
   "outputs": [],
   "source": [
    "# with open('test_model.pickle','wb') as f:\n",
    "#     dill.dump(model,f)"
   ]
  },
  {
   "cell_type": "markdown",
   "metadata": {
    "slideshow": {
     "slide_type": "slide"
    }
   },
   "source": [
    "# Iterative Solve for Data Analysis"
   ]
  },
  {
   "cell_type": "code",
   "execution_count": 26,
   "metadata": {},
   "outputs": [],
   "source": [
    "results_anchor = results\n",
    "update_dual(pe,model)\n",
    "model.solutions.store_to(results_anchor)"
   ]
  },
  {
   "cell_type": "code",
   "execution_count": 27,
   "metadata": {},
   "outputs": [],
   "source": [
    "opt = add_solver(pe, max_iter= 500, warm_start = True, output = False)"
   ]
  },
  {
   "cell_type": "code",
   "execution_count": 28,
   "metadata": {},
   "outputs": [],
   "source": [
    "catrange = [10]\n",
    "Trange = np.linspace(300+273.15,200+273.15,21)"
   ]
  },
  {
   "cell_type": "code",
   "execution_count": 29,
   "metadata": {
    "scrolled": false,
    "slideshow": {
     "slide_type": "fragment"
    }
   },
   "outputs": [
    {
     "name": "stdout",
     "output_type": "stream",
     "text": [
      "------------------------------------------------------------------------------------------------------------\n",
      "> Obj = minimize\n",
      "> cat + MPCC_P_pf.pf\n",
      "------------------------------------------------------------------------------------------------------------\n",
      "\n",
      "Working on Cat = 10.0 kg\n",
      "------------------------------------------------------------------------------------------------------------\n",
      "------------------------------------------------------------------------------------------------------------\n",
      "> Obj = maximize\n",
      "> T - MPCC_P_pf.pf\n",
      "------------------------------------------------------------------------------------------------------------\n",
      "Solved\t|T = 573.15 K | V = 9.9351 kmol/s | L = 0.0000 kmol/s | s_L = 371.4276 | P_VLE = 391.4 | Conv = 1.1\n",
      "Solved\t|T = 568.15 K | V = 9.9440 kmol/s | L = 0.0000 kmol/s | s_L = 376.9860 | P_VLE = 397.0 | Conv = 0.9\n",
      "Solved\t|T = 563.15 K | V = 9.9518 kmol/s | L = 0.0000 kmol/s | s_L = 382.5743 | P_VLE = 402.6 | Conv = 0.8\n",
      "Solved\t|T = 558.15 K | V = 9.9586 kmol/s | L = 0.0000 kmol/s | s_L = 388.1870 | P_VLE = 408.2 | Conv = 0.7\n",
      "Solved\t|T = 553.15 K | V = 9.9645 kmol/s | L = 0.0000 kmol/s | s_L = 393.8144 | P_VLE = 413.8 | Conv = 0.6\n",
      "Solved\t|T = 548.15 K | V = 9.9696 kmol/s | L = 0.0000 kmol/s | s_L = 399.4385 | P_VLE = 419.4 | Conv = 0.5\n",
      "Solved\t|T = 543.15 K | V = 9.9741 kmol/s | L = 0.0000 kmol/s | s_L = 405.0224 | P_VLE = 425.0 | Conv = 0.4\n",
      "Solved\t|T = 538.15 K | V = 9.9779 kmol/s | L = 0.0000 kmol/s | s_L = 410.4844 | P_VLE = 430.5 | Conv = 0.4\n",
      "Solved\t|T = 533.15 K | V = 9.9813 kmol/s | L = 0.0000 kmol/s | s_L = 415.6127 | P_VLE = 435.6 | Conv = 0.3\n",
      "Solved\t|T = 528.15 K | V = 9.9841 kmol/s | L = 0.0000 kmol/s | s_L = 419.7556 | P_VLE = 439.8 | Conv = 0.3\n",
      "Solved\t|T = 523.15 K | V = 9.9866 kmol/s | L = 0.0000 kmol/s | s_L = 420.5522 | P_VLE = 440.6 | Conv = 0.2\n",
      "Solved\t|T = 518.15 K | V = 9.9887 kmol/s | L = 0.0000 kmol/s | s_L = 408.8252 | P_VLE = 428.8 | Conv = 0.2\n",
      "Solved\t|T = 513.15 K | V = 9.9905 kmol/s | L = 0.0000 kmol/s | s_L = 355.1261 | P_VLE = 375.1 | Conv = 0.2\n",
      "Solved\t|T = 508.15 K | V = 9.9921 kmol/s | L = 0.0000 kmol/s | s_L = 228.6826 | P_VLE = 248.7 | Conv = 0.1\n",
      "Solved\t|T = 503.15 K | V = 9.9934 kmol/s | L = 0.0000 kmol/s | s_L = 89.7093 | P_VLE = 109.7 | Conv = 0.1\n",
      "Solved\t|T = 498.15 K | V = 9.9945 kmol/s | L = 0.0000 kmol/s | s_L = 18.1835 | P_VLE = 38.2 | Conv = 0.1\n",
      "Solved\t|T = 493.15 K | V = 9.9954 kmol/s | L = 0.0000 kmol/s | s_L = 0.3726 | P_VLE = 20.4 | Conv = 0.1\n",
      "Solved\t|T = 488.15 K | V = 9.9962 kmol/s | L = 0.0000 kmol/s | s_L = 0.0428 | P_VLE = 20.0 | Conv = 0.1\n",
      "Solved\t|T = 483.15 K | V = 9.9969 kmol/s | L = 0.0000 kmol/s | s_L = 0.0169 | P_VLE = 20.0 | Conv = 0.0\n",
      "Solved\t|T = 478.15 K | V = 9.9975 kmol/s | L = 0.0000 kmol/s | s_L = 0.0102 | P_VLE = 20.0 | Conv = 0.0\n",
      "Solved\t|T = 473.15 K | V = 9.9980 kmol/s | L = 0.0000 kmol/s | s_L = 0.0078 | P_VLE = 20.0 | Conv = 0.0\n"
     ]
    }
   ],
   "source": [
    "rf_data_master = {}\n",
    "\n",
    "for c in catrange:\n",
    "    model.del_component(model.obj)\n",
    "    model.obj = augmented_objective(pe, model, expr = model.cat, sense=pe.minimize)\n",
    "\n",
    "    model.solutions.load_from(results_anchor)\n",
    "    update_dual(pe,model) \n",
    "       \n",
    "    model.T.fix(300+273.15)\n",
    "    model.cat.fixed = False\n",
    "    model.cat.setlb(c)\n",
    "    \n",
    "    results_anchor = opt.solve(model,tee=False)\n",
    "    model.solutions.store_to(results_anchor)\n",
    "    update_dual(pe,model)\n",
    "    \n",
    "    print('\\nWorking on Cat = {} kg'.format(model.cat.value))\n",
    "    print('-'*108)\n",
    "    \n",
    "    model.del_component(model.obj)\n",
    "    model.obj = augmented_objective(pe, model, expr = model.T, sense=pe.maximize)\n",
    "    model.T.fixed = False\n",
    "    model.cat.fixed = True\n",
    "\n",
    "    \n",
    "    rf_data = {}\n",
    "    rf_data['x'] = {};rf_data['y'] = {};\n",
    "    rf_data['T'] = []; rf_data['Q'] = []; rf_data['V'] = []; rf_data['L'] = []; rf_data['P_VLE'] = []; \n",
    "    rf_data['s_L'] = [];\n",
    "    for i in m.COMP_TOTAL:\n",
    "        rf_data['x'][i] = []\n",
    "        rf_data['y'][i] = []       \n",
    "\n",
    "    for t in Trange:\n",
    "        model.T.setub(t)\n",
    "        results = opt.solve(model,tee=False)\n",
    "        update_dual(pe,model)\n",
    "        model.T.setub(300+273.15)\n",
    "        \n",
    "        conv = model.kinetics_block.r_FT_total.value / ( model.F.value * model.z['CO'].value )\n",
    "        total_conv = 1 - model.V['out'].value*(model.y['CO'].value+model.y['H2'].value) / (model.F.value)\n",
    "        \n",
    "        print('Solved\\t|T = {:.2f} K | V = {:.4f} kmol/s | L = {:.4f} kmol/s | s_L = {:.4f} | P_VLE = {:.1f} | Conv = {:.1f}'.\\\n",
    "              format(model.T.value,model.V['out'].value,model.L['out'].value,which_MPCC(model).s_L.value,\\\n",
    "                     model.VLE_block.P_VLE.value, 100*conv ))\n",
    "\n",
    "    \n",
    "        rf_data['T'].append(model.T.value)\n",
    "        rf_data['Q'].append(model.Q_main.value)\n",
    "        rf_data['V'].append(model.V['out'].value)\n",
    "        rf_data['L'].append(model.L['out'].value)\n",
    "        rf_data['P_VLE'].append(model.VLE_block.P_VLE.value)\n",
    "        rf_data['s_L'].append(which_MPCC(model).s_L.value)\n",
    "\n",
    "        for i in m.COMP_TOTAL:\n",
    "            rf_data['x'][i].append(model.x[i].value)\n",
    "            rf_data['y'][i].append(model.y[i].value)\n",
    "        \n",
    "    rf_data_master[c] = rf_data"
   ]
  },
  {
   "cell_type": "markdown",
   "metadata": {},
   "source": [
    "# Optimization results across disappearing phases"
   ]
  },
  {
   "cell_type": "code",
   "execution_count": 30,
   "metadata": {},
   "outputs": [
    {
     "data": {
      "image/png": "[encoded data removed]",
      "text/plain": [
       "<Figure size 1152x648 with 2 Axes>"
      ]
     },
     "metadata": {},
     "output_type": "display_data"
    }
   ],
   "source": [
    "fig, (ax1,ax2) = plt.subplots(1,2,figsize=(16,9))\n",
    "for c in catrange:\n",
    "    ax1.plot(Trange,rf_data_master[c]['V'])\n",
    "ax1.set_ylabel('Vapor Flow Rate (kmol/s)',fontsize=14)\n",
    "ax1.set_xlabel('Temperature (K)',fontsize=14)\n",
    "ax1.tick_params(labelsize=14)\n",
    "ax1.grid()\n",
    "\n",
    "for c in catrange:\n",
    "    ax2.plot(Trange,rf_data_master[c]['L'])\n",
    "ax2.set_ylabel('Liquid Flow Rate (kmol/s)',fontsize=14)\n",
    "ax2.set_xlabel('Temperature (K)',fontsize=14)\n",
    "ax2.tick_params(labelsize=14)\n",
    "ax2.grid()\n",
    "\n",
    "ax2.legend(catrange,fontsize=14)\n",
    "fig.suptitle('Vapor and Liquid Flow Rate',fontsize=18)\n",
    "\n",
    "plt.show()"
   ]
  },
  {
   "cell_type": "code",
   "execution_count": 31,
   "metadata": {},
   "outputs": [
    {
     "data": {
      "image/png": "[encoded data removed]",
      "text/plain": [
       "<Figure size 1152x648 with 1 Axes>"
      ]
     },
     "metadata": {},
     "output_type": "display_data"
    }
   ],
   "source": [
    "fig, ax1 = plt.subplots(figsize=(16,9))\n",
    "for c in catrange:\n",
    "    ax1.plot(Trange,np.divide(rf_data_master[c]['V'],np.add(rf_data_master[c]['V'],rf_data_master[c]['L'])))\n",
    "ax1.set_ylabel('Vapor Fraction',fontsize=14)\n",
    "ax1.set_xlabel('Temperature (K)',fontsize=14)\n",
    "ax1.tick_params(labelsize=14)\n",
    "ax1.legend(catrange,fontsize=14)\n",
    "ax1.set_title('Vapor Fraction',fontsize=18)\n",
    "ax1.grid()\n",
    "plt.show()"
   ]
  },
  {
   "cell_type": "code",
   "execution_count": 32,
   "metadata": {},
   "outputs": [
    {
     "data": {
      "image/png": "[encoded data removed]",
      "text/plain": [
       "<Figure size 1152x648 with 1 Axes>"
      ]
     },
     "metadata": {},
     "output_type": "display_data"
    }
   ],
   "source": [
    "fig, ax1 = plt.subplots(figsize=(16,9))\n",
    "for c in catrange:\n",
    "    ax1.plot(Trange,rf_data_master[c]['P_VLE'])\n",
    "ax1.set_ylabel(r'$P_{VLE}$ value',fontsize=14)\n",
    "ax1.set_xlabel('Temperature (K)',fontsize=14)\n",
    "ax1.tick_params(labelsize=14)\n",
    "ax1.legend(catrange,fontsize=14)\n",
    "ax1.set_title(r'$P_{VLE}$ (Bar)',fontsize=18)\n",
    "ax1.grid()\n",
    "plt.show()"
   ]
  },
  {
   "cell_type": "code",
   "execution_count": 33,
   "metadata": {},
   "outputs": [
    {
     "data": {
      "image/png": "[encoded data removed]",
      "text/plain": [
       "<Figure size 1152x648 with 1 Axes>"
      ]
     },
     "metadata": {},
     "output_type": "display_data"
    }
   ],
   "source": [
    "fig, ax1 = plt.subplots(figsize=(16,9))\n",
    "for c in catrange:\n",
    "    ax1.plot(Trange,np.multiply(rf_data_master[c]['s_L'],rf_data_master[c]['L']))\n",
    "ax1.set_ylabel(r'$s_L \\cdot L$ value',fontsize=14)\n",
    "ax1.set_xlabel('Temperature (K)',fontsize=14)\n",
    "ax1.tick_params(labelsize=14)\n",
    "ax1.legend(catrange,fontsize=14)\n",
    "# ax1.set_ylim(2.49e-5,2.51e-5)\n",
    "ax1.set_title(r'$s_L \\cdot L$',fontsize=18)\n",
    "ax1.grid()\n",
    "plt.show()"
   ]
  },
  {
   "cell_type": "code",
   "execution_count": null,
   "metadata": {},
   "outputs": [],
   "source": []
  }
 ],
 "metadata": {
  "kernelspec": {
   "display_name": "Python 3",
   "language": "python",
   "name": "python3"
  },
  "language_info": {
   "codemirror_mode": {
    "name": "ipython",
    "version": 3
   },
   "file_extension": ".py",
   "mimetype": "text/x-python",
   "name": "python",
   "nbconvert_exporter": "python",
   "pygments_lexer": "ipython3",
   "version": "3.6.5"
  }
 },
 "nbformat": 4,
 "nbformat_minor": 2
}
