{
 "cells": [
  {
   "cell_type": "code",
   "execution_count": null,
   "metadata": {},
   "outputs": [],
   "source": [
    "%matplotlib inline\n",
    "'''\n",
    "How to Optimize Your Dragon: V1\n",
    "Import initialized model and start the optimization\n",
    "'''\n",
    "# system imports\n",
    "import sys\n",
    "import os\n",
    "import datetime\n",
    "sys.path.append(os.path.abspath('..'))\n",
    "sys.path.append(os.path.abspath('../..'))\n",
    "\n",
    "import numpy as np\n",
    "from matplotlib import pyplot as plt\n",
    "from matplotlib.backends.backend_pdf import PdfPages\n",
    "\n",
    "import dill\n",
    "\n",
    "# pyomo imports\n",
    "from pyomo import environ as pe\n",
    "from global_sets.component import m\n",
    "\n",
    "from stages.reactive_stage import reactive_stage_rule\n",
    "from stages.condenser_stage import condenser_stage_rule\n",
    "from stages.reboiler_stage import reboiler_stage_rule\n",
    "\n",
    "from utility.display_utility import beautify, beautify_reactive, HiddenLogs, HiddenPrints, plot_distribution,\\\n",
    "                                    trans_cnumber, trans_product_mole, check_product_spec\n",
    "from utility.model_utility import add_dual, update_dual, delete_dual, check_DOF, tray_translator, check_iteration# , check_violate_constraint\n",
    "from utility.data_utility import cal_cnumber\n",
    "from utility.time_utility import create_filename_time, log_now, log_end"
   ]
  },
  {
   "cell_type": "code",
   "execution_count": null,
   "metadata": {},
   "outputs": [],
   "source": [
    "logname = create_filename_time()\n",
    "log_text_dir = './log/text/opt_'+logname+'.dat'\n",
    "log_figure_dir = './log/figure/opt_'+logname+'.pdf'"
   ]
  },
  {
   "cell_type": "code",
   "execution_count": null,
   "metadata": {},
   "outputs": [],
   "source": [
    "with open('./log/model/stage_20_base_product.pickle','rb') as f:\n",
    "    model = dill.load(f)"
   ]
  },
  {
   "cell_type": "code",
   "execution_count": null,
   "metadata": {},
   "outputs": [],
   "source": [
    "check_DOF(pe,model)"
   ]
  },
  {
   "cell_type": "markdown",
   "metadata": {},
   "source": [
    "# Add tray optimization related sets and variables"
   ]
  },
  {
   "cell_type": "code",
   "execution_count": null,
   "metadata": {},
   "outputs": [],
   "source": [
    "model.TRAY_total = pe.Set(initialize=['condenser']+[str(i) for i in model.TRAY]+['reboiler'])\n",
    "model.TRAY_total.ordered = True"
   ]
  },
  {
   "cell_type": "code",
   "execution_count": null,
   "metadata": {},
   "outputs": [],
   "source": [
    "model.P_tray_ratio = pe.Var(model.TRAY_total,m.PRODUCT,within=pe.NonNegativeReals,initialize=0,bounds=(0,1))\n",
    "model.P_total = pe.Var(m.PRODUCT,within=pe.NonNegativeReals,initialize=0)\n",
    "model.P_total_dry = pe.Var(m.PRODUCT,within=pe.NonNegativeReals,initialize=0)\n",
    "model.x_P = pe.Var(m.COMP_TOTAL,m.PRODUCT,within=pe.NonNegativeReals,bounds=(0,1))\n",
    "model.x_P_dry = pe.Var(m.COMP_ORG,m.PRODUCT,within=pe.NonNegativeReals,bounds=(0,1))"
   ]
  },
  {
   "cell_type": "markdown",
   "metadata": {},
   "source": [
    "# Add equations"
   ]
  },
  {
   "cell_type": "markdown",
   "metadata": {},
   "source": [
    "### Product split and mixing"
   ]
  },
  {
   "cell_type": "code",
   "execution_count": null,
   "metadata": {},
   "outputs": [],
   "source": [
    "# sum of liquid draw for all products for each stage\n",
    "def stage_sum_product_rule(model,j):\n",
    "    return 1 == sum(model.P_tray_ratio[j,p] for p in m.PRODUCT)\n",
    "model.stage_sum_product_con = pe.Constraint(model.TRAY_total,rule=stage_sum_product_rule)\n",
    "\n",
    "# liquid product mass balance\n",
    "def product_sum_stage_rule(model,p):\n",
    "    return model.P_total[p] == sum(model.P_tray_ratio[j,p]*tray_translator(model,j).L['P'] for j in model.TRAY_total)\n",
    "model.product_sum_stage_con = pe.Constraint(m.PRODUCT,rule=product_sum_stage_rule)\n",
    "\n",
    "# liquid product component mass balance\n",
    "def mass_balance_product_rule(model,i,p):\n",
    "    return sum(model.P_tray_ratio[j,p]*tray_translator(model,j).L['P']*tray_translator(model,j).x[i] for j in model.TRAY_total) == model.P_total[p]*model.x_P[i,p]\n",
    "model.mass_balance_product_con = pe.Constraint(m.COMP_TOTAL,m.PRODUCT,rule=mass_balance_product_rule)"
   ]
  },
  {
   "cell_type": "markdown",
   "metadata": {},
   "source": [
    "### Dry composition"
   ]
  },
  {
   "cell_type": "code",
   "execution_count": null,
   "metadata": {},
   "outputs": [],
   "source": [
    "# dry liquid product component \n",
    "def product_sum_dry_rule(model,p):\n",
    "    return model.P_total_dry[p] == model.P_total[p] * (1 - sum(model.x_P[i,p] for i in m.COMP_INORG))\n",
    "model.product_sum_dry_con = pe.Constraint(m.PRODUCT,rule=product_sum_dry_rule)\n",
    "\n",
    "# dry liquid product component mass balance\n",
    "def mass_balance_dry_rule(model,i,p):\n",
    "    return model.x_P_dry[i,p] * (1 - sum(model.x_P[i,p] for i in m.COMP_INORG)) == model.x_P[i,p]\n",
    "model.mass_balance_dry_con = pe.Constraint(m.COMP_ORG,m.PRODUCT,rule=mass_balance_dry_rule)"
   ]
  },
  {
   "cell_type": "markdown",
   "metadata": {},
   "source": [
    "# Transfer from original liquid side-draw variable to product variable"
   ]
  },
  {
   "cell_type": "markdown",
   "metadata": {},
   "source": [
    "### Transfer fixed side-draw variables"
   ]
  },
  {
   "cell_type": "code",
   "execution_count": null,
   "metadata": {},
   "outputs": [],
   "source": [
    "model.P_tray_ratio[:,:].fix(0)\n",
    "model.P_tray_ratio[:,'intermediate'].unfix();\n",
    "model.P_tray_ratio['condenser','naphtha'].fix(1)\n",
    "# model.P_tray_ratio['4','intermediate'].fix(1)\n",
    "model.P_tray_ratio['7','gasoline'].fix(1)\n",
    "model.P_tray_ratio['10','diesel'].fix(1)\n",
    "model.P_tray_ratio['reboiler','heavy'].fix(1)"
   ]
  },
  {
   "cell_type": "markdown",
   "metadata": {},
   "source": [
    "### Initialized newly created value"
   ]
  },
  {
   "cell_type": "code",
   "execution_count": null,
   "metadata": {},
   "outputs": [],
   "source": [
    "model.P_total['naphtha'].set_value(model.condenser.L['P'].value)\n",
    "model.P_total['intermediate'].set_value(model.reactive[4].L['P'].value)\n",
    "model.P_total['gasoline'].set_value(model.reactive[7].L['P'].value)\n",
    "model.P_total['diesel'].set_value(model.reactive[10].L['P'].value)\n",
    "model.P_total['heavy'].set_value(model.reboiler.L['P'].value)\n",
    "\n",
    "for i in m.COMP_TOTAL:\n",
    "    model.x_P[i,'naphtha'].set_value(model.condenser.x[i].value)\n",
    "    model.x_P[i,'intermediate'].set_value(model.reactive[4].x[i].value)\n",
    "    model.x_P[i,'gasoline'].set_value(model.reactive[7].x[i].value)\n",
    "    model.x_P[i,'diesel'].set_value(model.reactive[10].x[i].value)\n",
    "    model.x_P[i,'heavy'].set_value(model.reboiler.x[i].value)"
   ]
  },
  {
   "cell_type": "code",
   "execution_count": null,
   "metadata": {},
   "outputs": [],
   "source": [
    "model.P_total_dry['naphtha'].set_value(model.condenser.L['P'].value * (1 - sum(model.condenser.x[i].value for i in m.COMP_INORG)))\n",
    "model.P_total_dry['intermediate'].set_value(model.reactive[4].L['P'].value * (1 - sum(model.reactive[4].x[i].value for i in m.COMP_INORG)))\n",
    "model.P_total_dry['gasoline'].set_value(model.reactive[7].L['P'].value * (1 - sum(model.reactive[7].x[i].value for i in m.COMP_INORG)))\n",
    "model.P_total_dry['diesel'].set_value(model.reactive[10].L['P'].value * (1 - sum(model.reactive[10].x[i].value for i in m.COMP_INORG)))\n",
    "model.P_total_dry['heavy'].set_value(model.reboiler.L['P'].value * (1 - sum(model.reboiler.x[i].value for i in m.COMP_INORG)))\n",
    "\n",
    "for i in m.COMP_ORG:\n",
    "    model.x_P_dry[i,'naphtha'].set_value(model.condenser.x[i].value / (1 - sum(model.condenser.x[i].value for i in m.COMP_INORG)))\n",
    "    model.x_P_dry[i,'intermediate'].set_value(model.reactive[4].x[i].value / (1 - sum(model.reactive[4].x[i].value for i in m.COMP_INORG)))\n",
    "    model.x_P_dry[i,'gasoline'].set_value(model.reactive[7].x[i].value / (1 - sum(model.reactive[7].x[i].value for i in m.COMP_INORG)))\n",
    "    model.x_P_dry[i,'diesel'].set_value(model.reactive[10].x[i].value / (1 - sum(model.reactive[10].x[i].value for i in m.COMP_INORG)))\n",
    "    model.x_P_dry[i,'heavy'].set_value(model.reboiler.x[i].value / (1 - sum(model.reboiler.x[i].value for i in m.COMP_INORG)))"
   ]
  },
  {
   "cell_type": "markdown",
   "metadata": {},
   "source": [
    "### Initialize"
   ]
  },
  {
   "cell_type": "code",
   "execution_count": null,
   "metadata": {},
   "outputs": [],
   "source": [
    "check_DOF(pe,model)"
   ]
  },
  {
   "cell_type": "code",
   "execution_count": null,
   "metadata": {},
   "outputs": [],
   "source": [
    "opt = pe.SolverFactory('ipopt')\n",
    "\n",
    "opt.options['print_user_options'] = 'yes'\n",
    "opt.options['linear_solver'] = 'ma86'\n",
    "opt.options['output_file'] = './tmp/ipopt_output_tmp.output'\n",
    "opt.options['linear_system_scaling '] = 'mc19'\n",
    "opt.options['linear_scaling_on_demand '] = 'no'\n",
    "\n",
    "opt.options['max_iter'] = 7000\n",
    "opt.options['warm_start_init_point'] = 'yes'\n",
    "opt.options['warm_start_bound_push'] = 1e-20\n",
    "opt.options['warm_start_mult_bound_push'] = 1e-20\n",
    "opt.options['mu_init'] = 1e-6"
   ]
  },
  {
   "cell_type": "code",
   "execution_count": null,
   "metadata": {
    "scrolled": true
   },
   "outputs": [],
   "source": [
    "results = opt.solve(model,tee=True)\n",
    "update_dual(pe,model)"
   ]
  },
  {
   "cell_type": "code",
   "execution_count": null,
   "metadata": {},
   "outputs": [],
   "source": [
    "pdf = PdfPages(log_figure_dir)"
   ]
  },
  {
   "cell_type": "code",
   "execution_count": null,
   "metadata": {},
   "outputs": [],
   "source": [
    "with HiddenLogs(log_text_dir,'w'):\n",
    "    print('\\n>','Original 20 stage case')\n",
    "    print('-'*108)\n",
    "    beautify(pe,model)\n",
    "    check_product_spec(model)\n",
    "    log_now()\n",
    "\n",
    "plot_distribution(model,pdf,'Original 20 stage case')"
   ]
  },
  {
   "cell_type": "markdown",
   "metadata": {},
   "source": [
    "# Optimization Input"
   ]
  },
  {
   "cell_type": "markdown",
   "metadata": {},
   "source": [
    "**Parameters:**\n",
    "* Stage Temperature\n",
    "    * Rectifying section: 200C - 300C\n",
    "    * Stripping section: 200C - 300C\n",
    "* Reflux\n",
    "    * Distillate / (Distillate + Reflux): 0.5 - 0.05, Refulx Ratio: 1 - 19\n",
    "* Side-draw ratio\n",
    "    * PR_L: 0 - 1\n",
    "\n",
    "**Constraints:**\n",
    "* Product\n",
    "    * Distillate: C5~C7 >= 0.75\n",
    "    * Gasoline: C8~C12 >= 0.75\n",
    "    * Diesel: C13~C18 >= 0.6\n",
    "    * Heavy: C19+ >= 0.85\n",
    "    \n",
    "**Objective:**\n",
    "* Max gasoline production"
   ]
  },
  {
   "cell_type": "markdown",
   "metadata": {},
   "source": [
    "### Open up parameters"
   ]
  },
  {
   "cell_type": "code",
   "execution_count": null,
   "metadata": {},
   "outputs": [],
   "source": [
    "# temperature\n",
    "for j in model.TRAY_reactive:\n",
    "    model.reactive[j].T.setlb(200+273.15)\n",
    "    model.reactive[j].T.setub(300+273.15)\n",
    "\n",
    "# reflux\n",
    "model.condenser.PR_L.unfix()\n",
    "model.condenser.PR_L.setlb(0.05)\n",
    "model.condenser.PR_L.setub(0.5)\n",
    "\n",
    "# stage side-draw\n",
    "model.reactive[4].PR_L.unfix()\n",
    "model.reactive[7].PR_L.unfix()\n",
    "model.reactive[10].PR_L.unfix()"
   ]
  },
  {
   "cell_type": "markdown",
   "metadata": {},
   "source": [
    "### Constraints"
   ]
  },
  {
   "cell_type": "code",
   "execution_count": null,
   "metadata": {},
   "outputs": [],
   "source": [
    "model.quality_spec = pe.Param(m.PRODUCT,initialize={\\\n",
    "                    'naphtha':0.75,'gasoline':0.75,'diesel':0.6,'heavy':0.85},mutable=True)"
   ]
  },
  {
   "cell_type": "code",
   "execution_count": null,
   "metadata": {},
   "outputs": [],
   "source": [
    "def product_spec_rule(model,p):\n",
    "    if p == 'intermediate':\n",
    "        return pe.Constraint.Skip\n",
    "    return sum(model.x_P_dry[i,p] for i in m.PRODUCT_cnumber[p]) >= model.quality_spec[p]\n",
    "model.product_spec_con = pe.Constraint(m.PRODUCT,rule=product_spec_rule)"
   ]
  },
  {
   "cell_type": "markdown",
   "metadata": {},
   "source": [
    "### Objective"
   ]
  },
  {
   "cell_type": "code",
   "execution_count": null,
   "metadata": {},
   "outputs": [],
   "source": [
    "model.del_component(model.obj)\n",
    "model.obj = pe.Objective(expr = model.P_total['gasoline'] - sum(model.reactive[j].MPCC.pf for j in model.reactive)\\\n",
    "                                - model.reboiler.MPCC.pf, sense = pe.maximize)"
   ]
  },
  {
   "cell_type": "code",
   "execution_count": null,
   "metadata": {
    "scrolled": true
   },
   "outputs": [],
   "source": [
    "results = opt.solve(model,tee=True)\n",
    "update_dual(pe,model)"
   ]
  },
  {
   "cell_type": "code",
   "execution_count": null,
   "metadata": {
    "scrolled": false
   },
   "outputs": [],
   "source": [
    "with HiddenLogs(log_text_dir):\n",
    "    print('\\n>','Optimized Product Side Draw')\n",
    "    print('-'*108)\n",
    "    beautify(pe,model)\n",
    "    check_product_spec(model)\n",
    "    log_now()\n",
    "\n",
    "plot_distribution(model,pdf,'Optimized Temperature, Reflux and Product Side Draw')"
   ]
  }
 ],
 "metadata": {
  "kernelspec": {
   "display_name": "Python 3",
   "language": "python",
   "name": "python3"
  },
  "language_info": {
   "codemirror_mode": {
    "name": "ipython",
    "version": 3
   },
   "file_extension": ".py",
   "mimetype": "text/x-python",
   "name": "python",
   "nbconvert_exporter": "python",
   "pygments_lexer": "ipython3",
   "version": "3.6.3"
  }
 },
 "nbformat": 4,
 "nbformat_minor": 2
}
