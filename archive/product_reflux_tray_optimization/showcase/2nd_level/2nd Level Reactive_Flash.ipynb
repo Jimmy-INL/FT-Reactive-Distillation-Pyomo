{
 "cells": [
  {
   "cell_type": "markdown",
   "metadata": {
    "slideshow": {
     "slide_type": "slide"
    }
   },
   "source": [
    "# 2nd Level Model Structure: Reactive Stage"
   ]
  },
  {
   "cell_type": "code",
   "execution_count": 1,
   "metadata": {},
   "outputs": [],
   "source": [
    "import sys\n",
    "import os\n",
    "import pickle\n",
    "sys.path.append(os.path.abspath('..'))\n",
    "sys.path.append(os.path.abspath('../..'))\n",
    "import numpy as np\n",
    "from matplotlib import pyplot as plt"
   ]
  },
  {
   "cell_type": "code",
   "execution_count": 2,
   "metadata": {
    "slideshow": {
     "slide_type": "fragment"
    }
   },
   "outputs": [],
   "source": [
    "from pyomo import environ as pe\n",
    "from global_sets.component import m\n",
    "from utility.display_utility import trans_product_mole, trans_product_mass\n",
    "from utility.model_utility import add_dual, update_dual, check_DOF\n",
    "\n",
    "# stage construction rules\n",
    "from physics.kinetics.kinetics_reactive import kinetic_block_rule\n",
    "from physics.energy.energy_reactive import energy_block_rule\n",
    "from physics.VLE.VLE_reactive import VLE_block_rule\n",
    "\n",
    "model = pe.ConcreteModel()"
   ]
  },
  {
   "cell_type": "markdown",
   "metadata": {
    "slideshow": {
     "slide_type": "subslide"
    }
   },
   "source": [
    "# Global Sets (Inlet / Outlet)"
   ]
  },
  {
   "cell_type": "code",
   "execution_count": 3,
   "metadata": {
    "slideshow": {
     "slide_type": "fragment"
    }
   },
   "outputs": [],
   "source": [
    "model.inlet = pe.Set(initialize=['in'])\n",
    "model.outlet = pe.Set(initialize=['out','P'])\n",
    "model.stream = model.inlet | model.outlet"
   ]
  },
  {
   "cell_type": "markdown",
   "metadata": {
    "slideshow": {
     "slide_type": "subslide"
    }
   },
   "source": [
    "# Global Variables"
   ]
  },
  {
   "cell_type": "code",
   "execution_count": 4,
   "metadata": {
    "slideshow": {
     "slide_type": "fragment"
    }
   },
   "outputs": [],
   "source": [
    "# Tray Inlet/Outlet Variable\n",
    "model.x_ = pe.Var(model.inlet,m.COMP_TOTAL,within=pe.NonNegativeReals)\n",
    "model.y_ = pe.Var(model.inlet,m.COMP_TOTAL,within=pe.NonNegativeReals)\n",
    "model.x = pe.Var(m.COMP_TOTAL,within=pe.NonNegativeReals)\n",
    "model.y = pe.Var(m.COMP_TOTAL,within=pe.NonNegativeReals)\n",
    "model.z = pe.Var(m.COMP_FEED,within=pe.NonNegativeReals)\n",
    "\n",
    "model.L = pe.Var(model.stream,within=pe.NonNegativeReals)\n",
    "model.V = pe.Var(model.stream,within=pe.NonNegativeReals)\n",
    "model.F = pe.Var(within=pe.NonNegativeReals)\n",
    "\n",
    "model.H_L_ = pe.Var(model.inlet,within=pe.Reals)\n",
    "model.H_V_ = pe.Var(model.inlet,within=pe.Reals)\n",
    "model.H_L = pe.Var(within=pe.Reals)\n",
    "model.H_V = pe.Var(within=pe.Reals)\n",
    "model.H_F = pe.Var(within=pe.Reals)\n",
    "\n",
    "# State Variable\n",
    "model.T = pe.Var(within=pe.NonNegativeReals,bounds=(100+273.15,300+273.15)) # K\n",
    "model.T_F = pe.Var(within=pe.NonNegativeReals) # K\n",
    "model.P = pe.Var(within=pe.NonNegativeReals,bounds=(10,30)) # Bar\n",
    "\n",
    "model.f_V = pe.Var(m.COMP_TOTAL,within=pe.NonNegativeReals,initialize=1e-20)\n",
    "model.f_L = pe.Var(m.COMP_TOTAL,within=pe.NonNegativeReals,initialize=1e-20)\n",
    "\n",
    "model.cat = pe.Var(within=pe.NonNegativeReals) # kg\n",
    "model.Q_main = pe.Var(within=pe.Reals) # MW\n",
    "model.r_total_comp = pe.Var(m.COMP_TOTAL,within=pe.Reals) # kmol/s"
   ]
  },
  {
   "cell_type": "markdown",
   "metadata": {
    "slideshow": {
     "slide_type": "slide"
    }
   },
   "source": [
    "# Construct Individual Blocks"
   ]
  },
  {
   "cell_type": "code",
   "execution_count": 5,
   "metadata": {
    "slideshow": {
     "slide_type": "subslide"
    }
   },
   "outputs": [
    {
     "name": "stdout",
     "output_type": "stream",
     "text": [
      "> Importing Kinetics Blocks......\n",
      "> Adding the following local variable:\n",
      "--------------------------------------------------\n",
      "| kinetics_block.k_FT\n",
      "| kinetics_block.r_FT_total\n",
      "| kinetics_block.g0_FT\n",
      "| kinetics_block.alpha\n",
      "| kinetics_block.r_FT_cnum\n",
      "| kinetics_block.r_FT_comp\n",
      "| kinetics_block.k_WGS\n",
      "| kinetics_block.Ke_WGS\n",
      "| kinetics_block.r_WGS\n",
      "| kinetics_block.r_WGS_comp\n",
      "--------------------------------------------------\n",
      "\n"
     ]
    }
   ],
   "source": [
    "model.kinetics_block = pe.Block(rule=kinetic_block_rule)"
   ]
  },
  {
   "cell_type": "code",
   "execution_count": 6,
   "metadata": {
    "slideshow": {
     "slide_type": "subslide"
    }
   },
   "outputs": [
    {
     "name": "stdout",
     "output_type": "stream",
     "text": [
      "> Importing Energy Blocks......\n",
      "> Adding the following local variable:\n",
      "--------------------------------------------------\n",
      "| energy_block.dH_F\n",
      "| energy_block.dH_V\n",
      "| energy_block.dH_L\n",
      "| energy_block.dH_vap\n",
      "--------------------------------------------------\n",
      "\n"
     ]
    }
   ],
   "source": [
    "model.energy_block = pe.Block(rule=energy_block_rule)"
   ]
  },
  {
   "cell_type": "code",
   "execution_count": 7,
   "metadata": {
    "scrolled": false,
    "slideshow": {
     "slide_type": "subslide"
    }
   },
   "outputs": [
    {
     "name": "stdout",
     "output_type": "stream",
     "text": [
      "> Importing VLE Blocks......\n",
      "> Adding the following local variable:\n",
      "--------------------------------------------------\n",
      "| VLE_block.n_ave\n",
      "| VLE_block.n_ave_cal\n",
      "| VLE_block.Hen\n",
      "| VLE_block.Hen0\n",
      "| VLE_block.gamma\n",
      "| VLE_block.P_sat\n",
      "| VLE_block.P_sat_Y\n",
      "| VLE_block.P_sat_dY_inf\n",
      "| VLE_block.P_sat_dY0\n",
      "| VLE_block.Hen_ref\n",
      "| VLE_block.Hen0_ref\n",
      "| VLE_block.gamma_ref\n",
      "| VLE_block.V_L\n",
      "| VLE_block.V_L_dY_inf\n",
      "| VLE_block.V_L_dY0\n",
      "| VLE_block.poynting\n",
      "--------------------------------------------------\n",
      "\n"
     ]
    }
   ],
   "source": [
    "model.VLE_block = pe.Block(rule=VLE_block_rule)"
   ]
  },
  {
   "cell_type": "markdown",
   "metadata": {
    "slideshow": {
     "slide_type": "slide"
    }
   },
   "source": [
    "# Standard MESH Equations"
   ]
  },
  {
   "cell_type": "markdown",
   "metadata": {
    "slideshow": {
     "slide_type": "subslide"
    }
   },
   "source": [
    "## Mass Balance"
   ]
  },
  {
   "cell_type": "markdown",
   "metadata": {
    "slideshow": {
     "slide_type": "fragment"
    }
   },
   "source": [
    "\\begin{equation}\n",
    "Fz_{i}+\\sum_{s\\in{inlet}}L_{s}x'_{i,s}+\\sum_{s\\in{inlet}}V_{s}y'_{i,s}-\\sum_{s\\in{outlet}}L_{s}x_{i,s}+\\sum_{s\\in{ouelet}}V_{s}y_{i,s}+R_{i} = 0 \\\\\n",
    "i = 1,...NC\n",
    "\\end{equation}"
   ]
  },
  {
   "cell_type": "code",
   "execution_count": 8,
   "metadata": {
    "slideshow": {
     "slide_type": "fragment"
    }
   },
   "outputs": [],
   "source": [
    "def mass_balance_main_rule(model,i):\n",
    "    if i in m.COMP_FEED:\n",
    "        return model.F*model.z[i] + sum(model.L[s]*model.x_[s,i] + model.V[s]*model.y_[s,i] for s in model.inlet)\\\n",
    "        + model.r_total_comp[i] - sum(model.L[s]*model.x[i] + model.V[s]*model.y[i] for s in model.outlet) == 0\n",
    "    else:\n",
    "        return sum(model.L[s]*model.x_[s,i] + model.V[s]*model.y_[s,i] for s in model.inlet)\\\n",
    "        + model.r_total_comp[i] - sum(model.L[s]*model.x[i] + model.V[s]*model.y[i] for s in model.outlet) == 0\n",
    "model.mass_balance_main_con = pe.Constraint(m.COMP_TOTAL,rule=mass_balance_main_rule)"
   ]
  },
  {
   "cell_type": "markdown",
   "metadata": {
    "slideshow": {
     "slide_type": "subslide"
    }
   },
   "source": [
    "## Equilibrium"
   ]
  },
  {
   "cell_type": "markdown",
   "metadata": {
    "slideshow": {
     "slide_type": "fragment"
    }
   },
   "source": [
    "\\begin{align}\n",
    "&f_{i,V} = f_{i,L} \\\\\n",
    "&i = 1,...NC\n",
    "\\end{align}"
   ]
  },
  {
   "cell_type": "code",
   "execution_count": 9,
   "metadata": {
    "slideshow": {
     "slide_type": "fragment"
    }
   },
   "outputs": [],
   "source": [
    "def VL_equil_rule(model,i):\n",
    "    return model.f_V[i] == model.f_L[i]\n",
    "model.VL_equil_con = pe.Constraint(m.COMP_TOTAL,rule=VL_equil_rule)"
   ]
  },
  {
   "cell_type": "markdown",
   "metadata": {
    "slideshow": {
     "slide_type": "subslide"
    }
   },
   "source": [
    "## Summation"
   ]
  },
  {
   "cell_type": "markdown",
   "metadata": {
    "slideshow": {
     "slide_type": "fragment"
    }
   },
   "source": [
    "\\begin{equation}\n",
    "\\sum_ix_{i} = \\sum_iy_{i} \\\\\n",
    "F + L_{in} + V_{in} + R = L_{out} + V_{out}\n",
    "\\end{equation}"
   ]
  },
  {
   "cell_type": "code",
   "execution_count": 10,
   "metadata": {
    "slideshow": {
     "slide_type": "fragment"
    }
   },
   "outputs": [],
   "source": [
    "def summation_x_y_rule(model):\n",
    "    return sum(model.x[i] for i in m.COMP_TOTAL) == sum(model.y[i] for i in m.COMP_TOTAL)\n",
    "model.summation_x_y_con = pe.Constraint(rule=summation_x_y_rule)\n",
    "\n",
    "def summation_total_mass_rule(model):\n",
    "    return model.F + sum(model.L[s] + model.V[s] for s in model.inlet) + sum(model.r_total_comp[i] for i in m.COMP_TOTAL)\\\n",
    "            - sum(model.L[s] + model.V[s] for s in model.outlet) == 0\n",
    "model.summation_total_mass_con = pe.Constraint(rule=summation_total_mass_rule)"
   ]
  },
  {
   "cell_type": "markdown",
   "metadata": {
    "slideshow": {
     "slide_type": "subslide"
    }
   },
   "source": [
    "## Energy Balance"
   ]
  },
  {
   "cell_type": "markdown",
   "metadata": {
    "slideshow": {
     "slide_type": "fragment"
    }
   },
   "source": [
    "\\begin{equation}\n",
    "F H_f+\\sum_{s\\in{inlet}}L_{s}H_{l,s}+\\sum_{s\\in{inlet}}V_{s}H_{v,s}-\\sum_{s\\in{outlet}}L_{s}H_{l,s}-\\sum_{s\\in{outlet}}V_{s}H_{v,s}+Q = 0\n",
    "\\end{equation}"
   ]
  },
  {
   "cell_type": "code",
   "execution_count": 11,
   "metadata": {
    "slideshow": {
     "slide_type": "fragment"
    }
   },
   "outputs": [],
   "source": [
    "def heat_balance_main_rule(model):\n",
    "    return model.F*model.H_F + sum(model.L[s]*model.H_L_[s] + model.V[s]*model.H_V_[s] for s in model.inlet) \\\n",
    "            + model.Q_main - sum(model.L[s]*model.H_L + model.V[s]*model.H_V for s in model.outlet) == 0\n",
    "model.heat_balance_main_con = pe.Constraint(rule=heat_balance_main_rule)"
   ]
  },
  {
   "cell_type": "markdown",
   "metadata": {
    "slideshow": {
     "slide_type": "slide"
    }
   },
   "source": [
    "# Testing"
   ]
  },
  {
   "cell_type": "code",
   "execution_count": 12,
   "metadata": {
    "slideshow": {
     "slide_type": "fragment"
    }
   },
   "outputs": [
    {
     "name": "stdout",
     "output_type": "stream",
     "text": [
      "Created the follow pyomo suffixes:\n",
      "ipopt_zL_out, ipopt_zU_out, ipopt_zL_in, ipopt_zU_in, dual\n"
     ]
    }
   ],
   "source": [
    "add_dual(pe,model)"
   ]
  },
  {
   "cell_type": "markdown",
   "metadata": {
    "slideshow": {
     "slide_type": "fragment"
    }
   },
   "source": [
    "## Fixing In/Product Redundent Flow"
   ]
  },
  {
   "cell_type": "code",
   "execution_count": 13,
   "metadata": {
    "slideshow": {
     "slide_type": "fragment"
    }
   },
   "outputs": [],
   "source": [
    "model.x_.fix(0)\n",
    "model.y_.fix(0)\n",
    "model.L['in'].fix(0)\n",
    "model.L['P'].fix(0)\n",
    "model.V['in'].fix(0)\n",
    "model.V['P'].fix(0)\n",
    "model.H_L_.fix(0)\n",
    "model.H_V_.fix(0)"
   ]
  },
  {
   "cell_type": "markdown",
   "metadata": {
    "slideshow": {
     "slide_type": "subslide"
    }
   },
   "source": [
    "## Fixing Model Parameters"
   ]
  },
  {
   "cell_type": "code",
   "execution_count": 14,
   "metadata": {
    "slideshow": {
     "slide_type": "fragment"
    }
   },
   "outputs": [],
   "source": [
    "model.cat.fix(3000)\n",
    "model.P.fix(20)\n",
    "model.T_F.fix(200+273.15)\n",
    "model.F.fix(1)\n",
    "model.z['CO'].fix(1/(1+0.8)-0.01/2)\n",
    "model.z['H2'].fix(0.8/(1+0.8)-0.01/2)\n",
    "model.z['C30H62'].fix(0.01)\n",
    "model.VLE_block.n_ave.fix(20)"
   ]
  },
  {
   "cell_type": "code",
   "execution_count": 15,
   "metadata": {
    "scrolled": true,
    "slideshow": {
     "slide_type": "fragment"
    }
   },
   "outputs": [
    {
     "name": "stdout",
     "output_type": "stream",
     "text": [
      "Active Equality Constraints:\t 1181\n",
      "Active Inequality Constraints:\t 0\n",
      "Active Variables:\t\t 1354\n",
      "Fixed Variables:\t\t 172\n",
      "DOF:\t\t\t\t 1\n"
     ]
    }
   ],
   "source": [
    "check_DOF(pe,model)"
   ]
  },
  {
   "cell_type": "markdown",
   "metadata": {
    "slideshow": {
     "slide_type": "subslide"
    }
   },
   "source": [
    "## Fix T or to fix Q? we have found that Maximize against an upper bound is most reliable"
   ]
  },
  {
   "cell_type": "code",
   "execution_count": 16,
   "metadata": {
    "slideshow": {
     "slide_type": "fragment"
    }
   },
   "outputs": [],
   "source": [
    "model.T.setub(200+273.15)"
   ]
  },
  {
   "cell_type": "code",
   "execution_count": 17,
   "metadata": {
    "slideshow": {
     "slide_type": "fragment"
    }
   },
   "outputs": [],
   "source": [
    "# model.obj = pe.Objective(expr = model.L['out'],sense=pe.maximize)\n",
    "# model.obj = pe.Objective(expr = model.Q_main,sense=pe.maximize)\n",
    "model.obj = pe.Objective(expr = model.T,sense=pe.maximize)"
   ]
  },
  {
   "cell_type": "code",
   "execution_count": 18,
   "metadata": {
    "scrolled": false,
    "slideshow": {
     "slide_type": "fragment"
    }
   },
   "outputs": [
    {
     "name": "stdout",
     "output_type": "stream",
     "text": [
      "Ipopt 3.12.8: print_user_options=yes\n",
      "linear_solver=ma86\n",
      "linear_system_scaling =mc19\n",
      "linear_scaling_on_demand =no\n",
      "max_iter=7000\n",
      "\n",
      "\n",
      "List of user-set options:\n",
      "\n",
      "                                    Name   Value                used\n",
      "                linear_scaling_on_demand = no                    yes\n",
      "                           linear_solver = ma86                  yes\n",
      "                   linear_system_scaling = mc19                  yes\n",
      "                                max_iter = 7000                  yes\n",
      "                      print_user_options = yes                   yes\n",
      "\n",
      "******************************************************************************\n",
      "This program contains Ipopt, a library for large-scale nonlinear optimization.\n",
      " Ipopt is released as open source code under the Eclipse Public License (EPL).\n",
      "         For more information visit http://projects.coin-or.org/Ipopt\n",
      "******************************************************************************\n",
      "\n",
      "This is Ipopt version 3.12.8, running with linear solver ma86.\n",
      "\n",
      "Number of nonzeros in equality constraint Jacobian...:     3931\n",
      "Number of nonzeros in inequality constraint Jacobian.:        0\n",
      "Number of nonzeros in Lagrangian Hessian.............:     4314\n",
      "\n",
      "Total number of variables............................:     1182\n",
      "                     variables with only lower bounds:      379\n",
      "                variables with lower and upper bounds:      633\n",
      "                     variables with only upper bounds:        0\n",
      "Total number of equality constraints.................:     1181\n",
      "Total number of inequality constraints...............:        0\n",
      "        inequality constraints with only lower bounds:        0\n",
      "   inequality constraints with lower and upper bounds:        0\n",
      "        inequality constraints with only upper bounds:        0\n",
      "\n",
      "iter    objective    inf_pr   inf_du lg(mu)  ||d||  lg(rg) alpha_du alpha_pr  ls\n",
      "   0 -3.7415000e+02 1.84e+04 1.00e+00  -1.0 0.00e+00    -  0.00e+00 0.00e+00   0\n",
      "   1 -3.7415335e+02 1.84e+04 8.28e+00  -1.0 1.04e+04    -  2.20e-05 2.70e-05h  1\n",
      "   2 -3.7415487e+02 1.84e+04 2.93e+01  -1.0 1.39e+04    -  2.27e-05 1.23e-05h  1\n",
      "   3r-3.7415487e+02 1.84e+04 9.99e+02   4.3 0.00e+00    -  0.00e+00 2.87e-07R  6\n",
      "   4r-3.7415511e+02 1.84e+04 9.99e+02   4.3 4.67e+05    -  2.38e-05 4.57e-08f  1\n",
      "   5r-3.9209045e+02 1.63e+04 9.95e+02   2.2 4.44e+05    -  2.52e-04 4.41e-03f  1\n",
      "   6 -3.9211165e+02 1.63e+04 7.14e+00  -1.0 7.66e+03    -  3.04e-04 1.78e-04h  1\n",
      "   7r-3.9211165e+02 1.63e+04 9.99e+02   4.2 0.00e+00    -  0.00e+00 3.29e-07R  4\n",
      "   8r-3.9211206e+02 1.63e+04 9.99e+02   4.2 4.07e+05    -  6.27e-05 1.01e-07f  1\n",
      "   9r-4.0241722e+02 1.51e+04 9.97e+02   2.8 5.07e+05    -  3.12e-03 2.31e-03f  1\n",
      "iter    objective    inf_pr   inf_du lg(mu)  ||d||  lg(rg) alpha_du alpha_pr  ls\n",
      "  10r-4.1483475e+02 1.33e+04 9.95e+02   2.1 1.60e+06    -  2.34e-03 1.12e-03f  1\n",
      "  11 -4.1486332e+02 1.33e+04 1.30e+02  -1.0 3.53e+03    -  3.75e-04 2.48e-04h  1\n",
      "  12r-4.1486332e+02 1.33e+04 9.99e+02   4.1 0.00e+00    -  0.00e+00 4.04e-07R  4\n",
      "  13r-4.1486382e+02 1.33e+04 5.11e+03   4.1 3.11e+05    -  1.52e-03 2.03e-07f  1\n",
      "  14r-4.2930592e+02 1.13e+04 5.08e+03   2.0 5.10e+05    -  1.05e-02 3.83e-03f  1\n",
      "  15 -4.2930721e+02 1.13e+04 5.65e+01  -1.0 1.39e+03    -  6.81e-04 1.17e-05h  1\n",
      "  16r-4.2930721e+02 1.13e+04 9.99e+02   4.1 0.00e+00    -  0.00e+00 3.25e-07R  3\n",
      "  17r-4.2930748e+02 1.13e+04 9.99e+02   4.1 5.04e+05    -  1.94e-04 6.32e-08f  2\n",
      "  18r-4.3739373e+02 1.02e+04 9.97e+02   2.7 6.70e+05    -  6.82e-04 1.59e-03f  1\n",
      "  19r-4.6089045e+02 6.25e+03 9.95e+02   2.7 1.88e+06    -  5.62e-03 2.00e-03f  1\n",
      "iter    objective    inf_pr   inf_du lg(mu)  ||d||  lg(rg) alpha_du alpha_pr  ls\n",
      "  20 -4.6091966e+02 6.25e+03 4.09e+01  -1.0 4.84e+03    -  2.72e-04 2.98e-04h  1\n",
      "  21r-4.6091966e+02 6.25e+03 9.99e+02   3.8 0.00e+00    -  0.00e+00 4.96e-07R  4\n",
      "  22r-4.6092030e+02 6.25e+03 4.87e+03   3.8 5.80e+05    -  3.81e-03 1.74e-07f  2\n",
      "  23r-4.7284158e+02 4.14e+03 5.22e+03   2.4 6.42e+05    -  1.21e-02 3.20e-03f  1\n",
      "  24 -4.7284214e+02 4.14e+03 9.37e+02  -1.0 5.27e+04    -  1.29e-04 2.31e-05h  1\n",
      "  25r-4.7284214e+02 4.14e+03 1.00e+03   3.6 0.00e+00    -  0.00e+00 4.37e-07R  4\n",
      "  26r-4.7314693e+02 4.09e+03 8.31e+03   3.6 8.38e+05    -  8.98e-03 5.83e-05f  1\n",
      "  27r-4.7314997e+02 3.47e+03 8.50e+03   1.5 2.53e+05    -  1.94e-02 2.46e-03f  1\n",
      "  28r-4.7314997e+02 3.47e+03 9.99e+02   3.5 0.00e+00    -  0.00e+00 3.48e-07R  2\n",
      "  29r-4.7314956e+02 3.47e+03 3.00e+03   3.5 3.16e+05    -  2.22e-03 1.20e-07f  1\n",
      "iter    objective    inf_pr   inf_du lg(mu)  ||d||  lg(rg) alpha_du alpha_pr  ls\n",
      "  30r-4.7314752e+02 5.13e+02 2.95e+03   2.1 3.00e+05    -  2.01e-02 1.14e-02f  1\n",
      "  31 -4.7314963e+02 5.13e+02 4.23e+01  -1.0 1.05e+04    -  1.07e-03 2.45e-05h  1\n",
      "  32r-4.7314963e+02 5.13e+02 9.99e+02   2.7 0.00e+00    -  0.00e+00 3.01e-07R  5\n",
      "  33r-4.7314960e+02 5.13e+02 9.99e+02   2.7 1.50e+04    -  2.85e-03 2.81e-06f  1\n",
      "  34r-4.7313314e+02 5.13e+02 9.95e+02   2.7 1.05e+04    -  5.81e-03 4.21e-03f  1\n",
      "  35r-4.7312657e+02 5.12e+02 3.97e+03   2.7 5.13e+03    -  1.58e-02 1.33e-02f  1\n",
      "  36r-4.7311319e+02 5.11e+02 3.76e+04   2.7 8.11e+02    -  8.11e-02 2.24e-02f  1\n",
      "  37r-4.7311042e+02 5.08e+02 3.60e+04   2.0 2.73e+02    -  1.18e-01 8.60e-02f  1\n",
      "  38r-4.7310423e+02 4.99e+02 5.41e+04   2.0 9.31e+01    -  2.74e-01 8.81e-02f  1\n",
      "  39r-4.7308631e+02 4.82e+02 5.09e+04   2.0 8.49e+01    -  3.25e-01 2.11e-01f  1\n",
      "iter    objective    inf_pr   inf_du lg(mu)  ||d||  lg(rg) alpha_du alpha_pr  ls\n",
      "  40r-4.7303183e+02 4.45e+02 3.13e+04   2.0 6.70e+01    -  7.51e-01 5.43e-01f  1\n",
      "  41 -4.7302772e+02 4.29e+02 4.51e+01  -1.0 4.45e+02    -  5.39e-03 3.73e-02h  3\n",
      "  42 -4.7302772e+02 4.29e+02 5.97e+01  -1.0 4.29e+02    -  5.15e-02 7.07e-05h 13\n",
      "  43 -4.7302166e+02 4.02e+02 1.10e+02  -1.0 4.29e+02    -  6.19e-02 6.19e-02s 21\n",
      "  44 -4.7300154e+02 3.28e+02 5.72e+02  -1.0 4.02e+02    -  2.16e-01 2.16e-01s 21\n",
      "  45 -4.7297549e+02 2.24e+02 1.03e+03  -1.0 3.15e+02    -  3.45e-01 0.00e+00S 21\n",
      "  46 -4.7296886e+02 2.02e+02 1.14e+03  -1.0 3.05e+02    -  2.73e-01 1.00e-01h  1\n",
      "  47 -4.7288009e+02 2.77e+01 3.04e+05  -1.0 4.09e+02    -  1.90e-03 8.62e-01h  1\n",
      "  48 -4.7287613e+02 2.31e+01 2.00e+05  -1.0 4.33e+01    -  4.74e-01 1.67e-01h  1\n",
      "  49 -4.7287844e+02 2.30e+01 1.98e+05  -1.0 8.70e+01    -  9.41e-01 3.22e-03h  1\n",
      "iter    objective    inf_pr   inf_du lg(mu)  ||d||  lg(rg) alpha_du alpha_pr  ls\n",
      "  50 -4.7314729e+02 2.25e+01 2.31e+05  -1.0 1.43e+03    -  6.23e-01 2.29e-02h  1\n",
      "  51 -4.7314992e+02 2.25e+01 8.34e+08  -1.0 1.22e+03    -  9.24e-01 2.63e-04h  1\n",
      "  52r-4.7314992e+02 2.25e+01 1.00e+03   1.4 0.00e+00    -  0.00e+00 4.99e-07R  5\n",
      "  53r-4.7314989e+02 4.62e+00 3.97e+03   1.4 1.85e+04    -  1.09e-02 1.21e-03f  1\n",
      "  54 -4.7314958e+02 4.61e+00 1.93e+03  -1.0 3.24e+01    -  4.85e-01 3.17e-03h  1\n",
      "  55 -4.7314984e+02 4.61e+00 2.41e+07  -1.0 5.60e+02    -  7.26e-01 5.84e-05h  1\n",
      "  56 -4.7315000e+02 4.61e+00 1.18e+12  -1.0 1.23e+03    -  7.75e-01 1.58e-05h  1\n",
      "  57r-4.7315000e+02 4.61e+00 1.00e+03   0.7 0.00e+00    -  0.00e+00 7.88e-08R  2\n",
      "  58r-4.7315000e+02 3.51e+00 1.28e+03   0.7 4.54e+03    -  6.14e-03 1.01e-03f  1\n",
      "  59 -4.7314993e+02 3.51e+00 1.15e+04  -1.0 3.42e+01    -  5.00e-01 6.76e-04h  1\n",
      "iter    objective    inf_pr   inf_du lg(mu)  ||d||  lg(rg) alpha_du alpha_pr  ls\n",
      "  60 -4.7315000e+02 3.51e+00 6.26e+08  -1.0 5.79e+02    -  7.54e-01 1.38e-05h  1\n",
      "  61r-4.7315000e+02 3.51e+00 1.00e+03   0.5 0.00e+00    -  0.00e+00 4.62e-07R  2\n",
      "  62r-4.7314999e+02 2.39e+00 1.18e+03   0.5 5.90e+02    -  8.54e-03 2.94e-03f  1\n",
      "  63 -4.7314972e+02 2.38e+00 5.40e+03  -1.0 5.32e+01    -  5.38e-01 2.62e-03h  1\n",
      "  64 -4.7314993e+02 2.38e+00 8.16e+07  -1.0 4.72e+02    -  8.01e-01 5.32e-05h  1\n",
      "  65r-4.7314993e+02 2.38e+00 1.00e+03   0.4 0.00e+00    -  0.00e+00 3.03e-07R  6\n",
      "  66r-4.7314991e+02 1.46e+00 1.34e+03   0.4 4.34e+02    -  2.26e-02 6.96e-03f  1\n",
      "  67 -4.7305187e+02 5.19e+00 2.16e+05  -1.0 7.78e+01    -  5.58e-01 9.82e-01H  1\n",
      "  68 -4.7312210e+02 2.87e+00 3.01e+04  -1.0 9.09e+00    -  6.50e-01 9.90e-01h  1\n",
      "  69 -4.7308019e+02 4.26e-01 2.50e+07  -1.0 5.99e+01    -  5.81e-02 1.11e-01h  3\n",
      "iter    objective    inf_pr   inf_du lg(mu)  ||d||  lg(rg) alpha_du alpha_pr  ls\n",
      "  70 -4.7314931e+02 3.04e-01 1.76e+07  -1.0 2.92e+01    -  9.88e-01 2.88e-01h  1\n",
      "  71 -4.7311802e+02 2.43e-02 1.19e+06  -1.0 3.81e+00    -  9.91e-01 9.98e-01h  1\n",
      "  72 -4.7311558e+02 1.34e-05 5.20e+02  -1.0 2.95e-01    -  1.00e+00 1.00e+00h  1\n",
      "  73 -4.7312715e+02 4.77e-05 1.08e+02  -2.5 1.41e+00    -  1.00e+00 1.00e+00f  1\n",
      "  74 -4.7314733e+02 1.45e-04 2.30e-01  -2.5 2.46e+00    -  1.00e+00 1.00e+00f  1\n"
     ]
    },
    {
     "name": "stdout",
     "output_type": "stream",
     "text": [
      "  75 -4.7314973e+02 2.05e-06 7.05e-01  -3.8 2.92e-01    -  1.00e+00 1.00e+00h  1\n",
      "  76 -4.7314985e+02 5.24e-09 8.10e-06  -3.8 1.48e-02    -  1.00e+00 1.00e+00h  1\n",
      "  77 -4.7315000e+02 7.77e-09 2.41e-03  -5.7 1.80e-02    -  1.00e+00 1.00e+00f  1\n",
      "  78 -4.7315000e+02 1.35e-10 9.42e-11  -5.7 5.06e-05    -  1.00e+00 1.00e+00h  1\n",
      "  79 -4.7315000e+02 1.33e-10 3.73e-07  -8.6 2.24e-04    -  1.00e+00 1.00e+00h  1\n",
      "iter    objective    inf_pr   inf_du lg(mu)  ||d||  lg(rg) alpha_du alpha_pr  ls\n",
      "  80 -4.7315000e+02 2.69e-10 2.51e-14  -8.6 7.80e-09    -  1.00e+00 1.00e+00h  1\n",
      "\n",
      "Number of Iterations....: 80\n",
      "\n",
      "                                   (scaled)                 (unscaled)\n",
      "Objective...............:  -4.7315000472899408e+02   -4.7315000472899408e+02\n",
      "Dual infeasibility......:   2.5091040356528538e-14    2.5091040356528538e-14\n",
      "Constraint violation....:   2.6905079737477716e-10    2.6905079737477716e-10\n",
      "Complementarity.........:   2.5059035596806412e-09    2.5059035596806412e-09\n",
      "Overall NLP error.......:   2.5059035596806412e-09    2.5059035596806412e-09\n",
      "\n",
      "\n",
      "Number of objective function evaluations             = 176\n",
      "Number of objective gradient evaluations             = 65\n",
      "Number of equality constraint evaluations            = 176\n",
      "Number of inequality constraint evaluations          = 0\n",
      "Number of equality constraint Jacobian evaluations   = 93\n",
      "Number of inequality constraint Jacobian evaluations = 0\n",
      "Number of Lagrangian Hessian evaluations             = 80\n",
      "Total CPU secs in IPOPT (w/o function evaluations)   =      1.564\n",
      "Total CPU secs in NLP function evaluations           =      0.066\n",
      "\n",
      "EXIT: Optimal Solution Found.\n"
     ]
    }
   ],
   "source": [
    "opt = pe.SolverFactory('ipopt')\n",
    "\n",
    "opt.options['print_user_options'] = 'yes'\n",
    "opt.options['linear_solver'] = 'ma86'\n",
    "\n",
    "opt.options['linear_system_scaling '] = 'mc19'\n",
    "opt.options['linear_scaling_on_demand '] = 'no'\n",
    "# opt.options['recalc_y'] = 'yes'\n",
    "# opt.options['bound_relax_factor'] = 0\n",
    "# opt.options['halt_on_ampl_error'] = 'yes'\n",
    "\n",
    "opt.options['max_iter'] = 7000\n",
    "results = opt.solve(model,tee=True)\n",
    "update_dual(pe,model)"
   ]
  },
  {
   "cell_type": "code",
   "execution_count": 19,
   "metadata": {
    "scrolled": true,
    "slideshow": {
     "slide_type": "skip"
    }
   },
   "outputs": [
    {
     "data": {
      "text/plain": [
       "-45.26995991699208"
      ]
     },
     "execution_count": 19,
     "metadata": {},
     "output_type": "execute_result"
    }
   ],
   "source": [
    "model.Q_main.value"
   ]
  },
  {
   "cell_type": "code",
   "execution_count": 20,
   "metadata": {
    "slideshow": {
     "slide_type": "skip"
    }
   },
   "outputs": [
    {
     "data": {
      "text/plain": [
       "473.15"
      ]
     },
     "execution_count": 20,
     "metadata": {},
     "output_type": "execute_result"
    }
   ],
   "source": [
    "model.T.value"
   ]
  },
  {
   "cell_type": "code",
   "execution_count": 21,
   "metadata": {},
   "outputs": [],
   "source": [
    "# model.solutions.store_to(results)\n",
    "# with open('../saved_solutions/reactive_flash_350C_n20.pickle','wb') as f:\n",
    "#     pickle.dump(results,f)"
   ]
  },
  {
   "cell_type": "code",
   "execution_count": 22,
   "metadata": {
    "scrolled": false,
    "slideshow": {
     "slide_type": "slide"
    }
   },
   "outputs": [
    {
     "name": "stdout",
     "output_type": "stream",
     "text": [
      "Component\t\tLiquid: 0.0197\t\t\tVapor: 0.5187\t\t\tlog K\n",
      "------------------------------------------------------------------------------------------------------------\n",
      "H2         \t\t 0.8750%\t\t\t25.0416%\t\t\t1.4567\n",
      "CO         \t\t 1.3345%\t\t\t28.5738%\t\t\t1.3307\n",
      "CO2        \t\t 3.7740%\t\t\t32.2862%\t\t\t0.9322\n",
      "H2O        \t\t 3.6365%\t\t\t12.5211%\t\t\t0.5370\n",
      "C2H4       \t\t 0.0176%\t\t\t 0.1188%\t\t\t0.8302\n",
      "C3H6       \t\t 0.0448%\t\t\t 0.1363%\t\t\t0.4829\n",
      "C4H8       \t\t 0.0459%\t\t\t 0.1213%\t\t\t0.4221\n",
      "C5H10      \t\t 0.0720%\t\t\t 0.0929%\t\t\t0.1104\n",
      "C6H12      \t\t 0.1240%\t\t\t 0.0850%\t\t\t-0.1641\n",
      "C7H14      \t\t 0.1993%\t\t\t 0.0766%\t\t\t-0.4151\n",
      "C8H16      \t\t 0.3016%\t\t\t 0.0675%\t\t\t-0.6499\n",
      "C9H18      \t\t 0.4310%\t\t\t 0.0577%\t\t\t-0.8729\n",
      "C10H20     \t\t 0.5802%\t\t\t 0.0475%\t\t\t-1.0869\n",
      "C11H22     \t\t 0.4681%\t\t\t 0.0238%\t\t\t-1.2939\n",
      "C12H24     \t\t 0.5575%\t\t\t 0.0178%\t\t\t-1.4952\n",
      "C13H26     \t\t 0.6275%\t\t\t 0.0128%\t\t\t-1.6918\n",
      "C14H28     \t\t 0.6729%\t\t\t 0.0088%\t\t\t-1.8847\n",
      "C15H30     \t\t 0.6941%\t\t\t 0.0058%\t\t\t-2.0743\n",
      "C16H32     \t\t 0.6954%\t\t\t 0.0038%\t\t\t-2.2611\n",
      "C17H34     \t\t 0.6823%\t\t\t 0.0024%\t\t\t-2.4456\n",
      "C18H36     \t\t 0.6597%\t\t\t 0.0016%\t\t\t-2.6280\n",
      "C19H38     \t\t 0.6316%\t\t\t 0.0010%\t\t\t-2.8086\n",
      "C20H40     \t\t 0.6007%\t\t\t 0.0006%\t\t\t-2.9876\n",
      "C1H4       \t\t 0.0166%\t\t\t 0.1952%\t\t\t1.0694\n",
      "C2H6       \t\t 0.0108%\t\t\t 0.0638%\t\t\t0.7702\n",
      "C3H8       \t\t 0.0115%\t\t\t 0.0341%\t\t\t0.4725\n",
      "C4H10      \t\t 0.0163%\t\t\t 0.0382%\t\t\t0.3694\n",
      "C5H12      \t\t 0.0469%\t\t\t 0.0545%\t\t\t0.0647\n",
      "C6H14      \t\t 0.0799%\t\t\t 0.0497%\t\t\t-0.2056\n",
      "C7H16      \t\t 0.1271%\t\t\t 0.0447%\t\t\t-0.4538\n",
      "C8H18      \t\t 0.1906%\t\t\t 0.0392%\t\t\t-0.6866\n",
      "C9H20      \t\t 0.2698%\t\t\t 0.0333%\t\t\t-0.9080\n",
      "C10H22     \t\t 0.3598%\t\t\t 0.0272%\t\t\t-1.1208\n",
      "C11H24     \t\t 0.7291%\t\t\t 0.0344%\t\t\t-1.3269\n",
      "C12H26     \t\t 0.8602%\t\t\t 0.0255%\t\t\t-1.5274\n",
      "C13H28     \t\t 0.9600%\t\t\t 0.0181%\t\t\t-1.7235\n",
      "C14H30     \t\t 1.0223%\t\t\t 0.0124%\t\t\t-1.9158\n",
      "C15H32     \t\t 1.0489%\t\t\t 0.0082%\t\t\t-2.1049\n",
      "C16H34     \t\t 1.0468%\t\t\t 0.0054%\t\t\t-2.2914\n",
      "C17H36     \t\t 1.0242%\t\t\t 0.0034%\t\t\t-2.4755\n",
      "C18H38     \t\t 0.9885%\t\t\t 0.0022%\t\t\t-2.6577\n",
      "C19H40     \t\t 0.9452%\t\t\t 0.0014%\t\t\t-2.8380\n",
      "C20H42     \t\t 0.8981%\t\t\t 0.0009%\t\t\t-3.0168\n",
      "C21H44     \t\t 1.4192%\t\t\t 0.0009%\t\t\t-3.1942\n",
      "C22H46     \t\t 1.3391%\t\t\t 0.0006%\t\t\t-3.3704\n",
      "C23H48     \t\t 1.2613%\t\t\t 0.0004%\t\t\t-3.5454\n",
      "C24H50     \t\t 1.1865%\t\t\t 0.0002%\t\t\t-3.7195\n",
      "C25H52     \t\t 1.1152%\t\t\t 0.0001%\t\t\t-3.8926\n",
      "C26H54     \t\t 1.0477%\t\t\t 0.0001%\t\t\t-4.0650\n",
      "C27H56     \t\t 0.9839%\t\t\t 0.0001%\t\t\t-4.2366\n",
      "C28H58     \t\t 0.9238%\t\t\t 0.0000%\t\t\t-4.4075\n",
      "C29H60     \t\t 0.8671%\t\t\t 0.0000%\t\t\t-4.5779\n",
      "C30H62     \t\t51.4477%\t\t\t 0.0009%\t\t\t-4.7476\n",
      "C31H64     \t\t 0.7639%\t\t\t 0.0000%\t\t\t-4.9168\n",
      "C32H66     \t\t 0.7169%\t\t\t 0.0000%\t\t\t-5.0856\n",
      "C33H68     \t\t 0.6728%\t\t\t 0.0000%\t\t\t-5.2538\n",
      "C34H70     \t\t 0.6314%\t\t\t 0.0000%\t\t\t-5.4217\n",
      "C35H72     \t\t 0.5925%\t\t\t 0.0000%\t\t\t-5.5892\n",
      "C36H74     \t\t 0.5560%\t\t\t 0.0000%\t\t\t-5.7564\n",
      "C37H76     \t\t 0.5218%\t\t\t 0.0000%\t\t\t-5.9232\n",
      "C38H78     \t\t 0.4897%\t\t\t 0.0000%\t\t\t-6.0896\n",
      "C39H80     \t\t 0.4595%\t\t\t 0.0000%\t\t\t-6.2558\n",
      "C40H82     \t\t 0.4312%\t\t\t 0.0000%\t\t\t-6.4218\n",
      "C41H84     \t\t 0.4047%\t\t\t 0.0000%\t\t\t-6.5875\n",
      "C42H86     \t\t 0.3797%\t\t\t 0.0000%\t\t\t-6.7529\n",
      "C43H88     \t\t 0.3563%\t\t\t 0.0000%\t\t\t-6.9181\n",
      "C44H90     \t\t 0.3344%\t\t\t 0.0000%\t\t\t-7.0831\n",
      "C45H92     \t\t 0.3138%\t\t\t 0.0000%\t\t\t-7.2479\n",
      "C46H94     \t\t 0.2945%\t\t\t 0.0000%\t\t\t-7.4125\n",
      "C47H96     \t\t 0.2763%\t\t\t 0.0000%\t\t\t-7.5769\n",
      "C48H98     \t\t 0.2593%\t\t\t 0.0000%\t\t\t-7.7412\n",
      "C49H100    \t\t 0.2433%\t\t\t 0.0000%\t\t\t-7.9053\n",
      "C50H102    \t\t 0.2284%\t\t\t 0.0000%\t\t\t-8.0693\n",
      "C51H104    \t\t 0.2143%\t\t\t 0.0000%\t\t\t-8.2331\n",
      "C52H106    \t\t 0.2011%\t\t\t 0.0000%\t\t\t-8.3968\n",
      "C53H108    \t\t 0.1887%\t\t\t 0.0000%\t\t\t-8.5603\n",
      "C54H110    \t\t 0.1771%\t\t\t 0.0000%\t\t\t-8.7238\n",
      "C55H112    \t\t 0.1662%\t\t\t 0.0000%\t\t\t-8.8871\n",
      "C56H114    \t\t 0.1559%\t\t\t 0.0000%\t\t\t-9.0503\n"
     ]
    }
   ],
   "source": [
    "print('Component\\t\\tLiquid: {:.4f}\\t\\t\\tVapor: {:.4f}\\t\\t\\tlog K'.format(model.L['out'].value,model.V['out'].value))\n",
    "print('-'*108)\n",
    "for i in model.x:\n",
    "    print('{:10s}'.format(i),'\\t\\t{:8.4%}\\t\\t\\t{:8.4%}\\t\\t\\t{:.4f}'.format(model.x[i].value,model.y[i].value,np.log10(model.y[i].value/model.x[i].value)))"
   ]
  },
  {
   "cell_type": "markdown",
   "metadata": {
    "slideshow": {
     "slide_type": "slide"
    }
   },
   "source": [
    "# Iterative Solve for Data Analysis"
   ]
  },
  {
   "cell_type": "code",
   "execution_count": 23,
   "metadata": {},
   "outputs": [],
   "source": [
    "update_dual(pe,model)"
   ]
  },
  {
   "cell_type": "code",
   "execution_count": 24,
   "metadata": {},
   "outputs": [],
   "source": [
    "opt.options['warm_start_init_point'] = 'yes'\n",
    "opt.options['warm_start_bound_push'] = 1e-20\n",
    "opt.options['warm_start_mult_bound_push'] = 1e-20\n",
    "opt.options['mu_init'] = 1e-6"
   ]
  },
  {
   "cell_type": "code",
   "execution_count": 25,
   "metadata": {
    "scrolled": false,
    "slideshow": {
     "slide_type": "fragment"
    }
   },
   "outputs": [
    {
     "name": "stdout",
     "output_type": "stream",
     "text": [
      "Solved, Solution T = 573.15 K\t|\tV = 0.45303\t|\tL = 0.01017\t|\n",
      "Solved, Solution T = 571.15 K\t|\tV = 0.45153\t|\tL = 0.01029\t|\n",
      "Solved, Solution T = 569.15 K\t|\tV = 0.45000\t|\tL = 0.01040\t|\n",
      "Solved, Solution T = 567.15 K\t|\tV = 0.44843\t|\tL = 0.01051\t|\n",
      "Solved, Solution T = 565.15 K\t|\tV = 0.44681\t|\tL = 0.01062\t|\n",
      "Solved, Solution T = 563.15 K\t|\tV = 0.44516\t|\tL = 0.01072\t|\n",
      "Solved, Solution T = 561.15 K\t|\tV = 0.44347\t|\tL = 0.01083\t|\n",
      "Solved, Solution T = 559.15 K\t|\tV = 0.44174\t|\tL = 0.01093\t|\n",
      "Solved, Solution T = 557.15 K\t|\tV = 0.43998\t|\tL = 0.01103\t|\n",
      "Solved, Solution T = 555.15 K\t|\tV = 0.43817\t|\tL = 0.01114\t|\n",
      "Solved, Solution T = 553.15 K\t|\tV = 0.43632\t|\tL = 0.01124\t|\n",
      "Solved, Solution T = 551.15 K\t|\tV = 0.43444\t|\tL = 0.01135\t|\n",
      "Solved, Solution T = 549.15 K\t|\tV = 0.43252\t|\tL = 0.01147\t|\n",
      "Solved, Solution T = 547.15 K\t|\tV = 0.43057\t|\tL = 0.01159\t|\n",
      "Solved, Solution T = 545.15 K\t|\tV = 0.42858\t|\tL = 0.01172\t|\n",
      "Solved, Solution T = 543.15 K\t|\tV = 0.42657\t|\tL = 0.01186\t|\n",
      "Solved, Solution T = 541.15 K\t|\tV = 0.42452\t|\tL = 0.01201\t|\n",
      "Solved, Solution T = 539.15 K\t|\tV = 0.42245\t|\tL = 0.01217\t|\n",
      "Solved, Solution T = 537.15 K\t|\tV = 0.42036\t|\tL = 0.01236\t|\n",
      "Solved, Solution T = 535.15 K\t|\tV = 0.41826\t|\tL = 0.01256\t|\n",
      "Solved, Solution T = 533.15 K\t|\tV = 0.41614\t|\tL = 0.01279\t|\n",
      "Solved, Solution T = 531.15 K\t|\tV = 0.41401\t|\tL = 0.01304\t|\n",
      "Solved, Solution T = 529.15 K\t|\tV = 0.41188\t|\tL = 0.01332\t|\n",
      "Solved, Solution T = 527.15 K\t|\tV = 0.40976\t|\tL = 0.01364\t|\n",
      "Solved, Solution T = 525.15 K\t|\tV = 0.40766\t|\tL = 0.01399\t|\n",
      "Solved, Solution T = 523.15 K\t|\tV = 0.40558\t|\tL = 0.01438\t|\n",
      "Solved, Solution T = 521.15 K\t|\tV = 0.40355\t|\tL = 0.01481\t|\n",
      "Solved, Solution T = 519.15 K\t|\tV = 0.40157\t|\tL = 0.01528\t|\n",
      "Solved, Solution T = 517.15 K\t|\tV = 0.39967\t|\tL = 0.01579\t|\n",
      "Solved, Solution T = 515.15 K\t|\tV = 0.39788\t|\tL = 0.01634\t|\n",
      "Solved, Solution T = 513.15 K\t|\tV = 0.39622\t|\tL = 0.01692\t|\n",
      "Solved, Solution T = 511.15 K\t|\tV = 0.39473\t|\tL = 0.01752\t|\n",
      "Solved, Solution T = 509.15 K\t|\tV = 0.39346\t|\tL = 0.01814\t|\n",
      "Solved, Solution T = 507.15 K\t|\tV = 0.39245\t|\tL = 0.01876\t|\n",
      "Solved, Solution T = 505.15 K\t|\tV = 0.39177\t|\tL = 0.01938\t|\n",
      "Solved, Solution T = 503.15 K\t|\tV = 0.39149\t|\tL = 0.01997\t|\n",
      "Solved, Solution T = 501.15 K\t|\tV = 0.39168\t|\tL = 0.02052\t|\n",
      "Solved, Solution T = 499.15 K\t|\tV = 0.39244\t|\tL = 0.02102\t|\n",
      "Solved, Solution T = 497.15 K\t|\tV = 0.39387\t|\tL = 0.02146\t|\n",
      "Solved, Solution T = 495.15 K\t|\tV = 0.39608\t|\tL = 0.02182\t|\n",
      "Solved, Solution T = 493.15 K\t|\tV = 0.39922\t|\tL = 0.02210\t|\n",
      "Solved, Solution T = 491.15 K\t|\tV = 0.40344\t|\tL = 0.02228\t|\n",
      "Solved, Solution T = 489.15 K\t|\tV = 0.40891\t|\tL = 0.02236\t|\n",
      "Solved, Solution T = 487.15 K\t|\tV = 0.41581\t|\tL = 0.02234\t|\n",
      "Solved, Solution T = 485.15 K\t|\tV = 0.42436\t|\tL = 0.02222\t|\n",
      "Solved, Solution T = 483.15 K\t|\tV = 0.43476\t|\tL = 0.02200\t|\n",
      "Solved, Solution T = 481.15 K\t|\tV = 0.44718\t|\tL = 0.02169\t|\n",
      "Solved, Solution T = 479.15 K\t|\tV = 0.46178\t|\tL = 0.02129\t|\n",
      "Solved, Solution T = 477.15 K\t|\tV = 0.47862\t|\tL = 0.02083\t|\n",
      "Solved, Solution T = 475.15 K\t|\tV = 0.49764\t|\tL = 0.02030\t|\n",
      "Solved, Solution T = 473.15 K\t|\tV = 0.51869\t|\tL = 0.01974\t|\n",
      "Solved, Solution T = 471.15 K\t|\tV = 0.54144\t|\tL = 0.01915\t|\n",
      "Solved, Solution T = 469.15 K\t|\tV = 0.56548\t|\tL = 0.01855\t|\n",
      "Solved, Solution T = 467.15 K\t|\tV = 0.59035\t|\tL = 0.01796\t|\n",
      "Solved, Solution T = 465.15 K\t|\tV = 0.61556\t|\tL = 0.01739\t|\n",
      "Solved, Solution T = 463.15 K\t|\tV = 0.64067\t|\tL = 0.01683\t|\n",
      "Solved, Solution T = 461.15 K\t|\tV = 0.66531\t|\tL = 0.01631\t|\n",
      "Solved, Solution T = 459.15 K\t|\tV = 0.68918\t|\tL = 0.01582\t|\n",
      "Solved, Solution T = 457.15 K\t|\tV = 0.71207\t|\tL = 0.01536\t|\n",
      "Solved, Solution T = 455.15 K\t|\tV = 0.73384\t|\tL = 0.01494\t|\n",
      "Solved, Solution T = 453.15 K\t|\tV = 0.75440\t|\tL = 0.01455\t|\n",
      "Solved, Solution T = 451.15 K\t|\tV = 0.77372\t|\tL = 0.01418\t|\n",
      "Solved, Solution T = 449.15 K\t|\tV = 0.79178\t|\tL = 0.01385\t|\n",
      "Solved, Solution T = 447.15 K\t|\tV = 0.80863\t|\tL = 0.01354\t|\n",
      "Solved, Solution T = 445.15 K\t|\tV = 0.82428\t|\tL = 0.01326\t|\n",
      "Solved, Solution T = 443.15 K\t|\tV = 0.83880\t|\tL = 0.01300\t|\n",
      "Solved, Solution T = 441.15 K\t|\tV = 0.85223\t|\tL = 0.01277\t|\n",
      "Solved, Solution T = 439.15 K\t|\tV = 0.86463\t|\tL = 0.01255\t|\n",
      "Solved, Solution T = 437.15 K\t|\tV = 0.87606\t|\tL = 0.01235\t|\n",
      "Solved, Solution T = 435.15 K\t|\tV = 0.88658\t|\tL = 0.01217\t|\n",
      "Solved, Solution T = 433.15 K\t|\tV = 0.89624\t|\tL = 0.01200\t|\n",
      "Solved, Solution T = 431.15 K\t|\tV = 0.90511\t|\tL = 0.01185\t|\n",
      "Solved, Solution T = 429.15 K\t|\tV = 0.91322\t|\tL = 0.01171\t|\n",
      "Solved, Solution T = 427.15 K\t|\tV = 0.92064\t|\tL = 0.01158\t|\n",
      "Solved, Solution T = 425.15 K\t|\tV = 0.92742\t|\tL = 0.01146\t|\n",
      "Solved, Solution T = 423.15 K\t|\tV = 0.93360\t|\tL = 0.01136\t|\n",
      "Solved, Solution T = 421.15 K\t|\tV = 0.93923\t|\tL = 0.01126\t|\n",
      "Solved, Solution T = 419.15 K\t|\tV = 0.94435\t|\tL = 0.01117\t|\n",
      "Solved, Solution T = 417.15 K\t|\tV = 0.94899\t|\tL = 0.01109\t|\n",
      "Solved, Solution T = 415.15 K\t|\tV = 0.95321\t|\tL = 0.01102\t|\n",
      "Solved, Solution T = 413.15 K\t|\tV = 0.95702\t|\tL = 0.01095\t|\n",
      "Solved, Solution T = 411.15 K\t|\tV = 0.96048\t|\tL = 0.01089\t|\n",
      "Solved, Solution T = 409.15 K\t|\tV = 0.96360\t|\tL = 0.01084\t|\n",
      "Solved, Solution T = 407.15 K\t|\tV = 0.96641\t|\tL = 0.01079\t|\n",
      "Solved, Solution T = 405.15 K\t|\tV = 0.96895\t|\tL = 0.01074\t|\n",
      "Solved, Solution T = 403.15 K\t|\tV = 0.97123\t|\tL = 0.01070\t|\n",
      "Solved, Solution T = 401.15 K\t|\tV = 0.97328\t|\tL = 0.01067\t|\n",
      "Solved, Solution T = 399.15 K\t|\tV = 0.97512\t|\tL = 0.01063\t|\n",
      "Solved, Solution T = 397.15 K\t|\tV = 0.97677\t|\tL = 0.01060\t|\n",
      "Solved, Solution T = 395.15 K\t|\tV = 0.97825\t|\tL = 0.01057\t|\n",
      "Solved, Solution T = 393.15 K\t|\tV = 0.97957\t|\tL = 0.01055\t|\n",
      "Solved, Solution T = 391.15 K\t|\tV = 0.98075\t|\tL = 0.01053\t|\n",
      "Solved, Solution T = 389.15 K\t|\tV = 0.98180\t|\tL = 0.01051\t|\n",
      "Solved, Solution T = 387.15 K\t|\tV = 0.98274\t|\tL = 0.01049\t|\n",
      "Solved, Solution T = 385.15 K\t|\tV = 0.98357\t|\tL = 0.01047\t|\n",
      "Solved, Solution T = 383.15 K\t|\tV = 0.98431\t|\tL = 0.01046\t|\n",
      "Solved, Solution T = 381.15 K\t|\tV = 0.98497\t|\tL = 0.01044\t|\n",
      "Solved, Solution T = 379.15 K\t|\tV = 0.98555\t|\tL = 0.01043\t|\n",
      "Solved, Solution T = 377.15 K\t|\tV = 0.98607\t|\tL = 0.01042\t|\n",
      "Solved, Solution T = 375.15 K\t|\tV = 0.98652\t|\tL = 0.01041\t|\n",
      "Solved, Solution T = 373.15 K\t|\tV = 0.98693\t|\tL = 0.01040\t|\n"
     ]
    }
   ],
   "source": [
    "rf_data = {}\n",
    "rf_data['r'] = {}; rf_data['T'] = []; rf_data['Q'] = []; rf_data['V'] = []; rf_data['L'] = []; \n",
    "rf_data['y_CO'] = []; rf_data['y_H2'] = []; rf_data['y_CO2'] = []; rf_data['y_H2O'] = []; rf_data['r_WGS'] = []; rf_data['r_FT'] = []\n",
    "rf_data['f_V_CO'] = []; rf_data['f_V_H2'] = [];\n",
    "\n",
    "for i in model.r_total_comp:\n",
    "    rf_data['r'][i] = []\n",
    "    \n",
    "Trange = np.arange(300+273.15,99+273.15,-2)\n",
    "\n",
    "for Tub in Trange:\n",
    "    model.T.setub(Tub)\n",
    "    results = opt.solve(model,tee=False)\n",
    "    update_dual(pe,model)\n",
    "    # print('-'*72)\n",
    "    print('Solved, Solution T = {:.2f} K\\t|\\tV = {:.5f}\\t|\\tL = {:.5f}\\t|'.format(model.T.value,model.V['out'].value,model.L['out'].value))\n",
    "    # print('-'*72)\n",
    "    rf_data['T'].append(model.T.value)\n",
    "    rf_data['Q'].append(model.Q_main.value)\n",
    "    rf_data['V'].append(model.V['out'].value)\n",
    "    rf_data['L'].append(model.L['out'].value)    \n",
    "\n",
    "    for i in model.r_total_comp:\n",
    "        rf_data['r'][i].append(model.r_total_comp[i].value)\n",
    "    \n",
    "    \n",
    "    rf_data['y_H2O'].append(model.y['H2O'].value)\n",
    "    rf_data['y_CO'].append(model.y['CO'].value)\n",
    "    rf_data['y_H2'].append(model.y['H2'].value)\n",
    "    rf_data['y_CO2'].append(model.y['CO2'].value)\n",
    "    rf_data['r_WGS'].append(model.kinetics_block.r_WGS.value)\n",
    "    rf_data['r_FT'].append(model.kinetics_block.r_FT_total.value)\n",
    "    \n",
    "    rf_data['f_V_CO'].append(model.f_V['CO'].value)\n",
    "    rf_data['f_V_H2'].append(model.f_V['H2'].value)"
   ]
  },
  {
   "cell_type": "markdown",
   "metadata": {
    "slideshow": {
     "slide_type": "slide"
    }
   },
   "source": [
    "## Some Observations\n",
    "\n",
    "* This system has multiple solution under same Q.\n",
    "* The reaction rate peaks at ~530K, due to decreasing $\\alpha$, increasing light component, uses up more feed.\n",
    "* Note that when 'fully' utilizing catalyst, the system seems to always require cooling."
   ]
  },
  {
   "cell_type": "code",
   "execution_count": 26,
   "metadata": {
    "slideshow": {
     "slide_type": "fragment"
    }
   },
   "outputs": [
    {
     "data": {
      "image/png": "[encoded data removed]",
      "text/plain": [
       "<Figure size 1152x648 with 2 Axes>"
      ]
     },
     "metadata": {},
     "output_type": "display_data"
    }
   ],
   "source": [
    "fig, ax1 = plt.subplots(figsize=(16,9))\n",
    "line1 = ax1.plot(rf_data['T'],rf_data['Q'], 'b-')\n",
    "ax1.set_xlabel('Temperature (k)', color='K',fontsize=18)\n",
    "ax1.set_ylabel('Q (MW)', color='b',fontsize=18)\n",
    "ax1.tick_params('y', colors='b',labelsize=18)\n",
    "ax1.tick_params('x', colors='k',labelsize=18)\n",
    "ax1.grid()\n",
    "\n",
    "ax2 = ax1.twinx()\n",
    "line2 = ax2.plot(rf_data['T'],rf_data['r_FT'], 'r')\n",
    "line3 = ax2.plot(rf_data['T'],rf_data['r_WGS'], 'r--')\n",
    "line4 = ax2.plot(rf_data['T'],rf_data['V'], 'k')\n",
    "line5 = ax2.plot(rf_data['T'],rf_data['L'], 'k--')\n",
    "ax2.set_ylabel('$r_{FT}$: (kmol/s Carbon Number)', color='r',fontsize=18)\n",
    "ax2.tick_params('y', colors='r',labelsize=18)\n",
    "\n",
    "ax1.legend(line1+line2+line3+line4+line5,['Q','$r_{FT}$','$r_{WGS}$','V','L'],fontsize=18,loc=1)\n",
    "ax1.set_title('Heat Removal Rate and Reaction Rate vs T',fontsize=18)\n",
    "plt.show()"
   ]
  },
  {
   "cell_type": "code",
   "execution_count": 27,
   "metadata": {
    "scrolled": false,
    "slideshow": {
     "slide_type": "fragment"
    }
   },
   "outputs": [
    {
     "data": {
      "image/png": "[encoded data removed]",
      "text/plain": [
       "<Figure size 1152x648 with 1 Axes>"
      ]
     },
     "metadata": {},
     "output_type": "display_data"
    }
   ],
   "source": [
    "fig, ax = plt.subplots(figsize=(16,9))\n",
    "ax.plot(rf_data['T'],rf_data['y_CO'])\n",
    "ax.plot(rf_data['T'],rf_data['y_H2'])\n",
    "ax.plot(rf_data['T'],rf_data['y_CO2'])\n",
    "ax.plot(rf_data['T'],rf_data['y_H2O'])\n",
    "\n",
    "ax.legend(['$y_{CO}$','$y_{H2}$','$y_{CO2}$','$y_{H2O}$'],fontsize=18)\n",
    "ax.set_title('Gas Phase Inorganic Composition vs T',fontsize=18)\n",
    "\n",
    "ax.set_ylabel('Mole Fraction (%)', color='K',fontsize=18)\n",
    "ax.set_xlabel('Temperature (k)', color='K',fontsize=18)\n",
    "ax.tick_params('y', colors='k',labelsize=18)\n",
    "ax.tick_params('x', colors='k',labelsize=18)\n",
    "ax.grid()\n",
    "plt.show()"
   ]
  },
  {
   "cell_type": "code",
   "execution_count": 28,
   "metadata": {
    "slideshow": {
     "slide_type": "fragment"
    }
   },
   "outputs": [
    {
     "data": {
      "image/png": "[encoded data removed]",
      "text/plain": [
       "<Figure size 1152x648 with 1 Axes>"
      ]
     },
     "metadata": {},
     "output_type": "display_data"
    }
   ],
   "source": [
    "fig, ax = plt.subplots(figsize=(16,9))\n",
    "ax.plot(rf_data['T'],rf_data['r']['CO'])\n",
    "ax.plot(rf_data['T'],rf_data['r']['H2'])\n",
    "ax.plot(rf_data['T'],rf_data['r']['CO2'])\n",
    "ax.plot(rf_data['T'],rf_data['r']['H2O'])\n",
    "\n",
    "ax.legend(['$r_{CO}$','$r_{H2}$','$r_{CO2}$','$r_{H2O}$'],fontsize=18)\n",
    "ax.set_title('Inorganic Reaction Rate vs T',fontsize=18)\n",
    "\n",
    "ax.set_ylabel('Reaction Rate (kmol/s)', color='K',fontsize=18)\n",
    "ax.set_xlabel('Temperature (k)', color='K',fontsize=18)\n",
    "ax.tick_params('y', colors='k',labelsize=18)\n",
    "ax.tick_params('x', colors='k',labelsize=18)\n",
    "ax.grid()\n",
    "plt.show()"
   ]
  },
  {
   "cell_type": "markdown",
   "metadata": {
    "slideshow": {
     "slide_type": "subslide"
    }
   },
   "source": [
    "## Product Distribution (mole)"
   ]
  },
  {
   "cell_type": "code",
   "execution_count": 29,
   "metadata": {
    "slideshow": {
     "slide_type": "fragment"
    }
   },
   "outputs": [],
   "source": [
    "reaction_data = trans_product_mole(rf_data['r'])['unscaled']\n",
    "reaction_data_scaled = trans_product_mole(rf_data['r'])['scaled']"
   ]
  },
  {
   "cell_type": "code",
   "execution_count": 30,
   "metadata": {
    "slideshow": {
     "slide_type": "fragment"
    }
   },
   "outputs": [
    {
     "ename": "KeyError",
     "evalue": "'c1'",
     "output_type": "error",
     "traceback": [
      "\u001b[0;31m---------------------------------------------------------------------------\u001b[0m",
      "\u001b[0;31mKeyError\u001b[0m                                  Traceback (most recent call last)",
      "\u001b[0;32m<ipython-input-30-8e48b1c6d24e>\u001b[0m in \u001b[0;36m<module>\u001b[0;34m()\u001b[0m\n\u001b[1;32m      1\u001b[0m \u001b[0mfig\u001b[0m\u001b[0;34m,\u001b[0m \u001b[0max\u001b[0m \u001b[0;34m=\u001b[0m \u001b[0mplt\u001b[0m\u001b[0;34m.\u001b[0m\u001b[0msubplots\u001b[0m\u001b[0;34m(\u001b[0m\u001b[0mfigsize\u001b[0m\u001b[0;34m=\u001b[0m\u001b[0;34m(\u001b[0m\u001b[0;36m16\u001b[0m\u001b[0;34m,\u001b[0m\u001b[0;36m9\u001b[0m\u001b[0;34m)\u001b[0m\u001b[0;34m)\u001b[0m\u001b[0;34m\u001b[0m\u001b[0m\n\u001b[0;32m----> 2\u001b[0;31m \u001b[0max\u001b[0m\u001b[0;34m.\u001b[0m\u001b[0mstackplot\u001b[0m\u001b[0;34m(\u001b[0m\u001b[0mrf_data\u001b[0m\u001b[0;34m[\u001b[0m\u001b[0;34m'T'\u001b[0m\u001b[0;34m]\u001b[0m\u001b[0;34m,\u001b[0m \u001b[0mreaction_data_scaled\u001b[0m\u001b[0;34m[\u001b[0m\u001b[0;34m'c1'\u001b[0m\u001b[0;34m]\u001b[0m\u001b[0;34m,\u001b[0m \u001b[0mreaction_data_scaled\u001b[0m\u001b[0;34m[\u001b[0m\u001b[0;34m'c2'\u001b[0m\u001b[0;34m]\u001b[0m\u001b[0;34m,\u001b[0m\u001b[0mreaction_data_scaled\u001b[0m\u001b[0;34m[\u001b[0m\u001b[0;34m'c3'\u001b[0m\u001b[0;34m]\u001b[0m\u001b[0;34m,\u001b[0m\u001b[0mreaction_data_scaled\u001b[0m\u001b[0;34m[\u001b[0m\u001b[0;34m'c4'\u001b[0m\u001b[0;34m]\u001b[0m\u001b[0;34m,\u001b[0m            \u001b[0mreaction_data_scaled\u001b[0m\u001b[0;34m[\u001b[0m\u001b[0;34m'napha'\u001b[0m\u001b[0;34m]\u001b[0m\u001b[0;34m,\u001b[0m\u001b[0mreaction_data_scaled\u001b[0m\u001b[0;34m[\u001b[0m\u001b[0;34m'gasoline'\u001b[0m\u001b[0;34m]\u001b[0m\u001b[0;34m,\u001b[0m\u001b[0mreaction_data_scaled\u001b[0m\u001b[0;34m[\u001b[0m\u001b[0;34m'diesel'\u001b[0m\u001b[0;34m]\u001b[0m\u001b[0;34m,\u001b[0m\u001b[0mreaction_data_scaled\u001b[0m\u001b[0;34m[\u001b[0m\u001b[0;34m'heavy'\u001b[0m\u001b[0;34m]\u001b[0m\u001b[0;34m)\u001b[0m\u001b[0;34m\u001b[0m\u001b[0m\n\u001b[0m\u001b[1;32m      3\u001b[0m \u001b[0mplt\u001b[0m\u001b[0;34m.\u001b[0m\u001b[0mlegend\u001b[0m\u001b[0;34m(\u001b[0m\u001b[0;34m[\u001b[0m\u001b[0;34m'C1'\u001b[0m\u001b[0;34m,\u001b[0m\u001b[0;34m'C2'\u001b[0m\u001b[0;34m,\u001b[0m\u001b[0;34m'C3'\u001b[0m\u001b[0;34m,\u001b[0m\u001b[0;34m'C4'\u001b[0m\u001b[0;34m,\u001b[0m\u001b[0;34m'Napha'\u001b[0m\u001b[0;34m,\u001b[0m\u001b[0;34m'gasoline'\u001b[0m\u001b[0;34m,\u001b[0m\u001b[0;34m'diesel'\u001b[0m\u001b[0;34m,\u001b[0m\u001b[0;34m'heavy'\u001b[0m\u001b[0;34m]\u001b[0m\u001b[0;34m)\u001b[0m\u001b[0;34m\u001b[0m\u001b[0m\n\u001b[1;32m      4\u001b[0m \u001b[0max\u001b[0m\u001b[0;34m.\u001b[0m\u001b[0mset_title\u001b[0m\u001b[0;34m(\u001b[0m\u001b[0;34m'Product Composition (Mole) vs T'\u001b[0m\u001b[0;34m,\u001b[0m\u001b[0mfontsize\u001b[0m\u001b[0;34m=\u001b[0m\u001b[0;36m18\u001b[0m\u001b[0;34m)\u001b[0m\u001b[0;34m\u001b[0m\u001b[0m\n\u001b[1;32m      5\u001b[0m \u001b[0max\u001b[0m\u001b[0;34m.\u001b[0m\u001b[0mset_ylabel\u001b[0m\u001b[0;34m(\u001b[0m\u001b[0;34m'Mole Fraction (%)'\u001b[0m\u001b[0;34m,\u001b[0m \u001b[0mcolor\u001b[0m\u001b[0;34m=\u001b[0m\u001b[0;34m'K'\u001b[0m\u001b[0;34m,\u001b[0m\u001b[0mfontsize\u001b[0m\u001b[0;34m=\u001b[0m\u001b[0;36m18\u001b[0m\u001b[0;34m)\u001b[0m\u001b[0;34m\u001b[0m\u001b[0m\n",
      "\u001b[0;31mKeyError\u001b[0m: 'c1'"
     ]
    },
    {
     "data": {
      "image/png": "[encoded data removed]",
      "text/plain": [
       "<Figure size 1152x648 with 1 Axes>"
      ]
     },
     "metadata": {},
     "output_type": "display_data"
    }
   ],
   "source": [
    "fig, ax = plt.subplots(figsize=(16,9))\n",
    "ax.stackplot(rf_data['T'], reaction_data_scaled['c1'], reaction_data_scaled['c2'],reaction_data_scaled['c3'],reaction_data_scaled['c4'],\\\n",
    "            reaction_data_scaled['napha'],reaction_data_scaled['gasoline'],reaction_data_scaled['diesel'],reaction_data_scaled['heavy'])\n",
    "plt.legend(['C1','C2','C3','C4','Napha','gasoline','diesel','heavy'])\n",
    "ax.set_title('Product Composition (Mole) vs T',fontsize=18)\n",
    "ax.set_ylabel('Mole Fraction (%)', color='K',fontsize=18)\n",
    "ax.set_xlabel('Temperature (k)', color='K',fontsize=18)\n",
    "plt.show()"
   ]
  },
  {
   "cell_type": "code",
   "execution_count": null,
   "metadata": {
    "slideshow": {
     "slide_type": "fragment"
    }
   },
   "outputs": [],
   "source": [
    "fig, ax = plt.subplots(figsize=(16,9))\n",
    "ax.stackplot(rf_data['T'], reaction_data['c1'], reaction_data['c2'],reaction_data['c3'],reaction_data['c4'],\\\n",
    "            reaction_data['napha'],reaction_data['gasoline'],reaction_data['diesel'],reaction_data['heavy'])\n",
    "plt.legend(['C1','C2','C3','C4','Napha','gasoline','diesel','heavy'])\n",
    "ax.set_title('Total Production Rate (Mole) vs T',fontsize=18)\n",
    "ax.set_ylabel('Reaction Rate (kmol/s)', color='K',fontsize=18)\n",
    "ax.set_xlabel('Temperature (k)', color='K',fontsize=18)\n",
    "plt.show()"
   ]
  },
  {
   "cell_type": "markdown",
   "metadata": {
    "slideshow": {
     "slide_type": "subslide"
    }
   },
   "source": [
    "## Product Distribution (mass)"
   ]
  },
  {
   "cell_type": "code",
   "execution_count": null,
   "metadata": {
    "slideshow": {
     "slide_type": "fragment"
    }
   },
   "outputs": [],
   "source": [
    "mass_reaction_data = trans_product_mass(rf_data['r'])['unscaled']\n",
    "mass_reaction_scaled = trans_product_mass(rf_data['r'])['scaled']"
   ]
  },
  {
   "cell_type": "code",
   "execution_count": null,
   "metadata": {
    "slideshow": {
     "slide_type": "fragment"
    }
   },
   "outputs": [],
   "source": [
    "fig, ax = plt.subplots(figsize=(16,9))\n",
    "ax.stackplot(rf_data['T'], mass_reaction_scaled['c1'], mass_reaction_scaled['c2'],mass_reaction_scaled['c3'],mass_reaction_scaled['c4'],\\\n",
    "            mass_reaction_scaled['napha'],mass_reaction_scaled['gasoline'],mass_reaction_scaled['diesel'],mass_reaction_scaled['heavy'])\n",
    "plt.legend(['C1','C2','C3','C4','Napha','gasoline','diesel','heavy'])\n",
    "ax.set_title('Product Composition (Mass) vs T',fontsize=18)\n",
    "ax.set_ylabel('Mass Fraction (%)', color='K',fontsize=18)\n",
    "ax.set_xlabel('Temperature (k)', color='K',fontsize=18)\n",
    "plt.show()"
   ]
  },
  {
   "cell_type": "code",
   "execution_count": null,
   "metadata": {
    "slideshow": {
     "slide_type": "fragment"
    }
   },
   "outputs": [],
   "source": [
    "fig, ax = plt.subplots(figsize=(16,9))\n",
    "ax.stackplot(rf_data['T'], mass_reaction_data['c1'], mass_reaction_data['c2'],mass_reaction_data['c3'],mass_reaction_data['c4'],\\\n",
    "            mass_reaction_data['napha'],mass_reaction_data['gasoline'],mass_reaction_data['diesel'],mass_reaction_data['heavy'])\n",
    "plt.legend(['C1','C2','C3','C4','Napha','gasoline','diesel','heavy'])\n",
    "ax.set_title('Total Production Rate (mass) vs T',fontsize=18)\n",
    "ax.set_ylabel('Reaction Rate (kg/s)', color='K',fontsize=18)\n",
    "ax.set_xlabel('Temperature (k)', color='K',fontsize=18)\n",
    "plt.show()"
   ]
  },
  {
   "cell_type": "code",
   "execution_count": null,
   "metadata": {},
   "outputs": [],
   "source": [
    "# model.solutions.store_to(results)\n",
    "# with open('../saved_solutions/reactive_flash_200C_n58.pickle','wb') as f:\n",
    "#     pickle.dump(results,f)"
   ]
  },
  {
   "cell_type": "markdown",
   "metadata": {},
   "source": [
    "# VLE Validation using AspenPlus"
   ]
  },
  {
   "cell_type": "markdown",
   "metadata": {},
   "source": [
    "### Feed (Reactor Effluent)"
   ]
  },
  {
   "cell_type": "code",
   "execution_count": null,
   "metadata": {},
   "outputs": [],
   "source": [
    "print('Temperature (C): \\t{:.2f}\\t\\t'.format(model.T.value-273.15))\n",
    "print('Conversion(H2+CO): \\t{:.2f}\\t\\t'.format(1-((model.y['CO'].value+model.y['H2'].value)*model.V['out'].value)))\n",
    "print('Total FLow (kmol/s): \\t{:.2f}\\t\\t'.format(model.L['out'].value+model.V['out'].value))\n",
    "print('-'*72)\n",
    "for i in model.x:\n",
    "    print('{:10s}'.format(i),'\\t\\t{:.4%}'.format((model.x[i].value*model.L['out'].value\\\n",
    "        +model.y[i].value*model.V['out'].value)/(model.L['out'].value+model.V['out'].value)))"
   ]
  },
  {
   "cell_type": "markdown",
   "metadata": {},
   "source": [
    "### Phase Separation"
   ]
  },
  {
   "cell_type": "code",
   "execution_count": null,
   "metadata": {
    "scrolled": false
   },
   "outputs": [],
   "source": [
    "print('Component\\t\\tLiquid: {:.4f}\\t\\t\\tVapor: {:.4f}\\t\\t\\tlog K'.format(model.L['out'].value,model.V['out'].value))\n",
    "print('-'*108)\n",
    "for i in model.x:\n",
    "    print('{:10s}'.format(i),'\\t\\t{:8.4%}\\t\\t\\t{:8.4%}\\t\\t\\t{:.4f}'.format(model.x[i].value,model.y[i].value,np.log10(model.y[i].value/model.x[i].value)))"
   ]
  },
  {
   "cell_type": "code",
   "execution_count": null,
   "metadata": {},
   "outputs": [],
   "source": [
    "# model.solutions.store_to(results)\n",
    "# with open('../saved_solutions/reactive_flash_100C_n20.pickle','wb') as f:\n",
    "#     pickle.dump(results,f)"
   ]
  },
  {
   "cell_type": "code",
   "execution_count": null,
   "metadata": {},
   "outputs": [],
   "source": []
  }
 ],
 "metadata": {
  "kernelspec": {
   "display_name": "Python 3",
   "language": "python",
   "name": "python3"
  },
  "language_info": {
   "codemirror_mode": {
    "name": "ipython",
    "version": 3
   },
   "file_extension": ".py",
   "mimetype": "text/x-python",
   "name": "python",
   "nbconvert_exporter": "python",
   "pygments_lexer": "ipython3",
   "version": "3.6.3"
  }
 },
 "nbformat": 4,
 "nbformat_minor": 2
}
