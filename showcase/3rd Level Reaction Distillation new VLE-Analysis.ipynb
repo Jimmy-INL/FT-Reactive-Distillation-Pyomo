{
 "cells": [
  {
   "cell_type": "markdown",
   "metadata": {},
   "source": [
    "# 3rd Level Model Structure: Everything (Linking Stages)"
   ]
  },
  {
   "cell_type": "code",
   "execution_count": 1,
   "metadata": {},
   "outputs": [],
   "source": [
    "import sys\n",
    "import os\n",
    "sys.path.append(os.path.abspath('..'))"
   ]
  },
  {
   "cell_type": "code",
   "execution_count": 2,
   "metadata": {},
   "outputs": [],
   "source": [
    "from pyomo import environ as pe\n",
    "from modules.global_set import m\n",
    "\n",
    "from modules.reactive_stage import reactive_stage_rule\n",
    "from modules.condenser_stage2 import condenser_stage_rule\n",
    "\n",
    "model = pe.ConcreteModel()"
   ]
  },
  {
   "cell_type": "code",
   "execution_count": null,
   "metadata": {},
   "outputs": [],
   "source": []
  },
  {
   "cell_type": "markdown",
   "metadata": {},
   "source": [
    "# Global Set"
   ]
  },
  {
   "cell_type": "code",
   "execution_count": 3,
   "metadata": {},
   "outputs": [],
   "source": [
    "model.TRAY = pe.RangeSet(1,1)"
   ]
  },
  {
   "cell_type": "markdown",
   "metadata": {},
   "source": [
    "# Construct Reactive Stages"
   ]
  },
  {
   "cell_type": "code",
   "execution_count": 4,
   "metadata": {},
   "outputs": [
    {
     "name": "stdout",
     "output_type": "stream",
     "text": [
      "> Importing Reactive Stage......\n",
      "> Adding the following local variable:\n",
      "------------------------------------\n",
      "| reactive[1].T_F\n",
      "| reactive[1].P\n",
      "| reactive[1].cat\n",
      "| reactive[1].Q_main\n",
      "| reactive[1].x_\n",
      "| reactive[1].y_\n",
      "| reactive[1].x\n",
      "| reactive[1].y\n",
      "| reactive[1].z\n",
      "| reactive[1].L\n",
      "| reactive[1].V\n",
      "| reactive[1].F\n",
      "| reactive[1].H_L_\n",
      "| reactive[1].H_V_\n",
      "| reactive[1].H_L\n",
      "| reactive[1].H_V\n",
      "| reactive[1].T\n",
      "| reactive[1].H_F\n",
      "| reactive[1].f_V\n",
      "| reactive[1].f_L\n",
      "| reactive[1].r_total_comp\n",
      "------------------------------------\n",
      "\n",
      "> Importing Kinetics Blocks......\n",
      "> Adding the following local variable:\n",
      "--------------------------------------------------\n",
      "| reactive[1].kinetics_block.k_FT\n",
      "| reactive[1].kinetics_block.r_FT_total\n",
      "| reactive[1].kinetics_block.g0_FT\n",
      "| reactive[1].kinetics_block.alpha\n",
      "| reactive[1].kinetics_block.r_FT_cnum\n",
      "| reactive[1].kinetics_block.r_FT_comp\n",
      "| reactive[1].kinetics_block.k_WGS\n",
      "| reactive[1].kinetics_block.Ke_WGS\n",
      "| reactive[1].kinetics_block.r_WGS\n",
      "| reactive[1].kinetics_block.r_WGS_comp\n",
      "--------------------------------------------------\n",
      "\n",
      "> Importing Energy Blocks......\n",
      "> Adding the following local variable:\n",
      "--------------------------------------------------\n",
      "| reactive[1].energy_block.dH_F\n",
      "| reactive[1].energy_block.dH_V\n",
      "| reactive[1].energy_block.dH_L\n",
      "| reactive[1].energy_block.dH_vap\n",
      "--------------------------------------------------\n",
      "\n",
      "> Importing VLE Blocks......\n",
      "> Adding the following local variable:\n",
      "--------------------------------------------------\n",
      "| reactive[1].VLE_block.n_ave\n",
      "| reactive[1].VLE_block.n_ave_cal\n",
      "| reactive[1].VLE_block.Hen\n",
      "| reactive[1].VLE_block.Hen0\n",
      "| reactive[1].VLE_block.gamma\n",
      "| reactive[1].VLE_block.P_sat\n",
      "| reactive[1].VLE_block.P_sat_dY_inf\n",
      "| reactive[1].VLE_block.P_sat_dY0\n",
      "| reactive[1].VLE_block.Hen_ref\n",
      "| reactive[1].VLE_block.Hen0_ref\n",
      "| reactive[1].VLE_block.gamma_ref\n",
      "--------------------------------------------------\n",
      "\n"
     ]
    }
   ],
   "source": [
    "model.reactive = pe.Block(model.TRAY,rule=reactive_stage_rule)"
   ]
  },
  {
   "cell_type": "markdown",
   "metadata": {
    "collapsed": true
   },
   "source": [
    "# Construct a single condenser"
   ]
  },
  {
   "cell_type": "code",
   "execution_count": 5,
   "metadata": {},
   "outputs": [
    {
     "name": "stdout",
     "output_type": "stream",
     "text": [
      "| Importing Condenser Stage......\n",
      "| Adding the following local variable:\n",
      "------------------------------------\n",
      "| condenser.T\n",
      "| condenser.T_F\n",
      "| condenser.P\n",
      "| condenser.Q_main\n",
      "| condenser.x_\n",
      "| condenser.y_\n",
      "| condenser.x\n",
      "| condenser.y\n",
      "| condenser.z\n",
      "| condenser.L\n",
      "| condenser.W\n",
      "| condenser.V\n",
      "| condenser.F\n",
      "| condenser.H_L_\n",
      "| condenser.H_V_\n",
      "| condenser.H_L\n",
      "| condenser.H_V\n",
      "| condenser.H_F\n",
      "| condenser.f_V\n",
      "| condenser.f_L\n",
      "------------------------------------\n",
      "\n",
      "> Importing Energy Blocks......\n",
      "> Adding the following local variable:\n",
      "--------------------------------------------------\n",
      "| condenser.energy_block.dH_F\n",
      "| condenser.energy_block.dH_V\n",
      "| condenser.energy_block.dH_L\n",
      "| condenser.energy_block.dH_vap\n",
      "--------------------------------------------------\n",
      "\n",
      "> Importing VLE Blocks......\n",
      "> Adding the following local variable:\n",
      "--------------------------------------------------\n",
      "| condenser.VLE_block.n_ave\n",
      "| condenser.VLE_block.n_ave_cal\n",
      "| condenser.VLE_block.Hen\n",
      "| condenser.VLE_block.Hen0\n",
      "| condenser.VLE_block.gamma\n",
      "| condenser.VLE_block.P_sat\n",
      "| condenser.VLE_block.P_sat_dY_inf\n",
      "| condenser.VLE_block.P_sat_dY0\n",
      "| condenser.VLE_block.Hen_ref\n",
      "| condenser.VLE_block.Hen0_ref\n",
      "| condenser.VLE_block.gamma_ref\n",
      "--------------------------------------------------\n",
      "\n"
     ]
    }
   ],
   "source": [
    "model.condenser = pe.Block(rule=condenser_stage_rule)"
   ]
  },
  {
   "cell_type": "markdown",
   "metadata": {},
   "source": [
    "# Linking Stage Variables"
   ]
  },
  {
   "cell_type": "markdown",
   "metadata": {},
   "source": [
    "### Vapor Between Reactive Stages"
   ]
  },
  {
   "cell_type": "code",
   "execution_count": 6,
   "metadata": {},
   "outputs": [],
   "source": [
    "def V_between_rule(model,j):\n",
    "    if j == model.TRAY.last(): return pe.Constraint.Skip\n",
    "    return model.reactive[j].V['in'] == model.reactive[j+1].V['out']\n",
    "model.V_between_con = pe.Constraint(model.TRAY,rule=V_between_rule)\n",
    "\n",
    "def Vy_between_rule(model,j,i):\n",
    "    if j == model.TRAY.last(): return pe.Constraint.Skip\n",
    "    return model.reactive[j].y_['in',i] == model.reactive[j+1].y[i]\n",
    "model.Vy_between_con = pe.Constraint(model.TRAY,m.COMP_TOTAL,rule=Vy_between_rule)\n",
    "\n",
    "def Vh_between_rule(model,j):\n",
    "    if j == model.TRAY.last(): return pe.Constraint.Skip\n",
    "    return model.reactive[j].H_V_['in'] == model.reactive[j+1].H_V\n",
    "model.Vh_between_con = pe.Constraint(model.TRAY,rule=Vh_between_rule)"
   ]
  },
  {
   "cell_type": "markdown",
   "metadata": {},
   "source": [
    "### Liquid Between Reactive Stages"
   ]
  },
  {
   "cell_type": "code",
   "execution_count": 7,
   "metadata": {},
   "outputs": [],
   "source": [
    "def L_between_rule(model,j):\n",
    "    if j == model.TRAY.last(): return pe.Constraint.Skip\n",
    "    return model.reactive[j+1].L['in'] == model.reactive[j].L['out']\n",
    "model.L_between_con = pe.Constraint(model.TRAY,rule=L_between_rule)\n",
    "\n",
    "def Lx_between_rule(model,j,i):\n",
    "    if j == model.TRAY.last(): return pe.Constraint.Skip\n",
    "    return model.reactive[j+1].x_['in',i] == model.reactive[j].x[i]\n",
    "model.Ly_between_con = pe.Constraint(model.TRAY,m.COMP_TOTAL,rule=Lx_between_rule)\n",
    "\n",
    "def Lh_between_rule(model,j):\n",
    "    if j == model.TRAY.last(): return pe.Constraint.Skip\n",
    "    return model.reactive[j+1].H_L_['in'] == model.reactive[j].H_L\n",
    "model.Lh_between_con = pe.Constraint(model.TRAY,rule=Lh_between_rule)"
   ]
  },
  {
   "cell_type": "markdown",
   "metadata": {},
   "source": [
    "### Condenser"
   ]
  },
  {
   "cell_type": "code",
   "execution_count": 8,
   "metadata": {},
   "outputs": [],
   "source": [
    "def V_condenser_rule(model):\n",
    "    return model.reactive[model.TRAY.first()].V['out'] == model.condenser.V['in']\n",
    "model.V_condenser_con = pe.Constraint(rule=V_condenser_rule)\n",
    "\n",
    "def Vy_condenser_rule(model,i):\n",
    "    return model.reactive[model.TRAY.first()].y[i] == model.condenser.y_['in',i]\n",
    "model.Vy_condenser_con = pe.Constraint(m.COMP_TOTAL,rule=Vy_condenser_rule)\n",
    "\n",
    "def Vh_condenser_rule(model):\n",
    "    return model.reactive[model.TRAY.first()].H_V == model.condenser.H_V_['in']\n",
    "model.Vh_condenser_con = pe.Constraint(rule=Vh_condenser_rule)"
   ]
  },
  {
   "cell_type": "code",
   "execution_count": 9,
   "metadata": {},
   "outputs": [],
   "source": [
    "def L_condenser_rule(model):\n",
    "    return model.reactive[model.TRAY.first()].L['in'] == model.condenser.L['out']\n",
    "model.L_condenser_con = pe.Constraint(rule=L_condenser_rule)\n",
    "\n",
    "def Lx_condenser_rule(model,i):\n",
    "    return model.reactive[model.TRAY.first()].x_['in',i] == model.condenser.x[i]\n",
    "model.Lx_condenser_con = pe.Constraint(m.COMP_TOTAL,rule=Lx_condenser_rule)\n",
    "\n",
    "def Lh_condenser_rule(model):\n",
    "    return model.reactive[model.TRAY.first()].H_L_['in'] == model.condenser.H_L\n",
    "model.Lh_condenser_con = pe.Constraint(rule=Lh_condenser_rule)"
   ]
  },
  {
   "cell_type": "markdown",
   "metadata": {},
   "source": [
    "# Fixing Redundent Stream Variables"
   ]
  },
  {
   "cell_type": "code",
   "execution_count": 10,
   "metadata": {},
   "outputs": [],
   "source": [
    "# condenser\n",
    "model.condenser.VLE_block.n_ave.fix(30)\n",
    "\n",
    "model.condenser.F.fix(0)\n",
    "model.condenser.T_F.fix(300+273.15)\n",
    "model.condenser.z.fix(0)\n",
    "\n",
    "model.condenser.V['P'].fix(0)\n",
    "model.condenser.L['in'].fix(0)\n",
    "for i in m.COMP_TOTAL: model.condenser.x_['in',i].fix(0)\n",
    "model.condenser.H_L_['in'].fix(0)"
   ]
  },
  {
   "cell_type": "code",
   "execution_count": 11,
   "metadata": {},
   "outputs": [],
   "source": [
    "# 'reboiler' fixing last stage V_in\n",
    "\n",
    "model.reactive[model.TRAY.last()].V['in'].fix(0)\n",
    "for i in m.COMP_TOTAL: model.reactive[model.TRAY.last()].y_['in',i].fix(0)\n",
    "model.reactive[model.TRAY.last()].H_V_['in'].fix(0)"
   ]
  },
  {
   "cell_type": "code",
   "execution_count": 12,
   "metadata": {},
   "outputs": [
    {
     "ename": "NameError",
     "evalue": "name 'u' is not defined",
     "output_type": "error",
     "traceback": [
      "\u001b[0;31m---------------------------------------------------------------------------\u001b[0m",
      "\u001b[0;31mNameError\u001b[0m                                 Traceback (most recent call last)",
      "\u001b[0;32m<ipython-input-12-cccb31e0d3a2>\u001b[0m in \u001b[0;36m<module>\u001b[0;34m()\u001b[0m\n\u001b[0;32m----> 1\u001b[0;31m \u001b[0mu\u001b[0m\u001b[0;34m.\u001b[0m\u001b[0mcheck_DOF\u001b[0m\u001b[0;34m(\u001b[0m\u001b[0mpe\u001b[0m\u001b[0;34m,\u001b[0m\u001b[0mmodel\u001b[0m\u001b[0;34m)\u001b[0m\u001b[0;34m\u001b[0m\u001b[0m\n\u001b[0m",
      "\u001b[0;31mNameError\u001b[0m: name 'u' is not defined"
     ]
    }
   ],
   "source": [
    "u.check_DOF(pe,model)"
   ]
  },
  {
   "cell_type": "markdown",
   "metadata": {},
   "source": [
    "# Load Operating Parameters"
   ]
  },
  {
   "cell_type": "code",
   "execution_count": null,
   "metadata": {},
   "outputs": [],
   "source": [
    "# condenser\n",
    "model.condenser.P.fix(19)\n",
    "#model.condenser.T.fix(30+273.15)\n",
    "model.condenser.T.setub(30+273.15)\n",
    "model.condenser.L['out'].setub(6)\n",
    "\n",
    "# reactive stage\n",
    "for j in model.reactive:\n",
    "    model.reactive[j].cat.fix(2000)\n",
    "    model.reactive[j].P.fix(20)\n",
    "    model.reactive[j].VLE_block.n_ave.fix(30)\n",
    "    \n",
    "    model.reactive[j].F.fix(2)\n",
    "    model.reactive[j].T_F.fix(200+273.15)\n",
    "    model.reactive[j].z['CO'].fix(0.4)\n",
    "    model.reactive[j].z['H2'].fix(0.6)\n",
    "    model.reactive[j].z['C30H62'].fix(0)\n",
    "    model.reactive[j].V['P'].fix(0)\n",
    "    model.reactive[j].L['P'].fix(0)\n",
    "    #model.reactive[j].Q_main.fix(0)"
   ]
  },
  {
   "cell_type": "code",
   "execution_count": null,
   "metadata": {
    "scrolled": true
   },
   "outputs": [],
   "source": [
    "u.check_DOF(pe,model)"
   ]
  },
  {
   "cell_type": "code",
   "execution_count": null,
   "metadata": {},
   "outputs": [],
   "source": [
    "model.obj = pe.Objective(expr = model.condenser.L['P'] ,sense=pe.maximize)"
   ]
  },
  {
   "cell_type": "code",
   "execution_count": null,
   "metadata": {},
   "outputs": [],
   "source": [
    "opt = pe.SolverFactory('ipopt')\n",
    "opt.options['print_user_options'] = 'yes'\n",
    "opt.options['linear_solver'] = 'ma86'\n",
    "# opt.options['constr_viol_tol'] = 1e-7\n",
    "opt.options['acceptable_constr_viol_tol'] = 1e-7\n",
    "opt.options['max_iter'] = 7000\n",
    "# opt.options['dual_inf_tol'] = '+inf'\n",
    "# opt.options['acceptable_dual_inf_tol'] = '+inf'\n",
    "\n",
    "opt.options['warm_start_init_point'] = 'yes'\n",
    "# opt.options['warm_start_bound_push'] = 1e-6\n",
    "# opt.options['warm_start_mult_bound_push'] = 1e-6\n",
    "# opt.options['mu_init'] = 1e-6"
   ]
  },
  {
   "cell_type": "code",
   "execution_count": null,
   "metadata": {},
   "outputs": [],
   "source": [
    "u.add_dual(pe,model)"
   ]
  },
  {
   "cell_type": "code",
   "execution_count": null,
   "metadata": {
    "scrolled": false
   },
   "outputs": [],
   "source": [
    "results = opt.solve(model,tee=True)"
   ]
  },
  {
   "cell_type": "code",
   "execution_count": null,
   "metadata": {},
   "outputs": [],
   "source": [
    "# u.load_all(model,results,'json/3_stage_sandwich_remove_water')"
   ]
  },
  {
   "cell_type": "code",
   "execution_count": null,
   "metadata": {},
   "outputs": [],
   "source": [
    "model.ipopt_zL_in.update(model.ipopt_zL_out)\n",
    "model.ipopt_zU_in.update(model.ipopt_zU_out)"
   ]
  },
  {
   "cell_type": "code",
   "execution_count": null,
   "metadata": {
    "scrolled": false
   },
   "outputs": [],
   "source": [
    "u.beautify2(pe,model)"
   ]
  },
  {
   "cell_type": "code",
   "execution_count": null,
   "metadata": {},
   "outputs": [],
   "source": [
    "u.save_all(model,results,'json/2_stage_sandwich_VLLE')"
   ]
  },
  {
   "cell_type": "markdown",
   "metadata": {},
   "source": [
    "### As you can see, because Q is left unfixed, certain energy constraints has 0 multiplier, not active"
   ]
  },
  {
   "cell_type": "code",
   "execution_count": null,
   "metadata": {},
   "outputs": [],
   "source": [
    "for i in model.dual:\n",
    "    if abs(model.dual[i]) == 0:\n",
    "        print('{:40s}'.format(str(i)),'\\t\\t',model.dual[i])"
   ]
  },
  {
   "cell_type": "markdown",
   "metadata": {},
   "source": [
    "# Iterative Data Analysis"
   ]
  },
  {
   "cell_type": "code",
   "execution_count": null,
   "metadata": {},
   "outputs": [],
   "source": [
    "import numpy as np\n",
    "from matplotlib import pyplot as plt"
   ]
  },
  {
   "cell_type": "code",
   "execution_count": null,
   "metadata": {},
   "outputs": [],
   "source": [
    "model.del_component(model.obj)\n",
    "model.obj = pe.Objective(expr = 1 ,sense=pe.maximize)\n",
    "model.condenser.T.fixed = True"
   ]
  },
  {
   "cell_type": "code",
   "execution_count": null,
   "metadata": {
    "scrolled": true
   },
   "outputs": [],
   "source": [
    "results = opt.solve(model,tee=True)"
   ]
  },
  {
   "cell_type": "code",
   "execution_count": null,
   "metadata": {},
   "outputs": [],
   "source": [
    "u.update_dual(pe,model)"
   ]
  },
  {
   "cell_type": "code",
   "execution_count": null,
   "metadata": {},
   "outputs": [],
   "source": [
    "Trange = np.linspace(model.reactive[1].T.value,201+273.15,50)"
   ]
  },
  {
   "cell_type": "code",
   "execution_count": null,
   "metadata": {},
   "outputs": [],
   "source": [
    "rf_data = {}\n",
    "rf_data['r'] = {}; rf_data['T'] = []; rf_data['Q'] = []; rf_data['V'] = []; rf_data['L'] = []; \n",
    "rf_data['y_CO'] = []; rf_data['y_H2'] = []; rf_data['y_CO2'] = []; rf_data['y_H2O'] = []; rf_data['r_WGS'] = []; rf_data['r_FT'] = []\n",
    "\n",
    "for i in model.reactive[1].r_total_comp:\n",
    "    rf_data['r'][i] = []\n",
    "\n",
    "for t in Trange:\n",
    "    model.reactive[1].T.fix(t)\n",
    "    results = opt.solve(model,tee=False)\n",
    "    u.update_dual(pe,model)\n",
    "    print('Solved, Solution T = {} K'.format(model.reactive[1].T.value))\n",
    "    rf_data['T'].append(model.reactive[1].T.value)\n",
    "    rf_data['Q'].append(model.reactive[1].Q_main.value)\n",
    "    rf_data['V'].append(model.condenser.V['out'].value)\n",
    "    rf_data['L'].append(model.condenser.L['P'].value)    \n",
    "\n",
    "    for i in model.reactive[1].r_total_comp:\n",
    "        rf_data['r'][i].append(model.reactive[1].r_total_comp[i].value)\n",
    "    \n",
    "    \n",
    "    rf_data['y_H2O'].append(model.reactive[1].y['H2O'].value)\n",
    "    rf_data['y_CO'].append(model.reactive[1].y['CO'].value)\n",
    "    rf_data['y_H2'].append(model.reactive[1].y['H2'].value)\n",
    "    rf_data['y_CO2'].append(model.reactive[1].y['CO2'].value)\n",
    "    rf_data['r_WGS'].append(model.reactive[1].kinetics_block.r_WGS.value)\n",
    "    rf_data['r_FT'].append(model.reactive[1].kinetics_block.r_FT_total.value)"
   ]
  },
  {
   "cell_type": "code",
   "execution_count": null,
   "metadata": {},
   "outputs": [],
   "source": [
    "fig, ax1 = plt.subplots(figsize=(16,9))\n",
    "line1 = ax1.plot(rf_data['T'],rf_data['Q'], 'b-')\n",
    "ax1.set_xlabel('Temperature (k)', color='K',fontsize=18)\n",
    "ax1.set_ylabel('Q (MW)', color='b',fontsize=18)\n",
    "ax1.tick_params('y', colors='b',labelsize=18)\n",
    "ax1.tick_params('x', colors='k',labelsize=18)\n",
    "ax1.grid()\n",
    "\n",
    "ax2 = ax1.twinx()\n",
    "line2 = ax2.plot(rf_data['T'],rf_data['r_FT'], 'r')\n",
    "line3 = ax2.plot(rf_data['T'],rf_data['r_WGS'], 'r--')\n",
    "ax2.set_ylabel('$r_{FT}$: (kmol/s Carbon Number)', color='r',fontsize=18)\n",
    "ax2.tick_params('y', colors='r',labelsize=18)\n",
    "\n",
    "ax1.legend(line1+line2+line3,['Q','$r_{FT}$','$r_{WGS}$'],fontsize=18,loc=5)\n",
    "ax1.set_title('Heat Removal Rate and Reaction Rate vs T',fontsize=18)\n",
    "plt.show()"
   ]
  },
  {
   "cell_type": "code",
   "execution_count": null,
   "metadata": {},
   "outputs": [],
   "source": [
    "fig, ax = plt.subplots(figsize=(16,9))\n",
    "ax.plot(rf_data['T'],rf_data['y_CO'])\n",
    "ax.plot(rf_data['T'],rf_data['y_H2'])\n",
    "ax.plot(rf_data['T'],rf_data['y_CO2'])\n",
    "ax.plot(rf_data['T'],rf_data['y_H2O'])\n",
    "\n",
    "ax.legend(['$y_{CO}$','$y_{H2}$','$y_{CO2}$','$y_{H2O}$'],fontsize=18)\n",
    "ax.set_title('Gas Phase Inorganic Composition vs T',fontsize=18)\n",
    "\n",
    "ax.set_ylabel('Mole Fraction (%)', color='K',fontsize=18)\n",
    "ax.set_xlabel('Temperature (k)', color='K',fontsize=18)\n",
    "ax.tick_params('y', colors='k',labelsize=18)\n",
    "ax.tick_params('x', colors='k',labelsize=18)\n",
    "ax.grid()\n",
    "plt.show()"
   ]
  },
  {
   "cell_type": "code",
   "execution_count": null,
   "metadata": {},
   "outputs": [],
   "source": [
    "fig, ax = plt.subplots(figsize=(16,9))\n",
    "ax.plot(rf_data['T'],rf_data['r']['CO'])\n",
    "ax.plot(rf_data['T'],rf_data['r']['H2'])\n",
    "ax.plot(rf_data['T'],rf_data['r']['CO2'])\n",
    "ax.plot(rf_data['T'],rf_data['r']['H2O'])\n",
    "\n",
    "ax.legend(['$r_{CO}$','$r_{H2}$','$r_{CO2}$','$r_{H2O}$'],fontsize=18)\n",
    "ax.set_title('Inorganic Reaction Rate vs T',fontsize=18)\n",
    "\n",
    "ax.set_ylabel('Reaction Rate (kmol/s)', color='K',fontsize=18)\n",
    "ax.set_xlabel('Temperature (k)', color='K',fontsize=18)\n",
    "ax.tick_params('y', colors='k',labelsize=18)\n",
    "ax.tick_params('x', colors='k',labelsize=18)\n",
    "ax.grid()\n",
    "plt.show()"
   ]
  },
  {
   "cell_type": "code",
   "execution_count": null,
   "metadata": {},
   "outputs": [],
   "source": [
    "reaction_data = u.trans_product(rf_data['r'])\n",
    "reaction_scaled = u.trans_product_scaled(rf_data['r'])"
   ]
  },
  {
   "cell_type": "code",
   "execution_count": null,
   "metadata": {},
   "outputs": [],
   "source": [
    "fig, ax = plt.subplots(figsize=(16,9))\n",
    "ax.stackplot(rf_data['T'], reaction_scaled['c1'], reaction_scaled['c2'],reaction_scaled['c3'],reaction_scaled['c4'],\\\n",
    "            reaction_scaled['napha'],reaction_scaled['gasoline'],reaction_scaled['diesel'],reaction_scaled['heavy'])\n",
    "plt.legend(['C1','C2','C3','C4','Napha','gasoline','diesel','heavy'])\n",
    "ax.set_title('Product Composition (Mole) vs T',fontsize=18)\n",
    "ax.set_ylabel('Mole Fraction (%)', color='K',fontsize=18)\n",
    "ax.set_xlabel('Temperature (k)', color='K',fontsize=18)\n",
    "plt.show()"
   ]
  },
  {
   "cell_type": "code",
   "execution_count": null,
   "metadata": {},
   "outputs": [],
   "source": [
    "fig, ax = plt.subplots(figsize=(16,9))\n",
    "ax.stackplot(rf_data['T'], reaction_data['c1'], reaction_data['c2'],reaction_data['c3'],reaction_data['c4'],\\\n",
    "            reaction_data['napha'],reaction_data['gasoline'],reaction_data['diesel'],reaction_data['heavy'])\n",
    "plt.legend(['C1','C2','C3','C4','Napha','gasoline','diesel','heavy'])\n",
    "ax.set_title('Total Production Rate (Mole) vs T',fontsize=18)\n",
    "ax.set_ylabel('Reaction Rate (kmol/s)', color='K',fontsize=18)\n",
    "ax.set_xlabel('Temperature (k)', color='K',fontsize=18)\n",
    "plt.show()"
   ]
  },
  {
   "cell_type": "code",
   "execution_count": null,
   "metadata": {},
   "outputs": [],
   "source": [
    "mass_data = {}\n",
    "for i in m.COMP_ORG:\n",
    "    mass_data[i] = np.array(rf_data['r'][i])*u.cal_MW(i)"
   ]
  },
  {
   "cell_type": "code",
   "execution_count": null,
   "metadata": {},
   "outputs": [],
   "source": [
    "mass_reaction_data = u.trans_product(mass_data)\n",
    "mass_reaction_scaled = u.trans_product_scaled(mass_data)"
   ]
  },
  {
   "cell_type": "code",
   "execution_count": null,
   "metadata": {},
   "outputs": [],
   "source": [
    "fig, ax = plt.subplots(figsize=(16,9))\n",
    "ax.stackplot(rf_data['T'], mass_reaction_scaled['c1'], mass_reaction_scaled['c2'],mass_reaction_scaled['c3'],mass_reaction_scaled['c4'],\\\n",
    "            mass_reaction_scaled['napha'],mass_reaction_scaled['gasoline'],mass_reaction_scaled['diesel'],mass_reaction_scaled['heavy'])\n",
    "plt.legend(['C1','C2','C3','C4','Napha','gasoline','diesel','heavy'])\n",
    "ax.set_title('Product Composition (Mass) vs T',fontsize=18)\n",
    "ax.set_ylabel('Mass Fraction (%)', color='K',fontsize=18)\n",
    "ax.set_xlabel('Temperature (k)', color='K',fontsize=18)\n",
    "plt.show()"
   ]
  },
  {
   "cell_type": "code",
   "execution_count": null,
   "metadata": {},
   "outputs": [],
   "source": [
    "fig, ax = plt.subplots(figsize=(16,9))\n",
    "ax.stackplot(rf_data['T'], mass_reaction_data['c1'], mass_reaction_data['c2'],mass_reaction_data['c3'],mass_reaction_data['c4'],\\\n",
    "            mass_reaction_data['napha'],mass_reaction_data['gasoline'],mass_reaction_data['diesel'],mass_reaction_data['heavy'])\n",
    "plt.legend(['C1','C2','C3','C4','Napha','gasoline','diesel','heavy'])\n",
    "ax.set_title('Total Production Rate (mass) vs T',fontsize=18)\n",
    "ax.set_ylabel('Reaction Rate (kg/s)', color='K',fontsize=18)\n",
    "ax.set_xlabel('Temperature (k)', color='K',fontsize=18)\n",
    "plt.show()"
   ]
  },
  {
   "cell_type": "code",
   "execution_count": null,
   "metadata": {},
   "outputs": [],
   "source": []
  }
 ],
 "metadata": {
  "kernelspec": {
   "display_name": "Python 3",
   "language": "python",
   "name": "python3"
  },
  "language_info": {
   "codemirror_mode": {
    "name": "ipython",
    "version": 3
   },
   "file_extension": ".py",
   "mimetype": "text/x-python",
   "name": "python",
   "nbconvert_exporter": "python",
   "pygments_lexer": "ipython3",
   "version": "3.6.3"
  }
 },
 "nbformat": 4,
 "nbformat_minor": 2
}
