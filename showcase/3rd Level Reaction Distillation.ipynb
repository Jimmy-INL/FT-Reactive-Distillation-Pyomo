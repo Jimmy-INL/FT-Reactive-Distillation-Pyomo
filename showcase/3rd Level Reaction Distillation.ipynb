{
 "cells": [
  {
   "cell_type": "markdown",
   "metadata": {},
   "source": [
    "# 3rd Level Model Structure: Everything (Linking Stages)"
   ]
  },
  {
   "cell_type": "code",
   "execution_count": 1,
   "metadata": {},
   "outputs": [],
   "source": [
    "import sys\n",
    "import os\n",
    "import pickle\n",
    "sys.path.append(os.path.abspath('..'))"
   ]
  },
  {
   "cell_type": "code",
   "execution_count": 2,
   "metadata": {},
   "outputs": [],
   "source": [
    "from pyomo import environ as pe\n",
    "from modules.global_set import m\n",
    "\n",
    "from stages.reactive_stage import reactive_stage_rule\n",
    "from stages.condenser_stage import condenser_stage_rule\n",
    "\n",
    "from utility.display_utility import trans_product_mole, trans_product_mass, beautify2\n",
    "from utility.model_utility import add_dual, update_dual, check_DOF\n",
    "\n",
    "model = pe.ConcreteModel()"
   ]
  },
  {
   "cell_type": "markdown",
   "metadata": {},
   "source": [
    "# Global Set"
   ]
  },
  {
   "cell_type": "code",
   "execution_count": 3,
   "metadata": {},
   "outputs": [],
   "source": [
    "model.TRAY = pe.RangeSet(1,1)"
   ]
  },
  {
   "cell_type": "markdown",
   "metadata": {},
   "source": [
    "# Construct Reactive Stages"
   ]
  },
  {
   "cell_type": "code",
   "execution_count": 4,
   "metadata": {},
   "outputs": [
    {
     "name": "stdout",
     "output_type": "stream",
     "text": [
      "> Importing Reactive Stage......\n",
      "> Adding the following local variable:\n",
      "------------------------------------\n",
      "| reactive[1].T_F\n",
      "| reactive[1].P\n",
      "| reactive[1].cat\n",
      "| reactive[1].Q_main\n",
      "| reactive[1].x_\n",
      "| reactive[1].y_\n",
      "| reactive[1].x\n",
      "| reactive[1].y\n",
      "| reactive[1].z\n",
      "| reactive[1].L\n",
      "| reactive[1].V\n",
      "| reactive[1].F\n",
      "| reactive[1].H_L_\n",
      "| reactive[1].H_V_\n",
      "| reactive[1].H_L\n",
      "| reactive[1].H_V\n",
      "| reactive[1].T\n",
      "| reactive[1].H_F\n",
      "| reactive[1].f_V\n",
      "| reactive[1].f_L\n",
      "| reactive[1].r_total_comp\n",
      "------------------------------------\n",
      "\n",
      "> Importing Kinetics Blocks......\n",
      "> Adding the following local variable:\n",
      "--------------------------------------------------\n",
      "| reactive[1].kinetics_block.k_FT\n",
      "| reactive[1].kinetics_block.r_FT_total\n",
      "| reactive[1].kinetics_block.g0_FT\n",
      "| reactive[1].kinetics_block.alpha\n",
      "| reactive[1].kinetics_block.r_FT_cnum\n",
      "| reactive[1].kinetics_block.r_FT_comp\n",
      "| reactive[1].kinetics_block.k_WGS\n",
      "| reactive[1].kinetics_block.Ke_WGS\n",
      "| reactive[1].kinetics_block.r_WGS\n",
      "| reactive[1].kinetics_block.r_WGS_comp\n",
      "--------------------------------------------------\n",
      "\n",
      "> Importing Energy Blocks......\n",
      "> Adding the following local variable:\n",
      "--------------------------------------------------\n",
      "| reactive[1].energy_block.dH_F\n",
      "| reactive[1].energy_block.dH_V\n",
      "| reactive[1].energy_block.dH_L\n",
      "| reactive[1].energy_block.dH_vap\n",
      "--------------------------------------------------\n",
      "\n",
      "> Importing VLE Blocks......\n",
      "> Adding the following local variable:\n",
      "--------------------------------------------------\n",
      "| reactive[1].VLE_block.n_ave\n",
      "| reactive[1].VLE_block.n_ave_cal\n",
      "| reactive[1].VLE_block.Hen\n",
      "| reactive[1].VLE_block.Hen0\n",
      "| reactive[1].VLE_block.gamma\n",
      "| reactive[1].VLE_block.P_sat\n",
      "| reactive[1].VLE_block.P_sat_Y\n",
      "| reactive[1].VLE_block.P_sat_dY_inf\n",
      "| reactive[1].VLE_block.P_sat_dY0\n",
      "| reactive[1].VLE_block.Hen_ref\n",
      "| reactive[1].VLE_block.Hen0_ref\n",
      "| reactive[1].VLE_block.gamma_ref\n",
      "--------------------------------------------------\n",
      "\n"
     ]
    }
   ],
   "source": [
    "model.reactive = pe.Block(model.TRAY,rule=reactive_stage_rule)"
   ]
  },
  {
   "cell_type": "markdown",
   "metadata": {
    "collapsed": true
   },
   "source": [
    "# Construct a single condenser"
   ]
  },
  {
   "cell_type": "code",
   "execution_count": 5,
   "metadata": {},
   "outputs": [
    {
     "name": "stdout",
     "output_type": "stream",
     "text": [
      "| Importing Condenser Stage......\n",
      "| Adding the following local variable:\n",
      "------------------------------------\n",
      "| condenser.T\n",
      "| condenser.T_F\n",
      "| condenser.P\n",
      "| condenser.Q_main\n",
      "| condenser.x_\n",
      "| condenser.y_\n",
      "| condenser.x\n",
      "| condenser.y\n",
      "| condenser.z\n",
      "| condenser.L\n",
      "| condenser.W\n",
      "| condenser.V\n",
      "| condenser.F\n",
      "| condenser.H_L_\n",
      "| condenser.H_V_\n",
      "| condenser.H_L\n",
      "| condenser.H_V\n",
      "| condenser.H_F\n",
      "| condenser.f_V\n",
      "| condenser.f_L\n",
      "------------------------------------\n",
      "\n",
      "> Importing Energy Blocks......\n",
      "> Adding the following local variable:\n",
      "--------------------------------------------------\n",
      "| condenser.energy_block.dH_F\n",
      "| condenser.energy_block.dH_V\n",
      "| condenser.energy_block.dH_L\n",
      "| condenser.energy_block.dH_vap\n",
      "--------------------------------------------------\n",
      "\n",
      "> Importing VLE Blocks......\n",
      "> Adding the following local variable:\n",
      "--------------------------------------------------\n",
      "| condenser.VLE_block.n_ave\n",
      "| condenser.VLE_block.n_ave_cal\n",
      "| condenser.VLE_block.Hen\n",
      "| condenser.VLE_block.Hen0\n",
      "| condenser.VLE_block.gamma\n",
      "| condenser.VLE_block.P_sat\n",
      "| condenser.VLE_block.P_sat_Y\n",
      "| condenser.VLE_block.P_sat_dY_inf\n",
      "| condenser.VLE_block.P_sat_dY0\n",
      "| condenser.VLE_block.Hen_ref\n",
      "| condenser.VLE_block.Hen0_ref\n",
      "| condenser.VLE_block.gamma_ref\n",
      "--------------------------------------------------\n",
      "\n"
     ]
    }
   ],
   "source": [
    "model.condenser = pe.Block(rule=condenser_stage_rule)"
   ]
  },
  {
   "cell_type": "markdown",
   "metadata": {},
   "source": [
    "# Linking Stage Variables"
   ]
  },
  {
   "cell_type": "markdown",
   "metadata": {},
   "source": [
    "### Vapor Between Reactive Stages"
   ]
  },
  {
   "cell_type": "code",
   "execution_count": 6,
   "metadata": {},
   "outputs": [],
   "source": [
    "def V_between_rule(model,j):\n",
    "    if j == model.TRAY.last(): return pe.Constraint.Skip\n",
    "    return model.reactive[j].V['in'] == model.reactive[j+1].V['out']\n",
    "model.V_between_con = pe.Constraint(model.TRAY,rule=V_between_rule)\n",
    "\n",
    "def Vy_between_rule(model,j,i):\n",
    "    if j == model.TRAY.last(): return pe.Constraint.Skip\n",
    "    return model.reactive[j].y_['in',i] == model.reactive[j+1].y[i]\n",
    "model.Vy_between_con = pe.Constraint(model.TRAY,m.COMP_TOTAL,rule=Vy_between_rule)\n",
    "\n",
    "def Vh_between_rule(model,j):\n",
    "    if j == model.TRAY.last(): return pe.Constraint.Skip\n",
    "    return model.reactive[j].H_V_['in'] == model.reactive[j+1].H_V\n",
    "model.Vh_between_con = pe.Constraint(model.TRAY,rule=Vh_between_rule)"
   ]
  },
  {
   "cell_type": "markdown",
   "metadata": {},
   "source": [
    "### Liquid Between Reactive Stages"
   ]
  },
  {
   "cell_type": "code",
   "execution_count": 7,
   "metadata": {},
   "outputs": [],
   "source": [
    "def L_between_rule(model,j):\n",
    "    if j == model.TRAY.last(): return pe.Constraint.Skip\n",
    "    return model.reactive[j+1].L['in'] == model.reactive[j].L['out']\n",
    "model.L_between_con = pe.Constraint(model.TRAY,rule=L_between_rule)\n",
    "\n",
    "def Lx_between_rule(model,j,i):\n",
    "    if j == model.TRAY.last(): return pe.Constraint.Skip\n",
    "    return model.reactive[j+1].x_['in',i] == model.reactive[j].x[i]\n",
    "model.Ly_between_con = pe.Constraint(model.TRAY,m.COMP_TOTAL,rule=Lx_between_rule)\n",
    "\n",
    "def Lh_between_rule(model,j):\n",
    "    if j == model.TRAY.last(): return pe.Constraint.Skip\n",
    "    return model.reactive[j+1].H_L_['in'] == model.reactive[j].H_L\n",
    "model.Lh_between_con = pe.Constraint(model.TRAY,rule=Lh_between_rule)"
   ]
  },
  {
   "cell_type": "markdown",
   "metadata": {},
   "source": [
    "### Condenser"
   ]
  },
  {
   "cell_type": "code",
   "execution_count": 8,
   "metadata": {},
   "outputs": [],
   "source": [
    "def V_condenser_rule(model):\n",
    "    return model.reactive[model.TRAY.first()].V['out'] == model.condenser.V['in']\n",
    "model.V_condenser_con = pe.Constraint(rule=V_condenser_rule)\n",
    "\n",
    "def Vy_condenser_rule(model,i):\n",
    "    return model.reactive[model.TRAY.first()].y[i] == model.condenser.y_['in',i]\n",
    "model.Vy_condenser_con = pe.Constraint(m.COMP_TOTAL,rule=Vy_condenser_rule)\n",
    "\n",
    "def Vh_condenser_rule(model):\n",
    "    return model.reactive[model.TRAY.first()].H_V == model.condenser.H_V_['in']\n",
    "model.Vh_condenser_con = pe.Constraint(rule=Vh_condenser_rule)"
   ]
  },
  {
   "cell_type": "code",
   "execution_count": 9,
   "metadata": {},
   "outputs": [],
   "source": [
    "def L_condenser_rule(model):\n",
    "    return model.reactive[model.TRAY.first()].L['in'] == model.condenser.L['out']\n",
    "model.L_condenser_con = pe.Constraint(rule=L_condenser_rule)\n",
    "\n",
    "def Lx_condenser_rule(model,i):\n",
    "    return model.reactive[model.TRAY.first()].x_['in',i] == model.condenser.x[i]\n",
    "model.Lx_condenser_con = pe.Constraint(m.COMP_TOTAL,rule=Lx_condenser_rule)\n",
    "\n",
    "def Lh_condenser_rule(model):\n",
    "    return model.reactive[model.TRAY.first()].H_L_['in'] == model.condenser.H_L\n",
    "model.Lh_condenser_con = pe.Constraint(rule=Lh_condenser_rule)"
   ]
  },
  {
   "cell_type": "markdown",
   "metadata": {},
   "source": [
    "# Fixing Redundent Stream Variables"
   ]
  },
  {
   "cell_type": "code",
   "execution_count": 10,
   "metadata": {},
   "outputs": [],
   "source": [
    "# condenser\n",
    "model.condenser.VLE_block.n_ave.fix(58)\n",
    "\n",
    "model.condenser.F.fix(0)\n",
    "model.condenser.T_F.fix(300+273.15)\n",
    "model.condenser.z.fix(0)\n",
    "\n",
    "model.condenser.V['P'].fix(0)\n",
    "model.condenser.L['in'].fix(0)\n",
    "for i in m.COMP_TOTAL: model.condenser.x_['in',i].fix(0)\n",
    "model.condenser.H_L_['in'].fix(0)"
   ]
  },
  {
   "cell_type": "code",
   "execution_count": 11,
   "metadata": {},
   "outputs": [],
   "source": [
    "# 'reboiler' fixing last stage V_in\n",
    "\n",
    "model.reactive[model.TRAY.last()].V['in'].fix(0)\n",
    "for i in m.COMP_TOTAL: model.reactive[model.TRAY.last()].y_['in',i].fix(0)\n",
    "model.reactive[model.TRAY.last()].H_V_['in'].fix(0)"
   ]
  },
  {
   "cell_type": "code",
   "execution_count": 12,
   "metadata": {},
   "outputs": [
    {
     "name": "stdout",
     "output_type": "stream",
     "text": [
      "Active Equality Constraints:\t 1980\n",
      "Active Inequality Constraints:\t 0\n",
      "Active Variables:\t\t 2163\n",
      "Fixed Variables:\t\t 169\n",
      "DOF:\t\t\t\t 14\n"
     ]
    }
   ],
   "source": [
    "check_DOF(pe,model)"
   ]
  },
  {
   "cell_type": "markdown",
   "metadata": {},
   "source": [
    "# Load Operating Parameters"
   ]
  },
  {
   "cell_type": "code",
   "execution_count": 13,
   "metadata": {},
   "outputs": [],
   "source": [
    "# condenser\n",
    "model.condenser.P.fix(19)\n",
    "#model.condenser.T.fix(30+273.15)\n",
    "model.condenser.T.setub(30+273.15)\n",
    "model.condenser.L['out'].setub(6)\n",
    "\n",
    "# reactive stage\n",
    "for j in model.reactive:\n",
    "    model.reactive[j].cat.fix(2000)\n",
    "    model.reactive[j].P.fix(20)\n",
    "    model.reactive[j].VLE_block.n_ave.fix(58)\n",
    "    \n",
    "    model.reactive[j].F.fix(2)\n",
    "    model.reactive[j].T_F.fix(200+273.15)\n",
    "    model.reactive[j].z['CO'].fix(0.4)\n",
    "    model.reactive[j].z['H2'].fix(0.6)\n",
    "    model.reactive[j].z['C30H62'].fix(0)\n",
    "    model.reactive[j].V['P'].fix(0)\n",
    "    model.reactive[j].L['P'].fix(0)\n",
    "    model.reactive[j].Q_main.fix(0)\n",
    "    # model.reactive[j].T.setlb(270+273.15)"
   ]
  },
  {
   "cell_type": "code",
   "execution_count": 14,
   "metadata": {
    "scrolled": true
   },
   "outputs": [
    {
     "name": "stdout",
     "output_type": "stream",
     "text": [
      "Active Equality Constraints:\t 1980\n",
      "Active Inequality Constraints:\t 0\n",
      "Active Variables:\t\t 2163\n",
      "Fixed Variables:\t\t 181\n",
      "DOF:\t\t\t\t 2\n"
     ]
    }
   ],
   "source": [
    "check_DOF(pe,model)"
   ]
  },
  {
   "cell_type": "code",
   "execution_count": 15,
   "metadata": {},
   "outputs": [],
   "source": [
    "model.obj = pe.Objective(expr = 1 ,sense=pe.maximize)"
   ]
  },
  {
   "cell_type": "code",
   "execution_count": 16,
   "metadata": {},
   "outputs": [],
   "source": [
    "opt = pe.SolverFactory('ipopt')\n",
    "opt.options['print_user_options'] = 'yes'\n",
    "opt.options['linear_solver'] = 'ma86'\n",
    "# opt.options['nlp_scaling_method'] = None\n",
    "# opt.options['constr_viol_tol'] = 1e-7\n",
    "# opt.options['acceptable_constr_viol_tol'] = 1e-7\n",
    "opt.options['max_iter'] = 7000\n",
    "# opt.options['dual_inf_tol'] = '+inf'\n",
    "# opt.options['acceptable_dual_inf_tol'] = '+inf'"
   ]
  },
  {
   "cell_type": "code",
   "execution_count": 17,
   "metadata": {},
   "outputs": [
    {
     "name": "stdout",
     "output_type": "stream",
     "text": [
      "Created the follow pyomo suffixes:\n",
      "ipopt_zL_out, ipopt_zU_out, ipopt_zL_in, ipopt_zU_in, dual\n"
     ]
    }
   ],
   "source": [
    "add_dual(pe,model)"
   ]
  },
  {
   "cell_type": "code",
   "execution_count": 18,
   "metadata": {},
   "outputs": [],
   "source": [
    "# with open('../saved_solutions/1_stage_condenser.pickle', 'rb') as f:\n",
    "#         results = pickle.load(f)"
   ]
  },
  {
   "cell_type": "code",
   "execution_count": 19,
   "metadata": {},
   "outputs": [],
   "source": [
    "# opt.options['warm_start_init_point'] = 'yes'\n",
    "# opt.options['warm_start_bound_push'] = 1e-20\n",
    "# opt.options['warm_start_mult_bound_push'] = 1e-20\n",
    "# opt.options['mu_init'] = 1e-6"
   ]
  },
  {
   "cell_type": "code",
   "execution_count": 20,
   "metadata": {},
   "outputs": [],
   "source": [
    "# model.solutions.load_from(results)"
   ]
  },
  {
   "cell_type": "code",
   "execution_count": 21,
   "metadata": {},
   "outputs": [],
   "source": [
    "# model.ipopt_zL_in.update(model.ipopt_zL_out)\n",
    "# model.ipopt_zU_in.update(model.ipopt_zU_out)"
   ]
  },
  {
   "cell_type": "code",
   "execution_count": 22,
   "metadata": {
    "scrolled": true
   },
   "outputs": [
    {
     "name": "stdout",
     "output_type": "stream",
     "text": [
      "Ipopt 3.12.8: print_user_options=yes\n",
      "linear_solver=ma86\n",
      "max_iter=7000\n",
      "\n",
      "\n",
      "List of user-set options:\n",
      "\n",
      "                                    Name   Value                used\n",
      "                           linear_solver = ma86                  yes\n",
      "                                max_iter = 7000                  yes\n",
      "                      print_user_options = yes                   yes\n",
      "\n",
      "******************************************************************************\n",
      "This program contains Ipopt, a library for large-scale nonlinear optimization.\n",
      " Ipopt is released as open source code under the Eclipse Public License (EPL).\n",
      "         For more information visit http://projects.coin-or.org/Ipopt\n",
      "******************************************************************************\n",
      "\n",
      "This is Ipopt version 3.12.8, running with linear solver ma86.\n",
      "\n",
      "Number of nonzeros in equality constraint Jacobian...:     6625\n",
      "Number of nonzeros in inequality constraint Jacobian.:        0\n",
      "Number of nonzeros in Lagrangian Hessian.............:     8019\n",
      "\n",
      "Total number of variables............................:     1982\n",
      "                     variables with only lower bounds:      387\n",
      "                variables with lower and upper bounds:     1416\n",
      "                     variables with only upper bounds:        0\n",
      "Total number of equality constraints.................:     1980\n",
      "Total number of inequality constraints...............:        0\n",
      "        inequality constraints with only lower bounds:        0\n",
      "   inequality constraints with lower and upper bounds:        0\n",
      "        inequality constraints with only upper bounds:        0\n",
      "\n",
      "iter    objective    inf_pr   inf_du lg(mu)  ||d||  lg(rg) alpha_du alpha_pr  ls\n",
      "   0 -1.0000000e+00 5.14e+02 1.00e+00  -1.0 0.00e+00    -  0.00e+00 0.00e+00   0\n",
      "   1 -1.0000000e+00 5.14e+02 1.27e+02  -1.0 6.26e+03    -  2.40e-04 8.79e-07h  4\n",
      "   2r-1.0000000e+00 5.14e+02 9.99e+02   2.7 0.00e+00    -  0.00e+00 2.98e-07R  2\n",
      "   3r-1.0000000e+00 5.14e+02 9.99e+02   2.7 1.23e+04    -  2.84e-04 8.56e-08f  3\n",
      "   4r-1.0000000e+00 5.14e+02 9.98e+02  -1.5 1.27e+04    -  2.22e-04 1.18e-03f  1\n",
      "   5r-1.0000000e+00 5.13e+02 9.98e+02  -1.5 1.34e+04    -  1.56e-03 1.08e-04f  1\n",
      "   6r-1.0000000e+00 5.05e+02 9.96e+02  -1.5 1.08e+04    -  4.03e-03 1.56e-03f  1\n",
      "   7r-1.0000000e+00 4.82e+02 9.92e+02  -1.5 5.95e+03    -  1.72e-03 4.29e-03f  1\n",
      "   8r-1.0000000e+00 4.76e+02 9.89e+02  -1.5 9.04e+02   0.0 1.14e-03 1.17e-02f  1\n",
      "   9r-1.0000000e+00 4.75e+02 1.00e+03  -1.5 6.72e+01   1.3 4.01e-02 3.23e-02f  1\n",
      "iter    objective    inf_pr   inf_du lg(mu)  ||d||  lg(rg) alpha_du alpha_pr  ls\n",
      "  10r-1.0000000e+00 4.75e+02 1.03e+03  -1.5 2.59e+01   1.8 4.81e-02 5.18e-02f  1\n",
      "  11r-1.0000000e+00 4.74e+02 1.03e+03  -1.5 7.08e+01   1.3 1.26e-02 1.97e-02f  1\n",
      "  12r-1.0000000e+00 4.74e+02 1.04e+03  -1.5 3.36e+01   1.7 4.78e-02 1.99e-02f  1\n",
      "  13r-1.0000000e+00 4.74e+02 1.06e+03  -1.5 9.80e+01   1.2 1.73e-02 2.42e-02f  1\n",
      "  14r-1.0000000e+00 4.73e+02 1.06e+03  -1.5 3.21e+01   1.7 6.14e-02 8.51e-03f  1\n",
      "  15r-1.0000000e+00 4.73e+02 1.07e+03  -1.5 8.87e+01   1.2 4.52e-02 2.69e-02f  1\n",
      "  16r-1.0000000e+00 4.73e+02 1.07e+03  -1.5 3.64e+01   1.6 4.38e-02 5.21e-03f  1\n",
      "  17r-1.0000000e+00 4.72e+02 1.06e+03  -1.5 1.24e+02   1.1 4.76e-02 7.86e-03f  1\n",
      "  18r-1.0000000e+00 4.72e+02 1.08e+03  -1.5 4.24e+01   1.6 2.20e-02 3.66e-02f  1\n",
      "  19r-1.0000000e+00 4.72e+02 1.09e+03  -1.5 1.53e+01   2.0 1.40e-02 1.38e-02f  1\n",
      "iter    objective    inf_pr   inf_du lg(mu)  ||d||  lg(rg) alpha_du alpha_pr  ls\n",
      "  20r-1.0000000e+00 4.71e+02 1.13e+03  -1.5 5.81e+00   2.4 6.13e-02 1.20e-01f  1\n",
      "  21r-1.0000000e+00 4.71e+02 1.14e+03  -1.5 1.71e+01   1.9 1.01e-01 2.46e-02f  1\n",
      "  22r-1.0000000e+00 4.71e+02 1.14e+03  -1.5 4.79e+01   1.4 9.01e-02 2.74e-02f  1\n",
      "  23r-1.0000000e+00 4.70e+02 1.13e+03  -1.5 1.20e+02   1.0 5.31e-02 1.13e-02f  1\n",
      "  24r-1.0000000e+00 4.69e+02 1.67e+03  -1.5 5.00e+01   1.4 1.91e-01 3.78e-02f  1\n",
      "  25r-1.0000000e+00 4.68e+02 1.71e+03  -1.5 1.00e+02   0.9 4.71e-02 2.04e-02f  1\n",
      "  26r-1.0000000e+00 4.68e+02 2.49e+03  -1.5 4.50e+01   1.3 2.59e-01 2.87e-02f  1\n",
      "  27r-1.0000000e+00 4.67e+02 2.43e+03  -1.5 6.63e+01   0.9 2.77e-02 4.59e-03f  1\n",
      "  28r-1.0000000e+00 4.64e+02 2.18e+03  -1.5 3.26e+01   1.3 1.51e-01 1.18e-01f  1\n",
      "  29r-1.0000000e+00 4.64e+02 2.81e+03  -1.5 1.31e+01   1.7 3.51e-01 7.56e-02f  1\n",
      "iter    objective    inf_pr   inf_du lg(mu)  ||d||  lg(rg) alpha_du alpha_pr  ls\n",
      "  30r-1.0000000e+00 4.60e+02 2.48e+03  -1.5 2.82e+01   1.2 1.18e-01 1.16e-01f  1\n",
      "  31 -1.0000000e+00 4.60e+02 9.55e+02  -1.0 1.45e+04    -  5.32e-04 6.15e-05h  1\n",
      "  32r-1.0000000e+00 4.60e+02 9.99e+02   2.7 0.00e+00    -  0.00e+00 4.40e-07R  4\n",
      "  33r-1.0000000e+00 4.60e+02 9.99e+02   2.7 8.67e+03    -  2.08e-05 2.39e-07f  1\n",
      "  34r-1.0000000e+00 4.38e+02 9.90e+02  -0.1 2.48e+03    -  1.02e-03 8.87e-03f  1\n",
      "  35r-1.0000000e+00 3.42e+02 9.88e+02  -0.1 5.46e+04    -  1.42e-03 1.77e-03f  1\n",
      "  36 -1.0000000e+00 3.42e+02 6.94e+01  -1.0 1.35e+04    -  1.32e-04 1.18e-04h  1\n",
      "  37 -1.0000000e+00 3.42e+02 1.31e+04  -1.0 1.49e+04    -  2.51e-03 1.53e-05h  1\n",
      "  38r-1.0000000e+00 3.42e+02 9.99e+02   2.5 0.00e+00    -  0.00e+00 2.52e-07R  6\n",
      "  39r-1.0000000e+00 3.42e+02 3.85e+03   2.5 9.07e+03    -  6.35e-04 1.53e-07f  1\n",
      "iter    objective    inf_pr   inf_du lg(mu)  ||d||  lg(rg) alpha_du alpha_pr  ls\n",
      "  40r-1.0000000e+00 1.66e+02 4.07e+03  -1.0 9.07e+03    -  5.55e-02 1.94e-02f  1\n",
      "  41r-1.0000000e+00 1.66e+02 9.99e+02   2.2 0.00e+00    -  0.00e+00 2.92e-07R  6\n",
      "  42r-1.0000000e+00 1.66e+02 9.99e+02   2.2 2.32e+04    -  5.94e-05 1.37e-10f  1\n",
      "  43r-1.0000000e+00 4.51e+01 9.92e+02  -0.6 2.32e+04    -  1.75e-02 5.20e-03f  1\n",
      "  44 -1.0000000e+00 4.51e+01 1.04e+03  -1.0 9.66e+03    -  5.14e-05 3.11e-05h  1\n",
      "  45r-1.0000000e+00 4.51e+01 9.99e+02   1.7 0.00e+00    -  0.00e+00 1.73e-07R  2\n",
      "  46r-1.0000000e+00 4.51e+01 1.26e+03   1.7 2.74e+04    -  8.97e-04 5.14e-07f  1\n",
      "  47r-1.0000000e+00 2.37e+01 1.59e+03  -0.4 2.06e+04    -  1.52e-02 2.17e-03f  1\n",
      "  48 -1.0000000e+00 2.37e+01 2.56e+04  -1.0 9.54e+03    -  1.73e-04 3.26e-05h  1\n",
      "  49r-1.0000000e+00 2.37e+01 9.99e+02   1.4 0.00e+00    -  0.00e+00 1.99e-07R  2\n",
      "iter    objective    inf_pr   inf_du lg(mu)  ||d||  lg(rg) alpha_du alpha_pr  ls\n",
      "  50r-1.0000000e+00 2.37e+01 1.51e+03   1.4 7.06e+03    -  2.11e-03 9.08e-07f  1\n",
      "  51r-1.0000000e+00 1.95e+01 2.91e+03  -0.7 6.20e+03    -  2.86e-02 3.79e-03f  1\n",
      "  52 -1.0000000e+00 1.95e+01 5.20e+04  -1.0 9.17e+03    -  2.03e-04 1.25e-05h  1\n",
      "  53r-1.0000000e+00 1.95e+01 9.99e+02   0.5 0.00e+00    -  0.00e+00 1.39e-07R  2\n",
      "  54r-1.0000000e+00 1.95e+01 1.07e+03   0.5 2.95e+03    -  1.04e-02 7.14e-06f  1\n",
      "  55r-1.0000000e+00 1.33e+01 1.06e+03  -0.9 2.59e+02    -  5.70e-03 5.83e-03f  1\n",
      "  56r-1.0000000e+00 1.33e+01 9.99e+02   0.1 0.00e+00    -  0.00e+00 4.71e-07R  5\n",
      "  57r-1.0000000e+00 1.33e+01 9.99e+02   0.1 1.21e+03    -  2.07e-03 8.64e-09f  2\n",
      "  58r-1.0000000e+00 8.79e+00 9.96e+02   0.1 3.97e+02    -  3.14e-03 3.04e-03f  1\n",
      "  59 -1.0000000e+00 8.79e+00 2.54e+02  -1.0 5.77e+03    -  7.18e-04 1.57e-04h  1\n",
      "iter    objective    inf_pr   inf_du lg(mu)  ||d||  lg(rg) alpha_du alpha_pr  ls\n",
      "  60r-1.0000000e+00 8.79e+00 9.99e+02  -0.1 0.00e+00    -  0.00e+00 4.70e-07R  3\n",
      "  61r-1.0000000e+00 8.32e+00 9.99e+02  -0.1 3.55e+02    -  4.37e-03 2.44e-04f  1\n",
      "  62r-1.0000000e+00 1.55e+00 9.94e+02  -0.1 4.20e+02    -  6.40e-03 4.98e-03f  1\n",
      "  63r-1.0000000e+00 2.03e+00 9.89e+02  -0.1 4.25e+02    -  3.06e-03 4.43e-03f  1\n",
      "  64r-1.0000000e+00 5.46e+00 9.84e+02  -0.1 4.08e+02    -  5.90e-03 1.09e-02f  1\n",
      "  65r-1.0000000e+00 5.06e+00 1.09e+03  -0.1 2.15e-01   4.0 1.28e-01 7.25e-02f  1\n",
      "  66r-1.0000000e+00 4.82e+00 1.29e+03  -0.8 2.56e-01   3.5 8.26e-02 4.66e-02f  1\n",
      "  67r-1.0000000e+00 4.48e+00 1.14e+03  -0.8 3.26e-01   3.0 6.25e-02 6.97e-02f  1\n",
      "  68r-1.0000000e+00 4.22e+00 1.09e+03  -0.8 7.65e-01   2.6 6.19e-02 5.88e-02f  1\n",
      "  69r-1.0000000e+00 3.99e+00 1.02e+03  -0.8 2.06e+00   2.1 5.06e-02 5.46e-02f  1\n",
      "iter    objective    inf_pr   inf_du lg(mu)  ||d||  lg(rg) alpha_du alpha_pr  ls\n",
      "  70r-1.0000000e+00 3.69e+00 9.52e+02  -0.8 4.18e+00   1.6 7.72e-02 7.42e-02f  1\n",
      "  71r-1.0000000e+00 3.37e+00 8.67e+02  -0.8 6.30e+00   1.1 8.79e-02 8.57e-02f  1\n",
      "  72r-1.0000000e+00 3.05e+00 7.48e+02  -0.8 2.28e+00   1.6 1.26e-01 9.65e-02f  1\n",
      "  73r-1.0000000e+00 2.52e+00 1.06e+03  -0.8 1.05e+00   2.0 3.07e-01 1.73e-01f  1\n",
      "  74r-1.0000000e+00 2.30e+00 1.57e+03  -0.8 2.25e+00   1.5 3.03e-01 8.91e-02f  1\n",
      "  75r-1.0000000e+00 2.14e+00 1.35e+03  -0.8 3.91e+00   1.0 5.03e-02 6.54e-02f  1\n",
      "  76r-1.0000000e+00 2.00e+00 1.70e+03  -0.8 7.28e+00   0.6 1.26e-01 6.57e-02f  1\n",
      "  77r-1.0000000e+00 1.79e+00 3.12e+03  -0.8 2.97e+00   1.0 3.22e-01 1.07e-01f  1\n",
      "  78r-1.0000000e+00 1.72e+00 3.29e+03  -0.8 8.74e+00   0.5 1.39e-01 5.97e-02f  1\n",
      "  79r-1.0000000e+00 1.38e+00 3.31e+04  -0.8 3.14e+00   0.9 1.90e-01 2.14e-01f  1\n",
      "iter    objective    inf_pr   inf_du lg(mu)  ||d||  lg(rg) alpha_du alpha_pr  ls\n",
      "  80r-1.0000000e+00 1.36e+00 3.97e+04  -0.8 1.18e+01   0.5 2.40e-01 2.53e-02f  1\n",
      "  81r-1.0000000e+00 1.19e+00 3.50e+04  -0.8 3.38e+00   0.9 9.71e-02 1.23e-01f  1\n",
      "  82r-1.0000000e+00 1.09e+00 3.27e+04  -0.8 8.94e+00   0.4 4.47e-02 8.99e-02f  1\n",
      "  83r-1.0000000e+00 1.08e+00 3.22e+04  -0.8 1.06e+01  -0.1 3.17e-02 8.88e-03f  1\n",
      "  84r-1.0000000e+00 8.57e-01 2.58e+04  -0.8 3.94e+00   0.4 1.44e-01 2.58e-01f  1\n",
      "  85r-1.0000000e+00 8.41e-01 2.44e+04  -0.8 1.26e+01  -0.1 6.03e-02 2.48e-02f  1\n",
      "  86r-1.0000000e+00 7.90e-01 1.55e+04  -0.8 3.28e+00   0.3 4.38e-01 6.27e-02f  1\n",
      "  87r-1.0000000e+00 6.90e-01 2.02e+04  -0.8 1.01e+01  -0.2 9.52e-01 1.28e-01f  1\n",
      "  88r-1.0000000e+00 7.01e-01 1.21e+04  -0.8 2.66e+01  -0.7 3.69e-01 6.72e-02f  1\n",
      "  89r-1.0000000e+00 1.93e+00 1.10e+04  -0.8 6.38e+01  -1.1 9.53e-02 5.88e-02f  1\n",
      "iter    objective    inf_pr   inf_du lg(mu)  ||d||  lg(rg) alpha_du alpha_pr  ls\n",
      "  90r-1.0000000e+00 1.99e+00 1.08e+04  -0.8 1.81e+01  -0.7 3.76e-01 1.15e-01f  1\n",
      "  91r-1.0000000e+00 3.45e+00 9.84e+03  -0.8 2.91e+02  -1.2 2.63e-03 1.70e-02f  1\n",
      "  92r-1.0000000e+00 3.25e+00 9.40e+03  -0.8 9.34e-01   1.1 1.87e-01 5.93e-02f  1\n",
      "  93r-1.0000000e+00 3.08e+00 9.12e+03  -0.8 2.45e+00   0.6 4.05e-01 5.14e-02f  1\n",
      "  94r-1.0000000e+00 2.20e+00 5.22e+03  -0.8 5.38e+00   0.1 1.00e+00 3.08e-01f  1\n",
      "  95r-1.0000000e+00 2.01e+00 4.18e+03  -0.8 1.22e+01  -0.4 3.94e-01 2.52e-01f  1\n",
      "  96r-1.0000000e+00 2.95e+00 2.79e+03  -0.8 3.11e+01  -0.9 7.32e-02 1.94e-01f  1\n",
      "  97r-1.0000000e+00 2.92e+00 2.68e+03  -0.8 3.37e+01  -1.3 1.80e-01 8.31e-02f  1\n",
      "  98r-1.0000000e+00 3.35e+00 2.51e+03  -0.8 9.68e+02    -  2.58e-02 2.43e-02f  1\n",
      "  99r-1.0000000e+00 3.19e+00 1.08e+03  -0.8 1.15e+03  -1.8 1.78e-03 2.73e-03f  1\n",
      "iter    objective    inf_pr   inf_du lg(mu)  ||d||  lg(rg) alpha_du alpha_pr  ls\n",
      " 100r-1.0000000e+00 2.98e+00 1.18e+03  -0.8 1.61e+00   0.4 1.05e-01 6.47e-02f  1\n",
      " 101r-1.0000000e+00 2.59e+00 1.79e+03  -0.8 6.76e+00  -0.1 4.24e-01 1.34e-01f  1\n",
      " 102r-1.0000000e+00 2.48e+00 1.76e+03  -0.8 1.66e+01  -0.5 1.40e-01 5.46e-01f  1\n",
      " 103r-1.0000000e+00 2.24e+00 1.28e+03  -0.8 2.12e+00   0.8 1.99e-01 8.96e-02f  1\n",
      " 104r-1.0000000e+00 1.61e+00 1.27e+03  -0.8 1.10e+00   1.2 1.09e-01 2.72e-01f  1\n",
      " 105r-1.0000000e+00 9.39e-01 7.66e+02  -0.8 3.81e-01   1.6 3.40e-01 4.16e-01f  1\n",
      " 106r-1.0000000e+00 5.25e-01 3.39e+02  -1.5 4.78e-02   3.0 4.78e-01 4.41e-01f  1\n",
      " 107 -1.0000000e+00 4.65e+00 1.41e+05  -1.0 3.85e+02    -  6.28e-04 2.17e-01f  1\n",
      " 108 -1.0000000e+00 3.98e+00 2.12e+05  -1.0 1.53e+02    -  3.26e-02 1.26e-01h  1\n",
      " 109 -1.0000000e+00 2.77e+00 2.89e+05  -1.0 8.43e+01    -  7.37e-02 2.80e-01H  1\n",
      "iter    objective    inf_pr   inf_du lg(mu)  ||d||  lg(rg) alpha_du alpha_pr  ls\n",
      " 110 -1.0000000e+00 2.76e+00 1.10e+05  -1.0 4.40e+01  -0.9 2.03e-01 3.44e-03h  1\n"
     ]
    },
    {
     "name": "stdout",
     "output_type": "stream",
     "text": [
      " 111 -1.0000000e+00 2.74e+00 1.42e+05  -1.0 3.50e+02    -  3.22e-04 4.40e-03f  1\n",
      " 112 -1.0000000e+00 2.74e+00 3.82e+05  -1.0 4.37e+01    -  1.42e-01 5.98e-04h  1\n",
      " 113 -1.0000000e+00 2.66e+00 2.12e+05  -1.0 7.10e+01    -  3.40e-04 2.68e-02h  1\n",
      " 114 -1.0000000e+00 2.66e+00 9.57e+05  -1.0 8.23e+01    -  1.16e-01 1.61e-03h  1\n",
      " 115 -1.0000000e+00 2.57e+00 8.89e+05  -1.0 8.75e+01    -  2.82e-02 3.30e-02h  3\n",
      " 116 -1.0000000e+00 2.48e+00 2.29e+06  -1.0 8.87e+01    -  2.31e-01 3.45e-02h  3\n",
      " 117 -1.0000000e+00 2.40e+00 2.79e+06  -1.0 9.00e+01    -  1.07e-01 3.25e-02h  3\n",
      " 118 -1.0000000e+00 2.33e+00 6.43e+06  -1.0 9.10e+01    -  4.02e-01 2.87e-02h  3\n",
      " 119 -1.0000000e+00 2.23e+00 8.01e+06  -1.0 9.18e+01    -  1.79e-01 4.48e-02h  2\n",
      "iter    objective    inf_pr   inf_du lg(mu)  ||d||  lg(rg) alpha_du alpha_pr  ls\n",
      " 120 -1.0000000e+00 2.13e+00 1.69e+07  -1.0 9.28e+01    -  5.70e-01 4.54e-02h  1\n",
      " 121 -1.0000000e+00 2.12e+00 6.99e+07  -1.0 8.91e+01    -  2.87e-01 4.79e-04h  1\n",
      " 122 -1.0000000e+00 2.12e+00 3.81e+12  -1.0 3.11e+01    -  8.60e-01 1.55e-05h  1\n",
      " 123 -1.0000000e+00 2.09e+00 5.50e+17  -1.0 1.73e+02   0.5 2.65e-07 1.60e-02h  1\n",
      "WARNING: Problem in step computation; switching to emergency mode.\n",
      " 124r-1.0000000e+00 2.09e+00 1.00e+03   0.3 0.00e+00  18.3 0.00e+00 0.00e+00R  1\n",
      " 125r-1.0000000e+00 2.05e+00 1.39e+03   0.3 1.31e+03    -  4.17e-03 3.47e-05f  1\n",
      " 126r-1.0000000e+00 5.05e-01 2.83e+03  -0.4 4.89e+02    -  8.17e-02 4.14e-03f  1\n",
      " 127 -1.0000000e+00 5.01e-01 4.90e+06  -1.0 2.81e+01    -  2.44e-01 7.87e-03h  1\n",
      " 128 -1.0000000e+00 5.07e-01 3.05e+06  -1.0 3.65e+01    -  3.28e-01 1.29e-02h  1\n",
      " 129 -1.0000000e+00 5.07e-01 3.94e+06  -1.0 3.68e+01    -  3.00e-01 2.19e-04h  1\n",
      "iter    objective    inf_pr   inf_du lg(mu)  ||d||  lg(rg) alpha_du alpha_pr  ls\n",
      " 130 -1.0000000e+00 5.05e-01 2.53e+06  -1.0 7.75e+01    -  5.33e-02 2.50e-03h  1\n",
      " 131 -1.0000000e+00 5.05e-01 2.03e+09  -1.0 6.00e+01    -  9.70e-02 3.22e-05h  1\n",
      " 132r-1.0000000e+00 5.05e-01 1.00e+03  -0.3 0.00e+00    -  0.00e+00 2.59e-07R  2\n",
      " 133r-1.0000000e+00 5.03e-01 1.25e+03  -0.3 4.54e+02    -  7.20e-03 6.65e-05f  1\n",
      " 134r-1.0000000e+00 3.84e-01 1.26e+03  -0.3 4.03e+02    -  6.32e-03 5.88e-03f  1\n",
      " 135 -1.0000000e+00 3.84e-01 1.26e+06  -1.0 2.61e+01    -  4.59e-01 2.62e-05h  1\n",
      " 136r-1.0000000e+00 3.84e-01 1.00e+03  -0.4 0.00e+00    -  0.00e+00 2.79e-07R  5\n",
      " 137r-1.0000000e+00 3.83e-01 1.05e+03  -0.4 4.48e+02    -  2.56e-03 2.30e-04f  1\n",
      " 138r-1.0000000e+00 3.67e-01 3.33e+03  -0.4 4.39e+02    -  1.01e-01 4.10e-03f  1\n",
      " 139r-1.0000000e+00 5.89e-01 6.79e+03  -0.4 2.41e+02    -  1.33e-01 3.79e-02f  1\n",
      "iter    objective    inf_pr   inf_du lg(mu)  ||d||  lg(rg) alpha_du alpha_pr  ls\n",
      " 140r-1.0000000e+00 6.10e-01 5.27e+03  -0.4 1.34e+02    -  5.78e-03 3.88e-02f  1\n",
      " 141r-1.0000000e+00 6.27e-01 1.25e+04  -0.4 1.03e+02    -  3.26e-01 7.56e-02f  1\n",
      " 142r-1.0000000e+00 3.35e-01 7.98e+03  -0.4 3.88e+01    -  4.36e-02 3.47e-01f  1\n",
      " 143 -1.0000000e+00 3.34e-01 2.60e+04  -1.0 2.26e+01    -  3.15e-02 2.77e-03h  1\n",
      " 144 -1.0000000e+00 3.28e-01 3.69e+05  -1.0 5.77e+01    -  3.85e-01 1.09e-02h  1\n",
      " 145 -1.0000000e+00 3.28e-01 1.21e+06  -1.0 5.36e+01    -  4.96e-01 1.31e-04h  1\n",
      " 146 -1.0000000e+00 3.28e-01 2.48e+08  -1.0 3.74e+01    -  6.66e-01 5.06e-04h  1\n",
      " 147 -1.0000000e+00 3.28e-01 3.40e+12  -1.0 3.73e+01    -  5.97e-01 4.31e-05h  1\n",
      " 148r-1.0000000e+00 3.28e-01 1.00e+03  -0.5 0.00e+00    -  0.00e+00 2.44e-07R  2\n",
      " 149r-1.0000000e+00 2.51e-01 2.83e+03  -0.5 3.28e+02    -  1.32e-01 6.89e-04f  1\n",
      "iter    objective    inf_pr   inf_du lg(mu)  ||d||  lg(rg) alpha_du alpha_pr  ls\n",
      " 150 -1.0000000e+00 2.51e-01 3.63e+08  -1.0 2.96e+01    -  4.37e-01 2.00e-07f  5\n",
      " 151r-1.0000000e+00 2.51e-01 1.00e+03  -0.6 0.00e+00    -  0.00e+00 2.75e-07R  5\n",
      " 152r-1.0000000e+00 2.51e-01 2.83e+03  -0.6 6.55e+01    -  3.91e-01 9.03e-05f  1\n",
      " 153r-1.0000000e+00 2.35e-01 2.06e+03  -0.6 3.97e+01    -  1.78e-01 1.73e-01f  1\n",
      " 154r-1.0000000e+00 3.20e-01 1.61e+03  -1.3 2.29e+01    -  2.17e-03 1.55e-01f  1\n",
      " 155r-1.0000000e+00 3.19e-01 1.60e+03  -1.3 9.66e+01    -  1.86e-04 1.75e-03f  1\n",
      " 156r-1.0000000e+00 3.19e-01 1.72e+03  -1.3 2.93e+01    -  1.39e-01 1.70e-03f  1\n",
      " 157r-1.0000000e+00 2.35e-01 2.43e+03  -1.3 2.85e+01    -  7.45e-01 2.64e-01f  1\n",
      " 158r-1.0000000e+00 9.10e-01 6.37e+02  -1.3 1.33e+01    -  2.74e-01 5.60e-01f  1\n",
      " 159r-1.0000000e+00 6.98e-01 3.35e+03  -1.3 9.02e+00    -  9.51e-01 3.92e-01f  1\n",
      "iter    objective    inf_pr   inf_du lg(mu)  ||d||  lg(rg) alpha_du alpha_pr  ls\n",
      " 160r-1.0000000e+00 3.73e-01 5.65e+01  -1.3 6.11e+00    -  8.28e-01 9.97e-01f  1\n",
      " 161 -1.0000000e+00 3.69e-01 2.03e+04  -1.0 3.06e+01    -  4.69e-01 1.12e-02h  1\n",
      " 162 -1.0000000e+00 3.62e-01 4.12e+05  -1.0 2.55e+01    -  2.03e-01 2.59e-02h  6\n",
      " 163 -1.0000000e+00 3.55e-01 1.98e+06  -1.0 2.47e+01    -  6.74e-01 2.57e-02h  6\n",
      " 164 -1.0000000e+00 3.47e-01 2.40e+06  -1.0 2.61e+01    -  2.31e-01 2.55e-02h  6\n",
      " 165 -1.0000000e+00 3.40e-01 3.98e+06  -1.0 2.70e+01    -  8.36e-01 2.55e-02h  6\n",
      " 166 -1.0000000e+00 3.33e-01 4.02e+06  -1.0 2.81e+01    -  1.77e-01 2.48e-02h  6\n",
      " 167 -1.0000000e+00 3.26e-01 4.14e+06  -1.0 2.80e+01    -  2.36e-01 2.53e-02h  6\n",
      " 168 -1.0000000e+00 3.19e-01 4.15e+06  -1.0 2.91e+01    -  2.14e-01 2.45e-02h  6\n",
      " 169 -1.0000000e+00 3.12e-01 4.14e+06  -1.0 2.86e+01    -  1.52e-01 2.51e-02h  6\n",
      "iter    objective    inf_pr   inf_du lg(mu)  ||d||  lg(rg) alpha_du alpha_pr  ls\n",
      " 170 -1.0000000e+00 3.05e-01 4.15e+06  -1.0 2.95e+01    -  3.95e-01 2.44e-02h  6\n",
      " 171 -1.0000000e+00 2.98e-01 4.10e+06  -1.0 2.87e+01    -  1.41e-01 2.50e-02h  6\n",
      " 172 -1.0000000e+00 2.42e+00 9.37e+05  -1.0 2.97e+01    -  4.07e-01 7.74e-01w  1\n",
      " 173 -1.0000000e+00 4.76e-01 3.52e+05  -1.0 1.44e+01    -  6.58e-01 6.97e-01w  1\n",
      " 174 -1.0000000e+00 2.98e-01 5.72e+05  -1.0 3.78e+00    -  6.18e-01 9.90e-01w  1\n",
      " 175 -1.0000000e+00 2.91e-01 3.99e+06  -1.0 4.75e-10  19.4 4.07e-01 2.42e-02h  5\n",
      " 176 -1.0000000e+00 2.84e-01 3.92e+06  -1.0 2.90e+01    -  1.32e-01 2.46e-02h  6\n",
      " 177 -1.0000000e+00 2.77e-01 3.63e+06  -1.0 2.96e+01    -  8.36e-01 2.41e-02h  6\n",
      " 178 -1.0000000e+00 2.71e-01 3.57e+06  -1.0 2.84e+01    -  1.65e-01 2.46e-02h  6\n",
      " 179 -1.0000000e+00 2.64e-01 3.29e+06  -1.0 2.90e+01    -  7.97e-01 2.40e-02h  6\n",
      "iter    objective    inf_pr   inf_du lg(mu)  ||d||  lg(rg) alpha_du alpha_pr  ls\n",
      " 180 -1.0000000e+00 2.58e-01 3.24e+06  -1.0 2.79e+01    -  2.18e-01 2.47e-02h  6\n",
      " 181 -1.0000000e+00 2.51e-01 3.13e+06  -1.0 2.79e+01    -  1.00e+00 2.46e-02h  6\n",
      " 182 -1.0000000e+00 2.45e-01 3.12e+06  -1.0 2.69e+01    -  3.10e-01 2.52e-02h  6\n",
      " 183 -1.0000000e+00 2.39e-01 3.10e+06  -1.0 2.67e+01    -  1.00e+00 2.52e-02h  6\n",
      " 184 -1.0000000e+00 2.27e-01 3.02e+06  -1.0 2.58e+01    -  4.46e-01 5.14e-02h  5\n",
      " 185 -1.0000000e+00 7.27e-01 5.29e+05  -1.0 2.51e+01    -  1.00e+00 8.27e-01w  1\n",
      " 186 -1.0000000e+00 4.64e-01 1.13e+05  -1.0 1.13e+01    -  6.92e-01 6.53e-01w  1\n",
      " 187 -1.0000000e+00 1.84e-01 1.05e+06  -1.0 7.37e+00    -  2.89e-01 9.70e-01w  1\n",
      " 188 -1.0000000e+00 2.16e-01 2.89e+06  -1.0 3.47e-08  18.4 1.00e+00 5.17e-02h  4\n",
      " 189 -1.0000000e+00 3.44e-01 1.54e+05  -1.0 2.39e+01    -  5.55e-01 9.84e-01H  1\n",
      "iter    objective    inf_pr   inf_du lg(mu)  ||d||  lg(rg) alpha_du alpha_pr  ls\n",
      " 190 -1.0000000e+00 4.11e-02 2.49e+05  -1.0 7.77e+00    -  1.00e+00 8.81e-01H  1\n",
      " 191 -1.0000000e+00 4.34e-03 3.20e+04  -1.0 2.38e+00    -  1.00e+00 1.00e+00H  1\n",
      " 192 -1.0000000e+00 4.54e-04 8.17e+05  -1.0 1.50e+00    -  1.00e+00 1.00e+00H  1\n",
      " 193 -1.0000000e+00 1.23e-02 1.79e+04  -1.0 1.30e+00    -  1.00e+00 1.00e+00f  1\n",
      " 194 -1.0000000e+00 5.12e-06 1.60e+04  -1.7 2.67e-02    -  1.00e+00 1.00e+00h  1\n",
      " 195 -1.0000000e+00 3.03e-04 8.41e+01  -1.7 2.24e-01    -  1.00e+00 1.00e+00h  1\n",
      " 196 -1.0000000e+00 2.43e-09 1.97e+01  -3.8 7.06e-04    -  1.00e+00 1.00e+00h  1\n",
      " 197 -1.0000000e+00 1.41e-10 1.27e-04  -3.8 2.66e-05    -  1.00e+00 1.00e+00h  1\n",
      " 198 -1.0000000e+00 1.44e-10 3.75e-06  -8.6 5.64e-09    -  1.00e+00 1.00e+00h  1\n",
      " 199 -1.0000000e+00 8.93e-11 3.08e-14  -8.6 8.56e-08    -  1.00e+00 1.00e+00h  1\n",
      "\n",
      "Number of Iterations....: 199\n",
      "\n",
      "                                   (scaled)                 (unscaled)\n",
      "Objective...............:  -1.0000000000000000e+00   -1.0000000000000000e+00\n",
      "Dual infeasibility......:   3.0753177782116836e-14    3.0753177782116836e-14\n",
      "Constraint violation....:   8.9309316886332368e-11    8.9309316886332368e-11\n",
      "Complementarity.........:   2.5059039281775827e-09    2.5059039281775827e-09\n",
      "Overall NLP error.......:   2.5059039281775827e-09    2.5059039281775827e-09\n",
      "\n",
      "\n",
      "Number of objective function evaluations             = 428\n"
     ]
    },
    {
     "name": "stdout",
     "output_type": "stream",
     "text": [
      "Number of objective gradient evaluations             = 104\n",
      "Number of equality constraint evaluations            = 428\n",
      "Number of inequality constraint evaluations          = 0\n",
      "Number of equality constraint Jacobian evaluations   = 213\n",
      "Number of inequality constraint Jacobian evaluations = 0\n",
      "Number of Lagrangian Hessian evaluations             = 199\n",
      "Total CPU secs in IPOPT (w/o function evaluations)   =     24.324\n",
      "Total CPU secs in NLP function evaluations           =      0.947\n",
      "\n",
      "EXIT: Optimal Solution Found.\n"
     ]
    }
   ],
   "source": [
    "results = opt.solve(model,tee=True)"
   ]
  },
  {
   "cell_type": "code",
   "execution_count": 23,
   "metadata": {},
   "outputs": [],
   "source": [
    "model.ipopt_zL_in.update(model.ipopt_zL_out)\n",
    "model.ipopt_zU_in.update(model.ipopt_zU_out)"
   ]
  },
  {
   "cell_type": "code",
   "execution_count": 24,
   "metadata": {
    "scrolled": false
   },
   "outputs": [
    {
     "name": "stdout",
     "output_type": "stream",
     "text": [
      "Here comes the result:\n",
      "----------------------------------------------------------------------------------------------------\n",
      "\t\tT\t\t Q\t\t\t V\t\t\t L\n",
      "               27.65 \t      -108.4694494928 \t         0.5982198734 \t         2.0144113822\n",
      "              253.11 \t         0.0000000000 \t         2.9607543826 \t         0.0701875431\n",
      "----------------------------------------------------------------------------------------------------\n",
      "Top\n",
      "V\t 0.5982198733530084\n",
      "L\t 0.0004745934651523273\n",
      "W\t 0.3476485336116302\n",
      "----------------------------------------------------------------------------------------------------\n",
      "Bottom\n",
      "L\t 0.07018754313957444\n",
      "----------------------------------------------------------------------------------------------------\n",
      "Condenser:\tVapor\t\tLiquid\t\tLast Stage\tVapor\t\tLiquid\n",
      "H2 \t\t37.330%\t\t1.440%\t\t H2       \t8.522%\t\t0.785%\n",
      "CO \t\t19.364%\t\t1.391%\t\t CO       \t4.859%\t\t0.502%\n",
      "CO2 \t\t25.590%\t\t15.899%\t\t CO2      \t15.990%\t\t3.978%\n",
      "H2O \t\t1.260%\t\t0.000%\t\t H2O      \t11.996%\t\t23.812%\n",
      "C2H4 \t\t3.127%\t\t3.811%\t\t C2H4     \t3.226%\t\t1.177%\n",
      "C3H6 \t\t2.278%\t\t11.990%\t\t C3H6     \t8.620%\t\t5.120%\n",
      "C4H8 \t\t1.204%\t\t18.044%\t\t C4H8     \t12.523%\t\t6.419%\n",
      "C5H10 \t\t0.222%\t\t11.540%\t\t C5H10    \t7.898%\t\t8.029%\n",
      "C6H12 \t\t0.032%\t\t5.508%\t\t C6H12    \t3.755%\t\t6.876%\n",
      "C7H14 \t\t0.004%\t\t2.418%\t\t C7H14    \t1.646%\t\t5.109%\n",
      "C8H16 \t\t0.001%\t\t1.077%\t\t C8H16    \t0.733%\t\t3.696%\n",
      "C9H18 \t\t0.000%\t\t0.492%\t\t C9H18    \t0.335%\t\t2.661%\n",
      "C10H20 \t\t0.000%\t\t0.230%\t\t C10H20   \t0.156%\t\t1.913%\n",
      "C11H22 \t\t0.000%\t\t0.070%\t\t C11H22   \t0.047%\t\t0.876%\n",
      "C12H24 \t\t0.000%\t\t0.034%\t\t C12H24   \t0.023%\t\t0.629%\n",
      "C13H26 \t\t0.000%\t\t0.016%\t\t C13H26   \t0.011%\t\t0.452%\n",
      "C14H28 \t\t0.000%\t\t0.008%\t\t C14H28   \t0.005%\t\t0.325%\n",
      "C15H30 \t\t0.000%\t\t0.004%\t\t C15H30   \t0.003%\t\t0.233%\n",
      "C16H32 \t\t0.000%\t\t0.002%\t\t C16H32   \t0.001%\t\t0.168%\n",
      "C17H34 \t\t0.000%\t\t0.001%\t\t C17H34   \t0.001%\t\t0.121%\n",
      "C1H4 \t\t6.938%\t\t1.650%\t\t C1H4     \t2.524%\t\t0.471%\n",
      "C2H6 \t\t1.646%\t\t3.125%\t\t C2H6     \t2.459%\t\t0.924%\n",
      "C3H8 \t\t0.553%\t\t3.235%\t\t C3H8     \t2.313%\t\t1.422%\n",
      "C4H10 \t\t0.332%\t\t6.080%\t\t C4H10    \t4.204%\t\t2.427%\n",
      "C5H12 \t\t0.103%\t\t6.459%\t\t C5H12    \t4.416%\t\t4.964%\n",
      "C6H14 \t\t0.014%\t\t2.993%\t\t C6H14    \t2.040%\t\t4.084%\n",
      "C7H16 \t\t0.002%\t\t1.313%\t\t C7H16    \t0.894%\t\t3.011%\n",
      "C8H18 \t\t0.000%\t\t0.587%\t\t C8H18    \t0.400%\t\t2.175%\n",
      "C9H20 \t\t0.000%\t\t0.269%\t\t C9H20    \t0.183%\t\t1.565%\n",
      "C10H22 \t\t0.000%\t\t0.126%\t\t C10H22   \t0.086%\t\t1.125%\n",
      "C11H24 \t\t0.000%\t\t0.097%\t\t C11H24   \t0.066%\t\t1.307%\n",
      "C12H26 \t\t0.000%\t\t0.047%\t\t C12H26   \t0.032%\t\t0.939%\n",
      "C13H28 \t\t0.000%\t\t0.023%\t\t C13H28   \t0.016%\t\t0.675%\n",
      "C14H30 \t\t0.000%\t\t0.011%\t\t C14H30   \t0.008%\t\t0.485%\n",
      "C15H32 \t\t0.000%\t\t0.006%\t\t C15H32   \t0.004%\t\t0.348%\n",
      "C16H34 \t\t0.000%\t\t0.003%\t\t C16H34   \t0.002%\t\t0.250%\n",
      "C17H36 \t\t0.000%\t\t0.001%\t\t C17H36   \t0.001%\t\t0.180%\n"
     ]
    }
   ],
   "source": [
    "beautify2(pe,model)"
   ]
  },
  {
   "cell_type": "code",
   "execution_count": null,
   "metadata": {},
   "outputs": [],
   "source": [
    "# model.solutions.store_to(results)\n",
    "# with open('../saved_solutions/1_stage_condenser_n58_tmp.pickle','wb') as f:\n",
    "#     pickle.dump(results,f)"
   ]
  },
  {
   "cell_type": "markdown",
   "metadata": {},
   "source": [
    "### Check non-active constraints (dual = 0)"
   ]
  },
  {
   "cell_type": "code",
   "execution_count": 25,
   "metadata": {},
   "outputs": [
    {
     "name": "stdout",
     "output_type": "stream",
     "text": [
      "condenser.heat_balance_main_con          \t\t 0.0\n",
      "Vh_condenser_con                         \t\t 0.0\n",
      "reactive[1].energy_block.dH_F_con[C30H62] \t\t 0.0\n",
      "condenser.energy_block.dH_F_con[C30H62]  \t\t 0.0\n",
      "condenser.energy_block.dH_F_con[CO]      \t\t 0.0\n",
      "condenser.energy_block.dH_F_con[H2]      \t\t 0.0\n",
      "condenser.energy_block.H_F_con           \t\t 0.0\n"
     ]
    }
   ],
   "source": [
    "for i in model.dual:\n",
    "    if abs(model.dual[i]) == 0:\n",
    "        print('{:40s}'.format(str(i)),'\\t\\t',model.dual[i])"
   ]
  },
  {
   "cell_type": "markdown",
   "metadata": {},
   "source": [
    "# Iterative Data Analysis"
   ]
  },
  {
   "cell_type": "code",
   "execution_count": 26,
   "metadata": {},
   "outputs": [],
   "source": [
    "import numpy as np\n",
    "from matplotlib import pyplot as plt"
   ]
  },
  {
   "cell_type": "code",
   "execution_count": 27,
   "metadata": {},
   "outputs": [],
   "source": [
    "opt.options['linear_solver'] = 'ma86'"
   ]
  },
  {
   "cell_type": "code",
   "execution_count": 28,
   "metadata": {},
   "outputs": [],
   "source": [
    "model.del_component(model.obj)\n",
    "model.obj = pe.Objective(expr = model.condenser.L['P'] ,sense=pe.maximize)\n",
    "model.condenser.T.fixed = True\n",
    "model.condenser.L['out'].fixed=True\n",
    "for j in model.reactive:\n",
    "    model.reactive[j].Q_main.fixed=False\n",
    "    model.reactive[j].T.fixed=True"
   ]
  },
  {
   "cell_type": "code",
   "execution_count": 29,
   "metadata": {
    "scrolled": false
   },
   "outputs": [
    {
     "name": "stdout",
     "output_type": "stream",
     "text": [
      "Ipopt 3.12.8: print_user_options=yes\n",
      "linear_solver=ma86\n",
      "max_iter=7000\n",
      "\n",
      "\n",
      "List of user-set options:\n",
      "\n",
      "                                    Name   Value                used\n",
      "                           linear_solver = ma86                  yes\n",
      "                                max_iter = 7000                  yes\n",
      "                      print_user_options = yes                   yes\n",
      "\n",
      "******************************************************************************\n",
      "This program contains Ipopt, a library for large-scale nonlinear optimization.\n",
      " Ipopt is released as open source code under the Eclipse Public License (EPL).\n",
      "         For more information visit http://projects.coin-or.org/Ipopt\n",
      "******************************************************************************\n",
      "\n",
      "This is Ipopt version 3.12.8, running with linear solver ma86.\n",
      "\n",
      "Number of nonzeros in equality constraint Jacobian...:     6198\n",
      "Number of nonzeros in inequality constraint Jacobian.:        0\n",
      "Number of nonzeros in Lagrangian Hessian.............:     7935\n",
      "\n",
      "Total number of variables............................:     1980\n",
      "                     variables with only lower bounds:      387\n",
      "                variables with lower and upper bounds:     1413\n",
      "                     variables with only upper bounds:        0\n",
      "Total number of equality constraints.................:     1980\n",
      "Total number of inequality constraints...............:        0\n",
      "        inequality constraints with only lower bounds:        0\n",
      "   inequality constraints with lower and upper bounds:        0\n",
      "        inequality constraints with only upper bounds:        0\n",
      "\n",
      "iter    objective    inf_pr   inf_du lg(mu)  ||d||  lg(rg) alpha_du alpha_pr  ls\n",
      "   0 -9.9999900e-03 4.39e+02 2.00e+00  -1.0 0.00e+00    -  0.00e+00 0.00e+00   0\n",
      "   1 -9.9990000e-05 2.09e+02 1.71e+06  -1.0 1.46e+01    -  8.98e-01 5.25e-01h  1\n",
      "   2 -9.9000000e-07 2.01e+02 2.10e+06  -1.0 2.08e-01    -  9.95e-01 3.52e-02h  1\n",
      "   3 -4.2351647e-22 2.01e+02 3.39e+06  -1.0 2.19e-01    -  1.00e+00 3.89e-04h  1\n",
      "   4r-4.2351647e-22 2.01e+02 1.00e+03   1.2 0.00e+00    -  0.00e+00 4.90e-07R  4\n",
      "   5r-7.1595053e-08 2.01e+02 2.31e+03   1.2 7.92e+03    -  4.77e-03 4.88e-06f  1\n",
      "   6r-4.6662042e-07 1.02e+02 1.21e+03  -0.9 2.78e+03    -  3.30e-03 3.32e-03f  1\n",
      "   7r-6.9023928e-07 9.07e+01 2.99e+04  -0.9 5.29e+02   0.0 1.91e-02 1.88e-03f  1\n",
      "   8r-1.0235039e-06 4.38e+01 3.71e+04  -0.9 5.36e+03    -  3.64e-03 2.80e-03f  1\n",
      "   9r-1.2055976e-06 3.93e+01 1.11e+04  -0.9 2.70e+03    -  7.70e-03 1.53e-03f  1\n",
      "iter    objective    inf_pr   inf_du lg(mu)  ||d||  lg(rg) alpha_du alpha_pr  ls\n",
      "  10r-3.1257542e-06 1.46e+01 3.39e+03  -0.9 1.33e+03    -  7.49e-02 1.60e-02f  1\n",
      "  11r-1.2433294e-05 6.50e+00 2.28e+03  -0.9 3.99e+02    -  9.87e-02 7.28e-02f  1\n",
      "  12r-2.2204568e-05 6.53e+00 1.30e+04  -0.9 1.65e+02    -  1.31e-01 6.92e-02f  1\n",
      "  13r-6.4493275e-05 7.28e+00 6.78e+05  -0.9 1.26e+02    -  1.68e-01 2.65e-01f  1\n",
      "  14r-7.9671281e-05 6.70e+00 9.59e+05  -0.9 4.42e+01    -  5.88e-03 8.27e-02f  1\n",
      "  15r-1.0353768e-04 5.85e+00 6.56e+05  -0.9 2.83e+01    -  1.75e-01 1.30e-01f  1\n",
      "  16r-1.2011844e-04 5.08e+00 6.54e+05  -0.9 2.25e+02    -  3.32e-02 8.04e-02f  1\n",
      "  17r-1.2185646e-04 5.04e+00 1.17e+06  -0.9 3.04e+01    -  1.35e-01 7.99e-03f  1\n",
      "  18r-2.3733470e-04 4.36e+00 1.38e+05  -0.9 1.92e+01    -  8.94e-02 4.82e-01f  1\n",
      "  19r-3.1776453e-04 3.05e+00 3.10e+05  -0.9 1.17e+01    -  2.72e-01 3.75e-01f  1\n",
      "iter    objective    inf_pr   inf_du lg(mu)  ||d||  lg(rg) alpha_du alpha_pr  ls\n",
      "  20r-4.8082419e-04 1.89e+00 1.19e+05  -0.9 2.04e+01    -  2.72e-01 6.55e-01f  1\n",
      "  21r-6.4110568e-04 6.24e-01 6.88e+04  -0.9 8.80e+00    -  3.76e-01 6.84e-01f  1\n",
      "  22r-8.2501579e-04 1.60e-01 2.31e+04  -0.9 5.63e+00    -  5.59e-01 8.77e-01f  1\n",
      "  23r-9.1126417e-04 3.11e-01 4.87e+03  -0.9 3.36e+00    -  1.00e+00 1.00e+00f  1\n",
      "  24r-8.7866599e-04 5.19e-01 2.34e+03  -0.9 1.01e+00    -  1.00e+00 1.00e+00f  1\n",
      "  25r-8.8069657e-04 1.19e-03 5.78e+02  -0.9 6.64e-02    -  8.03e-01 1.00e+00f  1\n",
      "  26r-5.2097330e-04 1.98e-01 2.03e+02  -1.6 1.61e+01    -  7.65e-01 7.30e-01f  1\n",
      "  27r-2.7740554e-04 6.29e-02 1.08e+02  -1.6 6.93e+00    -  1.00e+00 9.49e-01f  1\n",
      "  28r-2.4228200e-04 5.38e-03 1.31e+00  -1.6 2.23e+00    -  1.00e+00 1.00e+00f  1\n",
      "  29r-1.2312506e-04 1.70e-02 2.26e+02  -3.7 1.34e+01    -  7.62e-01 5.98e-01f  1\n",
      "iter    objective    inf_pr   inf_du lg(mu)  ||d||  lg(rg) alpha_du alpha_pr  ls\n",
      "  30r-8.5661124e-05 2.41e-02 3.71e+02  -3.7 7.51e+00    -  5.30e-01 4.06e-01f  1\n",
      "  31r-6.8065367e-05 1.59e-02 8.36e+02  -3.7 7.14e+00    -  7.01e-01 3.52e-01f  1\n",
      "  32r-5.1527898e-05 1.09e-02 6.29e+02  -3.7 7.36e+00    -  7.81e-01 5.28e-01f  1\n",
      "  33r-4.1090972e-05 1.47e-02 5.73e+02  -3.7 5.82e+00    -  1.00e+00 7.18e-01f  1\n",
      "  34r-4.2371761e-05 8.76e-03 2.51e+02  -3.7 3.20e+00    -  1.00e+00 8.76e-01f  1\n",
      "  35r-6.6404591e-05 4.58e-04 3.15e-01  -3.7 7.53e-01    -  1.00e+00 1.00e+00f  1\n",
      "  36r-1.0060661e-04 6.03e-06 4.56e-02  -3.7 3.81e-02    -  1.00e+00 1.00e+00h  1\n",
      "  37r-1.0155389e-04 1.33e-06 1.41e-04  -3.7 2.44e-03    -  1.00e+00 1.00e+00h  1\n",
      "  38r-1.8866766e-04 1.97e-04 1.84e+02  -8.2 1.34e+00    -  3.68e-01 5.00e-01f  1\n",
      "  39r-3.6262011e-04 9.24e-05 3.56e+02  -8.2 7.24e-01    -  8.05e-01 5.33e-01f  1\n",
      "iter    objective    inf_pr   inf_du lg(mu)  ||d||  lg(rg) alpha_du alpha_pr  ls\n",
      "  40r-4.2606776e-04 4.56e-05 4.30e+02  -8.2 2.92e-01    -  6.80e-01 5.07e-01f  1\n",
      "  41r-4.5463255e-04 2.22e-05 4.16e+02  -8.2 1.34e-01    -  7.13e-01 5.15e-01f  1\n",
      "  42r-4.6743065e-04 1.03e-05 3.93e+02  -8.2 5.99e-02    -  7.75e-01 5.35e-01f  1\n",
      "  43r-4.7230098e-04 5.04e-06 3.42e+02  -8.2 2.51e-02    -  9.25e-01 5.12e-01f  1\n",
      "  44r-4.7428506e-04 2.26e-06 2.01e+02  -8.2 1.00e-02    -  9.25e-01 5.52e-01f  1\n",
      "  45r-4.7467523e-04 1.09e-06 2.17e+02  -8.2 2.12e-03    -  9.30e-01 5.16e-01f  1\n",
      "  46r-4.7468932e-04 3.23e-07 1.19e+02  -8.2 9.68e-05    -  9.49e-01 7.05e-01f  1\n",
      "  47r-4.7462754e-04 6.40e-08 3.71e+01  -8.2 2.14e-04    -  8.94e-01 8.02e-01f  1\n",
      "  48r-4.7459447e-04 7.43e-12 3.12e+01  -8.2 8.61e-05    -  8.25e-01 1.00e+00f  1\n",
      "\n",
      "Number of Iterations....: 48\n",
      "\n",
      "                                   (scaled)                 (unscaled)\n",
      "Objective...............:  -4.7459446622378793e-04   -4.7459446622378793e-04\n",
      "Dual infeasibility......:   5.2844262596027239e-11    5.2844262596027239e-11\n",
      "Constraint violation....:   7.4268470768654445e-12    7.4268470768654445e-12\n",
      "Complementarity.........:   0.0000000000000000e+00    0.0000000000000000e+00\n",
      "Overall NLP error.......:   7.4268470768654445e-12    5.2844262596027239e-11\n",
      "\n",
      "\n",
      "Number of objective function evaluations             = 53\n",
      "Number of objective gradient evaluations             = 6\n",
      "Number of equality constraint evaluations            = 53\n",
      "Number of inequality constraint evaluations          = 0\n",
      "Number of equality constraint Jacobian evaluations   = 50\n",
      "Number of inequality constraint Jacobian evaluations = 0\n",
      "Number of Lagrangian Hessian evaluations             = 48\n",
      "Total CPU secs in IPOPT (w/o function evaluations)   =      3.683\n",
      "Total CPU secs in NLP function evaluations           =      0.129\n",
      "\n",
      "EXIT: Optimal Solution Found.\n"
     ]
    }
   ],
   "source": [
    "results = opt.solve(model,tee=True)"
   ]
  },
  {
   "cell_type": "code",
   "execution_count": 30,
   "metadata": {},
   "outputs": [],
   "source": [
    "update_dual(pe,model)"
   ]
  },
  {
   "cell_type": "code",
   "execution_count": 31,
   "metadata": {},
   "outputs": [],
   "source": [
    "Trange = np.linspace(model.reactive[1].T.value,200+273.15,50)"
   ]
  },
  {
   "cell_type": "code",
   "execution_count": 32,
   "metadata": {},
   "outputs": [
    {
     "name": "stdout",
     "output_type": "stream",
     "text": [
      "Solved, Solution T = 526.2584708828563 K\n",
      "WARNING: Loading a SolverResults object with a warning status into model=unknown;\n",
      "\tmessage from solver=Ipopt 3.12.8\\x3a Converged to a locally infeasible point. Problem may be infeasible.\n",
      "Solved, Solution T = 525.1746245383082 K\n",
      "WARNING: Loading a SolverResults object with a warning status into model=unknown;\n",
      "\tmessage from solver=Ipopt 3.12.8\\x3a Converged to a locally infeasible point. Problem may be infeasible.\n",
      "Solved, Solution T = 524.0907781937601 K\n",
      "WARNING: Loading a SolverResults object with a warning status into model=unknown;\n",
      "\tmessage from solver=Ipopt 3.12.8\\x3a Converged to a locally infeasible point. Problem may be infeasible.\n",
      "Solved, Solution T = 523.006931849212 K\n",
      "WARNING: Loading a SolverResults object with a warning status into model=unknown;\n",
      "\tmessage from solver=Ipopt 3.12.8\\x3a Converged to a locally infeasible point. Problem may be infeasible.\n",
      "Solved, Solution T = 521.923085504664 K\n",
      "WARNING: Loading a SolverResults object with a warning status into model=unknown;\n",
      "\tmessage from solver=Ipopt 3.12.8\\x3a Converged to a locally infeasible point. Problem may be infeasible.\n",
      "Solved, Solution T = 520.8392391601159 K\n",
      "WARNING: Loading a SolverResults object with a warning status into model=unknown;\n",
      "\tmessage from solver=Ipopt 3.12.8\\x3a Converged to a locally infeasible point. Problem may be infeasible.\n",
      "Solved, Solution T = 519.7553928155678 K\n",
      "WARNING: Loading a SolverResults object with a warning status into model=unknown;\n",
      "\tmessage from solver=Ipopt 3.12.8\\x3a Converged to a locally infeasible point. Problem may be infeasible.\n",
      "Solved, Solution T = 518.6715464710196 K\n",
      "WARNING: Loading a SolverResults object with a warning status into model=unknown;\n",
      "\tmessage from solver=Ipopt 3.12.8\\x3a Converged to a locally infeasible point. Problem may be infeasible.\n",
      "Solved, Solution T = 517.5877001264715 K\n",
      "WARNING: Loading a SolverResults object with a warning status into model=unknown;\n",
      "\tmessage from solver=Ipopt 3.12.8\\x3a Converged to a locally infeasible point. Problem may be infeasible.\n",
      "Solved, Solution T = 516.5038537819235 K\n",
      "WARNING: Loading a SolverResults object with a warning status into model=unknown;\n",
      "\tmessage from solver=Ipopt 3.12.8\\x3a Converged to a locally infeasible point. Problem may be infeasible.\n",
      "Solved, Solution T = 515.4200074373754 K\n",
      "WARNING: Loading a SolverResults object with a warning status into model=unknown;\n",
      "\tmessage from solver=Ipopt 3.12.8\\x3a Converged to a locally infeasible point. Problem may be infeasible.\n",
      "Solved, Solution T = 514.3361610928273 K\n",
      "WARNING: Loading a SolverResults object with a warning status into model=unknown;\n",
      "\tmessage from solver=Ipopt 3.12.8\\x3a Converged to a locally infeasible point. Problem may be infeasible.\n",
      "Solved, Solution T = 513.2523147482792 K\n",
      "WARNING: Loading a SolverResults object with a warning status into model=unknown;\n",
      "\tmessage from solver=Ipopt 3.12.8\\x3a Converged to a locally infeasible point. Problem may be infeasible.\n",
      "Solved, Solution T = 512.1684684037311 K\n",
      "WARNING: Loading a SolverResults object with a warning status into model=unknown;\n",
      "\tmessage from solver=Ipopt 3.12.8\\x3a Converged to a locally infeasible point. Problem may be infeasible.\n",
      "Solved, Solution T = 511.08462205918306 K\n",
      "WARNING: Loading a SolverResults object with a warning status into model=unknown;\n",
      "\tmessage from solver=Ipopt 3.12.8\\x3a Converged to a locally infeasible point. Problem may be infeasible.\n",
      "Solved, Solution T = 510.000775714635 K\n",
      "WARNING: Loading a SolverResults object with a warning status into model=unknown;\n",
      "\tmessage from solver=Ipopt 3.12.8\\x3a Converged to a locally infeasible point. Problem may be infeasible.\n",
      "Solved, Solution T = 508.91692937008685 K\n",
      "WARNING: Loading a SolverResults object with a warning status into model=unknown;\n",
      "\tmessage from solver=Ipopt 3.12.8\\x3a Converged to a locally infeasible point. Problem may be infeasible.\n",
      "Solved, Solution T = 507.83308302553877 K\n",
      "WARNING: Loading a SolverResults object with a warning status into model=unknown;\n",
      "\tmessage from solver=Ipopt 3.12.8\\x3a Converged to a locally infeasible point. Problem may be infeasible.\n",
      "Solved, Solution T = 506.7492366809907 K\n",
      "WARNING: Loading a SolverResults object with a warning status into model=unknown;\n",
      "\tmessage from solver=Ipopt 3.12.8\\x3a Converged to a locally infeasible point. Problem may be infeasible.\n",
      "Solved, Solution T = 505.6653903364426 K\n",
      "WARNING: Loading a SolverResults object with a warning status into model=unknown;\n",
      "\tmessage from solver=Ipopt 3.12.8\\x3a Converged to a locally infeasible point. Problem may be infeasible.\n",
      "Solved, Solution T = 504.58154399189453 K\n",
      "WARNING: Loading a SolverResults object with a warning status into model=unknown;\n",
      "\tmessage from solver=Ipopt 3.12.8\\x3a Converged to a locally infeasible point. Problem may be infeasible.\n",
      "Solved, Solution T = 503.49769764734646 K\n",
      "WARNING: Loading a SolverResults object with a warning status into model=unknown;\n",
      "\tmessage from solver=Ipopt 3.12.8\\x3a Converged to a locally infeasible point. Problem may be infeasible.\n",
      "Solved, Solution T = 502.4138513027983 K\n",
      "WARNING: Loading a SolverResults object with a warning status into model=unknown;\n",
      "\tmessage from solver=Ipopt 3.12.8\\x3a Converged to a locally infeasible point. Problem may be infeasible.\n",
      "Solved, Solution T = 501.33000495825024 K\n",
      "WARNING: Loading a SolverResults object with a warning status into model=unknown;\n",
      "\tmessage from solver=Ipopt 3.12.8\\x3a Converged to a locally infeasible point. Problem may be infeasible.\n",
      "Solved, Solution T = 500.24615861370216 K\n",
      "WARNING: Loading a SolverResults object with a warning status into model=unknown;\n",
      "\tmessage from solver=Ipopt 3.12.8\\x3a Converged to a locally infeasible point. Problem may be infeasible.\n",
      "Solved, Solution T = 499.1623122691541 K\n",
      "WARNING: Loading a SolverResults object with a warning status into model=unknown;\n",
      "\tmessage from solver=Ipopt 3.12.8\\x3a Converged to a locally infeasible point. Problem may be infeasible.\n",
      "Solved, Solution T = 498.078465924606 K\n",
      "WARNING: Loading a SolverResults object with a warning status into model=unknown;\n",
      "\tmessage from solver=Ipopt 3.12.8\\x3a Converged to a locally infeasible point. Problem may be infeasible.\n",
      "Solved, Solution T = 496.99461958005793 K\n",
      "WARNING: Loading a SolverResults object with a warning status into model=unknown;\n",
      "\tmessage from solver=Ipopt 3.12.8\\x3a Converged to a locally infeasible point. Problem may be infeasible.\n",
      "Solved, Solution T = 495.9107732355098 K\n",
      "WARNING: Loading a SolverResults object with a warning status into model=unknown;\n",
      "\tmessage from solver=Ipopt 3.12.8\\x3a Converged to a locally infeasible point. Problem may be infeasible.\n",
      "Solved, Solution T = 494.8269268909617 K\n",
      "WARNING: Loading a SolverResults object with a warning status into model=unknown;\n",
      "\tmessage from solver=Ipopt 3.12.8\\x3a Converged to a locally infeasible point. Problem may be infeasible.\n",
      "Solved, Solution T = 493.74308054641364 K\n",
      "WARNING: Loading a SolverResults object with a warning status into model=unknown;\n",
      "\tmessage from solver=Ipopt 3.12.8\\x3a Converged to a locally infeasible point. Problem may be infeasible.\n",
      "Solved, Solution T = 492.65923420186556 K\n",
      "WARNING: Loading a SolverResults object with a warning status into model=unknown;\n",
      "\tmessage from solver=Ipopt 3.12.8\\x3a Converged to a locally infeasible point. Problem may be infeasible.\n",
      "Solved, Solution T = 491.5753878573175 K\n",
      "WARNING: Loading a SolverResults object with a warning status into model=unknown;\n",
      "\tmessage from solver=Ipopt 3.12.8\\x3a Converged to a locally infeasible point. Problem may be infeasible.\n",
      "Solved, Solution T = 490.4915415127694 K\n",
      "WARNING: Loading a SolverResults object with a warning status into model=unknown;\n",
      "\tmessage from solver=Ipopt 3.12.8\\x3a Converged to a locally infeasible point. Problem may be infeasible.\n",
      "Solved, Solution T = 489.40769516822127 K\n",
      "WARNING: Loading a SolverResults object with a warning status into model=unknown;\n",
      "\tmessage from solver=Ipopt 3.12.8\\x3a Converged to a locally infeasible point. Problem may be infeasible.\n",
      "Solved, Solution T = 488.3238488236732 K\n",
      "WARNING: Loading a SolverResults object with a warning status into model=unknown;\n",
      "\tmessage from solver=Ipopt 3.12.8\\x3a Converged to a locally infeasible point. Problem may be infeasible.\n",
      "Solved, Solution T = 487.2400024791251 K\n"
     ]
    },
    {
     "name": "stdout",
     "output_type": "stream",
     "text": [
      "WARNING: Loading a SolverResults object with a warning status into model=unknown;\n",
      "\tmessage from solver=Ipopt 3.12.8\\x3a Converged to a locally infeasible point. Problem may be infeasible.\n",
      "Solved, Solution T = 486.15615613457703 K\n",
      "WARNING: Loading a SolverResults object with a warning status into model=unknown;\n",
      "\tmessage from solver=Ipopt 3.12.8\\x3a Converged to a locally infeasible point. Problem may be infeasible.\n",
      "Solved, Solution T = 485.07230979002895 K\n",
      "WARNING: Loading a SolverResults object with a warning status into model=unknown;\n",
      "\tmessage from solver=Ipopt 3.12.8\\x3a Converged to a locally infeasible point. Problem may be infeasible.\n",
      "Solved, Solution T = 483.9884634454809 K\n",
      "WARNING: Loading a SolverResults object with a warning status into model=unknown;\n",
      "\tmessage from solver=Ipopt 3.12.8\\x3a Converged to a locally infeasible point. Problem may be infeasible.\n",
      "Solved, Solution T = 482.9046171009328 K\n",
      "WARNING: Loading a SolverResults object with a warning status into model=unknown;\n",
      "\tmessage from solver=Ipopt 3.12.8\\x3a Converged to a locally infeasible point. Problem may be infeasible.\n",
      "Solved, Solution T = 481.82077075638466 K\n",
      "WARNING: Loading a SolverResults object with a warning status into model=unknown;\n",
      "\tmessage from solver=Ipopt 3.12.8\\x3a Converged to a locally infeasible point. Problem may be infeasible.\n",
      "Solved, Solution T = 480.7369244118366 K\n",
      "WARNING: Loading a SolverResults object with a warning status into model=unknown;\n",
      "\tmessage from solver=Ipopt 3.12.8\\x3a Converged to a locally infeasible point. Problem may be infeasible.\n",
      "Solved, Solution T = 479.6530780672885 K\n",
      "WARNING: Loading a SolverResults object with a warning status into model=unknown;\n",
      "\tmessage from solver=Ipopt 3.12.8\\x3a Converged to a locally infeasible point. Problem may be infeasible.\n",
      "Solved, Solution T = 478.5692317227404 K\n",
      "WARNING: Loading a SolverResults object with a warning status into model=unknown;\n",
      "\tmessage from solver=Ipopt 3.12.8\\x3a Converged to a locally infeasible point. Problem may be infeasible.\n",
      "Solved, Solution T = 477.48538537819235 K\n",
      "WARNING: Loading a SolverResults object with a warning status into model=unknown;\n",
      "\tmessage from solver=Ipopt 3.12.8\\x3a Converged to a locally infeasible point. Problem may be infeasible.\n",
      "Solved, Solution T = 476.4015390336442 K\n",
      "WARNING: Loading a SolverResults object with a warning status into model=unknown;\n",
      "\tmessage from solver=Ipopt 3.12.8\\x3a Converged to a locally infeasible point. Problem may be infeasible.\n",
      "Solved, Solution T = 475.31769268909613 K\n",
      "WARNING: Loading a SolverResults object with a warning status into model=unknown;\n",
      "\tmessage from solver=Ipopt 3.12.8\\x3a Converged to a locally infeasible point. Problem may be infeasible.\n",
      "Solved, Solution T = 474.23384634454806 K\n",
      "WARNING: Loading a SolverResults object with a warning status into model=unknown;\n",
      "\tmessage from solver=Ipopt 3.12.8\\x3a Converged to a locally infeasible point. Problem may be infeasible.\n",
      "Solved, Solution T = 473.15 K\n"
     ]
    }
   ],
   "source": [
    "rf_data = {}\n",
    "rf_data['r'] = {}; rf_data['T'] = []; rf_data['Q'] = []; rf_data['V'] = []; rf_data['L'] = []; rf_data['Re'] = []; \n",
    "rf_data['y_CO'] = []; rf_data['y_H2'] = []; rf_data['y_CO2'] = []; rf_data['y_H2O'] = []; rf_data['r_WGS'] = []; rf_data['r_FT'] = []\n",
    "\n",
    "for i in model.reactive[1].r_total_comp:\n",
    "    rf_data['r'][i] = []\n",
    "\n",
    "for t in Trange:\n",
    "    model.reactive[1].T.fix(t)\n",
    "    results = opt.solve(model,tee=False)\n",
    "    update_dual(pe,model)\n",
    "    print('Solved, Solution T = {} K'.format(model.reactive[1].T.value))\n",
    "    rf_data['T'].append(model.reactive[1].T.value)\n",
    "    rf_data['Q'].append(model.reactive[1].Q_main.value)\n",
    "    rf_data['V'].append(model.condenser.V['out'].value)\n",
    "    rf_data['L'].append(model.condenser.L['P'].value)\n",
    "    rf_data['Re'].append(model.condenser.L['out'].value)\n",
    "\n",
    "    for i in model.reactive[1].r_total_comp:\n",
    "        rf_data['r'][i].append(model.reactive[1].r_total_comp[i].value)\n",
    "    \n",
    "    \n",
    "    rf_data['y_H2O'].append(model.reactive[1].y['H2O'].value)\n",
    "    rf_data['y_CO'].append(model.reactive[1].y['CO'].value)\n",
    "    rf_data['y_H2'].append(model.reactive[1].y['H2'].value)\n",
    "    rf_data['y_CO2'].append(model.reactive[1].y['CO2'].value)\n",
    "    rf_data['r_WGS'].append(model.reactive[1].kinetics_block.r_WGS.value)\n",
    "    rf_data['r_FT'].append(model.reactive[1].kinetics_block.r_FT_total.value)"
   ]
  },
  {
   "cell_type": "code",
   "execution_count": null,
   "metadata": {},
   "outputs": [],
   "source": [
    "fig, ax1 = plt.subplots(figsize=(16,9))\n",
    "line1 = ax1.plot(rf_data['T'],rf_data['Q'], 'b-')\n",
    "ax1.set_xlabel('Temperature (k)', color='K',fontsize=18)\n",
    "ax1.set_ylabel('Q (MW)', color='b',fontsize=18)\n",
    "ax1.tick_params('y', colors='b',labelsize=18)\n",
    "ax1.tick_params('x', colors='k',labelsize=18)\n",
    "ax1.grid()\n",
    "\n",
    "ax2 = ax1.twinx()\n",
    "line2 = ax2.plot(rf_data['T'],rf_data['r_FT'], 'r')\n",
    "line3 = ax2.plot(rf_data['T'],rf_data['r_WGS'], 'r--')\n",
    "ax2.set_ylabel('$r_{FT}$: (kmol/s Carbon Number)', color='r',fontsize=18)\n",
    "ax2.tick_params('y', colors='r',labelsize=18)\n",
    "\n",
    "ax1.legend(line1+line2+line3,['Q','$r_{FT}$','$r_{WGS}$'],fontsize=18,loc=5)\n",
    "ax1.set_title('Heat Removal Rate and Reaction Rate vs T',fontsize=18)\n",
    "plt.show()"
   ]
  },
  {
   "cell_type": "code",
   "execution_count": null,
   "metadata": {},
   "outputs": [],
   "source": [
    "fig, ax = plt.subplots(figsize=(16,9))\n",
    "ax.plot(rf_data['T'],rf_data['y_CO'])\n",
    "ax.plot(rf_data['T'],rf_data['y_H2'])\n",
    "ax.plot(rf_data['T'],rf_data['y_CO2'])\n",
    "ax.plot(rf_data['T'],rf_data['y_H2O'])\n",
    "\n",
    "ax.legend(['$y_{CO}$','$y_{H2}$','$y_{CO2}$','$y_{H2O}$'],fontsize=18)\n",
    "ax.set_title('Gas Phase Inorganic Composition vs T',fontsize=18)\n",
    "\n",
    "ax.set_ylabel('Mole Fraction (%)', color='K',fontsize=18)\n",
    "ax.set_xlabel('Temperature (k)', color='K',fontsize=18)\n",
    "ax.tick_params('y', colors='k',labelsize=18)\n",
    "ax.tick_params('x', colors='k',labelsize=18)\n",
    "ax.grid()\n",
    "plt.show()"
   ]
  },
  {
   "cell_type": "code",
   "execution_count": null,
   "metadata": {},
   "outputs": [],
   "source": [
    "fig, ax = plt.subplots(figsize=(16,9))\n",
    "ax.plot(rf_data['T'],rf_data['r']['CO'])\n",
    "ax.plot(rf_data['T'],rf_data['r']['H2'])\n",
    "ax.plot(rf_data['T'],rf_data['r']['CO2'])\n",
    "ax.plot(rf_data['T'],rf_data['r']['H2O'])\n",
    "\n",
    "ax.legend(['$r_{CO}$','$r_{H2}$','$r_{CO2}$','$r_{H2O}$'],fontsize=18)\n",
    "ax.set_title('Inorganic Reaction Rate vs T',fontsize=18)\n",
    "\n",
    "ax.set_ylabel('Reaction Rate (kmol/s)', color='K',fontsize=18)\n",
    "ax.set_xlabel('Temperature (k)', color='K',fontsize=18)\n",
    "ax.tick_params('y', colors='k',labelsize=18)\n",
    "ax.tick_params('x', colors='k',labelsize=18)\n",
    "ax.grid()\n",
    "plt.show()"
   ]
  },
  {
   "cell_type": "code",
   "execution_count": null,
   "metadata": {},
   "outputs": [],
   "source": [
    "reaction_data = trans_product_mole(rf_data['r'])['unscaled']\n",
    "reaction_data_scaled = trans_product_mole(rf_data['r'])['scaled']"
   ]
  },
  {
   "cell_type": "code",
   "execution_count": null,
   "metadata": {},
   "outputs": [],
   "source": [
    "fig, ax = plt.subplots(figsize=(16,9))\n",
    "ax.stackplot(rf_data['T'], reaction_data_scaled['c1'], reaction_data_scaled['c2'],reaction_data_scaled['c3'],reaction_data_scaled['c4'],\\\n",
    "            reaction_data_scaled['napha'],reaction_data_scaled['gasoline'],reaction_data_scaled['diesel'],reaction_data_scaled['heavy'])\n",
    "plt.legend(['C1','C2','C3','C4','Napha','gasoline','diesel','heavy'])\n",
    "ax.set_title('Product Composition (Mole) vs T',fontsize=18)\n",
    "ax.set_ylabel('Mole Fraction (%)', color='K',fontsize=18)\n",
    "ax.set_xlabel('Temperature (k)', color='K',fontsize=18)\n",
    "plt.show()"
   ]
  },
  {
   "cell_type": "code",
   "execution_count": null,
   "metadata": {},
   "outputs": [],
   "source": [
    "fig, ax = plt.subplots(figsize=(16,9))\n",
    "ax.stackplot(rf_data['T'], reaction_data['c1'], reaction_data['c2'],reaction_data['c3'],reaction_data['c4'],\\\n",
    "            reaction_data['napha'],reaction_data['gasoline'],reaction_data['diesel'],reaction_data['heavy'])\n",
    "plt.legend(['C1','C2','C3','C4','Napha','gasoline','diesel','heavy'])\n",
    "ax.set_title('Total Production Rate (Mole) vs T',fontsize=18)\n",
    "ax.set_ylabel('Reaction Rate (kmol/s)', color='K',fontsize=18)\n",
    "ax.set_xlabel('Temperature (k)', color='K',fontsize=18)\n",
    "plt.show()"
   ]
  },
  {
   "cell_type": "code",
   "execution_count": null,
   "metadata": {},
   "outputs": [],
   "source": [
    "mass_data = {}\n",
    "for i in m.COMP_ORG:\n",
    "    mass_data[i] = np.array(rf_data['r'][i])*u.cal_MW(i)"
   ]
  },
  {
   "cell_type": "code",
   "execution_count": null,
   "metadata": {},
   "outputs": [],
   "source": [
    "mass_reaction_data = u.trans_product(mass_data)\n",
    "mass_reaction_scaled = u.trans_product_scaled(mass_data)"
   ]
  },
  {
   "cell_type": "code",
   "execution_count": null,
   "metadata": {},
   "outputs": [],
   "source": [
    "fig, ax = plt.subplots(figsize=(16,9))\n",
    "ax.stackplot(rf_data['T'], mass_reaction_scaled['c1'], mass_reaction_scaled['c2'],mass_reaction_scaled['c3'],mass_reaction_scaled['c4'],\\\n",
    "            mass_reaction_scaled['napha'],mass_reaction_scaled['gasoline'],mass_reaction_scaled['diesel'],mass_reaction_scaled['heavy'])\n",
    "plt.legend(['C1','C2','C3','C4','Napha','gasoline','diesel','heavy'])\n",
    "ax.set_title('Product Composition (Mass) vs T',fontsize=18)\n",
    "ax.set_ylabel('Mass Fraction (%)', color='K',fontsize=18)\n",
    "ax.set_xlabel('Temperature (k)', color='K',fontsize=18)\n",
    "plt.show()"
   ]
  },
  {
   "cell_type": "code",
   "execution_count": null,
   "metadata": {},
   "outputs": [],
   "source": [
    "fig, ax = plt.subplots(figsize=(16,9))\n",
    "ax.stackplot(rf_data['T'], mass_reaction_data['c1'], mass_reaction_data['c2'],mass_reaction_data['c3'],mass_reaction_data['c4'],\\\n",
    "            mass_reaction_data['napha'],mass_reaction_data['gasoline'],mass_reaction_data['diesel'],mass_reaction_data['heavy'])\n",
    "plt.legend(['C1','C2','C3','C4','Napha','gasoline','diesel','heavy'])\n",
    "ax.set_title('Total Production Rate (mass) vs T',fontsize=18)\n",
    "ax.set_ylabel('Reaction Rate (kg/s)', color='K',fontsize=18)\n",
    "ax.set_xlabel('Temperature (k)', color='K',fontsize=18)\n",
    "plt.show()"
   ]
  },
  {
   "cell_type": "code",
   "execution_count": null,
   "metadata": {},
   "outputs": [],
   "source": []
  }
 ],
 "metadata": {
  "kernelspec": {
   "display_name": "Python 3",
   "language": "python",
   "name": "python3"
  },
  "language_info": {
   "codemirror_mode": {
    "name": "ipython",
    "version": 3
   },
   "file_extension": ".py",
   "mimetype": "text/x-python",
   "name": "python",
   "nbconvert_exporter": "python",
   "pygments_lexer": "ipython3",
   "version": "3.6.3"
  }
 },
 "nbformat": 4,
 "nbformat_minor": 2
}
