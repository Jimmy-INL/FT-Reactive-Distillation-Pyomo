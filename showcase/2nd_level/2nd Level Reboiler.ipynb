{
 "cells": [
  {
   "cell_type": "markdown",
   "metadata": {
    "slideshow": {
     "slide_type": "slide"
    }
   },
   "source": [
    "# 2nd Level Model Structure: Reboiler"
   ]
  },
  {
   "cell_type": "code",
   "execution_count": 1,
   "metadata": {},
   "outputs": [],
   "source": [
    "import sys\n",
    "import os\n",
    "import pickle\n",
    "sys.path.append(os.path.abspath('..'))\n",
    "sys.path.append(os.path.abspath('../..'))\n",
    "import numpy as np\n",
    "from matplotlib import pyplot as plt"
   ]
  },
  {
   "cell_type": "code",
   "execution_count": 2,
   "metadata": {
    "slideshow": {
     "slide_type": "fragment"
    }
   },
   "outputs": [],
   "source": [
    "from pyomo import environ as pe\n",
    "from global_sets.component import m\n",
    "from utility.display_utility import trans_product_mole, trans_product_mass\n",
    "from utility.model_utility import add_dual, update_dual, check_DOF, augmented_objective, add_solver,\\\n",
    "                                    select_MPCC, which_MPCC\n",
    "\n",
    "# stage construction rules\n",
    "from physics.energy.energy_reboiler import energy_block_rule\n",
    "from physics.VLE.VLE_reboiler_MPCC_P import VLE_block_rule\n",
    "from physics.MPCC.MPCC_P import P_NCP_block_rule, P_Reg_block_rule, P_pf_block_rule\n",
    "\n",
    "model = pe.ConcreteModel()"
   ]
  },
  {
   "cell_type": "markdown",
   "metadata": {
    "slideshow": {
     "slide_type": "subslide"
    }
   },
   "source": [
    "# Global Sets (Inlet / Outlet)"
   ]
  },
  {
   "cell_type": "code",
   "execution_count": 3,
   "metadata": {
    "slideshow": {
     "slide_type": "fragment"
    }
   },
   "outputs": [],
   "source": [
    "model.inlet = pe.Set(initialize=['in'])\n",
    "model.outlet = pe.Set(initialize=['out','P'])\n",
    "model.stream = model.inlet | model.outlet"
   ]
  },
  {
   "cell_type": "markdown",
   "metadata": {
    "slideshow": {
     "slide_type": "subslide"
    }
   },
   "source": [
    "# Global Variables"
   ]
  },
  {
   "cell_type": "code",
   "execution_count": 4,
   "metadata": {
    "slideshow": {
     "slide_type": "fragment"
    }
   },
   "outputs": [],
   "source": [
    "# Tray Inlet/Outlet Variable\n",
    "model.x_ = pe.Var(model.inlet,m.COMP_TOTAL,within=pe.NonNegativeReals)\n",
    "model.y_ = pe.Var(model.inlet,m.COMP_TOTAL,within=pe.NonNegativeReals)\n",
    "model.x = pe.Var(m.COMP_TOTAL,within=pe.NonNegativeReals)\n",
    "model.y = pe.Var(m.COMP_TOTAL,within=pe.NonNegativeReals)\n",
    "model.z = pe.Var(m.COMP_FEED,within=pe.NonNegativeReals)\n",
    "\n",
    "model.L = pe.Var(model.stream,within=pe.NonNegativeReals)\n",
    "model.V = pe.Var(model.stream,within=pe.NonNegativeReals)\n",
    "model.F = pe.Var(within=pe.NonNegativeReals)\n",
    "\n",
    "model.H_L_ = pe.Var(model.inlet,within=pe.Reals)\n",
    "model.H_V_ = pe.Var(model.inlet,within=pe.Reals)\n",
    "model.H_L = pe.Var(within=pe.Reals)\n",
    "model.H_V = pe.Var(within=pe.Reals)\n",
    "model.H_F = pe.Var(within=pe.Reals)\n",
    "\n",
    "# State Variable\n",
    "model.T = pe.Var(within=pe.NonNegativeReals,bounds=(200+273.15,350+273.15)) # K\n",
    "model.T_F = pe.Var(within=pe.NonNegativeReals) # K\n",
    "model.P = pe.Var(within=pe.NonNegativeReals,bounds=(10,30)) # Bar\n",
    "\n",
    "model.f_V = pe.Var(m.COMP_TOTAL,within=pe.NonNegativeReals,initialize=1e-20)\n",
    "model.f_L = pe.Var(m.COMP_TOTAL,within=pe.NonNegativeReals,initialize=1e-20)\n",
    "\n",
    "model.Q_main = pe.Var(within=pe.Reals) # MW"
   ]
  },
  {
   "cell_type": "markdown",
   "metadata": {
    "slideshow": {
     "slide_type": "slide"
    }
   },
   "source": [
    "# Construct Individual Blocks"
   ]
  },
  {
   "cell_type": "code",
   "execution_count": 5,
   "metadata": {
    "slideshow": {
     "slide_type": "subslide"
    }
   },
   "outputs": [
    {
     "name": "stdout",
     "output_type": "stream",
     "text": [
      "> Importing Energy Blocks......\n",
      "> Adding the following local variable:\n",
      "--------------------------------------------------\n",
      "| energy_block.dH_F\n",
      "| energy_block.dH_V\n",
      "| energy_block.dH_L\n",
      "| energy_block.dH_vap\n",
      "--------------------------------------------------\n",
      "\n"
     ]
    }
   ],
   "source": [
    "model.energy_block = pe.Block(rule=energy_block_rule)"
   ]
  },
  {
   "cell_type": "code",
   "execution_count": 6,
   "metadata": {
    "scrolled": false,
    "slideshow": {
     "slide_type": "subslide"
    }
   },
   "outputs": [
    {
     "name": "stdout",
     "output_type": "stream",
     "text": [
      "> Importing VLE Blocks......\n",
      "> Adding the following local variable:\n",
      "--------------------------------------------------\n",
      "| VLE_block.P_VLE\n",
      "| VLE_block.n_ave\n",
      "| VLE_block.n_ave_cal\n",
      "| VLE_block.Hen\n",
      "| VLE_block.Hen0\n",
      "| VLE_block.gamma\n",
      "| VLE_block.P_sat\n",
      "| VLE_block.P_sat_Y\n",
      "| VLE_block.P_sat_dY_inf\n",
      "| VLE_block.P_sat_dY0\n",
      "| VLE_block.Hen_ref\n",
      "| VLE_block.Hen0_ref\n",
      "| VLE_block.gamma_ref\n",
      "| VLE_block.V_L\n",
      "| VLE_block.V_L_dY_inf\n",
      "| VLE_block.V_L_dY0\n",
      "| VLE_block.poynting\n",
      "--------------------------------------------------\n",
      "\n"
     ]
    }
   ],
   "source": [
    "model.VLE_block = pe.Block(rule=VLE_block_rule)"
   ]
  },
  {
   "cell_type": "markdown",
   "metadata": {
    "slideshow": {
     "slide_type": "slide"
    }
   },
   "source": [
    "# Standard MESH Equations"
   ]
  },
  {
   "cell_type": "markdown",
   "metadata": {
    "slideshow": {
     "slide_type": "subslide"
    }
   },
   "source": [
    "## Mass Balance"
   ]
  },
  {
   "cell_type": "markdown",
   "metadata": {
    "slideshow": {
     "slide_type": "fragment"
    }
   },
   "source": [
    "\\begin{equation}\n",
    "Fz_{i}+\\sum_{s\\in{inlet}}L_{s}x'_{i,s}+\\sum_{s\\in{inlet}}V_{s}y'_{i,s}-\\sum_{s\\in{outlet}}L_{s}x_{i,s}+\\sum_{s\\in{ouelet}}V_{s}y_{i,s}+R_{i} = 0 \\\\\n",
    "i = 1,...NC\n",
    "\\end{equation}"
   ]
  },
  {
   "cell_type": "code",
   "execution_count": 7,
   "metadata": {
    "slideshow": {
     "slide_type": "fragment"
    }
   },
   "outputs": [],
   "source": [
    "def mass_balance_main_rule(model,i):\n",
    "    if i in m.COMP_FEED:\n",
    "        return model.F*model.z[i] + sum(model.L[s]*model.x_[s,i] + model.V[s]*model.y_[s,i] for s in model.inlet)\\\n",
    "        - sum(model.L[s]*model.x[i] + model.V[s]*model.y[i] for s in model.outlet) == 0\n",
    "    else:\n",
    "        return sum(model.L[s]*model.x_[s,i] + model.V[s]*model.y_[s,i] for s in model.inlet)\\\n",
    "        - sum(model.L[s]*model.x[i] + model.V[s]*model.y[i] for s in model.outlet) == 0\n",
    "model.mass_balance_main_con = pe.Constraint(m.COMP_TOTAL,rule=mass_balance_main_rule)"
   ]
  },
  {
   "cell_type": "markdown",
   "metadata": {
    "slideshow": {
     "slide_type": "subslide"
    }
   },
   "source": [
    "## Equilibrium"
   ]
  },
  {
   "cell_type": "markdown",
   "metadata": {
    "slideshow": {
     "slide_type": "fragment"
    }
   },
   "source": [
    "\\begin{align}\n",
    "&f_{i,V} = f_{i,L} \\\\\n",
    "&i = 1,...NC\n",
    "\\end{align}"
   ]
  },
  {
   "cell_type": "code",
   "execution_count": 8,
   "metadata": {
    "slideshow": {
     "slide_type": "fragment"
    }
   },
   "outputs": [],
   "source": [
    "def VL_equil_rule(model,i):\n",
    "    return model.f_V[i] == model.f_L[i]\n",
    "model.VL_equil_con = pe.Constraint(m.COMP_TOTAL,rule=VL_equil_rule)"
   ]
  },
  {
   "cell_type": "markdown",
   "metadata": {},
   "source": [
    "# MPCC - P-Pspec"
   ]
  },
  {
   "cell_type": "code",
   "execution_count": 9,
   "metadata": {},
   "outputs": [
    {
     "name": "stdout",
     "output_type": "stream",
     "text": [
      "> Importing MPCC_P_pf Blocks......\n",
      "> Adding the following local variable:\n",
      "--------------------------------------------------\n",
      "| MPCC_P_pf.s_L\n",
      "| MPCC_P_pf.s_V\n",
      "| MPCC_P_pf.pf\n",
      "| MPCC_P_pf.rho\n",
      "--------------------------------------------------\n",
      "> Spliting pressure used in VLE\n",
      "Deleted original P_equal constraint\n",
      "\n",
      "> Importing MPCC_P_NCP Blocks......\n",
      "> Adding the following local variable:\n",
      "--------------------------------------------------\n",
      "| MPCC_P_NCP.s_L\n",
      "| MPCC_P_NCP.s_V\n",
      "| MPCC_P_NCP.epi\n",
      "--------------------------------------------------\n",
      "> Adding complementarity constraint, spliting pressure used in VLE\n",
      "No constraint to delete\n",
      "\n",
      "> Importing MPCC_P_Reg Blocks......\n",
      "> Adding the following local variable:\n",
      "--------------------------------------------------\n",
      "| MPCC_P_Reg.s_L\n",
      "| MPCC_P_Reg.s_V\n",
      "| MPCC_P_Reg.epi\n",
      "--------------------------------------------------\n",
      "> Adding complementarity constraint, spliting pressure used in VLE\n",
      "No constraint to delete\n",
      "\n"
     ]
    }
   ],
   "source": [
    "model.MPCC_P_pf = pe.Block(rule = P_pf_block_rule)\n",
    "model.MPCC_P_NCP = pe.Block(rule = P_NCP_block_rule)\n",
    "model.MPCC_P_Reg = pe.Block(rule = P_Reg_block_rule)"
   ]
  },
  {
   "cell_type": "code",
   "execution_count": 10,
   "metadata": {},
   "outputs": [
    {
     "name": "stdout",
     "output_type": "stream",
     "text": [
      "> Selected MPCC: MPCC_P_pf\n",
      "s_L:  0\n",
      "s_V:  0\n",
      "\n"
     ]
    }
   ],
   "source": [
    "select_MPCC(model,'pf')"
   ]
  },
  {
   "cell_type": "markdown",
   "metadata": {
    "slideshow": {
     "slide_type": "subslide"
    }
   },
   "source": [
    "## Summation"
   ]
  },
  {
   "cell_type": "markdown",
   "metadata": {
    "slideshow": {
     "slide_type": "fragment"
    }
   },
   "source": [
    "\\begin{equation}\n",
    "\\sum_ix_{i} = \\sum_iy_{i} \\\\\n",
    "F + L_{in} + V_{in} + R = L_{out} + V_{out}\n",
    "\\end{equation}"
   ]
  },
  {
   "cell_type": "code",
   "execution_count": 11,
   "metadata": {
    "slideshow": {
     "slide_type": "fragment"
    }
   },
   "outputs": [],
   "source": [
    "def summation_x_y_rule(model):\n",
    "    return sum(model.x[i] for i in m.COMP_TOTAL) == sum(model.y[i] for i in m.COMP_TOTAL)\n",
    "model.summation_x_y_con = pe.Constraint(rule=summation_x_y_rule)\n",
    "\n",
    "def summation_total_mass_rule(model):\n",
    "    return model.F + sum(model.L[s] + model.V[s] for s in model.inlet)\\\n",
    "            - sum(model.L[s] + model.V[s] for s in model.outlet) == 0\n",
    "model.summation_total_mass_con = pe.Constraint(rule=summation_total_mass_rule)"
   ]
  },
  {
   "cell_type": "markdown",
   "metadata": {
    "slideshow": {
     "slide_type": "subslide"
    }
   },
   "source": [
    "## Energy Balance"
   ]
  },
  {
   "cell_type": "markdown",
   "metadata": {
    "slideshow": {
     "slide_type": "fragment"
    }
   },
   "source": [
    "\\begin{equation}\n",
    "F H_f+\\sum_{s\\in{inlet}}L_{s}H_{l,s}+\\sum_{s\\in{inlet}}V_{s}H_{v,s}-\\sum_{s\\in{outlet}}L_{s}H_{l,s}-\\sum_{s\\in{outlet}}V_{s}H_{v,s}+Q = 0\n",
    "\\end{equation}"
   ]
  },
  {
   "cell_type": "code",
   "execution_count": 12,
   "metadata": {
    "slideshow": {
     "slide_type": "fragment"
    }
   },
   "outputs": [],
   "source": [
    "def heat_balance_main_rule(model):\n",
    "    return model.F*model.H_F + sum(model.L[s]*model.H_L_[s] + model.V[s]*model.H_V_[s] for s in model.inlet) \\\n",
    "            + model.Q_main - sum(model.L[s]*model.H_L + model.V[s]*model.H_V for s in model.outlet) == 0\n",
    "model.heat_balance_main_con = pe.Constraint(rule=heat_balance_main_rule)"
   ]
  },
  {
   "cell_type": "markdown",
   "metadata": {
    "slideshow": {
     "slide_type": "slide"
    }
   },
   "source": [
    "# Testing"
   ]
  },
  {
   "cell_type": "code",
   "execution_count": 13,
   "metadata": {
    "slideshow": {
     "slide_type": "fragment"
    }
   },
   "outputs": [
    {
     "name": "stdout",
     "output_type": "stream",
     "text": [
      "Created the follow pyomo suffixes:\n",
      "ipopt_zL_out, ipopt_zU_out, ipopt_zL_in, ipopt_zU_in, dual\n"
     ]
    }
   ],
   "source": [
    "add_dual(pe,model)"
   ]
  },
  {
   "cell_type": "markdown",
   "metadata": {},
   "source": [
    "# Load a flash liquid composition as feed"
   ]
  },
  {
   "cell_type": "code",
   "execution_count": 14,
   "metadata": {},
   "outputs": [],
   "source": [
    "with open('../../saved_solutions/reactive_flash_MPCC_P_200C.pickle', 'rb') as f:\n",
    "    C200 = pickle.load(f)"
   ]
  },
  {
   "cell_type": "markdown",
   "metadata": {
    "slideshow": {
     "slide_type": "fragment"
    }
   },
   "source": [
    "## Fixing In/Product Redundent Flow"
   ]
  },
  {
   "cell_type": "code",
   "execution_count": 15,
   "metadata": {
    "slideshow": {
     "slide_type": "fragment"
    }
   },
   "outputs": [],
   "source": [
    "model.y_.fix(0)\n",
    "for i in m.COMP_TOTAL:\n",
    "    model.x_['in',i].fix(C200.Solution.Variable['x[{}]'.format(i)]['Value'])\n",
    "\n",
    "model.L['in'].fix(1)\n",
    "# model.L['in'].setlb(1)\n",
    "# model.L['in'].setub(1e-8)\n",
    "\n",
    "model.L['out'].fix(0)\n",
    "model.V['in'].fix(0)\n",
    "model.V['P'].fix(0)\n",
    "model.H_V_.fix(0)\n",
    "model.H_L_.fix(C200.Solution.Variable['H_L']['Value'])"
   ]
  },
  {
   "cell_type": "markdown",
   "metadata": {
    "slideshow": {
     "slide_type": "subslide"
    }
   },
   "source": [
    "## Fixing Model Parameters"
   ]
  },
  {
   "cell_type": "code",
   "execution_count": 16,
   "metadata": {
    "slideshow": {
     "slide_type": "fragment"
    }
   },
   "outputs": [],
   "source": [
    "model.P.fix(20)\n",
    "model.T_F.fix(200+273.15)\n",
    "model.F.fix(0)\n",
    "model.z.fix(0)\n",
    "model.VLE_block.n_ave.fix(20)\n",
    "# model.Q_main.fix(0)"
   ]
  },
  {
   "cell_type": "markdown",
   "metadata": {
    "slideshow": {
     "slide_type": "subslide"
    }
   },
   "source": [
    "## Fix T or to fix Q? we have found that Maximize against an upper bound is most reliable"
   ]
  },
  {
   "cell_type": "code",
   "execution_count": 17,
   "metadata": {
    "slideshow": {
     "slide_type": "fragment"
    }
   },
   "outputs": [],
   "source": [
    "model.T.setub(350+273.15)"
   ]
  },
  {
   "cell_type": "code",
   "execution_count": 18,
   "metadata": {},
   "outputs": [
    {
     "name": "stdout",
     "output_type": "stream",
     "text": [
      "Active Equality Constraints:\t 957\n",
      "Active Inequality Constraints:\t 1\n",
      "Active Variables:\t\t 1132\n",
      "Fixed Variables:\t\t 171\n",
      "DOF:\t\t\t\t 4\n"
     ]
    }
   ],
   "source": [
    "check_DOF(pe,model)"
   ]
  },
  {
   "cell_type": "code",
   "execution_count": 19,
   "metadata": {
    "slideshow": {
     "slide_type": "fragment"
    }
   },
   "outputs": [
    {
     "name": "stdout",
     "output_type": "stream",
     "text": [
      "------------------------------\n",
      "> Obj = maximize\n",
      "> T - MPCC_P_pf.pf\n",
      "------------------------------\n"
     ]
    }
   ],
   "source": [
    "model.obj = augmented_objective(pe,model, expr = model.T, sense = pe.maximize)"
   ]
  },
  {
   "cell_type": "code",
   "execution_count": 20,
   "metadata": {
    "scrolled": false,
    "slideshow": {
     "slide_type": "fragment"
    }
   },
   "outputs": [],
   "source": [
    "opt = add_solver(pe, max_iter=500, warm_start= False, output = True)"
   ]
  },
  {
   "cell_type": "code",
   "execution_count": 21,
   "metadata": {
    "scrolled": false
   },
   "outputs": [
    {
     "name": "stdout",
     "output_type": "stream",
     "text": [
      "Ipopt 3.12.8: print_user_options=yes\n",
      "linear_scaling_on_demand =no\n",
      "max_iter=500\n",
      "output_file=./tmp/ipopt_output_tmp.output\n",
      "linear_solver=ma86\n",
      "linear_system_scaling =mc19\n",
      "\n",
      "\n",
      "List of user-set options:\n",
      "\n",
      "                                    Name   Value                used\n",
      "                linear_scaling_on_demand = no                    yes\n",
      "                           linear_solver = ma86                  yes\n",
      "                   linear_system_scaling = mc19                  yes\n",
      "                                max_iter = 500                   yes\n",
      "                             output_file = ./tmp/ipopt_output_tmp.output  yes\n",
      "                      print_user_options = yes                   yes\n",
      "\n",
      "******************************************************************************\n",
      "This program contains Ipopt, a library for large-scale nonlinear optimization.\n",
      " Ipopt is released as open source code under the Eclipse Public License (EPL).\n",
      "         For more information visit http://projects.coin-or.org/Ipopt\n",
      "******************************************************************************\n",
      "\n",
      "This is Ipopt version 3.12.8, running with linear solver ma86.\n",
      "\n",
      "Number of nonzeros in equality constraint Jacobian...:     3224\n",
      "Number of nonzeros in inequality constraint Jacobian.:        5\n",
      "Number of nonzeros in Lagrangian Hessian.............:     4317\n",
      "\n",
      "Total number of variables............................:      961\n",
      "                     variables with only lower bounds:      325\n",
      "                variables with lower and upper bounds:      628\n",
      "                     variables with only upper bounds:        0\n",
      "Total number of equality constraints.................:      957\n",
      "Total number of inequality constraints...............:        1\n",
      "        inequality constraints with only lower bounds:        0\n",
      "   inequality constraints with lower and upper bounds:        0\n",
      "        inequality constraints with only upper bounds:        1\n",
      "\n",
      "iter    objective    inf_pr   inf_du lg(mu)  ||d||  lg(rg) alpha_du alpha_pr  ls\n",
      "   0 -4.7464000e+02 1.37e+04 1.00e+00  -1.0 0.00e+00    -  0.00e+00 0.00e+00   0\n",
      "   1 -4.7426067e+02 1.37e+04 4.25e+02  -1.0 6.14e+04    -  5.53e-05 9.75e-04f  1\n",
      "   2 -4.7436816e+02 1.37e+04 3.72e+03  -1.0 6.87e+03   0.0 3.97e-04 1.04e-03f  1\n",
      "   3r-4.7436816e+02 1.37e+04 9.99e+02   4.1 0.00e+00   1.3 0.00e+00 3.92e-07R  4\n",
      "   4r-4.7436800e+02 1.37e+04 6.21e+03   4.1 5.70e+05    -  1.32e-03 9.94e-08f  1\n",
      "   5r-5.3862031e+02 5.13e+02 6.11e+03   2.7 4.72e+05    -  4.20e-04 2.18e-02f  1\n",
      "   6 -5.3798167e+02 5.09e+02 2.01e+01  -1.0 1.28e+04    -  3.54e-03 8.06e-03h  1\n",
      "   7 -5.3764063e+02 5.06e+02 1.65e+01  -1.0 1.16e+04    -  6.31e-03 4.36e-03h  1\n",
      "   8 -5.3674843e+02 5.00e+02 1.66e+01  -1.0 1.05e+04    -  1.27e-02 1.22e-02f  1\n",
      "   9 -5.3673185e+02 5.00e+02 1.65e+01  -1.0 6.95e+03    -  9.19e-04 3.18e-04h  1\n",
      "iter    objective    inf_pr   inf_du lg(mu)  ||d||  lg(rg) alpha_du alpha_pr  ls\n",
      "  10 -5.3551182e+02 4.88e+02 6.73e+01  -1.0 6.74e+03    -  1.23e-02 2.44e-02f  1\n",
      "  11 -5.3550047e+02 4.88e+02 3.22e+03  -1.0 2.50e+03    -  2.39e-02 4.16e-04h  1\n",
      "  12 -5.3557886e+02 4.87e+02 3.16e+04  -1.0 1.04e+04    -  1.52e-02 1.81e-03h  1\n",
      "  13 -5.3559366e+02 4.87e+02 5.34e+04  -1.0 1.10e+04    -  2.03e-04 3.29e-04h  1\n",
      "  14 -5.3605779e+02 4.83e+02 7.63e+04  -1.0 1.46e+04    -  1.05e-04 7.08e-03f  1\n",
      "  15 -5.3760838e+02 4.70e+02 7.41e+04  -1.0 1.37e+04    -  9.91e-03 2.66e-02f  1\n",
      "  16 -5.3763018e+02 4.70e+02 7.41e+04  -1.0 1.09e+04    -  2.08e-02 6.36e-04h  1\n",
      "  17 -5.3866279e+02 4.56e+02 7.19e+04  -1.0 1.11e+04    -  1.99e-03 2.95e-02f  1\n",
      "  18 -5.3867028e+02 4.56e+02 7.21e+04  -1.0 9.27e+03    -  9.74e-02 4.44e-04h  1\n",
      "  19r-5.3867028e+02 4.56e+02 1.00e+03   2.7 0.00e+00    -  0.00e+00 4.68e-07R  5\n",
      "iter    objective    inf_pr   inf_du lg(mu)  ||d||  lg(rg) alpha_du alpha_pr  ls\n",
      "  20r-5.3859778e+02 4.56e+02 1.00e+03   2.7 1.79e+05    -  1.04e-04 1.19e-04f  1\n",
      "  21r-5.3847355e+02 4.55e+02 1.28e+03   2.7 1.59e+05    -  3.10e-03 2.46e-04f  1\n",
      "  22r-5.3823830e+02 4.43e+02 1.05e+03   2.7 1.08e+05    -  2.57e-03 4.59e-03f  1\n",
      "  23r-5.3818095e+02 4.42e+02 3.54e+03   2.7 4.09e+01   2.0 3.10e-02 1.03e-02f  1\n",
      "  24r-5.3769934e+02 4.42e+02 4.38e+03   2.7 9.72e+01   1.5 6.65e-02 5.67e-02f  1\n",
      "  25r-5.3731618e+02 4.39e+02 3.89e+03   2.0 1.13e+02   1.0 4.85e-02 5.69e-02f  1\n",
      "  26r-5.3746388e+02 4.38e+02 6.96e+03   2.0 3.06e+02   0.6 6.56e-02 6.28e-03f  1\n",
      "  27r-5.3896586e+02 3.95e+02 7.00e+03   2.0 3.73e+04    -  4.20e-03 7.17e-03f  1\n",
      "  28 -5.3257653e+02 2.73e+02 8.82e+02  -1.0 3.39e+03    -  8.70e-03 3.10e-01h  1\n",
      "  29 -5.3250002e+02 2.60e+02 8.75e+02  -1.0 2.99e+02    -  1.64e-01 4.48e-02h  1\n",
      "iter    objective    inf_pr   inf_du lg(mu)  ||d||  lg(rg) alpha_du alpha_pr  ls\n",
      "  30 -5.3251818e+02 2.59e+02 1.08e+04  -1.0 6.87e+02    -  4.38e-01 5.57e-03h  1\n",
      "  31 -5.3290599e+02 2.32e+02 4.88e+04  -1.0 7.78e+02    -  4.66e-01 1.05e-01h  1\n",
      "  32 -5.3290558e+02 2.31e+02 2.93e+06  -1.0 2.32e+02    -  6.70e-02 1.44e-03h  1\n",
      "  33 -5.3299049e+02 2.30e+02 8.25e+05  -1.0 2.55e+03    -  6.09e-05 6.09e-03f  1\n",
      "  34 -5.3335272e+02 2.24e+02 8.87e+05  -1.0 2.53e+03    -  2.30e-02 2.62e-02f  1\n",
      "  35 -5.3336336e+02 2.24e+02 2.77e+07  -1.0 2.40e+03    -  4.70e-02 8.18e-04h  1\n",
      "  36 -5.3336348e+02 2.24e+02 7.51e+11  -1.0 1.03e+03    -  6.22e-01 2.40e-05h  1\n",
      "  37r-5.3336348e+02 2.24e+02 1.00e+03   2.3 0.00e+00    -  0.00e+00 2.60e-07R  4\n",
      "  38r-5.3333543e+02 1.92e+02 1.01e+03   2.3 3.27e+04    -  7.12e-03 1.76e-03f  1\n",
      "  39 -5.3379032e+02 1.66e+02 3.08e+03  -1.0 2.50e+02    -  1.34e-02 1.34e-01h  1\n",
      "iter    objective    inf_pr   inf_du lg(mu)  ||d||  lg(rg) alpha_du alpha_pr  ls\n",
      "  40 -5.3260716e+02 1.02e+02 1.77e+03  -1.0 2.49e+02    -  2.72e-01 3.87e-01h  1\n",
      "  41 -5.3334036e+02 2.93e+01 4.73e+03  -1.0 1.02e+02    -  5.10e-01 7.53e-01h  1\n",
      "  42 -5.3449466e+02 7.72e+00 1.83e+04  -1.0 4.34e+01    -  2.69e-01 8.21e-01h  1\n",
      "  43 -5.3621486e+02 2.95e-01 1.78e+05  -1.0 1.17e+02    -  9.13e-01 9.87e-01h  1\n",
      "  44 -5.3748732e+02 7.87e-01 3.43e+07  -1.0 2.58e+03    -  5.82e-01 7.85e-02f  1\n",
      "  45 -5.3953840e+02 2.05e+00 8.47e+07  -1.0 6.79e+02    -  1.89e-01 4.96e-01f  1\n",
      "  46 -5.3982994e+02 2.04e+00 8.95e+07  -1.0 2.54e+03    -  7.55e-01 1.83e-02h  1\n",
      "  47 -5.4548193e+02 5.91e+00 1.28e+07  -1.0 5.41e+02    -  1.62e-01 1.00e+00F  1\n",
      "  48 -5.4813841e+02 8.28e+00 1.44e+07  -1.0 2.69e+03    -  9.06e-01 1.86e-01f  1\n",
      "  49 -5.6751893e+02 1.21e+02 2.85e+06  -1.0 2.65e+03    -  3.30e-01 1.00e+00F  1\n",
      "iter    objective    inf_pr   inf_du lg(mu)  ||d||  lg(rg) alpha_du alpha_pr  ls\n",
      "  50 -5.8257187e+02 1.31e+02 2.56e+06  -1.0 5.06e+03    -  1.07e-01 4.91e-01f  1\n",
      "  51 -5.8690146e+02 1.81e+01 2.12e+05  -1.0 1.42e+03    -  8.39e-01 1.00e+00f  1\n",
      "  52 -6.0162999e+02 1.16e+02 5.32e+04  -1.0 6.80e+03    -  3.64e-01 4.68e-01f  1\n",
      "  53 -6.1014966e+02 8.70e+01 1.40e+04  -1.0 3.60e+03    -  7.29e-01 5.51e-01f  1\n",
      "  54 -6.1453054e+02 2.80e+01 1.10e+04  -1.0 1.42e+03    -  9.96e-01 7.93e-01h  1\n",
      "  55 -6.1487793e+02 1.14e-01 6.90e+03  -1.0 1.42e+02    -  8.20e-01 1.00e+00h  1\n",
      "  56 -6.1498199e+02 7.68e-03 7.11e+00  -1.0 2.98e+01    -  1.00e+00 1.00e+00h  1\n",
      "  57 -6.1496526e+02 1.50e-04 4.95e-03  -1.0 4.13e+00    -  1.00e+00 1.00e+00h  1\n",
      "  58 -6.1853300e+02 4.51e+00 1.15e+04  -2.5 1.39e+03    -  7.45e-01 5.17e-01f  1\n",
      "  59 -6.1866911e+02 4.44e+00 1.83e+04  -2.5 1.97e+03    -  7.82e-01 1.70e-02h  1\n",
      "iter    objective    inf_pr   inf_du lg(mu)  ||d||  lg(rg) alpha_du alpha_pr  ls\n",
      "  60 -6.2051975e+02 2.42e+00 2.92e+03  -2.5 5.33e+02    -  8.46e-01 8.07e-01h  1\n",
      "  61 -6.2131062e+02 2.02e+00 2.09e+03  -2.5 6.61e+02    -  1.00e+00 3.08e-01h  1\n",
      "  62 -6.2313617e+02 2.36e+00 5.18e+02  -2.5 6.24e+02    -  1.00e+00 7.56e-01f  1\n",
      "  63 -6.2314134e+02 2.35e+00 5.26e+02  -2.5 4.12e+02    -  1.23e-01 3.27e-03h  1\n",
      "  64 -6.2313467e+02 8.25e-06 5.31e+01  -2.5 1.36e+00    -  2.66e-02 1.00e+00f  1\n",
      "  65 -6.2313546e+02 3.70e-07 1.32e-05  -2.5 2.11e-01    -  1.00e+00 1.00e+00h  1\n",
      "  66 -6.2314892e+02 5.20e-06 6.09e+01  -3.8 8.38e-01    -  1.00e+00 9.40e-01f  1\n",
      "  67 -6.2314925e+02 1.27e-08 8.57e-04  -3.8 3.91e-02    -  1.00e+00 1.00e+00f  1\n",
      "  68 -6.2315000e+02 1.26e-08 3.34e-03  -5.7 3.89e-02    -  1.00e+00 1.00e+00f  1\n",
      "  69 -6.2315000e+02 2.11e-10 8.26e-08  -5.7 2.28e-04    -  1.00e+00 1.00e+00h  1\n",
      "iter    objective    inf_pr   inf_du lg(mu)  ||d||  lg(rg) alpha_du alpha_pr  ls\n",
      "  70 -6.2315001e+02 2.15e-10 6.29e-03  -8.6 4.77e-04    -  1.00e+00 9.91e-01h  1\n",
      "  71 -6.2315001e+02 2.05e-10 1.43e-07  -8.6 4.14e-06    -  1.00e+00 1.00e+00f  1\n",
      "  72 -6.2315001e+02 3.64e-12 7.97e-10  -8.6 6.65e-09    -  1.00e+00 1.00e+00h  1\n",
      "\n",
      "Number of Iterations....: 72\n",
      "\n",
      "                                   (scaled)                 (unscaled)\n",
      "Objective...............:  -6.2315000623582932e+02   -6.2315000623582932e+02\n",
      "Dual infeasibility......:   7.9690693790931910e-10    7.9690693790931910e-10\n",
      "Constraint violation....:   2.9897460212784098e-12    3.6379788070917130e-12\n"
     ]
    },
    {
     "name": "stdout",
     "output_type": "stream",
     "text": [
      "Complementarity.........:   2.9477150684268485e-09    2.9477150684268485e-09\n",
      "Overall NLP error.......:   2.9477150684268485e-09    2.9477150684268485e-09\n",
      "\n",
      "\n",
      "Number of objective function evaluations             = 88\n",
      "Number of objective gradient evaluations             = 65\n",
      "Number of equality constraint evaluations            = 88\n",
      "Number of inequality constraint evaluations          = 88\n",
      "Number of equality constraint Jacobian evaluations   = 76\n",
      "Number of inequality constraint Jacobian evaluations = 76\n",
      "Number of Lagrangian Hessian evaluations             = 72\n",
      "Total CPU secs in IPOPT (w/o function evaluations)   =      2.693\n",
      "Total CPU secs in NLP function evaluations           =      0.158\n",
      "\n",
      "EXIT: Optimal Solution Found.\n"
     ]
    }
   ],
   "source": [
    "results = opt.solve(model,tee=True)\n",
    "update_dual(pe,model)"
   ]
  },
  {
   "cell_type": "code",
   "execution_count": 22,
   "metadata": {
    "scrolled": true,
    "slideshow": {
     "slide_type": "skip"
    }
   },
   "outputs": [
    {
     "data": {
      "text/plain": [
       "143.42237536488238"
      ]
     },
     "execution_count": 22,
     "metadata": {},
     "output_type": "execute_result"
    }
   ],
   "source": [
    "model.Q_main.value"
   ]
  },
  {
   "cell_type": "code",
   "execution_count": 23,
   "metadata": {},
   "outputs": [
    {
     "data": {
      "text/plain": [
       "1"
      ]
     },
     "execution_count": 23,
     "metadata": {},
     "output_type": "execute_result"
    }
   ],
   "source": [
    "model.L['in'].value"
   ]
  },
  {
   "cell_type": "code",
   "execution_count": 24,
   "metadata": {
    "slideshow": {
     "slide_type": "skip"
    }
   },
   "outputs": [
    {
     "data": {
      "text/plain": [
       "623.15"
      ]
     },
     "execution_count": 24,
     "metadata": {},
     "output_type": "execute_result"
    }
   ],
   "source": [
    "model.T.value"
   ]
  },
  {
   "cell_type": "code",
   "execution_count": 25,
   "metadata": {},
   "outputs": [],
   "source": [
    "# model.solutions.store_to(results)\n",
    "# with open('../saved_solutions/reboiler_MPCC_P_pf_200C.pickle','wb') as f:\n",
    "#     pickle.dump(results,f)"
   ]
  },
  {
   "cell_type": "code",
   "execution_count": 27,
   "metadata": {
    "scrolled": false,
    "slideshow": {
     "slide_type": "slide"
    }
   },
   "outputs": [
    {
     "name": "stdout",
     "output_type": "stream",
     "text": [
      "Component\t\tLiquid: 0.9830\t\t\tVapor: 0.0170\t\t\tlog K\n",
      "------------------------------------------------------------------------------------------------------------\n",
      "H2         \t\t 0.6880%\t\t\t12.2326%\t\t\t1.2499\n",
      "CO         \t\t 1.0670%\t\t\t17.1752%\t\t\t1.2067\n",
      "CO2        \t\t 3.2077%\t\t\t33.6888%\t\t\t1.0213\n",
      "H2O        \t\t 3.2148%\t\t\t26.0693%\t\t\t0.9090\n",
      "C2H4       \t\t 0.0153%\t\t\t 0.1337%\t\t\t0.9403\n",
      "C3H6       \t\t 0.0414%\t\t\t 0.2180%\t\t\t0.7210\n",
      "C4H8       \t\t 0.0418%\t\t\t 0.2644%\t\t\t0.8011\n",
      "C5H10      \t\t 0.0692%\t\t\t 0.2418%\t\t\t0.5431\n",
      "C6H12      \t\t 0.1238%\t\t\t 0.2688%\t\t\t0.3368\n",
      "C7H14      \t\t 0.2062%\t\t\t 0.3003%\t\t\t0.1633\n",
      "C8H16      \t\t 0.3263%\t\t\t 0.3357%\t\t\t0.0124\n",
      "C9H18      \t\t 0.4941%\t\t\t 0.3730%\t\t\t-0.1221\n",
      "C10H20     \t\t 0.7173%\t\t\t 0.4089%\t\t\t-0.2441\n",
      "C11H22     \t\t 0.6346%\t\t\t 0.2794%\t\t\t-0.3562\n",
      "C12H24     \t\t 0.8395%\t\t\t 0.2908%\t\t\t-0.4605\n",
      "C13H26     \t\t 1.0541%\t\t\t 0.2914%\t\t\t-0.5584\n",
      "C14H28     \t\t 1.2540%\t\t\t 0.2802%\t\t\t-0.6509\n",
      "C15H30     \t\t 1.4166%\t\t\t 0.2585%\t\t\t-0.7389\n",
      "C16H32     \t\t 1.5282%\t\t\t 0.2297%\t\t\t-0.8230\n",
      "C17H34     \t\t 1.5869%\t\t\t 0.1980%\t\t\t-0.9038\n",
      "C18H36     \t\t 1.5996%\t\t\t 0.1668%\t\t\t-0.9818\n",
      "C19H38     \t\t 1.5774%\t\t\t 0.1383%\t\t\t-1.0573\n",
      "C20H40     \t\t 1.5313%\t\t\t 0.1134%\t\t\t-1.1305\n",
      "C1H4       \t\t 0.0140%\t\t\t 0.1530%\t\t\t1.0371\n",
      "C2H6       \t\t 0.0095%\t\t\t 0.0799%\t\t\t0.9243\n",
      "C3H8       \t\t 0.0105%\t\t\t 0.0620%\t\t\t0.7709\n",
      "C4H10      \t\t 0.0150%\t\t\t 0.0850%\t\t\t0.7526\n",
      "C5H12      \t\t 0.0454%\t\t\t 0.1450%\t\t\t0.5041\n",
      "C6H14      \t\t 0.0801%\t\t\t 0.1612%\t\t\t0.3036\n",
      "C7H16      \t\t 0.1324%\t\t\t 0.1802%\t\t\t0.1340\n",
      "C8H18      \t\t 0.2079%\t\t\t 0.2012%\t\t\t-0.0142\n",
      "C9H20      \t\t 0.3128%\t\t\t 0.2232%\t\t\t-0.1466\n",
      "C10H22     \t\t 0.4510%\t\t\t 0.2439%\t\t\t-0.2669\n",
      "C11H24     \t\t 1.0050%\t\t\t 0.4211%\t\t\t-0.3777\n",
      "C12H26     \t\t 1.3186%\t\t\t 0.4356%\t\t\t-0.4810\n",
      "C13H28     \t\t 1.6412%\t\t\t 0.4337%\t\t\t-0.5780\n",
      "C14H30     \t\t 1.9357%\t\t\t 0.4141%\t\t\t-0.6697\n",
      "C15H32     \t\t 2.1694%\t\t\t 0.3795%\t\t\t-0.7571\n",
      "C16H34     \t\t 2.3245%\t\t\t 0.3354%\t\t\t-0.8407\n",
      "C17H36     \t\t 2.4007%\t\t\t 0.2879%\t\t\t-0.9211\n",
      "C18H38     \t\t 2.4101%\t\t\t 0.2418%\t\t\t-0.9987\n",
      "C19H40     \t\t 2.3697%\t\t\t 0.2000%\t\t\t-1.0738\n",
      "C20H42     \t\t 2.2956%\t\t\t 0.1638%\t\t\t-1.1467\n",
      "C21H44     \t\t 3.6759%\t\t\t 0.2227%\t\t\t-1.2177\n",
      "C22H46     \t\t 3.5000%\t\t\t 0.1808%\t\t\t-1.2870\n",
      "C23H48     \t\t 3.3167%\t\t\t 0.1466%\t\t\t-1.3547\n",
      "C24H50     \t\t 3.1330%\t\t\t 0.1188%\t\t\t-1.4210\n",
      "C25H52     \t\t 2.9530%\t\t\t 0.0964%\t\t\t-1.4861\n",
      "C26H54     \t\t 2.7794%\t\t\t 0.0783%\t\t\t-1.5501\n",
      "C27H56     \t\t 2.6135%\t\t\t 0.0637%\t\t\t-1.6130\n",
      "C28H58     \t\t 2.4559%\t\t\t 0.0519%\t\t\t-1.6750\n",
      "C29H60     \t\t 2.3068%\t\t\t 0.0423%\t\t\t-1.7362\n",
      "C30H62     \t\t 2.1661%\t\t\t 0.0346%\t\t\t-1.7965\n",
      "C31H64     \t\t 2.0336%\t\t\t 0.0283%\t\t\t-1.8561\n",
      "C32H66     \t\t 1.9089%\t\t\t 0.0232%\t\t\t-1.9150\n",
      "C33H68     \t\t 1.7917%\t\t\t 0.0191%\t\t\t-1.9733\n",
      "C34H70     \t\t 1.6816%\t\t\t 0.0157%\t\t\t-2.0311\n",
      "C35H72     \t\t 1.5782%\t\t\t 0.0129%\t\t\t-2.0883\n",
      "C36H74     \t\t 1.4811%\t\t\t 0.0106%\t\t\t-2.1450\n",
      "C37H76     \t\t 1.3899%\t\t\t 0.0087%\t\t\t-2.2012\n",
      "C38H78     \t\t 1.3044%\t\t\t 0.0072%\t\t\t-2.2570\n",
      "C39H80     \t\t 1.2241%\t\t\t 0.0060%\t\t\t-2.3124\n",
      "C40H82     \t\t 1.1487%\t\t\t 0.0049%\t\t\t-2.3674\n",
      "C41H84     \t\t 1.0780%\t\t\t 0.0041%\t\t\t-2.4221\n",
      "C42H86     \t\t 1.0116%\t\t\t 0.0034%\t\t\t-2.4764\n",
      "C43H88     \t\t 0.9493%\t\t\t 0.0028%\t\t\t-2.5305\n",
      "C44H90     \t\t 0.8908%\t\t\t 0.0023%\t\t\t-2.5842\n",
      "C45H92     \t\t 0.8360%\t\t\t 0.0019%\t\t\t-2.6376\n",
      "C46H94     \t\t 0.7845%\t\t\t 0.0016%\t\t\t-2.6908\n",
      "C47H96     \t\t 0.7362%\t\t\t 0.0013%\t\t\t-2.7438\n",
      "C48H98     \t\t 0.6908%\t\t\t 0.0011%\t\t\t-2.7965\n",
      "C49H100    \t\t 0.6483%\t\t\t 0.0009%\t\t\t-2.8490\n",
      "C50H102    \t\t 0.6083%\t\t\t 0.0008%\t\t\t-2.9012\n",
      "C51H104    \t\t 0.5709%\t\t\t 0.0006%\t\t\t-2.9533\n",
      "C52H106    \t\t 0.5357%\t\t\t 0.0005%\t\t\t-3.0052\n",
      "C53H108    \t\t 0.5027%\t\t\t 0.0004%\t\t\t-3.0569\n",
      "C54H110    \t\t 0.4718%\t\t\t 0.0004%\t\t\t-3.1085\n",
      "C55H112    \t\t 0.4427%\t\t\t 0.0003%\t\t\t-3.1598\n",
      "C56H114    \t\t 0.4154%\t\t\t 0.0003%\t\t\t-3.2111\n"
     ]
    }
   ],
   "source": [
    "print('Component\\t\\tLiquid: {:.4f}\\t\\t\\tVapor: {:.4f}\\t\\t\\tlog K'.format(model.L['P'].value,model.V['out'].value))\n",
    "print('-'*108)\n",
    "for i in model.x:\n",
    "    print('{:10s}'.format(i),'\\t\\t{:8.4%}\\t\\t\\t{:8.4%}\\t\\t\\t{:.4f}'.format(model.x[i].value,model.y[i].value,np.log10(model.y[i].value/model.x[i].value)))"
   ]
  },
  {
   "cell_type": "markdown",
   "metadata": {
    "slideshow": {
     "slide_type": "slide"
    }
   },
   "source": [
    "# Iterative Solve for Data Analysis"
   ]
  },
  {
   "cell_type": "code",
   "execution_count": 28,
   "metadata": {},
   "outputs": [],
   "source": [
    "update_dual(pe,model)"
   ]
  },
  {
   "cell_type": "code",
   "execution_count": 29,
   "metadata": {},
   "outputs": [],
   "source": [
    "opt = add_solver(pe, max_iter=500, warm_start= True, output = True)"
   ]
  },
  {
   "cell_type": "code",
   "execution_count": 30,
   "metadata": {
    "scrolled": false,
    "slideshow": {
     "slide_type": "fragment"
    }
   },
   "outputs": [
    {
     "name": "stdout",
     "output_type": "stream",
     "text": [
      "Solved, Solution T = 623.15 K\t|\tV = 0.01695\t|\tL = 0.98305\t|\n",
      "Solved, Solution T = 618.15 K\t|\tV = 0.01587\t|\tL = 0.98413\t|\n",
      "Solved, Solution T = 613.15 K\t|\tV = 0.01486\t|\tL = 0.98514\t|\n",
      "Solved, Solution T = 608.15 K\t|\tV = 0.01390\t|\tL = 0.98610\t|\n",
      "Solved, Solution T = 603.15 K\t|\tV = 0.01299\t|\tL = 0.98701\t|\n",
      "Solved, Solution T = 598.15 K\t|\tV = 0.01212\t|\tL = 0.98788\t|\n",
      "Solved, Solution T = 593.15 K\t|\tV = 0.01131\t|\tL = 0.98869\t|\n",
      "Solved, Solution T = 588.15 K\t|\tV = 0.01053\t|\tL = 0.98947\t|\n",
      "Solved, Solution T = 583.15 K\t|\tV = 0.00979\t|\tL = 0.99021\t|\n",
      "Solved, Solution T = 578.15 K\t|\tV = 0.00908\t|\tL = 0.99092\t|\n",
      "Solved, Solution T = 573.15 K\t|\tV = 0.00841\t|\tL = 0.99159\t|\n",
      "Solved, Solution T = 568.15 K\t|\tV = 0.00777\t|\tL = 0.99223\t|\n",
      "Solved, Solution T = 563.15 K\t|\tV = 0.00715\t|\tL = 0.99285\t|\n",
      "Solved, Solution T = 558.15 K\t|\tV = 0.00657\t|\tL = 0.99343\t|\n",
      "Solved, Solution T = 553.15 K\t|\tV = 0.00601\t|\tL = 0.99399\t|\n",
      "Solved, Solution T = 548.15 K\t|\tV = 0.00548\t|\tL = 0.99452\t|\n",
      "Solved, Solution T = 543.15 K\t|\tV = 0.00497\t|\tL = 0.99503\t|\n",
      "Solved, Solution T = 538.15 K\t|\tV = 0.00448\t|\tL = 0.99552\t|\n",
      "Solved, Solution T = 533.15 K\t|\tV = 0.00402\t|\tL = 0.99598\t|\n",
      "Solved, Solution T = 528.15 K\t|\tV = 0.00358\t|\tL = 0.99642\t|\n",
      "Solved, Solution T = 523.15 K\t|\tV = 0.00316\t|\tL = 0.99684\t|\n",
      "Solved, Solution T = 518.15 K\t|\tV = 0.00276\t|\tL = 0.99724\t|\n",
      "Solved, Solution T = 513.15 K\t|\tV = 0.00238\t|\tL = 0.99762\t|\n",
      "Solved, Solution T = 508.15 K\t|\tV = 0.00202\t|\tL = 0.99798\t|\n",
      "Solved, Solution T = 503.15 K\t|\tV = 0.00168\t|\tL = 0.99832\t|\n",
      "Solved, Solution T = 498.15 K\t|\tV = 0.00135\t|\tL = 0.99865\t|\n",
      "Solved, Solution T = 493.15 K\t|\tV = 0.00105\t|\tL = 0.99895\t|\n",
      "Solved, Solution T = 488.15 K\t|\tV = 0.00076\t|\tL = 0.99924\t|\n",
      "Solved, Solution T = 483.15 K\t|\tV = 0.00049\t|\tL = 0.99951\t|\n",
      "Solved, Solution T = 478.15 K\t|\tV = 0.00024\t|\tL = 0.99976\t|\n",
      "Solved, Solution T = 473.15 K\t|\tV = 0.00000\t|\tL = 1.00000\t|\n"
     ]
    }
   ],
   "source": [
    "rf_data = {}\n",
    "rf_data['T'] = []; rf_data['Q'] = []; rf_data['V'] = []; rf_data['L'] = []; \n",
    "rf_data['y_CO'] = []; rf_data['y_H2'] = []; rf_data['y_CO2'] = []; rf_data['y_H2O'] = [];\n",
    "rf_data['f_V_CO'] = []; rf_data['f_V_H2'] = [];\n",
    "    \n",
    "Trange = np.arange(350+273.15,199+273.15,-5)\n",
    "\n",
    "for Tub in Trange:\n",
    "    model.T.setub(Tub)\n",
    "    results = opt.solve(model,tee=False)\n",
    "    update_dual(pe,model)\n",
    "    # print('-'*72)\n",
    "    print('Solved, Solution T = {:.2f} K\\t|\\tV = {:.5f}\\t|\\tL = {:.5f}\\t|'.format(model.T.value,model.V['out'].value,model.L['P'].value))\n",
    "    # print('-'*72)\n",
    "    rf_data['T'].append(model.T.value)\n",
    "    rf_data['Q'].append(model.Q_main.value)\n",
    "    rf_data['V'].append(model.V['out'].value)\n",
    "    rf_data['L'].append(model.L['P'].value)    \n",
    "    \n",
    "    \n",
    "    rf_data['y_H2O'].append(model.y['H2O'].value)\n",
    "    rf_data['y_CO'].append(model.y['CO'].value)\n",
    "    rf_data['y_H2'].append(model.y['H2'].value)\n",
    "    rf_data['y_CO2'].append(model.y['CO2'].value)\n",
    "    \n",
    "    rf_data['f_V_CO'].append(model.f_V['CO'].value)\n",
    "    rf_data['f_V_H2'].append(model.f_V['H2'].value)"
   ]
  },
  {
   "cell_type": "markdown",
   "metadata": {},
   "source": [
    "# VLE Validation using AspenPlus"
   ]
  },
  {
   "cell_type": "markdown",
   "metadata": {},
   "source": [
    "### Feed (Reactor Effluent)"
   ]
  },
  {
   "cell_type": "code",
   "execution_count": null,
   "metadata": {},
   "outputs": [],
   "source": [
    "print('Temperature (C): \\t{:.2f}\\t\\t'.format(model.T.value-273.15))\n",
    "print('Total FLow (kmol/s): \\t{:.2f}\\t\\t'.format(model.L['out'].value+model.V['out'].value))\n",
    "print('-'*72)\n",
    "for i in model.x:\n",
    "    print('{:10s}'.format(i),'\\t\\t{:.4%}'.format((model.x[i].value*model.L['out'].value\\\n",
    "        +model.y[i].value*model.V['out'].value)/(model.L['out'].value+model.V['out'].value)))"
   ]
  },
  {
   "cell_type": "markdown",
   "metadata": {},
   "source": [
    "### Phase Separation"
   ]
  },
  {
   "cell_type": "code",
   "execution_count": null,
   "metadata": {
    "scrolled": false
   },
   "outputs": [],
   "source": [
    "print('Component\\t\\tLiquid: {:.4f}\\t\\t\\tVapor: {:.4f}\\t\\t\\tlog K'.format(model.L['out'].value,model.V['out'].value))\n",
    "print('-'*108)\n",
    "for i in model.x:\n",
    "    print('{:10s}'.format(i),'\\t\\t{:8.4%}\\t\\t\\t{:8.4%}\\t\\t\\t{:.4f}'.format(model.x[i].value,model.y[i].value,np.log10(model.y[i].value/model.x[i].value)))"
   ]
  },
  {
   "cell_type": "code",
   "execution_count": null,
   "metadata": {},
   "outputs": [],
   "source": [
    "list(zip(rf_data['T'],rf_data['Q']))"
   ]
  },
  {
   "cell_type": "code",
   "execution_count": null,
   "metadata": {},
   "outputs": [],
   "source": []
  }
 ],
 "metadata": {
  "kernelspec": {
   "display_name": "Python 3",
   "language": "python",
   "name": "python3"
  },
  "language_info": {
   "codemirror_mode": {
    "name": "ipython",
    "version": 3
   },
   "file_extension": ".py",
   "mimetype": "text/x-python",
   "name": "python",
   "nbconvert_exporter": "python",
   "pygments_lexer": "ipython3",
   "version": "3.6.3"
  }
 },
 "nbformat": 4,
 "nbformat_minor": 2
}
