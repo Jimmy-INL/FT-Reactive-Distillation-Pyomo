{
 "cells": [
  {
   "cell_type": "markdown",
   "metadata": {
    "slideshow": {
     "slide_type": "slide"
    }
   },
   "source": [
    "# 2nd Level Model Structure: Reactive Stage"
   ]
  },
  {
   "cell_type": "code",
   "execution_count": 1,
   "metadata": {},
   "outputs": [],
   "source": [
    "import sys\n",
    "import os\n",
    "import dill\n",
    "import pickle\n",
    "sys.path.append(os.path.abspath('..'))\n",
    "sys.path.append(os.path.abspath('../..'))\n",
    "import numpy as np\n",
    "from matplotlib import pyplot as plt"
   ]
  },
  {
   "cell_type": "code",
   "execution_count": 2,
   "metadata": {
    "slideshow": {
     "slide_type": "fragment"
    }
   },
   "outputs": [],
   "source": [
    "from pyomo import environ as pe\n",
    "from global_sets.component import m\n",
    "from utility.display_utility import trans_product_mole, trans_product_mass\n",
    "from utility.model_utility import add_dual, update_dual, check_DOF, augmented_objective, add_solver,\\\n",
    "                                    select_MPCC, which_MPCC\n",
    "\n",
    "# stage construction rules\n",
    "from physics.kinetics.kinetics_reactive import kinetic_block_rule\n",
    "from physics.energy.energy_reactive import energy_block_rule\n",
    "from physics.VLE.VLE_reactive_MPCC_P import VLE_block_rule\n",
    "from physics.MPCC.MPCC_P import P_NCP_block_rule, P_Reg_block_rule, P_pf_block_rule"
   ]
  },
  {
   "cell_type": "code",
   "execution_count": 3,
   "metadata": {},
   "outputs": [],
   "source": [
    "model = pe.ConcreteModel()"
   ]
  },
  {
   "cell_type": "markdown",
   "metadata": {
    "slideshow": {
     "slide_type": "subslide"
    }
   },
   "source": [
    "# Global Sets (Inlet / Outlet)"
   ]
  },
  {
   "cell_type": "code",
   "execution_count": 4,
   "metadata": {
    "slideshow": {
     "slide_type": "fragment"
    }
   },
   "outputs": [],
   "source": [
    "model.inlet = pe.Set(initialize=['in','R'])\n",
    "model.outlet = pe.Set(initialize=['out','P'])\n",
    "model.stream = model.inlet | model.outlet"
   ]
  },
  {
   "cell_type": "markdown",
   "metadata": {
    "slideshow": {
     "slide_type": "subslide"
    }
   },
   "source": [
    "# Global Variables"
   ]
  },
  {
   "cell_type": "code",
   "execution_count": 5,
   "metadata": {
    "slideshow": {
     "slide_type": "fragment"
    }
   },
   "outputs": [],
   "source": [
    "# Tray Inlet/Outlet Variable\n",
    "model.x_ = pe.Var(model.inlet,m.COMP_TOTAL,within=pe.NonNegativeReals)\n",
    "model.y_ = pe.Var(model.inlet,m.COMP_TOTAL,within=pe.NonNegativeReals)\n",
    "model.x = pe.Var(m.COMP_TOTAL,within=pe.NonNegativeReals)\n",
    "model.y = pe.Var(m.COMP_TOTAL,within=pe.NonNegativeReals)\n",
    "model.z = pe.Var(m.COMP_FEED,within=pe.NonNegativeReals)\n",
    "\n",
    "model.L = pe.Var(model.stream,within=pe.NonNegativeReals)\n",
    "model.V = pe.Var(model.stream,within=pe.NonNegativeReals)\n",
    "model.F = pe.Var(within=pe.NonNegativeReals)\n",
    "\n",
    "model.H_L_ = pe.Var(model.inlet,within=pe.Reals)\n",
    "model.H_V_ = pe.Var(model.inlet,within=pe.Reals)\n",
    "model.H_L = pe.Var(within=pe.Reals)\n",
    "model.H_V = pe.Var(within=pe.Reals)\n",
    "model.H_F = pe.Var(within=pe.Reals)\n",
    "\n",
    "# State Variable\n",
    "model.T = pe.Var(within=pe.NonNegativeReals,bounds=(100+273.15,350+273.15)) # K\n",
    "model.T_F = pe.Var(within=pe.NonNegativeReals) # K\n",
    "model.P = pe.Var(within=pe.NonNegativeReals,bounds=(10,30)) # Bar\n",
    "\n",
    "model.f_V = pe.Var(m.COMP_TOTAL,within=pe.NonNegativeReals,initialize=1e-20)\n",
    "model.f_L = pe.Var(m.COMP_TOTAL,within=pe.NonNegativeReals,initialize=1e-20)\n",
    "\n",
    "model.cat = pe.Var(within=pe.NonNegativeReals,initialize=3000) # kg\n",
    "model.Q_main = pe.Var(within=pe.Reals) # MW\n",
    "model.r_total_comp = pe.Var(m.COMP_TOTAL,within=pe.Reals) # kmol/s"
   ]
  },
  {
   "cell_type": "markdown",
   "metadata": {
    "slideshow": {
     "slide_type": "slide"
    }
   },
   "source": [
    "# Construct Individual Blocks"
   ]
  },
  {
   "cell_type": "code",
   "execution_count": 6,
   "metadata": {
    "slideshow": {
     "slide_type": "subslide"
    }
   },
   "outputs": [
    {
     "name": "stdout",
     "output_type": "stream",
     "text": [
      "> Importing Kinetics Blocks......\n",
      "> Adding the following local variable:\n",
      "--------------------------------------------------\n",
      "| kinetics_block.k_FT\n",
      "| kinetics_block.r_FT_total\n",
      "| kinetics_block.g0_FT\n",
      "| kinetics_block.alpha\n",
      "| kinetics_block.r_FT_cnum\n",
      "| kinetics_block.r_FT_comp\n",
      "| kinetics_block.k_WGS\n",
      "| kinetics_block.Ke_WGS\n",
      "| kinetics_block.r_WGS\n",
      "| kinetics_block.r_WGS_comp\n",
      "--------------------------------------------------\n",
      "\n"
     ]
    }
   ],
   "source": [
    "model.kinetics_block = pe.Block(rule=kinetic_block_rule)"
   ]
  },
  {
   "cell_type": "code",
   "execution_count": 7,
   "metadata": {
    "slideshow": {
     "slide_type": "subslide"
    }
   },
   "outputs": [
    {
     "name": "stdout",
     "output_type": "stream",
     "text": [
      "> Importing Energy Blocks......\n",
      "> Adding the following local variable:\n",
      "--------------------------------------------------\n",
      "| energy_block.dH_F\n",
      "| energy_block.dH_V\n",
      "| energy_block.dH_L\n",
      "| energy_block.dH_vap\n",
      "--------------------------------------------------\n",
      "\n"
     ]
    }
   ],
   "source": [
    "model.energy_block = pe.Block(rule=energy_block_rule)"
   ]
  },
  {
   "cell_type": "code",
   "execution_count": 8,
   "metadata": {
    "scrolled": false,
    "slideshow": {
     "slide_type": "subslide"
    }
   },
   "outputs": [
    {
     "name": "stdout",
     "output_type": "stream",
     "text": [
      "> Importing VLE Blocks......\n",
      "> Adding the following local variable:\n",
      "--------------------------------------------------\n",
      "| VLE_block.P_VLE\n",
      "| VLE_block.n_ave\n",
      "| VLE_block.n_ave_cal\n",
      "| VLE_block.Hen\n",
      "| VLE_block.Hen0\n",
      "| VLE_block.gamma\n",
      "| VLE_block.P_sat\n",
      "| VLE_block.P_sat_Y\n",
      "| VLE_block.P_sat_dY_inf\n",
      "| VLE_block.P_sat_dY0\n",
      "| VLE_block.Hen_ref\n",
      "| VLE_block.Hen0_ref\n",
      "| VLE_block.gamma_ref\n",
      "| VLE_block.V_L\n",
      "| VLE_block.V_L_dY_inf\n",
      "| VLE_block.V_L_dY0\n",
      "| VLE_block.poynting\n",
      "--------------------------------------------------\n",
      "\n"
     ]
    }
   ],
   "source": [
    "model.VLE_block = pe.Block(rule=VLE_block_rule)"
   ]
  },
  {
   "cell_type": "markdown",
   "metadata": {
    "slideshow": {
     "slide_type": "slide"
    }
   },
   "source": [
    "# Standard MESH Equations"
   ]
  },
  {
   "cell_type": "markdown",
   "metadata": {
    "slideshow": {
     "slide_type": "subslide"
    }
   },
   "source": [
    "## Mass Balance"
   ]
  },
  {
   "cell_type": "markdown",
   "metadata": {
    "slideshow": {
     "slide_type": "fragment"
    }
   },
   "source": [
    "\\begin{equation}\n",
    "Fz_{i}+\\sum_{s\\in{inlet}}L_{s}x'_{i,s}+\\sum_{s\\in{inlet}}V_{s}y'_{i,s}-\\sum_{s\\in{outlet}}L_{s}x_{i,s}+\\sum_{s\\in{ouelet}}V_{s}y_{i,s}+R_{i} = 0 \\\\\n",
    "i = 1,...NC\n",
    "\\end{equation}"
   ]
  },
  {
   "cell_type": "code",
   "execution_count": 9,
   "metadata": {
    "slideshow": {
     "slide_type": "fragment"
    }
   },
   "outputs": [],
   "source": [
    "def mass_balance_main_rule(model,i):\n",
    "    if i in m.COMP_FEED:\n",
    "        return model.F*model.z[i] + sum(model.L[s]*model.x_[s,i] + model.V[s]*model.y_[s,i] for s in model.inlet)\\\n",
    "        + model.r_total_comp[i] - sum(model.L[s]*model.x[i] + model.V[s]*model.y[i] for s in model.outlet) == 0\n",
    "    else:\n",
    "        return sum(model.L[s]*model.x_[s,i] + model.V[s]*model.y_[s,i] for s in model.inlet)\\\n",
    "        + model.r_total_comp[i] - sum(model.L[s]*model.x[i] + model.V[s]*model.y[i] for s in model.outlet) == 0\n",
    "model.mass_balance_main_con = pe.Constraint(m.COMP_TOTAL,rule=mass_balance_main_rule)"
   ]
  },
  {
   "cell_type": "markdown",
   "metadata": {
    "slideshow": {
     "slide_type": "subslide"
    }
   },
   "source": [
    "## Equilibrium"
   ]
  },
  {
   "cell_type": "markdown",
   "metadata": {
    "slideshow": {
     "slide_type": "fragment"
    }
   },
   "source": [
    "\\begin{align}\n",
    "&f_{i,V} = f_{i,L} \\\\\n",
    "&i = 1,...NC\n",
    "\\end{align}"
   ]
  },
  {
   "cell_type": "code",
   "execution_count": 10,
   "metadata": {
    "slideshow": {
     "slide_type": "fragment"
    }
   },
   "outputs": [],
   "source": [
    "def VL_equil_rule(model,i):\n",
    "    return model.f_V[i] == model.f_L[i]\n",
    "model.VL_equil_con = pe.Constraint(m.COMP_TOTAL,rule=VL_equil_rule)"
   ]
  },
  {
   "cell_type": "markdown",
   "metadata": {},
   "source": [
    "## MPCC: Add all three"
   ]
  },
  {
   "cell_type": "code",
   "execution_count": 11,
   "metadata": {
    "scrolled": false
   },
   "outputs": [
    {
     "name": "stdout",
     "output_type": "stream",
     "text": [
      "> Importing MPCC_P_pf Blocks......\n",
      "> Adding the following local variable:\n",
      "--------------------------------------------------\n",
      "| MPCC_P_pf.s_L\n",
      "| MPCC_P_pf.s_V\n",
      "| MPCC_P_pf.pf\n",
      "| MPCC_P_pf.rho\n",
      "--------------------------------------------------\n",
      "> Spliting pressure used in VLE\n",
      "Deleted original P_equal constraint\n",
      "\n",
      "> Importing MPCC_P_NCP Blocks......\n",
      "> Adding the following local variable:\n",
      "--------------------------------------------------\n",
      "| MPCC_P_NCP.s_L\n",
      "| MPCC_P_NCP.s_V\n",
      "| MPCC_P_NCP.epi\n",
      "--------------------------------------------------\n",
      "> Adding complementarity constraint, spliting pressure used in VLE\n",
      "No constraint to delete\n",
      "\n",
      "> Importing MPCC_P_Reg Blocks......\n",
      "> Adding the following local variable:\n",
      "--------------------------------------------------\n",
      "| MPCC_P_Reg.s_L\n",
      "| MPCC_P_Reg.s_V\n",
      "| MPCC_P_Reg.epi\n",
      "--------------------------------------------------\n",
      "> Adding complementarity constraint, spliting pressure used in VLE\n",
      "No constraint to delete\n",
      "\n"
     ]
    }
   ],
   "source": [
    "model.MPCC_P_pf = pe.Block(rule = P_pf_block_rule)\n",
    "model.MPCC_P_NCP = pe.Block(rule = P_NCP_block_rule)\n",
    "model.MPCC_P_Reg = pe.Block(rule = P_Reg_block_rule)"
   ]
  },
  {
   "cell_type": "code",
   "execution_count": 12,
   "metadata": {},
   "outputs": [
    {
     "name": "stdout",
     "output_type": "stream",
     "text": [
      "> Selected MPCC: MPCC_P_pf\n",
      "s_L:  0\n",
      "s_V:  0\n",
      "\n"
     ]
    }
   ],
   "source": [
    "select_MPCC(model,'pf')"
   ]
  },
  {
   "cell_type": "markdown",
   "metadata": {
    "slideshow": {
     "slide_type": "subslide"
    }
   },
   "source": [
    "## Summation"
   ]
  },
  {
   "cell_type": "markdown",
   "metadata": {
    "slideshow": {
     "slide_type": "fragment"
    }
   },
   "source": [
    "\\begin{equation}\n",
    "\\sum_ix_{i} = \\sum_iy_{i} \\\\\n",
    "F + L_{in} + V_{in} + R = L_{out} + V_{out}\n",
    "\\end{equation}"
   ]
  },
  {
   "cell_type": "code",
   "execution_count": 13,
   "metadata": {
    "slideshow": {
     "slide_type": "fragment"
    }
   },
   "outputs": [],
   "source": [
    "def summation_x_y_rule(model):\n",
    "    return sum(model.x[i] for i in m.COMP_TOTAL) == sum(model.y[i] for i in m.COMP_TOTAL)\n",
    "model.summation_x_y_con = pe.Constraint(rule=summation_x_y_rule)\n",
    "\n",
    "def summation_total_mass_rule(model):\n",
    "    return model.F + sum(model.L[s] + model.V[s] for s in model.inlet) + sum(model.r_total_comp[i] for i in m.COMP_TOTAL)\\\n",
    "            - sum(model.L[s] + model.V[s] for s in model.outlet) == 0\n",
    "model.summation_total_mass_con = pe.Constraint(rule=summation_total_mass_rule)"
   ]
  },
  {
   "cell_type": "markdown",
   "metadata": {
    "slideshow": {
     "slide_type": "subslide"
    }
   },
   "source": [
    "## Energy Balance"
   ]
  },
  {
   "cell_type": "markdown",
   "metadata": {
    "slideshow": {
     "slide_type": "fragment"
    }
   },
   "source": [
    "\\begin{equation}\n",
    "F H_f+\\sum_{s\\in{inlet}}L_{s}H_{l,s}+\\sum_{s\\in{inlet}}V_{s}H_{v,s}-\\sum_{s\\in{outlet}}L_{s}H_{l,s}-\\sum_{s\\in{outlet}}V_{s}H_{v,s}+Q = 0\n",
    "\\end{equation}"
   ]
  },
  {
   "cell_type": "code",
   "execution_count": 14,
   "metadata": {
    "slideshow": {
     "slide_type": "fragment"
    }
   },
   "outputs": [],
   "source": [
    "def heat_balance_main_rule(model):\n",
    "    return model.F*model.H_F + sum(model.L[s]*model.H_L_[s] + model.V[s]*model.H_V_[s] for s in model.inlet) \\\n",
    "            + model.Q_main - sum(model.L[s]*model.H_L + model.V[s]*model.H_V for s in model.outlet) == 0\n",
    "model.heat_balance_main_con = pe.Constraint(rule=heat_balance_main_rule)"
   ]
  },
  {
   "cell_type": "markdown",
   "metadata": {
    "slideshow": {
     "slide_type": "slide"
    }
   },
   "source": [
    "# Testing"
   ]
  },
  {
   "cell_type": "code",
   "execution_count": 15,
   "metadata": {
    "slideshow": {
     "slide_type": "fragment"
    }
   },
   "outputs": [
    {
     "name": "stdout",
     "output_type": "stream",
     "text": [
      "Created the follow pyomo suffixes:\n",
      "ipopt_zL_out, ipopt_zU_out, ipopt_zL_in, ipopt_zU_in, dual\n"
     ]
    }
   ],
   "source": [
    "add_dual(pe,model)"
   ]
  },
  {
   "cell_type": "markdown",
   "metadata": {
    "slideshow": {
     "slide_type": "fragment"
    }
   },
   "source": [
    "## Fixing In/Product Redundent Flow"
   ]
  },
  {
   "cell_type": "code",
   "execution_count": 16,
   "metadata": {
    "slideshow": {
     "slide_type": "fragment"
    }
   },
   "outputs": [],
   "source": [
    "model.x_.fix(0)\n",
    "model.y_.fix(0)\n",
    "model.L['in'].fix(0)\n",
    "model.L['R'].fix(0)\n",
    "model.L['P'].fix(0)\n",
    "\n",
    "model.V['in'].fix(0)\n",
    "model.V['R'].fix(0)\n",
    "model.V['P'].fix(0)\n",
    "model.H_L_.fix(0)\n",
    "model.H_V_.fix(0)"
   ]
  },
  {
   "cell_type": "markdown",
   "metadata": {
    "slideshow": {
     "slide_type": "subslide"
    }
   },
   "source": [
    "## Fixing Model Parameters"
   ]
  },
  {
   "cell_type": "code",
   "execution_count": 17,
   "metadata": {
    "slideshow": {
     "slide_type": "fragment"
    }
   },
   "outputs": [],
   "source": [
    "model.cat.fix(3000)\n",
    "model.P.fix(20)\n",
    "model.T_F.fix(200+273.15)\n",
    "model.F.fix(1)\n",
    "model.z['CO'].fix(1/(1+0.8)-0/2)\n",
    "model.z['H2'].fix(0.8/(1+0.8)-0/2)\n",
    "model.z['C30H62'].fix(0)\n",
    "model.VLE_block.n_ave.fix(20)"
   ]
  },
  {
   "cell_type": "code",
   "execution_count": 18,
   "metadata": {
    "scrolled": true,
    "slideshow": {
     "slide_type": "fragment"
    }
   },
   "outputs": [
    {
     "name": "stdout",
     "output_type": "stream",
     "text": [
      "Active Equality Constraints:\t 1182\n",
      "Active Inequality Constraints:\t 1\n",
      "Active Variables:\t\t 1520\n",
      "Fixed Variables:\t\t 334\n",
      "DOF:\t\t\t\t 4\n"
     ]
    }
   ],
   "source": [
    "check_DOF(pe,model)"
   ]
  },
  {
   "cell_type": "markdown",
   "metadata": {
    "slideshow": {
     "slide_type": "subslide"
    }
   },
   "source": [
    "## Fix T or to fix Q? we have found that Maximize against an upper bound is most reliable"
   ]
  },
  {
   "cell_type": "code",
   "execution_count": 19,
   "metadata": {
    "slideshow": {
     "slide_type": "fragment"
    }
   },
   "outputs": [],
   "source": [
    "model.T.setub(200+273.15)"
   ]
  },
  {
   "cell_type": "code",
   "execution_count": 20,
   "metadata": {
    "slideshow": {
     "slide_type": "fragment"
    }
   },
   "outputs": [
    {
     "name": "stdout",
     "output_type": "stream",
     "text": [
      "------------------------------\n",
      "> Obj = maximize\n",
      "> T - MPCC_P_pf.pf\n",
      "------------------------------\n"
     ]
    }
   ],
   "source": [
    "model.obj = augmented_objective(pe, model, expr = model.T, sense=pe.maximize)"
   ]
  },
  {
   "cell_type": "code",
   "execution_count": 21,
   "metadata": {
    "scrolled": false,
    "slideshow": {
     "slide_type": "fragment"
    }
   },
   "outputs": [],
   "source": [
    "opt = add_solver(pe, max_iter= 500, warm_start = False, output = True)"
   ]
  },
  {
   "cell_type": "code",
   "execution_count": 22,
   "metadata": {
    "scrolled": false
   },
   "outputs": [
    {
     "name": "stdout",
     "output_type": "stream",
     "text": [
      "Ipopt 3.12.8: print_user_options=yes\n",
      "linear_scaling_on_demand =no\n",
      "max_iter=500\n",
      "output_file=./tmp/ipopt_output_tmp.output\n",
      "linear_solver=ma86\n",
      "linear_system_scaling =mc19\n",
      "\n",
      "\n",
      "List of user-set options:\n",
      "\n",
      "                                    Name   Value                used\n",
      "                linear_scaling_on_demand = no                    yes\n",
      "                           linear_solver = ma86                  yes\n",
      "                   linear_system_scaling = mc19                  yes\n",
      "                                max_iter = 500                   yes\n",
      "                             output_file = ./tmp/ipopt_output_tmp.output  yes\n",
      "                      print_user_options = yes                   yes\n",
      "\n",
      "******************************************************************************\n",
      "This program contains Ipopt, a library for large-scale nonlinear optimization.\n",
      " Ipopt is released as open source code under the Eclipse Public License (EPL).\n",
      "         For more information visit http://projects.coin-or.org/Ipopt\n",
      "******************************************************************************\n",
      "\n",
      "This is Ipopt version 3.12.8, running with linear solver ma86.\n",
      "\n",
      "Number of nonzeros in equality constraint Jacobian...:     4012\n",
      "Number of nonzeros in inequality constraint Jacobian.:        5\n",
      "Number of nonzeros in Lagrangian Hessian.............:     4395\n",
      "\n",
      "Total number of variables............................:     1186\n",
      "                     variables with only lower bounds:      383\n",
      "                variables with lower and upper bounds:      633\n",
      "                     variables with only upper bounds:        0\n",
      "Total number of equality constraints.................:     1182\n",
      "Total number of inequality constraints...............:        1\n",
      "        inequality constraints with only lower bounds:        0\n",
      "   inequality constraints with lower and upper bounds:        0\n",
      "        inequality constraints with only upper bounds:        1\n",
      "\n",
      "iter    objective    inf_pr   inf_du lg(mu)  ||d||  lg(rg) alpha_du alpha_pr  ls\n",
      "   0 -3.7414000e+02 1.84e+04 1.00e+00  -1.0 0.00e+00    -  0.00e+00 0.00e+00   0\n",
      "   1 -3.7414666e+02 1.84e+04 3.61e+00  -1.0 7.88e+04    -  1.47e-04 5.88e-05h  1\n",
      "   2r-3.7414666e+02 1.84e+04 9.99e+02   4.3 0.00e+00    -  0.00e+00 2.71e-07R  3\n",
      "   3r-3.7414627e+02 1.84e+04 9.99e+02   4.3 4.54e+05    -  1.81e-05 1.02e-07f  1\n",
      "   4r-3.8548253e+02 1.71e+04 9.96e+02   2.2 4.45e+05    -  2.51e-04 2.78e-03f  1\n",
      "   5r-3.9194117e+02 1.62e+04 9.96e+02   2.2 2.81e+06    -  5.03e-04 3.08e-04f  1\n",
      "   6 -3.9194675e+02 1.62e+04 6.54e+00  -1.0 8.48e+04    -  1.43e-04 6.24e-05h  1\n",
      "   7 -3.9195405e+02 1.62e+04 2.79e+01  -1.0 7.19e+03    -  2.05e-04 5.90e-05h  1\n",
      "   8 -3.9196411e+02 1.62e+04 1.46e+02  -1.0 7.17e+03    -  3.17e-04 8.13e-05h  1\n",
      "   9r-3.9196411e+02 1.62e+04 9.99e+02   4.2 0.00e+00    -  0.00e+00 4.21e-07R  2\n",
      "iter    objective    inf_pr   inf_du lg(mu)  ||d||  lg(rg) alpha_du alpha_pr  ls\n",
      "  10r-3.9196418e+02 1.62e+04 8.10e+03   4.2 2.96e+05    -  1.90e-03 1.56e-07f  1\n",
      "  11r-4.4167272e+02 9.90e+03 7.31e+03   2.8 4.96e+05    -  4.56e-03 1.14e-02f  1\n",
      "  12 -4.4167340e+02 9.90e+03 4.93e+01  -1.0 7.44e+04    -  1.52e-04 1.41e-05h  1\n",
      "  13 -4.4167798e+02 9.90e+03 4.63e+02  -1.0 4.41e+03    -  9.25e-04 4.64e-05h  1\n",
      "  14 -4.4168681e+02 9.89e+03 4.49e+03  -1.0 4.29e+03    -  1.27e-03 8.97e-05h  1\n",
      "  15r-4.4168681e+02 9.89e+03 1.00e+03   4.0 0.00e+00    -  0.00e+00 4.61e-07R  2\n",
      "  16r-4.4168718e+02 9.89e+03 3.97e+03   4.0 4.22e+05    -  1.73e-03 2.50e-07f  1\n",
      "  17r-4.5994363e+02 7.19e+03 4.38e+03   2.6 6.96e+05    -  1.07e-02 3.73e-03f  1\n",
      "  18 -4.5994503e+02 7.19e+03 5.36e+01  -1.0 4.26e+03    -  8.99e-04 1.63e-05h  1\n",
      "  19r-4.5994503e+02 7.19e+03 9.99e+02   3.9 0.00e+00    -  0.00e+00 1.01e-07R  2\n",
      "iter    objective    inf_pr   inf_du lg(mu)  ||d||  lg(rg) alpha_du alpha_pr  ls\n",
      "  20r-4.5994515e+02 7.19e+03 9.99e+02   3.9 5.11e+05    -  2.24e-04 9.22e-08f  2\n",
      "  21r-4.7292727e+02 4.93e+03 9.96e+02   2.5 6.84e+05    -  3.39e-03 3.22e-03f  1\n",
      "  22 -4.7294867e+02 4.93e+03 7.25e+01  -1.0 5.22e+03    -  6.56e-04 2.58e-04h  1\n",
      "  23r-4.7294867e+02 4.93e+03 9.99e+02   3.7 0.00e+00    -  0.00e+00 4.13e-07R  4\n",
      "  24r-4.7294903e+02 4.93e+03 5.16e+03   3.7 4.85e+05    -  4.82e-03 3.07e-07f  2\n",
      "  25r-4.7305446e+02 4.19e+03 6.79e+03   2.3 2.73e+05    -  2.98e-02 2.72e-03f  1\n",
      "  26 -4.7305555e+02 4.19e+03 2.02e+03  -1.0 2.16e+04    -  2.75e-04 2.22e-05h  1\n",
      "  27r-4.7305555e+02 4.19e+03 1.00e+03   3.6 0.00e+00    -  0.00e+00 1.76e-07R  2\n",
      "  28r-4.7302552e+02 4.18e+03 1.24e+03   3.6 2.53e+05    -  1.34e-03 2.89e-05f  1\n",
      "  29r-4.7302162e+02 3.57e+03 2.45e+03   2.2 2.91e+05    -  1.91e-02 2.10e-03f  1\n",
      "iter    objective    inf_pr   inf_du lg(mu)  ||d||  lg(rg) alpha_du alpha_pr  ls\n",
      "  30r-4.7302162e+02 3.57e+03 9.99e+02   3.6 0.00e+00    -  0.00e+00 4.63e-07R  3\n",
      "  31r-4.7302061e+02 3.57e+03 1.05e+04   3.6 3.14e+05    -  6.61e-03 2.39e-07f  1\n",
      "  32r-4.7300710e+02 5.13e+02 1.04e+04   2.2 3.01e+05    -  2.23e-02 1.18e-02f  1\n",
      "  33 -4.7300820e+02 5.13e+02 2.79e+00  -1.0 1.04e+04    -  8.05e-05 1.67e-05h  1\n",
      "  34r-4.7300820e+02 5.13e+02 9.99e+02   2.7 0.00e+00    -  0.00e+00 3.25e-07R  5\n",
      "  35r-4.7300785e+02 5.13e+02 9.99e+02   2.7 1.48e+04    -  2.83e-03 1.19e-06f  1\n",
      "  36r-4.7263117e+02 5.13e+02 9.94e+02   2.7 1.05e+04    -  5.73e-03 4.81e-03f  1\n",
      "  37r-4.7197526e+02 5.12e+02 4.25e+03   2.7 3.91e+03    -  1.81e-02 1.38e-02f  1\n",
      "  38r-4.7121114e+02 5.11e+02 4.94e+04   2.7 6.22e+02    -  1.07e-01 2.71e-02f  1\n",
      "  39r-4.7065564e+02 5.08e+02 4.39e+04   2.0 2.12e+02    -  6.86e-02 7.84e-02f  1\n",
      "iter    objective    inf_pr   inf_du lg(mu)  ||d||  lg(rg) alpha_du alpha_pr  ls\n",
      "  40r-4.7051399e+02 5.07e+02 4.43e+04   2.0 3.97e+02   0.0 1.49e-02 1.66e-02f  1\n",
      "  41r-4.7002969e+02 5.02e+02 3.41e+04   2.0 2.92e+01   1.3 3.25e-01 2.43e-01f  1\n",
      "  42r-4.6961632e+02 4.93e+02 3.22e+04   2.0 8.80e+01    -  1.22e-01 1.03e-01f  1\n",
      "  43r-4.6926954e+02 4.81e+02 8.24e+04   2.0 7.89e+01    -  4.56e-01 1.50e-01f  1\n",
      "  44r-4.6825858e+02 4.45e+02 1.30e+05   2.0 6.71e+01    -  9.98e-01 5.48e-01f  1\n",
      "  45 -4.6809731e+02 4.23e+02 1.28e+03  -1.0 1.12e+03    -  3.13e-03 4.92e-02h  2\n",
      "  46 -4.6799380e+02 4.20e+02 1.23e+03  -1.0 1.12e+03    -  9.69e-03 7.37e-03h  3\n",
      "  47 -4.6775441e+02 4.15e+02 4.47e+02  -1.0 1.08e+03    -  6.98e-02 1.21e-02h  2\n",
      "  48 -4.6721258e+02 4.07e+02 4.27e+01  -1.0 1.03e+03    -  7.62e-02 1.77e-02h  3\n",
      "  49 -4.6627465e+02 3.97e+02 3.50e+02  -1.0 9.51e+02    -  1.45e-01 2.49e-02h  4\n",
      "iter    objective    inf_pr   inf_du lg(mu)  ||d||  lg(rg) alpha_du alpha_pr  ls\n",
      "  50 -4.6486264e+02 3.86e+02 1.38e+02  -1.0 8.00e+02    -  1.05e-01 2.86e-02h  4\n",
      "  51 -4.5255181e+02 2.42e+02 3.24e+04  -1.0 7.21e+02    -  2.77e-01 3.72e-01H  1\n",
      "  52 -4.5258666e+02 2.41e+02 3.25e+04  -1.0 2.42e+02    -  2.38e-01 5.81e-03h  1\n",
      "  53 -4.5264531e+02 2.40e+02 3.35e+04  -1.0 8.47e+03    -  5.81e-02 2.40e-03h  1\n",
      "  54 -4.5243467e+02 2.40e+02 3.36e+04  -1.0 5.62e+03    -  2.98e-02 3.95e-04h  1\n",
      "  55 -4.3049810e+02 2.36e+02 4.32e+04  -1.0 6.87e+03    -  1.80e-02 1.53e-02h  1\n",
      "  56 -4.2843730e+02 2.35e+02 4.24e+04  -1.0 3.08e+02    -  4.29e-01 6.70e-03h  1\n",
      "  57 -4.2841496e+02 2.35e+02 3.72e+05  -1.0 3.20e+02    -  1.68e-01 7.00e-05h  1\n",
      "  58 -4.2841459e+02 2.35e+02 3.72e+05  -1.0 2.53e+03    -  2.21e-06 2.21e-06s  4\n",
      "  59 -4.2841458e+02 2.35e+02 3.72e+05  -1.0 3.21e+03    -  7.99e-08 7.99e-08s  4\n",
      "iter    objective    inf_pr   inf_du lg(mu)  ||d||  lg(rg) alpha_du alpha_pr  ls\n",
      "  60r-4.2841458e+02 2.35e+02 1.00e+03   2.4 0.00e+00    -  0.00e+00 0.00e+00R  1\n",
      "  61r-4.2837600e+02 2.04e+02 5.43e+04   2.4 1.69e+04    -  7.52e-03 1.82e-03f  1\n",
      "  62 -4.2809003e+02 2.04e+02 6.85e+01  -1.0 2.04e+02    -  6.80e-03 1.69e-03h  1\n",
      "  63 -4.2793677e+02 2.04e+02 2.91e+03  -1.0 3.48e+02    -  1.06e-01 4.40e-04h  1\n",
      "  64 -4.2793318e+02 2.04e+02 1.41e+07  -1.0 1.10e+03    -  1.31e-01 1.31e-05h  1\n",
      "  65r-4.2793318e+02 2.04e+02 1.00e+03   2.3 0.00e+00    -  0.00e+00 3.05e-07R  6\n",
      "  66r-4.2792723e+02 1.95e+02 4.68e+03   2.3 1.96e+04    -  1.94e-03 4.65e-04f  1\n",
      "  67r-4.2788028e+02 1.39e+02 7.92e+03   2.3 1.92e+04    -  4.44e-03 2.88e-03f  1\n",
      "  68 -4.2770954e+02 1.39e+02 2.48e+03  -1.0 3.84e+02    -  9.75e-02 4.45e-04h  1\n",
      "  69 -4.2766695e+02 1.39e+02 3.27e+04  -1.0 5.41e+02    -  1.12e-02 7.90e-05h  1\n",
      "iter    objective    inf_pr   inf_du lg(mu)  ||d||  lg(rg) alpha_du alpha_pr  ls\n",
      "  70 -4.2765179e+02 1.39e+02 5.02e+07  -1.0 7.98e+02    -  7.60e-02 2.96e-05h  1\n",
      "  71r-4.2765179e+02 1.39e+02 1.00e+03   2.1 0.00e+00    -  0.00e+00 4.42e-07R  3\n",
      "  72r-4.2763552e+02 1.23e+02 3.47e+03   2.1 2.58e+04    -  2.11e-03 6.18e-04f  1\n",
      "  73 -4.2760895e+02 1.23e+02 1.52e+03  -1.0 5.11e+02    -  7.55e-02 5.21e-05h  1\n",
      "  74r-4.2760895e+02 1.23e+02 1.00e+03   2.1 0.00e+00    -  0.00e+00 4.05e-07R  4\n",
      "  75r-4.2757559e+02 1.14e+02 3.16e+03   2.1 2.74e+04    -  1.12e-03 3.24e-04f  1\n",
      "  76r-4.2752557e+02 6.85e+01 3.21e+03   2.1 2.54e+04    -  3.59e-03 1.81e-03f  1\n",
      "  77 -4.2732639e+02 6.83e+01 8.44e+05  -1.0 1.00e+02    -  3.94e-04 2.38e-03h  1\n",
      "  78 -4.0078872e+02 4.38e+01 9.09e+08  -1.0 7.47e+01    -  2.80e-03 3.59e-01h  1\n",
      "  79 -3.9645244e+02 4.19e+01 8.71e+08  -1.0 1.15e+02    -  1.75e-01 4.42e-02h  1\n"
     ]
    },
    {
     "name": "stdout",
     "output_type": "stream",
     "text": [
      "iter    objective    inf_pr   inf_du lg(mu)  ||d||  lg(rg) alpha_du alpha_pr  ls\n",
      "  80 -3.9601311e+02 4.15e+01 8.62e+08  -1.0 1.04e+02    -  5.60e-03 9.66e-03h  1\n",
      "  81 -4.0219978e+02 3.11e+01 6.31e+08  -1.0 1.62e+02    -  1.51e-02 2.50e-01f  1\n",
      "  82 -4.0106107e+02 2.91e+01 5.89e+08  -1.0 5.33e+02    -  3.79e-02 6.61e-02h  1\n",
      "  83 -3.9084806e+02 1.38e+01 1.16e+08  -1.0 5.04e+02    -  9.41e-02 7.33e-01h  1\n",
      "  84 -3.9084197e+02 1.38e+01 1.16e+08  -1.0 1.79e+01   2.0 3.47e-03 1.35e-03h  1\n",
      "  85 -3.9278665e+02 8.71e+00 7.22e+07  -1.0 1.13e+02    -  1.11e-03 3.78e-01h  1\n",
      "  86 -3.9278098e+02 8.70e+00 7.21e+07  -1.0 7.42e+01   1.5 4.45e-01 8.91e-04h  1\n",
      "  87 -3.9641917e+02 5.66e-01 4.11e+06  -1.0 1.26e+02    -  4.11e-02 9.74e-01h  1\n",
      "  88 -4.2487610e+02 1.20e+00 1.51e+06  -1.0 7.17e+01    -  4.44e-01 6.29e-01f  1\n",
      "  89 -4.7052224e+02 5.31e+00 7.01e+05  -1.0 9.90e+01    -  3.90e-01 4.91e-01f  1\n",
      "iter    objective    inf_pr   inf_du lg(mu)  ||d||  lg(rg) alpha_du alpha_pr  ls\n",
      "  90 -4.7099815e+02 5.25e+00 1.33e+07  -1.0 2.64e+02    -  4.63e-01 9.23e-03f  1\n",
      "  91 -4.7297344e+02 1.97e+00 7.18e+06  -1.0 4.39e+02    -  5.17e-01 5.83e-01h  1\n",
      "  92 -4.7290561e+02 1.29e+00 2.52e+06  -1.0 1.35e+01    -  9.78e-01 8.14e-01h  1\n",
      "  93 -4.7293680e+02 3.17e-01 1.37e+06  -1.0 9.44e+00    -  6.52e-01 7.19e-01h  1\n",
      "  94 -4.7289457e+02 2.62e-01 1.15e+06  -1.0 5.08e+01    -  4.60e-01 1.49e-01f  2\n",
      "  95 -4.7245122e+02 1.41e-01 1.05e+06  -1.0 1.33e+01    -  4.37e-01 1.00e+00h  1\n",
      "  96 -4.7219683e+02 1.39e-01 1.41e+05  -1.0 1.21e+01    -  1.00e+00 1.00e+00h  1\n",
      "  97 -4.7216051e+02 1.18e-03 4.99e+02  -1.0 9.59e-01    -  1.00e+00 1.00e+00h  1\n",
      "  98 -4.7279883e+02 1.52e-01 1.05e+06  -2.5 1.35e+01    -  8.51e-01 9.60e-01f  1\n",
      "  99 -4.7313666e+02 2.82e-01 5.83e+05  -2.5 2.32e+01    -  1.00e+00 6.63e-01h  1\n",
      "iter    objective    inf_pr   inf_du lg(mu)  ||d||  lg(rg) alpha_du alpha_pr  ls\n",
      " 100 -4.7312908e+02 1.24e-02 1.04e+04  -2.5 3.29e+00    -  1.00e+00 1.00e+00h  1\n",
      " 101 -4.7313603e+02 2.11e-04 3.84e+01  -2.5 4.57e-01    -  1.00e+00 1.00e+00h  1\n",
      " 102 -4.7313538e+02 4.07e-05 1.23e+00  -2.5 2.01e-01    -  1.00e+00 1.00e+00h  1\n",
      " 103 -4.7314842e+02 1.07e-04 2.62e+04  -3.8 3.54e-01    -  1.00e+00 9.05e-01f  1\n",
      " 104 -4.7314925e+02 2.46e-07 3.54e+00  -3.8 4.19e-02    -  1.00e+00 1.00e+00f  1\n",
      " 105 -4.7314925e+02 1.35e-10 4.31e-06  -3.8 1.21e-04    -  1.00e+00 1.00e+00h  1\n",
      " 106 -4.7315000e+02 1.43e-07 1.95e+00  -5.7 1.80e-02    -  1.00e+00 1.00e+00f  1\n",
      " 107 -4.7315000e+02 4.48e-11 2.01e-06  -5.7 1.05e-04    -  1.00e+00 1.00e+00h  1\n",
      " 108 -4.7315000e+02 1.33e-10 7.56e-01  -8.6 2.24e-04    -  1.00e+00 9.96e-01h  1\n",
      " 109 -4.7315000e+02 1.35e-10 3.25e-07  -8.6 9.28e-07    -  1.00e+00 1.00e+00f  1\n",
      "iter    objective    inf_pr   inf_du lg(mu)  ||d||  lg(rg) alpha_du alpha_pr  ls\n",
      " 110 -4.7315000e+02 3.64e-12 1.18e-07  -8.6 5.12e-07    -  1.00e+00 1.00e+00h  1\n",
      " 111 -4.7315000e+02 3.64e-12 2.06e-08  -8.6 7.28e-07    -  1.00e+00 1.00e+00h  1\n",
      " 112 -4.7315000e+02 1.35e-10 2.59e-09  -9.0 1.94e-07    -  1.00e+00 1.00e+00h  1\n",
      "\n",
      "Number of Iterations....: 112\n",
      "\n",
      "                                   (scaled)                 (unscaled)\n",
      "Objective...............:  -4.7315000473980871e+02   -4.7315000473980871e+02\n",
      "Dual infeasibility......:   2.5902233849675413e-09    2.5902233849675413e-09\n",
      "Constraint violation....:   1.3452435292018311e-10    1.3452435292018311e-10\n",
      "Complementarity.........:   9.8386617322907378e-10    9.8386617322907378e-10\n",
      "Overall NLP error.......:   2.5902233849675413e-09    2.5902233849675413e-09\n",
      "\n",
      "\n",
      "Number of objective function evaluations             = 185\n",
      "Number of objective gradient evaluations             = 94\n",
      "Number of equality constraint evaluations            = 185\n",
      "Number of inequality constraint evaluations          = 185\n",
      "Number of equality constraint Jacobian evaluations   = 125\n",
      "Number of inequality constraint Jacobian evaluations = 125\n",
      "Number of Lagrangian Hessian evaluations             = 112\n",
      "Total CPU secs in IPOPT (w/o function evaluations)   =      6.015\n",
      "Total CPU secs in NLP function evaluations           =      0.276\n",
      "\n",
      "EXIT: Optimal Solution Found.\n"
     ]
    }
   ],
   "source": [
    "results = opt.solve(model,tee=True)\n",
    "update_dual(pe,model)"
   ]
  },
  {
   "cell_type": "code",
   "execution_count": 23,
   "metadata": {
    "scrolled": false,
    "slideshow": {
     "slide_type": "slide"
    }
   },
   "outputs": [
    {
     "name": "stdout",
     "output_type": "stream",
     "text": [
      "Component\t\tLiquid: 0.0076\t\t\tVapor: 0.5291\n",
      "------------------------------------------------------------------------------------------------------------\n",
      "H2         \t\t 0.8838%\t\t\t25.2935%\n",
      "CO         \t\t 1.3401%\t\t\t28.6944%\n",
      "CO2        \t\t 3.7245%\t\t\t31.8623%\n",
      "H2O        \t\t 3.6023%\t\t\t12.4033%\n",
      "C2H4       \t\t 0.0174%\t\t\t 0.1174%\n",
      "C3H6       \t\t 0.0444%\t\t\t 0.1351%\n",
      "C4H8       \t\t 0.0456%\t\t\t 0.1204%\n",
      "C5H10      \t\t 0.0722%\t\t\t 0.0931%\n",
      "C6H12      \t\t 0.1262%\t\t\t 0.0865%\n",
      "C7H14      \t\t 0.2078%\t\t\t 0.0799%\n",
      "C8H16      \t\t 0.3264%\t\t\t 0.0731%\n",
      "C9H18      \t\t 0.4920%\t\t\t 0.0659%\n",
      "C10H20     \t\t 0.7120%\t\t\t 0.0583%\n",
      "C11H22     \t\t 0.6286%\t\t\t 0.0320%\n",
      "C12H24     \t\t 0.8302%\t\t\t 0.0265%\n",
      "C13H26     \t\t 1.0411%\t\t\t 0.0212%\n",
      "C14H28     \t\t 1.2375%\t\t\t 0.0161%\n",
      "C15H30     \t\t 1.3970%\t\t\t 0.0118%\n",
      "C16H32     \t\t 1.5062%\t\t\t 0.0083%\n",
      "C17H34     \t\t 1.5634%\t\t\t 0.0056%\n",
      "C18H36     \t\t 1.5753%\t\t\t 0.0037%\n",
      "C19H38     \t\t 1.5530%\t\t\t 0.0024%\n",
      "C20H40     \t\t 1.5073%\t\t\t 0.0016%\n",
      "C1H4       \t\t 0.0164%\t\t\t 0.1925%\n",
      "C2H6       \t\t 0.0107%\t\t\t 0.0631%\n",
      "C3H8       \t\t 0.0114%\t\t\t 0.0338%\n",
      "C4H10      \t\t 0.0162%\t\t\t 0.0380%\n",
      "C5H12      \t\t 0.0471%\t\t\t 0.0547%\n",
      "C6H14      \t\t 0.0815%\t\t\t 0.0508%\n",
      "C7H16      \t\t 0.1332%\t\t\t 0.0468%\n",
      "C8H18      \t\t 0.2078%\t\t\t 0.0428%\n",
      "C9H20      \t\t 0.3113%\t\t\t 0.0385%\n",
      "C10H22     \t\t 0.4475%\t\t\t 0.0339%\n",
      "C11H24     \t\t 0.9951%\t\t\t 0.0469%\n",
      "C12H26     \t\t 1.3036%\t\t\t 0.0387%\n",
      "C13H28     \t\t 1.6207%\t\t\t 0.0306%\n",
      "C14H30     \t\t 1.9099%\t\t\t 0.0232%\n",
      "C15H32     \t\t 2.1391%\t\t\t 0.0168%\n",
      "C16H34     \t\t 2.2908%\t\t\t 0.0117%\n",
      "C17H36     \t\t 2.3649%\t\t\t 0.0079%\n",
      "C18H38     \t\t 2.3734%\t\t\t 0.0052%\n",
      "C19H40     \t\t 2.3329%\t\t\t 0.0034%\n",
      "C20H42     \t\t 2.2595%\t\t\t 0.0022%\n",
      "C21H44     \t\t 3.6174%\t\t\t 0.0023%\n",
      "C22H46     \t\t 3.4437%\t\t\t 0.0015%\n",
      "C23H48     \t\t 3.2630%\t\t\t 0.0009%\n",
      "C24H50     \t\t 3.0819%\t\t\t 0.0006%\n",
      "C25H52     \t\t 2.9046%\t\t\t 0.0004%\n",
      "C26H54     \t\t 2.7336%\t\t\t 0.0002%\n",
      "C27H56     \t\t 2.5703%\t\t\t 0.0001%\n",
      "C28H58     \t\t 2.4152%\t\t\t 0.0001%\n",
      "C29H60     \t\t 2.2684%\t\t\t 0.0001%\n",
      "C30H62     \t\t 2.1300%\t\t\t 0.0000%\n",
      "C31H64     \t\t 1.9996%\t\t\t 0.0000%\n",
      "C32H66     \t\t 1.8769%\t\t\t 0.0000%\n",
      "C33H68     \t\t 1.7616%\t\t\t 0.0000%\n",
      "C34H70     \t\t 1.6533%\t\t\t 0.0000%\n",
      "C35H72     \t\t 1.5516%\t\t\t 0.0000%\n",
      "C36H74     \t\t 1.4562%\t\t\t 0.0000%\n",
      "C37H76     \t\t 1.3665%\t\t\t 0.0000%\n",
      "C38H78     \t\t 1.2824%\t\t\t 0.0000%\n",
      "C39H80     \t\t 1.2034%\t\t\t 0.0000%\n",
      "C40H82     \t\t 1.1293%\t\t\t 0.0000%\n",
      "C41H84     \t\t 1.0598%\t\t\t 0.0000%\n",
      "C42H86     \t\t 0.9945%\t\t\t 0.0000%\n",
      "C43H88     \t\t 0.9332%\t\t\t 0.0000%\n",
      "C44H90     \t\t 0.8758%\t\t\t 0.0000%\n",
      "C45H92     \t\t 0.8218%\t\t\t 0.0000%\n",
      "C46H94     \t\t 0.7712%\t\t\t 0.0000%\n",
      "C47H96     \t\t 0.7237%\t\t\t 0.0000%\n",
      "C48H98     \t\t 0.6791%\t\t\t 0.0000%\n",
      "C49H100    \t\t 0.6373%\t\t\t 0.0000%\n",
      "C50H102    \t\t 0.5980%\t\t\t 0.0000%\n",
      "C51H104    \t\t 0.5612%\t\t\t 0.0000%\n",
      "C52H106    \t\t 0.5266%\t\t\t 0.0000%\n",
      "C53H108    \t\t 0.4942%\t\t\t 0.0000%\n",
      "C54H110    \t\t 0.4638%\t\t\t 0.0000%\n",
      "C55H112    \t\t 0.4352%\t\t\t 0.0000%\n",
      "C56H114    \t\t 0.4084%\t\t\t 0.0000%\n"
     ]
    }
   ],
   "source": [
    "print('Component\\t\\tLiquid: {:.4f}\\t\\t\\tVapor: {:.4f}'.format(model.L['out'].value,model.V['out'].value))\n",
    "print('-'*108)\n",
    "for i in model.x:\n",
    "    print('{:10s}'.format(i),'\\t\\t{:8.4%}\\t\\t\\t{:8.4%}'.format(model.x[i].value,model.y[i].value))"
   ]
  },
  {
   "cell_type": "code",
   "execution_count": 26,
   "metadata": {},
   "outputs": [],
   "source": [
    "# model.solutions.store_to(results)\n",
    "# with open('../../saved_solutions/reactive_flash_MPCC_P_200C.pickle','wb') as f:\n",
    "#     pickle.dump(results,f)"
   ]
  },
  {
   "cell_type": "code",
   "execution_count": null,
   "metadata": {},
   "outputs": [],
   "source": [
    "# with open('test_model.pickle','wb') as f:\n",
    "#     dill.dump(model,f)"
   ]
  },
  {
   "cell_type": "markdown",
   "metadata": {
    "slideshow": {
     "slide_type": "slide"
    }
   },
   "source": [
    "# Iterative Solve for Data Analysis"
   ]
  },
  {
   "cell_type": "code",
   "execution_count": null,
   "metadata": {},
   "outputs": [],
   "source": [
    "results_anchor = results\n",
    "update_dual(pe,model)\n",
    "model.solutions.store_to(results_anchor)"
   ]
  },
  {
   "cell_type": "code",
   "execution_count": null,
   "metadata": {},
   "outputs": [],
   "source": [
    "opt = add_solver(pe, max_iter= 500, warm_start = True, output = True)"
   ]
  },
  {
   "cell_type": "code",
   "execution_count": null,
   "metadata": {},
   "outputs": [],
   "source": [
    "catrange = [3000,1000,500,300,100,50,25,10]\n",
    "Trange = np.linspace(300+273.15,200+273.15,26)"
   ]
  },
  {
   "cell_type": "code",
   "execution_count": null,
   "metadata": {
    "scrolled": false,
    "slideshow": {
     "slide_type": "fragment"
    }
   },
   "outputs": [],
   "source": [
    "rf_data_master = {}\n",
    "\n",
    "for c in catrange:\n",
    "    model.del_component(model.obj)\n",
    "    model.obj = augmented_objective(pe, model, expr = model.cat, sense=pe.minimize)\n",
    "\n",
    "    model.solutions.load_from(results_anchor)\n",
    "    update_dual(pe,model) \n",
    "       \n",
    "    model.T.fix(300+273.15)\n",
    "    model.cat.fixed = False\n",
    "    model.cat.setlb(c)\n",
    "    \n",
    "    results_anchor = opt.solve(model,tee=False)\n",
    "    model.solutions.store_to(results_anchor)\n",
    "    update_dual(pe,model)\n",
    "    \n",
    "    print('\\nWorking on Cat = {} kg'.format(model.cat.value))\n",
    "    print('-'*108)\n",
    "    \n",
    "    model.del_component(model.obj)\n",
    "    model.obj = augmented_objective(pe, model, expr = model.T, sense=pe.maximize)\n",
    "    model.T.fixed = False\n",
    "    model.cat.fixed = True\n",
    "\n",
    "    \n",
    "    rf_data = {}\n",
    "    rf_data['x'] = {};rf_data['y'] = {};\n",
    "    rf_data['T'] = []; rf_data['Q'] = []; rf_data['V'] = []; rf_data['L'] = []; rf_data['P_VLE'] = []; \n",
    "    rf_data['s_L'] = [];\n",
    "    for i in m.COMP_TOTAL:\n",
    "        rf_data['x'][i] = []\n",
    "        rf_data['y'][i] = []       \n",
    "\n",
    "    for t in Trange:\n",
    "        model.T.setub(t)\n",
    "        results = opt.solve(model,tee=False)\n",
    "        update_dual(pe,model)\n",
    "        model.T.setub(300+273.15)\n",
    "        print('Solved\\t|T = {:.2f} K\\t|V = {:.4f} kmol/s\\t|L = {:.4f} kmol/s\\t|s_L = {:.4f}\\t|P_VLE = {:.1f}'.\\\n",
    "              format(model.T.value,model.V['out'].value,model.L['out'].value,which_MPCC(model).s_L.value,model.VLE_block.P_VLE.value))\n",
    "    \n",
    "        rf_data['T'].append(model.T.value)\n",
    "        rf_data['Q'].append(model.Q_main.value)\n",
    "        rf_data['V'].append(model.V['out'].value)\n",
    "        rf_data['L'].append(model.L['out'].value)\n",
    "        rf_data['P_VLE'].append(model.VLE_block.P_VLE.value)\n",
    "        rf_data['s_L'].append(which_MPCC(model).s_L.value)\n",
    "\n",
    "        for i in m.COMP_TOTAL:\n",
    "            rf_data['x'][i].append(model.x[i].value)\n",
    "            rf_data['y'][i].append(model.y[i].value)\n",
    "        \n",
    "    rf_data_master[c] = rf_data"
   ]
  },
  {
   "cell_type": "markdown",
   "metadata": {},
   "source": [
    "# Optimization results across disappearing phases"
   ]
  },
  {
   "cell_type": "code",
   "execution_count": null,
   "metadata": {},
   "outputs": [],
   "source": [
    "fig, (ax1,ax2) = plt.subplots(1,2,figsize=(16,9))\n",
    "for c in catrange:\n",
    "    ax1.plot(Trange,rf_data_master[c]['V'])\n",
    "ax1.set_ylabel('Vapor Flow Rate (kmol/s)',fontsize=14)\n",
    "ax1.set_xlabel('Temperature (K)',fontsize=14)\n",
    "ax1.tick_params(labelsize=14)\n",
    "ax1.grid()\n",
    "\n",
    "for c in catrange:\n",
    "    ax2.plot(Trange,rf_data_master[c]['L'])\n",
    "ax2.set_ylabel('Liquid Flow Rate (kmol/s)',fontsize=14)\n",
    "ax2.set_xlabel('Temperature (K)',fontsize=14)\n",
    "ax2.tick_params(labelsize=14)\n",
    "ax2.grid()\n",
    "\n",
    "ax2.legend(catrange,fontsize=14)\n",
    "fig.suptitle('Vapor and Liquid Flow Rate',fontsize=18)\n",
    "\n",
    "plt.show()"
   ]
  },
  {
   "cell_type": "code",
   "execution_count": null,
   "metadata": {},
   "outputs": [],
   "source": [
    "fig, ax1 = plt.subplots(figsize=(16,9))\n",
    "for c in catrange:\n",
    "    ax1.plot(Trange,np.divide(rf_data_master[c]['V'],np.add(rf_data_master[c]['V'],rf_data_master[c]['L'])))\n",
    "ax1.set_ylabel('Vapor Fraction',fontsize=14)\n",
    "ax1.set_xlabel('Temperature (K)',fontsize=14)\n",
    "ax1.tick_params(labelsize=14)\n",
    "ax1.legend(catrange,fontsize=14)\n",
    "ax1.set_title('Vapor Fraction',fontsize=18)\n",
    "ax1.grid()\n",
    "plt.show()"
   ]
  },
  {
   "cell_type": "code",
   "execution_count": null,
   "metadata": {},
   "outputs": [],
   "source": [
    "fig, ax1 = plt.subplots(figsize=(16,9))\n",
    "for c in catrange:\n",
    "    ax1.plot(Trange,rf_data_master[c]['P_VLE'])\n",
    "ax1.set_ylabel(r'$P_{VLE}$ value',fontsize=14)\n",
    "ax1.set_xlabel('Temperature (K)',fontsize=14)\n",
    "ax1.tick_params(labelsize=14)\n",
    "ax1.legend(catrange,fontsize=14)\n",
    "ax1.set_title(r'$P_{VLE}$ (Bar)',fontsize=18)\n",
    "ax1.grid()\n",
    "plt.show()"
   ]
  },
  {
   "cell_type": "code",
   "execution_count": null,
   "metadata": {},
   "outputs": [],
   "source": [
    "fig, ax1 = plt.subplots(figsize=(16,9))\n",
    "for c in catrange:\n",
    "    ax1.plot(Trange,np.multiply(rf_data_master[c]['s_L'],rf_data_master[c]['L']))\n",
    "ax1.set_ylabel(r'$s_L \\cdot L$ value',fontsize=14)\n",
    "ax1.set_xlabel('Temperature (K)',fontsize=14)\n",
    "ax1.tick_params(labelsize=14)\n",
    "ax1.legend(catrange,fontsize=14)\n",
    "# ax1.set_ylim(2.49e-5,2.51e-5)\n",
    "ax1.set_title(r'$s_L \\cdot L$',fontsize=18)\n",
    "ax1.grid()\n",
    "plt.show()"
   ]
  },
  {
   "cell_type": "code",
   "execution_count": null,
   "metadata": {},
   "outputs": [],
   "source": []
  }
 ],
 "metadata": {
  "kernelspec": {
   "display_name": "Python 3",
   "language": "python",
   "name": "python3"
  },
  "language_info": {
   "codemirror_mode": {
    "name": "ipython",
    "version": 3
   },
   "file_extension": ".py",
   "mimetype": "text/x-python",
   "name": "python",
   "nbconvert_exporter": "python",
   "pygments_lexer": "ipython3",
   "version": "3.6.3"
  }
 },
 "nbformat": 4,
 "nbformat_minor": 2
}
