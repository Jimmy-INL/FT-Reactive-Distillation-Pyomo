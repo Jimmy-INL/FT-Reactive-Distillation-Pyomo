{
 "cells": [
  {
   "cell_type": "markdown",
   "metadata": {
    "slideshow": {
     "slide_type": "slide"
    }
   },
   "source": [
    "# 2nd Level Model Structure: Reactive Stage"
   ]
  },
  {
   "cell_type": "code",
   "execution_count": 1,
   "metadata": {},
   "outputs": [],
   "source": [
    "import sys\n",
    "import os\n",
    "import dill\n",
    "import pickle\n",
    "sys.path.append(os.path.abspath('..'))\n",
    "sys.path.append(os.path.abspath('../..'))\n",
    "import numpy as np\n",
    "from matplotlib import pyplot as plt"
   ]
  },
  {
   "cell_type": "code",
   "execution_count": 2,
   "metadata": {
    "slideshow": {
     "slide_type": "fragment"
    }
   },
   "outputs": [],
   "source": [
    "from pyomo import environ as pe\n",
    "from global_sets.component import m\n",
    "from utility.display_utility import trans_product_mole, trans_product_mass\n",
    "from utility.model_utility import add_dual, update_dual, check_DOF, augmented_objective, add_solver,\\\n",
    "                                    select_MPCC, which_MPCC, disable_restoration\n",
    "\n",
    "# stage construction rules\n",
    "from physics.kinetics.kinetics_reactive import kinetic_block_rule\n",
    "from physics.energy.energy_reactive import energy_block_rule\n",
    "from physics.VLE.VLE_reactive_MPCC_P import VLE_block_rule\n",
    "from physics.MPCC.MPCC_P import P_NCP_block_rule, P_Reg_block_rule, P_pf_block_rule"
   ]
  },
  {
   "cell_type": "code",
   "execution_count": 3,
   "metadata": {},
   "outputs": [],
   "source": [
    "model = pe.ConcreteModel()"
   ]
  },
  {
   "cell_type": "markdown",
   "metadata": {
    "slideshow": {
     "slide_type": "subslide"
    }
   },
   "source": [
    "# Global Sets (Inlet / Outlet)"
   ]
  },
  {
   "cell_type": "code",
   "execution_count": 4,
   "metadata": {
    "slideshow": {
     "slide_type": "fragment"
    }
   },
   "outputs": [],
   "source": [
    "model.inlet = pe.Set(initialize=['in','R'])\n",
    "model.outlet = pe.Set(initialize=['out','P'])\n",
    "model.stream = model.inlet | model.outlet"
   ]
  },
  {
   "cell_type": "markdown",
   "metadata": {
    "slideshow": {
     "slide_type": "subslide"
    }
   },
   "source": [
    "# Global Variables"
   ]
  },
  {
   "cell_type": "code",
   "execution_count": 5,
   "metadata": {
    "slideshow": {
     "slide_type": "fragment"
    }
   },
   "outputs": [],
   "source": [
    "# Tray Inlet/Outlet Variable\n",
    "model.x_ = pe.Var(model.inlet,m.COMP_TOTAL,within=pe.NonNegativeReals)\n",
    "model.y_ = pe.Var(model.inlet,m.COMP_TOTAL,within=pe.NonNegativeReals)\n",
    "model.x = pe.Var(m.COMP_TOTAL,within=pe.NonNegativeReals)\n",
    "model.y = pe.Var(m.COMP_TOTAL,within=pe.NonNegativeReals)\n",
    "model.z = pe.Var(m.COMP_FEED,within=pe.NonNegativeReals)\n",
    "\n",
    "model.L = pe.Var(model.stream,within=pe.NonNegativeReals)\n",
    "model.V = pe.Var(model.stream,within=pe.NonNegativeReals)\n",
    "model.F = pe.Var(within=pe.NonNegativeReals)\n",
    "\n",
    "model.H_L_ = pe.Var(model.inlet,within=pe.Reals)\n",
    "model.H_V_ = pe.Var(model.inlet,within=pe.Reals)\n",
    "model.H_L = pe.Var(within=pe.Reals)\n",
    "model.H_V = pe.Var(within=pe.Reals)\n",
    "model.H_F = pe.Var(within=pe.Reals)\n",
    "\n",
    "# State Variable\n",
    "model.T = pe.Var(within=pe.NonNegativeReals,bounds=(200+273.15,300+273.15)) # K\n",
    "model.T_F = pe.Var(within=pe.NonNegativeReals) # K\n",
    "model.P = pe.Var(within=pe.NonNegativeReals,bounds=(10,30)) # Bar\n",
    "\n",
    "model.f_V = pe.Var(m.COMP_TOTAL,within=pe.NonNegativeReals,initialize=1e-20)\n",
    "model.f_L = pe.Var(m.COMP_TOTAL,within=pe.NonNegativeReals,initialize=1e-20)\n",
    "\n",
    "model.cat = pe.Var(within=pe.NonNegativeReals,initialize=30000) # kg\n",
    "model.Q_main = pe.Var(within=pe.Reals) # MW\n",
    "model.r_total_comp = pe.Var(m.COMP_TOTAL,within=pe.Reals) # kmol/s"
   ]
  },
  {
   "cell_type": "markdown",
   "metadata": {
    "slideshow": {
     "slide_type": "slide"
    }
   },
   "source": [
    "# Construct Individual Blocks"
   ]
  },
  {
   "cell_type": "code",
   "execution_count": 6,
   "metadata": {},
   "outputs": [],
   "source": [
    "if model.find_component('kinetics_block'):\n",
    "    print('haha')"
   ]
  },
  {
   "cell_type": "code",
   "execution_count": 7,
   "metadata": {
    "slideshow": {
     "slide_type": "subslide"
    }
   },
   "outputs": [
    {
     "name": "stdout",
     "output_type": "stream",
     "text": [
      "> Importing Kinetics Blocks......\n",
      "> Adding the following local variable:\n",
      "--------------------------------------------------\n",
      "| kinetics_block.k_FT\n",
      "| kinetics_block.r_FT_total\n",
      "| kinetics_block.g0_FT\n",
      "| kinetics_block.alpha\n",
      "| kinetics_block.r_FT_cnum\n",
      "| kinetics_block.r_FT_comp\n",
      "| kinetics_block.k_WGS\n",
      "| kinetics_block.Ke_WGS\n",
      "| kinetics_block.r_WGS\n",
      "| kinetics_block.r_WGS_comp\n",
      "--------------------------------------------------\n",
      "\n"
     ]
    }
   ],
   "source": [
    "model.kinetics_block = pe.Block(rule=kinetic_block_rule)"
   ]
  },
  {
   "cell_type": "code",
   "execution_count": 8,
   "metadata": {
    "slideshow": {
     "slide_type": "subslide"
    }
   },
   "outputs": [
    {
     "name": "stdout",
     "output_type": "stream",
     "text": [
      "> Importing Energy Blocks......\n",
      "> Adding the following local variable:\n",
      "--------------------------------------------------\n",
      "| energy_block.dH_F\n",
      "| energy_block.dH_V\n",
      "| energy_block.dH_L\n",
      "| energy_block.dH_vap\n",
      "--------------------------------------------------\n",
      "\n"
     ]
    }
   ],
   "source": [
    "model.energy_block = pe.Block(rule=energy_block_rule)"
   ]
  },
  {
   "cell_type": "code",
   "execution_count": 9,
   "metadata": {
    "scrolled": false,
    "slideshow": {
     "slide_type": "subslide"
    }
   },
   "outputs": [
    {
     "name": "stdout",
     "output_type": "stream",
     "text": [
      "> Importing VLE Blocks......\n",
      "> Adding the following local variable:\n",
      "--------------------------------------------------\n",
      "| VLE_block.P_VLE\n",
      "| VLE_block.n_ave\n",
      "| VLE_block.n_ave_cal\n",
      "| VLE_block.Hen\n",
      "| VLE_block.Hen0\n",
      "| VLE_block.gamma\n",
      "| VLE_block.P_sat\n",
      "| VLE_block.P_sat_Y\n",
      "| VLE_block.P_sat_dY_inf\n",
      "| VLE_block.P_sat_dY0\n",
      "| VLE_block.Hen_ref\n",
      "| VLE_block.Hen0_ref\n",
      "| VLE_block.gamma_ref\n",
      "| VLE_block.V_L\n",
      "| VLE_block.V_L_dY_inf\n",
      "| VLE_block.V_L_dY0\n",
      "| VLE_block.poynting\n",
      "--------------------------------------------------\n",
      "\n"
     ]
    }
   ],
   "source": [
    "model.VLE_block = pe.Block(rule=VLE_block_rule)"
   ]
  },
  {
   "cell_type": "markdown",
   "metadata": {
    "slideshow": {
     "slide_type": "slide"
    }
   },
   "source": [
    "# Standard MESH Equations"
   ]
  },
  {
   "cell_type": "markdown",
   "metadata": {
    "slideshow": {
     "slide_type": "subslide"
    }
   },
   "source": [
    "## Mass Balance"
   ]
  },
  {
   "cell_type": "markdown",
   "metadata": {
    "slideshow": {
     "slide_type": "fragment"
    }
   },
   "source": [
    "\\begin{equation}\n",
    "Fz_{i}+\\sum_{s\\in{inlet}}L_{s}x'_{i,s}+\\sum_{s\\in{inlet}}V_{s}y'_{i,s}-\\sum_{s\\in{outlet}}L_{s}x_{i,s}+\\sum_{s\\in{ouelet}}V_{s}y_{i,s}+R_{i} = 0 \\\\\n",
    "i = 1,...NC\n",
    "\\end{equation}"
   ]
  },
  {
   "cell_type": "code",
   "execution_count": 10,
   "metadata": {
    "slideshow": {
     "slide_type": "fragment"
    }
   },
   "outputs": [],
   "source": [
    "def mass_balance_main_rule(model,i):\n",
    "    if i in m.COMP_FEED:\n",
    "        return model.F*model.z[i] + sum(model.L[s]*model.x_[s,i] + model.V[s]*model.y_[s,i] for s in model.inlet)\\\n",
    "        + model.r_total_comp[i] - sum(model.L[s]*model.x[i] + model.V[s]*model.y[i] for s in model.outlet) == 0\n",
    "    else:\n",
    "        return sum(model.L[s]*model.x_[s,i] + model.V[s]*model.y_[s,i] for s in model.inlet)\\\n",
    "        + model.r_total_comp[i] - sum(model.L[s]*model.x[i] + model.V[s]*model.y[i] for s in model.outlet) == 0\n",
    "model.mass_balance_main_con = pe.Constraint(m.COMP_TOTAL,rule=mass_balance_main_rule)"
   ]
  },
  {
   "cell_type": "markdown",
   "metadata": {
    "slideshow": {
     "slide_type": "subslide"
    }
   },
   "source": [
    "## Equilibrium"
   ]
  },
  {
   "cell_type": "markdown",
   "metadata": {
    "slideshow": {
     "slide_type": "fragment"
    }
   },
   "source": [
    "\\begin{align}\n",
    "&f_{i,V} = f_{i,L} \\\\\n",
    "&i = 1,...NC\n",
    "\\end{align}"
   ]
  },
  {
   "cell_type": "code",
   "execution_count": 11,
   "metadata": {
    "slideshow": {
     "slide_type": "fragment"
    }
   },
   "outputs": [],
   "source": [
    "def VL_equil_rule(model,i):\n",
    "    return model.f_V[i] == model.f_L[i]\n",
    "model.VL_equil_con = pe.Constraint(m.COMP_TOTAL,rule=VL_equil_rule)"
   ]
  },
  {
   "cell_type": "markdown",
   "metadata": {},
   "source": [
    "## MPCC: Add all three"
   ]
  },
  {
   "cell_type": "code",
   "execution_count": 12,
   "metadata": {
    "scrolled": false
   },
   "outputs": [
    {
     "name": "stdout",
     "output_type": "stream",
     "text": [
      "> Importing MPCC_P_pf Blocks......\n",
      "> Adding the following local variable:\n",
      "--------------------------------------------------\n",
      "| MPCC_P_pf.s_L\n",
      "| MPCC_P_pf.s_V\n",
      "| MPCC_P_pf.pf\n",
      "| MPCC_P_pf.epi\n",
      "| MPCC_P_pf.rho\n",
      "--------------------------------------------------\n",
      "> Spliting pressure used in VLE\n",
      "Deleted original P_equal constraint\n",
      "\n",
      "> Deleted kinetics rates constraints\n",
      "> Added f_V_MPCC, updated rates constraints\n",
      "\n",
      "> Importing MPCC_P_NCP Blocks......\n",
      "> Adding the following local variable:\n",
      "--------------------------------------------------\n",
      "| MPCC_P_NCP.s_L\n",
      "| MPCC_P_NCP.s_V\n",
      "| MPCC_P_NCP.epi\n",
      "--------------------------------------------------\n",
      "> Adding complementarity constraint, spliting pressure used in VLE\n",
      "> No constraint to delete\n",
      "\n",
      "> Already replaced f_V_MPCC\n",
      "\n",
      "> Importing MPCC_P_Reg Blocks......\n",
      "> Adding the following local variable:\n",
      "--------------------------------------------------\n",
      "| MPCC_P_Reg.s_L\n",
      "| MPCC_P_Reg.s_V\n",
      "| MPCC_P_Reg.epi\n",
      "--------------------------------------------------\n",
      "> Adding complementarity constraint, spliting pressure used in VLE\n",
      "No constraint to delete\n",
      "\n",
      "> Already replaced f_V_MPCC\n",
      "\n"
     ]
    }
   ],
   "source": [
    "model.MPCC_P_pf = pe.Block(rule = P_pf_block_rule)\n",
    "model.MPCC_P_NCP = pe.Block(rule = P_NCP_block_rule)\n",
    "model.MPCC_P_Reg = pe.Block(rule = P_Reg_block_rule)"
   ]
  },
  {
   "cell_type": "code",
   "execution_count": 13,
   "metadata": {},
   "outputs": [
    {
     "name": "stdout",
     "output_type": "stream",
     "text": [
      "> Selected MPCC: MPCC_P_pf\n",
      "s_L:  0\n",
      "s_V:  0\n",
      "\n"
     ]
    }
   ],
   "source": [
    "select_MPCC(model,'pf')"
   ]
  },
  {
   "cell_type": "markdown",
   "metadata": {
    "slideshow": {
     "slide_type": "subslide"
    }
   },
   "source": [
    "## Summation"
   ]
  },
  {
   "cell_type": "markdown",
   "metadata": {
    "slideshow": {
     "slide_type": "fragment"
    }
   },
   "source": [
    "\\begin{equation}\n",
    "\\sum_ix_{i} = \\sum_iy_{i} \\\\\n",
    "F + L_{in} + V_{in} + R = L_{out} + V_{out}\n",
    "\\end{equation}"
   ]
  },
  {
   "cell_type": "code",
   "execution_count": 14,
   "metadata": {
    "slideshow": {
     "slide_type": "fragment"
    }
   },
   "outputs": [],
   "source": [
    "def summation_x_y_rule(model):\n",
    "    return sum(model.x[i] for i in m.COMP_TOTAL) == sum(model.y[i] for i in m.COMP_TOTAL)\n",
    "model.summation_x_y_con = pe.Constraint(rule=summation_x_y_rule)\n",
    "\n",
    "def summation_total_mass_rule(model):\n",
    "    return model.F + sum(model.L[s] + model.V[s] for s in model.inlet) + sum(model.r_total_comp[i] for i in m.COMP_TOTAL)\\\n",
    "            - sum(model.L[s] + model.V[s] for s in model.outlet) == 0\n",
    "model.summation_total_mass_con = pe.Constraint(rule=summation_total_mass_rule)"
   ]
  },
  {
   "cell_type": "markdown",
   "metadata": {
    "slideshow": {
     "slide_type": "subslide"
    }
   },
   "source": [
    "## Energy Balance"
   ]
  },
  {
   "cell_type": "markdown",
   "metadata": {
    "slideshow": {
     "slide_type": "fragment"
    }
   },
   "source": [
    "\\begin{equation}\n",
    "F H_f+\\sum_{s\\in{inlet}}L_{s}H_{l,s}+\\sum_{s\\in{inlet}}V_{s}H_{v,s}-\\sum_{s\\in{outlet}}L_{s}H_{l,s}-\\sum_{s\\in{outlet}}V_{s}H_{v,s}+Q = 0\n",
    "\\end{equation}"
   ]
  },
  {
   "cell_type": "code",
   "execution_count": 15,
   "metadata": {
    "slideshow": {
     "slide_type": "fragment"
    }
   },
   "outputs": [],
   "source": [
    "def heat_balance_main_rule(model):\n",
    "    return model.F*model.H_F + sum(model.L[s]*model.H_L_[s] + model.V[s]*model.H_V_[s] for s in model.inlet) \\\n",
    "            + model.Q_main - sum(model.L[s]*model.H_L + model.V[s]*model.H_V for s in model.outlet) == 0\n",
    "model.heat_balance_main_con = pe.Constraint(rule=heat_balance_main_rule)"
   ]
  },
  {
   "cell_type": "markdown",
   "metadata": {
    "slideshow": {
     "slide_type": "slide"
    }
   },
   "source": [
    "# Testing"
   ]
  },
  {
   "cell_type": "code",
   "execution_count": 16,
   "metadata": {
    "slideshow": {
     "slide_type": "fragment"
    }
   },
   "outputs": [
    {
     "name": "stdout",
     "output_type": "stream",
     "text": [
      "Created the follow pyomo suffixes:\n",
      "ipopt_zL_out, ipopt_zU_out, ipopt_zL_in, ipopt_zU_in, dual\n"
     ]
    }
   ],
   "source": [
    "add_dual(pe,model)"
   ]
  },
  {
   "cell_type": "markdown",
   "metadata": {
    "slideshow": {
     "slide_type": "fragment"
    }
   },
   "source": [
    "## Fixing In/Product Redundent Flow"
   ]
  },
  {
   "cell_type": "code",
   "execution_count": 17,
   "metadata": {
    "slideshow": {
     "slide_type": "fragment"
    }
   },
   "outputs": [],
   "source": [
    "model.x_.fix(0)\n",
    "model.y_.fix(0)\n",
    "model.L['in'].fix(0)\n",
    "model.L['R'].fix(0)\n",
    "model.L['P'].fix(0)\n",
    "\n",
    "model.V['in'].fix(0)\n",
    "model.V['R'].fix(0)\n",
    "model.V['P'].fix(0)\n",
    "model.H_L_.fix(0)\n",
    "model.H_V_.fix(0)"
   ]
  },
  {
   "cell_type": "markdown",
   "metadata": {
    "slideshow": {
     "slide_type": "subslide"
    }
   },
   "source": [
    "## Fixing Model Parameters"
   ]
  },
  {
   "cell_type": "code",
   "execution_count": 18,
   "metadata": {
    "slideshow": {
     "slide_type": "fragment"
    }
   },
   "outputs": [],
   "source": [
    "model.cat.fix(30000)\n",
    "model.P.fix(20)\n",
    "model.T_F.fix(200+273.15)\n",
    "model.F.fix(10)\n",
    "model.z['CO'].fix(1/(1+2)-0/2)\n",
    "model.z['H2'].fix(2/(1+2)-0/2)\n",
    "model.z['C30H62'].fix(0)\n",
    "model.VLE_block.n_ave.fix(20)"
   ]
  },
  {
   "cell_type": "markdown",
   "metadata": {
    "slideshow": {
     "slide_type": "subslide"
    }
   },
   "source": [
    "## Fix T or to fix Q? we have found that Maximize against an upper bound is most reliable"
   ]
  },
  {
   "cell_type": "code",
   "execution_count": 19,
   "metadata": {
    "slideshow": {
     "slide_type": "fragment"
    }
   },
   "outputs": [],
   "source": [
    "model.T.setub(300+273.15)"
   ]
  },
  {
   "cell_type": "code",
   "execution_count": 20,
   "metadata": {
    "slideshow": {
     "slide_type": "fragment"
    }
   },
   "outputs": [
    {
     "name": "stdout",
     "output_type": "stream",
     "text": [
      "------------------------------------------------------------------------------------------------------------\n",
      "> Obj = maximize\n",
      "> T - MPCC_P_pf.pf\n",
      "------------------------------------------------------------------------------------------------------------\n"
     ]
    }
   ],
   "source": [
    "model.obj = augmented_objective(pe, model, expr = model.T, sense=pe.maximize)"
   ]
  },
  {
   "cell_type": "code",
   "execution_count": 21,
   "metadata": {
    "scrolled": false,
    "slideshow": {
     "slide_type": "fragment"
    }
   },
   "outputs": [],
   "source": [
    "opt = add_solver(pe, max_iter = 5000, warm_start = False, output = False)\n",
    "disable_restoration(mode = 'enable')"
   ]
  },
  {
   "cell_type": "code",
   "execution_count": 22,
   "metadata": {
    "scrolled": false
   },
   "outputs": [
    {
     "name": "stdout",
     "output_type": "stream",
     "text": [
      "Ipopt 3.12.10: print_user_options=yes\n",
      "tol=1e-08\n",
      "option_file_name=./ipopt.opt\n",
      "max_iter=5000\n",
      "\n",
      "Using option file \"./ipopt.opt\".\n",
      "\n",
      "\n",
      "List of user-set options:\n",
      "\n",
      "                                    Name   Value                used\n",
      "                           compl_inf_tol = 1                     yes\n",
      "                         constr_viol_tol = 1                     yes\n",
      "                            dual_inf_tol = 1000                  yes\n",
      "                           linear_solver = ma97                  yes\n",
      "                              ma86_small = 1e-30                  no\n",
      "                                  ma86_u = 0.0001                 no\n",
      "                              ma97_order = best                  yes\n",
      "                              ma97_small = 1e-30                 yes\n",
      "                            ma97_switch1 = at_start              yes\n",
      "                            ma97_switch2 = od_hd_reuse           yes\n",
      "                                  ma97_u = 1e-06                 yes\n",
      "                               ma97_umax = 0.5                   yes\n",
      "                                max_iter = 5000                  yes\n",
      "                    max_refinement_steps = 20                    yes\n",
      "                    min_refinement_steps = 5                     yes\n",
      "           mu_superlinear_decrease_power = 1.25                  yes\n",
      "                   nlp_scaling_min_value = 1e-08                 yes\n",
      "                        option_file_name = ./ipopt.opt           yes\n",
      "                      print_user_options = yes                   yes\n",
      "                                     tol = 1e-08                 yes\n",
      "                   warm_start_bound_frac = 1e-20                 yes\n",
      "                warm_start_mult_init_max = 1e+40                 yes\n",
      "             warm_start_slack_bound_frac = 1e-20                 yes\n",
      "             warm_start_slack_bound_push = 1e-20                 yes\n",
      "\n",
      "******************************************************************************\n",
      "This program contains Ipopt, a library for large-scale nonlinear optimization.\n",
      " Ipopt is released as open source code under the Eclipse Public License (EPL).\n",
      "         For more information visit http://projects.coin-or.org/Ipopt\n",
      "******************************************************************************\n",
      "\n",
      "This is Ipopt version 3.12.10, running with linear solver ma97.\n",
      "\n",
      "Number of nonzeros in equality constraint Jacobian...:     4020\n",
      "Number of nonzeros in inequality constraint Jacobian.:        5\n",
      "Number of nonzeros in Lagrangian Hessian.............:     1545\n",
      "\n",
      "Total number of variables............................:     1190\n",
      "                     variables with only lower bounds:      387\n",
      "                variables with lower and upper bounds:      633\n",
      "                     variables with only upper bounds:        0\n",
      "Total number of equality constraints.................:     1186\n",
      "Total number of inequality constraints...............:        1\n",
      "        inequality constraints with only lower bounds:        0\n",
      "   inequality constraints with lower and upper bounds:        0\n",
      "        inequality constraints with only upper bounds:        1\n",
      "\n",
      "iter    objective    inf_pr   inf_du lg(mu)  ||d||  lg(rg) alpha_du alpha_pr  ls\n",
      "   0 -4.7414000e+02 9.24e+03 1.00e+00  -1.0 0.00e+00    -  0.00e+00 0.00e+00   0\n",
      "   1 -4.7414084e+02 9.24e+03 2.03e+01  -1.0 2.25e+05    -  2.96e-06 1.15e-05h  1\n",
      "   2 -4.7414105e+02 9.24e+03 8.01e+01  -1.0 2.94e+05    -  3.75e-06 1.18e-05h  1\n",
      "   3r-4.7414105e+02 9.24e+03 9.99e+02   3.9 0.00e+00   0.0 0.00e+00 4.69e-07R  2\n",
      "   4r-4.7414103e+02 9.24e+03 7.58e+05   3.9 5.41e+05    -  2.05e-03 6.15e-08f  1\n",
      "   5r-4.8532919e+02 7.00e+03 8.41e+05   3.9 4.75e+05    -  4.74e-04 3.80e-03f  1\n",
      "   6 -4.8533061e+02 7.00e+03 1.88e+01  -1.0 8.48e+04    -  2.50e-05 3.65e-05h  1\n",
      "   7 -4.8533198e+02 7.00e+03 1.99e+01  -1.0 1.68e+04    -  6.19e-05 3.82e-05h  1\n",
      "   8 -4.8533729e+02 7.00e+03 6.81e+01  -1.0 1.33e+04    -  1.07e-04 1.50e-04h  1\n",
      "   9 -4.8533806e+02 7.00e+03 6.32e+01  -1.0 5.28e+04    -  2.53e-04 2.38e-05h  1\n",
      "iter    objective    inf_pr   inf_du lg(mu)  ||d||  lg(rg) alpha_du alpha_pr  ls\n",
      "  10 -4.8534050e+02 7.00e+03 5.14e+01  -1.0 5.62e+04    -  2.27e-04 8.63e-05h  1\n",
      "  11 -4.8534059e+02 7.00e+03 8.00e+02  -1.0 8.69e+04    -  6.23e-04 2.55e-05h  1\n",
      "  12 -4.8530423e+02 7.00e+03 2.53e+03  -1.0 9.45e+04    -  5.87e-05 4.38e-05h  1\n",
      "  13 -4.6987703e+02 7.00e+03 1.52e+04  -1.0 1.11e+05    -  8.00e-07 1.39e-04h  1\n",
      "  14 -4.6110504e+02 7.00e+03 1.51e+04  -1.0 1.88e+05    -  8.24e-05 4.66e-05h  1\n",
      "  15r-4.6110504e+02 7.00e+03 1.00e+03   3.8 0.00e+00    -  0.00e+00 2.35e-07R  2\n",
      "  16r-4.6110799e+02 7.00e+03 1.17e+05   3.8 6.09e+05    -  7.87e-04 7.68e-07f  1\n",
      "  17r-4.6897496e+02 5.47e+03 1.18e+05   3.1 6.13e+05    -  1.05e-03 2.01e-03f  1\n",
      "  18 -4.2863456e+02 5.47e+03 4.69e+02  -1.0 7.99e+04    -  2.24e-05 5.05e-04h  1\n",
      "  19r-4.2863456e+02 5.47e+03 9.99e+02   3.7 0.00e+00    -  0.00e+00 3.34e-07R  5\n",
      "iter    objective    inf_pr   inf_du lg(mu)  ||d||  lg(rg) alpha_du alpha_pr  ls\n",
      "  20r-4.2863504e+02 5.47e+03 2.57e+05   3.7 6.48e+05    -  3.31e-03 1.24e-07f  2\n",
      "  21r-4.5019460e+02 9.58e+02 3.90e+05   3.0 6.09e+05    -  5.88e-03 5.84e-03f  1\n",
      "  22 -4.7080460e+02 9.57e+02 1.76e+02  -1.0 1.89e+05    -  1.98e-04 1.09e-04f  1\n",
      "  23 -4.6965984e+02 9.57e+02 1.08e+03  -1.0 6.51e+04    -  6.76e-04 1.76e-05h  1\n",
      "  24r-4.6965984e+02 9.57e+02 9.99e+02   2.9 0.00e+00    -  0.00e+00 2.56e-07R  6\n",
      "  25r-4.7000404e+02 8.83e+02 3.65e+04   2.9 5.67e+05    -  3.76e-03 1.07e-04f  1\n",
      "  26r-4.7461230e+02 5.13e+02 3.61e+04   2.2 1.86e+05    -  4.08e-03 3.87e-03f  1\n",
      "  27 -4.7461388e+02 5.13e+02 7.42e+01  -1.0 5.08e+03    -  1.60e-03 2.11e-05h  1\n",
      "  28r-4.7461388e+02 5.13e+02 9.99e+02   2.7 0.00e+00    -  0.00e+00 3.77e-07R  4\n",
      "  29r-4.7461433e+02 5.13e+02 2.85e+04   2.7 2.52e+04    -  6.76e-03 3.83e-06f  1\n",
      "iter    objective    inf_pr   inf_du lg(mu)  ||d||  lg(rg) alpha_du alpha_pr  ls\n",
      "  30r-4.7544846e+02 5.13e+02 2.39e+04   2.7 2.15e+04    -  1.08e-02 9.12e-03f  1\n",
      "  31r-4.7550586e+02 5.12e+02 2.96e+04   2.7 9.85e+03    -  4.41e-02 1.33e-02f  1\n",
      "  32r-4.7604230e+02 5.10e+02 2.77e+04   2.0 4.12e+03    -  5.97e-02 5.26e-02f  1\n",
      "  33r-4.7414835e+02 5.01e+02 2.41e+04   2.0 8.28e+02    -  1.13e-01 8.66e-02f  1\n",
      "  34r-4.7372122e+02 4.96e+02 2.20e+04   2.0 8.34e+01   0.0 8.42e-02 8.16e-02f  1\n",
      "  35r-4.6973236e+02 4.82e+02 1.53e+04   2.0 8.14e+01    -  2.56e-01 1.67e-01f  1\n",
      "  36r-4.6949055e+02 4.65e+02 1.33e+04   1.3 6.79e+01    -  1.82e-01 2.50e-01f  1\n",
      "  37r-4.6911366e+02 4.58e+02 1.27e+04   1.3 2.97e+02    -  4.63e-02 4.35e-02f  1\n",
      "  38 -4.6915086e+02 4.57e+02 3.75e+02  -1.0 2.88e+04    -  3.71e-05 7.01e-04h  2\n",
      "  39 -4.6917858e+02 4.57e+02 3.70e+02  -1.0 5.14e+04    -  5.38e-04 2.59e-04h  1\n",
      "iter    objective    inf_pr   inf_du lg(mu)  ||d||  lg(rg) alpha_du alpha_pr  ls\n",
      "  40r-4.6917858e+02 4.57e+02 9.99e+02   2.7 0.00e+00    -  0.00e+00 3.95e-07R  6\n",
      "  41r-4.6917813e+02 4.57e+02 7.15e+03   2.7 2.64e+03    -  3.66e-03 5.73e-06f  1\n",
      "  42r-4.6828322e+02 4.32e+02 2.29e+04   2.7 2.64e+03    -  3.19e-02 9.59e-03f  1\n",
      "  43r-4.6761854e+02 3.62e+02 2.24e+04   2.0 2.61e+03    -  2.82e-02 2.68e-02f  1\n",
      "  44 -4.6761041e+02 3.62e+02 6.95e+00  -1.0 2.38e+04    -  5.17e-04 8.80e-05h  1\n",
      "  45 -4.6693309e+02 3.61e+02 1.03e+02  -1.0 2.11e+04    -  9.12e-04 2.55e-03f  1\n",
      "  46 -4.6691620e+02 3.61e+02 7.34e+01  -1.0 2.16e+04    -  3.80e-03 9.89e-05h  1\n",
      "  47 -4.6639042e+02 3.60e+02 2.76e+02  -1.0 2.18e+04    -  4.34e-03 2.38e-03h  1\n",
      "  48 -4.6632927e+02 3.60e+02 1.80e+03  -1.0 2.30e+04    -  1.94e-03 2.32e-05h  1\n",
      "  49r-4.6632927e+02 3.60e+02 1.00e+03   2.6 0.00e+00    -  0.00e+00 2.57e-07R  7\n",
      "iter    objective    inf_pr   inf_du lg(mu)  ||d||  lg(rg) alpha_du alpha_pr  ls\n",
      "  50r-4.6632695e+02 3.60e+02 3.37e+03   2.6 1.76e+05    -  2.35e-03 1.40e-05f  1\n",
      "  51r-4.6578624e+02 3.30e+02 3.45e+04   2.6 6.61e+04    -  4.13e-02 3.74e-03f  1\n",
      "  52r-4.6206047e+02 5.20e+02 5.21e+04   2.6 7.70e+03    -  2.45e-02 4.25e-02f  1\n",
      "  53r-4.6187440e+02 5.17e+02 9.44e+04   2.6 7.92e+02    -  6.92e-02 4.13e-03f  1\n",
      "  54r-4.5835784e+02 5.19e+02 8.14e+05   2.6 6.24e+02    -  3.43e-01 6.33e-02f  1\n",
      "  55r-4.4287004e+02 4.77e+02 5.15e+05   2.6 2.98e+02    -  3.55e-01 2.61e-01f  1\n",
      "  56r-4.2552561e+02 2.86e+03 6.91e+05   2.6 2.91e+02    -  1.00e+00 8.45e-01f  1\n",
      "  57r-4.2552320e+02 1.67e+03 4.54e+05   2.6 5.18e-01   4.0 3.65e-01 4.27e-01f  1\n",
      "  58r-4.2291410e+02 5.60e+03 2.87e+05   2.6 3.01e+02    -  8.44e-01 8.38e-01f  1\n",
      "  59r-4.2291263e+02 4.03e+03 2.05e+05   2.6 6.64e-01   3.5 3.00e-01 2.87e-01h  1\n",
      "iter    objective    inf_pr   inf_du lg(mu)  ||d||  lg(rg) alpha_du alpha_pr  ls\n",
      "  60r-4.2291050e+02 8.09e+01 8.31e+03   2.6 2.72e-01   3.0 1.00e+00 1.00e+00f  1\n",
      "  61 -4.2302798e+02 8.02e+01 9.80e+01  -1.0 1.72e+04    -  1.63e-03 1.36e-03h  1\n",
      "  62 -4.2320027e+02 7.95e+01 3.17e+02  -1.0 1.94e+04    -  5.76e-02 2.12e-03h  4\n",
      "  63 -4.2340781e+02 7.91e+01 7.81e+02  -1.0 2.30e+04    -  5.11e-02 3.13e-03h  3\n",
      "  64 -4.2332810e+02 1.77e+01 3.63e+04  -1.0 3.27e+04    -  5.19e-02 3.30e-03h  2\n",
      "  65r-4.2332810e+02 1.77e+01 1.00e+03   1.2 0.00e+00    -  0.00e+00 3.22e-07R 13\n",
      "  66r-4.2331600e+02 8.36e+00 2.21e+04   1.2 1.77e+04    -  1.07e-01 9.90e-04f  1\n",
      "  67 -4.2331746e+02 8.36e+00 1.17e+01  -1.0 6.42e+04    -  2.27e-04 1.99e-05h  1\n",
      "  68 -4.2330412e+02 8.36e+00 1.07e+04  -1.0 1.20e+05    -  2.54e-02 8.72e-04h  1\n",
      "  69 -4.2307624e+02 8.36e+00 1.59e+04  -1.0 6.31e+05    -  1.24e-05 6.44e-06f  5\n",
      "iter    objective    inf_pr   inf_du lg(mu)  ||d||  lg(rg) alpha_du alpha_pr  ls\n",
      "  70 -4.2252478e+02 8.36e+00 2.44e+04  -1.0 3.05e+05    -  5.86e-06 9.97e-06f  4\n",
      "  71 -4.2129171e+02 8.36e+00 2.61e+04  -1.0 3.77e+05    -  1.19e-05 2.23e-05f  3\n",
      "  72 -4.1858404e+02 8.36e+00 8.81e+03  -1.0 4.90e+05    -  2.81e-05 2.81e-05s  8\n",
      "  73r-4.1858404e+02 8.36e+00 1.00e+03   0.9 0.00e+00    -  0.00e+00 0.00e+00R  1\n",
      "  74r-4.1858198e+02 8.07e+00 4.33e+03   0.9 5.29e+03    -  4.50e-02 3.03e-04f  1\n",
      "  75r-4.1850559e+02 1.62e+03 6.09e+03   0.9 1.05e+03    -  3.38e-02 1.68e-02f  1\n",
      "  76r-4.1787756e+02 1.96e+03 1.04e+04   0.9 1.20e+03    -  4.82e-02 1.25e-02f  1\n",
      "  77r-4.1727658e+02 3.94e+03 1.14e+04   0.9 1.10e+03    -  7.85e-03 4.44e-02f  1\n",
      "  78r-4.1678702e+02 3.61e+03 2.65e+04   0.9 9.71e+02    -  2.39e-01 3.33e-02f  1\n",
      "  79r-4.1407440e+02 3.44e+03 2.32e+04   0.9 8.61e+02    -  2.77e-01 2.07e-01f  1\n",
      "iter    objective    inf_pr   inf_du lg(mu)  ||d||  lg(rg) alpha_du alpha_pr  ls\n",
      "  80r-4.1181648e+02 2.52e+03 3.42e+04   0.9 6.73e+02    -  6.23e-01 2.60e-01f  1\n",
      "  81r-4.0933433e+02 1.81e+03 3.05e+04   0.9 5.60e+02    -  7.12e-01 2.81e-01f  1\n",
      "  82r-4.0563523e+02 3.92e+02 4.22e+02   0.9 1.94e+01    -  7.18e-01 9.87e-01f  1\n",
      "  83r-4.0490280e+02 3.37e+02 4.82e+02   0.9 4.25e+01    -  1.00e+00 9.31e-01h  1\n",
      "  84r-4.0469746e+02 1.17e+02 1.73e+02   0.9 1.36e+01    -  1.00e+00 1.00e+00f  1\n",
      "  85r-4.0466816e+02 4.01e+00 4.55e+00   0.9 2.24e+00    -  1.00e+00 1.00e+00h  1\n",
      "  86r-4.0466816e+02 4.01e+00 9.99e+02   0.6 0.00e+00    -  0.00e+00 2.52e-07R 14\n",
      "  87r-4.0466344e+02 1.88e+00 6.11e+03   0.6 4.01e+03    -  1.49e-01 9.90e-04f  1\n",
      "  88 -4.0473353e+02 4.66e+00 5.24e+01  -1.0 2.83e+03    -  9.53e-04 5.25e-04f  2\n",
      "  89 -4.0474666e+02 4.82e+00 4.93e+01  -1.0 3.00e+03    -  4.47e-03 1.03e-04h  3\n"
     ]
    },
    {
     "name": "stdout",
     "output_type": "stream",
     "text": [
      "iter    objective    inf_pr   inf_du lg(mu)  ||d||  lg(rg) alpha_du alpha_pr  ls\n",
      "  90r-4.0474666e+02 4.82e+00 9.99e+02   0.7 0.00e+00    -  0.00e+00 2.56e-07R 13\n",
      "  91r-4.0474574e+02 3.27e+00 4.87e+03   0.7 4.82e+03    -  9.90e-02 3.30e-04f  1\n",
      "  92r-4.0427385e+02 1.11e+03 2.15e+04   0.7 2.03e+02    -  4.62e-01 5.32e-02f  1\n",
      "  93r-4.0031940e+02 3.66e+04 2.02e+04   0.7 1.95e+02    -  3.30e-01 5.12e-01f  1\n",
      "  94r-4.0117073e+02 2.59e+04 1.27e+04   0.7 1.28e+02    -  6.17e-01 3.82e-01f  1\n",
      "  95r-3.9791830e+02 2.82e+04 2.76e+04   0.7 1.68e+02    -  5.98e-01 3.62e-01f  1\n",
      "  96r-3.9820677e+02 4.67e+04 2.06e+04   0.7 1.24e+02    -  5.12e-01 3.05e-01f  1\n",
      "  97r-3.9805352e+02 4.16e+04 1.33e+04   0.7 8.95e+01    -  3.28e-01 1.10e-01f  1\n",
      "  98r-3.9648199e+02 9.07e+03 2.58e+03   0.7 4.08e+01    -  9.96e-01 9.01e-01f  1\n",
      "  99r-3.9620308e+02 1.47e+03 2.34e+03   0.7 8.91e+00    -  9.91e-01 8.40e-01f  1\n",
      "iter    objective    inf_pr   inf_du lg(mu)  ||d||  lg(rg) alpha_du alpha_pr  ls\n",
      " 100r-3.9620247e+02 1.42e+01 1.44e+03   0.7 2.47e-01   2.0 1.00e+00 1.00e+00f  1\n",
      " 101r-3.9598100e+02 2.71e+00 3.32e+02   0.7 1.86e+00    -  1.00e+00 1.00e+00h  1\n",
      " 102r-3.9527192e+02 3.11e+00 5.55e+01   0.7 6.95e+00    -  1.00e+00 1.00e+00f  1\n",
      " 103r-3.9691535e+02 9.93e+02 3.23e+03  -0.7 1.81e+02    -  1.99e-01 2.63e-01f  1\n",
      " 104r-3.9691903e+02 3.91e+02 4.24e+04  -0.7 5.98e-01   1.5 3.45e-01 6.46e-01f  1\n",
      " 105r-3.9692005e+02 3.20e+02 3.83e+04  -0.7 1.71e+00   1.0 1.92e-02 1.86e-01f  1\n",
      " 106r-3.9692094e+02 1.45e+02 1.27e+04  -0.7 2.58e+00   0.6 8.47e-01 5.89e-01f  1\n",
      " 107r-3.9692573e+02 5.86e+01 2.21e+03  -0.7 7.82e+00   0.1 7.36e-01 6.06e-01f  1\n",
      " 108r-3.9695738e+02 1.34e+02 1.59e+03  -0.7 1.77e+01  -0.4 1.00e+00 8.19e-01f  1\n",
      " 109r-3.9701466e+02 4.42e+02 2.27e+03  -0.7 3.15e+01  -0.9 1.00e+00 4.31e-01f  1\n",
      "iter    objective    inf_pr   inf_du lg(mu)  ||d||  lg(rg) alpha_du alpha_pr  ls\n",
      " 110r-3.9707930e+02 1.13e+02 1.64e+03  -0.7 5.83e+01  -1.3 1.50e-01 1.87e-01f  1\n",
      " 111r-3.9712182e+02 9.72e+01 3.43e+03  -0.7 3.48e+01  -0.9 1.00e+00 3.03e-01f  1\n",
      " 112r-3.9712948e+02 9.52e+01 1.86e+03  -0.7 8.10e+01  -1.4 4.22e-01 2.04e-02f  1\n",
      " 113r-3.9725953e+02 2.44e+01 1.81e+03  -0.7 3.69e+01  -1.0 4.73e-02 8.52e-01f  1\n",
      " 114r-3.9726213e+02 2.42e+01 1.12e+03  -0.7 6.77e+01  -1.4 2.13e-01 6.65e-03f  1\n",
      " 115r-3.9734244e+02 2.17e+01 1.74e+03  -0.7 2.30e+02  -1.9 3.60e-02 1.12e-01f  1\n",
      " 116r-3.9737352e+02 9.05e+00 1.65e+03  -0.7 7.02e+00  -0.6 3.50e-01 5.81e-01f  1\n",
      " 117r-3.9739135e+02 4.33e+01 7.85e+02  -0.7 2.64e+00  -0.2 8.40e-01 1.00e+00f  1\n",
      " 118r-3.9740041e+02 3.69e+01 1.47e+03  -0.7 1.81e+01  -0.6 4.30e-01 1.38e-01f  1\n",
      " 119r-3.9741608e+02 2.59e+01 2.08e+03  -0.7 3.41e+01  -1.1 2.69e-01 1.28e-01f  1\n",
      "iter    objective    inf_pr   inf_du lg(mu)  ||d||  lg(rg) alpha_du alpha_pr  ls\n",
      " 120r-3.9742406e+02 2.56e+01 2.01e+03  -0.7 5.12e+01  -1.6 3.71e-02 3.12e-02f  1\n",
      " 121r-3.9747373e+02 4.40e+00 1.30e+03  -0.7 1.49e+01  -1.2 3.94e-01 3.11e-01f  1\n",
      " 122r-3.9750349e+02 2.04e+02 8.73e+02  -0.7 9.82e+00  -0.7 6.82e-01 4.27e-01f  1\n",
      " 123r-3.9753133e+02 2.48e+02 1.28e+03  -0.7 3.97e+00  -0.3 5.63e-01 1.00e+00f  1\n",
      " 124r-3.9753147e+02 1.17e+00 2.18e+02  -0.7 5.54e-02   1.9 1.00e+00 8.07e-01h  1\n",
      " 125 -3.9762802e+02 1.17e+00 4.34e+02  -1.0 4.42e+03    -  3.64e-04 9.82e-04f  1\n",
      " 126 -3.9763107e+02 1.17e+00 8.66e+02  -1.0 5.18e+03    -  2.10e-03 5.02e-04f  1\n",
      " 127 -3.9770248e+02 1.17e+00 1.74e+04  -1.0 5.68e+03    -  3.24e-03 4.61e-03f  1\n",
      " 128 -3.9860235e+02 1.15e+00 2.47e+04  -1.0 4.65e+03    -  1.67e-02 1.70e-02f  1\n",
      " 129 -4.0010116e+02 1.13e+00 9.84e+03  -1.0 2.74e+03    -  6.30e-02 1.59e-02f  3\n",
      "iter    objective    inf_pr   inf_du lg(mu)  ||d||  lg(rg) alpha_du alpha_pr  ls\n",
      " 130 -4.0222825e+02 1.10e+00 1.60e+04  -1.0 1.74e+03    -  1.37e-01 2.02e-02f  3\n",
      " 131 -4.0348588e+02 1.09e+00 1.84e+04  -1.0 1.06e+03    -  2.38e-01 1.33e-02f  4\n",
      " 132 -4.0443540e+02 1.07e+00 1.69e+04  -1.0 7.89e+02    -  4.98e-01 1.56e-02f  4\n",
      " 133 -4.0412238e+02 1.07e+00 2.57e+04  -1.0 6.95e+02    -  1.50e-01 4.74e-03h  6\n",
      " 134 -4.0311261e+02 1.06e+00 5.59e+04  -1.0 6.91e+02    -  3.69e-01 5.09e-03h  6\n",
      " 135 -3.6561169e+02 1.04e+00 5.53e+04  -1.0 1.97e+03    -  5.57e-02 1.90e-02h  4\n",
      " 136 -3.3951955e+02 1.03e+00 7.56e+04  -1.0 1.95e+03    -  1.27e-01 1.34e-02h  5\n",
      " 137 -3.1232746e+02 1.01e+00 1.09e+05  -1.0 1.82e+03    -  6.20e-01 1.49e-02h  5\n",
      " 138 -3.0364080e+02 1.01e+00 1.09e+05  -1.0 3.11e+03    -  9.48e-02 2.79e-03h  7\n",
      " 139  2.6877370e+02 4.39e+02 5.76e+06  -1.0 3.27e+03    -  3.79e-01 1.75e-01w  1\n",
      "iter    objective    inf_pr   inf_du lg(mu)  ||d||  lg(rg) alpha_du alpha_pr  ls\n",
      " 140 -3.9648923e+02 4.37e+02 2.41e+07  -1.0 5.40e+03    -  5.95e-03 1.23e-01w  1\n",
      " 141 -5.1714351e+02 4.11e+02 2.17e+07  -1.0 2.14e+03    -  1.55e-01 5.66e-02w  1\n",
      " 142 -3.0308180e+02 1.01e+00 1.04e+05  -1.0 8.10e+02    -  3.79e-01 1.71e-04h 10\n",
      " 143 -3.0255153e+02 1.01e+00 1.03e+05  -1.0 4.04e+03    -  5.83e-02 1.31e-04h 11\n",
      " 144 -3.0202095e+02 1.01e+00 9.32e+04  -1.0 4.08e+03    -  5.82e-01 1.30e-04h 11\n",
      " 145 -3.0149030e+02 1.01e+00 9.35e+04  -1.0 4.17e+03    -  5.40e-02 1.27e-04h 11\n",
      " 146 -3.0095249e+02 1.01e+00 9.47e+04  -1.0 4.01e+03    -  2.29e-01 1.34e-04h 11\n",
      " 147 -3.0053594e+02 1.01e+00 9.47e+04  -1.0 4.27e+03    -  1.98e-03 9.76e-05h 12\n",
      " 148 -3.0005921e+02 1.01e+00 9.47e+04  -1.0 5.36e+03    -  8.42e-03 8.89e-05h 12\n",
      " 149 -2.9958299e+02 1.01e+00 9.49e+04  -1.0 5.40e+03    -  5.02e-02 8.81e-05h 12\n",
      "iter    objective    inf_pr   inf_du lg(mu)  ||d||  lg(rg) alpha_du alpha_pr  ls\n",
      " 150 -2.9907927e+02 1.01e+00 9.49e+04  -1.0 4.80e+03    -  1.51e-03 1.05e-04h 12\n",
      " 151 -2.9860464e+02 1.01e+00 9.55e+04  -1.0 5.50e+03    -  1.56e-01 8.63e-05h 12\n",
      " 152  7.2966030e+02 1.43e+03 3.47e+07  -1.0 4.93e+03    -  1.56e-03 2.08e-01w  1\n",
      " 153 -5.0609048e+02 1.38e+03 3.51e+07  -1.0 9.42e+03    -  4.70e-03 1.31e-01w  1\n",
      " 154 -5.1844215e+02 1.38e+03 3.50e+07  -1.0 3.33e+03    -  1.15e-01 3.71e-03w  1\n",
      " 155 -2.9810256e+02 1.01e+00 9.55e+04  -1.0 4.39e+02    -  1.56e-03 1.02e-04h 11\n",
      " 156 -2.9763803e+02 1.01e+00 9.57e+04  -1.0 5.81e+03    -  4.89e-02 7.99e-05h 12\n",
      " 157 -2.9716788e+02 1.01e+00 9.57e+04  -1.0 5.70e+03    -  1.29e-03 8.25e-05h 12\n",
      " 158 -2.9670249e+02 1.01e+00 1.25e+05  -1.0 5.86e+03    -  1.32e-01 7.94e-05h 12\n",
      " 159 -2.9619987e+02 1.01e+00 1.25e+05  -1.0 5.07e+03    -  1.90e-03 9.92e-05h 12\n",
      "iter    objective    inf_pr   inf_du lg(mu)  ||d||  lg(rg) alpha_du alpha_pr  ls\n",
      " 160 -2.9573404e+02 1.01e+00 1.42e+05  -1.0 5.92e+03    -  5.13e-02 7.87e-05h 12\n",
      " 161 -2.9526759e+02 1.01e+00 3.55e+05  -1.0 5.94e+03    -  5.67e-01 7.85e-05h 12\n",
      " 162 -2.9474718e+02 1.01e+00 3.57e+05  -1.0 4.79e+03    -  2.55e-03 1.09e-04h 12\n",
      " 163 -2.9427824e+02 1.01e+00 3.59e+05  -1.0 5.91e+03    -  2.49e-03 7.93e-05h 12\n",
      " 164 -2.9380868e+02 1.01e+00 3.96e+05  -1.0 5.93e+03    -  3.91e-02 7.91e-05h 12\n",
      " 165  6.8849862e+02 1.26e+03 1.04e+07  -1.0 5.70e+03    -  1.82e-03 1.72e-01w  1\n",
      " 166 -5.0668695e+02 1.30e+03 1.16e+07  -1.0 1.09e+04    -  6.75e-03 1.10e-01w  1\n",
      " 167 -5.1861299e+02 1.28e+03 1.15e+07  -1.0 1.02e+03    -  5.85e-02 1.17e-02w  1\n",
      " 168 -2.9332904e+02 1.01e+00 3.98e+05  -1.0 4.67e+02    -  1.82e-03 8.42e-05h 11\n",
      " 169 -2.9285453e+02 1.01e+00 5.85e+05  -1.0 5.86e+03    -  1.80e-01 8.09e-05h 12\n",
      "iter    objective    inf_pr   inf_du lg(mu)  ||d||  lg(rg) alpha_du alpha_pr  ls\n",
      " 170 -2.9234982e+02 1.01e+00 5.89e+05  -1.0 5.19e+03    -  2.35e-03 9.71e-05h 12\n",
      " 171 -2.9186052e+02 1.01e+00 6.70e+05  -1.0 5.54e+03    -  5.30e-02 8.83e-05h 12\n",
      " 172 -2.9136275e+02 1.01e+00 6.74e+05  -1.0 5.38e+03    -  2.58e-03 9.25e-05h 12\n",
      " 173 -2.9086517e+02 1.01e+00 1.75e+06  -1.0 5.41e+03    -  6.14e-01 9.19e-05h 12\n",
      " 174 -2.9029865e+02 1.01e+00 1.77e+06  -1.0 4.20e+03    -  4.43e-03 1.35e-04h 12\n",
      " 175 -2.8974601e+02 1.01e+00 1.81e+06  -1.0 4.53e+03    -  7.54e-03 1.22e-04h 12\n",
      " 176 -2.8919114e+02 1.01e+00 2.06e+06  -1.0 4.52e+03    -  5.37e-02 1.23e-04h 12\n",
      " 177 -2.8862419e+02 1.01e+00 2.08e+06  -1.0 4.41e+03    -  4.17e-03 1.29e-04h 12\n",
      " 178  8.7132342e+02 1.70e+03 3.54e+07  -1.0 4.43e+03    -  4.68e-01 2.61e-01w  1\n",
      " 179 -1.7326408e+02 1.66e+03 4.04e+07  -1.0 1.11e+04    -  1.58e-02 9.44e-02w  1\n",
      "iter    objective    inf_pr   inf_du lg(mu)  ||d||  lg(rg) alpha_du alpha_pr  ls\n",
      " 180 -1.1892276e+02 1.63e+03 3.96e+07  -1.0 3.09e+03    -  2.00e-02 1.76e-02w  1\n",
      " 181 -2.8805780e+02 1.01e+00 4.59e+06  -1.0 2.04e+03    -  4.68e-01 1.28e-04h 11\n",
      " 182 -2.8752816e+02 1.01e+00 4.65e+06  -1.0 3.91e+03    -  5.85e-03 1.36e-04h 12\n",
      " 183 -2.8698766e+02 1.01e+00 5.42e+06  -1.0 3.98e+03    -  6.42e-02 1.36e-04h 12\n",
      " 184 -2.8645308e+02 1.01e+00 5.53e+06  -1.0 3.93e+03    -  8.29e-03 1.36e-04h 12\n",
      " 185 -2.8591767e+02 1.01e+00 1.95e+07  -1.0 3.94e+03    -  9.89e-01 1.36e-04h 12\n",
      " 186 -2.8493739e+02 1.01e+00 1.99e+07  -1.0 3.60e+03    -  8.37e-03 2.72e-04h 11\n",
      " 187 -2.8394231e+02 1.01e+00 2.19e+07  -1.0 3.65e+03    -  3.90e-02 2.73e-04h 11\n",
      " 188 -2.8294531e+02 1.01e+00 2.61e+07  -1.0 3.65e+03    -  7.60e-02 2.73e-04h 11\n",
      " 189 -2.8194966e+02 1.01e+00 2.68e+07  -1.0 3.63e+03    -  9.96e-03 2.74e-04h 11\n",
      "iter    objective    inf_pr   inf_du lg(mu)  ||d||  lg(rg) alpha_du alpha_pr  ls\n",
      " 190 -2.8094946e+02 1.01e+00 9.46e+07  -1.0 3.64e+03    -  1.00e+00 2.74e-04h 11\n",
      " 191  7.1269639e+02 1.19e+03 6.76e+08  -1.0 3.53e+03    -  1.10e-02 2.82e-01w  1\n",
      " 192 -5.0547371e+02 5.18e+02 3.41e+09  -1.0 4.56e+03    -  1.02e-02 2.67e-01w  1\n",
      " 193 -5.0921078e+02 3.97e+02 3.35e+09  -1.0 5.71e+03   0.4 7.80e-04 1.48e-02w  1\n",
      " 194 -2.7997910e+02 1.00e+00 9.71e+07  -1.0 1.05e+04    -  1.10e-02 2.75e-04h 10\n",
      " 195 -2.7900259e+02 1.00e+00 1.14e+08  -1.0 3.54e+03    -  6.91e-02 2.75e-04h 11\n",
      " 196 -2.7802539e+02 1.00e+00 1.22e+08  -1.0 3.54e+03    -  2.89e-02 2.76e-04h 11\n",
      " 197 -2.7704553e+02 1.00e+00 4.28e+08  -1.0 3.54e+03    -  1.00e+00 2.76e-04h 11\n"
     ]
    },
    {
     "name": "stdout",
     "output_type": "stream",
     "text": [
      " 198 -2.7608952e+02 1.00e+00 4.42e+08  -1.0 3.45e+03    -  1.40e-02 2.77e-04h 11\n",
      " 199 -2.7512983e+02 1.00e+00 5.26e+08  -1.0 3.45e+03    -  7.71e-02 2.78e-04h 11\n",
      "iter    objective    inf_pr   inf_du lg(mu)  ||d||  lg(rg) alpha_du alpha_pr  ls\n",
      " 200 -2.7417164e+02 1.00e+00 5.62e+08  -1.0 3.44e+03    -  2.73e-02 2.78e-04h 11\n",
      " 201 -2.7321172e+02 1.00e+00 1.38e+09  -1.0 3.44e+03    -  5.92e-01 2.79e-04h 11\n",
      " 202 -2.7227846e+02 1.00e+00 1.45e+09  -1.0 3.34e+03    -  1.84e-02 2.79e-04h 11\n",
      " 203 -2.7134366e+02 1.00e+00 1.77e+09  -1.0 3.34e+03    -  9.05e-02 2.80e-04h 11\n",
      " 204  6.7897294e+02 1.03e+03 7.77e+09  -1.0 3.31e+03    -  2.77e-02 2.87e-01w  1\n",
      " 205 -4.7948620e+02 3.48e+00 6.21e+10  -1.0 4.46e+03    -  1.03e-02 2.60e-01h  1\n",
      " 206 -4.7952970e+02 3.46e+00 6.18e+10  -1.0 3.29e+02   2.7 1.60e-04 6.09e-03f  2\n",
      " 207 -4.7952983e+02 3.46e+00 6.17e+10  -1.0 3.27e+02   3.1 2.38e-03 2.82e-04h  4\n",
      " 208 -4.7952992e+02 3.46e+00 6.17e+10  -1.0 3.73e+02   2.6 1.01e-03 4.17e-05h  5\n",
      " 209 -4.7953014e+02 3.46e+00 6.17e+10  -1.0 3.27e+02   3.0 2.28e-01 4.27e-04h  3\n",
      "iter    objective    inf_pr   inf_du lg(mu)  ||d||  lg(rg) alpha_du alpha_pr  ls\n",
      " 210 -4.7953128e+02 3.46e+00 6.17e+10  -1.0 5.52e+02   2.6 3.25e-04 3.25e-04s 11\n",
      " 211r-4.7953128e+02 3.46e+00 1.00e+03   1.1 0.00e+00   2.1 0.00e+00 0.00e+00R  1\n",
      " 212r-4.7951973e+02 2.54e+00 3.02e+03   1.1 1.29e+04    -  5.23e-03 9.91e-04f  1\n",
      " 213 -4.8729638e+02 3.14e+00 2.10e+03  -1.0 3.27e+02    -  5.54e-01 2.07e-01f  1\n",
      " 214 -4.8959508e+02 2.96e+00 2.14e+04  -1.0 3.09e+02    -  8.48e-01 9.12e-02f  1\n",
      " 215 -5.0437523e+02 5.28e+00 1.15e+04  -1.0 3.66e+02    -  9.78e-01 6.35e-01f  1\n",
      " 216 -5.1025153e+02 3.04e+00 3.35e+04  -1.0 2.02e+02    -  9.88e-01 6.00e-01h  1\n",
      " 217 -5.1324191e+02 1.53e+00 1.87e+04  -1.0 1.94e+02    -  1.00e+00 5.37e-01h  1\n",
      " 218 -5.1488043e+02 2.09e-01 4.56e+04  -1.0 3.47e+01    -  1.00e+00 9.21e-01h  1\n",
      " 219 -5.1641472e+02 9.98e-01 1.40e+05  -1.0 2.20e+03    -  2.61e-01 1.06e-01f  2\n",
      "iter    objective    inf_pr   inf_du lg(mu)  ||d||  lg(rg) alpha_du alpha_pr  ls\n",
      " 220 -5.1729485e+02 9.27e-01 7.67e+05  -1.0 4.60e+02    -  1.00e+00 2.98e-01H  1\n",
      " 221 -5.1827239e+02 2.20e-01 8.27e+04  -1.0 1.14e+02    -  1.00e+00 9.98e-01h  1\n",
      " 222 -5.1934321e+02 6.58e-01 1.15e+06  -1.0 8.36e+02    -  3.34e-01 2.02e-01f  1\n",
      " 223 -5.1947831e+02 6.77e-01 1.39e+06  -1.0 4.99e+02    -  1.48e-01 1.82e-01f  2\n",
      " 224 -5.1922341e+02 6.66e-01 3.39e+06  -1.0 5.03e+02    -  5.38e-02 1.41e-01f  2\n",
      " 225 -5.1890727e+02 6.59e-01 4.56e+06  -1.0 5.06e+02    -  7.56e-02 1.17e-02h  5\n",
      " 226 -5.1864720e+02 6.52e-01 7.32e+06  -1.0 5.04e+02    -  5.66e-01 9.96e-03h  6\n",
      " 227 -5.1824977e+02 6.41e-01 9.58e+06  -1.0 5.02e+02    -  9.45e-02 1.94e-02h  5\n",
      " 228 -5.1785532e+02 6.30e-01 1.22e+07  -1.0 5.01e+02    -  1.09e-01 1.99e-02h  5\n",
      " 229 -5.1750454e+02 6.19e-01 1.60e+07  -1.0 5.01e+02    -  1.00e+00 1.99e-02h  5\n",
      "iter    objective    inf_pr   inf_du lg(mu)  ||d||  lg(rg) alpha_du alpha_pr  ls\n",
      " 230 -5.1724902e+02 6.09e-01 1.78e+07  -1.0 5.00e+02    -  9.57e-02 1.89e-02h  5\n",
      " 231 -5.1696268e+02 5.99e-01 2.02e+07  -1.0 4.99e+02    -  7.73e-01 2.00e-02h  5\n",
      " 232 -5.1672196e+02 5.88e-01 2.22e+07  -1.0 4.99e+02    -  1.25e-01 1.99e-02h  5\n",
      " 233 -5.1280288e+02 8.43e-01 7.28e+08  -1.0 4.98e+02    -  1.00e+00 3.30e-01w  1\n",
      " 234 -5.1513580e+02 8.31e-01 7.44e+08  -1.0 4.99e+02    -  1.97e-01 1.90e-01w  1\n",
      " 235 -5.2555566e+02 4.05e+00 1.24e+10  -1.0 4.96e+02    -  9.96e-01 1.00e+00w  1\n",
      " 236 -5.1647702e+02 5.78e-01 2.45e+07  -1.0 6.14e+02    -  1.00e+00 2.06e-02h  4\n",
      " 237 -5.1628105e+02 5.71e-01 2.50e+07  -1.0 4.97e+02    -  1.25e-01 1.23e-02h  6\n",
      " 238 -5.1606181e+02 5.65e-01 2.56e+07  -1.0 4.97e+02    -  1.00e+00 1.31e-02h  6\n",
      " 239 -5.1565233e+02 5.56e-01 2.58e+07  -1.0 4.96e+02    -  1.22e-01 1.78e-02h  6\n",
      "iter    objective    inf_pr   inf_du lg(mu)  ||d||  lg(rg) alpha_du alpha_pr  ls\n",
      " 240 -5.1522927e+02 5.47e-01 2.62e+07  -1.0 4.96e+02    -  1.00e+00 1.88e-02h  6\n",
      " 241 -5.1459489e+02 5.36e-01 2.54e+07  -1.0 4.94e+02    -  1.41e-01 2.47e-02h  6\n",
      " 242 -5.1398363e+02 5.25e-01 2.51e+07  -1.0 4.93e+02    -  1.00e+00 2.52e-02h  6\n",
      " 243 -5.1330390e+02 5.13e-01 2.38e+07  -1.0 4.89e+02    -  1.82e-01 2.82e-02h  6\n",
      " 244 -5.1267499e+02 5.02e-01 2.28e+07  -1.0 4.88e+02    -  1.00e+00 2.82e-02h  6\n",
      " 245 -5.1206112e+02 4.90e-01 2.13e+07  -1.0 4.80e+02    -  2.36e-01 2.95e-02h  6\n",
      " 246 -4.9440718e+02 3.32e+00 5.69e+08  -1.0 4.75e+02    -  1.00e+00 9.38e-01w  1\n",
      " 247 -5.0691235e+02 2.82e+00 1.69e+09  -1.0 5.74e+02    -  4.37e-01 3.72e-01w  1\n",
      " 248 -5.2894067e+02 4.54e+00 2.89e+09  -1.0 5.34e+02    -  3.82e-01 1.00e+00w  1\n",
      " 249 -5.2935858e+02 1.82e-01 5.48e+08  -1.0 1.12e+02    -  3.50e-01 1.00e+00h  1\n",
      "iter    objective    inf_pr   inf_du lg(mu)  ||d||  lg(rg) alpha_du alpha_pr  ls\n",
      " 250 -5.2754344e+02 1.59e+00 4.41e+08  -1.0 4.52e+02    -  7.74e-01 1.00e+00F  1\n",
      " 251 -5.2560136e+02 1.24e+00 1.72e+07  -1.0 4.33e+02    -  8.00e-01 1.00e+00F  1\n",
      " 252 -5.2476161e+02 2.94e-01 1.49e+07  -1.0 1.36e+02    -  1.00e+00 1.00e+00h  1\n",
      " 253 -5.2478513e+02 2.14e-04 2.96e+04  -1.0 3.93e+00    -  1.00e+00 1.00e+00h  1\n",
      " 254 -5.2478431e+02 2.58e-07 3.53e+01  -1.0 1.26e-01    -  1.00e+00 1.00e+00h  1\n",
      " 255 -5.2670170e+02 1.24e+00 3.98e+06  -3.1 3.96e+02    -  4.03e-01 7.00e-01f  1\n",
      " 256 -5.2966927e+02 3.94e+00 1.99e+07  -3.1 7.00e+02    -  5.74e-01 6.72e-01f  1\n",
      " 257 -5.2971194e+02 3.91e+00 1.84e+07  -3.1 7.15e+02    -  7.47e-01 9.86e-03h  1\n",
      " 258 -5.3216045e+02 3.80e+00 2.96e+09  -3.1 5.97e+02    -  1.00e+00 6.81e-01f  1\n",
      " 259 -5.3319088e+02 3.17e+00 3.36e+09  -3.1 6.07e+02    -  1.00e+00 2.88e-01h  1\n",
      "iter    objective    inf_pr   inf_du lg(mu)  ||d||  lg(rg) alpha_du alpha_pr  ls\n",
      " 260 -5.3612999e+02 4.28e+00 1.47e+10  -3.1 5.92e+02    -  1.00e+00 8.46e-01f  1\n",
      " 261 -5.3923864e+02 4.87e+00 5.54e+10  -3.1 6.25e+02    -  4.46e-01 8.61e-01f  1\n",
      " 262 -5.3960962e+02 4.48e+00 5.12e+10  -3.1 7.05e+02    -  1.00e+00 9.26e-02h  1\n",
      " 263 -5.4139938e+02 3.69e+00 1.29e+11  -3.1 6.38e+02    -  4.96e-02 4.95e-01f  1\n",
      " 264 -5.4146674e+02 3.63e+00 1.27e+11  -3.1 6.35e+02    -  1.00e+00 1.88e-02h  1\n",
      " 265 -5.4420593e+02 3.37e+00 3.68e+12  -3.1 4.87e+02    -  5.20e-02 1.00e+00f  1\n",
      " 266 -5.4433806e+02 3.28e+00 3.57e+12  -3.1 8.30e+02    -  8.06e-03 2.86e-02h  1\n",
      " 267 -5.4540451e+02 5.15e-01 1.25e+12  -3.1 1.94e+02    -  1.79e-02 1.00e+00h  1\n",
      " 268 -5.4540168e+02 1.07e-04 3.18e+09  -3.1 9.12e-02   1.6 9.30e-01 1.00e+00h  1\n",
      " 269 -5.4598319e+02 1.53e-01 9.10e+08  -3.1 1.05e+02    -  1.00e+00 1.00e+00f  1\n",
      "iter    objective    inf_pr   inf_du lg(mu)  ||d||  lg(rg) alpha_du alpha_pr  ls\n",
      " 270 -5.4598235e+02 1.07e-05 6.51e+05  -3.1 4.28e-02   1.1 1.00e+00 1.00e+00h  1\n",
      " 271 -5.4788745e+02 1.65e+00 2.31e+08  -3.1 8.07e+02    -  1.00e+00 4.27e-01f  1\n",
      " 272 -5.4789867e+02 1.65e+00 2.36e+08  -3.1 1.16e+03    -  1.00e+00 1.76e-03h  1\n",
      " 273 -5.4979452e+02 2.21e+00 6.65e+11  -3.1 5.29e+02    -  1.00e+00 6.57e-01f  1\n",
      " 274 -5.4981035e+02 2.20e+00 6.61e+11  -3.1 6.33e+02    -  4.25e-02 4.62e-03h  1\n",
      " 275 -5.5047821e+02 1.97e+00 5.23e+11  -3.1 6.23e+02    -  1.00e+00 1.98e-01f  1\n",
      " 276 -5.5048034e+02 1.97e+00 5.22e+11  -3.1 6.38e+02    -  7.70e-03 6.21e-04h  1\n",
      " 277 -5.5121603e+02 1.79e+00 2.94e+11  -3.1 6.30e+02    -  1.32e-01 2.16e-01f  1\n",
      " 278 -5.5121709e+02 1.79e+00 2.94e+11  -3.1 6.71e+02    -  6.60e-03 2.93e-04h  1\n",
      " 279 -5.5197442e+02 1.66e+00 5.54e+11  -3.1 6.42e+02    -  1.30e-01 2.19e-01f  1\n",
      "iter    objective    inf_pr   inf_du lg(mu)  ||d||  lg(rg) alpha_du alpha_pr  ls\n",
      " 280 -5.5197556e+02 1.66e+00 5.54e+11  -3.1 6.88e+02    -  6.67e-03 3.09e-04h  1\n",
      " 281 -5.5274924e+02 1.57e+00 2.90e+11  -3.1 6.56e+02    -  1.28e-01 2.20e-01f  1\n",
      " 282 -5.5275043e+02 1.57e+00 2.90e+11  -3.1 7.08e+02    -  9.19e-03 3.14e-04h  1\n",
      " 283 -5.5353738e+02 1.51e+00 2.19e+11  -3.1 6.72e+02    -  1.30e-01 2.20e-01f  1\n",
      " 284 -5.5353846e+02 1.51e+00 2.19e+11  -3.1 7.33e+02    -  1.19e-02 2.77e-04h  1\n",
      " 285 -5.5434290e+02 1.48e+00 1.92e+11  -3.1 6.88e+02    -  1.31e-01 2.20e-01f  1\n",
      " 286 -5.5434393e+02 1.48e+00 1.92e+11  -3.1 7.60e+02    -  1.41e-02 2.57e-04h  1\n",
      " 287 -5.5516906e+02 1.47e+00 1.58e+11  -3.1 7.05e+02    -  1.32e-01 2.21e-01f  1\n",
      " 288 -5.5517009e+02 1.47e+00 1.58e+11  -3.1 7.87e+02    -  1.66e-02 2.47e-04h  1\n",
      " 289 -5.5601741e+02 1.48e+00 1.28e+11  -3.1 7.24e+02    -  1.32e-01 2.22e-01f  1\n",
      "iter    objective    inf_pr   inf_du lg(mu)  ||d||  lg(rg) alpha_du alpha_pr  ls\n",
      " 290 -5.5601844e+02 1.48e+00 1.28e+11  -3.1 8.14e+02    -  1.96e-02 2.41e-04h  1\n",
      " 291 -5.5688988e+02 1.51e+00 1.06e+11  -3.1 7.43e+02    -  1.33e-01 2.23e-01f  1\n",
      " 292 -5.5689093e+02 1.50e+00 1.06e+11  -3.1 8.43e+02    -  2.28e-02 2.37e-04h  1\n",
      " 293 -5.5778873e+02 1.54e+00 8.78e+10  -3.1 7.64e+02    -  1.34e-01 2.25e-01f  1\n",
      " 294 -5.5778980e+02 1.54e+00 8.78e+10  -3.1 8.72e+02    -  2.62e-02 2.36e-04h  1\n",
      " 295 -5.5871622e+02 1.60e+00 7.19e+10  -3.1 7.85e+02    -  1.35e-01 2.27e-01f  1\n",
      " 296 -5.5871732e+02 1.60e+00 7.19e+10  -3.1 9.02e+02    -  2.97e-02 2.35e-04h  1\n",
      " 297 -5.5967475e+02 1.66e+00 5.84e+10  -3.1 8.06e+02    -  1.37e-01 2.29e-01f  1\n",
      " 298 -5.5967588e+02 1.66e+00 5.84e+10  -3.1 9.34e+02    -  3.34e-02 2.36e-04h  1\n",
      " 299 -5.6066688e+02 1.74e+00 4.72e+10  -3.1 8.29e+02    -  1.39e-01 2.32e-01f  1\n",
      "iter    objective    inf_pr   inf_du lg(mu)  ||d||  lg(rg) alpha_du alpha_pr  ls\n",
      " 300 -5.6066806e+02 1.74e+00 4.72e+10  -3.1 9.65e+02    -  3.73e-02 2.38e-04h  1\n",
      " 301 -5.6169543e+02 1.83e+00 3.79e+10  -3.1 8.52e+02    -  1.41e-01 2.35e-01f  1\n",
      " 302 -5.6169666e+02 1.83e+00 3.79e+10  -3.1 9.98e+02    -  4.15e-02 2.41e-04h  1\n",
      " 303 -5.6276347e+02 1.94e+00 3.03e+10  -3.1 8.76e+02    -  1.43e-01 2.38e-01f  1\n",
      " 304 -5.6276475e+02 1.94e+00 3.03e+10  -3.1 1.03e+03    -  4.59e-02 2.45e-04h  1\n",
      " 305 -5.6387437e+02 2.06e+00 2.40e+10  -3.1 9.01e+02    -  1.46e-01 2.42e-01f  1\n"
     ]
    },
    {
     "name": "stdout",
     "output_type": "stream",
     "text": [
      " 306 -5.6387572e+02 2.06e+00 2.40e+10  -3.1 1.07e+03    -  5.06e-02 2.49e-04h  1\n",
      " 307 -5.6503189e+02 2.19e+00 1.90e+10  -3.1 9.26e+02    -  1.49e-01 2.47e-01f  1\n",
      " 308 -5.6503330e+02 2.19e+00 1.90e+10  -3.1 1.10e+03    -  5.57e-02 2.54e-04h  1\n",
      " 309 -5.6624020e+02 2.34e+00 1.49e+10  -3.1 9.53e+02    -  1.53e-01 2.52e-01f  1\n",
      "iter    objective    inf_pr   inf_du lg(mu)  ||d||  lg(rg) alpha_du alpha_pr  ls\n",
      " 310 -5.6624168e+02 2.34e+00 1.49e+10  -3.1 1.14e+03    -  6.13e-02 2.61e-04h  1\n",
      " 311 -5.6750394e+02 2.50e+00 1.17e+10  -3.1 9.80e+02    -  1.57e-01 2.58e-01f  1\n",
      " 312 -5.6750551e+02 2.50e+00 1.17e+10  -3.1 1.17e+03    -  6.74e-02 2.68e-04h  1\n",
      " 313 -5.6882834e+02 2.69e+00 9.12e+09  -3.1 1.01e+03    -  1.61e-01 2.64e-01f  1\n",
      " 314 -5.6882999e+02 2.69e+00 9.12e+09  -3.1 1.21e+03    -  7.43e-02 2.76e-04h  1\n",
      " 315 -5.6992330e+02 2.69e+00 6.59e+09  -3.1 1.04e+03    -  1.66e-01 2.14e-01f  1\n",
      " 316 -5.6994489e+02 2.68e+00 6.57e+09  -3.1 1.19e+03    -  2.13e-01 3.69e-03h  1\n",
      " 317r-5.6994489e+02 2.68e+00 1.00e+03   0.3 0.00e+00    -  0.00e+00 3.20e-07R  5\n",
      " 318r-5.6999293e+02 5.07e-01 5.39e+05   0.3 1.30e+04    -  1.30e-04 9.91e-04f  1\n",
      " 319 -5.6999356e+02 5.07e-01 1.46e+04  -3.1 1.49e+02    -  6.18e-02 8.54e-04h  1\n",
      "iter    objective    inf_pr   inf_du lg(mu)  ||d||  lg(rg) alpha_du alpha_pr  ls\n",
      " 320 -5.6998187e+02 4.40e-01 1.08e+04  -3.1 1.85e+01    -  1.94e-02 1.32e-01f  1\n",
      " 321 -5.7001065e+02 3.67e-01 2.78e+04  -3.1 3.47e+01    -  3.45e-01 1.67e-01f  1\n",
      " 322 -5.7021469e+02 8.15e-02 6.31e+04  -3.1 5.23e+01    -  2.85e-01 7.88e-01f  1\n",
      " 323 -5.7058212e+02 6.56e-02 1.15e+04  -3.1 7.47e+01    -  9.89e-01 1.00e+00f  1\n",
      " 324 -5.7314713e+02 3.27e+00 9.08e+04  -3.1 3.30e+03    -  7.61e-01 1.58e-01f  1\n",
      " 325 -5.7314919e+02 1.52e+00 4.82e+04  -3.1 4.06e+00    -  7.34e-01 5.37e-01h  1\n",
      " 326 -5.7314820e+02 1.05e-02 5.25e+03  -3.1 1.31e+00    -  9.99e-01 9.93e-01h  1\n",
      " 327 -5.7314837e+02 3.56e-08 3.00e+03  -3.1 4.56e-02    -  1.00e+00 1.00e+00h  1\n",
      " 328 -5.7314837e+02 1.52e-10 1.41e+02  -3.1 1.36e-04    -  1.00e+00 1.00e+00h  1\n",
      " 329 -5.7315000e+02 3.27e-07 1.92e+05  -4.8 1.69e-01    -  1.00e+00 9.97e-01f  1\n",
      "iter    objective    inf_pr   inf_du lg(mu)  ||d||  lg(rg) alpha_du alpha_pr  ls\n",
      " 330 -5.7314998e+02 1.60e-10 8.31e+00  -4.8 2.99e-03    -  1.00e+00 1.00e+00f  1\n",
      " 331 -5.7314998e+02 1.92e-10 1.11e-07  -4.8 1.64e-09    -  1.00e+00 1.00e+00h  1\n",
      " 332 -5.7315000e+02 2.99e-10 5.53e+01  -6.0 2.81e-03    -  1.00e+00 1.00e+00h  1\n",
      " 333 -5.7315000e+02 4.58e-10 1.77e-08  -6.0 9.81e-07    -  1.00e+00 1.00e+00h  1\n",
      " 334 -5.7315001e+02 3.05e-10 2.25e-01  -7.6 1.79e-04    -  1.00e+00 1.00e+00h  1\n",
      " 335 -5.7315001e+02 2.88e-10 1.48e-10  -7.6 3.99e-09    -  1.00e+00 1.00e+00h  1\n",
      " 336 -5.7315001e+02 1.92e-10 2.11e-04  -9.0 5.49e-06    -  1.00e+00 1.00e+00h  1\n",
      " 337 -5.7315001e+02 1.09e-11 6.63e-12  -9.0 1.92e-10    -  1.00e+00 1.00e+00h  1\n",
      "\n",
      "Number of Iterations....: 337\n",
      "\n",
      "                                   (scaled)                 (unscaled)\n",
      "Objective...............:  -5.7315000573968177e+02   -5.7315000573968177e+02\n",
      "Dual infeasibility......:   6.6258803999019733e-12    6.6258803999019733e-12\n",
      "Constraint violation....:   8.9692380638352294e-12    1.0913936421275139e-11\n",
      "Complementarity.........:   9.0909090909091551e-10    9.0909090909091551e-10\n",
      "Overall NLP error.......:   9.0909090909091551e-10    9.0909090909091551e-10\n",
      "\n",
      "\n",
      "Number of objective function evaluations             = 1250\n",
      "Number of objective gradient evaluations             = 270\n",
      "Number of equality constraint evaluations            = 1250\n",
      "Number of inequality constraint evaluations          = 1250\n",
      "Number of equality constraint Jacobian evaluations   = 351\n",
      "Number of inequality constraint Jacobian evaluations = 351\n",
      "Number of Lagrangian Hessian evaluations             = 337\n",
      "Total CPU secs in IPOPT (w/o function evaluations)   =      1.531\n",
      "Total CPU secs in NLP function evaluations           =      0.132\n",
      "\n",
      "EXIT: Optimal Solution Found.\n"
     ]
    }
   ],
   "source": [
    "results = opt.solve(model,tee=True)\n",
    "update_dual(pe,model)"
   ]
  },
  {
   "cell_type": "code",
   "execution_count": 23,
   "metadata": {
    "scrolled": false,
    "slideshow": {
     "slide_type": "slide"
    }
   },
   "outputs": [
    {
     "name": "stdout",
     "output_type": "stream",
     "text": [
      "Component\t\tLiquid: 0.0000\t\t\tVapor: 4.6253\n",
      "------------------------------------------------------------------------------------------------------------\n",
      "H2         \t\t 0.8184%\t\t\t 2.4405%\n",
      "CO         \t\t 0.0169%\t\t\t 0.0433%\n",
      "CO2        \t\t 5.8251%\t\t\t 8.3945%\n",
      "H2O        \t\t58.6535%\t\t\t55.2355%\n",
      "C2H4       \t\t 4.6399%\t\t\t 5.4861%\n",
      "C3H6       \t\t 4.7772%\t\t\t 3.1546%\n",
      "C4H8       \t\t 1.9301%\t\t\t 1.4012%\n",
      "C5H10      \t\t 1.3881%\t\t\t 0.5425%\n",
      "C6H12      \t\t 1.0825%\t\t\t 0.2536%\n",
      "C7H14      \t\t 0.7885%\t\t\t 0.1185%\n",
      "C8H16      \t\t 0.5481%\t\t\t 0.0554%\n",
      "C9H18      \t\t 0.3681%\t\t\t 0.0259%\n",
      "C10H20     \t\t 0.2409%\t\t\t 0.0121%\n",
      "C11H22     \t\t 0.0984%\t\t\t 0.0036%\n",
      "C12H24     \t\t 0.0621%\t\t\t 0.0017%\n",
      "C13H26     \t\t 0.0386%\t\t\t 0.0008%\n",
      "C14H28     \t\t 0.0238%\t\t\t 0.0004%\n",
      "C15H30     \t\t 0.0145%\t\t\t 0.0002%\n",
      "C16H32     \t\t 0.0088%\t\t\t 0.0001%\n",
      "C17H34     \t\t 0.0053%\t\t\t 0.0000%\n",
      "C18H36     \t\t 0.0031%\t\t\t 0.0000%\n",
      "C19H38     \t\t 0.0019%\t\t\t 0.0000%\n",
      "C20H40     \t\t 0.0011%\t\t\t 0.0000%\n",
      "C1H4       \t\t10.9892%\t\t\t18.0463%\n",
      "C2H6       \t\t 2.6535%\t\t\t 2.9495%\n",
      "C3H8       \t\t 1.1227%\t\t\t 0.7886%\n",
      "C4H10      \t\t 0.6812%\t\t\t 0.4420%\n",
      "C5H12      \t\t 0.8955%\t\t\t 0.3191%\n",
      "C6H14      \t\t 0.6899%\t\t\t 0.1492%\n",
      "C7H16      \t\t 0.4985%\t\t\t 0.0697%\n",
      "C8H18      \t\t 0.3445%\t\t\t 0.0326%\n",
      "C9H20      \t\t 0.2303%\t\t\t 0.0152%\n",
      "C10H22     \t\t 0.1502%\t\t\t 0.0071%\n",
      "C11H24     \t\t 0.1553%\t\t\t 0.0054%\n",
      "C12H26     \t\t 0.0978%\t\t\t 0.0025%\n",
      "C13H28     \t\t 0.0607%\t\t\t 0.0012%\n",
      "C14H30     \t\t 0.0373%\t\t\t 0.0005%\n",
      "C15H32     \t\t 0.0227%\t\t\t 0.0003%\n",
      "C16H34     \t\t 0.0137%\t\t\t 0.0001%\n",
      "C17H36     \t\t 0.0082%\t\t\t 0.0001%\n",
      "C18H38     \t\t 0.0049%\t\t\t 0.0000%\n",
      "C19H40     \t\t 0.0029%\t\t\t 0.0000%\n",
      "C20H42     \t\t 0.0017%\t\t\t 0.0000%\n",
      "C21H44     \t\t 0.0017%\t\t\t 0.0000%\n",
      "C22H46     \t\t 0.0010%\t\t\t 0.0000%\n",
      "C23H48     \t\t 0.0006%\t\t\t 0.0000%\n",
      "C24H50     \t\t 0.0003%\t\t\t 0.0000%\n",
      "C25H52     \t\t 0.0002%\t\t\t 0.0000%\n",
      "C26H54     \t\t 0.0001%\t\t\t 0.0000%\n",
      "C27H56     \t\t 0.0001%\t\t\t 0.0000%\n",
      "C28H58     \t\t 0.0000%\t\t\t 0.0000%\n",
      "C29H60     \t\t 0.0000%\t\t\t 0.0000%\n",
      "C30H62     \t\t 0.0000%\t\t\t 0.0000%\n",
      "C31H64     \t\t 0.0000%\t\t\t 0.0000%\n",
      "C32H66     \t\t 0.0000%\t\t\t 0.0000%\n",
      "C33H68     \t\t 0.0000%\t\t\t 0.0000%\n",
      "C34H70     \t\t 0.0000%\t\t\t 0.0000%\n",
      "C35H72     \t\t 0.0000%\t\t\t 0.0000%\n",
      "C36H74     \t\t 0.0000%\t\t\t 0.0000%\n",
      "C37H76     \t\t 0.0000%\t\t\t 0.0000%\n",
      "C38H78     \t\t 0.0000%\t\t\t 0.0000%\n",
      "C39H80     \t\t 0.0000%\t\t\t 0.0000%\n",
      "C40H82     \t\t 0.0000%\t\t\t 0.0000%\n",
      "C41H84     \t\t 0.0000%\t\t\t 0.0000%\n",
      "C42H86     \t\t 0.0000%\t\t\t 0.0000%\n",
      "C43H88     \t\t 0.0000%\t\t\t 0.0000%\n",
      "C44H90     \t\t 0.0000%\t\t\t 0.0000%\n",
      "C45H92     \t\t 0.0000%\t\t\t 0.0000%\n",
      "C46H94     \t\t 0.0000%\t\t\t 0.0000%\n",
      "C47H96     \t\t 0.0000%\t\t\t 0.0000%\n",
      "C48H98     \t\t 0.0000%\t\t\t 0.0000%\n",
      "C49H100    \t\t 0.0000%\t\t\t 0.0000%\n",
      "C50H102    \t\t 0.0000%\t\t\t 0.0000%\n",
      "C51H104    \t\t 0.0000%\t\t\t 0.0000%\n",
      "C52H106    \t\t 0.0000%\t\t\t 0.0000%\n",
      "C53H108    \t\t 0.0000%\t\t\t 0.0000%\n",
      "C54H110    \t\t 0.0000%\t\t\t 0.0000%\n",
      "C55H112    \t\t 0.0000%\t\t\t 0.0000%\n",
      "C56H114    \t\t 0.0000%\t\t\t 0.0000%\n"
     ]
    }
   ],
   "source": [
    "print('Component\\t\\tLiquid: {:.4f}\\t\\t\\tVapor: {:.4f}'.format(model.L['out'].value,model.V['out'].value))\n",
    "print('-'*108)\n",
    "for i in model.x:\n",
    "    print('{:10s}'.format(i),'\\t\\t{:8.4%}\\t\\t\\t{:8.4%}'.format(model.x[i].value,model.y[i].value))"
   ]
  },
  {
   "cell_type": "code",
   "execution_count": null,
   "metadata": {},
   "outputs": [],
   "source": [
    "# model.solutions.store_to(results)\n",
    "# with open('../../saved_solutions/reactive_flash_MPCC_P_200C.pickle','wb') as f:\n",
    "#     pickle.dump(results,f)"
   ]
  },
  {
   "cell_type": "code",
   "execution_count": null,
   "metadata": {},
   "outputs": [],
   "source": [
    "# with open('test_model.pickle','wb') as f:\n",
    "#     dill.dump(model,f)"
   ]
  },
  {
   "cell_type": "markdown",
   "metadata": {
    "slideshow": {
     "slide_type": "slide"
    }
   },
   "source": [
    "# Iterative Solve for Data Analysis"
   ]
  },
  {
   "cell_type": "code",
   "execution_count": null,
   "metadata": {},
   "outputs": [],
   "source": [
    "results_anchor = results\n",
    "update_dual(pe,model)\n",
    "model.solutions.store_to(results_anchor)"
   ]
  },
  {
   "cell_type": "code",
   "execution_count": null,
   "metadata": {},
   "outputs": [],
   "source": [
    "opt = add_solver(pe, max_iter= 500, warm_start = True, output = False)"
   ]
  },
  {
   "cell_type": "code",
   "execution_count": null,
   "metadata": {},
   "outputs": [],
   "source": [
    "catrange = [10]\n",
    "Trange = np.linspace(300+273.15,200+273.15,21)"
   ]
  },
  {
   "cell_type": "code",
   "execution_count": null,
   "metadata": {
    "scrolled": false,
    "slideshow": {
     "slide_type": "fragment"
    }
   },
   "outputs": [],
   "source": [
    "rf_data_master = {}\n",
    "\n",
    "for c in catrange:\n",
    "    model.del_component(model.obj)\n",
    "    model.obj = augmented_objective(pe, model, expr = model.cat, sense=pe.minimize)\n",
    "\n",
    "    model.solutions.load_from(results_anchor)\n",
    "    update_dual(pe,model) \n",
    "       \n",
    "    model.T.fix(300+273.15)\n",
    "    model.cat.fixed = False\n",
    "    model.cat.setlb(c)\n",
    "    \n",
    "    results_anchor = opt.solve(model,tee=False)\n",
    "    model.solutions.store_to(results_anchor)\n",
    "    update_dual(pe,model)\n",
    "    \n",
    "    print('\\nWorking on Cat = {} kg'.format(model.cat.value))\n",
    "    print('-'*108)\n",
    "    \n",
    "    model.del_component(model.obj)\n",
    "    model.obj = augmented_objective(pe, model, expr = model.T, sense=pe.maximize)\n",
    "    model.T.fixed = False\n",
    "    model.cat.fixed = True\n",
    "\n",
    "    \n",
    "    rf_data = {}\n",
    "    rf_data['x'] = {};rf_data['y'] = {};\n",
    "    rf_data['T'] = []; rf_data['Q'] = []; rf_data['V'] = []; rf_data['L'] = []; rf_data['P_VLE'] = []; \n",
    "    rf_data['s_L'] = [];\n",
    "    for i in m.COMP_TOTAL:\n",
    "        rf_data['x'][i] = []\n",
    "        rf_data['y'][i] = []       \n",
    "\n",
    "    for t in Trange:\n",
    "        model.T.setub(t)\n",
    "        results = opt.solve(model,tee=False)\n",
    "        update_dual(pe,model)\n",
    "        model.T.setub(300+273.15)\n",
    "        \n",
    "        conv = model.kinetics_block.r_FT_total.value / ( model.F.value * model.z['CO'].value )\n",
    "        total_conv = 1 - model.V['out'].value*(model.y['CO'].value+model.y['H2'].value) / (model.F.value)\n",
    "        \n",
    "        print('Solved\\t|T = {:.2f} K | V = {:.4f} kmol/s | L = {:.4f} kmol/s | s_L = {:.4f} | P_VLE = {:.1f} | Conv = {:.1f}'.\\\n",
    "              format(model.T.value,model.V['out'].value,model.L['out'].value,which_MPCC(model).s_L.value,\\\n",
    "                     model.VLE_block.P_VLE.value, 100*conv ))\n",
    "\n",
    "    \n",
    "        rf_data['T'].append(model.T.value)\n",
    "        rf_data['Q'].append(model.Q_main.value)\n",
    "        rf_data['V'].append(model.V['out'].value)\n",
    "        rf_data['L'].append(model.L['out'].value)\n",
    "        rf_data['P_VLE'].append(model.VLE_block.P_VLE.value)\n",
    "        rf_data['s_L'].append(which_MPCC(model).s_L.value)\n",
    "\n",
    "        for i in m.COMP_TOTAL:\n",
    "            rf_data['x'][i].append(model.x[i].value)\n",
    "            rf_data['y'][i].append(model.y[i].value)\n",
    "        \n",
    "    rf_data_master[c] = rf_data"
   ]
  },
  {
   "cell_type": "markdown",
   "metadata": {},
   "source": [
    "# Optimization results across disappearing phases"
   ]
  },
  {
   "cell_type": "code",
   "execution_count": null,
   "metadata": {},
   "outputs": [],
   "source": [
    "fig, (ax1,ax2) = plt.subplots(1,2,figsize=(16,9))\n",
    "for c in catrange:\n",
    "    ax1.plot(Trange,rf_data_master[c]['V'])\n",
    "ax1.set_ylabel('Vapor Flow Rate (kmol/s)',fontsize=14)\n",
    "ax1.set_xlabel('Temperature (K)',fontsize=14)\n",
    "ax1.tick_params(labelsize=14)\n",
    "ax1.grid()\n",
    "\n",
    "for c in catrange:\n",
    "    ax2.plot(Trange,rf_data_master[c]['L'])\n",
    "ax2.set_ylabel('Liquid Flow Rate (kmol/s)',fontsize=14)\n",
    "ax2.set_xlabel('Temperature (K)',fontsize=14)\n",
    "ax2.tick_params(labelsize=14)\n",
    "ax2.grid()\n",
    "\n",
    "ax2.legend(catrange,fontsize=14)\n",
    "fig.suptitle('Vapor and Liquid Flow Rate',fontsize=18)\n",
    "\n",
    "plt.show()"
   ]
  },
  {
   "cell_type": "code",
   "execution_count": null,
   "metadata": {},
   "outputs": [],
   "source": [
    "fig, ax1 = plt.subplots(figsize=(16,9))\n",
    "for c in catrange:\n",
    "    ax1.plot(Trange,np.divide(rf_data_master[c]['V'],np.add(rf_data_master[c]['V'],rf_data_master[c]['L'])))\n",
    "ax1.set_ylabel('Vapor Fraction',fontsize=14)\n",
    "ax1.set_xlabel('Temperature (K)',fontsize=14)\n",
    "ax1.tick_params(labelsize=14)\n",
    "ax1.legend(catrange,fontsize=14)\n",
    "ax1.set_title('Vapor Fraction',fontsize=18)\n",
    "ax1.grid()\n",
    "plt.show()"
   ]
  },
  {
   "cell_type": "code",
   "execution_count": null,
   "metadata": {},
   "outputs": [],
   "source": [
    "fig, ax1 = plt.subplots(figsize=(16,9))\n",
    "for c in catrange:\n",
    "    ax1.plot(Trange,rf_data_master[c]['P_VLE'])\n",
    "ax1.set_ylabel(r'$P_{VLE}$ value',fontsize=14)\n",
    "ax1.set_xlabel('Temperature (K)',fontsize=14)\n",
    "ax1.tick_params(labelsize=14)\n",
    "ax1.legend(catrange,fontsize=14)\n",
    "ax1.set_title(r'$P_{VLE}$ (Bar)',fontsize=18)\n",
    "ax1.grid()\n",
    "plt.show()"
   ]
  },
  {
   "cell_type": "code",
   "execution_count": null,
   "metadata": {},
   "outputs": [],
   "source": [
    "fig, ax1 = plt.subplots(figsize=(16,9))\n",
    "for c in catrange:\n",
    "    ax1.plot(Trange,np.multiply(rf_data_master[c]['s_L'],rf_data_master[c]['L']))\n",
    "ax1.set_ylabel(r'$s_L \\cdot L$ value',fontsize=14)\n",
    "ax1.set_xlabel('Temperature (K)',fontsize=14)\n",
    "ax1.tick_params(labelsize=14)\n",
    "ax1.legend(catrange,fontsize=14)\n",
    "# ax1.set_ylim(2.49e-5,2.51e-5)\n",
    "ax1.set_title(r'$s_L \\cdot L$',fontsize=18)\n",
    "ax1.grid()\n",
    "plt.show()"
   ]
  },
  {
   "cell_type": "code",
   "execution_count": null,
   "metadata": {},
   "outputs": [],
   "source": []
  }
 ],
 "metadata": {
  "kernelspec": {
   "display_name": "Python 3",
   "language": "python",
   "name": "python3"
  },
  "language_info": {
   "codemirror_mode": {
    "name": "ipython",
    "version": 3
   },
   "file_extension": ".py",
   "mimetype": "text/x-python",
   "name": "python",
   "nbconvert_exporter": "python",
   "pygments_lexer": "ipython3",
   "version": "3.6.5"
  }
 },
 "nbformat": 4,
 "nbformat_minor": 2
}
