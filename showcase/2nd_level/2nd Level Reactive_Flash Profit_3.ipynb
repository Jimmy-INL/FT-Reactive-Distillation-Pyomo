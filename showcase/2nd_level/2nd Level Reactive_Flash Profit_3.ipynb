{
 "cells": [
  {
   "cell_type": "markdown",
   "metadata": {
    "slideshow": {
     "slide_type": "slide"
    }
   },
   "source": [
    "# 2nd Level Model Structure: Reactive Stage"
   ]
  },
  {
   "cell_type": "code",
   "execution_count": 1,
   "metadata": {},
   "outputs": [],
   "source": [
    "%store -r dic"
   ]
  },
  {
   "cell_type": "code",
   "execution_count": 2,
   "metadata": {},
   "outputs": [],
   "source": [
    "import sys\n",
    "import os\n",
    "import dill\n",
    "import pickle\n",
    "sys.path.append(os.path.abspath('..'))\n",
    "sys.path.append(os.path.abspath('../..'))\n",
    "import numpy as np\n",
    "from matplotlib import pyplot as plt\n",
    "os.environ['DISPLAY'] = '0'"
   ]
  },
  {
   "cell_type": "code",
   "execution_count": 3,
   "metadata": {
    "slideshow": {
     "slide_type": "fragment"
    }
   },
   "outputs": [],
   "source": [
    "from pyomo import environ as pe\n",
    "from global_sets.component import m\n",
    "from utility.display_utility import trans_product_mole, trans_product_mass\n",
    "from utility.model_utility import add_dual, update_dual, check_DOF, augmented_objective, add_solver,\\\n",
    "                                    select_MPCC, which_MPCC, disable_restoration\n",
    "from utility.data_utility import cal_cnumber\n",
    "\n",
    "# stage construction rules\n",
    "from physics.kinetics.kinetics_reactive import kinetic_block_rule\n",
    "from physics.energy.energy_reactive import energy_block_rule\n",
    "from physics.VLE.VLE_reactive_MPCC_P import VLE_block_rule\n",
    "from physics.MPCC.MPCC_P import P_NCP_block_rule, P_Reg_block_rule, P_pf_block_rule"
   ]
  },
  {
   "cell_type": "code",
   "execution_count": 4,
   "metadata": {},
   "outputs": [],
   "source": [
    "model = pe.ConcreteModel()"
   ]
  },
  {
   "cell_type": "markdown",
   "metadata": {
    "slideshow": {
     "slide_type": "subslide"
    }
   },
   "source": [
    "# Global Sets (Inlet / Outlet)"
   ]
  },
  {
   "cell_type": "code",
   "execution_count": 5,
   "metadata": {
    "slideshow": {
     "slide_type": "fragment"
    }
   },
   "outputs": [],
   "source": [
    "model.inlet = pe.Set(initialize=['in','R'])\n",
    "model.outlet = pe.Set(initialize=['out','P'])\n",
    "model.stream = model.inlet | model.outlet"
   ]
  },
  {
   "cell_type": "code",
   "execution_count": 6,
   "metadata": {},
   "outputs": [],
   "source": [
    "# model.comp_light = pe.Set(initialize = [i for i in m.COMP_ORG if cal_cnumber(i) >= 1 and cal_cnumber(i) <= 4])\n",
    "# model.comp_naphtha = pe.Set(initialize = [i for i in m.COMP_ORG if cal_cnumber(i) >= 5 and cal_cnumber(i) <= 7])\n",
    "# model.comp_gasoline = pe.Set(initialize = [i for i in m.COMP_ORG if cal_cnumber(i) >= 8 and cal_cnumber(i) <= 12])\n",
    "# model.comp_diesel = pe.Set(initialize = [i for i in m.COMP_ORG if cal_cnumber(i) >= 13 and cal_cnumber(i) <= 18])\n",
    "# model.comp_heavy = pe.Set(initialize = [i for i in m.COMP_ORG if cal_cnumber(i) >= 19 and cal_cnumber(i) <= 56])"
   ]
  },
  {
   "cell_type": "markdown",
   "metadata": {
    "slideshow": {
     "slide_type": "subslide"
    }
   },
   "source": [
    "# Global Variables"
   ]
  },
  {
   "cell_type": "code",
   "execution_count": 7,
   "metadata": {
    "slideshow": {
     "slide_type": "fragment"
    }
   },
   "outputs": [],
   "source": [
    "# Tray Inlet/Outlet Variable\n",
    "model.x_ = pe.Var(model.inlet,m.COMP_TOTAL,within=pe.NonNegativeReals)\n",
    "model.y_ = pe.Var(model.inlet,m.COMP_TOTAL,within=pe.NonNegativeReals)\n",
    "model.x = pe.Var(m.COMP_TOTAL,within=pe.NonNegativeReals)\n",
    "model.y = pe.Var(m.COMP_TOTAL,within=pe.NonNegativeReals)\n",
    "model.z = pe.Var(m.COMP_FEED,within=pe.NonNegativeReals)\n",
    "\n",
    "model.L = pe.Var(model.stream,within=pe.NonNegativeReals)\n",
    "model.V = pe.Var(model.stream,within=pe.NonNegativeReals)\n",
    "model.F = pe.Var(within=pe.NonNegativeReals)\n",
    "\n",
    "model.H_L_ = pe.Var(model.inlet,within=pe.Reals)\n",
    "model.H_V_ = pe.Var(model.inlet,within=pe.Reals)\n",
    "model.H_L = pe.Var(within=pe.Reals)\n",
    "model.H_V = pe.Var(within=pe.Reals)\n",
    "model.H_F = pe.Var(within=pe.Reals)\n",
    "\n",
    "# State Variable\n",
    "model.T = pe.Var(within=pe.NonNegativeReals,bounds=(200+273.15,300+273.15)) # K\n",
    "model.T_F = pe.Var(within=pe.NonNegativeReals) # K\n",
    "model.P = pe.Var(within=pe.NonNegativeReals,bounds=(10,30)) # Bar\n",
    "\n",
    "model.f_V = pe.Var(m.COMP_TOTAL,within=pe.NonNegativeReals,initialize=1e-20)\n",
    "model.f_L = pe.Var(m.COMP_TOTAL,within=pe.NonNegativeReals,initialize=1e-20)\n",
    "\n",
    "model.cat = pe.Var(within=pe.NonNegativeReals,initialize=30000) # kg\n",
    "model.Q_main = pe.Var(within=pe.Reals) # MW\n",
    "model.r_total_comp = pe.Var(m.COMP_TOTAL,within=pe.Reals) # kmol/s"
   ]
  },
  {
   "cell_type": "code",
   "execution_count": 8,
   "metadata": {},
   "outputs": [],
   "source": [
    "model.P_V = pe.Var(within=pe.NonNegativeReals)\n",
    "model.P_naphtha = pe.Var(within=pe.NonNegativeReals)\n",
    "model.P_gasoline = pe.Var(within=pe.NonNegativeReals)\n",
    "model.P_diesel = pe.Var(within=pe.NonNegativeReals)\n",
    "model.P_heavy = pe.Var(within=pe.NonNegativeReals)"
   ]
  },
  {
   "cell_type": "markdown",
   "metadata": {
    "slideshow": {
     "slide_type": "slide"
    }
   },
   "source": [
    "# Construct Individual Blocks"
   ]
  },
  {
   "cell_type": "code",
   "execution_count": 9,
   "metadata": {
    "slideshow": {
     "slide_type": "subslide"
    }
   },
   "outputs": [
    {
     "name": "stdout",
     "output_type": "stream",
     "text": [
      "> Importing Kinetics Blocks......\n",
      "> Adding the following local variable:\n",
      "--------------------------------------------------\n",
      "| kinetics_block.k_FT\n",
      "| kinetics_block.r_FT_total\n",
      "| kinetics_block.g0_FT\n",
      "| kinetics_block.alpha\n",
      "| kinetics_block.r_FT_cnum\n",
      "| kinetics_block.r_FT_comp\n",
      "| kinetics_block.k_WGS\n",
      "| kinetics_block.Ke_WGS\n",
      "| kinetics_block.r_WGS\n",
      "| kinetics_block.r_WGS_comp\n",
      "--------------------------------------------------\n",
      "\n"
     ]
    }
   ],
   "source": [
    "model.kinetics_block = pe.Block(rule=kinetic_block_rule)"
   ]
  },
  {
   "cell_type": "code",
   "execution_count": 10,
   "metadata": {
    "slideshow": {
     "slide_type": "subslide"
    }
   },
   "outputs": [
    {
     "name": "stdout",
     "output_type": "stream",
     "text": [
      "> Importing Energy Blocks......\n",
      "> Adding the following local variable:\n",
      "--------------------------------------------------\n",
      "| energy_block.dH_F\n",
      "| energy_block.dH_V\n",
      "| energy_block.dH_L\n",
      "| energy_block.dH_vap\n",
      "--------------------------------------------------\n",
      "\n"
     ]
    }
   ],
   "source": [
    "model.energy_block = pe.Block(rule=energy_block_rule)"
   ]
  },
  {
   "cell_type": "code",
   "execution_count": 11,
   "metadata": {
    "scrolled": false,
    "slideshow": {
     "slide_type": "subslide"
    }
   },
   "outputs": [
    {
     "name": "stdout",
     "output_type": "stream",
     "text": [
      "> Importing VLE Blocks......\n",
      "> Adding the following local variable:\n",
      "--------------------------------------------------\n",
      "| VLE_block.P_VLE\n",
      "| VLE_block.n_ave\n",
      "| VLE_block.n_ave_cal\n",
      "| VLE_block.Hen\n",
      "| VLE_block.Hen0\n",
      "| VLE_block.gamma\n",
      "| VLE_block.P_sat\n",
      "| VLE_block.P_sat_Y\n",
      "| VLE_block.P_sat_dY_inf\n",
      "| VLE_block.P_sat_dY0\n",
      "| VLE_block.Hen_ref\n",
      "| VLE_block.Hen0_ref\n",
      "| VLE_block.gamma_ref\n",
      "| VLE_block.V_L\n",
      "| VLE_block.V_L_dY_inf\n",
      "| VLE_block.V_L_dY0\n",
      "| VLE_block.poynting\n",
      "--------------------------------------------------\n",
      "\n"
     ]
    }
   ],
   "source": [
    "model.VLE_block = pe.Block(rule=VLE_block_rule)"
   ]
  },
  {
   "cell_type": "markdown",
   "metadata": {
    "slideshow": {
     "slide_type": "slide"
    }
   },
   "source": [
    "# Standard MESH Equations"
   ]
  },
  {
   "cell_type": "markdown",
   "metadata": {
    "slideshow": {
     "slide_type": "subslide"
    }
   },
   "source": [
    "## Mass Balance"
   ]
  },
  {
   "cell_type": "markdown",
   "metadata": {
    "slideshow": {
     "slide_type": "fragment"
    }
   },
   "source": [
    "\\begin{equation}\n",
    "Fz_{i}+\\sum_{s\\in{inlet}}L_{s}x'_{i,s}+\\sum_{s\\in{inlet}}V_{s}y'_{i,s}-\\sum_{s\\in{outlet}}L_{s}x_{i,s}+\\sum_{s\\in{ouelet}}V_{s}y_{i,s}+R_{i} = 0 \\\\\n",
    "i = 1,...NC\n",
    "\\end{equation}"
   ]
  },
  {
   "cell_type": "code",
   "execution_count": 12,
   "metadata": {
    "slideshow": {
     "slide_type": "fragment"
    }
   },
   "outputs": [],
   "source": [
    "def mass_balance_main_rule(model,i):\n",
    "    if i in m.COMP_FEED:\n",
    "        return model.F*model.z[i] + sum(model.L[s]*model.x_[s,i] + model.V[s]*model.y_[s,i] for s in model.inlet)\\\n",
    "        + model.r_total_comp[i] - sum(model.L[s]*model.x[i] + model.V[s]*model.y[i] for s in model.outlet) == 0\n",
    "    else:\n",
    "        return sum(model.L[s]*model.x_[s,i] + model.V[s]*model.y_[s,i] for s in model.inlet)\\\n",
    "        + model.r_total_comp[i] - sum(model.L[s]*model.x[i] + model.V[s]*model.y[i] for s in model.outlet) == 0\n",
    "model.mass_balance_main_con = pe.Constraint(m.COMP_TOTAL,rule=mass_balance_main_rule)"
   ]
  },
  {
   "cell_type": "markdown",
   "metadata": {
    "slideshow": {
     "slide_type": "subslide"
    }
   },
   "source": [
    "## Equilibrium"
   ]
  },
  {
   "cell_type": "markdown",
   "metadata": {
    "slideshow": {
     "slide_type": "fragment"
    }
   },
   "source": [
    "\\begin{align}\n",
    "&f_{i,V} = f_{i,L} \\\\\n",
    "&i = 1,...NC\n",
    "\\end{align}"
   ]
  },
  {
   "cell_type": "code",
   "execution_count": 13,
   "metadata": {
    "slideshow": {
     "slide_type": "fragment"
    }
   },
   "outputs": [],
   "source": [
    "def VL_equil_rule(model,i):\n",
    "    return model.f_V[i] == model.f_L[i]\n",
    "model.VL_equil_con = pe.Constraint(m.COMP_TOTAL,rule=VL_equil_rule)"
   ]
  },
  {
   "cell_type": "markdown",
   "metadata": {
    "slideshow": {
     "slide_type": "subslide"
    }
   },
   "source": [
    "## Summation"
   ]
  },
  {
   "cell_type": "markdown",
   "metadata": {
    "slideshow": {
     "slide_type": "fragment"
    }
   },
   "source": [
    "\\begin{equation}\n",
    "\\sum_ix_{i} = \\sum_iy_{i} \\\\\n",
    "F + L_{in} + V_{in} + R = L_{out} + V_{out}\n",
    "\\end{equation}"
   ]
  },
  {
   "cell_type": "code",
   "execution_count": 14,
   "metadata": {
    "slideshow": {
     "slide_type": "fragment"
    }
   },
   "outputs": [],
   "source": [
    "def summation_x_y_rule(model):\n",
    "    return sum(model.x[i] for i in m.COMP_TOTAL) == sum(model.y[i] for i in m.COMP_TOTAL)\n",
    "model.summation_x_y_con = pe.Constraint(rule=summation_x_y_rule)\n",
    "\n",
    "def summation_total_mass_rule(model):\n",
    "    return model.F + sum(model.L[s] + model.V[s] for s in model.inlet) + sum(model.r_total_comp[i] for i in m.COMP_TOTAL)\\\n",
    "            - sum(model.L[s] + model.V[s] for s in model.outlet) == 0\n",
    "model.summation_total_mass_con = pe.Constraint(rule=summation_total_mass_rule)"
   ]
  },
  {
   "cell_type": "markdown",
   "metadata": {
    "slideshow": {
     "slide_type": "subslide"
    }
   },
   "source": [
    "## Energy Balance"
   ]
  },
  {
   "cell_type": "markdown",
   "metadata": {
    "slideshow": {
     "slide_type": "fragment"
    }
   },
   "source": [
    "\\begin{equation}\n",
    "F H_f+\\sum_{s\\in{inlet}}L_{s}H_{l,s}+\\sum_{s\\in{inlet}}V_{s}H_{v,s}-\\sum_{s\\in{outlet}}L_{s}H_{l,s}-\\sum_{s\\in{outlet}}V_{s}H_{v,s}+Q = 0\n",
    "\\end{equation}"
   ]
  },
  {
   "cell_type": "code",
   "execution_count": 15,
   "metadata": {
    "slideshow": {
     "slide_type": "fragment"
    }
   },
   "outputs": [],
   "source": [
    "def heat_balance_main_rule(model):\n",
    "    return model.F*model.H_F + sum(model.L[s]*model.H_L_[s] + model.V[s]*model.H_V_[s] for s in model.inlet) \\\n",
    "            + model.Q_main - sum(model.L[s]*model.H_L + model.V[s]*model.H_V for s in model.outlet) == 0\n",
    "model.heat_balance_main_con = pe.Constraint(rule=heat_balance_main_rule)"
   ]
  },
  {
   "cell_type": "markdown",
   "metadata": {},
   "source": [
    "# Product Amount / Total Revenue"
   ]
  },
  {
   "cell_type": "code",
   "execution_count": 16,
   "metadata": {},
   "outputs": [],
   "source": [
    "def P_V_rule(model):\n",
    "    return model.P_V == sum(\n",
    "        (model.V['out'] * model.y[i] + model.L['out'] * model.x[i]) * dic[i,'V']\n",
    "    for i in m.COMP_TOTAL)\n",
    "                            \n",
    "model.P_light_con = pe.Constraint(rule=P_V_rule)\n",
    "\n",
    "def P_naphtha_rule(model):\n",
    "    return model.P_naphtha == sum(\n",
    "        (model.V['out'] * model.y[i] + model.L['out'] * model.x[i]) * dic[i,'naphtha']\n",
    "    for i in m.COMP_TOTAL)\n",
    "\n",
    "model.P_naphtha_con = pe.Constraint(rule=P_naphtha_rule)\n",
    "\n",
    "def P_gasoline_rule(model):\n",
    "    return model.P_gasoline == sum(\n",
    "        (model.V['out'] * model.y[i] + model.L['out'] * model.x[i]) * dic[i,'gasoline']\n",
    "    for i in m.COMP_TOTAL)\n",
    "\n",
    "model.P_gasoline_con = pe.Constraint(rule=P_gasoline_rule)\n",
    "\n",
    "def P_diesel_rule(model):\n",
    "    return model.P_diesel == sum(\n",
    "        (model.V['out'] * model.y[i] + model.L['out'] * model.x[i]) * dic[i,'diesel']\n",
    "    for i in m.COMP_TOTAL)\n",
    "\n",
    "model.P_diesel_con = pe.Constraint(rule=P_diesel_rule)\n",
    "\n",
    "def P_heavy_rule(model):\n",
    "    return model.P_heavy == sum(\n",
    "        (model.V['out'] * model.y[i] + model.L['out'] * model.x[i]) * dic[i,'heavy']\n",
    "    for i in m.COMP_TOTAL)\n",
    "\n",
    "model.P_heavy_con = pe.Constraint(rule=P_heavy_rule)"
   ]
  },
  {
   "cell_type": "markdown",
   "metadata": {},
   "source": [
    "## MPCC: Add all three"
   ]
  },
  {
   "cell_type": "code",
   "execution_count": 17,
   "metadata": {
    "scrolled": false
   },
   "outputs": [
    {
     "name": "stdout",
     "output_type": "stream",
     "text": [
      "> Importing MPCC_P_pf Blocks......\n",
      "> Adding the following local variable:\n",
      "--------------------------------------------------\n",
      "| MPCC_P_pf.s_L\n",
      "| MPCC_P_pf.s_V\n",
      "| MPCC_P_pf.pf\n",
      "| MPCC_P_pf.epi\n",
      "| MPCC_P_pf.rho\n",
      "--------------------------------------------------\n",
      "> Spliting pressure used in VLE\n",
      "Deleted original P_equal constraint\n",
      "\n",
      "> Deleted kinetics rates constraints\n",
      "> Added f_V_MPCC, updated rates constraints\n",
      "\n",
      "> Importing MPCC_P_NCP Blocks......\n",
      "> Adding the following local variable:\n",
      "--------------------------------------------------\n",
      "| MPCC_P_NCP.s_L\n",
      "| MPCC_P_NCP.s_V\n",
      "| MPCC_P_NCP.epi\n",
      "--------------------------------------------------\n",
      "> Adding complementarity constraint, spliting pressure used in VLE\n",
      "> No constraint to delete\n",
      "\n",
      "> Already replaced f_V_MPCC\n",
      "\n",
      "> Importing MPCC_P_Reg Blocks......\n",
      "> Adding the following local variable:\n",
      "--------------------------------------------------\n",
      "| MPCC_P_Reg.s_L\n",
      "| MPCC_P_Reg.s_V\n",
      "| MPCC_P_Reg.epi\n",
      "--------------------------------------------------\n",
      "> Adding complementarity constraint, spliting pressure used in VLE\n",
      "No constraint to delete\n",
      "\n",
      "> Already replaced f_V_MPCC\n",
      "\n"
     ]
    }
   ],
   "source": [
    "model.MPCC_P_pf = pe.Block(rule = P_pf_block_rule)\n",
    "model.MPCC_P_NCP = pe.Block(rule = P_NCP_block_rule)\n",
    "model.MPCC_P_Reg = pe.Block(rule = P_Reg_block_rule)"
   ]
  },
  {
   "cell_type": "code",
   "execution_count": 18,
   "metadata": {
    "scrolled": true
   },
   "outputs": [
    {
     "name": "stdout",
     "output_type": "stream",
     "text": [
      "> Selected MPCC: MPCC_P_pf\n",
      "s_L:  0\n",
      "s_V:  0\n",
      "\n"
     ]
    }
   ],
   "source": [
    "select_MPCC(model,'pf')"
   ]
  },
  {
   "cell_type": "markdown",
   "metadata": {
    "slideshow": {
     "slide_type": "slide"
    }
   },
   "source": [
    "# Testing"
   ]
  },
  {
   "cell_type": "code",
   "execution_count": 19,
   "metadata": {
    "slideshow": {
     "slide_type": "fragment"
    }
   },
   "outputs": [
    {
     "name": "stdout",
     "output_type": "stream",
     "text": [
      "Created the follow pyomo suffixes:\n",
      "ipopt_zL_out, ipopt_zU_out, ipopt_zL_in, ipopt_zU_in, dual\n"
     ]
    }
   ],
   "source": [
    "add_dual(pe,model)"
   ]
  },
  {
   "cell_type": "markdown",
   "metadata": {
    "slideshow": {
     "slide_type": "fragment"
    }
   },
   "source": [
    "## Fixing In/Product Redundent Flow"
   ]
  },
  {
   "cell_type": "code",
   "execution_count": 20,
   "metadata": {
    "slideshow": {
     "slide_type": "fragment"
    }
   },
   "outputs": [],
   "source": [
    "model.x_.fix(0)\n",
    "model.y_.fix(0)\n",
    "model.L['in'].fix(0)\n",
    "model.L['R'].fix(0)\n",
    "model.L['P'].fix(0)\n",
    "\n",
    "model.V['in'].fix(0)\n",
    "model.V['R'].fix(0)\n",
    "model.V['P'].fix(0)\n",
    "model.H_L_.fix(0)\n",
    "model.H_V_.fix(0)"
   ]
  },
  {
   "cell_type": "markdown",
   "metadata": {
    "slideshow": {
     "slide_type": "subslide"
    }
   },
   "source": [
    "## Fixing Model Parameters"
   ]
  },
  {
   "cell_type": "code",
   "execution_count": 21,
   "metadata": {
    "slideshow": {
     "slide_type": "fragment"
    }
   },
   "outputs": [],
   "source": [
    "model.cat.fix(30000)\n",
    "model.P.fix(20)\n",
    "model.T_F.fix(200+273.15)\n",
    "model.F.fix(8.88)\n",
    "model.z['CO'].fix(1/(1+2)-0/2)\n",
    "model.z['H2'].fix(2/(1+2)-0/2)\n",
    "model.z['C30H62'].fix(0)\n",
    "model.VLE_block.n_ave.fix(20)"
   ]
  },
  {
   "cell_type": "code",
   "execution_count": 22,
   "metadata": {
    "slideshow": {
     "slide_type": "fragment"
    }
   },
   "outputs": [],
   "source": [
    "# model.F.setlb(1e-3)\n",
    "# model.F.setub(10)\n",
    "model.T.setub(300+273.15)"
   ]
  },
  {
   "cell_type": "markdown",
   "metadata": {},
   "source": [
    "# Objective"
   ]
  },
  {
   "cell_type": "code",
   "execution_count": 23,
   "metadata": {
    "scrolled": false,
    "slideshow": {
     "slide_type": "fragment"
    }
   },
   "outputs": [],
   "source": [
    "opt = add_solver(pe, max_iter = 50000, warm_start = False, output = False)\n",
    "disable_restoration(mode = 'enable')"
   ]
  },
  {
   "cell_type": "code",
   "execution_count": 24,
   "metadata": {},
   "outputs": [
    {
     "name": "stdout",
     "output_type": "stream",
     "text": [
      "Active Equality Constraints:\t 1191\n",
      "Active Inequality Constraints:\t 1\n",
      "Active Variables:\t\t 1529\n",
      "Fixed Variables:\t\t 334\n",
      "DOF:\t\t\t\t 4\n"
     ]
    }
   ],
   "source": [
    "check_DOF(pe,model)"
   ]
  },
  {
   "cell_type": "code",
   "execution_count": 25,
   "metadata": {},
   "outputs": [],
   "source": [
    "model.T.setub(220+273.15)"
   ]
  },
  {
   "cell_type": "code",
   "execution_count": 26,
   "metadata": {},
   "outputs": [
    {
     "name": "stdout",
     "output_type": "stream",
     "text": [
      "------------------------------------------------------------------------------------------------------------\n",
      "> Obj = maximize\n",
      "> T - MPCC_P_pf.pf\n",
      "------------------------------------------------------------------------------------------------------------\n"
     ]
    }
   ],
   "source": [
    "model.obj = augmented_objective(pe,model,model.T, sense=pe.maximize)"
   ]
  },
  {
   "cell_type": "code",
   "execution_count": 27,
   "metadata": {},
   "outputs": [
    {
     "name": "stdout",
     "output_type": "stream",
     "text": [
      "Ipopt 3.12.10: print_user_options=yes\n",
      "tol=1e-08\n",
      "option_file_name=./ipopt.opt\n",
      "max_iter=50000\n",
      "\n",
      "Using option file \"./ipopt.opt\".\n",
      "\n",
      "\n",
      "List of user-set options:\n",
      "\n",
      "                                    Name   Value                used\n",
      "                           compl_inf_tol = 1                     yes\n",
      "                         constr_viol_tol = 1                     yes\n",
      "                            dual_inf_tol = 1000                  yes\n",
      "                           linear_solver = ma97                  yes\n",
      "                              ma86_small = 1e-30                  no\n",
      "                                  ma86_u = 0.0001                 no\n",
      "                              ma97_order = best                  yes\n",
      "                              ma97_small = 1e-30                 yes\n",
      "                            ma97_switch1 = at_start              yes\n",
      "                            ma97_switch2 = od_hd_reuse           yes\n",
      "                                  ma97_u = 1e-06                 yes\n",
      "                               ma97_umax = 0.5                   yes\n",
      "                                max_iter = 50000                 yes\n",
      "                    max_refinement_steps = 20                    yes\n",
      "                    min_refinement_steps = 5                     yes\n",
      "           mu_superlinear_decrease_power = 1.25                  yes\n",
      "                   nlp_scaling_min_value = 1e-08                 yes\n",
      "                        option_file_name = ./ipopt.opt           yes\n",
      "                      print_user_options = yes                   yes\n",
      "                                     tol = 1e-08                 yes\n",
      "                   warm_start_bound_frac = 1e-20                 yes\n",
      "                warm_start_mult_init_max = 1e+40                 yes\n",
      "             warm_start_slack_bound_frac = 1e-20                 yes\n",
      "             warm_start_slack_bound_push = 1e-20                 yes\n",
      "\n",
      "******************************************************************************\n",
      "This program contains Ipopt, a library for large-scale nonlinear optimization.\n",
      " Ipopt is released as open source code under the Eclipse Public License (EPL).\n",
      "         For more information visit http://projects.coin-or.org/Ipopt\n",
      "******************************************************************************\n",
      "\n",
      "This is Ipopt version 3.12.10, running with linear solver ma97.\n",
      "\n",
      "Number of nonzeros in equality constraint Jacobian...:     4777\n",
      "Number of nonzeros in inequality constraint Jacobian.:        5\n",
      "Number of nonzeros in Lagrangian Hessian.............:     1545\n",
      "\n",
      "Total number of variables............................:     1195\n",
      "                     variables with only lower bounds:      392\n",
      "                variables with lower and upper bounds:      633\n",
      "                     variables with only upper bounds:        0\n",
      "Total number of equality constraints.................:     1191\n",
      "Total number of inequality constraints...............:        1\n",
      "        inequality constraints with only lower bounds:        0\n",
      "   inequality constraints with lower and upper bounds:        0\n",
      "        inequality constraints with only upper bounds:        1\n",
      "\n",
      "iter    objective    inf_pr   inf_du lg(mu)  ||d||  lg(rg) alpha_du alpha_pr  ls\n",
      "   0 -4.7334000e+02 9.34e+03 1.00e+00  -1.0 0.00e+00    -  0.00e+00 0.00e+00   0\n",
      "   1 -4.7334090e+02 9.34e+03 2.01e+01  -1.0 2.00e+05    -  3.32e-06 1.29e-05h  1\n",
      "   2 -4.7334113e+02 9.34e+03 7.99e+01  -1.0 2.83e+05    -  4.06e-06 1.27e-05h  1\n",
      "   3r-4.7334113e+02 9.34e+03 9.99e+02   3.9 0.00e+00   0.0 0.00e+00 4.49e-07R  2\n",
      "   4r-4.7334114e+02 9.34e+03 8.78e+05   3.9 5.83e+05    -  2.03e-03 6.17e-08f  1\n",
      "   5r-4.7586939e+02 8.19e+03 9.75e+05   3.9 2.52e+05    -  4.23e-04 3.74e-03f  1\n",
      "   6 -4.7587081e+02 8.19e+03 1.95e+01  -1.0 8.64e+04    -  2.51e-05 3.49e-05h  1\n",
      "   7 -4.7587216e+02 8.19e+03 2.07e+01  -1.0 1.65e+04    -  5.96e-05 3.60e-05h  1\n",
      "   8 -4.7587895e+02 8.19e+03 1.12e+02  -1.0 1.35e+04    -  1.03e-04 1.84e-04h  1\n",
      "   9 -4.7587962e+02 8.19e+03 1.06e+02  -1.0 5.20e+04    -  2.70e-04 1.99e-05h  1\n",
      "iter    objective    inf_pr   inf_du lg(mu)  ||d||  lg(rg) alpha_du alpha_pr  ls\n",
      "  10 -4.7588206e+02 8.19e+03 7.69e+01  -1.0 5.68e+04    -  2.59e-04 8.20e-05h  1\n",
      "  11 -4.7588210e+02 8.19e+03 8.09e+02  -1.0 8.95e+04    -  5.61e-04 3.03e-05h  1\n",
      "  12 -4.7584597e+02 8.19e+03 2.79e+03  -1.0 9.92e+04    -  4.99e-05 3.69e-05h  1\n",
      "  13 -4.6033616e+02 8.19e+03 2.03e+04  -1.0 1.13e+05    -  7.75e-07 1.37e-04h  1\n",
      "  14 -4.4320951e+02 8.18e+03 1.96e+04  -1.0 1.96e+05    -  7.95e-05 8.74e-05h  1\n",
      "  15r-4.4320951e+02 8.18e+03 1.00e+03   3.8 0.00e+00    -  0.00e+00 4.41e-07R  2\n",
      "  16r-4.4321197e+02 8.18e+03 6.40e+04   3.8 5.70e+05    -  3.57e-04 6.52e-07f  1\n",
      "  17r-4.5449304e+02 6.08e+03 6.05e+04   2.4 5.71e+05    -  4.80e-04 2.96e-03f  1\n",
      "  18 -3.9811831e+02 6.08e+03 4.37e+02  -1.0 1.26e+05    -  2.28e-05 4.47e-04h  1\n",
      "  19r-3.9811831e+02 6.08e+03 9.99e+02   3.7 0.00e+00    -  0.00e+00 2.92e-07R  5\n",
      "iter    objective    inf_pr   inf_du lg(mu)  ||d||  lg(rg) alpha_du alpha_pr  ls\n",
      "  20r-3.9811866e+02 6.08e+03 2.20e+05   3.7 6.25e+05    -  2.30e-03 9.11e-08f  2\n",
      "  21r-4.0391748e+02 4.94e+03 2.13e+05   3.0 6.05e+05    -  4.71e-03 1.53e-03f  1\n",
      "  22 -3.9850318e+02 4.94e+03 2.05e+02  -1.0 1.30e+05    -  5.32e-04 4.17e-05h  1\n",
      "  23r-3.9850318e+02 4.94e+03 9.99e+02   3.6 0.00e+00    -  0.00e+00 3.82e-07R  2\n",
      "  24r-3.9850512e+02 4.94e+03 5.71e+05   3.6 3.10e+05    -  8.49e-03 2.87e-06f  1\n",
      "  25r-3.9651938e+02 6.71e+02 3.31e+06   3.6 2.70e+05    -  9.53e-03 1.71e-02f  1\n",
      "  26 -4.0480895e+02 6.71e+02 2.05e+02  -1.0 6.96e+04    -  5.07e-04 1.19e-04f  1\n",
      "  27 -4.1095533e+02 6.66e+02 2.90e+02  -1.0 3.92e+04    -  1.41e-03 4.04e-04f  1\n",
      "  28r-4.1095533e+02 6.66e+02 9.99e+02   2.8 0.00e+00  -0.5 0.00e+00 2.52e-07R  5\n",
      "  29r-4.1095462e+02 6.55e+02 1.22e+04   2.8 6.69e+05    -  4.03e-03 7.48e-06f  1\n",
      "iter    objective    inf_pr   inf_du lg(mu)  ||d||  lg(rg) alpha_du alpha_pr  ls\n",
      "  30r-4.1075979e+02 5.32e+02 1.37e+04   2.8 1.31e+05    -  7.91e-03 5.00e-03f  1\n",
      "  31 -4.0308567e+02 5.32e+02 3.84e+02  -1.0 3.24e+05    -  2.63e-04 2.37e-05h  6\n",
      "  32 -3.9501529e+02 5.32e+02 4.81e+02  -1.0 3.50e+05    -  5.13e-04 2.31e-05h  6\n",
      "  33r-3.9501529e+02 5.32e+02 9.99e+02   2.7 0.00e+00    -  0.00e+00 3.53e-07R 12\n",
      "  34r-3.9501382e+02 5.32e+02 1.57e+04   2.7 8.91e+04    -  1.55e-02 2.74e-05f  1\n",
      "  35r-3.9414035e+02 5.11e+02 1.32e+04   2.7 1.18e+04    -  2.79e-02 1.78e-02f  1\n",
      "  36r-3.9390911e+02 5.10e+02 9.37e+03   2.0 7.78e+02    -  4.85e-02 2.13e-02f  1\n",
      "  37r-3.9178033e+02 4.99e+02 8.80e+03   2.0 2.39e+02    -  6.23e-02 7.69e-02f  1\n",
      "  38r-3.9178555e+02 4.98e+02 7.22e+03   2.0 7.81e+00   2.0 1.79e-01 9.92e-02f  1\n",
      "  39r-3.9175049e+02 4.95e+02 4.63e+05   2.0 1.41e+01   1.5 2.41e-01 2.43e-01f  1\n",
      "iter    objective    inf_pr   inf_du lg(mu)  ||d||  lg(rg) alpha_du alpha_pr  ls\n",
      "  40r-3.9176032e+02 4.94e+02 7.11e+03   2.0 1.13e+01   1.9 2.58e-01 2.27e-01f  1\n",
      "  41r-3.9175282e+02 4.91e+02 7.66e+04   1.3 1.81e+01   1.5 3.16e-01 2.16e-01f  1\n",
      "  42r-3.9175055e+02 4.91e+02 2.44e+05   1.3 7.52e+00   1.9 4.99e-01 1.56e-01f  1\n",
      "  43r-3.9172022e+02 4.87e+02 2.76e+04   1.3 1.77e+01   1.4 1.54e-01 1.84e-01f  1\n",
      "  44r-3.9172058e+02 4.87e+02 4.97e+05   1.3 6.48e+00   1.8 2.03e-01 1.55e-02f  1\n",
      "  45r-3.9172874e+02 4.84e+02 1.15e+05   1.3 1.86e+01   1.4 2.27e-02 1.66e-01f  1\n",
      "  46r-3.9171109e+02 4.79e+02 9.65e+04   1.3 6.13e+01   0.9 1.35e-01 1.07e-01f  1\n",
      "  47r-3.9165945e+02 4.67e+02 7.65e+04   1.3 1.35e+02   0.4 1.28e-01 1.14e-01f  1\n",
      "  48r-3.9149482e+02 4.42e+02 4.96e+05   1.3 1.81e+02  -0.1 3.82e-01 1.39e-01f  1\n",
      "  49 -3.9869490e+02 4.42e+02 4.57e+02  -1.0 1.48e+07    -  2.46e-03 4.86e-07f  1\n",
      "iter    objective    inf_pr   inf_du lg(mu)  ||d||  lg(rg) alpha_du alpha_pr  ls\n",
      "  50 -4.1163733e+02 4.41e+02 9.40e+02  -1.0 2.82e+04    -  4.13e-03 4.59e-04f  1\n",
      "  51 -4.1223440e+02 4.41e+02 3.41e+03  -1.0 1.53e+03    -  5.05e-03 1.77e-03f  1\n",
      "  52 -4.1401104e+02 6.02e+03 1.10e+04  -1.0 1.47e+03    -  7.92e-03 2.69e-02f  1\n",
      "  53 -4.1587093e+02 5.88e+03 4.55e+04  -1.0 1.05e+03    -  1.54e-01 1.84e-02h  1\n",
      "  54 -4.2310007e+02 4.88e+03 7.54e+04  -1.0 9.18e+02    -  7.91e-02 9.33e-02h  1\n",
      "  55 -4.2275793e+02 4.87e+03 7.68e+04  -1.0 4.11e+04    -  4.55e-04 1.49e-03h  1\n",
      "  56 -4.2196719e+02 4.85e+03 7.74e+04  -1.0 1.21e+05    -  6.63e-04 9.68e-04h  1\n",
      "  57 -4.2129297e+02 4.83e+03 5.73e+04  -1.0 1.92e+05    -  3.25e-03 4.99e-04h  1\n",
      "  58 -4.1883057e+02 4.69e+03 5.69e+05  -1.0 3.74e+05    -  1.15e-03 9.10e-04h  1\n",
      "  59 -4.2373617e+02 4.24e+03 4.04e+06  -1.0 1.55e+05    -  1.43e-05 3.97e-03f  1\n",
      "iter    objective    inf_pr   inf_du lg(mu)  ||d||  lg(rg) alpha_du alpha_pr  ls\n"
     ]
    },
    {
     "name": "stdout",
     "output_type": "stream",
     "text": [
      "  60 -4.2284788e+02 4.03e+03 2.23e+06  -1.0 1.30e+04    -  8.73e-05 3.49e-02h  1\n",
      "  61 -4.2281820e+02 4.03e+03 2.23e+06  -1.0 1.72e+04    -  2.29e-01 4.86e-04h  1\n",
      "  62 -4.2284848e+02 4.02e+03 2.23e+06  -1.0 2.50e+03    -  2.47e-01 6.28e-04h  1\n",
      "  63 -4.3345495e+02 1.32e+03 8.39e+06  -1.0 2.38e+03    -  3.52e-02 2.17e-01h  1\n",
      "  64 -4.3481911e+02 1.45e+03 6.92e+06  -1.0 2.20e+03    -  3.81e-02 3.87e-02h  1\n",
      "  65 -4.3482737e+02 1.45e+03 6.92e+06  -1.0 2.18e+03    -  5.38e-01 2.48e-04h  2\n",
      "  66 -4.3483148e+02 1.45e+03 1.34e+07  -1.0 2.18e+03    -  9.75e-02 1.25e-04h  2\n",
      "  67 -4.3482725e+02 1.45e+03 1.25e+07  -1.0 2.13e+03    -  5.46e-05 6.34e-05h  2\n",
      "  68 -4.3482247e+02 1.45e+03 6.86e+06  -1.0 1.92e+04    -  3.17e-07 1.05e-04f  1\n",
      "  69 -4.4372371e+02 1.38e+03 2.43e+07  -1.0 5.23e+04    -  4.10e-05 1.97e-02f  1\n",
      "iter    objective    inf_pr   inf_du lg(mu)  ||d||  lg(rg) alpha_du alpha_pr  ls\n",
      "  70 -4.4381789e+02 1.38e+03 2.43e+07  -1.0 3.47e+04    -  2.69e-02 3.11e-04h  1\n",
      "  71r-4.4381789e+02 1.38e+03 1.00e+03   3.1 0.00e+00    -  0.00e+00 3.90e-07R  4\n",
      "  72r-4.4199177e+02 8.17e+02 1.94e+07   3.1 1.38e+06    -  1.35e-02 1.54e-04f  1\n",
      "  73 -4.4211313e+02 8.00e+02 1.47e+03  -1.0 8.91e+02    -  3.06e-02 2.17e-03h  1\n",
      "  74 -4.4211750e+02 8.00e+02 4.94e+04  -1.0 7.98e+03    -  6.46e-02 4.03e-05h  1\n",
      "  75 -4.4276285e+02 7.95e+02 4.54e+05  -1.0 2.19e+04    -  5.41e-02 3.09e-03h  1\n",
      "  76 -4.4266896e+02 7.95e+02 1.28e+06  -1.0 2.05e+04    -  1.06e-04 3.32e-05h  1\n",
      "  77 -4.4222623e+02 7.95e+02 1.28e+06  -1.0 4.70e+05    -  9.42e-07 9.42e-07s  2\n",
      "  78 -4.4132933e+02 7.95e+02 1.28e+06  -1.0 8.50e+06    -  1.06e-07 1.06e-07s  2\n",
      "  79 -4.3947909e+02 7.95e+02 1.28e+06  -1.0 1.48e+07    -  1.25e-07 1.25e-07s  2\n",
      "iter    objective    inf_pr   inf_du lg(mu)  ||d||  lg(rg) alpha_du alpha_pr  ls\n",
      "  80 -4.3549167e+02 7.95e+02 1.28e+06  -1.0 1.51e+07    -  2.65e-07 2.65e-07s  2\n",
      "  81 -4.2560125e+02 7.95e+02 1.28e+06  -1.0 1.51e+07    -  6.55e-07 6.55e-07s  2\n",
      "  82r-4.2560125e+02 7.95e+02 1.00e+03   2.9 0.00e+00    -  0.00e+00 0.00e+00R  1\n",
      "  83r-4.2560031e+02 7.82e+02 4.89e+04   2.9 7.95e+05    -  1.15e-02 1.53e-05f  3\n",
      "  84r-4.2535149e+02 1.71e+02 5.09e+04   2.2 6.29e+04    -  2.35e-03 1.23e-02f  1\n",
      "  85 -4.2580908e+02 1.70e+02 3.68e+02  -1.0 4.18e+02    -  3.53e-02 6.79e-03h  1\n",
      "  86 -4.2828499e+02 3.88e+02 8.77e+03  -1.0 1.17e+03    -  1.18e-01 4.26e-02f  1\n",
      "  87 -4.3108204e+02 6.31e+02 8.69e+03  -1.0 7.14e+02    -  6.67e-02 4.77e-02h  2\n",
      "  88 -4.3392042e+02 8.33e+02 8.88e+03  -1.0 9.09e+02    -  2.35e-01 5.24e-02h  1\n",
      "  89 -4.3395612e+02 8.33e+02 4.71e+04  -1.0 2.24e+02    -  5.19e-01 6.02e-04h  1\n",
      "iter    objective    inf_pr   inf_du lg(mu)  ||d||  lg(rg) alpha_du alpha_pr  ls\n",
      "  90 -4.3516269e+02 8.31e+02 9.71e+04  -1.0 3.45e+04    -  3.43e-02 3.88e-03h  1\n",
      "  91 -4.3517277e+02 8.31e+02 7.09e+05  -1.0 3.39e+04    -  4.95e-03 3.96e-05h  1\n",
      "  92r-4.3517277e+02 8.31e+02 1.00e+03   2.9 0.00e+00    -  0.00e+00 3.07e-07R  6\n",
      "  93r-4.3515307e+02 6.89e+02 1.90e+05   2.9 8.31e+05    -  2.37e-02 1.70e-04f  1\n",
      "  94 -4.3532802e+02 6.87e+02 4.17e+01  -1.0 2.15e+02    -  3.88e-02 3.05e-03h  1\n",
      "  95 -4.3533039e+02 6.87e+02 1.12e+04  -1.0 2.19e+03    -  8.52e-03 3.25e-05h  1\n",
      "  96r-4.3533039e+02 6.87e+02 1.00e+03   2.8 0.00e+00    -  0.00e+00 3.87e-07R  5\n",
      "  97r-4.3531222e+02 6.68e+02 1.00e+03   2.8 6.87e+05    -  1.46e-05 2.84e-05f  1\n",
      "  98r-4.3529686e+02 6.45e+02 1.19e+05   2.8 6.58e+05    -  1.29e-02 3.47e-05f  1\n",
      "  99r-4.3409382e+02 8.76e+02 3.91e+05   2.8 4.62e+04    -  5.73e-02 1.25e-02f  1\n",
      "iter    objective    inf_pr   inf_du lg(mu)  ||d||  lg(rg) alpha_du alpha_pr  ls\n",
      " 100r-4.3074145e+02 3.11e+03 8.92e+05   2.8 1.26e+03    -  1.46e-01 3.90e-02f  1\n",
      " 101r-4.1895139e+02 5.49e+03 1.19e+06   2.8 7.27e+02    -  2.23e-01 2.01e-01f  1\n",
      " 102r-4.0713831e+02 2.88e+03 7.41e+05   2.8 4.00e+02    -  4.14e-01 3.28e-01f  1\n",
      " 103r-3.7778870e+02 1.12e+04 1.29e+06   2.8 2.16e+02    -  1.00e+00 1.00e+00f  1\n",
      " 104r-3.7998659e+02 2.52e+04 1.81e+06   2.8 3.24e+01    -  4.31e-01 2.99e-01f  2\n",
      " 105r-3.8005210e+02 2.91e+04 1.11e+06   2.8 1.77e+00   2.0 1.00e+00 1.00e+00f  1\n",
      " 106r-3.8027498e+02 8.38e+03 1.54e+05   2.8 3.28e+01    -  1.00e+00 1.00e+00f  1\n",
      " 107r-3.8066290e+02 4.77e+03 8.80e+04   2.8 1.38e+01    -  6.10e-01 5.98e-01h  1\n",
      " 108r-3.9792615e+02 2.62e+03 1.71e+06   2.1 2.22e+02    -  8.95e-01 4.84e-01f  1\n",
      " 109r-3.9799679e+02 7.61e+02 8.85e+05   2.1 5.27e+00   1.5 9.79e-01 7.31e-01f  1\n",
      "iter    objective    inf_pr   inf_du lg(mu)  ||d||  lg(rg) alpha_du alpha_pr  ls\n",
      " 110r-4.0194420e+02 3.28e+03 5.03e+05   2.1 9.76e+01    -  5.66e-01 5.28e-01f  1\n",
      " 111r-4.0346395e+02 1.84e+03 2.61e+04   2.1 5.18e+01    -  1.00e+00 8.95e-01f  1\n",
      " 112r-4.0324315e+02 2.08e+02 2.35e+03   2.1 7.04e+00    -  1.00e+00 1.00e+00f  1\n",
      " 113 -4.0377860e+02 1.12e+03 1.13e+02  -1.0 2.47e+03    -  8.05e-03 5.12e-03h  2\n",
      " 114 -4.0384442e+02 1.13e+03 3.05e+02  -1.0 1.48e+03    -  2.46e-02 7.18e-04h  4\n",
      " 115r-4.0384442e+02 1.13e+03 9.99e+02   3.1 0.00e+00    -  0.00e+00 4.20e-07R 15\n",
      " 116r-4.0374972e+02 4.34e+02 7.53e+05   3.1 1.13e+06    -  4.29e-02 5.02e-04f  1\n",
      " 117r-4.0193832e+02 4.28e+02 3.22e+06   3.1 1.28e+04    -  1.62e-01 4.35e-02f  1\n",
      " 118 -4.0608245e+02 3.73e+04 2.28e+04  -1.0 2.72e+03    -  2.06e-02 3.04e-02h  2\n",
      " 119 -4.0709815e+02 3.72e+04 2.34e+04  -1.0 2.07e+03    -  1.14e-01 8.89e-03h  3\n",
      "iter    objective    inf_pr   inf_du lg(mu)  ||d||  lg(rg) alpha_du alpha_pr  ls\n",
      " 120 -4.0899423e+02 3.72e+04 3.13e+04  -1.0 2.09e+03    -  1.13e-01 1.68e-02h  2\n",
      " 121 -4.1021090e+02 3.69e+04 3.84e+04  -1.0 2.17e+03    -  4.35e-01 1.18e-02h  3\n",
      " 122 -4.1022224e+02 3.69e+04 3.84e+04  -1.0 2.28e+03    -  7.34e-02 1.76e-04h  9\n",
      " 123r-4.1022224e+02 3.69e+04 1.00e+03   4.6 0.00e+00    -  0.00e+00 3.42e-07R 18\n",
      " 124r-4.1020566e+02 3.63e+04 4.45e+06   4.6 3.69e+07    -  6.38e-03 1.61e-05f  2\n",
      " 125r-4.0933128e+02 5.72e+02 9.52e+06   3.9 4.92e+06    -  8.09e-02 7.30e-03f  1\n",
      " 126 -4.0953428e+02 5.73e+02 6.42e+01  -1.0 2.40e+03    -  6.77e-02 2.36e-03h  3\n",
      " 127 -4.0969227e+02 5.73e+02 3.01e+02  -1.0 2.45e+03    -  2.15e-01 1.80e-03h  6\n",
      " 128 -4.0977130e+02 5.73e+02 2.99e+02  -1.0 2.48e+03    -  1.22e-01 8.57e-04h  7\n",
      " 129 -4.0984759e+02 5.73e+02 5.12e+02  -1.0 2.49e+03    -  2.97e-01 8.39e-04h  7\n",
      "iter    objective    inf_pr   inf_du lg(mu)  ||d||  lg(rg) alpha_du alpha_pr  ls\n",
      " 130 -4.0999023e+02 5.73e+02 1.16e+03  -1.0 2.50e+03    -  8.84e-02 1.65e-03h  6\n",
      " 131 -4.1025402e+02 5.74e+02 1.37e+04  -1.0 2.53e+03    -  5.80e-01 3.16e-03h  5\n",
      " 132 -4.1057438e+02 5.74e+02 2.11e+05  -1.0 2.60e+03    -  7.75e-02 5.77e-03h  4\n",
      " 133 -4.1078358e+02 5.39e+02 5.42e+06  -1.0 2.74e+03    -  1.98e-01 1.91e-02h  2\n",
      " 134 -4.1020196e+02 5.38e+02 5.46e+06  -1.0 3.58e+03    -  1.80e-02 4.55e-04h  6\n",
      " 135 -4.0999528e+02 5.38e+02 5.46e+06  -1.0 3.80e+03    -  2.10e-02 5.45e-05h  9\n",
      " 136  1.1090162e+04 5.33e+02 2.03e+08  -1.0 6.62e+05    -  8.26e-05 1.74e-02w  1\n",
      " 137  8.5030830e+04 3.11e+03 2.10e+08  -1.0 2.84e+06    -  4.02e-03 2.60e-02w  1\n",
      " 138  1.0178063e+05 3.23e+03 2.09e+08  -1.0 3.07e+06    -  2.69e-02 5.46e-03w  1\n",
      " 139r-4.0999528e+02 5.38e+02 1.00e+03   2.7 0.00e+00    -  0.00e+00 2.65e-07R 16\n",
      "iter    objective    inf_pr   inf_du lg(mu)  ||d||  lg(rg) alpha_du alpha_pr  ls\n",
      " 140r-4.0995995e+02 9.45e+01 5.40e+05   2.7 5.38e+05    -  6.30e-02 6.06e-04f  1\n",
      " 141 -4.1025314e+02 8.92e+01 2.35e+03  -1.0 3.51e+03    -  6.45e-02 3.39e-03h  1\n",
      " 142 -4.1126200e+02 4.38e+01 1.74e+04  -1.0 3.87e+03    -  4.03e-01 1.13e-02h  1\n",
      " 143r-4.1126200e+02 4.38e+01 9.99e+02   1.5 0.00e+00    -  0.00e+00 4.05e-07R  9\n",
      " 144r-4.1124757e+02 4.09e+01 3.26e+04   1.5 3.13e+04    -  6.58e-02 9.91e-04f  1\n",
      " 145 -4.1129394e+02 4.09e+01 1.34e+02  -1.0 6.95e+03    -  4.43e-02 4.83e-04h  1\n",
      " 146r-4.1129394e+02 4.09e+01 9.99e+02   0.9 0.00e+00    -  0.00e+00 3.69e-07R  7\n",
      " 147r-4.1128950e+02 2.87e+01 2.55e+03   0.9 5.48e+03    -  2.25e-02 1.09e-03f  1\n",
      " 148r-4.1110724e+02 3.32e+03 7.81e+03   0.9 3.23e+03    -  6.48e-02 1.87e-02f  1\n",
      " 149r-4.1031405e+02 1.65e+04 3.60e+03   0.9 2.00e+03    -  2.34e-02 6.84e-02f  1\n",
      "iter    objective    inf_pr   inf_du lg(mu)  ||d||  lg(rg) alpha_du alpha_pr  ls\n",
      " 150r-4.0993501e+02 1.53e+04 2.88e+03   0.9 7.63e+02    -  1.49e-01 3.80e-02f  1\n",
      " 151r-4.0855259e+02 2.36e+03 3.00e+04   0.9 4.41e+02    -  6.23e-01 1.43e-01f  1\n",
      " 152r-4.0629370e+02 1.03e+04 1.39e+04   0.9 3.18e+02    -  7.44e-01 3.18e-01f  1\n",
      " 153r-4.0548319e+02 6.03e+03 1.65e+04   0.9 9.58e+01    -  5.27e-01 1.93e-01f  1\n",
      " 154r-4.0395792e+02 2.59e+03 1.15e+04   0.9 7.98e+01    -  9.94e-01 4.88e-01f  1\n",
      " 155r-4.0049308e+02 1.35e+03 3.15e+04   0.9 5.99e+01    -  1.00e+00 4.66e-01f  1\n",
      " 156r-4.0605885e+02 3.32e+01 1.23e+04   0.9 3.65e+01    -  1.00e+00 1.00e+00f  1\n",
      " 157r-4.0173746e+02 5.29e+01 3.40e+03   0.9 7.25e+00    -  1.00e+00 1.00e+00f  1\n"
     ]
    },
    {
     "name": "stdout",
     "output_type": "stream",
     "text": [
      " 158r-4.0215842e+02 2.95e+01 1.19e+03   0.9 4.76e+00    -  3.86e-01 4.86e-01H  1\n",
      " 159r-4.0074230e+02 6.75e+02 2.16e+04   0.9 2.60e+01    -  1.00e+00 1.00e+00f  1\n",
      "iter    objective    inf_pr   inf_du lg(mu)  ||d||  lg(rg) alpha_du alpha_pr  ls\n",
      " 160r-4.0185601e+02 3.58e+01 1.89e+03   0.9 7.16e+00    -  9.57e-01 9.12e-01h  1\n",
      " 161r-4.0086349e+02 1.55e+01 2.26e+03   0.9 4.20e+00    -  1.00e+00 1.00e+00f  1\n",
      " 162r-4.0105640e+02 1.12e-01 2.56e+00   0.9 1.38e+00    -  1.00e+00 1.00e+00h  1\n",
      " 163 -4.0112051e+02 1.11e-01 4.88e+02  -1.0 1.09e+03    -  1.48e-02 8.32e-04h  3\n",
      " 164 -4.0117938e+02 1.11e-01 1.44e+03  -1.0 1.79e+03    -  8.02e-03 1.28e-03h  2\n",
      " 165 -4.0092513e+02 1.11e-01 2.55e+04  -1.0 3.27e+03    -  2.32e-02 1.40e-03h  1\n",
      " 166r-4.0092513e+02 1.11e-01 1.00e+03  -1.0 0.00e+00    -  0.00e+00 4.26e-07R 10\n",
      " 167r-4.0092839e+02 3.20e+00 9.96e+02  -1.0 2.50e+03    -  1.23e-02 2.85e-03f  1\n",
      " 168r-4.0093617e+02 6.07e+00 9.89e+02  -1.0 1.71e+03    -  6.69e-03 7.70e-03f  1\n",
      " 169r-4.0094663e+02 4.24e+01 9.77e+02  -1.0 1.21e+03    -  1.43e-02 1.13e-02f  1\n",
      "iter    objective    inf_pr   inf_du lg(mu)  ||d||  lg(rg) alpha_du alpha_pr  ls\n",
      " 170r-4.0096014e+02 2.97e+01 9.61e+02  -1.0 1.49e+03    -  2.62e-02 1.67e-02f  1\n",
      " 171r-4.0097679e+02 2.80e+01 9.40e+02  -1.0 1.58e+03    -  1.38e-02 2.29e-02f  1\n",
      " 172r-4.0098220e+02 3.15e+01 9.30e+02  -1.0 9.32e+02    -  4.32e-02 8.39e-03f  1\n",
      " 173r-4.0099709e+02 3.31e+01 9.01e+02  -1.0 1.93e+02    -  2.48e-02 3.13e-02f  1\n",
      " 174r-4.0102081e+02 3.62e+01 8.52e+02  -1.0 1.22e+02    -  1.40e-01 5.56e-02f  1\n",
      " 175r-4.0103743e+02 3.55e+01 1.14e+03  -1.0 8.39e+01    -  4.31e-01 5.73e-02f  1\n",
      " 176r-4.0110847e+02 3.38e+01 2.05e+03  -1.0 9.82e+01    -  8.71e-01 3.24e-01f  1\n",
      " 177r-4.0106245e+02 4.05e+01 1.10e+03  -1.0 1.07e+02    -  9.50e-01 6.45e-01f  1\n",
      " 178r-4.0101985e+02 3.78e+01 1.65e+03  -1.0 7.77e+00    -  9.91e-01 6.90e-02h  1\n",
      " 179r-4.0040855e+02 1.62e+01 1.48e+02  -1.0 1.15e+01    -  1.00e+00 1.00e+00f  1\n",
      "iter    objective    inf_pr   inf_du lg(mu)  ||d||  lg(rg) alpha_du alpha_pr  ls\n",
      " 180r-4.0041125e+02 2.63e+01 7.92e+02  -1.0 8.59e-01    -  1.00e+00 2.72e-01h  2\n",
      " 181r-4.0041192e+02 2.66e+01 4.73e+03  -1.0 1.38e+00    -  1.00e+00 1.04e-01h  3\n",
      " 182r-4.0041772e+02 2.83e+01 2.28e+03  -1.0 9.48e-01    -  1.00e+00 1.00e+00h  1\n",
      " 183r-4.0041769e+02 6.15e+00 8.92e+03  -1.0 1.58e-01   0.0 1.00e+00 1.00e+00h  1\n",
      " 184r-4.0041776e+02 1.87e+01 1.95e+04  -1.0 2.71e+00    -  1.00e+00 1.00e+00H  1\n",
      " 185r-4.0041755e+02 2.38e-01 9.55e+02  -1.0 2.37e+01    -  4.27e-01 1.01e-01h  2\n",
      " 186r-4.0041698e+02 1.70e-01 2.62e+03  -1.0 3.82e+00    -  1.00e+00 1.00e+00H  1\n",
      " 187r-4.0041713e+02 2.65e-01 1.79e+02  -1.0 9.23e-01    -  1.00e+00 1.00e+00h  1\n",
      " 188r-4.0041713e+02 1.65e-03 4.00e-01  -1.0 4.13e-02    -  1.00e+00 1.00e+00h  1\n",
      " 189 -4.0041729e+02 1.65e-03 8.18e+00  -1.0 9.37e+02    -  3.25e-04 1.68e-06h  8\n",
      "iter    objective    inf_pr   inf_du lg(mu)  ||d||  lg(rg) alpha_du alpha_pr  ls\n",
      " 190 -4.0043921e+02 1.67e-03 1.14e+01  -1.0 1.22e+03    -  2.33e-04 2.33e-04s 10\n",
      " 191r-4.0043921e+02 1.67e-03 9.99e+02  -1.0 0.00e+00    -  0.00e+00 0.00e+00R  1\n",
      " 192r-4.0043896e+02 1.64e-03 2.04e+04  -1.0 7.79e+01    -  8.10e-01 1.12e-03f  1\n",
      " 193r-3.9978441e+02 1.08e-01 4.03e+03  -1.0 2.51e+01    -  9.88e-01 8.64e-01f  1\n",
      " 194r-3.9918248e+02 8.37e-02 1.32e+02  -1.0 8.76e+00    -  9.91e-01 1.00e+00h  1\n",
      " 195r-3.9912450e+02 1.05e-03 3.48e+00  -1.0 1.45e+00    -  1.00e+00 1.00e+00h  1\n",
      " 196r-3.9998299e+02 1.37e+00 2.09e+03  -1.7 1.31e+01    -  7.40e-01 8.36e-01f  1\n",
      " 197r-3.9978743e+02 1.11e+00 7.57e+02  -1.7 1.28e+01    -  5.25e-01 4.73e-01f  1\n",
      " 198r-3.9904491e+02 1.10e+00 6.75e+02  -1.7 2.08e+02  -4.0 7.20e-02 3.69e-02h  1\n",
      " 199r-3.9904560e+02 9.70e-01 1.81e+03  -1.7 3.25e-01   0.9 7.05e-02 1.20e-01h  1\n",
      "iter    objective    inf_pr   inf_du lg(mu)  ||d||  lg(rg) alpha_du alpha_pr  ls\n",
      " 200r-3.9908237e+02 1.16e+00 1.68e+03  -1.7 1.42e+02    -  3.26e-03 4.64e-02f  1\n",
      " 201r-3.9908235e+02 1.15e+00 2.39e+03  -1.7 7.98e+00   0.5 2.93e-02 9.02e-04h  1\n",
      " 202r-3.9775601e+02 1.42e+00 3.22e+03  -1.7 3.34e+02    -  9.19e-02 4.83e-02h  1\n",
      " 203r-3.9771672e+02 1.42e+00 3.36e+03  -1.7 1.22e+02    -  1.50e-01 1.40e-02h  1\n",
      " 204r-3.9756236e+02 1.76e+00 3.35e+03  -1.7 2.19e+02    -  7.47e-02 3.48e-02h  1\n",
      " 205r-3.9756367e+02 1.16e+00 4.68e+02  -1.7 2.33e-01  -0.0 1.00e+00 3.39e-01h  1\n",
      " 206r-3.9846716e+02 1.52e+00 3.95e+02  -1.7 2.64e+01    -  5.93e-01 4.06e-01h  1\n",
      " 207r-3.9927877e+02 1.54e+00 4.81e+02  -1.7 2.52e+01    -  1.00e+00 5.32e-01h  1\n",
      " 208r-3.9984686e+02 1.34e+00 8.91e+00  -1.7 4.13e+01    -  1.00e+00 1.00e+00h  1\n",
      " 209r-3.9985733e+02 1.41e-02 6.60e-01  -1.7 1.20e+01    -  1.00e+00 1.00e+00h  1\n",
      "iter    objective    inf_pr   inf_du lg(mu)  ||d||  lg(rg) alpha_du alpha_pr  ls\n",
      " 210 -4.0072501e+02 3.08e-02 1.90e+04  -1.0 9.28e+01    -  6.93e-01 9.36e-03f  7\n",
      " 211 -4.0094192e+02 3.18e-02 2.66e+04  -1.0 9.18e+01    -  6.21e-01 2.36e-03f  9\n",
      " 212 -4.0116409e+02 3.27e-02 4.69e+04  -1.0 9.14e+01    -  9.89e-01 2.43e-03f  9\n",
      " 213 -4.0143083e+02 3.41e-02 5.74e+04  -1.0 9.13e+01    -  5.18e-01 2.93e-03f  9\n",
      " 214 -4.0150034e+02 3.42e-02 6.80e+04  -1.0 9.11e+01    -  5.18e-01 7.68e-04f 11\n",
      " 215 -4.7515761e+02 3.66e+01 5.23e+05  -1.0 5.86e+02    -  9.85e-01 8.50e-01f  1\n",
      " 216 -4.8292883e+02 2.01e+01 3.16e+05  -1.0 7.87e+02    -  1.00e+00 4.21e-01f  1\n",
      " 217 -4.9129791e+02 1.23e+00 4.36e+04  -1.0 2.03e+02    -  1.00e+00 8.88e-01h  1\n",
      " 218 -4.9243279e+02 1.35e-01 1.87e+05  -1.0 6.52e+00    -  1.00e+00 8.91e-01h  1\n",
      " 219 -4.9266822e+02 4.02e-05 3.15e+01  -1.0 2.57e-01    -  1.00e+00 1.00e+00h  1\n",
      "iter    objective    inf_pr   inf_du lg(mu)  ||d||  lg(rg) alpha_du alpha_pr  ls\n",
      " 220 -4.9312624e+02 7.59e-04 1.26e+02  -3.1 5.73e+00    -  1.00e+00 1.00e+00f  1\n",
      " 221 -4.9314757e+02 2.16e-04 9.45e+00  -3.1 3.06e+00    -  1.00e+00 1.00e+00h  1\n",
      " 222 -4.9314779e+02 1.03e-09 7.02e-03  -3.1 6.30e-03    -  1.00e+00 1.00e+00h  1\n",
      " 223 -4.9314975e+02 1.26e-07 3.30e+04  -4.8 1.06e-01    -  1.00e+00 6.95e-01f  1\n",
      " 224 -4.9314997e+02 2.49e-08 9.26e-02  -4.8 3.29e-02    -  1.00e+00 1.00e+00f  1\n",
      " 225 -4.9314998e+02 4.24e-11 1.72e-07  -4.8 1.32e-05    -  1.00e+00 1.00e+00h  1\n",
      " 226 -4.9315000e+02 7.96e-11 2.17e-04  -6.0 1.86e-03    -  1.00e+00 1.00e+00f  1\n",
      " 227 -4.9315000e+02 1.38e-10 4.83e-10  -6.0 7.21e-07    -  1.00e+00 1.00e+00h  1\n",
      " 228 -4.9315000e+02 1.38e-10 8.88e-07  -7.6 1.18e-04    -  1.00e+00 1.00e+00h  1\n",
      " 229 -4.9315000e+02 1.97e-11 3.62e-13  -7.6 3.68e-08    -  1.00e+00 1.00e+00h  1\n",
      "iter    objective    inf_pr   inf_du lg(mu)  ||d||  lg(rg) alpha_du alpha_pr  ls\n",
      " 230 -4.9315000e+02 1.38e-10 8.36e-10  -9.0 3.63e-06    -  1.00e+00 1.00e+00h  1\n",
      "\n",
      "Number of Iterations....: 230\n",
      "\n",
      "                                   (scaled)                 (unscaled)\n",
      "Objective...............:  -4.9315000493968228e+02   -4.9315000493968228e+02\n",
      "Dual infeasibility......:   8.3635565140127710e-10    8.3635565140127710e-10\n",
      "Constraint violation....:   1.3830105886469130e-10    1.3830105886469130e-10\n",
      "Complementarity.........:   9.0925977087822213e-10    9.0925977087822213e-10\n",
      "Overall NLP error.......:   9.0925977087822213e-10    9.0925977087822213e-10\n",
      "\n",
      "\n",
      "Number of objective function evaluations             = 560\n",
      "Number of objective gradient evaluations             = 141\n",
      "Number of equality constraint evaluations            = 561\n",
      "Number of inequality constraint evaluations          = 561\n",
      "Number of equality constraint Jacobian evaluations   = 248\n",
      "Number of inequality constraint Jacobian evaluations = 248\n",
      "Number of Lagrangian Hessian evaluations             = 230\n",
      "Total CPU secs in IPOPT (w/o function evaluations)   =      0.884\n",
      "Total CPU secs in NLP function evaluations           =      0.089\n",
      "\n",
      "EXIT: Optimal Solution Found.\n"
     ]
    }
   ],
   "source": [
    "results = opt.solve(model,tee=True)\n",
    "update_dual(pe,model)"
   ]
  },
  {
   "cell_type": "code",
   "execution_count": 28,
   "metadata": {},
   "outputs": [],
   "source": [
    "opt = add_solver(pe, max_iter = 5000, warm_start = True, output = False)\n",
    "disable_restoration(mode = 'disable')"
   ]
  },
  {
   "cell_type": "code",
   "execution_count": 29,
   "metadata": {},
   "outputs": [
    {
     "name": "stdout",
     "output_type": "stream",
     "text": [
      "------------------------------------------------------------------------------------------------------------\n",
      "> Obj = maximize\n",
      "> 43*P_naphtha + 90*P_gasoline + 128*P_diesel + 100*P_heavy + 1.3*P_V - 2.24*F - MPCC_P_pf.pf\n",
      "------------------------------------------------------------------------------------------------------------\n"
     ]
    }
   ],
   "source": [
    "model.T.setub(240+273.15)\n",
    "model.del_component(model.obj)\n",
    "model.obj = augmented_objective(pe, model, expr = 43*model.P_naphtha + 90*model.P_gasoline + \\\n",
    "                                128*model.P_diesel + 100*model.P_heavy + 1.3*model.P_V - 2.24*model.F, sense=pe.maximize)\n",
    "# model.obj = augmented_objective(pe, model, expr = 54*model.P_naphtha + 112*model.P_gasoline + \\\n",
    "#                                 161*model.P_diesel + 350*model.P_heavy + 1.3*model.P_light - 2.24*model.F, sense=pe.maximize)"
   ]
  },
  {
   "cell_type": "code",
   "execution_count": 30,
   "metadata": {},
   "outputs": [
    {
     "name": "stdout",
     "output_type": "stream",
     "text": [
      "Ipopt 3.12.10: print_user_options=yes\n",
      "tol=1e-08\n",
      "option_file_name=./ipopt.opt\n",
      "max_iter=5000\n",
      "warm_start_init_point=yes\n",
      "warm_start_bound_push=1e-20\n",
      "warm_start_mult_bound_push=1e-20\n",
      "mu_init=1e-06\n",
      "\n",
      "Using option file \"./ipopt.opt\".\n",
      "\n",
      "\n",
      "List of user-set options:\n",
      "\n",
      "                                    Name   Value                used\n",
      "                           compl_inf_tol = 1                     yes\n",
      "                         constr_viol_tol = 1                     yes\n",
      "                            dual_inf_tol = 1000                  yes\n",
      "                           linear_solver = ma97                  yes\n",
      "                              ma86_small = 1e-30                  no\n",
      "                                  ma86_u = 0.0001                 no\n",
      "                              ma97_order = best                  yes\n",
      "                              ma97_small = 1e-30                 yes\n",
      "                            ma97_switch1 = at_start              yes\n",
      "                            ma97_switch2 = od_hd_reuse           yes\n",
      "                                  ma97_u = 1e-06                 yes\n",
      "                               ma97_umax = 0.5                   yes\n",
      "                                max_iter = 5000                  yes\n",
      "                    max_refinement_steps = 20                    yes\n",
      "                    min_refinement_steps = 5                     yes\n",
      "                                 mu_init = 1e-06                 yes\n",
      "           mu_superlinear_decrease_power = 1.25                  yes\n",
      "                   nlp_scaling_min_value = 1e-08                 yes\n",
      "                        option_file_name = ./ipopt.opt           yes\n",
      "                      print_user_options = yes                   yes\n",
      "        required_infeasibility_reduction = 1                      no\n",
      "                                     tol = 1e-08                 yes\n",
      "                   warm_start_bound_frac = 1e-20                 yes\n",
      "                   warm_start_bound_push = 1e-20                 yes\n",
      "                   warm_start_init_point = yes                   yes\n",
      "              warm_start_mult_bound_push = 1e-20                 yes\n",
      "                warm_start_mult_init_max = 1e+40                 yes\n",
      "             warm_start_slack_bound_frac = 1e-20                 yes\n",
      "             warm_start_slack_bound_push = 1e-20                 yes\n",
      "\n",
      "******************************************************************************\n",
      "This program contains Ipopt, a library for large-scale nonlinear optimization.\n",
      " Ipopt is released as open source code under the Eclipse Public License (EPL).\n",
      "         For more information visit http://projects.coin-or.org/Ipopt\n",
      "******************************************************************************\n",
      "\n",
      "This is Ipopt version 3.12.10, running with linear solver ma97.\n",
      "\n",
      "Number of nonzeros in equality constraint Jacobian...:     4777\n",
      "Number of nonzeros in inequality constraint Jacobian.:        5\n",
      "Number of nonzeros in Lagrangian Hessian.............:     1545\n",
      "\n",
      "Total number of variables............................:     1195\n",
      "                     variables with only lower bounds:      392\n",
      "                variables with lower and upper bounds:      633\n",
      "                     variables with only upper bounds:        0\n",
      "Total number of equality constraints.................:     1191\n",
      "Total number of inequality constraints...............:        1\n",
      "        inequality constraints with only lower bounds:        0\n",
      "   inequality constraints with lower and upper bounds:        0\n",
      "        inequality constraints with only upper bounds:        1\n",
      "\n",
      "iter    objective    inf_pr   inf_du lg(mu)  ||d||  lg(rg) alpha_du alpha_pr  ls\n",
      "   0 -1.4922301e+00 1.34e-03 1.00e+02  -6.0 0.00e+00    -  0.00e+00 0.00e+00   0\n",
      "   1 -1.4929060e+00 6.63e-04 2.24e+02  -6.0 3.86e+02    -  1.00e+00 1.69e-03h  1\n",
      "   2 -2.3127394e+00 1.53e+01 3.68e+03  -6.0 2.72e+03    -  5.75e-01 2.91e-01f  1\n",
      "   3 -2.3033917e+00 2.78e+00 2.44e+02  -6.0 3.88e+02    -  1.00e+00 1.00e+00h  1\n",
      "   4 -2.3105718e+00 1.93e+00 5.60e+02  -6.0 2.98e+02    -  1.00e+00 1.00e+00h  1\n",
      "   5 -2.2823141e+00 1.79e-01 4.73e+02  -6.0 4.35e+01    -  9.41e-01 1.00e+00h  1\n",
      "   6 -2.2816992e+00 1.82e-03 6.96e-02  -6.0 4.79e+00    -  9.97e-01 1.00e+00h  1\n",
      "   7 -2.2816915e+00 6.38e-08 3.61e-06  -6.0 5.76e-02    -  1.00e+00 1.00e+00h  1\n",
      "   8 -2.2816928e+00 4.74e-09 4.90e-05  -7.5 1.58e-02    -  1.00e+00 1.00e+00h  1\n",
      "   9 -2.2816928e+00 5.94e-11 1.52e-11  -7.5 7.07e-06    -  1.00e+00 1.00e+00h  1\n",
      "iter    objective    inf_pr   inf_du lg(mu)  ||d||  lg(rg) alpha_du alpha_pr  ls\n",
      "  10 -2.2816928e+00 1.42e-10 4.94e-08  -9.0 5.03e-04    -  1.00e+00 1.00e+00h  1\n",
      "  11 -2.2816928e+00 4.31e-11 2.45e-12  -9.0 1.34e-07    -  1.00e+00 1.00e+00h  1\n",
      "\n",
      "Number of Iterations....: 11\n",
      "\n",
      "                                   (scaled)                 (unscaled)\n",
      "Objective...............:  -1.7825725127597010e+00   -2.2816928163324173e+00\n",
      "Dual infeasibility......:   2.4535427957304476e-12    3.1405347785349730e-12\n",
      "Constraint violation....:   4.3146234848800979e-11    4.3146234848800979e-11\n",
      "Complementarity.........:   9.0916937406590938e-10    1.1637367988043640e-09\n",
      "Overall NLP error.......:   9.0916937406590938e-10    1.1637367988043640e-09\n",
      "\n",
      "\n",
      "Number of objective function evaluations             = 12\n",
      "Number of objective gradient evaluations             = 12\n",
      "Number of equality constraint evaluations            = 12\n",
      "Number of inequality constraint evaluations          = 12\n",
      "Number of equality constraint Jacobian evaluations   = 12\n",
      "Number of inequality constraint Jacobian evaluations = 12\n",
      "Number of Lagrangian Hessian evaluations             = 11\n",
      "Total CPU secs in IPOPT (w/o function evaluations)   =      0.042\n",
      "Total CPU secs in NLP function evaluations           =      0.005\n",
      "\n",
      "EXIT: Optimal Solution Found.\n"
     ]
    }
   ],
   "source": [
    "results = opt.solve(model,tee=True)\n",
    "update_dual(pe,model)"
   ]
  },
  {
   "cell_type": "code",
   "execution_count": 31,
   "metadata": {},
   "outputs": [
    {
     "data": {
      "text/plain": [
       "2.2816928074960536"
      ]
     },
     "execution_count": 31,
     "metadata": {},
     "output_type": "execute_result"
    }
   ],
   "source": [
    "43*model.P_naphtha.value + 90*model.P_gasoline.value + 128*model.P_diesel.value + 100*model.P_heavy.value + 1.3*model.P_V.value - 2.24*model.F.value\n",
    "# 54*model.P_naphtha.value + 112*model.P_gasoline.value + 161*model.P_diesel.value + 350*model.P_heavy.value + 1.3*model.P_light.value - 2.24*model.F.value"
   ]
  },
  {
   "cell_type": "code",
   "execution_count": 32,
   "metadata": {},
   "outputs": [
    {
     "data": {
      "text/plain": [
       "(503.9377176628252, 20.000000441972922, 2.526563319461933)"
      ]
     },
     "execution_count": 32,
     "metadata": {},
     "output_type": "execute_result"
    }
   ],
   "source": [
    "model.T.value, model.VLE_block.P_VLE.value, model.kinetics_block.r_FT_total.value"
   ]
  },
  {
   "cell_type": "code",
   "execution_count": 33,
   "metadata": {
    "scrolled": true
   },
   "outputs": [
    {
     "data": {
      "text/plain": [
       "(1.9006859625437638,\n",
       " 0.06328541541334701,\n",
       " 0.11221177926437087,\n",
       " 0.038284306756677856,\n",
       " 0.01981276794767101)"
      ]
     },
     "execution_count": 33,
     "metadata": {},
     "output_type": "execute_result"
    }
   ],
   "source": [
    "model.P_V.value, model.P_naphtha.value, model.P_gasoline.value, model.P_diesel.value, model.P_heavy.value"
   ]
  },
  {
   "cell_type": "code",
   "execution_count": 34,
   "metadata": {},
   "outputs": [
    {
     "name": "stdout",
     "output_type": "stream",
     "text": [
      "Component\t\tLiquid: 0.0322\t\t\tVapor: 4.0123\t\t\tlog K\n",
      "------------------------------------------------------------------------------------------------------------\n",
      "H2         \t\t 1.0169%\t\t\t26.3284%\t\t\t1.4131\n",
      "CO         \t\t 0.0451%\t\t\t 0.9175%\t\t\t1.3083\n",
      "CO2        \t\t 1.0843%\t\t\t 9.8761%\t\t\t0.9594\n",
      "H2O        \t\t12.1001%\t\t\t52.9885%\t\t\t0.6414\n",
      "C2H4       \t\t 0.1314%\t\t\t 0.9601%\t\t\t0.8636\n",
      "C3H6       \t\t 0.2763%\t\t\t 0.9815%\t\t\t0.5505\n",
      "C4H8       \t\t 0.2314%\t\t\t 0.7760%\t\t\t0.5255\n",
      "C5H10      \t\t 0.3135%\t\t\t 0.5336%\t\t\t0.2309\n",
      "C6H12      \t\t 0.4671%\t\t\t 0.4423%\t\t\t-0.0237\n",
      "C7H14      \t\t 0.6550%\t\t\t 0.3659%\t\t\t-0.2529\n",
      "C8H16      \t\t 0.8797%\t\t\t 0.3018%\t\t\t-0.4646\n",
      "C9H18      \t\t 1.1423%\t\t\t 0.2478%\t\t\t-0.6636\n",
      "C10H20     \t\t 1.4417%\t\t\t 0.2023%\t\t\t-0.8529\n",
      "C11H22     \t\t 1.1298%\t\t\t 0.1043%\t\t\t-1.0347\n",
      "C12H24     \t\t 1.3547%\t\t\t 0.0835%\t\t\t-1.2103\n",
      "C13H26     \t\t 1.5820%\t\t\t 0.0658%\t\t\t-1.3809\n",
      "C14H28     \t\t 1.7959%\t\t\t 0.0509%\t\t\t-1.5474\n",
      "C15H30     \t\t 1.9765%\t\t\t 0.0385%\t\t\t-1.7104\n",
      "C16H32     \t\t 2.1040%\t\t\t 0.0284%\t\t\t-1.8705\n",
      "C17H34     \t\t 2.1632%\t\t\t 0.0203%\t\t\t-2.0279\n",
      "C18H36     \t\t 2.1480%\t\t\t 0.0141%\t\t\t-2.1832\n",
      "C19H38     \t\t 2.0635%\t\t\t 0.0095%\t\t\t-2.3365\n",
      "C20H40     \t\t 1.9239%\t\t\t 0.0063%\t\t\t-2.4881\n",
      "C1H4       \t\t 0.1507%\t\t\t 1.7749%\t\t\t1.0711\n",
      "C2H6       \t\t 0.0789%\t\t\t 0.5161%\t\t\t0.8159\n",
      "C3H8       \t\t 0.0691%\t\t\t 0.2454%\t\t\t0.5501\n",
      "C4H10      \t\t 0.0820%\t\t\t 0.2447%\t\t\t0.4747\n",
      "C5H12      \t\t 0.2037%\t\t\t 0.3137%\t\t\t0.1876\n",
      "C6H14      \t\t 0.3002%\t\t\t 0.2600%\t\t\t-0.0625\n",
      "C7H16      \t\t 0.4179%\t\t\t 0.2150%\t\t\t-0.2886\n",
      "C8H18      \t\t 0.5580%\t\t\t 0.1772%\t\t\t-0.4982\n",
      "C9H20      \t\t 0.7212%\t\t\t 0.1454%\t\t\t-0.6956\n",
      "C10H22     \t\t 0.9065%\t\t\t 0.1185%\t\t\t-0.8836\n",
      "C11H24     \t\t 1.7953%\t\t\t 0.1548%\t\t\t-1.0643\n",
      "C12H26     \t\t 2.1437%\t\t\t 0.1236%\t\t\t-1.2391\n",
      "C13H28     \t\t 2.4924%\t\t\t 0.0972%\t\t\t-1.4091\n",
      "C14H30     \t\t 2.8155%\t\t\t 0.0749%\t\t\t-1.5750\n",
      "C15H32     \t\t 3.0821%\t\t\t 0.0564%\t\t\t-1.7375\n",
      "C16H34     \t\t 3.2623%\t\t\t 0.0413%\t\t\t-1.8971\n",
      "C17H36     \t\t 3.3344%\t\t\t 0.0294%\t\t\t-2.0543\n",
      "C18H38     \t\t 3.2921%\t\t\t 0.0203%\t\t\t-2.2092\n",
      "C19H40     \t\t 3.1459%\t\t\t 0.0137%\t\t\t-2.3622\n",
      "C20H42     \t\t 2.9195%\t\t\t 0.0089%\t\t\t-2.5136\n",
      "C21H44     \t\t 4.4130%\t\t\t 0.0096%\t\t\t-2.6634\n",
      "C22H46     \t\t 3.9135%\t\t\t 0.0060%\t\t\t-2.8119\n",
      "C23H48     \t\t 3.4148%\t\t\t 0.0038%\t\t\t-2.9592\n",
      "C24H50     \t\t 2.9428%\t\t\t 0.0023%\t\t\t-3.1055\n",
      "C25H52     \t\t 2.5123%\t\t\t 0.0014%\t\t\t-3.2508\n",
      "C26H54     \t\t 2.1299%\t\t\t 0.0009%\t\t\t-3.3952\n",
      "C27H56     \t\t 1.7964%\t\t\t 0.0005%\t\t\t-3.5388\n",
      "C28H58     \t\t 1.5095%\t\t\t 0.0003%\t\t\t-3.6817\n",
      "C29H60     \t\t 1.2650%\t\t\t 0.0002%\t\t\t-3.8239\n",
      "C30H62     \t\t 1.0580%\t\t\t 0.0001%\t\t\t-3.9655\n",
      "C31H64     \t\t 0.8836%\t\t\t 0.0001%\t\t\t-4.1065\n",
      "C32H66     \t\t 0.7372%\t\t\t 0.0000%\t\t\t-4.2470\n",
      "C33H68     \t\t 0.6146%\t\t\t 0.0000%\t\t\t-4.3870\n",
      "C34H70     \t\t 0.5121%\t\t\t 0.0000%\t\t\t-4.5266\n",
      "C35H72     \t\t 0.4266%\t\t\t 0.0000%\t\t\t-4.6658\n",
      "C36H74     \t\t 0.3552%\t\t\t 0.0000%\t\t\t-4.8045\n",
      "C37H76     \t\t 0.2957%\t\t\t 0.0000%\t\t\t-4.9430\n",
      "C38H78     \t\t 0.2461%\t\t\t 0.0000%\t\t\t-5.0810\n",
      "C39H80     \t\t 0.2049%\t\t\t 0.0000%\t\t\t-5.2188\n",
      "C40H82     \t\t 0.1705%\t\t\t 0.0000%\t\t\t-5.3563\n",
      "C41H84     \t\t 0.1419%\t\t\t 0.0000%\t\t\t-5.4935\n",
      "C42H86     \t\t 0.1181%\t\t\t 0.0000%\t\t\t-5.6304\n",
      "C43H88     \t\t 0.0983%\t\t\t 0.0000%\t\t\t-5.7671\n",
      "C44H90     \t\t 0.0818%\t\t\t 0.0000%\t\t\t-5.9036\n",
      "C45H92     \t\t 0.0680%\t\t\t 0.0000%\t\t\t-6.0399\n",
      "C46H94     \t\t 0.0566%\t\t\t 0.0000%\t\t\t-6.1759\n",
      "C47H96     \t\t 0.0471%\t\t\t 0.0000%\t\t\t-6.3118\n",
      "C48H98     \t\t 0.0392%\t\t\t 0.0000%\t\t\t-6.4475\n",
      "C49H100    \t\t 0.0326%\t\t\t 0.0000%\t\t\t-6.5830\n",
      "C50H102    \t\t 0.0271%\t\t\t 0.0000%\t\t\t-6.7184\n",
      "C51H104    \t\t 0.0226%\t\t\t 0.0000%\t\t\t-6.8536\n",
      "C52H106    \t\t 0.0188%\t\t\t 0.0000%\t\t\t-6.9886\n",
      "C53H108    \t\t 0.0156%\t\t\t 0.0000%\t\t\t-7.1235\n",
      "C54H110    \t\t 0.0130%\t\t\t 0.0000%\t\t\t-7.2583\n",
      "C55H112    \t\t 0.0108%\t\t\t 0.0000%\t\t\t-7.3930\n",
      "C56H114    \t\t 0.0090%\t\t\t 0.0000%\t\t\t-7.5275\n"
     ]
    }
   ],
   "source": [
    "print('Component\\t\\tLiquid: {:.4f}\\t\\t\\tVapor: {:.4f}\\t\\t\\tlog K'.format(model.L['out'].value,model.V['out'].value))\n",
    "print('-'*108)\n",
    "for i in model.x:\n",
    "    print('{:10s}'.format(i),'\\t\\t{:8.4%}\\t\\t\\t{:8.4%}\\t\\t\\t{:.4f}'.format(model.x[i].value,model.y[i].value,np.log10(model.y[i].value/model.x[i].value)))"
   ]
  },
  {
   "cell_type": "code",
   "execution_count": 35,
   "metadata": {},
   "outputs": [
    {
     "data": {
      "text/plain": [
       "0.8768544893827409"
      ]
     },
     "execution_count": 35,
     "metadata": {},
     "output_type": "execute_result"
    }
   ],
   "source": [
    "# Conversion\n",
    "(model.F.value - model.V['out'].value * (model.y['H2'].value + model.y['CO'].value) - \\\n",
    "model.L['out'].value * (model.x['H2'].value + model.x['CO'].value))/model.F.value"
   ]
  },
  {
   "cell_type": "code",
   "execution_count": 36,
   "metadata": {
    "scrolled": false
   },
   "outputs": [
    {
     "name": "stdout",
     "output_type": "stream",
     "text": [
      "Solved, Feed = 15.00\tObj = 2.78\n",
      "Solved, Feed = 14.62\tObj = 2.77\n",
      "Solved, Feed = 14.23\tObj = 2.76\n",
      "Solved, Feed = 13.85\tObj = 2.75\n",
      "Solved, Feed = 13.46\tObj = 2.73\n",
      "Solved, Feed = 13.08\tObj = 2.71\n",
      "Solved, Feed = 12.69\tObj = 2.69\n",
      "Solved, Feed = 12.31\tObj = 2.66\n",
      "Solved, Feed = 11.92\tObj = 2.63\n",
      "Solved, Feed = 11.54\tObj = 2.60\n",
      "Solved, Feed = 11.15\tObj = 2.56\n",
      "Solved, Feed = 10.77\tObj = 2.52\n",
      "Solved, Feed = 10.38\tObj = 2.48\n",
      "Solved, Feed = 10.00\tObj = 2.43\n",
      "Solved, Feed = 9.62\tObj = 2.38\n",
      "Solved, Feed = 9.23\tObj = 2.33\n",
      "Solved, Feed = 8.85\tObj = 2.28\n",
      "Solved, Feed = 8.46\tObj = 2.22\n",
      "Solved, Feed = 8.08\tObj = 2.16\n",
      "Solved, Feed = 7.69\tObj = 2.09\n",
      "Solved, Feed = 7.31\tObj = 2.02\n",
      "Solved, Feed = 6.92\tObj = 1.95\n",
      "Solved, Feed = 6.54\tObj = 1.87\n",
      "Solved, Feed = 6.15\tObj = 1.79\n",
      "Solved, Feed = 5.77\tObj = 1.71\n",
      "Solved, Feed = 5.38\tObj = 1.62\n",
      "Solved, Feed = 5.00\tObj = 1.53\n",
      "Solved, Feed = 4.62\tObj = 1.44\n",
      "Solved, Feed = 4.23\tObj = 1.34\n",
      "Solved, Feed = 3.85\tObj = 1.24\n",
      "Solved, Feed = 3.46\tObj = 1.13\n",
      "Solved, Feed = 3.08\tObj = 1.02\n",
      "Solved, Feed = 2.69\tObj = 0.91\n",
      "Solved, Feed = 2.31\tObj = 0.79\n",
      "Solved, Feed = 1.92\tObj = 0.67\n",
      "Solved, Feed = 1.54\tObj = 0.54\n",
      "Solved, Feed = 1.15\tObj = 0.42\n",
      "Solved, Feed = 0.77\tObj = 0.28\n",
      "Solved, Feed = 0.38\tObj = 0.14\n",
      "Solved, Feed = 0.00\tObj = 0.00\n"
     ]
    }
   ],
   "source": [
    "import numpy as np\n",
    "F_range = np.linspace(15,1e-4,40)\n",
    "Obj_list = []\n",
    "\n",
    "for f in F_range:\n",
    "    model.F.fix(f)\n",
    "    \n",
    "    results = opt.solve(model,tee=False)\n",
    "    update_dual(pe,model)\n",
    "    \n",
    "    Obj_list.append(model.obj())\n",
    "    \n",
    "    print('Solved, Feed = {:.2f}\\tObj = {:.2f}'.format(f,model.obj()))"
   ]
  },
  {
   "cell_type": "code",
   "execution_count": 37,
   "metadata": {},
   "outputs": [
    {
     "data": {
      "image/png": "[encoded data removed]",
      "text/plain": [
       "<Figure size 1152x648 with 1 Axes>"
      ]
     },
     "metadata": {},
     "output_type": "display_data"
    }
   ],
   "source": [
    "fig, ax = plt.subplots(figsize=(16,9))\n",
    "line = ax.plot(F_range,Obj_list, 'b-')\n",
    "ax.set_xlabel('Total Feed (kmol/s)',fontsize=18)\n",
    "ax.set_ylabel('Profit-3',fontsize=18)\n",
    "ax.tick_params('y',labelsize=18)\n",
    "ax.tick_params('x',labelsize=18)\n",
    "ax.set_title('Reactive Flash Optimization',fontsize=18)\n",
    "ax.grid()\n",
    "\n",
    "plt.show()"
   ]
  },
  {
   "cell_type": "code",
   "execution_count": 48,
   "metadata": {},
   "outputs": [],
   "source": [
    "model.F.fix(8.88)"
   ]
  },
  {
   "cell_type": "code",
   "execution_count": 49,
   "metadata": {},
   "outputs": [
    {
     "name": "stdout",
     "output_type": "stream",
     "text": [
      "Ipopt 3.12.10: print_user_options=yes\n",
      "tol=1e-08\n",
      "option_file_name=./ipopt.opt\n",
      "max_iter=5000\n",
      "warm_start_init_point=yes\n",
      "warm_start_bound_push=1e-20\n",
      "warm_start_mult_bound_push=1e-20\n",
      "mu_init=1e-06\n",
      "\n",
      "Using option file \"./ipopt.opt\".\n",
      "\n",
      "\n",
      "List of user-set options:\n",
      "\n",
      "                                    Name   Value                used\n",
      "                           compl_inf_tol = 1                     yes\n",
      "                         constr_viol_tol = 1                     yes\n",
      "                            dual_inf_tol = 1000                  yes\n",
      "                           linear_solver = ma97                  yes\n",
      "                              ma86_small = 1e-30                  no\n",
      "                                  ma86_u = 0.0001                 no\n",
      "                              ma97_order = best                  yes\n",
      "                              ma97_small = 1e-30                 yes\n",
      "                            ma97_switch1 = at_start              yes\n",
      "                            ma97_switch2 = od_hd_reuse           yes\n",
      "                                  ma97_u = 1e-06                 yes\n",
      "                               ma97_umax = 0.5                   yes\n",
      "                                max_iter = 5000                  yes\n",
      "                    max_refinement_steps = 20                    yes\n",
      "                    min_refinement_steps = 5                     yes\n",
      "                                 mu_init = 1e-06                 yes\n",
      "           mu_superlinear_decrease_power = 1.25                  yes\n",
      "                   nlp_scaling_min_value = 1e-08                 yes\n",
      "                        option_file_name = ./ipopt.opt           yes\n",
      "                      print_user_options = yes                   yes\n",
      "        required_infeasibility_reduction = 1                      no\n",
      "                                     tol = 1e-08                 yes\n",
      "                   warm_start_bound_frac = 1e-20                 yes\n",
      "                   warm_start_bound_push = 1e-20                 yes\n",
      "                   warm_start_init_point = yes                   yes\n",
      "              warm_start_mult_bound_push = 1e-20                 yes\n",
      "                warm_start_mult_init_max = 1e+40                 yes\n",
      "             warm_start_slack_bound_frac = 1e-20                 yes\n",
      "             warm_start_slack_bound_push = 1e-20                 yes\n",
      "\n",
      "******************************************************************************\n",
      "This program contains Ipopt, a library for large-scale nonlinear optimization.\n",
      " Ipopt is released as open source code under the Eclipse Public License (EPL).\n",
      "         For more information visit http://projects.coin-or.org/Ipopt\n",
      "******************************************************************************\n",
      "\n",
      "This is Ipopt version 3.12.10, running with linear solver ma97.\n",
      "\n",
      "Number of nonzeros in equality constraint Jacobian...:     4777\n",
      "Number of nonzeros in inequality constraint Jacobian.:        5\n",
      "Number of nonzeros in Lagrangian Hessian.............:     1545\n",
      "\n",
      "Total number of variables............................:     1195\n",
      "                     variables with only lower bounds:      392\n",
      "                variables with lower and upper bounds:      633\n",
      "                     variables with only upper bounds:        0\n",
      "Total number of equality constraints.................:     1191\n",
      "Total number of inequality constraints...............:        1\n",
      "        inequality constraints with only lower bounds:        0\n",
      "   inequality constraints with lower and upper bounds:        0\n",
      "        inequality constraints with only upper bounds:        1\n",
      "\n",
      "iter    objective    inf_pr   inf_du lg(mu)  ||d||  lg(rg) alpha_du alpha_pr  ls\n",
      "   0 -1.8891471e+01 2.28e+02 2.59e-10  -6.0 0.00e+00    -  0.00e+00 0.00e+00   0\n",
      "   1 -1.8850273e+01 2.27e+02 2.17e+02  -6.0 2.87e+02    -  1.00e+00 2.56e-03h  1\n",
      "   2 -5.0206016e+00 2.68e+01 3.43e+03  -6.0 2.86e+02    -  1.00e+00 8.61e-01h  1\n",
      "   3 -2.2884778e+00 2.10e+00 3.01e+02  -6.0 5.34e+01    -  8.52e-01 1.00e+00h  1\n",
      "   4 -2.2817549e+00 4.52e-03 2.86e+00  -6.0 4.45e+00    -  1.00e+00 1.00e+00h  1\n",
      "   5 -2.2816915e+00 1.43e-07 6.52e-05  -6.0 5.53e-02    -  1.00e+00 1.00e+00h  1\n",
      "   6 -2.2816915e+00 1.40e-10 1.01e-11  -6.0 1.09e-05    -  1.00e+00 1.00e+00h  1\n",
      "   7 -2.2816928e+00 4.76e-09 4.90e-05  -7.5 1.58e-02    -  1.00e+00 1.00e+00h  1\n",
      "   8 -2.2816928e+00 1.40e-10 1.53e-11  -7.5 7.07e-06    -  1.00e+00 1.00e+00h  1\n",
      "   9 -2.2816928e+00 1.42e-10 4.94e-08  -9.0 5.03e-04    -  1.00e+00 1.00e+00h  1\n",
      "iter    objective    inf_pr   inf_du lg(mu)  ||d||  lg(rg) alpha_du alpha_pr  ls\n",
      "  10 -2.2816928e+00 1.40e-10 2.47e-12  -9.0 1.34e-07    -  1.00e+00 1.00e+00h  1\n",
      "\n",
      "Number of Iterations....: 10\n",
      "\n",
      "                                   (scaled)                 (unscaled)\n",
      "Objective...............:  -1.7825725127597003e+00   -2.2816928163324164e+00\n",
      "Dual infeasibility......:   2.4671707380447674e-12    3.1579785446973024e-12\n",
      "Constraint violation....:   1.4028755620284356e-10    1.4028755620284356e-10\n",
      "Complementarity.........:   9.0916937406463293e-10    1.1637367988027301e-09\n",
      "Overall NLP error.......:   9.0916937406463293e-10    1.1637367988027301e-09\n",
      "\n",
      "\n",
      "Number of objective function evaluations             = 11\n",
      "Number of objective gradient evaluations             = 11\n",
      "Number of equality constraint evaluations            = 11\n",
      "Number of inequality constraint evaluations          = 11\n",
      "Number of equality constraint Jacobian evaluations   = 11\n",
      "Number of inequality constraint Jacobian evaluations = 11\n",
      "Number of Lagrangian Hessian evaluations             = 10\n",
      "Total CPU secs in IPOPT (w/o function evaluations)   =      0.033\n",
      "Total CPU secs in NLP function evaluations           =      0.003\n",
      "\n",
      "EXIT: Optimal Solution Found.\n"
     ]
    }
   ],
   "source": [
    "results = opt.solve(model,tee=True)\n",
    "update_dual(pe,model)"
   ]
  },
  {
   "cell_type": "code",
   "execution_count": 50,
   "metadata": {},
   "outputs": [
    {
     "data": {
      "text/plain": [
       "2.28169280749605"
      ]
     },
     "execution_count": 50,
     "metadata": {},
     "output_type": "execute_result"
    }
   ],
   "source": [
    "43*model.P_naphtha.value + 90*model.P_gasoline.value + 128*model.P_diesel.value + 100*model.P_heavy.value + 1.3*model.P_V.value - 2.24*model.F.value\n",
    "# 54*model.P_naphtha.value + 112*model.P_gasoline.value + 161*model.P_diesel.value + 350*model.P_heavy.value + 1.3*model.P_light.value - 2.24*model.F.value"
   ]
  },
  {
   "cell_type": "code",
   "execution_count": 60,
   "metadata": {},
   "outputs": [
    {
     "data": {
      "text/plain": [
       "(230.78771766282512, 20.000000441972922, 2.5265633194619324)"
      ]
     },
     "execution_count": 60,
     "metadata": {},
     "output_type": "execute_result"
    }
   ],
   "source": [
    "model.T.value - 273.15, model.VLE_block.P_VLE.value, model.kinetics_block.r_FT_total.value"
   ]
  },
  {
   "cell_type": "code",
   "execution_count": 52,
   "metadata": {
    "scrolled": true
   },
   "outputs": [
    {
     "data": {
      "text/plain": [
       "(1.900685962543766,\n",
       " 0.06328541541334703,\n",
       " 0.11221177926437088,\n",
       " 0.038284306756677836,\n",
       " 0.019812767947670996)"
      ]
     },
     "execution_count": 52,
     "metadata": {},
     "output_type": "execute_result"
    }
   ],
   "source": [
    "model.P_V.value, model.P_naphtha.value, model.P_gasoline.value, model.P_diesel.value, model.P_heavy.value"
   ]
  },
  {
   "cell_type": "code",
   "execution_count": null,
   "metadata": {},
   "outputs": [],
   "source": [
    "model.P_V.value"
   ]
  },
  {
   "cell_type": "code",
   "execution_count": 61,
   "metadata": {},
   "outputs": [
    {
     "data": {
      "text/plain": [
       "0.8535686890074095"
      ]
     },
     "execution_count": 61,
     "metadata": {},
     "output_type": "execute_result"
    }
   ],
   "source": [
    "model.kinetics_block.r_FT_total.value / (model.F.value / 3)"
   ]
  },
  {
   "cell_type": "code",
   "execution_count": 57,
   "metadata": {},
   "outputs": [
    {
     "data": {
      "text/plain": [
       "0.18350275142083564"
      ]
     },
     "execution_count": 57,
     "metadata": {},
     "output_type": "execute_result"
    }
   ],
   "source": [
    "model.f_V['CO'].value"
   ]
  },
  {
   "cell_type": "code",
   "execution_count": 58,
   "metadata": {},
   "outputs": [
    {
     "data": {
      "text/plain": [
       "10.597699337762739"
      ]
     },
     "execution_count": 58,
     "metadata": {},
     "output_type": "execute_result"
    }
   ],
   "source": [
    "model.f_V['H2O'].value"
   ]
  },
  {
   "cell_type": "code",
   "execution_count": 59,
   "metadata": {},
   "outputs": [
    {
     "data": {
      "text/plain": [
       "5.265681158718329"
      ]
     },
     "execution_count": 59,
     "metadata": {},
     "output_type": "execute_result"
    }
   ],
   "source": [
    "model.f_V['H2'].value"
   ]
  },
  {
   "cell_type": "code",
   "execution_count": 55,
   "metadata": {},
   "outputs": [
    {
     "data": {
      "text/plain": [
       "2.5265633194619324"
      ]
     },
     "execution_count": 55,
     "metadata": {},
     "output_type": "execute_result"
    }
   ],
   "source": [
    "model.kinetics_block.r_FT_total.value"
   ]
  },
  {
   "cell_type": "code",
   "execution_count": 46,
   "metadata": {},
   "outputs": [],
   "source": [
    "# model.solutions.store_to(results)\n",
    "# with open('../../saved_solutions/reactive_flash_MPCC_P_200C.pickle','wb') as f:\n",
    "#     pickle.dump(results,f)"
   ]
  },
  {
   "cell_type": "code",
   "execution_count": 47,
   "metadata": {},
   "outputs": [],
   "source": [
    "# with open('test_model.pickle','wb') as f:\n",
    "#     dill.dump(model,f)"
   ]
  }
 ],
 "metadata": {
  "kernelspec": {
   "display_name": "Python 3",
   "language": "python",
   "name": "python3"
  },
  "language_info": {
   "codemirror_mode": {
    "name": "ipython",
    "version": 3
   },
   "file_extension": ".py",
   "mimetype": "text/x-python",
   "name": "python",
   "nbconvert_exporter": "python",
   "pygments_lexer": "ipython3",
   "version": "3.6.5"
  }
 },
 "nbformat": 4,
 "nbformat_minor": 2
}
