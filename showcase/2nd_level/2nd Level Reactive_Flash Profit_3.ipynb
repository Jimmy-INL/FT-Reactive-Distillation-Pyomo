{
 "cells": [
  {
   "cell_type": "markdown",
   "metadata": {
    "slideshow": {
     "slide_type": "slide"
    }
   },
   "source": [
    "# 2nd Level Model Structure: Reactive Stage"
   ]
  },
  {
   "cell_type": "code",
   "execution_count": 1,
   "metadata": {},
   "outputs": [],
   "source": [
    "import sys\n",
    "import os\n",
    "import dill\n",
    "import pickle\n",
    "sys.path.append(os.path.abspath('..'))\n",
    "sys.path.append(os.path.abspath('../..'))\n",
    "import numpy as np\n",
    "from matplotlib import pyplot as plt"
   ]
  },
  {
   "cell_type": "code",
   "execution_count": 2,
   "metadata": {
    "slideshow": {
     "slide_type": "fragment"
    }
   },
   "outputs": [],
   "source": [
    "from pyomo import environ as pe\n",
    "from global_sets.component import m\n",
    "from utility.display_utility import trans_product_mole, trans_product_mass\n",
    "from utility.model_utility import add_dual, update_dual, check_DOF, augmented_objective, add_solver,\\\n",
    "                                    select_MPCC, which_MPCC, disable_restoration\n",
    "from utility.data_utility import cal_cnumber\n",
    "\n",
    "# stage construction rules\n",
    "from physics.kinetics.kinetics_reactive import kinetic_block_rule\n",
    "from physics.energy.energy_reactive import energy_block_rule\n",
    "from physics.VLE.VLE_reactive_MPCC_P import VLE_block_rule\n",
    "from physics.MPCC.MPCC_P import P_NCP_block_rule, P_Reg_block_rule, P_pf_block_rule"
   ]
  },
  {
   "cell_type": "code",
   "execution_count": 3,
   "metadata": {},
   "outputs": [],
   "source": [
    "model = pe.ConcreteModel()"
   ]
  },
  {
   "cell_type": "markdown",
   "metadata": {
    "slideshow": {
     "slide_type": "subslide"
    }
   },
   "source": [
    "# Global Sets (Inlet / Outlet)"
   ]
  },
  {
   "cell_type": "code",
   "execution_count": 4,
   "metadata": {
    "slideshow": {
     "slide_type": "fragment"
    }
   },
   "outputs": [],
   "source": [
    "model.inlet = pe.Set(initialize=['in','R'])\n",
    "model.outlet = pe.Set(initialize=['out','P'])\n",
    "model.stream = model.inlet | model.outlet"
   ]
  },
  {
   "cell_type": "code",
   "execution_count": 5,
   "metadata": {},
   "outputs": [],
   "source": [
    "model.comp_light = pe.Set(initialize = [i for i in m.COMP_ORG if cal_cnumber(i) >= 1 and cal_cnumber(i) <= 4])\n",
    "model.comp_naphtha = pe.Set(initialize = [i for i in m.COMP_ORG if cal_cnumber(i) >= 5 and cal_cnumber(i) <= 7])\n",
    "model.comp_gasoline = pe.Set(initialize = [i for i in m.COMP_ORG if cal_cnumber(i) >= 8 and cal_cnumber(i) <= 12])\n",
    "model.comp_diesel = pe.Set(initialize = [i for i in m.COMP_ORG if cal_cnumber(i) >= 13 and cal_cnumber(i) <= 18])\n",
    "model.comp_heavy = pe.Set(initialize = [i for i in m.COMP_ORG if cal_cnumber(i) >= 19 and cal_cnumber(i) <= 56])"
   ]
  },
  {
   "cell_type": "markdown",
   "metadata": {
    "slideshow": {
     "slide_type": "subslide"
    }
   },
   "source": [
    "# Global Variables"
   ]
  },
  {
   "cell_type": "code",
   "execution_count": 6,
   "metadata": {
    "slideshow": {
     "slide_type": "fragment"
    }
   },
   "outputs": [],
   "source": [
    "# Tray Inlet/Outlet Variable\n",
    "model.x_ = pe.Var(model.inlet,m.COMP_TOTAL,within=pe.NonNegativeReals)\n",
    "model.y_ = pe.Var(model.inlet,m.COMP_TOTAL,within=pe.NonNegativeReals)\n",
    "model.x = pe.Var(m.COMP_TOTAL,within=pe.NonNegativeReals)\n",
    "model.y = pe.Var(m.COMP_TOTAL,within=pe.NonNegativeReals)\n",
    "model.z = pe.Var(m.COMP_FEED,within=pe.NonNegativeReals)\n",
    "\n",
    "model.L = pe.Var(model.stream,within=pe.NonNegativeReals)\n",
    "model.V = pe.Var(model.stream,within=pe.NonNegativeReals)\n",
    "model.F = pe.Var(within=pe.NonNegativeReals)\n",
    "\n",
    "model.H_L_ = pe.Var(model.inlet,within=pe.Reals)\n",
    "model.H_V_ = pe.Var(model.inlet,within=pe.Reals)\n",
    "model.H_L = pe.Var(within=pe.Reals)\n",
    "model.H_V = pe.Var(within=pe.Reals)\n",
    "model.H_F = pe.Var(within=pe.Reals)\n",
    "\n",
    "# State Variable\n",
    "model.T = pe.Var(within=pe.NonNegativeReals,bounds=(200+273.15,300+273.15)) # K\n",
    "model.T_F = pe.Var(within=pe.NonNegativeReals) # K\n",
    "model.P = pe.Var(within=pe.NonNegativeReals,bounds=(10,30)) # Bar\n",
    "\n",
    "model.f_V = pe.Var(m.COMP_TOTAL,within=pe.NonNegativeReals,initialize=1e-20)\n",
    "model.f_L = pe.Var(m.COMP_TOTAL,within=pe.NonNegativeReals,initialize=1e-20)\n",
    "\n",
    "model.cat = pe.Var(within=pe.NonNegativeReals,initialize=30000) # kg\n",
    "model.Q_main = pe.Var(within=pe.Reals) # MW\n",
    "model.r_total_comp = pe.Var(m.COMP_TOTAL,within=pe.Reals) # kmol/s"
   ]
  },
  {
   "cell_type": "code",
   "execution_count": 7,
   "metadata": {},
   "outputs": [],
   "source": [
    "model.P_light = pe.Var(within=pe.NonNegativeReals)\n",
    "model.P_naphtha = pe.Var(within=pe.NonNegativeReals)\n",
    "model.P_gasoline = pe.Var(within=pe.NonNegativeReals)\n",
    "model.P_diesel = pe.Var(within=pe.NonNegativeReals)\n",
    "model.P_heavy = pe.Var(within=pe.NonNegativeReals)"
   ]
  },
  {
   "cell_type": "markdown",
   "metadata": {
    "slideshow": {
     "slide_type": "slide"
    }
   },
   "source": [
    "# Construct Individual Blocks"
   ]
  },
  {
   "cell_type": "code",
   "execution_count": 8,
   "metadata": {},
   "outputs": [],
   "source": [
    "if model.find_component('kinetics_block'):\n",
    "    print('haha')"
   ]
  },
  {
   "cell_type": "code",
   "execution_count": 9,
   "metadata": {
    "slideshow": {
     "slide_type": "subslide"
    }
   },
   "outputs": [
    {
     "name": "stdout",
     "output_type": "stream",
     "text": [
      "> Importing Kinetics Blocks......\n",
      "> Adding the following local variable:\n",
      "--------------------------------------------------\n",
      "| kinetics_block.k_FT\n",
      "| kinetics_block.r_FT_total\n",
      "| kinetics_block.g0_FT\n",
      "| kinetics_block.alpha\n",
      "| kinetics_block.r_FT_cnum\n",
      "| kinetics_block.r_FT_comp\n",
      "| kinetics_block.k_WGS\n",
      "| kinetics_block.Ke_WGS\n",
      "| kinetics_block.r_WGS\n",
      "| kinetics_block.r_WGS_comp\n",
      "--------------------------------------------------\n",
      "\n"
     ]
    }
   ],
   "source": [
    "model.kinetics_block = pe.Block(rule=kinetic_block_rule)"
   ]
  },
  {
   "cell_type": "code",
   "execution_count": 10,
   "metadata": {
    "slideshow": {
     "slide_type": "subslide"
    }
   },
   "outputs": [
    {
     "name": "stdout",
     "output_type": "stream",
     "text": [
      "> Importing Energy Blocks......\n",
      "> Adding the following local variable:\n",
      "--------------------------------------------------\n",
      "| energy_block.dH_F\n",
      "| energy_block.dH_V\n",
      "| energy_block.dH_L\n",
      "| energy_block.dH_vap\n",
      "--------------------------------------------------\n",
      "\n"
     ]
    }
   ],
   "source": [
    "model.energy_block = pe.Block(rule=energy_block_rule)"
   ]
  },
  {
   "cell_type": "code",
   "execution_count": 11,
   "metadata": {
    "scrolled": false,
    "slideshow": {
     "slide_type": "subslide"
    }
   },
   "outputs": [
    {
     "name": "stdout",
     "output_type": "stream",
     "text": [
      "> Importing VLE Blocks......\n",
      "> Adding the following local variable:\n",
      "--------------------------------------------------\n",
      "| VLE_block.P_VLE\n",
      "| VLE_block.n_ave\n",
      "| VLE_block.n_ave_cal\n",
      "| VLE_block.Hen\n",
      "| VLE_block.Hen0\n",
      "| VLE_block.gamma\n",
      "| VLE_block.P_sat\n",
      "| VLE_block.P_sat_Y\n",
      "| VLE_block.P_sat_dY_inf\n",
      "| VLE_block.P_sat_dY0\n",
      "| VLE_block.Hen_ref\n",
      "| VLE_block.Hen0_ref\n",
      "| VLE_block.gamma_ref\n",
      "| VLE_block.V_L\n",
      "| VLE_block.V_L_dY_inf\n",
      "| VLE_block.V_L_dY0\n",
      "| VLE_block.poynting\n",
      "--------------------------------------------------\n",
      "\n"
     ]
    }
   ],
   "source": [
    "model.VLE_block = pe.Block(rule=VLE_block_rule)"
   ]
  },
  {
   "cell_type": "markdown",
   "metadata": {
    "slideshow": {
     "slide_type": "slide"
    }
   },
   "source": [
    "# Standard MESH Equations"
   ]
  },
  {
   "cell_type": "markdown",
   "metadata": {
    "slideshow": {
     "slide_type": "subslide"
    }
   },
   "source": [
    "## Mass Balance"
   ]
  },
  {
   "cell_type": "markdown",
   "metadata": {
    "slideshow": {
     "slide_type": "fragment"
    }
   },
   "source": [
    "\\begin{equation}\n",
    "Fz_{i}+\\sum_{s\\in{inlet}}L_{s}x'_{i,s}+\\sum_{s\\in{inlet}}V_{s}y'_{i,s}-\\sum_{s\\in{outlet}}L_{s}x_{i,s}+\\sum_{s\\in{ouelet}}V_{s}y_{i,s}+R_{i} = 0 \\\\\n",
    "i = 1,...NC\n",
    "\\end{equation}"
   ]
  },
  {
   "cell_type": "code",
   "execution_count": 12,
   "metadata": {
    "slideshow": {
     "slide_type": "fragment"
    }
   },
   "outputs": [],
   "source": [
    "def mass_balance_main_rule(model,i):\n",
    "    if i in m.COMP_FEED:\n",
    "        return model.F*model.z[i] + sum(model.L[s]*model.x_[s,i] + model.V[s]*model.y_[s,i] for s in model.inlet)\\\n",
    "        + model.r_total_comp[i] - sum(model.L[s]*model.x[i] + model.V[s]*model.y[i] for s in model.outlet) == 0\n",
    "    else:\n",
    "        return sum(model.L[s]*model.x_[s,i] + model.V[s]*model.y_[s,i] for s in model.inlet)\\\n",
    "        + model.r_total_comp[i] - sum(model.L[s]*model.x[i] + model.V[s]*model.y[i] for s in model.outlet) == 0\n",
    "model.mass_balance_main_con = pe.Constraint(m.COMP_TOTAL,rule=mass_balance_main_rule)"
   ]
  },
  {
   "cell_type": "markdown",
   "metadata": {
    "slideshow": {
     "slide_type": "subslide"
    }
   },
   "source": [
    "## Equilibrium"
   ]
  },
  {
   "cell_type": "markdown",
   "metadata": {
    "slideshow": {
     "slide_type": "fragment"
    }
   },
   "source": [
    "\\begin{align}\n",
    "&f_{i,V} = f_{i,L} \\\\\n",
    "&i = 1,...NC\n",
    "\\end{align}"
   ]
  },
  {
   "cell_type": "code",
   "execution_count": 13,
   "metadata": {
    "slideshow": {
     "slide_type": "fragment"
    }
   },
   "outputs": [],
   "source": [
    "def VL_equil_rule(model,i):\n",
    "    return model.f_V[i] == model.f_L[i]\n",
    "model.VL_equil_con = pe.Constraint(m.COMP_TOTAL,rule=VL_equil_rule)"
   ]
  },
  {
   "cell_type": "markdown",
   "metadata": {
    "slideshow": {
     "slide_type": "subslide"
    }
   },
   "source": [
    "## Summation"
   ]
  },
  {
   "cell_type": "markdown",
   "metadata": {
    "slideshow": {
     "slide_type": "fragment"
    }
   },
   "source": [
    "\\begin{equation}\n",
    "\\sum_ix_{i} = \\sum_iy_{i} \\\\\n",
    "F + L_{in} + V_{in} + R = L_{out} + V_{out}\n",
    "\\end{equation}"
   ]
  },
  {
   "cell_type": "code",
   "execution_count": 14,
   "metadata": {
    "slideshow": {
     "slide_type": "fragment"
    }
   },
   "outputs": [],
   "source": [
    "def summation_x_y_rule(model):\n",
    "    return sum(model.x[i] for i in m.COMP_TOTAL) == sum(model.y[i] for i in m.COMP_TOTAL)\n",
    "model.summation_x_y_con = pe.Constraint(rule=summation_x_y_rule)\n",
    "\n",
    "def summation_total_mass_rule(model):\n",
    "    return model.F + sum(model.L[s] + model.V[s] for s in model.inlet) + sum(model.r_total_comp[i] for i in m.COMP_TOTAL)\\\n",
    "            - sum(model.L[s] + model.V[s] for s in model.outlet) == 0\n",
    "model.summation_total_mass_con = pe.Constraint(rule=summation_total_mass_rule)"
   ]
  },
  {
   "cell_type": "markdown",
   "metadata": {
    "slideshow": {
     "slide_type": "subslide"
    }
   },
   "source": [
    "## Energy Balance"
   ]
  },
  {
   "cell_type": "markdown",
   "metadata": {
    "slideshow": {
     "slide_type": "fragment"
    }
   },
   "source": [
    "\\begin{equation}\n",
    "F H_f+\\sum_{s\\in{inlet}}L_{s}H_{l,s}+\\sum_{s\\in{inlet}}V_{s}H_{v,s}-\\sum_{s\\in{outlet}}L_{s}H_{l,s}-\\sum_{s\\in{outlet}}V_{s}H_{v,s}+Q = 0\n",
    "\\end{equation}"
   ]
  },
  {
   "cell_type": "code",
   "execution_count": 15,
   "metadata": {
    "slideshow": {
     "slide_type": "fragment"
    }
   },
   "outputs": [],
   "source": [
    "def heat_balance_main_rule(model):\n",
    "    return model.F*model.H_F + sum(model.L[s]*model.H_L_[s] + model.V[s]*model.H_V_[s] for s in model.inlet) \\\n",
    "            + model.Q_main - sum(model.L[s]*model.H_L + model.V[s]*model.H_V for s in model.outlet) == 0\n",
    "model.heat_balance_main_con = pe.Constraint(rule=heat_balance_main_rule)"
   ]
  },
  {
   "cell_type": "markdown",
   "metadata": {},
   "source": [
    "# Product Amount / Total Revenue"
   ]
  },
  {
   "cell_type": "code",
   "execution_count": 16,
   "metadata": {},
   "outputs": [],
   "source": [
    "def P_light_rule(model):\n",
    "    return model.P_light == model.V['out'] * sum(model.y[i] for i in model.comp_light) + \\\n",
    "                            model.L['out'] * sum(model.x[i] for i in model.comp_light)\n",
    "model.P_light_con = pe.Constraint(rule=P_light_rule)\n",
    "\n",
    "def P_naphtha_rule(model):\n",
    "    return model.P_naphtha == model.V['out'] * sum(model.y[i] for i in model.comp_naphtha) + \\\n",
    "                              model.L['out'] * sum(model.x[i] for i in model.comp_naphtha)\n",
    "model.P_naphtha_con = pe.Constraint(rule=P_naphtha_rule)\n",
    "\n",
    "def P_gasoline_rule(model):\n",
    "    return model.P_gasoline == model.V['out'] * sum(model.y[i] for i in model.comp_gasoline) + \\\n",
    "                               model.L['out'] * sum(model.x[i] for i in model.comp_gasoline)\n",
    "model.P_gasoline_con = pe.Constraint(rule=P_gasoline_rule)\n",
    "\n",
    "def P_diesel_rule(model):\n",
    "    return model.P_diesel == model.V['out'] * sum(model.y[i] for i in model.comp_diesel) + \\\n",
    "                             model.L['out'] * sum(model.x[i] for i in model.comp_diesel)\n",
    "model.P_diesel_con = pe.Constraint(rule=P_diesel_rule)\n",
    "\n",
    "def P_heavy_rule(model):\n",
    "    return model.P_heavy == model.V['out'] * sum(model.y[i] for i in model.comp_heavy) + \\\n",
    "                             model.L['out'] * sum(model.x[i] for i in model.comp_heavy)\n",
    "model.P_heavy_con = pe.Constraint(rule=P_heavy_rule)"
   ]
  },
  {
   "cell_type": "markdown",
   "metadata": {},
   "source": [
    "## MPCC: Add all three"
   ]
  },
  {
   "cell_type": "code",
   "execution_count": 17,
   "metadata": {
    "scrolled": false
   },
   "outputs": [
    {
     "name": "stdout",
     "output_type": "stream",
     "text": [
      "> Importing MPCC_P_pf Blocks......\n",
      "> Adding the following local variable:\n",
      "--------------------------------------------------\n",
      "| MPCC_P_pf.s_L\n",
      "| MPCC_P_pf.s_V\n",
      "| MPCC_P_pf.pf\n",
      "| MPCC_P_pf.epi\n",
      "| MPCC_P_pf.rho\n",
      "--------------------------------------------------\n",
      "> Spliting pressure used in VLE\n",
      "Deleted original P_equal constraint\n",
      "\n",
      "> Deleted kinetics rates constraints\n",
      "> Added f_V_MPCC, updated rates constraints\n",
      "\n",
      "> Importing MPCC_P_NCP Blocks......\n",
      "> Adding the following local variable:\n",
      "--------------------------------------------------\n",
      "| MPCC_P_NCP.s_L\n",
      "| MPCC_P_NCP.s_V\n",
      "| MPCC_P_NCP.epi\n",
      "--------------------------------------------------\n",
      "> Adding complementarity constraint, spliting pressure used in VLE\n",
      "> No constraint to delete\n",
      "\n",
      "> Already replaced f_V_MPCC\n",
      "\n",
      "> Importing MPCC_P_Reg Blocks......\n",
      "> Adding the following local variable:\n",
      "--------------------------------------------------\n",
      "| MPCC_P_Reg.s_L\n",
      "| MPCC_P_Reg.s_V\n",
      "| MPCC_P_Reg.epi\n",
      "--------------------------------------------------\n",
      "> Adding complementarity constraint, spliting pressure used in VLE\n",
      "No constraint to delete\n",
      "\n",
      "> Already replaced f_V_MPCC\n",
      "\n"
     ]
    }
   ],
   "source": [
    "model.MPCC_P_pf = pe.Block(rule = P_pf_block_rule)\n",
    "model.MPCC_P_NCP = pe.Block(rule = P_NCP_block_rule)\n",
    "model.MPCC_P_Reg = pe.Block(rule = P_Reg_block_rule)"
   ]
  },
  {
   "cell_type": "code",
   "execution_count": 18,
   "metadata": {
    "scrolled": true
   },
   "outputs": [
    {
     "name": "stdout",
     "output_type": "stream",
     "text": [
      "> Selected MPCC: MPCC_P_pf\n",
      "s_L:  0\n",
      "s_V:  0\n",
      "\n"
     ]
    }
   ],
   "source": [
    "select_MPCC(model,'pf')"
   ]
  },
  {
   "cell_type": "markdown",
   "metadata": {
    "slideshow": {
     "slide_type": "slide"
    }
   },
   "source": [
    "# Testing"
   ]
  },
  {
   "cell_type": "code",
   "execution_count": 19,
   "metadata": {
    "slideshow": {
     "slide_type": "fragment"
    }
   },
   "outputs": [
    {
     "name": "stdout",
     "output_type": "stream",
     "text": [
      "Created the follow pyomo suffixes:\n",
      "ipopt_zL_out, ipopt_zU_out, ipopt_zL_in, ipopt_zU_in, dual\n"
     ]
    }
   ],
   "source": [
    "add_dual(pe,model)"
   ]
  },
  {
   "cell_type": "markdown",
   "metadata": {
    "slideshow": {
     "slide_type": "fragment"
    }
   },
   "source": [
    "## Fixing In/Product Redundent Flow"
   ]
  },
  {
   "cell_type": "code",
   "execution_count": 20,
   "metadata": {
    "slideshow": {
     "slide_type": "fragment"
    }
   },
   "outputs": [],
   "source": [
    "model.x_.fix(0)\n",
    "model.y_.fix(0)\n",
    "model.L['in'].fix(0)\n",
    "model.L['R'].fix(0)\n",
    "model.L['P'].fix(0)\n",
    "\n",
    "model.V['in'].fix(0)\n",
    "model.V['R'].fix(0)\n",
    "model.V['P'].fix(0)\n",
    "model.H_L_.fix(0)\n",
    "model.H_V_.fix(0)"
   ]
  },
  {
   "cell_type": "markdown",
   "metadata": {
    "slideshow": {
     "slide_type": "subslide"
    }
   },
   "source": [
    "## Fixing Model Parameters"
   ]
  },
  {
   "cell_type": "code",
   "execution_count": 21,
   "metadata": {
    "slideshow": {
     "slide_type": "fragment"
    }
   },
   "outputs": [],
   "source": [
    "model.cat.fix(30000)\n",
    "model.P.fix(20)\n",
    "model.T_F.fix(200+273.15)\n",
    "model.F.fix(10)\n",
    "model.z['CO'].fix(1/(1+2)-0/2)\n",
    "model.z['H2'].fix(2/(1+2)-0/2)\n",
    "model.z['C30H62'].fix(0)\n",
    "model.VLE_block.n_ave.fix(20)"
   ]
  },
  {
   "cell_type": "code",
   "execution_count": 22,
   "metadata": {
    "slideshow": {
     "slide_type": "fragment"
    }
   },
   "outputs": [],
   "source": [
    "# model.F.setlb(1e-3)\n",
    "# model.F.setub(10)\n",
    "model.T.setub(300+273.15)"
   ]
  },
  {
   "cell_type": "markdown",
   "metadata": {},
   "source": [
    "# Objective"
   ]
  },
  {
   "cell_type": "code",
   "execution_count": 23,
   "metadata": {
    "scrolled": false,
    "slideshow": {
     "slide_type": "fragment"
    }
   },
   "outputs": [],
   "source": [
    "opt = add_solver(pe, max_iter = 5000, warm_start = False, output = False)\n",
    "disable_restoration(mode = 'enable')"
   ]
  },
  {
   "cell_type": "code",
   "execution_count": 24,
   "metadata": {},
   "outputs": [
    {
     "name": "stdout",
     "output_type": "stream",
     "text": [
      "------------------------------------------------------------------------------------------------------------\n",
      "> Obj = maximize\n",
      "> 43*P_naphtha + 90*P_gasoline + 128*P_diesel + 100*P_heavy + 1.3*P_light - 2.24*F - MPCC_P_pf.pf\n",
      "------------------------------------------------------------------------------------------------------------\n"
     ]
    }
   ],
   "source": [
    "model.obj = augmented_objective(pe, model, expr = 43*model.P_naphtha + 90*model.P_gasoline + \\\n",
    "                                128*model.P_diesel + 100*model.P_heavy + 1.3*model.P_light - 2.24*model.F, sense=pe.maximize)\n",
    "# model.obj = augmented_objective(pe, model, expr = 54*model.P_naphtha + 112*model.P_gasoline + \\\n",
    "#                                 161*model.P_diesel + 350*model.P_heavy + 1.3*model.P_light - 2.24*model.F, sense=pe.maximize)"
   ]
  },
  {
   "cell_type": "code",
   "execution_count": 25,
   "metadata": {},
   "outputs": [
    {
     "name": "stdout",
     "output_type": "stream",
     "text": [
      "Ipopt 3.12.10: print_user_options=yes\n",
      "tol=1e-08\n",
      "option_file_name=./ipopt.opt\n",
      "max_iter=5000\n",
      "\n",
      "Using option file \"./ipopt.opt\".\n",
      "\n",
      "\n",
      "List of user-set options:\n",
      "\n",
      "                                    Name   Value                used\n",
      "                           compl_inf_tol = 1                     yes\n",
      "                         constr_viol_tol = 1                     yes\n",
      "                            dual_inf_tol = 1000                  yes\n",
      "                           linear_solver = mumps                 yes\n",
      "                              ma86_small = 1e-30                  no\n",
      "                                  ma86_u = 0.0001                 no\n",
      "                              ma97_order = best                   no\n",
      "                              ma97_small = 1e-30                  no\n",
      "                            ma97_switch1 = at_start               no\n",
      "                            ma97_switch2 = od_hd_reuse            no\n",
      "                                  ma97_u = 1e-06                  no\n",
      "                               ma97_umax = 0.5                    no\n",
      "                                max_iter = 5000                  yes\n",
      "                    max_refinement_steps = 20                    yes\n",
      "                    min_refinement_steps = 5                     yes\n",
      "           mu_superlinear_decrease_power = 1.25                  yes\n",
      "                   nlp_scaling_min_value = 1e-08                 yes\n",
      "                        option_file_name = ./ipopt.opt           yes\n",
      "                      print_user_options = yes                   yes\n",
      "                                     tol = 1e-08                 yes\n",
      "                   warm_start_bound_frac = 1e-20                 yes\n",
      "                warm_start_mult_init_max = 1e+40                 yes\n",
      "             warm_start_slack_bound_frac = 1e-20                 yes\n",
      "             warm_start_slack_bound_push = 1e-20                 yes\n",
      "\n",
      "******************************************************************************\n",
      "This program contains Ipopt, a library for large-scale nonlinear optimization.\n",
      " Ipopt is released as open source code under the Eclipse Public License (EPL).\n",
      "         For more information visit http://projects.coin-or.org/Ipopt\n",
      "******************************************************************************\n",
      "\n",
      "This is Ipopt version 3.12.10, running with linear solver mumps.\n",
      "NOTE: Other linear solvers might be more efficient (see Ipopt documentation).\n",
      "\n",
      "Number of nonzeros in equality constraint Jacobian...:     4185\n",
      "Number of nonzeros in inequality constraint Jacobian.:        5\n",
      "Number of nonzeros in Lagrangian Hessian.............:     4395\n",
      "\n",
      "Total number of variables............................:     1195\n",
      "                     variables with only lower bounds:      392\n",
      "                variables with lower and upper bounds:      633\n",
      "                     variables with only upper bounds:        0\n",
      "Total number of equality constraints.................:     1191\n",
      "Total number of inequality constraints...............:        1\n",
      "        inequality constraints with only lower bounds:        0\n",
      "   inequality constraints with lower and upper bounds:        0\n",
      "        inequality constraints with only upper bounds:        1\n",
      "\n",
      "iter    objective    inf_pr   inf_du lg(mu)  ||d||  lg(rg) alpha_du alpha_pr  ls\n",
      "   0  1.8787004e+01 9.24e+03 1.01e+02  -1.0 0.00e+00    -  0.00e+00 0.00e+00   0\n",
      "   1  1.8786846e+01 9.24e+03 1.01e+02  -1.0 2.25e+05    -  2.96e-06 1.15e-05h  1\n",
      "   2  1.8786811e+01 9.24e+03 1.01e+02  -1.0 2.94e+05    -  3.75e-06 1.18e-05h  1\n",
      "   3r 1.8786811e+01 9.24e+03 9.99e+02   3.9 0.00e+00   0.0 0.00e+00 4.69e-07R  2\n",
      "   4r 1.8713362e+01 9.24e+03 7.58e+05   3.9 5.41e+05    -  2.05e-03 6.15e-08f  1\n",
      "   5r 6.8826524e+00 7.00e+03 8.41e+05   3.9 4.75e+05    -  4.74e-04 3.80e-03f  1\n",
      "   6  6.8828192e+00 7.00e+03 1.01e+02  -1.0 1.02e+05    -  2.23e-05 3.03e-05h  1\n",
      "   7  6.8828799e+00 7.00e+03 1.01e+02  -1.0 1.84e+04    -  5.11e-05 2.99e-05h  1\n",
      "   8  6.8830942e+00 7.00e+03 1.01e+02  -1.0 1.52e+04    -  8.86e-05 1.39e-04h  1\n",
      "   9  6.8831338e+00 7.00e+03 1.01e+02  -1.0 6.22e+04    -  2.10e-04 1.78e-05h  1\n",
      "iter    objective    inf_pr   inf_du lg(mu)  ||d||  lg(rg) alpha_du alpha_pr  ls\n",
      "  10  6.8835235e+00 7.00e+03 1.01e+02  -1.0 6.55e+04    -  1.87e-04 7.60e-05h  1\n",
      "  11  6.8842957e+00 7.00e+03 9.27e+02  -1.0 1.03e+05    -  6.11e-04 1.91e-05h  1\n",
      "  12  6.9330775e+00 7.00e+03 2.75e+03  -1.0 1.10e+05    -  3.99e-05 3.82e-05h  1\n",
      "  13  2.3126392e+01 7.00e+03 1.23e+04  -1.0 1.30e+05    -  7.65e-07 1.25e-04h  1\n",
      "  14  4.8253362e+01 7.00e+03 1.10e+04  -1.0 2.21e+05    -  7.35e-05 1.13e-04h  1\n",
      "  15r 4.8253362e+01 7.00e+03 1.00e+03   3.8 0.00e+00    -  0.00e+00 2.88e-07R  3\n",
      "  16r 4.8001227e+01 7.00e+03 4.54e+04   3.8 6.09e+05    -  3.21e-04 7.40e-07f  1\n",
      "  17r 4.3253714e+01 5.07e+03 4.22e+04   2.4 6.18e+05    -  3.43e-04 2.50e-03f  1\n",
      "  18  7.6430612e+01 5.07e+03 1.36e+02  -1.0 1.57e+05    -  2.06e-05 2.11e-04h  2\n",
      "  19  1.3060021e+02 5.07e+03 1.45e+02  -1.0 2.49e+05    -  2.54e-04 2.18e-04h  1\n",
      "iter    objective    inf_pr   inf_du lg(mu)  ||d||  lg(rg) alpha_du alpha_pr  ls\n",
      "  20r 1.3060021e+02 5.07e+03 9.99e+02   3.6 0.00e+00    -  0.00e+00 2.79e-07R  4\n",
      "  21r 1.3057996e+02 5.07e+03 2.10e+05   3.6 6.51e+05    -  2.74e-03 1.24e-07f  2\n",
      "  22r 1.2275833e+02 1.17e+03 2.10e+05   2.9 6.16e+05    -  6.65e-03 5.02e-03f  1\n",
      "  23  1.3750906e+02 1.17e+03 1.38e+02  -1.0 1.16e+05    -  6.88e-04 1.27e-04h  1\n",
      "  24r 1.3750906e+02 1.17e+03 9.99e+02   3.0 0.00e+00    -  0.00e+00 4.33e-07R  3\n",
      "  25r 1.3739017e+02 1.16e+03 6.86e+04   3.0 6.20e+05    -  5.26e-03 8.87e-06f  1\n",
      "  26r 1.2170798e+02 5.13e+02 8.69e+04   3.0 2.00e+05    -  1.13e-02 4.74e-03f  1\n",
      "  27  1.2772769e+02 5.13e+02 2.60e+02  -1.0 1.39e+05    -  4.27e-04 4.32e-05h  4\n",
      "  28r 1.2772769e+02 5.13e+02 9.99e+02   2.7 0.00e+00    -  0.00e+00 3.02e-07R 11\n",
      "  29r 1.2750403e+02 5.13e+02 2.83e+04   2.7 3.30e+04    -  7.33e-03 2.22e-05f  1\n",
      "iter    objective    inf_pr   inf_du lg(mu)  ||d||  lg(rg) alpha_du alpha_pr  ls\n",
      "  30r 1.1408631e+02 5.13e+02 2.66e+04   2.7 2.24e+04    -  8.99e-03 1.12e-02f  1\n",
      "  31r 1.0456367e+02 5.12e+02 1.95e+04   2.7 9.45e+03    -  4.49e-02 1.05e-02f  1\n",
      "  32r 1.0487208e+02 5.10e+02 2.07e+04   2.0 4.28e+03    -  2.32e-02 5.41e-02f  1\n",
      "  33r 1.0473991e+02 5.04e+02 1.89e+04   2.0 1.26e+03    -  5.75e-02 6.39e-02f  1\n",
      "  34r 1.0505614e+02 4.94e+02 1.26e+04   2.0 3.37e+02    -  2.03e-01 1.04e-01f  1\n",
      "  35r 1.0825761e+02 4.80e+02 1.32e+04   2.0 1.50e+02    -  2.76e-01 1.76e-01f  1\n",
      "  36r 1.1335641e+02 4.75e+02 1.16e+04   1.3 7.49e+01    -  6.78e-02 8.13e-02f  1\n",
      "  37r 1.1943947e+02 4.74e+02 1.19e+04   1.3 4.96e+00   2.0 1.58e-01 2.86e-01f  1\n",
      "  38r 1.2434474e+02 4.73e+02 1.43e+04   1.3 1.16e+01   1.5 4.90e-02 1.15e-01f  1\n",
      "  39r 1.2795215e+02 4.71e+02 1.10e+04   1.3 3.48e+01   1.0 2.02e-01 4.71e-02f  1\n",
      "iter    objective    inf_pr   inf_du lg(mu)  ||d||  lg(rg) alpha_du alpha_pr  ls\n",
      "  40r 1.1479951e+02 4.63e+02 9.81e+03   1.3 8.29e+01   0.6 1.34e-01 1.26e-01f  1\n",
      "  41r 5.3415504e+01 4.25e+02 3.00e+05   1.3 1.43e+02   0.1 1.88e-01 3.42e-01f  1\n",
      "  42  4.6648684e+00 4.25e+02 2.19e+02  -1.0 1.51e+06    -  7.43e-04 3.23e-05f  1\n",
      "  43 -6.5138967e+01 4.24e+02 6.81e+03  -1.0 8.81e+04    -  2.39e-02 7.93e-04f  1\n",
      "  44 -6.3762575e+01 4.12e+02 6.41e+03  -1.0 4.38e+03    -  2.76e-02 2.83e-02f  1\n",
      "  45 -5.7359655e+01 3.81e+02 8.00e+03  -1.0 3.59e+03    -  2.75e-02 7.69e-02H  1\n",
      "  46 -5.7266929e+01 3.80e+02 2.19e+03  -1.0 4.56e+03    -  2.15e-02 1.21e-03h  1\n",
      "  47 -2.6467743e+01 3.63e+02 1.50e+04  -1.0 5.22e+03    -  1.34e-03 4.64e-02h  2\n",
      "  48 -2.6419270e+01 3.62e+02 4.03e+05  -1.0 5.44e+02  -0.5 1.21e-01 3.85e-04h  1\n",
      "  49  4.2640395e+00 3.57e+02 3.99e+05  -1.0 2.55e+03    -  6.32e-03 1.38e-02h  4\n",
      "iter    objective    inf_pr   inf_du lg(mu)  ||d||  lg(rg) alpha_du alpha_pr  ls\n",
      "  50  5.0123178e+01 3.52e+02 3.90e+05  -1.0 2.86e+03    -  3.36e-02 1.55e-02h  4\n",
      "  51  9.2025882e+01 3.46e+02 3.80e+05  -1.0 2.41e+03    -  4.29e-02 1.67e-02h  4\n",
      "  52  1.2708891e+02 3.40e+02 3.56e+05  -1.0 1.86e+03    -  1.60e-01 1.79e-02h  4\n",
      "  53  1.5796747e+02 3.33e+02 3.43e+05  -1.0 1.50e+03    -  7.08e-02 1.93e-02h  4\n",
      "  54  1.8372857e+02 3.26e+02 3.10e+05  -1.0 1.15e+03    -  2.90e-01 2.08e-02h  4\n",
      "  55  2.0724558e+02 3.19e+02 2.98e+05  -1.0 9.45e+02    -  1.08e-01 2.27e-02h  4\n",
      "  56  2.4603666e+02 3.03e+02 2.63e+05  -1.0 7.65e+02    -  3.96e-01 4.93e-02h  3\n",
      "  57  2.7289900e+02 2.85e+02 2.44e+05  -1.0 5.92e+02    -  1.78e-01 5.87e-02h  3\n",
      "  58  1.5414985e+02 1.93e+02 2.43e+05  -1.0 4.37e+02    -  6.10e-01 3.25e-01H  1\n",
      "  59  1.5750618e+02 1.69e+02 2.33e+05  -1.0 1.93e+02  -1.0 4.15e-02 1.23e-01h  1\n",
      "iter    objective    inf_pr   inf_du lg(mu)  ||d||  lg(rg) alpha_du alpha_pr  ls\n",
      "  60  1.8278707e+02 1.37e+02 3.82e+05  -1.0 1.69e+02  -1.4 3.32e-01 1.90e-01h  1\n",
      "  61  2.8134853e+02 1.05e+02 3.15e+05  -1.0 3.83e+02  -1.9 2.53e-01 2.34e-01h  1\n",
      "  62  6.1219675e+02 9.68e+01 1.19e+07  -1.0 7.69e+02  -2.4 8.72e-01 8.95e-01h  1\n",
      "  63  1.3675114e+02 3.98e+01 1.15e+06  -1.0 4.87e+02    -  3.91e-01 9.84e-01f  1\n",
      "  64  1.3681265e+02 3.95e+01 1.65e+06  -1.0 7.27e+02  -2.9 4.39e-01 6.24e-03h  1\n",
      "  65  7.9607969e+00 2.50e+01 1.07e+08  -1.0 2.35e+02    -  3.66e-01 8.48e-01f  1\n"
     ]
    },
    {
     "name": "stdout",
     "output_type": "stream",
     "text": [
      "  66  3.1495091e+01 8.23e+00 5.59e+08  -1.0 3.11e+04  -3.3 2.79e-04 4.99e-03h  1\n",
      "  67  6.7065039e+00 1.07e+01 2.11e+08  -1.0 1.48e+02  -2.0 5.78e-02 1.68e-01f  1\n",
      "  68  6.4586249e+00 1.06e+01 2.11e+08  -1.0 6.17e+01  -2.5 3.29e-03 4.01e-03h  1\n",
      "  69  4.2335542e+01 3.17e+00 2.53e+08  -1.0 9.54e+02  -3.0 1.72e-01 6.65e-01H  1\n",
      "iter    objective    inf_pr   inf_du lg(mu)  ||d||  lg(rg) alpha_du alpha_pr  ls\n",
      "  70  4.4742197e+01 3.13e+00 2.50e+08  -1.0 4.11e+02  -1.6 1.51e-01 1.19e-02h  4\n",
      "  71  4.6336114e+01 1.78e-02 2.13e+08  -1.0 4.28e+01  -1.2 1.00e-01 9.96e-01H  1\n",
      "  72  7.7813739e+00 2.13e+00 1.29e+08  -1.0 3.86e+01  -1.7 9.80e-01 1.00e+00f  1\n",
      "  73  6.0337070e+00 2.07e+00 1.27e+08  -1.0 1.78e+02    -  9.05e-01 9.83e-03f  1\n",
      "  74  6.1902793e+00 2.53e-01 2.80e+07  -1.0 2.81e+01    -  1.00e+00 7.82e-01h  1\n",
      "  75  6.3137758e+00 1.14e-01 1.48e+07  -1.0 1.21e+02    -  1.00e+00 4.72e-01f  2\n",
      "  76  6.7724163e+00 1.24e+00 5.18e+06  -1.0 4.09e+02    -  1.00e+00 6.54e-01f  1\n",
      "  77  6.8138317e+00 7.99e-01 4.91e+06  -1.0 6.74e+01    -  1.29e-01 1.00e+00f  1\n",
      "  78  6.6184764e+00 1.80e-01 3.04e+06  -1.0 9.33e+01    -  1.00e+00 1.00e+00h  1\n",
      "  79  6.9766257e+00 1.61e-01 1.32e+06  -1.0 9.82e+01    -  1.00e+00 1.00e+00f  1\n",
      "iter    objective    inf_pr   inf_du lg(mu)  ||d||  lg(rg) alpha_du alpha_pr  ls\n",
      "  80  7.1653405e+00 3.36e-01 2.46e+05  -1.0 1.90e+02    -  6.91e-01 6.90e-01f  1\n",
      "  81  7.1830915e+00 2.89e-01 7.73e+07  -1.0 1.55e+01  -2.2 1.68e-01 1.40e-01f  3\n",
      "  82  7.1315494e+00 2.50e-01 1.13e+08  -1.0 4.56e+01  -2.6 3.44e-01 1.37e-01f  1\n",
      "  83  7.3127587e+00 2.60e-01 1.00e+08  -1.0 3.01e+02    -  5.44e-02 2.01e-01f  1\n",
      "  84  7.3102920e+00 2.59e-01 1.02e+08  -1.0 3.96e+02  -3.1 6.67e-02 4.61e-03f  2\n",
      "  85  7.3091102e+00 2.44e-01 1.01e+08  -1.0 7.33e+01    -  4.48e-02 6.10e-02f  1\n",
      "  86  7.3784290e+00 2.71e-01 1.42e+08  -1.0 1.28e+02    -  6.45e-01 1.00e+00f  1\n",
      "  87  7.2861152e+00 2.63e-01 1.31e+08  -1.0 1.37e+02  -1.8 1.89e-01 3.08e-02f  2\n",
      "  88  7.3156245e+00 1.51e-04 2.57e+07  -1.0 1.13e+00  -1.4 1.00e+00 1.00e+00h  1\n",
      "  89  7.3723802e+00 1.18e-05 3.84e+06  -1.0 8.47e-01  -1.8 1.00e+00 1.00e+00h  1\n",
      "iter    objective    inf_pr   inf_du lg(mu)  ||d||  lg(rg) alpha_du alpha_pr  ls\n",
      "  90  7.3912789e+00 4.46e-03 3.61e+06  -1.0 9.72e+01    -  5.61e-01 1.69e-01f  2\n",
      "  91  7.4090805e+00 6.52e-03 3.20e+06  -1.0 6.60e+01    -  1.00e+00 2.04e-01f  2\n",
      "  92  7.4845925e+00 2.78e-02 1.13e+06  -1.0 4.12e+01    -  1.00e+00 1.00e+00f  1\n",
      "  93  7.4480689e+00 3.73e-03 1.01e+05  -1.0 1.51e+01    -  1.00e+00 1.00e+00h  1\n",
      "  94  7.4477109e+00 3.72e-06 3.06e+01  -1.0 4.73e-01    -  1.00e+00 1.00e+00h  1\n",
      "  95  7.0530198e+00 1.08e-03 7.44e+05  -3.1 8.12e+00    -  9.52e-01 1.00e+00f  1\n",
      "  96  7.0179469e+00 1.53e-02 2.54e+05  -3.1 5.40e+01    -  6.07e-01 5.57e-01h  1\n",
      "  97  6.9560669e+00 2.35e-02 1.04e+05  -3.1 4.10e+01    -  4.22e-01 8.90e-01h  1\n",
      "  98  6.8849963e+00 8.96e-02 1.83e+06  -3.1 9.11e+01    -  1.23e-01 7.88e-01f  1\n",
      "  99  6.8845734e+00 8.75e-02 1.79e+06  -3.1 7.49e+00  -1.4 8.03e-03 2.40e-02h  1\n",
      "iter    objective    inf_pr   inf_du lg(mu)  ||d||  lg(rg) alpha_du alpha_pr  ls\n",
      " 100  6.8845753e+00 8.73e-02 1.86e+06  -3.1 1.28e+00  -1.0 2.17e-01 2.00e-03f  2\n",
      " 101  6.8897471e+00 8.17e-02 1.70e+06  -3.1 3.38e-01  -1.5 3.19e-02 6.41e-02h  1\n",
      " 102  6.8980122e+00 7.15e-02 1.63e+06  -3.1 1.13e+00  -1.9 3.03e-01 1.25e-01f  4\n",
      " 103  6.9666600e+00 5.36e-02 1.22e+06  -3.1 2.76e+00  -1.5 3.69e-01 2.50e-01h  3\n",
      " 104  6.9884724e+00 4.02e-02 9.18e+05  -3.1 2.52e-01  -1.1 1.00e+00 2.50e-01h  3\n",
      " 105  6.9040964e+00 8.91e-05 3.00e+04  -3.1 2.12e+00  -1.6 1.00e+00 1.00e+00h  1\n",
      " 106  6.8667956e+00 8.17e-05 2.50e+04  -3.1 3.20e+00  -2.0 1.00e+00 1.39e-01h  1\n",
      " 107  6.8563426e+00 1.38e-03 2.03e+03  -3.1 9.15e+00    -  1.00e+00 1.00e+00f  1\n",
      " 108  6.7735527e+00 6.80e-02 1.84e+03  -3.1 5.42e+02    -  1.22e-01 1.17e-01f  1\n",
      " 109  6.5862126e+00 3.36e-01 4.78e+03  -3.1 1.54e+02    -  1.00e+00 9.18e-01h  1\n",
      "iter    objective    inf_pr   inf_du lg(mu)  ||d||  lg(rg) alpha_du alpha_pr  ls\n",
      " 110  6.5191564e+00 1.21e-01 6.04e+05  -3.1 7.08e+01    -  6.52e-03 8.02e-01f  1\n",
      " 111  6.5368777e+00 3.16e-03 5.05e+03  -3.1 1.39e+01    -  1.00e+00 1.00e+00h  1\n",
      " 112  6.3709448e+00 2.99e-01 1.82e+03  -3.1 2.09e+02    -  6.32e-01 6.42e-01f  1\n",
      " 113  5.9887690e+00 1.71e+00 1.00e+03  -3.1 3.19e+02    -  1.00e+00 1.00e+00h  1\n",
      " 114  5.8699231e+00 1.17e+00 5.17e+03  -3.1 2.54e+02    -  2.11e-01 4.48e-01h  1\n",
      " 115  5.3431873e+00 4.39e+00 1.25e+04  -3.1 5.06e+02    -  4.12e-01 1.00e+00h  1\n",
      " 116  5.1899784e+00 3.56e+00 3.18e+04  -3.1 5.69e+02    -  5.49e-01 3.53e-01h  1\n",
      " 117  4.6090871e+00 1.24e+01 1.72e+04  -3.1 8.35e+02    -  7.37e-01 1.00e+00h  1\n",
      " 118  4.8240645e+00 5.26e-01 2.79e+03  -3.1 2.21e+01    -  1.84e-01 1.00e+00h  1\n",
      " 119  4.8279427e+00 2.32e-04 9.39e+00  -3.1 5.29e-01  -2.5 1.00e+00 1.00e+00h  1\n",
      "iter    objective    inf_pr   inf_du lg(mu)  ||d||  lg(rg) alpha_du alpha_pr  ls\n",
      " 120  4.7597164e+00 3.14e+00 6.63e+03  -3.1 2.85e+02    -  3.97e-01 1.00e+00f  1\n",
      " 121  4.7883035e+00 1.89e-02 2.45e+00  -3.1 3.03e+01    -  1.00e+00 1.00e+00h  1\n",
      " 122  4.7888121e+00 6.43e-05 1.12e-02  -3.1 1.73e+00    -  1.00e+00 1.00e+00h  1\n",
      " 123  4.7868715e+00 2.65e-04 2.95e+04  -4.8 5.14e+00    -  1.00e+00 6.81e-01h  1\n",
      " 124  4.7868979e+00 5.47e-05 2.25e+00  -4.8 1.65e+00    -  1.00e+00 1.00e+00h  1\n",
      " 125  4.7868943e+00 7.95e-08 3.40e-04  -4.8 6.34e-02    -  1.00e+00 1.00e+00h  1\n",
      " 126  4.7868942e+00 1.73e-10 1.50e-10  -4.8 1.50e-07    -  1.00e+00 1.00e+00h  1\n",
      " 127  4.7868764e+00 1.53e-07 4.70e-03  -6.0 8.74e-02    -  1.00e+00 1.00e+00h  1\n",
      " 128  4.7868766e+00 1.41e-10 2.38e-09  -6.0 1.37e-05    -  1.00e+00 1.00e+00h  1\n",
      " 129  4.7868755e+00 6.19e-10 1.92e-05  -7.6 5.57e-03    -  1.00e+00 1.00e+00h  1\n",
      "iter    objective    inf_pr   inf_du lg(mu)  ||d||  lg(rg) alpha_du alpha_pr  ls\n",
      " 130  4.7868755e+00 2.15e-11 3.43e-11  -7.6 3.81e-06    -  1.00e+00 1.00e+00h  1\n",
      " 131  4.7868755e+00 9.70e-11 1.81e-08  -9.0 1.71e-04    -  1.00e+00 1.00e+00h  1\n",
      " 132  4.7868755e+00 1.41e-10 6.41e-11  -9.0 1.26e-04    -  1.00e+00 1.00e+00h  1\n",
      "\n",
      "Number of Iterations....: 132\n",
      "\n",
      "                                   (scaled)                 (unscaled)\n",
      "Objective...............:   3.7397464649415575e+00    4.7868754751251936e+00\n",
      "Dual infeasibility......:   6.4113346622855167e-11    8.2065083677254610e-11\n",
      "Constraint violation....:   1.4051154012019451e-10    1.4051154012019451e-10\n",
      "Complementarity.........:   9.1103804066006484e-10    1.1661286920448831e-09\n",
      "Overall NLP error.......:   9.1103804066006484e-10    1.1661286920448831e-09\n",
      "\n",
      "\n",
      "Number of objective function evaluations             = 245\n",
      "Number of objective gradient evaluations             = 117\n",
      "Number of equality constraint evaluations            = 245\n",
      "Number of inequality constraint evaluations          = 245\n",
      "Number of equality constraint Jacobian evaluations   = 138\n",
      "Number of inequality constraint Jacobian evaluations = 138\n",
      "Number of Lagrangian Hessian evaluations             = 132\n",
      "Total CPU secs in IPOPT (w/o function evaluations)   =      7.401\n",
      "Total CPU secs in NLP function evaluations           =      0.318\n",
      "\n",
      "EXIT: Optimal Solution Found.\n"
     ]
    }
   ],
   "source": [
    "results = opt.solve(model,tee=True)\n",
    "update_dual(pe,model)"
   ]
  },
  {
   "cell_type": "code",
   "execution_count": 26,
   "metadata": {},
   "outputs": [
    {
     "data": {
      "text/plain": [
       "-4.7868754839615555"
      ]
     },
     "execution_count": 26,
     "metadata": {},
     "output_type": "execute_result"
    }
   ],
   "source": [
    "43*model.P_naphtha.value + 90*model.P_gasoline.value + 128*model.P_diesel.value + 100*model.P_heavy.value + 1.3*model.P_light.value - 2.24*model.F.value\n",
    "# 54*model.P_naphtha.value + 112*model.P_gasoline.value + 161*model.P_diesel.value + 350*model.P_heavy.value + 1.3*model.P_light.value - 2.24*model.F.value"
   ]
  },
  {
   "cell_type": "code",
   "execution_count": 27,
   "metadata": {
    "scrolled": false
   },
   "outputs": [
    {
     "name": "stdout",
     "output_type": "stream",
     "text": [
      "Solved, Feed = 10.00\tObj = -4.79\n",
      "Solved, Feed = 9.66\tObj = -4.54\n",
      "Solved, Feed = 9.31\tObj = -4.30\n",
      "Solved, Feed = 8.97\tObj = -4.06\n",
      "Solved, Feed = 8.62\tObj = -3.83\n",
      "Solved, Feed = 8.28\tObj = -3.60\n",
      "Solved, Feed = 7.93\tObj = -3.38\n",
      "Solved, Feed = 7.59\tObj = -3.17\n",
      "Solved, Feed = 7.24\tObj = -2.96\n",
      "Solved, Feed = 6.90\tObj = -2.75\n",
      "Solved, Feed = 6.55\tObj = -2.56\n",
      "Solved, Feed = 6.21\tObj = -2.36\n",
      "Solved, Feed = 5.86\tObj = -2.18\n",
      "Solved, Feed = 5.52\tObj = -2.00\n",
      "Solved, Feed = 5.17\tObj = -1.82\n",
      "Solved, Feed = 4.83\tObj = -1.65\n",
      "Solved, Feed = 4.48\tObj = -1.49\n",
      "Solved, Feed = 4.14\tObj = -1.34\n",
      "Solved, Feed = 3.79\tObj = -1.19\n",
      "Solved, Feed = 3.45\tObj = -1.04\n",
      "Solved, Feed = 3.10\tObj = -0.91\n",
      "Solved, Feed = 2.76\tObj = -0.78\n",
      "Solved, Feed = 2.41\tObj = -0.65\n",
      "Solved, Feed = 2.07\tObj = -0.54\n",
      "Solved, Feed = 1.72\tObj = -0.43\n",
      "Solved, Feed = 1.38\tObj = -0.33\n",
      "Solved, Feed = 1.04\tObj = -0.23\n",
      "Solved, Feed = 0.69\tObj = -0.15\n",
      "Solved, Feed = 0.35\tObj = -0.07\n",
      "Solved, Feed = 0.00\tObj = -0.00\n"
     ]
    }
   ],
   "source": [
    "import numpy as np\n",
    "F_range = np.linspace(10,1e-3,30)\n",
    "Obj_list = []\n",
    "\n",
    "for f in F_range:\n",
    "    model.F.unfix()\n",
    "    model.F.fix(f)\n",
    "    \n",
    "    results = opt.solve(model,tee=False)\n",
    "    update_dual(pe,model)\n",
    "    \n",
    "    obj = 43*model.P_naphtha.value + 90*model.P_gasoline.value + 128*model.P_diesel.value + 100*model.P_heavy.value + 1.3*model.P_light.value - 2.24*model.F.value\n",
    "    Obj_list.append(obj)\n",
    "    \n",
    "    print('Solved, Feed = {:.2f}\\tObj = {:.2f}'.format(f,obj))"
   ]
  },
  {
   "cell_type": "code",
   "execution_count": 28,
   "metadata": {},
   "outputs": [
    {
     "data": {
      "image/png": "[encoded data removed]",
      "text/plain": [
       "<Figure size 1152x648 with 1 Axes>"
      ]
     },
     "metadata": {},
     "output_type": "display_data"
    }
   ],
   "source": [
    "fig, ax = plt.subplots(figsize=(16,9))\n",
    "line = ax.plot(F_range,Obj_list, 'b-')\n",
    "ax.set_xlabel('Feed (kmol/s)',fontsize=18)\n",
    "ax.set_ylabel('Profit-3',fontsize=18)\n",
    "ax.tick_params('y',labelsize=18)\n",
    "ax.tick_params('x',labelsize=18)\n",
    "ax.grid()\n",
    "\n",
    "plt.show()"
   ]
  },
  {
   "cell_type": "code",
   "execution_count": 29,
   "metadata": {},
   "outputs": [],
   "source": [
    "# model.solutions.store_to(results)\n",
    "# with open('../../saved_solutions/reactive_flash_MPCC_P_200C.pickle','wb') as f:\n",
    "#     pickle.dump(results,f)"
   ]
  },
  {
   "cell_type": "code",
   "execution_count": 30,
   "metadata": {},
   "outputs": [],
   "source": [
    "# with open('test_model.pickle','wb') as f:\n",
    "#     dill.dump(model,f)"
   ]
  }
 ],
 "metadata": {
  "kernelspec": {
   "display_name": "Python 3",
   "language": "python",
   "name": "python3"
  },
  "language_info": {
   "codemirror_mode": {
    "name": "ipython",
    "version": 3
   },
   "file_extension": ".py",
   "mimetype": "text/x-python",
   "name": "python",
   "nbconvert_exporter": "python",
   "pygments_lexer": "ipython3",
   "version": "3.6.5"
  }
 },
 "nbformat": 4,
 "nbformat_minor": 2
}
