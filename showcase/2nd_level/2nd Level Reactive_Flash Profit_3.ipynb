{
 "cells": [
  {
   "cell_type": "markdown",
   "metadata": {
    "slideshow": {
     "slide_type": "slide"
    }
   },
   "source": [
    "# 2nd Level Model Structure: Reactive Stage"
   ]
  },
  {
   "cell_type": "code",
   "execution_count": 1,
   "metadata": {},
   "outputs": [],
   "source": [
    "import sys\n",
    "import os\n",
    "import dill\n",
    "import pickle\n",
    "sys.path.append(os.path.abspath('..'))\n",
    "sys.path.append(os.path.abspath('../..'))\n",
    "import numpy as np\n",
    "from matplotlib import pyplot as plt"
   ]
  },
  {
   "cell_type": "code",
   "execution_count": 2,
   "metadata": {
    "slideshow": {
     "slide_type": "fragment"
    }
   },
   "outputs": [
    {
     "name": "stderr",
     "output_type": "stream",
     "text": [
      "/Users/yanyanhu/Documents/GitHub/FT-Reactive-Distillation-Pyomo/utility/display_utility.py:5: UserWarning: \n",
      "This call to matplotlib.use() has no effect because the backend has already\n",
      "been chosen; matplotlib.use() must be called *before* pylab, matplotlib.pyplot,\n",
      "or matplotlib.backends is imported for the first time.\n",
      "\n",
      "The backend was *originally* set to 'module://ipykernel.pylab.backend_inline' by the following code:\n",
      "  File \"/anaconda3/lib/python3.6/runpy.py\", line 193, in _run_module_as_main\n",
      "    \"__main__\", mod_spec)\n",
      "  File \"/anaconda3/lib/python3.6/runpy.py\", line 85, in _run_code\n",
      "    exec(code, run_globals)\n",
      "  File \"/anaconda3/lib/python3.6/site-packages/ipykernel_launcher.py\", line 16, in <module>\n",
      "    app.launch_new_instance()\n",
      "  File \"/anaconda3/lib/python3.6/site-packages/traitlets/config/application.py\", line 658, in launch_instance\n",
      "    app.start()\n",
      "  File \"/anaconda3/lib/python3.6/site-packages/ipykernel/kernelapp.py\", line 486, in start\n",
      "    self.io_loop.start()\n",
      "  File \"/anaconda3/lib/python3.6/site-packages/tornado/platform/asyncio.py\", line 127, in start\n",
      "    self.asyncio_loop.run_forever()\n",
      "  File \"/anaconda3/lib/python3.6/asyncio/base_events.py\", line 422, in run_forever\n",
      "    self._run_once()\n",
      "  File \"/anaconda3/lib/python3.6/asyncio/base_events.py\", line 1432, in _run_once\n",
      "    handle._run()\n",
      "  File \"/anaconda3/lib/python3.6/asyncio/events.py\", line 145, in _run\n",
      "    self._callback(*self._args)\n",
      "  File \"/anaconda3/lib/python3.6/site-packages/tornado/platform/asyncio.py\", line 117, in _handle_events\n",
      "    handler_func(fileobj, events)\n",
      "  File \"/anaconda3/lib/python3.6/site-packages/tornado/stack_context.py\", line 276, in null_wrapper\n",
      "    return fn(*args, **kwargs)\n",
      "  File \"/anaconda3/lib/python3.6/site-packages/zmq/eventloop/zmqstream.py\", line 450, in _handle_events\n",
      "    self._handle_recv()\n",
      "  File \"/anaconda3/lib/python3.6/site-packages/zmq/eventloop/zmqstream.py\", line 480, in _handle_recv\n",
      "    self._run_callback(callback, msg)\n",
      "  File \"/anaconda3/lib/python3.6/site-packages/zmq/eventloop/zmqstream.py\", line 432, in _run_callback\n",
      "    callback(*args, **kwargs)\n",
      "  File \"/anaconda3/lib/python3.6/site-packages/tornado/stack_context.py\", line 276, in null_wrapper\n",
      "    return fn(*args, **kwargs)\n",
      "  File \"/anaconda3/lib/python3.6/site-packages/ipykernel/kernelbase.py\", line 283, in dispatcher\n",
      "    return self.dispatch_shell(stream, msg)\n",
      "  File \"/anaconda3/lib/python3.6/site-packages/ipykernel/kernelbase.py\", line 233, in dispatch_shell\n",
      "    handler(stream, idents, msg)\n",
      "  File \"/anaconda3/lib/python3.6/site-packages/ipykernel/kernelbase.py\", line 399, in execute_request\n",
      "    user_expressions, allow_stdin)\n",
      "  File \"/anaconda3/lib/python3.6/site-packages/ipykernel/ipkernel.py\", line 208, in do_execute\n",
      "    res = shell.run_cell(code, store_history=store_history, silent=silent)\n",
      "  File \"/anaconda3/lib/python3.6/site-packages/ipykernel/zmqshell.py\", line 537, in run_cell\n",
      "    return super(ZMQInteractiveShell, self).run_cell(*args, **kwargs)\n",
      "  File \"/anaconda3/lib/python3.6/site-packages/IPython/core/interactiveshell.py\", line 2666, in run_cell\n",
      "    self.events.trigger('post_run_cell', result)\n",
      "  File \"/anaconda3/lib/python3.6/site-packages/IPython/core/events.py\", line 88, in trigger\n",
      "    func(*args, **kwargs)\n",
      "  File \"/anaconda3/lib/python3.6/site-packages/ipykernel/pylab/backend_inline.py\", line 160, in configure_once\n",
      "    activate_matplotlib(backend)\n",
      "  File \"/anaconda3/lib/python3.6/site-packages/IPython/core/pylabtools.py\", line 311, in activate_matplotlib\n",
      "    matplotlib.pyplot.switch_backend(backend)\n",
      "  File \"/anaconda3/lib/python3.6/site-packages/matplotlib/pyplot.py\", line 231, in switch_backend\n",
      "    matplotlib.use(newbackend, warn=False, force=True)\n",
      "  File \"/anaconda3/lib/python3.6/site-packages/matplotlib/__init__.py\", line 1410, in use\n",
      "    reload(sys.modules['matplotlib.backends'])\n",
      "  File \"/anaconda3/lib/python3.6/importlib/__init__.py\", line 166, in reload\n",
      "    _bootstrap._exec(spec, module)\n",
      "  File \"/anaconda3/lib/python3.6/site-packages/matplotlib/backends/__init__.py\", line 16, in <module>\n",
      "    line for line in traceback.format_stack()\n",
      "\n",
      "\n",
      "  matplotlib.use(\"Agg\")\n"
     ]
    }
   ],
   "source": [
    "from pyomo import environ as pe\n",
    "from global_sets.component import m\n",
    "from utility.display_utility import trans_product_mole, trans_product_mass\n",
    "from utility.model_utility import add_dual, update_dual, check_DOF, augmented_objective, add_solver,\\\n",
    "                                    select_MPCC, which_MPCC, disable_restoration\n",
    "from utility.data_utility import cal_cnumber\n",
    "\n",
    "# stage construction rules\n",
    "from physics.kinetics.kinetics_reactive import kinetic_block_rule\n",
    "from physics.energy.energy_reactive import energy_block_rule\n",
    "from physics.VLE.VLE_reactive_MPCC_P import VLE_block_rule\n",
    "from physics.MPCC.MPCC_P import P_NCP_block_rule, P_Reg_block_rule, P_pf_block_rule"
   ]
  },
  {
   "cell_type": "code",
   "execution_count": 3,
   "metadata": {},
   "outputs": [],
   "source": [
    "model = pe.ConcreteModel()"
   ]
  },
  {
   "cell_type": "markdown",
   "metadata": {
    "slideshow": {
     "slide_type": "subslide"
    }
   },
   "source": [
    "# Global Sets (Inlet / Outlet)"
   ]
  },
  {
   "cell_type": "code",
   "execution_count": 4,
   "metadata": {
    "slideshow": {
     "slide_type": "fragment"
    }
   },
   "outputs": [],
   "source": [
    "model.inlet = pe.Set(initialize=['in','R'])\n",
    "model.outlet = pe.Set(initialize=['out','P'])\n",
    "model.stream = model.inlet | model.outlet"
   ]
  },
  {
   "cell_type": "code",
   "execution_count": 5,
   "metadata": {},
   "outputs": [],
   "source": [
    "model.comp_light = pe.Set(initialize = [i for i in m.COMP_ORG if cal_cnumber(i) >= 1 and cal_cnumber(i) <= 4])\n",
    "model.comp_naphtha = pe.Set(initialize = [i for i in m.COMP_ORG if cal_cnumber(i) >= 5 and cal_cnumber(i) <= 7])\n",
    "model.comp_gasoline = pe.Set(initialize = [i for i in m.COMP_ORG if cal_cnumber(i) >= 8 and cal_cnumber(i) <= 12])\n",
    "model.comp_diesel = pe.Set(initialize = [i for i in m.COMP_ORG if cal_cnumber(i) >= 13 and cal_cnumber(i) <= 18])\n",
    "model.comp_heavy = pe.Set(initialize = [i for i in m.COMP_ORG if cal_cnumber(i) >= 19 and cal_cnumber(i) <= 56])"
   ]
  },
  {
   "cell_type": "markdown",
   "metadata": {
    "slideshow": {
     "slide_type": "subslide"
    }
   },
   "source": [
    "# Global Variables"
   ]
  },
  {
   "cell_type": "code",
   "execution_count": 6,
   "metadata": {
    "slideshow": {
     "slide_type": "fragment"
    }
   },
   "outputs": [],
   "source": [
    "# Tray Inlet/Outlet Variable\n",
    "model.x_ = pe.Var(model.inlet,m.COMP_TOTAL,within=pe.NonNegativeReals)\n",
    "model.y_ = pe.Var(model.inlet,m.COMP_TOTAL,within=pe.NonNegativeReals)\n",
    "model.x = pe.Var(m.COMP_TOTAL,within=pe.NonNegativeReals)\n",
    "model.y = pe.Var(m.COMP_TOTAL,within=pe.NonNegativeReals)\n",
    "model.z = pe.Var(m.COMP_FEED,within=pe.NonNegativeReals)\n",
    "\n",
    "model.L = pe.Var(model.stream,within=pe.NonNegativeReals)\n",
    "model.V = pe.Var(model.stream,within=pe.NonNegativeReals)\n",
    "model.F = pe.Var(within=pe.NonNegativeReals)\n",
    "\n",
    "model.H_L_ = pe.Var(model.inlet,within=pe.Reals)\n",
    "model.H_V_ = pe.Var(model.inlet,within=pe.Reals)\n",
    "model.H_L = pe.Var(within=pe.Reals)\n",
    "model.H_V = pe.Var(within=pe.Reals)\n",
    "model.H_F = pe.Var(within=pe.Reals)\n",
    "\n",
    "# State Variable\n",
    "model.T = pe.Var(within=pe.NonNegativeReals,bounds=(200+273.15,300+273.15)) # K\n",
    "model.T_F = pe.Var(within=pe.NonNegativeReals) # K\n",
    "model.P = pe.Var(within=pe.NonNegativeReals,bounds=(10,30)) # Bar\n",
    "\n",
    "model.f_V = pe.Var(m.COMP_TOTAL,within=pe.NonNegativeReals,initialize=1e-20)\n",
    "model.f_L = pe.Var(m.COMP_TOTAL,within=pe.NonNegativeReals,initialize=1e-20)\n",
    "\n",
    "model.cat = pe.Var(within=pe.NonNegativeReals,initialize=30000) # kg\n",
    "model.Q_main = pe.Var(within=pe.Reals) # MW\n",
    "model.r_total_comp = pe.Var(m.COMP_TOTAL,within=pe.Reals) # kmol/s"
   ]
  },
  {
   "cell_type": "code",
   "execution_count": 7,
   "metadata": {},
   "outputs": [],
   "source": [
    "model.P_light = pe.Var(within=pe.NonNegativeReals)\n",
    "model.P_naphtha = pe.Var(within=pe.NonNegativeReals)\n",
    "model.P_gasoline = pe.Var(within=pe.NonNegativeReals)\n",
    "model.P_diesel = pe.Var(within=pe.NonNegativeReals)\n",
    "model.P_heavy = pe.Var(within=pe.NonNegativeReals)"
   ]
  },
  {
   "cell_type": "markdown",
   "metadata": {
    "slideshow": {
     "slide_type": "slide"
    }
   },
   "source": [
    "# Construct Individual Blocks"
   ]
  },
  {
   "cell_type": "code",
   "execution_count": 8,
   "metadata": {},
   "outputs": [],
   "source": [
    "if model.find_component('kinetics_block'):\n",
    "    print('haha')"
   ]
  },
  {
   "cell_type": "code",
   "execution_count": 9,
   "metadata": {
    "slideshow": {
     "slide_type": "subslide"
    }
   },
   "outputs": [
    {
     "name": "stdout",
     "output_type": "stream",
     "text": [
      "> Importing Kinetics Blocks......\n",
      "> Adding the following local variable:\n",
      "--------------------------------------------------\n",
      "| kinetics_block.k_FT\n",
      "| kinetics_block.r_FT_total\n",
      "| kinetics_block.g0_FT\n",
      "| kinetics_block.alpha\n",
      "| kinetics_block.r_FT_cnum\n",
      "| kinetics_block.r_FT_comp\n",
      "| kinetics_block.k_WGS\n",
      "| kinetics_block.Ke_WGS\n",
      "| kinetics_block.r_WGS\n",
      "| kinetics_block.r_WGS_comp\n",
      "--------------------------------------------------\n",
      "\n"
     ]
    }
   ],
   "source": [
    "model.kinetics_block = pe.Block(rule=kinetic_block_rule)"
   ]
  },
  {
   "cell_type": "code",
   "execution_count": 10,
   "metadata": {
    "slideshow": {
     "slide_type": "subslide"
    }
   },
   "outputs": [
    {
     "name": "stdout",
     "output_type": "stream",
     "text": [
      "> Importing Energy Blocks......\n",
      "> Adding the following local variable:\n",
      "--------------------------------------------------\n",
      "| energy_block.dH_F\n",
      "| energy_block.dH_V\n",
      "| energy_block.dH_L\n",
      "| energy_block.dH_vap\n",
      "--------------------------------------------------\n",
      "\n"
     ]
    }
   ],
   "source": [
    "model.energy_block = pe.Block(rule=energy_block_rule)"
   ]
  },
  {
   "cell_type": "code",
   "execution_count": 11,
   "metadata": {
    "scrolled": false,
    "slideshow": {
     "slide_type": "subslide"
    }
   },
   "outputs": [
    {
     "name": "stdout",
     "output_type": "stream",
     "text": [
      "> Importing VLE Blocks......\n",
      "> Adding the following local variable:\n",
      "--------------------------------------------------\n",
      "| VLE_block.P_VLE\n",
      "| VLE_block.n_ave\n",
      "| VLE_block.n_ave_cal\n",
      "| VLE_block.Hen\n",
      "| VLE_block.Hen0\n",
      "| VLE_block.gamma\n",
      "| VLE_block.P_sat\n",
      "| VLE_block.P_sat_Y\n",
      "| VLE_block.P_sat_dY_inf\n",
      "| VLE_block.P_sat_dY0\n",
      "| VLE_block.Hen_ref\n",
      "| VLE_block.Hen0_ref\n",
      "| VLE_block.gamma_ref\n",
      "| VLE_block.V_L\n",
      "| VLE_block.V_L_dY_inf\n",
      "| VLE_block.V_L_dY0\n",
      "| VLE_block.poynting\n",
      "--------------------------------------------------\n",
      "\n"
     ]
    }
   ],
   "source": [
    "model.VLE_block = pe.Block(rule=VLE_block_rule)"
   ]
  },
  {
   "cell_type": "markdown",
   "metadata": {
    "slideshow": {
     "slide_type": "slide"
    }
   },
   "source": [
    "# Standard MESH Equations"
   ]
  },
  {
   "cell_type": "markdown",
   "metadata": {
    "slideshow": {
     "slide_type": "subslide"
    }
   },
   "source": [
    "## Mass Balance"
   ]
  },
  {
   "cell_type": "markdown",
   "metadata": {
    "slideshow": {
     "slide_type": "fragment"
    }
   },
   "source": [
    "\\begin{equation}\n",
    "Fz_{i}+\\sum_{s\\in{inlet}}L_{s}x'_{i,s}+\\sum_{s\\in{inlet}}V_{s}y'_{i,s}-\\sum_{s\\in{outlet}}L_{s}x_{i,s}+\\sum_{s\\in{ouelet}}V_{s}y_{i,s}+R_{i} = 0 \\\\\n",
    "i = 1,...NC\n",
    "\\end{equation}"
   ]
  },
  {
   "cell_type": "code",
   "execution_count": 12,
   "metadata": {
    "slideshow": {
     "slide_type": "fragment"
    }
   },
   "outputs": [],
   "source": [
    "def mass_balance_main_rule(model,i):\n",
    "    if i in m.COMP_FEED:\n",
    "        return model.F*model.z[i] + sum(model.L[s]*model.x_[s,i] + model.V[s]*model.y_[s,i] for s in model.inlet)\\\n",
    "        + model.r_total_comp[i] - sum(model.L[s]*model.x[i] + model.V[s]*model.y[i] for s in model.outlet) == 0\n",
    "    else:\n",
    "        return sum(model.L[s]*model.x_[s,i] + model.V[s]*model.y_[s,i] for s in model.inlet)\\\n",
    "        + model.r_total_comp[i] - sum(model.L[s]*model.x[i] + model.V[s]*model.y[i] for s in model.outlet) == 0\n",
    "model.mass_balance_main_con = pe.Constraint(m.COMP_TOTAL,rule=mass_balance_main_rule)"
   ]
  },
  {
   "cell_type": "markdown",
   "metadata": {
    "slideshow": {
     "slide_type": "subslide"
    }
   },
   "source": [
    "## Equilibrium"
   ]
  },
  {
   "cell_type": "markdown",
   "metadata": {
    "slideshow": {
     "slide_type": "fragment"
    }
   },
   "source": [
    "\\begin{align}\n",
    "&f_{i,V} = f_{i,L} \\\\\n",
    "&i = 1,...NC\n",
    "\\end{align}"
   ]
  },
  {
   "cell_type": "code",
   "execution_count": 13,
   "metadata": {
    "slideshow": {
     "slide_type": "fragment"
    }
   },
   "outputs": [],
   "source": [
    "def VL_equil_rule(model,i):\n",
    "    return model.f_V[i] == model.f_L[i]\n",
    "model.VL_equil_con = pe.Constraint(m.COMP_TOTAL,rule=VL_equil_rule)"
   ]
  },
  {
   "cell_type": "markdown",
   "metadata": {
    "slideshow": {
     "slide_type": "subslide"
    }
   },
   "source": [
    "## Summation"
   ]
  },
  {
   "cell_type": "markdown",
   "metadata": {
    "slideshow": {
     "slide_type": "fragment"
    }
   },
   "source": [
    "\\begin{equation}\n",
    "\\sum_ix_{i} = \\sum_iy_{i} \\\\\n",
    "F + L_{in} + V_{in} + R = L_{out} + V_{out}\n",
    "\\end{equation}"
   ]
  },
  {
   "cell_type": "code",
   "execution_count": 14,
   "metadata": {
    "slideshow": {
     "slide_type": "fragment"
    }
   },
   "outputs": [],
   "source": [
    "def summation_x_y_rule(model):\n",
    "    return sum(model.x[i] for i in m.COMP_TOTAL) == sum(model.y[i] for i in m.COMP_TOTAL)\n",
    "model.summation_x_y_con = pe.Constraint(rule=summation_x_y_rule)\n",
    "\n",
    "def summation_total_mass_rule(model):\n",
    "    return model.F + sum(model.L[s] + model.V[s] for s in model.inlet) + sum(model.r_total_comp[i] for i in m.COMP_TOTAL)\\\n",
    "            - sum(model.L[s] + model.V[s] for s in model.outlet) == 0\n",
    "model.summation_total_mass_con = pe.Constraint(rule=summation_total_mass_rule)"
   ]
  },
  {
   "cell_type": "markdown",
   "metadata": {
    "slideshow": {
     "slide_type": "subslide"
    }
   },
   "source": [
    "## Energy Balance"
   ]
  },
  {
   "cell_type": "markdown",
   "metadata": {
    "slideshow": {
     "slide_type": "fragment"
    }
   },
   "source": [
    "\\begin{equation}\n",
    "F H_f+\\sum_{s\\in{inlet}}L_{s}H_{l,s}+\\sum_{s\\in{inlet}}V_{s}H_{v,s}-\\sum_{s\\in{outlet}}L_{s}H_{l,s}-\\sum_{s\\in{outlet}}V_{s}H_{v,s}+Q = 0\n",
    "\\end{equation}"
   ]
  },
  {
   "cell_type": "code",
   "execution_count": 15,
   "metadata": {
    "slideshow": {
     "slide_type": "fragment"
    }
   },
   "outputs": [],
   "source": [
    "def heat_balance_main_rule(model):\n",
    "    return model.F*model.H_F + sum(model.L[s]*model.H_L_[s] + model.V[s]*model.H_V_[s] for s in model.inlet) \\\n",
    "            + model.Q_main - sum(model.L[s]*model.H_L + model.V[s]*model.H_V for s in model.outlet) == 0\n",
    "model.heat_balance_main_con = pe.Constraint(rule=heat_balance_main_rule)"
   ]
  },
  {
   "cell_type": "markdown",
   "metadata": {},
   "source": [
    "# Product Amount / Total Revenue"
   ]
  },
  {
   "cell_type": "code",
   "execution_count": 16,
   "metadata": {},
   "outputs": [],
   "source": [
    "def P_light_rule(model):\n",
    "    return model.P_light == model.V['out'] * sum(model.y[i] for i in model.comp_light) + \\\n",
    "                            model.L['out'] * sum(model.x[i] for i in model.comp_light)\n",
    "model.P_light_con = pe.Constraint(rule=P_light_rule)\n",
    "\n",
    "def P_naphtha_rule(model):\n",
    "    return model.P_naphtha == model.V['out'] * sum(model.y[i] for i in model.comp_naphtha) + \\\n",
    "                              model.L['out'] * sum(model.x[i] for i in model.comp_naphtha)\n",
    "model.P_naphtha_con = pe.Constraint(rule=P_naphtha_rule)\n",
    "\n",
    "def P_gasoline_rule(model):\n",
    "    return model.P_gasoline == model.V['out'] * sum(model.y[i] for i in model.comp_gasoline) + \\\n",
    "                               model.L['out'] * sum(model.x[i] for i in model.comp_gasoline)\n",
    "model.P_gasoline_con = pe.Constraint(rule=P_gasoline_rule)\n",
    "\n",
    "def P_diesel_rule(model):\n",
    "    return model.P_diesel == model.V['out'] * sum(model.y[i] for i in model.comp_diesel) + \\\n",
    "                             model.L['out'] * sum(model.x[i] for i in model.comp_diesel)\n",
    "model.P_diesel_con = pe.Constraint(rule=P_diesel_rule)\n",
    "\n",
    "def P_heavy_rule(model):\n",
    "    return model.P_heavy == model.V['out'] * sum(model.y[i] for i in model.comp_heavy) + \\\n",
    "                             model.L['out'] * sum(model.x[i] for i in model.comp_heavy)\n",
    "model.P_heavy_con = pe.Constraint(rule=P_heavy_rule)"
   ]
  },
  {
   "cell_type": "markdown",
   "metadata": {},
   "source": [
    "## MPCC: Add all three"
   ]
  },
  {
   "cell_type": "code",
   "execution_count": 17,
   "metadata": {
    "scrolled": false
   },
   "outputs": [
    {
     "name": "stdout",
     "output_type": "stream",
     "text": [
      "> Importing MPCC_P_pf Blocks......\n",
      "> Adding the following local variable:\n",
      "--------------------------------------------------\n",
      "| MPCC_P_pf.s_L\n",
      "| MPCC_P_pf.s_V\n",
      "| MPCC_P_pf.pf\n",
      "| MPCC_P_pf.epi\n",
      "| MPCC_P_pf.rho\n",
      "--------------------------------------------------\n",
      "> Spliting pressure used in VLE\n",
      "Deleted original P_equal constraint\n",
      "\n",
      "> Deleted kinetics rates constraints\n",
      "> Added f_V_MPCC, updated rates constraints\n",
      "\n",
      "> Importing MPCC_P_NCP Blocks......\n",
      "> Adding the following local variable:\n",
      "--------------------------------------------------\n",
      "| MPCC_P_NCP.s_L\n",
      "| MPCC_P_NCP.s_V\n",
      "| MPCC_P_NCP.epi\n",
      "--------------------------------------------------\n",
      "> Adding complementarity constraint, spliting pressure used in VLE\n",
      "> No constraint to delete\n",
      "\n",
      "> Already replaced f_V_MPCC\n",
      "\n",
      "> Importing MPCC_P_Reg Blocks......\n",
      "> Adding the following local variable:\n",
      "--------------------------------------------------\n",
      "| MPCC_P_Reg.s_L\n",
      "| MPCC_P_Reg.s_V\n",
      "| MPCC_P_Reg.epi\n",
      "--------------------------------------------------\n",
      "> Adding complementarity constraint, spliting pressure used in VLE\n",
      "No constraint to delete\n",
      "\n",
      "> Already replaced f_V_MPCC\n",
      "\n"
     ]
    }
   ],
   "source": [
    "model.MPCC_P_pf = pe.Block(rule = P_pf_block_rule)\n",
    "model.MPCC_P_NCP = pe.Block(rule = P_NCP_block_rule)\n",
    "model.MPCC_P_Reg = pe.Block(rule = P_Reg_block_rule)"
   ]
  },
  {
   "cell_type": "code",
   "execution_count": 18,
   "metadata": {
    "scrolled": true
   },
   "outputs": [
    {
     "name": "stdout",
     "output_type": "stream",
     "text": [
      "> Selected MPCC: MPCC_P_pf\n",
      "s_L:  0\n",
      "s_V:  0\n",
      "\n"
     ]
    }
   ],
   "source": [
    "select_MPCC(model,'pf')"
   ]
  },
  {
   "cell_type": "markdown",
   "metadata": {
    "slideshow": {
     "slide_type": "slide"
    }
   },
   "source": [
    "# Testing"
   ]
  },
  {
   "cell_type": "code",
   "execution_count": 19,
   "metadata": {
    "slideshow": {
     "slide_type": "fragment"
    }
   },
   "outputs": [
    {
     "name": "stdout",
     "output_type": "stream",
     "text": [
      "Created the follow pyomo suffixes:\n",
      "ipopt_zL_out, ipopt_zU_out, ipopt_zL_in, ipopt_zU_in, dual\n"
     ]
    }
   ],
   "source": [
    "add_dual(pe,model)"
   ]
  },
  {
   "cell_type": "markdown",
   "metadata": {
    "slideshow": {
     "slide_type": "fragment"
    }
   },
   "source": [
    "## Fixing In/Product Redundent Flow"
   ]
  },
  {
   "cell_type": "code",
   "execution_count": 20,
   "metadata": {
    "slideshow": {
     "slide_type": "fragment"
    }
   },
   "outputs": [],
   "source": [
    "model.x_.fix(0)\n",
    "model.y_.fix(0)\n",
    "model.L['in'].fix(0)\n",
    "model.L['R'].fix(0)\n",
    "model.L['P'].fix(0)\n",
    "\n",
    "model.V['in'].fix(0)\n",
    "model.V['R'].fix(0)\n",
    "model.V['P'].fix(0)\n",
    "model.H_L_.fix(0)\n",
    "model.H_V_.fix(0)"
   ]
  },
  {
   "cell_type": "markdown",
   "metadata": {
    "slideshow": {
     "slide_type": "subslide"
    }
   },
   "source": [
    "## Fixing Model Parameters"
   ]
  },
  {
   "cell_type": "code",
   "execution_count": 21,
   "metadata": {
    "slideshow": {
     "slide_type": "fragment"
    }
   },
   "outputs": [],
   "source": [
    "model.cat.fix(30000)\n",
    "model.P.fix(20)\n",
    "model.T_F.fix(200+273.15)\n",
    "model.F.fix(8.88)\n",
    "model.z['CO'].fix(1/(1+2)-0/2)\n",
    "model.z['H2'].fix(2/(1+2)-0/2)\n",
    "model.z['C30H62'].fix(0)\n",
    "model.VLE_block.n_ave.fix(20)"
   ]
  },
  {
   "cell_type": "code",
   "execution_count": 22,
   "metadata": {
    "slideshow": {
     "slide_type": "fragment"
    }
   },
   "outputs": [],
   "source": [
    "# model.F.setlb(1e-3)\n",
    "# model.F.setub(10)\n",
    "model.T.setub(300+273.15)"
   ]
  },
  {
   "cell_type": "markdown",
   "metadata": {},
   "source": [
    "# Objective"
   ]
  },
  {
   "cell_type": "code",
   "execution_count": 23,
   "metadata": {
    "scrolled": false,
    "slideshow": {
     "slide_type": "fragment"
    }
   },
   "outputs": [],
   "source": [
    "opt = add_solver(pe, max_iter = 5000, warm_start = False, output = False)\n",
    "disable_restoration(mode = 'enable')"
   ]
  },
  {
   "cell_type": "code",
   "execution_count": 24,
   "metadata": {},
   "outputs": [
    {
     "name": "stdout",
     "output_type": "stream",
     "text": [
      "------------------------------------------------------------------------------------------------------------\n",
      "> Obj = maximize\n",
      "> 43*P_naphtha + 90*P_gasoline + 128*P_diesel + 100*P_heavy + 1.3*P_light - 2.24*F - MPCC_P_pf.pf\n",
      "------------------------------------------------------------------------------------------------------------\n"
     ]
    }
   ],
   "source": [
    "model.obj = augmented_objective(pe, model, expr = 43*model.P_naphtha + 90*model.P_gasoline + \\\n",
    "                                128*model.P_diesel + 100*model.P_heavy + 1.3*model.P_light - 2.24*model.F, sense=pe.maximize)\n",
    "# model.obj = augmented_objective(pe, model, expr = 54*model.P_naphtha + 112*model.P_gasoline + \\\n",
    "#                                 161*model.P_diesel + 350*model.P_heavy + 1.3*model.P_light - 2.24*model.F, sense=pe.maximize)"
   ]
  },
  {
   "cell_type": "code",
   "execution_count": 25,
   "metadata": {},
   "outputs": [
    {
     "name": "stdout",
     "output_type": "stream",
     "text": [
      "Ipopt 3.12.10: print_user_options=yes\n",
      "tol=1e-08\n",
      "option_file_name=./ipopt.opt\n",
      "max_iter=5000\n",
      "\n",
      "Using option file \"./ipopt.opt\".\n",
      "\n",
      "\n",
      "List of user-set options:\n",
      "\n",
      "                                    Name   Value                used\n",
      "                           compl_inf_tol = 1                     yes\n",
      "                         constr_viol_tol = 1                     yes\n",
      "                            dual_inf_tol = 1000                  yes\n",
      "                           linear_solver = mumps                 yes\n",
      "                              ma86_small = 1e-30                  no\n",
      "                                  ma86_u = 0.0001                 no\n",
      "                              ma97_order = best                   no\n",
      "                              ma97_small = 1e-30                  no\n",
      "                            ma97_switch1 = at_start               no\n",
      "                            ma97_switch2 = od_hd_reuse            no\n",
      "                                  ma97_u = 1e-06                  no\n",
      "                               ma97_umax = 0.5                    no\n",
      "                                max_iter = 5000                  yes\n",
      "                    max_refinement_steps = 20                    yes\n",
      "                    min_refinement_steps = 5                     yes\n",
      "           mu_superlinear_decrease_power = 1.25                  yes\n",
      "                   nlp_scaling_min_value = 1e-08                 yes\n",
      "                        option_file_name = ./ipopt.opt           yes\n",
      "                      print_user_options = yes                   yes\n",
      "                                     tol = 1e-08                 yes\n",
      "                   warm_start_bound_frac = 1e-20                 yes\n",
      "                warm_start_mult_init_max = 1e+40                 yes\n",
      "             warm_start_slack_bound_frac = 1e-20                 yes\n",
      "             warm_start_slack_bound_push = 1e-20                 yes\n",
      "\n",
      "******************************************************************************\n",
      "This program contains Ipopt, a library for large-scale nonlinear optimization.\n",
      " Ipopt is released as open source code under the Eclipse Public License (EPL).\n",
      "         For more information visit http://projects.coin-or.org/Ipopt\n",
      "******************************************************************************\n",
      "\n",
      "This is Ipopt version 3.12.10, running with linear solver mumps.\n",
      "NOTE: Other linear solvers might be more efficient (see Ipopt documentation).\n",
      "\n",
      "Number of nonzeros in equality constraint Jacobian...:     4185\n",
      "Number of nonzeros in inequality constraint Jacobian.:        5\n",
      "Number of nonzeros in Lagrangian Hessian.............:     4395\n",
      "\n",
      "Total number of variables............................:     1195\n",
      "                     variables with only lower bounds:      392\n",
      "                variables with lower and upper bounds:      633\n",
      "                     variables with only upper bounds:        0\n",
      "Total number of equality constraints.................:     1191\n",
      "Total number of inequality constraints...............:        1\n",
      "        inequality constraints with only lower bounds:        0\n",
      "   inequality constraints with lower and upper bounds:        0\n",
      "        inequality constraints with only upper bounds:        1\n",
      "\n",
      "iter    objective    inf_pr   inf_du lg(mu)  ||d||  lg(rg) alpha_du alpha_pr  ls\n",
      "   0  1.6278204e+01 9.24e+03 1.01e+02  -1.0 0.00e+00    -  0.00e+00 0.00e+00   0\n",
      "   1  1.6278053e+01 9.24e+03 1.01e+02  -1.0 2.00e+05    -  3.32e-06 1.29e-05h  1\n",
      "   2  1.6278032e+01 9.24e+03 1.01e+02  -1.0 2.82e+05    -  4.07e-06 1.27e-05h  1\n",
      "   3r 1.6278032e+01 9.24e+03 9.99e+02   3.9 0.00e+00   0.0 0.00e+00 4.49e-07R  2\n",
      "   4r 1.6203465e+01 9.24e+03 8.64e+05   3.9 5.41e+05    -  2.04e-03 6.24e-08f  1\n",
      "   5r 4.4558844e+00 7.02e+03 9.55e+05   3.9 4.76e+05    -  4.74e-04 3.76e-03f  1\n",
      "   6  4.4561022e+00 7.02e+03 1.01e+02  -1.0 8.51e+04    -  2.50e-05 3.50e-05h  1\n",
      "   7  4.4562216e+00 7.02e+03 1.01e+02  -1.0 1.58e+04    -  5.98e-05 3.59e-05h  1\n",
      "   8  4.4567554e+00 7.02e+03 1.01e+02  -1.0 1.36e+04    -  1.04e-04 1.80e-04h  1\n",
      "   9  4.4568289e+00 7.02e+03 1.01e+02  -1.0 5.34e+04    -  2.67e-04 1.95e-05h  1\n",
      "iter    objective    inf_pr   inf_du lg(mu)  ||d||  lg(rg) alpha_du alpha_pr  ls\n",
      "  10  4.4574125e+00 7.02e+03 1.01e+02  -1.0 5.78e+04    -  2.46e-04 8.51e-05h  1\n",
      "  11  4.4585922e+00 7.02e+03 9.50e+02  -1.0 8.94e+04    -  6.39e-04 2.88e-05h  1\n",
      "  12  4.5086955e+00 7.02e+03 2.27e+03  -1.0 9.82e+04    -  3.68e-05 3.61e-05h  1\n",
      "  13  2.2210753e+01 7.02e+03 1.46e+04  -1.0 1.13e+05    -  8.89e-07 1.57e-04h  1\n",
      "  14r 2.2210753e+01 7.02e+03 1.00e+03   3.8 0.00e+00    -  0.00e+00 4.00e-07R  3\n",
      "  15r 2.1936568e+01 7.02e+03 6.79e+04   3.8 6.08e+05    -  4.36e-04 7.54e-07f  1\n",
      "  16r 1.8037231e+01 6.62e+03 6.65e+04   3.1 6.16e+05    -  1.05e-04 5.27e-04f  1\n",
      "  17r-6.3276992e+00 2.07e+03 7.44e+04   3.1 1.09e+06    -  2.08e-03 3.29e-03f  1\n",
      "  18 -6.3115231e+00 2.06e+03 1.01e+02  -1.0 4.26e+03    -  2.08e-03 7.19e-04h  1\n",
      "  19 -6.3056627e+00 2.06e+03 1.01e+02  -1.0 4.53e+03    -  4.84e-04 6.18e-05h  1\n",
      "iter    objective    inf_pr   inf_du lg(mu)  ||d||  lg(rg) alpha_du alpha_pr  ls\n",
      "  20r-6.3056627e+00 2.06e+03 9.99e+02   3.2 0.00e+00    -  0.00e+00 4.27e-07R  3\n",
      "  21r-6.3564513e+00 2.06e+03 4.05e+04   3.2 7.29e+05    -  2.00e-03 1.10e-06f  1\n",
      "  22r-1.1965787e+01 5.13e+02 4.09e+04   2.5 5.51e+05    -  2.65e-03 2.83e-03f  1\n",
      "  23 -1.1952900e+01 5.13e+02 1.33e+02  -1.0 4.99e+03    -  1.20e-03 4.29e-04h  1\n",
      "  24 -1.1954088e+01 5.13e+02 1.22e+03  -1.0 1.37e+04    -  2.18e-04 6.62e-06h  1\n",
      "  25 -1.1957769e+01 5.13e+02 1.39e+04  -1.0 3.87e+04    -  1.10e-04 9.98e-06h  1\n",
      "  26 -1.1959560e+01 5.13e+02 4.63e+04  -1.0 3.46e+04    -  5.06e-05 9.74e-06h  1\n",
      "  27r-1.1959560e+01 5.13e+02 1.00e+03   2.7 0.00e+00    -  0.00e+00 2.70e-07R  2\n",
      "  28r-1.1967295e+01 5.13e+02 2.81e+04   2.7 3.09e+04    -  2.44e-03 3.88e-06f  1\n",
      "  29r-2.2422738e+01 5.13e+02 3.28e+04   2.7 3.44e+04    -  3.71e-03 4.42e-03f  1\n",
      "iter    objective    inf_pr   inf_du lg(mu)  ||d||  lg(rg) alpha_du alpha_pr  ls\n",
      "  30r-3.6892079e+01 5.13e+02 9.98e+04   2.7 2.68e+01   2.0 3.12e-02 5.49e-03f  1\n",
      "  31r-4.9901262e+01 5.12e+02 8.91e+04   2.7 1.62e+04    -  9.51e-03 8.77e-03f  1\n",
      "  32r-7.1722369e+01 5.11e+02 3.08e+04   2.7 7.65e+03    -  3.25e-02 1.77e-02f  1\n",
      "  33r-6.0749208e+01 5.09e+02 2.18e+04   2.0 3.74e+03    -  4.79e-02 3.90e-02f  1\n",
      "  34r-3.7275822e+01 5.00e+02 3.88e+04   2.0 1.27e+03    -  5.38e-02 8.82e-02f  1\n",
      "  35r-4.2922901e+01 4.97e+02 3.91e+04   2.0 1.20e+01   1.5 2.45e-01 1.84e-01f  1\n",
      "  36r-4.6663474e+01 4.93e+02 3.73e+04   2.0 2.80e+01   1.0 1.35e-01 1.72e-01f  1\n",
      "  37r-5.3923228e+01 4.93e+02 2.29e+06   2.0 2.68e-01   4.2 3.43e-01 1.00e+00f  1\n",
      "  38r-5.3964626e+01 4.93e+02 5.04e+05   2.0 1.43e-02   6.4 9.97e-01 1.00e+00f  1\n",
      "  39r-5.4053315e+01 4.93e+02 1.47e+03   2.0 1.71e-03   5.9 1.00e+00 1.00e+00f  1\n",
      "iter    objective    inf_pr   inf_du lg(mu)  ||d||  lg(rg) alpha_du alpha_pr  ls\n",
      "  40r-5.4061189e+01 4.93e+02 1.03e+03   0.6 3.58e-03   5.5 1.00e+00 1.00e+00f  1\n",
      "  41r-5.4091570e+01 4.93e+02 1.00e+03   0.6 1.05e-02   5.0 1.00e+00 1.00e+00f  1\n",
      "  42r-5.4175301e+01 4.93e+02 1.00e+03   0.6 3.13e-02   4.5 1.00e+00 9.82e-01f  1\n",
      "  43r-5.4255034e+01 4.93e+02 9.96e+02   0.6 9.35e-02   4.0 1.00e+00 4.50e-01f  1\n",
      "  44r-5.4114127e+01 4.93e+02 9.89e+02   0.6 2.94e-01   3.6 1.00e+00 1.92e-01f  1\n",
      "  45r-5.3916218e+01 4.93e+02 3.95e+03   0.6 1.10e-01   4.0 1.00e+00 3.68e-01f  1\n",
      "  46r-5.0302408e+01 4.92e+02 1.38e+03   0.6 3.32e-01   3.5 8.52e-01 2.50e-01f  1\n",
      "  47r-4.5624803e+01 4.92e+02 2.01e+03   0.6 1.22e-01   3.9 1.00e+00 3.19e-01f  1\n",
      "  48r-3.0283675e+01 4.92e+02 2.22e+03   0.6 3.69e-01   3.4 4.21e-01 2.68e-01f  1\n",
      "  49r-1.0741565e+01 4.92e+02 3.25e+04   0.6 1.07e+00   3.0 7.80e-01 1.38e-01f  1\n",
      "iter    objective    inf_pr   inf_du lg(mu)  ||d||  lg(rg) alpha_du alpha_pr  ls\n",
      "  50r 5.8207251e+00 4.92e+02 1.72e+04   0.6 2.98e+00   2.5 3.08e-01 1.21e-01f  1\n",
      "  51r 1.2526120e+01 4.92e+02 1.51e+04   0.6 7.71e+00   2.0 2.86e-01 8.13e-02f  1\n",
      "  52r 1.6488621e+01 4.92e+02 2.61e+04   0.6 2.95e+00   2.4 8.05e-01 1.11e-01f  1\n",
      "  53r 2.1627820e+01 4.91e+02 1.96e+04   0.6 7.45e+00   2.0 2.88e-01 1.83e-01f  1\n",
      "  54r 2.8550057e+01 4.90e+02 5.57e+03   0.6 2.88e+00   2.4 1.00e+00 4.17e-01f  1\n",
      "  55r 3.2192069e+01 4.88e+02 3.29e+03   0.6 6.11e+00   1.9 2.81e-01 3.12e-01f  1\n",
      "  56r 3.2293356e+01 4.87e+02 7.19e+03   0.6 1.69e+01   1.4 1.42e-01 4.00e-02f  1\n",
      "  57r 3.2318388e+01 4.87e+02 7.30e+03   0.6 4.78e+01   1.0 2.79e-03 8.02e-04f  1\n",
      "  58r 3.1886863e+01 4.85e+02 1.25e+04   0.6 1.90e+01   1.4 2.12e-01 1.05e-01f  1\n",
      "  59r 3.2040951e+01 4.85e+02 3.05e+04   0.6 7.56e+00   1.8 1.00e+00 8.51e-02f  1\n",
      "iter    objective    inf_pr   inf_du lg(mu)  ||d||  lg(rg) alpha_du alpha_pr  ls\n",
      "  60r 2.7081958e+01 4.81e+02 2.72e+04   0.6 2.11e+01   1.3 1.16e-01 1.52e-01f  1\n",
      "  61r 1.5817683e+01 4.81e+02 2.46e+04   0.6 1.20e+01   1.8 8.95e-02 1.17e-01f  1\n",
      "  62r 1.3453656e+01 4.79e+02 1.78e+04   0.6 3.18e+00   2.2 1.00e+00 4.70e-01f  1\n",
      "  63r 1.3531487e+01 4.79e+02 2.32e+04   0.6 1.14e+00   2.6 1.53e-01 3.80e-02f  1\n",
      "  64r 1.4048556e+01 4.79e+02 1.92e+04   0.6 6.10e-02   3.9 3.73e-01 2.30e-01f  1\n",
      "  65r 1.5336428e+01 4.79e+02 1.11e+03   0.6 1.61e-01   3.5 1.00e+00 8.96e-01f  1\n",
      "  66r 1.4511460e+01 4.78e+02 1.19e+03   0.6 4.83e-01   3.0 1.00e+00 1.00e+00f  1\n",
      "  67r 1.2398635e+01 4.78e+02 5.95e+03   0.6 1.45e+00   2.5 1.00e+00 5.19e-01f  1\n",
      "  68r 5.4249969e+00 4.76e+02 6.16e+04   0.6 4.31e+00   2.0 9.42e-01 3.29e-01f  1\n",
      "  69r 2.5660690e-01 4.75e+02 4.78e+03   0.6 1.62e+00   2.5 1.00e+00 1.00e+00f  1\n",
      "iter    objective    inf_pr   inf_du lg(mu)  ||d||  lg(rg) alpha_du alpha_pr  ls\n",
      "  70r-1.7031626e+01 4.71e+02 4.45e+03   0.6 4.82e+00   2.0 7.60e-01 7.16e-01f  1\n",
      "  71r-1.7119981e+01 4.71e+02 8.11e+04   0.6 1.41e+01   1.5 5.68e-01 1.16e-02f  1\n",
      "  72r-2.0030218e+01 4.67e+02 5.15e+04   0.6 7.24e+01   1.0 1.60e-02 8.80e-02f  1\n",
      "  73r-1.4482713e+01 4.67e+02 1.44e+05   0.6 2.02e+00   2.4 1.00e+00 3.60e-01f  1\n",
      "  74r-9.6247316e+00 4.64e+02 9.30e+04   0.6 5.99e+00   1.9 1.00e+00 4.52e-01f  1\n",
      "  75r-1.0087787e+01 4.59e+02 2.32e+04   0.6 1.75e+01   1.4 5.32e-01 2.76e-01f  1\n",
      "  76 -9.9164519e+00 4.56e+02 1.00e+02  -1.0 8.02e+03    -  1.90e-03 7.87e-03f  1\n",
      "  77 -9.4559332e+00 4.46e+02 1.02e+03  -1.0 7.30e+03    -  2.04e-03 2.14e-02f  1\n",
      "  78 -9.4477424e+00 4.46e+02 1.02e+03  -1.0 5.78e+03    -  3.60e-03 2.69e-04h  1\n",
      "  79 -9.4287190e+00 4.46e+02 1.09e+03  -1.0 4.02e+03    -  5.41e-04 6.04e-04f  1\n",
      "iter    objective    inf_pr   inf_du lg(mu)  ||d||  lg(rg) alpha_du alpha_pr  ls\n",
      "  80 -8.9763996e+00 4.38e+02 1.65e+04  -1.0 7.88e+03    -  3.18e-03 1.64e-02f  1\n",
      "  81 -2.5895737e+00 3.33e+02 6.64e+05  -1.0 5.96e+03    -  6.73e-02 2.39e-01f  1\n",
      "  82 -1.9622552e+00 3.23e+02 6.93e+05  -1.0 5.57e+03    -  3.84e-02 3.00e-02h  1\n",
      "  83 -1.3387628e+00 3.14e+02 6.83e+05  -1.0 5.40e+03    -  2.53e-03 3.01e-02h  3\n",
      "  84 -1.2909346e+00 3.13e+02 6.81e+05  -1.0 3.10e+03    -  2.69e-02 3.00e-03H  1\n",
      "  85  6.5995672e+00 1.84e+02 5.71e+05  -1.0 4.31e+03    -  8.09e-04 4.11e-01h  1\n",
      "  86  7.1334907e+00 1.78e+02 5.53e+05  -1.0 3.41e+03    -  4.86e-02 3.62e-02h  4\n",
      "  87  7.6241938e+00 1.72e+02 5.36e+05  -1.0 3.40e+03    -  4.81e-02 3.40e-02h  4\n",
      "  88  8.0806644e+00 1.66e+02 5.18e+05  -1.0 3.36e+03    -  3.68e-01 3.25e-02h  4\n",
      "  89  8.4684682e+00 1.61e+02 4.99e+05  -1.0 3.38e+03    -  1.09e-01 2.97e-02h  4\n"
     ]
    },
    {
     "name": "stdout",
     "output_type": "stream",
     "text": [
      "iter    objective    inf_pr   inf_du lg(mu)  ||d||  lg(rg) alpha_du alpha_pr  ls\n",
      "  90  8.8238728e+00 1.56e+02 4.81e+05  -1.0 3.35e+03    -  6.05e-01 2.82e-02h  4\n",
      "  91  9.1065623e+00 1.52e+02 4.63e+05  -1.0 3.37e+03    -  1.54e-01 2.58e-02h  4\n",
      "  92  9.3652152e+00 1.49e+02 4.45e+05  -1.0 3.33e+03    -  7.34e-01 2.45e-02h  4\n",
      "  93  9.5809688e+00 1.45e+02 4.30e+05  -1.0 3.29e+03    -  1.83e-01 2.33e-02h  4\n",
      "  94  9.9830999e+00 1.39e+02 3.97e+05  -1.0 3.23e+03    -  8.89e-01 4.52e-02h  3\n",
      "  95  1.0690477e+01 1.45e+02 3.49e+05  -1.0 3.03e+03    -  2.04e-01 9.43e-02h  2\n",
      "  96  1.1811600e+01 1.49e+02 8.40e+05  -1.0 2.73e+03    -  8.45e-01 1.86e-01h  1\n",
      "  97  1.4413409e+01 7.17e+01 1.11e+05  -1.0 2.26e+03    -  4.74e-01 7.04e-01h  1\n",
      "  98  1.4434586e+01 7.12e+01 8.20e+05  -1.0 1.84e+03    -  3.36e-02 7.91e-03h  1\n",
      "  99  1.2272233e+01 5.61e+01 9.60e+06  -1.0 1.69e+02    -  1.40e-03 9.90e-01H  1\n",
      "iter    objective    inf_pr   inf_du lg(mu)  ||d||  lg(rg) alpha_du alpha_pr  ls\n",
      " 100  1.1109093e+01 2.86e+01 7.20e+06  -1.0 1.03e+02    -  1.90e-01 2.50e-01h  1\n",
      " 101  1.0649067e+01 1.24e+01 1.37e+06  -1.0 1.32e+01    -  9.12e-01 9.92e-01h  1\n",
      " 102  1.0551417e+01 7.98e-01 2.40e+06  -1.0 1.87e+00    -  9.28e-01 1.00e+00h  1\n",
      " 103  1.0303503e+01 3.10e-01 7.53e+06  -1.0 1.11e+02    -  6.98e-02 1.00e+00f  1\n",
      " 104  9.0181962e+00 7.35e+00 5.36e+06  -1.0 4.62e+03    -  2.88e-01 1.14e-01f  2\n",
      " 105  8.2973144e+00 9.77e+00 5.21e+06  -1.0 2.31e+04    -  2.82e-02 1.35e-02f  3\n",
      " 106  7.6806981e+00 1.17e+01 4.82e+06  -1.0 2.32e+04    -  7.79e-02 1.21e-02f  3\n",
      " 107  7.1476920e+00 1.28e+01 3.56e+06  -1.0 5.66e+03    -  1.00e+00 4.56e-02f  3\n",
      " 108  6.1387408e+00 6.49e+00 5.54e+05  -1.0 5.55e+02    -  7.58e-01 1.00e+00f  1\n",
      " 109  4.5863911e+00 1.38e+01 1.85e+05  -1.0 9.94e+02    -  9.40e-01 1.00e+00F  1\n",
      "iter    objective    inf_pr   inf_du lg(mu)  ||d||  lg(rg) alpha_du alpha_pr  ls\n",
      " 110  4.4105050e+00 6.41e+00 1.16e+04  -1.0 5.82e+02    -  1.00e+00 1.00e+00h  1\n",
      " 111  4.4567841e+00 3.04e+00 3.84e+03  -1.0 4.04e+02    -  1.00e+00 1.00e+00h  1\n",
      " 112  4.5273652e+00 1.52e+00 1.05e+03  -1.0 2.88e+02    -  1.00e+00 1.00e+00h  1\n",
      " 113  4.5321185e+00 2.85e-01 8.65e+01  -1.0 9.29e+01    -  1.00e+00 1.00e+00h  1\n",
      " 114  4.1095060e+00 1.59e-01 6.29e+05  -1.7 9.24e+01    -  9.21e-01 1.00e+00h  1\n",
      " 115  4.1095544e+00 1.11e-02 2.74e+01  -1.7 2.43e+01    -  1.00e+00 1.00e+00h  1\n",
      " 116  4.0168705e+00 2.41e-01 6.75e+04  -2.4 1.14e+02    -  9.58e-01 1.00e+00h  1\n",
      " 117  4.0209982e+00 3.13e-03 2.79e+00  -2.4 1.27e+01    -  1.00e+00 1.00e+00h  1\n",
      " 118  4.0046961e+00 5.41e-03 1.11e+01  -3.1 1.70e+01    -  1.00e+00 1.00e+00h  1\n",
      " 119  4.0056414e+00 1.92e-04 1.90e+00  -3.1 2.92e+00    -  1.00e+00 1.00e+00h  1\n",
      "iter    objective    inf_pr   inf_du lg(mu)  ||d||  lg(rg) alpha_du alpha_pr  ls\n",
      " 120  4.0054857e+00 1.75e-07 1.17e-02  -3.1 9.03e-02    -  1.00e+00 1.00e+00h  1\n",
      " 121  4.0034134e+00 6.87e-05 2.51e+04  -4.8 2.60e+00    -  1.00e+00 6.80e-01f  1\n",
      " 122  4.0034391e+00 1.19e-05 7.43e-01  -4.8 7.26e-01    -  1.00e+00 1.00e+00h  1\n",
      " 123  4.0034331e+00 4.87e-08 2.32e-04  -4.8 4.61e-02    -  1.00e+00 1.00e+00h  1\n",
      " 124  4.0034330e+00 8.63e-11 1.45e-10  -4.8 6.41e-07    -  1.00e+00 1.00e+00h  1\n",
      " 125  4.0034152e+00 3.64e-08 1.61e-03  -6.0 3.99e-02    -  1.00e+00 1.00e+00h  1\n",
      " 126  4.0034154e+00 2.81e-10 7.35e-09  -6.0 4.17e-05    -  1.00e+00 1.00e+00h  1\n",
      " 127  4.0034143e+00 1.50e-10 6.57e-06  -7.6 2.54e-03    -  1.00e+00 1.00e+00h  1\n",
      " 128  4.0034143e+00 6.04e-11 3.19e-11  -7.6 2.67e-06    -  1.00e+00 1.00e+00h  1\n",
      " 129  4.0034142e+00 1.40e-10 6.18e-09  -9.0 7.78e-05    -  1.00e+00 1.00e+00h  1\n",
      "\n",
      "Number of Iterations....: 129\n",
      "\n",
      "                                   (scaled)                 (unscaled)\n",
      "Objective...............:   3.1276673740052345e+00    4.0034142387267000e+00\n",
      "Dual infeasibility......:   6.1808687057407496e-09    7.9115119433481600e-09\n",
      "Constraint violation....:   1.4010402538643107e-10    1.4010402538643107e-10\n",
      "Complementarity.........:   9.6526112165871432e-10    1.2355342357231543e-09\n",
      "Overall NLP error.......:   6.1808687057407496e-09    7.9115119433481600e-09\n",
      "\n",
      "\n",
      "Number of objective function evaluations             = 214\n",
      "Number of objective gradient evaluations             = 79\n",
      "Number of equality constraint evaluations            = 214\n",
      "Number of inequality constraint evaluations          = 214\n",
      "Number of equality constraint Jacobian evaluations   = 134\n",
      "Number of inequality constraint Jacobian evaluations = 134\n",
      "Number of Lagrangian Hessian evaluations             = 129\n",
      "Total CPU secs in IPOPT (w/o function evaluations)   =      7.532\n",
      "Total CPU secs in NLP function evaluations           =      0.283\n",
      "\n",
      "EXIT: Optimal Solution Found.\n"
     ]
    }
   ],
   "source": [
    "results = opt.solve(model,tee=True)\n",
    "update_dual(pe,model)"
   ]
  },
  {
   "cell_type": "code",
   "execution_count": 26,
   "metadata": {},
   "outputs": [
    {
     "data": {
      "text/plain": [
       "-4.003414247563921"
      ]
     },
     "execution_count": 26,
     "metadata": {},
     "output_type": "execute_result"
    }
   ],
   "source": [
    "43*model.P_naphtha.value + 90*model.P_gasoline.value + 128*model.P_diesel.value + 100*model.P_heavy.value + 1.3*model.P_light.value - 2.24*model.F.value\n",
    "# 54*model.P_naphtha.value + 112*model.P_gasoline.value + 161*model.P_diesel.value + 350*model.P_heavy.value + 1.3*model.P_light.value - 2.24*model.F.value"
   ]
  },
  {
   "cell_type": "code",
   "execution_count": 27,
   "metadata": {},
   "outputs": [
    {
     "data": {
      "text/plain": [
       "(504.60099430722573, 20.00000044610009, 2.531831983693289)"
      ]
     },
     "execution_count": 27,
     "metadata": {},
     "output_type": "execute_result"
    }
   ],
   "source": [
    "model.T.value, model.VLE_block.P_VLE.value, model.kinetics_block.r_FT_total.value"
   ]
  },
  {
   "cell_type": "code",
   "execution_count": 28,
   "metadata": {},
   "outputs": [
    {
     "data": {
      "text/plain": [
       "(0.22838435454164593,\n",
       " 0.08797615812127355,\n",
       " 0.07089873431885801,\n",
       " 0.0308265038910599,\n",
       " 0.014812327055642938)"
      ]
     },
     "execution_count": 28,
     "metadata": {},
     "output_type": "execute_result"
    }
   ],
   "source": [
    "model.P_light.value, model.P_naphtha.value, model.P_gasoline.value, model.P_diesel.value, model.P_heavy.value"
   ]
  },
  {
   "cell_type": "code",
   "execution_count": 29,
   "metadata": {},
   "outputs": [
    {
     "data": {
      "text/plain": [
       "0.8790800422952842"
      ]
     },
     "execution_count": 29,
     "metadata": {},
     "output_type": "execute_result"
    }
   ],
   "source": [
    "# Conversion\n",
    "(model.F.value - model.V['out'].value * (model.y['H2'].value + model.y['CO'].value) - \\\n",
    "model.L['out'].value * (model.x['H2'].value + model.x['CO'].value))/model.F.value"
   ]
  },
  {
   "cell_type": "code",
   "execution_count": 30,
   "metadata": {
    "scrolled": false
   },
   "outputs": [
    {
     "name": "stdout",
     "output_type": "stream",
     "text": [
      "Solved, Feed = 10.00\tObj = -4.79\n",
      "Solved, Feed = 9.66\tObj = -4.54\n",
      "Solved, Feed = 9.31\tObj = -4.30\n",
      "Solved, Feed = 8.97\tObj = -4.06\n",
      "Solved, Feed = 8.62\tObj = -3.83\n",
      "Solved, Feed = 8.28\tObj = -3.60\n",
      "Solved, Feed = 7.93\tObj = -3.38\n",
      "Solved, Feed = 7.59\tObj = -3.17\n",
      "Solved, Feed = 7.24\tObj = -2.96\n",
      "Solved, Feed = 6.90\tObj = -2.75\n",
      "Solved, Feed = 6.55\tObj = -2.56\n",
      "Solved, Feed = 6.21\tObj = -2.36\n",
      "Solved, Feed = 5.86\tObj = -2.18\n",
      "Solved, Feed = 5.52\tObj = -2.00\n",
      "Solved, Feed = 5.17\tObj = -1.82\n",
      "Solved, Feed = 4.83\tObj = -1.65\n",
      "Solved, Feed = 4.48\tObj = -1.49\n",
      "Solved, Feed = 4.14\tObj = -1.34\n",
      "Solved, Feed = 3.79\tObj = -1.19\n",
      "Solved, Feed = 3.45\tObj = -1.04\n",
      "Solved, Feed = 3.10\tObj = -0.91\n",
      "Solved, Feed = 2.76\tObj = -0.78\n",
      "Solved, Feed = 2.41\tObj = -0.65\n",
      "Solved, Feed = 2.07\tObj = -0.54\n",
      "Solved, Feed = 1.72\tObj = -0.43\n",
      "Solved, Feed = 1.38\tObj = -0.33\n",
      "Solved, Feed = 1.04\tObj = -0.23\n",
      "Solved, Feed = 0.69\tObj = -0.15\n",
      "Solved, Feed = 0.35\tObj = -0.07\n",
      "Solved, Feed = 0.00\tObj = -0.00\n"
     ]
    }
   ],
   "source": [
    "import numpy as np\n",
    "F_range = np.linspace(10,1e-3,30)\n",
    "Obj_list = []\n",
    "\n",
    "for f in F_range:\n",
    "    model.F.unfix()\n",
    "    model.F.fix(f)\n",
    "    \n",
    "    results = opt.solve(model,tee=False)\n",
    "    update_dual(pe,model)\n",
    "    \n",
    "    obj = 43*model.P_naphtha.value + 90*model.P_gasoline.value + 128*model.P_diesel.value + 100*model.P_heavy.value + 1.3*model.P_light.value - 2.24*model.F.value\n",
    "    Obj_list.append(obj)\n",
    "    \n",
    "    print('Solved, Feed = {:.2f}\\tObj = {:.2f}'.format(f,obj))"
   ]
  },
  {
   "cell_type": "code",
   "execution_count": 31,
   "metadata": {},
   "outputs": [
    {
     "data": {
      "image/png": "[encoded data removed]",
      "text/plain": [
       "<Figure size 1152x648 with 1 Axes>"
      ]
     },
     "metadata": {},
     "output_type": "display_data"
    }
   ],
   "source": [
    "fig, ax = plt.subplots(figsize=(16,9))\n",
    "line = ax.plot(F_range,Obj_list, 'b-')\n",
    "ax.set_xlabel('Feed (kmol/s)',fontsize=18)\n",
    "ax.set_ylabel('Profit-3',fontsize=18)\n",
    "ax.tick_params('y',labelsize=18)\n",
    "ax.tick_params('x',labelsize=18)\n",
    "ax.grid()\n",
    "\n",
    "plt.show()"
   ]
  },
  {
   "cell_type": "code",
   "execution_count": 32,
   "metadata": {},
   "outputs": [],
   "source": [
    "# model.solutions.store_to(results)\n",
    "# with open('../../saved_solutions/reactive_flash_MPCC_P_200C.pickle','wb') as f:\n",
    "#     pickle.dump(results,f)"
   ]
  },
  {
   "cell_type": "code",
   "execution_count": 33,
   "metadata": {},
   "outputs": [],
   "source": [
    "# with open('test_model.pickle','wb') as f:\n",
    "#     dill.dump(model,f)"
   ]
  }
 ],
 "metadata": {
  "kernelspec": {
   "display_name": "Python 3",
   "language": "python",
   "name": "python3"
  },
  "language_info": {
   "codemirror_mode": {
    "name": "ipython",
    "version": 3
   },
   "file_extension": ".py",
   "mimetype": "text/x-python",
   "name": "python",
   "nbconvert_exporter": "python",
   "pygments_lexer": "ipython3",
   "version": "3.6.5"
  }
 },
 "nbformat": 4,
 "nbformat_minor": 2
}
