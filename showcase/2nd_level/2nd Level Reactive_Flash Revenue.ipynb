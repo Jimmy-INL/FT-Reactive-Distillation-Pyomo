{
 "cells": [
  {
   "cell_type": "markdown",
   "metadata": {
    "slideshow": {
     "slide_type": "slide"
    }
   },
   "source": [
    "# 2nd Level Model Structure: Reactive Stage"
   ]
  },
  {
   "cell_type": "code",
   "execution_count": 1,
   "metadata": {},
   "outputs": [],
   "source": [
    "import sys\n",
    "import os\n",
    "import dill\n",
    "import pickle\n",
    "sys.path.append(os.path.abspath('..'))\n",
    "sys.path.append(os.path.abspath('../..'))\n",
    "import numpy as np\n",
    "from matplotlib import pyplot as plt"
   ]
  },
  {
   "cell_type": "code",
   "execution_count": 2,
   "metadata": {
    "slideshow": {
     "slide_type": "fragment"
    }
   },
   "outputs": [
    {
     "name": "stderr",
     "output_type": "stream",
     "text": [
      "/Users/yanyanhu/Documents/GitHub/FT-Reactive-Distillation-Pyomo/utility/display_utility.py:5: UserWarning: \n",
      "This call to matplotlib.use() has no effect because the backend has already\n",
      "been chosen; matplotlib.use() must be called *before* pylab, matplotlib.pyplot,\n",
      "or matplotlib.backends is imported for the first time.\n",
      "\n",
      "The backend was *originally* set to 'module://ipykernel.pylab.backend_inline' by the following code:\n",
      "  File \"/anaconda3/lib/python3.6/runpy.py\", line 193, in _run_module_as_main\n",
      "    \"__main__\", mod_spec)\n",
      "  File \"/anaconda3/lib/python3.6/runpy.py\", line 85, in _run_code\n",
      "    exec(code, run_globals)\n",
      "  File \"/anaconda3/lib/python3.6/site-packages/ipykernel_launcher.py\", line 16, in <module>\n",
      "    app.launch_new_instance()\n",
      "  File \"/anaconda3/lib/python3.6/site-packages/traitlets/config/application.py\", line 658, in launch_instance\n",
      "    app.start()\n",
      "  File \"/anaconda3/lib/python3.6/site-packages/ipykernel/kernelapp.py\", line 486, in start\n",
      "    self.io_loop.start()\n",
      "  File \"/anaconda3/lib/python3.6/site-packages/tornado/platform/asyncio.py\", line 127, in start\n",
      "    self.asyncio_loop.run_forever()\n",
      "  File \"/anaconda3/lib/python3.6/asyncio/base_events.py\", line 422, in run_forever\n",
      "    self._run_once()\n",
      "  File \"/anaconda3/lib/python3.6/asyncio/base_events.py\", line 1432, in _run_once\n",
      "    handle._run()\n",
      "  File \"/anaconda3/lib/python3.6/asyncio/events.py\", line 145, in _run\n",
      "    self._callback(*self._args)\n",
      "  File \"/anaconda3/lib/python3.6/site-packages/tornado/platform/asyncio.py\", line 117, in _handle_events\n",
      "    handler_func(fileobj, events)\n",
      "  File \"/anaconda3/lib/python3.6/site-packages/tornado/stack_context.py\", line 276, in null_wrapper\n",
      "    return fn(*args, **kwargs)\n",
      "  File \"/anaconda3/lib/python3.6/site-packages/zmq/eventloop/zmqstream.py\", line 450, in _handle_events\n",
      "    self._handle_recv()\n",
      "  File \"/anaconda3/lib/python3.6/site-packages/zmq/eventloop/zmqstream.py\", line 480, in _handle_recv\n",
      "    self._run_callback(callback, msg)\n",
      "  File \"/anaconda3/lib/python3.6/site-packages/zmq/eventloop/zmqstream.py\", line 432, in _run_callback\n",
      "    callback(*args, **kwargs)\n",
      "  File \"/anaconda3/lib/python3.6/site-packages/tornado/stack_context.py\", line 276, in null_wrapper\n",
      "    return fn(*args, **kwargs)\n",
      "  File \"/anaconda3/lib/python3.6/site-packages/ipykernel/kernelbase.py\", line 283, in dispatcher\n",
      "    return self.dispatch_shell(stream, msg)\n",
      "  File \"/anaconda3/lib/python3.6/site-packages/ipykernel/kernelbase.py\", line 233, in dispatch_shell\n",
      "    handler(stream, idents, msg)\n",
      "  File \"/anaconda3/lib/python3.6/site-packages/ipykernel/kernelbase.py\", line 399, in execute_request\n",
      "    user_expressions, allow_stdin)\n",
      "  File \"/anaconda3/lib/python3.6/site-packages/ipykernel/ipkernel.py\", line 208, in do_execute\n",
      "    res = shell.run_cell(code, store_history=store_history, silent=silent)\n",
      "  File \"/anaconda3/lib/python3.6/site-packages/ipykernel/zmqshell.py\", line 537, in run_cell\n",
      "    return super(ZMQInteractiveShell, self).run_cell(*args, **kwargs)\n",
      "  File \"/anaconda3/lib/python3.6/site-packages/IPython/core/interactiveshell.py\", line 2666, in run_cell\n",
      "    self.events.trigger('post_run_cell', result)\n",
      "  File \"/anaconda3/lib/python3.6/site-packages/IPython/core/events.py\", line 88, in trigger\n",
      "    func(*args, **kwargs)\n",
      "  File \"/anaconda3/lib/python3.6/site-packages/ipykernel/pylab/backend_inline.py\", line 160, in configure_once\n",
      "    activate_matplotlib(backend)\n",
      "  File \"/anaconda3/lib/python3.6/site-packages/IPython/core/pylabtools.py\", line 311, in activate_matplotlib\n",
      "    matplotlib.pyplot.switch_backend(backend)\n",
      "  File \"/anaconda3/lib/python3.6/site-packages/matplotlib/pyplot.py\", line 231, in switch_backend\n",
      "    matplotlib.use(newbackend, warn=False, force=True)\n",
      "  File \"/anaconda3/lib/python3.6/site-packages/matplotlib/__init__.py\", line 1410, in use\n",
      "    reload(sys.modules['matplotlib.backends'])\n",
      "  File \"/anaconda3/lib/python3.6/importlib/__init__.py\", line 166, in reload\n",
      "    _bootstrap._exec(spec, module)\n",
      "  File \"/anaconda3/lib/python3.6/site-packages/matplotlib/backends/__init__.py\", line 16, in <module>\n",
      "    line for line in traceback.format_stack()\n",
      "\n",
      "\n",
      "  matplotlib.use(\"Agg\")\n"
     ]
    }
   ],
   "source": [
    "from pyomo import environ as pe\n",
    "from global_sets.component import m\n",
    "from utility.display_utility import trans_product_mole, trans_product_mass\n",
    "from utility.model_utility import add_dual, update_dual, check_DOF, augmented_objective, add_solver,\\\n",
    "                                    select_MPCC, which_MPCC, disable_restoration\n",
    "from utility.data_utility import cal_cnumber\n",
    "\n",
    "# stage construction rules\n",
    "from physics.kinetics.kinetics_reactive import kinetic_block_rule\n",
    "from physics.energy.energy_reactive import energy_block_rule\n",
    "from physics.VLE.VLE_reactive_MPCC_P import VLE_block_rule\n",
    "from physics.MPCC.MPCC_P import P_NCP_block_rule, P_Reg_block_rule, P_pf_block_rule"
   ]
  },
  {
   "cell_type": "code",
   "execution_count": 3,
   "metadata": {},
   "outputs": [],
   "source": [
    "model = pe.ConcreteModel()"
   ]
  },
  {
   "cell_type": "markdown",
   "metadata": {
    "slideshow": {
     "slide_type": "subslide"
    }
   },
   "source": [
    "# Global Sets (Inlet / Outlet)"
   ]
  },
  {
   "cell_type": "code",
   "execution_count": 4,
   "metadata": {
    "slideshow": {
     "slide_type": "fragment"
    }
   },
   "outputs": [],
   "source": [
    "model.inlet = pe.Set(initialize=['in','R'])\n",
    "model.outlet = pe.Set(initialize=['out','P'])\n",
    "model.stream = model.inlet | model.outlet"
   ]
  },
  {
   "cell_type": "code",
   "execution_count": 5,
   "metadata": {},
   "outputs": [],
   "source": [
    "model.comp_naphtha = pe.Set(initialize = [i for i in m.COMP_ORG if cal_cnumber(i) >= 5 and cal_cnumber(i) <= 7])\n",
    "model.comp_gasoline = pe.Set(initialize = [i for i in m.COMP_ORG if cal_cnumber(i) >= 8 and cal_cnumber(i) <= 12])\n",
    "model.comp_diesel = pe.Set(initialize = [i for i in m.COMP_ORG if cal_cnumber(i) >= 13 and cal_cnumber(i) <= 18])\n",
    "model.comp_heavy = pe.Set(initialize = [i for i in m.COMP_ORG if cal_cnumber(i) >= 19 and cal_cnumber(i) <= 56])"
   ]
  },
  {
   "cell_type": "markdown",
   "metadata": {
    "slideshow": {
     "slide_type": "subslide"
    }
   },
   "source": [
    "# Global Variables"
   ]
  },
  {
   "cell_type": "code",
   "execution_count": 6,
   "metadata": {
    "slideshow": {
     "slide_type": "fragment"
    }
   },
   "outputs": [],
   "source": [
    "# Tray Inlet/Outlet Variable\n",
    "model.x_ = pe.Var(model.inlet,m.COMP_TOTAL,within=pe.NonNegativeReals)\n",
    "model.y_ = pe.Var(model.inlet,m.COMP_TOTAL,within=pe.NonNegativeReals)\n",
    "model.x = pe.Var(m.COMP_TOTAL,within=pe.NonNegativeReals)\n",
    "model.y = pe.Var(m.COMP_TOTAL,within=pe.NonNegativeReals)\n",
    "model.z = pe.Var(m.COMP_FEED,within=pe.NonNegativeReals)\n",
    "\n",
    "model.L = pe.Var(model.stream,within=pe.NonNegativeReals)\n",
    "model.V = pe.Var(model.stream,within=pe.NonNegativeReals)\n",
    "model.F = pe.Var(within=pe.NonNegativeReals)\n",
    "\n",
    "model.H_L_ = pe.Var(model.inlet,within=pe.Reals)\n",
    "model.H_V_ = pe.Var(model.inlet,within=pe.Reals)\n",
    "model.H_L = pe.Var(within=pe.Reals)\n",
    "model.H_V = pe.Var(within=pe.Reals)\n",
    "model.H_F = pe.Var(within=pe.Reals)\n",
    "\n",
    "# State Variable\n",
    "model.T = pe.Var(within=pe.NonNegativeReals,bounds=(200+273.15,300+273.15)) # K\n",
    "model.T_F = pe.Var(within=pe.NonNegativeReals) # K\n",
    "model.P = pe.Var(within=pe.NonNegativeReals,bounds=(10,30)) # Bar\n",
    "\n",
    "model.f_V = pe.Var(m.COMP_TOTAL,within=pe.NonNegativeReals,initialize=1e-20)\n",
    "model.f_L = pe.Var(m.COMP_TOTAL,within=pe.NonNegativeReals,initialize=1e-20)\n",
    "\n",
    "model.cat = pe.Var(within=pe.NonNegativeReals,initialize=30000) # kg\n",
    "model.Q_main = pe.Var(within=pe.Reals) # MW\n",
    "model.r_total_comp = pe.Var(m.COMP_TOTAL,within=pe.Reals) # kmol/s"
   ]
  },
  {
   "cell_type": "code",
   "execution_count": 7,
   "metadata": {},
   "outputs": [],
   "source": [
    "model.P_naphtha = pe.Var(within=pe.NonNegativeReals)\n",
    "model.P_gasoline = pe.Var(within=pe.NonNegativeReals)\n",
    "model.P_diesel = pe.Var(within=pe.NonNegativeReals)\n",
    "model.P_heavy = pe.Var(within=pe.NonNegativeReals)"
   ]
  },
  {
   "cell_type": "markdown",
   "metadata": {
    "slideshow": {
     "slide_type": "slide"
    }
   },
   "source": [
    "# Construct Individual Blocks"
   ]
  },
  {
   "cell_type": "code",
   "execution_count": 8,
   "metadata": {},
   "outputs": [],
   "source": [
    "if model.find_component('kinetics_block'):\n",
    "    print('haha')"
   ]
  },
  {
   "cell_type": "code",
   "execution_count": 9,
   "metadata": {
    "slideshow": {
     "slide_type": "subslide"
    }
   },
   "outputs": [
    {
     "name": "stdout",
     "output_type": "stream",
     "text": [
      "> Importing Kinetics Blocks......\n",
      "> Adding the following local variable:\n",
      "--------------------------------------------------\n",
      "| kinetics_block.k_FT\n",
      "| kinetics_block.r_FT_total\n",
      "| kinetics_block.g0_FT\n",
      "| kinetics_block.alpha\n",
      "| kinetics_block.r_FT_cnum\n",
      "| kinetics_block.r_FT_comp\n",
      "| kinetics_block.k_WGS\n",
      "| kinetics_block.Ke_WGS\n",
      "| kinetics_block.r_WGS\n",
      "| kinetics_block.r_WGS_comp\n",
      "--------------------------------------------------\n",
      "\n"
     ]
    }
   ],
   "source": [
    "model.kinetics_block = pe.Block(rule=kinetic_block_rule)"
   ]
  },
  {
   "cell_type": "code",
   "execution_count": 10,
   "metadata": {
    "slideshow": {
     "slide_type": "subslide"
    }
   },
   "outputs": [
    {
     "name": "stdout",
     "output_type": "stream",
     "text": [
      "> Importing Energy Blocks......\n",
      "> Adding the following local variable:\n",
      "--------------------------------------------------\n",
      "| energy_block.dH_F\n",
      "| energy_block.dH_V\n",
      "| energy_block.dH_L\n",
      "| energy_block.dH_vap\n",
      "--------------------------------------------------\n",
      "\n"
     ]
    }
   ],
   "source": [
    "model.energy_block = pe.Block(rule=energy_block_rule)"
   ]
  },
  {
   "cell_type": "code",
   "execution_count": 11,
   "metadata": {
    "scrolled": false,
    "slideshow": {
     "slide_type": "subslide"
    }
   },
   "outputs": [
    {
     "name": "stdout",
     "output_type": "stream",
     "text": [
      "> Importing VLE Blocks......\n",
      "> Adding the following local variable:\n",
      "--------------------------------------------------\n",
      "| VLE_block.P_VLE\n",
      "| VLE_block.n_ave\n",
      "| VLE_block.n_ave_cal\n",
      "| VLE_block.Hen\n",
      "| VLE_block.Hen0\n",
      "| VLE_block.gamma\n",
      "| VLE_block.P_sat\n",
      "| VLE_block.P_sat_Y\n",
      "| VLE_block.P_sat_dY_inf\n",
      "| VLE_block.P_sat_dY0\n",
      "| VLE_block.Hen_ref\n",
      "| VLE_block.Hen0_ref\n",
      "| VLE_block.gamma_ref\n",
      "| VLE_block.V_L\n",
      "| VLE_block.V_L_dY_inf\n",
      "| VLE_block.V_L_dY0\n",
      "| VLE_block.poynting\n",
      "--------------------------------------------------\n",
      "\n"
     ]
    }
   ],
   "source": [
    "model.VLE_block = pe.Block(rule=VLE_block_rule)"
   ]
  },
  {
   "cell_type": "markdown",
   "metadata": {
    "slideshow": {
     "slide_type": "slide"
    }
   },
   "source": [
    "# Standard MESH Equations"
   ]
  },
  {
   "cell_type": "markdown",
   "metadata": {
    "slideshow": {
     "slide_type": "subslide"
    }
   },
   "source": [
    "## Mass Balance"
   ]
  },
  {
   "cell_type": "markdown",
   "metadata": {
    "slideshow": {
     "slide_type": "fragment"
    }
   },
   "source": [
    "\\begin{equation}\n",
    "Fz_{i}+\\sum_{s\\in{inlet}}L_{s}x'_{i,s}+\\sum_{s\\in{inlet}}V_{s}y'_{i,s}-\\sum_{s\\in{outlet}}L_{s}x_{i,s}+\\sum_{s\\in{ouelet}}V_{s}y_{i,s}+R_{i} = 0 \\\\\n",
    "i = 1,...NC\n",
    "\\end{equation}"
   ]
  },
  {
   "cell_type": "code",
   "execution_count": 12,
   "metadata": {
    "slideshow": {
     "slide_type": "fragment"
    }
   },
   "outputs": [],
   "source": [
    "def mass_balance_main_rule(model,i):\n",
    "    if i in m.COMP_FEED:\n",
    "        return model.F*model.z[i] + sum(model.L[s]*model.x_[s,i] + model.V[s]*model.y_[s,i] for s in model.inlet)\\\n",
    "        + model.r_total_comp[i] - sum(model.L[s]*model.x[i] + model.V[s]*model.y[i] for s in model.outlet) == 0\n",
    "    else:\n",
    "        return sum(model.L[s]*model.x_[s,i] + model.V[s]*model.y_[s,i] for s in model.inlet)\\\n",
    "        + model.r_total_comp[i] - sum(model.L[s]*model.x[i] + model.V[s]*model.y[i] for s in model.outlet) == 0\n",
    "model.mass_balance_main_con = pe.Constraint(m.COMP_TOTAL,rule=mass_balance_main_rule)"
   ]
  },
  {
   "cell_type": "markdown",
   "metadata": {
    "slideshow": {
     "slide_type": "subslide"
    }
   },
   "source": [
    "## Equilibrium"
   ]
  },
  {
   "cell_type": "markdown",
   "metadata": {
    "slideshow": {
     "slide_type": "fragment"
    }
   },
   "source": [
    "\\begin{align}\n",
    "&f_{i,V} = f_{i,L} \\\\\n",
    "&i = 1,...NC\n",
    "\\end{align}"
   ]
  },
  {
   "cell_type": "code",
   "execution_count": 13,
   "metadata": {
    "slideshow": {
     "slide_type": "fragment"
    }
   },
   "outputs": [],
   "source": [
    "def VL_equil_rule(model,i):\n",
    "    return model.f_V[i] == model.f_L[i]\n",
    "model.VL_equil_con = pe.Constraint(m.COMP_TOTAL,rule=VL_equil_rule)"
   ]
  },
  {
   "cell_type": "markdown",
   "metadata": {
    "slideshow": {
     "slide_type": "subslide"
    }
   },
   "source": [
    "## Summation"
   ]
  },
  {
   "cell_type": "markdown",
   "metadata": {
    "slideshow": {
     "slide_type": "fragment"
    }
   },
   "source": [
    "\\begin{equation}\n",
    "\\sum_ix_{i} = \\sum_iy_{i} \\\\\n",
    "F + L_{in} + V_{in} + R = L_{out} + V_{out}\n",
    "\\end{equation}"
   ]
  },
  {
   "cell_type": "code",
   "execution_count": 14,
   "metadata": {
    "slideshow": {
     "slide_type": "fragment"
    }
   },
   "outputs": [],
   "source": [
    "def summation_x_y_rule(model):\n",
    "    return sum(model.x[i] for i in m.COMP_TOTAL) == sum(model.y[i] for i in m.COMP_TOTAL)\n",
    "model.summation_x_y_con = pe.Constraint(rule=summation_x_y_rule)\n",
    "\n",
    "def summation_total_mass_rule(model):\n",
    "    return model.F + sum(model.L[s] + model.V[s] for s in model.inlet) + sum(model.r_total_comp[i] for i in m.COMP_TOTAL)\\\n",
    "            - sum(model.L[s] + model.V[s] for s in model.outlet) == 0\n",
    "model.summation_total_mass_con = pe.Constraint(rule=summation_total_mass_rule)"
   ]
  },
  {
   "cell_type": "markdown",
   "metadata": {
    "slideshow": {
     "slide_type": "subslide"
    }
   },
   "source": [
    "## Energy Balance"
   ]
  },
  {
   "cell_type": "markdown",
   "metadata": {
    "slideshow": {
     "slide_type": "fragment"
    }
   },
   "source": [
    "\\begin{equation}\n",
    "F H_f+\\sum_{s\\in{inlet}}L_{s}H_{l,s}+\\sum_{s\\in{inlet}}V_{s}H_{v,s}-\\sum_{s\\in{outlet}}L_{s}H_{l,s}-\\sum_{s\\in{outlet}}V_{s}H_{v,s}+Q = 0\n",
    "\\end{equation}"
   ]
  },
  {
   "cell_type": "code",
   "execution_count": 15,
   "metadata": {
    "slideshow": {
     "slide_type": "fragment"
    }
   },
   "outputs": [],
   "source": [
    "def heat_balance_main_rule(model):\n",
    "    return model.F*model.H_F + sum(model.L[s]*model.H_L_[s] + model.V[s]*model.H_V_[s] for s in model.inlet) \\\n",
    "            + model.Q_main - sum(model.L[s]*model.H_L + model.V[s]*model.H_V for s in model.outlet) == 0\n",
    "model.heat_balance_main_con = pe.Constraint(rule=heat_balance_main_rule)"
   ]
  },
  {
   "cell_type": "markdown",
   "metadata": {},
   "source": [
    "# Product Amount / Total Revenue"
   ]
  },
  {
   "cell_type": "code",
   "execution_count": 16,
   "metadata": {},
   "outputs": [],
   "source": [
    "def P_naphtha_rule(model):\n",
    "    return model.P_naphtha == model.V['out'] * sum(model.y[i] for i in model.comp_naphtha) + \\\n",
    "                              model.L['out'] * sum(model.x[i] for i in model.comp_naphtha)\n",
    "model.P_naphtha_con = pe.Constraint(rule=P_naphtha_rule)\n",
    "\n",
    "def P_gasoline_rule(model):\n",
    "    return model.P_gasoline == model.V['out'] * sum(model.y[i] for i in model.comp_gasoline) + \\\n",
    "                               model.L['out'] * sum(model.x[i] for i in model.comp_gasoline)\n",
    "model.P_gasoline_con = pe.Constraint(rule=P_gasoline_rule)\n",
    "\n",
    "def P_diesel_rule(model):\n",
    "    return model.P_diesel == model.V['out'] * sum(model.y[i] for i in model.comp_diesel) + \\\n",
    "                             model.L['out'] * sum(model.x[i] for i in model.comp_diesel)\n",
    "model.P_diesel_con = pe.Constraint(rule=P_diesel_rule)\n",
    "\n",
    "def P_heavy_rule(model):\n",
    "    return model.P_heavy == model.V['out'] * sum(model.y[i] for i in model.comp_heavy) + \\\n",
    "                             model.L['out'] * sum(model.x[i] for i in model.comp_heavy)\n",
    "model.P_heavy_con = pe.Constraint(rule=P_heavy_rule)"
   ]
  },
  {
   "cell_type": "markdown",
   "metadata": {},
   "source": [
    "## MPCC: Add all three"
   ]
  },
  {
   "cell_type": "code",
   "execution_count": 17,
   "metadata": {
    "scrolled": false
   },
   "outputs": [
    {
     "name": "stdout",
     "output_type": "stream",
     "text": [
      "> Importing MPCC_P_pf Blocks......\n",
      "> Adding the following local variable:\n",
      "--------------------------------------------------\n",
      "| MPCC_P_pf.s_L\n",
      "| MPCC_P_pf.s_V\n",
      "| MPCC_P_pf.pf\n",
      "| MPCC_P_pf.epi\n",
      "| MPCC_P_pf.rho\n",
      "--------------------------------------------------\n",
      "> Spliting pressure used in VLE\n",
      "Deleted original P_equal constraint\n",
      "\n",
      "> Deleted kinetics rates constraints\n",
      "> Added f_V_MPCC, updated rates constraints\n",
      "\n",
      "> Importing MPCC_P_NCP Blocks......\n",
      "> Adding the following local variable:\n",
      "--------------------------------------------------\n",
      "| MPCC_P_NCP.s_L\n",
      "| MPCC_P_NCP.s_V\n",
      "| MPCC_P_NCP.epi\n",
      "--------------------------------------------------\n",
      "> Adding complementarity constraint, spliting pressure used in VLE\n",
      "> No constraint to delete\n",
      "\n",
      "> Already replaced f_V_MPCC\n",
      "\n",
      "> Importing MPCC_P_Reg Blocks......\n",
      "> Adding the following local variable:\n",
      "--------------------------------------------------\n",
      "| MPCC_P_Reg.s_L\n",
      "| MPCC_P_Reg.s_V\n",
      "| MPCC_P_Reg.epi\n",
      "--------------------------------------------------\n",
      "> Adding complementarity constraint, spliting pressure used in VLE\n",
      "No constraint to delete\n",
      "\n",
      "> Already replaced f_V_MPCC\n",
      "\n"
     ]
    }
   ],
   "source": [
    "model.MPCC_P_pf = pe.Block(rule = P_pf_block_rule)\n",
    "model.MPCC_P_NCP = pe.Block(rule = P_NCP_block_rule)\n",
    "model.MPCC_P_Reg = pe.Block(rule = P_Reg_block_rule)"
   ]
  },
  {
   "cell_type": "code",
   "execution_count": 18,
   "metadata": {
    "scrolled": true
   },
   "outputs": [
    {
     "name": "stdout",
     "output_type": "stream",
     "text": [
      "> Selected MPCC: MPCC_P_pf\n",
      "s_L:  0\n",
      "s_V:  0\n",
      "\n"
     ]
    }
   ],
   "source": [
    "select_MPCC(model,'pf')"
   ]
  },
  {
   "cell_type": "markdown",
   "metadata": {
    "slideshow": {
     "slide_type": "slide"
    }
   },
   "source": [
    "# Testing"
   ]
  },
  {
   "cell_type": "code",
   "execution_count": 19,
   "metadata": {
    "slideshow": {
     "slide_type": "fragment"
    }
   },
   "outputs": [
    {
     "name": "stdout",
     "output_type": "stream",
     "text": [
      "Created the follow pyomo suffixes:\n",
      "ipopt_zL_out, ipopt_zU_out, ipopt_zL_in, ipopt_zU_in, dual\n"
     ]
    }
   ],
   "source": [
    "add_dual(pe,model)"
   ]
  },
  {
   "cell_type": "markdown",
   "metadata": {
    "slideshow": {
     "slide_type": "fragment"
    }
   },
   "source": [
    "## Fixing In/Product Redundent Flow"
   ]
  },
  {
   "cell_type": "code",
   "execution_count": 20,
   "metadata": {
    "slideshow": {
     "slide_type": "fragment"
    }
   },
   "outputs": [],
   "source": [
    "model.x_.fix(0)\n",
    "model.y_.fix(0)\n",
    "model.L['in'].fix(0)\n",
    "model.L['R'].fix(0)\n",
    "model.L['P'].fix(0)\n",
    "\n",
    "model.V['in'].fix(0)\n",
    "model.V['R'].fix(0)\n",
    "model.V['P'].fix(0)\n",
    "model.H_L_.fix(0)\n",
    "model.H_V_.fix(0)"
   ]
  },
  {
   "cell_type": "markdown",
   "metadata": {
    "slideshow": {
     "slide_type": "subslide"
    }
   },
   "source": [
    "## Fixing Model Parameters"
   ]
  },
  {
   "cell_type": "code",
   "execution_count": 21,
   "metadata": {
    "slideshow": {
     "slide_type": "fragment"
    }
   },
   "outputs": [],
   "source": [
    "model.cat.fix(30000)\n",
    "model.P.fix(20)\n",
    "model.T_F.fix(200+273.15)\n",
    "model.F.fix(10)\n",
    "model.z['CO'].fix(1/(1+2)-0/2)\n",
    "model.z['H2'].fix(2/(1+2)-0/2)\n",
    "model.z['C30H62'].fix(0)\n",
    "model.VLE_block.n_ave.fix(20)"
   ]
  },
  {
   "cell_type": "code",
   "execution_count": 22,
   "metadata": {
    "slideshow": {
     "slide_type": "fragment"
    }
   },
   "outputs": [],
   "source": [
    "model.T.setub(300+273.15)"
   ]
  },
  {
   "cell_type": "markdown",
   "metadata": {},
   "source": [
    "# Objective"
   ]
  },
  {
   "cell_type": "code",
   "execution_count": 23,
   "metadata": {
    "slideshow": {
     "slide_type": "fragment"
    }
   },
   "outputs": [
    {
     "name": "stdout",
     "output_type": "stream",
     "text": [
      "------------------------------------------------------------------------------------------------------------\n",
      "> Obj = maximize\n",
      "> 43*P_naphtha + 90*P_gasoline + 128*P_diesel + 100*P_heavy - MPCC_P_pf.pf\n",
      "------------------------------------------------------------------------------------------------------------\n"
     ]
    }
   ],
   "source": [
    "model.obj = augmented_objective(pe, model, expr = 43*model.P_naphtha + 90*model.P_gasoline + 128*model.P_diesel + \\\n",
    "                                100*model.P_heavy, sense=pe.maximize)\n",
    "# model.obj = augmented_objective(pe, model, expr = 54*model.P_naphtha + 112*model.P_gasoline + 161*model.P_diesel + \\\n",
    "#                                 350*model.P_heavy, sense=pe.maximize)"
   ]
  },
  {
   "cell_type": "code",
   "execution_count": 24,
   "metadata": {
    "scrolled": false,
    "slideshow": {
     "slide_type": "fragment"
    }
   },
   "outputs": [],
   "source": [
    "opt = add_solver(pe, max_iter = 5000, warm_start = False, output = False)\n",
    "disable_restoration(mode = 'enable')"
   ]
  },
  {
   "cell_type": "code",
   "execution_count": 25,
   "metadata": {
    "scrolled": true
   },
   "outputs": [
    {
     "name": "stdout",
     "output_type": "stream",
     "text": [
      "Ipopt 3.12.10: print_user_options=yes\n",
      "tol=1e-08\n",
      "option_file_name=./ipopt.opt\n",
      "max_iter=5000\n",
      "\n",
      "Using option file \"./ipopt.opt\".\n",
      "\n",
      "\n",
      "List of user-set options:\n",
      "\n",
      "                                    Name   Value                used\n",
      "                           compl_inf_tol = 1                     yes\n",
      "                         constr_viol_tol = 1                     yes\n",
      "                            dual_inf_tol = 1000                  yes\n",
      "                           linear_solver = mumps                 yes\n",
      "                              ma86_small = 1e-30                  no\n",
      "                                  ma86_u = 0.0001                 no\n",
      "                              ma97_order = best                   no\n",
      "                              ma97_small = 1e-30                  no\n",
      "                            ma97_switch1 = at_start               no\n",
      "                            ma97_switch2 = od_hd_reuse            no\n",
      "                                  ma97_u = 1e-06                  no\n",
      "                               ma97_umax = 0.5                    no\n",
      "                                max_iter = 5000                  yes\n",
      "                    max_refinement_steps = 20                    yes\n",
      "                    min_refinement_steps = 5                     yes\n",
      "           mu_superlinear_decrease_power = 1.25                  yes\n",
      "                   nlp_scaling_min_value = 1e-08                 yes\n",
      "                        option_file_name = ./ipopt.opt           yes\n",
      "                      print_user_options = yes                   yes\n",
      "                                     tol = 1e-08                 yes\n",
      "                   warm_start_bound_frac = 1e-20                 yes\n",
      "                warm_start_mult_init_max = 1e+40                 yes\n",
      "             warm_start_slack_bound_frac = 1e-20                 yes\n",
      "             warm_start_slack_bound_push = 1e-20                 yes\n",
      "\n",
      "******************************************************************************\n",
      "This program contains Ipopt, a library for large-scale nonlinear optimization.\n",
      " Ipopt is released as open source code under the Eclipse Public License (EPL).\n",
      "         For more information visit http://projects.coin-or.org/Ipopt\n",
      "******************************************************************************\n",
      "\n",
      "This is Ipopt version 3.12.10, running with linear solver mumps.\n",
      "NOTE: Other linear solvers might be more efficient (see Ipopt documentation).\n",
      "\n",
      "Number of nonzeros in equality constraint Jacobian...:     4168\n",
      "Number of nonzeros in inequality constraint Jacobian.:        5\n",
      "Number of nonzeros in Lagrangian Hessian.............:     4395\n",
      "\n",
      "Total number of variables............................:     1194\n",
      "                     variables with only lower bounds:      391\n",
      "                variables with lower and upper bounds:      633\n",
      "                     variables with only upper bounds:        0\n",
      "Total number of equality constraints.................:     1190\n",
      "Total number of inequality constraints...............:        1\n",
      "        inequality constraints with only lower bounds:        0\n",
      "   inequality constraints with lower and upper bounds:        0\n",
      "        inequality constraints with only upper bounds:        1\n",
      "\n",
      "iter    objective    inf_pr   inf_du lg(mu)  ||d||  lg(rg) alpha_du alpha_pr  ls\n",
      "   0 -3.5999964e+00 9.24e+03 1.01e+02  -1.0 0.00e+00    -  0.00e+00 0.00e+00   0\n",
      "   1 -3.6000678e+00 9.24e+03 1.01e+02  -1.0 2.25e+05    -  2.96e-06 1.15e-05h  1\n",
      "   2 -3.6001439e+00 9.24e+03 1.01e+02  -1.0 2.94e+05    -  3.75e-06 1.18e-05h  1\n",
      "   3r-3.6001439e+00 9.24e+03 9.99e+02   3.9 0.00e+00   0.0 0.00e+00 4.69e-07R  2\n",
      "   4r-3.6732764e+00 9.24e+03 7.58e+05   3.9 5.41e+05    -  2.05e-03 6.15e-08f  1\n",
      "   5r-1.5454511e+01 7.00e+03 8.41e+05   3.9 4.75e+05    -  4.74e-04 3.80e-03f  1\n",
      "   6 -1.5454316e+01 7.00e+03 1.01e+02  -1.0 9.96e+04    -  2.26e-05 3.10e-05h  1\n",
      "   7 -1.5454252e+01 7.00e+03 1.01e+02  -1.0 1.81e+04    -  5.23e-05 3.09e-05h  1\n",
      "   8 -1.5454051e+01 7.00e+03 1.01e+02  -1.0 1.49e+04    -  9.07e-05 1.41e-04h  1\n",
      "   9 -1.5454021e+01 7.00e+03 1.01e+02  -1.0 6.10e+04    -  2.15e-04 1.84e-05h  1\n",
      "iter    objective    inf_pr   inf_du lg(mu)  ||d||  lg(rg) alpha_du alpha_pr  ls\n",
      "  10 -1.5453688e+01 7.00e+03 1.01e+02  -1.0 6.43e+04    -  1.92e-04 7.73e-05h  1\n",
      "  11 -1.5452905e+01 7.00e+03 9.12e+02  -1.0 1.01e+05    -  6.12e-04 1.97e-05h  1\n",
      "  12 -1.5405459e+01 7.00e+03 2.73e+03  -1.0 1.08e+05    -  4.17e-05 3.89e-05h  1\n",
      "  13  8.9515078e-01 7.00e+03 1.29e+04  -1.0 1.27e+05    -  7.69e-07 1.28e-04h  1\n",
      "  14  2.3696609e+01 7.00e+03 1.18e+04  -1.0 2.19e+05    -  7.49e-05 1.04e-04h  1\n",
      "  15r 2.3696609e+01 7.00e+03 1.00e+03   3.8 0.00e+00    -  0.00e+00 2.64e-07R  3\n",
      "  16r 2.3443817e+01 7.00e+03 5.01e+04   3.8 6.09e+05    -  3.52e-04 7.44e-07f  1\n",
      "  17r 1.8760506e+01 4.94e+03 4.68e+04   2.4 6.18e+05    -  3.94e-04 2.68e-03f  1\n",
      "  18  8.1124050e+01 4.94e+03 2.81e+02  -1.0 1.51e+05    -  2.08e-05 4.13e-04h  1\n",
      "  19r 8.1124050e+01 4.94e+03 9.99e+02   3.6 0.00e+00    -  0.00e+00 2.70e-07R  5\n",
      "iter    objective    inf_pr   inf_du lg(mu)  ||d||  lg(rg) alpha_du alpha_pr  ls\n",
      "  20r 8.1106990e+01 4.94e+03 2.01e+05   3.6 6.51e+05    -  2.68e-03 1.06e-07f  2\n",
      "  21r 7.3414549e+01 1.17e+03 2.00e+05   2.9 6.16e+05    -  6.91e-03 4.86e-03f  1\n",
      "  22  8.2402592e+01 1.17e+03 1.41e+02  -1.0 9.59e+04    -  5.70e-04 9.37e-05h  1\n",
      "  23r 8.2402592e+01 1.17e+03 9.99e+02   3.0 0.00e+00    -  0.00e+00 3.01e-07R  3\n",
      "  24r 8.2286720e+01 1.16e+03 6.81e+04   3.0 6.19e+05    -  5.27e-03 8.71e-06f  1\n",
      "  25r 6.6748219e+01 5.13e+02 8.15e+04   3.0 2.00e+05    -  1.00e-02 4.74e-03f  1\n",
      "  26  7.8028680e+01 5.13e+02 1.41e+02  -1.0 9.67e+04    -  5.23e-04 1.17e-04h  3\n",
      "  27  8.6093470e+01 5.13e+02 3.03e+02  -1.0 1.80e+05    -  6.07e-04 4.48e-05h  4\n",
      "  28r 8.6093470e+01 5.13e+02 9.99e+02   2.7 0.00e+00    -  0.00e+00 3.14e-07R 11\n",
      "  29r 8.5962198e+01 5.13e+02 2.81e+04   2.7 2.57e+04    -  7.38e-03 1.99e-05f  1\n",
      "iter    objective    inf_pr   inf_du lg(mu)  ||d||  lg(rg) alpha_du alpha_pr  ls\n",
      "  30r 7.2093260e+01 5.12e+02 2.56e+04   2.7 2.24e+04    -  8.90e-03 1.17e-02f  1\n",
      "  31r 6.3592909e+01 5.12e+02 2.21e+04   2.7 9.11e+03    -  4.89e-02 1.01e-02f  1\n",
      "  32r 6.3570508e+01 5.10e+02 2.32e+04   2.0 4.09e+03    -  2.53e-02 5.74e-02f  1\n",
      "  33r 6.3490133e+01 5.02e+02 2.18e+04   2.0 1.17e+03    -  5.47e-02 8.38e-02f  1\n",
      "  34r 6.4059977e+01 4.93e+02 1.57e+04   2.0 1.96e+02    -  1.87e-01 9.50e-02f  1\n",
      "  35r 6.7051162e+01 4.80e+02 1.44e+04   2.0 1.65e+02    -  3.00e-01 1.63e-01f  1\n",
      "  36r 7.4974045e+01 4.73e+02 1.21e+04   1.3 8.37e+01    -  8.63e-02 1.06e-01f  1\n",
      "  37r 7.4545675e+01 4.73e+02 1.21e+04   1.3 1.08e+03   0.0 1.30e-03 1.25e-03f  1\n",
      "  38r 7.1753197e+01 4.72e+02 1.34e+05   1.3 2.46e+01   1.3 3.26e-01 7.83e-02f  1\n",
      "  39r 7.3766309e+01 4.72e+02 1.29e+05   1.3 1.32e+00   2.7 3.34e-02 3.54e-02f  1\n",
      "iter    objective    inf_pr   inf_du lg(mu)  ||d||  lg(rg) alpha_du alpha_pr  ls\n",
      "  40r 7.7084418e+01 4.72e+02 2.77e+05   1.3 5.82e-01   3.1 5.12e-02 2.24e-01f  1\n",
      "  41r 7.6393298e+01 4.72e+02 4.96e+05   1.3 2.33e-01   5.3 3.48e-02 5.51e-01f  1\n",
      "  42r 7.6058665e+01 4.72e+02 1.02e+05   1.3 1.56e-01   4.8 7.22e-01 1.00e+00f  1\n",
      "  43r 7.5557638e+01 4.72e+02 5.35e+04   1.3 5.01e-02   4.4 9.96e-01 1.00e+00f  1\n",
      "  44r 7.4993282e+01 4.72e+02 1.27e+03   1.3 1.23e-01   3.9 1.00e+00 8.53e-01f  1\n",
      "  45r 8.2367402e+01 4.72e+02 6.06e+03   0.6 3.71e-01   3.4 6.29e-01 2.97e-01f  1\n",
      "  46r 1.0647108e+02 4.72e+02 4.54e+03   0.6 1.05e+00   2.9 3.59e-01 2.44e-01f  1\n",
      "  47r 1.1399844e+02 4.71e+02 4.49e+03   0.6 2.64e+00   2.5 2.70e-01 1.33e-01f  1\n",
      "  48r 1.1981284e+02 4.71e+02 6.03e+03   0.6 1.03e+00   2.9 5.96e-01 2.52e-01f  1\n",
      "  49r 1.2029474e+02 4.71e+02 5.02e+03   0.6 2.67e+00   2.4 1.68e-01 8.69e-02f  1\n",
      "iter    objective    inf_pr   inf_du lg(mu)  ||d||  lg(rg) alpha_du alpha_pr  ls\n",
      "  50r 1.2299728e+02 4.71e+02 2.09e+03   0.6 1.06e+00   2.8 1.00e+00 4.33e-01f  1\n",
      "  51r 1.2531369e+02 4.71e+02 7.22e+02   0.6 4.02e-01   3.3 1.00e+00 1.00e+00f  1\n",
      "  52r 1.2488651e+02 4.70e+02 3.77e+03   0.6 1.07e+00   2.8 1.00e+00 4.18e-01f  1\n",
      "  53r 1.2255800e+02 4.69e+02 2.61e+03   0.6 2.56e+00   2.3 7.15e-01 6.30e-01f  1\n",
      "  54r 1.2239046e+02 4.68e+02 4.81e+03   0.6 8.60e-01   2.7 7.20e-01 3.18e-01f  1\n",
      "  55r 1.2132066e+02 4.68e+02 1.42e+03   0.6 2.55e+00   2.2 9.51e-01 3.24e-01f  1\n",
      "  56r 1.2015932e+02 4.67e+02 1.43e+03   0.6 7.55e+00   1.8 2.08e-01 1.08e-01f  1\n",
      "  57r 1.1271167e+02 4.62e+02 1.70e+03   0.6 2.19e+01   1.3 1.81e-01 2.44e-01f  1\n",
      "  58  1.1094582e+02 4.62e+02 3.21e+02  -1.0 1.22e+05    -  5.42e-04 1.44e-05f  1\n",
      "  59  9.8727107e+01 4.61e+02 2.23e+03  -1.0 1.55e+04    -  2.32e-02 7.90e-04f  1\n",
      "iter    objective    inf_pr   inf_du lg(mu)  ||d||  lg(rg) alpha_du alpha_pr  ls\n",
      "  60  9.8690373e+01 4.61e+02 2.32e+03  -1.0 4.61e+02    -  1.41e-03 4.43e-04h  4\n",
      "  61  9.8625976e+01 4.61e+02 2.92e+03  -1.0 4.61e+02    -  7.21e-03 7.91e-04h  3\n",
      "  62  9.8583527e+01 4.60e+02 3.21e+03  -1.0 5.07e+02    -  3.75e-03 6.34e-04h  3\n",
      "  63  9.8581319e+01 4.60e+02 3.55e+03  -1.0 5.39e+02    -  4.10e-03 4.93e-04h  3\n",
      "  64  1.0599717e+02 4.59e+02 3.42e+03  -1.0 5.51e+03    -  6.77e-05 1.34e-03h  2\n",
      "  65  1.4065640e+02 4.58e+02 4.06e+03  -1.0 1.01e+04    -  1.02e-02 3.43e-03h  1\n",
      "  66  1.9145804e+02 4.57e+02 4.11e+03  -1.0 2.02e+04    -  3.16e-03 2.52e-03h  1\n",
      "  67  2.8419660e+02 4.55e+02 4.00e+03  -1.0 2.64e+04    -  2.59e-03 3.51e-03h  1\n",
      "  68  5.4713254e+02 4.51e+02 5.07e+04  -1.0 3.23e+04    -  1.51e-03 8.13e-03h  2\n",
      "  69  6.8158127e+02 4.50e+02 3.62e+04  -1.0 4.30e+04    -  1.80e-02 3.13e-03h  2\n",
      "iter    objective    inf_pr   inf_du lg(mu)  ||d||  lg(rg) alpha_du alpha_pr  ls\n",
      "  70  6.9591211e+02 4.50e+02 2.35e+05  -1.0 4.63e+04    -  8.02e-02 3.09e-04h  6\n"
     ]
    },
    {
     "name": "stdout",
     "output_type": "stream",
     "text": [
      "  71  7.1031347e+02 4.50e+02 3.02e+05  -1.0 4.67e+04    -  1.88e-02 3.08e-04h  9\n",
      "  72  7.3672627e+02 4.49e+02 4.80e+05  -1.0 4.70e+04    -  6.94e-02 5.62e-04h  9\n",
      "  73  7.6380714e+02 4.49e+02 5.35e+05  -1.0 4.75e+04    -  2.05e-02 5.70e-04h  9\n",
      "  74  7.9157029e+02 4.49e+02 8.80e+05  -1.0 4.80e+04    -  1.62e-01 5.78e-04h  9\n",
      "  75  8.2002534e+02 4.49e+02 9.58e+05  -1.0 4.86e+04    -  1.84e-02 5.86e-04h  9\n",
      "  76  8.4918957e+02 4.48e+02 1.08e+06  -1.0 4.91e+04    -  3.80e-02 5.94e-04h  9\n",
      "  77  8.7907879e+02 4.48e+02 1.13e+06  -1.0 4.96e+04    -  3.25e-02 6.02e-04h  9\n",
      "  78  8.7187577e+03 1.71e+04 1.56e+06  -1.0 5.02e+04    -  5.10e-02 1.56e-01w  1\n",
      "  79  8.8106159e+03 1.71e+04 1.57e+06  -1.0 1.04e+05    -  7.99e-04 8.85e-04w  1\n",
      "iter    objective    inf_pr   inf_du lg(mu)  ||d||  lg(rg) alpha_du alpha_pr  ls\n",
      "  80  8.8109935e+03 1.71e+04 1.62e+06  -1.0 1.17e+05    -  6.30e-04 3.23e-06w  1\n",
      "  81  9.0970254e+02 4.48e+02 1.28e+06  -1.0 9.20e+04    -  5.10e-02 6.10e-04h  8\n",
      "  82  9.4107993e+02 4.48e+02 1.33e+06  -1.0 5.07e+04    -  2.78e-02 6.19e-04h  9\n",
      "  83  9.7322116e+02 4.47e+02 1.69e+06  -1.0 5.12e+04    -  1.39e-01 6.28e-04h  9\n",
      "  84  1.0061435e+03 4.47e+02 1.73e+06  -1.0 5.17e+04    -  2.18e-02 6.36e-04h  9\n",
      "  85  1.0398599e+03 4.47e+02 2.11e+06  -1.0 5.22e+04    -  1.98e-01 6.45e-04h  9\n",
      "  86  1.0743836e+03 4.46e+02 2.14e+06  -1.0 5.27e+04    -  2.20e-02 6.54e-04h  9\n",
      "  87  1.1097341e+03 4.46e+02 2.47e+06  -1.0 5.32e+04    -  2.78e-01 6.64e-04h  9\n",
      "  88  1.1459273e+03 4.46e+02 2.49e+06  -1.0 5.37e+04    -  2.23e-02 6.73e-04h  9\n",
      "  89  1.1829800e+03 4.46e+02 2.61e+06  -1.0 5.42e+04    -  1.16e-01 6.83e-04h  9\n",
      "iter    objective    inf_pr   inf_du lg(mu)  ||d||  lg(rg) alpha_du alpha_pr  ls\n",
      "  90  1.2209088e+03 4.45e+02 2.63e+06  -1.0 5.47e+04    -  2.70e-02 6.93e-04h  9\n",
      "  91  1.1159342e+04 2.00e+04 8.29e+05  -1.0 5.52e+04    -  4.32e-01 1.80e-01w  1\n",
      "  92  1.1848829e+04 1.99e+04 4.81e+06  -1.0 9.13e+04    -  6.62e-02 7.55e-03w  1\n",
      "  93  1.3681086e+04 1.94e+04 3.38e+06  -1.0 9.69e+04    -  6.09e-04 1.89e-02w  1\n",
      "  94  1.2597308e+03 4.45e+02 2.93e+06  -1.0 9.19e+04    -  4.32e-01 7.03e-04h  8\n",
      "  95  1.2994632e+03 4.45e+02 2.95e+06  -1.0 5.57e+04    -  2.37e-02 7.13e-04h  9\n",
      "  96  1.3401237e+03 4.44e+02 3.03e+06  -1.0 5.62e+04    -  1.09e-01 7.24e-04h  9\n",
      "  97  1.3817302e+03 4.44e+02 3.04e+06  -1.0 5.67e+04    -  3.11e-02 7.34e-04h  9\n",
      "  98  1.4243009e+03 4.44e+02 3.30e+06  -1.0 5.71e+04    -  6.39e-01 7.45e-04h  9\n",
      "  99  1.4678545e+03 4.43e+02 3.33e+06  -1.0 5.76e+04    -  2.54e-02 7.56e-04h  9\n",
      "iter    objective    inf_pr   inf_du lg(mu)  ||d||  lg(rg) alpha_du alpha_pr  ls\n",
      " 100  1.5124097e+03 4.43e+02 3.45e+06  -1.0 5.81e+04    -  1.08e-01 7.67e-04h  9\n",
      " 101  1.5579858e+03 4.43e+02 3.47e+06  -1.0 5.85e+04    -  3.58e-02 7.79e-04h  9\n",
      " 102  1.6046022e+03 4.42e+02 4.08e+06  -1.0 5.90e+04    -  6.65e-01 7.90e-04h  9\n",
      " 103  1.6522816e+03 4.42e+02 4.18e+06  -1.0 5.94e+04    -  2.76e-02 8.02e-04h  9\n",
      " 104  1.4135091e+04 2.34e+04 8.91e+06  -1.0 5.99e+04    -  1.42e-01 2.09e-01w  1\n",
      " 105  1.4177036e+04 2.34e+04 8.91e+06  -1.0 1.59e+05    -  1.78e-03 2.63e-04w  1\n",
      " 106  1.4843567e+04 2.32e+04 8.84e+06  -1.0 9.12e+04    -  7.59e-02 7.31e-03w  1\n",
      " 107  1.7010426e+03 4.42e+02 4.70e+06  -1.0 9.14e+04    -  1.42e-01 8.14e-04h  8\n",
      " 108  1.7368615e+03 4.41e+02 4.74e+06  -1.0 6.03e+04    -  1.05e-02 5.94e-04h  8\n",
      " 109  1.7808773e+03 4.41e+02 4.73e+06  -1.0 6.06e+04    -  9.46e-03 7.26e-04h  5\n",
      "iter    objective    inf_pr   inf_du lg(mu)  ||d||  lg(rg) alpha_du alpha_pr  ls\n",
      " 110  1.8328382e+03 4.41e+02 4.72e+06  -1.0 6.10e+04    -  6.63e-03 8.52e-04h  5\n",
      " 111  1.8857348e+03 4.40e+02 4.64e+06  -1.0 6.14e+04    -  5.01e-02 8.61e-04h  5\n",
      " 112  1.9170695e+03 4.40e+02 4.62e+06  -1.0 6.18e+04    -  1.51e-02 5.07e-04h  7\n",
      " 113  1.9476946e+03 4.40e+02 3.54e+06  -1.0 6.21e+04    -  3.39e-01 4.93e-04h  7\n",
      " 114  1.9863348e+03 4.40e+02 3.39e+06  -1.0 6.23e+04    -  2.35e-02 6.20e-04h  8\n",
      " 115  2.0226063e+03 4.39e+02 2.55e+06  -1.0 6.26e+04    -  6.57e-02 5.79e-04h  8\n",
      " 116  2.0677428e+03 4.39e+02 2.05e+06  -1.0 6.29e+04    -  3.88e-02 7.18e-04h  8\n",
      " 117  8.5349404e+03 4.99e+03 4.33e+06  -1.0 6.32e+04    -  9.88e-02 1.02e-01w  1\n",
      " 118  9.1459217e+03 4.96e+03 4.37e+06  -1.0 7.87e+04    -  3.21e-02 7.76e-03w  1\n",
      " 119  1.0133109e+04 4.89e+03 1.06e+07  -1.0 7.89e+04    -  1.37e-01 1.25e-02w  1\n",
      "iter    objective    inf_pr   inf_du lg(mu)  ||d||  lg(rg) alpha_du alpha_pr  ls\n",
      " 120  2.1182678e+03 4.39e+02 3.83e+06  -1.0 7.81e+04    -  9.88e-02 8.00e-04h  7\n",
      " 121  2.1610779e+03 4.38e+02 3.80e+06  -1.0 6.36e+04    -  4.70e-03 6.72e-04h  8\n",
      " 122  2.2237438e+03 4.38e+02 3.69e+06  -1.0 6.40e+04    -  6.54e-03 9.79e-04h  7\n",
      " 123  2.2867951e+03 4.37e+02 3.53e+06  -1.0 6.44e+04    -  8.90e-03 9.79e-04h  7\n",
      " 124  2.3537872e+03 4.37e+02 2.75e+06  -1.0 6.48e+04    -  3.52e-02 1.03e-03h  7\n",
      " 125  2.3986894e+03 4.37e+02 2.57e+06  -1.0 6.52e+04    -  8.76e-03 6.89e-04h  8\n",
      " 126  2.4427936e+03 4.36e+02 4.22e+06  -1.0 6.54e+04    -  9.88e-02 6.74e-04h  8\n",
      " 127  2.5139015e+03 4.36e+02 4.22e+06  -1.0 6.60e+04    -  3.46e-03 1.08e-03h  7\n",
      " 128  2.5545524e+03 4.36e+02 4.13e+06  -1.0 6.67e+04    -  6.04e-03 6.09e-04h  7\n",
      " 129  2.5971495e+03 4.35e+02 3.97e+06  -1.0 6.69e+04    -  8.89e-03 6.37e-04h  7\n",
      "iter    objective    inf_pr   inf_du lg(mu)  ||d||  lg(rg) alpha_du alpha_pr  ls\n",
      " 130  5.6468071e+03 8.70e+02 4.77e+06  -1.0 6.71e+04    -  1.59e-02 4.55e-02w  1\n",
      " 131  7.9008168e+03 1.00e+03 4.07e+06  -1.0 7.63e+04    -  1.27e-01 2.95e-02w  1\n",
      " 132  1.1481136e+04 1.22e+03 3.86e+06  -1.0 7.64e+04    -  4.85e-02 4.69e-02w  1\n",
      " 133  2.6448004e+03 4.35e+02 3.66e+06  -1.0 7.56e+04    -  1.59e-02 7.10e-04h  6\n",
      " 134  2.7032845e+03 4.35e+02 3.50e+06  -1.0 6.72e+04    -  8.44e-03 8.70e-04h  7\n",
      " 135  2.7662708e+03 4.34e+02 4.00e+06  -1.0 6.75e+04    -  1.69e-01 9.33e-04h  7\n",
      " 136  2.8130852e+03 4.34e+02 4.06e+06  -1.0 6.79e+04    -  6.39e-03 6.89e-04h  8\n",
      " 137  2.8956550e+03 4.33e+02 4.20e+06  -1.0 6.83e+04    -  1.52e-02 1.21e-03h  7\n",
      " 138  2.9404528e+03 4.33e+02 4.35e+06  -1.0 6.86e+04    -  1.54e-02 6.53e-04h  8\n",
      " 139  2.9887005e+03 4.33e+02 4.74e+06  -1.0 6.88e+04    -  3.83e-02 7.01e-04h  8\n",
      "iter    objective    inf_pr   inf_du lg(mu)  ||d||  lg(rg) alpha_du alpha_pr  ls\n",
      " 140  3.0445981e+03 4.33e+02 4.87e+06  -1.0 6.90e+04    -  1.20e-02 8.10e-04h  8\n",
      " 141  3.1020227e+03 4.32e+02 6.00e+06  -1.0 6.92e+04    -  9.92e-02 8.29e-04h  8\n",
      " 142  3.1575355e+03 4.32e+02 6.10e+06  -1.0 6.98e+04    -  8.27e-03 7.95e-04h  8\n",
      " 143  1.0117171e+04 3.74e+03 4.45e+06  -1.0 7.01e+04    -  2.59e-02 9.92e-02w  1\n",
      " 144  2.2029272e+04 3.90e+03 3.99e+06  -1.0 7.92e+04    -  1.56e-02 1.50e-01w  1\n",
      " 145  2.3115697e+04 3.86e+03 3.96e+06  -1.0 8.55e+04    -  1.01e-02 1.27e-02w  1\n",
      " 146  3.2119077e+03 4.31e+02 6.44e+06  -1.0 8.68e+04    -  2.59e-02 7.75e-04h  7\n",
      " 147  3.2687586e+03 4.31e+02 6.61e+06  -1.0 7.04e+04    -  1.27e-02 8.08e-04h  8\n",
      " 148  3.3263466e+03 4.31e+02 7.23e+06  -1.0 7.06e+04    -  4.41e-02 8.15e-04h  8\n",
      " 149  3.3840199e+03 4.30e+02 7.37e+06  -1.0 7.11e+04    -  9.89e-03 8.10e-04h  8\n",
      "iter    objective    inf_pr   inf_du lg(mu)  ||d||  lg(rg) alpha_du alpha_pr  ls\n",
      " 150  3.4410894e+03 4.30e+02 8.01e+06  -1.0 7.15e+04    -  4.15e-02 7.98e-04h  8\n",
      " 151  3.4941785e+03 4.30e+02 8.13e+06  -1.0 7.23e+04    -  8.18e-03 7.34e-04h  8\n",
      " 152  3.5467329e+03 4.29e+02 8.67e+06  -1.0 7.27e+04    -  3.34e-02 7.23e-04h  8\n",
      " 153  3.6460867e+03 4.29e+02 8.76e+06  -1.0 7.38e+04    -  7.19e-03 1.35e-03h  7\n",
      " 154  3.7437399e+03 4.28e+02 9.17e+06  -1.0 7.44e+04    -  2.54e-02 1.31e-03h  7\n",
      " 155  3.8357864e+03 4.28e+02 9.27e+06  -1.0 7.61e+04    -  7.80e-03 1.21e-03h  7\n",
      " 156  9.6237778e+03 2.14e+03 7.69e+06  -1.0 7.70e+04    -  2.48e-02 7.52e-02w  1\n",
      " 157  2.3789995e+04 3.65e+03 6.16e+06  -1.0 7.82e+04    -  4.46e-02 1.81e-01w  1\n",
      " 158  2.5102312e+04 3.60e+03 5.91e+06  -1.0 8.72e+04    -  3.69e-02 1.51e-02w  1\n",
      " 159  3.9262238e+03 4.27e+02 9.67e+06  -1.0 9.07e+04    -  2.48e-02 1.17e-03h  6\n",
      "iter    objective    inf_pr   inf_du lg(mu)  ||d||  lg(rg) alpha_du alpha_pr  ls\n",
      " 160  4.0097007e+03 4.27e+02 9.76e+06  -1.0 7.99e+04    -  6.86e-03 1.05e-03h  7\n",
      " 161  4.0917464e+03 4.26e+02 1.01e+07  -1.0 8.12e+04    -  2.07e-02 1.01e-03h  7\n",
      " 162  4.1677928e+03 4.26e+02 1.02e+07  -1.0 8.62e+04    -  5.83e-03 8.82e-04h  7\n",
      " 163  4.2425443e+03 4.26e+02 1.04e+07  -1.0 8.86e+04    -  1.60e-02 8.43e-04h  7\n",
      " 164  4.3128681e+03 4.25e+02 1.05e+07  -1.0 9.79e+04    -  4.71e-03 7.18e-04h  7\n"
     ]
    },
    {
     "name": "stdout",
     "output_type": "stream",
     "text": [
      " 165  4.3822457e+03 4.25e+02 1.06e+07  -1.0 1.03e+05    -  1.15e-02 6.75e-04h  7\n",
      " 166  4.4493833e+03 4.25e+02 1.07e+07  -1.0 1.22e+05    -  3.51e-03 5.49e-04h  7\n",
      " 167  4.5163987e+03 4.25e+02 1.07e+07  -1.0 1.34e+05    -  7.47e-03 4.99e-04h  7\n",
      " 168  4.5844613e+03 4.24e+02 1.08e+07  -1.0 1.85e+05    -  2.23e-03 3.68e-04h  7\n",
      " 169  9.0508164e+03 5.73e+02 1.05e+07  -1.0 2.27e+05    -  3.98e-03 1.97e-02w  1\n",
      "iter    objective    inf_pr   inf_du lg(mu)  ||d||  lg(rg) alpha_du alpha_pr  ls\n",
      " 170  1.4753473e+04 4.14e+02 1.03e+07  -1.0 1.36e+06    -  4.83e-03 4.21e-03w  1\n",
      " 171  6.9328378e+04 4.94e+04 3.62e+07  -1.0 2.20e+05    -  1.68e-01 2.48e-01w  1\n",
      " 172  4.6542481e+03 4.24e+02 1.08e+07  -1.0 3.79e+05    -  3.98e-03 3.07e-04h  6\n",
      " 173  4.8072247e+03 4.24e+02 1.08e+07  -1.0 4.80e+05    -  8.45e-04 3.19e-04h  6\n",
      " 174  7.4603011e+03 4.23e+02 1.09e+07  -1.0 1.13e+06    -  7.14e-04 2.35e-03h  2\n",
      " 175  9.0590355e+03 4.22e+02 1.05e+07  -1.0 4.94e+05    -  1.17e-02 3.23e-03h  4\n",
      " 176  9.7397233e+03 4.21e+02 9.82e+06  -1.0 3.15e+05    -  3.22e-02 2.16e-03h  7\n",
      " 177  9.8281310e+03 4.21e+02 9.06e+06  -1.0 2.92e+05    -  4.28e-02 3.03e-04h 10\n",
      " 178  9.9156518e+03 4.21e+02 8.26e+06  -1.0 2.97e+05    -  4.64e-02 2.95e-04h 10\n",
      " 179  1.0002080e+04 4.21e+02 7.37e+06  -1.0 3.03e+05    -  5.26e-02 2.85e-04h 10\n",
      "iter    objective    inf_pr   inf_du lg(mu)  ||d||  lg(rg) alpha_du alpha_pr  ls\n",
      " 180  1.0086885e+04 4.20e+02 4.78e+06  -1.0 3.14e+05    -  2.11e-01 2.70e-04h 10\n",
      " 181  1.0087548e+04 4.20e+02 9.72e+07  -1.0 6.41e+03  -0.5 1.27e-01 1.62e-03h  3\n",
      " 182  1.0104464e+04 3.99e+02 1.20e+08  -1.0 6.37e+03  -1.0 2.04e-01 4.84e-02w  1\n",
      " 183  1.0104031e+04 3.99e+02 9.60e+07  -1.0 8.82e+02  -1.4 1.55e-01 1.16e-03w  1\n",
      " 184  1.0127124e+04 3.99e+02 8.46e+07  -1.0 5.47e+04    -  1.04e-01 4.22e-04w  1\n",
      " 185  1.0087614e+04 4.20e+02 1.23e+08  -1.0 5.63e+04    -  2.04e-01 1.89e-04h  8\n",
      " 186  1.0087673e+04 4.20e+02 1.14e+08  -1.0 6.34e+03  -1.9 1.09e-01 1.89e-04h  9\n",
      " 187  1.0087832e+04 4.20e+02 9.08e+07  -1.0 6.26e+03  -2.4 2.99e-01 1.90e-04h  9\n",
      " 188  1.0745713e+04 4.19e+02 8.97e+07  -1.0 3.99e+05    -  2.19e-02 1.65e-03h  7\n",
      " 189  1.0907142e+04 4.19e+02 8.82e+07  -1.0 3.67e+05    -  2.88e-02 4.40e-04h  9\n",
      "iter    objective    inf_pr   inf_du lg(mu)  ||d||  lg(rg) alpha_du alpha_pr  ls\n",
      " 190  1.1064505e+04 4.18e+02 8.64e+07  -1.0 3.83e+05    -  3.24e-02 4.11e-04h  9\n",
      " 191  1.1215977e+04 4.18e+02 8.46e+07  -1.0 4.16e+05    -  3.55e-02 3.64e-04h  9\n",
      " 192  1.3469954e+04 4.16e+02 8.21e+07  -1.0 5.00e+05    -  5.60e-02 4.51e-03h  5\n",
      " 193  1.3607030e+04 4.16e+02 7.18e+07  -1.0 3.37e+05    -  2.25e-01 4.07e-04h  9\n",
      " 194  1.3603903e+04 4.16e+02 6.57e+07  -1.0 1.13e+04  -2.9 9.99e-02 1.61e-03f  6\n",
      " 195  1.3529251e+04 3.93e+02 5.84e+07  -1.0 1.03e+04  -3.3 2.19e-01 5.35e-02w  1\n",
      " 196  1.3506562e+04 3.93e+02 5.11e+07  -1.0 1.25e+04  -3.8 1.22e-01 1.82e-03w  1\n",
      " 197  1.3663202e+04 3.91e+02 4.88e+07  -1.0 4.34e+04    -  5.45e-02 3.61e-03w  1\n",
      " 198  1.3602737e+04 4.15e+02 5.69e+07  -1.0 4.38e+04    -  2.19e-01 8.35e-04f  6\n",
      " 199  1.4732798e+04 4.12e+02 5.97e+07  -1.0 1.28e+05  -4.3 1.26e-01 8.81e-03h  6\n",
      "iter    objective    inf_pr   inf_du lg(mu)  ||d||  lg(rg) alpha_du alpha_pr  ls\n",
      " 200  1.5907506e+04 4.11e+02 6.13e+07  -1.0 4.38e+05  -4.8 3.12e-02 2.68e-03h  6\n",
      " 201  1.6420225e+04 4.09e+02 9.32e+07  -1.0 1.24e+05  -4.3 9.54e-01 4.15e-03h  7\n",
      " 202  1.6920335e+04 4.08e+02 9.38e+07  -1.0 6.04e+05    -  2.27e-02 8.28e-04h  7\n",
      " 203  1.7155505e+04 4.08e+02 9.47e+07  -1.0 6.23e+05    -  2.67e-02 3.78e-04h  8\n",
      " 204  1.7266154e+04 4.08e+02 9.63e+07  -1.0 6.86e+05    -  3.88e-02 1.61e-04h  9\n",
      " 205  1.7291507e+04 4.08e+02 9.78e+07  -1.0 8.78e+05    -  2.81e-02 2.89e-05h 11\n",
      " 206r 1.7291507e+04 4.08e+02 1.00e+03   2.6 0.00e+00    -  0.00e+00 3.05e-07R 17\n",
      " 207r 1.7291468e+04 4.08e+02 1.16e+03   2.6 2.33e+04    -  1.65e-04 2.81e-06f  1\n",
      " 208r 1.7288264e+04 3.91e+02 3.01e+03   1.2 2.25e+04    -  6.00e-02 3.36e-03f  1\n",
      " 209r 1.7266165e+04 6.73e+01 3.76e+03   1.2 2.35e+04    -  3.62e-02 1.65e-02f  1\n",
      "iter    objective    inf_pr   inf_du lg(mu)  ||d||  lg(rg) alpha_du alpha_pr  ls\n",
      " 210  1.6905002e+04 6.44e+01 9.86e+01  -1.0 1.35e+04    -  1.66e-01 2.68e-02f  4\n",
      " 211  1.6505285e+04 6.05e+01 9.58e+01  -1.0 1.38e+04    -  6.38e-02 2.91e-02f  4\n",
      " 212  1.4870159e+04 4.51e+01 3.55e+02  -1.0 1.36e+04    -  2.73e-01 1.21e-01F  1\n",
      " 213  1.4134620e+04 3.78e+01 5.69e+02  -1.0 1.29e+04    -  2.37e-01 5.74e-02f  1\n",
      " 214  1.3717174e+04 3.37e+01 4.75e+03  -1.0 1.26e+04    -  4.19e-01 3.33e-02f  2\n",
      " 215  1.3332203e+04 3.01e+01 5.30e+03  -1.0 1.28e+04    -  5.19e-01 3.01e-02f  5\n",
      " 216  1.2939193e+04 2.68e+01 3.00e+03  -1.0 1.29e+04    -  6.90e-01 3.04e-02f  5\n",
      " 217  1.2541407e+04 2.36e+01 1.65e+03  -1.0 1.29e+04    -  7.06e-01 3.10e-02f  5\n",
      " 218  1.2143005e+04 2.06e+01 2.11e+03  -1.0 1.26e+04    -  6.90e-01 3.18e-02f  5\n",
      " 219  5.9870494e+03 3.83e+02 9.66e+03  -1.0 1.22e+04    -  8.60e-02 5.07e-01f  1\n",
      "iter    objective    inf_pr   inf_du lg(mu)  ||d||  lg(rg) alpha_du alpha_pr  ls\n",
      " 220  3.7070662e+03 2.51e+02 3.21e+03  -1.0 6.01e+03    -  6.69e-01 3.80e-01f  1\n",
      " 221  2.5151085e+03 1.78e+02 1.37e+04  -1.0 3.72e+03    -  5.08e-02 3.21e-01f  1\n",
      " 222  2.2734390e+03 1.62e+02 1.30e+04  -1.0 2.50e+03    -  1.02e-01 9.68e-02f  1\n",
      " 223  2.0687264e+03 1.47e+02 1.24e+04  -1.0 2.20e+03    -  2.53e-01 9.32e-02f  1\n",
      " 224  1.6474290e+03 1.19e+02 2.91e+04  -1.0 1.95e+03    -  2.78e-01 2.17e-01f  1\n",
      " 225  1.8065661e+02 5.65e+01 1.33e+06  -1.0 1.56e+03    -  1.99e-01 9.42e-01f  1\n",
      " 226  1.4721791e+02 4.81e+01 1.30e+06  -1.0 2.18e+02    -  9.53e-02 1.53e-01f  1\n",
      " 227  3.4839518e+01 2.04e+01 1.13e+07  -1.0 1.80e+02    -  6.35e-02 6.25e-01f  1\n",
      " 228  3.2246596e+01 1.93e+01 1.07e+07  -1.0 2.93e+02    -  1.76e-01 5.45e-02f  1\n",
      " 229 -8.8319072e-01 5.05e+00 1.22e+07  -1.0 1.84e+02    -  5.76e-02 7.47e-01f  1\n",
      "iter    objective    inf_pr   inf_du lg(mu)  ||d||  lg(rg) alpha_du alpha_pr  ls\n",
      " 230 -4.4765300e+00 3.28e+00 8.03e+06  -1.0 1.02e+01  -2.1 9.41e-01 3.53e-01h  1\n",
      " 231 -1.0921017e+01 1.34e+00 2.62e+06  -1.0 2.29e+02    -  2.98e-01 7.09e-01h  1\n",
      " 232 -1.1489278e+01 1.07e+00 2.18e+06  -1.0 2.94e+02    -  1.00e+00 2.43e-01h  1\n",
      " 233 -1.2756701e+01 2.10e-02 7.30e+06  -1.0 2.61e+01    -  1.00e+00 9.95e-01h  1\n",
      " 234 -1.3368066e+01 1.16e+00 4.47e+09  -1.0 4.10e+02    -  2.79e-02 1.00e+00F  1\n",
      " 235 -1.3687847e+01 9.42e-01 4.21e+09  -1.0 2.42e+02    -  3.24e-01 1.00e+00f  1\n",
      " 236 -1.3511091e+01 1.57e-03 5.03e+07  -1.0 8.86e-01  -0.8 1.00e+00 1.00e+00h  1\n",
      " 237 -1.3666933e+01 4.05e-01 7.66e+07  -1.0 8.33e+03    -  2.58e-02 1.90e-02f  2\n",
      " 238 -1.3778263e+01 3.03e-04 2.73e+06  -1.0 1.21e+00  -1.3 1.00e+00 1.00e+00h  1\n",
      " 239 -1.4072989e+01 5.22e-01 4.67e+06  -1.0 6.40e+02    -  3.11e-01 2.80e-01f  1\n",
      "iter    objective    inf_pr   inf_du lg(mu)  ||d||  lg(rg) alpha_du alpha_pr  ls\n",
      " 240 -1.4002143e+01 4.53e-01 3.86e+06  -1.0 2.32e+02    -  1.34e-01 1.97e-01f  1\n",
      " 241 -1.4019188e+01 4.52e-01 3.69e+06  -1.0 1.65e+03    -  6.35e-02 7.34e-03f  2\n",
      " 242 -1.4054849e+01 4.18e-01 5.63e+06  -1.0 1.55e+02    -  1.00e+00 8.11e-02h  2\n",
      " 243 -1.4266030e+01 1.98e-03 1.51e+06  -1.0 1.14e+01    -  8.26e-01 1.00e+00h  1\n",
      " 244 -1.4230246e+01 2.40e-03 1.73e+06  -1.0 1.21e+01    -  1.00e+00 1.00e+00h  1\n",
      " 245 -1.4229313e+01 4.26e-05 8.58e+03  -1.0 1.61e+00    -  1.00e+00 1.00e+00h  1\n",
      " 246 -1.4229372e+01 2.73e-08 2.30e+00  -1.0 4.08e-02    -  1.00e+00 1.00e+00h  1\n",
      " 247 -1.4626348e+01 1.19e-03 8.84e+05  -3.9 8.59e+00    -  9.31e-01 9.94e-01f  1\n",
      " 248 -1.4666222e+01 1.43e-02 2.75e+05  -3.9 4.82e+01    -  6.33e-01 6.03e-01h  1\n",
      " 249 -1.4732993e+01 2.69e-02 1.58e+05  -3.9 5.09e+01    -  3.47e-01 7.38e-01h  1\n",
      "iter    objective    inf_pr   inf_du lg(mu)  ||d||  lg(rg) alpha_du alpha_pr  ls\n",
      " 250 -1.4821248e+01 8.93e-02 1.23e+07  -3.9 8.43e+01    -  2.30e-02 8.56e-01f  1\n",
      " 251 -1.4821622e+01 8.44e-02 1.16e+07  -3.9 1.05e+00   0.1 2.57e-04 5.48e-02h  1\n",
      " 252 -1.4821187e+01 8.39e-02 1.18e+07  -3.9 3.24e+00  -0.4 1.57e-01 6.12e-03h  1\n",
      " 253 -1.4729126e+01 4.19e-02 5.54e+06  -3.9 8.93e-01   0.0 8.73e-02 5.00e-01h  2\n",
      " 254 -1.4669900e+01 2.10e-02 2.78e+06  -3.9 3.70e-01  -0.5 1.00e+00 5.00e-01h  2\n",
      " 255 -1.4657205e+01 2.56e-06 2.08e+04  -3.9 4.05e-01  -0.9 1.00e+00 1.00e+00h  1\n",
      " 256 -1.4800047e+01 7.92e-03 8.66e+03  -3.9 1.53e+00  -1.4 1.00e+00 1.00e+00f  1\n",
      " 257 -1.4838757e+01 7.44e-03 7.73e+03  -3.9 3.23e+00  -1.9 1.00e+00 1.51e-01h  1\n",
      " 258 -1.4891721e+01 3.15e-02 2.52e+05  -3.9 4.37e+01    -  5.78e-01 1.00e+00f  1\n",
      " 259 -1.4892018e+01 3.01e-02 3.49e+05  -3.9 2.24e+00  -2.4 1.00e+00 4.22e-02h  1\n",
      "iter    objective    inf_pr   inf_du lg(mu)  ||d||  lg(rg) alpha_du alpha_pr  ls\n",
      " 260 -1.5055590e+01 2.16e-01 1.93e+05  -3.9 2.36e+02    -  1.12e-01 4.67e-01h  1\n",
      " 261 -1.5172894e+01 2.79e-01 6.00e+04  -3.9 3.42e+02    -  7.08e-04 2.44e-01f  1\n",
      " 262 -1.5253394e+01 2.25e-01 2.64e+04  -3.9 1.47e+02    -  4.37e-01 3.78e-01h  1\n",
      " 263 -1.5257430e+01 2.22e-01 3.20e+05  -3.9 2.29e+02    -  1.42e-01 1.34e-02h  1\n",
      " 264 -1.5396154e+01 2.91e-01 1.65e+05  -3.9 2.29e+02    -  1.00e+00 4.34e-01h  1\n",
      " 265 -1.5800887e+01 1.54e+00 1.17e+06  -3.9 3.03e+02    -  2.04e-01 1.00e+00f  1\n",
      " 266 -1.5799927e+01 1.44e+00 1.39e+06  -3.9 5.68e+00  -2.8 7.58e-01 6.69e-02h  1\n",
      " 267 -1.5538871e+01 9.35e-02 2.11e+04  -3.9 7.19e+00  -3.3 5.24e-02 1.00e+00h  1\n",
      " 268 -1.5798091e+01 9.29e-02 3.29e+05  -3.9 1.51e+02  -2.9 8.10e-01 3.15e-03f  1\n",
      " 269 -1.5798919e+01 8.60e-03 3.09e+05  -3.9 1.10e+01  -3.4 4.48e-01 6.11e-02f  1\n"
     ]
    },
    {
     "name": "stdout",
     "output_type": "stream",
     "text": [
      "iter    objective    inf_pr   inf_du lg(mu)  ||d||  lg(rg) alpha_du alpha_pr  ls\n",
      " 270 -1.5799321e+01 8.29e-02 2.93e+05  -3.9 6.65e+00  -3.9 1.00e+00 4.96e-02h  1\n",
      " 271 -1.5813350e+01 3.76e-03 1.48e+05  -3.9 2.30e+01  -4.3 1.00e+00 4.91e-01f  1\n",
      " 272 -1.5866995e+01 3.29e-02 6.27e+04  -3.9 7.57e+01  -4.8 1.00e+00 5.70e-01f  1\n",
      " 273 -1.6124497e+01 7.53e-01 5.01e+03  -3.9 2.30e+02  -5.3 1.00e+00 9.12e-01f  1\n",
      " 274 -1.6911273e+01 8.78e+00 7.40e+03  -3.9 1.06e+04    -  3.68e-02 6.48e-02f  1\n",
      " 275 -1.7796829e+01 2.71e+01 6.53e+04  -3.9 1.72e+03    -  3.82e-04 6.80e-01h  1\n",
      " 276 -1.7749752e+01 2.47e+01 5.95e+04  -3.9 4.48e+02    -  1.20e-01 8.93e-02h  1\n",
      " 277 -1.7284102e+01 1.59e+00 2.70e+04  -3.9 1.85e+02    -  8.58e-02 1.00e+00h  1\n",
      " 278 -1.7294879e+01 5.61e-01 1.05e+04  -3.9 1.73e+02    -  1.25e-01 1.00e+00h  1\n",
      " 279 -1.7282502e+01 6.75e-04 6.37e+00  -3.9 1.30e+00    -  1.00e+00 1.00e+00h  1\n",
      "iter    objective    inf_pr   inf_du lg(mu)  ||d||  lg(rg) alpha_du alpha_pr  ls\n",
      " 280 -1.7283444e+01 1.01e-01 2.15e+00  -3.9 3.45e+01    -  1.00e+00 1.00e+00h  1\n",
      " 281 -1.7282960e+01 5.68e-06 4.54e-05  -3.9 1.45e-01    -  1.00e+00 1.00e+00h  1\n",
      " 282 -1.7283153e+01 1.48e-04 3.53e+03  -6.0 9.48e-01    -  1.00e+00 9.03e-01h  1\n",
      " 283 -1.7283152e+01 4.67e-07 3.68e-03  -6.0 4.87e-02    -  1.00e+00 1.00e+00h  1\n",
      " 284 -1.7283152e+01 2.79e-10 2.44e-09  -6.0 4.64e-04    -  1.00e+00 1.00e+00h  1\n",
      " 285 -1.7283153e+01 5.93e-09 2.06e-05  -7.6 5.50e-03    -  1.00e+00 1.00e+00h  1\n",
      " 286 -1.7283153e+01 8.62e-11 2.94e-11  -7.6 3.61e-06    -  1.00e+00 1.00e+00h  1\n",
      " 287 -1.7283153e+01 1.41e-10 1.94e-08  -9.0 1.68e-04    -  1.00e+00 1.00e+00h  1\n",
      " 288 -1.7283153e+01 8.63e-11 4.88e-11  -9.0 1.19e-04    -  1.00e+00 1.00e+00h  1\n",
      "\n",
      "Number of Iterations....: 288\n",
      "\n",
      "                                   (scaled)                 (unscaled)\n",
      "Objective...............:  -1.3502463310124687e+01   -1.7283153036959600e+01\n",
      "Dual infeasibility......:   4.8808548899142042e-11    6.2474942590901810e-11\n",
      "Constraint violation....:   8.6326158027505429e-11    8.6326158027505429e-11\n",
      "Complementarity.........:   9.1072419183843764e-10    1.1657269655532001e-09\n",
      "Overall NLP error.......:   9.1072419183843764e-10    1.1657269655532001e-09\n",
      "\n",
      "\n",
      "Number of objective function evaluations             = 1246\n",
      "Number of objective gradient evaluations             = 255\n",
      "Number of equality constraint evaluations            = 1246\n",
      "Number of inequality constraint evaluations          = 1246\n",
      "Number of equality constraint Jacobian evaluations   = 295\n",
      "Number of inequality constraint Jacobian evaluations = 295\n",
      "Number of Lagrangian Hessian evaluations             = 288\n",
      "Total CPU secs in IPOPT (w/o function evaluations)   =     15.493\n",
      "Total CPU secs in NLP function evaluations           =      0.915\n",
      "\n",
      "EXIT: Optimal Solution Found.\n"
     ]
    }
   ],
   "source": [
    "results = opt.solve(model,tee=True)\n",
    "update_dual(pe,model)"
   ]
  },
  {
   "cell_type": "code",
   "execution_count": 26,
   "metadata": {
    "scrolled": false,
    "slideshow": {
     "slide_type": "slide"
    }
   },
   "outputs": [],
   "source": [
    "# print('Component\\t\\tLiquid: {:.4f}\\t\\t\\tVapor: {:.4f}'.format(model.L['out'].value,model.V['out'].value))\n",
    "# print('-'*108)\n",
    "# for i in model.x:\n",
    "#     print('{:10s}'.format(i),'\\t\\t{:8.4%}\\t\\t\\t{:8.4%}'.format(model.x[i].value,model.y[i].value))"
   ]
  },
  {
   "cell_type": "code",
   "execution_count": 27,
   "metadata": {},
   "outputs": [
    {
     "data": {
      "text/plain": [
       "17.283153028123238"
      ]
     },
     "execution_count": 27,
     "metadata": {},
     "output_type": "execute_result"
    }
   ],
   "source": [
    "43*model.P_naphtha.value + 90*model.P_gasoline.value + 128*model.P_diesel.value + 100*model.P_heavy.value\n",
    "# 54*model.P_naphtha.value + 112*model.P_gasoline.value + 161*model.P_diesel.value + 350*model.P_heavy.value"
   ]
  },
  {
   "cell_type": "code",
   "execution_count": 28,
   "metadata": {},
   "outputs": [
    {
     "data": {
      "text/plain": [
       "(504.1682036482043, 20.000000534855694, 2.801956674489646)"
      ]
     },
     "execution_count": 28,
     "metadata": {},
     "output_type": "execute_result"
    }
   ],
   "source": [
    "model.T.value, model.VLE_block.P_VLE.value, model.kinetics_block.r_FT_total.value"
   ]
  },
  {
   "cell_type": "code",
   "execution_count": 29,
   "metadata": {},
   "outputs": [
    {
     "data": {
      "text/plain": [
       "(0.09623932899347479,\n",
       " 0.0782542992375594,\n",
       " 0.03445939102511242,\n",
       " 0.016911728988090846)"
      ]
     },
     "execution_count": 29,
     "metadata": {},
     "output_type": "execute_result"
    }
   ],
   "source": [
    "model.P_naphtha.value, model.P_gasoline.value, model.P_diesel.value, model.P_heavy.value"
   ]
  },
  {
   "cell_type": "code",
   "execution_count": 30,
   "metadata": {},
   "outputs": [
    {
     "data": {
      "text/plain": [
       "0.8636533730681272"
      ]
     },
     "execution_count": 30,
     "metadata": {},
     "output_type": "execute_result"
    }
   ],
   "source": [
    "# Conversion\n",
    "(model.F.value - model.V['out'].value * (model.y['H2'].value + model.y['CO'].value) - \\\n",
    "model.L['out'].value * (model.x['H2'].value + model.x['CO'].value))/model.F.value"
   ]
  },
  {
   "cell_type": "code",
   "execution_count": 31,
   "metadata": {},
   "outputs": [],
   "source": [
    "# model.solutions.store_to(results)\n",
    "# with open('../../saved_solutions/reactive_flash_MPCC_P_200C.pickle','wb') as f:\n",
    "#     pickle.dump(results,f)"
   ]
  },
  {
   "cell_type": "code",
   "execution_count": 32,
   "metadata": {},
   "outputs": [],
   "source": [
    "# with open('test_model.pickle','wb') as f:\n",
    "#     dill.dump(model,f)"
   ]
  }
 ],
 "metadata": {
  "kernelspec": {
   "display_name": "Python 3",
   "language": "python",
   "name": "python3"
  },
  "language_info": {
   "codemirror_mode": {
    "name": "ipython",
    "version": 3
   },
   "file_extension": ".py",
   "mimetype": "text/x-python",
   "name": "python",
   "nbconvert_exporter": "python",
   "pygments_lexer": "ipython3",
   "version": "3.6.5"
  }
 },
 "nbformat": 4,
 "nbformat_minor": 2
}
