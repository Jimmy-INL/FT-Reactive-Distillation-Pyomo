{
 "cells": [
  {
   "cell_type": "markdown",
   "metadata": {
    "slideshow": {
     "slide_type": "slide"
    }
   },
   "source": [
    "# 2nd Level Model Structure: Reactive Stage"
   ]
  },
  {
   "cell_type": "code",
   "execution_count": 1,
   "metadata": {},
   "outputs": [],
   "source": [
    "import sys\n",
    "import os\n",
    "import dill\n",
    "import pickle\n",
    "sys.path.append(os.path.abspath('..'))\n",
    "sys.path.append(os.path.abspath('../..'))\n",
    "import numpy as np\n",
    "from matplotlib import pyplot as plt"
   ]
  },
  {
   "cell_type": "code",
   "execution_count": 2,
   "metadata": {
    "slideshow": {
     "slide_type": "fragment"
    }
   },
   "outputs": [],
   "source": [
    "from pyomo import environ as pe\n",
    "from global_sets.component import m\n",
    "from utility.display_utility import trans_product_mole, trans_product_mass\n",
    "from utility.model_utility import add_dual, update_dual, check_DOF, augmented_objective, add_solver,\\\n",
    "                                    select_MPCC, which_MPCC, disable_restoration\n",
    "from utility.data_utility import cal_cnumber\n",
    "\n",
    "# stage construction rules\n",
    "from physics.kinetics.kinetics_reactive import kinetic_block_rule\n",
    "from physics.energy.energy_reactive import energy_block_rule\n",
    "from physics.VLE.VLE_reactive_MPCC_P import VLE_block_rule\n",
    "from physics.MPCC.MPCC_P import P_NCP_block_rule, P_Reg_block_rule, P_pf_block_rule"
   ]
  },
  {
   "cell_type": "code",
   "execution_count": 3,
   "metadata": {},
   "outputs": [],
   "source": [
    "model = pe.ConcreteModel()"
   ]
  },
  {
   "cell_type": "markdown",
   "metadata": {
    "slideshow": {
     "slide_type": "subslide"
    }
   },
   "source": [
    "# Global Sets (Inlet / Outlet)"
   ]
  },
  {
   "cell_type": "code",
   "execution_count": 4,
   "metadata": {
    "slideshow": {
     "slide_type": "fragment"
    }
   },
   "outputs": [],
   "source": [
    "model.inlet = pe.Set(initialize=['in','R'])\n",
    "model.outlet = pe.Set(initialize=['out','P'])\n",
    "model.stream = model.inlet | model.outlet"
   ]
  },
  {
   "cell_type": "code",
   "execution_count": 5,
   "metadata": {},
   "outputs": [],
   "source": [
    "model.comp_naphtha = pe.Set(initialize = [i for i in m.COMP_ORG if cal_cnumber(i) >= 5 and cal_cnumber(i) <= 7])\n",
    "model.comp_gasoline = pe.Set(initialize = [i for i in m.COMP_ORG if cal_cnumber(i) >= 8 and cal_cnumber(i) <= 12])\n",
    "model.comp_diesel = pe.Set(initialize = [i for i in m.COMP_ORG if cal_cnumber(i) >= 13 and cal_cnumber(i) <= 18])\n",
    "model.comp_heavy = pe.Set(initialize = [i for i in m.COMP_ORG if cal_cnumber(i) >= 19 and cal_cnumber(i) <= 56])"
   ]
  },
  {
   "cell_type": "markdown",
   "metadata": {
    "slideshow": {
     "slide_type": "subslide"
    }
   },
   "source": [
    "# Global Variables"
   ]
  },
  {
   "cell_type": "code",
   "execution_count": 6,
   "metadata": {
    "slideshow": {
     "slide_type": "fragment"
    }
   },
   "outputs": [],
   "source": [
    "# Tray Inlet/Outlet Variable\n",
    "model.x_ = pe.Var(model.inlet,m.COMP_TOTAL,within=pe.NonNegativeReals)\n",
    "model.y_ = pe.Var(model.inlet,m.COMP_TOTAL,within=pe.NonNegativeReals)\n",
    "model.x = pe.Var(m.COMP_TOTAL,within=pe.NonNegativeReals)\n",
    "model.y = pe.Var(m.COMP_TOTAL,within=pe.NonNegativeReals)\n",
    "model.z = pe.Var(m.COMP_FEED,within=pe.NonNegativeReals)\n",
    "\n",
    "model.L = pe.Var(model.stream,within=pe.NonNegativeReals)\n",
    "model.V = pe.Var(model.stream,within=pe.NonNegativeReals)\n",
    "model.F = pe.Var(within=pe.NonNegativeReals)\n",
    "\n",
    "model.H_L_ = pe.Var(model.inlet,within=pe.Reals)\n",
    "model.H_V_ = pe.Var(model.inlet,within=pe.Reals)\n",
    "model.H_L = pe.Var(within=pe.Reals)\n",
    "model.H_V = pe.Var(within=pe.Reals)\n",
    "model.H_F = pe.Var(within=pe.Reals)\n",
    "\n",
    "# State Variable\n",
    "model.T = pe.Var(within=pe.NonNegativeReals,bounds=(200+273.15,300+273.15)) # K\n",
    "model.T_F = pe.Var(within=pe.NonNegativeReals) # K\n",
    "model.P = pe.Var(within=pe.NonNegativeReals,bounds=(10,30)) # Bar\n",
    "\n",
    "model.f_V = pe.Var(m.COMP_TOTAL,within=pe.NonNegativeReals,initialize=1e-20)\n",
    "model.f_L = pe.Var(m.COMP_TOTAL,within=pe.NonNegativeReals,initialize=1e-20)\n",
    "\n",
    "model.cat = pe.Var(within=pe.NonNegativeReals,initialize=30000) # kg\n",
    "model.Q_main = pe.Var(within=pe.Reals) # MW\n",
    "model.r_total_comp = pe.Var(m.COMP_TOTAL,within=pe.Reals) # kmol/s"
   ]
  },
  {
   "cell_type": "code",
   "execution_count": 7,
   "metadata": {},
   "outputs": [],
   "source": [
    "model.P_naphtha = pe.Var(within=pe.NonNegativeReals)\n",
    "model.P_gasoline = pe.Var(within=pe.NonNegativeReals)\n",
    "model.P_diesel = pe.Var(within=pe.NonNegativeReals)\n",
    "model.P_heavy = pe.Var(within=pe.NonNegativeReals)"
   ]
  },
  {
   "cell_type": "markdown",
   "metadata": {
    "slideshow": {
     "slide_type": "slide"
    }
   },
   "source": [
    "# Construct Individual Blocks"
   ]
  },
  {
   "cell_type": "code",
   "execution_count": 8,
   "metadata": {},
   "outputs": [],
   "source": [
    "if model.find_component('kinetics_block'):\n",
    "    print('haha')"
   ]
  },
  {
   "cell_type": "code",
   "execution_count": 9,
   "metadata": {
    "slideshow": {
     "slide_type": "subslide"
    }
   },
   "outputs": [
    {
     "name": "stdout",
     "output_type": "stream",
     "text": [
      "> Importing Kinetics Blocks......\n",
      "> Adding the following local variable:\n",
      "--------------------------------------------------\n",
      "| kinetics_block.k_FT\n",
      "| kinetics_block.r_FT_total\n",
      "| kinetics_block.g0_FT\n",
      "| kinetics_block.alpha\n",
      "| kinetics_block.r_FT_cnum\n",
      "| kinetics_block.r_FT_comp\n",
      "| kinetics_block.k_WGS\n",
      "| kinetics_block.Ke_WGS\n",
      "| kinetics_block.r_WGS\n",
      "| kinetics_block.r_WGS_comp\n",
      "--------------------------------------------------\n",
      "\n"
     ]
    }
   ],
   "source": [
    "model.kinetics_block = pe.Block(rule=kinetic_block_rule)"
   ]
  },
  {
   "cell_type": "code",
   "execution_count": 10,
   "metadata": {
    "slideshow": {
     "slide_type": "subslide"
    }
   },
   "outputs": [
    {
     "name": "stdout",
     "output_type": "stream",
     "text": [
      "> Importing Energy Blocks......\n",
      "> Adding the following local variable:\n",
      "--------------------------------------------------\n",
      "| energy_block.dH_F\n",
      "| energy_block.dH_V\n",
      "| energy_block.dH_L\n",
      "| energy_block.dH_vap\n",
      "--------------------------------------------------\n",
      "\n"
     ]
    }
   ],
   "source": [
    "model.energy_block = pe.Block(rule=energy_block_rule)"
   ]
  },
  {
   "cell_type": "code",
   "execution_count": 11,
   "metadata": {
    "scrolled": false,
    "slideshow": {
     "slide_type": "subslide"
    }
   },
   "outputs": [
    {
     "name": "stdout",
     "output_type": "stream",
     "text": [
      "> Importing VLE Blocks......\n",
      "> Adding the following local variable:\n",
      "--------------------------------------------------\n",
      "| VLE_block.P_VLE\n",
      "| VLE_block.n_ave\n",
      "| VLE_block.n_ave_cal\n",
      "| VLE_block.Hen\n",
      "| VLE_block.Hen0\n",
      "| VLE_block.gamma\n",
      "| VLE_block.P_sat\n",
      "| VLE_block.P_sat_Y\n",
      "| VLE_block.P_sat_dY_inf\n",
      "| VLE_block.P_sat_dY0\n",
      "| VLE_block.Hen_ref\n",
      "| VLE_block.Hen0_ref\n",
      "| VLE_block.gamma_ref\n",
      "| VLE_block.V_L\n",
      "| VLE_block.V_L_dY_inf\n",
      "| VLE_block.V_L_dY0\n",
      "| VLE_block.poynting\n",
      "--------------------------------------------------\n",
      "\n"
     ]
    }
   ],
   "source": [
    "model.VLE_block = pe.Block(rule=VLE_block_rule)"
   ]
  },
  {
   "cell_type": "markdown",
   "metadata": {
    "slideshow": {
     "slide_type": "slide"
    }
   },
   "source": [
    "# Standard MESH Equations"
   ]
  },
  {
   "cell_type": "markdown",
   "metadata": {
    "slideshow": {
     "slide_type": "subslide"
    }
   },
   "source": [
    "## Mass Balance"
   ]
  },
  {
   "cell_type": "markdown",
   "metadata": {
    "slideshow": {
     "slide_type": "fragment"
    }
   },
   "source": [
    "\\begin{equation}\n",
    "Fz_{i}+\\sum_{s\\in{inlet}}L_{s}x'_{i,s}+\\sum_{s\\in{inlet}}V_{s}y'_{i,s}-\\sum_{s\\in{outlet}}L_{s}x_{i,s}+\\sum_{s\\in{ouelet}}V_{s}y_{i,s}+R_{i} = 0 \\\\\n",
    "i = 1,...NC\n",
    "\\end{equation}"
   ]
  },
  {
   "cell_type": "code",
   "execution_count": 12,
   "metadata": {
    "slideshow": {
     "slide_type": "fragment"
    }
   },
   "outputs": [],
   "source": [
    "def mass_balance_main_rule(model,i):\n",
    "    if i in m.COMP_FEED:\n",
    "        return model.F*model.z[i] + sum(model.L[s]*model.x_[s,i] + model.V[s]*model.y_[s,i] for s in model.inlet)\\\n",
    "        + model.r_total_comp[i] - sum(model.L[s]*model.x[i] + model.V[s]*model.y[i] for s in model.outlet) == 0\n",
    "    else:\n",
    "        return sum(model.L[s]*model.x_[s,i] + model.V[s]*model.y_[s,i] for s in model.inlet)\\\n",
    "        + model.r_total_comp[i] - sum(model.L[s]*model.x[i] + model.V[s]*model.y[i] for s in model.outlet) == 0\n",
    "model.mass_balance_main_con = pe.Constraint(m.COMP_TOTAL,rule=mass_balance_main_rule)"
   ]
  },
  {
   "cell_type": "markdown",
   "metadata": {
    "slideshow": {
     "slide_type": "subslide"
    }
   },
   "source": [
    "## Equilibrium"
   ]
  },
  {
   "cell_type": "markdown",
   "metadata": {
    "slideshow": {
     "slide_type": "fragment"
    }
   },
   "source": [
    "\\begin{align}\n",
    "&f_{i,V} = f_{i,L} \\\\\n",
    "&i = 1,...NC\n",
    "\\end{align}"
   ]
  },
  {
   "cell_type": "code",
   "execution_count": 13,
   "metadata": {
    "slideshow": {
     "slide_type": "fragment"
    }
   },
   "outputs": [],
   "source": [
    "def VL_equil_rule(model,i):\n",
    "    return model.f_V[i] == model.f_L[i]\n",
    "model.VL_equil_con = pe.Constraint(m.COMP_TOTAL,rule=VL_equil_rule)"
   ]
  },
  {
   "cell_type": "markdown",
   "metadata": {
    "slideshow": {
     "slide_type": "subslide"
    }
   },
   "source": [
    "## Summation"
   ]
  },
  {
   "cell_type": "markdown",
   "metadata": {
    "slideshow": {
     "slide_type": "fragment"
    }
   },
   "source": [
    "\\begin{equation}\n",
    "\\sum_ix_{i} = \\sum_iy_{i} \\\\\n",
    "F + L_{in} + V_{in} + R = L_{out} + V_{out}\n",
    "\\end{equation}"
   ]
  },
  {
   "cell_type": "code",
   "execution_count": 14,
   "metadata": {
    "slideshow": {
     "slide_type": "fragment"
    }
   },
   "outputs": [],
   "source": [
    "def summation_x_y_rule(model):\n",
    "    return sum(model.x[i] for i in m.COMP_TOTAL) == sum(model.y[i] for i in m.COMP_TOTAL)\n",
    "model.summation_x_y_con = pe.Constraint(rule=summation_x_y_rule)\n",
    "\n",
    "def summation_total_mass_rule(model):\n",
    "    return model.F + sum(model.L[s] + model.V[s] for s in model.inlet) + sum(model.r_total_comp[i] for i in m.COMP_TOTAL)\\\n",
    "            - sum(model.L[s] + model.V[s] for s in model.outlet) == 0\n",
    "model.summation_total_mass_con = pe.Constraint(rule=summation_total_mass_rule)"
   ]
  },
  {
   "cell_type": "markdown",
   "metadata": {
    "slideshow": {
     "slide_type": "subslide"
    }
   },
   "source": [
    "## Energy Balance"
   ]
  },
  {
   "cell_type": "markdown",
   "metadata": {
    "slideshow": {
     "slide_type": "fragment"
    }
   },
   "source": [
    "\\begin{equation}\n",
    "F H_f+\\sum_{s\\in{inlet}}L_{s}H_{l,s}+\\sum_{s\\in{inlet}}V_{s}H_{v,s}-\\sum_{s\\in{outlet}}L_{s}H_{l,s}-\\sum_{s\\in{outlet}}V_{s}H_{v,s}+Q = 0\n",
    "\\end{equation}"
   ]
  },
  {
   "cell_type": "code",
   "execution_count": 15,
   "metadata": {
    "slideshow": {
     "slide_type": "fragment"
    }
   },
   "outputs": [],
   "source": [
    "def heat_balance_main_rule(model):\n",
    "    return model.F*model.H_F + sum(model.L[s]*model.H_L_[s] + model.V[s]*model.H_V_[s] for s in model.inlet) \\\n",
    "            + model.Q_main - sum(model.L[s]*model.H_L + model.V[s]*model.H_V for s in model.outlet) == 0\n",
    "model.heat_balance_main_con = pe.Constraint(rule=heat_balance_main_rule)"
   ]
  },
  {
   "cell_type": "markdown",
   "metadata": {},
   "source": [
    "# Product Amount / Total Revenue"
   ]
  },
  {
   "cell_type": "code",
   "execution_count": 16,
   "metadata": {},
   "outputs": [],
   "source": [
    "def P_naphtha_rule(model):\n",
    "    return model.P_naphtha == model.V['out'] * sum(model.y[i] for i in model.comp_naphtha) + \\\n",
    "                              model.L['out'] * sum(model.x[i] for i in model.comp_naphtha)\n",
    "model.P_naphtha_con = pe.Constraint(rule=P_naphtha_rule)\n",
    "\n",
    "def P_gasoline_rule(model):\n",
    "    return model.P_gasoline == model.V['out'] * sum(model.y[i] for i in model.comp_gasoline) + \\\n",
    "                               model.L['out'] * sum(model.x[i] for i in model.comp_gasoline)\n",
    "model.P_gasoline_con = pe.Constraint(rule=P_gasoline_rule)\n",
    "\n",
    "def P_diesel_rule(model):\n",
    "    return model.P_diesel == model.V['out'] * sum(model.y[i] for i in model.comp_diesel) + \\\n",
    "                             model.L['out'] * sum(model.x[i] for i in model.comp_diesel)\n",
    "model.P_diesel_con = pe.Constraint(rule=P_diesel_rule)\n",
    "\n",
    "def P_heavy_rule(model):\n",
    "    return model.P_heavy == model.V['out'] * sum(model.y[i] for i in model.comp_heavy) + \\\n",
    "                             model.L['out'] * sum(model.x[i] for i in model.comp_heavy)\n",
    "model.P_heavy_con = pe.Constraint(rule=P_heavy_rule)"
   ]
  },
  {
   "cell_type": "markdown",
   "metadata": {},
   "source": [
    "## MPCC: Add all three"
   ]
  },
  {
   "cell_type": "code",
   "execution_count": 17,
   "metadata": {
    "scrolled": false
   },
   "outputs": [
    {
     "name": "stdout",
     "output_type": "stream",
     "text": [
      "> Importing MPCC_P_pf Blocks......\n",
      "> Adding the following local variable:\n",
      "--------------------------------------------------\n",
      "| MPCC_P_pf.s_L\n",
      "| MPCC_P_pf.s_V\n",
      "| MPCC_P_pf.pf\n",
      "| MPCC_P_pf.epi\n",
      "| MPCC_P_pf.rho\n",
      "--------------------------------------------------\n",
      "> Spliting pressure used in VLE\n",
      "Deleted original P_equal constraint\n",
      "\n",
      "> Deleted kinetics rates constraints\n",
      "> Added f_V_MPCC, updated rates constraints\n",
      "\n",
      "> Importing MPCC_P_NCP Blocks......\n",
      "> Adding the following local variable:\n",
      "--------------------------------------------------\n",
      "| MPCC_P_NCP.s_L\n",
      "| MPCC_P_NCP.s_V\n",
      "| MPCC_P_NCP.epi\n",
      "--------------------------------------------------\n",
      "> Adding complementarity constraint, spliting pressure used in VLE\n",
      "> No constraint to delete\n",
      "\n",
      "> Already replaced f_V_MPCC\n",
      "\n",
      "> Importing MPCC_P_Reg Blocks......\n",
      "> Adding the following local variable:\n",
      "--------------------------------------------------\n",
      "| MPCC_P_Reg.s_L\n",
      "| MPCC_P_Reg.s_V\n",
      "| MPCC_P_Reg.epi\n",
      "--------------------------------------------------\n",
      "> Adding complementarity constraint, spliting pressure used in VLE\n",
      "No constraint to delete\n",
      "\n",
      "> Already replaced f_V_MPCC\n",
      "\n"
     ]
    }
   ],
   "source": [
    "model.MPCC_P_pf = pe.Block(rule = P_pf_block_rule)\n",
    "model.MPCC_P_NCP = pe.Block(rule = P_NCP_block_rule)\n",
    "model.MPCC_P_Reg = pe.Block(rule = P_Reg_block_rule)"
   ]
  },
  {
   "cell_type": "code",
   "execution_count": 18,
   "metadata": {
    "scrolled": true
   },
   "outputs": [
    {
     "name": "stdout",
     "output_type": "stream",
     "text": [
      "> Selected MPCC: MPCC_P_pf\n",
      "s_L:  0\n",
      "s_V:  0\n",
      "\n"
     ]
    }
   ],
   "source": [
    "select_MPCC(model,'pf')"
   ]
  },
  {
   "cell_type": "markdown",
   "metadata": {
    "slideshow": {
     "slide_type": "slide"
    }
   },
   "source": [
    "# Testing"
   ]
  },
  {
   "cell_type": "code",
   "execution_count": 19,
   "metadata": {
    "slideshow": {
     "slide_type": "fragment"
    }
   },
   "outputs": [
    {
     "name": "stdout",
     "output_type": "stream",
     "text": [
      "Created the follow pyomo suffixes:\n",
      "ipopt_zL_out, ipopt_zU_out, ipopt_zL_in, ipopt_zU_in, dual\n"
     ]
    }
   ],
   "source": [
    "add_dual(pe,model)"
   ]
  },
  {
   "cell_type": "markdown",
   "metadata": {
    "slideshow": {
     "slide_type": "fragment"
    }
   },
   "source": [
    "## Fixing In/Product Redundent Flow"
   ]
  },
  {
   "cell_type": "code",
   "execution_count": 20,
   "metadata": {
    "slideshow": {
     "slide_type": "fragment"
    }
   },
   "outputs": [],
   "source": [
    "model.x_.fix(0)\n",
    "model.y_.fix(0)\n",
    "model.L['in'].fix(0)\n",
    "model.L['R'].fix(0)\n",
    "model.L['P'].fix(0)\n",
    "\n",
    "model.V['in'].fix(0)\n",
    "model.V['R'].fix(0)\n",
    "model.V['P'].fix(0)\n",
    "model.H_L_.fix(0)\n",
    "model.H_V_.fix(0)"
   ]
  },
  {
   "cell_type": "markdown",
   "metadata": {
    "slideshow": {
     "slide_type": "subslide"
    }
   },
   "source": [
    "## Fixing Model Parameters"
   ]
  },
  {
   "cell_type": "code",
   "execution_count": 21,
   "metadata": {
    "slideshow": {
     "slide_type": "fragment"
    }
   },
   "outputs": [],
   "source": [
    "model.cat.fix(30000)\n",
    "model.P.fix(20)\n",
    "model.T_F.fix(200+273.15)\n",
    "model.F.fix(10)\n",
    "model.z['CO'].fix(1/(1+2)-0/2)\n",
    "model.z['H2'].fix(2/(1+2)-0/2)\n",
    "model.z['C30H62'].fix(0)\n",
    "model.VLE_block.n_ave.fix(20)"
   ]
  },
  {
   "cell_type": "code",
   "execution_count": 22,
   "metadata": {
    "slideshow": {
     "slide_type": "fragment"
    }
   },
   "outputs": [],
   "source": [
    "model.T.setub(300+273.15)"
   ]
  },
  {
   "cell_type": "markdown",
   "metadata": {},
   "source": [
    "# Objective"
   ]
  },
  {
   "cell_type": "code",
   "execution_count": 23,
   "metadata": {
    "slideshow": {
     "slide_type": "fragment"
    }
   },
   "outputs": [
    {
     "name": "stdout",
     "output_type": "stream",
     "text": [
      "------------------------------------------------------------------------------------------------------------\n",
      "> Obj = maximize\n",
      "> 54*P_naphtha + 112*P_gasoline + 161*P_diesel + 350*P_heavy - MPCC_P_pf.pf\n",
      "------------------------------------------------------------------------------------------------------------\n"
     ]
    }
   ],
   "source": [
    "# model.obj = augmented_objective(pe, model, expr = 43*model.P_naphtha + 90*model.P_gasoline + 128*model.P_diesel + \\\n",
    "#                                 100*model.P_heavy, sense=pe.maximize)\n",
    "model.obj = augmented_objective(pe, model, expr = 54*model.P_naphtha + 112*model.P_gasoline + 161*model.P_diesel + \\\n",
    "                                350*model.P_heavy, sense=pe.maximize)"
   ]
  },
  {
   "cell_type": "code",
   "execution_count": 24,
   "metadata": {
    "scrolled": false,
    "slideshow": {
     "slide_type": "fragment"
    }
   },
   "outputs": [],
   "source": [
    "opt = add_solver(pe, max_iter = 5000, warm_start = False, output = False)\n",
    "disable_restoration(mode = 'enable')"
   ]
  },
  {
   "cell_type": "code",
   "execution_count": 25,
   "metadata": {
    "scrolled": true
   },
   "outputs": [
    {
     "name": "stdout",
     "output_type": "stream",
     "text": [
      "Ipopt 3.12.10: print_user_options=yes\n",
      "tol=1e-08\n",
      "option_file_name=./ipopt.opt\n",
      "max_iter=5000\n",
      "\n",
      "Using option file \"./ipopt.opt\".\n",
      "\n",
      "\n",
      "List of user-set options:\n",
      "\n",
      "                                    Name   Value                used\n",
      "                           compl_inf_tol = 1                     yes\n",
      "                         constr_viol_tol = 1                     yes\n",
      "                            dual_inf_tol = 1000                  yes\n",
      "                           linear_solver = mumps                 yes\n",
      "                              ma86_small = 1e-30                  no\n",
      "                                  ma86_u = 0.0001                 no\n",
      "                              ma97_order = best                   no\n",
      "                              ma97_small = 1e-30                  no\n",
      "                            ma97_switch1 = at_start               no\n",
      "                            ma97_switch2 = od_hd_reuse            no\n",
      "                                  ma97_u = 1e-06                  no\n",
      "                               ma97_umax = 0.5                    no\n",
      "                                max_iter = 5000                  yes\n",
      "                    max_refinement_steps = 20                    yes\n",
      "                    min_refinement_steps = 5                     yes\n",
      "           mu_superlinear_decrease_power = 1.25                  yes\n",
      "                   nlp_scaling_min_value = 1e-08                 yes\n",
      "                        option_file_name = ./ipopt.opt           yes\n",
      "                      print_user_options = yes                   yes\n",
      "                                     tol = 1e-08                 yes\n",
      "                   warm_start_bound_frac = 1e-20                 yes\n",
      "                warm_start_mult_init_max = 1e+40                 yes\n",
      "             warm_start_slack_bound_frac = 1e-20                 yes\n",
      "             warm_start_slack_bound_push = 1e-20                 yes\n",
      "\n",
      "******************************************************************************\n",
      "This program contains Ipopt, a library for large-scale nonlinear optimization.\n",
      " Ipopt is released as open source code under the Eclipse Public License (EPL).\n",
      "         For more information visit http://projects.coin-or.org/Ipopt\n",
      "******************************************************************************\n",
      "\n",
      "This is Ipopt version 3.12.10, running with linear solver mumps.\n",
      "NOTE: Other linear solvers might be more efficient (see Ipopt documentation).\n",
      "\n",
      "Number of nonzeros in equality constraint Jacobian...:     4168\n",
      "Number of nonzeros in inequality constraint Jacobian.:        5\n",
      "Number of nonzeros in Lagrangian Hessian.............:     4395\n",
      "\n",
      "Total number of variables............................:     1194\n",
      "                     variables with only lower bounds:      391\n",
      "                variables with lower and upper bounds:      633\n",
      "                     variables with only upper bounds:        0\n",
      "Total number of equality constraints.................:     1190\n",
      "Total number of inequality constraints...............:        1\n",
      "        inequality constraints with only lower bounds:        0\n",
      "   inequality constraints with lower and upper bounds:        0\n",
      "        inequality constraints with only upper bounds:        1\n",
      "\n",
      "iter    objective    inf_pr   inf_du lg(mu)  ||d||  lg(rg) alpha_du alpha_pr  ls\n",
      "   0 -6.7599932e+00 9.24e+03 1.01e+02  -1.0 0.00e+00    -  0.00e+00 0.00e+00   0\n",
      "   1 -6.7590028e+00 9.24e+03 1.01e+02  -1.0 2.25e+05    -  2.96e-06 1.15e-05h  1\n",
      "   2 -6.7598671e+00 9.24e+03 1.01e+02  -1.0 2.94e+05    -  3.75e-06 1.18e-05h  1\n",
      "   3r-6.7598671e+00 9.24e+03 9.99e+02   3.9 0.00e+00   0.0 0.00e+00 4.69e-07R  2\n",
      "   4r-6.8994410e+00 9.24e+03 7.58e+05   3.9 5.41e+05    -  2.05e-03 6.15e-08f  1\n",
      "   5r-2.9305772e+01 7.00e+03 8.41e+05   3.9 4.75e+05    -  4.74e-04 3.80e-03f  1\n",
      "   6 -2.9305434e+01 7.00e+03 1.01e+02  -1.0 9.96e+04    -  2.26e-05 3.10e-05h  1\n",
      "   7 -2.9305543e+01 7.00e+03 1.01e+02  -1.0 1.81e+04    -  5.23e-05 3.09e-05h  1\n",
      "   8 -2.9306381e+01 7.00e+03 1.01e+02  -1.0 1.49e+04    -  9.07e-05 1.41e-04h  1\n",
      "   9 -2.9306582e+01 7.00e+03 1.01e+02  -1.0 6.10e+04    -  2.15e-04 1.84e-05h  1\n",
      "iter    objective    inf_pr   inf_du lg(mu)  ||d||  lg(rg) alpha_du alpha_pr  ls\n",
      "  10 -2.9307411e+01 7.00e+03 1.01e+02  -1.0 6.43e+04    -  1.92e-04 7.73e-05h  1\n",
      "  11 -2.9306745e+01 7.00e+03 9.12e+02  -1.0 1.01e+05    -  6.12e-04 1.97e-05h  1\n",
      "  12 -2.9259457e+01 7.00e+03 2.73e+03  -1.0 1.08e+05    -  4.16e-05 3.89e-05h  1\n",
      "  13 -1.2937012e+01 7.00e+03 1.29e+04  -1.0 1.27e+05    -  7.69e-07 1.28e-04h  1\n",
      "  14  9.8420868e+00 7.00e+03 1.18e+04  -1.0 2.19e+05    -  7.49e-05 1.04e-04h  1\n",
      "  15r 9.8420868e+00 7.00e+03 1.00e+03   3.8 0.00e+00    -  0.00e+00 2.64e-07R  3\n",
      "  16r 9.3635589e+00 7.00e+03 5.01e+04   3.8 6.09e+05    -  3.52e-04 7.44e-07f  1\n",
      "  17r 5.0056471e-01 4.94e+03 4.69e+04   2.4 6.18e+05    -  3.94e-04 2.68e-03f  1\n",
      "  18  6.2901167e+01 4.94e+03 2.79e+02  -1.0 1.51e+05    -  2.08e-05 4.13e-04h  1\n",
      "  19r 6.2901167e+01 4.94e+03 9.99e+02   3.6 0.00e+00    -  0.00e+00 2.70e-07R  5\n",
      "iter    objective    inf_pr   inf_du lg(mu)  ||d||  lg(rg) alpha_du alpha_pr  ls\n",
      "  20r 6.2869639e+01 4.94e+03 2.01e+05   3.6 6.51e+05    -  2.67e-03 1.06e-07f  2\n",
      "  21r 4.8249327e+01 1.17e+03 2.00e+05   2.9 6.16e+05    -  6.91e-03 4.86e-03f  1\n",
      "  22  6.0321185e+01 1.17e+03 1.41e+02  -1.0 1.29e+05    -  5.71e-04 9.38e-05h  1\n",
      "  23r 6.0321185e+01 1.17e+03 9.99e+02   3.0 0.00e+00    -  0.00e+00 3.00e-07R  3\n",
      "  24r 6.0127954e+01 1.16e+03 6.82e+04   3.0 6.19e+05    -  5.27e-03 8.72e-06f  1\n",
      "  25r 3.0808945e+01 5.13e+02 8.17e+04   3.0 2.00e+05    -  1.01e-02 4.74e-03f  1\n",
      "  26  4.5173248e+01 5.13e+02 1.41e+02  -1.0 1.23e+05    -  4.80e-04 1.17e-04h  3\n",
      "  27  5.4485357e+01 5.13e+02 2.90e+02  -1.0 2.08e+05    -  6.09e-04 4.48e-05h  4\n",
      "  28r 5.4485357e+01 5.13e+02 9.99e+02   2.7 0.00e+00    -  0.00e+00 3.14e-07R 11\n",
      "  29r 5.4279340e+01 5.13e+02 2.82e+04   2.7 2.66e+04    -  7.38e-03 1.98e-05f  1\n",
      "iter    objective    inf_pr   inf_du lg(mu)  ||d||  lg(rg) alpha_du alpha_pr  ls\n",
      "  30r 2.8464910e+01 5.12e+02 2.57e+04   2.7 2.24e+04    -  8.91e-03 1.17e-02f  1\n",
      "  31r 1.1897276e+01 5.12e+02 2.16e+04   2.7 9.16e+03    -  4.83e-02 1.01e-02f  1\n",
      "  32r 1.1204178e+01 5.10e+02 2.26e+04   2.0 4.12e+03    -  2.60e-02 5.69e-02f  1\n",
      "  33r 9.0703934e+00 5.02e+02 2.11e+04   2.0 1.18e+03    -  5.56e-02 7.82e-02f  1\n",
      "  34r 7.5776470e+00 4.94e+02 1.47e+04   2.0 2.39e+02    -  1.96e-01 9.75e-02f  1\n",
      "  35r 8.8172677e+00 4.80e+02 1.41e+04   2.0 1.66e+02    -  2.89e-01 1.68e-01f  1\n",
      "  36r 2.2673278e+01 4.73e+02 1.19e+04   1.3 8.05e+01    -  9.28e-02 1.09e-01f  1\n",
      "  37r 2.5201713e+01 4.73e+02 1.14e+04   1.3 5.38e+00   2.0 4.20e-02 4.15e-02f  1\n",
      "  38r 2.5453087e+01 4.72e+02 1.05e+05   1.3 1.46e+01   1.5 4.90e-01 1.22e-01f  1\n",
      "  39r 2.5448975e+01 4.72e+02 1.04e+05   1.3 1.10e+00   5.6 4.39e-03 7.08e-03h  1\n",
      "iter    objective    inf_pr   inf_du lg(mu)  ||d||  lg(rg) alpha_du alpha_pr  ls\n",
      "  40r 2.4645755e+01 4.72e+02 1.07e+06   1.3 2.74e-01   5.1 2.74e-02 6.91e-01f  1\n",
      "  41r 2.3650712e+01 4.72e+02 2.63e+05   1.3 1.36e-01   4.6 8.06e-01 1.00e+00f  1\n",
      "  42r 2.3374959e+01 4.72e+02 2.07e+04   1.3 1.17e-02   5.0 1.00e+00 1.00e+00f  1\n",
      "  43r 2.2437604e+01 4.72e+02 1.60e+03   1.3 2.92e-02   4.6 1.00e+00 1.00e+00f  1\n",
      "  44r 2.0410739e+01 4.72e+02 9.77e+02   1.3 8.15e-02   4.1 1.00e+00 9.56e-01f  1\n",
      "  45r 2.4377791e+01 4.71e+02 5.77e+03   0.6 2.47e-01   3.6 6.45e-01 3.31e-01f  1\n",
      "  46r 5.1835220e+01 4.71e+02 4.90e+03   0.6 7.09e-01   3.1 3.84e-01 2.04e-01f  1\n",
      "  47r 8.6964642e+01 4.71e+02 4.48e+03   0.6 1.89e+00   2.6 2.97e-01 1.51e-01f  1\n",
      "  48r 8.8709920e+01 5.19e+02 6.88e+03   0.6 1.43e+01   2.2 1.01e-02 2.04e-02f  1\n",
      "  49r 1.0032100e+02 4.71e+02 2.05e+05   0.6 2.84e-01   3.5 2.84e-02 2.69e-01f  1\n",
      "iter    objective    inf_pr   inf_du lg(mu)  ||d||  lg(rg) alpha_du alpha_pr  ls\n",
      "  50r 1.0825421e+02 4.71e+02 1.52e+05   0.6 7.75e-01   3.0 5.78e-01 1.89e-01f  1\n",
      "  51r 1.0952989e+02 4.71e+02 1.29e+05   0.6 2.03e+00   2.5 3.10e-01 1.16e-01f  1\n",
      "  52r 1.1363908e+02 4.71e+02 6.48e+04   0.6 7.93e-01   3.0 1.00e+00 4.68e-01f  1\n",
      "  53r 1.1337271e+02 4.70e+02 3.55e+04   0.6 2.08e+00   2.5 6.17e-01 4.41e-01f  1\n",
      "  54r 1.1120068e+02 4.69e+02 2.47e+04   0.6 4.45e+00   2.0 2.87e-01 2.14e-01f  1\n",
      "  55r 1.0982347e+02 4.68e+02 6.70e+03   0.6 1.69e+00   2.4 5.33e-01 5.72e-01f  1\n",
      "  56r 1.0950425e+02 4.68e+02 6.26e+03   0.6 4.87e+00   2.0 9.55e-01 3.50e-02f  1\n",
      "  57r 1.0187210e+02 4.65e+02 1.19e+04   0.6 1.43e+01   1.5 9.04e-01 2.07e-01f  1\n",
      "  58r 7.8284055e+01 4.56e+02 3.62e+03   0.6 4.05e+01   1.0 2.04e-01 2.15e-01f  1\n",
      "  59  5.3644788e+01 4.56e+02 3.02e+02  -1.0 6.08e+05    -  4.56e-04 4.06e-05f  1\n",
      "iter    objective    inf_pr   inf_du lg(mu)  ||d||  lg(rg) alpha_du alpha_pr  ls\n",
      "  60  3.4386427e+01 4.56e+02 1.49e+03  -1.0 2.15e+04    -  3.21e-02 9.00e-04f  1\n",
      "  61  3.4443041e+01 5.94e+02 2.88e+03  -1.0 5.97e+02    -  1.58e-03 4.95e-02f  1\n",
      "  62  3.4766575e+01 7.20e+02 1.02e+04  -1.0 5.15e+02    -  9.32e-02 9.21e-02f  1\n",
      "  63  2.8035516e+01 6.97e+02 4.22e+04  -1.0 3.94e+02    -  2.30e-01 4.11e-02h  1\n",
      "  64  2.5967586e+01 6.56e+02 3.35e+04  -1.0 3.77e+02    -  7.23e-02 8.12e-02h  1\n",
      "  65  2.5944424e+01 6.56e+02 2.74e+04  -1.0 3.47e+02    -  7.99e-03 1.05e-03h  1\n",
      "  66  2.5945766e+01 6.56e+02 2.66e+04  -1.0 4.37e+02    -  1.40e-04 9.51e-05h  1\n",
      "  67  2.5917033e+01 6.55e+02 2.92e+04  -1.0 4.64e+02    -  9.46e-04 1.70e-03f  1\n",
      "  68  2.5920737e+01 6.55e+02 2.04e+04  -1.0 4.54e+02    -  1.14e-04 1.86e-05h  1\n",
      "  69  2.5964228e+01 6.54e+02 5.09e+04  -1.0 7.29e+02    -  6.92e-06 1.46e-03f  1\n",
      "iter    objective    inf_pr   inf_du lg(mu)  ||d||  lg(rg) alpha_du alpha_pr  ls\n",
      "  70  2.5969973e+01 6.54e+02 4.14e+04  -1.0 6.71e+02    -  6.35e-04 1.60e-05h  1\n",
      "  71  3.7039058e+01 6.51e+02 4.86e+05  -1.0 3.18e+03    -  4.31e-06 3.43e-03h  1\n",
      "  72  3.7195632e+01 6.51e+02 4.80e+05  -1.0 2.98e+03    -  2.08e-03 5.17e-05h  1\n",
      "  73  1.3430785e+02 6.35e+02 9.90e+05  -1.0 3.76e+03    -  1.65e-05 2.55e-02h  1\n"
     ]
    },
    {
     "name": "stdout",
     "output_type": "stream",
     "text": [
      "  74  1.3460892e+02 6.35e+02 1.04e+06  -1.0 3.78e+03    -  2.89e-03 7.88e-05h  1\n",
      "  75  1.6323508e+02 6.31e+02 9.07e+05  -1.0 4.28e+03    -  2.73e-05 6.62e-03h  1\n",
      "  76  1.6351792e+02 6.31e+02 9.07e+05  -1.0 3.90e+03    -  2.53e-03 7.17e-05h  1\n",
      "  77  2.2218168e+02 6.24e+02 8.89e+05  -1.0 4.96e+03    -  1.86e-05 1.17e-02h  1\n",
      "  78  2.2247649e+02 6.24e+02 8.89e+05  -1.0 4.13e+03    -  2.45e-03 7.08e-05h  1\n",
      "  79  2.6666345e+02 6.19e+02 8.79e+05  -1.0 5.25e+03    -  1.90e-05 8.35e-03h  1\n",
      "iter    objective    inf_pr   inf_du lg(mu)  ||d||  lg(rg) alpha_du alpha_pr  ls\n",
      "  80  2.6693452e+02 6.19e+02 8.79e+05  -1.0 4.47e+03    -  1.99e-03 6.01e-05h  1\n",
      "  81  3.2027401e+02 6.13e+02 8.67e+05  -1.0 5.89e+03    -  1.56e-05 8.99e-03h  1\n",
      "  82  3.2050671e+02 6.13e+02 8.67e+05  -1.0 5.24e+03    -  1.35e-03 4.40e-05h  1\n",
      "  83  3.6825143e+02 6.09e+02 8.59e+05  -1.0 7.36e+03    -  1.10e-05 6.46e-03h  1\n",
      "  84  3.6839785e+02 6.09e+02 8.59e+05  -1.0 1.13e+04    -  3.47e-04 1.29e-05h  1\n",
      "  85  4.2570223e+02 6.06e+02 8.50e+05  -1.0 9.64e+03    -  7.18e-06 5.92e-03h  1\n",
      "  86  4.2575839e+02 6.05e+02 8.50e+05  -1.0 1.22e+03  -0.5 5.89e-05 1.13e-04h  1\n",
      "  87  4.2683348e+02 6.04e+02 8.48e+05  -1.0 1.40e+03  -1.0 3.26e-03 2.18e-03h  1\n",
      "  88  4.2740250e+02 6.03e+02 8.46e+05  -1.0 1.62e+03  -1.4 2.10e-03 2.01e-03h  1\n",
      "  89  4.2739376e+02 6.03e+02 8.46e+05  -1.0 2.01e+03  -1.9 8.62e-03 1.63e-05h  1\n",
      "iter    objective    inf_pr   inf_du lg(mu)  ||d||  lg(rg) alpha_du alpha_pr  ls\n",
      "  90  7.0216747e+02 5.75e+02 1.02e+06  -1.0 5.70e+03    -  2.58e-03 4.79e-02h  1\n",
      "  91  7.3405150e+02 5.73e+02 1.02e+06  -1.0 6.80e+03    -  3.34e-05 4.66e-03h  1\n",
      "  92  7.3418992e+02 5.73e+02 1.09e+06  -1.0 4.95e+03    -  3.93e-03 2.78e-05h  1\n",
      "  93  1.4679289e+03 5.19e+02 1.96e+06  -1.0 7.35e+03    -  1.70e-02 9.93e-02h  2\n",
      "  94  1.6274212e+03 5.11e+02 2.24e+06  -1.0 1.01e+04    -  1.40e-04 1.57e-02h  1\n",
      "  95  1.6759703e+03 5.07e+02 2.22e+06  -1.0 5.35e+03    -  9.69e-03 9.01e-03h  1\n",
      "  96  1.6766334e+03 5.07e+02 2.43e+06  -1.0 5.96e+03    -  3.45e-02 1.11e-04h  1\n",
      "  97  2.2208288e+03 4.82e+02 1.59e+06  -1.0 1.10e+04    -  3.59e-03 4.92e-02h  4\n",
      "  98  2.3481005e+03 4.74e+02 1.47e+06  -1.0 6.90e+03    -  1.57e-04 1.84e-02h  1\n",
      "  99  2.3492056e+03 4.73e+02 1.46e+06  -1.0 5.88e+03    -  3.91e-02 1.87e-04h  1\n",
      "iter    objective    inf_pr   inf_du lg(mu)  ||d||  lg(rg) alpha_du alpha_pr  ls\n",
      " 100  2.9737123e+03 4.48e+02 1.72e+06  -1.0 1.12e+04    -  1.24e-04 5.55e-02h  2\n",
      " 101  3.0285531e+03 4.43e+02 1.63e+06  -1.0 5.25e+03    -  2.08e-02 1.04e-02h  1\n",
      " 102  3.0308013e+03 4.43e+02 1.63e+06  -1.0 8.84e+03    -  2.81e-03 2.53e-04h  1\n",
      " 103  3.2570472e+03 4.32e+02 1.37e+06  -1.0 8.92e+03    -  3.79e-05 2.53e-02h  1\n",
      " 104  3.2584670e+03 4.32e+02 1.37e+06  -1.0 6.43e+03    -  5.98e-03 2.20e-04h  1\n",
      " 105  3.5354102e+03 4.22e+02 1.38e+06  -1.0 1.13e+04    -  3.65e-05 2.44e-02h  1\n",
      " 106  3.5364933e+03 4.22e+02 1.38e+06  -1.0 8.50e+03    -  2.36e-03 1.27e-04h  1\n",
      " 107  3.7482761e+03 4.19e+02 1.40e+06  -1.0 2.78e+04    -  1.09e-05 7.62e-03h  1\n",
      " 108  3.7489114e+03 4.19e+02 1.40e+06  -1.0 2.63e+03  -2.4 2.32e-04 3.28e-04h  1\n",
      " 109  3.8024177e+03 4.10e+02 1.33e+06  -1.0 2.73e+03  -2.9 1.52e-02 1.95e-02h  1\n",
      "iter    objective    inf_pr   inf_du lg(mu)  ||d||  lg(rg) alpha_du alpha_pr  ls\n",
      " 110  4.0150528e+03 4.05e+02 1.39e+06  -1.0 1.44e+04  -3.3 2.55e-02 1.48e-02h  1\n",
      " 111r 4.0150528e+03 4.05e+02 1.00e+03   2.6 0.00e+00  -3.8 0.00e+00 3.64e-07R  8\n",
      " 112r 4.0117663e+03 3.38e+02 1.21e+04   2.6 4.04e+05    -  1.09e-02 5.01e-05f  1\n",
      " 113  4.0105574e+03 3.38e+02 2.65e+03  -1.0 1.13e+03    -  4.82e-01 1.10e-03h  1\n",
      " 114  4.0157929e+03 3.37e+02 4.11e+05  -1.0 1.58e+03    -  5.02e-01 3.25e-03h  1\n",
      " 115  5.3944972e+03 2.90e+02 2.25e+05  -1.0 9.24e+03    -  6.81e-02 1.49e-01h  1\n",
      " 116  5.4215007e+03 2.89e+02 5.94e+05  -1.0 1.18e+04    -  8.50e-02 2.29e-03h  1\n",
      " 117  5.7492821e+03 2.82e+02 7.53e+05  -1.0 1.20e+04    -  2.00e-04 2.73e-02h  1\n",
      " 118  5.9812734e+03 2.76e+02 1.38e+06  -1.0 1.18e+04    -  1.53e-01 1.96e-02h  1\n",
      " 119  1.6323090e+04 5.03e+02 1.49e+08  -1.0 1.19e+04    -  2.29e-02 7.79e-01H  1\n",
      "iter    objective    inf_pr   inf_du lg(mu)  ||d||  lg(rg) alpha_du alpha_pr  ls\n",
      " 120  5.6796142e+03 6.50e+01 1.05e+08  -1.0 2.58e+04    -  3.96e-02 4.30e-01F  1\n",
      " 121  1.4397410e+03 3.62e+01 3.66e+07  -1.0 6.40e+03    -  9.58e-01 6.63e-01f  1\n",
      " 122  1.4365457e+03 3.62e+01 3.66e+07  -1.0 3.02e+03    -  1.48e-01 1.06e-03f  1\n",
      " 123  1.6945957e+02 2.26e+01 3.39e+07  -1.0 3.02e+03    -  1.09e-03 4.20e-01f  1\n",
      " 124  1.5631324e+02 2.24e+01 3.37e+07  -1.0 1.60e+03    -  9.23e-02 8.19e-03f  1\n",
      " 125  7.9923122e+01 8.33e+00 3.32e+07  -1.0 5.94e+02    -  1.54e-01 6.71e-01f  1\n",
      " 126  1.3028907e+01 4.05e+00 4.27e+07  -1.0 7.52e+02    -  5.18e-01 5.80e-01f  1\n",
      " 127  1.0623612e+01 3.80e+00 3.94e+07  -1.0 6.64e+02    -  2.42e-02 7.18e-02h  1\n",
      " 128 -4.0671296e+00 4.33e+00 1.64e+08  -1.0 6.57e+02    -  5.38e-02 7.25e-01h  1\n",
      " 129  2.6615468e-01 1.89e+00 3.59e+08  -1.0 2.77e+02    -  6.02e-02 6.77e-01h  1\n",
      "iter    objective    inf_pr   inf_du lg(mu)  ||d||  lg(rg) alpha_du alpha_pr  ls\n",
      " 130 -6.5546854e+00 3.50e+00 1.85e+08  -1.0 9.17e+02    -  8.10e-01 4.55e-01f  2\n",
      " 131 -1.1787146e+01 9.53e-01 8.28e+07  -1.0 5.07e+02  -4.3 1.04e-01 5.58e-01H  1\n",
      " 132 -1.1677857e+01 9.04e-01 7.88e+07  -1.0 1.67e+02  -3.9 4.03e-01 5.25e-02h  4\n",
      " 133 -1.3030709e+01 1.45e+00 5.75e+07  -1.0 1.60e+03  -4.3 7.00e-02 5.98e-01F  1\n",
      " 134 -1.3050401e+01 1.45e+00 5.86e+07  -1.0 3.02e+04    -  1.42e-02 3.26e-04h  1\n",
      " 135 -1.3081932e+01 2.44e-01 7.75e+08  -1.0 1.27e+02    -  9.99e-01 1.00e+00h  1\n",
      " 136 -1.3380322e+01 3.94e-01 1.23e+09  -1.0 8.76e+02    -  1.15e-01 1.25e-01f  4\n",
      " 137 -1.4313769e+01 2.99e+00 7.39e+08  -1.0 1.69e+03    -  3.02e-01 2.50e-01f  3\n",
      " 138 -1.5992581e+01 1.11e+01 2.20e+09  -1.0 2.43e+03    -  9.92e-02 3.16e-01f  2\n",
      " 139 -1.6459139e+01 6.22e+00 4.32e+09  -1.0 6.17e+02    -  1.77e-01 1.00e+00f  1\n",
      "iter    objective    inf_pr   inf_du lg(mu)  ||d||  lg(rg) alpha_du alpha_pr  ls\n",
      " 140 -1.6995331e+01 6.27e-02 8.72e+08  -1.0 2.82e+00  -0.3 8.67e-01 1.00e+00h  1\n",
      " 141 -1.7419936e+01 1.44e-02 2.16e+08  -1.0 5.51e-01  -0.8 1.00e+00 7.70e-01h  1\n",
      " 142 -1.7047788e+01 5.57e-05 1.69e+06  -1.0 1.31e+00  -1.3 1.00e+00 1.00e+00f  1\n",
      " 143 -1.8280805e+01 2.10e-01 1.24e+06  -1.0 1.56e+02    -  1.00e+00 7.27e-01f  1\n",
      " 144 -1.8070967e+01 1.70e-01 2.07e+06  -1.0 1.29e+02    -  1.00e+00 3.24e-01f  1\n",
      " 145 -1.7873916e+01 3.11e-03 2.36e+05  -1.0 1.39e+01    -  1.00e+00 1.00e+00f  1\n",
      " 146 -1.7889106e+01 4.83e-04 6.34e+04  -1.0 5.43e+00    -  1.00e+00 1.00e+00h  1\n",
      " 147 -1.7889766e+01 9.98e-07 1.44e+02  -1.0 2.47e-01    -  1.00e+00 1.00e+00h  1\n",
      " 148 -1.8912959e+01 5.38e-04 3.05e+05  -2.4 5.73e+00    -  9.90e-01 1.00e+00f  1\n",
      " 149 -1.9013572e+01 1.12e-02 1.92e+04  -2.4 5.72e+01    -  1.00e+00 6.85e-01H  1\n",
      "iter    objective    inf_pr   inf_du lg(mu)  ||d||  lg(rg) alpha_du alpha_pr  ls\n",
      " 150 -1.9033797e+01 4.80e-04 2.18e+03  -2.4 5.40e+00    -  1.00e+00 1.00e+00h  1\n",
      " 151 -1.9070417e+01 1.17e-03 4.84e+02  -2.4 1.51e+01    -  1.00e+00 1.00e+00H  1\n",
      " 152 -1.9062594e+01 1.73e-04 1.75e+01  -2.4 3.25e+00    -  1.00e+00 1.00e+00h  1\n",
      " 153 -1.9062241e+01 4.94e-07 2.03e-01  -2.4 1.74e-01    -  1.00e+00 1.00e+00h  1\n",
      " 154 -1.9167396e+01 2.44e-02 4.05e+04  -3.9 9.65e+01    -  2.80e-01 4.00e-01f  1\n",
      " 155 -1.9347232e+01 1.05e-01 8.00e+04  -3.9 2.44e+02    -  7.24e-01 3.00e-01h  1\n",
      " 156 -1.9317063e+01 1.05e-01 7.52e+04  -3.9 4.33e+02    -  4.24e-03 3.08e-02h  3\n",
      " 157 -1.9444299e+01 4.06e-02 4.30e+05  -3.9 4.86e+01    -  1.09e-02 9.46e-01h  1\n",
      " 158 -1.9372381e+01 1.52e-02 5.31e+04  -3.9 3.03e+01    -  6.88e-01 1.00e+00h  1\n",
      " 159 -1.9371693e+01 6.51e-06 3.19e+03  -3.9 6.43e-01    -  1.00e+00 1.00e+00h  1\n",
      "iter    objective    inf_pr   inf_du lg(mu)  ||d||  lg(rg) alpha_du alpha_pr  ls\n",
      " 160 -1.9531929e+01 7.86e-02 1.29e+03  -3.9 1.43e+02    -  5.18e-01 4.83e-01f  1\n",
      " 161 -1.9894042e+01 4.03e-01 1.53e+03  -3.9 1.57e+02    -  1.00e+00 9.95e-01f  1\n",
      " 162 -2.0035502e+01 3.12e-01 2.38e+05  -3.9 1.60e+02    -  9.50e-04 3.80e-01f  1\n",
      " 163 -2.0248322e+01 1.41e-01 5.46e+03  -3.9 9.16e+01    -  6.00e-01 1.00e+00h  1\n",
      " 164 -2.0248556e+01 4.44e-05 1.77e+01  -3.9 3.56e-01  -1.7 1.00e+00 1.00e+00h  1\n",
      " 165 -2.0759202e+01 8.10e-01 4.24e+02  -3.9 5.77e+02    -  3.31e-01 3.81e-01f  1\n",
      " 166 -2.1845523e+01 4.04e+00 4.44e+02  -3.9 7.70e+02    -  6.87e-01 6.08e-01h  1\n",
      " 167 -2.2193486e+01 2.19e+00 9.57e+03  -3.9 2.73e+02    -  8.78e-04 5.63e-01h  1\n",
      " 168 -2.3074923e+01 2.69e+00 3.83e+03  -3.9 3.90e+02    -  6.10e-01 1.00e+00h  1\n",
      " 169 -2.4104915e+01 5.90e+00 1.60e+03  -3.9 1.83e+03    -  2.28e-01 2.56e-01h  1\n",
      "iter    objective    inf_pr   inf_du lg(mu)  ||d||  lg(rg) alpha_du alpha_pr  ls\n",
      " 170 -2.7612788e+01 5.33e+01 3.29e+03  -3.9 2.51e+03    -  1.28e-01 6.72e-01h  1\n",
      " 171 -2.8412232e+01 2.81e+01 2.85e+06  -3.9 9.57e+02    -  4.67e-02 6.17e-01h  1\n",
      " 172 -2.7593281e+01 6.53e+00 2.51e+05  -3.9 5.37e+02    -  4.48e-01 1.00e+00h  1\n",
      " 173 -2.7337629e+01 3.21e+00 3.65e+03  -3.9 2.86e+02    -  8.91e-01 1.00e+00h  1\n",
      " 174 -2.7292844e+01 3.21e-02 3.71e+00  -3.9 2.93e+01    -  1.00e+00 1.00e+00h  1\n"
     ]
    },
    {
     "name": "stdout",
     "output_type": "stream",
     "text": [
      " 175 -2.7291609e+01 1.45e-06 1.85e-02  -3.9 6.32e-02    -  1.00e+00 1.00e+00h  1\n",
      " 176 -2.7291609e+01 1.38e-10 1.40e-09  -3.9 2.09e-05    -  1.00e+00 1.00e+00h  1\n",
      " 177 -2.7292532e+01 4.15e-03 6.23e+03  -6.0 1.60e+01    -  9.88e-01 7.79e-01f  1\n",
      " 178 -2.7292438e+01 3.66e-04 1.79e+00  -6.0 3.68e+00    -  1.00e+00 1.00e+00h  1\n",
      " 179 -2.7292428e+01 2.28e-09 1.91e-06  -6.0 1.07e-02    -  1.00e+00 1.00e+00h  1\n",
      "iter    objective    inf_pr   inf_du lg(mu)  ||d||  lg(rg) alpha_du alpha_pr  ls\n",
      " 180 -2.7292431e+01 2.98e-07 1.10e-03  -7.6 1.05e-01    -  1.00e+00 1.00e+00h  1\n",
      " 181 -2.7292431e+01 1.38e-10 5.55e-11  -7.6 5.30e-06    -  1.00e+00 1.00e+00h  1\n",
      " 182 -2.7292431e+01 2.80e-10 1.04e-06  -9.0 3.23e-03    -  1.00e+00 1.00e+00h  1\n",
      " 183 -2.7292431e+01 1.38e-10 1.20e-11  -9.0 5.07e-05    -  1.00e+00 1.00e+00h  1\n",
      "\n",
      "Number of Iterations....: 183\n",
      "\n",
      "                                   (scaled)                 (unscaled)\n",
      "Objective...............:  -7.7978374566527062e+00   -2.7292431098284474e+01\n",
      "Dual infeasibility......:   1.2042685637734911e-11    4.2149399732072187e-11\n",
      "Constraint violation....:   1.3792248170375193e-10    1.3792248170375193e-10\n",
      "Complementarity.........:   9.0917763017514872e-10    3.1821217056130209e-09\n",
      "Overall NLP error.......:   9.0917763017514872e-10    3.1821217056130209e-09\n",
      "\n",
      "\n",
      "Number of objective function evaluations             = 266\n",
      "Number of objective gradient evaluations             = 151\n",
      "Number of equality constraint evaluations            = 266\n",
      "Number of inequality constraint evaluations          = 266\n",
      "Number of equality constraint Jacobian evaluations   = 190\n",
      "Number of inequality constraint Jacobian evaluations = 190\n",
      "Number of Lagrangian Hessian evaluations             = 183\n",
      "Total CPU secs in IPOPT (w/o function evaluations)   =      9.851\n",
      "Total CPU secs in NLP function evaluations           =      0.400\n",
      "\n",
      "EXIT: Optimal Solution Found.\n"
     ]
    }
   ],
   "source": [
    "results = opt.solve(model,tee=True)\n",
    "update_dual(pe,model)"
   ]
  },
  {
   "cell_type": "code",
   "execution_count": 26,
   "metadata": {
    "scrolled": false,
    "slideshow": {
     "slide_type": "slide"
    }
   },
   "outputs": [],
   "source": [
    "# print('Component\\t\\tLiquid: {:.4f}\\t\\t\\tVapor: {:.4f}'.format(model.L['out'].value,model.V['out'].value))\n",
    "# print('-'*108)\n",
    "# for i in model.x:\n",
    "#     print('{:10s}'.format(i),'\\t\\t{:8.4%}\\t\\t\\t{:8.4%}'.format(model.x[i].value,model.y[i].value))"
   ]
  },
  {
   "cell_type": "code",
   "execution_count": 27,
   "metadata": {},
   "outputs": [
    {
     "data": {
      "text/plain": [
       "27.292431091466298"
      ]
     },
     "execution_count": 27,
     "metadata": {},
     "output_type": "execute_result"
    }
   ],
   "source": [
    "# 43*model.P_naphtha.value + 90*model.P_gasoline.value + 128*model.P_diesel.value + 100*model.P_heavy.value\n",
    "54*model.P_naphtha.value + 112*model.P_gasoline.value + 161*model.P_diesel.value + 350*model.P_heavy.value"
   ]
  },
  {
   "cell_type": "code",
   "execution_count": 28,
   "metadata": {},
   "outputs": [
    {
     "data": {
      "text/plain": [
       "(491.2052273637285, 20.000000253235335, 2.627918500626668)"
      ]
     },
     "execution_count": 28,
     "metadata": {},
     "output_type": "execute_result"
    }
   ],
   "source": [
    "model.T.value, model.VLE_block.P_VLE.value, model.kinetics_block.r_FT_total.value"
   ]
  },
  {
   "cell_type": "code",
   "execution_count": 29,
   "metadata": {},
   "outputs": [
    {
     "data": {
      "text/plain": [
       "(0.057730452372284705,\n",
       " 0.0594576412400823,\n",
       " 0.03655524418985241,\n",
       " 0.03322953294259276)"
      ]
     },
     "execution_count": 29,
     "metadata": {},
     "output_type": "execute_result"
    }
   ],
   "source": [
    "model.P_naphtha.value, model.P_gasoline.value, model.P_diesel.value, model.P_heavy.value"
   ]
  },
  {
   "cell_type": "code",
   "execution_count": 30,
   "metadata": {},
   "outputs": [
    {
     "data": {
      "text/plain": [
       "0.8041541716747378"
      ]
     },
     "execution_count": 30,
     "metadata": {},
     "output_type": "execute_result"
    }
   ],
   "source": [
    "# Conversion\n",
    "(model.F.value - model.V['out'].value * (model.y['H2'].value + model.y['CO'].value) - \\\n",
    "model.L['out'].value * (model.x['H2'].value + model.x['CO'].value))/model.F.value"
   ]
  },
  {
   "cell_type": "code",
   "execution_count": 31,
   "metadata": {},
   "outputs": [],
   "source": [
    "# model.solutions.store_to(results)\n",
    "# with open('../../saved_solutions/reactive_flash_MPCC_P_200C.pickle','wb') as f:\n",
    "#     pickle.dump(results,f)"
   ]
  },
  {
   "cell_type": "code",
   "execution_count": 32,
   "metadata": {},
   "outputs": [],
   "source": [
    "# with open('test_model.pickle','wb') as f:\n",
    "#     dill.dump(model,f)"
   ]
  }
 ],
 "metadata": {
  "kernelspec": {
   "display_name": "Python 3",
   "language": "python",
   "name": "python3"
  },
  "language_info": {
   "codemirror_mode": {
    "name": "ipython",
    "version": 3
   },
   "file_extension": ".py",
   "mimetype": "text/x-python",
   "name": "python",
   "nbconvert_exporter": "python",
   "pygments_lexer": "ipython3",
   "version": "3.6.5"
  }
 },
 "nbformat": 4,
 "nbformat_minor": 2
}
