{
 "cells": [
  {
   "cell_type": "markdown",
   "metadata": {
    "slideshow": {
     "slide_type": "slide"
    }
   },
   "source": [
    "# 2nd Level Model Structure: Condenser Stage"
   ]
  },
  {
   "cell_type": "code",
   "execution_count": 1,
   "metadata": {},
   "outputs": [],
   "source": [
    "import sys\n",
    "import os\n",
    "import pickle\n",
    "sys.path.append(os.path.abspath('..'))\n",
    "sys.path.append(os.path.abspath('../..'))\n",
    "import numpy as np\n",
    "from matplotlib import pyplot as plt"
   ]
  },
  {
   "cell_type": "code",
   "execution_count": 2,
   "metadata": {
    "slideshow": {
     "slide_type": "fragment"
    }
   },
   "outputs": [],
   "source": [
    "from pyomo import environ as pe\n",
    "from global_sets.component import m\n",
    "from utility.model_utility import add_dual, update_dual, check_DOF\n",
    "from utility.display_utility import trans_product_mole, trans_product_mass\n",
    "\n",
    "# stage construction rules\n",
    "from physics.energy.energy_condenser import energy_block_rule\n",
    "from physics.VLE.VLLE_condenser import VLLE_block_rule\n",
    "\n",
    "# collect variable bounds\n",
    "from physics.bounds import water_x, water_yp\n",
    "\n",
    "model = pe.ConcreteModel()"
   ]
  },
  {
   "cell_type": "markdown",
   "metadata": {
    "slideshow": {
     "slide_type": "subslide"
    }
   },
   "source": [
    "# Global Sets (Inlet / Outlet)"
   ]
  },
  {
   "cell_type": "code",
   "execution_count": 3,
   "metadata": {
    "slideshow": {
     "slide_type": "fragment"
    }
   },
   "outputs": [],
   "source": [
    "model.inlet = pe.Set(initialize=['in'])\n",
    "model.outlet = pe.Set(initialize=['out','P'])\n",
    "model.stream = model.inlet | model.outlet\n",
    "model.COMP_WATER = pe.Set(initialize=['H2O'])"
   ]
  },
  {
   "cell_type": "markdown",
   "metadata": {
    "slideshow": {
     "slide_type": "subslide"
    }
   },
   "source": [
    "# Global Variables"
   ]
  },
  {
   "cell_type": "code",
   "execution_count": 4,
   "metadata": {
    "slideshow": {
     "slide_type": "fragment"
    }
   },
   "outputs": [],
   "source": [
    "model.T = pe.Var(within=pe.NonNegativeReals,bounds=(20+273.15,40+273.15)) # K\n",
    "model.T_F = pe.Var(within=pe.NonNegativeReals) # K\n",
    "model.P = pe.Var(within=pe.NonNegativeReals,bounds=(10,30)) # Bar\n",
    "model.Q_main = pe.Var(within=pe.Reals) # MW\n",
    "# Tray Inlet/Outlet Variable\n",
    "model.x_ = pe.Var(model.inlet,m.COMP_TOTAL,within=pe.NonNegativeReals)\n",
    "model.y_ = pe.Var(model.inlet,m.COMP_TOTAL,within=pe.NonNegativeReals)\n",
    "model.x = pe.Var(m.COMP_TOTAL,within=pe.NonNegativeReals)\n",
    "model.y = pe.Var(m.COMP_TOTAL,within=pe.NonNegativeReals)\n",
    "model.z = pe.Var(m.COMP_FEED,within=pe.NonNegativeReals)\n",
    "\n",
    "model.L = pe.Var(model.stream,within=pe.NonNegativeReals)\n",
    "model.W = pe.Var(within=pe.NonNegativeReals)\n",
    "model.V = pe.Var(model.stream,within=pe.NonNegativeReals)\n",
    "model.F = pe.Var(within=pe.NonNegativeReals)\n",
    "\n",
    "model.H_L_ = pe.Var(model.inlet,within=pe.Reals)\n",
    "model.H_V_ = pe.Var(model.inlet,within=pe.Reals)\n",
    "model.H_L = pe.Var(within=pe.Reals)\n",
    "model.H_V = pe.Var(within=pe.Reals)\n",
    "\n",
    "model.H_F = pe.Var(within=pe.Reals)\n",
    "model.f_V = pe.Var(m.COMP_TOTAL,within=pe.NonNegativeReals,initialize=1e-20)\n",
    "model.f_L = pe.Var(m.COMP_TOTAL,within=pe.NonNegativeReals,initialize=1e-20)"
   ]
  },
  {
   "cell_type": "markdown",
   "metadata": {
    "slideshow": {
     "slide_type": "slide"
    }
   },
   "source": [
    "# Construct Individual Blocks"
   ]
  },
  {
   "cell_type": "code",
   "execution_count": 5,
   "metadata": {
    "slideshow": {
     "slide_type": "subslide"
    }
   },
   "outputs": [
    {
     "name": "stdout",
     "output_type": "stream",
     "text": [
      "> Importing Energy Blocks......\n",
      "> Adding the following local variable:\n",
      "--------------------------------------------------\n",
      "| energy_block.dH_F\n",
      "| energy_block.dH_V\n",
      "| energy_block.dH_L\n",
      "| energy_block.dH_vap\n",
      "--------------------------------------------------\n",
      "\n"
     ]
    }
   ],
   "source": [
    "model.energy_block = pe.Block(rule=energy_block_rule)"
   ]
  },
  {
   "cell_type": "code",
   "execution_count": 6,
   "metadata": {
    "scrolled": true,
    "slideshow": {
     "slide_type": "subslide"
    }
   },
   "outputs": [
    {
     "name": "stdout",
     "output_type": "stream",
     "text": [
      "> Importing VLE Blocks......\n",
      "> Adding the following local variable:\n",
      "--------------------------------------------------\n",
      "| VLE_block.n_ave\n",
      "| VLE_block.n_ave_cal\n",
      "| VLE_block.Hen\n",
      "| VLE_block.Hen0\n",
      "| VLE_block.gamma\n",
      "| VLE_block.P_sat\n",
      "| VLE_block.P_sat_Y\n",
      "| VLE_block.P_sat_dY_inf\n",
      "| VLE_block.P_sat_dY0\n",
      "| VLE_block.Hen_ref\n",
      "| VLE_block.Hen0_ref\n",
      "| VLE_block.gamma_ref\n",
      "| VLE_block.V_L\n",
      "| VLE_block.V_L_dY_inf\n",
      "| VLE_block.V_L_dY0\n",
      "| VLE_block.poynting\n",
      "--------------------------------------------------\n",
      "\n"
     ]
    }
   ],
   "source": [
    "model.VLE_block = pe.Block(rule=VLLE_block_rule)"
   ]
  },
  {
   "cell_type": "markdown",
   "metadata": {
    "slideshow": {
     "slide_type": "slide"
    }
   },
   "source": [
    "# Standard MESH Equations"
   ]
  },
  {
   "cell_type": "markdown",
   "metadata": {
    "slideshow": {
     "slide_type": "subslide"
    }
   },
   "source": [
    "## Mass Balance"
   ]
  },
  {
   "cell_type": "markdown",
   "metadata": {
    "slideshow": {
     "slide_type": "fragment"
    }
   },
   "source": [
    "\\begin{equation}\n",
    "Fz_{i}+\\sum_{s\\in{inlet}}L_{s}x'_{i,s}+\\sum_{s\\in{inlet}}V_{s}y'_{i,s}-\\sum_{s\\in{outlet}}L_{s}x_{i,s}+\\sum_{s\\in{ouelet}}V_{s}y_{i,s}+R_{i} = 0 \\\\\n",
    "i = 1,...NC\n",
    "\\end{equation}"
   ]
  },
  {
   "cell_type": "code",
   "execution_count": 7,
   "metadata": {
    "slideshow": {
     "slide_type": "fragment"
    }
   },
   "outputs": [],
   "source": [
    "def mass_balance_main_rule(model,i):\n",
    "    if i in m.COMP_FEED:\n",
    "        return model.F*model.z[i] + sum(model.L[s]*model.x_[s,i] + model.V[s]*model.y_[s,i] for s in model.inlet)\\\n",
    "        - sum(model.L[s]*model.x[i] + model.V[s]*model.y[i] for s in model.outlet) == 0\n",
    "    elif i in model.COMP_WATER:\n",
    "        return sum(model.L[s]*model.x_[s,i] + model.V[s]*model.y_[s,i] for s in model.inlet)\\\n",
    "        - sum(model.L[s]*model.x[i] + model.V[s]*model.y[i] for s in model.outlet) - model.W == 0\n",
    "    else:\n",
    "        return sum(model.L[s]*model.x_[s,i] + model.V[s]*model.y_[s,i] for s in model.inlet)\\\n",
    "        - sum(model.L[s]*model.x[i] + model.V[s]*model.y[i] for s in model.outlet) == 0\n",
    "model.mass_balance_main_con = pe.Constraint(m.COMP_TOTAL,rule=mass_balance_main_rule)"
   ]
  },
  {
   "cell_type": "markdown",
   "metadata": {
    "slideshow": {
     "slide_type": "subslide"
    }
   },
   "source": [
    "## Equilibrium"
   ]
  },
  {
   "cell_type": "markdown",
   "metadata": {
    "slideshow": {
     "slide_type": "fragment"
    }
   },
   "source": [
    "\\begin{align}\n",
    "&f_{i,V} = f_{i,L} \\\\\n",
    "&i = 1,...NC\n",
    "\\end{align}"
   ]
  },
  {
   "cell_type": "code",
   "execution_count": 8,
   "metadata": {
    "slideshow": {
     "slide_type": "fragment"
    }
   },
   "outputs": [],
   "source": [
    "# Equilibrium\n",
    "def VL_equil_rule(model,i):\n",
    "    return model.f_V[i] == model.f_L[i]\n",
    "model.VL_equil_con = pe.Constraint(m.COMP_TOTAL-model.COMP_WATER,rule=VL_equil_rule)\n",
    "\n",
    "# Water phase\n",
    "def L_water_rule(model,i):\n",
    "    return model.x[i] == pe.exp(-0.66037 - 7.1130*(539.1/model.T) - 0.67885*(1-model.T/539.1)**(1/3) -1.43381*(1-model.T/539.1))\n",
    "model.L_water_con = pe.Constraint(model.COMP_WATER,rule=L_water_rule)\n",
    "\n",
    "def V_water_rule(model,i):\n",
    "    return model.y[i]*model.P == pe.exp(2.30258509299*(5.20389 - 1733.926/(model.T-39.485)))\n",
    "model.V_water_con = pe.Constraint(model.COMP_WATER,rule=V_water_rule)"
   ]
  },
  {
   "cell_type": "code",
   "execution_count": 9,
   "metadata": {},
   "outputs": [],
   "source": [
    "# add bounds specifically for water\n",
    "model.x['H2O'].setub(water_x[1]+abs(water_x[1])*0.1)\n",
    "model.x['H2O'].setlb(water_x[0]-abs(water_x[0])*0.1)\n",
    "\n",
    "model.y['H2O'].setub(water_yp[1]/model.P.lb)\n",
    "model.y['H2O'].setlb(water_yp[0]/model.P.ub)"
   ]
  },
  {
   "cell_type": "markdown",
   "metadata": {
    "slideshow": {
     "slide_type": "subslide"
    }
   },
   "source": [
    "## Summation"
   ]
  },
  {
   "cell_type": "markdown",
   "metadata": {
    "slideshow": {
     "slide_type": "fragment"
    }
   },
   "source": [
    "\\begin{equation}\n",
    "\\sum_ix_{i} = 1 \\\\\n",
    "\\sum_iy_{i} = 1\n",
    "\\end{equation}"
   ]
  },
  {
   "cell_type": "code",
   "execution_count": 10,
   "metadata": {
    "slideshow": {
     "slide_type": "fragment"
    }
   },
   "outputs": [],
   "source": [
    "def summation_x_main_rule(model):\n",
    "    return sum(model.x[i] for i in m.COMP_TOTAL) == 1\n",
    "model.summation_x_main_con = pe.Constraint(rule=summation_x_main_rule)\n",
    "\n",
    "def summation_y_main_rule(model):\n",
    "    return sum(model.y[i] for i in m.COMP_TOTAL) == 1\n",
    "model.summation_y_main_con = pe.Constraint(rule=summation_y_main_rule)"
   ]
  },
  {
   "cell_type": "markdown",
   "metadata": {
    "slideshow": {
     "slide_type": "subslide"
    }
   },
   "source": [
    "## Energy Balance"
   ]
  },
  {
   "cell_type": "markdown",
   "metadata": {
    "slideshow": {
     "slide_type": "fragment"
    }
   },
   "source": [
    "\\begin{equation}\n",
    "F H_f+\\sum_{s\\in{inlet}}L_{s}H_{l,s}+\\sum_{s\\in{inlet}}V_{s}H_{v,s}-\\sum_{s\\in{outlet}}L_{s}H_{l,s}-\\sum_{s\\in{outlet}}V_{s}H_{v,s}+Q = 0\n",
    "\\end{equation}"
   ]
  },
  {
   "cell_type": "code",
   "execution_count": 11,
   "metadata": {
    "slideshow": {
     "slide_type": "fragment"
    }
   },
   "outputs": [],
   "source": [
    "def heat_balance_main_rule(model):\n",
    "    return model.F*model.H_F + sum(model.L[s]*model.H_L_[s] + model.V[s]*model.H_V_[s] for s in model.inlet) \\\n",
    "            + model.Q_main - sum(model.L[s]*model.H_L + model.V[s]*model.H_V for s in model.outlet) - model.W*model.energy_block.dH_L['H2O'] == 0\n",
    "model.heat_balance_main_con = pe.Constraint(rule=heat_balance_main_rule)"
   ]
  },
  {
   "cell_type": "markdown",
   "metadata": {
    "slideshow": {
     "slide_type": "slide"
    }
   },
   "source": [
    "# Testing"
   ]
  },
  {
   "cell_type": "code",
   "execution_count": 12,
   "metadata": {},
   "outputs": [
    {
     "name": "stdout",
     "output_type": "stream",
     "text": [
      "Created the follow pyomo suffixes:\n",
      "ipopt_zL_out, ipopt_zU_out, ipopt_zL_in, ipopt_zU_in, dual\n"
     ]
    }
   ],
   "source": [
    "add_dual(pe,model)"
   ]
  },
  {
   "cell_type": "markdown",
   "metadata": {},
   "source": [
    "## Load a sample vapor feed from reactive flash example"
   ]
  },
  {
   "cell_type": "code",
   "execution_count": 13,
   "metadata": {},
   "outputs": [],
   "source": [
    "with open('../../saved_solutions/reactive_flash_MPCC_P_200C.pickle', 'rb') as f:\n",
    "    C200 = pickle.load(f)"
   ]
  },
  {
   "cell_type": "markdown",
   "metadata": {
    "slideshow": {
     "slide_type": "fragment"
    }
   },
   "source": [
    "## Fixing In/Product Redundent Flow"
   ]
  },
  {
   "cell_type": "code",
   "execution_count": 14,
   "metadata": {
    "slideshow": {
     "slide_type": "fragment"
    }
   },
   "outputs": [],
   "source": [
    "model.x_.fix(0)\n",
    "for i in m.COMP_TOTAL:\n",
    "    model.y_['in',i].fix(C200.Solution.Variable['y[{}]'.format(i)]['Value'])\n",
    "model.L['in'].fix(0)\n",
    "model.L['out'].fix(0)\n",
    "model.V['in'].fix(1)\n",
    "model.V['out'].fix(0)\n",
    "model.H_L_.fix(0)\n",
    "model.H_V_.fix(C200.Solution.Variable['H_V']['Value'])"
   ]
  },
  {
   "cell_type": "markdown",
   "metadata": {
    "slideshow": {
     "slide_type": "subslide"
    }
   },
   "source": [
    "## Fixing Model Parameters"
   ]
  },
  {
   "cell_type": "code",
   "execution_count": 15,
   "metadata": {
    "slideshow": {
     "slide_type": "fragment"
    }
   },
   "outputs": [],
   "source": [
    "model.P.fix(19)\n",
    "model.T_F.fix(200+273.15)\n",
    "model.F.fix(0)\n",
    "model.z.fix(0)\n",
    "model.VLE_block.n_ave.fix(4)"
   ]
  },
  {
   "cell_type": "code",
   "execution_count": 16,
   "metadata": {
    "scrolled": true,
    "slideshow": {
     "slide_type": "fragment"
    }
   },
   "outputs": [
    {
     "name": "stdout",
     "output_type": "stream",
     "text": [
      "Active Equality Constraints:\t 957\n",
      "Active Inequality Constraints:\t 0\n",
      "Active Variables:\t\t 1129\n",
      "Fixed Variables:\t\t 171\n",
      "DOF:\t\t\t\t 1\n"
     ]
    }
   ],
   "source": [
    "check_DOF(pe,model)"
   ]
  },
  {
   "cell_type": "markdown",
   "metadata": {
    "slideshow": {
     "slide_type": "subslide"
    }
   },
   "source": [
    "## Fix T or to fix Q? we have found that Maximize against an upper bound is most reliable"
   ]
  },
  {
   "cell_type": "code",
   "execution_count": 17,
   "metadata": {
    "slideshow": {
     "slide_type": "fragment"
    }
   },
   "outputs": [],
   "source": [
    "model.T.setub(30+273.15)"
   ]
  },
  {
   "cell_type": "code",
   "execution_count": 18,
   "metadata": {
    "slideshow": {
     "slide_type": "fragment"
    }
   },
   "outputs": [],
   "source": [
    "model.obj = pe.Objective(expr = model.T,sense=pe.maximize)"
   ]
  },
  {
   "cell_type": "code",
   "execution_count": 19,
   "metadata": {
    "scrolled": false,
    "slideshow": {
     "slide_type": "fragment"
    }
   },
   "outputs": [
    {
     "name": "stdout",
     "output_type": "stream",
     "text": [
      "Ipopt 3.12.8: print_user_options=yes\n",
      "linear_solver=ma86\n",
      "halt_on_ampl_error=yes\n",
      "max_iter=7000\n",
      "\n",
      "\n",
      "List of user-set options:\n",
      "\n",
      "                                    Name   Value                used\n",
      "                           linear_solver = ma86                  yes\n",
      "                                max_iter = 7000                  yes\n",
      "                      print_user_options = yes                   yes\n",
      "\n",
      "******************************************************************************\n",
      "This program contains Ipopt, a library for large-scale nonlinear optimization.\n",
      " Ipopt is released as open source code under the Eclipse Public License (EPL).\n",
      "         For more information visit http://projects.coin-or.org/Ipopt\n",
      "******************************************************************************\n",
      "\n",
      "This is Ipopt version 3.12.8, running with linear solver ma86.\n",
      "\n",
      "Number of nonzeros in equality constraint Jacobian...:     3065\n",
      "Number of nonzeros in inequality constraint Jacobian.:        0\n",
      "Number of nonzeros in Lagrangian Hessian.............:     4009\n",
      "\n",
      "Total number of variables............................:      958\n",
      "                     variables with only lower bounds:      320\n",
      "                variables with lower and upper bounds:      551\n",
      "                     variables with only upper bounds:        0\n",
      "Total number of equality constraints.................:      957\n",
      "Total number of inequality constraints...............:        0\n",
      "        inequality constraints with only lower bounds:        0\n",
      "   inequality constraints with lower and upper bounds:        0\n",
      "        inequality constraints with only upper bounds:        0\n",
      "\n",
      "iter    objective    inf_pr   inf_du lg(mu)  ||d||  lg(rg) alpha_du alpha_pr  ls\n",
      "   0 -2.9325000e+02 9.57e+02 1.00e+00  -1.0 0.00e+00    -  0.00e+00 0.00e+00   0\n",
      "   1 -2.9315100e+02 9.57e+02 7.75e+02  -1.0 3.21e+06    -  3.76e-06 1.14e-06h  1\n",
      "   2r-2.9315100e+02 9.57e+02 9.99e+02   3.0 0.00e+00    -  0.00e+00 6.74e-09R  2\n",
      "   3r-2.9315100e+02 9.57e+02 9.99e+02   3.0 1.44e+05    -  6.12e-05 1.91e-09f  2\n",
      "   4r-2.9315205e+02 8.46e+02 9.98e+02  -0.5 1.43e+05    -  3.56e-04 7.78e-04f  1\n",
      "   5r-2.9315205e+02 8.46e+02 9.99e+02   2.9 0.00e+00    -  0.00e+00 1.18e-07R  2\n",
      "   6r-2.9315205e+02 8.46e+02 9.99e+02   2.9 2.61e+05    -  2.05e-06 5.10e-11f  2\n",
      "   7r-2.9317040e+02 6.84e+02 9.99e+02   0.8 2.62e+05    -  8.85e-05 6.16e-04f  1\n",
      "   8r-2.9317040e+02 6.84e+02 9.99e+02   2.8 0.00e+00    -  0.00e+00 2.41e-07R  2\n",
      "   9r-2.9317040e+02 6.84e+02 9.99e+02   2.8 3.07e+05    -  1.23e-04 2.96e-11f  2\n",
      "iter    objective    inf_pr   inf_du lg(mu)  ||d||  lg(rg) alpha_du alpha_pr  ls\n",
      "  10r-2.9637606e+02 5.14e+02 9.98e+02  -0.7 2.96e+05    -  1.46e-05 2.27e-03f  1\n",
      "  11r-2.9637606e+02 5.14e+02 9.99e+02   2.7 0.00e+00    -  0.00e+00 1.91e-07R  2\n",
      "  12r-2.9637606e+02 5.14e+02 1.11e+04   2.7 1.88e+04    -  1.76e-03 5.85e-11f  2\n",
      "  13r-2.9694073e+02 5.14e+02 1.11e+04  -1.5 1.43e+04    -  4.38e-03 3.58e-03f  1\n",
      "  14r-2.9710516e+02 4.97e+02 1.10e+04  -1.5 5.46e+03    -  7.38e-03 3.08e-03f  1\n",
      "  15r-2.9738334e+02 4.58e+02 1.10e+04  -1.5 5.43e+03    -  4.24e-03 7.19e-03f  1\n",
      "  16 -2.9738302e+02 4.58e+02 1.47e+00  -1.0 7.71e+05    -  2.66e-07 1.36e-07f  2\n",
      "  17 -2.9738058e+02 4.58e+02 1.95e+00  -1.0 5.62e+05    -  7.16e-08 1.87e-07f  1\n",
      "  18 -2.9737616e+02 4.58e+02 1.97e+00  -1.0 1.59e+06    -  8.58e-08 1.05e-07f  1\n",
      "  19 -2.9736718e+02 4.58e+02 2.91e+00  -1.0 1.61e+06    -  1.91e-07 2.12e-07f  1\n",
      "iter    objective    inf_pr   inf_du lg(mu)  ||d||  lg(rg) alpha_du alpha_pr  ls\n",
      "  20 -2.9724200e+02 4.58e+02 2.66e+02  -1.0 1.61e+06    -  5.34e-07 2.95e-06h  1\n",
      "  21r-2.9724200e+02 4.58e+02 9.99e+02   2.7 0.00e+00    -  0.00e+00 1.69e-08R  2\n",
      "  22r-2.9724200e+02 4.58e+02 5.97e+03   2.7 1.03e+04    -  2.21e-03 6.49e-10f  2\n",
      "  23r-2.9688730e+02 4.34e+02 5.99e+03  -1.5 2.61e+03    -  1.44e-02 8.98e-03f  1\n",
      "  24r-2.9697306e+02 2.03e+02 6.18e+03  -1.5 1.81e+05    -  2.30e-02 2.38e-03f  1\n",
      "  25r-2.9697306e+02 2.03e+02 9.99e+02   1.6 0.00e+00    -  0.00e+00 5.03e-09R  2\n",
      "  26r-2.9697306e+02 2.03e+02 2.03e+03   1.6 8.99e+03    -  3.62e-03 5.92e-10f  2\n",
      "  27r-2.9693079e+02 1.97e+02 2.03e+03  -1.2 7.53e+03    -  1.71e-03 1.89e-03f  1\n",
      "  28r-2.9693079e+02 1.97e+02 9.99e+02   1.4 0.00e+00    -  0.00e+00 1.06e-08R  2\n",
      "  29r-2.9693079e+02 1.97e+02 1.66e+03   1.4 1.04e+04    -  3.93e-03 7.77e-10f  2\n",
      "iter    objective    inf_pr   inf_du lg(mu)  ||d||  lg(rg) alpha_du alpha_pr  ls\n",
      "  30r-2.9679691e+02 1.95e+02 1.97e+03  -0.7 1.15e+04    -  1.52e-03 4.96e-04f  1\n",
      "  31r-2.9679691e+02 1.95e+02 9.99e+02   1.4 0.00e+00    -  0.00e+00 5.36e-09R  2\n",
      "  32r-2.9679691e+02 1.95e+02 1.04e+04   1.4 1.79e+04    -  4.22e-03 9.09e-10f  2\n",
      "  33r-2.9542666e+02 1.79e+02 6.80e+03  -0.7 1.39e+04    -  1.89e-03 4.09e-03f  1\n",
      "  34r-2.9542666e+02 1.79e+02 9.99e+02   1.2 0.00e+00    -  0.00e+00 3.08e-09R  2\n",
      "  35r-2.9542666e+02 1.79e+02 1.36e+03   1.2 1.79e+04    -  6.15e-04 1.27e-09f  2\n",
      "  36r-2.9494103e+02 1.71e+02 9.97e+02  -0.2 1.22e+04    -  4.55e-05 1.56e-03f  1\n",
      "  37r-2.9473299e+02 1.62e+02 9.96e+02  -0.2 5.00e+03    -  1.73e-03 1.69e-03f  1\n",
      "  38r-2.9467071e+02 1.57e+02 9.96e+02  -0.2 2.63e+03    -  5.28e-04 9.63e-04f  1\n",
      "  39r-2.9451194e+02 1.38e+02 2.13e+03  -0.2 1.90e+03    -  7.31e-04 3.43e-03f  1\n",
      "iter    objective    inf_pr   inf_du lg(mu)  ||d||  lg(rg) alpha_du alpha_pr  ls\n",
      "  40r-2.9450545e+02 1.29e+02 2.41e+03  -0.2 1.02e+03    -  7.51e-04 1.98e-03f  1\n",
      "  41r-2.9452393e+02 1.19e+02 2.51e+03  -0.2 1.01e+03    -  1.24e-03 1.90e-03f  1\n",
      "  42r-2.9466625e+02 8.18e+01 3.13e+03  -0.2 1.00e+03    -  1.76e-03 8.01e-03f  1\n",
      "  43r-2.9479372e+02 6.16e+01 3.09e+03  -0.2 9.77e+02    -  1.08e-02 4.99e-03f  1\n",
      "  44r-2.9507537e+02 1.65e+01 3.03e+03  -0.2 9.24e+02    -  2.90e-02 1.68e-02f  1\n",
      "  45r-2.9513080e+02 1.65e+01 3.02e+03  -0.9 2.94e+02    -  4.15e-02 7.05e-03f  1\n",
      "  46r-2.9536484e+02 1.65e+01 2.83e+03  -0.9 2.53e+02    -  1.08e-02 3.46e-02f  1\n",
      "  47r-2.9559399e+02 1.65e+01 2.61e+03  -0.9 1.85e+02    -  3.37e-02 5.26e-02f  1\n",
      "  48r-2.9565550e+02 1.65e+01 2.62e+03  -0.9 1.44e+02    -  9.79e-02 5.67e-02f  1\n",
      "  49r-2.9551676e+02 1.65e+01 2.52e+03  -0.9 1.03e+02    -  1.85e-01 1.20e-01f  1\n",
      "iter    objective    inf_pr   inf_du lg(mu)  ||d||  lg(rg) alpha_du alpha_pr  ls\n",
      "  50r-2.9502436e+02 1.65e+01 1.79e+03  -0.9 9.41e+01    -  1.11e-01 1.97e-01f  1\n",
      "  51r-2.9394680e+02 1.65e+01 5.26e+02  -0.9 1.14e+02    -  9.96e-02 3.55e-01f  1\n",
      "  52r-2.9315797e+02 1.65e+01 1.54e+03  -0.9 1.10e+02    -  1.75e-01 2.67e-01f  1\n",
      "  53r-2.9315008e+02 1.65e+01 1.40e+03  -1.6 2.44e+01    -  9.53e-02 8.38e-02f  1\n",
      "  54r-2.9315551e+02 1.65e+01 8.48e+02  -1.6 2.22e+00   0.0 5.16e-01 3.82e-01f  1\n",
      "  55r-2.9315459e+02 1.65e+01 6.05e+02  -1.6 1.53e+00   0.4 2.99e-02 4.25e-01f  1\n",
      "  56r-2.9315391e+02 1.65e+01 9.25e+02  -1.6 1.43e+00   0.9 2.29e-01 3.97e-01f  1\n",
      "  57r-2.9315337e+02 1.65e+01 9.84e+02  -1.6 6.50e-01   2.2 2.59e-01 4.58e-01f  1\n",
      "  58r-2.9315334e+02 1.65e+01 3.81e+03  -1.6 2.09e-01   1.7 9.90e-01 4.72e-02f  1\n",
      "  59r-2.9315273e+02 1.65e+01 7.71e+02  -1.6 4.18e-01   1.2 6.89e-01 8.51e-01f  1\n",
      "iter    objective    inf_pr   inf_du lg(mu)  ||d||  lg(rg) alpha_du alpha_pr  ls\n",
      "  60r-2.9315269e+02 1.65e+01 9.54e+02  -1.6 1.10e+00   0.7 1.00e+00 3.56e-01f  1\n",
      "  61r-2.9315268e+02 1.65e+01 1.04e+03  -1.6 2.97e+00   0.3 2.08e-01 1.00e+00f  1\n",
      "  62r-2.9315274e+02 1.65e+01 5.42e+02  -1.6 8.34e+00  -0.2 6.91e-01 4.89e-01f  1\n",
      "  63r-2.9315274e+02 1.64e+01 2.57e+02  -1.6 3.47e+01  -0.7 3.53e-01 5.26e-01f  1\n",
      "  64r-2.9315252e+02 1.64e+01 3.56e+02  -1.6 2.10e+01  -0.3 4.95e-02 1.70e-01f  1\n",
      "  65r-2.9315235e+02 1.64e+01 2.46e+02  -1.6 6.67e+00   0.2 5.05e-01 5.73e-01f  1\n",
      "  66r-2.9315200e+02 1.64e+01 2.74e+02  -1.6 2.75e+00   0.6 1.00e+00 7.32e-01f  1\n",
      "  67r-2.9315200e+02 1.64e+01 3.61e+02  -1.6 1.10e+00   1.0 1.00e+00 4.13e-01f  1\n",
      "  68r-2.9315200e+02 1.64e+01 3.12e+03  -1.6 4.39e+01    -  6.06e-01 1.98e-03f  1\n",
      "  69r-2.9315201e+02 1.64e+01 2.41e+03  -1.6 3.61e+01    -  1.15e-01 2.06e-01f  1\n",
      "iter    objective    inf_pr   inf_du lg(mu)  ||d||  lg(rg) alpha_du alpha_pr  ls\n",
      "  70r-2.9315201e+02 1.64e+01 2.39e+03  -1.6 2.87e+01    -  2.84e-02 1.26e-02f  1\n",
      "  71r-2.9315202e+02 1.64e+01 1.19e+03  -1.6 3.64e+01    -  7.05e-03 3.93e-01f  1\n",
      "  72r-2.9315202e+02 1.64e+01 8.05e+02  -1.6 9.11e-01   0.5 1.00e+00 1.09e-01h  1\n",
      "  73r-2.9315200e+02 1.64e+01 5.20e+02  -1.6 2.65e+00   0.1 1.00e+00 4.72e-01f  1\n",
      "  74r-2.9315197e+02 1.64e+01 3.25e+00  -1.6 8.22e+00  -0.4 1.00e+00 1.00e+00f  1\n",
      "  75r-2.9315099e+02 1.64e+01 1.66e+02  -2.4 2.74e+01  -0.9 4.27e-01 6.18e-01f  1\n",
      "  76r-2.9315102e+02 1.64e+01 8.11e+02  -2.4 4.13e+02  -1.4 3.37e-03 6.49e-02f  1\n",
      "  77r-2.9315102e+02 1.64e+01 8.55e+02  -2.4 2.65e+02  -0.9 1.00e-02 2.34e-04f  1\n",
      "  78r-2.9315093e+02 1.63e+01 9.44e+02  -2.4 3.73e+01  -1.4 4.19e-01 1.19e-01f  1\n",
      "  79r-2.9315086e+02 1.63e+01 7.68e+02  -2.4 2.96e+02  -1.9 3.58e-04 1.50e-01f  1\n",
      "iter    objective    inf_pr   inf_du lg(mu)  ||d||  lg(rg) alpha_du alpha_pr  ls\n",
      "  80r-2.9315086e+02 1.63e+01 9.23e+02  -2.4 1.67e+03    -  4.27e-02 1.44e-02f  1\n",
      "  81r-2.9315086e+02 1.63e+01 1.10e+03  -2.4 7.72e+01    -  8.07e-01 1.46e-03f  1\n",
      "  82r-2.9315079e+02 1.62e+01 1.29e+03  -2.4 3.95e+01    -  9.64e-01 1.27e-01f  1\n",
      "  83r-2.9315078e+02 1.62e+01 1.54e+03  -2.4 1.40e+01    -  3.55e-01 2.75e-03f  1\n",
      "  84r-2.9315058e+02 1.62e+01 9.80e+02  -2.4 1.40e+01    -  1.86e-01 3.08e-01f  1\n",
      "  85r-2.9315034e+02 1.61e+01 5.31e+02  -2.4 9.69e+00    -  7.24e-02 5.96e-01f  1\n",
      "  86r-2.9315027e+02 1.60e+01 3.13e+02  -2.4 1.90e+01    -  5.32e-03 1.00e+00f  1\n",
      "  87r-2.9315027e+02 1.60e+01 2.70e+02  -2.4 8.20e+00    -  7.06e-01 2.72e-01h  1\n",
      "  88r-2.9315028e+02 1.60e+01 2.55e+02  -2.4 6.10e+00    -  6.74e-02 4.45e-01h  1\n",
      "  89r-2.9315029e+02 1.60e+01 7.18e-01  -2.4 9.19e-01    -  1.00e+00 1.00e+00h  1\n",
      "iter    objective    inf_pr   inf_du lg(mu)  ||d||  lg(rg) alpha_du alpha_pr  ls\n",
      "  90r-2.9315006e+02 1.60e+01 1.04e+01  -3.6 1.05e+00    -  8.58e-01 8.44e-01f  1\n",
      "  91r-2.9315005e+02 1.58e+01 3.07e+02  -3.6 1.01e+02    -  2.32e-01 9.19e-02f  1\n",
      "  92r-2.9315004e+02 1.56e+01 5.27e+02  -3.6 9.17e+01    -  2.76e-01 1.27e-01f  1\n",
      "  93r-2.9315004e+02 1.56e+01 9.97e+02  -3.6 6.48e+01    -  2.59e-02 5.08e-05f  1\n",
      "  94r-2.9315003e+02 1.51e+01 5.86e+02  -3.6 7.84e+01    -  8.84e-05 3.79e-01f  1\n",
      "  95r-2.9315003e+02 1.51e+01 5.86e+02  -3.6 4.92e+01    -  1.58e-02 1.69e-04f  1\n",
      "  96r-2.9315003e+02 1.51e+01 2.92e+03  -3.6 8.38e+01    -  2.87e-03 2.75e-02f  1\n",
      "  97r-2.9315003e+02 1.51e+01 2.35e+03  -3.6 4.36e+00    -  5.70e-03 5.39e-04f  1\n",
      "  98r-2.9315001e+02 1.46e+01 1.73e+03  -3.6 4.94e+01    -  5.84e-04 6.28e-01f  1\n",
      "  99r-2.9315001e+02 1.46e+01 9.99e+02   1.2 0.00e+00    -  0.00e+00 1.04e-08R  2\n",
      "iter    objective    inf_pr   inf_du lg(mu)  ||d||  lg(rg) alpha_du alpha_pr  ls\n",
      " 100r-2.9315002e+02 1.46e+01 9.99e+02   1.2 2.02e+05    -  2.93e-07 2.57e-07f  1\n",
      " 101r-2.9315003e+02 1.46e+01 9.99e+02   1.2 5.26e+04    -  1.51e-06 6.82e-07f  1\n",
      " 102r-2.9315008e+02 1.46e+01 9.99e+02   1.2 3.24e+04    -  6.57e-06 3.71e-06f  1\n",
      " 103r-2.9315033e+02 1.46e+01 9.99e+02   1.2 1.57e+04    -  1.02e-04 1.69e-05f  1\n",
      " 104r-2.9315364e+02 1.46e+01 9.98e+02   0.5 9.08e+02    -  1.55e-03 1.10e-03f  1\n",
      " 105r-2.9316624e+02 1.46e+01 9.94e+02   0.5 7.52e+02    -  3.08e-02 4.19e-03f  1\n",
      " 106r-2.9315761e+02 1.45e+01 9.59e+02  -0.9 9.01e+01    -  3.86e-01 3.47e-02f  1\n",
      " 107r-2.9315493e+02 1.20e+01 6.39e+02  -0.9 4.39e+02    -  4.41e-02 3.34e-01f  1\n",
      " 108 -2.9315526e+02 1.19e+01 9.46e+02  -1.0 7.41e+02    -  5.51e-04 3.11e-03f  1\n",
      " 109 -2.9317146e+02 1.05e+01 3.78e+04  -1.0 8.71e+02    -  1.76e-02 1.17e-01f  1\n",
      "iter    objective    inf_pr   inf_du lg(mu)  ||d||  lg(rg) alpha_du alpha_pr  ls\n",
      " 110 -2.9338930e+02 1.61e-01 6.26e+05  -1.0 6.04e+02    -  1.26e-01 9.90e-01h  1\n",
      " 111 -2.9425597e+02 8.63e-02 4.84e+06  -1.0 3.24e+01    -  3.49e-01 9.91e-01h  1\n",
      " 112 -2.9555220e+02 6.67e-03 6.22e+05  -1.0 4.95e+01    -  8.87e-01 9.92e-01H  1\n",
      " 113 -3.0080107e+02 4.83e-02 5.33e+06  -1.0 2.23e+02    -  3.73e-01 1.00e+00F  1\n",
      " 114 -3.0138243e+02 8.43e-02 6.05e+06  -1.0 1.77e+02    -  9.23e-01 1.28e-01f  3\n",
      " 115 -3.0181991e+02 1.02e-01 6.20e+06  -1.0 2.36e+02    -  9.53e-01 7.23e-02f  3\n",
      " 116 -3.0214910e+02 1.00e-01 5.28e+06  -1.0 8.34e+01    -  1.00e+00 1.55e-01f  3\n",
      " 117 -3.0313999e+02 1.16e-02 3.16e+05  -1.0 4.12e+01    -  1.00e+00 9.49e-01F  1\n",
      " 118 -3.0309911e+02 2.98e-04 2.72e+02  -1.0 1.60e+00    -  1.00e+00 1.00e+00f  1\n",
      " 119 -3.0312383e+02 1.06e-04 4.46e+04  -3.8 9.74e-01    -  9.96e-01 1.00e+00h  1\n",
      "iter    objective    inf_pr   inf_du lg(mu)  ||d||  lg(rg) alpha_du alpha_pr  ls\n",
      " 120 -3.0314986e+02 1.22e-04 1.14e+00  -3.8 1.03e+00    -  1.00e+00 1.00e+00f  1\n",
      " 121 -3.0314985e+02 5.24e-11 3.57e-07  -3.8 1.20e-04    -  1.00e+00 1.00e+00h  1\n",
      " 122 -3.0315000e+02 4.14e-09 2.81e-01  -8.6 5.91e-03    -  1.00e+00 1.00e+00f  1\n",
      " 123 -3.0315000e+02 5.00e-11 9.44e-11  -8.6 9.24e-06    -  1.00e+00 1.00e+00h  1\n"
     ]
    },
    {
     "name": "stdout",
     "output_type": "stream",
     "text": [
      "\n",
      "Number of Iterations....: 123\n",
      "\n",
      "                                   (scaled)                 (unscaled)\n",
      "Objective...............:  -3.0315000302899409e+02   -3.0315000302899409e+02\n",
      "Dual infeasibility......:   9.4418806106943975e-11    9.4418806106943975e-11\n",
      "Constraint violation....:   4.9976037414314889e-11    4.9976037414314889e-11\n",
      "Complementarity.........:   2.5059047139809613e-09    2.5059047139809613e-09\n",
      "Overall NLP error.......:   2.5059047139809613e-09    2.5059047139809613e-09\n",
      "\n",
      "\n",
      "Number of objective function evaluations             = 183\n",
      "Number of objective gradient evaluations             = 43\n",
      "Number of equality constraint evaluations            = 183\n",
      "Number of inequality constraint evaluations          = 0\n",
      "Number of equality constraint Jacobian evaluations   = 134\n",
      "Number of inequality constraint Jacobian evaluations = 0\n",
      "Number of Lagrangian Hessian evaluations             = 123\n",
      "Total CPU secs in IPOPT (w/o function evaluations)   =      1.197\n",
      "Total CPU secs in NLP function evaluations           =      0.077\n",
      "\n",
      "EXIT: Optimal Solution Found.\n"
     ]
    }
   ],
   "source": [
    "opt = pe.SolverFactory('ipopt')\n",
    "\n",
    "opt.options['print_user_options'] = 'yes'\n",
    "opt.options['linear_solver'] = 'ma86'\n",
    "# opt.options['nlp_scaling_method'] = None\n",
    "# opt.options['bound_relax_factor'] = 0\n",
    "\n",
    "opt.options['halt_on_ampl_error'] = 'yes'\n",
    "opt.options['max_iter'] = 7000\n",
    "results = opt.solve(model,tee=True)\n",
    "update_dual(pe,model)"
   ]
  },
  {
   "cell_type": "code",
   "execution_count": 20,
   "metadata": {
    "scrolled": true,
    "slideshow": {
     "slide_type": "skip"
    }
   },
   "outputs": [
    {
     "data": {
      "text/plain": [
       "-11.949301161375441"
      ]
     },
     "execution_count": 20,
     "metadata": {},
     "output_type": "execute_result"
    }
   ],
   "source": [
    "model.Q_main.value"
   ]
  },
  {
   "cell_type": "code",
   "execution_count": 21,
   "metadata": {
    "scrolled": true,
    "slideshow": {
     "slide_type": "skip"
    }
   },
   "outputs": [
    {
     "data": {
      "text/plain": [
       "303.15"
      ]
     },
     "execution_count": 21,
     "metadata": {},
     "output_type": "execute_result"
    }
   ],
   "source": [
    "model.T.value"
   ]
  },
  {
   "cell_type": "code",
   "execution_count": 22,
   "metadata": {},
   "outputs": [],
   "source": [
    "# model.solutions.store_to(results)\n",
    "# with open('../saved_solutions/condenser_MPCC_P_pf_30C.pickle','wb') as f1:\n",
    "#     pickle.dump(results,f1)"
   ]
  },
  {
   "cell_type": "code",
   "execution_count": 23,
   "metadata": {
    "scrolled": false,
    "slideshow": {
     "slide_type": "slide"
    }
   },
   "outputs": [
    {
     "name": "stdout",
     "output_type": "stream",
     "text": [
      "Component\t\tLiquid: 0.0086\t\t\tVapor: 0.8693\t\t\tlog K\n",
      "------------------------------------------------------------------------------------------------------------\n",
      "H2         \t\t 0.3830%\t\t\t29.0921%\t\t\t1.8805\n",
      "CO         \t\t 0.9322%\t\t\t32.9988%\t\t\t1.5490\n",
      "CO2        \t\t 7.1077%\t\t\t36.5819%\t\t\t0.7115\n",
      "H2O        \t\t 0.0001%\t\t\t 0.2233%\t\t\t3.6256\n",
      "C2H4       \t\t 0.0420%\t\t\t 0.1346%\t\t\t0.5054\n",
      "C3H6       \t\t 0.2557%\t\t\t 0.1529%\t\t\t-0.2233\n",
      "C4H8       \t\t 0.7110%\t\t\t 0.1315%\t\t\t-0.7330\n",
      "C5H10      \t\t 1.6751%\t\t\t 0.0905%\t\t\t-1.2674\n",
      "C6H12      \t\t 3.7739%\t\t\t 0.0622%\t\t\t-1.7830\n",
      "C7H14      \t\t 6.1061%\t\t\t 0.0316%\t\t\t-2.2866\n",
      "C8H16      \t\t 7.2897%\t\t\t 0.0120%\t\t\t-2.7821\n",
      "C9H18      \t\t 7.2806%\t\t\t 0.0039%\t\t\t-3.2716\n",
      "C10H20     \t\t 6.6672%\t\t\t 0.0012%\t\t\t-3.7565\n",
      "C11H22     \t\t 3.6980%\t\t\t 0.0002%\t\t\t-4.2378\n",
      "C12H24     \t\t 3.0845%\t\t\t 0.0001%\t\t\t-4.7163\n",
      "C13H26     \t\t 2.4624%\t\t\t 0.0000%\t\t\t-5.1924\n",
      "C14H28     \t\t 1.8782%\t\t\t 0.0000%\t\t\t-5.6666\n",
      "C15H30     \t\t 1.3704%\t\t\t 0.0000%\t\t\t-6.1391\n",
      "C16H32     \t\t 0.9610%\t\t\t 0.0000%\t\t\t-6.6103\n",
      "C17H34     \t\t 0.6523%\t\t\t 0.0000%\t\t\t-7.0802\n",
      "C18H36     \t\t 0.4318%\t\t\t 0.0000%\t\t\t-7.5491\n",
      "C19H38     \t\t 0.2809%\t\t\t 0.0000%\t\t\t-8.0171\n",
      "C20H40     \t\t 0.1805%\t\t\t 0.0000%\t\t\t-8.4842\n",
      "C1H4       \t\t 0.0187%\t\t\t 0.2212%\t\t\t1.0737\n",
      "C2H6       \t\t 0.0389%\t\t\t 0.0722%\t\t\t0.2689\n",
      "C3H8       \t\t 0.0666%\t\t\t 0.0382%\t\t\t-0.2412\n",
      "C4H10      \t\t 0.2701%\t\t\t 0.0410%\t\t\t-0.8188\n",
      "C5H12      \t\t 1.1521%\t\t\t 0.0515%\t\t\t-1.3496\n",
      "C6H14      \t\t 2.4758%\t\t\t 0.0339%\t\t\t-1.8630\n",
      "C7H16      \t\t 3.7954%\t\t\t 0.0164%\t\t\t-2.3652\n",
      "C8H18      \t\t 4.3677%\t\t\t 0.0060%\t\t\t-2.8596\n",
      "C9H20      \t\t 4.2838%\t\t\t 0.0019%\t\t\t-3.3483\n",
      "C10H22     \t\t 3.8859%\t\t\t 0.0006%\t\t\t-3.8326\n",
      "C11H24     \t\t 5.4304%\t\t\t 0.0003%\t\t\t-4.3134\n",
      "C12H26     \t\t 4.4980%\t\t\t 0.0001%\t\t\t-4.7915\n",
      "C13H28     \t\t 3.5644%\t\t\t 0.0000%\t\t\t-5.2673\n",
      "C14H30     \t\t 2.6986%\t\t\t 0.0000%\t\t\t-5.7412\n",
      "C15H32     \t\t 1.9554%\t\t\t 0.0000%\t\t\t-6.2135\n",
      "C16H34     \t\t 1.3632%\t\t\t 0.0000%\t\t\t-6.6844\n",
      "C17H36     \t\t 0.9210%\t\t\t 0.0000%\t\t\t-7.1542\n",
      "C18H38     \t\t 0.6077%\t\t\t 0.0000%\t\t\t-7.6229\n",
      "C19H40     \t\t 0.3943%\t\t\t 0.0000%\t\t\t-8.0908\n",
      "C20H42     \t\t 0.2530%\t\t\t 0.0000%\t\t\t-8.5578\n",
      "C21H44     \t\t 0.2693%\t\t\t 0.0000%\t\t\t-9.0242\n",
      "C22H46     \t\t 0.1709%\t\t\t 0.0000%\t\t\t-9.4899\n",
      "C23H48     \t\t 0.1082%\t\t\t 0.0000%\t\t\t-9.9550\n",
      "C24H50     \t\t 0.0684%\t\t\t 0.0000%\t\t\t-10.4197\n",
      "C25H52     \t\t 0.0433%\t\t\t 0.0000%\t\t\t-10.8839\n",
      "C26H54     \t\t 0.0274%\t\t\t 0.0000%\t\t\t-11.3477\n",
      "C27H56     \t\t 0.0174%\t\t\t 0.0000%\t\t\t-11.8111\n",
      "C28H58     \t\t 0.0110%\t\t\t 0.0000%\t\t\t-12.2741\n",
      "C29H60     \t\t 0.0070%\t\t\t 0.0000%\t\t\t-12.7369\n",
      "C30H62     \t\t 0.0044%\t\t\t 0.0000%\t\t\t-13.1993\n",
      "C31H64     \t\t 0.0028%\t\t\t 0.0000%\t\t\t-13.6615\n",
      "C32H66     \t\t 0.0018%\t\t\t 0.0000%\t\t\t-14.1235\n",
      "C33H68     \t\t 0.0011%\t\t\t 0.0000%\t\t\t-14.5852\n",
      "C34H70     \t\t 0.0007%\t\t\t 0.0000%\t\t\t-15.0467\n",
      "C35H72     \t\t 0.0005%\t\t\t 0.0000%\t\t\t-15.5080\n",
      "C36H74     \t\t 0.0003%\t\t\t 0.0000%\t\t\t-15.9692\n",
      "C37H76     \t\t 0.0002%\t\t\t 0.0000%\t\t\t-16.4301\n",
      "C38H78     \t\t 0.0001%\t\t\t 0.0000%\t\t\t-16.8909\n",
      "C39H80     \t\t 0.0001%\t\t\t 0.0000%\t\t\t-17.3516\n",
      "C40H82     \t\t 0.0000%\t\t\t 0.0000%\t\t\t-17.8121\n",
      "C41H84     \t\t 0.0000%\t\t\t 0.0000%\t\t\t-18.2725\n",
      "C42H86     \t\t 0.0000%\t\t\t 0.0000%\t\t\t-18.7328\n",
      "C43H88     \t\t 0.0000%\t\t\t 0.0000%\t\t\t-19.1929\n",
      "C44H90     \t\t 0.0000%\t\t\t 0.0000%\t\t\t-19.6530\n",
      "C45H92     \t\t 0.0000%\t\t\t 0.0000%\t\t\t-20.1129\n",
      "C46H94     \t\t 0.0000%\t\t\t 0.0000%\t\t\t-20.5728\n",
      "C47H96     \t\t 0.0000%\t\t\t 0.0000%\t\t\t-21.0326\n",
      "C48H98     \t\t 0.0000%\t\t\t 0.0000%\t\t\t-21.4922\n",
      "C49H100    \t\t 0.0000%\t\t\t 0.0000%\t\t\t-21.9518\n",
      "C50H102    \t\t 0.0000%\t\t\t 0.0000%\t\t\t-22.4114\n",
      "C51H104    \t\t 0.0000%\t\t\t 0.0000%\t\t\t-22.8708\n",
      "C52H106    \t\t 0.0000%\t\t\t 0.0000%\t\t\t-23.3302\n",
      "C53H108    \t\t 0.0000%\t\t\t 0.0000%\t\t\t-23.7895\n",
      "C54H110    \t\t 0.0000%\t\t\t 0.0000%\t\t\t-24.2488\n",
      "C55H112    \t\t 0.0000%\t\t\t 0.0000%\t\t\t-24.7080\n",
      "C56H114    \t\t 0.0000%\t\t\t 0.0000%\t\t\t-25.1671\n"
     ]
    }
   ],
   "source": [
    "print('Component\\t\\tLiquid: {:.4f}\\t\\t\\tVapor: {:.4f}\\t\\t\\tlog K'.format(model.L['P'].value,model.V['P'].value))\n",
    "print('-'*108)\n",
    "for i in model.x:\n",
    "    print('{:10s}'.format(i),'\\t\\t{:8.4%}\\t\\t\\t{:8.4%}\\t\\t\\t{:.4f}'.format(model.x[i].value,model.y[i].value,np.log10(model.y[i].value/model.x[i].value)))"
   ]
  },
  {
   "cell_type": "markdown",
   "metadata": {
    "slideshow": {
     "slide_type": "slide"
    }
   },
   "source": [
    "# Iterative Solve for Data Analysis"
   ]
  },
  {
   "cell_type": "code",
   "execution_count": 24,
   "metadata": {},
   "outputs": [],
   "source": [
    "opt.options['warm_start_init_point'] = 'yes'\n",
    "opt.options['warm_start_bound_push'] = 1e-20\n",
    "opt.options['warm_start_mult_bound_push'] = 1e-20\n",
    "opt.options['mu_init'] = 1e-6"
   ]
  },
  {
   "cell_type": "code",
   "execution_count": 25,
   "metadata": {
    "scrolled": false,
    "slideshow": {
     "slide_type": "fragment"
    }
   },
   "outputs": [
    {
     "name": "stdout",
     "output_type": "stream",
     "text": [
      "Solved, Solution T = 313.15 K\n",
      "Solved, Solution T = 311.15 K\n",
      "Solved, Solution T = 309.15 K\n",
      "Solved, Solution T = 307.15 K\n",
      "Solved, Solution T = 305.15 K\n",
      "Solved, Solution T = 303.15 K\n",
      "Solved, Solution T = 301.15 K\n",
      "Solved, Solution T = 299.15 K\n",
      "Solved, Solution T = 297.15 K\n",
      "Solved, Solution T = 295.15 K\n",
      "Solved, Solution T = 293.15 K\n"
     ]
    }
   ],
   "source": [
    "cd_data = {}\n",
    "cd_data['x'] = {}; cd_data['T'] = []; cd_data['Q'] = []; cd_data['V'] = []; cd_data['L'] = []; \n",
    "\n",
    "for i in m.COMP_TOTAL:\n",
    "    cd_data['x'][i] = []\n",
    "    \n",
    "Trange = np.arange(40+273.15,19+273.15,-2)\n",
    "\n",
    "for Tub in Trange:\n",
    "    model.T.setub(Tub)\n",
    "    results = opt.solve(model,tee=False)\n",
    "    update_dual(pe,model)\n",
    "    # print('-'*72)\n",
    "    print('Solved, Solution T = {} K'.format(model.T.value))\n",
    "    # print('-'*72)\n",
    "    cd_data['T'].append(model.T.value)\n",
    "    cd_data['Q'].append(model.Q_main.value)\n",
    "    cd_data['V'].append(model.V['out'].value)\n",
    "    cd_data['L'].append(model.L['out'].value)    \n",
    "\n",
    "    for i in m.COMP_TOTAL:\n",
    "        cd_data['x'][i].append(model.x[i].value*model.L['out'].value)"
   ]
  },
  {
   "cell_type": "markdown",
   "metadata": {
    "slideshow": {
     "slide_type": "slide"
    }
   },
   "source": [
    "## Some Observations\n",
    "\n",
    "* This system has multiple solution under same Q.\n",
    "* The reaction rate peaks at ~530K, due to decreasing $\\alpha$, increasing light component, uses up more feed.\n",
    "* Note that when 'fully' utilizing catalyst, the system seems to always require cooling."
   ]
  },
  {
   "cell_type": "code",
   "execution_count": 26,
   "metadata": {
    "slideshow": {
     "slide_type": "fragment"
    }
   },
   "outputs": [
    {
     "data": {
      "image/png": "[encoded data removed]",
      "text/plain": [
       "<Figure size 1152x648 with 2 Axes>"
      ]
     },
     "metadata": {},
     "output_type": "display_data"
    }
   ],
   "source": [
    "fig, ax1 = plt.subplots(figsize=(16,9))\n",
    "line1 = ax1.plot(cd_data['T'],cd_data['Q'], 'b-')\n",
    "ax1.set_xlabel('Temperature (k)', color='K',fontsize=18)\n",
    "ax1.set_ylabel('Q (MW)', color='b',fontsize=18)\n",
    "ax1.tick_params('y', colors='b',labelsize=18)\n",
    "ax1.tick_params('x', colors='k',labelsize=18)\n",
    "ax1.grid()\n",
    "\n",
    "ax2 = ax1.twinx()\n",
    "line2 = ax2.plot(cd_data['T'],cd_data['L'], 'r')\n",
    "line3 = ax2.plot(cd_data['T'],cd_data['V'], 'r--')\n",
    "ax2.set_ylabel('Flow Rate: (kmol/s)', color='r',fontsize=18)\n",
    "ax2.tick_params('y', colors='r',labelsize=18)\n",
    "\n",
    "ax1.legend(line1+line2+line3,['Q','L','V'],fontsize=18,loc=5)\n",
    "ax1.set_title('Heat Removal Rate and Flow Rate vs T',fontsize=18)\n",
    "plt.show()"
   ]
  },
  {
   "cell_type": "markdown",
   "metadata": {
    "slideshow": {
     "slide_type": "subslide"
    }
   },
   "source": [
    "## Product Distribution (mole)"
   ]
  },
  {
   "cell_type": "code",
   "execution_count": 27,
   "metadata": {
    "slideshow": {
     "slide_type": "fragment"
    }
   },
   "outputs": [
    {
     "name": "stderr",
     "output_type": "stream",
     "text": [
      "/Users/steven/Documents/GitHub/FT-Reactive-Distillation-Pyomo/utility/display_utility.py:74: RuntimeWarning: divide by zero encountered in true_divide\n",
      "  scale_factor = 1/sum(dataset_scaled[i] for i in dataset_scaled.keys())\n",
      "/Users/steven/Documents/GitHub/FT-Reactive-Distillation-Pyomo/utility/display_utility.py:76: RuntimeWarning: invalid value encountered in multiply\n",
      "  dataset_scaled[i] = dataset_scaled[i]*scale_factor\n"
     ]
    }
   ],
   "source": [
    "reaction_data = trans_product_mole(cd_data['x'])['unscaled']\n",
    "reaction_data_scaled = trans_product_mole(cd_data['x'])['scaled']"
   ]
  },
  {
   "cell_type": "code",
   "execution_count": 28,
   "metadata": {
    "slideshow": {
     "slide_type": "fragment"
    }
   },
   "outputs": [
    {
     "ename": "KeyError",
     "evalue": "'c1'",
     "output_type": "error",
     "traceback": [
      "\u001b[0;31m---------------------------------------------------------------------------\u001b[0m",
      "\u001b[0;31mKeyError\u001b[0m                                  Traceback (most recent call last)",
      "\u001b[0;32m<ipython-input-28-cc429ca43802>\u001b[0m in \u001b[0;36m<module>\u001b[0;34m()\u001b[0m\n\u001b[1;32m      1\u001b[0m \u001b[0mfig\u001b[0m\u001b[0;34m,\u001b[0m \u001b[0max\u001b[0m \u001b[0;34m=\u001b[0m \u001b[0mplt\u001b[0m\u001b[0;34m.\u001b[0m\u001b[0msubplots\u001b[0m\u001b[0;34m(\u001b[0m\u001b[0mfigsize\u001b[0m\u001b[0;34m=\u001b[0m\u001b[0;34m(\u001b[0m\u001b[0;36m16\u001b[0m\u001b[0;34m,\u001b[0m\u001b[0;36m9\u001b[0m\u001b[0;34m)\u001b[0m\u001b[0;34m)\u001b[0m\u001b[0;34m\u001b[0m\u001b[0m\n\u001b[0;32m----> 2\u001b[0;31m \u001b[0max\u001b[0m\u001b[0;34m.\u001b[0m\u001b[0mstackplot\u001b[0m\u001b[0;34m(\u001b[0m\u001b[0mcd_data\u001b[0m\u001b[0;34m[\u001b[0m\u001b[0;34m'T'\u001b[0m\u001b[0;34m]\u001b[0m\u001b[0;34m,\u001b[0m \u001b[0mreaction_data_scaled\u001b[0m\u001b[0;34m[\u001b[0m\u001b[0;34m'c1'\u001b[0m\u001b[0;34m]\u001b[0m\u001b[0;34m,\u001b[0m \u001b[0mreaction_data_scaled\u001b[0m\u001b[0;34m[\u001b[0m\u001b[0;34m'c2'\u001b[0m\u001b[0;34m]\u001b[0m\u001b[0;34m,\u001b[0m\u001b[0mreaction_data_scaled\u001b[0m\u001b[0;34m[\u001b[0m\u001b[0;34m'c3'\u001b[0m\u001b[0;34m]\u001b[0m\u001b[0;34m,\u001b[0m\u001b[0mreaction_data_scaled\u001b[0m\u001b[0;34m[\u001b[0m\u001b[0;34m'c4'\u001b[0m\u001b[0;34m]\u001b[0m\u001b[0;34m,\u001b[0m            \u001b[0mreaction_data_scaled\u001b[0m\u001b[0;34m[\u001b[0m\u001b[0;34m'napha'\u001b[0m\u001b[0;34m]\u001b[0m\u001b[0;34m,\u001b[0m\u001b[0mreaction_data_scaled\u001b[0m\u001b[0;34m[\u001b[0m\u001b[0;34m'gasoline'\u001b[0m\u001b[0;34m]\u001b[0m\u001b[0;34m,\u001b[0m\u001b[0mreaction_data_scaled\u001b[0m\u001b[0;34m[\u001b[0m\u001b[0;34m'diesel'\u001b[0m\u001b[0;34m]\u001b[0m\u001b[0;34m,\u001b[0m\u001b[0mreaction_data_scaled\u001b[0m\u001b[0;34m[\u001b[0m\u001b[0;34m'heavy'\u001b[0m\u001b[0;34m]\u001b[0m\u001b[0;34m)\u001b[0m\u001b[0;34m\u001b[0m\u001b[0m\n\u001b[0m\u001b[1;32m      3\u001b[0m \u001b[0mplt\u001b[0m\u001b[0;34m.\u001b[0m\u001b[0mlegend\u001b[0m\u001b[0;34m(\u001b[0m\u001b[0;34m[\u001b[0m\u001b[0;34m'C1'\u001b[0m\u001b[0;34m,\u001b[0m\u001b[0;34m'C2'\u001b[0m\u001b[0;34m,\u001b[0m\u001b[0;34m'C3'\u001b[0m\u001b[0;34m,\u001b[0m\u001b[0;34m'C4'\u001b[0m\u001b[0;34m,\u001b[0m\u001b[0;34m'Napha'\u001b[0m\u001b[0;34m,\u001b[0m\u001b[0;34m'gasoline'\u001b[0m\u001b[0;34m,\u001b[0m\u001b[0;34m'diesel'\u001b[0m\u001b[0;34m,\u001b[0m\u001b[0;34m'heavy'\u001b[0m\u001b[0;34m]\u001b[0m\u001b[0;34m)\u001b[0m\u001b[0;34m\u001b[0m\u001b[0m\n\u001b[1;32m      4\u001b[0m \u001b[0max\u001b[0m\u001b[0;34m.\u001b[0m\u001b[0mset_title\u001b[0m\u001b[0;34m(\u001b[0m\u001b[0;34m'Product Composition (Mole) vs T'\u001b[0m\u001b[0;34m,\u001b[0m\u001b[0mfontsize\u001b[0m\u001b[0;34m=\u001b[0m\u001b[0;36m18\u001b[0m\u001b[0;34m)\u001b[0m\u001b[0;34m\u001b[0m\u001b[0m\n\u001b[1;32m      5\u001b[0m \u001b[0max\u001b[0m\u001b[0;34m.\u001b[0m\u001b[0mset_ylabel\u001b[0m\u001b[0;34m(\u001b[0m\u001b[0;34m'Mole Fraction (%)'\u001b[0m\u001b[0;34m,\u001b[0m \u001b[0mcolor\u001b[0m\u001b[0;34m=\u001b[0m\u001b[0;34m'K'\u001b[0m\u001b[0;34m,\u001b[0m\u001b[0mfontsize\u001b[0m\u001b[0;34m=\u001b[0m\u001b[0;36m18\u001b[0m\u001b[0;34m)\u001b[0m\u001b[0;34m\u001b[0m\u001b[0m\n",
      "\u001b[0;31mKeyError\u001b[0m: 'c1'"
     ]
    },
    {
     "data": {
      "image/png": "[encoded data removed]",
      "text/plain": [
       "<Figure size 1152x648 with 1 Axes>"
      ]
     },
     "metadata": {},
     "output_type": "display_data"
    }
   ],
   "source": [
    "fig, ax = plt.subplots(figsize=(16,9))\n",
    "ax.stackplot(cd_data['T'], reaction_data_scaled['c1'], reaction_data_scaled['c2'],reaction_data_scaled['c3'],reaction_data_scaled['c4'],\\\n",
    "            reaction_data_scaled['napha'],reaction_data_scaled['gasoline'],reaction_data_scaled['diesel'],reaction_data_scaled['heavy'])\n",
    "plt.legend(['C1','C2','C3','C4','Napha','gasoline','diesel','heavy'])\n",
    "ax.set_title('Product Composition (Mole) vs T',fontsize=18)\n",
    "ax.set_ylabel('Mole Fraction (%)', color='K',fontsize=18)\n",
    "ax.set_xlabel('Temperature (k)', color='K',fontsize=18)\n",
    "plt.show()"
   ]
  },
  {
   "cell_type": "code",
   "execution_count": null,
   "metadata": {
    "slideshow": {
     "slide_type": "fragment"
    }
   },
   "outputs": [],
   "source": [
    "fig, ax = plt.subplots(figsize=(16,9))\n",
    "ax.stackplot(cd_data['T'], reaction_data['c1'], reaction_data['c2'],reaction_data['c3'],reaction_data['c4'],\\\n",
    "            reaction_data['napha'],reaction_data['gasoline'],reaction_data['diesel'],reaction_data['heavy'])\n",
    "plt.legend(['C1','C2','C3','C4','Napha','gasoline','diesel','heavy'])\n",
    "ax.set_title('Liquid Rate (Mole) vs T',fontsize=18)\n",
    "ax.set_ylabel('Liquid Rate (kmol/s)', color='K',fontsize=18)\n",
    "ax.set_xlabel('Temperature (k)', color='K',fontsize=18)\n",
    "plt.show()"
   ]
  },
  {
   "cell_type": "markdown",
   "metadata": {
    "slideshow": {
     "slide_type": "subslide"
    }
   },
   "source": [
    "## Product Distribution (mass)"
   ]
  },
  {
   "cell_type": "code",
   "execution_count": null,
   "metadata": {
    "slideshow": {
     "slide_type": "fragment"
    }
   },
   "outputs": [],
   "source": [
    "mass_reaction_data = trans_product_mass(cd_data['x'])['unscaled']\n",
    "mass_reaction_scaled = trans_product_mass(cd_data['x'])['scaled']"
   ]
  },
  {
   "cell_type": "code",
   "execution_count": null,
   "metadata": {
    "slideshow": {
     "slide_type": "fragment"
    }
   },
   "outputs": [],
   "source": [
    "fig, ax = plt.subplots(figsize=(16,9))\n",
    "ax.stackplot(cd_data['T'], mass_reaction_scaled['c1'], mass_reaction_scaled['c2'],mass_reaction_scaled['c3'],mass_reaction_scaled['c4'],\\\n",
    "            mass_reaction_scaled['napha'],mass_reaction_scaled['gasoline'],mass_reaction_scaled['diesel'],mass_reaction_scaled['heavy'])\n",
    "plt.legend(['C1','C2','C3','C4','Napha','gasoline','diesel','heavy'])\n",
    "ax.set_title('Product Composition (Mass) vs T',fontsize=18)\n",
    "ax.set_ylabel('Mass Fraction (%)', color='K',fontsize=18)\n",
    "ax.set_xlabel('Temperature (k)', color='K',fontsize=18)\n",
    "plt.show()"
   ]
  },
  {
   "cell_type": "code",
   "execution_count": null,
   "metadata": {
    "slideshow": {
     "slide_type": "fragment"
    }
   },
   "outputs": [],
   "source": [
    "fig, ax = plt.subplots(figsize=(16,9))\n",
    "ax.stackplot(cd_data['T'], mass_reaction_data['c1'], mass_reaction_data['c2'],mass_reaction_data['c3'],mass_reaction_data['c4'],\\\n",
    "            mass_reaction_data['napha'],mass_reaction_data['gasoline'],mass_reaction_data['diesel'],mass_reaction_data['heavy'])\n",
    "plt.legend(['C1','C2','C3','C4','Napha','gasoline','diesel','heavy'])\n",
    "ax.set_title('Liquid Rate (mass) vs T',fontsize=18)\n",
    "ax.set_ylabel('Liquid Rate (kg/s)', color='K',fontsize=18)\n",
    "ax.set_xlabel('Temperature (k)', color='K',fontsize=18)\n",
    "plt.show()"
   ]
  },
  {
   "cell_type": "code",
   "execution_count": null,
   "metadata": {},
   "outputs": [],
   "source": [
    "# model.solutions.store_to(results)\n",
    "# with open('../saved_solutions/condenser_20C.pickle','wb') as f:\n",
    "#     pickle.dump(results,f)"
   ]
  },
  {
   "cell_type": "code",
   "execution_count": null,
   "metadata": {},
   "outputs": [],
   "source": [
    "print('Component\\t\\tLiquid: {:.4f}\\t\\t\\tVapor: {:.4f}\\t\\t\\tlog K'.format(model.L['out'].value,model.V['out'].value))\n",
    "print('-'*108)\n",
    "for i in model.x:\n",
    "    print('{:10s}'.format(i),'\\t\\t{:8.4%}\\t\\t\\t{:8.4%}\\t\\t\\t{:.4f}'.format(model.x[i].value,model.y[i].value,np.log10(model.y[i].value/model.x[i].value)))"
   ]
  },
  {
   "cell_type": "code",
   "execution_count": null,
   "metadata": {},
   "outputs": [],
   "source": [
    "from utility.data_utility import cal_MW"
   ]
  },
  {
   "cell_type": "code",
   "execution_count": null,
   "metadata": {},
   "outputs": [],
   "source": [
    "liquid_MW = 0\n",
    "for i in m.COMP_TOTAL:\n",
    "    liquid_MW += model.x[i].value*cal_MW(i)"
   ]
  },
  {
   "cell_type": "code",
   "execution_count": null,
   "metadata": {},
   "outputs": [],
   "source": [
    "model.L['out'].value*liquid_MW"
   ]
  },
  {
   "cell_type": "code",
   "execution_count": null,
   "metadata": {},
   "outputs": [],
   "source": [
    "liquid_MW"
   ]
  },
  {
   "cell_type": "code",
   "execution_count": null,
   "metadata": {},
   "outputs": [],
   "source": []
  }
 ],
 "metadata": {
  "kernelspec": {
   "display_name": "Python 3",
   "language": "python",
   "name": "python3"
  },
  "language_info": {
   "codemirror_mode": {
    "name": "ipython",
    "version": 3
   },
   "file_extension": ".py",
   "mimetype": "text/x-python",
   "name": "python",
   "nbconvert_exporter": "python",
   "pygments_lexer": "ipython3",
   "version": "3.6.3"
  }
 },
 "nbformat": 4,
 "nbformat_minor": 2
}
