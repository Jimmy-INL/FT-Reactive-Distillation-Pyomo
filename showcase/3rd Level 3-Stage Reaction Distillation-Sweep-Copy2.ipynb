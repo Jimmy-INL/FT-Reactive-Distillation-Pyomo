{
 "cells": [
  {
   "cell_type": "markdown",
   "metadata": {},
   "source": [
    "# 3rd Level Model Structure: Single Stage Reactive Distillation"
   ]
  },
  {
   "cell_type": "code",
   "execution_count": 1,
   "metadata": {
    "collapsed": true
   },
   "outputs": [],
   "source": [
    "import sys\n",
    "import os\n",
    "import pickle\n",
    "sys.path.append(os.path.abspath('..'))\n",
    "\n",
    "import numpy as np\n",
    "from matplotlib import pyplot as plt\n",
    "import ipywidgets as widgets\n",
    "from copy import deepcopy"
   ]
  },
  {
   "cell_type": "code",
   "execution_count": 2,
   "metadata": {
    "collapsed": true
   },
   "outputs": [],
   "source": [
    "from pyomo import environ as pe\n",
    "from global_sets.component import m\n",
    "\n",
    "from stages.reactive_stage import reactive_stage_rule\n",
    "from stages.condenser_stage import condenser_stage_rule\n",
    "from stages.non_reactive_stage import non_reactive_stage_rule\n",
    "\n",
    "from utility.display_utility import trans_product_mole, trans_product_mass, beautify2\n",
    "from utility.model_utility import add_dual, update_dual, check_DOF\n",
    "from utility.data_utility import cal_cnumber\n",
    "\n",
    "model = pe.ConcreteModel()"
   ]
  },
  {
   "cell_type": "markdown",
   "metadata": {},
   "source": [
    "# Global Set"
   ]
  },
  {
   "cell_type": "code",
   "execution_count": 3,
   "metadata": {
    "collapsed": true
   },
   "outputs": [],
   "source": [
    "model.TRAY = pe.RangeSet(1,1)"
   ]
  },
  {
   "cell_type": "markdown",
   "metadata": {},
   "source": [
    "# Construct Reactive Stages"
   ]
  },
  {
   "cell_type": "code",
   "execution_count": 4,
   "metadata": {},
   "outputs": [
    {
     "name": "stdout",
     "output_type": "stream",
     "text": [
      "> Importing Reactive Stage......\n",
      "> Adding the following local variable:\n",
      "------------------------------------\n",
      "| reactive[1].T_F\n",
      "| reactive[1].P\n",
      "| reactive[1].cat\n",
      "| reactive[1].Q_main\n",
      "| reactive[1].x_\n",
      "| reactive[1].y_\n",
      "| reactive[1].x\n",
      "| reactive[1].y\n",
      "| reactive[1].z\n",
      "| reactive[1].L\n",
      "| reactive[1].V\n",
      "| reactive[1].F\n",
      "| reactive[1].H_L_\n",
      "| reactive[1].H_V_\n",
      "| reactive[1].H_L\n",
      "| reactive[1].H_V\n",
      "| reactive[1].T\n",
      "| reactive[1].H_F\n",
      "| reactive[1].f_V\n",
      "| reactive[1].f_L\n",
      "| reactive[1].r_total_comp\n",
      "------------------------------------\n",
      "\n",
      "> Importing Kinetics Blocks......\n",
      "> Adding the following local variable:\n",
      "--------------------------------------------------\n",
      "| reactive[1].kinetics_block.k_FT\n",
      "| reactive[1].kinetics_block.r_FT_total\n",
      "| reactive[1].kinetics_block.g0_FT\n",
      "| reactive[1].kinetics_block.alpha\n",
      "| reactive[1].kinetics_block.r_FT_cnum\n",
      "| reactive[1].kinetics_block.r_FT_comp\n",
      "| reactive[1].kinetics_block.k_WGS\n",
      "| reactive[1].kinetics_block.Ke_WGS\n",
      "| reactive[1].kinetics_block.r_WGS\n",
      "| reactive[1].kinetics_block.r_WGS_comp\n",
      "--------------------------------------------------\n",
      "\n",
      "> Importing Energy Blocks......\n",
      "> Adding the following local variable:\n",
      "--------------------------------------------------\n",
      "| reactive[1].energy_block.dH_F\n",
      "| reactive[1].energy_block.dH_V\n",
      "| reactive[1].energy_block.dH_L\n",
      "| reactive[1].energy_block.dH_vap\n",
      "--------------------------------------------------\n",
      "\n",
      "> Importing VLE Blocks......\n",
      "> Adding the following local variable:\n",
      "--------------------------------------------------\n",
      "| reactive[1].VLE_block.P_VLE\n",
      "| reactive[1].VLE_block.n_ave\n",
      "| reactive[1].VLE_block.n_ave_cal\n",
      "| reactive[1].VLE_block.Hen\n",
      "| reactive[1].VLE_block.Hen0\n",
      "| reactive[1].VLE_block.gamma\n",
      "| reactive[1].VLE_block.P_sat\n",
      "| reactive[1].VLE_block.P_sat_Y\n",
      "| reactive[1].VLE_block.P_sat_dY_inf\n",
      "| reactive[1].VLE_block.P_sat_dY0\n",
      "| reactive[1].VLE_block.Hen_ref\n",
      "| reactive[1].VLE_block.Hen0_ref\n",
      "| reactive[1].VLE_block.gamma_ref\n",
      "| reactive[1].VLE_block.V_L\n",
      "| reactive[1].VLE_block.V_L_dY_inf\n",
      "| reactive[1].VLE_block.V_L_dY0\n",
      "| reactive[1].VLE_block.poynting\n",
      "--------------------------------------------------\n",
      "\n",
      "> Importing MPCC_P_NCP Blocks......\n",
      "> Adding the following local variable:\n",
      "--------------------------------------------------\n",
      "| reactive[1].MPCC.s_L\n",
      "| reactive[1].MPCC.s_V\n",
      "| reactive[1].MPCC.epi\n",
      "--------------------------------------------------\n",
      "> Adding complementarity constraint, spliting pressure used in VLE\n",
      "\n"
     ]
    }
   ],
   "source": [
    "model.reactive = pe.Block(model.TRAY,rule=reactive_stage_rule)"
   ]
  },
  {
   "cell_type": "markdown",
   "metadata": {
    "collapsed": true
   },
   "source": [
    "# Construct a single condenser"
   ]
  },
  {
   "cell_type": "code",
   "execution_count": 5,
   "metadata": {},
   "outputs": [
    {
     "name": "stdout",
     "output_type": "stream",
     "text": [
      "| Importing Condenser Stage......\n",
      "| Adding the following local variable:\n",
      "------------------------------------\n",
      "| condenser.T\n",
      "| condenser.T_F\n",
      "| condenser.P\n",
      "| condenser.Q_main\n",
      "| condenser.x_\n",
      "| condenser.y_\n",
      "| condenser.x\n",
      "| condenser.y\n",
      "| condenser.z\n",
      "| condenser.L\n",
      "| condenser.W\n",
      "| condenser.V\n",
      "| condenser.F\n",
      "| condenser.H_L_\n",
      "| condenser.H_V_\n",
      "| condenser.H_L\n",
      "| condenser.H_V\n",
      "| condenser.H_F\n",
      "| condenser.f_V\n",
      "| condenser.f_L\n",
      "------------------------------------\n",
      "\n",
      "> Importing Energy Blocks......\n",
      "> Adding the following local variable:\n",
      "--------------------------------------------------\n",
      "| condenser.energy_block.dH_F\n",
      "| condenser.energy_block.dH_V\n",
      "| condenser.energy_block.dH_L\n",
      "| condenser.energy_block.dH_vap\n",
      "--------------------------------------------------\n",
      "\n",
      "> Importing VLE Blocks......\n",
      "> Adding the following local variable:\n",
      "--------------------------------------------------\n",
      "| condenser.VLE_block.n_ave\n",
      "| condenser.VLE_block.n_ave_cal\n",
      "| condenser.VLE_block.Hen\n",
      "| condenser.VLE_block.Hen0\n",
      "| condenser.VLE_block.gamma\n",
      "| condenser.VLE_block.P_sat\n",
      "| condenser.VLE_block.P_sat_Y\n",
      "| condenser.VLE_block.P_sat_dY_inf\n",
      "| condenser.VLE_block.P_sat_dY0\n",
      "| condenser.VLE_block.Hen_ref\n",
      "| condenser.VLE_block.Hen0_ref\n",
      "| condenser.VLE_block.gamma_ref\n",
      "| condenser.VLE_block.V_L\n",
      "| condenser.VLE_block.V_L_dY_inf\n",
      "| condenser.VLE_block.V_L_dY0\n",
      "| condenser.VLE_block.poynting\n",
      "--------------------------------------------------\n",
      "\n"
     ]
    }
   ],
   "source": [
    "model.condenser = pe.Block(rule=condenser_stage_rule)"
   ]
  },
  {
   "cell_type": "markdown",
   "metadata": {},
   "source": [
    "# Construct a reboiler"
   ]
  },
  {
   "cell_type": "code",
   "execution_count": 6,
   "metadata": {},
   "outputs": [
    {
     "name": "stdout",
     "output_type": "stream",
     "text": [
      "> Importing Non Reactive Stage......\n",
      "> Adding the following local variable:\n",
      "------------------------------------\n",
      "| reboiler.T_F\n",
      "| reboiler.P\n",
      "| reboiler.Q_main\n",
      "| reboiler.x_\n",
      "| reboiler.y_\n",
      "| reboiler.x\n",
      "| reboiler.y\n",
      "| reboiler.z\n",
      "| reboiler.L\n",
      "| reboiler.V\n",
      "| reboiler.F\n",
      "| reboiler.H_L_\n",
      "| reboiler.H_V_\n",
      "| reboiler.H_L\n",
      "| reboiler.H_V\n",
      "| reboiler.T\n",
      "| reboiler.H_F\n",
      "| reboiler.f_V\n",
      "| reboiler.f_L\n",
      "------------------------------------\n",
      "\n",
      "> Importing Energy Blocks......\n",
      "> Adding the following local variable:\n",
      "--------------------------------------------------\n",
      "| reboiler.energy_block.dH_F\n",
      "| reboiler.energy_block.dH_V\n",
      "| reboiler.energy_block.dH_L\n",
      "| reboiler.energy_block.dH_vap\n",
      "--------------------------------------------------\n",
      "\n",
      "> Importing VLE Blocks......\n",
      "> Adding the following local variable:\n",
      "--------------------------------------------------\n",
      "| reboiler.VLE_block.P_VLE\n",
      "| reboiler.VLE_block.n_ave\n",
      "| reboiler.VLE_block.n_ave_cal\n",
      "| reboiler.VLE_block.Hen\n",
      "| reboiler.VLE_block.Hen0\n",
      "| reboiler.VLE_block.gamma\n",
      "| reboiler.VLE_block.P_sat\n",
      "| reboiler.VLE_block.P_sat_Y\n",
      "| reboiler.VLE_block.P_sat_dY_inf\n",
      "| reboiler.VLE_block.P_sat_dY0\n",
      "| reboiler.VLE_block.Hen_ref\n",
      "| reboiler.VLE_block.Hen0_ref\n",
      "| reboiler.VLE_block.gamma_ref\n",
      "| reboiler.VLE_block.V_L\n",
      "| reboiler.VLE_block.V_L_dY_inf\n",
      "| reboiler.VLE_block.V_L_dY0\n",
      "| reboiler.VLE_block.poynting\n",
      "--------------------------------------------------\n",
      "\n",
      "> Importing MPCC_P_NCP Blocks......\n",
      "> Adding the following local variable:\n",
      "--------------------------------------------------\n",
      "| reboiler.MPCC.s_L\n",
      "| reboiler.MPCC.s_V\n",
      "| reboiler.MPCC.epi\n",
      "--------------------------------------------------\n",
      "> Adding complementarity constraint, spliting pressure used in VLE\n",
      "\n"
     ]
    }
   ],
   "source": [
    "model.reboiler = pe.Block(rule=non_reactive_stage_rule)"
   ]
  },
  {
   "cell_type": "markdown",
   "metadata": {},
   "source": [
    "# Linking Stage Variables"
   ]
  },
  {
   "cell_type": "markdown",
   "metadata": {},
   "source": [
    "### Vapor Between Reactive Stages"
   ]
  },
  {
   "cell_type": "code",
   "execution_count": 7,
   "metadata": {
    "collapsed": true
   },
   "outputs": [],
   "source": [
    "def V_between_rule(model,j):\n",
    "    if j == model.TRAY.last(): return pe.Constraint.Skip\n",
    "    return model.reactive[j].V['in'] == model.reactive[j+1].V['out']\n",
    "model.V_between_con = pe.Constraint(model.TRAY,rule=V_between_rule)\n",
    "\n",
    "def Vy_between_rule(model,j,i):\n",
    "    if j == model.TRAY.last(): return pe.Constraint.Skip\n",
    "    return model.reactive[j].y_['in',i] == model.reactive[j+1].y[i]\n",
    "model.Vy_between_con = pe.Constraint(model.TRAY,m.COMP_TOTAL,rule=Vy_between_rule)\n",
    "\n",
    "def Vh_between_rule(model,j):\n",
    "    if j == model.TRAY.last(): return pe.Constraint.Skip\n",
    "    return model.reactive[j].H_V_['in'] == model.reactive[j+1].H_V\n",
    "model.Vh_between_con = pe.Constraint(model.TRAY,rule=Vh_between_rule)"
   ]
  },
  {
   "cell_type": "markdown",
   "metadata": {},
   "source": [
    "### Liquid Between Reactive Stages"
   ]
  },
  {
   "cell_type": "code",
   "execution_count": 8,
   "metadata": {
    "collapsed": true
   },
   "outputs": [],
   "source": [
    "def L_between_rule(model,j):\n",
    "    if j == model.TRAY.last(): return pe.Constraint.Skip\n",
    "    return model.reactive[j+1].L['in'] == model.reactive[j].L['out']\n",
    "model.L_between_con = pe.Constraint(model.TRAY,rule=L_between_rule)\n",
    "\n",
    "def Lx_between_rule(model,j,i):\n",
    "    if j == model.TRAY.last(): return pe.Constraint.Skip\n",
    "    return model.reactive[j+1].x_['in',i] == model.reactive[j].x[i]\n",
    "model.Ly_between_con = pe.Constraint(model.TRAY,m.COMP_TOTAL,rule=Lx_between_rule)\n",
    "\n",
    "def Lh_between_rule(model,j):\n",
    "    if j == model.TRAY.last(): return pe.Constraint.Skip\n",
    "    return model.reactive[j+1].H_L_['in'] == model.reactive[j].H_L\n",
    "model.Lh_between_con = pe.Constraint(model.TRAY,rule=Lh_between_rule)"
   ]
  },
  {
   "cell_type": "markdown",
   "metadata": {},
   "source": [
    "### Condenser"
   ]
  },
  {
   "cell_type": "code",
   "execution_count": 9,
   "metadata": {
    "collapsed": true
   },
   "outputs": [],
   "source": [
    "def V_condenser_rule(model):\n",
    "    return model.reactive[model.TRAY.first()].V['out'] == model.condenser.V['in']\n",
    "model.V_condenser_con = pe.Constraint(rule=V_condenser_rule)\n",
    "\n",
    "def Vy_condenser_rule(model,i):\n",
    "    return model.reactive[model.TRAY.first()].y[i] == model.condenser.y_['in',i]\n",
    "model.Vy_condenser_con = pe.Constraint(m.COMP_TOTAL,rule=Vy_condenser_rule)\n",
    "\n",
    "def Vh_condenser_rule(model):\n",
    "    return model.reactive[model.TRAY.first()].H_V == model.condenser.H_V_['in']\n",
    "model.Vh_condenser_con = pe.Constraint(rule=Vh_condenser_rule)"
   ]
  },
  {
   "cell_type": "code",
   "execution_count": 10,
   "metadata": {
    "collapsed": true
   },
   "outputs": [],
   "source": [
    "def L_condenser_rule(model):\n",
    "    return model.reactive[model.TRAY.first()].L['in'] == model.condenser.L['out']\n",
    "model.L_condenser_con = pe.Constraint(rule=L_condenser_rule)\n",
    "\n",
    "def Lx_condenser_rule(model,i):\n",
    "    return model.reactive[model.TRAY.first()].x_['in',i] == model.condenser.x[i]\n",
    "model.Lx_condenser_con = pe.Constraint(m.COMP_TOTAL,rule=Lx_condenser_rule)\n",
    "\n",
    "def Lh_condenser_rule(model):\n",
    "    return model.reactive[model.TRAY.first()].H_L_['in'] == model.condenser.H_L\n",
    "model.Lh_condenser_con = pe.Constraint(rule=Lh_condenser_rule)"
   ]
  },
  {
   "cell_type": "markdown",
   "metadata": {},
   "source": [
    "### Reboiler"
   ]
  },
  {
   "cell_type": "code",
   "execution_count": 11,
   "metadata": {
    "collapsed": true
   },
   "outputs": [],
   "source": [
    "def V_reboiler_rule(model):\n",
    "    return model.reactive[model.TRAY.last()].V['in'] == model.reboiler.V['out']\n",
    "model.V_reboiler_con = pe.Constraint(rule=V_reboiler_rule)\n",
    "\n",
    "def Vy_reboiler_rule(model,i):\n",
    "    return model.reactive[model.TRAY.last()].y_['in',i] == model.reboiler.y[i]\n",
    "model.Vy_reboiler_con = pe.Constraint(m.COMP_TOTAL,rule=Vy_reboiler_rule)\n",
    "\n",
    "def Vh_reboiler_rule(model):\n",
    "    return model.reactive[model.TRAY.last()].H_V_['in'] == model.reboiler.H_V\n",
    "model.Vh_reboiler_con = pe.Constraint(rule=Vh_reboiler_rule)"
   ]
  },
  {
   "cell_type": "code",
   "execution_count": 12,
   "metadata": {
    "collapsed": true
   },
   "outputs": [],
   "source": [
    "def L_reboiler_rule(model):\n",
    "    return model.reactive[model.TRAY.last()].L['out'] == model.reboiler.L['in']\n",
    "model.L_reboiler_con = pe.Constraint(rule=L_reboiler_rule)\n",
    "\n",
    "def Lx_reboiler_rule(model,i):\n",
    "    return model.reactive[model.TRAY.last()].x[i] == model.reboiler.x_['in',i]\n",
    "model.Lx_reboiler_con = pe.Constraint(m.COMP_TOTAL,rule=Lx_reboiler_rule)\n",
    "\n",
    "def Lh_reboiler_rule(model):\n",
    "    return model.reactive[model.TRAY.last()].H_L == model.reboiler.H_L_['in']\n",
    "model.Lh_reboiler_con = pe.Constraint(rule=Lh_reboiler_rule)"
   ]
  },
  {
   "cell_type": "code",
   "execution_count": 13,
   "metadata": {
    "collapsed": true
   },
   "outputs": [],
   "source": [
    "# model.obj = pe.Objective(expr = sum(model.reactive[j].T - model.reactive[j].MPCC.pf for j in model.TRAY) ,sense=pe.maximize)\n",
    "model.obj = pe.Objective(expr = sum(model.reactive[j].T for j in model.TRAY) ,sense=pe.maximize)"
   ]
  },
  {
   "cell_type": "code",
   "execution_count": 14,
   "metadata": {},
   "outputs": [
    {
     "name": "stdout",
     "output_type": "stream",
     "text": [
      "Created the follow pyomo suffixes:\n",
      "ipopt_zL_out, ipopt_zU_out, ipopt_zL_in, ipopt_zU_in, dual\n"
     ]
    }
   ],
   "source": [
    "add_dual(pe,model)"
   ]
  },
  {
   "cell_type": "markdown",
   "metadata": {},
   "source": [
    "# Load from single stage solutions"
   ]
  },
  {
   "cell_type": "code",
   "execution_count": 15,
   "metadata": {
    "collapsed": true
   },
   "outputs": [],
   "source": [
    "# with open('../saved_solutions/reactive_flash_MPCC_P_pf.pickle', 'rb') as f:\n",
    "#     results_imported = pickle.load(f)\n",
    "# results_changed = deepcopy(results_imported)"
   ]
  },
  {
   "cell_type": "markdown",
   "metadata": {},
   "source": [
    "### Duplicate variable solution and bounds multiplier"
   ]
  },
  {
   "cell_type": "code",
   "execution_count": 16,
   "metadata": {
    "collapsed": true
   },
   "outputs": [],
   "source": [
    "# results_changed.Solution.Variable = {}\n",
    "# for i in list(results_imported.Solution.Variable.keys()):\n",
    "#     for j in model.TRAY:\n",
    "#         results_changed.Solution.Variable['reactive[{}].{}'.format(j,i)] = \\\n",
    "#         results_imported.Solution.Variable[i]"
   ]
  },
  {
   "cell_type": "markdown",
   "metadata": {},
   "source": [
    "### Duplicate constraint multiplier"
   ]
  },
  {
   "cell_type": "code",
   "execution_count": 17,
   "metadata": {
    "collapsed": true
   },
   "outputs": [],
   "source": [
    "# results_changed.Solution.Constraint = {}\n",
    "# for i in list(results_imported.Solution.Constraint.keys()):\n",
    "#     for j in model.TRAY:\n",
    "#         results_changed.Solution.Constraint['reactive[{}].{}'.format(j,i)] = \\\n",
    "#         results_imported.Solution.Constraint[i]"
   ]
  },
  {
   "cell_type": "markdown",
   "metadata": {},
   "source": [
    "### Load changed solution into current model"
   ]
  },
  {
   "cell_type": "code",
   "execution_count": 18,
   "metadata": {
    "collapsed": true
   },
   "outputs": [],
   "source": [
    "# model.solutions.load_from(results_changed)"
   ]
  },
  {
   "cell_type": "markdown",
   "metadata": {},
   "source": [
    "# Fixing Redundent Stream Variables"
   ]
  },
  {
   "cell_type": "code",
   "execution_count": 19,
   "metadata": {
    "collapsed": true
   },
   "outputs": [],
   "source": [
    "# condenser\n",
    "model.condenser.VLE_block.n_ave.fix(4)\n",
    "\n",
    "model.condenser.F.fix(0)\n",
    "model.condenser.T_F.fix(300+273.15)\n",
    "model.condenser.z.fix(0)\n",
    "\n",
    "model.condenser.V['P'].fix(0)\n",
    "model.condenser.L['in'].fix(0)\n",
    "for i in m.COMP_TOTAL: model.condenser.x_['in',i].fix(0)\n",
    "model.condenser.H_L_['in'].fix(0)"
   ]
  },
  {
   "cell_type": "code",
   "execution_count": 20,
   "metadata": {
    "collapsed": true
   },
   "outputs": [],
   "source": [
    "# 'reboiler' fixing last stage V_in\n",
    "\n",
    "# model.reactive[model.TRAY.last()].V['in'].fix(0)\n",
    "# for i in m.COMP_TOTAL: model.reactive[model.TRAY.last()].y_['in',i].fix(0)\n",
    "# model.reactive[model.TRAY.last()].H_V_['in'].fix(0)\n",
    "\n",
    "model.reboiler.VLE_block.n_ave.fix(20)\n",
    "\n",
    "model.reboiler.F.fix(0)\n",
    "model.reboiler.T_F.fix(300+273.15)\n",
    "model.reboiler.z.fix(0)\n",
    "\n",
    "model.reboiler.V['in'].fix(0)\n",
    "for i in m.COMP_TOTAL: model.reboiler.y_['in',i].fix(0)\n",
    "model.reboiler.H_V_['in'].fix(0)"
   ]
  },
  {
   "cell_type": "markdown",
   "metadata": {},
   "source": [
    "# Load Operating Parameters"
   ]
  },
  {
   "cell_type": "code",
   "execution_count": 21,
   "metadata": {
    "collapsed": true
   },
   "outputs": [],
   "source": [
    "# condenser\n",
    "model.condenser.P.fix(19)\n",
    "model.condenser.T.fix(30+273.15)\n",
    "model.condenser.L['out'].fix(0)\n",
    "\n",
    "# reactive stage\n",
    "for j in model.reactive:\n",
    "    model.reactive[j].cat.fix(5000)\n",
    "    model.reactive[j].P.fix(20)\n",
    "    model.reactive[j].VLE_block.n_ave.fix(20)\n",
    "    \n",
    "    model.reactive[j].F.fix(1)\n",
    "    model.reactive[j].T_F.fix(200+273.15)\n",
    "    model.reactive[j].z['CO'].fix(1/(1+2))\n",
    "    model.reactive[j].z['H2'].fix(2/(1+2))\n",
    "    model.reactive[j].z['C30H62'].fix(0)\n",
    "    model.reactive[j].V['P'].fix(0)\n",
    "    model.reactive[j].L['P'].fix(0)\n",
    "    # model.reactive[j].Q_main.fix(0)\n",
    "    model.reactive[j].T.setub(300+273.15)\n",
    "    \n",
    "# reboiler\n",
    "model.reboiler.L['P'].fix(0)\n",
    "model.reboiler.V['P'].fix(0)\n",
    "model.reboiler.P.fix(20)\n",
    "model.reboiler.T.setub(350+273.15)"
   ]
  },
  {
   "cell_type": "code",
   "execution_count": 22,
   "metadata": {
    "scrolled": true
   },
   "outputs": [
    {
     "name": "stdout",
     "output_type": "stream",
     "text": [
      "Active Equality Constraints:\t 3424\n",
      "Active Inequality Constraints:\t 0\n",
      "Active Variables:\t\t 3617\n",
      "Fixed Variables:\t\t 191\n",
      "DOF:\t\t\t\t 2\n"
     ]
    }
   ],
   "source": [
    "check_DOF(pe,model)"
   ]
  },
  {
   "cell_type": "code",
   "execution_count": 24,
   "metadata": {},
   "outputs": [
    {
     "name": "stdout",
     "output_type": "stream",
     "text": [
      "Ipopt 3.11.1: print_user_options=yes\n",
      "linear_scaling_on_demand =no\n",
      "max_iter=7000\n",
      "\n",
      "\n",
      "List of user-set options:\n",
      "\n",
      "                                    Name   Value                used\n",
      "                linear_scaling_on_demand = no                     no\n",
      "                                max_iter = 7000                  yes\n",
      "                      print_user_options = yes                   yes\n",
      "\n",
      "******************************************************************************\n",
      "This program contains Ipopt, a library for large-scale nonlinear optimization.\n",
      " Ipopt is released as open source code under the Eclipse Public License (EPL).\n",
      "         For more information visit http://projects.coin-or.org/Ipopt\n",
      "******************************************************************************\n",
      "\n",
      "NOTE: You are using Ipopt by default with the MUMPS linear solver.\n",
      "      Other linear solvers might be more efficient (see Ipopt documentation).\n",
      "\n",
      "\n",
      "This is Ipopt version 3.11.1, running with linear solver mumps.\n",
      "\n",
      "Number of nonzeros in equality constraint Jacobian...:    11342\n",
      "Number of nonzeros in inequality constraint Jacobian.:        0\n",
      "Number of nonzeros in Lagrangian Hessian.............:    12969\n",
      "\n",
      "Total number of variables............................:     3426\n",
      "                     variables with only lower bounds:      558\n",
      "                variables with lower and upper bounds:     2362\n",
      "                     variables with only upper bounds:        0\n",
      "Total number of equality constraints.................:     3424\n",
      "Total number of inequality constraints...............:        0\n",
      "        inequality constraints with only lower bounds:        0\n",
      "   inequality constraints with lower and upper bounds:        0\n",
      "        inequality constraints with only upper bounds:        0\n",
      "\n",
      "iter    objective    inf_pr   inf_du lg(mu)  ||d||  lg(rg) alpha_du alpha_pr  ls\n",
      "   0 -5.5101598e+002 4.24e+002 1.00e+000  -1.0 0.00e+000    -  0.00e+000 0.00e+000   0\n",
      "   1 -5.5088624e+002 4.53e+000 6.64e+005  -1.0 1.30e+002    -  5.80e-001 9.89e-001h  1\n",
      "   2 -5.5020644e+002 6.26e-001 8.98e+005  -1.0 1.27e+002    -  6.59e-001 9.90e-001h  1\n",
      "   3 -5.4830801e+002 1.65e+000 1.99e+006  -1.0 3.50e+002    -  4.06e-001 9.99e-001h  1\n",
      "   4 -5.4282488e+002 8.49e-001 8.77e+007  -1.0 1.09e+003    -  5.96e-001 9.54e-001H  1\n",
      "   5 -5.4147977e+002 1.58e+000 8.09e+007  -1.0 2.37e+003    -  2.71e-001 1.01e-001f  3\n",
      "   6 -5.4076431e+002 1.76e+000 7.94e+007  -1.0 4.78e+003    -  9.71e-002 2.64e-002f  4\n",
      "   7 -5.4044074e+002 1.78e+000 7.82e+007  -1.0 3.56e+003    -  3.98e-001 1.60e-002f  5\n",
      "   8 -5.3554440e+002 1.57e+000 1.05e+008  -1.0 9.22e+002    -  9.72e-002 9.12e-001F  1\n",
      "   9 -5.3463801e+002 1.56e+000 2.24e+008  -1.0 6.53e+002  -4.0 6.82e-001 2.37e-001f  2\n",
      "iter    objective    inf_pr   inf_du lg(mu)  ||d||  lg(rg) alpha_du alpha_pr  ls\n",
      "  10 -5.3243458e+002 3.62e+000 9.82e+008  -1.0 8.50e+003  -4.5 4.58e-002 4.42e-002f  1\n",
      "  11 -5.2844129e+002 9.00e+000 5.60e+010  -1.0 1.58e+003  -4.1 1.54e-002 4.25e-001f  1\n",
      "  12 -5.2818573e+002 8.92e+000 5.48e+010  -1.0 1.30e+004    -  2.28e-002 1.25e-002f  1\n",
      "  13 -5.2388319e+002 1.16e+002 2.00e+011  -1.0 4.22e+003    -  1.77e-001 8.75e-001f  1\n",
      "  14 -5.2378149e+002 2.51e+001 5.17e+010  -1.0 4.36e+001  -0.0 6.21e-001 7.85e-001h  1\n",
      "  15 -5.2465807e+002 9.13e+001 4.48e+009  -1.0 3.11e+003    -  1.42e-001 1.00e+000f  1\n",
      "  16 -5.2524088e+002 6.09e+001 3.55e+009  -1.0 6.07e+002    -  1.58e-001 3.39e-001h  1\n",
      "  17 -5.2525228e+002 6.05e+001 3.53e+009  -1.0 1.04e+004    -  2.24e-001 6.92e-003h  1\n",
      "  18 -5.2688343e+002 4.64e+001 1.87e+009  -1.0 2.71e+003    -  1.93e-001 8.30e-001H  1\n",
      "  19 -5.2699106e+002 4.44e+001 2.01e+009  -1.0 5.00e+003    -  5.75e-002 6.45e-002h  1\n",
      "iter    objective    inf_pr   inf_du lg(mu)  ||d||  lg(rg) alpha_du alpha_pr  ls\n",
      "  20 -5.2699058e+002 4.44e+001 2.01e+009  -1.0 1.49e+005    -  5.44e-004 5.07e-005h  1\n",
      "  21 -5.2701778e+002 4.42e+001 2.03e+009  -1.0 1.30e+004    -  2.34e-002 1.75e-002h  1\n",
      "  22 -5.2715413e+002 5.69e+001 3.26e+010  -1.0 1.81e+004    -  1.01e-002 7.14e-002f  2\n",
      "  23 -5.2733739e+002 5.27e+001 3.01e+010  -1.0 3.70e+003    -  2.04e-003 9.35e-002h  1\n",
      "  24 -5.2737781e+002 5.72e+001 6.81e+010  -1.0 1.35e+005    -  2.69e-004 5.24e-003f  3\n",
      "  25 -5.2739149e+002 5.71e+001 6.76e+010  -1.0 2.98e+004    -  1.36e-001 5.61e-003h  3\n",
      "  26 -5.2744112e+002 5.62e+001 6.56e+010  -1.0 9.10e+003    -  2.31e-001 2.30e-002h  1\n",
      "  27 -5.2744408e+002 5.61e+001 6.55e+010  -1.0 1.52e+004    -  8.17e-002 1.44e-003h  1\n",
      "  28 -5.2747293e+002 5.62e+001 6.42e+010  -1.0 2.16e+004    -  6.41e-002 1.49e-002f  4\n",
      "  29 -5.2751998e+002 5.90e+001 6.14e+010  -1.0 2.73e+004    -  9.51e-002 2.49e-002f  3\n",
      "iter    objective    inf_pr   inf_du lg(mu)  ||d||  lg(rg) alpha_du alpha_pr  ls\n",
      "  30 -5.2755291e+002 6.28e+001 5.88e+010  -1.0 4.14e+004    -  8.06e-002 1.76e-002f  3\n",
      "  31 -5.2755633e+002 6.28e+001 5.88e+010  -1.0 7.75e+004    -  2.92e-002 8.37e-004h  6\n",
      "  32 -5.2757611e+002 6.29e+001 5.80e+010  -1.0 4.17e+004    -  7.53e-002 5.60e-003h  4\n",
      "  33 -5.2758050e+002 6.28e+001 5.79e+010  -1.0 1.15e+004    -  3.19e-001 1.66e-003h  8\n",
      "  34 -5.2758115e+002 6.28e+001 5.79e+010  -1.0 9.18e+003    -  1.29e-001 2.45e-004h 11\n",
      "  35 -5.2758149e+002 6.28e+001 5.79e+010  -1.0 8.82e+003    -  1.92e-001 1.26e-004h 12\n",
      "  36 -5.2758154e+002 6.28e+001 5.79e+010  -1.0 8.56e+003    -  1.51e-001 1.61e-005h 15\n",
      "  37r-5.2758154e+002 6.28e+001 1.00e+003   1.4 0.00e+000    -  0.00e+000 4.99e-007R 20\n",
      "  38r-5.2758154e+002 6.26e+001 3.23e+004   1.4 3.61e+004    -  6.06e-003 3.35e-006f  1\n",
      "  39r-5.2758158e+002 2.08e+000 3.23e+004   0.7 3.46e+003    -  2.09e-002 6.92e-003f  1\n",
      "iter    objective    inf_pr   inf_du lg(mu)  ||d||  lg(rg) alpha_du alpha_pr  ls\n",
      "  40 -5.2770611e+002 8.01e-002 8.48e+006  -1.0 3.39e+001    -  5.36e-001 9.71e-001h  1\n",
      "  41 -5.2733797e+002 7.01e-002 3.61e+006  -1.0 1.38e+002    -  3.53e-001 4.40e-001h  1\n",
      "  42 -5.2716370e+002 7.43e-002 4.47e+006  -1.0 2.27e+002    -  2.80e-001 1.26e-001h  1\n",
      "  43 -5.2715121e+002 7.34e-002 1.01e+007  -1.0 5.69e+002    -  9.43e-001 1.28e-002f  6\n",
      "  44 -5.2714281e+002 7.40e-002 1.02e+007  -1.0 2.52e+003    -  1.86e-001 2.80e-003h  8\n",
      "  45 -5.2714020e+002 7.48e-002 1.03e+007  -1.0 4.15e+003    -  3.48e-001 5.89e-004f 10\n",
      "  46 -5.2713596e+002 7.64e-002 1.03e+007  -1.0 2.58e+003    -  1.27e-001 1.43e-003h  9\n",
      "  47 -5.2713442e+002 7.66e-002 1.03e+007  -1.0 1.59e+003    -  2.20e-002 8.70e-004h 10\n",
      "  48 -5.2705088e+002 9.56e-001 9.65e+006  -1.0 2.05e+003    -  1.10e-002 6.00e-002f  4\n",
      "  49 -5.2703729e+002 9.54e-001 9.59e+006  -1.0 2.96e+003    -  1.21e-001 8.50e-003h  7\n",
      "iter    objective    inf_pr   inf_du lg(mu)  ||d||  lg(rg) alpha_du alpha_pr  ls\n",
      "  50 -5.2702637e+002 9.50e-001 9.52e+006  -1.0 2.71e+003    -  1.50e-001 8.62e-003h  7\n",
      "  51 -5.2700936e+002 9.42e-001 9.38e+006  -1.0 2.48e+003    -  1.41e-001 1.71e-002h  6\n",
      "  52 -5.2700765e+002 9.40e-001 9.38e+006  -1.0 2.38e+003    -  2.23e-001 2.17e-003h  9\n",
      "  53 -5.2667934e+002 1.40e+001 5.55e+006  -1.0 2.26e+003    -  1.53e-001 5.54e-001w  1\n",
      "  54 -5.2666406e+002 8.79e+000 4.66e+006  -1.0 6.43e+002    -  6.23e-001 4.17e-001w  1\n",
      "  55 -5.2657620e+002 6.05e+000 3.62e+006  -1.0 2.34e+002    -  9.87e-001 3.18e-001w  1\n",
      "  56 -5.2700701e+002 9.39e-001 9.38e+006  -1.0 7.92e+001    -  1.53e-001 1.08e-003h  9\n",
      "  57 -5.2700677e+002 9.39e-001 9.39e+006  -1.0 2.25e+003    -  1.99e-001 5.47e-004h 11\n",
      "  58 -5.2700672e+002 9.38e-001 9.40e+006  -1.0 2.23e+003    -  1.39e-001 1.37e-004h 13\n",
      "  59 -5.2700671e+002 9.38e-001 9.41e+006  -1.0 2.28e+003    -  1.76e-001 6.95e-005h 14\n",
      "iter    objective    inf_pr   inf_du lg(mu)  ||d||  lg(rg) alpha_du alpha_pr  ls\n",
      "  60 -5.2700358e+002 9.27e-001 9.24e+006  -1.0 2.30e+003    -  1.27e-001 1.79e-002h  6\n",
      "  61 -5.2700103e+002 9.13e-001 9.08e+006  -1.0 2.38e+003    -  2.44e-001 1.84e-002h  6\n",
      "  62 -5.2699818e+002 9.00e-001 8.91e+006  -1.0 2.44e+003    -  1.98e-001 1.88e-002h  6\n",
      "  63 -5.2699557e+002 8.85e-001 8.75e+006  -1.0 2.51e+003    -  3.82e-001 1.93e-002h  6\n",
      "  64 -5.2699247e+002 8.70e-001 8.58e+006  -1.0 2.58e+003    -  2.77e-001 1.97e-002h  6\n",
      "  65 -5.2699117e+002 8.61e-001 8.50e+006  -1.0 2.61e+003    -  5.59e-001 1.01e-002h  7\n",
      "  66 -5.2693310e+002 2.86e+001 1.49e+007  -1.0 2.71e+003    -  3.01e-001 6.62e-001w  1\n",
      "  67 -5.2683688e+002 2.01e+001 9.00e+006  -1.0 1.20e+003    -  2.39e-001 3.53e-001w  1\n",
      "  68 -5.2645155e+002 1.37e+001 2.62e+007  -1.0 1.01e+003    -  9.09e-001 3.87e-001w  1\n",
      "  69 -5.2699026e+002 8.53e-001 8.41e+006  -1.0 6.67e+002    -  3.01e-001 1.03e-002h  6\n"
     ]
    },
    {
     "name": "stdout",
     "output_type": "stream",
     "text": [
      "iter    objective    inf_pr   inf_du lg(mu)  ||d||  lg(rg) alpha_du alpha_pr  ls\n",
      "  70 -5.2699008e+002 8.44e-001 8.33e+006  -1.0 2.76e+003    -  5.99e-001 1.05e-002h  7\n",
      "  71 -5.2699017e+002 8.36e-001 8.24e+006  -1.0 2.83e+003    -  3.23e-001 1.08e-002h  7\n",
      "  72 -5.2699062e+002 8.27e-001 8.15e+006  -1.0 2.86e+003    -  6.91e-001 1.09e-002h  7\n",
      "  73 -5.2699116e+002 8.19e-001 8.06e+006  -1.0 2.92e+003    -  3.53e-001 1.07e-002h  7\n",
      "  74 -5.2699199e+002 8.10e-001 7.98e+006  -1.0 2.92e+003    -  8.18e-001 1.05e-002h  7\n",
      "  75 -5.2699310e+002 8.02e-001 7.89e+006  -1.0 2.94e+003    -  3.80e-001 1.03e-002h  7\n",
      "  76 -5.2699445e+002 7.94e-001 7.92e+006  -1.0 2.92e+003    -  9.91e-001 1.02e-002h  7\n",
      "  77 -5.2699636e+002 7.87e-001 8.00e+006  -1.0 2.92e+003    -  4.01e-001 1.01e-002h  7\n",
      "  78 -5.2699838e+002 7.79e-001 8.28e+006  -1.0 2.87e+003    -  1.00e+000 1.01e-002h  7\n",
      "  79 -5.2716971e+002 2.92e+001 1.47e+008  -1.0 2.83e+003    -  4.64e-001 6.42e-001w  1\n",
      "iter    objective    inf_pr   inf_du lg(mu)  ||d||  lg(rg) alpha_du alpha_pr  ls\n",
      "  80 -5.2718254e+002 1.51e+001 5.51e+007  -1.0 7.40e+001    -  2.19e-001 4.83e-001w  1\n",
      "  81 -5.2708070e+002 1.36e+001 5.16e+007  -1.0 3.12e+002    -  3.57e-001 1.00e-001w  1\n",
      "  82 -5.2712374e+002 1.43e-001 2.61e+007  -1.0 4.02e+001    -  1.00e+000 1.00e+000h  1\n",
      "  83 -5.2642785e+002 1.30e+000 4.36e+007  -1.0 3.95e+002    -  2.47e-001 1.00e+000f  1\n",
      "  84 -5.2642635e+002 8.23e-005 2.75e+006  -1.0 1.29e-001  -0.5 5.41e-001 1.00e+000h  1\n",
      "  85 -5.2591422e+002 3.24e-001 8.64e+006  -1.0 7.84e+002    -  6.53e-001 2.50e-001f  3\n",
      "  86 -5.2558121e+002 1.17e+000 9.20e+006  -1.0 1.32e+003    -  1.00e+000 2.50e-001f  3\n",
      "  87 -5.2439980e+002 6.05e-001 3.84e+007  -1.0 1.35e+003    -  6.32e-001 1.00e+000F  1\n",
      "  88 -5.2492971e+002 5.02e-001 8.35e+006  -1.0 2.05e+002    -  1.00e+000 1.00e+000f  1\n",
      "  89 -5.2493594e+002 1.45e-002 9.22e+004  -1.0 1.07e+001    -  1.00e+000 1.00e+000h  1\n",
      "iter    objective    inf_pr   inf_du lg(mu)  ||d||  lg(rg) alpha_du alpha_pr  ls\n",
      "  90 -5.2493668e+002 1.55e-005 1.59e+002  -1.0 3.39e-001    -  1.00e+000 1.00e+000h  1\n",
      "  91 -5.2531853e+002 6.21e-002 9.25e+006  -3.8 6.19e+001    -  8.51e-001 1.00e+000f  1\n",
      "  92 -5.2687363e+002 1.03e+000 5.53e+006  -3.8 2.53e+002    -  6.66e-001 1.00e+000f  1\n",
      "  93 -5.2915073e+002 2.92e+000 3.42e+006  -3.8 1.14e+003    -  4.44e-001 3.27e-001f  1\n",
      "  94 -5.2925335e+002 5.64e+001 5.28e+007  -3.8 4.22e+004    -  3.48e-004 5.94e-002h  1\n",
      "  95 -5.2925345e+002 5.48e+001 6.38e+008  -3.8 3.83e+002  -1.0 2.29e-002 2.85e-002h  1\n",
      "  96 -5.2966070e+002 6.96e+001 2.26e+010  -3.8 1.09e+004    -  1.82e-004 1.52e-001h  1\n",
      "  97 -5.2950061e+002 1.48e+001 2.82e+010  -3.8 1.13e+002  -1.4 3.67e-005 7.88e-001h  1\n",
      "  98 -5.2823372e+002 2.32e+000 4.86e+011  -3.8 2.49e+002  -1.9 1.57e-004 8.43e-001h  1\n",
      "  99 -5.2822903e+002 1.70e-003 8.40e+008  -3.8 2.81e+001  -1.5 5.49e-004 1.00e+000h  1\n",
      "iter    objective    inf_pr   inf_du lg(mu)  ||d||  lg(rg) alpha_du alpha_pr  ls\n",
      " 100 -5.2823313e+002 1.08e-005 3.98e+007  -3.8 2.09e+000  -2.0 1.00e+000 1.00e+000h  1\n",
      " 101 -5.3134275e+002 4.18e+000 7.16e+006  -3.8 6.75e+002    -  1.00e+000 7.61e-001f  1\n",
      " 102 -5.3132719e+002 2.10e-002 9.70e+005  -3.8 9.98e+000  -2.4 1.77e-003 1.00e+000h  1\n",
      " 103 -5.3136224e+002 1.18e-003 8.69e+005  -3.8 6.79e+000  -2.9 1.00e+000 1.00e+000h  1\n",
      " 104 -5.3373291e+002 2.45e+000 1.64e+006  -3.8 4.70e+003    -  1.42e-001 8.46e-002f  1\n",
      " 105 -5.3373233e+002 2.35e+000 1.60e+006  -3.8 1.96e-001   6.9 8.38e-005 4.02e-002f  1\n",
      " 106 -5.3373313e+002 5.88e-001 8.32e+005  -3.8 3.89e+000    -  1.47e-002 7.50e-001h  1\n",
      " 107 -5.3373300e+002 1.17e-004 9.52e+005  -3.8 1.05e+000    -  1.00e+000 1.00e+000h  1\n",
      " 108 -5.3373299e+002 1.13e-004 3.09e+009  -3.8 5.52e-001   6.4 2.97e-001 3.45e-002H  1\n",
      " 109 -5.3373299e+002 1.13e-004 3.10e+009  -3.8 2.46e-005  14.3 9.24e-004 1.45e-003h  3\n",
      "iter    objective    inf_pr   inf_du lg(mu)  ||d||  lg(rg) alpha_du alpha_pr  ls\n",
      " 110r-5.3373299e+002 1.13e-004 1.00e+003  -3.8 0.00e+000  14.7 0.00e+000 2.76e-007R 18\n",
      " 111r-5.3373301e+002 1.13e-004 1.28e+003  -3.8 4.48e+000    -  2.22e-002 1.76e-003f  1\n",
      " 112 -5.3374280e+002 1.39e-003 1.68e+007  -3.8 1.66e+000    -  9.74e-001 1.00e+000f  1\n",
      " 113 -5.3603110e+002 2.30e+000 7.46e+008  -3.8 6.43e+002    -  5.63e-001 6.04e-001f  1\n",
      " 114 -5.3603625e+002 2.30e+000 7.45e+008  -3.8 9.07e+002    -  5.98e-001 9.77e-004h  1\n",
      " 115 -5.3673739e+002 2.11e+000 9.67e+008  -3.8 6.97e+002    -  6.26e-001 1.73e-001f  1\n",
      " 116 -5.3838280e+002 2.34e+000 8.23e+009  -3.8 6.20e+002    -  7.27e-003 4.59e-001f  1\n",
      " 117 -5.3839339e+002 2.33e+000 8.20e+009  -3.8 1.64e+003    -  1.56e-001 3.59e-003h  1\n",
      " 118 -5.4060760e+002 4.45e+001 1.80e+010  -3.8 2.28e+003    -  1.95e-002 1.00e+000f  1\n",
      " 119 -5.4110630e+002 4.09e+001 1.62e+010  -3.8 2.12e+003    -  7.58e-001 8.96e-002h  1\n",
      "iter    objective    inf_pr   inf_du lg(mu)  ||d||  lg(rg) alpha_du alpha_pr  ls\n",
      " 120 -5.4292734e+002 4.41e+001 9.50e+009  -3.8 4.43e+003    -  7.95e-001 2.95e-001h  1\n",
      " 121 -5.4425630e+002 8.05e+001 1.64e+010  -3.8 1.37e+004    -  5.53e-001 1.62e-001h  1\n",
      " 122 -5.4426618e+002 8.04e+001 1.64e+010  -3.8 1.65e+003    -  1.01e-003 1.07e-003h  1\n",
      " 123 -5.4510046e+002 6.26e+001 1.92e+010  -3.8 6.81e+002    -  9.76e-001 2.21e-001h  1\n",
      " 124 -5.4511091e+002 6.25e+001 1.92e+010  -3.8 6.32e+002    -  2.91e-002 2.99e-003h  1\n",
      " 125 -5.4569610e+002 5.28e+001 1.68e+010  -3.8 1.81e+003    -  3.49e-002 1.68e-001f  1\n",
      " 126 -5.4819805e+002 2.67e+001 5.71e+010  -3.8 1.62e+003    -  1.60e-001 7.27e-001h  1\n",
      " 127 -5.4820325e+002 2.67e+001 5.70e+010  -3.8 1.85e+003    -  1.84e-002 1.44e-003h  1\n",
      " 128 -5.4877181e+002 2.27e+001 5.47e+010  -3.8 9.64e+002    -  3.52e-001 1.58e-001f  1\n",
      " 129 -5.4926426e+002 1.96e+001 5.26e+010  -3.8 6.58e+002    -  1.28e-001 1.38e-001h  1\n",
      "iter    objective    inf_pr   inf_du lg(mu)  ||d||  lg(rg) alpha_du alpha_pr  ls\n",
      " 130 -5.5038018e+002 1.44e+001 1.77e+011  -3.8 1.08e+003    -  8.54e-002 3.19e-001f  1\n",
      " 131 -5.5134111e+002 1.05e+001 1.00e+011  -3.8 6.55e+002    -  2.06e-001 2.72e-001f  1\n",
      " 132 -5.5175508e+002 9.29e+000 9.33e+010  -3.8 6.64e+002    -  2.32e-001 1.16e-001h  1\n",
      " 133 -5.5175508e+002 9.29e+000 9.33e+010  -3.8 1.75e-003  14.2 1.95e-005 7.29e-006h  3\n",
      " 134 -5.5175533e+002 9.25e+000 9.29e+010  -3.8 1.32e+001    -  8.27e-006 4.24e-003f  1\n",
      " 135 -5.5176496e+002 7.51e+000 7.54e+010  -3.8 1.16e+001    -  1.69e-004 1.88e-001f  1\n",
      " 136 -5.5176496e+002 7.51e+000 7.54e+010  -3.8 8.98e+000    -  1.62e-001 1.07e-004h  1\n",
      " 137 -5.5176496e+002 7.51e+000 7.54e+010  -3.8 5.46e-004  14.7 8.06e-005 1.87e-005h  3\n",
      " 138r-5.5176496e+002 7.51e+000 1.00e+003   0.5 0.00e+000  14.2 0.00e+000 3.11e-007R  7\n",
      " 139r-5.5176481e+002 7.30e+000 9.86e+004   0.5 2.90e+003    -  5.78e-004 2.80e-005f  1\n",
      "iter    objective    inf_pr   inf_du lg(mu)  ||d||  lg(rg) alpha_du alpha_pr  ls\n",
      " 140r-5.5176490e+002 1.90e+000 9.86e+004   0.5 1.79e+003    -  5.89e-004 1.17e-003f  1\n",
      " 141 -5.5175083e+002 3.55e-001 2.67e+005  -3.8 6.07e+000    -  8.13e-002 8.14e-001h  1\n",
      " 142 -5.5175081e+002 3.54e-001 2.72e+005  -3.8 1.10e+001    -  1.87e-001 4.69e-004h  1\n",
      " 143 -5.5173053e+002 3.37e-001 2.59e+005  -3.8 7.51e+001    -  7.68e-002 5.01e-002h  1\n",
      " 144 -5.5173053e+002 3.37e-001 2.59e+005  -3.8 8.58e+001    -  4.75e-004 1.73e-005h  1\n",
      " 145 -5.5165551e+002 2.87e-001 2.20e+005  -3.8 9.50e+001    -  8.05e-002 1.46e-001h  1\n",
      " 146 -5.5165548e+002 2.87e-001 2.23e+005  -3.8 9.47e+001    -  1.75e-001 6.32e-005h  1\n",
      " 147 -5.5165542e+002 2.87e-001 2.54e+008  -3.8 6.32e+001    -  7.60e-001 1.88e-004h  1\n",
      " 148 -5.5165527e+002 2.46e-001 8.42e+009  -3.8 1.66e-004  13.7 4.90e-001 1.00e+000h  1\n",
      " 149 -5.5165493e+002 1.45e-001 1.01e+010  -3.8 6.62e-004  13.2 1.48e-003 6.12e-001h  1\n",
      "iter    objective    inf_pr   inf_du lg(mu)  ||d||  lg(rg) alpha_du alpha_pr  ls\n",
      " 150 -5.5165491e+002 1.45e-001 1.01e+010  -3.8 6.49e+001    -  3.10e-004 5.43e-005h  1\n",
      " 151r-5.5165491e+002 1.45e-001 1.00e+003  -1.3 0.00e+000    -  0.00e+000 4.59e-009R  2\n",
      " 152r-5.5165492e+002 1.44e-001 2.16e+004  -1.3 1.96e+002    -  4.48e-003 1.64e-006f  1\n",
      " 153r-5.5165865e+002 1.59e-002 1.60e+004  -1.3 1.76e+002    -  2.25e-002 5.43e-003f  1\n",
      " 154 -5.5165859e+002 1.59e-002 2.21e+004  -3.8 9.08e+000    -  7.85e-002 1.06e-003h  1\n",
      " 155 -5.5144213e+002 4.62e-002 3.16e+006  -3.8 8.05e+001    -  2.65e-002 5.00e-001h  2\n"
     ]
    },
    {
     "name": "stdout",
     "output_type": "stream",
     "text": [
      " 156 -5.5143024e+002 4.53e-002 3.10e+006  -3.8 1.12e+002    -  3.50e-001 1.97e-002h  1\n",
      " 157 -5.5125814e+002 4.64e-002 3.10e+006  -3.8 1.28e+002    -  4.80e-001 2.50e-001h  3\n",
      " 158 -5.4983050e+002 1.05e-001 4.13e+006  -3.8 1.43e+002    -  5.94e-001 8.82e-001H  1\n",
      " 159 -5.4983084e+002 1.05e-001 4.12e+006  -3.8 1.40e+002    -  6.45e-001 4.41e-004h  1\n",
      "iter    objective    inf_pr   inf_du lg(mu)  ||d||  lg(rg) alpha_du alpha_pr  ls\n",
      " 160 -5.5016162e+002 4.43e-002 4.70e+006  -3.8 8.59e+001    -  3.47e-001 7.08e-001f  1\n",
      " 161 -5.5016214e+002 4.43e-002 4.69e+006  -3.8 3.04e+002    -  8.79e-001 3.19e-004h  1\n",
      " 162 -5.5018857e+002 1.91e-002 3.31e+008  -3.8 1.56e+001    -  1.14e-004 5.88e-001h  1\n",
      " 163 -5.5018860e+002 1.91e-002 3.31e+008  -3.8 5.68e+002    -  2.05e-002 4.63e-004h  1\n",
      " 164 -5.5019780e+002 6.95e-002 2.75e+008  -3.8 5.88e+002    -  1.47e-002 1.51e-001f  3\n",
      " 165 -5.5020516e+002 8.08e-002 2.45e+008  -3.8 4.47e+002    -  5.56e-001 1.02e-001h  1\n",
      " 166 -5.5020987e+002 9.76e-002 2.30e+008  -3.8 8.31e+002    -  3.53e-001 5.97e-002h  4\n",
      " 167 -5.5021452e+002 1.28e-001 2.16e+008  -3.8 1.15e+003    -  6.71e-001 5.56e-002h  4\n",
      " 168 -5.5021509e+002 1.31e-001 2.15e+008  -3.8 3.19e+003    -  6.00e-001 6.45e-003h  7\n",
      " 169 -5.5021532e+002 1.34e-001 2.14e+008  -3.8 6.94e+003    -  4.23e-001 2.63e-003h  8\n",
      "iter    objective    inf_pr   inf_du lg(mu)  ||d||  lg(rg) alpha_du alpha_pr  ls\n",
      " 170 -5.5021553e+002 1.37e-001 2.14e+008  -3.8 8.36e+003    -  6.21e-001 2.31e-003h  8\n",
      " 171 -5.5024610e+002 4.66e+001 1.26e+008  -3.8 6.71e+003    -  4.39e-001 3.43e-001h  1\n",
      " 172 -5.5025907e+002 4.20e+001 1.13e+008  -3.8 2.60e+002    -  9.95e-001 9.86e-002h  1\n",
      " 173 -5.5025911e+002 4.20e+001 1.13e+008  -3.8 4.57e+002    -  6.04e-004 4.76e-004h  1\n",
      " 174 -5.5030876e+002 1.88e+001 4.41e+009  -3.8 4.60e+002    -  2.19e-003 5.71e-001f  1\n",
      " 175 -5.5030880e+002 1.88e+001 4.41e+009  -3.8 6.45e+001    -  2.42e-002 2.22e-004h  1\n",
      " 176 -5.5037209e+002 8.53e+000 3.10e+009  -3.8 8.70e+001    -  1.84e-003 5.48e-001f  1\n",
      " 177 -5.5037214e+002 8.53e+000 3.10e+009  -3.8 5.00e+002    -  5.73e-002 2.01e-004h  1\n",
      " 178 -5.5044925e+002 4.19e+000 3.03e+009  -3.8 2.75e+002    -  1.77e-003 5.31e-001f  1\n",
      " 179 -5.5044930e+002 4.19e+000 3.02e+009  -3.8 1.48e+003    -  6.11e-002 1.93e-004h  1\n",
      "iter    objective    inf_pr   inf_du lg(mu)  ||d||  lg(rg) alpha_du alpha_pr  ls\n",
      " 180 -5.5056031e+002 6.45e+000 5.62e+009  -3.8 1.14e+003    -  2.16e-003 6.33e-001f  1\n",
      " 181 -5.5056043e+002 6.44e+000 5.62e+009  -3.8 1.54e+003    -  1.02e-001 3.11e-004h  1\n",
      " 182 -5.5066384e+002 6.95e+000 7.99e+009  -3.8 1.11e+003    -  1.96e-003 6.37e-001f  1\n",
      " 183 -5.5066397e+002 6.95e+000 7.99e+009  -3.8 1.77e+002    -  7.39e-002 3.47e-004h  1\n",
      " 184 -5.5077576e+002 3.94e+000 1.77e+009  -3.8 2.22e+002    -  1.75e-002 4.47e-001f  1\n",
      " 185 -5.5077583e+002 3.94e+000 1.77e+009  -3.8 2.40e+002    -  1.76e-002 1.66e-004h  1\n",
      " 186 -5.5088845e+002 2.37e+000 4.50e+009  -3.8 2.54e+002    -  6.52e-003 4.27e-001f  1\n",
      " 187 -5.5088853e+002 2.36e+000 4.50e+009  -3.8 1.89e+002    -  1.25e-002 2.17e-004h  1\n",
      " 188 -5.5100053e+002 1.46e+000 4.32e+009  -3.8 1.90e+002    -  7.91e-003 4.07e-001f  1\n",
      " 189 -5.5100081e+002 1.46e+000 4.31e+009  -3.8 1.39e+002    -  8.51e-003 8.56e-004h  1\n",
      "iter    objective    inf_pr   inf_du lg(mu)  ||d||  lg(rg) alpha_du alpha_pr  ls\n",
      " 190 -5.5111087e+002 9.26e-001 5.59e+009  -3.8 1.37e+002    -  1.84e-002 3.82e-001f  1\n",
      " 191 -5.5111425e+002 8.73e-001 5.30e+009  -3.8 7.11e+001    -  3.02e-004 5.76e-002f  1\n",
      " 192 -5.5120595e+002 7.00e-001 7.25e+009  -3.8 1.15e+002    -  1.46e-002 2.04e-001f  1\n",
      " 193 -5.5135905e+002 6.27e-002 5.05e+011  -3.8 8.20e+001    -  5.80e-003 1.00e+000f  1\n",
      " 194 -5.5295911e+002 1.18e+000 5.54e+012  -3.8 2.97e+002    -  1.00e+000 1.00e+000f  1\n",
      " 195r-5.5295911e+002 1.18e+000 1.00e+003  -0.2 0.00e+000  13.7 0.00e+000 4.78e-008R  2\n",
      " 196r-5.5295860e+002 1.03e+000 7.59e+003  -0.2 6.39e+002    -  1.40e-003 1.28e-004f  1\n",
      " 197 -5.5271726e+002 2.70e-002 3.77e+006  -3.8 4.41e+001    -  1.03e-003 1.00e+000h  1\n",
      " 198 -5.5283081e+002 5.99e-003 2.02e+006  -3.8 2.13e+001    -  9.71e-001 9.99e-001h  1\n",
      " 199 -5.5374724e+002 3.94e-001 7.67e+007  -3.8 7.58e+002    -  8.01e-001 2.26e-001f  1\n",
      "iter    objective    inf_pr   inf_du lg(mu)  ||d||  lg(rg) alpha_du alpha_pr  ls\n",
      " 200 -5.5613802e+002 2.69e+000 6.63e+011  -3.8 4.85e+002    -  9.15e-001 9.27e-001f  1\n",
      " 201r-5.5613802e+002 2.69e+000 1.00e+003   0.2 0.00e+000  14.1 0.00e+000 4.86e-007R  3\n",
      " 202r-5.5613742e+002 2.54e+000 6.23e+003   0.2 1.45e+003    -  9.23e-004 5.61e-005f  1\n",
      " 203r-5.5613178e+002 1.90e-001 1.96e+004   0.2 7.47e+002    -  3.41e-004 1.87e-003f  1\n",
      " 204 -5.5612452e+002 1.08e-002 3.26e+005  -3.8 1.42e+000    -  3.37e-002 9.26e-001h  1\n",
      " 205 -5.5612456e+002 1.08e-002 3.30e+005  -3.8 5.36e+000    -  7.27e-001 1.25e-003h  1\n",
      " 206 -5.5576014e+002 6.21e-002 4.35e+006  -3.8 6.93e+001    -  1.66e-001 1.00e+000h  1\n",
      " 207 -5.5782771e+002 2.01e+000 1.73e+008  -3.8 4.61e+002    -  2.77e-002 8.51e-001f  1\n",
      " 208 -5.5786871e+002 1.82e+000 1.56e+008  -3.8 8.48e+001    -  1.30e-001 9.49e-002h  1\n",
      " 209 -5.5748500e+002 6.92e-002 2.57e+009  -3.8 7.17e+001    -  3.27e-001 1.00e+000h  1\n",
      "iter    objective    inf_pr   inf_du lg(mu)  ||d||  lg(rg) alpha_du alpha_pr  ls\n",
      " 210 -5.5830835e+002 3.20e-001 3.83e+009  -3.8 1.61e+002    -  9.59e-001 9.78e-001f  1\n",
      " 211 -5.6065576e+002 2.88e+000 1.14e+010  -3.8 3.48e+003    -  5.93e-001 1.30e-001f  1\n",
      " 212 -5.6065774e+002 2.88e+000 1.14e+010  -3.8 2.77e+003    -  1.46e-001 1.39e-004h  1\n",
      " 213 -5.6165654e+002 2.64e+000 2.23e+010  -3.8 7.91e+002    -  4.27e-002 2.46e-001f  1\n",
      " 214 -5.6165811e+002 2.64e+000 2.22e+010  -3.8 8.08e+002    -  6.11e-003 3.81e-004h  1\n",
      " 215 -5.6282867e+002 2.54e+000 3.44e+010  -3.8 7.99e+002    -  5.59e-001 2.87e-001f  1\n",
      " 216 -5.6282942e+002 2.54e+000 3.44e+010  -3.8 8.69e+002    -  2.93e-002 1.71e-004h  1\n",
      " 217 -5.6403891e+002 2.50e+000 3.87e+010  -3.8 8.20e+002    -  1.81e-001 2.90e-001f  1\n",
      " 218 -5.6403922e+002 2.50e+000 3.87e+010  -3.8 9.36e+002    -  2.32e-002 6.76e-005h  1\n",
      " 219 -5.6529079e+002 2.51e+000 3.84e+010  -3.8 8.45e+002    -  1.82e-001 2.93e-001f  1\n",
      "iter    objective    inf_pr   inf_du lg(mu)  ||d||  lg(rg) alpha_du alpha_pr  ls\n",
      " 220 -5.6529111e+002 2.51e+000 3.84e+010  -3.8 9.63e+002    -  2.60e-002 6.47e-005h  1\n",
      " 221 -5.6657935e+002 2.57e+000 3.49e+010  -3.8 8.72e+002    -  1.81e-001 2.94e-001f  1\n",
      " 222 -5.6657966e+002 2.57e+000 3.49e+010  -3.8 1.01e+003    -  3.33e-002 6.21e-005h  1\n",
      " 223 -5.6788887e+002 2.65e+000 2.80e+010  -3.8 9.01e+002    -  1.83e-001 2.91e-001f  1\n",
      " 224 -5.6789144e+002 2.65e+000 2.80e+010  -3.8 1.05e+003    -  1.40e-001 4.94e-004h  1\n",
      " 225 -5.6924479e+002 5.67e+001 5.63e+011  -3.8 2.46e+003    -  2.65e-004 1.00e+000f  1\n",
      " 226 -5.7030151e+002 5.64e+001 8.21e+010  -3.8 3.76e+003    -  2.64e-002 4.69e-001h  1\n",
      " 227 -5.7085508e+002 1.78e-001 1.10e+011  -3.8 1.14e+002    -  1.28e-001 1.00e+000h  1\n",
      " 228r-5.7085508e+002 1.78e-001 1.00e+003  -1.1 0.00e+000  13.6 0.00e+000 4.90e-007R  4\n",
      " 229r-5.7085423e+002 2.77e-002 1.65e+004  -1.1 5.91e+002    -  4.49e-003 9.90e-004f  1\n",
      "iter    objective    inf_pr   inf_du lg(mu)  ||d||  lg(rg) alpha_du alpha_pr  ls\n",
      " 230 -5.7059368e+002 3.31e-002 3.32e+006  -3.8 5.32e+001    -  6.35e-004 1.00e+000h  1\n",
      " 231 -5.7068158e+002 3.99e-003 1.88e+006  -3.8 1.81e+001    -  9.64e-001 9.93e-001h  1\n",
      " 232 -5.7129034e+002 1.84e-001 1.43e+007  -3.8 4.31e+002    -  9.36e-001 2.88e-001f  1\n",
      " 233 -5.7129258e+002 1.83e-001 3.20e+007  -3.8 9.12e+001    -  8.47e-001 5.03e-003h  1\n",
      " 234 -5.7150736e+002 1.98e-001 3.09e+010  -3.8 2.88e+002    -  9.11e-001 5.36e-001f  1\n",
      " 235r-5.7150736e+002 1.98e-001 1.00e+003  -1.1 0.00e+000  14.9 0.00e+000 2.73e-007R 11\n",
      " 236r-5.7150585e+002 2.71e-002 2.20e+004  -1.1 4.32e+002    -  5.82e-003 9.90e-004f  1\n",
      " 237 -5.7125002e+002 3.20e-002 2.41e+006  -3.8 5.24e+001    -  7.90e-004 1.00e+000h  1\n",
      " 238 -5.7133537e+002 3.78e-003 1.30e+006  -3.8 1.76e+001    -  9.59e-001 9.93e-001h  1\n",
      " 239 -5.7194495e+002 1.84e-001 1.80e+007  -3.8 3.61e+002    -  9.47e-001 3.45e-001f  1\n",
      "iter    objective    inf_pr   inf_du lg(mu)  ||d||  lg(rg) alpha_du alpha_pr  ls\n",
      " 240 -5.7194595e+002 1.84e-001 4.09e+007  -3.8 1.34e+002    -  9.12e-001 1.53e-003h  1\n",
      " 241 -5.7205392e+002 1.53e-001 6.66e+009  -3.8 4.27e+002    -  8.83e-001 1.99e-001f  1\n",
      " 242r-5.7205392e+002 1.53e-001 1.00e+003  -1.1 0.00e+000  14.5 0.00e+000 4.30e-007R 11\n",
      " 243r-5.7205167e+002 4.36e-002 2.31e+004  -1.1 4.71e+002    -  5.86e-003 9.87e-004f  1\n",
      " 244 -5.7180865e+002 2.89e-002 1.77e+006  -3.8 4.99e+001    -  9.66e-004 1.00e+000h  1\n",
      " 245 -5.7189062e+002 3.48e-003 9.72e+005  -3.8 1.70e+001    -  9.56e-001 9.93e-001h  1\n"
     ]
    },
    {
     "name": "stdout",
     "output_type": "stream",
     "text": [
      " 246 -5.7245970e+002 1.61e-001 1.80e+007  -3.8 3.18e+002    -  9.54e-001 3.68e-001f  1\n",
      " 247 -5.7246118e+002 1.60e-001 3.43e+007  -3.8 1.03e+002    -  9.30e-001 2.97e-003h  1\n",
      " 248 -5.7275712e+002 9.56e-001 6.10e+010  -3.8 5.08e+002    -  2.26e-001 6.64e-001f  1\n",
      " 249 -5.7314995e+002 9.38e-001 9.97e+010  -3.8 6.75e+002    -  4.22e-001 2.26e-001f  1\n",
      "iter    objective    inf_pr   inf_du lg(mu)  ||d||  lg(rg) alpha_du alpha_pr  ls\n",
      " 250 -5.7314974e+002 1.24e+000 2.32e+009  -3.8 3.82e+002    -  1.96e-001 1.00e+000h  1\n",
      " 251 -5.7314992e+002 1.88e+000 1.93e+008  -3.8 2.06e+002    -  1.15e-001 1.00e+000h  1\n",
      " 252 -5.7314980e+002 6.80e+000 1.97e+008  -3.8 7.56e+002    -  9.00e-001 1.00e+000h  1\n",
      " 253 -5.7314985e+002 3.05e+001 2.61e+005  -3.8 1.86e+003    -  9.62e-001 1.00e+000h  1\n",
      " 254 -5.7314985e+002 2.35e+001 1.45e+003  -3.8 1.57e+003    -  1.00e+000 1.00e+000h  1\n",
      " 255 -5.7314985e+002 4.83e-001 3.25e+000  -3.8 2.01e+002    -  1.00e+000 1.00e+000h  1\n",
      " 256 -5.7314985e+002 1.19e-003 1.75e-003  -3.8 1.06e+001    -  1.00e+000 1.00e+000h  1\n",
      " 257 -5.7315001e+002 9.39e-006 5.18e+004  -5.7 3.19e-002    -  1.00e+000 9.92e-001h  1\n",
      " 258 -5.7315000e+002 5.57e-010 4.94e+000  -5.7 7.60e-003    -  1.00e+000 1.00e+000f  1\n",
      " 259 -5.7315000e+002 3.17e-010 1.71e-007  -5.7 1.05e-003    -  1.00e+000 1.00e+000h  1\n",
      "iter    objective    inf_pr   inf_du lg(mu)  ||d||  lg(rg) alpha_du alpha_pr  ls\n",
      " 260 -5.7315001e+002 1.58e-010 7.79e+000  -8.6 3.80e-004    -  1.00e+000 1.00e+000h  1\n",
      " 261 -5.7315001e+002 1.57e-010 1.65e-006  -8.6 2.94e-004    -  1.00e+000 1.00e+000h  1\n",
      " 262 -5.7315001e+002 1.92e-010 5.85e-006  -9.0 1.21e-003    -  1.00e+000 1.00e+000h  1\n",
      " 263 -5.7315001e+002 8.48e-011 4.29e-011  -9.0 5.18e-004    -  1.00e+000 1.00e+000h  1\n",
      "\n",
      "Number of Iterations....: 263\n",
      "\n",
      "                                   (scaled)                 (unscaled)\n",
      "Objective...............: -5.7315000573059092e+002  -5.7315000573059092e+002\n",
      "Dual infeasibility......:  4.2947117865142000e-011   4.2947117865142000e-011\n",
      "Constraint violation....:  8.4788490464782207e-011   8.4788490464782207e-011\n",
      "Complementarity.........:  9.0909090909093392e-010   9.0909090909093392e-010\n",
      "Overall NLP error.......:  9.0909090909093392e-010   9.0909090909093392e-010\n",
      "\n",
      "\n",
      "Number of objective function evaluations             = 787\n",
      "Number of objective gradient evaluations             = 260\n",
      "Number of equality constraint evaluations            = 787\n",
      "Number of inequality constraint evaluations          = 0\n",
      "Number of equality constraint Jacobian evaluations   = 273\n",
      "Number of inequality constraint Jacobian evaluations = 0\n",
      "Number of Lagrangian Hessian evaluations             = 263\n",
      "Total CPU secs in IPOPT (w/o function evaluations)   =      8.081\n",
      "Total CPU secs in NLP function evaluations           =      0.534\n",
      "\n",
      "EXIT: Optimal Solution Found.\n"
     ]
    }
   ],
   "source": [
    "opt = pe.SolverFactory('ipopt')\n",
    "\n",
    "opt.options['print_user_options'] = 'yes'\n",
    "# opt.options['linear_solver'] = 'ma86'\n",
    "\n",
    "# opt.options['linear_system_scaling '] = 'mc19'\n",
    "opt.options['linear_scaling_on_demand '] = 'no'\n",
    "# opt.options['recalc_y'] = 'yes'\n",
    "# opt.options['bound_relax_factor'] = 0\n",
    "# opt.options['halt_on_ampl_error'] = 'yes'\n",
    "\n",
    "opt.options['max_iter'] = 7000\n",
    "results = opt.solve(model,tee=True)\n",
    "update_dual(pe,model)"
   ]
  },
  {
   "cell_type": "code",
   "execution_count": 25,
   "metadata": {},
   "outputs": [
    {
     "data": {
      "text/plain": [
       "599.2725473239377"
      ]
     },
     "execution_count": 25,
     "metadata": {},
     "output_type": "execute_result"
    }
   ],
   "source": [
    "model.reboiler.T.value"
   ]
  },
  {
   "cell_type": "code",
   "execution_count": 26,
   "metadata": {},
   "outputs": [
    {
     "data": {
      "text/plain": [
       "8.203494523688549e-08"
      ]
     },
     "execution_count": 26,
     "metadata": {},
     "output_type": "execute_result"
    }
   ],
   "source": [
    "model.reboiler.L['out'].value"
   ]
  },
  {
   "cell_type": "code",
   "execution_count": null,
   "metadata": {},
   "outputs": [],
   "source": [
    "model.reboiler.V['out'].value"
   ]
  },
  {
   "cell_type": "code",
   "execution_count": null,
   "metadata": {},
   "outputs": [],
   "source": [
    "model.reactive[1].L['out'].value"
   ]
  },
  {
   "cell_type": "code",
   "execution_count": null,
   "metadata": {
    "scrolled": false
   },
   "outputs": [],
   "source": [
    "beautify2(pe,model)"
   ]
  },
  {
   "cell_type": "code",
   "execution_count": null,
   "metadata": {},
   "outputs": [],
   "source": [
    "model.reactive[1].kinetics_block.r_FT_total.value"
   ]
  },
  {
   "cell_type": "code",
   "execution_count": null,
   "metadata": {
    "collapsed": true
   },
   "outputs": [],
   "source": [
    "# model.solutions.store_to(results)\n",
    "# with open('../saved_solutions/3_stage_condenser_240C.pickle','wb') as f:\n",
    "#     pickle.dump(results,f)"
   ]
  },
  {
   "cell_type": "markdown",
   "metadata": {},
   "source": [
    "# So, what exactly does adding a reflux do?"
   ]
  },
  {
   "cell_type": "code",
   "execution_count": null,
   "metadata": {
    "collapsed": true
   },
   "outputs": [],
   "source": [
    "opt.options['warm_start_init_point'] = 'yes'\n",
    "opt.options['warm_start_bound_push'] = 1e-20\n",
    "opt.options['warm_start_mult_bound_push'] = 1e-20\n",
    "opt.options['mu_init'] = 1e-6"
   ]
  },
  {
   "cell_type": "code",
   "execution_count": null,
   "metadata": {
    "collapsed": true
   },
   "outputs": [],
   "source": [
    "results_anchor = results\n",
    "update_dual(pe,model)\n",
    "model.solutions.store_to(results_anchor)"
   ]
  },
  {
   "cell_type": "code",
   "execution_count": null,
   "metadata": {
    "collapsed": true
   },
   "outputs": [],
   "source": [
    "Refluxrange = np.linspace(0,2,21)\n",
    "Trange = np.linspace(300+273.15,200+273.15,21)"
   ]
  },
  {
   "cell_type": "code",
   "execution_count": null,
   "metadata": {
    "scrolled": false
   },
   "outputs": [],
   "source": [
    "cd_data_master = {}\n",
    "rf_data_master = {}\n",
    "\n",
    "for t in Trange:\n",
    "    model.del_component(model.obj)\n",
    "#     model.obj = pe.Objective(expr = sum(model.reactive[j].T - model.reactive[j].MPCC.pf for j in model.TRAY) ,sense=pe.maximize)\n",
    "    model.obj = pe.Objective(expr = sum(model.reactive[j].T for j in model.TRAY) ,sense=pe.maximize)\n",
    "    model.solutions.load_from(results_anchor)\n",
    "    update_dual(pe,model)\n",
    "    \n",
    "    for j in model.reactive:\n",
    "        model.reactive[j].T.fixed = False\n",
    "        model.reactive[j].T.setub(t)\n",
    "        model.reactive[j].T = t\n",
    "    model.condenser.L['out'].fix(0)\n",
    "    \n",
    "    results_anchor = opt.solve(model,tee=False)\n",
    "    model.solutions.store_to(results_anchor)\n",
    "    \n",
    "    model.del_component(model.obj)\n",
    "#     model.obj = pe.Objective(expr = model.condenser.L['out'] - sum(model.reactive[j].MPCC.pf for j in model.TRAY),sense=pe.maximize)\n",
    "    model.obj = pe.Objective(expr = model.condenser.L['out'],sense=pe.maximize)\n",
    "    model.condenser.L['out'].fixed = False\n",
    "    for j in model.reactive:\n",
    "        model.reactive[j].T.fixed=True\n",
    "    \n",
    "    print('\\nWorking on T = {} K'.format(model.reactive[1].T.value))\n",
    "    print('-'*120)\n",
    "    \n",
    "    cd_data = {};\n",
    "    cd_data['Re'] = []; cd_data['D'] = []; cd_data['V'] = []\n",
    "    cd_data['x'] = {}; cd_data['y'] = {}; cd_data['g'] = {}; cd_data['d'] = {}; cd_data['b'] = {}\n",
    "    for i in m.COMP_TOTAL:\n",
    "        cd_data['x'][i] = []\n",
    "        cd_data['y'][i] = []\n",
    "        cd_data['g'][i] = []\n",
    "        cd_data['d'][i] = []\n",
    "        cd_data['b'][i] = []\n",
    "\n",
    "    rf_data = {}\n",
    "    for j in model.reactive:\n",
    "        rf_data[j] = {}\n",
    "        rf_data[j]['r'] = {}; rf_data[j]['b'] = {}; rf_data[j]['x'] = {};rf_data[j]['y'] = {};\n",
    "        rf_data[j]['T'] = []; rf_data[j]['Q'] = []; rf_data[j]['V'] = []; rf_data[j]['L'] = []; \n",
    "        rf_data[j]['r_WGS'] = []; rf_data[j]['r_FT'] = []; rf_data[j]['pf'] = []\n",
    "        for i in m.COMP_TOTAL:\n",
    "            rf_data[j]['r'][i] = []\n",
    "            rf_data[j]['b'][i] = []\n",
    "            rf_data[j]['x'][i] = []\n",
    "            rf_data[j]['y'][i] = []       \n",
    "\n",
    "    for re in Refluxrange:\n",
    "        model.condenser.L['out'].setub(re)\n",
    "        results = opt.solve(model,tee=False)\n",
    "        update_dual(pe,model)\n",
    "        print('Solved\\t|Reflux = {:.3f} kmol/s |Vapor = {:.3f} kmol/s |Distillate = {:.3f} kmol/s |Bottom = {:.3f} kmol/s |T_reb = {:.2f}K'.\\\n",
    "              format(model.condenser.L['out'].value,model.condenser.V['out'].value,model.condenser.L['P'].value,model.reboiler.L['out'].value,model.reboiler.T.value))\n",
    "\n",
    "        cd_data['V'].append(model.condenser.V['out'].value)\n",
    "        cd_data['D'].append(model.condenser.L['P'].value)\n",
    "        cd_data['Re'].append(model.condenser.L['out'].value)\n",
    "\n",
    "        for i in model.reactive[1].r_total_comp:\n",
    "            cd_data['x'][i].append(model.condenser.x[i].value)\n",
    "            cd_data['y'][i].append(model.condenser.y[i].value)\n",
    "            cd_data['g'][i].append(model.condenser.y[i].value*model.condenser.V['out'].value)\n",
    "            cd_data['d'][i].append(model.condenser.x[i].value*model.condenser.L['P'].value)\n",
    "            cd_data['b'][i].append(model.condenser.x[i].value*model.condenser.L['out'].value)\n",
    "\n",
    "        for j in model.reactive:      \n",
    "            rf_data[j]['T'].append(model.reactive[j].T.value)\n",
    "            rf_data[j]['Q'].append(model.reactive[j].Q_main.value)\n",
    "            rf_data[j]['V'].append(model.reactive[j].V['out'].value)\n",
    "            rf_data[j]['L'].append(model.reactive[j].L['out'].value)\n",
    "            rf_data[j]['r_WGS'].append(model.reactive[j].kinetics_block.r_WGS.value)\n",
    "            rf_data[j]['r_FT'].append(model.reactive[j].kinetics_block.r_FT_total.value)\n",
    "#             rf_data[j]['pf'].append(model.reactive[j].MPCC.pf.value)\n",
    "#             rf_data[j]['s_L'].append(model.reactive[j].MPCC.s_L.value)\n",
    "\n",
    "            for i in model.reactive[1].r_total_comp:\n",
    "                rf_data[j]['r'][i].append(model.reactive[j].r_total_comp[i].value)\n",
    "                rf_data[j]['b'][i].append(model.reactive[j].x[i].value*model.reactive[j].L['out'].value)\n",
    "                rf_data[j]['x'][i].append(model.reactive[j].x[i].value)\n",
    "                rf_data[j]['y'][i].append(model.reactive[j].y[i].value)\n",
    "        \n",
    "    cd_data_master[t] = cd_data\n",
    "    rf_data_master[t] = rf_data"
   ]
  },
  {
   "cell_type": "code",
   "execution_count": null,
   "metadata": {
    "collapsed": true
   },
   "outputs": [],
   "source": [
    "cnumber_range = range(1,57)"
   ]
  },
  {
   "cell_type": "code",
   "execution_count": null,
   "metadata": {
    "collapsed": true
   },
   "outputs": [],
   "source": [
    "def trans_cnumber(dic):\n",
    "    molefraction = {}\n",
    "    for i in range(1,57):\n",
    "        molefraction[i] = []\n",
    "    for i in m.COMP_ORG:\n",
    "        molefraction[cal_cnumber(i)].append(np.array(dic[i]))\n",
    "    for i in range(1,57):\n",
    "        molefraction[i] = np.sum(molefraction[i],0)\n",
    "    length = len(molefraction[1])\n",
    "    tmp = {}\n",
    "    for j in range(length):\n",
    "        tmp[j] = []\n",
    "        for i in range(1,57):\n",
    "            tmp[j].append(molefraction[i][j])\n",
    "    return tmp"
   ]
  },
  {
   "cell_type": "code",
   "execution_count": null,
   "metadata": {},
   "outputs": [],
   "source": [
    "g_data = {}\n",
    "d_data = {}\n",
    "lr_data = {}\n",
    "l1_data = {}\n",
    "l2_data = {}\n",
    "l3_data = {}\n",
    "\n",
    "cd_x_data = {}\n",
    "rf_x_data = {}\n",
    "\n",
    "for t in Trange:\n",
    "\n",
    "    g_data[t] = trans_cnumber(cd_data_master[t]['g'])\n",
    "    d_data[t] = trans_cnumber(cd_data_master[t]['d'])\n",
    "    lr_data[t] = trans_cnumber(cd_data_master[t]['d'])\n",
    "    l1_data[t] = trans_cnumber(rf_data_master[t][1]['b'])\n",
    "    l2_data[t] = trans_cnumber(rf_data_master[t][2]['b'])\n",
    "    l3_data[t] = trans_cnumber(rf_data_master[t][3]['b'])\n",
    "    \n",
    "    cd_x_data[t] = trans_cnumber(cd_data_master[t]['x'])\n",
    "    rf_x_data[t] = {}\n",
    "    for j in model.reactive:\n",
    "        rf_x_data[t][j] = trans_cnumber(rf_data_master[t][j]['x'])"
   ]
  },
  {
   "cell_type": "code",
   "execution_count": null,
   "metadata": {
    "collapsed": true
   },
   "outputs": [],
   "source": [
    " def plot_distribution(index,temperature):\n",
    "    fig, (ax,ax2) = plt.subplots(2,1,figsize=(16,12))\n",
    "    ax.plot(cnumber_range,g_data[temperature][index],'co-')\n",
    "    ax.plot(cnumber_range,d_data[temperature][index],'go-')\n",
    "    ax.plot(cnumber_range,lr_data[temperature][index],'ro-',alpha=0.1)\n",
    "    ax.plot(cnumber_range,l1_data[temperature][index],'ro-',alpha=0.3)\n",
    "    ax.plot(cnumber_range,l2_data[temperature][index],'ro-',alpha=0.5)\n",
    "    ax.plot(cnumber_range,l3_data[temperature][index],'ro-')\n",
    "    ax.set_yscale(\"log\")\n",
    "    ax.set_ylim(1e-12, 1)\n",
    "    ax.legend(['Vapor','Distillate','Reflux','L1','L2','Bottom'],fontsize=18)\n",
    "    ax.set_title('T, Reflux {:.2f} kmol/s'.format(cd_data_master[temperature]['Re'][index]),fontsize=18)\n",
    "\n",
    "    ax.set_ylabel('Molar Flow (kmol/s)', color='K',fontsize=18)\n",
    "    ax.set_xlabel('Carbon Number', color='K',fontsize=18)\n",
    "    # ax.tick_params('y', colors='k',labelsize=18)\n",
    "    # ax.tick_params('x', colors='k',labelsize=18)\n",
    "\n",
    "    ax2.plot(cnumber_range,cd_x_data[temperature][index],'go-')\n",
    "    ax2.plot(cnumber_range,rf_x_data[temperature][1][index],'co-')\n",
    "    ax2.plot(cnumber_range,rf_x_data[temperature][2][index],'bo-')\n",
    "    ax2.plot(cnumber_range,rf_x_data[temperature][3][index],'ro-')\n",
    "\n",
    "    ax2.set_ylim(0, 0.2)\n",
    "    ax2.legend(['Condenser','Stage 1','Stage 2','Stage 3'],fontsize=18)\n",
    "    ax2.set_title('Liquid Composition (Mole)',fontsize=18)\n",
    "\n",
    "    ax2.set_ylabel('Molar Fraction', color='K',fontsize=18)\n",
    "    ax2.set_xlabel('Carbon Number', color='K',fontsize=18)\n",
    "\n",
    "    ax.grid()\n",
    "    ax2.grid()\n",
    "    plt.show()"
   ]
  },
  {
   "cell_type": "code",
   "execution_count": null,
   "metadata": {
    "scrolled": false
   },
   "outputs": [],
   "source": [
    "widgets.interact(plot_distribution, index = widgets.IntSlider(\n",
    "    value=0,\n",
    "    min=0,\n",
    "    max=20,\n",
    "    step=1,\n",
    "    description='Reflux:'),temperature=widgets.SelectionSlider(\n",
    "    options=Trange,\n",
    "    value=Trange[0],\n",
    "    description='Temperature',\n",
    "    disabled=False,\n",
    "    continuous_update=False,\n",
    "    orientation='horizontal',\n",
    "    readout=True)\n",
    ");"
   ]
  },
  {
   "cell_type": "code",
   "execution_count": null,
   "metadata": {
    "scrolled": false
   },
   "outputs": [],
   "source": [
    "plot_distribution(20,523.15)"
   ]
  },
  {
   "cell_type": "code",
   "execution_count": null,
   "metadata": {
    "collapsed": true
   },
   "outputs": [],
   "source": []
  }
 ],
 "metadata": {
  "kernelspec": {
   "display_name": "Python 3",
   "language": "python",
   "name": "python3"
  },
  "language_info": {
   "codemirror_mode": {
    "name": "ipython",
    "version": 3
   },
   "file_extension": ".py",
   "mimetype": "text/x-python",
   "name": "python",
   "nbconvert_exporter": "python",
   "pygments_lexer": "ipython3",
   "version": "3.6.3"
  }
 },
 "nbformat": 4,
 "nbformat_minor": 2
}
