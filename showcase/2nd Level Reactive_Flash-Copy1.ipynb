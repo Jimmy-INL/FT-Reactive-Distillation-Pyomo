{
 "cells": [
  {
   "cell_type": "markdown",
   "metadata": {
    "slideshow": {
     "slide_type": "slide"
    }
   },
   "source": [
    "# 2nd Level Model Structure: Reactive Stage"
   ]
  },
  {
   "cell_type": "code",
   "execution_count": 1,
   "metadata": {},
   "outputs": [],
   "source": [
    "import sys\n",
    "import os\n",
    "import pickle\n",
    "sys.path.append(os.path.abspath('..'))\n",
    "import numpy as np\n",
    "from matplotlib import pyplot as plt"
   ]
  },
  {
   "cell_type": "code",
   "execution_count": 2,
   "metadata": {
    "slideshow": {
     "slide_type": "fragment"
    }
   },
   "outputs": [],
   "source": [
    "from pyomo import environ as pe\n",
    "from global_sets.component import m\n",
    "from utility.display_utility import trans_product_mole, trans_product_mass\n",
    "from utility.model_utility import add_dual, update_dual, check_DOF\n",
    "\n",
    "# stage construction rules\n",
    "from physics.kinetics_bounded import kinetic_block_rule\n",
    "from physics.energy_bounded import energy_block_rule\n",
    "from physics.VLE_bounded_MPCC_P import VLE_block_rule\n",
    "from physics.MPCC_T import dew_block_rule\n",
    "\n",
    "model = pe.ConcreteModel()"
   ]
  },
  {
   "cell_type": "markdown",
   "metadata": {
    "slideshow": {
     "slide_type": "subslide"
    }
   },
   "source": [
    "# Global Sets (Inlet / Outlet)"
   ]
  },
  {
   "cell_type": "code",
   "execution_count": 3,
   "metadata": {
    "slideshow": {
     "slide_type": "fragment"
    }
   },
   "outputs": [],
   "source": [
    "model.inlet = pe.Set(initialize=['in'])\n",
    "model.outlet = pe.Set(initialize=['out','P'])\n",
    "model.stream = model.inlet | model.outlet"
   ]
  },
  {
   "cell_type": "markdown",
   "metadata": {
    "slideshow": {
     "slide_type": "subslide"
    }
   },
   "source": [
    "# Global Variables"
   ]
  },
  {
   "cell_type": "code",
   "execution_count": 4,
   "metadata": {
    "slideshow": {
     "slide_type": "fragment"
    }
   },
   "outputs": [],
   "source": [
    "# Tray Inlet/Outlet Variable\n",
    "model.x_ = pe.Var(model.inlet,m.COMP_TOTAL,within=pe.NonNegativeReals)\n",
    "model.y_ = pe.Var(model.inlet,m.COMP_TOTAL,within=pe.NonNegativeReals)\n",
    "model.x = pe.Var(m.COMP_TOTAL,within=pe.NonNegativeReals)\n",
    "model.y = pe.Var(m.COMP_TOTAL,within=pe.NonNegativeReals)\n",
    "model.z = pe.Var(m.COMP_FEED,within=pe.NonNegativeReals)\n",
    "\n",
    "model.L = pe.Var(model.stream,within=pe.NonNegativeReals)\n",
    "model.V = pe.Var(model.stream,within=pe.NonNegativeReals)\n",
    "model.F = pe.Var(within=pe.NonNegativeReals)\n",
    "\n",
    "model.H_L_ = pe.Var(model.inlet,within=pe.Reals)\n",
    "model.H_V_ = pe.Var(model.inlet,within=pe.Reals)\n",
    "model.H_L = pe.Var(within=pe.Reals)\n",
    "model.H_V = pe.Var(within=pe.Reals)\n",
    "model.H_F = pe.Var(within=pe.Reals)\n",
    "\n",
    "# State Variable\n",
    "model.T = pe.Var(within=pe.NonNegativeReals,bounds=(200+273.15,300+273.15)) # K\n",
    "model.T_F = pe.Var(within=pe.NonNegativeReals) # K\n",
    "model.P = pe.Var(within=pe.NonNegativeReals,bounds=(10,30)) # Bar\n",
    "\n",
    "model.f_V = pe.Var(m.COMP_TOTAL,within=pe.NonNegativeReals,initialize=1e-20)\n",
    "model.f_L = pe.Var(m.COMP_TOTAL,within=pe.NonNegativeReals,initialize=1e-20)\n",
    "\n",
    "model.cat = pe.Var(within=pe.NonNegativeReals) # kg\n",
    "model.Q_main = pe.Var(within=pe.Reals) # MW\n",
    "model.r_total_comp = pe.Var(m.COMP_TOTAL,within=pe.Reals) # kmol/s"
   ]
  },
  {
   "cell_type": "markdown",
   "metadata": {
    "slideshow": {
     "slide_type": "slide"
    }
   },
   "source": [
    "# Construct Individual Blocks"
   ]
  },
  {
   "cell_type": "code",
   "execution_count": 5,
   "metadata": {
    "slideshow": {
     "slide_type": "subslide"
    }
   },
   "outputs": [
    {
     "name": "stdout",
     "output_type": "stream",
     "text": [
      "> Importing Kinetics Blocks......\n",
      "> Adding the following local variable:\n",
      "--------------------------------------------------\n",
      "| kinetics_block.k_FT\n",
      "| kinetics_block.r_FT_total\n",
      "| kinetics_block.g0_FT\n",
      "| kinetics_block.alpha\n",
      "| kinetics_block.r_FT_cnum\n",
      "| kinetics_block.r_FT_comp\n",
      "| kinetics_block.k_WGS\n",
      "| kinetics_block.Ke_WGS\n",
      "| kinetics_block.r_WGS\n",
      "| kinetics_block.r_WGS_comp\n",
      "--------------------------------------------------\n",
      "\n"
     ]
    }
   ],
   "source": [
    "model.kinetics_block = pe.Block(rule=kinetic_block_rule)"
   ]
  },
  {
   "cell_type": "code",
   "execution_count": 6,
   "metadata": {
    "slideshow": {
     "slide_type": "subslide"
    }
   },
   "outputs": [
    {
     "name": "stdout",
     "output_type": "stream",
     "text": [
      "> Importing Energy Blocks......\n",
      "> Adding the following local variable:\n",
      "--------------------------------------------------\n",
      "| energy_block.dH_F\n",
      "| energy_block.dH_V\n",
      "| energy_block.dH_L\n",
      "| energy_block.dH_vap\n",
      "--------------------------------------------------\n",
      "\n"
     ]
    }
   ],
   "source": [
    "model.energy_block = pe.Block(rule=energy_block_rule)"
   ]
  },
  {
   "cell_type": "code",
   "execution_count": 7,
   "metadata": {
    "scrolled": false,
    "slideshow": {
     "slide_type": "subslide"
    }
   },
   "outputs": [
    {
     "name": "stdout",
     "output_type": "stream",
     "text": [
      "> Importing VLE Blocks......\n",
      "> Adding the following local variable:\n",
      "--------------------------------------------------\n",
      "| VLE_block.P_VLE\n",
      "| VLE_block.n_ave\n",
      "| VLE_block.n_ave_cal\n",
      "| VLE_block.Hen\n",
      "| VLE_block.Hen0\n",
      "| VLE_block.gamma\n",
      "| VLE_block.P_sat\n",
      "| VLE_block.P_sat_Y\n",
      "| VLE_block.P_sat_dY_inf\n",
      "| VLE_block.P_sat_dY0\n",
      "| VLE_block.Hen_ref\n",
      "| VLE_block.Hen0_ref\n",
      "| VLE_block.gamma_ref\n",
      "| VLE_block.V_L\n",
      "| VLE_block.V_L_dY_inf\n",
      "| VLE_block.V_L_dY0\n",
      "| VLE_block.poynting\n",
      "--------------------------------------------------\n",
      "\n"
     ]
    }
   ],
   "source": [
    "model.VLE_block = pe.Block(rule=VLE_block_rule)"
   ]
  },
  {
   "cell_type": "markdown",
   "metadata": {
    "slideshow": {
     "slide_type": "slide"
    }
   },
   "source": [
    "# Standard MESH Equations"
   ]
  },
  {
   "cell_type": "markdown",
   "metadata": {
    "slideshow": {
     "slide_type": "subslide"
    }
   },
   "source": [
    "## Mass Balance"
   ]
  },
  {
   "cell_type": "markdown",
   "metadata": {
    "slideshow": {
     "slide_type": "fragment"
    }
   },
   "source": [
    "\\begin{equation}\n",
    "Fz_{i}+\\sum_{s\\in{inlet}}L_{s}x'_{i,s}+\\sum_{s\\in{inlet}}V_{s}y'_{i,s}-\\sum_{s\\in{outlet}}L_{s}x_{i,s}+\\sum_{s\\in{ouelet}}V_{s}y_{i,s}+R_{i} = 0 \\\\\n",
    "i = 1,...NC\n",
    "\\end{equation}"
   ]
  },
  {
   "cell_type": "code",
   "execution_count": 8,
   "metadata": {
    "slideshow": {
     "slide_type": "fragment"
    }
   },
   "outputs": [],
   "source": [
    "def mass_balance_main_rule(model,i):\n",
    "    if i in m.COMP_FEED:\n",
    "        return model.F*model.z[i] + sum(model.L[s]*model.x_[s,i] + model.V[s]*model.y_[s,i] for s in model.inlet)\\\n",
    "        + model.r_total_comp[i] - sum(model.L[s]*model.x[i] + model.V[s]*model.y[i] for s in model.outlet) == 0\n",
    "    else:\n",
    "        return sum(model.L[s]*model.x_[s,i] + model.V[s]*model.y_[s,i] for s in model.inlet)\\\n",
    "        + model.r_total_comp[i] - sum(model.L[s]*model.x[i] + model.V[s]*model.y[i] for s in model.outlet) == 0\n",
    "model.mass_balance_main_con = pe.Constraint(m.COMP_TOTAL,rule=mass_balance_main_rule)"
   ]
  },
  {
   "cell_type": "markdown",
   "metadata": {
    "slideshow": {
     "slide_type": "subslide"
    }
   },
   "source": [
    "## Equilibrium"
   ]
  },
  {
   "cell_type": "markdown",
   "metadata": {
    "slideshow": {
     "slide_type": "fragment"
    }
   },
   "source": [
    "\\begin{align}\n",
    "&f_{i,V} = f_{i,L} \\\\\n",
    "&i = 1,...NC\n",
    "\\end{align}"
   ]
  },
  {
   "cell_type": "code",
   "execution_count": 9,
   "metadata": {
    "slideshow": {
     "slide_type": "fragment"
    }
   },
   "outputs": [],
   "source": [
    "def VL_equil_rule(model,i):\n",
    "    return model.f_V[i] == model.f_L[i]\n",
    "model.VL_equil_con = pe.Constraint(m.COMP_TOTAL,rule=VL_equil_rule)"
   ]
  },
  {
   "cell_type": "code",
   "execution_count": 10,
   "metadata": {},
   "outputs": [
    {
     "name": "stdout",
     "output_type": "stream",
     "text": [
      "> Importing dew Blocks......\n",
      "> Adding the following local variable:\n",
      "------------------------------------\n",
      "| MPCC.x\n",
      "| MPCC.y\n",
      "| MPCC.T\n",
      "| MPCC.P\n",
      "| MPCC.f_V\n",
      "| MPCC.f_L\n",
      "| MPCC.beta\n",
      "| MPCC.s_L\n",
      "| MPCC.s_V\n",
      "| MPCC.epi\n",
      "------------------------------------\n",
      "\n",
      "> Importing VLE Blocks......\n",
      "> Adding the following local variable:\n",
      "--------------------------------------------------\n",
      "| MPCC.VLE_block.n_ave\n",
      "| MPCC.VLE_block.n_ave_cal\n",
      "| MPCC.VLE_block.Hen\n",
      "| MPCC.VLE_block.Hen0\n",
      "| MPCC.VLE_block.gamma\n",
      "| MPCC.VLE_block.P_sat\n",
      "| MPCC.VLE_block.P_sat_Y\n",
      "| MPCC.VLE_block.P_sat_dY_inf\n",
      "| MPCC.VLE_block.P_sat_dY0\n",
      "| MPCC.VLE_block.Hen_ref\n",
      "| MPCC.VLE_block.Hen0_ref\n",
      "| MPCC.VLE_block.gamma_ref\n",
      "| MPCC.VLE_block.V_L\n",
      "| MPCC.VLE_block.V_L_dY_inf\n",
      "| MPCC.VLE_block.V_L_dY0\n",
      "| MPCC.VLE_block.poynting\n",
      "--------------------------------------------------\n",
      "\n"
     ]
    }
   ],
   "source": [
    "model.MPCC = pe.Block(rule=dew_block_rule)"
   ]
  },
  {
   "cell_type": "markdown",
   "metadata": {
    "slideshow": {
     "slide_type": "subslide"
    }
   },
   "source": [
    "## Summation"
   ]
  },
  {
   "cell_type": "markdown",
   "metadata": {
    "slideshow": {
     "slide_type": "fragment"
    }
   },
   "source": [
    "\\begin{equation}\n",
    "\\sum_ix_{i} = \\sum_iy_{i} \\\\\n",
    "F + L_{in} + V_{in} + R = L_{out} + V_{out}\n",
    "\\end{equation}"
   ]
  },
  {
   "cell_type": "code",
   "execution_count": 11,
   "metadata": {
    "slideshow": {
     "slide_type": "fragment"
    }
   },
   "outputs": [],
   "source": [
    "def summation_x_y_rule(model):\n",
    "    return sum(model.x[i] for i in m.COMP_TOTAL) == sum(model.y[i] for i in m.COMP_TOTAL)\n",
    "model.summation_x_y_con = pe.Constraint(rule=summation_x_y_rule)\n",
    "\n",
    "def summation_total_mass_rule(model):\n",
    "    return model.F + sum(model.L[s] + model.V[s] for s in model.inlet) + sum(model.r_total_comp[i] for i in m.COMP_TOTAL)\\\n",
    "            - sum(model.L[s] + model.V[s] for s in model.outlet) == 0\n",
    "model.summation_total_mass_con = pe.Constraint(rule=summation_total_mass_rule)"
   ]
  },
  {
   "cell_type": "markdown",
   "metadata": {
    "slideshow": {
     "slide_type": "subslide"
    }
   },
   "source": [
    "## Energy Balance"
   ]
  },
  {
   "cell_type": "markdown",
   "metadata": {
    "slideshow": {
     "slide_type": "fragment"
    }
   },
   "source": [
    "\\begin{equation}\n",
    "F H_f+\\sum_{s\\in{inlet}}L_{s}H_{l,s}+\\sum_{s\\in{inlet}}V_{s}H_{v,s}-\\sum_{s\\in{outlet}}L_{s}H_{l,s}-\\sum_{s\\in{outlet}}V_{s}H_{v,s}+Q = 0\n",
    "\\end{equation}"
   ]
  },
  {
   "cell_type": "code",
   "execution_count": 12,
   "metadata": {
    "slideshow": {
     "slide_type": "fragment"
    }
   },
   "outputs": [],
   "source": [
    "def heat_balance_main_rule(model):\n",
    "    return model.F*model.H_F + sum(model.L[s]*model.H_L_[s] + model.V[s]*model.H_V_[s] for s in model.inlet) \\\n",
    "            + model.Q_main - sum(model.L[s]*model.H_L + model.V[s]*model.H_V for s in model.outlet) == 0\n",
    "model.heat_balance_main_con = pe.Constraint(rule=heat_balance_main_rule)"
   ]
  },
  {
   "cell_type": "markdown",
   "metadata": {
    "slideshow": {
     "slide_type": "slide"
    }
   },
   "source": [
    "# Testing"
   ]
  },
  {
   "cell_type": "code",
   "execution_count": 13,
   "metadata": {
    "slideshow": {
     "slide_type": "fragment"
    }
   },
   "outputs": [
    {
     "name": "stdout",
     "output_type": "stream",
     "text": [
      "Created the follow pyomo suffixes:\n",
      "ipopt_zL_out, ipopt_zU_out, ipopt_zL_in, ipopt_zU_in, dual\n"
     ]
    }
   ],
   "source": [
    "add_dual(pe,model)"
   ]
  },
  {
   "cell_type": "markdown",
   "metadata": {
    "slideshow": {
     "slide_type": "fragment"
    }
   },
   "source": [
    "## Fixing In/Product Redundent Flow"
   ]
  },
  {
   "cell_type": "code",
   "execution_count": 14,
   "metadata": {
    "slideshow": {
     "slide_type": "fragment"
    }
   },
   "outputs": [],
   "source": [
    "model.x_.fix(0)\n",
    "model.y_.fix(0)\n",
    "model.L['in'].fix(0)\n",
    "model.L['P'].fix(0)\n",
    "model.V['in'].fix(0)\n",
    "model.V['P'].fix(0)\n",
    "model.H_L_.fix(0)\n",
    "model.H_V_.fix(0)"
   ]
  },
  {
   "cell_type": "markdown",
   "metadata": {
    "slideshow": {
     "slide_type": "subslide"
    }
   },
   "source": [
    "## Fixing Model Parameters"
   ]
  },
  {
   "cell_type": "code",
   "execution_count": 15,
   "metadata": {
    "slideshow": {
     "slide_type": "fragment"
    }
   },
   "outputs": [],
   "source": [
    "model.cat.fix(300)\n",
    "model.P.fix(20)\n",
    "model.T_F.fix(200+273.15)\n",
    "model.F.fix(1)\n",
    "model.z['CO'].fix(1/(1+0.8)-0/2)\n",
    "model.z['H2'].fix(0.8/(1+0.8)-0/2)\n",
    "model.z['C30H62'].fix(0)\n",
    "model.VLE_block.n_ave.fix(20)"
   ]
  },
  {
   "cell_type": "code",
   "execution_count": 16,
   "metadata": {
    "scrolled": true,
    "slideshow": {
     "slide_type": "fragment"
    }
   },
   "outputs": [
    {
     "name": "stdout",
     "output_type": "stream",
     "text": [
      "Active Equality Constraints:\t 1895\n",
      "Active Inequality Constraints:\t 2\n",
      "Active Variables:\t\t 2071\n",
      "Fixed Variables:\t\t 173\n",
      "DOF:\t\t\t\t 3\n"
     ]
    }
   ],
   "source": [
    "check_DOF(pe,model)"
   ]
  },
  {
   "cell_type": "markdown",
   "metadata": {
    "slideshow": {
     "slide_type": "subslide"
    }
   },
   "source": [
    "## Fix T or to fix Q? we have found that Maximize against an upper bound is most reliable"
   ]
  },
  {
   "cell_type": "code",
   "execution_count": 17,
   "metadata": {
    "slideshow": {
     "slide_type": "fragment"
    }
   },
   "outputs": [],
   "source": [
    "model.T.setub(210+273.15)"
   ]
  },
  {
   "cell_type": "code",
   "execution_count": 18,
   "metadata": {
    "slideshow": {
     "slide_type": "fragment"
    }
   },
   "outputs": [],
   "source": [
    "# model.obj = pe.Objective(expr = model.L['out'],sense=pe.maximize)\n",
    "# model.obj = pe.Objective(expr = model.Q_main,sense=pe.maximize)\n",
    "model.obj = pe.Objective(expr = model.T,sense=pe.maximize)"
   ]
  },
  {
   "cell_type": "code",
   "execution_count": 19,
   "metadata": {
    "scrolled": false,
    "slideshow": {
     "slide_type": "fragment"
    }
   },
   "outputs": [
    {
     "name": "stdout",
     "output_type": "stream",
     "text": [
      "Ipopt 3.12.8: print_user_options=yes\n",
      "linear_solver=ma86\n",
      "linear_system_scaling =mc19\n",
      "linear_scaling_on_demand =no\n",
      "max_iter=7000\n",
      "\n",
      "\n",
      "List of user-set options:\n",
      "\n",
      "                                    Name   Value                used\n",
      "                linear_scaling_on_demand = no                    yes\n",
      "                           linear_solver = ma86                  yes\n",
      "                   linear_system_scaling = mc19                  yes\n",
      "                                max_iter = 7000                  yes\n",
      "                      print_user_options = yes                   yes\n",
      "\n",
      "******************************************************************************\n",
      "This program contains Ipopt, a library for large-scale nonlinear optimization.\n",
      " Ipopt is released as open source code under the Eclipse Public License (EPL).\n",
      "         For more information visit http://projects.coin-or.org/Ipopt\n",
      "******************************************************************************\n",
      "\n",
      "This is Ipopt version 3.12.8, running with linear solver ma86.\n",
      "\n",
      "Number of nonzeros in equality constraint Jacobian...:     6511\n",
      "Number of nonzeros in inequality constraint Jacobian.:        4\n",
      "Number of nonzeros in Lagrangian Hessian.............:     8710\n",
      "\n",
      "Total number of variables............................:     1898\n",
      "                     variables with only lower bounds:      702\n",
      "                variables with lower and upper bounds:     1025\n",
      "                     variables with only upper bounds:        0\n",
      "Total number of equality constraints.................:     1895\n",
      "Total number of inequality constraints...............:        2\n",
      "        inequality constraints with only lower bounds:        0\n",
      "   inequality constraints with lower and upper bounds:        0\n",
      "        inequality constraints with only upper bounds:        2\n",
      "\n",
      "iter    objective    inf_pr   inf_du lg(mu)  ||d||  lg(rg) alpha_du alpha_pr  ls\n",
      "   0 -4.7325000e+02 8.08e+03 1.00e+00  -1.0 0.00e+00    -  0.00e+00 0.00e+00   0\n",
      "   1 -4.7331772e+02 8.07e+03 5.58e+02  -1.0 4.00e+04    -  1.50e-04 7.31e-04f  1\n",
      "   2 -4.7331775e+02 8.07e+03 5.58e+02  -1.0 1.63e+05    -  6.02e-07 6.02e-07s  2\n",
      "   3r-4.7331775e+02 8.07e+03 9.99e+02   3.8 0.00e+00    -  0.00e+00 0.00e+00R  1\n",
      "   4r-4.7331875e+02 8.07e+03 1.62e+03   3.8 5.88e+05    -  1.09e-03 2.24e-07f  1\n",
      "   5r-4.7732539e+02 6.43e+03 2.09e+03   1.7 3.29e+05    -  2.17e-04 5.19e-03f  1\n",
      "   6 -4.7732926e+02 6.43e+03 2.73e+03  -1.0 1.16e+05    -  4.99e-06 8.04e-05h  1\n",
      "   7r-4.7732926e+02 6.43e+03 9.99e+02   3.7 0.00e+00    -  0.00e+00 4.95e-07R  2\n",
      "   8r-4.7732928e+02 6.43e+03 9.99e+02   3.7 5.32e+05    -  4.65e-04 6.06e-09f  1\n",
      "   9r-4.8309180e+02 5.41e+03 9.98e+02   2.3 6.12e+05    -  1.02e-03 1.36e-03f  1\n",
      "iter    objective    inf_pr   inf_du lg(mu)  ||d||  lg(rg) alpha_du alpha_pr  ls\n",
      "  10 -4.8309298e+02 5.41e+03 1.20e+03  -1.0 1.69e+05    -  2.33e-05 2.37e-05h  1\n",
      "  11 -4.8309722e+02 5.40e+03 1.92e+04  -1.0 1.44e+05    -  1.41e-05 8.51e-05h  1\n",
      "  12r-4.8309722e+02 5.40e+03 9.99e+02   3.6 0.00e+00    -  0.00e+00 4.33e-07R  2\n",
      "  13r-4.8309723e+02 5.40e+03 5.07e+03   3.6 2.02e+05    -  3.49e-04 1.27e-08f  1\n",
      "  14r-4.8314948e+02 5.32e+03 5.32e+03   2.2 2.50e+05    -  8.38e-03 3.16e-04f  1\n",
      "  15r-4.8314905e+02 2.89e+03 5.27e+03   2.2 7.94e+05    -  2.00e-03 3.06e-03f  1\n",
      "  16 -4.8315000e+02 2.89e+03 4.25e+00  -1.0 2.67e+04    -  3.49e-05 1.90e-05h  1\n",
      "  17r-4.8315000e+02 2.89e+03 9.99e+02   3.4 0.00e+00    -  0.00e+00 9.59e-08R  2\n",
      "  18r-4.8314999e+02 2.89e+03 9.99e+02   3.4 1.60e+05    -  2.36e-04 9.94e-09f  2\n",
      "  19r-4.8313232e+02 2.52e+03 1.35e+03   2.7 2.81e+05    -  1.30e-02 1.31e-03f  1\n",
      "iter    objective    inf_pr   inf_du lg(mu)  ||d||  lg(rg) alpha_du alpha_pr  ls\n",
      "  20 -4.8314983e+02 2.52e+03 7.30e+01  -1.0 1.09e+04    -  1.35e-05 3.52e-04h  1\n",
      "  21r-4.8314983e+02 2.52e+03 9.99e+02   3.3 0.00e+00    -  0.00e+00 4.40e-07R  4\n",
      "  22r-4.8314969e+02 2.52e+03 3.75e+04   3.3 3.06e+05    -  6.51e-03 6.95e-08f  2\n",
      "  23r-4.8314924e+02 5.13e+02 3.72e+04   1.9 2.86e+05    -  1.03e-02 8.73e-03f  1\n",
      "  24 -4.8315000e+02 5.13e+02 1.96e+01  -1.0 9.72e+03    -  3.43e-04 1.57e-05h  1\n",
      "  25r-4.8315000e+02 5.13e+02 9.99e+02   2.7 0.00e+00    -  0.00e+00 9.91e-08R  2\n",
      "  26r-4.8314999e+02 5.13e+02 9.99e+02   2.7 1.06e+04    -  7.59e-04 1.92e-07f  2\n",
      "  27r-4.8311849e+02 5.13e+02 1.14e+03   2.7 9.71e+03    -  9.22e-03 2.27e-03f  1\n",
      "  28r-4.8313902e+02 5.12e+02 9.82e+02   2.0 9.47e+03    -  7.17e-03 1.52e-02f  1\n",
      "  29r-4.8313292e+02 5.09e+02 9.64e+02   2.0 8.23e+03    -  1.41e-02 2.11e-02f  1\n",
      "iter    objective    inf_pr   inf_du lg(mu)  ||d||  lg(rg) alpha_du alpha_pr  ls\n",
      "  30r-4.8312356e+02 5.05e+02 9.37e+02   2.0 1.35e+03    -  2.74e-02 3.39e-02f  1\n",
      "  31r-4.8310425e+02 4.97e+02 6.70e+03   2.0 4.81e+02    -  1.43e-01 7.49e-02f  1\n",
      "  32r-4.8310163e+02 4.85e+02 1.20e+04   1.3 5.17e+02    -  2.11e-01 1.18e-01f  1\n",
      "  33r-4.8309671e+02 4.56e+02 2.06e+04   1.3 8.75e+02    -  3.31e-01 1.19e-01f  1\n",
      "  34 -4.8313193e+02 4.55e+02 1.06e+02  -1.0 7.62e+03    -  5.05e-03 3.33e-03h  1\n",
      "  35 -4.8313207e+02 4.55e+02 1.09e+02  -1.0 3.78e+03    -  3.41e-03 9.95e-05h  1\n",
      "  36 -4.8313247e+02 4.55e+02 6.34e+02  -1.0 3.11e+04    -  1.55e-03 1.60e-04h  1\n",
      "  37 -4.8314145e+02 4.54e+02 1.19e+04  -1.0 4.93e+04    -  5.43e-03 1.48e-03h  1\n",
      "  38 -4.8314992e+02 4.53e+02 7.39e+04  -1.0 2.73e+04    -  2.39e-03 1.96e-03h  1\n",
      "  39r-4.8314992e+02 4.53e+02 1.00e+03   2.7 0.00e+00    -  0.00e+00 2.74e-07R  6\n",
      "iter    objective    inf_pr   inf_du lg(mu)  ||d||  lg(rg) alpha_du alpha_pr  ls\n",
      "  40r-4.8314954e+02 4.53e+02 6.25e+03   2.7 9.17e+04    -  4.58e-03 4.01e-06f  1\n",
      "  41r-4.8303052e+02 3.59e+02 2.81e+04   2.0 2.84e+03    -  1.44e-01 3.31e-02f  1\n",
      "  42 -4.8303051e+02 3.59e+02 8.73e+02  -1.0 1.08e+03    -  2.80e-03 1.87e-05h  1\n",
      "  43 -4.8303950e+02 3.58e+02 4.22e+03  -1.0 4.64e+03    -  6.62e-04 1.39e-03h  1\n",
      "  44 -4.8304579e+02 3.58e+02 4.18e+03  -1.0 9.22e+04    -  1.38e-04 5.24e-05h  1\n",
      "  45 -4.8307502e+02 3.58e+02 1.73e+04  -1.0 1.31e+05    -  1.92e-04 2.17e-04h  1\n",
      "  46 -4.8312511e+02 3.58e+02 9.70e+04  -1.0 1.96e+05    -  4.34e-04 3.69e-04h  1\n",
      "  47 -4.8314727e+02 3.58e+02 1.19e+05  -1.0 2.82e+05    -  7.19e-04 1.69e-04h  1\n",
      "  48r-4.8314727e+02 3.58e+02 1.00e+03   2.6 0.00e+00    -  0.00e+00 2.62e-07R  4\n",
      "  49r-4.8314714e+02 3.58e+02 1.32e+04   2.6 8.04e+03    -  1.64e-02 2.08e-05f  1\n",
      "iter    objective    inf_pr   inf_du lg(mu)  ||d||  lg(rg) alpha_du alpha_pr  ls\n",
      "  50r-4.8311830e+02 1.04e+02 2.52e+04   1.9 7.98e+03    -  1.56e-01 3.19e-02f  1\n",
      "  51 -4.8312894e+02 1.03e+02 1.36e+01  -1.0 6.12e+03    -  1.26e-03 3.59e-04h  1\n",
      "  52r-4.8312894e+02 1.03e+02 9.99e+02   2.0 0.00e+00    -  0.00e+00 3.94e-07R  5\n",
      "  53r-4.8312644e+02 1.02e+02 6.94e+03   2.0 2.90e+04    -  3.36e-02 6.58e-05f  1\n",
      "  54r-4.8309206e+02 3.00e+01 1.53e+04   2.0 7.85e+03    -  7.90e-02 1.28e-02f  1\n",
      "  55 -4.8309302e+02 3.00e+01 7.56e+02  -1.0 6.32e+03    -  1.40e-03 5.04e-04h  1\n",
      "  56 -4.8309532e+02 3.00e+01 9.48e+02  -1.0 1.44e+04    -  7.12e-04 2.06e-05h  1\n",
      "  57 -4.8314946e+02 2.99e+01 1.55e+03  -1.0 1.63e+04    -  1.32e-03 4.27e-04h  1\n",
      "  58 -4.8315000e+02 2.99e+01 4.77e+03  -1.0 3.57e+04    -  7.74e-04 1.97e-04h  1\n",
      "  59 -4.8315000e+02 2.99e+01 7.52e+04  -1.0 3.16e+05    -  1.79e-03 1.29e-04h  1\n",
      "iter    objective    inf_pr   inf_du lg(mu)  ||d||  lg(rg) alpha_du alpha_pr  ls\n",
      "  60 -4.8315000e+02 2.99e+01 1.39e+05  -1.0 3.49e+06    -  1.60e-04 1.19e-05f  5\n",
      "  61 -4.8315000e+02 2.99e+01 2.27e+05  -1.0 3.60e+06    -  2.15e-04 2.81e-06h  8\n",
      "  62 -4.8315000e+02 2.99e+01 3.29e+05  -1.0 3.65e+06    -  2.60e-04 2.33e-06h  9\n",
      "  63 -4.8315000e+02 2.99e+01 4.55e+05  -1.0 3.67e+06    -  3.36e-04 1.68e-06h 10\n",
      "  64 -4.8315000e+02 2.99e+01 6.26e+05  -1.0 3.68e+06    -  4.80e-04 1.67e-06h 10\n",
      "  65 -4.8315000e+02 2.99e+01 7.79e+05  -1.0 3.69e+06    -  6.67e-04 2.14e-04f  3\n",
      "  66r-4.8315000e+02 2.99e+01 1.00e+03   0.8 0.00e+00    -  0.00e+00 3.11e-07R 12\n",
      "  67r-4.8315000e+02 2.52e+01 1.01e+03   0.8 7.06e+03    -  7.24e-03 5.56e-04f  1\n",
      "  68 -4.8315000e+02 2.52e+01 7.72e+01  -1.0 3.77e+03    -  9.80e-04 1.29e-05h  1\n",
      "  69r-4.8315000e+02 2.52e+01 9.99e+02   0.5 0.00e+00    -  0.00e+00 1.78e-07R  2\n",
      "iter    objective    inf_pr   inf_du lg(mu)  ||d||  lg(rg) alpha_du alpha_pr  ls\n",
      "  70r-4.8314988e+02 2.27e+01 9.98e+02   0.5 3.14e+03    -  2.61e-03 1.68e-04f  1\n",
      "  71r-4.8314988e+02 2.27e+01 9.99e+02   0.4 0.00e+00    -  0.00e+00 4.93e-07R  3\n",
      "  72r-4.8314986e+02 2.26e+01 9.99e+02   0.4 2.61e+03    -  2.06e-03 7.98e-06f  1\n",
      "  73r-4.8314514e+02 9.20e+00 9.97e+02   0.4 2.37e+03    -  5.09e-03 2.08e-03f  1\n",
      "  74 -4.8314530e+02 9.20e+00 5.42e+01  -1.0 4.75e+03    -  8.87e-04 1.67e-05h  1\n",
      "  75 -4.8314643e+02 9.20e+00 2.53e+03  -1.0 2.46e+04    -  5.68e-04 1.28e-05h  1\n",
      "  76 -4.8314997e+02 9.20e+00 2.06e+04  -1.0 5.07e+05    -  2.88e-04 3.74e-05h  1\n"
     ]
    },
    {
     "name": "stdout",
     "output_type": "stream",
     "text": [
      "  77r-4.8314997e+02 9.20e+00 1.00e+03   0.4 0.00e+00    -  0.00e+00 3.23e-07R  8\n",
      "  78r-4.8314996e+02 7.66e+00 1.00e+03   0.4 2.56e+03    -  6.19e-03 5.43e-04f  1\n",
      "  79r-4.8314991e+02 2.24e+00 1.00e+03   0.4 2.16e+03    -  8.94e-03 6.41e-03f  1\n",
      "iter    objective    inf_pr   inf_du lg(mu)  ||d||  lg(rg) alpha_du alpha_pr  ls\n",
      "  80r-4.8314978e+02 2.22e+00 9.80e+02   0.4 2.42e+03    -  1.47e-02 1.68e-02f  1\n",
      "  81r-4.8314959e+02 2.21e+00 1.72e+03   0.4 2.42e+03    -  8.57e-02 2.28e-02f  1\n",
      "  82r-4.8314910e+02 2.29e+00 2.20e+03   0.4 2.16e+03    -  8.02e-02 5.51e-02f  1\n",
      "  83r-4.8314873e+02 2.42e+00 7.05e+03   0.4 1.98e+03    -  1.50e-01 3.80e-02f  1\n",
      "  84r-4.8314738e+02 2.80e+00 8.37e+03   0.4 2.16e+03    -  1.62e-01 1.15e-01f  1\n",
      "  85r-4.8314674e+02 2.69e+00 2.70e+04   0.4 1.51e+03    -  4.62e-01 4.58e-02f  1\n",
      "  86r-4.8314070e+02 3.77e+00 2.56e+04   0.4 1.25e+03    -  3.93e-01 2.29e-01f  1\n",
      "  87r-4.8313630e+02 3.59e+00 2.69e+04   0.4 9.92e+02    -  2.88e-01 9.75e-02f  1\n",
      "  88r-4.8312147e+02 3.58e+00 2.81e+04   0.4 8.97e+02    -  7.83e-01 2.49e-01f  1\n",
      "  89 -4.8312162e+02 3.58e+00 5.88e+02  -1.0 1.18e+03    -  3.52e-04 1.84e-04h  1\n",
      "iter    objective    inf_pr   inf_du lg(mu)  ||d||  lg(rg) alpha_du alpha_pr  ls\n",
      "  90 -4.8312206e+02 3.58e+00 5.31e+05  -1.0 2.82e+04    -  1.72e-02 2.19e-05h  1\n",
      "  91 -4.8312227e+02 3.58e+00 1.04e+06  -1.0 3.85e+05    -  1.25e-03 1.05e-05h  8\n",
      "  92 -4.8312238e+02 3.58e+00 1.63e+06  -1.0 6.31e+05    -  9.00e-04 6.23e-06f  9\n",
      "  93 -4.8312243e+02 3.58e+00 2.39e+06  -1.0 8.39e+05    -  8.66e-04 3.68e-06f 10\n",
      "  94 -4.8312248e+02 3.58e+00 3.30e+06  -1.0 1.03e+06    -  8.67e-04 4.41e-06f 10\n",
      "  95 -4.8312250e+02 3.58e+00 3.83e+06  -1.0 1.19e+06    -  4.43e-04 1.33e-06f 12\n",
      "  96 -4.8313603e+02 6.04e+01 5.78e+06  -1.0 1.26e+06    -  1.28e-03 1.49e-03f  2\n",
      "  97r-4.8313603e+02 6.04e+01 1.00e+03   1.6 0.00e+00    -  0.00e+00 4.71e-07R 14\n",
      "  98r-4.8313601e+02 3.35e+01 3.59e+04   1.6 3.96e+04    -  5.99e-02 4.47e-04f  1\n",
      "  99 -4.8313914e+02 3.34e+01 1.42e+01  -1.0 1.19e+03    -  1.08e-03 3.39e-04h  1\n",
      "iter    objective    inf_pr   inf_du lg(mu)  ||d||  lg(rg) alpha_du alpha_pr  ls\n",
      " 100 -4.8314058e+02 3.34e+01 3.95e+04  -1.0 4.54e+03    -  5.19e-02 5.09e-05h  1\n",
      " 101 -4.8314991e+02 3.34e+01 4.50e+05  -1.0 7.57e+04    -  4.41e-03 3.29e-04h  1\n",
      " 102 -4.8314992e+02 3.34e+01 4.02e+05  -1.0 1.83e+06    -  1.83e-06 1.01e-05f  4\n",
      " 103 -4.8314993e+02 3.34e+01 4.17e+05  -1.0 1.87e+06    -  1.20e-05 7.95e-06f  5\n",
      " 104 -4.8314993e+02 3.34e+01 5.05e+05  -1.0 1.88e+06    -  3.73e-05 5.85e-06f  6\n",
      " 105 -4.8314993e+02 3.35e+01 5.75e+05  -1.0 1.89e+06    -  4.30e-05 5.24e-06f  7\n",
      " 106 -4.8314993e+02 3.35e+01 6.67e+05  -1.0 1.89e+06    -  5.89e-05 6.22e-06f  7\n",
      " 107 -4.8314997e+02 3.63e+01 4.02e+05  -1.0 1.88e+06    -  7.75e-05 2.34e-04f  2\n",
      " 108r-4.8314997e+02 3.63e+01 1.00e+03   1.4 0.00e+00    -  0.00e+00 3.25e-07R 12\n",
      " 109r-4.8314996e+02 3.08e+01 3.63e+04   1.4 2.38e+04    -  9.93e-02 1.52e-04f  1\n",
      "iter    objective    inf_pr   inf_du lg(mu)  ||d||  lg(rg) alpha_du alpha_pr  ls\n",
      " 110 -4.8314996e+02 3.08e+01 2.75e+01  -1.0 6.59e+02    -  3.28e-04 1.71e-05h  1\n",
      " 111r-4.8314996e+02 3.08e+01 9.99e+02   1.3 0.00e+00    -  0.00e+00 2.58e-07R  2\n",
      " 112r-4.8314974e+02 3.01e+01 7.80e+03   1.3 2.02e+04    -  2.65e-02 2.13e-05f  1\n",
      " 113r-4.8308112e+02 3.39e+00 7.79e+04   1.3 7.20e+02    -  2.09e-01 2.44e-02f  1\n",
      " 114 -4.8309239e+02 3.38e+00 1.68e+01  -1.0 1.48e+03    -  2.52e-03 9.82e-04h  1\n",
      " 115 -4.8309677e+02 3.38e+00 1.78e+01  -1.0 2.01e+03    -  4.50e-04 2.81e-04h  1\n",
      " 116 -4.8312440e+02 3.38e+00 9.50e+03  -1.0 5.06e+03    -  4.28e-02 7.03e-04h  1\n",
      " 117 -4.8313518e+02 3.39e+00 8.88e+05  -1.0 6.92e+04    -  6.74e-02 2.86e-04h  1\n",
      " 118 -4.8314986e+02 3.40e+00 2.44e+06  -1.0 7.06e+04    -  1.16e-03 3.91e-04h  1\n",
      " 119 -4.8314993e+02 3.40e+00 9.14e+05  -1.0 2.60e+05    -  3.49e-08 2.37e-06f  2\n",
      "iter    objective    inf_pr   inf_du lg(mu)  ||d||  lg(rg) alpha_du alpha_pr  ls\n",
      " 120 -4.8314993e+02 3.40e+00 9.13e+05  -1.0 1.63e+06    -  2.93e-07 2.67e-06f 11\n",
      " 121 -4.8314993e+02 3.40e+00 9.13e+05  -1.0 1.63e+06    -  3.57e-06 2.98e-06f 11\n",
      " 122 -4.8314993e+02 3.40e+00 8.33e+05  -1.0 1.63e+06    -  3.02e-04 2.99e-06f 11\n",
      " 123 -4.8314993e+02 3.40e+00 8.31e+05  -1.0 1.63e+06    -  9.06e-06 1.50e-06f 12\n",
      " 124 -4.8314993e+02 3.40e+00 7.46e+05  -1.0 1.63e+06    -  3.18e-04 1.50e-06f 12\n",
      " 125 -4.8314993e+02 4.81e+00 7.93e+05  -1.0 1.63e+06    -  1.26e-05 1.92e-04f  5\n",
      " 126r-4.8314993e+02 4.81e+00 1.00e+03   0.5 0.00e+00    -  0.00e+00 4.07e-07R 14\n",
      " 127r-4.8314993e+02 4.49e+00 1.07e+04   0.5 3.16e+03    -  3.15e-01 6.55e-05f  1\n",
      " 128r-4.8314886e+02 1.88e+00 2.61e+04   0.5 9.33e+02    -  5.84e-01 2.33e-01f  1\n",
      " 129 -4.8314920e+02 1.88e+00 3.25e+00  -1.0 5.76e+02    -  5.74e-04 1.78e-04h  1\n",
      "iter    objective    inf_pr   inf_du lg(mu)  ||d||  lg(rg) alpha_du alpha_pr  ls\n",
      " 130 -4.8314921e+02 1.88e+00 5.63e+00  -1.0 3.31e+02    -  2.66e-04 2.59e-04h  1\n",
      " 131r-4.8314921e+02 1.88e+00 9.99e+02   0.1 0.00e+00    -  0.00e+00 4.40e-07R  4\n",
      " 132r-4.8314898e+02 1.18e+00 1.21e+03   0.1 1.23e+03    -  9.07e-02 3.80e-04f  1\n",
      " 133 -4.8314929e+02 1.18e+00 3.21e+00  -1.0 2.02e+03    -  9.59e-05 3.02e-05h  1\n",
      " 134 -4.8314943e+02 1.18e+00 9.03e+00  -1.0 4.93e+02    -  9.61e-06 4.10e-04f  1\n",
      " 135r-4.8314943e+02 1.18e+00 9.99e+02  -0.1 0.00e+00    -  0.00e+00 2.65e-07R  5\n",
      " 136r-4.8314937e+02 1.14e+00 9.97e+02  -0.1 7.63e+02    -  1.10e-01 1.42e-04f  1\n",
      " 137 -4.8314956e+02 1.14e+00 3.20e+00  -1.0 4.24e+03    -  4.32e-05 1.38e-05h  1\n",
      " 138 -4.8314965e+02 1.14e+00 8.40e+00  -1.0 5.04e+02    -  9.27e-06 4.05e-04f  1\n",
      " 139r-4.8314965e+02 1.14e+00 9.99e+02  -0.2 0.00e+00    -  0.00e+00 2.58e-07R  5\n",
      "iter    objective    inf_pr   inf_du lg(mu)  ||d||  lg(rg) alpha_du alpha_pr  ls\n",
      " 140r-4.8314959e+02 1.10e+00 9.97e+02  -0.2 6.55e+02    -  1.10e-01 1.56e-04f  1\n",
      " 141 -4.8314972e+02 1.10e+00 3.20e+00  -1.0 5.28e+03    -  3.39e-05 1.07e-05h  1\n",
      " 142 -4.8314976e+02 1.10e+00 1.56e+01  -1.0 5.46e+02    -  9.16e-06 4.02e-04f  1\n",
      " 143r-4.8314976e+02 1.10e+00 9.99e+02  -0.3 0.00e+00    -  0.00e+00 2.55e-07R  5\n",
      " 144r-4.8314971e+02 1.04e+00 9.98e+02  -0.3 5.52e+02    -  1.09e-01 1.83e-04f  1\n",
      " 145r-4.8314971e+02 1.04e+00 9.99e+02  -0.3 0.00e+00    -  0.00e+00 2.87e-07R  6\n",
      " 146r-4.8314927e+02 7.11e-01 9.97e+02  -0.3 4.51e+02    -  1.05e-01 9.90e-04f  1\n",
      " 147 -4.8314948e+02 7.11e-01 3.22e+00  -1.0 1.07e+03    -  2.49e-04 7.77e-05h  1\n",
      " 148 -4.8314949e+02 7.10e-01 4.48e+01  -1.0 5.20e+02    -  4.85e-05 3.61e-04h  1\n",
      " 149r-4.8314949e+02 7.10e-01 9.99e+02  -1.0 0.00e+00    -  0.00e+00 4.76e-07R  4\n",
      "iter    objective    inf_pr   inf_du lg(mu)  ||d||  lg(rg) alpha_du alpha_pr  ls\n",
      " 150r-4.8314944e+02 1.93e-01 9.98e+02  -1.0 1.05e+03    -  1.33e-02 9.92e-04f  1\n",
      " 151r-4.8314895e+02 1.05e-01 9.88e+02  -1.0 5.27e+01    -  4.30e-02 1.03e-02f  1\n",
      " 152r-4.8314730e+02 3.10e-01 9.51e+02  -1.0 2.05e+02    -  2.27e-02 3.75e-02f  1\n",
      " 153r-4.8314641e+02 3.28e-01 9.30e+02  -1.0 1.20e+02    -  4.64e-02 2.14e-02f  1\n",
      " 154r-4.8314369e+02 4.68e-01 1.08e+03  -1.0 1.03e+02    -  1.13e-01 6.78e-02f  1\n",
      " 155r-4.8313921e+02 5.66e-01 2.29e+03  -1.0 7.02e+01    -  1.73e-01 1.24e-01f  1\n",
      " 156r-4.8313545e+02 5.13e-01 2.07e+04  -1.0 4.87e+01    -  6.04e-01 1.22e-01f  1\n",
      " 157r-4.8312403e+02 4.44e+00 2.08e+04  -1.0 4.09e+01    -  7.60e-01 4.45e-01f  1\n",
      " 158r-4.8311281e+02 1.78e+00 6.37e+03  -1.0 2.67e+01    -  9.38e-01 8.01e-01f  1\n",
      " 159r-4.8310970e+02 6.95e-01 1.64e+03  -1.0 1.78e+01    -  6.27e-01 6.98e-01f  1\n",
      "iter    objective    inf_pr   inf_du lg(mu)  ||d||  lg(rg) alpha_du alpha_pr  ls\n",
      " 160r-4.8310135e+02 2.41e-01 6.70e+02  -1.0 6.36e+00    -  7.67e-01 6.79e-01f  1\n",
      " 161r-4.8309728e+02 9.38e-02 1.11e+02  -1.0 1.71e+00    -  8.47e-01 1.00e+00f  1\n",
      " 162 -4.8311210e+02 9.36e-02 6.60e+02  -1.0 1.04e+03    -  1.16e-02 1.83e-03f  2\n",
      " 163 -4.8312711e+02 9.35e-02 2.98e+03  -1.0 1.36e+03    -  3.50e-02 1.88e-03h  1\n",
      " 164r-4.8312711e+02 9.35e-02 1.00e+03  -1.0 0.00e+00    -  0.00e+00 2.69e-07R 11\n",
      " 165r-4.8312708e+02 9.16e-02 3.22e+04  -1.0 8.03e+01    -  4.69e-01 1.17e-02f  1\n",
      " 166r-4.8312533e+02 3.91e+00 3.36e+04  -1.0 1.10e+02    -  5.96e-01 3.06e-01f  1\n",
      " 167r-4.8312506e+02 3.83e+00 6.78e+05  -1.0 7.72e+01    -  9.50e-01 2.17e-02f  1\n",
      " 168r-4.8311198e+02 2.78e+00 8.55e+05  -1.0 5.62e+01    -  9.89e-01 2.42e-01f  1\n",
      " 169r-4.8310115e+02 2.16e+00 4.28e+04  -1.0 2.73e+01    -  5.35e-01 2.31e-01f  1\n",
      "iter    objective    inf_pr   inf_du lg(mu)  ||d||  lg(rg) alpha_du alpha_pr  ls\n",
      " 170r-4.8306729e+02 3.79e-01 6.04e+04  -1.0 2.43e+01    -  1.00e+00 1.00e+00f  1\n",
      " 171r-4.8306891e+02 1.46e-01 2.02e+04  -1.0 6.91e+00    -  1.00e+00 1.00e+00h  1\n",
      " 172r-4.8306881e+02 3.09e-03 2.66e+03  -1.0 1.49e-01    -  1.00e+00 1.00e+00h  1\n",
      " 173 -4.8308023e+02 3.09e-03 4.74e+03  -1.0 6.02e+02    -  6.74e-02 2.45e-03f  3\n",
      " 174 -4.8308885e+02 3.08e-03 1.21e+04  -1.0 9.91e+02    -  1.00e-01 1.90e-03h  3\n",
      " 175 -4.8308895e+02 3.08e-03 1.58e+04  -1.0 8.90e+03    -  4.17e-02 3.03e-05h  9\n",
      " 176 -4.8308901e+02 3.08e-03 2.36e+04  -1.0 2.08e+04    -  7.84e-02 3.22e-05h 10\n"
     ]
    },
    {
     "name": "stdout",
     "output_type": "stream",
     "text": [
      " 177 -4.8309219e+02 1.85e-01 4.15e+04  -1.0 2.86e+04    -  4.09e-02 3.96e-03f  5\n",
      " 178 -4.8309384e+02 2.67e-01 5.81e+04  -1.0 2.88e+04    -  5.64e-02 2.64e-03f  6\n",
      " 179 -4.8309460e+02 2.91e-01 6.44e+04  -1.0 2.88e+04    -  6.61e-02 1.45e-03h  7\n",
      "iter    objective    inf_pr   inf_du lg(mu)  ||d||  lg(rg) alpha_du alpha_pr  ls\n",
      " 180 -4.8309461e+02 2.91e-01 6.58e+04  -1.0 2.88e+04    -  8.46e-02 2.39e-05h 13\n",
      " 181 -4.8309477e+02 2.93e-01 8.03e+04  -1.0 2.92e+04    -  9.89e-02 3.86e-04h  9\n",
      " 182 -4.8309484e+02 2.94e-01 1.32e+05  -1.0 2.96e+04    -  1.85e-01 1.98e-04h 10\n",
      " 183 -4.8310943e+02 1.58e+02 4.89e+07  -1.0 3.10e+04    -  5.01e-02 1.07e-01w  1\n",
      " 184 -4.8310924e+02 1.75e+02 8.94e+06  -1.0 8.84e+03    -  1.11e-02 2.41e-01w  1\n",
      " 185 -4.8310922e+02 1.73e+02 8.82e+06  -1.0 2.15e+03    -  1.47e-01 1.26e-02w  1\n",
      " 186 -4.8309495e+02 3.03e-01 1.42e+05  -1.0 1.02e+03    -  5.01e-02 8.33e-04h  7\n",
      " 187r-4.8309495e+02 3.03e-01 1.00e+03  -0.7 0.00e+00    -  0.00e+00 4.17e-07R 19\n",
      " 188r-4.8309495e+02 7.52e-03 8.10e+04  -0.7 1.99e+02    -  5.45e-01 9.91e-04f  1\n",
      " 189 -4.8310115e+02 7.51e-03 7.97e+03  -1.0 5.74e+02    -  1.05e-01 1.39e-03h  3\n",
      "iter    objective    inf_pr   inf_du lg(mu)  ||d||  lg(rg) alpha_du alpha_pr  ls\n",
      " 190 -4.8310350e+02 7.51e-03 1.97e+04  -1.0 2.84e+03    -  1.49e-01 5.78e-04h  4\n",
      " 191r-4.8310350e+02 7.51e-03 1.00e+03  -1.0 0.00e+00    -  0.00e+00 4.77e-07R 16\n",
      " 192r-4.8310350e+02 3.33e-03 5.39e+04  -1.0 5.34e+01    -  7.50e-01 1.33e-02f  1\n",
      " 193 -4.8311160e+02 3.33e-03 7.62e+03  -1.0 5.69e+02    -  1.07e-01 1.83e-03h  2\n",
      " 194 -4.8311213e+02 3.33e-03 1.74e+04  -1.0 5.91e+03    -  1.19e-01 1.46e-04h  5\n",
      " 195r-4.8311213e+02 3.33e-03 1.00e+03  -1.0 0.00e+00    -  0.00e+00 3.68e-07R 17\n",
      " 196r-4.8311211e+02 4.14e-03 5.45e+04  -1.0 5.66e+01    -  7.52e-01 5.41e-02f  1\n",
      " 197r-4.8311062e+02 2.46e+00 2.89e+03  -1.0 3.45e+01    -  9.88e-01 9.55e-01f  1\n",
      " 198r-4.8307919e+02 1.14e-02 1.47e+02  -1.0 2.49e+01    -  9.91e-01 1.00e+00f  1\n",
      " 199r-4.8307033e+02 7.37e-04 2.36e-01  -1.0 1.14e+00    -  1.00e+00 1.00e+00h  1\n",
      "iter    objective    inf_pr   inf_du lg(mu)  ||d||  lg(rg) alpha_du alpha_pr  ls\n",
      " 200 -4.8308112e+02 7.20e-04 2.53e+03  -1.0 9.08e+02    -  3.61e-02 1.53e-03h  3\n",
      " 201 -4.8308520e+02 7.19e-04 1.91e+04  -1.0 1.10e+03    -  2.22e-01 5.87e-04h  4\n",
      " 202r-4.8308520e+02 7.19e-04 1.00e+03  -1.0 0.00e+00    -  0.00e+00 4.64e-07R 15\n",
      " 203r-4.8308504e+02 4.68e-01 3.65e+03  -1.0 3.13e+01    -  8.29e-01 7.82e-01f  1\n",
      " 204r-4.8308399e+02 2.70e-01 1.21e+02  -1.0 1.89e+01    -  9.89e-01 1.00e+00f  1\n",
      " 205r-4.8307219e+02 4.42e-03 2.39e+00  -1.0 1.77e+01    -  9.91e-01 1.00e+00h  1\n",
      " 206r-4.8307528e+02 1.00e-01 4.51e+02  -1.7 2.33e+01    -  6.40e-01 6.88e-01f  1\n",
      " 207r-4.8307821e+02 2.56e-02 4.96e+02  -1.7 7.98e+00    -  6.26e-01 7.43e-01f  1\n",
      " 208r-4.8308111e+02 4.73e-03 4.54e+00  -1.7 1.75e+00    -  1.00e+00 1.00e+00f  1\n",
      " 209r-4.8308231e+02 8.62e-04 2.01e-01  -1.7 1.08e+00    -  1.00e+00 1.00e+00h  1\n",
      "iter    objective    inf_pr   inf_du lg(mu)  ||d||  lg(rg) alpha_du alpha_pr  ls\n",
      " 210r-4.8308720e+02 1.26e-01 1.28e+02  -2.5 1.73e+01    -  7.14e-01 6.94e-01f  1\n",
      " 211r-4.8309501e+02 1.04e-01 2.15e+03  -2.5 1.63e+01    -  9.11e-01 7.78e-01f  1\n",
      " 212r-4.8310303e+02 4.26e-02 3.46e+03  -2.5 3.86e+00    -  1.00e+00 8.33e-01f  1\n",
      " 213r-4.8310525e+02 9.68e-04 4.99e-01  -2.5 9.28e-01    -  1.00e+00 1.00e+00f  1\n",
      " 214r-4.8310530e+02 4.34e-04 7.75e-04  -2.5 3.80e-02    -  1.00e+00 1.00e+00h  1\n",
      " 215r-4.8311298e+02 4.34e-02 7.36e+02  -5.7 1.87e+01    -  6.12e-01 5.82e-01f  1\n",
      " 216r-4.8311470e+02 9.50e-01 1.87e+02  -5.7 7.97e+01    -  1.98e-01 2.43e-01f  1\n",
      " 217r-4.8311504e+02 9.33e-01 7.00e+02  -5.7 4.53e+02    -  1.03e-01 3.58e-02h  1\n",
      " 218r-4.8311594e+02 1.07e+00 1.82e+02  -5.7 7.82e+01    -  1.18e-01 1.56e-01f  1\n",
      " 219r-4.8311630e+02 1.03e+00 1.42e+03  -5.7 8.04e+01    -  1.96e-01 6.36e-02f  1\n",
      "iter    objective    inf_pr   inf_du lg(mu)  ||d||  lg(rg) alpha_du alpha_pr  ls\n",
      " 220r-4.8311680e+02 9.99e-01 1.75e+03  -5.7 1.96e+02    -  1.15e-01 6.11e-02h  1\n",
      " 221r-4.8311785e+02 1.08e+00 1.25e+03  -5.7 7.75e+01    -  1.43e-01 1.73e-01f  1\n",
      " 222r-4.8311798e+02 1.07e+00 1.79e+03  -5.7 1.91e+02    -  1.10e-01 1.21e-02h  1\n",
      " 223r-4.8311906e+02 1.04e+00 1.68e+03  -5.7 8.16e+01    -  1.62e-01 1.36e-01f  1\n",
      " 224r-4.8311953e+02 1.01e+00 1.93e+03  -5.7 9.64e+01    -  1.16e-01 4.20e-02h  1\n",
      " 225r-4.8312071e+02 9.68e-01 1.78e+03  -5.7 7.91e+01    -  1.80e-01 1.46e-01f  1\n",
      " 226r-4.8312117e+02 9.37e-01 1.96e+03  -5.7 8.98e+01    -  1.20e-01 3.74e-02h  1\n",
      " 227r-4.8312271e+02 8.78e-01 1.74e+03  -5.7 6.80e+01    -  1.94e-01 1.61e-01f  1\n",
      " 228r-4.8312328e+02 8.45e-01 1.85e+03  -5.7 7.97e+01    -  1.30e-01 4.28e-02h  1\n",
      " 229r-4.8312507e+02 7.70e-01 1.61e+03  -5.7 6.73e+01    -  2.12e-01 1.72e-01f  1\n",
      "iter    objective    inf_pr   inf_du lg(mu)  ||d||  lg(rg) alpha_du alpha_pr  ls\n",
      " 230r-4.8312588e+02 7.29e-01 1.65e+03  -5.7 6.64e+01    -  1.53e-01 6.06e-02h  1\n",
      " 231r-4.8312799e+02 6.43e-01 1.44e+03  -5.7 6.85e+01    -  2.95e-01 1.98e-01f  1\n",
      " 232r-4.8313008e+02 5.60e-01 1.27e+03  -5.7 4.77e+01    -  2.48e-01 1.70e-01h  1\n",
      " 233r-4.8313391e+02 4.54e-01 7.02e+02  -5.7 5.95e+01    -  2.35e-01 3.74e-01f  1\n",
      " 234r-4.8313765e+02 3.14e-01 4.06e+02  -5.7 5.70e+01    -  4.05e-01 4.15e-01h  1\n",
      " 235r-4.8313864e+02 2.74e-01 3.70e+02  -5.7 3.88e+01    -  1.97e-01 1.35e-01h  1\n",
      " 236r-4.8313871e+02 2.59e-01 4.37e+02  -5.7 1.36e+00  -4.0 3.78e-01 5.53e-02h  1\n",
      " 237r-4.8313887e+02 1.55e-01 1.24e+03  -5.7 1.52e+00  -3.6 5.29e-02 4.02e-01f  1\n",
      " 238r-4.8313996e+02 1.41e-01 1.13e+03  -5.7 5.55e+00    -  1.39e-01 8.97e-02f  1\n",
      " 239r-4.8314443e+02 8.31e-02 1.76e+02  -5.7 6.56e+00    -  5.67e-01 4.11e-01h  1\n",
      "iter    objective    inf_pr   inf_du lg(mu)  ||d||  lg(rg) alpha_du alpha_pr  ls\n",
      " 240r-4.8314382e+02 7.13e-02 9.62e+02  -5.7 3.60e+00    -  6.42e-05 1.42e-01f  1\n",
      " 241r-4.8314408e+02 6.92e-02 9.75e+02  -5.7 3.41e+00    -  4.04e-01 3.01e-02h  1\n",
      " 242r-4.8314458e+02 5.84e-02 7.90e+02  -5.7 6.80e+00    -  7.10e-03 1.56e-01f  1\n",
      " 243r-4.8314468e+02 5.62e-02 7.61e+02  -5.7 6.24e+00    -  4.39e-03 3.64e-02h  1\n",
      " 244r-4.8314468e+02 5.62e-02 3.31e+04  -5.7 4.40e+00    -  2.09e-01 4.13e-04h  1\n",
      " 245r-4.8161336e+02 8.65e-01 7.48e+03  -5.7 2.84e+03    -  1.49e-04 6.95e-02h  1\n",
      " 246r-4.7967929e+02 2.17e+00 2.39e+04  -5.7 2.97e+03    -  1.75e-02 8.32e-02h  1\n",
      " 247r-4.7967779e+02 2.16e+00 2.12e+04  -5.7 1.80e+02  -4.1 1.16e-03 1.04e-03h  1\n",
      " 248r-4.7967778e+02 2.16e+00 2.42e+04  -5.7 6.33e+01  -4.5 2.07e-02 1.46e-03h  6\n",
      " 249r-4.7967778e+02 2.16e+00 2.50e+04  -5.7 2.23e+03  -5.0 6.27e-04 3.36e-05h  7\n",
      "iter    objective    inf_pr   inf_du lg(mu)  ||d||  lg(rg) alpha_du alpha_pr  ls\n",
      " 250r-4.7967778e+02 2.16e+00 2.53e+04  -5.7 7.33e+01  -4.6 2.33e-03 4.06e-05h 11\n",
      " 251r-4.7967778e+02 2.16e+00 2.62e+04  -5.7 2.00e+01  -4.2 8.00e-03 1.85e-05h 13\n",
      " 252r-4.7967776e+02 2.15e+00 2.62e+04  -5.7 8.76e+01  -4.6 3.04e-03 3.04e-03s 18\n",
      " 253r-4.7967759e+02 2.13e+00 2.59e+04  -5.7 2.29e+01  -4.2 1.22e-02 1.22e-02s 18\n",
      " 254r-4.7967748e+02 2.09e+00 2.54e+04  -5.7 1.01e+02  -4.7 1.82e-02 1.82e-02s 18\n",
      " 255r-4.7967769e+02 2.08e+00 2.53e+04  -5.7 4.50e+02  -5.2 3.43e-03 3.43e-03s 18\n",
      " 256r-4.7970946e+02 2.04e+00 2.48e+04  -5.7 1.95e+02    -  2.08e-02 2.08e-02s 18\n",
      " 257r-4.7969414e+02 2.02e+00 2.47e+04  -5.7 2.96e+02    -  6.49e-03 6.49e-03s 18\n",
      " 258r-4.7969145e+02 2.02e+00 2.46e+04  -5.7 2.66e+02  -5.6 1.27e-03 1.27e-03s 18\n",
      " 259r-4.7969144e+02 2.02e+00 2.46e+04  -5.7 7.24e+00  -1.6 5.68e-04 5.68e-04s 18\n",
      "iter    objective    inf_pr   inf_du lg(mu)  ||d||  lg(rg) alpha_du alpha_pr  ls\n",
      " 260r-4.7969144e+02 2.02e+00 2.46e+04  -5.7 2.25e+04    -  0.00e+00 0.00e+00R  1\n",
      " 261r-4.7938720e+02 2.05e+00 2.06e+04  -5.7 2.25e+04    -  5.61e-08 1.71e-03f  4\n",
      " 262r-4.7938716e+02 2.05e+00 5.49e+04  -5.7 1.91e+00  -1.2 1.56e-01 2.22e-03f  1\n",
      " 263r-4.7938733e+02 2.04e+00 5.50e+04  -5.7 2.71e+01    -  8.43e-04 1.60e-03f  1\n",
      " 264r-4.7944978e+02 1.97e+00 5.59e+04  -5.7 2.19e+02    -  1.71e-02 3.63e-02f  1\n",
      " 265r-4.7949560e+02 1.91e+00 5.30e+04  -5.7 1.79e+02    -  3.99e-02 3.26e-02f  1\n",
      " 266r-4.7951968e+02 1.85e+00 4.83e+04  -5.7 1.01e+02    -  5.35e-02 3.07e-02f  1\n",
      " 267r-4.7951904e+02 1.77e+00 1.66e+04  -5.7 9.16e+00  -1.6 1.93e-02 4.42e-02f  1\n",
      " 268r-4.7951848e+02 1.70e+00 5.54e+04  -5.7 9.15e+00  -2.1 1.66e-03 3.74e-02f  1\n",
      " 269r-4.7951624e+02 1.56e+00 3.47e+04  -5.7 7.52e+00  -2.6 5.48e-03 8.20e-02f  1\n",
      "iter    objective    inf_pr   inf_du lg(mu)  ||d||  lg(rg) alpha_du alpha_pr  ls\n",
      " 270r-4.7950499e+02 1.37e-01 5.87e+05  -5.7 1.26e+00  -1.3 8.22e-02 9.12e-01f  1\n",
      " 271r-4.7950394e+02 9.83e-04 5.82e+04  -5.7 1.51e-01  -1.8 9.54e-01 9.93e-01f  1\n",
      " 272r-4.7950394e+02 9.04e-04 4.73e+04  -5.7 8.18e-01  -2.2 4.11e-01 8.06e-02f  1\n",
      " 273r-4.8095708e+02 7.72e-01 1.35e+04  -5.7 2.61e+02    -  5.39e-02 7.02e-01f  1\n",
      " 274r-4.8315000e+02 2.00e+00 4.90e+03  -5.7 4.03e+02    -  9.52e-01 6.94e-01f  1\n",
      " 275r-4.8314899e+02 1.93e+00 3.72e+03  -5.7 1.71e+00  -2.7 8.36e-01 3.50e-02h  1\n",
      " 276r-4.8314899e+02 3.23e-01 5.58e+02  -5.7 3.91e+00    -  4.33e-01 8.33e-01h  1\n",
      " 277r-4.8314887e+02 1.09e-02 4.42e+02  -5.7 3.26e-01  -3.2 8.98e-01 1.00e+00h  1\n",
      " 278r-4.8314887e+02 4.90e-03 1.64e+02  -5.7 6.88e-02  -1.9 7.32e-01 1.00e+00h  1\n",
      " 279r-4.8314886e+02 7.67e-03 2.21e+02  -5.7 7.83e-02  -1.4 1.00e+00 1.00e+00h  1\n",
      "iter    objective    inf_pr   inf_du lg(mu)  ||d||  lg(rg) alpha_du alpha_pr  ls\n",
      " 280r-4.8314886e+02 7.51e-03 4.08e+02  -5.7 1.60e-01  -1.0 1.75e-01 6.99e-02h  1\n",
      " 281r-4.8314886e+02 7.49e-03 5.16e+02  -5.7 1.16e-01  -1.5 1.00e+00 3.66e-03h  1\n",
      " 282r-4.8314903e+02 5.12e-03 7.29e+02  -5.7 1.13e+00    -  1.00e+00 3.14e-01f  1\n",
      " 283r-4.8314923e+02 4.35e-05 8.42e+01  -5.7 3.73e-01    -  1.00e+00 1.00e+00f  1\n",
      " 284 -4.8315000e+02 1.23e-02 1.22e+04  -1.0 3.57e+04    -  2.06e-03 8.24e-04f  1\n",
      " 285 -4.8314997e+02 3.79e-02 5.59e+04  -1.0 3.56e+04    -  5.62e-03 1.19e-03f  5\n",
      " 286 -4.8314996e+02 6.22e-02 1.42e+05  -1.0 3.49e+04    -  9.95e-03 1.19e-03f  7\n",
      " 287 -4.8314996e+02 6.26e-02 2.35e+05  -1.0 3.43e+04    -  9.71e-03 1.52e-04f 10\n",
      " 288 -4.8314996e+02 6.30e-02 3.67e+05  -1.0 3.42e+04    -  1.39e-02 1.52e-04f 10\n"
     ]
    },
    {
     "name": "stdout",
     "output_type": "stream",
     "text": [
      " 289 -4.8314996e+02 6.34e-02 4.38e+05  -1.0 3.41e+04    -  7.70e-03 1.53e-04f 10\n",
      "iter    objective    inf_pr   inf_du lg(mu)  ||d||  lg(rg) alpha_du alpha_pr  ls\n",
      " 290 -4.8314989e+02 1.02e+02 4.85e+07  -1.0 3.40e+04    -  2.83e-02 7.85e-02f  1\n",
      " 291 -4.8314968e+02 1.64e+02 5.85e+07  -1.0 1.02e+04    -  8.38e-03 2.57e-01f  1\n",
      " 292 -4.8314967e+02 1.62e+02 5.78e+07  -1.0 2.82e+03    -  2.90e-01 1.17e-02h  1\n",
      " 293 -4.8314967e+02 1.62e+02 5.78e+07  -1.0 2.74e+03    -  4.33e-03 1.21e-04h  1\n",
      " 294 -4.8314973e+02 1.62e+02 5.78e+07  -1.0 5.16e+02    -  1.76e-05 1.56e-05h  1\n",
      " 295 -4.8314983e+02 1.62e+02 5.78e+07  -1.0 7.16e+02    -  1.53e-02 1.79e-05h  1\n",
      " 296 -4.8315000e+02 1.62e+02 5.78e+07  -1.0 1.30e+03    -  1.95e-05 1.69e-05h  1\n",
      " 297r-4.8315000e+02 1.62e+02 1.00e+03   2.0 0.00e+00    -  0.00e+00 9.02e-08R  2\n",
      " 298r-4.8314998e+02 1.32e+02 4.40e+04   2.0 1.02e+05    -  5.43e-04 1.90e-04f  1\n",
      " 299 -4.8314998e+02 1.32e+02 1.18e+04  -1.0 2.18e+03    -  2.43e-02 1.02e-04h  1\n",
      "iter    objective    inf_pr   inf_du lg(mu)  ||d||  lg(rg) alpha_du alpha_pr  ls\n",
      " 300 -4.8315000e+02 1.32e+02 1.10e+04  -1.0 3.43e+02    -  1.17e-03 5.75e-05h  1\n",
      " 301r-4.8315000e+02 1.32e+02 1.00e+03   1.9 0.00e+00    -  0.00e+00 3.04e-07R  6\n",
      " 302r-4.8314997e+02 1.13e+02 2.68e+03   1.9 8.59e+04    -  1.85e-04 1.44e-04f  1\n",
      " 303 -4.8314851e+02 1.12e+02 7.70e+04  -1.0 1.28e+02    -  4.49e-01 1.56e-02f  1\n",
      " 304 -4.8314206e+02 1.03e+02 3.13e+05  -1.0 9.40e+01    -  1.67e-02 7.35e-02h  1\n",
      " 305 -4.8303348e+02 3.44e+01 2.58e+06  -1.0 1.39e+02    -  9.95e-02 6.68e-01h  1\n",
      " 306 -4.8314884e+02 3.34e+01 2.51e+06  -1.0 5.07e+02  -2.0 8.57e-04 2.93e-02h  1\n",
      " 307 -4.8314951e+02 3.33e+01 2.51e+06  -1.0 2.37e+03  -2.5 5.29e-02 1.03e-03h  1\n",
      " 308 -4.8315000e+02 3.28e+01 2.47e+06  -1.0 2.16e+03    -  1.00e-01 1.50e-02h  1\n",
      " 309 -4.8314994e+02 3.13e+01 2.43e+06  -1.0 2.15e+03    -  8.35e-04 5.22e-02h  1\n",
      "iter    objective    inf_pr   inf_du lg(mu)  ||d||  lg(rg) alpha_du alpha_pr  ls\n",
      " 310 -4.8314993e+02 3.12e+01 2.42e+06  -1.0 3.08e+03  -2.1 4.38e-04 2.89e-03h  1\n",
      " 311 -4.8314993e+02 3.12e+01 2.42e+06  -1.0 3.66e+02  -1.6 2.09e-02 6.28e-05h  1\n",
      " 312 -4.8314993e+02 3.09e+01 2.34e+06  -1.0 1.12e+03    -  6.02e-01 9.81e-03h  1\n",
      " 313 -4.8314993e+02 3.09e+01 2.33e+06  -1.0 8.63e+02    -  4.65e-02 1.31e-04h  1\n",
      " 314 -4.8314997e+02 3.09e+01 2.33e+06  -1.0 9.64e+01    -  6.86e-04 9.08e-05h  1\n",
      " 315 -4.8315000e+02 3.09e+01 5.01e+07  -1.0 8.54e+01    -  2.66e-03 5.04e-05h  1\n",
      " 316r-4.8315000e+02 3.09e+01 1.00e+03   1.3 0.00e+00    -  0.00e+00 3.59e-07R  5\n",
      " 317r-4.8314998e+02 1.15e+00 1.40e+04   1.3 2.02e+04    -  3.49e-03 9.94e-04f  1\n",
      " 318 -4.8314994e+02 1.15e+00 3.22e+03  -1.0 9.93e+01    -  7.46e-02 3.79e-04h  1\n",
      " 319 -4.8315000e+02 1.15e+00 7.15e+03  -1.0 6.70e+02    -  5.29e-03 4.21e-04h  1\n",
      "iter    objective    inf_pr   inf_du lg(mu)  ||d||  lg(rg) alpha_du alpha_pr  ls\n",
      " 320 -4.8315000e+02 1.15e+00 6.14e+04  -1.0 9.27e+01    -  8.11e-04 9.63e-05h  1\n",
      " 321r-4.8315000e+02 1.15e+00 1.00e+03   0.1 0.00e+00    -  0.00e+00 3.88e-07R  3\n",
      " 322r-4.8315000e+02 4.53e-01 4.89e+03   0.1 4.36e+03    -  1.20e-02 1.04e-03f  1\n",
      " 323 -4.8315000e+02 4.53e-01 9.43e+03  -1.0 1.10e+02    -  7.24e-02 2.13e-05h  1\n",
      " 324 -4.8315000e+02 4.53e-01 9.41e+05  -1.0 5.58e+02    -  3.16e-03 3.15e-05h  1\n",
      " 325r-4.8315000e+02 4.53e-01 1.00e+03  -0.5 0.00e+00    -  0.00e+00 3.42e-07R  5\n",
      " 326r-4.8315000e+02 2.48e-01 2.81e+03  -0.5 1.72e+03    -  2.18e-02 1.01e-03f  1\n",
      " 327 -4.8315000e+02 2.48e-01 2.51e+03  -1.0 1.36e+02    -  4.99e-03 3.14e-06f  2\n",
      " 328 -4.8315000e+02 2.48e-01 1.31e+08  -1.0 2.81e+02    -  8.95e-01 1.44e-05h  1\n",
      " 329r-4.8315000e+02 2.48e-01 1.00e+03  -1.0 0.00e+00    -  0.00e+00 3.92e-07R  3\n",
      "iter    objective    inf_pr   inf_du lg(mu)  ||d||  lg(rg) alpha_du alpha_pr  ls\n",
      " 330r-4.8315000e+02 1.27e-01 3.46e+03  -1.0 5.87e+01    -  8.94e-02 1.39e-03f  1\n",
      " 331 -4.8315000e+02 1.27e-01 5.67e+04  -1.0 4.57e+01    -  5.88e-02 1.42e-06f  2\n",
      " 332r-4.8315000e+02 1.27e-01 1.00e+03  -1.0 0.00e+00    -  0.00e+00 3.85e-07R  5\n",
      " 333r-4.8315000e+02 2.22e-02 3.04e+04  -1.0 4.65e+01    -  3.52e-01 5.44e-03f  1\n",
      " 334 -4.8315000e+02 2.22e-02 1.49e+04  -1.0 3.05e+01    -  6.00e-02 5.55e-06f  2\n",
      " 335 -4.8315000e+02 2.22e-02 2.30e+06  -1.0 4.39e+02    -  3.27e-03 2.11e-05h  1\n",
      " 336r-4.8315000e+02 2.22e-02 1.00e+03  -1.0 0.00e+00    -  0.00e+00 2.80e-07R  4\n",
      " 337r-4.8315000e+02 1.17e-02 1.31e+04  -1.0 4.49e+01    -  3.94e-01 1.13e-02f  1\n",
      " 338 -4.8315000e+02 1.17e-02 7.51e+03  -1.0 2.19e+02    -  5.37e-02 9.57e-06f  2\n",
      " 339 -4.8315000e+02 1.17e-02 1.44e+04  -1.0 5.23e+02    -  5.80e-05 3.00e-05h  1\n",
      "iter    objective    inf_pr   inf_du lg(mu)  ||d||  lg(rg) alpha_du alpha_pr  ls\n",
      " 340r-4.8315000e+02 1.17e-02 1.00e+03  -1.0 0.00e+00    -  0.00e+00 4.10e-07R  5\n",
      " 341r-4.8314999e+02 3.61e-03 2.72e+04  -1.0 4.58e+01    -  3.71e-01 4.57e-02f  1\n",
      " 342r-4.8314980e+02 2.02e-01 2.26e+04  -1.0 3.70e+01    -  5.48e-01 4.14e-01f  1\n",
      " 343r-4.8314898e+02 7.93e-01 5.33e+05  -1.0 3.15e+01    -  3.98e-01 8.14e-01f  1\n",
      " 344r-4.8314843e+02 5.31e-01 3.54e+05  -1.0 1.56e+01    -  2.02e-01 3.39e-01f  1\n",
      " 345r-4.8314786e+02 3.85e-01 2.52e+05  -1.0 8.80e+01    -  2.35e-01 2.82e-01f  1\n",
      " 346r-4.8314524e+02 4.12e-01 4.02e+04  -1.0 1.89e+02    -  3.48e-01 1.00e+00f  1\n",
      " 347r-4.8314457e+02 5.63e-01 3.23e+04  -1.0 7.92e+02    -  2.58e-01 1.75e-01f  1\n",
      " 348r-4.8313957e+02 2.32e-01 2.95e+03  -1.0 1.40e+02    -  9.86e-01 1.00e+00f  1\n",
      " 349r-4.8308087e+02 2.12e-02 2.61e+01  -1.0 4.23e+01    -  9.93e-01 1.00e+00f  1\n",
      "iter    objective    inf_pr   inf_du lg(mu)  ||d||  lg(rg) alpha_du alpha_pr  ls\n",
      " 350r-4.8307104e+02 7.37e-04 2.60e-02  -1.0 1.27e+00    -  1.00e+00 1.00e+00h  1\n",
      " 351 -4.8307974e+02 6.93e-04 5.39e+04  -1.0 1.06e+02    -  7.17e-01 1.06e-02h  1\n",
      " 352 -4.8308191e+02 6.91e-04 7.58e+04  -1.0 7.32e+02    -  2.99e-01 3.35e-03h  6\n",
      " 353 -4.8308244e+02 6.89e-04 1.14e+05  -1.0 1.52e+03    -  5.19e-01 1.87e-03h  8\n",
      " 354 -4.8308256e+02 6.88e-04 1.30e+05  -1.0 1.88e+03    -  2.20e-01 1.12e-03h  9\n",
      " 355 -4.8308268e+02 6.88e-04 1.91e+05  -1.0 1.89e+03    -  8.74e-01 1.11e-03h  9\n",
      " 356 -4.8308282e+02 6.87e-04 2.04e+05  -1.0 1.87e+03    -  1.91e-01 1.12e-03h  9\n",
      " 357 -4.8308297e+02 6.86e-04 2.67e+05  -1.0 1.84e+03    -  9.37e-01 1.13e-03h  9\n",
      " 358 -4.8308317e+02 6.85e-04 2.80e+05  -1.0 1.76e+03    -  1.95e-01 1.18e-03h  9\n",
      " 359 -4.8308338e+02 6.84e-04 3.50e+05  -1.0 1.75e+03    -  9.96e-01 1.18e-03h  9\n",
      "iter    objective    inf_pr   inf_du lg(mu)  ||d||  lg(rg) alpha_du alpha_pr  ls\n",
      " 360 -4.8308361e+02 6.83e-04 3.66e+05  -1.0 1.72e+03    -  1.97e-01 1.20e-03h  9\n",
      " 361 -4.8308384e+02 6.82e-04 4.61e+05  -1.0 1.71e+03    -  1.00e+00 1.20e-03h  9\n",
      " 362 -4.8314613e+02 3.23e+00 2.19e+08  -1.0 1.70e+03    -  2.01e-01 3.08e-01w  1\n",
      " 363 -4.8314617e+02 3.23e+00 2.19e+08  -1.0 3.84e+02    -  3.30e-03 7.90e-04w  1\n",
      " 364 -4.8314635e+02 3.23e+00 2.19e+08  -1.0 7.77e+02    -  1.18e-01 1.64e-03w  1\n",
      " 365 -4.8308408e+02 6.81e-04 4.96e+05  -1.0 4.93e+02    -  2.01e-01 1.20e-03h  8\n",
      " 366 -4.8308433e+02 6.80e-04 7.36e+05  -1.0 1.70e+03    -  1.00e+00 1.20e-03h  9\n",
      " 367 -4.8308458e+02 7.16e-04 8.93e+05  -1.0 1.70e+03    -  2.05e-01 1.20e-03h  9\n",
      " 368 -4.8308482e+02 7.63e-04 2.07e+06  -1.0 1.70e+03    -  1.00e+00 1.19e-03h  9\n",
      " 369 -4.8308507e+02 8.10e-04 3.01e+06  -1.0 1.69e+03    -  2.08e-01 1.19e-03h  9\n",
      "iter    objective    inf_pr   inf_du lg(mu)  ||d||  lg(rg) alpha_du alpha_pr  ls\n",
      " 370 -4.8308531e+02 8.56e-04 9.62e+06  -1.0 1.70e+03    -  1.00e+00 1.19e-03h  9\n",
      " 371 -4.8308556e+02 9.02e-04 1.41e+07  -1.0 1.69e+03    -  2.12e-01 1.18e-03h  9\n",
      " 372 -4.8308581e+02 9.48e-04 4.56e+07  -1.0 1.70e+03    -  1.00e+00 1.18e-03h  9\n",
      " 373 -4.8308605e+02 9.93e-04 6.77e+07  -1.0 1.70e+03    -  2.16e-01 1.17e-03h  9\n",
      " 374 -4.8308629e+02 1.04e-03 2.22e+08  -1.0 1.70e+03    -  1.00e+00 1.17e-03h  9\n",
      " 375 -4.8314873e+02 2.99e+00 4.57e+11  -1.0 1.70e+03    -  2.19e-01 2.97e-01w  1\n",
      " 376 -4.8314874e+02 2.99e+00 4.57e+11  -1.0 8.08e+02    -  4.84e-03 2.91e-04w  1\n",
      " 377 -4.8314892e+02 2.98e+00 4.56e+11  -1.0 8.32e+02    -  1.43e-01 2.71e-03w  1\n",
      " 378 -4.8308654e+02 1.08e-03 3.32e+08  -1.0 4.13e+02    -  2.19e-01 1.16e-03h  8\n",
      " 379 -4.8308678e+02 1.13e-03 1.10e+09  -1.0 1.70e+03    -  1.00e+00 1.16e-03h  9\n",
      "iter    objective    inf_pr   inf_du lg(mu)  ||d||  lg(rg) alpha_du alpha_pr  ls\n",
      " 380 -4.8308702e+02 1.17e-03 1.66e+09  -1.0 1.70e+03    -  2.23e-01 1.15e-03h  9\n"
     ]
    },
    {
     "name": "stdout",
     "output_type": "stream",
     "text": [
      " 381 -4.8308726e+02 1.21e-03 5.56e+09  -1.0 1.70e+03    -  1.00e+00 1.15e-03h  9\n",
      " 382 -4.8308750e+02 1.26e-03 8.51e+09  -1.0 1.70e+03    -  2.26e-01 1.14e-03h  9\n",
      " 383 -4.8308774e+02 1.30e-03 2.87e+10  -1.0 1.70e+03    -  1.00e+00 1.14e-03h  9\n",
      " 384 -4.8308798e+02 1.34e-03 4.43e+10  -1.0 1.70e+03    -  2.30e-01 1.13e-03h  9\n",
      " 385 -4.8308822e+02 1.38e-03 1.51e+11  -1.0 1.70e+03    -  1.00e+00 1.13e-03h  9\n",
      " 386 -4.8308838e+02 1.42e-03 2.02e+11  -1.0 1.82e+03    -  2.31e-01 1.05e-03h  9\n",
      " 387 -4.8308851e+02 1.46e-03 4.00e+11  -1.0 1.88e+03    -  1.00e+00 1.02e-03h  9\n",
      " 388 -4.8310843e+02 2.77e+00 2.22e+14  -1.0 1.96e+03    -  2.31e-01 2.48e-01w  1\n",
      " 389 -4.8310885e+02 2.77e+00 2.21e+14  -1.0 2.73e+02    -  4.33e-03 2.10e-03w  1\n",
      "iter    objective    inf_pr   inf_du lg(mu)  ||d||  lg(rg) alpha_du alpha_pr  ls\n",
      " 390 -4.8310983e+02 2.76e+00 2.21e+14  -1.0 4.68e+02    -  3.03e-01 3.18e-03w  1\n",
      " 391 -4.8308858e+02 1.50e-03 4.27e+11  -1.0 1.54e+02    -  2.31e-01 9.70e-04h  8\n",
      " 392 -4.8308867e+02 1.55e-03 5.93e+11  -1.0 1.93e+03    -  1.00e+00 9.78e-04h  9\n",
      " 393 -4.8308882e+02 1.59e-03 6.69e+11  -1.0 1.84e+03    -  2.37e-01 1.02e-03h  9\n",
      " 394 -4.8308896e+02 1.62e-03 9.21e+11  -1.0 1.84e+03    -  1.00e+00 1.02e-03h  9\n",
      " 395 -4.8308911e+02 1.66e-03 9.21e+11  -1.0 1.84e+03    -  2.40e-01 1.02e-03h  9\n",
      " 396 -4.8308925e+02 1.70e-03 9.24e+11  -1.0 1.84e+03    -  1.00e+00 1.01e-03h  9\n",
      " 397 -4.8308939e+02 1.74e-03 9.24e+11  -1.0 1.84e+03    -  2.43e-01 1.01e-03h  9\n",
      " 398 -4.8308953e+02 1.78e-03 9.27e+11  -1.0 1.84e+03    -  1.00e+00 1.00e-03h  9\n",
      " 399 -4.8308967e+02 1.82e-03 9.28e+11  -1.0 1.84e+03    -  2.46e-01 1.00e-03h  9\n",
      "iter    objective    inf_pr   inf_du lg(mu)  ||d||  lg(rg) alpha_du alpha_pr  ls\n",
      " 400 -4.8308981e+02 1.85e-03 9.34e+11  -1.0 1.84e+03    -  1.00e+00 9.97e-04h  9\n",
      " 401 -4.8312595e+02 2.57e+00 4.25e+14  -1.0 1.84e+03    -  2.50e-01 2.55e-01w  1\n",
      " 402 -4.8312637e+02 2.56e+00 4.23e+14  -1.0 3.92e+02    -  4.45e-03 2.89e-03w  1\n",
      " 403 -4.8312694e+02 2.54e+00 4.22e+14  -1.0 4.43e+02    -  4.80e-01 5.12e-03w  1\n",
      " 404 -4.8308995e+02 1.89e-03 9.37e+11  -1.0 7.85e+01    -  2.50e-01 9.94e-04h  8\n",
      " 405 -4.8309010e+02 1.93e-03 9.53e+11  -1.0 1.84e+03    -  1.00e+00 9.91e-04h  9\n",
      " 406 -4.8309024e+02 1.97e-03 9.60e+11  -1.0 1.83e+03    -  2.53e-01 9.92e-04h  9\n",
      " 407 -4.8309039e+02 2.00e-03 1.01e+12  -1.0 1.82e+03    -  1.00e+00 9.90e-04h  9\n",
      " 408 -4.8309055e+02 2.04e-03 1.03e+12  -1.0 1.80e+03    -  2.57e-01 1.00e-03h  9\n",
      " 409 -4.8309072e+02 2.07e-03 1.16e+12  -1.0 1.79e+03    -  1.00e+00 1.00e-03h  9\n",
      "iter    objective    inf_pr   inf_du lg(mu)  ||d||  lg(rg) alpha_du alpha_pr  ls\n",
      " 410 -4.8309091e+02 2.11e-03 1.18e+12  -1.0 1.76e+03    -  2.61e-01 1.01e-03h  9\n",
      " 411 -4.8309109e+02 2.14e-03 1.27e+12  -1.0 1.76e+03    -  1.00e+00 1.01e-03h  9\n",
      " 412 -4.8309129e+02 2.18e-03 1.29e+12  -1.0 1.74e+03    -  2.65e-01 1.02e-03h  9\n",
      " 413 -4.8309149e+02 2.21e-03 1.35e+12  -1.0 1.74e+03    -  1.00e+00 1.01e-03h  9\n",
      " 414 -4.8314218e+02 2.37e+00 6.33e+14  -1.0 1.74e+03    -  2.69e-01 2.59e-01w  1\n",
      " 415 -4.8314234e+02 2.37e+00 6.31e+14  -1.0 4.79e+02    -  4.36e-03 3.33e-03w  1\n",
      " 416 -4.8314246e+02 2.35e+00 6.27e+14  -1.0 3.85e+02    -  7.09e-02 7.11e-03w  1\n",
      " 417 -4.8309168e+02 2.25e-03 1.36e+12  -1.0 4.46e+01    -  2.69e-01 1.01e-03h  8\n",
      " 418 -4.8309188e+02 2.28e-03 1.37e+12  -1.0 1.74e+03    -  1.00e+00 1.01e-03h  9\n",
      " 419 -4.8309207e+02 2.31e-03 1.37e+12  -1.0 1.74e+03    -  2.72e-01 1.00e-03h  9\n",
      "iter    objective    inf_pr   inf_du lg(mu)  ||d||  lg(rg) alpha_du alpha_pr  ls\n",
      " 420 -4.8309227e+02 2.35e-03 1.38e+12  -1.0 1.74e+03    -  1.00e+00 9.96e-04h  9\n",
      " 421 -4.8309246e+02 2.38e-03 1.38e+12  -1.0 1.75e+03    -  2.75e-01 9.92e-04h  9\n",
      " 422 -4.8309265e+02 2.41e-03 1.38e+12  -1.0 1.75e+03    -  1.00e+00 9.87e-04h  9\n",
      " 423 -4.8309284e+02 2.44e-03 1.38e+12  -1.0 1.75e+03    -  2.78e-01 9.83e-04h  9\n",
      " 424 -4.8309302e+02 2.47e-03 1.39e+12  -1.0 1.75e+03    -  1.00e+00 9.78e-04h  9\n",
      " 425 -4.8309321e+02 2.51e-03 1.39e+12  -1.0 1.75e+03    -  2.82e-01 9.74e-04h  9\n",
      " 426 -4.8309340e+02 2.54e-03 1.40e+12  -1.0 1.75e+03    -  1.00e+00 9.70e-04h  9\n",
      " 427 -4.8314094e+02 2.20e+00 5.97e+14  -1.0 1.75e+03    -  2.85e-01 2.48e-01w  1\n",
      " 428 -4.8314112e+02 2.19e+00 5.95e+14  -1.0 4.51e+02    -  4.51e-03 3.54e-03w  1\n",
      " 429 -4.8314125e+02 2.17e+00 5.91e+14  -1.0 3.48e+02    -  1.40e-01 8.01e-03w  1\n",
      "iter    objective    inf_pr   inf_du lg(mu)  ||d||  lg(rg) alpha_du alpha_pr  ls\n",
      " 430 -4.8309358e+02 2.57e-03 1.41e+12  -1.0 4.51e+01    -  2.85e-01 9.67e-04h  8\n",
      " 431 -4.8309377e+02 2.60e-03 1.43e+12  -1.0 1.75e+03    -  1.00e+00 9.64e-04h  9\n",
      " 432 -4.8309395e+02 2.63e-03 1.44e+12  -1.0 1.74e+03    -  2.88e-01 9.63e-04h  9\n",
      " 433 -4.8309414e+02 2.66e-03 1.48e+12  -1.0 1.74e+03    -  1.00e+00 9.60e-04h  9\n",
      " 434 -4.8309434e+02 2.69e-03 1.49e+12  -1.0 1.73e+03    -  2.92e-01 9.63e-04h  9\n",
      " 435 -4.8309454e+02 2.72e-03 1.57e+12  -1.0 1.72e+03    -  1.00e+00 9.62e-04h  9\n",
      " 436 -4.8309475e+02 2.75e-03 1.60e+12  -1.0 1.71e+03    -  2.96e-01 9.68e-04h  9\n",
      " 437 -4.8309496e+02 2.78e-03 2.70e+12  -1.0 1.70e+03    -  1.00e+00 9.69e-04h  9\n",
      " 438 -4.8309517e+02 2.80e-03 3.03e+12  -1.0 1.67e+03    -  3.00e-01 8.93e-04h  9\n",
      " 439 -4.8309538e+02 2.82e-03 3.36e+12  -1.0 1.66e+03    -  1.00e+00 8.74e-04h  9\n",
      "iter    objective    inf_pr   inf_du lg(mu)  ||d||  lg(rg) alpha_du alpha_pr  ls\n",
      " 440 -4.8314946e+02 1.46e+00 6.26e+14  -1.0 1.64e+03    -  3.04e-01 2.14e-01w  1\n",
      " 441 -4.8314959e+02 1.45e+00 6.43e+14  -1.0 1.76e+03    -  4.01e-02 3.90e-02w  1\n",
      " 442 -4.8314959e+02 1.44e+00 6.35e+14  -1.0 5.80e+01    -  2.94e-02 1.22e-02w  1\n",
      " 443 -4.8309581e+02 2.91e-03 4.00e+12  -1.0 4.48e+01    -  3.04e-01 1.67e-03h  7\n",
      " 444 -4.8309623e+02 2.99e-03 4.12e+12  -1.0 1.64e+03    -  1.00e+00 1.65e-03h  8\n",
      " 445 -4.8309664e+02 3.07e-03 4.12e+12  -1.0 1.64e+03    -  3.10e-01 1.61e-03h  8\n",
      " 446 -4.8309705e+02 3.14e-03 4.98e+12  -1.0 1.64e+03    -  1.00e+00 1.60e-03h  8\n",
      " 447 -4.8309746e+02 3.21e-03 4.98e+12  -1.0 1.63e+03    -  3.16e-01 1.56e-03h  8\n",
      " 448 -4.8309787e+02 3.28e-03 4.98e+12  -1.0 1.63e+03    -  1.00e+00 1.56e-03h  8\n",
      " 449 -4.8309827e+02 3.35e-03 5.06e+12  -1.0 1.63e+03    -  3.21e-01 1.52e-03h  8\n",
      "iter    objective    inf_pr   inf_du lg(mu)  ||d||  lg(rg) alpha_du alpha_pr  ls\n",
      " 450 -4.8309867e+02 3.42e-03 6.21e+12  -1.0 1.63e+03    -  1.00e+00 1.52e-03h  8\n",
      " 451 -4.8309907e+02 3.48e-03 7.20e+12  -1.0 1.63e+03    -  3.27e-01 1.49e-03h  8\n",
      " 452 -4.8309946e+02 3.54e-03 1.08e+13  -1.0 1.63e+03    -  1.00e+00 1.48e-03h  8\n",
      " 453 -4.8314950e+02 1.07e+00 5.74e+14  -1.0 1.62e+03    -  3.32e-01 1.86e-01w  1\n",
      " 454 -4.8314964e+02 1.11e+00 6.25e+14  -1.0 1.82e+03    -  5.45e-02 5.16e-02w  1\n",
      " 455 -4.8314964e+02 1.10e+00 6.18e+14  -1.0 8.13e+01    -  2.29e-02 1.17e-02w  1\n",
      " 456 -4.8309986e+02 3.60e-03 1.26e+13  -1.0 4.56e+01    -  3.32e-01 1.45e-03h  7\n",
      " 457 -4.8310024e+02 3.66e-03 1.87e+13  -1.0 1.63e+03    -  9.53e-01 1.45e-03h  8\n",
      " 458 -4.8310063e+02 3.72e-03 2.19e+13  -1.0 1.62e+03    -  3.43e-01 1.43e-03h  8\n",
      " 459 -4.8310101e+02 3.78e-03 2.88e+13  -1.0 1.63e+03    -  6.13e-01 1.42e-03h  8\n",
      "iter    objective    inf_pr   inf_du lg(mu)  ||d||  lg(rg) alpha_du alpha_pr  ls\n",
      " 460 -4.8310139e+02 3.83e-03 3.53e+13  -1.0 1.63e+03    -  4.38e-01 1.41e-03h  8\n",
      " 461 -4.8310177e+02 3.89e-03 4.32e+13  -1.0 1.63e+03    -  4.31e-01 1.40e-03h  8\n",
      " 462 -4.8310214e+02 3.94e-03 5.77e+13  -1.0 1.63e+03    -  6.41e-01 1.39e-03h  8\n",
      " 463 -4.8310251e+02 4.00e-03 6.74e+13  -1.0 1.63e+03    -  3.23e-01 1.38e-03h  8\n",
      " 464 -4.8310288e+02 4.05e-03 1.03e+14  -1.0 1.63e+03    -  1.00e+00 1.37e-03h  8\n",
      " 465 -4.8310324e+02 4.10e-03 1.16e+14  -1.0 1.62e+03    -  2.71e-01 1.34e-03h  8\n",
      " 466 -4.8314954e+02 9.05e-01 5.60e+14  -1.0 1.63e+03    -  1.00e+00 1.71e-01w  1\n",
      " 467 -4.8314963e+02 9.62e-01 6.85e+14  -1.0 1.81e+03    -  5.14e-02 5.26e-02w  1\n",
      " 468 -4.8314963e+02 9.53e-01 6.78e+14  -1.0 8.07e+01    -  9.04e-03 9.06e-03w  1\n",
      " 469 -4.8310360e+02 4.15e-03 1.16e+14  -1.0 4.62e+01    -  1.00e+00 1.33e-03h  7\n",
      "iter    objective    inf_pr   inf_du lg(mu)  ||d||  lg(rg) alpha_du alpha_pr  ls\n",
      " 470 -4.8310396e+02 4.20e-03 1.16e+14  -1.0 1.62e+03    -  2.69e-01 1.31e-03h  8\n",
      " 471 -4.8310432e+02 4.24e-03 1.16e+14  -1.0 1.62e+03    -  1.00e+00 1.31e-03h  8\n",
      " 472 -4.8310467e+02 4.29e-03 1.16e+14  -1.0 1.62e+03    -  2.65e-01 1.28e-03h  8\n",
      " 473 -4.8310502e+02 4.33e-03 1.16e+14  -1.0 1.62e+03    -  1.00e+00 1.28e-03h  8\n",
      " 474 -4.8310537e+02 4.38e-03 1.16e+14  -1.0 1.62e+03    -  2.62e-01 1.27e-03h  8\n",
      " 475 -4.8310571e+02 4.42e-03 1.16e+14  -1.0 1.63e+03    -  1.00e+00 1.27e-03h  8\n",
      " 476 -4.8310606e+02 4.46e-03 1.16e+14  -1.0 1.63e+03    -  2.57e-01 1.26e-03h  8\n"
     ]
    },
    {
     "name": "stdout",
     "output_type": "stream",
     "text": [
      " 477 -4.8310640e+02 4.51e-03 1.16e+14  -1.0 1.63e+03    -  1.00e+00 1.26e-03h  8\n",
      " 478 -4.8310673e+02 4.55e-03 1.16e+14  -1.0 1.63e+03    -  2.52e-01 1.26e-03h  8\n",
      " 479 -4.8314957e+02 8.24e-01 5.69e+14  -1.0 1.64e+03    -  1.00e+00 1.62e-01w  1\n",
      "iter    objective    inf_pr   inf_du lg(mu)  ||d||  lg(rg) alpha_du alpha_pr  ls\n",
      " 480 -4.8314965e+02 8.72e-01 6.90e+14  -1.0 1.78e+03    -  4.79e-02 4.90e-02w  1\n",
      " 481 -4.8314965e+02 8.60e-01 6.81e+14  -1.0 6.69e+01    -  9.68e-03 1.32e-02w  1\n",
      " 482 -4.8310707e+02 4.60e-03 1.16e+14  -1.0 4.61e+01    -  1.00e+00 1.26e-03h  7\n",
      " 483 -4.8310740e+02 4.64e-03 1.16e+14  -1.0 1.64e+03    -  2.48e-01 1.26e-03h  8\n",
      " 484 -4.8310773e+02 4.68e-03 1.16e+14  -1.0 1.64e+03    -  1.00e+00 1.26e-03h  8\n",
      " 485 -4.8310806e+02 4.73e-03 1.16e+14  -1.0 1.65e+03    -  2.43e-01 1.26e-03h  8\n",
      " 486 -4.8310838e+02 4.77e-03 1.16e+14  -1.0 1.65e+03    -  1.00e+00 1.27e-03h  8\n",
      " 487 -4.8310870e+02 4.82e-03 1.16e+14  -1.0 1.65e+03    -  2.39e-01 1.26e-03h  8\n",
      " 488 -4.8310902e+02 4.86e-03 1.16e+14  -1.0 1.66e+03    -  1.00e+00 1.27e-03h  8\n",
      " 489 -4.8310934e+02 4.91e-03 1.16e+14  -1.0 1.66e+03    -  2.34e-01 1.26e-03h  8\n",
      "iter    objective    inf_pr   inf_du lg(mu)  ||d||  lg(rg) alpha_du alpha_pr  ls\n",
      " 490 -4.8310965e+02 4.95e-03 1.16e+14  -1.0 1.66e+03    -  1.00e+00 1.26e-03h  8\n",
      " 491 -4.8310997e+02 5.00e-03 1.16e+14  -1.0 1.67e+03    -  2.30e-01 1.27e-03h  8\n",
      " 492 -4.8314960e+02 8.64e-01 6.47e+14  -1.0 1.67e+03    -  1.00e+00 1.63e-01w  1\n",
      " 493 -4.8314967e+02 8.75e-01 7.37e+14  -1.0 1.67e+03    -  3.46e-02 3.59e-02w  1\n",
      " 494 -4.8314967e+02 8.61e-01 7.25e+14  -1.0 4.72e+01    -  1.07e-02 1.60e-02w  1\n",
      " 495 -4.8311028e+02 5.05e-03 1.16e+14  -1.0 4.58e+01    -  1.00e+00 1.27e-03h  7\n",
      " 496 -4.8311058e+02 5.09e-03 1.16e+14  -1.0 1.67e+03    -  2.26e-01 1.27e-03h  8\n",
      " 497 -4.8311089e+02 5.14e-03 1.16e+14  -1.0 1.68e+03    -  1.00e+00 1.28e-03h  8\n",
      " 498 -4.8311119e+02 5.19e-03 1.16e+14  -1.0 1.68e+03    -  2.21e-01 1.28e-03h  8\n",
      " 499 -4.8311149e+02 5.23e-03 1.16e+14  -1.0 1.68e+03    -  1.00e+00 1.28e-03h  8\n",
      "iter    objective    inf_pr   inf_du lg(mu)  ||d||  lg(rg) alpha_du alpha_pr  ls\n",
      " 500 -4.8311179e+02 5.28e-03 1.16e+14  -1.0 1.68e+03    -  2.17e-01 1.28e-03h  8\n",
      " 501 -4.8311208e+02 5.33e-03 1.16e+14  -1.0 1.69e+03    -  1.00e+00 1.29e-03h  8\n",
      " 502 -4.8311238e+02 5.38e-03 1.16e+14  -1.0 1.69e+03    -  2.13e-01 1.29e-03h  8\n",
      " 503 -4.8311267e+02 5.43e-03 1.16e+14  -1.0 1.69e+03    -  1.00e+00 1.29e-03h  8\n",
      " 504 -4.8311296e+02 5.47e-03 1.16e+14  -1.0 1.70e+03    -  2.09e-01 1.29e-03h  8\n",
      " 505 -4.8314963e+02 9.30e-01 7.36e+14  -1.0 1.70e+03    -  1.00e+00 1.66e-01w  1\n",
      " 506 -4.8314967e+02 9.20e-01 7.59e+14  -1.0 1.41e+03    -  1.87e-02 1.67e-02w  1\n",
      " 507 -4.8314968e+02 9.10e-01 7.54e+14  -1.0 4.50e+02    -  1.64e-02 1.17e-02w  1\n",
      " 508 -4.8311324e+02 5.52e-03 1.16e+14  -1.0 4.65e+01    -  1.00e+00 1.30e-03h  7\n",
      " 509 -4.8311353e+02 5.57e-03 1.16e+14  -1.0 1.70e+03    -  2.05e-01 1.30e-03h  8\n",
      "iter    objective    inf_pr   inf_du lg(mu)  ||d||  lg(rg) alpha_du alpha_pr  ls\n",
      " 510 -4.8311381e+02 5.62e-03 1.16e+14  -1.0 1.70e+03    -  1.00e+00 1.30e-03h  8\n",
      " 511 -4.8311409e+02 5.67e-03 1.16e+14  -1.0 1.70e+03    -  2.01e-01 1.30e-03h  8\n",
      " 512 -4.8311437e+02 5.72e-03 1.16e+14  -1.0 1.71e+03    -  1.00e+00 1.31e-03h  8\n",
      " 513 -4.8311464e+02 5.77e-03 1.16e+14  -1.0 1.71e+03    -  1.97e-01 1.31e-03h  8\n",
      " 514 -4.8311492e+02 5.83e-03 1.16e+14  -1.0 1.71e+03    -  1.00e+00 1.31e-03h  8\n",
      " 515 -4.8311519e+02 5.88e-03 1.16e+14  -1.0 1.71e+03    -  1.93e-01 1.31e-03h  8\n",
      " 516 -4.8311546e+02 5.93e-03 1.16e+14  -1.0 1.71e+03    -  1.00e+00 1.31e-03h  8\n",
      " 517 -4.8311573e+02 5.98e-03 1.16e+14  -1.0 1.71e+03    -  1.90e-01 1.31e-03h  8\n",
      " 518 -4.8314929e+02 9.54e-01 7.70e+14  -1.0 1.72e+03    -  1.00e+00 1.66e-01w  1\n",
      " 519 -4.8314930e+02 9.48e-01 7.67e+14  -1.0 2.57e+02    -  5.77e-03 5.77e-03w  1\n",
      "iter    objective    inf_pr   inf_du lg(mu)  ||d||  lg(rg) alpha_du alpha_pr  ls\n",
      " 520 -4.8314930e+02 9.36e-01 7.56e+14  -1.0 1.10e+02    -  1.45e-02 1.29e-02w  1\n",
      " 521 -4.8311599e+02 6.03e-03 1.16e+14  -1.0 4.62e+01    -  1.00e+00 1.30e-03h  7\n",
      " 522 -4.8311625e+02 6.08e-03 1.16e+14  -1.0 1.72e+03    -  1.86e-01 1.29e-03h  8\n",
      " 523 -4.8311650e+02 6.13e-03 1.16e+14  -1.0 1.72e+03    -  1.00e+00 1.28e-03h  8\n",
      " 524 -4.8311675e+02 6.17e-03 1.16e+14  -1.0 1.72e+03    -  1.83e-01 1.27e-03h  8\n",
      " 525 -4.8311699e+02 6.22e-03 1.16e+14  -1.0 1.72e+03    -  1.00e+00 1.25e-03h  8\n",
      " 526 -4.8311723e+02 6.27e-03 1.16e+14  -1.0 1.72e+03    -  1.79e-01 1.24e-03h  8\n",
      " 527 -4.8311747e+02 6.31e-03 1.16e+14  -1.0 1.73e+03    -  1.00e+00 1.23e-03h  8\n",
      " 528 -4.8311770e+02 6.35e-03 1.16e+14  -1.0 1.73e+03    -  1.76e-01 1.22e-03h  8\n",
      " 529 -4.8311793e+02 6.40e-03 1.16e+14  -1.0 1.73e+03    -  1.00e+00 1.21e-03h  8\n",
      "iter    objective    inf_pr   inf_du lg(mu)  ||d||  lg(rg) alpha_du alpha_pr  ls\n",
      " 530 -4.8311815e+02 6.44e-03 1.16e+14  -1.0 1.73e+03    -  1.73e-01 1.20e-03h  8\n",
      " 531 -4.8314650e+02 8.18e-01 6.77e+14  -1.0 1.73e+03    -  1.00e+00 1.53e-01w  1\n",
      " 532 -4.8314654e+02 8.13e-01 6.75e+14  -1.0 2.28e+02    -  6.17e-03 6.57e-03w  1\n",
      " 533 -4.8314652e+02 8.01e-01 6.63e+14  -1.0 8.05e+01    -  1.64e-02 1.48e-02w  1\n",
      " 534 -4.8311837e+02 6.48e-03 1.16e+14  -1.0 4.63e+01    -  1.00e+00 1.19e-03h  7\n",
      " 535 -4.8311859e+02 6.52e-03 1.16e+14  -1.0 1.73e+03    -  1.70e-01 1.18e-03h  8\n",
      " 536 -4.8311881e+02 6.56e-03 1.16e+14  -1.0 1.73e+03    -  1.00e+00 1.18e-03h  8\n",
      " 537 -4.8311902e+02 6.60e-03 1.16e+14  -1.0 1.73e+03    -  1.66e-01 1.17e-03h  8\n",
      " 538 -4.8311922e+02 6.64e-03 1.16e+14  -1.0 1.73e+03    -  1.00e+00 1.16e-03h  8\n",
      " 539 -4.8311943e+02 6.68e-03 1.16e+14  -1.0 1.73e+03    -  1.64e-01 1.15e-03h  8\n",
      "iter    objective    inf_pr   inf_du lg(mu)  ||d||  lg(rg) alpha_du alpha_pr  ls\n",
      " 540 -4.8311963e+02 6.72e-03 1.16e+14  -1.0 1.73e+03    -  1.00e+00 1.14e-03h  8\n",
      " 541 -4.8311982e+02 6.76e-03 1.16e+14  -1.0 1.73e+03    -  1.61e-01 1.13e-03h  8\n",
      " 542 -4.8312002e+02 6.79e-03 1.16e+14  -1.0 1.73e+03    -  1.00e+00 1.12e-03h  8\n",
      " 543 -4.8312021e+02 6.83e-03 1.16e+14  -1.0 1.73e+03    -  1.58e-01 1.11e-03h  8\n",
      " 544 -4.8314440e+02 7.02e-01 5.98e+14  -1.0 1.73e+03    -  1.00e+00 1.41e-01w  1\n",
      " 545 -4.8314449e+02 6.96e-01 5.96e+14  -1.0 2.02e+02    -  6.60e-03 7.50e-03w  1\n",
      " 546 -4.8314445e+02 6.84e-01 5.82e+14  -1.0 5.59e+01    -  1.85e-02 1.75e-02w  1\n",
      " 547 -4.8312040e+02 6.86e-03 1.16e+14  -1.0 4.63e+01    -  1.00e+00 1.10e-03h  7\n",
      " 548 -4.8312059e+02 6.90e-03 1.16e+14  -1.0 1.73e+03    -  1.55e-01 1.09e-03h  8\n",
      " 549 -4.8312077e+02 6.93e-03 1.16e+14  -1.0 1.73e+03    -  1.00e+00 1.09e-03h  8\n",
      "iter    objective    inf_pr   inf_du lg(mu)  ||d||  lg(rg) alpha_du alpha_pr  ls\n",
      " 550 -4.8312095e+02 6.96e-03 1.16e+14  -1.0 1.73e+03    -  1.53e-01 1.08e-03h  8\n",
      " 551 -4.8312113e+02 7.00e-03 1.16e+14  -1.0 1.73e+03    -  1.00e+00 1.07e-03h  8\n",
      " 552 -4.8312130e+02 7.03e-03 1.16e+14  -1.0 1.73e+03    -  1.50e-01 1.06e-03h  8\n",
      " 553 -4.8312148e+02 7.06e-03 1.16e+14  -1.0 1.73e+03    -  1.00e+00 1.05e-03h  8\n",
      " 554 -4.8312165e+02 7.09e-03 1.16e+14  -1.0 1.73e+03    -  1.47e-01 1.04e-03h  8\n",
      " 555 -4.8312181e+02 7.12e-03 1.16e+14  -1.0 1.73e+03    -  1.00e+00 1.04e-03h  8\n",
      " 556 -4.8312198e+02 7.15e-03 1.16e+14  -1.0 1.73e+03    -  1.45e-01 1.03e-03h  8\n",
      " 557 -4.8314283e+02 6.02e-01 5.29e+14  -1.0 1.73e+03    -  1.00e+00 1.31e-01w  1\n",
      " 558 -4.8314298e+02 5.97e-01 5.28e+14  -1.0 1.79e+02    -  7.06e-03 8.60e-03w  1\n",
      " 559 -4.8314290e+02 5.84e-01 5.12e+14  -1.0 4.78e+01    -  2.12e-02 2.15e-02w  1\n",
      "iter    objective    inf_pr   inf_du lg(mu)  ||d||  lg(rg) alpha_du alpha_pr  ls\n",
      " 560 -4.8312214e+02 7.18e-03 1.16e+14  -1.0 4.60e+01    -  1.00e+00 1.02e-03h  7\n",
      " 561 -4.8312230e+02 7.21e-03 1.16e+14  -1.0 1.73e+03    -  1.43e-01 1.01e-03h  8\n",
      " 562 -4.8312246e+02 7.23e-03 1.16e+14  -1.0 1.73e+03    -  1.00e+00 1.01e-03h  8\n",
      " 563 -4.8312262e+02 7.26e-03 1.16e+14  -1.0 1.73e+03    -  1.40e-01 9.98e-04h  8\n",
      " 564 -4.8312277e+02 7.29e-03 1.16e+14  -1.0 1.73e+03    -  1.00e+00 9.91e-04h  8\n",
      " 565 -4.8312293e+02 7.32e-03 1.16e+14  -1.0 1.73e+03    -  1.38e-01 9.83e-04h  8\n",
      " 566 -4.8312308e+02 7.34e-03 1.16e+14  -1.0 1.73e+03    -  1.00e+00 9.76e-04h  8\n",
      " 567 -4.8312322e+02 7.37e-03 1.16e+14  -1.0 1.73e+03    -  1.36e-01 9.69e-04h  8\n",
      " 568 -4.8312337e+02 7.39e-03 1.16e+14  -1.0 1.73e+03    -  1.00e+00 9.61e-04h  8\n",
      " 569 -4.8312352e+02 7.42e-03 1.16e+14  -1.0 1.73e+03    -  1.34e-01 9.54e-04h  8\n",
      "iter    objective    inf_pr   inf_du lg(mu)  ||d||  lg(rg) alpha_du alpha_pr  ls\n",
      " 570 -4.8314172e+02 5.17e-01 4.72e+14  -1.0 1.73e+03    -  1.00e+00 1.21e-01w  1\n"
     ]
    },
    {
     "name": "stdout",
     "output_type": "stream",
     "text": [
      " 571 -4.8314195e+02 5.12e-01 4.72e+14  -1.0 1.58e+02    -  7.54e-03 9.90e-03w  1\n",
      " 572 -4.8314183e+02 4.97e-01 4.50e+14  -1.0 4.78e+01    -  2.44e-02 2.93e-02w  1\n",
      " 573 -4.8312366e+02 7.44e-03 1.17e+14  -1.0 4.54e+01    -  1.00e+00 9.47e-04h  7\n",
      " 574 -4.8312380e+02 7.46e-03 1.17e+14  -1.0 1.73e+03    -  1.31e-01 9.40e-04h  8\n",
      " 575 -4.8312394e+02 7.49e-03 1.17e+14  -1.0 1.73e+03    -  1.00e+00 9.33e-04h  8\n",
      " 576 -4.8312407e+02 7.51e-03 1.17e+14  -1.0 1.73e+03    -  1.29e-01 9.26e-04h  8\n",
      " 577 -4.8312421e+02 7.53e-03 1.17e+14  -1.0 1.73e+03    -  1.00e+00 9.19e-04h  8\n",
      " 578 -4.8312434e+02 7.55e-03 1.17e+14  -1.0 1.73e+03    -  1.27e-01 9.13e-04h  8\n",
      " 579 -4.8312447e+02 7.58e-03 1.17e+14  -1.0 1.73e+03    -  1.00e+00 9.06e-04h  8\n",
      "iter    objective    inf_pr   inf_du lg(mu)  ||d||  lg(rg) alpha_du alpha_pr  ls\n",
      " 580 -4.8312460e+02 7.60e-03 1.17e+14  -1.0 1.72e+03    -  1.25e-01 9.00e-04h  8\n",
      " 581 -4.8312473e+02 7.62e-03 1.17e+14  -1.0 1.72e+03    -  1.00e+00 8.93e-04h  8\n",
      " 582 -4.8312486e+02 7.64e-03 1.17e+14  -1.0 1.72e+03    -  1.23e-01 8.87e-04h  8\n",
      " 583 -4.8314086e+02 4.44e-01 4.22e+14  -1.0 1.72e+03    -  1.00e+00 1.13e-01w  1\n",
      " 584 -4.8314117e+02 4.39e-01 4.22e+14  -1.0 1.39e+02    -  8.06e-03 1.14e-02w  1\n",
      " 585 -4.8314096e+02 4.14e-01 3.78e+14  -1.0 4.78e+01    -  2.83e-02 5.59e-02w  1\n",
      " 586 -4.8312498e+02 7.66e-03 1.17e+14  -1.0 4.31e+01    -  1.00e+00 8.80e-04h  7\n",
      " 587 -4.8312511e+02 7.68e-03 1.17e+14  -1.0 1.72e+03    -  1.22e-01 8.74e-04h  8\n",
      " 588 -4.8312523e+02 7.70e-03 1.17e+14  -1.0 1.72e+03    -  1.00e+00 8.68e-04h  8\n",
      " 589 -4.8312535e+02 7.72e-03 1.17e+14  -1.0 1.72e+03    -  1.20e-01 8.62e-04h  8\n",
      "iter    objective    inf_pr   inf_du lg(mu)  ||d||  lg(rg) alpha_du alpha_pr  ls\n",
      " 590 -4.8312547e+02 7.73e-03 1.17e+14  -1.0 1.72e+03    -  1.00e+00 8.55e-04h  8\n",
      " 591 -4.8312558e+02 7.75e-03 1.17e+14  -1.0 1.72e+03    -  1.18e-01 8.49e-04h  8\n",
      " 592 -4.8312570e+02 7.77e-03 1.17e+14  -1.0 1.72e+03    -  1.00e+00 8.43e-04h  8\n",
      " 593 -4.8312582e+02 7.79e-03 1.17e+14  -1.0 1.72e+03    -  1.16e-01 8.37e-04h  8\n",
      " 594 -4.8312593e+02 7.80e-03 1.17e+14  -1.0 1.71e+03    -  1.00e+00 8.31e-04h  8\n",
      " 595 -4.8312604e+02 7.82e-03 1.17e+14  -1.0 1.71e+03    -  1.14e-01 8.25e-04h  8\n",
      " 596 -4.8314014e+02 3.81e-01 3.76e+14  -1.0 1.71e+03    -  1.00e+00 1.05e-01w  1\n",
      " 597 -4.8314053e+02 3.76e-01 3.77e+14  -1.0 1.22e+02    -  8.61e-03 1.31e-02w  1\n",
      " 598 -4.8313929e+02 5.18e-01 1.06e+15  -1.0 4.77e+01    -  2.33e-02 5.65e-01w  1\n",
      " 599 -4.8312615e+02 7.84e-03 1.17e+14  -1.0 1.88e+01    -  1.00e+00 8.19e-04h  7\n",
      "iter    objective    inf_pr   inf_du lg(mu)  ||d||  lg(rg) alpha_du alpha_pr  ls\n",
      " 600 -4.8312626e+02 7.85e-03 1.17e+14  -1.0 1.71e+03    -  1.12e-01 8.13e-04h  8\n",
      " 601 -4.8312647e+02 7.93e-03 1.17e+14  -1.0 1.71e+03    -  1.00e+00 1.62e-03h  7\n",
      " 602 -4.8312668e+02 8.00e-03 1.17e+14  -1.0 1.71e+03    -  1.10e-01 1.59e-03h  7\n",
      " 603 -4.8312689e+02 8.07e-03 1.17e+14  -1.0 1.71e+03    -  1.00e+00 1.57e-03h  7\n",
      " 604 -4.8312709e+02 8.14e-03 1.17e+14  -1.0 1.70e+03    -  1.07e-01 1.55e-03h  7\n",
      " 605 -4.8312728e+02 8.21e-03 1.17e+14  -1.0 1.70e+03    -  1.00e+00 1.53e-03h  7\n",
      " 606 -4.8312747e+02 8.27e-03 1.17e+14  -1.0 1.70e+03    -  1.03e-01 1.50e-03h  7\n",
      " 607 -4.8312766e+02 8.33e-03 1.17e+14  -1.0 1.70e+03    -  1.00e+00 1.48e-03h  7\n",
      " 608 -4.8312784e+02 8.39e-03 1.17e+14  -1.0 1.69e+03    -  1.00e-01 1.46e-03h  7\n",
      " 609 -4.8313914e+02 2.90e-01 3.04e+14  -1.0 1.69e+03    -  1.00e+00 9.24e-02w  1\n",
      "iter    objective    inf_pr   inf_du lg(mu)  ||d||  lg(rg) alpha_du alpha_pr  ls\n",
      " 610 -4.8313968e+02 2.86e-01 3.08e+14  -1.0 9.58e+01    -  9.71e-03 1.64e-02w  1\n",
      " 611 -4.8314085e+02 6.00e-01 4.44e+15  -1.0 4.74e+01    -  1.90e-03 6.12e-01w  1\n",
      " 612 -4.8312801e+02 8.45e-03 1.17e+14  -1.0 6.67e+01  10.2 1.00e+00 1.44e-03h  6\n",
      " 613 -4.8312819e+02 8.50e-03 1.17e+14  -1.0 1.69e+03    -  9.75e-02 1.42e-03h  7\n",
      " 614 -4.8312835e+02 8.55e-03 1.17e+14  -1.0 1.68e+03    -  1.00e+00 1.40e-03h  7\n",
      " 615 -4.8312852e+02 8.61e-03 1.17e+14  -1.0 1.68e+03    -  9.47e-02 1.38e-03h  7\n",
      " 616 -4.8312868e+02 8.65e-03 1.17e+14  -1.0 1.68e+03    -  7.17e-01 1.37e-03h  7\n",
      " 617 -4.8312884e+02 8.70e-03 1.17e+14  -1.0 1.68e+03    -  9.57e-02 1.35e-03h  7\n",
      " 618 -4.8312899e+02 8.75e-03 1.17e+14  -1.0 1.67e+03    -  1.00e+00 1.33e-03h  7\n",
      " 619 -4.8312914e+02 8.79e-03 1.17e+14  -1.0 1.67e+03    -  8.91e-02 1.31e-03h  7\n",
      "iter    objective    inf_pr   inf_du lg(mu)  ||d||  lg(rg) alpha_du alpha_pr  ls\n",
      " 620 -4.8312929e+02 8.83e-03 1.18e+14  -1.0 1.67e+03    -  4.75e-01 1.29e-03h  7\n",
      " 621 -4.8312943e+02 8.87e-03 1.18e+14  -1.0 1.66e+03    -  9.70e-02 1.28e-03h  7\n",
      " 622 -4.8313834e+02 2.15e-01 2.39e+14  -1.0 1.66e+03    -  1.00e+00 8.06e-02w  1\n",
      " 623 -4.8313895e+02 2.11e-01 2.44e+14  -1.0 7.23e+01    -  1.11e-02 1.86e-02w  1\n",
      " 624 -4.8313996e+02 5.82e-01 3.01e+15  -1.0 4.72e+01    -  3.42e-03 6.05e-01w  1\n",
      " 625 -4.8312957e+02 8.91e-03 1.18e+14  -1.0 1.27e+02   9.7 1.00e+00 1.26e-03h  6\n",
      " 626 -4.8312970e+02 8.95e-03 1.18e+14  -1.0 1.65e+03    -  8.40e-02 1.24e-03h  7\n",
      " 627 -4.8312984e+02 8.99e-03 1.18e+14  -1.0 1.65e+03    -  4.76e-01 1.23e-03h  7\n",
      " 628 -4.8312997e+02 9.02e-03 1.18e+14  -1.0 1.65e+03    -  9.12e-02 1.21e-03h  7\n",
      " 629 -4.8313009e+02 9.06e-03 1.18e+14  -1.0 1.64e+03    -  1.00e+00 1.19e-03h  7\n",
      "iter    objective    inf_pr   inf_du lg(mu)  ||d||  lg(rg) alpha_du alpha_pr  ls\n",
      " 630 -4.8313022e+02 9.09e-03 1.18e+14  -1.0 1.64e+03    -  7.94e-02 1.18e-03h  7\n",
      " 631 -4.8313034e+02 9.12e-03 1.18e+14  -1.0 1.64e+03    -  4.69e-01 1.16e-03h  7\n",
      " 632 -4.8313046e+02 9.15e-03 1.18e+14  -1.0 1.63e+03    -  8.62e-02 1.15e-03h  7\n",
      " 633 -4.8313057e+02 9.18e-03 1.18e+14  -1.0 1.63e+03    -  1.00e+00 1.13e-03h  7\n",
      " 634 -4.8313068e+02 9.21e-03 1.18e+14  -1.0 1.62e+03    -  7.52e-02 1.12e-03h  7\n",
      " 635 -4.8313770e+02 1.60e-01 1.85e+14  -1.0 1.62e+03    -  4.64e-01 7.07e-02w  1\n",
      " 636 -4.8313791e+02 1.57e-01 1.85e+14  -1.0 6.20e+01    -  1.27e-02 1.86e-02w  1\n",
      " 637 -4.8313870e+02 5.59e-01 1.13e+15  -1.0 4.72e+01    -  6.40e-03 5.94e-01w  1\n",
      " 638 -4.8313079e+02 9.24e-03 1.18e+14  -1.0 3.38e+02    -  4.64e-01 1.10e-03h  6\n",
      " 639 -4.8313090e+02 9.26e-03 1.18e+14  -1.0 1.61e+03    -  8.14e-02 1.09e-03h  7\n",
      "iter    objective    inf_pr   inf_du lg(mu)  ||d||  lg(rg) alpha_du alpha_pr  ls\n",
      " 640 -4.8313100e+02 9.29e-03 1.18e+14  -1.0 1.61e+03    -  1.00e+00 1.08e-03h  7\n",
      " 641 -4.8313111e+02 9.31e-03 1.18e+14  -1.0 1.60e+03    -  7.13e-02 1.06e-03h  7\n",
      " 642 -4.8313120e+02 9.33e-03 1.18e+14  -1.0 1.60e+03    -  4.61e-01 1.05e-03h  7\n",
      " 643 -4.8313130e+02 9.35e-03 1.18e+14  -1.0 1.60e+03    -  7.70e-02 1.04e-03h  7\n",
      " 644 -4.8313140e+02 9.38e-03 1.18e+14  -1.0 1.59e+03    -  1.00e+00 1.02e-03h  7\n",
      " 645 -4.8313149e+02 9.40e-03 1.18e+14  -1.0 1.59e+03    -  6.77e-02 1.01e-03h  7\n",
      " 646 -4.8313158e+02 9.42e-03 1.18e+14  -1.0 1.58e+03    -  4.59e-01 9.99e-04h  7\n",
      " 647 -4.8313166e+02 9.43e-03 1.18e+14  -1.0 1.58e+03    -  7.29e-02 9.87e-04h  7\n",
      " 648 -4.8313707e+02 1.20e-01 1.39e+14  -1.0 1.57e+03    -  1.00e+00 6.24e-02w  1\n",
      " 649 -4.8313776e+02 1.17e-01 1.48e+14  -1.0 4.85e+01    -  1.45e-02 2.50e-02w  1\n",
      "iter    objective    inf_pr   inf_du lg(mu)  ||d||  lg(rg) alpha_du alpha_pr  ls\n",
      " 650 -4.8313893e+02 5.61e-01 2.71e+15  -1.0 4.65e+01    -  4.85e-03 6.00e-01w  1\n",
      " 651 -4.8313175e+02 9.45e-03 1.18e+14  -1.0 2.96e+02   9.3 1.00e+00 9.75e-04h  6\n",
      " 652 -4.8313183e+02 9.47e-03 1.18e+14  -1.0 1.56e+03    -  6.43e-02 9.63e-04h  7\n",
      " 653 -4.8313199e+02 9.55e-03 1.18e+14  -1.0 1.56e+03    -  4.58e-01 1.90e-03h  6\n",
      " 654 -4.8313214e+02 9.63e-03 1.18e+14  -1.0 1.55e+03    -  6.79e-02 1.86e-03h  6\n",
      " 655 -4.8313228e+02 9.70e-03 1.19e+14  -1.0 1.54e+03    -  1.00e+00 1.81e-03h  6\n",
      " 656 -4.8313241e+02 9.77e-03 1.19e+14  -1.0 1.52e+03    -  5.89e-02 1.77e-03h  6\n",
      " 657 -4.8313254e+02 9.83e-03 1.19e+14  -1.0 1.51e+03    -  4.63e-01 1.73e-03h  6\n",
      " 658 -4.8313265e+02 9.89e-03 1.19e+14  -1.0 1.50e+03    -  6.12e-02 1.69e-03h  6\n",
      " 659 -4.8313276e+02 9.94e-03 1.19e+14  -1.0 1.49e+03    -  1.00e+00 1.65e-03h  6\n",
      "iter    objective    inf_pr   inf_du lg(mu)  ||d||  lg(rg) alpha_du alpha_pr  ls\n",
      " 660 -4.8313285e+02 9.99e-03 1.19e+14  -1.0 1.47e+03    -  5.36e-02 1.62e-03h  6\n",
      " 661 -4.8313569e+02 7.26e-02 1.17e+14  -1.0 1.46e+03    -  4.70e-01 5.07e-02w  1\n",
      " 662 -4.8313590e+02 7.03e-02 1.14e+14  -1.0 4.83e+01    -  1.87e-02 3.10e-02w  1\n",
      " 663 -4.8313703e+02 5.28e-01 1.60e+15  -1.0 4.57e+01    -  4.91e-03 5.88e-01w  1\n",
      " 664 -4.8313294e+02 1.00e-02 1.19e+14  -1.0 3.10e+03    -  4.70e-01 1.58e-03h  5\n",
      " 665 -4.8313302e+02 1.01e-02 1.19e+14  -1.0 1.44e+03    -  5.54e-02 1.55e-03h  6\n"
     ]
    },
    {
     "name": "stdout",
     "output_type": "stream",
     "text": [
      " 666 -4.8313309e+02 1.01e-02 1.19e+14  -1.0 1.43e+03    -  1.00e+00 1.52e-03h  6\n",
      " 667 -4.8313316e+02 1.02e-02 1.19e+14  -1.0 1.41e+03    -  4.91e-02 1.49e-03h  6\n",
      " 668 -4.8313321e+02 1.02e-02 1.19e+14  -1.0 1.40e+03    -  4.81e-01 1.46e-03h  6\n",
      " 669 -4.8313326e+02 1.02e-02 1.19e+14  -1.0 1.38e+03    -  5.06e-02 1.43e-03h  6\n",
      "iter    objective    inf_pr   inf_du lg(mu)  ||d||  lg(rg) alpha_du alpha_pr  ls\n",
      " 670 -4.8313329e+02 1.02e-02 1.19e+14  -1.0 1.36e+03    -  1.00e+00 1.40e-03h  6\n",
      " 671 -4.8313332e+02 1.03e-02 1.19e+14  -1.0 1.35e+03    -  4.54e-02 1.38e-03h  6\n",
      " 672 -4.8313334e+02 1.03e-02 1.19e+14  -1.0 1.33e+03    -  4.97e-01 1.35e-03h  6\n",
      " 673 -4.8313335e+02 1.03e-02 1.20e+14  -1.0 1.31e+03    -  4.66e-02 1.33e-03h  6\n",
      " 674 -4.8313340e+02 4.35e-02 1.23e+14  -1.0 1.29e+03    -  9.93e-01 4.18e-02w  1\n",
      " 675 -4.8313647e+02 4.28e-02 1.21e+14  -1.0 4.74e+01    -  1.88e-02 1.64e-02w  1\n",
      " 676 -4.8313568e+02 3.88e-02 1.13e+14  -1.0 4.66e+01    -  3.76e-02 9.32e-02w  1\n",
      " 677 -4.8313335e+02 1.04e-02 1.20e+14  -1.0 3.89e+01    -  9.93e-01 2.61e-03h  4\n",
      " 678 -4.8313299e+02 1.05e-02 1.20e+14  -1.0 1.40e+03    -  1.18e-02 1.77e-03h  4\n",
      " 679 -4.8313296e+02 1.05e-02 1.20e+14  -1.0 2.09e+03    -  4.48e-05 4.15e-05h  1\n",
      "iter    objective    inf_pr   inf_du lg(mu)  ||d||  lg(rg) alpha_du alpha_pr  ls\n",
      " 680r-4.8313296e+02 1.05e-02 1.00e+03  -1.0 0.00e+00    -  0.00e+00 3.74e-07R  4\n",
      " 681r-4.8313296e+02 1.27e-03 4.44e+04  -1.0 2.13e+01    -  8.57e-01 1.45e-02f  1\n",
      " 682 -4.8313932e+02 1.27e-03 3.99e+04  -1.0 1.06e+03    -  7.59e-01 2.10e-03f  1\n",
      " 683 -4.8313965e+02 1.28e-03 4.43e+04  -1.0 1.12e+03    -  3.65e-02 2.56e-03h  5\n",
      " 684 -4.8314003e+02 1.29e-03 2.49e+05  -1.0 1.04e+03    -  7.88e-01 2.59e-03h  5\n",
      " 685 -4.8314061e+02 1.30e-03 4.19e+05  -1.0 9.10e+02    -  3.57e-02 2.78e-03h  5\n",
      " 686 -4.8314112e+02 1.30e-03 9.29e+06  -1.0 8.73e+02    -  9.48e-01 2.71e-03h  5\n",
      " 687 -4.8314165e+02 1.31e-03 1.58e+07  -1.0 8.20e+02    -  3.50e-02 2.71e-03h  5\n",
      " 688 -4.8314257e+02 1.35e-03 3.18e+08  -1.0 7.85e+02    -  8.36e-01 5.31e-03h  4\n",
      " 689 -4.8314339e+02 1.39e-03 5.34e+08  -1.0 6.96e+02    -  3.56e-02 5.25e-03h  4\n",
      "iter    objective    inf_pr   inf_du lg(mu)  ||d||  lg(rg) alpha_du alpha_pr  ls\n",
      " 690 -4.8314399e+02 1.43e-03 1.29e+10  -1.0 6.22e+02    -  9.93e-01 5.15e-03h  4\n",
      " 691 -4.8314468e+02 1.47e-03 2.19e+10  -1.0 5.25e+02    -  3.76e-02 5.35e-03h  4\n",
      " 692 -4.8314515e+02 1.51e-03 4.88e+11  -1.0 4.59e+02    -  1.00e+00 5.36e-03h  4\n",
      " 693 -4.8314956e+02 4.81e-03 9.10e+12  -1.0 3.79e+02    -  4.16e-02 4.55e-02w  1\n",
      " 694 -4.8314955e+02 7.32e-01 7.24e+13  -1.0 4.44e+01    -  8.05e-02 6.97e-01w  1\n",
      " 695 -4.8314955e+02 7.31e-01 7.23e+13  -1.0 9.64e+01    -  6.40e-03 2.94e-04w  1\n",
      " 696 -4.8314625e+02 1.70e-03 7.82e+11  -1.0 6.36e+00    -  4.16e-02 1.14e-02h  2\n",
      " 697 -4.8314667e+02 1.91e-03 1.38e+13  -1.0 2.70e+02    -  1.00e+00 1.20e-02h  3\n",
      " 698 -4.8314692e+02 2.16e-03 1.66e+13  -1.0 1.85e+02    -  5.27e-02 1.32e-02h  3\n",
      " 699 -4.8314700e+02 2.48e-03 6.51e+13  -1.0 1.21e+02    -  9.44e-01 1.52e-02h  3\n",
      "iter    objective    inf_pr   inf_du lg(mu)  ||d||  lg(rg) alpha_du alpha_pr  ls\n",
      " 700 -4.8314702e+02 2.89e-03 6.32e+13  -1.0 7.88e+01    -  7.23e-02 1.75e-02h  3\n",
      " 701 -4.8314702e+02 3.45e-03 3.77e+13  -1.0 5.04e+01    -  9.98e-01 2.07e-02h  3\n",
      " 702 -4.8314686e+02 3.61e-03 3.65e+13  -1.0 4.12e+01    -  8.81e-02 1.22e-02h  4\n",
      " 703 -4.8314676e+02 3.61e-03 3.64e+13  -1.0 4.03e+01    -  7.78e-04 2.98e-03f  6\n",
      " 704 -4.8314676e+02 3.61e-03 3.64e+13  -1.0 4.02e+01    -  6.25e-06 8.49e-05f  2\n",
      " 705 -4.8314676e+02 3.61e-03 3.64e+13  -1.0 4.00e+01   8.8 1.05e-05 3.45e-07f  6\n",
      " 706 -4.8314676e+02 3.61e-03 3.64e+13  -1.0 4.00e+01   8.3 1.08e-05 1.07e-05h  1\n",
      " 707 -4.8314676e+02 3.61e-03 3.64e+13  -1.0 4.02e+01    -  1.71e-07 3.42e-05f  1\n",
      " 708 -4.8314676e+02 3.61e-03 3.64e+13  -1.0 4.00e+01   7.8 2.37e-07 1.13e-05f  2\n",
      " 709 -4.8314676e+02 3.61e-03 1.57e+13  -1.0 4.00e+01   8.3 1.00e+00 1.07e-05h  1\n",
      "iter    objective    inf_pr   inf_du lg(mu)  ||d||  lg(rg) alpha_du alpha_pr  ls\n",
      " 710 -4.8314672e+02 3.61e-03 1.56e+13  -1.0 4.00e+01    -  2.74e-04 3.25e-03f  5\n",
      " 711 -4.8314672e+02 3.61e-03 1.56e+13  -1.0 4.41e+01    -  1.24e-06 9.11e-06f  2\n",
      " 712 -4.8314672e+02 3.61e-03 1.56e+13  -1.0 3.97e+01   7.8 1.32e-05 9.21e-07f  5\n",
      " 713 -4.8314672e+02 3.61e-03 1.56e+13  -1.0 3.97e+01   8.2 1.12e-05 1.10e-05h  1\n",
      " 714r-4.8314672e+02 3.61e-03 1.00e+03  -1.0 0.00e+00   7.7 0.00e+00 2.21e-07R  2\n",
      " 715r-4.8314672e+02 1.99e-03 4.90e+04  -1.0 2.08e+01    -  8.28e-01 1.67e-02f  1\n",
      " 716 -4.8314665e+02 1.99e-03 4.79e+04  -1.0 1.34e+02    -  7.93e-01 9.17e-04f  2\n",
      " 717 -4.8314660e+02 2.31e-03 1.19e+05  -1.0 4.06e+01    -  6.47e-01 1.58e-02h  4\n",
      " 718 -4.8314675e+02 2.67e-03 2.23e+05  -1.0 3.94e+01    -  9.90e-01 1.74e-02h  4\n",
      " 719 -4.8314703e+02 3.10e-03 2.32e+05  -1.0 3.81e+01    -  1.41e-01 1.90e-02h  4\n",
      "iter    objective    inf_pr   inf_du lg(mu)  ||d||  lg(rg) alpha_du alpha_pr  ls\n",
      " 720 -4.8314722e+02 3.55e-03 1.12e+06  -1.0 3.68e+01    -  9.93e-01 2.03e-02h  4\n",
      " 721 -4.8314752e+02 4.08e-03 1.82e+06  -1.0 3.55e+01    -  1.70e-01 2.24e-02h  4\n",
      " 722 -4.8314762e+02 4.20e-03 8.11e+06  -1.0 3.40e+01    -  1.00e+00 1.19e-02h  5\n",
      " 723 -4.8314776e+02 4.32e-03 1.41e+07  -1.0 3.33e+01    -  1.95e-01 1.23e-02h  5\n",
      " 724 -4.8314788e+02 4.45e-03 6.39e+07  -1.0 3.25e+01    -  1.00e+00 1.30e-02h  5\n",
      " 725 -4.8314800e+02 4.59e-03 1.08e+08  -1.0 3.17e+01    -  2.11e-01 1.35e-02h  5\n",
      " 726 -4.8314961e+02 5.65e-02 3.77e+08  -1.0 3.10e+01    -  1.00e+00 2.23e-01w  1\n",
      " 727 -4.8314960e+02 3.87e-01 5.84e+09  -1.0 1.86e+01    -  3.16e-02 7.51e-01w  1\n",
      " 728 -4.8314961e+02 3.80e-01 6.14e+09  -1.0 4.73e+00    -  5.54e-02 1.79e-02w  1\n",
      " 729 -4.8314811e+02 4.73e-03 4.40e+08  -1.0 4.69e+00    -  1.00e+00 1.40e-02h  4\n",
      "iter    objective    inf_pr   inf_du lg(mu)  ||d||  lg(rg) alpha_du alpha_pr  ls\n",
      " 730 -4.8314822e+02 4.88e-03 7.35e+08  -1.0 3.02e+01    -  2.29e-01 1.46e-02h  5\n",
      " 731 -4.8314831e+02 5.04e-03 2.79e+09  -1.0 2.93e+01    -  1.00e+00 1.50e-02h  5\n",
      " 732 -4.8314840e+02 5.20e-03 4.63e+09  -1.0 2.85e+01    -  2.49e-01 1.57e-02h  5\n",
      " 733 -4.8314848e+02 5.36e-03 1.63e+10  -1.0 2.77e+01    -  1.00e+00 1.62e-02h  5\n",
      " 734 -4.8314857e+02 5.53e-03 2.68e+10  -1.0 2.69e+01    -  2.69e-01 1.69e-02h  5\n",
      " 735 -4.8314864e+02 5.71e-03 8.78e+10  -1.0 2.60e+01    -  1.00e+00 1.74e-02h  5\n",
      " 736 -4.8314872e+02 5.89e-03 1.43e+11  -1.0 2.52e+01    -  2.91e-01 1.81e-02h  5\n",
      " 737 -4.8314879e+02 6.07e-03 4.35e+11  -1.0 2.43e+01    -  1.00e+00 1.88e-02h  5\n",
      " 738 -4.8314886e+02 6.26e-03 7.01e+11  -1.0 2.34e+01    -  3.14e-01 1.95e-02h  5\n",
      " 739 -4.8314979e+02 8.49e-02 1.48e+12  -1.0 2.26e+01    -  1.00e+00 3.23e-01w  1\n",
      "iter    objective    inf_pr   inf_du lg(mu)  ||d||  lg(rg) alpha_du alpha_pr  ls\n",
      " 740 -4.8314979e+02 3.02e-01 3.80e+13  -1.0 9.45e+00    -  2.67e-02 8.90e-01w  1\n",
      " 741 -4.8314982e+02 2.97e-01 3.77e+13  -1.0 4.45e+00    -  2.66e-02 1.78e-02w  1\n",
      " 742 -4.8314891e+02 6.45e-03 1.98e+12  -1.0 4.39e+00    -  1.00e+00 2.02e-02h  4\n",
      " 743 -4.8314898e+02 6.64e-03 3.15e+12  -1.0 2.17e+01    -  3.39e-01 2.10e-02h  5\n",
      " 744 -4.8314903e+02 6.83e-03 8.29e+12  -1.0 2.08e+01    -  1.00e+00 2.17e-02h  5\n",
      " 745 -4.8314908e+02 7.03e-03 1.29e+13  -1.0 2.00e+01    -  3.66e-01 2.26e-02h  5\n",
      " 746 -4.8314911e+02 7.21e-03 1.97e+13  -1.0 1.91e+01    -  1.00e+00 2.31e-02h  5\n",
      " 747 -4.8314913e+02 7.40e-03 1.86e+13  -1.0 1.83e+01    -  3.94e-01 2.38e-02h  5\n",
      " 748 -4.8314914e+02 7.58e-03 1.56e+13  -1.0 1.74e+01    -  1.00e+00 2.47e-02h  5\n",
      " 749 -4.8314916e+02 7.76e-03 1.47e+13  -1.0 1.66e+01    -  4.24e-01 2.57e-02h  5\n",
      "iter    objective    inf_pr   inf_du lg(mu)  ||d||  lg(rg) alpha_du alpha_pr  ls\n",
      " 750 -4.8314918e+02 7.94e-03 1.22e+13  -1.0 1.58e+01    -  1.00e+00 2.67e-02h  5\n",
      " 751 -4.8314920e+02 8.12e-03 1.13e+13  -1.0 1.49e+01    -  4.56e-01 2.77e-02h  5\n",
      " 752 -4.8314945e+02 1.09e-01 5.21e+12  -1.0 1.41e+01    -  1.00e+00 4.61e-01w  1\n",
      " 753 -4.8314954e+02 3.02e-01 2.40e+14  -1.0 5.57e+00    -  3.83e-02 9.21e-01w  1\n",
      " 754 -4.8314953e+02 3.02e-01 2.41e+14  -1.0 1.77e+01    -  3.33e-03 9.75e-05w  1\n",
      " 755 -4.8314921e+02 8.29e-03 9.39e+12  -1.0 4.36e+01   7.3 1.00e+00 2.88e-02h  4\n",
      " 756 -4.8314923e+02 8.46e-03 8.67e+12  -1.0 1.33e+01    -  4.91e-01 3.00e-02h  5\n",
      " 757 -4.8314925e+02 8.62e-03 7.11e+12  -1.0 1.25e+01    -  1.00e+00 3.12e-02h  5\n",
      " 758 -4.8314926e+02 8.59e-03 6.60e+12  -1.0 1.18e+01    -  5.29e-01 1.63e-02h  6\n",
      " 759 -4.8314926e+02 8.56e-03 5.77e+12  -1.0 1.14e+01    -  1.00e+00 1.66e-02h  6\n"
     ]
    },
    {
     "name": "stdout",
     "output_type": "stream",
     "text": [
      "iter    objective    inf_pr   inf_du lg(mu)  ||d||  lg(rg) alpha_du alpha_pr  ls\n",
      " 760 -4.8314928e+02 8.52e-03 5.48e+12  -1.0 1.10e+01    -  5.58e-01 1.69e-02h  6\n",
      " 761 -4.8314929e+02 8.49e-03 4.92e+12  -1.0 1.06e+01    -  1.00e+00 1.73e-02h  6\n",
      " 762 -4.8314930e+02 8.45e-03 4.66e+12  -1.0 1.03e+01    -  5.80e-01 1.77e-02h  6\n",
      " 763 -4.8314931e+02 8.41e-03 4.16e+12  -1.0 9.91e+00    -  1.00e+00 1.80e-02h  6\n",
      " 764 -4.8314932e+02 8.37e-03 3.92e+12  -1.0 9.56e+00    -  6.04e-01 1.84e-02h  6\n",
      " 765 -4.8314965e+02 1.21e-01 1.71e+12  -1.0 9.20e+00    -  1.00e+00 6.02e-01w  1\n",
      " 766 -4.8314987e+02 1.40e-01 1.14e+14  -1.0 3.31e+00    -  3.25e-02 4.92e-01w  1\n",
      " 767 -4.8314906e+02 1.40e-01 1.14e+14  -1.0 9.07e+01    -  1.01e-04 1.15e-03w  1\n",
      " 768 -4.8314933e+02 8.33e-03 3.48e+12  -1.0 7.66e+00    -  1.00e+00 1.88e-02h  5\n",
      " 769 -4.8314898e+02 3.81e-03 3.45e+12  -1.0 8.86e+00    -  1.25e-01 2.41e-01H  1\n",
      "iter    objective    inf_pr   inf_du lg(mu)  ||d||  lg(rg) alpha_du alpha_pr  ls\n",
      " 770 -4.8314898e+02 3.80e-03 2.62e+12  -1.0 6.19e+00    -  2.43e-01 2.25e-03h  1\n",
      " 771 -4.8314900e+02 4.18e-03 8.09e+11  -1.0 6.18e+00    -  1.00e+00 9.73e-02h  4\n",
      " 772 -4.8314925e+02 4.68e-03 8.85e+11  -1.0 5.57e+00    -  5.68e-01 5.12e-02h  3\n",
      " 773 -4.8314930e+02 4.94e-03 8.44e+11  -1.0 5.29e+00    -  1.18e-02 4.00e-02h  5\n",
      " 774 -4.8314930e+02 4.92e-03 8.39e+11  -1.0 5.08e+00    -  6.25e-04 5.83e-03f  5\n",
      " 775 -4.8314930e+02 4.90e-03 9.21e+11  -1.0 5.05e+00    -  1.00e+00 3.87e-03f  2\n",
      " 776 -4.8314935e+02 5.17e-03 8.95e+11  -1.0 5.03e+00    -  2.01e-01 4.12e-02h  3\n",
      " 777 -4.8314936e+02 5.27e-03 8.79e+11  -1.0 4.82e+00    -  1.00e+00 3.07e-02h  6\n",
      " 778 -4.8314931e+02 3.96e-03 8.03e+11  -1.0 4.67e+00    -  6.89e-02 1.11e-01H  1\n",
      " 779 -4.8314931e+02 3.95e-03 6.95e+11  -1.0 4.15e+00    -  5.48e-01 3.60e-03h  1\n",
      "iter    objective    inf_pr   inf_du lg(mu)  ||d||  lg(rg) alpha_du alpha_pr  ls\n",
      " 780 -4.8314930e+02 2.21e-03 8.89e+11  -1.0 4.13e+00    -  9.00e-01 1.24e-01h  4\n",
      " 781 -4.8314642e+02 2.08e-03 8.34e+11  -1.0 1.20e+01    -  7.42e-03 3.09e-02h  6\n",
      " 782 -4.8314644e+02 1.96e-03 2.05e+12  -1.0 3.51e+00   6.8 1.00e+00 3.09e-02h  6\n",
      " 783 -4.8314542e+02 3.89e-03 1.25e+12  -1.0 3.40e+00   6.3 5.51e-01 8.18e-01H  1\n",
      " 784 -4.8305443e+02 2.86e-03 1.08e+12  -1.0 5.23e+01    -  1.12e-02 2.27e-01H  1\n",
      " 785 -4.8310174e+02 2.88e-03 8.48e+11  -1.0 4.90e+01    -  9.80e-01 1.25e-01h  2\n",
      " 786 -4.8310149e+02 2.86e-03 8.42e+11  -1.0 4.08e+00    -  6.27e-01 7.75e-03f  8\n",
      " 787 -4.8309868e+02 2.75e-03 8.07e+11  -1.0 8.82e+00    -  6.44e-02 4.11e-02f  3\n",
      " 788 -4.8308952e+02 2.42e-03 7.02e+11  -1.0 9.07e+00    -  1.00e+00 1.30e-01h  1\n",
      " 789 -4.8300508e+02 9.18e-04 1.77e+10  -1.0 1.24e+01    -  1.00e+00 9.92e-01H  1\n",
      "iter    objective    inf_pr   inf_du lg(mu)  ||d||  lg(rg) alpha_du alpha_pr  ls\n",
      " 790 -4.8300509e+02 1.50e-06 1.63e+08  -1.0 2.82e-03   5.8 9.89e-01 1.00e+00h  1\n",
      " 791 -4.8300509e+02 1.36e-10 1.48e+06  -1.0 7.97e-06   5.3 9.90e-01 1.00e+00f  1\n",
      " 792 -4.8307682e+02 1.90e-03 3.36e+05  -1.0 1.27e+02    -  9.66e-01 7.26e-02f  2\n",
      " 793 -4.8313498e+02 1.25e-03 4.77e+01  -1.0 7.50e+00    -  1.00e+00 1.00e+00f  1\n",
      " 794 -4.8313753e+02 2.41e-06 7.81e+01  -2.5 3.30e-01    -  1.00e+00 1.00e+00h  1\n",
      " 795 -4.8314750e+02 3.67e-05 8.09e-03  -2.5 1.29e+00    -  1.00e+00 1.00e+00f  1\n",
      " 796 -4.8314972e+02 1.82e-06 2.06e+00  -5.7 2.86e-01    -  1.00e+00 1.00e+00h  1\n",
      " 797 -4.8315000e+02 2.98e-08 6.26e-06  -5.7 3.66e-02    -  1.00e+00 1.00e+00h  1\n",
      " 798 -4.8315000e+02 1.38e-10 1.11e-06  -8.6 2.37e-04    -  1.00e+00 1.00e+00h  1\n",
      " 799 -4.8315000e+02 1.25e-10 2.51e-14  -8.6 3.31e-06    -  1.00e+00 1.00e+00h  1\n",
      "\n",
      "Number of Iterations....: 799\n",
      "\n",
      "                                   (scaled)                 (unscaled)\n",
      "Objective...............:  -4.8315000482899410e+02   -4.8315000482899410e+02\n",
      "Dual infeasibility......:   2.5119744609045092e-14    2.5119744609045092e-14\n",
      "Constraint violation....:   1.2489714644459138e-10    1.2489714644459138e-10\n",
      "Complementarity.........:   2.5059035596810544e-09    2.5059035596810544e-09\n",
      "Overall NLP error.......:   2.5059035596810544e-09    2.5059035596810544e-09\n",
      "\n",
      "\n",
      "Number of objective function evaluations             = 4039\n",
      "Number of objective gradient evaluations             = 661\n",
      "Number of equality constraint evaluations            = 4040\n",
      "Number of inequality constraint evaluations          = 4040\n",
      "Number of equality constraint Jacobian evaluations   = 840\n",
      "Number of inequality constraint Jacobian evaluations = 840\n",
      "Number of Lagrangian Hessian evaluations             = 799\n",
      "Total CPU secs in IPOPT (w/o function evaluations)   =    101.299\n",
      "Total CPU secs in NLP function evaluations           =      5.167\n",
      "\n",
      "EXIT: Optimal Solution Found.\n"
     ]
    }
   ],
   "source": [
    "opt = pe.SolverFactory('ipopt')\n",
    "\n",
    "opt.options['print_user_options'] = 'yes'\n",
    "opt.options['linear_solver'] = 'ma86'\n",
    "opt.options['linear_system_scaling '] = 'mc19'\n",
    "opt.options['linear_scaling_on_demand '] = 'no'\n",
    "# opt.options['nlp_scaling_method'] = None\n",
    "# opt.options['bound_relax_factor'] = 0\n",
    "# opt.options['halt_on_ampl_error'] = 'yes'\n",
    "\n",
    "opt.options['max_iter'] = 7000\n",
    "results = opt.solve(model,tee=True)\n",
    "update_dual(pe,model)"
   ]
  },
  {
   "cell_type": "code",
   "execution_count": 22,
   "metadata": {
    "scrolled": true,
    "slideshow": {
     "slide_type": "skip"
    }
   },
   "outputs": [
    {
     "data": {
      "text/plain": [
       "-8.632745760515922"
      ]
     },
     "execution_count": 22,
     "metadata": {},
     "output_type": "execute_result"
    }
   ],
   "source": [
    "model.Q_main.value"
   ]
  },
  {
   "cell_type": "code",
   "execution_count": 23,
   "metadata": {
    "slideshow": {
     "slide_type": "skip"
    }
   },
   "outputs": [
    {
     "data": {
      "text/plain": [
       "483.15"
      ]
     },
     "execution_count": 23,
     "metadata": {},
     "output_type": "execute_result"
    }
   ],
   "source": [
    "model.T.value"
   ]
  },
  {
   "cell_type": "code",
   "execution_count": 24,
   "metadata": {},
   "outputs": [],
   "source": [
    "# model.solutions.store_to(results)\n",
    "# with open('../saved_solutions/reactive_flash_300C_n58.pickle','wb') as f:\n",
    "#     pickle.dump(results,f)"
   ]
  },
  {
   "cell_type": "code",
   "execution_count": null,
   "metadata": {
    "scrolled": false,
    "slideshow": {
     "slide_type": "slide"
    }
   },
   "outputs": [],
   "source": [
    "print('Component\\t\\tLiquid: {:.4f}\\t\\t\\tVapor: {:.4f}\\t\\t\\tlog K'.format(model.L['out'].value,model.V['out'].value))\n",
    "print('-'*108)\n",
    "for i in model.x:\n",
    "    print('{:10s}'.format(i),'\\t\\t{:8.4%}\\t\\t\\t{:8.4%}\\t\\t\\t{:.4f}'.format(model.x[i].value,model.y[i].value,np.log10(model.y[i].value/model.x[i].value)))"
   ]
  },
  {
   "cell_type": "markdown",
   "metadata": {
    "slideshow": {
     "slide_type": "slide"
    }
   },
   "source": [
    "# Iterative Solve for Data Analysis"
   ]
  },
  {
   "cell_type": "code",
   "execution_count": null,
   "metadata": {},
   "outputs": [],
   "source": [
    "update_dual(pe,model)"
   ]
  },
  {
   "cell_type": "code",
   "execution_count": null,
   "metadata": {},
   "outputs": [],
   "source": [
    "opt.options['warm_start_init_point'] = 'yes'\n",
    "opt.options['warm_start_bound_push'] = 1e-20\n",
    "opt.options['warm_start_mult_bound_push'] = 1e-20\n",
    "opt.options['mu_init'] = 1e-6"
   ]
  },
  {
   "cell_type": "code",
   "execution_count": null,
   "metadata": {
    "scrolled": false,
    "slideshow": {
     "slide_type": "fragment"
    }
   },
   "outputs": [],
   "source": [
    "rf_data = {}\n",
    "rf_data['r'] = {}; rf_data['T'] = []; rf_data['Q'] = []; rf_data['V'] = []; rf_data['L'] = []; \n",
    "rf_data['y_CO'] = []; rf_data['y_H2'] = []; rf_data['y_CO2'] = []; rf_data['y_H2O'] = []; rf_data['r_WGS'] = []; rf_data['r_FT'] = []\n",
    "rf_data['f_V_CO'] = []; rf_data['f_V_H2'] = [];\n",
    "\n",
    "for i in model.r_total_comp:\n",
    "    rf_data['r'][i] = []\n",
    "    \n",
    "Trange = np.arange(300+273.15,199+273.15,-2)\n",
    "\n",
    "for Tub in Trange:\n",
    "    model.T.setub(Tub)\n",
    "    results = opt.solve(model,tee=False)\n",
    "    update_dual(pe,model)\n",
    "    # print('-'*72)\n",
    "    print('Solved, Solution T = {:.2f} K\\t|\\tV = {:.5f}\\t|\\tL = {:.5f}\\t|'.format(model.T.value,model.V['out'].value,model.L['out'].value))\n",
    "    # print('-'*72)\n",
    "    rf_data['T'].append(model.T.value)\n",
    "    rf_data['Q'].append(model.Q_main.value)\n",
    "    rf_data['V'].append(model.V['out'].value)\n",
    "    rf_data['L'].append(model.L['out'].value)    \n",
    "\n",
    "    for i in model.r_total_comp:\n",
    "        rf_data['r'][i].append(model.r_total_comp[i].value)\n",
    "    \n",
    "    \n",
    "    rf_data['y_H2O'].append(model.y['H2O'].value)\n",
    "    rf_data['y_CO'].append(model.y['CO'].value)\n",
    "    rf_data['y_H2'].append(model.y['H2'].value)\n",
    "    rf_data['y_CO2'].append(model.y['CO2'].value)\n",
    "    rf_data['r_WGS'].append(model.kinetics_block.r_WGS.value)\n",
    "    rf_data['r_FT'].append(model.kinetics_block.r_FT_total.value)\n",
    "    \n",
    "    rf_data['f_V_CO'].append(model.f_V['CO'].value)\n",
    "    rf_data['f_V_H2'].append(model.f_V['H2'].value)"
   ]
  },
  {
   "cell_type": "markdown",
   "metadata": {
    "slideshow": {
     "slide_type": "slide"
    }
   },
   "source": [
    "## Some Observations\n",
    "\n",
    "* This system has multiple solution under same Q.\n",
    "* The reaction rate peaks at ~530K, due to decreasing $\\alpha$, increasing light component, uses up more feed.\n",
    "* Note that when 'fully' utilizing catalyst, the system seems to always require cooling."
   ]
  },
  {
   "cell_type": "code",
   "execution_count": null,
   "metadata": {
    "slideshow": {
     "slide_type": "fragment"
    }
   },
   "outputs": [],
   "source": [
    "fig, ax1 = plt.subplots(figsize=(16,9))\n",
    "line1 = ax1.plot(rf_data['T'],rf_data['Q'], 'b-')\n",
    "ax1.set_xlabel('Temperature (k)', color='K',fontsize=18)\n",
    "ax1.set_ylabel('Q (MW)', color='b',fontsize=18)\n",
    "ax1.tick_params('y', colors='b',labelsize=18)\n",
    "ax1.tick_params('x', colors='k',labelsize=18)\n",
    "ax1.grid()\n",
    "\n",
    "ax2 = ax1.twinx()\n",
    "line2 = ax2.plot(rf_data['T'],rf_data['r_FT'], 'r')\n",
    "line3 = ax2.plot(rf_data['T'],rf_data['r_WGS'], 'r--')\n",
    "line4 = ax2.plot(rf_data['T'],rf_data['V'], 'k')\n",
    "line5 = ax2.plot(rf_data['T'],rf_data['L'], 'k--')\n",
    "ax2.set_ylabel('$r_{FT}$: (kmol/s Carbon Number)', color='r',fontsize=18)\n",
    "ax2.tick_params('y', colors='r',labelsize=18)\n",
    "\n",
    "ax1.legend(line1+line2+line3+line4+line5,['Q','$r_{FT}$','$r_{WGS}$','V','L'],fontsize=18,loc=1)\n",
    "ax1.set_title('Heat Removal Rate and Reaction Rate vs T',fontsize=18)\n",
    "plt.show()"
   ]
  },
  {
   "cell_type": "code",
   "execution_count": null,
   "metadata": {
    "scrolled": false,
    "slideshow": {
     "slide_type": "fragment"
    }
   },
   "outputs": [],
   "source": [
    "fig, ax = plt.subplots(figsize=(16,9))\n",
    "ax.plot(rf_data['T'],rf_data['y_CO'])\n",
    "ax.plot(rf_data['T'],rf_data['y_H2'])\n",
    "ax.plot(rf_data['T'],rf_data['y_CO2'])\n",
    "ax.plot(rf_data['T'],rf_data['y_H2O'])\n",
    "\n",
    "ax.legend(['$y_{CO}$','$y_{H2}$','$y_{CO2}$','$y_{H2O}$'],fontsize=18)\n",
    "ax.set_title('Gas Phase Inorganic Composition vs T',fontsize=18)\n",
    "\n",
    "ax.set_ylabel('Mole Fraction (%)', color='K',fontsize=18)\n",
    "ax.set_xlabel('Temperature (k)', color='K',fontsize=18)\n",
    "ax.tick_params('y', colors='k',labelsize=18)\n",
    "ax.tick_params('x', colors='k',labelsize=18)\n",
    "ax.grid()\n",
    "plt.show()"
   ]
  },
  {
   "cell_type": "code",
   "execution_count": null,
   "metadata": {
    "slideshow": {
     "slide_type": "fragment"
    }
   },
   "outputs": [],
   "source": [
    "fig, ax = plt.subplots(figsize=(16,9))\n",
    "ax.plot(rf_data['T'],rf_data['r']['CO'])\n",
    "ax.plot(rf_data['T'],rf_data['r']['H2'])\n",
    "ax.plot(rf_data['T'],rf_data['r']['CO2'])\n",
    "ax.plot(rf_data['T'],rf_data['r']['H2O'])\n",
    "\n",
    "ax.legend(['$r_{CO}$','$r_{H2}$','$r_{CO2}$','$r_{H2O}$'],fontsize=18)\n",
    "ax.set_title('Inorganic Reaction Rate vs T',fontsize=18)\n",
    "\n",
    "ax.set_ylabel('Reaction Rate (kmol/s)', color='K',fontsize=18)\n",
    "ax.set_xlabel('Temperature (k)', color='K',fontsize=18)\n",
    "ax.tick_params('y', colors='k',labelsize=18)\n",
    "ax.tick_params('x', colors='k',labelsize=18)\n",
    "ax.grid()\n",
    "plt.show()"
   ]
  },
  {
   "cell_type": "markdown",
   "metadata": {
    "slideshow": {
     "slide_type": "subslide"
    }
   },
   "source": [
    "## Product Distribution (mole)"
   ]
  },
  {
   "cell_type": "code",
   "execution_count": null,
   "metadata": {
    "slideshow": {
     "slide_type": "fragment"
    }
   },
   "outputs": [],
   "source": [
    "reaction_data = trans_product_mole(rf_data['r'])['unscaled']\n",
    "reaction_data_scaled = trans_product_mole(rf_data['r'])['scaled']"
   ]
  },
  {
   "cell_type": "code",
   "execution_count": null,
   "metadata": {
    "slideshow": {
     "slide_type": "fragment"
    }
   },
   "outputs": [],
   "source": [
    "fig, ax = plt.subplots(figsize=(16,9))\n",
    "ax.stackplot(rf_data['T'], reaction_data_scaled['c1'], reaction_data_scaled['c2'],reaction_data_scaled['c3'],reaction_data_scaled['c4'],\\\n",
    "            reaction_data_scaled['napha'],reaction_data_scaled['gasoline'],reaction_data_scaled['diesel'],reaction_data_scaled['heavy'])\n",
    "plt.legend(['C1','C2','C3','C4','Napha','gasoline','diesel','heavy'])\n",
    "ax.set_title('Product Composition (Mole) vs T',fontsize=18)\n",
    "ax.set_ylabel('Mole Fraction (%)', color='K',fontsize=18)\n",
    "ax.set_xlabel('Temperature (k)', color='K',fontsize=18)\n",
    "plt.show()"
   ]
  },
  {
   "cell_type": "code",
   "execution_count": null,
   "metadata": {
    "slideshow": {
     "slide_type": "fragment"
    }
   },
   "outputs": [],
   "source": [
    "fig, ax = plt.subplots(figsize=(16,9))\n",
    "ax.stackplot(rf_data['T'], reaction_data['c1'], reaction_data['c2'],reaction_data['c3'],reaction_data['c4'],\\\n",
    "            reaction_data['napha'],reaction_data['gasoline'],reaction_data['diesel'],reaction_data['heavy'])\n",
    "plt.legend(['C1','C2','C3','C4','Napha','gasoline','diesel','heavy'])\n",
    "ax.set_title('Total Production Rate (Mole) vs T',fontsize=18)\n",
    "ax.set_ylabel('Reaction Rate (kmol/s)', color='K',fontsize=18)\n",
    "ax.set_xlabel('Temperature (k)', color='K',fontsize=18)\n",
    "plt.show()"
   ]
  },
  {
   "cell_type": "markdown",
   "metadata": {
    "slideshow": {
     "slide_type": "subslide"
    }
   },
   "source": [
    "## Product Distribution (mass)"
   ]
  },
  {
   "cell_type": "code",
   "execution_count": null,
   "metadata": {
    "slideshow": {
     "slide_type": "fragment"
    }
   },
   "outputs": [],
   "source": [
    "mass_reaction_data = trans_product_mass(rf_data['r'])['unscaled']\n",
    "mass_reaction_scaled = trans_product_mass(rf_data['r'])['scaled']"
   ]
  },
  {
   "cell_type": "code",
   "execution_count": null,
   "metadata": {
    "slideshow": {
     "slide_type": "fragment"
    }
   },
   "outputs": [],
   "source": [
    "fig, ax = plt.subplots(figsize=(16,9))\n",
    "ax.stackplot(rf_data['T'], mass_reaction_scaled['c1'], mass_reaction_scaled['c2'],mass_reaction_scaled['c3'],mass_reaction_scaled['c4'],\\\n",
    "            mass_reaction_scaled['napha'],mass_reaction_scaled['gasoline'],mass_reaction_scaled['diesel'],mass_reaction_scaled['heavy'])\n",
    "plt.legend(['C1','C2','C3','C4','Napha','gasoline','diesel','heavy'])\n",
    "ax.set_title('Product Composition (Mass) vs T',fontsize=18)\n",
    "ax.set_ylabel('Mass Fraction (%)', color='K',fontsize=18)\n",
    "ax.set_xlabel('Temperature (k)', color='K',fontsize=18)\n",
    "plt.show()"
   ]
  },
  {
   "cell_type": "code",
   "execution_count": null,
   "metadata": {
    "slideshow": {
     "slide_type": "fragment"
    }
   },
   "outputs": [],
   "source": [
    "fig, ax = plt.subplots(figsize=(16,9))\n",
    "ax.stackplot(rf_data['T'], mass_reaction_data['c1'], mass_reaction_data['c2'],mass_reaction_data['c3'],mass_reaction_data['c4'],\\\n",
    "            mass_reaction_data['napha'],mass_reaction_data['gasoline'],mass_reaction_data['diesel'],mass_reaction_data['heavy'])\n",
    "plt.legend(['C1','C2','C3','C4','Napha','gasoline','diesel','heavy'])\n",
    "ax.set_title('Total Production Rate (mass) vs T',fontsize=18)\n",
    "ax.set_ylabel('Reaction Rate (kg/s)', color='K',fontsize=18)\n",
    "ax.set_xlabel('Temperature (k)', color='K',fontsize=18)\n",
    "plt.show()"
   ]
  },
  {
   "cell_type": "code",
   "execution_count": null,
   "metadata": {},
   "outputs": [],
   "source": [
    "# model.solutions.store_to(results)\n",
    "# with open('../saved_solutions/reactive_flash_200C_n58.pickle','wb') as f:\n",
    "#     pickle.dump(results,f)"
   ]
  },
  {
   "cell_type": "markdown",
   "metadata": {},
   "source": [
    "# VLE Validation using AspenPlus"
   ]
  },
  {
   "cell_type": "markdown",
   "metadata": {},
   "source": [
    "### Feed (Reactor Effluent)"
   ]
  },
  {
   "cell_type": "code",
   "execution_count": null,
   "metadata": {},
   "outputs": [],
   "source": [
    "print('Temperature (C): \\t{:.2f}\\t\\t'.format(model.T.value-273.15))\n",
    "print('Conversion(H2+CO): \\t{:.2f}\\t\\t'.format(1-((model.y['CO'].value+model.y['H2'].value)*model.V['out'].value)))\n",
    "print('Total FLow (kmol/s): \\t{:.2f}\\t\\t'.format(model.L['out'].value+model.V['out'].value))\n",
    "print('-'*72)\n",
    "for i in model.x:\n",
    "    print('{:10s}'.format(i),'\\t\\t{:.4%}'.format((model.x[i].value*model.L['out'].value\\\n",
    "        +model.y[i].value*model.V['out'].value)/(model.L['out'].value+model.V['out'].value)))"
   ]
  },
  {
   "cell_type": "markdown",
   "metadata": {},
   "source": [
    "### Phase Separation"
   ]
  },
  {
   "cell_type": "code",
   "execution_count": null,
   "metadata": {
    "scrolled": false
   },
   "outputs": [],
   "source": [
    "print('Component\\t\\tLiquid: {:.4f}\\t\\t\\tVapor: {:.4f}\\t\\t\\tlog K'.format(model.L['out'].value,model.V['out'].value))\n",
    "print('-'*108)\n",
    "for i in model.x:\n",
    "    print('{:10s}'.format(i),'\\t\\t{:8.4%}\\t\\t\\t{:8.4%}\\t\\t\\t{:.4f}'.format(model.x[i].value,model.y[i].value,np.log10(model.y[i].value/model.x[i].value)))"
   ]
  }
 ],
 "metadata": {
  "kernelspec": {
   "display_name": "Python 3",
   "language": "python",
   "name": "python3"
  },
  "language_info": {
   "codemirror_mode": {
    "name": "ipython",
    "version": 3
   },
   "file_extension": ".py",
   "mimetype": "text/x-python",
   "name": "python",
   "nbconvert_exporter": "python",
   "pygments_lexer": "ipython3",
   "version": "3.6.3"
  }
 },
 "nbformat": 4,
 "nbformat_minor": 2
}
