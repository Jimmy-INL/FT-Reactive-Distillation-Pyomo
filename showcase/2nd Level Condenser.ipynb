{
 "cells": [
  {
   "cell_type": "markdown",
   "metadata": {
    "slideshow": {
     "slide_type": "slide"
    }
   },
   "source": [
    "# 2nd Level Model Structure: Condenser Stage"
   ]
  },
  {
   "cell_type": "code",
   "execution_count": 1,
   "metadata": {},
   "outputs": [],
   "source": [
    "import sys\n",
    "import os\n",
    "import pickle\n",
    "sys.path.append(os.path.abspath('..'))\n",
    "import numpy as np\n",
    "from matplotlib import pyplot as plt"
   ]
  },
  {
   "cell_type": "code",
   "execution_count": 2,
   "metadata": {
    "slideshow": {
     "slide_type": "fragment"
    }
   },
   "outputs": [],
   "source": [
    "from pyomo import environ as pe\n",
    "from global_sets.component import m\n",
    "from utility.model_utility import add_dual, update_dual, check_DOF\n",
    "from utility.display_utility import trans_product_mole, trans_product_mass\n",
    "\n",
    "# stage construction rules\n",
    "from physics.energy_condenser import energy_block_rule\n",
    "from physics.VLLE_condenser import VLLE_block_rule\n",
    "\n",
    "# collect variable bounds\n",
    "from physics.bounds import water_x, water_yp\n",
    "\n",
    "model = pe.ConcreteModel()"
   ]
  },
  {
   "cell_type": "markdown",
   "metadata": {
    "slideshow": {
     "slide_type": "subslide"
    }
   },
   "source": [
    "# Global Sets (Inlet / Outlet)"
   ]
  },
  {
   "cell_type": "code",
   "execution_count": 3,
   "metadata": {
    "slideshow": {
     "slide_type": "fragment"
    }
   },
   "outputs": [],
   "source": [
    "model.inlet = pe.Set(initialize=['in'])\n",
    "model.outlet = pe.Set(initialize=['out','P'])\n",
    "model.stream = model.inlet | model.outlet\n",
    "model.COMP_WATER = pe.Set(initialize=['H2O'])"
   ]
  },
  {
   "cell_type": "markdown",
   "metadata": {
    "slideshow": {
     "slide_type": "subslide"
    }
   },
   "source": [
    "# Global Variables"
   ]
  },
  {
   "cell_type": "code",
   "execution_count": 4,
   "metadata": {
    "slideshow": {
     "slide_type": "fragment"
    }
   },
   "outputs": [],
   "source": [
    "model.T = pe.Var(within=pe.NonNegativeReals,bounds=(20+273.15,40+273.15)) # K\n",
    "model.T_F = pe.Var(within=pe.NonNegativeReals) # K\n",
    "model.P = pe.Var(within=pe.NonNegativeReals,bounds=(10,30)) # Bar\n",
    "model.Q_main = pe.Var(within=pe.Reals) # MW\n",
    "# Tray Inlet/Outlet Variable\n",
    "model.x_ = pe.Var(model.inlet,m.COMP_TOTAL,within=pe.NonNegativeReals)\n",
    "model.y_ = pe.Var(model.inlet,m.COMP_TOTAL,within=pe.NonNegativeReals)\n",
    "model.x = pe.Var(m.COMP_TOTAL,within=pe.NonNegativeReals)\n",
    "model.y = pe.Var(m.COMP_TOTAL,within=pe.NonNegativeReals)\n",
    "model.z = pe.Var(m.COMP_FEED,within=pe.NonNegativeReals)\n",
    "\n",
    "model.L = pe.Var(model.stream,within=pe.NonNegativeReals)\n",
    "model.W = pe.Var(within=pe.NonNegativeReals)\n",
    "model.V = pe.Var(model.stream,within=pe.NonNegativeReals)\n",
    "model.F = pe.Var(within=pe.NonNegativeReals)\n",
    "\n",
    "model.H_L_ = pe.Var(model.inlet,within=pe.Reals)\n",
    "model.H_V_ = pe.Var(model.inlet,within=pe.Reals)\n",
    "model.H_L = pe.Var(within=pe.Reals)\n",
    "model.H_V = pe.Var(within=pe.Reals)\n",
    "\n",
    "model.H_F = pe.Var(within=pe.Reals)\n",
    "model.f_V = pe.Var(m.COMP_TOTAL,within=pe.NonNegativeReals,initialize=1e-20)\n",
    "model.f_L = pe.Var(m.COMP_TOTAL,within=pe.NonNegativeReals,initialize=1e-20)"
   ]
  },
  {
   "cell_type": "markdown",
   "metadata": {
    "slideshow": {
     "slide_type": "slide"
    }
   },
   "source": [
    "# Construct Individual Blocks"
   ]
  },
  {
   "cell_type": "code",
   "execution_count": 5,
   "metadata": {
    "slideshow": {
     "slide_type": "subslide"
    }
   },
   "outputs": [
    {
     "name": "stdout",
     "output_type": "stream",
     "text": [
      "> Importing Energy Blocks......\n",
      "> Adding the following local variable:\n",
      "--------------------------------------------------\n",
      "| energy_block.dH_F\n",
      "| energy_block.dH_V\n",
      "| energy_block.dH_L\n",
      "| energy_block.dH_vap\n",
      "--------------------------------------------------\n",
      "\n"
     ]
    }
   ],
   "source": [
    "model.energy_block = pe.Block(rule=energy_block_rule)"
   ]
  },
  {
   "cell_type": "code",
   "execution_count": 6,
   "metadata": {
    "scrolled": true,
    "slideshow": {
     "slide_type": "subslide"
    }
   },
   "outputs": [
    {
     "name": "stdout",
     "output_type": "stream",
     "text": [
      "> Importing VLE Blocks......\n",
      "> Adding the following local variable:\n",
      "--------------------------------------------------\n",
      "| VLE_block.n_ave\n",
      "| VLE_block.n_ave_cal\n",
      "| VLE_block.Hen\n",
      "| VLE_block.Hen0\n",
      "| VLE_block.gamma\n",
      "| VLE_block.P_sat\n",
      "| VLE_block.P_sat_Y\n",
      "| VLE_block.P_sat_dY_inf\n",
      "| VLE_block.P_sat_dY0\n",
      "| VLE_block.Hen_ref\n",
      "| VLE_block.Hen0_ref\n",
      "| VLE_block.gamma_ref\n",
      "| VLE_block.V_L\n",
      "| VLE_block.V_L_dY_inf\n",
      "| VLE_block.V_L_dY0\n",
      "| VLE_block.poynting\n",
      "--------------------------------------------------\n",
      "\n"
     ]
    }
   ],
   "source": [
    "model.VLE_block = pe.Block(rule=VLLE_block_rule)"
   ]
  },
  {
   "cell_type": "markdown",
   "metadata": {
    "slideshow": {
     "slide_type": "slide"
    }
   },
   "source": [
    "# Standard MESH Equations"
   ]
  },
  {
   "cell_type": "markdown",
   "metadata": {
    "slideshow": {
     "slide_type": "subslide"
    }
   },
   "source": [
    "## Mass Balance"
   ]
  },
  {
   "cell_type": "markdown",
   "metadata": {
    "slideshow": {
     "slide_type": "fragment"
    }
   },
   "source": [
    "\\begin{equation}\n",
    "Fz_{i}+\\sum_{s\\in{inlet}}L_{s}x'_{i,s}+\\sum_{s\\in{inlet}}V_{s}y'_{i,s}-\\sum_{s\\in{outlet}}L_{s}x_{i,s}+\\sum_{s\\in{ouelet}}V_{s}y_{i,s}+R_{i} = 0 \\\\\n",
    "i = 1,...NC\n",
    "\\end{equation}"
   ]
  },
  {
   "cell_type": "code",
   "execution_count": 7,
   "metadata": {
    "slideshow": {
     "slide_type": "fragment"
    }
   },
   "outputs": [],
   "source": [
    "def mass_balance_main_rule(model,i):\n",
    "    if i in m.COMP_FEED:\n",
    "        return model.F*model.z[i] + sum(model.L[s]*model.x_[s,i] + model.V[s]*model.y_[s,i] for s in model.inlet)\\\n",
    "        - sum(model.L[s]*model.x[i] + model.V[s]*model.y[i] for s in model.outlet) == 0\n",
    "    elif i in model.COMP_WATER:\n",
    "        return sum(model.L[s]*model.x_[s,i] + model.V[s]*model.y_[s,i] for s in model.inlet)\\\n",
    "        - sum(model.L[s]*model.x[i] + model.V[s]*model.y[i] for s in model.outlet) - model.W == 0\n",
    "    else:\n",
    "        return sum(model.L[s]*model.x_[s,i] + model.V[s]*model.y_[s,i] for s in model.inlet)\\\n",
    "        - sum(model.L[s]*model.x[i] + model.V[s]*model.y[i] for s in model.outlet) == 0\n",
    "model.mass_balance_main_con = pe.Constraint(m.COMP_TOTAL,rule=mass_balance_main_rule)"
   ]
  },
  {
   "cell_type": "markdown",
   "metadata": {
    "slideshow": {
     "slide_type": "subslide"
    }
   },
   "source": [
    "## Equilibrium"
   ]
  },
  {
   "cell_type": "markdown",
   "metadata": {
    "slideshow": {
     "slide_type": "fragment"
    }
   },
   "source": [
    "\\begin{align}\n",
    "&f_{i,V} = f_{i,L} \\\\\n",
    "&i = 1,...NC\n",
    "\\end{align}"
   ]
  },
  {
   "cell_type": "code",
   "execution_count": 8,
   "metadata": {
    "slideshow": {
     "slide_type": "fragment"
    }
   },
   "outputs": [],
   "source": [
    "# Equilibrium\n",
    "def VL_equil_rule(model,i):\n",
    "    return model.f_V[i] == model.f_L[i]\n",
    "model.VL_equil_con = pe.Constraint(m.COMP_TOTAL-model.COMP_WATER,rule=VL_equil_rule)\n",
    "\n",
    "# Water phase\n",
    "def L_water_rule(model,i):\n",
    "    return model.x[i] == pe.exp(-0.66037 - 7.1130*(539.1/model.T) - 0.67885*(1-model.T/539.1)**(1/3) -1.43381*(1-model.T/539.1))\n",
    "model.L_water_con = pe.Constraint(model.COMP_WATER,rule=L_water_rule)\n",
    "\n",
    "def V_water_rule(model,i):\n",
    "    return model.y[i]*model.P == pe.exp(2.30258509299*(5.20389 - 1733.926/(model.T-39.485)))\n",
    "model.V_water_con = pe.Constraint(model.COMP_WATER,rule=V_water_rule)"
   ]
  },
  {
   "cell_type": "code",
   "execution_count": 9,
   "metadata": {},
   "outputs": [],
   "source": [
    "# add bounds specifically for water\n",
    "model.x['H2O'].setub(water_x[1]+abs(water_x[1])*0.1)\n",
    "model.x['H2O'].setlb(water_x[0]-abs(water_x[0])*0.1)\n",
    "\n",
    "model.y['H2O'].setub(water_yp[1]/model.P.lb)\n",
    "model.y['H2O'].setlb(water_yp[0]/model.P.ub)"
   ]
  },
  {
   "cell_type": "markdown",
   "metadata": {
    "slideshow": {
     "slide_type": "subslide"
    }
   },
   "source": [
    "## Summation"
   ]
  },
  {
   "cell_type": "markdown",
   "metadata": {
    "slideshow": {
     "slide_type": "fragment"
    }
   },
   "source": [
    "\\begin{equation}\n",
    "\\sum_ix_{i} = 1 \\\\\n",
    "\\sum_iy_{i} = 1\n",
    "\\end{equation}"
   ]
  },
  {
   "cell_type": "code",
   "execution_count": 10,
   "metadata": {
    "slideshow": {
     "slide_type": "fragment"
    }
   },
   "outputs": [],
   "source": [
    "def summation_x_main_rule(model):\n",
    "    return sum(model.x[i] for i in m.COMP_TOTAL) == 1\n",
    "model.summation_x_main_con = pe.Constraint(rule=summation_x_main_rule)\n",
    "\n",
    "def summation_y_main_rule(model):\n",
    "    return sum(model.y[i] for i in m.COMP_TOTAL) == 1\n",
    "model.summation_y_main_con = pe.Constraint(rule=summation_y_main_rule)"
   ]
  },
  {
   "cell_type": "markdown",
   "metadata": {
    "slideshow": {
     "slide_type": "subslide"
    }
   },
   "source": [
    "## Energy Balance"
   ]
  },
  {
   "cell_type": "markdown",
   "metadata": {
    "slideshow": {
     "slide_type": "fragment"
    }
   },
   "source": [
    "\\begin{equation}\n",
    "F H_f+\\sum_{s\\in{inlet}}L_{s}H_{l,s}+\\sum_{s\\in{inlet}}V_{s}H_{v,s}-\\sum_{s\\in{outlet}}L_{s}H_{l,s}-\\sum_{s\\in{outlet}}V_{s}H_{v,s}+Q = 0\n",
    "\\end{equation}"
   ]
  },
  {
   "cell_type": "code",
   "execution_count": 11,
   "metadata": {
    "slideshow": {
     "slide_type": "fragment"
    }
   },
   "outputs": [],
   "source": [
    "def heat_balance_main_rule(model):\n",
    "    return model.F*model.H_F + sum(model.L[s]*model.H_L_[s] + model.V[s]*model.H_V_[s] for s in model.inlet) \\\n",
    "            + model.Q_main - sum(model.L[s]*model.H_L + model.V[s]*model.H_V for s in model.outlet) - model.W*model.energy_block.dH_L['H2O'] == 0\n",
    "model.heat_balance_main_con = pe.Constraint(rule=heat_balance_main_rule)"
   ]
  },
  {
   "cell_type": "markdown",
   "metadata": {
    "slideshow": {
     "slide_type": "slide"
    }
   },
   "source": [
    "# Testing"
   ]
  },
  {
   "cell_type": "code",
   "execution_count": 12,
   "metadata": {},
   "outputs": [
    {
     "name": "stdout",
     "output_type": "stream",
     "text": [
      "Created the follow pyomo suffixes:\n",
      "ipopt_zL_out, ipopt_zU_out, ipopt_zL_in, ipopt_zU_in, dual\n"
     ]
    }
   ],
   "source": [
    "add_dual(pe,model)"
   ]
  },
  {
   "cell_type": "markdown",
   "metadata": {},
   "source": [
    "## Load a sample vapor feed from reactive flash example"
   ]
  },
  {
   "cell_type": "code",
   "execution_count": 13,
   "metadata": {},
   "outputs": [],
   "source": [
    "with open('../saved_solutions/reactive_flash_200C_n20.pickle', 'rb') as f:\n",
    "    C200 = pickle.load(f)"
   ]
  },
  {
   "cell_type": "markdown",
   "metadata": {
    "slideshow": {
     "slide_type": "fragment"
    }
   },
   "source": [
    "## Fixing In/Product Redundent Flow"
   ]
  },
  {
   "cell_type": "code",
   "execution_count": 14,
   "metadata": {
    "slideshow": {
     "slide_type": "fragment"
    }
   },
   "outputs": [],
   "source": [
    "model.x_.fix(0)\n",
    "for i in m.COMP_TOTAL:\n",
    "    model.y_['in',i].fix(C200.Solution.Variable['y[{}]'.format(i)]['Value'])\n",
    "model.L['in'].fix(0)\n",
    "model.L['P'].fix(0)\n",
    "model.V['in'].fix(1)\n",
    "model.V['P'].fix(0)\n",
    "model.H_L_.fix(0)\n",
    "model.H_V_.fix(C200.Solution.Variable['H_V']['Value'])"
   ]
  },
  {
   "cell_type": "markdown",
   "metadata": {
    "slideshow": {
     "slide_type": "subslide"
    }
   },
   "source": [
    "## Fixing Model Parameters"
   ]
  },
  {
   "cell_type": "code",
   "execution_count": 15,
   "metadata": {
    "slideshow": {
     "slide_type": "fragment"
    }
   },
   "outputs": [],
   "source": [
    "model.P.fix(19)\n",
    "model.T_F.fix(200+273.15)\n",
    "model.F.fix(0)\n",
    "model.z['CO'].fix(0.3333)\n",
    "model.z['H2'].fix(0.6666)\n",
    "model.z['C30H62'].fix(0.0001)\n",
    "model.VLE_block.n_ave.fix(4)"
   ]
  },
  {
   "cell_type": "code",
   "execution_count": 16,
   "metadata": {
    "scrolled": true,
    "slideshow": {
     "slide_type": "fragment"
    }
   },
   "outputs": [
    {
     "name": "stdout",
     "output_type": "stream",
     "text": [
      "Active Equality Constraints:\t 957\n",
      "Active Inequality Constraints:\t 0\n",
      "Active Variables:\t\t 1129\n",
      "Fixed Variables:\t\t 171\n",
      "DOF:\t\t\t\t 1\n"
     ]
    }
   ],
   "source": [
    "check_DOF(pe,model)"
   ]
  },
  {
   "cell_type": "markdown",
   "metadata": {
    "slideshow": {
     "slide_type": "subslide"
    }
   },
   "source": [
    "## Fix T or to fix Q? we have found that Maximize against an upper bound is most reliable"
   ]
  },
  {
   "cell_type": "code",
   "execution_count": 17,
   "metadata": {
    "slideshow": {
     "slide_type": "fragment"
    }
   },
   "outputs": [],
   "source": [
    "model.T.setub(40+273.15)"
   ]
  },
  {
   "cell_type": "code",
   "execution_count": 18,
   "metadata": {
    "slideshow": {
     "slide_type": "fragment"
    }
   },
   "outputs": [],
   "source": [
    "model.obj = pe.Objective(expr = model.T,sense=pe.maximize)"
   ]
  },
  {
   "cell_type": "code",
   "execution_count": 19,
   "metadata": {
    "scrolled": false,
    "slideshow": {
     "slide_type": "fragment"
    }
   },
   "outputs": [
    {
     "name": "stdout",
     "output_type": "stream",
     "text": [
      "Ipopt 3.12.8: print_user_options=yes\n",
      "linear_solver=ma86\n",
      "halt_on_ampl_error=yes\n",
      "max_iter=7000\n",
      "\n",
      "\n",
      "List of user-set options:\n",
      "\n",
      "                                    Name   Value                used\n",
      "                           linear_solver = ma86                  yes\n",
      "                                max_iter = 7000                  yes\n",
      "                      print_user_options = yes                   yes\n",
      "\n",
      "******************************************************************************\n",
      "This program contains Ipopt, a library for large-scale nonlinear optimization.\n",
      " Ipopt is released as open source code under the Eclipse Public License (EPL).\n",
      "         For more information visit http://projects.coin-or.org/Ipopt\n",
      "******************************************************************************\n",
      "\n",
      "This is Ipopt version 3.12.8, running with linear solver ma86.\n",
      "\n",
      "Number of nonzeros in equality constraint Jacobian...:     3068\n",
      "Number of nonzeros in inequality constraint Jacobian.:        0\n",
      "Number of nonzeros in Lagrangian Hessian.............:     4009\n",
      "\n",
      "Total number of variables............................:      958\n",
      "                     variables with only lower bounds:      320\n",
      "                variables with lower and upper bounds:      551\n",
      "                     variables with only upper bounds:        0\n",
      "Total number of equality constraints.................:      957\n",
      "Total number of inequality constraints...............:        0\n",
      "        inequality constraints with only lower bounds:        0\n",
      "   inequality constraints with lower and upper bounds:        0\n",
      "        inequality constraints with only upper bounds:        0\n",
      "\n",
      "iter    objective    inf_pr   inf_du lg(mu)  ||d||  lg(rg) alpha_du alpha_pr  ls\n",
      "   0 -2.9335000e+02 9.57e+02 1.00e+00  -1.0 0.00e+00    -  0.00e+00 0.00e+00   0\n",
      "   1 -2.9315200e+02 9.57e+02 3.08e+03  -1.0 3.22e+06    -  3.76e-06 2.28e-06h  1\n",
      "   2r-2.9315200e+02 9.57e+02 9.99e+02   3.0 0.00e+00    -  0.00e+00 1.24e-08R  2\n",
      "   3r-2.9315200e+02 9.57e+02 9.99e+02   3.0 1.44e+05    -  3.63e-05 1.85e-09f  2\n",
      "   4r-2.9315502e+02 8.49e+02 9.98e+02  -0.5 1.43e+05    -  3.30e-04 7.53e-04f  1\n",
      "   5r-2.9315502e+02 8.49e+02 9.99e+02   2.9 0.00e+00    -  0.00e+00 1.10e-07R  2\n",
      "   6r-2.9315502e+02 8.49e+02 9.99e+02   2.9 2.58e+05    -  2.04e-06 5.11e-11f  2\n",
      "   7r-2.9319108e+02 6.91e+02 9.99e+02   0.8 2.59e+05    -  9.51e-05 6.10e-04f  1\n",
      "   8r-2.9319108e+02 6.91e+02 9.99e+02   2.8 0.00e+00    -  0.00e+00 2.28e-07R  2\n",
      "   9r-2.9319108e+02 6.91e+02 1.16e+03   2.8 3.08e+05    -  1.52e-04 2.94e-11f  2\n",
      "iter    objective    inf_pr   inf_du lg(mu)  ||d||  lg(rg) alpha_du alpha_pr  ls\n",
      "  10r-2.9644901e+02 5.14e+02 1.16e+03  -0.7 2.95e+05    -  2.92e-05 2.30e-03f  1\n",
      "  11r-2.9644901e+02 5.14e+02 9.99e+02   2.7 0.00e+00    -  0.00e+00 1.71e-07R  2\n",
      "  12r-2.9644901e+02 5.14e+02 1.11e+04   2.7 1.85e+04    -  1.76e-03 5.84e-11f  2\n",
      "  13r-2.9705912e+02 5.14e+02 1.10e+04  -1.5 1.41e+04    -  4.41e-03 3.95e-03f  1\n",
      "  14r-2.9720219e+02 4.98e+02 1.10e+04  -1.5 5.46e+03    -  7.49e-03 2.81e-03f  1\n",
      "  15r-2.9747789e+02 4.59e+02 1.09e+04  -1.5 5.43e+03    -  4.20e-03 7.22e-03f  1\n",
      "  16 -2.9747762e+02 4.59e+02 1.51e+00  -1.0 7.83e+05    -  2.43e-07 1.19e-07f  2\n",
      "  17 -2.9747525e+02 4.59e+02 1.86e+00  -1.0 5.50e+05    -  5.88e-08 1.70e-07f  1\n",
      "  18 -2.9747327e+02 4.59e+02 1.86e+00  -1.0 1.58e+06    -  7.86e-08 4.78e-08f  2\n",
      "  19 -2.9746566e+02 4.59e+02 2.41e+00  -1.0 1.59e+06    -  1.29e-07 1.81e-07f  1\n",
      "iter    objective    inf_pr   inf_du lg(mu)  ||d||  lg(rg) alpha_du alpha_pr  ls\n",
      "  20 -2.9745891e+02 4.59e+02 6.79e+00  -1.0 1.60e+06    -  4.32e-07 1.61e-07f  2\n",
      "  21 -2.9742900e+02 4.59e+02 2.37e+01  -1.0 1.60e+06    -  5.94e-07 7.11e-07h  1\n",
      "  22 -2.9736048e+02 4.59e+02 1.74e+02  -1.0 1.60e+06    -  1.40e-06 1.63e-06h  1\n",
      "  23r-2.9736048e+02 4.59e+02 9.99e+02   2.7 0.00e+00    -  0.00e+00 9.35e-09R  2\n",
      "  24r-2.9736047e+02 4.59e+02 6.54e+03   2.7 1.01e+04    -  2.24e-03 1.58e-09f  2\n",
      "  25r-2.9692900e+02 4.33e+02 6.53e+03  -1.5 2.55e+03    -  1.44e-02 1.01e-02f  1\n",
      "  26r-2.9701292e+02 1.96e+02 6.73e+03  -1.5 1.78e+05    -  2.36e-02 2.41e-03f  1\n",
      "  27r-2.9701292e+02 1.96e+02 9.99e+02   1.6 0.00e+00    -  0.00e+00 1.26e-09R  2\n",
      "  28r-2.9701292e+02 1.96e+02 2.03e+03   1.6 9.04e+03    -  4.06e-03 5.98e-10f  2\n",
      "  29r-2.9694343e+02 1.91e+02 2.03e+03  -1.2 7.36e+03    -  1.85e-03 1.76e-03f  1\n",
      "iter    objective    inf_pr   inf_du lg(mu)  ||d||  lg(rg) alpha_du alpha_pr  ls\n",
      "  30r-2.9694343e+02 1.91e+02 9.99e+02   1.5 0.00e+00    -  0.00e+00 3.18e-09R  2\n",
      "  31r-2.9694343e+02 1.91e+02 1.76e+03   1.5 9.60e+03    -  4.40e-03 6.83e-10f  2\n",
      "  32r-2.9676029e+02 1.89e+02 1.95e+03  -1.3 1.17e+04    -  1.51e-03 6.53e-04f  1\n",
      "  33r-2.9676029e+02 1.89e+02 9.99e+02   1.4 0.00e+00    -  0.00e+00 4.39e-09R  2\n",
      "  34r-2.9676029e+02 1.89e+02 1.26e+04   1.4 2.01e+04    -  4.64e-03 8.14e-10f  2\n",
      "  35r-2.9522534e+02 1.73e+02 8.96e+03  -0.7 1.41e+04    -  2.21e-03 4.43e-03f  1\n",
      "  36r-2.9522534e+02 1.73e+02 9.99e+02   1.2 0.00e+00    -  0.00e+00 3.70e-09R  2\n",
      "  37r-2.9522534e+02 1.73e+02 2.04e+03   1.2 1.78e+04    -  9.24e-04 1.27e-09f  2\n",
      "  38r-2.9450201e+02 1.63e+02 1.23e+03  -0.2 1.21e+04    -  4.73e-05 2.34e-03f  1\n",
      "  39r-2.9435860e+02 1.56e+02 9.95e+02  -0.2 4.66e+03    -  1.91e-03 1.23e-03f  1\n",
      "iter    objective    inf_pr   inf_du lg(mu)  ||d||  lg(rg) alpha_du alpha_pr  ls\n",
      "  40r-2.9420268e+02 1.44e+02 1.74e+03  -0.2 2.58e+03    -  4.54e-04 2.43e-03f  1\n",
      "  41r-2.9407106e+02 1.22e+02 3.11e+03  -0.2 1.21e+03    -  5.12e-04 4.50e-03f  1\n",
      "  42r-2.9408789e+02 1.16e+02 3.08e+03  -0.2 9.99e+02    -  1.37e-03 1.17e-03f  1\n",
      "  43r-2.9422902e+02 8.30e+01 3.62e+03  -0.2 9.94e+02    -  1.22e-03 7.40e-03f  1\n",
      "  44r-2.9433914e+02 6.53e+01 3.60e+03  -0.2 9.70e+02    -  3.69e-03 4.41e-03f  1\n",
      "  45r-2.9458120e+02 1.94e+01 3.56e+03  -0.2 9.42e+02    -  1.41e-02 1.28e-02f  1\n",
      "  46r-2.9467146e+02 1.65e+01 3.57e+03  -0.2 6.91e+02    -  7.16e-02 9.01e-03f  1\n",
      "  47r-2.9479587e+02 1.65e+01 3.49e+03  -0.9 2.04e+02    -  1.97e-02 2.28e-02f  1\n",
      "  48r-2.9515389e+02 1.65e+01 3.02e+03  -0.9 1.84e+02    -  1.92e-02 7.29e-02f  1\n",
      "  49r-2.9521950e+02 1.65e+01 2.95e+03  -0.9 1.33e+02    -  9.67e-02 6.52e-02f  1\n",
      "iter    objective    inf_pr   inf_du lg(mu)  ||d||  lg(rg) alpha_du alpha_pr  ls\n",
      "  50r-2.9506742e+02 1.65e+01 3.08e+03  -0.9 9.32e+01    -  2.65e-01 1.27e-01f  1\n",
      "  51r-2.9440249e+02 1.65e+01 2.14e+03  -0.9 1.02e+02    -  1.75e-01 2.44e-01f  1\n",
      "  52r-2.9324934e+02 1.65e+01 9.82e+02  -1.6 1.26e+02    -  1.58e-01 3.41e-01f  1\n",
      "  53r-2.9324612e+02 1.65e+01 9.66e+02  -1.6 2.37e+00   0.0 1.66e-01 4.12e-01f  1\n",
      "  54r-2.9324181e+02 1.65e+01 7.13e+02  -1.6 7.92e+00  -0.5 1.10e-01 2.54e-01f  1\n",
      "  55r-2.9324170e+02 1.65e+01 7.10e+02  -1.6 5.85e+01  -0.1 2.15e-02 4.57e-03f  1\n",
      "  56r-2.9324044e+02 1.65e+01 1.03e+03  -1.6 6.35e-01   1.3 1.29e-01 4.27e-01f  1\n",
      "  57r-2.9324028e+02 1.65e+01 1.33e+03  -1.6 1.15e+00   1.7 2.38e-01 9.06e-02f  1\n",
      "  58r-2.9323993e+02 1.65e+01 1.10e+03  -1.6 3.53e-01   1.2 2.47e-01 2.05e-01f  1\n",
      "  59r-2.9323833e+02 1.65e+01 3.21e+02  -1.6 9.39e-01   0.7 9.90e-01 7.47e-01f  1\n",
      "iter    objective    inf_pr   inf_du lg(mu)  ||d||  lg(rg) alpha_du alpha_pr  ls\n",
      "  60r-2.9323522e+02 1.65e+01 5.70e+02  -1.6 2.65e+00   0.3 2.66e-01 8.22e-01f  1\n",
      "  61r-2.9323098e+02 1.65e+01 7.21e+02  -1.6 7.55e+00  -0.2 9.95e-01 4.20e-01f  1\n",
      "  62r-2.9321370e+02 1.64e+01 2.85e+02  -1.6 2.68e+01  -0.7 4.52e-01 5.89e-01f  1\n",
      "  63r-2.9320274e+02 1.64e+01 5.72e+02  -1.6 1.17e+01  -0.3 4.73e-01 1.00e+00f  1\n",
      "  64r-2.9320012e+02 1.64e+01 6.83e+02  -1.6 5.50e+00   0.2 2.74e-01 6.48e-01f  1\n",
      "  65r-2.9319858e+02 1.64e+01 5.40e+02  -1.6 2.20e+00   0.6 7.42e-01 1.00e+00f  1\n",
      "  66r-2.9319800e+02 1.64e+01 4.99e+02  -1.6 1.97e+01   0.1 1.08e-01 1.13e-01f  1\n",
      "  67r-2.9319800e+02 1.64e+01 1.72e+03  -1.6 4.27e+00   0.5 1.00e+00 3.55e-03f  1\n",
      "  68r-2.9317929e+02 1.64e+01 1.59e+03  -1.6 1.29e+02    -  4.76e-01 1.98e-02f  1\n",
      "  69r-2.9316890e+02 1.64e+01 2.22e+03  -1.6 3.40e+01    -  5.26e-01 1.77e-01f  1\n",
      "iter    objective    inf_pr   inf_du lg(mu)  ||d||  lg(rg) alpha_du alpha_pr  ls\n",
      "  70r-2.9316837e+02 1.64e+01 2.17e+03  -1.6 2.60e+01    -  1.50e-02 2.28e-02f  1\n",
      "  71r-2.9316053e+02 1.64e+01 1.17e+03  -1.6 3.41e+01    -  5.87e-03 3.43e-01f  1\n",
      "  72r-2.9316028e+02 1.64e+01 1.43e+03  -1.6 2.54e+00   0.1 1.00e+00 6.08e-02f  1\n",
      "  73r-2.9315138e+02 1.64e+01 1.01e+02  -1.6 7.96e+00  -0.4 7.01e-01 9.60e-01f  1\n",
      "  74r-2.9315026e+02 1.64e+01 7.13e+01  -2.4 2.65e+01  -0.9 4.61e-01 6.23e-01f  1\n",
      "  75r-2.9315030e+02 1.63e+01 9.56e+02  -2.4 2.91e+02  -1.4 4.99e-03 1.21e-01f  1\n",
      "  76r-2.9315030e+02 1.63e+01 9.53e+02  -2.4 1.57e+02  -0.9 1.28e-02 5.42e-04f  1\n",
      "  77r-2.9315030e+02 1.63e+01 1.24e+03  -2.4 3.70e+01  -1.4 4.55e-01 7.19e-02f  1\n",
      "  78r-2.9315032e+02 1.63e+01 1.00e+03  -2.4 2.42e+02  -1.9 9.57e-04 2.00e-01f  1\n",
      "  79r-2.9315032e+02 1.63e+01 1.69e+03  -2.4 4.39e+02    -  3.53e-01 4.72e-02f  1\n",
      "iter    objective    inf_pr   inf_du lg(mu)  ||d||  lg(rg) alpha_du alpha_pr  ls\n",
      "  80r-2.9315032e+02 1.63e+01 1.88e+03  -2.4 4.42e+01    -  6.15e-01 2.18e-03f  1\n",
      "  81r-2.9315030e+02 1.62e+01 1.66e+03  -2.4 1.47e+01    -  2.37e-01 1.68e-01f  1\n",
      "  82r-2.9315030e+02 1.62e+01 1.57e+03  -2.4 1.23e+01    -  1.53e-03 3.39e-02f  1\n",
      "  83r-2.9315029e+02 1.61e+01 8.16e+02  -2.4 1.47e+01    -  5.42e-02 4.86e-01f  1\n",
      "  84r-2.9315029e+02 1.61e+01 6.62e+02  -2.4 1.60e+01    -  3.99e-01 1.90e-01f  1\n",
      "  85r-2.9315029e+02 1.60e+01 2.88e+02  -2.4 1.37e+01    -  1.00e+00 9.27e-01f  1\n",
      "  86r-2.9315029e+02 1.60e+01 6.46e+01  -2.4 1.01e+00    -  1.00e+00 1.67e-01h  1\n",
      "  87r-2.9315029e+02 1.60e+01 1.07e+00  -2.4 4.72e-01    -  1.00e+00 1.00e+00h  1\n",
      "  88r-2.9315006e+02 1.60e+01 1.79e+01  -3.6 8.36e-02    -  8.58e-01 8.34e-01f  1\n",
      "  89r-2.9315004e+02 1.56e+01 6.17e+01  -3.6 1.01e+02    -  2.32e-01 2.07e-01f  1\n",
      "iter    objective    inf_pr   inf_du lg(mu)  ||d||  lg(rg) alpha_du alpha_pr  ls\n",
      "  90r-2.9315004e+02 1.56e+01 9.98e+02  -3.6 7.68e+01    -  1.12e-01 7.64e-05f  1\n",
      "  91r-2.9315002e+02 1.51e+01 5.39e+02  -3.6 7.87e+01    -  9.16e-05 3.78e-01f  1\n",
      "  92r-2.9315002e+02 1.51e+01 5.39e+02  -3.6 4.96e+01    -  2.37e-01 1.68e-04f  1\n",
      "  93r-2.9315002e+02 1.51e+01 8.60e+03  -3.6 3.23e+01    -  4.41e-04 7.56e-02f  1\n",
      "  94r-2.9315002e+02 1.51e+01 8.05e+03  -3.6 1.18e+01    -  6.39e-03 4.52e-04f  1\n",
      "  95r-2.9315001e+02 1.45e+01 2.17e+03  -3.6 4.96e+01    -  2.05e-03 7.38e-01f  1\n",
      "  96r-2.9315001e+02 1.45e+01 9.99e+02   1.2 0.00e+00    -  0.00e+00 1.86e-08R  2\n",
      "  97r-2.9315001e+02 1.45e+01 9.99e+02   1.2 2.00e+05    -  2.79e-07 2.45e-07f  1\n",
      "  98r-2.9315002e+02 1.45e+01 9.99e+02   1.2 5.50e+04    -  1.37e-06 6.54e-07f  1\n",
      "  99r-2.9315007e+02 1.45e+01 9.99e+02   1.2 3.39e+04    -  6.28e-06 3.39e-06f  1\n",
      "iter    objective    inf_pr   inf_du lg(mu)  ||d||  lg(rg) alpha_du alpha_pr  ls\n",
      " 100r-2.9315030e+02 1.45e+01 9.99e+02   1.2 1.62e+04    -  9.28e-05 1.60e-05f  1\n",
      " 101r-2.9315331e+02 1.45e+01 9.99e+02   1.2 4.75e+03    -  2.88e-04 2.02e-04f  1\n",
      " 102r-2.9316520e+02 1.45e+01 9.99e+02   0.5 5.38e+02    -  2.83e-02 3.89e-03f  1\n",
      " 103r-2.9315814e+02 1.44e+01 9.64e+02  -0.9 9.49e+01    -  3.78e-01 3.09e-02f  1\n",
      " 104r-2.9315495e+02 1.18e+01 6.78e+02  -0.9 4.60e+02    -  2.87e-02 3.26e-01f  1\n",
      " 105 -2.9315532e+02 1.18e+01 1.00e+03  -1.0 6.78e+02    -  6.18e-04 3.26e-03f  1\n",
      " 106 -2.9317300e+02 1.02e+01 4.34e+04  -1.0 6.75e+02    -  1.83e-02 1.29e-01f  1\n",
      " 107 -2.9347905e+02 1.80e-01 6.99e+05  -1.0 5.88e+02    -  1.06e-01 9.90e-01h  1\n",
      " 108 -2.9430233e+02 7.93e-02 1.06e+05  -1.0 3.51e+01    -  8.95e-01 8.71e-01h  1\n",
      " 109 -2.9762927e+02 1.90e-01 3.50e+06  -1.0 1.34e+02    -  2.78e-01 9.92e-01H  1\n",
      "iter    objective    inf_pr   inf_du lg(mu)  ||d||  lg(rg) alpha_du alpha_pr  ls\n",
      " 110 -3.0192349e+02 9.38e-02 3.25e+06  -1.0 1.76e+02    -  6.79e-01 1.00e+00F  1\n",
      " 111 -3.0259763e+02 1.43e-01 4.65e+06  -1.0 3.18e+02    -  8.36e-01 8.30e-02f  4\n"
     ]
    },
    {
     "name": "stdout",
     "output_type": "stream",
     "text": [
      " 112 -3.0307067e+02 1.66e-01 5.14e+06  -1.0 4.39e+02    -  6.15e-01 4.24e-02f  4\n",
      " 113 -3.0340286e+02 1.72e-01 5.32e+06  -1.0 2.84e+02    -  9.42e-01 4.62e-02f  4\n",
      " 114 -3.0386713e+02 1.72e-01 4.49e+06  -1.0 1.13e+02    -  1.00e+00 1.63e-01f  3\n",
      " 115 -3.0460026e+02 1.97e-01 1.04e+05  -1.0 2.92e+01    -  1.00e+00 1.00e+00f  1\n",
      " 116 -3.0510515e+02 2.98e-01 1.74e+06  -1.0 4.39e+02    -  3.70e-01 4.58e-02f  1\n",
      " 117 -3.0577361e+02 2.46e-01 4.22e+05  -1.0 6.38e+01    -  1.00e+00 4.19e-01f  1\n",
      " 118 -3.0586980e+02 2.36e-01 4.40e+05  -1.0 6.74e+01    -  1.40e-01 5.74e-02h  1\n",
      " 119 -3.0671127e+02 9.62e-02 3.40e+03  -1.0 3.39e+01    -  1.00e+00 1.00e+00f  1\n",
      "iter    objective    inf_pr   inf_du lg(mu)  ||d||  lg(rg) alpha_du alpha_pr  ls\n",
      " 120 -3.0744939e+02 1.52e-01 4.42e+06  -2.5 2.06e+02    -  5.99e-01 1.44e-01f  1\n",
      " 121 -3.0998035e+02 8.61e-01 9.41e+05  -2.5 1.03e+02    -  9.41e-01 1.00e+00f  1\n",
      " 122 -3.1314104e+02 1.39e+00 3.78e+04  -2.5 1.33e+02    -  1.00e+00 9.87e-01f  1\n",
      " 123 -3.1314998e+02 1.39e+00 3.76e+04  -2.5 8.82e+01    -  3.75e-01 4.34e-03h  1\n",
      " 124 -3.1314662e+02 2.34e-04 7.42e+04  -2.5 1.24e+00    -  1.04e-03 1.00e+00f  1\n",
      " 125 -3.1314707e+02 7.09e-08 3.93e-04  -2.5 1.91e-02    -  1.00e+00 1.00e+00h  1\n",
      " 126 -3.1315000e+02 1.21e-06 1.52e+04  -8.6 1.31e-01    -  1.00e+00 9.46e-01f  1\n",
      " 127 -3.1315000e+02 1.02e-10 9.37e-05  -8.6 1.11e-06    -  1.00e+00 1.00e+00h  1\n",
      " 128 -3.1315000e+02 1.02e-10 3.39e-14  -8.6 1.02e-10    -  1.00e+00 1.00e+00h  1\n",
      "\n",
      "Number of Iterations....: 128\n",
      "\n",
      "                                   (scaled)                 (unscaled)\n",
      "Objective...............:  -3.1315000312899411e+02   -3.1315000312899411e+02\n",
      "Dual infeasibility......:   3.3861802251067274e-14    3.3861802251067274e-14\n",
      "Constraint violation....:   1.0164044931225413e-10    1.0164044931225413e-10\n",
      "Complementarity.........:   2.5059035596801623e-09    2.5059035596801623e-09\n",
      "Overall NLP error.......:   2.5059035596801623e-09    2.5059035596801623e-09\n",
      "\n",
      "\n",
      "Number of objective function evaluations             = 198\n",
      "Number of objective gradient evaluations             = 53\n",
      "Number of equality constraint evaluations            = 198\n",
      "Number of inequality constraint evaluations          = 0\n",
      "Number of equality constraint Jacobian evaluations   = 139\n",
      "Number of inequality constraint Jacobian evaluations = 0\n",
      "Number of Lagrangian Hessian evaluations             = 128\n",
      "Total CPU secs in IPOPT (w/o function evaluations)   =      1.624\n",
      "Total CPU secs in NLP function evaluations           =      0.105\n",
      "\n",
      "EXIT: Optimal Solution Found.\n"
     ]
    }
   ],
   "source": [
    "opt = pe.SolverFactory('ipopt')\n",
    "\n",
    "opt.options['print_user_options'] = 'yes'\n",
    "opt.options['linear_solver'] = 'ma86'\n",
    "# opt.options['nlp_scaling_method'] = None\n",
    "# opt.options['bound_relax_factor'] = 0\n",
    "\n",
    "opt.options['halt_on_ampl_error'] = 'yes'\n",
    "opt.options['max_iter'] = 7000\n",
    "results = opt.solve(model,tee=True)\n",
    "update_dual(pe,model)"
   ]
  },
  {
   "cell_type": "code",
   "execution_count": 20,
   "metadata": {
    "scrolled": true,
    "slideshow": {
     "slide_type": "skip"
    }
   },
   "outputs": [
    {
     "data": {
      "text/plain": [
       "-11.309573060309324"
      ]
     },
     "execution_count": 20,
     "metadata": {},
     "output_type": "execute_result"
    }
   ],
   "source": [
    "model.Q_main.value"
   ]
  },
  {
   "cell_type": "code",
   "execution_count": 21,
   "metadata": {
    "slideshow": {
     "slide_type": "skip"
    }
   },
   "outputs": [
    {
     "data": {
      "text/plain": [
       "313.15"
      ]
     },
     "execution_count": 21,
     "metadata": {},
     "output_type": "execute_result"
    }
   ],
   "source": [
    "model.T.value"
   ]
  },
  {
   "cell_type": "code",
   "execution_count": 22,
   "metadata": {},
   "outputs": [],
   "source": [
    "# model.solutions.store_to(results)\n",
    "# with open('../saved_solutions/condenser_40C.pickle','wb') as f:\n",
    "#     pickle.dump(results,f)"
   ]
  },
  {
   "cell_type": "code",
   "execution_count": 23,
   "metadata": {
    "scrolled": false,
    "slideshow": {
     "slide_type": "slide"
    }
   },
   "outputs": [
    {
     "name": "stdout",
     "output_type": "stream",
     "text": [
      "Component\t\tLiquid: 0.0056\t\t\tVapor: 0.8725\t\t\tlog K\n",
      "------------------------------------------------------------------------------------------------------------\n",
      "H2         \t\t 0.3944%\t\t\t28.6968%\t\t\t1.8619\n",
      "CO         \t\t 0.9344%\t\t\t32.7414%\t\t\t1.5446\n",
      "CO2        \t\t 6.5403%\t\t\t36.9600%\t\t\t0.7521\n",
      "H2O        \t\t 0.0001%\t\t\t 0.3883%\t\t\t3.6757\n",
      "C2H4       \t\t 0.0377%\t\t\t 0.1360%\t\t\t0.5576\n",
      "C3H6       \t\t 0.2099%\t\t\t 0.1548%\t\t\t-0.1322\n",
      "C4H8       \t\t 0.5519%\t\t\t 0.1354%\t\t\t-0.6102\n",
      "C5H10      \t\t 1.2771%\t\t\t 0.0982%\t\t\t-1.1141\n",
      "C6H12      \t\t 3.0741%\t\t\t 0.0776%\t\t\t-1.5979\n",
      "C7H14      \t\t 5.8606%\t\t\t 0.0500%\t\t\t-2.0689\n",
      "C8H16      \t\t 8.2399%\t\t\t 0.0243%\t\t\t-2.5311\n",
      "C9H18      \t\t 8.8476%\t\t\t 0.0091%\t\t\t-2.9868\n",
      "C10H20     \t\t 7.9886%\t\t\t 0.0029%\t\t\t-3.4377\n",
      "C11H22     \t\t 4.1442%\t\t\t 0.0005%\t\t\t-3.8847\n",
      "C12H24     \t\t 3.1449%\t\t\t 0.0001%\t\t\t-4.3287\n",
      "C13H26     \t\t 2.2610%\t\t\t 0.0000%\t\t\t-4.7702\n",
      "C14H28     \t\t 1.5577%\t\t\t 0.0000%\t\t\t-5.2096\n",
      "C15H30     \t\t 1.0391%\t\t\t 0.0000%\t\t\t-5.6472\n",
      "C16H32     \t\t 0.6772%\t\t\t 0.0000%\t\t\t-6.0833\n",
      "C17H34     \t\t 0.4345%\t\t\t 0.0000%\t\t\t-6.5181\n",
      "C18H36     \t\t 0.2761%\t\t\t 0.0000%\t\t\t-6.9518\n",
      "C19H38     \t\t 0.1744%\t\t\t 0.0000%\t\t\t-7.3845\n",
      "C20H40     \t\t 0.1098%\t\t\t 0.0000%\t\t\t-7.8164\n",
      "C1H4       \t\t 0.0183%\t\t\t 0.2236%\t\t\t1.0878\n",
      "C2H6       \t\t 0.0335%\t\t\t 0.0730%\t\t\t0.3376\n",
      "C3H8       \t\t 0.0549%\t\t\t 0.0387%\t\t\t-0.1525\n",
      "C4H10      \t\t 0.2090%\t\t\t 0.0424%\t\t\t-0.6925\n",
      "C5H12      \t\t 0.8837%\t\t\t 0.0567%\t\t\t-1.1926\n",
      "C6H14      \t\t 2.0631%\t\t\t 0.0437%\t\t\t-1.6740\n",
      "C7H16      \t\t 3.7562%\t\t\t 0.0270%\t\t\t-2.1434\n",
      "C8H18      \t\t 5.0311%\t\t\t 0.0125%\t\t\t-2.6045\n",
      "C9H20      \t\t 5.2200%\t\t\t 0.0046%\t\t\t-3.0594\n",
      "C10H22     \t\t 4.6187%\t\t\t 0.0014%\t\t\t-3.5096\n",
      "C11H24     \t\t 6.0011%\t\t\t 0.0007%\t\t\t-3.9562\n",
      "C12H26     \t\t 4.5101%\t\t\t 0.0002%\t\t\t-4.3997\n",
      "C13H28     \t\t 3.2176%\t\t\t 0.0000%\t\t\t-4.8408\n",
      "C14H30     \t\t 2.2035%\t\t\t 0.0000%\t\t\t-5.2799\n",
      "C15H32     \t\t 1.4633%\t\t\t 0.0000%\t\t\t-5.7173\n",
      "C16H34     \t\t 0.9508%\t\t\t 0.0000%\t\t\t-6.1532\n",
      "C17H36     \t\t 0.6089%\t\t\t 0.0000%\t\t\t-6.5878\n",
      "C18H38     \t\t 0.3864%\t\t\t 0.0000%\t\t\t-7.0213\n",
      "C19H40     \t\t 0.2439%\t\t\t 0.0000%\t\t\t-7.4539\n",
      "C20H42     \t\t 0.1535%\t\t\t 0.0000%\t\t\t-7.8856\n",
      "C21H44     \t\t 0.1613%\t\t\t 0.0000%\t\t\t-8.3166\n",
      "C22H46     \t\t 0.1014%\t\t\t 0.0000%\t\t\t-8.7469\n",
      "C23H48     \t\t 0.0638%\t\t\t 0.0000%\t\t\t-9.1766\n",
      "C24H50     \t\t 0.0402%\t\t\t 0.0000%\t\t\t-9.6057\n",
      "C25H52     \t\t 0.0254%\t\t\t 0.0000%\t\t\t-10.0344\n",
      "C26H54     \t\t 0.0160%\t\t\t 0.0000%\t\t\t-10.4626\n",
      "C27H56     \t\t 0.0101%\t\t\t 0.0000%\t\t\t-10.8905\n",
      "C28H58     \t\t 0.0064%\t\t\t 0.0000%\t\t\t-11.3179\n",
      "C29H60     \t\t 0.0041%\t\t\t 0.0000%\t\t\t-11.7450\n",
      "C30H62     \t\t 0.1635%\t\t\t 0.0000%\t\t\t-12.1718\n",
      "C31H64     \t\t 0.0016%\t\t\t 0.0000%\t\t\t-12.5983\n",
      "C32H66     \t\t 0.0010%\t\t\t 0.0000%\t\t\t-13.0246\n",
      "C33H68     \t\t 0.0007%\t\t\t 0.0000%\t\t\t-13.4506\n",
      "C34H70     \t\t 0.0004%\t\t\t 0.0000%\t\t\t-13.8764\n",
      "C35H72     \t\t 0.0003%\t\t\t 0.0000%\t\t\t-14.3020\n",
      "C36H74     \t\t 0.0002%\t\t\t 0.0000%\t\t\t-14.7274\n",
      "C37H76     \t\t 0.0001%\t\t\t 0.0000%\t\t\t-15.1526\n",
      "C38H78     \t\t 0.0001%\t\t\t 0.0000%\t\t\t-15.5776\n",
      "C39H80     \t\t 0.0000%\t\t\t 0.0000%\t\t\t-16.0025\n",
      "C40H82     \t\t 0.0000%\t\t\t 0.0000%\t\t\t-16.4272\n",
      "C41H84     \t\t 0.0000%\t\t\t 0.0000%\t\t\t-16.8518\n",
      "C42H86     \t\t 0.0000%\t\t\t 0.0000%\t\t\t-17.2762\n",
      "C43H88     \t\t 0.0000%\t\t\t 0.0000%\t\t\t-17.7006\n",
      "C44H90     \t\t 0.0000%\t\t\t 0.0000%\t\t\t-18.1248\n",
      "C45H92     \t\t 0.0000%\t\t\t 0.0000%\t\t\t-18.5489\n",
      "C46H94     \t\t 0.0000%\t\t\t 0.0000%\t\t\t-18.9729\n",
      "C47H96     \t\t 0.0000%\t\t\t 0.0000%\t\t\t-19.3968\n",
      "C48H98     \t\t 0.0000%\t\t\t 0.0000%\t\t\t-19.8207\n",
      "C49H100    \t\t 0.0000%\t\t\t 0.0000%\t\t\t-20.2444\n",
      "C50H102    \t\t 0.0000%\t\t\t 0.0000%\t\t\t-20.6681\n",
      "C51H104    \t\t 0.0000%\t\t\t 0.0000%\t\t\t-21.0916\n",
      "C52H106    \t\t 0.0000%\t\t\t 0.0000%\t\t\t-21.5152\n",
      "C53H108    \t\t 0.0000%\t\t\t 0.0000%\t\t\t-21.9386\n",
      "C54H110    \t\t 0.0000%\t\t\t 0.0000%\t\t\t-22.3620\n",
      "C55H112    \t\t 0.0000%\t\t\t 0.0000%\t\t\t-22.7853\n",
      "C56H114    \t\t 0.0000%\t\t\t 0.0000%\t\t\t-23.2085\n"
     ]
    }
   ],
   "source": [
    "print('Component\\t\\tLiquid: {:.4f}\\t\\t\\tVapor: {:.4f}\\t\\t\\tlog K'.format(model.L['out'].value,model.V['out'].value))\n",
    "print('-'*108)\n",
    "for i in model.x:\n",
    "    print('{:10s}'.format(i),'\\t\\t{:8.4%}\\t\\t\\t{:8.4%}\\t\\t\\t{:.4f}'.format(model.x[i].value,model.y[i].value,np.log10(model.y[i].value/model.x[i].value)))"
   ]
  },
  {
   "cell_type": "markdown",
   "metadata": {
    "slideshow": {
     "slide_type": "slide"
    }
   },
   "source": [
    "# Iterative Solve for Data Analysis"
   ]
  },
  {
   "cell_type": "code",
   "execution_count": 24,
   "metadata": {},
   "outputs": [],
   "source": [
    "opt.options['warm_start_init_point'] = 'yes'\n",
    "opt.options['warm_start_bound_push'] = 1e-20\n",
    "opt.options['warm_start_mult_bound_push'] = 1e-20\n",
    "opt.options['mu_init'] = 1e-6"
   ]
  },
  {
   "cell_type": "code",
   "execution_count": 25,
   "metadata": {
    "scrolled": false,
    "slideshow": {
     "slide_type": "fragment"
    }
   },
   "outputs": [
    {
     "name": "stdout",
     "output_type": "stream",
     "text": [
      "Solved, Solution T = 313.15 K\n",
      "Solved, Solution T = 311.15 K\n",
      "Solved, Solution T = 309.15 K\n",
      "Solved, Solution T = 307.15 K\n",
      "Solved, Solution T = 305.15 K\n",
      "Solved, Solution T = 303.15 K\n",
      "Solved, Solution T = 301.15 K\n",
      "Solved, Solution T = 299.15 K\n",
      "Solved, Solution T = 297.15 K\n",
      "Solved, Solution T = 295.15 K\n",
      "Solved, Solution T = 293.15 K\n"
     ]
    }
   ],
   "source": [
    "cd_data = {}\n",
    "cd_data['x'] = {}; cd_data['T'] = []; cd_data['Q'] = []; cd_data['V'] = []; cd_data['L'] = []; \n",
    "\n",
    "for i in m.COMP_TOTAL:\n",
    "    cd_data['x'][i] = []\n",
    "    \n",
    "Trange = np.arange(40+273.15,19+273.15,-2)\n",
    "\n",
    "for Tub in Trange:\n",
    "    model.T.setub(Tub)\n",
    "    results = opt.solve(model,tee=False)\n",
    "    update_dual(pe,model)\n",
    "    # print('-'*72)\n",
    "    print('Solved, Solution T = {} K'.format(model.T.value))\n",
    "    # print('-'*72)\n",
    "    cd_data['T'].append(model.T.value)\n",
    "    cd_data['Q'].append(model.Q_main.value)\n",
    "    cd_data['V'].append(model.V['out'].value)\n",
    "    cd_data['L'].append(model.L['out'].value)    \n",
    "\n",
    "    for i in m.COMP_TOTAL:\n",
    "        cd_data['x'][i].append(model.x[i].value*model.L['out'].value)"
   ]
  },
  {
   "cell_type": "markdown",
   "metadata": {
    "slideshow": {
     "slide_type": "slide"
    }
   },
   "source": [
    "## Some Observations\n",
    "\n",
    "* This system has multiple solution under same Q.\n",
    "* The reaction rate peaks at ~530K, due to decreasing $\\alpha$, increasing light component, uses up more feed.\n",
    "* Note that when 'fully' utilizing catalyst, the system seems to always require cooling."
   ]
  },
  {
   "cell_type": "code",
   "execution_count": 26,
   "metadata": {
    "slideshow": {
     "slide_type": "fragment"
    }
   },
   "outputs": [
    {
     "data": {
      "image/png": "[encoded data removed]",
      "text/plain": [
       "<Figure size 1152x648 with 2 Axes>"
      ]
     },
     "metadata": {},
     "output_type": "display_data"
    }
   ],
   "source": [
    "fig, ax1 = plt.subplots(figsize=(16,9))\n",
    "line1 = ax1.plot(cd_data['T'],cd_data['Q'], 'b-')\n",
    "ax1.set_xlabel('Temperature (k)', color='K',fontsize=18)\n",
    "ax1.set_ylabel('Q (MW)', color='b',fontsize=18)\n",
    "ax1.tick_params('y', colors='b',labelsize=18)\n",
    "ax1.tick_params('x', colors='k',labelsize=18)\n",
    "ax1.grid()\n",
    "\n",
    "ax2 = ax1.twinx()\n",
    "line2 = ax2.plot(cd_data['T'],cd_data['L'], 'r')\n",
    "line3 = ax2.plot(cd_data['T'],cd_data['V'], 'r--')\n",
    "ax2.set_ylabel('Flow Rate: (kmol/s)', color='r',fontsize=18)\n",
    "ax2.tick_params('y', colors='r',labelsize=18)\n",
    "\n",
    "ax1.legend(line1+line2+line3,['Q','L','V'],fontsize=18,loc=5)\n",
    "ax1.set_title('Heat Removal Rate and Flow Rate vs T',fontsize=18)\n",
    "plt.show()"
   ]
  },
  {
   "cell_type": "markdown",
   "metadata": {
    "slideshow": {
     "slide_type": "subslide"
    }
   },
   "source": [
    "## Product Distribution (mole)"
   ]
  },
  {
   "cell_type": "code",
   "execution_count": 27,
   "metadata": {
    "slideshow": {
     "slide_type": "fragment"
    }
   },
   "outputs": [],
   "source": [
    "reaction_data = trans_product_mole(cd_data['x'])['unscaled']\n",
    "reaction_data_scaled = trans_product_mole(cd_data['x'])['scaled']"
   ]
  },
  {
   "cell_type": "code",
   "execution_count": 28,
   "metadata": {
    "slideshow": {
     "slide_type": "fragment"
    }
   },
   "outputs": [
    {
     "data": {
      "image/png": "[encoded data removed]",
      "text/plain": [
       "<Figure size 1152x648 with 1 Axes>"
      ]
     },
     "metadata": {},
     "output_type": "display_data"
    }
   ],
   "source": [
    "fig, ax = plt.subplots(figsize=(16,9))\n",
    "ax.stackplot(cd_data['T'], reaction_data_scaled['c1'], reaction_data_scaled['c2'],reaction_data_scaled['c3'],reaction_data_scaled['c4'],\\\n",
    "            reaction_data_scaled['napha'],reaction_data_scaled['gasoline'],reaction_data_scaled['diesel'],reaction_data_scaled['heavy'])\n",
    "plt.legend(['C1','C2','C3','C4','Napha','gasoline','diesel','heavy'])\n",
    "ax.set_title('Product Composition (Mole) vs T',fontsize=18)\n",
    "ax.set_ylabel('Mole Fraction (%)', color='K',fontsize=18)\n",
    "ax.set_xlabel('Temperature (k)', color='K',fontsize=18)\n",
    "plt.show()"
   ]
  },
  {
   "cell_type": "code",
   "execution_count": 29,
   "metadata": {
    "slideshow": {
     "slide_type": "fragment"
    }
   },
   "outputs": [
    {
     "data": {
      "image/png": "[encoded data removed]",
      "text/plain": [
       "<Figure size 1152x648 with 1 Axes>"
      ]
     },
     "metadata": {},
     "output_type": "display_data"
    }
   ],
   "source": [
    "fig, ax = plt.subplots(figsize=(16,9))\n",
    "ax.stackplot(cd_data['T'], reaction_data['c1'], reaction_data['c2'],reaction_data['c3'],reaction_data['c4'],\\\n",
    "            reaction_data['napha'],reaction_data['gasoline'],reaction_data['diesel'],reaction_data['heavy'])\n",
    "plt.legend(['C1','C2','C3','C4','Napha','gasoline','diesel','heavy'])\n",
    "ax.set_title('Liquid Rate (Mole) vs T',fontsize=18)\n",
    "ax.set_ylabel('Liquid Rate (kmol/s)', color='K',fontsize=18)\n",
    "ax.set_xlabel('Temperature (k)', color='K',fontsize=18)\n",
    "plt.show()"
   ]
  },
  {
   "cell_type": "markdown",
   "metadata": {
    "slideshow": {
     "slide_type": "subslide"
    }
   },
   "source": [
    "## Product Distribution (mass)"
   ]
  },
  {
   "cell_type": "code",
   "execution_count": 30,
   "metadata": {
    "slideshow": {
     "slide_type": "fragment"
    }
   },
   "outputs": [],
   "source": [
    "mass_reaction_data = trans_product_mass(cd_data['x'])['unscaled']\n",
    "mass_reaction_scaled = trans_product_mass(cd_data['x'])['scaled']"
   ]
  },
  {
   "cell_type": "code",
   "execution_count": 31,
   "metadata": {
    "slideshow": {
     "slide_type": "fragment"
    }
   },
   "outputs": [
    {
     "data": {
      "image/png": "[encoded data removed]",
      "text/plain": [
       "<Figure size 1152x648 with 1 Axes>"
      ]
     },
     "metadata": {},
     "output_type": "display_data"
    }
   ],
   "source": [
    "fig, ax = plt.subplots(figsize=(16,9))\n",
    "ax.stackplot(cd_data['T'], mass_reaction_scaled['c1'], mass_reaction_scaled['c2'],mass_reaction_scaled['c3'],mass_reaction_scaled['c4'],\\\n",
    "            mass_reaction_scaled['napha'],mass_reaction_scaled['gasoline'],mass_reaction_scaled['diesel'],mass_reaction_scaled['heavy'])\n",
    "plt.legend(['C1','C2','C3','C4','Napha','gasoline','diesel','heavy'])\n",
    "ax.set_title('Product Composition (Mass) vs T',fontsize=18)\n",
    "ax.set_ylabel('Mass Fraction (%)', color='K',fontsize=18)\n",
    "ax.set_xlabel('Temperature (k)', color='K',fontsize=18)\n",
    "plt.show()"
   ]
  },
  {
   "cell_type": "code",
   "execution_count": 32,
   "metadata": {
    "slideshow": {
     "slide_type": "fragment"
    }
   },
   "outputs": [
    {
     "data": {
      "image/png": "[encoded data removed]",
      "text/plain": [
       "<Figure size 1152x648 with 1 Axes>"
      ]
     },
     "metadata": {},
     "output_type": "display_data"
    }
   ],
   "source": [
    "fig, ax = plt.subplots(figsize=(16,9))\n",
    "ax.stackplot(cd_data['T'], mass_reaction_data['c1'], mass_reaction_data['c2'],mass_reaction_data['c3'],mass_reaction_data['c4'],\\\n",
    "            mass_reaction_data['napha'],mass_reaction_data['gasoline'],mass_reaction_data['diesel'],mass_reaction_data['heavy'])\n",
    "plt.legend(['C1','C2','C3','C4','Napha','gasoline','diesel','heavy'])\n",
    "ax.set_title('Liquid Rate (mass) vs T',fontsize=18)\n",
    "ax.set_ylabel('Liquid Rate (kg/s)', color='K',fontsize=18)\n",
    "ax.set_xlabel('Temperature (k)', color='K',fontsize=18)\n",
    "plt.show()"
   ]
  },
  {
   "cell_type": "code",
   "execution_count": 33,
   "metadata": {},
   "outputs": [],
   "source": [
    "# model.solutions.store_to(results)\n",
    "# with open('../saved_solutions/condenser_20C.pickle','wb') as f:\n",
    "#     pickle.dump(results,f)"
   ]
  },
  {
   "cell_type": "code",
   "execution_count": 34,
   "metadata": {},
   "outputs": [
    {
     "name": "stdout",
     "output_type": "stream",
     "text": [
      "Component\t\tLiquid: 0.0071\t\t\tVapor: 0.8687\t\t\tlog K\n",
      "------------------------------------------------------------------------------------------------------------\n",
      "H2         \t\t 0.3631%\t\t\t28.8231%\t\t\t1.8997\n",
      "CO         \t\t 0.9198%\t\t\t32.8846%\t\t\t1.5533\n",
      "CO2        \t\t 7.9955%\t\t\t37.0999%\t\t\t0.6665\n",
      "H2O        \t\t 0.0000%\t\t\t 0.1229%\t\t\t3.5684\n",
      "C2H4       \t\t 0.0487%\t\t\t 0.1364%\t\t\t0.4476\n",
      "C3H6       \t\t 0.3252%\t\t\t 0.1542%\t\t\t-0.3241\n",
      "C4H8       \t\t 0.9652%\t\t\t 0.1317%\t\t\t-0.8651\n",
      "C5H10      \t\t 2.3784%\t\t\t 0.0873%\t\t\t-1.4350\n",
      "C6H12      \t\t 5.2849%\t\t\t 0.0544%\t\t\t-1.9876\n",
      "C7H14      \t\t 7.8867%\t\t\t 0.0233%\t\t\t-2.5291\n",
      "C8H16      \t\t 8.5520%\t\t\t 0.0074%\t\t\t-3.0631\n",
      "C9H18      \t\t 7.8371%\t\t\t 0.0020%\t\t\t-3.5915\n",
      "C10H20     \t\t 6.5858%\t\t\t 0.0005%\t\t\t-4.1158\n",
      "C11H22     \t\t 3.3202%\t\t\t 0.0001%\t\t\t-4.6367\n",
      "C12H24     \t\t 2.4925%\t\t\t 0.0000%\t\t\t-5.1550\n",
      "C13H26     \t\t 1.7848%\t\t\t 0.0000%\t\t\t-5.6711\n",
      "C14H28     \t\t 1.2278%\t\t\t 0.0000%\t\t\t-6.1854\n",
      "C15H30     \t\t 0.8185%\t\t\t 0.0000%\t\t\t-6.6982\n",
      "C16H32     \t\t 0.5334%\t\t\t 0.0000%\t\t\t-7.2097\n",
      "C17H34     \t\t 0.3422%\t\t\t 0.0000%\t\t\t-7.7201\n",
      "C18H36     \t\t 0.2174%\t\t\t 0.0000%\t\t\t-8.2296\n",
      "C19H38     \t\t 0.1373%\t\t\t 0.0000%\t\t\t-8.7382\n",
      "C20H40     \t\t 0.0865%\t\t\t 0.0000%\t\t\t-9.2460\n",
      "C1H4       \t\t 0.0196%\t\t\t 0.2245%\t\t\t1.0583\n",
      "C2H6       \t\t 0.0469%\t\t\t 0.0731%\t\t\t0.1929\n",
      "C3H8       \t\t 0.0840%\t\t\t 0.0385%\t\t\t-0.3389\n",
      "C4H10      \t\t 0.3687%\t\t\t 0.0409%\t\t\t-0.9547\n",
      "C5H12      \t\t 1.6352%\t\t\t 0.0492%\t\t\t-1.5213\n",
      "C6H14      \t\t 3.4282%\t\t\t 0.0291%\t\t\t-2.0718\n",
      "C7H16      \t\t 4.8221%\t\t\t 0.0118%\t\t\t-2.6120\n",
      "C8H18      \t\t 5.0496%\t\t\t 0.0036%\t\t\t-3.1450\n",
      "C9H20      \t\t 4.5491%\t\t\t 0.0010%\t\t\t-3.6727\n",
      "C10H22     \t\t 3.7824%\t\t\t 0.0002%\t\t\t-4.1964\n",
      "C11H24     \t\t 4.7958%\t\t\t 0.0001%\t\t\t-4.7168\n",
      "C12H26     \t\t 3.5712%\t\t\t 0.0000%\t\t\t-5.2348\n",
      "C13H28     \t\t 2.5390%\t\t\t 0.0000%\t\t\t-5.7506\n",
      "C14H30     \t\t 1.7366%\t\t\t 0.0000%\t\t\t-6.2646\n",
      "C15H32     \t\t 1.1527%\t\t\t 0.0000%\t\t\t-6.7772\n",
      "C16H34     \t\t 0.7488%\t\t\t 0.0000%\t\t\t-7.2886\n",
      "C17H36     \t\t 0.4795%\t\t\t 0.0000%\t\t\t-7.7988\n",
      "C18H38     \t\t 0.3043%\t\t\t 0.0000%\t\t\t-8.3081\n",
      "C19H40     \t\t 0.1921%\t\t\t 0.0000%\t\t\t-8.8166\n",
      "C20H42     \t\t 0.1209%\t\t\t 0.0000%\t\t\t-9.3243\n",
      "C21H44     \t\t 0.1270%\t\t\t 0.0000%\t\t\t-9.8314\n",
      "C22H46     \t\t 0.0799%\t\t\t 0.0000%\t\t\t-10.3379\n",
      "C23H48     \t\t 0.0503%\t\t\t 0.0000%\t\t\t-10.8439\n",
      "C24H50     \t\t 0.0317%\t\t\t 0.0000%\t\t\t-11.3494\n",
      "C25H52     \t\t 0.0200%\t\t\t 0.0000%\t\t\t-11.8545\n",
      "C26H54     \t\t 0.0126%\t\t\t 0.0000%\t\t\t-12.3592\n",
      "C27H56     \t\t 0.0080%\t\t\t 0.0000%\t\t\t-12.8636\n",
      "C28H58     \t\t 0.0051%\t\t\t 0.0000%\t\t\t-13.3677\n",
      "C29H60     \t\t 0.0032%\t\t\t 0.0000%\t\t\t-13.8714\n",
      "C30H62     \t\t 0.1287%\t\t\t 0.0000%\t\t\t-14.3749\n",
      "C31H64     \t\t 0.0013%\t\t\t 0.0000%\t\t\t-14.8782\n",
      "C32H66     \t\t 0.0008%\t\t\t 0.0000%\t\t\t-15.3812\n",
      "C33H68     \t\t 0.0005%\t\t\t 0.0000%\t\t\t-15.8840\n",
      "C34H70     \t\t 0.0003%\t\t\t 0.0000%\t\t\t-16.3866\n",
      "C35H72     \t\t 0.0002%\t\t\t 0.0000%\t\t\t-16.8891\n",
      "C36H74     \t\t 0.0001%\t\t\t 0.0000%\t\t\t-17.3914\n",
      "C37H76     \t\t 0.0001%\t\t\t 0.0000%\t\t\t-17.8935\n",
      "C38H78     \t\t 0.0001%\t\t\t 0.0000%\t\t\t-18.3955\n",
      "C39H80     \t\t 0.0000%\t\t\t 0.0000%\t\t\t-18.8973\n",
      "C40H82     \t\t 0.0000%\t\t\t 0.0000%\t\t\t-19.3990\n",
      "C41H84     \t\t 0.0000%\t\t\t 0.0000%\t\t\t-19.9006\n",
      "C42H86     \t\t 0.0000%\t\t\t 0.0000%\t\t\t-20.4021\n",
      "C43H88     \t\t 0.0000%\t\t\t 0.0000%\t\t\t-20.9035\n",
      "C44H90     \t\t 0.0000%\t\t\t 0.0000%\t\t\t-21.4047\n",
      "C45H92     \t\t 0.0000%\t\t\t 0.0000%\t\t\t-21.9059\n",
      "C46H94     \t\t 0.0000%\t\t\t 0.0000%\t\t\t-22.4070\n",
      "C47H96     \t\t 0.0000%\t\t\t 0.0000%\t\t\t-22.9080\n",
      "C48H98     \t\t 0.0000%\t\t\t 0.0000%\t\t\t-23.4090\n",
      "C49H100    \t\t 0.0000%\t\t\t 0.0000%\t\t\t-23.9100\n",
      "C50H102    \t\t 0.0000%\t\t\t 0.0000%\t\t\t-24.4114\n",
      "C51H104    \t\t 0.0000%\t\t\t 0.0000%\t\t\t-24.9162\n",
      "C52H106    \t\t 0.0000%\t\t\t 0.0000%\t\t\t-25.4287\n",
      "C53H108    \t\t 0.0000%\t\t\t 0.0000%\t\t\t-26.0335\n",
      "C54H110    \t\t 0.0000%\t\t\t 0.0000%\t\t\t-inf\n",
      "C55H112    \t\t 0.0000%\t\t\t 0.0000%\t\t\t-inf\n",
      "C56H114    \t\t 0.0000%\t\t\t 0.0000%\t\t\t-inf\n"
     ]
    },
    {
     "name": "stderr",
     "output_type": "stream",
     "text": [
      "/anaconda/lib/python3.6/site-packages/ipykernel_launcher.py:4: RuntimeWarning: divide by zero encountered in log10\n",
      "  after removing the cwd from sys.path.\n"
     ]
    }
   ],
   "source": [
    "print('Component\\t\\tLiquid: {:.4f}\\t\\t\\tVapor: {:.4f}\\t\\t\\tlog K'.format(model.L['out'].value,model.V['out'].value))\n",
    "print('-'*108)\n",
    "for i in model.x:\n",
    "    print('{:10s}'.format(i),'\\t\\t{:8.4%}\\t\\t\\t{:8.4%}\\t\\t\\t{:.4f}'.format(model.x[i].value,model.y[i].value,np.log10(model.y[i].value/model.x[i].value)))"
   ]
  },
  {
   "cell_type": "code",
   "execution_count": 35,
   "metadata": {},
   "outputs": [],
   "source": [
    "from utility.data_utility import cal_MW"
   ]
  },
  {
   "cell_type": "code",
   "execution_count": 36,
   "metadata": {},
   "outputs": [],
   "source": [
    "liquid_MW = 0\n",
    "for i in m.COMP_TOTAL:\n",
    "    liquid_MW += model.x[i].value*cal_MW(i)"
   ]
  },
  {
   "cell_type": "code",
   "execution_count": 37,
   "metadata": {},
   "outputs": [
    {
     "data": {
      "text/plain": [
       "0.880356853527773"
      ]
     },
     "execution_count": 37,
     "metadata": {},
     "output_type": "execute_result"
    }
   ],
   "source": [
    "model.L['out'].value*liquid_MW"
   ]
  },
  {
   "cell_type": "code",
   "execution_count": 38,
   "metadata": {},
   "outputs": [
    {
     "data": {
      "text/plain": [
       "123.19626367043564"
      ]
     },
     "execution_count": 38,
     "metadata": {},
     "output_type": "execute_result"
    }
   ],
   "source": [
    "liquid_MW"
   ]
  },
  {
   "cell_type": "code",
   "execution_count": null,
   "metadata": {},
   "outputs": [],
   "source": []
  }
 ],
 "metadata": {
  "kernelspec": {
   "display_name": "Python 3",
   "language": "python",
   "name": "python3"
  },
  "language_info": {
   "codemirror_mode": {
    "name": "ipython",
    "version": 3
   },
   "file_extension": ".py",
   "mimetype": "text/x-python",
   "name": "python",
   "nbconvert_exporter": "python",
   "pygments_lexer": "ipython3",
   "version": "3.6.3"
  }
 },
 "nbformat": 4,
 "nbformat_minor": 2
}
