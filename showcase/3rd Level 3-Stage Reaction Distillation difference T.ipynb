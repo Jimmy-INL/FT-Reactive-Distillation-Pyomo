{
 "cells": [
  {
   "cell_type": "markdown",
   "metadata": {},
   "source": [
    "# 3rd Level Model Structure: Single Stage Reactive Distillation"
   ]
  },
  {
   "cell_type": "code",
   "execution_count": 1,
   "metadata": {},
   "outputs": [],
   "source": [
    "import sys\n",
    "import os\n",
    "import pickle\n",
    "sys.path.append(os.path.abspath('..'))\n",
    "\n",
    "import numpy as np\n",
    "from matplotlib import pyplot as plt\n",
    "import ipywidgets as widgets"
   ]
  },
  {
   "cell_type": "code",
   "execution_count": 2,
   "metadata": {},
   "outputs": [],
   "source": [
    "from pyomo import environ as pe\n",
    "from modules.global_set import m\n",
    "\n",
    "from stages.reactive_stage import reactive_stage_rule\n",
    "from stages.condenser_stage import condenser_stage_rule\n",
    "\n",
    "from utility.display_utility import trans_product_mole, trans_product_mass, beautify2\n",
    "from utility.model_utility import add_dual, update_dual, check_DOF\n",
    "from utility.data_utility import cal_cnumber\n",
    "\n",
    "model = pe.ConcreteModel()"
   ]
  },
  {
   "cell_type": "markdown",
   "metadata": {},
   "source": [
    "# Global Set"
   ]
  },
  {
   "cell_type": "code",
   "execution_count": 3,
   "metadata": {},
   "outputs": [],
   "source": [
    "model.TRAY = pe.RangeSet(1,3)"
   ]
  },
  {
   "cell_type": "markdown",
   "metadata": {},
   "source": [
    "# Construct Reactive Stages"
   ]
  },
  {
   "cell_type": "code",
   "execution_count": 4,
   "metadata": {},
   "outputs": [
    {
     "name": "stdout",
     "output_type": "stream",
     "text": [
      "> Importing Reactive Stage......\n",
      "> Adding the following local variable:\n",
      "------------------------------------\n",
      "| reactive[1].T_F\n",
      "| reactive[1].P\n",
      "| reactive[1].cat\n",
      "| reactive[1].Q_main\n",
      "| reactive[1].x_\n",
      "| reactive[1].y_\n",
      "| reactive[1].x\n",
      "| reactive[1].y\n",
      "| reactive[1].z\n",
      "| reactive[1].L\n",
      "| reactive[1].V\n",
      "| reactive[1].F\n",
      "| reactive[1].H_L_\n",
      "| reactive[1].H_V_\n",
      "| reactive[1].H_L\n",
      "| reactive[1].H_V\n",
      "| reactive[1].T\n",
      "| reactive[1].H_F\n",
      "| reactive[1].f_V\n",
      "| reactive[1].f_L\n",
      "| reactive[1].r_total_comp\n",
      "------------------------------------\n",
      "\n",
      "> Importing Kinetics Blocks......\n",
      "> Adding the following local variable:\n",
      "--------------------------------------------------\n",
      "| reactive[1].kinetics_block.k_FT\n",
      "| reactive[1].kinetics_block.r_FT_total\n",
      "| reactive[1].kinetics_block.g0_FT\n",
      "| reactive[1].kinetics_block.alpha\n",
      "| reactive[1].kinetics_block.r_FT_cnum\n",
      "| reactive[1].kinetics_block.r_FT_comp\n",
      "| reactive[1].kinetics_block.k_WGS\n",
      "| reactive[1].kinetics_block.Ke_WGS\n",
      "| reactive[1].kinetics_block.r_WGS\n",
      "| reactive[1].kinetics_block.r_WGS_comp\n",
      "--------------------------------------------------\n",
      "\n",
      "> Importing Energy Blocks......\n",
      "> Adding the following local variable:\n",
      "--------------------------------------------------\n",
      "| reactive[1].energy_block.dH_F\n",
      "| reactive[1].energy_block.dH_V\n",
      "| reactive[1].energy_block.dH_L\n",
      "| reactive[1].energy_block.dH_vap\n",
      "--------------------------------------------------\n",
      "\n",
      "> Importing VLE Blocks......\n",
      "> Adding the following local variable:\n",
      "--------------------------------------------------\n",
      "| reactive[1].VLE_block.n_ave\n",
      "| reactive[1].VLE_block.n_ave_cal\n",
      "| reactive[1].VLE_block.Hen\n",
      "| reactive[1].VLE_block.Hen0\n",
      "| reactive[1].VLE_block.gamma\n",
      "| reactive[1].VLE_block.P_sat\n",
      "| reactive[1].VLE_block.P_sat_Y\n",
      "| reactive[1].VLE_block.P_sat_dY_inf\n",
      "| reactive[1].VLE_block.P_sat_dY0\n",
      "| reactive[1].VLE_block.Hen_ref\n",
      "| reactive[1].VLE_block.Hen0_ref\n",
      "| reactive[1].VLE_block.gamma_ref\n",
      "| reactive[1].VLE_block.V_L\n",
      "| reactive[1].VLE_block.V_L_dY_inf\n",
      "| reactive[1].VLE_block.V_L_dY0\n",
      "| reactive[1].VLE_block.poynting\n",
      "--------------------------------------------------\n",
      "\n",
      "> Importing Reactive Stage......\n",
      "> Adding the following local variable:\n",
      "------------------------------------\n",
      "| reactive[2].T_F\n",
      "| reactive[2].P\n",
      "| reactive[2].cat\n",
      "| reactive[2].Q_main\n",
      "| reactive[2].x_\n",
      "| reactive[2].y_\n",
      "| reactive[2].x\n",
      "| reactive[2].y\n",
      "| reactive[2].z\n",
      "| reactive[2].L\n",
      "| reactive[2].V\n",
      "| reactive[2].F\n",
      "| reactive[2].H_L_\n",
      "| reactive[2].H_V_\n",
      "| reactive[2].H_L\n",
      "| reactive[2].H_V\n",
      "| reactive[2].T\n",
      "| reactive[2].H_F\n",
      "| reactive[2].f_V\n",
      "| reactive[2].f_L\n",
      "| reactive[2].r_total_comp\n",
      "------------------------------------\n",
      "\n",
      "> Importing Kinetics Blocks......\n",
      "> Adding the following local variable:\n",
      "--------------------------------------------------\n",
      "| reactive[2].kinetics_block.k_FT\n",
      "| reactive[2].kinetics_block.r_FT_total\n",
      "| reactive[2].kinetics_block.g0_FT\n",
      "| reactive[2].kinetics_block.alpha\n",
      "| reactive[2].kinetics_block.r_FT_cnum\n",
      "| reactive[2].kinetics_block.r_FT_comp\n",
      "| reactive[2].kinetics_block.k_WGS\n",
      "| reactive[2].kinetics_block.Ke_WGS\n",
      "| reactive[2].kinetics_block.r_WGS\n",
      "| reactive[2].kinetics_block.r_WGS_comp\n",
      "--------------------------------------------------\n",
      "\n",
      "> Importing Energy Blocks......\n",
      "> Adding the following local variable:\n",
      "--------------------------------------------------\n",
      "| reactive[2].energy_block.dH_F\n",
      "| reactive[2].energy_block.dH_V\n",
      "| reactive[2].energy_block.dH_L\n",
      "| reactive[2].energy_block.dH_vap\n",
      "--------------------------------------------------\n",
      "\n",
      "> Importing VLE Blocks......\n",
      "> Adding the following local variable:\n",
      "--------------------------------------------------\n",
      "| reactive[2].VLE_block.n_ave\n",
      "| reactive[2].VLE_block.n_ave_cal\n",
      "| reactive[2].VLE_block.Hen\n",
      "| reactive[2].VLE_block.Hen0\n",
      "| reactive[2].VLE_block.gamma\n",
      "| reactive[2].VLE_block.P_sat\n",
      "| reactive[2].VLE_block.P_sat_Y\n",
      "| reactive[2].VLE_block.P_sat_dY_inf\n",
      "| reactive[2].VLE_block.P_sat_dY0\n",
      "| reactive[2].VLE_block.Hen_ref\n",
      "| reactive[2].VLE_block.Hen0_ref\n",
      "| reactive[2].VLE_block.gamma_ref\n",
      "| reactive[2].VLE_block.V_L\n",
      "| reactive[2].VLE_block.V_L_dY_inf\n",
      "| reactive[2].VLE_block.V_L_dY0\n",
      "| reactive[2].VLE_block.poynting\n",
      "--------------------------------------------------\n",
      "\n",
      "> Importing Reactive Stage......\n",
      "> Adding the following local variable:\n",
      "------------------------------------\n",
      "| reactive[3].T_F\n",
      "| reactive[3].P\n",
      "| reactive[3].cat\n",
      "| reactive[3].Q_main\n",
      "| reactive[3].x_\n",
      "| reactive[3].y_\n",
      "| reactive[3].x\n",
      "| reactive[3].y\n",
      "| reactive[3].z\n",
      "| reactive[3].L\n",
      "| reactive[3].V\n",
      "| reactive[3].F\n",
      "| reactive[3].H_L_\n",
      "| reactive[3].H_V_\n",
      "| reactive[3].H_L\n",
      "| reactive[3].H_V\n",
      "| reactive[3].T\n",
      "| reactive[3].H_F\n",
      "| reactive[3].f_V\n",
      "| reactive[3].f_L\n",
      "| reactive[3].r_total_comp\n",
      "------------------------------------\n",
      "\n",
      "> Importing Kinetics Blocks......\n",
      "> Adding the following local variable:\n",
      "--------------------------------------------------\n",
      "| reactive[3].kinetics_block.k_FT\n",
      "| reactive[3].kinetics_block.r_FT_total\n",
      "| reactive[3].kinetics_block.g0_FT\n",
      "| reactive[3].kinetics_block.alpha\n",
      "| reactive[3].kinetics_block.r_FT_cnum\n",
      "| reactive[3].kinetics_block.r_FT_comp\n",
      "| reactive[3].kinetics_block.k_WGS\n",
      "| reactive[3].kinetics_block.Ke_WGS\n",
      "| reactive[3].kinetics_block.r_WGS\n",
      "| reactive[3].kinetics_block.r_WGS_comp\n",
      "--------------------------------------------------\n",
      "\n",
      "> Importing Energy Blocks......\n",
      "> Adding the following local variable:\n",
      "--------------------------------------------------\n",
      "| reactive[3].energy_block.dH_F\n",
      "| reactive[3].energy_block.dH_V\n",
      "| reactive[3].energy_block.dH_L\n",
      "| reactive[3].energy_block.dH_vap\n",
      "--------------------------------------------------\n",
      "\n",
      "> Importing VLE Blocks......\n",
      "> Adding the following local variable:\n",
      "--------------------------------------------------\n",
      "| reactive[3].VLE_block.n_ave\n",
      "| reactive[3].VLE_block.n_ave_cal\n",
      "| reactive[3].VLE_block.Hen\n",
      "| reactive[3].VLE_block.Hen0\n",
      "| reactive[3].VLE_block.gamma\n",
      "| reactive[3].VLE_block.P_sat\n",
      "| reactive[3].VLE_block.P_sat_Y\n",
      "| reactive[3].VLE_block.P_sat_dY_inf\n",
      "| reactive[3].VLE_block.P_sat_dY0\n",
      "| reactive[3].VLE_block.Hen_ref\n",
      "| reactive[3].VLE_block.Hen0_ref\n",
      "| reactive[3].VLE_block.gamma_ref\n",
      "| reactive[3].VLE_block.V_L\n",
      "| reactive[3].VLE_block.V_L_dY_inf\n",
      "| reactive[3].VLE_block.V_L_dY0\n",
      "| reactive[3].VLE_block.poynting\n",
      "--------------------------------------------------\n",
      "\n"
     ]
    }
   ],
   "source": [
    "model.reactive = pe.Block(model.TRAY,rule=reactive_stage_rule)"
   ]
  },
  {
   "cell_type": "markdown",
   "metadata": {
    "collapsed": true
   },
   "source": [
    "# Construct a single condenser"
   ]
  },
  {
   "cell_type": "code",
   "execution_count": 5,
   "metadata": {},
   "outputs": [
    {
     "name": "stdout",
     "output_type": "stream",
     "text": [
      "| Importing Condenser Stage......\n",
      "| Adding the following local variable:\n",
      "------------------------------------\n",
      "| condenser.T\n",
      "| condenser.T_F\n",
      "| condenser.P\n",
      "| condenser.Q_main\n",
      "| condenser.x_\n",
      "| condenser.y_\n",
      "| condenser.x\n",
      "| condenser.y\n",
      "| condenser.z\n",
      "| condenser.L\n",
      "| condenser.W\n",
      "| condenser.V\n",
      "| condenser.F\n",
      "| condenser.H_L_\n",
      "| condenser.H_V_\n",
      "| condenser.H_L\n",
      "| condenser.H_V\n",
      "| condenser.H_F\n",
      "| condenser.f_V\n",
      "| condenser.f_L\n",
      "------------------------------------\n",
      "\n",
      "> Importing Energy Blocks......\n",
      "> Adding the following local variable:\n",
      "--------------------------------------------------\n",
      "| condenser.energy_block.dH_F\n",
      "| condenser.energy_block.dH_V\n",
      "| condenser.energy_block.dH_L\n",
      "| condenser.energy_block.dH_vap\n",
      "--------------------------------------------------\n",
      "\n",
      "> Importing VLE Blocks......\n",
      "> Adding the following local variable:\n",
      "--------------------------------------------------\n",
      "| condenser.VLE_block.n_ave\n",
      "| condenser.VLE_block.n_ave_cal\n",
      "| condenser.VLE_block.Hen\n",
      "| condenser.VLE_block.Hen0\n",
      "| condenser.VLE_block.gamma\n",
      "| condenser.VLE_block.P_sat\n",
      "| condenser.VLE_block.P_sat_Y\n",
      "| condenser.VLE_block.P_sat_dY_inf\n",
      "| condenser.VLE_block.P_sat_dY0\n",
      "| condenser.VLE_block.Hen_ref\n",
      "| condenser.VLE_block.Hen0_ref\n",
      "| condenser.VLE_block.gamma_ref\n",
      "| condenser.VLE_block.V_L\n",
      "| condenser.VLE_block.V_L_dY_inf\n",
      "| condenser.VLE_block.V_L_dY0\n",
      "| condenser.VLE_block.poynting\n",
      "--------------------------------------------------\n",
      "\n"
     ]
    }
   ],
   "source": [
    "model.condenser = pe.Block(rule=condenser_stage_rule)"
   ]
  },
  {
   "cell_type": "markdown",
   "metadata": {},
   "source": [
    "# Linking Stage Variables"
   ]
  },
  {
   "cell_type": "markdown",
   "metadata": {},
   "source": [
    "### Vapor Between Reactive Stages"
   ]
  },
  {
   "cell_type": "code",
   "execution_count": 6,
   "metadata": {},
   "outputs": [],
   "source": [
    "def V_between_rule(model,j):\n",
    "    if j == model.TRAY.last(): return pe.Constraint.Skip\n",
    "    return model.reactive[j].V['in'] == model.reactive[j+1].V['out']\n",
    "model.V_between_con = pe.Constraint(model.TRAY,rule=V_between_rule)\n",
    "\n",
    "def Vy_between_rule(model,j,i):\n",
    "    if j == model.TRAY.last(): return pe.Constraint.Skip\n",
    "    return model.reactive[j].y_['in',i] == model.reactive[j+1].y[i]\n",
    "model.Vy_between_con = pe.Constraint(model.TRAY,m.COMP_TOTAL,rule=Vy_between_rule)\n",
    "\n",
    "def Vh_between_rule(model,j):\n",
    "    if j == model.TRAY.last(): return pe.Constraint.Skip\n",
    "    return model.reactive[j].H_V_['in'] == model.reactive[j+1].H_V\n",
    "model.Vh_between_con = pe.Constraint(model.TRAY,rule=Vh_between_rule)"
   ]
  },
  {
   "cell_type": "markdown",
   "metadata": {},
   "source": [
    "### Liquid Between Reactive Stages"
   ]
  },
  {
   "cell_type": "code",
   "execution_count": 7,
   "metadata": {},
   "outputs": [],
   "source": [
    "def L_between_rule(model,j):\n",
    "    if j == model.TRAY.last(): return pe.Constraint.Skip\n",
    "    return model.reactive[j+1].L['in'] == model.reactive[j].L['out']\n",
    "model.L_between_con = pe.Constraint(model.TRAY,rule=L_between_rule)\n",
    "\n",
    "def Lx_between_rule(model,j,i):\n",
    "    if j == model.TRAY.last(): return pe.Constraint.Skip\n",
    "    return model.reactive[j+1].x_['in',i] == model.reactive[j].x[i]\n",
    "model.Ly_between_con = pe.Constraint(model.TRAY,m.COMP_TOTAL,rule=Lx_between_rule)\n",
    "\n",
    "def Lh_between_rule(model,j):\n",
    "    if j == model.TRAY.last(): return pe.Constraint.Skip\n",
    "    return model.reactive[j+1].H_L_['in'] == model.reactive[j].H_L\n",
    "model.Lh_between_con = pe.Constraint(model.TRAY,rule=Lh_between_rule)"
   ]
  },
  {
   "cell_type": "markdown",
   "metadata": {},
   "source": [
    "### Condenser"
   ]
  },
  {
   "cell_type": "code",
   "execution_count": 8,
   "metadata": {},
   "outputs": [],
   "source": [
    "def V_condenser_rule(model):\n",
    "    return model.reactive[model.TRAY.first()].V['out'] == model.condenser.V['in']\n",
    "model.V_condenser_con = pe.Constraint(rule=V_condenser_rule)\n",
    "\n",
    "def Vy_condenser_rule(model,i):\n",
    "    return model.reactive[model.TRAY.first()].y[i] == model.condenser.y_['in',i]\n",
    "model.Vy_condenser_con = pe.Constraint(m.COMP_TOTAL,rule=Vy_condenser_rule)\n",
    "\n",
    "def Vh_condenser_rule(model):\n",
    "    return model.reactive[model.TRAY.first()].H_V == model.condenser.H_V_['in']\n",
    "model.Vh_condenser_con = pe.Constraint(rule=Vh_condenser_rule)"
   ]
  },
  {
   "cell_type": "code",
   "execution_count": 9,
   "metadata": {},
   "outputs": [],
   "source": [
    "def L_condenser_rule(model):\n",
    "    return model.reactive[model.TRAY.first()].L['in'] == model.condenser.L['out']\n",
    "model.L_condenser_con = pe.Constraint(rule=L_condenser_rule)\n",
    "\n",
    "def Lx_condenser_rule(model,i):\n",
    "    return model.reactive[model.TRAY.first()].x_['in',i] == model.condenser.x[i]\n",
    "model.Lx_condenser_con = pe.Constraint(m.COMP_TOTAL,rule=Lx_condenser_rule)\n",
    "\n",
    "def Lh_condenser_rule(model):\n",
    "    return model.reactive[model.TRAY.first()].H_L_['in'] == model.condenser.H_L\n",
    "model.Lh_condenser_con = pe.Constraint(rule=Lh_condenser_rule)"
   ]
  },
  {
   "cell_type": "code",
   "execution_count": 10,
   "metadata": {},
   "outputs": [],
   "source": [
    "model.obj = pe.Objective(expr = sum(model.reactive[j].T for j in model.TRAY) ,sense=pe.maximize)"
   ]
  },
  {
   "cell_type": "markdown",
   "metadata": {},
   "source": [
    "# Load from single stage solutions"
   ]
  },
  {
   "cell_type": "code",
   "execution_count": 11,
   "metadata": {},
   "outputs": [],
   "source": [
    "with open('../saved_solutions/1_stage_condenser_adiabatic.pickle', 'rb') as f:\n",
    "    results_imported = pickle.load(f)\n",
    "results_changed = results_imported"
   ]
  },
  {
   "cell_type": "markdown",
   "metadata": {},
   "source": [
    "### Duplicate variable solution and bounds multiplier"
   ]
  },
  {
   "cell_type": "code",
   "execution_count": 12,
   "metadata": {},
   "outputs": [],
   "source": [
    "for i in list(results_imported.Solution.Variable.keys()):\n",
    "    if i.startswith('reactive[1].'):\n",
    "        for j in model.TRAY:\n",
    "            if j != 1:\n",
    "                results_changed.Solution.Variable[i.replace('reactive[1].','reactive[{}].'.format(j))] = \\\n",
    "                results_imported.Solution.Variable[i]"
   ]
  },
  {
   "cell_type": "markdown",
   "metadata": {},
   "source": [
    "### Duplicate constraint multiplier"
   ]
  },
  {
   "cell_type": "code",
   "execution_count": 13,
   "metadata": {},
   "outputs": [],
   "source": [
    "for i in list(results_changed.Solution.Constraint.keys()):\n",
    "    if i.startswith('reactive[1].'):\n",
    "        for j in model.TRAY:\n",
    "            if j != 1:\n",
    "                results_changed.Solution.Constraint[i.replace('reactive[1].','reactive[{}].'.format(j))] = \\\n",
    "                results_imported.Solution.Constraint[i]"
   ]
  },
  {
   "cell_type": "markdown",
   "metadata": {},
   "source": [
    "### Load changed solution into current model"
   ]
  },
  {
   "cell_type": "code",
   "execution_count": 14,
   "metadata": {},
   "outputs": [],
   "source": [
    "model.solutions.load_from(results_changed)"
   ]
  },
  {
   "cell_type": "markdown",
   "metadata": {},
   "source": [
    "# Fixing Redundent Stream Variables"
   ]
  },
  {
   "cell_type": "code",
   "execution_count": 15,
   "metadata": {},
   "outputs": [],
   "source": [
    "# condenser\n",
    "model.condenser.VLE_block.n_ave.fix(4)\n",
    "\n",
    "model.condenser.F.fix(0)\n",
    "model.condenser.T_F.fix(300+273.15)\n",
    "model.condenser.z.fix(0)\n",
    "\n",
    "model.condenser.V['P'].fix(0)\n",
    "model.condenser.L['in'].fix(0)\n",
    "for i in m.COMP_TOTAL: model.condenser.x_['in',i].fix(0)\n",
    "model.condenser.H_L_['in'].fix(0)"
   ]
  },
  {
   "cell_type": "code",
   "execution_count": 16,
   "metadata": {},
   "outputs": [],
   "source": [
    "# 'reboiler' fixing last stage V_in\n",
    "\n",
    "model.reactive[model.TRAY.last()].V['in'].fix(0)\n",
    "for i in m.COMP_TOTAL: model.reactive[model.TRAY.last()].y_['in',i].fix(0)\n",
    "model.reactive[model.TRAY.last()].H_V_['in'].fix(0)"
   ]
  },
  {
   "cell_type": "markdown",
   "metadata": {},
   "source": [
    "# Load Operating Parameters"
   ]
  },
  {
   "cell_type": "code",
   "execution_count": 17,
   "metadata": {},
   "outputs": [],
   "source": [
    "# condenser\n",
    "model.condenser.P.fix(19)\n",
    "# model.condenser.T.fix(30+273.15)\n",
    "model.condenser.T.fix(30+273.15)\n",
    "model.condenser.L['out'].fix(0)\n",
    "\n",
    "# reactive stage\n",
    "for j in model.reactive:\n",
    "    model.reactive[j].cat.fix(5000)\n",
    "    model.reactive[j].P.fix(20)\n",
    "    model.reactive[j].VLE_block.n_ave.fix(20)\n",
    "    \n",
    "    model.reactive[j].F.fix(1)\n",
    "    model.reactive[j].T_F.fix(200+273.15)\n",
    "    model.reactive[j].z['CO'].fix(1/(1+2))\n",
    "    model.reactive[j].z['H2'].fix(2/(1+2))\n",
    "    model.reactive[j].z['C30H62'].fix(0)\n",
    "    model.reactive[j].V['P'].fix(0)\n",
    "    model.reactive[j].L['P'].fix(0)\n",
    "    # model.reactive[j].Q_main.fix(0)\n",
    "    # model.reactive[j].T.setub(240+273.15)\n",
    "model.reactive[1].T.setub(220+273.15)\n",
    "model.reactive[2].T.setub(230+273.15)\n",
    "model.reactive[3].T.setub(240+273.15)"
   ]
  },
  {
   "cell_type": "code",
   "execution_count": 18,
   "metadata": {
    "scrolled": true
   },
   "outputs": [
    {
     "name": "stdout",
     "output_type": "stream",
     "text": [
      "Active Equality Constraints:\t 4986\n",
      "Active Inequality Constraints:\t 0\n",
      "Active Variables:\t\t 5191\n",
      "Fixed Variables:\t\t 202\n",
      "DOF:\t\t\t\t 3\n"
     ]
    }
   ],
   "source": [
    "check_DOF(pe,model)"
   ]
  },
  {
   "cell_type": "code",
   "execution_count": 19,
   "metadata": {},
   "outputs": [],
   "source": [
    "opt = pe.SolverFactory('ipopt')\n",
    "opt.options['print_user_options'] = 'yes'\n",
    "opt.options['linear_solver'] = 'ma86'\n",
    "# opt.options['nlp_scaling_method'] = None\n",
    "# opt.options['constr_viol_tol'] = 1e-7\n",
    "# opt.options['acceptable_constr_viol_tol'] = 1e-7\n",
    "opt.options['max_iter'] = 7000\n",
    "# opt.options['dual_inf_tol'] = '+inf'\n",
    "# opt.options['acceptable_dual_inf_tol'] = '+inf'"
   ]
  },
  {
   "cell_type": "code",
   "execution_count": 20,
   "metadata": {},
   "outputs": [
    {
     "name": "stdout",
     "output_type": "stream",
     "text": [
      "Created the follow pyomo suffixes:\n",
      "ipopt_zL_out, ipopt_zU_out, ipopt_zL_in, ipopt_zU_in, dual\n"
     ]
    }
   ],
   "source": [
    "add_dual(pe,model)\n",
    "update_dual(pe,model)"
   ]
  },
  {
   "cell_type": "code",
   "execution_count": 21,
   "metadata": {
    "scrolled": true
   },
   "outputs": [
    {
     "name": "stdout",
     "output_type": "stream",
     "text": [
      "Ipopt 3.12.8: print_user_options=yes\n",
      "linear_solver=ma86\n",
      "max_iter=7000\n",
      "\n",
      "\n",
      "List of user-set options:\n",
      "\n",
      "                                    Name   Value                used\n",
      "                           linear_solver = ma86                  yes\n",
      "                                max_iter = 7000                  yes\n",
      "                      print_user_options = yes                   yes\n",
      "\n",
      "******************************************************************************\n",
      "This program contains Ipopt, a library for large-scale nonlinear optimization.\n",
      " Ipopt is released as open source code under the Eclipse Public License (EPL).\n",
      "         For more information visit http://projects.coin-or.org/Ipopt\n",
      "******************************************************************************\n",
      "\n",
      "This is Ipopt version 3.12.8, running with linear solver ma86.\n",
      "\n",
      "Number of nonzeros in equality constraint Jacobian...:    16286\n",
      "Number of nonzeros in inequality constraint Jacobian.:        0\n",
      "Number of nonzeros in Lagrangian Hessian.............:    17351\n",
      "\n",
      "Total number of variables............................:     4989\n",
      "                     variables with only lower bounds:      833\n",
      "                variables with lower and upper bounds:     3553\n",
      "                     variables with only upper bounds:        0\n",
      "Total number of equality constraints.................:     4986\n",
      "Total number of inequality constraints...............:        0\n",
      "        inequality constraints with only lower bounds:        0\n",
      "   inequality constraints with lower and upper bounds:        0\n",
      "        inequality constraints with only upper bounds:        0\n",
      "\n",
      "iter    objective    inf_pr   inf_du lg(mu)  ||d||  lg(rg) alpha_du alpha_pr  ls\n",
      "   0 -1.5085500e+03 1.36e+04 1.00e+00  -1.0 0.00e+00    -  0.00e+00 0.00e+00   0\n",
      "   1 -1.5085847e+03 1.36e+04 9.04e+05  -1.0 3.35e+04    -  5.97e-04 4.89e-04h  1\n",
      "   2 -1.5085851e+03 1.36e+04 9.11e+05  -1.0 1.01e+05    -  2.20e-04 1.86e-05h  1\n",
      "   3 -1.5085830e+03 1.36e+04 9.14e+05  -1.0 1.19e+05    -  1.46e-05 1.41e-05h  1\n",
      "   4 -1.5085425e+03 1.36e+04 2.05e+06  -1.0 1.20e+05    -  3.48e-05 2.93e-04f  1\n",
      "   5 -1.5085232e+03 1.36e+04 2.14e+06  -1.0 1.17e+05    -  2.96e-04 1.04e-04h  1\n",
      "   6r-1.5085232e+03 1.36e+04 9.99e+02   3.8 0.00e+00    -  0.00e+00 3.34e-07R  5\n",
      "   7r-1.5085232e+03 1.36e+04 8.40e+03   3.8 1.90e+05    -  3.14e-04 1.23e-08f  1\n",
      "   8r-1.5091583e+03 1.36e+04 8.30e+03  -1.1 2.31e+05    -  1.96e-02 1.87e-04f  1\n",
      "   9r-1.5092896e+03 1.63e+03 8.28e+03  -1.1 3.91e+06    -  1.57e-03 3.36e-03f  1\n",
      "iter    objective    inf_pr   inf_du lg(mu)  ||d||  lg(rg) alpha_du alpha_pr  ls\n",
      "  10r-1.5092896e+03 1.63e+03 9.99e+02   2.9 0.00e+00    -  0.00e+00 4.98e-07R  4\n",
      "  11r-1.5092896e+03 1.63e+03 9.99e+02   2.9 2.94e+05    -  1.54e-04 3.65e-11f  1\n",
      "  12r-1.5093786e+03 1.59e+03 9.99e+02   0.8 2.92e+05    -  1.41e-03 1.11e-04f  1\n",
      "  13r-1.5094482e+03 8.67e+02 9.98e+02   0.8 8.05e+05    -  5.02e-04 8.99e-04f  1\n",
      "  14 -1.5094494e+03 8.67e+02 9.13e+02  -1.0 6.48e+04    -  2.37e-05 1.49e-05h  1\n",
      "  15r-1.5094494e+03 8.67e+02 9.99e+02   2.6 0.00e+00    -  0.00e+00 1.24e-07R  2\n",
      "  16r-1.5094494e+03 8.67e+02 9.99e+02   2.6 3.36e+05    -  1.65e-05 2.72e-08f  1\n",
      "  17r-1.5094399e+03 8.22e+02 9.98e+02   1.9 3.17e+05    -  1.81e-03 1.44e-04f  1\n",
      "  18r-1.5094489e+03 3.45e+02 9.96e+02   0.5 3.33e+05    -  1.57e-03 2.44e-03f  1\n",
      "  19r-1.5094489e+03 3.45e+02 9.99e+02   2.1 0.00e+00    -  0.00e+00 3.11e-07R  5\n",
      "iter    objective    inf_pr   inf_du lg(mu)  ||d||  lg(rg) alpha_du alpha_pr  ls\n",
      "  20r-1.5094489e+03 3.45e+02 9.99e+02   2.1 8.50e+04    -  1.69e-04 1.86e-10f  1\n",
      "  21r-1.5094472e+03 3.25e+02 9.98e+02   1.4 6.82e+04    -  1.26e-03 1.15e-03f  1\n",
      "  22r-1.5094472e+03 3.25e+02 9.99e+02   1.9 0.00e+00    -  0.00e+00 2.81e-07R  6\n",
      "  23r-1.5094472e+03 3.25e+02 9.98e+02   1.9 2.90e+04    -  2.10e-03 2.33e-10f  2\n",
      "  24r-1.5094498e+03 2.97e+02 9.96e+02   0.5 2.19e+04    -  1.59e-03 2.41e-03f  1\n",
      "  25r-1.5094498e+03 2.97e+02 9.99e+02   1.7 0.00e+00    -  0.00e+00 3.11e-07R  2\n",
      "  26r-1.5094498e+03 2.97e+02 9.99e+02   1.7 1.59e+04    -  2.82e-03 2.19e-10f  3\n",
      "  27r-1.5094498e+03 2.46e+02 9.95e+02   0.3 1.06e+04    -  2.56e-03 3.96e-03f  1\n",
      "  28r-1.5094498e+03 2.46e+02 9.99e+02   1.5 0.00e+00    -  0.00e+00 4.64e-07R  2\n",
      "  29r-1.5094498e+03 2.46e+02 9.99e+02   1.5 6.21e+03    -  3.92e-03 4.99e-09f  3\n",
      "iter    objective    inf_pr   inf_du lg(mu)  ||d||  lg(rg) alpha_du alpha_pr  ls\n",
      "  30r-1.5094480e+03 2.04e+02 9.94e+02   0.8 4.06e+03    -  4.14e-03 4.57e-03f  1\n",
      "  31r-1.5094477e+03 1.96e+02 9.92e+02   0.8 3.94e+03    -  3.71e-03 2.01e-03f  1\n",
      "  32 -1.5094484e+03 1.96e+02 1.45e+01  -1.0 2.81e+03    -  2.96e-05 2.51e-05h  1\n",
      "  33r-1.5094484e+03 1.96e+02 9.99e+02   1.4 0.00e+00    -  0.00e+00 3.09e-07R  6\n",
      "  34r-1.5094484e+03 1.96e+02 9.99e+02   1.4 4.53e+03    -  3.71e-04 8.08e-07f  1\n",
      "  35r-1.5094296e+03 1.94e+02 9.98e+02   1.4 2.12e+03    -  2.42e-03 7.20e-04f  1\n",
      "  36r-1.5094463e+03 1.72e+02 9.94e+02   0.7 2.08e+03    -  6.21e-03 3.84e-03f  1\n",
      "  37 -1.5094466e+03 1.72e+02 8.86e+02  -1.0 6.25e+03    -  5.08e-05 1.83e-05h  1\n",
      "  38 -1.5094384e+03 1.72e+02 3.09e+02  -1.0 1.96e+04    -  1.39e-05 5.77e-05h  1\n",
      "  39r-1.5094384e+03 1.72e+02 9.99e+02   1.4 0.00e+00    -  0.00e+00 2.91e-07R  2\n",
      "iter    objective    inf_pr   inf_du lg(mu)  ||d||  lg(rg) alpha_du alpha_pr  ls\n",
      "  40r-1.5094384e+03 1.72e+02 9.99e+02   1.4 7.61e+03    -  4.75e-05 9.56e-07f  1\n",
      "  41r-1.5094387e+03 1.72e+02 9.99e+02   1.4 3.50e+03    -  9.31e-04 7.15e-05f  1\n",
      "  42r-1.5094234e+03 1.64e+02 9.97e+02   1.4 2.32e+03    -  1.95e-04 1.94e-03f  1\n",
      "  43r-1.5094237e+03 1.55e+02 9.95e+02   1.4 2.21e+03    -  8.06e-03 2.33e-03f  1\n",
      "  44r-1.5094383e+03 1.16e+02 9.86e+02   0.7 1.90e+03    -  1.04e-02 8.62e-03f  1\n",
      "  45 -1.5094394e+03 1.16e+02 1.06e+04  -1.0 3.23e+03    -  6.05e-04 3.50e-04h  1\n",
      "  46r-1.5094394e+03 1.16e+02 9.99e+02   1.2 0.00e+00    -  0.00e+00 3.94e-07R  5\n",
      "  47r-1.5094394e+03 1.16e+02 9.99e+02   1.2 1.65e+03    -  2.40e-04 1.46e-06f  1\n",
      "  48r-1.5094312e+03 1.15e+02 1.22e+03   1.2 1.64e+03    -  6.66e-03 4.80e-04f  1\n",
      "  49r-1.5094379e+03 9.57e+01 1.31e+03   0.5 1.32e+03    -  7.17e-03 4.81e-03f  1\n",
      "iter    objective    inf_pr   inf_du lg(mu)  ||d||  lg(rg) alpha_du alpha_pr  ls\n",
      "  50 -1.5094389e+03 9.56e+01 1.61e+04  -1.0 2.24e+03    -  6.47e-04 3.58e-04h  1\n",
      "  51r-1.5094389e+03 9.56e+01 9.99e+02   1.1 0.00e+00    -  0.00e+00 3.58e-07R  5\n",
      "  52r-1.5094389e+03 9.56e+01 9.99e+02   1.1 1.53e+03    -  3.09e-04 1.72e-06f  1\n",
      "  53r-1.5094299e+03 9.37e+01 1.25e+03   1.1 1.50e+03    -  8.23e-03 6.20e-04f  1\n",
      "  54r-1.5094372e+03 6.96e+01 1.33e+03   0.4 1.02e+03    -  1.14e-02 6.99e-03f  1\n",
      "  55 -1.5094384e+03 6.96e+01 4.56e+03  -1.0 1.94e+03    -  4.01e-04 4.97e-04f  1\n",
      "  56r-1.5094384e+03 6.96e+01 9.99e+02   1.0 0.00e+00    -  0.00e+00 3.75e-07R  5\n",
      "  57r-1.5094384e+03 6.95e+01 9.99e+02   1.0 9.50e+02    -  9.74e-04 2.40e-06f  1\n",
      "  58r-1.5094198e+03 6.38e+01 1.03e+03   1.0 6.51e+02    -  1.01e-02 1.95e-03f  1\n",
      "  59r-1.5094084e+03 3.39e+01 1.44e+03   1.0 5.72e+02    -  2.05e-02 1.19e-02f  1\n",
      "iter    objective    inf_pr   inf_du lg(mu)  ||d||  lg(rg) alpha_du alpha_pr  ls\n",
      "  60 -1.5094450e+03 3.38e+01 7.21e+02  -1.0 8.37e+03    -  6.46e-04 5.16e-04h  1\n",
      "  61 -1.5094469e+03 3.38e+01 9.56e+02  -1.0 1.09e+04    -  9.76e-04 4.21e-04h  1\n",
      "  62r-1.5094469e+03 3.38e+01 9.99e+02   0.8 0.00e+00    -  0.00e+00 3.15e-07R  5\n",
      "  63r-1.5094468e+03 3.38e+01 1.27e+03   0.8 6.87e+02    -  1.51e-02 2.26e-05f  1\n",
      "  64r-1.5094278e+03 1.32e+01 9.87e+02   0.8 6.00e+02    -  1.08e-02 1.05e-02f  1\n",
      "  65 -1.5094324e+03 1.32e+01 1.29e+04  -1.0 2.78e+03    -  7.35e-04 2.79e-03h  1\n",
      "  66 -1.5094355e+03 1.31e+01 7.71e+03  -1.0 2.00e+03    -  5.95e-03 4.60e-03h  1\n",
      "  67 -1.5094352e+03 1.31e+01 7.71e+03  -1.0 2.37e+03    -  1.41e-03 3.97e-05h  1\n",
      "  68 -1.5092803e+03 1.31e+01 1.38e+04  -1.0 6.73e+03    -  2.71e-04 3.17e-03f  1\n",
      "  69 -1.5092773e+03 1.31e+01 7.69e+04  -1.0 1.19e+04    -  1.50e-02 3.47e-05h  1\n",
      "iter    objective    inf_pr   inf_du lg(mu)  ||d||  lg(rg) alpha_du alpha_pr  ls\n",
      "  70r-1.5092773e+03 1.31e+01 9.99e+02   0.3 0.00e+00    -  0.00e+00 4.73e-07R  3\n",
      "  71r-1.5092783e+03 1.29e+01 1.04e+03   0.3 5.07e+03    -  1.16e-02 2.51e-05f  1\n",
      "  72r-1.5094053e+03 3.92e+00 1.04e+03   0.3 2.72e+03    -  1.25e-02 6.38e-03f  1\n",
      "  73r-1.5094438e+03 1.73e+00 1.60e+03   0.3 8.75e+02    -  5.14e-02 1.08e-02f  1\n",
      "  74r-1.5094203e+03 4.67e+00 1.13e+03   0.3 4.87e+02    -  7.35e-02 4.95e-02f  1\n",
      "  75r-1.5094152e+03 5.19e+00 1.26e+03   0.3 4.15e+02    -  4.98e-02 3.82e-02f  1\n",
      "  76r-1.5094112e+03 8.56e+00 1.80e+04   0.3 4.31e+02    -  1.14e-01 3.38e-02f  1\n",
      "  77r-1.5094135e+03 8.28e+00 2.53e+04  -0.4 3.88e+02    -  1.42e-01 4.63e-02f  1\n",
      "  78r-1.5094163e+03 7.59e+00 2.89e+04  -0.4 5.45e+02    -  1.48e-01 8.34e-02f  1\n",
      "  79r-1.5094165e+03 7.49e+00 6.12e+04  -0.4 3.25e+02    -  2.92e-01 1.31e-02f  1\n",
      "iter    objective    inf_pr   inf_du lg(mu)  ||d||  lg(rg) alpha_du alpha_pr  ls\n",
      "  80r-1.5094172e+03 6.74e+00 6.23e+04  -0.4 1.66e+02    -  2.31e-01 9.99e-02f  1\n",
      "  81r-1.5094172e+03 5.89e+00 6.47e+04  -0.4 1.49e+02    -  3.56e-01 1.25e-01f  1\n",
      "  82r-1.5094170e+03 4.91e+00 5.52e+04  -0.4 1.71e+02    -  2.78e-01 1.68e-01f  1\n",
      "  83 -1.5094211e+03 4.88e+00 2.32e+03  -1.0 1.33e+04    -  4.21e-04 4.36e-03f  1\n",
      "  84 -1.5094471e+03 1.36e+01 1.43e+04  -1.0 2.57e+03    -  1.19e-04 2.06e-02f  1\n"
     ]
    },
    {
     "name": "stdout",
     "output_type": "stream",
     "text": [
      "  85 -1.5094385e+03 2.37e+01 2.09e+04  -1.0 6.92e+02    -  3.30e-02 4.56e-02f  1\n",
      "  86 -1.5094396e+03 2.66e+01 1.36e+04  -1.0 5.76e+02    -  1.03e-01 5.71e-02h  2\n",
      "  87 -1.5094373e+03 2.79e+01 3.22e+04  -1.0 4.57e+02    -  2.85e-02 8.87e-02h  1\n",
      "  88 -1.5094373e+03 2.79e+01 8.70e+05  -1.0 3.22e+02    -  1.41e-01 1.77e-03h  1\n",
      "  89 -1.5094374e+03 2.79e+01 1.40e+10  -1.0 7.47e+02    -  3.29e-01 2.08e-05h  1\n",
      "iter    objective    inf_pr   inf_du lg(mu)  ||d||  lg(rg) alpha_du alpha_pr  ls\n",
      "  90 -1.5094406e+03 2.79e+01 2.32e+13  -1.0 5.32e+03    -  1.36e-01 8.12e-05h  1\n",
      "  91r-1.5094406e+03 2.79e+01 1.00e+03   0.1 0.00e+00    -  0.00e+00 4.89e-07R  2\n",
      "  92r-1.5094405e+03 2.14e+01 1.95e+03   0.1 2.39e+03    -  5.10e-03 2.68e-04f  1\n",
      "  93 -1.5094380e+03 2.11e+01 1.11e+08  -1.0 3.19e+02    -  2.66e-01 2.16e-02h  1\n",
      "  94 -1.5094380e+03 2.10e+01 2.02e+07  -1.0 2.96e+02    -  3.01e-02 2.54e-04h  1\n",
      "  95 -1.5094385e+03 2.10e+01 8.20e+10  -1.0 4.37e+03    -  1.27e-01 1.64e-05h  1\n",
      "  96 -1.5094401e+03 2.10e+01 8.11e+13  -1.0 5.16e+03    -  4.28e-02 4.29e-05h  1\n",
      "  97r-1.5094401e+03 2.10e+01 1.00e+03  -0.0 0.00e+00    -  0.00e+00 2.25e-07R  2\n",
      "  98r-1.5094401e+03 2.06e+01 1.85e+03  -0.0 1.80e+03    -  5.86e-03 2.44e-05f  1\n",
      "  99r-1.5094383e+03 1.64e+00 2.88e+04  -0.0 2.81e+02    -  1.73e-01 6.28e-03f  1\n",
      "iter    objective    inf_pr   inf_du lg(mu)  ||d||  lg(rg) alpha_du alpha_pr  ls\n",
      " 100 -1.5094345e+03 1.77e+00 3.01e+05  -1.0 2.85e+02    -  2.74e-01 4.28e-02h  2\n",
      " 101 -1.5094337e+03 2.18e+00 4.23e+05  -1.0 2.45e+02    -  3.81e-01 5.64e-02h  1\n",
      " 102 -1.5094337e+03 2.18e+00 1.80e+07  -1.0 2.00e+02    -  6.08e-01 8.02e-04h  1\n",
      " 103 -1.5094358e+03 2.18e+00 5.88e+10  -1.0 3.73e+03    -  2.56e-01 7.79e-05h  1\n",
      " 104 -1.5094380e+03 2.18e+00 1.25e+14  -1.0 4.15e+03    -  1.54e-01 7.19e-05h  1\n",
      " 105r-1.5094380e+03 2.18e+00 1.00e+03  -0.6 0.00e+00    -  0.00e+00 4.73e-07R  2\n",
      " 106r-1.5094380e+03 1.71e+00 5.47e+03  -0.6 2.88e+02    -  1.03e-01 6.86e-04f  1\n",
      " 107r-1.5094360e+03 1.16e+00 9.23e+03  -0.6 2.81e+02    -  1.38e-01 3.40e-02f  1\n",
      " 108 -1.5094315e+03 1.26e+00 4.08e+06  -1.0 1.32e+02    -  2.16e-01 3.98e-02h  2\n",
      " 109 -1.5094304e+03 1.38e+00 5.12e+06  -1.0 1.15e+02    -  3.13e-01 5.01e-02h  1\n",
      "iter    objective    inf_pr   inf_du lg(mu)  ||d||  lg(rg) alpha_du alpha_pr  ls\n",
      " 110 -1.5094304e+03 1.38e+00 1.44e+07  -1.0 9.63e+01    -  5.09e-01 6.65e-04h  1\n",
      " 111 -1.5094335e+03 1.38e+00 3.53e+10  -1.0 3.11e+03    -  3.42e-01 1.39e-04h  1\n",
      " 112 -1.5094347e+03 1.38e+00 3.47e+14  -1.0 3.26e+03    -  4.65e-01 4.68e-05h  1\n",
      " 113r-1.5094347e+03 1.38e+00 1.00e+03  -0.7 0.00e+00    -  0.00e+00 2.41e-07R  2\n",
      " 114r-1.5094347e+03 1.33e+00 3.85e+03  -0.7 3.17e+02    -  8.76e-02 1.21e-04f  1\n",
      " 115 -1.5094346e+03 1.33e+00 1.82e+08  -1.0 9.60e+01    -  2.99e-01 2.99e-04h  1\n",
      " 116r-1.5094346e+03 1.33e+00 9.99e+02  -0.7 0.00e+00    -  0.00e+00 4.57e-07R  4\n",
      " 117r-1.5094346e+03 1.30e+00 3.44e+03  -0.7 2.03e+02    -  9.18e-02 1.05e-04f  1\n",
      " 118 -1.5094346e+03 1.30e+00 1.46e+08  -1.0 9.58e+01    -  2.99e-01 2.31e-04h  1\n",
      " 119r-1.5094346e+03 1.30e+00 9.99e+02  -0.8 0.00e+00    -  0.00e+00 4.41e-07R  4\n",
      "iter    objective    inf_pr   inf_du lg(mu)  ||d||  lg(rg) alpha_du alpha_pr  ls\n",
      " 120r-1.5094346e+03 1.25e+00 2.94e+03  -0.8 2.13e+02    -  8.42e-02 1.17e-04f  1\n",
      " 121 -1.5094345e+03 1.25e+00 1.46e+08  -1.0 9.56e+01    -  2.98e-01 2.31e-04h  1\n",
      " 122r-1.5094345e+03 1.25e+00 9.99e+02  -0.8 0.00e+00    -  0.00e+00 4.97e-07R  4\n",
      " 123r-1.5094345e+03 1.20e+00 2.49e+03  -0.8 2.26e+02    -  7.62e-02 1.32e-04f  1\n",
      " 124 -1.5094345e+03 1.20e+00 1.46e+08  -1.0 9.55e+01    -  2.97e-01 2.32e-04h  1\n",
      " 125r-1.5094345e+03 1.20e+00 9.99e+02  -0.9 0.00e+00    -  0.00e+00 2.76e-07R  5\n",
      " 126r-1.5094345e+03 1.13e+00 2.10e+03  -0.9 2.41e+02    -  6.79e-02 1.52e-04f  1\n",
      " 127 -1.5094345e+03 1.13e+00 1.46e+08  -1.0 9.53e+01    -  2.97e-01 2.32e-04h  1\n",
      " 128r-1.5094345e+03 1.13e+00 9.99e+02  -0.9 0.00e+00    -  0.00e+00 3.04e-07R  5\n",
      " 129r-1.5094345e+03 1.05e+00 1.76e+03  -0.9 2.59e+02    -  5.93e-02 1.80e-04f  1\n",
      "iter    objective    inf_pr   inf_du lg(mu)  ||d||  lg(rg) alpha_du alpha_pr  ls\n",
      " 130 -1.5094344e+03 1.05e+00 1.45e+08  -1.0 9.50e+01    -  2.96e-01 2.33e-04h  1\n",
      " 131r-1.5094344e+03 1.05e+00 9.99e+02  -1.0 0.00e+00    -  0.00e+00 3.32e-07R  5\n",
      " 132r-1.5094344e+03 9.64e-01 1.58e+03  -1.0 2.73e+02    -  5.40e-02 2.04e-04f  1\n",
      " 133r-1.5094335e+03 6.28e-01 1.93e+03  -1.0 2.40e+02    -  6.26e-02 2.47e-02f  1\n",
      " 134r-1.5094318e+03 1.36e+00 2.26e+03  -1.0 2.06e+02    -  7.65e-02 4.32e-02f  1\n",
      " 135r-1.5094309e+03 1.41e+00 4.95e+03  -1.0 1.71e+02    -  1.27e-01 2.09e-02f  1\n",
      " 136r-1.5094278e+03 1.59e+00 1.07e+04  -1.0 9.38e+01    -  2.38e-01 7.02e-02f  1\n",
      " 137r-1.5094210e+03 1.47e+00 3.25e+04  -1.0 4.44e+01    -  4.51e-01 1.40e-01f  1\n",
      " 138r-1.5094151e+03 1.51e+00 1.17e+05  -1.0 2.32e+01    -  7.85e-01 1.02e-01f  1\n",
      " 139r-1.5093837e+03 2.04e+00 6.12e+04  -1.0 2.34e+01    -  9.06e-01 3.93e-01f  1\n",
      "iter    objective    inf_pr   inf_du lg(mu)  ||d||  lg(rg) alpha_du alpha_pr  ls\n",
      " 140r-1.5093527e+03 1.91e+00 3.11e+04  -1.0 1.58e+01    -  9.90e-01 4.51e-01f  1\n",
      " 141r-1.5093322e+03 1.46e+00 2.59e+04  -1.0 1.22e+01    -  9.95e-01 3.62e-01f  1\n",
      " 142r-1.5093047e+03 1.03e+00 1.50e+04  -1.0 7.36e+00    -  7.61e-01 4.28e-01f  1\n",
      " 143r-1.5092553e+03 2.29e+00 1.00e+03  -1.0 2.67e+00    -  8.44e-01 1.00e+00f  1\n",
      " 144r-1.5092553e+03 2.02e-01 5.71e+01  -1.0 5.81e-03   2.0 1.00e+00 1.00e+00h  1\n",
      " 145 -1.5092545e+03 2.00e-01 1.74e+04  -1.0 1.05e+03    -  1.17e-01 5.69e-03h  5\n",
      " 146 -1.5092532e+03 1.98e-01 7.26e+04  -1.0 9.60e+02    -  1.90e-01 5.85e-03h  5\n",
      " 147 -1.5092512e+03 1.96e-01 2.46e+05  -1.0 8.75e+02    -  2.05e-01 6.02e-03h  5\n",
      " 148 -1.5092469e+03 1.94e-01 4.11e+05  -1.0 7.97e+02    -  1.47e-01 6.19e-03h  5\n",
      " 149 -1.5092355e+03 1.92e-01 5.29e+05  -1.0 7.21e+02    -  1.00e-01 6.37e-03h  5\n",
      "iter    objective    inf_pr   inf_du lg(mu)  ||d||  lg(rg) alpha_du alpha_pr  ls\n",
      " 150 -1.5092128e+03 1.91e-01 5.72e+05  -1.0 6.25e+02    -  3.70e-02 3.27e-03h  6\n",
      " 151 -1.5091817e+03 1.90e-01 6.38e+05  -1.0 7.29e+02    -  5.47e-02 3.31e-03h  6\n",
      " 152 -1.5091621e+03 1.90e-01 6.64e+05  -1.0 8.21e+02    -  2.16e-02 1.69e-03h  7\n",
      " 153 -1.5091376e+03 1.89e-01 7.64e+05  -1.0 1.06e+03    -  7.75e-02 1.70e-03h  7\n",
      " 154 -1.5091215e+03 1.89e-01 7.83e+05  -1.0 1.32e+03    -  1.52e-02 8.59e-04h  8\n",
      " 155 -1.5067102e+03 1.02e+00 6.58e+05  -1.0 1.55e+03    -  8.11e-02 1.10e-01w  1\n",
      " 156 -1.5064028e+03 1.10e+00 8.79e+05  -1.0 8.41e+02    -  2.25e-01 4.91e-02w  1\n",
      " 157 -1.5054367e+03 1.78e+00 1.54e+06  -1.0 1.03e+03    -  7.11e-01 1.43e-01w  1\n",
      " 158 -1.5091027e+03 1.89e-01 8.90e+05  -1.0 5.32e+02  -4.0 8.11e-02 8.61e-04h  7\n",
      " 159 -1.5090907e+03 1.89e-01 9.04e+05  -1.0 1.98e+03    -  1.14e-02 4.33e-04h  9\n",
      "iter    objective    inf_pr   inf_du lg(mu)  ||d||  lg(rg) alpha_du alpha_pr  ls\n",
      " 160 -1.5090774e+03 1.89e-01 9.94e+05  -1.0 2.14e+03    -  6.90e-02 4.34e-04h  9\n",
      " 161 -1.5090696e+03 1.89e-01 1.01e+06  -1.0 2.69e+03    -  9.23e-03 2.18e-04h 10\n",
      " 162 -1.5090613e+03 1.89e-01 1.07e+06  -1.0 2.69e+03    -  5.10e-02 2.15e-04h 10\n",
      " 163 -1.5090533e+03 1.89e-01 1.08e+06  -1.0 3.33e+03    -  8.22e-03 1.88e-04h 10\n",
      " 164 -1.5090466e+03 1.88e-01 1.13e+06  -1.0 3.30e+03    -  3.51e-02 1.51e-04h 10\n",
      " 165 -1.5090415e+03 1.88e-01 1.14e+06  -1.0 3.84e+03    -  8.06e-03 1.06e-04h 10\n",
      " 166 -1.5090364e+03 1.88e-01 1.17e+06  -1.0 3.83e+03    -  2.38e-02 1.01e-04h 10\n",
      " 167 -1.5090312e+03 1.88e-01 1.18e+06  -1.0 4.26e+03    -  8.52e-03 9.91e-05h 10\n",
      " 168 -1.5062267e+03 9.26e-01 1.08e+06  -1.0 4.28e+03    -  1.62e-02 5.15e-02w  1\n",
      " 169 -1.5053453e+03 9.45e-01 2.01e+06  -1.0 2.71e+03    -  1.32e-01 2.70e-02w  1\n",
      "iter    objective    inf_pr   inf_du lg(mu)  ||d||  lg(rg) alpha_du alpha_pr  ls\n",
      " 170 -1.4954499e+03 1.70e+01 8.37e+05  -1.0 2.90e+03    -  2.12e-01 3.18e-01w  1\n",
      " 171 -1.5090257e+03 1.88e-01 1.20e+06  -1.0 1.47e+03    -  1.62e-02 1.01e-04h  9\n",
      " 172 -1.5090197e+03 1.88e-01 1.21e+06  -1.0 4.62e+03    -  9.92e-03 1.06e-04h 10\n",
      " 173 -1.5090133e+03 1.88e-01 1.22e+06  -1.0 4.68e+03    -  1.14e-02 1.10e-04h 10\n",
      " 174 -1.5090063e+03 1.88e-01 1.24e+06  -1.0 4.96e+03    -  1.33e-02 1.16e-04h 10\n",
      " 175 -1.5089992e+03 1.88e-01 1.25e+06  -1.0 5.08e+03    -  8.26e-03 1.16e-04h 10\n",
      " 176 -1.5089954e+03 1.88e-01 1.28e+06  -1.0 5.35e+03    -  2.52e-02 5.91e-05h 11\n",
      " 177 -1.5089916e+03 1.88e-01 1.29e+06  -1.0 5.63e+03    -  5.90e-03 5.66e-05h 11\n"
     ]
    },
    {
     "name": "stdout",
     "output_type": "stream",
     "text": [
      " 178 -1.5089877e+03 1.88e-01 1.64e+06  -1.0 5.95e+03    -  8.57e-02 5.86e-05h 11\n",
      " 179 -1.5089832e+03 1.88e-01 1.74e+06  -1.0 7.05e+03    -  4.10e-03 5.95e-05h 11\n",
      "iter    objective    inf_pr   inf_du lg(mu)  ||d||  lg(rg) alpha_du alpha_pr  ls\n",
      " 180 -1.5089806e+03 1.88e-01 2.64e+06  -1.0 7.82e+03    -  3.72e-02 3.26e-05h 12\n",
      " 181 -1.5029864e+03 7.20e+00 3.17e+06  -1.0 8.49e+03    -  3.75e-03 7.26e-02w  1\n",
      " 182 -1.5022105e+03 6.94e+00 3.93e+07  -1.0 1.44e+03    -  5.34e-01 4.20e-02w  1\n",
      " 183 -1.4970328e+03 1.03e+01 2.61e+07  -1.0 2.75e+03    -  2.93e-01 1.73e-01w  1\n",
      " 184 -1.5089777e+03 1.88e-01 2.77e+06  -1.0 1.30e+03    -  3.75e-03 3.54e-05h 11\n",
      " 185 -1.5089745e+03 1.88e-01 7.36e+06  -1.0 8.86e+03    -  1.38e-01 3.74e-05h 12\n",
      " 186 -1.5087183e+03 1.85e-01 7.34e+06  -1.0 1.08e+04    -  2.74e-03 2.74e-03s 19\n",
      " 187r-1.5087183e+03 1.85e-01 1.00e+03  -1.0 0.00e+00    -  0.00e+00 0.00e+00R  1\n",
      " 188r-1.5087204e+03 1.03e-01 9.54e+04  -1.0 1.00e+02    -  8.39e-01 6.06e-03f  1\n",
      " 189r-1.5089680e+03 1.94e-01 5.02e+04  -1.0 4.36e+01    -  5.18e-01 4.74e-01f  1\n",
      "iter    objective    inf_pr   inf_du lg(mu)  ||d||  lg(rg) alpha_du alpha_pr  ls\n",
      " 190r-1.5090282e+03 1.60e+00 1.48e+03  -1.0 1.30e+01    -  9.90e-01 9.66e-01f  1\n",
      " 191r-1.5090282e+03 7.66e-02 3.67e+01  -1.0 3.22e-03   2.0 1.00e+00 1.00e+00f  1\n",
      " 192 -1.5090295e+03 7.25e-02 6.06e+04  -1.0 1.22e+02    -  6.18e-01 1.94e-02h  6\n",
      " 193 -1.5090322e+03 6.84e-02 2.69e+05  -1.0 1.20e+02    -  1.53e-01 2.01e-02h  6\n",
      " 194 -1.5090358e+03 7.60e-02 1.49e+06  -1.0 1.19e+02    -  6.60e-01 2.10e-02h  6\n",
      " 195 -1.5090390e+03 9.74e-02 1.72e+06  -1.0 1.17e+02    -  2.09e-01 2.19e-02h  6\n",
      " 196 -1.5090429e+03 1.18e-01 2.83e+06  -1.0 1.15e+02    -  9.89e-01 2.29e-02h  6\n",
      " 197 -1.5090457e+03 1.36e-01 2.85e+06  -1.0 1.13e+02    -  2.44e-01 2.40e-02h  6\n",
      " 198 -1.5090491e+03 1.54e-01 3.12e+06  -1.0 1.11e+02    -  9.93e-01 2.52e-02h  6\n",
      " 199 -1.5090515e+03 1.70e-01 3.07e+06  -1.0 1.09e+02    -  3.07e-01 2.62e-02h  6\n",
      "iter    objective    inf_pr   inf_du lg(mu)  ||d||  lg(rg) alpha_du alpha_pr  ls\n",
      " 200 -1.5090545e+03 1.83e-01 3.07e+06  -1.0 1.07e+02    -  1.00e+00 2.63e-02h  6\n",
      " 201 -1.5090566e+03 1.94e-01 3.00e+06  -1.0 1.05e+02    -  3.76e-01 2.65e-02h  6\n",
      " 202 -1.5091362e+03 7.45e+00 4.49e+05  -1.0 1.03e+02    -  1.00e+00 8.51e-01w  1\n",
      " 203 -1.5092879e+03 1.31e+00 4.64e+04  -1.0 3.02e+01    -  4.03e-01 9.87e-01w  1\n",
      " 204 -1.5092270e+03 4.13e-02 1.07e+04  -1.0 4.72e+00    -  1.00e+00 9.95e-01h  1\n",
      " 205 -1.5092364e+03 1.06e-04 2.09e+03  -1.0 2.45e+00    -  1.00e+00 1.00e+00h  1\n",
      " 206 -1.5093677e+03 2.13e-03 2.03e+04  -1.7 1.02e+01    -  1.00e+00 1.00e+00f  1\n",
      " 207 -1.5093951e+03 9.77e-05 1.40e+00  -1.7 1.98e+00    -  1.00e+00 1.00e+00h  1\n",
      " 208 -1.5094456e+03 1.47e-04 6.57e+03  -5.7 2.67e+00    -  9.98e-01 1.00e+00f  1\n",
      " 209 -1.5094500e+03 2.37e-06 1.02e-01  -5.7 3.67e-01    -  1.00e+00 1.00e+00h  1\n",
      "iter    objective    inf_pr   inf_du lg(mu)  ||d||  lg(rg) alpha_du alpha_pr  ls\n",
      " 210 -1.5094500e+03 1.42e-10 9.86e-09  -5.7 8.59e-05    -  1.00e+00 1.00e+00h  1\n",
      " 211 -1.5094500e+03 1.59e-10 6.41e-05  -8.6 2.81e-04    -  1.00e+00 1.00e+00h  1\n",
      " 212 -1.5094500e+03 2.77e-10 2.51e-14  -8.6 4.21e-09    -  1.00e+00 1.00e+00h  1\n",
      "\n",
      "Number of Iterations....: 212\n",
      "\n",
      "                                   (scaled)                 (unscaled)\n",
      "Objective...............:  -1.5094500150869821e+03   -1.5094500150869821e+03\n",
      "Dual infeasibility......:   2.5146551507759796e-14    2.5146551507759796e-14\n",
      "Constraint violation....:   2.7657068475683833e-10    2.7657068475683833e-10\n",
      "Complementarity.........:   2.5059035645396937e-09    2.5059035645396937e-09\n",
      "Overall NLP error.......:   2.5059035645396937e-09    2.5059035645396937e-09\n",
      "\n",
      "\n",
      "Number of objective function evaluations             = 711\n",
      "Number of objective gradient evaluations             = 161\n",
      "Number of equality constraint evaluations            = 711\n",
      "Number of inequality constraint evaluations          = 0\n",
      "Number of equality constraint Jacobian evaluations   = 238\n",
      "Number of inequality constraint Jacobian evaluations = 0\n",
      "Number of Lagrangian Hessian evaluations             = 212\n",
      "Total CPU secs in IPOPT (w/o function evaluations)   =     66.188\n",
      "Total CPU secs in NLP function evaluations           =      2.532\n",
      "\n",
      "EXIT: Optimal Solution Found.\n"
     ]
    }
   ],
   "source": [
    "results = opt.solve(model,tee=True)"
   ]
  },
  {
   "cell_type": "code",
   "execution_count": 22,
   "metadata": {},
   "outputs": [],
   "source": [
    "update_dual(pe,model)"
   ]
  },
  {
   "cell_type": "code",
   "execution_count": 23,
   "metadata": {
    "scrolled": false
   },
   "outputs": [
    {
     "name": "stdout",
     "output_type": "stream",
     "text": [
      "Here comes the result:\n",
      "----------------------------------------------------------------------------------------------------\n",
      "\t\tT\t\t Q\t\t\t V\t\t\t L\n",
      "               30.00 \t       -47.0369759092 \t         0.4863632843 \t         0.0000000000\n",
      "              220.00 \t       -45.6810284621 \t         1.3112201587 \t         0.0094467623\n",
      "              230.00 \t       -46.1320197230 \t         0.8655263852 \t         0.0144245426\n",
      "              240.00 \t       -46.1904968060 \t         0.4306688424 \t         0.0146463490\n",
      "----------------------------------------------------------------------------------------------------\n",
      "Top\n",
      "V\t 0.48636328425992165\n",
      "L\t 0.06594512863808615\n",
      "W\t 0.7589117458320992\n",
      "----------------------------------------------------------------------------------------------------\n",
      "Bottom\n",
      "L\t 0.014646348958416076\n",
      "----------------------------------------------------------------------------------------------------\n",
      "Condenser:\tVapor\t\tLiquid\t\tLast Stage\tVapor\t\tLiquid\n",
      "H2 \t\t59.816%\t\t0.788%\t\t H2       \t15.103%\t\t0.601%\n",
      "CO \t\t2.779%\t\t0.078%\t\t CO       \t0.272%\t\t0.014%\n",
      "CO2 \t\t22.461%\t\t4.364%\t\t CO2      \t7.270%\t\t0.785%\n",
      "H2O \t\t0.223%\t\t0.000%\t\t H2O      \t62.601%\t\t13.415%\n",
      "C2H4 \t\t2.689%\t\t0.840%\t\t C2H4     \t1.610%\t\t0.216%\n",
      "C3H6 \t\t2.296%\t\t3.840%\t\t C3H6     \t1.559%\t\t0.421%\n",
      "C4H8 \t\t1.267%\t\t6.850%\t\t C4H8     \t1.168%\t\t0.327%\n",
      "C5H10 \t\t0.424%\t\t7.849%\t\t C5H10    \t0.762%\t\t0.416%\n",
      "C6H12 \t\t0.132%\t\t8.009%\t\t C6H12    \t0.600%\t\t0.582%\n",
      "C7H14 \t\t0.037%\t\t7.074%\t\t C7H14    \t0.473%\t\t0.767%\n",
      "C8H16 \t\t0.010%\t\t5.920%\t\t C8H16    \t0.374%\t\t0.973%\n",
      "C9H18 \t\t0.003%\t\t4.853%\t\t C9H18    \t0.296%\t\t1.202%\n",
      "C10H20 \t\t0.001%\t\t3.933%\t\t C10H20   \t0.236%\t\t1.457%\n",
      "C11H22 \t\t0.000%\t\t2.008%\t\t C11H22   \t0.120%\t\t1.113%\n",
      "C12H24 \t\t0.000%\t\t1.584%\t\t C12H24   \t0.097%\t\t1.323%\n",
      "C13H26 \t\t0.000%\t\t1.220%\t\t C13H26   \t0.078%\t\t1.558%\n",
      "C14H28 \t\t0.000%\t\t0.908%\t\t C14H28   \t0.063%\t\t1.803%\n",
      "C15H30 \t\t0.000%\t\t0.646%\t\t C15H30   \t0.049%\t\t2.022%\n",
      "C16H32 \t\t0.000%\t\t0.438%\t\t C16H32   \t0.037%\t\t2.165%\n",
      "C17H34 \t\t0.000%\t\t0.283%\t\t C17H34   \t0.027%\t\t2.198%\n",
      "C18H36 \t\t0.000%\t\t0.178%\t\t C18H36   \t0.018%\t\t2.124%\n",
      "C19H38 \t\t0.000%\t\t0.109%\t\t C19H38   \t0.012%\t\t1.973%\n",
      "C20H40 \t\t0.000%\t\t0.067%\t\t C20H40   \t0.008%\t\t1.781%\n",
      "C1H4 \t\t5.217%\t\t0.440%\t\t C1H4     \t3.142%\t\t0.267%\n",
      "C2H6 \t\t1.404%\t\t0.756%\t\t C2H6     \t0.865%\t\t0.129%\n",
      "C3H8 \t\t0.570%\t\t0.993%\t\t C3H8     \t0.390%\t\t0.105%\n",
      "C4H10 \t\t0.366%\t\t2.409%\t\t C4H10    \t0.368%\t\t0.116%\n",
      "C5H12 \t\t0.217%\t\t4.851%\t\t C5H12    \t0.448%\t\t0.270%\n",
      "C6H14 \t\t0.066%\t\t4.792%\t\t C6H14    \t0.353%\t\t0.374%\n",
      "C7H16 \t\t0.018%\t\t4.178%\t\t C7H16    \t0.278%\t\t0.489%\n",
      "C8H18 \t\t0.005%\t\t3.479%\t\t C8H18    \t0.220%\t\t0.618%\n",
      "C9H20 \t\t0.001%\t\t2.845%\t\t C9H20    \t0.174%\t\t0.760%\n",
      "C10H22 \t\t0.000%\t\t2.300%\t\t C10H22   \t0.139%\t\t0.919%\n",
      "C11H24 \t\t0.000%\t\t2.972%\t\t C11H24   \t0.180%\t\t1.778%\n",
      "C12H26 \t\t0.000%\t\t2.335%\t\t C12H26   \t0.145%\t\t2.109%\n",
      "C13H28 \t\t0.000%\t\t1.788%\t\t C13H28   \t0.117%\t\t2.475%\n",
      "C14H30 \t\t0.000%\t\t1.321%\t\t C14H30   \t0.093%\t\t2.849%\n",
      "C15H32 \t\t0.000%\t\t0.931%\t\t C15H32   \t0.073%\t\t3.169%\n",
      "C16H34 \t\t0.000%\t\t0.625%\t\t C16H34   \t0.054%\t\t3.359%\n",
      "C17H36 \t\t0.000%\t\t0.402%\t\t C17H36   \t0.039%\t\t3.377%\n",
      "C18H38 \t\t0.000%\t\t0.251%\t\t C18H38   \t0.026%\t\t3.236%\n",
      "C19H40 \t\t0.000%\t\t0.154%\t\t C19H40   \t0.017%\t\t2.987%\n",
      "C20H42 \t\t0.000%\t\t0.094%\t\t C20H42   \t0.011%\t\t2.685%\n",
      "C21H44 \t\t0.000%\t\t0.095%\t\t C21H44   \t0.012%\t\t3.959%\n",
      "C22H46 \t\t0.000%\t\t0.058%\t\t C22H46   \t0.008%\t\t3.455%\n",
      "C23H48 \t\t0.000%\t\t0.035%\t\t C23H48   \t0.005%\t\t2.994%\n",
      "C24H50 \t\t0.000%\t\t0.022%\t\t C24H50   \t0.003%\t\t2.582%\n",
      "C25H52 \t\t0.000%\t\t0.013%\t\t C25H52   \t0.002%\t\t2.220%\n",
      "C26H54 \t\t0.000%\t\t0.008%\t\t C26H54   \t0.001%\t\t1.906%\n",
      "C27H56 \t\t0.000%\t\t0.005%\t\t C27H56   \t0.001%\t\t1.635%\n",
      "C28H58 \t\t0.000%\t\t0.003%\t\t C28H58   \t0.000%\t\t1.402%\n",
      "C29H60 \t\t0.000%\t\t0.002%\t\t C29H60   \t0.000%\t\t1.203%\n",
      "C30H62 \t\t0.000%\t\t0.001%\t\t C30H62   \t0.000%\t\t1.032%\n"
     ]
    }
   ],
   "source": [
    "beautify2(pe,model)"
   ]
  },
  {
   "cell_type": "code",
   "execution_count": 24,
   "metadata": {},
   "outputs": [
    {
     "data": {
      "text/plain": [
       "0.2809407379222138"
      ]
     },
     "execution_count": 24,
     "metadata": {},
     "output_type": "execute_result"
    }
   ],
   "source": [
    "model.reactive[1].kinetics_block.r_FT_total.value"
   ]
  },
  {
   "cell_type": "code",
   "execution_count": 25,
   "metadata": {},
   "outputs": [],
   "source": [
    "# model.solutions.store_to(results)\n",
    "# with open('../saved_solutions/3_stage_condenser_240C.pickle','wb') as f:\n",
    "#     pickle.dump(results,f)"
   ]
  },
  {
   "cell_type": "code",
   "execution_count": 26,
   "metadata": {},
   "outputs": [],
   "source": [
    "model.condenser.L['out'].fixed = False\n",
    "for j in model.reactive:\n",
    "    model.reactive[j].T.fixed=True"
   ]
  },
  {
   "cell_type": "code",
   "execution_count": 27,
   "metadata": {},
   "outputs": [],
   "source": [
    "model.del_component(model.obj)\n",
    "model.obj = pe.Objective(expr = model.condenser.L['out'],sense=pe.maximize)"
   ]
  },
  {
   "cell_type": "markdown",
   "metadata": {},
   "source": [
    "# So, what exactly does adding a reflux do?"
   ]
  },
  {
   "cell_type": "code",
   "execution_count": 28,
   "metadata": {},
   "outputs": [],
   "source": [
    "Refluxrange = np.linspace(0,2,21)"
   ]
  },
  {
   "cell_type": "code",
   "execution_count": 29,
   "metadata": {},
   "outputs": [],
   "source": [
    "cd_data = {};\n",
    "cd_data['Re'] = []; cd_data['D'] = []; cd_data['V'] = []\n",
    "cd_data['x'] = {}; cd_data['y'] = {}; cd_data['g'] = {}; cd_data['d'] = {};\n",
    "for i in m.COMP_TOTAL:\n",
    "    cd_data['x'][i] = []\n",
    "    cd_data['y'][i] = []\n",
    "    cd_data['g'][i] = []\n",
    "    cd_data['d'][i] = []\n",
    "    \n",
    "rf_data = {}\n",
    "for j in model.reactive:\n",
    "    rf_data[j] = {}\n",
    "    rf_data[j]['r'] = {}; rf_data[j]['b'] = {}; rf_data[j]['x'] = {};rf_data[j]['y'] = {};\n",
    "    rf_data[j]['T'] = []; rf_data[j]['Q'] = []; rf_data[j]['V'] = []; rf_data[j]['L'] = []; \n",
    "    rf_data[j]['r_WGS'] = []; rf_data[j]['r_FT'] = []\n",
    "    for i in m.COMP_TOTAL:\n",
    "        rf_data[j]['r'][i] = []\n",
    "        rf_data[j]['b'][i] = []\n",
    "        rf_data[j]['x'][i] = []\n",
    "        rf_data[j]['y'][i] = []       "
   ]
  },
  {
   "cell_type": "code",
   "execution_count": 30,
   "metadata": {},
   "outputs": [
    {
     "name": "stdout",
     "output_type": "stream",
     "text": [
      "Solved\t|Reflux = 0.000 kmol/s\t|Vapor = 0.486 kmol/s\t|Distillate = 0.066 kmol/s\t|Bottom = 0.015 kmol/s\n",
      "Solved\t|Reflux = 0.100 kmol/s\t|Vapor = 0.495 kmol/s\t|Distillate = 0.060 kmol/s\t|Bottom = 0.020 kmol/s\n",
      "Solved\t|Reflux = 0.200 kmol/s\t|Vapor = 0.504 kmol/s\t|Distillate = 0.055 kmol/s\t|Bottom = 0.024 kmol/s\n",
      "Solved\t|Reflux = 0.300 kmol/s\t|Vapor = 0.513 kmol/s\t|Distillate = 0.051 kmol/s\t|Bottom = 0.027 kmol/s\n",
      "Solved\t|Reflux = 0.400 kmol/s\t|Vapor = 0.521 kmol/s\t|Distillate = 0.048 kmol/s\t|Bottom = 0.030 kmol/s\n",
      "Solved\t|Reflux = 0.500 kmol/s\t|Vapor = 0.529 kmol/s\t|Distillate = 0.045 kmol/s\t|Bottom = 0.032 kmol/s\n",
      "Solved\t|Reflux = 0.600 kmol/s\t|Vapor = 0.537 kmol/s\t|Distillate = 0.042 kmol/s\t|Bottom = 0.033 kmol/s\n",
      "Solved\t|Reflux = 0.700 kmol/s\t|Vapor = 0.545 kmol/s\t|Distillate = 0.040 kmol/s\t|Bottom = 0.035 kmol/s\n",
      "Solved\t|Reflux = 0.800 kmol/s\t|Vapor = 0.552 kmol/s\t|Distillate = 0.038 kmol/s\t|Bottom = 0.036 kmol/s\n",
      "Solved\t|Reflux = 0.900 kmol/s\t|Vapor = 0.560 kmol/s\t|Distillate = 0.036 kmol/s\t|Bottom = 0.038 kmol/s\n",
      "Solved\t|Reflux = 1.000 kmol/s\t|Vapor = 0.567 kmol/s\t|Distillate = 0.034 kmol/s\t|Bottom = 0.039 kmol/s\n",
      "Solved\t|Reflux = 1.100 kmol/s\t|Vapor = 0.573 kmol/s\t|Distillate = 0.032 kmol/s\t|Bottom = 0.040 kmol/s\n",
      "Solved\t|Reflux = 1.200 kmol/s\t|Vapor = 0.580 kmol/s\t|Distillate = 0.031 kmol/s\t|Bottom = 0.040 kmol/s\n",
      "Solved\t|Reflux = 1.300 kmol/s\t|Vapor = 0.587 kmol/s\t|Distillate = 0.030 kmol/s\t|Bottom = 0.041 kmol/s\n",
      "Solved\t|Reflux = 1.400 kmol/s\t|Vapor = 0.593 kmol/s\t|Distillate = 0.028 kmol/s\t|Bottom = 0.042 kmol/s\n",
      "Solved\t|Reflux = 1.500 kmol/s\t|Vapor = 0.599 kmol/s\t|Distillate = 0.027 kmol/s\t|Bottom = 0.043 kmol/s\n",
      "Solved\t|Reflux = 1.600 kmol/s\t|Vapor = 0.605 kmol/s\t|Distillate = 0.026 kmol/s\t|Bottom = 0.043 kmol/s\n",
      "Solved\t|Reflux = 1.700 kmol/s\t|Vapor = 0.611 kmol/s\t|Distillate = 0.025 kmol/s\t|Bottom = 0.044 kmol/s\n",
      "Solved\t|Reflux = 1.800 kmol/s\t|Vapor = 0.616 kmol/s\t|Distillate = 0.024 kmol/s\t|Bottom = 0.044 kmol/s\n",
      "Solved\t|Reflux = 1.900 kmol/s\t|Vapor = 0.622 kmol/s\t|Distillate = 0.023 kmol/s\t|Bottom = 0.045 kmol/s\n",
      "Solved\t|Reflux = 2.000 kmol/s\t|Vapor = 0.627 kmol/s\t|Distillate = 0.022 kmol/s\t|Bottom = 0.045 kmol/s\n"
     ]
    }
   ],
   "source": [
    "for re in Refluxrange:\n",
    "    # model.condenser.L['out'].fixed = False\n",
    "    model.condenser.L['out'].setub(re)\n",
    "    # model.reactive[1].T.fix(t)\n",
    "    results = opt.solve(model,tee=False)\n",
    "    update_dual(pe,model)\n",
    "    print('Solved\\t|Reflux = {:.3f} kmol/s\\t|Vapor = {:.3f} kmol/s\\t|Distillate = {:.3f} kmol/s\\t|Bottom = {:.3f} kmol/s'.\\\n",
    "          format(model.condenser.L['out'].value,model.condenser.V['out'].value,model.condenser.L['P'].value,model.reactive[3].L['out'].value))\n",
    "\n",
    "    cd_data['V'].append(model.condenser.V['out'].value)\n",
    "    cd_data['D'].append(model.condenser.L['P'].value)\n",
    "    cd_data['Re'].append(model.condenser.L['out'].value)\n",
    "\n",
    "    for i in model.reactive[1].r_total_comp:\n",
    "        cd_data['x'][i].append(model.condenser.x[i].value)\n",
    "        cd_data['y'][i].append(model.condenser.y[i].value)\n",
    "        cd_data['g'][i].append(model.condenser.y[i].value*model.condenser.V['out'].value)\n",
    "        cd_data['d'][i].append(model.condenser.x[i].value*model.condenser.L['P'].value)\n",
    "    \n",
    "    for j in model.reactive:      \n",
    "        rf_data[j]['T'].append(model.reactive[j].T.value)\n",
    "        rf_data[j]['Q'].append(model.reactive[j].Q_main.value)\n",
    "        rf_data[j]['V'].append(model.reactive[j].V['out'].value)\n",
    "        rf_data[j]['L'].append(model.reactive[j].L['out'].value)\n",
    "        rf_data[j]['r_WGS'].append(model.reactive[j].kinetics_block.r_WGS.value)\n",
    "        rf_data[j]['r_FT'].append(model.reactive[j].kinetics_block.r_FT_total.value)\n",
    "\n",
    "        for i in model.reactive[1].r_total_comp:\n",
    "            rf_data[j]['r'][i].append(model.reactive[j].r_total_comp[i].value)\n",
    "            rf_data[j]['b'][i].append(model.reactive[j].x[i].value*model.reactive[j].L['out'].value)\n",
    "            rf_data[j]['x'][i].append(model.reactive[j].x[i].value)\n",
    "            rf_data[j]['y'][i].append(model.reactive[j].y[i].value)"
   ]
  },
  {
   "cell_type": "code",
   "execution_count": 31,
   "metadata": {},
   "outputs": [],
   "source": [
    "cnumber_range = range(1,57)"
   ]
  },
  {
   "cell_type": "code",
   "execution_count": 32,
   "metadata": {},
   "outputs": [],
   "source": [
    "def trans_cnumber(dic):\n",
    "    molefraction = {}\n",
    "    for i in range(1,57):\n",
    "        molefraction[i] = []\n",
    "    for i in m.COMP_ORG:\n",
    "        molefraction[cal_cnumber(i)].append(np.array(dic[i]))\n",
    "    for i in range(1,57):\n",
    "        molefraction[i] = np.sum(molefraction[i],0)\n",
    "    length = len(molefraction[1])\n",
    "    tmp = {}\n",
    "    for j in range(length):\n",
    "        tmp[j] = []\n",
    "        for i in range(1,57):\n",
    "            tmp[j].append(molefraction[i][j])\n",
    "    return tmp"
   ]
  },
  {
   "cell_type": "code",
   "execution_count": 33,
   "metadata": {},
   "outputs": [],
   "source": [
    "g_data = trans_cnumber(cd_data['g'])\n",
    "d_data = trans_cnumber(cd_data['d'])\n",
    "b_data = trans_cnumber(rf_data[3]['b'])\n",
    "# r_data = trans_cnumber(rf_data_master[t]['r'])\n",
    "\n",
    "cd_x_data = trans_cnumber(cd_data['x'])\n",
    "rf_x_data = {}\n",
    "for j in model.reactive:\n",
    "    rf_x_data[j] = trans_cnumber(rf_data[j]['x'])"
   ]
  },
  {
   "cell_type": "code",
   "execution_count": 36,
   "metadata": {},
   "outputs": [],
   "source": [
    " def plot_distribution(index):\n",
    "    fig, (ax,ax2) = plt.subplots(2,1,figsize=(16,12))\n",
    "    ax.plot(cnumber_range,g_data[index],'co-')\n",
    "    ax.plot(cnumber_range,d_data[index],'go-')\n",
    "    ax.plot(cnumber_range,b_data[index],'ro-')\n",
    "    ax.set_yscale(\"log\")\n",
    "    ax.set_ylim(1e-12, 1)\n",
    "    ax.legend(['Vapor','Distillate','Bottom'],fontsize=18)\n",
    "    ax.set_title('T, Reflux {:.2f} kmol/s'.format(cd_data['Re'][index]),fontsize=18)\n",
    "\n",
    "    ax.set_ylabel('Molar Flow (kmol/s)', color='K',fontsize=18)\n",
    "    ax.set_xlabel('Carbon Number', color='K',fontsize=18)\n",
    "    # ax.tick_params('y', colors='k',labelsize=18)\n",
    "    # ax.tick_params('x', colors='k',labelsize=18)\n",
    "\n",
    "    ax2.plot(cnumber_range,cd_x_data[index],'go-')\n",
    "    ax2.plot(cnumber_range,rf_x_data[1][index],'co-')\n",
    "    ax2.plot(cnumber_range,rf_x_data[2][index],'bo-')\n",
    "    ax2.plot(cnumber_range,rf_x_data[3][index],'ro-')\n",
    "\n",
    "    ax2.set_ylim(0, 0.2)\n",
    "    ax2.legend(['Condenser','Stage 1','Stage 2','Stage 3'],fontsize=18)\n",
    "    ax2.set_title('Liquid Composition (Mole)',fontsize=18)\n",
    "\n",
    "    ax2.set_ylabel('Molar Fraction', color='K',fontsize=18)\n",
    "    ax2.set_xlabel('Carbon Number', color='K',fontsize=18)\n",
    "\n",
    "    ax.grid()\n",
    "    ax2.grid()\n",
    "    plt.show()"
   ]
  },
  {
   "cell_type": "code",
   "execution_count": 37,
   "metadata": {
    "scrolled": false
   },
   "outputs": [
    {
     "data": {
      "application/vnd.jupyter.widget-view+json": {
       "model_id": "9f7e2bb824a54ab3896b900bfd2d8767",
       "version_major": 2,
       "version_minor": 0
      },
      "text/plain": [
       "interactive(children=(IntSlider(value=0, description='Reflux:', max=20), Output()), _dom_classes=('widget-inte…"
      ]
     },
     "metadata": {},
     "output_type": "display_data"
    }
   ],
   "source": [
    "widgets.interact(plot_distribution, index = widgets.IntSlider(\n",
    "    value=0,\n",
    "    min=0,\n",
    "    max=20,\n",
    "    step=1,\n",
    "    description='Reflux:',)\n",
    ");"
   ]
  },
  {
   "cell_type": "code",
   "execution_count": null,
   "metadata": {},
   "outputs": [],
   "source": []
  }
 ],
 "metadata": {
  "kernelspec": {
   "display_name": "Python 3",
   "language": "python",
   "name": "python3"
  },
  "language_info": {
   "codemirror_mode": {
    "name": "ipython",
    "version": 3
   },
   "file_extension": ".py",
   "mimetype": "text/x-python",
   "name": "python",
   "nbconvert_exporter": "python",
   "pygments_lexer": "ipython3",
   "version": "3.6.3"
  }
 },
 "nbformat": 4,
 "nbformat_minor": 2
}
