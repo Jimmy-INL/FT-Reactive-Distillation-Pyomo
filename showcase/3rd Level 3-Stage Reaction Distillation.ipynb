{
 "cells": [
  {
   "cell_type": "markdown",
   "metadata": {},
   "source": [
    "# 3rd Level Model Structure: Single Stage Reactive Distillation"
   ]
  },
  {
   "cell_type": "code",
   "execution_count": 1,
   "metadata": {},
   "outputs": [],
   "source": [
    "import sys\n",
    "import os\n",
    "import pickle\n",
    "sys.path.append(os.path.abspath('..'))\n",
    "\n",
    "import numpy as np\n",
    "from matplotlib import pyplot as plt\n",
    "import ipywidgets as widgets"
   ]
  },
  {
   "cell_type": "code",
   "execution_count": 2,
   "metadata": {},
   "outputs": [],
   "source": [
    "from pyomo import environ as pe\n",
    "from modules.global_set import m\n",
    "\n",
    "from stages.reactive_stage import reactive_stage_rule\n",
    "from stages.condenser_stage import condenser_stage_rule\n",
    "\n",
    "from utility.display_utility import trans_product_mole, trans_product_mass, beautify2\n",
    "from utility.model_utility import add_dual, update_dual, check_DOF\n",
    "from utility.data_utility import cal_cnumber\n",
    "\n",
    "model = pe.ConcreteModel()"
   ]
  },
  {
   "cell_type": "markdown",
   "metadata": {},
   "source": [
    "# Global Set"
   ]
  },
  {
   "cell_type": "code",
   "execution_count": 3,
   "metadata": {},
   "outputs": [],
   "source": [
    "model.TRAY = pe.RangeSet(1,3)"
   ]
  },
  {
   "cell_type": "markdown",
   "metadata": {},
   "source": [
    "# Construct Reactive Stages"
   ]
  },
  {
   "cell_type": "code",
   "execution_count": 4,
   "metadata": {},
   "outputs": [
    {
     "name": "stdout",
     "output_type": "stream",
     "text": [
      "> Importing Reactive Stage......\n",
      "> Adding the following local variable:\n",
      "------------------------------------\n",
      "| reactive[1].T_F\n",
      "| reactive[1].P\n",
      "| reactive[1].cat\n",
      "| reactive[1].Q_main\n",
      "| reactive[1].x_\n",
      "| reactive[1].y_\n",
      "| reactive[1].x\n",
      "| reactive[1].y\n",
      "| reactive[1].z\n",
      "| reactive[1].L\n",
      "| reactive[1].V\n",
      "| reactive[1].F\n",
      "| reactive[1].H_L_\n",
      "| reactive[1].H_V_\n",
      "| reactive[1].H_L\n",
      "| reactive[1].H_V\n",
      "| reactive[1].T\n",
      "| reactive[1].H_F\n",
      "| reactive[1].f_V\n",
      "| reactive[1].f_L\n",
      "| reactive[1].r_total_comp\n",
      "------------------------------------\n",
      "\n",
      "> Importing Kinetics Blocks......\n",
      "> Adding the following local variable:\n",
      "--------------------------------------------------\n",
      "| reactive[1].kinetics_block.k_FT\n",
      "| reactive[1].kinetics_block.r_FT_total\n",
      "| reactive[1].kinetics_block.g0_FT\n",
      "| reactive[1].kinetics_block.alpha\n",
      "| reactive[1].kinetics_block.r_FT_cnum\n",
      "| reactive[1].kinetics_block.r_FT_comp\n",
      "| reactive[1].kinetics_block.k_WGS\n",
      "| reactive[1].kinetics_block.Ke_WGS\n",
      "| reactive[1].kinetics_block.r_WGS\n",
      "| reactive[1].kinetics_block.r_WGS_comp\n",
      "--------------------------------------------------\n",
      "\n",
      "> Importing Energy Blocks......\n",
      "> Adding the following local variable:\n",
      "--------------------------------------------------\n",
      "| reactive[1].energy_block.dH_F\n",
      "| reactive[1].energy_block.dH_V\n",
      "| reactive[1].energy_block.dH_L\n",
      "| reactive[1].energy_block.dH_vap\n",
      "--------------------------------------------------\n",
      "\n",
      "> Importing VLE Blocks......\n",
      "> Adding the following local variable:\n",
      "--------------------------------------------------\n",
      "| reactive[1].VLE_block.n_ave\n",
      "| reactive[1].VLE_block.n_ave_cal\n",
      "| reactive[1].VLE_block.Hen\n",
      "| reactive[1].VLE_block.Hen0\n",
      "| reactive[1].VLE_block.gamma\n",
      "| reactive[1].VLE_block.P_sat\n",
      "| reactive[1].VLE_block.P_sat_Y\n",
      "| reactive[1].VLE_block.P_sat_dY_inf\n",
      "| reactive[1].VLE_block.P_sat_dY0\n",
      "| reactive[1].VLE_block.Hen_ref\n",
      "| reactive[1].VLE_block.Hen0_ref\n",
      "| reactive[1].VLE_block.gamma_ref\n",
      "| reactive[1].VLE_block.V_L\n",
      "| reactive[1].VLE_block.V_L_dY_inf\n",
      "| reactive[1].VLE_block.V_L_dY0\n",
      "| reactive[1].VLE_block.poynting\n",
      "--------------------------------------------------\n",
      "\n",
      "> Importing Reactive Stage......\n",
      "> Adding the following local variable:\n",
      "------------------------------------\n",
      "| reactive[2].T_F\n",
      "| reactive[2].P\n",
      "| reactive[2].cat\n",
      "| reactive[2].Q_main\n",
      "| reactive[2].x_\n",
      "| reactive[2].y_\n",
      "| reactive[2].x\n",
      "| reactive[2].y\n",
      "| reactive[2].z\n",
      "| reactive[2].L\n",
      "| reactive[2].V\n",
      "| reactive[2].F\n",
      "| reactive[2].H_L_\n",
      "| reactive[2].H_V_\n",
      "| reactive[2].H_L\n",
      "| reactive[2].H_V\n",
      "| reactive[2].T\n",
      "| reactive[2].H_F\n",
      "| reactive[2].f_V\n",
      "| reactive[2].f_L\n",
      "| reactive[2].r_total_comp\n",
      "------------------------------------\n",
      "\n",
      "> Importing Kinetics Blocks......\n",
      "> Adding the following local variable:\n",
      "--------------------------------------------------\n",
      "| reactive[2].kinetics_block.k_FT\n",
      "| reactive[2].kinetics_block.r_FT_total\n",
      "| reactive[2].kinetics_block.g0_FT\n",
      "| reactive[2].kinetics_block.alpha\n",
      "| reactive[2].kinetics_block.r_FT_cnum\n",
      "| reactive[2].kinetics_block.r_FT_comp\n",
      "| reactive[2].kinetics_block.k_WGS\n",
      "| reactive[2].kinetics_block.Ke_WGS\n",
      "| reactive[2].kinetics_block.r_WGS\n",
      "| reactive[2].kinetics_block.r_WGS_comp\n",
      "--------------------------------------------------\n",
      "\n",
      "> Importing Energy Blocks......\n",
      "> Adding the following local variable:\n",
      "--------------------------------------------------\n",
      "| reactive[2].energy_block.dH_F\n",
      "| reactive[2].energy_block.dH_V\n",
      "| reactive[2].energy_block.dH_L\n",
      "| reactive[2].energy_block.dH_vap\n",
      "--------------------------------------------------\n",
      "\n",
      "> Importing VLE Blocks......\n",
      "> Adding the following local variable:\n",
      "--------------------------------------------------\n",
      "| reactive[2].VLE_block.n_ave\n",
      "| reactive[2].VLE_block.n_ave_cal\n",
      "| reactive[2].VLE_block.Hen\n",
      "| reactive[2].VLE_block.Hen0\n",
      "| reactive[2].VLE_block.gamma\n",
      "| reactive[2].VLE_block.P_sat\n",
      "| reactive[2].VLE_block.P_sat_Y\n",
      "| reactive[2].VLE_block.P_sat_dY_inf\n",
      "| reactive[2].VLE_block.P_sat_dY0\n",
      "| reactive[2].VLE_block.Hen_ref\n",
      "| reactive[2].VLE_block.Hen0_ref\n",
      "| reactive[2].VLE_block.gamma_ref\n",
      "| reactive[2].VLE_block.V_L\n",
      "| reactive[2].VLE_block.V_L_dY_inf\n",
      "| reactive[2].VLE_block.V_L_dY0\n",
      "| reactive[2].VLE_block.poynting\n",
      "--------------------------------------------------\n",
      "\n",
      "> Importing Reactive Stage......\n",
      "> Adding the following local variable:\n",
      "------------------------------------\n",
      "| reactive[3].T_F\n",
      "| reactive[3].P\n",
      "| reactive[3].cat\n",
      "| reactive[3].Q_main\n",
      "| reactive[3].x_\n",
      "| reactive[3].y_\n",
      "| reactive[3].x\n",
      "| reactive[3].y\n",
      "| reactive[3].z\n",
      "| reactive[3].L\n",
      "| reactive[3].V\n",
      "| reactive[3].F\n",
      "| reactive[3].H_L_\n",
      "| reactive[3].H_V_\n",
      "| reactive[3].H_L\n",
      "| reactive[3].H_V\n",
      "| reactive[3].T\n",
      "| reactive[3].H_F\n",
      "| reactive[3].f_V\n",
      "| reactive[3].f_L\n",
      "| reactive[3].r_total_comp\n",
      "------------------------------------\n",
      "\n",
      "> Importing Kinetics Blocks......\n",
      "> Adding the following local variable:\n",
      "--------------------------------------------------\n",
      "| reactive[3].kinetics_block.k_FT\n",
      "| reactive[3].kinetics_block.r_FT_total\n",
      "| reactive[3].kinetics_block.g0_FT\n",
      "| reactive[3].kinetics_block.alpha\n",
      "| reactive[3].kinetics_block.r_FT_cnum\n",
      "| reactive[3].kinetics_block.r_FT_comp\n",
      "| reactive[3].kinetics_block.k_WGS\n",
      "| reactive[3].kinetics_block.Ke_WGS\n",
      "| reactive[3].kinetics_block.r_WGS\n",
      "| reactive[3].kinetics_block.r_WGS_comp\n",
      "--------------------------------------------------\n",
      "\n",
      "> Importing Energy Blocks......\n",
      "> Adding the following local variable:\n",
      "--------------------------------------------------\n",
      "| reactive[3].energy_block.dH_F\n",
      "| reactive[3].energy_block.dH_V\n",
      "| reactive[3].energy_block.dH_L\n",
      "| reactive[3].energy_block.dH_vap\n",
      "--------------------------------------------------\n",
      "\n",
      "> Importing VLE Blocks......\n",
      "> Adding the following local variable:\n",
      "--------------------------------------------------\n",
      "| reactive[3].VLE_block.n_ave\n",
      "| reactive[3].VLE_block.n_ave_cal\n",
      "| reactive[3].VLE_block.Hen\n",
      "| reactive[3].VLE_block.Hen0\n",
      "| reactive[3].VLE_block.gamma\n",
      "| reactive[3].VLE_block.P_sat\n",
      "| reactive[3].VLE_block.P_sat_Y\n",
      "| reactive[3].VLE_block.P_sat_dY_inf\n",
      "| reactive[3].VLE_block.P_sat_dY0\n",
      "| reactive[3].VLE_block.Hen_ref\n",
      "| reactive[3].VLE_block.Hen0_ref\n",
      "| reactive[3].VLE_block.gamma_ref\n",
      "| reactive[3].VLE_block.V_L\n",
      "| reactive[3].VLE_block.V_L_dY_inf\n",
      "| reactive[3].VLE_block.V_L_dY0\n",
      "| reactive[3].VLE_block.poynting\n",
      "--------------------------------------------------\n",
      "\n"
     ]
    }
   ],
   "source": [
    "model.reactive = pe.Block(model.TRAY,rule=reactive_stage_rule)"
   ]
  },
  {
   "cell_type": "markdown",
   "metadata": {
    "collapsed": true
   },
   "source": [
    "# Construct a single condenser"
   ]
  },
  {
   "cell_type": "code",
   "execution_count": 5,
   "metadata": {},
   "outputs": [
    {
     "name": "stdout",
     "output_type": "stream",
     "text": [
      "| Importing Condenser Stage......\n",
      "| Adding the following local variable:\n",
      "------------------------------------\n",
      "| condenser.T\n",
      "| condenser.T_F\n",
      "| condenser.P\n",
      "| condenser.Q_main\n",
      "| condenser.x_\n",
      "| condenser.y_\n",
      "| condenser.x\n",
      "| condenser.y\n",
      "| condenser.z\n",
      "| condenser.L\n",
      "| condenser.W\n",
      "| condenser.V\n",
      "| condenser.F\n",
      "| condenser.H_L_\n",
      "| condenser.H_V_\n",
      "| condenser.H_L\n",
      "| condenser.H_V\n",
      "| condenser.H_F\n",
      "| condenser.f_V\n",
      "| condenser.f_L\n",
      "------------------------------------\n",
      "\n",
      "> Importing Energy Blocks......\n",
      "> Adding the following local variable:\n",
      "--------------------------------------------------\n",
      "| condenser.energy_block.dH_F\n",
      "| condenser.energy_block.dH_V\n",
      "| condenser.energy_block.dH_L\n",
      "| condenser.energy_block.dH_vap\n",
      "--------------------------------------------------\n",
      "\n",
      "> Importing VLE Blocks......\n",
      "> Adding the following local variable:\n",
      "--------------------------------------------------\n",
      "| condenser.VLE_block.n_ave\n",
      "| condenser.VLE_block.n_ave_cal\n",
      "| condenser.VLE_block.Hen\n",
      "| condenser.VLE_block.Hen0\n",
      "| condenser.VLE_block.gamma\n",
      "| condenser.VLE_block.P_sat\n",
      "| condenser.VLE_block.P_sat_Y\n",
      "| condenser.VLE_block.P_sat_dY_inf\n",
      "| condenser.VLE_block.P_sat_dY0\n",
      "| condenser.VLE_block.Hen_ref\n",
      "| condenser.VLE_block.Hen0_ref\n",
      "| condenser.VLE_block.gamma_ref\n",
      "| condenser.VLE_block.V_L\n",
      "| condenser.VLE_block.V_L_dY_inf\n",
      "| condenser.VLE_block.V_L_dY0\n",
      "| condenser.VLE_block.poynting\n",
      "--------------------------------------------------\n",
      "\n"
     ]
    }
   ],
   "source": [
    "model.condenser = pe.Block(rule=condenser_stage_rule)"
   ]
  },
  {
   "cell_type": "markdown",
   "metadata": {},
   "source": [
    "# Linking Stage Variables"
   ]
  },
  {
   "cell_type": "markdown",
   "metadata": {},
   "source": [
    "### Vapor Between Reactive Stages"
   ]
  },
  {
   "cell_type": "code",
   "execution_count": 6,
   "metadata": {},
   "outputs": [],
   "source": [
    "def V_between_rule(model,j):\n",
    "    if j == model.TRAY.last(): return pe.Constraint.Skip\n",
    "    return model.reactive[j].V['in'] == model.reactive[j+1].V['out']\n",
    "model.V_between_con = pe.Constraint(model.TRAY,rule=V_between_rule)\n",
    "\n",
    "def Vy_between_rule(model,j,i):\n",
    "    if j == model.TRAY.last(): return pe.Constraint.Skip\n",
    "    return model.reactive[j].y_['in',i] == model.reactive[j+1].y[i]\n",
    "model.Vy_between_con = pe.Constraint(model.TRAY,m.COMP_TOTAL,rule=Vy_between_rule)\n",
    "\n",
    "def Vh_between_rule(model,j):\n",
    "    if j == model.TRAY.last(): return pe.Constraint.Skip\n",
    "    return model.reactive[j].H_V_['in'] == model.reactive[j+1].H_V\n",
    "model.Vh_between_con = pe.Constraint(model.TRAY,rule=Vh_between_rule)"
   ]
  },
  {
   "cell_type": "markdown",
   "metadata": {},
   "source": [
    "### Liquid Between Reactive Stages"
   ]
  },
  {
   "cell_type": "code",
   "execution_count": 7,
   "metadata": {},
   "outputs": [],
   "source": [
    "def L_between_rule(model,j):\n",
    "    if j == model.TRAY.last(): return pe.Constraint.Skip\n",
    "    return model.reactive[j+1].L['in'] == model.reactive[j].L['out']\n",
    "model.L_between_con = pe.Constraint(model.TRAY,rule=L_between_rule)\n",
    "\n",
    "def Lx_between_rule(model,j,i):\n",
    "    if j == model.TRAY.last(): return pe.Constraint.Skip\n",
    "    return model.reactive[j+1].x_['in',i] == model.reactive[j].x[i]\n",
    "model.Ly_between_con = pe.Constraint(model.TRAY,m.COMP_TOTAL,rule=Lx_between_rule)\n",
    "\n",
    "def Lh_between_rule(model,j):\n",
    "    if j == model.TRAY.last(): return pe.Constraint.Skip\n",
    "    return model.reactive[j+1].H_L_['in'] == model.reactive[j].H_L\n",
    "model.Lh_between_con = pe.Constraint(model.TRAY,rule=Lh_between_rule)"
   ]
  },
  {
   "cell_type": "markdown",
   "metadata": {},
   "source": [
    "### Condenser"
   ]
  },
  {
   "cell_type": "code",
   "execution_count": 8,
   "metadata": {},
   "outputs": [],
   "source": [
    "def V_condenser_rule(model):\n",
    "    return model.reactive[model.TRAY.first()].V['out'] == model.condenser.V['in']\n",
    "model.V_condenser_con = pe.Constraint(rule=V_condenser_rule)\n",
    "\n",
    "def Vy_condenser_rule(model,i):\n",
    "    return model.reactive[model.TRAY.first()].y[i] == model.condenser.y_['in',i]\n",
    "model.Vy_condenser_con = pe.Constraint(m.COMP_TOTAL,rule=Vy_condenser_rule)\n",
    "\n",
    "def Vh_condenser_rule(model):\n",
    "    return model.reactive[model.TRAY.first()].H_V == model.condenser.H_V_['in']\n",
    "model.Vh_condenser_con = pe.Constraint(rule=Vh_condenser_rule)"
   ]
  },
  {
   "cell_type": "code",
   "execution_count": 9,
   "metadata": {},
   "outputs": [],
   "source": [
    "def L_condenser_rule(model):\n",
    "    return model.reactive[model.TRAY.first()].L['in'] == model.condenser.L['out']\n",
    "model.L_condenser_con = pe.Constraint(rule=L_condenser_rule)\n",
    "\n",
    "def Lx_condenser_rule(model,i):\n",
    "    return model.reactive[model.TRAY.first()].x_['in',i] == model.condenser.x[i]\n",
    "model.Lx_condenser_con = pe.Constraint(m.COMP_TOTAL,rule=Lx_condenser_rule)\n",
    "\n",
    "def Lh_condenser_rule(model):\n",
    "    return model.reactive[model.TRAY.first()].H_L_['in'] == model.condenser.H_L\n",
    "model.Lh_condenser_con = pe.Constraint(rule=Lh_condenser_rule)"
   ]
  },
  {
   "cell_type": "code",
   "execution_count": 10,
   "metadata": {},
   "outputs": [],
   "source": [
    "model.obj = pe.Objective(expr = sum(model.reactive[j].T for j in model.TRAY) ,sense=pe.maximize)"
   ]
  },
  {
   "cell_type": "markdown",
   "metadata": {},
   "source": [
    "# Load from single stage solutions"
   ]
  },
  {
   "cell_type": "code",
   "execution_count": 11,
   "metadata": {},
   "outputs": [],
   "source": [
    "with open('../saved_solutions/1_stage_condenser_adiabatic.pickle', 'rb') as f:\n",
    "    results_imported = pickle.load(f)\n",
    "results_changed = results_imported"
   ]
  },
  {
   "cell_type": "markdown",
   "metadata": {},
   "source": [
    "### Duplicate variable solution and bounds multiplier"
   ]
  },
  {
   "cell_type": "code",
   "execution_count": 12,
   "metadata": {},
   "outputs": [],
   "source": [
    "for i in list(results_imported.Solution.Variable.keys()):\n",
    "    if i.startswith('reactive[1].'):\n",
    "        for j in model.TRAY:\n",
    "            if j != 1:\n",
    "                results_changed.Solution.Variable[i.replace('reactive[1].','reactive[{}].'.format(j))] = \\\n",
    "                results_imported.Solution.Variable[i]"
   ]
  },
  {
   "cell_type": "markdown",
   "metadata": {},
   "source": [
    "### Duplicate constraint multiplier"
   ]
  },
  {
   "cell_type": "code",
   "execution_count": 13,
   "metadata": {},
   "outputs": [],
   "source": [
    "for i in list(results_changed.Solution.Constraint.keys()):\n",
    "    if i.startswith('reactive[1].'):\n",
    "        for j in model.TRAY:\n",
    "            if j != 1:\n",
    "                results_changed.Solution.Constraint[i.replace('reactive[1].','reactive[{}].'.format(j))] = \\\n",
    "                results_imported.Solution.Constraint[i]"
   ]
  },
  {
   "cell_type": "markdown",
   "metadata": {},
   "source": [
    "### Load changed solution into current model"
   ]
  },
  {
   "cell_type": "code",
   "execution_count": 14,
   "metadata": {},
   "outputs": [],
   "source": [
    "model.solutions.load_from(results_changed)"
   ]
  },
  {
   "cell_type": "markdown",
   "metadata": {},
   "source": [
    "# Fixing Redundent Stream Variables"
   ]
  },
  {
   "cell_type": "code",
   "execution_count": 15,
   "metadata": {},
   "outputs": [],
   "source": [
    "# condenser\n",
    "model.condenser.VLE_block.n_ave.fix(4)\n",
    "\n",
    "model.condenser.F.fix(0)\n",
    "model.condenser.T_F.fix(300+273.15)\n",
    "model.condenser.z.fix(0)\n",
    "\n",
    "model.condenser.V['P'].fix(0)\n",
    "model.condenser.L['in'].fix(0)\n",
    "for i in m.COMP_TOTAL: model.condenser.x_['in',i].fix(0)\n",
    "model.condenser.H_L_['in'].fix(0)"
   ]
  },
  {
   "cell_type": "code",
   "execution_count": 16,
   "metadata": {},
   "outputs": [],
   "source": [
    "# 'reboiler' fixing last stage V_in\n",
    "\n",
    "model.reactive[model.TRAY.last()].V['in'].fix(0)\n",
    "for i in m.COMP_TOTAL: model.reactive[model.TRAY.last()].y_['in',i].fix(0)\n",
    "model.reactive[model.TRAY.last()].H_V_['in'].fix(0)"
   ]
  },
  {
   "cell_type": "markdown",
   "metadata": {},
   "source": [
    "# Load Operating Parameters"
   ]
  },
  {
   "cell_type": "code",
   "execution_count": 17,
   "metadata": {},
   "outputs": [],
   "source": [
    "# condenser\n",
    "model.condenser.P.fix(19)\n",
    "# model.condenser.T.fix(30+273.15)\n",
    "model.condenser.T.fix(30+273.15)\n",
    "model.condenser.L['out'].fix(0)\n",
    "\n",
    "# reactive stage\n",
    "for j in model.reactive:\n",
    "    model.reactive[j].cat.fix(5000)\n",
    "    model.reactive[j].P.fix(20)\n",
    "    model.reactive[j].VLE_block.n_ave.fix(20)\n",
    "    \n",
    "    model.reactive[j].F.fix(1)\n",
    "    model.reactive[j].T_F.fix(200+273.15)\n",
    "    model.reactive[j].z['CO'].fix(1/(1+2))\n",
    "    model.reactive[j].z['H2'].fix(2/(1+2))\n",
    "    model.reactive[j].z['C30H62'].fix(0)\n",
    "    model.reactive[j].V['P'].fix(0)\n",
    "    model.reactive[j].L['P'].fix(0)\n",
    "    # model.reactive[j].Q_main.fix(0)\n",
    "    model.reactive[j].T.setub(240+273.15)"
   ]
  },
  {
   "cell_type": "code",
   "execution_count": 18,
   "metadata": {
    "scrolled": true
   },
   "outputs": [
    {
     "name": "stdout",
     "output_type": "stream",
     "text": [
      "Active Equality Constraints:\t 4986\n",
      "Active Inequality Constraints:\t 0\n",
      "Active Variables:\t\t 5191\n",
      "Fixed Variables:\t\t 202\n",
      "DOF:\t\t\t\t 3\n"
     ]
    }
   ],
   "source": [
    "check_DOF(pe,model)"
   ]
  },
  {
   "cell_type": "code",
   "execution_count": 19,
   "metadata": {},
   "outputs": [],
   "source": [
    "opt = pe.SolverFactory('ipopt')\n",
    "opt.options['print_user_options'] = 'yes'\n",
    "opt.options['linear_solver'] = 'ma86'\n",
    "# opt.options['nlp_scaling_method'] = None\n",
    "# opt.options['constr_viol_tol'] = 1e-7\n",
    "# opt.options['acceptable_constr_viol_tol'] = 1e-7\n",
    "opt.options['max_iter'] = 7000\n",
    "# opt.options['dual_inf_tol'] = '+inf'\n",
    "# opt.options['acceptable_dual_inf_tol'] = '+inf'"
   ]
  },
  {
   "cell_type": "code",
   "execution_count": 20,
   "metadata": {},
   "outputs": [
    {
     "name": "stdout",
     "output_type": "stream",
     "text": [
      "Created the follow pyomo suffixes:\n",
      "ipopt_zL_out, ipopt_zU_out, ipopt_zL_in, ipopt_zU_in, dual\n"
     ]
    }
   ],
   "source": [
    "add_dual(pe,model)\n",
    "update_dual(pe,model)"
   ]
  },
  {
   "cell_type": "code",
   "execution_count": 21,
   "metadata": {
    "scrolled": true
   },
   "outputs": [
    {
     "name": "stdout",
     "output_type": "stream",
     "text": [
      "Ipopt 3.12.8: print_user_options=yes\n",
      "linear_solver=ma86\n",
      "max_iter=7000\n",
      "\n",
      "\n",
      "List of user-set options:\n",
      "\n",
      "                                    Name   Value                used\n",
      "                           linear_solver = ma86                  yes\n",
      "                                max_iter = 7000                  yes\n",
      "                      print_user_options = yes                   yes\n",
      "\n",
      "******************************************************************************\n",
      "This program contains Ipopt, a library for large-scale nonlinear optimization.\n",
      " Ipopt is released as open source code under the Eclipse Public License (EPL).\n",
      "         For more information visit http://projects.coin-or.org/Ipopt\n",
      "******************************************************************************\n",
      "\n",
      "This is Ipopt version 3.12.8, running with linear solver ma86.\n",
      "\n",
      "Number of nonzeros in equality constraint Jacobian...:    16286\n",
      "Number of nonzeros in inequality constraint Jacobian.:        0\n",
      "Number of nonzeros in Lagrangian Hessian.............:    17351\n",
      "\n",
      "Total number of variables............................:     4989\n",
      "                     variables with only lower bounds:      833\n",
      "                variables with lower and upper bounds:     3553\n",
      "                     variables with only upper bounds:        0\n",
      "Total number of equality constraints.................:     4986\n",
      "Total number of inequality constraints...............:        0\n",
      "        inequality constraints with only lower bounds:        0\n",
      "   inequality constraints with lower and upper bounds:        0\n",
      "        inequality constraints with only upper bounds:        0\n",
      "\n",
      "iter    objective    inf_pr   inf_du lg(mu)  ||d||  lg(rg) alpha_du alpha_pr  ls\n",
      "   0 -1.5382500e+03 1.08e+04 1.00e+00  -1.0 0.00e+00    -  0.00e+00 0.00e+00   0\n",
      "   1 -1.5383070e+03 1.08e+04 8.51e+05  -1.0 3.64e+04    -  5.44e-04 4.43e-04h  1\n",
      "   2 -1.5383022e+03 1.08e+04 8.58e+05  -1.0 9.31e+04    -  3.27e-04 1.88e-05h  1\n",
      "   3 -1.5382792e+03 1.08e+04 8.53e+05  -1.0 1.15e+05    -  5.83e-05 6.40e-05h  1\n",
      "   4 -1.5382099e+03 1.08e+04 1.52e+06  -1.0 1.22e+05    -  1.35e-04 2.70e-04f  1\n",
      "   5 -1.5381939e+03 1.08e+04 1.59e+06  -1.0 1.28e+05    -  4.35e-04 8.47e-05h  1\n",
      "   6 -1.5381985e+03 1.08e+04 1.61e+06  -1.0 1.71e+05    -  6.93e-05 1.69e-05h  1\n",
      "   7 -1.5382121e+03 1.08e+04 1.82e+06  -1.0 2.05e+05    -  3.33e-07 4.54e-05f  1\n",
      "   8 -1.5382220e+03 1.08e+04 2.05e+06  -1.0 3.33e+05    -  5.72e-05 2.84e-05h  1\n",
      "   9 -1.5382887e+03 1.08e+04 1.97e+07  -1.0 6.20e+05    -  1.65e-07 1.48e-04h  1\n",
      "iter    objective    inf_pr   inf_du lg(mu)  ||d||  lg(rg) alpha_du alpha_pr  ls\n",
      "  10 -1.5382884e+03 1.08e+04 1.97e+07  -1.0 8.21e+05    -  1.08e-06 7.15e-06f  1\n",
      "  11r-1.5382884e+03 1.08e+04 9.99e+02   3.7 0.00e+00    -  0.00e+00 2.65e-08R  2\n",
      "  12r-1.5382884e+03 1.08e+04 1.06e+03   3.7 2.26e+05    -  4.99e-05 1.56e-08f  1\n",
      "  13r-1.5393830e+03 1.07e+04 9.98e+02   0.2 3.15e+05    -  8.26e-03 1.25e-04f  1\n",
      "  14r-1.5394448e+03 5.07e+03 9.97e+02   0.2 2.81e+06    -  1.26e-03 2.00e-03f  1\n",
      "  15r-1.5394448e+03 5.07e+03 9.99e+02   3.4 0.00e+00    -  0.00e+00 3.61e-07R  4\n",
      "  16r-1.5394448e+03 5.07e+03 9.99e+02   3.4 2.59e+05    -  5.75e-05 1.18e-11f  1\n",
      "  17r-1.5394498e+03 5.05e+03 9.99e+02   0.6 2.42e+05    -  4.49e-03 8.26e-05f  1\n",
      "  18r-1.5394498e+03 4.07e+02 9.97e+02   0.6 1.88e+06    -  1.54e-03 2.66e-03f  1\n",
      "  19r-1.5394498e+03 4.07e+02 9.99e+02   2.3 0.00e+00    -  0.00e+00 3.71e-07R  5\n",
      "iter    objective    inf_pr   inf_du lg(mu)  ||d||  lg(rg) alpha_du alpha_pr  ls\n",
      "  20r-1.5394498e+03 4.07e+02 1.23e+03   2.3 3.66e+04    -  1.90e-03 7.42e-11f  2\n",
      "  21r-1.5394499e+03 3.36e+02 1.23e+03   0.2 2.50e+04    -  2.04e-03 2.33e-03f  1\n",
      "  22r-1.5394499e+03 3.36e+02 9.99e+02   2.1 0.00e+00    -  0.00e+00 2.90e-07R  3\n",
      "  23r-1.5394499e+03 3.36e+02 9.99e+02   2.1 2.74e+04    -  9.60e-04 2.04e-10f  3\n",
      "  24r-1.5394498e+03 3.30e+02 9.98e+02   0.7 2.57e+04    -  1.20e-03 6.05e-04f  1\n",
      "  25r-1.5394498e+03 3.30e+02 9.99e+02   2.0 0.00e+00    -  0.00e+00 2.79e-07R  4\n",
      "  26r-1.5394498e+03 3.30e+02 1.10e+03   2.0 2.73e+04    -  2.67e-03 2.02e-10f  3\n",
      "  27r-1.5394500e+03 2.84e+02 1.10e+03  -0.1 2.27e+04    -  1.95e-03 4.39e-03f  1\n",
      "  28r-1.5394500e+03 2.84e+02 9.99e+02   1.7 0.00e+00    -  0.00e+00 4.49e-07R  2\n",
      "  29r-1.5394500e+03 2.84e+02 9.99e+02   1.7 1.06e+04    -  6.88e-04 4.46e-10f  3\n",
      "iter    objective    inf_pr   inf_du lg(mu)  ||d||  lg(rg) alpha_du alpha_pr  ls\n",
      "  30r-1.5394460e+03 2.57e+02 9.97e+02   1.0 5.26e+03    -  1.06e-03 2.10e-03f  1\n",
      "  31 -1.5394481e+03 2.57e+02 4.09e+00  -1.0 6.60e+03    -  2.66e-05 3.05e-05h  1\n",
      "  32 -1.5394473e+03 2.57e+02 1.03e+01  -1.0 3.71e+04    -  6.38e-06 1.23e-05h  1\n",
      "  33r-1.5394473e+03 2.57e+02 9.99e+02   1.6 0.00e+00    -  0.00e+00 2.58e-07R  6\n",
      "  34r-1.5394472e+03 2.57e+02 9.99e+02   1.6 4.71e+03    -  2.29e-03 1.06e-06f  1\n",
      "  35r-1.5394480e+03 2.04e+02 9.95e+02   0.9 4.52e+03    -  1.68e-03 4.23e-03f  1\n",
      "  36 -1.5394497e+03 2.04e+02 5.60e+01  -1.0 9.31e+03    -  1.90e-05 2.60e-05h  1\n",
      "  37r-1.5394497e+03 2.04e+02 9.99e+02   1.5 0.00e+00    -  0.00e+00 4.52e-07R  4\n",
      "  38r-1.5394497e+03 2.04e+02 9.99e+02   1.5 5.81e+03    -  2.86e-03 1.63e-07f  2\n",
      "  39r-1.5394460e+03 1.88e+02 9.95e+02   0.8 2.29e+03    -  5.22e-03 3.60e-03f  1\n",
      "iter    objective    inf_pr   inf_du lg(mu)  ||d||  lg(rg) alpha_du alpha_pr  ls\n",
      "  40r-1.5394451e+03 1.68e+02 9.91e+02   0.8 4.08e+03    -  3.80e-03 4.25e-03f  1\n",
      "  41 -1.5394464e+03 1.68e+02 1.68e+01  -1.0 1.34e+04    -  4.11e-05 3.61e-05h  1\n",
      "  42 -1.5394439e+03 1.68e+02 1.11e+01  -1.0 2.18e+04    -  2.54e-05 3.37e-05h  1\n",
      "  43 -1.5394420e+03 1.68e+02 1.26e+02  -1.0 2.18e+04    -  6.41e-05 2.31e-05h  1\n",
      "  44r-1.5394420e+03 1.68e+02 9.99e+02   1.4 0.00e+00    -  0.00e+00 1.17e-07R  2\n",
      "  45r-1.5394416e+03 1.68e+02 9.99e+02   1.4 1.76e+04    -  1.19e-04 3.08e-06f  1\n",
      "  46r-1.5394404e+03 1.68e+02 9.99e+02   1.4 2.43e+03    -  1.07e-03 3.70e-05f  1\n",
      "  47r-1.5394130e+03 1.59e+02 9.96e+02   1.4 2.31e+03    -  3.79e-04 2.91e-03f  1\n",
      "  48r-1.5394187e+03 1.45e+02 9.93e+02   1.4 2.23e+03    -  9.28e-03 3.14e-03f  1\n",
      "  49 -1.5394253e+03 1.45e+02 4.73e+05  -1.0 6.89e+03    -  1.84e-03 8.45e-04h  1\n",
      "iter    objective    inf_pr   inf_du lg(mu)  ||d||  lg(rg) alpha_du alpha_pr  ls\n",
      "  50 -1.5394155e+03 1.45e+02 1.54e+05  -1.0 8.86e+03    -  7.32e-05 8.48e-04h  1\n",
      "  51 -1.5394444e+03 1.45e+02 4.15e+05  -1.0 1.30e+04    -  1.16e-03 5.00e-04h  1\n",
      "  52 -1.5394450e+03 1.45e+02 1.31e+06  -1.0 9.70e+03    -  3.08e-03 6.15e-04h  1\n",
      "  53r-1.5394450e+03 1.45e+02 9.99e+02   1.3 0.00e+00    -  0.00e+00 3.95e-07R  5\n",
      "  54r-1.5394450e+03 1.45e+02 9.99e+02   1.3 2.21e+03    -  3.07e-03 1.05e-06f  1\n",
      "  55r-1.5394438e+03 1.32e+02 9.96e+02   0.6 1.92e+03    -  6.89e-03 2.39e-03f  1\n",
      "  56r-1.5394421e+03 1.03e+02 9.90e+02   0.6 2.32e+03    -  6.41e-03 6.46e-03f  1\n",
      "  57 -1.5394424e+03 1.03e+02 3.41e+03  -1.0 6.21e+03    -  2.47e-04 4.67e-05h  1\n",
      "  58 -1.5394423e+03 1.03e+02 3.59e+03  -1.0 1.57e+04    -  2.29e-05 1.22e-05h  1\n",
      "  59 -1.5393863e+03 1.03e+02 1.17e+03  -1.0 2.90e+04    -  2.04e-05 3.01e-04h  1\n",
      "iter    objective    inf_pr   inf_du lg(mu)  ||d||  lg(rg) alpha_du alpha_pr  ls\n",
      "  60r-1.5393863e+03 1.03e+02 9.99e+02   1.2 0.00e+00    -  0.00e+00 3.81e-07R  4\n",
      "  61r-1.5393864e+03 1.03e+02 9.99e+02   1.2 9.03e+03    -  1.87e-04 1.97e-06f  1\n",
      "  62r-1.5394010e+03 1.02e+02 9.98e+02   1.2 8.25e+03    -  1.14e-02 3.37e-04f  1\n",
      "  63r-1.5394222e+03 8.96e+01 1.55e+03   0.5 8.44e+02    -  3.41e-02 3.72e-03f  1\n",
      "  64 -1.5394222e+03 8.96e+01 9.22e+03  -1.0 2.74e+03    -  3.37e-04 3.54e-05h  1\n",
      "  65 -1.5394193e+03 8.96e+01 1.11e+04  -1.0 4.14e+04    -  7.60e-05 1.58e-05h  1\n",
      "  66 -1.5393346e+03 8.96e+01 6.04e+03  -1.0 5.67e+04    -  6.90e-05 2.33e-04f  1\n",
      "  67r-1.5393346e+03 8.96e+01 9.99e+02   1.1 0.00e+00    -  0.00e+00 4.88e-07R  3\n",
      "  68r-1.5393347e+03 8.96e+01 9.99e+02   1.1 8.79e+03    -  1.44e-04 9.74e-07f  2\n",
      "  69r-1.5393842e+03 8.68e+01 9.97e+02   1.1 8.58e+03    -  1.67e-02 1.01e-03f  1\n",
      "iter    objective    inf_pr   inf_du lg(mu)  ||d||  lg(rg) alpha_du alpha_pr  ls\n",
      "  70r-1.5394385e+03 6.57e+01 1.61e+03   0.4 1.14e+03    -  3.21e-02 7.07e-03f  1\n",
      "  71 -1.5394387e+03 6.57e+01 1.54e+04  -1.0 3.60e+03    -  5.81e-04 6.96e-05h  1\n",
      "  72r-1.5394387e+03 6.57e+01 9.99e+02   1.0 0.00e+00    -  0.00e+00 4.07e-07R  4\n",
      "  73r-1.5394386e+03 6.57e+01 9.99e+02   1.0 1.40e+03    -  6.38e-04 2.64e-06f  1\n",
      "  74r-1.5394197e+03 6.14e+01 9.97e+02   1.0 1.05e+03    -  1.87e-02 1.28e-03f  1\n",
      "  75r-1.5394231e+03 2.13e+01 9.81e+02   0.3 4.87e+02    -  2.11e-02 1.50e-02f  1\n",
      "  76 -1.5394245e+03 2.13e+01 1.52e+04  -1.0 2.31e+03    -  3.06e-05 3.26e-04f  1\n"
     ]
    },
    {
     "name": "stdout",
     "output_type": "stream",
     "text": [
      "  77r-1.5394245e+03 2.13e+01 9.99e+02   0.5 0.00e+00    -  0.00e+00 4.92e-07R  4\n",
      "  78r-1.5394245e+03 2.12e+01 9.98e+02   0.5 1.13e+03    -  1.13e-02 5.06e-06f  1\n",
      "  79r-1.5394167e+03 2.33e+00 9.90e+02   0.5 9.06e+02    -  6.40e-03 8.21e-03f  1\n",
      "iter    objective    inf_pr   inf_du lg(mu)  ||d||  lg(rg) alpha_du alpha_pr  ls\n",
      "  80 -1.5394214e+03 2.32e+00 1.91e+03  -1.0 1.83e+03    -  3.15e-04 8.69e-04f  1\n",
      "  81 -1.5394215e+03 2.32e+00 4.34e+03  -1.0 2.23e+03    -  1.83e-03 1.21e-05h  1\n",
      "  82 -1.5394228e+03 2.32e+00 4.49e+03  -1.0 2.12e+04    -  7.06e-05 2.61e-05h  1\n",
      "  83 -1.5392044e+03 2.32e+00 2.53e+03  -1.0 5.79e+04    -  3.63e-05 6.06e-04h  1\n",
      "  84 -1.5390777e+03 2.32e+00 6.81e+03  -1.0 7.15e+04    -  1.52e-03 2.72e-04h  1\n",
      "  85 -1.5387723e+03 2.32e+00 1.11e+04  -1.0 7.77e+04    -  1.34e-03 5.98e-04h  1\n",
      "  86r-1.5387723e+03 2.32e+00 9.99e+02   0.1 0.00e+00    -  0.00e+00 3.59e-07R  5\n",
      "  87r-1.5387741e+03 2.31e+00 1.00e+03   0.1 5.41e+03    -  1.20e-02 5.23e-05f  1\n",
      "  88r-1.5389615e+03 1.32e+00 9.92e+02   0.1 3.22e+03    -  8.82e-03 8.84e-03f  1\n",
      "  89r-1.5392868e+03 2.31e+00 9.77e+02   0.1 2.32e+03    -  3.47e-02 2.13e-02f  1\n",
      "iter    objective    inf_pr   inf_du lg(mu)  ||d||  lg(rg) alpha_du alpha_pr  ls\n",
      "  90r-1.5394387e+03 2.47e+00 9.62e+02   0.1 1.46e+03    -  3.78e-02 1.59e-02f  1\n",
      "  91r-1.5394091e+03 2.75e+00 9.08e+03   0.1 2.67e+02    -  5.46e-02 3.54e-02f  1\n",
      "  92r-1.5394139e+03 4.27e+00 7.61e+04   0.1 3.73e+02    -  8.59e-02 3.77e-02f  1\n",
      "  93r-1.5394132e+03 4.29e+00 2.02e+05   0.1 3.52e+02    -  1.44e-01 3.35e-02f  1\n",
      "  94r-1.5394089e+03 6.57e+00 1.85e+05   0.1 4.42e+02    -  1.62e-01 1.24e-01f  1\n",
      "  95r-1.5394084e+03 6.52e+00 7.18e+05   0.1 3.19e+02    -  4.82e-01 9.80e-03f  1\n",
      "  96r-1.5394000e+03 5.64e+00 6.98e+05   0.1 1.35e+02    -  4.93e-01 1.39e-01f  1\n",
      "  97r-1.5393854e+03 4.34e+00 4.70e+05   0.1 1.70e+02    -  4.50e-01 2.38e-01f  1\n",
      "  98r-1.5393837e+03 4.25e+00 3.65e+05   0.1 4.77e+01    -  6.94e-01 2.02e-02f  1\n",
      "  99r-1.5393257e+03 2.66e+00 2.03e+05   0.1 4.64e+01    -  5.73e-01 4.03e-01f  1\n",
      "iter    objective    inf_pr   inf_du lg(mu)  ||d||  lg(rg) alpha_du alpha_pr  ls\n",
      " 100 -1.5393640e+03 5.72e+01 9.64e+04  -1.0 4.72e+03    -  7.37e-03 2.28e-02f  1\n",
      " 101 -1.5394032e+03 5.71e+01 1.08e+05  -1.0 7.10e+02    -  2.69e-02 3.09e-02h  2\n",
      " 102 -1.5394394e+03 6.70e+01 1.10e+05  -1.0 5.33e+02    -  1.48e-01 7.62e-02H  1\n",
      " 103 -1.5394361e+03 6.52e+01 2.00e+05  -1.0 3.48e+02    -  2.84e-01 7.32e-02h  3\n",
      " 104 -1.5394330e+03 6.11e+01 7.02e+05  -1.0 2.46e+02    -  4.63e-01 9.56e-02h  3\n",
      " 105 -1.5394289e+03 5.50e+01 1.60e+06  -1.0 1.57e+02    -  7.37e-01 1.25e-01h  3\n",
      " 106 -1.5393819e+03 9.77e+00 6.47e+04  -1.0 1.03e+02    -  9.03e-01 9.67e-01H  1\n",
      " 107 -1.5393009e+03 2.42e+00 3.16e+04  -1.0 7.90e+01    -  9.90e-01 9.90e-01h  1\n",
      " 108 -1.5392947e+03 7.61e-02 1.22e+05  -1.0 6.42e+01    -  9.02e-01 9.72e-01h  1\n",
      " 109 -1.5393439e+03 5.80e-03 1.21e+05  -1.0 2.36e+01    -  1.00e+00 9.89e-01h  1\n",
      "iter    objective    inf_pr   inf_du lg(mu)  ||d||  lg(rg) alpha_du alpha_pr  ls\n",
      " 110 -1.5393060e+03 1.26e-04 8.74e+04  -1.0 4.18e+00    -  1.00e+00 1.00e+00h  1\n",
      " 111 -1.5392668e+03 2.36e-04 5.88e+03  -1.0 3.65e+00    -  1.00e+00 1.00e+00h  1\n",
      " 112 -1.5393706e+03 1.46e-03 1.02e+04  -1.7 9.10e+00    -  1.00e+00 1.00e+00f  1\n",
      " 113 -1.5393965e+03 6.81e-05 4.11e+00  -1.7 1.96e+00    -  1.00e+00 1.00e+00h  1\n",
      " 114 -1.5394443e+03 1.53e-04 1.67e+03  -3.8 2.94e+00    -  1.00e+00 1.00e+00f  1\n",
      " 115 -1.5394496e+03 4.63e-06 3.62e-01  -3.8 5.12e-01    -  1.00e+00 1.00e+00h  1\n",
      " 116 -1.5394496e+03 2.84e-10 1.78e-07  -3.8 3.65e-04    -  1.00e+00 1.00e+00h  1\n",
      " 117 -1.5394500e+03 9.05e-09 1.53e-01  -5.7 2.26e-02    -  1.00e+00 1.00e+00f  1\n",
      " 118 -1.5394500e+03 1.42e-10 2.80e-09  -5.7 4.74e-05    -  1.00e+00 1.00e+00h  1\n",
      " 119 -1.5394500e+03 1.43e-10 2.36e-05  -8.6 2.81e-04    -  1.00e+00 1.00e+00h  1\n",
      "iter    objective    inf_pr   inf_du lg(mu)  ||d||  lg(rg) alpha_du alpha_pr  ls\n",
      " 120 -1.5394500e+03 1.42e-10 2.52e-14  -8.6 7.32e-09    -  1.00e+00 1.00e+00h  1\n",
      "\n",
      "Number of Iterations....: 120\n",
      "\n",
      "                                   (scaled)                 (unscaled)\n",
      "Objective...............:  -1.5394500153869822e+03   -1.5394500153869822e+03\n",
      "Dual infeasibility......:   2.5233287681558636e-14    2.5233287681558636e-14\n",
      "Constraint violation....:   1.4198358526222588e-10    1.4198358526222588e-10\n",
      "Complementarity.........:   2.5059035596879063e-09    2.5059035596879063e-09\n",
      "Overall NLP error.......:   2.5059035596879063e-09    2.5059035596879063e-09\n",
      "\n",
      "\n",
      "Number of objective function evaluations             = 208\n",
      "Number of objective gradient evaluations             = 86\n",
      "Number of equality constraint evaluations            = 208\n",
      "Number of inequality constraint evaluations          = 0\n",
      "Number of equality constraint Jacobian evaluations   = 136\n",
      "Number of inequality constraint Jacobian evaluations = 0\n",
      "Number of Lagrangian Hessian evaluations             = 120\n",
      "Total CPU secs in IPOPT (w/o function evaluations)   =     38.964\n",
      "Total CPU secs in NLP function evaluations           =      1.209\n",
      "\n",
      "EXIT: Optimal Solution Found.\n"
     ]
    }
   ],
   "source": [
    "results = opt.solve(model,tee=True)"
   ]
  },
  {
   "cell_type": "code",
   "execution_count": 22,
   "metadata": {},
   "outputs": [],
   "source": [
    "update_dual(pe,model)"
   ]
  },
  {
   "cell_type": "code",
   "execution_count": 23,
   "metadata": {
    "scrolled": false
   },
   "outputs": [
    {
     "name": "stdout",
     "output_type": "stream",
     "text": [
      "Here comes the result:\n",
      "----------------------------------------------------------------------------------------------------\n",
      "\t\tT\t\t Q\t\t\t V\t\t\t L\n",
      "               30.00 \t       -52.0845253731 \t         0.3869491393 \t         0.0000000000\n",
      "              240.00 \t       -46.3197171505 \t         1.2891925483 \t         0.0011185616\n",
      "              240.00 \t       -46.3197171505 \t         0.8594616989 \t         0.0022371232\n",
      "              240.00 \t       -46.3197171505 \t         0.4297308494 \t         0.0033556848\n",
      "----------------------------------------------------------------------------------------------------\n",
      "Top\n",
      "V\t 0.386949139265133\n",
      "L\t 0.09473439425247784\n",
      "W\t 0.807509014830218\n",
      "----------------------------------------------------------------------------------------------------\n",
      "Bottom\n",
      "L\t 0.0033556848383662057\n",
      "----------------------------------------------------------------------------------------------------\n",
      "Condenser:\tVapor\t\tLiquid\t\tLast Stage\tVapor\t\tLiquid\n",
      "H2 \t\t50.198%\t\t0.661%\t\t H2       \t15.115%\t\t0.601%\n",
      "CO \t\t0.900%\t\t0.025%\t\t CO       \t0.272%\t\t0.014%\n",
      "CO2 \t\t23.142%\t\t4.496%\t\t CO2      \t7.276%\t\t0.786%\n",
      "H2O \t\t0.223%\t\t0.000%\t\t H2O      \t62.704%\t\t13.437%\n",
      "C2H4 \t\t4.996%\t\t1.560%\t\t C2H4     \t1.614%\t\t0.217%\n",
      "C3H6 \t\t3.696%\t\t6.182%\t\t C3H6     \t1.564%\t\t0.423%\n",
      "C4H8 \t\t1.678%\t\t9.076%\t\t C4H8     \t1.171%\t\t0.328%\n",
      "C5H10 \t\t0.460%\t\t8.510%\t\t C5H10    \t0.763%\t\t0.417%\n",
      "C6H12 \t\t0.126%\t\t7.660%\t\t C6H12    \t0.601%\t\t0.582%\n",
      "C7H14 \t\t0.033%\t\t6.297%\t\t C7H14    \t0.473%\t\t0.766%\n",
      "C8H16 \t\t0.008%\t\t5.019%\t\t C8H16    \t0.371%\t\t0.967%\n",
      "C9H18 \t\t0.002%\t\t3.958%\t\t C9H18    \t0.291%\t\t1.182%\n",
      "C10H20 \t\t0.001%\t\t3.106%\t\t C10H20   \t0.228%\t\t1.411%\n",
      "C11H22 \t\t0.000%\t\t1.548%\t\t C11H22   \t0.114%\t\t1.051%\n",
      "C12H24 \t\t0.000%\t\t1.206%\t\t C12H24   \t0.089%\t\t1.208%\n",
      "C13H26 \t\t0.000%\t\t0.936%\t\t C13H26   \t0.069%\t\t1.366%\n",
      "C14H28 \t\t0.000%\t\t0.721%\t\t C14H28   \t0.053%\t\t1.520%\n",
      "C15H30 \t\t0.000%\t\t0.552%\t\t C15H30   \t0.041%\t\t1.664%\n",
      "C16H32 \t\t0.000%\t\t0.418%\t\t C16H32   \t0.031%\t\t1.791%\n",
      "C17H34 \t\t0.000%\t\t0.312%\t\t C17H34   \t0.023%\t\t1.891%\n",
      "C18H36 \t\t0.000%\t\t0.229%\t\t C18H36   \t0.017%\t\t1.954%\n",
      "C19H38 \t\t0.000%\t\t0.165%\t\t C19H38   \t0.012%\t\t1.972%\n",
      "C20H40 \t\t0.000%\t\t0.117%\t\t C20H40   \t0.009%\t\t1.939%\n",
      "C1H4 \t\t10.284%\t\t0.868%\t\t C1H4     \t3.150%\t\t0.268%\n",
      "C2H6 \t\t2.554%\t\t1.375%\t\t C2H6     \t0.868%\t\t0.129%\n",
      "C3H8 \t\t0.913%\t\t1.591%\t\t C3H8     \t0.391%\t\t0.105%\n",
      "C4H10 \t\t0.471%\t\t3.102%\t\t C4H10    \t0.369%\t\t0.116%\n",
      "C5H12 \t\t0.231%\t\t5.166%\t\t C5H12    \t0.449%\t\t0.270%\n",
      "C6H14 \t\t0.062%\t\t4.553%\t\t C6H14    \t0.353%\t\t0.374%\n",
      "C7H16 \t\t0.016%\t\t3.716%\t\t C7H16    \t0.278%\t\t0.488%\n",
      "C8H18 \t\t0.004%\t\t2.954%\t\t C8H18    \t0.218%\t\t0.613%\n",
      "C9H20 \t\t0.001%\t\t2.327%\t\t C9H20    \t0.171%\t\t0.747%\n",
      "C10H22 \t\t0.000%\t\t1.825%\t\t C10H22   \t0.134%\t\t0.888%\n",
      "C11H24 \t\t0.000%\t\t2.306%\t\t C11H24   \t0.170%\t\t1.674%\n",
      "C12H26 \t\t0.000%\t\t1.796%\t\t C12H26   \t0.132%\t\t1.919%\n",
      "C13H28 \t\t0.000%\t\t1.392%\t\t C13H28   \t0.102%\t\t2.164%\n",
      "C14H30 \t\t0.000%\t\t1.072%\t\t C14H30   \t0.079%\t\t2.402%\n",
      "C15H32 \t\t0.000%\t\t0.819%\t\t C15H32   \t0.060%\t\t2.623%\n",
      "C16H34 \t\t0.000%\t\t0.619%\t\t C16H34   \t0.045%\t\t2.814%\n",
      "C17H36 \t\t0.000%\t\t0.461%\t\t C17H36   \t0.034%\t\t2.961%\n",
      "C18H38 \t\t0.000%\t\t0.338%\t\t C18H38   \t0.025%\t\t3.048%\n",
      "C19H40 \t\t0.000%\t\t0.243%\t\t C19H40   \t0.018%\t\t3.063%\n",
      "C20H42 \t\t0.000%\t\t0.171%\t\t C20H42   \t0.013%\t\t2.997%\n",
      "C21H44 \t\t0.000%\t\t0.195%\t\t C21H44   \t0.014%\t\t4.764%\n",
      "C22H46 \t\t0.000%\t\t0.131%\t\t C22H46   \t0.010%\t\t4.409%\n",
      "C23H48 \t\t0.000%\t\t0.085%\t\t C23H48   \t0.006%\t\t3.972%\n",
      "C24H50 \t\t0.000%\t\t0.054%\t\t C24H50   \t0.004%\t\t3.489%\n",
      "C25H52 \t\t0.000%\t\t0.034%\t\t C25H52   \t0.003%\t\t2.998%\n",
      "C26H54 \t\t0.000%\t\t0.021%\t\t C26H54   \t0.002%\t\t2.528%\n",
      "C27H56 \t\t0.000%\t\t0.013%\t\t C27H56   \t0.001%\t\t2.099%\n",
      "C28H58 \t\t0.000%\t\t0.008%\t\t C28H58   \t0.001%\t\t1.721%\n",
      "C29H60 \t\t0.000%\t\t0.005%\t\t C29H60   \t0.000%\t\t1.397%\n",
      "C30H62 \t\t0.000%\t\t0.003%\t\t C30H62   \t0.000%\t\t1.126%\n",
      "C31H64 \t\t0.000%\t\t0.002%\t\t C31H64   \t0.000%\t\t0.902%\n"
     ]
    }
   ],
   "source": [
    "beautify2(pe,model)"
   ]
  },
  {
   "cell_type": "code",
   "execution_count": null,
   "metadata": {},
   "outputs": [],
   "source": [
    "model.reactive[1].kinetics_block.r_FT_total.value"
   ]
  },
  {
   "cell_type": "code",
   "execution_count": 24,
   "metadata": {},
   "outputs": [],
   "source": [
    "# model.solutions.store_to(results)\n",
    "# with open('../saved_solutions/3_stage_condenser_240C.pickle','wb') as f:\n",
    "#     pickle.dump(results,f)"
   ]
  },
  {
   "cell_type": "code",
   "execution_count": 25,
   "metadata": {},
   "outputs": [],
   "source": [
    "model.condenser.L['out'].fixed = False\n",
    "for j in model.reactive:\n",
    "    model.reactive[j].T.fixed=True"
   ]
  },
  {
   "cell_type": "code",
   "execution_count": 31,
   "metadata": {},
   "outputs": [],
   "source": [
    "model.del_component(model.obj)\n",
    "model.obj = pe.Objective(expr = model.condenser.L['out'],sense=pe.maximize)"
   ]
  },
  {
   "cell_type": "markdown",
   "metadata": {},
   "source": [
    "# So, what exactly does adding a reflux do?"
   ]
  },
  {
   "cell_type": "code",
   "execution_count": 26,
   "metadata": {},
   "outputs": [],
   "source": [
    "Refluxrange = np.linspace(0,2,21)"
   ]
  },
  {
   "cell_type": "code",
   "execution_count": 30,
   "metadata": {},
   "outputs": [],
   "source": [
    "cd_data = {};\n",
    "cd_data['Re'] = []; cd_data['D'] = []; cd_data['V'] = []\n",
    "cd_data['x'] = {}; cd_data['y'] = {}; cd_data['g'] = {}; cd_data['d'] = {};\n",
    "for i in m.COMP_TOTAL:\n",
    "    cd_data['x'][i] = []\n",
    "    cd_data['y'][i] = []\n",
    "    cd_data['g'][i] = []\n",
    "    cd_data['d'][i] = []\n",
    "    \n",
    "rf_data = {}\n",
    "for j in model.reactive:\n",
    "    rf_data[j] = {}\n",
    "    rf_data[j]['r'] = {}; rf_data[j]['b'] = {}; rf_data[j]['x'] = {};rf_data[j]['y'] = {};\n",
    "    rf_data[j]['T'] = []; rf_data[j]['Q'] = []; rf_data[j]['V'] = []; rf_data[j]['L'] = []; \n",
    "    rf_data[j]['r_WGS'] = []; rf_data[j]['r_FT'] = []\n",
    "    for i in m.COMP_TOTAL:\n",
    "        rf_data[j]['r'][i] = []\n",
    "        rf_data[j]['b'][i] = []\n",
    "        rf_data[j]['x'][i] = []\n",
    "        rf_data[j]['y'][i] = []       "
   ]
  },
  {
   "cell_type": "code",
   "execution_count": 33,
   "metadata": {},
   "outputs": [
    {
     "name": "stdout",
     "output_type": "stream",
     "text": [
      "Solved\t|Reflux = 0.000 kmol/s\t|Vapor = 0.387 kmol/s\t|Distillate = 0.095 kmol/s\t|Bottom = 0.003 kmol/s\n",
      "Solved\t|Reflux = 0.100 kmol/s\t|Vapor = 0.393 kmol/s\t|Distillate = 0.091 kmol/s\t|Bottom = 0.006 kmol/s\n",
      "Solved\t|Reflux = 0.200 kmol/s\t|Vapor = 0.399 kmol/s\t|Distillate = 0.088 kmol/s\t|Bottom = 0.009 kmol/s\n",
      "Solved\t|Reflux = 0.300 kmol/s\t|Vapor = 0.405 kmol/s\t|Distillate = 0.085 kmol/s\t|Bottom = 0.011 kmol/s\n",
      "Solved\t|Reflux = 0.400 kmol/s\t|Vapor = 0.411 kmol/s\t|Distillate = 0.082 kmol/s\t|Bottom = 0.013 kmol/s\n",
      "Solved\t|Reflux = 0.500 kmol/s\t|Vapor = 0.417 kmol/s\t|Distillate = 0.079 kmol/s\t|Bottom = 0.015 kmol/s\n",
      "Solved\t|Reflux = 0.600 kmol/s\t|Vapor = 0.422 kmol/s\t|Distillate = 0.077 kmol/s\t|Bottom = 0.017 kmol/s\n",
      "Solved\t|Reflux = 0.700 kmol/s\t|Vapor = 0.428 kmol/s\t|Distillate = 0.075 kmol/s\t|Bottom = 0.018 kmol/s\n",
      "Solved\t|Reflux = 0.800 kmol/s\t|Vapor = 0.433 kmol/s\t|Distillate = 0.073 kmol/s\t|Bottom = 0.019 kmol/s\n",
      "Solved\t|Reflux = 0.900 kmol/s\t|Vapor = 0.438 kmol/s\t|Distillate = 0.071 kmol/s\t|Bottom = 0.021 kmol/s\n",
      "Solved\t|Reflux = 1.000 kmol/s\t|Vapor = 0.442 kmol/s\t|Distillate = 0.070 kmol/s\t|Bottom = 0.022 kmol/s\n",
      "Solved\t|Reflux = 1.100 kmol/s\t|Vapor = 0.447 kmol/s\t|Distillate = 0.068 kmol/s\t|Bottom = 0.023 kmol/s\n",
      "Solved\t|Reflux = 1.200 kmol/s\t|Vapor = 0.451 kmol/s\t|Distillate = 0.067 kmol/s\t|Bottom = 0.023 kmol/s\n",
      "Solved\t|Reflux = 1.300 kmol/s\t|Vapor = 0.456 kmol/s\t|Distillate = 0.066 kmol/s\t|Bottom = 0.024 kmol/s\n",
      "Solved\t|Reflux = 1.400 kmol/s\t|Vapor = 0.460 kmol/s\t|Distillate = 0.064 kmol/s\t|Bottom = 0.025 kmol/s\n",
      "Solved\t|Reflux = 1.500 kmol/s\t|Vapor = 0.464 kmol/s\t|Distillate = 0.063 kmol/s\t|Bottom = 0.026 kmol/s\n",
      "Solved\t|Reflux = 1.600 kmol/s\t|Vapor = 0.468 kmol/s\t|Distillate = 0.062 kmol/s\t|Bottom = 0.026 kmol/s\n",
      "Solved\t|Reflux = 1.700 kmol/s\t|Vapor = 0.472 kmol/s\t|Distillate = 0.061 kmol/s\t|Bottom = 0.027 kmol/s\n",
      "Solved\t|Reflux = 1.800 kmol/s\t|Vapor = 0.476 kmol/s\t|Distillate = 0.060 kmol/s\t|Bottom = 0.027 kmol/s\n",
      "Solved\t|Reflux = 1.900 kmol/s\t|Vapor = 0.479 kmol/s\t|Distillate = 0.059 kmol/s\t|Bottom = 0.028 kmol/s\n",
      "Solved\t|Reflux = 2.000 kmol/s\t|Vapor = 0.483 kmol/s\t|Distillate = 0.058 kmol/s\t|Bottom = 0.028 kmol/s\n"
     ]
    }
   ],
   "source": [
    "for re in Refluxrange:\n",
    "    # model.condenser.L['out'].fixed = False\n",
    "    model.condenser.L['out'].setub(re)\n",
    "    # model.reactive[1].T.fix(t)\n",
    "    results = opt.solve(model,tee=False)\n",
    "    update_dual(pe,model)\n",
    "    print('Solved\\t|Reflux = {:.3f} kmol/s\\t|Vapor = {:.3f} kmol/s\\t|Distillate = {:.3f} kmol/s\\t|Bottom = {:.3f} kmol/s'.\\\n",
    "          format(model.condenser.L['out'].value,model.condenser.V['out'].value,model.condenser.L['P'].value,model.reactive[3].L['out'].value))\n",
    "\n",
    "    cd_data['V'].append(model.condenser.V['out'].value)\n",
    "    cd_data['D'].append(model.condenser.L['P'].value)\n",
    "    cd_data['Re'].append(model.condenser.L['out'].value)\n",
    "\n",
    "    for i in model.reactive[1].r_total_comp:\n",
    "        cd_data['x'][i].append(model.condenser.x[i].value)\n",
    "        cd_data['y'][i].append(model.condenser.y[i].value)\n",
    "        cd_data['g'][i].append(model.condenser.y[i].value*model.condenser.V['out'].value)\n",
    "        cd_data['d'][i].append(model.condenser.x[i].value*model.condenser.L['P'].value)\n",
    "    \n",
    "    for j in model.reactive:      \n",
    "        rf_data[j]['T'].append(model.reactive[j].T.value)\n",
    "        rf_data[j]['Q'].append(model.reactive[j].Q_main.value)\n",
    "        rf_data[j]['V'].append(model.reactive[j].V['out'].value)\n",
    "        rf_data[j]['L'].append(model.reactive[j].L['out'].value)\n",
    "        rf_data[j]['r_WGS'].append(model.reactive[j].kinetics_block.r_WGS.value)\n",
    "        rf_data[j]['r_FT'].append(model.reactive[j].kinetics_block.r_FT_total.value)\n",
    "\n",
    "        for i in model.reactive[1].r_total_comp:\n",
    "            rf_data[j]['r'][i].append(model.reactive[j].r_total_comp[i].value)\n",
    "            rf_data[j]['b'][i].append(model.reactive[j].x[i].value*model.reactive[j].L['out'].value)\n",
    "            rf_data[j]['x'][i].append(model.reactive[j].x[i].value)\n",
    "            rf_data[j]['y'][i].append(model.reactive[j].y[i].value)"
   ]
  },
  {
   "cell_type": "code",
   "execution_count": 47,
   "metadata": {},
   "outputs": [],
   "source": [
    "cnumber_range = range(1,57)"
   ]
  },
  {
   "cell_type": "code",
   "execution_count": 39,
   "metadata": {},
   "outputs": [],
   "source": [
    "def trans_cnumber(dic):\n",
    "    molefraction = {}\n",
    "    for i in range(1,57):\n",
    "        molefraction[i] = []\n",
    "    for i in m.COMP_ORG:\n",
    "        molefraction[cal_cnumber(i)].append(np.array(dic[i]))\n",
    "    for i in range(1,57):\n",
    "        molefraction[i] = np.sum(molefraction[i],0)\n",
    "    length = len(molefraction[1])\n",
    "    tmp = {}\n",
    "    for j in range(length):\n",
    "        tmp[j] = []\n",
    "        for i in range(1,57):\n",
    "            tmp[j].append(molefraction[i][j])\n",
    "    return tmp"
   ]
  },
  {
   "cell_type": "code",
   "execution_count": 60,
   "metadata": {},
   "outputs": [],
   "source": [
    "g_data = trans_cnumber(cd_data['g'])\n",
    "d_data = trans_cnumber(cd_data['d'])\n",
    "b_data = trans_cnumber(rf_data[3]['b'])\n",
    "# r_data = trans_cnumber(rf_data_master[t]['r'])\n",
    "\n",
    "cd_x_data = trans_cnumber(cd_data['x'])\n",
    "rf_x_data = {}\n",
    "for j in model.reactive:\n",
    "    rf_x_data[j] = trans_cnumber(rf_data[j]['x'])"
   ]
  },
  {
   "cell_type": "code",
   "execution_count": 76,
   "metadata": {},
   "outputs": [],
   "source": [
    " def plot_distribution(index):\n",
    "    fig, (ax,ax2) = plt.subplots(2,1,figsize=(16,12))\n",
    "    ax.plot(cnumber_range,g_data[index],'co-')\n",
    "    ax.plot(cnumber_range,d_data[index],'go-')\n",
    "    ax.plot(cnumber_range,b_data[index],'ro-')\n",
    "    ax.set_yscale(\"log\")\n",
    "    ax.set_ylim(1e-12, 1)\n",
    "    ax.legend(['Vapor','Distillate','Bottom'],fontsize=18)\n",
    "    ax.set_title('T, Reflux {:.2f} kmol/s'.format(cd_data['Re'][index]),fontsize=18)\n",
    "\n",
    "    ax.set_ylabel('Molar Flow (kmol/s)', color='K',fontsize=18)\n",
    "    ax.set_xlabel('Carbon Number', color='K',fontsize=18)\n",
    "    # ax.tick_params('y', colors='k',labelsize=18)\n",
    "    # ax.tick_params('x', colors='k',labelsize=18)\n",
    "\n",
    "    ax2.plot(cnumber_range,cd_x_data[index],'go-')\n",
    "    ax2.plot(cnumber_range,rf_x_data[1][index],'co-')\n",
    "    ax2.plot(cnumber_range,rf_x_data[2][index],'bo-')\n",
    "    ax2.plot(cnumber_range,rf_x_data[3][index],'ro-')\n",
    "\n",
    "    ax2.set_ylim(0, 0.2)\n",
    "    ax2.legend(['Condenser','Stage 1','Stage 2','Stage 3'],fontsize=18)\n",
    "    ax2.set_title('Liquid Composition (Mole)',fontsize=18)\n",
    "\n",
    "    ax2.set_ylabel('Molar Fraction', color='K',fontsize=18)\n",
    "    ax2.set_xlabel('Carbon Number', color='K',fontsize=18)\n",
    "\n",
    "    ax.grid()\n",
    "    ax2.grid()\n",
    "    plt.show()"
   ]
  },
  {
   "cell_type": "code",
   "execution_count": 77,
   "metadata": {
    "scrolled": false
   },
   "outputs": [
    {
     "data": {
      "application/vnd.jupyter.widget-view+json": {
       "model_id": "b68c7a38f5b64f76a27282ef83197b6c",
       "version_major": 2,
       "version_minor": 0
      },
      "text/plain": [
       "interactive(children=(IntSlider(value=0, description='Reflux:', max=20), Output()), _dom_classes=('widget-inte…"
      ]
     },
     "metadata": {},
     "output_type": "display_data"
    }
   ],
   "source": [
    "widgets.interact(plot_distribution, index = widgets.IntSlider(\n",
    "    value=0,\n",
    "    min=0,\n",
    "    max=20,\n",
    "    step=1,\n",
    "    description='Reflux:',)\n",
    ");"
   ]
  },
  {
   "cell_type": "code",
   "execution_count": null,
   "metadata": {},
   "outputs": [],
   "source": []
  }
 ],
 "metadata": {
  "kernelspec": {
   "display_name": "Python 3",
   "language": "python",
   "name": "python3"
  },
  "language_info": {
   "codemirror_mode": {
    "name": "ipython",
    "version": 3
   },
   "file_extension": ".py",
   "mimetype": "text/x-python",
   "name": "python",
   "nbconvert_exporter": "python",
   "pygments_lexer": "ipython3",
   "version": "3.6.3"
  }
 },
 "nbformat": 4,
 "nbformat_minor": 2
}
