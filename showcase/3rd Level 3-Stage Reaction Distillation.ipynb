{
 "cells": [
  {
   "cell_type": "markdown",
   "metadata": {},
   "source": [
    "# 3rd Level Model Structure: Single Stage Reactive Distillation"
   ]
  },
  {
   "cell_type": "code",
   "execution_count": 1,
   "metadata": {},
   "outputs": [],
   "source": [
    "import sys\n",
    "import os\n",
    "import pickle\n",
    "sys.path.append(os.path.abspath('..'))\n",
    "\n",
    "import numpy as np\n",
    "from matplotlib import pyplot as plt\n",
    "import ipywidgets as widgets\n",
    "from copy import deepcopy"
   ]
  },
  {
   "cell_type": "code",
   "execution_count": 2,
   "metadata": {},
   "outputs": [],
   "source": [
    "from pyomo import environ as pe\n",
    "from global_sets.component import m\n",
    "\n",
    "from stages.reactive_stage import reactive_stage_rule\n",
    "from stages.condenser_stage import condenser_stage_rule\n",
    "from stages.non_reactive_stage import non_reactive_stage_rule\n",
    "\n",
    "from utility.display_utility import trans_product_mole, trans_product_mass, beautify, beautify2\n",
    "from utility.model_utility import add_dual, update_dual, check_DOF\n",
    "from utility.data_utility import cal_cnumber\n",
    "\n",
    "model = pe.ConcreteModel()"
   ]
  },
  {
   "cell_type": "markdown",
   "metadata": {},
   "source": [
    "# Global Set"
   ]
  },
  {
   "cell_type": "code",
   "execution_count": 3,
   "metadata": {},
   "outputs": [],
   "source": [
    "model.TRAY = pe.RangeSet(1,1)"
   ]
  },
  {
   "cell_type": "markdown",
   "metadata": {},
   "source": [
    "# Construct Reactive Stages"
   ]
  },
  {
   "cell_type": "code",
   "execution_count": 4,
   "metadata": {
    "scrolled": true
   },
   "outputs": [
    {
     "name": "stdout",
     "output_type": "stream",
     "text": [
      "> Importing Reactive Stage......\n",
      "> Adding the following local variable:\n",
      "------------------------------------\n",
      "| reactive[1].T_F\n",
      "| reactive[1].P\n",
      "| reactive[1].cat\n",
      "| reactive[1].Q_main\n",
      "| reactive[1].x_\n",
      "| reactive[1].y_\n",
      "| reactive[1].x\n",
      "| reactive[1].y\n",
      "| reactive[1].z\n",
      "| reactive[1].L\n",
      "| reactive[1].V\n",
      "| reactive[1].F\n",
      "| reactive[1].H_L_\n",
      "| reactive[1].H_V_\n",
      "| reactive[1].H_L\n",
      "| reactive[1].H_V\n",
      "| reactive[1].T\n",
      "| reactive[1].H_F\n",
      "| reactive[1].f_V\n",
      "| reactive[1].f_L\n",
      "| reactive[1].r_total_comp\n",
      "------------------------------------\n",
      "\n",
      "> Importing Kinetics Blocks......\n",
      "> Adding the following local variable:\n",
      "--------------------------------------------------\n",
      "| reactive[1].kinetics_block.k_FT\n",
      "| reactive[1].kinetics_block.r_FT_total\n",
      "| reactive[1].kinetics_block.g0_FT\n",
      "| reactive[1].kinetics_block.alpha\n",
      "| reactive[1].kinetics_block.r_FT_cnum\n",
      "| reactive[1].kinetics_block.r_FT_comp\n",
      "| reactive[1].kinetics_block.k_WGS\n",
      "| reactive[1].kinetics_block.Ke_WGS\n",
      "| reactive[1].kinetics_block.r_WGS\n",
      "| reactive[1].kinetics_block.r_WGS_comp\n",
      "--------------------------------------------------\n",
      "\n",
      "> Importing Energy Blocks......\n",
      "> Adding the following local variable:\n",
      "--------------------------------------------------\n",
      "| reactive[1].energy_block.dH_F\n",
      "| reactive[1].energy_block.dH_V\n",
      "| reactive[1].energy_block.dH_L\n",
      "| reactive[1].energy_block.dH_vap\n",
      "--------------------------------------------------\n",
      "\n",
      "> Importing VLE Blocks......\n",
      "> Adding the following local variable:\n",
      "--------------------------------------------------\n",
      "| reactive[1].VLE_block.P_VLE\n",
      "| reactive[1].VLE_block.n_ave\n",
      "| reactive[1].VLE_block.n_ave_cal\n",
      "| reactive[1].VLE_block.Hen\n",
      "| reactive[1].VLE_block.Hen0\n",
      "| reactive[1].VLE_block.gamma\n",
      "| reactive[1].VLE_block.P_sat\n",
      "| reactive[1].VLE_block.P_sat_Y\n",
      "| reactive[1].VLE_block.P_sat_dY_inf\n",
      "| reactive[1].VLE_block.P_sat_dY0\n",
      "| reactive[1].VLE_block.Hen_ref\n",
      "| reactive[1].VLE_block.Hen0_ref\n",
      "| reactive[1].VLE_block.gamma_ref\n",
      "| reactive[1].VLE_block.V_L\n",
      "| reactive[1].VLE_block.V_L_dY_inf\n",
      "| reactive[1].VLE_block.V_L_dY0\n",
      "| reactive[1].VLE_block.poynting\n",
      "--------------------------------------------------\n",
      "\n",
      "> Importing MPCC_P_Reg Blocks......\n",
      "> Adding the following local variable:\n",
      "--------------------------------------------------\n",
      "| reactive[1].MPCC.s_L\n",
      "| reactive[1].MPCC.s_V\n",
      "| reactive[1].MPCC.pf\n",
      "| reactive[1].MPCC.rho\n",
      "--------------------------------------------------\n",
      "> Spliting pressure used in VLE\n",
      "\n"
     ]
    }
   ],
   "source": [
    "model.reactive = pe.Block(model.TRAY,rule=reactive_stage_rule)"
   ]
  },
  {
   "cell_type": "markdown",
   "metadata": {
    "collapsed": true
   },
   "source": [
    "# Construct a single condenser"
   ]
  },
  {
   "cell_type": "code",
   "execution_count": 5,
   "metadata": {
    "scrolled": true
   },
   "outputs": [
    {
     "name": "stdout",
     "output_type": "stream",
     "text": [
      "| Importing Condenser Stage......\n",
      "| Adding the following local variable:\n",
      "------------------------------------\n",
      "| condenser.T\n",
      "| condenser.T_F\n",
      "| condenser.P\n",
      "| condenser.Q_main\n",
      "| condenser.x_\n",
      "| condenser.y_\n",
      "| condenser.x\n",
      "| condenser.y\n",
      "| condenser.z\n",
      "| condenser.L\n",
      "| condenser.W\n",
      "| condenser.V\n",
      "| condenser.F\n",
      "| condenser.H_L_\n",
      "| condenser.H_V_\n",
      "| condenser.H_L\n",
      "| condenser.H_V\n",
      "| condenser.H_F\n",
      "| condenser.f_V\n",
      "| condenser.f_L\n",
      "------------------------------------\n",
      "\n",
      "> Importing Energy Blocks......\n",
      "> Adding the following local variable:\n",
      "--------------------------------------------------\n",
      "| condenser.energy_block.dH_F\n",
      "| condenser.energy_block.dH_V\n",
      "| condenser.energy_block.dH_L\n",
      "| condenser.energy_block.dH_vap\n",
      "--------------------------------------------------\n",
      "\n",
      "> Importing VLE Blocks......\n",
      "> Adding the following local variable:\n",
      "--------------------------------------------------\n",
      "| condenser.VLE_block.n_ave\n",
      "| condenser.VLE_block.n_ave_cal\n",
      "| condenser.VLE_block.Hen\n",
      "| condenser.VLE_block.Hen0\n",
      "| condenser.VLE_block.gamma\n",
      "| condenser.VLE_block.P_sat\n",
      "| condenser.VLE_block.P_sat_Y\n",
      "| condenser.VLE_block.P_sat_dY_inf\n",
      "| condenser.VLE_block.P_sat_dY0\n",
      "| condenser.VLE_block.Hen_ref\n",
      "| condenser.VLE_block.Hen0_ref\n",
      "| condenser.VLE_block.gamma_ref\n",
      "| condenser.VLE_block.V_L\n",
      "| condenser.VLE_block.V_L_dY_inf\n",
      "| condenser.VLE_block.V_L_dY0\n",
      "| condenser.VLE_block.poynting\n",
      "--------------------------------------------------\n",
      "\n"
     ]
    }
   ],
   "source": [
    "model.condenser = pe.Block(rule=condenser_stage_rule)"
   ]
  },
  {
   "cell_type": "markdown",
   "metadata": {
    "collapsed": true
   },
   "source": [
    "# Construct a single reboiler"
   ]
  },
  {
   "cell_type": "code",
   "execution_count": 6,
   "metadata": {
    "scrolled": true
   },
   "outputs": [
    {
     "name": "stdout",
     "output_type": "stream",
     "text": [
      "> Importing Non Reactive Stage......\n",
      "> Adding the following local variable:\n",
      "------------------------------------\n",
      "| reboiler.T_F\n",
      "| reboiler.P\n",
      "| reboiler.Q_main\n",
      "| reboiler.x_\n",
      "| reboiler.y_\n",
      "| reboiler.x\n",
      "| reboiler.y\n",
      "| reboiler.z\n",
      "| reboiler.L\n",
      "| reboiler.V\n",
      "| reboiler.F\n",
      "| reboiler.H_L_\n",
      "| reboiler.H_V_\n",
      "| reboiler.H_L\n",
      "| reboiler.H_V\n",
      "| reboiler.T\n",
      "| reboiler.H_F\n",
      "| reboiler.f_V\n",
      "| reboiler.f_L\n",
      "------------------------------------\n",
      "\n",
      "> Importing Energy Blocks......\n",
      "> Adding the following local variable:\n",
      "--------------------------------------------------\n",
      "| reboiler.energy_block.dH_F\n",
      "| reboiler.energy_block.dH_V\n",
      "| reboiler.energy_block.dH_L\n",
      "| reboiler.energy_block.dH_vap\n",
      "--------------------------------------------------\n",
      "\n",
      "> Importing VLE Blocks......\n",
      "> Adding the following local variable:\n",
      "--------------------------------------------------\n",
      "| reboiler.VLE_block.P_VLE\n",
      "| reboiler.VLE_block.n_ave\n",
      "| reboiler.VLE_block.n_ave_cal\n",
      "| reboiler.VLE_block.Hen\n",
      "| reboiler.VLE_block.Hen0\n",
      "| reboiler.VLE_block.gamma\n",
      "| reboiler.VLE_block.P_sat\n",
      "| reboiler.VLE_block.P_sat_Y\n",
      "| reboiler.VLE_block.P_sat_dY_inf\n",
      "| reboiler.VLE_block.P_sat_dY0\n",
      "| reboiler.VLE_block.Hen_ref\n",
      "| reboiler.VLE_block.Hen0_ref\n",
      "| reboiler.VLE_block.gamma_ref\n",
      "| reboiler.VLE_block.V_L\n",
      "| reboiler.VLE_block.V_L_dY_inf\n",
      "| reboiler.VLE_block.V_L_dY0\n",
      "| reboiler.VLE_block.poynting\n",
      "--------------------------------------------------\n",
      "\n",
      "> Importing MPCC_P_Reg Blocks......\n",
      "> Adding the following local variable:\n",
      "--------------------------------------------------\n",
      "| reboiler.MPCC.s_L\n",
      "| reboiler.MPCC.s_V\n",
      "| reboiler.MPCC.epi\n",
      "--------------------------------------------------\n",
      "> Adding complementarity constraint, spliting pressure used in VLE\n",
      "\n"
     ]
    }
   ],
   "source": [
    "model.reboiler = pe.Block(rule=non_reactive_stage_rule)"
   ]
  },
  {
   "cell_type": "markdown",
   "metadata": {},
   "source": [
    "# Linking Stage Variables"
   ]
  },
  {
   "cell_type": "markdown",
   "metadata": {},
   "source": [
    "### Vapor Between Reactive Stages"
   ]
  },
  {
   "cell_type": "code",
   "execution_count": 7,
   "metadata": {},
   "outputs": [],
   "source": [
    "def V_between_rule(model,j):\n",
    "    if j == model.TRAY.last(): return pe.Constraint.Skip\n",
    "    return model.reactive[j].V['in'] == model.reactive[j+1].V['out']\n",
    "model.V_between_con = pe.Constraint(model.TRAY,rule=V_between_rule)\n",
    "\n",
    "def Vy_between_rule(model,j,i):\n",
    "    if j == model.TRAY.last(): return pe.Constraint.Skip\n",
    "    return model.reactive[j].y_['in',i] == model.reactive[j+1].y[i]\n",
    "model.Vy_between_con = pe.Constraint(model.TRAY,m.COMP_TOTAL,rule=Vy_between_rule)\n",
    "\n",
    "def Vh_between_rule(model,j):\n",
    "    if j == model.TRAY.last(): return pe.Constraint.Skip\n",
    "    return model.reactive[j].H_V_['in'] == model.reactive[j+1].H_V\n",
    "model.Vh_between_con = pe.Constraint(model.TRAY,rule=Vh_between_rule)"
   ]
  },
  {
   "cell_type": "markdown",
   "metadata": {},
   "source": [
    "### Liquid Between Reactive Stages"
   ]
  },
  {
   "cell_type": "code",
   "execution_count": 8,
   "metadata": {},
   "outputs": [],
   "source": [
    "def L_between_rule(model,j):\n",
    "    if j == model.TRAY.last(): return pe.Constraint.Skip\n",
    "    return model.reactive[j+1].L['in'] == model.reactive[j].L['out']\n",
    "model.L_between_con = pe.Constraint(model.TRAY,rule=L_between_rule)\n",
    "\n",
    "def Lx_between_rule(model,j,i):\n",
    "    if j == model.TRAY.last(): return pe.Constraint.Skip\n",
    "    return model.reactive[j+1].x_['in',i] == model.reactive[j].x[i]\n",
    "model.Ly_between_con = pe.Constraint(model.TRAY,m.COMP_TOTAL,rule=Lx_between_rule)\n",
    "\n",
    "def Lh_between_rule(model,j):\n",
    "    if j == model.TRAY.last(): return pe.Constraint.Skip\n",
    "    return model.reactive[j+1].H_L_['in'] == model.reactive[j].H_L\n",
    "model.Lh_between_con = pe.Constraint(model.TRAY,rule=Lh_between_rule)"
   ]
  },
  {
   "cell_type": "markdown",
   "metadata": {},
   "source": [
    "### Condenser Vapor"
   ]
  },
  {
   "cell_type": "code",
   "execution_count": 9,
   "metadata": {},
   "outputs": [],
   "source": [
    "def V_condenser_rule(model):\n",
    "    return model.reactive[model.TRAY.first()].V['out'] == model.condenser.V['in']\n",
    "model.V_condenser_con = pe.Constraint(rule=V_condenser_rule)\n",
    "\n",
    "def Vy_condenser_rule(model,i):\n",
    "    return model.reactive[model.TRAY.first()].y[i] == model.condenser.y_['in',i]\n",
    "model.Vy_condenser_con = pe.Constraint(m.COMP_TOTAL,rule=Vy_condenser_rule)\n",
    "\n",
    "def Vh_condenser_rule(model):\n",
    "    return model.reactive[model.TRAY.first()].H_V == model.condenser.H_V_['in']\n",
    "model.Vh_condenser_con = pe.Constraint(rule=Vh_condenser_rule)"
   ]
  },
  {
   "cell_type": "markdown",
   "metadata": {},
   "source": [
    "### Condenser Liquid"
   ]
  },
  {
   "cell_type": "code",
   "execution_count": 10,
   "metadata": {},
   "outputs": [],
   "source": [
    "def L_condenser_rule(model):\n",
    "    return model.reactive[model.TRAY.first()].L['in'] == model.condenser.L['out']\n",
    "model.L_condenser_con = pe.Constraint(rule=L_condenser_rule)\n",
    "\n",
    "def Lx_condenser_rule(model,i):\n",
    "    return model.reactive[model.TRAY.first()].x_['in',i] == model.condenser.x[i]\n",
    "model.Lx_condenser_con = pe.Constraint(m.COMP_TOTAL,rule=Lx_condenser_rule)\n",
    "\n",
    "def Lh_condenser_rule(model):\n",
    "    return model.reactive[model.TRAY.first()].H_L_['in'] == model.condenser.H_L\n",
    "model.Lh_condenser_con = pe.Constraint(rule=Lh_condenser_rule)"
   ]
  },
  {
   "cell_type": "markdown",
   "metadata": {},
   "source": [
    "### Reboiler Vapor"
   ]
  },
  {
   "cell_type": "code",
   "execution_count": 11,
   "metadata": {},
   "outputs": [],
   "source": [
    "def V_reboiler_rule(model):\n",
    "    return model.reactive[model.TRAY.last()].V['in'] == model.reboiler.V['out']\n",
    "model.V_reboiler_con = pe.Constraint(rule=V_reboiler_rule)\n",
    "\n",
    "def Vy_reboiler_rule(model,i):\n",
    "    return model.reactive[model.TRAY.last()].y_['in',i] == model.reboiler.y[i]\n",
    "model.Vy_reboiler_con = pe.Constraint(m.COMP_TOTAL,rule=Vy_reboiler_rule)\n",
    "\n",
    "def Vh_reboiler_rule(model):\n",
    "    return model.reactive[model.TRAY.last()].H_V_['in'] == model.reboiler.H_V\n",
    "model.Vh_reboiler_con = pe.Constraint(rule=Vh_reboiler_rule)"
   ]
  },
  {
   "cell_type": "markdown",
   "metadata": {},
   "source": [
    "### Reboiler Liquid"
   ]
  },
  {
   "cell_type": "code",
   "execution_count": 12,
   "metadata": {},
   "outputs": [],
   "source": [
    "def L_reboiler_rule(model):\n",
    "    return model.reactive[model.TRAY.last()].L['out'] == model.reboiler.L['in']\n",
    "model.L_reboiler_con = pe.Constraint(rule=L_reboiler_rule)\n",
    "\n",
    "def Lx_reboiler_rule(model,i):\n",
    "    return model.reactive[model.TRAY.last()].x[i] == model.reboiler.x_['in',i]\n",
    "model.Lx_reboiler_con = pe.Constraint(m.COMP_TOTAL,rule=Lx_reboiler_rule)\n",
    "\n",
    "def Lh_reboiler_rule(model):\n",
    "    return model.reactive[model.TRAY.last()].H_L == model.reboiler.H_L_['in']\n",
    "model.Lh_reboiler_con = pe.Constraint(rule=Lh_reboiler_rule)"
   ]
  },
  {
   "cell_type": "code",
   "execution_count": 13,
   "metadata": {},
   "outputs": [],
   "source": [
    "# model.obj = pe.Objective(expr = sum(model.reactive[j].T - model.reactive[j].MPCC.pf for j in model.TRAY)\\\n",
    "#                          - model.reboiler.MPCC.pf ,sense=pe.maximize)\n",
    "model.obj = pe.Objective(expr = sum(model.reactive[j].T - model.reactive[j].MPCC.pf for j in model.TRAY) ,sense=pe.maximize)\n",
    "# model.obj = pe.Objective(expr = sum(model.reactive[j].T for j in model.TRAY) ,sense=pe.maximize)"
   ]
  },
  {
   "cell_type": "code",
   "execution_count": 14,
   "metadata": {},
   "outputs": [
    {
     "name": "stdout",
     "output_type": "stream",
     "text": [
      "Created the follow pyomo suffixes:\n",
      "ipopt_zL_out, ipopt_zU_out, ipopt_zL_in, ipopt_zU_in, dual\n"
     ]
    }
   ],
   "source": [
    "add_dual(pe,model)"
   ]
  },
  {
   "cell_type": "markdown",
   "metadata": {},
   "source": [
    "# Load from Reactive Flash solutions"
   ]
  },
  {
   "cell_type": "code",
   "execution_count": 15,
   "metadata": {},
   "outputs": [],
   "source": [
    "with open('../saved_solutions/reactive_flash_MPCC_P_pf_200C.pickle', 'rb') as f:\n",
    "    results_imported = pickle.load(f)\n",
    "results_changed = deepcopy(results_imported)"
   ]
  },
  {
   "cell_type": "markdown",
   "metadata": {},
   "source": [
    "### Duplicate variable solution and bounds multiplier"
   ]
  },
  {
   "cell_type": "code",
   "execution_count": 16,
   "metadata": {},
   "outputs": [],
   "source": [
    "results_changed.Solution.Variable = {}\n",
    "for i in list(results_imported.Solution.Variable.keys()):\n",
    "    for j in model.TRAY:\n",
    "        results_changed.Solution.Variable['reactive[{}].{}'.format(j,i)] = \\\n",
    "        results_imported.Solution.Variable[i]"
   ]
  },
  {
   "cell_type": "markdown",
   "metadata": {},
   "source": [
    "### Duplicate constraint multiplier"
   ]
  },
  {
   "cell_type": "code",
   "execution_count": 17,
   "metadata": {},
   "outputs": [],
   "source": [
    "results_changed.Solution.Constraint = {}\n",
    "for i in list(results_imported.Solution.Constraint.keys()):\n",
    "    for j in model.TRAY:\n",
    "        results_changed.Solution.Constraint['reactive[{}].{}'.format(j,i)] = \\\n",
    "        results_imported.Solution.Constraint[i]"
   ]
  },
  {
   "cell_type": "markdown",
   "metadata": {},
   "source": [
    "# Load from Condenser solutions"
   ]
  },
  {
   "cell_type": "code",
   "execution_count": 18,
   "metadata": {},
   "outputs": [],
   "source": [
    "with open('../saved_solutions/condenser_MPCC_P_pf_30C.pickle', 'rb') as f:\n",
    "    condenser_results_imported = pickle.load(f)"
   ]
  },
  {
   "cell_type": "markdown",
   "metadata": {},
   "source": [
    "### Duplicate variable solution and bounds multiplier"
   ]
  },
  {
   "cell_type": "code",
   "execution_count": 19,
   "metadata": {},
   "outputs": [],
   "source": [
    "for i in list(condenser_results_imported.Solution.Variable.keys()):\n",
    "    results_changed.Solution.Variable['condenser.{}'.format(i)] = \\\n",
    "    condenser_results_imported.Solution.Variable[i]"
   ]
  },
  {
   "cell_type": "markdown",
   "metadata": {},
   "source": [
    "### Duplicate constraint multiplier"
   ]
  },
  {
   "cell_type": "code",
   "execution_count": 20,
   "metadata": {},
   "outputs": [],
   "source": [
    "for i in list(condenser_results_imported.Solution.Constraint.keys()):\n",
    "    results_changed.Solution.Constraint['condenser.{}'.format(i)] = \\\n",
    "    condenser_results_imported.Solution.Constraint[i]"
   ]
  },
  {
   "cell_type": "markdown",
   "metadata": {},
   "source": [
    "# Load from Reboiler solutions"
   ]
  },
  {
   "cell_type": "code",
   "execution_count": 21,
   "metadata": {},
   "outputs": [],
   "source": [
    "with open('../saved_solutions/reboiler_MPCC_P_pf_200C.pickle', 'rb') as f:\n",
    "    reboiler_results_imported = pickle.load(f)"
   ]
  },
  {
   "cell_type": "markdown",
   "metadata": {},
   "source": [
    "### Duplicate variable solution and bounds multiplier"
   ]
  },
  {
   "cell_type": "code",
   "execution_count": 22,
   "metadata": {},
   "outputs": [],
   "source": [
    "for i in list(reboiler_results_imported.Solution.Variable.keys()):\n",
    "    results_changed.Solution.Variable['reboiler.{}'.format(i)] = \\\n",
    "    reboiler_results_imported.Solution.Variable[i]"
   ]
  },
  {
   "cell_type": "markdown",
   "metadata": {},
   "source": [
    "### Duplicate constraint multiplier"
   ]
  },
  {
   "cell_type": "code",
   "execution_count": 23,
   "metadata": {},
   "outputs": [],
   "source": [
    "for i in list(reboiler_results_imported.Solution.Constraint.keys()):\n",
    "    results_changed.Solution.Constraint['reboiler.{}'.format(i)] = \\\n",
    "    reboiler_results_imported.Solution.Constraint[i]"
   ]
  },
  {
   "cell_type": "code",
   "execution_count": 24,
   "metadata": {},
   "outputs": [],
   "source": [
    "model.solutions.load_from(results_changed)"
   ]
  },
  {
   "cell_type": "markdown",
   "metadata": {},
   "source": [
    "# Fixing Redundent Stream Variables"
   ]
  },
  {
   "cell_type": "code",
   "execution_count": 25,
   "metadata": {},
   "outputs": [],
   "source": [
    "# condenser\n",
    "model.condenser.VLE_block.n_ave.fix(4)\n",
    "\n",
    "model.condenser.F.fix(0)\n",
    "model.condenser.T_F.fix(300+273.15)\n",
    "model.condenser.z.fix(0)\n",
    "\n",
    "model.condenser.V['P'].fix(0)\n",
    "model.condenser.L['in'].fix(0)\n",
    "for i in m.COMP_TOTAL: model.condenser.x_['in',i].fix(0)\n",
    "model.condenser.H_L_['in'].fix(0)"
   ]
  },
  {
   "cell_type": "code",
   "execution_count": 26,
   "metadata": {},
   "outputs": [],
   "source": [
    "# reboiler\n",
    "model.reboiler.VLE_block.n_ave.fix(20)\n",
    "\n",
    "model.reboiler.F.fix(0)\n",
    "model.reboiler.T_F.fix(300+273.15)\n",
    "model.reboiler.z.fix(0)\n",
    "\n",
    "model.reboiler.V['P'].fix(0)\n",
    "model.reboiler.V['in'].fix(0)\n",
    "for i in m.COMP_TOTAL: model.reboiler.y_['in',i].fix(0)\n",
    "model.reboiler.H_V_['in'].fix(0)\n",
    "model.reboiler.L['P'].fix(0)"
   ]
  },
  {
   "cell_type": "markdown",
   "metadata": {},
   "source": [
    "# Load Operating Parameters"
   ]
  },
  {
   "cell_type": "code",
   "execution_count": 27,
   "metadata": {},
   "outputs": [],
   "source": [
    "# condenser\n",
    "model.condenser.P.fix(19)\n",
    "# model.condenser.T.fix(30+273.15)\n",
    "model.condenser.T.fix(30+273.15)\n",
    "model.condenser.L['out'].fix(0)\n",
    "\n",
    "# reboiler\n",
    "model.reboiler.P.fix(20)\n",
    "# model.reboiler.T.fix(30+273.15)\n",
    "# model.reboiler.T.fix(350+273.15)\n",
    "model.reboiler.Q_main.fix(0)\n",
    "\n",
    "# reactive stage\n",
    "for j in model.reactive:\n",
    "    model.reactive[j].cat.fix(5000)\n",
    "    model.reactive[j].P.fix(20)\n",
    "    model.reactive[j].VLE_block.n_ave.fix(20)\n",
    "    \n",
    "    model.reactive[j].F.fix(1)\n",
    "    model.reactive[j].T_F.fix(200+273.15)\n",
    "    model.reactive[j].z['CO'].fix(1/(1+2)-0/2)\n",
    "    model.reactive[j].z['H2'].fix(2/(1+2)-0/2)\n",
    "    model.reactive[j].z['C30H62'].fix(0)\n",
    "    model.reactive[j].V['P'].fix(0)\n",
    "    model.reactive[j].L['P'].fix(0)\n",
    "    # model.reactive[j].Q_main.fix(0)\n",
    "    model.reactive[j].T.setub(200+273.15)"
   ]
  },
  {
   "cell_type": "code",
   "execution_count": 28,
   "metadata": {
    "scrolled": true
   },
   "outputs": [
    {
     "name": "stdout",
     "output_type": "stream",
     "text": [
      "Active Equality Constraints:\t 3420\n",
      "Active Inequality Constraints:\t 3\n",
      "Active Variables:\t\t 3618\n",
      "Fixed Variables:\t\t 192\n",
      "DOF:\t\t\t\t 6\n"
     ]
    }
   ],
   "source": [
    "check_DOF(pe,model)"
   ]
  },
  {
   "cell_type": "code",
   "execution_count": 29,
   "metadata": {},
   "outputs": [
    {
     "name": "stdout",
     "output_type": "stream",
     "text": [
      "Ipopt 3.12.8: print_user_options=yes\n",
      "linear_solver=ma86\n",
      "linear_system_scaling =mc19\n",
      "linear_scaling_on_demand =no\n",
      "warm_start_init_point=yes\n",
      "warm_start_bound_push=1e-20\n",
      "warm_start_mult_bound_push=1e-20\n",
      "mu_init=1e-06\n",
      "max_iter=7000\n",
      "\n",
      "\n",
      "List of user-set options:\n",
      "\n",
      "                                    Name   Value                used\n",
      "                linear_scaling_on_demand = no                    yes\n",
      "                           linear_solver = ma86                  yes\n",
      "                   linear_system_scaling = mc19                  yes\n",
      "                                max_iter = 7000                  yes\n",
      "                                 mu_init = 1e-06                 yes\n",
      "                      print_user_options = yes                   yes\n",
      "                   warm_start_bound_push = 1e-20                 yes\n",
      "                   warm_start_init_point = yes                   yes\n",
      "              warm_start_mult_bound_push = 1e-20                 yes\n",
      "\n",
      "******************************************************************************\n",
      "This program contains Ipopt, a library for large-scale nonlinear optimization.\n",
      " Ipopt is released as open source code under the Eclipse Public License (EPL).\n",
      "         For more information visit http://projects.coin-or.org/Ipopt\n",
      "******************************************************************************\n",
      "\n",
      "This is Ipopt version 3.12.8, running with linear solver ma86.\n",
      "\n",
      "Number of nonzeros in equality constraint Jacobian...:    11072\n",
      "Number of nonzeros in inequality constraint Jacobian.:        9\n",
      "Number of nonzeros in Lagrangian Hessian.............:    12879\n",
      "\n",
      "Total number of variables............................:     3425\n",
      "                     variables with only lower bounds:      559\n",
      "                variables with lower and upper bounds:     2598\n",
      "                     variables with only upper bounds:        0\n",
      "Total number of equality constraints.................:     3420\n",
      "Total number of inequality constraints...............:        3\n",
      "        inequality constraints with only lower bounds:        0\n",
      "   inequality constraints with lower and upper bounds:        0\n",
      "        inequality constraints with only upper bounds:        3\n",
      "\n",
      "iter    objective    inf_pr   inf_du lg(mu)  ||d||  lg(rg) alpha_du alpha_pr  ls\n",
      "   0 -4.7315000e+02 4.98e+02 1.25e+00  -6.0 0.00e+00    -  0.00e+00 0.00e+00   0\n",
      "   1 -4.7315000e+02 4.98e+02 2.05e+00  -6.0 4.51e+02    -  2.45e-08 5.02e-08h  2\n",
      "   2r-4.7315000e+02 4.98e+02 9.99e+02   2.7 0.00e+00    -  0.00e+00 1.59e-09R  6\n",
      "   3r-4.7315000e+02 4.98e+02 1.82e+06   2.7 1.84e+08    -  6.49e-10 1.65e-10f  1\n",
      "   4r-4.7315000e+02 4.98e+02 2.89e+06   2.7 2.05e+06    -  4.40e-08 1.97e-09f  1\n",
      "   5r-4.7314995e+02 4.98e+02 2.89e+06   2.7 1.61e+05    -  6.45e-08 8.84e-08f  1\n",
      "   6r-4.7314984e+02 4.98e+02 2.89e+06   2.7 1.40e+05    -  7.10e-07 2.37e-07f  1\n",
      "   7r-4.7314859e+02 4.98e+02 2.89e+06   2.7 8.48e+04    -  1.24e-05 2.45e-06f  1\n",
      "   8r-4.7313042e+02 4.98e+02 2.89e+06   2.7 5.09e+04    -  6.61e-05 2.90e-05f  1\n",
      "   9r-4.7307100e+02 4.94e+02 2.89e+06   2.7 2.95e+04    -  5.30e-04 1.88e-04f  1\n",
      "iter    objective    inf_pr   inf_du lg(mu)  ||d||  lg(rg) alpha_du alpha_pr  ls\n",
      "  10r-4.7299677e+02 6.70e+02 2.88e+06   2.0 2.03e+04    -  1.32e-03 2.68e-03f  1\n",
      "  11 -4.7302100e+02 6.65e+02 1.39e+01  -6.0 1.44e+03    -  8.14e-04 7.21e-03h  1\n",
      "  12 -4.7301882e+02 6.58e+02 1.21e+01  -6.0 1.33e+03    -  1.13e-02 9.42e-03h  1\n",
      "  13 -4.7301883e+02 6.58e+02 9.23e+01  -6.0 1.68e+04    -  7.64e-04 1.93e-05h  1\n",
      "  14 -4.7301896e+02 6.58e+02 9.66e+01  -6.0 1.68e+04    -  5.00e-04 4.32e-04h  1\n",
      "  15r-4.7301896e+02 6.58e+02 9.99e+02   2.6 0.00e+00    -  0.00e+00 5.30e-10R  2\n",
      "  16r-4.7301896e+02 6.58e+02 9.99e+02   2.6 1.67e+08    -  9.31e-09 2.92e-10f  1\n",
      "  17r-4.7301895e+02 6.58e+02 9.99e+02   1.9 1.92e+04    -  6.65e-04 1.86e-07f  1\n",
      "  18r-4.7301659e+02 6.51e+02 9.98e+02  -0.2 4.03e+04    -  1.18e-03 1.06e-03f  1\n",
      "  19r-4.7301531e+02 6.42e+02 9.98e+02  -0.2 1.94e+05    -  5.25e-04 1.84e-04f  1\n",
      "iter    objective    inf_pr   inf_du lg(mu)  ||d||  lg(rg) alpha_du alpha_pr  ls\n",
      "  20r-4.7301531e+02 6.42e+02 9.99e+02   2.5 0.00e+00    -  0.00e+00 3.20e-07R  4\n",
      "  21r-4.7301531e+02 6.42e+02 9.99e+02   2.5 3.01e+05    -  3.19e-06 7.04e-11f  2\n",
      "  22r-4.7298070e+02 6.46e+02 9.99e+02   1.8 1.71e+04    -  7.89e-04 2.22e-05f  1\n",
      "  23r-4.7295200e+02 6.25e+02 9.97e+02   0.5 3.61e+04    -  2.19e-03 2.06e-03f  1\n",
      "  24 -4.7295229e+02 6.25e+02 3.26e+00  -6.0 1.70e+03    -  3.78e-04 9.92e-06h  1\n",
      "  25r-4.7295229e+02 6.25e+02 9.99e+02   2.4 0.00e+00    -  0.00e+00 1.87e-08R  4\n",
      "  26r-4.7295229e+02 6.25e+02 1.25e+06   2.4 5.23e+05    -  3.42e-06 2.83e-09f  1\n",
      "  27r-4.7294927e+02 6.30e+02 1.24e+06   2.4 1.48e+04    -  5.69e-03 1.07e-05f  1\n",
      "  28r-4.7294943e+02 4.57e+02 1.23e+06   1.0 1.41e+04    -  7.06e-03 6.66e-03f  1\n",
      "  29 -4.7295058e+02 4.57e+02 3.35e+00  -6.0 9.00e+03    -  2.52e-03 3.50e-05h  1\n",
      "iter    objective    inf_pr   inf_du lg(mu)  ||d||  lg(rg) alpha_du alpha_pr  ls\n",
      "  30r-4.7295058e+02 4.57e+02 9.99e+02   2.3 0.00e+00    -  0.00e+00 7.12e-11R  2\n",
      "  31r-4.7295025e+02 4.57e+02 1.23e+06   2.3 4.01e+08    -  2.65e-09 4.80e-10f  1\n",
      "  32r-4.7295025e+02 4.57e+02 1.23e+06   2.3 1.06e+04    -  2.43e-03 2.67e-09f  2\n",
      "  33r-4.7289264e+02 3.57e+02 1.21e+06   1.6 1.12e+04    -  1.17e-02 6.01e-03f  1\n",
      "  34 -4.7293450e+02 3.57e+02 1.13e+02  -6.0 4.16e+04    -  5.94e-05 1.01e-06f  1\n",
      "  35 -4.7293905e+02 3.57e+02 3.61e+02  -6.0 2.53e+03    -  4.10e-05 1.51e-04h  1\n",
      "  36 -4.7294318e+02 3.57e+02 3.06e+02  -6.0 7.96e+03    -  1.22e-05 1.07e-04h  1\n",
      "  37 -4.7294822e+02 3.57e+02 4.33e+02  -6.0 1.91e+04    -  4.70e-09 2.70e-04f  1\n",
      "  38 -4.7294870e+02 3.56e+02 4.33e+02  -6.0 1.93e+04    -  8.65e-04 2.35e-05h  1\n",
      "  39 -4.7294931e+02 3.56e+02 4.32e+02  -6.0 1.93e+04    -  5.94e-04 3.00e-05h  1\n",
      "iter    objective    inf_pr   inf_du lg(mu)  ||d||  lg(rg) alpha_du alpha_pr  ls\n",
      "  40r-4.7294931e+02 3.56e+02 9.99e+02   2.1 0.00e+00    -  0.00e+00 6.22e-09R  7\n",
      "  41r-4.7294744e+02 3.56e+02 8.30e+05   2.1 7.50e+04    -  2.21e-05 4.68e-08f  1\n",
      "  42r-4.7294359e+02 3.63e+02 8.20e+05   2.1 7.77e+03    -  1.17e-02 5.07e-05f  1\n",
      "  43r-4.7285389e+02 1.28e+02 8.11e+05   0.7 7.04e+03    -  1.17e-02 8.26e-03f  1\n",
      "  44 -4.7285469e+02 1.28e+02 1.13e+02  -6.0 9.10e+03    -  2.35e-04 1.45e-05h  1\n",
      "  45 -4.7285430e+02 1.28e+02 1.13e+02  -6.0 7.28e+04    -  7.49e-05 1.39e-05h  1\n",
      "  46 -4.7284108e+02 1.28e+02 1.13e+02  -6.0 7.32e+04    -  1.65e-04 4.56e-04h  1\n",
      "  47 -4.7284118e+02 1.28e+02 2.53e+03  -6.0 8.87e+03    -  4.39e-03 2.08e-06h  1\n",
      "  48 -4.7287057e+02 1.28e+02 1.62e+03  -6.0 6.06e+04    -  4.79e-04 7.39e-04h  1\n",
      "  49 -4.7287331e+02 1.28e+02 9.74e+03  -6.0 4.98e+05    -  4.26e-04 1.57e-04h  1\n",
      "iter    objective    inf_pr   inf_du lg(mu)  ||d||  lg(rg) alpha_du alpha_pr  ls\n",
      "  50r-4.7287331e+02 1.28e+02 1.00e+03   1.8 0.00e+00    -  0.00e+00 3.37e-07R  9\n",
      "  51r-4.7287329e+02 1.28e+02 1.73e+05   1.8 4.69e+03    -  3.56e-05 1.57e-08f  1\n",
      "  52r-4.7285935e+02 1.35e+02 1.71e+05   1.8 4.52e+03    -  7.93e-03 8.06e-05f  1\n",
      "  53r-4.7277692e+02 8.61e+01 1.70e+05   0.4 4.26e+03    -  8.29e-03 5.59e-03f  1\n",
      "  54 -4.7277671e+02 8.61e+01 1.08e+01  -6.0 1.19e+05    -  1.50e-06 1.77e-05h  1\n",
      "  55 -4.7277561e+02 8.61e+01 1.08e+01  -6.0 1.23e+05    -  2.01e-05 9.37e-05h  1\n",
      "  56 -4.7277468e+02 8.61e+01 1.74e+01  -6.0 1.43e+05    -  1.26e-04 7.25e-05h  1\n",
      "  57 -4.7277440e+02 8.61e+01 1.96e+01  -6.0 1.65e+05    -  1.77e-04 2.10e-05h  1\n",
      "  58r-4.7277440e+02 8.61e+01 9.99e+02   1.5 0.00e+00    -  0.00e+00 4.13e-09R  2\n",
      "  59r-4.7277440e+02 8.61e+01 9.99e+02   1.5 1.95e+03    -  2.30e-04 8.08e-10f  1\n",
      "iter    objective    inf_pr   inf_du lg(mu)  ||d||  lg(rg) alpha_du alpha_pr  ls\n",
      "  60r-4.7275857e+02 9.06e+01 4.03e+03   0.8 3.85e+03    -  1.99e-02 1.26e-03f  1\n",
      "  61r-4.7275857e+02 9.06e+01 9.99e+02   1.5 0.00e+00    -  0.00e+00 4.17e-07R  4\n",
      "  62r-4.7275857e+02 9.06e+01 9.99e+02   1.5 2.97e+03    -  2.06e-04 8.68e-10f  3\n",
      "  63r-4.7274168e+02 8.98e+01 3.74e+03   0.8 2.97e+03    -  1.15e-02 1.37e-03f  1\n",
      "  64 -4.7274161e+02 8.98e+01 5.00e+01  -6.0 4.35e+04    -  3.92e-04 1.33e-05h  1\n",
      "  65r-4.7274161e+02 8.98e+01 9.99e+02   1.4 0.00e+00    -  0.00e+00 1.51e-07R  2\n",
      "  66r-4.7274161e+02 8.98e+01 9.99e+02   1.4 1.64e+04    -  3.05e-04 1.99e-08f  2\n",
      "  67r-4.7272806e+02 8.74e+01 3.24e+03   0.7 2.76e+03    -  9.28e-03 1.20e-03f  1\n",
      "  68 -4.7272661e+02 8.74e+01 2.90e+02  -6.0 5.23e+04    -  1.54e-03 2.02e-04h  1\n"
     ]
    },
    {
     "name": "stdout",
     "output_type": "stream",
     "text": [
      "  69r-4.7272661e+02 8.74e+01 9.99e+02   1.3 0.00e+00    -  0.00e+00 2.51e-08R  2\n",
      "iter    objective    inf_pr   inf_du lg(mu)  ||d||  lg(rg) alpha_du alpha_pr  ls\n",
      "  70r-4.7272661e+02 8.74e+01 3.00e+03   1.3 2.63e+03    -  1.86e-03 4.21e-08f  2\n",
      "  71r-4.7270917e+02 7.67e+01 4.54e+03  -0.1 3.00e+03    -  8.68e-03 2.82e-03f  1\n",
      "  72 -4.7270880e+02 7.67e+01 1.39e+04  -6.0 4.86e+04    -  2.24e-03 5.22e-05h  1\n",
      "  73 -4.7270882e+02 7.67e+01 6.40e+04  -6.0 5.62e+06    -  4.59e-06 1.02e-06h  1\n",
      "  74 -4.7270883e+02 7.67e+01 5.01e+05  -6.0 7.77e+06    -  2.09e-05 6.51e-07h  4\n",
      "  75 -4.7270941e+02 7.67e+01 2.72e+05  -6.0 9.90e+06    -  4.10e-06 1.99e-05h  1\n",
      "  76 -4.7270915e+02 7.67e+01 2.68e+05  -6.0 2.42e+07    -  3.97e-06 3.97e-06s  4\n",
      "  77r-4.7270915e+02 7.67e+01 1.00e+03   1.1 0.00e+00    -  0.00e+00 0.00e+00R  1\n",
      "  78r-4.7270915e+02 7.67e+01 1.87e+04   1.1 1.28e+03    -  5.79e-05 4.40e-08f  1\n",
      "  79r-4.7270519e+02 7.63e+01 1.86e+04   1.1 1.26e+03    -  5.27e-03 1.29e-04f  1\n",
      "iter    objective    inf_pr   inf_du lg(mu)  ||d||  lg(rg) alpha_du alpha_pr  ls\n",
      "  80r-4.7270134e+02 6.42e+01 1.85e+04   0.4 1.76e+03    -  6.91e-03 2.81e-03f  1\n",
      "  81r-4.7270134e+02 6.42e+01 9.99e+02   0.9 0.00e+00    -  0.00e+00 4.18e-07R  5\n",
      "  82r-4.7270134e+02 6.42e+01 9.99e+02   0.9 1.35e+03    -  4.35e-04 1.32e-09f  2\n",
      "  83r-4.7266983e+02 5.59e+01 6.72e+03   0.9 1.43e+03    -  1.45e-02 2.61e-03f  1\n",
      "  84 -4.7266983e+02 5.59e+01 9.48e+02  -6.0 8.59e+04    -  1.74e-03 9.18e-07h  2\n",
      "  85 -4.7266985e+02 5.59e+01 1.92e+03  -6.0 8.60e+04    -  1.79e-03 2.12e-05h  1\n",
      "  86r-4.7266985e+02 5.59e+01 9.99e+02   0.7 0.00e+00    -  0.00e+00 1.58e-07R  2\n",
      "  87r-4.7266985e+02 5.59e+01 9.99e+02   0.7 1.74e+03    -  9.00e-05 6.12e-09f  2\n",
      "  88r-4.7266941e+02 5.60e+01 5.87e+03   0.7 1.87e+03    -  2.20e-02 1.57e-04f  1\n",
      "  89r-4.7264222e+02 4.32e+01 5.74e+03  -0.0 3.57e+02    -  1.17e-02 1.21e-02f  1\n",
      "iter    objective    inf_pr   inf_du lg(mu)  ||d||  lg(rg) alpha_du alpha_pr  ls\n",
      "  90 -4.7264221e+02 4.32e+01 1.18e+02  -6.0 3.39e+04    -  1.36e-03 1.15e-05h  1\n",
      "  91 -4.7264221e+02 4.32e+01 1.71e+03  -6.0 1.86e+05    -  3.36e-05 1.21e-06h  2\n",
      "  92 -4.7264225e+02 4.32e+01 1.55e+03  -6.0 1.87e+05    -  3.22e-05 3.73e-05h  1\n",
      "  93r-4.7264225e+02 4.32e+01 9.99e+02  -0.1 0.00e+00    -  0.00e+00 2.01e-07R  4\n",
      "  94r-4.7264225e+02 4.32e+01 9.98e+02  -0.1 8.12e+02    -  2.46e-03 3.68e-08f  2\n",
      "  95r-4.7266102e+02 4.32e+01 9.95e+02  -0.1 5.46e+02    -  5.86e-03 2.84e-03f  1\n",
      "  96r-4.7266102e+02 4.32e+01 9.99e+02  -0.2 0.00e+00    -  0.00e+00 7.22e-09R  2\n",
      "  97r-4.7266102e+02 4.32e+01 9.99e+02  -0.2 6.19e+02    -  6.31e-05 1.69e-07f  2\n",
      "  98r-4.7266259e+02 4.32e+01 9.98e+02  -0.2 6.61e+02    -  6.97e-03 1.98e-04f  1\n",
      "  99r-4.7270528e+02 4.01e+01 9.88e+02  -0.2 5.96e+02    -  1.21e-02 9.66e-03f  1\n",
      "iter    objective    inf_pr   inf_du lg(mu)  ||d||  lg(rg) alpha_du alpha_pr  ls\n",
      " 100 -4.7270536e+02 4.01e+01 1.64e+03  -6.0 5.90e+04    -  8.31e-04 2.69e-04h  1\n",
      " 101 -4.7270558e+02 4.00e+01 1.13e+04  -6.0 5.80e+04    -  8.98e-04 8.34e-04h  1\n",
      " 102r-4.7270558e+02 4.00e+01 9.99e+02  -0.5 0.00e+00    -  0.00e+00 4.19e-10R  2\n",
      " 103r-4.7270558e+02 4.00e+01 1.00e+03  -0.5 7.51e+02    -  7.35e-03 8.65e-08f  2\n",
      " 104r-4.7271191e+02 4.04e+01 1.63e+03  -0.5 6.19e+02    -  3.00e-02 2.75e-03f  1\n",
      " 105r-4.7273154e+02 3.94e+01 2.95e+03  -0.5 2.94e+02    -  6.89e-02 3.69e-02f  1\n",
      " 106 -4.7273158e+02 3.94e+01 6.61e+03  -6.0 1.37e+05    -  1.89e-04 1.52e-04h  1\n",
      " 107 -4.7273178e+02 3.93e+01 8.00e+04  -6.0 1.05e+05    -  4.44e-04 7.67e-04h  1\n",
      " 108 -4.7273180e+02 3.93e+01 8.00e+04  -6.0 1.64e+04    -  8.69e-04 6.72e-05f  1\n",
      " 109r-4.7273180e+02 3.93e+01 9.99e+02  -0.6 0.00e+00    -  0.00e+00 3.34e-11R  2\n",
      "iter    objective    inf_pr   inf_du lg(mu)  ||d||  lg(rg) alpha_du alpha_pr  ls\n",
      " 110r-4.7273179e+02 3.93e+01 9.99e+02  -0.6 4.90e+04    -  9.31e-06 2.30e-06f  1\n",
      " 111r-4.7273184e+02 3.94e+01 9.99e+02  -0.6 2.60e+02    -  3.96e-04 1.24e-04f  1\n",
      " 112r-4.7273216e+02 3.95e+01 9.98e+02  -0.6 1.54e+02    -  7.19e-02 8.06e-04f  1\n",
      " 113r-4.7274602e+02 3.15e+01 1.06e+03  -0.6 1.17e+02    -  2.27e-02 5.40e-02f  1\n",
      " 114 -4.7274603e+02 3.15e+01 2.44e+02  -6.0 2.97e+03    -  2.02e-04 4.73e-05h  1\n",
      " 115 -4.7274621e+02 3.15e+01 5.08e+01  -6.0 6.90e+03    -  4.56e-05 5.40e-04h  1\n",
      " 116r-4.7274621e+02 3.15e+01 9.99e+02  -0.7 0.00e+00    -  0.00e+00 4.23e-09R  2\n",
      " 117r-4.7274621e+02 3.15e+01 9.99e+02  -0.7 1.43e+02    -  9.86e-03 3.41e-07f  2\n",
      " 118r-4.7275169e+02 3.19e+01 9.91e+02  -0.7 1.14e+02    -  7.49e-02 7.84e-03f  1\n",
      " 119r-4.7277178e+02 4.92e-01 9.45e+02  -0.7 1.10e+02    -  7.18e-02 4.65e-02f  1\n",
      "iter    objective    inf_pr   inf_du lg(mu)  ||d||  lg(rg) alpha_du alpha_pr  ls\n",
      " 120 -4.7277193e+02 4.92e-01 1.17e+03  -6.0 1.44e+03    -  6.68e-03 5.57e-04h  1\n",
      " 121 -4.7277201e+02 4.92e-01 3.48e+03  -6.0 1.48e+03    -  1.65e-03 3.01e-04h  1\n",
      " 122r-4.7277201e+02 4.92e-01 9.99e+02  -0.7 0.00e+00    -  0.00e+00 1.51e-10R  2\n",
      " 123r-4.7277201e+02 3.38e+00 5.87e+03  -0.7 1.08e+03    -  1.71e-05 3.42e-06f  1\n",
      " 124r-4.7277204e+02 3.38e+00 5.92e+03  -0.7 1.78e+02    -  6.65e-03 3.54e-05f  1\n",
      " 125r-4.7277786e+02 3.64e+00 6.20e+03  -0.7 1.48e+02    -  7.68e-02 9.38e-03f  1\n",
      " 126r-4.7279549e+02 5.47e+00 5.83e+03  -0.7 1.63e+02    -  5.88e-02 9.37e-02f  1\n",
      " 127r-4.7279281e+02 5.73e+00 5.69e+03  -0.7 1.35e+02    -  1.42e-01 1.98e-02f  1\n",
      " 128r-4.7277956e+02 6.55e+00 6.08e+03  -0.7 8.19e+01    -  2.93e-01 5.44e-02f  1\n",
      " 129r-4.7271643e+02 7.65e+00 5.31e+03  -0.7 1.10e+02    -  5.89e-01 1.79e-01f  1\n",
      "iter    objective    inf_pr   inf_du lg(mu)  ||d||  lg(rg) alpha_du alpha_pr  ls\n",
      " 130r-4.7249311e+02 8.55e+00 2.90e+03  -0.7 2.09e+02    -  6.34e-01 3.07e-01f  1\n",
      " 131r-4.7218281e+02 1.13e+01 1.51e+03  -0.7 3.15e+02    -  9.67e-01 5.22e-01f  1\n",
      " 132r-4.7194877e+02 1.41e+01 3.24e+02  -0.7 3.26e+02    -  9.96e-01 8.31e-01f  1\n",
      " 133r-4.7205279e+02 1.09e+01 6.38e+02  -1.4 1.37e+02    -  6.54e-01 3.04e-01f  1\n",
      " 134r-4.7211526e+02 9.41e+00 5.79e+02  -1.4 2.06e+01  -2.0 2.66e-01 1.47e-01f  1\n",
      " 135r-4.7216908e+02 5.00e+00 1.48e+02  -1.4 1.29e+00  -0.7 6.35e-01 6.74e-01f  1\n",
      " 136r-4.7218711e+02 4.35e+00 6.05e+02  -1.4 3.19e+00  -1.1 8.26e-01 2.48e-01f  1\n",
      " 137r-4.7225483e+02 2.37e+00 8.40e+02  -1.4 6.69e+00  -1.6 1.00e+00 5.91e-01f  1\n",
      " 138r-4.7229045e+02 1.55e+00 1.80e+01  -1.4 2.43e+00  -1.2 1.00e+00 1.00e+00f  1\n",
      " 139r-4.7239036e+02 2.80e+00 1.93e+02  -2.2 1.33e+01  -1.7 3.16e-01 3.59e-01f  1\n",
      "iter    objective    inf_pr   inf_du lg(mu)  ||d||  lg(rg) alpha_du alpha_pr  ls\n",
      " 140r-4.7239595e+02 4.24e+00 5.46e+02  -2.2 8.48e+00  -1.3 2.25e-01 1.26e-01f  1\n",
      " 141r-4.7240449e+02 3.51e+00 4.55e+02  -2.2 3.39e+00  -0.8 6.13e-01 3.17e-01f  1\n",
      " 142r-4.7242270e+02 5.93e+00 4.56e+03  -2.2 1.12e+01  -1.3 1.81e-01 3.51e-01f  1\n",
      " 143r-4.7242307e+02 5.82e+00 1.46e+03  -2.2 2.05e+02  -1.8 1.69e-02 5.98e-03f  1\n",
      " 144r-4.7243865e+02 6.84e+00 3.15e+03  -2.2 1.25e+01  -1.4 3.33e-01 3.46e-01f  1\n",
      " 145r-4.7244137e+02 7.11e+00 4.96e+03  -2.2 5.99e+00  -0.9 1.12e-02 1.29e-01f  1\n",
      " 146r-4.7244451e+02 7.32e+00 4.93e+03  -2.2 1.91e+00  -0.5 1.62e-01 3.51e-01f  1\n",
      " 147r-4.7244540e+02 7.36e+00 4.22e+03  -2.2 1.55e+01  -1.0 6.51e-02 5.07e-02f  1\n",
      " 148r-4.7244469e+02 7.62e+00 2.06e+01  -2.2 3.09e-01   0.4 9.99e-01 1.00e+00f  1\n",
      " 149 -4.7246323e+02 6.90e+00 2.07e+07  -6.0 3.74e+03    -  9.99e-05 5.55e-02h  1\n",
      "iter    objective    inf_pr   inf_du lg(mu)  ||d||  lg(rg) alpha_du alpha_pr  ls\n",
      " 150r-4.7246323e+02 6.90e+00 9.99e+02  -1.2 0.00e+00    -  0.00e+00 2.98e-07R  4\n",
      " 151r-4.7246323e+02 6.90e+00 9.99e+02  -1.2 2.76e+02    -  2.41e-03 2.08e-05f  1\n",
      " 152r-4.7246287e+02 7.21e+00 9.96e+02  -1.2 2.65e+02    -  4.68e-04 3.40e-03f  1\n",
      " 153 -4.7246291e+02 7.21e+00 8.68e+01  -6.0 1.66e+03    -  6.58e-02 9.27e-05h  1\n",
      " 154 -4.7246294e+02 7.21e+00 1.85e+03  -6.0 2.27e+04    -  2.78e-03 1.03e-04h  1\n",
      " 155 -4.7246802e+02 7.09e+00 2.53e+06  -6.0 1.44e+04    -  1.60e-04 1.45e-02f  1\n",
      " 156r-4.7246802e+02 7.09e+00 9.99e+02  -0.1 0.00e+00    -  0.00e+00 4.95e-08R  2\n",
      " 157r-4.7246802e+02 7.09e+00 2.60e+03  -0.1 2.19e+03    -  3.37e-05 4.75e-07f  1\n",
      " 158r-4.7246797e+02 7.30e+00 2.59e+03  -0.1 1.28e+03    -  8.96e-04 6.02e-05f  1\n",
      " 159r-4.7246618e+02 8.73e+00 2.59e+03  -0.1 9.82e+02    -  9.70e-04 1.85e-03f  1\n",
      "iter    objective    inf_pr   inf_du lg(mu)  ||d||  lg(rg) alpha_du alpha_pr  ls\n",
      " 160 -4.7246635e+02 8.73e+00 4.80e+05  -6.0 5.57e+03    -  2.22e-02 4.93e-04h  1\n",
      " 161 -4.7246789e+02 8.69e+00 4.45e+06  -6.0 5.73e+03    -  4.94e-04 4.49e-03h  1\n"
     ]
    },
    {
     "name": "stdout",
     "output_type": "stream",
     "text": [
      " 162r-4.7246789e+02 8.69e+00 9.99e+02  -1.0 0.00e+00    -  0.00e+00 3.97e-07R  2\n",
      " 163r-4.7246789e+02 8.69e+00 1.00e+03  -1.0 2.95e+02    -  1.03e-03 9.81e-08f  2\n",
      " 164r-4.7246758e+02 8.78e+00 9.96e+02  -1.0 2.82e+02    -  4.97e-03 2.03e-03f  1\n",
      " 165 -4.7246842e+02 8.76e+00 3.78e+03  -6.0 4.74e+03    -  2.62e-02 2.43e-03h  1\n",
      " 166r-4.7246842e+02 8.76e+00 9.99e+02  -1.3 0.00e+00    -  0.00e+00 1.13e-09R  2\n",
      " 167r-4.7246857e+02 8.76e+00 9.99e+02  -1.3 3.09e+03    -  2.12e-05 3.87e-06f  1\n",
      " 168r-4.7246839e+02 8.76e+00 9.99e+02  -1.3 1.84e+02    -  2.37e-05 1.09e-04f  1\n",
      " 169r-4.7246838e+02 8.76e+00 9.99e+02  -1.3 1.74e+02    -  8.17e-03 1.45e-04f  1\n",
      "iter    objective    inf_pr   inf_du lg(mu)  ||d||  lg(rg) alpha_du alpha_pr  ls\n",
      " 170r-4.7246733e+02 8.88e+00 9.88e+02  -1.3 1.53e+02    -  5.10e-03 1.09e-02f  1\n",
      " 171 -4.7246738e+02 8.88e+00 2.08e+02  -6.0 1.76e+03    -  3.09e-02 1.48e-04h  1\n",
      " 172 -4.7246766e+02 8.87e+00 4.17e+03  -6.0 4.74e+03    -  2.74e-02 8.26e-04h  1\n",
      " 173 -4.7246769e+02 8.87e+00 1.00e+05  -6.0 1.59e+04    -  1.44e-02 7.63e-05h  1\n",
      " 174 -4.7247117e+02 8.78e+00 6.90e+05  -6.0 1.69e+04    -  3.30e-02 1.01e-02h  2\n",
      " 175 -4.7247599e+02 8.64e+00 1.29e+06  -6.0 1.31e+04    -  5.19e-02 1.38e-02h  2\n",
      " 176 -4.7248020e+02 8.53e+00 1.48e+06  -6.0 7.54e+03    -  4.71e-02 1.19e-02h  2\n",
      " 177 -4.7248889e+02 8.30e+00 4.67e+06  -6.0 3.44e+03    -  4.05e-02 2.44e-02h  1\n",
      " 178 -4.7249374e+02 8.17e+00 6.46e+08  -6.0 3.13e+03    -  2.73e-06 1.47e-02h  1\n",
      " 179r-4.7249374e+02 8.17e+00 1.00e+03   0.2 0.00e+00    -  0.00e+00 4.16e-08R  2\n",
      "iter    objective    inf_pr   inf_du lg(mu)  ||d||  lg(rg) alpha_du alpha_pr  ls\n",
      " 180r-4.7249373e+02 8.17e+00 3.33e+03   0.2 1.76e+03    -  2.48e-03 3.98e-07f  2\n",
      " 181r-4.7248738e+02 1.10e+01 5.12e+03   0.2 6.50e+02    -  9.29e-03 3.37e-03f  1\n",
      " 182 -4.7248738e+02 1.10e+01 5.11e+00  -6.0 6.22e+02    -  1.72e-06 1.05e-05h  1\n",
      " 183 -4.7248897e+02 1.09e+01 1.48e+03  -6.0 9.38e+02    -  3.31e-05 6.21e-03h  1\n",
      " 184r-4.7248897e+02 1.09e+01 9.99e+02  -1.0 0.00e+00    -  0.00e+00 5.50e-08R  2\n",
      " 185r-4.7248897e+02 1.09e+01 9.96e+02  -1.0 3.69e+02    -  2.75e-03 3.73e-07f  2\n",
      " 186r-4.7248883e+02 1.10e+01 9.92e+02  -1.0 1.71e+02    -  1.21e-02 3.70e-03f  1\n",
      " 187 -4.7248905e+02 1.10e+01 1.13e+01  -6.0 6.49e+02    -  9.28e-03 8.52e-04h  1\n",
      " 188r-4.7248905e+02 1.10e+01 9.99e+02  -1.5 0.00e+00    -  0.00e+00 2.43e-08R  2\n",
      " 189r-4.7248905e+02 1.10e+01 9.99e+02  -1.5 8.87e+03    -  2.01e-05 6.16e-06f  1\n",
      "iter    objective    inf_pr   inf_du lg(mu)  ||d||  lg(rg) alpha_du alpha_pr  ls\n",
      " 190r-4.7248906e+02 1.10e+01 9.99e+02  -1.5 2.03e+02    -  3.71e-03 4.17e-05f  1\n",
      " 191r-4.7248977e+02 1.06e+01 9.93e+02  -1.5 1.96e+02    -  1.00e-02 5.92e-03f  1\n",
      " 192 -4.7249098e+02 1.05e+01 4.57e+02  -6.0 7.91e+02    -  1.15e-02 4.68e-03h  1\n",
      " 193 -4.7249100e+02 1.05e+01 4.57e+02  -6.0 7.84e+02    -  9.04e-04 8.72e-05h  1\n",
      " 194 -4.7250483e+02 9.97e+00 9.27e+04  -6.0 7.81e+02    -  3.46e-03 5.52e-02f  1\n",
      " 195 -4.7250495e+02 9.97e+00 9.31e+04  -6.0 5.21e+02    -  1.46e-07 4.27e-04h  1\n",
      " 196 -4.7250875e+02 9.83e+00 8.93e+04  -6.0 5.22e+02    -  9.05e-03 1.38e-02f  1\n",
      " 197 -4.7258687e+02 7.31e+00 8.14e+05  -6.0 4.76e+02    -  1.82e-02 2.83e-01h  1\n",
      " 198 -4.7269315e+02 4.64e+00 1.85e+06  -6.0 1.86e+02    -  3.39e-05 4.23e-01h  1\n",
      " 199 -4.7265706e+02 4.58e+00 1.79e+06  -6.0 1.04e+02    -  1.08e-02 1.15e-02h  1\n",
      "iter    objective    inf_pr   inf_du lg(mu)  ||d||  lg(rg) alpha_du alpha_pr  ls\n",
      " 200 -4.7253071e+02 4.42e+00 1.70e+06  -6.0 1.03e+02    -  2.51e-02 3.51e-02h  3\n",
      " 201 -4.7251667e+02 4.41e+00 1.70e+06  -6.0 9.98e+01    -  1.18e-01 3.02e-03h  7\n",
      " 202 -4.7251118e+02 4.41e+00 1.70e+06  -6.0 9.95e+01    -  1.93e-02 9.40e-04h  7\n",
      " 203 -4.7250965e+02 4.41e+00 1.70e+06  -6.0 9.94e+01    -  1.33e-01 2.62e-04h  9\n",
      " 204 -4.7250938e+02 4.41e+00 1.70e+06  -6.0 9.94e+01    -  9.02e-02 4.68e-05h 13\n",
      " 205 -4.7097016e+02 3.34e+00 6.29e+05  -6.0 9.94e+01    -  1.77e-01 2.64e-01h  1\n",
      " 206 -4.7029242e+02 2.92e+00 4.55e+05  -6.0 7.76e+01    -  9.45e-02 1.31e-01h  1\n",
      " 207r-4.7029242e+02 2.92e+00 9.99e+02  -0.9 0.00e+00    -  0.00e+00 3.04e-07R  5\n",
      " 208r-4.7030325e+02 2.92e+00 9.99e+02  -0.9 1.42e+04    -  1.36e-05 2.26e-05f  1\n",
      " 209r-4.7030421e+02 2.92e+00 2.45e+03  -0.9 2.34e+02    -  1.17e-02 3.14e-05f  1\n",
      "iter    objective    inf_pr   inf_du lg(mu)  ||d||  lg(rg) alpha_du alpha_pr  ls\n",
      " 210r-4.7032019e+02 3.33e+00 3.89e+03  -0.9 1.18e+02    -  4.27e-02 1.26e-02f  1\n",
      " 211 -4.7011541e+02 3.16e+00 6.52e+03  -6.0 6.74e+01    -  2.89e-01 5.39e-02h  1\n",
      " 212 -4.6954810e+02 2.69e+00 9.17e+04  -6.0 6.54e+01    -  1.46e-01 1.54e-01h  1\n",
      " 213 -4.6724943e+02 1.48e+00 8.18e+05  -6.0 6.16e+01    -  3.15e-01 4.96e-01H  1\n",
      " 214 -4.6558750e+02 8.63e-01 8.10e+05  -6.0 5.42e+01    -  4.26e-01 4.52e-01H  1\n",
      " 215 -4.6475431e+02 6.36e-01 6.58e+05  -6.0 4.46e+01    -  5.60e-01 2.85e-01h  2\n",
      " 216 -4.6396713e+02 4.62e-01 5.12e+05  -6.0 4.06e+01    -  6.09e-01 2.97e-01h  2\n",
      " 217 -4.6355455e+02 3.87e-01 4.35e+05  -6.0 3.88e+01    -  8.25e-01 1.72e-01h  3\n",
      " 218 -4.6309755e+02 3.13e-01 3.57e+05  -6.0 3.79e+01    -  6.85e-01 2.00e-01h  3\n",
      " 219 -4.6308207e+02 3.11e-01 3.55e+05  -6.0 3.71e+01    -  9.25e-01 7.18e-03h  1\n",
      "iter    objective    inf_pr   inf_du lg(mu)  ||d||  lg(rg) alpha_du alpha_pr  ls\n",
      " 220 -4.6254427e+02 2.38e-01 2.74e+05  -6.0 3.70e+01    -  9.53e-01 2.50e-01h  3\n",
      " 221 -4.6204072e+02 1.83e-01 2.17e+05  -6.0 3.63e+01    -  1.00e+00 2.49e-01h  3\n",
      " 222 -4.6156309e+02 1.40e-01 1.78e+05  -6.0 3.58e+01    -  1.00e+00 2.50e-01h  3\n",
      " 223 -4.6110766e+02 1.07e-01 1.50e+05  -6.0 3.54e+01    -  1.00e+00 2.50e-01h  3\n",
      " 224 -4.6067047e+02 8.20e-02 1.31e+05  -6.0 3.52e+01    -  1.00e+00 2.50e-01h  3\n",
      " 225 -4.6024861e+02 6.28e-02 1.18e+05  -6.0 3.51e+01    -  1.00e+00 2.50e-01h  3\n",
      " 226 -4.5984011e+02 7.03e-02 1.09e+05  -6.0 3.51e+01    -  1.00e+00 2.50e-01h  3\n",
      " 227 -4.5944377e+02 7.85e-02 1.01e+05  -6.0 3.51e+01    -  1.00e+00 2.50e-01h  3\n",
      " 228 -4.5905901e+02 8.53e-02 9.50e+04  -6.0 3.52e+01    -  1.00e+00 2.50e-01h  3\n",
      " 229 -4.5868574e+02 9.05e-02 8.94e+04  -6.0 3.53e+01    -  1.00e+00 2.50e-01h  3\n",
      "iter    objective    inf_pr   inf_du lg(mu)  ||d||  lg(rg) alpha_du alpha_pr  ls\n",
      " 230 -4.5723928e+02 4.19e-01 1.89e+05  -6.0 3.54e+01    -  1.00e+00 1.00e+00w  1\n",
      " 231 -4.5583899e+02 4.60e-01 1.33e+05  -6.0 4.28e+01    -  6.45e-01 1.00e+00w  1\n",
      " 232 -4.5579520e+02 4.42e-01 1.27e+05  -6.0 4.82e+01    -  5.70e-01 4.03e-02w  1\n",
      " 233 -4.5832412e+02 9.41e-02 8.41e+04  -6.0 7.80e+02    -  1.00e+00 2.50e-01h  2\n",
      " 234 -4.5797455e+02 9.59e-02 7.89e+04  -6.0 3.56e+01    -  1.00e+00 2.50e-01h  3\n",
      " 235 -4.5763750e+02 9.62e-02 7.36e+04  -6.0 3.58e+01    -  1.00e+00 2.50e-01h  3\n",
      " 236 -4.5545346e+02 1.38e-01 2.05e+05  -6.0 3.60e+01    -  3.35e-01 9.30e-01H  1\n",
      " 237r-4.5545346e+02 1.38e-01 1.00e+03  -1.6 0.00e+00    -  0.00e+00 4.14e-07R  5\n",
      " 238r-4.5545292e+02 1.19e-01 1.00e+03  -1.6 4.05e+02    -  3.38e-06 1.35e-04f  1\n",
      " 239 -4.5545134e+02 1.19e-01 5.26e+05  -6.0 4.43e+01    -  3.28e-01 1.94e-03h  1\n",
      "iter    objective    inf_pr   inf_du lg(mu)  ||d||  lg(rg) alpha_du alpha_pr  ls\n",
      " 240 -4.5541971e+02 1.15e-01 1.06e+07  -6.0 4.44e+01    -  1.94e-03 3.89e-02h  1\n",
      " 241 -4.5541254e+02 1.14e-01 1.05e+07  -6.0 4.41e+01    -  5.55e-01 8.88e-03h  7\n",
      " 242 -4.5484440e+02 1.06e-01 3.08e+06  -6.0 4.40e+01    -  5.42e-02 7.06e-01h  1\n",
      " 243 -4.5482826e+02 1.04e-01 1.93e+07  -6.0 4.14e+01    -  5.46e-01 2.39e-02h  1\n",
      "In iteration 243, 1 Slack too small, adjusting variable bound\n",
      " 244 -4.5455162e+02 7.84e-02 1.79e+07  -6.0 4.13e+01    -  6.02e-01 4.12e-01h  1\n",
      " 245 -4.5454370e+02 7.73e-02 4.95e+08  -6.0 4.04e+01    -  1.85e-01 1.38e-02h  1\n",
      " 246r-4.5454370e+02 7.73e-02 1.00e+03  -1.8 0.00e+00    -  0.00e+00 1.54e-07R  2\n",
      " 247r-4.5481457e+02 6.04e-02 1.00e+03  -1.8 5.59e+03    -  4.92e-05 3.35e-04f  1\n",
      " 248r-4.5481479e+02 5.68e-02 9.96e+02  -1.8 1.10e+02    -  4.38e-03 1.70e-04f  1\n",
      " 249r-4.5481627e+02 6.05e-02 1.21e+03  -1.8 4.88e+01    -  3.04e-03 4.57e-03f  1\n",
      "iter    objective    inf_pr   inf_du lg(mu)  ||d||  lg(rg) alpha_du alpha_pr  ls\n",
      " 250r-4.5487399e+02 6.34e-02 2.17e+03  -1.8 3.40e+01    -  2.57e-02 8.51e-03f  1\n",
      " 251r-4.5505038e+02 6.76e-02 2.00e+03  -1.8 2.56e+01    -  2.22e-02 3.83e-02f  1\n",
      " 252r-4.5541839e+02 8.16e-02 1.85e+03  -1.8 2.16e+01    -  8.63e-02 8.33e-02f  1\n",
      " 253r-4.5637639e+02 2.15e-01 6.54e+03  -1.8 1.79e+01    -  4.59e-02 2.77e-01f  1\n",
      " 254r-4.5657032e+02 1.93e-01 2.74e+03  -1.8 1.05e+01    -  3.61e-01 1.17e-01f  1\n",
      " 255r-4.5737776e+02 3.24e-01 7.56e+03  -1.8 1.16e+01    -  3.13e-01 5.63e-01f  1\n",
      " 256r-4.5774321e+02 6.74e-01 2.70e+03  -1.8 8.31e+00    -  9.38e-01 1.00e+00f  1\n",
      " 257r-4.2345692e+02 7.79e-01 9.01e+02  -1.8 3.46e+01    -  3.62e-01 1.00e+00f  1\n",
      " 258r-4.4667119e+02 7.28e-01 1.04e+01  -1.8 2.34e+01    -  9.58e-01 1.00e+00f  1\n",
      " 259 -4.4687469e+02 7.06e-01 7.86e+02  -6.0 3.64e+02    -  6.69e-02 2.96e-02f  1\n",
      "iter    objective    inf_pr   inf_du lg(mu)  ||d||  lg(rg) alpha_du alpha_pr  ls\n",
      " 260 -4.4688920e+02 7.05e-01 8.03e+02  -6.0 6.63e+02    -  3.79e-02 1.97e-03f  1\n"
     ]
    },
    {
     "name": "stdout",
     "output_type": "stream",
     "text": [
      " 261 -4.4727913e+02 6.68e-01 4.28e+04  -6.0 6.95e+02    -  2.78e-03 5.23e-02f  3\n",
      " 262 -4.4763129e+02 6.36e-01 5.57e+04  -6.0 5.68e+02    -  1.36e-01 4.85e-02f  3\n",
      " 263 -4.4772068e+02 6.28e-01 5.54e+04  -6.0 4.50e+02    -  1.70e-01 1.20e-02f  5\n",
      " 264 -4.4791889e+02 6.13e-01 5.64e+04  -6.0 4.19e+02    -  2.19e-01 2.51e-02f  4\n",
      " 265 -4.4883924e+02 5.46e-01 1.09e+05  -6.0 3.58e+02    -  2.80e-01 1.11e-01f  2\n",
      " 266 -4.5030847e+02 4.50e-01 1.53e+05  -6.0 1.55e+02    -  3.74e-01 1.82e-01f  1\n",
      " 267 -4.5030847e+02 4.50e-01 1.53e+05  -6.0 2.93e+03    -  6.31e-06 5.91e-08h  3\n",
      " 268 -4.5041751e+02 4.44e-01 1.52e+05  -6.0 1.05e+02    -  1.73e-08 1.38e-02f  1\n",
      " 269 -4.5136945e+02 3.91e-01 1.85e+05  -6.0 1.05e+02    -  4.90e-02 1.22e-01f  1\n",
      "iter    objective    inf_pr   inf_du lg(mu)  ||d||  lg(rg) alpha_du alpha_pr  ls\n",
      " 270 -4.5240691e+02 3.33e-01 1.64e+05  -6.0 8.49e+01    -  2.87e-01 1.51e-01f  1\n",
      "In iteration 270, 1 Slack too small, adjusting variable bound\n",
      " 271 -4.5240692e+02 3.33e-01 1.64e+05  -6.0 4.72e+01    -  1.21e-01 1.67e-06h  1\n",
      " 272 -4.5543179e+02 1.76e-01 2.85e+05  -6.0 4.29e+01    -  2.93e-01 5.16e-01f  1\n",
      " 273 -4.5543499e+02 1.76e-01 2.85e+05  -6.0 3.28e+01    -  2.81e-05 1.33e-03h  1\n",
      " 274 -4.5692738e+02 8.38e-02 1.16e+05  -6.0 3.28e+01    -  1.39e-04 6.20e-01f  1\n",
      " 275 -4.5712435e+02 6.51e-02 4.28e+05  -6.0 1.99e+01    -  1.40e-01 8.86e-01f  1\n",
      " 276 -4.5690548e+02 6.03e-02 3.69e+05  -6.0 3.06e+01    -  6.85e-01 2.16e-01h  3\n",
      " 277 -4.5668201e+02 5.59e-02 3.10e+05  -6.0 2.93e+01    -  1.20e-01 2.41e-01h  3\n",
      " 278 -4.5645224e+02 5.16e-02 2.43e+05  -6.0 2.43e+01    -  1.22e-01 3.18e-01h  1\n",
      " 279 -4.5716597e+02 1.05e-01 1.34e+05  -6.0 5.22e+01    -  4.58e-02 5.10e-01F  1\n",
      "iter    objective    inf_pr   inf_du lg(mu)  ||d||  lg(rg) alpha_du alpha_pr  ls\n",
      " 280 -4.5717313e+02 1.04e-01 1.34e+05  -6.0 5.02e+01    -  2.48e-01 3.93e-03h  1\n",
      " 281 -4.5719390e+02 1.03e-01 1.32e+05  -6.0 5.13e+01    -  4.34e-01 1.12e-02f  1\n",
      " 282 -4.5825228e+02 2.99e-01 1.77e+05  -6.0 5.58e+01    -  2.68e-01 5.23e-01f  1\n",
      " 283 -4.5779289e+02 2.81e-01 1.29e+05  -6.0 5.35e+01    -  5.41e-05 2.18e-01h  3\n",
      " 284 -4.5736841e+02 2.60e-01 1.12e+05  -6.0 5.33e+01    -  1.81e-01 2.14e-01h  3\n",
      " 285 -4.5717297e+02 2.41e-01 1.09e+05  -6.0 5.33e+01    -  1.35e-02 1.05e-01h  4\n",
      " 286 -4.5716737e+02 2.41e-01 1.09e+05  -6.0 4.35e+01    -  5.21e-04 3.84e-03h  9\n",
      " 287 -4.5752282e+02 2.62e-01 1.15e+05  -6.0 4.08e+02    -  9.51e-05 2.45e-02f  2\n",
      " 288 -4.5778086e+02 2.71e-01 1.16e+05  -6.0 3.27e+02    -  1.04e-02 2.09e-02f  2\n",
      " 289 -4.5779722e+02 2.39e-01 1.03e+05  -6.0 1.19e+00  -2.0 7.35e-01 1.19e-01h  1\n",
      "iter    objective    inf_pr   inf_du lg(mu)  ||d||  lg(rg) alpha_du alpha_pr  ls\n",
      " 290 -4.5812934e+02 2.58e-01 1.04e+05  -6.0 3.76e+02    -  6.32e-02 2.25e-02f  1\n",
      " 291 -4.5813566e+02 1.10e-01 1.84e+06  -6.0 1.91e+00    -  4.77e-01 5.76e-01h  1\n",
      " 292 -4.5816727e+02 1.05e-01 1.93e+06  -6.0 1.88e+01    -  7.11e-01 3.97e-02h  1\n",
      " 293 -4.5820255e+02 6.35e-02 8.99e+06  -6.0 1.32e+00    -  3.31e-02 4.00e-01h  1\n",
      " 294 -4.5830936e+02 2.63e-03 9.23e+07  -6.0 2.13e+00    -  6.36e-02 1.00e+00f  1\n",
      " 295 -4.6000794e+02 6.52e-01 1.69e+09  -6.0 8.60e+01    -  2.30e-01 4.83e-01f  1\n",
      " 296 -4.6000795e+02 6.52e-01 1.69e+09  -6.0 1.39e+02    -  2.84e-01 1.61e-06h  2\n",
      " 297 -4.6076540e+02 6.61e-01 1.26e+09  -6.0 7.77e+01    -  5.18e-01 1.92e-01f  1\n",
      " 298 -4.6211930e+02 8.68e-01 1.02e+10  -6.0 7.59e+01    -  4.59e-04 3.40e-01f  1\n",
      " 299 -4.6472716e+02 1.88e+00 3.00e+10  -6.0 7.41e+01    -  6.14e-03 6.36e-01f  1\n",
      "iter    objective    inf_pr   inf_du lg(mu)  ||d||  lg(rg) alpha_du alpha_pr  ls\n",
      " 300 -4.6832622e+02 2.78e+00 2.50e+10  -6.0 7.34e+01    -  7.45e-02 8.10e-01f  1\n",
      " 301 -4.6848050e+02 2.18e+00 1.93e+10  -6.0 5.84e+00  -2.5 1.82e-01 2.16e-01h  1\n",
      " 302 -4.6975922e+02 4.06e-01 2.67e+09  -6.0 1.83e+01  -3.0 2.60e-01 8.34e-01h  1\n",
      " 303 -4.7315000e+02 7.85e-01 9.72e+08  -6.0 5.74e+01  -3.4 1.70e-05 7.65e-01f  1\n",
      " 304 -4.7315000e+02 7.85e-01 9.72e+08  -6.0 3.75e+00    -  5.56e-01 1.92e-04h  1\n",
      " 305 -4.7315000e+02 4.66e-02 7.89e+06  -6.0 3.95e+00    -  4.76e-01 9.80e-01h  1\n",
      " 306 -4.7315000e+02 4.33e-02 7.34e+06  -6.0 1.36e-01    -  2.16e-01 6.99e-02h  1\n",
      " 307 -4.7315000e+02 1.65e-05 4.28e+04  -6.0 1.26e-01    -  7.33e-01 1.00e+00f  1\n",
      " 308 -4.7315000e+02 2.74e-10 4.97e-02  -6.0 1.36e-03    -  1.00e+00 1.00e+00h  1\n",
      " 309 -4.7315000e+02 1.36e-10 7.67e-05  -6.0 6.25e-04    -  1.00e+00 1.00e+00h  1\n",
      "iter    objective    inf_pr   inf_du lg(mu)  ||d||  lg(rg) alpha_du alpha_pr  ls\n",
      " 310 -4.7315000e+02 8.43e-11 1.24e-07  -6.0 4.99e-05    -  1.00e+00 1.00e+00h  1\n",
      " 311 -4.7315000e+02 1.35e-10 1.68e+00  -9.0 7.25e-04    -  9.85e-01 9.99e-01h  1\n",
      " 312 -4.7315000e+02 1.35e-10 2.31e-06  -9.0 1.51e-05    -  1.00e+00 1.00e+00f  1\n",
      " 313 -4.7315000e+02 1.88e-11 1.80e-08  -9.0 3.16e-07    -  1.00e+00 1.00e+00h  1\n",
      " 314 -4.7315000e+02 4.09e-11 1.85e-08  -9.0 6.53e-07    -  1.00e+00 1.00e+00h  1\n",
      " 315 -4.7315000e+02 1.35e-10 7.71e-10  -9.0 1.74e-07    -  1.00e+00 1.00e+00h  1\n",
      "\n",
      "Number of Iterations....: 315\n",
      "\n",
      "                                   (scaled)                 (unscaled)\n",
      "Objective...............:  -4.7315000000818270e+02   -4.7315000000818270e+02\n",
      "Dual infeasibility......:   7.7062338191539971e-10    7.7062338191539971e-10\n",
      "Constraint violation....:   1.3452539906685934e-10    1.3452539906685934e-10\n",
      "Complementarity.........:   1.0072400613156403e-09    1.0072400613156403e-09\n",
      "Overall NLP error.......:   1.0072400613156403e-09    1.0072400613156403e-09\n",
      "\n",
      "\n",
      "Number of objective function evaluations             = 637\n",
      "Number of objective gradient evaluations             = 228\n",
      "Number of equality constraint evaluations            = 637\n",
      "Number of inequality constraint evaluations          = 637\n",
      "Number of equality constraint Jacobian evaluations   = 346\n",
      "Number of inequality constraint Jacobian evaluations = 346\n",
      "Number of Lagrangian Hessian evaluations             = 315\n",
      "Total CPU secs in IPOPT (w/o function evaluations)   =     81.863\n",
      "Total CPU secs in NLP function evaluations           =      2.829\n",
      "\n",
      "EXIT: Optimal Solution Found.\n"
     ]
    }
   ],
   "source": [
    "opt = pe.SolverFactory('ipopt')\n",
    "\n",
    "opt.options['print_user_options'] = 'yes'\n",
    "opt.options['linear_solver'] = 'ma86'\n",
    "\n",
    "opt.options['linear_system_scaling '] = 'mc19'\n",
    "opt.options['linear_scaling_on_demand '] = 'no'\n",
    "\n",
    "opt.options['warm_start_init_point'] = 'yes'\n",
    "opt.options['warm_start_bound_push'] = 1e-20\n",
    "opt.options['warm_start_mult_bound_push'] = 1e-20\n",
    "opt.options['mu_init'] = 1e-6\n",
    "# opt.options['recalc_y'] = 'yes'\n",
    "# opt.options['bound_relax_factor'] = 0\n",
    "# opt.options['halt_on_ampl_error'] = 'yes'\n",
    "\n",
    "opt.options['max_iter'] = 7000\n",
    "results = opt.solve(model,tee=True)\n",
    "update_dual(pe,model)"
   ]
  },
  {
   "cell_type": "code",
   "execution_count": 30,
   "metadata": {},
   "outputs": [
    {
     "data": {
      "text/plain": [
       "20.000000234582448"
      ]
     },
     "execution_count": 30,
     "metadata": {},
     "output_type": "execute_result"
    }
   ],
   "source": [
    "model.reactive[1].VLE_block.P_VLE.value"
   ]
  },
  {
   "cell_type": "code",
   "execution_count": 31,
   "metadata": {},
   "outputs": [
    {
     "data": {
      "text/plain": [
       "0.477671914266457"
      ]
     },
     "execution_count": 31,
     "metadata": {},
     "output_type": "execute_result"
    }
   ],
   "source": [
    "model.reactive[1].V['out'].value"
   ]
  },
  {
   "cell_type": "code",
   "execution_count": 32,
   "metadata": {
    "scrolled": false
   },
   "outputs": [
    {
     "name": "stdout",
     "output_type": "stream",
     "text": [
      "Here comes the result:\n",
      "----------------------------------------------------------------------------------------------------\n",
      "T\t\t\t Q\t\t\t V\t\t\t L\n",
      "30.0 \t -12.34255202320544 \t 0.2644427454961411 \t 0\n",
      "200.0 \t -43.399062143066914 \t 0.477671914266457 \t 0.009394949005439988\n",
      "200.00000363759392 \t 0 \t 0.0 \t 0.009394950765703155\n",
      "----------------------------------------------------------------------------------------------------\n",
      "Top Product V/L/W\n",
      "0.2644427454961411\n",
      "0.004922239447260747\n",
      "0.19845256263075048\n",
      "----------------------------------------------------------------------------------------------------\n",
      "Bottom Product L\n",
      "0.009394950765703155\n",
      "----------------------------------------------------------------------------------------------------\n",
      "Condenser:\tVapor\t\tLiquid\t\tReboiler\tVapor\t\tLiquid\n",
      "H2 \t\t70.171%\t\t0.924%\t\t\t\t38.857%\t\t1.358%\n",
      "CO \t\t8.922%\t\t0.252%\t\t\t\t4.942%\t\t0.231%\n",
      "CO2 \t\t18.724%\t\t3.638%\t\t\t\t10.403%\t\t1.216%\n",
      "H2O \t\t0.223%\t\t0.000%\t\t\t\t43.732%\t\t12.701%\n",
      "C2H4 \t\t0.258%\t\t0.081%\t\t\t\t0.144%\t\t0.021%\n",
      "C3H6 \t\t0.290%\t\t0.485%\t\t\t\t0.165%\t\t0.054%\n",
      "C4H8 \t\t0.242%\t\t1.308%\t\t\t\t0.147%\t\t0.056%\n",
      "C5H10 \t\t0.153%\t\t2.826%\t\t\t\t0.114%\t\t0.088%\n",
      "C6H12 \t\t0.089%\t\t5.417%\t\t\t\t0.105%\t\t0.154%\n",
      "C7H14 \t\t0.038%\t\t7.342%\t\t\t\t0.097%\t\t0.251%\n",
      "C8H16 \t\t0.013%\t\t7.813%\t\t\t\t0.088%\t\t0.391%\n",
      "C9H18 \t\t0.004%\t\t7.360%\t\t\t\t0.078%\t\t0.582%\n",
      "C10H20 \t\t0.001%\t\t6.509%\t\t\t\t0.068%\t\t0.827%\n",
      "C11H22 \t\t0.000%\t\t3.502%\t\t\t\t0.036%\t\t0.712%\n",
      "C12H24 \t\t0.000%\t\t2.828%\t\t\t\t0.029%\t\t0.912%\n",
      "C13H26 \t\t0.000%\t\t2.180%\t\t\t\t0.022%\t\t1.105%\n",
      "C14H28 \t\t0.000%\t\t1.605%\t\t\t\t0.017%\t\t1.268%\n",
      "C15H30 \t\t0.000%\t\t1.133%\t\t\t\t0.012%\t\t1.386%\n",
      "C16H32 \t\t0.000%\t\t0.773%\t\t\t\t0.008%\t\t1.453%\n",
      "C17H34 \t\t0.000%\t\t0.513%\t\t\t\t0.005%\t\t1.474%\n",
      "C18H36 \t\t0.000%\t\t0.334%\t\t\t\t0.003%\t\t1.461%\n",
      "C19H38 \t\t0.000%\t\t0.215%\t\t\t\t0.002%\t\t1.423%\n",
      "C20H40 \t\t0.000%\t\t0.137%\t\t\t\t0.001%\t\t1.369%\n",
      "C1H4 \t\t0.425%\t\t0.036%\t\t\t\t0.236%\t\t0.020%\n",
      "C2H6 \t\t0.138%\t\t0.074%\t\t\t\t0.077%\t\t0.013%\n",
      "C3H8 \t\t0.072%\t\t0.126%\t\t\t\t0.041%\t\t0.014%\n",
      "C4H10 \t\t0.075%\t\t0.492%\t\t\t\t0.046%\t\t0.020%\n",
      "C5H12 \t\t0.085%\t\t1.904%\t\t\t\t0.067%\t\t0.058%\n",
      "C6H14 \t\t0.047%\t\t3.450%\t\t\t\t0.062%\t\t0.099%\n",
      "C7H16 \t\t0.019%\t\t4.460%\t\t\t\t0.057%\t\t0.161%\n",
      "C8H18 \t\t0.006%\t\t4.625%\t\t\t\t0.051%\t\t0.249%\n",
      "C9H20 \t\t0.002%\t\t4.303%\t\t\t\t0.045%\t\t0.367%\n",
      "C10H22 \t\t0.001%\t\t3.775%\t\t\t\t0.039%\t\t0.518%\n",
      "C11H24 \t\t0.000%\t\t5.117%\t\t\t\t0.053%\t\t1.122%\n",
      "C12H26 \t\t0.000%\t\t4.101%\t\t\t\t0.042%\t\t1.425%\n",
      "C13H28 \t\t0.000%\t\t3.137%\t\t\t\t0.032%\t\t1.711%\n",
      "C14H30 \t\t0.000%\t\t2.293%\t\t\t\t0.024%\t\t1.947%\n",
      "C15H32 \t\t0.000%\t\t1.609%\t\t\t\t0.017%\t\t2.111%\n",
      "C16H34 \t\t0.000%\t\t1.092%\t\t\t\t0.011%\t\t2.201%\n",
      "C17H36 \t\t0.000%\t\t0.722%\t\t\t\t0.007%\t\t2.224%\n",
      "C18H38 \t\t0.000%\t\t0.469%\t\t\t\t0.005%\t\t2.196%\n",
      "C19H40 \t\t0.000%\t\t0.301%\t\t\t\t0.003%\t\t2.134%\n",
      "C20H42 \t\t0.000%\t\t0.191%\t\t\t\t0.002%\t\t2.050%\n",
      "C21H44 \t\t0.000%\t\t0.203%\t\t\t\t0.002%\t\t3.263%\n",
      "C22H46 \t\t0.000%\t\t0.128%\t\t\t\t0.001%\t\t3.095%\n",
      "C23H48 \t\t0.000%\t\t0.081%\t\t\t\t0.001%\t\t2.925%\n",
      "C24H50 \t\t0.000%\t\t0.051%\t\t\t\t0.001%\t\t2.758%\n",
      "C25H52 \t\t0.000%\t\t0.032%\t\t\t\t0.000%\t\t2.596%\n",
      "C26H54 \t\t0.000%\t\t0.020%\t\t\t\t0.000%\t\t2.441%\n",
      "C27H56 \t\t0.000%\t\t0.013%\t\t\t\t0.000%\t\t2.294%\n",
      "C28H58 \t\t0.000%\t\t0.008%\t\t\t\t0.000%\t\t2.155%\n",
      "C29H60 \t\t0.000%\t\t0.005%\t\t\t\t0.000%\t\t2.023%\n",
      "C30H62 \t\t0.000%\t\t0.003%\t\t\t\t0.000%\t\t1.900%\n",
      "C31H64 \t\t0.000%\t\t0.002%\t\t\t\t0.000%\t\t1.783%\n",
      "C32H66 \t\t0.000%\t\t0.001%\t\t\t\t0.000%\t\t1.674%\n"
     ]
    }
   ],
   "source": [
    "beautify(pe,model)"
   ]
  },
  {
   "cell_type": "code",
   "execution_count": 33,
   "metadata": {},
   "outputs": [
    {
     "data": {
      "text/plain": [
       "0.25989787956614424"
      ]
     },
     "execution_count": 33,
     "metadata": {},
     "output_type": "execute_result"
    }
   ],
   "source": [
    "model.reactive[1].kinetics_block.r_FT_total.value"
   ]
  },
  {
   "cell_type": "code",
   "execution_count": null,
   "metadata": {},
   "outputs": [],
   "source": [
    "# model.solutions.store_to(results)\n",
    "# with open('../saved_solutions/3_stage_condenser_240C.pickle','wb') as f:\n",
    "#     pickle.dump(results,f)"
   ]
  },
  {
   "cell_type": "markdown",
   "metadata": {},
   "source": [
    "# So, what exactly does adding a reflux do?"
   ]
  },
  {
   "cell_type": "code",
   "execution_count": null,
   "metadata": {},
   "outputs": [],
   "source": [
    "opt.options['warm_start_init_point'] = 'yes'\n",
    "opt.options['warm_start_bound_push'] = 1e-20\n",
    "opt.options['warm_start_mult_bound_push'] = 1e-20\n",
    "opt.options['mu_init'] = 1e-6"
   ]
  },
  {
   "cell_type": "code",
   "execution_count": null,
   "metadata": {},
   "outputs": [],
   "source": [
    "results_anchor = results\n",
    "update_dual(pe,model)\n",
    "model.solutions.store_to(results_anchor)"
   ]
  },
  {
   "cell_type": "code",
   "execution_count": null,
   "metadata": {},
   "outputs": [],
   "source": [
    "Refluxrange = np.linspace(0,2,41)\n",
    "Trange = np.linspace(300+273.15,200+273.15,21)"
   ]
  },
  {
   "cell_type": "code",
   "execution_count": null,
   "metadata": {
    "scrolled": false
   },
   "outputs": [],
   "source": [
    "cd_data_master = {}\n",
    "rf_data_master = {}\n",
    "\n",
    "for t in Trange:\n",
    "    model.del_component(model.obj)\n",
    "    model.obj = pe.Objective(expr = sum(model.reactive[j].T - model.reactive[j].MPCC.pf for j in model.TRAY) ,sense=pe.maximize)\n",
    "    model.solutions.load_from(results_anchor)\n",
    "    update_dual(pe,model)\n",
    "    \n",
    "    for j in model.reactive:\n",
    "        model.reactive[j].T.fixed = False\n",
    "        model.reactive[j].T.setub(t)\n",
    "        model.reactive[j].T = t\n",
    "    model.condenser.L['out'].fix(0)\n",
    "    \n",
    "    results_anchor = opt.solve(model,tee=False)\n",
    "    model.solutions.store_to(results_anchor)\n",
    "    \n",
    "    model.del_component(model.obj)\n",
    "    model.obj = pe.Objective(expr = model.condenser.L['out'] - sum(model.reactive[j].MPCC.pf for j in model.TRAY),sense=pe.maximize)\n",
    "    model.condenser.L['out'].fixed = False\n",
    "    for j in model.reactive:\n",
    "        model.reactive[j].T.fixed=True\n",
    "    \n",
    "    print('\\nWorking on T = {} K'.format(model.reactive[1].T.value))\n",
    "    print('-'*108)\n",
    "    \n",
    "    cd_data = {};\n",
    "    cd_data['Re'] = []; cd_data['D'] = []; cd_data['V'] = []\n",
    "    cd_data['x'] = {}; cd_data['y'] = {}; cd_data['g'] = {}; cd_data['d'] = {}; cd_data['b'] = {}\n",
    "    for i in m.COMP_TOTAL:\n",
    "        cd_data['x'][i] = []\n",
    "        cd_data['y'][i] = []\n",
    "        cd_data['g'][i] = []\n",
    "        cd_data['d'][i] = []\n",
    "        cd_data['b'][i] = []\n",
    "\n",
    "    rf_data = {}\n",
    "    for j in model.reactive:\n",
    "        rf_data[j] = {}\n",
    "        rf_data[j]['r'] = {}; rf_data[j]['b'] = {}; rf_data[j]['x'] = {};rf_data[j]['y'] = {};\n",
    "        rf_data[j]['T'] = []; rf_data[j]['Q'] = []; rf_data[j]['V'] = []; rf_data[j]['L'] = []; \n",
    "        rf_data[j]['r_WGS'] = []; rf_data[j]['r_FT'] = []; rf_data[j]['pf'] = []\n",
    "        for i in m.COMP_TOTAL:\n",
    "            rf_data[j]['r'][i] = []\n",
    "            rf_data[j]['b'][i] = []\n",
    "            rf_data[j]['x'][i] = []\n",
    "            rf_data[j]['y'][i] = []       \n",
    "\n",
    "    for re in Refluxrange:\n",
    "        model.condenser.L['out'].setub(re)\n",
    "        results = opt.solve(model,tee=False)\n",
    "        update_dual(pe,model)\n",
    "        print('Solved\\t|Reflux = {:.3f} kmol/s\\t|Vapor = {:.3f} kmol/s\\t|Distillate = {:.3f} kmol/s\\t|Bottom = {:.3f} kmol/s'.\\\n",
    "              format(model.condenser.L['out'].value,model.condenser.V['out'].value,model.condenser.L['P'].value,model.reactive[3].L['out'].value))\n",
    "\n",
    "        cd_data['V'].append(model.condenser.V['out'].value)\n",
    "        cd_data['D'].append(model.condenser.L['P'].value)\n",
    "        cd_data['Re'].append(model.condenser.L['out'].value)\n",
    "\n",
    "        for i in model.reactive[1].r_total_comp:\n",
    "            cd_data['x'][i].append(model.condenser.x[i].value)\n",
    "            cd_data['y'][i].append(model.condenser.y[i].value)\n",
    "            cd_data['g'][i].append(model.condenser.y[i].value*model.condenser.V['out'].value)\n",
    "            cd_data['d'][i].append(model.condenser.x[i].value*model.condenser.L['P'].value)\n",
    "            cd_data['b'][i].append(model.condenser.x[i].value*model.condenser.L['out'].value)\n",
    "\n",
    "        for j in model.reactive:      \n",
    "            rf_data[j]['T'].append(model.reactive[j].T.value)\n",
    "            rf_data[j]['Q'].append(model.reactive[j].Q_main.value)\n",
    "            rf_data[j]['V'].append(model.reactive[j].V['out'].value)\n",
    "            rf_data[j]['L'].append(model.reactive[j].L['out'].value)\n",
    "            rf_data[j]['r_WGS'].append(model.reactive[j].kinetics_block.r_WGS.value)\n",
    "            rf_data[j]['r_FT'].append(model.reactive[j].kinetics_block.r_FT_total.value)\n",
    "            rf_data[j]['pf'].append(model.reactive[j].MPCC.pf.value)\n",
    "\n",
    "            for i in model.reactive[1].r_total_comp:\n",
    "                rf_data[j]['r'][i].append(model.reactive[j].r_total_comp[i].value)\n",
    "                rf_data[j]['b'][i].append(model.reactive[j].x[i].value*model.reactive[j].L['out'].value)\n",
    "                rf_data[j]['x'][i].append(model.reactive[j].x[i].value)\n",
    "                rf_data[j]['y'][i].append(model.reactive[j].y[i].value)\n",
    "        \n",
    "    cd_data_master[t] = cd_data\n",
    "    rf_data_master[t] = rf_data"
   ]
  },
  {
   "cell_type": "code",
   "execution_count": null,
   "metadata": {},
   "outputs": [],
   "source": [
    "cnumber_range = range(1,57)"
   ]
  },
  {
   "cell_type": "code",
   "execution_count": null,
   "metadata": {},
   "outputs": [],
   "source": [
    "def trans_cnumber(dic):\n",
    "    molefraction = {}\n",
    "    for i in range(1,57):\n",
    "        molefraction[i] = []\n",
    "    for i in m.COMP_ORG:\n",
    "        molefraction[cal_cnumber(i)].append(np.array(dic[i]))\n",
    "    for i in range(1,57):\n",
    "        molefraction[i] = np.sum(molefraction[i],0)\n",
    "    length = len(molefraction[1])\n",
    "    tmp = {}\n",
    "    for j in range(length):\n",
    "        tmp[j] = []\n",
    "        for i in range(1,57):\n",
    "            tmp[j].append(molefraction[i][j])\n",
    "    return tmp"
   ]
  },
  {
   "cell_type": "code",
   "execution_count": null,
   "metadata": {},
   "outputs": [],
   "source": [
    "g_data = {}\n",
    "d_data = {}\n",
    "lr_data = {}\n",
    "l1_data = {}\n",
    "l2_data = {}\n",
    "l3_data = {}\n",
    "\n",
    "cd_x_data = {}\n",
    "rf_x_data = {}\n",
    "\n",
    "for t in Trange:\n",
    "\n",
    "    g_data[t] = trans_cnumber(cd_data_master[t]['g'])\n",
    "    d_data[t] = trans_cnumber(cd_data_master[t]['d'])\n",
    "    lr_data[t] = trans_cnumber(cd_data_master[t]['d'])\n",
    "    l1_data[t] = trans_cnumber(rf_data_master[t][1]['b'])\n",
    "    l2_data[t] = trans_cnumber(rf_data_master[t][2]['b'])\n",
    "    l3_data[t] = trans_cnumber(rf_data_master[t][3]['b'])\n",
    "    \n",
    "    cd_x_data[t] = trans_cnumber(cd_data_master[t]['x'])\n",
    "    rf_x_data[t] = {}\n",
    "    for j in model.reactive:\n",
    "        rf_x_data[t][j] = trans_cnumber(rf_data_master[t][j]['x'])"
   ]
  },
  {
   "cell_type": "code",
   "execution_count": null,
   "metadata": {},
   "outputs": [],
   "source": [
    " def plot_distribution(index,temperature):\n",
    "    fig, (ax,ax2) = plt.subplots(2,1,figsize=(16,12))\n",
    "    ax.plot(cnumber_range,g_data[temperature][index],'co-')\n",
    "    ax.plot(cnumber_range,d_data[temperature][index],'go-')\n",
    "    ax.plot(cnumber_range,lr_data[temperature][index],'ro-',alpha=0.1)\n",
    "    ax.plot(cnumber_range,l1_data[temperature][index],'ro-',alpha=0.3)\n",
    "    ax.plot(cnumber_range,l2_data[temperature][index],'ro-',alpha=0.5)\n",
    "    ax.plot(cnumber_range,l3_data[temperature][index],'ro-')\n",
    "    ax.set_yscale(\"log\")\n",
    "    ax.set_ylim(1e-12, 1)\n",
    "    ax.legend(['Vapor','Distillate','Reflux','L1','L2','Bottom'],fontsize=18)\n",
    "    ax.set_title('T, Reflux {:.2f} kmol/s'.format(cd_data_master[temperature]['Re'][index]),fontsize=18)\n",
    "\n",
    "    ax.set_ylabel('Molar Flow (kmol/s)', color='K',fontsize=18)\n",
    "    ax.set_xlabel('Carbon Number', color='K',fontsize=18)\n",
    "    # ax.tick_params('y', colors='k',labelsize=18)\n",
    "    # ax.tick_params('x', colors='k',labelsize=18)\n",
    "\n",
    "    ax2.plot(cnumber_range,cd_x_data[temperature][index],'go-')\n",
    "    ax2.plot(cnumber_range,rf_x_data[temperature][1][index],'co-')\n",
    "    ax2.plot(cnumber_range,rf_x_data[temperature][2][index],'bo-')\n",
    "    ax2.plot(cnumber_range,rf_x_data[temperature][3][index],'ro-')\n",
    "\n",
    "    ax2.set_ylim(0, 0.2)\n",
    "    ax2.legend(['Condenser','Stage 1','Stage 2','Stage 3'],fontsize=18)\n",
    "    ax2.set_title('Liquid Composition (Mole)',fontsize=18)\n",
    "\n",
    "    ax2.set_ylabel('Molar Fraction', color='K',fontsize=18)\n",
    "    ax2.set_xlabel('Carbon Number', color='K',fontsize=18)\n",
    "\n",
    "    ax.grid()\n",
    "    ax2.grid()\n",
    "    plt.show()"
   ]
  },
  {
   "cell_type": "code",
   "execution_count": null,
   "metadata": {
    "scrolled": false
   },
   "outputs": [],
   "source": [
    "widgets.interact(plot_distribution, index = widgets.IntSlider(\n",
    "    value=0,\n",
    "    min=0,\n",
    "    max=20,\n",
    "    step=1,\n",
    "    description='Reflux:'),temperature=widgets.SelectionSlider(\n",
    "    options=Trange,\n",
    "    value=Trange[0],\n",
    "    description='Temperature',\n",
    "    disabled=False,\n",
    "    continuous_update=False,\n",
    "    orientation='horizontal',\n",
    "    readout=True)\n",
    ");"
   ]
  },
  {
   "cell_type": "code",
   "execution_count": null,
   "metadata": {
    "scrolled": false
   },
   "outputs": [],
   "source": [
    "plot_distribution(20,523.15)"
   ]
  },
  {
   "cell_type": "code",
   "execution_count": null,
   "metadata": {},
   "outputs": [],
   "source": []
  }
 ],
 "metadata": {
  "kernelspec": {
   "display_name": "Python 3",
   "language": "python",
   "name": "python3"
  },
  "language_info": {
   "codemirror_mode": {
    "name": "ipython",
    "version": 3
   },
   "file_extension": ".py",
   "mimetype": "text/x-python",
   "name": "python",
   "nbconvert_exporter": "python",
   "pygments_lexer": "ipython3",
   "version": "3.6.3"
  }
 },
 "nbformat": 4,
 "nbformat_minor": 2
}
