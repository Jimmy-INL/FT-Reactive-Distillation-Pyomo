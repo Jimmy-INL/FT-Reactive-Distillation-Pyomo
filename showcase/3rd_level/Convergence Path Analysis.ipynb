{
 "cells": [
  {
   "cell_type": "markdown",
   "metadata": {},
   "source": [
    "notes to myself:\n",
    "* pf\n",
    "    - 2step_free_F17\n",
    "    - 2step_controlled_F16\n",
    "    - 1step_free_F14\n",
    "    - 1step_controlled_F17\n",
    "* NCP\n",
    "    - 2step_free_F16\n",
    "    - 1step_controlled_F16\n",
    "    - 1step_controlled_F14"
   ]
  },
  {
   "cell_type": "code",
   "execution_count": 1,
   "metadata": {},
   "outputs": [],
   "source": [
    "%matplotlib qt5\n",
    "\n",
    "import numpy as np\n",
    "import matplotlib.pyplot as plt\n",
    "from matplotlib import style\n",
    "import pickle"
   ]
  },
  {
   "cell_type": "code",
   "execution_count": 2,
   "metadata": {},
   "outputs": [],
   "source": [
    "with open('./log/results/meta_results_pf_2step_F17.pickle','rb') as f:\n",
    "    results_2step_F17 = pickle.load(f)\n",
    "with open('./log/results/meta_results_pf_2step_F16.pickle','rb') as f:\n",
    "    results_2step_F16 = pickle.load(f)\n",
    "with open('./log/results/meta_results_pf_1step_F17.pickle','rb') as f:\n",
    "    results_1step_F17 = pickle.load(f)\n",
    "with open('./log/results/meta_results_pf_1step_F14.pickle','rb') as f:\n",
    "    results_1step_F14 = pickle.load(f)"
   ]
  },
  {
   "cell_type": "code",
   "execution_count": 3,
   "metadata": {},
   "outputs": [],
   "source": [
    "scenario = {'2step':results_2step_F17}\n",
    "scenario = {'2step':results_2step_F17,'1step_controlled':results_1step_F17}\n",
    "# scenario = {'2step':results_2step_F17,'1step_free':results_1step_F14}\n",
    "scenario = {'2step':results_2step_F17,'1step_controlled':results_1step_F17,'1step_free':results_1step_F14}"
   ]
  },
  {
   "cell_type": "code",
   "execution_count": 4,
   "metadata": {},
   "outputs": [],
   "source": [
    "tray_flag = [i for i in range(1,21)]\n",
    "feed_flag = [8,9,10,11,12,13,14,15,16,17,18,19,20]\n",
    "reactive_flag = [8,9,10,11,12,14,15,16,17,18]\n",
    "product_flag = ['condenser','reactive[4]','reactive[7]','reactive[10]','reboiler']"
   ]
  },
  {
   "cell_type": "markdown",
   "metadata": {},
   "source": [
    "# Create an easy-to-carry dictionary"
   ]
  },
  {
   "cell_type": "code",
   "execution_count": 5,
   "metadata": {},
   "outputs": [],
   "source": [
    "obj_data = {key: [] for key in scenario}\n",
    "T_data = {key: {j:[] for j in reactive_flag} for key in scenario}\n",
    "P_data = {key: {j:[] for j in product_flag} for key in scenario}\n",
    "R_data = {key: [] for key in scenario}\n",
    "F_data = {key: {j:[] for j in tray_flag} for key in scenario}\n",
    "\n",
    "for key in scenario:\n",
    "    for it in scenario[key]['reactive[1].x_[in,H2]'].keys():\n",
    "        for j in reactive_flag:\n",
    "            T_data[key][j].append(scenario[key]['reactive[{}].T'.format(j)][it])\n",
    "        for j in product_flag:\n",
    "            P_data[key][j].append(scenario[key]['{}.L[P]'.format(j)][it])\n",
    "        R_data[key].append(scenario[key]['condenser.L[out]'][it]/\\\n",
    "                          scenario[key]['condenser.L[P]'][it])\n",
    "        \n",
    "        # fot 2-step approach, first half F is fixed, so value couldn't be found in the result object\n",
    "        for j in tray_flag:\n",
    "            try:\n",
    "                F_data[key][j].append(scenario[key]['reactive[{}].F'.format(j)][it])\n",
    "            except KeyError:\n",
    "                if j in reactive_flag:\n",
    "                    F_data[key][j].append(1)\n",
    "                else:\n",
    "                    F_data[key][j].append(0)"
   ]
  },
  {
   "cell_type": "markdown",
   "metadata": {},
   "source": [
    "# Plot style sheet"
   ]
  },
  {
   "cell_type": "code",
   "execution_count": 6,
   "metadata": {},
   "outputs": [],
   "source": [
    "style.use('seaborn-paper')"
   ]
  },
  {
   "cell_type": "code",
   "execution_count": 7,
   "metadata": {},
   "outputs": [],
   "source": [
    "fig, axs = plt.subplots(5,1,figsize=(10,12),sharex=True)\n",
    "\n",
    "for key in scenario:\n",
    "    axs[0].plot(P_data[key]['reactive[7]'],label=key)\n",
    "    axs[1].plot(R_data[key],label=key)\n",
    "    axs[2].plot(P_data[key]['condenser'],label=key)\n",
    "    axs[3].plot(P_data[key]['reactive[4]'],label=key)\n",
    "    axs[4].plot(P_data[key]['reactive[10]'],label=key)\n",
    "\n",
    "for ax in axs:\n",
    "    ax.grid()\n",
    "\n",
    "axs[0].set_title('Obj: Gasoline')\n",
    "axs[0].legend()\n",
    "\n",
    "axs[1].set_title('Reflux Ratio')\n",
    "axs[1].legend()\n",
    "\n",
    "axs[2].set_title('Naphtha')\n",
    "axs[2].legend()\n",
    "\n",
    "axs[3].set_title('Heavy Naphtha')\n",
    "axs[3].legend()\n",
    "\n",
    "axs[4].set_title('Diesel')\n",
    "axs[4].legend()\n",
    "\n",
    "plt.tight_layout()\n",
    "plt.show()"
   ]
  },
  {
   "cell_type": "code",
   "execution_count": 8,
   "metadata": {},
   "outputs": [],
   "source": [
    "fig2, axs = plt.subplots(len(reactive_flag),2,figsize=(10,12),sharex=True)\n",
    "\n",
    "for j, stage in enumerate(reactive_flag):\n",
    "    for key in scenario:\n",
    "        axs[j][0].plot(T_data[key][stage],label=key)\n",
    "        axs[j][1].plot(np.absolute((np.array(T_data[key][stage]) - T_data[key][stage][-1])/T_data[key][stage][-1]),label=key)\n",
    "        axs[j][0].set_ylim(200+273.15,300+273.15)\n",
    "        axs[j][1].set_ylim(0,0.1)\n",
    "\n",
    "for a in axs:\n",
    "    for x in a:\n",
    "        x.grid()        \n",
    "\n",
    "axs[0][0].set_title('Temperature')\n",
    "axs[0][1].set_title('Temperature %')\n",
    "        \n",
    "axs[0][1].legend()\n",
    "fig2.suptitle('Temperature')\n",
    "\n",
    "plt.tight_layout()\n",
    "plt.show()"
   ]
  },
  {
   "cell_type": "code",
   "execution_count": 9,
   "metadata": {},
   "outputs": [],
   "source": [
    "fig3, axs = plt.subplots(len(feed_flag),2,figsize=(10,12),sharex=True)\n",
    "\n",
    "for j, stage in enumerate(feed_flag):\n",
    "    for key in scenario:\n",
    "        axs[j][0].plot(F_data[key][stage],label=key)\n",
    "        axs[j][1].plot(np.absolute((np.array(F_data[key][stage]) - F_data[key][stage][-1])/F_data[key][stage][-1]),label=key)\n",
    "        axs[j][0].set_ylim(0,6)\n",
    "        # axs[j][1].set_ylim(0,1)\n",
    "\n",
    "for a in axs:\n",
    "    for x in a:\n",
    "        x.grid()        \n",
    "\n",
    "axs[0][0].set_title('Feed')\n",
    "axs[0][1].set_title('Feed %')\n",
    "        \n",
    "axs[0][1].legend()\n",
    "fig3.suptitle('Feed')\n",
    "\n",
    "plt.tight_layout()\n",
    "plt.show()"
   ]
  },
  {
   "cell_type": "code",
   "execution_count": null,
   "metadata": {},
   "outputs": [],
   "source": []
  }
 ],
 "metadata": {
  "kernelspec": {
   "display_name": "Python 3",
   "language": "python",
   "name": "python3"
  },
  "language_info": {
   "codemirror_mode": {
    "name": "ipython",
    "version": 3
   },
   "file_extension": ".py",
   "mimetype": "text/x-python",
   "name": "python",
   "nbconvert_exporter": "python",
   "pygments_lexer": "ipython3",
   "version": "3.6.5"
  }
 },
 "nbformat": 4,
 "nbformat_minor": 2
}
