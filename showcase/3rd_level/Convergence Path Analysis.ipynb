{
 "cells": [
  {
   "cell_type": "code",
   "execution_count": 2,
   "metadata": {},
   "outputs": [],
   "source": [
    "%matplotlib qt5\n",
    "\n",
    "import numpy as np\n",
    "import matplotlib.pyplot as plt\n",
    "from matplotlib import style\n",
    "import dill"
   ]
  },
  {
   "cell_type": "code",
   "execution_count": 3,
   "metadata": {},
   "outputs": [],
   "source": [
    "with open('./meta_results_pf_2step_F17.pickle','rb') as f:\n",
    "    results_2step_F17 = dill.load(f)\n",
    "with open('./meta_results_pf_1step_F17.pickle','rb') as f:\n",
    "    results_1step_F17 = dill.load(f)\n",
    "with open('./meta_results_pf_1step_F14.pickle','rb') as f:\n",
    "    results_1step_F14 = dill.load(f)"
   ]
  },
  {
   "cell_type": "code",
   "execution_count": 4,
   "metadata": {},
   "outputs": [],
   "source": [
    "scenario = {'2step':results_2step_F17,'1step_controlled':results_1step_F17,'1step_free':results_1step_F14}"
   ]
  },
  {
   "cell_type": "code",
   "execution_count": 5,
   "metadata": {},
   "outputs": [],
   "source": [
    "tray_flag = [i for i in range(1,21)]\n",
    "reactive_flag = [8,9,10,11,12,14,15,16,17,18]\n",
    "product_flag = ['condenser','reactive[7]','reactive[10]','reboiler']"
   ]
  },
  {
   "cell_type": "markdown",
   "metadata": {},
   "source": [
    "# Create an easy-to-carry dictionary"
   ]
  },
  {
   "cell_type": "code",
   "execution_count": 7,
   "metadata": {},
   "outputs": [],
   "source": [
    "obj_data = {key: [] for key in scenario}\n",
    "T_data = {key: {j:[] for j in reactive_flag} for key in scenario}\n",
    "P_data = {key: {j:[] for j in product_flag} for key in scenario}\n",
    "R_data = {key: [] for key in scenario}\n",
    "F_data = {key: {j:[] for j in tray_flag} for key in scenario}\n",
    "\n",
    "for key in scenario:\n",
    "    for it in scenario[key].keys():\n",
    "        obj_data[key].append(scenario[key][it].Solution.objective['obj']['Value'])\n",
    "        for j in reactive_flag:\n",
    "            T_data[key][j].append(scenario[key][it].Solution.Variable['reactive[{}].T'.format(j)]['Value'])\n",
    "        for j in product_flag:\n",
    "            P_data[key][j].append(scenario[key][it].Solution.Variable['{}.L[P]'.format(j)]['Value'])\n",
    "        R_data[key].append(scenario[key][it].Solution.Variable['condenser.L[out]']['Value']/\\\n",
    "                          scenario[key][it].Solution.Variable['condenser.L[P]']['Value'])\n",
    "        # fot 2-step approach, first half F is fixed, so value couldn't be found in the result object\n",
    "        for j in tray_flag:\n",
    "            try:\n",
    "                F_data[key][j].append(scenario[key][it].Solution.Variable['reactive[{}].F'.format(j)]['Value'])\n",
    "            except KeyError:\n",
    "                if j in reactive_flag:\n",
    "                    F_data[key][j].append(1)\n",
    "                else:\n",
    "                    F_data[key][j].append(0)"
   ]
  },
  {
   "cell_type": "markdown",
   "metadata": {},
   "source": [
    "# Plot style sheet"
   ]
  },
  {
   "cell_type": "code",
   "execution_count": 13,
   "metadata": {},
   "outputs": [
    {
     "name": "stdout",
     "output_type": "stream",
     "text": [
      "['seaborn-dark', 'seaborn-darkgrid', 'seaborn-ticks', 'fivethirtyeight', 'seaborn-whitegrid', 'classic', '_classic_test', 'fast', 'seaborn-talk', 'seaborn-dark-palette', 'seaborn-bright', 'seaborn-pastel', 'grayscale', 'seaborn-notebook', 'ggplot', 'seaborn-colorblind', 'seaborn-muted', 'seaborn', 'Solarize_Light2', 'seaborn-paper', 'bmh', 'tableau-colorblind10', 'seaborn-white', 'dark_background', 'seaborn-poster', 'seaborn-deep']\n"
     ]
    }
   ],
   "source": [
    "print(plt.style.available)"
   ]
  },
  {
   "cell_type": "code",
   "execution_count": 26,
   "metadata": {},
   "outputs": [],
   "source": [
    "style.use('seaborn')"
   ]
  },
  {
   "cell_type": "code",
   "execution_count": 27,
   "metadata": {},
   "outputs": [],
   "source": [
    "fig, (ax1,ax2) = plt.subplots(2,1,figsize=(9,10),sharex=True)\n",
    "\n",
    "for key in scenario:\n",
    "    ax1.plot(obj_data[key],label=key)\n",
    "    ax2.plot(R_data[key],label=key)\n",
    "\n",
    "\n",
    "ax1.set_title('Obj: Gasoline')\n",
    "ax1.legend()\n",
    "\n",
    "ax2.set_title('Reflux Ratio')\n",
    "ax2.legend()\n",
    "\n",
    "plt.show()"
   ]
  },
  {
   "cell_type": "code",
   "execution_count": null,
   "metadata": {},
   "outputs": [],
   "source": []
  }
 ],
 "metadata": {
  "kernelspec": {
   "display_name": "Python 3",
   "language": "python",
   "name": "python3"
  },
  "language_info": {
   "codemirror_mode": {
    "name": "ipython",
    "version": 3
   },
   "file_extension": ".py",
   "mimetype": "text/x-python",
   "name": "python",
   "nbconvert_exporter": "python",
   "pygments_lexer": "ipython3",
   "version": "3.6.3"
  }
 },
 "nbformat": 4,
 "nbformat_minor": 2
}
