{
 "cells": [
  {
   "cell_type": "markdown",
   "metadata": {},
   "source": [
    "notes to myself:\n",
    "* pf\n",
    "    - Full sequential TRP F C T (F17,T17)\n",
    "* NCP\n",
    "    - ..."
   ]
  },
  {
   "cell_type": "code",
   "execution_count": 1,
   "metadata": {},
   "outputs": [],
   "source": [
    "%matplotlib qt5\n",
    "import sys\n",
    "import os\n",
    "sys.path.append(os.path.abspath('..'))\n",
    "sys.path.append(os.path.abspath('../..'))\n",
    "import numpy as np\n",
    "import matplotlib.pyplot as plt\n",
    "from matplotlib import style\n",
    "import pickle\n",
    "from global_sets.component import m"
   ]
  },
  {
   "cell_type": "code",
   "execution_count": 2,
   "metadata": {},
   "outputs": [],
   "source": [
    "with open('./log/results/opt_PATH_fullseq_pf_F17T16.pickle','rb') as f:\n",
    "    results_fullseq = pickle.load(f)\n",
    "with open('./log/results/opt_PATH_grouped_pf_F17T16.pickle','rb') as f:\n",
    "    results_grouped = pickle.load(f)\n",
    "with open('./log/results/opt_PATH_simul2_pf_F17T16.pickle','rb') as f:\n",
    "    results_simul = pickle.load(f)"
   ]
  },
  {
   "cell_type": "code",
   "execution_count": 3,
   "metadata": {},
   "outputs": [],
   "source": [
    "scenario = {'simul':results_simul,'fullseq':results_fullseq}\n",
    "scenario = {'simul':results_simul,'fullseq':results_fullseq,'grouped':results_grouped}"
   ]
  },
  {
   "cell_type": "code",
   "execution_count": 4,
   "metadata": {},
   "outputs": [],
   "source": [
    "tray_flag = [i for i in range(1,21)]\n",
    "feed_flag = [i for i in range(8,18)]\n",
    "reactive_flag = [8,9,10,11,12,14,15,16,17,18]\n",
    "product_flag = [j for j in m.PRODUCT]"
   ]
  },
  {
   "cell_type": "code",
   "execution_count": 5,
   "metadata": {},
   "outputs": [],
   "source": [
    "obj_data = {key: [] for key in scenario}\n",
    "T_data = {key: {j:[] for j in feed_flag} for key in scenario}\n",
    "P_data = {key: {j:[] for j in product_flag} for key in scenario}\n",
    "P_tray_data = {key: {j:[] for j in product_flag} for key in scenario}\n",
    "R_data = {key: [] for key in scenario}\n",
    "\n",
    "F_data = {key: {j:[] for j in feed_flag} for key in scenario}\n",
    "cat_data = {key: {j:[] for j in feed_flag} for key in scenario}\n",
    "iter_data = {key: [] for key in scenario}\n",
    "intervals = {key: [] for key in scenario}\n",
    "\n",
    "# get path data\n",
    "for key in scenario:\n",
    "    for j in feed_flag:\n",
    "        T_data[key][j] = np.array(scenario[key]['reactive[{}].T'.format(j)]) - 273.15\n",
    "    for j in product_flag:\n",
    "        P_data[key][j] = scenario[key]['P_total[{}]'.format(j)]\n",
    "        P_tray_data[key][j] = scenario[key]['N_tray[{}]'.format(j)]\n",
    "    R_data[key] = scenario[key]['condenser.L[out]']\n",
    "    for j in feed_flag:\n",
    "        F_data[key][j] = scenario[key]['reactive[{}].F'.format(j)]\n",
    "        cat_data[key][j] = scenario[key]['reactive[{}].cat'.format(j)]\n",
    "    iter_data[key] = scenario[key]['total_iter']\n",
    "    intervals[key] = scenario[key]['iter_count']"
   ]
  },
  {
   "cell_type": "code",
   "execution_count": 6,
   "metadata": {},
   "outputs": [],
   "source": [
    "def get_end_point(total_list,iter_list,data_list):\n",
    "    tmp_index = []\n",
    "    tmp_data = []\n",
    "    for index ,itr in enumerate(iter_list):\n",
    "        if itr == 2:\n",
    "            index -= 1\n",
    "            tmp_index.append(total_list[index])\n",
    "            tmp_data.append(data_list[index])\n",
    "    return tmp_index, tmp_data"
   ]
  },
  {
   "cell_type": "markdown",
   "metadata": {},
   "source": [
    "# Plot style sheet"
   ]
  },
  {
   "cell_type": "code",
   "execution_count": 7,
   "metadata": {},
   "outputs": [],
   "source": [
    "style.use('seaborn-paper')"
   ]
  },
  {
   "cell_type": "code",
   "execution_count": 8,
   "metadata": {},
   "outputs": [
    {
     "name": "stderr",
     "output_type": "stream",
     "text": [
      "No handles with labels found to put in legend.\n",
      "No handles with labels found to put in legend.\n"
     ]
    }
   ],
   "source": [
    "fig1, axs = plt.subplots(5,2,figsize=(16,9),sharex=True)\n",
    "\n",
    "for key in scenario.keys():\n",
    "    tmp = axs[0][0].plot(iter_data[key],P_data[key]['gasoline'],label=key,alpha=0.8)\n",
    "    axs[0][0].plot(*get_end_point(iter_data[key],intervals[key],P_data[key]['gasoline']),'D',color=tmp[0].get_color())\n",
    "    \n",
    "    tmp = axs[0][1].plot(iter_data[key],P_tray_data[key]['gasoline'],label=key,alpha=0.8)\n",
    "    axs[0][1].plot(*get_end_point(iter_data[key],intervals[key],P_tray_data[key]['gasoline']),'D',color=tmp[0].get_color())\n",
    "    \n",
    "    tmp = axs[1][0].plot(iter_data[key],R_data[key],label=key,alpha=0.8)\n",
    "    axs[1][0].plot(*get_end_point(iter_data[key],intervals[key],R_data[key]),'D',color=tmp[0].get_color())\n",
    "    \n",
    "    tmp = axs[2][0].plot(iter_data[key],P_data[key]['naphtha'],label=key,alpha=0.8)\n",
    "    axs[2][0].plot(*get_end_point(iter_data[key],intervals[key],P_data[key]['naphtha']),'D',color=tmp[0].get_color())\n",
    "     \n",
    "    tmp = axs[3][0].plot(iter_data[key],P_data[key]['diesel'],label=key,alpha=0.8)\n",
    "    axs[3][0].plot(*get_end_point(iter_data[key],intervals[key],P_data[key]['diesel']),'D',color=tmp[0].get_color())\n",
    "    \n",
    "    tmp = axs[3][1].plot(iter_data[key],P_tray_data[key]['diesel'],label=key,alpha=0.8)\n",
    "    axs[3][1].plot(*get_end_point(iter_data[key],intervals[key],P_tray_data[key]['diesel']),'D',color=tmp[0].get_color())\n",
    "\n",
    "    tmp = axs[4][0].plot(iter_data[key],P_data[key]['intermediate'],label=key,alpha=0.8)\n",
    "    axs[4][0].plot(*get_end_point(iter_data[key],intervals[key],P_data[key]['intermediate']),'D',color=tmp[0].get_color())\n",
    "    \n",
    "    tmp = axs[4][1].plot(iter_data[key],P_tray_data[key]['intermediate'],label=key,alpha=0.8)\n",
    "    axs[4][1].plot(*get_end_point(iter_data[key],intervals[key],P_tray_data[key]['intermediate']),'D',color=tmp[0].get_color())\n",
    "    \n",
    "for a in axs:\n",
    "    for x in a:\n",
    "        x.grid() \n",
    "        x.legend()\n",
    "\n",
    "axs[0][0].set_title('Obj: Gasoline')\n",
    "axs[1][0].set_title('Reflux Flow')\n",
    "axs[2][0].set_title('Naphtha')\n",
    "axs[3][0].set_title('Diesel')\n",
    "axs[4][0].set_title('Heavy Naphtha')\n",
    "\n",
    "axs[-1][0].set_xlabel('iter')\n",
    "\n",
    "plt.tight_layout()\n",
    "plt.show()"
   ]
  },
  {
   "cell_type": "code",
   "execution_count": 9,
   "metadata": {},
   "outputs": [],
   "source": [
    "fig2, axs = plt.subplots(len(feed_flag),3,figsize=(16,9),sharex=True)\n",
    "\n",
    "for j, stage in enumerate(feed_flag):\n",
    "    for key in scenario:\n",
    "        \n",
    "        tmp = axs[j][0].plot(iter_data[key],T_data[key][stage],label=key,alpha=0.8)\n",
    "        axs[j][0].plot(*get_end_point(iter_data[key],intervals[key],T_data[key][stage]),'D',color=tmp[0].get_color())\n",
    "        axs[j][0].set_ylim(190,310)\n",
    "        \n",
    "        tmp = axs[j][1].plot(iter_data[key],F_data[key][stage],label=key,alpha=0.8)\n",
    "        axs[j][1].plot(*get_end_point(iter_data[key],intervals[key],F_data[key][stage]),'D',color=tmp[0].get_color())\n",
    "        \n",
    "        tmp = axs[j][2].plot(iter_data[key],cat_data[key][stage],label=key,alpha=0.8)\n",
    "        axs[j][2].plot(*get_end_point(iter_data[key],intervals[key],cat_data[key][stage]),'D',color=tmp[0].get_color())\n",
    "\n",
    "for a in axs:\n",
    "    for x in a:\n",
    "        x.grid()        \n",
    "\n",
    "axs[0][0].set_title('Temperature')\n",
    "axs[0][1].set_title('Feed')\n",
    "axs[0][2].set_title('Catalyst')\n",
    "\n",
    "axs[-1][0].set_xlabel('iter')\n",
    "axs[-1][1].set_xlabel('iter')\n",
    "axs[-1][2].set_xlabel('iter')\n",
    "\n",
    "axs[0][0].legend()\n",
    "axs[0][1].legend()\n",
    "axs[0][2].legend()\n",
    "\n",
    "plt.tight_layout()\n",
    "plt.show()"
   ]
  },
  {
   "cell_type": "code",
   "execution_count": null,
   "metadata": {},
   "outputs": [],
   "source": []
  }
 ],
 "metadata": {
  "kernelspec": {
   "display_name": "Python 3",
   "language": "python",
   "name": "python3"
  },
  "language_info": {
   "codemirror_mode": {
    "name": "ipython",
    "version": 3
   },
   "file_extension": ".py",
   "mimetype": "text/x-python",
   "name": "python",
   "nbconvert_exporter": "python",
   "pygments_lexer": "ipython3",
   "version": "3.6.5"
  }
 },
 "nbformat": 4,
 "nbformat_minor": 2
}
