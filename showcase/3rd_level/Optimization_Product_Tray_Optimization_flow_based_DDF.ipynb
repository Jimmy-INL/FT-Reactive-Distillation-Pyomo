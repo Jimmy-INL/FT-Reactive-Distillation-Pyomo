{
 "cells": [
  {
   "cell_type": "code",
   "execution_count": 1,
   "metadata": {},
   "outputs": [
    {
     "ename": "ModuleNotFoundError",
     "evalue": "No module named 'utility.display_utility'",
     "output_type": "error",
     "traceback": [
      "\u001b[0;31m---------------------------------------------------------------------------\u001b[0m",
      "\u001b[0;31mModuleNotFoundError\u001b[0m                       Traceback (most recent call last)",
      "\u001b[0;32m<ipython-input-1-3f920cbc9cd2>\u001b[0m in \u001b[0;36m<module>\u001b[0;34m()\u001b[0m\n\u001b[1;32m     28\u001b[0m \u001b[0;32mfrom\u001b[0m \u001b[0mstages\u001b[0m\u001b[0;34m.\u001b[0m\u001b[0mreboiler_stage\u001b[0m \u001b[0;32mimport\u001b[0m \u001b[0mreboiler_stage_rule\u001b[0m\u001b[0;34m\u001b[0m\u001b[0m\n\u001b[1;32m     29\u001b[0m \u001b[0;34m\u001b[0m\u001b[0m\n\u001b[0;32m---> 30\u001b[0;31m \u001b[0;32mfrom\u001b[0m \u001b[0mutility\u001b[0m\u001b[0;34m.\u001b[0m\u001b[0mdisplay_utility\u001b[0m \u001b[0;32mimport\u001b[0m \u001b[0mbeautify\u001b[0m\u001b[0;34m,\u001b[0m \u001b[0mbeautify_reactive\u001b[0m\u001b[0;34m,\u001b[0m \u001b[0mHiddenLogs\u001b[0m\u001b[0;34m,\u001b[0m \u001b[0mHiddenPrints\u001b[0m\u001b[0;34m,\u001b[0m \u001b[0mplot_distribution\u001b[0m\u001b[0;34m\u001b[0m\u001b[0m\n\u001b[0m\u001b[1;32m     31\u001b[0m \u001b[0;32mfrom\u001b[0m \u001b[0mutility\u001b[0m\u001b[0;34m.\u001b[0m\u001b[0mmodel_utility\u001b[0m \u001b[0;32mimport\u001b[0m \u001b[0madd_dual\u001b[0m\u001b[0;34m,\u001b[0m \u001b[0mupdate_dual\u001b[0m\u001b[0;34m,\u001b[0m \u001b[0mdelete_dual\u001b[0m\u001b[0;34m,\u001b[0m \u001b[0mcheck_DOF\u001b[0m\u001b[0;34m,\u001b[0m \u001b[0mcheck_iteration\u001b[0m\u001b[0;34m\u001b[0m\u001b[0m\n\u001b[1;32m     32\u001b[0m \u001b[0;32mfrom\u001b[0m \u001b[0mutility\u001b[0m\u001b[0;34m.\u001b[0m\u001b[0mmodel_utility\u001b[0m \u001b[0;32mimport\u001b[0m \u001b[0mwhich_MPCC\u001b[0m\u001b[0;34m,\u001b[0m \u001b[0mselect_MPCC\u001b[0m\u001b[0;34m,\u001b[0m \u001b[0maugmented_objective\u001b[0m\u001b[0;34m,\u001b[0m \u001b[0madd_solver\u001b[0m\u001b[0;34m\u001b[0m\u001b[0m\n",
      "\u001b[0;31mModuleNotFoundError\u001b[0m: No module named 'utility.display_utility'"
     ]
    }
   ],
   "source": [
    "%matplotlib inline\n",
    "# %load ../../utility/initialization.py\n",
    "'''\n",
    "How to Train Your Dragon: V4\n",
    "Sequentially initialize FT reactive distillation model automatically\n",
    "'''\n",
    "# system imports\n",
    "import sys\n",
    "import os\n",
    "import datetime\n",
    "sys.path.append(os.path.abspath('..'))\n",
    "sys.path.append(os.path.abspath('../..'))\n",
    "\n",
    "import numpy as np\n",
    "from matplotlib import pyplot as plt\n",
    "from matplotlib.backends.backend_pdf import PdfPages\n",
    "\n",
    "# import pickle\n",
    "import dill\n",
    "# from copy import deepcopy\n",
    "\n",
    "# pyomo imports\n",
    "from pyomo import environ as pe\n",
    "from global_sets.component import m\n",
    "\n",
    "from stages.reactive_stage import reactive_stage_rule\n",
    "from stages.condenser_stage import condenser_stage_rule\n",
    "from stages.reboiler_stage import reboiler_stage_rule\n",
    "\n",
    "from utility.display_utility import beautify, beautify_reactive, HiddenLogs, HiddenPrints, plot_distribution\n",
    "from utility.model_utility import add_dual, update_dual, delete_dual, check_DOF, check_iteration\n",
    "from utility.model_utility import which_MPCC, select_MPCC, augmented_objective, add_solver\n",
    "from utility.time_utility import create_filename_time, log_now, log_end"
   ]
  },
  {
   "cell_type": "code",
   "execution_count": null,
   "metadata": {},
   "outputs": [],
   "source": [
    "logname = create_filename_time()\n",
    "log_text_dir = './log/text/opt_'+logname+'.dat'\n",
    "log_figure_dir = './log/figure/opt_'+logname+'.pdf'"
   ]
  },
  {
   "cell_type": "code",
   "execution_count": null,
   "metadata": {},
   "outputs": [],
   "source": [
    "with open('./log/model/stage_20_pf.pickle','rb') as f:\n",
    "    model = dill.load(f)"
   ]
  },
  {
   "cell_type": "code",
   "execution_count": null,
   "metadata": {},
   "outputs": [],
   "source": [
    "sel"
   ]
  },
  {
   "cell_type": "markdown",
   "metadata": {},
   "source": [
    "# Add tray optimization related sets and variables"
   ]
  },
  {
   "cell_type": "code",
   "execution_count": null,
   "metadata": {},
   "outputs": [],
   "source": [
    "model.sigma = pe.Param(initialize=0.5,mutable=True)\n",
    "model.epi = pe.Param(initialize=1e-5,mutable=True)"
   ]
  },
  {
   "cell_type": "code",
   "execution_count": null,
   "metadata": {},
   "outputs": [],
   "source": [
    "model.P_tray = pe.Var(model.TRAY_total,m.PRODUCT,within=pe.NonNegativeReals,initialize=0)\n",
    "model.N_tray = pe.Var(m.PRODUCT,within=pe.NonNegativeReals) # extended range from condenser (0) to reboiler (N+1)\n",
    "model.P_total = pe.Var(m.PRODUCT,within=pe.NonNegativeReals,initialize=0)\n",
    "model.P_total_dry = pe.Var(m.PRODUCT,within=pe.NonNegativeReals,initialize=0)\n",
    "model.x_P = pe.Var(m.COMP_TOTAL,m.PRODUCT,within=pe.NonNegativeReals,bounds=(0,1))\n",
    "model.x_P_dry = pe.Var(m.COMP_ORG,m.PRODUCT,within=pe.NonNegativeReals,bounds=(0,1))"
   ]
  },
  {
   "cell_type": "markdown",
   "metadata": {},
   "source": [
    "# Add equations"
   ]
  },
  {
   "cell_type": "code",
   "execution_count": null,
   "metadata": {},
   "outputs": [],
   "source": [
    "for i,j in model.P_tray:\n",
    "    if j != 'naphtha' and j != 'heavy':\n",
    "        model.P_tray[i,j].setlb(model.epi)\n",
    "        \n",
    "for j in model.P_total:\n",
    "    if j != 'naphtha' and j != 'heavy':\n",
    "        model.P_total[j].setlb(model.epi*len(model.TRAY_total))"
   ]
  },
  {
   "cell_type": "code",
   "execution_count": null,
   "metadata": {},
   "outputs": [],
   "source": [
    "# sum of liquid draw for all products for each stage\n",
    "def stage_sum_product_rule(model,j):\n",
    "    return tray_translator(model,j).L['P'] == sum(model.P_tray[j,p] for p in m.PRODUCT)\n",
    "model.stage_sum_product_con = pe.Constraint(model.TRAY_total,rule=stage_sum_product_rule)\n",
    "\n",
    "# liquid product mass balance\n",
    "def product_sum_stage_rule(model,j,p):\n",
    "    if p == 'naphtha' or p == 'heavy':\n",
    "        return pe.Constraint.Skip\n",
    "    return model.P_tray[j,p] == model.epi + (model.P_total[p] - model.epi*len(model.TRAY_total)) * pe.exp(-(model.TRAY_total.ord(j)-1-model.N_tray[p])**2/model.sigma) / \\\n",
    "            sum(pe.exp(-(model.TRAY_total.ord(j_)-1-model.N_tray[p])**2/model.sigma) for j_ in model.TRAY_total)\n",
    "model.product_sum_stage_con = pe.Constraint(model.TRAY_total,m.PRODUCT,rule=product_sum_stage_rule)\n",
    "\n",
    "# condenser and reboiler\n",
    "model.product_sum_stage_con2 = pe.ConstraintList()\n",
    "model.product_sum_stage_con2.add(expr = model.P_tray['condenser','naphtha'] == model.P_total['naphtha'])\n",
    "model.product_sum_stage_con2.add(expr = model.P_tray['reboiler','heavy'] == model.P_total['heavy'])\n",
    "\n",
    "# liquid product component mass balance\n",
    "def mass_balance_product_rule(model,i,p):\n",
    "    return sum(model.P_tray[j,p]*tray_translator(model,j).x[i] for j in model.TRAY_total) * get_x_scale_factor(i) == (model.P_total[p])*model.x_P[i,p] * get_x_scale_factor(i)\n",
    "model.mass_balance_product_con = pe.Constraint(m.COMP_TOTAL,m.PRODUCT,rule=mass_balance_product_rule)"
   ]
  },
  {
   "cell_type": "code",
   "execution_count": null,
   "metadata": {},
   "outputs": [],
   "source": [
    "# dry liquid product component \n",
    "def product_sum_dry_rule(model,p):\n",
    "    return model.P_total_dry[p] == model.P_total[p] * (1 - sum(model.x_P[i,p] for i in m.COMP_INORG))\n",
    "model.product_sum_dry_con = pe.Constraint(m.PRODUCT,rule=product_sum_dry_rule)\n",
    "\n",
    "# dry liquid product component mass balance\n",
    "def mass_balance_dry_rule(model,i,p):\n",
    "    return model.x_P_dry[i,p] * (1 - sum(model.x_P[i,p] for i in m.COMP_INORG)) * get_x_scale_factor(i) == model.x_P[i,p] * get_x_scale_factor(i)\n",
    "model.mass_balance_dry_con = pe.Constraint(m.COMP_ORG,m.PRODUCT,rule=mass_balance_dry_rule)"
   ]
  },
  {
   "cell_type": "markdown",
   "metadata": {},
   "source": [
    "# Transfer from original liquid side-draw variable to product variable"
   ]
  },
  {
   "cell_type": "markdown",
   "metadata": {},
   "source": [
    "### Transfer fixed side-draw variables"
   ]
  },
  {
   "cell_type": "code",
   "execution_count": null,
   "metadata": {},
   "outputs": [],
   "source": [
    "for j in model.reactive:\n",
    "    model.reactive[j].PR_L.unfix()\n",
    "\n",
    "for j in model.TRAY_total:\n",
    "    model.P_tray[j,'naphtha'].fix(0)\n",
    "    model.P_tray[j,'heavy'].fix(0)\n",
    "    \n",
    "model.P_tray['condenser','naphtha'].unfix(); model.P_tray['condenser','naphtha'].set_value(model.condenser.L['P'].value)\n",
    "model.P_tray['4','intermediate'].set_value(model.reactive[4].L['P'].value)\n",
    "model.P_tray['7','gasoline'].set_value(model.reactive[7].L['P'].value)\n",
    "model.P_tray['10','diesel'].set_value(model.reactive[10].L['P'].value)\n",
    "model.P_tray['reboiler','heavy'].unfix(); model.P_tray['reboiler','heavy'].set_value(model.reboiler.L['P'].value)\n",
    "\n",
    "model.N_tray['naphtha'].fix(0)\n",
    "model.N_tray['intermediate'].fix(4)\n",
    "model.N_tray['gasoline'].fix(7)\n",
    "model.N_tray['diesel'].fix(10)\n",
    "model.N_tray['heavy'].fix(21)"
   ]
  },
  {
   "cell_type": "markdown",
   "metadata": {},
   "source": [
    "### Initialized newly created value"
   ]
  },
  {
   "cell_type": "code",
   "execution_count": null,
   "metadata": {},
   "outputs": [],
   "source": [
    "model.P_total['naphtha'].set_value(model.P_tray['condenser','naphtha'].value)\n",
    "model.P_total['intermediate'].fix(model.P_tray['4','intermediate'].value)\n",
    "model.P_total['gasoline'].fix(model.P_tray['7','gasoline'].value)\n",
    "model.P_total['diesel'].fix(model.P_tray['10','diesel'].value)\n",
    "model.P_total['heavy'].set_value(model.P_tray['reboiler','heavy'].value)\n",
    "\n",
    "for i in m.COMP_TOTAL:\n",
    "    model.x_P[i,'naphtha'].set_value(model.condenser.x[i].value)\n",
    "    model.x_P[i,'intermediate'].set_value(model.reactive[4].x[i].value)\n",
    "    model.x_P[i,'gasoline'].set_value(model.reactive[7].x[i].value)\n",
    "    model.x_P[i,'diesel'].set_value(model.reactive[10].x[i].value)\n",
    "    model.x_P[i,'heavy'].set_value(model.reboiler.x[i].value)"
   ]
  },
  {
   "cell_type": "code",
   "execution_count": null,
   "metadata": {},
   "outputs": [],
   "source": [
    "model.P_total_dry['naphtha'].set_value(model.P_tray['condenser','naphtha'].value * (1 - sum(model.condenser.x[i].value for i in m.COMP_INORG)))\n",
    "model.P_total_dry['intermediate'].set_value(model.P_tray['4','intermediate'].value * (1 - sum(model.reactive[4].x[i].value for i in m.COMP_INORG)))\n",
    "model.P_total_dry['gasoline'].set_value(model.P_tray['7','gasoline'].value * (1 - sum(model.reactive[7].x[i].value for i in m.COMP_INORG)))\n",
    "model.P_total_dry['diesel'].set_value(model.P_tray['10','diesel'].value * (1 - sum(model.reactive[10].x[i].value for i in m.COMP_INORG)))\n",
    "model.P_total_dry['heavy'].set_value(model.P_tray['reboiler','heavy'].value * (1 - sum(model.reboiler.x[i].value for i in m.COMP_INORG)))\n",
    "\n",
    "for i in m.COMP_ORG:\n",
    "    model.x_P_dry[i,'naphtha'].set_value(model.condenser.x[i].value / (1 - sum(model.condenser.x[i].value for i in m.COMP_INORG)))\n",
    "    model.x_P_dry[i,'intermediate'].set_value(model.reactive[4].x[i].value / (1 - sum(model.reactive[4].x[i].value for i in m.COMP_INORG)))\n",
    "    model.x_P_dry[i,'gasoline'].set_value(model.reactive[7].x[i].value / (1 - sum(model.reactive[7].x[i].value for i in m.COMP_INORG)))\n",
    "    model.x_P_dry[i,'diesel'].set_value(model.reactive[10].x[i].value / (1 - sum(model.reactive[10].x[i].value for i in m.COMP_INORG)))\n",
    "    model.x_P_dry[i,'heavy'].set_value(model.reboiler.x[i].value / (1 - sum(model.reboiler.x[i].value for i in m.COMP_INORG)))"
   ]
  },
  {
   "cell_type": "markdown",
   "metadata": {},
   "source": [
    "### Initialize"
   ]
  },
  {
   "cell_type": "code",
   "execution_count": null,
   "metadata": {},
   "outputs": [],
   "source": [
    "for j in model.reactive:\n",
    "    model.reactive[j].MPCC.rho = 10000\n",
    "model.reboiler.MPCC.rho = 10000"
   ]
  },
  {
   "cell_type": "code",
   "execution_count": null,
   "metadata": {},
   "outputs": [],
   "source": [
    "check_DOF(pe,model)"
   ]
  },
  {
   "cell_type": "code",
   "execution_count": null,
   "metadata": {},
   "outputs": [],
   "source": [
    "opt = pe.SolverFactory('ipopt')\n",
    "\n",
    "opt.options['print_user_options'] = 'yes'\n",
    "opt.options['output_file'] = './tmp/ipopt_output_tmp.output'\n",
    "opt.options['constr_mult_init_max '] = 1e8\n",
    "opt.options['max_iter'] = 500\n",
    "\n",
    "# opt.options['hessian_approximation'] = 'limited-memory'\n",
    "opt.options['linear_solver'] = 'ma86'\n",
    "opt.options['linear_system_scaling '] = 'mc19'\n",
    "opt.options['linear_scaling_on_demand '] = 'no'\n",
    "\n",
    "opt.options['warm_start_init_point'] = 'yes'\n",
    "opt.options['warm_start_bound_push'] = 1e-20\n",
    "opt.options['warm_start_mult_bound_push'] = 1e-20\n",
    "\n",
    "opt.options['mu_init'] = 1e-6"
   ]
  },
  {
   "cell_type": "code",
   "execution_count": null,
   "metadata": {
    "scrolled": true
   },
   "outputs": [],
   "source": [
    "results = opt.solve(model,tee=True)\n",
    "update_dual(pe,model)"
   ]
  },
  {
   "cell_type": "code",
   "execution_count": null,
   "metadata": {},
   "outputs": [],
   "source": [
    "pdf = PdfPages(log_figure_dir)"
   ]
  },
  {
   "cell_type": "code",
   "execution_count": null,
   "metadata": {},
   "outputs": [],
   "source": [
    "with HiddenLogs(log_text_dir,'w'):\n",
    "    print('\\n>','Original 20 stage case')\n",
    "    print('-'*108)\n",
    "    beautify(pe,model)\n",
    "    check_product_spec(model)\n",
    "    log_now()\n",
    "\n",
    "plot_distribution(model,pdf,'Original 20 stage case')"
   ]
  },
  {
   "cell_type": "markdown",
   "metadata": {},
   "source": [
    "# Optimization Input"
   ]
  },
  {
   "cell_type": "markdown",
   "metadata": {},
   "source": [
    "**Parameters:**\n",
    "* Stage Temperature\n",
    "    * Rectifying section: 200C - 300C\n",
    "    * Stripping section: 200C - 300C\n",
    "* Reflux\n",
    "    * Distillate / (Distillate + Reflux): 0.5 - 0.05, Refulx Ratio: 1 - 19\n",
    "* Side-draw ratio\n",
    "    * PR_L: 0 - 1\n",
    "\n",
    "**Constraints:**\n",
    "* Product\n",
    "    * Distillate: C5~C7 >= 0.75\n",
    "    * Gasoline: C8~C12 >= 0.75\n",
    "    * Diesel: C13~C18 >= 0.6\n",
    "    * Heavy: C19+ >= 0.85\n",
    "    \n",
    "**Objective:**\n",
    "* Max gasoline production"
   ]
  },
  {
   "cell_type": "markdown",
   "metadata": {},
   "source": [
    "### Open up parameters"
   ]
  },
  {
   "cell_type": "code",
   "execution_count": null,
   "metadata": {},
   "outputs": [],
   "source": [
    "for j in model.TRAY_reactive:\n",
    "    model.reactive[j].T.setlb(200+273.15)\n",
    "    model.reactive[j].T.setub(300+273.15)\n",
    "    \n",
    "model.condenser.PR_L.unfix()\n",
    "model.condenser.PR_L.setlb(0.05)\n",
    "model.condenser.PR_L.setub(0.5)"
   ]
  },
  {
   "cell_type": "code",
   "execution_count": null,
   "metadata": {},
   "outputs": [],
   "source": [
    "model.P_total['intermediate'].unfix()\n",
    "model.P_total['gasoline'].unfix()\n",
    "model.P_total['diesel'].unfix()"
   ]
  },
  {
   "cell_type": "markdown",
   "metadata": {},
   "source": [
    "### Constraints"
   ]
  },
  {
   "cell_type": "code",
   "execution_count": null,
   "metadata": {},
   "outputs": [],
   "source": [
    "model.quality_spec = pe.Param(m.PRODUCT,initialize={\\\n",
    "                    'naphtha':0.75,'gasoline':0.75,'diesel':0.6,'heavy':0.85},mutable=True)"
   ]
  },
  {
   "cell_type": "code",
   "execution_count": null,
   "metadata": {},
   "outputs": [],
   "source": [
    "def product_spec_rule(model,p):\n",
    "    if p == 'intermediate':\n",
    "        return pe.Constraint.Skip\n",
    "    return sum(model.x_P_dry[i,p] for i in m.PRODUCT_cnumber[p]) >= model.quality_spec[p]\n",
    "model.product_spec_con = pe.Constraint(m.PRODUCT,rule=product_spec_rule)"
   ]
  },
  {
   "cell_type": "markdown",
   "metadata": {},
   "source": [
    "### Objective"
   ]
  },
  {
   "cell_type": "code",
   "execution_count": null,
   "metadata": {},
   "outputs": [],
   "source": [
    "model.del_component(model.obj)\n",
    "model.obj = pe.Objective(expr = model.P_total['gasoline'] - sum(model.reactive[j].MPCC.pf for j in model.reactive)\\\n",
    "                                - model.reboiler.MPCC.pf, sense = pe.maximize)"
   ]
  },
  {
   "cell_type": "code",
   "execution_count": null,
   "metadata": {
    "scrolled": true
   },
   "outputs": [],
   "source": [
    "results = opt.solve(model,tee=True)\n",
    "update_dual(pe,model)"
   ]
  },
  {
   "cell_type": "code",
   "execution_count": null,
   "metadata": {
    "scrolled": false
   },
   "outputs": [],
   "source": [
    "with HiddenLogs(log_text_dir):\n",
    "    print('\\n>','Optimized Temperature, Reflux and Product Side Draw')\n",
    "    print('-'*108)\n",
    "    beautify(pe,model)\n",
    "    check_product_spec(model)\n",
    "    log_now()\n",
    "\n",
    "plot_distribution(model,pdf,'Optimized Temperature, Reflux and Product Side Draw')"
   ]
  },
  {
   "cell_type": "code",
   "execution_count": null,
   "metadata": {},
   "outputs": [],
   "source": [
    "tray_num = len(model.TRAY_total)\n",
    "tray_pos = np.arange(tray_num)\n",
    "\n",
    "naphtha_flow = [model.P_tray[j,'naphtha'].value for j in model.TRAY_total]\n",
    "gasoline_flow = [model.P_tray[j,'gasoline'].value for j in model.TRAY_total]\n",
    "diesel_flow = [model.P_tray[j,'diesel'].value for j in model.TRAY_total]\n",
    "heavy_flow = [model.P_tray[j,'heavy'].value for j in model.TRAY_total]\n",
    "\n",
    "fig, ax = plt.subplots(figsize=(16,9))\n",
    "ax.bar(tray_pos,naphtha_flow,alpha=0.7)\n",
    "ax.bar(tray_pos,gasoline_flow,alpha=0.7)\n",
    "ax.bar(tray_pos,diesel_flow,alpha=0.7)\n",
    "ax.bar(tray_pos,heavy_flow,alpha=0.7)\n",
    "\n",
    "ax.legend(['naphtha','gasoline','diesel','heavy'])\n",
    "ax.set_title('DDF Product Distribution')\n",
    "ax.set_ylabel('Flow kmol/s')\n",
    "ax.set_xlabel('Tray Number')\n",
    "\n",
    "ax.grid()\n",
    "plt.show()"
   ]
  },
  {
   "cell_type": "markdown",
   "metadata": {},
   "source": [
    "# Use DDF,  open up gasoline location"
   ]
  },
  {
   "cell_type": "code",
   "execution_count": null,
   "metadata": {},
   "outputs": [],
   "source": [
    "model.N_tray['gasoline'].unfix();\n",
    "model.N_tray['gasoline'].setlb(4)\n",
    "model.N_tray['gasoline'].setub(10)"
   ]
  },
  {
   "cell_type": "code",
   "execution_count": null,
   "metadata": {
    "scrolled": true
   },
   "outputs": [],
   "source": [
    "results = opt.solve(model,tee=True)\n",
    "update_dual(pe,model)"
   ]
  },
  {
   "cell_type": "code",
   "execution_count": null,
   "metadata": {},
   "outputs": [],
   "source": [
    "with HiddenLogs(log_text_dir):\n",
    "    print('\\n>','Optimized Gasoline Location')\n",
    "    print('-'*108)\n",
    "    beautify(pe,model)\n",
    "    check_product_spec(model)\n",
    "    log_now()\n",
    "\n",
    "plot_distribution(model,pdf,'Optimized Gasoline Location')"
   ]
  },
  {
   "cell_type": "code",
   "execution_count": null,
   "metadata": {},
   "outputs": [],
   "source": [
    "tray_num = len(model.TRAY_total)\n",
    "tray_pos = np.arange(tray_num)\n",
    "\n",
    "naphtha_flow = [model.P_tray[j,'naphtha'].value for j in model.TRAY_total]\n",
    "gasoline_flow = [model.P_tray[j,'gasoline'].value for j in model.TRAY_total]\n",
    "diesel_flow = [model.P_tray[j,'diesel'].value for j in model.TRAY_total]\n",
    "heavy_flow = [model.P_tray[j,'heavy'].value for j in model.TRAY_total]\n",
    "\n",
    "fig, ax = plt.subplots(figsize=(16,9))\n",
    "ax.bar(tray_pos,naphtha_flow,alpha=0.7)\n",
    "ax.bar(tray_pos,gasoline_flow,alpha=0.7)\n",
    "ax.bar(tray_pos,diesel_flow,alpha=0.7)\n",
    "ax.bar(tray_pos,heavy_flow,alpha=0.7)\n",
    "\n",
    "ax.legend(['naphtha','gasoline','diesel','heavy'])\n",
    "ax.set_title('DDF Product Distribution')\n",
    "ax.set_ylabel('Flow kmol/s')\n",
    "ax.set_xlabel('Tray Number')\n",
    "\n",
    "ax.grid()\n",
    "plt.show()"
   ]
  },
  {
   "cell_type": "code",
   "execution_count": null,
   "metadata": {},
   "outputs": [],
   "source": [
    "model.N_tray['diesel'].unfix();\n",
    "model.N_tray['diesel'].setlb(5)\n",
    "model.N_tray['diesel'].setub(20)"
   ]
  },
  {
   "cell_type": "code",
   "execution_count": null,
   "metadata": {
    "scrolled": true
   },
   "outputs": [],
   "source": [
    "results = opt.solve(model,tee=True)\n",
    "update_dual(pe,model)"
   ]
  },
  {
   "cell_type": "code",
   "execution_count": null,
   "metadata": {},
   "outputs": [],
   "source": [
    "tray_num = len(model.TRAY_total)\n",
    "tray_pos = np.arange(tray_num)\n",
    "\n",
    "naphtha_flow = [model.P_tray[j,'naphtha'].value for j in model.TRAY_total]\n",
    "gasoline_flow = [model.P_tray[j,'gasoline'].value for j in model.TRAY_total]\n",
    "diesel_flow = [model.P_tray[j,'diesel'].value for j in model.TRAY_total]\n",
    "heavy_flow = [model.P_tray[j,'heavy'].value for j in model.TRAY_total]\n",
    "\n",
    "fig, ax = plt.subplots(figsize=(16,9))\n",
    "ax.bar(tray_pos,naphtha_flow,alpha=0.7)\n",
    "ax.bar(tray_pos,gasoline_flow,alpha=0.7)\n",
    "ax.bar(tray_pos,diesel_flow,alpha=0.7)\n",
    "ax.bar(tray_pos,heavy_flow,alpha=0.7)\n",
    "\n",
    "ax.legend(['naphtha','gasoline','diesel','heavy'])\n",
    "ax.set_title('DDF Product Distribution')\n",
    "ax.set_ylabel('Flow kmol/s')\n",
    "ax.set_xlabel('Tray Number')\n",
    "\n",
    "ax.grid()\n",
    "plt.show()"
   ]
  },
  {
   "cell_type": "code",
   "execution_count": null,
   "metadata": {},
   "outputs": [],
   "source": [
    "with HiddenLogs(log_text_dir):\n",
    "    print('\\n>','Optimized Diesel Location')\n",
    "    print('-'*108)\n",
    "    beautify(pe,model)\n",
    "    check_product_spec(model)\n",
    "    log_now()\n",
    "\n",
    "plot_distribution(model,pdf,'Optimized Diesel Location')"
   ]
  },
  {
   "cell_type": "markdown",
   "metadata": {},
   "source": [
    "# Open up feed allocation"
   ]
  },
  {
   "cell_type": "markdown",
   "metadata": {},
   "source": [
    "**Parameters:**\n",
    "* Stage Temperature\n",
    "    * Rectifying section: 200C - 300C\n",
    "    * Stripping section: 200C - 300C\n",
    "* Reflux\n",
    "    * Distillate / (Distillate + Reflux): 0.5 - 0.05, Refulx Ratio: 1 - 19\n",
    "* Side-draw\n",
    "    * PR_L: 0 - 1\n",
    "    \n",
    "* Feed\n",
    "    * F: 0 - 3\n",
    "\n",
    "**Constraints:**\n",
    "* Product\n",
    "    * Distillate: C5~C7 >= 0.75\n",
    "    * Gasoline: C8~C12 >= 0.75\n",
    "    * Diesel: C13~C18 >= 0.6\n",
    "    * Heavy: C19+ >= 0.85\n",
    "    \n",
    "* Total feed\n",
    "    * Total feed = 10 kmol/s\n",
    "    \n",
    "**Objective:**\n",
    "* Max gasoline production"
   ]
  },
  {
   "cell_type": "code",
   "execution_count": null,
   "metadata": {},
   "outputs": [],
   "source": [
    "# for j in model.reactive:\n",
    "#     model.reactive[j].F.unfix()\n",
    "#     model.reactive[j].F.setlb(0)\n",
    "#     model.reactive[j].F.setub(10)"
   ]
  },
  {
   "cell_type": "code",
   "execution_count": null,
   "metadata": {},
   "outputs": [],
   "source": [
    "# model.total_feed_con = pe.ConstraintList()"
   ]
  },
  {
   "cell_type": "code",
   "execution_count": null,
   "metadata": {},
   "outputs": [],
   "source": [
    "# model.total_feed_con.add(expr = sum(model.reactive[j].F for j in model.reactive) == 10);"
   ]
  },
  {
   "cell_type": "code",
   "execution_count": null,
   "metadata": {
    "scrolled": true
   },
   "outputs": [],
   "source": [
    "# results = opt.solve(model,tee=True)\n",
    "# update_dual(pe,model)"
   ]
  },
  {
   "cell_type": "code",
   "execution_count": null,
   "metadata": {},
   "outputs": [],
   "source": [
    "# with HiddenLogs(log_text_dir):\n",
    "#     print('\\n>','Optimized Feed Amount and Location')\n",
    "#     print('-'*108)\n",
    "#     beautify(pe,model)\n",
    "#     see_product(model)\n",
    "#     log_now()\n",
    "\n",
    "# plot_distribution(model,pdf,'Optimized Feed Amount and Location')"
   ]
  },
  {
   "cell_type": "markdown",
   "metadata": {},
   "source": [
    "# Open up catalyst allocation ( = TOTAL reconstruction, long wait time)"
   ]
  },
  {
   "cell_type": "markdown",
   "metadata": {},
   "source": [
    "**Parameters:**\n",
    "* Stage Temperature\n",
    "    * Rectifying section: 200C - 300C\n",
    "    * Stripping section: 200C - 300C\n",
    "* Reflux\n",
    "    * Distillate / (Distillate + Reflux): 0.5 - 0.05, Refulx Ratio: 1 - 19\n",
    "* Side-draw\n",
    "    * PR_L: 0 - 1\n",
    "    \n",
    "* Feed\n",
    "    * F: 0 - 3\n",
    "        \n",
    "* Catalyst\n",
    "    * cat: 0 - 10000\n",
    "\n",
    "**Constraints:**\n",
    "* Product\n",
    "    * Distillate: C5~C7 >= 0.75\n",
    "    * Gasoline: C8~C12 >= 0.75 / 0.8\n",
    "    * Diesel: C13~C18 >= 0.6\n",
    "    * Heavy: C19+ >= 0.85\n",
    "    \n",
    "* Total feed\n",
    "    * sum feed = 10 kmol/s\n",
    "    \n",
    "* Total catalyst\n",
    "    * sum cat = 30000 kg\n",
    "    \n",
    "**Objective:**\n",
    "* Max gasoline production"
   ]
  },
  {
   "cell_type": "code",
   "execution_count": null,
   "metadata": {},
   "outputs": [],
   "source": [
    "# for j in model.reactive:\n",
    "#     model.reactive[j].cat.unfix()\n",
    "#     model.reactive[j].cat.setlb(0)\n",
    "#     model.reactive[j].cat.setub(30000)"
   ]
  },
  {
   "cell_type": "code",
   "execution_count": null,
   "metadata": {},
   "outputs": [],
   "source": [
    "# model.total_cat_con = pe.ConstraintList()"
   ]
  },
  {
   "cell_type": "code",
   "execution_count": null,
   "metadata": {},
   "outputs": [],
   "source": [
    "# model.total_cat_con.add(expr = sum(model.reactive[j].cat for j in model.reactive) == 10*3000);"
   ]
  },
  {
   "cell_type": "code",
   "execution_count": null,
   "metadata": {
    "scrolled": true
   },
   "outputs": [],
   "source": [
    "# results = opt.solve(model,tee=True)\n",
    "# update_dual(pe,model)"
   ]
  },
  {
   "cell_type": "code",
   "execution_count": null,
   "metadata": {},
   "outputs": [],
   "source": [
    "# with HiddenLogs(log_text_dir):\n",
    "#     print('\\n>','Optimized Catalyst Amount and Location')\n",
    "#     print('-'*108)\n",
    "#     beautify(pe,model)\n",
    "#     see_product(model)\n",
    "#     log_now()\n",
    "\n",
    "# plot_distribution(model,pdf,'Optimized Catalyst Amount and Location')"
   ]
  },
  {
   "cell_type": "code",
   "execution_count": null,
   "metadata": {},
   "outputs": [],
   "source": [
    "pdf.close()"
   ]
  },
  {
   "cell_type": "code",
   "execution_count": null,
   "metadata": {},
   "outputs": [],
   "source": [
    "# with open('./log/model/{}.pickle'.format(logname),'wb') as f:\n",
    "#     dill.dump(model,f)"
   ]
  },
  {
   "cell_type": "code",
   "execution_count": null,
   "metadata": {
    "scrolled": true
   },
   "outputs": [],
   "source": [
    "# for j in model.TRAY_reactive:\n",
    "#     print('stage',j,'\\n')\n",
    "#     print('Total Flow\\t{}'.format(model.reactive[j].F.value + sum(model.reactive[j].r_total_comp[i].value for i in m.COMP_TOTAL)))\n",
    "#     for i in m.COMP_TOTAL:\n",
    "#         if i in m.COMP_FEED:\n",
    "#             print('{}\\t\\t{}'.format(i,model.reactive[j].F.value*model.reactive[j].z[i].value + model.reactive[j].r_total_comp[i].value))\n",
    "#         else:\n",
    "#             print('{}\\t\\t{}'.format(i,model.reactive[j].r_total_comp[i].value))"
   ]
  },
  {
   "cell_type": "code",
   "execution_count": null,
   "metadata": {},
   "outputs": [],
   "source": []
  }
 ],
 "metadata": {
  "kernelspec": {
   "display_name": "Python 3",
   "language": "python",
   "name": "python3"
  },
  "language_info": {
   "codemirror_mode": {
    "name": "ipython",
    "version": 3
   },
   "file_extension": ".py",
   "mimetype": "text/x-python",
   "name": "python",
   "nbconvert_exporter": "python",
   "pygments_lexer": "ipython3",
   "version": "3.6.3"
  }
 },
 "nbformat": 4,
 "nbformat_minor": 2
}
