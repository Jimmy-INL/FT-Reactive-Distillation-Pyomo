{
 "cells": [
  {
   "cell_type": "code",
   "execution_count": 1,
   "metadata": {},
   "outputs": [
    {
     "name": "stdout",
     "output_type": "stream",
     "text": [
      "============================================================================================================\n",
      "2018-09-30 18:56:54 - Start Program\n",
      "============================================================================================================\n"
     ]
    }
   ],
   "source": [
    "# system imports\n",
    "import sys\n",
    "import os\n",
    "import datetime\n",
    "import shutil\n",
    "import atexit\n",
    "sys.path.append(os.path.abspath('..'))\n",
    "sys.path.append(os.path.abspath('../..'))\n",
    "\n",
    "import matplotlib\n",
    "if \"DISPLAY\" not in os.environ:\n",
    "    matplotlib.use(\"Agg\")\n",
    "\n",
    "import numpy as np\n",
    "from matplotlib import pyplot as plt\n",
    "from matplotlib.backends.backend_pdf import PdfPages\n",
    "\n",
    "import pickle\n",
    "import dill\n",
    "from copy import deepcopy\n",
    "from datetime import timedelta, datetime\n",
    "\n",
    "# pyomo imports\n",
    "from pyomo import environ as pe\n",
    "from global_sets.component import m\n",
    "\n",
    "from stages.reactive_stage import reactive_stage_rule\n",
    "from stages.condenser_stage import condenser_stage_rule\n",
    "from stages.reboiler_stage import reboiler_stage_rule\n",
    "\n",
    "from utility.display_utility import beautify, beautify_reactive, HiddenLogs, HiddenPrints, \\\n",
    "                                    plot_distribution, plot_product_distribution, check_product_spec\n",
    "from utility.model_utility import add_dual, update_dual, delete_dual, check_DOF, check_iteration, tray_translator\n",
    "from utility.model_utility import which_MPCC, select_MPCC, augmented_objective, add_solver, disable_restoration\n",
    "from utility.time_utility import create_filename_time, log_now, log_end\n",
    "\n",
    "class data_object(object):\n",
    "    def __init__(self, name):\n",
    "        self.name = name"
   ]
  },
  {
   "cell_type": "code",
   "execution_count": 2,
   "metadata": {},
   "outputs": [],
   "source": [
    "with open('./log/model/Preset_Case:_11_pf.pickle','rb') as f:\n",
    "    model = dill.load(f)"
   ]
  },
  {
   "cell_type": "code",
   "execution_count": 4,
   "metadata": {},
   "outputs": [],
   "source": [
    "opt = add_solver(pe,max_iter=1000,warm_start=True)"
   ]
  },
  {
   "cell_type": "code",
   "execution_count": null,
   "metadata": {},
   "outputs": [],
   "source": []
  }
 ],
 "metadata": {
  "kernelspec": {
   "display_name": "Python 3",
   "language": "python",
   "name": "python3"
  },
  "language_info": {
   "codemirror_mode": {
    "name": "ipython",
    "version": 3
   },
   "file_extension": ".py",
   "mimetype": "text/x-python",
   "name": "python",
   "nbconvert_exporter": "python",
   "pygments_lexer": "ipython3",
   "version": "3.6.5"
  }
 },
 "nbformat": 4,
 "nbformat_minor": 2
}
