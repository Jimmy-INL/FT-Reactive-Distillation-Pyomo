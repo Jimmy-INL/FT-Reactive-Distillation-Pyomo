{
 "cells": [
  {
   "cell_type": "code",
   "execution_count": null,
   "metadata": {},
   "outputs": [],
   "source": [
    "%matplotlib inline\n",
    "'''\n",
    "How to Optimize Your Dragon: V1\n",
    "Import initialized model and start the optimization\n",
    "'''\n",
    "# system imports\n",
    "import sys\n",
    "import os\n",
    "import datetime\n",
    "sys.path.append(os.path.abspath('..'))\n",
    "sys.path.append(os.path.abspath('../..'))\n",
    "\n",
    "import numpy as np\n",
    "from matplotlib import pyplot as plt\n",
    "from matplotlib.backends.backend_pdf import PdfPages\n",
    "\n",
    "import dill\n",
    "\n",
    "# pyomo imports\n",
    "from pyomo import environ as pe\n",
    "from global_sets.component import m\n",
    "\n",
    "from stages.reactive_stage import reactive_stage_rule\n",
    "from stages.condenser_stage import condenser_stage_rule\n",
    "from stages.reboiler_stage import reboiler_stage_rule\n",
    "\n",
    "from utility.display_utility import beautify, beautify_reactive, HiddenLogs, HiddenPrints, plot_distribution,\\\n",
    "                                    trans_cnumber, trans_product_mole\n",
    "from utility.model_utility import add_dual, update_dual, delete_dual, check_DOF# , check_violate_constraint\n",
    "from utility.data_utility import cal_cnumber\n",
    "from utility.time_utility import create_filename_time, log_now, log_end"
   ]
  },
  {
   "cell_type": "code",
   "execution_count": null,
   "metadata": {},
   "outputs": [],
   "source": [
    "product = {}\n",
    "product['napha'] = [i for i in m.COMP_ORG if cal_cnumber(i) >= 5 and cal_cnumber(i) <= 7]\n",
    "product['gasoline'] = [i for i in m.COMP_ORG if cal_cnumber(i) >= 8 and cal_cnumber(i) <= 12]\n",
    "product['diesel'] = [i for i in m.COMP_ORG if cal_cnumber(i) >= 13 and cal_cnumber(i) <= 18]\n",
    "product['heavy'] = [i for i in m.COMP_ORG if cal_cnumber(i) >= 19 and cal_cnumber(i) <= 56]"
   ]
  },
  {
   "cell_type": "code",
   "execution_count": null,
   "metadata": {},
   "outputs": [],
   "source": [
    "logname = create_filename_time()\n",
    "log_text_dir = './log/text/opt_'+logname+'.dat'\n",
    "log_figure_dir = './log/figure/opt_'+logname+'.pdf'"
   ]
  },
  {
   "cell_type": "code",
   "execution_count": null,
   "metadata": {},
   "outputs": [],
   "source": [
    "def see_product(model):\n",
    "    cd_x_data = []; rf_x_data = {}; rb_x_data = []\n",
    "\n",
    "    cd_x_data = trans_product_mole({i:model.condenser.x[i].value for i in m.COMP_TOTAL})\n",
    "    for j in model.reactive:\n",
    "        rf_x_data[j] = trans_product_mole({i:model.reactive[j].x[i].value for i in m.COMP_TOTAL})\n",
    "    rb_x_data = trans_product_mole({i:model.reboiler.x[i].value for i in m.COMP_TOTAL})\n",
    "\n",
    "    print('Napha:\\t\\t{:.2f}'.format(cd_x_data['scaled']['napha']))\n",
    "    print('Gasoline:\\t{:.2f}'.format(rf_x_data[7]['scaled']['gasoline']))\n",
    "    print('Diesel:\\t\\t{:.2f}'.format(rf_x_data[10]['scaled']['diesel']))\n",
    "    print('Heavy:\\t\\t{:.2f}'.format(rb_x_data['scaled']['heavy']))"
   ]
  },
  {
   "cell_type": "code",
   "execution_count": null,
   "metadata": {},
   "outputs": [],
   "source": [
    "with open('./log/model/stage_20_base.pickle','rb') as f:\n",
    "    model = dill.load(f)"
   ]
  },
  {
   "cell_type": "code",
   "execution_count": null,
   "metadata": {},
   "outputs": [],
   "source": [
    "# for j in model.reactive:\n",
    "#     model.reactive[j].MPCC.pf.fix(0)\n",
    "# model.reboiler.MPCC.pf.fix(0)"
   ]
  },
  {
   "cell_type": "code",
   "execution_count": null,
   "metadata": {},
   "outputs": [],
   "source": [
    "opt = pe.SolverFactory('ipopt')\n",
    "\n",
    "opt.options['print_user_options'] = 'yes'\n",
    "opt.options['linear_solver'] = 'ma86'\n",
    "\n",
    "opt.options['linear_system_scaling '] = 'mc19'\n",
    "opt.options['linear_scaling_on_demand '] = 'no'\n",
    "\n",
    "opt.options['max_iter'] = 7000\n",
    "opt.options['warm_start_init_point'] = 'yes'\n",
    "opt.options['warm_start_bound_push'] = 1e-20\n",
    "opt.options['warm_start_mult_bound_push'] = 1e-20\n",
    "opt.options['mu_init'] = 1e-6"
   ]
  },
  {
   "cell_type": "code",
   "execution_count": null,
   "metadata": {
    "scrolled": true
   },
   "outputs": [],
   "source": [
    "results = opt.solve(model,tee=True)\n",
    "update_dual(pe,model)"
   ]
  },
  {
   "cell_type": "code",
   "execution_count": null,
   "metadata": {},
   "outputs": [],
   "source": [
    "pdf = PdfPages(log_figure_dir)"
   ]
  },
  {
   "cell_type": "code",
   "execution_count": null,
   "metadata": {},
   "outputs": [],
   "source": [
    "with HiddenLogs(log_text_dir,'w'):\n",
    "    print('\\n>','Original 20 stage case')\n",
    "    print('-'*108)\n",
    "    beautify(pe,model)\n",
    "    see_product(model)\n",
    "    log_now()\n",
    "\n",
    "plot_distribution(model,pdf,'Original 20 stage case')"
   ]
  },
  {
   "cell_type": "markdown",
   "metadata": {},
   "source": [
    "# Optimization Input"
   ]
  },
  {
   "cell_type": "markdown",
   "metadata": {},
   "source": [
    "**Parameters:**\n",
    "* Stage Temperature\n",
    "    * Rectifying section: 200C - 300C\n",
    "    * Stripping section: 200C - 300C\n",
    "* Reflux\n",
    "    * Distillate / (Distillate + Reflux): 0.5 - 0.05, Refulx Ratio: 1 - 19\n",
    "\n",
    "\n",
    "**Constraints:**\n",
    "* Product\n",
    "    * Distillate: C5~C7 >= 0.75\n",
    "    * Gasoline: C8~C12 >= 0.75\n",
    "    * Diesel: C13~C18 >= 0.6\n",
    "    * Heavy: C19+ >= 0.85\n",
    "    \n",
    "**Objective:**\n",
    "* Max gasoline production"
   ]
  },
  {
   "cell_type": "markdown",
   "metadata": {},
   "source": [
    "### Parameters"
   ]
  },
  {
   "cell_type": "code",
   "execution_count": null,
   "metadata": {},
   "outputs": [],
   "source": [
    "for j in range(8,13):\n",
    "    model.reactive[j].T.setlb(200+273.15)\n",
    "    model.reactive[j].T.setub(300+273.15)\n",
    "for j in range(14,19):\n",
    "    model.reactive[j].T.setlb(200+273.15)\n",
    "    model.reactive[j].T.setub(300+273.15)\n",
    "    \n",
    "# model.condenser.PR_L.unfix()\n",
    "# model.condenser.PR_L.setlb(0.05)\n",
    "# model.condenser.PR_L.setub(0.5)"
   ]
  },
  {
   "cell_type": "markdown",
   "metadata": {},
   "source": [
    "### Constraints"
   ]
  },
  {
   "cell_type": "code",
   "execution_count": null,
   "metadata": {},
   "outputs": [],
   "source": [
    "model.quality_coefficient = pe.Param(within=pe.NonNegativeReals,mutable=True,initialize=1)"
   ]
  },
  {
   "cell_type": "code",
   "execution_count": null,
   "metadata": {},
   "outputs": [],
   "source": [
    "model.product_spec_con = pe.ConstraintList()"
   ]
  },
  {
   "cell_type": "code",
   "execution_count": null,
   "metadata": {},
   "outputs": [],
   "source": [
    "model.product_spec_con.add(expr = sum(model.condenser.x[i] for i in product['napha']) >= \\\n",
    "                           model.quality_coefficient*0.75*sum(model.condenser.x[i] for i in m.COMP_ORG));\n",
    "model.product_spec_con.add(expr = sum(model.reactive[7].x[i] for i in product['gasoline']) >= \\\n",
    "                           model.quality_coefficient*0.75*sum(model.reactive[7].x[i] for i in m.COMP_ORG));\n",
    "model.product_spec_con.add(expr = sum(model.reactive[10].x[i] for i in product['diesel']) >= \\\n",
    "                           model.quality_coefficient*0.6*sum(model.reactive[10].x[i] for i in m.COMP_ORG));\n",
    "model.product_spec_con.add(expr = sum(model.reboiler.x[i] for i in product['heavy']) >= \\\n",
    "                           model.quality_coefficient*0.85*sum(model.reboiler.x[i] for i in m.COMP_ORG));"
   ]
  },
  {
   "cell_type": "markdown",
   "metadata": {},
   "source": [
    "### Objective"
   ]
  },
  {
   "cell_type": "code",
   "execution_count": null,
   "metadata": {},
   "outputs": [],
   "source": [
    "model.del_component(model.obj)"
   ]
  },
  {
   "cell_type": "code",
   "execution_count": null,
   "metadata": {},
   "outputs": [],
   "source": [
    "model.obj = pe.Objective(expr = model.reactive[7].L['P'] - sum(model.reactive[j].MPCC.pf for j in model.reactive)\\\n",
    "                                - model.reboiler.MPCC.pf, sense = pe.maximize)"
   ]
  },
  {
   "cell_type": "code",
   "execution_count": null,
   "metadata": {},
   "outputs": [],
   "source": [
    "# increase the penalty weight\n",
    "# for j in model.reactive:\n",
    "#     model.reactive[j].MPCC.rho = 100\n",
    "# model.reboiler.MPCC.rho = 100"
   ]
  },
  {
   "cell_type": "code",
   "execution_count": null,
   "metadata": {
    "scrolled": false
   },
   "outputs": [],
   "source": [
    "results = opt.solve(model,tee=True)\n",
    "update_dual(pe,model)"
   ]
  },
  {
   "cell_type": "code",
   "execution_count": null,
   "metadata": {},
   "outputs": [],
   "source": [
    "with HiddenLogs(log_text_dir):\n",
    "    print('\\n>','Optimized Temperature and Reflux')\n",
    "    print('-'*108)\n",
    "    beautify(pe,model)\n",
    "    see_product(model)\n",
    "    log_now()\n",
    "\n",
    "plot_distribution(model,pdf,'Optimized Temperature')"
   ]
  },
  {
   "cell_type": "code",
   "execution_count": null,
   "metadata": {},
   "outputs": [],
   "source": [
    "model.condenser.PR_L.unfix()\n",
    "model.condenser.PR_L.setlb(0.05)\n",
    "model.condenser.PR_L.setub(0.5)"
   ]
  },
  {
   "cell_type": "code",
   "execution_count": null,
   "metadata": {
    "scrolled": true
   },
   "outputs": [],
   "source": [
    "results = opt.solve(model,tee=True)\n",
    "update_dual(pe,model)"
   ]
  },
  {
   "cell_type": "code",
   "execution_count": null,
   "metadata": {},
   "outputs": [],
   "source": [
    "with HiddenLogs(log_text_dir):\n",
    "    print('\\n>','Optimized Temperature and Reflux')\n",
    "    print('-'*108)\n",
    "    beautify(pe,model)\n",
    "    see_product(model)\n",
    "    log_now()\n",
    "\n",
    "plot_distribution(model,pdf,'Optimized Reflux')"
   ]
  },
  {
   "cell_type": "markdown",
   "metadata": {},
   "source": [
    "# Open up side-draw"
   ]
  },
  {
   "cell_type": "markdown",
   "metadata": {},
   "source": [
    "**Parameters:**\n",
    "* Stage Temperature\n",
    "    * Rectifying section: 200C - 300C\n",
    "    * Stripping section: 200C - 300C\n",
    "* Reflux\n",
    "    * Distillate / (Distillate + Reflux): 0.5 - 0.05, Refulx Ratio: 1 - 19\n",
    "* Side-draw ratio\n",
    "    * PR_L: 0 - 1\n",
    "\n",
    "**Constraints:**\n",
    "* Product\n",
    "    * Distillate: C5~C7 >= 0.75\n",
    "    * Gasoline: C8~C12 >= 0.75\n",
    "    * Diesel: C13~C18 >= 0.6\n",
    "    * Heavy: C19+ >= 0.85\n",
    "    \n",
    "**Objective:**\n",
    "* Max gasoline production"
   ]
  },
  {
   "cell_type": "code",
   "execution_count": null,
   "metadata": {},
   "outputs": [],
   "source": [
    "model.reactive[4].PR_L.unfix()\n",
    "model.reactive[4].L['P'].setlb(0.02)\n",
    "model.reactive[7].PR_L.unfix()\n",
    "model.reactive[10].PR_L.unfix()"
   ]
  },
  {
   "cell_type": "code",
   "execution_count": null,
   "metadata": {
    "scrolled": true
   },
   "outputs": [],
   "source": [
    "results = opt.solve(model,tee=True)\n",
    "update_dual(pe,model)"
   ]
  },
  {
   "cell_type": "code",
   "execution_count": null,
   "metadata": {
    "scrolled": false
   },
   "outputs": [],
   "source": [
    "with HiddenLogs(log_text_dir):\n",
    "    print('\\n>','Optimized Product Side Draw')\n",
    "    print('-'*108)\n",
    "    beautify(pe,model)\n",
    "    see_product(model)\n",
    "    log_now()\n",
    "\n",
    "plot_distribution(model,pdf,'Optimized Product Side Draw')"
   ]
  },
  {
   "cell_type": "markdown",
   "metadata": {},
   "source": [
    "# Open up feed allocation"
   ]
  },
  {
   "cell_type": "markdown",
   "metadata": {},
   "source": [
    "**Parameters:**\n",
    "* Stage Temperature\n",
    "    * Rectifying section: 200C - 300C\n",
    "    * Stripping section: 200C - 300C\n",
    "* Reflux\n",
    "    * Distillate / (Distillate + Reflux): 0.5 - 0.05, Refulx Ratio: 1 - 19\n",
    "* Side-draw\n",
    "    * PR_L: 0 - 1\n",
    "    \n",
    "* Feed\n",
    "    * F: 0 - 3\n",
    "\n",
    "**Constraints:**\n",
    "* Product\n",
    "    * Distillate: C5~C7 >= 0.75\n",
    "    * Gasoline: C8~C12 >= 0.75\n",
    "    * Diesel: C13~C18 >= 0.6\n",
    "    * Heavy: C19+ >= 0.85\n",
    "    \n",
    "* Total feed\n",
    "    * Total feed = 10 kmol/s\n",
    "    \n",
    "**Objective:**\n",
    "* Max gasoline production"
   ]
  },
  {
   "cell_type": "code",
   "execution_count": null,
   "metadata": {},
   "outputs": [],
   "source": [
    "for j in model.reactive:\n",
    "    model.reactive[j].F.unfix()\n",
    "    model.reactive[j].F.setlb(0)\n",
    "    model.reactive[j].F.setub(10)"
   ]
  },
  {
   "cell_type": "code",
   "execution_count": null,
   "metadata": {},
   "outputs": [],
   "source": [
    "model.total_feed_con = pe.ConstraintList()"
   ]
  },
  {
   "cell_type": "code",
   "execution_count": null,
   "metadata": {},
   "outputs": [],
   "source": [
    "model.total_feed_con.add(expr = sum(model.reactive[j].F for j in model.reactive) == 10);"
   ]
  },
  {
   "cell_type": "code",
   "execution_count": null,
   "metadata": {
    "scrolled": true
   },
   "outputs": [],
   "source": [
    "results = opt.solve(model,tee=True)\n",
    "update_dual(pe,model)"
   ]
  },
  {
   "cell_type": "code",
   "execution_count": null,
   "metadata": {},
   "outputs": [],
   "source": [
    "with HiddenLogs(log_text_dir):\n",
    "    print('\\n>','Optimized Feed Amount and Location')\n",
    "    print('-'*108)\n",
    "    beautify(pe,model)\n",
    "    see_product(model)\n",
    "    log_now()\n",
    "\n",
    "plot_distribution(model,pdf,'Optimized Feed Amount and Location')"
   ]
  },
  {
   "cell_type": "markdown",
   "metadata": {},
   "source": [
    "# Increase spec a little bit"
   ]
  },
  {
   "cell_type": "markdown",
   "metadata": {},
   "source": [
    "**Parameters:**\n",
    "* Stage Temperature\n",
    "    * Rectifying section: 200C - 300C\n",
    "    * Stripping section: 200C - 300C\n",
    "* Reflux\n",
    "    * Distillate / (Distillate + Reflux): 0.5 - 0.05, Refulx Ratio: 1 - 19\n",
    "* Side-draw\n",
    "    * PR_L: 0 - 1\n",
    "    \n",
    "* Feed\n",
    "    * F: 0 - 3\n",
    "\n",
    "**Constraints:**\n",
    "* Product\n",
    "    * Distillate: C5~C7 >= 0.75\n",
    "    * Gasoline: C8~C12 >= **0.8**\n",
    "    * Diesel: C13~C18 >= 0.6\n",
    "    * Heavy: C19+ >= 0.85\n",
    "    \n",
    "* Total feed\n",
    "    * Total feed = 10 kmol/s\n",
    "    \n",
    "**Objective:**\n",
    "* Max gasoline production"
   ]
  },
  {
   "cell_type": "code",
   "execution_count": null,
   "metadata": {},
   "outputs": [],
   "source": [
    "# model.product_spec_con.add(expr = sum(model.reactive[7].x[i] for i in product['gasoline']) >= \\\n",
    "#                            model.quality_coefficient*0.8*sum(model.reactive[7].x[i] for i in m.COMP_ORG));"
   ]
  },
  {
   "cell_type": "code",
   "execution_count": null,
   "metadata": {},
   "outputs": [],
   "source": [
    "# results = opt.solve(model,tee=True)\n",
    "# update_dual(pe,model)"
   ]
  },
  {
   "cell_type": "code",
   "execution_count": null,
   "metadata": {},
   "outputs": [],
   "source": [
    "# with HiddenLogs(log_text_dir):\n",
    "#     print('\\n>','Increase Gasoline Specification to 80%')\n",
    "#     print('-'*108)\n",
    "#     beautify(pe,model)\n",
    "#     see_product(model)\n",
    "#     log_now()\n",
    "\n",
    "# plot_distribution(model,pdf,'Increase Gasoline Specification to 80%')"
   ]
  },
  {
   "cell_type": "markdown",
   "metadata": {},
   "source": [
    "# Open up catalyst allocation ( = TOTAL reconstruction, long wait time)"
   ]
  },
  {
   "cell_type": "markdown",
   "metadata": {},
   "source": [
    "**Parameters:**\n",
    "* Stage Temperature\n",
    "    * Rectifying section: 200C - 300C\n",
    "    * Stripping section: 200C - 300C\n",
    "* Reflux\n",
    "    * Distillate / (Distillate + Reflux): 0.5 - 0.05, Refulx Ratio: 1 - 19\n",
    "* Side-draw\n",
    "    * PR_L: 0 - 1\n",
    "    \n",
    "* Feed\n",
    "    * F: 0 - 3\n",
    "        \n",
    "* Catalyst\n",
    "    * cat: 0 - 10000\n",
    "\n",
    "**Constraints:**\n",
    "* Product\n",
    "    * Distillate: C5~C7 >= 0.75\n",
    "    * Gasoline: C8~C12 >= 0.75 / 0.8\n",
    "    * Diesel: C13~C18 >= 0.6\n",
    "    * Heavy: C19+ >= 0.85\n",
    "    \n",
    "* Total feed\n",
    "    * sum feed = 10 kmol/s\n",
    "    \n",
    "* Total catalyst\n",
    "    * sum cat = 30000 kg\n",
    "    \n",
    "**Objective:**\n",
    "* Max gasoline production"
   ]
  },
  {
   "cell_type": "code",
   "execution_count": null,
   "metadata": {},
   "outputs": [],
   "source": [
    "for j in model.reactive:\n",
    "    model.reactive[j].cat.unfix()\n",
    "    model.reactive[j].cat.setlb(0)\n",
    "    model.reactive[j].cat.setub(30000)"
   ]
  },
  {
   "cell_type": "code",
   "execution_count": null,
   "metadata": {},
   "outputs": [],
   "source": [
    "model.total_cat_con = pe.ConstraintList()"
   ]
  },
  {
   "cell_type": "code",
   "execution_count": null,
   "metadata": {},
   "outputs": [],
   "source": [
    "model.total_cat_con.add(expr = sum(model.reactive[j].cat for j in model.reactive) == 10*3000);"
   ]
  },
  {
   "cell_type": "code",
   "execution_count": null,
   "metadata": {
    "scrolled": true
   },
   "outputs": [],
   "source": [
    "results = opt.solve(model,tee=True)\n",
    "update_dual(pe,model)"
   ]
  },
  {
   "cell_type": "code",
   "execution_count": null,
   "metadata": {},
   "outputs": [],
   "source": [
    "with HiddenLogs(log_text_dir):\n",
    "    print('\\n>','Optimized Catalyst Amount and Location')\n",
    "    print('-'*108)\n",
    "    beautify(pe,model)\n",
    "    see_product(model)\n",
    "    log_now()\n",
    "\n",
    "plot_distribution(model,pdf,'Optimized Catalyst Amount and Location')"
   ]
  },
  {
   "cell_type": "code",
   "execution_count": null,
   "metadata": {},
   "outputs": [],
   "source": [
    "pdf.close()"
   ]
  },
  {
   "cell_type": "code",
   "execution_count": null,
   "metadata": {},
   "outputs": [],
   "source": []
  }
 ],
 "metadata": {
  "kernelspec": {
   "display_name": "Python 3",
   "language": "python",
   "name": "python3"
  },
  "language_info": {
   "codemirror_mode": {
    "name": "ipython",
    "version": 3
   },
   "file_extension": ".py",
   "mimetype": "text/x-python",
   "name": "python",
   "nbconvert_exporter": "python",
   "pygments_lexer": "ipython3",
   "version": "3.6.3"
  }
 },
 "nbformat": 4,
 "nbformat_minor": 2
}
