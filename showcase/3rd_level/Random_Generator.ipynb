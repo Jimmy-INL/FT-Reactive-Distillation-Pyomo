{
 "cells": [
  {
   "cell_type": "code",
   "execution_count": 1,
   "metadata": {},
   "outputs": [],
   "source": [
    "import pickle\n",
    "from copy import deepcopy\n",
    "import numpy as np\n",
    "\n",
    "class data_object(object):\n",
    "    def __init__(self, name):\n",
    "        self.name = name"
   ]
  },
  {
   "cell_type": "code",
   "execution_count": 2,
   "metadata": {},
   "outputs": [],
   "source": [
    "master_collector = {}\n",
    "\n",
    "for i in range(1,1001):\n",
    "    rand_input = data_object('{}'.format(i))\n",
    "    '''\n",
    "    model input, randomized\n",
    "    '''\n",
    "    # The following parameters requires manual input\n",
    "    rand_input.tray_number = 20\n",
    "    mpcc_type = 'NCP'\n",
    "    rand_input.non_reactive_flag = [1,2,3,4,5,6,7,8,19,20]\n",
    "\n",
    "    # The following parameters is generated manually\n",
    "    # reset random seeds\n",
    "    np.random.seed()\n",
    "\n",
    "    # distillate ratio = 0.05 - 0.15 total condenser liquid\n",
    "    rand = np.random.rand()\n",
    "    rand_input.rr_ratio = 0.05 + 0.1*(rand)\n",
    "\n",
    "    # generate three product flag, randint produces [low,high)\n",
    "    rand_input.side_draw_flag = {}\n",
    "    # intermediate 2 - 4\n",
    "    rand_int = np.random.randint(low=2,high=5)\n",
    "    rand = np.random.rand()\n",
    "    rand_input.side_draw_flag.update({rand_int:0.01+0.03*rand})\n",
    "    # gasoline 5 - 9\n",
    "    rand_int = np.random.randint(low=5,high=10)\n",
    "    rand = np.random.rand()\n",
    "    rand_input.side_draw_flag.update({rand_int:0.1+0.2*rand})\n",
    "    # diesel 11 - 18\n",
    "    rand_int = np.random.randint(low=11,high=19)\n",
    "    rand = np.random.rand()\n",
    "    rand_input.side_draw_flag.update({rand_int:0.2+0.3*rand})\n",
    "\n",
    "    # generating temperature profile\n",
    "    profile_tmp = sorted(np.random.rand(rand_input.tray_number - len(rand_input.non_reactive_flag)))\n",
    "    rand_input.temperature_flag = {}; n = 0\n",
    "    for j in range(1,rand_input.tray_number+1):\n",
    "        if j not in rand_input.non_reactive_flag:\n",
    "            rand_input.temperature_flag[j] = 220+60*profile_tmp[n]\n",
    "            n += 1\n",
    "    \n",
    "    # generating feed profile, total = 10 kmol/s\n",
    "    profile_tmp = {j:np.random.rand() for j in range(1,rand_input.tray_number+1) if j not in rand_input.non_reactive_flag}\n",
    "    total_tmp = sum(profile_tmp[j] for j in profile_tmp)\n",
    "    rand_input.feed_flag = {j:0.01 + (10-0.01*10)*profile_tmp[j]/total_tmp for j in range(1,rand_input.tray_number+1) if j not in rand_input.non_reactive_flag}\n",
    "    rand_input.feed_flag.update({j:0 for j in rand_input.non_reactive_flag})\n",
    "\n",
    "    # generating catalyst profile, total = 30000 kg\n",
    "    profile_tmp = {j:np.random.rand() for j in range(1,rand_input.tray_number+1) if j not in rand_input.non_reactive_flag}\n",
    "    total_tmp = sum(profile_tmp[j] for j in profile_tmp)\n",
    "    rand_input.catalyst_flag = {j:100 + (30000-100*10)*profile_tmp[j]/total_tmp for j in range(1,rand_input.tray_number+1) if j not in rand_input.non_reactive_flag}\n",
    "    rand_input.catalyst_flag.update({j:0 for j in rand_input.non_reactive_flag})\n",
    "    \n",
    "    master_collector[i] = rand_input"
   ]
  },
  {
   "cell_type": "code",
   "execution_count": 3,
   "metadata": {},
   "outputs": [],
   "source": [
    "# with open('rand_states_1.pickle','wb') as f:\n",
    "#     pickle.dump(master_collector,f)"
   ]
  },
  {
   "cell_type": "code",
   "execution_count": 6,
   "metadata": {},
   "outputs": [
    {
     "data": {
      "text/plain": [
       "{'name': '1',\n",
       " 'tray_number': 20,\n",
       " 'non_reactive_flag': [1, 2, 3, 4, 5, 6, 7, 8, 19, 20],\n",
       " 'rr_ratio': 0.12578674194463998,\n",
       " 'side_draw_flag': {2: 0.018111202654322825,\n",
       "  7: 0.17649166200197786,\n",
       "  15: 0.35565383203614165},\n",
       " 'temperature_flag': {9: 220.66340445184488,\n",
       "  10: 237.483808571952,\n",
       "  11: 248.2239881808284,\n",
       "  12: 250.0944360143004,\n",
       "  13: 250.318009596403,\n",
       "  14: 252.03221424154975,\n",
       "  15: 254.46911963362976,\n",
       "  16: 255.60166828287433,\n",
       "  17: 260.7643252993398,\n",
       "  18: 277.7046062959498},\n",
       " 'feed_flag': {9: 0.07574421063086849,\n",
       "  10: 1.1434693725059026,\n",
       "  11: 0.9116393511614256,\n",
       "  12: 0.4949817419035024,\n",
       "  13: 0.10740162148759753,\n",
       "  14: 1.5487746911909739,\n",
       "  15: 1.866967200568687,\n",
       "  16: 0.7526661379487373,\n",
       "  17: 1.3411770868573964,\n",
       "  18: 1.7571785857449103,\n",
       "  1: 0,\n",
       "  2: 0,\n",
       "  3: 0,\n",
       "  4: 0,\n",
       "  5: 0,\n",
       "  6: 0,\n",
       "  7: 0,\n",
       "  8: 0,\n",
       "  19: 0,\n",
       "  20: 0},\n",
       " 'catalyst_flag': {9: 171.06919770081038,\n",
       "  10: 4622.890095130403,\n",
       "  11: 2755.0619668937466,\n",
       "  12: 4404.454236694912,\n",
       "  13: 4412.683382676973,\n",
       "  14: 5121.557441256858,\n",
       "  15: 1532.6839571654853,\n",
       "  16: 1414.3511532023506,\n",
       "  17: 643.7275618253036,\n",
       "  18: 4921.52100745316,\n",
       "  1: 0,\n",
       "  2: 0,\n",
       "  3: 0,\n",
       "  4: 0,\n",
       "  5: 0,\n",
       "  6: 0,\n",
       "  7: 0,\n",
       "  8: 0,\n",
       "  19: 0,\n",
       "  20: 0}}"
      ]
     },
     "execution_count": 6,
     "metadata": {},
     "output_type": "execute_result"
    }
   ],
   "source": [
    "master_collector[1].__dict__"
   ]
  },
  {
   "cell_type": "code",
   "execution_count": null,
   "metadata": {},
   "outputs": [],
   "source": []
  }
 ],
 "metadata": {
  "kernelspec": {
   "display_name": "Python 3",
   "language": "python",
   "name": "python3"
  },
  "language_info": {
   "codemirror_mode": {
    "name": "ipython",
    "version": 3
   },
   "file_extension": ".py",
   "mimetype": "text/x-python",
   "name": "python",
   "nbconvert_exporter": "python",
   "pygments_lexer": "ipython3",
   "version": "3.6.5"
  }
 },
 "nbformat": 4,
 "nbformat_minor": 2
}
