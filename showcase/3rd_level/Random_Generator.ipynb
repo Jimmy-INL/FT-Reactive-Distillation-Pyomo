{
 "cells": [
  {
   "cell_type": "code",
   "execution_count": 1,
   "metadata": {},
   "outputs": [],
   "source": [
    "import pickle\n",
    "from copy import deepcopy\n",
    "import numpy as np\n",
    "\n",
    "class data_object(object):\n",
    "    def __init__(self, name):\n",
    "        self.name = name"
   ]
  },
  {
   "cell_type": "code",
   "execution_count": 2,
   "metadata": {},
   "outputs": [],
   "source": [
    "master_collector = {}\n",
    "\n",
    "for i in range(1,1001):\n",
    "    rand_input = data_object('{}'.format(i))\n",
    "    '''\n",
    "    model input, randomized\n",
    "    '''\n",
    "    # The following parameters requires manual input\n",
    "    rand_input.tray_number = 20\n",
    "    rand_input.non_reactive_flag = [1,2,3,4,5,6,7]\n",
    "\n",
    "    # The following parameters is generated manually\n",
    "    # reset random seeds\n",
    "    np.random.seed()\n",
    "\n",
    "    # distillate ratio = 0.05 - 0.15 total condenser liquid\n",
    "    rand = np.random.rand()\n",
    "    rand_input.rr_ratio = 0.05 + 0.1*(rand)\n",
    "\n",
    "    # generate three product flag, randint produces [low,high)\n",
    "    rand_input.side_draw_flag = {}\n",
    "    # intermediate 2 - 4\n",
    "    rand_int = np.random.randint(low=1,high=3)\n",
    "    rand = np.random.rand()\n",
    "    rand_input.side_draw_flag.update({rand_int:0.01+0.02*rand})\n",
    "    # gasoline 5 - 9\n",
    "    rand_int = np.random.randint(low=3,high=10)\n",
    "    rand = np.random.rand()\n",
    "    rand_input.side_draw_flag.update({rand_int:0.1+0.2*rand})\n",
    "    # diesel 11 - 18\n",
    "    rand_int = np.random.randint(low=10,high=19)\n",
    "    rand = np.random.rand()\n",
    "    rand_input.side_draw_flag.update({rand_int:0.2+0.3*rand})\n",
    "\n",
    "    # generating temperature profile\n",
    "    profile_tmp = sorted(np.random.rand(rand_input.tray_number - len(rand_input.non_reactive_flag)))\n",
    "    rand_input.temperature_flag = {}; n = 0\n",
    "    for j in range(1,rand_input.tray_number+1):\n",
    "        if j not in rand_input.non_reactive_flag:\n",
    "            rand_input.temperature_flag[j] = 220+60*profile_tmp[n]\n",
    "            n += 1\n",
    "    \n",
    "    # generating feed profile, total = 10 kmol/s\n",
    "    profile_tmp = {j:np.random.rand() for j in range(1,rand_input.tray_number+1) if j not in rand_input.non_reactive_flag}\n",
    "    total_tmp = sum(profile_tmp[j] for j in profile_tmp)\n",
    "    rand_input.feed_flag = {j:0.01 + (10-0.01*len(profile_tmp))*profile_tmp[j]/total_tmp for j in range(1,rand_input.tray_number+1) if j not in rand_input.non_reactive_flag}\n",
    "    rand_input.feed_flag.update({j:0 for j in rand_input.non_reactive_flag})\n",
    "\n",
    "    # generating catalyst profile, total = 30000 kg\n",
    "    profile_tmp = {j:np.random.rand() for j in range(1,rand_input.tray_number+1) if j not in rand_input.non_reactive_flag}\n",
    "    total_tmp = sum(profile_tmp[j] for j in profile_tmp)\n",
    "    rand_input.catalyst_flag = {j:100 + (30000-100*len(profile_tmp))*profile_tmp[j]/total_tmp for j in range(1,rand_input.tray_number+1) if j not in rand_input.non_reactive_flag}\n",
    "    rand_input.catalyst_flag.update({j:0 for j in rand_input.non_reactive_flag})\n",
    "    \n",
    "    master_collector[i] = rand_input"
   ]
  },
  {
   "cell_type": "code",
   "execution_count": 3,
   "metadata": {},
   "outputs": [],
   "source": [
    "with open('random_states_3.pickle','wb') as f:\n",
    "    pickle.dump(master_collector,f)"
   ]
  },
  {
   "cell_type": "code",
   "execution_count": 4,
   "metadata": {},
   "outputs": [
    {
     "data": {
      "text/plain": [
       "{'name': '1',\n",
       " 'tray_number': 20,\n",
       " 'non_reactive_flag': [1, 2, 3, 4, 5, 6, 7],\n",
       " 'rr_ratio': 0.06911659195271289,\n",
       " 'side_draw_flag': {1: 0.028480832319495213,\n",
       "  5: 0.22095272848300737,\n",
       "  13: 0.4154237543986452},\n",
       " 'temperature_flag': {8: 224.86464707262323,\n",
       "  9: 228.34170740050627,\n",
       "  10: 232.97773373004543,\n",
       "  11: 242.65185729644014,\n",
       "  12: 244.03628351660547,\n",
       "  13: 253.3304881850261,\n",
       "  14: 258.15005783741304,\n",
       "  15: 264.9494832828836,\n",
       "  16: 265.16657805354885,\n",
       "  17: 267.39606803165304,\n",
       "  18: 272.7302660670859,\n",
       "  19: 276.3083822774625,\n",
       "  20: 279.6256244943893},\n",
       " 'feed_flag': {8: 0.40580137981021475,\n",
       "  9: 1.2173863527396152,\n",
       "  10: 0.6646418781725827,\n",
       "  11: 1.1942533187028352,\n",
       "  12: 0.9732100385902774,\n",
       "  13: 0.373782438003868,\n",
       "  14: 1.3576179859632778,\n",
       "  15: 0.5549213659057607,\n",
       "  16: 0.4674659692015652,\n",
       "  17: 1.1042191168261464,\n",
       "  18: 0.773793268387047,\n",
       "  19: 0.30972496805001964,\n",
       "  20: 0.6031819196467911,\n",
       "  1: 0,\n",
       "  2: 0,\n",
       "  3: 0,\n",
       "  4: 0,\n",
       "  5: 0,\n",
       "  6: 0,\n",
       "  7: 0},\n",
       " 'catalyst_flag': {8: 1778.1304328695178,\n",
       "  9: 1840.9530841955248,\n",
       "  10: 1081.4818810199686,\n",
       "  11: 1141.2247967133405,\n",
       "  12: 1879.8673726650532,\n",
       "  13: 3188.9102155634364,\n",
       "  14: 2193.461177111459,\n",
       "  15: 3040.6037386769995,\n",
       "  16: 3324.8422148904424,\n",
       "  17: 1444.835360038615,\n",
       "  18: 2981.047205623267,\n",
       "  19: 4108.427362224652,\n",
       "  20: 1996.215158407726,\n",
       "  1: 0,\n",
       "  2: 0,\n",
       "  3: 0,\n",
       "  4: 0,\n",
       "  5: 0,\n",
       "  6: 0,\n",
       "  7: 0}}"
      ]
     },
     "execution_count": 4,
     "metadata": {},
     "output_type": "execute_result"
    }
   ],
   "source": [
    "master_collector[1].__dict__"
   ]
  },
  {
   "cell_type": "markdown",
   "metadata": {},
   "source": [
    "# Construct list of commands for bash parallel"
   ]
  },
  {
   "cell_type": "code",
   "execution_count": 1,
   "metadata": {},
   "outputs": [],
   "source": [
    "with open('command_line.lst','w') as f:\n",
    "    for i in range(1,1001):\n",
    "        f.write('./multi_start_onestep.py random_states_3.pickle {0} master_log_{0}.txt\\n'.format(i))"
   ]
  },
  {
   "cell_type": "markdown",
   "metadata": {},
   "source": [
    "# Construct list of scp commands for copying models over"
   ]
  },
  {
   "cell_type": "code",
   "execution_count": 3,
   "metadata": {},
   "outputs": [],
   "source": [
    "with open('copy_model.lst','w') as f:\n",
    "    for i in range(801,1001):\n",
    "        f.write('scp -i /Users/naienh/Downloads/test1.pem ec2-user@ec2-34-209-25-24.us-west-2.compute.amazonaws.com:/home/ec2-user/GitHub/showcase/3rd_level/log/model/Preset_Case_{:}_pf.pickle /Users/naienh/Desktop/model\\n'.format(i))"
   ]
  },
  {
   "cell_type": "code",
   "execution_count": null,
   "metadata": {},
   "outputs": [],
   "source": []
  }
 ],
 "metadata": {
  "kernelspec": {
   "display_name": "Python 3",
   "language": "python",
   "name": "python3"
  },
  "language_info": {
   "codemirror_mode": {
    "name": "ipython",
    "version": 3
   },
   "file_extension": ".py",
   "mimetype": "text/x-python",
   "name": "python",
   "nbconvert_exporter": "python",
   "pygments_lexer": "ipython3",
   "version": "3.6.5"
  }
 },
 "nbformat": 4,
 "nbformat_minor": 2
}
