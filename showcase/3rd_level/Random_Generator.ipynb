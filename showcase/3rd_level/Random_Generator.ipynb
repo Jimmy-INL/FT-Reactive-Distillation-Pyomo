{
 "cells": [
  {
   "cell_type": "code",
   "execution_count": 1,
   "metadata": {},
   "outputs": [],
   "source": [
    "import pickle\n",
    "from copy import deepcopy\n",
    "import numpy as np\n",
    "\n",
    "class data_object(object):\n",
    "    def __init__(self, name):\n",
    "        self.name = name"
   ]
  },
  {
   "cell_type": "code",
   "execution_count": 2,
   "metadata": {},
   "outputs": [],
   "source": [
    "master_collector = {}\n",
    "\n",
    "for i in range(1,1001):\n",
    "    rand_input = data_object('{}'.format(i))\n",
    "    '''\n",
    "    model input, randomized\n",
    "    '''\n",
    "    # The following parameters requires manual input\n",
    "    rand_input.tray_number = 20\n",
    "    mpcc_type = 'NCP'\n",
    "    rand_input.non_reactive_flag = [1,2,3,4,5,6,7]\n",
    "\n",
    "    # The following parameters is generated manually\n",
    "    # reset random seeds\n",
    "    np.random.seed()\n",
    "\n",
    "    # distillate ratio = 0.05 - 0.15 total condenser liquid\n",
    "    rand = np.random.rand()\n",
    "    rand_input.rr_ratio = 0.05 + 0.1*(rand)\n",
    "\n",
    "    # generate three product flag, randint produces [low,high)\n",
    "    rand_input.side_draw_flag = {}\n",
    "    # intermediate 2 - 4\n",
    "    rand_int = np.random.randint(low=2,high=5)\n",
    "    rand = np.random.rand()\n",
    "    rand_input.side_draw_flag.update({rand_int:0.01+0.03*rand})\n",
    "    # gasoline 5 - 9\n",
    "    rand_int = np.random.randint(low=5,high=10)\n",
    "    rand = np.random.rand()\n",
    "    rand_input.side_draw_flag.update({rand_int:0.1+0.2*rand})\n",
    "    # diesel 11 - 18\n",
    "    rand_int = np.random.randint(low=11,high=19)\n",
    "    rand = np.random.rand()\n",
    "    rand_input.side_draw_flag.update({rand_int:0.2+0.3*rand})\n",
    "\n",
    "    # generating temperature profile\n",
    "    profile_tmp = sorted(np.random.rand(rand_input.tray_number - len(rand_input.non_reactive_flag)))\n",
    "    rand_input.temperature_flag = {}; n = 0\n",
    "    for j in range(1,rand_input.tray_number+1):\n",
    "        if j not in rand_input.non_reactive_flag:\n",
    "            rand_input.temperature_flag[j] = 220+60*profile_tmp[n]\n",
    "            n += 1\n",
    "    \n",
    "    # generating feed profile, total = 10 kmol/s\n",
    "    profile_tmp = {j:np.random.rand() for j in range(1,rand_input.tray_number+1) if j not in rand_input.non_reactive_flag}\n",
    "    total_tmp = sum(profile_tmp[j] for j in profile_tmp)\n",
    "    rand_input.feed_flag = {j:0.01 + (10-0.01*len(profile_tmp))*profile_tmp[j]/total_tmp for j in range(1,rand_input.tray_number+1) if j not in rand_input.non_reactive_flag}\n",
    "    rand_input.feed_flag.update({j:0 for j in rand_input.non_reactive_flag})\n",
    "\n",
    "    # generating catalyst profile, total = 30000 kg\n",
    "    profile_tmp = {j:np.random.rand() for j in range(1,rand_input.tray_number+1) if j not in rand_input.non_reactive_flag}\n",
    "    total_tmp = sum(profile_tmp[j] for j in profile_tmp)\n",
    "    rand_input.catalyst_flag = {j:100 + (30000-100*len(profile_tmp))*profile_tmp[j]/total_tmp for j in range(1,rand_input.tray_number+1) if j not in rand_input.non_reactive_flag}\n",
    "    rand_input.catalyst_flag.update({j:0 for j in rand_input.non_reactive_flag})\n",
    "    \n",
    "    master_collector[i] = rand_input"
   ]
  },
  {
   "cell_type": "code",
   "execution_count": 3,
   "metadata": {},
   "outputs": [],
   "source": [
    "# with open('random_states_2.pickle','wb') as f:\n",
    "#     pickle.dump(master_collector,f)"
   ]
  },
  {
   "cell_type": "code",
   "execution_count": null,
   "metadata": {},
   "outputs": [],
   "source": []
  }
 ],
 "metadata": {
  "kernelspec": {
   "display_name": "Python 3",
   "language": "python",
   "name": "python3"
  },
  "language_info": {
   "codemirror_mode": {
    "name": "ipython",
    "version": 3
   },
   "file_extension": ".py",
   "mimetype": "text/x-python",
   "name": "python",
   "nbconvert_exporter": "python",
   "pygments_lexer": "ipython3",
   "version": "3.6.5"
  }
 },
 "nbformat": 4,
 "nbformat_minor": 2
}
