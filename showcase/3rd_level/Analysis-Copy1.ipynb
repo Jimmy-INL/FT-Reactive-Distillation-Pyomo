{
 "cells": [
  {
   "cell_type": "code",
   "execution_count": 1,
   "metadata": {},
   "outputs": [],
   "source": [
    "import numpy as np\n",
    "from matplotlib import pyplot as plt\n",
    "import pickle\n",
    "import itertools as it\n",
    "\n",
    "from collections import Counter\n",
    "\n",
    "from sklearn.preprocessing import StandardScaler\n",
    "from sklearn.decomposition import PCA\n",
    "\n",
    "import pandas as pd\n",
    "\n",
    "class data_object(object):\n",
    "    def __init__(self, name):\n",
    "        self.name = name"
   ]
  },
  {
   "cell_type": "code",
   "execution_count": 2,
   "metadata": {},
   "outputs": [],
   "source": [
    "plt.style.use('seaborn-poster')"
   ]
  },
  {
   "cell_type": "code",
   "execution_count": null,
   "metadata": {},
   "outputs": [],
   "source": [
    "with open('random_states_2.pickle','rb') as f:\n",
    "    random_states = pickle.load(f)\n",
    "random_states = {i:random_states[i] for i in random_states}"
   ]
  },
  {
   "cell_type": "markdown",
   "metadata": {},
   "source": [
    "# First, let's take a look at solution statistics"
   ]
  },
  {
   "cell_type": "code",
   "execution_count": 3,
   "metadata": {},
   "outputs": [],
   "source": [
    "total_runs = []\n",
    "finished_initialization = []\n",
    "finished_DDF_product = []\n",
    "finished_revenue = []\n",
    "finished_DDF_reflux = []\n",
    "finished_profit_3 = []\n",
    "finished_profit_3_1 = []\n",
    "finished_profit_3_2 = []\n",
    "\n",
    "with open('./log/master/master_log.txt','r') as f:\n",
    "    for key, group in it.groupby(f,lambda line: line.startswith('------------')):\n",
    "        if not key:\n",
    "            run_data = list(group)\n",
    "\n",
    "            # get run number\n",
    "            start = 'Preset_Case_'\n",
    "            end = '_'\n",
    "            s = run_data[2]\n",
    "            run_case = int(s[s.find(start)+len(start):s.rfind(end)])\n",
    "            total_runs.append(run_case)\n",
    "            \n",
    "            # get status\n",
    "            if 'Success: > Initialization\\n' in run_data:\n",
    "                finished_initialization.append(True)\n",
    "            else:\n",
    "                finished_initialization.append(False)\n",
    "                \n",
    "            if 'Success: > Added DDF formulation - Product\\n' in run_data:\n",
    "                finished_DDF_product.append(True)\n",
    "            else:\n",
    "                finished_DDF_product.append(False)\n",
    "                \n",
    "            if 'Success: > One-step Optimization - Revenue\\n' in run_data:\n",
    "                finished_revenue.append(True)\n",
    "            else:\n",
    "                finished_revenue.append(False)\n",
    "                \n",
    "            if 'Success: > Added DDF formulation - Reflux\\n' in run_data:\n",
    "                finished_DDF_reflux.append(True)\n",
    "            else:\n",
    "                finished_DDF_reflux.append(False)\n",
    "                \n",
    "            if 'Success: > One-step Optimization - Profit 3\\n' in run_data:\n",
    "                finished_profit_3.append(True)\n",
    "            else:\n",
    "                finished_profit_3.append(False)\n",
    "            \n",
    "            if 'Success: > One-step Optimization - Profit 3-1\\n' in run_data:\n",
    "                finished_profit_3_1.append(True)\n",
    "            else:\n",
    "                finished_profit_3_1.append(False)\n",
    "                \n",
    "            if 'Success: > One-step Optimization - Profit 3-2\\n' in run_data:\n",
    "                finished_profit_3_2.append(True)\n",
    "            else:\n",
    "                finished_profit_3_2.append(False)\n",
    "                \n",
    "finished_initialization = np.array(finished_initialization)\n",
    "finished_DDF_product = np.array(finished_DDF_product)\n",
    "finished_revenue = np.array(finished_revenue)\n",
    "finished_DDF_reflux = np.array(finished_DDF_reflux)\n",
    "finished_profit_3 = np.array(finished_profit_3)\n",
    "finished_profit_3_1 = np.array(finished_profit_3_1)\n",
    "finished_profit_3_2 = np.array(finished_profit_3_2)\n",
    "\n",
    "# finished_optimization_any = np.any([finished_revenue,finished_profit_3,finished_profit_3_1],axis=0)\n",
    "# finished_optimization_all = np.all([finished_revenue,finished_profit_3,finished_profit_3_1],axis=0)"
   ]
  },
  {
   "cell_type": "code",
   "execution_count": 4,
   "metadata": {},
   "outputs": [],
   "source": [
    "initialization_failure_case = [total_runs[j_] for j_, j in enumerate(finished_initialization) if not j]\n",
    "DDF_product_failure_case = [total_runs[j_] for j_, j in enumerate(finished_DDF_product) if not j]\n",
    "revenue_failure_case = [total_runs[j_] for j_, j in enumerate(finished_revenue) if not j]\n",
    "DDF_reflux_failure_case = [total_runs[j_] for j_, j in enumerate(finished_DDF_reflux) if not j]\n",
    "profit_3_failure_case = [total_runs[j_] for j_, j in enumerate(finished_profit_3) if not j]\n",
    "profit_3_1_failure_case = [total_runs[j_] for j_, j in enumerate(finished_profit_3_1) if not j]\n",
    "profit_3_2_failure_case = [total_runs[j_] for j_, j in enumerate(finished_profit_3_2) if not j]"
   ]
  },
  {
   "cell_type": "code",
   "execution_count": null,
   "metadata": {},
   "outputs": [],
   "source": [
    "reactive_stages = random_states[1].temperature_flag.keys()"
   ]
  },
  {
   "cell_type": "code",
   "execution_count": null,
   "metadata": {},
   "outputs": [],
   "source": [
    "def divide_data(x):\n",
    "    x = np.array(x)\n",
    "    return x, x[finished_initialization], x[finished_optimization_any]"
   ]
  },
  {
   "cell_type": "markdown",
   "metadata": {},
   "source": [
    "## Total number of attempts"
   ]
  },
  {
   "cell_type": "code",
   "execution_count": 5,
   "metadata": {},
   "outputs": [
    {
     "data": {
      "text/plain": [
       "995"
      ]
     },
     "execution_count": 5,
     "metadata": {},
     "output_type": "execute_result"
    }
   ],
   "source": [
    "len(total_runs)"
   ]
  },
  {
   "cell_type": "markdown",
   "metadata": {},
   "source": [
    "## Successfully initialized"
   ]
  },
  {
   "cell_type": "code",
   "execution_count": 6,
   "metadata": {},
   "outputs": [
    {
     "data": {
      "text/plain": [
       "(899, 0.9035175879396985)"
      ]
     },
     "execution_count": 6,
     "metadata": {},
     "output_type": "execute_result"
    }
   ],
   "source": [
    "sum(finished_initialization), sum(finished_initialization) / len(total_runs)"
   ]
  },
  {
   "cell_type": "markdown",
   "metadata": {},
   "source": [
    "## Successfully adopted product DDF formulation"
   ]
  },
  {
   "cell_type": "code",
   "execution_count": 7,
   "metadata": {},
   "outputs": [
    {
     "data": {
      "text/plain": [
       "(880, 0.978865406006674)"
      ]
     },
     "execution_count": 7,
     "metadata": {},
     "output_type": "execute_result"
    }
   ],
   "source": [
    "sum(finished_DDF_product), sum(finished_DDF_product) / sum(finished_initialization)"
   ]
  },
  {
   "cell_type": "markdown",
   "metadata": {},
   "source": [
    "## Successfully reached revenue optimum solution"
   ]
  },
  {
   "cell_type": "code",
   "execution_count": 8,
   "metadata": {},
   "outputs": [
    {
     "data": {
      "text/plain": [
       "(564, 0.6409090909090909)"
      ]
     },
     "execution_count": 8,
     "metadata": {},
     "output_type": "execute_result"
    }
   ],
   "source": [
    "sum(finished_revenue), sum(finished_revenue) / sum(finished_DDF_product)"
   ]
  },
  {
   "cell_type": "markdown",
   "metadata": {},
   "source": [
    "## Successfully adopted reflux DDF formulation"
   ]
  },
  {
   "cell_type": "code",
   "execution_count": 9,
   "metadata": {},
   "outputs": [
    {
     "data": {
      "text/plain": [
       "(564, 1.0)"
      ]
     },
     "execution_count": 9,
     "metadata": {},
     "output_type": "execute_result"
    }
   ],
   "source": [
    "sum(finished_DDF_reflux), sum(finished_DDF_reflux) / sum(finished_revenue)"
   ]
  },
  {
   "cell_type": "markdown",
   "metadata": {},
   "source": [
    "## Successfully reached profit optimum solution"
   ]
  },
  {
   "cell_type": "code",
   "execution_count": 10,
   "metadata": {},
   "outputs": [
    {
     "data": {
      "text/plain": [
       "(562, 0.9964539007092199)"
      ]
     },
     "execution_count": 10,
     "metadata": {},
     "output_type": "execute_result"
    }
   ],
   "source": [
    "sum(finished_profit_3), sum(finished_profit_3) / sum(finished_DDF_reflux)"
   ]
  },
  {
   "cell_type": "markdown",
   "metadata": {},
   "source": [
    "### Increasing tray cost weight"
   ]
  },
  {
   "cell_type": "code",
   "execution_count": 11,
   "metadata": {
    "scrolled": true
   },
   "outputs": [
    {
     "data": {
      "text/plain": [
       "(550, 0.975177304964539)"
      ]
     },
     "execution_count": 11,
     "metadata": {},
     "output_type": "execute_result"
    }
   ],
   "source": [
    "sum(finished_profit_3_1), sum(finished_profit_3_1) / sum(finished_DDF_reflux)"
   ]
  },
  {
   "cell_type": "markdown",
   "metadata": {},
   "source": [
    "### Increasing feed cost weight"
   ]
  },
  {
   "cell_type": "code",
   "execution_count": 12,
   "metadata": {},
   "outputs": [
    {
     "data": {
      "text/plain": [
       "(552, 0.9787234042553191)"
      ]
     },
     "execution_count": 12,
     "metadata": {},
     "output_type": "execute_result"
    }
   ],
   "source": [
    "sum(finished_profit_3_2), sum(finished_profit_3_2) / sum(finished_DDF_reflux)"
   ]
  },
  {
   "cell_type": "markdown",
   "metadata": {},
   "source": [
    "# Different starting points doesn't seem to drastically affect success rate"
   ]
  },
  {
   "cell_type": "code",
   "execution_count": null,
   "metadata": {},
   "outputs": [],
   "source": [
    "reflux_ratio_all = np.array([random_states[i].rr_ratio for i in random_states if i in total_runs])\n",
    "intermediate_location_all = np.array([sorted(random_states[i].side_draw_flag.keys())[0] for i in random_states if i in total_runs])\n",
    "intermediate_draw_all = np.array([list(random_states[i].side_draw_flag.values())[0] for i in random_states if i in total_runs])\n",
    "gasoline_location_all = np.array([sorted(random_states[i].side_draw_flag.keys())[1] for i in random_states if i in total_runs])\n",
    "gasoline_draw_all = np.array([list(random_states[i].side_draw_flag.values())[1] for i in random_states if i in total_runs])\n",
    "diesel_location_all = np.array([sorted(random_states[i].side_draw_flag.keys())[2] for i in random_states if i in total_runs])\n",
    "diesel_draw_all = np.array([list(random_states[i].side_draw_flag.values())[2] for i in random_states if i in total_runs])\n",
    "\n",
    "fig, axs = plt.subplots(7,1,figsize=(16,14))\n",
    "\n",
    "tmp_dic = {0:(reflux_ratio_all,'Reflux',(0.05,0.15),10),\n",
    "          1:(intermediate_location_all,'Heavy naphtha Tray',(2,4),3),\n",
    "          2:(intermediate_draw_all,'Heavy naphtha Draw',(0.01,0.04),10),\n",
    "          3:(gasoline_location_all,'Gasoline Tray',(5,9),5),\n",
    "          4:(gasoline_draw_all,'Gasoline Draw',(0.05,0.35),10),\n",
    "          5:(diesel_location_all,'Diesel Tray',(11,18),8),\n",
    "          6:(diesel_draw_all,'Diesel Draw',(0.15,0.55),10)}\n",
    "\n",
    "for j in range(7):\n",
    "    y, bins, patches = axs[j].hist((divide_data(tmp_dic[j][0])),bins=tmp_dic[j][3],histtype='bar',range=tmp_dic[j][2],alpha=0.7)\n",
    "    ymax = max(y[0])\n",
    "    axs[j].set_ylim(bottom=0,top=2*ymax)\n",
    "\n",
    "    bincenters = 0.5*(bins[1:]+bins[:-1])\n",
    "    ratio_init = [float('nan') if j==0 or i==0 else i/j for i,j in zip(y[1],y[0])]\n",
    "    ratio_opt = [float('nan') if j==0 or i==0 else i/j for i,j in zip(y[2],y[1])]\n",
    "\n",
    "    ax_ = plt.twinx(axs[j])\n",
    "    ax_.plot(bincenters,ratio_init,'C1:o',markeredgecolor='w',markersize=12,markeredgewidth = 1)\n",
    "    ax_.plot(bincenters,ratio_opt,'C2:o',markeredgecolor='w',markersize=12,markeredgewidth = 1)\n",
    "    ax_.set_ylim(0,1.2)\n",
    "\n",
    "    # ax.grid()\n",
    "    axs[j].set_title(tmp_dic[j][1])\n",
    "\n",
    "fig.legend(['Set-Point','Initialization','Optimized'])\n",
    "plt.tight_layout()\n",
    "plt.show()\n",
    "plt.close()"
   ]
  },
  {
   "cell_type": "code",
   "execution_count": null,
   "metadata": {},
   "outputs": [],
   "source": [
    "temperature_all = {j:np.array([random_states[i].temperature_flag[j] for i in random_states if i in total_runs])\\\n",
    "                   for j in reactive_stages}\n",
    "\n",
    "fig, axs = plt.subplots(len(reactive_stages),2,figsize=(16,14))\n",
    "\n",
    "for j_, j in enumerate(reactive_stages):\n",
    "    y, bins, patches = axs[j_][0].hist(divide_data(temperature_all[j]),bins=10,histtype='bar',range=(220,280),alpha=0.7)\n",
    "    ymax = max(y[0])\n",
    "    # ax.set_ylim(bottom=0,top=2*ymax)\n",
    "\n",
    "    bincenters = 0.5*(bins[1:]+bins[:-1])\n",
    "    ratio_init = [float('nan') if j==0 or i==0 else i/j for i,j in zip(y[1],y[0])]\n",
    "    ratio_opt = [float('nan') if j==0 or i==0 else i/j for i,j in zip(y[2],y[1])]\n",
    "\n",
    "    axs[j_][1].plot(bincenters,ratio_init,'C1:o',markeredgecolor='w',markersize=12,markeredgewidth = 1)\n",
    "    axs[j_][1].plot(bincenters,ratio_opt,'C2:o',markeredgecolor='w',markersize=12,markeredgewidth = 1)\n",
    "    axs[j_][1].set_ylim(0,1.2)\n",
    "    axs[j_][1].set_xlim(220,280)\n",
    "\n",
    "axs[0][0].set_title('Temperature')\n",
    "axs[0][0].legend(['Set-Point','Initialization','Optimization'])\n",
    "\n",
    "plt.tight_layout()\n",
    "plt.show()\n",
    "plt.close()"
   ]
  },
  {
   "cell_type": "markdown",
   "metadata": {},
   "source": [
    "# Strong 1-sided start seems to increase success rate"
   ]
  },
  {
   "cell_type": "code",
   "execution_count": null,
   "metadata": {
    "scrolled": false
   },
   "outputs": [],
   "source": [
    "catalyst_all = {j:np.array([random_states[i].catalyst_flag[j] for i in random_states if i in total_runs])\\\n",
    "                   for j in reactive_stages}\n",
    "\n",
    "fig, axs = plt.subplots(len(reactive_stages),2,figsize=(16,14))\n",
    "\n",
    "for j_, j in enumerate(reactive_stages):\n",
    "    y, bins, patches = axs[j_][0].hist(divide_data(catalyst_all[j]),bins=10,histtype='bar',range=(0,7000),alpha=0.7)\n",
    "    ymax = max(y[0])\n",
    "    # ax.set_ylim(bottom=0,top=2*ymax)\n",
    "\n",
    "    bincenters = 0.5*(bins[1:]+bins[:-1])\n",
    "    ratio_init = [float('nan') if j==0 or i==0 else i/j for i,j in zip(y[1],y[0])]\n",
    "    ratio_opt = [float('nan') if j==0 or i==0 else i/j for i,j in zip(y[2],y[1])]\n",
    "\n",
    "    axs[j_][1].plot(bincenters,ratio_init,'C1:o',markeredgecolor='w',markersize=12,markeredgewidth = 1)\n",
    "    axs[j_][1].plot(bincenters,ratio_opt,'C2:o',markeredgecolor='w',markersize=12,markeredgewidth = 1)\n",
    "    axs[j_][1].set_ylim(0,1.2)\n",
    "    axs[j_][1].set_xlim(0,7000)\n",
    "\n",
    "axs[0][0].set_title('catalyst')\n",
    "axs[0][0].legend(['Set-Point','Initialization','Optimization'])\n",
    "\n",
    "plt.tight_layout()\n",
    "plt.show()\n",
    "plt.close()"
   ]
  },
  {
   "cell_type": "code",
   "execution_count": null,
   "metadata": {},
   "outputs": [],
   "source": [
    "feed_all = {j:np.array([random_states[i].feed_flag[j] for i in random_states if i in total_runs])\\\n",
    "                   for j in reactive_stages}\n",
    "\n",
    "fig, axs = plt.subplots(len(reactive_stages),2,figsize=(16,14))\n",
    "\n",
    "for j_, j in enumerate(reactive_stages):\n",
    "    y, bins, patches = axs[j_][0].hist(divide_data(feed_all[j]),bins=10,histtype='bar',range=(0,3),alpha=0.7)\n",
    "    ymax = max(y[0])\n",
    "    # ax.set_ylim(bottom=0,top=2*ymax)\n",
    "\n",
    "    bincenters = 0.5*(bins[1:]+bins[:-1])\n",
    "    ratio_init = [float('nan') if j==0 or i==0 else i/j for i,j in zip(y[1],y[0])]\n",
    "    ratio_opt = [float('nan') if j==0 or i==0 else i/j for i,j in zip(y[2],y[1])]\n",
    "\n",
    "    axs[j_][1].plot(bincenters,ratio_init,'C1:o',markeredgecolor='w',markersize=12,markeredgewidth = 1)\n",
    "    axs[j_][1].plot(bincenters,ratio_opt,'C2:o',markeredgecolor='w',markersize=12,markeredgewidth = 1)\n",
    "    axs[j_][1].set_ylim(0,1.2)\n",
    "    axs[j_][1].set_xlim(0,3)\n",
    "\n",
    "axs[0][0].set_title('feed')\n",
    "axs[0][0].legend(['Set-Point','Initialization','Optimization'])\n",
    "\n",
    "plt.tight_layout()\n",
    "plt.show()\n",
    "plt.close()"
   ]
  },
  {
   "cell_type": "markdown",
   "metadata": {},
   "source": [
    "# Reduce dimension for visulization using PCA, uniform distribution, expect to yield little capture"
   ]
  },
  {
   "cell_type": "code",
   "execution_count": null,
   "metadata": {},
   "outputs": [],
   "source": [
    "x_data = np.stack((\n",
    "    reflux_ratio_all,\n",
    "    intermediate_location_all,\n",
    "    intermediate_draw_all,\n",
    "    gasoline_location_all,\n",
    "    gasoline_draw_all,\n",
    "    diesel_location_all,\n",
    "    diesel_draw_all,\n",
    "    *[temperature_all[j] for j in temperature_all],\n",
    "    *[catalyst_all[j] for j in temperature_all],\n",
    "    *[feed_all[j] for j in temperature_all]\n",
    "),axis=1)"
   ]
  },
  {
   "cell_type": "markdown",
   "metadata": {},
   "source": [
    "## 46 features"
   ]
  },
  {
   "cell_type": "code",
   "execution_count": null,
   "metadata": {},
   "outputs": [],
   "source": [
    "x_data.shape"
   ]
  },
  {
   "cell_type": "code",
   "execution_count": null,
   "metadata": {},
   "outputs": [],
   "source": [
    "center_scaled = StandardScaler().fit_transform(x_data)\n",
    "pca = PCA(n_components=10)\n",
    "scores = pca.fit_transform(center_scaled)"
   ]
  },
  {
   "cell_type": "markdown",
   "metadata": {},
   "source": [
    "### Eigenvalues"
   ]
  },
  {
   "cell_type": "code",
   "execution_count": null,
   "metadata": {},
   "outputs": [],
   "source": [
    "pca.explained_variance_"
   ]
  },
  {
   "cell_type": "markdown",
   "metadata": {},
   "source": [
    "### Captured Covariance"
   ]
  },
  {
   "cell_type": "code",
   "execution_count": null,
   "metadata": {
    "scrolled": true
   },
   "outputs": [],
   "source": [
    "pca.explained_variance_ratio_"
   ]
  },
  {
   "cell_type": "markdown",
   "metadata": {},
   "source": [
    "### Loadings - PC1 - Mostly independent, except temperature, which have same signs, meaning one temperature increases, the other ones increases, this response is modelled by sorting temperature from low to high"
   ]
  },
  {
   "cell_type": "code",
   "execution_count": null,
   "metadata": {
    "scrolled": false
   },
   "outputs": [],
   "source": [
    "fig, axs = plt.subplots(figsize=(16,9))\n",
    "x_loc = np.arange(1,len(pca.components_[0])+1)\n",
    "grouping = {'Reflux':slice(0,1),'Product':slice(1,7),'Temperature':slice(7,20),\\\n",
    "            'Catalyst':slice(20,33),'Feed':slice(33,None)}\n",
    "\n",
    "for key in grouping:\n",
    "    axs.bar(x_loc[grouping[key]],pca.components_[0][grouping[key]])\n",
    "axs.set_xticks([1,4.5,14,27,40])\n",
    "axs.set_xticklabels(list(grouping.keys()))\n",
    "\n",
    "axs.set_xlabel('Variable')\n",
    "axs.set_ylabel('Loading')\n",
    "plt.show()\n",
    "plt.close()"
   ]
  },
  {
   "cell_type": "markdown",
   "metadata": {},
   "source": [
    "### Scores - Success rate is not biased towards certain combination, uniform distributed set of initialized solutions for optimization multi-start"
   ]
  },
  {
   "cell_type": "code",
   "execution_count": null,
   "metadata": {},
   "outputs": [],
   "source": [
    "fig, axs = plt.subplots(figsize=(16,9))\n",
    "\n",
    "targets = ['Random Start', 'Initialization Complete', 'Optimized Any', 'Optimized All']\n",
    "colors = ['C1', 'C2', 'C3','C4']\n",
    "masks = {'Random Start':True,\\\n",
    "         'Initialization Complete':finished_initialization,\\\n",
    "         'Optimized Any':finished_optimization_any,\\\n",
    "         'Optimized All':finished_optimization_all}\n",
    "\n",
    "for target, color in zip(targets,colors):\n",
    "    mask = masks[target]\n",
    "    axs.scatter(scores[:,0][mask],scores[:,1][mask],color=color,label=target)\n",
    "\n",
    "axs.legend()\n",
    "axs.set_xlabel('Principal Component 1')\n",
    "axs.set_ylabel('Principal Component 2')\n",
    "\n",
    "plt.show()\n",
    "plt.close()"
   ]
  },
  {
   "cell_type": "markdown",
   "metadata": {},
   "source": [
    "# Second, let's take a look at cause of failure and performance"
   ]
  },
  {
   "cell_type": "code",
   "execution_count": null,
   "metadata": {},
   "outputs": [],
   "source": [
    "# initialization_failure_case\n",
    "# DDF_product_failure_case\n",
    "# revenue_failure_case\n",
    "# DDF_reflux_failure_case\n",
    "# profit_3_failure_case\n",
    "# profit_3_1_failure_case\n",
    "# profit_3_1_failure_case"
   ]
  },
  {
   "cell_type": "code",
   "execution_count": 13,
   "metadata": {},
   "outputs": [],
   "source": [
    "failure_cause_list = []\n",
    "\n",
    "for j in DDF_product_failure_case:\n",
    "    file_name = 'mul_onestep_Preset_Case_{}_pf.dat'.format(j)\n",
    "    with open('./log/text/'+file_name) as f:\n",
    "        log_content = f.readlines()\n",
    "        for line in reversed(log_content):\n",
    "            if line.startswith('>') or 'Working on' in line:\n",
    "                break_cause = line.replace('> ','')\n",
    "                failure_cause_list.append(break_cause)\n",
    "                break\n",
    "\n",
    "# print(len(failure_cause_list))"
   ]
  },
  {
   "cell_type": "markdown",
   "metadata": {},
   "source": [
    "### Combine failure causes"
   ]
  },
  {
   "cell_type": "code",
   "execution_count": 14,
   "metadata": {},
   "outputs": [],
   "source": [
    "failure_short = []\n",
    "for line in failure_cause_list:\n",
    "    \n",
    "    if 'temperature' in line:\n",
    "        start = 'Working on adjusting '\n",
    "        end = 'temperature'\n",
    "        failure_short.append(line[line.find(start) + len(start) : line.rfind(end)] + 'Temp')\n",
    "    \n",
    "    elif 'changing Q' in line:\n",
    "        start = 'Working on '\n",
    "        end = ','\n",
    "        failure_short.append(line[line.find(start) + len(start) : line.rfind(end)] + ' duty')\n",
    "    \n",
    "    elif 'catalyst and feed' in line:\n",
    "        start = 'alpha = '\n",
    "        end = ':'\n",
    "        failure_short.append('alpha: ' + line[line.find(start) + len(start) : line.rfind(end)] + ' feed/catalyst')\n",
    "    \n",
    "    elif 'Reflux' in line:\n",
    "        start = 'PR ratio = '\n",
    "        end = '\\n'\n",
    "        failure_short.append('PR-ratio: '+ line[line.find(start) + len(start) : line.rfind(end)] + ' reflux')\n",
    "    \n",
    "    elif 'Connect' in line:\n",
    "        failure_short.append('stages 20 connect')\n",
    "        \n",
    "    elif 'DDF' in line:\n",
    "        failure_short.append('add 3 DDF')\n",
    "    \n",
    "    else:\n",
    "        failure_short.append(line.replace('\\n',''))"
   ]
  },
  {
   "cell_type": "code",
   "execution_count": 15,
   "metadata": {},
   "outputs": [],
   "source": [
    "failure_counts = Counter(failure_short)\n",
    "failure_counts = sorted(dict(failure_counts).items(),key=lambda x: (x[0].split(' ')[-1],float(x[0].split(' ')[1])),reverse=False)\n",
    "       \n",
    "failure_dic = {}\n",
    "for key, group in it.groupby(failure_counts,lambda pair: pair[0].split()[-1]):\n",
    "    failure_dic[key] = list(group)"
   ]
  },
  {
   "cell_type": "code",
   "execution_count": null,
   "metadata": {
    "scrolled": true
   },
   "outputs": [],
   "source": [
    "# failure_counts"
   ]
  },
  {
   "cell_type": "code",
   "execution_count": 16,
   "metadata": {},
   "outputs": [
    {
     "data": {
      "text/plain": [
       "{'DDF': [('add 3 DDF', 19)],\n",
       " 'Temp': [('stage 9 Temp', 1),\n",
       "  ('stage 11 Temp', 1),\n",
       "  ('stage 14 Temp', 1),\n",
       "  ('stage 15 Temp', 1),\n",
       "  ('stage 17 Temp', 1),\n",
       "  ('stage 18 Temp', 1),\n",
       "  ('stage 20 Temp', 1)],\n",
       " 'connect': [('stages 20 connect', 1)],\n",
       " 'duty': [('stage 1 duty', 5),\n",
       "  ('stage 2 duty', 3),\n",
       "  ('stage 4 duty', 10),\n",
       "  ('stage 5 duty', 5),\n",
       "  ('stage 6 duty', 2),\n",
       "  ('stage 7 duty', 7)],\n",
       " 'feed/catalyst': [('alpha: 0.64 feed/catalyst', 1),\n",
       "  ('alpha: 0.76 feed/catalyst', 2),\n",
       "  ('alpha: 0.84 feed/catalyst', 7),\n",
       "  ('alpha: 0.88 feed/catalyst', 4),\n",
       "  ('alpha: 0.92 feed/catalyst', 13),\n",
       "  ('alpha: 0.96 feed/catalyst', 14),\n",
       "  ('alpha: 1.00 feed/catalyst', 14)],\n",
       " 'reflux': [('PR-ratio: 0.14 reflux', 1)]}"
      ]
     },
     "execution_count": 16,
     "metadata": {},
     "output_type": "execute_result"
    }
   ],
   "source": [
    "failure_dic"
   ]
  },
  {
   "cell_type": "code",
   "execution_count": 17,
   "metadata": {},
   "outputs": [
    {
     "data": {
      "text/plain": [
       "115"
      ]
     },
     "execution_count": 17,
     "metadata": {},
     "output_type": "execute_result"
    }
   ],
   "source": [
    "sum(i[1] for i in failure_counts)"
   ]
  },
  {
   "cell_type": "markdown",
   "metadata": {},
   "source": [
    "## Initialization failures seem to happen near the bottom stage, largely independent of design specifications, definitely could be further improved"
   ]
  },
  {
   "cell_type": "code",
   "execution_count": 18,
   "metadata": {},
   "outputs": [
    {
     "data": {
      "image/png": "[encoded data removed]",
      "text/plain": [
       "<Figure size 1152x648 with 1 Axes>"
      ]
     },
     "metadata": {},
     "output_type": "display_data"
    }
   ],
   "source": [
    "fig, axs = plt.subplots(figsize=(16,9))\n",
    "loc = 0\n",
    "names = []\n",
    "for key in failure_dic.keys():\n",
    "    frequencies = [j for i,j in failure_dic[key]]\n",
    "    names += [i[:i.rfind(' ')] for i,j in failure_dic[key]]\n",
    "\n",
    "    x_coordinates = np.arange(loc,len(failure_dic[key])+loc)\n",
    "    axs.bar(x_coordinates, frequencies, align='center',label = key)\n",
    "    loc += len(failure_dic[key])\n",
    "\n",
    "axs.set_xticks(np.arange(loc))\n",
    "axs.set_xticklabels(names,rotation=45,ha='right')\n",
    "\n",
    "axs.set_ylabel('Occurrences')\n",
    "axs.legend()\n",
    "axs.set_title('Causes of Failure')\n",
    "plt.show()"
   ]
  },
  {
   "cell_type": "markdown",
   "metadata": {},
   "source": [
    "## Optimization Failure"
   ]
  },
  {
   "cell_type": "code",
   "execution_count": 19,
   "metadata": {},
   "outputs": [],
   "source": [
    "revenue_fail_list = []\n",
    "profit_3_fail_list = []\n",
    "profit_3_1_fail_list = []\n",
    "profit_3_2_fail_list = []\n",
    "\n",
    "for j in [j for j in revenue_failure_case if j not in DDF_product_failure_case]:\n",
    "    file_name = 'mul_onestep_Preset_Case_{}_pf.dat'.format(j)\n",
    "    with open('./log/text/'+file_name) as f:\n",
    "        log_content = f.readlines()\n",
    "\n",
    "        for line in reversed(log_content):\n",
    "            if line.startswith('EXIT:'):\n",
    "                if 'Optimal Solution Found' in line:\n",
    "                    revenue_fail_list.append('Restoration Failed')\n",
    "                else:\n",
    "                    revenue_fail_list.append(line.replace('EXIT: ','').replace('\\n',''))\n",
    "                break\n",
    "\n",
    "\n",
    "for j in [j for j in profit_3_failure_case if j not in DDF_reflux_failure_case]:\n",
    "    file_name = 'mul_onestep_Preset_Case_{}_pf.dat'.format(j)\n",
    "    with open('./log/text/'+file_name) as f:\n",
    "        log_content = f.readlines()\n",
    "\n",
    "        for line in reversed(log_content):\n",
    "            if line.startswith('EXIT:'):\n",
    "                if 'Optimal Solution Found' in line:\n",
    "                    profit_3_fail_list.append('Restoration Failed')\n",
    "                else:\n",
    "                    profit_3_fail_list.append(line.replace('EXIT: ','').replace('\\n',''))\n",
    "                break\n",
    "\n",
    "        \n",
    "for j in [j for j in profit_3_1_failure_case if j not in DDF_reflux_failure_case]:\n",
    "    file_name = 'mul_onestep_Preset_Case_{}_pf.dat'.format(j)\n",
    "    with open('./log/text/'+file_name) as f:\n",
    "        log_content = f.readlines()\n",
    "\n",
    "        for line in reversed(log_content):\n",
    "            if line.startswith('EXIT:'):\n",
    "                if 'Optimal Solution Found' in line:\n",
    "                    profit_3_1_fail_list.append('Restoration Failed')\n",
    "                else:\n",
    "                    profit_3_1_fail_list.append(line.replace('EXIT: ','').replace('\\n',''))\n",
    "                break\n",
    "\n",
    "\n",
    "for j in [j for j in profit_3_2_failure_case if j not in DDF_reflux_failure_case]:\n",
    "    file_name = 'mul_onestep_Preset_Case_{}_pf.dat'.format(j)\n",
    "    with open('./log/text/'+file_name) as f:\n",
    "        log_content = f.readlines()\n",
    "\n",
    "        for line in reversed(log_content):\n",
    "            if line.startswith('EXIT:'):\n",
    "                if 'Optimal Solution Found' in line:\n",
    "                    profit_3_2_fail_list.append('Restoration Failed')\n",
    "                else:\n",
    "                    profit_3_2_fail_list.append(line.replace('EXIT: ','').replace('\\n',''))\n",
    "                break"
   ]
  },
  {
   "cell_type": "code",
   "execution_count": 20,
   "metadata": {
    "scrolled": true
   },
   "outputs": [
    {
     "data": {
      "text/plain": [
       "(Counter({'Maximum Number of Iterations Exceeded.': 304,\n",
       "          'Restoration Failed': 11,\n",
       "          'Converged to a point of local infeasibility. Problem may be infeasible.': 1}),\n",
       " Counter({'Restoration Failed': 2}),\n",
       " Counter({'Restoration Failed': 14}),\n",
       " Counter({'Restoration Failed': 1,\n",
       "          'Maximum Number of Iterations Exceeded.': 11}))"
      ]
     },
     "execution_count": 20,
     "metadata": {},
     "output_type": "execute_result"
    }
   ],
   "source": [
    "Counter(revenue_fail_list), Counter(profit_3_fail_list), Counter(profit_3_1_fail_list), Counter(profit_3_2_fail_list) "
   ]
  },
  {
   "cell_type": "markdown",
   "metadata": {},
   "source": [
    "# Lastly, optimization results"
   ]
  },
  {
   "cell_type": "code",
   "execution_count": 21,
   "metadata": {},
   "outputs": [],
   "source": [
    "revenue_obj_list = []\n",
    "revenue_case_list = []\n",
    "revenue_opt_results = []\n",
    "revenue_opt_origin_results = []\n",
    "\n",
    "for j_,j in enumerate(total_runs):\n",
    "    if finished_revenue[j_]:\n",
    "        file_name = 'mul_onestep_Preset_Case_{}_pf.dat'.format(j)\n",
    "        case = j\n",
    "        with open('./log/text/'+file_name) as f:\n",
    "            log_content = f.readlines()\n",
    "            \n",
    "            for j, line in enumerate(reversed(log_content)):\n",
    "                # get the right position, i know it is bad coding, but dont want make too much changes to the old code\n",
    "                if '> One-step Optimization - Revenue' in line:\n",
    "                    starter_position = j - 50            \n",
    "            \n",
    "            \n",
    "            for j, line in enumerate(reversed(log_content)):\n",
    "\n",
    "                if j <= starter_position:\n",
    "                    continue\n",
    "                \n",
    "                if line.startswith('obj'):\n",
    "                    start = 'obj '\n",
    "                    end = '\\n'\n",
    "                    string = line[line.find(start)+len(start):line.rfind(end)]\n",
    "                    string = string.strip()\n",
    "                    revenue_obj_list.append(float(string))\n",
    "                    revenue_case_list.append(case)\n",
    "                    break\n",
    "#             revenue_opt_results.append(log_content[-j-30:-j-29]+log_content[-j-20:-j-7]+log_content[-j-1:-j+1])\n",
    "#             revenue_opt_origin_results.append(log_content[-j-80:-j-79]+log_content[-j-70:-j-57]+log_content[-j-51:-j-49])\n",
    "            \n",
    "# revenue_opt_results = [[data.split() for data in case] for case in revenue_opt_results]\n",
    "# revenue_opt_origin_results = [[data.split() for data in case] for case in revenue_opt_origin_results]"
   ]
  },
  {
   "cell_type": "code",
   "execution_count": 22,
   "metadata": {},
   "outputs": [],
   "source": [
    "profit_3_obj_list = []\n",
    "profit_3_case_list = []\n",
    "profit_3_opt_results = []\n",
    "profit_3_opt_origin_results = []\n",
    "\n",
    "for j_,j in enumerate(total_runs):\n",
    "    if finished_profit_3[j_]:\n",
    "        file_name = 'mul_onestep_Preset_Case_{}_pf.dat'.format(j)\n",
    "        case = j\n",
    "        with open('./log/text/'+file_name) as f:\n",
    "            log_content = f.readlines()\n",
    "            \n",
    "            for j, line in enumerate(reversed(log_content)):\n",
    "                # get the right position, i know it is bad coding, but dont want make too much changes to the old code\n",
    "                if '> One-step Optimization - Profit 3' in line:\n",
    "                    starter_position = j - 50            \n",
    "            \n",
    "            \n",
    "            for j, line in enumerate(reversed(log_content)):\n",
    "\n",
    "                if j <= starter_position:\n",
    "                    continue\n",
    "                \n",
    "                if line.startswith('obj'):\n",
    "                    start = 'obj '\n",
    "                    end = '\\n'\n",
    "                    string = line[line.find(start)+len(start):line.rfind(end)]\n",
    "                    string = string.strip()\n",
    "                    profit_3_obj_list.append(float(string))\n",
    "                    profit_3_case_list.append(case)\n",
    "                    break\n",
    "#             profit_3_opt_results.append(log_content[-j-30:-j-29]+log_content[-j-20:-j-7]+log_content[-j-1:-j+1])\n",
    "#             profit_3_opt_origin_results.append(log_content[-j-80:-j-79]+log_content[-j-70:-j-57]+log_content[-j-51:-j-49])\n",
    "            \n",
    "# profit_3_opt_results = [[data.split() for data in case] for case in profit_3_opt_results]\n",
    "# profit_3_opt_origin_results = [[data.split() for data in case] for case in profit_3_opt_origin_results]"
   ]
  },
  {
   "cell_type": "code",
   "execution_count": 23,
   "metadata": {},
   "outputs": [],
   "source": [
    "profit_3_1_obj_list = []\n",
    "profit_3_1_case_list = []\n",
    "profit_3_1_opt_results = []\n",
    "profit_3_1_opt_origin_results = []\n",
    "\n",
    "for j_,j in enumerate(total_runs):\n",
    "    if finished_profit_3_1[j_]:\n",
    "        file_name = 'mul_onestep_Preset_Case_{}_pf.dat'.format(j)\n",
    "        case = j\n",
    "        with open('./log/text/'+file_name) as f:\n",
    "            log_content = f.readlines()\n",
    "            \n",
    "            for j, line in enumerate(reversed(log_content)):\n",
    "                # get the right position, i know it is bad coding, but dont want make too much changes to the old code\n",
    "                if '> One-step Optimization - Profit 3-1' in line:\n",
    "                    starter_position = j - 50            \n",
    "            \n",
    "            \n",
    "            for j, line in enumerate(reversed(log_content)):\n",
    "\n",
    "                if j <= starter_position:\n",
    "                    continue\n",
    "                \n",
    "                if line.startswith('obj'):\n",
    "                    start = 'obj '\n",
    "                    end = '\\n'\n",
    "                    string = line[line.find(start)+len(start):line.rfind(end)]\n",
    "                    string = string.strip()\n",
    "                    profit_3_1_obj_list.append(float(string))\n",
    "                    profit_3_1_case_list.append(case)\n",
    "                    break\n",
    "#             profit_3_1_opt_results.append(log_content[-j-30:-j-29]+log_content[-j-20:-j-7]+log_content[-j-1:-j+1])\n",
    "#             profit_3_1_opt_origin_results.append(log_content[-j-80:-j-79]+log_content[-j-70:-j-57]+log_content[-j-51:-j-49])\n",
    "            \n",
    "# profit_3_1_opt_results = [[data.split() for data in case] for case in profit_3_1_opt_results]\n",
    "# profit_3_1_opt_origin_results = [[data.split() for data in case] for case in profit_3_1_opt_origin_results]"
   ]
  },
  {
   "cell_type": "code",
   "execution_count": 24,
   "metadata": {},
   "outputs": [],
   "source": [
    "profit_3_2_obj_list = []\n",
    "profit_3_2_case_list = []\n",
    "profit_3_2_opt_results = []\n",
    "profit_3_2_opt_origin_results = []\n",
    "\n",
    "for j_,j in enumerate(total_runs):\n",
    "    if finished_profit_3_2[j_]:\n",
    "        file_name = 'mul_onestep_Preset_Case_{}_pf.dat'.format(j)\n",
    "        case = j\n",
    "        with open('./log/text/'+file_name) as f:\n",
    "            log_content = f.readlines()\n",
    "            \n",
    "            for j, line in enumerate(reversed(log_content)):\n",
    "                # get the right position, i know it is bad coding, but dont want make too much changes to the old code\n",
    "                if '> One-step Optimization - Profit 3-2' in line:\n",
    "                    starter_position = j - 50            \n",
    "            \n",
    "            \n",
    "            for j, line in enumerate(reversed(log_content)):\n",
    "\n",
    "                if j <= starter_position:\n",
    "                    continue\n",
    "                \n",
    "                if line.startswith('obj'):\n",
    "                    start = 'obj '\n",
    "                    end = '\\n'\n",
    "                    string = line[line.find(start)+len(start):line.rfind(end)]\n",
    "                    string = string.strip()\n",
    "                    profit_3_2_obj_list.append(float(string))\n",
    "                    profit_3_2_case_list.append(case)\n",
    "                    break\n",
    "#             profit_3_2_opt_results.append(log_content[-j-30:-j-29]+log_content[-j-20:-j-7]+log_content[-j-1:-j+1])\n",
    "#             profit_3_2_opt_origin_results.append(log_content[-j-80:-j-79]+log_content[-j-70:-j-57]+log_content[-j-51:-j-49])\n",
    "            \n",
    "# profit_3_2_opt_results = [[data.split() for data in case] for case in profit_3_2_opt_results]\n",
    "# profit_3_2_opt_origin_results = [[data.split() for data in case] for case in profit_3_2_opt_origin_results]"
   ]
  },
  {
   "cell_type": "code",
   "execution_count": 25,
   "metadata": {
    "scrolled": true
   },
   "outputs": [
    {
     "data": {
      "text/plain": [
       "(63, 22.327634492598126)"
      ]
     },
     "execution_count": 25,
     "metadata": {},
     "output_type": "execute_result"
    }
   ],
   "source": [
    "revenue_case_list[np.argmax(revenue_obj_list)], max(revenue_obj_list)"
   ]
  },
  {
   "cell_type": "code",
   "execution_count": 26,
   "metadata": {},
   "outputs": [
    {
     "data": {
      "text/plain": [
       "(317, 2.1552582649614807)"
      ]
     },
     "execution_count": 26,
     "metadata": {},
     "output_type": "execute_result"
    }
   ],
   "source": [
    "profit_3_case_list[np.argmax(profit_3_obj_list)], max(profit_3_obj_list)"
   ]
  },
  {
   "cell_type": "code",
   "execution_count": 27,
   "metadata": {},
   "outputs": [
    {
     "data": {
      "text/plain": [
       "(447, 2.901206608896368)"
      ]
     },
     "execution_count": 27,
     "metadata": {},
     "output_type": "execute_result"
    }
   ],
   "source": [
    "profit_3_1_case_list[np.argmax(profit_3_1_obj_list)], max(profit_3_1_obj_list)"
   ]
  },
  {
   "cell_type": "code",
   "execution_count": 28,
   "metadata": {},
   "outputs": [
    {
     "data": {
      "text/plain": [
       "(414, 6.294277545925963)"
      ]
     },
     "execution_count": 28,
     "metadata": {},
     "output_type": "execute_result"
    }
   ],
   "source": [
    "profit_3_2_case_list[np.argmax(profit_3_2_obj_list)], max(profit_3_2_obj_list)"
   ]
  },
  {
   "cell_type": "code",
   "execution_count": 29,
   "metadata": {
    "scrolled": false
   },
   "outputs": [
    {
     "data": {
      "image/png": "[encoded data removed]",
      "text/plain": [
       "<Figure size 1152x648 with 1 Axes>"
      ]
     },
     "metadata": {},
     "output_type": "display_data"
    },
    {
     "data": {
      "image/png": "[encoded data removed]",
      "text/plain": [
       "<Figure size 1152x648 with 1 Axes>"
      ]
     },
     "metadata": {},
     "output_type": "display_data"
    },
    {
     "data": {
      "image/png": "[encoded data removed]",
      "text/plain": [
       "<Figure size 1152x648 with 1 Axes>"
      ]
     },
     "metadata": {},
     "output_type": "display_data"
    },
    {
     "data": {
      "image/png": "[encoded data removed]",
      "text/plain": [
       "<Figure size 1152x648 with 1 Axes>"
      ]
     },
     "metadata": {},
     "output_type": "display_data"
    }
   ],
   "source": [
    "fig, axs = plt.subplots(figsize=(16,9))\n",
    "y, bins, patches = axs.hist(revenue_obj_list,bins=50,histtype='bar',alpha=0.7)\n",
    "axs.set_title('Obj - revenue')\n",
    "\n",
    "fig, axs = plt.subplots(figsize=(16,9))\n",
    "y, bins, patches = axs.hist(profit_3_obj_list,bins=50,histtype='bar',alpha=0.7)\n",
    "axs.set_title('Obj - profit-3')\n",
    "\n",
    "fig, axs = plt.subplots(figsize=(16,9))\n",
    "y, bins, patches = axs.hist(profit_3_1_obj_list,bins=50,histtype='bar',alpha=0.7)\n",
    "axs.set_title('Obj - profit-3-1')\n",
    "\n",
    "fig, axs = plt.subplots(figsize=(16,9))\n",
    "y, bins, patches = axs.hist(profit_3_2_obj_list,bins=50,histtype='bar',alpha=0.7)\n",
    "axs.set_title('Obj - profit-3-2')\n",
    "\n",
    "plt.show()"
   ]
  },
  {
   "cell_type": "markdown",
   "metadata": {},
   "source": [
    "### Remove duplicates and sort"
   ]
  },
  {
   "cell_type": "code",
   "execution_count": null,
   "metadata": {},
   "outputs": [],
   "source": [
    "opt_results_matrix = np.stack((\n",
    "    [float(case[0][4])/float(case[0][5]) for case in opt_results],\n",
    "    [float(case[-3][-1]) for case in opt_results],\n",
    "    [float(case[-3][6]) for case in opt_results],\n",
    "    [float(case[-2][-1]) for case in opt_results],\n",
    "    [float(case[-2][6]) for case in opt_results],\n",
    "    [float(case[-1][-1]) for case in opt_results],\n",
    "    [float(case[-1][6]) for case in opt_results],\n",
    "    *np.array([[float(obv[1]) for obv in case[1:14]] for case in opt_results]).T,\n",
    "    *np.array([[float(obv[6]) for obv in case[1:14]] for case in opt_results]).T,\n",
    "    *np.array([[float(obv[5]) for obv in case[1:14]] for case in opt_results]).T\n",
    "),axis=1)"
   ]
  },
  {
   "cell_type": "code",
   "execution_count": null,
   "metadata": {},
   "outputs": [],
   "source": [
    "opt_origin_matrix = np.stack((\n",
    "    [float(case[0][4])/float(case[0][5]) for case in opt_origin_results],\n",
    "    [float(case[-3][-1]) for case in opt_origin_results],\n",
    "    [float(case[-3][6]) for case in opt_origin_results],\n",
    "    [float(case[-2][-1]) for case in opt_origin_results],\n",
    "    [float(case[-2][6]) for case in opt_origin_results],\n",
    "    [float(case[-1][-1]) for case in opt_origin_results],\n",
    "    [float(case[-1][6]) for case in opt_origin_results],\n",
    "    *np.array([[float(obv[1]) for obv in case[1:14]] for case in opt_origin_results]).T,\n",
    "    *np.array([[float(obv[6]) for obv in case[1:14]] for case in opt_origin_results]).T,\n",
    "    *np.array([[float(obv[5]) for obv in case[1:14]] for case in opt_origin_results]).T\n",
    "),axis=1)"
   ]
  },
  {
   "cell_type": "code",
   "execution_count": null,
   "metadata": {},
   "outputs": [],
   "source": [
    "opt_results_unique_unsorted, unique_index, unique_counts = np.unique(opt_results_matrix,axis=0,return_index=True,return_counts=True)"
   ]
  },
  {
   "cell_type": "code",
   "execution_count": null,
   "metadata": {},
   "outputs": [],
   "source": [
    "unique_global_index = [np.array(total_runs)[finished_gasoline][j] for j in unique_index]\n",
    "opt_results_unique = np.array(sorted(opt_results_unique_unsorted,key=lambda x: x[4]))"
   ]
  },
  {
   "cell_type": "code",
   "execution_count": null,
   "metadata": {
    "scrolled": false
   },
   "outputs": [],
   "source": [
    "pd.options.display.precision = 4\n",
    "pd.DataFrame(sorted([i for i in zip(opt_results_unique_unsorted[:,4],unique_counts,unique_global_index)],\\\n",
    "                    key=lambda x: x[0]),columns=['Objective Value','Occurances','Example Index'])"
   ]
  },
  {
   "cell_type": "markdown",
   "metadata": {},
   "source": [
    "### Raw Data"
   ]
  },
  {
   "cell_type": "code",
   "execution_count": null,
   "metadata": {},
   "outputs": [],
   "source": [
    "pd.options.display.expand_frame_repr = False\n",
    "pd.options.display.max_colwidth = 80000\n",
    "pd.options.display.max_columns = None\n",
    "pd.options.display.max_rows = 80000"
   ]
  },
  {
   "cell_type": "code",
   "execution_count": null,
   "metadata": {
    "scrolled": false
   },
   "outputs": [],
   "source": [
    "pd.options.display.precision = 0\n",
    "pd.DataFrame(opt_results_unique[:,7:20].T,index=['Tem{}'.format(j) for j in range(8,21)])"
   ]
  },
  {
   "cell_type": "code",
   "execution_count": null,
   "metadata": {
    "scrolled": false
   },
   "outputs": [],
   "source": [
    "pd.options.display.precision = 0\n",
    "pd.DataFrame(opt_results_unique[:,20:33].T,index=['Catalyst {}'.format(j) for j in range(8,21)])"
   ]
  },
  {
   "cell_type": "code",
   "execution_count": null,
   "metadata": {},
   "outputs": [],
   "source": [
    "pd.options.display.precision = 2\n",
    "pd.DataFrame(opt_results_unique[:,33:].T,index=['Feed {}'.format(j) for j in range(8,21)]).round(2)"
   ]
  },
  {
   "cell_type": "markdown",
   "metadata": {},
   "source": [
    "# Analysis"
   ]
  },
  {
   "cell_type": "code",
   "execution_count": null,
   "metadata": {},
   "outputs": [],
   "source": [
    "center_scaled = StandardScaler().fit_transform(opt_results_unique)\n",
    "pca = PCA(n_components=10)\n",
    "scores = pca.fit_transform(center_scaled)"
   ]
  },
  {
   "cell_type": "markdown",
   "metadata": {},
   "source": [
    "### Eigenvalues"
   ]
  },
  {
   "cell_type": "code",
   "execution_count": null,
   "metadata": {},
   "outputs": [],
   "source": [
    "pca.explained_variance_"
   ]
  },
  {
   "cell_type": "markdown",
   "metadata": {},
   "source": [
    "### Captured Covariance"
   ]
  },
  {
   "cell_type": "code",
   "execution_count": null,
   "metadata": {
    "scrolled": true
   },
   "outputs": [],
   "source": [
    "pca.explained_variance_ratio_"
   ]
  },
  {
   "cell_type": "code",
   "execution_count": null,
   "metadata": {},
   "outputs": [],
   "source": [
    "sum(pca.explained_variance_ratio_[:5])"
   ]
  },
  {
   "cell_type": "markdown",
   "metadata": {},
   "source": [
    "### A strong corrolation between PC1 and optimized objective value"
   ]
  },
  {
   "cell_type": "code",
   "execution_count": null,
   "metadata": {},
   "outputs": [],
   "source": [
    "fig, axs = plt.subplots(2,1,figsize=(16,9))\n",
    "\n",
    "'''\n",
    "Scores\n",
    "'''\n",
    "x_loc = np.arange(1,len(scores[:,0])+1)\n",
    "axs[0].bar(x_loc,scores[:,0],color = 'C1')\n",
    "\n",
    "axs_ = axs[0].twinx()\n",
    "axs_.plot(x_loc,opt_results_unique[:,4],'C2:o',markeredgecolor='w',markeredgewidth = 1,markersize=12)\n",
    "\n",
    "# axs[1].legend()\n",
    "axs[0].set_xlabel('Local Minimums')\n",
    "axs[0].set_ylabel('Score - PC1')\n",
    "axs_.set_ylabel('Gasoline Production')\n",
    "\n",
    "'''\n",
    "Loading\n",
    "'''\n",
    "x_loc = np.arange(1,len(pca.components_[0])+1)\n",
    "grouping = {'Reflux':slice(0,1),'Product':slice(1,7),'Temperature':slice(7,20),\\\n",
    "            'Catalyst':slice(20,33),'Feed':slice(33,None)}\n",
    "\n",
    "for key in grouping:\n",
    "    axs[1].bar(x_loc[grouping[key]],pca.components_[0][grouping[key]])\n",
    "axs[1].set_xticks([1,4.5,14,27,40])\n",
    "axs[1].set_xticklabels(list(grouping.keys()))\n",
    "\n",
    "axs[1].set_ylabel('Loading - PC1')\n",
    "\n",
    "plt.tight_layout()\n",
    "plt.show()\n",
    "plt.close()"
   ]
  },
  {
   "cell_type": "markdown",
   "metadata": {},
   "source": [
    "### Predictions using pre-optimization data"
   ]
  },
  {
   "cell_type": "code",
   "execution_count": null,
   "metadata": {},
   "outputs": [],
   "source": [
    "opt_origin_scaled = StandardScaler().fit_transform(opt_origin_matrix)"
   ]
  },
  {
   "cell_type": "code",
   "execution_count": null,
   "metadata": {
    "scrolled": true
   },
   "outputs": [],
   "source": [
    "predicted_scores = pca.transform(opt_origin_scaled)"
   ]
  },
  {
   "cell_type": "code",
   "execution_count": null,
   "metadata": {},
   "outputs": [],
   "source": [
    "fig, axs = plt.subplots(figsize=(16,9))\n",
    "\n",
    "targets = ['Bad','Middle','Good','Super']\n",
    "colors = ['C1', 'C2','C3','C4']\n",
    "masks = {'Bad':[[0,0.132],slice(0,10),80],\\\n",
    "         'Middle':[[0.1341,0.1395],slice(10,20),10],\\\n",
    "         'Good':[[0.1396,0.1408],slice(20,60),10],\\\n",
    "         'Super':[[0.1409,0.15],slice(60,87),80]}\n",
    "\n",
    "for target, color in zip(targets,colors):\n",
    "    mask = masks[target]\n",
    "    axs.scatter(scores[:,0][mask[1]],scores[:,1][mask[1]],color=color,label=target)\n",
    "    tmp = [j for j,run in enumerate(opt_results_matrix) if run[4] >= mask[0][0] and run[4] <= mask[0][1]]\n",
    "\n",
    "axs.legend()\n",
    "axs.set_xlabel('Principal Component 1')\n",
    "axs.set_ylabel('Principal Component 2')\n",
    "\n",
    "plt.show()\n",
    "plt.close()"
   ]
  },
  {
   "cell_type": "markdown",
   "metadata": {},
   "source": [
    "### Separating between \"Middle\" and \"Good\" will involve 3rd and 4th component"
   ]
  },
  {
   "cell_type": "code",
   "execution_count": null,
   "metadata": {
    "scrolled": false
   },
   "outputs": [],
   "source": [
    "fig, axs = plt.subplots(figsize=(16,9))\n",
    "\n",
    "targets = ['Middle','Good']\n",
    "colors = ['C2','C3']\n",
    "masks = {'Middle':[[0.1341,0.1395],slice(20,60),20],\\\n",
    "         'Good':[[0.1396,0.1408],slice(60,87),20]}\n",
    "\n",
    "for target, color in zip(targets,colors):\n",
    "    mask = masks[target]\n",
    "    axs.scatter(scores[:,2][mask[1]],scores[:,3][mask[1]],color=color,label=target)\n",
    "    tmp = [j for j,run in enumerate(opt_results_matrix) if run[4] >= mask[0][0] and run[4] <= mask[0][1]]\n",
    "\n",
    "axs.legend()\n",
    "axs.set_xlabel('Principal Component 3')\n",
    "axs.set_ylabel('Principal Component 4')\n",
    "\n",
    "plt.show()\n",
    "plt.close()"
   ]
  },
  {
   "cell_type": "markdown",
   "metadata": {},
   "source": [
    "---"
   ]
  },
  {
   "cell_type": "markdown",
   "metadata": {},
   "source": [
    "# Lastly, optimization results, Diesel"
   ]
  },
  {
   "cell_type": "code",
   "execution_count": null,
   "metadata": {},
   "outputs": [],
   "source": [
    "obj_list = []\n",
    "opt_results = []\n",
    "opt_origin_results = []\n",
    "\n",
    "for j_,j in enumerate(total_runs):\n",
    "    if finished_diesel[j_]:\n",
    "        file_name = 'mul_onestep_Preset_Case:_{}_NCP.dat'.format(j)\n",
    "        with open('./log/text/'+file_name) as f:\n",
    "            log_content = f.readlines()\n",
    "            counter = 0\n",
    "            \n",
    "            for j, line in enumerate(reversed(log_content)):\n",
    "                # get the right position, i know it is bad coding, but dont want make too much changes to the old code\n",
    "                if '> One-step Optimization - Diesel' in line:\n",
    "                    starter_position = j - 50            \n",
    "            \n",
    "            \n",
    "            for j, line in enumerate(reversed(log_content)):\n",
    "\n",
    "                if j <= starter_position:\n",
    "                    continue\n",
    "                \n",
    "                if line.startswith('diesel'):\n",
    "                    start = 'Wet flow  :'\n",
    "                    end = 'Dry flow'\n",
    "                    string = line[line.find(start)+len(start):line.rfind(end)]\n",
    "                    string = string.strip()\n",
    "                    obj_list.append(float(string))\n",
    "                    j += 1\n",
    "                    break\n",
    "            opt_results.append(log_content[-j-30:-j-29]+log_content[-j-20:-j-7]+log_content[-j-1:-j+1])\n",
    "            opt_origin_results.append(log_content[-j-80:-j-79]+log_content[-j-70:-j-57]+log_content[-j-51:-j-49])\n",
    "            \n",
    "opt_results = [[data.split() for data in case] for case in opt_results]\n",
    "opt_origin_results = [[data.split() for data in case] for case in opt_origin_results]"
   ]
  },
  {
   "cell_type": "code",
   "execution_count": null,
   "metadata": {},
   "outputs": [],
   "source": [
    "fig, axs = plt.subplots(figsize=(16,9))\n",
    "y, bins, patches = axs.hist(obj_list,bins=50,histtype='bar',alpha=0.7)\n",
    "\n",
    "axs.set_title('Obj - diesel')\n",
    "plt.show()"
   ]
  },
  {
   "cell_type": "markdown",
   "metadata": {},
   "source": [
    "### Remove duplicates and sort"
   ]
  },
  {
   "cell_type": "code",
   "execution_count": null,
   "metadata": {},
   "outputs": [],
   "source": [
    "opt_results_matrix = np.stack((\n",
    "    [float(case[0][4])/float(case[0][5]) for case in opt_results],\n",
    "    [float(case[-3][-1]) for case in opt_results],\n",
    "    [float(case[-3][6]) for case in opt_results],\n",
    "    [float(case[-2][-1]) for case in opt_results],\n",
    "    [float(case[-2][6]) for case in opt_results],\n",
    "    [float(case[-1][-1]) for case in opt_results],\n",
    "    [float(case[-1][6]) for case in opt_results],\n",
    "    *np.array([[float(obv[1]) for obv in case[1:14]] for case in opt_results]).T,\n",
    "    *np.array([[float(obv[6]) for obv in case[1:14]] for case in opt_results]).T,\n",
    "    *np.array([[float(obv[5]) for obv in case[1:14]] for case in opt_results]).T\n",
    "),axis=1)"
   ]
  },
  {
   "cell_type": "code",
   "execution_count": null,
   "metadata": {},
   "outputs": [],
   "source": [
    "opt_results_unique_unsorted, unique_index, unique_counts = np.unique(opt_results_matrix,axis=0,return_index=True,return_counts=True)"
   ]
  },
  {
   "cell_type": "code",
   "execution_count": null,
   "metadata": {},
   "outputs": [],
   "source": [
    "unique_global_index = [np.array(total_runs)[finished_gasoline][j] for j in unique_index]\n",
    "opt_results_unique = np.array(sorted(opt_results_unique_unsorted,key=lambda x: x[4]))"
   ]
  },
  {
   "cell_type": "code",
   "execution_count": null,
   "metadata": {
    "scrolled": false
   },
   "outputs": [],
   "source": [
    "pd.options.display.precision = 4\n",
    "pd.DataFrame(sorted([i for i in zip(opt_results_unique_unsorted[:,4],unique_counts,unique_global_index)],\\\n",
    "                    key=lambda x: x[0]),columns=['Objective Value','Occurances','Example Index'])"
   ]
  },
  {
   "cell_type": "markdown",
   "metadata": {},
   "source": [
    "### Raw Data"
   ]
  },
  {
   "cell_type": "code",
   "execution_count": null,
   "metadata": {},
   "outputs": [],
   "source": [
    "pd.options.display.expand_frame_repr = False\n",
    "pd.options.display.max_colwidth = 80000\n",
    "pd.options.display.max_columns = None\n",
    "pd.options.display.max_rows = 80000"
   ]
  },
  {
   "cell_type": "code",
   "execution_count": null,
   "metadata": {
    "scrolled": false
   },
   "outputs": [],
   "source": [
    "pd.options.display.precision = 0\n",
    "pd.DataFrame(opt_results_unique[:,7:20].T,index=['Tem{}'.format(j) for j in range(8,21)])"
   ]
  },
  {
   "cell_type": "code",
   "execution_count": null,
   "metadata": {
    "scrolled": false
   },
   "outputs": [],
   "source": [
    "pd.options.display.precision = 0\n",
    "pd.DataFrame(opt_results_unique[:,20:33].T,index=['Catalyst {}'.format(j) for j in range(8,21)])"
   ]
  },
  {
   "cell_type": "code",
   "execution_count": null,
   "metadata": {},
   "outputs": [],
   "source": [
    "pd.options.display.precision = 2\n",
    "pd.DataFrame(opt_results_unique[:,33:].T,index=['Feed {}'.format(j) for j in range(8,21)]).round(2)"
   ]
  },
  {
   "cell_type": "markdown",
   "metadata": {},
   "source": [
    "# Analysis"
   ]
  },
  {
   "cell_type": "code",
   "execution_count": null,
   "metadata": {},
   "outputs": [],
   "source": [
    "center_scaled = StandardScaler().fit_transform(opt_results_unique)\n",
    "pca = PCA(n_components=10)\n",
    "scores = pca.fit_transform(center_scaled)"
   ]
  },
  {
   "cell_type": "markdown",
   "metadata": {},
   "source": [
    "### Eigenvalues"
   ]
  },
  {
   "cell_type": "code",
   "execution_count": null,
   "metadata": {},
   "outputs": [],
   "source": [
    "pca.explained_variance_"
   ]
  },
  {
   "cell_type": "markdown",
   "metadata": {},
   "source": [
    "### Captured Covariance"
   ]
  },
  {
   "cell_type": "code",
   "execution_count": null,
   "metadata": {
    "scrolled": true
   },
   "outputs": [],
   "source": [
    "pca.explained_variance_ratio_"
   ]
  },
  {
   "cell_type": "code",
   "execution_count": null,
   "metadata": {},
   "outputs": [],
   "source": [
    "sum(pca.explained_variance_ratio_[:5])"
   ]
  },
  {
   "cell_type": "markdown",
   "metadata": {},
   "source": [
    "### A strong corrolation between PC1 and optimized objective value"
   ]
  },
  {
   "cell_type": "code",
   "execution_count": null,
   "metadata": {},
   "outputs": [],
   "source": [
    "fig, axs = plt.subplots(2,1,figsize=(16,9))\n",
    "\n",
    "'''\n",
    "Scores\n",
    "'''\n",
    "x_loc = np.arange(1,len(scores[:,0])+1)\n",
    "axs[0].bar(x_loc,scores[:,0],color = 'C1')\n",
    "\n",
    "axs_ = axs[0].twinx()\n",
    "axs_.plot(x_loc,opt_results_unique[:,4],'C2:o',markeredgecolor='w',markeredgewidth = 1,markersize=12)\n",
    "\n",
    "# axs[1].legend()\n",
    "axs[0].set_xlabel('Local Minimums')\n",
    "axs[0].set_ylabel('Score - PC1')\n",
    "axs_.set_ylabel('Diesel Production')\n",
    "\n",
    "'''\n",
    "Loading\n",
    "'''\n",
    "x_loc = np.arange(1,len(pca.components_[0])+1)\n",
    "grouping = {'Reflux':slice(0,1),'Product':slice(1,7),'Temperature':slice(7,20),\\\n",
    "            'Catalyst':slice(20,33),'Feed':slice(33,None)}\n",
    "\n",
    "for key in grouping:\n",
    "    axs[1].bar(x_loc[grouping[key]],pca.components_[0][grouping[key]])\n",
    "axs[1].set_xticks([1,4.5,14,27,40])\n",
    "axs[1].set_xticklabels(list(grouping.keys()))\n",
    "\n",
    "axs[1].set_ylabel('Loading - PC1')\n",
    "\n",
    "plt.tight_layout()\n",
    "plt.show()\n",
    "plt.close()"
   ]
  },
  {
   "cell_type": "code",
   "execution_count": null,
   "metadata": {},
   "outputs": [],
   "source": [
    "opt_origin_scaled = StandardScaler().fit_transform(opt_origin_matrix)"
   ]
  },
  {
   "cell_type": "code",
   "execution_count": null,
   "metadata": {
    "scrolled": true
   },
   "outputs": [],
   "source": [
    "predicted_scores = pca.transform(opt_origin_scaled)"
   ]
  },
  {
   "cell_type": "code",
   "execution_count": null,
   "metadata": {},
   "outputs": [],
   "source": [
    "fig, axs = plt.subplots(figsize=(16,9))\n",
    "\n",
    "targets = ['Bad','Middle','Good','Super']\n",
    "colors = ['C1', 'C2','C3','C4']\n",
    "masks = {'Bad':[[0,0.132],slice(0,50),80],\\\n",
    "         'Middle':[[0.1341,0.1395],slice(50,120),10],\\\n",
    "         'Good':[[0.1396,0.1408],slice(120,140),10],\\\n",
    "         'Super':[[0.1409,0.15],slice(140,155),80]}\n",
    "\n",
    "for target, color in zip(targets,colors):\n",
    "    mask = masks[target]\n",
    "    axs.scatter(scores[:,0][mask[1]],scores[:,1][mask[1]],color=color,label=target)\n",
    "    tmp = [j for j,run in enumerate(opt_results_matrix) if run[4] >= mask[0][0] and run[4] <= mask[0][1]]\n",
    "\n",
    "axs.legend()\n",
    "axs.set_xlabel('Principal Component 1')\n",
    "axs.set_ylabel('Principal Component 2')\n",
    "\n",
    "plt.show()\n",
    "plt.close()"
   ]
  },
  {
   "cell_type": "markdown",
   "metadata": {},
   "source": [
    "---"
   ]
  },
  {
   "cell_type": "markdown",
   "metadata": {},
   "source": [
    "# Lastly, optimization results, Combined"
   ]
  },
  {
   "cell_type": "code",
   "execution_count": null,
   "metadata": {},
   "outputs": [],
   "source": [
    "obj_list = []\n",
    "opt_results = []\n",
    "opt_origin_results = []\n",
    "\n",
    "for j_,j in enumerate(total_runs):\n",
    "    if finished_combined[j_]:\n",
    "        file_name = 'mul_onestep_Preset_Case:_{}_NCP.dat'.format(j)\n",
    "        with open('./log/text/'+file_name) as f:\n",
    "            log_content = f.readlines()\n",
    "            counter = 0\n",
    "            tmp_number = 0\n",
    "            for j, line in enumerate(reversed(log_content)):\n",
    "                \n",
    "                if line.startswith('diesel'):\n",
    "                    start = 'Wet flow  :'\n",
    "                    end = 'Dry flow'\n",
    "                    string = line[line.find(start)+len(start):line.rfind(end)]\n",
    "                    string = string.strip()\n",
    "                    tmp_number += float(string)               \n",
    "\n",
    "                if line.startswith('gasoline'):\n",
    "                    start = 'Wet flow  :'\n",
    "                    end = 'Dry flow'\n",
    "                    string = line[line.find(start)+len(start):line.rfind(end)]\n",
    "                    string = string.strip()\n",
    "                    tmp_number += float(string) \n",
    "                    \n",
    "                if line.startswith('naphtha'):\n",
    "                    start = 'Wet flow  :'\n",
    "                    end = 'Dry flow'\n",
    "                    string = line[line.find(start)+len(start):line.rfind(end)]\n",
    "                    string = string.strip()\n",
    "                    tmp_number += float(string) \n",
    "                    obj_list.append(tmp_number)\n",
    "                    j -= 1\n",
    "                    break\n",
    "                    \n",
    "            opt_results.append(log_content[-j-30:-j-29]+log_content[-j-20:-j-7]+log_content[-j-1:-j+1])\n",
    "            opt_origin_results.append(log_content[-j-80:-j-79]+log_content[-j-70:-j-57]+log_content[-j-51:-j-49])\n",
    "            \n",
    "opt_results = [[data.split() for data in case] for case in opt_results]\n",
    "opt_origin_results = [[data.split() for data in case] for case in opt_origin_results]"
   ]
  },
  {
   "cell_type": "code",
   "execution_count": null,
   "metadata": {},
   "outputs": [],
   "source": [
    "fig, axs = plt.subplots(figsize=(16,9))\n",
    "y, bins, patches = axs.hist(obj_list,bins=50,histtype='bar',alpha=0.7)\n",
    "\n",
    "axs.set_title('Obj - gasoline')\n",
    "plt.show()"
   ]
  },
  {
   "cell_type": "markdown",
   "metadata": {},
   "source": [
    "### Remove duplicates and sort"
   ]
  },
  {
   "cell_type": "code",
   "execution_count": null,
   "metadata": {},
   "outputs": [],
   "source": [
    "opt_results_matrix = np.stack((\n",
    "    [float(case[0][4])/float(case[0][5]) for case in opt_results],\n",
    "    [float(case[-3][-1]) for case in opt_results],\n",
    "    [float(case[-3][6]) for case in opt_results],\n",
    "    [float(case[-2][-1]) for case in opt_results],\n",
    "    [float(case[-2][6]) for case in opt_results],\n",
    "    [float(case[-1][-1]) for case in opt_results],\n",
    "    [float(case[-1][6]) for case in opt_results],\n",
    "    *np.array([[float(obv[1]) for obv in case[1:14]] for case in opt_results]).T,\n",
    "    *np.array([[float(obv[6]) for obv in case[1:14]] for case in opt_results]).T,\n",
    "    *np.array([[float(obv[5]) for obv in case[1:14]] for case in opt_results]).T\n",
    "),axis=1)"
   ]
  },
  {
   "cell_type": "code",
   "execution_count": null,
   "metadata": {},
   "outputs": [],
   "source": [
    "opt_results_unique_unsorted, unique_index, unique_counts = np.unique(opt_results_matrix,axis=0,return_index=True,return_counts=True)"
   ]
  },
  {
   "cell_type": "code",
   "execution_count": null,
   "metadata": {},
   "outputs": [],
   "source": [
    "unique_global_index = [np.array(total_runs)[finished_gasoline][j] for j in unique_index]\n",
    "opt_results_unique = np.array(sorted(opt_results_unique_unsorted,key=lambda x: x[4]))"
   ]
  },
  {
   "cell_type": "code",
   "execution_count": null,
   "metadata": {
    "scrolled": false
   },
   "outputs": [],
   "source": [
    "pd.options.display.precision = 4\n",
    "pd.DataFrame(sorted([i for i in zip(opt_results_unique_unsorted[:,4],unique_counts,unique_global_index)],\\\n",
    "                    key=lambda x: x[0]),columns=['Objective Value','Occurances','Example Index'])"
   ]
  },
  {
   "cell_type": "markdown",
   "metadata": {},
   "source": [
    "### Raw Data"
   ]
  },
  {
   "cell_type": "code",
   "execution_count": null,
   "metadata": {},
   "outputs": [],
   "source": [
    "pd.options.display.expand_frame_repr = False\n",
    "pd.options.display.max_colwidth = 80000\n",
    "pd.options.display.max_columns = None\n",
    "pd.options.display.max_rows = 80000"
   ]
  },
  {
   "cell_type": "code",
   "execution_count": null,
   "metadata": {
    "scrolled": false
   },
   "outputs": [],
   "source": [
    "pd.options.display.precision = 0\n",
    "pd.DataFrame(opt_results_unique[:,7:20].T,index=['Tem{}'.format(j) for j in range(8,21)])"
   ]
  },
  {
   "cell_type": "code",
   "execution_count": null,
   "metadata": {
    "scrolled": false
   },
   "outputs": [],
   "source": [
    "pd.options.display.precision = 0\n",
    "pd.DataFrame(opt_results_unique[:,20:33].T,index=['Catalyst {}'.format(j) for j in range(8,21)])"
   ]
  },
  {
   "cell_type": "code",
   "execution_count": null,
   "metadata": {},
   "outputs": [],
   "source": [
    "pd.options.display.precision = 2\n",
    "pd.DataFrame(opt_results_unique[:,33:].T,index=['Feed {}'.format(j) for j in range(8,21)]).round(2)"
   ]
  },
  {
   "cell_type": "markdown",
   "metadata": {},
   "source": [
    "# Analysis"
   ]
  },
  {
   "cell_type": "code",
   "execution_count": null,
   "metadata": {},
   "outputs": [],
   "source": [
    "center_scaled = StandardScaler().fit_transform(opt_results_unique)\n",
    "pca = PCA(n_components=10)\n",
    "scores = pca.fit_transform(center_scaled)"
   ]
  },
  {
   "cell_type": "markdown",
   "metadata": {},
   "source": [
    "### Eigenvalues"
   ]
  },
  {
   "cell_type": "code",
   "execution_count": null,
   "metadata": {},
   "outputs": [],
   "source": [
    "pca.explained_variance_"
   ]
  },
  {
   "cell_type": "markdown",
   "metadata": {},
   "source": [
    "### Captured Covariance"
   ]
  },
  {
   "cell_type": "code",
   "execution_count": null,
   "metadata": {
    "scrolled": true
   },
   "outputs": [],
   "source": [
    "pca.explained_variance_ratio_"
   ]
  },
  {
   "cell_type": "code",
   "execution_count": null,
   "metadata": {},
   "outputs": [],
   "source": [
    "sum(pca.explained_variance_ratio_[:5])"
   ]
  },
  {
   "cell_type": "markdown",
   "metadata": {},
   "source": [
    "### A strong corrolation between PC1 and optimized objective value"
   ]
  },
  {
   "cell_type": "code",
   "execution_count": null,
   "metadata": {},
   "outputs": [],
   "source": [
    "fig, axs = plt.subplots(2,1,figsize=(16,9))\n",
    "\n",
    "'''\n",
    "Scores\n",
    "'''\n",
    "x_loc = np.arange(1,len(scores[:,0])+1)\n",
    "axs[0].bar(x_loc,scores[:,0],color = 'C1')\n",
    "\n",
    "axs_ = axs[0].twinx()\n",
    "axs_.plot(x_loc,opt_results_unique[:,4],'C2:o',markeredgecolor='w',markeredgewidth = 1,markersize=12)\n",
    "\n",
    "# axs[1].legend()\n",
    "axs[0].set_xlabel('Local Minimums')\n",
    "axs[0].set_ylabel('Score - PC1')\n",
    "axs_.set_ylabel('Gasoline Production')\n",
    "\n",
    "'''\n",
    "Loading\n",
    "'''\n",
    "x_loc = np.arange(1,len(pca.components_[0])+1)\n",
    "grouping = {'Reflux':slice(0,1),'Product':slice(1,7),'Temperature':slice(7,20),\\\n",
    "            'Catalyst':slice(20,33),'Feed':slice(33,None)}\n",
    "\n",
    "for key in grouping:\n",
    "    axs[1].bar(x_loc[grouping[key]],pca.components_[0][grouping[key]])\n",
    "axs[1].set_xticks([1,4.5,14,27,40])\n",
    "axs[1].set_xticklabels(list(grouping.keys()))\n",
    "\n",
    "axs[1].set_ylabel('Loading - PC1')\n",
    "\n",
    "plt.tight_layout()\n",
    "plt.show()\n",
    "plt.close()"
   ]
  },
  {
   "cell_type": "markdown",
   "metadata": {},
   "source": [
    "### Predictions using pre-optimization data"
   ]
  },
  {
   "cell_type": "code",
   "execution_count": null,
   "metadata": {},
   "outputs": [],
   "source": [
    "opt_origin_scaled = StandardScaler().fit_transform(opt_origin_matrix)"
   ]
  },
  {
   "cell_type": "code",
   "execution_count": null,
   "metadata": {
    "scrolled": true
   },
   "outputs": [],
   "source": [
    "predicted_scores = pca.transform(opt_origin_scaled)"
   ]
  },
  {
   "cell_type": "code",
   "execution_count": null,
   "metadata": {},
   "outputs": [],
   "source": [
    "fig, axs = plt.subplots(figsize=(16,9))\n",
    "\n",
    "targets = ['Bad','Middle','Good','Super']\n",
    "colors = ['C1', 'C2','C3','C4']\n",
    "masks = {'Bad':[[0,0.132],slice(0,10),80],\\\n",
    "         'Middle':[[0.1341,0.1395],slice(10,20),10],\\\n",
    "         'Good':[[0.1396,0.1408],slice(20,60),10],\\\n",
    "         'Super':[[0.1409,0.15],slice(60,87),80]}\n",
    "\n",
    "for target, color in zip(targets,colors):\n",
    "    mask = masks[target]\n",
    "    axs.scatter(scores[:,0][mask[1]],scores[:,1][mask[1]],color=color,label=target)\n",
    "    tmp = [j for j,run in enumerate(opt_results_matrix) if run[4] >= mask[0][0] and run[4] <= mask[0][1]]\n",
    "\n",
    "axs.legend()\n",
    "axs.set_xlabel('Principal Component 1')\n",
    "axs.set_ylabel('Principal Component 2')\n",
    "\n",
    "plt.show()\n",
    "plt.close()"
   ]
  },
  {
   "cell_type": "markdown",
   "metadata": {},
   "source": [
    "### Separating between \"Middle\" and \"Good\" will involve 3rd and 4th component"
   ]
  },
  {
   "cell_type": "code",
   "execution_count": null,
   "metadata": {
    "scrolled": false
   },
   "outputs": [],
   "source": [
    "fig, axs = plt.subplots(figsize=(16,9))\n",
    "\n",
    "targets = ['Middle','Good']\n",
    "colors = ['C2','C3']\n",
    "masks = {'Middle':[[0.1341,0.1395],slice(20,60),20],\\\n",
    "         'Good':[[0.1396,0.1408],slice(60,87),20]}\n",
    "\n",
    "for target, color in zip(targets,colors):\n",
    "    mask = masks[target]\n",
    "    axs.scatter(scores[:,2][mask[1]],scores[:,3][mask[1]],color=color,label=target)\n",
    "    tmp = [j for j,run in enumerate(opt_results_matrix) if run[4] >= mask[0][0] and run[4] <= mask[0][1]]\n",
    "\n",
    "axs.legend()\n",
    "axs.set_xlabel('Principal Component 3')\n",
    "axs.set_ylabel('Principal Component 4')\n",
    "\n",
    "plt.show()\n",
    "plt.close()"
   ]
  },
  {
   "cell_type": "markdown",
   "metadata": {},
   "source": [
    "---"
   ]
  }
 ],
 "metadata": {
  "kernelspec": {
   "display_name": "Python 3",
   "language": "python",
   "name": "python3"
  },
  "language_info": {
   "codemirror_mode": {
    "name": "ipython",
    "version": 3
   },
   "file_extension": ".py",
   "mimetype": "text/x-python",
   "name": "python",
   "nbconvert_exporter": "python",
   "pygments_lexer": "ipython3",
   "version": "3.6.5"
  }
 },
 "nbformat": 4,
 "nbformat_minor": 2
}
