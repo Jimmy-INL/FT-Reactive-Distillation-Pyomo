{
 "cells": [
  {
   "cell_type": "code",
   "execution_count": 1,
   "metadata": {},
   "outputs": [
    {
     "name": "stdout",
     "output_type": "stream",
     "text": [
      "============================================================================================================\n",
      "2018-08-06 00:16:05 - Start Program\n",
      "============================================================================================================\n"
     ]
    }
   ],
   "source": [
    "%matplotlib inline\n",
    "'''\n",
    "How to Train Your Dragon: V5\n",
    "Sequentially optimize an already initialized FT reactive distillation process\n",
    "\n",
    "Capability includes:\n",
    "\n",
    "Temperature, Reflux, Product Flow Rate, Feed Allocation, Catalyst Allocation and Tray Optimization\n",
    "'''\n",
    "# system imports\n",
    "import sys\n",
    "import os\n",
    "import datetime\n",
    "sys.path.append(os.path.abspath('..'))\n",
    "sys.path.append(os.path.abspath('../..'))\n",
    "\n",
    "import numpy as np\n",
    "from matplotlib import pyplot as plt\n",
    "from matplotlib.backends.backend_pdf import PdfPages\n",
    "\n",
    "# import pickle\n",
    "import dill\n",
    "from copy import deepcopy\n",
    "\n",
    "# pyomo imports\n",
    "from pyomo import environ as pe\n",
    "from global_sets.component import m\n",
    "\n",
    "from stages.reactive_stage import reactive_stage_rule\n",
    "from stages.condenser_stage import condenser_stage_rule\n",
    "from stages.reboiler_stage import reboiler_stage_rule\n",
    "\n",
    "from utility.display_utility import beautify, beautify_reactive, HiddenLogs, HiddenPrints, \\\n",
    "                                    plot_distribution, plot_product_distribution, check_product_spec\n",
    "from utility.model_utility import add_dual, update_dual, delete_dual, check_DOF, check_iteration, tray_translator\n",
    "from utility.model_utility import which_MPCC, select_MPCC, augmented_objective, add_solver\n",
    "from utility.time_utility import create_filename_time, log_now, log_end"
   ]
  },
  {
   "cell_type": "code",
   "execution_count": 2,
   "metadata": {},
   "outputs": [],
   "source": [
    "logname = create_filename_time()\n",
    "log_text_dir = './log/text/opt_'+logname+'.dat'\n",
    "log_figure_dir = './log/figure/opt_'+logname+'.pdf'\n",
    "os.makedirs('./log/text',exist_ok=True)\n",
    "os.makedirs('./log/figure',exist_ok=True)\n",
    "os.makedirs('./log/model',exist_ok=True)"
   ]
  },
  {
   "cell_type": "code",
   "execution_count": 3,
   "metadata": {},
   "outputs": [],
   "source": [
    "with open('./log/model/stage_20_pf.pickle','rb') as f:\n",
    "    model = dill.load(f)"
   ]
  },
  {
   "cell_type": "code",
   "execution_count": 4,
   "metadata": {
    "scrolled": true
   },
   "outputs": [
    {
     "name": "stdout",
     "output_type": "stream",
     "text": [
      "> Selected MPCC: reactive[1].MPCC_P_pf\n",
      "s_L:  1.964812775101591e-08\n",
      "s_V:  0.0\n",
      "\n",
      "> Selected MPCC: reactive[2].MPCC_P_pf\n",
      "s_L:  2.282828746889007e-08\n",
      "s_V:  0.0\n",
      "\n",
      "> Selected MPCC: reactive[3].MPCC_P_pf\n",
      "s_L:  2.541409097349865e-08\n",
      "s_V:  0.0\n",
      "\n",
      "> Selected MPCC: reactive[4].MPCC_P_pf\n",
      "s_L:  2.8964348141935536e-08\n",
      "s_V:  0.0\n",
      "\n",
      "> Selected MPCC: reactive[5].MPCC_P_pf\n",
      "s_L:  3.6801820770708585e-08\n",
      "s_V:  0.0\n",
      "\n",
      "> Selected MPCC: reactive[6].MPCC_P_pf\n",
      "s_L:  5.067497122028571e-08\n",
      "s_V:  0.0\n",
      "\n",
      "> Selected MPCC: reactive[7].MPCC_P_pf\n",
      "s_L:  8.886416478990899e-08\n",
      "s_V:  0.0\n",
      "\n",
      "> Selected MPCC: reactive[8].MPCC_P_pf\n",
      "s_L:  2.636894172205893e-07\n",
      "s_V:  0.0\n",
      "\n",
      "> Selected MPCC: reactive[9].MPCC_P_pf\n",
      "s_L:  2.915820537690447e-07\n",
      "s_V:  0.0\n",
      "\n",
      "> Selected MPCC: reactive[10].MPCC_P_pf\n",
      "s_L:  2.557694373298898e-07\n",
      "s_V:  0.0\n",
      "\n",
      "> Selected MPCC: reactive[11].MPCC_P_pf\n",
      "s_L:  2.931749515530684e-07\n",
      "s_V:  0.0\n",
      "\n",
      "> Selected MPCC: reactive[12].MPCC_P_pf\n",
      "s_L:  2.215560288433305e-07\n",
      "s_V:  0.0\n",
      "\n",
      "> Selected MPCC: reactive[13].MPCC_P_pf\n",
      "s_L:  1.979958360150405e-07\n",
      "s_V:  0.0\n",
      "\n",
      "> Selected MPCC: reactive[14].MPCC_P_pf\n",
      "s_L:  2.1424386904451658e-07\n",
      "s_V:  0.0\n",
      "\n",
      "> Selected MPCC: reactive[15].MPCC_P_pf\n",
      "s_L:  2.0213902706155913e-07\n",
      "s_V:  0.0\n",
      "\n",
      "> Selected MPCC: reactive[16].MPCC_P_pf\n",
      "s_L:  1.969169223898796e-07\n",
      "s_V:  0.0\n",
      "\n",
      "> Selected MPCC: reactive[17].MPCC_P_pf\n",
      "s_L:  1.9647335168486673e-07\n",
      "s_V:  0.0\n",
      "\n",
      "> Selected MPCC: reactive[18].MPCC_P_pf\n",
      "s_L:  1.9397210291775796e-07\n",
      "s_V:  0.0\n",
      "\n",
      "> Selected MPCC: reactive[19].MPCC_P_pf\n",
      "s_L:  1.1262617409994895e-07\n",
      "s_V:  5.623286770979259e-06\n",
      "\n",
      "> Selected MPCC: reactive[20].MPCC_P_pf\n",
      "s_L:  1.1239701416497175e-07\n",
      "s_V:  5.55149644513367e-06\n",
      "\n",
      "> Selected MPCC: reboiler.MPCC_P_pf\n",
      "s_L:  1.1536175250672721e-07\n",
      "s_V:  5.112071101608513e-06\n",
      "\n"
     ]
    }
   ],
   "source": [
    "for j in model.reactive:\n",
    "    select_MPCC(model.reactive[j],'pf')\n",
    "select_MPCC(model.reboiler,'pf')"
   ]
  },
  {
   "cell_type": "markdown",
   "metadata": {},
   "source": [
    "# Add tray optimization related sets and variables"
   ]
  },
  {
   "cell_type": "code",
   "execution_count": 5,
   "metadata": {},
   "outputs": [],
   "source": [
    "model.sigma = pe.Param(initialize=0.5,mutable=True)\n",
    "model.epi = pe.Param(initialize=1e-5,mutable=True)\n",
    "model.scale_epi = pe.Param(initialize=1e-6,mutable=True)"
   ]
  },
  {
   "cell_type": "code",
   "execution_count": 6,
   "metadata": {},
   "outputs": [],
   "source": [
    "model.P_tray = pe.Var(model.TRAY_total,m.PRODUCT,within=pe.NonNegativeReals,initialize=model.epi.value)\n",
    "model.N_tray = pe.Var(m.PRODUCT,within=pe.NonNegativeReals) # extended range from condenser (0) to reboiler (N+1)\n",
    "model.P_total = pe.Var(m.PRODUCT,within=pe.NonNegativeReals,initialize=model.epi.value*len(model.TRAY_total))\n",
    "model.P_total_dry = pe.Var(m.PRODUCT,within=pe.NonNegativeReals,initialize=model.epi.value*len(model.TRAY_total))\n",
    "model.x_P = pe.Var(m.COMP_TOTAL,m.PRODUCT,within=pe.NonNegativeReals,bounds=(0,1),initialize=1e-20)\n",
    "model.x_P_dry = pe.Var(m.COMP_ORG,m.PRODUCT,within=pe.NonNegativeReals,bounds=(0,1),initialize=1e-20)"
   ]
  },
  {
   "cell_type": "markdown",
   "metadata": {},
   "source": [
    "# Add equations"
   ]
  },
  {
   "cell_type": "code",
   "execution_count": 7,
   "metadata": {},
   "outputs": [],
   "source": [
    "for i,j in model.P_tray:\n",
    "    if j != 'naphtha' and j != 'heavy':\n",
    "        model.P_tray[i,j].setlb(model.epi)\n",
    "\n",
    "for j in model.P_total:\n",
    "    if j != 'naphtha' and j != 'heavy':\n",
    "        model.P_total[j].setlb(model.epi*len(model.TRAY_total))\n",
    "    else:\n",
    "        continue\n",
    "        model.P_total[j].setlb(model.epi)"
   ]
  },
  {
   "cell_type": "code",
   "execution_count": 8,
   "metadata": {},
   "outputs": [],
   "source": [
    "# sum of liquid draw for all products for each stage\n",
    "def stage_sum_product_rule(model,j):\n",
    "    return tray_translator(model,j).L['P'] == sum(model.P_tray[j,p] for p in m.PRODUCT)\n",
    "model.stage_sum_product_con = pe.Constraint(model.TRAY_total,rule=stage_sum_product_rule)\n",
    "\n",
    "# liquid product mass balance\n",
    "def product_sum_stage_rule(model,j,p):\n",
    "    if p == 'naphtha' or p == 'heavy':\n",
    "        return pe.Constraint.Skip\n",
    "    return model.P_tray[j,p] == model.epi + (model.P_total[p] - model.epi*len(model.TRAY_total)) * pe.exp(-(model.TRAY_total.ord(j)-1-model.N_tray[p])**2/model.sigma) / \\\n",
    "            sum(pe.exp(-(model.TRAY_total.ord(j_)-1-model.N_tray[p])**2/model.sigma) for j_ in model.TRAY_total)\n",
    "#     return model.P_tray[j,p] * sum(pe.exp(-(model.TRAY_total.ord(j_)-1-model.N_tray[p])**2/model.sigma) for j_ in model.TRAY_total) \\\n",
    "#             == model.epi + (model.P_total[p] - model.epi*len(model.TRAY_total)) * pe.exp(-(model.TRAY_total.ord(j)-1-model.N_tray[p])**2/model.sigma)\n",
    "model.product_sum_stage_con = pe.Constraint(model.TRAY_total,m.PRODUCT,rule=product_sum_stage_rule)\n",
    "\n",
    "# condenser and reboiler\n",
    "model.product_sum_stage_con2 = pe.ConstraintList()\n",
    "model.product_sum_stage_con2.add(expr = model.P_tray['condenser','naphtha'] == model.P_total['naphtha'])\n",
    "model.product_sum_stage_con2.add(expr = model.P_tray['reboiler','heavy'] == model.P_total['heavy'])\n",
    "\n",
    "# liquid product component mass balance\n",
    "def mass_balance_product_rule(model,i,p):\n",
    "#     return pe.log(model.scale_epi+sum(model.P_tray[j,p]*tray_translator(model,j).x[i] for j in model.TRAY_total)) == \\\n",
    "#             pe.log(model.scale_epi+(model.P_total[p])*model.x_P[i,p])\n",
    "    return sum(model.P_tray[j,p]*tray_translator(model,j).x[i] for j in model.TRAY_total) == (model.P_total[p])*model.x_P[i,p]\n",
    "model.mass_balance_product_con = pe.Constraint(m.COMP_TOTAL,m.PRODUCT,rule=mass_balance_product_rule)"
   ]
  },
  {
   "cell_type": "code",
   "execution_count": 9,
   "metadata": {},
   "outputs": [],
   "source": [
    "# dry liquid product component \n",
    "def product_sum_dry_rule(model,p):\n",
    "    return model.P_total_dry[p] == model.P_total[p] * (1 - sum(model.x_P[i,p] for i in m.COMP_INORG))\n",
    "model.product_sum_dry_con = pe.Constraint(m.PRODUCT,rule=product_sum_dry_rule)\n",
    "\n",
    "# dry liquid product component mass balance\n",
    "def mass_balance_dry_rule(model,i,p):\n",
    "#     return pe.log(model.scale_epi+model.x_P_dry[i,p] * (1 - sum(model.x_P[i,p] for i in m.COMP_INORG))) == \\\n",
    "#             pe.log(model.scale_epi+model.x_P[i,p])\n",
    "    return model.x_P_dry[i,p] * (1 - sum(model.x_P[i,p] for i in m.COMP_INORG)) == model.x_P[i,p]\n",
    "model.mass_balance_dry_con = pe.Constraint(m.COMP_ORG,m.PRODUCT,rule=mass_balance_dry_rule)"
   ]
  },
  {
   "cell_type": "markdown",
   "metadata": {},
   "source": [
    "# Transfer from original liquid side-draw to DDF"
   ]
  },
  {
   "cell_type": "markdown",
   "metadata": {},
   "source": [
    "### Transfer fixed side-draw variables"
   ]
  },
  {
   "cell_type": "code",
   "execution_count": 10,
   "metadata": {},
   "outputs": [],
   "source": [
    "for j in model.reactive:\n",
    "    model.reactive[j].PR_L.unfix()\n",
    "\n",
    "for j in model.TRAY_total:\n",
    "    model.P_tray[j,'naphtha'].fix(0)\n",
    "    model.P_tray[j,'heavy'].fix(0)\n",
    "    \n",
    "model.P_tray['condenser','naphtha'].unfix(); # model.P_tray['condenser','naphtha'].setlb(model.epi)\n",
    "model.P_tray['condenser','naphtha'].set_value(model.condenser.L['P'].value)\n",
    "model.P_tray['4','intermediate'].set_value(model.reactive[4].L['P'].value)\n",
    "model.P_tray['7','gasoline'].set_value(model.reactive[7].L['P'].value)\n",
    "model.P_tray['10','diesel'].set_value(model.reactive[10].L['P'].value)\n",
    "model.P_tray['reboiler','heavy'].unfix(); # model.P_tray['reboiler','heavy'].setlb(model.epi)\n",
    "model.P_tray['reboiler','heavy'].set_value(model.reboiler.L['P'].value)\n",
    "\n",
    "model.N_tray['naphtha'].fix(0)\n",
    "model.N_tray['intermediate'].fix(4)\n",
    "model.N_tray['gasoline'].fix(7)\n",
    "model.N_tray['diesel'].fix(10)\n",
    "model.N_tray['heavy'].fix(21)"
   ]
  },
  {
   "cell_type": "markdown",
   "metadata": {},
   "source": [
    "### Initialized newly created value"
   ]
  },
  {
   "cell_type": "code",
   "execution_count": 11,
   "metadata": {},
   "outputs": [],
   "source": [
    "model.P_total['naphtha'].set_value(model.P_tray['condenser','naphtha'].value)\n",
    "model.P_total['intermediate'].fix(model.P_tray['4','intermediate'].value)\n",
    "model.P_total['gasoline'].fix(model.P_tray['7','gasoline'].value)\n",
    "model.P_total['diesel'].fix(model.P_tray['10','diesel'].value)\n",
    "model.P_total['heavy'].set_value(model.P_tray['reboiler','heavy'].value)\n",
    "\n",
    "for i in m.COMP_TOTAL:\n",
    "    model.x_P[i,'naphtha'].set_value(model.condenser.x[i].value)\n",
    "    model.x_P[i,'intermediate'].set_value(model.reactive[4].x[i].value)\n",
    "    model.x_P[i,'gasoline'].set_value(model.reactive[7].x[i].value)\n",
    "    model.x_P[i,'diesel'].set_value(model.reactive[10].x[i].value)\n",
    "    model.x_P[i,'heavy'].set_value(model.reboiler.x[i].value)"
   ]
  },
  {
   "cell_type": "code",
   "execution_count": 12,
   "metadata": {},
   "outputs": [],
   "source": [
    "model.P_total_dry['naphtha'].set_value(model.P_tray['condenser','naphtha'].value * (1 - sum(model.condenser.x[i].value for i in m.COMP_INORG)))\n",
    "model.P_total_dry['intermediate'].set_value(model.P_tray['4','intermediate'].value * (1 - sum(model.reactive[4].x[i].value for i in m.COMP_INORG)))\n",
    "model.P_total_dry['gasoline'].set_value(model.P_tray['7','gasoline'].value * (1 - sum(model.reactive[7].x[i].value for i in m.COMP_INORG)))\n",
    "model.P_total_dry['diesel'].set_value(model.P_tray['10','diesel'].value * (1 - sum(model.reactive[10].x[i].value for i in m.COMP_INORG)))\n",
    "model.P_total_dry['heavy'].set_value(model.P_tray['reboiler','heavy'].value * (1 - sum(model.reboiler.x[i].value for i in m.COMP_INORG)))\n",
    "\n",
    "for i in m.COMP_ORG:\n",
    "    model.x_P_dry[i,'naphtha'].set_value(model.condenser.x[i].value / (1 - sum(model.condenser.x[i].value for i in m.COMP_INORG)))\n",
    "    model.x_P_dry[i,'intermediate'].set_value(model.reactive[4].x[i].value / (1 - sum(model.reactive[4].x[i].value for i in m.COMP_INORG)))\n",
    "    model.x_P_dry[i,'gasoline'].set_value(model.reactive[7].x[i].value / (1 - sum(model.reactive[7].x[i].value for i in m.COMP_INORG)))\n",
    "    model.x_P_dry[i,'diesel'].set_value(model.reactive[10].x[i].value / (1 - sum(model.reactive[10].x[i].value for i in m.COMP_INORG)))\n",
    "    model.x_P_dry[i,'heavy'].set_value(model.reboiler.x[i].value / (1 - sum(model.reboiler.x[i].value for i in m.COMP_INORG)))"
   ]
  },
  {
   "cell_type": "markdown",
   "metadata": {},
   "source": [
    "# Transfer from original reflux to DDF"
   ]
  },
  {
   "cell_type": "code",
   "execution_count": 13,
   "metadata": {},
   "outputs": [
    {
     "name": "stdout",
     "output_type": "stream",
     "text": [
      "Active Equality Constraints:\t 29862\n",
      "Active Inequality Constraints:\t 21\n",
      "Active Variables:\t\t 33597\n",
      "Fixed Variables:\t\t 3662\n",
      "DOF:\t\t\t\t 73\n"
     ]
    }
   ],
   "source": [
    "check_DOF(pe,model)"
   ]
  },
  {
   "cell_type": "markdown",
   "metadata": {},
   "source": [
    "### Transfer fixed side-draw variables"
   ]
  },
  {
   "cell_type": "code",
   "execution_count": 14,
   "metadata": {},
   "outputs": [
    {
     "name": "stdout",
     "output_type": "stream",
     "text": [
      "PR_L : Size=1, Index=None\n",
      "    Key  : Lower : Value : Upper : Fixed : Stale : Domain\n",
      "    None :     0 :  0.05 :     1 :  True :  True : NonNegativeReals\n"
     ]
    }
   ],
   "source": [
    "model.condenser.PR_L.pprint()"
   ]
  },
  {
   "cell_type": "code",
   "execution_count": 15,
   "metadata": {},
   "outputs": [],
   "source": [
    "model.rho_tray = pe.Param(initialize=0.1,mutable=True)\n",
    "model.sigma_reflux = pe.Param(initialize=0.5,mutable=True)\n",
    "model.N_reflux_tray = pe.Var(within=pe.NonNegativeReals,bounds=(1,7),initialize=1) # bounded by upper section non-reactive trays"
   ]
  },
  {
   "cell_type": "code",
   "execution_count": 16,
   "metadata": {},
   "outputs": [],
   "source": [
    "model.del_component(model.L_condenser_con)\n",
    "model.del_component(model.Lx_condenser_con)\n",
    "model.del_component(model.Lh_condenser_con)\n",
    "\n",
    "def L_condenser_rule(model,j):\n",
    "#     return model.reactive[j].L['R'] == model.epi + (model.condenser.L['out'] - model.epi*len(model.TRAY)) * \\\n",
    "#             pe.exp(-(model.TRAY_total.ord(str(j))-1-model.N_reflux_tray)**2/model.sigma_reflux) / \\\n",
    "#             sum(pe.exp(-(model.TRAY_total.ord(str(j_))-1-model.N_reflux_tray)**2/model.sigma_reflux) for j_ in model.TRAY)\n",
    "    return (model.reactive[j].L['R'] - model.epi)*sum(pe.exp(-(model.TRAY_total.ord(str(j_))-1-model.N_reflux_tray)**2/model.sigma_reflux) for j_ in model.TRAY)\\\n",
    "            == (model.condenser.L['out'] - model.epi*len(model.TRAY)) * \\\n",
    "            pe.exp(-(model.TRAY_total.ord(str(j))-1-model.N_reflux_tray)**2/model.sigma_reflux)\n",
    "\n",
    "    \n",
    "model.L_condenser_con = pe.Constraint(model.TRAY,rule=L_condenser_rule)\n",
    "\n",
    "def Lx_condenser_rule(model,j,i):\n",
    "    return model.reactive[j].x_['R',i] == model.condenser.x[i]\n",
    "model.Lx_condenser_con = pe.Constraint(model.TRAY,m.COMP_TOTAL,rule=Lx_condenser_rule)\n",
    "\n",
    "def Lh_condenser_rule(model,j):\n",
    "    return model.reactive[j].H_L_['R'] == model.condenser.H_L\n",
    "model.Lh_condenser_con = pe.Constraint(model.TRAY,rule=Lh_condenser_rule)"
   ]
  },
  {
   "cell_type": "markdown",
   "metadata": {},
   "source": [
    "### Initialized newly created value"
   ]
  },
  {
   "cell_type": "code",
   "execution_count": 17,
   "metadata": {},
   "outputs": [],
   "source": [
    "model.reactive[model.TRAY.first()].L['in'].fix(0)\n",
    "for i in m.COMP_TOTAL:\n",
    "    model.reactive[model.TRAY.first()].x_['in',i].fix(0)\n",
    "model.reactive[model.TRAY.first()].H_L_['in'].fix(0)\n",
    "\n",
    "for j in model.reactive:\n",
    "    model.reactive[j].L['R'].unfix(); model.reactive[j].L['R'].setlb(model.epi.value); model.reactive[j].L['R'].set_value(1.1*model.epi.value)\n",
    "    for i in m.COMP_TOTAL:\n",
    "        model.reactive[j].x_['R',i].unfix(); model.reactive[j].x_['R',i].set_value(model.condenser.x[i].value)\n",
    "    model.reactive[j].H_L_['R'].unfix(); model.reactive[j].H_L_['R'].set_value(model.condenser.H_L.value)\n",
    "    \n",
    "model.N_reflux_tray.fix(1)\n",
    "model.reactive[1].L['R'].set_value(model.condenser.L['out'].value)"
   ]
  },
  {
   "cell_type": "code",
   "execution_count": 18,
   "metadata": {},
   "outputs": [
    {
     "name": "stdout",
     "output_type": "stream",
     "text": [
      "Active Equality Constraints:\t 31401\n",
      "Active Inequality Constraints:\t 21\n",
      "Active Variables:\t\t 33598\n",
      "Fixed Variables:\t\t 2124\n",
      "DOF:\t\t\t\t 73\n"
     ]
    }
   ],
   "source": [
    "check_DOF(pe,model)"
   ]
  },
  {
   "cell_type": "markdown",
   "metadata": {},
   "source": [
    "### Initialize"
   ]
  },
  {
   "cell_type": "code",
   "execution_count": 19,
   "metadata": {},
   "outputs": [
    {
     "name": "stdout",
     "output_type": "stream",
     "text": [
      "------------------------------------------------------------------------------------------------------------\n",
      "> Obj = maximize\n",
      "> reactive[8].T + reactive[9].T + reactive[10].T + reactive[11].T + reactive[12].T + reactive[14].T + reactive[15].T + reactive[16].T + reactive[17].T + reactive[18].T - reactive[1].MPCC_P_pf.pf - reactive[2].MPCC_P_pf.pf - reactive[3].MPCC_P_pf.pf - reactive[4].MPCC_P_pf.pf - reactive[5].MPCC_P_pf.pf - reactive[6].MPCC_P_pf.pf - reactive[7].MPCC_P_pf.pf - reactive[8].MPCC_P_pf.pf - reactive[9].MPCC_P_pf.pf - reactive[10].MPCC_P_pf.pf - reactive[11].MPCC_P_pf.pf - reactive[12].MPCC_P_pf.pf - reactive[13].MPCC_P_pf.pf - reactive[14].MPCC_P_pf.pf - reactive[15].MPCC_P_pf.pf - reactive[16].MPCC_P_pf.pf - reactive[17].MPCC_P_pf.pf - reactive[18].MPCC_P_pf.pf - reactive[19].MPCC_P_pf.pf - reactive[20].MPCC_P_pf.pf - reboiler.MPCC_P_pf.pf\n",
      "------------------------------------------------------------------------------------------------------------\n"
     ]
    }
   ],
   "source": [
    "model.del_component(model.obj)\n",
    "model.obj = augmented_objective(pe,model,expr = sum(model.reactive[j].T for j in model.TRAY_reactive), sense = pe.maximize)"
   ]
  },
  {
   "cell_type": "code",
   "execution_count": 20,
   "metadata": {},
   "outputs": [],
   "source": [
    "for j in model.reactive:\n",
    "    model.reactive[j].MPCC_P_pf.rho = 10000\n",
    "model.reboiler.MPCC_P_pf.rho = 10000"
   ]
  },
  {
   "cell_type": "code",
   "execution_count": 21,
   "metadata": {},
   "outputs": [],
   "source": [
    "opt = add_solver(pe, max_iter = 500, warm_start = True, output = True, scale = True)"
   ]
  },
  {
   "cell_type": "code",
   "execution_count": 22,
   "metadata": {},
   "outputs": [],
   "source": [
    "opt.options['required_infeasibility_reduction'] = 0.999999999999999"
   ]
  },
  {
   "cell_type": "code",
   "execution_count": 23,
   "metadata": {
    "scrolled": true
   },
   "outputs": [
    {
     "name": "stdout",
     "output_type": "stream",
     "text": [
      "Ipopt 3.12.10: print_user_options=yes\n",
      "linear_solver=ma86\n",
      "linear_system_scaling=mc19\n",
      "max_iter=500\n",
      "warm_start_init_point=yes\n",
      "warm_start_bound_push=1e-20\n",
      "warm_start_mult_bound_push=1e-20\n",
      "mu_init=1e-06\n",
      "output_file=./tmp/ipopt_output_tmp.output\n",
      "linear_scaling_on_demand=no\n",
      "required_infeasibility_reduction=0.999999999999999\n",
      "\n",
      "\n",
      "List of user-set options:\n",
      "\n",
      "                                    Name   Value                used\n",
      "                linear_scaling_on_demand = no                    yes\n",
      "                           linear_solver = ma86                  yes\n",
      "                   linear_system_scaling = mc19                  yes\n",
      "                                max_iter = 500                   yes\n",
      "                                 mu_init = 1e-06                 yes\n",
      "                             output_file = ./tmp/ipopt_output_tmp.output  yes\n",
      "                      print_user_options = yes                   yes\n",
      "        required_infeasibility_reduction = 1                      no\n",
      "                   warm_start_bound_push = 1e-20                 yes\n",
      "                   warm_start_init_point = yes                   yes\n",
      "              warm_start_mult_bound_push = 1e-20                 yes\n",
      "\n",
      "******************************************************************************\n",
      "This program contains Ipopt, a library for large-scale nonlinear optimization.\n",
      " Ipopt is released as open source code under the Eclipse Public License (EPL).\n",
      "         For more information visit http://projects.coin-or.org/Ipopt\n",
      "******************************************************************************\n",
      "\n",
      "This is Ipopt version 3.12.10, running with linear solver ma86.\n",
      "\n",
      "Number of nonzeros in equality constraint Jacobian...:   122525\n",
      "Number of nonzeros in inequality constraint Jacobian.:      145\n",
      "Number of nonzeros in Lagrangian Hessian.............:    48454\n",
      "\n",
      "Total number of variables............................:    31473\n",
      "                     variables with only lower bounds:    12829\n",
      "                variables with lower and upper bounds:    15098\n",
      "                     variables with only upper bounds:        0\n",
      "Total number of equality constraints.................:    31401\n",
      "Total number of inequality constraints...............:       21\n",
      "        inequality constraints with only lower bounds:        0\n",
      "   inequality constraints with lower and upper bounds:        0\n",
      "        inequality constraints with only upper bounds:       21\n",
      "\n",
      "iter    objective    inf_pr   inf_du lg(mu)  ||d||  lg(rg) alpha_du alpha_pr  ls\n",
      "   0 -5.2315000e+03 8.71e-02 2.91e+03  -6.0 0.00e+00    -  0.00e+00 0.00e+00   0\n",
      "   1 -5.2315000e+03 8.71e-02 2.91e+03  -6.0 1.62e+02    -  2.41e-06 2.06e-04h  1\n",
      "   2 -5.2315000e+03 8.71e-02 2.90e+03  -6.0 1.62e+02    -  2.12e-04 1.41e-04f  1\n",
      "   3 -5.2315000e+03 8.70e-02 2.90e+03  -6.0 1.62e+02    -  1.06e-03 7.43e-04f  1\n",
      "   4 -5.2315000e+03 8.68e-02 2.90e+03  -6.0 1.62e+02    -  1.63e-03 2.14e-03f  1\n",
      "   5 -5.2315000e+03 8.61e-02 2.83e+03  -6.0 1.62e+02    -  2.17e-02 8.09e-03f  1\n",
      "   6 -5.2315000e+03 8.34e-02 2.80e+03  -6.0 1.60e+02    -  1.33e-02 3.14e-02f  1\n",
      "   7 -5.2315000e+03 6.90e-02 1.93e+03  -6.0 1.55e+02    -  3.11e-01 1.73e-01f  1\n",
      "   8 -5.2315000e+03 1.05e-01 1.46e+03  -6.0 1.24e+02    -  2.40e-01 4.37e-01f  1\n",
      "   9 -5.2315000e+03 1.30e-01 5.23e+01  -6.0 6.46e+01    -  1.00e+00 1.00e+00h  1\n",
      "iter    objective    inf_pr   inf_du lg(mu)  ||d||  lg(rg) alpha_du alpha_pr  ls\n",
      "  10 -5.2315000e+03 1.58e-04 8.18e-02  -6.0 2.13e+00    -  1.00e+00 1.00e+00h  1\n",
      "  11 -5.2315000e+03 3.05e-10 9.23e-06  -6.0 1.52e-04    -  1.00e+00 1.00e+00h  1\n",
      "  12 -5.2315000e+03 2.84e-10 5.12e+01  -9.0 2.17e-04    -  1.00e+00 8.26e-01h  1\n",
      "  13 -5.2315000e+03 2.16e-10 4.03e+01  -9.0 3.58e-05    -  1.00e+00 4.09e-01f  1\n",
      "  14 -5.2315000e+03 3.05e-10 1.12e-06  -9.0 2.12e-05    -  1.00e+00 1.00e+00f  1\n",
      "  15 -5.2315000e+03 3.06e-10 4.92e-12  -9.0 1.82e-08    -  1.00e+00 1.00e+00h  1\n",
      "\n",
      "Number of Iterations....: 15\n",
      "\n",
      "                                   (scaled)                 (unscaled)\n",
      "Objective...............:  -5.2315000477634994e+03   -5.2315000477634994e+03\n",
      "Dual infeasibility......:   4.9246147151773157e-12    4.9246147151773157e-12\n",
      "Constraint violation....:   3.0550903972435817e-10    3.0550903972435817e-10\n",
      "Complementarity.........:   1.0000035744611971e-09    1.0000035744611971e-09\n",
      "Overall NLP error.......:   1.0000035744611971e-09    1.0000035744611971e-09\n",
      "\n",
      "\n",
      "Number of objective function evaluations             = 16\n",
      "Number of objective gradient evaluations             = 16\n",
      "Number of equality constraint evaluations            = 16\n",
      "Number of inequality constraint evaluations          = 16\n",
      "Number of equality constraint Jacobian evaluations   = 16\n",
      "Number of inequality constraint Jacobian evaluations = 16\n",
      "Number of Lagrangian Hessian evaluations             = 15\n",
      "Total CPU secs in IPOPT (w/o function evaluations)   =      8.790\n",
      "Total CPU secs in NLP function evaluations           =      0.228\n",
      "\n",
      "EXIT: Optimal Solution Found.\n"
     ]
    }
   ],
   "source": [
    "results = opt.solve(model,tee=True)\n",
    "update_dual(pe,model)"
   ]
  },
  {
   "cell_type": "code",
   "execution_count": null,
   "metadata": {},
   "outputs": [],
   "source": [
    "# pdf = PdfPages(log_figure_dir)"
   ]
  },
  {
   "cell_type": "code",
   "execution_count": null,
   "metadata": {
    "scrolled": false
   },
   "outputs": [],
   "source": [
    "with HiddenLogs(log_text_dir,'w'):\n",
    "    print('\\n>','Original 20 stage case')\n",
    "    print('-'*108)\n",
    "    beautify(pe,model)\n",
    "    check_product_spec(model)\n",
    "    log_now()\n",
    "    check_iteration()\n",
    "\n",
    "# plot_distribution(model,pdf,'Original 20 stage case')\n",
    "# plot_product_distribution(model,pdf)"
   ]
  },
  {
   "cell_type": "markdown",
   "metadata": {},
   "source": [
    "# Optimization"
   ]
  },
  {
   "cell_type": "markdown",
   "metadata": {},
   "source": [
    "### Open up parameters"
   ]
  },
  {
   "cell_type": "code",
   "execution_count": 24,
   "metadata": {},
   "outputs": [],
   "source": [
    "for j in model.TRAY_reactive:\n",
    "    model.reactive[j].T.setlb(200+273.15)\n",
    "    model.reactive[j].T.setub(300+273.15)\n",
    "    \n",
    "model.condenser.PR_L.unfix()\n",
    "model.condenser.PR_L.setlb(0.05)\n",
    "model.condenser.PR_L.setub(0.5)\n",
    "\n",
    "model.P_total['intermediate'].unfix()\n",
    "model.P_total['gasoline'].unfix()\n",
    "model.P_total['diesel'].unfix()"
   ]
  },
  {
   "cell_type": "markdown",
   "metadata": {},
   "source": [
    "### Constraints"
   ]
  },
  {
   "cell_type": "code",
   "execution_count": 25,
   "metadata": {},
   "outputs": [],
   "source": [
    "model.quality_spec = pe.Param(m.PRODUCT,initialize={\\\n",
    "                    'naphtha':0.75,'gasoline':0.75,'diesel':0.6,'heavy':0.85},mutable=True)\n",
    "\n",
    "def product_spec_rule(model,p):\n",
    "    if p == 'intermediate':\n",
    "        return pe.Constraint.Skip\n",
    "    return sum(model.x_P_dry[i,p] for i in m.PRODUCT_cnumber[p]) >= model.quality_spec[p]\n",
    "model.product_spec_con = pe.Constraint(m.PRODUCT,rule=product_spec_rule)"
   ]
  },
  {
   "cell_type": "markdown",
   "metadata": {},
   "source": [
    "### Objective"
   ]
  },
  {
   "cell_type": "code",
   "execution_count": 26,
   "metadata": {},
   "outputs": [
    {
     "name": "stdout",
     "output_type": "stream",
     "text": [
      "------------------------------------------------------------------------------------------------------------\n",
      "> Obj = maximize\n",
      "> P_total[gasoline] - reactive[1].MPCC_P_pf.pf - reactive[2].MPCC_P_pf.pf - reactive[3].MPCC_P_pf.pf - reactive[4].MPCC_P_pf.pf - reactive[5].MPCC_P_pf.pf - reactive[6].MPCC_P_pf.pf - reactive[7].MPCC_P_pf.pf - reactive[8].MPCC_P_pf.pf - reactive[9].MPCC_P_pf.pf - reactive[10].MPCC_P_pf.pf - reactive[11].MPCC_P_pf.pf - reactive[12].MPCC_P_pf.pf - reactive[13].MPCC_P_pf.pf - reactive[14].MPCC_P_pf.pf - reactive[15].MPCC_P_pf.pf - reactive[16].MPCC_P_pf.pf - reactive[17].MPCC_P_pf.pf - reactive[18].MPCC_P_pf.pf - reactive[19].MPCC_P_pf.pf - reactive[20].MPCC_P_pf.pf - reboiler.MPCC_P_pf.pf\n",
      "------------------------------------------------------------------------------------------------------------\n"
     ]
    }
   ],
   "source": [
    "model.del_component(model.obj)\n",
    "model.obj = augmented_objective(pe,model,expr = model.P_total['gasoline'], sense = pe.maximize)"
   ]
  },
  {
   "cell_type": "code",
   "execution_count": 27,
   "metadata": {
    "scrolled": false
   },
   "outputs": [
    {
     "name": "stdout",
     "output_type": "stream",
     "text": [
      "Ipopt 3.12.10: print_user_options=yes\n",
      "linear_solver=ma86\n",
      "linear_system_scaling=mc19\n",
      "max_iter=500\n",
      "warm_start_init_point=yes\n",
      "warm_start_bound_push=1e-20\n",
      "warm_start_mult_bound_push=1e-20\n",
      "mu_init=1e-06\n",
      "output_file=./tmp/ipopt_output_tmp.output\n",
      "linear_scaling_on_demand=no\n",
      "required_infeasibility_reduction=0.999999999999999\n",
      "\n",
      "\n",
      "List of user-set options:\n",
      "\n",
      "                                    Name   Value                used\n",
      "                linear_scaling_on_demand = no                    yes\n",
      "                           linear_solver = ma86                  yes\n",
      "                   linear_system_scaling = mc19                  yes\n",
      "                                max_iter = 500                   yes\n",
      "                                 mu_init = 1e-06                 yes\n",
      "                             output_file = ./tmp/ipopt_output_tmp.output  yes\n",
      "                      print_user_options = yes                   yes\n",
      "        required_infeasibility_reduction = 1                      no\n",
      "                   warm_start_bound_push = 1e-20                 yes\n",
      "                   warm_start_init_point = yes                   yes\n",
      "              warm_start_mult_bound_push = 1e-20                 yes\n",
      "\n",
      "******************************************************************************\n",
      "This program contains Ipopt, a library for large-scale nonlinear optimization.\n",
      " Ipopt is released as open source code under the Eclipse Public License (EPL).\n",
      "         For more information visit http://projects.coin-or.org/Ipopt\n",
      "******************************************************************************\n",
      "\n",
      "This is Ipopt version 3.12.10, running with linear solver ma86.\n",
      "\n",
      "Number of nonzeros in equality constraint Jacobian...:   123093\n",
      "Number of nonzeros in inequality constraint Jacobian.:      213\n",
      "Number of nonzeros in Lagrangian Hessian.............:    48775\n",
      "\n",
      "Total number of variables............................:    31478\n",
      "                     variables with only lower bounds:    12832\n",
      "                variables with lower and upper bounds:    15100\n",
      "                     variables with only upper bounds:        0\n",
      "Total number of equality constraints.................:    31401\n",
      "Total number of inequality constraints...............:       25\n",
      "        inequality constraints with only lower bounds:        4\n",
      "   inequality constraints with lower and upper bounds:        0\n",
      "        inequality constraints with only upper bounds:       21\n",
      "\n",
      "iter    objective    inf_pr   inf_du lg(mu)  ||d||  lg(rg) alpha_du alpha_pr  ls\n",
      "   0 -3.8971608e-02 7.00e-03 1.00e+00  -6.0 0.00e+00    -  0.00e+00 0.00e+00   0\n",
      "   1 -3.9069932e-02 2.07e-02 9.06e+00  -6.0 6.97e+01  -4.0 2.62e-02 4.75e-02f  1\n",
      "   2 -3.9055183e-02 3.18e-02 8.87e+00  -6.0 1.31e+02  -4.5 6.68e-03 7.70e-03h  3\n",
      "   3 -3.9047234e-02 4.48e+00 8.31e+01  -6.0 2.93e+00  -5.0 9.75e-01 1.18e-01h  1\n",
      "   4 -3.9104727e-02 2.15e+00 4.87e+01  -6.0 6.18e+00  -5.4 9.98e-01 5.07e-01h  1\n",
      "   5 -3.9308564e-02 1.27e+00 3.09e+01  -6.0 4.91e+01  -5.9 2.66e-01 3.98e-01h  1\n",
      "   6 -3.9470404e-02 1.07e+00 2.61e+01  -6.0 2.85e+01  -6.4 9.93e-01 1.56e-01h  1\n",
      "   7 -4.0198723e-02 7.38e-01 1.91e+01  -6.0 6.04e+01  -6.9 9.88e-02 2.98e-01h  1\n",
      "   8 -4.8196276e-02 1.08e+00 3.10e+01  -6.0 2.74e+02  -7.3 7.76e-02 6.81e-01h  1\n",
      "   9 -4.8153419e-02 6.10e-01 1.91e+04  -6.0 3.90e+02  -7.8 2.25e-02 4.21e-01H  1\n",
      "iter    objective    inf_pr   inf_du lg(mu)  ||d||  lg(rg) alpha_du alpha_pr  ls\n",
      "  10 -5.2926238e-02 1.25e+00 9.20e+03  -6.0 2.13e+02  -6.5 4.22e-02 5.18e-01h  1\n",
      "  11 -5.2934589e-02 1.23e+00 9.03e+03  -6.0 5.08e+00  -5.2 2.42e-01 1.88e-02h  1\n",
      "  12 -5.2968163e-02 1.18e+00 8.67e+03  -6.0 1.68e+01  -5.6 1.00e+00 3.98e-02h  1\n",
      "  13 -5.3858537e-02 3.76e-01 2.78e+03  -6.0 2.92e+01  -6.1 6.44e-01 6.80e-01h  1\n",
      "  14 -5.4957897e-02 2.61e-01 1.92e+03  -6.0 7.64e+01  -6.6 7.22e-02 3.08e-01h  1\n",
      "  15 -5.7619161e-02 3.82e-01 1.43e+03  -6.0 1.91e+02  -7.1 2.70e-01 2.57e-01h  1\n",
      "  16 -5.8648400e-02 4.20e-01 6.73e+02  -6.0 1.70e+02  -7.5 1.00e+00 5.29e-01h  1\n",
      "  17 -6.0498848e-02 1.02e+00 1.94e+01  -6.0 2.17e+02  -8.0 6.83e-01 9.89e-01h  1\n",
      "  18 -6.1609672e-02 1.17e+00 6.25e+01  -6.0 5.46e+02  -8.5 4.22e-02 2.83e-01h  1\n",
      "  19 -6.6602337e-02 1.01e+01 9.11e+01  -6.0 1.80e+03  -9.0 1.29e-01 3.66e-01f  1\n",
      "iter    objective    inf_pr   inf_du lg(mu)  ||d||  lg(rg) alpha_du alpha_pr  ls\n",
      "  20 -7.1748968e-02 3.83e+01 1.08e+02  -6.0 1.08e+04  -9.5 1.78e-02 1.49e-01h  1\n",
      "  21 -7.2614228e-02 1.97e+01 1.37e+02  -6.0 7.03e+02  -8.1 9.29e-02 4.87e-01h  1\n",
      "  22 -7.3202768e-02 7.09e+00 1.02e+02  -6.0 1.06e+02  -7.7 3.62e-01 6.45e-01h  1\n",
      "  23 -7.5234979e-02 1.45e+00 4.43e+02  -6.0 2.73e+02  -8.2 2.10e-03 1.00e+00h  1\n",
      "  24 -7.8691356e-02 4.02e+00 1.52e+02  -6.0 7.44e+02  -8.7 2.21e-01 6.54e-01h  1\n",
      "  25 -8.0832532e-02 1.05e+01 1.16e+02  -6.0 2.98e+03  -9.1 2.55e-01 2.37e-01h  1\n",
      "  26 -8.3943556e-02 7.58e+01 1.12e+02  -6.0 6.54e+04  -9.6 1.44e-02 3.56e-02h  1\n",
      "  27 -8.3984628e-02 7.49e+01 4.07e+04  -6.0 3.69e+03  -9.2 2.93e-01 1.28e-02h  1\n",
      "  28 -8.4517225e-02 7.31e+01 3.43e+04  -6.0 9.14e+03  -9.7 6.20e-02 2.45e-02h  1\n",
      "  29 -8.4998365e-02 7.16e+01 3.87e+04  -6.0 1.23e+04 -10.1 1.32e-02 1.94e-02h  1\n",
      "iter    objective    inf_pr   inf_du lg(mu)  ||d||  lg(rg) alpha_du alpha_pr  ls\n",
      "  30 -8.5779899e-02 7.01e+01 1.67e+04  -6.0 7.28e+03    -  2.14e-03 3.62e-02h  1\n",
      "  31 -8.5777524e-02 7.01e+01 3.97e+04  -6.0 1.34e+05 -10.6 1.93e-02 6.12e-05h  1\n",
      "  32 -8.6874531e-02 6.77e+01 4.46e+04  -6.0 6.63e+03    -  2.68e-02 3.39e-02f  1\n",
      "  33 -8.8250558e-02 6.41e+01 5.30e+04  -6.0 4.92e+03    -  3.81e-02 5.59e-02h  1\n",
      "  34 -8.8251979e-02 6.41e+01 5.95e+04  -6.0 5.08e+03    -  2.72e-02 1.16e-04h  1\n",
      "  35 -8.9271943e-02 8.69e+01 1.54e+05  -6.0 4.36e+06 -10.2 1.81e-05 6.31e-04f  1\n",
      "  36 -8.9257649e-02 8.69e+01 1.43e+05  -6.0 6.98e+04  -9.8 5.95e-03 3.19e-04h  5\n",
      "  37 -8.9262095e-02 8.69e+01 1.53e+05  -6.0 1.02e+05    -  4.55e-03 1.79e-04h  2\n",
      "  38 -8.9296042e-02 8.67e+01 1.66e+05  -6.0 1.16e+04    -  3.69e-02 1.81e-03h  1\n",
      "  39 -9.0362201e-02 8.19e+01 3.50e+05  -6.0 4.34e+03    -  5.83e-03 5.66e-02h  1\n",
      "iter    objective    inf_pr   inf_du lg(mu)  ||d||  lg(rg) alpha_du alpha_pr  ls\n",
      "  40 -9.1061408e-02 7.82e+01 3.26e+05  -6.0 4.54e+03    -  7.77e-02 4.73e-02h  1\n",
      "  41 -9.1880763e-02 7.15e+01 2.99e+05  -6.0 2.52e+03    -  5.83e-02 8.54e-02h  1\n",
      "  42 -9.2214573e-02 6.93e+01 2.92e+05  -6.0 2.43e+03    -  2.07e-01 3.17e-02h  1\n",
      "  43 -9.4026941e-02 5.47e+01 2.24e+05  -6.0 2.37e+03    -  1.54e-01 2.24e-01h  1\n",
      "  44 -9.4360384e-02 5.24e+01 2.27e+05  -6.0 4.42e+03    -  1.28e-01 5.38e-02h  1\n",
      "  45 -9.4348708e-02 5.22e+01 2.25e+05  -6.0 1.46e+04 -10.2 6.50e-04 8.76e-03h  1\n",
      "  46 -9.4527742e-02 5.14e+01 2.24e+05  -6.0 8.33e+03    -  2.03e-01 3.41e-02h  1\n",
      "  47 -9.5568307e-02 5.14e+01 1.81e+05  -6.0 4.72e+03 -10.7 4.49e-02 1.90e-01h  1\n",
      "  48 -9.5762944e-02 4.98e+01 1.75e+05  -6.0 1.97e+03    -  5.08e-02 3.27e-02h  1\n",
      "  49 -9.8095500e-02 3.24e+01 4.02e+06  -6.0 1.74e+03    -  2.35e-03 3.48e-01h  1\n",
      "iter    objective    inf_pr   inf_du lg(mu)  ||d||  lg(rg) alpha_du alpha_pr  ls\n",
      "  50 -9.8098821e-02 3.24e+01 4.02e+06  -6.0 1.04e+03  -5.8 3.40e-04 1.52e-03h  1\n",
      "  51 -9.8098161e-02 3.23e+01 4.00e+06  -6.0 8.49e+01  -5.3 3.51e-04 2.87e-03h  1\n",
      "  52 -9.7864376e-02 1.05e+01 1.30e+06  -6.0 3.85e+01  -5.8 4.45e-03 6.75e-01h  1\n",
      "  53 -9.7830886e-02 9.81e+00 1.21e+06  -6.0 3.30e+01  -6.3 8.02e-03 6.69e-02h  1\n",
      "  54 -9.7567298e-02 6.06e+00 7.51e+05  -6.0 2.45e+01  -5.9 1.31e-01 3.82e-01h  1\n",
      "  55 -9.7523392e-02 3.72e+00 4.61e+05  -6.0 3.62e+01  -6.4 6.47e-01 3.85e-01h  1\n",
      "  56 -9.7531698e-02 1.55e-01 9.06e+01  -6.0 3.02e+01  -6.8 9.11e-01 1.00e+00h  1\n",
      "  57 -9.7913342e-02 2.48e-01 1.67e+00  -6.0 4.23e+01  -7.3 1.00e+00 1.00e+00h  1\n",
      "  58 -9.8084073e-02 2.27e-01 2.90e+00  -6.0 1.18e+02  -7.8 1.00e+00 5.65e-01h  1\n",
      "  59 -9.8543662e-02 9.75e-01 2.66e+01  -6.0 6.09e+03    -  2.30e-01 3.52e-02h  1\n",
      "iter    objective    inf_pr   inf_du lg(mu)  ||d||  lg(rg) alpha_du alpha_pr  ls\n",
      "  60 -9.9149983e-02 1.09e+00 2.34e+01  -6.0 1.87e+03    -  1.23e-01 1.21e-01h  1\n",
      "  61 -9.9393945e-02 1.08e+00 2.82e+01  -6.0 7.74e+02    -  9.78e-01 8.19e-02h  1\n",
      "  62 -9.9924169e-02 1.47e+00 2.27e+01  -6.0 9.67e+02    -  5.15e-01 1.85e-01h  1\n",
      "  63 -1.0102036e-01 5.86e+00 1.39e+01  -6.0 7.09e+02    -  9.67e-03 7.35e-01h  1\n",
      "  64 -1.0090996e-01 4.72e+00 1.18e+01  -6.0 4.14e+02  -7.4 3.14e-03 2.26e-01h  1\n"
     ]
    },
    {
     "name": "stdout",
     "output_type": "stream",
     "text": [
      "  65 -1.0078532e-01 2.97e-03 1.06e+01  -6.0 5.83e+00  -6.9 3.09e-01 1.00e+00h  1\n",
      "  66 -1.0170143e-01 1.61e+01 2.34e+01  -6.0 1.04e+03    -  8.49e-02 1.00e+00h  1\n",
      "  67 -1.0201590e-01 2.43e+01 9.32e+01  -6.0 4.63e+03    -  1.07e-02 2.32e-01h  1\n",
      "  68 -1.0203671e-01 3.59e+00 1.46e+02  -6.0 4.34e+02    -  1.00e+00 9.84e-01h  1\n",
      "  69 -1.0203655e-01 2.83e+00 3.16e+03  -6.0 2.07e+03    -  1.10e-04 1.56e-02H  1\n",
      "iter    objective    inf_pr   inf_du lg(mu)  ||d||  lg(rg) alpha_du alpha_pr  ls\n",
      "  70 -1.0162692e-01 1.25e+00 1.02e+05  -6.0 1.84e+03    -  2.55e-01 1.00e+00H  1\n",
      "  71 -1.0159015e-01 2.96e-01 4.42e+02  -6.0 1.52e+02    -  9.02e-01 1.00e+00h  1\n",
      "  72 -1.0172242e-01 2.75e+00 4.10e+02  -6.0 6.20e+03    -  3.30e-01 7.12e-02h  2\n",
      "  73 -1.0181974e-01 5.95e+00 3.87e+02  -6.0 9.39e+03    -  4.01e-01 5.51e-02h  2\n",
      "  74 -1.0182024e-01 5.88e+00 3.82e+02  -6.0 1.66e+00  -7.4 9.00e-01 1.21e-02h  1\n",
      "  75 -1.0179814e-01 1.80e-03 6.67e-02  -6.0 1.13e+01  -7.9 1.00e+00 1.00e+00h  1\n",
      "  76 -1.0194987e-01 8.11e+00 2.32e+03  -6.0 1.53e+03    -  1.00e+00 7.75e-01H  1\n",
      "  77 -1.0199600e-01 9.57e+00 2.42e+04  -6.0 1.00e+04    -  8.49e-02 1.35e-02H  1\n",
      "  78 -1.0197786e-01 2.02e-01 8.32e+01  -6.0 1.23e+02    -  1.70e-01 1.00e+00h  1\n",
      "  79 -1.0198339e-01 2.22e-01 7.07e+01  -6.0 4.40e+02    -  1.00e+00 1.50e-01h  2\n",
      "iter    objective    inf_pr   inf_du lg(mu)  ||d||  lg(rg) alpha_du alpha_pr  ls\n",
      "  80 -1.0198729e-01 3.83e-02 9.35e-02  -6.0 5.78e+01    -  1.00e+00 1.00e+00h  1\n",
      "  81 -1.0198714e-01 3.49e-05 2.17e-05  -6.0 1.70e+00    -  1.00e+00 1.00e+00h  1\n",
      "  82 -1.0198715e-01 4.05e-09 9.42e-10  -6.0 1.88e-02    -  1.00e+00 1.00e+00h  1\n",
      "  83 -1.0213942e-01 1.08e+00 8.90e+01  -9.0 2.21e+02    -  8.71e-01 9.08e-01h  1\n",
      "  84 -1.0211936e-01 7.07e-01 4.96e+01  -9.0 4.06e+01    -  8.84e-01 3.67e-01h  1\n",
      "  85 -1.0208413e-01 8.78e-02 5.02e-01  -9.0 2.72e+01    -  1.00e+00 9.86e-01h  1\n",
      "  86 -1.0208282e-01 1.65e-05 1.50e-04  -9.0 5.33e-01    -  1.00e+00 1.00e+00h  1\n",
      "  87 -1.0208282e-01 3.05e-10 4.75e-11  -9.0 2.56e-04    -  1.00e+00 1.00e+00h  1\n",
      "\n",
      "Number of Iterations....: 87\n",
      "\n",
      "                                   (scaled)                 (unscaled)\n",
      "Objective...............:  -1.0208281997436849e-01   -1.0208281997436849e-01\n",
      "Dual infeasibility......:   4.7534309919037329e-11    4.7534309919037329e-11\n",
      "Constraint violation....:   3.0544247426461668e-10    3.0544247426461668e-10\n",
      "Complementarity.........:   1.4434461035274042e-09    1.4434461035274042e-09\n",
      "Overall NLP error.......:   1.4434461035274042e-09    1.4434461035274042e-09\n",
      "\n",
      "\n",
      "Number of objective function evaluations             = 112\n",
      "Number of objective gradient evaluations             = 88\n",
      "Number of equality constraint evaluations            = 112\n",
      "Number of inequality constraint evaluations          = 112\n",
      "Number of equality constraint Jacobian evaluations   = 88\n",
      "Number of inequality constraint Jacobian evaluations = 88\n",
      "Number of Lagrangian Hessian evaluations             = 87\n",
      "Total CPU secs in IPOPT (w/o function evaluations)   =     97.124\n",
      "Total CPU secs in NLP function evaluations           =      1.397\n",
      "\n",
      "EXIT: Optimal Solution Found.\n"
     ]
    }
   ],
   "source": [
    "results = opt.solve(model,tee=True)\n",
    "update_dual(pe,model)"
   ]
  },
  {
   "cell_type": "code",
   "execution_count": null,
   "metadata": {
    "scrolled": false
   },
   "outputs": [],
   "source": [
    "with HiddenLogs(log_text_dir):\n",
    "    print('\\n>','Optimized Temperature, Reflux and Product Side Draw')\n",
    "    print('-'*108)\n",
    "    beautify(pe,model)\n",
    "    check_product_spec(model)\n",
    "    log_now()\n",
    "    check_iteration()\n",
    "\n",
    "# plot_distribution(model,pdf,'Optimized Temperature, Reflux and Product Flow Rate')\n",
    "# plot_product_distribution(model,pdf)"
   ]
  },
  {
   "cell_type": "markdown",
   "metadata": {},
   "source": [
    "# Reflux tray location"
   ]
  },
  {
   "cell_type": "code",
   "execution_count": 28,
   "metadata": {},
   "outputs": [],
   "source": [
    "model.N_reflux_tray.unfix();"
   ]
  },
  {
   "cell_type": "code",
   "execution_count": 29,
   "metadata": {},
   "outputs": [
    {
     "name": "stdout",
     "output_type": "stream",
     "text": [
      "------------------------------------------------------------------------------------------------------------\n",
      "> Obj = maximize\n",
      "> P_total[gasoline] - rho_tray * ( 20 - N_reflux_tray ) - reactive[1].MPCC_P_pf.pf - reactive[2].MPCC_P_pf.pf - reactive[3].MPCC_P_pf.pf - reactive[4].MPCC_P_pf.pf - reactive[5].MPCC_P_pf.pf - reactive[6].MPCC_P_pf.pf - reactive[7].MPCC_P_pf.pf - reactive[8].MPCC_P_pf.pf - reactive[9].MPCC_P_pf.pf - reactive[10].MPCC_P_pf.pf - reactive[11].MPCC_P_pf.pf - reactive[12].MPCC_P_pf.pf - reactive[13].MPCC_P_pf.pf - reactive[14].MPCC_P_pf.pf - reactive[15].MPCC_P_pf.pf - reactive[16].MPCC_P_pf.pf - reactive[17].MPCC_P_pf.pf - reactive[18].MPCC_P_pf.pf - reactive[19].MPCC_P_pf.pf - reactive[20].MPCC_P_pf.pf - reboiler.MPCC_P_pf.pf\n",
      "------------------------------------------------------------------------------------------------------------\n"
     ]
    }
   ],
   "source": [
    "model.del_component(model.obj)\n",
    "model.obj = augmented_objective(pe,model,expr = model.P_total['gasoline'] - model.rho_tray*\\\n",
    "                                (len(model.TRAY)-model.N_reflux_tray), sense = pe.maximize)"
   ]
  },
  {
   "cell_type": "code",
   "execution_count": 30,
   "metadata": {},
   "outputs": [],
   "source": [
    "model.rho_tray = 1"
   ]
  },
  {
   "cell_type": "code",
   "execution_count": 31,
   "metadata": {
    "scrolled": false
   },
   "outputs": [
    {
     "name": "stdout",
     "output_type": "stream",
     "text": [
      "Ipopt 3.12.10: print_user_options=yes\n",
      "linear_solver=ma86\n",
      "linear_system_scaling=mc19\n",
      "max_iter=500\n",
      "warm_start_init_point=yes\n",
      "warm_start_bound_push=1e-20\n",
      "warm_start_mult_bound_push=1e-20\n",
      "mu_init=1e-06\n",
      "output_file=./tmp/ipopt_output_tmp.output\n",
      "linear_scaling_on_demand=no\n",
      "required_infeasibility_reduction=0.999999999999999\n",
      "\n",
      "\n",
      "List of user-set options:\n",
      "\n",
      "                                    Name   Value                used\n",
      "                linear_scaling_on_demand = no                    yes\n",
      "                           linear_solver = ma86                  yes\n",
      "                   linear_system_scaling = mc19                  yes\n",
      "                                max_iter = 500                   yes\n",
      "                                 mu_init = 1e-06                 yes\n",
      "                             output_file = ./tmp/ipopt_output_tmp.output  yes\n",
      "                      print_user_options = yes                   yes\n",
      "        required_infeasibility_reduction = 1                      no\n",
      "                   warm_start_bound_push = 1e-20                 yes\n",
      "                   warm_start_init_point = yes                   yes\n",
      "              warm_start_mult_bound_push = 1e-20                 yes\n",
      "\n",
      "******************************************************************************\n",
      "This program contains Ipopt, a library for large-scale nonlinear optimization.\n",
      " Ipopt is released as open source code under the Eclipse Public License (EPL).\n",
      "         For more information visit http://projects.coin-or.org/Ipopt\n",
      "******************************************************************************\n",
      "\n",
      "This is Ipopt version 3.12.10, running with linear solver ma86.\n",
      "\n",
      "Number of nonzeros in equality constraint Jacobian...:   123113\n",
      "Number of nonzeros in inequality constraint Jacobian.:      213\n",
      "Number of nonzeros in Lagrangian Hessian.............:    48797\n",
      "\n",
      "Total number of variables............................:    31479\n",
      "                     variables with only lower bounds:    12832\n",
      "                variables with lower and upper bounds:    15101\n",
      "                     variables with only upper bounds:        0\n",
      "Total number of equality constraints.................:    31401\n",
      "Total number of inequality constraints...............:       25\n",
      "        inequality constraints with only lower bounds:        4\n",
      "   inequality constraints with lower and upper bounds:        0\n",
      "        inequality constraints with only upper bounds:       21\n",
      "\n",
      "iter    objective    inf_pr   inf_du lg(mu)  ||d||  lg(rg) alpha_du alpha_pr  ls\n",
      "   0  1.8897917e+01 1.61e-04 1.00e+00  -6.0 0.00e+00    -  0.00e+00 0.00e+00   0\n",
      "   1  1.7073338e+01 3.07e+01 7.80e+00  -6.0 3.46e+07    -  1.94e-06 2.66e-05f  1\n",
      "   2  1.7073378e+01 3.07e+01 2.95e+03  -6.0 4.37e+04    -  5.49e-04 4.35e-05h  1\n",
      "   3  1.7074875e+01 3.01e+01 3.12e+03  -6.0 3.53e+03    -  4.25e-04 2.09e-02h  4\n",
      "   4  1.7071166e+01 3.00e+01 9.59e+02  -6.0 5.50e+03    -  1.03e-03 3.03e-03h  1\n",
      "   5  1.6885513e+01 2.67e+01 1.34e+05  -6.0 4.62e+03    -  2.44e-03 1.23e-01h  1\n",
      "   6  1.6828968e+01 2.45e+01 1.72e+06  -6.0 2.10e+03    -  3.29e-04 8.61e-02f  1\n",
      "   7  1.6810749e+01 2.48e+01 1.69e+06  -6.0 4.75e+04    -  2.68e-02 1.31e-02h  1\n",
      "   8  1.6701348e+01 2.50e+01 1.39e+06  -6.0 4.62e+03    -  7.08e-01 1.78e-01h  1\n",
      "   9  1.6623514e+01 3.09e+01 1.15e+06  -6.0 3.96e+03    -  3.65e-02 1.76e-01h  1\n",
      "iter    objective    inf_pr   inf_du lg(mu)  ||d||  lg(rg) alpha_du alpha_pr  ls\n",
      "  10  1.6575377e+01 3.30e+01 1.01e+06  -6.0 4.25e+03    -  3.74e-02 1.21e-01h  1\n",
      "  11  1.6571249e+01 3.27e+01 9.99e+05  -6.0 2.12e+03    -  1.08e-02 1.12e-02h  1\n",
      "  12  1.6618824e+01 3.06e+01 2.73e+06  -6.0 2.11e+03    -  1.64e-02 8.02e-02h  1\n",
      "  13  1.6586669e+01 2.84e+01 2.54e+06  -6.0 1.47e+03    -  6.72e-03 8.32e-02h  1\n",
      "  14  1.6558421e+01 2.59e+01 2.23e+06  -6.0 1.47e+03    -  2.51e-02 1.07e-01h  1\n",
      "  15  1.6520206e+01 2.35e+01 1.99e+06  -6.0 1.19e+03    -  2.53e-03 1.10e-01h  1\n",
      "  16  1.6434561e+01 1.73e+01 2.15e+06  -6.0 9.14e+02    -  2.31e-02 2.66e-01h  1\n",
      "  17r 1.6434561e+01 1.73e+01 1.00e+03   1.1 0.00e+00    -  0.00e+00 2.31e-07R  2\n",
      "  18r 1.6434481e+01 1.73e+01 1.00e+03   1.1 5.88e+04    -  3.38e-07 1.53e-07f  1\n",
      "  19  1.6434618e+01 1.73e+01 3.13e+03  -6.0 2.36e+02    -  1.00e-06 3.13e-03h  1\n",
      "iter    objective    inf_pr   inf_du lg(mu)  ||d||  lg(rg) alpha_du alpha_pr  ls\n",
      "  20  1.6436853e+01 1.66e+01 3.02e+03  -6.0 2.67e+02    -  5.20e-02 3.60e-02h  1\n",
      "  21  1.6439014e+01 1.60e+01 2.91e+03  -6.0 2.56e+02    -  4.15e-02 3.58e-02h  1\n",
      "  22r 1.6439014e+01 1.60e+01 9.99e+02   1.1 0.00e+00    -  0.00e+00 2.13e-07R  2\n",
      "  23r 1.6439017e+01 1.60e+01 4.66e+04   1.1 3.92e+04    -  3.50e-07 2.97e-08f  1\n",
      "  24  1.6439173e+01 1.60e+01 2.72e+06  -6.0 2.46e+02    -  7.34e-02 2.65e-03h  1\n",
      "  25  1.6443210e+01 1.49e+01 7.33e+07  -6.0 2.45e+02    -  2.65e-03 6.93e-02h  1\n",
      "  26  1.6444072e+01 1.47e+01 7.21e+07  -6.0 2.27e+02    -  7.89e-02 1.54e-02h  1\n",
      "  27  1.6444209e+01 1.46e+01 7.20e+07  -6.0 2.24e+02    -  4.33e-01 2.44e-03h  1\n",
      "  28  1.6470182e+01 1.29e+01 6.36e+07  -6.0 3.37e+02    -  8.56e-02 1.17e-01h  1\n",
      "  29  1.6486021e+01 1.20e+01 5.89e+07  -6.0 2.93e+02    -  1.71e-01 7.26e-02h  1\n",
      "iter    objective    inf_pr   inf_du lg(mu)  ||d||  lg(rg) alpha_du alpha_pr  ls\n",
      "  30  1.6487476e+01 1.19e+01 5.85e+07  -6.0 2.65e+02    -  8.12e-02 6.84e-03h  1\n",
      "  31  1.6512093e+01 1.05e+01 5.18e+07  -6.0 2.65e+02    -  9.07e-02 1.15e-01h  1\n",
      "  32  1.6552259e+01 8.51e+00 4.18e+07  -6.0 2.29e+02    -  4.70e-01 1.93e-01h  1\n",
      "  33  1.6570105e+01 7.75e+00 3.81e+07  -6.0 1.72e+02    -  6.51e-01 8.93e-02h  1\n",
      "  34  1.6661663e+01 4.48e+00 2.20e+07  -6.0 1.48e+02    -  6.40e-01 4.23e-01h  1\n",
      "  35  1.6701572e+01 2.07e+00 1.02e+07  -6.0 1.04e+02    -  6.53e-01 5.37e-01h  1\n",
      "  36  1.6722261e+01 1.50e+00 7.37e+06  -6.0 2.19e+02    -  8.06e-01 2.74e-01h  1\n",
      "  37  1.6716028e+01 1.38e+00 1.16e+07  -6.0 4.96e+01  -4.0 1.56e-02 8.48e-02h  1\n",
      "  38  1.6649588e+01 2.82e-01 2.98e+07  -6.0 5.82e+01  -4.5 4.30e-02 8.26e-01h  1\n",
      "  39  1.6652865e+01 2.44e-01 3.66e+07  -6.0 9.97e+01  -5.0 1.07e-01 1.45e-01h  1\n",
      "iter    objective    inf_pr   inf_du lg(mu)  ||d||  lg(rg) alpha_du alpha_pr  ls\n",
      "  40  1.6652913e+01 2.44e-01 3.66e+07  -6.0 1.00e+03  -5.4 1.54e-03 1.42e-03h  1\n",
      "  41  1.6445706e+01 1.04e+00 9.41e+07  -6.0 5.46e+02  -5.9 4.46e-05 2.71e-01f  1\n",
      "  42  1.6422778e+01 9.08e-01 8.05e+07  -6.0 1.33e+02  -5.5 5.67e-03 1.44e-01h  1\n",
      "  43  1.6418253e+01 8.85e-01 7.84e+07  -6.0 2.30e+02    -  9.46e-03 2.65e-02h  1\n",
      "  44  1.6288392e+01 1.38e+00 1.87e+07  -6.0 2.23e+02    -  5.94e-03 7.61e-01f  1\n",
      "  45  1.6288410e+01 1.38e+00 1.87e+07  -6.0 2.56e+01  -2.3 2.11e-03 4.86e-04h  1\n",
      "  46  1.6288479e+01 1.37e+00 1.86e+07  -6.0 9.82e+00  -1.9 4.42e-03 4.56e-03h  1\n",
      "  47  1.6288533e+01 1.37e+00 1.86e+07  -6.0 5.40e+02  -2.4 4.85e-05 8.80e-05h  1\n",
      "  48  1.6288535e+01 1.37e+00 1.86e+07  -6.0 1.66e+01  -2.9 2.86e-02 1.01e-04h  1\n",
      "  49  1.6291923e+01 1.32e+00 1.79e+07  -6.0 5.85e+01  -3.4 2.42e-02 4.19e-02h  1\n",
      "iter    objective    inf_pr   inf_du lg(mu)  ||d||  lg(rg) alpha_du alpha_pr  ls\n",
      "  50  1.6291921e+01 1.32e+00 1.78e+07  -6.0 8.59e+00  -3.8 3.18e-03 1.35e-03h  1\n",
      "  51  1.6291858e+01 1.31e+00 1.78e+07  -6.0 1.55e+01  -4.3 1.34e-01 3.44e-03h  1\n",
      "  52  1.6291788e+01 1.12e+00 1.52e+07  -6.0 8.69e+00  -3.9 2.56e-03 1.44e-01f  1\n",
      "  53  1.6291788e+01 1.12e+00 1.52e+07  -6.0 1.63e+02  -2.6 1.27e-07 3.29e-07h  2\n",
      "  54  1.6291788e+01 1.12e+00 1.52e+07  -6.0 7.08e+01  -2.1 2.12e-04 1.22e-07h  3\n",
      "  55r 1.6291788e+01 1.12e+00 1.00e+03   0.0 0.00e+00  -1.7 0.00e+00 3.57e-07R  4\n",
      "  56r 1.6382773e+01 1.12e+00 4.23e+03   0.0 5.67e+05    -  2.00e-08 2.77e-07f  1\n",
      "  57  1.6382784e+01 1.12e+00 4.57e+01  -6.0 1.34e+02    -  2.54e-06 1.16e-04h  1\n",
      "  58  1.6382383e+01 1.11e+00 3.50e+02  -6.0 1.17e+01    -  1.24e-04 1.29e-02f  1\n",
      "  59  1.6381305e+01 1.09e+00 3.44e+02  -6.0 1.36e+01    -  2.07e-02 1.36e-02h  1\n",
      "iter    objective    inf_pr   inf_du lg(mu)  ||d||  lg(rg) alpha_du alpha_pr  ls\n",
      "  60  1.6378792e+01 1.06e+00 3.29e+02  -6.0 1.28e+01    -  4.23e-02 3.30e-02h  1\n",
      "  61  1.6377252e+01 1.03e+00 9.57e+01  -6.0 1.24e+01    -  8.26e-02 2.41e-02h  1\n",
      "  62  1.6373604e+01 9.71e-01 1.05e+03  -6.0 1.21e+01    -  2.21e-01 5.75e-02h  1\n",
      "  63  1.6375778e+01 9.61e-01 1.08e+05  -6.0 1.60e+01    -  2.42e-02 1.10e-02h  1\n",
      "  64  1.6377704e+01 9.50e-01 1.86e+06  -6.0 1.52e+01    -  2.55e-01 1.09e-02h  1\n"
     ]
    },
    {
     "name": "stdout",
     "output_type": "stream",
     "text": [
      "  65  1.6420249e+01 7.25e-01 6.07e+06  -6.0 1.53e+01    -  3.32e-01 2.37e-01h  1\n",
      "  66  1.6445298e+01 5.54e-01 4.66e+06  -6.0 9.03e+00    -  4.40e-02 2.35e-01h  1\n",
      "  67  1.6465967e+01 3.25e-01 5.79e+06  -6.0 1.35e+01    -  2.79e-01 4.15e-01h  1\n",
      "  68  1.6419484e+01 1.39e-03 4.58e+07  -6.0 9.43e+00    -  7.72e-01 1.00e+00h  1\n",
      "  69  1.6418284e+01 1.39e-03 4.56e+07  -6.0 1.60e+01    -  3.15e-01 4.77e-03h  1\n",
      "iter    objective    inf_pr   inf_du lg(mu)  ||d||  lg(rg) alpha_du alpha_pr  ls\n",
      "  70  1.6295075e+01 2.76e-02 6.65e+07  -6.0 2.13e+01    -  7.47e-02 4.93e-01f  1\n",
      "  71  1.6295075e+01 2.76e-02 6.65e+07  -6.0 2.37e+01    -  5.30e-04 1.20e-05h  1\n",
      "  72  1.6272580e+01 2.10e-02 1.27e+08  -6.0 2.26e+01    -  9.12e-04 1.00e+00f  1\n",
      "  73  1.6253462e+01 1.53e-02 6.28e+07  -6.0 2.69e+01    -  5.44e-01 1.00e+00h  1\n",
      "  74  1.6240780e+01 1.64e-02 4.27e+07  -6.0 5.13e+01    -  4.92e-02 4.80e-01h  1\n",
      "  75  1.6219489e+01 4.10e-02 3.32e+07  -6.0 5.13e+01    -  8.69e-01 1.00e+00f  1\n",
      "  76  1.6150875e+01 4.23e-01 1.13e+07  -6.0 2.27e+02    -  5.49e-01 6.62e-01h  1\n",
      "  77  1.6150927e+01 4.11e-01 1.10e+07  -6.0 3.39e+00  -2.2 3.31e-03 2.75e-02h  1\n",
      "  78  1.6152649e+01 1.37e-01 3.65e+06  -6.0 3.23e+00  -2.7 2.04e-01 6.68e-01h  1\n",
      "  79  1.6146291e+01 1.32e-01 3.41e+06  -6.0 1.71e+02    -  4.42e-02 6.52e-02h  1\n",
      "iter    objective    inf_pr   inf_du lg(mu)  ||d||  lg(rg) alpha_du alpha_pr  ls\n",
      "  80  1.6114256e+01 2.51e-01 2.50e+06  -6.0 3.36e+02    -  1.61e-06 2.69e-01h  1\n",
      "  81  1.6080786e+01 1.20e+00 9.09e+05  -6.0 2.96e+02    -  3.52e-01 6.31e-01h  1\n",
      "  82  1.6080590e+01 1.14e+00 8.59e+05  -6.0 8.00e+00  -2.2 2.35e-03 5.43e-02h  1\n",
      "  83  1.6080607e+01 1.12e+00 8.48e+05  -6.0 1.84e+00  -1.8 1.94e-02 1.27e-02h  1\n",
      "  84  1.6080194e+01 2.09e-01 1.64e+05  -6.0 5.36e+00  -2.3 2.64e-02 8.09e-01h  1\n",
      "  85  1.6078743e+01 1.76e-01 1.37e+05  -6.0 1.27e+00  -2.8 9.08e-01 1.61e-01h  1\n",
      "  86  1.6088386e+01 1.07e-01 8.82e+04  -6.0 2.72e+00  -3.2 3.04e-03 3.90e-01h  1\n",
      "  87  1.6090788e+01 9.54e-02 7.85e+04  -6.0 2.26e+00  -3.7 4.14e-01 1.10e-01h  1\n",
      "  88  1.6090785e+01 9.54e-02 7.85e+04  -6.0 9.43e+00  -4.2 4.62e-01 5.57e-05h  1\n",
      "  89  1.6096648e+01 2.98e-02 2.76e+04  -6.0 6.20e+00  -4.7 4.44e-01 6.54e-01h  1\n",
      "iter    objective    inf_pr   inf_du lg(mu)  ||d||  lg(rg) alpha_du alpha_pr  ls\n",
      "  90  1.6096520e+01 2.96e-02 2.74e+04  -6.0 1.66e+01  -5.1 6.61e-01 5.48e-03h  1\n",
      "  91  1.6079386e+01 7.91e-03 9.25e+02  -6.0 6.84e+00  -4.7 5.61e-01 1.00e+00f  1\n",
      "  92  1.6078929e+01 7.87e-03 9.15e+02  -6.0 5.89e+01  -5.2 5.66e-01 1.07e-02h  1\n",
      "  93  1.6062514e+01 2.31e-02 1.28e+03  -6.0 1.39e+01  -4.8 1.00e+00 1.00e+00f  1\n",
      "  94  1.6041376e+01 8.94e-02 2.11e+03  -6.0 3.45e+01  -5.2 1.00e+00 1.00e+00h  1\n",
      "  95  1.6002954e+01 1.76e-01 2.98e+03  -6.0 1.11e+02  -5.7 1.00e+00 5.59e-01h  1\n",
      "  96  1.5890566e+01 1.43e+00 8.29e+03  -6.0 3.31e+02  -6.2 3.26e-01 5.72e-01h  1\n",
      "  97  1.5870781e+01 1.05e+00 1.17e+06  -6.0 1.35e+02    -  3.88e-01 3.01e-01h  1\n",
      "  98  1.5841796e+01 1.12e+00 6.91e+06  -6.0 1.84e+03    -  1.32e-01 3.42e-02h  1\n",
      "  99  1.5841121e+01 1.12e+00 6.93e+06  -6.0 2.76e+02    -  5.03e-03 6.19e-03h  1\n",
      "iter    objective    inf_pr   inf_du lg(mu)  ||d||  lg(rg) alpha_du alpha_pr  ls\n",
      " 100  1.5833242e+01 1.11e+00 6.30e+06  -6.0 1.02e+03    -  6.27e-03 1.55e-02h  1\n",
      " 101  1.5828558e+01 1.10e+00 8.22e+06  -6.0 1.07e+03    -  4.01e-02 8.68e-03h  1\n",
      " 102  1.5820838e+01 1.09e+00 7.83e+06  -6.0 1.27e+03    -  1.07e-02 1.58e-02h  1\n",
      " 103  1.5820792e+01 1.09e+00 7.59e+06  -6.0 1.21e+03    -  4.04e-03 2.42e-04h  1\n",
      " 104  1.5813005e+01 1.08e+00 7.20e+06  -6.0 1.39e+03    -  9.65e-03 1.64e-02f  1\n",
      " 105  1.5810859e+01 1.07e+00 7.19e+06  -6.0 1.62e+03    -  4.30e-03 3.94e-03h  1\n",
      " 106  1.5797632e+01 9.68e-01 1.19e+06  -6.0 2.00e+02    -  1.68e-01 1.15e-01h  1\n",
      " 107  1.5790766e+01 9.11e-01 1.12e+06  -6.0 1.28e+03    -  1.00e+00 5.97e-02h  1\n",
      " 108  1.5719702e+01 9.81e+00 4.29e+05  -6.0 1.28e+03    -  4.26e-01 6.21e-01h  1\n",
      " 109  1.5696934e+01 8.31e+00 3.37e+05  -6.0 3.19e+03    -  6.77e-02 2.13e-01h  1\n",
      "iter    objective    inf_pr   inf_du lg(mu)  ||d||  lg(rg) alpha_du alpha_pr  ls\n",
      " 110  1.5688787e+01 8.15e+00 3.12e+05  -6.0 3.35e+03    -  9.85e-02 7.51e-02h  1\n",
      " 111  1.5686686e+01 7.97e+00 3.05e+05  -6.0 6.64e+03    -  4.66e-02 2.21e-02h  1\n",
      " 112  1.5685262e+01 7.84e+00 3.00e+05  -6.0 3.73e+03    -  2.43e-02 1.72e-02h  1\n",
      " 113  1.5683462e+01 7.32e+00 2.76e+05  -6.0 1.21e+03    -  3.59e-01 7.98e-02h  1\n",
      " 114  1.5683116e+01 7.23e+00 2.72e+05  -6.0 1.27e+03    -  9.20e-02 1.32e-02h  1\n",
      " 115  1.5682030e+01 6.96e+00 1.59e+07  -6.0 1.15e+03    -  3.85e-04 4.20e-02h  1\n",
      " 116  1.5681993e+01 6.95e+00 1.59e+07  -6.0 1.18e+03    -  6.95e-05 1.34e-03h  1\n",
      " 117  1.5681963e+01 6.94e+00 1.59e+07  -6.0 1.18e+03    -  3.88e-02 1.07e-03h  1\n",
      " 118  1.5677511e+01 6.39e+00 1.33e+07  -6.0 1.18e+03    -  3.61e-07 1.62e-01f  1\n",
      " 119  1.5676769e+01 6.27e+00 1.30e+07  -6.0 1.45e+03    -  1.10e-01 2.06e-02f  1\n",
      "iter    objective    inf_pr   inf_du lg(mu)  ||d||  lg(rg) alpha_du alpha_pr  ls\n",
      " 120  1.5668585e+01 5.94e+00 1.01e+07  -6.0 1.42e+03    -  1.43e-02 2.24e-01h  1\n",
      " 121  1.5664429e+01 5.58e+00 9.27e+06  -6.0 2.30e+03    -  5.65e-02 8.27e-02h  1\n",
      " 122r 1.5664429e+01 5.58e+00 1.00e+03   0.6 0.00e+00    -  0.00e+00 7.80e-08R  2\n",
      " 123r 1.5664682e+01 5.58e+00 1.00e+03   0.6 9.88e+07    -  1.42e-07 3.80e-07f  1\n",
      " 124  1.5664301e+01 5.52e+00 9.54e+00  -6.0 1.48e+03    -  9.50e-04 1.00e-02h  1\n",
      " 125  1.5664311e+01 5.49e+00 1.77e+02  -6.0 4.09e+01    -  2.39e-01 6.67e-03h  1\n",
      " 126  1.5664945e+01 4.85e+00 2.56e+02  -6.0 3.36e+01    -  7.76e-03 1.16e-01h  1\n",
      " 127  1.5665466e+01 4.35e+00 1.69e+02  -6.0 2.82e+01    -  2.34e-01 1.04e-01h  1\n",
      " 128  1.5665624e+01 4.19e+00 5.08e+05  -6.0 2.23e+01    -  7.36e-02 3.51e-02h  1\n",
      " 129  1.5665987e+01 3.84e+00 1.30e+06  -6.0 2.05e+01    -  2.53e-01 8.35e-02h  1\n",
      "iter    objective    inf_pr   inf_du lg(mu)  ||d||  lg(rg) alpha_du alpha_pr  ls\n",
      " 130  1.5666484e+01 3.33e+00 2.63e+06  -6.0 1.75e+01    -  1.40e-01 1.34e-01h  1\n",
      " 131  1.5667419e+01 2.40e+00 2.28e+06  -6.0 1.37e+01    -  3.76e-01 2.78e-01h  1\n",
      " 132  1.5669362e+01 4.88e-01 1.43e+07  -6.0 8.62e+00    -  9.48e-02 7.97e-01h  1\n",
      " 133  1.5669406e+01 4.25e-01 1.19e+07  -6.0 1.43e+00    -  7.38e-03 1.29e-01h  1\n",
      " 134  1.5669409e+01 4.22e-01 1.18e+07  -6.0 1.23e+00    -  4.26e-01 6.42e-03h  1\n",
      " 135  1.5669687e+01 1.62e-01 9.14e+06  -6.0 2.42e+00    -  2.88e-02 6.15e-01h  1\n",
      " 136  1.5669689e+01 1.57e-01 8.82e+06  -6.0 2.30e+00    -  4.59e-02 3.33e-02h  1\n",
      " 137  1.5669693e+01 1.50e-01 8.43e+06  -6.0 2.99e+00    -  1.12e-01 4.62e-02f  1\n",
      " 138  1.5669712e+01 9.38e-02 6.29e+06  -6.0 3.36e+00    -  3.66e-01 3.74e-01h  1\n",
      " 139  1.5669634e+01 1.01e-02 6.70e+06  -6.0 5.30e+00    -  3.78e-01 8.92e-01f  1\n",
      "iter    objective    inf_pr   inf_du lg(mu)  ||d||  lg(rg) alpha_du alpha_pr  ls\n",
      " 140  1.5669331e+01 1.04e-03 1.24e+06  -6.0 8.53e+00    -  9.16e-01 1.00e+00f  1\n",
      " 141  1.5665806e+01 1.33e-01 8.47e+04  -6.0 9.67e+01    -  7.30e-01 1.00e+00h  1\n",
      " 142  1.5658579e+01 6.52e-01 2.94e+04  -6.0 3.29e+02    -  4.38e-01 6.25e-01h  1\n",
      " 143  1.5655528e+01 6.61e-01 2.44e+04  -6.0 5.50e+02    -  8.89e-01 1.65e-01h  1\n",
      " 144  1.5616868e+01 2.75e+01 2.69e+04  -6.0 6.56e+03    -  1.04e-01 1.83e-01h  1\n",
      " 145  1.5613602e+01 1.23e+01 5.96e+04  -6.0 1.36e+02  -6.7 5.23e-01 5.60e-01h  1\n",
      " 146  1.5600637e+01 8.66e+00 5.23e+05  -6.0 5.90e+02  -7.2 9.42e-01 3.57e-01h  1\n",
      " 147  1.5594332e+01 8.94e+00 5.12e+05  -6.0 5.96e+03  -7.6 7.79e-04 2.59e-02h  1\n",
      " 148  1.5550436e+01 1.15e+01 1.87e+05  -6.0 7.29e+02  -7.2 7.33e-02 1.00e+00h  1\n",
      " 149  1.5478665e+01 4.36e+01 4.22e+04  -6.0 1.76e+03  -7.7 6.35e-01 7.73e-01h  1\n",
      "iter    objective    inf_pr   inf_du lg(mu)  ||d||  lg(rg) alpha_du alpha_pr  ls\n",
      " 150  1.5462029e+01 2.88e+01 2.79e+04  -6.0 2.95e+03  -8.2 5.71e-01 3.39e-01h  1\n",
      " 151  1.5464121e+01 1.31e+01 3.57e+04  -6.0 1.85e+02    -  5.00e-01 5.44e-01h  1\n",
      " 152  1.5447201e+01 1.50e+01 7.07e+05  -6.0 1.32e+04  -8.6 1.84e-01 5.99e-02h  1\n",
      " 153  1.5442338e+01 1.36e+01 3.95e+05  -6.0 1.69e+03    -  1.63e-01 1.40e-01h  1\n",
      " 154  1.5442338e+01 1.36e+01 7.73e+05  -6.0 6.17e+02    -  3.54e-02 2.44e-05h  1\n",
      " 155  1.5435488e+01 3.64e+00 1.15e+05  -6.0 4.53e+02    -  9.32e-02 8.57e-01f  1\n",
      " 156r 1.5435488e+01 3.64e+00 1.00e+03   0.4 0.00e+00    -  0.00e+00 2.77e-07R  6\n",
      " 157r 1.5435705e+01 3.64e+00 1.00e+03   0.4 4.68e+06    -  5.67e-07 3.01e-07f  1\n"
     ]
    },
    {
     "name": "stdout",
     "output_type": "stream",
     "text": [
      " 158  1.5435446e+01 3.59e+00 3.45e+03  -6.0 8.89e+02    -  4.08e-06 1.41e-02h  1\n",
      " 159  1.5435238e+01 3.50e+00 3.36e+03  -6.0 5.02e+02    -  5.76e-03 2.44e-02h  1\n",
      "iter    objective    inf_pr   inf_du lg(mu)  ||d||  lg(rg) alpha_du alpha_pr  ls\n",
      " 160  1.5435206e+01 3.40e+00 7.82e+05  -6.0 6.10e+01    -  1.56e-02 3.08e-02h  1\n",
      " 161  1.5435129e+01 3.06e+00 8.08e+05  -6.0 2.57e+01    -  1.66e-01 9.76e-02h  1\n",
      " 162  1.5435044e+01 2.65e+00 8.83e+05  -6.0 2.48e+01    -  2.85e-01 1.36e-01h  1\n",
      " 163  1.5434877e+01 1.62e+00 5.09e+05  -6.0 2.12e+01    -  3.36e-01 3.88e-01h  1\n",
      " 164  1.5434801e+01 8.38e-01 2.63e+05  -6.0 7.72e+00    -  9.78e-01 4.83e-01h  1\n",
      " 165  1.5434260e+01 6.72e-03 2.66e+02  -6.0 2.47e+01    -  9.97e-01 1.00e+00h  1\n",
      " 166  1.5420698e+01 4.29e+00 3.98e+02  -6.0 2.22e+03    -  7.69e-01 2.72e-01h  1\n",
      " 167  1.5420536e+01 6.07e-03 3.96e+02  -6.0 2.00e+01    -  7.25e-02 1.00e+00h  1\n",
      " 168  1.5420536e+01 2.42e-03 1.58e+02  -6.0 1.18e+00    -  1.00e+00 6.02e-01h  1\n",
      " 169  1.5420538e+01 4.31e-06 3.27e-02  -6.0 5.32e-01    -  1.00e+00 1.00e+00f  1\n",
      "iter    objective    inf_pr   inf_du lg(mu)  ||d||  lg(rg) alpha_du alpha_pr  ls\n",
      " 170  1.5420538e+01 4.58e-10 1.47e-08  -6.0 1.53e-04    -  1.00e+00 1.00e+00h  1\n",
      " 171  1.5420499e+01 3.59e-04 5.48e+01  -9.0 5.96e+00    -  9.05e-01 8.18e-01h  1\n",
      " 172  1.5420497e+01 2.15e-04 6.10e+01  -9.0 1.09e+00    -  9.62e-01 4.08e-01h  1\n",
      " 173  1.5420494e+01 6.46e-05 1.79e+01  -9.0 6.49e-01    -  1.00e+00 7.15e-01f  1\n",
      " 174  1.5420494e+01 2.43e-05 6.66e+00  -9.0 1.84e-01    -  1.00e+00 6.27e-01h  1\n",
      " 175  1.5420493e+01 7.04e-08 1.04e-02  -9.0 6.84e-02    -  1.00e+00 1.00e+00f  1\n",
      " 176  1.5420493e+01 2.82e-10 3.86e-09  -9.0 3.11e-05    -  1.00e+00 1.00e+00h  1\n",
      "\n",
      "Number of Iterations....: 176\n",
      "\n",
      "                                   (scaled)                 (unscaled)\n",
      "Objective...............:   1.5420493496707236e+01    1.5420493496707236e+01\n",
      "Dual infeasibility......:   3.8573745031467155e-09    3.8573745031467155e-09\n",
      "Constraint violation....:   2.8214226354544847e-10    2.8214226354544847e-10\n",
      "Complementarity.........:   1.0001253987120311e-09    1.0001253987120311e-09\n",
      "Overall NLP error.......:   1.0001253987120311e-09    3.8573745031467155e-09\n",
      "\n",
      "\n",
      "Number of objective function evaluations             = 201\n",
      "Number of objective gradient evaluations             = 177\n",
      "Number of equality constraint evaluations            = 201\n",
      "Number of inequality constraint evaluations          = 201\n",
      "Number of equality constraint Jacobian evaluations   = 182\n",
      "Number of inequality constraint Jacobian evaluations = 182\n",
      "Number of Lagrangian Hessian evaluations             = 176\n",
      "Total CPU secs in IPOPT (w/o function evaluations)   =    136.510\n",
      "Total CPU secs in NLP function evaluations           =      2.695\n",
      "\n",
      "EXIT: Optimal Solution Found.\n"
     ]
    }
   ],
   "source": [
    "results = opt.solve(model,tee=True)\n",
    "update_dual(pe,model)"
   ]
  },
  {
   "cell_type": "code",
   "execution_count": null,
   "metadata": {},
   "outputs": [],
   "source": [
    "with HiddenLogs(log_text_dir):\n",
    "    print('\\n>','rho = {:.2f}'.format(model.rho_tray.value))\n",
    "    print('-'*108)\n",
    "    beautify(pe,model)\n",
    "    check_product_spec(model)\n",
    "    log_now()\n",
    "    check_iteration()\n",
    "\n",
    "# plot_distribution(model,pdf,'Optimized Temperature, Reflux and Product Flow Rate')\n",
    "# plot_product_distribution(model,pdf)"
   ]
  },
  {
   "cell_type": "markdown",
   "metadata": {},
   "source": [
    "# Open up feed allocation"
   ]
  },
  {
   "cell_type": "code",
   "execution_count": null,
   "metadata": {},
   "outputs": [],
   "source": [
    "for j in model.reactive:\n",
    "    model.reactive[j].F.unfix()\n",
    "    model.reactive[j].F.setlb(0)\n",
    "    model.reactive[j].F.setub(10)"
   ]
  },
  {
   "cell_type": "code",
   "execution_count": null,
   "metadata": {},
   "outputs": [],
   "source": [
    "model.total_feed_con = pe.ConstraintList()\n",
    "model.total_feed_con.add(expr = sum(model.reactive[j].F for j in model.reactive) == 10);"
   ]
  },
  {
   "cell_type": "code",
   "execution_count": null,
   "metadata": {
    "scrolled": true
   },
   "outputs": [],
   "source": [
    "results = opt.solve(model,tee=True)\n",
    "update_dual(pe,model)"
   ]
  },
  {
   "cell_type": "code",
   "execution_count": null,
   "metadata": {
    "scrolled": true
   },
   "outputs": [],
   "source": [
    "with HiddenLogs(log_text_dir):\n",
    "    print('\\n>','Optimized Feed Amount and Location')\n",
    "    print('-'*108)\n",
    "    beautify(pe,model)\n",
    "    check_product_spec(model)\n",
    "    log_now()\n",
    "    check_iteration()\n",
    "\n",
    "# plot_distribution(model,pdf,'Optimized Feed Amount and Location')\n",
    "# plot_product_distribution(model,pdf)"
   ]
  },
  {
   "cell_type": "markdown",
   "metadata": {},
   "source": [
    "# Open up catalyst allocation ( = TOTAL reconstruction, long wait time)"
   ]
  },
  {
   "cell_type": "code",
   "execution_count": null,
   "metadata": {},
   "outputs": [],
   "source": [
    "for j in model.reactive:\n",
    "    model.reactive[j].cat.unfix()\n",
    "    model.reactive[j].cat.setlb(10)\n",
    "    model.reactive[j].cat.setub(30000)"
   ]
  },
  {
   "cell_type": "code",
   "execution_count": null,
   "metadata": {},
   "outputs": [],
   "source": [
    "model.total_cat_con = pe.ConstraintList()\n",
    "model.total_cat_con.add(expr = sum(model.reactive[j].cat for j in model.reactive) == 10*3000);"
   ]
  },
  {
   "cell_type": "code",
   "execution_count": null,
   "metadata": {
    "scrolled": true
   },
   "outputs": [],
   "source": [
    "results = opt.solve(model,tee=True)\n",
    "update_dual(pe,model)"
   ]
  },
  {
   "cell_type": "code",
   "execution_count": null,
   "metadata": {},
   "outputs": [],
   "source": [
    "with HiddenLogs(log_text_dir):\n",
    "    print('\\n>','Optimized Catalyst Amount and Location')\n",
    "    print('-'*108)\n",
    "    beautify(pe,model)\n",
    "    check_product_spec(model)\n",
    "    log_now()\n",
    "    check_iteration()\n",
    "\n",
    "plot_distribution(model,pdf,'Optimized Catalyst Amount and Location')\n",
    "plot_product_distribution(model,pdf)"
   ]
  },
  {
   "cell_type": "markdown",
   "metadata": {},
   "source": [
    "# Use DDF,  open up gasoline location"
   ]
  },
  {
   "cell_type": "code",
   "execution_count": null,
   "metadata": {},
   "outputs": [],
   "source": [
    "model.N_tray['gasoline'].unfix();\n",
    "model.N_tray['gasoline'].setlb(4)\n",
    "model.N_tray['gasoline'].setub(10)"
   ]
  },
  {
   "cell_type": "code",
   "execution_count": null,
   "metadata": {
    "scrolled": true
   },
   "outputs": [],
   "source": [
    "results = opt.solve(model,tee=True)\n",
    "update_dual(pe,model)"
   ]
  },
  {
   "cell_type": "code",
   "execution_count": null,
   "metadata": {},
   "outputs": [],
   "source": [
    "with HiddenLogs(log_text_dir):\n",
    "    print('\\n>','Optimized Gasoline Location')\n",
    "    print('-'*108)\n",
    "    beautify(pe,model)\n",
    "    check_product_spec(model)\n",
    "    log_now()\n",
    "    check_iteration()\n",
    "\n",
    "plot_distribution(model,pdf,'Optimized Gasoline Location')\n",
    "plot_product_distribution(model,pdf)"
   ]
  },
  {
   "cell_type": "code",
   "execution_count": null,
   "metadata": {},
   "outputs": [],
   "source": [
    "model.N_tray['diesel'].unfix();\n",
    "model.N_tray['diesel'].setlb(5)\n",
    "model.N_tray['diesel'].setub(20)"
   ]
  },
  {
   "cell_type": "code",
   "execution_count": null,
   "metadata": {
    "scrolled": true
   },
   "outputs": [],
   "source": [
    "results = opt.solve(model,tee=True)\n",
    "update_dual(pe,model)"
   ]
  },
  {
   "cell_type": "code",
   "execution_count": null,
   "metadata": {},
   "outputs": [],
   "source": [
    "with HiddenLogs(log_text_dir):\n",
    "    print('\\n>','Optimized Diesel Location')\n",
    "    print('-'*108)\n",
    "    beautify(pe,model)\n",
    "    check_product_spec(model)\n",
    "    log_now()\n",
    "    check_iteration()\n",
    "\n",
    "plot_distribution(model,pdf,'Optimized Diesel Location')\n",
    "plot_product_distribution(model,pdf)"
   ]
  },
  {
   "cell_type": "code",
   "execution_count": null,
   "metadata": {},
   "outputs": [],
   "source": [
    "pdf.close()"
   ]
  },
  {
   "cell_type": "code",
   "execution_count": null,
   "metadata": {},
   "outputs": [],
   "source": [
    "# with open('./log/model/{}.pickle'.format(logname),'wb') as f:\n",
    "#     dill.dump(model,f)"
   ]
  },
  {
   "cell_type": "code",
   "execution_count": null,
   "metadata": {},
   "outputs": [],
   "source": []
  }
 ],
 "metadata": {
  "kernelspec": {
   "display_name": "Python 3",
   "language": "python",
   "name": "python3"
  },
  "language_info": {
   "codemirror_mode": {
    "name": "ipython",
    "version": 3
   },
   "file_extension": ".py",
   "mimetype": "text/x-python",
   "name": "python",
   "nbconvert_exporter": "python",
   "pygments_lexer": "ipython3",
   "version": "3.6.5"
  }
 },
 "nbformat": 4,
 "nbformat_minor": 2
}
