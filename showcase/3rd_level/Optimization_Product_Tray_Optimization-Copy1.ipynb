{
 "cells": [
  {
   "cell_type": "code",
   "execution_count": 1,
   "metadata": {},
   "outputs": [
    {
     "name": "stdout",
     "output_type": "stream",
     "text": [
      "============================================================================================================\n",
      "2018-07-18 16:47:44 - Start Program\n",
      "============================================================================================================\n"
     ]
    }
   ],
   "source": [
    "%matplotlib inline\n",
    "'''\n",
    "How to Optimize Your Dragon: V1\n",
    "Import initialized model and start the optimization\n",
    "'''\n",
    "# system imports\n",
    "import sys\n",
    "import os\n",
    "import datetime\n",
    "sys.path.append(os.path.abspath('..'))\n",
    "sys.path.append(os.path.abspath('../..'))\n",
    "\n",
    "import numpy as np\n",
    "from matplotlib import pyplot as plt\n",
    "from matplotlib.backends.backend_pdf import PdfPages\n",
    "\n",
    "import dill\n",
    "\n",
    "# pyomo imports\n",
    "from pyomo import environ as pe\n",
    "from global_sets.component import m\n",
    "\n",
    "from stages.reactive_stage import reactive_stage_rule\n",
    "from stages.condenser_stage import condenser_stage_rule\n",
    "from stages.reboiler_stage import reboiler_stage_rule\n",
    "\n",
    "from utility.display_utility import beautify, beautify_reactive, HiddenLogs, HiddenPrints, plot_distribution,\\\n",
    "                                    trans_cnumber, trans_product_mole, check_product_spec\n",
    "from utility.model_utility import add_dual, update_dual, delete_dual, check_DOF, tray_translator, check_iteration# , check_violate_constraint\n",
    "from utility.data_utility import cal_cnumber\n",
    "from utility.time_utility import create_filename_time, log_now, log_end"
   ]
  },
  {
   "cell_type": "code",
   "execution_count": 2,
   "metadata": {},
   "outputs": [],
   "source": [
    "logname = create_filename_time()\n",
    "log_text_dir = './log/text/opt_'+logname+'.dat'\n",
    "log_figure_dir = './log/figure/opt_'+logname+'.pdf'"
   ]
  },
  {
   "cell_type": "code",
   "execution_count": 3,
   "metadata": {},
   "outputs": [],
   "source": [
    "with open('./log/model/stage_20_TRP_ratio.pickle','rb') as f:\n",
    "    model = dill.load(f)"
   ]
  },
  {
   "cell_type": "code",
   "execution_count": 5,
   "metadata": {},
   "outputs": [],
   "source": [
    "model.P_tray_ratio[:,:].fix(0)\n",
    "model.P_tray_ratio[:,'intermediate'].unfix();\n",
    "model.P_tray_ratio['condenser','naphtha'].fix(1)\n",
    "# model.P_tray_ratio['4','intermediate'].fix(1)\n",
    "model.P_tray_ratio['7','gasoline'].fix(1)\n",
    "model.P_tray_ratio['10','diesel'].fix(1)\n",
    "model.P_tray_ratio['reboiler','heavy'].fix(1)"
   ]
  },
  {
   "cell_type": "code",
   "execution_count": 6,
   "metadata": {},
   "outputs": [
    {
     "name": "stdout",
     "output_type": "stream",
     "text": [
      "Active Equality Constraints:\t 29799\n",
      "Active Inequality Constraints:\t 25\n",
      "Active Variables:\t\t 30352\n",
      "Fixed Variables:\t\t 476\n",
      "DOF:\t\t\t\t 77\n"
     ]
    }
   ],
   "source": [
    "check_DOF(pe,model)"
   ]
  },
  {
   "cell_type": "markdown",
   "metadata": {},
   "source": [
    "# Open up product mixing and match"
   ]
  },
  {
   "cell_type": "code",
   "execution_count": null,
   "metadata": {},
   "outputs": [],
   "source": [
    "for j in model.reactive:\n",
    "    model.reactive[j].PR_L.unfix()"
   ]
  },
  {
   "cell_type": "code",
   "execution_count": null,
   "metadata": {
    "scrolled": true
   },
   "outputs": [],
   "source": [
    "results = opt.solve(model,tee=True)\n",
    "update_dual(pe,model)"
   ]
  },
  {
   "cell_type": "code",
   "execution_count": null,
   "metadata": {},
   "outputs": [],
   "source": [
    "plot_distribution(model)"
   ]
  },
  {
   "cell_type": "markdown",
   "metadata": {},
   "source": [
    "# Open up feed allocation"
   ]
  },
  {
   "cell_type": "markdown",
   "metadata": {},
   "source": [
    "**Parameters:**\n",
    "* Stage Temperature\n",
    "    * Rectifying section: 200C - 300C\n",
    "    * Stripping section: 200C - 300C\n",
    "* Reflux\n",
    "    * Distillate / (Distillate + Reflux): 0.5 - 0.05, Refulx Ratio: 1 - 19\n",
    "* Side-draw\n",
    "    * PR_L: 0 - 1\n",
    "    \n",
    "* Feed\n",
    "    * F: 0 - 3\n",
    "\n",
    "**Constraints:**\n",
    "* Product\n",
    "    * Distillate: C5~C7 >= 0.75\n",
    "    * Gasoline: C8~C12 >= 0.75\n",
    "    * Diesel: C13~C18 >= 0.6\n",
    "    * Heavy: C19+ >= 0.85\n",
    "    \n",
    "* Total feed\n",
    "    * Total feed = 10 kmol/s\n",
    "    \n",
    "**Objective:**\n",
    "* Max gasoline production"
   ]
  },
  {
   "cell_type": "code",
   "execution_count": null,
   "metadata": {},
   "outputs": [],
   "source": [
    "# for j in model.reactive:\n",
    "#     model.reactive[j].F.unfix()\n",
    "#     model.reactive[j].F.setlb(0)\n",
    "#     model.reactive[j].F.setub(10)"
   ]
  },
  {
   "cell_type": "code",
   "execution_count": null,
   "metadata": {},
   "outputs": [],
   "source": [
    "# model.total_feed_con = pe.ConstraintList()"
   ]
  },
  {
   "cell_type": "code",
   "execution_count": null,
   "metadata": {},
   "outputs": [],
   "source": [
    "# model.total_feed_con.add(expr = sum(model.reactive[j].F for j in model.reactive) == 10);"
   ]
  },
  {
   "cell_type": "code",
   "execution_count": null,
   "metadata": {
    "scrolled": true
   },
   "outputs": [],
   "source": [
    "# results = opt.solve(model,tee=True)\n",
    "# update_dual(pe,model)"
   ]
  },
  {
   "cell_type": "code",
   "execution_count": null,
   "metadata": {},
   "outputs": [],
   "source": [
    "# with HiddenLogs(log_text_dir):\n",
    "#     print('\\n>','Optimized Feed Amount and Location')\n",
    "#     print('-'*108)\n",
    "#     beautify(pe,model)\n",
    "#     see_product(model)\n",
    "#     log_now()\n",
    "\n",
    "# plot_distribution(model,pdf,'Optimized Feed Amount and Location')"
   ]
  },
  {
   "cell_type": "markdown",
   "metadata": {},
   "source": [
    "# Open up catalyst allocation ( = TOTAL reconstruction, long wait time)"
   ]
  },
  {
   "cell_type": "markdown",
   "metadata": {},
   "source": [
    "**Parameters:**\n",
    "* Stage Temperature\n",
    "    * Rectifying section: 200C - 300C\n",
    "    * Stripping section: 200C - 300C\n",
    "* Reflux\n",
    "    * Distillate / (Distillate + Reflux): 0.5 - 0.05, Refulx Ratio: 1 - 19\n",
    "* Side-draw\n",
    "    * PR_L: 0 - 1\n",
    "    \n",
    "* Feed\n",
    "    * F: 0 - 3\n",
    "        \n",
    "* Catalyst\n",
    "    * cat: 0 - 10000\n",
    "\n",
    "**Constraints:**\n",
    "* Product\n",
    "    * Distillate: C5~C7 >= 0.75\n",
    "    * Gasoline: C8~C12 >= 0.75 / 0.8\n",
    "    * Diesel: C13~C18 >= 0.6\n",
    "    * Heavy: C19+ >= 0.85\n",
    "    \n",
    "* Total feed\n",
    "    * sum feed = 10 kmol/s\n",
    "    \n",
    "* Total catalyst\n",
    "    * sum cat = 30000 kg\n",
    "    \n",
    "**Objective:**\n",
    "* Max gasoline production"
   ]
  },
  {
   "cell_type": "code",
   "execution_count": null,
   "metadata": {},
   "outputs": [],
   "source": [
    "# for j in model.reactive:\n",
    "#     model.reactive[j].cat.unfix()\n",
    "#     model.reactive[j].cat.setlb(0)\n",
    "#     model.reactive[j].cat.setub(30000)"
   ]
  },
  {
   "cell_type": "code",
   "execution_count": null,
   "metadata": {},
   "outputs": [],
   "source": [
    "# model.total_cat_con = pe.ConstraintList()"
   ]
  },
  {
   "cell_type": "code",
   "execution_count": null,
   "metadata": {},
   "outputs": [],
   "source": [
    "# model.total_cat_con.add(expr = sum(model.reactive[j].cat for j in model.reactive) == 10*3000);"
   ]
  },
  {
   "cell_type": "code",
   "execution_count": null,
   "metadata": {
    "scrolled": true
   },
   "outputs": [],
   "source": [
    "# results = opt.solve(model,tee=True)\n",
    "# update_dual(pe,model)"
   ]
  },
  {
   "cell_type": "code",
   "execution_count": null,
   "metadata": {},
   "outputs": [],
   "source": [
    "# with HiddenLogs(log_text_dir):\n",
    "#     print('\\n>','Optimized Catalyst Amount and Location')\n",
    "#     print('-'*108)\n",
    "#     beautify(pe,model)\n",
    "#     see_product(model)\n",
    "#     log_now()\n",
    "\n",
    "# plot_distribution(model,pdf,'Optimized Catalyst Amount and Location')"
   ]
  },
  {
   "cell_type": "code",
   "execution_count": null,
   "metadata": {},
   "outputs": [],
   "source": [
    "pdf.close()"
   ]
  },
  {
   "cell_type": "code",
   "execution_count": null,
   "metadata": {},
   "outputs": [],
   "source": [
    "# with open('./log/model/{}.pickle'.format(logname),'wb') as f:\n",
    "#     dill.dump(model,f)"
   ]
  },
  {
   "cell_type": "code",
   "execution_count": null,
   "metadata": {
    "scrolled": true
   },
   "outputs": [],
   "source": [
    "# for j in model.TRAY_reactive:\n",
    "#     print('stage',j,'\\n')\n",
    "#     print('Total Flow\\t{}'.format(model.reactive[j].F.value + sum(model.reactive[j].r_total_comp[i].value for i in m.COMP_TOTAL)))\n",
    "#     for i in m.COMP_TOTAL:\n",
    "#         if i in m.COMP_FEED:\n",
    "#             print('{}\\t\\t{}'.format(i,model.reactive[j].F.value*model.reactive[j].z[i].value + model.reactive[j].r_total_comp[i].value))\n",
    "#         else:\n",
    "#             print('{}\\t\\t{}'.format(i,model.reactive[j].r_total_comp[i].value))"
   ]
  },
  {
   "cell_type": "code",
   "execution_count": null,
   "metadata": {},
   "outputs": [],
   "source": []
  }
 ],
 "metadata": {
  "kernelspec": {
   "display_name": "Python 3",
   "language": "python",
   "name": "python3"
  },
  "language_info": {
   "codemirror_mode": {
    "name": "ipython",
    "version": 3
   },
   "file_extension": ".py",
   "mimetype": "text/x-python",
   "name": "python",
   "nbconvert_exporter": "python",
   "pygments_lexer": "ipython3",
   "version": "3.6.3"
  }
 },
 "nbformat": 4,
 "nbformat_minor": 2
}
