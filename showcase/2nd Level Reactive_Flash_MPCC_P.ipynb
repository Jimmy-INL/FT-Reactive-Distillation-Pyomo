{
 "cells": [
  {
   "cell_type": "markdown",
   "metadata": {
    "slideshow": {
     "slide_type": "slide"
    }
   },
   "source": [
    "# 2nd Level Model Structure: Reactive Stage"
   ]
  },
  {
   "cell_type": "code",
   "execution_count": 1,
   "metadata": {},
   "outputs": [],
   "source": [
    "import sys\n",
    "import os\n",
    "import pickle\n",
    "sys.path.append(os.path.abspath('..'))\n",
    "import numpy as np\n",
    "from matplotlib import pyplot as plt"
   ]
  },
  {
   "cell_type": "code",
   "execution_count": 2,
   "metadata": {
    "slideshow": {
     "slide_type": "fragment"
    }
   },
   "outputs": [],
   "source": [
    "from pyomo import environ as pe\n",
    "from global_sets.component import m\n",
    "from utility.display_utility import trans_product_mole, trans_product_mass\n",
    "from utility.model_utility import add_dual, update_dual, check_DOF\n",
    "\n",
    "# stage construction rules\n",
    "from physics.kinetics_bounded import kinetic_block_rule\n",
    "from physics.energy_bounded import energy_block_rule\n",
    "from physics.VLE_bounded_MPCC_P import VLE_block_rule\n",
    "from physics.MPCC_P import P_NCP_block_rule, P_Reg_block_rule, P_pf_block_rule\n",
    "\n",
    "model = pe.ConcreteModel()"
   ]
  },
  {
   "cell_type": "markdown",
   "metadata": {
    "slideshow": {
     "slide_type": "subslide"
    }
   },
   "source": [
    "# Global Sets (Inlet / Outlet)"
   ]
  },
  {
   "cell_type": "code",
   "execution_count": 3,
   "metadata": {
    "slideshow": {
     "slide_type": "fragment"
    }
   },
   "outputs": [],
   "source": [
    "model.inlet = pe.Set(initialize=['in'])\n",
    "model.outlet = pe.Set(initialize=['out','P'])\n",
    "model.stream = model.inlet | model.outlet"
   ]
  },
  {
   "cell_type": "markdown",
   "metadata": {
    "slideshow": {
     "slide_type": "subslide"
    }
   },
   "source": [
    "# Global Variables"
   ]
  },
  {
   "cell_type": "code",
   "execution_count": 4,
   "metadata": {
    "slideshow": {
     "slide_type": "fragment"
    }
   },
   "outputs": [],
   "source": [
    "# Tray Inlet/Outlet Variable\n",
    "model.x_ = pe.Var(model.inlet,m.COMP_TOTAL,within=pe.NonNegativeReals)\n",
    "model.y_ = pe.Var(model.inlet,m.COMP_TOTAL,within=pe.NonNegativeReals)\n",
    "model.x = pe.Var(m.COMP_TOTAL,within=pe.NonNegativeReals)\n",
    "model.y = pe.Var(m.COMP_TOTAL,within=pe.NonNegativeReals)\n",
    "model.z = pe.Var(m.COMP_FEED,within=pe.NonNegativeReals)\n",
    "\n",
    "model.L = pe.Var(model.stream,within=pe.NonNegativeReals)\n",
    "model.V = pe.Var(model.stream,within=pe.NonNegativeReals)\n",
    "model.F = pe.Var(within=pe.NonNegativeReals)\n",
    "\n",
    "model.H_L_ = pe.Var(model.inlet,within=pe.Reals)\n",
    "model.H_V_ = pe.Var(model.inlet,within=pe.Reals)\n",
    "model.H_L = pe.Var(within=pe.Reals)\n",
    "model.H_V = pe.Var(within=pe.Reals)\n",
    "model.H_F = pe.Var(within=pe.Reals)\n",
    "\n",
    "# State Variable\n",
    "model.T = pe.Var(within=pe.NonNegativeReals,bounds=(200+273.15,300+273.15)) # K\n",
    "model.T_F = pe.Var(within=pe.NonNegativeReals) # K\n",
    "model.P = pe.Var(within=pe.NonNegativeReals,bounds=(10,30)) # Bar\n",
    "\n",
    "model.f_V = pe.Var(m.COMP_TOTAL,within=pe.NonNegativeReals,initialize=1e-20)\n",
    "model.f_L = pe.Var(m.COMP_TOTAL,within=pe.NonNegativeReals,initialize=1e-20)\n",
    "\n",
    "model.cat = pe.Var(within=pe.NonNegativeReals,initialize=3000) # kg\n",
    "model.Q_main = pe.Var(within=pe.Reals) # MW\n",
    "model.r_total_comp = pe.Var(m.COMP_TOTAL,within=pe.Reals) # kmol/s"
   ]
  },
  {
   "cell_type": "markdown",
   "metadata": {
    "slideshow": {
     "slide_type": "slide"
    }
   },
   "source": [
    "# Construct Individual Blocks"
   ]
  },
  {
   "cell_type": "code",
   "execution_count": 5,
   "metadata": {
    "slideshow": {
     "slide_type": "subslide"
    }
   },
   "outputs": [
    {
     "name": "stdout",
     "output_type": "stream",
     "text": [
      "> Importing Kinetics Blocks......\n",
      "> Adding the following local variable:\n",
      "--------------------------------------------------\n",
      "| kinetics_block.k_FT\n",
      "| kinetics_block.r_FT_total\n",
      "| kinetics_block.g0_FT\n",
      "| kinetics_block.alpha\n",
      "| kinetics_block.r_FT_cnum\n",
      "| kinetics_block.r_FT_comp\n",
      "| kinetics_block.k_WGS\n",
      "| kinetics_block.Ke_WGS\n",
      "| kinetics_block.r_WGS\n",
      "| kinetics_block.r_WGS_comp\n",
      "--------------------------------------------------\n",
      "\n"
     ]
    }
   ],
   "source": [
    "model.kinetics_block = pe.Block(rule=kinetic_block_rule)"
   ]
  },
  {
   "cell_type": "code",
   "execution_count": 6,
   "metadata": {
    "slideshow": {
     "slide_type": "subslide"
    }
   },
   "outputs": [
    {
     "name": "stdout",
     "output_type": "stream",
     "text": [
      "> Importing Energy Blocks......\n",
      "> Adding the following local variable:\n",
      "--------------------------------------------------\n",
      "| energy_block.dH_F\n",
      "| energy_block.dH_V\n",
      "| energy_block.dH_L\n",
      "| energy_block.dH_vap\n",
      "--------------------------------------------------\n",
      "\n"
     ]
    }
   ],
   "source": [
    "model.energy_block = pe.Block(rule=energy_block_rule)"
   ]
  },
  {
   "cell_type": "code",
   "execution_count": 7,
   "metadata": {
    "scrolled": false,
    "slideshow": {
     "slide_type": "subslide"
    }
   },
   "outputs": [
    {
     "name": "stdout",
     "output_type": "stream",
     "text": [
      "> Importing VLE Blocks......\n",
      "> Adding the following local variable:\n",
      "--------------------------------------------------\n",
      "| VLE_block.P_VLE\n",
      "| VLE_block.n_ave\n",
      "| VLE_block.n_ave_cal\n",
      "| VLE_block.Hen\n",
      "| VLE_block.Hen0\n",
      "| VLE_block.gamma\n",
      "| VLE_block.P_sat\n",
      "| VLE_block.P_sat_Y\n",
      "| VLE_block.P_sat_dY_inf\n",
      "| VLE_block.P_sat_dY0\n",
      "| VLE_block.Hen_ref\n",
      "| VLE_block.Hen0_ref\n",
      "| VLE_block.gamma_ref\n",
      "| VLE_block.V_L\n",
      "| VLE_block.V_L_dY_inf\n",
      "| VLE_block.V_L_dY0\n",
      "| VLE_block.poynting\n",
      "--------------------------------------------------\n",
      "\n"
     ]
    }
   ],
   "source": [
    "model.VLE_block = pe.Block(rule=VLE_block_rule)"
   ]
  },
  {
   "cell_type": "markdown",
   "metadata": {
    "slideshow": {
     "slide_type": "slide"
    }
   },
   "source": [
    "# Standard MESH Equations"
   ]
  },
  {
   "cell_type": "markdown",
   "metadata": {
    "slideshow": {
     "slide_type": "subslide"
    }
   },
   "source": [
    "## Mass Balance"
   ]
  },
  {
   "cell_type": "markdown",
   "metadata": {
    "slideshow": {
     "slide_type": "fragment"
    }
   },
   "source": [
    "\\begin{equation}\n",
    "Fz_{i}+\\sum_{s\\in{inlet}}L_{s}x'_{i,s}+\\sum_{s\\in{inlet}}V_{s}y'_{i,s}-\\sum_{s\\in{outlet}}L_{s}x_{i,s}+\\sum_{s\\in{ouelet}}V_{s}y_{i,s}+R_{i} = 0 \\\\\n",
    "i = 1,...NC\n",
    "\\end{equation}"
   ]
  },
  {
   "cell_type": "code",
   "execution_count": 8,
   "metadata": {
    "slideshow": {
     "slide_type": "fragment"
    }
   },
   "outputs": [],
   "source": [
    "def mass_balance_main_rule(model,i):\n",
    "    if i in m.COMP_FEED:\n",
    "        return model.F*model.z[i] + sum(model.L[s]*model.x_[s,i] + model.V[s]*model.y_[s,i] for s in model.inlet)\\\n",
    "        + model.r_total_comp[i] - sum(model.L[s]*model.x[i] + model.V[s]*model.y[i] for s in model.outlet) == 0\n",
    "    else:\n",
    "        return sum(model.L[s]*model.x_[s,i] + model.V[s]*model.y_[s,i] for s in model.inlet)\\\n",
    "        + model.r_total_comp[i] - sum(model.L[s]*model.x[i] + model.V[s]*model.y[i] for s in model.outlet) == 0\n",
    "model.mass_balance_main_con = pe.Constraint(m.COMP_TOTAL,rule=mass_balance_main_rule)"
   ]
  },
  {
   "cell_type": "markdown",
   "metadata": {
    "slideshow": {
     "slide_type": "subslide"
    }
   },
   "source": [
    "## Equilibrium"
   ]
  },
  {
   "cell_type": "markdown",
   "metadata": {
    "slideshow": {
     "slide_type": "fragment"
    }
   },
   "source": [
    "\\begin{align}\n",
    "&f_{i,V} = f_{i,L} \\\\\n",
    "&i = 1,...NC\n",
    "\\end{align}"
   ]
  },
  {
   "cell_type": "code",
   "execution_count": 9,
   "metadata": {
    "slideshow": {
     "slide_type": "fragment"
    }
   },
   "outputs": [],
   "source": [
    "def VL_equil_rule(model,i):\n",
    "    return model.f_V[i] == model.f_L[i]\n",
    "model.VL_equil_con = pe.Constraint(m.COMP_TOTAL,rule=VL_equil_rule)"
   ]
  },
  {
   "cell_type": "markdown",
   "metadata": {},
   "source": [
    "## MPCC: P-Pspec"
   ]
  },
  {
   "cell_type": "code",
   "execution_count": 10,
   "metadata": {
    "scrolled": false
   },
   "outputs": [
    {
     "name": "stdout",
     "output_type": "stream",
     "text": [
      "> Importing MPCC_P_Reg Blocks......\n",
      "> Adding the following local variable:\n",
      "--------------------------------------------------\n",
      "| MPCC.s_L\n",
      "| MPCC.s_V\n",
      "| MPCC.pf\n",
      "| MPCC.rho\n",
      "--------------------------------------------------\n",
      "> Spliting pressure used in VLE\n",
      "\n"
     ]
    }
   ],
   "source": [
    "model.MPCC = pe.Block(rule = P_pf_block_rule)"
   ]
  },
  {
   "cell_type": "markdown",
   "metadata": {
    "slideshow": {
     "slide_type": "subslide"
    }
   },
   "source": [
    "## Summation"
   ]
  },
  {
   "cell_type": "markdown",
   "metadata": {
    "slideshow": {
     "slide_type": "fragment"
    }
   },
   "source": [
    "\\begin{equation}\n",
    "\\sum_ix_{i} = \\sum_iy_{i} \\\\\n",
    "F + L_{in} + V_{in} + R = L_{out} + V_{out}\n",
    "\\end{equation}"
   ]
  },
  {
   "cell_type": "code",
   "execution_count": 11,
   "metadata": {
    "slideshow": {
     "slide_type": "fragment"
    }
   },
   "outputs": [],
   "source": [
    "def summation_x_y_rule(model):\n",
    "    return sum(model.x[i] for i in m.COMP_TOTAL) == sum(model.y[i] for i in m.COMP_TOTAL)\n",
    "model.summation_x_y_con = pe.Constraint(rule=summation_x_y_rule)\n",
    "\n",
    "def summation_total_mass_rule(model):\n",
    "    return model.F + sum(model.L[s] + model.V[s] for s in model.inlet) + sum(model.r_total_comp[i] for i in m.COMP_TOTAL)\\\n",
    "            - sum(model.L[s] + model.V[s] for s in model.outlet) == 0\n",
    "model.summation_total_mass_con = pe.Constraint(rule=summation_total_mass_rule)"
   ]
  },
  {
   "cell_type": "markdown",
   "metadata": {
    "slideshow": {
     "slide_type": "subslide"
    }
   },
   "source": [
    "## Energy Balance"
   ]
  },
  {
   "cell_type": "markdown",
   "metadata": {
    "slideshow": {
     "slide_type": "fragment"
    }
   },
   "source": [
    "\\begin{equation}\n",
    "F H_f+\\sum_{s\\in{inlet}}L_{s}H_{l,s}+\\sum_{s\\in{inlet}}V_{s}H_{v,s}-\\sum_{s\\in{outlet}}L_{s}H_{l,s}-\\sum_{s\\in{outlet}}V_{s}H_{v,s}+Q = 0\n",
    "\\end{equation}"
   ]
  },
  {
   "cell_type": "code",
   "execution_count": 12,
   "metadata": {
    "slideshow": {
     "slide_type": "fragment"
    }
   },
   "outputs": [],
   "source": [
    "def heat_balance_main_rule(model):\n",
    "    return model.F*model.H_F + sum(model.L[s]*model.H_L_[s] + model.V[s]*model.H_V_[s] for s in model.inlet) \\\n",
    "            + model.Q_main - sum(model.L[s]*model.H_L + model.V[s]*model.H_V for s in model.outlet) == 0\n",
    "model.heat_balance_main_con = pe.Constraint(rule=heat_balance_main_rule)"
   ]
  },
  {
   "cell_type": "markdown",
   "metadata": {
    "slideshow": {
     "slide_type": "slide"
    }
   },
   "source": [
    "# Testing"
   ]
  },
  {
   "cell_type": "code",
   "execution_count": 13,
   "metadata": {
    "slideshow": {
     "slide_type": "fragment"
    }
   },
   "outputs": [
    {
     "name": "stdout",
     "output_type": "stream",
     "text": [
      "Created the follow pyomo suffixes:\n",
      "ipopt_zL_out, ipopt_zU_out, ipopt_zL_in, ipopt_zU_in, dual\n"
     ]
    }
   ],
   "source": [
    "add_dual(pe,model)"
   ]
  },
  {
   "cell_type": "markdown",
   "metadata": {
    "slideshow": {
     "slide_type": "fragment"
    }
   },
   "source": [
    "## Fixing In/Product Redundent Flow"
   ]
  },
  {
   "cell_type": "code",
   "execution_count": 14,
   "metadata": {
    "slideshow": {
     "slide_type": "fragment"
    }
   },
   "outputs": [],
   "source": [
    "model.x_.fix(0)\n",
    "model.y_.fix(0)\n",
    "model.L['in'].fix(0)\n",
    "model.L['P'].fix(0)\n",
    "model.V['in'].fix(0)\n",
    "model.V['P'].fix(0)\n",
    "model.H_L_.fix(0)\n",
    "model.H_V_.fix(0)"
   ]
  },
  {
   "cell_type": "markdown",
   "metadata": {
    "slideshow": {
     "slide_type": "subslide"
    }
   },
   "source": [
    "## Fixing Model Parameters"
   ]
  },
  {
   "cell_type": "code",
   "execution_count": 15,
   "metadata": {
    "slideshow": {
     "slide_type": "fragment"
    }
   },
   "outputs": [],
   "source": [
    "model.cat.fix(3000)\n",
    "model.P.fix(20)\n",
    "model.T_F.fix(200+273.15)\n",
    "model.F.fix(1)\n",
    "model.z['CO'].fix(1/(1+0.8)-0/2)\n",
    "model.z['H2'].fix(0.8/(1+0.8)-0/2)\n",
    "model.z['C30H62'].fix(0)\n",
    "model.VLE_block.n_ave.fix(20)"
   ]
  },
  {
   "cell_type": "code",
   "execution_count": 16,
   "metadata": {
    "scrolled": true,
    "slideshow": {
     "slide_type": "fragment"
    }
   },
   "outputs": [
    {
     "name": "stdout",
     "output_type": "stream",
     "text": [
      "Active Equality Constraints:\t 1182\n",
      "Active Inequality Constraints:\t 1\n",
      "Active Variables:\t\t 1358\n",
      "Fixed Variables:\t\t 172\n",
      "DOF:\t\t\t\t 4\n"
     ]
    }
   ],
   "source": [
    "check_DOF(pe,model)"
   ]
  },
  {
   "cell_type": "markdown",
   "metadata": {
    "slideshow": {
     "slide_type": "subslide"
    }
   },
   "source": [
    "## Fix T or to fix Q? we have found that Maximize against an upper bound is most reliable"
   ]
  },
  {
   "cell_type": "code",
   "execution_count": 17,
   "metadata": {
    "slideshow": {
     "slide_type": "fragment"
    }
   },
   "outputs": [],
   "source": [
    "model.T.setub(200+273.15)"
   ]
  },
  {
   "cell_type": "code",
   "execution_count": 18,
   "metadata": {
    "slideshow": {
     "slide_type": "fragment"
    }
   },
   "outputs": [],
   "source": [
    "# model.obj = pe.Objective(expr = model.L['out'],sense=pe.maximize)\n",
    "# model.obj = pe.Objective(expr = model.cat,sense=pe.minimize)\n",
    "# model.obj = pe.Objective(expr = model.T - model.MPCC.pf ,sense=pe.maximize)\n",
    "model.obj = pe.Objective(expr = model.T - model.MPCC.pf ,sense=pe.maximize)"
   ]
  },
  {
   "cell_type": "code",
   "execution_count": 19,
   "metadata": {
    "scrolled": false,
    "slideshow": {
     "slide_type": "fragment"
    }
   },
   "outputs": [
    {
     "name": "stdout",
     "output_type": "stream",
     "text": [
      "Ipopt 3.12.8: print_user_options=yes\n",
      "linear_solver=ma86\n",
      "linear_system_scaling =mc19\n",
      "linear_scaling_on_demand =no\n",
      "max_iter=7000\n",
      "\n",
      "\n",
      "List of user-set options:\n",
      "\n",
      "                                    Name   Value                used\n",
      "                linear_scaling_on_demand = no                    yes\n",
      "                           linear_solver = ma86                  yes\n",
      "                   linear_system_scaling = mc19                  yes\n",
      "                                max_iter = 7000                  yes\n",
      "                      print_user_options = yes                   yes\n",
      "\n",
      "******************************************************************************\n",
      "This program contains Ipopt, a library for large-scale nonlinear optimization.\n",
      " Ipopt is released as open source code under the Eclipse Public License (EPL).\n",
      "         For more information visit http://projects.coin-or.org/Ipopt\n",
      "******************************************************************************\n",
      "\n",
      "This is Ipopt version 3.12.8, running with linear solver ma86.\n",
      "\n",
      "Number of nonzeros in equality constraint Jacobian...:     3751\n",
      "Number of nonzeros in inequality constraint Jacobian.:        5\n",
      "Number of nonzeros in Lagrangian Hessian.............:     4313\n",
      "\n",
      "Total number of variables............................:     1185\n",
      "                     variables with only lower bounds:      383\n",
      "                variables with lower and upper bounds:      632\n",
      "                     variables with only upper bounds:        0\n",
      "Total number of equality constraints.................:     1182\n",
      "Total number of inequality constraints...............:        1\n",
      "        inequality constraints with only lower bounds:        0\n",
      "   inequality constraints with lower and upper bounds:        0\n",
      "        inequality constraints with only upper bounds:        1\n",
      "\n",
      "iter    objective    inf_pr   inf_du lg(mu)  ||d||  lg(rg) alpha_du alpha_pr  ls\n",
      "   0 -4.7314000e+02 8.09e+03 1.00e+00  -1.0 0.00e+00    -  0.00e+00 0.00e+00   0\n",
      "   1r-4.7314000e+02 8.09e+03 9.99e+02   3.9 0.00e+00    -  0.00e+00 4.30e-07R  5\n",
      "   2r-4.7313999e+02 8.09e+03 5.92e+03   3.9 2.02e+05    -  1.58e-03 2.51e-09f  1\n",
      "   3r-4.7313910e+02 6.46e+03 5.89e+03   1.8 2.46e+05    -  3.41e-03 6.63e-03f  1\n",
      "   4 -4.7313910e+02 6.46e+03 2.73e+01  -1.0 8.53e+04    -  2.85e-05 2.82e-05h  1\n",
      "   5 -4.7313910e+02 6.46e+03 6.28e+01  -1.0 9.53e+06    -  2.73e-07 7.83e-07f  2\n",
      "   6 -4.7313910e+02 6.46e+03 6.86e+01  -1.0 1.39e+06    -  1.27e-06 1.27e-06s  3\n",
      "   7r-4.7313910e+02 6.46e+03 9.99e+02   3.8 0.00e+00    -  0.00e+00 0.00e+00R  1\n",
      "   8r-4.7313907e+02 6.46e+03 1.18e+04   3.8 1.46e+05    -  1.02e-03 8.33e-09f  1\n",
      "   9r-4.7313701e+02 4.23e+03 1.17e+04   1.7 2.52e+05    -  7.76e-03 8.86e-03f  1\n",
      "iter    objective    inf_pr   inf_du lg(mu)  ||d||  lg(rg) alpha_du alpha_pr  ls\n",
      "  10r-4.7313701e+02 4.23e+03 9.99e+02   3.6 0.00e+00    -  0.00e+00 3.52e-07R  4\n",
      "  11r-4.7313699e+02 4.23e+03 1.08e+04   3.6 1.78e+05    -  2.17e-03 6.49e-09f  1\n",
      "  12r-4.7313475e+02 5.14e+02 1.07e+04   1.5 2.68e+05    -  9.14e-03 1.56e-02f  1\n",
      "  13r-4.7313475e+02 5.14e+02 9.99e+02   2.7 0.00e+00    -  0.00e+00 2.62e-07R  5\n",
      "  14r-4.7313474e+02 5.14e+02 9.99e+02   2.7 9.89e+03    -  5.72e-05 2.65e-08f  2\n",
      "  15r-4.7309552e+02 5.14e+02 1.53e+03   2.7 9.75e+03    -  4.11e-03 1.12e-04f  1\n",
      "  16r-4.7303275e+02 5.13e+02 1.16e+03   2.0 6.54e+03    -  4.21e-03 1.08e-02f  1\n",
      "  17r-4.7294723e+02 5.12e+02 1.30e+03   2.0 1.32e+03    -  6.55e-03 1.46e-02f  1\n",
      "  18r-4.7283694e+02 5.10e+02 2.40e+03   2.0 3.14e+02    -  1.06e-02 1.88e-02f  1\n",
      "  19r-4.7264711e+02 5.07e+02 4.52e+03   2.0 1.88e+02    -  2.06e-02 3.02e-02f  1\n",
      "iter    objective    inf_pr   inf_du lg(mu)  ||d||  lg(rg) alpha_du alpha_pr  ls\n",
      "  20r-4.7264479e+02 5.07e+02 9.19e+04   2.0 3.40e-01   4.0 8.24e-01 6.24e-02f  1\n",
      "  21r-4.7263249e+02 5.05e+02 9.15e+04   1.3 1.23e+02    -  8.05e-02 1.70e-02f  1\n",
      "  22r-4.7213418e+02 4.89e+02 8.46e+04   1.3 2.23e+02    -  1.14e-02 7.47e-02f  1\n",
      "  23r-4.7211017e+02 4.83e+02 8.07e+04   1.3 3.08e+02    -  5.44e-02 3.46e-02f  1\n",
      "  24r-4.7211397e+02 4.83e+02 1.50e+04   1.3 4.73e-01   3.5 7.96e-01 4.42e-01f  1\n",
      "  25r-4.7208584e+02 4.83e+02 7.97e+03   1.3 8.82e-01   3.0 6.51e-01 3.61e-01f  1\n",
      "  26r-4.7206467e+02 4.82e+02 8.59e+03   0.6 2.43e+00   2.6 2.03e-01 1.23e-01f  1\n",
      "  27r-4.7200484e+02 4.82e+02 9.13e+03   0.6 5.40e+00   2.1 1.91e-01 1.56e-01f  1\n",
      "  28r-4.7190222e+02 4.81e+02 1.04e+04   0.6 1.11e+01   1.6 2.57e-01 1.03e-01f  1\n",
      "  29r-4.7141891e+02 4.75e+02 1.40e+04   0.6 3.17e+01   1.1 2.79e-01 1.86e-01f  1\n",
      "iter    objective    inf_pr   inf_du lg(mu)  ||d||  lg(rg) alpha_du alpha_pr  ls\n",
      "  30r-4.7049537e+02 4.64e+02 1.74e+04   0.6 8.25e+01   0.7 2.53e-01 1.32e-01f  1\n",
      "  31r-4.6767582e+02 4.35e+02 1.42e+04   0.6 1.77e+02   0.2 1.48e-01 1.62e-01f  1\n",
      "  32 -4.6794268e+02 3.79e+02 5.59e+03  -1.0 4.35e+02    -  2.67e-03 1.30e-01h  1\n",
      "  33 -4.6480330e+02 2.80e+02 3.53e+03  -1.0 3.79e+02    -  1.61e-01 2.60e-01h  1\n",
      "  34 -4.6454780e+02 2.56e+02 3.21e+03  -1.0 2.80e+02    -  1.76e-01 8.74e-02h  1\n",
      "  35 -4.6454400e+02 2.56e+02 3.24e+03  -1.0 3.21e+02    -  8.61e-02 1.27e-03h  1\n",
      "  36 -4.6454398e+02 2.56e+02 2.38e+07  -1.0 3.23e+02    -  1.82e-01 1.28e-05h  1\n",
      "  37r-4.6454398e+02 2.56e+02 9.99e+02   2.4 0.00e+00    -  0.00e+00 6.41e-08R  2\n",
      "  38r-4.6454652e+02 2.55e+02 1.76e+03   2.4 1.52e+04    -  9.06e-04 6.90e-06f  1\n",
      "  39r-4.6442776e+02 2.26e+02 2.83e+03   2.4 1.51e+04    -  2.71e-04 1.96e-03f  1\n",
      "iter    objective    inf_pr   inf_du lg(mu)  ||d||  lg(rg) alpha_du alpha_pr  ls\n",
      "  40 -4.6460060e+02 2.18e+02 1.62e+02  -1.0 8.03e+02    -  2.56e-02 3.38e-02f  1\n",
      "  41 -4.6459387e+02 2.18e+02 6.36e+03  -1.0 2.18e+02  -2.0 1.71e-01 3.90e-04h  1\n",
      "  42r-4.6459387e+02 2.18e+02 9.99e+02   2.3 0.00e+00  -2.5 0.00e+00 4.88e-07R  4\n",
      "  43r-4.6460226e+02 2.17e+02 6.07e+03   2.3 1.83e+04    -  4.75e-03 5.85e-05f  1\n",
      "  44r-4.6369853e+02 1.03e+02 2.46e+04   2.3 1.77e+04    -  2.32e-02 6.41e-03f  1\n",
      "  45 -4.6410123e+02 9.51e+01 1.11e+03  -1.0 1.96e+02    -  2.73e-03 7.98e-02f  1\n",
      "  46 -4.6410069e+02 9.50e+01 1.06e+03  -1.0 9.51e+01    -  1.09e-01 1.12e-03h  1\n",
      "  47 -4.6410070e+02 9.50e+01 1.89e+07  -1.0 9.50e+01    -  2.40e-01 1.13e-05h  1\n",
      "  48r-4.6410070e+02 9.50e+01 9.99e+02   2.0 0.00e+00    -  0.00e+00 5.65e-08R  2\n",
      "  49r-4.6409705e+02 7.43e+01 3.60e+04   2.0 2.96e+04    -  7.29e-02 7.00e-04f  1\n",
      "iter    objective    inf_pr   inf_du lg(mu)  ||d||  lg(rg) alpha_du alpha_pr  ls\n",
      "  50 -4.6414481e+02 7.39e+01 4.50e+02  -1.0 3.51e+02    -  7.80e-02 5.17e-03h  1\n",
      "  51 -4.6414499e+02 7.39e+01 3.84e+05  -1.0 1.31e+02    -  1.45e-01 5.28e-05h  1\n",
      "  52r-4.6414499e+02 7.39e+01 9.99e+02   1.9 0.00e+00    -  0.00e+00 2.64e-07R  2\n",
      "  53r-4.6414430e+02 5.48e+01 2.67e+04   1.9 3.02e+04    -  6.94e-02 6.33e-04f  1\n",
      "  54 -4.6416284e+02 5.46e+01 6.10e+04  -1.0 1.84e+02    -  8.31e-02 3.65e-03h  1\n",
      "  55 -4.6416307e+02 5.46e+01 7.86e+05  -1.0 2.17e+02    -  1.41e-01 3.70e-05h  1\n",
      "  56r-4.6416307e+02 5.46e+01 9.99e+02   1.7 0.00e+00    -  0.00e+00 1.85e-07R  2\n",
      "  57r-4.6416750e+02 4.78e+01 5.26e+03   1.7 2.91e+04    -  1.83e-02 2.34e-04f  1\n",
      "  58 -4.6417237e+02 4.77e+01 7.34e+02  -1.0 1.69e+02    -  8.44e-02 1.01e-03h  1\n",
      "  59 -4.6417242e+02 4.77e+01 5.12e+06  -1.0 1.72e+02    -  6.97e-02 1.01e-05h  1\n",
      "iter    objective    inf_pr   inf_du lg(mu)  ||d||  lg(rg) alpha_du alpha_pr  ls\n",
      "  60r-4.6417242e+02 4.77e+01 9.99e+02   1.7 0.00e+00    -  0.00e+00 5.07e-08R  2\n",
      "  61r-4.6417052e+02 2.82e+01 3.28e+03   1.7 2.79e+04    -  1.35e-02 6.97e-04f  1\n",
      "  62 -4.6420593e+02 2.82e+01 1.12e+03  -1.0 4.48e+02    -  6.84e-02 2.60e-03f  1\n",
      "  63 -4.6420603e+02 2.82e+01 4.15e+05  -1.0 1.34e+02    -  4.57e-02 2.63e-05h  1\n",
      "  64r-4.6420603e+02 2.82e+01 9.99e+02   1.4 0.00e+00    -  0.00e+00 1.31e-07R  2\n",
      "  65r-4.6424603e+02 1.87e+01 9.95e+02   1.4 2.15e+04    -  5.07e-03 4.37e-04f  1\n",
      "  66 -4.6425141e+02 1.87e+01 8.81e+02  -1.0 1.62e+02    -  7.83e-02 9.69e-04h  1\n",
      "  67r-4.6425141e+02 1.87e+01 9.99e+02   1.3 0.00e+00    -  0.00e+00 3.04e-07R  6\n",
      "  68r-4.6426222e+02 5.96e+00 2.68e+03   1.3 1.61e+04    -  2.65e-02 8.32e-04f  1\n",
      "  69 -4.6427297e+02 5.95e+00 3.84e+02  -1.0 1.74e+02    -  7.63e-02 1.72e-03h  1\n",
      "iter    objective    inf_pr   inf_du lg(mu)  ||d||  lg(rg) alpha_du alpha_pr  ls\n",
      "  70 -4.6427305e+02 5.95e+00 1.57e+06  -1.0 1.14e+02    -  6.83e-02 1.73e-05h  1\n",
      "  71r-4.6427305e+02 5.95e+00 9.99e+02   0.8 0.00e+00    -  0.00e+00 8.65e-08R  2\n",
      "  72r-4.6425318e+02 1.73e+00 1.07e+03   0.8 4.79e+03    -  2.76e-02 1.13e-03f  1\n",
      "  73 -4.6425559e+02 1.72e+00 1.43e+03  -1.0 1.28e+02    -  8.59e-02 5.35e-04h  1\n",
      "  74r-4.6425559e+02 1.72e+00 9.99e+02   0.1 0.00e+00    -  0.00e+00 3.35e-07R  5\n",
      "  75r-4.6434340e+02 1.50e+00 9.97e+02   0.1 1.29e+03    -  4.33e-02 9.98e-04f  1\n",
      "  76 -4.6434389e+02 1.50e+00 7.51e+03  -1.0 1.32e+02    -  9.13e-02 1.10e-04h  1\n"
     ]
    },
    {
     "name": "stdout",
     "output_type": "stream",
     "text": [
      "  77r-4.6434389e+02 1.50e+00 9.99e+02  -0.3 0.00e+00    -  0.00e+00 2.76e-07R  3\n",
      "  78r-4.6442680e+02 8.03e-01 9.97e+02  -0.3 6.53e+02    -  8.59e-03 1.72e-03f  1\n",
      "  79r-4.6420487e+02 8.00e-01 9.87e+02  -0.3 4.05e+02    -  1.71e-02 1.06e-02f  1\n",
      "iter    objective    inf_pr   inf_du lg(mu)  ||d||  lg(rg) alpha_du alpha_pr  ls\n",
      "  80r-4.6402777e+02 9.75e-01 9.79e+02  -0.3 2.60e+02    -  2.68e-02 8.07e-03f  1\n",
      "  81r-4.6402409e+02 1.18e+00 9.52e+02  -0.3 1.94e+02    -  6.92e-02 2.71e-02f  1\n",
      "  82r-4.6407203e+02 1.24e+00 9.73e+02  -0.3 2.19e+02    -  6.86e-02 1.89e-02f  1\n",
      "  83r-4.6416410e+02 1.52e+00 3.85e+03  -0.3 1.43e+02    -  3.08e-01 4.97e-02f  1\n",
      "  84r-4.6424598e+02 3.02e+00 2.24e+03  -0.3 1.03e+02    -  2.22e-01 1.73e-01f  1\n",
      "  85r-4.6419154e+02 3.15e+00 1.87e+04  -0.3 1.12e+02    -  3.64e-01 8.60e-02f  1\n",
      "  86r-4.6416754e+02 3.11e+00 1.22e+05  -0.3 1.03e+02    -  5.34e-01 2.80e-02f  1\n",
      "  87r-4.6349089e+02 2.77e+00 1.31e+04  -0.3 5.96e+01    -  8.50e-01 5.42e-01f  1\n",
      "  88r-4.6325611e+02 3.71e+00 4.13e+05  -0.3 4.28e+01    -  9.91e-01 2.61e-01f  1\n",
      "  89r-4.6275524e+02 1.04e+00 8.22e+04  -0.3 2.65e+01    -  9.49e-01 7.11e-01f  1\n",
      "iter    objective    inf_pr   inf_du lg(mu)  ||d||  lg(rg) alpha_du alpha_pr  ls\n",
      "  90r-4.6256803e+02 4.32e-02 1.13e+03  -0.3 4.09e+00    -  1.00e+00 1.00e+00f  1\n",
      "  91 -4.6260267e+02 4.26e-02 7.70e+02  -1.0 5.00e+02    -  1.76e-02 1.39e-02f  2\n",
      "  92 -4.6284792e+02 9.50e-02 1.08e+03  -1.0 5.68e+02    -  1.03e-01 8.10e-02f  3\n",
      "  93 -4.6288560e+02 9.44e-02 6.41e+03  -1.0 3.25e+02    -  7.26e-02 1.02e-02h  7\n",
      "  94 -4.6283165e+02 9.30e-02 9.25e+03  -1.0 2.24e+02  -2.1 4.39e-02 3.18e-03h  1\n",
      "  95 -4.6289744e+02 9.20e-02 1.01e+04  -1.0 3.20e+02    -  3.39e-02 2.18e-02f  6\n",
      "  96 -4.6292650e+02 9.11e-02 4.03e+04  -1.0 2.96e+02    -  3.67e-01 1.10e-02h  7\n",
      "  97 -4.6296268e+02 9.02e-02 4.69e+04  -1.0 2.98e+02    -  1.01e-01 1.11e-02h  7\n",
      "  98 -4.6299981e+02 8.93e-02 5.21e+04  -1.0 2.93e+02    -  8.49e-02 1.11e-02h  7\n",
      "  99 -4.6304805e+02 8.87e-02 5.37e+04  -1.0 3.09e+02    -  3.85e-02 1.08e-02h  7\n",
      "iter    objective    inf_pr   inf_du lg(mu)  ||d||  lg(rg) alpha_du alpha_pr  ls\n",
      " 100 -4.6314195e+02 8.86e-02 5.29e+04  -1.0 3.30e+02    -  1.36e-02 1.43e-02f  6\n",
      " 101 -4.6304936e+02 8.56e-02 5.32e+04  -1.0 3.07e+02  -1.6 3.87e-02 3.17e-03h  1\n",
      " 102 -4.6313530e+02 8.48e-02 5.24e+04  -1.0 2.98e+02    -  2.75e-02 2.27e-02f  6\n",
      " 103 -4.6320349e+02 8.33e-02 6.03e+04  -1.0 2.74e+02    -  1.40e-01 2.29e-02h  6\n",
      " 104 -4.6330302e+02 8.26e-02 6.09e+04  -1.0 2.79e+02    -  4.99e-02 2.32e-02h  6\n",
      " 105 -4.6330405e+02 6.86e-02 1.09e+05  -1.0 2.56e+02  -2.1 6.22e-01 4.42e-02H  1\n",
      " 106 -4.6355763e+02 6.27e-02 1.09e+05  -1.0 2.53e+02    -  2.51e-01 9.56e-02h  4\n",
      " 107 -4.6356883e+02 6.25e-02 1.11e+05  -1.0 2.35e+02    -  3.61e-02 3.11e-03f  9\n",
      " 108 -4.6370011e+02 5.98e-02 1.04e+05  -1.0 2.32e+02    -  3.98e-02 4.98e-02h  5\n",
      " 109 -4.6385841e+02 5.77e-02 1.33e+04  -1.0 2.16e+02  -0.8 1.32e-02 2.92e-02f  5\n",
      "iter    objective    inf_pr   inf_du lg(mu)  ||d||  lg(rg) alpha_du alpha_pr  ls\n",
      " 110 -4.6424056e+02 2.91e-02 1.25e+06  -1.0 1.96e+02  -0.3 1.63e-02 2.67e-02f  3\n",
      " 111 -4.6426431e+02 2.99e-02 1.16e+06  -1.0 2.31e+02    -  9.68e-01 2.05e-02h  6\n",
      " 112 -4.6431122e+02 3.01e-02 1.09e+06  -1.0 2.06e+02    -  9.91e-01 2.35e-02h  6\n",
      " 113 -4.6438634e+02 2.97e-02 1.02e+06  -1.0 1.86e+02    -  1.00e+00 2.64e-02h  6\n",
      " 114 -4.6707239e+02 7.00e-02 2.60e+06  -1.0 1.75e+02    -  1.00e+00 9.90e-01H  1\n",
      " 115 -4.7039027e+02 6.50e-02 1.89e+06  -1.0 4.30e+01    -  9.15e-01 9.71e-01H  1\n",
      " 116 -4.7073179e+02 7.53e-02 4.84e+06  -1.0 7.86e+01    -  7.39e-01 4.57e-02f  4\n",
      " 117 -4.7103104e+02 8.20e-02 7.14e+06  -1.0 6.93e+01    -  1.00e+00 4.53e-02f  4\n",
      " 118 -4.7129151e+02 8.39e-02 8.37e+06  -1.0 3.34e+01    -  1.00e+00 8.92e-02h  4\n",
      " 119 -4.7294466e+02 5.29e-02 2.42e+06  -1.0 3.18e+01    -  8.53e-01 9.64e-01H  1\n",
      "iter    objective    inf_pr   inf_du lg(mu)  ||d||  lg(rg) alpha_du alpha_pr  ls\n",
      " 120 -4.7292460e+02 6.63e-02 4.12e+06  -1.0 3.61e+01    -  1.00e+00 1.25e-01f  4\n",
      " 121 -4.7290444e+02 7.04e-02 4.41e+06  -1.0 2.87e+01    -  4.79e-01 1.25e-01h  4\n",
      " 122 -4.7288592e+02 7.60e-02 5.37e+06  -1.0 3.10e+01    -  1.00e+00 1.25e-01h  4\n",
      " 123 -4.7275848e+02 4.92e-02 9.61e+05  -1.0 2.13e+01    -  8.30e-01 1.00e+00H  1\n",
      " 124 -4.7274817e+02 7.07e-03 1.99e+04  -1.0 2.90e+00    -  1.00e+00 1.00e+00h  1\n",
      " 125 -4.7274814e+02 1.11e-06 3.01e+00  -1.0 2.68e-02    -  1.00e+00 1.00e+00h  1\n",
      " 126 -4.7302204e+02 3.18e-03 8.32e+05  -5.7 2.16e+00    -  9.69e-01 9.02e-01f  1\n",
      " 127 -4.7315000e+02 7.54e-01 2.89e+05  -5.7 3.72e+01    -  6.58e-01 8.04e-01f  1\n",
      " 128 -4.7314999e+02 2.59e-01 1.96e+04  -5.7 1.53e+01    -  8.16e-01 1.00e+00h  1\n",
      " 129 -4.7315000e+02 6.88e-02 9.79e+03  -5.7 1.72e+00    -  1.00e+00 7.42e-01h  1\n",
      "iter    objective    inf_pr   inf_du lg(mu)  ||d||  lg(rg) alpha_du alpha_pr  ls\n",
      " 130 -4.7315000e+02 3.80e-03 5.31e+02  -5.7 2.45e-01    -  1.00e+00 9.46e-01h  1\n",
      " 131 -4.7315000e+02 1.05e-03 1.47e+02  -5.7 2.47e-02    -  1.00e+00 7.23e-01h  1\n",
      " 132 -4.7315000e+02 3.80e-04 5.31e+01  -5.7 6.76e-04    -  1.00e+00 6.39e-01f  1\n",
      " 133 -4.7314999e+02 3.22e-09 1.55e-04  -5.7 1.69e-03    -  1.00e+00 1.00e+00f  1\n",
      " 134 -4.7314999e+02 2.21e-11 1.25e-06  -5.7 1.48e-04    -  1.00e+00 1.00e+00h  1\n",
      " 135 -4.7315000e+02 2.57e-09 2.94e-03  -8.6 1.59e-03    -  1.00e+00 1.00e+00h  1\n",
      " 136 -4.7315000e+02 1.14e-13 5.49e-08  -8.6 1.48e-06    -  1.00e+00 1.00e+00h  1\n",
      " 137 -4.7315000e+02 1.14e-13 2.73e-09  -8.6 2.42e-07    -  1.00e+00 1.00e+00h  1\n",
      "\n",
      "Number of Iterations....: 137\n",
      "\n",
      "                                   (scaled)                 (unscaled)\n",
      "Objective...............:  -4.7315000000331668e+02   -4.7315000000331668e+02\n",
      "Dual infeasibility......:   2.7277672201660693e-09    2.7277672201660693e-09\n",
      "Constraint violation....:   1.1368683772161603e-13    1.1368683772161603e-13\n",
      "Complementarity.........:   2.5265426445416616e-09    2.5265426445416616e-09\n",
      "Overall NLP error.......:   2.7277672201660693e-09    2.7277672201660693e-09\n",
      "\n",
      "\n",
      "Number of objective function evaluations             = 387\n",
      "Number of objective gradient evaluations             = 104\n",
      "Number of equality constraint evaluations            = 387\n",
      "Number of inequality constraint evaluations          = 387\n",
      "Number of equality constraint Jacobian evaluations   = 153\n",
      "Number of inequality constraint Jacobian evaluations = 153\n",
      "Number of Lagrangian Hessian evaluations             = 137\n",
      "Total CPU secs in IPOPT (w/o function evaluations)   =      8.326\n",
      "Total CPU secs in NLP function evaluations           =      0.436\n",
      "\n",
      "EXIT: Optimal Solution Found.\n"
     ]
    }
   ],
   "source": [
    "opt = pe.SolverFactory('ipopt')\n",
    "\n",
    "opt.options['print_user_options'] = 'yes'\n",
    "opt.options['linear_solver'] = 'ma86'\n",
    "\n",
    "opt.options['linear_system_scaling '] = 'mc19'\n",
    "opt.options['linear_scaling_on_demand '] = 'no'\n",
    "# opt.options['recalc_y'] = 'yes'\n",
    "# opt.options['bound_relax_factor'] = 0\n",
    "# opt.options['halt_on_ampl_error'] = 'yes'\n",
    "\n",
    "opt.options['max_iter'] = 7000\n",
    "results = opt.solve(model,tee=True)\n",
    "update_dual(pe,model)"
   ]
  },
  {
   "cell_type": "code",
   "execution_count": 20,
   "metadata": {
    "scrolled": true,
    "slideshow": {
     "slide_type": "skip"
    }
   },
   "outputs": [
    {
     "data": {
      "text/plain": [
       "473.15"
      ]
     },
     "execution_count": 20,
     "metadata": {},
     "output_type": "execute_result"
    }
   ],
   "source": [
    "model.T.value"
   ]
  },
  {
   "cell_type": "code",
   "execution_count": 21,
   "metadata": {
    "scrolled": true
   },
   "outputs": [
    {
     "data": {
      "text/plain": [
       "5.264940580289436e-07"
      ]
     },
     "execution_count": 21,
     "metadata": {},
     "output_type": "execute_result"
    }
   ],
   "source": [
    "model.MPCC.s_L.value"
   ]
  },
  {
   "cell_type": "code",
   "execution_count": 22,
   "metadata": {
    "scrolled": true
   },
   "outputs": [
    {
     "data": {
      "text/plain": [
       "20.00000052894332"
      ]
     },
     "execution_count": 22,
     "metadata": {},
     "output_type": "execute_result"
    }
   ],
   "source": [
    "model.VLE_block.P_VLE.value"
   ]
  },
  {
   "cell_type": "code",
   "execution_count": 23,
   "metadata": {
    "scrolled": true
   },
   "outputs": [
    {
     "data": {
      "text/plain": [
       "0.007566223141394164"
      ]
     },
     "execution_count": 23,
     "metadata": {},
     "output_type": "execute_result"
    }
   ],
   "source": [
    "model.L['out'].value"
   ]
  },
  {
   "cell_type": "code",
   "execution_count": 24,
   "metadata": {
    "scrolled": false,
    "slideshow": {
     "slide_type": "slide"
    }
   },
   "outputs": [
    {
     "name": "stdout",
     "output_type": "stream",
     "text": [
      "Component\t\tLiquid: 0.0076\t\t\tVapor: 0.5291\n",
      "------------------------------------------------------------------------------------------------------------\n",
      "H2         \t\t 0.8838%\t\t\t25.2935%\n",
      "CO         \t\t 1.3401%\t\t\t28.6944%\n",
      "CO2        \t\t 3.7245%\t\t\t31.8623%\n",
      "H2O        \t\t 3.6023%\t\t\t12.4033%\n",
      "C2H4       \t\t 0.0174%\t\t\t 0.1174%\n",
      "C3H6       \t\t 0.0444%\t\t\t 0.1351%\n",
      "C4H8       \t\t 0.0456%\t\t\t 0.1204%\n",
      "C5H10      \t\t 0.0722%\t\t\t 0.0931%\n",
      "C6H12      \t\t 0.1262%\t\t\t 0.0865%\n",
      "C7H14      \t\t 0.2078%\t\t\t 0.0799%\n",
      "C8H16      \t\t 0.3264%\t\t\t 0.0731%\n",
      "C9H18      \t\t 0.4920%\t\t\t 0.0659%\n",
      "C10H20     \t\t 0.7120%\t\t\t 0.0583%\n",
      "C11H22     \t\t 0.6286%\t\t\t 0.0320%\n",
      "C12H24     \t\t 0.8302%\t\t\t 0.0265%\n",
      "C13H26     \t\t 1.0411%\t\t\t 0.0212%\n",
      "C14H28     \t\t 1.2375%\t\t\t 0.0161%\n",
      "C15H30     \t\t 1.3970%\t\t\t 0.0118%\n",
      "C16H32     \t\t 1.5062%\t\t\t 0.0083%\n",
      "C17H34     \t\t 1.5634%\t\t\t 0.0056%\n",
      "C18H36     \t\t 1.5753%\t\t\t 0.0037%\n",
      "C19H38     \t\t 1.5530%\t\t\t 0.0024%\n",
      "C20H40     \t\t 1.5073%\t\t\t 0.0016%\n",
      "C1H4       \t\t 0.0164%\t\t\t 0.1925%\n",
      "C2H6       \t\t 0.0107%\t\t\t 0.0631%\n",
      "C3H8       \t\t 0.0114%\t\t\t 0.0338%\n",
      "C4H10      \t\t 0.0162%\t\t\t 0.0380%\n",
      "C5H12      \t\t 0.0471%\t\t\t 0.0547%\n",
      "C6H14      \t\t 0.0815%\t\t\t 0.0508%\n",
      "C7H16      \t\t 0.1332%\t\t\t 0.0468%\n",
      "C8H18      \t\t 0.2078%\t\t\t 0.0428%\n",
      "C9H20      \t\t 0.3113%\t\t\t 0.0385%\n",
      "C10H22     \t\t 0.4475%\t\t\t 0.0339%\n",
      "C11H24     \t\t 0.9951%\t\t\t 0.0469%\n",
      "C12H26     \t\t 1.3036%\t\t\t 0.0387%\n",
      "C13H28     \t\t 1.6207%\t\t\t 0.0306%\n",
      "C14H30     \t\t 1.9099%\t\t\t 0.0232%\n",
      "C15H32     \t\t 2.1391%\t\t\t 0.0168%\n",
      "C16H34     \t\t 2.2908%\t\t\t 0.0117%\n",
      "C17H36     \t\t 2.3649%\t\t\t 0.0079%\n",
      "C18H38     \t\t 2.3734%\t\t\t 0.0052%\n",
      "C19H40     \t\t 2.3329%\t\t\t 0.0034%\n",
      "C20H42     \t\t 2.2595%\t\t\t 0.0022%\n",
      "C21H44     \t\t 3.6174%\t\t\t 0.0023%\n",
      "C22H46     \t\t 3.4437%\t\t\t 0.0015%\n",
      "C23H48     \t\t 3.2630%\t\t\t 0.0009%\n",
      "C24H50     \t\t 3.0819%\t\t\t 0.0006%\n",
      "C25H52     \t\t 2.9046%\t\t\t 0.0004%\n",
      "C26H54     \t\t 2.7336%\t\t\t 0.0002%\n",
      "C27H56     \t\t 2.5703%\t\t\t 0.0001%\n",
      "C28H58     \t\t 2.4152%\t\t\t 0.0001%\n",
      "C29H60     \t\t 2.2684%\t\t\t 0.0001%\n",
      "C30H62     \t\t 2.1300%\t\t\t 0.0000%\n",
      "C31H64     \t\t 1.9996%\t\t\t 0.0000%\n",
      "C32H66     \t\t 1.8769%\t\t\t 0.0000%\n",
      "C33H68     \t\t 1.7616%\t\t\t 0.0000%\n",
      "C34H70     \t\t 1.6533%\t\t\t 0.0000%\n",
      "C35H72     \t\t 1.5516%\t\t\t 0.0000%\n",
      "C36H74     \t\t 1.4562%\t\t\t 0.0000%\n",
      "C37H76     \t\t 1.3665%\t\t\t 0.0000%\n",
      "C38H78     \t\t 1.2824%\t\t\t 0.0000%\n",
      "C39H80     \t\t 1.2034%\t\t\t 0.0000%\n",
      "C40H82     \t\t 1.1293%\t\t\t 0.0000%\n",
      "C41H84     \t\t 1.0598%\t\t\t 0.0000%\n",
      "C42H86     \t\t 0.9945%\t\t\t 0.0000%\n",
      "C43H88     \t\t 0.9332%\t\t\t 0.0000%\n",
      "C44H90     \t\t 0.8758%\t\t\t 0.0000%\n",
      "C45H92     \t\t 0.8218%\t\t\t 0.0000%\n",
      "C46H94     \t\t 0.7712%\t\t\t 0.0000%\n",
      "C47H96     \t\t 0.7237%\t\t\t 0.0000%\n",
      "C48H98     \t\t 0.6791%\t\t\t 0.0000%\n",
      "C49H100    \t\t 0.6373%\t\t\t 0.0000%\n",
      "C50H102    \t\t 0.5980%\t\t\t 0.0000%\n",
      "C51H104    \t\t 0.5612%\t\t\t 0.0000%\n",
      "C52H106    \t\t 0.5266%\t\t\t 0.0000%\n",
      "C53H108    \t\t 0.4942%\t\t\t 0.0000%\n",
      "C54H110    \t\t 0.4638%\t\t\t 0.0000%\n",
      "C55H112    \t\t 0.4352%\t\t\t 0.0000%\n",
      "C56H114    \t\t 0.4084%\t\t\t 0.0000%\n"
     ]
    }
   ],
   "source": [
    "print('Component\\t\\tLiquid: {:.4f}\\t\\t\\tVapor: {:.4f}'.format(model.L['out'].value,model.V['out'].value))\n",
    "print('-'*108)\n",
    "for i in model.x:\n",
    "    print('{:10s}'.format(i),'\\t\\t{:8.4%}\\t\\t\\t{:8.4%}'.format(model.x[i].value,model.y[i].value))"
   ]
  },
  {
   "cell_type": "code",
   "execution_count": 25,
   "metadata": {},
   "outputs": [],
   "source": [
    "# model.solutions.store_to(results)\n",
    "# with open('../saved_solutions/reactive_flash_MPCC_P_pf_200C.pickle','wb') as f:\n",
    "#     pickle.dump(results,f)"
   ]
  },
  {
   "cell_type": "markdown",
   "metadata": {
    "slideshow": {
     "slide_type": "slide"
    }
   },
   "source": [
    "# Iterative Solve for Data Analysis"
   ]
  },
  {
   "cell_type": "code",
   "execution_count": null,
   "metadata": {},
   "outputs": [],
   "source": [
    "results_anchor = results\n",
    "update_dual(pe,model)\n",
    "model.solutions.store_to(results_anchor)"
   ]
  },
  {
   "cell_type": "code",
   "execution_count": null,
   "metadata": {},
   "outputs": [],
   "source": [
    "opt.options['warm_start_init_point'] = 'yes'\n",
    "opt.options['warm_start_bound_push'] = 1e-20\n",
    "opt.options['warm_start_mult_bound_push'] = 1e-20\n",
    "opt.options['mu_init'] = 1e-6"
   ]
  },
  {
   "cell_type": "code",
   "execution_count": null,
   "metadata": {},
   "outputs": [],
   "source": [
    "catrange = [3000,1000,500,300,100,50,25,10]\n",
    "Trange = np.linspace(300+273.15,200+273.15,26)"
   ]
  },
  {
   "cell_type": "code",
   "execution_count": null,
   "metadata": {
    "scrolled": false,
    "slideshow": {
     "slide_type": "fragment"
    }
   },
   "outputs": [],
   "source": [
    "rf_data_master = {}\n",
    "\n",
    "for c in catrange:\n",
    "    model.del_component(model.obj)\n",
    "    model.obj = pe.Objective(expr = model.cat + model.MPCC.pf ,sense=pe.minimize)\n",
    "\n",
    "    model.solutions.load_from(results_anchor)\n",
    "    update_dual(pe,model) \n",
    "       \n",
    "    model.T.fix(300+273.15)\n",
    "    model.cat.fixed = False\n",
    "    model.cat.setlb(c)\n",
    "    \n",
    "    results_anchor = opt.solve(model,tee=False)\n",
    "    model.solutions.store_to(results_anchor)\n",
    "    update_dual(pe,model)\n",
    "    \n",
    "    model.del_component(model.obj)\n",
    "    model.obj = pe.Objective(expr = model.T - model.MPCC.pf ,sense=pe.maximize)\n",
    "    model.T.fixed = False\n",
    "    model.cat.fixed = True\n",
    "    \n",
    "    \n",
    "    print('\\nWorking on Cat = {} kg'.format(model.cat.value))\n",
    "    print('-'*108)\n",
    "    \n",
    "    rf_data = {}\n",
    "    rf_data['x'] = {};rf_data['y'] = {};\n",
    "    rf_data['T'] = []; rf_data['Q'] = []; rf_data['V'] = []; rf_data['L'] = []; rf_data['P_VLE'] = []; \n",
    "    rf_data['s_L'] = [];\n",
    "    for i in m.COMP_TOTAL:\n",
    "        rf_data['x'][i] = []\n",
    "        rf_data['y'][i] = []       \n",
    "\n",
    "    for t in Trange:\n",
    "        model.T.setub(t)\n",
    "        results = opt.solve(model,tee=False)\n",
    "        update_dual(pe,model)\n",
    "        model.T.setub(300+273.15)\n",
    "        print('Solved\\t|T = {:.2f} K\\t|V = {:.4f} kmol/s\\t|L = {:.4f} kmol/s\\t|s_L = {:.4f}\\t|P_VLE = {:.1f}'.\\\n",
    "              format(model.T.value,model.V['out'].value,model.L['out'].value,model.MPCC.s_L.value,model.VLE_block.P_VLE.value))\n",
    "    \n",
    "        rf_data['T'].append(model.T.value)\n",
    "        rf_data['Q'].append(model.Q_main.value)\n",
    "        rf_data['V'].append(model.V['out'].value)\n",
    "        rf_data['L'].append(model.L['out'].value)\n",
    "        rf_data['P_VLE'].append(model.VLE_block.P_VLE.value)\n",
    "        rf_data['s_L'].append(model.MPCC.s_L.value)\n",
    "\n",
    "        for i in m.COMP_TOTAL:\n",
    "            rf_data['x'][i].append(model.x[i].value)\n",
    "            rf_data['y'][i].append(model.y[i].value)\n",
    "        \n",
    "    rf_data_master[c] = rf_data"
   ]
  },
  {
   "cell_type": "markdown",
   "metadata": {},
   "source": [
    "# Optimization results across disappearing phases"
   ]
  },
  {
   "cell_type": "code",
   "execution_count": null,
   "metadata": {},
   "outputs": [],
   "source": [
    "fig, (ax1,ax2) = plt.subplots(1,2,figsize=(16,9))\n",
    "for c in catrange:\n",
    "    ax1.plot(Trange,rf_data_master[c]['V'])\n",
    "ax1.set_ylabel('Vapor Flow Rate (kmol/s)',fontsize=14)\n",
    "ax1.set_xlabel('Temperature (K)',fontsize=14)\n",
    "ax1.tick_params(labelsize=14)\n",
    "ax1.grid()\n",
    "\n",
    "for c in catrange:\n",
    "    ax2.plot(Trange,rf_data_master[c]['L'])\n",
    "ax2.set_ylabel('Liquid Flow Rate (kmol/s)',fontsize=14)\n",
    "ax2.set_xlabel('Temperature (K)',fontsize=14)\n",
    "ax2.tick_params(labelsize=14)\n",
    "ax2.grid()\n",
    "\n",
    "ax2.legend(catrange,fontsize=14)\n",
    "fig.suptitle('Vapor and Liquid Flow Rate',fontsize=18)\n",
    "\n",
    "plt.show()"
   ]
  },
  {
   "cell_type": "code",
   "execution_count": null,
   "metadata": {},
   "outputs": [],
   "source": [
    "fig, ax1 = plt.subplots(figsize=(16,9))\n",
    "for c in catrange:\n",
    "    ax1.plot(Trange,np.divide(rf_data_master[c]['V'],np.add(rf_data_master[c]['V'],rf_data_master[c]['L'])))\n",
    "ax1.set_ylabel('Vapor Fraction',fontsize=14)\n",
    "ax1.set_xlabel('Temperature (K)',fontsize=14)\n",
    "ax1.tick_params(labelsize=14)\n",
    "ax1.legend(catrange,fontsize=14)\n",
    "ax1.set_title('Vapor Fraction',fontsize=18)\n",
    "ax1.grid()\n",
    "plt.show()"
   ]
  },
  {
   "cell_type": "code",
   "execution_count": null,
   "metadata": {},
   "outputs": [],
   "source": [
    "fig, ax1 = plt.subplots(figsize=(16,9))\n",
    "for c in catrange:\n",
    "    ax1.plot(Trange,rf_data_master[c]['P_VLE'])\n",
    "ax1.set_ylabel(r'$P_{VLE}$ value',fontsize=14)\n",
    "ax1.set_xlabel('Temperature (K)',fontsize=14)\n",
    "ax1.tick_params(labelsize=14)\n",
    "ax1.legend(catrange,fontsize=14)\n",
    "ax1.set_title(r'$P_{VLE}$ (Bar)',fontsize=18)\n",
    "ax1.grid()\n",
    "plt.show()"
   ]
  },
  {
   "cell_type": "code",
   "execution_count": null,
   "metadata": {},
   "outputs": [],
   "source": [
    "fig, ax1 = plt.subplots(figsize=(16,9))\n",
    "for c in catrange:\n",
    "    ax1.plot(Trange,np.multiply(rf_data_master[c]['s_L'],rf_data_master[c]['L']))\n",
    "ax1.set_ylabel(r'$s_L \\cdot L$ value',fontsize=14)\n",
    "ax1.set_xlabel('Temperature (K)',fontsize=14)\n",
    "ax1.tick_params(labelsize=14)\n",
    "ax1.legend(catrange,fontsize=14)\n",
    "# ax1.set_ylim(2.49e-5,2.51e-5)\n",
    "ax1.set_title(r'$s_L \\cdot L$',fontsize=18)\n",
    "ax1.grid()\n",
    "plt.show()"
   ]
  },
  {
   "cell_type": "code",
   "execution_count": null,
   "metadata": {},
   "outputs": [],
   "source": []
  }
 ],
 "metadata": {
  "kernelspec": {
   "display_name": "Python 3",
   "language": "python",
   "name": "python3"
  },
  "language_info": {
   "codemirror_mode": {
    "name": "ipython",
    "version": 3
   },
   "file_extension": ".py",
   "mimetype": "text/x-python",
   "name": "python",
   "nbconvert_exporter": "python",
   "pygments_lexer": "ipython3",
   "version": "3.6.3"
  }
 },
 "nbformat": 4,
 "nbformat_minor": 2
}
