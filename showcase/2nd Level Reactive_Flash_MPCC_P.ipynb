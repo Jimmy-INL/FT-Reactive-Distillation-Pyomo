{
 "cells": [
  {
   "cell_type": "markdown",
   "metadata": {
    "slideshow": {
     "slide_type": "slide"
    }
   },
   "source": [
    "# 2nd Level Model Structure: Reactive Stage"
   ]
  },
  {
   "cell_type": "code",
   "execution_count": 1,
   "metadata": {},
   "outputs": [],
   "source": [
    "import sys\n",
    "import os\n",
    "import pickle\n",
    "sys.path.append(os.path.abspath('..'))\n",
    "import numpy as np\n",
    "from matplotlib import pyplot as plt"
   ]
  },
  {
   "cell_type": "code",
   "execution_count": 2,
   "metadata": {
    "slideshow": {
     "slide_type": "fragment"
    }
   },
   "outputs": [],
   "source": [
    "from pyomo import environ as pe\n",
    "from global_sets.component import m\n",
    "from utility.display_utility import trans_product_mole, trans_product_mass\n",
    "from utility.model_utility import add_dual, update_dual, check_DOF\n",
    "\n",
    "# stage construction rules\n",
    "from physics.kinetics_bounded import kinetic_block_rule\n",
    "from physics.energy_bounded import energy_block_rule\n",
    "from physics.VLE_bounded_MPCC_P import VLE_block_rule\n",
    "from physics.MPCC_P import P_NCP_block_rule, P_Reg_block_rule, P_pf_block_rule\n",
    "\n",
    "model = pe.ConcreteModel()"
   ]
  },
  {
   "cell_type": "markdown",
   "metadata": {
    "slideshow": {
     "slide_type": "subslide"
    }
   },
   "source": [
    "# Global Sets (Inlet / Outlet)"
   ]
  },
  {
   "cell_type": "code",
   "execution_count": 3,
   "metadata": {
    "slideshow": {
     "slide_type": "fragment"
    }
   },
   "outputs": [],
   "source": [
    "model.inlet = pe.Set(initialize=['in'])\n",
    "model.outlet = pe.Set(initialize=['out','P'])\n",
    "model.stream = model.inlet | model.outlet"
   ]
  },
  {
   "cell_type": "markdown",
   "metadata": {
    "slideshow": {
     "slide_type": "subslide"
    }
   },
   "source": [
    "# Global Variables"
   ]
  },
  {
   "cell_type": "code",
   "execution_count": 4,
   "metadata": {
    "slideshow": {
     "slide_type": "fragment"
    }
   },
   "outputs": [],
   "source": [
    "# Tray Inlet/Outlet Variable\n",
    "model.x_ = pe.Var(model.inlet,m.COMP_TOTAL,within=pe.NonNegativeReals)\n",
    "model.y_ = pe.Var(model.inlet,m.COMP_TOTAL,within=pe.NonNegativeReals)\n",
    "model.x = pe.Var(m.COMP_TOTAL,within=pe.NonNegativeReals)\n",
    "model.y = pe.Var(m.COMP_TOTAL,within=pe.NonNegativeReals)\n",
    "model.z = pe.Var(m.COMP_FEED,within=pe.NonNegativeReals)\n",
    "\n",
    "model.L = pe.Var(model.stream,within=pe.NonNegativeReals)\n",
    "model.V = pe.Var(model.stream,within=pe.NonNegativeReals)\n",
    "model.F = pe.Var(within=pe.NonNegativeReals)\n",
    "\n",
    "model.H_L_ = pe.Var(model.inlet,within=pe.Reals)\n",
    "model.H_V_ = pe.Var(model.inlet,within=pe.Reals)\n",
    "model.H_L = pe.Var(within=pe.Reals)\n",
    "model.H_V = pe.Var(within=pe.Reals)\n",
    "model.H_F = pe.Var(within=pe.Reals)\n",
    "\n",
    "# State Variable\n",
    "model.T = pe.Var(within=pe.NonNegativeReals,bounds=(200+273.15,300+273.15)) # K\n",
    "model.T_F = pe.Var(within=pe.NonNegativeReals) # K\n",
    "model.P = pe.Var(within=pe.NonNegativeReals,bounds=(10,30)) # Bar\n",
    "\n",
    "model.f_V = pe.Var(m.COMP_TOTAL,within=pe.NonNegativeReals,initialize=1e-20)\n",
    "model.f_L = pe.Var(m.COMP_TOTAL,within=pe.NonNegativeReals,initialize=1e-20)\n",
    "\n",
    "model.cat = pe.Var(within=pe.NonNegativeReals,initialize=3000) # kg\n",
    "model.Q_main = pe.Var(within=pe.Reals) # MW\n",
    "model.r_total_comp = pe.Var(m.COMP_TOTAL,within=pe.Reals) # kmol/s"
   ]
  },
  {
   "cell_type": "markdown",
   "metadata": {
    "slideshow": {
     "slide_type": "slide"
    }
   },
   "source": [
    "# Construct Individual Blocks"
   ]
  },
  {
   "cell_type": "code",
   "execution_count": 5,
   "metadata": {
    "slideshow": {
     "slide_type": "subslide"
    }
   },
   "outputs": [
    {
     "name": "stdout",
     "output_type": "stream",
     "text": [
      "> Importing Kinetics Blocks......\n",
      "> Adding the following local variable:\n",
      "--------------------------------------------------\n",
      "| kinetics_block.k_FT\n",
      "| kinetics_block.r_FT_total\n",
      "| kinetics_block.g0_FT\n",
      "| kinetics_block.alpha\n",
      "| kinetics_block.r_FT_cnum\n",
      "| kinetics_block.r_FT_comp\n",
      "| kinetics_block.k_WGS\n",
      "| kinetics_block.Ke_WGS\n",
      "| kinetics_block.r_WGS\n",
      "| kinetics_block.r_WGS_comp\n",
      "--------------------------------------------------\n",
      "\n"
     ]
    }
   ],
   "source": [
    "model.kinetics_block = pe.Block(rule=kinetic_block_rule)"
   ]
  },
  {
   "cell_type": "code",
   "execution_count": 6,
   "metadata": {
    "slideshow": {
     "slide_type": "subslide"
    }
   },
   "outputs": [
    {
     "name": "stdout",
     "output_type": "stream",
     "text": [
      "> Importing Energy Blocks......\n",
      "> Adding the following local variable:\n",
      "--------------------------------------------------\n",
      "| energy_block.dH_F\n",
      "| energy_block.dH_V\n",
      "| energy_block.dH_L\n",
      "| energy_block.dH_vap\n",
      "--------------------------------------------------\n",
      "\n"
     ]
    }
   ],
   "source": [
    "model.energy_block = pe.Block(rule=energy_block_rule)"
   ]
  },
  {
   "cell_type": "code",
   "execution_count": 7,
   "metadata": {
    "scrolled": false,
    "slideshow": {
     "slide_type": "subslide"
    }
   },
   "outputs": [
    {
     "name": "stdout",
     "output_type": "stream",
     "text": [
      "> Importing VLE Blocks......\n",
      "> Adding the following local variable:\n",
      "--------------------------------------------------\n",
      "| VLE_block.P_VLE\n",
      "| VLE_block.n_ave\n",
      "| VLE_block.n_ave_cal\n",
      "| VLE_block.Hen\n",
      "| VLE_block.Hen0\n",
      "| VLE_block.gamma\n",
      "| VLE_block.P_sat\n",
      "| VLE_block.P_sat_Y\n",
      "| VLE_block.P_sat_dY_inf\n",
      "| VLE_block.P_sat_dY0\n",
      "| VLE_block.Hen_ref\n",
      "| VLE_block.Hen0_ref\n",
      "| VLE_block.gamma_ref\n",
      "| VLE_block.V_L\n",
      "| VLE_block.V_L_dY_inf\n",
      "| VLE_block.V_L_dY0\n",
      "| VLE_block.poynting\n",
      "--------------------------------------------------\n",
      "\n"
     ]
    }
   ],
   "source": [
    "model.VLE_block = pe.Block(rule=VLE_block_rule)"
   ]
  },
  {
   "cell_type": "markdown",
   "metadata": {
    "slideshow": {
     "slide_type": "slide"
    }
   },
   "source": [
    "# Standard MESH Equations"
   ]
  },
  {
   "cell_type": "markdown",
   "metadata": {
    "slideshow": {
     "slide_type": "subslide"
    }
   },
   "source": [
    "## Mass Balance"
   ]
  },
  {
   "cell_type": "markdown",
   "metadata": {
    "slideshow": {
     "slide_type": "fragment"
    }
   },
   "source": [
    "\\begin{equation}\n",
    "Fz_{i}+\\sum_{s\\in{inlet}}L_{s}x'_{i,s}+\\sum_{s\\in{inlet}}V_{s}y'_{i,s}-\\sum_{s\\in{outlet}}L_{s}x_{i,s}+\\sum_{s\\in{ouelet}}V_{s}y_{i,s}+R_{i} = 0 \\\\\n",
    "i = 1,...NC\n",
    "\\end{equation}"
   ]
  },
  {
   "cell_type": "code",
   "execution_count": 8,
   "metadata": {
    "slideshow": {
     "slide_type": "fragment"
    }
   },
   "outputs": [],
   "source": [
    "def mass_balance_main_rule(model,i):\n",
    "    if i in m.COMP_FEED:\n",
    "        return model.F*model.z[i] + sum(model.L[s]*model.x_[s,i] + model.V[s]*model.y_[s,i] for s in model.inlet)\\\n",
    "        + model.r_total_comp[i] - sum(model.L[s]*model.x[i] + model.V[s]*model.y[i] for s in model.outlet) == 0\n",
    "    else:\n",
    "        return sum(model.L[s]*model.x_[s,i] + model.V[s]*model.y_[s,i] for s in model.inlet)\\\n",
    "        + model.r_total_comp[i] - sum(model.L[s]*model.x[i] + model.V[s]*model.y[i] for s in model.outlet) == 0\n",
    "model.mass_balance_main_con = pe.Constraint(m.COMP_TOTAL,rule=mass_balance_main_rule)"
   ]
  },
  {
   "cell_type": "markdown",
   "metadata": {
    "slideshow": {
     "slide_type": "subslide"
    }
   },
   "source": [
    "## Equilibrium"
   ]
  },
  {
   "cell_type": "markdown",
   "metadata": {
    "slideshow": {
     "slide_type": "fragment"
    }
   },
   "source": [
    "\\begin{align}\n",
    "&f_{i,V} = f_{i,L} \\\\\n",
    "&i = 1,...NC\n",
    "\\end{align}"
   ]
  },
  {
   "cell_type": "code",
   "execution_count": 9,
   "metadata": {
    "slideshow": {
     "slide_type": "fragment"
    }
   },
   "outputs": [],
   "source": [
    "def VL_equil_rule(model,i):\n",
    "    return model.f_V[i] == model.f_L[i]\n",
    "model.VL_equil_con = pe.Constraint(m.COMP_TOTAL,rule=VL_equil_rule)"
   ]
  },
  {
   "cell_type": "markdown",
   "metadata": {},
   "source": [
    "## MPCC: Beta"
   ]
  },
  {
   "cell_type": "code",
   "execution_count": 10,
   "metadata": {
    "scrolled": false
   },
   "outputs": [
    {
     "name": "stdout",
     "output_type": "stream",
     "text": [
      "> Importing MPCC_beta_NCP Blocks......\n",
      "> Adding the following local variable:\n",
      "--------------------------------------------------\n",
      "| MPCC.s_L\n",
      "| MPCC.s_V\n",
      "| MPCC.epi\n",
      "--------------------------------------------------\n",
      "> Adding complementarity constraint, spliting pressure used in VLE\n",
      "\n"
     ]
    }
   ],
   "source": [
    "model.MPCC = pe.Block(rule = P_NCP_block_rule)"
   ]
  },
  {
   "cell_type": "markdown",
   "metadata": {
    "slideshow": {
     "slide_type": "subslide"
    }
   },
   "source": [
    "## Summation"
   ]
  },
  {
   "cell_type": "markdown",
   "metadata": {
    "slideshow": {
     "slide_type": "fragment"
    }
   },
   "source": [
    "\\begin{equation}\n",
    "\\sum_ix_{i} = \\sum_iy_{i} \\\\\n",
    "F + L_{in} + V_{in} + R = L_{out} + V_{out}\n",
    "\\end{equation}"
   ]
  },
  {
   "cell_type": "code",
   "execution_count": 11,
   "metadata": {
    "slideshow": {
     "slide_type": "fragment"
    }
   },
   "outputs": [],
   "source": [
    "def summation_x_y_rule(model):\n",
    "    return sum(model.x[i] for i in m.COMP_TOTAL) == sum(model.y[i] for i in m.COMP_TOTAL)\n",
    "model.summation_x_y_con = pe.Constraint(rule=summation_x_y_rule)\n",
    "\n",
    "def summation_total_mass_rule(model):\n",
    "    return model.F + sum(model.L[s] + model.V[s] for s in model.inlet) + sum(model.r_total_comp[i] for i in m.COMP_TOTAL)\\\n",
    "            - sum(model.L[s] + model.V[s] for s in model.outlet) == 0\n",
    "model.summation_total_mass_con = pe.Constraint(rule=summation_total_mass_rule)"
   ]
  },
  {
   "cell_type": "markdown",
   "metadata": {
    "slideshow": {
     "slide_type": "subslide"
    }
   },
   "source": [
    "## Energy Balance"
   ]
  },
  {
   "cell_type": "markdown",
   "metadata": {
    "slideshow": {
     "slide_type": "fragment"
    }
   },
   "source": [
    "\\begin{equation}\n",
    "F H_f+\\sum_{s\\in{inlet}}L_{s}H_{l,s}+\\sum_{s\\in{inlet}}V_{s}H_{v,s}-\\sum_{s\\in{outlet}}L_{s}H_{l,s}-\\sum_{s\\in{outlet}}V_{s}H_{v,s}+Q = 0\n",
    "\\end{equation}"
   ]
  },
  {
   "cell_type": "code",
   "execution_count": 12,
   "metadata": {
    "slideshow": {
     "slide_type": "fragment"
    }
   },
   "outputs": [],
   "source": [
    "def heat_balance_main_rule(model):\n",
    "    return model.F*model.H_F + sum(model.L[s]*model.H_L_[s] + model.V[s]*model.H_V_[s] for s in model.inlet) \\\n",
    "            + model.Q_main - sum(model.L[s]*model.H_L + model.V[s]*model.H_V for s in model.outlet) == 0\n",
    "model.heat_balance_main_con = pe.Constraint(rule=heat_balance_main_rule)"
   ]
  },
  {
   "cell_type": "markdown",
   "metadata": {
    "slideshow": {
     "slide_type": "slide"
    }
   },
   "source": [
    "# Testing"
   ]
  },
  {
   "cell_type": "code",
   "execution_count": 13,
   "metadata": {
    "slideshow": {
     "slide_type": "fragment"
    }
   },
   "outputs": [
    {
     "name": "stdout",
     "output_type": "stream",
     "text": [
      "Created the follow pyomo suffixes:\n",
      "ipopt_zL_out, ipopt_zU_out, ipopt_zL_in, ipopt_zU_in, dual\n"
     ]
    }
   ],
   "source": [
    "add_dual(pe,model)"
   ]
  },
  {
   "cell_type": "markdown",
   "metadata": {
    "slideshow": {
     "slide_type": "fragment"
    }
   },
   "source": [
    "## Fixing In/Product Redundent Flow"
   ]
  },
  {
   "cell_type": "code",
   "execution_count": 14,
   "metadata": {
    "slideshow": {
     "slide_type": "fragment"
    }
   },
   "outputs": [],
   "source": [
    "model.x_.fix(0)\n",
    "model.y_.fix(0)\n",
    "model.L['in'].fix(0)\n",
    "model.L['P'].fix(0)\n",
    "model.V['in'].fix(0)\n",
    "model.V['P'].fix(0)\n",
    "model.H_L_.fix(0)\n",
    "model.H_V_.fix(0)"
   ]
  },
  {
   "cell_type": "markdown",
   "metadata": {
    "slideshow": {
     "slide_type": "subslide"
    }
   },
   "source": [
    "## Fixing Model Parameters"
   ]
  },
  {
   "cell_type": "code",
   "execution_count": 15,
   "metadata": {
    "slideshow": {
     "slide_type": "fragment"
    }
   },
   "outputs": [],
   "source": [
    "model.cat.fix(3000)\n",
    "model.P.fix(20)\n",
    "model.T_F.fix(200+273.15)\n",
    "model.F.fix(1)\n",
    "model.z['CO'].fix(1/(1+0.8)-0/2)\n",
    "model.z['H2'].fix(0.8/(1+0.8)-0/2)\n",
    "model.z['C30H62'].fix(0)\n",
    "model.VLE_block.n_ave.fix(20)"
   ]
  },
  {
   "cell_type": "code",
   "execution_count": 16,
   "metadata": {
    "scrolled": true,
    "slideshow": {
     "slide_type": "fragment"
    }
   },
   "outputs": [
    {
     "name": "stdout",
     "output_type": "stream",
     "text": [
      "Active Equality Constraints:\t 1184\n",
      "Active Inequality Constraints:\t 0\n",
      "Active Variables:\t\t 1357\n",
      "Fixed Variables:\t\t 172\n",
      "DOF:\t\t\t\t 1\n"
     ]
    }
   ],
   "source": [
    "check_DOF(pe,model)"
   ]
  },
  {
   "cell_type": "markdown",
   "metadata": {
    "slideshow": {
     "slide_type": "subslide"
    }
   },
   "source": [
    "## Fix T or to fix Q? we have found that Maximize against an upper bound is most reliable"
   ]
  },
  {
   "cell_type": "code",
   "execution_count": 17,
   "metadata": {
    "slideshow": {
     "slide_type": "fragment"
    }
   },
   "outputs": [],
   "source": [
    "model.T.setub(515)"
   ]
  },
  {
   "cell_type": "code",
   "execution_count": 18,
   "metadata": {
    "slideshow": {
     "slide_type": "fragment"
    }
   },
   "outputs": [],
   "source": [
    "# model.obj = pe.Objective(expr = model.L['out'],sense=pe.maximize)\n",
    "# model.obj = pe.Objective(expr = model.cat,sense=pe.minimize)\n",
    "# model.obj = pe.Objective(expr = model.T - model.MPCC.pf ,sense=pe.maximize)\n",
    "model.obj = pe.Objective(expr = model.T ,sense=pe.maximize)"
   ]
  },
  {
   "cell_type": "code",
   "execution_count": 19,
   "metadata": {},
   "outputs": [],
   "source": [
    "model.MPCC.epi = 1e-4"
   ]
  },
  {
   "cell_type": "code",
   "execution_count": 20,
   "metadata": {
    "scrolled": false,
    "slideshow": {
     "slide_type": "fragment"
    }
   },
   "outputs": [
    {
     "name": "stdout",
     "output_type": "stream",
     "text": [
      "Ipopt 3.12.8: print_user_options=yes\n",
      "max_iter=7000\n",
      "\n",
      "\n",
      "List of user-set options:\n",
      "\n",
      "                                    Name   Value                used\n",
      "                                max_iter = 7000                  yes\n",
      "                      print_user_options = yes                   yes\n",
      "\n",
      "******************************************************************************\n",
      "This program contains Ipopt, a library for large-scale nonlinear optimization.\n",
      " Ipopt is released as open source code under the Eclipse Public License (EPL).\n",
      "         For more information visit http://projects.coin-or.org/Ipopt\n",
      "******************************************************************************\n",
      "\n",
      "This is Ipopt version 3.12.8, running with linear solver mumps.\n",
      "NOTE: Other linear solvers might be more efficient (see Ipopt documentation).\n",
      "\n",
      "Number of nonzeros in equality constraint Jacobian...:     4016\n",
      "Number of nonzeros in inequality constraint Jacobian.:        0\n",
      "Number of nonzeros in Lagrangian Hessian.............:     4399\n",
      "\n",
      "Total number of variables............................:     1185\n",
      "                     variables with only lower bounds:      382\n",
      "                variables with lower and upper bounds:      633\n",
      "                     variables with only upper bounds:        0\n",
      "Total number of equality constraints.................:     1184\n",
      "Total number of inequality constraints...............:        0\n",
      "        inequality constraints with only lower bounds:        0\n",
      "   inequality constraints with lower and upper bounds:        0\n",
      "        inequality constraints with only upper bounds:        0\n",
      "\n",
      "iter    objective    inf_pr   inf_du lg(mu)  ||d||  lg(rg) alpha_du alpha_pr  ls\n",
      "   0 -4.7356850e+02 8.04e+03 1.00e+00  -1.0 0.00e+00    -  0.00e+00 0.00e+00   0\n",
      "   1 -4.7358404e+02 8.04e+03 2.65e+01  -1.0 1.89e+04    -  2.97e-04 3.51e-04h  1\n",
      "   2 -4.7358489e+02 8.04e+03 1.17e+01  -1.0 3.71e+03    -  6.11e-05 1.67e-05h  1\n",
      "   3 -4.7364031e+02 8.03e+03 8.82e+02  -1.0 5.56e+03    -  6.53e-05 1.05e-03h  1\n",
      "   4 -4.7364086e+02 8.03e+03 1.95e+05  -1.0 4.77e+03    -  2.03e-03 1.05e-05h  1\n",
      "   5r-4.7364086e+02 8.03e+03 9.99e+02   3.8 0.00e+00    -  0.00e+00 5.54e-08R  2\n",
      "   6r-4.7364867e+02 8.03e+03 9.99e+02   3.8 5.57e+05    -  1.85e-05 1.89e-06f  1\n",
      "   7r-4.7519393e+02 7.75e+03 9.99e+02   2.4 5.69e+05    -  1.37e-04 3.95e-04f  1\n",
      "   8r-4.8119292e+02 6.55e+03 9.98e+02   2.4 1.63e+06    -  4.50e-04 5.99e-04f  1\n",
      "   9 -4.8125566e+02 6.54e+03 6.51e+00  -1.0 4.83e+03    -  2.21e-04 1.38e-03h  1\n",
      "iter    objective    inf_pr   inf_du lg(mu)  ||d||  lg(rg) alpha_du alpha_pr  ls\n",
      "  10 -4.8134849e+02 6.53e+03 7.01e+00  -1.0 9.88e+02    -  1.92e-03 1.77e-03h  1\n",
      "  11 -4.8157830e+02 6.50e+03 8.61e+00  -1.0 9.85e+02    -  3.96e-03 4.38e-03f  1\n",
      "  12 -4.8158078e+02 6.50e+03 5.33e+02  -1.0 9.80e+02    -  9.87e-03 4.76e-05h  1\n",
      "  13r-4.8158078e+02 6.50e+03 9.99e+02   3.7 0.00e+00    -  0.00e+00 3.23e-07R  3\n",
      "  14r-4.8159173e+02 6.50e+03 2.03e+03   3.7 5.66e+05    -  3.48e-04 2.56e-06f  1\n",
      "  15r-4.9386439e+02 4.25e+03 1.86e+03   2.3 6.35e+05    -  2.04e-03 2.85e-03f  1\n",
      "  16 -4.9387888e+02 4.25e+03 1.67e+02  -1.0 2.15e+03    -  1.29e-04 3.10e-04h  1\n",
      "  17r-4.9387888e+02 4.25e+03 9.99e+02   3.5 0.00e+00    -  0.00e+00 4.28e-07R  4\n",
      "  18r-4.9388402e+02 4.24e+03 3.63e+03   3.5 6.09e+05    -  1.12e-03 1.20e-06f  1\n",
      "  19r-5.1075115e+02 8.87e+02 3.65e+03   2.1 6.56e+05    -  5.15e-03 4.09e-03f  1\n",
      "iter    objective    inf_pr   inf_du lg(mu)  ||d||  lg(rg) alpha_du alpha_pr  ls\n",
      "  20 -5.1078126e+02 8.86e+02 8.09e+01  -1.0 4.28e+03    -  3.76e-03 8.80e-04h  1\n",
      "  21 -5.1078976e+02 8.86e+02 2.20e+02  -1.0 5.03e+03    -  4.71e-03 2.17e-04h  1\n",
      "  22r-5.1078976e+02 8.86e+02 9.99e+02   2.9 0.00e+00    -  0.00e+00 3.08e-07R  4\n",
      "  23r-5.1079764e+02 8.86e+02 9.99e+02   2.9 4.61e+05    -  8.89e-04 2.42e-06f  2\n",
      "  24r-5.1495798e+02 8.35e+02 1.40e+03   2.2 3.28e+05    -  6.26e-03 1.85e-03f  1\n",
      "  25r-5.1499958e+02 7.30e+02 1.83e+03   2.2 5.46e+04    -  4.86e-03 1.92e-03f  1\n",
      "  26 -5.1500000e+02 7.30e+02 2.73e+02  -1.0 4.66e+03    -  8.73e-04 1.69e-05h  1\n",
      "  27 -5.1500000e+02 7.30e+02 2.73e+02  -1.0 1.23e+04    -  1.75e-04 2.73e-04h  1\n",
      "  28r-5.1500000e+02 7.30e+02 9.99e+02   2.9 0.00e+00    -  0.00e+00 3.37e-07R  4\n",
      "  29r-5.1499989e+02 7.30e+02 5.22e+03   2.9 2.51e+04    -  7.98e-03 1.31e-05f  1\n",
      "iter    objective    inf_pr   inf_du lg(mu)  ||d||  lg(rg) alpha_du alpha_pr  ls\n",
      "  30r-5.1499060e+02 5.03e+02 4.41e+03   2.2 2.41e+04    -  7.89e-03 1.54e-02f  1\n",
      "  31 -5.1499841e+02 5.02e+02 2.74e+02  -1.0 4.61e+03    -  3.51e-03 2.60e-04h  1\n",
      "  32 -5.1499999e+02 5.02e+02 9.15e+02  -1.0 4.10e+03    -  6.60e-03 1.06e-04h  1\n",
      "  33 -5.1500000e+02 5.02e+02 2.20e+03  -1.0 6.34e+03    -  8.62e-04 3.43e-04h  1\n",
      "  34 -5.1500001e+02 5.02e+02 4.39e+05  -1.0 6.43e+03    -  5.00e-03 3.32e-05h  1\n",
      "  35r-5.1500001e+02 5.02e+02 1.00e+03   2.7 0.00e+00    -  0.00e+00 3.99e-07R  3\n",
      "  36r-5.1499999e+02 5.02e+02 9.05e+03   2.7 1.40e+04    -  2.54e-02 2.68e-05f  1\n",
      "  37r-5.1499763e+02 4.88e+02 8.42e+03   2.0 1.25e+04    -  1.18e-02 2.69e-02f  1\n",
      "  38r-5.1499728e+02 4.84e+02 8.45e+03   2.0 1.16e+03    -  1.51e-02 3.89e-03f  1\n",
      "  39r-5.1499432e+02 4.45e+02 8.11e+03   2.0 1.15e+03    -  2.46e-02 3.35e-02f  1\n",
      "iter    objective    inf_pr   inf_du lg(mu)  ||d||  lg(rg) alpha_du alpha_pr  ls\n",
      "  40 -5.1499517e+02 4.44e+02 8.12e+00  -1.0 2.46e+03    -  2.32e-03 1.41e-03h  1\n",
      "  41 -5.1499668e+02 4.44e+02 1.53e+02  -1.0 2.87e+03    -  4.42e-03 8.11e-05h  1\n",
      "  42 -5.1499997e+02 4.44e+02 1.40e+04  -1.0 3.41e+03    -  1.45e-02 1.48e-04h  1\n",
      "  43r-5.1499997e+02 4.44e+02 1.00e+03   2.6 0.00e+00    -  0.00e+00 3.80e-07R  3\n",
      "  44r-5.1499997e+02 4.44e+02 1.42e+03   2.6 3.28e+03    -  3.89e-03 1.13e-05f  2\n",
      "  45r-5.1499607e+02 3.01e+02 9.09e+03   1.9 3.28e+03    -  8.37e-03 4.37e-02f  1\n",
      "  46 -5.1498891e+02 2.99e+02 7.34e+01  -1.0 3.99e+02    -  7.26e-05 5.42e-03f  1\n",
      "  47 -5.1498928e+02 2.99e+02 1.10e+02  -1.0 6.66e+02    -  7.75e-03 8.37e-05h  1\n",
      "  48 -5.1499990e+02 2.99e+02 1.89e+03  -1.0 2.30e+03    -  1.46e-02 7.09e-04h  1\n",
      "  49r-5.1499990e+02 2.99e+02 1.00e+03   2.5 0.00e+00    -  0.00e+00 2.51e-07R  6\n",
      "iter    objective    inf_pr   inf_du lg(mu)  ||d||  lg(rg) alpha_du alpha_pr  ls\n",
      "  50r-5.1499984e+02 2.99e+02 2.48e+04   2.5 1.19e+04    -  1.74e-02 1.78e-05f  2\n",
      "  51r-5.1498365e+02 6.65e+01 2.70e+04   1.8 1.16e+04    -  4.87e-02 2.55e-02f  1\n",
      "  52 -5.1498310e+02 6.54e+01 1.58e+02  -1.0 2.68e+02    -  3.19e-02 1.63e-02h  1\n",
      "  53 -5.1498339e+02 6.54e+01 8.48e+03  -1.0 2.67e+02    -  2.96e-02 2.02e-04h  1\n",
      "  54 -5.1499583e+02 6.53e+01 7.32e+05  -1.0 1.67e+03    -  9.62e-02 1.15e-03h  1\n",
      "  55 -5.1499996e+02 6.53e+01 5.91e+07  -1.0 1.67e+03    -  3.06e-02 3.82e-04h  1\n",
      "  56r-5.1499996e+02 6.53e+01 1.00e+03   1.8 0.00e+00    -  0.00e+00 4.77e-07R  4\n",
      "  57r-5.1499990e+02 6.27e+01 1.50e+04   1.8 2.91e+03    -  5.42e-02 9.04e-04f  1\n",
      "  58r-5.1499896e+02 2.85e+01 1.15e+04   1.8 2.56e+03    -  1.86e-03 1.40e-02f  1\n",
      "  59 -5.1493509e+02 2.27e+01 6.17e+03  -1.0 2.03e+02    -  4.76e-03 2.02e-01h  1\n",
      "iter    objective    inf_pr   inf_du lg(mu)  ||d||  lg(rg) alpha_du alpha_pr  ls\n",
      "  60 -5.1491869e+02 2.26e+01 4.84e+03  -1.0 6.31e+02    -  2.44e-01 4.01e-03h  1\n",
      "  61 -5.1499919e+02 2.23e+01 5.93e+03  -1.0 7.90e+02    -  2.93e-01 1.57e-02h  1\n",
      "  62 -5.1500000e+02 2.23e+01 5.33e+04  -1.0 6.78e+02    -  3.41e-01 1.82e-04h  1\n",
      "  63 -5.1500001e+02 2.23e+01 2.90e+08  -1.0 1.12e+02    -  4.62e-01 8.40e-05h  1\n",
      "  64r-5.1500001e+02 2.23e+01 1.00e+03   1.3 0.00e+00    -  0.00e+00 4.78e-07R  2\n",
      "  65r-5.1499997e+02 1.88e+01 3.55e+03   1.3 7.32e+03    -  4.63e-02 1.89e-03f  1\n",
      "  66 -5.1499996e+02 1.88e+01 8.55e+03  -1.0 1.01e+02    -  2.82e-01 7.77e-05h  1\n",
      "  67 -5.1500000e+02 1.88e+01 8.16e+07  -1.0 5.26e+02    -  2.37e-01 1.19e-05h  1\n",
      "  68r-5.1500000e+02 1.88e+01 1.00e+03   0.9 0.00e+00    -  0.00e+00 8.15e-08R  2\n",
      "  69r-5.1500000e+02 1.42e+01 9.95e+02   0.9 5.42e+03    -  2.69e-02 1.07e-03f  1\n",
      "iter    objective    inf_pr   inf_du lg(mu)  ||d||  lg(rg) alpha_du alpha_pr  ls\n",
      "  70 -5.1500000e+02 1.42e+01 9.69e+04  -1.0 1.01e+02    -  2.90e-01 3.38e-05h  1\n",
      "  71 -5.1500001e+02 1.42e+01 9.69e+04  -1.0 2.70e+02    -  5.68e-06 5.68e-06s  5\n",
      "  72r-5.1500001e+02 1.42e+01 1.00e+03   0.2 0.00e+00    -  0.00e+00 0.00e+00R  1\n",
      "  73r-5.1500000e+02 2.88e+00 1.00e+03   0.2 1.31e+03    -  6.39e-03 1.15e-03f  1\n",
      "  74r-5.1499999e+02 1.77e+00 9.92e+02   0.2 3.79e+02    -  1.56e-02 5.95e-03f  1\n",
      "  75r-5.1499997e+02 1.75e+00 1.25e+03   0.2 3.97e+02    -  3.57e-02 1.51e-02f  1\n",
      "  76r-5.1499992e+02 1.71e+00 1.96e+03   0.2 3.89e+02    -  7.35e-02 2.51e-02f  1\n",
      "  77r-5.1499985e+02 1.65e+00 6.25e+03   0.2 2.98e+02    -  3.30e-01 3.55e-02f  1\n",
      "  78r-5.1499945e+02 2.17e+00 7.45e+03   0.2 2.43e+02    -  3.27e-01 1.30e-01f  1\n",
      "  79r-5.1499832e+02 4.31e+00 5.64e+03   0.2 1.63e+02    -  2.44e-01 2.43e-01f  1\n",
      "iter    objective    inf_pr   inf_du lg(mu)  ||d||  lg(rg) alpha_du alpha_pr  ls\n",
      "  80r-5.1499682e+02 3.29e+00 4.88e+03   0.2 1.40e+02    -  3.29e-01 2.37e-01f  1\n",
      "  81r-5.1499655e+02 3.20e+00 6.57e+03   0.2 8.04e+01    -  4.32e-01 2.78e-02f  1\n",
      "  82r-5.1497914e+02 8.81e+00 7.53e+03   0.2 3.22e+01    -  4.32e-01 9.70e-01f  1\n",
      "  83r-5.1495751e+02 4.43e+00 2.84e+03   0.2 5.12e+00    -  5.79e-01 6.50e-01f  1\n",
      "  84r-5.1486923e+02 1.04e+00 2.95e+02   0.2 1.36e+01    -  7.75e-01 1.00e+00f  1\n",
      "  85 -5.1487266e+02 1.19e+00 3.93e+02  -1.0 5.56e+02    -  2.79e-01 3.83e-02f  1\n",
      "  86 -5.1487343e+02 1.19e+00 9.63e+02  -1.0 2.68e+02    -  1.73e-01 9.86e-03h  3\n",
      "  87 -5.1487519e+02 1.19e+00 4.57e+03  -1.0 2.55e+02    -  5.00e-01 1.10e-02h  3\n",
      "  88 -5.1489030e+02 1.19e+00 9.71e+03  -1.0 2.41e+02    -  2.67e-01 1.69e-02h  3\n",
      "  89 -5.1489568e+02 1.19e+00 4.10e+04  -1.0 2.28e+02    -  9.88e-01 1.55e-02h  5\n",
      "iter    objective    inf_pr   inf_du lg(mu)  ||d||  lg(rg) alpha_du alpha_pr  ls\n",
      "  90 -5.1488813e+02 1.19e+00 1.82e+04  -1.0 2.19e+02    -  1.73e-01 1.55e-02h  7\n",
      "  91 -5.1488735e+02 1.18e+00 1.85e+04  -1.0 2.09e+02    -  6.88e-02 1.55e-02h  7\n",
      "  92 -5.1489432e+02 1.18e+00 2.84e+04  -1.0 2.01e+02    -  9.90e-01 1.64e-02h  5\n",
      "  93 -5.1488855e+02 1.18e+00 2.78e+04  -1.0 1.95e+02    -  5.45e-02 3.09e-02h  6\n",
      "  94 -5.1488998e+02 1.18e+00 3.74e+04  -1.0 1.84e+02    -  1.00e+00 3.09e-02h  6\n",
      "  95 -5.1488855e+02 1.17e+00 3.67e+04  -1.0 1.75e+02    -  8.11e-02 3.09e-02h  6\n",
      "  96 -5.1490907e+02 1.13e+01 7.22e+04  -1.0 1.67e+02    -  1.00e+00 9.90e-01w  1\n",
      "  97 -5.1486719e+02 5.86e-01 1.39e+05  -1.0 2.07e+01    -  5.23e-01 9.90e-01h  1\n"
     ]
    },
    {
     "name": "stdout",
     "output_type": "stream",
     "text": [
      "  98 -5.1499868e+02 2.72e-01 1.26e+06  -1.0 6.46e+01    -  1.00e+00 5.55e-01h  1\n",
      "  99 -5.1495986e+02 3.01e-02 3.63e+05  -1.0 2.68e+01    -  1.00e+00 9.15e-01h  1\n",
      "iter    objective    inf_pr   inf_du lg(mu)  ||d||  lg(rg) alpha_du alpha_pr  ls\n",
      " 100 -5.1494323e+02 1.74e-04 1.68e+03  -1.0 2.56e+00    -  1.00e+00 1.00e+00h  1\n",
      " 101 -5.1497146e+02 3.29e-04 1.97e+03  -1.7 4.34e+00    -  1.00e+00 1.00e+00f  1\n",
      " 102 -5.1498215e+02 4.71e-05 2.92e+00  -1.7 1.64e+00    -  1.00e+00 1.00e+00h  1\n",
      " 103 -5.1499805e+02 1.04e-04 3.22e+02  -3.8 2.45e+00    -  1.00e+00 1.00e+00f  1\n",
      " 104 -5.1499985e+02 1.34e-06 1.51e-01  -3.8 2.77e-01    -  1.00e+00 1.00e+00h  1\n",
      " 105 -5.1499985e+02 1.42e-10 3.12e-08  -3.8 1.18e-04    -  1.00e+00 1.00e+00h  1\n",
      " 106 -5.1500000e+02 9.07e-09 2.27e-02  -5.7 2.28e-02    -  1.00e+00 1.00e+00f  1\n",
      " 107 -5.1500000e+02 1.42e-10 7.67e-10  -5.7 1.96e-05    -  1.00e+00 1.00e+00h  1\n",
      " 108 -5.1500001e+02 1.41e-10 3.50e-06  -8.6 2.83e-04    -  1.00e+00 1.00e+00h  1\n",
      " 109 -5.1500001e+02 1.42e-10 2.51e-14  -8.6 3.01e-09    -  1.00e+00 1.00e+00h  1\n",
      "\n",
      "Number of Iterations....: 109\n",
      "\n",
      "                                   (scaled)                 (unscaled)\n",
      "Objective...............:  -5.1500000514749411e+02   -5.1500000514749411e+02\n",
      "Dual infeasibility......:   2.5118795932144167e-14    2.5118795932144167e-14\n",
      "Constraint violation....:   1.4232275243313691e-10    1.4232275243313691e-10\n",
      "Complementarity.........:   2.5059035596805800e-09    2.5059035596805800e-09\n",
      "Overall NLP error.......:   2.5059035596805800e-09    2.5059035596805800e-09\n",
      "\n",
      "\n",
      "Number of objective function evaluations             = 214\n",
      "Number of objective gradient evaluations             = 86\n",
      "Number of equality constraint evaluations            = 214\n",
      "Number of inequality constraint evaluations          = 0\n",
      "Number of equality constraint Jacobian evaluations   = 122\n",
      "Number of inequality constraint Jacobian evaluations = 0\n",
      "Number of Lagrangian Hessian evaluations             = 109\n",
      "Total CPU secs in IPOPT (w/o function evaluations)   =      4.236\n",
      "Total CPU secs in NLP function evaluations           =      0.287\n",
      "\n",
      "EXIT: Optimal Solution Found.\n"
     ]
    }
   ],
   "source": [
    "opt = pe.SolverFactory('ipopt')\n",
    "\n",
    "opt.options['print_user_options'] = 'yes'\n",
    "# opt.options['linear_solver'] = 'ma86'\n",
    "\n",
    "# opt.options['bound_relax_factor'] = 0\n",
    "# opt.options['halt_on_ampl_error'] = 'yes'\n",
    "\n",
    "opt.options['max_iter'] = 7000\n",
    "results = opt.solve(model,tee=True)\n",
    "update_dual(pe,model)"
   ]
  },
  {
   "cell_type": "code",
   "execution_count": 21,
   "metadata": {
    "scrolled": true,
    "slideshow": {
     "slide_type": "skip"
    }
   },
   "outputs": [
    {
     "data": {
      "text/plain": [
       "515.0"
      ]
     },
     "execution_count": 21,
     "metadata": {},
     "output_type": "execute_result"
    }
   ],
   "source": [
    "model.T.value"
   ]
  },
  {
   "cell_type": "code",
   "execution_count": 22,
   "metadata": {},
   "outputs": [
    {
     "data": {
      "text/plain": [
       "0.032515539347061244"
      ]
     },
     "execution_count": 22,
     "metadata": {},
     "output_type": "execute_result"
    }
   ],
   "source": [
    "model.MPCC.s_L.value"
   ]
  },
  {
   "cell_type": "code",
   "execution_count": 23,
   "metadata": {
    "scrolled": true
   },
   "outputs": [
    {
     "data": {
      "text/plain": [
       "20.032454239845837"
      ]
     },
     "execution_count": 23,
     "metadata": {},
     "output_type": "execute_result"
    }
   ],
   "source": [
    "model.VLE_block.P_VLE.value"
   ]
  },
  {
   "cell_type": "code",
   "execution_count": 24,
   "metadata": {
    "scrolled": true
   },
   "outputs": [
    {
     "data": {
      "text/plain": [
       "0.0007688631498053085"
      ]
     },
     "execution_count": 24,
     "metadata": {},
     "output_type": "execute_result"
    }
   ],
   "source": [
    "model.L['out'].value"
   ]
  },
  {
   "cell_type": "markdown",
   "metadata": {},
   "source": [
    "# epi"
   ]
  },
  {
   "cell_type": "code",
   "execution_count": 25,
   "metadata": {},
   "outputs": [],
   "source": [
    "model.MPCC.epi = 1e-5"
   ]
  },
  {
   "cell_type": "code",
   "execution_count": 26,
   "metadata": {},
   "outputs": [
    {
     "name": "stdout",
     "output_type": "stream",
     "text": [
      "Ipopt 3.12.8: print_user_options=yes\n",
      "max_iter=7000\n",
      "\n",
      "\n",
      "List of user-set options:\n",
      "\n",
      "                                    Name   Value                used\n",
      "                                max_iter = 7000                  yes\n",
      "                      print_user_options = yes                   yes\n",
      "\n",
      "******************************************************************************\n",
      "This program contains Ipopt, a library for large-scale nonlinear optimization.\n",
      " Ipopt is released as open source code under the Eclipse Public License (EPL).\n",
      "         For more information visit http://projects.coin-or.org/Ipopt\n",
      "******************************************************************************\n",
      "\n",
      "This is Ipopt version 3.12.8, running with linear solver mumps.\n",
      "NOTE: Other linear solvers might be more efficient (see Ipopt documentation).\n",
      "\n",
      "Number of nonzeros in equality constraint Jacobian...:     4016\n",
      "Number of nonzeros in inequality constraint Jacobian.:        0\n",
      "Number of nonzeros in Lagrangian Hessian.............:     4399\n",
      "\n",
      "Total number of variables............................:     1185\n",
      "                     variables with only lower bounds:      382\n",
      "                variables with lower and upper bounds:      633\n",
      "                     variables with only upper bounds:        0\n",
      "Total number of equality constraints.................:     1184\n",
      "Total number of inequality constraints...............:        0\n",
      "        inequality constraints with only lower bounds:        0\n",
      "   inequality constraints with lower and upper bounds:        0\n",
      "        inequality constraints with only upper bounds:        0\n",
      "\n",
      "iter    objective    inf_pr   inf_du lg(mu)  ||d||  lg(rg) alpha_du alpha_pr  ls\n",
      "   0 -5.1458151e+02 2.60e+02 1.00e+00  -1.0 0.00e+00    -  0.00e+00 0.00e+00   0\n",
      "   1 -5.1499582e+02 5.67e+01 8.01e+04  -1.0 1.70e+01    -  6.06e-01 7.82e-01h  1\n",
      "   2 -5.1498234e+02 4.59e+01 7.90e+04  -1.0 2.48e+01    -  9.89e-01 1.91e-01h  1\n",
      "   3 -5.1499983e+02 3.02e+01 5.21e+04  -1.0 5.27e+01    -  8.60e-01 3.42e-01h  1\n",
      "   4 -5.1498951e+02 2.99e-01 9.46e+02  -1.0 1.13e+01    -  7.28e-01 9.90e-01h  1\n",
      "   5 -5.1415187e+02 8.79e-03 8.61e+02  -1.0 1.30e+02    -  1.00e+00 9.91e-01H  1\n",
      "   6 -5.1499152e+02 9.96e-04 1.01e+04  -1.0 1.29e+02    -  1.00e+00 9.97e-01H  1\n",
      "   7 -5.1494543e+02 8.77e-04 3.53e+03  -1.0 7.09e+00    -  1.00e+00 1.00e+00h  1\n",
      "   8 -5.1493709e+02 2.87e-05 2.02e+02  -1.0 1.28e+00    -  1.00e+00 1.00e+00h  1\n",
      "   9 -5.1497609e+02 6.28e-04 3.81e+03  -2.5 6.00e+00    -  1.00e+00 1.00e+00f  1\n",
      "iter    objective    inf_pr   inf_du lg(mu)  ||d||  lg(rg) alpha_du alpha_pr  ls\n",
      "  10 -5.1499712e+02 1.82e-04 2.06e+01  -2.5 3.24e+00    -  1.00e+00 1.00e+00h  1\n",
      "  11 -5.1499722e+02 4.56e-09 5.63e-04  -2.5 1.64e-02    -  1.00e+00 1.00e+00h  1\n",
      "  12 -5.1499996e+02 3.09e-06 3.11e+01  -5.7 4.21e-01    -  1.00e+00 1.00e+00f  1\n",
      "  13 -5.1500000e+02 8.48e-10 9.32e-05  -5.7 6.95e-03    -  1.00e+00 1.00e+00h  1\n",
      "  14 -5.1500000e+02 4.39e-11 1.85e-11  -5.7 8.79e-08    -  1.00e+00 1.00e+00h  1\n",
      "  15 -5.1500001e+02 1.41e-10 3.50e-06  -8.6 2.83e-04    -  1.00e+00 1.00e+00h  1\n",
      "  16 -5.1500001e+02 1.42e-10 2.51e-14  -8.6 3.05e-09    -  1.00e+00 1.00e+00h  1\n",
      "\n",
      "Number of Iterations....: 16\n",
      "\n",
      "                                   (scaled)                 (unscaled)\n",
      "Objective...............:  -5.1500000514749411e+02   -5.1500000514749411e+02\n",
      "Dual infeasibility......:   2.5146551507759796e-14    2.5146551507759796e-14\n",
      "Constraint violation....:   1.4232275221629648e-10    1.4232275221629648e-10\n",
      "Complementarity.........:   2.5059035597029164e-09    2.5059035597029164e-09\n",
      "Overall NLP error.......:   2.5059035597029164e-09    2.5059035597029164e-09\n",
      "\n",
      "\n",
      "Number of objective function evaluations             = 19\n",
      "Number of objective gradient evaluations             = 17\n",
      "Number of equality constraint evaluations            = 19\n",
      "Number of inequality constraint evaluations          = 0\n",
      "Number of equality constraint Jacobian evaluations   = 17\n",
      "Number of inequality constraint Jacobian evaluations = 0\n",
      "Number of Lagrangian Hessian evaluations             = 16\n",
      "Total CPU secs in IPOPT (w/o function evaluations)   =      0.520\n",
      "Total CPU secs in NLP function evaluations           =      0.037\n",
      "\n",
      "EXIT: Optimal Solution Found.\n"
     ]
    }
   ],
   "source": [
    "results = opt.solve(model,tee=True)\n",
    "update_dual(pe,model)"
   ]
  },
  {
   "cell_type": "code",
   "execution_count": 27,
   "metadata": {
    "scrolled": true,
    "slideshow": {
     "slide_type": "skip"
    }
   },
   "outputs": [
    {
     "data": {
      "text/plain": [
       "515.0"
      ]
     },
     "execution_count": 27,
     "metadata": {},
     "output_type": "execute_result"
    }
   ],
   "source": [
    "model.T.value"
   ]
  },
  {
   "cell_type": "code",
   "execution_count": 28,
   "metadata": {},
   "outputs": [
    {
     "data": {
      "text/plain": [
       "0.003264167342030924"
      ]
     },
     "execution_count": 28,
     "metadata": {},
     "output_type": "execute_result"
    }
   ],
   "source": [
    "model.MPCC.s_L.value"
   ]
  },
  {
   "cell_type": "code",
   "execution_count": 29,
   "metadata": {
    "scrolled": true
   },
   "outputs": [
    {
     "data": {
      "text/plain": [
       "20.00325803778038"
      ]
     },
     "execution_count": 29,
     "metadata": {},
     "output_type": "execute_result"
    }
   ],
   "source": [
    "model.VLE_block.P_VLE.value"
   ]
  },
  {
   "cell_type": "code",
   "execution_count": 30,
   "metadata": {
    "scrolled": true
   },
   "outputs": [
    {
     "data": {
      "text/plain": [
       "0.0007658921060231348"
      ]
     },
     "execution_count": 30,
     "metadata": {},
     "output_type": "execute_result"
    }
   ],
   "source": [
    "model.L['out'].value"
   ]
  },
  {
   "cell_type": "markdown",
   "metadata": {},
   "source": [
    "# epi"
   ]
  },
  {
   "cell_type": "code",
   "execution_count": 31,
   "metadata": {},
   "outputs": [],
   "source": [
    "model.MPCC.epi = 1e-6"
   ]
  },
  {
   "cell_type": "code",
   "execution_count": 32,
   "metadata": {},
   "outputs": [
    {
     "name": "stdout",
     "output_type": "stream",
     "text": [
      "Ipopt 3.12.8: print_user_options=yes\n",
      "max_iter=7000\n",
      "\n",
      "\n",
      "List of user-set options:\n",
      "\n",
      "                                    Name   Value                used\n",
      "                                max_iter = 7000                  yes\n",
      "                      print_user_options = yes                   yes\n",
      "\n",
      "******************************************************************************\n",
      "This program contains Ipopt, a library for large-scale nonlinear optimization.\n",
      " Ipopt is released as open source code under the Eclipse Public License (EPL).\n",
      "         For more information visit http://projects.coin-or.org/Ipopt\n",
      "******************************************************************************\n",
      "\n",
      "This is Ipopt version 3.12.8, running with linear solver mumps.\n",
      "NOTE: Other linear solvers might be more efficient (see Ipopt documentation).\n",
      "\n",
      "Number of nonzeros in equality constraint Jacobian...:     4016\n",
      "Number of nonzeros in inequality constraint Jacobian.:        0\n",
      "Number of nonzeros in Lagrangian Hessian.............:     4399\n",
      "\n",
      "Total number of variables............................:     1185\n",
      "                     variables with only lower bounds:      382\n",
      "                variables with lower and upper bounds:      633\n",
      "                     variables with only upper bounds:        0\n",
      "Total number of equality constraints.................:     1184\n",
      "Total number of inequality constraints...............:        0\n",
      "        inequality constraints with only lower bounds:        0\n",
      "   inequality constraints with lower and upper bounds:        0\n",
      "        inequality constraints with only upper bounds:        0\n",
      "\n",
      "iter    objective    inf_pr   inf_du lg(mu)  ||d||  lg(rg) alpha_du alpha_pr  ls\n",
      "   0 -5.1458151e+02 2.60e+02 1.00e+00  -1.0 0.00e+00    -  0.00e+00 0.00e+00   0\n",
      "   1 -5.1499582e+02 3.06e+01 2.97e+02  -1.0 4.20e+01    -  8.82e-01 8.82e-01h  1\n",
      "   2 -5.1492278e+02 2.97e-01 1.75e+02  -1.0 1.88e+01    -  9.90e-01 9.90e-01h  1\n",
      "   3 -5.1496272e+02 1.72e-02 4.34e+02  -1.0 2.77e+01    -  9.92e-01 9.91e-01h  1\n",
      "   4 -5.1495346e+02 1.27e-03 3.11e+04  -1.0 1.65e+01    -  1.00e+00 1.00e+00h  1\n",
      "   5 -5.1495016e+02 9.37e-06 3.28e+04  -1.0 1.49e+00    -  1.00e+00 1.00e+00h  1\n",
      "   6 -5.1493955e+02 1.68e-09 5.17e+02  -1.0 1.63e+00    -  1.00e+00 1.00e+00H  1\n",
      "   7 -5.1497677e+02 5.71e-04 3.57e+03  -2.5 5.72e+00    -  1.00e+00 1.00e+00f  1\n",
      "   8 -5.1499713e+02 1.71e-04 1.86e+01  -2.5 3.13e+00    -  1.00e+00 1.00e+00h  1\n",
      "   9 -5.1499722e+02 3.84e-09 4.67e-04  -2.5 1.50e-02    -  1.00e+00 1.00e+00h  1\n",
      "iter    objective    inf_pr   inf_du lg(mu)  ||d||  lg(rg) alpha_du alpha_pr  ls\n",
      "  10 -5.1499996e+02 3.09e-06 3.12e+01  -5.7 4.21e-01    -  1.00e+00 1.00e+00f  1\n",
      "  11 -5.1500000e+02 8.22e-10 9.33e-05  -5.7 6.96e-03    -  1.00e+00 1.00e+00h  1\n",
      "  12 -5.1500000e+02 4.39e-11 1.85e-11  -5.7 8.83e-08    -  1.00e+00 1.00e+00h  1\n",
      "  13 -5.1500001e+02 1.41e-10 3.50e-06  -8.6 2.83e-04    -  1.00e+00 1.00e+00h  1\n",
      "  14 -5.1500001e+02 1.42e-10 2.51e-14  -8.6 3.06e-09    -  1.00e+00 1.00e+00h  1\n",
      "\n",
      "Number of Iterations....: 14\n",
      "\n",
      "                                   (scaled)                 (unscaled)\n",
      "Objective...............:  -5.1500000514749411e+02   -5.1500000514749411e+02\n",
      "Dual infeasibility......:   2.5132673719951981e-14    2.5132673719951981e-14\n",
      "Constraint violation....:   1.4232275221629648e-10    1.4232275221629648e-10\n",
      "Complementarity.........:   2.5059035597029164e-09    2.5059035597029164e-09\n",
      "Overall NLP error.......:   2.5059035597029164e-09    2.5059035597029164e-09\n",
      "\n",
      "\n",
      "Number of objective function evaluations             = 16\n",
      "Number of objective gradient evaluations             = 15\n",
      "Number of equality constraint evaluations            = 16\n",
      "Number of inequality constraint evaluations          = 0\n",
      "Number of equality constraint Jacobian evaluations   = 15\n",
      "Number of inequality constraint Jacobian evaluations = 0\n",
      "Number of Lagrangian Hessian evaluations             = 14\n",
      "Total CPU secs in IPOPT (w/o function evaluations)   =      0.467\n",
      "Total CPU secs in NLP function evaluations           =      0.032\n",
      "\n",
      "EXIT: Optimal Solution Found.\n"
     ]
    }
   ],
   "source": [
    "results = opt.solve(model,tee=True)\n",
    "update_dual(pe,model)"
   ]
  },
  {
   "cell_type": "code",
   "execution_count": 33,
   "metadata": {
    "scrolled": true,
    "slideshow": {
     "slide_type": "skip"
    }
   },
   "outputs": [
    {
     "data": {
      "text/plain": [
       "515.0"
      ]
     },
     "execution_count": 33,
     "metadata": {},
     "output_type": "execute_result"
    }
   ],
   "source": [
    "model.T.value"
   ]
  },
  {
   "cell_type": "code",
   "execution_count": 34,
   "metadata": {},
   "outputs": [
    {
     "data": {
      "text/plain": [
       "0.0003265438147038778"
      ]
     },
     "execution_count": 34,
     "metadata": {},
     "output_type": "execute_result"
    }
   ],
   "source": [
    "model.MPCC.s_L.value"
   ]
  },
  {
   "cell_type": "code",
   "execution_count": 35,
   "metadata": {
    "scrolled": true
   },
   "outputs": [
    {
     "data": {
      "text/plain": [
       "20.000325930862445"
      ]
     },
     "execution_count": 35,
     "metadata": {},
     "output_type": "execute_result"
    }
   ],
   "source": [
    "model.VLE_block.P_VLE.value"
   ]
  },
  {
   "cell_type": "code",
   "execution_count": 36,
   "metadata": {
    "scrolled": true
   },
   "outputs": [
    {
     "data": {
      "text/plain": [
       "0.0007655940450953238"
      ]
     },
     "execution_count": 36,
     "metadata": {},
     "output_type": "execute_result"
    }
   ],
   "source": [
    "model.L['out'].value"
   ]
  },
  {
   "cell_type": "markdown",
   "metadata": {},
   "source": [
    "# epi"
   ]
  },
  {
   "cell_type": "code",
   "execution_count": 37,
   "metadata": {},
   "outputs": [],
   "source": [
    "model.MPCC.epi = 1e-7"
   ]
  },
  {
   "cell_type": "code",
   "execution_count": 38,
   "metadata": {},
   "outputs": [
    {
     "name": "stdout",
     "output_type": "stream",
     "text": [
      "Ipopt 3.12.8: print_user_options=yes\n",
      "max_iter=7000\n",
      "\n",
      "\n",
      "List of user-set options:\n",
      "\n",
      "                                    Name   Value                used\n",
      "                                max_iter = 7000                  yes\n",
      "                      print_user_options = yes                   yes\n",
      "\n",
      "******************************************************************************\n",
      "This program contains Ipopt, a library for large-scale nonlinear optimization.\n",
      " Ipopt is released as open source code under the Eclipse Public License (EPL).\n",
      "         For more information visit http://projects.coin-or.org/Ipopt\n",
      "******************************************************************************\n",
      "\n",
      "This is Ipopt version 3.12.8, running with linear solver mumps.\n",
      "NOTE: Other linear solvers might be more efficient (see Ipopt documentation).\n",
      "\n",
      "Number of nonzeros in equality constraint Jacobian...:     4016\n",
      "Number of nonzeros in inequality constraint Jacobian.:        0\n",
      "Number of nonzeros in Lagrangian Hessian.............:     4399\n",
      "\n",
      "Total number of variables............................:     1185\n",
      "                     variables with only lower bounds:      382\n",
      "                variables with lower and upper bounds:      633\n",
      "                     variables with only upper bounds:        0\n",
      "Total number of equality constraints.................:     1184\n",
      "Total number of inequality constraints...............:        0\n",
      "        inequality constraints with only lower bounds:        0\n",
      "   inequality constraints with lower and upper bounds:        0\n",
      "        inequality constraints with only upper bounds:        0\n",
      "\n",
      "iter    objective    inf_pr   inf_du lg(mu)  ||d||  lg(rg) alpha_du alpha_pr  ls\n",
      "   0 -5.1458151e+02 2.60e+02 1.00e+00  -1.0 0.00e+00    -  0.00e+00 0.00e+00   0\n",
      "   1 -5.1499319e+02 3.23e+01 2.71e+03  -1.0 4.20e+01    -  8.82e-01 8.76e-01h  1\n",
      "   2 -5.1492154e+02 3.15e-01 1.73e+02  -1.0 1.91e+01    -  9.90e-01 9.90e-01h  1\n",
      "   3 -5.1496309e+02 1.85e-02 4.11e+02  -1.0 2.80e+01    -  9.92e-01 9.91e-01h  1\n",
      "   4 -5.1495319e+02 1.45e-03 3.06e+04  -1.0 1.75e+01    -  1.00e+00 1.00e+00h  1\n",
      "   5 -5.1495074e+02 8.39e-06 3.72e+04  -1.0 1.69e+00    -  1.00e+00 1.00e+00h  1\n",
      "   6 -5.1493988e+02 2.10e-09 5.31e+02  -1.0 1.67e+00    -  1.00e+00 1.00e+00H  1\n",
      "   7 -5.1497683e+02 5.63e-04 3.52e+03  -2.5 5.68e+00    -  1.00e+00 1.00e+00f  1\n",
      "   8 -5.1499713e+02 1.70e-04 1.82e+01  -2.5 3.12e+00    -  1.00e+00 1.00e+00h  1\n",
      "   9 -5.1499722e+02 3.75e-09 4.52e-04  -2.5 1.48e-02    -  1.00e+00 1.00e+00h  1\n",
      "iter    objective    inf_pr   inf_du lg(mu)  ||d||  lg(rg) alpha_du alpha_pr  ls\n",
      "  10 -5.1499996e+02 3.09e-06 3.12e+01  -5.7 4.21e-01    -  1.00e+00 1.00e+00f  1\n",
      "  11 -5.1500000e+02 8.40e-10 9.34e-05  -5.7 6.96e-03    -  1.00e+00 1.00e+00h  1\n",
      "  12 -5.1500000e+02 4.39e-11 1.85e-11  -5.7 8.83e-08    -  1.00e+00 1.00e+00h  1\n",
      "  13 -5.1500001e+02 1.41e-10 3.50e-06  -8.6 2.83e-04    -  1.00e+00 1.00e+00h  1\n",
      "  14 -5.1500001e+02 1.42e-10 2.51e-14  -8.6 3.06e-09    -  1.00e+00 1.00e+00h  1\n",
      "\n",
      "Number of Iterations....: 14\n",
      "\n",
      "                                   (scaled)                 (unscaled)\n",
      "Objective...............:  -5.1500000514749411e+02   -5.1500000514749411e+02\n",
      "Dual infeasibility......:   2.5125734826048074e-14    2.5125734826048074e-14\n",
      "Constraint violation....:   1.4232275221629648e-10    1.4232275221629648e-10\n",
      "Complementarity.........:   2.5059035597029164e-09    2.5059035597029164e-09\n",
      "Overall NLP error.......:   2.5059035597029164e-09    2.5059035597029164e-09\n",
      "\n",
      "\n",
      "Number of objective function evaluations             = 16\n",
      "Number of objective gradient evaluations             = 15\n",
      "Number of equality constraint evaluations            = 16\n",
      "Number of inequality constraint evaluations          = 0\n",
      "Number of equality constraint Jacobian evaluations   = 15\n",
      "Number of inequality constraint Jacobian evaluations = 0\n",
      "Number of Lagrangian Hessian evaluations             = 14\n",
      "Total CPU secs in IPOPT (w/o function evaluations)   =      0.535\n",
      "Total CPU secs in NLP function evaluations           =      0.036\n",
      "\n",
      "EXIT: Optimal Solution Found.\n"
     ]
    }
   ],
   "source": [
    "results = opt.solve(model,tee=True)\n",
    "update_dual(pe,model)"
   ]
  },
  {
   "cell_type": "code",
   "execution_count": 39,
   "metadata": {
    "scrolled": true,
    "slideshow": {
     "slide_type": "skip"
    }
   },
   "outputs": [
    {
     "data": {
      "text/plain": [
       "515.0"
      ]
     },
     "execution_count": 39,
     "metadata": {},
     "output_type": "execute_result"
    }
   ],
   "source": [
    "model.T.value"
   ]
  },
  {
   "cell_type": "code",
   "execution_count": 40,
   "metadata": {},
   "outputs": [
    {
     "data": {
      "text/plain": [
       "3.2655653230599046e-05"
      ]
     },
     "execution_count": 40,
     "metadata": {},
     "output_type": "execute_result"
    }
   ],
   "source": [
    "model.MPCC.s_L.value"
   ]
  },
  {
   "cell_type": "code",
   "execution_count": 41,
   "metadata": {
    "scrolled": true
   },
   "outputs": [
    {
     "data": {
      "text/plain": [
       "20.000032594358046"
      ]
     },
     "execution_count": 41,
     "metadata": {},
     "output_type": "execute_result"
    }
   ],
   "source": [
    "model.VLE_block.P_VLE.value"
   ]
  },
  {
   "cell_type": "code",
   "execution_count": 42,
   "metadata": {
    "scrolled": false
   },
   "outputs": [
    {
     "data": {
      "text/plain": [
       "0.0007655642293682423"
      ]
     },
     "execution_count": 42,
     "metadata": {},
     "output_type": "execute_result"
    }
   ],
   "source": [
    "model.L['out'].value"
   ]
  },
  {
   "cell_type": "markdown",
   "metadata": {},
   "source": [
    "# epi"
   ]
  },
  {
   "cell_type": "code",
   "execution_count": 43,
   "metadata": {},
   "outputs": [],
   "source": [
    "model.MPCC.epi = 1e-8"
   ]
  },
  {
   "cell_type": "code",
   "execution_count": 44,
   "metadata": {},
   "outputs": [
    {
     "name": "stdout",
     "output_type": "stream",
     "text": [
      "Ipopt 3.12.8: print_user_options=yes\n",
      "max_iter=7000\n",
      "\n",
      "\n",
      "List of user-set options:\n",
      "\n",
      "                                    Name   Value                used\n",
      "                                max_iter = 7000                  yes\n",
      "                      print_user_options = yes                   yes\n",
      "\n",
      "******************************************************************************\n",
      "This program contains Ipopt, a library for large-scale nonlinear optimization.\n",
      " Ipopt is released as open source code under the Eclipse Public License (EPL).\n",
      "         For more information visit http://projects.coin-or.org/Ipopt\n",
      "******************************************************************************\n",
      "\n",
      "This is Ipopt version 3.12.8, running with linear solver mumps.\n",
      "NOTE: Other linear solvers might be more efficient (see Ipopt documentation).\n",
      "\n",
      "Number of nonzeros in equality constraint Jacobian...:     4016\n",
      "Number of nonzeros in inequality constraint Jacobian.:        0\n",
      "Number of nonzeros in Lagrangian Hessian.............:     4399\n",
      "\n",
      "Total number of variables............................:     1185\n",
      "                     variables with only lower bounds:      382\n",
      "                variables with lower and upper bounds:      633\n",
      "                     variables with only upper bounds:        0\n",
      "Total number of equality constraints.................:     1184\n",
      "Total number of inequality constraints...............:        0\n",
      "        inequality constraints with only lower bounds:        0\n",
      "   inequality constraints with lower and upper bounds:        0\n",
      "        inequality constraints with only upper bounds:        0\n",
      "\n",
      "iter    objective    inf_pr   inf_du lg(mu)  ||d||  lg(rg) alpha_du alpha_pr  ls\n",
      "   0 -5.1458151e+02 2.60e+02 1.00e+00  -1.0 0.00e+00    -  0.00e+00 0.00e+00   0\n",
      "   1 -5.1498549e+02 3.66e+01 1.02e+04  -1.0 4.20e+01    -  8.82e-01 8.59e-01h  1\n",
      "   2 -5.1491799e+02 3.57e-01 1.66e+02  -1.0 1.95e+01    -  9.90e-01 9.90e-01h  1\n",
      "   3 -5.1496295e+02 2.15e-02 3.64e+02  -1.0 2.88e+01    -  9.92e-01 9.90e-01h  1\n",
      "   4 -5.1495294e+02 1.92e-03 2.94e+04  -1.0 1.97e+01    -  1.00e+00 1.00e+00h  1\n",
      "   5 -5.1495211e+02 1.58e-05 4.82e+04  -1.0 2.20e+00    -  1.00e+00 1.00e+00h  1\n",
      "   6 -5.1494072e+02 3.62e-09 5.51e+02  -1.0 1.75e+00    -  1.00e+00 1.00e+00H  1\n",
      "   7 -5.1497697e+02 5.42e-04 3.38e+03  -2.5 5.57e+00    -  1.00e+00 1.00e+00f  1\n",
      "   8 -5.1499713e+02 1.68e-04 1.73e+01  -2.5 3.10e+00    -  1.00e+00 1.00e+00h  1\n",
      "   9 -5.1499722e+02 3.48e-09 4.13e-04  -2.5 1.43e-02    -  1.00e+00 1.00e+00h  1\n",
      "iter    objective    inf_pr   inf_du lg(mu)  ||d||  lg(rg) alpha_du alpha_pr  ls\n",
      "  10 -5.1499996e+02 3.09e-06 3.06e+01  -5.7 4.21e-01    -  1.00e+00 1.00e+00f  1\n",
      "  11 -5.1500000e+02 8.51e-10 9.34e-05  -5.7 6.96e-03    -  1.00e+00 1.00e+00h  1\n",
      "  12 -5.1500000e+02 2.21e-11 1.85e-11  -5.7 8.81e-08    -  1.00e+00 1.00e+00h  1\n",
      "  13 -5.1500001e+02 1.41e-10 3.50e-06  -8.6 2.83e-04    -  1.00e+00 1.00e+00h  1\n",
      "  14 -5.1500001e+02 1.42e-10 2.52e-14  -8.6 3.06e-09    -  1.00e+00 1.00e+00h  1\n",
      "\n",
      "Number of Iterations....: 14\n",
      "\n",
      "                                   (scaled)                 (unscaled)\n",
      "Objective...............:  -5.1500000514749411e+02   -5.1500000514749411e+02\n",
      "Dual infeasibility......:   2.5163898742519564e-14    2.5163898742519564e-14\n",
      "Constraint violation....:   1.4232275221629648e-10    1.4232275221629648e-10\n",
      "Complementarity.........:   2.5059035597029164e-09    2.5059035597029164e-09\n",
      "Overall NLP error.......:   2.5059035597029164e-09    2.5059035597029164e-09\n",
      "\n",
      "\n",
      "Number of objective function evaluations             = 16\n",
      "Number of objective gradient evaluations             = 15\n",
      "Number of equality constraint evaluations            = 16\n",
      "Number of inequality constraint evaluations          = 0\n",
      "Number of equality constraint Jacobian evaluations   = 15\n",
      "Number of inequality constraint Jacobian evaluations = 0\n",
      "Number of Lagrangian Hessian evaluations             = 14\n",
      "Total CPU secs in IPOPT (w/o function evaluations)   =      0.493\n",
      "Total CPU secs in NLP function evaluations           =      0.035\n",
      "\n",
      "EXIT: Optimal Solution Found.\n"
     ]
    }
   ],
   "source": [
    "results = opt.solve(model,tee=True)\n",
    "update_dual(pe,model)"
   ]
  },
  {
   "cell_type": "code",
   "execution_count": 45,
   "metadata": {
    "scrolled": true,
    "slideshow": {
     "slide_type": "skip"
    }
   },
   "outputs": [
    {
     "data": {
      "text/plain": [
       "515.0"
      ]
     },
     "execution_count": 45,
     "metadata": {},
     "output_type": "execute_result"
    }
   ],
   "source": [
    "model.T.value"
   ]
  },
  {
   "cell_type": "code",
   "execution_count": 46,
   "metadata": {},
   "outputs": [
    {
     "data": {
      "text/plain": [
       "3.2655780416179376e-06"
      ]
     },
     "execution_count": 46,
     "metadata": {},
     "output_type": "execute_result"
    }
   ],
   "source": [
    "model.MPCC.s_L.value"
   ]
  },
  {
   "cell_type": "code",
   "execution_count": 47,
   "metadata": {
    "scrolled": true
   },
   "outputs": [
    {
     "data": {
      "text/plain": [
       "20.000003259448523"
      ]
     },
     "execution_count": 47,
     "metadata": {},
     "output_type": "execute_result"
    }
   ],
   "source": [
    "model.VLE_block.P_VLE.value"
   ]
  },
  {
   "cell_type": "code",
   "execution_count": 48,
   "metadata": {
    "scrolled": true
   },
   "outputs": [
    {
     "data": {
      "text/plain": [
       "0.0007655612476991329"
      ]
     },
     "execution_count": 48,
     "metadata": {},
     "output_type": "execute_result"
    }
   ],
   "source": [
    "model.L['out'].value"
   ]
  },
  {
   "cell_type": "markdown",
   "metadata": {},
   "source": [
    "# epi"
   ]
  },
  {
   "cell_type": "code",
   "execution_count": 49,
   "metadata": {},
   "outputs": [],
   "source": [
    "model.MPCC.epi = 1e-12"
   ]
  },
  {
   "cell_type": "code",
   "execution_count": 50,
   "metadata": {},
   "outputs": [
    {
     "name": "stdout",
     "output_type": "stream",
     "text": [
      "Ipopt 3.12.8: print_user_options=yes\n",
      "max_iter=7000\n",
      "\n",
      "\n",
      "List of user-set options:\n",
      "\n",
      "                                    Name   Value                used\n",
      "                                max_iter = 7000                  yes\n",
      "                      print_user_options = yes                   yes\n",
      "\n",
      "******************************************************************************\n",
      "This program contains Ipopt, a library for large-scale nonlinear optimization.\n",
      " Ipopt is released as open source code under the Eclipse Public License (EPL).\n",
      "         For more information visit http://projects.coin-or.org/Ipopt\n",
      "******************************************************************************\n",
      "\n",
      "This is Ipopt version 3.12.8, running with linear solver mumps.\n",
      "NOTE: Other linear solvers might be more efficient (see Ipopt documentation).\n",
      "\n",
      "Number of nonzeros in equality constraint Jacobian...:     4016\n",
      "Number of nonzeros in inequality constraint Jacobian.:        0\n",
      "Number of nonzeros in Lagrangian Hessian.............:     4399\n",
      "\n",
      "Total number of variables............................:     1185\n",
      "                     variables with only lower bounds:      382\n",
      "                variables with lower and upper bounds:      633\n",
      "                     variables with only upper bounds:        0\n",
      "Total number of equality constraints.................:     1184\n",
      "Total number of inequality constraints...............:        0\n",
      "        inequality constraints with only lower bounds:        0\n",
      "   inequality constraints with lower and upper bounds:        0\n",
      "        inequality constraints with only upper bounds:        0\n",
      "\n",
      "iter    objective    inf_pr   inf_du lg(mu)  ||d||  lg(rg) alpha_du alpha_pr  ls\n",
      "   0 -5.1458151e+02 2.60e+02 1.00e+00  -1.0 0.00e+00    -  0.00e+00 0.00e+00   0\n",
      "   1 -5.1498207e+02 3.84e+01 1.35e+04  -1.0 4.20e+01    -  8.82e-01 8.52e-01h  1\n",
      "   2 -5.1491667e+02 3.75e-01 1.61e+02  -1.0 1.96e+01    -  9.90e-01 9.90e-01h  1\n",
      "   3 -5.1496113e+02 2.29e-02 3.46e+02  -1.0 2.91e+01    -  9.92e-01 9.90e-01h  1\n",
      "   4 -5.1495295e+02 2.15e-03 2.91e+04  -1.0 2.06e+01    -  1.00e+00 1.00e+00h  1\n",
      "   5 -5.1495216e+02 2.00e-05 5.35e+04  -1.0 2.46e+00    -  1.00e+00 1.00e+00h  1\n",
      "   6 -5.1494023e+02 4.07e-09 5.71e+02  -1.0 1.84e+00    -  1.00e+00 1.00e+00H  1\n",
      "   7 -5.1497729e+02 5.67e-04 3.41e+03  -2.5 5.70e+00    -  1.00e+00 1.00e+00f  1\n",
      "   8 -5.1499713e+02 1.62e-04 1.72e+01  -2.5 3.05e+00    -  1.00e+00 1.00e+00h  1\n",
      "   9 -5.1499722e+02 3.30e-09 3.99e-04  -2.5 1.39e-02    -  1.00e+00 1.00e+00h  1\n",
      "iter    objective    inf_pr   inf_du lg(mu)  ||d||  lg(rg) alpha_du alpha_pr  ls\n",
      "  10 -5.1499996e+02 3.10e-06 7.97e+00  -5.7 4.21e-01    -  1.00e+00 1.00e+00f  1\n",
      "  11 -5.1500000e+02 7.71e-10 8.94e-05  -5.7 6.65e-03    -  1.00e+00 1.00e+00h  1\n",
      "  12 -5.1500000e+02 1.42e-10 1.85e-11  -5.7 7.07e-08    -  1.00e+00 1.00e+00h  1\n",
      "  13 -5.1500001e+02 1.43e-10 3.50e-06  -8.6 2.83e-04    -  1.00e+00 1.00e+00h  1\n",
      "  14 -5.1500001e+02 2.85e-10 2.51e-14  -8.6 2.91e-09    -  1.00e+00 1.00e+00h  1\n",
      "\n",
      "Number of Iterations....: 14\n",
      "\n",
      "                                   (scaled)                 (unscaled)\n",
      "Objective...............:  -5.1500000514749411e+02   -5.1500000514749411e+02\n",
      "Dual infeasibility......:   2.5118795932144167e-14    2.5118795932144167e-14\n",
      "Constraint violation....:   2.8464546876234148e-10    2.8464546876234148e-10\n",
      "Complementarity.........:   2.5059035596813385e-09    2.5059035596813385e-09\n",
      "Overall NLP error.......:   2.5059035596813385e-09    2.5059035596813385e-09\n",
      "\n",
      "\n",
      "Number of objective function evaluations             = 16\n",
      "Number of objective gradient evaluations             = 15\n",
      "Number of equality constraint evaluations            = 16\n",
      "Number of inequality constraint evaluations          = 0\n",
      "Number of equality constraint Jacobian evaluations   = 15\n",
      "Number of inequality constraint Jacobian evaluations = 0\n",
      "Number of Lagrangian Hessian evaluations             = 14\n",
      "Total CPU secs in IPOPT (w/o function evaluations)   =      0.466\n",
      "Total CPU secs in NLP function evaluations           =      0.031\n",
      "\n",
      "EXIT: Optimal Solution Found.\n"
     ]
    }
   ],
   "source": [
    "results = opt.solve(model,tee=True)\n",
    "update_dual(pe,model)"
   ]
  },
  {
   "cell_type": "code",
   "execution_count": 51,
   "metadata": {
    "scrolled": true,
    "slideshow": {
     "slide_type": "skip"
    }
   },
   "outputs": [
    {
     "data": {
      "text/plain": [
       "515.0"
      ]
     },
     "execution_count": 51,
     "metadata": {},
     "output_type": "execute_result"
    }
   ],
   "source": [
    "model.T.value"
   ]
  },
  {
   "cell_type": "code",
   "execution_count": 52,
   "metadata": {},
   "outputs": [
    {
     "data": {
      "text/plain": [
       "3.265579455141471e-10"
      ]
     },
     "execution_count": 52,
     "metadata": {},
     "output_type": "execute_result"
    }
   ],
   "source": [
    "model.MPCC.s_L.value"
   ]
  },
  {
   "cell_type": "code",
   "execution_count": 53,
   "metadata": {
    "scrolled": true
   },
   "outputs": [
    {
     "data": {
      "text/plain": [
       "20.000000000325944"
      ]
     },
     "execution_count": 53,
     "metadata": {},
     "output_type": "execute_result"
    }
   ],
   "source": [
    "model.VLE_block.P_VLE.value"
   ]
  },
  {
   "cell_type": "code",
   "execution_count": 54,
   "metadata": {
    "scrolled": true
   },
   "outputs": [
    {
     "data": {
      "text/plain": [
       "0.0007655609164346495"
      ]
     },
     "execution_count": 54,
     "metadata": {},
     "output_type": "execute_result"
    }
   ],
   "source": [
    "model.L['out'].value"
   ]
  },
  {
   "cell_type": "code",
   "execution_count": null,
   "metadata": {},
   "outputs": [],
   "source": []
  },
  {
   "cell_type": "code",
   "execution_count": null,
   "metadata": {},
   "outputs": [],
   "source": [
    "# epi\n",
    "\n",
    "model.MPCC.epi = 1e-5\n",
    "\n",
    "results = opt.solve(model,tee=True)\n",
    "update_dual(pe,model)\n",
    "\n",
    "model.T.value\n",
    "\n",
    "model.MPCC.s_L.value\n",
    "\n",
    "model.VLE_block.P_VLE.value\n",
    "\n",
    "model.L['out'].value"
   ]
  },
  {
   "cell_type": "code",
   "execution_count": null,
   "metadata": {
    "scrolled": false,
    "slideshow": {
     "slide_type": "slide"
    }
   },
   "outputs": [],
   "source": [
    "print('Component\\t\\tLiquid: {:.4f}\\t\\t\\tVapor: {:.4f}'.format(model.L['out'].value,model.V['out'].value))\n",
    "print('-'*108)\n",
    "for i in model.x:\n",
    "    print('{:10s}'.format(i),'\\t\\t{:8.4%}\\t\\t\\t{:8.4%}'.format(model.x[i].value,model.y[i].value))"
   ]
  },
  {
   "cell_type": "markdown",
   "metadata": {
    "slideshow": {
     "slide_type": "slide"
    }
   },
   "source": [
    "# Iterative Solve for Data Analysis"
   ]
  },
  {
   "cell_type": "code",
   "execution_count": null,
   "metadata": {},
   "outputs": [],
   "source": [
    "results_anchor = results\n",
    "update_dual(pe,model)\n",
    "model.solutions.store_to(results_anchor)"
   ]
  },
  {
   "cell_type": "code",
   "execution_count": null,
   "metadata": {},
   "outputs": [],
   "source": [
    "opt.options['warm_start_init_point'] = 'yes'\n",
    "opt.options['warm_start_bound_push'] = 1e-20\n",
    "opt.options['warm_start_mult_bound_push'] = 1e-20\n",
    "opt.options['mu_init'] = 1e-6"
   ]
  },
  {
   "cell_type": "code",
   "execution_count": null,
   "metadata": {},
   "outputs": [],
   "source": [
    "catrange = [3000,1000,500,300,100,50,25,10]\n",
    "Trange = np.linspace(300+273.15,200+273.15,26)"
   ]
  },
  {
   "cell_type": "code",
   "execution_count": null,
   "metadata": {
    "scrolled": false,
    "slideshow": {
     "slide_type": "fragment"
    }
   },
   "outputs": [],
   "source": [
    "rf_data_master = {}\n",
    "\n",
    "for c in catrange:\n",
    "    model.del_component(model.obj)\n",
    "    model.obj = pe.Objective(expr = model.cat + model.MPCC.pf ,sense=pe.minimize)\n",
    "\n",
    "    model.solutions.load_from(results_anchor)\n",
    "    update_dual(pe,model) \n",
    "       \n",
    "    model.T.fix(300+273.15)\n",
    "    model.cat.fixed = False\n",
    "    model.cat.setlb(c)\n",
    "    \n",
    "    results_anchor = opt.solve(model,tee=False)\n",
    "    model.solutions.store_to(results_anchor)\n",
    "    update_dual(pe,model)\n",
    "    \n",
    "    model.del_component(model.obj)\n",
    "    model.obj = pe.Objective(expr = model.T - model.MPCC.pf,sense=pe.maximize)\n",
    "    model.T.fixed = False\n",
    "    model.cat.fixed = True\n",
    "    \n",
    "    \n",
    "    print('\\nWorking on Cat = {} kg'.format(model.cat.value))\n",
    "    print('-'*108)\n",
    "    \n",
    "    rf_data = {}\n",
    "    rf_data['x'] = {};rf_data['y'] = {};\n",
    "    rf_data['T'] = []; rf_data['Q'] = []; rf_data['V'] = []; rf_data['L'] = []; rf_data['P_VLE'] = []; \n",
    "    rf_data['s_L'] = [];\n",
    "    for i in m.COMP_TOTAL:\n",
    "        rf_data['x'][i] = []\n",
    "        rf_data['y'][i] = []       \n",
    "\n",
    "    for t in Trange:\n",
    "        model.T.setub(t)\n",
    "        results = opt.solve(model,tee=False)\n",
    "        update_dual(pe,model)\n",
    "        model.T.setub(300+273.15)\n",
    "        print('Solved\\t|T = {:.2f} K\\t|V = {:.4f} kmol/s\\t|L = {:.4f} kmol/s\\t|s_L = {:.4f}\\t|P_VLE = {:.1f}'.\\\n",
    "              format(model.T.value,model.V['out'].value,model.L['out'].value,model.MPCC.s_L.value,model.VLE_block.P_VLE.value))\n",
    "    \n",
    "        rf_data['T'].append(model.T.value)\n",
    "        rf_data['Q'].append(model.Q_main.value)\n",
    "        rf_data['V'].append(model.V['out'].value)\n",
    "        rf_data['L'].append(model.L['out'].value)\n",
    "        rf_data['P_VLE'].append(model.VLE_block.P_VLE.value)\n",
    "        rf_data['s_L'].append(model.MPCC.s_L.value)\n",
    "\n",
    "        for i in m.COMP_TOTAL:\n",
    "            rf_data['x'][i].append(model.x[i].value)\n",
    "            rf_data['y'][i].append(model.y[i].value)\n",
    "        \n",
    "    rf_data_master[c] = rf_data"
   ]
  },
  {
   "cell_type": "markdown",
   "metadata": {},
   "source": [
    "# Optimization results across disappearing phases"
   ]
  },
  {
   "cell_type": "code",
   "execution_count": null,
   "metadata": {},
   "outputs": [],
   "source": [
    "fig, (ax1,ax2) = plt.subplots(1,2,figsize=(16,9))\n",
    "for c in catrange:\n",
    "    ax1.plot(Trange,rf_data_master[c]['V'])\n",
    "ax1.set_ylabel('Vapor Flow Rate (kmol/s)',fontsize=14)\n",
    "ax1.set_xlabel('Temperature (K)',fontsize=14)\n",
    "ax1.tick_params(labelsize=14)\n",
    "ax1.grid()\n",
    "\n",
    "for c in catrange:\n",
    "    ax2.plot(Trange,rf_data_master[c]['L'])\n",
    "ax2.set_ylabel('Liquid Flow Rate (kmol/s)',fontsize=14)\n",
    "ax2.set_xlabel('Temperature (K)',fontsize=14)\n",
    "ax2.tick_params(labelsize=14)\n",
    "ax2.grid()\n",
    "\n",
    "fig.legend(catrange,fontsize=14,loc=7)\n",
    "fig.suptitle('Vapor and Liquid Flow Rate',fontsize=18)\n",
    "\n",
    "plt.show()"
   ]
  },
  {
   "cell_type": "code",
   "execution_count": null,
   "metadata": {},
   "outputs": [],
   "source": [
    "fig, ax1 = plt.subplots(figsize=(16,9))\n",
    "for c in catrange:\n",
    "    ax1.plot(Trange,np.divide(rf_data_master[c]['V'],np.add(rf_data_master[c]['V'],rf_data_master[c]['L'])))\n",
    "ax1.set_ylabel('Vapor Fraction',fontsize=14)\n",
    "ax1.set_xlabel('Temperature (K)',fontsize=14)\n",
    "ax1.tick_params(labelsize=14)\n",
    "ax1.legend(catrange,fontsize=14)\n",
    "ax1.set_title('Vapor Fraction',fontsize=18)\n",
    "ax1.grid()\n",
    "plt.show()"
   ]
  },
  {
   "cell_type": "code",
   "execution_count": null,
   "metadata": {},
   "outputs": [],
   "source": [
    "fig, ax1 = plt.subplots(figsize=(16,9))\n",
    "for c in catrange:\n",
    "    ax1.plot(Trange,rf_data_master[c]['P_VLE'])\n",
    "ax1.set_ylabel(r'$P_{VLE}$ value',fontsize=14)\n",
    "ax1.set_xlabel('Temperature (K)',fontsize=14)\n",
    "ax1.tick_params(labelsize=14)\n",
    "ax1.legend(catrange,fontsize=14)\n",
    "ax1.set_title(r'$P_{VLE}$ (Bar)',fontsize=18)\n",
    "ax1.grid()\n",
    "plt.show()"
   ]
  },
  {
   "cell_type": "code",
   "execution_count": null,
   "metadata": {},
   "outputs": [],
   "source": [
    "fig, ax1 = plt.subplots(figsize=(16,9))\n",
    "for c in catrange:\n",
    "    ax1.plot(Trange,np.multiply(rf_data_master[c]['s_L'],rf_data_master[c]['L']))\n",
    "ax1.set_ylabel(r'$s_L \\cdot L$ value',fontsize=14)\n",
    "ax1.set_xlabel('Temperature (K)',fontsize=14)\n",
    "ax1.tick_params(labelsize=14)\n",
    "ax1.legend(catrange,fontsize=14)\n",
    "# ax1.set_ylim(2.49e-5,2.51e-5)\n",
    "ax1.set_title(r'$s_L \\cdot L$',fontsize=18)\n",
    "ax1.grid()\n",
    "plt.show()"
   ]
  },
  {
   "cell_type": "code",
   "execution_count": null,
   "metadata": {},
   "outputs": [],
   "source": []
  }
 ],
 "metadata": {
  "kernelspec": {
   "display_name": "Python 3",
   "language": "python",
   "name": "python3"
  },
  "language_info": {
   "codemirror_mode": {
    "name": "ipython",
    "version": 3
   },
   "file_extension": ".py",
   "mimetype": "text/x-python",
   "name": "python",
   "nbconvert_exporter": "python",
   "pygments_lexer": "ipython3",
   "version": "3.6.3"
  }
 },
 "nbformat": 4,
 "nbformat_minor": 2
}
