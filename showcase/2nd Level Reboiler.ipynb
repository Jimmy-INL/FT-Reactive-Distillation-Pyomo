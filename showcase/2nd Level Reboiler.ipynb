{
 "cells": [
  {
   "cell_type": "markdown",
   "metadata": {
    "slideshow": {
     "slide_type": "slide"
    }
   },
   "source": [
    "# 2nd Level Model Structure: Reboiler"
   ]
  },
  {
   "cell_type": "code",
   "execution_count": 1,
   "metadata": {},
   "outputs": [],
   "source": [
    "import sys\n",
    "import os\n",
    "import pickle\n",
    "sys.path.append(os.path.abspath('..'))\n",
    "import numpy as np\n",
    "from matplotlib import pyplot as plt"
   ]
  },
  {
   "cell_type": "code",
   "execution_count": 2,
   "metadata": {
    "slideshow": {
     "slide_type": "fragment"
    }
   },
   "outputs": [],
   "source": [
    "from pyomo import environ as pe\n",
    "from global_sets.component import m\n",
    "from utility.display_utility import trans_product_mole, trans_product_mass\n",
    "from utility.model_utility import add_dual, update_dual, check_DOF\n",
    "\n",
    "# stage construction rules\n",
    "from physics.energy_reboiler import energy_block_rule\n",
    "from physics.VLE_reboiler_MPCC_P import VLE_block_rule\n",
    "from physics.MPCC_P import P_NCP_block_rule, P_Reg_block_rule, P_pf_block_rule\n",
    "\n",
    "model = pe.ConcreteModel()"
   ]
  },
  {
   "cell_type": "markdown",
   "metadata": {
    "slideshow": {
     "slide_type": "subslide"
    }
   },
   "source": [
    "# Global Sets (Inlet / Outlet)"
   ]
  },
  {
   "cell_type": "code",
   "execution_count": 3,
   "metadata": {
    "slideshow": {
     "slide_type": "fragment"
    }
   },
   "outputs": [],
   "source": [
    "model.inlet = pe.Set(initialize=['in'])\n",
    "model.outlet = pe.Set(initialize=['out','P'])\n",
    "model.stream = model.inlet | model.outlet"
   ]
  },
  {
   "cell_type": "markdown",
   "metadata": {
    "slideshow": {
     "slide_type": "subslide"
    }
   },
   "source": [
    "# Global Variables"
   ]
  },
  {
   "cell_type": "code",
   "execution_count": 4,
   "metadata": {
    "slideshow": {
     "slide_type": "fragment"
    }
   },
   "outputs": [],
   "source": [
    "# Tray Inlet/Outlet Variable\n",
    "model.x_ = pe.Var(model.inlet,m.COMP_TOTAL,within=pe.NonNegativeReals)\n",
    "model.y_ = pe.Var(model.inlet,m.COMP_TOTAL,within=pe.NonNegativeReals)\n",
    "model.x = pe.Var(m.COMP_TOTAL,within=pe.NonNegativeReals)\n",
    "model.y = pe.Var(m.COMP_TOTAL,within=pe.NonNegativeReals)\n",
    "model.z = pe.Var(m.COMP_FEED,within=pe.NonNegativeReals)\n",
    "\n",
    "model.L = pe.Var(model.stream,within=pe.NonNegativeReals)\n",
    "model.V = pe.Var(model.stream,within=pe.NonNegativeReals)\n",
    "model.F = pe.Var(within=pe.NonNegativeReals)\n",
    "\n",
    "model.H_L_ = pe.Var(model.inlet,within=pe.Reals)\n",
    "model.H_V_ = pe.Var(model.inlet,within=pe.Reals)\n",
    "model.H_L = pe.Var(within=pe.Reals)\n",
    "model.H_V = pe.Var(within=pe.Reals)\n",
    "model.H_F = pe.Var(within=pe.Reals)\n",
    "\n",
    "# State Variable\n",
    "model.T = pe.Var(within=pe.NonNegativeReals,bounds=(200+273.15,350+273.15)) # K\n",
    "model.T_F = pe.Var(within=pe.NonNegativeReals) # K\n",
    "model.P = pe.Var(within=pe.NonNegativeReals,bounds=(10,30)) # Bar\n",
    "\n",
    "model.f_V = pe.Var(m.COMP_TOTAL,within=pe.NonNegativeReals,initialize=1e-20)\n",
    "model.f_L = pe.Var(m.COMP_TOTAL,within=pe.NonNegativeReals,initialize=1e-20)\n",
    "\n",
    "model.Q_main = pe.Var(within=pe.Reals) # MW"
   ]
  },
  {
   "cell_type": "markdown",
   "metadata": {
    "slideshow": {
     "slide_type": "slide"
    }
   },
   "source": [
    "# Construct Individual Blocks"
   ]
  },
  {
   "cell_type": "code",
   "execution_count": 5,
   "metadata": {
    "slideshow": {
     "slide_type": "subslide"
    }
   },
   "outputs": [
    {
     "name": "stdout",
     "output_type": "stream",
     "text": [
      "> Importing Energy Blocks......\n",
      "> Adding the following local variable:\n",
      "--------------------------------------------------\n",
      "| energy_block.dH_F\n",
      "| energy_block.dH_V\n",
      "| energy_block.dH_L\n",
      "| energy_block.dH_vap\n",
      "--------------------------------------------------\n",
      "\n"
     ]
    }
   ],
   "source": [
    "model.energy_block = pe.Block(rule=energy_block_rule)"
   ]
  },
  {
   "cell_type": "code",
   "execution_count": 6,
   "metadata": {
    "scrolled": false,
    "slideshow": {
     "slide_type": "subslide"
    }
   },
   "outputs": [
    {
     "name": "stdout",
     "output_type": "stream",
     "text": [
      "> Importing VLE Blocks......\n",
      "> Adding the following local variable:\n",
      "--------------------------------------------------\n",
      "| VLE_block.P_VLE\n",
      "| VLE_block.n_ave\n",
      "| VLE_block.n_ave_cal\n",
      "| VLE_block.Hen\n",
      "| VLE_block.Hen0\n",
      "| VLE_block.gamma\n",
      "| VLE_block.P_sat\n",
      "| VLE_block.P_sat_Y\n",
      "| VLE_block.P_sat_dY_inf\n",
      "| VLE_block.P_sat_dY0\n",
      "| VLE_block.Hen_ref\n",
      "| VLE_block.Hen0_ref\n",
      "| VLE_block.gamma_ref\n",
      "| VLE_block.V_L\n",
      "| VLE_block.V_L_dY_inf\n",
      "| VLE_block.V_L_dY0\n",
      "| VLE_block.poynting\n",
      "--------------------------------------------------\n",
      "\n"
     ]
    }
   ],
   "source": [
    "model.VLE_block = pe.Block(rule=VLE_block_rule)"
   ]
  },
  {
   "cell_type": "markdown",
   "metadata": {
    "slideshow": {
     "slide_type": "slide"
    }
   },
   "source": [
    "# Standard MESH Equations"
   ]
  },
  {
   "cell_type": "markdown",
   "metadata": {
    "slideshow": {
     "slide_type": "subslide"
    }
   },
   "source": [
    "## Mass Balance"
   ]
  },
  {
   "cell_type": "markdown",
   "metadata": {
    "slideshow": {
     "slide_type": "fragment"
    }
   },
   "source": [
    "\\begin{equation}\n",
    "Fz_{i}+\\sum_{s\\in{inlet}}L_{s}x'_{i,s}+\\sum_{s\\in{inlet}}V_{s}y'_{i,s}-\\sum_{s\\in{outlet}}L_{s}x_{i,s}+\\sum_{s\\in{ouelet}}V_{s}y_{i,s}+R_{i} = 0 \\\\\n",
    "i = 1,...NC\n",
    "\\end{equation}"
   ]
  },
  {
   "cell_type": "code",
   "execution_count": 7,
   "metadata": {
    "slideshow": {
     "slide_type": "fragment"
    }
   },
   "outputs": [],
   "source": [
    "def mass_balance_main_rule(model,i):\n",
    "    if i in m.COMP_FEED:\n",
    "        return model.F*model.z[i] + sum(model.L[s]*model.x_[s,i] + model.V[s]*model.y_[s,i] for s in model.inlet)\\\n",
    "        - sum(model.L[s]*model.x[i] + model.V[s]*model.y[i] for s in model.outlet) == 0\n",
    "    else:\n",
    "        return sum(model.L[s]*model.x_[s,i] + model.V[s]*model.y_[s,i] for s in model.inlet)\\\n",
    "        - sum(model.L[s]*model.x[i] + model.V[s]*model.y[i] for s in model.outlet) == 0\n",
    "model.mass_balance_main_con = pe.Constraint(m.COMP_TOTAL,rule=mass_balance_main_rule)"
   ]
  },
  {
   "cell_type": "markdown",
   "metadata": {
    "slideshow": {
     "slide_type": "subslide"
    }
   },
   "source": [
    "## Equilibrium"
   ]
  },
  {
   "cell_type": "markdown",
   "metadata": {
    "slideshow": {
     "slide_type": "fragment"
    }
   },
   "source": [
    "\\begin{align}\n",
    "&f_{i,V} = f_{i,L} \\\\\n",
    "&i = 1,...NC\n",
    "\\end{align}"
   ]
  },
  {
   "cell_type": "code",
   "execution_count": 8,
   "metadata": {
    "slideshow": {
     "slide_type": "fragment"
    }
   },
   "outputs": [],
   "source": [
    "def VL_equil_rule(model,i):\n",
    "    return model.f_V[i] == model.f_L[i]\n",
    "model.VL_equil_con = pe.Constraint(m.COMP_TOTAL,rule=VL_equil_rule)"
   ]
  },
  {
   "cell_type": "markdown",
   "metadata": {},
   "source": [
    "# MPCC - P-Pspec"
   ]
  },
  {
   "cell_type": "code",
   "execution_count": 9,
   "metadata": {},
   "outputs": [
    {
     "name": "stdout",
     "output_type": "stream",
     "text": [
      "> Importing MPCC_P_Reg Blocks......\n",
      "> Adding the following local variable:\n",
      "--------------------------------------------------\n",
      "| MPCC.s_L\n",
      "| MPCC.s_V\n",
      "| MPCC.pf\n",
      "| MPCC.rho\n",
      "--------------------------------------------------\n",
      "> Spliting pressure used in VLE\n",
      "\n"
     ]
    }
   ],
   "source": [
    "model.MPCC = pe.Block(rule = P_pf_block_rule)"
   ]
  },
  {
   "cell_type": "markdown",
   "metadata": {
    "slideshow": {
     "slide_type": "subslide"
    }
   },
   "source": [
    "## Summation"
   ]
  },
  {
   "cell_type": "markdown",
   "metadata": {
    "slideshow": {
     "slide_type": "fragment"
    }
   },
   "source": [
    "\\begin{equation}\n",
    "\\sum_ix_{i} = \\sum_iy_{i} \\\\\n",
    "F + L_{in} + V_{in} + R = L_{out} + V_{out}\n",
    "\\end{equation}"
   ]
  },
  {
   "cell_type": "code",
   "execution_count": 10,
   "metadata": {
    "slideshow": {
     "slide_type": "fragment"
    }
   },
   "outputs": [],
   "source": [
    "def summation_x_y_rule(model):\n",
    "    return sum(model.x[i] for i in m.COMP_TOTAL) == sum(model.y[i] for i in m.COMP_TOTAL)\n",
    "model.summation_x_y_con = pe.Constraint(rule=summation_x_y_rule)\n",
    "\n",
    "def summation_total_mass_rule(model):\n",
    "    return model.F + sum(model.L[s] + model.V[s] for s in model.inlet)\\\n",
    "            - sum(model.L[s] + model.V[s] for s in model.outlet) == 0\n",
    "model.summation_total_mass_con = pe.Constraint(rule=summation_total_mass_rule)"
   ]
  },
  {
   "cell_type": "markdown",
   "metadata": {
    "slideshow": {
     "slide_type": "subslide"
    }
   },
   "source": [
    "## Energy Balance"
   ]
  },
  {
   "cell_type": "markdown",
   "metadata": {
    "slideshow": {
     "slide_type": "fragment"
    }
   },
   "source": [
    "\\begin{equation}\n",
    "F H_f+\\sum_{s\\in{inlet}}L_{s}H_{l,s}+\\sum_{s\\in{inlet}}V_{s}H_{v,s}-\\sum_{s\\in{outlet}}L_{s}H_{l,s}-\\sum_{s\\in{outlet}}V_{s}H_{v,s}+Q = 0\n",
    "\\end{equation}"
   ]
  },
  {
   "cell_type": "code",
   "execution_count": 11,
   "metadata": {
    "slideshow": {
     "slide_type": "fragment"
    }
   },
   "outputs": [],
   "source": [
    "def heat_balance_main_rule(model):\n",
    "    return model.F*model.H_F + sum(model.L[s]*model.H_L_[s] + model.V[s]*model.H_V_[s] for s in model.inlet) \\\n",
    "            + model.Q_main - sum(model.L[s]*model.H_L + model.V[s]*model.H_V for s in model.outlet) == 0\n",
    "model.heat_balance_main_con = pe.Constraint(rule=heat_balance_main_rule)"
   ]
  },
  {
   "cell_type": "markdown",
   "metadata": {
    "slideshow": {
     "slide_type": "slide"
    }
   },
   "source": [
    "# Testing"
   ]
  },
  {
   "cell_type": "code",
   "execution_count": 12,
   "metadata": {
    "slideshow": {
     "slide_type": "fragment"
    }
   },
   "outputs": [
    {
     "name": "stdout",
     "output_type": "stream",
     "text": [
      "Created the follow pyomo suffixes:\n",
      "ipopt_zL_out, ipopt_zU_out, ipopt_zL_in, ipopt_zU_in, dual\n"
     ]
    }
   ],
   "source": [
    "add_dual(pe,model)"
   ]
  },
  {
   "cell_type": "markdown",
   "metadata": {},
   "source": [
    "# Load a flash liquid composition as feed"
   ]
  },
  {
   "cell_type": "code",
   "execution_count": 13,
   "metadata": {},
   "outputs": [],
   "source": [
    "with open('../saved_solutions/reactive_flash_MPCC_P_pf_200C.pickle', 'rb') as f:\n",
    "    C200 = pickle.load(f)"
   ]
  },
  {
   "cell_type": "markdown",
   "metadata": {
    "slideshow": {
     "slide_type": "fragment"
    }
   },
   "source": [
    "## Fixing In/Product Redundent Flow"
   ]
  },
  {
   "cell_type": "code",
   "execution_count": 14,
   "metadata": {
    "slideshow": {
     "slide_type": "fragment"
    }
   },
   "outputs": [],
   "source": [
    "model.y_.fix(0)\n",
    "for i in m.COMP_TOTAL:\n",
    "    model.x_['in',i].fix(C200.Solution.Variable['x[{}]'.format(i)]['Value'])\n",
    "# model.L['in'].fix(1)\n",
    "model.L['P'].fix(0)\n",
    "model.V['in'].fix(0)\n",
    "model.V['P'].fix(0)\n",
    "model.H_V_.fix(0)\n",
    "model.H_L_.fix(C200.Solution.Variable['H_L']['Value'])"
   ]
  },
  {
   "cell_type": "markdown",
   "metadata": {
    "slideshow": {
     "slide_type": "subslide"
    }
   },
   "source": [
    "## Fixing Model Parameters"
   ]
  },
  {
   "cell_type": "code",
   "execution_count": 15,
   "metadata": {
    "slideshow": {
     "slide_type": "fragment"
    }
   },
   "outputs": [],
   "source": [
    "model.P.fix(20)\n",
    "model.T_F.fix(200+273.15)\n",
    "model.F.fix(0)\n",
    "model.z.fix(0)\n",
    "model.VLE_block.n_ave.fix(20)\n",
    "model.Q_main.fix(0)"
   ]
  },
  {
   "cell_type": "code",
   "execution_count": 16,
   "metadata": {
    "scrolled": true,
    "slideshow": {
     "slide_type": "fragment"
    }
   },
   "outputs": [
    {
     "name": "stdout",
     "output_type": "stream",
     "text": [
      "Active Equality Constraints:\t 957\n",
      "Active Inequality Constraints:\t 1\n",
      "Active Variables:\t\t 1132\n",
      "Fixed Variables:\t\t 171\n",
      "DOF:\t\t\t\t 4\n"
     ]
    }
   ],
   "source": [
    "check_DOF(pe,model)"
   ]
  },
  {
   "cell_type": "markdown",
   "metadata": {
    "slideshow": {
     "slide_type": "subslide"
    }
   },
   "source": [
    "## Fix T or to fix Q? we have found that Maximize against an upper bound is most reliable"
   ]
  },
  {
   "cell_type": "code",
   "execution_count": 17,
   "metadata": {
    "slideshow": {
     "slide_type": "fragment"
    }
   },
   "outputs": [],
   "source": [
    "model.T.fix(350+273.15)"
   ]
  },
  {
   "cell_type": "code",
   "execution_count": 18,
   "metadata": {
    "slideshow": {
     "slide_type": "fragment"
    }
   },
   "outputs": [],
   "source": [
    "# model.obj = pe.Objective(expr = model.T ,sense=pe.maximize)\n",
    "# model.obj = pe.Objective(expr = model.MPCC.pf,sense=pe.minimize)\n",
    "model.obj = pe.Objective(expr = - model.L['in'] - model.MPCC.pf ,sense=pe.maximize)"
   ]
  },
  {
   "cell_type": "code",
   "execution_count": 19,
   "metadata": {
    "scrolled": false,
    "slideshow": {
     "slide_type": "fragment"
    }
   },
   "outputs": [
    {
     "name": "stdout",
     "output_type": "stream",
     "text": [
      "Ipopt 3.12.8: print_user_options=yes\n",
      "linear_solver=ma86\n",
      "linear_system_scaling =mc19\n",
      "linear_scaling_on_demand =no\n",
      "max_iter=7000\n",
      "\n",
      "\n",
      "List of user-set options:\n",
      "\n",
      "                                    Name   Value                used\n",
      "                linear_scaling_on_demand = no                    yes\n",
      "                           linear_solver = ma86                  yes\n",
      "                   linear_system_scaling = mc19                  yes\n",
      "                                max_iter = 7000                  yes\n",
      "                      print_user_options = yes                   yes\n",
      "\n",
      "******************************************************************************\n",
      "This program contains Ipopt, a library for large-scale nonlinear optimization.\n",
      " Ipopt is released as open source code under the Eclipse Public License (EPL).\n",
      "         For more information visit http://projects.coin-or.org/Ipopt\n",
      "******************************************************************************\n",
      "\n",
      "This is Ipopt version 3.12.8, running with linear solver ma86.\n",
      "\n",
      "Number of nonzeros in equality constraint Jacobian...:     3048\n",
      "Number of nonzeros in inequality constraint Jacobian.:        5\n",
      "Number of nonzeros in Lagrangian Hessian.............:     4237\n",
      "\n",
      "Total number of variables............................:      960\n",
      "                     variables with only lower bounds:      326\n",
      "                variables with lower and upper bounds:      627\n",
      "                     variables with only upper bounds:        0\n",
      "Total number of equality constraints.................:      957\n",
      "Total number of inequality constraints...............:        1\n",
      "        inequality constraints with only lower bounds:        0\n",
      "   inequality constraints with lower and upper bounds:        0\n",
      "        inequality constraints with only upper bounds:        1\n",
      "\n",
      "iter    objective    inf_pr   inf_du lg(mu)  ||d||  lg(rg) alpha_du alpha_pr  ls\n",
      "   0  1.9999980e-02 1.39e+04 1.00e+00  -1.0 0.00e+00    -  0.00e+00 0.00e+00   0\n",
      "   1  2.0064857e-02 1.39e+04 3.86e+01  -1.0 1.39e+04    -  4.97e-05 5.74e-04h  1\n",
      "   2r 2.0064857e-02 1.39e+04 9.99e+02   4.1 0.00e+00    -  0.00e+00 3.65e-07R  5\n",
      "   3r 2.0526094e-02 1.39e+04 1.17e+04   4.1 3.04e+05    -  1.94e-03 6.40e-08f  1\n",
      "   4r 2.3678749e-02 5.61e+03 1.13e+04   2.0 2.39e+05    -  7.73e-03 3.46e-02f  1\n",
      "   5  2.3707800e-02 5.61e+03 1.50e+00  -1.0 5.61e+03    -  1.48e-04 2.11e-04h  1\n",
      "   6r 2.3707800e-02 5.61e+03 9.99e+02   3.7 0.00e+00    -  0.00e+00 2.66e-07R  4\n",
      "   7r 2.4053333e-02 5.61e+03 9.99e+02   3.7 4.58e+05    -  2.57e-05 1.05e-07f  1\n",
      "   8r 5.1639263e-02 5.30e+03 9.98e+02   2.4 4.50e+05    -  2.16e-04 7.00e-04f  1\n",
      "   9r 1.6532386e-01 1.17e+03 9.96e+02   2.4 1.53e+06    -  1.78e-03 2.69e-03f  1\n",
      "iter    objective    inf_pr   inf_du lg(mu)  ||d||  lg(rg) alpha_du alpha_pr  ls\n",
      "  10  1.6533172e-01 1.17e+03 1.59e+02  -1.0 1.17e+03    -  2.64e-03 2.53e-05h  1\n",
      "  11r 1.6533172e-01 1.17e+03 9.99e+02   3.1 0.00e+00    -  0.00e+00 1.27e-07R  2\n",
      "  12r 1.6584183e-01 1.17e+03 9.98e+02   3.1 5.75e+05    -  2.91e-03 1.71e-06f  1\n",
      "  13r 2.0947408e-01 5.13e+02 9.94e+02   2.4 3.38e+05    -  4.44e-03 3.44e-03f  1\n",
      "  14  2.0956274e-01 5.13e+02 1.29e+02  -1.0 5.13e+02    -  3.32e-03 2.11e-04h  1\n",
      "  15r 2.0956274e-01 5.13e+02 9.99e+02   2.7 0.00e+00    -  0.00e+00 2.65e-07R  4\n",
      "  16r 2.1049313e-01 5.13e+02 9.99e+02   2.7 1.10e+04    -  5.19e-03 6.19e-06f  1\n",
      "  17r 6.2479402e-01 5.12e+02 1.24e+03   2.7 5.99e+03    -  1.30e-02 9.63e-03f  1\n",
      "  18r 1.0615768e+00 5.12e+02 9.71e+02   2.7 1.85e+03    -  1.37e-02 1.82e-02f  1\n",
      "  19r 1.1576631e+00 5.10e+02 2.02e+03   2.0 4.10e+02    -  4.10e-02 2.52e-02f  1\n",
      "iter    objective    inf_pr   inf_du lg(mu)  ||d||  lg(rg) alpha_du alpha_pr  ls\n",
      "  20r 1.5945061e+00 5.03e+02 8.85e+02   2.0 1.86e+02    -  4.50e-02 6.67e-02f  1\n",
      "  21r 2.0439411e+00 4.94e+02 8.12e+03   2.0 9.98e+01    -  1.91e-01 9.18e-02f  1\n",
      "  22r 2.4715350e+00 4.82e+02 1.47e+04   2.0 9.06e+01    -  2.72e-01 1.38e-01f  1\n",
      "  23r 2.3265838e+00 4.56e+02 1.35e+04   1.3 7.82e+01    -  4.59e-01 3.32e-01f  1\n",
      "  24  1.6895726e+00 2.09e+02 3.46e+03  -1.0 4.56e+02    -  5.93e-02 5.42e-01h  1\n",
      "  25  1.3796887e+00 1.23e+02 1.69e+03  -1.0 2.09e+02    -  3.14e-01 4.10e-01h  1\n",
      "  26  1.2195307e+00 1.04e+02 1.39e+03  -1.0 2.00e+02    -  2.54e-01 1.56e-01h  1\n",
      "  27  1.2044742e+00 1.02e+02 7.35e+03  -1.0 2.37e+02    -  3.28e-01 1.72e-02h  1\n",
      "  28  6.1943743e-01 2.44e+01 5.51e+04  -1.0 1.44e+02    -  5.89e-01 7.61e-01h  1\n",
      "  29  5.6645529e-01 2.09e+01 5.31e+04  -1.0 9.42e+01    -  8.95e-02 1.42e-01h  1\n",
      "iter    objective    inf_pr   inf_du lg(mu)  ||d||  lg(rg) alpha_du alpha_pr  ls\n",
      "  30  5.0531793e-01 1.71e+01 3.41e+05  -1.0 9.96e+01    -  6.11e-01 1.85e-01h  1\n",
      "  31  5.0462471e-01 1.70e+01 9.18e+07  -1.0 5.16e+01    -  9.20e-01 2.42e-03h  1\n",
      "  32  5.0453702e-01 1.70e+01 8.75e+08  -1.0 6.94e+02    -  1.18e-02 1.25e-03h  1\n",
      "  33  5.0446698e-01 1.70e+01 1.45e+10  -1.0 7.95e+02    -  1.43e-02 1.01e-03h  1\n",
      "  34r 5.0446698e-01 1.70e+01 1.00e+03   1.2 0.00e+00    -  0.00e+00 2.87e-07R  6\n",
      "  35r 5.1751379e-01 3.86e+00 1.84e+03   1.2 1.49e+04    -  7.64e-03 1.13e-03f  1\n",
      "  36  4.5941847e-01 2.61e+00 4.08e+03  -1.0 1.19e+02    -  6.98e-01 3.36e-01h  1\n",
      "  37  3.1018006e-01 8.17e-01 1.67e+05  -1.0 2.11e+01    -  4.45e-01 7.31e-01h  1\n",
      "  38  2.4954599e-01 2.99e-01 8.62e+04  -1.0 3.47e+01    -  9.61e-01 6.42e-01h  1\n",
      "  39  2.4447420e-01 2.63e-01 9.50e+05  -1.0 6.26e+01    -  3.81e-01 1.21e-01h  1\n",
      "iter    objective    inf_pr   inf_du lg(mu)  ||d||  lg(rg) alpha_du alpha_pr  ls\n",
      "  40  2.0574791e-01 5.41e-03 3.31e+06  -1.0 2.07e+01    -  6.67e-01 9.90e-01h  1\n",
      "  41  2.0298304e-01 2.73e-03 3.04e+06  -1.0 1.32e+02    -  4.35e-01 4.95e-01f  1\n",
      "  42  2.0156662e-01 1.37e-03 6.00e+07  -1.0 1.21e+02    -  5.56e-01 4.97e-01f  2\n",
      "  43  2.0087708e-01 6.89e-04 1.33e+08  -1.0 2.94e+02    -  4.82e-01 4.99e-01f  2\n",
      "  44  2.0052526e-01 3.45e-04 2.17e+08  -1.0 5.43e+02    -  5.11e-01 5.00e-01f  2\n",
      "  45  2.0035285e-01 1.72e-04 2.98e+08  -1.0 1.12e+03    -  4.98e-01 5.00e-01f  2\n",
      "  46  2.0026406e-01 8.61e-05 3.69e+08  -1.0 2.18e+03    -  5.09e-01 5.00e-01f  2\n",
      "  47  2.0021873e-01 4.31e-05 4.31e+08  -1.0 4.31e+03    -  5.11e-01 5.00e-01f  2\n",
      "  48  2.0019212e-01 2.15e-05 4.93e+08  -1.0 8.23e+03    -  5.26e-01 5.00e-01f  2\n",
      "  49  2.0015274e-01 2.51e-08 1.26e+09  -1.0 1.52e+04    -  5.52e-01 1.00e+00f  1\n",
      "iter    objective    inf_pr   inf_du lg(mu)  ||d||  lg(rg) alpha_du alpha_pr  ls\n",
      "  50  1.9999946e-01 3.45e-03 2.84e+15  -1.0 2.35e+04    -  6.70e-01 1.00e+00f  1\n",
      "  51  1.9999959e-01 9.64e-05 1.08e+17  -1.0 3.03e+04    -  1.00e+00 1.00e+00f  1\n",
      "  52  1.9999959e-01 1.13e-03 2.85e+19  -1.0 2.26e+04    -  1.00e+00 1.00e+00f  1\n",
      "  53  1.9999959e-01 3.13e-05 4.57e+20  -1.0 7.91e-01    -  1.00e+00 1.00e+00h  1\n",
      "  54  1.9999959e-01 1.48e-03 2.29e+25  -1.0 3.88e+00    -  1.00e+00 1.00e+00f  1\n",
      "  55  1.9999959e-01 2.16e-04 3.95e+26  -1.0 9.07e-01    -  1.00e+00 1.00e+00h  1\n",
      "  56  1.9999959e-01 4.54e-07 1.82e+28  -1.0 9.22e-02   0.0 1.00e+00 1.00e+00h  1\n",
      "  57  1.9999959e-01 8.17e-03 1.03e+35  -1.0 4.18e+01    -  1.00e+00 5.04e-01f  1\n",
      "  58  1.9999959e-01 4.13e-01 8.15e+35  -1.0 1.58e+02    -  2.26e-02 1.00e+00f  1\n",
      "  59  1.9999959e-01 9.88e-02 5.05e+35  -1.0 3.88e+01    -  1.00e+00 1.00e+00h  1\n",
      "iter    objective    inf_pr   inf_du lg(mu)  ||d||  lg(rg) alpha_du alpha_pr  ls\n",
      "  60  1.9999959e-01 4.86e-03 1.37e+36  -1.0 1.80e+01    -  1.00e+00 1.00e+00h  1\n",
      "  61  1.9999959e-01 8.79e-03 6.41e+36  -1.0 7.17e+00    -  1.00e+00 1.00e+00f  1\n",
      "Scaling factors are invalid - setting them all to 1.\n",
      "Scaling factors are invalid - setting them all to 1.\n",
      "Scaling factors are invalid - setting them all to 1.\n",
      "Scaling factors are invalid - setting them all to 1.\n",
      "Scaling factors are invalid - setting them all to 1.\n",
      "Scaling factors are invalid - setting them all to 1.\n",
      "Scaling factors are invalid - setting them all to 1.\n",
      "Scaling factors are invalid - setting them all to 1.\n",
      "Scaling factors are invalid - setting them all to 1.\n",
      "Scaling factors are invalid - setting them all to 1.\n",
      "Scaling factors are invalid - setting them all to 1.\n",
      "Scaling factors are invalid - setting them all to 1.\n",
      "Scaling factors are invalid - setting them all to 1.\n",
      "Scaling factors are invalid - setting them all to 1.\n",
      "Scaling factors are invalid - setting them all to 1.\n",
      "Scaling factors are invalid - setting them all to 1.\n",
      "Scaling factors are invalid - setting them all to 1.\n",
      "WARNING: Problem in step computation; switching to emergency mode.\n",
      "  62r 1.9999959e-01 8.79e-03 1.00e+03  -1.0 0.00e+00  19.8 0.00e+00 0.00e+00R  1\n",
      "  63r 2.8977934e-01 7.40e-04 3.16e+04  -1.0 3.61e+01    -  2.50e-02 1.13e-02f  1\n",
      "  64  1.8477284e-01 2.56e-02 4.55e+05  -1.0 3.28e+01    -  9.47e-01 9.23e-01f  1\n",
      "  65  1.9353742e-01 1.28e-02 2.73e+09  -1.0 4.85e+01    -  8.90e-01 5.00e-01h  2\n",
      "  66  1.9478622e-01 1.03e-02 1.73e+09  -1.0 3.45e+01    -  7.66e-01 1.95e-01f  2\n",
      "  67  1.9657933e-01 6.74e-03 8.70e+10  -1.0 2.04e+01    -  9.91e-01 3.45e-01f  2\n",
      "  68  1.9999945e-01 3.80e-08 3.12e+10  -1.0 8.18e+00    -  1.00e+00 1.00e+00h  1\n",
      "  69  1.9999959e-01 1.58e-02 5.29e+15  -1.0 8.37e+00    -  8.42e-01 1.00e+00f  1\n",
      "iter    objective    inf_pr   inf_du lg(mu)  ||d||  lg(rg) alpha_du alpha_pr  ls\n",
      "  70  1.9999959e-01 2.48e-02 1.53e+17  -1.0 1.28e+01    -  1.00e+00 5.00e-01f  2\n",
      "  71  1.9999959e-01 1.19e-04 1.21e+17  -1.0 2.14e+00    -  1.00e+00 1.00e+00h  1\n",
      "  72  1.9999959e-01 5.56e-02 7.52e+20  -1.0 5.20e+00    -  1.00e+00 1.00e+00f  1\n",
      "  73  1.9999959e-01 4.12e-03 7.89e+21  -1.0 1.11e+00    -  1.00e+00 1.00e+00h  1\n",
      "  74  1.9999959e-01 6.49e-01 1.67e+25  -1.0 6.29e+01    -  1.00e+00 7.45e-01f  1\n",
      "  75  1.9999959e-01 6.15e-01 1.67e+25  -1.0 2.19e+01    -  1.00e+00 5.31e-02h  1\n",
      "  76  1.9999959e-01 6.00e-01 4.20e+25  -1.0 3.53e+02    -  1.60e-01 2.18e-02f  2\n",
      "  77  1.9999959e-01 5.88e-01 5.41e+25  -1.0 1.33e+02    -  7.25e-01 2.12e-02f  3\n",
      "  78  1.9999959e-01 5.71e-01 1.32e+26  -1.0 9.00e+01    -  2.73e-01 2.87e-02h  3\n",
      "  79  1.9999959e-01 5.70e-01 1.32e+26  -1.0 8.11e+01    -  1.00e+00 1.18e-03h  8\n",
      "iter    objective    inf_pr   inf_du lg(mu)  ||d||  lg(rg) alpha_du alpha_pr  ls\n",
      "  80r 1.9999959e-01 5.70e-01 1.00e+03  -0.2 0.00e+00    -  0.00e+00 4.90e-07R 19\n",
      "  81r 2.4699476e-01 1.15e-01 5.06e+04  -0.2 4.78e+02    -  5.09e-03 1.18e-03f  1\n"
     ]
    },
    {
     "name": "stdout",
     "output_type": "stream",
     "text": [
      "  82  1.9202962e-01 1.17e-02 1.65e+06  -1.0 2.27e+01    -  9.65e-01 9.62e-01f  1\n",
      "  83  2.0017813e-01 5.08e-04 1.54e+09  -1.0 6.34e-01    -  9.90e-01 1.00e+00h  1\n",
      "  84  2.0009984e-01 4.50e-02 8.36e+10  -1.0 1.98e+01    -  9.93e-01 4.39e-01f  2\n",
      "  85  1.9999959e-01 4.11e-02 1.53e+11  -1.0 3.35e+00    -  1.00e+00 1.00e+00h  1\n",
      "  86  1.9999959e-01 1.76e-03 2.09e+15  -1.0 1.57e+01    -  1.00e+00 1.00e+00h  1\n",
      "  87  1.9999959e-01 1.21e-01 7.37e+15  -1.0 3.08e+02    -  2.81e-01 1.60e-01f  1\n",
      "  88  1.9999959e-01 1.37e+01 7.13e+15  -1.0 7.13e-05  20.0 1.39e-04 1.00e+00f  1\n",
      "  89  1.9950454e-01 2.85e+00 3.21e+21  -1.0 6.98e-02  19.5 1.00e+00 7.81e-01h  1\n",
      "iter    objective    inf_pr   inf_du lg(mu)  ||d||  lg(rg) alpha_du alpha_pr  ls\n",
      "  90  1.9996522e-01 2.40e-04 4.04e+20  -1.0 1.52e-02  19.0 1.98e-02 9.91e-01h  1\n",
      "  91  1.9999959e-01 6.43e-10 1.12e+18  -1.7 1.39e-04  18.6 1.00e+00 1.00e+00h  1\n",
      "  92  1.9999959e-01 6.43e-10 1.12e+18  -5.7 1.55e+12    -  1.00e+00 2.02e-09f  6\n",
      "  93  1.8783509e-01 6.04e-10 1.75e+18  -5.7 1.58e+06    -  1.00e+00 6.15e-02f  1\n",
      "  94  7.4869446e-02 2.40e-10 6.96e+17  -5.7 2.96e-01    -  1.00e+00 6.03e-01f  1\n",
      "  95  7.1766691e-04 2.27e-13 8.99e+09  -5.7 7.42e-02    -  1.00e+00 1.00e+00f  1\n",
      "  96 -8.6759475e-09 2.27e-13 3.59e+14  -5.7 7.18e-04    -  1.00e+00 9.99e-01f  1\n",
      "  97 -4.9881928e-09 2.27e-13 1.15e+15  -8.6 1.57e-03    -  1.00e+00 1.00e+00h  1\n",
      "WARNING: Problem in step computation; switching to emergency mode.\n",
      "Restoration phase is called at point that is almost feasible,\n",
      "  with constraint violation 3.770181e-12. Abort.\n",
      "\n",
      "Number of Iterations....: 97\n",
      "\n",
      "                                   (scaled)                 (unscaled)\n",
      "Objective...............:  -4.9881928222164715e-09   -4.9881928222164715e-09\n",
      "Dual infeasibility......:   1.1543282953748482e+15    1.1543282953748482e+15\n",
      "Constraint violation....:   2.2737367544323206e-13    2.2737367544323206e-13\n",
      "Complementarity.........:   3.1274718348502168e-09    3.1274718348502168e-09\n",
      "Overall NLP error.......:   2.7459283207276035e-06    1.1543282953748482e+15\n",
      "\n",
      "\n",
      "Number of objective function evaluations             = 175\n",
      "Number of objective gradient evaluations             = 86\n",
      "Number of equality constraint evaluations            = 175\n",
      "Number of inequality constraint evaluations          = 175\n",
      "Number of equality constraint Jacobian evaluations   = 104\n",
      "Number of inequality constraint Jacobian evaluations = 104\n",
      "Number of Lagrangian Hessian evaluations             = 98\n",
      "Total CPU secs in IPOPT (w/o function evaluations)   =      4.114\n",
      "Total CPU secs in NLP function evaluations           =      0.162\n",
      "\n",
      "EXIT: Restoration Failed!\n"
     ]
    },
    {
     "ename": "ValueError",
     "evalue": "Cannot load a SolverResults object with bad status: error",
     "output_type": "error",
     "traceback": [
      "\u001b[0;31m---------------------------------------------------------------------------\u001b[0m",
      "\u001b[0;31mValueError\u001b[0m                                Traceback (most recent call last)",
      "\u001b[0;32m<ipython-input-19-ff2bdd37c343>\u001b[0m in \u001b[0;36m<module>\u001b[0;34m()\u001b[0m\n\u001b[1;32m     11\u001b[0m \u001b[0;34m\u001b[0m\u001b[0m\n\u001b[1;32m     12\u001b[0m \u001b[0mopt\u001b[0m\u001b[0;34m.\u001b[0m\u001b[0moptions\u001b[0m\u001b[0;34m[\u001b[0m\u001b[0;34m'max_iter'\u001b[0m\u001b[0;34m]\u001b[0m \u001b[0;34m=\u001b[0m \u001b[0;36m7000\u001b[0m\u001b[0;34m\u001b[0m\u001b[0m\n\u001b[0;32m---> 13\u001b[0;31m \u001b[0mresults\u001b[0m \u001b[0;34m=\u001b[0m \u001b[0mopt\u001b[0m\u001b[0;34m.\u001b[0m\u001b[0msolve\u001b[0m\u001b[0;34m(\u001b[0m\u001b[0mmodel\u001b[0m\u001b[0;34m,\u001b[0m\u001b[0mtee\u001b[0m\u001b[0;34m=\u001b[0m\u001b[0;32mTrue\u001b[0m\u001b[0;34m)\u001b[0m\u001b[0;34m\u001b[0m\u001b[0m\n\u001b[0m\u001b[1;32m     14\u001b[0m \u001b[0mupdate_dual\u001b[0m\u001b[0;34m(\u001b[0m\u001b[0mpe\u001b[0m\u001b[0;34m,\u001b[0m\u001b[0mmodel\u001b[0m\u001b[0;34m)\u001b[0m\u001b[0;34m\u001b[0m\u001b[0m\n",
      "\u001b[0;32m/anaconda/lib/python3.6/site-packages/pyomo/opt/base/solvers.py\u001b[0m in \u001b[0;36msolve\u001b[0;34m(self, *args, **kwds)\u001b[0m\n\u001b[1;32m    652\u001b[0m                             \u001b[0mresult\u001b[0m\u001b[0;34m,\u001b[0m\u001b[0;34m\u001b[0m\u001b[0m\n\u001b[1;32m    653\u001b[0m                             \u001b[0mselect\u001b[0m\u001b[0;34m=\u001b[0m\u001b[0mself\u001b[0m\u001b[0;34m.\u001b[0m\u001b[0m_select_index\u001b[0m\u001b[0;34m,\u001b[0m\u001b[0;34m\u001b[0m\u001b[0m\n\u001b[0;32m--> 654\u001b[0;31m                             default_variable_value=self._default_variable_value)\n\u001b[0m\u001b[1;32m    655\u001b[0m                         \u001b[0mresult\u001b[0m\u001b[0;34m.\u001b[0m\u001b[0m_smap_id\u001b[0m \u001b[0;34m=\u001b[0m \u001b[0;32mNone\u001b[0m\u001b[0;34m\u001b[0m\u001b[0m\n\u001b[1;32m    656\u001b[0m                         \u001b[0mresult\u001b[0m\u001b[0;34m.\u001b[0m\u001b[0msolution\u001b[0m\u001b[0;34m.\u001b[0m\u001b[0mclear\u001b[0m\u001b[0;34m(\u001b[0m\u001b[0;34m)\u001b[0m\u001b[0;34m\u001b[0m\u001b[0m\n",
      "\u001b[0;32m/anaconda/lib/python3.6/site-packages/pyomo/core/base/PyomoModel.py\u001b[0m in \u001b[0;36mload_from\u001b[0;34m(self, results, allow_consistent_values_for_fixed_vars, comparison_tolerance_for_fixed_vars, ignore_invalid_labels, id, delete_symbol_map, clear, default_variable_value, select, ignore_fixed_vars)\u001b[0m\n\u001b[1;32m    240\u001b[0m                 raise ValueError(\"Cannot load a SolverResults object \"\n\u001b[1;32m    241\u001b[0m                                  \u001b[0;34m\"with bad status: %s\"\u001b[0m\u001b[0;34m\u001b[0m\u001b[0m\n\u001b[0;32m--> 242\u001b[0;31m                                  % str(results.solver.status))\n\u001b[0m\u001b[1;32m    243\u001b[0m         \u001b[0;32mif\u001b[0m \u001b[0mclear\u001b[0m\u001b[0;34m:\u001b[0m\u001b[0;34m\u001b[0m\u001b[0m\n\u001b[1;32m    244\u001b[0m             \u001b[0;31m#\u001b[0m\u001b[0;34m\u001b[0m\u001b[0;34m\u001b[0m\u001b[0m\n",
      "\u001b[0;31mValueError\u001b[0m: Cannot load a SolverResults object with bad status: error"
     ]
    }
   ],
   "source": [
    "opt = pe.SolverFactory('ipopt')\n",
    "\n",
    "opt.options['print_user_options'] = 'yes'\n",
    "opt.options['linear_solver'] = 'ma86'\n",
    "\n",
    "opt.options['linear_system_scaling '] = 'mc19'\n",
    "opt.options['linear_scaling_on_demand '] = 'no'\n",
    "# opt.options['recalc_y'] = 'yes'\n",
    "# opt.options['bound_relax_factor'] = 0\n",
    "# opt.options['halt_on_ampl_error'] = 'yes'\n",
    "\n",
    "opt.options['max_iter'] = 7000\n",
    "results = opt.solve(model,tee=True)\n",
    "update_dual(pe,model)"
   ]
  },
  {
   "cell_type": "code",
   "execution_count": null,
   "metadata": {
    "scrolled": true,
    "slideshow": {
     "slide_type": "skip"
    }
   },
   "outputs": [],
   "source": [
    "model.Q_main.value"
   ]
  },
  {
   "cell_type": "code",
   "execution_count": null,
   "metadata": {
    "slideshow": {
     "slide_type": "skip"
    }
   },
   "outputs": [],
   "source": [
    "model.T.value"
   ]
  },
  {
   "cell_type": "code",
   "execution_count": null,
   "metadata": {},
   "outputs": [],
   "source": [
    "# model.solutions.store_to(results)\n",
    "# with open('../saved_solutions/reboiler_MPCC_P_pf_200C.pickle','wb') as f:\n",
    "#     pickle.dump(results,f)"
   ]
  },
  {
   "cell_type": "code",
   "execution_count": null,
   "metadata": {
    "scrolled": false,
    "slideshow": {
     "slide_type": "slide"
    }
   },
   "outputs": [],
   "source": [
    "print('Component\\t\\tLiquid: {:.4f}\\t\\t\\tVapor: {:.4f}\\t\\t\\tlog K'.format(model.L['out'].value,model.V['out'].value))\n",
    "print('-'*108)\n",
    "for i in model.x:\n",
    "    print('{:10s}'.format(i),'\\t\\t{:8.4%}\\t\\t\\t{:8.4%}\\t\\t\\t{:.4f}'.format(model.x[i].value,model.y[i].value,np.log10(model.y[i].value/model.x[i].value)))"
   ]
  },
  {
   "cell_type": "markdown",
   "metadata": {
    "slideshow": {
     "slide_type": "slide"
    }
   },
   "source": [
    "# Iterative Solve for Data Analysis"
   ]
  },
  {
   "cell_type": "code",
   "execution_count": null,
   "metadata": {},
   "outputs": [],
   "source": [
    "update_dual(pe,model)"
   ]
  },
  {
   "cell_type": "code",
   "execution_count": null,
   "metadata": {},
   "outputs": [],
   "source": [
    "opt.options['warm_start_init_point'] = 'yes'\n",
    "opt.options['warm_start_bound_push'] = 1e-20\n",
    "opt.options['warm_start_mult_bound_push'] = 1e-20\n",
    "opt.options['mu_init'] = 1e-6"
   ]
  },
  {
   "cell_type": "code",
   "execution_count": null,
   "metadata": {
    "scrolled": false,
    "slideshow": {
     "slide_type": "fragment"
    }
   },
   "outputs": [],
   "source": [
    "rf_data = {}\n",
    "rf_data['T'] = []; rf_data['Q'] = []; rf_data['V'] = []; rf_data['L'] = []; \n",
    "rf_data['y_CO'] = []; rf_data['y_H2'] = []; rf_data['y_CO2'] = []; rf_data['y_H2O'] = [];\n",
    "rf_data['f_V_CO'] = []; rf_data['f_V_H2'] = [];\n",
    "    \n",
    "Trange = np.arange(350+273.15,199+273.15,-5)\n",
    "\n",
    "for Tub in Trange:\n",
    "    model.T.setub(Tub)\n",
    "    results = opt.solve(model,tee=False)\n",
    "    update_dual(pe,model)\n",
    "    # print('-'*72)\n",
    "    print('Solved, Solution T = {:.2f} K\\t|\\tV = {:.5f}\\t|\\tL = {:.5f}\\t|'.format(model.T.value,model.V['out'].value,model.L['out'].value))\n",
    "    # print('-'*72)\n",
    "    rf_data['T'].append(model.T.value)\n",
    "    rf_data['Q'].append(model.Q_main.value)\n",
    "    rf_data['V'].append(model.V['out'].value)\n",
    "    rf_data['L'].append(model.L['out'].value)    \n",
    "    \n",
    "    \n",
    "    rf_data['y_H2O'].append(model.y['H2O'].value)\n",
    "    rf_data['y_CO'].append(model.y['CO'].value)\n",
    "    rf_data['y_H2'].append(model.y['H2'].value)\n",
    "    rf_data['y_CO2'].append(model.y['CO2'].value)\n",
    "    \n",
    "    rf_data['f_V_CO'].append(model.f_V['CO'].value)\n",
    "    rf_data['f_V_H2'].append(model.f_V['H2'].value)"
   ]
  },
  {
   "cell_type": "markdown",
   "metadata": {},
   "source": [
    "# VLE Validation using AspenPlus"
   ]
  },
  {
   "cell_type": "markdown",
   "metadata": {},
   "source": [
    "### Feed (Reactor Effluent)"
   ]
  },
  {
   "cell_type": "code",
   "execution_count": null,
   "metadata": {},
   "outputs": [],
   "source": [
    "print('Temperature (C): \\t{:.2f}\\t\\t'.format(model.T.value-273.15))\n",
    "print('Total FLow (kmol/s): \\t{:.2f}\\t\\t'.format(model.L['out'].value+model.V['out'].value))\n",
    "print('-'*72)\n",
    "for i in model.x:\n",
    "    print('{:10s}'.format(i),'\\t\\t{:.4%}'.format((model.x[i].value*model.L['out'].value\\\n",
    "        +model.y[i].value*model.V['out'].value)/(model.L['out'].value+model.V['out'].value)))"
   ]
  },
  {
   "cell_type": "markdown",
   "metadata": {},
   "source": [
    "### Phase Separation"
   ]
  },
  {
   "cell_type": "code",
   "execution_count": null,
   "metadata": {
    "scrolled": false
   },
   "outputs": [],
   "source": [
    "print('Component\\t\\tLiquid: {:.4f}\\t\\t\\tVapor: {:.4f}\\t\\t\\tlog K'.format(model.L['out'].value,model.V['out'].value))\n",
    "print('-'*108)\n",
    "for i in model.x:\n",
    "    print('{:10s}'.format(i),'\\t\\t{:8.4%}\\t\\t\\t{:8.4%}\\t\\t\\t{:.4f}'.format(model.x[i].value,model.y[i].value,np.log10(model.y[i].value/model.x[i].value)))"
   ]
  },
  {
   "cell_type": "code",
   "execution_count": null,
   "metadata": {},
   "outputs": [],
   "source": [
    "list(zip(rf_data['T'],rf_data['Q']))"
   ]
  },
  {
   "cell_type": "code",
   "execution_count": null,
   "metadata": {},
   "outputs": [],
   "source": []
  }
 ],
 "metadata": {
  "kernelspec": {
   "display_name": "Python 3",
   "language": "python",
   "name": "python3"
  },
  "language_info": {
   "codemirror_mode": {
    "name": "ipython",
    "version": 3
   },
   "file_extension": ".py",
   "mimetype": "text/x-python",
   "name": "python",
   "nbconvert_exporter": "python",
   "pygments_lexer": "ipython3",
   "version": "3.6.3"
  }
 },
 "nbformat": 4,
 "nbformat_minor": 2
}
