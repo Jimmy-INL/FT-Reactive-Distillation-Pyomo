{
 "cells": [
  {
   "cell_type": "markdown",
   "metadata": {
    "slideshow": {
     "slide_type": "slide"
    }
   },
   "source": [
    "# 2nd Level Model Structure: Reboiler"
   ]
  },
  {
   "cell_type": "code",
   "execution_count": 1,
   "metadata": {},
   "outputs": [],
   "source": [
    "import sys\n",
    "import os\n",
    "import pickle\n",
    "sys.path.append(os.path.abspath('..'))\n",
    "import numpy as np\n",
    "from matplotlib import pyplot as plt"
   ]
  },
  {
   "cell_type": "code",
   "execution_count": 2,
   "metadata": {
    "slideshow": {
     "slide_type": "fragment"
    }
   },
   "outputs": [],
   "source": [
    "from pyomo import environ as pe\n",
    "from global_sets.component import m\n",
    "from utility.display_utility import trans_product_mole, trans_product_mass\n",
    "from utility.model_utility import add_dual, update_dual, check_DOF\n",
    "\n",
    "# stage construction rules\n",
    "from physics.energy_reboiler import energy_block_rule\n",
    "from physics.VLE_reboiler_MPCC_P import VLE_block_rule\n",
    "from physics.MPCC_P import P_NCP_block_rule, P_Reg_block_rule, P_pf_block_rule\n",
    "\n",
    "model = pe.ConcreteModel()"
   ]
  },
  {
   "cell_type": "markdown",
   "metadata": {
    "slideshow": {
     "slide_type": "subslide"
    }
   },
   "source": [
    "# Global Sets (Inlet / Outlet)"
   ]
  },
  {
   "cell_type": "code",
   "execution_count": 3,
   "metadata": {
    "slideshow": {
     "slide_type": "fragment"
    }
   },
   "outputs": [],
   "source": [
    "model.inlet = pe.Set(initialize=['in'])\n",
    "model.outlet = pe.Set(initialize=['out','P'])\n",
    "model.stream = model.inlet | model.outlet"
   ]
  },
  {
   "cell_type": "markdown",
   "metadata": {
    "slideshow": {
     "slide_type": "subslide"
    }
   },
   "source": [
    "# Global Variables"
   ]
  },
  {
   "cell_type": "code",
   "execution_count": 4,
   "metadata": {
    "slideshow": {
     "slide_type": "fragment"
    }
   },
   "outputs": [],
   "source": [
    "# Tray Inlet/Outlet Variable\n",
    "model.x_ = pe.Var(model.inlet,m.COMP_TOTAL,within=pe.NonNegativeReals)\n",
    "model.y_ = pe.Var(model.inlet,m.COMP_TOTAL,within=pe.NonNegativeReals)\n",
    "model.x = pe.Var(m.COMP_TOTAL,within=pe.NonNegativeReals)\n",
    "model.y = pe.Var(m.COMP_TOTAL,within=pe.NonNegativeReals)\n",
    "model.z = pe.Var(m.COMP_FEED,within=pe.NonNegativeReals)\n",
    "\n",
    "model.L = pe.Var(model.stream,within=pe.NonNegativeReals)\n",
    "model.V = pe.Var(model.stream,within=pe.NonNegativeReals)\n",
    "model.F = pe.Var(within=pe.NonNegativeReals)\n",
    "\n",
    "model.H_L_ = pe.Var(model.inlet,within=pe.Reals)\n",
    "model.H_V_ = pe.Var(model.inlet,within=pe.Reals)\n",
    "model.H_L = pe.Var(within=pe.Reals)\n",
    "model.H_V = pe.Var(within=pe.Reals)\n",
    "model.H_F = pe.Var(within=pe.Reals)\n",
    "\n",
    "# State Variable\n",
    "model.T = pe.Var(within=pe.NonNegativeReals,bounds=(200+273.15,350+273.15)) # K\n",
    "model.T_F = pe.Var(within=pe.NonNegativeReals) # K\n",
    "model.P = pe.Var(within=pe.NonNegativeReals,bounds=(10,30)) # Bar\n",
    "\n",
    "model.f_V = pe.Var(m.COMP_TOTAL,within=pe.NonNegativeReals,initialize=1e-20)\n",
    "model.f_L = pe.Var(m.COMP_TOTAL,within=pe.NonNegativeReals,initialize=1e-20)\n",
    "\n",
    "model.Q_main = pe.Var(within=pe.Reals) # MW"
   ]
  },
  {
   "cell_type": "markdown",
   "metadata": {
    "slideshow": {
     "slide_type": "slide"
    }
   },
   "source": [
    "# Construct Individual Blocks"
   ]
  },
  {
   "cell_type": "code",
   "execution_count": 5,
   "metadata": {
    "slideshow": {
     "slide_type": "subslide"
    }
   },
   "outputs": [
    {
     "name": "stdout",
     "output_type": "stream",
     "text": [
      "> Importing Energy Blocks......\n",
      "> Adding the following local variable:\n",
      "--------------------------------------------------\n",
      "| energy_block.dH_F\n",
      "| energy_block.dH_V\n",
      "| energy_block.dH_L\n",
      "| energy_block.dH_vap\n",
      "--------------------------------------------------\n",
      "\n"
     ]
    }
   ],
   "source": [
    "model.energy_block = pe.Block(rule=energy_block_rule)"
   ]
  },
  {
   "cell_type": "code",
   "execution_count": 6,
   "metadata": {
    "scrolled": false,
    "slideshow": {
     "slide_type": "subslide"
    }
   },
   "outputs": [
    {
     "name": "stdout",
     "output_type": "stream",
     "text": [
      "> Importing VLE Blocks......\n",
      "> Adding the following local variable:\n",
      "--------------------------------------------------\n",
      "| VLE_block.P_VLE\n",
      "| VLE_block.n_ave\n",
      "| VLE_block.n_ave_cal\n",
      "| VLE_block.Hen\n",
      "| VLE_block.Hen0\n",
      "| VLE_block.gamma\n",
      "| VLE_block.P_sat\n",
      "| VLE_block.P_sat_Y\n",
      "| VLE_block.P_sat_dY_inf\n",
      "| VLE_block.P_sat_dY0\n",
      "| VLE_block.Hen_ref\n",
      "| VLE_block.Hen0_ref\n",
      "| VLE_block.gamma_ref\n",
      "| VLE_block.V_L\n",
      "| VLE_block.V_L_dY_inf\n",
      "| VLE_block.V_L_dY0\n",
      "| VLE_block.poynting\n",
      "--------------------------------------------------\n",
      "\n"
     ]
    }
   ],
   "source": [
    "model.VLE_block = pe.Block(rule=VLE_block_rule)"
   ]
  },
  {
   "cell_type": "markdown",
   "metadata": {
    "slideshow": {
     "slide_type": "slide"
    }
   },
   "source": [
    "# Standard MESH Equations"
   ]
  },
  {
   "cell_type": "markdown",
   "metadata": {
    "slideshow": {
     "slide_type": "subslide"
    }
   },
   "source": [
    "## Mass Balance"
   ]
  },
  {
   "cell_type": "markdown",
   "metadata": {
    "slideshow": {
     "slide_type": "fragment"
    }
   },
   "source": [
    "\\begin{equation}\n",
    "Fz_{i}+\\sum_{s\\in{inlet}}L_{s}x'_{i,s}+\\sum_{s\\in{inlet}}V_{s}y'_{i,s}-\\sum_{s\\in{outlet}}L_{s}x_{i,s}+\\sum_{s\\in{ouelet}}V_{s}y_{i,s}+R_{i} = 0 \\\\\n",
    "i = 1,...NC\n",
    "\\end{equation}"
   ]
  },
  {
   "cell_type": "code",
   "execution_count": 7,
   "metadata": {
    "slideshow": {
     "slide_type": "fragment"
    }
   },
   "outputs": [],
   "source": [
    "def mass_balance_main_rule(model,i):\n",
    "    if i in m.COMP_FEED:\n",
    "        return model.F*model.z[i] + sum(model.L[s]*model.x_[s,i] + model.V[s]*model.y_[s,i] for s in model.inlet)\\\n",
    "        - sum(model.L[s]*model.x[i] + model.V[s]*model.y[i] for s in model.outlet) == 0\n",
    "    else:\n",
    "        return sum(model.L[s]*model.x_[s,i] + model.V[s]*model.y_[s,i] for s in model.inlet)\\\n",
    "        - sum(model.L[s]*model.x[i] + model.V[s]*model.y[i] for s in model.outlet) == 0\n",
    "model.mass_balance_main_con = pe.Constraint(m.COMP_TOTAL,rule=mass_balance_main_rule)"
   ]
  },
  {
   "cell_type": "markdown",
   "metadata": {
    "slideshow": {
     "slide_type": "subslide"
    }
   },
   "source": [
    "## Equilibrium"
   ]
  },
  {
   "cell_type": "markdown",
   "metadata": {
    "slideshow": {
     "slide_type": "fragment"
    }
   },
   "source": [
    "\\begin{align}\n",
    "&f_{i,V} = f_{i,L} \\\\\n",
    "&i = 1,...NC\n",
    "\\end{align}"
   ]
  },
  {
   "cell_type": "code",
   "execution_count": 8,
   "metadata": {
    "slideshow": {
     "slide_type": "fragment"
    }
   },
   "outputs": [],
   "source": [
    "def VL_equil_rule(model,i):\n",
    "    return model.f_V[i] == model.f_L[i]\n",
    "model.VL_equil_con = pe.Constraint(m.COMP_TOTAL,rule=VL_equil_rule)"
   ]
  },
  {
   "cell_type": "markdown",
   "metadata": {},
   "source": [
    "# MPCC - P-Pspec"
   ]
  },
  {
   "cell_type": "code",
   "execution_count": 9,
   "metadata": {},
   "outputs": [
    {
     "name": "stdout",
     "output_type": "stream",
     "text": [
      "> Importing MPCC_P_Reg Blocks......\n",
      "> Adding the following local variable:\n",
      "--------------------------------------------------\n",
      "| MPCC.s_L\n",
      "| MPCC.s_V\n",
      "| MPCC.epi\n",
      "--------------------------------------------------\n",
      "> Adding complementarity constraint, spliting pressure used in VLE\n",
      "\n"
     ]
    }
   ],
   "source": [
    "model.MPCC = pe.Block(rule = P_Reg_block_rule)"
   ]
  },
  {
   "cell_type": "markdown",
   "metadata": {
    "slideshow": {
     "slide_type": "subslide"
    }
   },
   "source": [
    "## Summation"
   ]
  },
  {
   "cell_type": "markdown",
   "metadata": {
    "slideshow": {
     "slide_type": "fragment"
    }
   },
   "source": [
    "\\begin{equation}\n",
    "\\sum_ix_{i} = \\sum_iy_{i} \\\\\n",
    "F + L_{in} + V_{in} + R = L_{out} + V_{out}\n",
    "\\end{equation}"
   ]
  },
  {
   "cell_type": "code",
   "execution_count": 10,
   "metadata": {
    "slideshow": {
     "slide_type": "fragment"
    }
   },
   "outputs": [],
   "source": [
    "def summation_x_y_rule(model):\n",
    "    return sum(model.x[i] for i in m.COMP_TOTAL) == sum(model.y[i] for i in m.COMP_TOTAL)\n",
    "model.summation_x_y_con = pe.Constraint(rule=summation_x_y_rule)\n",
    "\n",
    "def summation_total_mass_rule(model):\n",
    "    return model.F + sum(model.L[s] + model.V[s] for s in model.inlet)\\\n",
    "            - sum(model.L[s] + model.V[s] for s in model.outlet) == 0\n",
    "model.summation_total_mass_con = pe.Constraint(rule=summation_total_mass_rule)"
   ]
  },
  {
   "cell_type": "markdown",
   "metadata": {
    "slideshow": {
     "slide_type": "subslide"
    }
   },
   "source": [
    "## Energy Balance"
   ]
  },
  {
   "cell_type": "markdown",
   "metadata": {
    "slideshow": {
     "slide_type": "fragment"
    }
   },
   "source": [
    "\\begin{equation}\n",
    "F H_f+\\sum_{s\\in{inlet}}L_{s}H_{l,s}+\\sum_{s\\in{inlet}}V_{s}H_{v,s}-\\sum_{s\\in{outlet}}L_{s}H_{l,s}-\\sum_{s\\in{outlet}}V_{s}H_{v,s}+Q = 0\n",
    "\\end{equation}"
   ]
  },
  {
   "cell_type": "code",
   "execution_count": 11,
   "metadata": {
    "slideshow": {
     "slide_type": "fragment"
    }
   },
   "outputs": [],
   "source": [
    "def heat_balance_main_rule(model):\n",
    "    return model.F*model.H_F + sum(model.L[s]*model.H_L_[s] + model.V[s]*model.H_V_[s] for s in model.inlet) \\\n",
    "            + model.Q_main - sum(model.L[s]*model.H_L + model.V[s]*model.H_V for s in model.outlet) == 0\n",
    "model.heat_balance_main_con = pe.Constraint(rule=heat_balance_main_rule)"
   ]
  },
  {
   "cell_type": "markdown",
   "metadata": {
    "slideshow": {
     "slide_type": "slide"
    }
   },
   "source": [
    "# Testing"
   ]
  },
  {
   "cell_type": "code",
   "execution_count": 12,
   "metadata": {
    "slideshow": {
     "slide_type": "fragment"
    }
   },
   "outputs": [
    {
     "name": "stdout",
     "output_type": "stream",
     "text": [
      "Created the follow pyomo suffixes:\n",
      "ipopt_zL_out, ipopt_zU_out, ipopt_zL_in, ipopt_zU_in, dual\n"
     ]
    }
   ],
   "source": [
    "add_dual(pe,model)"
   ]
  },
  {
   "cell_type": "markdown",
   "metadata": {},
   "source": [
    "# Load a flash liquid composition as feed"
   ]
  },
  {
   "cell_type": "code",
   "execution_count": 13,
   "metadata": {},
   "outputs": [],
   "source": [
    "with open('../saved_solutions/reactive_flash_MPCC_P_pf_200C.pickle', 'rb') as f:\n",
    "    C200 = pickle.load(f)"
   ]
  },
  {
   "cell_type": "markdown",
   "metadata": {
    "slideshow": {
     "slide_type": "fragment"
    }
   },
   "source": [
    "## Fixing In/Product Redundent Flow"
   ]
  },
  {
   "cell_type": "code",
   "execution_count": 14,
   "metadata": {
    "slideshow": {
     "slide_type": "fragment"
    }
   },
   "outputs": [],
   "source": [
    "model.y_.fix(0)\n",
    "for i in m.COMP_TOTAL:\n",
    "    model.x_['in',i].fix(C200.Solution.Variable['x[{}]'.format(i)]['Value'])\n",
    "model.L['in'].fix(1)\n",
    "model.L['P'].fix(0)\n",
    "model.V['in'].fix(0)\n",
    "model.V['P'].fix(0)\n",
    "model.H_V_.fix(0)\n",
    "model.H_L_.fix(C200.Solution.Variable['H_L']['Value'])"
   ]
  },
  {
   "cell_type": "markdown",
   "metadata": {
    "slideshow": {
     "slide_type": "subslide"
    }
   },
   "source": [
    "## Fixing Model Parameters"
   ]
  },
  {
   "cell_type": "code",
   "execution_count": 15,
   "metadata": {
    "slideshow": {
     "slide_type": "fragment"
    }
   },
   "outputs": [],
   "source": [
    "model.P.fix(20)\n",
    "model.T_F.fix(200+273.15)\n",
    "model.F.fix(0)\n",
    "model.z.fix(0)\n",
    "model.VLE_block.n_ave.fix(20)\n",
    "model.Q_main.fix(0)"
   ]
  },
  {
   "cell_type": "code",
   "execution_count": 16,
   "metadata": {
    "scrolled": true,
    "slideshow": {
     "slide_type": "fragment"
    }
   },
   "outputs": [
    {
     "name": "stdout",
     "output_type": "stream",
     "text": [
      "Active Equality Constraints:\t 957\n",
      "Active Inequality Constraints:\t 2\n",
      "Active Variables:\t\t 1131\n",
      "Fixed Variables:\t\t 172\n",
      "DOF:\t\t\t\t 2\n"
     ]
    }
   ],
   "source": [
    "check_DOF(pe,model)"
   ]
  },
  {
   "cell_type": "markdown",
   "metadata": {
    "slideshow": {
     "slide_type": "subslide"
    }
   },
   "source": [
    "## Fix T or to fix Q? we have found that Maximize against an upper bound is most reliable"
   ]
  },
  {
   "cell_type": "code",
   "execution_count": 17,
   "metadata": {
    "slideshow": {
     "slide_type": "fragment"
    }
   },
   "outputs": [],
   "source": [
    "model.T.setub(300+273.15)"
   ]
  },
  {
   "cell_type": "code",
   "execution_count": 18,
   "metadata": {
    "slideshow": {
     "slide_type": "fragment"
    }
   },
   "outputs": [],
   "source": [
    "# model.obj = pe.Objective(expr = model.T ,sense=pe.maximize)\n",
    "# model.obj = pe.Objective(expr = model.MPCC.pf,sense=pe.minimize)\n",
    "# model.obj = pe.Objective(expr = model.T - model.MPCC.pf ,sense=pe.maximize)"
   ]
  },
  {
   "cell_type": "code",
   "execution_count": 19,
   "metadata": {
    "scrolled": false,
    "slideshow": {
     "slide_type": "fragment"
    }
   },
   "outputs": [
    {
     "name": "stdout",
     "output_type": "stream",
     "text": [
      "Ipopt 3.12.8: print_user_options=yes\n",
      "linear_solver=ma86\n",
      "linear_system_scaling =mc19\n",
      "linear_scaling_on_demand =no\n",
      "max_iter=7000\n",
      "\n",
      "\n",
      "List of user-set options:\n",
      "\n",
      "                                    Name   Value                used\n",
      "                linear_scaling_on_demand = no                    yes\n",
      "                           linear_solver = ma86                  yes\n",
      "                   linear_system_scaling = mc19                  yes\n",
      "                                max_iter = 7000                  yes\n",
      "                      print_user_options = yes                   yes\n",
      "\n",
      "******************************************************************************\n",
      "This program contains Ipopt, a library for large-scale nonlinear optimization.\n",
      " Ipopt is released as open source code under the Eclipse Public License (EPL).\n",
      "         For more information visit http://projects.coin-or.org/Ipopt\n",
      "******************************************************************************\n",
      "\n",
      "This is Ipopt version 3.12.8, running with linear solver ma86.\n",
      "\n",
      "Number of nonzeros in equality constraint Jacobian...:     3223\n",
      "Number of nonzeros in inequality constraint Jacobian.:        4\n",
      "Number of nonzeros in Lagrangian Hessian.............:     4317\n",
      "\n",
      "Total number of variables............................:      959\n",
      "                     variables with only lower bounds:      324\n",
      "                variables with lower and upper bounds:      628\n",
      "                     variables with only upper bounds:        0\n",
      "Total number of equality constraints.................:      957\n",
      "Total number of inequality constraints...............:        2\n",
      "        inequality constraints with only lower bounds:        0\n",
      "   inequality constraints with lower and upper bounds:        0\n",
      "        inequality constraints with only upper bounds:        2\n",
      "\n",
      "iter    objective    inf_pr   inf_du lg(mu)  ||d||  lg(rg) alpha_du alpha_pr  ls\n",
      "   0  0.0000000e+00 1.38e+04 1.00e+00  -1.0 0.00e+00    -  0.00e+00 0.00e+00   0\n",
      "   1  0.0000000e+00 1.38e+04 4.32e+02  -1.0 4.25e+05    -  6.89e-07 1.36e-05h  1\n",
      "   2r 0.0000000e+00 1.38e+04 9.99e+02   4.1 0.00e+00    -  0.00e+00 6.57e-08R  2\n",
      "   3r 0.0000000e+00 1.38e+04 1.02e+04   4.1 5.60e+05    -  1.99e-03 3.43e-08f  1\n",
      "   4r 0.0000000e+00 3.84e+03 1.00e+04   2.0 4.24e+05    -  4.20e-04 1.78e-02f  1\n",
      "   5  0.0000000e+00 3.84e+03 2.83e+02  -1.0 4.59e+04    -  9.23e-05 8.73e-05h  1\n",
      "   6r 0.0000000e+00 3.84e+03 9.99e+02   3.5 0.00e+00    -  0.00e+00 4.42e-07R  2\n",
      "   7r 0.0000000e+00 3.84e+03 9.99e+02   3.5 8.50e+05    -  8.04e-05 2.64e-06f  1\n",
      "   8r 0.0000000e+00 2.93e+03 1.01e+03   2.8 8.94e+05    -  7.87e-03 8.24e-04f  1\n",
      "   9  0.0000000e+00 2.93e+03 2.35e+02  -1.0 3.91e+04    -  2.95e-04 8.27e-04h  1\n",
      "iter    objective    inf_pr   inf_du lg(mu)  ||d||  lg(rg) alpha_du alpha_pr  ls\n",
      "  10r 0.0000000e+00 2.93e+03 9.99e+02   3.4 0.00e+00    -  0.00e+00 3.54e-07R  5\n",
      "  11r 0.0000000e+00 2.93e+03 2.27e+03   3.4 8.93e+05    -  3.46e-03 4.90e-06f  1\n",
      "  12r 0.0000000e+00 5.13e+02 2.31e+03   2.7 6.15e+05    -  4.45e-03 3.87e-03f  1\n",
      "  13  0.0000000e+00 5.13e+02 8.09e+02  -1.0 9.45e+04    -  1.04e-03 5.93e-04h  1\n",
      "  14r 0.0000000e+00 5.13e+02 9.99e+02   2.7 0.00e+00    -  0.00e+00 2.63e-07R  5\n",
      "  15r 0.0000000e+00 5.13e+02 9.99e+02   2.7 5.80e+04    -  3.58e-03 9.53e-05f  1\n",
      "  16r 0.0000000e+00 5.13e+02 9.94e+02   2.0 5.30e+04    -  1.25e-03 5.06e-03f  1\n",
      "  17r 0.0000000e+00 5.13e+02 9.93e+02   2.0 2.66e+05    -  2.48e-03 6.93e-04f  1\n",
      "  18r 0.0000000e+00 5.12e+02 9.86e+02   2.0 3.25e+04    -  5.65e-03 7.36e-03f  1\n",
      "  19r 0.0000000e+00 5.11e+02 9.81e+02   2.0 1.48e+04    -  8.95e-03 5.13e-03f  1\n",
      "iter    objective    inf_pr   inf_du lg(mu)  ||d||  lg(rg) alpha_du alpha_pr  ls\n",
      "  20r 0.0000000e+00 5.09e+02 9.81e+02   2.0 1.01e+03   0.0 2.12e-02 2.96e-02f  1\n",
      "  21r 0.0000000e+00 5.05e+02 9.85e+02   2.0 3.20e+03  -0.5 5.05e-02 4.17e-02f  1\n",
      "  22r 0.0000000e+00 5.03e+02 5.66e+03   2.0 9.26e+03  -1.0 9.27e-02 2.58e-02f  1\n",
      "  23r 0.0000000e+00 5.02e+02 1.84e+04   2.0 7.24e+02    -  2.83e-01 8.94e-03f  1\n",
      "  24r 0.0000000e+00 4.81e+02 1.53e+04   2.0 5.91e+02    -  3.17e-01 2.24e-01f  1\n",
      "  25r 0.0000000e+00 4.53e+02 9.19e+03   1.3 7.77e+02    -  4.27e-01 4.04e-01f  1\n",
      "  26  0.0000000e+00 4.38e+02 7.98e+02  -1.0 6.64e+03    -  3.31e-02 3.24e-02h  1\n",
      "  27  0.0000000e+00 3.10e+02 1.11e+04  -1.0 7.42e+03    -  8.62e-02 2.92e-01h  1\n",
      "  28  0.0000000e+00 3.07e+02 1.10e+04  -1.0 5.89e+03    -  2.30e-02 1.05e-02h  1\n",
      "  29  0.0000000e+00 3.07e+02 3.41e+04  -1.0 5.86e+03    -  3.25e-01 1.08e-04h  1\n",
      "iter    objective    inf_pr   inf_du lg(mu)  ||d||  lg(rg) alpha_du alpha_pr  ls\n",
      "  30  0.0000000e+00 3.06e+02 1.71e+07  -1.0 2.00e+03    -  1.68e-02 3.33e-05h  1\n",
      "  31r 0.0000000e+00 3.06e+02 1.00e+03   2.5 0.00e+00    -  0.00e+00 3.03e-07R  5\n",
      "  32r 0.0000000e+00 2.94e+02 2.45e+04   2.5 1.14e+04    -  7.44e-02 1.08e-03f  1\n",
      "  33r 0.0000000e+00 3.53e+01 2.35e+04   1.8 1.03e+04    -  4.64e-02 2.83e-02f  1\n",
      "  34  0.0000000e+00 3.51e+01 4.08e+01  -1.0 5.03e+03    -  6.21e-02 3.14e-03h  1\n",
      "  35  0.0000000e+00 3.46e+01 1.02e+02  -1.0 5.86e+03    -  9.49e-02 2.28e-02h  1\n",
      "  36  0.0000000e+00 3.46e+01 2.05e+04  -1.0 5.81e+03    -  1.66e-01 2.46e-04h  1\n",
      "  37  0.0000000e+00 3.46e+01 1.75e+07  -1.0 2.30e+03    -  2.76e-02 3.20e-05h  1\n",
      "  38r 0.0000000e+00 3.46e+01 1.00e+03   1.5 0.00e+00    -  0.00e+00 2.90e-07R  6\n",
      "  39r 0.0000000e+00 9.51e+00 1.73e+03   1.5 2.82e+04    -  7.80e-02 9.98e-04f  1\n",
      "iter    objective    inf_pr   inf_du lg(mu)  ||d||  lg(rg) alpha_du alpha_pr  ls\n",
      "  40  0.0000000e+00 9.51e+00 6.70e+02  -1.0 5.88e+03    -  9.52e-02 2.80e-04h  1\n",
      "  41r 0.0000000e+00 9.51e+00 9.99e+02   1.0 0.00e+00    -  0.00e+00 4.58e-07R  5\n",
      "  42r 0.0000000e+00 6.45e+00 9.97e+02   1.0 1.35e+04    -  5.06e-03 1.29e-03f  1\n",
      "  43  0.0000000e+00 6.45e+00 1.33e+03  -1.0 5.71e+03    -  1.28e-01 1.97e-04h  1\n",
      "  44  0.0000000e+00 6.45e+00 2.33e+06  -1.0 2.50e+03    -  3.00e-02 1.71e-05h  1\n",
      "  45  0.0000000e+00 6.45e+00 2.98e+09  -1.0 2.09e+03    -  4.60e-02 3.57e-05h  1\n",
      "  46r 0.0000000e+00 6.45e+00 1.00e+03   0.8 0.00e+00    -  0.00e+00 1.78e-07R  2\n",
      "  47r 0.0000000e+00 2.85e+00 9.95e+02   0.8 1.50e+04    -  4.76e-03 3.91e-03f  1\n",
      "  48  0.0000000e+00 2.85e+00 1.83e+03  -1.0 6.13e+03    -  2.37e-01 2.64e-04h  1\n",
      "  49r 0.0000000e+00 2.85e+00 9.99e+02   0.5 0.00e+00    -  0.00e+00 3.82e-07R  5\n",
      "iter    objective    inf_pr   inf_du lg(mu)  ||d||  lg(rg) alpha_du alpha_pr  ls\n",
      "  50r 0.0000000e+00 1.57e+00 9.96e+02   0.5 6.92e+03    -  5.46e-03 2.20e-03f  1\n",
      "  51  0.0000000e+00 1.57e+00 6.51e+03  -1.0 6.06e+03    -  2.30e-01 7.62e-05h  1\n",
      "  52  0.0000000e+00 1.57e+00 1.50e+07  -1.0 2.73e+03    -  2.95e-02 1.27e-05h  1\n",
      "  53  0.0000000e+00 1.57e+00 5.44e+10  -1.0 2.52e+03    -  4.86e-02 1.33e-05h  1\n",
      "  54r 0.0000000e+00 1.57e+00 1.00e+03   0.2 0.00e+00    -  0.00e+00 6.85e-08R  2\n",
      "  55r 0.0000000e+00 1.50e+00 9.96e+02   0.2 2.38e+03    -  1.36e-02 3.37e-03f  1\n",
      "  56r 0.0000000e+00 1.56e+01 9.78e+02   0.2 1.95e+03    -  4.92e-02 1.80e-02f  1\n",
      "  57r 0.0000000e+00 2.79e+01 9.43e+02   0.2 1.66e+03    -  1.05e-01 3.58e-02f  1\n",
      "  58r 0.0000000e+00 3.09e+01 9.02e+02   0.2 1.72e+03    -  1.91e-01 4.29e-02f  1\n",
      "  59r 0.0000000e+00 3.08e+01 8.78e+02   0.2 1.61e+03    -  3.11e-02 2.67e-02f  1\n",
      "iter    objective    inf_pr   inf_du lg(mu)  ||d||  lg(rg) alpha_du alpha_pr  ls\n",
      "  60r 0.0000000e+00 3.44e+01 9.52e+02   0.2 9.95e+02    -  2.63e-01 9.76e-02f  1\n",
      "  61r 0.0000000e+00 3.35e+01 7.19e+02   0.2 8.65e+02    -  5.88e-03 1.12e-01f  1\n",
      "  62r 0.0000000e+00 3.16e+01 9.01e+02   0.2 7.16e+02    -  4.64e-01 2.52e-01f  1\n",
      "  63r 0.0000000e+00 2.97e+01 9.84e+02   0.2 6.64e+02    -  2.54e-01 6.23e-02f  1\n",
      "  64r 0.0000000e+00 1.90e+01 9.59e+02   0.2 1.96e+02    -  9.82e-01 4.43e-01f  1\n",
      "  65r 0.0000000e+00 1.06e+00 7.06e+02   0.2 2.57e+02    -  8.14e-01 1.00e+00f  1\n",
      "  66  0.0000000e+00 1.06e+00 7.96e+00  -1.0 7.37e+03    -  1.80e-02 2.20e-03h  3\n",
      "  67  0.0000000e+00 1.06e+00 1.82e+02  -1.0 7.37e+03    -  1.39e-01 2.59e-03h  3\n",
      "  68  0.0000000e+00 1.06e+00 6.46e+02  -1.0 7.39e+03    -  3.23e-01 2.73e-03h  7\n",
      "  69  0.0000000e+00 1.06e+00 9.02e+02  -1.0 7.37e+03    -  3.81e-01 1.66e-03h  9\n",
      "iter    objective    inf_pr   inf_du lg(mu)  ||d||  lg(rg) alpha_du alpha_pr  ls\n",
      "  70  0.0000000e+00 1.06e+00 9.33e+02  -1.0 7.36e+03    -  4.64e-01 1.66e-03h  9\n",
      "  71  0.0000000e+00 1.07e+00 8.67e+02  -1.0 7.35e+03    -  2.45e-01 1.66e-03h  9\n",
      "  72  0.0000000e+00 1.07e+00 8.15e+02  -1.0 7.34e+03    -  4.87e-01 1.66e-03h  9\n",
      "  73  0.0000000e+00 1.07e+00 9.33e+02  -1.0 7.33e+03    -  2.25e-01 1.66e-03h  9\n",
      "  74  0.0000000e+00 1.07e+00 1.28e+03  -1.0 7.32e+03    -  6.38e-01 1.66e-03h  9\n",
      "  75  0.0000000e+00 1.07e+00 1.44e+03  -1.0 7.31e+03    -  2.08e-01 1.66e-03h  9\n",
      "  76  0.0000000e+00 1.52e+02 1.19e+03  -1.0 7.30e+03    -  8.52e-01 4.26e-01w  1\n"
     ]
    },
    {
     "name": "stdout",
     "output_type": "stream",
     "text": [
      "  77  0.0000000e+00 1.48e+02 1.11e+03  -1.0 4.44e+03    -  6.97e-03 3.11e-02w  1\n",
      "  78  0.0000000e+00 1.48e+02 6.31e+04  -1.0 4.28e+03    -  2.63e-02 3.56e-04w  1\n",
      "  79  0.0000000e+00 1.07e+00 2.52e+03  -1.0 2.38e+03    -  8.52e-01 1.67e-03h  8\n",
      "iter    objective    inf_pr   inf_du lg(mu)  ||d||  lg(rg) alpha_du alpha_pr  ls\n",
      "  80  0.0000000e+00 1.07e+00 2.92e+03  -1.0 7.29e+03    -  1.96e-01 1.67e-03h  9\n",
      "  81  0.0000000e+00 1.07e+00 5.06e+03  -1.0 7.27e+03    -  8.94e-01 1.67e-03h  9\n",
      "  82  0.0000000e+00 1.07e+00 5.85e+03  -1.0 7.26e+03    -  1.99e-01 1.67e-03h  9\n",
      "  83  0.0000000e+00 1.07e+00 1.05e+04  -1.0 7.25e+03    -  1.00e+00 1.67e-03h  9\n",
      "  84  0.0000000e+00 1.07e+00 1.21e+04  -1.0 7.24e+03    -  1.98e-01 1.67e-03h  9\n",
      "  85  0.0000000e+00 1.07e+00 2.14e+04  -1.0 7.23e+03    -  1.00e+00 1.67e-03h  9\n",
      "  86  0.0000000e+00 1.07e+00 2.47e+04  -1.0 7.22e+03    -  2.03e-01 1.67e-03h  9\n",
      "  87  0.0000000e+00 1.07e+00 4.95e+04  -1.0 7.21e+03    -  1.00e+00 1.68e-03h  9\n",
      "  88  0.0000000e+00 1.07e+00 6.24e+04  -1.0 7.20e+03    -  2.07e-01 1.68e-03h  9\n",
      "  89  0.0000000e+00 1.51e+02 8.09e+04  -1.0 7.19e+03    -  1.00e+00 4.30e-01w  1\n",
      "iter    objective    inf_pr   inf_du lg(mu)  ||d||  lg(rg) alpha_du alpha_pr  ls\n",
      "  90  0.0000000e+00 1.46e+02 4.87e+04  -1.0 4.30e+03    -  2.10e-03 3.24e-02w  1\n",
      "  91  0.0000000e+00 1.46e+02 1.03e+07  -1.0 4.19e+03    -  2.67e-02 3.65e-04w  1\n",
      "  92  0.0000000e+00 1.07e+00 1.42e+05  -1.0 2.26e+03    -  1.00e+00 1.68e-03h  8\n",
      "  93  0.0000000e+00 1.07e+00 1.79e+05  -1.0 7.18e+03    -  2.11e-01 1.68e-03h  9\n",
      "  94  0.0000000e+00 1.07e+00 4.05e+05  -1.0 7.17e+03    -  1.00e+00 1.68e-03h  9\n",
      "  95  0.0000000e+00 1.08e+00 5.14e+05  -1.0 7.16e+03    -  2.15e-01 1.68e-03h  9\n",
      "  96  0.0000000e+00 1.08e+00 1.17e+06  -1.0 7.15e+03    -  1.00e+00 1.68e-03h  9\n",
      "  97  0.0000000e+00 1.08e+00 1.50e+06  -1.0 7.14e+03    -  2.19e-01 1.69e-03h  9\n",
      "  98  0.0000000e+00 1.08e+00 3.44e+06  -1.0 7.13e+03    -  1.00e+00 1.69e-03h  9\n",
      "  99  0.0000000e+00 1.08e+00 4.42e+06  -1.0 7.11e+03    -  2.23e-01 1.69e-03h  9\n",
      "iter    objective    inf_pr   inf_du lg(mu)  ||d||  lg(rg) alpha_du alpha_pr  ls\n",
      " 100  0.0000000e+00 1.08e+00 1.01e+07  -1.0 7.10e+03    -  1.00e+00 1.69e-03h  9\n",
      " 101  0.0000000e+00 1.08e+00 1.27e+07  -1.0 7.09e+03    -  2.00e-01 2.44e-03h  6\n",
      " 102  0.0000000e+00 1.97e+00 1.35e+07  -1.0 7.07e+03    -  1.09e-01 3.39e-02w  1\n",
      " 103  0.0000000e+00 6.15e+01 2.28e+07  -1.0 6.87e+03    -  1.00e+00 2.81e-01w  1\n",
      " 104  0.0000000e+00 1.17e+02 4.10e+06  -1.0 5.10e+03    -  1.98e-01 4.15e-01w  1\n",
      " 105  0.0000000e+00 1.08e+00 1.44e+07  -1.0 3.06e+03    -  1.09e-01 2.12e-03h  4\n",
      " 106  0.0000000e+00 1.09e+00 3.30e+07  -1.0 7.06e+03    -  1.00e+00 3.09e-03h  6\n",
      " 107  0.0000000e+00 1.09e+00 5.37e+07  -1.0 7.04e+03    -  4.88e-01 2.20e-03h  8\n",
      " 108  0.0000000e+00 1.09e+00 1.22e+08  -1.0 7.03e+03    -  1.00e+00 2.62e-03h  8\n",
      " 109  0.0000000e+00 1.09e+00 1.59e+08  -1.0 7.01e+03    -  2.41e-01 2.96e-03h  8\n",
      "iter    objective    inf_pr   inf_du lg(mu)  ||d||  lg(rg) alpha_du alpha_pr  ls\n",
      " 110  0.0000000e+00 1.10e+00 3.63e+08  -1.0 7.00e+03    -  1.00e+00 3.08e-03h  8\n",
      " 111  0.0000000e+00 1.10e+00 4.76e+08  -1.0 6.98e+03    -  2.50e-01 3.21e-03h  8\n",
      " 112  0.0000000e+00 1.11e+00 1.08e+09  -1.0 6.96e+03    -  1.00e+00 3.29e-03h  8\n",
      " 113  0.0000000e+00 1.11e+00 1.43e+09  -1.0 6.94e+03    -  2.59e-01 3.34e-03h  8\n",
      " 114  0.0000000e+00 1.12e+00 3.23e+09  -1.0 6.92e+03    -  1.00e+00 3.40e-03h  8\n",
      " 115  0.0000000e+00 1.45e+02 1.13e+09  -1.0 6.90e+03    -  2.67e-01 4.37e-01w  1\n",
      " 116  0.0000000e+00 1.39e+02 2.49e+09  -1.0 4.10e+03    -  6.22e-03 5.25e-02w  1\n",
      " 117  0.0000000e+00 1.39e+02 1.54e+10  -1.0 3.84e+03    -  3.87e-03 6.62e-04w  1\n",
      " 118  0.0000000e+00 1.12e+00 4.30e+09  -1.0 3.78e+03    -  2.67e-01 3.41e-03h  7\n",
      " 119  0.0000000e+00 1.12e+00 9.72e+09  -1.0 6.87e+03    -  1.00e+00 1.72e-03h  9\n",
      "iter    objective    inf_pr   inf_du lg(mu)  ||d||  lg(rg) alpha_du alpha_pr  ls\n",
      " 120  0.0000000e+00 1.13e+00 1.30e+10  -1.0 6.86e+03    -  2.75e-01 3.44e-03h  8\n",
      " 121  0.0000000e+00 1.13e+00 2.93e+10  -1.0 6.84e+03    -  1.00e+00 3.45e-03h  8\n",
      " 122  0.0000000e+00 1.14e+00 3.94e+10  -1.0 6.82e+03    -  2.83e-01 3.45e-03h  8\n",
      " 123  0.0000000e+00 1.14e+00 8.83e+10  -1.0 6.80e+03    -  1.00e+00 3.46e-03h  8\n",
      " 124  0.0000000e+00 1.15e+00 1.20e+11  -1.0 6.78e+03    -  2.92e-01 3.46e-03h  8\n",
      " 125  0.0000000e+00 1.15e+00 1.94e+11  -1.0 6.76e+03    -  1.00e+00 3.47e-03h  8\n",
      " 126  0.0000000e+00 1.16e+00 2.19e+11  -1.0 6.74e+03    -  3.02e-01 3.47e-03h  8\n",
      " 127  0.0000000e+00 1.16e+00 2.19e+11  -1.0 6.72e+03    -  1.00e+00 3.48e-03h  8\n",
      " 128  0.0000000e+00 1.45e+02 8.61e+10  -1.0 6.70e+03    -  3.11e-01 4.46e-01w  1\n",
      " 129  0.0000000e+00 1.40e+02 1.22e+11  -1.0 3.88e+03    -  3.56e-03 3.53e-02w  1\n",
      "iter    objective    inf_pr   inf_du lg(mu)  ||d||  lg(rg) alpha_du alpha_pr  ls\n",
      " 130  0.0000000e+00 1.40e+02 2.41e+13  -1.0 3.75e+03    -  4.94e-02 4.05e-04w  1\n",
      " 131  0.0000000e+00 1.17e+00 2.45e+11  -1.0 2.04e+03    -  3.11e-01 3.48e-03h  7\n",
      " 132  0.0000000e+00 1.17e+00 2.71e+11  -1.0 6.68e+03    -  1.00e+00 3.49e-03h  8\n",
      " 133  0.0000000e+00 1.18e+00 2.71e+11  -1.0 6.65e+03    -  3.20e-01 3.50e-03h  8\n",
      " 134  0.0000000e+00 1.18e+00 2.71e+11  -1.0 6.63e+03    -  1.00e+00 3.50e-03h  8\n",
      " 135  0.0000000e+00 1.19e+00 2.71e+11  -1.0 6.61e+03    -  3.30e-01 3.51e-03h  8\n",
      " 136  0.0000000e+00 1.19e+00 3.23e+11  -1.0 6.59e+03    -  1.00e+00 3.51e-03h  8\n",
      " 137  0.0000000e+00 1.20e+00 3.23e+11  -1.0 6.57e+03    -  3.40e-01 3.52e-03h  8\n",
      " 138  0.0000000e+00 1.20e+00 3.23e+11  -1.0 6.55e+03    -  1.00e+00 3.52e-03h  8\n",
      " 139  0.0000000e+00 1.21e+00 3.23e+11  -1.0 6.53e+03    -  3.49e-01 3.53e-03h  8\n",
      "iter    objective    inf_pr   inf_du lg(mu)  ||d||  lg(rg) alpha_du alpha_pr  ls\n",
      " 140  0.0000000e+00 1.21e+00 3.23e+11  -1.0 6.51e+03    -  1.00e+00 3.53e-03h  8\n",
      " 141  0.0000000e+00 1.42e+02 1.49e+11  -1.0 6.49e+03    -  3.59e-01 4.53e-01w  1\n",
      " 142  0.0000000e+00 1.37e+02 1.26e+11  -1.0 3.72e+03    -  4.80e-03 3.70e-02w  1\n",
      " 143  0.0000000e+00 1.37e+02 2.77e+13  -1.0 3.59e+03    -  5.22e-02 4.25e-04w  1\n",
      " 144  0.0000000e+00 1.22e+00 3.23e+11  -1.0 1.93e+03    -  3.59e-01 3.54e-03h  7\n",
      " 145  0.0000000e+00 1.22e+00 3.32e+11  -1.0 6.47e+03    -  1.00e+00 3.54e-03h  8\n",
      " 146  0.0000000e+00 1.22e+00 3.72e+11  -1.0 6.45e+03    -  3.69e-01 3.55e-03h  8\n",
      " 147  0.0000000e+00 1.23e+00 3.72e+11  -1.0 6.43e+03    -  1.00e+00 3.56e-03h  8\n",
      " 148  0.0000000e+00 1.23e+00 4.37e+11  -1.0 6.41e+03    -  3.28e-01 3.56e-03h  8\n",
      " 149  0.0000000e+00 1.24e+00 4.37e+11  -1.0 6.41e+03    -  6.78e-03 3.33e-03h  4\n",
      "iter    objective    inf_pr   inf_du lg(mu)  ||d||  lg(rg) alpha_du alpha_pr  ls\n",
      " 150  0.0000000e+00 1.24e+00 4.35e+11  -1.0 6.41e+03    -  6.04e-03 3.53e-03h  3\n",
      " 151  0.0000000e+00 1.24e+00 4.34e+11  -1.0 6.39e+03    -  9.55e-03 2.66e-03h  3\n",
      " 152  0.0000000e+00 1.24e+00 4.34e+11  -1.0 6.37e+03    -  1.55e-02 2.02e-03h  3\n",
      " 153  0.0000000e+00 1.25e+00 4.86e+11  -1.0 6.36e+03    -  8.44e-01 3.06e-03h  2\n",
      " 154  0.0000000e+00 1.25e+00 4.85e+11  -1.0 6.34e+03    -  1.72e-02 3.03e-03h  1\n",
      " 155  0.0000000e+00 1.25e+00 4.85e+11  -1.0 6.28e+03    -  1.02e-03 7.28e-04h  1\n",
      " 156  0.0000000e+00 1.25e+00 6.62e+11  -1.0 6.28e+03    -  5.73e-01 1.67e-03h  1\n",
      " 157  0.0000000e+00 1.25e+00 1.08e+12  -1.0 6.27e+03    -  1.00e+00 2.33e-03h  8\n",
      " 158  0.0000000e+00 1.25e+00 1.35e+12  -1.0 6.26e+03    -  4.04e-01 3.60e-03h  8\n",
      " 159  0.0000000e+00 1.26e+00 2.06e+12  -1.0 6.23e+03    -  1.00e+00 3.61e-03h  8\n",
      "iter    objective    inf_pr   inf_du lg(mu)  ||d||  lg(rg) alpha_du alpha_pr  ls\n",
      " 160  0.0000000e+00 1.26e+00 2.06e+12  -1.0 6.21e+03    -  4.16e-01 3.62e-03h  8\n",
      " 161  0.0000000e+00 1.26e+00 2.06e+12  -1.0 6.19e+03    -  1.00e+00 3.62e-03h  8\n",
      " 162  0.0000000e+00 1.27e+00 2.06e+12  -1.0 6.17e+03    -  4.26e-01 3.63e-03h  8\n",
      " 163  0.0000000e+00 1.27e+00 2.24e+12  -1.0 6.15e+03    -  1.00e+00 3.63e-03h  8\n",
      " 164  0.0000000e+00 1.27e+00 2.24e+12  -1.0 6.13e+03    -  4.36e-01 3.64e-03h  8\n",
      " 165  0.0000000e+00 1.28e+00 2.24e+12  -1.0 6.11e+03    -  1.00e+00 3.65e-03h  8\n",
      " 166  0.0000000e+00 1.28e+00 2.24e+12  -1.0 6.09e+03    -  4.47e-01 3.65e-03h  8\n",
      " 167  0.0000000e+00 1.35e+02 1.64e+12  -1.0 6.07e+03    -  1.00e+00 4.68e-01w  1\n",
      " 168  0.0000000e+00 1.30e+02 1.55e+12  -1.0 3.38e+03    -  1.02e-02 4.09e-02w  1\n",
      " 169  0.0000000e+00 1.30e+02 5.68e+13  -1.0 3.25e+03    -  6.25e-02 4.77e-04w  1\n",
      "iter    objective    inf_pr   inf_du lg(mu)  ||d||  lg(rg) alpha_du alpha_pr  ls\n",
      " 170  0.0000000e+00 1.29e+00 2.24e+12  -1.0 3.25e+03    -  1.00e+00 3.66e-03h  7\n",
      " 171  0.0000000e+00 1.29e+00 2.39e+12  -1.0 6.05e+03    -  4.57e-01 3.66e-03h  8\n"
     ]
    },
    {
     "name": "stdout",
     "output_type": "stream",
     "text": [
      " 172  0.0000000e+00 1.29e+00 2.39e+12  -1.0 6.03e+03    -  1.00e+00 3.67e-03h  8\n",
      " 173  0.0000000e+00 1.30e+00 2.39e+12  -1.0 6.01e+03    -  4.68e-01 3.68e-03h  8\n",
      " 174  0.0000000e+00 1.30e+00 2.39e+12  -1.0 5.99e+03    -  1.00e+00 3.68e-03h  8\n",
      " 175  0.0000000e+00 1.30e+00 2.39e+12  -1.0 5.97e+03    -  4.78e-01 3.69e-03h  8\n",
      " 176  0.0000000e+00 1.31e+00 2.50e+12  -1.0 5.95e+03    -  1.00e+00 3.69e-03h  8\n",
      " 177  0.0000000e+00 1.31e+00 2.50e+12  -1.0 5.93e+03    -  4.89e-01 3.70e-03h  8\n",
      " 178  0.0000000e+00 1.31e+00 2.51e+12  -1.0 5.91e+03    -  1.00e+00 3.71e-03h  8\n",
      " 179  0.0000000e+00 1.32e+00 2.51e+12  -1.0 5.89e+03    -  5.00e-01 3.71e-03h  8\n",
      "iter    objective    inf_pr   inf_du lg(mu)  ||d||  lg(rg) alpha_du alpha_pr  ls\n",
      " 180  0.0000000e+00 1.32e+02 1.68e+12  -1.0 5.87e+03    -  1.00e+00 4.76e-01w  1\n",
      " 181  0.0000000e+00 1.27e+02 1.58e+12  -1.0 3.22e+03    -  1.27e-02 4.32e-02w  1\n",
      " 182  0.0000000e+00 1.27e+02 6.84e+13  -1.0 3.08e+03    -  7.31e-02 5.09e-04w  1\n",
      " 183  0.0000000e+00 1.32e+00 2.51e+12  -1.0 3.08e+03    -  1.00e+00 3.72e-03h  7\n",
      " 184  0.0000000e+00 1.32e+00 2.51e+12  -1.0 5.85e+03    -  5.11e-01 3.73e-03h  8\n",
      " 185  0.0000000e+00 1.33e+00 2.60e+12  -1.0 5.83e+03    -  1.00e+00 3.73e-03h  8\n",
      " 186  0.0000000e+00 1.33e+00 2.60e+12  -1.0 5.81e+03    -  5.23e-01 3.74e-03h  8\n",
      " 187  0.0000000e+00 1.33e+00 2.60e+12  -1.0 5.79e+03    -  7.82e-01 3.74e-03h  8\n",
      " 188  0.0000000e+00 1.34e+00 2.60e+12  -1.0 5.77e+03    -  6.28e-01 3.75e-03h  8\n",
      " 189  0.0000000e+00 1.34e+00 2.60e+12  -1.0 5.75e+03    -  5.22e-01 3.76e-03h  8\n",
      "iter    objective    inf_pr   inf_du lg(mu)  ||d||  lg(rg) alpha_du alpha_pr  ls\n",
      " 190  0.0000000e+00 1.34e+00 2.61e+12  -1.0 5.73e+03    -  1.00e+00 3.76e-03h  8\n",
      " 191  0.0000000e+00 1.35e+00 2.69e+12  -1.0 5.71e+03    -  3.91e-01 3.77e-03h  8\n",
      " 192  0.0000000e+00 1.35e+00 2.69e+12  -1.0 5.69e+03    -  1.00e+00 3.78e-03h  8\n",
      " 193  0.0000000e+00 1.29e+02 1.04e+12  -1.0 5.67e+03    -  3.84e-01 4.84e-01w  1\n",
      " 194  0.0000000e+00 1.23e+02 9.75e+11  -1.0 3.06e+03    -  1.53e-02 4.58e-02w  1\n",
      " 195  0.0000000e+00 1.23e+02 4.25e+14  -1.0 2.92e+03    -  6.45e-01 5.45e-04w  1\n",
      " 196  0.0000000e+00 1.35e+00 2.69e+12  -1.0 2.82e+03    -  3.84e-01 3.78e-03h  7\n",
      " 197  0.0000000e+00 1.35e+00 2.69e+12  -1.0 5.65e+03    -  1.00e+00 3.79e-03h  8\n",
      " 198  0.0000000e+00 1.36e+00 2.69e+12  -1.0 5.63e+03    -  3.75e-01 3.80e-03h  8\n",
      " 199  0.0000000e+00 1.36e+00 2.77e+12  -1.0 5.61e+03    -  1.00e+00 3.80e-03h  8\n",
      "iter    objective    inf_pr   inf_du lg(mu)  ||d||  lg(rg) alpha_du alpha_pr  ls\n",
      " 200  0.0000000e+00 1.36e+00 2.77e+12  -1.0 5.59e+03    -  3.66e-01 3.81e-03h  8\n",
      " 201  0.0000000e+00 1.37e+00 2.77e+12  -1.0 5.57e+03    -  1.00e+00 3.82e-03h  8\n",
      " 202  0.0000000e+00 1.37e+00 2.77e+12  -1.0 5.55e+03    -  3.56e-01 3.82e-03h  8\n",
      " 203  0.0000000e+00 1.37e+00 2.77e+12  -1.0 5.53e+03    -  1.00e+00 3.83e-03h  8\n",
      " 204  0.0000000e+00 1.37e+00 2.77e+12  -1.0 5.51e+03    -  3.47e-01 3.84e-03h  8\n",
      " 205  0.0000000e+00 1.38e+00 2.84e+12  -1.0 5.49e+03    -  1.00e+00 3.84e-03h  8\n",
      " 206  0.0000000e+00 1.26e+02 1.05e+12  -1.0 5.47e+03    -  3.37e-01 4.93e-01w  1\n",
      " 207  0.0000000e+00 1.20e+02 9.79e+11  -1.0 2.90e+03    -  1.84e-02 4.87e-02w  1\n",
      " 208  0.0000000e+00 1.20e+02 4.91e+14  -1.0 2.76e+03    -  7.53e-01 5.86e-04w  1\n",
      " 209  0.0000000e+00 1.38e+00 2.84e+12  -1.0 2.67e+03    -  3.37e-01 3.85e-03h  7\n",
      "iter    objective    inf_pr   inf_du lg(mu)  ||d||  lg(rg) alpha_du alpha_pr  ls\n",
      " 210  0.0000000e+00 1.38e+00 2.84e+12  -1.0 5.45e+03    -  1.00e+00 3.86e-03h  8\n",
      " 211  0.0000000e+00 1.38e+00 2.84e+12  -1.0 5.43e+03    -  3.27e-01 3.86e-03h  8\n",
      " 212  0.0000000e+00 1.39e+00 2.89e+12  -1.0 5.41e+03    -  1.00e+00 3.87e-03h  8\n",
      " 213  0.0000000e+00 1.39e+00 2.89e+12  -1.0 5.39e+03    -  3.17e-01 3.88e-03h  8\n",
      " 214  0.0000000e+00 1.39e+00 2.89e+12  -1.0 5.38e+03    -  1.00e+00 3.88e-03h  8\n",
      " 215  0.0000000e+00 1.39e+00 2.89e+12  -1.0 5.36e+03    -  3.07e-01 3.89e-03h  8\n",
      " 216  0.0000000e+00 1.39e+00 2.94e+12  -1.0 5.34e+03    -  1.00e+00 3.90e-03h  8\n",
      " 217  0.0000000e+00 1.40e+00 2.94e+12  -1.0 5.32e+03    -  2.96e-01 3.90e-03h  8\n",
      " 218  0.0000000e+00 1.40e+00 2.98e+12  -1.0 5.30e+03    -  1.00e+00 3.91e-03h  8\n",
      " 219  0.0000000e+00 1.22e+02 1.05e+12  -1.0 5.28e+03    -  2.85e-01 5.01e-01w  1\n",
      "iter    objective    inf_pr   inf_du lg(mu)  ||d||  lg(rg) alpha_du alpha_pr  ls\n",
      " 220  0.0000000e+00 1.17e+02 9.78e+11  -1.0 2.74e+03    -  2.21e-02 5.20e-02w  1\n",
      " 221  0.0000000e+00 1.16e+02 5.84e+14  -1.0 2.60e+03    -  9.09e-01 6.33e-04w  1\n",
      " 222  0.0000000e+00 1.40e+00 2.98e+12  -1.0 2.53e+03    -  2.85e-01 3.92e-03h  7\n",
      " 223  0.0000000e+00 1.40e+00 2.98e+12  -1.0 5.26e+03    -  1.00e+00 3.92e-03h  8\n",
      " 224  0.0000000e+00 1.40e+00 3.01e+12  -1.0 5.24e+03    -  2.74e-01 3.93e-03h  8\n",
      " 225  0.0000000e+00 1.41e+00 3.01e+12  -1.0 5.22e+03    -  1.00e+00 3.94e-03h  8\n",
      " 226  0.0000000e+00 1.41e+00 3.04e+12  -1.0 5.20e+03    -  2.63e-01 3.95e-03h  8\n",
      " 227  0.0000000e+00 1.41e+00 3.06e+12  -1.0 5.18e+03    -  1.00e+00 3.95e-03h  8\n",
      " 228  0.0000000e+00 1.41e+00 3.06e+12  -1.0 5.16e+03    -  2.51e-01 3.96e-03h  8\n",
      " 229  0.0000000e+00 1.41e+00 3.09e+12  -1.0 5.14e+03    -  1.00e+00 3.97e-03h  8\n",
      "iter    objective    inf_pr   inf_du lg(mu)  ||d||  lg(rg) alpha_du alpha_pr  ls\n",
      " 230  0.0000000e+00 1.42e+00 3.10e+12  -1.0 5.12e+03    -  2.40e-01 3.97e-03h  8\n",
      " 231  0.0000000e+00 1.42e+00 3.13e+12  -1.0 5.11e+03    -  1.00e+00 3.98e-03h  8\n",
      " 232  0.0000000e+00 1.19e+02 1.04e+12  -1.0 5.09e+03    -  2.27e-01 5.11e-01w  1\n",
      " 233  0.0000000e+00 1.13e+02 9.67e+11  -1.0 2.59e+03    -  2.70e-02 5.57e-02w  1\n",
      " 234  0.0000000e+00 1.13e+02 6.31e+14  -1.0 2.45e+03    -  1.00e+00 6.88e-04w  1\n",
      " 235  0.0000000e+00 1.42e+00 3.14e+12  -1.0 2.45e+03    -  2.27e-01 3.99e-03h  7\n",
      " 236  0.0000000e+00 1.42e+00 3.18e+12  -1.0 5.07e+03    -  1.00e+00 4.00e-03h  8\n",
      " 237  0.0000000e+00 1.42e+00 3.18e+12  -1.0 5.05e+03    -  2.15e-01 4.00e-03h  8\n",
      " 238  0.0000000e+00 1.42e+00 3.19e+12  -1.0 5.03e+03    -  1.00e+00 4.01e-03h  8\n",
      " 239  0.0000000e+00 1.43e+00 3.19e+12  -1.0 5.01e+03    -  2.02e-01 4.02e-03h  8\n",
      "iter    objective    inf_pr   inf_du lg(mu)  ||d||  lg(rg) alpha_du alpha_pr  ls\n",
      " 240  0.0000000e+00 1.43e+00 3.19e+12  -1.0 4.99e+03    -  1.00e+00 4.03e-03h  8\n",
      " 241  0.0000000e+00 1.43e+00 3.19e+12  -1.0 4.97e+03    -  1.89e-01 4.03e-03h  8\n",
      " 242  0.0000000e+00 1.43e+00 3.19e+12  -1.0 4.95e+03    -  1.00e+00 4.04e-03h  8\n",
      " 243  0.0000000e+00 1.43e+00 3.19e+12  -1.0 4.93e+03    -  1.76e-01 4.05e-03h  8\n",
      " 244  0.0000000e+00 1.43e+00 3.19e+12  -1.0 4.92e+03    -  1.00e+00 4.05e-03h  8\n",
      " 245  0.0000000e+00 1.16e+02 9.70e+11  -1.0 4.90e+03    -  1.62e-01 5.20e-01w  1\n",
      " 246  0.0000000e+00 1.09e+02 8.99e+11  -1.0 2.45e+03    -  3.40e-02 5.98e-02w  1\n",
      " 247  0.0000000e+00 1.09e+02 6.20e+14  -1.0 2.30e+03    -  1.00e+00 7.52e-04w  1\n",
      " 248  0.0000000e+00 1.43e+00 3.19e+12  -1.0 2.30e+03    -  1.62e-01 4.06e-03h  7\n",
      " 249  0.0000000e+00 1.44e+00 3.19e+12  -1.0 4.88e+03    -  1.00e+00 4.07e-03h  8\n",
      "iter    objective    inf_pr   inf_du lg(mu)  ||d||  lg(rg) alpha_du alpha_pr  ls\n",
      " 250  0.0000000e+00 1.44e+00 3.19e+12  -1.0 4.86e+03    -  1.48e-01 4.08e-03h  8\n",
      " 251  0.0000000e+00 1.44e+00 3.19e+12  -1.0 4.84e+03    -  1.00e+00 4.09e-03h  8\n",
      " 252  0.0000000e+00 1.44e+00 3.20e+12  -1.0 4.82e+03    -  1.33e-01 4.09e-03h  8\n",
      " 253  0.0000000e+00 1.44e+00 3.20e+12  -1.0 4.80e+03    -  1.00e+00 4.10e-03h  8\n",
      " 254  0.0000000e+00 1.44e+00 3.20e+12  -1.0 4.78e+03    -  1.18e-01 4.11e-03h  8\n",
      " 255  0.0000000e+00 1.44e+00 3.20e+12  -1.0 4.77e+03    -  1.00e+00 4.12e-03h  8\n",
      " 256  0.0000000e+00 1.44e+00 3.20e+12  -1.0 4.75e+03    -  1.03e-01 4.12e-03h  8\n",
      " 257  0.0000000e+00 1.44e+00 3.20e+12  -1.0 4.73e+03    -  1.00e+00 4.13e-03h  8\n",
      " 258  0.0000000e+00 1.12e+02 8.69e+11  -1.0 4.71e+03    -  8.67e-02 5.30e-01w  1\n",
      " 259  0.0000000e+00 1.06e+02 8.03e+11  -1.0 2.30e+03    -  4.50e-02 6.46e-02w  1\n",
      "iter    objective    inf_pr   inf_du lg(mu)  ||d||  lg(rg) alpha_du alpha_pr  ls\n",
      " 260  0.0000000e+00 1.05e+02 6.15e+14  -1.0 2.16e+03    -  1.00e+00 8.27e-04w  1\n",
      " 261  0.0000000e+00 1.45e+00 3.20e+12  -1.0 2.15e+03    -  8.67e-02 4.14e-03h  7\n",
      " 262  0.0000000e+00 1.45e+00 3.21e+12  -1.0 4.69e+03    -  1.00e+00 4.15e-03h  8\n",
      " 263  0.0000000e+00 1.45e+00 3.21e+12  -1.0 4.67e+03    -  7.04e-02 4.16e-03h  8\n",
      " 264  0.0000000e+00 1.45e+00 3.21e+12  -1.0 4.65e+03    -  1.00e+00 4.17e-03h  8\n",
      " 265  0.0000000e+00 1.45e+00 3.21e+12  -1.0 4.63e+03    -  5.36e-02 2.09e-03h  9\n",
      " 266  0.0000000e+00 1.45e+00 3.21e+12  -1.0 4.62e+03    -  1.00e+00 2.09e-03h  9\n",
      " 267  0.0000000e+00 1.44e+00 3.21e+12  -1.0 4.61e+03    -  4.54e-02 2.09e-03h  9\n",
      " 268  0.0000000e+00 1.44e+00 3.21e+12  -1.0 4.60e+03    -  1.00e+00 2.09e-03h  9\n",
      " 269  0.0000000e+00 1.44e+00 3.21e+12  -1.0 4.59e+03    -  3.70e-02 2.10e-03h  9\n",
      "iter    objective    inf_pr   inf_du lg(mu)  ||d||  lg(rg) alpha_du alpha_pr  ls\n",
      " 270  0.0000000e+00 1.44e+00 3.22e+12  -1.0 4.58e+03    -  1.00e+00 1.05e-03h 10\n",
      " 271  0.0000000e+00 1.10e+02 7.89e+11  -1.0 4.57e+03    -  3.08e-02 5.38e-01w  1\n",
      " 272  0.0000000e+00 1.03e+02 7.30e+11  -1.0 2.21e+03    -  5.60e-02 6.79e-02w  1\n"
     ]
    },
    {
     "name": "stdout",
     "output_type": "stream",
     "text": [
      " 273  0.0000000e+00 1.03e+02 6.20e+14  -1.0 2.07e+03    -  1.00e+00 8.82e-04w  1\n",
      " 274  0.0000000e+00 1.44e+00 3.22e+12  -1.0 2.06e+03    -  3.08e-02 1.05e-03h  9\n",
      " 275  0.0000000e+00 1.44e+00 3.22e+12  -1.0 4.57e+03    -  8.61e-01 1.05e-03h 10\n",
      " 276  0.0000000e+00 1.44e+00 3.22e+12  -1.0 4.56e+03    -  2.69e-02 1.05e-03h 10\n",
      " 277  0.0000000e+00 1.44e+00 3.22e+12  -1.0 4.55e+03    -  1.00e+00 9.46e-04h 10\n",
      " 278  0.0000000e+00 1.44e+00 3.22e+12  -1.0 4.54e+03    -  2.30e-02 8.46e-04h 10\n",
      " 279  0.0000000e+00 1.43e+00 3.22e+12  -1.0 4.54e+03    -  2.60e-01 7.61e-04h 10\n",
      "iter    objective    inf_pr   inf_du lg(mu)  ||d||  lg(rg) alpha_du alpha_pr  ls\n",
      " 280  0.0000000e+00 1.43e+00 3.22e+12  -1.0 4.53e+03    -  2.21e-02 6.89e-04h 10\n",
      " 281  0.0000000e+00 1.43e+00 3.22e+12  -1.0 4.53e+03    -  1.00e+00 6.27e-04h 10\n",
      " 282  0.0000000e+00 1.43e+00 3.22e+12  -1.0 4.52e+03    -  1.79e-02 5.75e-04h 10\n",
      " 283  0.0000000e+00 1.43e+00 3.22e+12  -1.0 4.51e+03    -  2.55e-01 5.29e-04h 10\n",
      " 284  0.0000000e+00 2.44e+01 2.16e+12  -1.0 4.51e+03    -  1.85e-02 2.51e-01w  1\n",
      " 285  0.0000000e+00 2.38e+01 2.01e+12  -1.0 3.46e+03    -  4.66e-02 6.08e-02w  1\n",
      " 286  0.0000000e+00 2.38e+01 2.64e+12  -1.0 3.26e+03    -  1.00e+00 1.10e-03w  1\n",
      " 287  0.0000000e+00 1.43e+00 3.22e+12  -1.0 3.26e+03    -  1.85e-02 4.90e-04h  9\n",
      " 288  0.0000000e+00 1.43e+00 3.22e+12  -1.0 4.50e+03    -  1.00e+00 4.56e-04h 10\n",
      " 289  0.0000000e+00 1.43e+00 3.22e+12  -1.0 4.50e+03    -  1.51e-02 4.27e-04h 10\n",
      "iter    objective    inf_pr   inf_du lg(mu)  ||d||  lg(rg) alpha_du alpha_pr  ls\n",
      " 290  0.0000000e+00 1.43e+00 3.22e+12  -1.0 4.49e+03    -  2.50e-01 4.02e-04h 10\n",
      " 291  0.0000000e+00 1.43e+00 3.22e+12  -1.0 4.49e+03    -  1.65e-02 3.79e-04h 10\n",
      " 292  0.0000000e+00 1.43e+00 3.22e+12  -1.0 4.48e+03    -  1.00e+00 3.60e-04h 10\n",
      " 293  0.0000000e+00 1.43e+00 3.22e+12  -1.0 4.48e+03    -  1.36e-02 3.44e-04h 10\n",
      " 294  0.0000000e+00 1.43e+00 3.22e+12  -1.0 4.47e+03    -  2.48e-01 3.29e-04h 10\n",
      " 295  0.0000000e+00 1.43e+00 3.22e+12  -1.0 4.47e+03    -  1.57e-02 3.17e-04h 10\n",
      " 296  0.0000000e+00 1.43e+00 3.22e+12  -1.0 4.47e+03    -  1.00e+00 3.06e-04h 10\n",
      " 297  0.0000000e+00 9.95e+00 2.59e+12  -1.0 4.46e+03    -  1.30e-02 1.52e-01w  1\n",
      " 298  0.0000000e+00 9.72e+00 2.52e+12  -1.0 3.86e+03    -  1.02e-02 2.43e-02w  1\n",
      " 299  0.0000000e+00 9.72e+00 3.16e+12  -1.0 3.78e+03    -  8.85e-01 3.06e-04w  1\n",
      "iter    objective    inf_pr   inf_du lg(mu)  ||d||  lg(rg) alpha_du alpha_pr  ls\n",
      " 300  0.0000000e+00 1.43e+00 3.22e+12  -1.0 3.78e+03    -  1.30e-02 2.96e-04h  9\n",
      " 301  0.0000000e+00 1.43e+00 3.22e+12  -1.0 4.46e+03    -  2.46e-01 5.76e-04h  9\n",
      " 302  0.0000000e+00 1.44e+00 3.20e+12  -1.0 4.46e+03    -  1.56e-02 8.81e-03h  5\n",
      " 303  0.0000000e+00 1.44e+00 3.23e+12  -1.0 4.43e+03    -  1.00e+00 4.92e-03h  6\n",
      " 304  0.0000000e+00 1.44e+00 3.23e+12  -1.0 4.42e+03    -  3.75e-02 2.92e-03h  7\n",
      " 305  0.0000000e+00 1.44e+00 3.23e+12  -1.0 4.42e+03    -  2.21e-01 1.59e-03h  8\n",
      " 306  0.0000000e+00 1.44e+00 3.23e+12  -1.0 4.41e+03    -  6.35e-02 1.66e-03h  8\n",
      " 307  0.0000000e+00 1.44e+00 3.24e+12  -1.0 4.41e+03    -  1.00e+00 1.73e-03h  8\n",
      " 308  0.0000000e+00 1.44e+00 3.24e+12  -1.0 4.40e+03    -  5.75e-02 1.80e-03h  8\n",
      " 309  0.0000000e+00 1.44e+00 3.24e+12  -1.0 4.40e+03    -  2.44e-01 1.88e-03h  8\n",
      "iter    objective    inf_pr   inf_du lg(mu)  ||d||  lg(rg) alpha_du alpha_pr  ls\n",
      " 310  0.0000000e+00 2.31e+01 2.24e+12  -1.0 4.39e+03    -  8.84e-02 2.49e-01w  1\n",
      " 311  0.0000000e+00 2.25e+01 2.07e+12  -1.0 3.37e+03    -  4.04e-02 6.44e-02w  1\n",
      " 312  0.0000000e+00 2.25e+01 2.71e+12  -1.0 3.16e+03    -  1.00e+00 1.27e-03w  1\n",
      " 313  0.0000000e+00 1.43e+00 3.24e+12  -1.0 3.16e+03    -  8.84e-02 1.95e-03h  7\n",
      " 314  0.0000000e+00 1.43e+00 3.24e+12  -1.0 4.38e+03    -  1.00e+00 2.02e-03h  8\n",
      " 315  0.0000000e+00 1.43e+00 3.24e+12  -1.0 4.38e+03    -  7.72e-02 2.09e-03h  8\n",
      " 316  0.0000000e+00 1.43e+00 3.24e+12  -1.0 4.37e+03    -  2.77e-01 2.16e-03h  8\n",
      " 317  0.0000000e+00 1.43e+00 3.25e+12  -1.0 4.36e+03    -  1.19e-01 2.24e-03h  8\n",
      " 318  0.0000000e+00 1.43e+00 3.25e+12  -1.0 4.35e+03    -  1.00e+00 2.31e-03h  8\n",
      " 319  0.0000000e+00 1.43e+00 3.25e+12  -1.0 4.35e+03    -  1.00e-01 2.38e-03h  8\n",
      "iter    objective    inf_pr   inf_du lg(mu)  ||d||  lg(rg) alpha_du alpha_pr  ls\n",
      " 320  0.0000000e+00 1.42e+00 3.25e+12  -1.0 4.34e+03    -  4.91e-01 2.46e-03h  8\n",
      " 321  0.0000000e+00 1.42e+00 3.25e+12  -1.0 4.33e+03    -  1.31e-01 2.53e-03h  8\n",
      " 322  0.0000000e+00 1.42e+00 3.25e+12  -1.0 4.32e+03    -  1.00e+00 2.60e-03h  8\n",
      " 323  0.0000000e+00 4.10e+01 1.85e+12  -1.0 4.31e+03    -  1.27e-01 3.42e-01w  1\n",
      " 324  0.0000000e+00 4.23e+01 1.23e+12  -1.0 2.91e+03    -  7.65e-02 2.64e-01w  1\n",
      " 325  0.0000000e+00 5.54e+01 7.40e+11  -1.0 2.16e+03    -  1.45e-03 6.27e-01w  1\n",
      " 326  0.0000000e+00 1.42e+00 3.26e+12  -1.0 8.24e+02    -  1.27e-01 2.67e-03h  7\n",
      " 327  0.0000000e+00 1.42e+00 3.26e+12  -1.0 4.30e+03    -  1.00e+00 2.75e-03h  8\n",
      " 328  0.0000000e+00 1.42e+00 3.26e+12  -1.0 4.29e+03    -  1.43e-01 2.82e-03h  8\n",
      " 329  0.0000000e+00 1.42e+00 3.26e+12  -1.0 4.28e+03    -  1.00e+00 2.89e-03h  8\n",
      "iter    objective    inf_pr   inf_du lg(mu)  ||d||  lg(rg) alpha_du alpha_pr  ls\n",
      " 330  0.0000000e+00 1.41e+00 3.27e+12  -1.0 4.27e+03    -  1.58e-01 2.96e-03h  8\n",
      " 331  0.0000000e+00 1.41e+00 3.27e+12  -1.0 4.25e+03    -  4.69e-01 3.03e-03h  8\n",
      " 332  0.0000000e+00 1.41e+00 3.27e+12  -1.0 4.24e+03    -  2.19e-01 3.11e-03h  8\n",
      " 333  0.0000000e+00 1.41e+00 3.27e+12  -1.0 4.23e+03    -  1.95e-01 3.18e-03h  8\n",
      " 334  0.0000000e+00 1.41e+00 3.28e+12  -1.0 4.22e+03    -  8.75e-01 3.25e-03h  8\n",
      " 335  0.0000000e+00 1.41e+00 3.28e+12  -1.0 4.20e+03    -  1.05e-01 3.32e-03h  8\n",
      " 336  0.0000000e+00 6.19e+01 2.20e+12  -1.0 4.19e+03    -  1.00e+00 4.34e-01w  1\n",
      " 337  0.0000000e+00 6.66e+01 8.23e+11  -1.0 2.45e+03    -  1.55e-01 5.46e-01w  1\n",
      " 338  0.0000000e+00 6.03e+01 7.16e+11  -1.0 1.13e+03    -  2.22e-01 9.88e-02w  1\n",
      " 339  0.0000000e+00 1.41e+00 3.28e+12  -1.0 1.02e+03    -  1.00e+00 3.39e-03h  7\n",
      "iter    objective    inf_pr   inf_du lg(mu)  ||d||  lg(rg) alpha_du alpha_pr  ls\n",
      " 340  0.0000000e+00 1.41e+00 3.29e+12  -1.0 4.18e+03    -  9.13e-02 3.46e-03h  8\n",
      " 341  0.0000000e+00 1.41e+00 3.29e+12  -1.0 4.16e+03    -  4.08e-01 3.53e-03h  8\n",
      " 342  0.0000000e+00 1.41e+00 3.29e+12  -1.0 4.15e+03    -  8.80e-02 3.60e-03h  8\n",
      " 343  0.0000000e+00 1.40e+00 3.30e+12  -1.0 4.14e+03    -  1.00e+00 3.67e-03h  8\n",
      " 344  0.0000000e+00 1.40e+00 3.30e+12  -1.0 4.12e+03    -  6.24e-02 3.73e-03h  8\n",
      " 345  0.0000000e+00 1.40e+00 3.30e+12  -1.0 4.11e+03    -  3.59e-01 1.90e-03h  9\n",
      " 346  0.0000000e+00 1.40e+00 3.30e+12  -1.0 4.10e+03    -  5.77e-02 1.92e-03h  9\n",
      " 347  0.0000000e+00 1.40e+00 3.30e+12  -1.0 4.09e+03    -  1.00e+00 1.94e-03h  9\n",
      " 348  0.0000000e+00 1.40e+00 3.31e+12  -1.0 4.08e+03    -  4.33e-02 1.95e-03h  9\n",
      " 349  0.0000000e+00 7.92e+01 1.28e+12  -1.0 4.07e+03    -  3.37e-01 5.05e-01w  1\n",
      "iter    objective    inf_pr   inf_du lg(mu)  ||d||  lg(rg) alpha_du alpha_pr  ls\n",
      " 350  0.0000000e+00 6.38e+01 7.24e+11  -1.0 2.10e+03    -  1.24e-01 4.61e-01w  1\n",
      " 351  0.0000000e+00 6.07e+01 2.60e+12  -1.0 1.14e+03    -  3.21e-01 5.02e-02w  1\n",
      " 352  0.0000000e+00 1.40e+00 3.31e+12  -1.0 1.09e+03    -  3.37e-01 1.97e-03h  8\n",
      " 353  0.0000000e+00 1.39e+00 3.31e+12  -1.0 4.06e+03    -  3.92e-02 1.99e-03h  9\n",
      " 354  0.0000000e+00 1.39e+00 3.31e+12  -1.0 4.05e+03    -  1.00e+00 1.00e-03h 10\n",
      " 355  0.0000000e+00 1.39e+00 3.31e+12  -1.0 4.05e+03    -  2.97e-02 1.01e-03h 10\n",
      " 356  0.0000000e+00 1.39e+00 3.31e+12  -1.0 4.04e+03    -  3.38e-01 1.01e-03h 10\n",
      " 357  0.0000000e+00 1.39e+00 3.31e+12  -1.0 4.04e+03    -  2.83e-02 9.12e-04h 10\n",
      " 358  0.0000000e+00 1.39e+00 3.32e+12  -1.0 4.03e+03    -  1.00e+00 8.24e-04h 10\n",
      " 359  0.0000000e+00 1.39e+00 3.32e+12  -1.0 4.02e+03    -  2.29e-02 7.49e-04h 10\n",
      "iter    objective    inf_pr   inf_du lg(mu)  ||d||  lg(rg) alpha_du alpha_pr  ls\n",
      " 360  0.0000000e+00 1.39e+00 3.32e+12  -1.0 4.02e+03    -  3.42e-01 6.84e-04h 10\n",
      " 361  0.0000000e+00 1.39e+00 3.32e+12  -1.0 4.01e+03    -  2.23e-02 6.28e-04h 10\n",
      " 362  0.0000000e+00 2.75e+01 2.89e+12  -1.0 4.01e+03    -  1.00e+00 2.97e-01w  1\n",
      " 363  0.0000000e+00 2.65e+01 3.29e+12  -1.0 2.90e+03    -  9.60e-01 9.27e-02w  1\n",
      " 364  0.0000000e+00 2.64e+01 4.13e+12  -1.0 2.64e+03    -  1.00e+00 3.00e-03w  1\n",
      " 365  0.0000000e+00 1.39e+00 3.32e+12  -1.0 2.64e+03    -  1.00e+00 5.80e-04h  9\n"
     ]
    },
    {
     "name": "stdout",
     "output_type": "stream",
     "text": [
      " 366  0.0000000e+00 1.39e+00 3.32e+12  -1.0 4.00e+03    -  1.87e-02 5.38e-04h 10\n",
      " 367  0.0000000e+00 1.38e+00 3.32e+12  -1.0 4.00e+03    -  3.45e-01 5.01e-04h 10\n",
      " 368  0.0000000e+00 1.38e+00 3.32e+12  -1.0 4.00e+03    -  1.88e-02 4.69e-04h 10\n",
      " 369  0.0000000e+00 1.38e+00 3.32e+12  -1.0 3.99e+03    -  1.00e+00 4.42e-04h 10\n",
      "iter    objective    inf_pr   inf_du lg(mu)  ||d||  lg(rg) alpha_du alpha_pr  ls\n",
      " 370  0.0000000e+00 1.38e+00 3.32e+12  -1.0 3.99e+03    -  1.63e-02 4.17e-04h 10\n",
      " 371  0.0000000e+00 1.38e+00 3.32e+12  -1.0 3.98e+03    -  3.49e-01 3.96e-04h 10\n",
      " 372  0.0000000e+00 1.38e+00 3.32e+12  -1.0 3.98e+03    -  1.70e-02 3.77e-04h 10\n",
      " 373  0.0000000e+00 1.38e+00 3.32e+12  -1.0 3.98e+03    -  1.00e+00 3.61e-04h 10\n",
      " 374  0.0000000e+00 1.38e+00 3.32e+12  -1.0 3.97e+03    -  1.50e-02 3.47e-04h 10\n",
      " 375  0.0000000e+00 9.85e+00 2.89e+12  -1.0 3.97e+03    -  3.53e-01 1.71e-01w  1\n",
      " 376  0.0000000e+00 9.75e+00 3.59e+12  -1.0 3.38e+03    -  1.00e+00 2.84e-02w  1\n",
      " 377  0.0000000e+00 9.75e+00 3.80e+12  -1.0 3.28e+03    -  1.00e+00 3.70e-04w  1\n",
      " 378  0.0000000e+00 1.38e+00 3.32e+12  -1.0 3.28e+03    -  3.53e-01 3.34e-04h  9\n",
      " 379  0.0000000e+00 1.38e+00 3.32e+12  -1.0 3.97e+03    -  1.61e-02 3.24e-04h 10\n",
      "iter    objective    inf_pr   inf_du lg(mu)  ||d||  lg(rg) alpha_du alpha_pr  ls\n",
      " 380  0.0000000e+00 1.38e+00 3.32e+12  -1.0 3.96e+03    -  1.00e+00 6.28e-04h  9\n",
      " 381  0.0000000e+00 1.38e+00 3.32e+12  -1.0 3.96e+03    -  1.45e-02 5.97e-04h  9\n",
      " 382  0.0000000e+00 1.39e+00 3.33e+12  -1.0 3.95e+03    -  3.59e-01 9.19e-03h  5\n",
      " 383  0.0000000e+00 1.39e+00 3.34e+12  -1.0 3.93e+03    -  3.17e-02 5.14e-03h  6\n",
      " 384  0.0000000e+00 1.39e+00 3.34e+12  -1.0 3.92e+03    -  1.00e+00 1.51e-03h  8\n",
      " 385  0.0000000e+00 1.39e+00 3.34e+12  -1.0 3.92e+03    -  4.42e-02 1.58e-03h  8\n",
      " 386  0.0000000e+00 1.39e+00 3.35e+12  -1.0 3.91e+03    -  4.34e-01 1.65e-03h  8\n",
      " 387  0.0000000e+00 1.39e+00 3.35e+12  -1.0 3.91e+03    -  5.74e-02 1.71e-03h  8\n",
      " 388  0.0000000e+00 1.61e+01 3.24e+12  -1.0 3.91e+03    -  1.00e+00 2.28e-01w  1\n",
      " 389  0.0000000e+00 1.58e+01 3.87e+12  -1.0 3.09e+03    -  1.00e+00 5.03e-02w  1\n",
      "iter    objective    inf_pr   inf_du lg(mu)  ||d||  lg(rg) alpha_du alpha_pr  ls\n",
      " 390  0.0000000e+00 1.57e+01 4.21e+12  -1.0 2.94e+03    -  1.00e+00 8.12e-04w  1\n",
      " 391  0.0000000e+00 1.38e+00 3.35e+12  -1.0 2.94e+03    -  1.00e+00 1.78e-03h  7\n",
      " 392  0.0000000e+00 1.38e+00 3.35e+12  -1.0 3.90e+03    -  6.11e-02 1.85e-03h  8\n",
      " 393  0.0000000e+00 1.38e+00 3.35e+12  -1.0 3.90e+03    -  4.86e-01 1.92e-03h  8\n",
      " 394  0.0000000e+00 1.38e+00 3.36e+12  -1.0 3.89e+03    -  7.79e-02 1.99e-03h  8\n",
      " 395  0.0000000e+00 1.38e+00 3.36e+12  -1.0 3.88e+03    -  1.00e+00 2.06e-03h  8\n",
      " 396  0.0000000e+00 1.38e+00 3.36e+12  -1.0 3.88e+03    -  8.13e-02 2.14e-03h  8\n",
      " 397  0.0000000e+00 1.37e+00 3.36e+12  -1.0 3.87e+03    -  5.53e-01 2.21e-03h  8\n",
      " 398  0.0000000e+00 1.37e+00 3.37e+12  -1.0 3.86e+03    -  1.02e-01 2.28e-03h  8\n",
      " 399  0.0000000e+00 1.37e+00 3.37e+12  -1.0 3.86e+03    -  1.00e+00 2.35e-03h  8\n",
      "iter    objective    inf_pr   inf_du lg(mu)  ||d||  lg(rg) alpha_du alpha_pr  ls\n",
      " 400  0.0000000e+00 1.37e+00 3.37e+12  -1.0 3.85e+03    -  1.05e-01 2.42e-03h  8\n",
      " 401  0.0000000e+00 2.94e+01 2.51e+12  -1.0 3.84e+03    -  6.48e-01 3.19e-01w  1\n",
      " 402  0.0000000e+00 2.85e+01 2.71e+12  -1.0 2.69e+03    -  1.00e+00 1.57e-01w  1\n",
      " 403  0.0000000e+00 3.87e+01 1.08e+12  -1.0 2.27e+03    -  3.69e-03 4.62e-01w  1\n",
      " 404  0.0000000e+00 1.37e+00 3.38e+12  -1.0 1.24e+03    -  6.48e-01 2.50e-03h  7\n",
      " 405  0.0000000e+00 1.37e+00 3.38e+12  -1.0 3.83e+03    -  1.28e-01 2.57e-03h  8\n",
      " 406  0.0000000e+00 1.36e+00 3.38e+12  -1.0 3.82e+03    -  1.00e+00 2.64e-03h  8\n",
      " 407  0.0000000e+00 1.36e+00 3.39e+12  -1.0 3.82e+03    -  1.32e-01 2.71e-03h  8\n",
      " 408  0.0000000e+00 1.36e+00 3.39e+12  -1.0 3.81e+03    -  7.87e-01 2.78e-03h  8\n",
      " 409  0.0000000e+00 1.36e+00 3.39e+12  -1.0 3.80e+03    -  1.54e-01 2.85e-03h  8\n",
      "iter    objective    inf_pr   inf_du lg(mu)  ||d||  lg(rg) alpha_du alpha_pr  ls\n",
      " 410  0.0000000e+00 1.36e+00 3.40e+12  -1.0 3.79e+03    -  1.00e+00 2.92e-03h  8\n",
      " 411  0.0000000e+00 1.36e+00 3.40e+12  -1.0 3.78e+03    -  1.63e-01 2.99e-03h  8\n",
      " 412  0.0000000e+00 1.36e+00 3.41e+12  -1.0 3.77e+03    -  9.93e-01 3.06e-03h  8\n",
      " 413  0.0000000e+00 1.35e+00 3.41e+12  -1.0 3.76e+03    -  1.80e-01 3.13e-03h  8\n",
      " 414  0.0000000e+00 4.57e+01 2.42e+12  -1.0 3.75e+03    -  1.00e+00 4.10e-01w  1\n",
      " 415  0.0000000e+00 6.02e+01 7.34e+11  -1.0 2.28e+03    -  3.87e-01 6.21e-01w  1\n",
      " 416  0.0000000e+00 4.29e+01 9.66e+11  -1.0 8.81e+02    -  1.57e-01 3.23e-01w  1\n",
      " 417  0.0000000e+00 1.35e+00 3.42e+12  -1.0 5.97e+02    -  1.00e+00 3.20e-03h  7\n",
      " 418  0.0000000e+00 1.35e+00 3.42e+12  -1.0 3.74e+03    -  1.98e-01 3.27e-03h  8\n",
      " 419  0.0000000e+00 1.35e+00 3.42e+12  -1.0 3.72e+03    -  1.00e+00 3.34e-03h  8\n",
      "iter    objective    inf_pr   inf_du lg(mu)  ||d||  lg(rg) alpha_du alpha_pr  ls\n",
      " 420  0.0000000e+00 1.35e+00 3.43e+12  -1.0 3.71e+03    -  2.16e-01 3.41e-03h  8\n",
      " 421  0.0000000e+00 1.35e+00 3.43e+12  -1.0 3.70e+03    -  1.00e+00 3.48e-03h  8\n",
      " 422  0.0000000e+00 1.34e+00 3.44e+12  -1.0 3.69e+03    -  2.35e-01 3.55e-03h  8\n",
      " 423  0.0000000e+00 1.34e+00 3.45e+12  -1.0 3.68e+03    -  1.00e+00 3.62e-03h  8\n",
      " 424  0.0000000e+00 1.34e+00 3.45e+12  -1.0 3.67e+03    -  2.56e-01 3.68e-03h  8\n",
      " 425  0.0000000e+00 1.34e+00 3.46e+12  -1.0 3.65e+03    -  1.00e+00 3.75e-03h  8\n",
      " 426  0.0000000e+00 1.34e+00 3.46e+12  -1.0 3.64e+03    -  2.77e-01 3.82e-03h  8\n",
      " 427  0.0000000e+00 6.28e+01 2.02e+12  -1.0 3.63e+03    -  1.00e+00 4.97e-01w  1\n",
      " 428  0.0000000e+00 5.35e+01 1.09e+12  -1.0 1.89e+03    -  1.29e-01 5.83e-01w  1\n",
      " 429  0.0000000e+00 3.13e+01 9.59e+11  -1.0 7.97e+02    -  3.58e-01 4.88e-01w  1\n",
      "iter    objective    inf_pr   inf_du lg(mu)  ||d||  lg(rg) alpha_du alpha_pr  ls\n",
      " 430  0.0000000e+00 1.34e+00 3.47e+12  -1.0 4.08e+02    -  1.00e+00 3.89e-03h  7\n",
      " 431  0.0000000e+00 1.34e+00 3.47e+12  -1.0 3.61e+03    -  2.99e-01 3.95e-03h  8\n",
      " 432  0.0000000e+00 1.33e+00 3.48e+12  -1.0 3.60e+03    -  1.00e+00 4.02e-03h  8\n",
      " 433  0.0000000e+00 1.33e+00 3.49e+12  -1.0 3.59e+03    -  3.22e-01 4.08e-03h  8\n",
      " 434  0.0000000e+00 1.33e+00 3.49e+12  -1.0 3.57e+03    -  1.00e+00 4.15e-03h  8\n",
      " 435  0.0000000e+00 1.33e+00 3.50e+12  -1.0 3.56e+03    -  3.45e-01 4.21e-03h  8\n",
      " 436  0.0000000e+00 1.33e+00 3.51e+12  -1.0 3.55e+03    -  1.00e+00 4.28e-03h  8\n",
      " 437  0.0000000e+00 1.33e+00 3.52e+12  -1.0 3.53e+03    -  3.70e-01 4.34e-03h  8\n",
      " 438  0.0000000e+00 1.33e+00 3.52e+12  -1.0 3.52e+03    -  1.00e+00 4.40e-03h  8\n",
      " 439  0.0000000e+00 1.33e+00 3.53e+12  -1.0 3.50e+03    -  3.96e-01 4.47e-03h  8\n",
      "iter    objective    inf_pr   inf_du lg(mu)  ||d||  lg(rg) alpha_du alpha_pr  ls\n",
      " 440  0.0000000e+00 7.91e+01 1.63e+12  -1.0 3.49e+03    -  1.00e+00 5.80e-01w  1\n",
      " 441  0.0000000e+00 5.57e+01 1.28e+12  -1.0 1.53e+03    -  8.71e-02 4.21e-01w  1\n",
      " 442  0.0000000e+00 5.21e+01 3.61e+12  -1.0 8.89e+02    -  3.68e-01 6.62e-02w  1\n",
      " 443  0.0000000e+00 1.33e+00 3.54e+12  -1.0 8.30e+02    -  1.00e+00 4.53e-03h  7\n",
      " 444  0.0000000e+00 1.32e+00 3.55e+12  -1.0 3.47e+03    -  4.23e-01 4.59e-03h  8\n",
      " 445  0.0000000e+00 1.32e+00 3.55e+12  -1.0 3.46e+03    -  1.00e+00 4.65e-03h  8\n",
      " 446  0.0000000e+00 1.32e+00 3.56e+12  -1.0 3.44e+03    -  4.50e-01 4.72e-03h  8\n",
      " 447  0.0000000e+00 1.32e+00 3.57e+12  -1.0 3.43e+03    -  1.00e+00 4.78e-03h  8\n",
      " 448  0.0000000e+00 1.32e+00 3.58e+12  -1.0 3.41e+03    -  4.79e-01 4.80e-03h  8\n",
      " 449  0.0000000e+00 1.32e+00 3.59e+12  -1.0 3.40e+03    -  1.00e+00 4.81e-03h  8\n",
      "iter    objective    inf_pr   inf_du lg(mu)  ||d||  lg(rg) alpha_du alpha_pr  ls\n",
      " 450  0.0000000e+00 1.32e+00 3.60e+12  -1.0 3.38e+03    -  5.08e-01 4.82e-03h  8\n",
      " 451  0.0000000e+00 1.32e+00 3.61e+12  -1.0 3.37e+03    -  1.00e+00 4.83e-03h  8\n",
      " 452  0.0000000e+00 1.32e+00 3.62e+12  -1.0 3.35e+03    -  5.38e-01 4.84e-03h  8\n",
      " 453  0.0000000e+00 8.35e+01 1.45e+12  -1.0 3.33e+03    -  1.00e+00 6.21e-01w  1\n",
      " 454  0.0000000e+00 7.19e+01 1.67e+12  -1.0 1.32e+03    -  4.65e-01 1.51e-01w  1\n",
      " 455  0.0000000e+00 7.16e+01 3.43e+14  -1.0 1.12e+03    -  5.05e-01 3.28e-03w  1\n",
      " 456  0.0000000e+00 1.31e+00 3.63e+12  -1.0 1.12e+03    -  1.00e+00 4.85e-03h  7\n",
      " 457  0.0000000e+00 1.31e+00 3.64e+12  -1.0 3.32e+03    -  5.68e-01 4.86e-03h  8\n",
      " 458  0.0000000e+00 1.31e+00 3.65e+12  -1.0 3.30e+03    -  1.00e+00 4.87e-03h  8\n",
      " 459  0.0000000e+00 1.31e+00 3.66e+12  -1.0 3.29e+03    -  5.98e-01 4.88e-03h  8\n"
     ]
    },
    {
     "name": "stdout",
     "output_type": "stream",
     "text": [
      "iter    objective    inf_pr   inf_du lg(mu)  ||d||  lg(rg) alpha_du alpha_pr  ls\n",
      " 460  0.0000000e+00 1.31e+00 3.67e+12  -1.0 3.27e+03    -  1.00e+00 4.89e-03h  8\n",
      " 461  0.0000000e+00 1.31e+00 3.68e+12  -1.0 3.26e+03    -  6.29e-01 4.90e-03h  8\n",
      " 462  0.0000000e+00 1.31e+00 3.69e+12  -1.0 3.24e+03    -  1.00e+00 4.91e-03h  8\n",
      " 463  0.0000000e+00 1.30e+00 3.70e+12  -1.0 3.23e+03    -  6.60e-01 4.92e-03h  8\n",
      " 464  0.0000000e+00 1.30e+00 3.71e+12  -1.0 3.21e+03    -  1.00e+00 4.93e-03h  8\n",
      " 465  0.0000000e+00 1.30e+00 3.72e+12  -1.0 3.20e+03    -  6.92e-01 4.94e-03h  8\n",
      " 466  0.0000000e+00 7.97e+01 1.43e+12  -1.0 3.18e+03    -  1.00e+00 6.33e-01w  1\n",
      " 467  0.0000000e+00 6.67e+01 2.97e+12  -1.0 1.22e+03    -  8.75e-01 1.78e-01w  1\n",
      " 468  0.0000000e+00 6.64e+01 4.18e+14  -1.0 1.00e+03    -  6.61e-01 5.19e-03w  1\n",
      " 469  0.0000000e+00 1.30e+00 3.73e+12  -1.0 9.90e+02    -  1.00e+00 4.95e-03h  7\n",
      "iter    objective    inf_pr   inf_du lg(mu)  ||d||  lg(rg) alpha_du alpha_pr  ls\n",
      " 470  0.0000000e+00 1.31e+00 3.75e+12  -1.0 3.17e+03    -  7.24e-01 9.91e-03h  7\n",
      " 471  0.0000000e+00 1.31e+00 3.77e+12  -1.0 3.14e+03    -  1.00e+00 9.95e-03h  7\n",
      " 472  0.0000000e+00 1.32e+00 3.80e+12  -1.0 3.11e+03    -  7.85e-01 9.99e-03h  7\n",
      " 473  0.0000000e+00 1.32e+00 3.82e+12  -1.0 3.08e+03    -  1.00e+00 1.00e-02h  7\n",
      " 474  0.0000000e+00 1.33e+00 3.85e+12  -1.0 3.05e+03    -  8.52e-01 1.01e-02h  7\n",
      " 475  0.0000000e+00 1.34e+00 3.87e+12  -1.0 3.02e+03    -  1.00e+00 1.01e-02h  7\n",
      " 476  0.0000000e+00 1.34e+00 3.90e+12  -1.0 2.99e+03    -  9.20e-01 1.01e-02h  7\n",
      " 477  0.0000000e+00 1.35e+00 3.92e+12  -1.0 2.96e+03    -  1.00e+00 1.02e-02h  7\n",
      " 478  0.0000000e+00 1.35e+00 3.95e+12  -1.0 2.93e+03    -  9.91e-01 1.02e-02h  7\n",
      " 479  0.0000000e+00 7.27e+01 1.40e+12  -1.0 2.90e+03    -  1.00e+00 6.57e-01w  1\n",
      "iter    objective    inf_pr   inf_du lg(mu)  ||d||  lg(rg) alpha_du alpha_pr  ls\n",
      " 480  0.0000000e+00 5.53e+01 2.09e+12  -1.0 1.03e+03    -  1.00e+00 2.66e-01w  1\n",
      " 481  0.0000000e+00 1.90e+01 6.77e+13  -1.0 7.59e+02    -  3.35e-02 8.56e-01w  1\n",
      " 482  0.0000000e+00 1.35e+00 3.98e+12  -1.0 1.10e+02    -  1.00e+00 1.03e-02h  6\n",
      " 483  0.0000000e+00 1.36e+00 4.01e+12  -1.0 2.87e+03    -  1.00e+00 1.03e-02h  7\n",
      " 484  0.0000000e+00 1.36e+00 4.03e+12  -1.0 2.84e+03    -  1.00e+00 1.04e-02h  7\n",
      " 485  0.0000000e+00 1.36e+00 4.06e+12  -1.0 2.82e+03    -  1.00e+00 1.04e-02h  7\n",
      " 486  0.0000000e+00 1.37e+00 4.09e+12  -1.0 2.79e+03    -  1.00e+00 1.04e-02h  7\n",
      " 487  0.0000000e+00 1.37e+00 4.12e+12  -1.0 2.76e+03    -  1.00e+00 1.05e-02h  7\n",
      " 488  0.0000000e+00 1.37e+00 4.16e+12  -1.0 2.73e+03    -  1.00e+00 1.05e-02h  7\n",
      " 489  0.0000000e+00 1.37e+00 4.19e+12  -1.0 2.70e+03    -  1.00e+00 1.06e-02h  7\n",
      "iter    objective    inf_pr   inf_du lg(mu)  ||d||  lg(rg) alpha_du alpha_pr  ls\n",
      " 490  0.0000000e+00 1.38e+00 4.22e+12  -1.0 2.68e+03    -  1.00e+00 1.06e-02h  7\n",
      " 491  0.0000000e+00 1.38e+00 4.26e+12  -1.0 2.65e+03    -  1.00e+00 1.06e-02h  7\n",
      " 492  0.0000000e+00 6.54e+01 1.35e+12  -1.0 2.62e+03    -  1.00e+00 6.84e-01w  1\n",
      " 493  0.0000000e+00 3.77e+01 1.43e+12  -1.0 8.58e+02    -  1.00e+00 4.96e-01w  1\n",
      " 494  0.0000000e+00 7.02e+00 4.39e+14  -1.0 4.34e+02    -  4.78e-03 9.33e-01w  1\n",
      " 495  0.0000000e+00 3.25e-01 1.86e+13  -1.0 2.93e+01    -  6.28e-01 9.58e-01h  1\n",
      " 496  0.0000000e+00 2.53e-01 1.44e+13  -1.0 1.23e+00    -  9.73e-01 2.23e-01h  1\n",
      " 497  0.0000000e+00 2.52e-01 1.44e+13  -1.0 9.54e-01    -  9.51e-01 2.88e-03h  1\n",
      " 498  0.0000000e+00 2.52e-01 1.44e+13  -1.0 9.51e-01    -  3.48e-03 2.88e-05h  1\n",
      " 499  0.0000000e+00 2.52e-01 1.44e+13  -1.0 2.04e+00    -  4.06e-08 3.97e-06f  1\n",
      "iter    objective    inf_pr   inf_du lg(mu)  ||d||  lg(rg) alpha_du alpha_pr  ls\n",
      " 500  0.0000000e+00 1.89e-01 1.08e+13  -1.0 2.20e+00    -  3.89e-06 2.50e-01f  3\n",
      " 501  0.0000000e+00 1.88e-01 1.07e+13  -1.0 1.68e+00    -  3.67e-03 3.11e-03h  1\n",
      " 502  0.0000000e+00 1.67e-01 9.54e+12  -1.0 1.88e+00    -  3.30e-05 1.12e-01f  4\n",
      " 503  0.0000000e+00 1.63e-01 9.29e+12  -1.0 9.22e-01   6.0 9.79e-01 2.60e-02h  1\n",
      " 504  0.0000000e+00 1.62e-01 9.22e+12  -1.0 4.50e-01   6.4 9.84e-01 7.91e-03h  1\n",
      " 505  0.0000000e+00 1.52e-01 8.66e+12  -1.0 1.50e+00    -  1.67e-03 6.06e-02f  5\n",
      " 506  0.0000000e+00 1.51e-01 8.59e+12  -1.0 9.32e-01   5.9 9.97e-01 7.82e-03h  1\n",
      " 507  0.0000000e+00 1.46e-01 8.33e+12  -1.0 1.36e+00    -  2.49e-03 3.11e-02f  6\n",
      " 508  0.0000000e+00 1.46e-01 8.32e+12  -1.0 3.87e-01   6.4 1.00e+00 4.48e-04h  1\n",
      " 509  0.0000000e+00 1.02e-03 3.56e+11  -1.0 1.31e+00    -  5.61e-02 1.00e+00h  1\n",
      "iter    objective    inf_pr   inf_du lg(mu)  ||d||  lg(rg) alpha_du alpha_pr  ls\n",
      " 510  0.0000000e+00 7.64e-04 6.57e+10  -1.0 2.14e-02    -  6.29e-01 2.50e-01f  3\n",
      " 511  0.0000000e+00 6.29e-04 6.48e+10  -1.0 4.37e-02    -  8.58e-03 1.77e-01f  2\n",
      " 512  0.0000000e+00 3.47e-04 1.06e+11  -1.0 5.77e-03   5.9 9.76e-01 4.48e-01h  1\n",
      " 513  0.0000000e+00 1.28e-04 3.82e+10  -1.0 1.25e-02    -  2.85e-01 6.32e-01f  1\n",
      " 514  0.0000000e+00 7.20e-05 2.14e+10  -1.0 4.98e-03    -  3.75e-01 4.36e-01f  1\n",
      " 515  0.0000000e+00 6.32e-05 1.95e+10  -1.0 9.88e-03    -  8.25e-01 1.23e-01f  2\n",
      " 516  0.0000000e+00 5.07e-05 1.57e+10  -1.0 3.21e-03    -  2.58e-01 1.97e-01f  2\n",
      " 517  0.0000000e+00 2.72e-05 8.48e+09  -1.0 7.92e-04    -  1.00e+00 4.64e-01h  2\n",
      " 518  0.0000000e+00 1.35e-10 5.12e+04  -1.0 3.68e-04    -  1.00e+00 1.00e+00h  1\n",
      " 519  0.0000000e+00 1.34e-10 7.09e-02  -1.0 1.70e-05    -  1.00e+00 1.00e+00f  1\n",
      "iter    objective    inf_pr   inf_du lg(mu)  ||d||  lg(rg) alpha_du alpha_pr  ls\n",
      " 520  0.0000000e+00 4.09e-11 4.03e-05  -5.7 5.00e-10    -  1.00e+00 1.00e+00h  1\n",
      " 521  0.0000000e+00 4.08e-11 5.73e-08  -5.7 1.63e-06    -  1.00e+00 1.00e+00h  1\n",
      " 522  0.0000000e+00 6.14e-11 9.21e+01  -8.6 9.92e-11    -  1.00e+00 5.00e-01h  2\n",
      " 523  0.0000000e+00 4.09e-11 5.18e-08  -8.6 6.94e-08    -  1.00e+00 1.00e+00h  1\n",
      " 524  0.0000000e+00 4.03e-11 5.10e-08  -8.6 1.39e-10    -  1.00e+00 1.56e-02h  7\n",
      " 525  0.0000000e+00 1.35e-10 5.45e-11  -8.6 1.25e-10    -  1.00e+00 1.00e+00H  1\n",
      "\n",
      "Number of Iterations....: 525\n",
      "\n",
      "                                   (scaled)                 (unscaled)\n",
      "Objective...............:   0.0000000000000000e+00    0.0000000000000000e+00\n",
      "Dual infeasibility......:   5.4515665270725004e-11    5.4515665270725004e-11\n",
      "Constraint violation....:   1.3452535830085766e-10    1.3452535830085766e-10\n",
      "Complementarity.........:   2.5059035596800643e-09    2.5059035596800643e-09\n",
      "Overall NLP error.......:   2.5059035596800643e-09    2.5059035596800643e-09\n",
      "\n",
      "\n",
      "Number of objective function evaluations             = 3839\n",
      "Number of objective gradient evaluations             = 502\n",
      "Number of equality constraint evaluations            = 3839\n",
      "Number of inequality constraint evaluations          = 3839\n",
      "Number of equality constraint Jacobian evaluations   = 536\n",
      "Number of inequality constraint Jacobian evaluations = 536\n",
      "Number of Lagrangian Hessian evaluations             = 525\n",
      "Total CPU secs in IPOPT (w/o function evaluations)   =     26.276\n",
      "Total CPU secs in NLP function evaluations           =      2.479\n",
      "\n",
      "EXIT: Optimal Solution Found.\n"
     ]
    }
   ],
   "source": [
    "opt = pe.SolverFactory('ipopt')\n",
    "\n",
    "opt.options['print_user_options'] = 'yes'\n",
    "opt.options['linear_solver'] = 'ma86'\n",
    "\n",
    "opt.options['linear_system_scaling '] = 'mc19'\n",
    "opt.options['linear_scaling_on_demand '] = 'no'\n",
    "# opt.options['recalc_y'] = 'yes'\n",
    "# opt.options['bound_relax_factor'] = 0\n",
    "# opt.options['halt_on_ampl_error'] = 'yes'\n",
    "\n",
    "opt.options['max_iter'] = 7000\n",
    "results = opt.solve(model,tee=True)\n",
    "update_dual(pe,model)"
   ]
  },
  {
   "cell_type": "code",
   "execution_count": 20,
   "metadata": {
    "scrolled": true,
    "slideshow": {
     "slide_type": "skip"
    }
   },
   "outputs": [
    {
     "data": {
      "text/plain": [
       "0"
      ]
     },
     "execution_count": 20,
     "metadata": {},
     "output_type": "execute_result"
    }
   ],
   "source": [
    "model.Q_main.value"
   ]
  },
  {
   "cell_type": "code",
   "execution_count": 21,
   "metadata": {
    "slideshow": {
     "slide_type": "skip"
    }
   },
   "outputs": [
    {
     "data": {
      "text/plain": [
       "473.15"
      ]
     },
     "execution_count": 21,
     "metadata": {},
     "output_type": "execute_result"
    }
   ],
   "source": [
    "model.T.value"
   ]
  },
  {
   "cell_type": "code",
   "execution_count": 24,
   "metadata": {},
   "outputs": [],
   "source": [
    "# model.solutions.store_to(results)\n",
    "# with open('../saved_solutions/reboiler_MPCC_P_pf_200C.pickle','wb') as f:\n",
    "#     pickle.dump(results,f)"
   ]
  },
  {
   "cell_type": "code",
   "execution_count": 23,
   "metadata": {
    "scrolled": false,
    "slideshow": {
     "slide_type": "slide"
    }
   },
   "outputs": [
    {
     "name": "stdout",
     "output_type": "stream",
     "text": [
      "Component\t\tLiquid: 1.0000\t\t\tVapor: 0.0000\t\t\tlog K\n",
      "------------------------------------------------------------------------------------------------------------\n",
      "H2         \t\t 0.8837%\t\t\t25.2934%\t\t\t1.4567\n",
      "CO         \t\t 1.3401%\t\t\t28.6944%\t\t\t1.3307\n",
      "CO2        \t\t 3.7245%\t\t\t31.8624%\t\t\t0.9322\n",
      "H2O        \t\t 3.6023%\t\t\t12.4034%\t\t\t0.5370\n",
      "C2H4       \t\t 0.0174%\t\t\t 0.1174%\t\t\t0.8302\n",
      "C3H6       \t\t 0.0444%\t\t\t 0.1351%\t\t\t0.4829\n",
      "C4H8       \t\t 0.0456%\t\t\t 0.1204%\t\t\t0.4221\n",
      "C5H10      \t\t 0.0722%\t\t\t 0.0931%\t\t\t0.1104\n",
      "C6H12      \t\t 0.1262%\t\t\t 0.0865%\t\t\t-0.1641\n",
      "C7H14      \t\t 0.2078%\t\t\t 0.0799%\t\t\t-0.4151\n",
      "C8H16      \t\t 0.3264%\t\t\t 0.0731%\t\t\t-0.6499\n",
      "C9H18      \t\t 0.4920%\t\t\t 0.0659%\t\t\t-0.8729\n",
      "C10H20     \t\t 0.7120%\t\t\t 0.0583%\t\t\t-1.0869\n",
      "C11H22     \t\t 0.6286%\t\t\t 0.0320%\t\t\t-1.2938\n",
      "C12H24     \t\t 0.8302%\t\t\t 0.0265%\t\t\t-1.4952\n",
      "C13H26     \t\t 1.0411%\t\t\t 0.0212%\t\t\t-1.6918\n",
      "C14H28     \t\t 1.2375%\t\t\t 0.0161%\t\t\t-1.8847\n",
      "C15H30     \t\t 1.3970%\t\t\t 0.0118%\t\t\t-2.0743\n",
      "C16H32     \t\t 1.5062%\t\t\t 0.0083%\t\t\t-2.2611\n",
      "C17H34     \t\t 1.5634%\t\t\t 0.0056%\t\t\t-2.4456\n",
      "C18H36     \t\t 1.5753%\t\t\t 0.0037%\t\t\t-2.6280\n",
      "C19H38     \t\t 1.5530%\t\t\t 0.0024%\t\t\t-2.8086\n",
      "C20H40     \t\t 1.5073%\t\t\t 0.0016%\t\t\t-2.9876\n",
      "C1H4       \t\t 0.0164%\t\t\t 0.1925%\t\t\t1.0694\n",
      "C2H6       \t\t 0.0107%\t\t\t 0.0631%\t\t\t0.7702\n",
      "C3H8       \t\t 0.0114%\t\t\t 0.0338%\t\t\t0.4726\n",
      "C4H10      \t\t 0.0162%\t\t\t 0.0380%\t\t\t0.3694\n",
      "C5H12      \t\t 0.0471%\t\t\t 0.0547%\t\t\t0.0647\n",
      "C6H14      \t\t 0.0815%\t\t\t 0.0508%\t\t\t-0.2056\n",
      "C7H16      \t\t 0.1332%\t\t\t 0.0468%\t\t\t-0.4538\n",
      "C8H18      \t\t 0.2078%\t\t\t 0.0428%\t\t\t-0.6866\n",
      "C9H20      \t\t 0.3113%\t\t\t 0.0385%\t\t\t-0.9080\n",
      "C10H22     \t\t 0.4475%\t\t\t 0.0339%\t\t\t-1.1208\n",
      "C11H24     \t\t 0.9951%\t\t\t 0.0469%\t\t\t-1.3269\n",
      "C12H26     \t\t 1.3036%\t\t\t 0.0387%\t\t\t-1.5274\n",
      "C13H28     \t\t 1.6207%\t\t\t 0.0306%\t\t\t-1.7235\n",
      "C14H30     \t\t 1.9099%\t\t\t 0.0232%\t\t\t-1.9158\n",
      "C15H32     \t\t 2.1391%\t\t\t 0.0168%\t\t\t-2.1049\n",
      "C16H34     \t\t 2.2908%\t\t\t 0.0117%\t\t\t-2.2914\n",
      "C17H36     \t\t 2.3649%\t\t\t 0.0079%\t\t\t-2.4755\n",
      "C18H38     \t\t 2.3734%\t\t\t 0.0052%\t\t\t-2.6576\n",
      "C19H40     \t\t 2.3329%\t\t\t 0.0034%\t\t\t-2.8380\n",
      "C20H42     \t\t 2.2595%\t\t\t 0.0022%\t\t\t-3.0168\n",
      "C21H44     \t\t 3.6174%\t\t\t 0.0023%\t\t\t-3.1942\n",
      "C22H46     \t\t 3.4437%\t\t\t 0.0015%\t\t\t-3.3703\n",
      "C23H48     \t\t 3.2630%\t\t\t 0.0009%\t\t\t-3.5454\n",
      "C24H50     \t\t 3.0819%\t\t\t 0.0006%\t\t\t-3.7195\n",
      "C25H52     \t\t 2.9046%\t\t\t 0.0004%\t\t\t-3.8926\n",
      "C26H54     \t\t 2.7336%\t\t\t 0.0002%\t\t\t-4.0650\n",
      "C27H56     \t\t 2.5703%\t\t\t 0.0001%\t\t\t-4.2366\n",
      "C28H58     \t\t 2.4152%\t\t\t 0.0001%\t\t\t-4.4075\n",
      "C29H60     \t\t 2.2684%\t\t\t 0.0001%\t\t\t-4.5779\n",
      "C30H62     \t\t 2.1300%\t\t\t 0.0000%\t\t\t-4.7476\n",
      "C31H64     \t\t 1.9996%\t\t\t 0.0000%\t\t\t-4.9168\n",
      "C32H66     \t\t 1.8769%\t\t\t 0.0000%\t\t\t-5.0856\n",
      "C33H68     \t\t 1.7616%\t\t\t 0.0000%\t\t\t-5.2538\n",
      "C34H70     \t\t 1.6533%\t\t\t 0.0000%\t\t\t-5.4217\n",
      "C35H72     \t\t 1.5516%\t\t\t 0.0000%\t\t\t-5.5892\n",
      "C36H74     \t\t 1.4562%\t\t\t 0.0000%\t\t\t-5.7563\n",
      "C37H76     \t\t 1.3665%\t\t\t 0.0000%\t\t\t-5.9232\n",
      "C38H78     \t\t 1.2824%\t\t\t 0.0000%\t\t\t-6.0896\n",
      "C39H80     \t\t 1.2034%\t\t\t 0.0000%\t\t\t-6.2558\n",
      "C40H82     \t\t 1.1293%\t\t\t 0.0000%\t\t\t-6.4218\n",
      "C41H84     \t\t 1.0598%\t\t\t 0.0000%\t\t\t-6.5875\n",
      "C42H86     \t\t 0.9945%\t\t\t 0.0000%\t\t\t-6.7529\n",
      "C43H88     \t\t 0.9332%\t\t\t 0.0000%\t\t\t-6.9181\n",
      "C44H90     \t\t 0.8758%\t\t\t 0.0000%\t\t\t-7.0831\n",
      "C45H92     \t\t 0.8218%\t\t\t 0.0000%\t\t\t-7.2479\n",
      "C46H94     \t\t 0.7712%\t\t\t 0.0000%\t\t\t-7.4125\n",
      "C47H96     \t\t 0.7237%\t\t\t 0.0000%\t\t\t-7.5769\n",
      "C48H98     \t\t 0.6791%\t\t\t 0.0000%\t\t\t-7.7412\n",
      "C49H100    \t\t 0.6373%\t\t\t 0.0000%\t\t\t-7.9053\n",
      "C50H102    \t\t 0.5980%\t\t\t 0.0000%\t\t\t-8.0693\n",
      "C51H104    \t\t 0.5612%\t\t\t 0.0000%\t\t\t-8.2331\n",
      "C52H106    \t\t 0.5266%\t\t\t 0.0000%\t\t\t-8.3968\n",
      "C53H108    \t\t 0.4942%\t\t\t 0.0000%\t\t\t-8.5603\n",
      "C54H110    \t\t 0.4638%\t\t\t 0.0000%\t\t\t-8.7238\n",
      "C55H112    \t\t 0.4352%\t\t\t 0.0000%\t\t\t-8.8871\n",
      "C56H114    \t\t 0.4084%\t\t\t 0.0000%\t\t\t-9.0503\n"
     ]
    }
   ],
   "source": [
    "print('Component\\t\\tLiquid: {:.4f}\\t\\t\\tVapor: {:.4f}\\t\\t\\tlog K'.format(model.L['out'].value,model.V['out'].value))\n",
    "print('-'*108)\n",
    "for i in model.x:\n",
    "    print('{:10s}'.format(i),'\\t\\t{:8.4%}\\t\\t\\t{:8.4%}\\t\\t\\t{:.4f}'.format(model.x[i].value,model.y[i].value,np.log10(model.y[i].value/model.x[i].value)))"
   ]
  },
  {
   "cell_type": "markdown",
   "metadata": {
    "slideshow": {
     "slide_type": "slide"
    }
   },
   "source": [
    "# Iterative Solve for Data Analysis"
   ]
  },
  {
   "cell_type": "code",
   "execution_count": null,
   "metadata": {},
   "outputs": [],
   "source": [
    "update_dual(pe,model)"
   ]
  },
  {
   "cell_type": "code",
   "execution_count": null,
   "metadata": {},
   "outputs": [],
   "source": [
    "opt.options['warm_start_init_point'] = 'yes'\n",
    "opt.options['warm_start_bound_push'] = 1e-20\n",
    "opt.options['warm_start_mult_bound_push'] = 1e-20\n",
    "opt.options['mu_init'] = 1e-6"
   ]
  },
  {
   "cell_type": "code",
   "execution_count": null,
   "metadata": {
    "scrolled": false,
    "slideshow": {
     "slide_type": "fragment"
    }
   },
   "outputs": [],
   "source": [
    "rf_data = {}\n",
    "rf_data['T'] = []; rf_data['Q'] = []; rf_data['V'] = []; rf_data['L'] = []; \n",
    "rf_data['y_CO'] = []; rf_data['y_H2'] = []; rf_data['y_CO2'] = []; rf_data['y_H2O'] = [];\n",
    "rf_data['f_V_CO'] = []; rf_data['f_V_H2'] = [];\n",
    "    \n",
    "Trange = np.arange(350+273.15,199+273.15,-5)\n",
    "\n",
    "for Tub in Trange:\n",
    "    model.T.setub(Tub)\n",
    "    results = opt.solve(model,tee=False)\n",
    "    update_dual(pe,model)\n",
    "    # print('-'*72)\n",
    "    print('Solved, Solution T = {:.2f} K\\t|\\tV = {:.5f}\\t|\\tL = {:.5f}\\t|'.format(model.T.value,model.V['out'].value,model.L['out'].value))\n",
    "    # print('-'*72)\n",
    "    rf_data['T'].append(model.T.value)\n",
    "    rf_data['Q'].append(model.Q_main.value)\n",
    "    rf_data['V'].append(model.V['out'].value)\n",
    "    rf_data['L'].append(model.L['out'].value)    \n",
    "    \n",
    "    \n",
    "    rf_data['y_H2O'].append(model.y['H2O'].value)\n",
    "    rf_data['y_CO'].append(model.y['CO'].value)\n",
    "    rf_data['y_H2'].append(model.y['H2'].value)\n",
    "    rf_data['y_CO2'].append(model.y['CO2'].value)\n",
    "    \n",
    "    rf_data['f_V_CO'].append(model.f_V['CO'].value)\n",
    "    rf_data['f_V_H2'].append(model.f_V['H2'].value)"
   ]
  },
  {
   "cell_type": "markdown",
   "metadata": {},
   "source": [
    "# VLE Validation using AspenPlus"
   ]
  },
  {
   "cell_type": "markdown",
   "metadata": {},
   "source": [
    "### Feed (Reactor Effluent)"
   ]
  },
  {
   "cell_type": "code",
   "execution_count": null,
   "metadata": {},
   "outputs": [],
   "source": [
    "print('Temperature (C): \\t{:.2f}\\t\\t'.format(model.T.value-273.15))\n",
    "print('Total FLow (kmol/s): \\t{:.2f}\\t\\t'.format(model.L['out'].value+model.V['out'].value))\n",
    "print('-'*72)\n",
    "for i in model.x:\n",
    "    print('{:10s}'.format(i),'\\t\\t{:.4%}'.format((model.x[i].value*model.L['out'].value\\\n",
    "        +model.y[i].value*model.V['out'].value)/(model.L['out'].value+model.V['out'].value)))"
   ]
  },
  {
   "cell_type": "markdown",
   "metadata": {},
   "source": [
    "### Phase Separation"
   ]
  },
  {
   "cell_type": "code",
   "execution_count": null,
   "metadata": {
    "scrolled": false
   },
   "outputs": [],
   "source": [
    "print('Component\\t\\tLiquid: {:.4f}\\t\\t\\tVapor: {:.4f}\\t\\t\\tlog K'.format(model.L['out'].value,model.V['out'].value))\n",
    "print('-'*108)\n",
    "for i in model.x:\n",
    "    print('{:10s}'.format(i),'\\t\\t{:8.4%}\\t\\t\\t{:8.4%}\\t\\t\\t{:.4f}'.format(model.x[i].value,model.y[i].value,np.log10(model.y[i].value/model.x[i].value)))"
   ]
  },
  {
   "cell_type": "code",
   "execution_count": null,
   "metadata": {},
   "outputs": [],
   "source": [
    "list(zip(rf_data['T'],rf_data['Q']))"
   ]
  },
  {
   "cell_type": "code",
   "execution_count": null,
   "metadata": {},
   "outputs": [],
   "source": []
  }
 ],
 "metadata": {
  "kernelspec": {
   "display_name": "Python 3",
   "language": "python",
   "name": "python3"
  },
  "language_info": {
   "codemirror_mode": {
    "name": "ipython",
    "version": 3
   },
   "file_extension": ".py",
   "mimetype": "text/x-python",
   "name": "python",
   "nbconvert_exporter": "python",
   "pygments_lexer": "ipython3",
   "version": "3.6.3"
  }
 },
 "nbformat": 4,
 "nbformat_minor": 2
}
