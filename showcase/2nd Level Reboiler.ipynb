{
 "cells": [
  {
   "cell_type": "markdown",
   "metadata": {
    "slideshow": {
     "slide_type": "slide"
    }
   },
   "source": [
    "# 2nd Level Model Structure: Reboiler"
   ]
  },
  {
   "cell_type": "code",
   "execution_count": 1,
   "metadata": {},
   "outputs": [],
   "source": [
    "import sys\n",
    "import os\n",
    "import pickle\n",
    "sys.path.append(os.path.abspath('..'))\n",
    "import numpy as np\n",
    "from matplotlib import pyplot as plt"
   ]
  },
  {
   "cell_type": "code",
   "execution_count": 2,
   "metadata": {
    "slideshow": {
     "slide_type": "fragment"
    }
   },
   "outputs": [],
   "source": [
    "from pyomo import environ as pe\n",
    "from global_sets.component import m\n",
    "from utility.display_utility import trans_product_mole, trans_product_mass\n",
    "from utility.model_utility import add_dual, update_dual, check_DOF\n",
    "\n",
    "# stage construction rules\n",
    "from physics.energy.energy_reboiler import energy_block_rule\n",
    "from physics.VLE.VLE_reboiler_MPCC_P import VLE_block_rule\n",
    "from physics.MPCC.MPCC_P import P_NCP_block_rule, P_Reg_block_rule, P_pf_block_rule\n",
    "\n",
    "model = pe.ConcreteModel()"
   ]
  },
  {
   "cell_type": "markdown",
   "metadata": {
    "slideshow": {
     "slide_type": "subslide"
    }
   },
   "source": [
    "# Global Sets (Inlet / Outlet)"
   ]
  },
  {
   "cell_type": "code",
   "execution_count": 3,
   "metadata": {
    "slideshow": {
     "slide_type": "fragment"
    }
   },
   "outputs": [],
   "source": [
    "model.inlet = pe.Set(initialize=['in'])\n",
    "model.outlet = pe.Set(initialize=['out','P'])\n",
    "model.stream = model.inlet | model.outlet"
   ]
  },
  {
   "cell_type": "markdown",
   "metadata": {
    "slideshow": {
     "slide_type": "subslide"
    }
   },
   "source": [
    "# Global Variables"
   ]
  },
  {
   "cell_type": "code",
   "execution_count": 4,
   "metadata": {
    "slideshow": {
     "slide_type": "fragment"
    }
   },
   "outputs": [],
   "source": [
    "# Tray Inlet/Outlet Variable\n",
    "model.x_ = pe.Var(model.inlet,m.COMP_TOTAL,within=pe.NonNegativeReals)\n",
    "model.y_ = pe.Var(model.inlet,m.COMP_TOTAL,within=pe.NonNegativeReals)\n",
    "model.x = pe.Var(m.COMP_TOTAL,within=pe.NonNegativeReals)\n",
    "model.y = pe.Var(m.COMP_TOTAL,within=pe.NonNegativeReals)\n",
    "model.z = pe.Var(m.COMP_FEED,within=pe.NonNegativeReals)\n",
    "\n",
    "model.L = pe.Var(model.stream,within=pe.NonNegativeReals)\n",
    "model.V = pe.Var(model.stream,within=pe.NonNegativeReals)\n",
    "model.F = pe.Var(within=pe.NonNegativeReals)\n",
    "\n",
    "model.H_L_ = pe.Var(model.inlet,within=pe.Reals)\n",
    "model.H_V_ = pe.Var(model.inlet,within=pe.Reals)\n",
    "model.H_L = pe.Var(within=pe.Reals)\n",
    "model.H_V = pe.Var(within=pe.Reals)\n",
    "model.H_F = pe.Var(within=pe.Reals)\n",
    "\n",
    "# State Variable\n",
    "model.T = pe.Var(within=pe.NonNegativeReals,bounds=(200+273.15,350+273.15)) # K\n",
    "model.T_F = pe.Var(within=pe.NonNegativeReals) # K\n",
    "model.P = pe.Var(within=pe.NonNegativeReals,bounds=(10,30)) # Bar\n",
    "\n",
    "model.f_V = pe.Var(m.COMP_TOTAL,within=pe.NonNegativeReals,initialize=1e-20)\n",
    "model.f_L = pe.Var(m.COMP_TOTAL,within=pe.NonNegativeReals,initialize=1e-20)\n",
    "\n",
    "model.Q_main = pe.Var(within=pe.Reals) # MW"
   ]
  },
  {
   "cell_type": "markdown",
   "metadata": {
    "slideshow": {
     "slide_type": "slide"
    }
   },
   "source": [
    "# Construct Individual Blocks"
   ]
  },
  {
   "cell_type": "code",
   "execution_count": 5,
   "metadata": {
    "slideshow": {
     "slide_type": "subslide"
    }
   },
   "outputs": [
    {
     "name": "stdout",
     "output_type": "stream",
     "text": [
      "> Importing Energy Blocks......\n",
      "> Adding the following local variable:\n",
      "--------------------------------------------------\n",
      "| energy_block.dH_F\n",
      "| energy_block.dH_V\n",
      "| energy_block.dH_L\n",
      "| energy_block.dH_vap\n",
      "--------------------------------------------------\n",
      "\n"
     ]
    }
   ],
   "source": [
    "model.energy_block = pe.Block(rule=energy_block_rule)"
   ]
  },
  {
   "cell_type": "code",
   "execution_count": 6,
   "metadata": {
    "scrolled": false,
    "slideshow": {
     "slide_type": "subslide"
    }
   },
   "outputs": [
    {
     "name": "stdout",
     "output_type": "stream",
     "text": [
      "> Importing VLE Blocks......\n",
      "> Adding the following local variable:\n",
      "--------------------------------------------------\n",
      "| VLE_block.P_VLE\n",
      "| VLE_block.n_ave\n",
      "| VLE_block.n_ave_cal\n",
      "| VLE_block.Hen\n",
      "| VLE_block.Hen0\n",
      "| VLE_block.gamma\n",
      "| VLE_block.P_sat\n",
      "| VLE_block.P_sat_Y\n",
      "| VLE_block.P_sat_dY_inf\n",
      "| VLE_block.P_sat_dY0\n",
      "| VLE_block.Hen_ref\n",
      "| VLE_block.Hen0_ref\n",
      "| VLE_block.gamma_ref\n",
      "| VLE_block.V_L\n",
      "| VLE_block.V_L_dY_inf\n",
      "| VLE_block.V_L_dY0\n",
      "| VLE_block.poynting\n",
      "--------------------------------------------------\n",
      "\n"
     ]
    }
   ],
   "source": [
    "model.VLE_block = pe.Block(rule=VLE_block_rule)"
   ]
  },
  {
   "cell_type": "markdown",
   "metadata": {
    "slideshow": {
     "slide_type": "slide"
    }
   },
   "source": [
    "# Standard MESH Equations"
   ]
  },
  {
   "cell_type": "markdown",
   "metadata": {
    "slideshow": {
     "slide_type": "subslide"
    }
   },
   "source": [
    "## Mass Balance"
   ]
  },
  {
   "cell_type": "markdown",
   "metadata": {
    "slideshow": {
     "slide_type": "fragment"
    }
   },
   "source": [
    "\\begin{equation}\n",
    "Fz_{i}+\\sum_{s\\in{inlet}}L_{s}x'_{i,s}+\\sum_{s\\in{inlet}}V_{s}y'_{i,s}-\\sum_{s\\in{outlet}}L_{s}x_{i,s}+\\sum_{s\\in{ouelet}}V_{s}y_{i,s}+R_{i} = 0 \\\\\n",
    "i = 1,...NC\n",
    "\\end{equation}"
   ]
  },
  {
   "cell_type": "code",
   "execution_count": 7,
   "metadata": {
    "slideshow": {
     "slide_type": "fragment"
    }
   },
   "outputs": [],
   "source": [
    "def mass_balance_main_rule(model,i):\n",
    "    if i in m.COMP_FEED:\n",
    "        return model.F*model.z[i] + sum(model.L[s]*model.x_[s,i] + model.V[s]*model.y_[s,i] for s in model.inlet)\\\n",
    "        - sum(model.L[s]*model.x[i] + model.V[s]*model.y[i] for s in model.outlet) == 0\n",
    "    else:\n",
    "        return sum(model.L[s]*model.x_[s,i] + model.V[s]*model.y_[s,i] for s in model.inlet)\\\n",
    "        - sum(model.L[s]*model.x[i] + model.V[s]*model.y[i] for s in model.outlet) == 0\n",
    "model.mass_balance_main_con = pe.Constraint(m.COMP_TOTAL,rule=mass_balance_main_rule)"
   ]
  },
  {
   "cell_type": "markdown",
   "metadata": {
    "slideshow": {
     "slide_type": "subslide"
    }
   },
   "source": [
    "## Equilibrium"
   ]
  },
  {
   "cell_type": "markdown",
   "metadata": {
    "slideshow": {
     "slide_type": "fragment"
    }
   },
   "source": [
    "\\begin{align}\n",
    "&f_{i,V} = f_{i,L} \\\\\n",
    "&i = 1,...NC\n",
    "\\end{align}"
   ]
  },
  {
   "cell_type": "code",
   "execution_count": 8,
   "metadata": {
    "slideshow": {
     "slide_type": "fragment"
    }
   },
   "outputs": [],
   "source": [
    "def VL_equil_rule(model,i):\n",
    "    return model.f_V[i] == model.f_L[i]\n",
    "model.VL_equil_con = pe.Constraint(m.COMP_TOTAL,rule=VL_equil_rule)"
   ]
  },
  {
   "cell_type": "markdown",
   "metadata": {},
   "source": [
    "# MPCC - P-Pspec"
   ]
  },
  {
   "cell_type": "code",
   "execution_count": 9,
   "metadata": {},
   "outputs": [
    {
     "name": "stdout",
     "output_type": "stream",
     "text": [
      "> Importing MPCC_P_Reg Blocks......\n",
      "> Adding the following local variable:\n",
      "--------------------------------------------------\n",
      "| MPCC.s_L\n",
      "| MPCC.s_V\n",
      "| MPCC.pf\n",
      "| MPCC.rho\n",
      "--------------------------------------------------\n",
      "> Spliting pressure used in VLE\n",
      "\n"
     ]
    }
   ],
   "source": [
    "model.MPCC = pe.Block(rule = P_pf_block_rule)"
   ]
  },
  {
   "cell_type": "markdown",
   "metadata": {
    "slideshow": {
     "slide_type": "subslide"
    }
   },
   "source": [
    "## Summation"
   ]
  },
  {
   "cell_type": "markdown",
   "metadata": {
    "slideshow": {
     "slide_type": "fragment"
    }
   },
   "source": [
    "\\begin{equation}\n",
    "\\sum_ix_{i} = \\sum_iy_{i} \\\\\n",
    "F + L_{in} + V_{in} + R = L_{out} + V_{out}\n",
    "\\end{equation}"
   ]
  },
  {
   "cell_type": "code",
   "execution_count": 10,
   "metadata": {
    "slideshow": {
     "slide_type": "fragment"
    }
   },
   "outputs": [],
   "source": [
    "def summation_x_y_rule(model):\n",
    "    return sum(model.x[i] for i in m.COMP_TOTAL) == sum(model.y[i] for i in m.COMP_TOTAL)\n",
    "model.summation_x_y_con = pe.Constraint(rule=summation_x_y_rule)\n",
    "\n",
    "def summation_total_mass_rule(model):\n",
    "    return model.F + sum(model.L[s] + model.V[s] for s in model.inlet)\\\n",
    "            - sum(model.L[s] + model.V[s] for s in model.outlet) == 0\n",
    "model.summation_total_mass_con = pe.Constraint(rule=summation_total_mass_rule)"
   ]
  },
  {
   "cell_type": "markdown",
   "metadata": {
    "slideshow": {
     "slide_type": "subslide"
    }
   },
   "source": [
    "## Energy Balance"
   ]
  },
  {
   "cell_type": "markdown",
   "metadata": {
    "slideshow": {
     "slide_type": "fragment"
    }
   },
   "source": [
    "\\begin{equation}\n",
    "F H_f+\\sum_{s\\in{inlet}}L_{s}H_{l,s}+\\sum_{s\\in{inlet}}V_{s}H_{v,s}-\\sum_{s\\in{outlet}}L_{s}H_{l,s}-\\sum_{s\\in{outlet}}V_{s}H_{v,s}+Q = 0\n",
    "\\end{equation}"
   ]
  },
  {
   "cell_type": "code",
   "execution_count": 11,
   "metadata": {
    "slideshow": {
     "slide_type": "fragment"
    }
   },
   "outputs": [],
   "source": [
    "def heat_balance_main_rule(model):\n",
    "    return model.F*model.H_F + sum(model.L[s]*model.H_L_[s] + model.V[s]*model.H_V_[s] for s in model.inlet) \\\n",
    "            + model.Q_main - sum(model.L[s]*model.H_L + model.V[s]*model.H_V for s in model.outlet) == 0\n",
    "model.heat_balance_main_con = pe.Constraint(rule=heat_balance_main_rule)"
   ]
  },
  {
   "cell_type": "markdown",
   "metadata": {
    "slideshow": {
     "slide_type": "slide"
    }
   },
   "source": [
    "# Testing"
   ]
  },
  {
   "cell_type": "code",
   "execution_count": 12,
   "metadata": {
    "slideshow": {
     "slide_type": "fragment"
    }
   },
   "outputs": [
    {
     "name": "stdout",
     "output_type": "stream",
     "text": [
      "Created the follow pyomo suffixes:\n",
      "ipopt_zL_out, ipopt_zU_out, ipopt_zL_in, ipopt_zU_in, dual\n"
     ]
    }
   ],
   "source": [
    "add_dual(pe,model)"
   ]
  },
  {
   "cell_type": "markdown",
   "metadata": {},
   "source": [
    "# Load a flash liquid composition as feed"
   ]
  },
  {
   "cell_type": "code",
   "execution_count": 13,
   "metadata": {},
   "outputs": [],
   "source": [
    "with open('../saved_solutions/reactive_flash_MPCC_P_pf_200C.pickle', 'rb') as f:\n",
    "    C200 = pickle.load(f)"
   ]
  },
  {
   "cell_type": "markdown",
   "metadata": {
    "slideshow": {
     "slide_type": "fragment"
    }
   },
   "source": [
    "## Fixing In/Product Redundent Flow"
   ]
  },
  {
   "cell_type": "code",
   "execution_count": 14,
   "metadata": {
    "slideshow": {
     "slide_type": "fragment"
    }
   },
   "outputs": [],
   "source": [
    "model.y_.fix(0)\n",
    "for i in m.COMP_TOTAL:\n",
    "    model.x_['in',i].fix(C200.Solution.Variable['x[{}]'.format(i)]['Value'])\n",
    "\n",
    "model.L['in'].fix(1)\n",
    "# model.L['in'].setlb(1)\n",
    "# model.L['in'].setub(1e-8)\n",
    "\n",
    "model.L['P'].fix(0)\n",
    "model.V['in'].fix(0)\n",
    "model.V['P'].fix(0)\n",
    "model.H_V_.fix(0)\n",
    "model.H_L_.fix(C200.Solution.Variable['H_L']['Value'])"
   ]
  },
  {
   "cell_type": "markdown",
   "metadata": {
    "slideshow": {
     "slide_type": "subslide"
    }
   },
   "source": [
    "## Fixing Model Parameters"
   ]
  },
  {
   "cell_type": "code",
   "execution_count": 15,
   "metadata": {
    "slideshow": {
     "slide_type": "fragment"
    }
   },
   "outputs": [],
   "source": [
    "model.P.fix(20)\n",
    "model.T_F.fix(200+273.15)\n",
    "model.F.fix(0)\n",
    "model.z.fix(0)\n",
    "model.VLE_block.n_ave.fix(20)\n",
    "# model.Q_main.fix(0)"
   ]
  },
  {
   "cell_type": "markdown",
   "metadata": {},
   "source": [
    "# kappa"
   ]
  },
  {
   "cell_type": "code",
   "execution_count": 16,
   "metadata": {
    "scrolled": false
   },
   "outputs": [
    {
     "name": "stdout",
     "output_type": "stream",
     "text": [
      "mass_balance_main_con\n",
      "VL_equil_con\n",
      "summation_x_y_con\n",
      "summation_total_mass_con\n",
      "heat_balance_main_con\n",
      "energy_block.dH_V_con\n",
      "energy_block.H_V_con\n",
      "energy_block.dH_vap_con\n",
      "energy_block.dH_L_con\n",
      "energy_block.H_L_con\n",
      "energy_block.dH_F_con\n",
      "energy_block.H_F_con\n",
      "VLE_block.f_L_HENRY_con\n",
      "VLE_block.Hen_con\n",
      "VLE_block.Hen0_con\n",
      "VLE_block.Hen_ref_con\n",
      "VLE_block.Hen0_ref_con\n",
      "VLE_block.f_L_NONHENRY_con\n",
      "VLE_block.gamma_con\n",
      "VLE_block.gamma_ref_con\n",
      "VLE_block.n_ave_con\n",
      "VLE_block.P_sat_con\n",
      "VLE_block.P_sat_con2\n",
      "VLE_block.P_sat_dY_inf_con\n",
      "VLE_block.P_sat_dY0_con\n",
      "VLE_block.f_V_con\n",
      "VLE_block.V_L_nonHen_con\n",
      "VLE_block.V_L_dY_inf_con\n",
      "VLE_block.V_L_dY0_con\n",
      "VLE_block.V_L_Hen_con\n",
      "VLE_block.V_L_H2O_con\n",
      "VLE_block.poynting_con\n",
      "MPCC.penalty_con\n",
      "MPCC.pressure_equal_con\n"
     ]
    }
   ],
   "source": [
    "for i in model.component_objects(pe.Constraint, active=True):\n",
    "    print(i.name)"
   ]
  },
  {
   "cell_type": "code",
   "execution_count": 17,
   "metadata": {},
   "outputs": [],
   "source": [
    "model.magic = pe.Var(within=pe.NonNegativeReals,initialize=1)"
   ]
  },
  {
   "cell_type": "code",
   "execution_count": 18,
   "metadata": {},
   "outputs": [],
   "source": [
    "all_expression = []\n",
    "for i in model.component_data_objects(pe.Constraint, active=True):\n",
    "    if i.name.startswith('summation_x_y_con') or i.name.startswith('mass_balance_main_con'):\n",
    "        all_expression.append(i.body)\n",
    "        i.deactivate()"
   ]
  },
  {
   "cell_type": "code",
   "execution_count": 19,
   "metadata": {},
   "outputs": [],
   "source": [
    "model.replaced_constraint_list = pe.ConstraintList()\n",
    "for i in all_expression:\n",
    "    model.replaced_constraint_list.add(expr = i*model.magic==0);"
   ]
  },
  {
   "cell_type": "code",
   "execution_count": 20,
   "metadata": {},
   "outputs": [],
   "source": [
    "# model.complementarity_con = pe.Constraint(expr = 2*model.big_beta == \\\n",
    "#                             model.L['in'] - model.big_epi + ((model.big_epi - model.L['in'])**2+1e-10)**0.5)\n",
    "model.complementarity_con = pe.Constraint(expr = model.magic == model.L['in'])"
   ]
  },
  {
   "cell_type": "markdown",
   "metadata": {
    "slideshow": {
     "slide_type": "subslide"
    }
   },
   "source": [
    "## Fix T or to fix Q? we have found that Maximize against an upper bound is most reliable"
   ]
  },
  {
   "cell_type": "code",
   "execution_count": 21,
   "metadata": {
    "slideshow": {
     "slide_type": "fragment"
    }
   },
   "outputs": [],
   "source": [
    "model.T.fix(200+273.15)"
   ]
  },
  {
   "cell_type": "code",
   "execution_count": 22,
   "metadata": {},
   "outputs": [
    {
     "name": "stdout",
     "output_type": "stream",
     "text": [
      "Active Equality Constraints:\t 958\n",
      "Active Inequality Constraints:\t 1\n",
      "Active Variables:\t\t 1133\n",
      "Fixed Variables:\t\t 172\n",
      "DOF:\t\t\t\t 3\n"
     ]
    }
   ],
   "source": [
    "check_DOF(pe,model)"
   ]
  },
  {
   "cell_type": "code",
   "execution_count": 23,
   "metadata": {
    "slideshow": {
     "slide_type": "fragment"
    }
   },
   "outputs": [],
   "source": [
    "model.obj = pe.Objective(expr = model.T - model.MPCC.pf ,sense=pe.maximize)\n",
    "# model.obj = pe.Objective(expr = - model.L['in'] - model.MPCC.pf ,sense=pe.maximize)\n",
    "# model.obj = pe.Objective(expr = - model.L['in'] ,sense=pe.maximize)"
   ]
  },
  {
   "cell_type": "code",
   "execution_count": 24,
   "metadata": {
    "scrolled": false,
    "slideshow": {
     "slide_type": "fragment"
    }
   },
   "outputs": [
    {
     "name": "stdout",
     "output_type": "stream",
     "text": [
      "Ipopt 3.12.8: print_user_options=yes\n",
      "linear_solver=ma86\n",
      "linear_system_scaling =mc19\n",
      "linear_scaling_on_demand =no\n",
      "max_iter=7000\n",
      "\n",
      "\n",
      "List of user-set options:\n",
      "\n",
      "                                    Name   Value                used\n",
      "                linear_scaling_on_demand = no                    yes\n",
      "                           linear_solver = ma86                  yes\n",
      "                   linear_system_scaling = mc19                  yes\n",
      "                                max_iter = 7000                  yes\n",
      "                      print_user_options = yes                   yes\n",
      "\n",
      "******************************************************************************\n",
      "This program contains Ipopt, a library for large-scale nonlinear optimization.\n",
      " Ipopt is released as open source code under the Eclipse Public License (EPL).\n",
      "         For more information visit http://projects.coin-or.org/Ipopt\n",
      "******************************************************************************\n",
      "\n",
      "This is Ipopt version 3.12.8, running with linear solver ma86.\n",
      "\n",
      "Number of nonzeros in equality constraint Jacobian...:     3049\n",
      "Number of nonzeros in inequality constraint Jacobian.:        5\n",
      "Number of nonzeros in Lagrangian Hessian.............:     4397\n",
      "\n",
      "Total number of variables............................:      961\n",
      "                     variables with only lower bounds:      326\n",
      "                variables with lower and upper bounds:      627\n",
      "                     variables with only upper bounds:        0\n",
      "Total number of equality constraints.................:      958\n",
      "Total number of inequality constraints...............:        1\n",
      "        inequality constraints with only lower bounds:        0\n",
      "   inequality constraints with lower and upper bounds:        0\n",
      "        inequality constraints with only upper bounds:        1\n",
      "\n",
      "iter    objective    inf_pr   inf_du lg(mu)  ||d||  lg(rg) alpha_du alpha_pr  ls\n",
      "   0 -4.7314000e+02 1.39e+04 1.00e+00  -1.0 0.00e+00    -  0.00e+00 0.00e+00   0\n",
      "   1 -4.7313999e+02 1.39e+04 2.39e+01  -1.0 1.39e+04    -  9.55e-04 1.18e-04h  1\n",
      "   2 -4.7313992e+02 1.39e+04 5.73e+01  -1.0 1.39e+04    -  5.19e-04 3.47e-04h  1\n",
      "   3r-4.7313992e+02 1.39e+04 9.99e+02   4.1 0.00e+00    -  0.00e+00 4.36e-07R  4\n",
      "   4r-4.7313610e+02 1.39e+04 1.17e+04   4.1 1.86e+05    -  1.93e-03 5.31e-07f  1\n",
      "   5r-4.7313475e+02 1.03e+04 1.15e+04   2.0 2.39e+05    -  5.58e-03 1.50e-02f  1\n",
      "   6 -4.7313461e+02 1.03e+04 9.65e+00  -1.0 1.36e+04    -  9.01e-04 1.68e-03h  1\n",
      "   7 -4.7313428e+02 1.03e+04 7.71e+00  -1.0 1.34e+04    -  2.14e-03 1.98e-03h  1\n",
      "   8 -4.7313428e+02 1.03e+04 6.46e+02  -1.0 1.94e+04    -  4.96e-03 2.01e-05h  1\n",
      "   9r-4.7313428e+02 1.03e+04 9.99e+02   4.0 0.00e+00    -  0.00e+00 1.01e-07R  2\n",
      "iter    objective    inf_pr   inf_du lg(mu)  ||d||  lg(rg) alpha_du alpha_pr  ls\n",
      "  10r-4.7313132e+02 1.03e+04 4.73e+03   4.0 1.42e+05    -  1.58e-03 6.13e-07f  1\n",
      "  11r-4.7309981e+02 5.11e+02 4.55e+03   2.6 2.39e+05    -  2.08e-02 4.25e-02f  1\n",
      "  12 -4.7309692e+02 5.07e+02 3.16e+02  -1.0 2.84e+03    -  1.00e-02 7.23e-03h  1\n",
      "  13 -4.7309689e+02 5.07e+02 4.52e+03  -1.0 2.98e+03    -  2.25e-02 7.59e-05h  1\n",
      "  14r-4.7309689e+02 5.07e+02 9.99e+02   2.7 0.00e+00    -  0.00e+00 3.80e-07R  2\n",
      "  15r-4.7307554e+02 5.07e+02 9.99e+02   2.7 5.58e+04    -  9.45e-05 5.91e-05f  1\n",
      "  16r-4.7306060e+02 5.07e+02 1.00e+03   2.7 4.19e+04    -  2.80e-04 5.54e-05f  1\n",
      "  17r-4.7288082e+02 5.07e+02 1.68e+03   2.7 1.64e+04    -  1.19e-02 1.02e-03f  1\n",
      "  18r-4.7231603e+02 5.02e+02 1.01e+03   2.7 7.36e+03    -  4.33e-03 1.54e-02f  1\n",
      "  19r-4.7246303e+02 5.01e+02 1.01e+03   2.7 1.52e+05  -2.0 9.62e-04 1.48e-03f  1\n",
      "iter    objective    inf_pr   inf_du lg(mu)  ||d||  lg(rg) alpha_du alpha_pr  ls\n",
      "  20r-4.7242819e+02 5.01e+02 1.01e+03   2.7 1.47e+05    -  3.79e-03 8.91e-04f  1\n",
      "  21r-4.7200123e+02 4.96e+02 2.22e+03   2.7 6.08e+02    -  3.09e-02 1.79e-02f  1\n",
      "  22r-4.7193738e+02 4.96e+02 2.24e+03   2.7 7.64e+01   2.0 8.14e-03 7.78e-03f  1\n",
      "  23r-4.7172741e+02 4.80e+02 9.72e+02   2.0 2.97e+02    -  2.62e-02 5.25e-02f  1\n",
      "  24r-4.7157022e+02 4.80e+02 2.28e+04   2.0 3.12e+00   2.5 5.90e-01 1.99e-01f  1\n",
      "  25r-4.7145776e+02 4.59e+02 2.23e+04   2.0 6.61e+02    -  3.31e-02 3.14e-02f  1\n",
      "  26r-4.7127466e+02 4.14e+02 1.58e+04   1.3 6.40e+02    -  9.37e-03 7.03e-02f  1\n",
      "  27 -4.7124684e+02 4.13e+02 1.85e+00  -1.0 2.33e+03    -  1.82e-03 2.53e-03h  1\n",
      "  28 -4.7123509e+02 4.13e+02 2.80e+01  -1.0 4.55e+03    -  1.78e-03 2.15e-04h  1\n",
      "  29 -4.7090762e+02 4.11e+02 6.65e+01  -1.0 4.64e+03    -  8.40e-03 5.00e-03h  1\n",
      "iter    objective    inf_pr   inf_du lg(mu)  ||d||  lg(rg) alpha_du alpha_pr  ls\n",
      "  30 -4.7089287e+02 4.11e+02 1.57e+02  -1.0 2.77e+03    -  1.57e-03 2.11e-04h  1\n",
      "  31 -4.7033678e+02 4.08e+02 7.80e+01  -1.0 2.76e+03    -  2.70e-03 7.26e-03h  1\n",
      "  32 -4.7032792e+02 4.08e+02 7.80e+01  -1.0 1.83e+03    -  7.06e-04 1.53e-04h  1\n",
      "  33 -4.7018736e+02 4.07e+02 8.22e+01  -1.0 1.73e+03    -  5.57e-04 2.20e-03f  1\n",
      "  34 -4.7018219e+02 4.07e+02 1.18e+02  -1.0 1.58e+03    -  2.33e-04 8.47e-05h  1\n",
      "  35 -4.6975799e+02 4.04e+02 1.74e+02  -1.0 1.56e+03    -  3.07e-03 6.89e-03f  1\n",
      "  36 -4.6974906e+02 4.04e+02 1.76e+02  -1.0 1.27e+03    -  7.04e-04 1.76e-04h  1\n",
      "  37 -4.6903121e+02 3.98e+02 9.00e+01  -1.0 1.24e+03    -  5.04e-03 1.39e-02f  1\n",
      "  38 -4.6901317e+02 3.98e+02 9.35e+01  -1.0 9.24e+02    -  1.85e-03 4.89e-04h  1\n",
      "  39 -4.6875073e+02 3.95e+02 1.06e+02  -1.0 9.02e+02    -  1.25e-02 7.08e-03f  1\n",
      "iter    objective    inf_pr   inf_du lg(mu)  ||d||  lg(rg) alpha_du alpha_pr  ls\n",
      "  40 -4.6874834e+02 3.95e+02 1.17e+03  -1.0 8.16e+02    -  1.10e-02 7.39e-05h  1\n",
      "  41r-4.6874834e+02 3.95e+02 9.99e+02   2.6 0.00e+00    -  0.00e+00 3.70e-07R  2\n",
      "  42r-4.6874713e+02 3.95e+02 9.99e+02   2.6 1.46e+04    -  7.93e-04 4.94e-05f  1\n",
      "  43r-4.6868338e+02 3.85e+02 2.02e+03   2.6 1.25e+04    -  1.40e-02 1.73e-03f  1\n",
      "  44r-4.6798160e+02 2.76e+02 2.32e+03   2.6 5.83e+03    -  2.09e-02 1.87e-02f  1\n",
      "  45 -4.6802617e+02 2.74e+02 2.67e+02  -1.0 9.36e+02    -  1.77e-01 7.81e-03h  1\n",
      "  46 -4.6802582e+02 2.74e+02 5.28e+04  -1.0 4.55e+02    -  1.56e-02 8.18e-05h  1\n",
      "  47r-4.6802582e+02 2.74e+02 9.99e+02   2.4 0.00e+00    -  0.00e+00 4.09e-07R  2\n",
      "  48r-4.6802079e+02 2.72e+02 9.99e+02   2.4 1.38e+04    -  5.48e-03 1.18e-04f  2\n",
      "  49r-4.6755168e+02 1.05e+02 4.68e+04   2.4 1.36e+04    -  4.19e-01 1.23e-02f  1\n",
      "iter    objective    inf_pr   inf_du lg(mu)  ||d||  lg(rg) alpha_du alpha_pr  ls\n",
      "  50 -4.6758346e+02 1.05e+02 8.54e+02  -1.0 7.98e+02    -  5.56e-03 3.43e-03h  1\n",
      "  51 -4.6758381e+02 1.05e+02 2.74e+06  -1.0 8.02e+02    -  7.02e-02 3.50e-05h  1\n",
      "  52r-4.6758381e+02 1.05e+02 1.00e+03   2.0 0.00e+00    -  0.00e+00 1.75e-07R  2\n",
      "  53r-4.6756306e+02 8.52e+01 2.94e+03   2.0 2.89e+04    -  7.31e-02 8.28e-04f  1\n",
      "  54 -4.6756351e+02 8.52e+01 2.28e+03  -1.0 8.07e+02    -  1.87e-01 8.97e-05h  1\n",
      "  55r-4.6756351e+02 8.52e+01 9.99e+02   1.9 0.00e+00    -  0.00e+00 4.49e-07R  2\n",
      "  56r-4.6754369e+02 7.92e+01 9.89e+02   1.9 3.02e+04    -  2.62e-02 9.36e-04f  1\n",
      "  57 -4.6754401e+02 7.92e+01 2.43e+03  -1.0 2.95e+02    -  8.47e-03 7.92e-05h  1\n",
      "  58r-4.6754401e+02 7.92e+01 9.99e+02   1.7 0.00e+00    -  0.00e+00 3.96e-07R  2\n",
      "  59r-4.6754042e+02 7.89e+01 9.99e+02   1.7 2.88e+04    -  7.98e-04 2.17e-04f  1\n",
      "iter    objective    inf_pr   inf_du lg(mu)  ||d||  lg(rg) alpha_du alpha_pr  ls\n",
      "  60 -4.6754049e+02 7.89e+01 5.82e+03  -1.0 8.83e+02    -  6.73e-02 1.26e-05h  1\n",
      "  61r-4.6754049e+02 7.89e+01 9.99e+02   1.7 0.00e+00    -  0.00e+00 6.32e-08R  2\n",
      "  62r-4.6753276e+02 7.53e+01 9.87e+02   1.7 2.77e+04    -  1.96e-02 4.70e-04f  1\n",
      "  63 -4.6753283e+02 7.53e+01 5.01e+04  -1.0 3.45e+02    -  1.99e-02 2.29e-05h  1\n",
      "  64r-4.6753283e+02 7.53e+01 9.99e+02   1.5 0.00e+00    -  0.00e+00 1.14e-07R  2\n",
      "  65r-4.6751691e+02 6.40e+01 9.85e+02   1.5 2.38e+04    -  1.96e-02 1.06e-03f  1\n",
      "  66 -4.6751704e+02 6.40e+01 2.30e+04  -1.0 4.54e+02    -  1.75e-03 3.78e-05h  1\n",
      "  67r-4.6751704e+02 6.40e+01 9.99e+02   1.0 0.00e+00    -  0.00e+00 1.89e-07R  2\n",
      "  68r-4.6750657e+02 4.76e+01 9.98e+02   1.0 7.22e+03    -  1.70e-03 6.83e-04f  1\n",
      "  69r-4.6750657e+02 4.76e+01 9.99e+02   0.7 0.00e+00    -  0.00e+00 4.61e-07R  5\n",
      "iter    objective    inf_pr   inf_du lg(mu)  ||d||  lg(rg) alpha_du alpha_pr  ls\n",
      "  70r-4.6748924e+02 1.74e+01 9.96e+02   0.7 3.59e+03    -  9.78e-03 1.12e-03f  1\n",
      "  71 -4.6748950e+02 1.74e+01 5.95e+03  -1.0 9.66e+02    -  1.95e-01 3.63e-05h  1\n",
      "  72r-4.6748950e+02 1.74e+01 9.99e+02   0.3 0.00e+00    -  0.00e+00 1.82e-07R  2\n",
      "  73r-4.6751328e+02 2.74e+00 9.97e+02   0.3 2.10e+03    -  2.30e-03 1.23e-03f  1\n",
      "  74r-4.6751328e+02 2.74e+00 9.99e+02   0.1 0.00e+00    -  0.00e+00 4.60e-07R  4\n",
      "  75r-4.6749017e+02 2.37e+00 9.98e+02   0.1 1.46e+03    -  1.84e-03 6.06e-04f  1\n",
      "  76r-4.6738007e+02 1.39e+00 9.96e+02   0.1 1.55e+03    -  2.61e-03 2.64e-03f  1\n",
      "  77r-4.6721338e+02 1.39e+00 9.92e+02   0.1 1.42e+03    -  3.55e-03 3.42e-03f  1\n",
      "  78r-4.6703330e+02 1.39e+00 9.89e+02   0.1 1.32e+03    -  2.16e-02 3.29e-03f  1\n",
      "  79r-4.6570942e+02 1.31e+00 9.71e+02   0.1 1.16e+03    -  3.67e-02 1.78e-02f  1\n",
      "iter    objective    inf_pr   inf_du lg(mu)  ||d||  lg(rg) alpha_du alpha_pr  ls\n",
      "  80r-4.6519464e+02 8.07e+00 9.40e+02   0.1 9.66e+02    -  3.16e-02 3.28e-02f  1\n",
      "  81r-4.6930098e+02 3.57e+01 9.27e+02   0.1 1.15e+03    -  1.30e-02 2.59e-02f  1\n",
      "  82r-4.6933244e+02 3.38e+01 1.03e+03   0.1 5.16e+02    -  1.31e-02 2.18e-02f  1\n",
      "  83r-4.6921443e+02 2.39e+01 8.39e+02   0.1 4.34e+02    -  8.26e-02 6.54e-02f  1\n",
      "  84r-4.6921157e+02 2.24e+01 8.09e+02   0.1 3.06e+02    -  6.12e-02 3.26e-02f  1\n",
      "  85r-4.6920499e+02 2.22e+01 8.02e+02   0.1 2.68e+02    -  3.26e-01 9.11e-03f  1\n",
      "  86r-4.6897936e+02 1.06e+01 1.20e+03   0.1 2.47e+02    -  5.55e-01 1.41e-01f  1\n",
      "  87r-4.6831570e+02 2.23e+00 1.44e+03   0.1 1.48e+02    -  9.90e-01 2.31e-01f  1\n",
      "  88r-4.6751166e+02 1.60e+00 1.14e+03   0.1 6.82e+01    -  9.99e-01 2.84e-01f  1\n",
      "  89 -4.6752413e+02 1.58e+00 2.15e+01  -1.0 1.65e+03    -  1.05e-02 1.24e-02h  3\n"
     ]
    },
    {
     "name": "stdout",
     "output_type": "stream",
     "text": [
      "iter    objective    inf_pr   inf_du lg(mu)  ||d||  lg(rg) alpha_du alpha_pr  ls\n",
      "  90 -4.6754943e+02 1.55e+00 3.34e+01  -1.0 1.22e+03    -  9.16e-02 1.63e-02h  3\n",
      "  91 -4.6761368e+02 1.52e+00 5.16e+01  -1.0 8.30e+02    -  9.00e-02 2.30e-02h  3\n",
      "  92 -4.6769271e+02 1.48e+00 7.19e+01  -1.0 5.37e+02    -  1.44e-01 2.55e-02h  3\n",
      "  93 -4.6777436e+02 1.44e+00 1.07e+02  -1.0 3.64e+02    -  1.56e-01 2.85e-02h  3\n",
      "  94 -4.6759692e+02 1.39e+00 2.19e+02  -1.0 2.53e+02    -  3.55e-01 3.15e-02h  3\n",
      "  95 -4.6722989e+02 1.35e+00 2.51e+02  -1.0 1.80e+02    -  5.24e-02 3.09e-02h  3\n",
      "  96 -4.6694554e+02 1.29e+00 4.59e+02  -1.0 1.35e+02    -  4.85e-01 4.23e-02h  3\n",
      "  97 -4.6676201e+02 1.23e+00 7.40e+02  -1.0 9.49e+01    -  2.78e-01 4.88e-02h  3\n",
      "  98 -4.6688277e+02 1.16e+00 3.02e+03  -1.0 6.74e+01    -  9.05e-01 5.81e-02h  3\n",
      "  99 -4.6859811e+02 8.44e-01 5.06e+04  -1.0 4.95e+01    -  5.05e-01 2.71e-01w  1\n",
      "iter    objective    inf_pr   inf_du lg(mu)  ||d||  lg(rg) alpha_du alpha_pr  ls\n",
      " 100 -4.6921201e+02 8.09e-01 1.05e+05  -1.0 1.98e+01    -  9.90e-01 5.75e-02w  1\n",
      " 101 -4.6943115e+02 8.04e-01 3.04e+05  -1.0 5.56e+02    -  1.81e-02 6.64e-03w  1\n",
      " 102 -4.6731161e+02 1.08e+00 6.32e+03  -1.0 6.01e+02    -  5.05e-01 6.77e-02h  2\n",
      " 103 -4.6805194e+02 9.91e-01 1.76e+04  -1.0 3.85e+01    -  9.90e-01 8.06e-02h  3\n",
      " 104 -4.6869927e+02 9.04e-01 2.57e+04  -1.0 2.83e+01    -  3.76e-01 8.76e-02h  3\n",
      " 105 -4.6918708e+02 8.24e-01 6.31e+04  -1.0 2.13e+01    -  9.70e-01 8.80e-02h  3\n",
      " 106 -4.6949972e+02 7.52e-01 1.03e+05  -1.0 1.67e+01    -  6.20e-01 8.82e-02h  3\n",
      " 107 -4.7007074e+02 6.19e-01 1.83e+05  -1.0 1.33e+01    -  1.00e+00 1.76e-01h  2\n",
      " 108 -4.7105810e+02 4.57e-01 2.49e+05  -1.0 9.80e+00    -  1.00e+00 3.67e-01H  1\n",
      " 109 -4.7109608e+02 4.47e-01 4.50e+06  -1.0 8.37e+00    -  1.00e+00 2.16e-02h  1\n",
      "iter    objective    inf_pr   inf_du lg(mu)  ||d||  lg(rg) alpha_du alpha_pr  ls\n",
      " 110 -4.7109649e+02 4.47e-01 1.91e+10  -1.0 6.13e+00    -  1.00e+00 2.41e-04h  1\n",
      " 111r-4.7109649e+02 4.47e-01 1.00e+03  -0.6 0.00e+00    -  0.00e+00 3.01e-07R  4\n",
      " 112r-4.7111444e+02 2.68e-01 1.11e+03  -0.6 2.11e+02    -  6.88e-03 1.13e-03f  1\n",
      " 113 -4.7111549e+02 2.68e-01 3.09e+05  -1.0 5.78e+00    -  8.66e-01 1.19e-03h  1\n",
      " 114 -4.7111551e+02 2.68e-01 1.52e+10  -1.0 2.94e+01    -  5.94e-01 1.20e-05h  1\n",
      " 115r-4.7111551e+02 2.68e-01 1.00e+03  -1.0 0.00e+00    -  0.00e+00 5.98e-08R  2\n",
      " 116r-4.7113011e+02 1.37e-01 1.03e+03  -1.0 1.37e+02    -  1.16e-02 1.19e-03f  1\n",
      " 117 -4.7113057e+02 1.37e-01 7.30e+05  -1.0 5.69e+00    -  8.66e-01 5.36e-04h  1\n",
      " 118r-4.7113057e+02 1.37e-01 1.00e+03  -1.0 0.00e+00    -  0.00e+00 3.36e-07R  5\n",
      " 119r-4.7113728e+02 2.65e-02 9.91e+02  -1.0 9.11e+01    -  1.67e-02 4.70e-03f  1\n",
      "iter    objective    inf_pr   inf_du lg(mu)  ||d||  lg(rg) alpha_du alpha_pr  ls\n",
      " 120r-4.7113419e+02 2.30e-02 9.76e+02  -1.0 1.85e+01    -  7.04e-02 1.53e-02f  1\n",
      " 121r-4.7112003e+02 2.22e-02 9.05e+02  -1.0 9.37e+00    -  6.63e-02 7.28e-02f  1\n",
      " 122r-4.7110077e+02 2.13e-02 8.86e+02  -1.0 9.58e+00    -  1.69e-01 9.57e-02f  1\n",
      " 123r-4.7108355e+02 2.07e-02 1.19e+03  -1.0 8.68e+00    -  3.27e-01 7.93e-02f  1\n",
      " 124 -4.7109876e+02 2.04e-02 1.82e+03  -1.0 5.00e+00    -  8.78e-01 1.76e-02h  5\n",
      " 125 -4.7112236e+02 2.00e-02 7.20e+03  -1.0 2.84e+01    -  8.21e-01 1.81e-02h  5\n",
      " 126 -4.7114823e+02 1.96e-02 2.59e+04  -1.0 3.39e+01    -  9.90e-01 1.87e-02h  5\n",
      " 127 -4.7117501e+02 1.92e-02 6.52e+04  -1.0 3.17e+01    -  6.79e-01 1.95e-02h  5\n",
      " 128 -4.7120198e+02 1.88e-02 1.99e+05  -1.0 3.21e+01    -  1.00e+00 2.06e-02h  5\n",
      " 129 -4.7122993e+02 1.84e-02 4.71e+05  -1.0 2.94e+01    -  7.56e-01 2.20e-02h  5\n",
      "iter    objective    inf_pr   inf_du lg(mu)  ||d||  lg(rg) alpha_du alpha_pr  ls\n",
      " 130 -4.7125901e+02 1.80e-02 1.22e+06  -1.0 2.98e+01    -  1.00e+00 2.40e-02h  5\n",
      " 131 -4.7129060e+02 1.75e-02 2.49e+06  -1.0 2.78e+01    -  8.26e-01 2.70e-02h  5\n",
      " 132 -4.7130830e+02 1.72e-02 4.85e+06  -1.0 2.82e+01    -  1.00e+00 1.60e-02h  6\n",
      " 133 -4.7132793e+02 1.69e-02 7.91e+06  -1.0 2.67e+01    -  8.97e-01 1.81e-02h  6\n",
      " 134 -4.7204069e+02 2.49e-01 3.67e+06  -1.0 2.72e+01    -  1.00e+00 6.84e-01w  1\n",
      " 135 -4.7181697e+02 4.27e-01 6.73e+09  -1.0 1.64e+01    -  1.74e-03 9.90e-01w  1\n",
      " 136 -4.7154082e+02 3.71e-02 4.82e+08  -1.0 9.20e+00    -  8.50e-01 9.28e-01h  1\n",
      " 137 -4.7132123e+02 2.20e-02 9.97e+04  -1.0 2.33e+00    -  1.00e+00 1.00e+00h  1\n",
      " 138 -4.7108213e+02 5.80e-03 3.68e+05  -1.0 3.28e+00    -  1.00e+00 1.00e+00H  1\n",
      " 139 -4.7108977e+02 1.66e-04 6.63e+04  -1.0 4.19e-01    -  1.00e+00 1.00e+00h  1\n",
      "iter    objective    inf_pr   inf_du lg(mu)  ||d||  lg(rg) alpha_du alpha_pr  ls\n",
      " 140 -4.7115956e+02 1.76e-04 2.39e+05  -1.0 9.28e-01    -  1.00e+00 1.00e+00F  1\n",
      " 141 -4.7118255e+02 3.08e-06 2.73e+04  -1.0 2.87e-01    -  1.00e+00 1.00e+00H  1\n",
      " 142 -4.7118279e+02 5.11e-08 9.99e+00  -1.0 2.96e-03    -  1.00e+00 1.00e+00h  1\n",
      " 143 -4.7158260e+02 3.24e-02 6.76e+06  -3.8 2.44e+00    -  7.06e-01 9.56e-01f  1\n",
      " 144 -4.7193281e+02 7.05e-02 2.63e+06  -3.8 3.84e+00    -  6.16e-01 1.00e+00f  1\n",
      " 145 -4.7250071e+02 1.50e-01 6.16e+06  -3.8 5.70e+00  -2.0 7.16e-01 1.00e+00f  1\n",
      " 146 -4.7297730e+02 2.64e-01 6.23e+06  -3.8 1.47e+01    -  8.43e-01 1.00e+00h  1\n",
      " 147 -4.7314997e+02 2.69e-01 3.70e+06  -3.8 4.57e+01    -  4.94e-01 2.69e-01h  1\n",
      " 148 -4.7314056e+02 9.57e-02 8.81e+05  -3.8 1.40e+01    -  1.00e+00 1.00e+00h  1\n",
      " 149 -4.7315000e+02 3.68e-02 1.00e+05  -3.8 6.81e+00    -  1.00e+00 8.12e-01h  1\n",
      "iter    objective    inf_pr   inf_du lg(mu)  ||d||  lg(rg) alpha_du alpha_pr  ls\n",
      " 150 -4.7314980e+02 9.24e-03 5.61e+03  -3.8 3.93e+00    -  1.00e+00 1.00e+00h  1\n",
      " 151 -4.7314978e+02 2.39e-03 1.58e+02  -3.8 2.00e+00    -  1.00e+00 1.00e+00h  1\n",
      " 152 -4.7314965e+02 5.78e-06 1.86e-01  -3.8 9.46e-02    -  1.00e+00 1.00e+00h  1\n",
      " 153 -4.7314935e+02 1.26e-05 4.89e-02  -3.8 1.45e-01    -  1.00e+00 1.00e+00h  1\n",
      " 154 -4.7314934e+02 1.39e-06 5.43e-03  -3.8 4.82e-02    -  1.00e+00 1.00e+00h  1\n",
      " 155 -4.7315000e+02 2.41e-04 4.62e+02  -5.7 6.56e-01    -  9.98e-01 9.67e-01h  1\n",
      " 156 -4.7314999e+02 3.88e-05 1.22e+00  -5.7 2.55e-01    -  1.00e+00 1.00e+00h  1\n",
      " 157 -4.7314999e+02 8.13e-06 1.38e-03  -5.7 1.17e-01    -  1.00e+00 1.00e+00h  1\n",
      " 158 -4.7314999e+02 9.59e-07 4.60e-05  -5.7 4.01e-02    -  1.00e+00 1.00e+00h  1\n",
      " 159 -4.7314999e+02 2.57e-08 1.21e-06  -5.7 6.56e-03    -  1.00e+00 1.00e+00h  1\n",
      "iter    objective    inf_pr   inf_du lg(mu)  ||d||  lg(rg) alpha_du alpha_pr  ls\n",
      " 160 -4.7315000e+02 1.99e-06 7.57e-01  -8.6 5.79e-02    -  1.00e+00 9.96e-01h  1\n",
      " 161 -4.7315000e+02 4.58e-07 2.16e-04  -8.6 2.77e-02    -  1.00e+00 1.00e+00h  1\n",
      " 162 -4.7315000e+02 1.08e-07 1.32e-04  -8.6 1.35e-02    -  1.00e+00 1.00e+00h  1\n",
      " 163 -4.7315000e+02 2.40e-08 1.28e-04  -8.6 6.35e-03    -  1.00e+00 1.00e+00h  1\n",
      " 164 -4.7315000e+02 4.88e-09 6.14e-05  -8.6 2.86e-03    -  1.00e+00 1.00e+00h  1\n",
      " 165 -4.7315000e+02 5.95e-10 6.82e-06  -8.6 9.99e-04    -  1.00e+00 1.00e+00h  1\n",
      " 166 -4.7315000e+02 7.79e-12 4.35e-09  -8.6 1.14e-04    -  1.00e+00 1.00e+00h  1\n",
      "\n",
      "Number of Iterations....: 166\n",
      "\n",
      "                                   (scaled)                 (unscaled)\n",
      "Objective...............:  -4.7315000000498213e+02   -4.7315000000498213e+02\n",
      "Dual infeasibility......:   4.3548649683112020e-09    4.3548649683112020e-09\n",
      "Constraint violation....:   7.7875483839306980e-12    7.7875483839306980e-12\n",
      "Complementarity.........:   2.5065799529108931e-09    2.5065799529108931e-09\n",
      "Overall NLP error.......:   4.3548649683112020e-09    4.3548649683112020e-09\n",
      "\n",
      "\n",
      "Number of objective function evaluations             = 332\n",
      "Number of objective gradient evaluations             = 134\n",
      "Number of equality constraint evaluations            = 332\n",
      "Number of inequality constraint evaluations          = 332\n",
      "Number of equality constraint Jacobian evaluations   = 184\n",
      "Number of inequality constraint Jacobian evaluations = 184\n",
      "Number of Lagrangian Hessian evaluations             = 166\n",
      "Total CPU secs in IPOPT (w/o function evaluations)   =      5.878\n",
      "Total CPU secs in NLP function evaluations           =      0.364\n",
      "\n",
      "EXIT: Optimal Solution Found.\n"
     ]
    }
   ],
   "source": [
    "opt = pe.SolverFactory('ipopt')\n",
    "\n",
    "opt.options['print_user_options'] = 'yes'\n",
    "opt.options['linear_solver'] = 'ma86'\n",
    "\n",
    "opt.options['linear_system_scaling '] = 'mc19'\n",
    "opt.options['linear_scaling_on_demand '] = 'no'\n",
    "# opt.options['recalc_y'] = 'yes'\n",
    "# opt.options['bound_relax_factor'] = 0\n",
    "# opt.options['halt_on_ampl_error'] = 'yes'\n",
    "\n",
    "opt.options['max_iter'] = 7000\n",
    "results = opt.solve(model,tee=True)\n",
    "update_dual(pe,model)"
   ]
  },
  {
   "cell_type": "code",
   "execution_count": 25,
   "metadata": {
    "scrolled": true,
    "slideshow": {
     "slide_type": "skip"
    }
   },
   "outputs": [
    {
     "data": {
      "text/plain": [
       "1.8335655222504552e-05"
      ]
     },
     "execution_count": 25,
     "metadata": {},
     "output_type": "execute_result"
    }
   ],
   "source": [
    "model.Q_main.value"
   ]
  },
  {
   "cell_type": "code",
   "execution_count": 26,
   "metadata": {},
   "outputs": [
    {
     "data": {
      "text/plain": [
       "1.0"
      ]
     },
     "execution_count": 26,
     "metadata": {},
     "output_type": "execute_result"
    }
   ],
   "source": [
    "model.magic.value"
   ]
  },
  {
   "cell_type": "code",
   "execution_count": 27,
   "metadata": {},
   "outputs": [
    {
     "data": {
      "text/plain": [
       "1"
      ]
     },
     "execution_count": 27,
     "metadata": {},
     "output_type": "execute_result"
    }
   ],
   "source": [
    "model.L['in'].value"
   ]
  },
  {
   "cell_type": "code",
   "execution_count": 28,
   "metadata": {
    "slideshow": {
     "slide_type": "skip"
    }
   },
   "outputs": [
    {
     "data": {
      "text/plain": [
       "473.15"
      ]
     },
     "execution_count": 28,
     "metadata": {},
     "output_type": "execute_result"
    }
   ],
   "source": [
    "model.T.value"
   ]
  },
  {
   "cell_type": "code",
   "execution_count": 29,
   "metadata": {},
   "outputs": [],
   "source": [
    "# model.solutions.store_to(results)\n",
    "# with open('../saved_solutions/reboiler_MPCC_P_pf_200C.pickle','wb') as f:\n",
    "#     pickle.dump(results,f)"
   ]
  },
  {
   "cell_type": "code",
   "execution_count": 30,
   "metadata": {
    "scrolled": false,
    "slideshow": {
     "slide_type": "slide"
    }
   },
   "outputs": [
    {
     "name": "stdout",
     "output_type": "stream",
     "text": [
      "Component\t\tLiquid: 1.0000\t\t\tVapor: 0.0000\t\t\tlog K\n",
      "------------------------------------------------------------------------------------------------------------\n",
      "H2         \t\t 0.8837%\t\t\t25.2923%\t\t\t1.4567\n",
      "CO         \t\t 1.3400%\t\t\t28.6939%\t\t\t1.3307\n",
      "CO2        \t\t 3.7244%\t\t\t31.8633%\t\t\t0.9322\n",
      "H2O        \t\t 3.6023%\t\t\t12.4040%\t\t\t0.5370\n",
      "C2H4       \t\t 0.0174%\t\t\t 0.1174%\t\t\t0.8302\n",
      "C3H6       \t\t 0.0444%\t\t\t 0.1351%\t\t\t0.4830\n",
      "C4H8       \t\t 0.0456%\t\t\t 0.1204%\t\t\t0.4221\n",
      "C5H10      \t\t 0.0722%\t\t\t 0.0931%\t\t\t0.1104\n",
      "C6H12      \t\t 0.1262%\t\t\t 0.0865%\t\t\t-0.1641\n",
      "C7H14      \t\t 0.2078%\t\t\t 0.0799%\t\t\t-0.4151\n",
      "C8H16      \t\t 0.3264%\t\t\t 0.0731%\t\t\t-0.6499\n",
      "C9H18      \t\t 0.4920%\t\t\t 0.0659%\t\t\t-0.8729\n",
      "C10H20     \t\t 0.7120%\t\t\t 0.0583%\t\t\t-1.0869\n",
      "C11H22     \t\t 0.6286%\t\t\t 0.0320%\t\t\t-1.2938\n",
      "C12H24     \t\t 0.8302%\t\t\t 0.0266%\t\t\t-1.4951\n",
      "C13H26     \t\t 1.0411%\t\t\t 0.0212%\t\t\t-1.6918\n",
      "C14H28     \t\t 1.2375%\t\t\t 0.0161%\t\t\t-1.8847\n",
      "C15H30     \t\t 1.3970%\t\t\t 0.0118%\t\t\t-2.0743\n",
      "C16H32     \t\t 1.5062%\t\t\t 0.0083%\t\t\t-2.2611\n",
      "C17H34     \t\t 1.5634%\t\t\t 0.0056%\t\t\t-2.4456\n",
      "C18H36     \t\t 1.5753%\t\t\t 0.0037%\t\t\t-2.6280\n",
      "C19H38     \t\t 1.5530%\t\t\t 0.0024%\t\t\t-2.8086\n",
      "C20H40     \t\t 1.5073%\t\t\t 0.0016%\t\t\t-2.9876\n",
      "C1H4       \t\t 0.0164%\t\t\t 0.1925%\t\t\t1.0694\n",
      "C2H6       \t\t 0.0107%\t\t\t 0.0631%\t\t\t0.7702\n",
      "C3H8       \t\t 0.0114%\t\t\t 0.0338%\t\t\t0.4726\n",
      "C4H10      \t\t 0.0162%\t\t\t 0.0380%\t\t\t0.3694\n",
      "C5H12      \t\t 0.0471%\t\t\t 0.0547%\t\t\t0.0647\n",
      "C6H14      \t\t 0.0815%\t\t\t 0.0508%\t\t\t-0.2056\n",
      "C7H16      \t\t 0.1332%\t\t\t 0.0468%\t\t\t-0.4538\n",
      "C8H18      \t\t 0.2078%\t\t\t 0.0428%\t\t\t-0.6865\n",
      "C9H20      \t\t 0.3113%\t\t\t 0.0385%\t\t\t-0.9080\n",
      "C10H22     \t\t 0.4475%\t\t\t 0.0339%\t\t\t-1.1208\n",
      "C11H24     \t\t 0.9951%\t\t\t 0.0469%\t\t\t-1.3268\n",
      "C12H26     \t\t 1.3036%\t\t\t 0.0387%\t\t\t-1.5274\n",
      "C13H28     \t\t 1.6207%\t\t\t 0.0306%\t\t\t-1.7234\n",
      "C14H30     \t\t 1.9099%\t\t\t 0.0232%\t\t\t-1.9158\n",
      "C15H32     \t\t 2.1391%\t\t\t 0.0168%\t\t\t-2.1049\n",
      "C16H34     \t\t 2.2908%\t\t\t 0.0117%\t\t\t-2.2914\n",
      "C17H36     \t\t 2.3649%\t\t\t 0.0079%\t\t\t-2.4755\n",
      "C18H38     \t\t 2.3734%\t\t\t 0.0052%\t\t\t-2.6576\n",
      "C19H40     \t\t 2.3329%\t\t\t 0.0034%\t\t\t-2.8380\n",
      "C20H42     \t\t 2.2595%\t\t\t 0.0022%\t\t\t-3.0168\n",
      "C21H44     \t\t 3.6174%\t\t\t 0.0023%\t\t\t-3.1942\n",
      "C22H46     \t\t 3.4437%\t\t\t 0.0015%\t\t\t-3.3703\n",
      "C23H48     \t\t 3.2630%\t\t\t 0.0009%\t\t\t-3.5454\n",
      "C24H50     \t\t 3.0819%\t\t\t 0.0006%\t\t\t-3.7195\n",
      "C25H52     \t\t 2.9046%\t\t\t 0.0004%\t\t\t-3.8926\n",
      "C26H54     \t\t 2.7337%\t\t\t 0.0002%\t\t\t-4.0650\n",
      "C27H56     \t\t 2.5703%\t\t\t 0.0001%\t\t\t-4.2366\n",
      "C28H58     \t\t 2.4152%\t\t\t 0.0001%\t\t\t-4.4075\n",
      "C29H60     \t\t 2.2684%\t\t\t 0.0001%\t\t\t-4.5778\n",
      "C30H62     \t\t 2.1300%\t\t\t 0.0000%\t\t\t-4.7476\n",
      "C31H64     \t\t 1.9996%\t\t\t 0.0000%\t\t\t-4.9168\n",
      "C32H66     \t\t 1.8769%\t\t\t 0.0000%\t\t\t-5.0855\n",
      "C33H68     \t\t 1.7617%\t\t\t 0.0000%\t\t\t-5.2538\n",
      "C34H70     \t\t 1.6534%\t\t\t 0.0000%\t\t\t-5.4217\n",
      "C35H72     \t\t 1.5516%\t\t\t 0.0000%\t\t\t-5.5892\n",
      "C36H74     \t\t 1.4562%\t\t\t 0.0000%\t\t\t-5.7563\n",
      "C37H76     \t\t 1.3665%\t\t\t 0.0000%\t\t\t-5.9231\n",
      "C38H78     \t\t 1.2824%\t\t\t 0.0000%\t\t\t-6.0896\n",
      "C39H80     \t\t 1.2034%\t\t\t 0.0000%\t\t\t-6.2558\n",
      "C40H82     \t\t 1.1293%\t\t\t 0.0000%\t\t\t-6.4218\n",
      "C41H84     \t\t 1.0598%\t\t\t 0.0000%\t\t\t-6.5874\n",
      "C42H86     \t\t 0.9945%\t\t\t 0.0000%\t\t\t-6.7529\n",
      "C43H88     \t\t 0.9332%\t\t\t 0.0000%\t\t\t-6.9181\n",
      "C44H90     \t\t 0.8758%\t\t\t 0.0000%\t\t\t-7.0831\n",
      "C45H92     \t\t 0.8218%\t\t\t 0.0000%\t\t\t-7.2479\n",
      "C46H94     \t\t 0.7712%\t\t\t 0.0000%\t\t\t-7.4125\n",
      "C47H96     \t\t 0.7237%\t\t\t 0.0000%\t\t\t-7.5769\n",
      "C48H98     \t\t 0.6791%\t\t\t 0.0000%\t\t\t-7.7412\n",
      "C49H100    \t\t 0.6373%\t\t\t 0.0000%\t\t\t-7.9053\n",
      "C50H102    \t\t 0.5981%\t\t\t 0.0000%\t\t\t-8.0693\n",
      "C51H104    \t\t 0.5612%\t\t\t 0.0000%\t\t\t-8.2331\n",
      "C52H106    \t\t 0.5266%\t\t\t 0.0000%\t\t\t-8.3968\n",
      "C53H108    \t\t 0.4942%\t\t\t 0.0000%\t\t\t-8.5603\n",
      "C54H110    \t\t 0.4638%\t\t\t 0.0000%\t\t\t-8.7237\n",
      "C55H112    \t\t 0.4352%\t\t\t 0.0000%\t\t\t-8.8871\n",
      "C56H114    \t\t 0.4084%\t\t\t 0.0000%\t\t\t-9.0503\n"
     ]
    }
   ],
   "source": [
    "print('Component\\t\\tLiquid: {:.4f}\\t\\t\\tVapor: {:.4f}\\t\\t\\tlog K'.format(model.L['out'].value,model.V['out'].value))\n",
    "print('-'*108)\n",
    "for i in model.x:\n",
    "    print('{:10s}'.format(i),'\\t\\t{:8.4%}\\t\\t\\t{:8.4%}\\t\\t\\t{:.4f}'.format(model.x[i].value,model.y[i].value,np.log10(model.y[i].value/model.x[i].value)))"
   ]
  },
  {
   "cell_type": "markdown",
   "metadata": {
    "slideshow": {
     "slide_type": "slide"
    }
   },
   "source": [
    "# Iterative Solve for Data Analysis"
   ]
  },
  {
   "cell_type": "code",
   "execution_count": 31,
   "metadata": {},
   "outputs": [],
   "source": [
    "update_dual(pe,model)"
   ]
  },
  {
   "cell_type": "code",
   "execution_count": 32,
   "metadata": {},
   "outputs": [],
   "source": [
    "opt.options['warm_start_init_point'] = 'yes'\n",
    "opt.options['warm_start_bound_push'] = 1e-20\n",
    "opt.options['warm_start_mult_bound_push'] = 1e-20\n",
    "opt.options['mu_init'] = 1e-6"
   ]
  },
  {
   "cell_type": "code",
   "execution_count": 33,
   "metadata": {
    "scrolled": false,
    "slideshow": {
     "slide_type": "fragment"
    }
   },
   "outputs": [
    {
     "name": "stdout",
     "output_type": "stream",
     "text": [
      "Solved, Solution T = 473.15 K\t|\tV = 0.00000\t|\tL = 1.00000\t|\n",
      "Solved, Solution T = 473.15 K\t|\tV = 0.00000\t|\tL = 1.00000\t|\n",
      "Solved, Solution T = 473.15 K\t|\tV = 0.00000\t|\tL = 1.00000\t|\n",
      "Solved, Solution T = 473.15 K\t|\tV = 0.00000\t|\tL = 1.00000\t|\n",
      "Solved, Solution T = 473.15 K\t|\tV = 0.00000\t|\tL = 1.00000\t|\n",
      "Solved, Solution T = 473.15 K\t|\tV = 0.00000\t|\tL = 1.00000\t|\n",
      "Solved, Solution T = 473.15 K\t|\tV = 0.00000\t|\tL = 1.00000\t|\n",
      "Solved, Solution T = 473.15 K\t|\tV = 0.00000\t|\tL = 1.00000\t|\n",
      "Solved, Solution T = 473.15 K\t|\tV = 0.00000\t|\tL = 1.00000\t|\n",
      "Solved, Solution T = 473.15 K\t|\tV = 0.00000\t|\tL = 1.00000\t|\n",
      "Solved, Solution T = 473.15 K\t|\tV = 0.00000\t|\tL = 1.00000\t|\n",
      "Solved, Solution T = 473.15 K\t|\tV = 0.00000\t|\tL = 1.00000\t|\n",
      "Solved, Solution T = 473.15 K\t|\tV = 0.00000\t|\tL = 1.00000\t|\n",
      "Solved, Solution T = 473.15 K\t|\tV = 0.00000\t|\tL = 1.00000\t|\n",
      "Solved, Solution T = 473.15 K\t|\tV = 0.00000\t|\tL = 1.00000\t|\n",
      "Solved, Solution T = 473.15 K\t|\tV = 0.00000\t|\tL = 1.00000\t|\n",
      "Solved, Solution T = 473.15 K\t|\tV = 0.00000\t|\tL = 1.00000\t|\n",
      "Solved, Solution T = 473.15 K\t|\tV = 0.00000\t|\tL = 1.00000\t|\n",
      "Solved, Solution T = 473.15 K\t|\tV = 0.00000\t|\tL = 1.00000\t|\n",
      "Solved, Solution T = 473.15 K\t|\tV = 0.00000\t|\tL = 1.00000\t|\n",
      "Solved, Solution T = 473.15 K\t|\tV = 0.00000\t|\tL = 1.00000\t|\n",
      "Solved, Solution T = 473.15 K\t|\tV = 0.00000\t|\tL = 1.00000\t|\n",
      "Solved, Solution T = 473.15 K\t|\tV = 0.00000\t|\tL = 1.00000\t|\n",
      "Solved, Solution T = 473.15 K\t|\tV = 0.00000\t|\tL = 1.00000\t|\n",
      "Solved, Solution T = 473.15 K\t|\tV = 0.00000\t|\tL = 1.00000\t|\n",
      "Solved, Solution T = 473.15 K\t|\tV = 0.00000\t|\tL = 1.00000\t|\n",
      "Solved, Solution T = 473.15 K\t|\tV = 0.00000\t|\tL = 1.00000\t|\n",
      "Solved, Solution T = 473.15 K\t|\tV = 0.00000\t|\tL = 1.00000\t|\n",
      "Solved, Solution T = 473.15 K\t|\tV = 0.00000\t|\tL = 1.00000\t|\n",
      "Solved, Solution T = 473.15 K\t|\tV = 0.00000\t|\tL = 1.00000\t|\n",
      "Solved, Solution T = 473.15 K\t|\tV = 0.00000\t|\tL = 1.00000\t|\n"
     ]
    }
   ],
   "source": [
    "rf_data = {}\n",
    "rf_data['T'] = []; rf_data['Q'] = []; rf_data['V'] = []; rf_data['L'] = []; \n",
    "rf_data['y_CO'] = []; rf_data['y_H2'] = []; rf_data['y_CO2'] = []; rf_data['y_H2O'] = [];\n",
    "rf_data['f_V_CO'] = []; rf_data['f_V_H2'] = [];\n",
    "    \n",
    "Trange = np.arange(350+273.15,199+273.15,-5)\n",
    "\n",
    "for Tub in Trange:\n",
    "    model.T.setub(Tub)\n",
    "    results = opt.solve(model,tee=False)\n",
    "    update_dual(pe,model)\n",
    "    # print('-'*72)\n",
    "    print('Solved, Solution T = {:.2f} K\\t|\\tV = {:.5f}\\t|\\tL = {:.5f}\\t|'.format(model.T.value,model.V['out'].value,model.L['out'].value))\n",
    "    # print('-'*72)\n",
    "    rf_data['T'].append(model.T.value)\n",
    "    rf_data['Q'].append(model.Q_main.value)\n",
    "    rf_data['V'].append(model.V['out'].value)\n",
    "    rf_data['L'].append(model.L['out'].value)    \n",
    "    \n",
    "    \n",
    "    rf_data['y_H2O'].append(model.y['H2O'].value)\n",
    "    rf_data['y_CO'].append(model.y['CO'].value)\n",
    "    rf_data['y_H2'].append(model.y['H2'].value)\n",
    "    rf_data['y_CO2'].append(model.y['CO2'].value)\n",
    "    \n",
    "    rf_data['f_V_CO'].append(model.f_V['CO'].value)\n",
    "    rf_data['f_V_H2'].append(model.f_V['H2'].value)"
   ]
  },
  {
   "cell_type": "markdown",
   "metadata": {},
   "source": [
    "# VLE Validation using AspenPlus"
   ]
  },
  {
   "cell_type": "markdown",
   "metadata": {},
   "source": [
    "### Feed (Reactor Effluent)"
   ]
  },
  {
   "cell_type": "code",
   "execution_count": 34,
   "metadata": {},
   "outputs": [
    {
     "name": "stdout",
     "output_type": "stream",
     "text": [
      "Temperature (C): \t200.00\t\t\n",
      "Total FLow (kmol/s): \t1.00\t\t\n",
      "------------------------------------------------------------------------\n",
      "H2         \t\t0.8838%\n",
      "CO         \t\t1.3401%\n",
      "CO2        \t\t3.7245%\n",
      "H2O        \t\t3.6023%\n",
      "C2H4       \t\t0.0174%\n",
      "C3H6       \t\t0.0444%\n",
      "C4H8       \t\t0.0456%\n",
      "C5H10      \t\t0.0722%\n",
      "C6H12      \t\t0.1262%\n",
      "C7H14      \t\t0.2078%\n",
      "C8H16      \t\t0.3264%\n",
      "C9H18      \t\t0.4920%\n",
      "C10H20     \t\t0.7120%\n",
      "C11H22     \t\t0.6286%\n",
      "C12H24     \t\t0.8302%\n",
      "C13H26     \t\t1.0411%\n",
      "C14H28     \t\t1.2375%\n",
      "C15H30     \t\t1.3970%\n",
      "C16H32     \t\t1.5062%\n",
      "C17H34     \t\t1.5634%\n",
      "C18H36     \t\t1.5753%\n",
      "C19H38     \t\t1.5530%\n",
      "C20H40     \t\t1.5073%\n",
      "C1H4       \t\t0.0164%\n",
      "C2H6       \t\t0.0107%\n",
      "C3H8       \t\t0.0114%\n",
      "C4H10      \t\t0.0162%\n",
      "C5H12      \t\t0.0471%\n",
      "C6H14      \t\t0.0815%\n",
      "C7H16      \t\t0.1332%\n",
      "C8H18      \t\t0.2078%\n",
      "C9H20      \t\t0.3113%\n",
      "C10H22     \t\t0.4475%\n",
      "C11H24     \t\t0.9951%\n",
      "C12H26     \t\t1.3036%\n",
      "C13H28     \t\t1.6207%\n",
      "C14H30     \t\t1.9099%\n",
      "C15H32     \t\t2.1391%\n",
      "C16H34     \t\t2.2908%\n",
      "C17H36     \t\t2.3649%\n",
      "C18H38     \t\t2.3734%\n",
      "C19H40     \t\t2.3329%\n",
      "C20H42     \t\t2.2595%\n",
      "C21H44     \t\t3.6174%\n",
      "C22H46     \t\t3.4437%\n",
      "C23H48     \t\t3.2630%\n",
      "C24H50     \t\t3.0819%\n",
      "C25H52     \t\t2.9046%\n",
      "C26H54     \t\t2.7336%\n",
      "C27H56     \t\t2.5703%\n",
      "C28H58     \t\t2.4152%\n",
      "C29H60     \t\t2.2684%\n",
      "C30H62     \t\t2.1300%\n",
      "C31H64     \t\t1.9996%\n",
      "C32H66     \t\t1.8769%\n",
      "C33H68     \t\t1.7616%\n",
      "C34H70     \t\t1.6533%\n",
      "C35H72     \t\t1.5516%\n",
      "C36H74     \t\t1.4562%\n",
      "C37H76     \t\t1.3665%\n",
      "C38H78     \t\t1.2824%\n",
      "C39H80     \t\t1.2034%\n",
      "C40H82     \t\t1.1293%\n",
      "C41H84     \t\t1.0598%\n",
      "C42H86     \t\t0.9945%\n",
      "C43H88     \t\t0.9332%\n",
      "C44H90     \t\t0.8758%\n",
      "C45H92     \t\t0.8218%\n",
      "C46H94     \t\t0.7712%\n",
      "C47H96     \t\t0.7237%\n",
      "C48H98     \t\t0.6791%\n",
      "C49H100    \t\t0.6373%\n",
      "C50H102    \t\t0.5980%\n",
      "C51H104    \t\t0.5612%\n",
      "C52H106    \t\t0.5266%\n",
      "C53H108    \t\t0.4942%\n",
      "C54H110    \t\t0.4638%\n",
      "C55H112    \t\t0.4352%\n",
      "C56H114    \t\t0.4084%\n"
     ]
    }
   ],
   "source": [
    "print('Temperature (C): \\t{:.2f}\\t\\t'.format(model.T.value-273.15))\n",
    "print('Total FLow (kmol/s): \\t{:.2f}\\t\\t'.format(model.L['out'].value+model.V['out'].value))\n",
    "print('-'*72)\n",
    "for i in model.x:\n",
    "    print('{:10s}'.format(i),'\\t\\t{:.4%}'.format((model.x[i].value*model.L['out'].value\\\n",
    "        +model.y[i].value*model.V['out'].value)/(model.L['out'].value+model.V['out'].value)))"
   ]
  },
  {
   "cell_type": "markdown",
   "metadata": {},
   "source": [
    "### Phase Separation"
   ]
  },
  {
   "cell_type": "code",
   "execution_count": 35,
   "metadata": {
    "scrolled": false
   },
   "outputs": [
    {
     "name": "stdout",
     "output_type": "stream",
     "text": [
      "Component\t\tLiquid: 1.0000\t\t\tVapor: 0.0000\t\t\tlog K\n",
      "------------------------------------------------------------------------------------------------------------\n",
      "H2         \t\t 0.8837%\t\t\t25.2925%\t\t\t1.4567\n",
      "CO         \t\t 1.3400%\t\t\t28.6940%\t\t\t1.3307\n",
      "CO2        \t\t 3.7244%\t\t\t31.8632%\t\t\t0.9322\n",
      "H2O        \t\t 3.6023%\t\t\t12.4039%\t\t\t0.5370\n",
      "C2H4       \t\t 0.0174%\t\t\t 0.1174%\t\t\t0.8302\n",
      "C3H6       \t\t 0.0444%\t\t\t 0.1351%\t\t\t0.4830\n",
      "C4H8       \t\t 0.0456%\t\t\t 0.1204%\t\t\t0.4221\n",
      "C5H10      \t\t 0.0722%\t\t\t 0.0931%\t\t\t0.1104\n",
      "C6H12      \t\t 0.1262%\t\t\t 0.0865%\t\t\t-0.1641\n",
      "C7H14      \t\t 0.2078%\t\t\t 0.0799%\t\t\t-0.4151\n",
      "C8H16      \t\t 0.3264%\t\t\t 0.0731%\t\t\t-0.6499\n",
      "C9H18      \t\t 0.4920%\t\t\t 0.0659%\t\t\t-0.8729\n",
      "C10H20     \t\t 0.7120%\t\t\t 0.0583%\t\t\t-1.0869\n",
      "C11H22     \t\t 0.6286%\t\t\t 0.0320%\t\t\t-1.2938\n",
      "C12H24     \t\t 0.8302%\t\t\t 0.0266%\t\t\t-1.4951\n",
      "C13H26     \t\t 1.0411%\t\t\t 0.0212%\t\t\t-1.6918\n",
      "C14H28     \t\t 1.2375%\t\t\t 0.0161%\t\t\t-1.8847\n",
      "C15H30     \t\t 1.3970%\t\t\t 0.0118%\t\t\t-2.0743\n",
      "C16H32     \t\t 1.5062%\t\t\t 0.0083%\t\t\t-2.2611\n",
      "C17H34     \t\t 1.5634%\t\t\t 0.0056%\t\t\t-2.4456\n",
      "C18H36     \t\t 1.5753%\t\t\t 0.0037%\t\t\t-2.6280\n",
      "C19H38     \t\t 1.5530%\t\t\t 0.0024%\t\t\t-2.8086\n",
      "C20H40     \t\t 1.5073%\t\t\t 0.0016%\t\t\t-2.9876\n",
      "C1H4       \t\t 0.0164%\t\t\t 0.1925%\t\t\t1.0694\n",
      "C2H6       \t\t 0.0107%\t\t\t 0.0631%\t\t\t0.7702\n",
      "C3H8       \t\t 0.0114%\t\t\t 0.0338%\t\t\t0.4726\n",
      "C4H10      \t\t 0.0162%\t\t\t 0.0380%\t\t\t0.3694\n",
      "C5H12      \t\t 0.0471%\t\t\t 0.0547%\t\t\t0.0647\n",
      "C6H14      \t\t 0.0815%\t\t\t 0.0508%\t\t\t-0.2056\n",
      "C7H16      \t\t 0.1332%\t\t\t 0.0468%\t\t\t-0.4538\n",
      "C8H18      \t\t 0.2078%\t\t\t 0.0428%\t\t\t-0.6865\n",
      "C9H20      \t\t 0.3113%\t\t\t 0.0385%\t\t\t-0.9080\n",
      "C10H22     \t\t 0.4475%\t\t\t 0.0339%\t\t\t-1.1208\n",
      "C11H24     \t\t 0.9951%\t\t\t 0.0469%\t\t\t-1.3268\n",
      "C12H26     \t\t 1.3036%\t\t\t 0.0387%\t\t\t-1.5274\n",
      "C13H28     \t\t 1.6207%\t\t\t 0.0306%\t\t\t-1.7234\n",
      "C14H30     \t\t 1.9099%\t\t\t 0.0232%\t\t\t-1.9158\n",
      "C15H32     \t\t 2.1391%\t\t\t 0.0168%\t\t\t-2.1049\n",
      "C16H34     \t\t 2.2908%\t\t\t 0.0117%\t\t\t-2.2914\n",
      "C17H36     \t\t 2.3649%\t\t\t 0.0079%\t\t\t-2.4755\n",
      "C18H38     \t\t 2.3734%\t\t\t 0.0052%\t\t\t-2.6576\n",
      "C19H40     \t\t 2.3329%\t\t\t 0.0034%\t\t\t-2.8380\n",
      "C20H42     \t\t 2.2595%\t\t\t 0.0022%\t\t\t-3.0168\n",
      "C21H44     \t\t 3.6174%\t\t\t 0.0023%\t\t\t-3.1942\n",
      "C22H46     \t\t 3.4437%\t\t\t 0.0015%\t\t\t-3.3703\n",
      "C23H48     \t\t 3.2630%\t\t\t 0.0009%\t\t\t-3.5454\n",
      "C24H50     \t\t 3.0819%\t\t\t 0.0006%\t\t\t-3.7195\n",
      "C25H52     \t\t 2.9046%\t\t\t 0.0004%\t\t\t-3.8926\n",
      "C26H54     \t\t 2.7337%\t\t\t 0.0002%\t\t\t-4.0650\n",
      "C27H56     \t\t 2.5703%\t\t\t 0.0001%\t\t\t-4.2366\n",
      "C28H58     \t\t 2.4152%\t\t\t 0.0001%\t\t\t-4.4075\n",
      "C29H60     \t\t 2.2684%\t\t\t 0.0001%\t\t\t-4.5778\n",
      "C30H62     \t\t 2.1300%\t\t\t 0.0000%\t\t\t-4.7476\n",
      "C31H64     \t\t 1.9996%\t\t\t 0.0000%\t\t\t-4.9168\n",
      "C32H66     \t\t 1.8769%\t\t\t 0.0000%\t\t\t-5.0855\n",
      "C33H68     \t\t 1.7616%\t\t\t 0.0000%\t\t\t-5.2538\n",
      "C34H70     \t\t 1.6534%\t\t\t 0.0000%\t\t\t-5.4217\n",
      "C35H72     \t\t 1.5516%\t\t\t 0.0000%\t\t\t-5.5892\n",
      "C36H74     \t\t 1.4562%\t\t\t 0.0000%\t\t\t-5.7563\n",
      "C37H76     \t\t 1.3665%\t\t\t 0.0000%\t\t\t-5.9231\n",
      "C38H78     \t\t 1.2824%\t\t\t 0.0000%\t\t\t-6.0896\n",
      "C39H80     \t\t 1.2034%\t\t\t 0.0000%\t\t\t-6.2558\n",
      "C40H82     \t\t 1.1293%\t\t\t 0.0000%\t\t\t-6.4218\n",
      "C41H84     \t\t 1.0598%\t\t\t 0.0000%\t\t\t-6.5874\n",
      "C42H86     \t\t 0.9945%\t\t\t 0.0000%\t\t\t-6.7529\n",
      "C43H88     \t\t 0.9332%\t\t\t 0.0000%\t\t\t-6.9181\n",
      "C44H90     \t\t 0.8758%\t\t\t 0.0000%\t\t\t-7.0831\n",
      "C45H92     \t\t 0.8218%\t\t\t 0.0000%\t\t\t-7.2479\n",
      "C46H94     \t\t 0.7712%\t\t\t 0.0000%\t\t\t-7.4125\n",
      "C47H96     \t\t 0.7237%\t\t\t 0.0000%\t\t\t-7.5769\n",
      "C48H98     \t\t 0.6791%\t\t\t 0.0000%\t\t\t-7.7412\n",
      "C49H100    \t\t 0.6373%\t\t\t 0.0000%\t\t\t-7.9053\n",
      "C50H102    \t\t 0.5980%\t\t\t 0.0000%\t\t\t-8.0693\n",
      "C51H104    \t\t 0.5612%\t\t\t 0.0000%\t\t\t-8.2331\n",
      "C52H106    \t\t 0.5266%\t\t\t 0.0000%\t\t\t-8.3968\n",
      "C53H108    \t\t 0.4942%\t\t\t 0.0000%\t\t\t-8.5603\n",
      "C54H110    \t\t 0.4638%\t\t\t 0.0000%\t\t\t-8.7237\n",
      "C55H112    \t\t 0.4352%\t\t\t 0.0000%\t\t\t-8.8871\n",
      "C56H114    \t\t 0.4084%\t\t\t 0.0000%\t\t\t-9.0503\n"
     ]
    }
   ],
   "source": [
    "print('Component\\t\\tLiquid: {:.4f}\\t\\t\\tVapor: {:.4f}\\t\\t\\tlog K'.format(model.L['out'].value,model.V['out'].value))\n",
    "print('-'*108)\n",
    "for i in model.x:\n",
    "    print('{:10s}'.format(i),'\\t\\t{:8.4%}\\t\\t\\t{:8.4%}\\t\\t\\t{:.4f}'.format(model.x[i].value,model.y[i].value,np.log10(model.y[i].value/model.x[i].value)))"
   ]
  },
  {
   "cell_type": "code",
   "execution_count": 36,
   "metadata": {},
   "outputs": [
    {
     "data": {
      "text/plain": [
       "[(473.15, 1.594178721742492e-05),\n",
       " (473.15, 1.594178733021147e-05),\n",
       " (473.15, 1.5941787354175736e-05),\n",
       " (473.15, 1.5941787380160162e-05),\n",
       " (473.15, 1.594178735275552e-05),\n",
       " (473.15, 1.5941787327820922e-05),\n",
       " (473.15, 1.594178735150207e-05),\n",
       " (473.15, 1.5941787315247287e-05),\n",
       " (473.15, 1.594178734796502e-05),\n",
       " (473.15, 1.5941787370856064e-05),\n",
       " (473.15, 1.59417873361847e-05),\n",
       " (473.15, 1.5941787360999104e-05),\n",
       " (473.15, 1.5941787328549845e-05),\n",
       " (473.15, 1.5941787347272912e-05),\n",
       " (473.15, 1.5941787370557377e-05),\n",
       " (473.15, 1.5941787338262284e-05),\n",
       " (473.15, 1.5941787357019564e-05),\n",
       " (473.15, 1.594178737752792e-05),\n",
       " (473.15, 1.594178734829503e-05),\n",
       " (473.15, 1.594178737149071e-05),\n",
       " (473.15, 1.594178733488257e-05),\n",
       " (473.15, 1.5941787360295874e-05),\n",
       " (473.15, 1.594178733257772e-05),\n",
       " (473.15, 1.594178735453526e-05),\n",
       " (473.15, 1.5941787321891566e-05),\n",
       " (473.15, 1.594178733820964e-05),\n",
       " (473.15, 1.5941787362202813e-05),\n",
       " (473.15, 1.5941787328960148e-05),\n",
       " (473.15, 1.5941787348839435e-05),\n",
       " (473.15, 1.594178737069462e-05),\n",
       " (473.15, 1.5941787344159717e-05)]"
      ]
     },
     "execution_count": 36,
     "metadata": {},
     "output_type": "execute_result"
    }
   ],
   "source": [
    "list(zip(rf_data['T'],rf_data['Q']))"
   ]
  },
  {
   "cell_type": "code",
   "execution_count": null,
   "metadata": {},
   "outputs": [],
   "source": []
  }
 ],
 "metadata": {
  "kernelspec": {
   "display_name": "Python 3",
   "language": "python",
   "name": "python3"
  },
  "language_info": {
   "codemirror_mode": {
    "name": "ipython",
    "version": 3
   },
   "file_extension": ".py",
   "mimetype": "text/x-python",
   "name": "python",
   "nbconvert_exporter": "python",
   "pygments_lexer": "ipython3",
   "version": "3.6.3"
  }
 },
 "nbformat": 4,
 "nbformat_minor": 2
}
