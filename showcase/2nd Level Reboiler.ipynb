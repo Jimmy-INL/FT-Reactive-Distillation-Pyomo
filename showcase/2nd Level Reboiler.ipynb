{
 "cells": [
  {
   "cell_type": "markdown",
   "metadata": {
    "slideshow": {
     "slide_type": "slide"
    }
   },
   "source": [
    "# 2nd Level Model Structure: Reboiler"
   ]
  },
  {
   "cell_type": "code",
   "execution_count": 1,
   "metadata": {},
   "outputs": [],
   "source": [
    "import sys\n",
    "import os\n",
    "import pickle\n",
    "sys.path.append(os.path.abspath('..'))\n",
    "import numpy as np\n",
    "from matplotlib import pyplot as plt"
   ]
  },
  {
   "cell_type": "code",
   "execution_count": 2,
   "metadata": {
    "slideshow": {
     "slide_type": "fragment"
    }
   },
   "outputs": [],
   "source": [
    "from pyomo import environ as pe\n",
    "from global_sets.component import m\n",
    "from utility.display_utility import trans_product_mole, trans_product_mass\n",
    "from utility.model_utility import add_dual, update_dual, check_DOF\n",
    "\n",
    "# stage construction rules\n",
    "from physics.energy_reboiler import energy_block_rule\n",
    "from physics.VLE_reboiler_MPCC_P import VLE_block_rule\n",
    "from physics.MPCC_P import P_NCP_block_rule, P_Reg_block_rule, P_pf_block_rule\n",
    "\n",
    "model = pe.ConcreteModel()"
   ]
  },
  {
   "cell_type": "markdown",
   "metadata": {
    "slideshow": {
     "slide_type": "subslide"
    }
   },
   "source": [
    "# Global Sets (Inlet / Outlet)"
   ]
  },
  {
   "cell_type": "code",
   "execution_count": 3,
   "metadata": {
    "slideshow": {
     "slide_type": "fragment"
    }
   },
   "outputs": [],
   "source": [
    "model.inlet = pe.Set(initialize=['in'])\n",
    "model.outlet = pe.Set(initialize=['out','P'])\n",
    "model.stream = model.inlet | model.outlet"
   ]
  },
  {
   "cell_type": "markdown",
   "metadata": {
    "slideshow": {
     "slide_type": "subslide"
    }
   },
   "source": [
    "# Global Variables"
   ]
  },
  {
   "cell_type": "code",
   "execution_count": 4,
   "metadata": {
    "slideshow": {
     "slide_type": "fragment"
    }
   },
   "outputs": [],
   "source": [
    "# Tray Inlet/Outlet Variable\n",
    "model.x_ = pe.Var(model.inlet,m.COMP_TOTAL,within=pe.NonNegativeReals)\n",
    "model.y_ = pe.Var(model.inlet,m.COMP_TOTAL,within=pe.NonNegativeReals)\n",
    "model.x = pe.Var(m.COMP_TOTAL,within=pe.NonNegativeReals)\n",
    "model.y = pe.Var(m.COMP_TOTAL,within=pe.NonNegativeReals)\n",
    "model.z = pe.Var(m.COMP_FEED,within=pe.NonNegativeReals)\n",
    "\n",
    "model.L = pe.Var(model.stream,within=pe.NonNegativeReals)\n",
    "model.V = pe.Var(model.stream,within=pe.NonNegativeReals)\n",
    "model.F = pe.Var(within=pe.NonNegativeReals)\n",
    "\n",
    "model.H_L_ = pe.Var(model.inlet,within=pe.Reals)\n",
    "model.H_V_ = pe.Var(model.inlet,within=pe.Reals)\n",
    "model.H_L = pe.Var(within=pe.Reals)\n",
    "model.H_V = pe.Var(within=pe.Reals)\n",
    "model.H_F = pe.Var(within=pe.Reals)\n",
    "\n",
    "# State Variable\n",
    "model.T = pe.Var(within=pe.NonNegativeReals,bounds=(200+273.15,350+273.15)) # K\n",
    "model.T_F = pe.Var(within=pe.NonNegativeReals) # K\n",
    "model.P = pe.Var(within=pe.NonNegativeReals,bounds=(10,30)) # Bar\n",
    "\n",
    "model.f_V = pe.Var(m.COMP_TOTAL,within=pe.NonNegativeReals,initialize=1e-20)\n",
    "model.f_L = pe.Var(m.COMP_TOTAL,within=pe.NonNegativeReals,initialize=1e-20)\n",
    "\n",
    "model.Q_main = pe.Var(within=pe.Reals) # MW"
   ]
  },
  {
   "cell_type": "markdown",
   "metadata": {
    "slideshow": {
     "slide_type": "slide"
    }
   },
   "source": [
    "# Construct Individual Blocks"
   ]
  },
  {
   "cell_type": "code",
   "execution_count": 5,
   "metadata": {
    "slideshow": {
     "slide_type": "subslide"
    }
   },
   "outputs": [
    {
     "name": "stdout",
     "output_type": "stream",
     "text": [
      "> Importing Energy Blocks......\n",
      "> Adding the following local variable:\n",
      "--------------------------------------------------\n",
      "| energy_block.dH_F\n",
      "| energy_block.dH_V\n",
      "| energy_block.dH_L\n",
      "| energy_block.dH_vap\n",
      "--------------------------------------------------\n",
      "\n"
     ]
    }
   ],
   "source": [
    "model.energy_block = pe.Block(rule=energy_block_rule)"
   ]
  },
  {
   "cell_type": "code",
   "execution_count": 6,
   "metadata": {
    "scrolled": false,
    "slideshow": {
     "slide_type": "subslide"
    }
   },
   "outputs": [
    {
     "name": "stdout",
     "output_type": "stream",
     "text": [
      "> Importing VLE Blocks......\n",
      "> Adding the following local variable:\n",
      "--------------------------------------------------\n",
      "| VLE_block.P_VLE\n",
      "| VLE_block.n_ave\n",
      "| VLE_block.n_ave_cal\n",
      "| VLE_block.Hen\n",
      "| VLE_block.Hen0\n",
      "| VLE_block.gamma\n",
      "| VLE_block.P_sat\n",
      "| VLE_block.P_sat_Y\n",
      "| VLE_block.P_sat_dY_inf\n",
      "| VLE_block.P_sat_dY0\n",
      "| VLE_block.Hen_ref\n",
      "| VLE_block.Hen0_ref\n",
      "| VLE_block.gamma_ref\n",
      "| VLE_block.V_L\n",
      "| VLE_block.V_L_dY_inf\n",
      "| VLE_block.V_L_dY0\n",
      "| VLE_block.poynting\n",
      "--------------------------------------------------\n",
      "\n"
     ]
    }
   ],
   "source": [
    "model.VLE_block = pe.Block(rule=VLE_block_rule)"
   ]
  },
  {
   "cell_type": "markdown",
   "metadata": {
    "slideshow": {
     "slide_type": "slide"
    }
   },
   "source": [
    "# Standard MESH Equations"
   ]
  },
  {
   "cell_type": "markdown",
   "metadata": {
    "slideshow": {
     "slide_type": "subslide"
    }
   },
   "source": [
    "## Mass Balance"
   ]
  },
  {
   "cell_type": "markdown",
   "metadata": {
    "slideshow": {
     "slide_type": "fragment"
    }
   },
   "source": [
    "\\begin{equation}\n",
    "Fz_{i}+\\sum_{s\\in{inlet}}L_{s}x'_{i,s}+\\sum_{s\\in{inlet}}V_{s}y'_{i,s}-\\sum_{s\\in{outlet}}L_{s}x_{i,s}+\\sum_{s\\in{ouelet}}V_{s}y_{i,s}+R_{i} = 0 \\\\\n",
    "i = 1,...NC\n",
    "\\end{equation}"
   ]
  },
  {
   "cell_type": "code",
   "execution_count": 7,
   "metadata": {
    "slideshow": {
     "slide_type": "fragment"
    }
   },
   "outputs": [],
   "source": [
    "def mass_balance_main_rule(model,i):\n",
    "    if i in m.COMP_FEED:\n",
    "        return model.F*model.z[i] + sum(model.L[s]*model.x_[s,i] + model.V[s]*model.y_[s,i] for s in model.inlet)\\\n",
    "        - sum(model.L[s]*model.x[i] + model.V[s]*model.y[i] for s in model.outlet) == 0\n",
    "    else:\n",
    "        return sum(model.L[s]*model.x_[s,i] + model.V[s]*model.y_[s,i] for s in model.inlet)\\\n",
    "        - sum(model.L[s]*model.x[i] + model.V[s]*model.y[i] for s in model.outlet) == 0\n",
    "model.mass_balance_main_con = pe.Constraint(m.COMP_TOTAL,rule=mass_balance_main_rule)"
   ]
  },
  {
   "cell_type": "markdown",
   "metadata": {
    "slideshow": {
     "slide_type": "subslide"
    }
   },
   "source": [
    "## Equilibrium"
   ]
  },
  {
   "cell_type": "markdown",
   "metadata": {
    "slideshow": {
     "slide_type": "fragment"
    }
   },
   "source": [
    "\\begin{align}\n",
    "&f_{i,V} = f_{i,L} \\\\\n",
    "&i = 1,...NC\n",
    "\\end{align}"
   ]
  },
  {
   "cell_type": "code",
   "execution_count": 8,
   "metadata": {
    "slideshow": {
     "slide_type": "fragment"
    }
   },
   "outputs": [],
   "source": [
    "def VL_equil_rule(model,i):\n",
    "    return model.f_V[i] == model.f_L[i]\n",
    "model.VL_equil_con = pe.Constraint(m.COMP_TOTAL,rule=VL_equil_rule)"
   ]
  },
  {
   "cell_type": "markdown",
   "metadata": {},
   "source": [
    "# MPCC - P-Pspec"
   ]
  },
  {
   "cell_type": "code",
   "execution_count": 9,
   "metadata": {},
   "outputs": [
    {
     "name": "stdout",
     "output_type": "stream",
     "text": [
      "> Importing MPCC_P_NCP Blocks......\n",
      "> Adding the following local variable:\n",
      "--------------------------------------------------\n",
      "| MPCC.s_L\n",
      "| MPCC.s_V\n",
      "| MPCC.epi\n",
      "--------------------------------------------------\n",
      "> Adding complementarity constraint, spliting pressure used in VLE\n",
      "\n"
     ]
    }
   ],
   "source": [
    "model.MPCC = pe.Block(rule = P_NCP_block_rule)"
   ]
  },
  {
   "cell_type": "markdown",
   "metadata": {
    "slideshow": {
     "slide_type": "subslide"
    }
   },
   "source": [
    "## Summation"
   ]
  },
  {
   "cell_type": "markdown",
   "metadata": {
    "slideshow": {
     "slide_type": "fragment"
    }
   },
   "source": [
    "\\begin{equation}\n",
    "\\sum_ix_{i} = \\sum_iy_{i} \\\\\n",
    "F + L_{in} + V_{in} + R = L_{out} + V_{out}\n",
    "\\end{equation}"
   ]
  },
  {
   "cell_type": "code",
   "execution_count": 10,
   "metadata": {
    "slideshow": {
     "slide_type": "fragment"
    }
   },
   "outputs": [],
   "source": [
    "def summation_x_y_rule(model):\n",
    "    return sum(model.x[i] for i in m.COMP_TOTAL) == sum(model.y[i] for i in m.COMP_TOTAL)\n",
    "model.summation_x_y_con = pe.Constraint(rule=summation_x_y_rule)\n",
    "\n",
    "def summation_total_mass_rule(model):\n",
    "    return model.F + sum(model.L[s] + model.V[s] for s in model.inlet)\\\n",
    "            - sum(model.L[s] + model.V[s] for s in model.outlet) == 0\n",
    "model.summation_total_mass_con = pe.Constraint(rule=summation_total_mass_rule)"
   ]
  },
  {
   "cell_type": "markdown",
   "metadata": {
    "slideshow": {
     "slide_type": "subslide"
    }
   },
   "source": [
    "## Energy Balance"
   ]
  },
  {
   "cell_type": "markdown",
   "metadata": {
    "slideshow": {
     "slide_type": "fragment"
    }
   },
   "source": [
    "\\begin{equation}\n",
    "F H_f+\\sum_{s\\in{inlet}}L_{s}H_{l,s}+\\sum_{s\\in{inlet}}V_{s}H_{v,s}-\\sum_{s\\in{outlet}}L_{s}H_{l,s}-\\sum_{s\\in{outlet}}V_{s}H_{v,s}+Q = 0\n",
    "\\end{equation}"
   ]
  },
  {
   "cell_type": "code",
   "execution_count": 11,
   "metadata": {
    "slideshow": {
     "slide_type": "fragment"
    }
   },
   "outputs": [],
   "source": [
    "def heat_balance_main_rule(model):\n",
    "    return model.F*model.H_F + sum(model.L[s]*model.H_L_[s] + model.V[s]*model.H_V_[s] for s in model.inlet) \\\n",
    "            + model.Q_main - sum(model.L[s]*model.H_L + model.V[s]*model.H_V for s in model.outlet) == 0\n",
    "model.heat_balance_main_con = pe.Constraint(rule=heat_balance_main_rule)"
   ]
  },
  {
   "cell_type": "markdown",
   "metadata": {
    "slideshow": {
     "slide_type": "slide"
    }
   },
   "source": [
    "# Testing"
   ]
  },
  {
   "cell_type": "code",
   "execution_count": 12,
   "metadata": {
    "slideshow": {
     "slide_type": "fragment"
    }
   },
   "outputs": [
    {
     "name": "stdout",
     "output_type": "stream",
     "text": [
      "Created the follow pyomo suffixes:\n",
      "ipopt_zL_out, ipopt_zU_out, ipopt_zL_in, ipopt_zU_in, dual\n"
     ]
    }
   ],
   "source": [
    "add_dual(pe,model)"
   ]
  },
  {
   "cell_type": "markdown",
   "metadata": {},
   "source": [
    "# Load a flash liquid composition as feed"
   ]
  },
  {
   "cell_type": "code",
   "execution_count": 13,
   "metadata": {},
   "outputs": [],
   "source": [
    "with open('../saved_solutions/reactive_flash_MPCC_P_pf_200C.pickle', 'rb') as f:\n",
    "    C200 = pickle.load(f)"
   ]
  },
  {
   "cell_type": "markdown",
   "metadata": {
    "slideshow": {
     "slide_type": "fragment"
    }
   },
   "source": [
    "## Fixing In/Product Redundent Flow"
   ]
  },
  {
   "cell_type": "code",
   "execution_count": 14,
   "metadata": {
    "slideshow": {
     "slide_type": "fragment"
    }
   },
   "outputs": [],
   "source": [
    "model.y_.fix(0)\n",
    "for i in m.COMP_TOTAL:\n",
    "    model.x_['in',i].fix(C200.Solution.Variable['x[{}]'.format(i)]['Value'])\n",
    "\n",
    "# model.L['in'].fix(1)\n",
    "model.L['in'].setlb(1e-9)\n",
    "# model.L['in'].setub(1e-8)\n",
    "\n",
    "model.L['P'].fix(0)\n",
    "model.V['in'].fix(0)\n",
    "model.V['P'].fix(0)\n",
    "model.H_V_.fix(0)\n",
    "model.H_L_.fix(C200.Solution.Variable['H_L']['Value'])"
   ]
  },
  {
   "cell_type": "markdown",
   "metadata": {
    "slideshow": {
     "slide_type": "subslide"
    }
   },
   "source": [
    "## Fixing Model Parameters"
   ]
  },
  {
   "cell_type": "code",
   "execution_count": 15,
   "metadata": {
    "slideshow": {
     "slide_type": "fragment"
    }
   },
   "outputs": [],
   "source": [
    "model.P.fix(20)\n",
    "model.T_F.fix(200+273.15)\n",
    "model.F.fix(0)\n",
    "model.z.fix(0)\n",
    "model.VLE_block.n_ave.fix(20)\n",
    "# model.Q_main.fix(0)"
   ]
  },
  {
   "cell_type": "markdown",
   "metadata": {},
   "source": [
    "# kappa"
   ]
  },
  {
   "cell_type": "code",
   "execution_count": 16,
   "metadata": {
    "scrolled": false
   },
   "outputs": [
    {
     "name": "stdout",
     "output_type": "stream",
     "text": [
      "mass_balance_main_con\n",
      "VL_equil_con\n",
      "summation_x_y_con\n",
      "summation_total_mass_con\n",
      "heat_balance_main_con\n",
      "energy_block.dH_V_con\n",
      "energy_block.H_V_con\n",
      "energy_block.dH_vap_con\n",
      "energy_block.dH_L_con\n",
      "energy_block.H_L_con\n",
      "energy_block.dH_F_con\n",
      "energy_block.H_F_con\n",
      "VLE_block.f_L_HENRY_con\n",
      "VLE_block.Hen_con\n",
      "VLE_block.Hen0_con\n",
      "VLE_block.Hen_ref_con\n",
      "VLE_block.Hen0_ref_con\n",
      "VLE_block.f_L_NONHENRY_con\n",
      "VLE_block.gamma_con\n",
      "VLE_block.gamma_ref_con\n",
      "VLE_block.n_ave_con\n",
      "VLE_block.P_sat_con\n",
      "VLE_block.P_sat_con2\n",
      "VLE_block.P_sat_dY_inf_con\n",
      "VLE_block.P_sat_dY0_con\n",
      "VLE_block.f_V_con\n",
      "VLE_block.V_L_nonHen_con\n",
      "VLE_block.V_L_dY_inf_con\n",
      "VLE_block.V_L_dY0_con\n",
      "VLE_block.V_L_Hen_con\n",
      "VLE_block.V_L_H2O_con\n",
      "VLE_block.poynting_con\n",
      "MPCC.s_L_complementarity_con\n",
      "MPCC.s_V_complementarity_con\n",
      "MPCC.pressure_equal_con\n"
     ]
    }
   ],
   "source": [
    "for i in model.component_objects(pe.Constraint, active=True):\n",
    "    print(i.name)"
   ]
  },
  {
   "cell_type": "code",
   "execution_count": 17,
   "metadata": {},
   "outputs": [],
   "source": [
    "model.big_beta = pe.Var(within=pe.NonNegativeReals,initialize=1)\n",
    "model.big_epi = pe.Param(initialize=1e-5,mutable = True)"
   ]
  },
  {
   "cell_type": "code",
   "execution_count": 18,
   "metadata": {},
   "outputs": [],
   "source": [
    "all_expression = []\n",
    "for i in model.component_data_objects(pe.Constraint, active=True):\n",
    "    if i.name.startswith('summation_x_y_con') or i.name.startswith('mass_balance_main_con'):\n",
    "        all_expression.append(i.body)\n",
    "        i.deactivate()"
   ]
  },
  {
   "cell_type": "code",
   "execution_count": 19,
   "metadata": {},
   "outputs": [],
   "source": [
    "model.test_list = pe.ConstraintList()\n",
    "for i in all_expression:\n",
    "    model.test_list.add(expr = i*model.big_beta==0);"
   ]
  },
  {
   "cell_type": "code",
   "execution_count": 20,
   "metadata": {},
   "outputs": [
    {
     "name": "stdout",
     "output_type": "stream",
     "text": [
      "WARNING: Implicitly replacing the Component attribute complementarity_con (type=<class 'pyomo.core.base.constraint.SimpleConstraint'>) on block unknown with a new Component (type=<class 'pyomo.core.base.constraint.SimpleConstraint'>).\n",
      "\tThis is usually indicative of a modelling error.\n",
      "\tTo avoid this warning, use block.del_component() and block.add_component().\n"
     ]
    }
   ],
   "source": [
    "model.complementarity_con = pe.Constraint(expr = 2*model.big_beta == \\\n",
    "                            model.L['in'] - model.big_epi + ((model.big_epi - model.L['in'])**2+1e-10)**0.5)\n",
    "model.complementarity_con = pe.Constraint(expr = model.big_beta == model.L['in'])"
   ]
  },
  {
   "cell_type": "markdown",
   "metadata": {
    "slideshow": {
     "slide_type": "subslide"
    }
   },
   "source": [
    "## Fix T or to fix Q? we have found that Maximize against an upper bound is most reliable"
   ]
  },
  {
   "cell_type": "code",
   "execution_count": 21,
   "metadata": {
    "slideshow": {
     "slide_type": "fragment"
    }
   },
   "outputs": [],
   "source": [
    "model.T.fix(350+273.15)"
   ]
  },
  {
   "cell_type": "code",
   "execution_count": 22,
   "metadata": {},
   "outputs": [
    {
     "name": "stdout",
     "output_type": "stream",
     "text": [
      "Active Equality Constraints:\t 960\n",
      "Active Inequality Constraints:\t 0\n",
      "Active Variables:\t\t 1132\n",
      "Fixed Variables:\t\t 171\n",
      "DOF:\t\t\t\t 1\n"
     ]
    }
   ],
   "source": [
    "check_DOF(pe,model)"
   ]
  },
  {
   "cell_type": "code",
   "execution_count": 23,
   "metadata": {
    "slideshow": {
     "slide_type": "fragment"
    }
   },
   "outputs": [],
   "source": [
    "# model.obj = pe.Objective(expr = - model.L['in'] - model.MPCC.pf ,sense=pe.maximize)\n",
    "model.obj = pe.Objective(expr = - model.L['in'] ,sense=pe.maximize)"
   ]
  },
  {
   "cell_type": "code",
   "execution_count": 24,
   "metadata": {
    "scrolled": false,
    "slideshow": {
     "slide_type": "fragment"
    }
   },
   "outputs": [
    {
     "name": "stdout",
     "output_type": "stream",
     "text": [
      "Ipopt 3.12.8: print_user_options=yes\n",
      "linear_solver=ma86\n",
      "linear_system_scaling =mc19\n",
      "linear_scaling_on_demand =no\n",
      "max_iter=7000\n",
      "\n",
      "\n",
      "List of user-set options:\n",
      "\n",
      "                                    Name   Value                used\n",
      "                linear_scaling_on_demand = no                    yes\n",
      "                           linear_solver = ma86                  yes\n",
      "                   linear_system_scaling = mc19                  yes\n",
      "                                max_iter = 7000                  yes\n",
      "                      print_user_options = yes                   yes\n",
      "\n",
      "******************************************************************************\n",
      "This program contains Ipopt, a library for large-scale nonlinear optimization.\n",
      " Ipopt is released as open source code under the Eclipse Public License (EPL).\n",
      "         For more information visit http://projects.coin-or.org/Ipopt\n",
      "******************************************************************************\n",
      "\n",
      "This is Ipopt version 3.12.8, running with linear solver ma86.\n",
      "\n",
      "Number of nonzeros in equality constraint Jacobian...:     3135\n",
      "Number of nonzeros in inequality constraint Jacobian.:        0\n",
      "Number of nonzeros in Lagrangian Hessian.............:     4402\n",
      "\n",
      "Total number of variables............................:      961\n",
      "                     variables with only lower bounds:      326\n",
      "                variables with lower and upper bounds:      627\n",
      "                     variables with only upper bounds:        0\n",
      "Total number of equality constraints.................:      960\n",
      "Total number of inequality constraints...............:        0\n",
      "        inequality constraints with only lower bounds:        0\n",
      "   inequality constraints with lower and upper bounds:        0\n",
      "        inequality constraints with only upper bounds:        0\n",
      "\n",
      "iter    objective    inf_pr   inf_du lg(mu)  ||d||  lg(rg) alpha_du alpha_pr  ls\n",
      "   0  9.9999910e-03 1.39e+04 1.00e+00  -1.0 0.00e+00    -  0.00e+00 0.00e+00   0\n",
      "   1  9.0585193e-03 1.39e+04 9.38e+00  -1.0 1.43e+04    -  9.39e-04 5.74e-04h  1\n",
      "   2r 9.0585193e-03 1.39e+04 9.99e+02   4.1 0.00e+00    -  0.00e+00 3.65e-07R  5\n",
      "   3r 9.0305823e-03 1.39e+04 9.99e+02   4.1 3.05e+05    -  4.72e-05 4.16e-07f  1\n",
      "   4r 9.0705053e-03 1.33e+04 9.97e+02   2.7 2.48e+05    -  2.86e-03 2.35e-03f  1\n",
      "   5r 9.4634874e-03 4.70e+03 9.89e+02   2.7 1.06e+06    -  1.29e-03 8.08e-03f  1\n",
      "   6  3.7549285e-02 4.65e+03 3.16e+02  -1.0 4.70e+03    -  3.56e-03 1.04e-02h  1\n",
      "   7  3.7954082e-02 4.65e+03 3.85e+02  -1.0 4.65e+03    -  1.69e-02 1.41e-04h  1\n",
      "   8r 3.7954082e-02 4.65e+03 9.99e+02   3.7 0.00e+00    -  0.00e+00 3.54e-07R  3\n",
      "   9r 3.7964057e-02 4.65e+03 1.63e+03   3.7 4.93e+05    -  2.22e-03 3.17e-06f  1\n",
      "iter    objective    inf_pr   inf_du lg(mu)  ||d||  lg(rg) alpha_du alpha_pr  ls\n",
      "  10r 3.8271421e-02 5.07e+02 1.89e+03   2.3 4.86e+05    -  1.51e-02 9.48e-03f  1\n",
      "  11  3.8813942e-02 5.07e+02 9.30e+02  -1.0 2.00e+03    -  2.00e-02 1.70e-04h  1\n",
      "  12r 3.8813942e-02 5.07e+02 9.99e+02   2.7 0.00e+00    -  0.00e+00 4.27e-07R  3\n",
      "  13r 3.8814909e-02 5.07e+02 9.99e+02   2.7 2.27e+04    -  7.26e-03 5.68e-05f  1\n",
      "  14r 3.9484845e-02 5.04e+02 9.88e+02   2.7 9.36e+03    -  1.01e-02 1.12e-02f  1\n",
      "  15r 3.9917888e-02 4.99e+02 4.80e+03   2.7 2.21e+03    -  4.85e-02 1.46e-02f  1\n",
      "  16r 3.9673034e-02 4.99e+02 4.77e+03   2.0 2.94e+04   0.0 2.33e-04 9.43e-05f  1\n",
      "  17r 3.9484008e-02 4.86e+02 5.70e+03   2.0 7.82e+02    -  3.06e-02 1.88e-02f  1\n",
      "  18r 4.0001381e-02 4.32e+02 1.57e+03   2.0 6.71e+02    -  1.45e-02 8.14e-02f  1\n",
      "  19  3.8469672e-02 3.96e+02 3.44e+03  -1.0 2.50e+03    -  2.64e-02 8.32e-02h  1\n",
      "iter    objective    inf_pr   inf_du lg(mu)  ||d||  lg(rg) alpha_du alpha_pr  ls\n",
      "  20  3.8047503e-02 3.66e+02 3.42e+03  -1.0 5.15e+02    -  8.39e-02 7.62e-02h  1\n",
      "  21  3.8083184e-02 3.52e+02 3.24e+03  -1.0 5.82e+02    -  1.35e-01 3.81e-02h  1\n",
      "  22  3.7466965e-02 3.19e+02 4.05e+03  -1.0 3.52e+02    -  1.69e-01 9.23e-02h  1\n",
      "  23  3.8421738e-02 2.69e+02 1.33e+05  -1.0 3.84e+02    -  2.53e-01 1.56e-01h  1\n",
      "  24  3.8665709e-02 2.27e+02 7.97e+06  -1.0 2.69e+02    -  3.02e-02 1.56e-01h  1\n",
      "  25  4.0268626e-02 1.58e+02 1.41e+06  -1.0 2.27e+02    -  4.09e-01 3.06e-01h  1\n",
      "  26  4.1712461e-02 4.13e+01 2.96e+06  -1.0 1.59e+02    -  1.12e-01 8.69e-01h  1\n",
      "  27  3.2429950e-02 1.28e+01 5.84e+05  -1.0 7.38e+01    -  3.53e-01 7.07e-01h  1\n",
      "  28  2.6125415e-02 7.46e-01 1.54e+04  -1.0 7.69e+01    -  6.50e-01 1.00e+00h  1\n",
      "  29  1.9380347e-02 1.67e-01 6.61e+02  -1.0 4.03e+01    -  9.90e-01 1.00e+00h  1\n",
      "iter    objective    inf_pr   inf_du lg(mu)  ||d||  lg(rg) alpha_du alpha_pr  ls\n",
      "  30  7.1474876e-03 8.50e-02 1.61e+03  -1.0 1.01e+01    -  9.94e-01 1.00e+00h  1\n",
      "  31  3.7567459e-03 5.98e-03 2.09e+03  -1.0 2.70e+00    -  1.00e+00 1.00e+00h  1\n",
      "  32  1.9503743e-03 2.39e-03 4.05e+03  -1.0 1.93e+00    -  8.17e-01 1.00e+00h  1\n",
      "  33  1.4180708e-03 1.10e-03 3.57e+03  -1.7 4.04e+00    -  6.05e-01 5.00e-01h  2\n",
      "  34  1.3162262e-03 9.89e-04 1.46e+04  -1.7 6.97e+00    -  1.00e+00 1.25e-01h  4\n",
      "  35  1.2882619e-03 9.60e-04 1.39e+04  -1.7 1.73e+01    -  1.00e+00 3.12e-02h  6\n",
      "  36  1.2620515e-03 9.31e-04 1.35e+04  -1.7 1.47e+01    -  1.00e+00 3.12e-02h  6\n",
      "  37  1.2119568e-03 8.79e-04 1.27e+04  -1.7 1.33e+01    -  1.00e+00 6.25e-02h  5\n",
      "  38  1.1650110e-03 8.30e-04 1.19e+04  -1.7 1.19e+01    -  1.00e+00 6.25e-02h  5\n",
      "  39  1.1209481e-03 7.84e-04 1.12e+04  -1.7 1.06e+01    -  1.00e+00 6.25e-02h  5\n",
      "iter    objective    inf_pr   inf_du lg(mu)  ||d||  lg(rg) alpha_du alpha_pr  ls\n",
      "  40  1.0792902e-03 7.40e-04 1.05e+04  -1.7 9.69e+00    -  1.00e+00 6.25e-02h  5\n",
      "  41  1.0399302e-03 6.98e-04 9.90e+03  -1.7 8.64e+00    -  1.00e+00 6.25e-02h  5\n",
      "  42  1.0025749e-03 6.59e-04 9.31e+03  -1.7 7.81e+00    -  1.00e+00 6.25e-02h  5\n",
      "  43  4.3556980e-04 4.98e-03 5.13e+03  -1.7 6.90e+00    -  1.00e+00 1.00e+00w  1\n",
      "  44  2.4753364e-04 7.81e-03 6.03e+03  -1.7 8.22e+00    -  1.00e+00 1.00e+00w  1\n",
      "  45  1.0345991e-04 1.55e-02 1.10e+04  -2.5 8.17e+00    -  6.68e-01 1.00e+00h  1\n",
      "  46  5.1241293e-05 1.00e-02 8.07e+03  -2.5 1.74e+00    -  1.00e+00 1.00e+00h  1\n",
      "  47  3.1088296e-05 3.00e-02 6.46e+03  -2.5 1.13e+01    -  8.04e-01 1.00e+00h  1\n",
      "  48  1.4975601e-05 3.97e-02 1.61e+04  -2.5 3.23e+00    -  1.00e+00 1.00e+00h  1\n",
      "  49  9.8052047e-06 5.21e-02 1.86e+04  -2.5 1.54e+01    -  7.94e-01 1.00e+00h  1\n",
      "iter    objective    inf_pr   inf_du lg(mu)  ||d||  lg(rg) alpha_du alpha_pr  ls\n",
      "  50  7.7322479e-06 3.86e-02 1.92e+04  -2.5 1.23e+01    -  1.00e+00 5.00e-01h  2\n",
      "  51  7.4902023e-06 3.49e-02 1.79e+04  -2.5 1.92e+01    -  9.84e-01 1.23e-01h  4\n",
      "  52  7.4047368e-06 3.30e-02 1.72e+04  -2.5 2.01e+01    -  1.00e+00 5.85e-02h  5\n",
      "  53  7.2906232e-06 3.12e-02 1.66e+04  -2.5 1.84e+01    -  1.00e+00 6.22e-02h  5\n",
      "  54  7.2658782e-06 3.07e-02 1.64e+04  -2.5 1.86e+01    -  1.00e+00 1.53e-02h  7\n",
      "  55  7.2501941e-06 3.05e-02 1.63e+04  -2.5 1.74e+01    -  1.00e+00 7.81e-03h  8\n",
      "  56  4.5303340e-06 4.33e-02 2.42e+05  -2.5 1.71e+01    -  1.00e+00 1.00e+00H  1\n",
      "  57  6.7996941e-06 5.63e-02 2.55e+05  -2.5 2.78e+01    -  7.66e-01 5.60e-01h  1\n",
      "  58  7.7053346e-06 5.73e-02 2.35e+05  -2.5 4.68e+01    -  1.92e-01 8.19e-02h  4\n",
      "  59  7.2683962e-06 5.82e-03 2.12e+05  -2.5 4.01e+01    -  1.62e-01 1.17e-01H  1\n",
      "iter    objective    inf_pr   inf_du lg(mu)  ||d||  lg(rg) alpha_du alpha_pr  ls\n",
      "  60  6.8011046e-06 6.25e-03 1.86e+05  -3.8 1.08e+01    -  3.22e-01 1.25e-01h  4\n",
      "  61  9.1286259e-06 3.77e-02 2.04e+05  -3.8 2.19e+02    -  3.18e-02 4.95e-02h  2\n",
      "  62  8.4126916e-06 3.66e-02 1.85e+05  -3.8 1.50e+01    -  5.45e-01 9.66e-02h  4\n",
      "  63  7.1679815e-06 2.74e-02 9.16e+04  -3.8 5.93e+00  -4.0 1.00e+00 5.00e-01h  2\n",
      "  64  7.3208688e-06 1.88e-04 4.72e+02  -3.8 3.41e-01  -3.6 1.00e+00 1.00e+00h  1\n",
      "  65  7.2955345e-06 4.74e-07 3.72e+01  -5.7 5.25e-02    -  1.00e+00 1.00e+00h  1\n",
      "  66  8.9144919e-06 1.50e-02 1.15e+01  -5.7 1.01e+02    -  1.51e-01 4.65e-02h  3\n",
      "  67  9.1452129e-06 3.35e-05 5.83e+01  -5.7 3.59e-01  -4.1 1.00e+00 1.00e+00h  1\n",
      "  68  9.3680882e-06 2.34e-04 6.47e+01  -5.7 4.61e-01    -  1.00e+00 1.00e+00h  1\n",
      "  69  1.2292248e-05 1.33e-02 8.10e+01  -5.7 5.70e+00    -  1.00e+00 1.00e+00H  1\n",
      "iter    objective    inf_pr   inf_du lg(mu)  ||d||  lg(rg) alpha_du alpha_pr  ls\n",
      "  70  1.1547011e-05 1.12e-03 7.09e+00  -5.7 9.97e-01    -  1.00e+00 1.00e+00h  1\n",
      "  71  1.1770063e-05 1.60e-04 2.24e-01  -5.7 3.42e-01    -  1.00e+00 1.00e+00h  1\n",
      "  72  1.1792515e-05 1.14e-06 1.34e-03  -5.7 2.76e-02    -  1.00e+00 1.00e+00h  1\n",
      "  73  1.0252451e-05 6.88e-03 4.93e+00  -8.6 2.17e+00    -  8.77e-01 1.00e+00h  1\n",
      "  74  7.6237401e-06 2.75e-02 1.51e+00  -8.6 4.66e+00    -  8.37e-01 1.00e+00h  1\n",
      "  75  2.0488839e-06 1.77e-01 4.86e+00  -8.6 1.57e+01    -  8.98e-01 9.28e-01h  1\n"
     ]
    },
    {
     "name": "stdout",
     "output_type": "stream",
     "text": [
      "  76  6.5170916e-06 1.43e-01 8.14e+02  -8.6 2.68e+02    -  3.91e-02 1.51e-01h  1\n",
      "  77  3.0254404e-06 2.34e-02 1.34e+03  -8.6 2.51e+01    -  1.26e-01 1.00e+00h  1\n",
      "  78  2.1093239e-06 1.99e-03 1.71e+01  -8.6 1.96e+01    -  4.14e-01 1.00e+00h  1\n",
      "  79  1.2576191e-06 5.60e-03 3.52e+01  -8.6 1.29e+02    -  2.52e-01 4.54e-01H  1\n",
      "iter    objective    inf_pr   inf_du lg(mu)  ||d||  lg(rg) alpha_du alpha_pr  ls\n",
      "  80  1.3557302e-06 5.51e-03 3.43e+01  -8.6 3.16e+02    -  6.48e-02 6.06e-02f  1\n",
      "  81  1.4552173e-06 5.68e-03 5.34e+01  -8.6 2.55e+03    -  5.03e-03 5.14e-03f  2\n",
      "  82  1.3566773e-06 5.83e-03 5.13e+01  -8.6 2.34e+03    -  9.95e-03 4.50e-03h  2\n",
      "  83  1.2580446e-06 6.01e-03 4.24e+01  -8.6 1.40e+04    -  9.04e-04 9.04e-04s 12\n",
      "  84r 1.2580446e-06 6.01e-03 9.99e+02  -2.2 0.00e+00    -  0.00e+00 0.00e+00R  1\n",
      "  85r 3.6909259e-06 6.00e-03 9.99e+02  -2.2 1.43e+03    -  1.53e-07 4.26e-07f  9\n",
      "  86r 1.2819932e-06 5.95e-03 9.98e+02  -2.2 2.97e+02    -  1.01e-03 8.17e-06f  1\n",
      "  87r 5.2607376e-06 1.24e-03 9.97e+02  -2.2 1.09e+02    -  9.59e-04 2.00e-03f  1\n",
      "  88r 1.2949043e-05 1.02e-03 9.91e+02  -2.2 6.02e+01    -  6.34e-03 3.09e-03f  1\n",
      "  89r 2.4903660e-05 1.89e-03 9.68e+02  -2.2 2.41e+01    -  2.27e-02 1.06e-02f  1\n",
      "iter    objective    inf_pr   inf_du lg(mu)  ||d||  lg(rg) alpha_du alpha_pr  ls\n",
      "  90r 2.7709308e-05 6.70e-03 9.23e+02  -2.2 8.31e+00    -  8.39e-02 3.66e-02f  1\n",
      "  91r 5.2462714e-06 3.12e-02 7.90e+02  -2.2 6.13e+00    -  1.27e-01 1.48e-01f  1\n",
      "  92r 2.9965699e-05 1.20e-01 9.32e+02  -2.2 7.01e+00    -  2.07e-01 5.16e-01f  1\n",
      "  93r 1.2654137e-05 9.44e-02 3.81e+02  -2.2 3.70e+00    -  3.95e-01 1.32e-01h  1\n",
      "  94r 1.8784138e-05 9.43e-03 2.85e+02  -2.2 3.62e+00    -  1.00e+00 1.00e+00h  1\n",
      "  95r 2.5299565e-05 1.42e-03 6.51e+01  -2.2 1.85e-01    -  1.00e+00 1.00e+00h  1\n",
      "  96r 3.1642404e-05 2.87e-05 1.86e+00  -2.2 8.75e-02    -  1.00e+00 1.00e+00h  1\n",
      "  97r 3.1649780e-05 2.87e-05 1.22e-02  -2.2 9.44e-03    -  1.00e+00 1.00e+00h  1\n",
      "  98r 2.4464640e-05 2.30e-02 2.65e+01  -5.0 1.05e+01    -  8.87e-01 8.22e-01f  1\n",
      "  99r 1.2099708e-05 8.93e-04 2.52e+02  -5.0 1.16e+00    -  8.43e-01 9.91e-01f  1\n",
      "iter    objective    inf_pr   inf_du lg(mu)  ||d||  lg(rg) alpha_du alpha_pr  ls\n",
      " 100r 9.9727580e-06 3.74e-03 4.65e+00  -5.0 5.38e-01    -  1.00e+00 1.00e+00h  1\n",
      " 101r 9.2713659e-06 1.53e-02 8.04e+00  -5.0 8.29e-01    -  1.00e+00 1.00e+00h  1\n",
      " 102r 9.1901135e-06 3.77e-03 2.62e+01  -5.0 2.36e-01    -  1.00e+00 1.00e+00h  1\n",
      " 103r 9.1952282e-06 1.07e-04 4.09e+00  -5.0 2.38e-02    -  1.00e+00 1.00e+00h  1\n",
      " 104  8.6964051e-06 2.73e-04 9.44e-01  -8.6 2.36e+02    -  4.91e-01 5.43e-02h  2\n",
      " 105  7.6161063e-06 4.63e-04 8.33e-01  -8.6 1.32e+02    -  1.00e+00 1.25e-01h  1\n",
      " 106  6.8828665e-07 4.61e-03 7.34e+01  -8.6 6.49e+01    -  7.72e-01 9.13e-01f  1\n",
      " 107  6.9293064e-07 3.40e-03 6.15e+01  -8.6 7.12e+02    -  6.78e-04 3.34e-03h  2\n",
      " 108  6.8804821e-07 3.27e-03 8.98e+02  -8.6 1.34e+02  -4.5 4.02e-02 1.17e-02h  3\n",
      " 109  6.7650269e-07 3.11e-03 1.04e+03  -8.6 5.08e+02    -  6.90e-02 2.14e-02h  1\n",
      "iter    objective    inf_pr   inf_du lg(mu)  ||d||  lg(rg) alpha_du alpha_pr  ls\n",
      " 110  6.7589501e-07 2.99e-03 1.11e+03  -8.6 1.77e+03    -  1.38e-03 9.79e-03h  3\n",
      " 111  6.7834707e-07 2.99e-03 1.07e+03  -8.6 3.58e+04    -  4.02e-03 2.74e-04h  5\n",
      " 112  6.8304419e-07 2.97e-03 8.71e+02  -8.6 1.40e+04    -  6.70e-04 1.27e-03h  4\n",
      " 113  6.8612723e-07 2.97e-03 8.12e+02  -8.6 5.42e+04    -  3.20e-03 1.58e-04h  5\n",
      " 114  6.8937949e-07 2.97e-03 7.55e+02  -8.6 6.79e+04    -  4.14e-04 1.18e-04h  5\n",
      " 115  6.9107043e-07 2.97e-03 7.41e+02  -8.6 1.36e+05    -  1.56e-03 2.70e-05h  6\n",
      " 116  6.9803211e-07 2.97e-03 5.26e+02  -8.6 5.81e+04    -  8.14e-04 2.49e-04h  4\n",
      " 117  6.7885302e-07 2.61e-03 4.52e+03  -8.6 1.23e+02  -5.0 6.97e-02 5.82e-02h  1\n",
      " 118  6.8312899e-07 2.58e-03 4.73e+03  -8.6 7.88e+02    -  9.45e-08 1.03e-02f  4\n",
      " 119  7.3518468e-07 2.63e-03 1.10e+04  -8.6 4.17e+03    -  2.85e-02 1.25e-02h  1\n",
      "iter    objective    inf_pr   inf_du lg(mu)  ||d||  lg(rg) alpha_du alpha_pr  ls\n",
      " 120  7.0802399e-07 2.63e-03 1.15e+04  -8.6 2.15e+03    -  5.49e-03 3.59e-03f  2\n",
      " 121  7.6450551e-07 2.32e-03 3.38e+04  -8.6 6.20e+01  -5.5 2.62e-02 1.23e-01h  1\n",
      " 122  6.9442992e-07 2.03e-03 2.93e+04  -8.6 2.13e+02    -  2.55e-01 1.22e-01h  1\n",
      " 123  7.1999692e-07 5.22e-04 5.45e+05  -8.6 1.13e+02    -  1.66e-03 1.00e+00f  1\n",
      " 124  4.7479739e-07 1.20e-04 1.51e+05  -8.6 2.19e+01    -  1.00e+00 8.26e-01h  1\n",
      " 125  2.3375921e-07 5.82e-06 5.19e+04  -8.6 2.52e+01    -  1.20e-02 1.00e+00h  1\n",
      " 126  2.0439891e-07 3.09e-04 3.60e+04  -8.6 7.84e+01    -  5.46e-01 3.50e-01h  1\n",
      " 127  1.9075985e-07 2.92e-04 3.48e+04  -8.6 8.90e+01    -  2.45e-01 5.93e-02f  3\n",
      " 128  1.1446918e-07 1.48e-04 1.00e+05  -8.6 7.41e+01    -  1.00e+00 4.96e-01h  1\n",
      " 129  1.1850263e-07 2.63e-04 9.83e+04  -8.6 3.78e+02    -  3.23e-02 4.59e-02h  1\n",
      "iter    objective    inf_pr   inf_du lg(mu)  ||d||  lg(rg) alpha_du alpha_pr  ls\n",
      " 130r 1.1850263e-07 2.63e-04 9.99e+02  -3.6 0.00e+00    -  0.00e+00 6.53e-10R  2\n",
      " 131r 1.2014988e-07 2.34e-04 9.99e+02  -3.6 1.84e+03    -  1.23e-04 9.38e-05f  1\n",
      " 132  1.2033784e-07 2.33e-04 1.46e+00  -8.6 2.90e+02    -  2.35e-01 6.42e-03h  1\n",
      " 133r 1.2033784e-07 2.33e-04 9.99e+02  -3.6 0.00e+00    -  0.00e+00 3.00e-11R  2\n",
      " 134r 1.3001569e-07 2.14e-04 9.83e+02  -3.6 3.11e+01    -  1.59e-02 9.71e-04f  1\n",
      " 135r 1.6746256e-07 3.72e-04 8.18e+02  -3.6 4.19e+00    -  1.70e-01 1.69e-02f  1\n",
      " 136r 2.4592784e-07 3.46e-03 7.96e+02  -3.6 2.74e+00    -  2.39e-02 8.70e-02f  1\n",
      " 137r 3.3394728e-07 1.42e-02 6.91e+02  -3.6 1.45e+00    -  1.33e-01 1.73e-01f  1\n",
      " 138r 3.6343482e-07 1.63e-02 6.09e+02  -3.6 1.00e+00    -  1.18e-01 1.50e-01h  1\n",
      " 139r 4.5138261e-07 3.41e-02 1.87e+02  -3.6 1.07e+00    -  1.00e+00 6.45e-01h  1\n",
      "iter    objective    inf_pr   inf_du lg(mu)  ||d||  lg(rg) alpha_du alpha_pr  ls\n",
      " 140r 5.4605362e-07 1.72e-03 1.09e+01  -3.6 6.42e-01    -  1.00e+00 1.00e+00h  1\n",
      " 141r 5.3956904e-07 1.68e-05 2.78e-02  -3.6 3.01e-02    -  1.00e+00 1.00e+00h  1\n",
      " 142  2.5775719e-07 1.58e-01 1.66e+03  -8.6 5.12e+02    -  2.15e-01 5.01e-01h  1\n",
      " 143  2.5760314e-07 1.58e-01 1.66e+03  -8.6 4.90e+03    -  7.69e-03 1.52e-04h  1\n",
      " 144  6.5121159e-08 2.34e-01 3.02e+06  -8.6 1.41e+02    -  1.88e-06 1.00e+00f  1\n",
      " 145  5.4735831e-08 1.13e-01 3.00e+06  -8.6 4.30e+02    -  7.70e-03 1.00e+00H  1\n",
      " 146  3.1265521e-08 4.64e-03 2.85e+05  -8.6 3.72e+02    -  7.94e-01 1.00e+00h  1\n",
      " 147  2.4704105e-08 3.93e-03 2.07e+05  -8.6 6.26e+02    -  8.99e-01 5.00e-01h  2\n",
      " 148  2.3581386e-08 3.70e-03 1.88e+05  -8.6 7.64e+02    -  8.97e-01 1.25e-01h  4\n",
      " 149  2.2560275e-08 3.55e-03 1.72e+05  -8.6 7.92e+02    -  1.00e+00 1.25e-01h  4\n",
      "iter    objective    inf_pr   inf_du lg(mu)  ||d||  lg(rg) alpha_du alpha_pr  ls\n",
      " 150  2.1640903e-08 3.49e-03 1.59e+05  -8.6 8.13e+02    -  1.00e+00 1.25e-01h  4\n",
      " 151  2.1233384e-08 3.38e-03 1.51e+05  -8.6 8.25e+02    -  1.00e+00 6.25e-02h  5\n",
      " 152  2.0852225e-08 3.29e-03 1.43e+05  -8.6 8.26e+02    -  1.00e+00 6.25e-02h  5\n",
      " 153  2.0498463e-08 3.22e-03 1.36e+05  -8.6 8.23e+02    -  1.00e+00 6.25e-02h  5\n",
      " 154  2.0173626e-08 3.16e-03 1.30e+05  -8.6 8.15e+02    -  1.00e+00 6.25e-02h  5\n",
      " 155  1.9879682e-08 3.12e-03 1.24e+05  -8.6 8.01e+02    -  1.00e+00 6.25e-02h  5\n",
      " 156  1.9624831e-08 3.10e-03 1.18e+05  -8.6 7.79e+02    -  1.00e+00 6.12e-02h  5\n",
      " 157  1.6403218e-08 4.04e-02 4.13e+05  -8.6 7.47e+02    -  1.00e+00 9.01e-01w  1\n",
      " 158  1.0824141e-08 5.45e-04 1.92e+05  -8.6 1.14e+03    -  1.00e+00 1.00e+00w  1\n",
      " 159  1.3165869e-08 4.89e-03 1.10e+05  -8.6 1.11e+03    -  1.00e+00 3.44e-01w  1\n",
      "iter    objective    inf_pr   inf_du lg(mu)  ||d||  lg(rg) alpha_du alpha_pr  ls\n",
      " 160  1.9423480e-08 3.08e-03 1.13e+05  -8.6 3.77e+02    -  1.00e+00 5.63e-02h  4\n",
      " 161  1.9269882e-08 3.07e-03 1.09e+05  -8.6 7.08e+02    -  1.00e+00 5.19e-02h  5\n",
      " 162  1.9159587e-08 3.06e-03 1.05e+05  -8.6 6.60e+02    -  1.00e+00 4.77e-02h  5\n",
      " 163  1.9088725e-08 3.05e-03 1.01e+05  -8.6 6.03e+02    -  1.00e+00 4.40e-02h  5\n",
      " 164  1.9071602e-08 3.02e-03 9.89e+04  -8.6 5.37e+02    -  1.00e+00 2.02e-02h  6\n",
      " 165  1.9062916e-08 2.99e-03 9.71e+04  -8.6 5.00e+02    -  1.00e+00 1.94e-02h  6\n",
      " 166  1.9062410e-08 2.96e-03 9.54e+04  -8.6 4.61e+02    -  1.00e+00 1.86e-02h  6\n",
      " 167  1.9069761e-08 2.93e-03 9.38e+04  -8.6 4.20e+02    -  1.00e+00 1.79e-02h  6\n",
      " 168  1.9084550e-08 2.91e-03 9.22e+04  -8.6 3.78e+02    -  1.00e+00 1.72e-02h  6\n",
      " 169  1.9106287e-08 2.89e-03 9.07e+04  -8.6 3.34e+02    -  1.00e+00 1.65e-02h  6\n",
      "iter    objective    inf_pr   inf_du lg(mu)  ||d||  lg(rg) alpha_du alpha_pr  ls\n",
      " 170  1.9994349e-08 2.60e-02 5.89e+04  -8.6 2.93e+02    -  1.00e+00 5.11e-01w  1\n",
      " 171  1.8280783e-08 3.84e-03 1.99e+05  -8.6 4.26e+02    -  1.00e+00 1.00e+00w  1\n",
      " 172  1.8750856e-08 2.09e-03 1.00e+05  -8.6 4.30e+01    -  1.00e+00 4.64e-01w  1\n",
      " 173  1.9134039e-08 2.86e-03 8.93e+04  -8.6 1.92e+02    -  1.00e+00 1.60e-02h  5\n",
      " 174  1.9166263e-08 2.84e-03 8.79e+04  -8.6 2.59e+02    -  1.00e+00 1.56e-02h  6\n",
      " 175  1.9199963e-08 2.82e-03 8.65e+04  -8.6 2.44e+02    -  1.00e+00 1.56e-02h  6\n",
      " 176  1.9229707e-08 2.80e-03 8.51e+04  -8.6 2.66e+02    -  1.00e+00 1.61e-02h  6\n",
      " 177  1.9263705e-08 2.78e-03 8.23e+04  -8.6 3.36e+02    -  1.00e+00 3.51e-02h  5\n"
     ]
    },
    {
     "name": "stdout",
     "output_type": "stream",
     "text": [
      " 178  1.9271944e-08 2.75e-03 7.94e+04  -8.6 3.90e+02    -  1.00e+00 3.83e-02h  5\n",
      " 179  1.9237698e-08 2.71e-03 7.65e+04  -8.6 4.69e+02    -  1.00e+00 4.33e-02h  5\n",
      "iter    objective    inf_pr   inf_du lg(mu)  ||d||  lg(rg) alpha_du alpha_pr  ls\n",
      " 180  1.9162203e-08 2.65e-03 7.35e+04  -8.6 5.31e+02    -  1.00e+00 4.81e-02h  5\n",
      " 181  1.9060959e-08 2.57e-03 7.06e+04  -8.6 5.62e+02    -  1.00e+00 5.14e-02h  5\n",
      " 182  1.8836589e-08 2.54e-03 6.66e+04  -8.6 5.71e+02    -  1.00e+00 1.06e-01h  4\n",
      " 183  1.7905369e-08 1.35e-02 1.57e+05  -8.6 4.72e+02    -  1.00e+00 7.74e-01w  1\n",
      " 184  1.7131266e-08 1.38e-03 7.83e+04  -8.6 2.82e+02    -  1.00e+00 1.00e+00w  1\n",
      " 185  2.0075660e-08 1.63e-05 5.05e+04  -8.6 4.56e+02    -  1.00e+00 1.00e+00w  1\n",
      " 186  1.8720186e-08 2.49e-03 6.24e+04  -8.6 1.31e+03    -  1.00e+00 9.67e-02h  3\n",
      " 187  1.8595397e-08 2.42e-03 5.84e+04  -8.6 4.62e+02    -  1.00e+00 9.98e-02h  4\n",
      " 188  1.8464795e-08 2.32e-03 5.46e+04  -8.6 4.50e+02    -  1.00e+00 1.03e-01h  4\n",
      " 189  1.8456660e-08 2.30e-03 5.42e+04  -8.6 4.32e+02    -  1.00e+00 6.55e-03h  8\n",
      "iter    objective    inf_pr   inf_du lg(mu)  ||d||  lg(rg) alpha_du alpha_pr  ls\n",
      " 190  1.8446761e-08 2.30e-03 5.40e+04  -8.6 5.77e+02    -  1.00e+00 3.91e-03h  9\n",
      " 191  1.8446252e-08 2.29e-03 5.40e+04  -8.6 5.37e+02    -  1.00e+00 2.34e-04h 13\n",
      " 192  1.8445972e-08 2.29e-03 5.40e+04  -8.6 5.54e+02    -  1.00e+00 1.20e-04h 14\n",
      " 193  1.8445938e-08 2.29e-03 5.40e+04  -8.6 5.50e+02    -  1.00e+00 1.49e-05h 17\n",
      " 194  1.9218890e-08 1.50e-03 5.29e+04  -8.6 5.52e+02    -  1.00e+00 9.22e-01H  1\n",
      " 195  2.2139009e-08 2.14e-05 7.87e+04  -8.6 3.65e+02    -  8.98e-01 1.00e+00h  1\n",
      " 196  2.2592876e-08 2.10e-06 3.59e+03  -8.6 7.67e-01  -6.0 7.31e-03 1.00e+00h  1\n",
      " 197  2.2592414e-08 2.24e-09 4.57e+01  -8.6 3.66e-02  -6.4 1.00e+00 1.00e+00h  1\n",
      " 198  2.2387713e-08 7.96e-10 2.26e+00  -8.6 2.01e+01    -  1.00e+00 1.00e+00h  1\n",
      " 199  1.0966979e-08 4.72e-07 2.73e+01  -8.6 1.14e+03    -  1.00e+00 1.00e+00h  1\n",
      "iter    objective    inf_pr   inf_du lg(mu)  ||d||  lg(rg) alpha_du alpha_pr  ls\n",
      " 200  5.6084664e-09 5.64e-08 5.16e+01  -8.6 2.10e+03    -  1.00e+00 1.00e+00h  1\n",
      " 201  2.6040085e-09 2.18e-08 1.15e+02  -8.6 3.91e+03    -  1.00e+00 1.00e+00h  1\n",
      " 202  1.3620060e-09 1.85e-06 2.12e+02  -8.6 6.98e+03    -  1.00e+00 1.00e+00h  1\n",
      " 203  3.0609421e-09 1.09e-06 3.14e+04  -8.6 4.15e-01  -6.9 1.00e+00 1.00e+00h  1\n",
      " 204  3.0509376e-09 7.49e-08 1.96e+02  -8.6 1.08e-01  -7.4 1.00e+00 1.00e+00h  1\n",
      " 205  3.0528703e-09 7.23e-08 1.71e+02  -8.6 2.61e-01  -7.9 1.00e+00 1.25e-01h  4\n",
      " 206  3.0543482e-09 7.00e-08 1.50e+02  -8.6 2.61e-01  -8.3 1.00e+00 1.25e-01h  4\n",
      " 207  3.0534387e-09 9.23e-09 3.56e-01  -8.6 3.83e-02  -8.8 1.00e+00 1.00e+00h  1\n",
      "\n",
      "Number of Iterations....: 207\n",
      "\n",
      "                                   (scaled)                 (unscaled)\n",
      "Objective...............:   3.0534387213443954e-09    3.0534387213443954e-09\n",
      "Dual infeasibility......:   3.5609497276328156e-01    3.5609497276328156e-01\n",
      "Constraint violation....:   9.2296062875751872e-09    9.2296062875751872e-09\n",
      "Complementarity.........:   2.5059035596800936e-09    2.5059035596800936e-09\n",
      "Overall NLP error.......:   9.2296062875751872e-09    3.5609497276328156e-01\n",
      "\n",
      "\n",
      "Number of objective function evaluations             = 756\n",
      "Number of objective gradient evaluations             = 175\n",
      "Number of equality constraint evaluations            = 756\n",
      "Number of inequality constraint evaluations          = 0\n",
      "Number of equality constraint Jacobian evaluations   = 214\n",
      "Number of inequality constraint Jacobian evaluations = 0\n",
      "Number of Lagrangian Hessian evaluations             = 207\n",
      "Total CPU secs in IPOPT (w/o function evaluations)   =      8.467\n",
      "Total CPU secs in NLP function evaluations           =      0.602\n",
      "\n",
      "EXIT: Optimal Solution Found.\n"
     ]
    }
   ],
   "source": [
    "opt = pe.SolverFactory('ipopt')\n",
    "\n",
    "opt.options['print_user_options'] = 'yes'\n",
    "opt.options['linear_solver'] = 'ma86'\n",
    "\n",
    "opt.options['linear_system_scaling '] = 'mc19'\n",
    "opt.options['linear_scaling_on_demand '] = 'no'\n",
    "# opt.options['recalc_y'] = 'yes'\n",
    "# opt.options['bound_relax_factor'] = 0\n",
    "# opt.options['halt_on_ampl_error'] = 'yes'\n",
    "\n",
    "opt.options['max_iter'] = 7000\n",
    "results = opt.solve(model,tee=True)\n",
    "update_dual(pe,model)"
   ]
  },
  {
   "cell_type": "code",
   "execution_count": 25,
   "metadata": {
    "scrolled": true,
    "slideshow": {
     "slide_type": "skip"
    }
   },
   "outputs": [
    {
     "data": {
      "text/plain": [
       "5.078551930369931e-07"
      ]
     },
     "execution_count": 25,
     "metadata": {},
     "output_type": "execute_result"
    }
   ],
   "source": [
    "model.Q_main.value"
   ]
  },
  {
   "cell_type": "code",
   "execution_count": 26,
   "metadata": {},
   "outputs": [
    {
     "data": {
      "text/plain": [
       "3.0534387213443954e-09"
      ]
     },
     "execution_count": 26,
     "metadata": {},
     "output_type": "execute_result"
    }
   ],
   "source": [
    "model.big_beta.value"
   ]
  },
  {
   "cell_type": "code",
   "execution_count": 27,
   "metadata": {},
   "outputs": [
    {
     "data": {
      "text/plain": [
       "3.0534387213443954e-09"
      ]
     },
     "execution_count": 27,
     "metadata": {},
     "output_type": "execute_result"
    }
   ],
   "source": [
    "model.L['in'].value"
   ]
  },
  {
   "cell_type": "code",
   "execution_count": 28,
   "metadata": {
    "slideshow": {
     "slide_type": "skip"
    }
   },
   "outputs": [
    {
     "data": {
      "text/plain": [
       "623.15"
      ]
     },
     "execution_count": 28,
     "metadata": {},
     "output_type": "execute_result"
    }
   ],
   "source": [
    "model.T.value"
   ]
  },
  {
   "cell_type": "code",
   "execution_count": 29,
   "metadata": {},
   "outputs": [],
   "source": [
    "# model.solutions.store_to(results)\n",
    "# with open('../saved_solutions/reboiler_MPCC_P_pf_200C.pickle','wb') as f:\n",
    "#     pickle.dump(results,f)"
   ]
  },
  {
   "cell_type": "code",
   "execution_count": 30,
   "metadata": {
    "scrolled": false,
    "slideshow": {
     "slide_type": "slide"
    }
   },
   "outputs": [
    {
     "name": "stdout",
     "output_type": "stream",
     "text": [
      "Component\t\tLiquid: 0.0000\t\t\tVapor: 0.0000\t\t\tlog K\n",
      "------------------------------------------------------------------------------------------------------------\n",
      "H2         \t\t 0.0052%\t\t\t 1.7648%\t\t\t2.5345\n",
      "CO         \t\t 0.0086%\t\t\t 2.6753%\t\t\t2.4913\n",
      "CO2        \t\t 0.0367%\t\t\t 7.4226%\t\t\t2.3058\n",
      "H2O        \t\t 0.0459%\t\t\t 7.1687%\t\t\t2.1935\n",
      "C2H4       \t\t 0.0002%\t\t\t 0.0345%\t\t\t2.2248\n",
      "C3H6       \t\t 0.0009%\t\t\t 0.0881%\t\t\t2.0055\n",
      "C4H8       \t\t 0.0007%\t\t\t 0.0905%\t\t\t2.0857\n",
      "C5H10      \t\t 0.0021%\t\t\t 0.1424%\t\t\t1.8277\n",
      "C6H12      \t\t 0.0059%\t\t\t 0.2469%\t\t\t1.6214\n",
      "C7H14      \t\t 0.0143%\t\t\t 0.4018%\t\t\t1.4478\n",
      "C8H16      \t\t 0.0314%\t\t\t 0.6222%\t\t\t1.2969\n",
      "C9H18      \t\t 0.0634%\t\t\t 0.9218%\t\t\t1.1624\n",
      "C10H20     \t\t 0.1190%\t\t\t 1.3067%\t\t\t1.0405\n",
      "C11H22     \t\t 0.1328%\t\t\t 1.1258%\t\t\t0.9283\n",
      "C12H24     \t\t 0.2168%\t\t\t 1.4455%\t\t\t0.8240\n",
      "C13H26     \t\t 0.3296%\t\t\t 1.7546%\t\t\t0.7262\n",
      "C14H28     \t\t 0.4672%\t\t\t 2.0099%\t\t\t0.6337\n",
      "C15H30     \t\t 0.6196%\t\t\t 2.1766%\t\t\t0.5457\n",
      "C16H32     \t\t 0.7741%\t\t\t 2.2404%\t\t\t0.4615\n",
      "C17H34     \t\t 0.9194%\t\t\t 2.2091%\t\t\t0.3807\n",
      "C18H36     \t\t 1.0480%\t\t\t 2.1042%\t\t\t0.3027\n",
      "C19H38     \t\t 1.1561%\t\t\t 1.9511%\t\t\t0.2273\n",
      "C20H40     \t\t 1.2430%\t\t\t 1.7722%\t\t\t0.1540\n",
      "C1H4       \t\t 0.0002%\t\t\t 0.0327%\t\t\t2.3216\n",
      "C2H6       \t\t 0.0001%\t\t\t 0.0213%\t\t\t2.2089\n",
      "C3H8       \t\t 0.0002%\t\t\t 0.0226%\t\t\t2.0555\n",
      "C4H10      \t\t 0.0003%\t\t\t 0.0322%\t\t\t2.0371\n",
      "C5H12      \t\t 0.0015%\t\t\t 0.0928%\t\t\t1.7886\n",
      "C6H14      \t\t 0.0041%\t\t\t 0.1591%\t\t\t1.5881\n",
      "C7H16      \t\t 0.0098%\t\t\t 0.2569%\t\t\t1.4185\n",
      "C8H18      \t\t 0.0212%\t\t\t 0.3950%\t\t\t1.2704\n",
      "C9H20      \t\t 0.0423%\t\t\t 0.5810%\t\t\t1.1380\n",
      "C10H22     \t\t 0.0785%\t\t\t 0.8175%\t\t\t1.0177\n",
      "C11H24     \t\t 0.2197%\t\t\t 1.7726%\t\t\t0.9068\n",
      "C12H26     \t\t 0.3545%\t\t\t 2.2554%\t\t\t0.8036\n",
      "C13H28     \t\t 0.5329%\t\t\t 2.7116%\t\t\t0.7066\n",
      "C14H30     \t\t 0.7468%\t\t\t 3.0763%\t\t\t0.6148\n",
      "C15H32     \t\t 0.9801%\t\t\t 3.3014%\t\t\t0.5274\n",
      "C16H34     \t\t 1.2133%\t\t\t 3.3713%\t\t\t0.4438\n",
      "C17H36     \t\t 1.4301%\t\t\t 3.3023%\t\t\t0.3634\n",
      "C18H38     \t\t 1.6200%\t\t\t 3.1289%\t\t\t0.2859\n",
      "C19H40     \t\t 1.7782%\t\t\t 2.8891%\t\t\t0.2108\n",
      "C20H42     \t\t 1.9043%\t\t\t 2.6157%\t\t\t0.1379\n",
      "C21H44     \t\t 3.3398%\t\t\t 3.8957%\t\t\t0.0669\n",
      "C22H46     \t\t 3.4533%\t\t\t 3.4342%\t\t\t-0.0024\n",
      "C23H48     \t\t 3.5255%\t\t\t 2.9997%\t\t\t-0.0701\n",
      "C24H50     \t\t 3.5614%\t\t\t 2.6009%\t\t\t-0.1365\n",
      "C25H52     \t\t 3.5658%\t\t\t 2.2416%\t\t\t-0.2016\n",
      "C26H54     \t\t 3.5429%\t\t\t 1.9221%\t\t\t-0.2656\n",
      "C27H56     \t\t 3.4968%\t\t\t 1.6412%\t\t\t-0.3285\n",
      "C28H58     \t\t 3.4312%\t\t\t 1.3962%\t\t\t-0.3905\n",
      "C29H60     \t\t 3.3497%\t\t\t 1.1841%\t\t\t-0.4516\n",
      "C30H62     \t\t 3.2553%\t\t\t 1.0015%\t\t\t-0.5120\n",
      "C31H64     \t\t 3.1509%\t\t\t 0.8450%\t\t\t-0.5716\n",
      "C32H66     \t\t 3.0390%\t\t\t 0.7116%\t\t\t-0.6305\n",
      "C33H68     \t\t 2.9218%\t\t\t 0.5982%\t\t\t-0.6888\n",
      "C34H70     \t\t 2.8013%\t\t\t 0.5021%\t\t\t-0.7465\n",
      "C35H72     \t\t 2.6791%\t\t\t 0.4210%\t\t\t-0.8037\n",
      "C36H74     \t\t 2.5566%\t\t\t 0.3526%\t\t\t-0.8604\n",
      "C37H76     \t\t 2.4350%\t\t\t 0.2950%\t\t\t-0.9167\n",
      "C38H78     \t\t 2.3152%\t\t\t 0.2467%\t\t\t-0.9725\n",
      "C39H80     \t\t 2.1979%\t\t\t 0.2061%\t\t\t-1.0279\n",
      "C40H82     \t\t 2.0838%\t\t\t 0.1722%\t\t\t-1.0829\n",
      "C41H84     \t\t 1.9732%\t\t\t 0.1438%\t\t\t-1.1376\n",
      "C42H86     \t\t 1.8665%\t\t\t 0.1200%\t\t\t-1.1919\n",
      "C43H88     \t\t 1.7640%\t\t\t 0.1001%\t\t\t-1.2459\n",
      "C44H90     \t\t 1.6657%\t\t\t 0.0836%\t\t\t-1.2996\n",
      "C45H92     \t\t 1.5718%\t\t\t 0.0697%\t\t\t-1.3531\n",
      "C46H94     \t\t 1.4822%\t\t\t 0.0582%\t\t\t-1.4063\n",
      "C47H96     \t\t 1.3970%\t\t\t 0.0485%\t\t\t-1.4592\n",
      "C48H98     \t\t 1.3160%\t\t\t 0.0405%\t\t\t-1.5119\n",
      "C49H100    \t\t 1.2391%\t\t\t 0.0338%\t\t\t-1.5644\n",
      "C50H102    \t\t 1.1663%\t\t\t 0.0282%\t\t\t-1.6167\n",
      "C51H104    \t\t 1.0974%\t\t\t 0.0235%\t\t\t-1.6688\n",
      "C52H106    \t\t 1.0322%\t\t\t 0.0196%\t\t\t-1.7207\n",
      "C53H108    \t\t 0.9707%\t\t\t 0.0164%\t\t\t-1.7724\n",
      "C54H110    \t\t 0.9126%\t\t\t 0.0137%\t\t\t-1.8239\n",
      "C55H112    \t\t 0.8578%\t\t\t 0.0114%\t\t\t-1.8753\n",
      "C56H114    \t\t 0.8061%\t\t\t 0.0095%\t\t\t-1.9265\n"
     ]
    }
   ],
   "source": [
    "print('Component\\t\\tLiquid: {:.4f}\\t\\t\\tVapor: {:.4f}\\t\\t\\tlog K'.format(model.L['out'].value,model.V['out'].value))\n",
    "print('-'*108)\n",
    "for i in model.x:\n",
    "    print('{:10s}'.format(i),'\\t\\t{:8.4%}\\t\\t\\t{:8.4%}\\t\\t\\t{:.4f}'.format(model.x[i].value,model.y[i].value,np.log10(model.y[i].value/model.x[i].value)))"
   ]
  },
  {
   "cell_type": "markdown",
   "metadata": {
    "slideshow": {
     "slide_type": "slide"
    }
   },
   "source": [
    "# Iterative Solve for Data Analysis"
   ]
  },
  {
   "cell_type": "code",
   "execution_count": null,
   "metadata": {},
   "outputs": [],
   "source": [
    "update_dual(pe,model)"
   ]
  },
  {
   "cell_type": "code",
   "execution_count": null,
   "metadata": {},
   "outputs": [],
   "source": [
    "opt.options['warm_start_init_point'] = 'yes'\n",
    "opt.options['warm_start_bound_push'] = 1e-20\n",
    "opt.options['warm_start_mult_bound_push'] = 1e-20\n",
    "opt.options['mu_init'] = 1e-6"
   ]
  },
  {
   "cell_type": "code",
   "execution_count": null,
   "metadata": {
    "scrolled": false,
    "slideshow": {
     "slide_type": "fragment"
    }
   },
   "outputs": [],
   "source": [
    "rf_data = {}\n",
    "rf_data['T'] = []; rf_data['Q'] = []; rf_data['V'] = []; rf_data['L'] = []; \n",
    "rf_data['y_CO'] = []; rf_data['y_H2'] = []; rf_data['y_CO2'] = []; rf_data['y_H2O'] = [];\n",
    "rf_data['f_V_CO'] = []; rf_data['f_V_H2'] = [];\n",
    "    \n",
    "Trange = np.arange(350+273.15,199+273.15,-5)\n",
    "\n",
    "for Tub in Trange:\n",
    "    model.T.setub(Tub)\n",
    "    results = opt.solve(model,tee=False)\n",
    "    update_dual(pe,model)\n",
    "    # print('-'*72)\n",
    "    print('Solved, Solution T = {:.2f} K\\t|\\tV = {:.5f}\\t|\\tL = {:.5f}\\t|'.format(model.T.value,model.V['out'].value,model.L['out'].value))\n",
    "    # print('-'*72)\n",
    "    rf_data['T'].append(model.T.value)\n",
    "    rf_data['Q'].append(model.Q_main.value)\n",
    "    rf_data['V'].append(model.V['out'].value)\n",
    "    rf_data['L'].append(model.L['out'].value)    \n",
    "    \n",
    "    \n",
    "    rf_data['y_H2O'].append(model.y['H2O'].value)\n",
    "    rf_data['y_CO'].append(model.y['CO'].value)\n",
    "    rf_data['y_H2'].append(model.y['H2'].value)\n",
    "    rf_data['y_CO2'].append(model.y['CO2'].value)\n",
    "    \n",
    "    rf_data['f_V_CO'].append(model.f_V['CO'].value)\n",
    "    rf_data['f_V_H2'].append(model.f_V['H2'].value)"
   ]
  },
  {
   "cell_type": "markdown",
   "metadata": {},
   "source": [
    "# VLE Validation using AspenPlus"
   ]
  },
  {
   "cell_type": "markdown",
   "metadata": {},
   "source": [
    "### Feed (Reactor Effluent)"
   ]
  },
  {
   "cell_type": "code",
   "execution_count": null,
   "metadata": {},
   "outputs": [],
   "source": [
    "print('Temperature (C): \\t{:.2f}\\t\\t'.format(model.T.value-273.15))\n",
    "print('Total FLow (kmol/s): \\t{:.2f}\\t\\t'.format(model.L['out'].value+model.V['out'].value))\n",
    "print('-'*72)\n",
    "for i in model.x:\n",
    "    print('{:10s}'.format(i),'\\t\\t{:.4%}'.format((model.x[i].value*model.L['out'].value\\\n",
    "        +model.y[i].value*model.V['out'].value)/(model.L['out'].value+model.V['out'].value)))"
   ]
  },
  {
   "cell_type": "markdown",
   "metadata": {},
   "source": [
    "### Phase Separation"
   ]
  },
  {
   "cell_type": "code",
   "execution_count": null,
   "metadata": {
    "scrolled": false
   },
   "outputs": [],
   "source": [
    "print('Component\\t\\tLiquid: {:.4f}\\t\\t\\tVapor: {:.4f}\\t\\t\\tlog K'.format(model.L['out'].value,model.V['out'].value))\n",
    "print('-'*108)\n",
    "for i in model.x:\n",
    "    print('{:10s}'.format(i),'\\t\\t{:8.4%}\\t\\t\\t{:8.4%}\\t\\t\\t{:.4f}'.format(model.x[i].value,model.y[i].value,np.log10(model.y[i].value/model.x[i].value)))"
   ]
  },
  {
   "cell_type": "code",
   "execution_count": null,
   "metadata": {},
   "outputs": [],
   "source": [
    "list(zip(rf_data['T'],rf_data['Q']))"
   ]
  },
  {
   "cell_type": "code",
   "execution_count": null,
   "metadata": {},
   "outputs": [],
   "source": []
  }
 ],
 "metadata": {
  "kernelspec": {
   "display_name": "Python 3",
   "language": "python",
   "name": "python3"
  },
  "language_info": {
   "codemirror_mode": {
    "name": "ipython",
    "version": 3
   },
   "file_extension": ".py",
   "mimetype": "text/x-python",
   "name": "python",
   "nbconvert_exporter": "python",
   "pygments_lexer": "ipython3",
   "version": "3.6.3"
  }
 },
 "nbformat": 4,
 "nbformat_minor": 2
}
