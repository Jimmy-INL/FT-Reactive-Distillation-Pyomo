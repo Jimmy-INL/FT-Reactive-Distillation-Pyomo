{
 "cells": [
  {
   "cell_type": "markdown",
   "metadata": {},
   "source": [
    "# 3rd Level Model Structure: Single Stage Reactive Distillation"
   ]
  },
  {
   "cell_type": "code",
   "execution_count": null,
   "metadata": {},
   "outputs": [],
   "source": [
    "import sys\n",
    "import os\n",
    "import pickle\n",
    "sys.path.append(os.path.abspath('..'))\n",
    "\n",
    "import numpy as np\n",
    "from matplotlib import pyplot as plt\n",
    "import ipywidgets as widgets"
   ]
  },
  {
   "cell_type": "code",
   "execution_count": null,
   "metadata": {},
   "outputs": [],
   "source": [
    "from pyomo import environ as pe\n",
    "from modules.global_set import m\n",
    "\n",
    "from stages.reactive_stage import reactive_stage_rule\n",
    "from stages.condenser_stage import condenser_stage_rule\n",
    "\n",
    "from utility.display_utility import trans_product_mole, trans_product_mass, beautify2\n",
    "from utility.model_utility import add_dual, update_dual, check_DOF\n",
    "from utility.data_utility import cal_cnumber\n",
    "\n",
    "model = pe.ConcreteModel()"
   ]
  },
  {
   "cell_type": "markdown",
   "metadata": {},
   "source": [
    "# Global Set"
   ]
  },
  {
   "cell_type": "code",
   "execution_count": null,
   "metadata": {},
   "outputs": [],
   "source": [
    "model.TRAY = pe.RangeSet(1,3)"
   ]
  },
  {
   "cell_type": "markdown",
   "metadata": {},
   "source": [
    "# Construct Reactive Stages"
   ]
  },
  {
   "cell_type": "code",
   "execution_count": null,
   "metadata": {},
   "outputs": [],
   "source": [
    "model.reactive = pe.Block(model.TRAY,rule=reactive_stage_rule)"
   ]
  },
  {
   "cell_type": "markdown",
   "metadata": {
    "collapsed": true
   },
   "source": [
    "# Construct a single condenser"
   ]
  },
  {
   "cell_type": "code",
   "execution_count": null,
   "metadata": {},
   "outputs": [],
   "source": [
    "model.condenser = pe.Block(rule=condenser_stage_rule)"
   ]
  },
  {
   "cell_type": "markdown",
   "metadata": {},
   "source": [
    "# Linking Stage Variables"
   ]
  },
  {
   "cell_type": "markdown",
   "metadata": {},
   "source": [
    "### Vapor Between Reactive Stages"
   ]
  },
  {
   "cell_type": "code",
   "execution_count": null,
   "metadata": {},
   "outputs": [],
   "source": [
    "def V_between_rule(model,j):\n",
    "    if j == model.TRAY.last(): return pe.Constraint.Skip\n",
    "    return model.reactive[j].V['in'] == model.reactive[j+1].V['out']\n",
    "model.V_between_con = pe.Constraint(model.TRAY,rule=V_between_rule)\n",
    "\n",
    "def Vy_between_rule(model,j,i):\n",
    "    if j == model.TRAY.last(): return pe.Constraint.Skip\n",
    "    return model.reactive[j].y_['in',i] == model.reactive[j+1].y[i]\n",
    "model.Vy_between_con = pe.Constraint(model.TRAY,m.COMP_TOTAL,rule=Vy_between_rule)\n",
    "\n",
    "def Vh_between_rule(model,j):\n",
    "    if j == model.TRAY.last(): return pe.Constraint.Skip\n",
    "    return model.reactive[j].H_V_['in'] == model.reactive[j+1].H_V\n",
    "model.Vh_between_con = pe.Constraint(model.TRAY,rule=Vh_between_rule)"
   ]
  },
  {
   "cell_type": "markdown",
   "metadata": {},
   "source": [
    "### Liquid Between Reactive Stages"
   ]
  },
  {
   "cell_type": "code",
   "execution_count": null,
   "metadata": {},
   "outputs": [],
   "source": [
    "def L_between_rule(model,j):\n",
    "    if j == model.TRAY.last(): return pe.Constraint.Skip\n",
    "    return model.reactive[j+1].L['in'] == model.reactive[j].L['out']\n",
    "model.L_between_con = pe.Constraint(model.TRAY,rule=L_between_rule)\n",
    "\n",
    "def Lx_between_rule(model,j,i):\n",
    "    if j == model.TRAY.last(): return pe.Constraint.Skip\n",
    "    return model.reactive[j+1].x_['in',i] == model.reactive[j].x[i]\n",
    "model.Ly_between_con = pe.Constraint(model.TRAY,m.COMP_TOTAL,rule=Lx_between_rule)\n",
    "\n",
    "def Lh_between_rule(model,j):\n",
    "    if j == model.TRAY.last(): return pe.Constraint.Skip\n",
    "    return model.reactive[j+1].H_L_['in'] == model.reactive[j].H_L\n",
    "model.Lh_between_con = pe.Constraint(model.TRAY,rule=Lh_between_rule)"
   ]
  },
  {
   "cell_type": "markdown",
   "metadata": {},
   "source": [
    "### Condenser"
   ]
  },
  {
   "cell_type": "code",
   "execution_count": null,
   "metadata": {},
   "outputs": [],
   "source": [
    "def V_condenser_rule(model):\n",
    "    return model.reactive[model.TRAY.first()].V['out'] == model.condenser.V['in']\n",
    "model.V_condenser_con = pe.Constraint(rule=V_condenser_rule)\n",
    "\n",
    "def Vy_condenser_rule(model,i):\n",
    "    return model.reactive[model.TRAY.first()].y[i] == model.condenser.y_['in',i]\n",
    "model.Vy_condenser_con = pe.Constraint(m.COMP_TOTAL,rule=Vy_condenser_rule)\n",
    "\n",
    "def Vh_condenser_rule(model):\n",
    "    return model.reactive[model.TRAY.first()].H_V == model.condenser.H_V_['in']\n",
    "model.Vh_condenser_con = pe.Constraint(rule=Vh_condenser_rule)"
   ]
  },
  {
   "cell_type": "code",
   "execution_count": null,
   "metadata": {},
   "outputs": [],
   "source": [
    "def L_condenser_rule(model):\n",
    "    return model.reactive[model.TRAY.first()].L['in'] == model.condenser.L['out']\n",
    "model.L_condenser_con = pe.Constraint(rule=L_condenser_rule)\n",
    "\n",
    "def Lx_condenser_rule(model,i):\n",
    "    return model.reactive[model.TRAY.first()].x_['in',i] == model.condenser.x[i]\n",
    "model.Lx_condenser_con = pe.Constraint(m.COMP_TOTAL,rule=Lx_condenser_rule)\n",
    "\n",
    "def Lh_condenser_rule(model):\n",
    "    return model.reactive[model.TRAY.first()].H_L_['in'] == model.condenser.H_L\n",
    "model.Lh_condenser_con = pe.Constraint(rule=Lh_condenser_rule)"
   ]
  },
  {
   "cell_type": "code",
   "execution_count": null,
   "metadata": {},
   "outputs": [],
   "source": [
    "model.obj = pe.Objective(expr = sum(model.reactive[j].T for j in model.TRAY) ,sense=pe.maximize)"
   ]
  },
  {
   "cell_type": "markdown",
   "metadata": {},
   "source": [
    "# Load from single stage solutions"
   ]
  },
  {
   "cell_type": "code",
   "execution_count": null,
   "metadata": {},
   "outputs": [],
   "source": [
    "with open('../saved_solutions/1_stage_condenser_adiabatic.pickle', 'rb') as f:\n",
    "    results_imported = pickle.load(f)\n",
    "results_changed = results_imported"
   ]
  },
  {
   "cell_type": "markdown",
   "metadata": {},
   "source": [
    "### Duplicate variable solution and bounds multiplier"
   ]
  },
  {
   "cell_type": "code",
   "execution_count": null,
   "metadata": {},
   "outputs": [],
   "source": [
    "for i in list(results_imported.Solution.Variable.keys()):\n",
    "    if i.startswith('reactive[1].'):\n",
    "        for j in model.TRAY:\n",
    "            if j != 1:\n",
    "                results_changed.Solution.Variable[i.replace('reactive[1].','reactive[{}].'.format(j))] = \\\n",
    "                results_imported.Solution.Variable[i]"
   ]
  },
  {
   "cell_type": "markdown",
   "metadata": {},
   "source": [
    "### Duplicate constraint multiplier"
   ]
  },
  {
   "cell_type": "code",
   "execution_count": null,
   "metadata": {},
   "outputs": [],
   "source": [
    "for i in list(results_changed.Solution.Constraint.keys()):\n",
    "    if i.startswith('reactive[1].'):\n",
    "        for j in model.TRAY:\n",
    "            if j != 1:\n",
    "                results_changed.Solution.Constraint[i.replace('reactive[1].','reactive[{}].'.format(j))] = \\\n",
    "                results_imported.Solution.Constraint[i]"
   ]
  },
  {
   "cell_type": "markdown",
   "metadata": {},
   "source": [
    "### Load changed solution into current model"
   ]
  },
  {
   "cell_type": "code",
   "execution_count": null,
   "metadata": {},
   "outputs": [],
   "source": [
    "model.solutions.load_from(results_changed)"
   ]
  },
  {
   "cell_type": "markdown",
   "metadata": {},
   "source": [
    "# Fixing Redundent Stream Variables"
   ]
  },
  {
   "cell_type": "code",
   "execution_count": null,
   "metadata": {},
   "outputs": [],
   "source": [
    "# condenser\n",
    "model.condenser.VLE_block.n_ave.fix(4)\n",
    "\n",
    "model.condenser.F.fix(0)\n",
    "model.condenser.T_F.fix(300+273.15)\n",
    "model.condenser.z.fix(0)\n",
    "\n",
    "model.condenser.V['P'].fix(0)\n",
    "model.condenser.L['in'].fix(0)\n",
    "for i in m.COMP_TOTAL: model.condenser.x_['in',i].fix(0)\n",
    "model.condenser.H_L_['in'].fix(0)"
   ]
  },
  {
   "cell_type": "code",
   "execution_count": null,
   "metadata": {},
   "outputs": [],
   "source": [
    "# 'reboiler' fixing last stage V_in\n",
    "\n",
    "model.reactive[model.TRAY.last()].V['in'].fix(0)\n",
    "for i in m.COMP_TOTAL: model.reactive[model.TRAY.last()].y_['in',i].fix(0)\n",
    "model.reactive[model.TRAY.last()].H_V_['in'].fix(0)"
   ]
  },
  {
   "cell_type": "markdown",
   "metadata": {},
   "source": [
    "# Load Operating Parameters"
   ]
  },
  {
   "cell_type": "code",
   "execution_count": null,
   "metadata": {},
   "outputs": [],
   "source": [
    "# condenser\n",
    "model.condenser.P.fix(19)\n",
    "# model.condenser.T.fix(30+273.15)\n",
    "model.condenser.T.fix(30+273.15)\n",
    "model.condenser.L['out'].fix(0)\n",
    "\n",
    "# reactive stage\n",
    "for j in model.reactive:\n",
    "    model.reactive[j].cat.fix(5000)\n",
    "    model.reactive[j].P.fix(20)\n",
    "    model.reactive[j].VLE_block.n_ave.fix(20)\n",
    "    \n",
    "    model.reactive[j].F.fix(1)\n",
    "    model.reactive[j].T_F.fix(200+273.15)\n",
    "    model.reactive[j].z['CO'].fix(1/(1+2))\n",
    "    model.reactive[j].z['H2'].fix(2/(1+2))\n",
    "    model.reactive[j].z['C30H62'].fix(0)\n",
    "    model.reactive[j].V['P'].fix(0)\n",
    "    model.reactive[j].L['P'].fix(0)\n",
    "    # model.reactive[j].Q_main.fix(0)\n",
    "    model.reactive[j].T.setub(250+273.15)"
   ]
  },
  {
   "cell_type": "code",
   "execution_count": null,
   "metadata": {
    "scrolled": true
   },
   "outputs": [],
   "source": [
    "check_DOF(pe,model)"
   ]
  },
  {
   "cell_type": "code",
   "execution_count": null,
   "metadata": {},
   "outputs": [],
   "source": [
    "opt = pe.SolverFactory('ipopt')\n",
    "opt.options['print_user_options'] = 'yes'\n",
    "opt.options['linear_solver'] = 'ma86'\n",
    "# opt.options['nlp_scaling_method'] = None\n",
    "# opt.options['constr_viol_tol'] = 1e-7\n",
    "# opt.options['acceptable_constr_viol_tol'] = 1e-7\n",
    "opt.options['max_iter'] = 7000\n",
    "# opt.options['dual_inf_tol'] = '+inf'\n",
    "# opt.options['acceptable_dual_inf_tol'] = '+inf'"
   ]
  },
  {
   "cell_type": "code",
   "execution_count": null,
   "metadata": {},
   "outputs": [],
   "source": [
    "add_dual(pe,model)\n",
    "update_dual(pe,model)"
   ]
  },
  {
   "cell_type": "code",
   "execution_count": null,
   "metadata": {
    "scrolled": false
   },
   "outputs": [],
   "source": [
    "results = opt.solve(model,tee=True)"
   ]
  },
  {
   "cell_type": "code",
   "execution_count": null,
   "metadata": {},
   "outputs": [],
   "source": [
    "update_dual(pe,model)"
   ]
  },
  {
   "cell_type": "code",
   "execution_count": null,
   "metadata": {
    "scrolled": false
   },
   "outputs": [],
   "source": [
    "beautify2(pe,model)"
   ]
  },
  {
   "cell_type": "code",
   "execution_count": null,
   "metadata": {},
   "outputs": [],
   "source": [
    "model.reactive[1].kinetics_block.r_FT_total.value"
   ]
  },
  {
   "cell_type": "code",
   "execution_count": null,
   "metadata": {},
   "outputs": [],
   "source": [
    "# model.solutions.store_to(results)\n",
    "# with open('../saved_solutions/3_stage_condenser_240C.pickle','wb') as f:\n",
    "#     pickle.dump(results,f)"
   ]
  },
  {
   "cell_type": "markdown",
   "metadata": {},
   "source": [
    "# So, what exactly does adding a reflux do?"
   ]
  },
  {
   "cell_type": "code",
   "execution_count": null,
   "metadata": {},
   "outputs": [],
   "source": [
    "opt.options['warm_start_init_point'] = 'yes'\n",
    "opt.options['warm_start_bound_push'] = 1e-20\n",
    "opt.options['warm_start_mult_bound_push'] = 1e-20\n",
    "opt.options['mu_init'] = 1e-6"
   ]
  },
  {
   "cell_type": "code",
   "execution_count": null,
   "metadata": {},
   "outputs": [],
   "source": [
    "results_anchor = results\n",
    "update_dual(pe,model)\n",
    "model.solutions.store_to(results_anchor)"
   ]
  },
  {
   "cell_type": "code",
   "execution_count": null,
   "metadata": {},
   "outputs": [],
   "source": [
    "Refluxrange = np.linspace(0,2,21)\n",
    "Trange = np.linspace(250+273.15,200+273.15,11)"
   ]
  },
  {
   "cell_type": "code",
   "execution_count": null,
   "metadata": {
    "scrolled": false
   },
   "outputs": [],
   "source": [
    "cd_data_master = {}\n",
    "rf_data_master = {}\n",
    "\n",
    "for t in Trange:\n",
    "    model.del_component(model.obj)\n",
    "    model.obj = pe.Objective(expr = sum(model.reactive[j].T for j in model.TRAY) ,sense=pe.maximize)\n",
    "    model.solutions.load_from(results_anchor)\n",
    "    update_dual(pe,model)\n",
    "    \n",
    "    for j in model.reactive:\n",
    "        model.reactive[j].T.fixed = False\n",
    "        model.reactive[j].T.setub(t)\n",
    "    model.condenser.L['out'].fix(0)\n",
    "    \n",
    "    results_anchor = opt.solve(model,tee=False)\n",
    "    model.solutions.store_to(results_anchor)\n",
    "    \n",
    "    model.del_component(model.obj)\n",
    "    model.obj = pe.Objective(expr = model.condenser.L['out'],sense=pe.maximize)\n",
    "    model.condenser.L['out'].fixed = False\n",
    "    for j in model.reactive:\n",
    "        model.reactive[j].T.fixed=True\n",
    "    \n",
    "    print('\\nWorking on T = {} K'.format(model.reactive[1].T.value))\n",
    "    print('-'*108)\n",
    "    \n",
    "    cd_data = {};\n",
    "    cd_data['Re'] = []; cd_data['D'] = []; cd_data['V'] = []\n",
    "    cd_data['x'] = {}; cd_data['y'] = {}; cd_data['g'] = {}; cd_data['d'] = {};\n",
    "    for i in m.COMP_TOTAL:\n",
    "        cd_data['x'][i] = []\n",
    "        cd_data['y'][i] = []\n",
    "        cd_data['g'][i] = []\n",
    "        cd_data['d'][i] = []\n",
    "\n",
    "    rf_data = {}\n",
    "    for j in model.reactive:\n",
    "        rf_data[j] = {}\n",
    "        rf_data[j]['r'] = {}; rf_data[j]['b'] = {}; rf_data[j]['x'] = {};rf_data[j]['y'] = {};\n",
    "        rf_data[j]['T'] = []; rf_data[j]['Q'] = []; rf_data[j]['V'] = []; rf_data[j]['L'] = []; \n",
    "        rf_data[j]['r_WGS'] = []; rf_data[j]['r_FT'] = []\n",
    "        for i in m.COMP_TOTAL:\n",
    "            rf_data[j]['r'][i] = []\n",
    "            rf_data[j]['b'][i] = []\n",
    "            rf_data[j]['x'][i] = []\n",
    "            rf_data[j]['y'][i] = []       \n",
    "\n",
    "    for re in Refluxrange:\n",
    "        model.condenser.L['out'].setub(re)\n",
    "        results = opt.solve(model,tee=False)\n",
    "        update_dual(pe,model)\n",
    "        print('Solved\\t|Reflux = {:.3f} kmol/s\\t|Vapor = {:.3f} kmol/s\\t|Distillate = {:.3f} kmol/s\\t|Bottom = {:.3f} kmol/s'.\\\n",
    "              format(model.condenser.L['out'].value,model.condenser.V['out'].value,model.condenser.L['P'].value,model.reactive[3].L['out'].value))\n",
    "\n",
    "        cd_data['V'].append(model.condenser.V['out'].value)\n",
    "        cd_data['D'].append(model.condenser.L['P'].value)\n",
    "        cd_data['Re'].append(model.condenser.L['out'].value)\n",
    "\n",
    "        for i in model.reactive[1].r_total_comp:\n",
    "            cd_data['x'][i].append(model.condenser.x[i].value)\n",
    "            cd_data['y'][i].append(model.condenser.y[i].value)\n",
    "            cd_data['g'][i].append(model.condenser.y[i].value*model.condenser.V['out'].value)\n",
    "            cd_data['d'][i].append(model.condenser.x[i].value*model.condenser.L['P'].value)\n",
    "\n",
    "        for j in model.reactive:      \n",
    "            rf_data[j]['T'].append(model.reactive[j].T.value)\n",
    "            rf_data[j]['Q'].append(model.reactive[j].Q_main.value)\n",
    "            rf_data[j]['V'].append(model.reactive[j].V['out'].value)\n",
    "            rf_data[j]['L'].append(model.reactive[j].L['out'].value)\n",
    "            rf_data[j]['r_WGS'].append(model.reactive[j].kinetics_block.r_WGS.value)\n",
    "            rf_data[j]['r_FT'].append(model.reactive[j].kinetics_block.r_FT_total.value)\n",
    "\n",
    "            for i in model.reactive[1].r_total_comp:\n",
    "                rf_data[j]['r'][i].append(model.reactive[j].r_total_comp[i].value)\n",
    "                rf_data[j]['b'][i].append(model.reactive[j].x[i].value*model.reactive[j].L['out'].value)\n",
    "                rf_data[j]['x'][i].append(model.reactive[j].x[i].value)\n",
    "                rf_data[j]['y'][i].append(model.reactive[j].y[i].value)\n",
    "        \n",
    "    cd_data_master[t] = cd_data\n",
    "    rf_data_master[t] = rf_data"
   ]
  },
  {
   "cell_type": "code",
   "execution_count": null,
   "metadata": {},
   "outputs": [],
   "source": [
    "cnumber_range = range(1,57)"
   ]
  },
  {
   "cell_type": "code",
   "execution_count": null,
   "metadata": {},
   "outputs": [],
   "source": [
    "def trans_cnumber(dic):\n",
    "    molefraction = {}\n",
    "    for i in range(1,57):\n",
    "        molefraction[i] = []\n",
    "    for i in m.COMP_ORG:\n",
    "        molefraction[cal_cnumber(i)].append(np.array(dic[i]))\n",
    "    for i in range(1,57):\n",
    "        molefraction[i] = np.sum(molefraction[i],0)\n",
    "    length = len(molefraction[1])\n",
    "    tmp = {}\n",
    "    for j in range(length):\n",
    "        tmp[j] = []\n",
    "        for i in range(1,57):\n",
    "            tmp[j].append(molefraction[i][j])\n",
    "    return tmp"
   ]
  },
  {
   "cell_type": "code",
   "execution_count": null,
   "metadata": {},
   "outputs": [],
   "source": [
    "g_data = {}\n",
    "d_data = {}\n",
    "b_data = {}\n",
    "cd_x_data = {}\n",
    "rf_x_data = {}\n",
    "\n",
    "for t in Trange:\n",
    "\n",
    "    g_data[t] = trans_cnumber(cd_data_master[t]['g'])\n",
    "    d_data[t] = trans_cnumber(cd_data_master[t]['d'])\n",
    "    b_data[t] = trans_cnumber(rf_data_master[t][3]['b'])\n",
    "\n",
    "    cd_x_data[t] = trans_cnumber(cd_data_master[t]['x'])\n",
    "    rf_x_data[t] = {}\n",
    "    for j in model.reactive:\n",
    "        rf_x_data[t][j] = trans_cnumber(rf_data_master[t][j]['x'])"
   ]
  },
  {
   "cell_type": "code",
   "execution_count": null,
   "metadata": {},
   "outputs": [],
   "source": [
    " def plot_distribution(index,temperature):\n",
    "    fig, (ax,ax2) = plt.subplots(2,1,figsize=(16,12))\n",
    "    ax.plot(cnumber_range,g_data[temperature][index],'co-')\n",
    "    ax.plot(cnumber_range,d_data[temperature][index],'go-')\n",
    "    ax.plot(cnumber_range,b_data[temperature][index],'ro-')\n",
    "    ax.set_yscale(\"log\")\n",
    "    ax.set_ylim(1e-12, 1)\n",
    "    ax.legend(['Vapor','Distillate','Bottom'],fontsize=18)\n",
    "    ax.set_title('T, Reflux {:.2f} kmol/s'.format(cd_data_master[temperature]['Re'][index]),fontsize=18)\n",
    "\n",
    "    ax.set_ylabel('Molar Flow (kmol/s)', color='K',fontsize=18)\n",
    "    ax.set_xlabel('Carbon Number', color='K',fontsize=18)\n",
    "    # ax.tick_params('y', colors='k',labelsize=18)\n",
    "    # ax.tick_params('x', colors='k',labelsize=18)\n",
    "\n",
    "    ax2.plot(cnumber_range,cd_x_data[temperature][index],'go-')\n",
    "    ax2.plot(cnumber_range,rf_x_data[temperature][1][index],'co-')\n",
    "    ax2.plot(cnumber_range,rf_x_data[temperature][2][index],'bo-')\n",
    "    ax2.plot(cnumber_range,rf_x_data[temperature][3][index],'ro-')\n",
    "\n",
    "    ax2.set_ylim(0, 0.2)\n",
    "    ax2.legend(['Condenser','Stage 1','Stage 2','Stage 3'],fontsize=18)\n",
    "    ax2.set_title('Liquid Composition (Mole)',fontsize=18)\n",
    "\n",
    "    ax2.set_ylabel('Molar Fraction', color='K',fontsize=18)\n",
    "    ax2.set_xlabel('Carbon Number', color='K',fontsize=18)\n",
    "\n",
    "    ax.grid()\n",
    "    ax2.grid()\n",
    "    plt.show()"
   ]
  },
  {
   "cell_type": "code",
   "execution_count": null,
   "metadata": {
    "scrolled": false
   },
   "outputs": [],
   "source": [
    "widgets.interact(plot_distribution, index = widgets.IntSlider(\n",
    "    value=0,\n",
    "    min=0,\n",
    "    max=20,\n",
    "    step=1,\n",
    "    description='Reflux:'),temperature=widgets.SelectionSlider(\n",
    "    options=Trange,\n",
    "    value=Trange[0],\n",
    "    description='Temperature',\n",
    "    disabled=False,\n",
    "    continuous_update=False,\n",
    "    orientation='horizontal',\n",
    "    readout=True)\n",
    ");"
   ]
  },
  {
   "cell_type": "code",
   "execution_count": null,
   "metadata": {},
   "outputs": [],
   "source": [
    "plot_distribution(20,523.15)"
   ]
  },
  {
   "cell_type": "code",
   "execution_count": null,
   "metadata": {},
   "outputs": [],
   "source": []
  }
 ],
 "metadata": {
  "kernelspec": {
   "display_name": "Python 3",
   "language": "python",
   "name": "python3"
  },
  "language_info": {
   "codemirror_mode": {
    "name": "ipython",
    "version": 3
   },
   "file_extension": ".py",
   "mimetype": "text/x-python",
   "name": "python",
   "nbconvert_exporter": "python",
   "pygments_lexer": "ipython3",
   "version": "3.6.3"
  }
 },
 "nbformat": 4,
 "nbformat_minor": 2
}
