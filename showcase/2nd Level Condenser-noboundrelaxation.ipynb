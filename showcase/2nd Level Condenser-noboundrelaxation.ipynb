{
 "cells": [
  {
   "cell_type": "markdown",
   "metadata": {
    "slideshow": {
     "slide_type": "slide"
    }
   },
   "source": [
    "# 2nd Level Model Structure: Condenser Stage"
   ]
  },
  {
   "cell_type": "code",
   "execution_count": 1,
   "metadata": {},
   "outputs": [],
   "source": [
    "import sys\n",
    "import os\n",
    "import pickle\n",
    "sys.path.append(os.path.abspath('..'))"
   ]
  },
  {
   "cell_type": "code",
   "execution_count": 2,
   "metadata": {
    "slideshow": {
     "slide_type": "fragment"
    }
   },
   "outputs": [],
   "source": [
    "from pyomo import environ as pe\n",
    "from global_sets.component import m\n",
    "from utility.model_utility import add_dual, update_dual, check_DOF\n",
    "from utility.display_utility import trans_product_mole, trans_product_mass\n",
    "\n",
    "# stage construction rules\n",
    "from physics.energy_condenser import energy_block_rule\n",
    "from physics.VLLE import VLLE_block_rule\n",
    "\n",
    "# collect variable bounds\n",
    "from physics.bounds import water_x, water_yp\n",
    "\n",
    "model = pe.ConcreteModel()"
   ]
  },
  {
   "cell_type": "markdown",
   "metadata": {
    "slideshow": {
     "slide_type": "subslide"
    }
   },
   "source": [
    "# Global Sets (Inlet / Outlet)"
   ]
  },
  {
   "cell_type": "code",
   "execution_count": 3,
   "metadata": {
    "slideshow": {
     "slide_type": "fragment"
    }
   },
   "outputs": [],
   "source": [
    "model.inlet = pe.Set(initialize=['in'])\n",
    "model.outlet = pe.Set(initialize=['out','P'])\n",
    "model.stream = model.inlet | model.outlet\n",
    "model.COMP_WATER = pe.Set(initialize=['H2O'])"
   ]
  },
  {
   "cell_type": "markdown",
   "metadata": {
    "slideshow": {
     "slide_type": "subslide"
    }
   },
   "source": [
    "# Global Variables"
   ]
  },
  {
   "cell_type": "code",
   "execution_count": 4,
   "metadata": {
    "slideshow": {
     "slide_type": "fragment"
    }
   },
   "outputs": [],
   "source": [
    "model.T = pe.Var(within=pe.NonNegativeReals,bounds=(20+273.15,40+273.15)) # K\n",
    "model.T_F = pe.Var(within=pe.NonNegativeReals) # K\n",
    "model.P = pe.Var(within=pe.NonNegativeReals,bounds=(10,30)) # Bar\n",
    "model.Q_main = pe.Var(within=pe.Reals) # MW\n",
    "# Tray Inlet/Outlet Variable\n",
    "model.x_ = pe.Var(model.inlet,m.COMP_TOTAL,within=pe.NonNegativeReals)\n",
    "model.y_ = pe.Var(model.inlet,m.COMP_TOTAL,within=pe.NonNegativeReals)\n",
    "model.x = pe.Var(m.COMP_TOTAL,within=pe.NonNegativeReals)\n",
    "model.y = pe.Var(m.COMP_TOTAL,within=pe.NonNegativeReals)\n",
    "model.z = pe.Var(m.COMP_FEED,within=pe.NonNegativeReals)\n",
    "\n",
    "model.L = pe.Var(model.stream,within=pe.NonNegativeReals)\n",
    "model.W = pe.Var(within=pe.NonNegativeReals)\n",
    "model.V = pe.Var(model.stream,within=pe.NonNegativeReals)\n",
    "model.F = pe.Var(within=pe.NonNegativeReals)\n",
    "\n",
    "model.H_L_ = pe.Var(model.inlet,within=pe.Reals)\n",
    "model.H_V_ = pe.Var(model.inlet,within=pe.Reals)\n",
    "model.H_L = pe.Var(within=pe.Reals)\n",
    "model.H_V = pe.Var(within=pe.Reals)\n",
    "\n",
    "model.H_F = pe.Var(within=pe.Reals)\n",
    "model.f_V = pe.Var(m.COMP_TOTAL,within=pe.PositiveReals,initialize=1e-20)\n",
    "model.f_L = pe.Var(m.COMP_TOTAL,within=pe.PositiveReals,initialize=1e-20)"
   ]
  },
  {
   "cell_type": "markdown",
   "metadata": {
    "slideshow": {
     "slide_type": "slide"
    }
   },
   "source": [
    "# Construct Individual Blocks"
   ]
  },
  {
   "cell_type": "code",
   "execution_count": 5,
   "metadata": {
    "slideshow": {
     "slide_type": "subslide"
    }
   },
   "outputs": [
    {
     "name": "stdout",
     "output_type": "stream",
     "text": [
      "> Importing Energy Blocks......\n",
      "> Adding the following local variable:\n",
      "--------------------------------------------------\n",
      "| energy_block.dH_F\n",
      "| energy_block.dH_V\n",
      "| energy_block.dH_L\n",
      "| energy_block.dH_vap\n",
      "--------------------------------------------------\n",
      "\n"
     ]
    }
   ],
   "source": [
    "model.energy_block = pe.Block(rule=energy_block_rule)"
   ]
  },
  {
   "cell_type": "code",
   "execution_count": 6,
   "metadata": {
    "scrolled": true,
    "slideshow": {
     "slide_type": "subslide"
    }
   },
   "outputs": [
    {
     "name": "stdout",
     "output_type": "stream",
     "text": [
      "> Importing VLE Blocks......\n",
      "> Adding the following local variable:\n",
      "--------------------------------------------------\n",
      "| VLE_block.n_ave\n",
      "| VLE_block.n_ave_cal\n",
      "| VLE_block.Hen\n",
      "| VLE_block.Hen0\n",
      "| VLE_block.gamma\n",
      "| VLE_block.P_sat\n",
      "| VLE_block.P_sat_dY_inf\n",
      "| VLE_block.P_sat_dY0\n",
      "| VLE_block.Hen_ref\n",
      "| VLE_block.Hen0_ref\n",
      "| VLE_block.gamma_ref\n",
      "--------------------------------------------------\n",
      "\n"
     ]
    }
   ],
   "source": [
    "model.VLE_block = pe.Block(rule=VLLE_block_rule)"
   ]
  },
  {
   "cell_type": "markdown",
   "metadata": {
    "slideshow": {
     "slide_type": "slide"
    }
   },
   "source": [
    "# Standard MESH Equations"
   ]
  },
  {
   "cell_type": "markdown",
   "metadata": {
    "slideshow": {
     "slide_type": "subslide"
    }
   },
   "source": [
    "## Mass Balance"
   ]
  },
  {
   "cell_type": "markdown",
   "metadata": {
    "slideshow": {
     "slide_type": "fragment"
    }
   },
   "source": [
    "\\begin{equation}\n",
    "Fz_{i}+\\sum_{s\\in{inlet}}L_{s}x'_{i,s}+\\sum_{s\\in{inlet}}V_{s}y'_{i,s}-\\sum_{s\\in{outlet}}L_{s}x_{i,s}+\\sum_{s\\in{ouelet}}V_{s}y_{i,s}+R_{i} = 0 \\\\\n",
    "i = 1,...NC\n",
    "\\end{equation}"
   ]
  },
  {
   "cell_type": "code",
   "execution_count": 7,
   "metadata": {
    "slideshow": {
     "slide_type": "fragment"
    }
   },
   "outputs": [],
   "source": [
    "def mass_balance_main_rule(model,i):\n",
    "    if i in m.COMP_FEED:\n",
    "        return model.F*model.z[i] + sum(model.L[s]*model.x_[s,i] + model.V[s]*model.y_[s,i] for s in model.inlet)\\\n",
    "        - sum(model.L[s]*model.x[i] + model.V[s]*model.y[i] for s in model.outlet) == 0\n",
    "    elif i in model.COMP_WATER:\n",
    "        return sum(model.L[s]*model.x_[s,i] + model.V[s]*model.y_[s,i] for s in model.inlet)\\\n",
    "        - sum(model.L[s]*model.x[i] + model.V[s]*model.y[i] for s in model.outlet) - model.W == 0\n",
    "    else:\n",
    "        return sum(model.L[s]*model.x_[s,i] + model.V[s]*model.y_[s,i] for s in model.inlet)\\\n",
    "        - sum(model.L[s]*model.x[i] + model.V[s]*model.y[i] for s in model.outlet) == 0\n",
    "model.mass_balance_main_con = pe.Constraint(m.COMP_TOTAL,rule=mass_balance_main_rule)"
   ]
  },
  {
   "cell_type": "markdown",
   "metadata": {
    "slideshow": {
     "slide_type": "subslide"
    }
   },
   "source": [
    "## Equilibrium"
   ]
  },
  {
   "cell_type": "markdown",
   "metadata": {
    "slideshow": {
     "slide_type": "fragment"
    }
   },
   "source": [
    "\\begin{align}\n",
    "&f_{i,V} = f_{i,L} \\\\\n",
    "&i = 1,...NC\n",
    "\\end{align}"
   ]
  },
  {
   "cell_type": "code",
   "execution_count": 8,
   "metadata": {
    "slideshow": {
     "slide_type": "fragment"
    }
   },
   "outputs": [],
   "source": [
    "# Equilibrium\n",
    "def VL_equil_rule(model,i):\n",
    "    return model.f_V[i] == model.f_L[i]\n",
    "model.VL_equil_con = pe.Constraint(m.COMP_TOTAL-model.COMP_WATER,rule=VL_equil_rule)\n",
    "\n",
    "# Water phase\n",
    "def L_water_rule(model,i):\n",
    "    return model.x[i] == pe.exp(-0.66037 - 7.1130*(539.1/model.T) - 0.67885*(1-model.T/539.1)**(1/3) -1.43381*(1-model.T/539.1))\n",
    "model.L_water_con = pe.Constraint(model.COMP_WATER,rule=L_water_rule)\n",
    "\n",
    "def V_water_rule(model,i):\n",
    "    return model.y[i]*model.P == pe.exp(5.11564 - 1687.537/(model.T+230.17-273.15))\n",
    "model.V_water_con = pe.Constraint(model.COMP_WATER,rule=V_water_rule)"
   ]
  },
  {
   "cell_type": "code",
   "execution_count": 9,
   "metadata": {},
   "outputs": [],
   "source": [
    "# add bounds specifically for water\n",
    "model.x['H2O'].setub(water_x[1]+abs(water_x[1])*0.2)\n",
    "model.x['H2O'].setlb(water_x[0]-abs(water_x[0])*0.2)\n",
    "\n",
    "model.y['H2O'].setub(water_yp[1]/model.P.lb)\n",
    "model.y['H2O'].setlb(water_yp[0]/model.P.ub)"
   ]
  },
  {
   "cell_type": "markdown",
   "metadata": {
    "slideshow": {
     "slide_type": "subslide"
    }
   },
   "source": [
    "## Summation"
   ]
  },
  {
   "cell_type": "markdown",
   "metadata": {
    "slideshow": {
     "slide_type": "fragment"
    }
   },
   "source": [
    "\\begin{equation}\n",
    "\\sum_ix_{i} = 1 \\\\\n",
    "\\sum_iy_{i} = 1\n",
    "\\end{equation}"
   ]
  },
  {
   "cell_type": "code",
   "execution_count": 10,
   "metadata": {
    "slideshow": {
     "slide_type": "fragment"
    }
   },
   "outputs": [],
   "source": [
    "def summation_x_main_rule(model):\n",
    "    return sum(model.x[i] for i in m.COMP_TOTAL) == 1\n",
    "model.summation_x_main_con = pe.Constraint(rule=summation_x_main_rule)\n",
    "\n",
    "def summation_y_main_rule(model):\n",
    "    return sum(model.y[i] for i in m.COMP_TOTAL) == 1\n",
    "model.summation_y_main_con = pe.Constraint(rule=summation_y_main_rule)"
   ]
  },
  {
   "cell_type": "markdown",
   "metadata": {
    "slideshow": {
     "slide_type": "subslide"
    }
   },
   "source": [
    "## Energy Balance"
   ]
  },
  {
   "cell_type": "markdown",
   "metadata": {
    "slideshow": {
     "slide_type": "fragment"
    }
   },
   "source": [
    "\\begin{equation}\n",
    "F H_f+\\sum_{s\\in{inlet}}L_{s}H_{l,s}+\\sum_{s\\in{inlet}}V_{s}H_{v,s}-\\sum_{s\\in{outlet}}L_{s}H_{l,s}-\\sum_{s\\in{outlet}}V_{s}H_{v,s}+Q = 0\n",
    "\\end{equation}"
   ]
  },
  {
   "cell_type": "code",
   "execution_count": 11,
   "metadata": {
    "slideshow": {
     "slide_type": "fragment"
    }
   },
   "outputs": [],
   "source": [
    "def heat_balance_main_rule(model):\n",
    "    return model.F*model.H_F + sum(model.L[s]*model.H_L_[s] + model.V[s]*model.H_V_[s] for s in model.inlet) \\\n",
    "            + model.Q_main - sum(model.L[s]*model.H_L + model.V[s]*model.H_V for s in model.outlet) - model.W*model.energy_block.dH_L['H2O'] == 0\n",
    "model.heat_balance_main_con = pe.Constraint(rule=heat_balance_main_rule)"
   ]
  },
  {
   "cell_type": "markdown",
   "metadata": {
    "slideshow": {
     "slide_type": "slide"
    }
   },
   "source": [
    "# Testing"
   ]
  },
  {
   "cell_type": "code",
   "execution_count": 12,
   "metadata": {},
   "outputs": [
    {
     "name": "stdout",
     "output_type": "stream",
     "text": [
      "Created the follow pyomo suffixes:\n",
      "ipopt_zL_out, ipopt_zU_out, ipopt_zL_in, ipopt_zU_in, dual\n"
     ]
    }
   ],
   "source": [
    "add_dual(pe,model)"
   ]
  },
  {
   "cell_type": "markdown",
   "metadata": {},
   "source": [
    "## Load a sample vapor feed from reactive flash example"
   ]
  },
  {
   "cell_type": "code",
   "execution_count": 13,
   "metadata": {},
   "outputs": [],
   "source": [
    "with open('../saved_solutions/reactive_flash_300C.pickle', 'rb') as f:\n",
    "    C300 = pickle.load(f)"
   ]
  },
  {
   "cell_type": "markdown",
   "metadata": {
    "slideshow": {
     "slide_type": "fragment"
    }
   },
   "source": [
    "## Fixing In/Product Redundent Flow"
   ]
  },
  {
   "cell_type": "code",
   "execution_count": 14,
   "metadata": {
    "slideshow": {
     "slide_type": "fragment"
    }
   },
   "outputs": [],
   "source": [
    "model.x_.fix(0)\n",
    "for i in m.COMP_TOTAL:\n",
    "    model.y_['in',i].fix(C300.Solution.Variable['y[{}]'.format(i)]['Value'])\n",
    "model.L['in'].fix(0)\n",
    "model.L['P'].fix(0)\n",
    "model.V['in'].fix(1)\n",
    "model.V['P'].fix(0)\n",
    "model.H_L_.fix(0)\n",
    "model.H_V_.fix(C300.Solution.Variable['H_V']['Value'])"
   ]
  },
  {
   "cell_type": "markdown",
   "metadata": {
    "slideshow": {
     "slide_type": "subslide"
    }
   },
   "source": [
    "## Fixing Model Parameters"
   ]
  },
  {
   "cell_type": "code",
   "execution_count": 15,
   "metadata": {
    "slideshow": {
     "slide_type": "fragment"
    }
   },
   "outputs": [],
   "source": [
    "model.P.fix(21)\n",
    "model.T_F.fix(200+273.15)\n",
    "model.F.fix(0)\n",
    "model.z['CO'].fix(0.3333)\n",
    "model.z['H2'].fix(0.6666)\n",
    "model.z['C30H62'].fix(0.0001)\n",
    "model.VLE_block.n_ave.fix(58)"
   ]
  },
  {
   "cell_type": "code",
   "execution_count": 16,
   "metadata": {
    "scrolled": true,
    "slideshow": {
     "slide_type": "fragment"
    }
   },
   "outputs": [
    {
     "name": "stdout",
     "output_type": "stream",
     "text": [
      "Active Equality Constraints:\t 727\n",
      "Active Inequality Constraints:\t 0\n",
      "Active Variables:\t\t 899\n",
      "Fixed Variables:\t\t 171\n",
      "DOF:\t\t\t\t 1\n"
     ]
    }
   ],
   "source": [
    "check_DOF(pe,model)"
   ]
  },
  {
   "cell_type": "markdown",
   "metadata": {
    "slideshow": {
     "slide_type": "subslide"
    }
   },
   "source": [
    "## Fix T or to fix Q? we have found that Maximize against an upper bound is most reliable"
   ]
  },
  {
   "cell_type": "code",
   "execution_count": 17,
   "metadata": {
    "slideshow": {
     "slide_type": "fragment"
    }
   },
   "outputs": [],
   "source": [
    "model.T.setub(40+273.15)"
   ]
  },
  {
   "cell_type": "code",
   "execution_count": 18,
   "metadata": {
    "slideshow": {
     "slide_type": "fragment"
    }
   },
   "outputs": [],
   "source": [
    "# model.obj = pe.Objective(expr = model.L['out'],sense=pe.maximize)\n",
    "# model.obj = pe.Objective(expr = model.Q_main,sense=pe.maximize)\n",
    "model.obj = pe.Objective(expr = model.T,sense=pe.maximize)"
   ]
  },
  {
   "cell_type": "code",
   "execution_count": 19,
   "metadata": {
    "scrolled": false,
    "slideshow": {
     "slide_type": "fragment"
    }
   },
   "outputs": [
    {
     "name": "stdout",
     "output_type": "stream",
     "text": [
      "Ipopt 3.12.8: print_user_options=yes\n",
      "linear_solver=ma97\n",
      "nlp_scaling_method=None\n",
      "bound_relax_factor=0\n",
      "halt_on_ampl_error=yes\n",
      "max_iter=7000\n",
      "\n",
      "\n",
      "List of user-set options:\n",
      "\n",
      "                                    Name   Value                used\n",
      "                      bound_relax_factor = 0                     yes\n",
      "                           linear_solver = ma97                  yes\n",
      "                                max_iter = 7000                  yes\n",
      "                      nlp_scaling_method = None                  yes\n",
      "                      print_user_options = yes                   yes\n",
      "\n",
      "******************************************************************************\n",
      "This program contains Ipopt, a library for large-scale nonlinear optimization.\n",
      " Ipopt is released as open source code under the Eclipse Public License (EPL).\n",
      "         For more information visit http://projects.coin-or.org/Ipopt\n",
      "******************************************************************************\n",
      "\n",
      "This is Ipopt version 3.12.8, running with linear solver ma97.\n",
      "\n",
      "Number of nonzeros in equality constraint Jacobian...:     2462\n",
      "Number of nonzeros in inequality constraint Jacobian.:        0\n",
      "Number of nonzeros in Lagrangian Hessian.............:     3851\n",
      "\n",
      "Total number of variables............................:      728\n",
      "                     variables with only lower bounds:      318\n",
      "                variables with lower and upper bounds:      403\n",
      "                     variables with only upper bounds:        0\n",
      "Total number of equality constraints.................:      727\n",
      "Total number of inequality constraints...............:        0\n",
      "        inequality constraints with only lower bounds:        0\n",
      "   inequality constraints with lower and upper bounds:        0\n",
      "        inequality constraints with only upper bounds:        0\n",
      "\n",
      "iter    objective    inf_pr   inf_du lg(mu)  ||d||  lg(rg) alpha_du alpha_pr  ls\n",
      "   0 -2.9335000e+02 8.48e+02 1.00e+00  -1.0 0.00e+00    -  0.00e+00 0.00e+00   0\n",
      "   1r-2.9335000e+02 8.48e+02 9.99e+02   2.9 0.00e+00    -  0.00e+00 4.97e-07R  3\n",
      "In iteration 1, 37 Slacks too small, adjusting variable bounds\n",
      "   2r-2.9335000e+02 8.48e+02 5.82e+13   2.9 3.68e+05    -  1.66e-05 8.46e-10f  1\n",
      "In iteration 2, 38 Slacks too small, adjusting variable bounds\n",
      "   3r-2.9343990e+02 8.40e+02 6.84e+13   2.9 3.68e+05    -  2.32e-05 2.23e-05f  1\n",
      "In iteration 3, 38 Slacks too small, adjusting variable bounds\n",
      "   4r-2.9362187e+02 8.25e+02 2.32e+14   2.9 3.76e+05    -  9.38e-05 3.86e-05f  1\n",
      "In iteration 4, 37 Slacks too small, adjusting variable bounds\n",
      "   5r-2.9705265e+02 5.25e+02 2.51e+15   2.9 3.76e+05    -  1.50e-03 5.92e-04f  1\n",
      "   6 -2.9706328e+02 5.25e+02 2.53e+12  -1.0 9.68e+03    -  6.48e-03 2.96e-04h  1\n",
      "   7 -2.9612099e+02 5.24e+02 8.18e+11  -1.0 8.87e+02    -  8.98e-05 2.05e-03f  1\n",
      "   8 -2.9603288e+02 5.24e+02 2.45e+12  -1.0 8.86e+02    -  2.36e-03 1.91e-04h  1\n",
      "   9r-2.9603288e+02 5.24e+02 9.99e+02   2.7 0.00e+00    -  0.00e+00 4.79e-07R  3\n",
      "iter    objective    inf_pr   inf_du lg(mu)  ||d||  lg(rg) alpha_du alpha_pr  ls\n",
      "  10r-2.9617014e+02 5.18e+02 2.13e+13   2.7 3.73e+05    -  2.99e-05 1.57e-05f  1\n",
      "In iteration 10, 1 Slack too small, adjusting variable bound\n",
      "  11r-2.9697801e+02 5.13e+02 6.20e+13   2.7 3.65e+05    -  2.42e-04 9.66e-05f  1\n",
      "In iteration 11, 1 Slack too small, adjusting variable bound\n",
      "  12r-2.9820038e+02 5.13e+02 5.57e+14   2.7 3.09e+05    -  5.82e-04 1.58e-04f  1\n",
      "In iteration 12, 1 Slack too small, adjusting variable bound\n",
      "  13r-2.9996413e+02 5.13e+02 9.57e+14   2.7 2.19e+05    -  1.56e-03 3.72e-04f  1\n",
      "  14r-3.0623368e+02 5.12e+02 1.64e+15   2.7 1.10e+05    -  3.01e-03 2.81e-03f  1\n",
      "  15r-3.0730492e+02 5.12e+02 4.51e+16   2.7 2.20e+03   0.0 2.53e-02 4.86e-04f  1\n",
      "  16r-3.1309155e+02 5.12e+02 4.52e+16   2.7 1.51e+04    -  1.64e-03 2.01e-03f  1\n",
      "  17r-3.1314942e+02 5.12e+02 4.17e+16   2.7 1.23e+04    -  8.36e-03 3.03e-03f  1\n",
      "  18r-3.1312579e+02 5.11e+02 3.57e+16   2.7 9.31e+03    -  2.15e-02 1.34e-02f  1\n",
      "  19r-3.1311279e+02 5.10e+02 2.47e+16   2.7 1.36e+03    -  6.86e-02 2.18e-02f  1\n",
      "iter    objective    inf_pr   inf_du lg(mu)  ||d||  lg(rg) alpha_du alpha_pr  ls\n",
      "  20r-3.1308809e+02 5.07e+02 3.28e+16   2.7 5.49e+02    -  6.22e-02 4.88e-02f  1\n",
      "  21r-3.1305341e+02 5.04e+02 3.38e+16   2.7 2.88e+02    -  6.92e-02 7.04e-02f  1\n",
      "  22r-3.1297875e+02 4.96e+02 5.50e+16   2.7 1.56e+02    -  2.75e-01 1.53e-01f  1\n",
      "In iteration 22, 2 Slacks too small, adjusting variable bounds\n",
      "  23r-3.1281680e+02 4.83e+02 2.36e+19   2.7 4.92e+01    -  4.35e-01 3.16e-01f  1\n",
      "In iteration 23, 1 Slack too small, adjusting variable bound\n",
      "  24r-3.1235521e+02 4.57e+02 1.81e+19   2.7 3.11e+01    -  8.61e-01 9.07e-01f  1\n",
      "  25 -3.1190589e+02 3.38e+02 6.86e+13  -1.0 4.57e+02    -  5.13e-02 2.61e-01h  1\n",
      "  26 -3.1050917e+02 3.30e+01 1.61e+14  -1.0 3.38e+02    -  4.61e-01 9.02e-01h  1\n",
      "  27 -3.1106651e+02 6.78e+00 1.36e+14  -1.0 8.33e+01    -  1.52e-01 7.95e-01h  1\n",
      "  28 -3.1189619e+02 6.23e-01 1.43e+13  -1.0 1.82e+01    -  9.57e-01 9.90e-01h  1\n",
      "  29 -3.1266637e+02 4.10e-02 1.43e+13  -1.0 1.55e+00    -  1.00e+00 9.90e-01h  1\n",
      "iter    objective    inf_pr   inf_du lg(mu)  ||d||  lg(rg) alpha_du alpha_pr  ls\n",
      "  30 -3.1252318e+02 6.08e-04 3.44e+09  -1.0 2.93e-01    -  1.00e+00 9.86e-01h  1\n",
      "  31 -3.1264441e+02 4.09e-05 2.40e+11  -1.0 2.45e-01    -  1.00e+00 9.90e-01H  1\n",
      "  32 -3.1274392e+02 2.04e-05 1.67e+11  -1.0 2.01e-01    -  1.00e+00 9.90e-01H  1\n",
      "  33 -3.1283229e+02 1.50e-05 4.01e+11  -1.0 1.78e-01    -  1.00e+00 9.90e-01H  1\n",
      "In iteration 33, 35 Slacks too small, adjusting variable bounds\n",
      "  34 -3.1290677e+02 9.77e-06 4.01e+13  -1.0 1.50e-01    -  1.00e+00 9.90e-01H  1\n",
      "In iteration 34, 80 Slacks too small, adjusting variable bounds\n",
      "  35 -3.1294225e+02 1.58e-06 4.26e+13  -1.0 7.13e-02    -  1.00e+00 9.90e-01H  1\n",
      "  36 -3.1294362e+02 1.15e-07 1.11e+11  -1.0 2.72e-03    -  1.00e+00 1.00e+00h  1\n",
      "  37 -3.1314942e+02 2.45e-03 6.07e+14  -2.5 4.98e-01    -  9.66e-01 8.21e-01f  1\n",
      "  38 -3.1314564e+02 5.78e-07 6.93e+10  -2.5 7.77e-03    -  1.00e+00 1.00e+00h  1\n",
      "  39 -3.1314710e+02 1.29e-07 3.65e+06  -2.5 2.90e-03    -  1.00e+00 1.00e+00h  1\n",
      "iter    objective    inf_pr   inf_du lg(mu)  ||d||  lg(rg) alpha_du alpha_pr  ls\n",
      "  40 -3.1315000e+02 5.10e-07 2.84e+12  -5.7 5.89e-03    -  1.00e+00 9.76e-01f  1\n",
      "  41 -3.1315000e+02 9.95e-11 1.31e+05  -5.7 3.71e-06    -  1.00e+00 1.00e+00h  1\n",
      "  42 -3.1315000e+02 1.38e-11 2.81e-05  -5.7 6.38e-10    -  1.00e+00 1.00e+00h  1\n",
      "\n",
      "Number of Iterations....: 42\n",
      "\n",
      "                                   (scaled)                 (unscaled)\n",
      "Objective...............:  -3.1314999815505553e+02   -3.1314999815505553e+02\n",
      "Dual infeasibility......:   2.8133392333984375e-05    2.8133392333984375e-05\n",
      "Constraint violation....:   1.3782013724705777e-11    1.3782013724705777e-11\n",
      "Complementarity.........:   1.8449144644557218e-06    1.8449144644557218e-06\n",
      "Overall NLP error.......:   1.3782013724705777e-11    2.8133392333984375e-05\n",
      "\n",
      "\n",
      "Number of objective function evaluations             = 54\n",
      "Number of objective gradient evaluations             = 26\n",
      "Number of equality constraint evaluations            = 54\n",
      "Number of inequality constraint evaluations          = 0\n",
      "Number of equality constraint Jacobian evaluations   = 45\n",
      "Number of inequality constraint Jacobian evaluations = 0\n",
      "Number of Lagrangian Hessian evaluations             = 42\n",
      "Total CPU secs in IPOPT (w/o function evaluations)   =      0.406\n",
      "Total CPU secs in NLP function evaluations           =      0.036\n",
      "\n",
      "EXIT: Optimal Solution Found.\n"
     ]
    }
   ],
   "source": [
    "opt = pe.SolverFactory('ipopt')\n",
    "\n",
    "opt.options['print_user_options'] = 'yes'\n",
    "opt.options['linear_solver'] = 'ma97'\n",
    "opt.options['nlp_scaling_method'] = None\n",
    "opt.options['bound_relax_factor'] = 0\n",
    "# opt.options['bound_push'] = 1e-30\n",
    "# opt.options['bound_frac'] = 1e-30\n",
    "\n",
    "opt.options['halt_on_ampl_error'] = 'yes'\n",
    "opt.options['max_iter'] = 7000\n",
    "results = opt.solve(model,tee=True)\n",
    "update_dual(pe,model)"
   ]
  },
  {
   "cell_type": "code",
   "execution_count": 20,
   "metadata": {
    "scrolled": true,
    "slideshow": {
     "slide_type": "skip"
    }
   },
   "outputs": [
    {
     "data": {
      "text/plain": [
       "-35.547767013693104"
      ]
     },
     "execution_count": 20,
     "metadata": {},
     "output_type": "execute_result"
    }
   ],
   "source": [
    "model.Q_main.value"
   ]
  },
  {
   "cell_type": "code",
   "execution_count": 21,
   "metadata": {
    "slideshow": {
     "slide_type": "skip"
    }
   },
   "outputs": [
    {
     "data": {
      "text/plain": [
       "313.1499981550555"
      ]
     },
     "execution_count": 21,
     "metadata": {},
     "output_type": "execute_result"
    }
   ],
   "source": [
    "model.T.value"
   ]
  },
  {
   "cell_type": "code",
   "execution_count": 22,
   "metadata": {},
   "outputs": [
    {
     "data": {
      "text/plain": [
       "0.5209583897318576"
      ]
     },
     "execution_count": 22,
     "metadata": {},
     "output_type": "execute_result"
    }
   ],
   "source": [
    "model.W.value"
   ]
  },
  {
   "cell_type": "code",
   "execution_count": 23,
   "metadata": {},
   "outputs": [],
   "source": [
    "# model.solutions.store_to(results)\n",
    "# with open('../saved_solutions/condenser_40C.pickle','wb') as f:\n",
    "#     pickle.dump(results,f)"
   ]
  },
  {
   "cell_type": "code",
   "execution_count": 24,
   "metadata": {
    "scrolled": false,
    "slideshow": {
     "slide_type": "slide"
    }
   },
   "outputs": [
    {
     "name": "stdout",
     "output_type": "stream",
     "text": [
      "Component\t\tLiquid: 0.09\t\tVapor: 0.39\n",
      "------------------------------------------------------------------------\n",
      "H2         \t\t0.41%\t\t\t9.16%\n",
      "CO         \t\t0.06%\t\t\t0.76%\n",
      "CO2        \t\t12.14%\t\t\t19.87%\n",
      "H2O        \t\t0.00%\t\t\t1.54%\n",
      "C2H4       \t\t13.16%\t\t\t11.35%\n",
      "C3H6       \t\t17.86%\t\t\t3.99%\n",
      "C4H8       \t\t11.23%\t\t\t1.01%\n",
      "C5H10      \t\t5.26%\t\t\t0.15%\n",
      "C6H12      \t\t2.57%\t\t\t0.02%\n",
      "C7H14      \t\t1.18%\t\t\t0.00%\n",
      "C8H16      \t\t0.52%\t\t\t0.00%\n",
      "C9H18      \t\t0.23%\t\t\t0.00%\n",
      "C10H20     \t\t0.10%\t\t\t0.00%\n",
      "C11H22     \t\t0.03%\t\t\t0.00%\n",
      "C12H24     \t\t0.01%\t\t\t0.00%\n",
      "C13H26     \t\t0.00%\t\t\t0.00%\n",
      "C14H28     \t\t0.00%\t\t\t0.00%\n",
      "C15H30     \t\t0.00%\t\t\t0.00%\n",
      "C16H32     \t\t0.00%\t\t\t0.00%\n",
      "C17H34     \t\t0.00%\t\t\t0.00%\n",
      "C18H36     \t\t0.00%\t\t\t0.00%\n",
      "C19H38     \t\t0.00%\t\t\t0.00%\n",
      "C20H40     \t\t0.00%\t\t\t0.00%\n",
      "C1H4       \t\t11.44%\t\t\t45.33%\n",
      "C2H6       \t\t9.51%\t\t\t5.52%\n",
      "C3H8       \t\t4.71%\t\t\t0.94%\n",
      "C4H10      \t\t3.71%\t\t\t0.28%\n",
      "C5H12      \t\t3.13%\t\t\t0.07%\n",
      "C6H14      \t\t1.51%\t\t\t0.01%\n",
      "C7H16      \t\t0.69%\t\t\t0.00%\n",
      "C8H18      \t\t0.30%\t\t\t0.00%\n",
      "C9H20      \t\t0.13%\t\t\t0.00%\n",
      "C10H22     \t\t0.06%\t\t\t0.00%\n",
      "C11H24     \t\t0.04%\t\t\t0.00%\n",
      "C12H26     \t\t0.02%\t\t\t0.00%\n",
      "C13H28     \t\t0.01%\t\t\t0.00%\n",
      "C14H30     \t\t0.00%\t\t\t0.00%\n",
      "C15H32     \t\t0.00%\t\t\t0.00%\n",
      "C16H34     \t\t0.00%\t\t\t0.00%\n",
      "C17H36     \t\t0.00%\t\t\t0.00%\n",
      "C18H38     \t\t0.00%\t\t\t0.00%\n",
      "C19H40     \t\t0.00%\t\t\t0.00%\n",
      "C20H42     \t\t0.00%\t\t\t0.00%\n",
      "C21H44     \t\t0.00%\t\t\t0.00%\n",
      "C22H46     \t\t0.00%\t\t\t0.00%\n",
      "C23H48     \t\t0.00%\t\t\t0.00%\n",
      "C24H50     \t\t0.00%\t\t\t0.00%\n",
      "C25H52     \t\t0.00%\t\t\t0.00%\n",
      "C26H54     \t\t0.00%\t\t\t0.00%\n",
      "C27H56     \t\t0.00%\t\t\t0.00%\n",
      "C28H58     \t\t0.00%\t\t\t0.00%\n",
      "C29H60     \t\t0.00%\t\t\t0.00%\n",
      "C30H62     \t\t0.00%\t\t\t0.00%\n",
      "C31H64     \t\t0.00%\t\t\t0.00%\n",
      "C32H66     \t\t0.00%\t\t\t0.00%\n",
      "C33H68     \t\t0.00%\t\t\t0.00%\n",
      "C34H70     \t\t0.00%\t\t\t0.00%\n",
      "C35H72     \t\t0.00%\t\t\t0.00%\n",
      "C36H74     \t\t0.00%\t\t\t0.00%\n",
      "C37H76     \t\t0.00%\t\t\t0.00%\n",
      "C38H78     \t\t0.00%\t\t\t0.00%\n",
      "C39H80     \t\t0.00%\t\t\t0.00%\n",
      "C40H82     \t\t0.00%\t\t\t0.00%\n",
      "C41H84     \t\t0.00%\t\t\t0.00%\n",
      "C42H86     \t\t0.00%\t\t\t0.00%\n",
      "C43H88     \t\t0.00%\t\t\t0.00%\n",
      "C44H90     \t\t0.00%\t\t\t0.00%\n",
      "C45H92     \t\t0.00%\t\t\t0.00%\n",
      "C46H94     \t\t0.00%\t\t\t0.00%\n",
      "C47H96     \t\t0.00%\t\t\t0.00%\n",
      "C48H98     \t\t0.00%\t\t\t0.00%\n",
      "C49H100    \t\t0.00%\t\t\t0.00%\n",
      "C50H102    \t\t0.00%\t\t\t0.00%\n",
      "C51H104    \t\t0.00%\t\t\t0.00%\n",
      "C52H106    \t\t0.00%\t\t\t0.00%\n",
      "C53H108    \t\t0.00%\t\t\t0.00%\n",
      "C54H110    \t\t0.00%\t\t\t0.00%\n",
      "C55H112    \t\t0.00%\t\t\t0.00%\n",
      "C56H114    \t\t0.00%\t\t\t0.00%\n"
     ]
    }
   ],
   "source": [
    "print('Component\\t\\tLiquid: {:.2f}\\t\\tVapor: {:.2f}'.format(model.L['out'].value,model.V['out'].value))\n",
    "print('-'*72)\n",
    "for i in model.x:\n",
    "    print('{:10s}'.format(i),'\\t\\t{:.2%}\\t\\t\\t{:.2%}'.format(model.x[i].value,model.y[i].value))"
   ]
  },
  {
   "cell_type": "code",
   "execution_count": 25,
   "metadata": {
    "scrolled": false
   },
   "outputs": [
    {
     "name": "stdout",
     "output_type": "stream",
     "text": [
      "VLE_block : Size=1, Index=None, Active=True\n",
      "    5 Set Declarations\n",
      "        COMP_HENRY : Dim=0, Dimen=1, Size=9, Domain=None, Ordered=False, Bounds=None\n",
      "            ['C1H4', 'C2H4', 'C2H6', 'C3H6', 'C3H8', 'CO', 'CO2', 'H2', 'H2O']\n",
      "        COMP_NONHENRY : Dim=0, Dimen=1, Size=70, Domain=None, Ordered=False, Bounds=None\n",
      "            Virtual\n",
      "        COMP_NONHENRY_index_0 : Dim=0, Dimen=1, Size=70, Domain=None, Ordered=False, Bounds=None\n",
      "            Virtual\n",
      "        COMP_WATER : Dim=0, Dimen=1, Size=1, Domain=None, Ordered=False, Bounds=None\n",
      "            ['H2O']\n",
      "        f_V_con_index : Dim=0, Dimen=1, Size=79, Domain=None, Ordered=False, Bounds=None\n",
      "            Virtual\n",
      "\n",
      "    11 Var Declarations\n",
      "        Hen : Size=9, Index=VLE_block.COMP_HENRY\n",
      "            Key  : Lower              : Value              : Upper              : Fixed : Stale : Domain\n",
      "            C1H4 :  62.19805852532296 :  83.20893959535485 :  99.85072906682174 : False : False : NonNegativeReals\n",
      "            C2H4 : 11.248464796864429 : 18.113282348481277 :  21.73594005317681 : False : False : NonNegativeReals\n",
      "            C2H6 :   6.99144896392436 : 12.197182127938405 :  14.63661964912346 : False : False : NonNegativeReals\n",
      "            C3H6 : 2.4127575174957228 :  4.691756811850707 : 5.6301087332088215 : False : False : NonNegativeReals\n",
      "            C3H8 : 2.1820900973974924 :    4.1897576031539 :  5.027709611030154 : False : False : NonNegativeReals\n",
      "              CO : 208.98760265458372 :  261.2345046622881 :  319.8635079363896 : False : False : NonNegativeReals\n",
      "             CO2 :  22.57727332579217 :  34.37093126198711 :  41.24511933646757 : False : False : NonNegativeReals\n",
      "              H2 : 373.60966186375447 :  467.0120871937995 :  611.4457636442423 : False : False : NonNegativeReals\n",
      "             H2O : 0.2033576794666844 : 0.4933149508940087 : 0.5919780293849521 : False : False : NonNegativeReals\n",
      "        Hen0 : Size=9, Index=VLE_block.COMP_HENRY\n",
      "            Key  : Lower              : Value              : Upper              : Fixed : Stale : Domain\n",
      "            C1H4 :  4.366016429722359 : 5.5254079891146946 :  6.630489605594234 : False : False :  Reals\n",
      "            C2H4 :  3.258961286521476 :  4.326971900556971 :  5.192366348850332 : False : False :  Reals\n",
      "            C2H6 :  2.783160301643541 :  3.812323951941009 : 4.5747888321530175 : False : False :  Reals\n",
      "            C3H6 : 1.8233435542815943 : 2.7210726990666387 : 3.2652873580225323 : False : False :  Reals\n",
      "            C3H8 :  1.799988743257772 : 2.6792020809846777 :  3.215042613476038 : False : False :  Reals\n",
      "              CO : 5.2561591072619915 :  6.570198889222515 : 7.9084238523695465 : False : False :  Reals\n",
      "             CO2 :  3.650836117263215 :  4.760668985693601 :  5.712802835844647 : False : False :  Reals\n",
      "              H2 :  5.849533855083344 :  7.311917339975917 :  8.878880280529213 : False : False :  Reals\n",
      "             H2O : 1.7130102949965615 : 2.8043007367123463 : 3.3651610630725703 : False : False :  Reals\n",
      "        Hen0_ref : Size=1, Index=None\n",
      "            Key  : Lower              : Value               : Upper : Fixed : Stale : Domain\n",
      "            None : -3.512862218137954 : -0.8405117298205628 :   0.0 : False : False :  Reals\n",
      "        Hen_ref : Size=1, Index=None\n",
      "            Key  : Lower : Value               : Upper              : Fixed : Stale : Domain\n",
      "            None :   0.0 : 0.15730986916960008 : 0.3146198031586352 : False : False : NonNegativeReals\n",
      "        P_sat : Size=70, Index=VLE_block.COMP_NONHENRY\n",
      "            Key     : Lower                  : Value                  : Upper                  : Fixed : Stale : Domain\n",
      "             C10H20 :  0.0012115590425676227 :   0.005631649088532012 :  0.0067579809450892345 : False : False : NonNegativeReals\n",
      "             C10H22 :  0.0010063726705161137 :    0.00477196803074247 :   0.005726363390597537 : False : False : NonNegativeReals\n",
      "             C11H22 :  0.0003675276239602526 :   0.001943188703091852 :  0.0023318272159353125 : False : False : NonNegativeReals\n",
      "             C11H24 :  0.0003055992153908177 :  0.0016485313246222774 :   0.001978238253765095 : False : False : NonNegativeReals\n",
      "             C12H24 : 0.00011217100147752925 :  0.0006752528316141843 :  0.0008103036903516009 : False : False : NonNegativeReals\n",
      "             C12H26 :   9.33483877231834e-05 :  0.0005734180365204597 :  0.0006881018953239527 : False : False : NonNegativeReals\n",
      "             C13H26 :  3.440613730344202e-05 : 0.00023601079404605212 :  0.0002832130635242427 : False : False : NonNegativeReals\n",
      "             C13H28 : 2.8652530132547015e-05 : 0.00020057933211275905 : 0.00024069529370996013 : False : False : NonNegativeReals\n",
      "             C14H28 : 1.0597203207243072e-05 :   8.28872629534472e-05 :  9.946475740002999e-05 : False : False : NonNegativeReals\n",
      "             C14H30 :  8.830200398138991e-06 :  7.049122428218369e-05 :  8.458950513031578e-05 : False : False : NonNegativeReals\n",
      "             C15H30 : 3.2753943220251526e-06 : 2.9228431001943135e-05 :  3.507413302051034e-05 : False : False : NonNegativeReals\n",
      "             C15H32 : 2.7305929552427987e-06 : 2.4871465580157248e-05 :  2.984577229650846e-05 : False : False : NonNegativeReals\n",
      "             C16H32 : 1.0153810901070614e-06 : 1.0342487940688073e-05 : 1.2410991502074642e-05 : False : False : NonNegativeReals\n",
      "             C16H34 :  8.468491177451477e-07 :  8.805096456170765e-06 :  1.056612088250748e-05 : False : False : NonNegativeReals\n",
      "             C17H34 :  3.155787995363371e-07 :  3.670603325187024e-06 :  4.404726244027961e-06 : False : False : NonNegativeReals\n",
      "             C17H36 :  2.632956455829406e-07 : 3.1263030605750783e-06 :  3.751565610007108e-06 : False : False : NonNegativeReals\n",
      "             C18H36 :  9.829994222494334e-08 : 1.3060883845848372e-06 : 1.5673069112239631e-06 : False : False : NonNegativeReals\n",
      "             C18H38 :   8.20403918564582e-08 : 1.1128257381731843e-06 : 1.3353916161204045e-06 : False : False : NonNegativeReals\n",
      "             C19H38 :  3.067923366121628e-08 :  4.657897889283299e-07 :  5.589480668257517e-07 : False : False : NonNegativeReals\n",
      "             C19H40 : 2.5611837587716102e-08 : 3.9699585812237035e-07 :  4.763953048415375e-07 : False : False : NonNegativeReals\n",
      "             C20H40 :   9.59137285245986e-09 : 1.6644570829918377e-07 : 1.9973497046284393e-07 : False : False : NonNegativeReals\n",
      "             C20H42 :  8.009117340106347e-09 : 1.4190367242735546e-07 : 1.7028451045850083e-07 : False : False : NonNegativeReals\n",
      "             C21H44 : 2.5082847646051035e-09 :  5.081058171887623e-08 :  6.097273700930311e-08 : False : False : NonNegativeReals\n",
      "             C22H46 :  7.865875463848274e-10 : 1.8221579325720853e-08 : 2.1865909829791598e-08 : False : False : NonNegativeReals\n",
      "             C23H48 :  2.469648861565606e-10 :  6.543639338551147e-09 :  7.852372704984094e-09 : False : False : NonNegativeReals\n",
      "             C24H50 :  7.762282401403956e-11 : 2.3528486390317623e-09 :  2.823420430983053e-09 : False : False : NonNegativeReals\n",
      "             C25H52 :  2.442107624553816e-11 :  8.469498788624347e-10 : 1.0163406290186726e-09 : False : False : NonNegativeReals\n",
      "             C26H54 :  7.689924496792599e-12 : 3.0518625755529086e-10 : 3.6622379941602897e-10 : False : False : NonNegativeReals\n",
      "             C27H56 :  2.423409922976502e-12 : 1.1007174344351065e-10 : 1.3208620093660196e-10 : False : False : NonNegativeReals\n",
      "             C28H58 :  7.642737136661235e-13 : 3.9733346266799404e-11 : 4.7680056271484384e-11 : False : False : NonNegativeReals\n",
      "             C29H60 :  2.411911615634846e-13 : 1.4353959880128804e-11 : 1.7224767111325636e-11 : False : False : NonNegativeReals\n",
      "             C30H62 :  7.616237150637386e-14 :  5.189170458379134e-12 :  6.227010258024951e-12 : False : False : NonNegativeReals\n",
      "             C31H64 : 2.4063837277809148e-14 : 1.8771937151816805e-12 :  2.252634592954368e-12 : False : False : NonNegativeReals\n",
      "             C32H66 :  7.607038945089107e-15 :  6.794900502418796e-13 :  8.153888583088299e-13 : False : False : NonNegativeReals\n",
      "             C33H68 : 2.4058893416699292e-15 :   2.46093491744606e-13 : 2.9531248828532964e-13 : False : False : NonNegativeReals\n",
      "             C34H70 :  7.612538771892687e-16 :  8.917483160721141e-14 : 1.0700990930671934e-13 : False : False : NonNegativeReals\n",
      "             C35H72 :  2.409702022204742e-16 : 3.2329088546232957e-14 :  3.879494784001149e-14 : False : False : NonNegativeReals\n",
      "             C36H74 :  7.630702513416613e-17 : 1.1725705563445078e-14 : 1.4070862196382609e-14 : False : False : NonNegativeReals\n",
      "             C37H76 : 2.4172502541252784e-17 :  4.254667033802968e-15 :  5.105606230934644e-15 : False : False : NonNegativeReals\n",
      "             C38H78 :  7.659919331069405e-18 : 1.5444047833896479e-15 : 1.8532878996054534e-15 : False : False : NonNegativeReals\n",
      "             C39H80 : 2.4280786760116974e-18 :  5.608085383044638e-16 :  6.729710510980839e-16 : False : False : NonNegativeReals\n",
      "             C40H82 :  7.698898437322468e-19 : 2.0371167075733463e-16 :  2.444543049850205e-16 : False : False : NonNegativeReals\n",
      "             C41H84 :   2.44182045535681e-19 :  7.402113780188013e-17 :  8.882547716644553e-17 : False : False : NonNegativeReals\n",
      "             C42H86 :   7.74659482140587e-20 :  2.690454475223521e-17 :  3.228549534660903e-17 : False : False : NonNegativeReals\n",
      "             C43H88 :  2.458177230153452e-20 :  9.781776986509995e-18 : 1.1738147890420542e-17 : False : False : NonNegativeReals\n",
      "             C44H90 :  7.802154852789584e-21 :  3.557335850439068e-18 : 4.2688087929447556e-18 : False : False : NonNegativeReals\n",
      "             C45H92 :  2.476904298503007e-21 : 1.2940180110625303e-18 : 1.5528237614938498e-18 : False : False : NonNegativeReals\n",
      "             C46H94 :  7.864875805468282e-22 :  4.708233045989792e-19 :  5.649887647692762e-19 : False : False : NonNegativeReals\n",
      "             C47H96 :  2.497799517327444e-22 : 1.7134524274738303e-19 : 2.0561458858296465e-19 : False : False : NonNegativeReals\n",
      "             C48H98 :  7.934175306828977e-23 :  6.237022711293951e-20 :  7.484438308510183e-20 : False : False : NonNegativeReals\n",
      "            C49H100 : 2.5206948673508228e-23 : 2.2707475519774636e-20 :    2.7249011722954e-20 : False : False : NonNegativeReals\n",
      "              C4H10 :     1.6872139586210533 :     3.8568839321229746 :      4.628261364423432 : False : False : NonNegativeReals\n",
      "               C4H8 :      2.073539769071237 :      4.662043629151178 :     5.5944531145741445 : False : False : NonNegativeReals\n",
      "            C50H102 :  8.009567977045915e-24 :  8.268791894331405e-21 :  9.922565549119342e-21 : False : False : NonNegativeReals\n",
      "            C51H104 : 2.5454499643590522e-24 : 3.0115680698040948e-21 :  3.613887360275951e-21 : False : False : NonNegativeReals\n",
      "            C52H106 :  8.090647354929127e-25 : 1.0970255539826973e-21 : 1.3164327736924592e-21 : False : False : NonNegativeReals\n",
      "            C53H108 :  2.571947011153201e-25 :  3.996782629641205e-22 :  4.796146988816937e-22 : False : False : NonNegativeReals\n",
      "            C54H110 :  8.177071762568821e-26 : 1.4563661210562443e-22 : 1.7476422541993523e-22 : False : False : NonNegativeReals\n",
      "            C55H112 :  2.600086829646403e-26 :  5.307544078572202e-23 :  6.369063694599595e-23 : False : False : NonNegativeReals\n",
      "            C56H114 :  8.268553140760854e-27 :   1.93453508602983e-23 : 2.3214461123889346e-23 : False : False : NonNegativeReals\n",
      "              C5H10 :     0.5619359209643935 :     1.4111807155572862 :     1.6934171312648583 : False : False : NonNegativeReals\n",
      "              C5H12 :     0.4607524353310093 :     1.1778829678153055 :     1.4134597946535212 : False : False : NonNegativeReals\n",
      "              C6H12 :     0.1584949634075705 :     0.4474489723044013 :     0.5369388675415155 : False : False : NonNegativeReals\n",
      "              C6H14 :    0.13056151932755528 :    0.37549804666085246 :     0.4505977424750004 : False : False : NonNegativeReals\n",
      "              C7H14 :   0.045850179066978664 :    0.14610860375178752 :     0.1753303622611216 : False : False : NonNegativeReals\n",
      "              C7H16 :   0.037887474388824935 :    0.12305902717689508 :    0.14767086505820765 : False : False : NonNegativeReals\n",
      "              C8H16 :   0.013497419131093638 :    0.04868733385722929 :    0.05842481486641634 : False : False : NonNegativeReals\n",
      "              C8H18 :   0.011178287153337746 :   0.041113087776951746 :    0.04933571757435519 : False : False : NonNegativeReals\n",
      "              C9H18 :   0.004024341046557671 :   0.016465828264697852 :    0.01975899930217788 : False : False : NonNegativeReals\n",
      "              C9H20 :   0.003338458054892252 :   0.013931297012611159 :   0.016717561046194346 : False : False : NonNegativeReals\n",
      "        P_sat_dY0 : Size=1, Index=None\n",
      "            Key  : Lower              : Value             : Upper               : Fixed : Stale : Domain\n",
      "            None : -4.744326116768978 : -3.95360496826791 : -2.7234236355853394 : False : False :  Reals\n",
      "        P_sat_dY_inf : Size=1, Index=None\n",
      "            Key  : Lower               : Value               : Upper              : Fixed : Stale : Domain\n",
      "            None : -1.3709124085256938 : -1.0054954390974888 : -0.804396326170815 : False : False :  Reals\n",
      "        gamma : Size=70, Index=VLE_block.COMP_NONHENRY\n",
      "            Key     : Lower               : Value               : Upper               : Fixed : Stale : Domain\n",
      "             C10H20 :  0.3320234693758017 : 0.44793376860093503 :  0.5375205293158789 : False : False : NonNegativeReals\n",
      "             C10H22 :  0.3320234693758017 : 0.44793376860093503 :  0.5375205293158789 : False : False : NonNegativeReals\n",
      "             C11H22 : 0.33816252297030747 :  0.4554914016060789 :  0.5465896888918859 : False : False : NonNegativeReals\n",
      "             C11H24 : 0.33816252297030747 :  0.4554914016060789 :  0.5465896888918859 : False : False : NonNegativeReals\n",
      "             C12H24 : 0.34441508654983644 : 0.46317654858905666 :  0.5558118652382842 : False : False : NonNegativeReals\n",
      "             C12H26 : 0.34441508654983644 : 0.46317654858905666 :  0.5558118652382842 : False : False : NonNegativeReals\n",
      "             C13H26 : 0.35078325889337825 :  0.4709913609925928 :  0.5651896400862506 : False : False : NonNegativeReals\n",
      "             C13H28 : 0.35078325889337825 :  0.4709913609925928 :  0.5651896400862506 : False : False : NonNegativeReals\n",
      "             C14H28 : 0.35726917758596444 :  0.4789380265590071 :  0.5747256387264734 : False : False : NonNegativeReals\n",
      "             C14H30 : 0.35726917758596444 :  0.4789380265590071 :  0.5747256387264734 : False : False : NonNegativeReals\n",
      "             C15H30 :  0.3638750197361853 :  0.4870187699426691 :  0.5844225307440987 : False : False : NonNegativeReals\n",
      "             C15H32 :  0.3638750197361853 :  0.4870187699426691 :  0.5844225307440987 : False : False : NonNegativeReals\n",
      "             C16H32 :   0.370603002706973 : 0.49523585333278614 :   0.594283030766075 : False : False : NonNegativeReals\n",
      "             C16H34 :   0.370603002706973 : 0.49523585333278614 :   0.594283030766075 : False : False : NonNegativeReals\n",
      "             C17H34 : 0.37745538485989766 :  0.5035915770866988 :  0.6043098992211089 : False : False : NonNegativeReals\n",
      "             C17H36 : 0.37745538485989766 :  0.5035915770866988 :  0.6043098992211089 : False : False : NonNegativeReals\n",
      "             C18H36 : 0.38443446631322387 :  0.5120882803738618 :  0.6145059431124411 : False : False : NonNegativeReals\n",
      "             C18H38 : 0.38443446631322387 :  0.5120882803738618 :  0.6145059431124411 : False : False : NonNegativeReals\n",
      "             C19H38 :  0.3915425897139851 :  0.5207283418306903 :  0.6248740168036624 : False : False : NonNegativeReals\n",
      "             C19H40 :  0.3915425897139851 :  0.5207283418306903 :  0.6248740168036624 : False : False : NonNegativeReals\n",
      "             C20H40 : 0.39878214102433257 :  0.5295141802264544 :  0.6354170228177871 : False : False : NonNegativeReals\n",
      "             C20H42 : 0.39878214102433257 :  0.5295141802264544 :  0.6354170228177871 : False : False : NonNegativeReals\n",
      "             C21H44 :   0.406155550322424 :  0.5384482551404098 :   0.646137912649809 : False : False : NonNegativeReals\n",
      "             C22H46 : 0.41366529261812035 :  0.5475330676503519 :  0.6570396875929675 : False : False : NonNegativeReals\n",
      "             C23H48 :  0.4213138886837652 :   0.556771161032788 :   0.668125399578953 : False : False : NonNegativeReals\n",
      "             C24H50 : 0.42910390590032443 :   0.566165121474923 :  0.6793981520322904 : False : False : NonNegativeReals\n",
      "             C25H52 :  0.4370379591191714 :  0.5757175787986579 :  0.6908611007391372 : False : False : NonNegativeReals\n",
      "             C26H54 :  0.4451187115398058 :  0.5854312071968031 :  0.7025174547307387 : False : False : NonNegativeReals\n",
      "             C27H56 :  0.4533488756038023 :  0.5953087259817141 :  0.7143704771817923 : False : False : NonNegativeReals\n",
      "             C28H58 : 0.46173121390528704 :  0.6053529003465583 :  0.7264234863239649 : False : False : NonNegativeReals\n",
      "             C29H60 : 0.47026854011824926 :  0.6155665421394247 :   0.738679856374828 : False : False : NonNegativeReals\n",
      "             C30H62 : 0.47896371994099896 :   0.625952510650497 :  0.7511430184824622 : False : False : NonNegativeReals\n",
      "             C31H64 : 0.48781967205808713 :  0.6365137134125048 :   0.763816461686001 : False : False : NonNegativeReals\n",
      "             C32H66 : 0.49683936912001114 :  0.6472531070146844 :  0.7767037338923811 : False : False : NonNegativeReals\n",
      "             C33H68 :   0.506025838741036 :   0.658173697930468 :  0.7898084428695723 : False : False : NonNegativeReals\n",
      "             C34H70 :  0.5153821645154641 :  0.6692785433591422 :  0.8031342572565652 : False : False : NonNegativeReals\n",
      "             C35H72 :   0.524911487052696 :  0.6805707520817044 :  0.8166849075904006 : False : False : NonNegativeReals\n",
      "             C36H74 :  0.5346170050314288 :  0.6920534853311607 :  0.8304641873505252 : False : False : NonNegativeReals\n",
      "             C37H76 :   0.544501976273348 :  0.7037299576775072 :  0.8444759540207702 : False : False : NonNegativeReals\n",
      "             C38H78 :   0.554569718836669 :  0.7156034379276428 :  0.8587241301692466 : False : False : NonNegativeReals\n",
      "             C39H80 :   0.564823612129901 :  0.7276772500404657 :  0.8732127045464607 : False : False : NonNegativeReals\n",
      "             C40H82 :  0.5752670980462022 :  0.7399547740574095 :   0.887945733201957 : False : False : NonNegativeReals\n",
      "             C41H84 :  0.5859036821187097 :  0.7524394470486798 :  0.9029273406198024 : False : False : NonNegativeReals\n",
      "             C42H86 :  0.5967369346972305 :  0.7651347640754556 :  0.9181617208732276 : False : False : NonNegativeReals\n",
      "             C43H88 :  0.6077704921466915 :  0.7780442791683249 :  0.9336531387987499 : False : False : NonNegativeReals\n",
      "             C44H90 :  0.6190080580677452 :  0.7911716063222295 :  0.9494059311901072 : False : False : NonNegativeReals\n",
      "             C45H92 :  0.6304534045399474 :  0.8045204205081959 :   0.965424508012334 : False : False : NonNegativeReals\n",
      "             C46H94 :   0.642110373387919 :  0.8180944587021367 :  0.9817133536363241 : False : False : NonNegativeReals\n",
      "             C47H96 :    0.65398287747092 :  0.8318975209310103 :   0.998277028094221 : False : False : NonNegativeReals\n",
      "             C48H98 :  0.6660749019962666 :  0.8459334713366311 :  1.0151201683559914 : False : False : NonNegativeReals\n",
      "            C49H100 :  0.6783905058570341 :  0.8602062392574291 :  1.0322474896275353 : False : False : NonNegativeReals\n",
      "              C4H10 : 0.29746004055856956 :  0.4051497073621764 : 0.48617965595210183 : False : False : NonNegativeReals\n",
      "               C4H8 : 0.29746004055856956 :  0.4051497073621764 : 0.48617965595210183 : False : False : NonNegativeReals\n",
      "            C50H102 :  0.6909338229944929 :  0.8747198203284613 :  1.0496637866707001 : False : False : NonNegativeReals\n",
      "            C51H104 :  0.7037090637857357 :  0.8894782775999813 :  1.0673739351455651 : False : False : NonNegativeReals\n",
      "            C52H106 :  0.7167205164569629 :  0.9044857426748841 :  1.0853828929753726 : False : False : NonNegativeReals\n",
      "            C53H108 :  0.7299725485228973 :  0.9197464168653396 :  1.1036957017344906 : False : False : NonNegativeReals\n",
      "            C54H110 :  0.7434696082528152 :  0.9352645723689427 :  1.1223174880597915 : False : False : NonNegativeReals\n",
      "            C55H112 :  0.7572162261636833 :  0.9510445534647071 :  1.1412534650858446 : False : False : NonNegativeReals\n",
      "            C56H114 :  0.7712170165409036 :  0.9670907777292381 :  1.1605089339043237 : False : False : NonNegativeReals\n",
      "              C5H10 : 0.30296002263708344 : 0.41198547866369817 : 0.49438258149998654 : False : False : NonNegativeReals\n",
      "              C5H12 : 0.30296002263708344 : 0.41198547866369817 : 0.49438258149998654 : False : False : NonNegativeReals\n",
      "              C6H12 : 0.30856169838445846 :  0.4189365845401624 :  0.5027239085353057 : False : False : NonNegativeReals\n",
      "              C6H14 : 0.30856169838445846 :  0.4189365845401624 :  0.5027239085353057 : False : False : NonNegativeReals\n",
      "              C7H14 : 0.31426694809814626 : 0.42600497094083967 :  0.5112059721971036 : False : False : NonNegativeReals\n",
      "              C7H16 : 0.31426694809814626 : 0.42600497094083967 :  0.5112059721971036 : False : False : NonNegativeReals\n",
      "              C8H16 : 0.32007768684195653 :  0.4331926166474669 :  0.5198311470233821 : False : False : NonNegativeReals\n",
      "              C8H18 : 0.32007768684195653 :  0.4331926166474669 :  0.5198311470233821 : False : False : NonNegativeReals\n",
      "              C9H18 :  0.3259958650888809 : 0.44050153382820356 :  0.5286018476158486 : False : False : NonNegativeReals\n",
      "              C9H20 :  0.3259958650888809 : 0.44050153382820356 :  0.5286018476158486 : False : False : NonNegativeReals\n",
      "        gamma_ref : Size=1, Index=None\n",
      "            Key  : Lower : Value              : Upper              : Fixed : Stale : Domain\n",
      "            None :   0.0 : 0.4189365845401624 : 0.8378731808921761 : False : False : NonNegativeReals\n",
      "        n_ave : Size=1, Index=None\n",
      "            Key  : Lower : Value : Upper : Fixed : Stale : Domain\n",
      "            None :     7 :    58 :    58 :  True :  True : NonNegativeReals\n",
      "        n_ave_cal : Size=1, Index=None\n",
      "            Key  : Lower : Value             : Upper : Fixed : Stale : Domain\n",
      "            None :     0 : 3.162327678625402 :  None : False : False : NonNegativeReals\n",
      "\n",
      "    13 Constraint Declarations\n",
      "        Hen0_con : Size=9, Index=VLE_block.COMP_HENRY, Active=True\n",
      "            Key  : Lower : Body                                                                                                            : Upper : Active\n",
      "            C1H4 :   0.0 : -0.300209 + VLE_block.Hen0[C1H4] - (-114.655) / T - 1.02385*log( T ) + 2.53913e-06*T**2.0 - (-4257.18) / T**2.0 :   0.0 :   True\n",
      "            C2H4 :   0.0 :   -6.61084 + VLE_block.Hen0[C2H4] - 15.217 / T + 0.0751183*log( T ) + 2.56655e-07*T**2.0 - (-183928.0) / T**2.0 :   0.0 :   True\n",
      "            C2H6 :   0.0 :  -6.66047 + VLE_block.Hen0[C2H6] - 15.1525 / T + 0.0745718*log( T ) + 2.55981e-07*T**2.0 - (-239557.0) / T**2.0 :   0.0 :   True\n",
      "            C3H6 :   0.0 :   -6.33671 + VLE_block.Hen0[C3H6] - 15.095 / T + 0.0743429*log( T ) + 2.54569e-07*T**2.0 - (-314944.0) / T**2.0 :   0.0 :   True\n",
      "            C3H8 :   0.0 :  -5.22622 + VLE_block.Hen0[C3H8] - 7.43296 / T - 0.0598087*log( T ) - 6.02721e-07*T**2.0 - (-291596.0) / T**2.0 :   0.0 :   True\n",
      "              CO :   0.0 :         -5.79833 + VLE_block.Hen0[CO] - 19.5937 / T - 0.152199*log( T ) + 1.89733e-06*T**2.0 - 2031.63 / T**2.0 :   0.0 :   True\n",
      "             CO2 :   0.0 :    -6.65249 + VLE_block.Hen0[CO2] - 15.2964 / T + 0.0760998*log( T ) + 2.5608e-07*T**2.0 - (-144960.0) / T**2.0 :   0.0 :   True\n",
      "              H2 :   0.0 :         -12.9353 + VLE_block.Hen0[H2] - 22.9058 / T + 0.974709*log( T ) + 1.20408e-06*T**2.0 - 2244.61 / T**2.0 :   0.0 :   True\n",
      "             H2O :   0.0 :                         -7.88232 + VLE_block.Hen0[H2O] - 14.437 / T + 0.0648305*log( T ) - (-465952.0) / T**2.0 :   0.0 :   True\n",
      "        Hen0_ref_con : Size=1, Index=None, Active=True\n",
      "            Key  : Lower : Body                                                                                                         : Upper : Active\n",
      "            None :   0.0 : -5.03841 + VLE_block.Hen0_ref - 102.049 / T - 0.0782713*log( T ) + 2.31129e-07*T**2.0 - (-650347.0) / T**2.0 :   0.0 :   True\n",
      "        Hen_con : Size=9, Index=VLE_block.COMP_HENRY, Active=True\n",
      "            Key  : Lower : Body                                                                                   : Upper : Active\n",
      "            C1H4 :   0.0 : VLE_block.Hen[C1H4] * exp( 0.0190354 * VLE_block.n_ave ) - exp( VLE_block.Hen0[C1H4] ) :   0.0 :   True\n",
      "            C2H4 :   0.0 : VLE_block.Hen[C2H4] * exp( 0.0246608 * VLE_block.n_ave ) - exp( VLE_block.Hen0[C2H4] ) :   0.0 :   True\n",
      "            C2H6 :   0.0 : VLE_block.Hen[C2H6] * exp( 0.0226055 * VLE_block.n_ave ) - exp( VLE_block.Hen0[C2H6] ) :   0.0 :   True\n",
      "            C3H6 :   0.0 : VLE_block.Hen[C3H6] * exp( 0.0202632 * VLE_block.n_ave ) - exp( VLE_block.Hen0[C3H6] ) :   0.0 :   True\n",
      "            C3H8 :   0.0 : VLE_block.Hen[C3H8] * exp( 0.0214924 * VLE_block.n_ave ) - exp( VLE_block.Hen0[C3H8] ) :   0.0 :   True\n",
      "              CO :   0.0 :     VLE_block.Hen[CO] * exp( 0.0173238 * VLE_block.n_ave ) - exp( VLE_block.Hen0[CO] ) :   0.0 :   True\n",
      "             CO2 :   0.0 :   VLE_block.Hen[CO2] * exp( 0.0210941 * VLE_block.n_ave ) - exp( VLE_block.Hen0[CO2] ) :   0.0 :   True\n",
      "              H2 :   0.0 :     VLE_block.Hen[H2] * exp( 0.0200959 * VLE_block.n_ave ) - exp( VLE_block.Hen0[H2] ) :   0.0 :   True\n",
      "             H2O :   0.0 :   VLE_block.Hen[H2O] * exp( 0.0605329 * VLE_block.n_ave ) - exp( VLE_block.Hen0[H2O] ) :   0.0 :   True\n",
      "        Hen_ref_con : Size=1, Index=None, Active=True\n",
      "            Key  : Lower : Body                                                                              : Upper : Active\n",
      "            None :   0.0 : VLE_block.Hen_ref * exp( 0.017397 * VLE_block.n_ave ) - exp( VLE_block.Hen0_ref ) :   0.0 :   True\n",
      "        P_sat_con : Size=70, Index=VLE_block.COMP_NONHENRY, Active=True\n"
     ]
    },
    {
     "name": "stdout",
     "output_type": "stream",
     "text": [
      "            Key     : Lower : Body                                                                                                                           : Upper : Active\n",
      "             C10H20 :   0.0 :           -2.72709 + log( VLE_block.P_sat[C10H20] ) - 8.718595*VLE_block.P_sat_dY_inf + 0.2175393206832472*VLE_block.P_sat_dY0 :   0.0 :   True\n",
      "             C10H22 :   0.0 :           -2.72709 + log( VLE_block.P_sat[C10H22] ) - 8.873769*VLE_block.P_sat_dY_inf + 0.2151069188297999*VLE_block.P_sat_dY0 :   0.0 :   True\n",
      "             C11H22 :   0.0 :          -2.72709 + log( VLE_block.P_sat[C11H22] ) - 9.718595*VLE_block.P_sat_dY_inf + 0.20272332706887297*VLE_block.P_sat_dY0 :   0.0 :   True\n",
      "             C11H24 :   0.0 :          -2.72709 + log( VLE_block.P_sat[C11H24] ) - 9.873769*VLE_block.P_sat_dY_inf + 0.20059394118239604*VLE_block.P_sat_dY0 :   0.0 :   True\n",
      "             C12H24 :   0.0 :         -2.72709 + log( VLE_block.P_sat[C12H24] ) - 10.718595*VLE_block.P_sat_dY_inf + 0.18969649729376814*VLE_block.P_sat_dY0 :   0.0 :   True\n",
      "             C12H26 :   0.0 :          -2.72709 + log( VLE_block.P_sat[C12H26] ) - 10.873769*VLE_block.P_sat_dY_inf + 0.1878132973929784*VLE_block.P_sat_dY0 :   0.0 :   True\n",
      "             C13H26 :   0.0 :         -2.72709 + log( VLE_block.P_sat[C13H26] ) - 11.718595*VLE_block.P_sat_dY_inf + 0.17813383337027291*VLE_block.P_sat_dY0 :   0.0 :   True\n",
      "             C13H28 :   0.0 :         -2.72709 + log( VLE_block.P_sat[C13H28] ) - 11.873769*VLE_block.P_sat_dY_inf + 0.17645411261540048*VLE_block.P_sat_dY0 :   0.0 :   True\n",
      "             C14H28 :   0.0 :          -2.72709 + log( VLE_block.P_sat[C14H28] ) - 12.718595*VLE_block.P_sat_dY_inf + 0.1677886684229094*VLE_block.P_sat_dY0 :   0.0 :   True\n",
      "             C14H30 :   0.0 :         -2.72709 + log( VLE_block.P_sat[C14H30] ) - 12.873769*VLE_block.P_sat_dY_inf + 0.16627955615445292*VLE_block.P_sat_dY0 :   0.0 :   True\n",
      "             C15H30 :   0.0 :          -2.72709 + log( VLE_block.P_sat[C15H30] ) - 13.718595*VLE_block.P_sat_dY_inf + 0.1584695614282373*VLE_block.P_sat_dY0 :   0.0 :   True\n",
      "             C15H32 :   0.0 :         -2.72709 + log( VLE_block.P_sat[C15H32] ) - 13.873769*VLE_block.P_sat_dY_inf + 0.15710524580290214*VLE_block.P_sat_dY0 :   0.0 :   True\n",
      "             C16H32 :   0.0 :         -2.72709 + log( VLE_block.P_sat[C16H32] ) - 14.718595*VLE_block.P_sat_dY_inf + 0.15002511444020245*VLE_block.P_sat_dY0 :   0.0 :   True\n",
      "             C16H34 :   0.0 :          -2.72709 + log( VLE_block.P_sat[C16H34] ) - 14.873769*VLE_block.P_sat_dY_inf + 0.1487849785294689*VLE_block.P_sat_dY0 :   0.0 :   True\n",
      "             C17H34 :   0.0 :         -2.72709 + log( VLE_block.P_sat[C17H34] ) - 15.718595*VLE_block.P_sat_dY_inf + 0.14233366014361445*VLE_block.P_sat_dY0 :   0.0 :   True\n",
      "             C17H36 :   0.0 :         -2.72709 + log( VLE_block.P_sat[C17H36] ) - 15.873769*VLE_block.P_sat_dY_inf + 0.14120099326161334*VLE_block.P_sat_dY0 :   0.0 :   True\n",
      "             C18H36 :   0.0 :         -2.72709 + log( VLE_block.P_sat[C18H36] ) - 16.718595*VLE_block.P_sat_dY_inf + 0.13529605797841274*VLE_block.P_sat_dY0 :   0.0 :   True\n",
      "             C18H38 :   0.0 :          -2.72709 + log( VLE_block.P_sat[C18H38] ) - 16.873769*VLE_block.P_sat_dY_inf + 0.1342571417072984*VLE_block.P_sat_dY0 :   0.0 :   True\n",
      "             C19H38 :   0.0 :         -2.72709 + log( VLE_block.P_sat[C19H38] ) - 17.718595*VLE_block.P_sat_dY_inf + 0.12883053883425735*VLE_block.P_sat_dY0 :   0.0 :   True\n",
      "             C19H40 :   0.0 :         -2.72709 + log( VLE_block.P_sat[C19H40] ) - 17.873769*VLE_block.P_sat_dY_inf + 0.12787398432190802*VLE_block.P_sat_dY0 :   0.0 :   True\n",
      "             C20H40 :   0.0 :         -2.72709 + log( VLE_block.P_sat[C20H40] ) - 18.718595*VLE_block.P_sat_dY_inf + 0.12286893752168716*VLE_block.P_sat_dY0 :   0.0 :   True\n",
      "             C20H42 :   0.0 :         -2.72709 + log( VLE_block.P_sat[C20H42] ) - 18.873769*VLE_block.P_sat_dY_inf + 0.12198519559369557*VLE_block.P_sat_dY0 :   0.0 :   True\n",
      "             C21H44 :   0.0 :          -2.72709 + log( VLE_block.P_sat[C21H44] ) - 19.873769*VLE_block.P_sat_dY_inf + 0.1165348810449977*VLE_block.P_sat_dY0 :   0.0 :   True\n",
      "             C22H46 :   0.0 :         -2.72709 + log( VLE_block.P_sat[C22H46] ) - 20.873769*VLE_block.P_sat_dY_inf + 0.11147554240383759*VLE_block.P_sat_dY0 :   0.0 :   True\n",
      "             C23H48 :   0.0 :         -2.72709 + log( VLE_block.P_sat[C23H48] ) - 21.873769*VLE_block.P_sat_dY_inf + 0.10676651215615099*VLE_block.P_sat_dY0 :   0.0 :   True\n",
      "             C24H50 :   0.0 :         -2.72709 + log( VLE_block.P_sat[C24H50] ) - 22.873769*VLE_block.P_sat_dY_inf + 0.10237273365560177*VLE_block.P_sat_dY0 :   0.0 :   True\n",
      "             C25H52 :   0.0 :         -2.72709 + log( VLE_block.P_sat[C25H52] ) - 23.873769*VLE_block.P_sat_dY_inf + 0.09826379943392544*VLE_block.P_sat_dY0 :   0.0 :   True\n",
      "             C26H54 :   0.0 :          -2.72709 + log( VLE_block.P_sat[C26H54] ) - 24.873769*VLE_block.P_sat_dY_inf + 0.0944131850447847*VLE_block.P_sat_dY0 :   0.0 :   True\n",
      "             C27H56 :   0.0 :         -2.72709 + log( VLE_block.P_sat[C27H56] ) - 25.873769*VLE_block.P_sat_dY_inf + 0.09079763280128991*VLE_block.P_sat_dY0 :   0.0 :   True\n",
      "             C28H58 :   0.0 :         -2.72709 + log( VLE_block.P_sat[C28H58] ) - 26.873769*VLE_block.P_sat_dY_inf + 0.08739665170749115*VLE_block.P_sat_dY0 :   0.0 :   True\n",
      "             C29H60 :   0.0 :         -2.72709 + log( VLE_block.P_sat[C29H60] ) - 27.873769*VLE_block.P_sat_dY_inf + 0.08419210838544922*VLE_block.P_sat_dY0 :   0.0 :   True\n",
      "             C30H62 :   0.0 :         -2.72709 + log( VLE_block.P_sat[C30H62] ) - 28.873769*VLE_block.P_sat_dY_inf + 0.08116788993725882*VLE_block.P_sat_dY0 :   0.0 :   True\n",
      "             C31H64 :   0.0 :         -2.72709 + log( VLE_block.P_sat[C31H64] ) - 29.873769*VLE_block.P_sat_dY_inf + 0.07830962416984957*VLE_block.P_sat_dY0 :   0.0 :   True\n",
      "             C32H66 :   0.0 :         -2.72709 + log( VLE_block.P_sat[C32H66] ) - 30.873769*VLE_block.P_sat_dY_inf + 0.07560444593171575*VLE_block.P_sat_dY0 :   0.0 :   True\n",
      "             C33H68 :   0.0 :         -2.72709 + log( VLE_block.P_sat[C33H68] ) - 31.873769*VLE_block.P_sat_dY_inf + 0.07304080079542441*VLE_block.P_sat_dY0 :   0.0 :   True\n",
      "             C34H70 :   0.0 :         -2.72709 + log( VLE_block.P_sat[C34H70] ) - 32.873769*VLE_block.P_sat_dY_inf + 0.07060827919751303*VLE_block.P_sat_dY0 :   0.0 :   True\n",
      "             C35H72 :   0.0 :         -2.72709 + log( VLE_block.P_sat[C35H72] ) - 33.873769*VLE_block.P_sat_dY_inf + 0.06829747557993353*VLE_block.P_sat_dY0 :   0.0 :   True\n",
      "             C36H74 :   0.0 :         -2.72709 + log( VLE_block.P_sat[C36H74] ) - 34.873769*VLE_block.P_sat_dY_inf + 0.06609986817975716*VLE_block.P_sat_dY0 :   0.0 :   True\n",
      "             C37H76 :   0.0 :         -2.72709 + log( VLE_block.P_sat[C37H76] ) - 35.873769*VLE_block.P_sat_dY_inf + 0.06400771596946273*VLE_block.P_sat_dY0 :   0.0 :   True\n",
      "             C38H78 :   0.0 :         -2.72709 + log( VLE_block.P_sat[C38H78] ) - 36.873769*VLE_block.P_sat_dY_inf + 0.06201396991924182*VLE_block.P_sat_dY0 :   0.0 :   True\n",
      "             C39H80 :   0.0 :          -2.72709 + log( VLE_block.P_sat[C39H80] ) - 37.873769*VLE_block.P_sat_dY_inf + 0.0601121962798388*VLE_block.P_sat_dY0 :   0.0 :   True\n",
      "             C40H82 :   0.0 :          -2.72709 + log( VLE_block.P_sat[C40H82] ) - 38.873769*VLE_block.P_sat_dY_inf + 0.0582965100024849*VLE_block.P_sat_dY0 :   0.0 :   True\n",
      "             C41H84 :   0.0 :         -2.72709 + log( VLE_block.P_sat[C41H84] ) - 39.873769*VLE_block.P_sat_dY_inf + 0.05656151674618867*VLE_block.P_sat_dY0 :   0.0 :   True\n",
      "             C42H86 :   0.0 :         -2.72709 + log( VLE_block.P_sat[C42H86] ) - 40.873769*VLE_block.P_sat_dY_inf + 0.05490226219064969*VLE_block.P_sat_dY0 :   0.0 :   True\n",
      "             C43H88 :   0.0 :        -2.72709 + log( VLE_block.P_sat[C43H88] ) - 41.873769*VLE_block.P_sat_dY_inf + 0.053314187589542456*VLE_block.P_sat_dY0 :   0.0 :   True\n",
      "             C44H90 :   0.0 :        -2.72709 + log( VLE_block.P_sat[C44H90] ) - 42.873769*VLE_block.P_sat_dY_inf + 0.051793090674738154*VLE_block.P_sat_dY0 :   0.0 :   True\n",
      "             C45H92 :   0.0 :        -2.72709 + log( VLE_block.P_sat[C45H92] ) - 43.873769*VLE_block.P_sat_dY_inf + 0.050335091165565636*VLE_block.P_sat_dY0 :   0.0 :   True\n",
      "             C46H94 :   0.0 :          -2.72709 + log( VLE_block.P_sat[C46H94] ) - 44.873769*VLE_block.P_sat_dY_inf + 0.0489366002549718*VLE_block.P_sat_dY0 :   0.0 :   True\n",
      "             C47H96 :   0.0 :          -2.72709 + log( VLE_block.P_sat[C47H96] ) - 45.873769*VLE_block.P_sat_dY_inf + 0.0475942935415014*VLE_block.P_sat_dY0 :   0.0 :   True\n",
      "             C48H98 :   0.0 :        -2.72709 + log( VLE_block.P_sat[C48H98] ) - 46.873769*VLE_block.P_sat_dY_inf + 0.046305086956376584*VLE_block.P_sat_dY0 :   0.0 :   True\n",
      "            C49H100 :   0.0 :       -2.72709 + log( VLE_block.P_sat[C49H100] ) - 47.873769*VLE_block.P_sat_dY_inf + 0.045066115301770834*VLE_block.P_sat_dY0 :   0.0 :   True\n",
      "              C4H10 :   0.0 :  -2.72709 + log( VLE_block.P_sat[C4H10] ) - 2.8737690000000002*VLE_block.P_sat_dY_inf + 0.3825195538362637*VLE_block.P_sat_dY0 :   0.0 :   True\n",
      "               C4H8 :   0.0 :             -2.72709 + log( VLE_block.P_sat[C4H8] ) - 2.718595*VLE_block.P_sat_dY_inf + 0.3910099225119507*VLE_block.P_sat_dY0 :   0.0 :   True\n",
      "            C50H102 :   0.0 :       -2.72709 + log( VLE_block.P_sat[C50H102] ) - 48.873769*VLE_block.P_sat_dY_inf + 0.043874713072151836*VLE_block.P_sat_dY0 :   0.0 :   True\n",
      "            C51H104 :   0.0 :       -2.72709 + log( VLE_block.P_sat[C51H104] ) - 49.873769*VLE_block.P_sat_dY_inf + 0.042728397277314645*VLE_block.P_sat_dY0 :   0.0 :   True\n",
      "            C52H106 :   0.0 :        -2.72709 + log( VLE_block.P_sat[C52H106] ) - 50.873769*VLE_block.P_sat_dY_inf + 0.04162485202504969*VLE_block.P_sat_dY0 :   0.0 :   True\n",
      "            C53H108 :   0.0 :        -2.72709 + log( VLE_block.P_sat[C53H108] ) - 51.873769*VLE_block.P_sat_dY_inf + 0.04056191465458553*VLE_block.P_sat_dY0 :   0.0 :   True\n",
      "            C54H110 :   0.0 :        -2.72709 + log( VLE_block.P_sat[C54H110] ) - 52.873769*VLE_block.P_sat_dY_inf + 0.03953756324006585*VLE_block.P_sat_dY0 :   0.0 :   True\n",
      "            C55H112 :   0.0 :        -2.72709 + log( VLE_block.P_sat[C55H112] ) - 53.873769*VLE_block.P_sat_dY_inf + 0.03854990530721531*VLE_block.P_sat_dY0 :   0.0 :   True\n",
      "            C56H114 :   0.0 :       -2.72709 + log( VLE_block.P_sat[C56H114] ) - 54.873769*VLE_block.P_sat_dY_inf + 0.037597167626721044*VLE_block.P_sat_dY0 :   0.0 :   True\n",
      "              C5H10 :   0.0 :           -2.72709 + log( VLE_block.P_sat[C5H10] ) - 3.718595*VLE_block.P_sat_dY_inf + 0.34307096033478396*VLE_block.P_sat_dY0 :   0.0 :   True\n",
      "              C5H12 :   0.0 :  -2.72709 + log( VLE_block.P_sat[C5H12] ) - 3.8737690000000002*VLE_block.P_sat_dY_inf + 0.3368282376198976*VLE_block.P_sat_dY0 :   0.0 :   True\n",
      "              C6H12 :   0.0 : -2.72709 + log( VLE_block.P_sat[C6H12] ) - 4.7185950000000005*VLE_block.P_sat_dY_inf + 0.30687005531580286*VLE_block.P_sat_dY0 :   0.0 :   True\n",
      "              C6H14 :   0.0 :            -2.72709 + log( VLE_block.P_sat[C6H14] ) - 4.873769*VLE_block.P_sat_dY_inf + 0.3019928648758995*VLE_block.P_sat_dY0 :   0.0 :   True\n",
      "              C7H14 :   0.0 :   -2.72709 + log( VLE_block.P_sat[C7H14] ) - 5.7185950000000005*VLE_block.P_sat_dY_inf + 0.278107227930645*VLE_block.P_sat_dY0 :   0.0 :   True\n",
      "              C7H16 :   0.0 :            -2.72709 + log( VLE_block.P_sat[C7H16] ) - 5.873769*VLE_block.P_sat_dY_inf + 0.2741464576091229*VLE_block.P_sat_dY0 :   0.0 :   True\n",
      "              C8H16 :   0.0 : -2.72709 + log( VLE_block.P_sat[C8H16] ) - 6.7185950000000005*VLE_block.P_sat_dY_inf + 0.25447414952415587*VLE_block.P_sat_dY0 :   0.0 :   True\n",
      "              C8H18 :   0.0 :            -2.72709 + log( VLE_block.P_sat[C8H18] ) - 6.873769*VLE_block.P_sat_dY_inf + 0.2511694051643707*VLE_block.P_sat_dY0 :   0.0 :   True\n",
      "              C9H18 :   0.0 : -2.72709 + log( VLE_block.P_sat[C9H18] ) - 7.7185950000000005*VLE_block.P_sat_dY_inf + 0.23458438977404864*VLE_block.P_sat_dY0 :   0.0 :   True\n",
      "              C9H20 :   0.0 :            -2.72709 + log( VLE_block.P_sat[C9H20] ) - 7.873769*VLE_block.P_sat_dY_inf + 0.2317711150055243*VLE_block.P_sat_dY0 :   0.0 :   True\n",
      "        P_sat_dY0_con : Size=1, Index=None, Active=True\n",
      "            Key  : Lower : Body                                                                                                          : Upper : Active\n",
      "            None :   0.0 : -5.75509 + (-7.56568) / T + 0.0857734*log( T ) - 1.41964e-05*T**2.0 + 267209.0 / T**2.0 - VLE_block.P_sat_dY0 :   0.0 :   True\n",
      "        P_sat_dY_inf_con : Size=1, Index=None, Active=True\n",
      "            Key  : Lower : Body                                                                                                         : Upper : Active\n",
      "            None :   0.0 : 15.8059 + (-1496.56) / T - 2.17342*log( T ) + 7.27763e-07*T**2.0 + 37876.2 / T**2.0 - VLE_block.P_sat_dY_inf :   0.0 :   True\n",
      "        f_L_HENRY_con : Size=9, Index=VLE_block.COMP_HENRY, Active=True\n",
      "            Key  : Lower : Body                                      : Upper : Active\n",
      "            C1H4 :   0.0 : f_L[C1H4] - VLE_block.Hen[C1H4] * x[C1H4] :   0.0 :   True\n",
      "            C2H4 :   0.0 : f_L[C2H4] - VLE_block.Hen[C2H4] * x[C2H4] :   0.0 :   True\n",
      "            C2H6 :   0.0 : f_L[C2H6] - VLE_block.Hen[C2H6] * x[C2H6] :   0.0 :   True\n",
      "            C3H6 :   0.0 : f_L[C3H6] - VLE_block.Hen[C3H6] * x[C3H6] :   0.0 :   True\n",
      "            C3H8 :   0.0 : f_L[C3H8] - VLE_block.Hen[C3H8] * x[C3H8] :   0.0 :   True\n",
      "              CO :   0.0 :       f_L[CO] - VLE_block.Hen[CO] * x[CO] :   0.0 :   True\n",
      "             CO2 :   0.0 :    f_L[CO2] - VLE_block.Hen[CO2] * x[CO2] :   0.0 :   True\n",
      "              H2 :   0.0 :       f_L[H2] - VLE_block.Hen[H2] * x[H2] :   0.0 :   True\n",
      "             H2O :   0.0 :    f_L[H2O] - VLE_block.Hen[H2O] * x[H2O] :   0.0 :   True\n",
      "        f_L_NONHENRY_con : Size=70, Index=VLE_block.COMP_NONHENRY, Active=True\n"
     ]
    },
    {
     "name": "stdout",
     "output_type": "stream",
     "text": [
      "            Key     : Lower : Body                                                                            : Upper : Active\n",
      "             C10H20 :   0.0 :     f_L[C10H20] - VLE_block.gamma[C10H20] * VLE_block.P_sat[C10H20] * x[C10H20] :   0.0 :   True\n",
      "             C10H22 :   0.0 :     f_L[C10H22] - VLE_block.gamma[C10H22] * VLE_block.P_sat[C10H22] * x[C10H22] :   0.0 :   True\n",
      "             C11H22 :   0.0 :     f_L[C11H22] - VLE_block.gamma[C11H22] * VLE_block.P_sat[C11H22] * x[C11H22] :   0.0 :   True\n",
      "             C11H24 :   0.0 :     f_L[C11H24] - VLE_block.gamma[C11H24] * VLE_block.P_sat[C11H24] * x[C11H24] :   0.0 :   True\n",
      "             C12H24 :   0.0 :     f_L[C12H24] - VLE_block.gamma[C12H24] * VLE_block.P_sat[C12H24] * x[C12H24] :   0.0 :   True\n",
      "             C12H26 :   0.0 :     f_L[C12H26] - VLE_block.gamma[C12H26] * VLE_block.P_sat[C12H26] * x[C12H26] :   0.0 :   True\n",
      "             C13H26 :   0.0 :     f_L[C13H26] - VLE_block.gamma[C13H26] * VLE_block.P_sat[C13H26] * x[C13H26] :   0.0 :   True\n",
      "             C13H28 :   0.0 :     f_L[C13H28] - VLE_block.gamma[C13H28] * VLE_block.P_sat[C13H28] * x[C13H28] :   0.0 :   True\n",
      "             C14H28 :   0.0 :     f_L[C14H28] - VLE_block.gamma[C14H28] * VLE_block.P_sat[C14H28] * x[C14H28] :   0.0 :   True\n",
      "             C14H30 :   0.0 :     f_L[C14H30] - VLE_block.gamma[C14H30] * VLE_block.P_sat[C14H30] * x[C14H30] :   0.0 :   True\n",
      "             C15H30 :   0.0 :     f_L[C15H30] - VLE_block.gamma[C15H30] * VLE_block.P_sat[C15H30] * x[C15H30] :   0.0 :   True\n",
      "             C15H32 :   0.0 :     f_L[C15H32] - VLE_block.gamma[C15H32] * VLE_block.P_sat[C15H32] * x[C15H32] :   0.0 :   True\n",
      "             C16H32 :   0.0 :     f_L[C16H32] - VLE_block.gamma[C16H32] * VLE_block.P_sat[C16H32] * x[C16H32] :   0.0 :   True\n",
      "             C16H34 :   0.0 :     f_L[C16H34] - VLE_block.gamma[C16H34] * VLE_block.P_sat[C16H34] * x[C16H34] :   0.0 :   True\n",
      "             C17H34 :   0.0 :     f_L[C17H34] - VLE_block.gamma[C17H34] * VLE_block.P_sat[C17H34] * x[C17H34] :   0.0 :   True\n",
      "             C17H36 :   0.0 :     f_L[C17H36] - VLE_block.gamma[C17H36] * VLE_block.P_sat[C17H36] * x[C17H36] :   0.0 :   True\n",
      "             C18H36 :   0.0 :     f_L[C18H36] - VLE_block.gamma[C18H36] * VLE_block.P_sat[C18H36] * x[C18H36] :   0.0 :   True\n",
      "             C18H38 :   0.0 :     f_L[C18H38] - VLE_block.gamma[C18H38] * VLE_block.P_sat[C18H38] * x[C18H38] :   0.0 :   True\n",
      "             C19H38 :   0.0 :     f_L[C19H38] - VLE_block.gamma[C19H38] * VLE_block.P_sat[C19H38] * x[C19H38] :   0.0 :   True\n",
      "             C19H40 :   0.0 :     f_L[C19H40] - VLE_block.gamma[C19H40] * VLE_block.P_sat[C19H40] * x[C19H40] :   0.0 :   True\n",
      "             C20H40 :   0.0 :     f_L[C20H40] - VLE_block.gamma[C20H40] * VLE_block.P_sat[C20H40] * x[C20H40] :   0.0 :   True\n",
      "             C20H42 :   0.0 :     f_L[C20H42] - VLE_block.gamma[C20H42] * VLE_block.P_sat[C20H42] * x[C20H42] :   0.0 :   True\n",
      "             C21H44 :   0.0 :     f_L[C21H44] - VLE_block.gamma[C21H44] * VLE_block.P_sat[C21H44] * x[C21H44] :   0.0 :   True\n",
      "             C22H46 :   0.0 :     f_L[C22H46] - VLE_block.gamma[C22H46] * VLE_block.P_sat[C22H46] * x[C22H46] :   0.0 :   True\n",
      "             C23H48 :   0.0 :     f_L[C23H48] - VLE_block.gamma[C23H48] * VLE_block.P_sat[C23H48] * x[C23H48] :   0.0 :   True\n",
      "             C24H50 :   0.0 :     f_L[C24H50] - VLE_block.gamma[C24H50] * VLE_block.P_sat[C24H50] * x[C24H50] :   0.0 :   True\n",
      "             C25H52 :   0.0 :     f_L[C25H52] - VLE_block.gamma[C25H52] * VLE_block.P_sat[C25H52] * x[C25H52] :   0.0 :   True\n",
      "             C26H54 :   0.0 :     f_L[C26H54] - VLE_block.gamma[C26H54] * VLE_block.P_sat[C26H54] * x[C26H54] :   0.0 :   True\n",
      "             C27H56 :   0.0 :     f_L[C27H56] - VLE_block.gamma[C27H56] * VLE_block.P_sat[C27H56] * x[C27H56] :   0.0 :   True\n",
      "             C28H58 :   0.0 :     f_L[C28H58] - VLE_block.gamma[C28H58] * VLE_block.P_sat[C28H58] * x[C28H58] :   0.0 :   True\n",
      "             C29H60 :   0.0 :     f_L[C29H60] - VLE_block.gamma[C29H60] * VLE_block.P_sat[C29H60] * x[C29H60] :   0.0 :   True\n",
      "             C30H62 :   0.0 :     f_L[C30H62] - VLE_block.gamma[C30H62] * VLE_block.P_sat[C30H62] * x[C30H62] :   0.0 :   True\n",
      "             C31H64 :   0.0 :     f_L[C31H64] - VLE_block.gamma[C31H64] * VLE_block.P_sat[C31H64] * x[C31H64] :   0.0 :   True\n",
      "             C32H66 :   0.0 :     f_L[C32H66] - VLE_block.gamma[C32H66] * VLE_block.P_sat[C32H66] * x[C32H66] :   0.0 :   True\n",
      "             C33H68 :   0.0 :     f_L[C33H68] - VLE_block.gamma[C33H68] * VLE_block.P_sat[C33H68] * x[C33H68] :   0.0 :   True\n",
      "             C34H70 :   0.0 :     f_L[C34H70] - VLE_block.gamma[C34H70] * VLE_block.P_sat[C34H70] * x[C34H70] :   0.0 :   True\n",
      "             C35H72 :   0.0 :     f_L[C35H72] - VLE_block.gamma[C35H72] * VLE_block.P_sat[C35H72] * x[C35H72] :   0.0 :   True\n",
      "             C36H74 :   0.0 :     f_L[C36H74] - VLE_block.gamma[C36H74] * VLE_block.P_sat[C36H74] * x[C36H74] :   0.0 :   True\n",
      "             C37H76 :   0.0 :     f_L[C37H76] - VLE_block.gamma[C37H76] * VLE_block.P_sat[C37H76] * x[C37H76] :   0.0 :   True\n",
      "             C38H78 :   0.0 :     f_L[C38H78] - VLE_block.gamma[C38H78] * VLE_block.P_sat[C38H78] * x[C38H78] :   0.0 :   True\n",
      "             C39H80 :   0.0 :     f_L[C39H80] - VLE_block.gamma[C39H80] * VLE_block.P_sat[C39H80] * x[C39H80] :   0.0 :   True\n",
      "             C40H82 :   0.0 :     f_L[C40H82] - VLE_block.gamma[C40H82] * VLE_block.P_sat[C40H82] * x[C40H82] :   0.0 :   True\n",
      "             C41H84 :   0.0 :     f_L[C41H84] - VLE_block.gamma[C41H84] * VLE_block.P_sat[C41H84] * x[C41H84] :   0.0 :   True\n",
      "             C42H86 :   0.0 :     f_L[C42H86] - VLE_block.gamma[C42H86] * VLE_block.P_sat[C42H86] * x[C42H86] :   0.0 :   True\n",
      "             C43H88 :   0.0 :     f_L[C43H88] - VLE_block.gamma[C43H88] * VLE_block.P_sat[C43H88] * x[C43H88] :   0.0 :   True\n",
      "             C44H90 :   0.0 :     f_L[C44H90] - VLE_block.gamma[C44H90] * VLE_block.P_sat[C44H90] * x[C44H90] :   0.0 :   True\n",
      "             C45H92 :   0.0 :     f_L[C45H92] - VLE_block.gamma[C45H92] * VLE_block.P_sat[C45H92] * x[C45H92] :   0.0 :   True\n",
      "             C46H94 :   0.0 :     f_L[C46H94] - VLE_block.gamma[C46H94] * VLE_block.P_sat[C46H94] * x[C46H94] :   0.0 :   True\n",
      "             C47H96 :   0.0 :     f_L[C47H96] - VLE_block.gamma[C47H96] * VLE_block.P_sat[C47H96] * x[C47H96] :   0.0 :   True\n",
      "             C48H98 :   0.0 :     f_L[C48H98] - VLE_block.gamma[C48H98] * VLE_block.P_sat[C48H98] * x[C48H98] :   0.0 :   True\n",
      "            C49H100 :   0.0 : f_L[C49H100] - VLE_block.gamma[C49H100] * VLE_block.P_sat[C49H100] * x[C49H100] :   0.0 :   True\n",
      "              C4H10 :   0.0 :         f_L[C4H10] - VLE_block.gamma[C4H10] * VLE_block.P_sat[C4H10] * x[C4H10] :   0.0 :   True\n",
      "               C4H8 :   0.0 :             f_L[C4H8] - VLE_block.gamma[C4H8] * VLE_block.P_sat[C4H8] * x[C4H8] :   0.0 :   True\n",
      "            C50H102 :   0.0 : f_L[C50H102] - VLE_block.gamma[C50H102] * VLE_block.P_sat[C50H102] * x[C50H102] :   0.0 :   True\n",
      "            C51H104 :   0.0 : f_L[C51H104] - VLE_block.gamma[C51H104] * VLE_block.P_sat[C51H104] * x[C51H104] :   0.0 :   True\n",
      "            C52H106 :   0.0 : f_L[C52H106] - VLE_block.gamma[C52H106] * VLE_block.P_sat[C52H106] * x[C52H106] :   0.0 :   True\n",
      "            C53H108 :   0.0 : f_L[C53H108] - VLE_block.gamma[C53H108] * VLE_block.P_sat[C53H108] * x[C53H108] :   0.0 :   True\n",
      "            C54H110 :   0.0 : f_L[C54H110] - VLE_block.gamma[C54H110] * VLE_block.P_sat[C54H110] * x[C54H110] :   0.0 :   True\n",
      "            C55H112 :   0.0 : f_L[C55H112] - VLE_block.gamma[C55H112] * VLE_block.P_sat[C55H112] * x[C55H112] :   0.0 :   True\n",
      "            C56H114 :   0.0 : f_L[C56H114] - VLE_block.gamma[C56H114] * VLE_block.P_sat[C56H114] * x[C56H114] :   0.0 :   True\n",
      "              C5H10 :   0.0 :         f_L[C5H10] - VLE_block.gamma[C5H10] * VLE_block.P_sat[C5H10] * x[C5H10] :   0.0 :   True\n",
      "              C5H12 :   0.0 :         f_L[C5H12] - VLE_block.gamma[C5H12] * VLE_block.P_sat[C5H12] * x[C5H12] :   0.0 :   True\n",
      "              C6H12 :   0.0 :         f_L[C6H12] - VLE_block.gamma[C6H12] * VLE_block.P_sat[C6H12] * x[C6H12] :   0.0 :   True\n",
      "              C6H14 :   0.0 :         f_L[C6H14] - VLE_block.gamma[C6H14] * VLE_block.P_sat[C6H14] * x[C6H14] :   0.0 :   True\n",
      "              C7H14 :   0.0 :         f_L[C7H14] - VLE_block.gamma[C7H14] * VLE_block.P_sat[C7H14] * x[C7H14] :   0.0 :   True\n",
      "              C7H16 :   0.0 :         f_L[C7H16] - VLE_block.gamma[C7H16] * VLE_block.P_sat[C7H16] * x[C7H16] :   0.0 :   True\n",
      "              C8H16 :   0.0 :         f_L[C8H16] - VLE_block.gamma[C8H16] * VLE_block.P_sat[C8H16] * x[C8H16] :   0.0 :   True\n",
      "              C8H18 :   0.0 :         f_L[C8H18] - VLE_block.gamma[C8H18] * VLE_block.P_sat[C8H18] * x[C8H18] :   0.0 :   True\n",
      "              C9H18 :   0.0 :         f_L[C9H18] - VLE_block.gamma[C9H18] * VLE_block.P_sat[C9H18] * x[C9H18] :   0.0 :   True\n",
      "              C9H20 :   0.0 :         f_L[C9H20] - VLE_block.gamma[C9H20] * VLE_block.P_sat[C9H20] * x[C9H20] :   0.0 :   True\n",
      "        f_V_con : Size=79, Index=VLE_block.f_V_con_index, Active=True\n"
     ]
    },
    {
     "name": "stdout",
     "output_type": "stream",
     "text": [
      "            Key     : Lower : Body                          : Upper : Active\n",
      "             C10H20 :   0.0 :   P * y[C10H20] - f_V[C10H20] :   0.0 :   True\n",
      "             C10H22 :   0.0 :   P * y[C10H22] - f_V[C10H22] :   0.0 :   True\n",
      "             C11H22 :   0.0 :   P * y[C11H22] - f_V[C11H22] :   0.0 :   True\n",
      "             C11H24 :   0.0 :   P * y[C11H24] - f_V[C11H24] :   0.0 :   True\n",
      "             C12H24 :   0.0 :   P * y[C12H24] - f_V[C12H24] :   0.0 :   True\n",
      "             C12H26 :   0.0 :   P * y[C12H26] - f_V[C12H26] :   0.0 :   True\n",
      "             C13H26 :   0.0 :   P * y[C13H26] - f_V[C13H26] :   0.0 :   True\n",
      "             C13H28 :   0.0 :   P * y[C13H28] - f_V[C13H28] :   0.0 :   True\n",
      "             C14H28 :   0.0 :   P * y[C14H28] - f_V[C14H28] :   0.0 :   True\n",
      "             C14H30 :   0.0 :   P * y[C14H30] - f_V[C14H30] :   0.0 :   True\n",
      "             C15H30 :   0.0 :   P * y[C15H30] - f_V[C15H30] :   0.0 :   True\n",
      "             C15H32 :   0.0 :   P * y[C15H32] - f_V[C15H32] :   0.0 :   True\n",
      "             C16H32 :   0.0 :   P * y[C16H32] - f_V[C16H32] :   0.0 :   True\n",
      "             C16H34 :   0.0 :   P * y[C16H34] - f_V[C16H34] :   0.0 :   True\n",
      "             C17H34 :   0.0 :   P * y[C17H34] - f_V[C17H34] :   0.0 :   True\n",
      "             C17H36 :   0.0 :   P * y[C17H36] - f_V[C17H36] :   0.0 :   True\n",
      "             C18H36 :   0.0 :   P * y[C18H36] - f_V[C18H36] :   0.0 :   True\n",
      "             C18H38 :   0.0 :   P * y[C18H38] - f_V[C18H38] :   0.0 :   True\n",
      "             C19H38 :   0.0 :   P * y[C19H38] - f_V[C19H38] :   0.0 :   True\n",
      "             C19H40 :   0.0 :   P * y[C19H40] - f_V[C19H40] :   0.0 :   True\n",
      "               C1H4 :   0.0 :       P * y[C1H4] - f_V[C1H4] :   0.0 :   True\n",
      "             C20H40 :   0.0 :   P * y[C20H40] - f_V[C20H40] :   0.0 :   True\n",
      "             C20H42 :   0.0 :   P * y[C20H42] - f_V[C20H42] :   0.0 :   True\n",
      "             C21H44 :   0.0 :   P * y[C21H44] - f_V[C21H44] :   0.0 :   True\n",
      "             C22H46 :   0.0 :   P * y[C22H46] - f_V[C22H46] :   0.0 :   True\n",
      "             C23H48 :   0.0 :   P * y[C23H48] - f_V[C23H48] :   0.0 :   True\n",
      "             C24H50 :   0.0 :   P * y[C24H50] - f_V[C24H50] :   0.0 :   True\n",
      "             C25H52 :   0.0 :   P * y[C25H52] - f_V[C25H52] :   0.0 :   True\n",
      "             C26H54 :   0.0 :   P * y[C26H54] - f_V[C26H54] :   0.0 :   True\n",
      "             C27H56 :   0.0 :   P * y[C27H56] - f_V[C27H56] :   0.0 :   True\n",
      "             C28H58 :   0.0 :   P * y[C28H58] - f_V[C28H58] :   0.0 :   True\n",
      "             C29H60 :   0.0 :   P * y[C29H60] - f_V[C29H60] :   0.0 :   True\n",
      "               C2H4 :   0.0 :       P * y[C2H4] - f_V[C2H4] :   0.0 :   True\n",
      "               C2H6 :   0.0 :       P * y[C2H6] - f_V[C2H6] :   0.0 :   True\n",
      "             C30H62 :   0.0 :   P * y[C30H62] - f_V[C30H62] :   0.0 :   True\n",
      "             C31H64 :   0.0 :   P * y[C31H64] - f_V[C31H64] :   0.0 :   True\n",
      "             C32H66 :   0.0 :   P * y[C32H66] - f_V[C32H66] :   0.0 :   True\n",
      "             C33H68 :   0.0 :   P * y[C33H68] - f_V[C33H68] :   0.0 :   True\n",
      "             C34H70 :   0.0 :   P * y[C34H70] - f_V[C34H70] :   0.0 :   True\n",
      "             C35H72 :   0.0 :   P * y[C35H72] - f_V[C35H72] :   0.0 :   True\n",
      "             C36H74 :   0.0 :   P * y[C36H74] - f_V[C36H74] :   0.0 :   True\n",
      "             C37H76 :   0.0 :   P * y[C37H76] - f_V[C37H76] :   0.0 :   True\n",
      "             C38H78 :   0.0 :   P * y[C38H78] - f_V[C38H78] :   0.0 :   True\n",
      "             C39H80 :   0.0 :   P * y[C39H80] - f_V[C39H80] :   0.0 :   True\n",
      "               C3H6 :   0.0 :       P * y[C3H6] - f_V[C3H6] :   0.0 :   True\n",
      "               C3H8 :   0.0 :       P * y[C3H8] - f_V[C3H8] :   0.0 :   True\n",
      "             C40H82 :   0.0 :   P * y[C40H82] - f_V[C40H82] :   0.0 :   True\n",
      "             C41H84 :   0.0 :   P * y[C41H84] - f_V[C41H84] :   0.0 :   True\n",
      "             C42H86 :   0.0 :   P * y[C42H86] - f_V[C42H86] :   0.0 :   True\n",
      "             C43H88 :   0.0 :   P * y[C43H88] - f_V[C43H88] :   0.0 :   True\n",
      "             C44H90 :   0.0 :   P * y[C44H90] - f_V[C44H90] :   0.0 :   True\n",
      "             C45H92 :   0.0 :   P * y[C45H92] - f_V[C45H92] :   0.0 :   True\n",
      "             C46H94 :   0.0 :   P * y[C46H94] - f_V[C46H94] :   0.0 :   True\n",
      "             C47H96 :   0.0 :   P * y[C47H96] - f_V[C47H96] :   0.0 :   True\n",
      "             C48H98 :   0.0 :   P * y[C48H98] - f_V[C48H98] :   0.0 :   True\n",
      "            C49H100 :   0.0 : P * y[C49H100] - f_V[C49H100] :   0.0 :   True\n",
      "              C4H10 :   0.0 :     P * y[C4H10] - f_V[C4H10] :   0.0 :   True\n",
      "               C4H8 :   0.0 :       P * y[C4H8] - f_V[C4H8] :   0.0 :   True\n",
      "            C50H102 :   0.0 : P * y[C50H102] - f_V[C50H102] :   0.0 :   True\n",
      "            C51H104 :   0.0 : P * y[C51H104] - f_V[C51H104] :   0.0 :   True\n",
      "            C52H106 :   0.0 : P * y[C52H106] - f_V[C52H106] :   0.0 :   True\n",
      "            C53H108 :   0.0 : P * y[C53H108] - f_V[C53H108] :   0.0 :   True\n",
      "            C54H110 :   0.0 : P * y[C54H110] - f_V[C54H110] :   0.0 :   True\n",
      "            C55H112 :   0.0 : P * y[C55H112] - f_V[C55H112] :   0.0 :   True\n",
      "            C56H114 :   0.0 : P * y[C56H114] - f_V[C56H114] :   0.0 :   True\n",
      "              C5H10 :   0.0 :     P * y[C5H10] - f_V[C5H10] :   0.0 :   True\n",
      "              C5H12 :   0.0 :     P * y[C5H12] - f_V[C5H12] :   0.0 :   True\n",
      "              C6H12 :   0.0 :     P * y[C6H12] - f_V[C6H12] :   0.0 :   True\n",
      "              C6H14 :   0.0 :     P * y[C6H14] - f_V[C6H14] :   0.0 :   True\n",
      "              C7H14 :   0.0 :     P * y[C7H14] - f_V[C7H14] :   0.0 :   True\n",
      "              C7H16 :   0.0 :     P * y[C7H16] - f_V[C7H16] :   0.0 :   True\n",
      "              C8H16 :   0.0 :     P * y[C8H16] - f_V[C8H16] :   0.0 :   True\n",
      "              C8H18 :   0.0 :     P * y[C8H18] - f_V[C8H18] :   0.0 :   True\n",
      "              C9H18 :   0.0 :     P * y[C9H18] - f_V[C9H18] :   0.0 :   True\n",
      "              C9H20 :   0.0 :     P * y[C9H20] - f_V[C9H20] :   0.0 :   True\n",
      "                 CO :   0.0 :           P * y[CO] - f_V[CO] :   0.0 :   True\n",
      "                CO2 :   0.0 :         P * y[CO2] - f_V[CO2] :   0.0 :   True\n",
      "                 H2 :   0.0 :           P * y[H2] - f_V[H2] :   0.0 :   True\n",
      "                H2O :   0.0 :         P * y[H2O] - f_V[H2O] :   0.0 :   True\n",
      "        gamma_con : Size=70, Index=VLE_block.COMP_NONHENRY, Active=True\n",
      "            Key     : Lower : Body                                                                                                                : Upper : Active\n",
      "             C10H20 :   0.0 :  log( VLE_block.gamma[C10H20] ) * ( -6 + VLE_block.n_ave ) - log( VLE_block.gamma_ref ) * ( -10 + VLE_block.n_ave ) :   0.0 :   True\n",
      "             C10H22 :   0.0 :  log( VLE_block.gamma[C10H22] ) * ( -6 + VLE_block.n_ave ) - log( VLE_block.gamma_ref ) * ( -10 + VLE_block.n_ave ) :   0.0 :   True\n",
      "             C11H22 :   0.0 :  log( VLE_block.gamma[C11H22] ) * ( -6 + VLE_block.n_ave ) - log( VLE_block.gamma_ref ) * ( -11 + VLE_block.n_ave ) :   0.0 :   True\n",
      "             C11H24 :   0.0 :  log( VLE_block.gamma[C11H24] ) * ( -6 + VLE_block.n_ave ) - log( VLE_block.gamma_ref ) * ( -11 + VLE_block.n_ave ) :   0.0 :   True\n",
      "             C12H24 :   0.0 :  log( VLE_block.gamma[C12H24] ) * ( -6 + VLE_block.n_ave ) - log( VLE_block.gamma_ref ) * ( -12 + VLE_block.n_ave ) :   0.0 :   True\n",
      "             C12H26 :   0.0 :  log( VLE_block.gamma[C12H26] ) * ( -6 + VLE_block.n_ave ) - log( VLE_block.gamma_ref ) * ( -12 + VLE_block.n_ave ) :   0.0 :   True\n",
      "             C13H26 :   0.0 :  log( VLE_block.gamma[C13H26] ) * ( -6 + VLE_block.n_ave ) - log( VLE_block.gamma_ref ) * ( -13 + VLE_block.n_ave ) :   0.0 :   True\n",
      "             C13H28 :   0.0 :  log( VLE_block.gamma[C13H28] ) * ( -6 + VLE_block.n_ave ) - log( VLE_block.gamma_ref ) * ( -13 + VLE_block.n_ave ) :   0.0 :   True\n",
      "             C14H28 :   0.0 :  log( VLE_block.gamma[C14H28] ) * ( -6 + VLE_block.n_ave ) - log( VLE_block.gamma_ref ) * ( -14 + VLE_block.n_ave ) :   0.0 :   True\n",
      "             C14H30 :   0.0 :  log( VLE_block.gamma[C14H30] ) * ( -6 + VLE_block.n_ave ) - log( VLE_block.gamma_ref ) * ( -14 + VLE_block.n_ave ) :   0.0 :   True\n",
      "             C15H30 :   0.0 :  log( VLE_block.gamma[C15H30] ) * ( -6 + VLE_block.n_ave ) - log( VLE_block.gamma_ref ) * ( -15 + VLE_block.n_ave ) :   0.0 :   True\n",
      "             C15H32 :   0.0 :  log( VLE_block.gamma[C15H32] ) * ( -6 + VLE_block.n_ave ) - log( VLE_block.gamma_ref ) * ( -15 + VLE_block.n_ave ) :   0.0 :   True\n",
      "             C16H32 :   0.0 :  log( VLE_block.gamma[C16H32] ) * ( -6 + VLE_block.n_ave ) - log( VLE_block.gamma_ref ) * ( -16 + VLE_block.n_ave ) :   0.0 :   True\n",
      "             C16H34 :   0.0 :  log( VLE_block.gamma[C16H34] ) * ( -6 + VLE_block.n_ave ) - log( VLE_block.gamma_ref ) * ( -16 + VLE_block.n_ave ) :   0.0 :   True\n",
      "             C17H34 :   0.0 :  log( VLE_block.gamma[C17H34] ) * ( -6 + VLE_block.n_ave ) - log( VLE_block.gamma_ref ) * ( -17 + VLE_block.n_ave ) :   0.0 :   True\n",
      "             C17H36 :   0.0 :  log( VLE_block.gamma[C17H36] ) * ( -6 + VLE_block.n_ave ) - log( VLE_block.gamma_ref ) * ( -17 + VLE_block.n_ave ) :   0.0 :   True\n",
      "             C18H36 :   0.0 :  log( VLE_block.gamma[C18H36] ) * ( -6 + VLE_block.n_ave ) - log( VLE_block.gamma_ref ) * ( -18 + VLE_block.n_ave ) :   0.0 :   True\n",
      "             C18H38 :   0.0 :  log( VLE_block.gamma[C18H38] ) * ( -6 + VLE_block.n_ave ) - log( VLE_block.gamma_ref ) * ( -18 + VLE_block.n_ave ) :   0.0 :   True\n",
      "             C19H38 :   0.0 :  log( VLE_block.gamma[C19H38] ) * ( -6 + VLE_block.n_ave ) - log( VLE_block.gamma_ref ) * ( -19 + VLE_block.n_ave ) :   0.0 :   True\n",
      "             C19H40 :   0.0 :  log( VLE_block.gamma[C19H40] ) * ( -6 + VLE_block.n_ave ) - log( VLE_block.gamma_ref ) * ( -19 + VLE_block.n_ave ) :   0.0 :   True\n",
      "             C20H40 :   0.0 :  log( VLE_block.gamma[C20H40] ) * ( -6 + VLE_block.n_ave ) - log( VLE_block.gamma_ref ) * ( -20 + VLE_block.n_ave ) :   0.0 :   True\n",
      "             C20H42 :   0.0 :  log( VLE_block.gamma[C20H42] ) * ( -6 + VLE_block.n_ave ) - log( VLE_block.gamma_ref ) * ( -20 + VLE_block.n_ave ) :   0.0 :   True\n",
      "             C21H44 :   0.0 :  log( VLE_block.gamma[C21H44] ) * ( -6 + VLE_block.n_ave ) - log( VLE_block.gamma_ref ) * ( -21 + VLE_block.n_ave ) :   0.0 :   True\n",
      "             C22H46 :   0.0 :  log( VLE_block.gamma[C22H46] ) * ( -6 + VLE_block.n_ave ) - log( VLE_block.gamma_ref ) * ( -22 + VLE_block.n_ave ) :   0.0 :   True\n",
      "             C23H48 :   0.0 :  log( VLE_block.gamma[C23H48] ) * ( -6 + VLE_block.n_ave ) - log( VLE_block.gamma_ref ) * ( -23 + VLE_block.n_ave ) :   0.0 :   True\n",
      "             C24H50 :   0.0 :  log( VLE_block.gamma[C24H50] ) * ( -6 + VLE_block.n_ave ) - log( VLE_block.gamma_ref ) * ( -24 + VLE_block.n_ave ) :   0.0 :   True\n",
      "             C25H52 :   0.0 :  log( VLE_block.gamma[C25H52] ) * ( -6 + VLE_block.n_ave ) - log( VLE_block.gamma_ref ) * ( -25 + VLE_block.n_ave ) :   0.0 :   True\n",
      "             C26H54 :   0.0 :  log( VLE_block.gamma[C26H54] ) * ( -6 + VLE_block.n_ave ) - log( VLE_block.gamma_ref ) * ( -26 + VLE_block.n_ave ) :   0.0 :   True\n",
      "             C27H56 :   0.0 :  log( VLE_block.gamma[C27H56] ) * ( -6 + VLE_block.n_ave ) - log( VLE_block.gamma_ref ) * ( -27 + VLE_block.n_ave ) :   0.0 :   True\n",
      "             C28H58 :   0.0 :  log( VLE_block.gamma[C28H58] ) * ( -6 + VLE_block.n_ave ) - log( VLE_block.gamma_ref ) * ( -28 + VLE_block.n_ave ) :   0.0 :   True\n",
      "             C29H60 :   0.0 :  log( VLE_block.gamma[C29H60] ) * ( -6 + VLE_block.n_ave ) - log( VLE_block.gamma_ref ) * ( -29 + VLE_block.n_ave ) :   0.0 :   True\n",
      "             C30H62 :   0.0 :  log( VLE_block.gamma[C30H62] ) * ( -6 + VLE_block.n_ave ) - log( VLE_block.gamma_ref ) * ( -30 + VLE_block.n_ave ) :   0.0 :   True\n",
      "             C31H64 :   0.0 :  log( VLE_block.gamma[C31H64] ) * ( -6 + VLE_block.n_ave ) - log( VLE_block.gamma_ref ) * ( -31 + VLE_block.n_ave ) :   0.0 :   True\n",
      "             C32H66 :   0.0 :  log( VLE_block.gamma[C32H66] ) * ( -6 + VLE_block.n_ave ) - log( VLE_block.gamma_ref ) * ( -32 + VLE_block.n_ave ) :   0.0 :   True\n",
      "             C33H68 :   0.0 :  log( VLE_block.gamma[C33H68] ) * ( -6 + VLE_block.n_ave ) - log( VLE_block.gamma_ref ) * ( -33 + VLE_block.n_ave ) :   0.0 :   True\n",
      "             C34H70 :   0.0 :  log( VLE_block.gamma[C34H70] ) * ( -6 + VLE_block.n_ave ) - log( VLE_block.gamma_ref ) * ( -34 + VLE_block.n_ave ) :   0.0 :   True\n",
      "             C35H72 :   0.0 :  log( VLE_block.gamma[C35H72] ) * ( -6 + VLE_block.n_ave ) - log( VLE_block.gamma_ref ) * ( -35 + VLE_block.n_ave ) :   0.0 :   True\n",
      "             C36H74 :   0.0 :  log( VLE_block.gamma[C36H74] ) * ( -6 + VLE_block.n_ave ) - log( VLE_block.gamma_ref ) * ( -36 + VLE_block.n_ave ) :   0.0 :   True\n",
      "             C37H76 :   0.0 :  log( VLE_block.gamma[C37H76] ) * ( -6 + VLE_block.n_ave ) - log( VLE_block.gamma_ref ) * ( -37 + VLE_block.n_ave ) :   0.0 :   True\n",
      "             C38H78 :   0.0 :  log( VLE_block.gamma[C38H78] ) * ( -6 + VLE_block.n_ave ) - log( VLE_block.gamma_ref ) * ( -38 + VLE_block.n_ave ) :   0.0 :   True\n",
      "             C39H80 :   0.0 :  log( VLE_block.gamma[C39H80] ) * ( -6 + VLE_block.n_ave ) - log( VLE_block.gamma_ref ) * ( -39 + VLE_block.n_ave ) :   0.0 :   True\n",
      "             C40H82 :   0.0 :  log( VLE_block.gamma[C40H82] ) * ( -6 + VLE_block.n_ave ) - log( VLE_block.gamma_ref ) * ( -40 + VLE_block.n_ave ) :   0.0 :   True\n",
      "             C41H84 :   0.0 :  log( VLE_block.gamma[C41H84] ) * ( -6 + VLE_block.n_ave ) - log( VLE_block.gamma_ref ) * ( -41 + VLE_block.n_ave ) :   0.0 :   True\n",
      "             C42H86 :   0.0 :  log( VLE_block.gamma[C42H86] ) * ( -6 + VLE_block.n_ave ) - log( VLE_block.gamma_ref ) * ( -42 + VLE_block.n_ave ) :   0.0 :   True\n",
      "             C43H88 :   0.0 :  log( VLE_block.gamma[C43H88] ) * ( -6 + VLE_block.n_ave ) - log( VLE_block.gamma_ref ) * ( -43 + VLE_block.n_ave ) :   0.0 :   True\n",
      "             C44H90 :   0.0 :  log( VLE_block.gamma[C44H90] ) * ( -6 + VLE_block.n_ave ) - log( VLE_block.gamma_ref ) * ( -44 + VLE_block.n_ave ) :   0.0 :   True\n",
      "             C45H92 :   0.0 :  log( VLE_block.gamma[C45H92] ) * ( -6 + VLE_block.n_ave ) - log( VLE_block.gamma_ref ) * ( -45 + VLE_block.n_ave ) :   0.0 :   True\n",
      "             C46H94 :   0.0 :  log( VLE_block.gamma[C46H94] ) * ( -6 + VLE_block.n_ave ) - log( VLE_block.gamma_ref ) * ( -46 + VLE_block.n_ave ) :   0.0 :   True\n",
      "             C47H96 :   0.0 :  log( VLE_block.gamma[C47H96] ) * ( -6 + VLE_block.n_ave ) - log( VLE_block.gamma_ref ) * ( -47 + VLE_block.n_ave ) :   0.0 :   True\n",
      "             C48H98 :   0.0 :  log( VLE_block.gamma[C48H98] ) * ( -6 + VLE_block.n_ave ) - log( VLE_block.gamma_ref ) * ( -48 + VLE_block.n_ave ) :   0.0 :   True\n",
      "            C49H100 :   0.0 : log( VLE_block.gamma[C49H100] ) * ( -6 + VLE_block.n_ave ) - log( VLE_block.gamma_ref ) * ( -49 + VLE_block.n_ave ) :   0.0 :   True\n",
      "              C4H10 :   0.0 :    log( VLE_block.gamma[C4H10] ) * ( -6 + VLE_block.n_ave ) - log( VLE_block.gamma_ref ) * ( -4 + VLE_block.n_ave ) :   0.0 :   True\n",
      "               C4H8 :   0.0 :     log( VLE_block.gamma[C4H8] ) * ( -6 + VLE_block.n_ave ) - log( VLE_block.gamma_ref ) * ( -4 + VLE_block.n_ave ) :   0.0 :   True\n",
      "            C50H102 :   0.0 : log( VLE_block.gamma[C50H102] ) * ( -6 + VLE_block.n_ave ) - log( VLE_block.gamma_ref ) * ( -50 + VLE_block.n_ave ) :   0.0 :   True\n",
      "            C51H104 :   0.0 : log( VLE_block.gamma[C51H104] ) * ( -6 + VLE_block.n_ave ) - log( VLE_block.gamma_ref ) * ( -51 + VLE_block.n_ave ) :   0.0 :   True\n",
      "            C52H106 :   0.0 : log( VLE_block.gamma[C52H106] ) * ( -6 + VLE_block.n_ave ) - log( VLE_block.gamma_ref ) * ( -52 + VLE_block.n_ave ) :   0.0 :   True\n",
      "            C53H108 :   0.0 : log( VLE_block.gamma[C53H108] ) * ( -6 + VLE_block.n_ave ) - log( VLE_block.gamma_ref ) * ( -53 + VLE_block.n_ave ) :   0.0 :   True\n",
      "            C54H110 :   0.0 : log( VLE_block.gamma[C54H110] ) * ( -6 + VLE_block.n_ave ) - log( VLE_block.gamma_ref ) * ( -54 + VLE_block.n_ave ) :   0.0 :   True\n",
      "            C55H112 :   0.0 : log( VLE_block.gamma[C55H112] ) * ( -6 + VLE_block.n_ave ) - log( VLE_block.gamma_ref ) * ( -55 + VLE_block.n_ave ) :   0.0 :   True\n",
      "            C56H114 :   0.0 : log( VLE_block.gamma[C56H114] ) * ( -6 + VLE_block.n_ave ) - log( VLE_block.gamma_ref ) * ( -56 + VLE_block.n_ave ) :   0.0 :   True\n",
      "              C5H10 :   0.0 :    log( VLE_block.gamma[C5H10] ) * ( -6 + VLE_block.n_ave ) - log( VLE_block.gamma_ref ) * ( -5 + VLE_block.n_ave ) :   0.0 :   True\n",
      "              C5H12 :   0.0 :    log( VLE_block.gamma[C5H12] ) * ( -6 + VLE_block.n_ave ) - log( VLE_block.gamma_ref ) * ( -5 + VLE_block.n_ave ) :   0.0 :   True\n",
      "              C6H12 :   0.0 :    log( VLE_block.gamma[C6H12] ) * ( -6 + VLE_block.n_ave ) - log( VLE_block.gamma_ref ) * ( -6 + VLE_block.n_ave ) :   0.0 :   True\n",
      "              C6H14 :   0.0 :    log( VLE_block.gamma[C6H14] ) * ( -6 + VLE_block.n_ave ) - log( VLE_block.gamma_ref ) * ( -6 + VLE_block.n_ave ) :   0.0 :   True\n",
      "              C7H14 :   0.0 :    log( VLE_block.gamma[C7H14] ) * ( -6 + VLE_block.n_ave ) - log( VLE_block.gamma_ref ) * ( -7 + VLE_block.n_ave ) :   0.0 :   True\n",
      "              C7H16 :   0.0 :    log( VLE_block.gamma[C7H16] ) * ( -6 + VLE_block.n_ave ) - log( VLE_block.gamma_ref ) * ( -7 + VLE_block.n_ave ) :   0.0 :   True\n",
      "              C8H16 :   0.0 :    log( VLE_block.gamma[C8H16] ) * ( -6 + VLE_block.n_ave ) - log( VLE_block.gamma_ref ) * ( -8 + VLE_block.n_ave ) :   0.0 :   True\n",
      "              C8H18 :   0.0 :    log( VLE_block.gamma[C8H18] ) * ( -6 + VLE_block.n_ave ) - log( VLE_block.gamma_ref ) * ( -8 + VLE_block.n_ave ) :   0.0 :   True\n",
      "              C9H18 :   0.0 :    log( VLE_block.gamma[C9H18] ) * ( -6 + VLE_block.n_ave ) - log( VLE_block.gamma_ref ) * ( -9 + VLE_block.n_ave ) :   0.0 :   True\n",
      "              C9H20 :   0.0 :    log( VLE_block.gamma[C9H20] ) * ( -6 + VLE_block.n_ave ) - log( VLE_block.gamma_ref ) * ( -9 + VLE_block.n_ave ) :   0.0 :   True\n",
      "        gamma_ref_con : Size=1, Index=None, Active=True\n",
      "            Key  : Lower : Body                                                             : Upper : Active\n",
      "            None :   0.0 : VLE_block.gamma_ref * VLE_block.P_sat[C6H14] - VLE_block.Hen_ref :   0.0 :   True\n",
      "        n_ave_con : Size=1, Index=None, Active=True\n"
     ]
    },
    {
     "name": "stdout",
     "output_type": "stream",
     "text": [
      "            Key  : Lower : Body                                                                                                                                                                                                                                                                                                                                                                                                                                                                                                                                                                                                                                                                                                                                                                                                                                                                                                                                                                                                                                                                                                                                                                                                 : Upper : Active\n",
      "            None :   0.0 : VLE_block.n_ave_cal - ( x[C1H4] + 2*x[C2H6] + 3*x[C3H8] + 4*x[C4H10] + 5*x[C5H12] + 6*x[C6H14] + 7*x[C7H16] + 8*x[C8H18] + 9*x[C9H20] + 10*x[C10H22] + 11*x[C11H24] + 12*x[C12H26] + 13*x[C13H28] + 14*x[C14H30] + 15*x[C15H32] + 16*x[C16H34] + 17*x[C17H36] + 18*x[C18H38] + 19*x[C19H40] + 20*x[C20H42] + 21*x[C21H44] + 22*x[C22H46] + 23*x[C23H48] + 24*x[C24H50] + 25*x[C25H52] + 26*x[C26H54] + 27*x[C27H56] + 28*x[C28H58] + 29*x[C29H60] + 30*x[C30H62] + 31*x[C31H64] + 32*x[C32H66] + 33*x[C33H68] + 34*x[C34H70] + 35*x[C35H72] + 36*x[C36H74] + 37*x[C37H76] + 38*x[C38H78] + 39*x[C39H80] + 40*x[C40H82] + 41*x[C41H84] + 42*x[C42H86] + 43*x[C43H88] + 44*x[C44H90] + 45*x[C45H92] + 46*x[C46H94] + 47*x[C47H96] + 48*x[C48H98] + 49*x[C49H100] + 50*x[C50H102] + 51*x[C51H104] + 52*x[C52H106] + 53*x[C53H108] + 54*x[C54H110] + 55*x[C55H112] + 56*x[C56H114] + 2*x[C2H4] + 3*x[C3H6] + 4*x[C4H8] + 5*x[C5H10] + 6*x[C6H12] + 7*x[C7H14] + 8*x[C8H16] + 9*x[C9H18] + 10*x[C10H20] + 11*x[C11H22] + 12*x[C12H24] + 13*x[C13H26] + 14*x[C14H28] + 15*x[C15H30] + 16*x[C16H32] + 17*x[C17H34] + 18*x[C18H36] + 19*x[C19H38] + 20*x[C20H40] ) / ( 1 - x[H2] - x[CO] - x[CO2] - x[H2O] ) :   0.0 :   True\n",
      "\n",
      "    29 Declarations: COMP_HENRY COMP_WATER COMP_NONHENRY_index_0 COMP_NONHENRY n_ave n_ave_cal Hen Hen0 gamma P_sat P_sat_dY_inf P_sat_dY0 Hen_ref Hen0_ref gamma_ref f_L_HENRY_con Hen_con Hen0_con Hen_ref_con Hen0_ref_con f_L_NONHENRY_con gamma_con gamma_ref_con n_ave_con P_sat_con P_sat_dY_inf_con P_sat_dY0_con f_V_con_index f_V_con\n"
     ]
    }
   ],
   "source": [
    "model.VLE_block.pprint()"
   ]
  },
  {
   "cell_type": "code",
   "execution_count": null,
   "metadata": {},
   "outputs": [],
   "source": []
  }
 ],
 "metadata": {
  "kernelspec": {
   "display_name": "Python 3",
   "language": "python",
   "name": "python3"
  },
  "language_info": {
   "codemirror_mode": {
    "name": "ipython",
    "version": 3
   },
   "file_extension": ".py",
   "mimetype": "text/x-python",
   "name": "python",
   "nbconvert_exporter": "python",
   "pygments_lexer": "ipython3",
   "version": "3.6.3"
  }
 },
 "nbformat": 4,
 "nbformat_minor": 2
}
