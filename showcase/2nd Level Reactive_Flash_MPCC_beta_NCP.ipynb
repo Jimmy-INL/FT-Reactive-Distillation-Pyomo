{
 "cells": [
  {
   "cell_type": "markdown",
   "metadata": {
    "slideshow": {
     "slide_type": "slide"
    }
   },
   "source": [
    "# 2nd Level Model Structure: Reactive Stage"
   ]
  },
  {
   "cell_type": "code",
   "execution_count": 1,
   "metadata": {},
   "outputs": [],
   "source": [
    "import sys\n",
    "import os\n",
    "import pickle\n",
    "sys.path.append(os.path.abspath('..'))\n",
    "import numpy as np\n",
    "from matplotlib import pyplot as plt"
   ]
  },
  {
   "cell_type": "code",
   "execution_count": 2,
   "metadata": {
    "slideshow": {
     "slide_type": "fragment"
    }
   },
   "outputs": [],
   "source": [
    "from pyomo import environ as pe\n",
    "from global_sets.component import m\n",
    "from utility.display_utility import trans_product_mole, trans_product_mass\n",
    "from utility.model_utility import add_dual, update_dual, check_DOF\n",
    "\n",
    "# stage construction rules\n",
    "from physics.kinetics_bounded import kinetic_block_rule\n",
    "from physics.energy_bounded import energy_block_rule\n",
    "from physics.VLE_bounded import VLE_block_rule\n",
    "\n",
    "model = pe.ConcreteModel()"
   ]
  },
  {
   "cell_type": "markdown",
   "metadata": {
    "slideshow": {
     "slide_type": "subslide"
    }
   },
   "source": [
    "# Global Sets (Inlet / Outlet)"
   ]
  },
  {
   "cell_type": "code",
   "execution_count": 3,
   "metadata": {
    "slideshow": {
     "slide_type": "fragment"
    }
   },
   "outputs": [],
   "source": [
    "model.inlet = pe.Set(initialize=['in'])\n",
    "model.outlet = pe.Set(initialize=['out','P'])\n",
    "model.stream = model.inlet | model.outlet"
   ]
  },
  {
   "cell_type": "markdown",
   "metadata": {
    "slideshow": {
     "slide_type": "subslide"
    }
   },
   "source": [
    "# Global Variables"
   ]
  },
  {
   "cell_type": "code",
   "execution_count": 4,
   "metadata": {
    "slideshow": {
     "slide_type": "fragment"
    }
   },
   "outputs": [],
   "source": [
    "# Tray Inlet/Outlet Variable\n",
    "model.x_ = pe.Var(model.inlet,m.COMP_TOTAL,within=pe.NonNegativeReals)\n",
    "model.y_ = pe.Var(model.inlet,m.COMP_TOTAL,within=pe.NonNegativeReals)\n",
    "model.x = pe.Var(m.COMP_TOTAL,within=pe.NonNegativeReals)\n",
    "model.y = pe.Var(m.COMP_TOTAL,within=pe.NonNegativeReals)\n",
    "model.z = pe.Var(m.COMP_FEED,within=pe.NonNegativeReals)\n",
    "\n",
    "model.L = pe.Var(model.stream,within=pe.NonNegativeReals)\n",
    "model.V = pe.Var(model.stream,within=pe.NonNegativeReals)\n",
    "model.F = pe.Var(within=pe.NonNegativeReals)\n",
    "\n",
    "model.H_L_ = pe.Var(model.inlet,within=pe.Reals)\n",
    "model.H_V_ = pe.Var(model.inlet,within=pe.Reals)\n",
    "model.H_L = pe.Var(within=pe.Reals)\n",
    "model.H_V = pe.Var(within=pe.Reals)\n",
    "model.H_F = pe.Var(within=pe.Reals)\n",
    "\n",
    "# State Variable\n",
    "model.T = pe.Var(within=pe.NonNegativeReals,bounds=(200+273.15,300+273.15)) # K\n",
    "model.T_F = pe.Var(within=pe.NonNegativeReals) # K\n",
    "model.P = pe.Var(within=pe.NonNegativeReals,bounds=(10,30)) # Bar\n",
    "\n",
    "model.f_V = pe.Var(m.COMP_TOTAL,within=pe.NonNegativeReals,initialize=1e-20)\n",
    "model.f_L = pe.Var(m.COMP_TOTAL,within=pe.NonNegativeReals,initialize=1e-20)\n",
    "\n",
    "model.cat = pe.Var(within=pe.NonNegativeReals,initialize=3000) # kg\n",
    "model.Q_main = pe.Var(within=pe.Reals) # MW\n",
    "model.r_total_comp = pe.Var(m.COMP_TOTAL,within=pe.Reals) # kmol/s\n",
    "\n",
    "# MPCC construction\n",
    "model.beta = pe.Var(within=pe.NonNegativeReals,initialize=1)\n",
    "model.s_L= pe.Var(within=pe.NonNegativeReals,initialize=0,bounds=(0,1))\n",
    "model.s_V= pe.Var(within=pe.NonNegativeReals,initialize=0)"
   ]
  },
  {
   "cell_type": "markdown",
   "metadata": {},
   "source": [
    "# MPCC Parameters"
   ]
  },
  {
   "cell_type": "code",
   "execution_count": 5,
   "metadata": {},
   "outputs": [],
   "source": [
    "model.epi = pe.Param(initialize=1e-4,mutable=True)"
   ]
  },
  {
   "cell_type": "markdown",
   "metadata": {
    "slideshow": {
     "slide_type": "slide"
    }
   },
   "source": [
    "# Construct Individual Blocks"
   ]
  },
  {
   "cell_type": "code",
   "execution_count": 6,
   "metadata": {
    "slideshow": {
     "slide_type": "subslide"
    }
   },
   "outputs": [
    {
     "name": "stdout",
     "output_type": "stream",
     "text": [
      "> Importing Kinetics Blocks......\n",
      "> Adding the following local variable:\n",
      "--------------------------------------------------\n",
      "| kinetics_block.k_FT\n",
      "| kinetics_block.r_FT_total\n",
      "| kinetics_block.g0_FT\n",
      "| kinetics_block.alpha\n",
      "| kinetics_block.r_FT_cnum\n",
      "| kinetics_block.r_FT_comp\n",
      "| kinetics_block.k_WGS\n",
      "| kinetics_block.Ke_WGS\n",
      "| kinetics_block.r_WGS\n",
      "| kinetics_block.r_WGS_comp\n",
      "--------------------------------------------------\n",
      "\n"
     ]
    }
   ],
   "source": [
    "model.kinetics_block = pe.Block(rule=kinetic_block_rule)"
   ]
  },
  {
   "cell_type": "code",
   "execution_count": 7,
   "metadata": {
    "slideshow": {
     "slide_type": "subslide"
    }
   },
   "outputs": [
    {
     "name": "stdout",
     "output_type": "stream",
     "text": [
      "> Importing Energy Blocks......\n",
      "> Adding the following local variable:\n",
      "--------------------------------------------------\n",
      "| energy_block.dH_F\n",
      "| energy_block.dH_V\n",
      "| energy_block.dH_L\n",
      "| energy_block.dH_vap\n",
      "--------------------------------------------------\n",
      "\n"
     ]
    }
   ],
   "source": [
    "model.energy_block = pe.Block(rule=energy_block_rule)"
   ]
  },
  {
   "cell_type": "code",
   "execution_count": 8,
   "metadata": {
    "scrolled": false,
    "slideshow": {
     "slide_type": "subslide"
    }
   },
   "outputs": [
    {
     "name": "stdout",
     "output_type": "stream",
     "text": [
      "> Importing VLE Blocks......\n",
      "> Adding the following local variable:\n",
      "--------------------------------------------------\n",
      "| VLE_block.n_ave\n",
      "| VLE_block.n_ave_cal\n",
      "| VLE_block.Hen\n",
      "| VLE_block.Hen0\n",
      "| VLE_block.gamma\n",
      "| VLE_block.P_sat\n",
      "| VLE_block.P_sat_Y\n",
      "| VLE_block.P_sat_dY_inf\n",
      "| VLE_block.P_sat_dY0\n",
      "| VLE_block.Hen_ref\n",
      "| VLE_block.Hen0_ref\n",
      "| VLE_block.gamma_ref\n",
      "| VLE_block.V_L\n",
      "| VLE_block.V_L_dY_inf\n",
      "| VLE_block.V_L_dY0\n",
      "| VLE_block.poynting\n",
      "--------------------------------------------------\n",
      "\n"
     ]
    }
   ],
   "source": [
    "model.VLE_block = pe.Block(rule=VLE_block_rule)"
   ]
  },
  {
   "cell_type": "markdown",
   "metadata": {
    "slideshow": {
     "slide_type": "slide"
    }
   },
   "source": [
    "# Standard MESH Equations"
   ]
  },
  {
   "cell_type": "markdown",
   "metadata": {
    "slideshow": {
     "slide_type": "subslide"
    }
   },
   "source": [
    "## Mass Balance"
   ]
  },
  {
   "cell_type": "markdown",
   "metadata": {
    "slideshow": {
     "slide_type": "fragment"
    }
   },
   "source": [
    "\\begin{equation}\n",
    "Fz_{i}+\\sum_{s\\in{inlet}}L_{s}x'_{i,s}+\\sum_{s\\in{inlet}}V_{s}y'_{i,s}-\\sum_{s\\in{outlet}}L_{s}x_{i,s}+\\sum_{s\\in{ouelet}}V_{s}y_{i,s}+R_{i} = 0 \\\\\n",
    "i = 1,...NC\n",
    "\\end{equation}"
   ]
  },
  {
   "cell_type": "code",
   "execution_count": 9,
   "metadata": {
    "slideshow": {
     "slide_type": "fragment"
    }
   },
   "outputs": [],
   "source": [
    "def mass_balance_main_rule(model,i):\n",
    "    if i in m.COMP_FEED:\n",
    "        return model.F*model.z[i] + sum(model.L[s]*model.x_[s,i] + model.V[s]*model.y_[s,i] for s in model.inlet)\\\n",
    "        + model.r_total_comp[i] - sum(model.L[s]*model.x[i] + model.V[s]*model.y[i] for s in model.outlet) == 0\n",
    "    else:\n",
    "        return sum(model.L[s]*model.x_[s,i] + model.V[s]*model.y_[s,i] for s in model.inlet)\\\n",
    "        + model.r_total_comp[i] - sum(model.L[s]*model.x[i] + model.V[s]*model.y[i] for s in model.outlet) == 0\n",
    "model.mass_balance_main_con = pe.Constraint(m.COMP_TOTAL,rule=mass_balance_main_rule)"
   ]
  },
  {
   "cell_type": "markdown",
   "metadata": {
    "slideshow": {
     "slide_type": "subslide"
    }
   },
   "source": [
    "## Equilibrium"
   ]
  },
  {
   "cell_type": "markdown",
   "metadata": {
    "slideshow": {
     "slide_type": "fragment"
    }
   },
   "source": [
    "\\begin{align}\n",
    "&f_{i,V} = f_{i,L} \\\\\n",
    "&i = 1,...NC\n",
    "\\end{align}"
   ]
  },
  {
   "cell_type": "code",
   "execution_count": 10,
   "metadata": {
    "slideshow": {
     "slide_type": "fragment"
    }
   },
   "outputs": [],
   "source": [
    "def VL_equil_rule(model,i):\n",
    "    return model.f_V[i] == model.beta*model.f_L[i]\n",
    "model.VL_equil_con = pe.Constraint(m.COMP_TOTAL,rule=VL_equil_rule)"
   ]
  },
  {
   "cell_type": "markdown",
   "metadata": {},
   "source": [
    "## MPCC: Beta"
   ]
  },
  {
   "cell_type": "code",
   "execution_count": 11,
   "metadata": {},
   "outputs": [],
   "source": [
    "def beta_rule(model):\n",
    "    return model.beta == 1-model.s_L + model.s_V\n",
    "model.beta_con = pe.Constraint(rule=beta_rule)\n",
    "\n",
    "def s_L_complementarity_rule(model):\n",
    "    return (sum(model.L[s] for s in model.outlet) + model.s_L) == ((sum(model.L[s] for s in model.outlet) - model.s_L)**2+model.epi)**0.5\n",
    "    # return sum(model.L[s] for s in model.outlet) * model.s_L <= model.epi\n",
    "model.s_L_complementarity_con = pe.Constraint(rule=s_L_complementarity_rule)\n",
    "\n",
    "def s_V_complementarity_rule(model):\n",
    "    return (sum(model.V[s] for s in model.outlet) + model.s_V) == ((sum(model.V[s] for s in model.outlet) - model.s_V)**2+model.epi)**0.5\n",
    "    # return sum(model.V[s] for s in model.outlet) * model.s_V <= model.epi\n",
    "model.s_V_complementarity_con = pe.Constraint(rule=s_V_complementarity_rule)"
   ]
  },
  {
   "cell_type": "markdown",
   "metadata": {
    "slideshow": {
     "slide_type": "subslide"
    }
   },
   "source": [
    "## Summation"
   ]
  },
  {
   "cell_type": "markdown",
   "metadata": {
    "slideshow": {
     "slide_type": "fragment"
    }
   },
   "source": [
    "\\begin{equation}\n",
    "\\sum_ix_{i} = \\sum_iy_{i} \\\\\n",
    "F + L_{in} + V_{in} + R = L_{out} + V_{out}\n",
    "\\end{equation}"
   ]
  },
  {
   "cell_type": "code",
   "execution_count": 12,
   "metadata": {
    "slideshow": {
     "slide_type": "fragment"
    }
   },
   "outputs": [],
   "source": [
    "def summation_x_y_rule(model):\n",
    "    return sum(model.x[i] for i in m.COMP_TOTAL) == sum(model.y[i] for i in m.COMP_TOTAL)\n",
    "model.summation_x_y_con = pe.Constraint(rule=summation_x_y_rule)\n",
    "\n",
    "def summation_total_mass_rule(model):\n",
    "    return model.F + sum(model.L[s] + model.V[s] for s in model.inlet) + sum(model.r_total_comp[i] for i in m.COMP_TOTAL)\\\n",
    "            - sum(model.L[s] + model.V[s] for s in model.outlet) == 0\n",
    "model.summation_total_mass_con = pe.Constraint(rule=summation_total_mass_rule)"
   ]
  },
  {
   "cell_type": "markdown",
   "metadata": {
    "slideshow": {
     "slide_type": "subslide"
    }
   },
   "source": [
    "## Energy Balance"
   ]
  },
  {
   "cell_type": "markdown",
   "metadata": {
    "slideshow": {
     "slide_type": "fragment"
    }
   },
   "source": [
    "\\begin{equation}\n",
    "F H_f+\\sum_{s\\in{inlet}}L_{s}H_{l,s}+\\sum_{s\\in{inlet}}V_{s}H_{v,s}-\\sum_{s\\in{outlet}}L_{s}H_{l,s}-\\sum_{s\\in{outlet}}V_{s}H_{v,s}+Q = 0\n",
    "\\end{equation}"
   ]
  },
  {
   "cell_type": "code",
   "execution_count": 13,
   "metadata": {
    "slideshow": {
     "slide_type": "fragment"
    }
   },
   "outputs": [],
   "source": [
    "def heat_balance_main_rule(model):\n",
    "    return model.F*model.H_F + sum(model.L[s]*model.H_L_[s] + model.V[s]*model.H_V_[s] for s in model.inlet) \\\n",
    "            + model.Q_main - sum(model.L[s]*model.H_L + model.V[s]*model.H_V for s in model.outlet) == 0\n",
    "model.heat_balance_main_con = pe.Constraint(rule=heat_balance_main_rule)"
   ]
  },
  {
   "cell_type": "markdown",
   "metadata": {
    "slideshow": {
     "slide_type": "slide"
    }
   },
   "source": [
    "# Testing"
   ]
  },
  {
   "cell_type": "code",
   "execution_count": 14,
   "metadata": {
    "slideshow": {
     "slide_type": "fragment"
    }
   },
   "outputs": [
    {
     "name": "stdout",
     "output_type": "stream",
     "text": [
      "Created the follow pyomo suffixes:\n",
      "ipopt_zL_out, ipopt_zU_out, ipopt_zL_in, ipopt_zU_in, dual\n"
     ]
    }
   ],
   "source": [
    "add_dual(pe,model)"
   ]
  },
  {
   "cell_type": "markdown",
   "metadata": {
    "slideshow": {
     "slide_type": "fragment"
    }
   },
   "source": [
    "## Fixing In/Product Redundent Flow"
   ]
  },
  {
   "cell_type": "code",
   "execution_count": 15,
   "metadata": {
    "slideshow": {
     "slide_type": "fragment"
    }
   },
   "outputs": [],
   "source": [
    "model.x_.fix(0)\n",
    "model.y_.fix(0)\n",
    "model.L['in'].fix(0)\n",
    "model.L['P'].fix(0)\n",
    "model.V['in'].fix(0)\n",
    "model.V['P'].fix(0)\n",
    "model.H_L_.fix(0)\n",
    "model.H_V_.fix(0)"
   ]
  },
  {
   "cell_type": "markdown",
   "metadata": {
    "slideshow": {
     "slide_type": "subslide"
    }
   },
   "source": [
    "## Fixing Model Parameters"
   ]
  },
  {
   "cell_type": "code",
   "execution_count": 16,
   "metadata": {
    "slideshow": {
     "slide_type": "fragment"
    }
   },
   "outputs": [],
   "source": [
    "model.cat.fix(300)\n",
    "model.P.fix(20)\n",
    "model.T_F.fix(200+273.15)\n",
    "model.F.fix(1)\n",
    "model.z['CO'].fix(1/(1+0.8)-0/2)\n",
    "model.z['H2'].fix(0.8/(1+0.8)-0/2)\n",
    "model.z['C30H62'].fix(0)\n",
    "model.VLE_block.n_ave.fix(20)"
   ]
  },
  {
   "cell_type": "code",
   "execution_count": 17,
   "metadata": {
    "scrolled": true,
    "slideshow": {
     "slide_type": "fragment"
    }
   },
   "outputs": [
    {
     "name": "stdout",
     "output_type": "stream",
     "text": [
      "Active Equality Constraints:\t 1184\n",
      "Active Inequality Constraints:\t 0\n",
      "Active Variables:\t\t 1357\n",
      "Fixed Variables:\t\t 172\n",
      "DOF:\t\t\t\t 1\n"
     ]
    }
   ],
   "source": [
    "check_DOF(pe,model)"
   ]
  },
  {
   "cell_type": "markdown",
   "metadata": {
    "slideshow": {
     "slide_type": "subslide"
    }
   },
   "source": [
    "## Fix T or to fix Q? we have found that Maximize against an upper bound is most reliable"
   ]
  },
  {
   "cell_type": "code",
   "execution_count": 18,
   "metadata": {
    "slideshow": {
     "slide_type": "fragment"
    }
   },
   "outputs": [],
   "source": [
    "model.T.setub(520)"
   ]
  },
  {
   "cell_type": "code",
   "execution_count": 19,
   "metadata": {
    "slideshow": {
     "slide_type": "fragment"
    }
   },
   "outputs": [],
   "source": [
    "# model.obj = pe.Objective(expr = model.L['out'],sense=pe.maximize)\n",
    "# model.obj = pe.Objective(expr = model.cat,sense=pe.minimize)\n",
    "model.obj = pe.Objective(expr = model.T ,sense=pe.maximize)\n",
    "# model.obj = pe.Objective(expr = model.T - sum(model.L[s] for s in model.outlet)*model.s_L ,sense=pe.maximize)"
   ]
  },
  {
   "cell_type": "code",
   "execution_count": 20,
   "metadata": {
    "scrolled": false,
    "slideshow": {
     "slide_type": "fragment"
    }
   },
   "outputs": [
    {
     "name": "stdout",
     "output_type": "stream",
     "text": [
      "Ipopt 3.12.8: print_user_options=yes\n",
      "max_iter=7000\n",
      "\n",
      "\n",
      "List of user-set options:\n",
      "\n",
      "                                    Name   Value                used\n",
      "                                max_iter = 7000                  yes\n",
      "                      print_user_options = yes                   yes\n",
      "\n",
      "******************************************************************************\n",
      "This program contains Ipopt, a library for large-scale nonlinear optimization.\n",
      " Ipopt is released as open source code under the Eclipse Public License (EPL).\n",
      "         For more information visit http://projects.coin-or.org/Ipopt\n",
      "******************************************************************************\n",
      "\n",
      "This is Ipopt version 3.12.8, running with linear solver mumps.\n",
      "NOTE: Other linear solvers might be more efficient (see Ipopt documentation).\n",
      "\n",
      "Number of nonzeros in equality constraint Jacobian...:     4016\n",
      "Number of nonzeros in inequality constraint Jacobian.:        0\n",
      "Number of nonzeros in Lagrangian Hessian.............:     4399\n",
      "\n",
      "Total number of variables............................:     1185\n",
      "                     variables with only lower bounds:      381\n",
      "                variables with lower and upper bounds:      634\n",
      "                     variables with only upper bounds:        0\n",
      "Total number of equality constraints.................:     1184\n",
      "Total number of inequality constraints...............:        0\n",
      "        inequality constraints with only lower bounds:        0\n",
      "   inequality constraints with lower and upper bounds:        0\n",
      "        inequality constraints with only upper bounds:        0\n",
      "\n",
      "iter    objective    inf_pr   inf_du lg(mu)  ||d||  lg(rg) alpha_du alpha_pr  ls\n",
      "   0 -4.7361850e+02 8.03e+03 1.00e+00  -1.0 0.00e+00    -  0.00e+00 0.00e+00   0\n",
      "   1 -4.7362154e+02 8.03e+03 1.07e+02  -1.0 4.57e+03    -  2.80e-05 6.00e-05h  1\n",
      "   2r-4.7362154e+02 8.03e+03 9.99e+02   3.8 0.00e+00    -  0.00e+00 3.44e-07R  5\n",
      "   3r-4.7362173e+02 8.03e+03 2.49e+03   3.8 5.68e+05    -  1.52e-03 4.52e-08f  1\n",
      "   4r-4.9099233e+02 4.19e+03 2.94e+03   1.7 4.09e+05    -  2.03e-04 7.52e-03f  1\n",
      "   5 -4.9099303e+02 4.19e+03 2.58e+00  -1.0 1.19e+04    -  3.86e-05 1.78e-05h  1\n",
      "   6 -4.9099553e+02 4.18e+03 3.53e+01  -1.0 3.28e+04    -  2.13e-05 5.47e-05h  1\n",
      "   7 -4.9099759e+02 4.18e+03 2.33e+02  -1.0 8.00e+04    -  4.09e-05 4.51e-05h  1\n",
      "   8r-4.9099759e+02 4.18e+03 9.99e+02   3.5 0.00e+00    -  0.00e+00 3.87e-07R  2\n",
      "   9r-4.9099777e+02 4.18e+03 9.99e+02   3.5 6.24e+05    -  1.53e-04 4.11e-08f  1\n",
      "iter    objective    inf_pr   inf_du lg(mu)  ||d||  lg(rg) alpha_du alpha_pr  ls\n",
      "  10r-5.1316281e+02 5.14e+02 9.95e+02   2.1 6.92e+05    -  2.74e-04 4.92e-03f  1\n",
      "  11 -5.1319744e+02 5.13e+02 9.69e+00  -1.0 7.17e+03    -  7.78e-04 8.81e-04h  1\n",
      "  12 -5.1320204e+02 5.13e+02 2.52e+01  -1.0 6.19e+03    -  1.62e-03 1.16e-04h  1\n",
      "  13 -5.1347698e+02 5.10e+02 4.42e+03  -1.0 6.20e+03    -  3.59e-05 6.93e-03h  1\n",
      "  14 -5.1348010e+02 5.10e+02 4.42e+03  -1.0 1.03e+04    -  7.03e-05 8.05e-05h  1\n",
      "  15r-5.1348010e+02 5.10e+02 9.99e+02   2.7 0.00e+00    -  0.00e+00 4.06e-07R  2\n",
      "  16r-5.1348103e+02 5.10e+02 9.99e+02   2.7 8.20e+04    -  3.98e-04 2.89e-06f  1\n",
      "  17r-5.1362498e+02 5.09e+02 9.99e+02   2.7 8.12e+04    -  1.91e-04 4.30e-04f  1\n",
      "  18r-5.1424318e+02 5.09e+02 9.97e+02   2.7 7.98e+04    -  3.83e-03 1.77e-03f  1\n",
      "  19r-5.1725584e+02 5.08e+02 9.89e+02   2.0 6.72e+04    -  5.23e-03 8.10e-03f  1\n",
      "iter    objective    inf_pr   inf_du lg(mu)  ||d||  lg(rg) alpha_du alpha_pr  ls\n",
      "  20r-5.1873991e+02 5.04e+02 9.81e+02   2.0 2.91e+04    -  9.30e-03 8.10e-03f  1\n",
      "  21r-5.1960400e+02 5.00e+02 2.05e+03   2.0 1.44e+04    -  3.06e-02 9.53e-03f  1\n",
      "  22r-5.1999605e+02 4.87e+02 1.61e+04   2.0 2.08e+03    -  2.00e-01 3.02e-02f  1\n",
      "  23r-5.1997618e+02 4.19e+02 1.16e+04   1.3 4.11e+02    -  1.33e-01 1.67e-01f  1\n",
      "  24 -5.1980680e+02 4.02e+02 1.22e+02  -1.0 6.56e+02    -  2.42e-03 4.05e-02h  1\n",
      "  25 -5.1980245e+02 4.02e+02 2.96e+02  -1.0 1.94e+03    -  1.55e-02 3.54e-04h  1\n",
      "  26 -5.1999803e+02 3.98e+02 3.03e+04  -1.0 3.83e+03    -  5.68e-02 8.06e-03f  1\n",
      "  27 -5.1999999e+02 3.98e+02 2.67e+05  -1.0 3.67e+03    -  1.10e-01 8.44e-05h  1\n",
      "  28 -5.2000001e+02 3.98e+02 3.28e+08  -1.0 3.98e+02    -  1.59e-01 9.54e-05h  1\n",
      "  29 -5.2000001e+02 3.98e+02 1.67e+12  -1.0 3.98e+02    -  1.84e-01 3.58e-05h  1\n",
      "iter    objective    inf_pr   inf_du lg(mu)  ||d||  lg(rg) alpha_du alpha_pr  ls\n",
      "  30r-5.2000001e+02 3.98e+02 1.00e+03   2.6 0.00e+00    -  0.00e+00 4.40e-07R  2\n",
      "  31r-5.1999995e+02 3.98e+02 9.67e+03   2.6 5.71e+03    -  1.19e-02 1.27e-04f  1\n",
      "  32r-5.1999728e+02 2.08e+02 8.04e+03   1.9 5.70e+03    -  1.15e-02 3.33e-02f  1\n",
      "  33 -5.1998610e+02 2.03e+02 9.03e+01  -1.0 2.08e+02    -  2.65e-03 2.34e-02h  1\n",
      "  34 -5.1998557e+02 2.03e+02 1.57e+02  -1.0 3.50e+02    -  6.60e-03 2.38e-04h  1\n",
      "  35 -5.1999986e+02 2.03e+02 5.77e+04  -1.0 7.91e+03    -  5.22e-02 2.86e-04h  1\n",
      "  36r-5.1999986e+02 2.03e+02 1.00e+03   2.3 0.00e+00    -  0.00e+00 4.04e-07R  4\n",
      "  37r-5.1998785e+02 2.01e+02 6.70e+03   2.3 2.12e+04    -  1.89e-02 8.95e-05f  1\n",
      "  38r-5.1995356e+02 5.45e+01 7.87e+03   2.3 1.67e+04    -  2.02e-02 1.19e-02f  1\n",
      "  39 -5.1993661e+02 5.36e+01 1.58e+03  -1.0 1.72e+02    -  4.24e-02 1.54e-02h  1\n",
      "iter    objective    inf_pr   inf_du lg(mu)  ||d||  lg(rg) alpha_du alpha_pr  ls\n",
      "  40 -5.1999937e+02 5.35e+01 7.98e+04  -1.0 7.22e+03    -  1.19e-01 1.37e-03h  1\n",
      "  41 -5.2000000e+02 5.35e+01 2.47e+07  -1.0 5.84e+03    -  1.29e-01 1.70e-05h  1\n",
      "  42 -5.2000001e+02 5.35e+01 3.70e+10  -1.0 1.16e+02    -  1.40e-01 9.23e-05h  1\n",
      "  43r-5.2000001e+02 5.35e+01 1.00e+03   1.7 0.00e+00    -  0.00e+00 3.09e-07R  3\n",
      "  44r-5.1999994e+02 5.02e+01 4.52e+03   1.7 4.61e+03    -  6.90e-02 1.42e-03f  1\n",
      "  45 -5.1999965e+02 5.00e+01 1.49e+02  -1.0 1.15e+02    -  8.94e-03 2.69e-03h  1\n",
      "  46 -5.1999966e+02 5.00e+01 3.73e+03  -1.0 1.15e+02    -  4.62e-03 2.73e-05h  1\n",
      "  47r-5.1999966e+02 5.00e+01 1.00e+03   1.6 0.00e+00    -  0.00e+00 4.51e-07R  5\n",
      "  48r-5.1999785e+02 4.99e+01 1.05e+03   1.6 5.33e+03    -  1.06e-03 6.34e-05f  1\n",
      "  49r-5.1995446e+02 4.65e+01 1.39e+03   1.6 5.19e+03    -  7.71e-03 2.27e-03f  1\n",
      "iter    objective    inf_pr   inf_du lg(mu)  ||d||  lg(rg) alpha_du alpha_pr  ls\n",
      "  50 -5.1994571e+02 4.64e+01 2.09e+02  -1.0 4.32e+02    -  1.66e-02 3.18e-03h  1\n",
      "  51 -5.1996140e+02 4.64e+01 1.52e+04  -1.0 7.57e+03    -  1.76e-02 3.27e-04h  1\n",
      "  52 -5.1999962e+02 4.63e+01 1.44e+05  -1.0 8.43e+03    -  8.02e-02 7.16e-04h  1\n",
      "  53r-5.1999962e+02 4.63e+01 1.00e+03   1.4 0.00e+00    -  0.00e+00 4.62e-07R  5\n",
      "  54r-5.1999924e+02 4.48e+01 1.37e+03   1.4 6.60e+03    -  9.05e-03 4.10e-04f  1\n",
      "  55 -5.1999917e+02 4.48e+01 1.04e+02  -1.0 1.24e+02    -  9.51e-03 4.25e-04h  1\n",
      "  56 -5.2000000e+02 4.48e+01 1.92e+05  -1.0 8.02e+03    -  7.89e-02 1.64e-05h  1\n",
      "  57r-5.2000000e+02 4.48e+01 1.00e+03   1.4 0.00e+00    -  0.00e+00 2.76e-07R  4\n",
      "  58r-5.1999974e+02 4.26e+01 1.34e+03   1.4 6.84e+03    -  9.23e-03 6.12e-04f  1\n",
      "  59 -5.1999967e+02 4.26e+01 7.62e+01  -1.0 1.35e+02    -  9.44e-03 5.61e-04h  1\n",
      "iter    objective    inf_pr   inf_du lg(mu)  ||d||  lg(rg) alpha_du alpha_pr  ls\n",
      "  60r-5.1999967e+02 4.26e+01 9.99e+02   1.3 0.00e+00    -  0.00e+00 2.50e-07R  6\n",
      "  61r-5.1877157e+02 3.87e+01 9.95e+02   1.3 2.26e+05    -  9.25e-03 8.57e-04f  1\n",
      "  62 -5.1868378e+02 3.84e+01 2.71e+02  -1.0 2.25e+03    -  4.00e-02 6.13e-03h  1\n",
      "  63 -5.1868503e+02 3.84e+01 2.53e+03  -1.0 1.96e+03    -  8.25e-03 9.98e-05h  1\n",
      "  64 -5.1998686e+02 3.75e+01 6.10e+04  -1.0 8.82e+03    -  8.63e-02 2.32e-02f  1\n",
      "  65 -5.1999987e+02 3.75e+01 9.76e+05  -1.0 8.40e+03    -  4.38e-02 2.45e-04h  1\n",
      "  66 -5.2000000e+02 3.75e+01 2.58e+09  -1.0 7.72e+02    -  7.70e-02 2.68e-05h  1\n",
      "  67r-5.2000000e+02 3.75e+01 1.00e+03   1.1 0.00e+00    -  0.00e+00 4.47e-07R  4\n",
      "  68r-5.2000000e+02 3.47e+01 1.22e+03   1.1 6.95e+03    -  9.60e-03 5.28e-04f  1\n",
      "  69 -5.1999997e+02 3.46e+01 2.29e+02  -1.0 1.47e+02    -  1.33e-02 2.76e-04h  1\n",
      "iter    objective    inf_pr   inf_du lg(mu)  ||d||  lg(rg) alpha_du alpha_pr  ls\n",
      "  70r-5.1999997e+02 3.46e+01 9.99e+02   1.0 0.00e+00    -  0.00e+00 4.81e-07R  2\n",
      "  71r-5.1978774e+02 3.29e+01 9.94e+02   1.0 1.50e+05    -  9.22e-03 2.23e-04f  1\n",
      "  72 -5.1978555e+02 3.29e+01 4.08e+02  -1.0 1.08e+03    -  3.01e-02 3.20e-04h  1\n",
      "  73 -5.1999786e+02 3.28e+01 8.40e+04  -1.0 8.70e+03    -  1.03e-01 3.85e-03h  1\n",
      "  74 -5.1999998e+02 3.28e+01 1.09e+06  -1.0 8.61e+03    -  5.65e-02 3.90e-05h  1\n",
      "  75r-5.1999998e+02 3.28e+01 1.00e+03   0.9 0.00e+00    -  0.00e+00 3.10e-07R  6\n",
      "  76r-5.1999997e+02 2.87e+01 1.21e+03   0.9 5.84e+03    -  9.08e-03 5.51e-04f  1\n",
      "  77 -5.1999995e+02 2.87e+01 3.75e+02  -1.0 1.53e+02    -  1.48e-02 1.89e-04h  1\n",
      "  78r-5.1999995e+02 2.87e+01 9.99e+02   0.7 0.00e+00    -  0.00e+00 4.96e-07R  2\n",
      "  79r-5.1968832e+02 2.26e+01 9.97e+02   0.7 7.74e+04    -  8.68e-03 6.29e-04f  1\n",
      "iter    objective    inf_pr   inf_du lg(mu)  ||d||  lg(rg) alpha_du alpha_pr  ls\n",
      "  80 -5.1968590e+02 2.26e+01 5.38e+02  -1.0 1.31e+03    -  3.62e-02 2.91e-04h  1\n",
      "  81 -5.1999686e+02 2.25e+01 1.69e+03  -1.0 9.41e+03    -  2.87e-03 5.21e-03f  1\n",
      "  82 -5.1999997e+02 2.25e+01 2.20e+04  -1.0 9.30e+03    -  1.34e-02 5.29e-05h  1\n",
      "  83r-5.1999997e+02 2.25e+01 1.00e+03   0.4 0.00e+00    -  0.00e+00 2.62e-07R  5\n"
     ]
    },
    {
     "name": "stdout",
     "output_type": "stream",
     "text": [
      "  84r-5.1999978e+02 1.86e+01 1.21e+03   0.4 2.31e+03    -  8.35e-03 3.69e-04f  1\n",
      "  85 -5.1999977e+02 1.86e+01 3.03e+03  -1.0 1.58e+02    -  2.78e-02 4.53e-05h  1\n",
      "  86r-5.1999977e+02 1.86e+01 1.00e+03   0.3 0.00e+00    -  0.00e+00 4.60e-07R  4\n",
      "  87r-5.1994967e+02 1.51e+01 1.25e+03   0.3 2.17e+04    -  9.67e-03 3.50e-04f  1\n",
      "  88r-5.1995171e+02 5.82e+00 1.38e+03   0.3 2.77e+02    -  1.17e-02 5.52e-03f  1\n",
      "  89r-5.1995125e+02 2.56e+00 1.18e+03   0.3 2.29e+02    -  6.90e-04 1.02e-02f  1\n",
      "iter    objective    inf_pr   inf_du lg(mu)  ||d||  lg(rg) alpha_du alpha_pr  ls\n",
      "  90r-5.1995073e+02 2.01e+00 2.31e+03   0.3 2.10e+02    -  7.12e-02 3.89e-03f  1\n",
      "  91r-5.1994116e+02 2.17e+00 2.48e+03   0.3 2.67e+02    -  6.72e-02 4.25e-02f  1\n",
      "  92r-5.1993499e+02 2.27e+00 3.12e+03   0.3 3.20e+02    -  1.08e-01 1.95e-02f  1\n",
      "  93r-5.1989971e+02 3.07e+00 4.72e+03   0.3 2.56e+02    -  1.96e-01 6.93e-02f  1\n",
      "  94r-5.1933976e+02 3.08e+00 5.82e+03   0.3 1.66e+03    -  1.64e-01 5.31e-02f  1\n",
      "  95r-5.1890826e+02 3.30e+00 6.07e+03   0.3 4.80e+02    -  2.44e-01 1.41e-01f  1\n",
      "  96r-5.1785117e+02 3.15e+00 6.02e+03   0.3 7.13e+02    -  3.93e-01 2.33e-01f  1\n",
      "  97r-5.1629827e+02 2.44e+00 4.97e+03   0.3 7.29e+02    -  4.97e-01 3.32e-01f  1\n",
      "  98r-5.1624269e+02 2.39e+00 8.19e+03   0.3 3.91e+02    -  9.82e-01 2.20e-02f  1\n",
      "  99r-5.1678462e+02 1.55e+00 9.98e+02   0.3 8.98e+01    -  7.34e-01 9.50e-01f  1\n",
      "iter    objective    inf_pr   inf_du lg(mu)  ||d||  lg(rg) alpha_du alpha_pr  ls\n",
      " 100 -5.1683946e+02 1.14e+00 3.80e+02  -1.0 7.21e+02    -  6.96e-02 6.73e-02F  1\n",
      " 101 -5.1629371e+02 1.11e+00 9.53e+04  -1.0 7.90e+03    -  2.91e-04 1.07e-02f  1\n",
      " 102 -5.1812833e+02 1.61e+00 1.66e+06  -1.0 1.03e+03    -  9.09e-02 2.75e-01f  2\n",
      " 103 -5.1827793e+02 1.70e+00 8.30e+05  -1.0 2.67e+02  -2.0 1.59e-02 6.31e-01H  1\n",
      " 104 -5.1835775e+02 1.61e+00 6.88e+05  -1.0 2.51e+02  -2.5 3.46e-01 5.58e-02h  1\n",
      " 105 -5.1836837e+02 1.61e+00 6.88e+05  -1.0 9.39e+03  -2.1 2.37e-03 1.77e-04h  1\n",
      " 106 -5.1823397e+02 1.60e+00 6.99e+05  -1.0 3.02e+03    -  1.26e-04 6.98e-03h  1\n",
      " 107 -5.1818775e+02 1.60e+00 7.01e+05  -1.0 3.38e+03    -  5.71e-02 2.14e-03h  1\n",
      " 108 -5.1798251e+02 1.58e+00 7.38e+05  -1.0 3.42e+03    -  3.13e-03 9.40e-03h  1\n",
      " 109 -5.1788197e+02 1.57e+00 7.34e+05  -1.0 3.48e+03    -  1.02e-03 4.52e-03h  1\n",
      "iter    objective    inf_pr   inf_du lg(mu)  ||d||  lg(rg) alpha_du alpha_pr  ls\n",
      " 110 -5.1754919e+02 1.55e+00 7.01e+05  -1.0 3.52e+03    -  1.17e-01 1.48e-02h  2\n",
      " 111 -5.1729240e+02 1.53e+00 6.96e+05  -1.0 3.63e+03    -  1.94e-02 1.10e-02h  3\n",
      " 112 -5.1699857e+02 1.52e+00 6.88e+05  -1.0 3.71e+03    -  4.03e-01 1.23e-02h  3\n",
      " 113 -5.1675959e+02 1.50e+00 6.80e+05  -1.0 3.80e+03    -  2.86e-02 9.78e-03h  4\n",
      " 114 -5.1647515e+02 1.49e+00 6.72e+05  -1.0 3.87e+03    -  1.77e-01 1.14e-02h  4\n",
      " 115 -5.1613379e+02 1.47e+00 6.60e+05  -1.0 3.95e+03    -  4.70e-02 1.34e-02h  4\n",
      " 116 -5.1592529e+02 1.45e+00 6.55e+05  -1.0 4.04e+03    -  6.98e-01 7.99e-03h  5\n",
      " 117 -5.1569301e+02 1.44e+00 6.43e+05  -1.0 4.09e+03    -  5.11e-02 8.77e-03h  5\n",
      " 118 -5.1543255e+02 1.43e+00 6.31e+05  -1.0 4.15e+03    -  2.18e-01 9.69e-03h  5\n",
      " 119 -5.1513828e+02 1.41e+00 6.13e+05  -1.0 4.21e+03    -  7.65e-02 1.08e-02h  5\n",
      "iter    objective    inf_pr   inf_du lg(mu)  ||d||  lg(rg) alpha_du alpha_pr  ls\n",
      " 120 -5.0978173e+02 1.24e+01 1.60e+07  -1.0 4.28e+03    -  9.97e-02 1.93e-01w  1\n",
      " 121 -5.0964838e+02 1.23e+01 1.59e+07  -1.0 3.41e+03    -  4.67e-03 5.82e-03w  1\n",
      " 122 -5.0964431e+02 1.23e+01 1.59e+07  -1.0 4.29e+03    -  7.63e-03 1.42e-04w  1\n",
      " 123 -5.1497089e+02 1.41e+00 6.06e+05  -1.0 4.96e+03    -  9.97e-02 6.02e-03h  5\n",
      " 124 -5.1478942e+02 1.40e+00 6.10e+05  -1.0 4.43e+03    -  9.67e-03 6.30e-03h  6\n",
      " 125 -5.1459380e+02 1.39e+00 6.13e+05  -1.0 4.48e+03    -  1.63e-01 6.71e-03h  6\n",
      " 126 -5.1438138e+02 1.38e+00 6.14e+05  -1.0 4.58e+03    -  1.83e-02 7.12e-03h  6\n",
      " 127 -5.1414989e+02 1.37e+00 6.13e+05  -1.0 4.64e+03    -  1.81e-01 7.65e-03h  6\n",
      " 128 -5.1389561e+02 1.36e+00 6.09e+05  -1.0 4.75e+03    -  3.16e-02 8.19e-03h  6\n",
      " 129 -5.1361509e+02 1.35e+00 6.04e+05  -1.0 4.80e+03    -  1.75e-01 8.94e-03h  6\n",
      "iter    objective    inf_pr   inf_du lg(mu)  ||d||  lg(rg) alpha_du alpha_pr  ls\n",
      " 130 -5.1345869e+02 1.34e+00 6.02e+05  -1.0 4.88e+03    -  6.91e-02 4.90e-03h  7\n",
      " 131 -5.1109172e+02 1.24e+00 5.87e+05  -1.0 4.91e+03    -  2.81e-02 6.68e-02H  1\n",
      " 132 -5.1106861e+02 1.24e+00 5.87e+05  -1.0 4.65e+03    -  6.80e-02 6.98e-04H  1\n",
      " 133 -5.1086741e+02 1.23e+00 5.83e+05  -1.0 4.52e+03    -  7.41e-02 6.71e-03h  7\n",
      " 134 -5.1066551e+02 1.22e+00 5.80e+05  -1.0 4.74e+03    -  4.72e-01 6.41e-03f  7\n",
      " 135 -5.1046636e+02 1.22e+00 5.77e+05  -1.0 4.51e+03    -  7.72e-01 6.63e-03h  7\n",
      " 136 -5.1026777e+02 1.21e+00 5.73e+05  -1.0 4.56e+03    -  4.14e-02 6.53e-03h  7\n",
      " 137 -5.1007009e+02 1.20e+00 5.70e+05  -1.0 4.57e+03    -  6.15e-01 6.49e-03h  7\n",
      " 138 -5.0987395e+02 1.19e+00 5.67e+05  -1.0 4.50e+03    -  2.57e-01 6.54e-03h  7\n",
      " 139 -5.0967880e+02 1.19e+00 5.64e+05  -1.0 4.49e+03    -  5.00e-01 6.51e-03h  7\n",
      "iter    objective    inf_pr   inf_du lg(mu)  ||d||  lg(rg) alpha_du alpha_pr  ls\n",
      " 140 -5.0948371e+02 1.18e+00 5.61e+05  -1.0 4.44e+03    -  9.28e-01 6.57e-03h  6\n",
      " 141 -5.0928435e+02 1.17e+00 5.58e+05  -1.0 4.42e+03    -  2.27e-01 6.73e-03h  6\n",
      " 142 -5.0901605e+02 1.16e+00 6.28e+05  -1.0 4.41e+03    -  1.00e+00 9.08e-03h  6\n",
      " 143 -4.9683164e+02 5.93e+01 2.61e+07  -1.0 4.38e+03    -  2.42e-01 4.14e-01w  1\n",
      " 144 -4.9585787e+02 5.57e+01 2.50e+07  -1.0 1.95e+03    -  4.74e-02 6.74e-02w  1\n",
      " 145 -4.9584245e+02 5.56e+01 5.13e+07  -1.0 1.63e+03    -  3.47e-01 1.27e-03w  1\n",
      " 146 -5.0882567e+02 1.16e+00 6.59e+05  -1.0 1.10e+03    -  2.42e-01 6.47e-03h  6\n",
      " 147 -5.0844695e+02 1.14e+00 7.29e+05  -1.0 4.36e+03    -  5.30e-01 1.29e-02h  6\n",
      " 148 -5.0769774e+02 1.12e+00 7.62e+05  -1.0 4.31e+03    -  3.48e-01 2.58e-02h  5\n",
      " 149 -5.0768551e+02 1.12e+00 7.64e+05  -1.0 4.20e+03    -  1.58e-02 4.31e-04h 10\n",
      "iter    objective    inf_pr   inf_du lg(mu)  ||d||  lg(rg) alpha_du alpha_pr  ls\n",
      " 150 -5.0767397e+02 1.12e+00 9.39e+05  -1.0 4.19e+03    -  3.94e-01 4.07e-04h 10\n",
      " 151 -5.0766303e+02 1.12e+00 9.54e+05  -1.0 4.19e+03    -  1.52e-02 3.86e-04h 10\n",
      " 152 -5.0765260e+02 1.12e+00 1.66e+06  -1.0 4.19e+03    -  6.59e-01 3.68e-04h 10\n",
      " 153 -5.0763264e+02 1.12e+00 1.69e+06  -1.0 4.19e+03    -  1.43e-02 7.05e-04h  9\n",
      " 154 -5.0761417e+02 1.12e+00 2.39e+06  -1.0 4.18e+03    -  3.33e-01 6.53e-04h  9\n",
      " 155 -5.0759679e+02 1.12e+00 2.43e+06  -1.0 4.18e+03    -  1.44e-02 6.15e-04h  9\n",
      " 156 -5.0335247e+02 1.01e+01 2.91e+07  -1.0 4.18e+03    -  9.44e-01 1.50e-01w  1\n",
      " 157 -5.0255410e+02 9.81e+00 2.96e+07  -1.0 3.29e+03    -  1.33e-02 3.49e-02w  1\n",
      " 158 -5.0254052e+02 9.81e+00 2.96e+07  -1.0 3.06e+03    -  5.52e-01 6.37e-04w  1\n",
      " 159 -5.0733152e+02 1.11e+00 5.34e+06  -1.0 2.45e+03    -  9.44e-01 9.39e-03h  4\n",
      "iter    objective    inf_pr   inf_du lg(mu)  ||d||  lg(rg) alpha_du alpha_pr  ls\n",
      " 160 -5.0718367e+02 1.11e+00 5.47e+06  -1.0 4.13e+03    -  2.73e-02 5.29e-03h  6\n",
      " 161 -5.0709597e+02 1.10e+00 8.41e+06  -1.0 4.10e+03    -  4.08e-01 3.15e-03h  7\n",
      " 162 -5.0704822e+02 1.10e+00 8.99e+06  -1.0 4.08e+03    -  5.52e-02 1.72e-03h  8\n",
      " 163 -5.0699843e+02 1.10e+00 1.97e+07  -1.0 4.07e+03    -  9.03e-01 1.80e-03h  8\n",
      " 164 -5.0694658e+02 1.10e+00 2.12e+07  -1.0 4.06e+03    -  5.77e-02 1.88e-03h  8\n",
      " 165 -5.0689266e+02 1.09e+00 3.85e+07  -1.0 4.05e+03    -  6.15e-01 1.96e-03h  8\n",
      " 166 -5.0683665e+02 1.09e+00 4.20e+07  -1.0 4.04e+03    -  7.12e-02 2.04e-03h  8\n",
      " 167 -5.0672048e+02 1.09e+00 7.72e+07  -1.0 4.03e+03    -  6.32e-01 4.24e-03h  7\n",
      " 168 -5.0659613e+02 1.08e+00 8.56e+07  -1.0 4.01e+03    -  8.84e-02 4.56e-03h  7\n",
      " 169 -4.9811678e+02 2.89e+01 4.18e+09  -1.0 3.98e+03    -  1.00e+00 3.13e-01w  1\n",
      "iter    objective    inf_pr   inf_du lg(mu)  ||d||  lg(rg) alpha_du alpha_pr  ls\n",
      " 170 -4.9209446e+02 3.11e+01 2.71e+09  -1.0 2.03e+03    -  6.48e-02 4.11e-01w  1\n",
      " 171 -4.9191651e+02 2.98e+01 2.59e+09  -1.0 5.39e+02    -  1.99e-01 4.23e-02w  1\n",
      " 172 -5.0646364e+02 1.08e+00 2.00e+08  -1.0 4.42e+02    -  1.00e+00 4.89e-03h  6\n",
      " 173 -5.0632307e+02 1.07e+00 2.27e+08  -1.0 3.95e+03    -  1.10e-01 5.22e-03h  7\n",
      " 174 -5.0617452e+02 1.07e+00 3.97e+08  -1.0 3.92e+03    -  5.71e-01 5.56e-03h  7\n",
      " 175 -5.0601810e+02 1.06e+00 4.76e+08  -1.0 3.89e+03    -  1.58e-01 5.90e-03h  7\n",
      " 176 -5.0585394e+02 1.06e+00 1.10e+09  -1.0 3.86e+03    -  1.00e+00 6.24e-03h  7\n",
      " 177 -5.0568220e+02 1.05e+00 1.33e+09  -1.0 3.82e+03    -  1.74e-01 6.59e-03h  7\n"
     ]
    },
    {
     "name": "stdout",
     "output_type": "stream",
     "text": [
      " 178 -5.0551035e+02 1.04e+00 3.06e+09  -1.0 3.78e+03    -  1.00e+00 6.65e-03h  7\n",
      " 179 -5.0533949e+02 1.04e+00 3.86e+09  -1.0 3.74e+03    -  2.14e-01 6.68e-03h  7\n",
      "iter    objective    inf_pr   inf_du lg(mu)  ||d||  lg(rg) alpha_du alpha_pr  ls\n",
      " 180 -5.0516961e+02 1.03e+00 7.60e+09  -1.0 3.70e+03    -  7.66e-01 6.71e-03h  7\n",
      " 181 -5.0500073e+02 1.02e+00 1.02e+10  -1.0 3.65e+03    -  2.76e-01 6.74e-03h  7\n",
      " 182 -4.9425491e+02 4.59e+01 8.14e+11  -1.0 3.61e+03    -  1.83e-01 4.33e-01w  1\n",
      " 183 -4.9174073e+02 3.52e+01 5.10e+11  -1.0 1.17e+03    -  5.87e-01 2.84e-01w  1\n",
      " 184 -4.9166594e+02 3.46e+01 4.97e+11  -1.0 4.99e+02    -  1.65e-02 1.90e-02w  1\n",
      " 185 -5.0466492e+02 1.01e+00 1.22e+10  -1.0 2.71e+02    -  1.83e-01 1.35e-02h  5\n",
      " 186 -5.0433307e+02 1.00e+00 2.66e+10  -1.0 3.53e+03    -  1.00e+00 1.37e-02h  6\n",
      " 187 -5.0416913e+02 9.96e-01 2.75e+10  -1.0 3.44e+03    -  4.03e-02 6.92e-03h  7\n",
      " 188 -5.0410352e+02 9.93e-01 4.78e+10  -1.0 3.40e+03    -  6.21e-01 2.80e-03h  8\n",
      " 189 -5.0405558e+02 9.91e-01 4.88e+10  -1.0 3.38e+03    -  2.12e-02 2.06e-03h  8\n",
      "iter    objective    inf_pr   inf_du lg(mu)  ||d||  lg(rg) alpha_du alpha_pr  ls\n",
      " 190 -5.0403626e+02 9.90e-01 1.09e+11  -1.0 3.37e+03    -  1.00e+00 8.31e-04h  9\n",
      " 191 -5.0401835e+02 9.90e-01 1.11e+11  -1.0 3.36e+03    -  1.78e-02 7.72e-04h  9\n",
      " 192 -5.0400150e+02 9.89e-01 1.39e+11  -1.0 3.36e+03    -  2.05e-01 7.27e-04h  9\n",
      " 193 -5.0396937e+02 9.87e-01 1.42e+11  -1.0 3.35e+03    -  2.02e-02 1.39e-03h  8\n",
      " 194 -5.0384884e+02 9.83e-01 3.13e+11  -1.0 3.34e+03    -  1.00e+00 5.22e-03h  6\n",
      " 195 -4.9994815e+02 9.34e+00 3.52e+12  -1.0 3.31e+03    -  2.42e-02 1.71e-01w  1\n",
      " 196 -4.9778287e+02 8.27e+00 3.28e+12  -1.0 2.28e+03    -  1.00e+00 1.34e-01w  1\n",
      " 197 -4.9061265e+02 2.29e+01 9.48e+12  -1.0 1.66e+03    -  5.95e-04 6.01e-01w  1\n",
      " 198 -4.8982861e+02 1.02e+00 2.40e+13  -1.0 8.46e+01    -  5.10e-02 9.82e-01h  1\n",
      " 199 -4.9169938e+02 1.82e+00 1.75e+13  -1.0 1.03e+03    -  2.71e-01 2.43e-01f  3\n",
      "iter    objective    inf_pr   inf_du lg(mu)  ||d||  lg(rg) alpha_du alpha_pr  ls\n",
      " 200 -4.9256832e+02 1.89e+00 1.52e+13  -1.0 9.69e+02    -  2.81e-01 1.22e-01f  4\n",
      " 201 -4.9868648e+02 2.04e+00 9.97e+12  -1.0 6.61e+02    -  3.88e-03 9.89e-01H  1\n",
      " 202 -4.9830769e+02 5.60e-02 1.10e+12  -1.0 5.13e+01    -  8.24e-01 1.00e+00h  1\n",
      " 203 -4.9830385e+02 1.37e-05 8.59e+08  -1.0 4.85e-01    -  9.89e-01 1.00e+00h  1\n",
      " 204 -4.9830564e+02 1.25e-06 2.04e+06  -1.0 2.52e-01    -  9.90e-01 1.00e+00h  1\n",
      " 205 -4.9840327e+02 3.72e-03 4.03e+04  -1.0 1.37e+01    -  9.80e-01 1.00e+00f  1\n",
      " 206 -5.0216780e+02 2.02e+00 2.64e+05  -1.0 6.18e+02    -  6.65e-01 1.00e+00F  1\n",
      " 207 -5.0442187e+02 1.58e+00 2.73e+05  -1.0 1.21e+03    -  6.29e-01 2.66e-01f  2\n",
      " 208 -5.0575654e+02 1.17e+00 1.61e+06  -1.0 1.51e+03    -  1.00e+00 1.29e-01f  2\n",
      " 209 -5.0695450e+02 1.54e+00 2.89e+06  -1.0 9.92e+02    -  1.00e+00 1.77e-01f  3\n",
      "iter    objective    inf_pr   inf_du lg(mu)  ||d||  lg(rg) alpha_du alpha_pr  ls\n",
      " 210 -5.0898692e+02 1.81e+00 1.74e+06  -1.0 6.21e+02    -  1.00e+00 4.77e-01F  1\n",
      " 211 -5.0952839e+02 1.74e+00 3.53e+06  -1.0 7.82e+02    -  1.00e+00 1.03e-01f  1\n",
      " 212 -5.1317014e+02 5.40e+00 2.85e+05  -1.0 5.46e+02    -  1.00e+00 1.00e+00f  1\n",
      " 213 -5.1759836e+02 1.10e+01 8.06e+05  -1.0 1.48e+03    -  5.41e-01 4.58e-01f  1\n",
      " 214 -5.1997599e+02 5.83e+00 2.37e+07  -1.0 5.53e+02    -  1.08e-01 6.85e-01h  1\n",
      " 215 -5.1777073e+02 2.03e+00 1.64e+06  -1.0 3.43e+02    -  7.61e-01 1.00e+00f  1\n",
      " 216 -5.1893317e+02 5.63e-01 4.79e+05  -1.0 1.84e+02    -  1.00e+00 1.00e+00h  1\n",
      " 217 -5.1947310e+02 1.22e-01 5.12e+04  -1.0 8.54e+01    -  1.00e+00 1.00e+00h  1\n",
      " 218 -5.1969097e+02 1.99e-02 8.68e+03  -1.0 3.45e+01    -  1.00e+00 1.00e+00h  1\n",
      " 219 -5.1999691e+02 4.95e-02 4.18e+06  -1.7 1.00e+02    -  1.00e+00 4.81e-01f  1\n",
      "iter    objective    inf_pr   inf_du lg(mu)  ||d||  lg(rg) alpha_du alpha_pr  ls\n",
      " 220 -5.1997443e+02 2.12e-04 6.74e+03  -1.7 3.50e+00    -  1.00e+00 1.00e+00h  1\n",
      " 221 -5.1997675e+02 2.27e-06 2.74e+00  -1.7 3.67e-01    -  1.00e+00 1.00e+00h  1\n",
      " 222 -5.2000001e+02 2.27e-04 2.72e+05  -5.7 4.27e+00    -  9.96e-01 8.61e-01f  1\n",
      " 223 -5.2000000e+02 1.42e-10 2.53e-01  -5.7 5.82e-05    -  1.00e+00 1.00e+00h  1\n",
      " 224 -5.2000000e+02 8.86e-11 1.66e-10  -5.7 4.03e-07    -  1.00e+00 1.00e+00h  1\n",
      " 225 -5.2000001e+02 1.42e-10 2.35e-05  -8.6 2.91e-04    -  1.00e+00 1.00e+00h  1\n",
      " 226 -5.2000001e+02 2.86e-10 2.54e-14  -8.6 3.79e-09    -  1.00e+00 1.00e+00h  1\n",
      "\n",
      "Number of Iterations....: 226\n",
      "\n",
      "                                   (scaled)                 (unscaled)\n",
      "Objective...............:  -5.2000000519749415e+02   -5.2000000519749415e+02\n",
      "Dual infeasibility......:   2.5354718324877012e-14    2.5354718324877012e-14\n",
      "Constraint violation....:   2.8647345064712615e-10    2.8647345064712615e-10\n",
      "Complementarity.........:   2.5059035597039375e-09    2.5059035597039375e-09\n",
      "Overall NLP error.......:   2.5059035597039375e-09    2.5059035597039375e-09\n",
      "\n",
      "\n",
      "Number of objective function evaluations             = 816\n",
      "Number of objective gradient evaluations             = 203\n",
      "Number of equality constraint evaluations            = 816\n",
      "Number of inequality constraint evaluations          = 0\n",
      "Number of equality constraint Jacobian evaluations   = 243\n",
      "Number of inequality constraint Jacobian evaluations = 0\n",
      "Number of Lagrangian Hessian evaluations             = 226\n",
      "Total CPU secs in IPOPT (w/o function evaluations)   =      8.810\n",
      "Total CPU secs in NLP function evaluations           =      0.756\n",
      "\n",
      "EXIT: Optimal Solution Found.\n"
     ]
    }
   ],
   "source": [
    "opt = pe.SolverFactory('ipopt')\n",
    "\n",
    "opt.options['print_user_options'] = 'yes'\n",
    "# opt.options['linear_solver'] = 'ma57'\n",
    "# opt.options['ma57_automatic_scaling'] = 'no'\n",
    "# opt.options['nlp_scaling_method'] = None\n",
    "# opt.options['bound_relax_factor'] = 0\n",
    "# opt.options['halt_on_ampl_error'] = 'yes'\n",
    "\n",
    "opt.options['max_iter'] = 7000\n",
    "results = opt.solve(model,tee=True)\n",
    "update_dual(pe,model)"
   ]
  },
  {
   "cell_type": "code",
   "execution_count": 21,
   "metadata": {
    "scrolled": true,
    "slideshow": {
     "slide_type": "skip"
    }
   },
   "outputs": [
    {
     "data": {
      "text/plain": [
       "520.0"
      ]
     },
     "execution_count": 21,
     "metadata": {},
     "output_type": "execute_result"
    }
   ],
   "source": [
    "model.T.value"
   ]
  },
  {
   "cell_type": "code",
   "execution_count": 22,
   "metadata": {},
   "outputs": [
    {
     "data": {
      "text/plain": [
       "0.361896924673867"
      ]
     },
     "execution_count": 22,
     "metadata": {},
     "output_type": "execute_result"
    }
   ],
   "source": [
    "model.beta.value"
   ]
  },
  {
   "cell_type": "code",
   "execution_count": 23,
   "metadata": {
    "scrolled": true
   },
   "outputs": [
    {
     "data": {
      "text/plain": [
       "0.6381394592256806"
      ]
     },
     "execution_count": 23,
     "metadata": {},
     "output_type": "execute_result"
    }
   ],
   "source": [
    "model.s_L.value"
   ]
  },
  {
   "cell_type": "code",
   "execution_count": 24,
   "metadata": {
    "scrolled": true
   },
   "outputs": [
    {
     "data": {
      "text/plain": [
       "3.917638948444825e-05"
      ]
     },
     "execution_count": 24,
     "metadata": {},
     "output_type": "execute_result"
    }
   ],
   "source": [
    "model.L['out'].value"
   ]
  },
  {
   "cell_type": "markdown",
   "metadata": {},
   "source": [
    "# epi = 1e-5"
   ]
  },
  {
   "cell_type": "code",
   "execution_count": 25,
   "metadata": {},
   "outputs": [],
   "source": [
    "model.epi = 1e-5"
   ]
  },
  {
   "cell_type": "code",
   "execution_count": 26,
   "metadata": {
    "scrolled": false
   },
   "outputs": [
    {
     "name": "stdout",
     "output_type": "stream",
     "text": [
      "Ipopt 3.12.8: print_user_options=yes\n",
      "max_iter=7000\n",
      "\n",
      "\n",
      "List of user-set options:\n",
      "\n",
      "                                    Name   Value                used\n",
      "                                max_iter = 7000                  yes\n",
      "                      print_user_options = yes                   yes\n",
      "\n",
      "******************************************************************************\n",
      "This program contains Ipopt, a library for large-scale nonlinear optimization.\n",
      " Ipopt is released as open source code under the Eclipse Public License (EPL).\n",
      "         For more information visit http://projects.coin-or.org/Ipopt\n",
      "******************************************************************************\n",
      "\n",
      "This is Ipopt version 3.12.8, running with linear solver mumps.\n",
      "NOTE: Other linear solvers might be more efficient (see Ipopt documentation).\n",
      "\n",
      "Number of nonzeros in equality constraint Jacobian...:     4016\n",
      "Number of nonzeros in inequality constraint Jacobian.:        0\n",
      "Number of nonzeros in Lagrangian Hessian.............:     4399\n",
      "\n",
      "Total number of variables............................:     1185\n",
      "                     variables with only lower bounds:      381\n",
      "                variables with lower and upper bounds:      634\n",
      "                     variables with only upper bounds:        0\n",
      "Total number of equality constraints.................:     1184\n",
      "Total number of inequality constraints...............:        0\n",
      "        inequality constraints with only lower bounds:        0\n",
      "   inequality constraints with lower and upper bounds:        0\n",
      "        inequality constraints with only upper bounds:        0\n",
      "\n",
      "iter    objective    inf_pr   inf_du lg(mu)  ||d||  lg(rg) alpha_du alpha_pr  ls\n",
      "   0 -5.1953151e+02 2.61e+02 1.00e+00  -1.0 0.00e+00    -  0.00e+00 0.00e+00   0\n",
      "   1 -5.1999532e+02 3.50e+01 1.31e+04  -1.0 2.72e+01    -  9.10e-01 8.66e-01h  1\n",
      "   2 -5.1993914e+02 4.80e-01 1.25e+03  -1.0 6.50e+01    -  9.90e-01 9.90e-01h  1\n",
      "   3 -5.1994207e+02 3.18e-03 2.13e+04  -1.0 3.62e+00    -  8.98e-01 9.91e-01h  1\n",
      "   4 -5.1992964e+02 5.14e-04 1.26e+05  -1.0 1.96e+00    -  1.00e+00 9.96e-01H  1\n",
      "   5 -5.1989130e+02 6.16e-04 2.56e+04  -1.0 6.06e+00    -  1.00e+00 1.00e+00h  1\n",
      "   6 -5.1986315e+02 3.32e-04 5.75e+03  -1.0 4.44e+00    -  1.00e+00 1.00e+00h  1\n",
      "   7 -5.1999864e+02 7.71e-03 5.21e+05  -1.7 2.27e+01    -  1.00e+00 9.41e-01f  1\n",
      "   8 -5.1997810e+02 1.77e-04 1.21e+03  -1.7 3.24e+00    -  1.00e+00 1.00e+00f  1\n",
      "   9 -5.1997873e+02 1.65e-07 1.34e-01  -1.7 9.93e-02    -  1.00e+00 1.00e+00h  1\n",
      "iter    objective    inf_pr   inf_du lg(mu)  ||d||  lg(rg) alpha_du alpha_pr  ls\n",
      "  10 -5.2000001e+02 1.90e-04 1.11e+05  -5.7 3.57e+00    -  9.96e-01 9.41e-01f  1\n",
      "  11 -5.2000000e+02 6.86e-11 1.63e-01  -5.7 2.16e-04    -  1.00e+00 1.00e+00h  1\n",
      "  12 -5.2000000e+02 1.43e-10 1.72e-10  -5.7 3.77e-07    -  1.00e+00 1.00e+00h  1\n",
      "  13 -5.2000001e+02 6.00e-11 2.78e-05  -8.6 2.91e-04    -  1.00e+00 1.00e+00h  1\n",
      "  14 -5.2000001e+02 1.43e-10 2.52e-14  -8.6 1.63e-09    -  1.00e+00 1.00e+00h  1\n",
      "\n",
      "Number of Iterations....: 14\n",
      "\n",
      "                                   (scaled)                 (unscaled)\n",
      "Objective...............:  -5.2000000519749415e+02   -5.2000000519749415e+02\n",
      "Dual infeasibility......:   2.5229818234606682e-14    2.5229818234606682e-14\n",
      "Constraint violation....:   1.4323670255531745e-10    1.4323670255531745e-10\n",
      "Complementarity.........:   2.5059035597096509e-09    2.5059035597096509e-09\n",
      "Overall NLP error.......:   2.5059035597096509e-09    2.5059035597096509e-09\n",
      "\n",
      "\n",
      "Number of objective function evaluations             = 16\n",
      "Number of objective gradient evaluations             = 15\n",
      "Number of equality constraint evaluations            = 16\n",
      "Number of inequality constraint evaluations          = 0\n",
      "Number of equality constraint Jacobian evaluations   = 15\n",
      "Number of inequality constraint Jacobian evaluations = 0\n",
      "Number of Lagrangian Hessian evaluations             = 14\n",
      "Total CPU secs in IPOPT (w/o function evaluations)   =      0.462\n",
      "Total CPU secs in NLP function evaluations           =      0.031\n",
      "\n",
      "EXIT: Optimal Solution Found.\n"
     ]
    }
   ],
   "source": [
    "results = opt.solve(model,tee=True)\n",
    "update_dual(pe,model)"
   ]
  },
  {
   "cell_type": "code",
   "execution_count": 27,
   "metadata": {},
   "outputs": [
    {
     "data": {
      "text/plain": [
       "520.0"
      ]
     },
     "execution_count": 27,
     "metadata": {},
     "output_type": "execute_result"
    }
   ],
   "source": [
    "model.T.value"
   ]
  },
  {
   "cell_type": "code",
   "execution_count": 28,
   "metadata": {},
   "outputs": [
    {
     "data": {
      "text/plain": [
       "0.49202811699895094"
      ]
     },
     "execution_count": 28,
     "metadata": {},
     "output_type": "execute_result"
    }
   ],
   "source": [
    "model.beta.value"
   ]
  },
  {
   "cell_type": "code",
   "execution_count": 29,
   "metadata": {},
   "outputs": [
    {
     "data": {
      "text/plain": [
       "0.5079755211833071"
      ]
     },
     "execution_count": 29,
     "metadata": {},
     "output_type": "execute_result"
    }
   ],
   "source": [
    "model.s_L.value"
   ]
  },
  {
   "cell_type": "code",
   "execution_count": 30,
   "metadata": {},
   "outputs": [
    {
     "data": {
      "text/plain": [
       "4.921496992998416e-06"
      ]
     },
     "execution_count": 30,
     "metadata": {},
     "output_type": "execute_result"
    }
   ],
   "source": [
    "model.L['out'].value"
   ]
  },
  {
   "cell_type": "markdown",
   "metadata": {},
   "source": [
    "# epi = 1e-6"
   ]
  },
  {
   "cell_type": "code",
   "execution_count": 31,
   "metadata": {},
   "outputs": [],
   "source": [
    "model.epi = 1e-6"
   ]
  },
  {
   "cell_type": "code",
   "execution_count": 32,
   "metadata": {
    "scrolled": false
   },
   "outputs": [
    {
     "name": "stdout",
     "output_type": "stream",
     "text": [
      "Ipopt 3.12.8: print_user_options=yes\n",
      "max_iter=7000\n",
      "\n",
      "\n",
      "List of user-set options:\n",
      "\n",
      "                                    Name   Value                used\n",
      "                                max_iter = 7000                  yes\n",
      "                      print_user_options = yes                   yes\n",
      "\n",
      "******************************************************************************\n",
      "This program contains Ipopt, a library for large-scale nonlinear optimization.\n",
      " Ipopt is released as open source code under the Eclipse Public License (EPL).\n",
      "         For more information visit http://projects.coin-or.org/Ipopt\n",
      "******************************************************************************\n",
      "\n",
      "This is Ipopt version 3.12.8, running with linear solver mumps.\n",
      "NOTE: Other linear solvers might be more efficient (see Ipopt documentation).\n",
      "\n",
      "Number of nonzeros in equality constraint Jacobian...:     4016\n",
      "Number of nonzeros in inequality constraint Jacobian.:        0\n",
      "Number of nonzeros in Lagrangian Hessian.............:     4399\n",
      "\n",
      "Total number of variables............................:     1185\n",
      "                     variables with only lower bounds:      381\n",
      "                variables with lower and upper bounds:      634\n",
      "                     variables with only upper bounds:        0\n",
      "Total number of equality constraints.................:     1184\n",
      "Total number of inequality constraints...............:        0\n",
      "        inequality constraints with only lower bounds:        0\n",
      "   inequality constraints with lower and upper bounds:        0\n",
      "        inequality constraints with only upper bounds:        0\n",
      "\n",
      "iter    objective    inf_pr   inf_du lg(mu)  ||d||  lg(rg) alpha_du alpha_pr  ls\n",
      "   0 -5.1953151e+02 2.61e+02 1.00e+00  -1.0 0.00e+00    -  0.00e+00 0.00e+00   0\n",
      "   1 -5.1999532e+02 2.76e+01 1.70e+04  -1.0 1.38e+01    -  9.52e-01 8.94e-01h  1\n",
      "   2 -5.1993736e+02 2.68e-01 9.97e+02  -1.0 3.86e+01    -  9.90e-01 9.90e-01h  1\n",
      "   3 -5.1994920e+02 2.51e-03 7.11e+03  -1.0 1.81e+00    -  9.95e-01 9.91e-01h  1\n",
      "   4 -5.1993838e+02 7.92e-05 1.99e+05  -1.0 2.46e+01    -  1.00e+00 1.00e+00H  1\n",
      "   5 -5.1991421e+02 2.45e-04 1.93e+04  -1.0 3.82e+00    -  1.00e+00 1.00e+00f  1\n",
      "   6 -5.1990644e+02 2.53e-05 5.98e+01  -1.0 1.23e+00    -  1.00e+00 1.00e+00h  1\n",
      "   7 -5.1999152e+02 3.03e-03 2.05e+05  -3.8 1.34e+01    -  9.82e-01 1.00e+00f  1\n",
      "   8 -5.2000000e+02 5.13e-05 5.52e+02  -3.8 1.35e+00    -  1.00e+00 9.93e-01h  1\n",
      "   9 -5.1999985e+02 9.33e-09 3.31e-02  -3.8 2.35e-02    -  1.00e+00 1.00e+00f  1\n",
      "iter    objective    inf_pr   inf_du lg(mu)  ||d||  lg(rg) alpha_du alpha_pr  ls\n",
      "  10 -5.1999985e+02 1.43e-10 1.61e-09  -3.8 2.04e-06    -  1.00e+00 1.00e+00h  1\n",
      "  11 -5.2000000e+02 9.24e-09 2.19e-01  -5.7 2.35e-02    -  1.00e+00 1.00e+00f  1\n",
      "  12 -5.2000000e+02 2.86e-10 5.92e-10  -5.7 1.42e-06    -  1.00e+00 1.00e+00h  1\n",
      "  13 -5.2000001e+02 2.87e-10 3.37e-05  -8.6 2.91e-04    -  1.00e+00 1.00e+00h  1\n",
      "  14 -5.2000001e+02 4.15e-11 2.63e-14  -8.6 2.30e-09    -  1.00e+00 1.00e+00h  1\n",
      "\n",
      "Number of Iterations....: 14\n",
      "\n",
      "                                   (scaled)                 (unscaled)\n",
      "Objective...............:  -5.2000000519749415e+02   -5.2000000519749415e+02\n",
      "Dual infeasibility......:   2.6263713426288859e-14    2.6263713426288859e-14\n",
      "Constraint violation....:   4.1455904681297895e-11    4.1455904681297895e-11\n",
      "Complementarity.........:   2.5059035596801172e-09    2.5059035596801172e-09\n",
      "Overall NLP error.......:   2.5059035596801172e-09    2.5059035596801172e-09\n",
      "\n",
      "\n",
      "Number of objective function evaluations             = 17\n",
      "Number of objective gradient evaluations             = 15\n",
      "Number of equality constraint evaluations            = 17\n",
      "Number of inequality constraint evaluations          = 0\n",
      "Number of equality constraint Jacobian evaluations   = 15\n",
      "Number of inequality constraint Jacobian evaluations = 0\n",
      "Number of Lagrangian Hessian evaluations             = 14\n",
      "Total CPU secs in IPOPT (w/o function evaluations)   =      0.504\n",
      "Total CPU secs in NLP function evaluations           =      0.033\n",
      "\n",
      "EXIT: Optimal Solution Found.\n"
     ]
    }
   ],
   "source": [
    "results = opt.solve(model,tee=True)\n",
    "update_dual(pe,model)"
   ]
  },
  {
   "cell_type": "code",
   "execution_count": 33,
   "metadata": {},
   "outputs": [
    {
     "data": {
      "text/plain": [
       "520.0"
      ]
     },
     "execution_count": 33,
     "metadata": {},
     "output_type": "execute_result"
    }
   ],
   "source": [
    "model.T.value"
   ]
  },
  {
   "cell_type": "code",
   "execution_count": 34,
   "metadata": {},
   "outputs": [
    {
     "data": {
      "text/plain": [
       "0.6160067929772846"
      ]
     },
     "execution_count": 34,
     "metadata": {},
     "output_type": "execute_result"
    }
   ],
   "source": [
    "model.beta.value"
   ]
  },
  {
   "cell_type": "code",
   "execution_count": 35,
   "metadata": {},
   "outputs": [
    {
     "data": {
      "text/plain": [
       "0.3839935708383389"
      ]
     },
     "execution_count": 35,
     "metadata": {},
     "output_type": "execute_result"
    }
   ],
   "source": [
    "model.s_L.value"
   ]
  },
  {
   "cell_type": "code",
   "execution_count": 36,
   "metadata": {},
   "outputs": [
    {
     "data": {
      "text/plain": [
       "6.510525669520658e-07"
      ]
     },
     "execution_count": 36,
     "metadata": {},
     "output_type": "execute_result"
    }
   ],
   "source": [
    "model.L['out'].value"
   ]
  },
  {
   "cell_type": "markdown",
   "metadata": {},
   "source": [
    "# epi = 1e-7"
   ]
  },
  {
   "cell_type": "code",
   "execution_count": 37,
   "metadata": {},
   "outputs": [],
   "source": [
    "model.epi = 1e-7"
   ]
  },
  {
   "cell_type": "code",
   "execution_count": 38,
   "metadata": {
    "scrolled": false
   },
   "outputs": [
    {
     "name": "stdout",
     "output_type": "stream",
     "text": [
      "Ipopt 3.12.8: print_user_options=yes\n",
      "max_iter=7000\n",
      "\n",
      "\n",
      "List of user-set options:\n",
      "\n",
      "                                    Name   Value                used\n",
      "                                max_iter = 7000                  yes\n",
      "                      print_user_options = yes                   yes\n",
      "\n",
      "******************************************************************************\n",
      "This program contains Ipopt, a library for large-scale nonlinear optimization.\n",
      " Ipopt is released as open source code under the Eclipse Public License (EPL).\n",
      "         For more information visit http://projects.coin-or.org/Ipopt\n",
      "******************************************************************************\n",
      "\n",
      "This is Ipopt version 3.12.8, running with linear solver mumps.\n",
      "NOTE: Other linear solvers might be more efficient (see Ipopt documentation).\n",
      "\n",
      "Number of nonzeros in equality constraint Jacobian...:     4016\n",
      "Number of nonzeros in inequality constraint Jacobian.:        0\n",
      "Number of nonzeros in Lagrangian Hessian.............:     4399\n",
      "\n",
      "Total number of variables............................:     1185\n",
      "                     variables with only lower bounds:      381\n",
      "                variables with lower and upper bounds:      634\n",
      "                     variables with only upper bounds:        0\n",
      "Total number of equality constraints.................:     1184\n",
      "Total number of inequality constraints...............:        0\n",
      "        inequality constraints with only lower bounds:        0\n",
      "   inequality constraints with lower and upper bounds:        0\n",
      "        inequality constraints with only upper bounds:        0\n",
      "\n",
      "iter    objective    inf_pr   inf_du lg(mu)  ||d||  lg(rg) alpha_du alpha_pr  ls\n",
      "   0 -5.1953151e+02 2.61e+02 1.00e+00  -1.0 0.00e+00    -  0.00e+00 0.00e+00   0\n",
      "   1 -5.1999532e+02 2.10e+01 1.16e+04  -1.0 5.57e+00    -  9.59e-01 9.19e-01h  1\n",
      "   2 -5.1993437e+02 2.04e-01 7.73e+02  -1.0 2.62e+01    -  9.90e-01 9.90e-01h  1\n",
      "   3 -5.1995605e+02 2.59e-03 1.58e+03  -1.0 3.40e+00    -  9.96e-01 9.89e-01h  1\n",
      "   4 -5.1994875e+02 1.08e-03 5.80e+05  -1.0 3.04e+01    -  1.00e+00 1.00e+00H  1\n",
      "   5 -5.1992728e+02 1.93e-04 1.66e+04  -1.0 3.39e+00    -  1.00e+00 1.00e+00h  1\n",
      "   6 -5.1991761e+02 3.92e-05 8.87e+01  -1.0 1.53e+00    -  1.00e+00 1.00e+00h  1\n",
      "   7 -5.1998408e+02 1.85e-03 2.37e+05  -3.8 1.05e+01    -  9.74e-01 1.00e+00f  1\n",
      "   8 -5.2000000e+02 1.13e-04 3.13e+02  -3.8 2.53e+00    -  1.00e+00 9.97e-01h  1\n",
      "   9 -5.1999985e+02 9.19e-09 2.85e-02  -3.8 2.33e-02    -  1.00e+00 1.00e+00h  1\n",
      "iter    objective    inf_pr   inf_du lg(mu)  ||d||  lg(rg) alpha_du alpha_pr  ls\n",
      "  10 -5.1999985e+02 1.43e-10 1.90e-09  -3.8 6.28e-06    -  1.00e+00 1.00e+00h  1\n",
      "  11 -5.2000000e+02 9.24e-09 1.30e-01  -5.7 2.35e-02    -  1.00e+00 1.00e+00f  1\n",
      "  12 -5.2000000e+02 1.43e-10 2.20e-09  -5.7 6.66e-06    -  1.00e+00 1.00e+00h  1\n",
      "  13 -5.2000001e+02 1.91e-11 2.00e-05  -8.6 2.91e-04    -  1.00e+00 1.00e+00h  1\n",
      "  14 -5.2000001e+02 1.43e-10 3.36e-14  -8.6 9.53e-09    -  1.00e+00 1.00e+00h  1\n",
      "\n",
      "Number of Iterations....: 14\n",
      "\n",
      "                                   (scaled)                 (unscaled)\n",
      "Objective...............:  -5.2000000519749415e+02   -5.2000000519749415e+02\n",
      "Dual infeasibility......:   3.3559960366247310e-14    3.3559960366247310e-14\n",
      "Constraint violation....:   1.4323671177103592e-10    1.4323671177103592e-10\n",
      "Complementarity.........:   2.5059035597096546e-09    2.5059035597096546e-09\n",
      "Overall NLP error.......:   2.5059035597096546e-09    2.5059035597096546e-09\n",
      "\n",
      "\n",
      "Number of objective function evaluations             = 17\n",
      "Number of objective gradient evaluations             = 15\n",
      "Number of equality constraint evaluations            = 17\n",
      "Number of inequality constraint evaluations          = 0\n",
      "Number of equality constraint Jacobian evaluations   = 15\n",
      "Number of inequality constraint Jacobian evaluations = 0\n",
      "Number of Lagrangian Hessian evaluations             = 14\n",
      "Total CPU secs in IPOPT (w/o function evaluations)   =      0.494\n",
      "Total CPU secs in NLP function evaluations           =      0.034\n",
      "\n",
      "EXIT: Optimal Solution Found.\n"
     ]
    }
   ],
   "source": [
    "results = opt.solve(model,tee=True)\n",
    "update_dual(pe,model)"
   ]
  },
  {
   "cell_type": "code",
   "execution_count": 39,
   "metadata": {},
   "outputs": [
    {
     "data": {
      "text/plain": [
       "520.0"
      ]
     },
     "execution_count": 39,
     "metadata": {},
     "output_type": "execute_result"
    }
   ],
   "source": [
    "model.T.value"
   ]
  },
  {
   "cell_type": "code",
   "execution_count": 40,
   "metadata": {},
   "outputs": [
    {
     "data": {
      "text/plain": [
       "0.7123547353055278"
      ]
     },
     "execution_count": 40,
     "metadata": {},
     "output_type": "execute_result"
    }
   ],
   "source": [
    "model.beta.value"
   ]
  },
  {
   "cell_type": "code",
   "execution_count": 41,
   "metadata": {},
   "outputs": [
    {
     "data": {
      "text/plain": [
       "0.2876453010760001"
      ]
     },
     "execution_count": 41,
     "metadata": {},
     "output_type": "execute_result"
    }
   ],
   "source": [
    "model.s_L.value"
   ]
  },
  {
   "cell_type": "code",
   "execution_count": 42,
   "metadata": {},
   "outputs": [
    {
     "data": {
      "text/plain": [
       "8.691259651635415e-08"
      ]
     },
     "execution_count": 42,
     "metadata": {},
     "output_type": "execute_result"
    }
   ],
   "source": [
    "model.L['out'].value"
   ]
  },
  {
   "cell_type": "markdown",
   "metadata": {},
   "source": [
    "# epi = 1e-8"
   ]
  },
  {
   "cell_type": "code",
   "execution_count": 43,
   "metadata": {},
   "outputs": [],
   "source": [
    "model.epi = 1e-8"
   ]
  },
  {
   "cell_type": "code",
   "execution_count": 44,
   "metadata": {
    "scrolled": false
   },
   "outputs": [
    {
     "name": "stdout",
     "output_type": "stream",
     "text": [
      "Ipopt 3.12.8: print_user_options=yes\n",
      "max_iter=7000\n",
      "\n",
      "\n",
      "List of user-set options:\n",
      "\n",
      "                                    Name   Value                used\n",
      "                                max_iter = 7000                  yes\n",
      "                      print_user_options = yes                   yes\n",
      "\n",
      "******************************************************************************\n",
      "This program contains Ipopt, a library for large-scale nonlinear optimization.\n",
      " Ipopt is released as open source code under the Eclipse Public License (EPL).\n",
      "         For more information visit http://projects.coin-or.org/Ipopt\n",
      "******************************************************************************\n",
      "\n",
      "This is Ipopt version 3.12.8, running with linear solver mumps.\n",
      "NOTE: Other linear solvers might be more efficient (see Ipopt documentation).\n",
      "\n",
      "Number of nonzeros in equality constraint Jacobian...:     4016\n",
      "Number of nonzeros in inequality constraint Jacobian.:        0\n",
      "Number of nonzeros in Lagrangian Hessian.............:     4399\n",
      "\n",
      "Total number of variables............................:     1185\n",
      "                     variables with only lower bounds:      381\n",
      "                variables with lower and upper bounds:      634\n",
      "                     variables with only upper bounds:        0\n",
      "Total number of equality constraints.................:     1184\n",
      "Total number of inequality constraints...............:        0\n",
      "        inequality constraints with only lower bounds:        0\n",
      "   inequality constraints with lower and upper bounds:        0\n",
      "        inequality constraints with only upper bounds:        0\n",
      "\n",
      "iter    objective    inf_pr   inf_du lg(mu)  ||d||  lg(rg) alpha_du alpha_pr  ls\n",
      "   0 -5.1953151e+02 2.61e+02 1.00e+00  -1.0 0.00e+00    -  0.00e+00 0.00e+00   0\n",
      "   1 -5.1999532e+02 1.84e+01 7.20e+03  -1.0 1.72e+01    -  9.54e-01 9.30e-01h  1\n",
      "   2 -5.1993178e+02 1.79e-01 6.18e+02  -1.0 2.28e+01    -  9.90e-01 9.90e-01h  1\n",
      "   3 -5.1996417e+02 4.91e-03 2.96e+03  -1.0 5.13e+00    -  9.95e-01 9.88e-01h  1\n",
      "   4 -5.1995498e+02 2.38e-03 1.09e+06  -1.0 1.34e+01    -  1.00e+00 1.00e+00H  1\n",
      "   5 -5.1993310e+02 2.54e-04 9.60e+04  -1.0 3.46e+00    -  1.00e+00 1.00e+00h  1\n",
      "   6 -5.1992261e+02 4.62e-05 4.46e+02  -1.0 1.66e+00    -  1.00e+00 1.00e+00h  1\n",
      "   7 -5.1996972e+02 9.31e-04 1.33e+04  -1.7 7.44e+00    -  1.00e+00 1.00e+00f  1\n",
      "   8 -5.1998116e+02 5.49e-05 1.34e+02  -1.7 1.81e+00    -  1.00e+00 1.00e+00h  1\n",
      "   9 -5.1998105e+02 4.86e-09 3.18e-03  -1.7 1.69e-02    -  1.00e+00 1.00e+00h  1\n",
      "iter    objective    inf_pr   inf_du lg(mu)  ||d||  lg(rg) alpha_du alpha_pr  ls\n",
      "  10 -5.1999899e+02 1.35e-04 1.73e+04  -5.7 2.83e+00    -  9.90e-01 1.00e+00f  1\n",
      "  11 -5.2000000e+02 4.29e-07 1.28e+00  -5.7 1.60e-01    -  1.00e+00 1.00e+00h  1\n",
      "  12 -5.2000000e+02 1.43e-10 5.74e-07  -5.7 7.05e-05    -  1.00e+00 1.00e+00h  1\n",
      "  13 -5.2000001e+02 7.29e-11 1.15e-05  -8.6 2.91e-04    -  1.00e+00 1.00e+00h  1\n",
      "  14 -5.2000001e+02 2.86e-10 2.52e-14  -8.6 4.97e-09    -  1.00e+00 1.00e+00h  1\n",
      "\n",
      "Number of Iterations....: 14\n",
      "\n",
      "                                   (scaled)                 (unscaled)\n",
      "Objective...............:  -5.2000000519749415e+02   -5.2000000519749415e+02\n",
      "Dual infeasibility......:   2.5229818234606682e-14    2.5229818234606682e-14\n",
      "Constraint violation....:   2.8647346875330243e-10    2.8647346875330243e-10\n",
      "Complementarity.........:   2.5059035596801495e-09    2.5059035596801495e-09\n",
      "Overall NLP error.......:   2.5059035596801495e-09    2.5059035596801495e-09\n",
      "\n",
      "\n",
      "Number of objective function evaluations             = 17\n",
      "Number of objective gradient evaluations             = 15\n",
      "Number of equality constraint evaluations            = 17\n",
      "Number of inequality constraint evaluations          = 0\n",
      "Number of equality constraint Jacobian evaluations   = 15\n",
      "Number of inequality constraint Jacobian evaluations = 0\n",
      "Number of Lagrangian Hessian evaluations             = 14\n",
      "Total CPU secs in IPOPT (w/o function evaluations)   =      0.497\n",
      "Total CPU secs in NLP function evaluations           =      0.031\n",
      "\n",
      "EXIT: Optimal Solution Found.\n"
     ]
    }
   ],
   "source": [
    "results = opt.solve(model,tee=True)\n",
    "update_dual(pe,model)"
   ]
  },
  {
   "cell_type": "code",
   "execution_count": 45,
   "metadata": {},
   "outputs": [
    {
     "data": {
      "text/plain": [
       "520.0"
      ]
     },
     "execution_count": 45,
     "metadata": {},
     "output_type": "execute_result"
    }
   ],
   "source": [
    "model.T.value"
   ]
  },
  {
   "cell_type": "code",
   "execution_count": 46,
   "metadata": {},
   "outputs": [
    {
     "data": {
      "text/plain": [
       "0.7529305088421685"
      ]
     },
     "execution_count": 46,
     "metadata": {},
     "output_type": "execute_result"
    }
   ],
   "source": [
    "model.beta.value"
   ]
  },
  {
   "cell_type": "code",
   "execution_count": 47,
   "metadata": {},
   "outputs": [
    {
     "data": {
      "text/plain": [
       "0.24706949479598384"
      ]
     },
     "execution_count": 47,
     "metadata": {},
     "output_type": "execute_result"
    }
   ],
   "source": [
    "model.s_L.value"
   ]
  },
  {
   "cell_type": "code",
   "execution_count": 48,
   "metadata": {
    "scrolled": true
   },
   "outputs": [
    {
     "data": {
      "text/plain": [
       "1.011861057281243e-08"
      ]
     },
     "execution_count": 48,
     "metadata": {},
     "output_type": "execute_result"
    }
   ],
   "source": [
    "model.L['out'].value"
   ]
  },
  {
   "cell_type": "markdown",
   "metadata": {},
   "source": [
    "# epi = 1e-12"
   ]
  },
  {
   "cell_type": "code",
   "execution_count": 49,
   "metadata": {},
   "outputs": [],
   "source": [
    "model.epi = 1e-12"
   ]
  },
  {
   "cell_type": "code",
   "execution_count": 50,
   "metadata": {
    "scrolled": false
   },
   "outputs": [
    {
     "name": "stdout",
     "output_type": "stream",
     "text": [
      "Ipopt 3.12.8: print_user_options=yes\n",
      "max_iter=7000\n",
      "\n",
      "\n",
      "List of user-set options:\n",
      "\n",
      "                                    Name   Value                used\n",
      "                                max_iter = 7000                  yes\n",
      "                      print_user_options = yes                   yes\n",
      "\n",
      "******************************************************************************\n",
      "This program contains Ipopt, a library for large-scale nonlinear optimization.\n",
      " Ipopt is released as open source code under the Eclipse Public License (EPL).\n",
      "         For more information visit http://projects.coin-or.org/Ipopt\n",
      "******************************************************************************\n",
      "\n",
      "This is Ipopt version 3.12.8, running with linear solver mumps.\n",
      "NOTE: Other linear solvers might be more efficient (see Ipopt documentation).\n",
      "\n",
      "Number of nonzeros in equality constraint Jacobian...:     4016\n",
      "Number of nonzeros in inequality constraint Jacobian.:        0\n",
      "Number of nonzeros in Lagrangian Hessian.............:     4399\n",
      "\n",
      "Total number of variables............................:     1185\n",
      "                     variables with only lower bounds:      381\n",
      "                variables with lower and upper bounds:      634\n",
      "                     variables with only upper bounds:        0\n",
      "Total number of equality constraints.................:     1184\n",
      "Total number of inequality constraints...............:        0\n",
      "        inequality constraints with only lower bounds:        0\n",
      "   inequality constraints with lower and upper bounds:        0\n",
      "        inequality constraints with only upper bounds:        0\n",
      "\n",
      "iter    objective    inf_pr   inf_du lg(mu)  ||d||  lg(rg) alpha_du alpha_pr  ls\n",
      "   0 -5.1953151e+02 2.61e+02 1.00e+00  -1.0 0.00e+00    -  0.00e+00 0.00e+00   0\n",
      "   1 -5.1999532e+02 1.99e+01 8.34e+03  -1.0 1.84e+01    -  9.52e-01 9.24e-01h  1\n",
      "   2 -5.1993224e+02 1.94e-01 6.34e+02  -1.0 2.35e+01    -  9.90e-01 9.90e-01h  1\n",
      "   3 -5.1996676e+02 6.50e-03 4.51e+03  -1.0 5.47e+00    -  9.95e-01 9.88e-01h  1\n",
      "   4 -5.1995705e+02 4.89e-04 1.39e+05  -1.0 2.66e+00    -  1.00e+00 1.00e+00h  1\n",
      "   5 -5.1993561e+02 4.25e-04 8.48e+04  -1.0 3.39e+00    -  1.00e+00 1.00e+00h  1\n",
      "   6 -5.1992597e+02 3.89e-05 2.87e+02  -1.0 1.52e+00    -  1.00e+00 1.00e+00h  1\n",
      "   7 -5.1997820e+02 1.14e-03 9.34e+04  -2.5 8.25e+00    -  9.91e-01 1.00e+00f  1\n",
      "   8 -5.1999748e+02 1.56e-04 4.83e+02  -2.5 3.05e+00    -  1.00e+00 1.00e+00h  1\n",
      "   9 -5.1999720e+02 3.12e-08 6.49e-02  -2.5 4.30e-02    -  1.00e+00 1.00e+00h  1\n",
      "iter    objective    inf_pr   inf_du lg(mu)  ||d||  lg(rg) alpha_du alpha_pr  ls\n",
      "  10 -5.1999998e+02 3.23e-06 3.07e+02  -5.7 4.38e-01    -  9.99e-01 1.00e+00f  1\n",
      "  11 -5.2000000e+02 2.84e-10 1.03e-03  -5.7 4.07e-03    -  1.00e+00 1.00e+00h  1\n",
      "  12 -5.2000000e+02 1.43e-10 1.89e-11  -5.7 6.94e-08    -  1.00e+00 1.00e+00h  1\n",
      "  13 -5.2000001e+02 1.93e-10 1.44e-05  -8.6 2.91e-04    -  1.00e+00 1.00e+00h  1\n",
      "  14 -5.2000001e+02 2.86e-10 3.29e-14  -8.6 4.90e-09    -  1.00e+00 1.00e+00h  1\n",
      "\n",
      "Number of Iterations....: 14\n",
      "\n",
      "                                   (scaled)                 (unscaled)\n",
      "Objective...............:  -5.2000000519749415e+02   -5.2000000519749415e+02\n",
      "Dual infeasibility......:   3.2918112680135891e-14    3.2918112680135891e-14\n",
      "Constraint violation....:   2.8647346983750460e-10    2.8647346983750460e-10\n",
      "Complementarity.........:   2.5059035639054575e-09    2.5059035639054575e-09\n",
      "Overall NLP error.......:   2.5059035639054575e-09    2.5059035639054575e-09\n",
      "\n",
      "\n",
      "Number of objective function evaluations             = 15\n",
      "Number of objective gradient evaluations             = 15\n",
      "Number of equality constraint evaluations            = 15\n",
      "Number of inequality constraint evaluations          = 0\n",
      "Number of equality constraint Jacobian evaluations   = 15\n",
      "Number of inequality constraint Jacobian evaluations = 0\n",
      "Number of Lagrangian Hessian evaluations             = 14\n",
      "Total CPU secs in IPOPT (w/o function evaluations)   =      0.480\n",
      "Total CPU secs in NLP function evaluations           =      0.033\n",
      "\n",
      "EXIT: Optimal Solution Found.\n"
     ]
    }
   ],
   "source": [
    "results = opt.solve(model,tee=True)\n",
    "update_dual(pe,model)"
   ]
  },
  {
   "cell_type": "code",
   "execution_count": 51,
   "metadata": {},
   "outputs": [
    {
     "data": {
      "text/plain": [
       "520.0"
      ]
     },
     "execution_count": 51,
     "metadata": {},
     "output_type": "execute_result"
    }
   ],
   "source": [
    "model.T.value"
   ]
  },
  {
   "cell_type": "code",
   "execution_count": 52,
   "metadata": {},
   "outputs": [
    {
     "data": {
      "text/plain": [
       "0.7607467231624826"
      ]
     },
     "execution_count": 52,
     "metadata": {},
     "output_type": "execute_result"
    }
   ],
   "source": [
    "model.beta.value"
   ]
  },
  {
   "cell_type": "code",
   "execution_count": 53,
   "metadata": {},
   "outputs": [
    {
     "data": {
      "text/plain": [
       "0.2392532768378811"
      ]
     },
     "execution_count": 53,
     "metadata": {},
     "output_type": "execute_result"
    }
   ],
   "source": [
    "model.s_L.value"
   ]
  },
  {
   "cell_type": "code",
   "execution_count": 54,
   "metadata": {
    "scrolled": true
   },
   "outputs": [
    {
     "data": {
      "text/plain": [
       "1.0449254377640906e-12"
      ]
     },
     "execution_count": 54,
     "metadata": {},
     "output_type": "execute_result"
    }
   ],
   "source": [
    "model.L['out'].value"
   ]
  },
  {
   "cell_type": "code",
   "execution_count": 55,
   "metadata": {
    "scrolled": false,
    "slideshow": {
     "slide_type": "slide"
    }
   },
   "outputs": [
    {
     "name": "stdout",
     "output_type": "stream",
     "text": [
      "Component\t\tLiquid: 0.0000\t\t\tVapor: 0.6872\n",
      "------------------------------------------------------------------------------------------------------------\n",
      "H2         \t\t 1.8828%\t\t\t35.2205%\n",
      "CO         \t\t 2.2939%\t\t\t34.5014%\n",
      "CO2        \t\t 3.1004%\t\t\t22.0790%\n",
      "H2O        \t\t 0.5893%\t\t\t 2.1884%\n",
      "C2H4       \t\t 0.1267%\t\t\t 0.7284%\n",
      "C3H6       \t\t 0.2326%\t\t\t 0.6741%\n",
      "C4H8       \t\t 0.1694%\t\t\t 0.4819%\n",
      "C5H10      \t\t 0.2045%\t\t\t 0.3003%\n",
      "C6H12      \t\t 0.2709%\t\t\t 0.2259%\n",
      "C7H14      \t\t 0.3378%\t\t\t 0.1699%\n",
      "C8H16      \t\t 0.4039%\t\t\t 0.1279%\n",
      "C9H18      \t\t 0.4685%\t\t\t 0.0962%\n",
      "C10H20     \t\t 0.5309%\t\t\t 0.0724%\n",
      "C11H22     \t\t 0.3765%\t\t\t 0.0347%\n",
      "C12H24     \t\t 0.4130%\t\t\t 0.0261%\n",
      "C13H26     \t\t 0.4476%\t\t\t 0.0196%\n",
      "C14H28     \t\t 0.4804%\t\t\t 0.0148%\n",
      "C15H30     \t\t 0.5113%\t\t\t 0.0111%\n",
      "C16H32     \t\t 0.5403%\t\t\t 0.0084%\n",
      "C17H34     \t\t 0.5674%\t\t\t 0.0063%\n",
      "C18H36     \t\t 0.5928%\t\t\t 0.0047%\n",
      "C19H38     \t\t 0.6164%\t\t\t 0.0036%\n",
      "C20H40     \t\t 0.6384%\t\t\t 0.0027%\n",
      "C1H4       \t\t 0.1665%\t\t\t 1.4887%\n",
      "C2H6       \t\t 0.0751%\t\t\t 0.3916%\n",
      "C3H8       \t\t 0.0574%\t\t\t 0.1685%\n",
      "C4H10      \t\t 0.0600%\t\t\t 0.1520%\n",
      "C5H12      \t\t 0.1326%\t\t\t 0.1766%\n",
      "C6H14      \t\t 0.1738%\t\t\t 0.1329%\n",
      "C7H16      \t\t 0.2151%\t\t\t 0.1000%\n",
      "C8H18      \t\t 0.2559%\t\t\t 0.0752%\n",
      "C9H20      \t\t 0.2956%\t\t\t 0.0566%\n",
      "C10H22     \t\t 0.3340%\t\t\t 0.0426%\n",
      "C11H24     \t\t 0.5996%\t\t\t 0.0518%\n",
      "C12H26     \t\t 0.6564%\t\t\t 0.0390%\n",
      "C13H28     \t\t 0.7103%\t\t\t 0.0293%\n",
      "C14H30     \t\t 0.7613%\t\t\t 0.0220%\n",
      "C15H32     \t\t 0.8093%\t\t\t 0.0166%\n",
      "C16H34     \t\t 0.8543%\t\t\t 0.0125%\n",
      "C17H36     \t\t 0.8965%\t\t\t 0.0094%\n",
      "C18H38     \t\t 0.9359%\t\t\t 0.0071%\n",
      "C19H40     \t\t 0.9726%\t\t\t 0.0053%\n",
      "C20H42     \t\t 1.0066%\t\t\t 0.0040%\n",
      "C21H44     \t\t 1.7337%\t\t\t 0.0050%\n",
      "C22H46     \t\t 1.7823%\t\t\t 0.0038%\n",
      "C23H48     \t\t 1.8271%\t\t\t 0.0028%\n",
      "C24H50     \t\t 1.8682%\t\t\t 0.0021%\n",
      "C25H52     \t\t 1.9058%\t\t\t 0.0016%\n",
      "C26H54     \t\t 1.9400%\t\t\t 0.0012%\n",
      "C27H56     \t\t 1.9712%\t\t\t 0.0009%\n",
      "C28H58     \t\t 1.9993%\t\t\t 0.0007%\n",
      "C29H60     \t\t 2.0246%\t\t\t 0.0005%\n",
      "C30H62     \t\t 2.0472%\t\t\t 0.0004%\n",
      "C31H64     \t\t 2.0672%\t\t\t 0.0003%\n",
      "C32H66     \t\t 2.0849%\t\t\t 0.0002%\n",
      "C33H68     \t\t 2.1003%\t\t\t 0.0002%\n",
      "C34H70     \t\t 2.1136%\t\t\t 0.0001%\n",
      "C35H72     \t\t 2.1248%\t\t\t 0.0001%\n",
      "C36H74     \t\t 2.1341%\t\t\t 0.0001%\n",
      "C37H76     \t\t 2.1416%\t\t\t 0.0001%\n",
      "C38H78     \t\t 2.1475%\t\t\t 0.0000%\n",
      "C39H80     \t\t 2.1517%\t\t\t 0.0000%\n",
      "C40H82     \t\t 2.1545%\t\t\t 0.0000%\n",
      "C41H84     \t\t 2.1558%\t\t\t 0.0000%\n",
      "C42H86     \t\t 2.1558%\t\t\t 0.0000%\n",
      "C43H88     \t\t 2.1546%\t\t\t 0.0000%\n",
      "C44H90     \t\t 2.1521%\t\t\t 0.0000%\n",
      "C45H92     \t\t 2.1486%\t\t\t 0.0000%\n",
      "C46H94     \t\t 2.1441%\t\t\t 0.0000%\n",
      "C47H96     \t\t 2.1385%\t\t\t 0.0000%\n",
      "C48H98     \t\t 2.1321%\t\t\t 0.0000%\n",
      "C49H100    \t\t 2.1248%\t\t\t 0.0000%\n",
      "C50H102    \t\t 2.1168%\t\t\t 0.0000%\n",
      "C51H104    \t\t 2.1079%\t\t\t 0.0000%\n",
      "C52H106    \t\t 2.0984%\t\t\t 0.0000%\n",
      "C53H108    \t\t 2.0883%\t\t\t 0.0000%\n",
      "C54H110    \t\t 2.0775%\t\t\t 0.0000%\n",
      "C55H112    \t\t 2.0662%\t\t\t 0.0000%\n",
      "C56H114    \t\t 2.0543%\t\t\t 0.0000%\n"
     ]
    }
   ],
   "source": [
    "print('Component\\t\\tLiquid: {:.4f}\\t\\t\\tVapor: {:.4f}'.format(model.L['out'].value,model.V['out'].value))\n",
    "print('-'*108)\n",
    "for i in model.x:\n",
    "    print('{:10s}'.format(i),'\\t\\t{:8.4%}\\t\\t\\t{:8.4%}'.format(model.x[i].value,model.y[i].value))"
   ]
  },
  {
   "cell_type": "code",
   "execution_count": null,
   "metadata": {},
   "outputs": [],
   "source": [
    "# epi = 1e-8\n",
    "\n",
    "model.epi = 1e-8\n",
    "\n",
    "results = opt.solve(model,tee=True)\n",
    "update_dual(pe,model)\n",
    "\n",
    "model.T.value\n",
    "\n",
    "model.s_L.value\n",
    "\n",
    "model.L['out'].value\n",
    "\n",
    "print('Component\\t\\tLiquid: {:.4f}\\t\\t\\tVapor: {:.4f}'.format(model.L['out'].value,model.V['out'].value))\n",
    "print('-'*108)\n",
    "for i in model.x:\n",
    "    print('{:10s}'.format(i),'\\t\\t{:8.4%}\\t\\t\\t{:8.4%}'.format(model.x[i].value,model.y[i].value))"
   ]
  },
  {
   "cell_type": "markdown",
   "metadata": {
    "slideshow": {
     "slide_type": "slide"
    }
   },
   "source": [
    "# Iterative Solve for Data Analysis"
   ]
  },
  {
   "cell_type": "code",
   "execution_count": null,
   "metadata": {},
   "outputs": [],
   "source": [
    "update_dual(pe,model)"
   ]
  },
  {
   "cell_type": "code",
   "execution_count": null,
   "metadata": {},
   "outputs": [],
   "source": [
    "opt.options['warm_start_init_point'] = 'yes'\n",
    "opt.options['warm_start_bound_push'] = 1e-20\n",
    "opt.options['warm_start_mult_bound_push'] = 1e-20\n",
    "opt.options['mu_init'] = 1e-6"
   ]
  },
  {
   "cell_type": "code",
   "execution_count": null,
   "metadata": {
    "scrolled": false,
    "slideshow": {
     "slide_type": "fragment"
    }
   },
   "outputs": [],
   "source": [
    "rf_data = {}\n",
    "rf_data['r'] = {}; rf_data['T'] = []; rf_data['Q'] = []; rf_data['V'] = []; rf_data['L'] = []; \n",
    "rf_data['y_CO'] = []; rf_data['y_H2'] = []; rf_data['y_CO2'] = []; rf_data['y_H2O'] = []; rf_data['r_WGS'] = []; rf_data['r_FT'] = []\n",
    "rf_data['f_V_CO'] = []; rf_data['f_V_H2'] = []; rf_data['s_L'] = []; rf_data['s_V'] = []; rf_data['beta'] = [];\n",
    "\n",
    "for i in model.r_total_comp:\n",
    "    rf_data['r'][i] = []\n",
    "    \n",
    "Trange = np.arange(300+273.15,199+273.15,-2)\n",
    "\n",
    "for Tub in Trange:\n",
    "    model.T.setub(Tub)\n",
    "    results = opt.solve(model,tee=False)\n",
    "    update_dual(pe,model)\n",
    "    # print('-'*72)\n",
    "    print('Solved, Solution T = {0:.2f} K|\\tV = {1:.5f}|\\tL = {2:.5f}|\\ts_L = {3:.2f}|\\tbeta={4:.2f}'.format(model.T.value,model.V['out'].value,model.L['out'].value,model.s_L.value,model.beta.value))\n",
    "    # print('-'*72)\n",
    "    rf_data['T'].append(model.T.value)\n",
    "    rf_data['Q'].append(model.Q_main.value)\n",
    "    rf_data['V'].append(model.V['out'].value)\n",
    "    rf_data['L'].append(model.L['out'].value)    \n",
    "\n",
    "    for i in model.r_total_comp:\n",
    "        rf_data['r'][i].append(model.r_total_comp[i].value)\n",
    "    \n",
    "    \n",
    "    rf_data['y_H2O'].append(model.y['H2O'].value)\n",
    "    rf_data['y_CO'].append(model.y['CO'].value)\n",
    "    rf_data['y_H2'].append(model.y['H2'].value)\n",
    "    rf_data['y_CO2'].append(model.y['CO2'].value)\n",
    "    rf_data['r_WGS'].append(model.kinetics_block.r_WGS.value)\n",
    "    rf_data['r_FT'].append(model.kinetics_block.r_FT_total.value)\n",
    "    \n",
    "    rf_data['f_V_CO'].append(model.f_V['CO'].value)\n",
    "    rf_data['f_V_H2'].append(model.f_V['H2'].value)\n",
    "    rf_data['s_L'].append(model.s_L.value)\n",
    "    rf_data['s_V'].append(model.s_V.value)\n",
    "    rf_data['beta'].append(model.beta.value)"
   ]
  },
  {
   "cell_type": "markdown",
   "metadata": {},
   "source": [
    "# Optimize across disappearing phases"
   ]
  },
  {
   "cell_type": "code",
   "execution_count": null,
   "metadata": {},
   "outputs": [],
   "source": [
    "model.T.fixed = True\n",
    "model.cat.fixed = False\n",
    "model.cat.setlb(1)"
   ]
  },
  {
   "cell_type": "code",
   "execution_count": null,
   "metadata": {},
   "outputs": [],
   "source": [
    "check_DOF(pe,model)"
   ]
  },
  {
   "cell_type": "code",
   "execution_count": null,
   "metadata": {},
   "outputs": [],
   "source": [
    "model.del_component(model.obj)\n",
    "model.obj = pe.Objective(expr = model.cat, sense=pe.minimize)"
   ]
  },
  {
   "cell_type": "code",
   "execution_count": null,
   "metadata": {
    "scrolled": false
   },
   "outputs": [],
   "source": [
    "results = opt.solve(model,tee=True)\n",
    "update_dual(pe,model)"
   ]
  },
  {
   "cell_type": "code",
   "execution_count": null,
   "metadata": {},
   "outputs": [],
   "source": []
  }
 ],
 "metadata": {
  "kernelspec": {
   "display_name": "Python 3",
   "language": "python",
   "name": "python3"
  },
  "language_info": {
   "codemirror_mode": {
    "name": "ipython",
    "version": 3
   },
   "file_extension": ".py",
   "mimetype": "text/x-python",
   "name": "python",
   "nbconvert_exporter": "python",
   "pygments_lexer": "ipython3",
   "version": "3.6.3"
  }
 },
 "nbformat": 4,
 "nbformat_minor": 2
}
