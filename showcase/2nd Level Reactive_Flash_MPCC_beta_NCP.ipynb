{
 "cells": [
  {
   "cell_type": "markdown",
   "metadata": {
    "slideshow": {
     "slide_type": "slide"
    }
   },
   "source": [
    "# 2nd Level Model Structure: Reactive Stage"
   ]
  },
  {
   "cell_type": "code",
   "execution_count": 1,
   "metadata": {},
   "outputs": [],
   "source": [
    "import sys\n",
    "import os\n",
    "import pickle\n",
    "sys.path.append(os.path.abspath('..'))\n",
    "import numpy as np\n",
    "from matplotlib import pyplot as plt"
   ]
  },
  {
   "cell_type": "code",
   "execution_count": 2,
   "metadata": {
    "slideshow": {
     "slide_type": "fragment"
    }
   },
   "outputs": [],
   "source": [
    "from pyomo import environ as pe\n",
    "from global_sets.component import m\n",
    "from utility.display_utility import trans_product_mole, trans_product_mass\n",
    "from utility.model_utility import add_dual, update_dual, check_DOF\n",
    "\n",
    "# stage construction rules\n",
    "from physics.kinetics_bounded import kinetic_block_rule\n",
    "from physics.energy_bounded import energy_block_rule\n",
    "from physics.VLE_bounded import VLE_block_rule\n",
    "\n",
    "model = pe.ConcreteModel()"
   ]
  },
  {
   "cell_type": "markdown",
   "metadata": {
    "slideshow": {
     "slide_type": "subslide"
    }
   },
   "source": [
    "# Global Sets (Inlet / Outlet)"
   ]
  },
  {
   "cell_type": "code",
   "execution_count": 3,
   "metadata": {
    "slideshow": {
     "slide_type": "fragment"
    }
   },
   "outputs": [],
   "source": [
    "model.inlet = pe.Set(initialize=['in'])\n",
    "model.outlet = pe.Set(initialize=['out','P'])\n",
    "model.stream = model.inlet | model.outlet"
   ]
  },
  {
   "cell_type": "markdown",
   "metadata": {
    "slideshow": {
     "slide_type": "subslide"
    }
   },
   "source": [
    "# Global Variables"
   ]
  },
  {
   "cell_type": "code",
   "execution_count": 4,
   "metadata": {
    "slideshow": {
     "slide_type": "fragment"
    }
   },
   "outputs": [],
   "source": [
    "# Tray Inlet/Outlet Variable\n",
    "model.x_ = pe.Var(model.inlet,m.COMP_TOTAL,within=pe.NonNegativeReals)\n",
    "model.y_ = pe.Var(model.inlet,m.COMP_TOTAL,within=pe.NonNegativeReals)\n",
    "model.x = pe.Var(m.COMP_TOTAL,within=pe.NonNegativeReals)\n",
    "model.y = pe.Var(m.COMP_TOTAL,within=pe.NonNegativeReals)\n",
    "model.z = pe.Var(m.COMP_FEED,within=pe.NonNegativeReals)\n",
    "\n",
    "model.L = pe.Var(model.stream,within=pe.NonNegativeReals)\n",
    "model.V = pe.Var(model.stream,within=pe.NonNegativeReals)\n",
    "model.F = pe.Var(within=pe.NonNegativeReals)\n",
    "\n",
    "model.H_L_ = pe.Var(model.inlet,within=pe.Reals)\n",
    "model.H_V_ = pe.Var(model.inlet,within=pe.Reals)\n",
    "model.H_L = pe.Var(within=pe.Reals)\n",
    "model.H_V = pe.Var(within=pe.Reals)\n",
    "model.H_F = pe.Var(within=pe.Reals)\n",
    "\n",
    "# State Variable\n",
    "model.T = pe.Var(within=pe.NonNegativeReals,bounds=(200+273.15,300+273.15)) # K\n",
    "model.T_F = pe.Var(within=pe.NonNegativeReals) # K\n",
    "model.P = pe.Var(within=pe.NonNegativeReals,bounds=(10,30)) # Bar\n",
    "\n",
    "model.f_V = pe.Var(m.COMP_TOTAL,within=pe.NonNegativeReals,initialize=1e-20)\n",
    "model.f_L = pe.Var(m.COMP_TOTAL,within=pe.NonNegativeReals,initialize=1e-20)\n",
    "\n",
    "model.cat = pe.Var(within=pe.NonNegativeReals,initialize=3000) # kg\n",
    "model.Q_main = pe.Var(within=pe.Reals) # MW\n",
    "model.r_total_comp = pe.Var(m.COMP_TOTAL,within=pe.Reals) # kmol/s\n",
    "\n",
    "# MPCC construction\n",
    "model.beta = pe.Var(within=pe.NonNegativeReals,initialize=1)\n",
    "model.s_L= pe.Var(within=pe.NonNegativeReals,initialize=0,bounds=(0,1))\n",
    "model.s_V= pe.Var(within=pe.NonNegativeReals,initialize=0)"
   ]
  },
  {
   "cell_type": "markdown",
   "metadata": {},
   "source": [
    "# MPCC Parameters"
   ]
  },
  {
   "cell_type": "code",
   "execution_count": 5,
   "metadata": {},
   "outputs": [],
   "source": [
    "model.epi = pe.Param(initialize=1e-4,mutable=True)\n",
    "model.rho = pe.Param(initialize=10,mutable=True)"
   ]
  },
  {
   "cell_type": "markdown",
   "metadata": {
    "slideshow": {
     "slide_type": "slide"
    }
   },
   "source": [
    "# Construct Individual Blocks"
   ]
  },
  {
   "cell_type": "code",
   "execution_count": 6,
   "metadata": {
    "slideshow": {
     "slide_type": "subslide"
    }
   },
   "outputs": [
    {
     "name": "stdout",
     "output_type": "stream",
     "text": [
      "> Importing Kinetics Blocks......\n",
      "> Adding the following local variable:\n",
      "--------------------------------------------------\n",
      "| kinetics_block.k_FT\n",
      "| kinetics_block.r_FT_total\n",
      "| kinetics_block.g0_FT\n",
      "| kinetics_block.alpha\n",
      "| kinetics_block.r_FT_cnum\n",
      "| kinetics_block.r_FT_comp\n",
      "| kinetics_block.k_WGS\n",
      "| kinetics_block.Ke_WGS\n",
      "| kinetics_block.r_WGS\n",
      "| kinetics_block.r_WGS_comp\n",
      "--------------------------------------------------\n",
      "\n"
     ]
    }
   ],
   "source": [
    "model.kinetics_block = pe.Block(rule=kinetic_block_rule)"
   ]
  },
  {
   "cell_type": "code",
   "execution_count": 7,
   "metadata": {
    "slideshow": {
     "slide_type": "subslide"
    }
   },
   "outputs": [
    {
     "name": "stdout",
     "output_type": "stream",
     "text": [
      "> Importing Energy Blocks......\n",
      "> Adding the following local variable:\n",
      "--------------------------------------------------\n",
      "| energy_block.dH_F\n",
      "| energy_block.dH_V\n",
      "| energy_block.dH_L\n",
      "| energy_block.dH_vap\n",
      "--------------------------------------------------\n",
      "\n"
     ]
    }
   ],
   "source": [
    "model.energy_block = pe.Block(rule=energy_block_rule)"
   ]
  },
  {
   "cell_type": "code",
   "execution_count": 8,
   "metadata": {
    "scrolled": false,
    "slideshow": {
     "slide_type": "subslide"
    }
   },
   "outputs": [
    {
     "name": "stdout",
     "output_type": "stream",
     "text": [
      "> Importing VLE Blocks......\n",
      "> Adding the following local variable:\n",
      "--------------------------------------------------\n",
      "| VLE_block.n_ave\n",
      "| VLE_block.n_ave_cal\n",
      "| VLE_block.Hen\n",
      "| VLE_block.Hen0\n",
      "| VLE_block.gamma\n",
      "| VLE_block.P_sat\n",
      "| VLE_block.P_sat_Y\n",
      "| VLE_block.P_sat_dY_inf\n",
      "| VLE_block.P_sat_dY0\n",
      "| VLE_block.Hen_ref\n",
      "| VLE_block.Hen0_ref\n",
      "| VLE_block.gamma_ref\n",
      "| VLE_block.V_L\n",
      "| VLE_block.V_L_dY_inf\n",
      "| VLE_block.V_L_dY0\n",
      "| VLE_block.poynting\n",
      "--------------------------------------------------\n",
      "\n"
     ]
    }
   ],
   "source": [
    "model.VLE_block = pe.Block(rule=VLE_block_rule)"
   ]
  },
  {
   "cell_type": "markdown",
   "metadata": {
    "slideshow": {
     "slide_type": "slide"
    }
   },
   "source": [
    "# Standard MESH Equations"
   ]
  },
  {
   "cell_type": "markdown",
   "metadata": {
    "slideshow": {
     "slide_type": "subslide"
    }
   },
   "source": [
    "## Mass Balance"
   ]
  },
  {
   "cell_type": "markdown",
   "metadata": {
    "slideshow": {
     "slide_type": "fragment"
    }
   },
   "source": [
    "\\begin{equation}\n",
    "Fz_{i}+\\sum_{s\\in{inlet}}L_{s}x'_{i,s}+\\sum_{s\\in{inlet}}V_{s}y'_{i,s}-\\sum_{s\\in{outlet}}L_{s}x_{i,s}+\\sum_{s\\in{ouelet}}V_{s}y_{i,s}+R_{i} = 0 \\\\\n",
    "i = 1,...NC\n",
    "\\end{equation}"
   ]
  },
  {
   "cell_type": "code",
   "execution_count": 9,
   "metadata": {
    "slideshow": {
     "slide_type": "fragment"
    }
   },
   "outputs": [],
   "source": [
    "def mass_balance_main_rule(model,i):\n",
    "    if i in m.COMP_FEED:\n",
    "        return model.F*model.z[i] + sum(model.L[s]*model.x_[s,i] + model.V[s]*model.y_[s,i] for s in model.inlet)\\\n",
    "        + model.r_total_comp[i] - sum(model.L[s]*model.x[i] + model.V[s]*model.y[i] for s in model.outlet) == 0\n",
    "    else:\n",
    "        return sum(model.L[s]*model.x_[s,i] + model.V[s]*model.y_[s,i] for s in model.inlet)\\\n",
    "        + model.r_total_comp[i] - sum(model.L[s]*model.x[i] + model.V[s]*model.y[i] for s in model.outlet) == 0\n",
    "model.mass_balance_main_con = pe.Constraint(m.COMP_TOTAL,rule=mass_balance_main_rule)"
   ]
  },
  {
   "cell_type": "markdown",
   "metadata": {
    "slideshow": {
     "slide_type": "subslide"
    }
   },
   "source": [
    "## Equilibrium"
   ]
  },
  {
   "cell_type": "markdown",
   "metadata": {
    "slideshow": {
     "slide_type": "fragment"
    }
   },
   "source": [
    "\\begin{align}\n",
    "&f_{i,V} = f_{i,L} \\\\\n",
    "&i = 1,...NC\n",
    "\\end{align}"
   ]
  },
  {
   "cell_type": "code",
   "execution_count": 10,
   "metadata": {
    "slideshow": {
     "slide_type": "fragment"
    }
   },
   "outputs": [],
   "source": [
    "def VL_equil_rule(model,i):\n",
    "    return model.f_V[i] == model.beta*model.f_L[i]\n",
    "model.VL_equil_con = pe.Constraint(m.COMP_TOTAL,rule=VL_equil_rule)"
   ]
  },
  {
   "cell_type": "markdown",
   "metadata": {},
   "source": [
    "## MPCC: Beta"
   ]
  },
  {
   "cell_type": "code",
   "execution_count": 11,
   "metadata": {},
   "outputs": [],
   "source": [
    "def beta_rule(model):\n",
    "    return model.beta == 1-model.s_L + model.s_V\n",
    "model.beta_con = pe.Constraint(rule=beta_rule)\n",
    "\n",
    "# def s_L_complementarity_rule(model):\n",
    "#     return (sum(model.L[s] for s in model.outlet) + model.s_L) == ((sum(model.L[s] for s in model.outlet) - model.s_L)**2+model.epi)**0.5\n",
    "#     # return sum(model.L[s] for s in model.outlet) * model.s_L <= model.epi\n",
    "# model.s_L_complementarity_con = pe.Constraint(rule=s_L_complementarity_rule)\n",
    "\n",
    "# def s_V_complementarity_rule(model):\n",
    "#     return (sum(model.V[s] for s in model.outlet) + model.s_V) == ((sum(model.V[s] for s in model.outlet) - model.s_V)**2+model.epi)**0.5\n",
    "#     # return sum(model.V[s] for s in model.outlet) * model.s_V <= model.epi\n",
    "# model.s_V_complementarity_con = pe.Constraint(rule=s_V_complementarity_rule)"
   ]
  },
  {
   "cell_type": "markdown",
   "metadata": {
    "slideshow": {
     "slide_type": "subslide"
    }
   },
   "source": [
    "## Summation"
   ]
  },
  {
   "cell_type": "markdown",
   "metadata": {
    "slideshow": {
     "slide_type": "fragment"
    }
   },
   "source": [
    "\\begin{equation}\n",
    "\\sum_ix_{i} = \\sum_iy_{i} \\\\\n",
    "F + L_{in} + V_{in} + R = L_{out} + V_{out}\n",
    "\\end{equation}"
   ]
  },
  {
   "cell_type": "code",
   "execution_count": 12,
   "metadata": {
    "slideshow": {
     "slide_type": "fragment"
    }
   },
   "outputs": [],
   "source": [
    "def summation_x_y_rule(model):\n",
    "    return sum(model.x[i] for i in m.COMP_TOTAL) == sum(model.y[i] for i in m.COMP_TOTAL)\n",
    "model.summation_x_y_con = pe.Constraint(rule=summation_x_y_rule)\n",
    "\n",
    "def summation_total_mass_rule(model):\n",
    "    return model.F + sum(model.L[s] + model.V[s] for s in model.inlet) + sum(model.r_total_comp[i] for i in m.COMP_TOTAL)\\\n",
    "            - sum(model.L[s] + model.V[s] for s in model.outlet) == 0\n",
    "model.summation_total_mass_con = pe.Constraint(rule=summation_total_mass_rule)"
   ]
  },
  {
   "cell_type": "markdown",
   "metadata": {
    "slideshow": {
     "slide_type": "subslide"
    }
   },
   "source": [
    "## Energy Balance"
   ]
  },
  {
   "cell_type": "markdown",
   "metadata": {
    "slideshow": {
     "slide_type": "fragment"
    }
   },
   "source": [
    "\\begin{equation}\n",
    "F H_f+\\sum_{s\\in{inlet}}L_{s}H_{l,s}+\\sum_{s\\in{inlet}}V_{s}H_{v,s}-\\sum_{s\\in{outlet}}L_{s}H_{l,s}-\\sum_{s\\in{outlet}}V_{s}H_{v,s}+Q = 0\n",
    "\\end{equation}"
   ]
  },
  {
   "cell_type": "code",
   "execution_count": 13,
   "metadata": {
    "slideshow": {
     "slide_type": "fragment"
    }
   },
   "outputs": [],
   "source": [
    "def heat_balance_main_rule(model):\n",
    "    return model.F*model.H_F + sum(model.L[s]*model.H_L_[s] + model.V[s]*model.H_V_[s] for s in model.inlet) \\\n",
    "            + model.Q_main - sum(model.L[s]*model.H_L + model.V[s]*model.H_V for s in model.outlet) == 0\n",
    "model.heat_balance_main_con = pe.Constraint(rule=heat_balance_main_rule)"
   ]
  },
  {
   "cell_type": "markdown",
   "metadata": {
    "slideshow": {
     "slide_type": "slide"
    }
   },
   "source": [
    "# Testing"
   ]
  },
  {
   "cell_type": "code",
   "execution_count": 14,
   "metadata": {
    "slideshow": {
     "slide_type": "fragment"
    }
   },
   "outputs": [
    {
     "name": "stdout",
     "output_type": "stream",
     "text": [
      "Created the follow pyomo suffixes:\n",
      "ipopt_zL_out, ipopt_zU_out, ipopt_zL_in, ipopt_zU_in, dual\n"
     ]
    }
   ],
   "source": [
    "add_dual(pe,model)"
   ]
  },
  {
   "cell_type": "markdown",
   "metadata": {
    "slideshow": {
     "slide_type": "fragment"
    }
   },
   "source": [
    "## Fixing In/Product Redundent Flow"
   ]
  },
  {
   "cell_type": "code",
   "execution_count": 15,
   "metadata": {
    "slideshow": {
     "slide_type": "fragment"
    }
   },
   "outputs": [],
   "source": [
    "model.x_.fix(0)\n",
    "model.y_.fix(0)\n",
    "model.L['in'].fix(0)\n",
    "model.L['P'].fix(0)\n",
    "model.V['in'].fix(0)\n",
    "model.V['P'].fix(0)\n",
    "model.H_L_.fix(0)\n",
    "model.H_V_.fix(0)"
   ]
  },
  {
   "cell_type": "markdown",
   "metadata": {
    "slideshow": {
     "slide_type": "subslide"
    }
   },
   "source": [
    "## Fixing Model Parameters"
   ]
  },
  {
   "cell_type": "code",
   "execution_count": 16,
   "metadata": {
    "slideshow": {
     "slide_type": "fragment"
    }
   },
   "outputs": [],
   "source": [
    "model.cat.fix(3000)\n",
    "model.P.fix(20)\n",
    "model.T_F.fix(200+273.15)\n",
    "model.F.fix(1)\n",
    "model.z['CO'].fix(1/(1+0.8)-0/2)\n",
    "model.z['H2'].fix(0.8/(1+0.8)-0/2)\n",
    "model.z['C30H62'].fix(0)\n",
    "model.VLE_block.n_ave.fix(20)"
   ]
  },
  {
   "cell_type": "code",
   "execution_count": 17,
   "metadata": {
    "scrolled": true,
    "slideshow": {
     "slide_type": "fragment"
    }
   },
   "outputs": [
    {
     "name": "stdout",
     "output_type": "stream",
     "text": [
      "Active Equality Constraints:\t 1182\n",
      "Active Inequality Constraints:\t 0\n",
      "Active Variables:\t\t 1357\n",
      "Fixed Variables:\t\t 172\n",
      "DOF:\t\t\t\t 3\n"
     ]
    }
   ],
   "source": [
    "check_DOF(pe,model)"
   ]
  },
  {
   "cell_type": "markdown",
   "metadata": {
    "slideshow": {
     "slide_type": "subslide"
    }
   },
   "source": [
    "## Fix T or to fix Q? we have found that Maximize against an upper bound is most reliable"
   ]
  },
  {
   "cell_type": "code",
   "execution_count": 18,
   "metadata": {
    "slideshow": {
     "slide_type": "fragment"
    }
   },
   "outputs": [],
   "source": [
    "model.T.setub(300+273.15)"
   ]
  },
  {
   "cell_type": "code",
   "execution_count": 19,
   "metadata": {
    "slideshow": {
     "slide_type": "fragment"
    }
   },
   "outputs": [],
   "source": [
    "# model.obj = pe.Objective(expr = model.L['out'],sense=pe.maximize)\n",
    "# model.obj = pe.Objective(expr = model.cat,sense=pe.minimize)\n",
    "# model.obj = pe.Objective(expr = model.T ,sense=pe.maximize)\n",
    "model.obj = pe.Objective(expr = model.T - model.rho*\\\n",
    "            (sum(model.L[s] for s in model.outlet)*model.s_L + sum(model.V[s] for s in model.outlet)*model.s_V) ,sense=pe.maximize)"
   ]
  },
  {
   "cell_type": "code",
   "execution_count": 20,
   "metadata": {
    "scrolled": false,
    "slideshow": {
     "slide_type": "fragment"
    }
   },
   "outputs": [
    {
     "name": "stdout",
     "output_type": "stream",
     "text": [
      "Ipopt 3.12.8: print_user_options=yes\n",
      "max_iter=7000\n",
      "\n",
      "\n",
      "List of user-set options:\n",
      "\n",
      "                                    Name   Value                used\n",
      "                                max_iter = 7000                  yes\n",
      "                      print_user_options = yes                   yes\n",
      "\n",
      "******************************************************************************\n",
      "This program contains Ipopt, a library for large-scale nonlinear optimization.\n",
      " Ipopt is released as open source code under the Eclipse Public License (EPL).\n",
      "         For more information visit http://projects.coin-or.org/Ipopt\n",
      "******************************************************************************\n",
      "\n",
      "This is Ipopt version 3.12.8, running with linear solver mumps.\n",
      "NOTE: Other linear solvers might be more efficient (see Ipopt documentation).\n",
      "\n",
      "Number of nonzeros in equality constraint Jacobian...:     4012\n",
      "Number of nonzeros in inequality constraint Jacobian.:        0\n",
      "Number of nonzeros in Lagrangian Hessian.............:     4395\n",
      "\n",
      "Total number of variables............................:     1185\n",
      "                     variables with only lower bounds:      381\n",
      "                variables with lower and upper bounds:      634\n",
      "                     variables with only upper bounds:        0\n",
      "Total number of equality constraints.................:     1182\n",
      "Total number of inequality constraints...............:        0\n",
      "        inequality constraints with only lower bounds:        0\n",
      "   inequality constraints with lower and upper bounds:        0\n",
      "        inequality constraints with only upper bounds:        0\n",
      "\n",
      "iter    objective    inf_pr   inf_du lg(mu)  ||d||  lg(rg) alpha_du alpha_pr  ls\n",
      "   0 -4.7414800e+02 7.97e+03 1.00e+00  -1.0 0.00e+00    -  0.00e+00 0.00e+00   0\n",
      "   1 -4.7415026e+02 7.97e+03 8.56e+00  -1.0 2.74e+03    -  2.29e-05 4.02e-05h  1\n",
      "   2 -4.7415485e+02 7.97e+03 2.91e+01  -1.0 1.82e+03    -  5.81e-05 5.39e-05h  1\n",
      "   3 -4.7415659e+02 7.97e+03 3.88e+01  -1.0 1.51e+03    -  1.15e-04 3.23e-05h  1\n",
      "   4 -4.7421134e+02 7.96e+03 4.57e+02  -1.0 1.70e+03    -  2.19e-04 1.04e-03h  1\n",
      "   5 -4.7423206e+02 7.96e+03 1.38e+03  -1.0 4.68e+03  -2.0 1.35e-04 3.96e-04h  1\n",
      "   6r-4.7423206e+02 7.96e+03 9.99e+02   3.8 0.00e+00    -  0.00e+00 4.92e-07R  4\n",
      "   7r-4.7423145e+02 7.95e+03 9.99e+02   3.8 5.63e+05    -  7.72e-06 3.64e-07f  1\n",
      "   8r-4.7539458e+02 7.74e+03 9.99e+02   2.4 5.82e+05    -  2.85e-04 3.05e-04f  1\n",
      "   9r-4.8157618e+02 6.48e+03 9.98e+02   2.4 1.62e+06    -  4.34e-04 6.31e-04f  1\n",
      "iter    objective    inf_pr   inf_du lg(mu)  ||d||  lg(rg) alpha_du alpha_pr  ls\n",
      "  10 -4.8185580e+02 6.44e+03 4.56e+02  -1.0 9.07e+02    -  2.10e-04 5.25e-03f  1\n",
      "  11 -4.8199965e+02 6.43e+03 4.46e+02  -1.0 7.06e+02    -  6.04e-03 2.74e-03h  1\n",
      "  12 -4.8200117e+02 6.43e+03 1.17e+03  -1.0 8.01e+02    -  1.04e-02 2.92e-05h  1\n",
      "  13 -4.8200267e+02 6.43e+03 1.82e+04  -1.0 1.30e+04    -  3.02e-04 1.94e-05h  1\n",
      "  14 -4.8190621e+02 6.43e+03 1.31e+03  -1.0 6.26e+05    -  2.11e-06 3.71e-05h  1\n",
      "  15r-4.8190621e+02 6.43e+03 9.99e+02   3.7 0.00e+00    -  0.00e+00 4.46e-07R  7\n",
      "  16r-4.8191297e+02 6.42e+03 4.17e+03   3.7 5.82e+05    -  3.96e-04 1.69e-06f  1\n",
      "  17r-5.0785144e+02 1.50e+03 4.01e+03   2.3 6.36e+05    -  2.19e-03 6.03e-03f  1\n",
      "  18 -5.0784662e+02 1.50e+03 7.76e+02  -1.0 7.94e+03    -  1.22e-04 2.50e-04h  1\n",
      "  19r-5.0784662e+02 1.50e+03 9.99e+02   3.1 0.00e+00    -  0.00e+00 3.25e-07R  5\n",
      "iter    objective    inf_pr   inf_du lg(mu)  ||d||  lg(rg) alpha_du alpha_pr  ls\n",
      "  20r-5.0788063e+02 1.50e+03 2.76e+03   3.1 5.92e+05    -  2.08e-03 7.90e-06f  1\n",
      "  21r-5.1358369e+02 5.08e+02 2.90e+03   2.4 4.45e+05    -  4.35e-03 2.05e-03f  1\n",
      "  22 -5.1357859e+02 5.08e+02 3.15e+03  -1.0 8.44e+03    -  2.39e-03 3.67e-04h  1\n",
      "  23r-5.1357859e+02 5.08e+02 9.99e+02   2.7 0.00e+00    -  0.00e+00 3.62e-07R  5\n",
      "  24r-5.1361133e+02 5.08e+02 1.99e+03   2.7 1.84e+05    -  4.10e-03 2.07e-05f  1\n",
      "  25r-5.1785189e+02 5.06e+02 1.91e+03   2.0 5.55e+04    -  2.66e-03 5.36e-03f  1\n",
      "  26r-5.2002892e+02 5.01e+02 1.93e+03   2.0 4.25e+04    -  9.78e-03 8.47e-03f  1\n",
      "  27r-5.2061512e+02 4.92e+02 1.36e+03   2.0 8.19e+03    -  2.28e-03 1.61e-02f  1\n",
      "  28r-5.2050019e+02 4.86e+02 1.16e+03   2.0 5.82e+02    -  7.40e-03 1.08e-02f  1\n",
      "  29r-5.2097352e+02 4.67e+02 2.37e+03   2.0 4.59e+03    -  7.98e-03 3.21e-02f  1\n",
      "iter    objective    inf_pr   inf_du lg(mu)  ||d||  lg(rg) alpha_du alpha_pr  ls\n",
      "  30r-5.2127351e+02 4.43e+02 3.35e+03   2.0 3.00e+03    -  3.11e-02 4.42e-02f  1\n",
      "  31 -5.2111884e+02 4.39e+02 5.59e+00  -1.0 2.16e+03    -  1.08e-02 8.12e-03h  1\n",
      "  32 -5.2114415e+02 4.36e+02 7.08e+00  -1.0 1.60e+03    -  1.82e-02 6.61e-03h  1\n",
      "  33 -5.2197709e+02 3.74e+02 2.51e+03  -1.0 1.69e+03    -  2.83e-02 1.41e-01f  1\n",
      "  34 -5.2262052e+02 3.55e+02 2.32e+03  -1.0 1.54e+03    -  8.25e-02 5.14e-02h  1\n",
      "  35 -5.2338802e+02 3.21e+02 1.96e+03  -1.0 1.32e+03    -  2.59e-01 9.59e-02h  1\n",
      "  36 -5.2340731e+02 3.20e+02 1.51e+04  -1.0 1.06e+03    -  3.14e-01 2.63e-03h  1\n",
      "  37 -5.2361573e+02 3.14e+02 4.19e+05  -1.0 1.10e+03    -  2.10e-01 1.92e-02h  1\n",
      "  38 -5.2361734e+02 3.14e+02 1.05e+09  -1.0 7.17e+02    -  4.58e-01 2.00e-04h  1\n",
      "  39 -5.2361721e+02 3.14e+02 1.02e+13  -1.0 1.02e+03    -  3.66e-01 3.72e-05h  1\n",
      "iter    objective    inf_pr   inf_du lg(mu)  ||d||  lg(rg) alpha_du alpha_pr  ls\n",
      "  40r-5.2361721e+02 3.14e+02 1.00e+03   2.5 0.00e+00    -  0.00e+00 3.06e-07R  3\n",
      "  41r-5.2363345e+02 3.12e+02 8.23e+03   2.5 1.09e+04    -  2.22e-02 1.47e-04f  1\n",
      "  42r-5.2315084e+02 3.08e+01 7.49e+03   1.1 1.06e+04    -  2.01e-02 2.92e-02f  1\n",
      "  43 -5.2666406e+02 2.09e+01 3.00e+04  -1.0 7.00e+02    -  1.18e-01 3.22e-01f  1\n",
      "  44 -5.2661532e+02 1.94e+01 3.75e+04  -1.0 4.73e+02    -  2.78e-01 7.03e-02h  1\n",
      "  45 -5.2565353e+02 1.18e+01 2.50e+04  -1.0 5.77e+02    -  5.49e-01 3.91e-01h  1\n",
      "  46 -5.2521546e+02 1.13e+01 2.35e+04  -1.0 1.63e+03    -  5.52e-03 4.43e-02h  1\n",
      "  47 -5.2218686e+02 8.05e+00 1.53e+04  -1.0 1.72e+03    -  7.57e-02 2.87e-01h  1\n",
      "  48 -5.1856208e+02 1.00e+01 1.09e+04  -1.0 2.22e+03    -  2.82e-01 2.61e-01h  1\n",
      "  49 -5.0771067e+02 4.93e+01 1.29e+05  -1.0 1.78e+03    -  8.51e-03 9.51e-01h  1\n",
      "iter    objective    inf_pr   inf_du lg(mu)  ||d||  lg(rg) alpha_du alpha_pr  ls\n",
      "  50 -5.0779586e+02 3.56e+01 2.26e+05  -1.0 1.19e+02    -  4.75e-01 2.77e-01h  1\n",
      "  51 -5.0718696e+02 1.35e+01 5.34e+05  -1.0 1.50e+02    -  1.52e-01 6.27e-01h  1\n",
      "  52 -5.0709402e+02 9.68e+00 1.56e+05  -1.0 2.27e+01  -2.5 9.71e-01 2.85e-01h  1\n",
      "  53 -5.0694519e+02 1.55e-01 1.81e+04  -1.0 2.44e+01  -3.0 7.65e-01 9.84e-01h  1\n",
      "  54 -5.0763370e+02 5.52e-01 3.32e+05  -1.0 1.11e+03    -  6.43e-01 9.13e-02f  2\n",
      "  55 -5.0814368e+02 3.82e-01 2.14e+05  -1.0 3.59e+02    -  5.74e-01 2.31e-01h  1\n",
      "  56 -5.0831992e+02 3.93e-01 5.62e+05  -1.0 5.75e+02    -  1.00e+00 8.45e-02f  3\n",
      "  57 -5.0848073e+02 3.86e-01 5.95e+05  -1.0 4.66e+02    -  2.80e-01 7.77e-02h  4\n",
      "  58 -5.0852846e+02 3.77e-01 9.50e+05  -1.0 4.68e+02    -  1.00e+00 4.99e-02h  5\n",
      "  59 -5.0861223e+02 3.67e-01 9.82e+05  -1.0 4.47e+02    -  3.03e-01 6.23e-02h  5\n",
      "iter    objective    inf_pr   inf_du lg(mu)  ||d||  lg(rg) alpha_du alpha_pr  ls\n",
      "  60 -5.0865258e+02 3.58e-01 1.30e+06  -1.0 4.49e+02    -  1.00e+00 5.23e-02h  5\n",
      "  61 -5.0870639e+02 3.50e-01 1.35e+06  -1.0 4.51e+02    -  3.48e-01 5.47e-02h  5\n",
      "  62 -5.0873586e+02 3.41e-01 1.65e+06  -1.0 4.45e+02    -  1.00e+00 4.96e-02h  5\n",
      "  63 -5.0877395e+02 3.33e-01 1.70e+06  -1.0 4.41e+02    -  4.21e-01 5.16e-02h  5\n",
      "  64 -5.0879648e+02 3.25e-01 1.95e+06  -1.0 4.35e+02    -  1.00e+00 4.86e-02h  5\n",
      "  65 -5.0882344e+02 3.17e-01 2.00e+06  -1.0 4.30e+02    -  4.96e-01 4.97e-02h  5\n",
      "  66 -5.0910809e+02 2.01e+00 5.30e+05  -1.0 4.24e+02    -  1.00e+00 7.71e-01w  1\n",
      "  67 -5.1012915e+02 1.85e+00 5.19e+06  -1.0 5.14e+02    -  2.80e-01 3.25e-01w  1\n",
      "  68 -5.1408620e+02 4.89e+00 1.62e+07  -1.0 5.38e+02    -  2.56e-01 9.75e-01w  1\n",
      "  69 -5.0884177e+02 3.09e-01 2.20e+06  -1.0 6.27e+02    -  1.00e+00 4.82e-02h  4\n",
      "iter    objective    inf_pr   inf_du lg(mu)  ||d||  lg(rg) alpha_du alpha_pr  ls\n",
      "  70 -5.0886364e+02 3.02e-01 2.24e+06  -1.0 4.19e+02    -  5.88e-01 4.92e-02h  5\n",
      "  71 -5.0888201e+02 2.94e-01 2.37e+06  -1.0 4.13e+02    -  1.00e+00 4.88e-02h  5\n",
      "  72 -5.0890359e+02 2.87e-01 2.39e+06  -1.0 4.06e+02    -  7.06e-01 4.99e-02h  5\n",
      "  73 -5.0892577e+02 2.80e-01 2.45e+06  -1.0 3.99e+02    -  1.00e+00 5.05e-02h  5\n",
      "  74 -5.0895012e+02 2.73e-01 2.44e+06  -1.0 3.90e+02    -  8.55e-01 5.16e-02h  5\n",
      "  75 -5.0897731e+02 2.65e-01 2.41e+06  -1.0 3.81e+02    -  1.00e+00 5.30e-02h  5\n",
      "  76 -5.0903260e+02 2.66e-01 2.21e+06  -1.0 3.73e+02    -  1.00e+00 1.07e-01h  4\n",
      "  77 -5.0910992e+02 2.68e-01 2.14e+06  -1.0 3.91e+02    -  1.00e+00 1.05e-01h  4\n",
      "  78 -5.0917484e+02 2.69e-01 2.12e+06  -1.0 3.96e+02    -  1.00e+00 9.81e-02h  4\n",
      "  79 -5.0990530e+02 1.88e+00 3.88e+05  -1.0 3.86e+02    -  1.00e+00 8.31e-01w  1\n"
     ]
    },
    {
     "name": "stdout",
     "output_type": "stream",
     "text": [
      "iter    objective    inf_pr   inf_du lg(mu)  ||d||  lg(rg) alpha_du alpha_pr  ls\n",
      "  80 -5.1302894e+02 2.74e+00 1.02e+07  -1.0 5.21e+02    -  1.79e-01 6.68e-01w  1\n",
      "  81 -5.1819213e+02 4.23e+00 7.92e+06  -1.0 5.12e+02    -  4.15e-01 9.56e-01w  1\n",
      "  82 -5.0926668e+02 2.69e-01 2.06e+06  -1.0 5.09e+02    -  1.00e+00 1.04e-01h  3\n",
      "  83 -5.0936418e+02 2.69e-01 1.99e+06  -1.0 3.82e+02    -  1.00e+00 1.03e-01h  4\n",
      "  84 -5.0947578e+02 2.69e-01 1.96e+06  -1.0 3.80e+02    -  1.00e+00 1.04e-01h  4\n",
      "  85 -5.0959018e+02 2.67e-01 2.10e+06  -1.0 3.69e+02    -  1.00e+00 1.05e-01h  4\n",
      "  86 -5.0972566e+02 2.66e-01 2.26e+06  -1.0 3.70e+02    -  1.00e+00 1.06e-01h  4\n",
      "  87 -5.0986945e+02 2.64e-01 2.41e+06  -1.0 3.63e+02    -  1.00e+00 1.06e-01h  4\n",
      "  88 -5.1002542e+02 2.62e-01 2.57e+06  -1.0 3.62e+02    -  1.00e+00 1.06e-01h  4\n",
      "  89 -5.1019253e+02 2.59e-01 2.71e+06  -1.0 3.53e+02    -  1.00e+00 1.08e-01h  4\n",
      "iter    objective    inf_pr   inf_du lg(mu)  ||d||  lg(rg) alpha_du alpha_pr  ls\n",
      "  90 -5.1037796e+02 2.57e-01 2.86e+06  -1.0 3.58e+02    -  1.00e+00 1.07e-01h  4\n",
      "  91 -5.1056803e+02 2.54e-01 2.97e+06  -1.0 3.46e+02    -  1.00e+00 1.09e-01h  4\n",
      "  92 -5.1225288e+02 1.65e+00 4.75e+05  -1.0 3.53e+02    -  1.00e+00 8.60e-01w  1\n",
      "  93 -5.1783549e+02 4.14e+00 2.19e+07  -1.0 5.14e+02    -  4.26e-01 9.44e-01w  1\n",
      "  94 -5.2202456e+02 3.50e+00 3.63e+07  -1.0 4.77e+02    -  4.10e-01 9.12e-01h  1\n",
      "  95 -5.2229283e+02 3.33e+00 4.10e+07  -1.0 5.50e+02    -  2.31e-01 5.35e-02h  1\n",
      "  96 -5.2281843e+02 2.93e+00 3.59e+07  -1.0 4.42e+02    -  1.54e-01 1.38e-01f  1\n",
      "  97 -5.2444437e+02 1.38e+00 2.64e+07  -1.0 2.92e+02    -  2.39e-01 1.00e+00f  1\n",
      "  98 -5.2314501e+02 1.58e+00 2.37e+07  -1.0 5.44e+02    -  7.04e-01 3.92e-01f  1\n",
      "  99 -5.2431493e+02 1.06e+00 6.25e+06  -1.0 2.72e+02    -  1.00e+00 7.11e-01h  1\n",
      "iter    objective    inf_pr   inf_du lg(mu)  ||d||  lg(rg) alpha_du alpha_pr  ls\n",
      " 100 -5.2302636e+02 6.13e-01 6.91e+06  -1.0 1.94e+02    -  1.00e+00 9.74e-01f  1\n",
      " 101 -5.2328751e+02 4.16e-02 5.97e+05  -1.0 5.10e+01    -  1.00e+00 1.00e+00f  1\n",
      " 102 -5.2332764e+02 4.43e-04 3.46e+04  -1.0 5.25e+00    -  1.00e+00 1.00e+00h  1\n",
      " 103 -5.2332837e+02 2.03e-07 3.69e+01  -1.0 1.12e-01    -  1.00e+00 1.00e+00h  1\n",
      " 104 -5.2411666e+02 8.44e-02 4.11e+06  -3.8 3.10e+02    -  7.02e-01 2.32e-01f  1\n",
      " 105 -5.2734453e+02 4.49e+00 5.05e+06  -3.8 1.18e+03    -  2.76e-02 4.40e-01f  1\n",
      " 106 -5.2737020e+02 4.47e+00 3.86e+07  -3.8 8.99e+02    -  4.64e-01 4.71e-03h  1\n",
      " 107 -5.2782999e+02 4.15e+00 3.51e+07  -3.8 8.28e+02    -  2.15e-01 9.18e-02h  1\n",
      " 108 -5.2783450e+02 4.14e+00 2.18e+07  -3.8 5.91e+02    -  2.70e-03 1.26e-03h  1\n",
      " 109 -5.2913382e+02 3.76e+00 2.86e+07  -3.8 8.02e+02    -  2.81e-01 2.68e-01f  1\n",
      "iter    objective    inf_pr   inf_du lg(mu)  ||d||  lg(rg) alpha_du alpha_pr  ls\n",
      " 110 -5.3047458e+02 3.49e+00 5.94e+07  -3.8 8.01e+02    -  1.63e-01 2.79e-01f  1\n",
      " 111 -5.3047585e+02 3.49e+00 5.94e+07  -3.8 8.04e+02    -  4.41e-03 2.65e-04h  1\n",
      " 112 -5.3178488e+02 3.29e+00 4.34e+07  -3.8 8.18e+02    -  1.62e-01 2.68e-01f  1\n",
      " 113 -5.3178526e+02 3.29e+00 4.76e+07  -3.8 8.49e+02    -  3.00e-03 7.39e-05h  1\n",
      " 114 -5.3310482e+02 3.17e+00 4.32e+07  -3.8 8.32e+02    -  1.59e-01 2.68e-01f  1\n",
      " 115 -5.3310514e+02 3.17e+00 4.34e+07  -3.8 9.02e+02    -  3.47e-03 6.13e-05h  1\n",
      " 116 -5.3443626e+02 3.10e+00 3.37e+07  -3.8 8.48e+02    -  1.57e-01 2.67e-01f  1\n",
      " 117 -5.3443657e+02 3.10e+00 3.71e+07  -3.8 9.39e+02    -  4.77e-03 5.71e-05h  1\n",
      " 118 -5.3578323e+02 3.07e+00 3.83e+07  -3.8 8.66e+02    -  1.57e-01 2.66e-01f  1\n",
      " 119 -5.3578354e+02 3.07e+00 4.67e+07  -3.8 9.72e+02    -  7.02e-03 5.45e-05h  1\n",
      "iter    objective    inf_pr   inf_du lg(mu)  ||d||  lg(rg) alpha_du alpha_pr  ls\n",
      " 120 -5.3715115e+02 3.08e+00 4.55e+07  -3.8 8.84e+02    -  1.57e-01 2.66e-01f  1\n",
      " 121 -5.3715146e+02 3.08e+00 5.04e+07  -3.8 1.00e+03    -  9.97e-03 5.32e-05h  1\n",
      " 122 -5.3799789e+02 2.90e+00 4.27e+07  -3.8 9.03e+02    -  1.58e-01 1.62e-01f  1\n",
      " 123 -5.3799967e+02 2.90e+00 6.03e+07  -3.8 9.69e+02    -  1.60e-01 3.21e-04h  1\n",
      " 124 -5.3799981e+02 2.90e+00 6.03e+07  -3.8 2.66e+02    -  1.25e-04 8.95e-05h  1\n",
      " 125 -5.3951099e+02 1.01e+00 1.81e+08  -3.8 2.65e+02    -  6.21e-05 1.00e+00f  1\n",
      " 126 -5.4056250e+02 1.24e+00 1.34e+08  -3.8 7.03e+02    -  7.27e-01 2.62e-01f  1\n",
      " 127 -5.4195788e+02 1.80e+00 9.98e+07  -3.8 9.66e+02    -  1.00e+00 2.54e-01f  1\n",
      " 128 -5.4195850e+02 1.80e+00 9.98e+07  -3.8 1.27e+03    -  1.57e-01 8.55e-05h  1\n",
      " 129 -5.4417602e+02 2.47e+00 1.15e+11  -3.8 4.60e+02    -  7.54e-05 8.58e-01f  1\n",
      "iter    objective    inf_pr   inf_du lg(mu)  ||d||  lg(rg) alpha_du alpha_pr  ls\n",
      " 130 -5.4446985e+02 2.26e+00 1.06e+11  -3.8 5.32e+02    -  8.27e-01 9.93e-02h  1\n",
      " 131 -5.4454278e+02 2.22e+00 1.06e+11  -3.8 7.25e+02    -  1.90e-04 1.81e-02h  1\n",
      " 132 -5.4548996e+02 1.89e+00 4.59e+10  -3.8 5.14e+02    -  1.57e-01 3.32e-01f  1\n",
      " 133 -5.4574652e+02 1.77e+00 4.42e+10  -3.8 5.77e+02    -  2.99e-03 8.04e-02f  1\n",
      " 134 -5.4574579e+02 1.77e+00 4.41e+10  -3.8 9.05e+01  -2.5 1.30e-02 1.43e-03h  1\n",
      " 135 -5.4760431e+02 2.21e+00 8.91e+11  -3.8 5.27e+02    -  2.61e-04 6.39e-01f  1\n",
      " 136 -5.4760817e+02 2.21e+00 8.90e+11  -3.8 5.69e+02    -  1.00e+00 1.24e-03h  1\n",
      " 137 -5.5059244e+02 4.11e+00 8.72e+11  -3.8 5.55e+02    -  1.00e+00 9.84e-01f  1\n",
      " 138r-5.5059244e+02 4.11e+00 1.00e+03   0.5 0.00e+00  15.3 0.00e+00 3.73e-07R  7\n",
      " 139r-5.5058914e+02 3.42e+00 7.74e+03   0.5 3.38e+03    -  1.45e-02 1.68e-04f  1\n",
      "iter    objective    inf_pr   inf_du lg(mu)  ||d||  lg(rg) alpha_du alpha_pr  ls\n",
      " 140 -5.5058818e+02 2.43e+00 1.31e+03  -3.8 2.36e+00    -  9.81e-03 2.89e-01h  1\n",
      " 141 -5.5060666e+02 2.11e+00 1.65e+03  -3.8 2.84e+01    -  3.23e-01 1.32e-01h  1\n",
      " 142 -5.5059884e+02 1.50e+00 3.57e+03  -3.8 2.87e+00    -  1.58e-01 2.91e-01h  1\n",
      " 143 -5.5059835e+02 1.38e+00 1.72e+04  -3.8 5.87e-01    -  6.86e-01 7.55e-02h  1\n",
      " 144 -5.5060642e+02 1.04e-04 1.46e+04  -3.8 2.88e+00    -  9.07e-01 1.00e+00h  1\n",
      " 145 -5.5354710e+02 3.99e+00 3.21e+05  -3.8 1.51e+03    -  7.36e-01 3.59e-01f  1\n",
      " 146 -5.5354961e+02 3.99e+00 3.22e+05  -3.8 3.29e+03    -  6.67e-01 1.44e-04h  1\n",
      " 147 -5.5452663e+02 3.48e+00 1.83e+08  -3.8 7.68e+02    -  4.85e-01 2.40e-01f  1\n",
      " 148 -5.5721886e+02 4.53e+00 2.21e+09  -3.8 7.62e+02    -  6.96e-01 6.70e-01f  1\n",
      " 149 -5.5721886e+02 4.53e+00 2.21e+09  -3.8 7.42e-04  14.8 1.61e-03 3.16e-03h  1\n",
      "iter    objective    inf_pr   inf_du lg(mu)  ||d||  lg(rg) alpha_du alpha_pr  ls\n",
      " 150 -5.5721886e+02 4.53e+00 2.21e+09  -3.8 4.36e+00    -  1.67e-04 5.04e-05h  1\n",
      " 151 -5.5721887e+02 4.22e+00 2.04e+09  -3.8 4.58e+00    -  5.83e-05 6.83e-02f  1\n",
      " 152 -5.5721887e+02 4.22e+00 2.04e+09  -3.8 4.24e+00    -  3.14e-02 1.00e-04h  1\n",
      " 153 -5.5721888e+02 3.82e+00 1.85e+09  -3.8 4.23e+00    -  6.96e-02 9.45e-02f  1\n",
      " 154 -5.5721888e+02 3.82e+00 1.85e+09  -3.8 3.85e+00    -  9.76e-03 2.56e-05h  1\n",
      " 155 -5.5721890e+02 5.78e-04 2.03e+08  -3.8 3.83e+00    -  2.26e-01 1.00e+00f  1\n",
      " 156 -5.5737663e+02 1.17e-02 1.67e+09  -3.8 3.01e+01    -  6.38e-01 1.00e+00f  1\n",
      " 157 -5.5737663e+02 1.15e-02 2.40e+09  -3.8 3.26e-04  14.4 1.01e-02 1.46e-02h  1\n",
      "MUMPS returned INFO(1) = -9 and requires more memory, reallocating.  Attempt 1\n",
      "  Increasing icntl[13] from 1000 to 2000.\n",
      " 158 -5.5737663e+02 1.15e-02 2.44e+09  -3.8 1.86e-08  17.5 8.20e-01 2.88e-02h  1\n",
      " 159 -5.5737664e+02 1.15e-02 3.39e+09  -3.8 2.28e+00    -  7.77e-03 7.14e-04h  1\n",
      "iter    objective    inf_pr   inf_du lg(mu)  ||d||  lg(rg) alpha_du alpha_pr  ls\n",
      " 160 -5.5737664e+02 1.15e-02 3.35e+09  -3.8 2.41e+00    -  2.89e-05 1.45e-04f  2\n",
      " 161 -5.5737668e+02 1.12e-02 2.35e+10  -3.8 3.31e-01    -  1.00e+00 2.66e-02f  2\n",
      " 162 -5.5737667e+02 1.11e-02 2.23e+10  -3.8 2.06e-01    -  4.95e-02 1.04e-02h  1\n",
      " 163 -5.5737667e+02 1.11e-02 2.22e+10  -3.8 3.20e-09  17.9 1.95e-03 1.95e-03s 13\n",
      " 164 -5.5737667e+02 1.11e-02 2.22e+10  -3.8 5.69e-02    -  2.59e-05 0.00e+00S 13\n",
      " 165r-5.5737667e+02 1.11e-02 1.00e+03  -2.0 0.00e+00    -  0.00e+00 1.20e-08R  2\n",
      " 166r-5.5737660e+02 3.23e-04 1.15e+04  -2.0 3.66e+01    -  6.92e-02 9.90e-04f  1\n",
      " 167 -5.5737235e+02 3.20e-04 1.10e+04  -3.8 8.33e+01    -  9.70e-01 9.75e-03f  6\n",
      " 168 -5.5737550e+02 2.30e-04 1.35e+04  -3.8 2.12e+00    -  5.25e-01 2.83e-01h  1\n",
      " 169 -5.5737468e+02 1.72e-04 1.50e+04  -3.8 6.28e-01    -  1.00e+00 2.50e-01h  3\n",
      "iter    objective    inf_pr   inf_du lg(mu)  ||d||  lg(rg) alpha_du alpha_pr  ls\n",
      " 170 -5.5737580e+02 2.86e-05 2.70e+04  -3.8 2.57e-01    -  1.00e+00 8.34e-01h  1\n",
      " 171 -5.5737397e+02 1.58e-06 4.07e+06  -3.8 3.51e-01    -  1.07e-02 1.00e+00f  1\n"
     ]
    },
    {
     "name": "stdout",
     "output_type": "stream",
     "text": [
      " 172 -5.5737397e+02 1.50e-10 3.94e+12  -3.8 2.48e-07  17.4 1.00e+00 1.00e+00h  1\n",
      " 173 -5.5737397e+02 4.62e-07 3.94e+12  -5.7 8.12e-02    -  1.28e-03 8.96e-05h  4\n",
      " 174r-5.5737397e+02 4.62e-07 1.00e+03  -5.7 0.00e+00    -  0.00e+00 3.22e-07R 10\n",
      " 175r-5.5737392e+02 1.16e-07 8.51e+02  -5.7 2.24e+00    -  1.81e-01 3.96e-03f  1\n",
      " 176r-5.5737161e+02 2.52e-06 2.77e+02  -5.7 2.37e+00    -  8.07e-01 1.87e-01f  1\n",
      " 177r-5.5736304e+02 3.49e-05 9.72e+02  -5.7 2.12e+00    -  1.01e-01 7.71e-01h  1\n",
      " 178r-5.5735935e+02 6.36e-06 2.23e+01  -5.7 7.04e-01    -  8.86e-01 1.00e+00h  1\n",
      " 179r-5.5736026e+02 3.53e-05 8.04e+01  -5.7 3.23e-01    -  7.81e-01 1.00e+00h  1\n",
      "iter    objective    inf_pr   inf_du lg(mu)  ||d||  lg(rg) alpha_du alpha_pr  ls\n",
      " 180r-5.5736022e+02 1.17e-05 3.33e+02  -5.7 1.35e-01    -  3.75e-01 1.00e+00h  1\n",
      " 181r-5.5735933e+02 7.83e-06 1.58e+02  -5.7 1.10e-01    -  6.41e-01 1.00e+00h  1\n",
      " 182r-5.5735889e+02 2.87e-05 1.57e+02  -5.7 3.57e-01    -  5.83e-01 1.00e+00h  1\n",
      " 183r-5.5735468e+02 5.53e-05 1.06e+02  -5.7 3.59e-01    -  6.44e-01 1.00e+00h  1\n",
      " 184r-5.5734241e+02 9.32e-05 5.64e+01  -5.7 5.13e-01    -  7.46e-01 1.00e+00h  1\n",
      " 185r-5.5730055e+02 1.43e-04 4.72e+01  -5.7 7.09e-01    -  6.66e-01 1.00e+00h  1\n",
      " 186r-5.5726674e+02 2.74e-05 1.55e-02  -5.7 3.22e-01    -  1.00e+00 1.00e+00h  1\n",
      " 187r-5.5726388e+02 5.68e-07 3.72e-04  -5.7 4.42e-02    -  1.00e+00 1.00e+00h  1\n",
      " 188r-5.5726392e+02 5.96e-09 2.02e-07  -5.7 3.33e-04    -  1.00e+00 1.00e+00h  1\n",
      " 189r-5.5729946e+02 5.59e-04 6.42e+01  -8.6 1.80e+00    -  9.23e-01 6.56e-01f  1\n",
      "iter    objective    inf_pr   inf_du lg(mu)  ||d||  lg(rg) alpha_du alpha_pr  ls\n",
      " 190r-5.5729622e+02 2.80e-04 1.46e+02  -8.6 1.67e+00    -  9.76e-01 5.61e-01h  1\n",
      " 191r-5.5731155e+02 2.51e-04 1.33e+02  -8.6 1.02e+00    -  9.77e-01 6.08e-01h  1\n",
      " 192r-5.5732971e+02 1.59e-04 1.41e+02  -8.6 6.81e-01    -  1.00e+00 6.13e-01h  1\n",
      " 193r-5.5734255e+02 7.18e-05 1.15e+02  -8.6 4.53e-01    -  1.00e+00 6.69e-01f  1\n",
      " 194r-5.5734942e+02 1.96e-05 6.80e+01  -8.6 2.23e-01    -  1.00e+00 7.88e-01f  1\n",
      " 195r-5.5735162e+02 9.84e-07 6.04e-03  -8.6 5.73e-02    -  1.00e+00 1.00e+00f  1\n",
      " 196r-5.5735160e+02 2.77e-08 8.24e-04  -8.6 1.02e-02    -  1.00e+00 1.00e+00h  1\n",
      " 197r-5.5735160e+02 1.61e-10 1.70e-07  -8.6 7.74e-04    -  1.00e+00 1.00e+00h  1\n",
      " 198r-5.5735160e+02 1.50e-10 6.70e-03  -8.6 4.48e-06    -  1.00e+00 2.50e-01h  3\n",
      " 199r-5.5735160e+02 3.00e-10 1.36e-11  -8.6 3.36e-06    -  1.00e+00 1.00e+00s 22\n",
      "iter    objective    inf_pr   inf_du lg(mu)  ||d||  lg(rg) alpha_du alpha_pr  ls\n",
      " 200r-5.5736024e+02 2.17e-06 4.02e+01 -11.0 1.11e-01    -  9.86e-01 7.70e-01h  1\n",
      " 201r-5.5736082e+02 7.38e-07 8.64e+00 -11.0 2.98e-02    -  6.96e-01 7.19e-01f  1\n",
      " 202r-5.5736084e+02 6.99e-07 2.15e+02 -11.0 4.24e-03  -4.0 4.29e-01 5.20e-02f  1\n",
      " 203r-5.5736307e+02 1.44e-07 3.35e+01 -11.0 1.03e-02    -  5.29e-01 8.06e-01f  1\n",
      " 204r-5.5736313e+02 4.44e-08 1.66e+03 -11.0 1.53e-03  -3.6 1.44e-01 7.31e-01f  1\n",
      " 205r-5.5736326e+02 2.25e-08 7.43e+02 -11.0 1.74e-03  -4.1 5.46e-01 5.35e-01f  1\n",
      " 206r-5.5736393e+02 4.20e-09 3.05e+02 -11.0 8.97e-04  -4.5 6.45e-01 1.00e+00f  1\n",
      " 207r-5.5736418e+02 3.00e-10 4.06e+01 -11.0 2.55e-04  -4.1 9.54e-01 1.00e+00h  1\n",
      " 208r-5.5736419e+02 4.47e-10 7.04e+01 -11.0 1.66e-02  -4.6 6.65e-02 1.41e-02h  2\n",
      " 209r-5.5736420e+02 3.64e-10 3.63e+02 -11.0 5.73e-05  -3.3 1.00e+00 1.84e-01h  2\n",
      "iter    objective    inf_pr   inf_du lg(mu)  ||d||  lg(rg) alpha_du alpha_pr  ls\n",
      " 210r-5.5736494e+02 3.75e-10 2.40e+02 -11.0 3.93e-03    -  6.47e-01 1.44e-01h  2\n",
      " 211r-5.5736890e+02 2.97e-10 3.07e-05 -11.0 1.10e-03    -  1.00e+00 1.00e+00h  1\n",
      " 212r-5.5736852e+02 1.84e-10 2.86e-06 -11.0 8.94e-05    -  1.00e+00 1.00e+00h  1\n",
      " 213 -5.5738157e+02 5.75e-05 2.87e+02  -5.7 2.60e+01    -  9.64e-01 8.13e-02f  1\n",
      " 214 -5.5985300e+02 2.87e+00 1.90e+06  -5.7 7.03e+02    -  8.74e-01 6.71e-01f  1\n",
      " 215 -5.5985304e+02 2.87e+00 1.90e+06  -5.7 2.92e+03    -  2.06e-03 2.42e-06h  1\n",
      " 216 -5.5994957e+02 2.86e+00 1.85e+06  -5.7 3.87e+03    -  1.08e-02 4.83e-03f  1\n",
      " 217 -5.6003836e+02 2.75e+00 2.79e+08  -5.7 4.46e+02    -  4.02e-04 3.88e-02f  1\n",
      " 218 -5.6004119e+02 2.75e+00 2.79e+08  -5.7 3.47e+03    -  7.52e-06 1.58e-04h  1\n",
      " 219 -5.6004118e+02 2.75e+00 9.78e+11  -5.7 1.05e-05  17.0 2.28e-02 1.00e+00h  1\n",
      "iter    objective    inf_pr   inf_du lg(mu)  ||d||  lg(rg) alpha_du alpha_pr  ls\n",
      " 220 -5.6004124e+02 2.58e+00 9.17e+11  -5.7 2.75e+00    -  2.14e-03 6.22e-02h  1\n",
      " 221 -5.6004118e+02 2.57e+00 1.83e+12  -5.7 5.90e-05  16.5 6.44e-07 1.00e+00f  1\n",
      " 222 -5.6004122e+02 2.43e+00 1.73e+12  -5.7 2.57e+00    -  9.84e-01 5.28e-02h  1\n",
      " 223 -5.6004122e+02 2.43e+00 1.73e+12  -5.7 2.44e+00    -  1.52e-01 4.18e-05h  1\n",
      " 224 -5.6004134e+02 2.10e+00 1.50e+12  -5.7 2.44e+00    -  9.99e-01 1.36e-01f  1\n",
      " 225 -5.6004112e+02 2.06e+00 2.23e+12  -5.7 2.15e-04  16.0 3.72e-06 1.00e+00h  1\n",
      " 226 -5.6004115e+02 1.98e+00 2.14e+12  -5.7 2.06e+00    -  1.23e-01 4.05e-02h  1\n",
      " 227 -5.6004113e+02 1.97e+00 2.16e+12  -5.7 8.08e-04  15.5 2.01e-08 2.67e-02h  1\n",
      " 228 -5.6004094e+02 1.94e+00 2.20e+12  -5.7 2.34e-03  15.1 2.48e-03 8.00e-02h  1\n",
      " 229 -5.6004099e+02 1.74e+00 1.98e+12  -5.7 1.94e+00    -  1.68e-05 9.91e-02h  1\n",
      "iter    objective    inf_pr   inf_du lg(mu)  ||d||  lg(rg) alpha_du alpha_pr  ls\n",
      " 230 -5.6004101e+02 1.57e+00 1.78e+12  -5.7 1.74e+00    -  1.67e-01 1.00e-01h  1\n",
      " 231 -5.6004096e+02 1.44e+00 1.64e+12  -5.7 1.57e+00    -  1.23e-02 8.24e-02h  1\n",
      " 232 -5.6004081e+02 1.38e+00 1.56e+12  -5.7 1.44e+00    -  2.39e-06 4.33e-02h  1\n",
      " 233 -5.6004080e+02 1.38e+00 1.57e+12  -5.7 4.54e-03  14.6 3.19e-05 2.31e-03h  1\n",
      " 234 -5.6004076e+02 1.14e+00 1.30e+12  -5.7 1.38e+00    -  1.01e-04 1.69e-01f  2\n",
      " 235 -5.6004059e+02 2.52e-01 2.87e+11  -5.7 1.14e+00    -  2.40e-01 7.80e-01h  1\n",
      " 236 -5.6004062e+02 2.35e-07 4.30e+08  -5.7 2.52e-01    -  3.70e-01 1.00e+00f  1\n",
      " 237 -5.6004062e+02 1.88e-10 6.80e+09  -5.7 5.32e-05  14.1 1.00e+00 1.00e+00h  1\n",
      " 238 -5.6004062e+02 1.50e-10 7.18e+07  -5.7 1.38e-06  13.6 1.00e+00 1.00e+00h  1\n",
      " 239 -5.6004062e+02 4.45e-11 1.83e+07  -5.7 1.36e-06  13.2 9.81e-01 1.00e+00H  1\n",
      "iter    objective    inf_pr   inf_du lg(mu)  ||d||  lg(rg) alpha_du alpha_pr  ls\n",
      " 240 -5.6004063e+02 1.84e-09 5.02e+06  -5.7 9.24e-04    -  1.00e+00 1.00e+00h  1\n",
      " 241 -5.6004063e+02 3.01e-10 2.53e+04  -5.7 5.35e-09  12.7 1.00e+00 1.00e+00h  1\n",
      " 242 -5.6008627e+02 9.85e-04 6.45e+07  -5.7 8.84e+00    -  1.00e+00 1.00e+00f  1\n",
      " 243 -5.6008626e+02 1.48e-10 7.61e+07  -5.7 4.82e-05  12.2 1.00e+00 1.00e+00h  1\n",
      " 244 -5.6008626e+02 1.54e-10 2.81e+04  -5.7 1.25e-05    -  1.00e+00 1.00e+00h  1\n",
      " 245 -5.6255672e+02 2.89e+00 4.15e+05  -5.7 5.85e+04    -  4.70e-02 8.19e-03f  1\n",
      " 246 -5.6255895e+02 2.89e+00 4.15e+05  -5.7 3.65e+04    -  1.37e-01 1.20e-05h  1\n",
      " 247 -5.6385125e+02 3.67e+00 1.66e+06  -5.7 3.53e+04    -  1.55e-01 7.19e-03f  1\n",
      " 248 -5.6385372e+02 3.67e+00 6.40e+06  -5.7 9.74e+02    -  7.61e-02 5.04e-04h  1\n",
      " 249 -5.6392082e+02 3.66e+00 6.17e+06  -5.7 3.79e+03    -  2.02e-07 3.50e-03f  1\n",
      "iter    objective    inf_pr   inf_du lg(mu)  ||d||  lg(rg) alpha_du alpha_pr  ls\n",
      " 250 -5.6416360e+02 3.47e+00 4.25e+08  -5.7 8.19e+02    -  6.35e-02 5.88e-02h  1\n",
      " 251 -5.6520206e+02 3.28e+00 6.99e+09  -5.7 1.01e+03    -  1.93e-06 2.05e-01f  1\n",
      " 252 -5.6579164e+02 2.98e+00 5.97e+09  -5.7 8.33e+02    -  4.08e-02 1.41e-01h  1\n",
      " 253 -5.6604820e+02 2.90e+00 5.45e+09  -5.7 1.40e+03    -  1.24e-06 3.66e-02f  1\n",
      " 254 -5.6630312e+02 2.92e+00 5.02e+09  -5.7 1.09e+04    -  5.87e-03 4.66e-03f  1\n",
      " 255 -5.6754334e+02 2.80e+00 9.37e+09  -5.7 8.41e+02    -  8.78e-02 2.96e-01f  1\n",
      " 256 -5.6772513e+02 2.76e+00 9.09e+09  -5.7 2.06e+03    -  1.76e-07 1.78e-02f  1\n",
      " 257 -5.6819659e+02 2.63e+00 8.11e+09  -5.7 1.07e+03    -  5.43e-06 8.88e-02f  1\n",
      " 258r-5.6819659e+02 2.63e+00 1.00e+03   0.3 0.00e+00  12.6 0.00e+00 3.74e-07R  5\n",
      " 259r-5.6819662e+02 2.63e+00 1.01e+03   0.3 9.71e+05    -  4.29e-07 2.03e-09f  1\n",
      "iter    objective    inf_pr   inf_du lg(mu)  ||d||  lg(rg) alpha_du alpha_pr  ls\n",
      " 260r-5.6819175e+02 2.52e+00 3.96e+03   0.3 6.06e+03    -  3.71e-03 4.00e-05f  1\n",
      " 261r-5.6809700e+02 6.52e-01 1.60e+04   0.3 4.07e+03    -  8.64e-04 3.50e-03f  1\n",
      " 262 -5.6811737e+02 5.06e-01 5.92e+00  -5.7 7.69e+00    -  2.24e-01 2.24e-01h  1\n",
      " 263 -5.6814376e+02 3.47e-01 3.59e+00  -5.7 1.40e+01    -  3.45e-01 3.15e-01h  1\n",
      " 264 -5.6814397e+02 3.25e-01 1.18e+01  -5.7 1.13e+00    -  6.55e-02 6.28e-02h  1\n",
      " 265 -5.6814456e+02 1.64e-01 1.38e+03  -5.7 1.04e+00    -  1.52e-01 4.97e-01f  2\n",
      " 266 -5.6815131e+02 1.24e-01 7.86e+02  -5.7 5.76e+00    -  9.02e-01 2.43e-01h  1\n",
      " 267 -5.6815112e+02 9.72e-04 1.07e+04  -5.7 4.41e-01    -  7.71e-01 1.00e+00h  1\n",
      " 268 -5.6951567e+02 9.02e-01 9.72e+03  -5.7 1.72e+03    -  5.45e-01 1.60e-01f  1\n",
      " 269 -5.6954294e+02 8.82e-01 9.54e+03  -5.7 2.35e+02    -  5.62e-01 2.36e-02h  1\n",
      "iter    objective    inf_pr   inf_du lg(mu)  ||d||  lg(rg) alpha_du alpha_pr  ls\n",
      " 270 -5.7055054e+02 6.20e-01 4.46e+03  -5.7 2.40e+02    -  2.91e-01 8.56e-01f  1\n",
      " 271 -5.7055054e+02 6.20e-01 1.78e+08  -5.7 2.12e-01  12.1 4.96e-06 6.00e-04h  1\n",
      " 272 -5.7055055e+02 5.54e-01 5.01e+08  -5.7 6.28e-01    -  9.86e-01 1.07e-01f  1\n"
     ]
    },
    {
     "name": "stdout",
     "output_type": "stream",
     "text": [
      " 273 -5.7055053e+02 5.51e-01 8.99e+08  -5.7 1.89e-01  11.7 3.16e-09 5.39e-03f  5\n",
      " 274 -5.7055053e+02 5.50e-01 2.06e+11  -5.7 5.03e-06  16.6 9.65e-01 1.00e+00h  1\n",
      " 275 -5.7055045e+02 5.35e-01 2.22e+14  -5.7 1.88e-01  16.1 5.40e-03 2.67e-02h  1\n",
      "WARNING: Problem in step computation; switching to emergency mode.\n",
      " 276r-5.7055045e+02 5.35e-01 1.00e+03  -0.4 0.00e+00  19.3 0.00e+00 0.00e+00R  1\n",
      " 277r-5.7052723e+02 5.35e-01 1.00e+03  -0.4 2.69e+05    -  8.50e-07 7.68e-07f  1\n",
      " 278r-5.7052861e+02 5.27e-01 1.01e+03  -0.4 6.68e+03    -  3.30e-04 1.48e-05f  1\n",
      " 279r-5.7052944e+02 1.96e-01 3.93e+03  -0.4 1.39e+03    -  8.48e-05 8.36e-04f  1\n",
      "iter    objective    inf_pr   inf_du lg(mu)  ||d||  lg(rg) alpha_du alpha_pr  ls\n",
      " 280 -5.7058993e+02 1.98e-01 2.34e+02  -5.7 6.59e+05    -  1.37e-03 1.86e-05f  1\n",
      " 281 -5.7061041e+02 1.89e-01 1.36e+04  -5.7 1.67e+02    -  5.57e-03 4.77e-02f  1\n",
      " 282 -5.7061041e+02 1.89e-01 7.08e+10  -5.7 4.28e-09  19.2 1.00e+00 1.00e+00h  1\n",
      " 283 -5.7061047e+02 1.89e-01 7.07e+10  -5.7 7.30e-01    -  5.80e-02 4.83e-04h  1\n",
      " 284 -5.7061047e+02 1.89e-01 7.07e+10  -5.7 2.50e-01    -  1.57e-01 8.97e-05h  1\n",
      " 285 -5.7061040e+02 1.49e-01 5.59e+10  -5.7 2.50e-01    -  8.63e-02 2.10e-01h  1\n",
      " 286 -5.7060909e+02 1.83e-02 6.83e+09  -5.7 1.85e-01    -  9.12e-01 8.78e-01h  1\n",
      " 287 -5.7060909e+02 1.83e-02 1.48e+10  -5.7 1.79e-01    -  1.00e+00 6.08e-05h  1\n",
      " 288 -5.7061161e+02 9.41e-03 6.06e+09  -5.7 1.78e-01    -  3.87e-01 4.85e-01f  1\n",
      " 289 -5.7061460e+02 5.75e-03 2.39e+10  -5.7 2.42e-01    -  1.00e-06 3.89e-01f  1\n",
      "iter    objective    inf_pr   inf_du lg(mu)  ||d||  lg(rg) alpha_du alpha_pr  ls\n",
      " 290 -5.7062113e+02 2.34e-03 2.12e+10  -5.7 3.41e-01    -  1.00e+00 5.92e-01h  1\n",
      " 291 -5.7063140e+02 7.15e-04 1.21e+10  -5.7 4.60e-01    -  7.17e-01 6.95e-01f  1\n",
      " 292 -5.7064474e+02 4.83e-04 8.14e+09  -5.7 4.30e-01    -  2.05e-01 1.00e+00f  1\n",
      " 293 -5.7240852e+02 1.51e+00 2.16e+10  -5.7 3.77e+02    -  4.89e-01 9.53e-01f  1\n",
      " 294 -5.7240852e+02 1.51e+00 5.71e+11  -5.7 1.04e-07  18.7 9.33e-01 1.00e+00h  1\n",
      " 295 -5.7240620e+02 9.93e-01 3.75e+11  -5.7 1.51e+00    -  5.03e-06 3.44e-01h  1\n",
      " 296 -5.7240132e+02 7.64e-02 2.84e+18  -5.7 4.93e-02  18.3 1.15e-03 9.23e-01h  1\n",
      "MUMPS returned INFO(1) = -9 and requires more memory, reallocating.  Attempt 1\n",
      "  Increasing icntl[13] from 2000 to 4000.\n",
      " 297 -5.7240092e+02 6.71e-08 2.33e+17  -5.7 3.79e-03  17.8 2.90e-05 1.00e+00h  1\n",
      " 298 -5.7240092e+02 1.53e-10 4.98e+11  -5.7 6.11e-07  17.3 9.79e-01 1.00e+00h  1\n",
      " 299 -5.7240092e+02 1.43e-10 4.67e+11  -5.7 6.81e-08  16.8 1.00e+00 6.25e-02h  5\n",
      "iter    objective    inf_pr   inf_du lg(mu)  ||d||  lg(rg) alpha_du alpha_pr  ls\n",
      " 300 -5.7240092e+02 1.34e-10 4.38e+11  -5.7 6.39e-08  16.4 1.00e+00 6.25e-02h  5\n",
      " 301 -5.7240092e+02 3.05e-10 5.44e+08  -5.7 6.06e-08  15.9 1.00e+00 1.00e+00H  1\n",
      " 302 -5.7240099e+02 2.96e-10 5.29e+08  -5.7 6.16e-03    -  1.00e+00 2.74e-02f  1\n",
      " 303 -5.7240114e+02 1.24e-07 1.64e+09  -5.7 3.10e-02    -  1.00e+00 1.00e+00f  1\n",
      " 304 -5.7242288e+02 2.31e-04 8.35e+07  -5.7 4.47e+00    -  1.00e+00 1.00e+00f  1\n",
      " 305 -5.7242288e+02 1.53e-10 1.11e+10  -5.7 4.39e-06  15.4 1.00e+00 1.00e+00h  1\n",
      " 306 -5.7242288e+02 4.86e-06 7.88e+07  -5.7 3.13e-04    -  1.00e+00 1.00e+00h  1\n",
      " 307 -5.7242696e+02 8.09e-06 7.92e+06  -5.7 8.36e-01    -  1.00e+00 1.00e+00h  1\n",
      " 308 -5.7314799e+02 2.54e-01 6.80e+06  -5.7 1.46e+05    -  2.12e-02 1.02e-03f  1\n",
      " 309 -5.7313881e+02 4.15e-05 7.62e+04  -5.7 1.64e+00    -  1.00e+00 1.00e+00h  1\n",
      "iter    objective    inf_pr   inf_du lg(mu)  ||d||  lg(rg) alpha_du alpha_pr  ls\n",
      " 310 -5.7314140e+02 3.90e-05 7.14e+04  -5.7 1.90e+00    -  1.22e-01 6.39e-02f  1\n",
      " 311 -5.7314932e+02 3.63e-05 6.21e+04  -5.7 1.77e+00    -  1.00e+00 1.00e+00f  1\n",
      " 312 -5.7315000e+02 1.08e-06 1.10e+03  -5.7 1.98e-02    -  1.00e+00 1.00e+00h  1\n",
      " 313 -5.7315000e+02 4.18e-10 2.25e+02  -5.7 3.22e-04    -  1.00e+00 1.00e+00h  1\n",
      " 314 -5.7315000e+02 1.92e-10 1.76e+00  -5.7 2.39e-06    -  1.00e+00 1.00e+00h  1\n",
      " 315 -5.7315000e+02 1.09e-11 8.77e-05  -5.7 1.43e-08    -  1.00e+00 1.00e+00h  1\n",
      " 316 -5.7315001e+02 1.79e-10 2.76e+01  -8.6 3.80e-04    -  9.99e-01 1.00e+00h  1\n",
      " 317 -5.7315001e+02 1.53e-10 2.31e-01  -8.6 1.98e-06    -  1.00e+00 1.00e+00h  1\n",
      " 318 -5.7315001e+02 3.64e-12 3.85e-07  -8.6 3.94e-10    -  1.00e+00 1.00e+00h  1\n",
      " 319 -5.7315001e+02 1.92e-10 3.35e-05  -9.0 3.30e-07    -  1.00e+00 1.00e+00h  1\n",
      "iter    objective    inf_pr   inf_du lg(mu)  ||d||  lg(rg) alpha_du alpha_pr  ls\n",
      " 320 -5.7315001e+02 1.09e-11 1.59e-11  -9.0 1.92e-10    -  1.00e+00 1.00e+00h  1\n",
      "\n",
      "Number of Iterations....: 320\n",
      "\n",
      "                                   (scaled)                 (unscaled)\n",
      "Objective...............:  -5.7315000586253666e+02   -5.7315000586253666e+02\n",
      "Dual infeasibility......:   1.5867238079003698e-11    1.5867238079003698e-11\n",
      "Constraint violation....:   8.9692380638352294e-12    1.0913936421275139e-11\n",
      "Complementarity.........:   9.0909090909091686e-10    9.0909090909091686e-10\n",
      "Overall NLP error.......:   9.0909090909091686e-10    9.0909090909091686e-10\n",
      "\n",
      "\n",
      "Number of objective function evaluations             = 591\n",
      "Number of objective gradient evaluations             = 268\n",
      "Number of equality constraint evaluations            = 591\n",
      "Number of inequality constraint evaluations          = 0\n",
      "Number of equality constraint Jacobian evaluations   = 330\n",
      "Number of inequality constraint Jacobian evaluations = 0\n",
      "Number of Lagrangian Hessian evaluations             = 320\n",
      "Total CPU secs in IPOPT (w/o function evaluations)   =     24.803\n",
      "Total CPU secs in NLP function evaluations           =      0.810\n",
      "\n",
      "EXIT: Optimal Solution Found.\n"
     ]
    }
   ],
   "source": [
    "opt = pe.SolverFactory('ipopt')\n",
    "\n",
    "opt.options['print_user_options'] = 'yes'\n",
    "# opt.options['linear_solver'] = 'ma86'\n",
    "# opt.options['ma57_automatic_scaling'] = 'no'\n",
    "# opt.options['nlp_scaling_method'] = None\n",
    "# opt.options['bound_relax_factor'] = 0\n",
    "# opt.options['halt_on_ampl_error'] = 'yes'\n",
    "\n",
    "opt.options['max_iter'] = 7000\n",
    "results = opt.solve(model,tee=True)\n",
    "update_dual(pe,model)"
   ]
  },
  {
   "cell_type": "code",
   "execution_count": 21,
   "metadata": {
    "scrolled": true,
    "slideshow": {
     "slide_type": "skip"
    }
   },
   "outputs": [
    {
     "data": {
      "text/plain": [
       "573.15"
      ]
     },
     "execution_count": 21,
     "metadata": {},
     "output_type": "execute_result"
    }
   ],
   "source": [
    "model.T.value"
   ]
  },
  {
   "cell_type": "code",
   "execution_count": 22,
   "metadata": {},
   "outputs": [
    {
     "data": {
      "text/plain": [
       "0.12015591900434268"
      ]
     },
     "execution_count": 22,
     "metadata": {},
     "output_type": "execute_result"
    }
   ],
   "source": [
    "model.beta.value"
   ]
  },
  {
   "cell_type": "code",
   "execution_count": 23,
   "metadata": {
    "scrolled": true
   },
   "outputs": [
    {
     "data": {
      "text/plain": [
       "0.8798440711942378"
      ]
     },
     "execution_count": 23,
     "metadata": {},
     "output_type": "execute_result"
    }
   ],
   "source": [
    "model.s_L.value"
   ]
  },
  {
   "cell_type": "code",
   "execution_count": 24,
   "metadata": {
    "scrolled": true
   },
   "outputs": [
    {
     "data": {
      "text/plain": [
       "0.0"
      ]
     },
     "execution_count": 24,
     "metadata": {},
     "output_type": "execute_result"
    }
   ],
   "source": [
    "model.L['out'].value"
   ]
  },
  {
   "cell_type": "code",
   "execution_count": 25,
   "metadata": {
    "scrolled": false,
    "slideshow": {
     "slide_type": "slide"
    }
   },
   "outputs": [
    {
     "name": "stdout",
     "output_type": "stream",
     "text": [
      "Component\t\tLiquid: 0.0000\t\t\tVapor: 0.4578\n",
      "------------------------------------------------------------------------------------------------------------\n",
      "H2         \t\t 0.1371%\t\t\t 0.3424%\n",
      "CO         \t\t 0.1236%\t\t\t 0.2654%\n",
      "CO2        \t\t46.5965%\t\t\t56.2353%\n",
      "H2O        \t\t10.9282%\t\t\t 8.6187%\n",
      "C2H4       \t\t 5.6470%\t\t\t 5.5917%\n",
      "C3H6       \t\t 5.8141%\t\t\t 3.2153%\n",
      "C4H8       \t\t 2.3491%\t\t\t 1.4282%\n",
      "C5H10      \t\t 1.6894%\t\t\t 0.5529%\n",
      "C6H12      \t\t 1.3174%\t\t\t 0.2585%\n",
      "C7H14      \t\t 0.9597%\t\t\t 0.1208%\n",
      "C8H16      \t\t 0.6670%\t\t\t 0.0565%\n",
      "C9H18      \t\t 0.4480%\t\t\t 0.0264%\n",
      "C10H20     \t\t 0.2932%\t\t\t 0.0123%\n",
      "C11H22     \t\t 0.1198%\t\t\t 0.0037%\n",
      "C12H24     \t\t 0.0756%\t\t\t 0.0017%\n",
      "C13H26     \t\t 0.0470%\t\t\t 0.0008%\n",
      "C14H28     \t\t 0.0289%\t\t\t 0.0004%\n",
      "C15H30     \t\t 0.0177%\t\t\t 0.0002%\n",
      "C16H32     \t\t 0.0107%\t\t\t 0.0001%\n",
      "C17H34     \t\t 0.0064%\t\t\t 0.0000%\n",
      "C18H36     \t\t 0.0038%\t\t\t 0.0000%\n",
      "C19H38     \t\t 0.0023%\t\t\t 0.0000%\n",
      "C20H40     \t\t 0.0013%\t\t\t 0.0000%\n",
      "C1H4       \t\t13.3744%\t\t\t18.3934%\n",
      "C2H6       \t\t 3.2294%\t\t\t 3.0063%\n",
      "C3H8       \t\t 1.3664%\t\t\t 0.8038%\n",
      "C4H10      \t\t 0.8290%\t\t\t 0.4505%\n",
      "C5H12      \t\t 1.0899%\t\t\t 0.3253%\n",
      "C6H14      \t\t 0.8397%\t\t\t 0.1520%\n",
      "C7H16      \t\t 0.6067%\t\t\t 0.0711%\n",
      "C8H18      \t\t 0.4192%\t\t\t 0.0332%\n",
      "C9H20      \t\t 0.2803%\t\t\t 0.0155%\n",
      "C10H22     \t\t 0.1828%\t\t\t 0.0073%\n",
      "C11H24     \t\t 0.1890%\t\t\t 0.0055%\n",
      "C12H26     \t\t 0.1190%\t\t\t 0.0026%\n",
      "C13H28     \t\t 0.0739%\t\t\t 0.0012%\n",
      "C14H30     \t\t 0.0454%\t\t\t 0.0006%\n",
      "C15H32     \t\t 0.0277%\t\t\t 0.0003%\n",
      "C16H34     \t\t 0.0167%\t\t\t 0.0001%\n",
      "C17H36     \t\t 0.0100%\t\t\t 0.0001%\n",
      "C18H38     \t\t 0.0060%\t\t\t 0.0000%\n",
      "C19H40     \t\t 0.0036%\t\t\t 0.0000%\n",
      "C20H42     \t\t 0.0021%\t\t\t 0.0000%\n",
      "C21H44     \t\t 0.0021%\t\t\t 0.0000%\n",
      "C22H46     \t\t 0.0012%\t\t\t 0.0000%\n",
      "C23H48     \t\t 0.0007%\t\t\t 0.0000%\n",
      "C24H50     \t\t 0.0004%\t\t\t 0.0000%\n",
      "C25H52     \t\t 0.0002%\t\t\t 0.0000%\n",
      "C26H54     \t\t 0.0001%\t\t\t 0.0000%\n",
      "C27H56     \t\t 0.0001%\t\t\t 0.0000%\n",
      "C28H58     \t\t 0.0000%\t\t\t 0.0000%\n",
      "C29H60     \t\t 0.0000%\t\t\t 0.0000%\n",
      "C30H62     \t\t 0.0000%\t\t\t 0.0000%\n",
      "C31H64     \t\t 0.0000%\t\t\t 0.0000%\n",
      "C32H66     \t\t 0.0000%\t\t\t 0.0000%\n",
      "C33H68     \t\t 0.0000%\t\t\t 0.0000%\n",
      "C34H70     \t\t 0.0000%\t\t\t 0.0000%\n",
      "C35H72     \t\t 0.0000%\t\t\t 0.0000%\n",
      "C36H74     \t\t 0.0000%\t\t\t 0.0000%\n",
      "C37H76     \t\t 0.0000%\t\t\t 0.0000%\n",
      "C38H78     \t\t 0.0000%\t\t\t 0.0000%\n",
      "C39H80     \t\t 0.0000%\t\t\t 0.0000%\n",
      "C40H82     \t\t 0.0000%\t\t\t 0.0000%\n",
      "C41H84     \t\t 0.0000%\t\t\t 0.0000%\n",
      "C42H86     \t\t 0.0000%\t\t\t 0.0000%\n",
      "C43H88     \t\t 0.0000%\t\t\t 0.0000%\n",
      "C44H90     \t\t 0.0000%\t\t\t 0.0000%\n",
      "C45H92     \t\t 0.0000%\t\t\t 0.0000%\n",
      "C46H94     \t\t 0.0000%\t\t\t 0.0000%\n",
      "C47H96     \t\t 0.0000%\t\t\t 0.0000%\n",
      "C48H98     \t\t 0.0000%\t\t\t 0.0000%\n",
      "C49H100    \t\t 0.0000%\t\t\t 0.0000%\n",
      "C50H102    \t\t 0.0000%\t\t\t 0.0000%\n",
      "C51H104    \t\t 0.0000%\t\t\t 0.0000%\n",
      "C52H106    \t\t 0.0000%\t\t\t 0.0000%\n",
      "C53H108    \t\t 0.0000%\t\t\t 0.0000%\n",
      "C54H110    \t\t 0.0000%\t\t\t 0.0000%\n",
      "C55H112    \t\t 0.0000%\t\t\t 0.0000%\n",
      "C56H114    \t\t 0.0000%\t\t\t 0.0000%\n"
     ]
    }
   ],
   "source": [
    "print('Component\\t\\tLiquid: {:.4f}\\t\\t\\tVapor: {:.4f}'.format(model.L['out'].value,model.V['out'].value))\n",
    "print('-'*108)\n",
    "for i in model.x:\n",
    "    print('{:10s}'.format(i),'\\t\\t{:8.4%}\\t\\t\\t{:8.4%}'.format(model.x[i].value,model.y[i].value))"
   ]
  },
  {
   "cell_type": "markdown",
   "metadata": {
    "slideshow": {
     "slide_type": "slide"
    }
   },
   "source": [
    "# Iterative Solve for Data Analysis"
   ]
  },
  {
   "cell_type": "code",
   "execution_count": 26,
   "metadata": {},
   "outputs": [],
   "source": [
    "results_anchor = results\n",
    "update_dual(pe,model)\n",
    "model.solutions.store_to(results_anchor)"
   ]
  },
  {
   "cell_type": "code",
   "execution_count": 27,
   "metadata": {},
   "outputs": [],
   "source": [
    "opt.options['warm_start_init_point'] = 'yes'\n",
    "opt.options['warm_start_bound_push'] = 1e-20\n",
    "opt.options['warm_start_mult_bound_push'] = 1e-20\n",
    "opt.options['mu_init'] = 1e-6"
   ]
  },
  {
   "cell_type": "code",
   "execution_count": 28,
   "metadata": {},
   "outputs": [],
   "source": [
    "catrange = [3000,1000,500,300,100,50,10]\n",
    "Trange = np.linspace(300+273.15,200+273.15,31)"
   ]
  },
  {
   "cell_type": "code",
   "execution_count": 29,
   "metadata": {
    "scrolled": false,
    "slideshow": {
     "slide_type": "fragment"
    }
   },
   "outputs": [
    {
     "name": "stdout",
     "output_type": "stream",
     "text": [
      "\n",
      "Working on Cat = 3000.0 kg\n",
      "------------------------------------------------------------------------------------------------------------\n",
      "Solved\t|T = 573.15 K\t|V = 0.4578 kmol/s\t|L = 0.0000 kmol/s\t|s_L = 0.8798\t|beta = 0.1202\n",
      "Solved\t|T = 569.82 K\t|V = 0.4555 kmol/s\t|L = 0.0000 kmol/s\t|s_L = 0.8765\t|beta = 0.1235\n",
      "Solved\t|T = 566.48 K\t|V = 0.4530 kmol/s\t|L = 0.0000 kmol/s\t|s_L = 0.8727\t|beta = 0.1273\n",
      "Solved\t|T = 563.15 K\t|V = 0.4504 kmol/s\t|L = 0.0000 kmol/s\t|s_L = 0.8681\t|beta = 0.1319\n",
      "Solved\t|T = 559.82 K\t|V = 0.4477 kmol/s\t|L = 0.0000 kmol/s\t|s_L = 0.8626\t|beta = 0.1374\n",
      "Solved\t|T = 556.48 K\t|V = 0.4449 kmol/s\t|L = 0.0000 kmol/s\t|s_L = 0.8559\t|beta = 0.1441\n",
      "Solved\t|T = 553.15 K\t|V = 0.4420 kmol/s\t|L = 0.0000 kmol/s\t|s_L = 0.8477\t|beta = 0.1523\n",
      "Solved\t|T = 549.82 K\t|V = 0.4390 kmol/s\t|L = 0.0000 kmol/s\t|s_L = 0.8371\t|beta = 0.1629\n",
      "Solved\t|T = 546.48 K\t|V = 0.4360 kmol/s\t|L = 0.0000 kmol/s\t|s_L = 0.8234\t|beta = 0.1766\n",
      "Solved\t|T = 543.15 K\t|V = 0.4328 kmol/s\t|L = 0.0000 kmol/s\t|s_L = 0.8048\t|beta = 0.1952\n",
      "Solved\t|T = 539.82 K\t|V = 0.4297 kmol/s\t|L = 0.0000 kmol/s\t|s_L = 0.7784\t|beta = 0.2216\n",
      "Solved\t|T = 536.48 K\t|V = 0.4265 kmol/s\t|L = 0.0000 kmol/s\t|s_L = 0.7389\t|beta = 0.2611\n",
      "Solved\t|T = 533.15 K\t|V = 0.4233 kmol/s\t|L = 0.0000 kmol/s\t|s_L = 0.6751\t|beta = 0.3249\n",
      "Solved\t|T = 529.82 K\t|V = 0.4202 kmol/s\t|L = 0.0000 kmol/s\t|s_L = 0.5617\t|beta = 0.4383\n",
      "Solved\t|T = 526.48 K\t|V = 0.4172 kmol/s\t|L = 0.0000 kmol/s\t|s_L = 0.3365\t|beta = 0.6635\n",
      "Solved\t|T = 523.15 K\t|V = 0.4144 kmol/s\t|L = 0.0000 kmol/s\t|s_L = 0.0005\t|beta = 0.9995\n",
      "Solved\t|T = 519.82 K\t|V = 0.4117 kmol/s\t|L = 0.0001 kmol/s\t|s_L = 0.0000\t|beta = 1.0000\n",
      "Solved\t|T = 516.48 K\t|V = 0.4090 kmol/s\t|L = 0.0005 kmol/s\t|s_L = 0.0000\t|beta = 1.0000\n",
      "Solved\t|T = 513.15 K\t|V = 0.4065 kmol/s\t|L = 0.0012 kmol/s\t|s_L = 0.0000\t|beta = 1.0000\n",
      "Solved\t|T = 509.82 K\t|V = 0.4042 kmol/s\t|L = 0.0022 kmol/s\t|s_L = 0.0000\t|beta = 1.0000\n",
      "Solved\t|T = 506.48 K\t|V = 0.4024 kmol/s\t|L = 0.0034 kmol/s\t|s_L = 0.0000\t|beta = 1.0000\n",
      "Solved\t|T = 503.15 K\t|V = 0.4015 kmol/s\t|L = 0.0047 kmol/s\t|s_L = 0.0000\t|beta = 1.0000\n",
      "Solved\t|T = 499.82 K\t|V = 0.4020 kmol/s\t|L = 0.0060 kmol/s\t|s_L = 0.0000\t|beta = 1.0000\n",
      "Solved\t|T = 496.48 K\t|V = 0.4042 kmol/s\t|L = 0.0071 kmol/s\t|s_L = 0.0000\t|beta = 1.0000\n",
      "Solved\t|T = 493.15 K\t|V = 0.4087 kmol/s\t|L = 0.0080 kmol/s\t|s_L = 0.0000\t|beta = 1.0000\n",
      "Solved\t|T = 489.82 K\t|V = 0.4164 kmol/s\t|L = 0.0086 kmol/s\t|s_L = 0.0000\t|beta = 1.0000\n",
      "Solved\t|T = 486.48 K\t|V = 0.4279 kmol/s\t|L = 0.0089 kmol/s\t|s_L = 0.0000\t|beta = 1.0000\n",
      "Solved\t|T = 483.15 K\t|V = 0.4444 kmol/s\t|L = 0.0089 kmol/s\t|s_L = 0.0000\t|beta = 1.0000\n",
      "Solved\t|T = 479.82 K\t|V = 0.4665 kmol/s\t|L = 0.0087 kmol/s\t|s_L = 0.0000\t|beta = 1.0000\n",
      "Solved\t|T = 476.48 K\t|V = 0.4948 kmol/s\t|L = 0.0082 kmol/s\t|s_L = 0.0000\t|beta = 1.0000\n",
      "Solved\t|T = 473.15 K\t|V = 0.5291 kmol/s\t|L = 0.0076 kmol/s\t|s_L = 0.0000\t|beta = 1.0000\n",
      "\n",
      "Working on Cat = 1000.0 kg\n",
      "------------------------------------------------------------------------------------------------------------\n",
      "Solved\t|T = 573.15 K\t|V = 0.4616 kmol/s\t|L = 0.0000 kmol/s\t|s_L = 0.8810\t|beta = 0.1190\n",
      "Solved\t|T = 569.82 K\t|V = 0.4598 kmol/s\t|L = 0.0000 kmol/s\t|s_L = 0.8779\t|beta = 0.1221\n",
      "Solved\t|T = 566.48 K\t|V = 0.4580 kmol/s\t|L = 0.0000 kmol/s\t|s_L = 0.8744\t|beta = 0.1256\n",
      "Solved\t|T = 563.15 K\t|V = 0.4561 kmol/s\t|L = 0.0000 kmol/s\t|s_L = 0.8702\t|beta = 0.1298\n",
      "Solved\t|T = 559.82 K\t|V = 0.4543 kmol/s\t|L = 0.0000 kmol/s\t|s_L = 0.8652\t|beta = 0.1348\n",
      "Solved\t|T = 556.48 K\t|V = 0.4525 kmol/s\t|L = 0.0000 kmol/s\t|s_L = 0.8592\t|beta = 0.1408\n",
      "Solved\t|T = 553.15 K\t|V = 0.4508 kmol/s\t|L = 0.0000 kmol/s\t|s_L = 0.8517\t|beta = 0.1483\n",
      "Solved\t|T = 549.82 K\t|V = 0.4493 kmol/s\t|L = 0.0000 kmol/s\t|s_L = 0.8424\t|beta = 0.1576\n",
      "Solved\t|T = 546.48 K\t|V = 0.4479 kmol/s\t|L = 0.0000 kmol/s\t|s_L = 0.8302\t|beta = 0.1698\n",
      "Solved\t|T = 543.15 K\t|V = 0.4468 kmol/s\t|L = 0.0000 kmol/s\t|s_L = 0.8139\t|beta = 0.1861\n",
      "Solved\t|T = 539.82 K\t|V = 0.4461 kmol/s\t|L = 0.0000 kmol/s\t|s_L = 0.7909\t|beta = 0.2091\n",
      "Solved\t|T = 536.48 K\t|V = 0.4459 kmol/s\t|L = 0.0000 kmol/s\t|s_L = 0.7566\t|beta = 0.2434\n",
      "Solved\t|T = 533.15 K\t|V = 0.4464 kmol/s\t|L = 0.0000 kmol/s\t|s_L = 0.7017\t|beta = 0.2983\n",
      "Solved\t|T = 529.82 K\t|V = 0.4476 kmol/s\t|L = 0.0000 kmol/s\t|s_L = 0.6053\t|beta = 0.3947\n",
      "Solved\t|T = 526.48 K\t|V = 0.4500 kmol/s\t|L = 0.0000 kmol/s\t|s_L = 0.4163\t|beta = 0.5837\n",
      "Solved\t|T = 523.15 K\t|V = 0.4538 kmol/s\t|L = 0.0000 kmol/s\t|s_L = 0.0123\t|beta = 0.9877\n",
      "Solved\t|T = 519.82 K\t|V = 0.4593 kmol/s\t|L = 0.0000 kmol/s\t|s_L = 0.0000\t|beta = 1.0000\n",
      "Solved\t|T = 516.48 K\t|V = 0.4669 kmol/s\t|L = 0.0002 kmol/s\t|s_L = 0.0000\t|beta = 1.0000\n",
      "Solved\t|T = 513.15 K\t|V = 0.4770 kmol/s\t|L = 0.0006 kmol/s\t|s_L = 0.0000\t|beta = 1.0000\n",
      "Solved\t|T = 509.82 K\t|V = 0.4903 kmol/s\t|L = 0.0011 kmol/s\t|s_L = 0.0000\t|beta = 1.0000\n",
      "Solved\t|T = 506.48 K\t|V = 0.5073 kmol/s\t|L = 0.0017 kmol/s\t|s_L = 0.0000\t|beta = 1.0000\n",
      "Solved\t|T = 503.15 K\t|V = 0.5286 kmol/s\t|L = 0.0023 kmol/s\t|s_L = 0.0000\t|beta = 1.0000\n",
      "Solved\t|T = 499.82 K\t|V = 0.5541 kmol/s\t|L = 0.0028 kmol/s\t|s_L = 0.0000\t|beta = 1.0000\n",
      "Solved\t|T = 496.48 K\t|V = 0.5835 kmol/s\t|L = 0.0031 kmol/s\t|s_L = 0.0000\t|beta = 1.0000\n",
      "Solved\t|T = 493.15 K\t|V = 0.6157 kmol/s\t|L = 0.0033 kmol/s\t|s_L = 0.0000\t|beta = 1.0000\n",
      "Solved\t|T = 489.82 K\t|V = 0.6494 kmol/s\t|L = 0.0033 kmol/s\t|s_L = 0.0000\t|beta = 1.0000\n",
      "Solved\t|T = 486.48 K\t|V = 0.6834 kmol/s\t|L = 0.0032 kmol/s\t|s_L = 0.0000\t|beta = 1.0000\n",
      "Solved\t|T = 483.15 K\t|V = 0.7164 kmol/s\t|L = 0.0031 kmol/s\t|s_L = 0.0000\t|beta = 1.0000\n",
      "Solved\t|T = 479.82 K\t|V = 0.7479 kmol/s\t|L = 0.0029 kmol/s\t|s_L = 0.0000\t|beta = 1.0000\n",
      "Solved\t|T = 476.48 K\t|V = 0.7773 kmol/s\t|L = 0.0026 kmol/s\t|s_L = 0.0000\t|beta = 1.0000\n",
      "Solved\t|T = 473.15 K\t|V = 0.8042 kmol/s\t|L = 0.0024 kmol/s\t|s_L = 0.0000\t|beta = 1.0000\n",
      "\n",
      "Working on Cat = 500.0 kg\n",
      "------------------------------------------------------------------------------------------------------------\n",
      "Solved\t|T = 573.15 K\t|V = 0.4688 kmol/s\t|L = 0.0000 kmol/s\t|s_L = 0.8831\t|beta = 0.1169\n",
      "Solved\t|T = 569.82 K\t|V = 0.4681 kmol/s\t|L = 0.0000 kmol/s\t|s_L = 0.8805\t|beta = 0.1195\n",
      "Solved\t|T = 566.48 K\t|V = 0.4676 kmol/s\t|L = 0.0000 kmol/s\t|s_L = 0.8775\t|beta = 0.1225\n",
      "Solved\t|T = 563.15 K\t|V = 0.4674 kmol/s\t|L = 0.0000 kmol/s\t|s_L = 0.8741\t|beta = 0.1259\n",
      "Solved\t|T = 559.82 K\t|V = 0.4675 kmol/s\t|L = 0.0000 kmol/s\t|s_L = 0.8701\t|beta = 0.1299\n",
      "Solved\t|T = 556.48 K\t|V = 0.4680 kmol/s\t|L = 0.0000 kmol/s\t|s_L = 0.8654\t|beta = 0.1346\n",
      "Solved\t|T = 553.15 K\t|V = 0.4691 kmol/s\t|L = 0.0000 kmol/s\t|s_L = 0.8596\t|beta = 0.1404\n",
      "Solved\t|T = 549.82 K\t|V = 0.4709 kmol/s\t|L = 0.0000 kmol/s\t|s_L = 0.8525\t|beta = 0.1475\n",
      "Solved\t|T = 546.48 K\t|V = 0.4736 kmol/s\t|L = 0.0000 kmol/s\t|s_L = 0.8434\t|beta = 0.1566\n",
      "Solved\t|T = 543.15 K\t|V = 0.4774 kmol/s\t|L = 0.0000 kmol/s\t|s_L = 0.8314\t|beta = 0.1686\n",
      "Solved\t|T = 539.82 K\t|V = 0.4827 kmol/s\t|L = 0.0000 kmol/s\t|s_L = 0.8148\t|beta = 0.1852\n",
      "Solved\t|T = 536.48 K\t|V = 0.4897 kmol/s\t|L = 0.0000 kmol/s\t|s_L = 0.7905\t|beta = 0.2095\n",
      "Solved\t|T = 533.15 K\t|V = 0.4989 kmol/s\t|L = 0.0000 kmol/s\t|s_L = 0.7520\t|beta = 0.2480\n",
      "Solved\t|T = 529.82 K\t|V = 0.5106 kmol/s\t|L = 0.0000 kmol/s\t|s_L = 0.6858\t|beta = 0.3142\n",
      "Solved\t|T = 526.48 K\t|V = 0.5254 kmol/s\t|L = 0.0000 kmol/s\t|s_L = 0.5592\t|beta = 0.4408\n",
      "Solved\t|T = 523.15 K\t|V = 0.5434 kmol/s\t|L = 0.0000 kmol/s\t|s_L = 0.2924\t|beta = 0.7076\n",
      "Solved\t|T = 519.82 K\t|V = 0.5648 kmol/s\t|L = 0.0000 kmol/s\t|s_L = 0.0006\t|beta = 0.9994\n",
      "Solved\t|T = 516.48 K\t|V = 0.5893 kmol/s\t|L = 0.0000 kmol/s\t|s_L = 0.0000\t|beta = 1.0000\n",
      "Solved\t|T = 513.15 K\t|V = 0.6163 kmol/s\t|L = 0.0001 kmol/s\t|s_L = 0.0000\t|beta = 1.0000\n",
      "Solved\t|T = 509.82 K\t|V = 0.6450 kmol/s\t|L = 0.0003 kmol/s\t|s_L = 0.0000\t|beta = 1.0000\n",
      "Solved\t|T = 506.48 K\t|V = 0.6744 kmol/s\t|L = 0.0005 kmol/s\t|s_L = 0.0000\t|beta = 1.0000\n",
      "Solved\t|T = 503.15 K\t|V = 0.7036 kmol/s\t|L = 0.0007 kmol/s\t|s_L = 0.0000\t|beta = 1.0000\n",
      "Solved\t|T = 499.82 K\t|V = 0.7321 kmol/s\t|L = 0.0009 kmol/s\t|s_L = 0.0000\t|beta = 1.0000\n",
      "Solved\t|T = 496.48 K\t|V = 0.7592 kmol/s\t|L = 0.0011 kmol/s\t|s_L = 0.0000\t|beta = 1.0000\n",
      "Solved\t|T = 493.15 K\t|V = 0.7848 kmol/s\t|L = 0.0012 kmol/s\t|s_L = 0.0000\t|beta = 1.0000\n",
      "Solved\t|T = 489.82 K\t|V = 0.8085 kmol/s\t|L = 0.0013 kmol/s\t|s_L = 0.0000\t|beta = 1.0000\n",
      "Solved\t|T = 486.48 K\t|V = 0.8303 kmol/s\t|L = 0.0013 kmol/s\t|s_L = 0.0000\t|beta = 1.0000\n"
     ]
    },
    {
     "name": "stdout",
     "output_type": "stream",
     "text": [
      "Solved\t|T = 483.15 K\t|V = 0.8503 kmol/s\t|L = 0.0013 kmol/s\t|s_L = 0.0000\t|beta = 1.0000\n",
      "Solved\t|T = 479.82 K\t|V = 0.8683 kmol/s\t|L = 0.0012 kmol/s\t|s_L = 0.0000\t|beta = 1.0000\n",
      "Solved\t|T = 476.48 K\t|V = 0.8847 kmol/s\t|L = 0.0011 kmol/s\t|s_L = 0.0000\t|beta = 1.0000\n",
      "Solved\t|T = 473.15 K\t|V = 0.8993 kmol/s\t|L = 0.0010 kmol/s\t|s_L = 0.0000\t|beta = 1.0000\n",
      "\n",
      "Working on Cat = 300.0 kg\n",
      "------------------------------------------------------------------------------------------------------------\n",
      "Solved\t|T = 573.15 K\t|V = 0.4811 kmol/s\t|L = 0.0000 kmol/s\t|s_L = 0.8865\t|beta = 0.1135\n",
      "Solved\t|T = 569.82 K\t|V = 0.4825 kmol/s\t|L = 0.0000 kmol/s\t|s_L = 0.8846\t|beta = 0.1154\n",
      "Solved\t|T = 566.48 K\t|V = 0.4845 kmol/s\t|L = 0.0000 kmol/s\t|s_L = 0.8826\t|beta = 0.1174\n",
      "Solved\t|T = 563.15 K\t|V = 0.4872 kmol/s\t|L = 0.0000 kmol/s\t|s_L = 0.8804\t|beta = 0.1196\n",
      "Solved\t|T = 559.82 K\t|V = 0.4909 kmol/s\t|L = 0.0000 kmol/s\t|s_L = 0.8779\t|beta = 0.1221\n",
      "Solved\t|T = 556.48 K\t|V = 0.4957 kmol/s\t|L = 0.0000 kmol/s\t|s_L = 0.8751\t|beta = 0.1249\n",
      "Solved\t|T = 553.15 K\t|V = 0.5020 kmol/s\t|L = 0.0000 kmol/s\t|s_L = 0.8718\t|beta = 0.1282\n",
      "Solved\t|T = 549.82 K\t|V = 0.5100 kmol/s\t|L = 0.0000 kmol/s\t|s_L = 0.8679\t|beta = 0.1321\n",
      "Solved\t|T = 546.48 K\t|V = 0.5201 kmol/s\t|L = 0.0000 kmol/s\t|s_L = 0.8631\t|beta = 0.1369\n",
      "Solved\t|T = 543.15 K\t|V = 0.5326 kmol/s\t|L = 0.0000 kmol/s\t|s_L = 0.8567\t|beta = 0.1433\n",
      "Solved\t|T = 539.82 K\t|V = 0.5478 kmol/s\t|L = 0.0000 kmol/s\t|s_L = 0.8478\t|beta = 0.1522\n",
      "Solved\t|T = 536.48 K\t|V = 0.5658 kmol/s\t|L = 0.0000 kmol/s\t|s_L = 0.8346\t|beta = 0.1654\n",
      "Solved\t|T = 533.15 K\t|V = 0.5866 kmol/s\t|L = 0.0000 kmol/s\t|s_L = 0.8133\t|beta = 0.1867\n",
      "Solved\t|T = 529.82 K\t|V = 0.6099 kmol/s\t|L = 0.0000 kmol/s\t|s_L = 0.7759\t|beta = 0.2241\n",
      "Solved\t|T = 526.48 K\t|V = 0.6352 kmol/s\t|L = 0.0000 kmol/s\t|s_L = 0.7037\t|beta = 0.2963\n",
      "Solved\t|T = 523.15 K\t|V = 0.6617 kmol/s\t|L = 0.0000 kmol/s\t|s_L = 0.5512\t|beta = 0.4488\n",
      "Solved\t|T = 519.82 K\t|V = 0.6886 kmol/s\t|L = 0.0000 kmol/s\t|s_L = 0.2077\t|beta = 0.7923\n",
      "Solved\t|T = 516.48 K\t|V = 0.7154 kmol/s\t|L = 0.0000 kmol/s\t|s_L = 0.0005\t|beta = 0.9995\n",
      "Solved\t|T = 513.15 K\t|V = 0.7415 kmol/s\t|L = 0.0000 kmol/s\t|s_L = 0.0001\t|beta = 0.9999\n",
      "Solved\t|T = 509.82 K\t|V = 0.7663 kmol/s\t|L = 0.0001 kmol/s\t|s_L = 0.0000\t|beta = 1.0000\n",
      "Solved\t|T = 506.48 K\t|V = 0.7897 kmol/s\t|L = 0.0001 kmol/s\t|s_L = 0.0000\t|beta = 1.0000\n",
      "Solved\t|T = 503.15 K\t|V = 0.8115 kmol/s\t|L = 0.0002 kmol/s\t|s_L = 0.0000\t|beta = 1.0000\n",
      "Solved\t|T = 499.82 K\t|V = 0.8317 kmol/s\t|L = 0.0003 kmol/s\t|s_L = 0.0000\t|beta = 1.0000\n",
      "Solved\t|T = 496.48 K\t|V = 0.8501 kmol/s\t|L = 0.0004 kmol/s\t|s_L = 0.0000\t|beta = 1.0000\n",
      "Solved\t|T = 493.15 K\t|V = 0.8670 kmol/s\t|L = 0.0005 kmol/s\t|s_L = 0.0000\t|beta = 1.0000\n",
      "Solved\t|T = 489.82 K\t|V = 0.8823 kmol/s\t|L = 0.0006 kmol/s\t|s_L = 0.0000\t|beta = 1.0000\n",
      "Solved\t|T = 486.48 K\t|V = 0.8962 kmol/s\t|L = 0.0006 kmol/s\t|s_L = 0.0000\t|beta = 1.0000\n",
      "Solved\t|T = 483.15 K\t|V = 0.9087 kmol/s\t|L = 0.0006 kmol/s\t|s_L = 0.0000\t|beta = 1.0000\n",
      "Solved\t|T = 479.82 K\t|V = 0.9200 kmol/s\t|L = 0.0006 kmol/s\t|s_L = 0.0000\t|beta = 1.0000\n",
      "Solved\t|T = 476.48 K\t|V = 0.9301 kmol/s\t|L = 0.0006 kmol/s\t|s_L = 0.0000\t|beta = 1.0000\n",
      "Solved\t|T = 473.15 K\t|V = 0.9390 kmol/s\t|L = 0.0006 kmol/s\t|s_L = 0.0000\t|beta = 1.0000\n",
      "\n",
      "Working on Cat = 100.0 kg\n",
      "------------------------------------------------------------------------------------------------------------\n",
      "Solved\t|T = 573.15 K\t|V = 0.5799 kmol/s\t|L = 0.0000 kmol/s\t|s_L = 0.9072\t|beta = 0.0928\n",
      "Solved\t|T = 569.82 K\t|V = 0.5962 kmol/s\t|L = 0.0000 kmol/s\t|s_L = 0.9087\t|beta = 0.0913\n",
      "Solved\t|T = 566.48 K\t|V = 0.6145 kmol/s\t|L = 0.0000 kmol/s\t|s_L = 0.9104\t|beta = 0.0896\n",
      "Solved\t|T = 563.15 K\t|V = 0.6344 kmol/s\t|L = 0.0000 kmol/s\t|s_L = 0.9122\t|beta = 0.0878\n",
      "Solved\t|T = 559.82 K\t|V = 0.6556 kmol/s\t|L = 0.0000 kmol/s\t|s_L = 0.9140\t|beta = 0.0860\n",
      "Solved\t|T = 556.48 K\t|V = 0.6777 kmol/s\t|L = 0.0000 kmol/s\t|s_L = 0.9157\t|beta = 0.0843\n",
      "Solved\t|T = 553.15 K\t|V = 0.7002 kmol/s\t|L = 0.0000 kmol/s\t|s_L = 0.9171\t|beta = 0.0829\n",
      "Solved\t|T = 549.82 K\t|V = 0.7226 kmol/s\t|L = 0.0000 kmol/s\t|s_L = 0.9182\t|beta = 0.0818\n",
      "Solved\t|T = 546.48 K\t|V = 0.7447 kmol/s\t|L = 0.0000 kmol/s\t|s_L = 0.9189\t|beta = 0.0811\n",
      "Solved\t|T = 543.15 K\t|V = 0.7660 kmol/s\t|L = 0.0000 kmol/s\t|s_L = 0.9189\t|beta = 0.0811\n",
      "Solved\t|T = 539.82 K\t|V = 0.7864 kmol/s\t|L = 0.0000 kmol/s\t|s_L = 0.9180\t|beta = 0.0820\n",
      "Solved\t|T = 536.48 K\t|V = 0.8057 kmol/s\t|L = 0.0000 kmol/s\t|s_L = 0.9155\t|beta = 0.0845\n",
      "Solved\t|T = 533.15 K\t|V = 0.8238 kmol/s\t|L = 0.0000 kmol/s\t|s_L = 0.9105\t|beta = 0.0895\n",
      "Solved\t|T = 529.82 K\t|V = 0.8407 kmol/s\t|L = 0.0000 kmol/s\t|s_L = 0.9006\t|beta = 0.0994\n",
      "Solved\t|T = 526.48 K\t|V = 0.8563 kmol/s\t|L = 0.0000 kmol/s\t|s_L = 0.8802\t|beta = 0.1198\n",
      "Solved\t|T = 523.15 K\t|V = 0.8707 kmol/s\t|L = 0.0000 kmol/s\t|s_L = 0.8356\t|beta = 0.1644\n",
      "Solved\t|T = 519.82 K\t|V = 0.8840 kmol/s\t|L = 0.0000 kmol/s\t|s_L = 0.7329\t|beta = 0.2671\n",
      "Solved\t|T = 516.48 K\t|V = 0.8961 kmol/s\t|L = 0.0000 kmol/s\t|s_L = 0.4893\t|beta = 0.5107\n",
      "Solved\t|T = 513.15 K\t|V = 0.9072 kmol/s\t|L = 0.0000 kmol/s\t|s_L = 0.0468\t|beta = 0.9532\n",
      "Solved\t|T = 509.82 K\t|V = 0.9172 kmol/s\t|L = 0.0000 kmol/s\t|s_L = 0.0006\t|beta = 0.9994\n",
      "Solved\t|T = 506.48 K\t|V = 0.9263 kmol/s\t|L = 0.0000 kmol/s\t|s_L = 0.0001\t|beta = 0.9999\n",
      "Solved\t|T = 503.15 K\t|V = 0.9346 kmol/s\t|L = 0.0000 kmol/s\t|s_L = 0.0000\t|beta = 1.0000\n",
      "Solved\t|T = 499.82 K\t|V = 0.9420 kmol/s\t|L = 0.0000 kmol/s\t|s_L = 0.0000\t|beta = 1.0000\n",
      "Solved\t|T = 496.48 K\t|V = 0.9487 kmol/s\t|L = 0.0001 kmol/s\t|s_L = 0.0000\t|beta = 1.0000\n",
      "Solved\t|T = 493.15 K\t|V = 0.9547 kmol/s\t|L = 0.0001 kmol/s\t|s_L = 0.0000\t|beta = 1.0000\n",
      "Solved\t|T = 489.82 K\t|V = 0.9601 kmol/s\t|L = 0.0001 kmol/s\t|s_L = 0.0000\t|beta = 1.0000\n",
      "Solved\t|T = 486.48 K\t|V = 0.9649 kmol/s\t|L = 0.0001 kmol/s\t|s_L = 0.0000\t|beta = 1.0000\n",
      "Solved\t|T = 483.15 K\t|V = 0.9692 kmol/s\t|L = 0.0001 kmol/s\t|s_L = 0.0000\t|beta = 1.0000\n",
      "Solved\t|T = 479.82 K\t|V = 0.9731 kmol/s\t|L = 0.0002 kmol/s\t|s_L = 0.0000\t|beta = 1.0000\n",
      "Solved\t|T = 476.48 K\t|V = 0.9765 kmol/s\t|L = 0.0002 kmol/s\t|s_L = 0.0000\t|beta = 1.0000\n",
      "Solved\t|T = 473.15 K\t|V = 0.9795 kmol/s\t|L = 0.0001 kmol/s\t|s_L = 0.0000\t|beta = 1.0000\n",
      "\n",
      "Working on Cat = 50.0 kg\n",
      "------------------------------------------------------------------------------------------------------------\n",
      "Solved\t|T = 573.15 K\t|V = 0.7239 kmol/s\t|L = 0.0000 kmol/s\t|s_L = 0.9264\t|beta = 0.0736\n",
      "Solved\t|T = 569.82 K\t|V = 0.7440 kmol/s\t|L = 0.0000 kmol/s\t|s_L = 0.9282\t|beta = 0.0718\n",
      "Solved\t|T = 566.48 K\t|V = 0.7635 kmol/s\t|L = 0.0000 kmol/s\t|s_L = 0.9298\t|beta = 0.0702\n",
      "Solved\t|T = 563.15 K\t|V = 0.7824 kmol/s\t|L = 0.0000 kmol/s\t|s_L = 0.9313\t|beta = 0.0687\n",
      "Solved\t|T = 559.82 K\t|V = 0.8004 kmol/s\t|L = 0.0000 kmol/s\t|s_L = 0.9326\t|beta = 0.0674\n",
      "Solved\t|T = 556.48 K\t|V = 0.8175 kmol/s\t|L = 0.0000 kmol/s\t|s_L = 0.9338\t|beta = 0.0662\n",
      "Solved\t|T = 553.15 K\t|V = 0.8336 kmol/s\t|L = 0.0000 kmol/s\t|s_L = 0.9348\t|beta = 0.0652\n",
      "Solved\t|T = 549.82 K\t|V = 0.8486 kmol/s\t|L = 0.0000 kmol/s\t|s_L = 0.9355\t|beta = 0.0645\n",
      "Solved\t|T = 546.48 K\t|V = 0.8626 kmol/s\t|L = 0.0000 kmol/s\t|s_L = 0.9360\t|beta = 0.0640\n",
      "Solved\t|T = 543.15 K\t|V = 0.8756 kmol/s\t|L = 0.0000 kmol/s\t|s_L = 0.9362\t|beta = 0.0638\n",
      "Solved\t|T = 539.82 K\t|V = 0.8875 kmol/s\t|L = 0.0000 kmol/s\t|s_L = 0.9359\t|beta = 0.0641\n",
      "Solved\t|T = 536.48 K\t|V = 0.8985 kmol/s\t|L = 0.0000 kmol/s\t|s_L = 0.9349\t|beta = 0.0651\n",
      "Solved\t|T = 533.15 K\t|V = 0.9086 kmol/s\t|L = 0.0000 kmol/s\t|s_L = 0.9327\t|beta = 0.0673\n",
      "Solved\t|T = 529.82 K\t|V = 0.9178 kmol/s\t|L = 0.0000 kmol/s\t|s_L = 0.9281\t|beta = 0.0719\n",
      "Solved\t|T = 526.48 K\t|V = 0.9263 kmol/s\t|L = 0.0000 kmol/s\t|s_L = 0.9184\t|beta = 0.0816\n",
      "Solved\t|T = 523.15 K\t|V = 0.9339 kmol/s\t|L = 0.0000 kmol/s\t|s_L = 0.8966\t|beta = 0.1034\n",
      "Solved\t|T = 519.82 K\t|V = 0.9409 kmol/s\t|L = 0.0000 kmol/s\t|s_L = 0.8457\t|beta = 0.1543\n",
      "Solved\t|T = 516.48 K\t|V = 0.9472 kmol/s\t|L = 0.0000 kmol/s\t|s_L = 0.7260\t|beta = 0.2740\n",
      "Solved\t|T = 513.15 K\t|V = 0.9529 kmol/s\t|L = 0.0000 kmol/s\t|s_L = 0.4561\t|beta = 0.5439\n",
      "Solved\t|T = 509.82 K\t|V = 0.9581 kmol/s\t|L = 0.0000 kmol/s\t|s_L = 0.0324\t|beta = 0.9676\n",
      "Solved\t|T = 506.48 K\t|V = 0.9628 kmol/s\t|L = 0.0000 kmol/s\t|s_L = 0.0009\t|beta = 0.9991\n",
      "Solved\t|T = 503.15 K\t|V = 0.9670 kmol/s\t|L = 0.0000 kmol/s\t|s_L = 0.0002\t|beta = 0.9998\n",
      "Solved\t|T = 499.82 K\t|V = 0.9708 kmol/s\t|L = 0.0000 kmol/s\t|s_L = 0.0001\t|beta = 0.9999\n"
     ]
    },
    {
     "name": "stdout",
     "output_type": "stream",
     "text": [
      "Solved\t|T = 496.48 K\t|V = 0.9742 kmol/s\t|L = 0.0000 kmol/s\t|s_L = 0.0001\t|beta = 0.9999\n",
      "Solved\t|T = 493.15 K\t|V = 0.9772 kmol/s\t|L = 0.0000 kmol/s\t|s_L = 0.0000\t|beta = 1.0000\n",
      "Solved\t|T = 489.82 K\t|V = 0.9800 kmol/s\t|L = 0.0000 kmol/s\t|s_L = 0.0000\t|beta = 1.0000\n",
      "Solved\t|T = 486.48 K\t|V = 0.9824 kmol/s\t|L = 0.0001 kmol/s\t|s_L = 0.0000\t|beta = 1.0000\n",
      "Solved\t|T = 483.15 K\t|V = 0.9846 kmol/s\t|L = 0.0001 kmol/s\t|s_L = 0.0000\t|beta = 1.0000\n",
      "Solved\t|T = 479.82 K\t|V = 0.9865 kmol/s\t|L = 0.0001 kmol/s\t|s_L = 0.0000\t|beta = 1.0000\n",
      "Solved\t|T = 476.48 K\t|V = 0.9882 kmol/s\t|L = 0.0001 kmol/s\t|s_L = 0.0000\t|beta = 1.0000\n",
      "Solved\t|T = 473.15 K\t|V = 0.9898 kmol/s\t|L = 0.0001 kmol/s\t|s_L = 0.0000\t|beta = 1.0000\n",
      "\n",
      "Working on Cat = 10.0 kg\n",
      "------------------------------------------------------------------------------------------------------------\n",
      "Solved\t|T = 573.15 K\t|V = 0.9363 kmol/s\t|L = 0.0000 kmol/s\t|s_L = 0.9438\t|beta = 0.0562\n",
      "Solved\t|T = 569.82 K\t|V = 0.9421 kmol/s\t|L = 0.0000 kmol/s\t|s_L = 0.9444\t|beta = 0.0556\n",
      "Solved\t|T = 566.48 K\t|V = 0.9474 kmol/s\t|L = 0.0000 kmol/s\t|s_L = 0.9451\t|beta = 0.0549\n",
      "Solved\t|T = 563.15 K\t|V = 0.9523 kmol/s\t|L = 0.0000 kmol/s\t|s_L = 0.9457\t|beta = 0.0543\n",
      "Solved\t|T = 559.82 K\t|V = 0.9568 kmol/s\t|L = 0.0000 kmol/s\t|s_L = 0.9462\t|beta = 0.0538\n",
      "Solved\t|T = 556.48 K\t|V = 0.9610 kmol/s\t|L = 0.0000 kmol/s\t|s_L = 0.9467\t|beta = 0.0533\n",
      "Solved\t|T = 553.15 K\t|V = 0.9647 kmol/s\t|L = 0.0000 kmol/s\t|s_L = 0.9472\t|beta = 0.0528\n",
      "Solved\t|T = 549.82 K\t|V = 0.9682 kmol/s\t|L = 0.0000 kmol/s\t|s_L = 0.9477\t|beta = 0.0523\n",
      "Solved\t|T = 546.48 K\t|V = 0.9713 kmol/s\t|L = 0.0000 kmol/s\t|s_L = 0.9481\t|beta = 0.0519\n",
      "Solved\t|T = 543.15 K\t|V = 0.9742 kmol/s\t|L = 0.0000 kmol/s\t|s_L = 0.9484\t|beta = 0.0516\n",
      "Solved\t|T = 539.82 K\t|V = 0.9768 kmol/s\t|L = 0.0000 kmol/s\t|s_L = 0.9487\t|beta = 0.0513\n",
      "Solved\t|T = 536.48 K\t|V = 0.9791 kmol/s\t|L = 0.0000 kmol/s\t|s_L = 0.9488\t|beta = 0.0512\n",
      "Solved\t|T = 533.15 K\t|V = 0.9813 kmol/s\t|L = 0.0000 kmol/s\t|s_L = 0.9486\t|beta = 0.0514\n",
      "Solved\t|T = 529.82 K\t|V = 0.9832 kmol/s\t|L = 0.0000 kmol/s\t|s_L = 0.9480\t|beta = 0.0520\n",
      "Solved\t|T = 526.48 K\t|V = 0.9850 kmol/s\t|L = 0.0000 kmol/s\t|s_L = 0.9464\t|beta = 0.0536\n",
      "Solved\t|T = 523.15 K\t|V = 0.9866 kmol/s\t|L = 0.0000 kmol/s\t|s_L = 0.9419\t|beta = 0.0581\n",
      "Solved\t|T = 519.82 K\t|V = 0.9880 kmol/s\t|L = 0.0000 kmol/s\t|s_L = 0.9308\t|beta = 0.0692\n",
      "Solved\t|T = 516.48 K\t|V = 0.9893 kmol/s\t|L = 0.0000 kmol/s\t|s_L = 0.9081\t|beta = 0.0919\n",
      "Solved\t|T = 513.15 K\t|V = 0.9905 kmol/s\t|L = 0.0000 kmol/s\t|s_L = 0.8605\t|beta = 0.1395\n",
      "Solved\t|T = 509.82 K\t|V = 0.9916 kmol/s\t|L = 0.0000 kmol/s\t|s_L = 0.7585\t|beta = 0.2415\n",
      "Solved\t|T = 506.48 K\t|V = 0.9925 kmol/s\t|L = 0.0000 kmol/s\t|s_L = 0.5421\t|beta = 0.4579\n",
      "Solved\t|T = 503.15 K\t|V = 0.9934 kmol/s\t|L = 0.0000 kmol/s\t|s_L = 0.1453\t|beta = 0.8547\n",
      "Solved\t|T = 499.82 K\t|V = 0.9941 kmol/s\t|L = 0.0000 kmol/s\t|s_L = 0.0037\t|beta = 0.9963\n",
      "Solved\t|T = 496.48 K\t|V = 0.9948 kmol/s\t|L = 0.0000 kmol/s\t|s_L = 0.0011\t|beta = 0.9989\n",
      "Solved\t|T = 493.15 K\t|V = 0.9954 kmol/s\t|L = 0.0000 kmol/s\t|s_L = 0.0005\t|beta = 0.9995\n",
      "Solved\t|T = 489.82 K\t|V = 0.9960 kmol/s\t|L = 0.0000 kmol/s\t|s_L = 0.0003\t|beta = 0.9997\n",
      "Solved\t|T = 486.48 K\t|V = 0.9965 kmol/s\t|L = 0.0000 kmol/s\t|s_L = 0.0002\t|beta = 0.9998\n",
      "Solved\t|T = 483.15 K\t|V = 0.9969 kmol/s\t|L = 0.0000 kmol/s\t|s_L = 0.0002\t|beta = 0.9998\n",
      "Solved\t|T = 479.82 K\t|V = 0.9973 kmol/s\t|L = 0.0000 kmol/s\t|s_L = 0.0001\t|beta = 0.9999\n",
      "Solved\t|T = 476.48 K\t|V = 0.9976 kmol/s\t|L = 0.0000 kmol/s\t|s_L = 0.0001\t|beta = 0.9999\n",
      "Solved\t|T = 473.15 K\t|V = 0.9980 kmol/s\t|L = 0.0000 kmol/s\t|s_L = 0.0001\t|beta = 0.9999\n"
     ]
    }
   ],
   "source": [
    "rf_data_master = {}\n",
    "\n",
    "for c in catrange:\n",
    "    model.del_component(model.obj)\n",
    "    model.obj = pe.Objective(expr = model.cat + model.rho*\\\n",
    "                (sum(model.L[s] for s in model.outlet)*model.s_L + sum(model.V[s] for s in model.outlet)*model.s_V) ,sense=pe.minimize)\n",
    "\n",
    "    model.solutions.load_from(results_anchor)\n",
    "    update_dual(pe,model) \n",
    "       \n",
    "    model.T.fix(300+273.15)\n",
    "    model.cat.fixed = False\n",
    "    model.cat.setlb(c)\n",
    "    model.rho = 1\n",
    "    \n",
    "    results_anchor = opt.solve(model,tee=False)\n",
    "    model.solutions.store_to(results_anchor)\n",
    "    update_dual(pe,model)\n",
    "    \n",
    "    model.del_component(model.obj)\n",
    "    model.obj = pe.Objective(expr = model.T - model.rho*\\\n",
    "            (sum(model.L[s] for s in model.outlet)*model.s_L + sum(model.V[s] for s in model.outlet)*model.s_V) ,sense=pe.maximize)\n",
    "    model.T.fixed = False\n",
    "    model.cat.fixed = True\n",
    "    model.rho = 1\n",
    "    \n",
    "    \n",
    "    print('\\nWorking on Cat = {} kg'.format(model.cat.value))\n",
    "    print('-'*108)\n",
    "    \n",
    "    rf_data = {}\n",
    "    rf_data['x'] = {};rf_data['y'] = {};\n",
    "    rf_data['T'] = []; rf_data['Q'] = []; rf_data['V'] = []; rf_data['L'] = []; rf_data['beta'] = []; \n",
    "    rf_data['s_L'] = [];\n",
    "    for i in m.COMP_TOTAL:\n",
    "        rf_data['x'][i] = []\n",
    "        rf_data['y'][i] = []       \n",
    "\n",
    "    for t in Trange:\n",
    "        model.T.setub(t)\n",
    "        results = opt.solve(model,tee=False)\n",
    "        update_dual(pe,model)\n",
    "        model.T.setub(300+273.15)\n",
    "        print('Solved\\t|T = {:.2f} K\\t|V = {:.4f} kmol/s\\t|L = {:.4f} kmol/s\\t|s_L = {:.4f}\\t|beta = {:.4f}'.\\\n",
    "              format(model.T.value,model.V['out'].value,model.L['out'].value,model.s_L.value,model.beta.value))\n",
    "    \n",
    "        rf_data['T'].append(model.T.value)\n",
    "        rf_data['Q'].append(model.Q_main.value)\n",
    "        rf_data['V'].append(model.V['out'].value)\n",
    "        rf_data['L'].append(model.L['out'].value)\n",
    "        rf_data['beta'].append(model.beta.value)\n",
    "        rf_data['s_L'].append(model.s_L.value)\n",
    "\n",
    "        for i in m.COMP_TOTAL:\n",
    "            rf_data['x'][i].append(model.x[i].value)\n",
    "            rf_data['y'][i].append(model.y[i].value)\n",
    "        \n",
    "    rf_data_master[c] = rf_data"
   ]
  },
  {
   "cell_type": "markdown",
   "metadata": {},
   "source": [
    "# Optimization results across disappearing phases"
   ]
  },
  {
   "cell_type": "code",
   "execution_count": 54,
   "metadata": {},
   "outputs": [
    {
     "data": {
      "image/png": "[encoded data removed]",
      "text/plain": [
       "<Figure size 1152x648 with 2 Axes>"
      ]
     },
     "metadata": {},
     "output_type": "display_data"
    }
   ],
   "source": [
    "fig, (ax1,ax2) = plt.subplots(1,2,figsize=(16,9))\n",
    "for c in catrange:\n",
    "    ax1.plot(Trange,rf_data_master[c]['V'])\n",
    "\n",
    "\n",
    "\n",
    "for c in catrange:\n",
    "    ax2.plot(Trange,rf_data_master[c]['L'])\n",
    "    \n",
    "ax2.legend(catrange)\n",
    "\n",
    "plt.tight_layout()\n",
    "plt.show()"
   ]
  },
  {
   "cell_type": "code",
   "execution_count": 53,
   "metadata": {},
   "outputs": [
    {
     "data": {
      "image/png": "[encoded data removed]",
      "text/plain": [
       "<Figure size 1152x648 with 1 Axes>"
      ]
     },
     "metadata": {},
     "output_type": "display_data"
    }
   ],
   "source": [
    "fig, ax1 = plt.subplots(figsize=(16,9))\n",
    "for c in catrange:\n",
    "    ax1.plot(Trange,np.divide(rf_data_master[c]['V'],np.add(rf_data_master[c]['V'],rf_data_master[c]['L'])))\n",
    "\n",
    "ax1.legend(catrange)\n",
    "plt.show()"
   ]
  },
  {
   "cell_type": "code",
   "execution_count": 56,
   "metadata": {},
   "outputs": [
    {
     "data": {
      "image/png": "[encoded data removed]",
      "text/plain": [
       "<Figure size 1152x648 with 1 Axes>"
      ]
     },
     "metadata": {},
     "output_type": "display_data"
    }
   ],
   "source": [
    "fig, ax1 = plt.subplots(figsize=(16,9))\n",
    "for c in catrange:\n",
    "    ax1.plot(Trange,rf_data_master[c]['beta'])\n",
    "\n",
    "ax1.legend(catrange)\n",
    "plt.show()"
   ]
  },
  {
   "cell_type": "code",
   "execution_count": 62,
   "metadata": {},
   "outputs": [
    {
     "data": {
      "image/png": "[encoded data removed]",
      "text/plain": [
       "<Figure size 1152x648 with 1 Axes>"
      ]
     },
     "metadata": {},
     "output_type": "display_data"
    }
   ],
   "source": [
    "fig, ax1 = plt.subplots(figsize=(16,9))\n",
    "for c in catrange:\n",
    "    ax1.plot(Trange,np.multiply(rf_data_master[c]['s_L'],rf_data_master[c]['L']))\n",
    "\n",
    "ax1.legend(catrange)\n",
    "plt.show()"
   ]
  },
  {
   "cell_type": "code",
   "execution_count": null,
   "metadata": {},
   "outputs": [],
   "source": []
  }
 ],
 "metadata": {
  "kernelspec": {
   "display_name": "Python 3",
   "language": "python",
   "name": "python3"
  },
  "language_info": {
   "codemirror_mode": {
    "name": "ipython",
    "version": 3
   },
   "file_extension": ".py",
   "mimetype": "text/x-python",
   "name": "python",
   "nbconvert_exporter": "python",
   "pygments_lexer": "ipython3",
   "version": "3.6.3"
  }
 },
 "nbformat": 4,
 "nbformat_minor": 2
}
