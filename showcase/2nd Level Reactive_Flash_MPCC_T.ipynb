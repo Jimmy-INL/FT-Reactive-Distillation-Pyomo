{
 "cells": [
  {
   "cell_type": "markdown",
   "metadata": {
    "slideshow": {
     "slide_type": "slide"
    }
   },
   "source": [
    "# 2nd Level Model Structure: Reactive Stage"
   ]
  },
  {
   "cell_type": "code",
   "execution_count": 1,
   "metadata": {},
   "outputs": [],
   "source": [
    "import sys\n",
    "import os\n",
    "import pickle\n",
    "sys.path.append(os.path.abspath('..'))\n",
    "import numpy as np\n",
    "from matplotlib import pyplot as plt"
   ]
  },
  {
   "cell_type": "code",
   "execution_count": 2,
   "metadata": {
    "slideshow": {
     "slide_type": "fragment"
    }
   },
   "outputs": [],
   "source": [
    "from pyomo import environ as pe\n",
    "from global_sets.component import m\n",
    "from utility.display_utility import trans_product_mole, trans_product_mass\n",
    "from utility.model_utility import add_dual, update_dual, check_DOF\n",
    "\n",
    "# stage construction rules\n",
    "from physics.kinetics_bounded import kinetic_block_rule\n",
    "from physics.energy_bounded import energy_block_rule\n",
    "from physics.VLE_bounded_MPCC_T import VLE_block_rule\n",
    "from physics.MPCC_T import dew_block_rule\n",
    "\n",
    "model = pe.ConcreteModel()"
   ]
  },
  {
   "cell_type": "markdown",
   "metadata": {
    "slideshow": {
     "slide_type": "subslide"
    }
   },
   "source": [
    "# Global Sets (Inlet / Outlet)"
   ]
  },
  {
   "cell_type": "code",
   "execution_count": 3,
   "metadata": {
    "slideshow": {
     "slide_type": "fragment"
    }
   },
   "outputs": [],
   "source": [
    "model.inlet = pe.Set(initialize=['in'])\n",
    "model.outlet = pe.Set(initialize=['out','P'])\n",
    "model.stream = model.inlet | model.outlet"
   ]
  },
  {
   "cell_type": "markdown",
   "metadata": {
    "slideshow": {
     "slide_type": "subslide"
    }
   },
   "source": [
    "# Global Variables"
   ]
  },
  {
   "cell_type": "code",
   "execution_count": 4,
   "metadata": {
    "slideshow": {
     "slide_type": "fragment"
    }
   },
   "outputs": [],
   "source": [
    "# Tray Inlet/Outlet Variable\n",
    "model.x_ = pe.Var(model.inlet,m.COMP_TOTAL,within=pe.NonNegativeReals)\n",
    "model.y_ = pe.Var(model.inlet,m.COMP_TOTAL,within=pe.NonNegativeReals)\n",
    "model.x = pe.Var(m.COMP_TOTAL,within=pe.NonNegativeReals)\n",
    "model.y = pe.Var(m.COMP_TOTAL,within=pe.NonNegativeReals)\n",
    "model.z = pe.Var(m.COMP_FEED,within=pe.NonNegativeReals)\n",
    "\n",
    "model.L = pe.Var(model.stream,within=pe.NonNegativeReals)\n",
    "model.V = pe.Var(model.stream,within=pe.NonNegativeReals)\n",
    "model.F = pe.Var(within=pe.NonNegativeReals)\n",
    "\n",
    "model.H_L_ = pe.Var(model.inlet,within=pe.Reals)\n",
    "model.H_V_ = pe.Var(model.inlet,within=pe.Reals)\n",
    "model.H_L = pe.Var(within=pe.Reals)\n",
    "model.H_V = pe.Var(within=pe.Reals)\n",
    "model.H_F = pe.Var(within=pe.Reals)\n",
    "\n",
    "# State Variable\n",
    "model.T = pe.Var(within=pe.NonNegativeReals,bounds=(200+273.15,300+273.15)) # K\n",
    "model.T_F = pe.Var(within=pe.NonNegativeReals) # K\n",
    "model.P = pe.Var(within=pe.NonNegativeReals,bounds=(10,30)) # Bar\n",
    "\n",
    "model.f_V = pe.Var(m.COMP_TOTAL,within=pe.NonNegativeReals,initialize=1e-20)\n",
    "model.f_L = pe.Var(m.COMP_TOTAL,within=pe.NonNegativeReals,initialize=1e-20)\n",
    "\n",
    "model.cat = pe.Var(within=pe.NonNegativeReals,initialize=3000) # kg\n",
    "model.Q_main = pe.Var(within=pe.Reals) # MW\n",
    "model.r_total_comp = pe.Var(m.COMP_TOTAL,within=pe.Reals) # kmol/s"
   ]
  },
  {
   "cell_type": "markdown",
   "metadata": {
    "slideshow": {
     "slide_type": "slide"
    }
   },
   "source": [
    "# Construct Individual Blocks"
   ]
  },
  {
   "cell_type": "code",
   "execution_count": 5,
   "metadata": {
    "slideshow": {
     "slide_type": "subslide"
    }
   },
   "outputs": [
    {
     "name": "stdout",
     "output_type": "stream",
     "text": [
      "> Importing Kinetics Blocks......\n",
      "> Adding the following local variable:\n",
      "--------------------------------------------------\n",
      "| kinetics_block.k_FT\n",
      "| kinetics_block.r_FT_total\n",
      "| kinetics_block.g0_FT\n",
      "| kinetics_block.alpha\n",
      "| kinetics_block.r_FT_cnum\n",
      "| kinetics_block.r_FT_comp\n",
      "| kinetics_block.k_WGS\n",
      "| kinetics_block.Ke_WGS\n",
      "| kinetics_block.r_WGS\n",
      "| kinetics_block.r_WGS_comp\n",
      "--------------------------------------------------\n",
      "\n"
     ]
    }
   ],
   "source": [
    "model.kinetics_block = pe.Block(rule=kinetic_block_rule)"
   ]
  },
  {
   "cell_type": "code",
   "execution_count": 6,
   "metadata": {
    "slideshow": {
     "slide_type": "subslide"
    }
   },
   "outputs": [
    {
     "name": "stdout",
     "output_type": "stream",
     "text": [
      "> Importing Energy Blocks......\n",
      "> Adding the following local variable:\n",
      "--------------------------------------------------\n",
      "| energy_block.dH_F\n",
      "| energy_block.dH_V\n",
      "| energy_block.dH_L\n",
      "| energy_block.dH_vap\n",
      "--------------------------------------------------\n",
      "\n"
     ]
    }
   ],
   "source": [
    "model.energy_block = pe.Block(rule=energy_block_rule)"
   ]
  },
  {
   "cell_type": "code",
   "execution_count": 7,
   "metadata": {
    "scrolled": false,
    "slideshow": {
     "slide_type": "subslide"
    }
   },
   "outputs": [
    {
     "name": "stdout",
     "output_type": "stream",
     "text": [
      "> Importing VLE Blocks......\n",
      "> Adding the following local variable:\n",
      "--------------------------------------------------\n",
      "| VLE_block.T_VLE\n",
      "| VLE_block.n_ave\n",
      "| VLE_block.n_ave_cal\n",
      "| VLE_block.Hen\n",
      "| VLE_block.Hen0\n",
      "| VLE_block.gamma\n",
      "| VLE_block.P_sat\n",
      "| VLE_block.P_sat_Y\n",
      "| VLE_block.P_sat_dY_inf\n",
      "| VLE_block.P_sat_dY0\n",
      "| VLE_block.Hen_ref\n",
      "| VLE_block.Hen0_ref\n",
      "| VLE_block.gamma_ref\n",
      "| VLE_block.V_L\n",
      "| VLE_block.V_L_dY_inf\n",
      "| VLE_block.V_L_dY0\n",
      "| VLE_block.poynting\n",
      "--------------------------------------------------\n",
      "\n"
     ]
    }
   ],
   "source": [
    "model.VLE_block = pe.Block(rule=VLE_block_rule)"
   ]
  },
  {
   "cell_type": "markdown",
   "metadata": {
    "slideshow": {
     "slide_type": "slide"
    }
   },
   "source": [
    "# Standard MESH Equations"
   ]
  },
  {
   "cell_type": "markdown",
   "metadata": {
    "slideshow": {
     "slide_type": "subslide"
    }
   },
   "source": [
    "## Mass Balance"
   ]
  },
  {
   "cell_type": "markdown",
   "metadata": {
    "slideshow": {
     "slide_type": "fragment"
    }
   },
   "source": [
    "\\begin{equation}\n",
    "Fz_{i}+\\sum_{s\\in{inlet}}L_{s}x'_{i,s}+\\sum_{s\\in{inlet}}V_{s}y'_{i,s}-\\sum_{s\\in{outlet}}L_{s}x_{i,s}-\\sum_{s\\in{ouelet}}V_{s}y_{i,s}+R_{i} = 0 \\\\\n",
    "i = 1,...NC\n",
    "\\end{equation}"
   ]
  },
  {
   "cell_type": "code",
   "execution_count": 8,
   "metadata": {
    "slideshow": {
     "slide_type": "fragment"
    }
   },
   "outputs": [],
   "source": [
    "def mass_balance_main_rule(model,i):\n",
    "    if i in m.COMP_FEED:\n",
    "        return model.F*model.z[i] + sum(model.L[s]*model.x_[s,i] + model.V[s]*model.y_[s,i] for s in model.inlet)\\\n",
    "        + model.r_total_comp[i] - sum(model.L[s]*model.x[i] + model.V[s]*model.y[i] for s in model.outlet) == 0\n",
    "    else:\n",
    "        return sum(model.L[s]*model.x_[s,i] + model.V[s]*model.y_[s,i] for s in model.inlet)\\\n",
    "        + model.r_total_comp[i] - sum(model.L[s]*model.x[i] + model.V[s]*model.y[i] for s in model.outlet) == 0\n",
    "model.mass_balance_main_con = pe.Constraint(m.COMP_TOTAL,rule=mass_balance_main_rule)"
   ]
  },
  {
   "cell_type": "markdown",
   "metadata": {
    "slideshow": {
     "slide_type": "subslide"
    }
   },
   "source": [
    "## Equilibrium"
   ]
  },
  {
   "cell_type": "markdown",
   "metadata": {
    "slideshow": {
     "slide_type": "fragment"
    }
   },
   "source": [
    "\\begin{align}\n",
    "&f_{i,V} = f_{i,L} \\\\\n",
    "&i = 1,...NC\n",
    "\\end{align}"
   ]
  },
  {
   "cell_type": "code",
   "execution_count": 9,
   "metadata": {
    "slideshow": {
     "slide_type": "fragment"
    }
   },
   "outputs": [],
   "source": [
    "def VL_equil_rule(model,i):\n",
    "    return model.f_V[i] == model.f_L[i]\n",
    "model.VL_equil_con = pe.Constraint(m.COMP_TOTAL,rule=VL_equil_rule)"
   ]
  },
  {
   "cell_type": "markdown",
   "metadata": {},
   "source": [
    "## MPCC: T"
   ]
  },
  {
   "cell_type": "code",
   "execution_count": 10,
   "metadata": {
    "scrolled": false
   },
   "outputs": [
    {
     "name": "stdout",
     "output_type": "stream",
     "text": [
      "> Importing dew Blocks......\n",
      "> Adding the following local variable:\n",
      "------------------------------------\n",
      "| MPCC.x\n",
      "| MPCC.y\n",
      "| MPCC.T\n",
      "| MPCC.P\n",
      "| MPCC.f_V\n",
      "| MPCC.f_L\n",
      "| MPCC.beta\n",
      "| MPCC.s_L\n",
      "| MPCC.s_V\n",
      "| MPCC.epi\n",
      "------------------------------------\n",
      "\n",
      "> Importing VLE Blocks......\n",
      "> Adding the following local variable:\n",
      "--------------------------------------------------\n",
      "| MPCC.VLE_block.n_ave\n",
      "| MPCC.VLE_block.n_ave_cal\n",
      "| MPCC.VLE_block.Hen\n",
      "| MPCC.VLE_block.Hen0\n",
      "| MPCC.VLE_block.gamma\n",
      "| MPCC.VLE_block.P_sat\n",
      "| MPCC.VLE_block.P_sat_Y\n",
      "| MPCC.VLE_block.P_sat_dY_inf\n",
      "| MPCC.VLE_block.P_sat_dY0\n",
      "| MPCC.VLE_block.Hen_ref\n",
      "| MPCC.VLE_block.Hen0_ref\n",
      "| MPCC.VLE_block.gamma_ref\n",
      "| MPCC.VLE_block.V_L\n",
      "| MPCC.VLE_block.V_L_dY_inf\n",
      "| MPCC.VLE_block.V_L_dY0\n",
      "| MPCC.VLE_block.poynting\n",
      "--------------------------------------------------\n",
      "\n"
     ]
    }
   ],
   "source": [
    "model.MPCC = pe.Block(rule=dew_block_rule)"
   ]
  },
  {
   "cell_type": "markdown",
   "metadata": {
    "slideshow": {
     "slide_type": "subslide"
    }
   },
   "source": [
    "## Summation"
   ]
  },
  {
   "cell_type": "markdown",
   "metadata": {
    "slideshow": {
     "slide_type": "fragment"
    }
   },
   "source": [
    "\\begin{equation}\n",
    "\\sum_ix_{i} = \\sum_iy_{i} \\\\\n",
    "F + L_{in} + V_{in} + R = L_{out} + V_{out}\n",
    "\\end{equation}"
   ]
  },
  {
   "cell_type": "code",
   "execution_count": 11,
   "metadata": {
    "slideshow": {
     "slide_type": "fragment"
    }
   },
   "outputs": [],
   "source": [
    "def summation_x_y_rule(model):\n",
    "    return sum(model.x[i] for i in m.COMP_TOTAL) == sum(model.y[i] for i in m.COMP_TOTAL)\n",
    "model.summation_x_y_con = pe.Constraint(rule=summation_x_y_rule)\n",
    "\n",
    "def summation_total_mass_rule(model):\n",
    "    return model.F + sum(model.L[s] + model.V[s] for s in model.inlet) + sum(model.r_total_comp[i] for i in m.COMP_TOTAL)\\\n",
    "            - sum(model.L[s] + model.V[s] for s in model.outlet) == 0\n",
    "model.summation_total_mass_con = pe.Constraint(rule=summation_total_mass_rule)"
   ]
  },
  {
   "cell_type": "markdown",
   "metadata": {
    "slideshow": {
     "slide_type": "subslide"
    }
   },
   "source": [
    "## Energy Balance"
   ]
  },
  {
   "cell_type": "markdown",
   "metadata": {
    "slideshow": {
     "slide_type": "fragment"
    }
   },
   "source": [
    "\\begin{equation}\n",
    "F H_f+\\sum_{s\\in{inlet}}L_{s}H_{l,s}+\\sum_{s\\in{inlet}}V_{s}H_{v,s}-\\sum_{s\\in{outlet}}L_{s}H_{l,s}-\\sum_{s\\in{outlet}}V_{s}H_{v,s}+Q = 0\n",
    "\\end{equation}"
   ]
  },
  {
   "cell_type": "code",
   "execution_count": 12,
   "metadata": {
    "slideshow": {
     "slide_type": "fragment"
    }
   },
   "outputs": [],
   "source": [
    "def heat_balance_main_rule(model):\n",
    "    return model.F*model.H_F + sum(model.L[s]*model.H_L_[s] + model.V[s]*model.H_V_[s] for s in model.inlet) \\\n",
    "            + model.Q_main - sum(model.L[s]*model.H_L + model.V[s]*model.H_V for s in model.outlet) == 0\n",
    "model.heat_balance_main_con = pe.Constraint(rule=heat_balance_main_rule)"
   ]
  },
  {
   "cell_type": "markdown",
   "metadata": {
    "slideshow": {
     "slide_type": "slide"
    }
   },
   "source": [
    "# Testing"
   ]
  },
  {
   "cell_type": "code",
   "execution_count": 13,
   "metadata": {
    "slideshow": {
     "slide_type": "fragment"
    }
   },
   "outputs": [
    {
     "name": "stdout",
     "output_type": "stream",
     "text": [
      "Created the follow pyomo suffixes:\n",
      "ipopt_zL_out, ipopt_zU_out, ipopt_zL_in, ipopt_zU_in, dual\n"
     ]
    }
   ],
   "source": [
    "add_dual(pe,model)"
   ]
  },
  {
   "cell_type": "markdown",
   "metadata": {
    "slideshow": {
     "slide_type": "fragment"
    }
   },
   "source": [
    "## Fixing In/Product Redundent Flow"
   ]
  },
  {
   "cell_type": "code",
   "execution_count": 14,
   "metadata": {
    "slideshow": {
     "slide_type": "fragment"
    }
   },
   "outputs": [],
   "source": [
    "model.x_.fix(0)\n",
    "model.y_.fix(0)\n",
    "model.L['in'].fix(0)\n",
    "model.L['P'].fix(0)\n",
    "model.V['in'].fix(0)\n",
    "model.V['P'].fix(0)\n",
    "model.H_L_.fix(0)\n",
    "model.H_V_.fix(0)"
   ]
  },
  {
   "cell_type": "markdown",
   "metadata": {
    "slideshow": {
     "slide_type": "subslide"
    }
   },
   "source": [
    "## Fixing Model Parameters"
   ]
  },
  {
   "cell_type": "code",
   "execution_count": 15,
   "metadata": {
    "slideshow": {
     "slide_type": "fragment"
    }
   },
   "outputs": [],
   "source": [
    "model.cat.fix(3000)\n",
    "model.P.fix(20)\n",
    "model.T_F.fix(200+273.15)\n",
    "model.F.fix(1)\n",
    "model.z['CO'].fix(1/(1+0.8)-0/2)\n",
    "model.z['H2'].fix(0.8/(1+0.8)-0/2)\n",
    "model.z['C30H62'].fix(0)\n",
    "model.VLE_block.n_ave.fix(20)"
   ]
  },
  {
   "cell_type": "code",
   "execution_count": 16,
   "metadata": {
    "scrolled": true,
    "slideshow": {
     "slide_type": "fragment"
    }
   },
   "outputs": [
    {
     "name": "stdout",
     "output_type": "stream",
     "text": [
      "Active Equality Constraints:\t 1895\n",
      "Active Inequality Constraints:\t 1\n",
      "Active Variables:\t\t 2071\n",
      "Fixed Variables:\t\t 173\n",
      "DOF:\t\t\t\t 3\n"
     ]
    }
   ],
   "source": [
    "check_DOF(pe,model)"
   ]
  },
  {
   "cell_type": "markdown",
   "metadata": {
    "slideshow": {
     "slide_type": "subslide"
    }
   },
   "source": [
    "## Fix T or to fix Q? we have found that Maximize against an upper bound is most reliable"
   ]
  },
  {
   "cell_type": "code",
   "execution_count": 17,
   "metadata": {
    "slideshow": {
     "slide_type": "fragment"
    }
   },
   "outputs": [],
   "source": [
    "model.T.setub(300+273.15)\n",
    "# model.T.fix(524)"
   ]
  },
  {
   "cell_type": "code",
   "execution_count": 18,
   "metadata": {
    "slideshow": {
     "slide_type": "fragment"
    }
   },
   "outputs": [],
   "source": [
    "# model.obj = pe.Objective(expr = model.L['out'],sense=pe.maximize)\n",
    "# model.obj = pe.Objective(expr = model.cat,sense=pe.minimize)\n",
    "# model.obj = pe.Objective(expr = model.T - model.MPCC.pf ,sense=pe.maximize)\n",
    "model.obj = pe.Objective(expr = model.T ,sense=pe.maximize)"
   ]
  },
  {
   "cell_type": "code",
   "execution_count": 19,
   "metadata": {
    "scrolled": false,
    "slideshow": {
     "slide_type": "fragment"
    }
   },
   "outputs": [
    {
     "name": "stdout",
     "output_type": "stream",
     "text": [
      "Ipopt 3.12.8: print_user_options=yes\n",
      "linear_solver=ma86\n",
      "linear_system_scaling =mc19\n",
      "linear_scaling_on_demand =no\n",
      "max_iter=7000\n",
      "\n",
      "\n",
      "List of user-set options:\n",
      "\n",
      "                                    Name   Value                used\n",
      "                linear_scaling_on_demand = no                    yes\n",
      "                           linear_solver = ma86                  yes\n",
      "                   linear_system_scaling = mc19                  yes\n",
      "                                max_iter = 7000                  yes\n",
      "                      print_user_options = yes                   yes\n",
      "\n",
      "******************************************************************************\n",
      "This program contains Ipopt, a library for large-scale nonlinear optimization.\n",
      " Ipopt is released as open source code under the Eclipse Public License (EPL).\n",
      "         For more information visit http://projects.coin-or.org/Ipopt\n",
      "******************************************************************************\n",
      "\n",
      "This is Ipopt version 3.12.8, running with linear solver ma86.\n",
      "\n",
      "Number of nonzeros in equality constraint Jacobian...:     6433\n",
      "Number of nonzeros in inequality constraint Jacobian.:        2\n",
      "Number of nonzeros in Lagrangian Hessian.............:     8631\n",
      "\n",
      "Total number of variables............................:     1897\n",
      "                     variables with only lower bounds:      700\n",
      "                variables with lower and upper bounds:     1026\n",
      "                     variables with only upper bounds:        0\n",
      "Total number of equality constraints.................:     1895\n",
      "Total number of inequality constraints...............:        1\n",
      "        inequality constraints with only lower bounds:        0\n",
      "   inequality constraints with lower and upper bounds:        0\n",
      "        inequality constraints with only upper bounds:        1\n",
      "\n",
      "iter    objective    inf_pr   inf_du lg(mu)  ||d||  lg(rg) alpha_du alpha_pr  ls\n",
      "   0 -4.7415000e+02 7.97e+03 1.00e+00  -1.0 0.00e+00    -  0.00e+00 0.00e+00   0\n",
      "   1 -4.7416185e+02 7.96e+03 1.63e+02  -1.0 8.92e+03    -  4.71e-04 8.14e-04h  1\n",
      "   2 -4.7417422e+02 7.96e+03 7.06e+02  -1.0 5.14e+02   3.5 9.37e-04 1.91e-04h  1\n",
      "   3r-4.7417422e+02 7.96e+03 9.99e+02   3.8 0.00e+00    -  0.00e+00 3.03e-07R  2\n",
      "   4r-4.7417798e+02 7.96e+03 4.47e+03   3.8 5.84e+05    -  1.52e-03 8.56e-07f  1\n",
      "   5r-4.9025297e+02 4.66e+03 4.45e+03   1.7 4.56e+05    -  3.67e-04 5.78e-03f  1\n",
      "   6 -4.9025517e+02 4.66e+03 2.12e+03  -1.0 1.91e+05    -  3.37e-05 5.04e-05h  1\n",
      "   7 -4.9025934e+02 4.66e+03 2.12e+03  -1.0 6.42e+03    -  1.63e-05 8.87e-05f  1\n",
      "   8r-4.9025934e+02 4.66e+03 9.99e+02   3.6 0.00e+00    -  0.00e+00 3.01e-07R  3\n",
      "   9r-4.9025942e+02 4.66e+03 9.99e+02   3.6 6.35e+05    -  2.06e-04 1.87e-08f  1\n",
      "iter    objective    inf_pr   inf_du lg(mu)  ||d||  lg(rg) alpha_du alpha_pr  ls\n",
      "  10r-5.0969774e+02 8.59e+02 9.95e+02   2.2 6.76e+05    -  1.46e-03 4.44e-03f  1\n",
      "  11 -5.0970538e+02 8.59e+02 4.87e+02  -1.0 8.54e+03    -  4.84e-05 1.89e-04f  1\n",
      "  12r-5.0970538e+02 8.59e+02 9.99e+02   2.8 0.00e+00    -  0.00e+00 2.89e-07R  4\n",
      "  13r-5.0970597e+02 8.59e+02 9.99e+02   2.8 5.54e+05    -  2.69e-04 1.49e-07f  2\n",
      "  14r-5.1442142e+02 5.13e+02 9.97e+02   2.1 4.91e+05    -  3.72e-03 1.42e-03f  1\n",
      "  15 -5.1442496e+02 5.13e+02 8.52e+00  -1.0 5.93e+03    -  7.90e-04 9.31e-05h  1\n",
      "  16 -5.1442563e+02 5.13e+02 5.74e+02  -1.0 4.59e+04    -  1.13e-03 1.91e-05h  1\n",
      "  17 -5.1443491e+02 5.13e+02 4.71e+03  -1.0 5.44e+04    -  1.60e-03 2.66e-04h  1\n",
      "  18r-5.1443491e+02 5.13e+02 1.00e+03   2.7 0.00e+00    -  0.00e+00 3.70e-07R  4\n",
      "  19r-5.1444341e+02 5.13e+02 1.03e+03   2.7 8.54e+04    -  1.19e-03 1.53e-05f  1\n",
      "iter    objective    inf_pr   inf_du lg(mu)  ||d||  lg(rg) alpha_du alpha_pr  ls\n",
      "  20r-5.1553196e+02 5.13e+02 1.06e+03   2.7 7.07e+04    -  4.56e-03 2.36e-03f  1\n",
      "  21r-5.1898719e+02 5.12e+02 1.15e+03   2.0 5.38e+04    -  4.73e-03 9.92e-03f  1\n",
      "  22r-5.2101125e+02 5.11e+02 2.95e+03   2.0 2.14e+04    -  7.34e-03 1.49e-02f  1\n",
      "  23r-5.2239574e+02 5.08e+02 4.08e+03   2.0 9.03e+03    -  2.11e-02 2.44e-02f  1\n",
      "  24r-5.2343065e+02 5.03e+02 3.97e+03   2.0 3.35e+03    -  9.48e-02 4.95e-02f  1\n",
      "  25r-5.2394138e+02 4.94e+02 5.41e+03   1.3 8.80e+02    -  1.21e-01 9.44e-02f  1\n",
      "  26r-5.2401547e+02 4.67e+02 7.98e+03   1.3 8.00e+02    -  1.80e-01 1.26e-01f  1\n",
      "  27r-5.2353459e+02 4.00e+02 1.31e+04   1.3 6.76e+02    -  5.06e-01 3.50e-01f  1\n",
      "  28 -5.2353121e+02 4.00e+02 3.08e+01  -1.0 5.44e+03    -  7.40e-04 6.53e-04h  1\n",
      "  29r-5.2353121e+02 4.00e+02 9.99e+02   2.6 0.00e+00    -  0.00e+00 2.52e-07R  6\n",
      "iter    objective    inf_pr   inf_du lg(mu)  ||d||  lg(rg) alpha_du alpha_pr  ls\n",
      "  30r-5.2353216e+02 3.99e+02 1.70e+04   2.6 5.64e+03    -  1.12e-02 1.12e-04f  1\n",
      "  31r-5.2352719e+02 2.17e+02 4.27e+04   1.9 5.63e+03    -  1.74e-01 3.23e-02f  1\n",
      "  32 -5.2353079e+02 2.17e+02 4.04e+00  -1.0 5.38e+03    -  7.54e-04 6.47e-04h  1\n",
      "  33 -5.2355821e+02 2.17e+02 3.99e+01  -1.0 1.59e+05    -  7.45e-05 2.78e-05h  1\n",
      "  34 -5.2368992e+02 2.17e+02 2.08e+02  -1.0 2.07e+05    -  8.67e-05 1.02e-04h  1\n",
      "  35 -5.2404151e+02 2.17e+02 1.42e+03  -1.0 2.10e+05    -  3.04e-04 2.69e-04h  1\n",
      "  36r-5.2404151e+02 2.17e+02 9.99e+02   2.3 0.00e+00    -  0.00e+00 3.33e-07R  4\n",
      "  37r-5.2404151e+02 2.17e+02 4.45e+03   2.3 1.85e+04    -  6.60e-03 2.90e-06f  1\n",
      "  38r-5.2405033e+02 1.64e+02 1.77e+04   2.3 1.76e+04    -  2.53e-02 2.99e-03f  1\n",
      "  39 -5.2405334e+02 1.64e+02 5.68e+02  -1.0 5.77e+03    -  6.41e-02 8.39e-05h  1\n",
      "iter    objective    inf_pr   inf_du lg(mu)  ||d||  lg(rg) alpha_du alpha_pr  ls\n",
      "  40 -5.2432031e+02 1.64e+02 3.28e+05  -1.0 3.59e+05    -  4.93e-06 1.20e-04f  1\n",
      "  41 -5.2430657e+02 1.64e+02 3.28e+05  -1.0 8.40e+05    -  4.38e-04 2.21e-05h  3\n",
      "  42r-5.2430657e+02 1.64e+02 1.00e+03   2.2 0.00e+00    -  0.00e+00 3.33e-07R 10\n",
      "  43r-5.2430665e+02 1.63e+02 1.12e+04   2.2 2.34e+04    -  2.30e-02 3.38e-05f  1\n",
      "  44r-5.2431473e+02 1.19e+01 2.51e+04   2.2 1.59e+04    -  5.02e-02 1.02e-02f  1\n",
      "  45 -5.2442357e+02 1.19e+01 4.77e+02  -1.0 7.77e+04    -  2.67e-04 2.26e-04h  4\n",
      "  46 -5.2444752e+02 1.19e+01 4.73e+02  -1.0 7.17e+04    -  9.30e-04 5.41e-05h  6\n",
      "  47 -5.2454049e+02 1.19e+01 4.54e+02  -1.0 6.95e+04    -  1.44e-03 2.16e-04h  4\n",
      "  48 -5.2462238e+02 1.19e+01 4.35e+02  -1.0 5.68e+04    -  1.01e-02 2.33e-04h  4\n",
      "  49 -5.2462907e+02 1.19e+01 4.86e+02  -1.0 1.58e+04    -  4.84e-03 6.85e-05h  5\n",
      "iter    objective    inf_pr   inf_du lg(mu)  ||d||  lg(rg) alpha_du alpha_pr  ls\n",
      "  50 -5.2462295e+02 1.19e+01 1.39e+03  -1.0 3.71e+04    -  2.45e-03 2.67e-05h  2\n",
      "  51r-5.2462295e+02 1.19e+01 1.00e+03   0.3 0.00e+00    -  0.00e+00 2.67e-07R  9\n",
      "  52r-5.2460349e+02 1.01e+01 1.56e+03   0.3 2.40e+03    -  9.92e-03 9.90e-04f  1\n",
      "  53r-5.2450960e+02 2.05e+00 1.68e+03   0.3 2.01e+03    -  1.35e-02 1.06e-02f  1\n",
      "  54r-5.2436552e+02 2.03e+00 2.04e+03   0.3 2.14e+03    -  4.28e-02 1.75e-02f  1\n",
      "  55r-5.2392594e+02 1.98e+00 2.38e+03   0.3 2.09e+03    -  1.07e-01 5.78e-02f  1\n",
      "  56 -5.2391875e+02 1.98e+00 2.90e+00  -1.0 8.45e+03    -  1.62e-04 1.37e-04h  1\n",
      "  57r-5.2391875e+02 1.98e+00 9.99e+02   0.3 0.00e+00    -  0.00e+00 2.92e-07R  6\n",
      "  58r-5.2390912e+02 1.98e+00 9.98e+02   0.3 2.05e+03    -  1.91e-02 1.22e-03f  1\n",
      "  59r-5.2376681e+02 1.96e+00 2.78e+03   0.3 1.74e+03    -  1.28e-01 2.04e-02f  1\n",
      "iter    objective    inf_pr   inf_du lg(mu)  ||d||  lg(rg) alpha_du alpha_pr  ls\n",
      "  60r-5.2342990e+02 1.92e+00 4.15e+03   0.3 1.68e+03    -  1.34e-01 5.14e-02f  1\n",
      "  61r-5.2308695e+02 2.50e+00 7.41e+03   0.3 1.26e+03    -  3.01e-01 7.38e-02f  1\n",
      "  62r-5.2186541e+02 5.70e+00 5.15e+03   0.3 9.83e+02    -  2.51e-01 2.73e-01f  1\n",
      "  63r-5.2115341e+02 4.87e+00 8.01e+03   0.3 9.36e+02    -  4.18e-01 1.79e-01f  1\n",
      "  64r-5.1963083e+02 3.82e+00 7.42e+03   0.3 1.12e+03    -  5.47e-01 3.62e-01f  1\n",
      "  65r-5.1960168e+02 3.77e+00 1.40e+04   0.3 3.05e+02    -  9.83e-01 1.50e-02f  1\n",
      "  66r-5.2065903e+02 3.51e+00 6.91e+03   0.3 6.19e+02    -  1.00e+00 4.97e-01f  1\n",
      "  67r-5.2177614e+02 3.62e+00 8.59e+02   0.3 3.13e+02    -  1.00e+00 1.00e+00f  1\n",
      "  68r-5.2178727e+02 2.14e-01 7.70e+01   0.3 2.30e+00    -  1.00e+00 1.00e+00h  1\n",
      "  69 -5.2180017e+02 2.14e-01 1.19e+01  -1.0 8.69e+03    -  1.79e-03 2.37e-04h  3\n",
      "iter    objective    inf_pr   inf_du lg(mu)  ||d||  lg(rg) alpha_du alpha_pr  ls\n",
      "  70 -5.2182190e+02 2.14e-01 2.72e+01  -1.0 9.61e+03    -  2.85e-03 3.61e-04h  4\n",
      "  71 -5.2184440e+02 2.14e-01 4.85e+01  -1.0 9.76e+03    -  5.76e-03 3.68e-04h  5\n",
      "  72 -5.2186337e+02 2.14e-01 6.47e+01  -1.0 9.82e+03    -  6.69e-03 3.08e-04h  6\n",
      "  73 -5.2188177e+02 2.14e-01 7.97e+01  -1.0 9.82e+03    -  5.40e-03 2.99e-04h  6\n"
     ]
    },
    {
     "name": "stdout",
     "output_type": "stream",
     "text": [
      "  74 -5.2189960e+02 2.14e-01 9.67e+01  -1.0 9.82e+03    -  1.12e-02 2.90e-04h  6\n",
      "  75 -5.2191691e+02 2.14e-01 1.11e+02  -1.0 9.81e+03    -  4.65e-03 2.81e-04h  6\n",
      "  76 -5.2195047e+02 2.15e-01 1.95e+02  -1.0 9.80e+03    -  3.89e-02 5.47e-04h  5\n",
      "  77 -5.2198213e+02 2.15e-01 4.55e+02  -1.0 9.77e+03    -  4.60e-03 5.17e-04h  5\n",
      "  78 -5.2201195e+02 2.15e-01 2.29e+03  -1.0 9.74e+03    -  9.21e-02 4.89e-04h  5\n",
      "  79 -5.2250379e+02 1.13e+00 1.08e+06  -1.0 3.14e+04    -  4.92e-03 8.28e-03w  1\n",
      "iter    objective    inf_pr   inf_du lg(mu)  ||d||  lg(rg) alpha_du alpha_pr  ls\n",
      "  80 -5.2253586e+02 1.40e+00 1.13e+06  -1.0 1.96e+05    -  4.27e-03 6.48e-04w  1\n",
      "  81 -5.2254360e+02 1.43e+00 1.14e+06  -1.0 2.45e+05    -  1.66e-04 1.64e-04w  1\n",
      "  82 -5.2201579e+02 2.15e-01 3.62e+03  -1.0 2.47e+05    -  4.92e-03 6.47e-05h  7\n",
      "  83 -5.2201779e+02 2.15e-01 1.30e+04  -1.0 4.49e+04    -  2.28e-02 3.40e-05h  9\n",
      "  84r-5.2201779e+02 2.15e-01 1.00e+03  -0.7 0.00e+00    -  0.00e+00 3.32e-07R 16\n",
      "  85r-5.2201809e+02 1.59e-01 9.98e+02  -0.7 2.15e+02    -  7.23e-02 9.91e-04f  1\n",
      "  86 -5.2204758e+02 1.59e-01 3.53e+01  -1.0 9.05e+03    -  4.90e-03 5.20e-04h  2\n",
      "  87 -5.2207216e+02 1.59e-01 6.02e+01  -1.0 9.58e+03    -  7.31e-03 4.10e-04h  5\n",
      "  88 -5.2209660e+02 1.59e-01 9.01e+01  -1.0 9.59e+03    -  1.78e-02 4.07e-04h  5\n",
      "  89 -5.2211956e+02 1.59e-01 1.17e+02  -1.0 9.58e+03    -  9.44e-03 3.83e-04h  5\n",
      "iter    objective    inf_pr   inf_du lg(mu)  ||d||  lg(rg) alpha_du alpha_pr  ls\n",
      "  90 -5.2214115e+02 1.59e-01 1.83e+02  -1.0 9.56e+03    -  1.85e-02 3.61e-04h  5\n",
      "  91 -5.2216157e+02 1.59e-01 4.30e+02  -1.0 9.53e+03    -  1.09e-02 3.43e-04h  5\n",
      "  92 -5.2218110e+02 1.59e-01 1.71e+03  -1.0 9.46e+03    -  1.58e-02 3.30e-04h  5\n",
      "  93 -5.2218606e+02 1.59e-01 5.56e+03  -1.0 2.94e+04    -  1.23e-02 8.53e-05h  7\n",
      "  94r-5.2218606e+02 1.59e-01 1.00e+03  -0.8 0.00e+00    -  0.00e+00 4.00e-07R 15\n",
      "  95r-5.2218938e+02 1.57e-01 9.87e+02  -0.8 1.21e+02    -  3.48e-02 1.18e-02f  1\n",
      "  96r-5.2220664e+02 3.32e-01 9.62e+02  -0.8 1.20e+02    -  1.94e-01 5.63e-02f  1\n",
      "  97r-5.2224915e+02 1.53e+00 4.69e+03  -0.8 1.18e+02    -  5.47e-01 1.11e-01f  1\n",
      "  98r-5.2242448e+02 1.29e+00 6.24e+03  -0.8 1.99e+02    -  7.06e-01 3.18e-01f  1\n",
      "  99r-5.2247565e+02 4.02e+00 6.68e+03  -0.8 2.54e+02    -  9.70e-01 2.70e-01f  1\n",
      "iter    objective    inf_pr   inf_du lg(mu)  ||d||  lg(rg) alpha_du alpha_pr  ls\n",
      " 100r-5.2286417e+02 3.75e+01 6.28e+03  -0.8 9.36e+01    -  6.65e-01 1.00e+00f  1\n",
      " 101r-5.2287659e+02 2.61e+01 1.05e+04  -0.8 1.45e+01    -  7.54e-01 1.00e+00f  1\n",
      " 102r-5.2286302e+02 4.14e-01 1.46e+02  -0.8 2.18e+00    -  1.00e+00 1.00e+00h  1\n",
      " 103r-5.2286372e+02 3.47e-01 5.55e+01  -0.8 1.11e-01    -  1.00e+00 1.00e+00h  1\n",
      " 104r-5.2286350e+02 5.70e-02 4.57e+00  -0.8 3.42e-02    -  1.00e+00 1.00e+00h  1\n",
      " 105 -5.2286267e+02 5.70e-02 2.54e+02  -1.0 6.72e+03    -  2.77e-02 1.98e-05h  9\n",
      " 106 -5.2286184e+02 5.70e-02 7.78e+02  -1.0 6.72e+03    -  5.74e-02 1.99e-05h  9\n",
      " 107 -5.2280352e+02 5.69e-02 5.04e+03  -1.0 6.67e+03    -  2.85e-02 1.40e-03f  3\n",
      " 108 -5.2266243e+02 8.52e-02 1.62e+05  -1.0 2.04e+04    -  3.52e-02 3.50e-03f  2\n",
      " 109 -5.2247956e+02 6.30e-01 7.62e+05  -1.0 3.84e+04    -  2.57e-02 4.74e-03f  3\n",
      "iter    objective    inf_pr   inf_du lg(mu)  ||d||  lg(rg) alpha_du alpha_pr  ls\n",
      " 110 -5.2237732e+02 8.12e-01 9.47e+05  -1.0 3.94e+04    -  3.01e-02 2.69e-03f  5\n",
      " 111 -5.2223650e+02 1.16e+00 1.26e+06  -1.0 3.91e+04    -  3.89e-02 3.73e-03f  5\n",
      " 112 -5.2220285e+02 1.17e+00 1.27e+06  -1.0 3.81e+04    -  1.13e-01 8.98e-04h  7\n",
      " 113 -5.2218621e+02 1.18e+00 1.27e+06  -1.0 3.80e+04    -  1.38e-01 4.45e-04h  8\n",
      " 114 -5.2215311e+02 1.19e+00 1.28e+06  -1.0 3.79e+04    -  5.75e-02 8.86e-04h  7\n",
      " 115 -5.2005878e+02 7.38e+01 5.22e+07  -1.0 3.76e+04    -  1.67e-01 5.61e-02w  1\n",
      " 116 -5.2003206e+02 7.38e+01 1.90e+08  -1.0 2.03e+04    -  2.37e-01 7.74e-04w  1\n",
      " 117 -5.2003079e+02 7.37e+01 4.40e+08  -1.0 1.21e+05    -  1.14e-04 4.94e-05w  1\n",
      " 118 -5.2215106e+02 1.19e+00 1.28e+06  -1.0 1.67e+05    -  1.67e-01 5.48e-05h 10\n",
      " 119 -5.2214902e+02 1.19e+00 1.28e+06  -1.0 3.76e+04    -  5.57e-02 5.48e-05h 11\n",
      "iter    objective    inf_pr   inf_du lg(mu)  ||d||  lg(rg) alpha_du alpha_pr  ls\n",
      " 120 -5.2214697e+02 1.19e+00 3.73e+06  -1.0 3.76e+04    -  1.27e-01 5.48e-05h 11\n",
      " 121 -5.2214493e+02 1.19e+00 6.95e+06  -1.0 3.76e+04    -  5.06e-02 5.47e-05h 11\n",
      " 122 -5.2214289e+02 1.19e+00 2.23e+07  -1.0 3.76e+04    -  1.31e-01 5.47e-05h 11\n",
      " 123 -5.2214188e+02 1.19e+00 4.11e+07  -1.0 3.75e+04    -  5.03e-02 2.73e-05h 12\n",
      " 124 -5.2214137e+02 1.19e+00 1.33e+08  -1.0 3.75e+04    -  1.34e-01 1.37e-05h 13\n",
      " 125r-5.2214137e+02 1.19e+00 1.00e+03  -0.1 0.00e+00    -  0.00e+00 4.27e-07R 18\n",
      " 126r-5.2214207e+02 1.17e-01 3.22e+04  -0.1 7.84e+02    -  4.19e-01 9.91e-04f  1\n",
      " 127 -5.2213827e+02 1.17e-01 6.47e+02  -1.0 6.35e+03    -  6.79e-02 9.57e-05h  5\n",
      " 128 -5.2213397e+02 1.17e-01 3.36e+03  -1.0 6.99e+03    -  1.18e-01 1.09e-04h  5\n",
      " 129r-5.2213397e+02 1.17e-01 1.00e+03  -0.9 0.00e+00    -  0.00e+00 3.78e-07R 17\n",
      "iter    objective    inf_pr   inf_du lg(mu)  ||d||  lg(rg) alpha_du alpha_pr  ls\n",
      " 130r-5.2213465e+02 5.55e-02 6.61e+03  -0.9 1.19e+02    -  3.03e-01 9.94e-04f  1\n",
      " 131 -5.2213129e+02 5.55e-02 6.63e+02  -1.0 6.33e+03    -  6.87e-02 8.49e-05h  5\n",
      " 132 -5.2212930e+02 5.55e-02 3.14e+03  -1.0 8.43e+03    -  8.98e-02 5.09e-05h  6\n",
      " 133r-5.2212930e+02 5.55e-02 1.00e+03  -1.0 0.00e+00    -  0.00e+00 3.45e-07R 17\n",
      " 134r-5.2212922e+02 5.39e-02 6.25e+03  -1.0 1.15e+02    -  3.20e-01 4.48e-03f  1\n",
      " 135r-5.2213046e+02 2.99e+00 2.72e+04  -1.0 1.59e+02    -  5.40e-01 1.23e-01f  1\n",
      " 136r-5.2213255e+02 2.73e+00 3.91e+05  -1.0 9.84e+01    -  6.13e-01 7.20e-02f  1\n",
      " 137r-5.2216010e+02 1.28e+00 1.00e+05  -1.0 6.93e+01    -  6.67e-01 5.52e-01f  1\n",
      " 138r-5.2236557e+02 9.24e+00 3.91e+04  -1.0 7.14e+01    -  9.87e-01 1.00e+00f  1\n",
      " 139r-5.2247022e+02 6.44e-01 5.07e+03  -1.0 1.76e+01    -  9.95e-01 1.00e+00h  1\n",
      "iter    objective    inf_pr   inf_du lg(mu)  ||d||  lg(rg) alpha_du alpha_pr  ls\n",
      " 140r-5.2246693e+02 4.71e-02 3.55e+02  -1.0 1.84e+00    -  1.00e+00 1.00e+00h  1\n",
      " 141r-5.2246693e+02 4.71e-02 9.98e+02  -1.0 0.00e+00    -  0.00e+00 3.35e-07R 15\n",
      " 142r-5.2246698e+02 6.56e-03 8.45e+03  -1.0 8.55e+01    -  7.54e-01 2.10e-03f  1\n",
      " 143r-5.2246698e+02 6.56e-03 9.85e+02  -1.0 0.00e+00    -  0.00e+00 3.34e-07R 15\n",
      " 144r-5.2246736e+02 1.76e-03 9.13e+03  -1.0 8.48e+01    -  8.30e-01 1.52e-02f  1\n",
      " 145r-5.2246736e+02 1.76e-03 9.45e+02  -1.0 0.00e+00    -  0.00e+00 3.30e-07R 15\n",
      " 146r-5.2246901e+02 1.87e-02 8.63e+03  -1.0 8.06e+01    -  8.40e-01 5.78e-02f  1\n",
      " 147r-5.2259071e+02 1.12e+01 2.37e+03  -1.0 5.76e+01    -  7.56e-01 1.00e+00f  1\n",
      " 148r-5.2280822e+02 1.60e+00 2.84e+02  -1.0 5.11e+01    -  9.88e-01 1.00e+00h  1\n",
      " 149r-5.2290129e+02 1.51e-01 8.58e+00  -1.0 1.49e+01    -  9.95e-01 1.00e+00h  1\n",
      "iter    objective    inf_pr   inf_du lg(mu)  ||d||  lg(rg) alpha_du alpha_pr  ls\n",
      " 150r-5.2290179e+02 4.24e-03 7.82e-02  -1.0 8.38e-02    -  1.00e+00 1.00e+00h  1\n",
      " 151r-5.2252854e+02 1.51e+00 1.81e+02  -3.8 1.01e+02    -  5.84e-01 5.91e-01f  1\n",
      " 152r-5.2119348e+02 1.98e+00 4.93e+01  -3.8 5.21e+02    -  4.24e-01 4.10e-01f  1\n",
      " 153r-5.2032354e+02 1.64e+00 1.52e+02  -3.8 3.28e+02    -  3.70e-01 4.21e-01f  1\n",
      " 154r-5.1988434e+02 1.08e+00 5.89e+01  -3.8 1.73e+02    -  4.31e-01 4.01e-01f  1\n",
      " 155r-5.1970482e+02 6.08e-01 3.13e+01  -3.8 6.36e+01    -  4.26e-01 4.42e-01f  1\n",
      " 156r-5.1967760e+02 3.28e-01 7.79e+01  -3.8 4.07e+01    -  4.94e-01 4.58e-01f  1\n",
      " 157r-5.1973692e+02 1.80e-01 1.34e+02  -3.8 3.77e+01    -  5.25e-01 4.75e-01f  1\n",
      " 158r-5.1982578e+02 1.21e-01 2.61e+02  -3.8 3.66e+01    -  4.98e-01 3.84e-01f  1\n",
      " 159r-5.1990584e+02 8.97e-02 5.99e+02  -3.8 4.01e+01    -  6.03e-01 3.16e-01f  1\n",
      "iter    objective    inf_pr   inf_du lg(mu)  ||d||  lg(rg) alpha_du alpha_pr  ls\n",
      " 160r-5.1996672e+02 6.51e-02 8.31e+02  -3.8 2.89e+01    -  7.25e-01 3.33e-01f  1\n",
      " 161r-5.2010034e+02 3.31e-02 3.10e+02  -3.8 2.63e+01    -  1.00e+00 8.05e-01f  1\n",
      " 162r-5.2013403e+02 1.12e-03 2.35e+00  -3.8 8.36e+00    -  1.00e+00 1.00e+00f  1\n",
      " 163r-5.2013403e+02 1.12e-03 8.73e+02  -1.0 0.00e+00    -  0.00e+00 2.98e-07R 13\n",
      " 164r-5.2013419e+02 1.12e-03 8.38e+03  -1.0 1.41e+03    -  3.98e-03 1.27e-04f  1\n",
      " 165r-5.2014005e+02 7.71e-02 9.37e+03  -1.0 2.37e+01    -  4.49e-02 1.03e-01f  1\n",
      " 166r-5.2014339e+02 9.93e-02 5.76e+03  -1.0 1.48e+01    -  3.36e-01 6.23e-02f  1\n",
      " 167r-5.2018160e+02 9.70e-01 4.43e+03  -1.0 1.98e+01    -  8.60e-01 4.90e-01f  1\n",
      " 168r-5.2047370e+02 2.45e+00 1.57e+02  -1.0 6.52e+01    -  9.87e-01 1.00e+00f  1\n",
      " 169r-5.2075316e+02 7.38e-02 1.92e+01  -1.0 4.43e+01    -  9.93e-01 1.00e+00h  1\n",
      "iter    objective    inf_pr   inf_du lg(mu)  ||d||  lg(rg) alpha_du alpha_pr  ls\n",
      " 170r-5.2075665e+02 4.16e-03 2.47e-02  -1.0 5.87e-01    -  1.00e+00 1.00e+00h  1\n",
      " 171r-5.2039026e+02 1.45e+00 2.48e+02  -3.8 1.02e+02    -  5.44e-01 5.71e-01f  1\n",
      " 172r-5.1976768e+02 1.66e+00 1.16e+02  -3.8 2.45e+02    -  4.08e-01 4.03e-01f  1\n",
      " 173r-5.1922898e+02 1.23e+00 6.88e+01  -3.8 2.06e+02    -  4.11e-01 4.13e-01f  1\n",
      " 174r-5.1888123e+02 7.41e-01 3.28e+01  -3.8 1.29e+02    -  4.29e-01 4.24e-01f  1\n",
      " 175r-5.1873374e+02 4.15e-01 1.60e+01  -3.8 5.25e+01    -  4.43e-01 4.39e-01f  1\n",
      " 176r-5.1873406e+02 2.31e-01 2.59e+01  -3.8 4.42e+01    -  4.70e-01 4.61e-01f  1\n",
      " 177r-5.1881019e+02 1.36e-01 6.62e+01  -3.8 4.16e+01    -  5.15e-01 4.90e-01f  1\n",
      " 178r-5.1890450e+02 8.83e-02 1.54e+02  -3.8 3.38e+01    -  5.93e-01 5.29e-01f  1\n",
      " 179r-5.1898468e+02 5.70e-02 2.74e+02  -3.8 2.42e+01    -  7.26e-01 5.99e-01f  1\n",
      "iter    objective    inf_pr   inf_du lg(mu)  ||d||  lg(rg) alpha_du alpha_pr  ls\n",
      " 180r-5.1903911e+02 2.57e-02 3.86e+02  -3.8 1.50e+01    -  1.00e+00 7.78e-01f  1\n",
      " 181r-5.1905558e+02 1.63e-03 3.65e+00  -3.8 5.85e+00    -  1.00e+00 1.00e+00f  1\n",
      " 182r-5.1905593e+02 2.46e-04 6.04e-02  -3.8 3.70e-01    -  1.00e+00 1.00e+00h  1\n"
     ]
    },
    {
     "name": "stdout",
     "output_type": "stream",
     "text": [
      " 183r-5.1905593e+02 2.46e-04 6.73e+02  -1.0 0.00e+00    -  0.00e+00 2.93e-07R 17\n",
      " 184r-5.1905609e+02 2.46e-04 8.38e+03  -1.0 1.20e+03    -  3.98e-03 1.18e-04f  1\n",
      " 185r-5.1906530e+02 5.40e-02 6.93e+03  -1.0 3.25e+01    -  1.18e-01 9.93e-02f  1\n",
      " 186r-5.1907429e+02 1.00e-01 8.27e+03  -1.0 1.54e+01    -  5.42e-01 1.39e-01f  1\n",
      " 187r-5.1915777e+02 1.10e+00 3.30e+03  -1.0 2.86e+01    -  6.39e-01 6.97e-01f  1\n",
      " 188r-5.1938231e+02 1.11e+00 6.71e+01  -1.0 4.61e+01    -  9.88e-01 1.00e+00f  1\n",
      " 189r-5.1973056e+02 5.08e-02 1.41e+01  -1.0 5.49e+01    -  9.91e-01 1.00e+00h  1\n",
      "iter    objective    inf_pr   inf_du lg(mu)  ||d||  lg(rg) alpha_du alpha_pr  ls\n",
      " 190r-5.1973616e+02 3.29e-04 4.35e-03  -1.0 9.36e-01    -  1.00e+00 1.00e+00h  1\n",
      " 191r-5.1935842e+02 1.60e+00 2.52e+02  -3.8 1.04e+02    -  5.44e-01 5.71e-01f  1\n",
      " 192r-5.1889965e+02 1.73e+00 1.13e+02  -3.8 1.79e+02    -  4.10e-01 4.04e-01f  1\n",
      " 193r-5.1848109e+02 1.20e+00 6.26e+01  -3.8 1.58e+02    -  4.16e-01 4.15e-01f  1\n",
      " 194r-5.1822553e+02 6.91e-01 3.11e+01  -3.8 9.36e+01    -  4.34e-01 4.27e-01f  1\n",
      " 195r-5.1815250e+02 3.84e-01 4.24e+01  -3.8 3.92e+01    -  4.56e-01 4.42e-01f  1\n",
      " 196r-5.1821727e+02 2.11e-01 6.45e+01  -3.8 4.58e+01    -  4.81e-01 4.61e-01f  1\n",
      " 197r-5.1834701e+02 1.22e-01 1.12e+02  -3.8 4.19e+01    -  5.30e-01 4.88e-01f  1\n",
      " 198r-5.1847806e+02 7.91e-02 1.82e+02  -3.8 3.89e+01    -  6.02e-01 5.28e-01f  1\n",
      " 199r-5.1858259e+02 5.37e-02 2.88e+02  -3.8 2.71e+01    -  7.44e-01 6.06e-01f  1\n",
      "iter    objective    inf_pr   inf_du lg(mu)  ||d||  lg(rg) alpha_du alpha_pr  ls\n",
      " 200r-5.1866726e+02 3.03e-02 2.77e+02  -3.8 1.61e+01    -  1.00e+00 8.25e-01f  1\n",
      " 201r-5.1870380e+02 4.19e-03 2.01e+00  -3.8 5.74e+00    -  1.00e+00 1.00e+00f  1\n",
      " 202r-5.1870523e+02 2.23e-04 3.71e-02  -3.8 2.24e-01    -  1.00e+00 1.00e+00h  1\n",
      " 203r-5.1870523e+02 2.23e-04 2.00e-05  -3.8 1.57e-03    -  1.00e+00 1.00e+00h  1\n",
      " 204r-5.1870744e+02 1.61e-02 1.58e+02  -5.7 1.19e+01    -  7.62e-01 6.53e-01f  1\n",
      " 205r-5.1870783e+02 6.89e-01 3.60e+02  -5.7 1.44e+01  -4.0 2.94e-01 5.00e-01f  1\n",
      " 206r-5.1870785e+02 5.54e-01 1.52e+02  -5.7 7.37e+00  -3.6 3.67e-01 2.75e-01h  1\n",
      " 207r-5.1870782e+02 3.62e-01 1.84e+02  -5.7 2.76e+00  -3.1 4.92e-01 3.71e-01h  1\n",
      " 208r-5.1870774e+02 3.55e-01 1.94e+02  -5.7 1.60e+01  -3.6 1.06e-01 8.47e-02h  1\n",
      " 209r-5.1870770e+02 2.79e-01 2.11e+02  -5.7 3.84e+00  -3.2 3.17e-01 2.48e-01h  1\n",
      "iter    objective    inf_pr   inf_du lg(mu)  ||d||  lg(rg) alpha_du alpha_pr  ls\n",
      " 210r-5.1870770e+02 3.17e-01 2.49e+02  -5.7 2.10e+01  -3.7 1.60e-01 1.09e-01h  1\n",
      " 211r-5.1870768e+02 2.67e-01 2.72e+02  -5.7 5.53e+00  -3.3 2.85e-01 2.14e-01h  1\n",
      " 212r-5.1870777e+02 3.01e-01 4.71e+02  -5.7 4.93e+01  -3.7 7.60e-02 3.74e-02h  1\n",
      " 213r-5.1870780e+02 2.74e-01 4.67e+02  -5.7 8.20e+00  -3.3 2.06e-01 1.67e-01h  1\n",
      " 214r-5.1870780e+02 2.68e-01 4.46e+02  -5.7 6.30e-01  -2.0 8.32e-03 2.16e-02h  1\n",
      " 215r-5.1870780e+02 2.65e-01 4.40e+02  -5.7 5.75e-01  -1.5 1.11e-02 1.37e-02h  1\n",
      " 216r-5.1870780e+02 2.42e-01 4.03e+02  -5.7 6.00e-02  -1.1 6.88e-02 8.53e-02h  1\n",
      " 217r-5.1870780e+02 2.16e-01 3.59e+02  -5.7 2.58e-02  -0.7 1.46e-01 1.09e-01h  1\n",
      " 218r-5.1870780e+02 7.77e-02 2.62e+02  -5.7 4.70e-02  -1.2 3.00e-01 6.40e-01h  1\n",
      " 219r-5.1870780e+02 4.02e-02 3.42e+02  -5.7 1.41e-01  -1.6 7.43e-01 4.83e-01f  1\n",
      "iter    objective    inf_pr   inf_du lg(mu)  ||d||  lg(rg) alpha_du alpha_pr  ls\n",
      " 220r-5.1870780e+02 2.10e-02 6.24e+02  -5.7 4.33e-01  -2.1 8.57e-01 4.91e-01f  1\n",
      " 221r-5.1870778e+02 2.44e-02 5.24e+00  -5.7 1.39e+00  -2.6 1.00e+00 1.00e+00f  1\n",
      " 222r-5.1870779e+02 4.11e-02 4.15e+02  -5.7 5.72e+00  -3.1 1.00e+00 2.34e-01h  1\n",
      " 223r-5.1870794e+02 4.53e-02 3.97e+02  -5.7 3.82e+01  -3.6 1.09e-02 1.65e-02h  1\n",
      " 224r-5.1870808e+02 8.22e-01 8.85e+01  -5.7 8.57e+00  -3.1 5.85e-01 9.49e-01f  1\n",
      " 225r-5.1870809e+02 8.08e-01 2.38e+02  -5.7 5.35e+00  -2.7 1.71e-01 1.75e-02h  1\n",
      " 226r-5.1870810e+02 5.89e-01 1.68e+02  -5.7 1.71e+00  -2.3 3.70e-01 2.73e-01f  1\n",
      " 227r-5.1870818e+02 5.06e-01 1.06e+02  -5.7 7.91e+00  -2.8 1.39e-01 1.78e-01h  1\n",
      " 228r-5.1870827e+02 6.82e-02 2.81e+01  -5.7 2.58e+00  -2.3 1.00e+00 1.00e+00h  1\n",
      " 229r-5.1870831e+02 1.64e-02 8.96e+00  -5.7 1.23e+00  -1.9 9.81e-01 1.00e+00h  1\n",
      "iter    objective    inf_pr   inf_du lg(mu)  ||d||  lg(rg) alpha_du alpha_pr  ls\n",
      " 230r-5.1870836e+02 3.48e-02 1.34e+02  -5.7 8.97e+00  -2.4 1.00e+00 1.54e-01h  1\n",
      " 231r-5.1905811e+02 5.11e-02 1.42e+02  -5.7 5.07e+02    -  4.77e-02 1.08e-01h  1\n",
      " 232r-5.1908197e+02 4.85e-02 1.19e+02  -5.7 6.86e+01    -  8.92e-02 5.47e-02h  1\n",
      " 233r-5.1920296e+02 4.91e-02 1.33e+02  -5.7 1.66e+02    -  3.96e-02 1.14e-01h  1\n",
      " 234r-5.1952430e+02 8.81e-02 1.49e+02  -5.7 5.89e+02    -  2.17e-02 8.58e-02h  1\n",
      " 235r-5.1940213e+02 8.73e-02 1.49e+02  -5.7 2.39e+02    -  6.38e-02 8.04e-02h  2\n",
      " 236r-5.1964861e+02 9.88e-02 1.75e+02  -5.7 2.44e+02    -  9.47e-02 1.59e-01h  1\n",
      " 237r-5.1993248e+02 1.20e-01 2.25e+02  -5.7 3.58e+02    -  2.64e-02 1.25e-01h  1\n",
      " 238r-5.1978842e+02 1.07e-01 2.34e+02  -5.7 1.25e+02    -  9.62e-02 1.81e-01h  1\n",
      " 239r-5.2009332e+02 1.18e-01 2.25e+02  -5.7 1.85e+02    -  1.72e-01 2.61e-01f  1\n",
      "iter    objective    inf_pr   inf_du lg(mu)  ||d||  lg(rg) alpha_du alpha_pr  ls\n",
      " 240r-5.2029114e+02 1.16e-01 2.32e+02  -5.7 1.96e+02    -  7.12e-02 1.60e-01h  1\n",
      " 241r-5.2020897e+02 4.04e-02 2.72e+02  -5.7 1.91e+01    -  2.09e-01 6.75e-01h  1\n",
      " 242r-5.2046401e+02 5.04e-02 1.39e+02  -5.7 9.40e+01    -  4.77e-01 4.29e-01f  1\n",
      " 243r-5.2059936e+02 4.15e-02 1.14e+02  -5.7 6.54e+01    -  2.12e-01 3.28e-01h  1\n",
      " 244r-5.2059951e+02 3.43e-02 3.92e+02  -5.7 1.05e+00    -  2.90e-01 1.75e-01h  1\n",
      " 245r-5.2059951e+02 3.37e-02 2.61e+02  -5.7 3.02e-01  -2.0 8.15e-03 1.83e-02h  1\n",
      " 246r-5.2059947e+02 2.78e-02 2.03e+02  -5.7 4.40e-02  -2.4 2.65e-01 1.74e-01f  1\n",
      " 247r-5.2059947e+02 2.72e-02 3.24e+02  -5.7 6.73e-01  -2.9 2.67e-02 2.24e-02h  1\n",
      " 248r-5.2059939e+02 5.79e-03 6.51e+01  -5.7 1.47e-01  -3.4 7.93e-01 7.87e-01f  1\n",
      " 249r-5.2061094e+02 3.62e-03 9.45e+01  -5.7 4.77e+00    -  4.85e-01 3.85e-01f  1\n",
      "iter    objective    inf_pr   inf_du lg(mu)  ||d||  lg(rg) alpha_du alpha_pr  ls\n",
      " 250r-5.2065932e+02 4.09e-03 4.30e+02  -5.7 5.36e+01    -  5.59e-02 1.43e-01f  1\n",
      " 251r-5.2065949e+02 3.79e-03 5.21e+02  -5.7 4.87e+00  -3.9 4.08e-02 7.36e-02f  1\n",
      " 252r-5.2065950e+02 2.44e-03 4.12e+02  -5.7 6.32e-01  -3.4 2.75e-01 3.54e-01f  1\n",
      " 253r-5.2065952e+02 1.65e-03 2.73e+02  -5.7 3.41e-01  -3.0 4.51e-01 3.24e-01f  1\n",
      " 254r-5.2065958e+02 1.22e-03 2.03e+02  -5.7 1.19e+00  -3.5 3.24e-01 2.63e-01f  1\n",
      " 255r-5.2065972e+02 1.01e-03 1.70e+02  -5.7 4.01e+00  -4.0 7.70e-02 1.66e-01f  1\n",
      " 256r-5.2065975e+02 9.07e-04 1.52e+02  -5.7 1.37e+00  -3.5 3.76e-01 1.07e-01f  1\n",
      " 257r-5.2065985e+02 7.60e-04 1.27e+02  -5.7 2.71e+00  -4.0 1.39e-01 1.61e-01f  1\n",
      " 258r-5.2065991e+02 7.10e-04 1.19e+02  -5.7 4.44e+00  -4.5 1.15e-01 6.65e-02f  1\n",
      " 259r-5.2064784e+02 7.64e-04 1.87e+02  -5.7 1.98e+02    -  5.43e-02 9.67e-03f  1\n",
      "iter    objective    inf_pr   inf_du lg(mu)  ||d||  lg(rg) alpha_du alpha_pr  ls\n",
      " 260r-5.2054971e+02 4.66e-03 1.55e+02  -5.7 8.04e+01    -  3.92e-01 1.93e-01f  1\n",
      " 261r-5.2044950e+02 7.01e-03 1.66e+02  -5.7 3.95e+01    -  1.00e+00 4.02e-01f  1\n",
      " 262r-5.2036256e+02 3.78e-03 3.11e+01  -5.7 1.51e+01    -  1.00e+00 9.13e-01f  1\n",
      " 263r-5.2035770e+02 9.89e-06 7.37e-03  -5.7 7.65e-01    -  1.00e+00 1.00e+00f  1\n",
      " 264 -5.2037148e+02 1.11e-04 7.87e+06  -1.0 3.69e+02    -  8.03e-01 7.05e-03f  4\n",
      " 265 -5.2037481e+02 1.39e-04 8.23e+06  -1.0 1.43e+03    -  1.76e-01 9.30e-04f  9\n",
      " 266 -5.2037901e+02 1.63e-04 8.45e+06  -1.0 9.26e+02    -  1.57e-01 1.35e-03f  9\n",
      " 267 -5.2038114e+02 1.66e-04 8.62e+06  -1.0 5.11e+02    -  1.33e-01 7.77e-04f 10\n",
      " 268 -5.2038550e+02 1.66e-04 8.73e+06  -1.0 3.66e+02    -  1.05e-01 1.89e-03f  9\n",
      " 269 -5.2151280e+02 5.34e-01 8.58e+06  -1.0 3.36e+02    -  1.44e-01 5.31e-01f  1\n",
      "iter    objective    inf_pr   inf_du lg(mu)  ||d||  lg(rg) alpha_du alpha_pr  ls\n",
      " 270 -5.2167164e+02 4.83e-01 6.49e+06  -1.0 2.19e+02    -  5.42e-02 1.16e-01f  1\n",
      " 271 -5.2271493e+02 4.59e-01 2.03e+08  -1.0 1.67e+02    -  6.57e-03 1.00e+00f  1\n",
      " 272 -5.2282385e+02 2.19e-02 1.16e+07  -1.0 3.71e+01    -  9.89e-01 1.00e+00h  1\n",
      " 273 -5.2298437e+02 1.36e-01 9.82e+06  -1.0 9.28e+01    -  9.91e-01 1.00e+00f  1\n",
      " 274 -5.2307742e+02 4.58e-02 2.78e+06  -1.0 5.35e+01    -  1.00e+00 1.00e+00h  1\n",
      " 275 -5.2337307e+02 4.61e-01 5.64e+05  -1.0 1.70e+02    -  1.00e+00 1.00e+00f  1\n",
      " 276 -5.2352472e+02 1.21e-01 6.09e+05  -1.0 8.64e+01    -  1.00e+00 1.00e+00f  1\n",
      " 277 -5.2376409e+02 2.47e-01 1.19e+06  -1.0 2.80e+02    -  7.77e-01 1.00e+00F  1\n",
      " 278 -5.2372070e+02 9.88e-03 2.32e+05  -1.0 2.44e+01    -  1.00e+00 1.00e+00h  1\n",
      " 279 -5.2373792e+02 1.56e-03 1.15e+04  -1.0 9.80e+00    -  1.00e+00 1.00e+00h  1\n"
     ]
    },
    {
     "name": "stdout",
     "output_type": "stream",
     "text": [
      "iter    objective    inf_pr   inf_du lg(mu)  ||d||  lg(rg) alpha_du alpha_pr  ls\n",
      " 280 -5.2384139e+02 5.63e-02 1.42e+06  -1.7 5.89e+01    -  8.39e-01 1.00e+00f  1\n",
      " 281 -5.2396753e+02 6.15e-02 2.55e+05  -1.7 6.52e+01    -  1.00e+00 1.00e+00H  1\n",
      " 282 -5.2392395e+02 1.19e-01 3.42e+04  -1.7 2.47e+01    -  1.00e+00 1.00e+00f  1\n",
      " 283 -5.2394148e+02 1.61e-03 4.94e+03  -1.7 9.94e+00    -  1.00e+00 1.00e+00h  1\n",
      " 284 -5.2394243e+02 2.21e-05 1.46e+01  -1.7 5.35e-01    -  1.00e+00 1.00e+00h  1\n",
      " 285 -5.2397492e+02 8.48e-02 4.08e+05  -3.8 3.08e+01    -  8.20e-01 5.99e-01f  1\n",
      " 286 -5.2397714e+02 2.58e-05 4.88e+03  -3.8 1.25e+00    -  1.00e+00 1.00e+00h  1\n",
      " 287 -5.2397717e+02 4.24e-09 4.07e-02  -3.8 1.61e-02    -  1.00e+00 1.00e+00h  1\n",
      " 288 -5.2397732e+02 1.19e-07 4.73e+01  -8.6 8.59e-02    -  9.99e-01 9.96e-01f  1\n",
      " 289 -5.2397732e+02 2.88e-10 7.61e-06  -8.6 2.58e-05    -  1.00e+00 1.00e+00h  1\n",
      "\n",
      "Number of Iterations....: 289\n",
      "\n",
      "                                   (scaled)                 (unscaled)\n",
      "Objective...............:  -5.2397731799206008e+02   -5.2397731799206008e+02\n",
      "Dual infeasibility......:   7.6089054346084595e-06    7.6089054346084595e-06\n",
      "Constraint violation....:   2.8789782547961745e-10    2.8789782547961745e-10\n",
      "Complementarity.........:   2.5059790318147611e-09    2.5059790318147611e-09\n",
      "Overall NLP error.......:   1.9706452119282684e-09    7.6089054346084595e-06\n",
      "\n",
      "\n",
      "Number of objective function evaluations             = 875\n",
      "Number of objective gradient evaluations             = 135\n",
      "Number of equality constraint evaluations            = 875\n",
      "Number of inequality constraint evaluations          = 875\n",
      "Number of equality constraint Jacobian evaluations   = 309\n",
      "Number of inequality constraint Jacobian evaluations = 309\n",
      "Number of Lagrangian Hessian evaluations             = 289\n",
      "Total CPU secs in IPOPT (w/o function evaluations)   =     31.776\n",
      "Total CPU secs in NLP function evaluations           =      1.415\n",
      "\n",
      "EXIT: Optimal Solution Found.\n"
     ]
    }
   ],
   "source": [
    "opt = pe.SolverFactory('ipopt')\n",
    "\n",
    "opt.options['print_user_options'] = 'yes'\n",
    "opt.options['linear_solver'] = 'ma86'\n",
    "\n",
    "opt.options['linear_system_scaling '] = 'mc19'\n",
    "opt.options['linear_scaling_on_demand '] = 'no'\n",
    "# opt.options['recalc_y'] = 'yes'\n",
    "# opt.options['bound_relax_factor'] = 0\n",
    "# opt.options['halt_on_ampl_error'] = 'yes'\n",
    "\n",
    "opt.options['max_iter'] = 7000\n",
    "results = opt.solve(model,tee=True)\n",
    "update_dual(pe,model)"
   ]
  },
  {
   "cell_type": "code",
   "execution_count": 20,
   "metadata": {
    "scrolled": true,
    "slideshow": {
     "slide_type": "skip"
    }
   },
   "outputs": [
    {
     "data": {
      "text/plain": [
       "523.9773179920601"
      ]
     },
     "execution_count": 20,
     "metadata": {},
     "output_type": "execute_result"
    }
   ],
   "source": [
    "model.T.value"
   ]
  },
  {
   "cell_type": "code",
   "execution_count": 21,
   "metadata": {},
   "outputs": [
    {
     "data": {
      "text/plain": [
       "523.8669145395334"
      ]
     },
     "execution_count": 21,
     "metadata": {},
     "output_type": "execute_result"
    }
   ],
   "source": [
    "model.MPCC.T.value"
   ]
  },
  {
   "cell_type": "code",
   "execution_count": 22,
   "metadata": {},
   "outputs": [
    {
     "data": {
      "text/plain": [
       "523.8646947490765"
      ]
     },
     "execution_count": 22,
     "metadata": {},
     "output_type": "execute_result"
    }
   ],
   "source": [
    "model.VLE_block.T_VLE.value"
   ]
  },
  {
   "cell_type": "code",
   "execution_count": 23,
   "metadata": {
    "scrolled": true
   },
   "outputs": [
    {
     "data": {
      "text/plain": [
       "0.0"
      ]
     },
     "execution_count": 23,
     "metadata": {},
     "output_type": "execute_result"
    }
   ],
   "source": [
    "model.L['out'].value"
   ]
  },
  {
   "cell_type": "code",
   "execution_count": 24,
   "metadata": {},
   "outputs": [
    {
     "data": {
      "text/plain": [
       "1.0000000000000007"
      ]
     },
     "execution_count": 24,
     "metadata": {},
     "output_type": "execute_result"
    }
   ],
   "source": [
    "sum(model.MPCC.y[i].value for i in m.COMP_TOTAL)"
   ]
  },
  {
   "cell_type": "code",
   "execution_count": null,
   "metadata": {
    "scrolled": false,
    "slideshow": {
     "slide_type": "slide"
    }
   },
   "outputs": [],
   "source": [
    "print('Component\\t\\tLiquid: {:.4f}\\t\\t\\tVapor: {:.4f}'.format(model.L['out'].value,model.V['out'].value))\n",
    "print('-'*108)\n",
    "for i in model.x:\n",
    "    print('{:10s}'.format(i),'\\t\\t{:8.4%}\\t\\t\\t{:8.4%}'.format(model.x[i].value,model.y[i].value))"
   ]
  },
  {
   "cell_type": "markdown",
   "metadata": {
    "slideshow": {
     "slide_type": "slide"
    }
   },
   "source": [
    "# Iterative Solve for Data Analysis"
   ]
  },
  {
   "cell_type": "code",
   "execution_count": null,
   "metadata": {},
   "outputs": [],
   "source": [
    "results_anchor = results\n",
    "update_dual(pe,model)\n",
    "model.solutions.store_to(results_anchor)"
   ]
  },
  {
   "cell_type": "code",
   "execution_count": null,
   "metadata": {},
   "outputs": [],
   "source": [
    "opt.options['warm_start_init_point'] = 'yes'\n",
    "opt.options['warm_start_bound_push'] = 1e-20\n",
    "opt.options['warm_start_mult_bound_push'] = 1e-20\n",
    "opt.options['mu_init'] = 1e-6"
   ]
  },
  {
   "cell_type": "code",
   "execution_count": null,
   "metadata": {},
   "outputs": [],
   "source": [
    "catrange = [3000,1000,500,300,100,50,25,10]\n",
    "Trange = np.linspace(300+273.15,200+273.15,26)"
   ]
  },
  {
   "cell_type": "code",
   "execution_count": null,
   "metadata": {
    "scrolled": false,
    "slideshow": {
     "slide_type": "fragment"
    }
   },
   "outputs": [],
   "source": [
    "rf_data_master = {}\n",
    "\n",
    "for c in catrange:\n",
    "    model.del_component(model.obj)\n",
    "    model.obj = pe.Objective(expr = model.cat ,sense=pe.minimize)\n",
    "\n",
    "    model.solutions.load_from(results_anchor)\n",
    "    update_dual(pe,model) \n",
    "       \n",
    "    model.T.fix(300+273.15)\n",
    "    model.cat.fixed = False\n",
    "    model.cat.setlb(c)\n",
    "    \n",
    "    results_anchor = opt.solve(model,tee=False)\n",
    "    model.solutions.store_to(results_anchor)\n",
    "    update_dual(pe,model)\n",
    "    \n",
    "    model.del_component(model.obj)\n",
    "    model.obj = pe.Objective(expr = model.T ,sense=pe.maximize)\n",
    "    model.T.fixed = False\n",
    "    model.cat.fixed = True\n",
    "    \n",
    "    \n",
    "    print('\\nWorking on Cat = {} kg'.format(model.cat.value))\n",
    "    print('-'*108)\n",
    "    \n",
    "    rf_data = {}\n",
    "    rf_data['x'] = {};rf_data['y'] = {};\n",
    "    rf_data['T'] = []; rf_data['Q'] = []; rf_data['V'] = []; rf_data['L'] = []; rf_data['P_VLE'] = []; \n",
    "    rf_data['s_L'] = [];\n",
    "    for i in m.COMP_TOTAL:\n",
    "        rf_data['x'][i] = []\n",
    "        rf_data['y'][i] = []       \n",
    "\n",
    "    for t in Trange:\n",
    "        model.T.setub(t)\n",
    "        results = opt.solve(model,tee=False)\n",
    "        update_dual(pe,model)\n",
    "        model.T.setub(300+273.15)\n",
    "        print('Solved\\t|T = {:.2f} K\\t|V = {:.4f} kmol/s\\t|L = {:.4f} kmol/s\\t|s_L = {:.4f}\\t|P_VLE = {:.1f}'.\\\n",
    "              format(model.T.value,model.V['out'].value,model.L['out'].value,model.MPCC.s_L.value,model.VLE_block.P_VLE.value))\n",
    "    \n",
    "        rf_data['T'].append(model.T.value)\n",
    "        rf_data['Q'].append(model.Q_main.value)\n",
    "        rf_data['V'].append(model.V['out'].value)\n",
    "        rf_data['L'].append(model.L['out'].value)\n",
    "        rf_data['P_VLE'].append(model.VLE_block.P_VLE.value)\n",
    "        rf_data['s_L'].append(model.MPCC.s_L.value)\n",
    "\n",
    "        for i in m.COMP_TOTAL:\n",
    "            rf_data['x'][i].append(model.x[i].value)\n",
    "            rf_data['y'][i].append(model.y[i].value)\n",
    "        \n",
    "    rf_data_master[c] = rf_data"
   ]
  },
  {
   "cell_type": "markdown",
   "metadata": {},
   "source": [
    "# Optimization results across disappearing phases"
   ]
  },
  {
   "cell_type": "code",
   "execution_count": null,
   "metadata": {},
   "outputs": [],
   "source": [
    "fig, (ax1,ax2) = plt.subplots(1,2,figsize=(16,9))\n",
    "for c in catrange:\n",
    "    ax1.plot(Trange,rf_data_master[c]['V'])\n",
    "ax1.set_ylabel('Vapor Flow Rate (kmol/s)',fontsize=14)\n",
    "ax1.set_xlabel('Temperature (K)',fontsize=14)\n",
    "ax1.tick_params(labelsize=14)\n",
    "ax1.grid()\n",
    "\n",
    "for c in catrange:\n",
    "    ax2.plot(Trange,rf_data_master[c]['L'])\n",
    "ax2.set_ylabel('Liquid Flow Rate (kmol/s)',fontsize=14)\n",
    "ax2.set_xlabel('Temperature (K)',fontsize=14)\n",
    "ax2.tick_params(labelsize=14)\n",
    "ax2.grid()\n",
    "\n",
    "ax2.legend(catrange,fontsize=14)\n",
    "fig.suptitle('Vapor and Liquid Flow Rate',fontsize=18)\n",
    "\n",
    "plt.show()"
   ]
  },
  {
   "cell_type": "code",
   "execution_count": null,
   "metadata": {},
   "outputs": [],
   "source": [
    "fig, ax1 = plt.subplots(figsize=(16,9))\n",
    "for c in catrange:\n",
    "    ax1.plot(Trange,np.divide(rf_data_master[c]['V'],np.add(rf_data_master[c]['V'],rf_data_master[c]['L'])))\n",
    "ax1.set_ylabel('Vapor Fraction',fontsize=14)\n",
    "ax1.set_xlabel('Temperature (K)',fontsize=14)\n",
    "ax1.tick_params(labelsize=14)\n",
    "ax1.legend(catrange,fontsize=14)\n",
    "ax1.set_title('Vapor Fraction',fontsize=18)\n",
    "ax1.grid()\n",
    "plt.show()"
   ]
  },
  {
   "cell_type": "code",
   "execution_count": null,
   "metadata": {},
   "outputs": [],
   "source": [
    "fig, ax1 = plt.subplots(figsize=(16,9))\n",
    "for c in catrange:\n",
    "    ax1.plot(Trange,rf_data_master[c]['P_VLE'])\n",
    "ax1.set_ylabel(r'$P_{VLE}$ value',fontsize=14)\n",
    "ax1.set_xlabel('Temperature (K)',fontsize=14)\n",
    "ax1.tick_params(labelsize=14)\n",
    "ax1.legend(catrange,fontsize=14)\n",
    "ax1.set_title(r'$P_{VLE}$ (Bar)',fontsize=18)\n",
    "ax1.grid()\n",
    "plt.show()"
   ]
  },
  {
   "cell_type": "code",
   "execution_count": null,
   "metadata": {},
   "outputs": [],
   "source": [
    "fig, ax1 = plt.subplots(figsize=(16,9))\n",
    "for c in catrange:\n",
    "    ax1.plot(Trange,np.multiply(rf_data_master[c]['s_L'],rf_data_master[c]['L']))\n",
    "ax1.set_ylabel(r'$s_L \\cdot L$ value',fontsize=14)\n",
    "ax1.set_xlabel('Temperature (K)',fontsize=14)\n",
    "ax1.tick_params(labelsize=14)\n",
    "ax1.legend(catrange,fontsize=14)\n",
    "# ax1.set_ylim(2.49e-5,2.51e-5)\n",
    "ax1.set_title(r'$s_L \\cdot L$',fontsize=18)\n",
    "ax1.grid()\n",
    "plt.show()"
   ]
  },
  {
   "cell_type": "code",
   "execution_count": null,
   "metadata": {},
   "outputs": [],
   "source": []
  }
 ],
 "metadata": {
  "kernelspec": {
   "display_name": "Python 3",
   "language": "python",
   "name": "python3"
  },
  "language_info": {
   "codemirror_mode": {
    "name": "ipython",
    "version": 3
   },
   "file_extension": ".py",
   "mimetype": "text/x-python",
   "name": "python",
   "nbconvert_exporter": "python",
   "pygments_lexer": "ipython3",
   "version": "3.6.3"
  }
 },
 "nbformat": 4,
 "nbformat_minor": 2
}
