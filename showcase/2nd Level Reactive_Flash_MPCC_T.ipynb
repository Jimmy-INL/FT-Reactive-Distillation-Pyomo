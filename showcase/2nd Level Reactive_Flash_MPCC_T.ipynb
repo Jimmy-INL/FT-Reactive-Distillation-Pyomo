{
 "cells": [
  {
   "cell_type": "markdown",
   "metadata": {
    "slideshow": {
     "slide_type": "slide"
    }
   },
   "source": [
    "# 2nd Level Model Structure: Reactive Stage"
   ]
  },
  {
   "cell_type": "code",
   "execution_count": 1,
   "metadata": {},
   "outputs": [],
   "source": [
    "import sys\n",
    "import os\n",
    "import pickle\n",
    "sys.path.append(os.path.abspath('..'))\n",
    "import numpy as np\n",
    "from matplotlib import pyplot as plt"
   ]
  },
  {
   "cell_type": "code",
   "execution_count": 2,
   "metadata": {
    "slideshow": {
     "slide_type": "fragment"
    }
   },
   "outputs": [],
   "source": [
    "from pyomo import environ as pe\n",
    "from global_sets.component import m\n",
    "from utility.display_utility import trans_product_mole, trans_product_mass\n",
    "from utility.model_utility import add_dual, update_dual, check_DOF\n",
    "\n",
    "# stage construction rules\n",
    "from physics.kinetics_bounded import kinetic_block_rule\n",
    "from physics.energy_bounded import energy_block_rule\n",
    "from physics.VLE_bounded_MPCC_T import VLE_block_rule\n",
    "from physics.MPCC_T import dew_block_rule\n",
    "\n",
    "model = pe.ConcreteModel()"
   ]
  },
  {
   "cell_type": "markdown",
   "metadata": {
    "slideshow": {
     "slide_type": "subslide"
    }
   },
   "source": [
    "# Global Sets (Inlet / Outlet)"
   ]
  },
  {
   "cell_type": "code",
   "execution_count": 3,
   "metadata": {
    "slideshow": {
     "slide_type": "fragment"
    }
   },
   "outputs": [],
   "source": [
    "model.inlet = pe.Set(initialize=['in'])\n",
    "model.outlet = pe.Set(initialize=['out','P'])\n",
    "model.stream = model.inlet | model.outlet"
   ]
  },
  {
   "cell_type": "markdown",
   "metadata": {
    "slideshow": {
     "slide_type": "subslide"
    }
   },
   "source": [
    "# Global Variables"
   ]
  },
  {
   "cell_type": "code",
   "execution_count": 4,
   "metadata": {
    "slideshow": {
     "slide_type": "fragment"
    }
   },
   "outputs": [],
   "source": [
    "# Tray Inlet/Outlet Variable\n",
    "model.x_ = pe.Var(model.inlet,m.COMP_TOTAL,within=pe.NonNegativeReals)\n",
    "model.y_ = pe.Var(model.inlet,m.COMP_TOTAL,within=pe.NonNegativeReals)\n",
    "model.x = pe.Var(m.COMP_TOTAL,within=pe.NonNegativeReals)\n",
    "model.y = pe.Var(m.COMP_TOTAL,within=pe.NonNegativeReals)\n",
    "model.z = pe.Var(m.COMP_FEED,within=pe.NonNegativeReals)\n",
    "\n",
    "model.L = pe.Var(model.stream,within=pe.NonNegativeReals)\n",
    "model.V = pe.Var(model.stream,within=pe.NonNegativeReals)\n",
    "model.F = pe.Var(within=pe.NonNegativeReals)\n",
    "\n",
    "model.H_L_ = pe.Var(model.inlet,within=pe.Reals)\n",
    "model.H_V_ = pe.Var(model.inlet,within=pe.Reals)\n",
    "model.H_L = pe.Var(within=pe.Reals)\n",
    "model.H_V = pe.Var(within=pe.Reals)\n",
    "model.H_F = pe.Var(within=pe.Reals)\n",
    "\n",
    "# State Variable\n",
    "model.T = pe.Var(within=pe.NonNegativeReals,bounds=(200+273.15,300+273.15)) # K\n",
    "model.T_F = pe.Var(within=pe.NonNegativeReals) # K\n",
    "model.P = pe.Var(within=pe.NonNegativeReals,bounds=(10,30)) # Bar\n",
    "\n",
    "model.f_V = pe.Var(m.COMP_TOTAL,within=pe.NonNegativeReals,initialize=1e-20)\n",
    "model.f_L = pe.Var(m.COMP_TOTAL,within=pe.NonNegativeReals,initialize=1e-20)\n",
    "\n",
    "model.cat = pe.Var(within=pe.NonNegativeReals,initialize=3000) # kg\n",
    "model.Q_main = pe.Var(within=pe.Reals) # MW\n",
    "model.r_total_comp = pe.Var(m.COMP_TOTAL,within=pe.Reals) # kmol/s"
   ]
  },
  {
   "cell_type": "markdown",
   "metadata": {
    "slideshow": {
     "slide_type": "slide"
    }
   },
   "source": [
    "# Construct Individual Blocks"
   ]
  },
  {
   "cell_type": "code",
   "execution_count": 5,
   "metadata": {
    "slideshow": {
     "slide_type": "subslide"
    }
   },
   "outputs": [
    {
     "name": "stdout",
     "output_type": "stream",
     "text": [
      "> Importing Kinetics Blocks......\n",
      "> Adding the following local variable:\n",
      "--------------------------------------------------\n",
      "| kinetics_block.k_FT\n",
      "| kinetics_block.r_FT_total\n",
      "| kinetics_block.g0_FT\n",
      "| kinetics_block.alpha\n",
      "| kinetics_block.r_FT_cnum\n",
      "| kinetics_block.r_FT_comp\n",
      "| kinetics_block.k_WGS\n",
      "| kinetics_block.Ke_WGS\n",
      "| kinetics_block.r_WGS\n",
      "| kinetics_block.r_WGS_comp\n",
      "--------------------------------------------------\n",
      "\n"
     ]
    }
   ],
   "source": [
    "model.kinetics_block = pe.Block(rule=kinetic_block_rule)"
   ]
  },
  {
   "cell_type": "code",
   "execution_count": 6,
   "metadata": {
    "slideshow": {
     "slide_type": "subslide"
    }
   },
   "outputs": [
    {
     "name": "stdout",
     "output_type": "stream",
     "text": [
      "> Importing Energy Blocks......\n",
      "> Adding the following local variable:\n",
      "--------------------------------------------------\n",
      "| energy_block.dH_F\n",
      "| energy_block.dH_V\n",
      "| energy_block.dH_L\n",
      "| energy_block.dH_vap\n",
      "--------------------------------------------------\n",
      "\n"
     ]
    }
   ],
   "source": [
    "model.energy_block = pe.Block(rule=energy_block_rule)"
   ]
  },
  {
   "cell_type": "code",
   "execution_count": 7,
   "metadata": {
    "scrolled": false,
    "slideshow": {
     "slide_type": "subslide"
    }
   },
   "outputs": [
    {
     "name": "stdout",
     "output_type": "stream",
     "text": [
      "> Importing VLE Blocks......\n",
      "> Adding the following local variable:\n",
      "--------------------------------------------------\n",
      "| VLE_block.T_VLE\n",
      "| VLE_block.n_ave\n",
      "| VLE_block.n_ave_cal\n",
      "| VLE_block.Hen\n",
      "| VLE_block.Hen0\n",
      "| VLE_block.gamma\n",
      "| VLE_block.P_sat\n",
      "| VLE_block.P_sat_Y\n",
      "| VLE_block.P_sat_dY_inf\n",
      "| VLE_block.P_sat_dY0\n",
      "| VLE_block.Hen_ref\n",
      "| VLE_block.Hen0_ref\n",
      "| VLE_block.gamma_ref\n",
      "| VLE_block.V_L\n",
      "| VLE_block.V_L_dY_inf\n",
      "| VLE_block.V_L_dY0\n",
      "| VLE_block.poynting\n",
      "--------------------------------------------------\n",
      "\n"
     ]
    }
   ],
   "source": [
    "model.VLE_block = pe.Block(rule=VLE_block_rule)"
   ]
  },
  {
   "cell_type": "markdown",
   "metadata": {
    "slideshow": {
     "slide_type": "slide"
    }
   },
   "source": [
    "# Standard MESH Equations"
   ]
  },
  {
   "cell_type": "markdown",
   "metadata": {
    "slideshow": {
     "slide_type": "subslide"
    }
   },
   "source": [
    "## Mass Balance"
   ]
  },
  {
   "cell_type": "markdown",
   "metadata": {
    "slideshow": {
     "slide_type": "fragment"
    }
   },
   "source": [
    "\\begin{equation}\n",
    "Fz_{i}+\\sum_{s\\in{inlet}}L_{s}x'_{i,s}+\\sum_{s\\in{inlet}}V_{s}y'_{i,s}-\\sum_{s\\in{outlet}}L_{s}x_{i,s}-\\sum_{s\\in{ouelet}}V_{s}y_{i,s}+R_{i} = 0 \\\\\n",
    "i = 1,...NC\n",
    "\\end{equation}"
   ]
  },
  {
   "cell_type": "code",
   "execution_count": 8,
   "metadata": {
    "slideshow": {
     "slide_type": "fragment"
    }
   },
   "outputs": [],
   "source": [
    "def mass_balance_main_rule(model,i):\n",
    "    if i in m.COMP_FEED:\n",
    "        return model.F*model.z[i] + sum(model.L[s]*model.x_[s,i] + model.V[s]*model.y_[s,i] for s in model.inlet)\\\n",
    "        + model.r_total_comp[i] - sum(model.L[s]*model.x[i] + model.V[s]*model.y[i] for s in model.outlet) == 0\n",
    "    else:\n",
    "        return sum(model.L[s]*model.x_[s,i] + model.V[s]*model.y_[s,i] for s in model.inlet)\\\n",
    "        + model.r_total_comp[i] - sum(model.L[s]*model.x[i] + model.V[s]*model.y[i] for s in model.outlet) == 0\n",
    "model.mass_balance_main_con = pe.Constraint(m.COMP_TOTAL,rule=mass_balance_main_rule)"
   ]
  },
  {
   "cell_type": "markdown",
   "metadata": {
    "slideshow": {
     "slide_type": "subslide"
    }
   },
   "source": [
    "## Equilibrium"
   ]
  },
  {
   "cell_type": "markdown",
   "metadata": {
    "slideshow": {
     "slide_type": "fragment"
    }
   },
   "source": [
    "\\begin{align}\n",
    "&f_{i,V} = f_{i,L} \\\\\n",
    "&i = 1,...NC\n",
    "\\end{align}"
   ]
  },
  {
   "cell_type": "code",
   "execution_count": 9,
   "metadata": {
    "slideshow": {
     "slide_type": "fragment"
    }
   },
   "outputs": [],
   "source": [
    "def VL_equil_rule(model,i):\n",
    "    return model.f_V[i] == model.f_L[i]\n",
    "model.VL_equil_con = pe.Constraint(m.COMP_TOTAL,rule=VL_equil_rule)"
   ]
  },
  {
   "cell_type": "markdown",
   "metadata": {},
   "source": [
    "## MPCC: T"
   ]
  },
  {
   "cell_type": "code",
   "execution_count": 10,
   "metadata": {
    "scrolled": false
   },
   "outputs": [
    {
     "name": "stdout",
     "output_type": "stream",
     "text": [
      "> Importing dew Blocks......\n",
      "> Adding the following local variable:\n",
      "------------------------------------\n",
      "| MPCC.x\n",
      "| MPCC.y\n",
      "| MPCC.T\n",
      "| MPCC.P\n",
      "| MPCC.f_V\n",
      "| MPCC.f_L\n",
      "| MPCC.beta\n",
      "| MPCC.s_L\n",
      "| MPCC.s_V\n",
      "| MPCC.epi\n",
      "------------------------------------\n",
      "\n",
      "> Importing VLE Blocks......\n",
      "> Adding the following local variable:\n",
      "--------------------------------------------------\n",
      "| MPCC.VLE_block.n_ave\n",
      "| MPCC.VLE_block.n_ave_cal\n",
      "| MPCC.VLE_block.Hen\n",
      "| MPCC.VLE_block.Hen0\n",
      "| MPCC.VLE_block.gamma\n",
      "| MPCC.VLE_block.P_sat\n",
      "| MPCC.VLE_block.P_sat_Y\n",
      "| MPCC.VLE_block.P_sat_dY_inf\n",
      "| MPCC.VLE_block.P_sat_dY0\n",
      "| MPCC.VLE_block.Hen_ref\n",
      "| MPCC.VLE_block.Hen0_ref\n",
      "| MPCC.VLE_block.gamma_ref\n",
      "| MPCC.VLE_block.V_L\n",
      "| MPCC.VLE_block.V_L_dY_inf\n",
      "| MPCC.VLE_block.V_L_dY0\n",
      "| MPCC.VLE_block.poynting\n",
      "--------------------------------------------------\n",
      "\n"
     ]
    }
   ],
   "source": [
    "model.MPCC = pe.Block(rule=dew_block_rule)"
   ]
  },
  {
   "cell_type": "markdown",
   "metadata": {
    "slideshow": {
     "slide_type": "subslide"
    }
   },
   "source": [
    "## Summation"
   ]
  },
  {
   "cell_type": "markdown",
   "metadata": {
    "slideshow": {
     "slide_type": "fragment"
    }
   },
   "source": [
    "\\begin{equation}\n",
    "\\sum_ix_{i} = \\sum_iy_{i} \\\\\n",
    "F + L_{in} + V_{in} + R = L_{out} + V_{out}\n",
    "\\end{equation}"
   ]
  },
  {
   "cell_type": "code",
   "execution_count": 11,
   "metadata": {
    "slideshow": {
     "slide_type": "fragment"
    }
   },
   "outputs": [],
   "source": [
    "def summation_x_y_rule(model):\n",
    "    return sum(model.x[i] for i in m.COMP_TOTAL) == sum(model.y[i] for i in m.COMP_TOTAL)\n",
    "model.summation_x_y_con = pe.Constraint(rule=summation_x_y_rule)\n",
    "\n",
    "def summation_total_mass_rule(model):\n",
    "    return model.F + sum(model.L[s] + model.V[s] for s in model.inlet) + sum(model.r_total_comp[i] for i in m.COMP_TOTAL)\\\n",
    "            - sum(model.L[s] + model.V[s] for s in model.outlet) == 0\n",
    "model.summation_total_mass_con = pe.Constraint(rule=summation_total_mass_rule)"
   ]
  },
  {
   "cell_type": "markdown",
   "metadata": {
    "slideshow": {
     "slide_type": "subslide"
    }
   },
   "source": [
    "## Energy Balance"
   ]
  },
  {
   "cell_type": "markdown",
   "metadata": {
    "slideshow": {
     "slide_type": "fragment"
    }
   },
   "source": [
    "\\begin{equation}\n",
    "F H_f+\\sum_{s\\in{inlet}}L_{s}H_{l,s}+\\sum_{s\\in{inlet}}V_{s}H_{v,s}-\\sum_{s\\in{outlet}}L_{s}H_{l,s}-\\sum_{s\\in{outlet}}V_{s}H_{v,s}+Q = 0\n",
    "\\end{equation}"
   ]
  },
  {
   "cell_type": "code",
   "execution_count": 12,
   "metadata": {
    "slideshow": {
     "slide_type": "fragment"
    }
   },
   "outputs": [],
   "source": [
    "def heat_balance_main_rule(model):\n",
    "    return model.F*model.H_F + sum(model.L[s]*model.H_L_[s] + model.V[s]*model.H_V_[s] for s in model.inlet) \\\n",
    "            + model.Q_main - sum(model.L[s]*model.H_L + model.V[s]*model.H_V for s in model.outlet) == 0\n",
    "model.heat_balance_main_con = pe.Constraint(rule=heat_balance_main_rule)"
   ]
  },
  {
   "cell_type": "markdown",
   "metadata": {
    "slideshow": {
     "slide_type": "slide"
    }
   },
   "source": [
    "# Testing"
   ]
  },
  {
   "cell_type": "code",
   "execution_count": 13,
   "metadata": {
    "slideshow": {
     "slide_type": "fragment"
    }
   },
   "outputs": [
    {
     "name": "stdout",
     "output_type": "stream",
     "text": [
      "Created the follow pyomo suffixes:\n",
      "ipopt_zL_out, ipopt_zU_out, ipopt_zL_in, ipopt_zU_in, dual\n"
     ]
    }
   ],
   "source": [
    "add_dual(pe,model)"
   ]
  },
  {
   "cell_type": "markdown",
   "metadata": {
    "slideshow": {
     "slide_type": "fragment"
    }
   },
   "source": [
    "## Fixing In/Product Redundent Flow"
   ]
  },
  {
   "cell_type": "code",
   "execution_count": 14,
   "metadata": {
    "slideshow": {
     "slide_type": "fragment"
    }
   },
   "outputs": [],
   "source": [
    "model.x_.fix(0)\n",
    "model.y_.fix(0)\n",
    "model.L['in'].fix(0)\n",
    "model.L['P'].fix(0)\n",
    "model.V['in'].fix(0)\n",
    "model.V['P'].fix(0)\n",
    "model.H_L_.fix(0)\n",
    "model.H_V_.fix(0)"
   ]
  },
  {
   "cell_type": "markdown",
   "metadata": {
    "slideshow": {
     "slide_type": "subslide"
    }
   },
   "source": [
    "## Fixing Model Parameters"
   ]
  },
  {
   "cell_type": "code",
   "execution_count": 15,
   "metadata": {
    "slideshow": {
     "slide_type": "fragment"
    }
   },
   "outputs": [],
   "source": [
    "model.cat.fix(3000)\n",
    "model.P.fix(20)\n",
    "model.T_F.fix(200+273.15)\n",
    "model.F.fix(1)\n",
    "model.z['CO'].fix(1/(1+0.8)-0/2)\n",
    "model.z['H2'].fix(0.8/(1+0.8)-0/2)\n",
    "model.z['C30H62'].fix(0)\n",
    "model.VLE_block.n_ave.fix(20)"
   ]
  },
  {
   "cell_type": "code",
   "execution_count": 16,
   "metadata": {
    "scrolled": true,
    "slideshow": {
     "slide_type": "fragment"
    }
   },
   "outputs": [
    {
     "name": "stdout",
     "output_type": "stream",
     "text": [
      "Active Equality Constraints:\t 1895\n",
      "Active Inequality Constraints:\t 1\n",
      "Active Variables:\t\t 2071\n",
      "Fixed Variables:\t\t 173\n",
      "DOF:\t\t\t\t 3\n"
     ]
    }
   ],
   "source": [
    "check_DOF(pe,model)"
   ]
  },
  {
   "cell_type": "markdown",
   "metadata": {
    "slideshow": {
     "slide_type": "subslide"
    }
   },
   "source": [
    "## Fix T or to fix Q? we have found that Maximize against an upper bound is most reliable"
   ]
  },
  {
   "cell_type": "code",
   "execution_count": 17,
   "metadata": {
    "slideshow": {
     "slide_type": "fragment"
    }
   },
   "outputs": [],
   "source": [
    "model.T.setub(300+273.15)\n",
    "# model.T.fix(524)"
   ]
  },
  {
   "cell_type": "code",
   "execution_count": 18,
   "metadata": {
    "slideshow": {
     "slide_type": "fragment"
    }
   },
   "outputs": [],
   "source": [
    "# model.obj = pe.Objective(expr = model.L['out'],sense=pe.maximize)\n",
    "# model.obj = pe.Objective(expr = model.cat,sense=pe.minimize)\n",
    "# model.obj = pe.Objective(expr = model.T - model.MPCC.pf ,sense=pe.maximize)\n",
    "model.obj = pe.Objective(expr = model.T ,sense=pe.maximize)"
   ]
  },
  {
   "cell_type": "code",
   "execution_count": 19,
   "metadata": {
    "scrolled": false,
    "slideshow": {
     "slide_type": "fragment"
    }
   },
   "outputs": [
    {
     "name": "stdout",
     "output_type": "stream",
     "text": [
      "Ipopt 3.12.8: print_user_options=yes\n",
      "linear_solver=ma86\n",
      "linear_system_scaling =mc19\n",
      "linear_scaling_on_demand =no\n",
      "max_iter=7000\n",
      "\n",
      "\n",
      "List of user-set options:\n",
      "\n",
      "                                    Name   Value                used\n",
      "                linear_scaling_on_demand = no                    yes\n",
      "                           linear_solver = ma86                  yes\n",
      "                   linear_system_scaling = mc19                  yes\n",
      "                                max_iter = 7000                  yes\n",
      "                      print_user_options = yes                   yes\n",
      "\n",
      "******************************************************************************\n",
      "This program contains Ipopt, a library for large-scale nonlinear optimization.\n",
      " Ipopt is released as open source code under the Eclipse Public License (EPL).\n",
      "         For more information visit http://projects.coin-or.org/Ipopt\n",
      "******************************************************************************\n",
      "\n",
      "This is Ipopt version 3.12.8, running with linear solver ma86.\n",
      "\n",
      "Number of nonzeros in equality constraint Jacobian...:     6433\n",
      "Number of nonzeros in inequality constraint Jacobian.:        2\n",
      "Number of nonzeros in Lagrangian Hessian.............:     8632\n",
      "\n",
      "Total number of variables............................:     1897\n",
      "                     variables with only lower bounds:      700\n",
      "                variables with lower and upper bounds:     1026\n",
      "                     variables with only upper bounds:        0\n",
      "Total number of equality constraints.................:     1895\n",
      "Total number of inequality constraints...............:        1\n",
      "        inequality constraints with only lower bounds:        0\n",
      "   inequality constraints with lower and upper bounds:        0\n",
      "        inequality constraints with only upper bounds:        1\n",
      "\n",
      "iter    objective    inf_pr   inf_du lg(mu)  ||d||  lg(rg) alpha_du alpha_pr  ls\n",
      "   0 -4.7415000e+02 7.97e+03 1.00e+00  -1.0 0.00e+00    -  0.00e+00 0.00e+00   0\n",
      "   1 -4.7416186e+02 7.96e+03 1.63e+02  -1.0 8.92e+03    -  4.71e-04 8.14e-04h  1\n",
      "   2 -4.7416649e+02 7.96e+03 1.63e+02  -1.0 1.04e+03   0.2 7.20e-05 7.21e-05f  1\n",
      "   3r-4.7416649e+02 7.96e+03 9.99e+02   3.8 0.00e+00    -  0.00e+00 3.10e-07R  6\n",
      "   4r-4.7416954e+02 7.96e+03 4.52e+03   3.8 6.81e+05    -  1.53e-03 7.19e-07f  1\n",
      "   5r-4.8971052e+02 4.05e+03 4.50e+03   1.7 5.33e+05    -  2.84e-04 5.79e-03f  1\n",
      "   6 -4.8971443e+02 4.05e+03 2.46e+03  -1.0 9.24e+04    -  5.46e-05 9.02e-05h  1\n",
      "   7 -4.8971616e+02 4.05e+03 3.39e+03  -1.0 9.29e+04    -  5.36e-05 3.98e-05h  1\n",
      "   8 -4.8971992e+02 4.05e+03 3.51e+03  -1.0 1.09e+04    -  1.17e-05 7.95e-05h  1\n",
      "   9r-4.8971992e+02 4.05e+03 9.99e+02   3.5 0.00e+00    -  0.00e+00 4.77e-07R  2\n",
      "iter    objective    inf_pr   inf_du lg(mu)  ||d||  lg(rg) alpha_du alpha_pr  ls\n",
      "  10r-4.8972014e+02 4.05e+03 9.99e+02   3.5 8.11e+05    -  1.34e-04 5.04e-08f  1\n",
      "  11r-5.0687285e+02 5.13e+02 9.96e+02   2.1 8.50e+05    -  9.86e-04 3.87e-03f  1\n",
      "  12 -5.0688340e+02 5.13e+02 1.82e+02  -1.0 9.70e+03    -  2.20e-04 2.54e-04h  1\n",
      "  13r-5.0688340e+02 5.13e+02 9.99e+02   2.7 0.00e+00    -  0.00e+00 2.91e-07R  4\n",
      "  14r-5.0688360e+02 5.13e+02 9.99e+02   2.7 3.63e+04    -  3.25e-04 4.43e-07f  2\n",
      "  15r-5.0702922e+02 5.13e+02 1.63e+03   2.7 3.32e+04    -  3.22e-03 3.33e-04f  1\n",
      "  16r-5.0801470e+02 5.13e+02 1.31e+03   2.0 1.69e+04    -  1.77e-03 3.49e-03f  1\n",
      "  17r-5.0807477e+02 5.13e+02 1.72e+03   2.0 1.47e+04    -  2.89e-03 1.49e-04f  1\n",
      "  18r-5.0933230e+02 5.12e+02 9.85e+02   2.0 1.42e+04    -  3.59e-03 1.11e-02f  1\n",
      "  19r-5.1206793e+02 5.12e+02 9.83e+02   2.0 1.51e+04  -2.0 3.87e-03 1.00e-03f  1\n",
      "iter    objective    inf_pr   inf_du lg(mu)  ||d||  lg(rg) alpha_du alpha_pr  ls\n",
      "  20r-5.1576834e+02 5.10e+02 1.60e+03   2.0 1.96e+04    -  6.96e-03 1.73e-02f  1\n",
      "  21r-5.1802673e+02 5.07e+02 1.98e+03   2.0 7.93e+03    -  3.12e-02 2.88e-02f  1\n",
      "  22r-5.1944330e+02 5.03e+02 4.10e+03   2.0 2.78e+03    -  4.55e-02 4.95e-02f  1\n",
      "  23r-5.2118728e+02 4.92e+02 2.15e+04   2.0 1.39e+03    -  5.11e-02 1.17e-01f  1\n",
      "  24r-5.2154197e+02 4.85e+02 1.81e+04   1.3 4.03e+02    -  2.36e-01 8.84e-02f  1\n",
      "  25r-5.2170273e+02 4.61e+02 1.87e+04   1.3 7.85e+02    -  3.48e-01 1.27e-01f  1\n",
      "  26 -5.2169204e+02 4.61e+02 4.66e+01  -1.0 6.35e+03    -  1.19e-03 1.07e-03h  1\n",
      "  27 -5.2169197e+02 4.61e+02 4.08e+01  -1.0 6.29e+03    -  2.60e-02 1.07e-05h  1\n",
      "  28 -5.2171931e+02 4.61e+02 4.22e+02  -1.0 1.39e+05    -  2.53e-05 3.12e-05h  1\n",
      "  29 -5.2184493e+02 4.60e+02 3.78e+03  -1.0 2.27e+05    -  3.51e-05 8.83e-05f  2\n",
      "iter    objective    inf_pr   inf_du lg(mu)  ||d||  lg(rg) alpha_du alpha_pr  ls\n",
      "  30 -5.2197703e+02 4.60e+02 4.47e+03  -1.0 3.28e+04    -  9.43e-04 6.41e-04h  1\n",
      "  31r-5.2197703e+02 4.60e+02 9.99e+02   2.7 0.00e+00    -  0.00e+00 2.56e-07R  4\n",
      "  32r-5.2197714e+02 4.60e+02 1.45e+04   2.7 2.49e+03    -  1.18e-02 1.41e-05f  1\n",
      "  33r-5.2201529e+02 2.87e+02 2.21e+04   2.0 2.49e+03    -  1.38e-01 6.95e-02f  1\n",
      "  34 -5.2204781e+02 2.87e+02 3.14e+01  -1.0 1.82e+04    -  1.10e-03 2.84e-04h  1\n",
      "  35 -5.2225060e+02 2.87e+02 4.52e+02  -1.0 1.19e+05    -  6.42e-05 2.72e-04h  1\n",
      "  36 -5.2306165e+02 2.86e+02 6.83e+03  -1.0 1.15e+05    -  7.83e-04 1.13e-03h  1\n",
      "  37 -5.2307023e+02 2.86e+02 6.83e+03  -1.0 1.14e+05    -  2.39e-03 1.21e-05h  1\n",
      "  38r-5.2307023e+02 2.86e+02 1.00e+03   2.5 0.00e+00    -  0.00e+00 3.52e-07R  8\n",
      "  39r-5.2307035e+02 2.86e+02 2.92e+03   2.5 1.28e+04    -  3.73e-03 2.70e-05f  1\n",
      "iter    objective    inf_pr   inf_du lg(mu)  ||d||  lg(rg) alpha_du alpha_pr  ls\n",
      "  40r-5.2307903e+02 2.62e+02 1.17e+04   2.5 1.27e+04    -  1.85e-02 1.88e-03f  1\n",
      "  41r-5.2308269e+02 3.55e+01 2.80e+04   1.8 1.21e+04    -  1.74e-01 2.15e-02f  1\n",
      "  42 -5.2325041e+02 3.55e+01 1.30e+04  -1.0 8.99e+04    -  1.61e-03 3.00e-04h  1\n",
      "  43r-5.2325041e+02 3.55e+01 1.00e+03   0.7 0.00e+00    -  0.00e+00 2.73e-07R  6\n",
      "  44r-5.2324978e+02 3.27e+01 9.97e+02   0.7 5.05e+03    -  4.33e-03 1.64e-04f  1\n",
      "  45r-5.2324978e+02 3.27e+01 9.99e+02   0.7 0.00e+00    -  0.00e+00 4.36e-07R  5\n",
      "  46r-5.2324825e+02 2.55e+01 9.97e+02   0.7 4.30e+03    -  3.18e-03 4.46e-04f  1\n",
      "  47 -5.2326480e+02 2.55e+01 4.22e+00  -1.0 6.70e+04    -  2.14e-05 3.96e-05f  1\n",
      "  48 -5.2328083e+02 2.55e+01 9.69e+00  -1.0 2.90e+05    -  1.49e-05 8.86e-06f  1\n",
      "  49 -5.2330098e+02 2.55e+01 2.96e+01  -1.0 4.84e+05    -  1.78e-05 6.68e-06f  1\n",
      "iter    objective    inf_pr   inf_du lg(mu)  ||d||  lg(rg) alpha_du alpha_pr  ls\n",
      "  50r-5.2330098e+02 2.55e+01 9.99e+02   0.4 0.00e+00    -  0.00e+00 2.93e-07R  6\n",
      "  51r-5.2330094e+02 2.49e+01 1.00e+03   0.4 2.85e+03    -  4.60e-03 4.53e-05f  1\n",
      "  52r-5.2329471e+02 1.27e+01 9.97e+02   0.4 2.56e+03    -  4.90e-03 2.64e-03f  1\n",
      "  53 -5.2331768e+02 1.27e+01 1.03e+01  -1.0 2.00e+05    -  3.36e-05 1.84e-05h  1\n",
      "  54 -5.2342681e+02 1.27e+01 2.45e+02  -1.0 2.23e+05    -  1.68e-04 7.86e-05f  1\n",
      "  55 -5.2378756e+02 1.27e+01 3.07e+03  -1.0 2.39e+05    -  1.39e-04 2.42e-04f  1\n",
      "  56r-5.2378756e+02 1.27e+01 9.99e+02   0.3 0.00e+00    -  0.00e+00 2.69e-07R  3\n",
      "  57r-5.2378720e+02 1.20e+01 1.00e+03   0.3 2.70e+03    -  9.60e-03 1.19e-04f  1\n",
      "  58r-5.2377060e+02 6.98e+00 9.95e+02   0.3 2.07e+03    -  5.39e-03 5.15e-03f  1\n",
      "  59r-5.2373845e+02 3.87e+00 9.87e+02   0.3 2.19e+03    -  3.13e-02 7.99e-03f  1\n",
      "iter    objective    inf_pr   inf_du lg(mu)  ||d||  lg(rg) alpha_du alpha_pr  ls\n",
      "  60r-5.2355885e+02 2.09e+00 1.93e+03   0.3 2.29e+03    -  1.04e-01 3.11e-02f  1\n",
      "  61r-5.2305533e+02 2.55e+00 2.02e+03   0.3 2.38e+03    -  9.07e-02 7.02e-02f  1\n",
      "  62r-5.2287525e+02 2.55e+00 5.33e+03   0.3 1.96e+03    -  1.96e-01 2.49e-02f  1\n",
      "  63r-5.2271513e+02 2.54e+00 8.96e+03   0.3 1.61e+03    -  2.72e-01 3.37e-02f  1\n",
      "  64r-5.2219113e+02 3.14e+00 8.68e+03   0.3 1.34e+03    -  1.88e-01 1.05e-01f  1\n",
      "  65r-5.2082100e+02 9.03e+00 5.77e+03   0.3 1.08e+03    -  2.80e-01 3.11e-01f  1\n",
      "  66r-5.2115162e+02 6.98e+00 4.83e+03   0.3 5.09e+01  -2.0 3.01e-01 2.37e-01f  1\n",
      "  67r-5.2191698e+02 4.34e+00 9.75e+03   0.3 2.38e+01  -1.6 9.90e-01 3.98e-01f  1\n",
      "  68r-5.2256482e+02 3.71e+00 1.06e+04   0.3 1.45e+03    -  4.16e-01 1.47e-01f  1\n",
      "  69r-5.2267493e+02 3.57e+00 1.43e+04   0.3 3.56e+02    -  1.00e+00 3.62e-02f  1\n",
      "iter    objective    inf_pr   inf_du lg(mu)  ||d||  lg(rg) alpha_du alpha_pr  ls\n",
      "  70r-5.2392044e+02 2.07e+00 8.12e+03   0.3 1.85e+02    -  1.00e+00 4.22e-01f  1\n",
      "  71r-5.2564118e+02 3.28e-01 1.63e+02   0.3 1.12e+02    -  1.00e+00 1.00e+00f  1\n",
      "  72 -5.2575659e+02 3.26e-01 9.57e+02  -1.0 1.52e+02    -  3.49e-03 4.27e-03h  1\n",
      "  73 -5.2578994e+02 3.26e-01 9.73e+02  -1.0 1.51e+02    -  1.08e-02 1.18e-03f  5\n",
      "  74 -5.2629096e+02 3.13e-01 6.25e+03  -1.0 1.51e+02    -  3.08e-02 1.78e-02h  1\n",
      "  75 -5.2629608e+02 3.13e-01 6.31e+03  -1.0 8.99e+02    -  4.16e-02 1.86e-04h  1\n",
      "  76r-5.2629608e+02 3.13e-01 1.00e+03  -0.5 0.00e+00    -  0.00e+00 4.11e-07R 10\n",
      "  77r-5.2629596e+02 1.63e-01 9.97e+02  -0.5 3.13e+02    -  1.63e-01 9.91e-04f  1\n"
     ]
    },
    {
     "name": "stdout",
     "output_type": "stream",
     "text": [
      "  78r-5.2629596e+02 1.63e-01 9.99e+02  -0.8 0.00e+00    -  0.00e+00 4.70e-07R  4\n",
      "  79r-5.2629537e+02 1.63e-01 9.97e+02  -0.8 1.23e+02    -  8.96e-02 2.10e-03f  1\n",
      "iter    objective    inf_pr   inf_du lg(mu)  ||d||  lg(rg) alpha_du alpha_pr  ls\n",
      "  80r-5.2629628e+02 1.59e-01 9.46e+02  -0.8 1.24e+02    -  1.74e-01 5.10e-02f  1\n",
      "  81r-5.2630838e+02 4.98e+00 7.04e+02  -0.8 9.65e+01    -  2.89e-01 2.56e-01f  1\n",
      "  82r-5.2633843e+02 5.20e+00 4.07e+03  -0.8 9.24e+01    -  5.75e-01 2.29e-01f  1\n",
      "  83r-5.2638501e+02 4.45e+00 5.20e+03  -0.8 8.20e+01    -  6.22e-01 2.65e-01f  1\n",
      "  84r-5.2660756e+02 6.27e+00 3.39e+03  -0.8 5.56e+01    -  9.88e-01 5.78e-01f  1\n",
      "  85r-5.2798510e+02 2.00e+00 4.12e+04  -0.8 3.82e+01    -  7.44e-02 7.51e-01f  1\n",
      "  86r-5.2774151e+02 8.59e-01 5.93e+04  -0.8 1.08e+01    -  9.94e-01 1.00e+00f  1\n",
      "  87r-5.2774146e+02 8.16e-02 4.08e+02  -0.8 7.93e-04   4.0 1.00e+00 1.00e+00h  1\n",
      "  88 -5.2772880e+02 8.16e-02 1.91e+02  -1.0 1.57e+04    -  1.60e-04 3.18e-05f  2\n",
      "  89 -5.2767804e+02 8.16e-02 2.90e+03  -1.0 1.51e+04    -  1.18e-03 1.18e-04f  2\n",
      "iter    objective    inf_pr   inf_du lg(mu)  ||d||  lg(rg) alpha_du alpha_pr  ls\n",
      "  90 -5.2761624e+02 8.16e-02 6.05e+03  -1.0 1.15e+04    -  2.59e-03 1.77e-04f  2\n",
      "  91 -5.2758104e+02 8.16e-02 1.01e+04  -1.0 4.32e+04    -  4.27e-03 1.43e-04f  2\n",
      "  92 -5.2743486e+02 3.82e-01 3.66e+05  -1.0 1.39e+05    -  2.59e-03 1.09e-03f  1\n",
      "  93 -5.2729838e+02 8.77e-01 9.73e+05  -1.0 1.34e+05    -  4.66e-03 1.29e-03f  2\n",
      "  94 -5.2724188e+02 9.56e-01 1.09e+06  -1.0 1.18e+05    -  6.82e-03 5.90e-04f  4\n",
      "  95 -5.2720735e+02 9.85e-01 1.13e+06  -1.0 1.12e+05    -  9.81e-03 3.74e-04f  5\n",
      "  96 -5.2716867e+02 1.02e+00 1.19e+06  -1.0 1.09e+05    -  7.37e-03 4.29e-04f  5\n",
      "  97 -5.2715774e+02 1.02e+00 1.19e+06  -1.0 1.06e+05    -  2.04e-02 1.24e-04f  7\n",
      "  98 -5.2643487e+02 1.32e+01 1.99e+07  -1.0 1.05e+05    -  6.40e-03 8.26e-03f  1\n",
      "  99 -5.2637541e+02 1.33e+01 2.00e+07  -1.0 6.30e+04    -  2.13e-04 9.47e-04f  3\n",
      "iter    objective    inf_pr   inf_du lg(mu)  ||d||  lg(rg) alpha_du alpha_pr  ls\n",
      " 100 -5.2635168e+02 1.33e+01 2.00e+07  -1.0 6.10e+04    -  1.34e-02 3.85e-04h  5\n",
      " 101 -5.2632401e+02 1.33e+01 2.00e+07  -1.0 6.02e+04    -  8.06e-02 4.53e-04h  5\n",
      " 102 -5.2629131e+02 1.33e+01 2.00e+07  -1.0 5.94e+04    -  1.87e-03 5.39e-04h  5\n",
      " 103 -5.2627168e+02 1.33e+01 2.00e+07  -1.0 5.84e+04    -  1.10e-01 3.27e-04h  6\n",
      " 104 -5.2624999e+02 1.33e+01 2.00e+07  -1.0 5.78e+04    -  2.78e-03 3.63e-04h  6\n",
      " 105 -5.2622587e+02 1.33e+01 2.00e+07  -1.0 5.72e+04    -  8.71e-02 4.06e-04h  6\n",
      " 106 -5.2619426e+02 1.33e+01 2.00e+07  -1.0 5.64e+04    -  3.52e-03 5.36e-04h  2\n",
      " 107 -5.2616326e+02 1.33e+01 2.00e+07  -1.0 5.56e+04    -  9.77e-02 5.30e-04h  6\n",
      " 108 -5.2614085e+02 1.33e+01 2.00e+07  -1.0 5.47e+04    -  4.64e-03 3.87e-04h  6\n",
      " 109 -5.2516119e+02 2.62e+01 3.64e+07  -1.0 5.42e+04    -  1.62e-01 1.70e-02w  1\n",
      "iter    objective    inf_pr   inf_du lg(mu)  ||d||  lg(rg) alpha_du alpha_pr  ls\n",
      " 110 -5.2370140e+02 4.28e+01 6.42e+08  -1.0 3.47e+04    -  1.21e-02 3.12e-02w  1\n",
      " 111 -5.2152628e+02 5.88e+01 1.59e+08  -1.0 2.07e+04    -  8.89e-02 5.49e-02w  1\n",
      " 112 -5.2611023e+02 1.33e+01 2.00e+07  -1.0 1.13e+04    -  1.62e-01 5.31e-04h  5\n",
      " 113 -5.2608912e+02 1.33e+01 1.98e+07  -1.0 5.34e+04    -  5.50e-03 3.69e-04h  7\n",
      " 114 -5.2606588e+02 1.33e+01 1.97e+07  -1.0 5.28e+04    -  3.02e-02 4.09e-04h  7\n",
      " 115 -5.2601169e+02 1.33e+01 1.84e+07  -1.0 5.30e+04    -  1.70e-04 9.61e-04f  6\n",
      " 116 -5.2598780e+02 1.33e+01 1.84e+07  -1.0 5.79e+04    -  1.36e-04 4.38e-04f  8\n",
      " 117 -5.2596240e+02 1.33e+01 1.84e+07  -1.0 5.71e+04    -  9.50e-03 4.68e-04h  8\n",
      " 118 -5.2593526e+02 1.34e+01 1.84e+07  -1.0 5.63e+04    -  1.18e-03 5.03e-04h  8\n",
      " 119 -5.2590816e+02 1.34e+01 1.83e+07  -1.0 5.52e+04    -  5.12e-02 5.04e-04h  8\n",
      "iter    objective    inf_pr   inf_du lg(mu)  ||d||  lg(rg) alpha_du alpha_pr  ls\n",
      " 120 -5.2588109e+02 1.34e+01 1.83e+07  -1.0 5.51e+04    -  2.12e-03 5.08e-04h  8\n",
      " 121 -5.2585410e+02 1.34e+01 1.83e+07  -1.0 5.41e+04    -  1.22e-02 5.09e-04h  8\n",
      " 122 -5.2240787e+02 2.01e+02 4.41e+08  -1.0 5.33e+04    -  4.75e-03 6.53e-02w  1\n",
      " 123 -5.2234042e+02 2.00e+02 4.40e+08  -1.0 6.34e+03    -  7.17e-02 1.87e-03w  1\n",
      " 124 -5.2233854e+02 2.00e+02 1.10e+09  -1.0 7.01e+04    -  5.19e-03 6.77e-05w  1\n",
      " 125 -5.2582717e+02 1.34e+01 1.83e+07  -1.0 9.64e+04    -  4.75e-03 5.10e-04h  7\n",
      " 126 -5.2580033e+02 1.34e+01 1.83e+07  -1.0 5.24e+04    -  2.41e-01 5.11e-04h  8\n",
      " 127 -5.2577346e+02 1.34e+01 1.82e+07  -1.0 5.30e+04    -  3.88e-03 5.16e-04h  8\n",
      " 128 -5.2574667e+02 1.34e+01 1.82e+07  -1.0 5.21e+04    -  1.31e-02 5.17e-04h  8\n",
      " 129 -5.2571996e+02 1.34e+01 1.82e+07  -1.0 5.13e+04    -  1.49e-02 5.18e-04h  8\n",
      "iter    objective    inf_pr   inf_du lg(mu)  ||d||  lg(rg) alpha_du alpha_pr  ls\n",
      " 130 -5.2569333e+02 1.34e+01 1.81e+07  -1.0 5.04e+04    -  7.65e-02 5.18e-04h  8\n",
      " 131 -5.2566678e+02 1.34e+01 1.81e+07  -1.0 4.97e+04    -  7.66e-03 5.19e-04h  8\n",
      " 132 -5.2564031e+02 1.34e+01 3.04e+07  -1.0 4.88e+04    -  3.41e-01 5.20e-04h  8\n",
      " 133 -5.2561391e+02 1.34e+01 3.44e+07  -1.0 4.82e+04    -  9.02e-03 5.21e-04h  8\n",
      " 134 -5.2558760e+02 1.34e+01 4.42e+07  -1.0 4.73e+04    -  1.92e-02 5.21e-04h  8\n",
      " 135 -5.2223203e+02 1.60e+02 4.08e+09  -1.0 4.64e+04    -  3.93e-02 6.67e-02w  1\n",
      " 136 -5.2216859e+02 1.59e+02 6.15e+09  -1.0 6.29e+03    -  1.71e-01 1.77e-03w  1\n",
      " 137 -5.2209107e+02 1.60e+02 5.11e+09  -1.0 1.02e+05    -  2.70e-03 3.15e-03w  1\n",
      " 138 -5.2556138e+02 1.34e+01 7.03e+07  -1.0 9.45e+04    -  3.93e-02 5.21e-04h  7\n",
      " 139 -5.2553526e+02 1.34e+01 9.90e+07  -1.0 4.56e+04    -  2.82e-02 5.21e-04h  8\n",
      "iter    objective    inf_pr   inf_du lg(mu)  ||d||  lg(rg) alpha_du alpha_pr  ls\n",
      " 140 -5.2550923e+02 1.34e+01 1.50e+08  -1.0 4.47e+04    -  3.57e-02 5.21e-04h  8\n",
      " 141 -5.2548330e+02 1.34e+01 2.24e+08  -1.0 4.39e+04    -  3.47e-02 5.21e-04h  8\n",
      " 142 -5.2543161e+02 1.34e+01 4.04e+08  -1.0 4.31e+04    -  5.74e-02 1.04e-03h  7\n",
      " 143 -5.2538028e+02 1.34e+01 5.67e+08  -1.0 4.16e+04    -  2.95e-02 1.04e-03h  7\n",
      " 144 -5.2532933e+02 1.35e+01 3.82e+09  -1.0 4.01e+04    -  4.03e-01 1.04e-03h  7\n",
      " 145 -5.2527866e+02 1.35e+01 5.02e+09  -1.0 3.94e+04    -  2.36e-02 1.04e-03h  7\n",
      " 146 -5.2522837e+02 1.35e+01 2.82e+10  -1.0 3.80e+04    -  3.29e-01 1.04e-03h  7\n",
      " 147 -5.2517835e+02 1.35e+01 3.84e+10  -1.0 3.74e+04    -  2.73e-02 1.05e-03h  7\n",
      " 148 -5.2199968e+02 1.02e+02 2.93e+11  -1.0 3.64e+04    -  6.28e-01 6.69e-02w  1\n",
      " 149 -5.2187505e+02 1.03e+02 7.40e+10  -1.0 7.49e+04    -  1.11e-03 4.36e-03w  1\n",
      "iter    objective    inf_pr   inf_du lg(mu)  ||d||  lg(rg) alpha_du alpha_pr  ls\n",
      " 150 -5.2173167e+02 1.07e+02 1.05e+11  -1.0 1.05e+05    -  4.39e-03 5.84e-03w  1\n",
      " 151 -5.2512869e+02 1.35e+01 3.76e+11  -1.0 9.05e+04    -  6.28e-01 1.05e-03h  6\n",
      " 152 -5.2507906e+02 1.35e+01 5.17e+11  -1.0 3.75e+04    -  2.85e-02 1.06e-03h  7\n",
      " 153 -5.2502966e+02 1.35e+01 8.03e+11  -1.0 3.74e+04    -  4.15e-02 1.06e-03h  7\n",
      " 154 -5.2498031e+02 1.35e+01 1.70e+12  -1.0 3.84e+04    -  8.30e-02 1.07e-03h  7\n",
      " 155 -5.2495530e+02 1.35e+01 1.86e+12  -1.0 4.40e+04    -  7.82e-03 5.58e-04h  8\n",
      " 156 -5.2493024e+02 1.35e+01 3.96e+12  -1.0 4.52e+04    -  8.72e-02 5.64e-04h  8\n",
      " 157 -5.2491697e+02 1.35e+01 4.07e+12  -1.0 6.49e+04    -  2.85e-03 3.18e-04h  9\n",
      " 158 -5.2490377e+02 1.35e+01 4.88e+12  -1.0 6.51e+04    -  1.82e-02 3.18e-04h  9\n",
      " 159 -5.2489091e+02 1.35e+01 5.07e+12  -1.0 6.67e+04    -  4.04e-03 3.11e-04h  9\n",
      "iter    objective    inf_pr   inf_du lg(mu)  ||d||  lg(rg) alpha_du alpha_pr  ls\n",
      " 160 -5.2487809e+02 1.35e+01 6.67e+12  -1.0 6.69e+04    -  2.92e-02 3.11e-04h  9\n",
      " 161 -5.2165971e+02 4.46e+02 3.32e+12  -1.0 6.80e+04    -  4.13e-03 7.87e-02w  1\n",
      " 162 -5.2146950e+02 4.43e+02 3.22e+12  -1.0 3.92e+04    -  2.06e-02 7.74e-03w  1\n",
      " 163 -5.2144191e+02 4.43e+02 4.33e+13  -1.0 6.10e+03    -  8.88e-02 7.91e-04w  1\n",
      " 164 -5.2486552e+02 1.35e+01 6.95e+12  -1.0 6.31e+03    -  4.13e-03 3.07e-04h  8\n",
      " 165 -5.2485294e+02 1.35e+01 9.13e+12  -1.0 6.79e+04    -  2.94e-02 3.08e-04h  9\n",
      " 166 -5.2484043e+02 1.35e+01 9.57e+12  -1.0 6.82e+04    -  4.90e-03 3.07e-04h  9\n",
      " 167 -5.2482790e+02 1.35e+01 1.27e+13  -1.0 6.81e+04    -  3.10e-02 3.08e-04h  9\n",
      " 168 -5.2481539e+02 1.35e+01 1.35e+13  -1.0 6.81e+04    -  5.67e-03 3.09e-04h  9\n",
      " 169 -5.2480285e+02 1.35e+01 1.98e+13  -1.0 6.80e+04    -  4.48e-02 3.10e-04h  9\n",
      "iter    objective    inf_pr   inf_du lg(mu)  ||d||  lg(rg) alpha_du alpha_pr  ls\n",
      " 170 -5.2479032e+02 1.35e+01 2.11e+13  -1.0 6.79e+04    -  6.15e-03 3.10e-04h  9\n",
      " 171 -5.2477776e+02 1.35e+01 3.14e+13  -1.0 6.78e+04    -  4.63e-02 3.11e-04h  9\n"
     ]
    },
    {
     "name": "stdout",
     "output_type": "stream",
     "text": [
      " 172 -5.2476518e+02 1.35e+01 3.36e+13  -1.0 6.76e+04    -  6.96e-03 3.12e-04h  9\n",
      " 173 -5.2475263e+02 1.36e+01 4.60e+13  -1.0 6.75e+04    -  4.95e-02 3.12e-04h  9\n",
      " 174 -5.2134538e+02 4.25e+02 2.69e+13  -1.0 6.28e+04    -  9.02e-03 8.36e-02w  1\n",
      " 175 -5.2119112e+02 4.23e+02 2.31e+13  -1.0 3.86e+04    -  1.90e-02 6.30e-03w  1\n",
      " 176 -5.2118603e+02 4.23e+02 3.00e+15  -1.0 1.55e+04    -  1.26e-01 1.65e-04w  1\n",
      " 177 -5.2473932e+02 1.36e+01 4.60e+13  -1.0 6.21e+03    -  9.02e-03 3.27e-04h  8\n",
      " 178 -5.2472622e+02 1.36e+01 4.60e+13  -1.0 5.93e+04    -  8.80e-02 3.19e-04h  9\n",
      " 179 -5.2467804e+02 1.36e+01 4.60e+13  -1.0 3.80e+04    -  5.61e-02 1.10e-03h  7\n",
      "iter    objective    inf_pr   inf_du lg(mu)  ||d||  lg(rg) alpha_du alpha_pr  ls\n",
      " 180 -5.2463135e+02 1.36e+01 4.60e+13  -1.0 3.03e+04    -  3.10e-01 1.05e-03h  7\n",
      " 181 -5.2449543e+02 1.36e+01 4.61e+13  -1.0 1.80e+04    -  2.04e-01 2.97e-03h  4\n",
      " 182 -5.2429278e+02 1.36e+01 4.62e+13  -1.0 1.49e+04    -  2.49e-01 4.48e-03h  3\n",
      " 183 -5.2414185e+02 1.36e+01 4.63e+13  -1.0 1.35e+04    -  1.50e-01 3.41e-03h  3\n",
      " 184 -5.2401374e+02 1.35e+01 4.64e+13  -1.0 1.42e+04    -  3.67e-01 2.96e-03h  3\n",
      " 185 -5.2372891e+02 1.35e+01 4.69e+13  -1.0 9.43e+03    -  9.95e-02 6.59e-03h  1\n",
      " 186 -5.2372496e+02 1.35e+01 4.69e+13  -1.0 1.24e+04    -  4.86e-01 9.48e-05h  1\n",
      " 187 -5.2364923e+02 1.35e+01 4.70e+13  -1.0 2.26e+04    -  8.54e-02 1.87e-03h  6\n",
      " 188 -5.2357500e+02 1.35e+01 4.71e+13  -1.0 2.22e+04    -  1.55e-01 1.84e-03h  6\n",
      " 189 -5.2342952e+02 1.35e+01 4.73e+13  -1.0 2.17e+04    -  1.59e-01 3.63e-03h  5\n",
      "iter    objective    inf_pr   inf_du lg(mu)  ||d||  lg(rg) alpha_du alpha_pr  ls\n",
      " 190 -5.2329010e+02 1.36e+01 4.76e+13  -1.0 2.09e+04    -  3.91e-01 3.52e-03h  5\n",
      " 191 -5.2315666e+02 1.36e+01 4.79e+13  -1.0 2.01e+04    -  1.14e-01 3.40e-03h  5\n",
      " 192 -5.2302911e+02 1.36e+01 4.82e+13  -1.0 1.94e+04    -  3.78e-01 3.27e-03h  5\n",
      " 193 -5.2290735e+02 1.36e+01 4.86e+13  -1.0 1.88e+04    -  1.35e-01 3.15e-03h  5\n",
      " 194 -5.2279124e+02 1.36e+01 4.90e+13  -1.0 1.82e+04    -  4.37e-01 3.02e-03h  5\n",
      " 195 -5.2268064e+02 1.36e+01 4.95e+13  -1.0 1.77e+04    -  1.46e-01 2.90e-03h  5\n",
      " 196 -5.2257540e+02 1.36e+01 5.00e+13  -1.0 1.72e+04    -  1.00e+00 2.77e-03h  5\n",
      " 197 -5.2097465e+02 2.01e+01 2.65e+14  -1.0 1.68e+04    -  1.34e-01 4.24e-02w  1\n",
      " 198 -5.2095528e+02 2.01e+01 1.78e+16  -1.0 1.13e+04    -  2.02e-02 5.46e-04w  1\n",
      " 199 -5.2095491e+02 2.01e+01 3.49e+14  -1.0 7.37e+04    -  1.26e-07 1.27e-05w  1\n",
      "iter    objective    inf_pr   inf_du lg(mu)  ||d||  lg(rg) alpha_du alpha_pr  ls\n",
      " 200 -5.2237531e+02 1.36e+01 5.20e+13  -1.0 1.27e+05    -  1.34e-01 5.30e-03h  3\n",
      " 201 -5.2219559e+02 1.37e+01 5.43e+13  -1.0 1.60e+04    -  8.79e-01 4.80e-03h  4\n",
      " 202 -5.2203471e+02 1.37e+01 5.71e+13  -1.0 1.53e+04    -  1.60e-01 4.33e-03h  4\n",
      " 203 -5.2189109e+02 1.37e+01 6.03e+13  -1.0 1.48e+04    -  1.00e+00 3.89e-03h  4\n",
      " 204 -5.2163533e+02 1.37e+01 7.65e+13  -1.0 1.43e+04    -  1.76e-01 6.97e-03h  3\n",
      " 205 -5.2143743e+02 1.37e+01 9.85e+13  -1.0 1.35e+04    -  9.88e-01 5.44e-03h  3\n",
      " 206 -5.2113342e+02 1.37e+01 2.73e+14  -1.0 1.29e+04    -  2.07e-01 8.42e-03h  2\n",
      " 207 -5.2081693e+02 1.38e+01 7.47e+15  -1.0 1.21e+04    -  9.81e-02 8.84e-03h  1\n",
      " 208 -5.2081345e+02 1.38e+01 1.05e+15  -1.0 2.20e+04    -  8.04e-07 1.01e-04h  1\n",
      " 209 -5.2080729e+02 1.38e+01 1.02e+15  -1.0 1.28e+05    -  9.19e-06 2.54e-04f  8\n",
      "iter    objective    inf_pr   inf_du lg(mu)  ||d||  lg(rg) alpha_du alpha_pr  ls\n",
      " 210 -5.2080112e+02 1.38e+01 1.02e+15  -1.0 1.27e+05    -  2.64e-04 2.54e-04h  8\n",
      " 211 -5.2079803e+02 1.38e+01 1.09e+15  -1.0 1.27e+05    -  5.21e-04 1.27e-04h  9\n",
      " 212 -5.2079649e+02 1.38e+01 1.20e+15  -1.0 1.26e+05    -  6.51e-04 6.36e-05h 10\n",
      " 213 -5.2079610e+02 1.38e+01 1.34e+15  -1.0 1.26e+05    -  7.97e-04 1.59e-05h 12\n",
      " 214r-5.2079610e+02 1.38e+01 1.00e+03   1.0 0.00e+00    -  0.00e+00 4.97e-07R 17\n",
      " 215r-5.2096025e+02 6.67e+00 4.10e+05   1.0 1.68e+04    -  8.35e-04 5.64e-04f  1\n",
      " 216 -5.2071619e+02 6.63e+00 2.50e+03  -1.0 7.20e+03    -  1.51e-01 5.80e-03h  2\n",
      " 217 -5.2053640e+02 6.60e+00 4.00e+03  -1.0 7.06e+03    -  9.00e-03 4.36e-03h  3\n",
      " 218 -5.2025927e+02 6.55e+00 6.82e+03  -1.0 6.97e+03    -  1.99e-02 6.79e-03h  2\n",
      " 219 -5.1996895e+02 6.51e+00 1.02e+05  -1.0 6.85e+03    -  7.66e-02 7.24e-03h  1\n",
      "iter    objective    inf_pr   inf_du lg(mu)  ||d||  lg(rg) alpha_du alpha_pr  ls\n",
      " 220 -5.1996580e+02 6.51e+00 8.72e+06  -1.0 1.20e+04    -  5.33e-03 8.20e-05h  1\n",
      " 221 -5.1996387e+02 6.51e+00 1.17e+07  -1.0 1.49e+05    -  2.91e-04 8.03e-05f  4\n",
      " 222 -5.1996164e+02 6.51e+00 1.45e+07  -1.0 1.49e+05    -  3.86e-04 9.25e-05f  5\n",
      " 223 -5.1996019e+02 6.51e+00 2.94e+07  -1.0 1.49e+05    -  1.65e-03 6.04e-05f  6\n",
      " 224 -5.1995878e+02 6.51e+00 3.63e+07  -1.0 1.49e+05    -  8.01e-04 5.83e-05f  7\n",
      " 225 -5.1995704e+02 6.51e+00 6.96e+07  -1.0 1.49e+05    -  3.67e-03 7.23e-05f  7\n",
      " 226 -5.1993154e+02 6.84e+00 6.70e+07  -1.0 1.49e+05    -  7.87e-04 1.06e-03f  4\n",
      " 227 -5.1993064e+02 6.84e+00 1.75e+08  -1.0 1.43e+05    -  1.31e-02 3.72e-05h  9\n",
      " 228 -5.1992962e+02 6.84e+00 1.93e+08  -1.0 1.43e+05    -  2.17e-03 4.25e-05h 10\n",
      " 229 -5.1992850e+02 6.84e+00 4.80e+08  -1.0 1.43e+05    -  3.43e-02 4.64e-05h 10\n",
      "iter    objective    inf_pr   inf_du lg(mu)  ||d||  lg(rg) alpha_du alpha_pr  ls\n",
      " 230 -5.1992722e+02 6.84e+00 4.99e+08  -1.0 1.43e+05    -  2.07e-03 5.33e-05h 10\n",
      " 231 -5.1927068e+02 2.15e+02 3.03e+08  -1.0 1.43e+05    -  7.86e-03 2.73e-02w  1\n",
      " 232 -5.1924355e+02 2.15e+02 2.99e+08  -1.0 4.21e+04    -  4.07e-03 1.13e-03w  1\n",
      " 233 -5.1924323e+02 2.15e+02 3.72e+08  -1.0 3.58e+04    -  1.80e-03 1.34e-05w  1\n",
      " 234 -5.1992594e+02 6.84e+00 5.72e+08  -1.0 4.21e+03    -  7.86e-03 5.33e-05h  9\n",
      " 235 -5.1992466e+02 6.84e+00 6.00e+08  -1.0 1.43e+05    -  2.93e-03 5.33e-05h 10\n",
      " 236 -5.1992337e+02 6.84e+00 1.11e+09  -1.0 1.42e+05    -  5.11e-02 5.33e-05h 10\n",
      " 237 -5.1992209e+02 6.85e+00 1.15e+09  -1.0 1.42e+05    -  2.28e-03 5.33e-05h 10\n",
      " 238 -5.1992081e+02 6.85e+00 1.31e+09  -1.0 1.42e+05    -  1.09e-02 5.33e-05h 10\n",
      " 239 -5.1991952e+02 6.85e+00 1.37e+09  -1.0 1.42e+05    -  3.09e-03 5.34e-05h 10\n",
      "iter    objective    inf_pr   inf_du lg(mu)  ||d||  lg(rg) alpha_du alpha_pr  ls\n",
      " 240 -5.1991824e+02 6.85e+00 2.55e+09  -1.0 1.41e+05    -  6.35e-02 5.34e-05h 10\n",
      " 241 -5.1991695e+02 6.85e+00 2.65e+09  -1.0 1.41e+05    -  2.52e-03 5.34e-05h 10\n",
      " 242 -5.1991567e+02 6.85e+00 3.01e+09  -1.0 1.41e+05    -  8.81e-03 5.34e-05h 10\n",
      " 243 -5.1991438e+02 6.85e+00 3.19e+09  -1.0 1.40e+05    -  3.91e-03 5.34e-05h 10\n",
      " 244 -5.1925629e+02 2.08e+02 5.44e+09  -1.0 1.40e+05    -  7.19e-02 2.74e-02w  1\n",
      " 245 -5.1922901e+02 2.08e+02 5.47e+09  -1.0 4.11e+04    -  1.53e-03 1.14e-03w  1\n",
      " 246 -5.1922859e+02 2.08e+02 6.09e+09  -1.0 2.67e+04    -  4.12e-04 1.77e-05w  1\n",
      " 247 -5.1991310e+02 6.85e+00 6.97e+09  -1.0 4.21e+03    -  7.19e-02 5.34e-05h  9\n",
      " 248 -5.1991181e+02 6.85e+00 7.35e+09  -1.0 1.40e+05    -  2.77e-03 5.34e-05h 10\n",
      " 249 -5.1991053e+02 6.85e+00 8.75e+09  -1.0 1.40e+05    -  9.58e-03 5.35e-05h 10\n",
      "iter    objective    inf_pr   inf_du lg(mu)  ||d||  lg(rg) alpha_du alpha_pr  ls\n",
      " 250 -5.1990924e+02 6.85e+00 9.53e+09  -1.0 1.39e+05    -  4.33e-03 5.35e-05h 10\n",
      " 251 -5.1990795e+02 6.85e+00 2.87e+10  -1.0 1.39e+05    -  9.53e-02 5.35e-05h 10\n",
      " 252 -5.1990667e+02 6.85e+00 3.08e+10  -1.0 1.39e+05    -  3.01e-03 5.35e-05h 10\n",
      " 253 -5.1990538e+02 6.85e+00 3.80e+10  -1.0 1.39e+05    -  9.59e-03 5.35e-05h 10\n",
      " 254 -5.1990409e+02 6.85e+00 4.28e+10  -1.0 1.38e+05    -  5.08e-03 5.35e-05h 10\n",
      " 255 -5.1990280e+02 6.85e+00 1.74e+11  -1.0 1.38e+05    -  1.22e-01 5.35e-05h 10\n",
      " 256 -5.1990152e+02 6.85e+00 1.90e+11  -1.0 1.38e+05    -  3.25e-03 5.36e-05h 10\n",
      " 257 -5.1924178e+02 2.01e+02 9.36e+10  -1.0 1.38e+05    -  1.02e-02 2.74e-02w  1\n",
      " 258 -5.1921501e+02 2.01e+02 9.72e+10  -1.0 4.10e+04    -  1.70e-03 1.12e-03w  1\n",
      " 259 -5.1921467e+02 2.01e+02 3.45e+11  -1.0 3.24e+04    -  1.18e-03 1.43e-05w  1\n",
      "iter    objective    inf_pr   inf_du lg(mu)  ||d||  lg(rg) alpha_du alpha_pr  ls\n",
      " 260 -5.1990023e+02 6.85e+00 2.43e+11  -1.0 4.21e+03    -  1.02e-02 5.36e-05h  9\n",
      " 261 -5.1989894e+02 6.85e+00 2.82e+11  -1.0 1.37e+05    -  5.77e-03 5.36e-05h 10\n",
      " 262 -5.1989765e+02 6.85e+00 1.04e+12  -1.0 1.37e+05    -  9.47e-02 5.36e-05h 10\n",
      " 263 -5.1989636e+02 6.85e+00 1.14e+12  -1.0 1.37e+05    -  3.54e-03 5.36e-05h 10\n",
      " 264 -5.1989507e+02 6.85e+00 1.60e+12  -1.0 1.37e+05    -  1.33e-02 5.36e-05h 10\n",
      " 265 -5.1989378e+02 6.85e+00 1.85e+12  -1.0 1.36e+05    -  5.28e-03 5.36e-05h 10\n",
      " 266 -5.1989249e+02 6.85e+00 7.12e+12  -1.0 1.36e+05    -  9.53e-02 5.36e-05h 10\n",
      " 267 -5.1989120e+02 6.85e+00 7.95e+12  -1.0 1.36e+05    -  3.82e-03 5.37e-05h 10\n",
      " 268 -5.1988991e+02 6.85e+00 1.09e+13  -1.0 1.36e+05    -  1.22e-02 5.37e-05h 10\n"
     ]
    },
    {
     "name": "stdout",
     "output_type": "stream",
     "text": [
      " 269 -5.1988862e+02 6.85e+00 1.30e+13  -1.0 1.35e+05    -  6.06e-03 5.37e-05h 10\n",
      "iter    objective    inf_pr   inf_du lg(mu)  ||d||  lg(rg) alpha_du alpha_pr  ls\n",
      " 270 -5.1922738e+02 1.95e+02 5.20e+13  -1.0 1.35e+05    -  1.25e-01 2.75e-02w  1\n",
      " 271 -5.1920120e+02 1.95e+02 5.46e+13  -1.0 4.11e+04    -  1.99e-03 1.10e-03w  1\n",
      " 272 -5.1920093e+02 1.95e+02 2.07e+16  -1.0 3.96e+04    -  1.50e-01 1.14e-05w  1\n",
      " 273 -5.1988733e+02 6.86e+00 6.35e+13  -1.0 4.27e+03    -  1.25e-01 5.37e-05h  9\n",
      " 274 -5.1988603e+02 6.86e+00 7.16e+13  -1.0 1.35e+05    -  4.06e-03 5.37e-05h 10\n",
      " 275 -5.1988474e+02 6.86e+00 1.01e+14  -1.0 1.35e+05    -  1.29e-02 5.37e-05h 10\n",
      " 276 -5.1988345e+02 6.86e+00 1.22e+14  -1.0 1.35e+05    -  6.72e-03 5.37e-05h 10\n",
      " 277 -5.1988216e+02 6.86e+00 3.17e+14  -1.0 1.34e+05    -  4.99e-02 5.37e-05h 10\n",
      " 278 -5.1988086e+02 6.86e+00 3.54e+14  -1.0 1.34e+05    -  4.58e-03 5.38e-05h 10\n",
      " 279 -5.1987957e+02 6.86e+00 6.00e+14  -1.0 1.34e+05    -  2.93e-02 5.38e-05h 10\n",
      "iter    objective    inf_pr   inf_du lg(mu)  ||d||  lg(rg) alpha_du alpha_pr  ls\n",
      " 280 -5.1987828e+02 6.86e+00 6.55e+14  -1.0 1.34e+05    -  5.16e-03 5.38e-05h 10\n",
      " 281 -5.1987698e+02 6.86e+00 1.89e+15  -1.0 1.33e+05    -  1.06e-01 5.38e-05h 10\n",
      " 282 -5.1987569e+02 6.86e+00 2.03e+15  -1.0 1.33e+05    -  4.66e-03 5.38e-05h 10\n",
      " 283 -5.1921319e+02 1.88e+02 1.45e+15  -1.0 1.33e+05    -  1.29e-02 2.76e-02w  1\n",
      " 284 -5.1918641e+02 1.88e+02 1.38e+15  -1.0 3.77e+04    -  5.36e-04 1.12e-03w  1\n",
      " 285 -5.1918494e+02 1.88e+02 3.23e+17  -1.0 3.98e+04    -  1.82e-01 6.14e-05w  1\n",
      " 286 -5.1987440e+02 6.86e+00 2.49e+15  -1.0 1.95e+04    -  1.29e-02 5.38e-05h  9\n",
      " 287 -5.1987310e+02 6.86e+00 2.83e+15  -1.0 1.33e+05    -  7.83e-03 5.38e-05h 10\n",
      " 288 -5.1987181e+02 6.86e+00 1.17e+16  -1.0 1.32e+05    -  1.78e-01 5.38e-05h 10\n",
      " 289 -5.1987051e+02 6.86e+00 1.21e+16  -1.0 1.32e+05    -  4.85e-03 5.38e-05h 10\n",
      "iter    objective    inf_pr   inf_du lg(mu)  ||d||  lg(rg) alpha_du alpha_pr  ls\n",
      " 290 -5.1986922e+02 6.86e+00 1.39e+16  -1.0 1.32e+05    -  1.81e-02 5.38e-05h 10\n",
      " 291 -5.1986792e+02 6.86e+00 1.48e+16  -1.0 1.32e+05    -  7.66e-03 5.39e-05h 10\n",
      " 292 -5.1986663e+02 6.86e+00 1.91e+16  -1.0 1.31e+05    -  3.73e-02 5.39e-05h 10\n",
      " 293 -5.1986533e+02 6.86e+00 1.99e+16  -1.0 1.31e+05    -  5.78e-03 5.39e-05h 10\n",
      " 294 -5.1986404e+02 6.86e+00 2.87e+16  -1.0 1.31e+05    -  6.05e-02 5.39e-05h 10\n",
      " 295 -5.1986274e+02 6.86e+00 2.98e+16  -1.0 1.31e+05    -  5.64e-03 5.39e-05h 10\n",
      " 296 -5.1919902e+02 1.82e+02 3.84e+16  -1.0 1.31e+05    -  7.47e-02 2.76e-02w  1\n",
      " 297 -5.1917265e+02 1.82e+02 3.81e+16  -1.0 3.93e+04    -  7.81e-04 1.10e-03w  1\n",
      " 298 -5.1917198e+02 1.82e+02 4.07e+16  -1.0 1.56e+04    -  2.67e-04 2.83e-05w  1\n",
      " 299 -5.1986144e+02 6.86e+00 4.48e+16  -1.0 4.20e+03    -  7.47e-02 5.39e-05h  9\n",
      "iter    objective    inf_pr   inf_du lg(mu)  ||d||  lg(rg) alpha_du alpha_pr  ls\n",
      " 300 -5.1986015e+02 6.86e+00 4.63e+16  -1.0 1.30e+05    -  5.71e-03 5.39e-05h 10\n",
      " 301 -5.1985885e+02 6.86e+00 5.14e+16  -1.0 1.30e+05    -  1.83e-02 5.39e-05h 10\n",
      " 302 -5.1985755e+02 6.86e+00 5.37e+16  -1.0 1.30e+05    -  7.99e-03 5.39e-05h 10\n",
      " 303 -5.1985626e+02 6.86e+00 2.51e+17  -1.0 1.30e+05    -  6.60e-01 5.40e-05h 10\n",
      " 304 -5.1985496e+02 6.86e+00 2.52e+17  -1.0 1.29e+05    -  5.59e-03 5.40e-05h 10\n",
      " 305 -5.1985366e+02 6.86e+00 2.55e+17  -1.0 1.29e+05    -  1.18e-02 5.40e-05h 10\n",
      " 306 -5.1985236e+02 6.86e+00 3.56e+17  -1.0 1.29e+05    -  5.13e-01 5.40e-05h 10\n",
      " 307 -5.1985107e+02 6.86e+00 3.57e+17  -1.0 1.29e+05    -  6.14e-03 5.40e-05h 10\n",
      " 308 -5.1984977e+02 6.86e+00 3.59e+17  -1.0 1.28e+05    -  8.39e-03 5.40e-05h 10\n",
      " 309 -5.1918488e+02 1.76e+02 3.46e+17  -1.0 1.28e+05    -  1.33e-02 2.77e-02w  1\n",
      "iter    objective    inf_pr   inf_du lg(mu)  ||d||  lg(rg) alpha_du alpha_pr  ls\n",
      " 310 -5.1916043e+02 1.76e+02 3.47e+17  -1.0 4.15e+04    -  2.84e-03 1.02e-03w  1\n",
      " 311 -5.1916007e+02 1.76e+02 3.53e+17  -1.0 2.87e+04    -  3.31e-04 1.49e-05w  1\n",
      " 312 -5.1984847e+02 6.86e+00 3.61e+17  -1.0 4.20e+03    -  1.33e-02 5.40e-05h  9\n",
      " 313 -5.1984717e+02 6.86e+00 3.63e+17  -1.0 1.28e+05    -  1.68e-02 5.40e-05h 10\n",
      " 314 -5.1984587e+02 6.86e+00 3.65e+17  -1.0 1.28e+05    -  1.37e-02 5.40e-05h 10\n",
      " 315 -5.1984457e+02 6.86e+00 3.68e+17  -1.0 1.28e+05    -  1.65e-02 5.40e-05h 10\n",
      " 316 -5.1984327e+02 6.87e+00 3.69e+17  -1.0 1.27e+05    -  9.96e-03 5.41e-05h 10\n",
      " 317 -5.1984197e+02 6.87e+00 3.74e+17  -1.0 1.27e+05    -  3.26e-02 5.41e-05h 10\n",
      " 318 -5.1984067e+02 6.87e+00 3.75e+17  -1.0 1.27e+05    -  7.88e-03 5.41e-05h 10\n",
      " 319 -5.1983937e+02 6.87e+00 4.48e+17  -1.0 1.27e+05    -  5.00e-01 5.41e-05h 10\n",
      "iter    objective    inf_pr   inf_du lg(mu)  ||d||  lg(rg) alpha_du alpha_pr  ls\n",
      " 320 -5.1983807e+02 6.87e+00 4.49e+17  -1.0 1.26e+05    -  6.55e-03 5.41e-05h 10\n",
      " 321 -5.1983677e+02 6.87e+00 4.59e+17  -1.0 1.26e+05    -  1.24e-01 5.41e-05h 10\n",
      " 322 -5.1917076e+02 1.70e+02 4.45e+17  -1.0 1.26e+05    -  7.99e-03 2.77e-02w  1\n",
      " 323 -5.1914672e+02 1.70e+02 4.45e+17  -1.0 4.15e+04    -  2.79e-03 1.01e-03w  1\n",
      " 324 -5.1914637e+02 1.70e+02 4.51e+17  -1.0 2.89e+04    -  3.80e-04 1.45e-05w  1\n",
      " 325 -5.1983547e+02 6.87e+00 4.60e+17  -1.0 4.20e+03    -  7.99e-03 5.41e-05h  9\n",
      " 326 -5.1983417e+02 6.87e+00 4.64e+17  -1.0 1.26e+05    -  5.64e-02 5.41e-05h 10\n",
      " 327 -5.1983287e+02 6.87e+00 4.65e+17  -1.0 1.26e+05    -  7.73e-03 5.41e-05h 10\n",
      " 328 -5.1983157e+02 6.87e+00 4.68e+17  -1.0 1.25e+05    -  4.30e-02 5.41e-05h 10\n",
      " 329 -5.1983027e+02 6.87e+00 4.68e+17  -1.0 1.25e+05    -  8.34e-03 5.42e-05h 10\n",
      "iter    objective    inf_pr   inf_du lg(mu)  ||d||  lg(rg) alpha_du alpha_pr  ls\n",
      " 330 -5.1982896e+02 6.87e+00 4.73e+17  -1.0 1.25e+05    -  7.43e-02 5.42e-05h 10\n",
      " 331 -5.1982766e+02 6.87e+00 4.74e+17  -1.0 1.25e+05    -  7.83e-03 5.42e-05h 10\n",
      " 332 -5.1982636e+02 6.87e+00 4.76e+17  -1.0 1.24e+05    -  3.57e-02 5.42e-05h 10\n",
      " 333 -5.1982506e+02 6.87e+00 4.76e+17  -1.0 1.24e+05    -  9.22e-03 5.42e-05h 10\n",
      " 334 -5.1982375e+02 6.87e+00 4.82e+17  -1.0 1.24e+05    -  9.83e-02 5.42e-05h 10\n",
      " 335 -5.1915671e+02 1.65e+02 4.67e+17  -1.0 1.24e+05    -  7.97e-03 2.78e-02w  1\n",
      " 336 -5.1913304e+02 1.65e+02 4.67e+17  -1.0 4.13e+04    -  2.53e-03 9.91e-04w  1\n",
      " 337 -5.1913270e+02 1.65e+02 4.74e+17  -1.0 2.85e+04    -  3.92e-04 1.44e-05w  1\n",
      " 338 -5.1982245e+02 6.87e+00 4.82e+17  -1.0 4.20e+03    -  7.97e-03 5.42e-05h  9\n",
      " 339 -5.1982115e+02 6.87e+00 4.84e+17  -1.0 1.24e+05    -  3.43e-02 5.42e-05h 10\n",
      "iter    objective    inf_pr   inf_du lg(mu)  ||d||  lg(rg) alpha_du alpha_pr  ls\n",
      " 340 -5.1981985e+02 6.87e+00 4.84e+17  -1.0 1.23e+05    -  9.91e-03 5.42e-05h 10\n",
      " 341 -5.1981854e+02 6.87e+00 4.91e+17  -1.0 1.23e+05    -  1.37e-01 5.42e-05h 10\n",
      " 342 -5.1981724e+02 6.87e+00 4.91e+17  -1.0 1.23e+05    -  8.12e-03 5.42e-05h 10\n",
      " 343 -5.1981593e+02 6.87e+00 4.92e+17  -1.0 1.23e+05    -  3.12e-02 5.42e-05h 10\n",
      " 344 -5.1981463e+02 6.87e+00 4.93e+17  -1.0 1.22e+05    -  1.09e-02 5.43e-05h 10\n",
      " 345 -5.1981333e+02 6.87e+00 5.00e+17  -1.0 1.22e+05    -  2.08e-01 5.43e-05h 10\n",
      " 346 -5.1981202e+02 6.87e+00 5.01e+17  -1.0 1.22e+05    -  8.28e-03 5.43e-05h 10\n",
      " 347 -5.1981072e+02 6.87e+00 5.01e+17  -1.0 1.22e+05    -  3.10e-02 5.43e-05h 10\n",
      " 348 -5.1914276e+02 1.59e+02 4.87e+17  -1.0 1.22e+05    -  1.20e-02 2.78e-02w  1\n",
      " 349 -5.1911940e+02 1.59e+02 4.87e+17  -1.0 4.10e+04    -  2.13e-03 9.79e-04w  1\n",
      "iter    objective    inf_pr   inf_du lg(mu)  ||d||  lg(rg) alpha_du alpha_pr  ls\n",
      " 350 -5.1911905e+02 1.59e+02 4.94e+17  -1.0 2.77e+04    -  3.86e-04 1.46e-05w  1\n",
      " 351 -5.1980941e+02 6.87e+00 5.02e+17  -1.0 4.20e+03    -  1.20e-02 5.43e-05h  9\n",
      " 352 -5.1980811e+02 6.87e+00 5.11e+17  -1.0 1.21e+05    -  3.95e-01 5.43e-05h 10\n",
      " 353 -5.1980680e+02 6.87e+00 5.12e+17  -1.0 1.21e+05    -  8.44e-03 5.43e-05h 10\n",
      " 354 -5.1980550e+02 6.87e+00 5.12e+17  -1.0 1.21e+05    -  2.95e-02 5.43e-05h 10\n",
      " 355 -5.1980419e+02 6.87e+00 5.12e+17  -1.0 1.21e+05    -  1.47e-02 5.43e-05h 10\n",
      " 356 -5.1980289e+02 6.87e+00 5.14e+17  -1.0 1.21e+05    -  1.46e-01 5.43e-05h 10\n",
      " 357 -5.1980158e+02 6.87e+00 5.14e+17  -1.0 1.20e+05    -  9.12e-03 5.43e-05h 10\n",
      " 358 -5.1980028e+02 6.87e+00 5.14e+17  -1.0 1.20e+05    -  4.74e-02 5.43e-05h 10\n",
      " 359 -5.1979897e+02 6.87e+00 5.14e+17  -1.0 1.20e+05    -  1.11e-02 5.43e-05h 10\n",
      "iter    objective    inf_pr   inf_du lg(mu)  ||d||  lg(rg) alpha_du alpha_pr  ls\n",
      " 360 -5.1979766e+02 6.87e+00 5.15e+17  -1.0 1.20e+05    -  1.07e-01 5.44e-05h 10\n",
      " 361 -5.1912891e+02 1.54e+02 5.01e+17  -1.0 1.20e+05    -  9.74e-03 2.78e-02w  1\n",
      " 362 -5.1910586e+02 1.54e+02 5.01e+17  -1.0 4.08e+04    -  1.86e-03 9.66e-04w  1\n",
      " 363 -5.1910551e+02 1.54e+02 5.07e+17  -1.0 2.74e+04    -  4.04e-04 1.45e-05w  1\n",
      " 364 -5.1979636e+02 6.87e+00 5.15e+17  -1.0 4.20e+03    -  9.74e-03 5.44e-05h  9\n",
      " 365 -5.1979505e+02 6.87e+00 5.15e+17  -1.0 1.19e+05    -  4.09e-02 5.44e-05h 10\n"
     ]
    },
    {
     "name": "stdout",
     "output_type": "stream",
     "text": [
      " 366 -5.1979375e+02 6.87e+00 5.15e+17  -1.0 1.19e+05    -  1.20e-02 5.44e-05h 10\n",
      " 367 -5.1979244e+02 6.87e+00 5.16e+17  -1.0 1.19e+05    -  1.88e-01 5.44e-05h 10\n",
      " 368 -5.1979113e+02 6.87e+00 5.16e+17  -1.0 1.19e+05    -  9.70e-03 5.44e-05h 10\n",
      " 369 -5.1978983e+02 6.87e+00 5.16e+17  -1.0 1.19e+05    -  3.23e-02 5.44e-05h 10\n",
      "iter    objective    inf_pr   inf_du lg(mu)  ||d||  lg(rg) alpha_du alpha_pr  ls\n",
      " 370 -5.1978852e+02 6.87e+00 5.16e+17  -1.0 1.18e+05    -  1.41e-02 5.44e-05h 10\n",
      " 371 -5.1978721e+02 6.87e+00 5.13e+17  -1.0 1.18e+05    -  9.04e-01 5.44e-05h 10\n",
      " 372 -5.1978590e+02 6.87e+00 5.13e+17  -1.0 1.18e+05    -  9.63e-03 5.44e-05h 10\n",
      " 373 -5.1978460e+02 6.87e+00 5.13e+17  -1.0 1.18e+05    -  2.40e-02 5.44e-05h 10\n",
      " 374 -5.1911516e+02 1.49e+02 4.99e+17  -1.0 1.17e+05    -  8.86e-02 2.79e-02w  1\n",
      " 375 -5.1909679e+02 1.49e+02 4.98e+17  -1.0 3.82e+04    -  6.67e-04 7.70e-04w  1\n",
      " 376 -5.1909616e+02 1.49e+02 5.08e+17  -1.0 1.16e+04    -  2.19e-04 2.62e-05w  1\n",
      " 377 -5.1978329e+02 6.87e+00 5.13e+17  -1.0 4.20e+03    -  8.86e-02 5.44e-05h  9\n",
      " 378 -5.1978198e+02 6.87e+00 5.13e+17  -1.0 1.17e+05    -  2.87e-02 5.44e-05h 10\n",
      " 379 -5.1978067e+02 6.88e+00 5.13e+17  -1.0 1.17e+05    -  1.51e-02 5.44e-05h 10\n",
      "iter    objective    inf_pr   inf_du lg(mu)  ||d||  lg(rg) alpha_du alpha_pr  ls\n",
      " 380 -5.1977937e+02 6.88e+00 5.11e+17  -1.0 1.17e+05    -  2.27e-01 5.44e-05h 10\n",
      " 381 -5.1977806e+02 6.88e+00 5.11e+17  -1.0 1.17e+05    -  1.05e-02 5.44e-05h 10\n",
      " 382 -5.1977675e+02 6.88e+00 5.11e+17  -1.0 1.16e+05    -  3.71e-02 5.44e-05h 10\n",
      " 383 -5.1977544e+02 6.88e+00 5.11e+17  -1.0 1.16e+05    -  1.52e-02 5.45e-05h 10\n",
      " 384 -5.1977414e+02 6.88e+00 5.08e+17  -1.0 1.16e+05    -  3.16e-01 5.44e-05h 10\n",
      " 385 -5.1977283e+02 6.88e+00 5.08e+17  -1.0 1.16e+05    -  1.07e-02 5.43e-05h 10\n",
      " 386 -5.1977153e+02 6.88e+00 5.08e+17  -1.0 1.16e+05    -  3.27e-02 5.41e-05h 10\n",
      " 387 -5.1910690e+02 1.42e+02 4.94e+17  -1.0 1.15e+05    -  1.76e-02 2.77e-02w  1\n",
      " 388 -5.1909930e+02 1.42e+02 4.96e+17  -1.0 4.00e+04    -  1.10e-03 3.18e-04w  1\n",
      " 389 -5.1909885e+02 1.42e+02 5.02e+17  -1.0 7.31e+03    -  1.14e-04 1.89e-05w  1\n",
      "iter    objective    inf_pr   inf_du lg(mu)  ||d||  lg(rg) alpha_du alpha_pr  ls\n",
      " 390 -5.1977023e+02 6.88e+00 5.08e+17  -1.0 4.20e+03    -  1.76e-02 5.40e-05h  9\n",
      " 391 -5.1976894e+02 6.88e+00 5.06e+17  -1.0 1.15e+05    -  1.30e-01 5.39e-05h 10\n",
      " 392 -5.1976765e+02 6.88e+00 5.06e+17  -1.0 1.15e+05    -  1.17e-02 5.38e-05h 10\n",
      " 393 -5.1976635e+02 6.88e+00 5.06e+17  -1.0 1.15e+05    -  6.92e-02 5.37e-05h 10\n",
      " 394 -5.1976378e+02 6.88e+00 5.05e+17  -1.0 1.15e+05    -  1.31e-02 1.07e-04h  9\n",
      " 395 -5.1976121e+02 6.88e+00 4.95e+17  -1.0 1.14e+05    -  8.84e-01 1.07e-04h  9\n",
      " 396 -5.1975866e+02 6.88e+00 4.95e+17  -1.0 1.14e+05    -  1.13e-02 1.06e-04h  9\n",
      " 397 -5.1975612e+02 6.88e+00 4.95e+17  -1.0 1.14e+05    -  2.63e-02 1.06e-04h  9\n",
      " 398 -5.1975358e+02 6.88e+00 4.94e+17  -1.0 1.13e+05    -  4.52e-02 1.06e-04h  9\n",
      " 399 -5.1975106e+02 6.88e+00 4.94e+17  -1.0 1.13e+05    -  4.98e-02 1.05e-04h  9\n",
      "iter    objective    inf_pr   inf_du lg(mu)  ||d||  lg(rg) alpha_du alpha_pr  ls\n",
      " 400 -5.1910741e+02 1.27e+02 4.81e+17  -1.0 1.12e+05    -  1.55e-02 2.68e-02w  1\n",
      " 401 -5.1910027e+02 1.26e+02 4.86e+17  -1.0 4.25e+04    -  2.08e-03 2.99e-04w  1\n",
      " 402 -5.1909987e+02 1.26e+02 4.98e+17  -1.0 8.32e+03    -  1.06e-04 1.66e-05w  1\n",
      " 403 -5.1974854e+02 6.88e+00 4.94e+17  -1.0 4.20e+03    -  1.55e-02 1.05e-04h  8\n",
      " 404 -5.1974604e+02 6.89e+00 4.93e+17  -1.0 1.12e+05    -  6.36e-02 1.04e-04h  9\n",
      " 405 -5.1974354e+02 6.89e+00 4.93e+17  -1.0 1.12e+05    -  1.51e-02 1.04e-04h  9\n",
      " 406 -5.1974106e+02 6.89e+00 4.92e+17  -1.0 1.11e+05    -  6.90e-02 1.03e-04h  9\n",
      " 407 -5.1973858e+02 6.89e+00 4.91e+17  -1.0 1.11e+05    -  1.53e-02 1.03e-04h  9\n",
      " 408 -5.1973612e+02 6.89e+00 4.90e+17  -1.0 1.11e+05    -  7.47e-02 1.03e-04h  9\n",
      " 409 -5.1973366e+02 6.89e+00 4.90e+17  -1.0 1.10e+05    -  1.56e-02 1.02e-04h  9\n",
      "iter    objective    inf_pr   inf_du lg(mu)  ||d||  lg(rg) alpha_du alpha_pr  ls\n",
      " 410 -5.1973122e+02 6.89e+00 4.89e+17  -1.0 1.10e+05    -  8.11e-02 1.02e-04h  9\n",
      " 411 -5.1972878e+02 6.89e+00 4.88e+17  -1.0 1.10e+05    -  1.58e-02 1.01e-04h  9\n",
      " 412 -5.1972636e+02 6.89e+00 4.87e+17  -1.0 1.09e+05    -  8.85e-02 1.01e-04h  9\n",
      " 413 -5.1910760e+02 1.10e+02 4.74e+17  -1.0 1.09e+05    -  1.60e-02 2.58e-02w  1\n",
      " 414 -5.1910082e+02 1.10e+02 4.84e+17  -1.0 4.45e+04    -  3.23e-03 2.84e-04w  1\n",
      " 415 -5.1910045e+02 1.10e+02 5.06e+17  -1.0 8.87e+03    -  1.04e-04 1.55e-05w  1\n",
      " 416 -5.1972394e+02 6.89e+00 4.86e+17  -1.0 4.20e+03    -  1.60e-02 1.01e-04h  8\n",
      " 417 -5.1972153e+02 6.90e+00 4.84e+17  -1.0 1.09e+05    -  9.70e-02 1.00e-04h  9\n",
      " 418 -5.1971913e+02 6.90e+00 4.84e+17  -1.0 1.08e+05    -  1.62e-02 9.99e-05h  9\n",
      " 419 -5.1971674e+02 6.90e+00 4.82e+17  -1.0 1.08e+05    -  1.07e-01 9.95e-05h  9\n",
      "iter    objective    inf_pr   inf_du lg(mu)  ||d||  lg(rg) alpha_du alpha_pr  ls\n",
      " 420 -5.1971436e+02 6.90e+00 4.82e+17  -1.0 1.08e+05    -  1.64e-02 9.91e-05h  9\n",
      " 421 -5.1971199e+02 6.90e+00 4.79e+17  -1.0 1.07e+05    -  1.19e-01 9.87e-05h  9\n",
      " 422 -5.1970963e+02 6.90e+00 4.79e+17  -1.0 1.07e+05    -  1.66e-02 9.84e-05h  9\n",
      " 423 -5.1970728e+02 6.90e+00 4.76e+17  -1.0 1.07e+05    -  1.34e-01 9.80e-05h  9\n",
      " 424 -5.1970494e+02 6.90e+00 4.76e+17  -1.0 1.06e+05    -  1.68e-02 9.76e-05h  9\n",
      " 425 -5.1970260e+02 6.90e+00 4.73e+17  -1.0 1.06e+05    -  1.52e-01 9.72e-05h  9\n",
      " 426 -5.1910742e+02 9.65e+01 4.61e+17  -1.0 1.06e+05    -  1.69e-02 2.48e-02w  1\n",
      " 427 -5.1910094e+02 9.65e+01 4.77e+17  -1.0 4.61e+04    -  4.26e-03 2.72e-04w  1\n",
      " 428 -5.1910058e+02 9.65e+01 5.09e+17  -1.0 9.06e+03    -  1.04e-04 1.52e-05w  1\n",
      " 429 -5.1970028e+02 6.90e+00 4.73e+17  -1.0 4.20e+03    -  1.69e-02 9.69e-05h  8\n",
      "iter    objective    inf_pr   inf_du lg(mu)  ||d||  lg(rg) alpha_du alpha_pr  ls\n",
      " 430 -5.1969796e+02 6.90e+00 4.70e+17  -1.0 1.05e+05    -  1.76e-01 9.65e-05h  9\n",
      " 431 -5.1969566e+02 6.90e+00 4.69e+17  -1.0 1.05e+05    -  1.71e-02 9.61e-05h  9\n",
      " 432 -5.1969336e+02 6.90e+00 4.68e+17  -1.0 1.05e+05    -  7.19e-02 9.57e-05h  9\n",
      " 433 -5.1969107e+02 6.90e+00 4.68e+17  -1.0 1.05e+05    -  2.08e-02 9.54e-05h  9\n",
      " 434 -5.1968879e+02 6.91e+00 4.64e+17  -1.0 1.04e+05    -  2.15e-01 9.50e-05h  9\n",
      " 435 -5.1968652e+02 6.91e+00 4.64e+17  -1.0 1.04e+05    -  1.75e-02 9.47e-05h  9\n",
      " 436 -5.1968425e+02 6.91e+00 4.63e+17  -1.0 1.04e+05    -  6.94e-02 9.43e-05h  9\n",
      " 437 -5.1968200e+02 6.91e+00 4.63e+17  -1.0 1.03e+05    -  2.23e-02 9.39e-05h  9\n",
      " 438 -5.1967975e+02 6.91e+00 4.58e+17  -1.0 1.03e+05    -  2.90e-01 9.36e-05h  9\n",
      " 439 -5.1910697e+02 8.50e+01 4.47e+17  -1.0 1.03e+05    -  1.78e-02 2.39e-02w  1\n",
      "iter    objective    inf_pr   inf_du lg(mu)  ||d||  lg(rg) alpha_du alpha_pr  ls\n",
      " 440 -5.1910075e+02 8.50e+01 4.69e+17  -1.0 4.74e+04    -  5.15e-03 2.60e-04w  1\n",
      " 441 -5.1910039e+02 8.50e+01 5.13e+17  -1.0 9.04e+03    -  1.04e-04 1.51e-05w  1\n",
      " 442 -5.1967751e+02 6.91e+00 4.58e+17  -1.0 4.20e+03    -  1.78e-02 9.32e-05h  8\n",
      " 443 -5.1967529e+02 6.91e+00 4.57e+17  -1.0 1.03e+05    -  6.38e-02 9.29e-05h  9\n",
      " 444 -5.1967307e+02 6.91e+00 4.57e+17  -1.0 1.02e+05    -  2.47e-02 9.25e-05h  9\n",
      " 445 -5.1967085e+02 6.91e+00 4.52e+17  -1.0 1.02e+05    -  4.27e-01 9.22e-05h  9\n",
      " 446 -5.1966865e+02 6.91e+00 4.52e+17  -1.0 1.02e+05    -  1.82e-02 9.18e-05h  9\n",
      " 447 -5.1966645e+02 6.91e+00 4.51e+17  -1.0 1.01e+05    -  6.00e-02 9.15e-05h  9\n",
      " 448 -5.1966427e+02 6.91e+00 4.51e+17  -1.0 1.01e+05    -  2.76e-02 9.11e-05h  9\n",
      " 449 -5.1966209e+02 6.91e+00 4.45e+17  -1.0 1.01e+05    -  7.82e-01 9.08e-05h  9\n",
      "iter    objective    inf_pr   inf_du lg(mu)  ||d||  lg(rg) alpha_du alpha_pr  ls\n",
      " 450 -5.1965992e+02 6.91e+00 4.44e+17  -1.0 1.01e+05    -  1.85e-02 9.05e-05h  9\n",
      " 451 -5.1965776e+02 6.91e+00 4.44e+17  -1.0 1.00e+05    -  5.56e-02 9.01e-05h  9\n",
      " 452 -5.1910632e+02 7.53e+01 4.34e+17  -1.0 1.00e+05    -  3.42e-02 2.30e-02w  1\n",
      " 453 -5.1910035e+02 7.53e+01 4.66e+17  -1.0 4.84e+04    -  4.83e-03 2.51e-04w  1\n",
      " 454 -5.1909995e+02 7.53e+01 5.21e+17  -1.0 8.25e+03    -  1.03e-04 1.67e-05w  1\n",
      " 455 -5.1965560e+02 6.91e+00 4.44e+17  -1.0 4.20e+03    -  3.42e-02 8.98e-05h  8\n",
      " 456 -5.1965346e+02 6.91e+00 4.41e+17  -1.0 9.99e+04    -  1.00e+00 8.94e-05h  9\n",
      " 457 -5.1965132e+02 6.91e+00 4.41e+17  -1.0 9.96e+04    -  1.91e-02 8.91e-05h  9\n",
      " 458 -5.1964919e+02 6.91e+00 4.40e+17  -1.0 9.94e+04    -  5.25e-01 8.88e-05h  9\n",
      " 459 -5.1964707e+02 6.91e+00 4.40e+17  -1.0 9.91e+04    -  2.06e-02 8.84e-05h  9\n"
     ]
    },
    {
     "name": "stdout",
     "output_type": "stream",
     "text": [
      "iter    objective    inf_pr   inf_du lg(mu)  ||d||  lg(rg) alpha_du alpha_pr  ls\n",
      " 460 -5.1964495e+02 6.91e+00 4.40e+17  -1.0 9.89e+04    -  4.97e-02 8.81e-05h  9\n",
      " 461 -5.1964285e+02 6.91e+00 4.40e+17  -1.0 9.86e+04    -  3.40e-02 8.78e-05h  9\n",
      " 462 -5.1964075e+02 6.92e+00 4.38e+17  -1.0 9.84e+04    -  1.00e+00 8.74e-05h  9\n",
      " 463 -5.1963866e+02 6.92e+00 4.38e+17  -1.0 9.81e+04    -  2.02e-02 8.71e-05h  9\n",
      " 464 -5.1963658e+02 6.92e+00 4.38e+17  -1.0 9.79e+04    -  9.98e-02 8.68e-05h  9\n",
      " 465 -5.1910555e+02 6.70e+01 4.28e+17  -1.0 9.76e+04    -  3.01e-02 2.21e-02w  1\n",
      " 466 -5.1909981e+02 6.70e+01 4.66e+17  -1.0 4.94e+04    -  5.57e-03 2.40e-04w  1\n",
      " 467 -5.1909942e+02 6.70e+01 5.32e+17  -1.0 8.27e+03    -  1.03e-04 1.64e-05w  1\n",
      " 468 -5.1963450e+02 6.92e+00 4.38e+17  -1.0 4.20e+03    -  3.01e-02 8.65e-05h  8\n",
      " 469 -5.1963244e+02 6.92e+00 4.37e+17  -1.0 9.74e+04    -  3.36e-01 8.61e-05h  9\n",
      "iter    objective    inf_pr   inf_du lg(mu)  ||d||  lg(rg) alpha_du alpha_pr  ls\n",
      " 470 -5.1963038e+02 6.92e+00 4.37e+17  -1.0 9.72e+04    -  2.18e-02 8.58e-05h  9\n",
      " 471 -5.1962833e+02 6.92e+00 4.37e+17  -1.0 9.69e+04    -  2.65e-01 8.55e-05h  9\n",
      " 472 -5.1962628e+02 6.92e+00 4.37e+17  -1.0 9.67e+04    -  2.28e-02 8.52e-05h  9\n",
      " 473 -5.1962425e+02 6.92e+00 4.37e+17  -1.0 9.65e+04    -  1.14e-01 8.49e-05h  9\n",
      " 474 -5.1962222e+02 6.92e+00 4.37e+17  -1.0 9.62e+04    -  2.65e-02 8.46e-05h  9\n",
      " 475 -5.1962020e+02 6.92e+00 4.36e+17  -1.0 9.60e+04    -  2.11e-01 8.42e-05h  9\n",
      " 476 -5.1961819e+02 6.92e+00 4.36e+17  -1.0 9.58e+04    -  2.40e-02 8.39e-05h  9\n",
      " 477 -5.1961618e+02 6.92e+00 4.36e+17  -1.0 9.56e+04    -  2.45e-01 8.36e-05h  9\n",
      " 478 -5.1910469e+02 5.99e+01 4.27e+17  -1.0 9.53e+04    -  2.41e-02 2.13e-02w  1\n",
      " 479 -5.1909918e+02 5.99e+01 4.70e+17  -1.0 5.03e+04    -  6.60e-03 2.31e-04w  1\n",
      "iter    objective    inf_pr   inf_du lg(mu)  ||d||  lg(rg) alpha_du alpha_pr  ls\n",
      " 480 -5.1909879e+02 5.99e+01 5.49e+17  -1.0 8.21e+03    -  1.06e-04 1.63e-05w  1\n",
      " 481 -5.1961418e+02 6.92e+00 4.36e+17  -1.0 4.20e+03    -  2.41e-02 8.33e-05h  8\n",
      " 482 -5.1961219e+02 6.92e+00 4.36e+17  -1.0 9.51e+04    -  9.15e-02 8.30e-05h  9\n",
      " 483 -5.1960823e+02 6.92e+00 4.36e+17  -1.0 9.49e+04    -  2.99e-02 1.65e-04h  8\n",
      " 484 -5.1960429e+02 6.92e+00 4.35e+17  -1.0 9.45e+04    -  3.31e-01 1.64e-04h  8\n",
      " 485 -5.1960038e+02 6.92e+00 4.35e+17  -1.0 9.40e+04    -  2.45e-02 1.63e-04h  8\n",
      " 486 -5.1959650e+02 6.93e+00 4.35e+17  -1.0 9.36e+04    -  1.06e-01 1.62e-04h  8\n",
      " 487 -5.1959265e+02 6.93e+00 4.35e+17  -1.0 9.32e+04    -  3.10e-02 1.61e-04h  8\n",
      " 488 -5.1958883e+02 6.93e+00 4.35e+17  -1.0 9.28e+04    -  2.82e-01 1.59e-04h  8\n",
      " 489 -5.1958504e+02 6.93e+00 4.35e+17  -1.0 9.24e+04    -  2.63e-02 1.58e-04h  8\n",
      "iter    objective    inf_pr   inf_du lg(mu)  ||d||  lg(rg) alpha_du alpha_pr  ls\n",
      " 490 -5.1958128e+02 6.93e+00 4.35e+17  -1.0 9.20e+04    -  1.33e-01 1.57e-04h  8\n",
      " 491 -5.1910303e+02 4.94e+01 4.26e+17  -1.0 9.16e+04    -  3.10e-02 1.99e-02w  1\n",
      " 492 -5.1909789e+02 4.94e+01 4.86e+17  -1.0 5.15e+04    -  6.55e-03 2.15e-04w  1\n",
      " 493 -5.1909747e+02 4.94e+01 5.85e+17  -1.0 7.48e+03    -  1.06e-04 1.77e-05w  1\n",
      " 494 -5.1957754e+02 6.93e+00 4.35e+17  -1.0 4.20e+03    -  3.10e-02 1.56e-04h  7\n",
      " 495 -5.1957383e+02 6.94e+00 4.35e+17  -1.0 9.12e+04    -  2.24e-01 1.55e-04h  8\n",
      " 496 -5.1957015e+02 6.94e+00 4.35e+17  -1.0 9.08e+04    -  2.87e-02 1.54e-04h  8\n",
      " 497 -5.1956650e+02 6.94e+00 4.35e+17  -1.0 9.05e+04    -  1.69e-01 1.52e-04h  8\n",
      " 498 -5.1956287e+02 6.94e+00 4.35e+17  -1.0 9.01e+04    -  3.11e-02 1.51e-04h  8\n",
      " 499 -5.1955927e+02 6.94e+00 4.36e+17  -1.0 8.97e+04    -  1.86e-01 1.50e-04h  8\n",
      "iter    objective    inf_pr   inf_du lg(mu)  ||d||  lg(rg) alpha_du alpha_pr  ls\n",
      " 500 -5.1955570e+02 6.94e+00 4.36e+17  -1.0 8.94e+04    -  3.13e-02 1.49e-04h  8\n",
      " 501 -5.1955215e+02 6.94e+00 4.37e+17  -1.0 8.90e+04    -  2.23e-01 1.48e-04h  8\n",
      " 502 -5.1954863e+02 6.94e+00 4.37e+17  -1.0 8.87e+04    -  3.13e-02 1.47e-04h  8\n",
      " 503 -5.1954514e+02 6.95e+00 4.37e+17  -1.0 8.83e+04    -  1.59e-01 1.46e-04h  8\n",
      " 504 -5.1910114e+02 4.06e+01 4.29e+17  -1.0 8.80e+04    -  3.43e-02 1.85e-02w  1\n",
      " 505 -5.1909638e+02 4.06e+01 5.06e+17  -1.0 5.26e+04    -  6.51e-03 2.00e-04w  1\n",
      " 506 -5.1909593e+02 4.06e+01 6.27e+17  -1.0 6.85e+03    -  1.08e-04 1.90e-05w  1\n",
      " 507 -5.1954167e+02 6.95e+00 4.38e+17  -1.0 4.20e+03    -  3.43e-02 1.45e-04h  7\n",
      " 508 -5.1953822e+02 6.95e+00 4.39e+17  -1.0 8.77e+04    -  3.09e-01 1.44e-04h  8\n",
      " 509 -5.1953481e+02 6.95e+00 4.40e+17  -1.0 8.73e+04    -  3.15e-02 1.43e-04h  8\n",
      "iter    objective    inf_pr   inf_du lg(mu)  ||d||  lg(rg) alpha_du alpha_pr  ls\n",
      " 510 -5.1953141e+02 6.95e+00 4.40e+17  -1.0 8.70e+04    -  1.37e-01 1.42e-04h  8\n",
      " 511 -5.1952805e+02 6.95e+00 4.41e+17  -1.0 8.67e+04    -  3.78e-02 1.41e-04h  8\n",
      " 512 -5.1952470e+02 6.95e+00 4.43e+17  -1.0 8.64e+04    -  2.33e-01 1.39e-04h  8\n",
      " 513 -5.1952139e+02 6.95e+00 4.43e+17  -1.0 8.61e+04    -  3.43e-02 1.38e-04h  8\n",
      " 514 -5.1951809e+02 6.95e+00 4.44e+17  -1.0 8.58e+04    -  1.20e-01 1.37e-04h  8\n",
      " 515 -5.1951482e+02 6.95e+00 4.44e+17  -1.0 8.55e+04    -  4.15e-02 1.36e-04h  8\n",
      " 516 -5.1951158e+02 6.95e+00 4.45e+17  -1.0 8.52e+04    -  7.40e-02 1.35e-04h  8\n",
      " 517 -5.1909930e+02 3.38e+01 4.38e+17  -1.0 8.49e+04    -  5.42e-02 1.72e-02w  1\n",
      " 518 -5.1909487e+02 3.38e+01 5.32e+17  -1.0 5.32e+04    -  4.80e-03 1.85e-04w  1\n",
      " 519 -5.1909439e+02 3.38e+01 6.59e+17  -1.0 6.26e+03    -  9.91e-05 2.04e-05w  1\n",
      "iter    objective    inf_pr   inf_du lg(mu)  ||d||  lg(rg) alpha_du alpha_pr  ls\n",
      " 520 -5.1950836e+02 6.96e+00 4.45e+17  -1.0 4.20e+03    -  5.42e-02 1.34e-04h  7\n",
      " 521 -5.1950516e+02 6.96e+00 4.46e+17  -1.0 8.46e+04    -  5.19e-02 1.33e-04h  8\n",
      " 522 -5.1950199e+02 6.96e+00 4.47e+17  -1.0 8.43e+04    -  8.23e-02 1.32e-04h  8\n",
      " 523 -5.1949884e+02 6.96e+00 4.48e+17  -1.0 8.40e+04    -  3.90e-02 1.31e-04h  8\n",
      " 524 -5.1949571e+02 6.96e+00 4.51e+17  -1.0 8.37e+04    -  1.92e-01 1.31e-04h  8\n",
      " 525 -5.1949261e+02 6.96e+00 4.51e+17  -1.0 8.35e+04    -  3.05e-02 1.30e-04h  8\n",
      " 526 -5.1948953e+02 6.96e+00 4.68e+17  -1.0 8.32e+04    -  1.00e+00 1.29e-04h  8\n",
      " 527 -5.1948647e+02 6.96e+00 4.68e+17  -1.0 8.29e+04    -  2.69e-02 1.28e-04h  8\n",
      " 528 -5.1948343e+02 6.96e+00 4.68e+17  -1.0 8.27e+04    -  1.16e-01 1.27e-04h  8\n",
      " 529 -5.1948042e+02 6.96e+00 4.68e+17  -1.0 8.24e+04    -  3.79e-02 1.26e-04h  8\n",
      "iter    objective    inf_pr   inf_du lg(mu)  ||d||  lg(rg) alpha_du alpha_pr  ls\n",
      " 530 -5.1909756e+02 2.85e+01 4.64e+17  -1.0 8.21e+04    -  3.49e-01 1.60e-02w  1\n",
      " 531 -5.1909325e+02 2.85e+01 5.80e+17  -1.0 5.13e+04    -  1.21e-03 1.81e-04w  1\n",
      " 532 -5.1909273e+02 2.85e+01 7.91e+17  -1.0 5.78e+03    -  1.02e-04 2.16e-05w  1\n",
      " 533 -5.1947743e+02 6.96e+00 4.71e+17  -1.0 4.21e+03    -  3.49e-01 1.25e-04h  7\n",
      " 534 -5.1947446e+02 6.96e+00 4.71e+17  -1.0 8.19e+04    -  2.82e-02 1.24e-04h  8\n",
      " 535 -5.1947151e+02 6.96e+00 4.81e+17  -1.0 8.16e+04    -  1.00e+00 1.23e-04h  8\n",
      " 536 -5.1946859e+02 6.96e+00 4.81e+17  -1.0 8.14e+04    -  2.67e-02 1.22e-04h  8\n",
      " 537 -5.1946568e+02 6.96e+00 4.81e+17  -1.0 8.11e+04    -  6.36e-02 1.21e-04h  8\n",
      " 538 -5.1946280e+02 6.96e+00 4.82e+17  -1.0 8.09e+04    -  5.26e-02 1.20e-04h  8\n",
      " 539 -5.1945994e+02 6.96e+00 4.83e+17  -1.0 8.07e+04    -  1.14e-01 1.19e-04h  8\n",
      "iter    objective    inf_pr   inf_du lg(mu)  ||d||  lg(rg) alpha_du alpha_pr  ls\n",
      " 540 -5.1945426e+02 6.97e+00 4.83e+17  -1.0 8.04e+04    -  3.35e-02 2.37e-04h  7\n",
      " 541 -5.1944866e+02 6.97e+00 4.99e+17  -1.0 8.00e+04    -  1.00e+00 2.34e-04h  7\n",
      " 542 -5.1944315e+02 6.97e+00 4.99e+17  -1.0 7.95e+04    -  2.63e-02 2.30e-04h  7\n",
      " 543 -5.1909550e+02 2.34e+01 4.93e+17  -1.0 7.91e+04    -  9.63e-02 1.45e-02w  1\n",
      " 544 -5.1909175e+02 2.33e+01 6.29e+17  -1.0 5.39e+04    -  2.81e-03 1.57e-04w  1\n",
      " 545 -5.1909113e+02 2.33e+01 7.95e+17  -1.0 4.84e+03    -  1.01e-04 2.60e-05w  1\n",
      " 546 -5.1943772e+02 6.97e+00 5.00e+17  -1.0 4.21e+03    -  9.63e-02 2.27e-04h  6\n",
      " 547 -5.1943236e+02 6.98e+00 5.01e+17  -1.0 7.86e+04    -  4.01e-02 2.24e-04h  7\n",
      " 548 -5.1942709e+02 6.98e+00 5.24e+17  -1.0 7.82e+04    -  1.00e+00 2.20e-04h  7\n",
      " 549 -5.1942190e+02 6.98e+00 5.24e+17  -1.0 7.78e+04    -  2.59e-02 2.17e-04h  7\n",
      "iter    objective    inf_pr   inf_du lg(mu)  ||d||  lg(rg) alpha_du alpha_pr  ls\n",
      " 550 -5.1941678e+02 6.98e+00 5.29e+17  -1.0 7.74e+04    -  3.67e-01 2.14e-04h  7\n",
      " 551 -5.1941174e+02 6.98e+00 5.29e+17  -1.0 7.70e+04    -  2.81e-02 2.11e-04h  7\n"
     ]
    },
    {
     "name": "stdout",
     "output_type": "stream",
     "text": [
      " 552 -5.1940677e+02 6.99e+00 5.31e+17  -1.0 7.66e+04    -  1.06e-01 2.07e-04h  7\n",
      " 553 -5.1940188e+02 6.99e+00 5.32e+17  -1.0 7.63e+04    -  3.34e-02 2.04e-04h  7\n",
      " 554 -5.1939706e+02 6.99e+00 5.47e+17  -1.0 7.59e+04    -  4.30e-01 2.01e-04h  7\n",
      " 555 -5.1939231e+02 6.99e+00 5.48e+17  -1.0 7.55e+04    -  2.64e-02 1.98e-04h  7\n",
      " 556 -5.1909299e+02 1.79e+01 5.45e+17  -1.0 7.52e+04    -  1.05e-01 1.25e-02w  1\n",
      " 557 -5.1908976e+02 1.79e+01 7.09e+17  -1.0 5.41e+04    -  2.18e-03 1.35e-04w  1\n",
      " 558 -5.1908912e+02 1.79e+01 9.09e+17  -1.0 4.37e+03    -  1.03e-04 2.70e-05w  1\n",
      " 559 -5.1938763e+02 6.99e+00 5.52e+17  -1.0 4.21e+03    -  1.05e-01 1.95e-04h  6\n",
      "iter    objective    inf_pr   inf_du lg(mu)  ||d||  lg(rg) alpha_du alpha_pr  ls\n",
      " 560 -5.1938303e+02 6.99e+00 5.53e+17  -1.0 7.49e+04    -  3.38e-02 1.93e-04h  7\n",
      " 561 -5.1937849e+02 6.99e+00 5.74e+17  -1.0 7.45e+04    -  4.13e-01 1.90e-04h  7\n",
      " 562 -5.1937402e+02 6.99e+00 5.75e+17  -1.0 7.42e+04    -  2.61e-02 1.87e-04h  7\n",
      " 563 -5.1936961e+02 7.00e+00 5.79e+17  -1.0 7.39e+04    -  1.02e-01 1.84e-04h  7\n",
      " 564 -5.1936528e+02 7.00e+00 5.81e+17  -1.0 7.36e+04    -  3.34e-02 1.81e-04h  7\n",
      " 565 -5.1936100e+02 7.00e+00 6.04e+17  -1.0 7.33e+04    -  3.84e-01 1.79e-04h  7\n",
      " 566 -5.1935679e+02 7.00e+00 6.06e+17  -1.0 7.30e+04    -  2.58e-02 1.76e-04h  7\n",
      " 567 -5.1935265e+02 7.00e+00 6.11e+17  -1.0 7.27e+04    -  1.01e-01 1.73e-04h  7\n",
      " 568 -5.1934856e+02 7.00e+00 6.13e+17  -1.0 7.24e+04    -  3.28e-02 1.71e-04h  7\n",
      " 569 -5.1909107e+02 1.44e+01 6.34e+17  -1.0 7.21e+04    -  3.89e-01 1.08e-02w  1\n",
      "iter    objective    inf_pr   inf_du lg(mu)  ||d||  lg(rg) alpha_du alpha_pr  ls\n",
      " 570 -5.1908801e+02 1.44e+01 8.07e+17  -1.0 4.95e+04    -  6.72e-04 1.28e-04w  1\n",
      " 571 -5.1908753e+02 1.44e+01 1.33e+18  -1.0 4.83e+03    -  1.15e-04 2.01e-05w  1\n",
      " 572 -5.1934454e+02 7.00e+00 6.42e+17  -1.0 4.22e+03    -  3.89e-01 1.68e-04h  6\n",
      " 573 -5.1934058e+02 7.00e+00 6.43e+17  -1.0 7.19e+04    -  2.54e-02 1.66e-04h  7\n",
      " 574 -5.1933667e+02 7.00e+00 6.50e+17  -1.0 7.16e+04    -  9.59e-02 1.63e-04h  7\n",
      " 575 -5.1933283e+02 7.00e+00 6.52e+17  -1.0 7.13e+04    -  3.28e-02 1.61e-04h  7\n",
      " 576 -5.1932904e+02 7.00e+00 6.89e+17  -1.0 7.11e+04    -  4.42e-01 1.58e-04h  7\n",
      " 577 -5.1932158e+02 7.01e+00 6.90e+17  -1.0 7.08e+04    -  2.48e-02 3.12e-04h  6\n",
      " 578 -5.1931434e+02 7.01e+00 6.98e+17  -1.0 7.04e+04    -  9.01e-02 3.03e-04h  6\n",
      " 579 -5.1930732e+02 7.01e+00 7.01e+17  -1.0 6.99e+04    -  3.29e-02 2.94e-04h  6\n",
      "iter    objective    inf_pr   inf_du lg(mu)  ||d||  lg(rg) alpha_du alpha_pr  ls\n",
      " 580 -5.1930051e+02 7.02e+00 7.80e+17  -1.0 6.94e+04    -  5.76e-01 2.85e-04h  6\n",
      " 581 -5.1929391e+02 7.02e+00 7.82e+17  -1.0 6.90e+04    -  2.38e-02 2.76e-04h  6\n",
      " 582 -5.1908891e+02 1.12e+01 7.85e+17  -1.0 6.86e+04    -  8.15e-02 8.57e-03w  1\n",
      " 583 -5.1908667e+02 1.12e+01 1.01e+18  -1.0 5.38e+04    -  1.51e-03 9.38e-05w  1\n",
      " 584 -5.1908592e+02 1.12e+01 1.29e+18  -1.0 4.20e+03    -  1.14e-04 3.12e-05w  1\n",
      " 585 -5.1928750e+02 7.02e+00 7.92e+17  -1.0 4.24e+03    -  8.15e-02 2.68e-04h  5\n",
      " 586 -5.1928129e+02 7.02e+00 7.97e+17  -1.0 6.82e+04    -  3.38e-02 2.60e-04h  6\n",
      " 587 -5.1927526e+02 7.02e+00 9.74e+17  -1.0 6.78e+04    -  9.59e-01 2.52e-04h  6\n",
      " 588 -5.1926941e+02 7.03e+00 9.74e+17  -1.0 6.75e+04    -  2.27e-02 2.45e-04h  6\n",
      " 589 -5.1926375e+02 7.03e+00 9.81e+17  -1.0 6.71e+04    -  7.28e-02 2.37e-04h  6\n",
      "iter    objective    inf_pr   inf_du lg(mu)  ||d||  lg(rg) alpha_du alpha_pr  ls\n",
      " 590 -5.1925825e+02 7.03e+00 9.85e+17  -1.0 6.68e+04    -  3.80e-02 2.30e-04h  6\n",
      " 591 -5.1925292e+02 7.03e+00 1.16e+18  -1.0 6.65e+04    -  1.00e+00 2.23e-04h  6\n",
      " 592 -5.1924775e+02 7.03e+00 1.16e+18  -1.0 6.62e+04    -  2.20e-02 2.16e-04h  6\n",
      " 593 -5.1924273e+02 7.03e+00 1.17e+18  -1.0 6.59e+04    -  7.76e-02 2.10e-04h  6\n",
      " 594 -5.1923787e+02 7.03e+00 1.17e+18  -1.0 6.56e+04    -  3.58e-02 2.03e-04h  6\n",
      " 595 -5.1908699e+02 9.06e+00 1.36e+18  -1.0 6.53e+04    -  1.00e+00 6.31e-03w  1\n",
      " 596 -5.1908449e+02 9.06e+00 1.54e+18  -1.0 3.60e+04    -  2.52e-04 1.05e-04w  1\n",
      " 597 -5.1908444e+02 9.06e+00 1.37e+19  -1.0 2.02e+04    -  2.21e-04 1.95e-06w  1\n",
      " 598 -5.1923316e+02 7.03e+00 1.37e+18  -1.0 4.84e+03    -  1.00e+00 1.97e-04h  5\n",
      " 599 -5.1922859e+02 7.03e+00 1.37e+18  -1.0 6.50e+04    -  2.13e-02 1.91e-04h  6\n",
      "iter    objective    inf_pr   inf_du lg(mu)  ||d||  lg(rg) alpha_du alpha_pr  ls\n",
      " 600 -5.1921972e+02 7.04e+00 1.38e+18  -1.0 6.48e+04    -  7.79e-02 3.71e-04h  5\n",
      " 601 -5.1921139e+02 7.04e+00 1.39e+18  -1.0 6.43e+04    -  3.37e-02 3.49e-04h  5\n",
      " 602 -5.1920357e+02 7.04e+00 1.75e+18  -1.0 6.38e+04    -  8.91e-01 3.28e-04h  5\n",
      " 603 -5.1919622e+02 7.05e+00 1.76e+18  -1.0 6.34e+04    -  2.01e-02 3.08e-04h  5\n",
      " 604 -5.1918932e+02 7.05e+00 1.79e+18  -1.0 6.30e+04    -  8.32e-02 2.89e-04h  5\n",
      " 605 -5.1918284e+02 7.05e+00 1.80e+18  -1.0 6.27e+04    -  2.91e-02 2.71e-04h  5\n",
      " 606 -5.1917675e+02 7.05e+00 2.20e+18  -1.0 6.23e+04    -  4.94e-01 2.55e-04h  5\n",
      " 607 -5.1917104e+02 7.05e+00 2.21e+18  -1.0 6.20e+04    -  1.90e-02 2.39e-04h  5\n",
      " 608 -5.1908518e+02 7.62e+00 2.29e+18  -1.0 6.17e+04    -  9.85e-02 3.60e-03w  1\n",
      " 609 -5.1908388e+02 7.62e+00 2.59e+18  -1.0 3.92e+04    -  3.13e-04 5.43e-05w  1\n",
      "iter    objective    inf_pr   inf_du lg(mu)  ||d||  lg(rg) alpha_du alpha_pr  ls\n",
      " 610 -5.1908338e+02 7.62e+00 4.01e+18  -1.0 4.20e+03    -  1.40e-04 2.12e-05w  1\n",
      " 611 -5.1916567e+02 7.05e+00 2.30e+18  -1.0 5.79e+03    -  9.85e-02 2.25e-04h  4\n",
      " 612 -5.1915559e+02 7.06e+00 2.33e+18  -1.0 6.14e+04    -  2.27e-02 4.22e-04h  4\n",
      " 613 -5.1914675e+02 7.06e+00 2.87e+18  -1.0 6.09e+04    -  2.86e-01 3.70e-04h  4\n",
      " 614 -5.1913899e+02 7.06e+00 2.91e+18  -1.0 6.05e+04    -  1.69e-02 3.25e-04h  4\n",
      " 615 -5.1913217e+02 7.07e+00 3.29e+18  -1.0 6.01e+04    -  1.12e-01 2.85e-04h  4\n",
      " 616 -5.1912620e+02 7.07e+00 3.36e+18  -1.0 5.97e+04    -  1.69e-02 2.50e-04h  4\n",
      " 617 -5.1911571e+02 7.07e+00 4.63e+18  -1.0 5.94e+04    -  2.10e-01 4.39e-04h  3\n",
      " 618 -5.1910779e+02 7.07e+00 4.75e+18  -1.0 5.88e+04    -  1.23e-02 3.32e-04h  3\n",
      " 619 -5.1910182e+02 7.08e+00 6.28e+18  -1.0 5.84e+04    -  8.70e-02 2.50e-04h  3\n",
      "iter    objective    inf_pr   inf_du lg(mu)  ||d||  lg(rg) alpha_du alpha_pr  ls\n",
      " 620 -5.1909280e+02 7.08e+00 6.52e+18  -1.0 5.80e+04    -  9.09e-03 3.78e-04h  2\n",
      " 621 -5.1908357e+02 7.08e+00 1.08e+19  -1.0 5.69e+04    -  3.20e-01 3.87e-04h  1\n",
      " 622 -5.1908296e+02 7.08e+00 1.08e+19  -1.0 4.20e+03    -  1.22e-04 2.53e-05h  1\n",
      " 623r-5.1908296e+02 7.08e+00 1.00e+03   0.7 0.00e+00    -  0.00e+00 3.42e-07R  4\n",
      " 624r-5.1939207e+02 3.26e+00 1.84e+05   0.7 2.51e+04    -  1.34e-03 5.67e-04f  1\n",
      " 625 -5.1927156e+02 3.25e+00 5.78e+03  -1.0 6.94e+03    -  1.60e-01 2.90e-03f  3\n",
      " 626 -5.1908655e+02 3.23e+00 5.75e+03  -1.0 6.86e+03    -  4.27e-03 4.50e-03h  2\n",
      " 627 -5.1889491e+02 3.22e+00 4.11e+05  -1.0 6.78e+03    -  2.09e-01 4.72e-03h  1\n",
      " 628 -5.1888699e+02 3.22e+00 1.14e+07  -1.0 5.22e+04    -  7.95e-03 3.00e-04h  1\n",
      " 629 -5.1888195e+02 3.22e+00 3.70e+07  -1.0 6.21e+04    -  1.40e-02 2.11e-04h  4\n",
      "iter    objective    inf_pr   inf_du lg(mu)  ||d||  lg(rg) alpha_du alpha_pr  ls\n",
      " 630 -5.1887754e+02 3.22e+00 7.87e+07  -1.0 6.18e+04    -  1.44e-02 1.85e-04h  4\n",
      " 631 -5.1887366e+02 3.22e+00 5.85e+08  -1.0 6.15e+04    -  4.74e-02 1.63e-04h  4\n",
      " 632 -5.1886679e+02 3.23e+00 2.66e+09  -1.0 6.07e+04    -  8.69e-03 2.89e-04h  3\n",
      " 633 -5.1886157e+02 3.23e+00 1.84e+10  -1.0 5.99e+04    -  8.50e-03 2.19e-04h  3\n",
      " 634 -5.1885762e+02 3.23e+00 1.71e+12  -1.0 5.94e+04    -  9.07e-02 1.66e-04h  3\n",
      " 635 -5.1885165e+02 3.23e+00 9.86e+12  -1.0 5.89e+04    -  3.77e-03 2.51e-04h  2\n",
      " 636 -5.1884556e+02 3.23e+00 3.83e+15  -1.0 5.83e+04    -  1.49e-01 2.56e-04h  1\n",
      " 637r-5.1884556e+02 3.23e+00 1.00e+03   0.3 0.00e+00    -  0.00e+00 4.84e-07R  4\n",
      " 638r-5.1919019e+02 1.49e+00 1.41e+05   0.3 3.35e+04    -  2.55e-03 9.91e-04f  1\n",
      " 639 -5.1909455e+02 1.49e+00 7.24e+03  -1.0 6.90e+03    -  1.57e-01 2.28e-03h  3\n",
      "iter    objective    inf_pr   inf_du lg(mu)  ||d||  lg(rg) alpha_du alpha_pr  ls\n",
      " 640 -5.1902129e+02 1.48e+00 4.20e+04  -1.0 6.82e+03    -  3.42e-02 1.76e-03h  3\n",
      " 641 -5.1890981e+02 1.48e+00 2.07e+06  -1.0 6.78e+03    -  2.46e-01 2.70e-03h  2\n",
      " 642 -5.1887612e+02 1.48e+00 1.59e+07  -1.0 2.00e+04    -  2.75e-02 9.41e-04h  3\n",
      " 643 -5.1887220e+02 1.48e+00 5.24e+07  -1.0 4.80e+04    -  1.97e-02 1.40e-04h  4\n",
      " 644 -5.1886370e+02 1.48e+00 9.37e+08  -1.0 4.13e+04    -  1.02e-01 2.85e-04h  3\n",
      " 645 -5.1883268e+02 1.48e+00 5.21e+09  -1.0 2.10e+04    -  1.47e-02 8.78e-04h  2\n"
     ]
    },
    {
     "name": "stdout",
     "output_type": "stream",
     "text": [
      " 646 -5.1878594e+02 1.47e+00 1.19e+12  -1.0 1.51e+04    -  4.14e-01 1.27e-03h  1\n",
      " 647 -5.1877426e+02 1.47e+00 3.34e+13  -1.0 6.61e+03    -  1.38e-02 2.90e-04h  1\n",
      " 648 -5.1876609e+02 1.47e+00 2.37e+16  -1.0 6.63e+03    -  1.45e-01 2.02e-04h  1\n",
      " 649r-5.1876609e+02 1.47e+00 1.00e+03   0.2 0.00e+00    -  0.00e+00 4.21e-07R  5\n",
      "iter    objective    inf_pr   inf_du lg(mu)  ||d||  lg(rg) alpha_du alpha_pr  ls\n",
      " 650r-5.1970026e+02 2.22e-01 3.45e+05   0.2 3.54e+04    -  5.04e-03 2.35e-03f  1\n",
      " 651 -5.1944171e+02 2.49e-01 3.94e+03  -1.0 6.87e+03    -  1.45e-01 5.94e-03h  2\n",
      " 652 -5.1930180e+02 2.56e-01 1.58e+05  -1.0 6.69e+03    -  2.11e-01 3.30e-03h  2\n",
      " 653 -5.1926527e+02 2.57e-01 1.09e+07  -1.0 6.55e+03    -  2.28e-01 8.79e-04h  3\n",
      " 654 -5.1926134e+02 2.57e-01 1.08e+08  -1.0 4.66e+04    -  7.38e-02 1.33e-04h  5\n",
      " 655 -5.1925829e+02 2.57e-01 1.90e+08  -1.0 5.26e+04    -  9.00e-03 1.09e-04h  5\n",
      " 656 -5.1925397e+02 2.57e-01 6.03e+09  -1.0 3.95e+04    -  1.91e-01 1.38e-04h  5\n",
      " 657 -5.1924024e+02 2.57e-01 1.15e+10  -1.0 2.63e+04    -  4.20e-03 3.96e-04h  4\n",
      " 658 -5.1922747e+02 2.57e-01 1.10e+12  -1.0 2.50e+04    -  3.33e-01 3.65e-04h  4\n",
      " 659 -5.1921543e+02 2.57e-01 2.56e+12  -1.0 2.35e+04    -  4.60e-03 3.41e-04h  4\n",
      "iter    objective    inf_pr   inf_du lg(mu)  ||d||  lg(rg) alpha_du alpha_pr  ls\n",
      " 660 -5.1919379e+02 2.57e-01 3.70e+14  -1.0 2.30e+04    -  3.91e-01 6.10e-04h  3\n",
      " 661 -5.1912561e+02 2.58e-01 9.27e+14  -1.0 2.21e+04    -  5.25e-03 1.91e-03w  1\n",
      " 662 -5.1912000e+02 2.58e-01 2.73e+17  -1.0 6.32e+03    -  5.91e-01 1.40e-04w  1\n",
      " 663 -5.1911740e+02 2.58e-01 7.13e+18  -1.0 6.52e+03    -  1.87e-01 6.28e-05w  1\n",
      " 664 -5.1917675e+02 2.57e-01 1.17e+15  -1.0 4.10e+03    -  5.25e-03 4.78e-04h  2\n",
      " 665 -5.1916345e+02 2.57e-01 4.69e+15  -1.0 2.14e+04    -  2.00e-01 3.72e-04h  3\n",
      " 666 -5.1912454e+02 2.57e-01 4.99e+17  -1.0 6.96e+03    -  1.55e-01 9.72e-04h  1\n",
      " 667 -5.1912294e+02 2.57e-01 5.00e+17  -1.0 6.47e+04    -  6.47e-02 6.69e-05h  3\n",
      " 668 -5.1912173e+02 2.57e-01 5.00e+17  -1.0 6.40e+04    -  4.68e-03 5.08e-05h  3\n",
      " 669 -5.1911987e+02 2.57e-01 5.00e+17  -1.0 6.31e+04    -  2.41e-01 7.75e-05h  2\n",
      "iter    objective    inf_pr   inf_du lg(mu)  ||d||  lg(rg) alpha_du alpha_pr  ls\n",
      " 670 -5.1911786e+02 2.57e-01 5.10e+17  -1.0 5.91e+04    -  1.54e-03 8.37e-05h  1\n",
      " 671 -5.1911734e+02 2.57e-01 7.84e+17  -1.0 4.28e+03    -  2.16e-04 1.89e-05h  1\n",
      " 672r-5.1911734e+02 2.57e-01 1.00e+03  -0.7 0.00e+00    -  0.00e+00 2.51e-07R  5\n",
      " 673r-5.1911183e+02 1.30e-01 8.31e+04  -0.7 2.37e+03    -  7.15e-03 9.90e-04f  1\n",
      " 674 -5.1907549e+02 1.30e-01 7.94e+04  -1.0 6.64e+03    -  1.59e-01 8.61e-04h  1\n",
      " 675 -5.1907498e+02 1.30e-01 4.81e+07  -1.0 2.57e+04    -  8.86e-03 1.47e-05h  1\n",
      " 676 -5.1907389e+02 1.30e-01 2.72e+09  -1.0 5.89e+04    -  6.39e-03 4.57e-05h  2\n",
      " 677 -5.1907272e+02 1.30e-01 3.54e+12  -1.0 5.52e+04    -  6.65e-02 4.93e-05h  1\n",
      " 678r-5.1907272e+02 1.30e-01 1.00e+03  -1.0 0.00e+00    -  0.00e+00 3.67e-07R  2\n",
      " 679r-5.1907232e+02 8.38e-02 2.25e+05  -1.0 1.80e+03    -  1.04e-01 1.12e-03f  1\n",
      "iter    objective    inf_pr   inf_du lg(mu)  ||d||  lg(rg) alpha_du alpha_pr  ls\n",
      " 680r-5.1908059e+02 7.37e-02 6.32e+05  -1.0 8.64e+01    -  3.81e-01 7.15e-02f  1\n",
      " 681 -5.1907650e+02 7.37e-02 1.89e+05  -1.0 6.51e+03    -  1.65e-01 9.87e-05f  3\n",
      " 682 -5.1906927e+02 7.37e-02 3.62e+07  -1.0 1.49e+04    -  7.45e-02 1.94e-04h  2\n",
      " 683 -5.1900163e+02 3.89e-01 3.60e+07  -1.0 6.34e+04    -  2.81e-03 2.81e-03s 14\n",
      " 684r-5.1900163e+02 3.89e-01 1.00e+03  -0.6 0.00e+00    -  0.00e+00 0.00e+00R  1\n",
      " 685r-5.1900181e+02 7.28e-02 8.15e+05  -0.6 2.55e+02    -  1.75e-01 9.91e-04f  1\n",
      " 686r-5.1903715e+02 7.36e-02 8.45e+05  -0.6 9.65e+01    -  5.48e-01 1.77e-01f  1\n",
      " 687 -5.1902766e+02 7.37e-02 3.90e+04  -1.0 5.78e+03    -  6.56e-02 2.58e-04h  3\n",
      " 688 -5.1902042e+02 7.37e-02 1.22e+06  -1.0 5.74e+03    -  2.40e-02 1.98e-04h  3\n",
      " 689 -5.1901868e+02 7.37e-02 2.83e+07  -1.0 2.36e+04    -  1.89e-02 5.33e-05h  5\n",
      "iter    objective    inf_pr   inf_du lg(mu)  ||d||  lg(rg) alpha_du alpha_pr  ls\n",
      " 690r-5.1901868e+02 7.37e-02 1.00e+03  -1.0 0.00e+00    -  0.00e+00 3.73e-07R 15\n",
      " 691r-5.1901882e+02 5.24e-02 5.69e+05  -1.0 1.30e+02    -  4.00e-01 1.34e-03f  1\n",
      " 692 -5.1901279e+02 5.24e-02 1.34e+05  -1.0 5.76e+03    -  7.09e-02 1.65e-04h  2\n",
      " 693 -5.1900939e+02 5.24e-02 1.09e+07  -1.0 1.12e+04    -  1.60e-02 9.80e-05h  2\n",
      " 694r-5.1900939e+02 5.24e-02 9.98e+02  -1.0 0.00e+00    -  0.00e+00 2.83e-07R 14\n",
      " 695r-5.1901001e+02 5.19e-02 8.02e+05  -1.0 1.60e+02    -  2.64e-01 5.79e-03f  1\n",
      " 696r-5.1903059e+02 8.67e-01 7.41e+05  -1.0 1.63e+02    -  3.76e-01 2.01e-01f  1\n",
      " 697r-5.1903256e+02 8.53e-01 5.67e+04  -1.0 7.23e+01    -  9.48e-01 1.57e-02f  1\n",
      " 698r-5.1951317e+02 8.01e-01 1.21e+04  -1.0 2.85e+02    -  9.82e-01 9.13e-01f  1\n",
      " 699r-5.1972476e+02 6.48e-02 9.59e+00  -1.0 7.29e+01    -  9.96e-01 1.00e+00f  1\n",
      "iter    objective    inf_pr   inf_du lg(mu)  ||d||  lg(rg) alpha_du alpha_pr  ls\n",
      " 700 -5.1972380e+02 6.48e-02 1.31e+04  -1.0 6.50e+03    -  1.53e-01 2.33e-05h  7\n",
      " 701 -5.1951383e+02 1.10e-01 9.23e+03  -1.0 6.62e+03    -  5.00e-03 5.00e-03s 15\n",
      " 702r-5.1951383e+02 1.10e-01 9.99e+02  -1.0 0.00e+00    -  0.00e+00 0.00e+00R  1\n",
      " 703r-5.1951387e+02 4.00e-02 6.72e+05  -1.0 1.55e+02    -  2.34e-01 9.91e-04f  1\n",
      " 704r-5.1951387e+02 4.00e-02 9.96e+02  -1.0 0.00e+00    -  0.00e+00 3.99e-07R 11\n",
      " 705r-5.1951402e+02 6.52e-03 5.51e+05  -1.0 7.32e+01    -  4.87e-01 3.78e-03f  1\n",
      " 706r-5.1951402e+02 6.52e-03 9.85e+02  -1.0 0.00e+00    -  0.00e+00 4.96e-07R 12\n",
      " 707r-5.1951485e+02 7.08e-03 2.92e+05  -1.0 4.03e+01    -  6.61e-01 1.53e-02f  1\n",
      " 708r-5.1961108e+02 4.39e-02 2.21e+05  -1.0 7.32e+01    -  4.83e-01 7.06e-01f  1\n",
      " 709r-5.1980306e+02 1.00e+01 4.57e+04  -1.0 9.28e+01    -  9.75e-01 1.00e+00f  1\n",
      "iter    objective    inf_pr   inf_du lg(mu)  ||d||  lg(rg) alpha_du alpha_pr  ls\n",
      " 710r-5.2016041e+02 1.14e+00 7.06e+03  -1.0 1.35e+02    -  8.75e-01 1.00e+00h  1\n",
      " 711r-5.2017844e+02 4.47e-02 1.80e+02  -1.0 4.44e+00    -  9.94e-01 1.00e+00h  1\n",
      " 712r-5.2017864e+02 1.80e-03 1.86e-02  -1.0 3.15e-02    -  1.00e+00 1.00e+00h  1\n",
      " 713r-5.2017864e+02 1.80e-03 9.46e+02  -1.0 0.00e+00    -  0.00e+00 4.88e-07R  9\n",
      " 714r-5.2018165e+02 1.27e-02 4.34e+03  -1.0 2.52e+01    -  8.81e-01 5.64e-02f  1\n",
      " 715r-5.2045665e+02 1.01e+01 5.62e+02  -1.0 1.17e+02    -  9.75e-01 1.00e+00f  1\n",
      " 716r-5.2080681e+02 1.28e+00 1.38e+02  -1.0 1.19e+02    -  9.88e-01 1.00e+00h  1\n",
      " 717r-5.2081811e+02 1.07e-01 3.76e+00  -1.0 2.52e+00    -  1.00e+00 1.00e+00h  1\n",
      " 718r-5.2046283e+02 1.29e+00 1.72e+02  -1.7 1.66e+02    -  6.22e-01 6.70e-01f  1\n",
      " 719r-5.2033356e+02 7.85e-01 1.31e+02  -1.7 2.92e+01    -  7.67e-01 7.01e-01f  1\n",
      "iter    objective    inf_pr   inf_du lg(mu)  ||d||  lg(rg) alpha_du alpha_pr  ls\n",
      " 720r-5.2026672e+02 3.50e-02 1.47e+01  -1.7 1.06e+01    -  1.00e+00 1.00e+00f  1\n",
      " 721r-5.2027368e+02 1.75e-03 3.41e-01  -1.7 1.10e+00    -  1.00e+00 1.00e+00h  1\n",
      " 722r-5.2006480e+02 4.75e-01 3.07e+01  -2.5 9.01e+01    -  6.61e-01 6.68e-01f  1\n",
      " 723r-5.1982354e+02 2.01e-01 1.13e+02  -2.5 5.94e+01    -  6.94e-01 6.42e-01f  1\n",
      " 724r-5.1972029e+02 1.88e-02 1.10e+02  -2.5 1.74e+01    -  1.00e+00 9.36e-01f  1\n",
      " 725r-5.1972875e+02 2.74e-04 3.92e+00  -2.5 1.56e+00    -  1.00e+00 1.00e+00f  1\n",
      " 726 -5.1974220e+02 1.11e-02 2.12e+04  -1.0 1.05e+03    -  1.49e-01 2.71e-03f  3\n",
      " 727 -5.1975302e+02 1.93e-02 5.10e+04  -1.0 1.14e+03    -  2.08e-01 2.42e-03f  7\n",
      " 728 -5.1976086e+02 2.75e-02 1.06e+05  -1.0 1.74e+03    -  3.82e-01 2.59e-03f  7\n",
      " 729 -5.1975635e+02 3.57e-02 1.15e+05  -1.0 3.97e+03    -  6.94e-02 3.19e-03f  7\n",
      "iter    objective    inf_pr   inf_du lg(mu)  ||d||  lg(rg) alpha_du alpha_pr  ls\n",
      " 730 -5.1975387e+02 3.61e-02 1.28e+05  -1.0 4.61e+03    -  8.92e-02 8.70e-04f  9\n",
      " 731 -5.1971927e+02 6.89e-02 1.40e+05  -1.0 5.48e+03    -  8.37e-02 7.67e-03h  6\n",
      " 732 -5.1971897e+02 6.89e-02 1.72e+05  -1.0 5.68e+03    -  1.62e-01 5.68e-05h 13\n",
      " 733 -5.1971826e+02 6.89e-02 1.82e+05  -1.0 6.86e+03    -  4.60e-02 9.39e-05h 12\n",
      " 734 -5.1971789e+02 6.89e-02 2.91e+05  -1.0 7.09e+03    -  4.65e-01 4.55e-05h 13\n",
      " 735 -5.1940857e+02 8.00e-01 2.82e+05  -1.0 8.13e+03    -  3.12e-02 3.12e-02s 20\n",
      " 736r-5.1940857e+02 8.00e-01 1.00e+03  -0.3 0.00e+00    -  0.00e+00 0.00e+00R  1\n",
      " 737r-5.1940935e+02 1.27e-01 8.06e+03  -0.3 5.25e+02    -  4.81e-02 9.91e-04f  1\n",
      " 738 -5.1963856e+02 3.82e+00 1.20e+05  -1.0 6.23e+02    -  1.91e-01 6.38e-02f  1\n",
      " 739 -5.1967315e+02 8.65e+00 8.75e+04  -1.0 1.36e+02    -  6.19e-01 1.42e-01f  2\n",
      "iter    objective    inf_pr   inf_du lg(mu)  ||d||  lg(rg) alpha_du alpha_pr  ls\n",
      " 740 -5.1929396e+02 8.00e+00 1.02e+05  -1.0 3.62e+02    -  6.31e-01 1.65e-01h  3\n"
     ]
    },
    {
     "name": "stdout",
     "output_type": "stream",
     "text": [
      " 741 -5.1928308e+02 7.97e+00 2.15e+05  -1.0 4.42e+02    -  8.40e-01 3.87e-03h  9\n",
      " 742 -5.1927936e+02 7.95e+00 3.45e+05  -1.0 9.52e+02    -  9.63e-01 1.89e-03h 10\n",
      " 743 -5.1927753e+02 7.94e+00 4.42e+05  -1.0 1.56e+03    -  7.34e-01 1.73e-03h 10\n",
      " 744 -5.1814633e+02 2.00e+01 4.65e+04  -1.0 1.43e+03    -  9.06e-01 9.06e-01s 22\n",
      " 745 -5.1829606e+02 1.92e+01 4.38e+04  -1.0 2.96e+03    -  5.76e-02 5.76e-02s 22\n",
      " 746 -5.1849215e+02 1.80e+01 3.78e+04  -1.0 2.51e+03    -  1.35e-01 1.35e-01s 22\n",
      " 747 -5.1905313e+02 2.32e+01 2.08e+04  -1.0 2.38e+03    -  4.17e-01 4.17e-01s 22\n",
      " 748r-5.1905313e+02 2.32e+01 1.00e+03   1.2 0.00e+00    -  0.00e+00 0.00e+00R  1\n",
      " 749r-5.1905388e+02 2.47e+00 9.00e+03   1.2 1.53e+04    -  4.06e-02 9.91e-04f  1\n",
      "iter    objective    inf_pr   inf_du lg(mu)  ||d||  lg(rg) alpha_du alpha_pr  ls\n",
      " 750 -5.1904257e+02 2.42e+00 7.77e+03  -1.0 8.84e+01    -  6.81e-01 2.00e-02h  1\n",
      " 751 -5.1876376e+02 1.31e+00 4.84e+03  -1.0 8.82e+01    -  4.68e-01 4.95e-01h  2\n",
      " 752 -5.1848538e+02 6.87e-01 1.02e+04  -1.0 8.81e+01    -  9.87e-01 4.95e-01h  2\n",
      " 753 -5.1840998e+02 6.03e-01 2.96e+04  -1.0 2.49e+02    -  9.85e-01 1.24e-01h  4\n",
      " 754 -5.1836374e+02 5.65e-01 5.52e+04  -1.0 1.17e+02    -  1.00e+00 6.19e-02h  5\n",
      " 755 -5.1833808e+02 5.48e-01 8.42e+04  -1.0 1.30e+02    -  1.00e+00 3.10e-02h  6\n",
      " 756 -5.1747444e+02 3.12e-01 2.71e+04  -1.0 1.36e+02    -  1.00e+00 9.91e-01h  1\n",
      " 757 -5.1749347e+02 3.10e-01 3.19e+06  -1.0 2.48e+03    -  1.00e+00 5.23e-03h  8\n",
      " 758 -5.1750972e+02 3.01e-01 5.19e+06  -1.0 1.16e+03    -  1.00e+00 3.12e-02h  6\n",
      " 759 -5.1752060e+02 2.91e-01 6.47e+06  -1.0 1.08e+03    -  1.00e+00 3.12e-02h  6\n",
      "iter    objective    inf_pr   inf_du lg(mu)  ||d||  lg(rg) alpha_du alpha_pr  ls\n",
      " 760 -5.1753509e+02 2.82e-01 7.23e+06  -1.0 1.11e+03    -  1.00e+00 3.12e-02h  6\n",
      " 761 -5.1754627e+02 2.74e-01 7.66e+06  -1.0 1.05e+03    -  1.00e+00 3.12e-02h  6\n",
      " 762 -5.1755619e+02 2.65e-01 7.86e+06  -1.0 1.02e+03    -  1.00e+00 3.12e-02h  6\n",
      " 763 -5.1756508e+02 2.57e-01 7.90e+06  -1.0 9.94e+02    -  1.00e+00 3.12e-02h  6\n",
      " 764 -5.1757311e+02 2.49e-01 7.84e+06  -1.0 9.67e+02    -  1.00e+00 3.12e-02h  6\n",
      " 765 -5.1758044e+02 2.41e-01 7.71e+06  -1.0 9.43e+02    -  1.00e+00 3.12e-02h  6\n",
      " 766 -5.1758718e+02 2.34e-01 7.56e+06  -1.0 9.20e+02    -  1.00e+00 3.12e-02h  6\n",
      " 767 -5.1778641e+02 1.07e+01 7.54e+04  -1.0 8.99e+02    -  1.00e+00 1.00e+00w  1\n",
      " 768 -5.1550814e+02 1.35e+01 5.19e+05  -1.0 9.98e+02    -  1.00e+00 1.00e+00w  1\n",
      " 769 -5.1572490e+02 1.94e-02 1.43e+04  -1.0 3.56e+01    -  1.00e+00 1.00e+00h  1\n",
      "iter    objective    inf_pr   inf_du lg(mu)  ||d||  lg(rg) alpha_du alpha_pr  ls\n",
      " 770 -5.1566208e+02 1.46e-02 7.70e+02  -1.0 3.31e+01    -  1.00e+00 1.00e+00h  1\n",
      " 771 -5.1881583e+02 5.21e+01 1.09e+06  -2.5 3.00e+03    -  5.51e-01 6.63e-01f  1\n",
      " 772 -5.1956427e+02 4.54e+01 9.66e+05  -2.5 2.32e+03    -  1.71e-01 1.79e-01h  1\n",
      " 773 -5.2095516e+02 9.89e+00 1.86e+08  -2.5 7.81e+02    -  1.18e-03 1.00e+00h  1\n",
      " 774 -5.2126874e+02 9.89e-01 2.37e+07  -2.5 2.47e+02    -  1.00e+00 1.00e+00h  1\n",
      " 775 -5.2171191e+02 1.09e+00 1.29e+07  -2.5 2.67e+02    -  1.00e+00 1.00e+00h  1\n",
      " 776 -5.2210377e+02 8.21e-01 6.18e+06  -2.5 2.30e+02    -  1.00e+00 1.00e+00h  1\n",
      " 777 -5.2235845e+02 3.46e-01 2.01e+06  -2.5 1.48e+02    -  1.00e+00 1.00e+00h  1\n",
      " 778 -5.2273930e+02 7.70e-01 5.07e+05  -2.5 2.22e+02    -  1.00e+00 1.00e+00h  1\n",
      " 779 -5.2319358e+02 1.09e+00 1.82e+05  -2.5 2.62e+02    -  1.00e+00 1.00e+00h  1\n",
      "iter    objective    inf_pr   inf_du lg(mu)  ||d||  lg(rg) alpha_du alpha_pr  ls\n",
      " 780 -5.2347523e+02 4.19e-01 4.99e+05  -2.5 1.61e+02    -  1.00e+00 1.00e+00h  1\n",
      " 781 -5.2347564e+02 3.73e-06 7.57e+03  -2.5 2.36e-01  -0.2 1.00e+00 1.00e+00h  1\n",
      " 782 -5.2347563e+02 1.41e-09 6.72e+01  -2.5 9.36e-03  -0.7 1.00e+00 1.00e+00h  1\n",
      " 783 -5.2374337e+02 3.77e-01 1.51e+04  -3.8 7.72e+03    -  2.51e-02 1.98e-02f  1\n",
      " 784 -5.2398151e+02 2.98e-01 1.68e+06  -3.8 1.35e+02    -  4.41e-01 1.00e+00h  1\n",
      " 785 -5.2396978e+02 1.42e-01 4.61e+05  -3.8 2.17e+01  -1.2 1.68e-01 5.26e-01h  1\n",
      " 786 -5.2397004e+02 3.33e-03 4.45e+04  -3.8 1.43e+01    -  1.00e+00 1.00e+00h  1\n",
      " 787 -5.2397009e+02 1.54e-07 5.34e+01  -3.8 6.54e-02  -1.7 1.00e+00 1.00e+00h  1\n",
      " 788 -5.2409221e+02 1.23e-01 8.63e+03  -3.8 1.65e+02    -  1.00e+00 4.21e-01f  1\n",
      " 789 -5.2410096e+02 1.22e-01 1.30e+07  -3.8 4.07e+02    -  2.92e-01 1.22e-02h  1\n",
      "iter    objective    inf_pr   inf_du lg(mu)  ||d||  lg(rg) alpha_du alpha_pr  ls\n",
      " 790 -5.2425044e+02 1.80e-01 4.73e+07  -3.8 4.44e+02    -  1.00e+00 1.90e-01f  1\n",
      " 791 -5.2452084e+02 5.50e-01 9.15e+08  -3.8 2.37e+03    -  1.00e+00 6.43e-02f  1\n",
      " 792 -5.2451137e+02 5.50e-01 1.48e+09  -3.8 5.99e+03    -  2.53e-01 8.87e-04h 10\n",
      " 793 -5.2450567e+02 5.50e-01 2.98e+09  -3.8 6.30e+03    -  5.91e-01 5.08e-04h 11\n",
      " 794 -5.2449610e+02 5.50e-01 3.54e+09  -3.8 6.51e+03    -  3.36e-01 8.25e-04h 11\n",
      " 795 -5.2448724e+02 5.50e-01 5.97e+09  -3.8 6.92e+03    -  1.00e+00 7.20e-04h 11\n",
      " 796 -5.2448137e+02 5.50e-01 6.37e+09  -3.8 7.36e+03    -  2.41e-01 4.47e-04h 12\n",
      " 797 -5.2447601e+02 5.50e-01 9.12e+09  -3.8 7.70e+03    -  1.00e+00 3.91e-04h 12\n",
      " 798 -5.2446969e+02 5.50e-01 9.49e+09  -3.8 8.05e+03    -  2.21e-01 4.41e-04h 12\n",
      " 799 -5.2446392e+02 5.50e-01 1.34e+10  -3.8 8.52e+03    -  1.00e+00 3.80e-04h 12\n",
      "iter    objective    inf_pr   inf_du lg(mu)  ||d||  lg(rg) alpha_du alpha_pr  ls\n",
      " 800 -5.2445761e+02 5.50e-01 1.40e+10  -3.8 9.02e+03    -  1.97e-01 3.93e-04h 12\n",
      " 801 -5.2445168e+02 5.50e-01 2.10e+10  -3.8 9.67e+03    -  1.00e+00 3.45e-04h 12\n",
      " 802 -5.1153044e+02 9.13e+02 5.50e+09  -3.8 1.04e+04    -  1.71e-01 6.99e-01w  1\n",
      " 803 -5.1229341e+02 8.78e+02 8.39e+09  -3.8 6.40e+03    -  2.37e-04 3.92e-02w  1\n",
      " 804 -5.1229357e+02 8.78e+02 7.00e+09  -3.8 5.83e+03    -  2.30e-03 7.86e-06w  1\n",
      " 805 -5.2444852e+02 5.50e-01 2.20e+10  -3.8 5.83e+03    -  1.71e-01 1.71e-04h 12\n",
      " 806 -5.2444537e+02 5.50e-01 3.11e+10  -3.8 1.08e+04    -  1.00e+00 1.64e-04h 13\n",
      " 807 -5.2444222e+02 5.50e-01 3.19e+10  -3.8 1.13e+04    -  1.57e-01 1.57e-04h 13\n",
      " 808 -5.2443906e+02 5.50e-01 4.24e+10  -3.8 1.18e+04    -  1.00e+00 1.50e-04h 13\n",
      " 809 -5.2443591e+02 5.50e-01 4.35e+10  -3.8 1.25e+04    -  1.43e-01 1.42e-04h 13\n",
      "iter    objective    inf_pr   inf_du lg(mu)  ||d||  lg(rg) alpha_du alpha_pr  ls\n",
      " 810 -5.2443276e+02 5.50e-01 5.99e+10  -3.8 1.31e+04    -  1.00e+00 1.35e-04h 13\n",
      " 811 -5.2442961e+02 5.50e-01 6.15e+10  -3.8 1.39e+04    -  1.28e-01 1.27e-04h 13\n",
      " 812 -5.2442646e+02 5.50e-01 8.87e+10  -3.8 1.48e+04    -  1.00e+00 1.20e-04h 13\n",
      " 813 -5.2442331e+02 5.50e-01 9.11e+10  -3.8 1.58e+04    -  1.12e-01 1.12e-04h 13\n",
      " 814 -5.2442016e+02 5.50e-01 1.38e+11  -3.8 1.71e+04    -  9.58e-01 1.04e-04h 13\n",
      " 815 -5.1152352e+02 9.10e+02 5.83e+10  -3.8 1.85e+04    -  9.65e-02 3.92e-01w  1\n",
      " 816 -5.1229058e+02 8.75e+02 2.84e+10  -3.8 6.42e+03    -  2.07e-04 3.95e-02w  1\n",
      " 817 -5.1229073e+02 8.75e+02 3.73e+10  -3.8 5.85e+03    -  4.14e-03 7.94e-06w  1\n",
      " 818 -5.2441859e+02 5.50e-01 1.42e+11  -3.8 5.85e+03    -  9.65e-02 4.78e-05h 13\n",
      " 819 -5.2441701e+02 5.50e-01 1.92e+11  -3.8 1.93e+04    -  7.62e-01 4.57e-05h 14\n",
      "iter    objective    inf_pr   inf_du lg(mu)  ||d||  lg(rg) alpha_du alpha_pr  ls\n",
      " 820 -5.2441544e+02 5.50e-01 1.96e+11  -3.8 2.03e+04    -  9.03e-02 4.37e-05h 14\n",
      " 821 -5.2441386e+02 5.50e-01 2.61e+11  -3.8 2.13e+04    -  7.98e-01 4.16e-05h 14\n",
      " 822 -5.2441229e+02 5.50e-01 2.66e+11  -3.8 2.24e+04    -  8.09e-02 3.95e-05h 14\n",
      " 823 -5.2441072e+02 5.50e-01 3.00e+11  -3.8 2.37e+04    -  2.97e-01 3.73e-05h 14\n",
      " 824 -5.2440914e+02 5.50e-01 3.12e+11  -3.8 2.52e+04    -  8.49e-02 3.52e-05h 14\n",
      " 825 -5.2440757e+02 5.50e-01 4.19e+11  -3.8 2.68e+04    -  4.69e-01 3.30e-05h 14\n",
      " 826r-5.2440757e+02 5.50e-01 1.00e+03  -0.4 0.00e+00    -  0.00e+00 4.81e-07R 20\n",
      " 827r-5.2441067e+02 4.45e-01 1.98e+04  -0.4 3.05e+03    -  1.08e-05 2.16e-04f  1\n",
      " 828 -5.2439343e+02 2.64e-03 1.00e+03  -3.8 1.22e+01    -  7.12e-01 1.00e+00h  1\n",
      " 829 -5.2439983e+02 2.48e-03 9.78e+03  -3.8 2.53e+01    -  9.07e-01 1.26e-01h  1\n",
      "iter    objective    inf_pr   inf_du lg(mu)  ||d||  lg(rg) alpha_du alpha_pr  ls\n",
      " 830 -5.2488304e+02 1.20e+00 3.25e+05  -3.8 2.70e+02    -  9.68e-01 1.00e+00f  1\n",
      " 831 -5.2804925e+02 5.23e+01 2.88e+06  -3.8 9.14e+03    -  5.49e-01 1.93e-01f  1\n",
      " 832 -5.2805149e+02 5.23e+01 2.88e+06  -3.8 1.86e+04    -  1.60e-02 5.17e-05h  1\n",
      " 833 -5.2848162e+02 4.85e+01 1.98e+07  -3.8 2.16e+03    -  3.16e-01 8.43e-02h  1\n"
     ]
    },
    {
     "name": "stdout",
     "output_type": "stream",
     "text": [
      " 834 -5.2848238e+02 4.85e+01 1.58e+07  -3.8 1.97e+03    -  3.06e-03 1.55e-04h  1\n",
      " 835 -5.2912490e+02 4.34e+01 1.16e+08  -3.8 1.96e+03    -  7.18e-03 1.31e-01f  1\n",
      " 836 -5.2917801e+02 4.30e+01 1.18e+08  -3.8 1.07e+03    -  1.17e-04 1.04e-02h  1\n",
      " 837 -5.2975921e+02 3.85e+01 7.98e+07  -3.8 1.38e+03    -  3.96e-02 1.14e-01h  1\n",
      " 838 -5.2975933e+02 3.85e+01 7.95e+07  -3.8 1.51e+03    -  2.74e-03 2.29e-05h  1\n",
      " 839 -5.3094814e+02 3.18e+01 1.88e+08  -3.8 1.50e+03    -  6.10e-04 2.42e-01f  1\n",
      "iter    objective    inf_pr   inf_du lg(mu)  ||d||  lg(rg) alpha_du alpha_pr  ls\n",
      " 840 -5.3094842e+02 3.18e+01 1.95e+08  -3.8 1.44e+03    -  7.34e-03 5.24e-05h  1\n",
      " 841 -5.3163154e+02 2.82e+01 1.08e+08  -3.8 1.44e+03    -  8.70e-04 1.38e-01f  1\n",
      " 842 -5.3163165e+02 2.82e+01 1.08e+08  -3.8 1.43e+03    -  4.57e-03 2.24e-05h  1\n",
      " 843 -5.3389344e+02 2.39e+01 8.75e+08  -3.8 1.42e+03    -  5.15e-03 4.76e-01f  1\n",
      " 844 -5.3389527e+02 2.39e+01 8.75e+08  -3.8 1.36e+03    -  2.70e-02 3.28e-04h  1\n",
      " 845 -5.3435885e+02 2.21e+01 8.05e+08  -3.8 1.36e+03    -  3.35e-01 8.59e-02f  1\n",
      " 846 -5.3435894e+02 2.21e+01 8.05e+08  -3.8 1.35e+03    -  2.47e-03 1.69e-05h  1\n",
      " 847 -5.3567886e+02 1.89e+01 3.27e+08  -3.8 1.34e+03    -  3.30e-03 2.58e-01f  1\n",
      " 848 -5.3567914e+02 1.89e+01 3.27e+08  -3.8 1.31e+03    -  2.01e-02 5.05e-05h  1\n",
      " 849 -5.3703028e+02 1.65e+01 2.88e+08  -3.8 1.31e+03    -  1.38e-03 2.62e-01f  1\n",
      "iter    objective    inf_pr   inf_du lg(mu)  ||d||  lg(rg) alpha_du alpha_pr  ls\n",
      " 850 -5.3703057e+02 1.65e+01 2.88e+08  -3.8 1.28e+03    -  2.23e-02 5.16e-05h  1\n",
      " 851 -5.3810015e+02 1.46e+01 9.86e+08  -3.8 1.28e+03    -  5.51e-04 2.05e-01f  1\n",
      " 852 -5.3810251e+02 1.45e+01 9.80e+08  -3.8 1.25e+03    -  2.44e-01 4.15e-04h  1\n",
      " 853 -5.3810256e+02 1.45e+01 9.94e+08  -3.8 1.25e+03    -  6.92e-05 3.13e-05h  1\n",
      " 854 -5.3958579e+02 2.75e+01 2.67e+10  -3.8 1.25e+03    -  1.03e-04 8.73e-01f  1\n",
      " 855 -5.3958682e+02 2.75e+01 2.67e+10  -3.8 1.11e+03    -  7.97e-04 3.60e-04h  1\n",
      " 856r-5.3958682e+02 2.75e+01 1.00e+03   1.4 0.00e+00    -  0.00e+00 2.96e-08R  2\n",
      " 857r-5.3954882e+02 2.71e+01 1.47e+04   1.4 2.26e+04    -  3.44e-03 2.05e-05f  1\n",
      " 858r-5.3954923e+02 4.85e+00 1.35e+04   1.4 5.00e+03    -  1.55e-03 3.85e-03f  1\n",
      " 859 -5.3941236e+02 1.53e+00 1.24e+03  -3.8 3.46e+01    -  1.22e-02 6.87e-01h  1\n",
      "iter    objective    inf_pr   inf_du lg(mu)  ||d||  lg(rg) alpha_du alpha_pr  ls\n",
      " 860 -5.3919045e+02 4.73e-02 2.05e+05  -3.8 1.10e+01    -  4.06e-04 9.84e-01h  1\n",
      " 861 -5.3918146e+02 3.03e-02 1.32e+05  -3.8 2.21e+01    -  2.75e-01 3.60e-01h  1\n",
      " 862 -5.3913987e+02 3.31e-03 5.60e+04  -3.8 1.21e+01    -  6.47e-01 1.00e+00h  1\n",
      " 863 -5.3692942e+02 1.77e-03 8.27e+08  -3.8 2.10e+02    -  1.30e-01 1.00e+00H  1\n",
      " 864 -5.3701575e+02 7.73e-05 2.01e+07  -3.8 3.66e+01    -  8.31e-01 1.00e+00F  1\n",
      " 865 -5.3735462e+02 2.91e-03 9.16e+06  -3.8 1.44e+02    -  9.42e-01 1.00e+00F  1\n",
      " 866 -5.3738106e+02 4.40e-03 9.09e+06  -3.8 2.20e+03    -  6.87e-01 5.04e-03f  5\n",
      " 867 -5.3738797e+02 4.69e-03 9.07e+06  -3.8 1.32e+03    -  8.93e-01 2.20e-03f  7\n",
      " 868 -5.3739497e+02 4.98e-03 9.03e+06  -3.8 6.86e+02    -  9.86e-01 4.28e-03f  7\n",
      " 869 -5.3785039e+02 8.46e-01 5.70e+05  -3.8 5.39e+02    -  1.00e+00 3.54e-01f  1\n",
      "iter    objective    inf_pr   inf_du lg(mu)  ||d||  lg(rg) alpha_du alpha_pr  ls\n",
      " 870 -5.3864423e+02 2.82e+00 4.30e+07  -3.8 5.05e+02    -  8.27e-02 6.48e-01h  1\n",
      " 871 -5.3864497e+02 1.02e-05 3.20e+04  -3.8 2.90e+00    -  9.65e-01 1.00e+00h  1\n",
      " 872 -5.3864500e+02 5.09e-09 6.24e+01  -3.8 1.45e-02    -  1.00e+00 1.00e+00h  1\n",
      " 873 -5.3864527e+02 2.88e-07 1.24e+03  -5.7 1.29e-01    -  9.23e-01 8.46e-01f  1\n",
      " 874 -5.3864529e+02 1.73e-10 1.22e+00  -5.7 1.29e-03    -  1.00e+00 1.00e+00f  1\n",
      "In iteration 874, 1 Slack too small, adjusting variable bound\n",
      " 875 -5.3864530e+02 1.44e-10 4.16e-02  -8.6 1.13e-03    -  9.92e-01 9.92e-01h  1\n",
      " 876 -5.3864530e+02 4.57e-11 1.65e-06  -8.6 1.54e-06    -  1.00e+00 1.00e+00h  1\n",
      "\n",
      "Number of Iterations....: 876\n",
      "\n",
      "                                   (scaled)                 (unscaled)\n",
      "Objective...............:  -5.3864529545825292e+02   -5.3864529545825292e+02\n",
      "Dual infeasibility......:   1.6545775922693906e-06    1.6545775922693906e-06\n",
      "Constraint violation....:   4.5732456016578382e-11    4.5732456016578382e-11\n",
      "Complementarity.........:   2.5070755410472408e-09    2.5070755410472408e-09\n",
      "Overall NLP error.......:   2.5070755410472408e-09    1.6545775922693906e-06\n",
      "\n",
      "\n",
      "Number of objective function evaluations             = 5455\n",
      "Number of objective gradient evaluations             = 815\n",
      "Number of equality constraint evaluations            = 5455\n",
      "Number of inequality constraint evaluations          = 5455\n",
      "Number of equality constraint Jacobian evaluations   = 905\n",
      "Number of inequality constraint Jacobian evaluations = 905\n",
      "Number of Lagrangian Hessian evaluations             = 876\n",
      "Total CPU secs in IPOPT (w/o function evaluations)   =    122.847\n",
      "Total CPU secs in NLP function evaluations           =      7.263\n",
      "\n",
      "EXIT: Optimal Solution Found.\n"
     ]
    }
   ],
   "source": [
    "opt = pe.SolverFactory('ipopt')\n",
    "\n",
    "opt.options['print_user_options'] = 'yes'\n",
    "opt.options['linear_solver'] = 'ma86'\n",
    "\n",
    "opt.options['linear_system_scaling '] = 'mc19'\n",
    "opt.options['linear_scaling_on_demand '] = 'no'\n",
    "# opt.options['recalc_y'] = 'yes'\n",
    "# opt.options['bound_relax_factor'] = 0\n",
    "# opt.options['halt_on_ampl_error'] = 'yes'\n",
    "\n",
    "opt.options['max_iter'] = 7000\n",
    "results = opt.solve(model,tee=True)\n",
    "update_dual(pe,model)"
   ]
  },
  {
   "cell_type": "code",
   "execution_count": 20,
   "metadata": {
    "scrolled": true,
    "slideshow": {
     "slide_type": "skip"
    }
   },
   "outputs": [
    {
     "data": {
      "text/plain": [
       "538.6452954582529"
      ]
     },
     "execution_count": 20,
     "metadata": {},
     "output_type": "execute_result"
    }
   ],
   "source": [
    "model.T.value"
   ]
  },
  {
   "cell_type": "code",
   "execution_count": 21,
   "metadata": {},
   "outputs": [
    {
     "data": {
      "text/plain": [
       "473.1503769827638"
      ]
     },
     "execution_count": 21,
     "metadata": {},
     "output_type": "execute_result"
    }
   ],
   "source": [
    "model.MPCC.T.value"
   ]
  },
  {
   "cell_type": "code",
   "execution_count": 22,
   "metadata": {},
   "outputs": [
    {
     "data": {
      "text/plain": [
       "473.15"
      ]
     },
     "execution_count": 22,
     "metadata": {},
     "output_type": "execute_result"
    }
   ],
   "source": [
    "model.VLE_block.T_VLE.value"
   ]
  },
  {
   "cell_type": "code",
   "execution_count": 23,
   "metadata": {
    "scrolled": true
   },
   "outputs": [
    {
     "data": {
      "text/plain": [
       "3.677467769700983e-13"
      ]
     },
     "execution_count": 23,
     "metadata": {},
     "output_type": "execute_result"
    }
   ],
   "source": [
    "model.L['out'].value"
   ]
  },
  {
   "cell_type": "code",
   "execution_count": 24,
   "metadata": {},
   "outputs": [
    {
     "data": {
      "text/plain": [
       "1.0"
      ]
     },
     "execution_count": 24,
     "metadata": {},
     "output_type": "execute_result"
    }
   ],
   "source": [
    "sum(model.MPCC.y[i].value for i in m.COMP_TOTAL)"
   ]
  },
  {
   "cell_type": "code",
   "execution_count": null,
   "metadata": {
    "scrolled": false,
    "slideshow": {
     "slide_type": "slide"
    }
   },
   "outputs": [],
   "source": [
    "print('Component\\t\\tLiquid: {:.4f}\\t\\t\\tVapor: {:.4f}'.format(model.L['out'].value,model.V['out'].value))\n",
    "print('-'*108)\n",
    "for i in model.x:\n",
    "    print('{:10s}'.format(i),'\\t\\t{:8.4%}\\t\\t\\t{:8.4%}'.format(model.x[i].value,model.y[i].value))"
   ]
  },
  {
   "cell_type": "markdown",
   "metadata": {
    "slideshow": {
     "slide_type": "slide"
    }
   },
   "source": [
    "# Iterative Solve for Data Analysis"
   ]
  },
  {
   "cell_type": "code",
   "execution_count": null,
   "metadata": {},
   "outputs": [],
   "source": [
    "results_anchor = results\n",
    "update_dual(pe,model)\n",
    "model.solutions.store_to(results_anchor)"
   ]
  },
  {
   "cell_type": "code",
   "execution_count": null,
   "metadata": {},
   "outputs": [],
   "source": [
    "opt.options['warm_start_init_point'] = 'yes'\n",
    "opt.options['warm_start_bound_push'] = 1e-20\n",
    "opt.options['warm_start_mult_bound_push'] = 1e-20\n",
    "opt.options['mu_init'] = 1e-6"
   ]
  },
  {
   "cell_type": "code",
   "execution_count": null,
   "metadata": {},
   "outputs": [],
   "source": [
    "catrange = [3000,1000,500,300,100,50,25,10]\n",
    "Trange = np.linspace(300+273.15,200+273.15,26)"
   ]
  },
  {
   "cell_type": "code",
   "execution_count": null,
   "metadata": {
    "scrolled": false,
    "slideshow": {
     "slide_type": "fragment"
    }
   },
   "outputs": [],
   "source": [
    "rf_data_master = {}\n",
    "\n",
    "for c in catrange:\n",
    "    model.del_component(model.obj)\n",
    "    model.obj = pe.Objective(expr = model.cat ,sense=pe.minimize)\n",
    "\n",
    "    model.solutions.load_from(results_anchor)\n",
    "    update_dual(pe,model) \n",
    "       \n",
    "    model.T.fix(300+273.15)\n",
    "    model.cat.fixed = False\n",
    "    model.cat.setlb(c)\n",
    "    \n",
    "    results_anchor = opt.solve(model,tee=False)\n",
    "    model.solutions.store_to(results_anchor)\n",
    "    update_dual(pe,model)\n",
    "    \n",
    "    model.del_component(model.obj)\n",
    "    model.obj = pe.Objective(expr = model.T ,sense=pe.maximize)\n",
    "    model.T.fixed = False\n",
    "    model.cat.fixed = True\n",
    "    \n",
    "    \n",
    "    print('\\nWorking on Cat = {} kg'.format(model.cat.value))\n",
    "    print('-'*108)\n",
    "    \n",
    "    rf_data = {}\n",
    "    rf_data['x'] = {};rf_data['y'] = {};\n",
    "    rf_data['T'] = []; rf_data['Q'] = []; rf_data['V'] = []; rf_data['L'] = []; rf_data['P_VLE'] = []; \n",
    "    rf_data['s_L'] = [];\n",
    "    for i in m.COMP_TOTAL:\n",
    "        rf_data['x'][i] = []\n",
    "        rf_data['y'][i] = []       \n",
    "\n",
    "    for t in Trange:\n",
    "        model.T.setub(t)\n",
    "        results = opt.solve(model,tee=False)\n",
    "        update_dual(pe,model)\n",
    "        model.T.setub(300+273.15)\n",
    "        print('Solved\\t|T = {:.2f} K\\t|V = {:.4f} kmol/s\\t|L = {:.4f} kmol/s\\t|s_L = {:.4f}\\t|P_VLE = {:.1f}'.\\\n",
    "              format(model.T.value,model.V['out'].value,model.L['out'].value,model.MPCC.s_L.value,model.VLE_block.P_VLE.value))\n",
    "    \n",
    "        rf_data['T'].append(model.T.value)\n",
    "        rf_data['Q'].append(model.Q_main.value)\n",
    "        rf_data['V'].append(model.V['out'].value)\n",
    "        rf_data['L'].append(model.L['out'].value)\n",
    "        rf_data['P_VLE'].append(model.VLE_block.P_VLE.value)\n",
    "        rf_data['s_L'].append(model.MPCC.s_L.value)\n",
    "\n",
    "        for i in m.COMP_TOTAL:\n",
    "            rf_data['x'][i].append(model.x[i].value)\n",
    "            rf_data['y'][i].append(model.y[i].value)\n",
    "        \n",
    "    rf_data_master[c] = rf_data"
   ]
  },
  {
   "cell_type": "markdown",
   "metadata": {},
   "source": [
    "# Optimization results across disappearing phases"
   ]
  },
  {
   "cell_type": "code",
   "execution_count": null,
   "metadata": {},
   "outputs": [],
   "source": [
    "fig, (ax1,ax2) = plt.subplots(1,2,figsize=(16,9))\n",
    "for c in catrange:\n",
    "    ax1.plot(Trange,rf_data_master[c]['V'])\n",
    "ax1.set_ylabel('Vapor Flow Rate (kmol/s)',fontsize=14)\n",
    "ax1.set_xlabel('Temperature (K)',fontsize=14)\n",
    "ax1.tick_params(labelsize=14)\n",
    "ax1.grid()\n",
    "\n",
    "for c in catrange:\n",
    "    ax2.plot(Trange,rf_data_master[c]['L'])\n",
    "ax2.set_ylabel('Liquid Flow Rate (kmol/s)',fontsize=14)\n",
    "ax2.set_xlabel('Temperature (K)',fontsize=14)\n",
    "ax2.tick_params(labelsize=14)\n",
    "ax2.grid()\n",
    "\n",
    "ax2.legend(catrange,fontsize=14)\n",
    "fig.suptitle('Vapor and Liquid Flow Rate',fontsize=18)\n",
    "\n",
    "plt.show()"
   ]
  },
  {
   "cell_type": "code",
   "execution_count": null,
   "metadata": {},
   "outputs": [],
   "source": [
    "fig, ax1 = plt.subplots(figsize=(16,9))\n",
    "for c in catrange:\n",
    "    ax1.plot(Trange,np.divide(rf_data_master[c]['V'],np.add(rf_data_master[c]['V'],rf_data_master[c]['L'])))\n",
    "ax1.set_ylabel('Vapor Fraction',fontsize=14)\n",
    "ax1.set_xlabel('Temperature (K)',fontsize=14)\n",
    "ax1.tick_params(labelsize=14)\n",
    "ax1.legend(catrange,fontsize=14)\n",
    "ax1.set_title('Vapor Fraction',fontsize=18)\n",
    "ax1.grid()\n",
    "plt.show()"
   ]
  },
  {
   "cell_type": "code",
   "execution_count": null,
   "metadata": {},
   "outputs": [],
   "source": [
    "fig, ax1 = plt.subplots(figsize=(16,9))\n",
    "for c in catrange:\n",
    "    ax1.plot(Trange,rf_data_master[c]['P_VLE'])\n",
    "ax1.set_ylabel(r'$P_{VLE}$ value',fontsize=14)\n",
    "ax1.set_xlabel('Temperature (K)',fontsize=14)\n",
    "ax1.tick_params(labelsize=14)\n",
    "ax1.legend(catrange,fontsize=14)\n",
    "ax1.set_title(r'$P_{VLE}$ (Bar)',fontsize=18)\n",
    "ax1.grid()\n",
    "plt.show()"
   ]
  },
  {
   "cell_type": "code",
   "execution_count": null,
   "metadata": {},
   "outputs": [],
   "source": [
    "fig, ax1 = plt.subplots(figsize=(16,9))\n",
    "for c in catrange:\n",
    "    ax1.plot(Trange,np.multiply(rf_data_master[c]['s_L'],rf_data_master[c]['L']))\n",
    "ax1.set_ylabel(r'$s_L \\cdot L$ value',fontsize=14)\n",
    "ax1.set_xlabel('Temperature (K)',fontsize=14)\n",
    "ax1.tick_params(labelsize=14)\n",
    "ax1.legend(catrange,fontsize=14)\n",
    "# ax1.set_ylim(2.49e-5,2.51e-5)\n",
    "ax1.set_title(r'$s_L \\cdot L$',fontsize=18)\n",
    "ax1.grid()\n",
    "plt.show()"
   ]
  },
  {
   "cell_type": "code",
   "execution_count": null,
   "metadata": {},
   "outputs": [],
   "source": []
  }
 ],
 "metadata": {
  "kernelspec": {
   "display_name": "Python 3",
   "language": "python",
   "name": "python3"
  },
  "language_info": {
   "codemirror_mode": {
    "name": "ipython",
    "version": 3
   },
   "file_extension": ".py",
   "mimetype": "text/x-python",
   "name": "python",
   "nbconvert_exporter": "python",
   "pygments_lexer": "ipython3",
   "version": "3.6.3"
  }
 },
 "nbformat": 4,
 "nbformat_minor": 2
}
